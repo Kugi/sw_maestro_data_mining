{
 "metadata": {
  "name": ""
 },
 "nbformat": 3,
 "nbformat_minor": 0,
 "worksheets": [
  {
   "cells": [
    {
     "cell_type": "code",
     "collapsed": false,
     "input": [
      "%pylab inline\n",
      "from pandas import DataFrame, Series\n",
      "import pandas as pd\n",
      "import pandas.io.sql as sql\n",
      "import numpy as np\n",
      "import matplotlib.pyplot as plt\n",
      "from IPython.core.display import Image"
     ],
     "language": "python",
     "metadata": {},
     "outputs": [
      {
       "output_type": "stream",
       "stream": "stdout",
       "text": [
        "Populating the interactive namespace from numpy and matplotlib\n"
       ]
      }
     ],
     "prompt_number": 1
    },
    {
     "cell_type": "code",
     "collapsed": false,
     "input": [
      "__author__ = 'kugi'\n",
      "\n",
      "\n",
      "from datetime import datetime\n",
      "from sqlalchemy import *\n",
      "from sqlalchemy.orm import sessionmaker\n",
      "from sqlalchemy.ext.declarative import declarative_base\n",
      "\n",
      "\n",
      "class DatabaseManager():\n",
      "\n",
      "    __BaseObj__ = declarative_base()\n",
      "    __db__ = create_engine('postgresql://soma:maestro@)!#@soma1.buzzni.com/application')\n",
      "    __Session__ = sessionmaker(bind=__db__)\n",
      "    #__s__ = __Session__()\n",
      "\n",
      "    #__db__.echo = False  # Try changing this to True and see what happens\n",
      "    #__metadata__ = MetaData(__db__)\n",
      "\n",
      "\n",
      "    class Cache_query(__BaseObj__):\n",
      "        __tablename__ = 'query_freq'\n",
      "        query = Column('query', String(100), primary_key=True)\n",
      "        num = Column('num', Integer)\n",
      "        update_date = Column('update_date', Date(),default=datetime.now(), onupdate=datetime.now())\n",
      "        def __init__(self,query,num):\n",
      "            self.query=query\n",
      "            self.num=num\n",
      "\n",
      "    class Cache_pmi(__BaseObj__):\n",
      "        __tablename__ = 'app_keyword_pmi'\n",
      "        app_name = Column('app_name', String(100), primary_key=True)\n",
      "        keyword = Column('keyword', String(100), primary_key=True)\n",
      "        pmi = Column('pmi', Float)\n",
      "        update_date = Column('update_date', Date(),default=datetime.now(), onupdate=datetime.now())\n",
      "        def __init__(self,app_name,keyword,pmi):\n",
      "            self.app_name=app_name\n",
      "            self.keyword=keyword\n",
      "            self.pmi=pmi\n",
      "\n",
      "\n",
      "    @staticmethod\n",
      "    def create_table():\n",
      "        '''\n",
      "        recreate a new table.\n",
      "        '''\n",
      "        if DatabaseManager.__db__.dialect.has_table(DatabaseManager.__db__.connect(), \"query_freq\"):\n",
      "            DatabaseManager.__db__.execute(\"drop table query_freq;\")\n",
      "        metadata = DatabaseManager.Cache_query.metadata\n",
      "        metadata.create_all(DatabaseManager.__db__)\n",
      "\n",
      "\n",
      "    @staticmethod\n",
      "    def get_query_count(query):\n",
      "        s = DatabaseManager.__Session__()\n",
      "        result = s.query(DatabaseManager.Cache_query).filter(DatabaseManager.Cache_query.query==query)\n",
      "        #s.flush()\n",
      "        s.close_all()\n",
      "        if result.count()>0:\n",
      "            return result[0].num\n",
      "        return 0\n",
      "\n",
      "\n",
      "    @staticmethod\n",
      "    def set_query_count(query,count):\n",
      "        s = DatabaseManager.__Session__()\n",
      "        result = s.query(DatabaseManager.Cache_query).filter(DatabaseManager.Cache_query.query==query)\n",
      "\n",
      "        if result.count()>0:\n",
      "            result[0].num = count\n",
      "        else:\n",
      "            s.add(DatabaseManager.Cache_query(query,count))\n",
      "        s.commit()\n",
      "        s.close_all()\n",
      "\n",
      "    @staticmethod\n",
      "    def get_app_keyword_pmi(app_name, keyword):\n",
      "        s = DatabaseManager.__Session__()\n",
      "        result = s.query(DatabaseManager.Cache_pmi).\\\n",
      "            filter(DatabaseManager.Cache_pmi.app_name==app_name).\\\n",
      "            filter(DatabaseManager.Cache_pmi.keyword==keyword)\n",
      "        if result.count()>0:\n",
      "            return result[0].pmi\n",
      "        return 0\n",
      "\n",
      "    @staticmethod\n",
      "    def set_app_keyword_pmi(app_name, keyword, pmi):\n",
      "        s = DatabaseManager.__Session__()\n",
      "        result = s.query(DatabaseManager.Cache_pmi).\\\n",
      "            filter(DatabaseManager.Cache_pmi.app_name==app_name).\\\n",
      "            filter(DatabaseManager.Cache_pmi.keyword==keyword)\n",
      "        if result.count()>0:\n",
      "            result[0].pmi = pmi\n",
      "        else:\n",
      "            s.add(DatabaseManager.Cache_pmi(app_name, keyword, pmi))\n",
      "        s.commit()\n"
     ],
     "language": "python",
     "metadata": {},
     "outputs": [],
     "prompt_number": 2
    },
    {
     "cell_type": "markdown",
     "metadata": {},
     "source": [
      "\ub300\uc0c1 \ub370\uc774\ud130 \uc120\ubcc4 (rate, score\uc774\uc6a9)"
     ]
    },
    {
     "cell_type": "code",
     "collapsed": false,
     "input": [
      "import pandas as pd\n",
      "import pickle\n",
      "\n",
      "app2 =  pd.load('data/app_info2.df')\n",
      "app2_name = app2.loc[:,['name']]\n",
      "res = app2.ix[app2['rate_num_all']>=1000000]\n",
      "res2 = res.ix[res['score']>90]\n",
      "print res2.shape\n",
      "res3 = res2['name']\n",
      "res3"
     ],
     "language": "python",
     "metadata": {},
     "outputs": [
      {
       "output_type": "stream",
       "stream": "stderr",
       "text": [
        "/home/kugi/py-env2/swm2/local/lib/python2.7/site-packages/pandas/core/common.py:2106: FutureWarning: load is deprecated, use read_pickle\n",
        "  warnings.warn(\"load is deprecated, use read_pickle\", FutureWarning)\n"
       ]
      }
     ],
     "prompt_number": 4
    },
    {
     "cell_type": "code",
     "collapsed": false,
     "input": [
      "def load(fname):\n",
      "    ''' load the file using std open'''\n",
      "    f = open(fname,'r')\n",
      "\n",
      "    data = []\n",
      "    for line in f.readlines():\n",
      "        data.append(line.replace('\\n','').split(','))\n",
      "        \n",
      "    f.close()\n",
      "\n",
      "    return data"
     ],
     "language": "python",
     "metadata": {},
     "outputs": [],
     "prompt_number": 7
    },
    {
     "cell_type": "code",
     "collapsed": false,
     "input": [
      "key = load('data/Keyword.txt')\n",
      "keywords = [\"\"]\n",
      "keywords2 = [\"\"]\n",
      "for c in key[0]:\n",
      "   # keywords.append('+\"'+c.replace(\" \", \"\")+'\"')\n",
      "    keywords.append(c.replace(\" \", \"\"))\n",
      "    keywords2.append(c.replace(\" \", \"\"))\n",
      "\n",
      "print ' '.join(keywords2)"
     ],
     "language": "python",
     "metadata": {},
     "outputs": [
      {
       "output_type": "stream",
       "stream": "stdout",
       "text": [
        " \ufeff\ud37c\uc990 \uce90\uc8fc\uc5bc \uc544\ucf00\uc774\ub4dc \uc5ec\uc131 \ub0a8\uc131 \uce5c\uad6c \uc5f0\uc560 \uc5f0\uc608 \uc5bc\uad74 \uc18d\ub3c4 \ub3c8 \ub79c\ub364 random \uc74c\uc2dd \ubc29\ubc95 \uc548\ub4dc\ub85c\uc774\ub4dc \uc544\uc774\ud3f0 android iphone \uc624\ub77d \uc2ec\ub9ac \ubd80\uc790 \uc601\uc5b4 \ud1a0\uc775 \uacf5\ubd80 \uc77c\uc815 \ub2ec\ub825 \uacc4\ud68d \uacf5\ub7b5 \ub808\uc774\uc2f1 RPG \uce74\ub4dc \ub514\ud39c\uc2a4 \ub450\ub1cc \uc2dc\ubbac \ub2ec\ub9ac\uae30 \uc288\ud305 \ucd95\uad6c \uacbd\uc601 \ud0c0\uc774\ucfe4 \ud0c8\ucd9c \ucd94\ub9ac \uc7a5\uae30 \ube44\ud589\uae30 \uc0ac\ucc9c\uc131 \uc2a4\ud3ec\uce20 \ub18d\uad6c \ub09a\uc2dc \uc74c\uc545 \uce74\ud1a1 \uace8\ud504 \ub2f9\uad6c \uc57c\uad6c \ubcfc\ub9c1 \ud14c\uc774\uc2a4 \uc0bc\uad6d\uc9c0 TCG \uc804\uc7c1 \uac74\uac15 \uc6b4\ub3d9 \uad50\uc721 \uad50\ud1b5 \uae08\uc735 \ub0a0\uc528 \ub274\uc2a4 \uc7a1\uc9c0 \ub370\ucf54\ub808\uc774\uc158 \ub3c4\uad6c \ub3c4\uc11c \ucc38\uace0\uc790\ub8cc \ub77c\uc774\ube0c \ubc30\uacbd\ud654\uba74 \ub77c\uc774\ube0c\ub7ec\ub9ac \ub370\ubaa8 \ub77c\uc774\ud504\uc2a4\ud0c0\uc77c \ube14\ub85c\uadf8 \ub9cc\ud654 \ubbf8\ub514\uc5b4 \ub3d9\uc601\uc0c1 \ube44\uc988\ub2c8\uc2a4 \ud3b8\uc9d1 \uc0ac\uc9c4 \uc0dd\uc0b0\uc131 \uc18c\uc15c \ucf58\ud150\uce20 \uc1fc\ud551 \uc704\uc82f \uc790\ub3d9\ucc28 \uacbd\uc8fc \ub2e4\uc774\uc5b4\ud2b8 \ub2ec\ub825 \uc0dd\ub9ac \uce98\ub9b0\ub354 \uc0ac\uc8fc\ud314\uc790 \uad81\ud569 \uccb4\uc911 \uc0ac\uc804 \ucef4\ud4e8\ud130 \ubc31\uacfc\uc0ac\uc804 \uae09\uc2dd \ud559\uad50 \ucd08\ub4f1\ud559\uad50 \uc911\ud559\uad50 \uace0\ub4f1\ud559\uad50 \ub300\ud559\uad50 Korea \ub124\ube44\uac8c\uc774\uc158 \uc9c0\ud558\ucca0 \uc885\uacb0\uc790 \ub0b4\ube44 \uac00\uacc4\ubd80 Money \uc2a4\ub9c8\ud2b8 \uacc4\uc0b0\uae30 \uc740\ud589 \uac80\uc0c9\uc5b4 \uc2e4\uc2dc\uac04 \uc2e0\ubb38 \ud074\ub798\uc2dd \uc560\ub2c8 \ub09a\uc2dc \ub7f0\ucc98 \uc8fc\uc18c\ub85d \ud3f0 \ubc14\uc774\ub7ec\uc2a4 \ubcf4\uc548 \uc131\uacbd \ucc2c\uc1a1 \ubc14\uc774\ube14 \ubc31\uc2e0 \uc6f9 \uc2a4\ud2f0\ucee4 \uc0ac\uc8fc \uc6b4\uc138 \ucf54\ubbf9 3D \ubcc4\uc790\ub9ac tool \uc6f9\ud230 \ud50c\ub808\uc774\uc5b4 \uce74\uba54\ub77c \ubca8\uc18c\ub9ac \ud55c\uae00 \uc624\ud53c\uc2a4 office \uc54c\ubc14 photo \ub4dc\ub77c\uc774\ube0c \ud30c\uc77c \uac24\ub7ec\ub9ac \uadf8\ub8f9 \ubc14\ucf54\ub4dc \uc2a4\uce90\ub108 \uc18c\uc15c\ucee4\uba38\uc2a4 \uc18c\uc15c \uc131\uc778 sex \uc5b4\ub978 \uc139\uc2a4\n"
       ]
      }
     ],
     "prompt_number": 8
    },
    {
     "cell_type": "code",
     "collapsed": false,
     "input": [
      "__author__ = 'kugi'\n",
      "\n",
      "import re\n",
      "import time\n",
      "\n",
      "import requests\n",
      "from scrapy.selector import HtmlXPathSelector\n",
      "\n",
      "\n",
      "\n",
      "class PMICrawler(object):\n",
      "\n",
      "    def __init__(self, appname, keyword, startIndex=None, endIndex=None):\n",
      "        self.waitMinute = 0\n",
      "        self.appname = appname\n",
      "        self.keyword = keyword\n",
      "        self.both = self.appname + \"+\" + self.keyword\n",
      "\n",
      "    def __search(self,q):\n",
      "        \"\"\"\n",
      "        parameter:\n",
      "            q : String for search.\n",
      "        \"\"\"\n",
      "        try:\n",
      "            q ='+'.join(q.split())\n",
      "            xpath = \"\"\"//div[@id='content']/div[@class='blog section _blogBase']/div[@class='section_head']/span[@class='title_num']\"\"\"\n",
      "            html = requests.get(\"http://cafeblog.search.naver.com/search.naver?where=post&sm=tab_jum&ie=utf8&query=\"+q).text\n",
      "            hx = HtmlXPathSelector(text=html)\n",
      "            items = hx.select(xpath)\n",
      "            inputstr = (items.extract()[0].split()[3]+\"\")\n",
      "            result = int(''.join(re.findall(r'\\d+', inputstr)))\n",
      "            #print result\n",
      "            return result\n",
      "        except:\n",
      "            print \"except 0\"\n",
      "            return 0\n",
      "\n",
      "\n",
      "    def __ifError(self,word):\n",
      "        print \"stuck at \"+word\n",
      "        while True:\n",
      "            time.sleep(self.waitMinute*60)\n",
      "            try:\n",
      "                self.__search(word)\n",
      "                print \"sleeping... :  %d\" %(self.waitMinute*60)\n",
      "            except:\n",
      "                self.waitMinute += 1\n",
      "                continue\n",
      "            break\n",
      "        print \"escape!!!\"\n",
      "\n",
      "        \n",
      "    def start(self):\n",
      "     #   try:\n",
      "            appRes = self.__search(self.appname)\n",
      "            keyRes = self.__search(self.keyword)\n",
      "            botRes = self.__search(self.both)\n",
      "            \n",
      "            DatabaseManager.set_query_count(self.appname, appRes)\n",
      "            DatabaseManager.set_query_count(self.keyword, keyRes)\n",
      "            DatabaseManager.set_query_count(self.both, botRes)\n",
      "            \n",
      "            pmi = self._calcPMI(appRes, keyRes, botRes, 1000000000.0)\n",
      "            DatabaseManager.set_app_keyword_pmi(self.appname, self.keyword, pmi)\n",
      "            \n",
      "            sys.stdout.flush()\n",
      "            sys.stdout.write('\\r') \n",
      "            sys.stdout.write(\"app=%s(%d), keyword=%s(%d), both=%s(%d), pmi=%.3f\\n\" % (self.appname, appRes, self.keyword, keyRes, self.both, botRes, pmi) )\n",
      "            \n",
      "      #  except:\n",
      "      #      __debug__.\n",
      "      #      print \"error: app=%s, keyword=%s\\n\" % (self.appname, self.keyword)\n",
      "            #self.__ifError(word)\n",
      "\n",
      "        \n",
      "    def _calcPMI(self, AppScore, KeywordScore, BothScore, nTotalDocs):\n",
      "\n",
      "        val = (AppScore*KeywordScore/(BothScore*nTotalDocs+1.0))\n",
      "\n",
      "        if val <= 0:\n",
      "            return 0.0\n",
      "        \n",
      "        return math.log10(val)\n"
     ],
     "language": "python",
     "metadata": {},
     "outputs": [],
     "prompt_number": 10
    },
    {
     "cell_type": "markdown",
     "metadata": {},
     "source": [
      "\uc218\uc9d1 \ub8e8\ud504 \ub3cc\ub9ac\uae30"
     ]
    },
    {
     "cell_type": "code",
     "collapsed": false,
     "input": [
      "keyword = keywords\n",
      "searchWordArray = np.array(res3)\n",
      "#for i, a in app2_2000_name.iterrows():\n",
      "#    print a['name']\n",
      "for a in searchWordArray:\n",
      "    a = ''.join(a)\n",
      "    sys.stdout.flush()\n",
      "    sys.stdout.write('\\r') \n",
      "    sys.stdout.write(\"app %s start\\n\" % a)\n",
      "    for key in keyword:\n",
      "     #   sys.stdout.write(\"  key %s start: \" %key)\n",
      "      #  searchWordList = [\"+\".join(a)+key]\n",
      "        cw = PMICrawler(a, key)\n",
      "        cw.start()\n",
      "\n",
      "    #    DatabaseManager.set_app_keyword_pmi(a, key, pmi)\n",
      "   #     sys.stdout.write(\"pmi=%.2f : (%s), (%s), (%s)\\n\" % (pmi, a, key, \"\".join(a)+key))\n",
      "print \"done.\""
     ],
     "language": "python",
     "metadata": {},
     "outputs": [
      {
       "output_type": "stream",
       "stream": "stdout",
       "text": [
        "\r",
        "app \ub4dc\ub798\uace4 \ud50c\ub77c\uc774\ud2b8 for Kakao start\n",
        "382"
       ]
      },
      {
       "output_type": "stream",
       "stream": "stdout",
       "text": [
        "\n",
        "except 0"
       ]
      },
      {
       "output_type": "stream",
       "stream": "stdout",
       "text": [
        "\n",
        "382"
       ]
      },
      {
       "output_type": "stream",
       "stream": "stdout",
       "text": [
        "\n",
        "app=\ub4dc\ub798\uace4 \ud50c\ub77c\uc774\ud2b8 for Kakao(382), keyword=(0), both=\ub4dc\ub798\uace4 \ud50c\ub77c\uc774\ud2b8 for Kakao+(382), pmi=0.000\n"
       ]
      },
      {
       "output_type": "stream",
       "stream": "stdout",
       "text": [
        "382\n",
        "444205"
       ]
      },
      {
       "output_type": "stream",
       "stream": "stdout",
       "text": [
        "\n",
        "483"
       ]
      },
      {
       "output_type": "stream",
       "stream": "stdout",
       "text": [
        "\n",
        "app=\ub4dc\ub798\uace4 \ud50c\ub77c\uc774\ud2b8 for Kakao(382), keyword=\ufeff\ud37c\uc990(444205), both=\ub4dc\ub798\uace4 \ud50c\ub77c\uc774\ud2b8 for Kakao+\ufeff\ud37c\uc990(483), pmi=-3.454\n"
       ]
      },
      {
       "output_type": "stream",
       "stream": "stdout",
       "text": [
        "382\n",
        "422516"
       ]
      },
      {
       "output_type": "stream",
       "stream": "stdout",
       "text": [
        "\n",
        "426"
       ]
      },
      {
       "output_type": "stream",
       "stream": "stdout",
       "text": [
        "\n",
        "app=\ub4dc\ub798\uace4 \ud50c\ub77c\uc774\ud2b8 for Kakao(382), keyword=\uce90\uc8fc\uc5bc(422516), both=\ub4dc\ub798\uace4 \ud50c\ub77c\uc774\ud2b8 for Kakao+\uce90\uc8fc\uc5bc(426), pmi=-3.422\n"
       ]
      },
      {
       "output_type": "stream",
       "stream": "stdout",
       "text": [
        "382\n",
        "115391"
       ]
      },
      {
       "output_type": "stream",
       "stream": "stdout",
       "text": [
        "\n",
        "415"
       ]
      },
      {
       "output_type": "stream",
       "stream": "stdout",
       "text": [
        "\n",
        "app=\ub4dc\ub798\uace4 \ud50c\ub77c\uc774\ud2b8 for Kakao(382), keyword=\uc544\ucf00\uc774\ub4dc(115391), both=\ub4dc\ub798\uace4 \ud50c\ub77c\uc774\ud2b8 for Kakao+\uc544\ucf00\uc774\ub4dc(415), pmi=-3.974\n"
       ]
      },
      {
       "output_type": "stream",
       "stream": "stdout",
       "text": [
        "382\n",
        "6861755"
       ]
      },
      {
       "output_type": "stream",
       "stream": "stdout",
       "text": [
        "\n",
        "473"
       ]
      },
      {
       "output_type": "stream",
       "stream": "stdout",
       "text": [
        "\n",
        "app=\ub4dc\ub798\uace4 \ud50c\ub77c\uc774\ud2b8 for Kakao(382), keyword=\uc5ec\uc131(6861755), both=\ub4dc\ub798\uace4 \ud50c\ub77c\uc774\ud2b8 for Kakao+\uc5ec\uc131(473), pmi=-2.256\n"
       ]
      },
      {
       "output_type": "stream",
       "stream": "stdout",
       "text": [
        "382\n",
        "2386995"
       ]
      },
      {
       "output_type": "stream",
       "stream": "stdout",
       "text": [
        "\n",
        "466"
       ]
      },
      {
       "output_type": "stream",
       "stream": "stdout",
       "text": [
        "\n",
        "app=\ub4dc\ub798\uace4 \ud50c\ub77c\uc774\ud2b8 for Kakao(382), keyword=\ub0a8\uc131(2386995), both=\ub4dc\ub798\uace4 \ud50c\ub77c\uc774\ud2b8 for Kakao+\ub0a8\uc131(466), pmi=-2.708\n"
       ]
      },
      {
       "output_type": "stream",
       "stream": "stdout",
       "text": [
        "382\n",
        "19818224"
       ]
      },
      {
       "output_type": "stream",
       "stream": "stdout",
       "text": [
        "\n",
        "661"
       ]
      },
      {
       "output_type": "stream",
       "stream": "stdout",
       "text": [
        "\n",
        "app=\ub4dc\ub798\uace4 \ud50c\ub77c\uc774\ud2b8 for Kakao(382), keyword=\uce5c\uad6c(19818224), both=\ub4dc\ub798\uace4 \ud50c\ub77c\uc774\ud2b8 for Kakao+\uce5c\uad6c(661), pmi=-1.941\n"
       ]
      },
      {
       "output_type": "stream",
       "stream": "stdout",
       "text": [
        "382\n",
        "1498621"
       ]
      },
      {
       "output_type": "stream",
       "stream": "stdout",
       "text": [
        "\n",
        "442"
       ]
      },
      {
       "output_type": "stream",
       "stream": "stdout",
       "text": [
        "\n",
        "app=\ub4dc\ub798\uace4 \ud50c\ub77c\uc774\ud2b8 for Kakao(382), keyword=\uc5f0\uc560(1498621), both=\ub4dc\ub798\uace4 \ud50c\ub77c\uc774\ud2b8 for Kakao+\uc5f0\uc560(442), pmi=-2.888\n"
       ]
      },
      {
       "output_type": "stream",
       "stream": "stdout",
       "text": [
        "382\n",
        "496302"
       ]
      },
      {
       "output_type": "stream",
       "stream": "stdout",
       "text": [
        "\n",
        "397"
       ]
      },
      {
       "output_type": "stream",
       "stream": "stdout",
       "text": [
        "\n",
        "app=\ub4dc\ub798\uace4 \ud50c\ub77c\uc774\ud2b8 for Kakao(382), keyword=\uc5f0\uc608(496302), both=\ub4dc\ub798\uace4 \ud50c\ub77c\uc774\ud2b8 for Kakao+\uc5f0\uc608(397), pmi=-3.321\n"
       ]
      },
      {
       "output_type": "stream",
       "stream": "stdout",
       "text": [
        "382\n",
        "13161993"
       ]
      },
      {
       "output_type": "stream",
       "stream": "stdout",
       "text": [
        "\n",
        "458"
       ]
      },
      {
       "output_type": "stream",
       "stream": "stdout",
       "text": [
        "\n",
        "app=\ub4dc\ub798\uace4 \ud50c\ub77c\uc774\ud2b8 for Kakao(382), keyword=\uc5bc\uad74(13161993), both=\ub4dc\ub798\uace4 \ud50c\ub77c\uc774\ud2b8 for Kakao+\uc5bc\uad74(458), pmi=-1.959\n"
       ]
      },
      {
       "output_type": "stream",
       "stream": "stdout",
       "text": [
        "382\n",
        "3843447"
       ]
      },
      {
       "output_type": "stream",
       "stream": "stdout",
       "text": [
        "\n",
        "450"
       ]
      },
      {
       "output_type": "stream",
       "stream": "stdout",
       "text": [
        "\n",
        "app=\ub4dc\ub798\uace4 \ud50c\ub77c\uc774\ud2b8 for Kakao(382), keyword=\uc18d\ub3c4(3843447), both=\ub4dc\ub798\uace4 \ud50c\ub77c\uc774\ud2b8 for Kakao+\uc18d\ub3c4(450), pmi=-2.486\n"
       ]
      },
      {
       "output_type": "stream",
       "stream": "stdout",
       "text": [
        "382\n",
        "11917465"
       ]
      },
      {
       "output_type": "stream",
       "stream": "stdout",
       "text": [
        "\n",
        "541"
       ]
      },
      {
       "output_type": "stream",
       "stream": "stdout",
       "text": [
        "\n",
        "app=\ub4dc\ub798\uace4 \ud50c\ub77c\uc774\ud2b8 for Kakao(382), keyword=\ub3c8(11917465), both=\ub4dc\ub798\uace4 \ud50c\ub77c\uc774\ud2b8 for Kakao+\ub3c8(541), pmi=-2.075\n"
       ]
      },
      {
       "output_type": "stream",
       "stream": "stdout",
       "text": [
        "382\n",
        "490513"
       ]
      },
      {
       "output_type": "stream",
       "stream": "stdout",
       "text": [
        "\n",
        "417"
       ]
      },
      {
       "output_type": "stream",
       "stream": "stdout",
       "text": [
        "\n",
        "app=\ub4dc\ub798\uace4 \ud50c\ub77c\uc774\ud2b8 for Kakao(382), keyword=\ub79c\ub364(490513), both=\ub4dc\ub798\uace4 \ud50c\ub77c\uc774\ud2b8 for Kakao+\ub79c\ub364(417), pmi=-3.347\n"
       ]
      },
      {
       "output_type": "stream",
       "stream": "stdout",
       "text": [
        "382\n",
        "108965"
       ]
      },
      {
       "output_type": "stream",
       "stream": "stdout",
       "text": [
        "\n",
        "388"
       ]
      },
      {
       "output_type": "stream",
       "stream": "stdout",
       "text": [
        "\n",
        "app=\ub4dc\ub798\uace4 \ud50c\ub77c\uc774\ud2b8 for Kakao(382), keyword=random(108965), both=\ub4dc\ub798\uace4 \ud50c\ub77c\uc774\ud2b8 for Kakao+random(388), pmi=-3.969\n"
       ]
      },
      {
       "output_type": "stream",
       "stream": "stdout",
       "text": [
        "382\n",
        "8507030"
       ]
      },
      {
       "output_type": "stream",
       "stream": "stdout",
       "text": [
        "\n",
        "431"
       ]
      },
      {
       "output_type": "stream",
       "stream": "stdout",
       "text": [
        "\n",
        "app=\ub4dc\ub798\uace4 \ud50c\ub77c\uc774\ud2b8 for Kakao(382), keyword=\uc74c\uc2dd(8507030), both=\ub4dc\ub798\uace4 \ud50c\ub77c\uc774\ud2b8 for Kakao+\uc74c\uc2dd(431), pmi=-2.123\n"
       ]
      },
      {
       "output_type": "stream",
       "stream": "stdout",
       "text": [
        "382\n",
        "17687487"
       ]
      },
      {
       "output_type": "stream",
       "stream": "stdout",
       "text": [
        "\n",
        "513"
       ]
      },
      {
       "output_type": "stream",
       "stream": "stdout",
       "text": [
        "\n",
        "app=\ub4dc\ub798\uace4 \ud50c\ub77c\uc774\ud2b8 for Kakao(382), keyword=\ubc29\ubc95(17687487), both=\ub4dc\ub798\uace4 \ud50c\ub77c\uc774\ud2b8 for Kakao+\ubc29\ubc95(513), pmi=-1.880\n"
       ]
      },
      {
       "output_type": "stream",
       "stream": "stdout",
       "text": [
        "382\n",
        "588223"
       ]
      },
      {
       "output_type": "stream",
       "stream": "stdout",
       "text": [
        "\n",
        "539"
       ]
      },
      {
       "output_type": "stream",
       "stream": "stdout",
       "text": [
        "\n",
        "app=\ub4dc\ub798\uace4 \ud50c\ub77c\uc774\ud2b8 for Kakao(382), keyword=\uc548\ub4dc\ub85c\uc774\ub4dc(588223), both=\ub4dc\ub798\uace4 \ud50c\ub77c\uc774\ud2b8 for Kakao+\uc548\ub4dc\ub85c\uc774\ub4dc(539), pmi=-3.380\n"
       ]
      },
      {
       "output_type": "stream",
       "stream": "stdout",
       "text": [
        "382\n",
        "1473572"
       ]
      },
      {
       "output_type": "stream",
       "stream": "stdout",
       "text": [
        "\n",
        "518"
       ]
      },
      {
       "output_type": "stream",
       "stream": "stdout",
       "text": [
        "\n",
        "app=\ub4dc\ub798\uace4 \ud50c\ub77c\uc774\ud2b8 for Kakao(382), keyword=\uc544\uc774\ud3f0(1473572), both=\ub4dc\ub798\uace4 \ud50c\ub77c\uc774\ud2b8 for Kakao+\uc544\uc774\ud3f0(518), pmi=-2.964\n"
       ]
      },
      {
       "output_type": "stream",
       "stream": "stdout",
       "text": [
        "382\n",
        "223016"
       ]
      },
      {
       "output_type": "stream",
       "stream": "stdout",
       "text": [
        "\n",
        "471"
       ]
      },
      {
       "output_type": "stream",
       "stream": "stdout",
       "text": [
        "\n",
        "app=\ub4dc\ub798\uace4 \ud50c\ub77c\uc774\ud2b8 for Kakao(382), keyword=android(223016), both=\ub4dc\ub798\uace4 \ud50c\ub77c\uc774\ud2b8 for Kakao+android(471), pmi=-3.743\n"
       ]
      },
      {
       "output_type": "stream",
       "stream": "stdout",
       "text": [
        "382\n",
        "448864"
       ]
      },
      {
       "output_type": "stream",
       "stream": "stdout",
       "text": [
        "\n",
        "483"
       ]
      },
      {
       "output_type": "stream",
       "stream": "stdout",
       "text": [
        "\n",
        "app=\ub4dc\ub798\uace4 \ud50c\ub77c\uc774\ud2b8 for Kakao(382), keyword=iphone(448864), both=\ub4dc\ub798\uace4 \ud50c\ub77c\uc774\ud2b8 for Kakao+iphone(483), pmi=-3.450\n"
       ]
      },
      {
       "output_type": "stream",
       "stream": "stdout",
       "text": [
        "382\n",
        "348221"
       ]
      },
      {
       "output_type": "stream",
       "stream": "stdout",
       "text": [
        "\n",
        "389"
       ]
      },
      {
       "output_type": "stream",
       "stream": "stdout",
       "text": [
        "\n",
        "app=\ub4dc\ub798\uace4 \ud50c\ub77c\uc774\ud2b8 for Kakao(382), keyword=\uc624\ub77d(348221), both=\ub4dc\ub798\uace4 \ud50c\ub77c\uc774\ud2b8 for Kakao+\uc624\ub77d(389), pmi=-3.466\n"
       ]
      },
      {
       "output_type": "stream",
       "stream": "stdout",
       "text": [
        "382\n",
        "1396584"
       ]
      },
      {
       "output_type": "stream",
       "stream": "stdout",
       "text": [
        "\n",
        "409"
       ]
      },
      {
       "output_type": "stream",
       "stream": "stdout",
       "text": [
        "\n",
        "app=\ub4dc\ub798\uace4 \ud50c\ub77c\uc774\ud2b8 for Kakao(382), keyword=\uc2ec\ub9ac(1396584), both=\ub4dc\ub798\uace4 \ud50c\ub77c\uc774\ud2b8 for Kakao+\uc2ec\ub9ac(409), pmi=-2.885\n"
       ]
      },
      {
       "output_type": "stream",
       "stream": "stdout",
       "text": [
        "382\n",
        "1568741"
       ]
      },
      {
       "output_type": "stream",
       "stream": "stdout",
       "text": [
        "\n",
        "408"
       ]
      },
      {
       "output_type": "stream",
       "stream": "stdout",
       "text": [
        "\n",
        "app=\ub4dc\ub798\uace4 \ud50c\ub77c\uc774\ud2b8 for Kakao(382), keyword=\ubd80\uc790(1568741), both=\ub4dc\ub798\uace4 \ud50c\ub77c\uc774\ud2b8 for Kakao+\ubd80\uc790(408), pmi=-2.833\n"
       ]
      },
      {
       "output_type": "stream",
       "stream": "stdout",
       "text": [
        "382\n",
        "5402177"
       ]
      },
      {
       "output_type": "stream",
       "stream": "stdout",
       "text": [
        "\n",
        "453"
       ]
      },
      {
       "output_type": "stream",
       "stream": "stdout",
       "text": [
        "\n",
        "app=\ub4dc\ub798\uace4 \ud50c\ub77c\uc774\ud2b8 for Kakao(382), keyword=\uc601\uc5b4(5402177), both=\ub4dc\ub798\uace4 \ud50c\ub77c\uc774\ud2b8 for Kakao+\uc601\uc5b4(453), pmi=-2.341\n"
       ]
      },
      {
       "output_type": "stream",
       "stream": "stdout",
       "text": [
        "382\n",
        "483192"
       ]
      },
      {
       "output_type": "stream",
       "stream": "stdout",
       "text": [
        "\n",
        "391"
       ]
      },
      {
       "output_type": "stream",
       "stream": "stdout",
       "text": [
        "\n",
        "app=\ub4dc\ub798\uace4 \ud50c\ub77c\uc774\ud2b8 for Kakao(382), keyword=\ud1a0\uc775(483192), both=\ub4dc\ub798\uace4 \ud50c\ub77c\uc774\ud2b8 for Kakao+\ud1a0\uc775(391), pmi=-3.326\n"
       ]
      },
      {
       "output_type": "stream",
       "stream": "stdout",
       "text": [
        "382\n",
        "8530745"
       ]
      },
      {
       "output_type": "stream",
       "stream": "stdout",
       "text": [
        "\n",
        "436"
       ]
      },
      {
       "output_type": "stream",
       "stream": "stdout",
       "text": [
        "\n",
        "app=\ub4dc\ub798\uace4 \ud50c\ub77c\uc774\ud2b8 for Kakao(382), keyword=\uacf5\ubd80(8530745), both=\ub4dc\ub798\uace4 \ud50c\ub77c\uc774\ud2b8 for Kakao+\uacf5\ubd80(436), pmi=-2.126\n"
       ]
      },
      {
       "output_type": "stream",
       "stream": "stdout",
       "text": [
        "382\n",
        "5445738"
       ]
      },
      {
       "output_type": "stream",
       "stream": "stdout",
       "text": [
        "\n",
        "464"
       ]
      },
      {
       "output_type": "stream",
       "stream": "stdout",
       "text": [
        "\n",
        "app=\ub4dc\ub798\uace4 \ud50c\ub77c\uc774\ud2b8 for Kakao(382), keyword=\uc77c\uc815(5445738), both=\ub4dc\ub798\uace4 \ud50c\ub77c\uc774\ud2b8 for Kakao+\uc77c\uc815(464), pmi=-2.348\n"
       ]
      },
      {
       "output_type": "stream",
       "stream": "stdout",
       "text": [
        "382\n",
        "580894"
       ]
      },
      {
       "output_type": "stream",
       "stream": "stdout",
       "text": [
        "\n",
        "389"
       ]
      },
      {
       "output_type": "stream",
       "stream": "stdout",
       "text": [
        "\n",
        "app=\ub4dc\ub798\uace4 \ud50c\ub77c\uc774\ud2b8 for Kakao(382), keyword=\ub2ec\ub825(580894), both=\ub4dc\ub798\uace4 \ud50c\ub77c\uc774\ud2b8 for Kakao+\ub2ec\ub825(389), pmi=-3.244\n"
       ]
      },
      {
       "output_type": "stream",
       "stream": "stdout",
       "text": [
        "382\n",
        "8137779"
       ]
      },
      {
       "output_type": "stream",
       "stream": "stdout",
       "text": [
        "\n",
        "451"
       ]
      },
      {
       "output_type": "stream",
       "stream": "stdout",
       "text": [
        "\n",
        "app=\ub4dc\ub798\uace4 \ud50c\ub77c\uc774\ud2b8 for Kakao(382), keyword=\uacc4\ud68d(8137779), both=\ub4dc\ub798\uace4 \ud50c\ub77c\uc774\ud2b8 for Kakao+\uacc4\ud68d(451), pmi=-2.162\n"
       ]
      },
      {
       "output_type": "stream",
       "stream": "stdout",
       "text": [
        "382\n",
        "1109616"
       ]
      },
      {
       "output_type": "stream",
       "stream": "stdout",
       "text": [
        "\n",
        "480"
       ]
      },
      {
       "output_type": "stream",
       "stream": "stdout",
       "text": [
        "\n",
        "app=\ub4dc\ub798\uace4 \ud50c\ub77c\uc774\ud2b8 for Kakao(382), keyword=\uacf5\ub7b5(1109616), both=\ub4dc\ub798\uace4 \ud50c\ub77c\uc774\ud2b8 for Kakao+\uacf5\ub7b5(480), pmi=-3.054\n"
       ]
      },
      {
       "output_type": "stream",
       "stream": "stdout",
       "text": [
        "382\n",
        "358302"
       ]
      },
      {
       "output_type": "stream",
       "stream": "stdout",
       "text": [
        "\n",
        "441"
       ]
      },
      {
       "output_type": "stream",
       "stream": "stdout",
       "text": [
        "\n",
        "app=\ub4dc\ub798\uace4 \ud50c\ub77c\uc774\ud2b8 for Kakao(382), keyword=\ub808\uc774\uc2f1(358302), both=\ub4dc\ub798\uace4 \ud50c\ub77c\uc774\ud2b8 for Kakao+\ub808\uc774\uc2f1(441), pmi=-3.508\n"
       ]
      },
      {
       "output_type": "stream",
       "stream": "stdout",
       "text": [
        "382\n",
        "209270"
       ]
      },
      {
       "output_type": "stream",
       "stream": "stdout",
       "text": [
        "\n",
        "479"
       ]
      },
      {
       "output_type": "stream",
       "stream": "stdout",
       "text": [
        "\n",
        "app=\ub4dc\ub798\uace4 \ud50c\ub77c\uc774\ud2b8 for Kakao(382), keyword=RPG(209270), both=\ub4dc\ub798\uace4 \ud50c\ub77c\uc774\ud2b8 for Kakao+RPG(479), pmi=-3.778\n"
       ]
      },
      {
       "output_type": "stream",
       "stream": "stdout",
       "text": [
        "382\n",
        "5037749"
       ]
      },
      {
       "output_type": "stream",
       "stream": "stdout",
       "text": [
        "\n",
        "525"
       ]
      },
      {
       "output_type": "stream",
       "stream": "stdout",
       "text": [
        "\n",
        "app=\ub4dc\ub798\uace4 \ud50c\ub77c\uc774\ud2b8 for Kakao(382), keyword=\uce74\ub4dc(5037749), both=\ub4dc\ub798\uace4 \ud50c\ub77c\uc774\ud2b8 for Kakao+\uce74\ub4dc(525), pmi=-2.436\n"
       ]
      },
      {
       "output_type": "stream",
       "stream": "stdout",
       "text": [
        "382\n",
        "100553"
       ]
      },
      {
       "output_type": "stream",
       "stream": "stdout",
       "text": [
        "\n",
        "428"
       ]
      },
      {
       "output_type": "stream",
       "stream": "stdout",
       "text": [
        "\n",
        "app=\ub4dc\ub798\uace4 \ud50c\ub77c\uc774\ud2b8 for Kakao(382), keyword=\ub514\ud39c\uc2a4(100553), both=\ub4dc\ub798\uace4 \ud50c\ub77c\uc774\ud2b8 for Kakao+\ub514\ud39c\uc2a4(428), pmi=-4.047\n"
       ]
      },
      {
       "output_type": "stream",
       "stream": "stdout",
       "text": [
        "382\n",
        "547814"
       ]
      },
      {
       "output_type": "stream",
       "stream": "stdout",
       "text": [
        "\n",
        "401"
       ]
      },
      {
       "output_type": "stream",
       "stream": "stdout",
       "text": [
        "\n",
        "app=\ub4dc\ub798\uace4 \ud50c\ub77c\uc774\ud2b8 for Kakao(382), keyword=\ub450\ub1cc(547814), both=\ub4dc\ub798\uace4 \ud50c\ub77c\uc774\ud2b8 for Kakao+\ub450\ub1cc(401), pmi=-3.282\n"
       ]
      },
      {
       "output_type": "stream",
       "stream": "stdout",
       "text": [
        "382\n",
        "23082"
       ]
      },
      {
       "output_type": "stream",
       "stream": "stdout",
       "text": [
        "\n",
        "383"
       ]
      },
      {
       "output_type": "stream",
       "stream": "stdout",
       "text": [
        "\n",
        "app=\ub4dc\ub798\uace4 \ud50c\ub77c\uc774\ud2b8 for Kakao(382), keyword=\uc2dc\ubbac(23082), both=\ub4dc\ub798\uace4 \ud50c\ub77c\uc774\ud2b8 for Kakao+\uc2dc\ubbac(383), pmi=-4.638\n"
       ]
      },
      {
       "output_type": "stream",
       "stream": "stdout",
       "text": [
        "382\n",
        "642030"
       ]
      },
      {
       "output_type": "stream",
       "stream": "stdout",
       "text": [
        "\n",
        "410"
       ]
      },
      {
       "output_type": "stream",
       "stream": "stdout",
       "text": [
        "\n",
        "app=\ub4dc\ub798\uace4 \ud50c\ub77c\uc774\ud2b8 for Kakao(382), keyword=\ub2ec\ub9ac\uae30(642030), both=\ub4dc\ub798\uace4 \ud50c\ub77c\uc774\ud2b8 for Kakao+\ub2ec\ub9ac\uae30(410), pmi=-3.223\n"
       ]
      },
      {
       "output_type": "stream",
       "stream": "stdout",
       "text": [
        "382\n",
        "230538"
       ]
      },
      {
       "output_type": "stream",
       "stream": "stdout",
       "text": [
        "\n",
        "455"
       ]
      },
      {
       "output_type": "stream",
       "stream": "stdout",
       "text": [
        "\n",
        "app=\ub4dc\ub798\uace4 \ud50c\ub77c\uc774\ud2b8 for Kakao(382), keyword=\uc288\ud305(230538), both=\ub4dc\ub798\uace4 \ud50c\ub77c\uc774\ud2b8 for Kakao+\uc288\ud305(455), pmi=-3.713\n"
       ]
      },
      {
       "output_type": "stream",
       "stream": "stdout",
       "text": [
        "382\n",
        "1745985"
       ]
      },
      {
       "output_type": "stream",
       "stream": "stdout",
       "text": [
        "\n",
        "424"
       ]
      },
      {
       "output_type": "stream",
       "stream": "stdout",
       "text": [
        "\n",
        "app=\ub4dc\ub798\uace4 \ud50c\ub77c\uc774\ud2b8 for Kakao(382), keyword=\ucd95\uad6c(1745985), both=\ub4dc\ub798\uace4 \ud50c\ub77c\uc774\ud2b8 for Kakao+\ucd95\uad6c(424), pmi=-2.803\n"
       ]
      },
      {
       "output_type": "stream",
       "stream": "stdout",
       "text": [
        "382\n",
        "1831254"
       ]
      },
      {
       "output_type": "stream",
       "stream": "stdout",
       "text": [
        "\n",
        "436"
       ]
      },
      {
       "output_type": "stream",
       "stream": "stdout",
       "text": [
        "\n",
        "app=\ub4dc\ub798\uace4 \ud50c\ub77c\uc774\ud2b8 for Kakao(382), keyword=\uacbd\uc601(1831254), both=\ub4dc\ub798\uace4 \ud50c\ub77c\uc774\ud2b8 for Kakao+\uacbd\uc601(436), pmi=-2.795\n"
       ]
      },
      {
       "output_type": "stream",
       "stream": "stdout",
       "text": [
        "382\n",
        "32917"
       ]
      },
      {
       "output_type": "stream",
       "stream": "stdout",
       "text": [
        "\n",
        "393"
       ]
      },
      {
       "output_type": "stream",
       "stream": "stdout",
       "text": [
        "\n",
        "app=\ub4dc\ub798\uace4 \ud50c\ub77c\uc774\ud2b8 for Kakao(382), keyword=\ud0c0\uc774\ucfe4(32917), both=\ub4dc\ub798\uace4 \ud50c\ub77c\uc774\ud2b8 for Kakao+\ud0c0\uc774\ucfe4(393), pmi=-4.495\n"
       ]
      },
      {
       "output_type": "stream",
       "stream": "stdout",
       "text": [
        "382\n",
        "1170311"
       ]
      },
      {
       "output_type": "stream",
       "stream": "stdout",
       "text": [
        "\n",
        "437"
       ]
      },
      {
       "output_type": "stream",
       "stream": "stdout",
       "text": [
        "\n",
        "app=\ub4dc\ub798\uace4 \ud50c\ub77c\uc774\ud2b8 for Kakao(382), keyword=\ud0c8\ucd9c(1170311), both=\ub4dc\ub798\uace4 \ud50c\ub77c\uc774\ud2b8 for Kakao+\ud0c8\ucd9c(437), pmi=-2.990\n"
       ]
      },
      {
       "output_type": "stream",
       "stream": "stdout",
       "text": [
        "382\n",
        "391510"
       ]
      },
      {
       "output_type": "stream",
       "stream": "stdout",
       "text": [
        "\n",
        "396"
       ]
      },
      {
       "output_type": "stream",
       "stream": "stdout",
       "text": [
        "\n",
        "app=\ub4dc\ub798\uace4 \ud50c\ub77c\uc774\ud2b8 for Kakao(382), keyword=\ucd94\ub9ac(391510), both=\ub4dc\ub798\uace4 \ud50c\ub77c\uc774\ud2b8 for Kakao+\ucd94\ub9ac(396), pmi=-3.423\n"
       ]
      },
      {
       "output_type": "stream",
       "stream": "stdout",
       "text": [
        "382\n",
        "1488634"
       ]
      },
      {
       "output_type": "stream",
       "stream": "stdout",
       "text": [
        "\n",
        "401"
       ]
      },
      {
       "output_type": "stream",
       "stream": "stdout",
       "text": [
        "\n",
        "app=\ub4dc\ub798\uace4 \ud50c\ub77c\uc774\ud2b8 for Kakao(382), keyword=\uc7a5\uae30(1488634), both=\ub4dc\ub798\uace4 \ud50c\ub77c\uc774\ud2b8 for Kakao+\uc7a5\uae30(401), pmi=-2.848\n"
       ]
      },
      {
       "output_type": "stream",
       "stream": "stdout",
       "text": [
        "382\n",
        "1958840"
       ]
      },
      {
       "output_type": "stream",
       "stream": "stdout",
       "text": [
        "\n",
        "408"
       ]
      },
      {
       "output_type": "stream",
       "stream": "stdout",
       "text": [
        "\n",
        "app=\ub4dc\ub798\uace4 \ud50c\ub77c\uc774\ud2b8 for Kakao(382), keyword=\ube44\ud589\uae30(1958840), both=\ub4dc\ub798\uace4 \ud50c\ub77c\uc774\ud2b8 for Kakao+\ube44\ud589\uae30(408), pmi=-2.737\n"
       ]
      },
      {
       "output_type": "stream",
       "stream": "stdout",
       "text": [
        "382\n",
        "33753"
       ]
      },
      {
       "output_type": "stream",
       "stream": "stdout",
       "text": [
        "\n",
        "390"
       ]
      },
      {
       "output_type": "stream",
       "stream": "stdout",
       "text": [
        "\n",
        "app=\ub4dc\ub798\uace4 \ud50c\ub77c\uc774\ud2b8 for Kakao(382), keyword=\uc0ac\ucc9c\uc131(33753), both=\ub4dc\ub798\uace4 \ud50c\ub77c\uc774\ud2b8 for Kakao+\uc0ac\ucc9c\uc131(390), pmi=-4.481\n"
       ]
      },
      {
       "output_type": "stream",
       "stream": "stdout",
       "text": [
        "382\n",
        "2493684"
       ]
      },
      {
       "output_type": "stream",
       "stream": "stdout",
       "text": [
        "\n",
        "445"
       ]
      },
      {
       "output_type": "stream",
       "stream": "stdout",
       "text": [
        "\n",
        "app=\ub4dc\ub798\uace4 \ud50c\ub77c\uc774\ud2b8 for Kakao(382), keyword=\uc2a4\ud3ec\uce20(2493684), both=\ub4dc\ub798\uace4 \ud50c\ub77c\uc774\ud2b8 for Kakao+\uc2a4\ud3ec\uce20(445), pmi=-2.669\n"
       ]
      },
      {
       "output_type": "stream",
       "stream": "stdout",
       "text": [
        "382\n",
        "493892"
       ]
      },
      {
       "output_type": "stream",
       "stream": "stdout",
       "text": [
        "\n",
        "399"
       ]
      },
      {
       "output_type": "stream",
       "stream": "stdout",
       "text": [
        "\n",
        "app=\ub4dc\ub798\uace4 \ud50c\ub77c\uc774\ud2b8 for Kakao(382), keyword=\ub18d\uad6c(493892), both=\ub4dc\ub798\uace4 \ud50c\ub77c\uc774\ud2b8 for Kakao+\ub18d\uad6c(399), pmi=-3.325\n"
       ]
      },
      {
       "output_type": "stream",
       "stream": "stdout",
       "text": [
        "382\n",
        "1186133"
       ]
      },
      {
       "output_type": "stream",
       "stream": "stdout",
       "text": [
        "\n",
        "394"
       ]
      },
      {
       "output_type": "stream",
       "stream": "stdout",
       "text": [
        "\n",
        "app=\ub4dc\ub798\uace4 \ud50c\ub77c\uc774\ud2b8 for Kakao(382), keyword=\ub09a\uc2dc(1186133), both=\ub4dc\ub798\uace4 \ud50c\ub77c\uc774\ud2b8 for Kakao+\ub09a\uc2dc(394), pmi=-2.939\n"
       ]
      },
      {
       "output_type": "stream",
       "stream": "stdout",
       "text": [
        "382\n",
        "7514159"
       ]
      },
      {
       "output_type": "stream",
       "stream": "stdout",
       "text": [
        "\n",
        "473"
       ]
      },
      {
       "output_type": "stream",
       "stream": "stdout",
       "text": [
        "\n",
        "app=\ub4dc\ub798\uace4 \ud50c\ub77c\uc774\ud2b8 for Kakao(382), keyword=\uc74c\uc545(7514159), both=\ub4dc\ub798\uace4 \ud50c\ub77c\uc774\ud2b8 for Kakao+\uc74c\uc545(473), pmi=-2.217\n"
       ]
      },
      {
       "output_type": "stream",
       "stream": "stdout",
       "text": [
        "382\n",
        "1021125"
       ]
      },
      {
       "output_type": "stream",
       "stream": "stdout",
       "text": [
        "\n",
        "497"
       ]
      },
      {
       "output_type": "stream",
       "stream": "stdout",
       "text": [
        "\n",
        "app=\ub4dc\ub798\uace4 \ud50c\ub77c\uc774\ud2b8 for Kakao(382), keyword=\uce74\ud1a1(1021125), both=\ub4dc\ub798\uace4 \ud50c\ub77c\uc774\ud2b8 for Kakao+\uce74\ud1a1(497), pmi=-3.105\n"
       ]
      },
      {
       "output_type": "stream",
       "stream": "stdout",
       "text": [
        "382\n",
        "1043435"
       ]
      },
      {
       "output_type": "stream",
       "stream": "stdout",
       "text": [
        "\n",
        "412"
       ]
      },
      {
       "output_type": "stream",
       "stream": "stdout",
       "text": [
        "\n",
        "app=\ub4dc\ub798\uace4 \ud50c\ub77c\uc774\ud2b8 for Kakao(382), keyword=\uace8\ud504(1043435), both=\ub4dc\ub798\uace4 \ud50c\ub77c\uc774\ud2b8 for Kakao+\uace8\ud504(412), pmi=-3.014\n"
       ]
      },
      {
       "output_type": "stream",
       "stream": "stdout",
       "text": [
        "382\n",
        "121690"
       ]
      },
      {
       "output_type": "stream",
       "stream": "stdout",
       "text": [
        "\n",
        "389"
       ]
      },
      {
       "output_type": "stream",
       "stream": "stdout",
       "text": [
        "\n",
        "app=\ub4dc\ub798\uace4 \ud50c\ub77c\uc774\ud2b8 for Kakao(382), keyword=\ub2f9\uad6c(121690), both=\ub4dc\ub798\uace4 \ud50c\ub77c\uc774\ud2b8 for Kakao+\ub2f9\uad6c(389), pmi=-3.923\n"
       ]
      },
      {
       "output_type": "stream",
       "stream": "stdout",
       "text": [
        "382\n",
        "1395631"
       ]
      },
      {
       "output_type": "stream",
       "stream": "stdout",
       "text": [
        "\n",
        "466"
       ]
      },
      {
       "output_type": "stream",
       "stream": "stdout",
       "text": [
        "\n",
        "app=\ub4dc\ub798\uace4 \ud50c\ub77c\uc774\ud2b8 for Kakao(382), keyword=\uc57c\uad6c(1395631), both=\ub4dc\ub798\uace4 \ud50c\ub77c\uc774\ud2b8 for Kakao+\uc57c\uad6c(466), pmi=-2.942\n"
       ]
      },
      {
       "output_type": "stream",
       "stream": "stdout",
       "text": [
        "382\n",
        "120180"
       ]
      },
      {
       "output_type": "stream",
       "stream": "stdout",
       "text": [
        "\n",
        "392"
       ]
      },
      {
       "output_type": "stream",
       "stream": "stdout",
       "text": [
        "\n",
        "app=\ub4dc\ub798\uace4 \ud50c\ub77c\uc774\ud2b8 for Kakao(382), keyword=\ubcfc\ub9c1(120180), both=\ub4dc\ub798\uace4 \ud50c\ub77c\uc774\ud2b8 for Kakao+\ubcfc\ub9c1(392), pmi=-3.931\n"
       ]
      },
      {
       "output_type": "stream",
       "stream": "stdout",
       "text": [
        "382\n",
        "1768"
       ]
      },
      {
       "output_type": "stream",
       "stream": "stdout",
       "text": [
        "\n",
        "382"
       ]
      },
      {
       "output_type": "stream",
       "stream": "stdout",
       "text": [
        "\n",
        "app=\ub4dc\ub798\uace4 \ud50c\ub77c\uc774\ud2b8 for Kakao(382), keyword=\ud14c\uc774\uc2a4(1768), both=\ub4dc\ub798\uace4 \ud50c\ub77c\uc774\ud2b8 for Kakao+\ud14c\uc774\uc2a4(382), pmi=-5.753\n"
       ]
      },
      {
       "output_type": "stream",
       "stream": "stdout",
       "text": [
        "382\n",
        "238841"
       ]
      },
      {
       "output_type": "stream",
       "stream": "stdout",
       "text": [
        "\n",
        "449"
       ]
      },
      {
       "output_type": "stream",
       "stream": "stdout",
       "text": [
        "\n",
        "app=\ub4dc\ub798\uace4 \ud50c\ub77c\uc774\ud2b8 for Kakao(382), keyword=\uc0bc\uad6d\uc9c0(238841), both=\ub4dc\ub798\uace4 \ud50c\ub77c\uc774\ud2b8 for Kakao+\uc0bc\uad6d\uc9c0(449), pmi=-3.692\n"
       ]
      },
      {
       "output_type": "stream",
       "stream": "stdout",
       "text": [
        "382\n",
        "24214"
       ]
      },
      {
       "output_type": "stream",
       "stream": "stdout",
       "text": [
        "\n",
        "403"
       ]
      },
      {
       "output_type": "stream",
       "stream": "stdout",
       "text": [
        "\n",
        "app=\ub4dc\ub798\uace4 \ud50c\ub77c\uc774\ud2b8 for Kakao(382), keyword=TCG(24214), both=\ub4dc\ub798\uace4 \ud50c\ub77c\uc774\ud2b8 for Kakao+TCG(403), pmi=-4.639\n"
       ]
      },
      {
       "output_type": "stream",
       "stream": "stdout",
       "text": [
        "382\n",
        "3481108"
       ]
      },
      {
       "output_type": "stream",
       "stream": "stdout",
       "text": [
        "\n",
        "485"
       ]
      },
      {
       "output_type": "stream",
       "stream": "stdout",
       "text": [
        "\n",
        "app=\ub4dc\ub798\uace4 \ud50c\ub77c\uc774\ud2b8 for Kakao(382), keyword=\uc804\uc7c1(3481108), both=\ub4dc\ub798\uace4 \ud50c\ub77c\uc774\ud2b8 for Kakao+\uc804\uc7c1(485), pmi=-2.562\n"
       ]
      },
      {
       "output_type": "stream",
       "stream": "stdout",
       "text": [
        "382\n",
        "9385394"
       ]
      },
      {
       "output_type": "stream",
       "stream": "stdout",
       "text": [
        "\n",
        "434"
       ]
      },
      {
       "output_type": "stream",
       "stream": "stdout",
       "text": [
        "\n",
        "app=\ub4dc\ub798\uace4 \ud50c\ub77c\uc774\ud2b8 for Kakao(382), keyword=\uac74\uac15(9385394), both=\ub4dc\ub798\uace4 \ud50c\ub77c\uc774\ud2b8 for Kakao+\uac74\uac15(434), pmi=-2.083\n"
       ]
      },
      {
       "output_type": "stream",
       "stream": "stdout",
       "text": [
        "382\n",
        "6675472"
       ]
      },
      {
       "output_type": "stream",
       "stream": "stdout",
       "text": [
        "\n",
        "422"
       ]
      },
      {
       "output_type": "stream",
       "stream": "stdout",
       "text": [
        "\n",
        "app=\ub4dc\ub798\uace4 \ud50c\ub77c\uc774\ud2b8 for Kakao(382), keyword=\uc6b4\ub3d9(6675472), both=\ub4dc\ub798\uace4 \ud50c\ub77c\uc774\ud2b8 for Kakao+\uc6b4\ub3d9(422), pmi=-2.219\n"
       ]
      },
      {
       "output_type": "stream",
       "stream": "stdout",
       "text": [
        "382\n",
        "7017886"
       ]
      },
      {
       "output_type": "stream",
       "stream": "stdout",
       "text": [
        "\n",
        "437"
       ]
      },
      {
       "output_type": "stream",
       "stream": "stdout",
       "text": [
        "\n",
        "app=\ub4dc\ub798\uace4 \ud50c\ub77c\uc774\ud2b8 for Kakao(382), keyword=\uad50\uc721(7017886), both=\ub4dc\ub798\uace4 \ud50c\ub77c\uc774\ud2b8 for Kakao+\uad50\uc721(437), pmi=-2.212\n"
       ]
      },
      {
       "output_type": "stream",
       "stream": "stdout",
       "text": [
        "382\n",
        "3744833"
       ]
      },
      {
       "output_type": "stream",
       "stream": "stdout",
       "text": [
        "\n",
        "416"
       ]
      },
      {
       "output_type": "stream",
       "stream": "stdout",
       "text": [
        "\n",
        "app=\ub4dc\ub798\uace4 \ud50c\ub77c\uc774\ud2b8 for Kakao(382), keyword=\uad50\ud1b5(3744833), both=\ub4dc\ub798\uace4 \ud50c\ub77c\uc774\ud2b8 for Kakao+\uad50\ud1b5(416), pmi=-2.464\n"
       ]
      },
      {
       "output_type": "stream",
       "stream": "stdout",
       "text": [
        "382\n",
        "1799883"
       ]
      },
      {
       "output_type": "stream",
       "stream": "stdout",
       "text": [
        "\n",
        "411"
       ]
      },
      {
       "output_type": "stream",
       "stream": "stdout",
       "text": [
        "\n",
        "app=\ub4dc\ub798\uace4 \ud50c\ub77c\uc774\ud2b8 for Kakao(382), keyword=\uae08\uc735(1799883), both=\ub4dc\ub798\uace4 \ud50c\ub77c\uc774\ud2b8 for Kakao+\uae08\uc735(411), pmi=-2.777\n"
       ]
      },
      {
       "output_type": "stream",
       "stream": "stdout",
       "text": [
        "382\n",
        "8419409"
       ]
      },
      {
       "output_type": "stream",
       "stream": "stdout",
       "text": [
        "\n",
        "432"
       ]
      },
      {
       "output_type": "stream",
       "stream": "stdout",
       "text": [
        "\n",
        "app=\ub4dc\ub798\uace4 \ud50c\ub77c\uc774\ud2b8 for Kakao(382), keyword=\ub0a0\uc528(8419409), both=\ub4dc\ub798\uace4 \ud50c\ub77c\uc774\ud2b8 for Kakao+\ub0a0\uc528(432), pmi=-2.128\n"
       ]
      },
      {
       "output_type": "stream",
       "stream": "stdout",
       "text": [
        "382\n",
        "5579159"
       ]
      },
      {
       "output_type": "stream",
       "stream": "stdout",
       "text": [
        "\n",
        "466"
       ]
      },
      {
       "output_type": "stream",
       "stream": "stdout",
       "text": [
        "\n",
        "app=\ub4dc\ub798\uace4 \ud50c\ub77c\uc774\ud2b8 for Kakao(382), keyword=\ub274\uc2a4(5579159), both=\ub4dc\ub798\uace4 \ud50c\ub77c\uc774\ud2b8 for Kakao+\ub274\uc2a4(466), pmi=-2.340\n"
       ]
      },
      {
       "output_type": "stream",
       "stream": "stdout",
       "text": [
        "382\n",
        "2004222"
       ]
      },
      {
       "output_type": "stream",
       "stream": "stdout",
       "text": [
        "\n",
        "395"
       ]
      },
      {
       "output_type": "stream",
       "stream": "stdout",
       "text": [
        "\n",
        "app=\ub4dc\ub798\uace4 \ud50c\ub77c\uc774\ud2b8 for Kakao(382), keyword=\uc7a1\uc9c0(2004222), both=\ub4dc\ub798\uace4 \ud50c\ub77c\uc774\ud2b8 for Kakao+\uc7a1\uc9c0(395), pmi=-2.713\n"
       ]
      },
      {
       "output_type": "stream",
       "stream": "stdout",
       "text": [
        "382\n",
        "123935"
       ]
      },
      {
       "output_type": "stream",
       "stream": "stdout",
       "text": [
        "\n",
        "390"
       ]
      },
      {
       "output_type": "stream",
       "stream": "stdout",
       "text": [
        "\n",
        "app=\ub4dc\ub798\uace4 \ud50c\ub77c\uc774\ud2b8 for Kakao(382), keyword=\ub370\ucf54\ub808\uc774\uc158(123935), both=\ub4dc\ub798\uace4 \ud50c\ub77c\uc774\ud2b8 for Kakao+\ub370\ucf54\ub808\uc774\uc158(390), pmi=-3.916\n"
       ]
      },
      {
       "output_type": "stream",
       "stream": "stdout",
       "text": [
        "382\n",
        "1807826"
       ]
      },
      {
       "output_type": "stream",
       "stream": "stdout",
       "text": [
        "\n",
        "398"
       ]
      },
      {
       "output_type": "stream",
       "stream": "stdout",
       "text": [
        "\n",
        "app=\ub4dc\ub798\uace4 \ud50c\ub77c\uc774\ud2b8 for Kakao(382), keyword=\ub3c4\uad6c(1807826), both=\ub4dc\ub798\uace4 \ud50c\ub77c\uc774\ud2b8 for Kakao+\ub3c4\uad6c(398), pmi=-2.761\n"
       ]
      },
      {
       "output_type": "stream",
       "stream": "stdout",
       "text": [
        "382\n",
        "1204873"
       ]
      },
      {
       "output_type": "stream",
       "stream": "stdout",
       "text": [
        "\n",
        "397"
       ]
      },
      {
       "output_type": "stream",
       "stream": "stdout",
       "text": [
        "\n",
        "app=\ub4dc\ub798\uace4 \ud50c\ub77c\uc774\ud2b8 for Kakao(382), keyword=\ub3c4\uc11c(1204873), both=\ub4dc\ub798\uace4 \ud50c\ub77c\uc774\ud2b8 for Kakao+\ub3c4\uc11c(397), pmi=-2.936\n"
       ]
      },
      {
       "output_type": "stream",
       "stream": "stdout",
       "text": [
        "382\n",
        "982983"
       ]
      },
      {
       "output_type": "stream",
       "stream": "stdout",
       "text": [
        "\n",
        "55"
       ]
      },
      {
       "output_type": "stream",
       "stream": "stdout",
       "text": [
        "\n",
        "app=\ub4dc\ub798\uace4 \ud50c\ub77c\uc774\ud2b8 for Kakao(382), keyword=\ucc38\uace0\uc790\ub8cc(982983), both=\ub4dc\ub798\uace4 \ud50c\ub77c\uc774\ud2b8 for Kakao+\ucc38\uace0\uc790\ub8cc(55), pmi=-2.166\n"
       ]
      },
      {
       "output_type": "stream",
       "stream": "stdout",
       "text": [
        "382\n",
        "1138297"
       ]
      },
      {
       "output_type": "stream",
       "stream": "stdout",
       "text": [
        "\n",
        "419"
       ]
      },
      {
       "output_type": "stream",
       "stream": "stdout",
       "text": [
        "\n",
        "app=\ub4dc\ub798\uace4 \ud50c\ub77c\uc774\ud2b8 for Kakao(382), keyword=\ub77c\uc774\ube0c(1138297), both=\ub4dc\ub798\uace4 \ud50c\ub77c\uc774\ud2b8 for Kakao+\ub77c\uc774\ube0c(419), pmi=-2.984\n"
       ]
      },
      {
       "output_type": "stream",
       "stream": "stdout",
       "text": [
        "382\n",
        "560975"
       ]
      },
      {
       "output_type": "stream",
       "stream": "stdout",
       "text": [
        "\n",
        "174"
       ]
      },
      {
       "output_type": "stream",
       "stream": "stdout",
       "text": [
        "\n",
        "app=\ub4dc\ub798\uace4 \ud50c\ub77c\uc774\ud2b8 for Kakao(382), keyword=\ubc30\uacbd\ud654\uba74(560975), both=\ub4dc\ub798\uace4 \ud50c\ub77c\uc774\ud2b8 for Kakao+\ubc30\uacbd\ud654\uba74(174), pmi=-2.910\n"
       ]
      },
      {
       "output_type": "stream",
       "stream": "stdout",
       "text": [
        "382\n",
        "135576"
       ]
      },
      {
       "output_type": "stream",
       "stream": "stdout",
       "text": [
        "\n",
        "383"
       ]
      },
      {
       "output_type": "stream",
       "stream": "stdout",
       "text": [
        "\n",
        "app=\ub4dc\ub798\uace4 \ud50c\ub77c\uc774\ud2b8 for Kakao(382), keyword=\ub77c\uc774\ube0c\ub7ec\ub9ac(135576), both=\ub4dc\ub798\uace4 \ud50c\ub77c\uc774\ud2b8 for Kakao+\ub77c\uc774\ube0c\ub7ec\ub9ac(383), pmi=-3.869\n"
       ]
      },
      {
       "output_type": "stream",
       "stream": "stdout",
       "text": [
        "382\n",
        "371607"
       ]
      },
      {
       "output_type": "stream",
       "stream": "stdout",
       "text": [
        "\n",
        "387"
       ]
      },
      {
       "output_type": "stream",
       "stream": "stdout",
       "text": [
        "\n",
        "app=\ub4dc\ub798\uace4 \ud50c\ub77c\uc774\ud2b8 for Kakao(382), keyword=\ub370\ubaa8(371607), both=\ub4dc\ub798\uace4 \ud50c\ub77c\uc774\ud2b8 for Kakao+\ub370\ubaa8(387), pmi=-3.436\n"
       ]
      },
      {
       "output_type": "stream",
       "stream": "stdout",
       "text": [
        "382\n",
        "207854"
       ]
      },
      {
       "output_type": "stream",
       "stream": "stdout",
       "text": [
        "\n",
        "388"
       ]
      },
      {
       "output_type": "stream",
       "stream": "stdout",
       "text": [
        "\n",
        "app=\ub4dc\ub798\uace4 \ud50c\ub77c\uc774\ud2b8 for Kakao(382), keyword=\ub77c\uc774\ud504\uc2a4\ud0c0\uc77c(207854), both=\ub4dc\ub798\uace4 \ud50c\ub77c\uc774\ud2b8 for Kakao+\ub77c\uc774\ud504\uc2a4\ud0c0\uc77c(388), pmi=-3.689\n"
       ]
      },
      {
       "output_type": "stream",
       "stream": "stdout",
       "text": [
        "382\n",
        "16332495"
       ]
      },
      {
       "output_type": "stream",
       "stream": "stdout",
       "text": [
        "\n",
        "469"
       ]
      },
      {
       "output_type": "stream",
       "stream": "stdout",
       "text": [
        "\n",
        "app=\ub4dc\ub798\uace4 \ud50c\ub77c\uc774\ud2b8 for Kakao(382), keyword=\ube14\ub85c\uadf8(16332495), both=\ub4dc\ub798\uace4 \ud50c\ub77c\uc774\ud2b8 for Kakao+\ube14\ub85c\uadf8(469), pmi=-1.876\n"
       ]
      },
      {
       "output_type": "stream",
       "stream": "stdout",
       "text": [
        "382\n",
        "2604503"
       ]
      },
      {
       "output_type": "stream",
       "stream": "stdout",
       "text": [
        "\n",
        "434"
       ]
      },
      {
       "output_type": "stream",
       "stream": "stdout",
       "text": [
        "\n",
        "app=\ub4dc\ub798\uace4 \ud50c\ub77c\uc774\ud2b8 for Kakao(382), keyword=\ub9cc\ud654(2604503), both=\ub4dc\ub798\uace4 \ud50c\ub77c\uc774\ud2b8 for Kakao+\ub9cc\ud654(434), pmi=-2.640\n"
       ]
      },
      {
       "output_type": "stream",
       "stream": "stdout",
       "text": [
        "382\n",
        "1746027"
       ]
      },
      {
       "output_type": "stream",
       "stream": "stdout",
       "text": [
        "\n",
        "432"
       ]
      },
      {
       "output_type": "stream",
       "stream": "stdout",
       "text": [
        "\n",
        "app=\ub4dc\ub798\uace4 \ud50c\ub77c\uc774\ud2b8 for Kakao(382), keyword=\ubbf8\ub514\uc5b4(1746027), both=\ub4dc\ub798\uace4 \ud50c\ub77c\uc774\ud2b8 for Kakao+\ubbf8\ub514\uc5b4(432), pmi=-2.811\n"
       ]
      },
      {
       "output_type": "stream",
       "stream": "stdout",
       "text": [
        "382\n",
        "5421480"
       ]
      },
      {
       "output_type": "stream",
       "stream": "stdout",
       "text": [
        "\n",
        "461"
       ]
      },
      {
       "output_type": "stream",
       "stream": "stdout",
       "text": [
        "\n",
        "app=\ub4dc\ub798\uace4 \ud50c\ub77c\uc774\ud2b8 for Kakao(382), keyword=\ub3d9\uc601\uc0c1(5421480), both=\ub4dc\ub798\uace4 \ud50c\ub77c\uc774\ud2b8 for Kakao+\ub3d9\uc601\uc0c1(461), pmi=-2.348\n"
       ]
      },
      {
       "output_type": "stream",
       "stream": "stdout",
       "text": [
        "382\n",
        "865531"
       ]
      },
      {
       "output_type": "stream",
       "stream": "stdout",
       "text": [
        "\n",
        "408"
       ]
      },
      {
       "output_type": "stream",
       "stream": "stdout",
       "text": [
        "\n",
        "app=\ub4dc\ub798\uace4 \ud50c\ub77c\uc774\ud2b8 for Kakao(382), keyword=\ube44\uc988\ub2c8\uc2a4(865531), both=\ub4dc\ub798\uace4 \ud50c\ub77c\uc774\ud2b8 for Kakao+\ube44\uc988\ub2c8\uc2a4(408), pmi=-3.091\n"
       ]
      },
      {
       "output_type": "stream",
       "stream": "stdout",
       "text": [
        "382\n",
        "1700644"
       ]
      },
      {
       "output_type": "stream",
       "stream": "stdout",
       "text": [
        "\n",
        "408"
       ]
      },
      {
       "output_type": "stream",
       "stream": "stdout",
       "text": [
        "\n",
        "app=\ub4dc\ub798\uace4 \ud50c\ub77c\uc774\ud2b8 for Kakao(382), keyword=\ud3b8\uc9d1(1700644), both=\ub4dc\ub798\uace4 \ud50c\ub77c\uc774\ud2b8 for Kakao+\ud3b8\uc9d1(408), pmi=-2.798\n"
       ]
      },
      {
       "output_type": "stream",
       "stream": "stdout",
       "text": [
        "382\n",
        "37500039"
       ]
      },
      {
       "output_type": "stream",
       "stream": "stdout",
       "text": [
        "\n",
        "598"
       ]
      },
      {
       "output_type": "stream",
       "stream": "stdout",
       "text": [
        "\n",
        "app=\ub4dc\ub798\uace4 \ud50c\ub77c\uc774\ud2b8 for Kakao(382), keyword=\uc0ac\uc9c4(37500039), both=\ub4dc\ub798\uace4 \ud50c\ub77c\uc774\ud2b8 for Kakao+\uc0ac\uc9c4(598), pmi=-1.621\n"
       ]
      },
      {
       "output_type": "stream",
       "stream": "stdout",
       "text": [
        "382\n",
        "275188"
       ]
      },
      {
       "output_type": "stream",
       "stream": "stdout",
       "text": [
        "\n",
        "389"
       ]
      },
      {
       "output_type": "stream",
       "stream": "stdout",
       "text": [
        "\n",
        "app=\ub4dc\ub798\uace4 \ud50c\ub77c\uc774\ud2b8 for Kakao(382), keyword=\uc0dd\uc0b0\uc131(275188), both=\ub4dc\ub798\uace4 \ud50c\ub77c\uc774\ud2b8 for Kakao+\uc0dd\uc0b0\uc131(389), pmi=-3.568\n"
       ]
      },
      {
       "output_type": "stream",
       "stream": "stdout",
       "text": [
        "382\n",
        "1042600"
       ]
      },
      {
       "output_type": "stream",
       "stream": "stdout",
       "text": [
        "\n",
        "593"
       ]
      },
      {
       "output_type": "stream",
       "stream": "stdout",
       "text": [
        "\n",
        "app=\ub4dc\ub798\uace4 \ud50c\ub77c\uc774\ud2b8 for Kakao(382), keyword=\uc18c\uc15c(1042600), both=\ub4dc\ub798\uace4 \ud50c\ub77c\uc774\ud2b8 for Kakao+\uc18c\uc15c(593), pmi=-3.173\n"
       ]
      },
      {
       "output_type": "stream",
       "stream": "stdout",
       "text": [
        "382\n",
        "580934"
       ]
      },
      {
       "output_type": "stream",
       "stream": "stdout",
       "text": [
        "\n",
        "462"
       ]
      },
      {
       "output_type": "stream",
       "stream": "stdout",
       "text": [
        "\n",
        "app=\ub4dc\ub798\uace4 \ud50c\ub77c\uc774\ud2b8 for Kakao(382), keyword=\ucf58\ud150\uce20(580934), both=\ub4dc\ub798\uace4 \ud50c\ub77c\uc774\ud2b8 for Kakao+\ucf58\ud150\uce20(462), pmi=-3.318\n"
       ]
      },
      {
       "output_type": "stream",
       "stream": "stdout",
       "text": [
        "382\n",
        "2412765"
       ]
      },
      {
       "output_type": "stream",
       "stream": "stdout",
       "text": [
        "\n",
        "417"
       ]
      },
      {
       "output_type": "stream",
       "stream": "stdout",
       "text": [
        "\n",
        "app=\ub4dc\ub798\uace4 \ud50c\ub77c\uc774\ud2b8 for Kakao(382), keyword=\uc1fc\ud551(2412765), both=\ub4dc\ub798\uace4 \ud50c\ub77c\uc774\ud2b8 for Kakao+\uc1fc\ud551(417), pmi=-2.656\n"
       ]
      },
      {
       "output_type": "stream",
       "stream": "stdout",
       "text": [
        "382\n",
        "196034"
       ]
      },
      {
       "output_type": "stream",
       "stream": "stdout",
       "text": [
        "\n",
        "388"
       ]
      },
      {
       "output_type": "stream",
       "stream": "stdout",
       "text": [
        "\n",
        "app=\ub4dc\ub798\uace4 \ud50c\ub77c\uc774\ud2b8 for Kakao(382), keyword=\uc704\uc82f(196034), both=\ub4dc\ub798\uace4 \ud50c\ub77c\uc774\ud2b8 for Kakao+\uc704\uc82f(388), pmi=-3.714\n"
       ]
      },
      {
       "output_type": "stream",
       "stream": "stdout",
       "text": [
        "382\n",
        "4015563"
       ]
      },
      {
       "output_type": "stream",
       "stream": "stdout",
       "text": [
        "\n",
        "438"
       ]
      },
      {
       "output_type": "stream",
       "stream": "stdout",
       "text": [
        "\n",
        "app=\ub4dc\ub798\uace4 \ud50c\ub77c\uc774\ud2b8 for Kakao(382), keyword=\uc790\ub3d9\ucc28(4015563), both=\ub4dc\ub798\uace4 \ud50c\ub77c\uc774\ud2b8 for Kakao+\uc790\ub3d9\ucc28(438), pmi=-2.456\n"
       ]
      },
      {
       "output_type": "stream",
       "stream": "stdout",
       "text": [
        "382\n",
        "1072061"
       ]
      },
      {
       "output_type": "stream",
       "stream": "stdout",
       "text": [
        "\n",
        "400"
       ]
      },
      {
       "output_type": "stream",
       "stream": "stdout",
       "text": [
        "\n",
        "app=\ub4dc\ub798\uace4 \ud50c\ub77c\uc774\ud2b8 for Kakao(382), keyword=\uacbd\uc8fc(1072061), both=\ub4dc\ub798\uace4 \ud50c\ub77c\uc774\ud2b8 for Kakao+\uacbd\uc8fc(400), pmi=-2.990\n"
       ]
      },
      {
       "output_type": "stream",
       "stream": "stdout",
       "text": [
        "382\n",
        "2432430"
       ]
      },
      {
       "output_type": "stream",
       "stream": "stdout",
       "text": [
        "\n",
        "406"
       ]
      },
      {
       "output_type": "stream",
       "stream": "stdout",
       "text": [
        "\n",
        "app=\ub4dc\ub798\uace4 \ud50c\ub77c\uc774\ud2b8 for Kakao(382), keyword=\ub2e4\uc774\uc5b4\ud2b8(2432430), both=\ub4dc\ub798\uace4 \ud50c\ub77c\uc774\ud2b8 for Kakao+\ub2e4\uc774\uc5b4\ud2b8(406), pmi=-2.640\n"
       ]
      },
      {
       "output_type": "stream",
       "stream": "stdout",
       "text": [
        "382\n",
        "580894"
       ]
      },
      {
       "output_type": "stream",
       "stream": "stdout",
       "text": [
        "\n",
        "389"
       ]
      },
      {
       "output_type": "stream",
       "stream": "stdout",
       "text": [
        "\n",
        "app=\ub4dc\ub798\uace4 \ud50c\ub77c\uc774\ud2b8 for Kakao(382), keyword=\ub2ec\ub825(580894), both=\ub4dc\ub798\uace4 \ud50c\ub77c\uc774\ud2b8 for Kakao+\ub2ec\ub825(389), pmi=-3.244\n"
       ]
      },
      {
       "output_type": "stream",
       "stream": "stdout",
       "text": [
        "382\n",
        "425033"
       ]
      },
      {
       "output_type": "stream",
       "stream": "stdout",
       "text": [
        "\n",
        "385"
       ]
      },
      {
       "output_type": "stream",
       "stream": "stdout",
       "text": [
        "\n",
        "app=\ub4dc\ub798\uace4 \ud50c\ub77c\uc774\ud2b8 for Kakao(382), keyword=\uc0dd\ub9ac(425033), both=\ub4dc\ub798\uace4 \ud50c\ub77c\uc774\ud2b8 for Kakao+\uc0dd\ub9ac(385), pmi=-3.375\n"
       ]
      },
      {
       "output_type": "stream",
       "stream": "stdout",
       "text": [
        "382\n",
        "117656"
       ]
      },
      {
       "output_type": "stream",
       "stream": "stdout",
       "text": [
        "\n",
        "389"
       ]
      },
      {
       "output_type": "stream",
       "stream": "stdout",
       "text": [
        "\n",
        "app=\ub4dc\ub798\uace4 \ud50c\ub77c\uc774\ud2b8 for Kakao(382), keyword=\uce98\ub9b0\ub354(117656), both=\ub4dc\ub798\uace4 \ud50c\ub77c\uc774\ud2b8 for Kakao+\uce98\ub9b0\ub354(389), pmi=-3.937\n"
       ]
      },
      {
       "output_type": "stream",
       "stream": "stdout",
       "text": [
        "382\n",
        "42366"
       ]
      },
      {
       "output_type": "stream",
       "stream": "stdout",
       "text": [
        "\n",
        "382"
       ]
      },
      {
       "output_type": "stream",
       "stream": "stdout",
       "text": [
        "\n",
        "app=\ub4dc\ub798\uace4 \ud50c\ub77c\uc774\ud2b8 for Kakao(382), keyword=\uc0ac\uc8fc\ud314\uc790(42366), both=\ub4dc\ub798\uace4 \ud50c\ub77c\uc774\ud2b8 for Kakao+\uc0ac\uc8fc\ud314\uc790(382), pmi=-4.373\n"
       ]
      },
      {
       "output_type": "stream",
       "stream": "stdout",
       "text": [
        "382\n",
        "557682"
       ]
      },
      {
       "output_type": "stream",
       "stream": "stdout",
       "text": [
        "\n",
        "389"
       ]
      },
      {
       "output_type": "stream",
       "stream": "stdout",
       "text": [
        "\n",
        "app=\ub4dc\ub798\uace4 \ud50c\ub77c\uc774\ud2b8 for Kakao(382), keyword=\uad81\ud569(557682), both=\ub4dc\ub798\uace4 \ud50c\ub77c\uc774\ud2b8 for Kakao+\uad81\ud569(389), pmi=-3.261\n"
       ]
      },
      {
       "output_type": "stream",
       "stream": "stdout",
       "text": [
        "382\n",
        "965124"
       ]
      },
      {
       "output_type": "stream",
       "stream": "stdout",
       "text": [
        "\n",
        "384"
       ]
      },
      {
       "output_type": "stream",
       "stream": "stdout",
       "text": [
        "\n",
        "app=\ub4dc\ub798\uace4 \ud50c\ub77c\uc774\ud2b8 for Kakao(382), keyword=\uccb4\uc911(965124), both=\ub4dc\ub798\uace4 \ud50c\ub77c\uc774\ud2b8 for Kakao+\uccb4\uc911(384), pmi=-3.018\n"
       ]
      },
      {
       "output_type": "stream",
       "stream": "stdout",
       "text": [
        "382\n",
        "2782149"
       ]
      },
      {
       "output_type": "stream",
       "stream": "stdout",
       "text": [
        "\n",
        "465"
       ]
      },
      {
       "output_type": "stream",
       "stream": "stdout",
       "text": [
        "\n",
        "app=\ub4dc\ub798\uace4 \ud50c\ub77c\uc774\ud2b8 for Kakao(382), keyword=\uc0ac\uc804(2782149), both=\ub4dc\ub798\uace4 \ud50c\ub77c\uc774\ud2b8 for Kakao+\uc0ac\uc804(465), pmi=-2.641\n"
       ]
      },
      {
       "output_type": "stream",
       "stream": "stdout",
       "text": [
        "382\n",
        "4737585"
       ]
      },
      {
       "output_type": "stream",
       "stream": "stdout",
       "text": [
        "\n",
        "441"
       ]
      },
      {
       "output_type": "stream",
       "stream": "stdout",
       "text": [
        "\n",
        "app=\ub4dc\ub798\uace4 \ud50c\ub77c\uc774\ud2b8 for Kakao(382), keyword=\ucef4\ud4e8\ud130(4737585), both=\ub4dc\ub798\uace4 \ud50c\ub77c\uc774\ud2b8 for Kakao+\ucef4\ud4e8\ud130(441), pmi=-2.387\n"
       ]
      },
      {
       "output_type": "stream",
       "stream": "stdout",
       "text": [
        "382\n",
        "332070"
       ]
      },
      {
       "output_type": "stream",
       "stream": "stdout",
       "text": [
        "\n",
        "387"
       ]
      },
      {
       "output_type": "stream",
       "stream": "stdout",
       "text": [
        "\n",
        "app=\ub4dc\ub798\uace4 \ud50c\ub77c\uc774\ud2b8 for Kakao(382), keyword=\ubc31\uacfc\uc0ac\uc804(332070), both=\ub4dc\ub798\uace4 \ud50c\ub77c\uc774\ud2b8 for Kakao+\ubc31\uacfc\uc0ac\uc804(387), pmi=-3.484\n"
       ]
      },
      {
       "output_type": "stream",
       "stream": "stdout",
       "text": [
        "382\n",
        "347880"
       ]
      },
      {
       "output_type": "stream",
       "stream": "stdout",
       "text": [
        "\n",
        "387"
       ]
      },
      {
       "output_type": "stream",
       "stream": "stdout",
       "text": [
        "\n",
        "app=\ub4dc\ub798\uace4 \ud50c\ub77c\uc774\ud2b8 for Kakao(382), keyword=\uae09\uc2dd(347880), both=\ub4dc\ub798\uace4 \ud50c\ub77c\uc774\ud2b8 for Kakao+\uae09\uc2dd(387), pmi=-3.464\n"
       ]
      },
      {
       "output_type": "stream",
       "stream": "stdout",
       "text": [
        "382\n",
        "13067383"
       ]
      },
      {
       "output_type": "stream",
       "stream": "stdout",
       "text": [
        "\n",
        "460"
       ]
      },
      {
       "output_type": "stream",
       "stream": "stdout",
       "text": [
        "\n",
        "app=\ub4dc\ub798\uace4 \ud50c\ub77c\uc774\ud2b8 for Kakao(382), keyword=\ud559\uad50(13067383), both=\ub4dc\ub798\uace4 \ud50c\ub77c\uc774\ud2b8 for Kakao+\ud559\uad50(460), pmi=-1.965\n"
       ]
      },
      {
       "output_type": "stream",
       "stream": "stdout",
       "text": [
        "382\n",
        "2576982"
       ]
      },
      {
       "output_type": "stream",
       "stream": "stdout",
       "text": [
        "\n",
        "406"
       ]
      },
      {
       "output_type": "stream",
       "stream": "stdout",
       "text": [
        "\n",
        "app=\ub4dc\ub798\uace4 \ud50c\ub77c\uc774\ud2b8 for Kakao(382), keyword=\ucd08\ub4f1\ud559\uad50(2576982), both=\ub4dc\ub798\uace4 \ud50c\ub77c\uc774\ud2b8 for Kakao+\ucd08\ub4f1\ud559\uad50(406), pmi=-2.615\n"
       ]
      },
      {
       "output_type": "stream",
       "stream": "stdout",
       "text": [
        "382\n",
        "1701902"
       ]
      },
      {
       "output_type": "stream",
       "stream": "stdout",
       "text": [
        "\n",
        "392"
       ]
      },
      {
       "output_type": "stream",
       "stream": "stdout",
       "text": [
        "\n",
        "app=\ub4dc\ub798\uace4 \ud50c\ub77c\uc774\ud2b8 for Kakao(382), keyword=\uc911\ud559\uad50(1701902), both=\ub4dc\ub798\uace4 \ud50c\ub77c\uc774\ud2b8 for Kakao+\uc911\ud559\uad50(392), pmi=-2.780\n"
       ]
      },
      {
       "output_type": "stream",
       "stream": "stdout",
       "text": [
        "382\n",
        "2565648"
       ]
      },
      {
       "output_type": "stream",
       "stream": "stdout",
       "text": [
        "\n",
        "396"
       ]
      },
      {
       "output_type": "stream",
       "stream": "stdout",
       "text": [
        "\n",
        "app=\ub4dc\ub798\uace4 \ud50c\ub77c\uc774\ud2b8 for Kakao(382), keyword=\uace0\ub4f1\ud559\uad50(2565648), both=\ub4dc\ub798\uace4 \ud50c\ub77c\uc774\ud2b8 for Kakao+\uace0\ub4f1\ud559\uad50(396), pmi=-2.606\n"
       ]
      },
      {
       "output_type": "stream",
       "stream": "stdout",
       "text": [
        "382\n",
        "3194078"
       ]
      },
      {
       "output_type": "stream",
       "stream": "stdout",
       "text": [
        "\n",
        "404"
       ]
      },
      {
       "output_type": "stream",
       "stream": "stdout",
       "text": [
        "\n",
        "app=\ub4dc\ub798\uace4 \ud50c\ub77c\uc774\ud2b8 for Kakao(382), keyword=\ub300\ud559\uad50(3194078), both=\ub4dc\ub798\uace4 \ud50c\ub77c\uc774\ud2b8 for Kakao+\ub300\ud559\uad50(404), pmi=-2.520\n"
       ]
      },
      {
       "output_type": "stream",
       "stream": "stdout",
       "text": [
        "382\n",
        "1185203"
       ]
      },
      {
       "output_type": "stream",
       "stream": "stdout",
       "text": [
        "\n",
        "423"
       ]
      },
      {
       "output_type": "stream",
       "stream": "stdout",
       "text": [
        "\n",
        "app=\ub4dc\ub798\uace4 \ud50c\ub77c\uc774\ud2b8 for Kakao(382), keyword=Korea(1185203), both=\ub4dc\ub798\uace4 \ud50c\ub77c\uc774\ud2b8 for Kakao+Korea(423), pmi=-2.970\n"
       ]
      },
      {
       "output_type": "stream",
       "stream": "stdout",
       "text": [
        "382\n",
        "608483"
       ]
      },
      {
       "output_type": "stream",
       "stream": "stdout",
       "text": [
        "\n",
        "396"
       ]
      },
      {
       "output_type": "stream",
       "stream": "stdout",
       "text": [
        "\n",
        "app=\ub4dc\ub798\uace4 \ud50c\ub77c\uc774\ud2b8 for Kakao(382), keyword=\ub124\ube44\uac8c\uc774\uc158(608483), both=\ub4dc\ub798\uace4 \ud50c\ub77c\uc774\ud2b8 for Kakao+\ub124\ube44\uac8c\uc774\uc158(396), pmi=-3.231\n"
       ]
      },
      {
       "output_type": "stream",
       "stream": "stdout",
       "text": [
        "382\n",
        "2825303"
       ]
      },
      {
       "output_type": "stream",
       "stream": "stdout",
       "text": [
        "\n",
        "424"
       ]
      },
      {
       "output_type": "stream",
       "stream": "stdout",
       "text": [
        "\n",
        "app=\ub4dc\ub798\uace4 \ud50c\ub77c\uc774\ud2b8 for Kakao(382), keyword=\uc9c0\ud558\ucca0(2825303), both=\ub4dc\ub798\uace4 \ud50c\ub77c\uc774\ud2b8 for Kakao+\uc9c0\ud558\ucca0(424), pmi=-2.594\n"
       ]
      },
      {
       "output_type": "stream",
       "stream": "stdout",
       "text": [
        "382\n",
        "167409"
       ]
      },
      {
       "output_type": "stream",
       "stream": "stdout",
       "text": [
        "\n",
        "389"
       ]
      },
      {
       "output_type": "stream",
       "stream": "stdout",
       "text": [
        "\n",
        "app=\ub4dc\ub798\uace4 \ud50c\ub77c\uc774\ud2b8 for Kakao(382), keyword=\uc885\uacb0\uc790(167409), both=\ub4dc\ub798\uace4 \ud50c\ub77c\uc774\ud2b8 for Kakao+\uc885\uacb0\uc790(389), pmi=-3.784\n"
       ]
      },
      {
       "output_type": "stream",
       "stream": "stdout",
       "text": [
        "382\n",
        "64554"
       ]
      },
      {
       "output_type": "stream",
       "stream": "stdout",
       "text": [
        "\n",
        "384"
       ]
      },
      {
       "output_type": "stream",
       "stream": "stdout",
       "text": [
        "\n",
        "app=\ub4dc\ub798\uace4 \ud50c\ub77c\uc774\ud2b8 for Kakao(382), keyword=\ub0b4\ube44(64554), both=\ub4dc\ub798\uace4 \ud50c\ub77c\uc774\ud2b8 for Kakao+\ub0b4\ube44(384), pmi=-4.192\n"
       ]
      },
      {
       "output_type": "stream",
       "stream": "stdout",
       "text": [
        "382\n",
        "110302"
       ]
      },
      {
       "output_type": "stream",
       "stream": "stdout",
       "text": [
        "\n",
        "384"
       ]
      },
      {
       "output_type": "stream",
       "stream": "stdout",
       "text": [
        "\n",
        "app=\ub4dc\ub798\uace4 \ud50c\ub77c\uc774\ud2b8 for Kakao(382), keyword=\uac00\uacc4\ubd80(110302), both=\ub4dc\ub798\uace4 \ud50c\ub77c\uc774\ud2b8 for Kakao+\uac00\uacc4\ubd80(384), pmi=-3.960\n"
       ]
      },
      {
       "output_type": "stream",
       "stream": "stdout",
       "text": [
        "382\n",
        "560984"
       ]
      },
      {
       "output_type": "stream",
       "stream": "stdout",
       "text": [
        "\n",
        "403"
       ]
      },
      {
       "output_type": "stream",
       "stream": "stdout",
       "text": [
        "\n",
        "app=\ub4dc\ub798\uace4 \ud50c\ub77c\uc774\ud2b8 for Kakao(382), keyword=Money(560984), both=\ub4dc\ub798\uace4 \ud50c\ub77c\uc774\ud2b8 for Kakao+Money(403), pmi=-3.274\n"
       ]
      },
      {
       "output_type": "stream",
       "stream": "stdout",
       "text": [
        "382\n",
        "2657672"
       ]
      },
      {
       "output_type": "stream",
       "stream": "stdout",
       "text": [
        "\n",
        "609"
       ]
      },
      {
       "output_type": "stream",
       "stream": "stdout",
       "text": [
        "\n",
        "app=\ub4dc\ub798\uace4 \ud50c\ub77c\uc774\ud2b8 for Kakao(382), keyword=\uc2a4\ub9c8\ud2b8(2657672), both=\ub4dc\ub798\uace4 \ud50c\ub77c\uc774\ud2b8 for Kakao+\uc2a4\ub9c8\ud2b8(609), pmi=-2.778\n"
       ]
      },
      {
       "output_type": "stream",
       "stream": "stdout",
       "text": [
        "382\n",
        "161422"
       ]
      },
      {
       "output_type": "stream",
       "stream": "stdout",
       "text": [
        "\n",
        "385"
       ]
      },
      {
       "output_type": "stream",
       "stream": "stdout",
       "text": [
        "\n",
        "app=\ub4dc\ub798\uace4 \ud50c\ub77c\uc774\ud2b8 for Kakao(382), keyword=\uacc4\uc0b0\uae30(161422), both=\ub4dc\ub798\uace4 \ud50c\ub77c\uc774\ud2b8 for Kakao+\uacc4\uc0b0\uae30(385), pmi=-3.795\n"
       ]
      },
      {
       "output_type": "stream",
       "stream": "stdout",
       "text": [
        "382\n",
        "3307076"
       ]
      },
      {
       "output_type": "stream",
       "stream": "stdout",
       "text": [
        "\n",
        "430"
       ]
      },
      {
       "output_type": "stream",
       "stream": "stdout",
       "text": [
        "\n",
        "app=\ub4dc\ub798\uace4 \ud50c\ub77c\uc774\ud2b8 for Kakao(382), keyword=\uc740\ud589(3307076), both=\ub4dc\ub798\uace4 \ud50c\ub77c\uc774\ud2b8 for Kakao+\uc740\ud589(430), pmi=-2.532\n"
       ]
      },
      {
       "output_type": "stream",
       "stream": "stdout",
       "text": [
        "382\n",
        "776539"
       ]
      },
      {
       "output_type": "stream",
       "stream": "stdout",
       "text": [
        "\n",
        "490"
       ]
      },
      {
       "output_type": "stream",
       "stream": "stdout",
       "text": [
        "\n",
        "app=\ub4dc\ub798\uace4 \ud50c\ub77c\uc774\ud2b8 for Kakao(382), keyword=\uac80\uc0c9\uc5b4(776539), both=\ub4dc\ub798\uace4 \ud50c\ub77c\uc774\ud2b8 for Kakao+\uac80\uc0c9\uc5b4(490), pmi=-3.218\n"
       ]
      },
      {
       "output_type": "stream",
       "stream": "stdout",
       "text": [
        "382\n",
        "1362086"
       ]
      },
      {
       "output_type": "stream",
       "stream": "stdout",
       "text": [
        "\n",
        "541"
       ]
      },
      {
       "output_type": "stream",
       "stream": "stdout",
       "text": [
        "\n",
        "app=\ub4dc\ub798\uace4 \ud50c\ub77c\uc774\ud2b8 for Kakao(382), keyword=\uc2e4\uc2dc\uac04(1362086), both=\ub4dc\ub798\uace4 \ud50c\ub77c\uc774\ud2b8 for Kakao+\uc2e4\uc2dc\uac04(541), pmi=-3.017\n"
       ]
      },
      {
       "output_type": "stream",
       "stream": "stdout",
       "text": [
        "382\n",
        "3116412"
       ]
      },
      {
       "output_type": "stream",
       "stream": "stdout",
       "text": [
        "\n",
        "415"
       ]
      },
      {
       "output_type": "stream",
       "stream": "stdout",
       "text": [
        "\n",
        "app=\ub4dc\ub798\uace4 \ud50c\ub77c\uc774\ud2b8 for Kakao(382), keyword=\uc2e0\ubb38(3116412), both=\ub4dc\ub798\uace4 \ud50c\ub77c\uc774\ud2b8 for Kakao+\uc2e0\ubb38(415), pmi=-2.542\n"
       ]
      },
      {
       "output_type": "stream",
       "stream": "stdout",
       "text": [
        "382\n",
        "1226509"
       ]
      },
      {
       "output_type": "stream",
       "stream": "stdout",
       "text": [
        "\n",
        "420"
       ]
      },
      {
       "output_type": "stream",
       "stream": "stdout",
       "text": [
        "\n",
        "app=\ub4dc\ub798\uace4 \ud50c\ub77c\uc774\ud2b8 for Kakao(382), keyword=\ud074\ub798\uc2dd(1226509), both=\ub4dc\ub798\uace4 \ud50c\ub77c\uc774\ud2b8 for Kakao+\ud074\ub798\uc2dd(420), pmi=-2.953\n"
       ]
      },
      {
       "output_type": "stream",
       "stream": "stdout",
       "text": [
        "382\n",
        "1406530"
       ]
      },
      {
       "output_type": "stream",
       "stream": "stdout",
       "text": [
        "\n",
        "431"
       ]
      },
      {
       "output_type": "stream",
       "stream": "stdout",
       "text": [
        "\n",
        "app=\ub4dc\ub798\uace4 \ud50c\ub77c\uc774\ud2b8 for Kakao(382), keyword=\uc560\ub2c8(1406530), both=\ub4dc\ub798\uace4 \ud50c\ub77c\uc774\ud2b8 for Kakao+\uc560\ub2c8(431), pmi=-2.904\n"
       ]
      },
      {
       "output_type": "stream",
       "stream": "stdout",
       "text": [
        "382\n",
        "1186133"
       ]
      },
      {
       "output_type": "stream",
       "stream": "stdout",
       "text": [
        "\n",
        "394"
       ]
      },
      {
       "output_type": "stream",
       "stream": "stdout",
       "text": [
        "\n",
        "app=\ub4dc\ub798\uace4 \ud50c\ub77c\uc774\ud2b8 for Kakao(382), keyword=\ub09a\uc2dc(1186133), both=\ub4dc\ub798\uace4 \ud50c\ub77c\uc774\ud2b8 for Kakao+\ub09a\uc2dc(394), pmi=-2.939\n"
       ]
      },
      {
       "output_type": "stream",
       "stream": "stdout",
       "text": [
        "382\n",
        "87415"
       ]
      },
      {
       "output_type": "stream",
       "stream": "stdout",
       "text": [
        "\n",
        "387"
       ]
      },
      {
       "output_type": "stream",
       "stream": "stdout",
       "text": [
        "\n",
        "app=\ub4dc\ub798\uace4 \ud50c\ub77c\uc774\ud2b8 for Kakao(382), keyword=\ub7f0\ucc98(87415), both=\ub4dc\ub798\uace4 \ud50c\ub77c\uc774\ud2b8 for Kakao+\ub7f0\ucc98(387), pmi=-4.064\n"
       ]
      },
      {
       "output_type": "stream",
       "stream": "stdout",
       "text": [
        "382\n",
        "67614"
       ]
      },
      {
       "output_type": "stream",
       "stream": "stdout",
       "text": [
        "\n",
        "385"
       ]
      },
      {
       "output_type": "stream",
       "stream": "stdout",
       "text": [
        "\n",
        "app=\ub4dc\ub798\uace4 \ud50c\ub77c\uc774\ud2b8 for Kakao(382), keyword=\uc8fc\uc18c\ub85d(67614), both=\ub4dc\ub798\uace4 \ud50c\ub77c\uc774\ud2b8 for Kakao+\uc8fc\uc18c\ub85d(385), pmi=-4.173\n"
       ]
      },
      {
       "output_type": "stream",
       "stream": "stdout",
       "text": [
        "382\n",
        "4767051"
       ]
      },
      {
       "output_type": "stream",
       "stream": "stdout",
       "text": [
        "\n",
        "697"
       ]
      },
      {
       "output_type": "stream",
       "stream": "stdout",
       "text": [
        "\n",
        "app=\ub4dc\ub798\uace4 \ud50c\ub77c\uc774\ud2b8 for Kakao(382), keyword=\ud3f0(4767051), both=\ub4dc\ub798\uace4 \ud50c\ub77c\uc774\ud2b8 for Kakao+\ud3f0(697), pmi=-2.583\n"
       ]
      },
      {
       "output_type": "stream",
       "stream": "stdout",
       "text": [
        "382\n",
        "819849"
       ]
      },
      {
       "output_type": "stream",
       "stream": "stdout",
       "text": [
        "\n",
        "403"
       ]
      },
      {
       "output_type": "stream",
       "stream": "stdout",
       "text": [
        "\n",
        "app=\ub4dc\ub798\uace4 \ud50c\ub77c\uc774\ud2b8 for Kakao(382), keyword=\ubc14\uc774\ub7ec\uc2a4(819849), both=\ub4dc\ub798\uace4 \ud50c\ub77c\uc774\ud2b8 for Kakao+\ubc14\uc774\ub7ec\uc2a4(403), pmi=-3.110\n"
       ]
      },
      {
       "output_type": "stream",
       "stream": "stdout",
       "text": [
        "382\n",
        "993404"
       ]
      },
      {
       "output_type": "stream",
       "stream": "stdout",
       "text": [
        "\n",
        "413"
       ]
      },
      {
       "output_type": "stream",
       "stream": "stdout",
       "text": [
        "\n",
        "app=\ub4dc\ub798\uace4 \ud50c\ub77c\uc774\ud2b8 for Kakao(382), keyword=\ubcf4\uc548(993404), both=\ub4dc\ub798\uace4 \ud50c\ub77c\uc774\ud2b8 for Kakao+\ubcf4\uc548(413), pmi=-3.037\n"
       ]
      },
      {
       "output_type": "stream",
       "stream": "stdout",
       "text": [
        "382\n",
        "1276220"
       ]
      },
      {
       "output_type": "stream",
       "stream": "stdout",
       "text": [
        "\n",
        "387"
       ]
      },
      {
       "output_type": "stream",
       "stream": "stdout",
       "text": [
        "\n",
        "app=\ub4dc\ub798\uace4 \ud50c\ub77c\uc774\ud2b8 for Kakao(382), keyword=\uc131\uacbd(1276220), both=\ub4dc\ub798\uace4 \ud50c\ub77c\uc774\ud2b8 for Kakao+\uc131\uacbd(387), pmi=-2.900\n"
       ]
      },
      {
       "output_type": "stream",
       "stream": "stdout",
       "text": [
        "382\n",
        "216006"
       ]
      },
      {
       "output_type": "stream",
       "stream": "stdout",
       "text": [
        "\n",
        "382"
       ]
      },
      {
       "output_type": "stream",
       "stream": "stdout",
       "text": [
        "\n",
        "app=\ub4dc\ub798\uace4 \ud50c\ub77c\uc774\ud2b8 for Kakao(382), keyword=\ucc2c\uc1a1(216006), both=\ub4dc\ub798\uace4 \ud50c\ub77c\uc774\ud2b8 for Kakao+\ucc2c\uc1a1(382), pmi=-3.666\n"
       ]
      },
      {
       "output_type": "stream",
       "stream": "stdout",
       "text": [
        "382\n",
        "84286"
       ]
      },
      {
       "output_type": "stream",
       "stream": "stdout",
       "text": [
        "\n",
        "387"
       ]
      },
      {
       "output_type": "stream",
       "stream": "stdout",
       "text": [
        "\n",
        "app=\ub4dc\ub798\uace4 \ud50c\ub77c\uc774\ud2b8 for Kakao(382), keyword=\ubc14\uc774\ube14(84286), both=\ub4dc\ub798\uace4 \ud50c\ub77c\uc774\ud2b8 for Kakao+\ubc14\uc774\ube14(387), pmi=-4.080\n"
       ]
      },
      {
       "output_type": "stream",
       "stream": "stdout",
       "text": [
        "382\n",
        "258582"
       ]
      },
      {
       "output_type": "stream",
       "stream": "stdout",
       "text": [
        "\n",
        "389"
       ]
      },
      {
       "output_type": "stream",
       "stream": "stdout",
       "text": [
        "\n",
        "app=\ub4dc\ub798\uace4 \ud50c\ub77c\uc774\ud2b8 for Kakao(382), keyword=\ubc31\uc2e0(258582), both=\ub4dc\ub798\uace4 \ud50c\ub77c\uc774\ud2b8 for Kakao+\ubc31\uc2e0(389), pmi=-3.595\n"
       ]
      },
      {
       "output_type": "stream",
       "stream": "stdout",
       "text": [
        "382\n",
        "2226474"
       ]
      },
      {
       "output_type": "stream",
       "stream": "stdout",
       "text": [
        "\n",
        "456"
       ]
      },
      {
       "output_type": "stream",
       "stream": "stdout",
       "text": [
        "\n",
        "app=\ub4dc\ub798\uace4 \ud50c\ub77c\uc774\ud2b8 for Kakao(382), keyword=\uc6f9(2226474), both=\ub4dc\ub798\uace4 \ud50c\ub77c\uc774\ud2b8 for Kakao+\uc6f9(456), pmi=-2.729\n"
       ]
      },
      {
       "output_type": "stream",
       "stream": "stdout",
       "text": [
        "382\n",
        "1287810"
       ]
      },
      {
       "output_type": "stream",
       "stream": "stdout",
       "text": [
        "\n",
        "402"
       ]
      },
      {
       "output_type": "stream",
       "stream": "stdout",
       "text": [
        "\n",
        "app=\ub4dc\ub798\uace4 \ud50c\ub77c\uc774\ud2b8 for Kakao(382), keyword=\uc2a4\ud2f0\ucee4(1287810), both=\ub4dc\ub798\uace4 \ud50c\ub77c\uc774\ud2b8 for Kakao+\uc2a4\ud2f0\ucee4(402), pmi=-2.912\n"
       ]
      },
      {
       "output_type": "stream",
       "stream": "stdout",
       "text": [
        "382\n",
        "364849"
       ]
      },
      {
       "output_type": "stream",
       "stream": "stdout",
       "text": [
        "\n",
        "388"
       ]
      },
      {
       "output_type": "stream",
       "stream": "stdout",
       "text": [
        "\n",
        "app=\ub4dc\ub798\uace4 \ud50c\ub77c\uc774\ud2b8 for Kakao(382), keyword=\uc0ac\uc8fc(364849), both=\ub4dc\ub798\uace4 \ud50c\ub77c\uc774\ud2b8 for Kakao+\uc0ac\uc8fc(388), pmi=-3.445\n"
       ]
      },
      {
       "output_type": "stream",
       "stream": "stdout",
       "text": [
        "382\n",
        "229882"
       ]
      },
      {
       "output_type": "stream",
       "stream": "stdout",
       "text": [
        "\n",
        "399"
       ]
      },
      {
       "output_type": "stream",
       "stream": "stdout",
       "text": [
        "\n",
        "app=\ub4dc\ub798\uace4 \ud50c\ub77c\uc774\ud2b8 for Kakao(382), keyword=\uc6b4\uc138(229882), both=\ub4dc\ub798\uace4 \ud50c\ub77c\uc774\ud2b8 for Kakao+\uc6b4\uc138(399), pmi=-3.657\n"
       ]
      },
      {
       "output_type": "stream",
       "stream": "stdout",
       "text": [
        "382\n",
        "680923"
       ]
      },
      {
       "output_type": "stream",
       "stream": "stdout",
       "text": [
        "\n",
        "413"
       ]
      },
      {
       "output_type": "stream",
       "stream": "stdout",
       "text": [
        "\n",
        "app=\ub4dc\ub798\uace4 \ud50c\ub77c\uc774\ud2b8 for Kakao(382), keyword=\ucf54\ubbf9(680923), both=\ub4dc\ub798\uace4 \ud50c\ub77c\uc774\ud2b8 for Kakao+\ucf54\ubbf9(413), pmi=-3.201\n"
       ]
      },
      {
       "output_type": "stream",
       "stream": "stdout",
       "text": [
        "382\n",
        "1210749"
       ]
      },
      {
       "output_type": "stream",
       "stream": "stdout",
       "text": [
        "\n",
        "484"
       ]
      },
      {
       "output_type": "stream",
       "stream": "stdout",
       "text": [
        "\n",
        "app=\ub4dc\ub798\uace4 \ud50c\ub77c\uc774\ud2b8 for Kakao(382), keyword=3D(1210749), both=\ub4dc\ub798\uace4 \ud50c\ub77c\uc774\ud2b8 for Kakao+3D(484), pmi=-3.020\n"
       ]
      },
      {
       "output_type": "stream",
       "stream": "stdout",
       "text": [
        "382\n",
        "207645"
       ]
      },
      {
       "output_type": "stream",
       "stream": "stdout",
       "text": [
        "\n",
        "388"
       ]
      },
      {
       "output_type": "stream",
       "stream": "stdout",
       "text": [
        "\n",
        "app=\ub4dc\ub798\uace4 \ud50c\ub77c\uc774\ud2b8 for Kakao(382), keyword=\ubcc4\uc790\ub9ac(207645), both=\ub4dc\ub798\uace4 \ud50c\ub77c\uc774\ud2b8 for Kakao+\ubcc4\uc790\ub9ac(388), pmi=-3.689\n"
       ]
      },
      {
       "output_type": "stream",
       "stream": "stdout",
       "text": [
        "382\n",
        "212222"
       ]
      },
      {
       "output_type": "stream",
       "stream": "stdout",
       "text": [
        "\n",
        "385"
       ]
      },
      {
       "output_type": "stream",
       "stream": "stdout",
       "text": [
        "\n",
        "app=\ub4dc\ub798\uace4 \ud50c\ub77c\uc774\ud2b8 for Kakao(382), keyword=tool(212222), both=\ub4dc\ub798\uace4 \ud50c\ub77c\uc774\ud2b8 for Kakao+tool(385), pmi=-3.677\n"
       ]
      },
      {
       "output_type": "stream",
       "stream": "stdout",
       "text": [
        "382\n",
        "340738"
       ]
      },
      {
       "output_type": "stream",
       "stream": "stdout",
       "text": [
        "\n",
        "405"
       ]
      },
      {
       "output_type": "stream",
       "stream": "stdout",
       "text": [
        "\n",
        "app=\ub4dc\ub798\uace4 \ud50c\ub77c\uc774\ud2b8 for Kakao(382), keyword=\uc6f9\ud230(340738), both=\ub4dc\ub798\uace4 \ud50c\ub77c\uc774\ud2b8 for Kakao+\uc6f9\ud230(405), pmi=-3.493\n"
       ]
      },
      {
       "output_type": "stream",
       "stream": "stdout",
       "text": [
        "382\n",
        "969984"
       ]
      },
      {
       "output_type": "stream",
       "stream": "stdout",
       "text": [
        "\n",
        "435"
       ]
      },
      {
       "output_type": "stream",
       "stream": "stdout",
       "text": [
        "\n",
        "app=\ub4dc\ub798\uace4 \ud50c\ub77c\uc774\ud2b8 for Kakao(382), keyword=\ud50c\ub808\uc774\uc5b4(969984), both=\ub4dc\ub798\uace4 \ud50c\ub77c\uc774\ud2b8 for Kakao+\ud50c\ub808\uc774\uc5b4(435), pmi=-3.070\n"
       ]
      },
      {
       "output_type": "stream",
       "stream": "stdout",
       "text": [
        "382\n",
        "5034851"
       ]
      },
      {
       "output_type": "stream",
       "stream": "stdout",
       "text": [
        "\n",
        "437"
       ]
      },
      {
       "output_type": "stream",
       "stream": "stdout",
       "text": [
        "\n",
        "app=\ub4dc\ub798\uace4 \ud50c\ub77c\uc774\ud2b8 for Kakao(382), keyword=\uce74\uba54\ub77c(5034851), both=\ub4dc\ub798\uace4 \ud50c\ub77c\uc774\ud2b8 for Kakao+\uce74\uba54\ub77c(437), pmi=-2.356\n"
       ]
      },
      {
       "output_type": "stream",
       "stream": "stdout",
       "text": [
        "382\n",
        "223507"
       ]
      },
      {
       "output_type": "stream",
       "stream": "stdout",
       "text": [
        "\n",
        "390"
       ]
      },
      {
       "output_type": "stream",
       "stream": "stdout",
       "text": [
        "\n",
        "app=\ub4dc\ub798\uace4 \ud50c\ub77c\uc774\ud2b8 for Kakao(382), keyword=\ubca8\uc18c\ub9ac(223507), both=\ub4dc\ub798\uace4 \ud50c\ub77c\uc774\ud2b8 for Kakao+\ubca8\uc18c\ub9ac(390), pmi=-3.660\n"
       ]
      },
      {
       "output_type": "stream",
       "stream": "stdout",
       "text": [
        "382\n",
        "1855016"
       ]
      },
      {
       "output_type": "stream",
       "stream": "stdout",
       "text": [
        "\n",
        "417"
       ]
      },
      {
       "output_type": "stream",
       "stream": "stdout",
       "text": [
        "\n",
        "app=\ub4dc\ub798\uace4 \ud50c\ub77c\uc774\ud2b8 for Kakao(382), keyword=\ud55c\uae00(1855016), both=\ub4dc\ub798\uace4 \ud50c\ub77c\uc774\ud2b8 for Kakao+\ud55c\uae00(417), pmi=-2.770\n"
       ]
      },
      {
       "output_type": "stream",
       "stream": "stdout",
       "text": [
        "382\n",
        "451848"
       ]
      },
      {
       "output_type": "stream",
       "stream": "stdout",
       "text": [
        "\n",
        "405"
       ]
      },
      {
       "output_type": "stream",
       "stream": "stdout",
       "text": [
        "\n",
        "app=\ub4dc\ub798\uace4 \ud50c\ub77c\uc774\ud2b8 for Kakao(382), keyword=\uc624\ud53c\uc2a4(451848), both=\ub4dc\ub798\uace4 \ud50c\ub77c\uc774\ud2b8 for Kakao+\uc624\ud53c\uc2a4(405), pmi=-3.370\n"
       ]
      },
      {
       "output_type": "stream",
       "stream": "stdout",
       "text": [
        "382\n",
        "479042"
       ]
      },
      {
       "output_type": "stream",
       "stream": "stdout",
       "text": [
        "\n",
        "391"
       ]
      },
      {
       "output_type": "stream",
       "stream": "stdout",
       "text": [
        "\n",
        "app=\ub4dc\ub798\uace4 \ud50c\ub77c\uc774\ud2b8 for Kakao(382), keyword=office(479042), both=\ub4dc\ub798\uace4 \ud50c\ub77c\uc774\ud2b8 for Kakao+office(391), pmi=-3.330\n"
       ]
      },
      {
       "output_type": "stream",
       "stream": "stdout",
       "text": [
        "382\n",
        "1275080"
       ]
      },
      {
       "output_type": "stream",
       "stream": "stdout",
       "text": [
        "\n",
        "404"
       ]
      },
      {
       "output_type": "stream",
       "stream": "stdout",
       "text": [
        "\n",
        "app=\ub4dc\ub798\uace4 \ud50c\ub77c\uc774\ud2b8 for Kakao(382), keyword=\uc54c\ubc14(1275080), both=\ub4dc\ub798\uace4 \ud50c\ub77c\uc774\ud2b8 for Kakao+\uc54c\ubc14(404), pmi=-2.919\n"
       ]
      },
      {
       "output_type": "stream",
       "stream": "stdout",
       "text": [
        "382\n",
        "1281901"
       ]
      },
      {
       "output_type": "stream",
       "stream": "stdout",
       "text": [
        "\n",
        "406"
       ]
      },
      {
       "output_type": "stream",
       "stream": "stdout",
       "text": [
        "\n",
        "app=\ub4dc\ub798\uace4 \ud50c\ub77c\uc774\ud2b8 for Kakao(382), keyword=photo(1281901), both=\ub4dc\ub798\uace4 \ud50c\ub77c\uc774\ud2b8 for Kakao+photo(406), pmi=-2.919\n"
       ]
      },
      {
       "output_type": "stream",
       "stream": "stdout",
       "text": [
        "382\n",
        "883700"
       ]
      },
      {
       "output_type": "stream",
       "stream": "stdout",
       "text": [
        "\n",
        "413"
       ]
      },
      {
       "output_type": "stream",
       "stream": "stdout",
       "text": [
        "\n",
        "app=\ub4dc\ub798\uace4 \ud50c\ub77c\uc774\ud2b8 for Kakao(382), keyword=\ub4dc\ub77c\uc774\ube0c(883700), both=\ub4dc\ub798\uace4 \ud50c\ub77c\uc774\ud2b8 for Kakao+\ub4dc\ub77c\uc774\ube0c(413), pmi=-3.088\n"
       ]
      },
      {
       "output_type": "stream",
       "stream": "stdout",
       "text": [
        "382\n",
        "3698069"
       ]
      },
      {
       "output_type": "stream",
       "stream": "stdout",
       "text": [
        "\n",
        "443"
       ]
      },
      {
       "output_type": "stream",
       "stream": "stdout",
       "text": [
        "\n",
        "app=\ub4dc\ub798\uace4 \ud50c\ub77c\uc774\ud2b8 for Kakao(382), keyword=\ud30c\uc77c(3698069), both=\ub4dc\ub798\uace4 \ud50c\ub77c\uc774\ud2b8 for Kakao+\ud30c\uc77c(443), pmi=-2.496\n"
       ]
      },
      {
       "output_type": "stream",
       "stream": "stdout",
       "text": [
        "382\n",
        "1045477"
       ]
      },
      {
       "output_type": "stream",
       "stream": "stdout",
       "text": [
        "\n",
        "398"
       ]
      },
      {
       "output_type": "stream",
       "stream": "stdout",
       "text": [
        "\n",
        "app=\ub4dc\ub798\uace4 \ud50c\ub77c\uc774\ud2b8 for Kakao(382), keyword=\uac24\ub7ec\ub9ac(1045477), both=\ub4dc\ub798\uace4 \ud50c\ub77c\uc774\ud2b8 for Kakao+\uac24\ub7ec\ub9ac(398), pmi=-2.999\n"
       ]
      },
      {
       "output_type": "stream",
       "stream": "stdout",
       "text": [
        "382\n",
        "2716644"
       ]
      },
      {
       "output_type": "stream",
       "stream": "stdout",
       "text": [
        "\n",
        "439"
       ]
      },
      {
       "output_type": "stream",
       "stream": "stdout",
       "text": [
        "\n",
        "app=\ub4dc\ub798\uace4 \ud50c\ub77c\uc774\ud2b8 for Kakao(382), keyword=\uadf8\ub8f9(2716644), both=\ub4dc\ub798\uace4 \ud50c\ub77c\uc774\ud2b8 for Kakao+\uadf8\ub8f9(439), pmi=-2.626\n"
       ]
      },
      {
       "output_type": "stream",
       "stream": "stdout",
       "text": [
        "382\n",
        "110183"
       ]
      },
      {
       "output_type": "stream",
       "stream": "stdout",
       "text": [
        "\n",
        "383"
       ]
      },
      {
       "output_type": "stream",
       "stream": "stdout",
       "text": [
        "\n",
        "app=\ub4dc\ub798\uace4 \ud50c\ub77c\uc774\ud2b8 for Kakao(382), keyword=\ubc14\ucf54\ub4dc(110183), both=\ub4dc\ub798\uace4 \ud50c\ub77c\uc774\ud2b8 for Kakao+\ubc14\ucf54\ub4dc(383), pmi=-3.959\n"
       ]
      },
      {
       "output_type": "stream",
       "stream": "stdout",
       "text": [
        "382\n",
        "102124"
       ]
      },
      {
       "output_type": "stream",
       "stream": "stdout",
       "text": [
        "\n",
        "388"
       ]
      },
      {
       "output_type": "stream",
       "stream": "stdout",
       "text": [
        "\n",
        "app=\ub4dc\ub798\uace4 \ud50c\ub77c\uc774\ud2b8 for Kakao(382), keyword=\uc2a4\uce90\ub108(102124), both=\ub4dc\ub798\uace4 \ud50c\ub77c\uc774\ud2b8 for Kakao+\uc2a4\uce90\ub108(388), pmi=-3.998\n"
       ]
      },
      {
       "output_type": "stream",
       "stream": "stdout",
       "text": [
        "382\n",
        "216862"
       ]
      },
      {
       "output_type": "stream",
       "stream": "stdout",
       "text": [
        "\n",
        "391"
       ]
      },
      {
       "output_type": "stream",
       "stream": "stdout",
       "text": [
        "\n",
        "app=\ub4dc\ub798\uace4 \ud50c\ub77c\uc774\ud2b8 for Kakao(382), keyword=\uc18c\uc15c\ucee4\uba38\uc2a4(216862), both=\ub4dc\ub798\uace4 \ud50c\ub77c\uc774\ud2b8 for Kakao+\uc18c\uc15c\ucee4\uba38\uc2a4(391), pmi=-3.674\n"
       ]
      },
      {
       "output_type": "stream",
       "stream": "stdout",
       "text": [
        "382\n",
        "1042600"
       ]
      },
      {
       "output_type": "stream",
       "stream": "stdout",
       "text": [
        "\n",
        "593"
       ]
      },
      {
       "output_type": "stream",
       "stream": "stdout",
       "text": [
        "\n",
        "app=\ub4dc\ub798\uace4 \ud50c\ub77c\uc774\ud2b8 for Kakao(382), keyword=\uc18c\uc15c(1042600), both=\ub4dc\ub798\uace4 \ud50c\ub77c\uc774\ud2b8 for Kakao+\uc18c\uc15c(593), pmi=-3.173\n"
       ]
      },
      {
       "output_type": "stream",
       "stream": "stdout",
       "text": [
        "382\n",
        "except 0"
       ]
      },
      {
       "output_type": "stream",
       "stream": "stdout",
       "text": [
        "\n",
        "407"
       ]
      },
      {
       "output_type": "stream",
       "stream": "stdout",
       "text": [
        "\n",
        "app=\ub4dc\ub798\uace4 \ud50c\ub77c\uc774\ud2b8 for Kakao(382), keyword=\uc131\uc778(0), both=\ub4dc\ub798\uace4 \ud50c\ub77c\uc774\ud2b8 for Kakao+\uc131\uc778(407), pmi=0.000\n"
       ]
      },
      {
       "output_type": "stream",
       "stream": "stdout",
       "text": [
        "382\n",
        "except 0"
       ]
      },
      {
       "output_type": "stream",
       "stream": "stdout",
       "text": [
        "\n",
        "401"
       ]
      },
      {
       "output_type": "stream",
       "stream": "stdout",
       "text": [
        "\n",
        "app=\ub4dc\ub798\uace4 \ud50c\ub77c\uc774\ud2b8 for Kakao(382), keyword=sex(0), both=\ub4dc\ub798\uace4 \ud50c\ub77c\uc774\ud2b8 for Kakao+sex(401), pmi=0.000\n"
       ]
      },
      {
       "output_type": "stream",
       "stream": "stdout",
       "text": [
        "382\n",
        "3358590"
       ]
      },
      {
       "output_type": "stream",
       "stream": "stdout",
       "text": [
        "\n",
        "403"
       ]
      },
      {
       "output_type": "stream",
       "stream": "stdout",
       "text": [
        "\n",
        "app=\ub4dc\ub798\uace4 \ud50c\ub77c\uc774\ud2b8 for Kakao(382), keyword=\uc5b4\ub978(3358590), both=\ub4dc\ub798\uace4 \ud50c\ub77c\uc774\ud2b8 for Kakao+\uc5b4\ub978(403), pmi=-2.497\n"
       ]
      },
      {
       "output_type": "stream",
       "stream": "stdout",
       "text": [
        "382\n",
        "except 0"
       ]
      },
      {
       "output_type": "stream",
       "stream": "stdout",
       "text": [
        "\n",
        "except 0"
       ]
      },
      {
       "output_type": "stream",
       "stream": "stdout",
       "text": [
        "\n",
        "app=\ub4dc\ub798\uace4 \ud50c\ub77c\uc774\ud2b8 for Kakao(382), keyword=\uc139\uc2a4(0), both=\ub4dc\ub798\uace4 \ud50c\ub77c\uc774\ud2b8 for Kakao+\uc139\uc2a4(0), pmi=0.000\n"
       ]
      },
      {
       "output_type": "stream",
       "stream": "stdout",
       "text": [
        "\r",
        "app Instagram start\n",
        "45135"
       ]
      },
      {
       "output_type": "stream",
       "stream": "stdout",
       "text": [
        "\n",
        "except 0"
       ]
      },
      {
       "output_type": "stream",
       "stream": "stdout",
       "text": [
        "\n",
        "45135"
       ]
      },
      {
       "output_type": "stream",
       "stream": "stdout",
       "text": [
        "\n",
        "app=Instagram(45135), keyword=(0), both=Instagram+(45135), pmi=0.000\n"
       ]
      },
      {
       "output_type": "stream",
       "stream": "stdout",
       "text": [
        "45135\n",
        "444205"
       ]
      },
      {
       "output_type": "stream",
       "stream": "stdout",
       "text": [
        "\n",
        "127"
       ]
      },
      {
       "output_type": "stream",
       "stream": "stdout",
       "text": [
        "\n",
        "app=Instagram(45135), keyword=\ufeff\ud37c\uc990(444205), both=Instagram+\ufeff\ud37c\uc990(127), pmi=-0.802\n"
       ]
      },
      {
       "output_type": "stream",
       "stream": "stdout",
       "text": [
        "45135\n",
        "422516"
       ]
      },
      {
       "output_type": "stream",
       "stream": "stdout",
       "text": [
        "\n",
        "66"
       ]
      },
      {
       "output_type": "stream",
       "stream": "stdout",
       "text": [
        "\n",
        "app=Instagram(45135), keyword=\uce90\uc8fc\uc5bc(422516), both=Instagram+\uce90\uc8fc\uc5bc(66), pmi=-0.539\n"
       ]
      },
      {
       "output_type": "stream",
       "stream": "stdout",
       "text": [
        "45135\n",
        "115391"
       ]
      },
      {
       "output_type": "stream",
       "stream": "stdout",
       "text": [
        "\n",
        "44"
       ]
      },
      {
       "output_type": "stream",
       "stream": "stdout",
       "text": [
        "\n",
        "app=Instagram(45135), keyword=\uc544\ucf00\uc774\ub4dc(115391), both=Instagram+\uc544\ucf00\uc774\ub4dc(44), pmi=-0.927\n"
       ]
      },
      {
       "output_type": "stream",
       "stream": "stdout",
       "text": [
        "45135\n",
        "6861755"
       ]
      },
      {
       "output_type": "stream",
       "stream": "stdout",
       "text": [
        "\n",
        "651"
       ]
      },
      {
       "output_type": "stream",
       "stream": "stdout",
       "text": [
        "\n",
        "app=Instagram(45135), keyword=\uc5ec\uc131(6861755), both=Instagram+\uc5ec\uc131(651), pmi=-0.323\n"
       ]
      },
      {
       "output_type": "stream",
       "stream": "stdout",
       "text": [
        "45135\n",
        "2386995"
       ]
      },
      {
       "output_type": "stream",
       "stream": "stdout",
       "text": [
        "\n",
        "218"
       ]
      },
      {
       "output_type": "stream",
       "stream": "stdout",
       "text": [
        "\n",
        "app=Instagram(45135), keyword=\ub0a8\uc131(2386995), both=Instagram+\ub0a8\uc131(218), pmi=-0.306\n"
       ]
      },
      {
       "output_type": "stream",
       "stream": "stdout",
       "text": [
        "45135\n",
        "19818224"
       ]
      },
      {
       "output_type": "stream",
       "stream": "stdout",
       "text": [
        "\n",
        "3897"
       ]
      },
      {
       "output_type": "stream",
       "stream": "stdout",
       "text": [
        "\n",
        "app=Instagram(45135), keyword=\uce5c\uad6c(19818224), both=Instagram+\uce5c\uad6c(3897), pmi=-0.639\n"
       ]
      },
      {
       "output_type": "stream",
       "stream": "stdout",
       "text": [
        "45135\n",
        "1498621"
       ]
      },
      {
       "output_type": "stream",
       "stream": "stdout",
       "text": [
        "\n",
        "248"
       ]
      },
      {
       "output_type": "stream",
       "stream": "stdout",
       "text": [
        "\n",
        "app=Instagram(45135), keyword=\uc5f0\uc560(1498621), both=Instagram+\uc5f0\uc560(248), pmi=-0.564\n"
       ]
      },
      {
       "output_type": "stream",
       "stream": "stdout",
       "text": [
        "45135\n",
        "496302"
       ]
      },
      {
       "output_type": "stream",
       "stream": "stdout",
       "text": [
        "\n",
        "73"
       ]
      },
      {
       "output_type": "stream",
       "stream": "stdout",
       "text": [
        "\n",
        "app=Instagram(45135), keyword=\uc5f0\uc608(496302), both=Instagram+\uc5f0\uc608(73), pmi=-0.513\n"
       ]
      },
      {
       "output_type": "stream",
       "stream": "stdout",
       "text": [
        "45135\n",
        "13161993"
       ]
      },
      {
       "output_type": "stream",
       "stream": "stdout",
       "text": [
        "\n",
        "1537"
       ]
      },
      {
       "output_type": "stream",
       "stream": "stdout",
       "text": [
        "\n",
        "app=Instagram(45135), keyword=\uc5bc\uad74(13161993), both=Instagram+\uc5bc\uad74(1537), pmi=-0.413\n"
       ]
      },
      {
       "output_type": "stream",
       "stream": "stdout",
       "text": [
        "45135\n",
        "3843447"
       ]
      },
      {
       "output_type": "stream",
       "stream": "stdout",
       "text": [
        "\n",
        "498"
       ]
      },
      {
       "output_type": "stream",
       "stream": "stdout",
       "text": [
        "\n",
        "app=Instagram(45135), keyword=\uc18d\ub3c4(3843447), both=Instagram+\uc18d\ub3c4(498), pmi=-0.458\n"
       ]
      },
      {
       "output_type": "stream",
       "stream": "stdout",
       "text": [
        "45135\n",
        "11917465"
       ]
      },
      {
       "output_type": "stream",
       "stream": "stdout",
       "text": [
        "\n",
        "1438"
       ]
      },
      {
       "output_type": "stream",
       "stream": "stdout",
       "text": [
        "\n",
        "app=Instagram(45135), keyword=\ub3c8(11917465), both=Instagram+\ub3c8(1438), pmi=-0.427\n"
       ]
      },
      {
       "output_type": "stream",
       "stream": "stdout",
       "text": [
        "45135\n",
        "490513"
       ]
      },
      {
       "output_type": "stream",
       "stream": "stdout",
       "text": [
        "\n",
        "123"
       ]
      },
      {
       "output_type": "stream",
       "stream": "stdout",
       "text": [
        "\n",
        "app=Instagram(45135), keyword=\ub79c\ub364(490513), both=Instagram+\ub79c\ub364(123), pmi=-0.745\n"
       ]
      },
      {
       "output_type": "stream",
       "stream": "stdout",
       "text": [
        "45135\n",
        "108965"
       ]
      },
      {
       "output_type": "stream",
       "stream": "stdout",
       "text": [
        "\n",
        "378"
       ]
      },
      {
       "output_type": "stream",
       "stream": "stdout",
       "text": [
        "\n",
        "app=Instagram(45135), keyword=random(108965), both=Instagram+random(378), pmi=-1.886\n"
       ]
      },
      {
       "output_type": "stream",
       "stream": "stdout",
       "text": [
        "45135\n",
        "8507030"
       ]
      },
      {
       "output_type": "stream",
       "stream": "stdout",
       "text": [
        "\n",
        "1013"
       ]
      },
      {
       "output_type": "stream",
       "stream": "stdout",
       "text": [
        "\n",
        "app=Instagram(45135), keyword=\uc74c\uc2dd(8507030), both=Instagram+\uc74c\uc2dd(1013), pmi=-0.421\n"
       ]
      },
      {
       "output_type": "stream",
       "stream": "stdout",
       "text": [
        "45135\n",
        "17687486"
       ]
      },
      {
       "output_type": "stream",
       "stream": "stdout",
       "text": [
        "\n",
        "1322"
       ]
      },
      {
       "output_type": "stream",
       "stream": "stdout",
       "text": [
        "\n",
        "app=Instagram(45135), keyword=\ubc29\ubc95(17687486), both=Instagram+\ubc29\ubc95(1322), pmi=-0.219\n"
       ]
      },
      {
       "output_type": "stream",
       "stream": "stdout",
       "text": [
        "45135\n",
        "588223"
       ]
      },
      {
       "output_type": "stream",
       "stream": "stdout",
       "text": [
        "\n",
        "713"
       ]
      },
      {
       "output_type": "stream",
       "stream": "stdout",
       "text": [
        "\n",
        "app=Instagram(45135), keyword=\uc548\ub4dc\ub85c\uc774\ub4dc(588223), both=Instagram+\uc548\ub4dc\ub85c\uc774\ub4dc(713), pmi=-1.429\n"
       ]
      },
      {
       "output_type": "stream",
       "stream": "stdout",
       "text": [
        "45135\n",
        "1473572"
       ]
      },
      {
       "output_type": "stream",
       "stream": "stdout",
       "text": [
        "\n",
        "2252"
       ]
      },
      {
       "output_type": "stream",
       "stream": "stdout",
       "text": [
        "\n",
        "app=Instagram(45135), keyword=\uc544\uc774\ud3f0(1473572), both=Instagram+\uc544\uc774\ud3f0(2252), pmi=-1.530\n"
       ]
      },
      {
       "output_type": "stream",
       "stream": "stdout",
       "text": [
        "45135\n",
        "223016"
       ]
      },
      {
       "output_type": "stream",
       "stream": "stdout",
       "text": [
        "\n",
        "3946"
       ]
      },
      {
       "output_type": "stream",
       "stream": "stdout",
       "text": [
        "\n",
        "app=Instagram(45135), keyword=android(223016), both=Instagram+android(3946), pmi=-2.593\n"
       ]
      },
      {
       "output_type": "stream",
       "stream": "stdout",
       "text": [
        "45135\n",
        "448863"
       ]
      },
      {
       "output_type": "stream",
       "stream": "stdout",
       "text": [
        "\n",
        "6698"
       ]
      },
      {
       "output_type": "stream",
       "stream": "stdout",
       "text": [
        "\n",
        "app=Instagram(45135), keyword=iphone(448863), both=Instagram+iphone(6698), pmi=-2.519\n"
       ]
      },
      {
       "output_type": "stream",
       "stream": "stdout",
       "text": [
        "45135\n",
        "348221"
       ]
      },
      {
       "output_type": "stream",
       "stream": "stdout",
       "text": [
        "\n",
        "23"
       ]
      },
      {
       "output_type": "stream",
       "stream": "stdout",
       "text": [
        "\n",
        "app=Instagram(45135), keyword=\uc624\ub77d(348221), both=Instagram+\uc624\ub77d(23), pmi=-0.165\n"
       ]
      },
      {
       "output_type": "stream",
       "stream": "stdout",
       "text": [
        "45135\n",
        "1396584"
       ]
      },
      {
       "output_type": "stream",
       "stream": "stdout",
       "text": [
        "\n",
        "105"
       ]
      },
      {
       "output_type": "stream",
       "stream": "stdout",
       "text": [
        "\n",
        "app=Instagram(45135), keyword=\uc2ec\ub9ac(1396584), both=Instagram+\uc2ec\ub9ac(105), pmi=-0.222\n"
       ]
      },
      {
       "output_type": "stream",
       "stream": "stdout",
       "text": [
        "45135\n",
        "1568739"
       ]
      },
      {
       "output_type": "stream",
       "stream": "stdout",
       "text": [
        "\n",
        "209"
       ]
      },
      {
       "output_type": "stream",
       "stream": "stdout",
       "text": [
        "\n",
        "app=Instagram(45135), keyword=\ubd80\uc790(1568739), both=Instagram+\ubd80\uc790(209), pmi=-0.470\n"
       ]
      },
      {
       "output_type": "stream",
       "stream": "stdout",
       "text": [
        "45135\n",
        "5402175"
       ]
      },
      {
       "output_type": "stream",
       "stream": "stdout",
       "text": [
        "\n",
        "794"
       ]
      },
      {
       "output_type": "stream",
       "stream": "stdout",
       "text": [
        "\n",
        "app=Instagram(45135), keyword=\uc601\uc5b4(5402175), both=Instagram+\uc601\uc5b4(794), pmi=-0.513\n"
       ]
      },
      {
       "output_type": "stream",
       "stream": "stdout",
       "text": [
        "45135\n",
        "483192"
       ]
      },
      {
       "output_type": "stream",
       "stream": "stdout",
       "text": [
        "\n",
        "70"
       ]
      },
      {
       "output_type": "stream",
       "stream": "stdout",
       "text": [
        "\n",
        "app=Instagram(45135), keyword=\ud1a0\uc775(483192), both=Instagram+\ud1a0\uc775(70), pmi=-0.506\n"
       ]
      },
      {
       "output_type": "stream",
       "stream": "stdout",
       "text": [
        "45135\n",
        "8530745"
       ]
      },
      {
       "output_type": "stream",
       "stream": "stdout",
       "text": [
        "\n",
        "847"
       ]
      },
      {
       "output_type": "stream",
       "stream": "stdout",
       "text": [
        "\n",
        "app=Instagram(45135), keyword=\uacf5\ubd80(8530745), both=Instagram+\uacf5\ubd80(847), pmi=-0.342\n"
       ]
      },
      {
       "output_type": "stream",
       "stream": "stdout",
       "text": [
        "45135\n",
        "5445745"
       ]
      },
      {
       "output_type": "stream",
       "stream": "stdout",
       "text": [
        "\n",
        "446"
       ]
      },
      {
       "output_type": "stream",
       "stream": "stdout",
       "text": [
        "\n",
        "app=Instagram(45135), keyword=\uc77c\uc815(5445745), both=Instagram+\uc77c\uc815(446), pmi=-0.259\n"
       ]
      },
      {
       "output_type": "stream",
       "stream": "stdout",
       "text": [
        "45135\n",
        "580894"
       ]
      },
      {
       "output_type": "stream",
       "stream": "stdout",
       "text": [
        "\n",
        "146"
       ]
      },
      {
       "output_type": "stream",
       "stream": "stdout",
       "text": [
        "\n",
        "app=Instagram(45135), keyword=\ub2ec\ub825(580894), both=Instagram+\ub2ec\ub825(146), pmi=-0.746\n"
       ]
      },
      {
       "output_type": "stream",
       "stream": "stdout",
       "text": [
        "45135\n",
        "8137789"
       ]
      },
      {
       "output_type": "stream",
       "stream": "stdout",
       "text": [
        "\n",
        "565"
       ]
      },
      {
       "output_type": "stream",
       "stream": "stdout",
       "text": [
        "\n",
        "app=Instagram(45135), keyword=\uacc4\ud68d(8137789), both=Instagram+\uacc4\ud68d(565), pmi=-0.187\n"
       ]
      },
      {
       "output_type": "stream",
       "stream": "stdout",
       "text": [
        "45135\n",
        "1109614"
       ]
      },
      {
       "output_type": "stream",
       "stream": "stdout",
       "text": [
        "\n",
        "54"
       ]
      },
      {
       "output_type": "stream",
       "stream": "stdout",
       "text": [
        "\n",
        "app=Instagram(45135), keyword=\uacf5\ub7b5(1109614), both=Instagram+\uacf5\ub7b5(54), pmi=-0.033\n"
       ]
      },
      {
       "output_type": "stream",
       "stream": "stdout",
       "text": [
        "45135\n",
        "358302"
       ]
      },
      {
       "output_type": "stream",
       "stream": "stdout",
       "text": [
        "\n",
        "68"
       ]
      },
      {
       "output_type": "stream",
       "stream": "stdout",
       "text": [
        "\n",
        "app=Instagram(45135), keyword=\ub808\uc774\uc2f1(358302), both=Instagram+\ub808\uc774\uc2f1(68), pmi=-0.624\n"
       ]
      },
      {
       "output_type": "stream",
       "stream": "stdout",
       "text": [
        "45135\n",
        "209270"
       ]
      },
      {
       "output_type": "stream",
       "stream": "stdout",
       "text": [
        "\n",
        "71"
       ]
      },
      {
       "output_type": "stream",
       "stream": "stdout",
       "text": [
        "\n",
        "app=Instagram(45135), keyword=RPG(209270), both=Instagram+RPG(71), pmi=-0.876\n"
       ]
      },
      {
       "output_type": "stream",
       "stream": "stdout",
       "text": [
        "45135\n",
        "5037760"
       ]
      },
      {
       "output_type": "stream",
       "stream": "stdout",
       "text": [
        "\n",
        "793"
       ]
      },
      {
       "output_type": "stream",
       "stream": "stdout",
       "text": [
        "\n",
        "app=Instagram(45135), keyword=\uce74\ub4dc(5037760), both=Instagram+\uce74\ub4dc(793), pmi=-0.543\n"
       ]
      },
      {
       "output_type": "stream",
       "stream": "stdout",
       "text": [
        "45135\n",
        "100553"
       ]
      },
      {
       "output_type": "stream",
       "stream": "stdout",
       "text": [
        "\n",
        "61"
       ]
      },
      {
       "output_type": "stream",
       "stream": "stdout",
       "text": [
        "\n",
        "app=Instagram(45135), keyword=\ub514\ud39c\uc2a4(100553), both=Instagram+\ub514\ud39c\uc2a4(61), pmi=-1.128\n"
       ]
      },
      {
       "output_type": "stream",
       "stream": "stdout",
       "text": [
        "45135\n",
        "547815"
       ]
      },
      {
       "output_type": "stream",
       "stream": "stdout",
       "text": [
        "\n",
        "38"
       ]
      },
      {
       "output_type": "stream",
       "stream": "stdout",
       "text": [
        "\n",
        "app=Instagram(45135), keyword=\ub450\ub1cc(547815), both=Instagram+\ub450\ub1cc(38), pmi=-0.187\n"
       ]
      },
      {
       "output_type": "stream",
       "stream": "stdout",
       "text": [
        "45135\n",
        "23082"
       ]
      },
      {
       "output_type": "stream",
       "stream": "stdout",
       "text": [
        "\n",
        "except 0"
       ]
      },
      {
       "output_type": "stream",
       "stream": "stdout",
       "text": [
        "\n",
        "app=Instagram(45135), keyword=\uc2dc\ubbac(23082), both=Instagram+\uc2dc\ubbac(0), pmi=9.018\n"
       ]
      },
      {
       "output_type": "stream",
       "stream": "stdout",
       "text": [
        "45135\n",
        "642029"
       ]
      },
      {
       "output_type": "stream",
       "stream": "stdout",
       "text": [
        "\n",
        "54"
       ]
      },
      {
       "output_type": "stream",
       "stream": "stdout",
       "text": [
        "\n",
        "app=Instagram(45135), keyword=\ub2ec\ub9ac\uae30(642029), both=Instagram+\ub2ec\ub9ac\uae30(54), pmi=-0.270\n"
       ]
      },
      {
       "output_type": "stream",
       "stream": "stdout",
       "text": [
        "45135\n",
        "230538"
       ]
      },
      {
       "output_type": "stream",
       "stream": "stdout",
       "text": [
        "\n",
        "45"
       ]
      },
      {
       "output_type": "stream",
       "stream": "stdout",
       "text": [
        "\n",
        "app=Instagram(45135), keyword=\uc288\ud305(230538), both=Instagram+\uc288\ud305(45), pmi=-0.636\n"
       ]
      },
      {
       "output_type": "stream",
       "stream": "stdout",
       "text": [
        "45135\n",
        "1745989"
       ]
      },
      {
       "output_type": "stream",
       "stream": "stdout",
       "text": [
        "\n",
        "235"
       ]
      },
      {
       "output_type": "stream",
       "stream": "stdout",
       "text": [
        "\n",
        "app=Instagram(45135), keyword=\ucd95\uad6c(1745989), both=Instagram+\ucd95\uad6c(235), pmi=-0.475\n"
       ]
      },
      {
       "output_type": "stream",
       "stream": "stdout",
       "text": [
        "45135\n",
        "1831254"
       ]
      },
      {
       "output_type": "stream",
       "stream": "stdout",
       "text": [
        "\n",
        "111"
       ]
      },
      {
       "output_type": "stream",
       "stream": "stdout",
       "text": [
        "\n",
        "app=Instagram(45135), keyword=\uacbd\uc601(1831254), both=Instagram+\uacbd\uc601(111), pmi=-0.128\n"
       ]
      },
      {
       "output_type": "stream",
       "stream": "stdout",
       "text": [
        "45135\n",
        "32917"
       ]
      },
      {
       "output_type": "stream",
       "stream": "stdout",
       "text": [
        "\n",
        "4"
       ]
      },
      {
       "output_type": "stream",
       "stream": "stdout",
       "text": [
        "\n",
        "app=Instagram(45135), keyword=\ud0c0\uc774\ucfe4(32917), both=Instagram+\ud0c0\uc774\ucfe4(4), pmi=-0.430\n"
       ]
      },
      {
       "output_type": "stream",
       "stream": "stdout",
       "text": [
        "45135\n",
        "1170313"
       ]
      },
      {
       "output_type": "stream",
       "stream": "stdout",
       "text": [
        "\n",
        "120"
       ]
      },
      {
       "output_type": "stream",
       "stream": "stdout",
       "text": [
        "\n",
        "app=Instagram(45135), keyword=\ud0c8\ucd9c(1170313), both=Instagram+\ud0c8\ucd9c(120), pmi=-0.356\n"
       ]
      },
      {
       "output_type": "stream",
       "stream": "stdout",
       "text": [
        "45135\n",
        "391510"
       ]
      },
      {
       "output_type": "stream",
       "stream": "stdout",
       "text": [
        "\n",
        "22"
       ]
      },
      {
       "output_type": "stream",
       "stream": "stdout",
       "text": [
        "\n",
        "app=Instagram(45135), keyword=\ucd94\ub9ac(391510), both=Instagram+\ucd94\ub9ac(22), pmi=-0.095\n"
       ]
      },
      {
       "output_type": "stream",
       "stream": "stdout",
       "text": [
        "45135\n",
        "1488636"
       ]
      },
      {
       "output_type": "stream",
       "stream": "stdout",
       "text": [
        "\n",
        "75"
       ]
      },
      {
       "output_type": "stream",
       "stream": "stdout",
       "text": [
        "\n",
        "app=Instagram(45135), keyword=\uc7a5\uae30(1488636), both=Instagram+\uc7a5\uae30(75), pmi=-0.048\n"
       ]
      },
      {
       "output_type": "stream",
       "stream": "stdout",
       "text": [
        "45135\n",
        "1958842"
       ]
      },
      {
       "output_type": "stream",
       "stream": "stdout",
       "text": [
        "\n",
        "285"
       ]
      },
      {
       "output_type": "stream",
       "stream": "stdout",
       "text": [
        "\n",
        "app=Instagram(45135), keyword=\ube44\ud589\uae30(1958842), both=Instagram+\ube44\ud589\uae30(285), pmi=-0.508\n"
       ]
      },
      {
       "output_type": "stream",
       "stream": "stdout",
       "text": [
        "45135\n",
        "33753"
       ]
      },
      {
       "output_type": "stream",
       "stream": "stdout",
       "text": [
        "\n",
        "15"
       ]
      },
      {
       "output_type": "stream",
       "stream": "stdout",
       "text": [
        "\n",
        "app=Instagram(45135), keyword=\uc0ac\ucc9c\uc131(33753), both=Instagram+\uc0ac\ucc9c\uc131(15), pmi=-0.993\n"
       ]
      },
      {
       "output_type": "stream",
       "stream": "stdout",
       "text": [
        "45135\n",
        "2493689"
       ]
      },
      {
       "output_type": "stream",
       "stream": "stdout",
       "text": [
        "\n",
        "288"
       ]
      },
      {
       "output_type": "stream",
       "stream": "stdout",
       "text": [
        "\n",
        "app=Instagram(45135), keyword=\uc2a4\ud3ec\uce20(2493689), both=Instagram+\uc2a4\ud3ec\uce20(288), pmi=-0.408\n"
       ]
      },
      {
       "output_type": "stream",
       "stream": "stdout",
       "text": [
        "45135\n",
        "493892"
       ]
      },
      {
       "output_type": "stream",
       "stream": "stdout",
       "text": [
        "\n",
        "98"
       ]
      },
      {
       "output_type": "stream",
       "stream": "stdout",
       "text": [
        "\n",
        "app=Instagram(45135), keyword=\ub18d\uad6c(493892), both=Instagram+\ub18d\uad6c(98), pmi=-0.643\n"
       ]
      },
      {
       "output_type": "stream",
       "stream": "stdout",
       "text": [
        "45135\n",
        "1186134"
       ]
      },
      {
       "output_type": "stream",
       "stream": "stdout",
       "text": [
        "\n",
        "87"
       ]
      },
      {
       "output_type": "stream",
       "stream": "stdout",
       "text": [
        "\n",
        "app=Instagram(45135), keyword=\ub09a\uc2dc(1186134), both=Instagram+\ub09a\uc2dc(87), pmi=-0.211\n"
       ]
      },
      {
       "output_type": "stream",
       "stream": "stdout",
       "text": [
        "45135\n",
        "7514159"
       ]
      },
      {
       "output_type": "stream",
       "stream": "stdout",
       "text": [
        "\n",
        "1510"
       ]
      },
      {
       "output_type": "stream",
       "stream": "stdout",
       "text": [
        "\n",
        "app=Instagram(45135), keyword=\uc74c\uc545(7514159), both=Instagram+\uc74c\uc545(1510), pmi=-0.649\n"
       ]
      },
      {
       "output_type": "stream",
       "stream": "stdout",
       "text": [
        "45135\n",
        "1021128"
       ]
      },
      {
       "output_type": "stream",
       "stream": "stdout",
       "text": [
        "\n",
        "376"
       ]
      },
      {
       "output_type": "stream",
       "stream": "stdout",
       "text": [
        "\n",
        "app=Instagram(45135), keyword=\uce74\ud1a1(1021128), both=Instagram+\uce74\ud1a1(376), pmi=-0.912\n"
       ]
      },
      {
       "output_type": "stream",
       "stream": "stdout",
       "text": [
        "45135\n",
        "1043435"
       ]
      },
      {
       "output_type": "stream",
       "stream": "stdout",
       "text": [
        "\n",
        "99"
       ]
      },
      {
       "output_type": "stream",
       "stream": "stdout",
       "text": [
        "\n",
        "app=Instagram(45135), keyword=\uace8\ud504(1043435), both=Instagram+\uace8\ud504(99), pmi=-0.323\n"
       ]
      },
      {
       "output_type": "stream",
       "stream": "stdout",
       "text": [
        "45135\n",
        "121691"
       ]
      },
      {
       "output_type": "stream",
       "stream": "stdout",
       "text": [
        "\n",
        "16"
       ]
      },
      {
       "output_type": "stream",
       "stream": "stdout",
       "text": [
        "\n",
        "app=Instagram(45135), keyword=\ub2f9\uad6c(121691), both=Instagram+\ub2f9\uad6c(16), pmi=-0.464\n"
       ]
      },
      {
       "output_type": "stream",
       "stream": "stdout",
       "text": [
        "45135\n",
        "1395631"
       ]
      },
      {
       "output_type": "stream",
       "stream": "stdout",
       "text": [
        "\n",
        "315"
       ]
      },
      {
       "output_type": "stream",
       "stream": "stdout",
       "text": [
        "\n",
        "app=Instagram(45135), keyword=\uc57c\uad6c(1395631), both=Instagram+\uc57c\uad6c(315), pmi=-0.699\n"
       ]
      },
      {
       "output_type": "stream",
       "stream": "stdout",
       "text": [
        "45135\n",
        "120180"
       ]
      },
      {
       "output_type": "stream",
       "stream": "stdout",
       "text": [
        "\n",
        "24"
       ]
      },
      {
       "output_type": "stream",
       "stream": "stdout",
       "text": [
        "\n",
        "app=Instagram(45135), keyword=\ubcfc\ub9c1(120180), both=Instagram+\ubcfc\ub9c1(24), pmi=-0.646\n"
       ]
      },
      {
       "output_type": "stream",
       "stream": "stdout",
       "text": [
        "45135\n",
        "1768"
       ]
      },
      {
       "output_type": "stream",
       "stream": "stdout",
       "text": [
        "\n",
        "2"
       ]
      },
      {
       "output_type": "stream",
       "stream": "stdout",
       "text": [
        "\n",
        "app=Instagram(45135), keyword=\ud14c\uc774\uc2a4(1768), both=Instagram+\ud14c\uc774\uc2a4(2), pmi=-1.399\n"
       ]
      },
      {
       "output_type": "stream",
       "stream": "stdout",
       "text": [
        "45135\n",
        "238841"
       ]
      },
      {
       "output_type": "stream",
       "stream": "stdout",
       "text": [
        "\n",
        "22"
       ]
      },
      {
       "output_type": "stream",
       "stream": "stdout",
       "text": [
        "\n",
        "app=Instagram(45135), keyword=\uc0bc\uad6d\uc9c0(238841), both=Instagram+\uc0bc\uad6d\uc9c0(22), pmi=-0.310\n"
       ]
      },
      {
       "output_type": "stream",
       "stream": "stdout",
       "text": [
        "45135\n",
        "24214"
       ]
      },
      {
       "output_type": "stream",
       "stream": "stdout",
       "text": [
        "\n",
        "5"
       ]
      },
      {
       "output_type": "stream",
       "stream": "stdout",
       "text": [
        "\n",
        "app=Instagram(45135), keyword=TCG(24214), both=Instagram+TCG(5), pmi=-0.660\n"
       ]
      },
      {
       "output_type": "stream",
       "stream": "stdout",
       "text": [
        "45135\n",
        "3481108"
       ]
      },
      {
       "output_type": "stream",
       "stream": "stdout",
       "text": [
        "\n",
        "277"
       ]
      },
      {
       "output_type": "stream",
       "stream": "stdout",
       "text": [
        "\n",
        "app=Instagram(45135), keyword=\uc804\uc7c1(3481108), both=Instagram+\uc804\uc7c1(277), pmi=-0.246\n"
       ]
      },
      {
       "output_type": "stream",
       "stream": "stdout",
       "text": [
        "45135\n",
        "9385408"
       ]
      },
      {
       "output_type": "stream",
       "stream": "stdout",
       "text": [
        "\n",
        "685"
       ]
      },
      {
       "output_type": "stream",
       "stream": "stdout",
       "text": [
        "\n",
        "app=Instagram(45135), keyword=\uac74\uac15(9385408), both=Instagram+\uac74\uac15(685), pmi=-0.209\n"
       ]
      },
      {
       "output_type": "stream",
       "stream": "stdout",
       "text": [
        "45135\n",
        "6675475"
       ]
      },
      {
       "output_type": "stream",
       "stream": "stdout",
       "text": [
        "\n",
        "772"
       ]
      },
      {
       "output_type": "stream",
       "stream": "stdout",
       "text": [
        "\n",
        "app=Instagram(45135), keyword=\uc6b4\ub3d9(6675475), both=Instagram+\uc6b4\ub3d9(772), pmi=-0.409\n"
       ]
      },
      {
       "output_type": "stream",
       "stream": "stdout",
       "text": [
        "45135\n",
        "7017888"
       ]
      },
      {
       "output_type": "stream",
       "stream": "stdout",
       "text": [
        "\n",
        "359"
       ]
      },
      {
       "output_type": "stream",
       "stream": "stdout",
       "text": [
        "\n",
        "app=Instagram(45135), keyword=\uad50\uc721(7017888), both=Instagram+\uad50\uc721(359), pmi=-0.054\n"
       ]
      },
      {
       "output_type": "stream",
       "stream": "stdout",
       "text": [
        "45135\n",
        "3744833"
       ]
      },
      {
       "output_type": "stream",
       "stream": "stdout",
       "text": [
        "\n",
        "252"
       ]
      },
      {
       "output_type": "stream",
       "stream": "stdout",
       "text": [
        "\n",
        "app=Instagram(45135), keyword=\uad50\ud1b5(3744833), both=Instagram+\uad50\ud1b5(252), pmi=-0.173\n"
       ]
      },
      {
       "output_type": "stream",
       "stream": "stdout",
       "text": [
        "45135\n",
        "1799888"
       ]
      },
      {
       "output_type": "stream",
       "stream": "stdout",
       "text": [
        "\n",
        "116"
       ]
      },
      {
       "output_type": "stream",
       "stream": "stdout",
       "text": [
        "\n",
        "app=Instagram(45135), keyword=\uae08\uc735(1799888), both=Instagram+\uae08\uc735(116), pmi=-0.155\n"
       ]
      },
      {
       "output_type": "stream",
       "stream": "stdout",
       "text": [
        "45135\n",
        "8419409"
       ]
      },
      {
       "output_type": "stream",
       "stream": "stdout",
       "text": [
        "\n",
        "1783"
       ]
      },
      {
       "output_type": "stream",
       "stream": "stdout",
       "text": [
        "\n",
        "app=Instagram(45135), keyword=\ub0a0\uc528(8419409), both=Instagram+\ub0a0\uc528(1783), pmi=-0.671\n"
       ]
      },
      {
       "output_type": "stream",
       "stream": "stdout",
       "text": [
        "45135\n",
        "5579161"
       ]
      },
      {
       "output_type": "stream",
       "stream": "stdout",
       "text": [
        "\n",
        "985"
       ]
      },
      {
       "output_type": "stream",
       "stream": "stdout",
       "text": [
        "\n",
        "app=Instagram(45135), keyword=\ub274\uc2a4(5579161), both=Instagram+\ub274\uc2a4(985), pmi=-0.592\n"
       ]
      },
      {
       "output_type": "stream",
       "stream": "stdout",
       "text": [
        "45135\n",
        "2004222"
       ]
      },
      {
       "output_type": "stream",
       "stream": "stdout",
       "text": [
        "\n",
        "432"
       ]
      },
      {
       "output_type": "stream",
       "stream": "stdout",
       "text": [
        "\n",
        "app=Instagram(45135), keyword=\uc7a1\uc9c0(2004222), both=Instagram+\uc7a1\uc9c0(432), pmi=-0.679\n"
       ]
      },
      {
       "output_type": "stream",
       "stream": "stdout",
       "text": [
        "45135\n",
        "123935"
       ]
      },
      {
       "output_type": "stream",
       "stream": "stdout",
       "text": [
        "\n",
        "12"
       ]
      },
      {
       "output_type": "stream",
       "stream": "stdout",
       "text": [
        "\n",
        "app=Instagram(45135), keyword=\ub370\ucf54\ub808\uc774\uc158(123935), both=Instagram+\ub370\ucf54\ub808\uc774\uc158(12), pmi=-0.331\n"
       ]
      },
      {
       "output_type": "stream",
       "stream": "stdout",
       "text": [
        "45135\n",
        "1807826"
       ]
      },
      {
       "output_type": "stream",
       "stream": "stdout",
       "text": [
        "\n",
        "267"
       ]
      },
      {
       "output_type": "stream",
       "stream": "stdout",
       "text": [
        "\n",
        "app=Instagram(45135), keyword=\ub3c4\uad6c(1807826), both=Instagram+\ub3c4\uad6c(267), pmi=-0.515\n"
       ]
      },
      {
       "output_type": "stream",
       "stream": "stdout",
       "text": [
        "45135\n",
        "1204874"
       ]
      },
      {
       "output_type": "stream",
       "stream": "stdout",
       "text": [
        "\n",
        "148"
       ]
      },
      {
       "output_type": "stream",
       "stream": "stdout",
       "text": [
        "\n",
        "app=Instagram(45135), keyword=\ub3c4\uc11c(1204874), both=Instagram+\ub3c4\uc11c(148), pmi=-0.435\n"
       ]
      },
      {
       "output_type": "stream",
       "stream": "stdout",
       "text": [
        "45135\n",
        "982984"
       ]
      },
      {
       "output_type": "stream",
       "stream": "stdout",
       "text": [
        "\n",
        "91"
       ]
      },
      {
       "output_type": "stream",
       "stream": "stdout",
       "text": [
        "\n",
        "app=Instagram(45135), keyword=\ucc38\uace0\uc790\ub8cc(982984), both=Instagram+\ucc38\uace0\uc790\ub8cc(91), pmi=-0.312\n"
       ]
      },
      {
       "output_type": "stream",
       "stream": "stdout",
       "text": [
        "45135\n",
        "1138297"
       ]
      },
      {
       "output_type": "stream",
       "stream": "stdout",
       "text": [
        "\n",
        "299"
       ]
      },
      {
       "output_type": "stream",
       "stream": "stdout",
       "text": [
        "\n",
        "app=Instagram(45135), keyword=\ub77c\uc774\ube0c(1138297), both=Instagram+\ub77c\uc774\ube0c(299), pmi=-0.765\n"
       ]
      },
      {
       "output_type": "stream",
       "stream": "stdout",
       "text": [
        "45135\n",
        "560976"
       ]
      },
      {
       "output_type": "stream",
       "stream": "stdout",
       "text": [
        "\n",
        "217"
       ]
      },
      {
       "output_type": "stream",
       "stream": "stdout",
       "text": [
        "\n",
        "app=Instagram(45135), keyword=\ubc30\uacbd\ud654\uba74(560976), both=Instagram+\ubc30\uacbd\ud654\uba74(217), pmi=-0.933\n"
       ]
      },
      {
       "output_type": "stream",
       "stream": "stdout",
       "text": [
        "45135\n",
        "135576"
       ]
      },
      {
       "output_type": "stream",
       "stream": "stdout",
       "text": [
        "\n",
        "84"
       ]
      },
      {
       "output_type": "stream",
       "stream": "stdout",
       "text": [
        "\n",
        "app=Instagram(45135), keyword=\ub77c\uc774\ube0c\ub7ec\ub9ac(135576), both=Instagram+\ub77c\uc774\ube0c\ub7ec\ub9ac(84), pmi=-1.138\n"
       ]
      },
      {
       "output_type": "stream",
       "stream": "stdout",
       "text": [
        "45135\n",
        "371607"
       ]
      },
      {
       "output_type": "stream",
       "stream": "stdout",
       "text": [
        "\n",
        "37"
       ]
      },
      {
       "output_type": "stream",
       "stream": "stdout",
       "text": [
        "\n",
        "app=Instagram(45135), keyword=\ub370\ubaa8(371607), both=Instagram+\ub370\ubaa8(37), pmi=-0.344\n"
       ]
      },
      {
       "output_type": "stream",
       "stream": "stdout",
       "text": [
        "45135\n",
        "207855"
       ]
      },
      {
       "output_type": "stream",
       "stream": "stdout",
       "text": [
        "\n",
        "85"
       ]
      },
      {
       "output_type": "stream",
       "stream": "stdout",
       "text": [
        "\n",
        "app=Instagram(45135), keyword=\ub77c\uc774\ud504\uc2a4\ud0c0\uc77c(207855), both=Instagram+\ub77c\uc774\ud504\uc2a4\ud0c0\uc77c(85), pmi=-0.957\n"
       ]
      },
      {
       "output_type": "stream",
       "stream": "stdout",
       "text": [
        "45135\n",
        "16332495"
       ]
      },
      {
       "output_type": "stream",
       "stream": "stdout",
       "text": [
        "\n",
        "2840"
       ]
      },
      {
       "output_type": "stream",
       "stream": "stdout",
       "text": [
        "\n",
        "app=Instagram(45135), keyword=\ube14\ub85c\uadf8(16332495), both=Instagram+\ube14\ub85c\uadf8(2840), pmi=-0.586\n"
       ]
      },
      {
       "output_type": "stream",
       "stream": "stdout",
       "text": [
        "45135\n",
        "2604508"
       ]
      },
      {
       "output_type": "stream",
       "stream": "stdout",
       "text": [
        "\n",
        "268"
       ]
      },
      {
       "output_type": "stream",
       "stream": "stdout",
       "text": [
        "\n",
        "app=Instagram(45135), keyword=\ub9cc\ud654(2604508), both=Instagram+\ub9cc\ud654(268), pmi=-0.358\n"
       ]
      },
      {
       "output_type": "stream",
       "stream": "stdout",
       "text": [
        "45135\n",
        "1746027"
       ]
      },
      {
       "output_type": "stream",
       "stream": "stdout",
       "text": [
        "\n",
        "621"
       ]
      },
      {
       "output_type": "stream",
       "stream": "stdout",
       "text": [
        "\n",
        "app=Instagram(45135), keyword=\ubbf8\ub514\uc5b4(1746027), both=Instagram+\ubbf8\ub514\uc5b4(621), pmi=-0.897\n"
       ]
      },
      {
       "output_type": "stream",
       "stream": "stdout",
       "text": [
        "45135\n",
        "5421489"
       ]
      },
      {
       "output_type": "stream",
       "stream": "stdout",
       "text": [
        "\n",
        "1180"
       ]
      },
      {
       "output_type": "stream",
       "stream": "stdout",
       "text": [
        "\n",
        "app=Instagram(45135), keyword=\ub3d9\uc601\uc0c1(5421489), both=Instagram+\ub3d9\uc601\uc0c1(1180), pmi=-0.683\n"
       ]
      },
      {
       "output_type": "stream",
       "stream": "stdout",
       "text": [
        "45135\n",
        "865533"
       ]
      },
      {
       "output_type": "stream",
       "stream": "stdout",
       "text": [
        "\n",
        "212"
       ]
      },
      {
       "output_type": "stream",
       "stream": "stdout",
       "text": [
        "\n",
        "app=Instagram(45135), keyword=\ube44\uc988\ub2c8\uc2a4(865533), both=Instagram+\ube44\uc988\ub2c8\uc2a4(212), pmi=-0.735\n"
       ]
      },
      {
       "output_type": "stream",
       "stream": "stdout",
       "text": [
        "45135\n",
        "1700647"
       ]
      },
      {
       "output_type": "stream",
       "stream": "stdout",
       "text": [
        "\n",
        "708"
       ]
      },
      {
       "output_type": "stream",
       "stream": "stdout",
       "text": [
        "\n",
        "app=Instagram(45135), keyword=\ud3b8\uc9d1(1700647), both=Instagram+\ud3b8\uc9d1(708), pmi=-0.965\n"
       ]
      },
      {
       "output_type": "stream",
       "stream": "stdout",
       "text": [
        "45135\n",
        "37500039"
       ]
      },
      {
       "output_type": "stream",
       "stream": "stdout",
       "text": [
        "\n",
        "9372"
       ]
      },
      {
       "output_type": "stream",
       "stream": "stdout",
       "text": [
        "\n",
        "app=Instagram(45135), keyword=\uc0ac\uc9c4(37500039), both=Instagram+\uc0ac\uc9c4(9372), pmi=-0.743\n"
       ]
      },
      {
       "output_type": "stream",
       "stream": "stdout",
       "text": [
        "45135\n",
        "275188"
       ]
      },
      {
       "output_type": "stream",
       "stream": "stdout",
       "text": [
        "\n",
        "67"
       ]
      },
      {
       "output_type": "stream",
       "stream": "stdout",
       "text": [
        "\n",
        "app=Instagram(45135), keyword=\uc0dd\uc0b0\uc131(275188), both=Instagram+\uc0dd\uc0b0\uc131(67), pmi=-0.732\n"
       ]
      },
      {
       "output_type": "stream",
       "stream": "stdout",
       "text": [
        "45135\n",
        "1042600"
       ]
      },
      {
       "output_type": "stream",
       "stream": "stdout",
       "text": [
        "\n",
        "4097"
       ]
      },
      {
       "output_type": "stream",
       "stream": "stdout",
       "text": [
        "\n",
        "app=Instagram(45135), keyword=\uc18c\uc15c(1042600), both=Instagram+\uc18c\uc15c(4097), pmi=-1.940\n"
       ]
      },
      {
       "output_type": "stream",
       "stream": "stdout",
       "text": [
        "45135\n",
        "580934"
       ]
      },
      {
       "output_type": "stream",
       "stream": "stdout",
       "text": [
        "\n",
        "262"
       ]
      },
      {
       "output_type": "stream",
       "stream": "stdout",
       "text": [
        "\n",
        "app=Instagram(45135), keyword=\ucf58\ud150\uce20(580934), both=Instagram+\ucf58\ud150\uce20(262), pmi=-1.000\n"
       ]
      },
      {
       "output_type": "stream",
       "stream": "stdout",
       "text": [
        "45135\n",
        "2412765"
       ]
      },
      {
       "output_type": "stream",
       "stream": "stdout",
       "text": [
        "\n",
        "474"
       ]
      },
      {
       "output_type": "stream",
       "stream": "stdout",
       "text": [
        "\n",
        "app=Instagram(45135), keyword=\uc1fc\ud551(2412765), both=Instagram+\uc1fc\ud551(474), pmi=-0.639\n"
       ]
      },
      {
       "output_type": "stream",
       "stream": "stdout",
       "text": [
        "45135\n",
        "196034"
       ]
      },
      {
       "output_type": "stream",
       "stream": "stdout",
       "text": [
        "\n",
        "83"
       ]
      },
      {
       "output_type": "stream",
       "stream": "stdout",
       "text": [
        "\n",
        "app=Instagram(45135), keyword=\uc704\uc82f(196034), both=Instagram+\uc704\uc82f(83), pmi=-0.972\n"
       ]
      },
      {
       "output_type": "stream",
       "stream": "stdout",
       "text": [
        "45135\n",
        "4015563"
       ]
      },
      {
       "output_type": "stream",
       "stream": "stdout",
       "text": [
        "\n",
        "360"
       ]
      },
      {
       "output_type": "stream",
       "stream": "stdout",
       "text": [
        "\n",
        "app=Instagram(45135), keyword=\uc790\ub3d9\ucc28(4015563), both=Instagram+\uc790\ub3d9\ucc28(360), pmi=-0.298\n"
       ]
      },
      {
       "output_type": "stream",
       "stream": "stdout",
       "text": [
        "45135\n",
        "1072061"
       ]
      },
      {
       "output_type": "stream",
       "stream": "stdout",
       "text": [
        "\n",
        "187"
       ]
      },
      {
       "output_type": "stream",
       "stream": "stdout",
       "text": [
        "\n",
        "app=Instagram(45135), keyword=\uacbd\uc8fc(1072061), both=Instagram+\uacbd\uc8fc(187), pmi=-0.587\n"
       ]
      },
      {
       "output_type": "stream",
       "stream": "stdout",
       "text": [
        "45135\n",
        "2432430"
       ]
      },
      {
       "output_type": "stream",
       "stream": "stdout",
       "text": [
        "\n",
        "451"
       ]
      },
      {
       "output_type": "stream",
       "stream": "stdout",
       "text": [
        "\n",
        "app=Instagram(45135), keyword=\ub2e4\uc774\uc5b4\ud2b8(2432430), both=Instagram+\ub2e4\uc774\uc5b4\ud2b8(451), pmi=-0.614\n"
       ]
      },
      {
       "output_type": "stream",
       "stream": "stdout",
       "text": [
        "45135\n",
        "580894"
       ]
      },
      {
       "output_type": "stream",
       "stream": "stdout",
       "text": [
        "\n",
        "146"
       ]
      },
      {
       "output_type": "stream",
       "stream": "stdout",
       "text": [
        "\n",
        "app=Instagram(45135), keyword=\ub2ec\ub825(580894), both=Instagram+\ub2ec\ub825(146), pmi=-0.746\n"
       ]
      },
      {
       "output_type": "stream",
       "stream": "stdout",
       "text": [
        "45135\n",
        "425033"
       ]
      },
      {
       "output_type": "stream",
       "stream": "stdout",
       "text": [
        "\n",
        "19"
       ]
      },
      {
       "output_type": "stream",
       "stream": "stdout",
       "text": [
        "\n",
        "app=Instagram(45135), keyword=\uc0dd\ub9ac(425033), both=Instagram+\uc0dd\ub9ac(19), pmi=0.004\n"
       ]
      },
      {
       "output_type": "stream",
       "stream": "stdout",
       "text": [
        "45135\n",
        "117656"
       ]
      },
      {
       "output_type": "stream",
       "stream": "stdout",
       "text": [
        "\n",
        "104"
       ]
      },
      {
       "output_type": "stream",
       "stream": "stdout",
       "text": [
        "\n",
        "app=Instagram(45135), keyword=\uce98\ub9b0\ub354(117656), both=Instagram+\uce98\ub9b0\ub354(104), pmi=-1.292\n"
       ]
      },
      {
       "output_type": "stream",
       "stream": "stdout",
       "text": [
        "45135\n",
        "42366"
       ]
      },
      {
       "output_type": "stream",
       "stream": "stdout",
       "text": [
        "\n",
        "2"
       ]
      },
      {
       "output_type": "stream",
       "stream": "stdout",
       "text": [
        "\n",
        "app=Instagram(45135), keyword=\uc0ac\uc8fc\ud314\uc790(42366), both=Instagram+\uc0ac\uc8fc\ud314\uc790(2), pmi=-0.019\n"
       ]
      },
      {
       "output_type": "stream",
       "stream": "stdout",
       "text": [
        "45135\n",
        "557682"
       ]
      },
      {
       "output_type": "stream",
       "stream": "stdout",
       "text": [
        "\n",
        "77"
       ]
      },
      {
       "output_type": "stream",
       "stream": "stdout",
       "text": [
        "\n",
        "app=Instagram(45135), keyword=\uad81\ud569(557682), both=Instagram+\uad81\ud569(77), pmi=-0.486\n"
       ]
      },
      {
       "output_type": "stream",
       "stream": "stdout",
       "text": [
        "45135\n",
        "965124"
       ]
      },
      {
       "output_type": "stream",
       "stream": "stdout",
       "text": [
        "\n",
        "55"
       ]
      },
      {
       "output_type": "stream",
       "stream": "stdout",
       "text": [
        "\n",
        "app=Instagram(45135), keyword=\uccb4\uc911(965124), both=Instagram+\uccb4\uc911(55), pmi=-0.101\n"
       ]
      },
      {
       "output_type": "stream",
       "stream": "stdout",
       "text": [
        "45135\n",
        "2782149"
       ]
      },
      {
       "output_type": "stream",
       "stream": "stdout",
       "text": [
        "\n",
        "453"
       ]
      },
      {
       "output_type": "stream",
       "stream": "stdout",
       "text": [
        "\n",
        "app=Instagram(45135), keyword=\uc0ac\uc804(2782149), both=Instagram+\uc0ac\uc804(453), pmi=-0.557\n"
       ]
      },
      {
       "output_type": "stream",
       "stream": "stdout",
       "text": [
        "45135\n",
        "4737585"
       ]
      },
      {
       "output_type": "stream",
       "stream": "stdout",
       "text": [
        "\n",
        "510"
       ]
      },
      {
       "output_type": "stream",
       "stream": "stdout",
       "text": [
        "\n",
        "app=Instagram(45135), keyword=\ucef4\ud4e8\ud130(4737585), both=Instagram+\ucef4\ud4e8\ud130(510), pmi=-0.377\n"
       ]
      },
      {
       "output_type": "stream",
       "stream": "stdout",
       "text": [
        "45135\n",
        "332071"
       ]
      },
      {
       "output_type": "stream",
       "stream": "stdout",
       "text": [
        "\n",
        "19"
       ]
      },
      {
       "output_type": "stream",
       "stream": "stdout",
       "text": [
        "\n",
        "app=Instagram(45135), keyword=\ubc31\uacfc\uc0ac\uc804(332071), both=Instagram+\ubc31\uacfc\uc0ac\uc804(19), pmi=-0.103\n"
       ]
      },
      {
       "output_type": "stream",
       "stream": "stdout",
       "text": [
        "45135\n",
        "347880"
       ]
      },
      {
       "output_type": "stream",
       "stream": "stdout",
       "text": [
        "\n",
        "28"
       ]
      },
      {
       "output_type": "stream",
       "stream": "stdout",
       "text": [
        "\n",
        "app=Instagram(45135), keyword=\uae09\uc2dd(347880), both=Instagram+\uae09\uc2dd(28), pmi=-0.251\n"
       ]
      },
      {
       "output_type": "stream",
       "stream": "stdout",
       "text": [
        "45135\n",
        "13067393"
       ]
      },
      {
       "output_type": "stream",
       "stream": "stdout",
       "text": [
        "\n",
        "1157"
       ]
      },
      {
       "output_type": "stream",
       "stream": "stdout",
       "text": [
        "\n",
        "app=Instagram(45135), keyword=\ud559\uad50(13067393), both=Instagram+\ud559\uad50(1157), pmi=-0.293\n"
       ]
      },
      {
       "output_type": "stream",
       "stream": "stdout",
       "text": [
        "45135\n",
        "2576982"
       ]
      },
      {
       "output_type": "stream",
       "stream": "stdout",
       "text": [
        "\n",
        "127"
       ]
      },
      {
       "output_type": "stream",
       "stream": "stdout",
       "text": [
        "\n",
        "app=Instagram(45135), keyword=\ucd08\ub4f1\ud559\uad50(2576982), both=Instagram+\ucd08\ub4f1\ud559\uad50(127), pmi=-0.038\n"
       ]
      },
      {
       "output_type": "stream",
       "stream": "stdout",
       "text": [
        "45135\n",
        "1701903"
       ]
      },
      {
       "output_type": "stream",
       "stream": "stdout",
       "text": [
        "\n",
        "90"
       ]
      },
      {
       "output_type": "stream",
       "stream": "stdout",
       "text": [
        "\n",
        "app=Instagram(45135), keyword=\uc911\ud559\uad50(1701903), both=Instagram+\uc911\ud559\uad50(90), pmi=-0.069\n"
       ]
      },
      {
       "output_type": "stream",
       "stream": "stdout",
       "text": [
        "45135\n",
        "2565652"
       ]
      },
      {
       "output_type": "stream",
       "stream": "stdout",
       "text": [
        "\n",
        "197"
       ]
      },
      {
       "output_type": "stream",
       "stream": "stdout",
       "text": [
        "\n",
        "app=Instagram(45135), keyword=\uace0\ub4f1\ud559\uad50(2565652), both=Instagram+\uace0\ub4f1\ud559\uad50(197), pmi=-0.231\n"
       ]
      },
      {
       "output_type": "stream",
       "stream": "stdout",
       "text": [
        "45135\n",
        "3194085"
       ]
      },
      {
       "output_type": "stream",
       "stream": "stdout",
       "text": [
        "\n",
        "239"
       ]
      },
      {
       "output_type": "stream",
       "stream": "stdout",
       "text": [
        "\n",
        "app=Instagram(45135), keyword=\ub300\ud559\uad50(3194085), both=Instagram+\ub300\ud559\uad50(239), pmi=-0.220\n"
       ]
      },
      {
       "output_type": "stream",
       "stream": "stdout",
       "text": [
        "45135\n",
        "1185203"
       ]
      },
      {
       "output_type": "stream",
       "stream": "stdout",
       "text": [
        "\n",
        "1212"
       ]
      },
      {
       "output_type": "stream",
       "stream": "stdout",
       "text": [
        "\n",
        "app=Instagram(45135), keyword=Korea(1185203), both=Instagram+Korea(1212), pmi=-1.355\n"
       ]
      },
      {
       "output_type": "stream",
       "stream": "stdout",
       "text": [
        "45135\n",
        "608483"
       ]
      },
      {
       "output_type": "stream",
       "stream": "stdout",
       "text": [
        "\n",
        "72"
       ]
      },
      {
       "output_type": "stream",
       "stream": "stdout",
       "text": [
        "\n",
        "app=Instagram(45135), keyword=\ub124\ube44\uac8c\uc774\uc158(608483), both=Instagram+\ub124\ube44\uac8c\uc774\uc158(72), pmi=-0.419\n"
       ]
      },
      {
       "output_type": "stream",
       "stream": "stdout",
       "text": [
        "45135\n",
        "2825311"
       ]
      },
      {
       "output_type": "stream",
       "stream": "stdout",
       "text": [
        "\n",
        "498"
       ]
      },
      {
       "output_type": "stream",
       "stream": "stdout",
       "text": [
        "\n",
        "app=Instagram(45135), keyword=\uc9c0\ud558\ucca0(2825311), both=Instagram+\uc9c0\ud558\ucca0(498), pmi=-0.592\n"
       ]
      },
      {
       "output_type": "stream",
       "stream": "stdout",
       "text": [
        "45135\n",
        "167409"
       ]
      },
      {
       "output_type": "stream",
       "stream": "stdout",
       "text": [
        "\n",
        "53"
       ]
      },
      {
       "output_type": "stream",
       "stream": "stdout",
       "text": [
        "\n",
        "app=Instagram(45135), keyword=\uc885\uacb0\uc790(167409), both=Instagram+\uc885\uacb0\uc790(53), pmi=-0.846\n"
       ]
      },
      {
       "output_type": "stream",
       "stream": "stdout",
       "text": [
        "45135\n",
        "64554"
       ]
      },
      {
       "output_type": "stream",
       "stream": "stdout",
       "text": [
        "\n",
        "13"
       ]
      },
      {
       "output_type": "stream",
       "stream": "stdout",
       "text": [
        "\n",
        "app=Instagram(45135), keyword=\ub0b4\ube44(64554), both=Instagram+\ub0b4\ube44(13), pmi=-0.650\n"
       ]
      },
      {
       "output_type": "stream",
       "stream": "stdout",
       "text": [
        "45135\n",
        "110303"
       ]
      },
      {
       "output_type": "stream",
       "stream": "stdout",
       "text": [
        "\n",
        "35"
       ]
      },
      {
       "output_type": "stream",
       "stream": "stdout",
       "text": [
        "\n",
        "app=Instagram(45135), keyword=\uac00\uacc4\ubd80(110303), both=Instagram+\uac00\uacc4\ubd80(35), pmi=-0.847\n"
       ]
      },
      {
       "output_type": "stream",
       "stream": "stdout",
       "text": [
        "45135\n",
        "560984"
       ]
      },
      {
       "output_type": "stream",
       "stream": "stdout",
       "text": [
        "\n",
        "1192"
       ]
      },
      {
       "output_type": "stream",
       "stream": "stdout",
       "text": [
        "\n",
        "app=Instagram(45135), keyword=Money(560984), both=Instagram+Money(1192), pmi=-1.673\n"
       ]
      },
      {
       "output_type": "stream",
       "stream": "stdout",
       "text": [
        "45135\n",
        "2657679"
       ]
      },
      {
       "output_type": "stream",
       "stream": "stdout",
       "text": [
        "\n",
        "1327"
       ]
      },
      {
       "output_type": "stream",
       "stream": "stdout",
       "text": [
        "\n",
        "app=Instagram(45135), keyword=\uc2a4\ub9c8\ud2b8(2657679), both=Instagram+\uc2a4\ub9c8\ud2b8(1327), pmi=-1.044\n"
       ]
      },
      {
       "output_type": "stream",
       "stream": "stdout",
       "text": [
        "45135\n",
        "161422"
       ]
      },
      {
       "output_type": "stream",
       "stream": "stdout",
       "text": [
        "\n",
        "37"
       ]
      },
      {
       "output_type": "stream",
       "stream": "stdout",
       "text": [
        "\n",
        "app=Instagram(45135), keyword=\uacc4\uc0b0\uae30(161422), both=Instagram+\uacc4\uc0b0\uae30(37), pmi=-0.706\n"
       ]
      },
      {
       "output_type": "stream",
       "stream": "stdout",
       "text": [
        "45135\n",
        "3307082"
       ]
      },
      {
       "output_type": "stream",
       "stream": "stdout",
       "text": [
        "\n",
        "286"
       ]
      },
      {
       "output_type": "stream",
       "stream": "stdout",
       "text": [
        "\n",
        "app=Instagram(45135), keyword=\uc740\ud589(3307082), both=Instagram+\uc740\ud589(286), pmi=-0.282\n"
       ]
      },
      {
       "output_type": "stream",
       "stream": "stdout",
       "text": [
        "45135\n",
        "776539"
       ]
      },
      {
       "output_type": "stream",
       "stream": "stdout",
       "text": [
        "\n",
        "3420"
       ]
      },
      {
       "output_type": "stream",
       "stream": "stdout",
       "text": [
        "\n",
        "app=Instagram(45135), keyword=\uac80\uc0c9\uc5b4(776539), both=Instagram+\uac80\uc0c9\uc5b4(3420), pmi=-1.989\n"
       ]
      },
      {
       "output_type": "stream",
       "stream": "stdout",
       "text": [
        "45135\n",
        "1362091"
       ]
      },
      {
       "output_type": "stream",
       "stream": "stdout",
       "text": [
        "\n",
        "3913"
       ]
      },
      {
       "output_type": "stream",
       "stream": "stdout",
       "text": [
        "\n",
        "app=Instagram(45135), keyword=\uc2e4\uc2dc\uac04(1362091), both=Instagram+\uc2e4\uc2dc\uac04(3913), pmi=-1.804\n"
       ]
      },
      {
       "output_type": "stream",
       "stream": "stdout",
       "text": [
        "45135\n",
        "3116414"
       ]
      },
      {
       "output_type": "stream",
       "stream": "stdout",
       "text": [
        "\n",
        "264"
       ]
      },
      {
       "output_type": "stream",
       "stream": "stdout",
       "text": [
        "\n",
        "app=Instagram(45135), keyword=\uc2e0\ubb38(3116414), both=Instagram+\uc2e0\ubb38(264), pmi=-0.273\n"
       ]
      },
      {
       "output_type": "stream",
       "stream": "stdout",
       "text": [
        "45135\n",
        "1226512"
       ]
      },
      {
       "output_type": "stream",
       "stream": "stdout",
       "text": [
        "\n",
        "237"
       ]
      },
      {
       "output_type": "stream",
       "stream": "stdout",
       "text": [
        "\n",
        "app=Instagram(45135), keyword=\ud074\ub798\uc2dd(1226512), both=Instagram+\ud074\ub798\uc2dd(237), pmi=-0.632\n"
       ]
      },
      {
       "output_type": "stream",
       "stream": "stdout",
       "text": [
        "45135\n",
        "1406530"
       ]
      },
      {
       "output_type": "stream",
       "stream": "stdout",
       "text": [
        "\n",
        "136"
       ]
      },
      {
       "output_type": "stream",
       "stream": "stdout",
       "text": [
        "\n",
        "app=Instagram(45135), keyword=\uc560\ub2c8(1406530), both=Instagram+\uc560\ub2c8(136), pmi=-0.331\n"
       ]
      },
      {
       "output_type": "stream",
       "stream": "stdout",
       "text": [
        "45135\n",
        "1186133"
       ]
      },
      {
       "output_type": "stream",
       "stream": "stdout",
       "text": [
        "\n",
        "87"
       ]
      },
      {
       "output_type": "stream",
       "stream": "stdout",
       "text": [
        "\n",
        "app=Instagram(45135), keyword=\ub09a\uc2dc(1186133), both=Instagram+\ub09a\uc2dc(87), pmi=-0.211\n"
       ]
      },
      {
       "output_type": "stream",
       "stream": "stdout",
       "text": [
        "45135\n",
        "87415"
       ]
      },
      {
       "output_type": "stream",
       "stream": "stdout",
       "text": [
        "\n",
        "33"
       ]
      },
      {
       "output_type": "stream",
       "stream": "stdout",
       "text": [
        "\n",
        "app=Instagram(45135), keyword=\ub7f0\ucc98(87415), both=Instagram+\ub7f0\ucc98(33), pmi=-0.922\n"
       ]
      },
      {
       "output_type": "stream",
       "stream": "stdout",
       "text": [
        "45135\n",
        "67614"
       ]
      },
      {
       "output_type": "stream",
       "stream": "stdout",
       "text": [
        "\n",
        "66"
       ]
      },
      {
       "output_type": "stream",
       "stream": "stdout",
       "text": [
        "\n",
        "app=Instagram(45135), keyword=\uc8fc\uc18c\ub85d(67614), both=Instagram+\uc8fc\uc18c\ub85d(66), pmi=-1.335\n"
       ]
      },
      {
       "output_type": "stream",
       "stream": "stdout",
       "text": [
        "45135\n",
        "4767051"
       ]
      },
      {
       "output_type": "stream",
       "stream": "stdout",
       "text": [
        "\n",
        "3313"
       ]
      },
      {
       "output_type": "stream",
       "stream": "stdout",
       "text": [
        "\n",
        "app=Instagram(45135), keyword=\ud3f0(4767051), both=Instagram+\ud3f0(3313), pmi=-1.187\n"
       ]
      },
      {
       "output_type": "stream",
       "stream": "stdout",
       "text": [
        "45135\n",
        "819851"
       ]
      },
      {
       "output_type": "stream",
       "stream": "stdout",
       "text": [
        "\n",
        "81"
       ]
      },
      {
       "output_type": "stream",
       "stream": "stdout",
       "text": [
        "\n",
        "app=Instagram(45135), keyword=\ubc14\uc774\ub7ec\uc2a4(819851), both=Instagram+\ubc14\uc774\ub7ec\uc2a4(81), pmi=-0.340\n"
       ]
      },
      {
       "output_type": "stream",
       "stream": "stdout",
       "text": [
        "45135\n",
        "993404"
       ]
      },
      {
       "output_type": "stream",
       "stream": "stdout",
       "text": [
        "\n",
        "135"
       ]
      },
      {
       "output_type": "stream",
       "stream": "stdout",
       "text": [
        "\n",
        "app=Instagram(45135), keyword=\ubcf4\uc548(993404), both=Instagram+\ubcf4\uc548(135), pmi=-0.479\n"
       ]
      },
      {
       "output_type": "stream",
       "stream": "stdout",
       "text": [
        "45135\n",
        "1276220"
       ]
      },
      {
       "output_type": "stream",
       "stream": "stdout",
       "text": [
        "\n",
        "43"
       ]
      },
      {
       "output_type": "stream",
       "stream": "stdout",
       "text": [
        "\n",
        "app=Instagram(45135), keyword=\uc131\uacbd(1276220), both=Instagram+\uc131\uacbd(43), pmi=0.127\n"
       ]
      },
      {
       "output_type": "stream",
       "stream": "stdout",
       "text": [
        "45135\n",
        "216006"
       ]
      },
      {
       "output_type": "stream",
       "stream": "stdout",
       "text": [
        "\n",
        "3"
       ]
      },
      {
       "output_type": "stream",
       "stream": "stdout",
       "text": [
        "\n",
        "app=Instagram(45135), keyword=\ucc2c\uc1a1(216006), both=Instagram+\ucc2c\uc1a1(3), pmi=0.512\n"
       ]
      },
      {
       "output_type": "stream",
       "stream": "stdout",
       "text": [
        "45135\n",
        "84287"
       ]
      },
      {
       "output_type": "stream",
       "stream": "stdout",
       "text": [
        "\n",
        "11"
       ]
      },
      {
       "output_type": "stream",
       "stream": "stdout",
       "text": [
        "\n",
        "app=Instagram(45135), keyword=\ubc14\uc774\ube14(84287), both=Instagram+\ubc14\uc774\ube14(11), pmi=-0.461\n"
       ]
      },
      {
       "output_type": "stream",
       "stream": "stdout",
       "text": [
        "45135\n",
        "258582"
       ]
      },
      {
       "output_type": "stream",
       "stream": "stdout",
       "text": [
        "\n",
        "27"
       ]
      },
      {
       "output_type": "stream",
       "stream": "stdout",
       "text": [
        "\n",
        "app=Instagram(45135), keyword=\ubc31\uc2e0(258582), both=Instagram+\ubc31\uc2e0(27), pmi=-0.364\n"
       ]
      },
      {
       "output_type": "stream",
       "stream": "stdout",
       "text": [
        "45135\n",
        "2226478"
       ]
      },
      {
       "output_type": "stream",
       "stream": "stdout",
       "text": [
        "\n",
        "1105"
       ]
      },
      {
       "output_type": "stream",
       "stream": "stdout",
       "text": [
        "\n",
        "app=Instagram(45135), keyword=\uc6f9(2226478), both=Instagram+\uc6f9(1105), pmi=-1.041\n"
       ]
      },
      {
       "output_type": "stream",
       "stream": "stdout",
       "text": [
        "45135\n",
        "1287811"
       ]
      },
      {
       "output_type": "stream",
       "stream": "stdout",
       "text": [
        "\n",
        "366"
       ]
      },
      {
       "output_type": "stream",
       "stream": "stdout",
       "text": [
        "\n",
        "app=Instagram(45135), keyword=\uc2a4\ud2f0\ucee4(1287811), both=Instagram+\uc2a4\ud2f0\ucee4(366), pmi=-0.799\n"
       ]
      },
      {
       "output_type": "stream",
       "stream": "stdout",
       "text": [
        "45135\n",
        "364849"
       ]
      },
      {
       "output_type": "stream",
       "stream": "stdout",
       "text": [
        "\n",
        "52"
       ]
      },
      {
       "output_type": "stream",
       "stream": "stdout",
       "text": [
        "\n",
        "app=Instagram(45135), keyword=\uc0ac\uc8fc(364849), both=Instagram+\uc0ac\uc8fc(52), pmi=-0.499\n"
       ]
      },
      {
       "output_type": "stream",
       "stream": "stdout",
       "text": [
        "45135\n",
        "229882"
       ]
      },
      {
       "output_type": "stream",
       "stream": "stdout",
       "text": [
        "\n",
        "29"
       ]
      },
      {
       "output_type": "stream",
       "stream": "stdout",
       "text": [
        "\n",
        "app=Instagram(45135), keyword=\uc6b4\uc138(229882), both=Instagram+\uc6b4\uc138(29), pmi=-0.446\n"
       ]
      },
      {
       "output_type": "stream",
       "stream": "stdout",
       "text": [
        "45135\n",
        "680923"
       ]
      },
      {
       "output_type": "stream",
       "stream": "stdout",
       "text": [
        "\n",
        "60"
       ]
      },
      {
       "output_type": "stream",
       "stream": "stdout",
       "text": [
        "\n",
        "app=Instagram(45135), keyword=\ucf54\ubbf9(680923), both=Instagram+\ucf54\ubbf9(60), pmi=-0.291\n"
       ]
      },
      {
       "output_type": "stream",
       "stream": "stdout",
       "text": [
        "45135\n",
        "1210749"
       ]
      },
      {
       "output_type": "stream",
       "stream": "stdout",
       "text": [
        "\n",
        "535"
       ]
      },
      {
       "output_type": "stream",
       "stream": "stdout",
       "text": [
        "\n",
        "app=Instagram(45135), keyword=3D(1210749), both=Instagram+3D(535), pmi=-0.991\n"
       ]
      },
      {
       "output_type": "stream",
       "stream": "stdout",
       "text": [
        "45135\n",
        "207645"
       ]
      },
      {
       "output_type": "stream",
       "stream": "stdout",
       "text": [
        "\n",
        "33"
       ]
      },
      {
       "output_type": "stream",
       "stream": "stdout",
       "text": [
        "\n",
        "app=Instagram(45135), keyword=\ubcc4\uc790\ub9ac(207645), both=Instagram+\ubcc4\uc790\ub9ac(33), pmi=-0.547\n"
       ]
      },
      {
       "output_type": "stream",
       "stream": "stdout",
       "text": [
        "45135\n",
        "212222"
       ]
      },
      {
       "output_type": "stream",
       "stream": "stdout",
       "text": [
        "\n",
        "707"
       ]
      },
      {
       "output_type": "stream",
       "stream": "stdout",
       "text": [
        "\n",
        "app=Instagram(45135), keyword=tool(212222), both=Instagram+tool(707), pmi=-1.868\n"
       ]
      },
      {
       "output_type": "stream",
       "stream": "stdout",
       "text": [
        "45135\n",
        "340738"
       ]
      },
      {
       "output_type": "stream",
       "stream": "stdout",
       "text": [
        "\n",
        "103"
       ]
      },
      {
       "output_type": "stream",
       "stream": "stdout",
       "text": [
        "\n",
        "app=Instagram(45135), keyword=\uc6f9\ud230(340738), both=Instagram+\uc6f9\ud230(103), pmi=-0.826\n"
       ]
      },
      {
       "output_type": "stream",
       "stream": "stdout",
       "text": [
        "45135\n",
        "969988"
       ]
      },
      {
       "output_type": "stream",
       "stream": "stdout",
       "text": [
        "\n",
        "131"
       ]
      },
      {
       "output_type": "stream",
       "stream": "stdout",
       "text": [
        "\n",
        "app=Instagram(45135), keyword=\ud50c\ub808\uc774\uc5b4(969988), both=Instagram+\ud50c\ub808\uc774\uc5b4(131), pmi=-0.476\n"
       ]
      },
      {
       "output_type": "stream",
       "stream": "stdout",
       "text": [
        "45135\n",
        "5034851"
       ]
      },
      {
       "output_type": "stream",
       "stream": "stdout",
       "text": [
        "\n",
        "2024"
       ]
      },
      {
       "output_type": "stream",
       "stream": "stdout",
       "text": [
        "\n",
        "app=Instagram(45135), keyword=\uce74\uba54\ub77c(5034851), both=Instagram+\uce74\uba54\ub77c(2024), pmi=-0.950\n"
       ]
      },
      {
       "output_type": "stream",
       "stream": "stdout",
       "text": [
        "45135\n",
        "223508"
       ]
      },
      {
       "output_type": "stream",
       "stream": "stdout",
       "text": [
        "\n",
        "42"
       ]
      },
      {
       "output_type": "stream",
       "stream": "stdout",
       "text": [
        "\n",
        "app=Instagram(45135), keyword=\ubca8\uc18c\ub9ac(223508), both=Instagram+\ubca8\uc18c\ub9ac(42), pmi=-0.619\n"
       ]
      },
      {
       "output_type": "stream",
       "stream": "stdout",
       "text": [
        "45135\n",
        "1855016"
       ]
      },
      {
       "output_type": "stream",
       "stream": "stdout",
       "text": [
        "\n",
        "238"
       ]
      },
      {
       "output_type": "stream",
       "stream": "stdout",
       "text": [
        "\n",
        "app=Instagram(45135), keyword=\ud55c\uae00(1855016), both=Instagram+\ud55c\uae00(238), pmi=-0.454\n"
       ]
      },
      {
       "output_type": "stream",
       "stream": "stdout",
       "text": [
        "45135\n",
        "451848"
       ]
      },
      {
       "output_type": "stream",
       "stream": "stdout",
       "text": [
        "\n",
        "93"
       ]
      },
      {
       "output_type": "stream",
       "stream": "stdout",
       "text": [
        "\n",
        "app=Instagram(45135), keyword=\uc624\ud53c\uc2a4(451848), both=Instagram+\uc624\ud53c\uc2a4(93), pmi=-0.659\n"
       ]
      },
      {
       "output_type": "stream",
       "stream": "stdout",
       "text": [
        "45135\n",
        "479042"
       ]
      },
      {
       "output_type": "stream",
       "stream": "stdout",
       "text": [
        "\n",
        "624"
       ]
      },
      {
       "output_type": "stream",
       "stream": "stdout",
       "text": [
        "\n",
        "app=Instagram(45135), keyword=office(479042), both=Instagram+office(624), pmi=-1.460\n"
       ]
      },
      {
       "output_type": "stream",
       "stream": "stdout",
       "text": [
        "45135\n",
        "1275079"
       ]
      },
      {
       "output_type": "stream",
       "stream": "stdout",
       "text": [
        "\n",
        "330"
       ]
      },
      {
       "output_type": "stream",
       "stream": "stdout",
       "text": [
        "\n",
        "app=Instagram(45135), keyword=\uc54c\ubc14(1275079), both=Instagram+\uc54c\ubc14(330), pmi=-0.758\n"
       ]
      },
      {
       "output_type": "stream",
       "stream": "stdout",
       "text": [
        "45135\n",
        "1281901"
       ]
      },
      {
       "output_type": "stream",
       "stream": "stdout",
       "text": [
        "\n",
        "6658"
       ]
      },
      {
       "output_type": "stream",
       "stream": "stdout",
       "text": [
        "\n",
        "app=Instagram(45135), keyword=photo(1281901), both=Instagram+photo(6658), pmi=-2.061\n"
       ]
      },
      {
       "output_type": "stream",
       "stream": "stdout",
       "text": [
        "45135\n",
        "883700"
       ]
      },
      {
       "output_type": "stream",
       "stream": "stdout",
       "text": [
        "\n",
        "187"
       ]
      },
      {
       "output_type": "stream",
       "stream": "stdout",
       "text": [
        "\n",
        "app=Instagram(45135), keyword=\ub4dc\ub77c\uc774\ube0c(883700), both=Instagram+\ub4dc\ub77c\uc774\ube0c(187), pmi=-0.671\n"
       ]
      },
      {
       "output_type": "stream",
       "stream": "stdout",
       "text": [
        "45135\n",
        "3698076"
       ]
      },
      {
       "output_type": "stream",
       "stream": "stdout",
       "text": [
        "\n",
        "350"
       ]
      },
      {
       "output_type": "stream",
       "stream": "stdout",
       "text": [
        "\n",
        "app=Instagram(45135), keyword=\ud30c\uc77c(3698076), both=Instagram+\ud30c\uc77c(350), pmi=-0.322\n"
       ]
      },
      {
       "output_type": "stream",
       "stream": "stdout",
       "text": [
        "45135\n",
        "1045477"
       ]
      },
      {
       "output_type": "stream",
       "stream": "stdout",
       "text": [
        "\n",
        "326"
       ]
      },
      {
       "output_type": "stream",
       "stream": "stdout",
       "text": [
        "\n",
        "app=Instagram(45135), keyword=\uac24\ub7ec\ub9ac(1045477), both=Instagram+\uac24\ub7ec\ub9ac(326), pmi=-0.839\n"
       ]
      },
      {
       "output_type": "stream",
       "stream": "stdout",
       "text": [
        "45135\n",
        "2716647"
       ]
      },
      {
       "output_type": "stream",
       "stream": "stdout",
       "text": [
        "\n",
        "405"
       ]
      },
      {
       "output_type": "stream",
       "stream": "stdout",
       "text": [
        "\n",
        "app=Instagram(45135), keyword=\uadf8\ub8f9(2716647), both=Instagram+\uadf8\ub8f9(405), pmi=-0.519\n"
       ]
      },
      {
       "output_type": "stream",
       "stream": "stdout",
       "text": [
        "45135\n",
        "110183"
       ]
      },
      {
       "output_type": "stream",
       "stream": "stdout",
       "text": [
        "\n",
        "35"
       ]
      },
      {
       "output_type": "stream",
       "stream": "stdout",
       "text": [
        "\n",
        "app=Instagram(45135), keyword=\ubc14\ucf54\ub4dc(110183), both=Instagram+\ubc14\ucf54\ub4dc(35), pmi=-0.847\n"
       ]
      },
      {
       "output_type": "stream",
       "stream": "stdout",
       "text": [
        "45135\n",
        "102123"
       ]
      },
      {
       "output_type": "stream",
       "stream": "stdout",
       "text": [
        "\n",
        "36"
       ]
      },
      {
       "output_type": "stream",
       "stream": "stdout",
       "text": [
        "\n",
        "app=Instagram(45135), keyword=\uc2a4\uce90\ub108(102123), both=Instagram+\uc2a4\uce90\ub108(36), pmi=-0.893\n"
       ]
      },
      {
       "output_type": "stream",
       "stream": "stdout",
       "text": [
        "45135\n",
        "216862"
       ]
      },
      {
       "output_type": "stream",
       "stream": "stdout",
       "text": [
        "\n",
        "85"
       ]
      },
      {
       "output_type": "stream",
       "stream": "stdout",
       "text": [
        "\n",
        "app=Instagram(45135), keyword=\uc18c\uc15c\ucee4\uba38\uc2a4(216862), both=Instagram+\uc18c\uc15c\ucee4\uba38\uc2a4(85), pmi=-0.939\n"
       ]
      },
      {
       "output_type": "stream",
       "stream": "stdout",
       "text": [
        "45135\n",
        "1042600"
       ]
      },
      {
       "output_type": "stream",
       "stream": "stdout",
       "text": [
        "\n",
        "4097"
       ]
      },
      {
       "output_type": "stream",
       "stream": "stdout",
       "text": [
        "\n",
        "app=Instagram(45135), keyword=\uc18c\uc15c(1042600), both=Instagram+\uc18c\uc15c(4097), pmi=-1.940\n"
       ]
      },
      {
       "output_type": "stream",
       "stream": "stdout",
       "text": [
        "45135\n",
        "except 0"
       ]
      },
      {
       "output_type": "stream",
       "stream": "stdout",
       "text": [
        "\n",
        "124"
       ]
      },
      {
       "output_type": "stream",
       "stream": "stdout",
       "text": [
        "\n",
        "app=Instagram(45135), keyword=\uc131\uc778(0), both=Instagram+\uc131\uc778(124), pmi=0.000\n"
       ]
      },
      {
       "output_type": "stream",
       "stream": "stdout",
       "text": [
        "45135\n",
        "except 0"
       ]
      },
      {
       "output_type": "stream",
       "stream": "stdout",
       "text": [
        "\n",
        "221"
       ]
      },
      {
       "output_type": "stream",
       "stream": "stdout",
       "text": [
        "\n",
        "app=Instagram(45135), keyword=sex(0), both=Instagram+sex(221), pmi=0.000\n"
       ]
      },
      {
       "output_type": "stream",
       "stream": "stdout",
       "text": [
        "45135\n",
        "3358595"
       ]
      },
      {
       "output_type": "stream",
       "stream": "stdout",
       "text": [
        "\n",
        "229"
       ]
      },
      {
       "output_type": "stream",
       "stream": "stdout",
       "text": [
        "\n",
        "app=Instagram(45135), keyword=\uc5b4\ub978(3358595), both=Instagram+\uc5b4\ub978(229), pmi=-0.179\n"
       ]
      },
      {
       "output_type": "stream",
       "stream": "stdout",
       "text": [
        "45135\n",
        "except 0"
       ]
      },
      {
       "output_type": "stream",
       "stream": "stdout",
       "text": [
        "\n",
        "except 0"
       ]
      },
      {
       "output_type": "stream",
       "stream": "stdout",
       "text": [
        "\n",
        "app=Instagram(45135), keyword=\uc139\uc2a4(0), both=Instagram+\uc139\uc2a4(0), pmi=0.000\n"
       ]
      },
      {
       "output_type": "stream",
       "stream": "stdout",
       "text": [
        "\r",
        "app Dolphin Browser start\n",
        "614"
       ]
      },
      {
       "output_type": "stream",
       "stream": "stdout",
       "text": [
        "\n",
        "except 0"
       ]
      },
      {
       "output_type": "stream",
       "stream": "stdout",
       "text": [
        "\n",
        "614"
       ]
      },
      {
       "output_type": "stream",
       "stream": "stdout",
       "text": [
        "\n",
        "app=Dolphin Browser(614), keyword=(0), both=Dolphin Browser+(614), pmi=0.000\n"
       ]
      },
      {
       "output_type": "stream",
       "stream": "stdout",
       "text": [
        "614\n",
        "444205"
       ]
      },
      {
       "output_type": "stream",
       "stream": "stdout",
       "text": [
        "\n",
        "12"
       ]
      },
      {
       "output_type": "stream",
       "stream": "stdout",
       "text": [
        "\n",
        "app=Dolphin Browser(614), keyword=\ufeff\ud37c\uc990(444205), both=Dolphin Browser+\ufeff\ud37c\uc990(12), pmi=-1.643\n"
       ]
      },
      {
       "output_type": "stream",
       "stream": "stdout",
       "text": [
        "614\n",
        "422516"
       ]
      },
      {
       "output_type": "stream",
       "stream": "stdout",
       "text": [
        "\n",
        "except 0"
       ]
      },
      {
       "output_type": "stream",
       "stream": "stdout",
       "text": [
        "\n",
        "app=Dolphin Browser(614), keyword=\uce90\uc8fc\uc5bc(422516), both=Dolphin Browser+\uce90\uc8fc\uc5bc(0), pmi=8.414\n"
       ]
      },
      {
       "output_type": "stream",
       "stream": "stdout",
       "text": [
        "614\n",
        "115391"
       ]
      },
      {
       "output_type": "stream",
       "stream": "stdout",
       "text": [
        "\n",
        "6"
       ]
      },
      {
       "output_type": "stream",
       "stream": "stdout",
       "text": [
        "\n",
        "app=Dolphin Browser(614), keyword=\uc544\ucf00\uc774\ub4dc(115391), both=Dolphin Browser+\uc544\ucf00\uc774\ub4dc(6), pmi=-1.928\n"
       ]
      },
      {
       "output_type": "stream",
       "stream": "stdout",
       "text": [
        "614\n",
        "6861758"
       ]
      },
      {
       "output_type": "stream",
       "stream": "stdout",
       "text": [
        "\n",
        "7"
       ]
      },
      {
       "output_type": "stream",
       "stream": "stdout",
       "text": [
        "\n",
        "app=Dolphin Browser(614), keyword=\uc5ec\uc131(6861758), both=Dolphin Browser+\uc5ec\uc131(7), pmi=-0.220\n"
       ]
      },
      {
       "output_type": "stream",
       "stream": "stdout",
       "text": [
        "614\n",
        "2386995"
       ]
      },
      {
       "output_type": "stream",
       "stream": "stdout",
       "text": [
        "\n",
        "7"
       ]
      },
      {
       "output_type": "stream",
       "stream": "stdout",
       "text": [
        "\n",
        "app=Dolphin Browser(614), keyword=\ub0a8\uc131(2386995), both=Dolphin Browser+\ub0a8\uc131(7), pmi=-0.679\n"
       ]
      },
      {
       "output_type": "stream",
       "stream": "stdout",
       "text": [
        "614\n",
        "19818241"
       ]
      },
      {
       "output_type": "stream",
       "stream": "stdout",
       "text": [
        "\n",
        "37"
       ]
      },
      {
       "output_type": "stream",
       "stream": "stdout",
       "text": [
        "\n",
        "app=Dolphin Browser(614), keyword=\uce5c\uad6c(19818241), both=Dolphin Browser+\uce5c\uad6c(37), pmi=-0.483\n"
       ]
      },
      {
       "output_type": "stream",
       "stream": "stdout",
       "text": [
        "614\n",
        "1498621"
       ]
      },
      {
       "output_type": "stream",
       "stream": "stdout",
       "text": [
        "\n",
        "6"
       ]
      },
      {
       "output_type": "stream",
       "stream": "stdout",
       "text": [
        "\n",
        "app=Dolphin Browser(614), keyword=\uc5f0\uc560(1498621), both=Dolphin Browser+\uc5f0\uc560(6), pmi=-0.814\n"
       ]
      },
      {
       "output_type": "stream",
       "stream": "stdout",
       "text": [
        "614\n",
        "496304"
       ]
      },
      {
       "output_type": "stream",
       "stream": "stdout",
       "text": [
        "\n",
        "3"
       ]
      },
      {
       "output_type": "stream",
       "stream": "stdout",
       "text": [
        "\n",
        "app=Dolphin Browser(614), keyword=\uc5f0\uc608(496304), both=Dolphin Browser+\uc5f0\uc608(3), pmi=-0.993\n"
       ]
      },
      {
       "output_type": "stream",
       "stream": "stdout",
       "text": [
        "614\n",
        "13161993"
       ]
      },
      {
       "output_type": "stream",
       "stream": "stdout",
       "text": [
        "\n",
        "11"
       ]
      },
      {
       "output_type": "stream",
       "stream": "stdout",
       "text": [
        "\n",
        "app=Dolphin Browser(614), keyword=\uc5bc\uad74(13161993), both=Dolphin Browser+\uc5bc\uad74(11), pmi=-0.134\n"
       ]
      },
      {
       "output_type": "stream",
       "stream": "stdout",
       "text": [
        "614\n",
        "3843455"
       ]
      },
      {
       "output_type": "stream",
       "stream": "stdout",
       "text": [
        "\n",
        "128"
       ]
      },
      {
       "output_type": "stream",
       "stream": "stdout",
       "text": [
        "\n",
        "app=Dolphin Browser(614), keyword=\uc18d\ub3c4(3843455), both=Dolphin Browser+\uc18d\ub3c4(128), pmi=-1.734\n"
       ]
      },
      {
       "output_type": "stream",
       "stream": "stdout",
       "text": [
        "614\n",
        "11917472"
       ]
      },
      {
       "output_type": "stream",
       "stream": "stdout",
       "text": [
        "\n",
        "22"
       ]
      },
      {
       "output_type": "stream",
       "stream": "stdout",
       "text": [
        "\n",
        "app=Dolphin Browser(614), keyword=\ub3c8(11917472), both=Dolphin Browser+\ub3c8(22), pmi=-0.478\n"
       ]
      },
      {
       "output_type": "stream",
       "stream": "stdout",
       "text": [
        "614\n",
        "490513"
       ]
      },
      {
       "output_type": "stream",
       "stream": "stdout",
       "text": [
        "\n",
        "4"
       ]
      },
      {
       "output_type": "stream",
       "stream": "stdout",
       "text": [
        "\n",
        "app=Dolphin Browser(614), keyword=\ub79c\ub364(490513), both=Dolphin Browser+\ub79c\ub364(4), pmi=-1.123\n"
       ]
      },
      {
       "output_type": "stream",
       "stream": "stdout",
       "text": [
        "614\n",
        "108965"
       ]
      },
      {
       "output_type": "stream",
       "stream": "stdout",
       "text": [
        "\n",
        "21"
       ]
      },
      {
       "output_type": "stream",
       "stream": "stdout",
       "text": [
        "\n",
        "app=Dolphin Browser(614), keyword=random(108965), both=Dolphin Browser+random(21), pmi=-2.497\n"
       ]
      },
      {
       "output_type": "stream",
       "stream": "stdout",
       "text": [
        "614\n",
        "8507047"
       ]
      },
      {
       "output_type": "stream",
       "stream": "stdout",
       "text": [
        "\n",
        "8"
       ]
      },
      {
       "output_type": "stream",
       "stream": "stdout",
       "text": [
        "\n",
        "app=Dolphin Browser(614), keyword=\uc74c\uc2dd(8507047), both=Dolphin Browser+\uc74c\uc2dd(8), pmi=-0.185\n"
       ]
      },
      {
       "output_type": "stream",
       "stream": "stdout",
       "text": [
        "614\n",
        "17687486"
       ]
      },
      {
       "output_type": "stream",
       "stream": "stdout",
       "text": [
        "\n",
        "123"
       ]
      },
      {
       "output_type": "stream",
       "stream": "stdout",
       "text": [
        "\n",
        "app=Dolphin Browser(614), keyword=\ubc29\ubc95(17687486), both=Dolphin Browser+\ubc29\ubc95(123), pmi=-1.054\n"
       ]
      },
      {
       "output_type": "stream",
       "stream": "stdout",
       "text": [
        "614\n",
        "588224"
       ]
      },
      {
       "output_type": "stream",
       "stream": "stdout",
       "text": [
        "\n",
        "244"
       ]
      },
      {
       "output_type": "stream",
       "stream": "stdout",
       "text": [
        "\n",
        "app=Dolphin Browser(614), keyword=\uc548\ub4dc\ub85c\uc774\ub4dc(588224), both=Dolphin Browser+\uc548\ub4dc\ub85c\uc774\ub4dc(244), pmi=-2.830\n"
       ]
      },
      {
       "output_type": "stream",
       "stream": "stdout",
       "text": [
        "614\n",
        "1473576"
       ]
      },
      {
       "output_type": "stream",
       "stream": "stdout",
       "text": [
        "\n",
        "112"
       ]
      },
      {
       "output_type": "stream",
       "stream": "stdout",
       "text": [
        "\n",
        "app=Dolphin Browser(614), keyword=\uc544\uc774\ud3f0(1473576), both=Dolphin Browser+\uc544\uc774\ud3f0(112), pmi=-2.093\n"
       ]
      },
      {
       "output_type": "stream",
       "stream": "stdout",
       "text": [
        "614\n",
        "223016"
       ]
      },
      {
       "output_type": "stream",
       "stream": "stdout",
       "text": [
        "\n",
        "272"
       ]
      },
      {
       "output_type": "stream",
       "stream": "stdout",
       "text": [
        "\n",
        "app=Dolphin Browser(614), keyword=android(223016), both=Dolphin Browser+android(272), pmi=-3.298\n"
       ]
      },
      {
       "output_type": "stream",
       "stream": "stdout",
       "text": [
        "614\n",
        "448864"
       ]
      },
      {
       "output_type": "stream",
       "stream": "stdout",
       "text": [
        "\n",
        "112"
       ]
      },
      {
       "output_type": "stream",
       "stream": "stdout",
       "text": [
        "\n",
        "app=Dolphin Browser(614), keyword=iphone(448864), both=Dolphin Browser+iphone(112), pmi=-2.609\n"
       ]
      },
      {
       "output_type": "stream",
       "stream": "stdout",
       "text": [
        "614\n",
        "348221"
       ]
      },
      {
       "output_type": "stream",
       "stream": "stdout",
       "text": [
        "\n",
        "2"
       ]
      },
      {
       "output_type": "stream",
       "stream": "stdout",
       "text": [
        "\n",
        "app=Dolphin Browser(614), keyword=\uc624\ub77d(348221), both=Dolphin Browser+\uc624\ub77d(2), pmi=-0.971\n"
       ]
      },
      {
       "output_type": "stream",
       "stream": "stdout",
       "text": [
        "614\n",
        "1396584"
       ]
      },
      {
       "output_type": "stream",
       "stream": "stdout",
       "text": [
        "\n",
        "7"
       ]
      },
      {
       "output_type": "stream",
       "stream": "stdout",
       "text": [
        "\n",
        "app=Dolphin Browser(614), keyword=\uc2ec\ub9ac(1396584), both=Dolphin Browser+\uc2ec\ub9ac(7), pmi=-0.912\n"
       ]
      },
      {
       "output_type": "stream",
       "stream": "stdout",
       "text": [
        "614\n",
        "1568739"
       ]
      },
      {
       "output_type": "stream",
       "stream": "stdout",
       "text": [
        "\n",
        "3"
       ]
      },
      {
       "output_type": "stream",
       "stream": "stdout",
       "text": [
        "\n",
        "app=Dolphin Browser(614), keyword=\ubd80\uc790(1568739), both=Dolphin Browser+\ubd80\uc790(3), pmi=-0.493\n"
       ]
      },
      {
       "output_type": "stream",
       "stream": "stdout",
       "text": [
        "614\n",
        "5402183"
       ]
      },
      {
       "output_type": "stream",
       "stream": "stdout",
       "text": [
        "\n",
        "55"
       ]
      },
      {
       "output_type": "stream",
       "stream": "stdout",
       "text": [
        "\n",
        "app=Dolphin Browser(614), keyword=\uc601\uc5b4(5402183), both=Dolphin Browser+\uc601\uc5b4(55), pmi=-1.220\n"
       ]
      },
      {
       "output_type": "stream",
       "stream": "stdout",
       "text": [
        "614\n",
        "483192"
       ]
      },
      {
       "output_type": "stream",
       "stream": "stdout",
       "text": [
        "\n",
        "2"
       ]
      },
      {
       "output_type": "stream",
       "stream": "stdout",
       "text": [
        "\n",
        "app=Dolphin Browser(614), keyword=\ud1a0\uc775(483192), both=Dolphin Browser+\ud1a0\uc775(2), pmi=-0.829\n"
       ]
      },
      {
       "output_type": "stream",
       "stream": "stdout",
       "text": [
        "614\n",
        "8530758"
       ]
      },
      {
       "output_type": "stream",
       "stream": "stdout",
       "text": [
        "\n",
        "29"
       ]
      },
      {
       "output_type": "stream",
       "stream": "stdout",
       "text": [
        "\n",
        "app=Dolphin Browser(614), keyword=\uacf5\ubd80(8530758), both=Dolphin Browser+\uacf5\ubd80(29), pmi=-0.743\n"
       ]
      },
      {
       "output_type": "stream",
       "stream": "stdout",
       "text": [
        "614\n",
        "5445745"
       ]
      },
      {
       "output_type": "stream",
       "stream": "stdout",
       "text": [
        "\n",
        "33"
       ]
      },
      {
       "output_type": "stream",
       "stream": "stdout",
       "text": [
        "\n",
        "app=Dolphin Browser(614), keyword=\uc77c\uc815(5445745), both=Dolphin Browser+\uc77c\uc815(33), pmi=-0.994\n"
       ]
      },
      {
       "output_type": "stream",
       "stream": "stdout",
       "text": [
        "614\n",
        "580894"
       ]
      },
      {
       "output_type": "stream",
       "stream": "stdout",
       "text": [
        "\n",
        "15"
       ]
      },
      {
       "output_type": "stream",
       "stream": "stdout",
       "text": [
        "\n",
        "app=Dolphin Browser(614), keyword=\ub2ec\ub825(580894), both=Dolphin Browser+\ub2ec\ub825(15), pmi=-1.624\n"
       ]
      },
      {
       "output_type": "stream",
       "stream": "stdout",
       "text": [
        "614\n",
        "8137784"
       ]
      },
      {
       "output_type": "stream",
       "stream": "stdout",
       "text": [
        "\n",
        "13"
       ]
      },
      {
       "output_type": "stream",
       "stream": "stdout",
       "text": [
        "\n",
        "app=Dolphin Browser(614), keyword=\uacc4\ud68d(8137784), both=Dolphin Browser+\uacc4\ud68d(13), pmi=-0.415\n"
       ]
      },
      {
       "output_type": "stream",
       "stream": "stdout",
       "text": [
        "614\n",
        "1109614"
       ]
      },
      {
       "output_type": "stream",
       "stream": "stdout",
       "text": [
        "\n",
        "5"
       ]
      },
      {
       "output_type": "stream",
       "stream": "stdout",
       "text": [
        "\n",
        "app=Dolphin Browser(614), keyword=\uacf5\ub7b5(1109614), both=Dolphin Browser+\uacf5\ub7b5(5), pmi=-0.866\n"
       ]
      },
      {
       "output_type": "stream",
       "stream": "stdout",
       "text": [
        "614\n",
        "358302"
       ]
      },
      {
       "output_type": "stream",
       "stream": "stdout",
       "text": [
        "\n",
        "4"
       ]
      },
      {
       "output_type": "stream",
       "stream": "stdout",
       "text": [
        "\n",
        "app=Dolphin Browser(614), keyword=\ub808\uc774\uc2f1(358302), both=Dolphin Browser+\ub808\uc774\uc2f1(4), pmi=-1.260\n"
       ]
      },
      {
       "output_type": "stream",
       "stream": "stdout",
       "text": [
        "614\n",
        "209270"
       ]
      },
      {
       "output_type": "stream",
       "stream": "stdout",
       "text": [
        "\n",
        "10"
       ]
      },
      {
       "output_type": "stream",
       "stream": "stdout",
       "text": [
        "\n",
        "app=Dolphin Browser(614), keyword=RPG(209270), both=Dolphin Browser+RPG(10), pmi=-1.891\n"
       ]
      },
      {
       "output_type": "stream",
       "stream": "stdout",
       "text": [
        "614\n",
        "5037760"
       ]
      },
      {
       "output_type": "stream",
       "stream": "stdout",
       "text": [
        "\n",
        "61"
       ]
      },
      {
       "output_type": "stream",
       "stream": "stdout",
       "text": [
        "\n",
        "app=Dolphin Browser(614), keyword=\uce74\ub4dc(5037760), both=Dolphin Browser+\uce74\ub4dc(61), pmi=-1.295\n"
       ]
      },
      {
       "output_type": "stream",
       "stream": "stdout",
       "text": [
        "614\n",
        "100553"
       ]
      },
      {
       "output_type": "stream",
       "stream": "stdout",
       "text": [
        "\n",
        "4"
       ]
      },
      {
       "output_type": "stream",
       "stream": "stdout",
       "text": [
        "\n",
        "app=Dolphin Browser(614), keyword=\ub514\ud39c\uc2a4(100553), both=Dolphin Browser+\ub514\ud39c\uc2a4(4), pmi=-1.811\n"
       ]
      },
      {
       "output_type": "stream",
       "stream": "stdout",
       "text": [
        "614\n",
        "547815"
       ]
      },
      {
       "output_type": "stream",
       "stream": "stdout",
       "text": [
        "\n",
        "3"
       ]
      },
      {
       "output_type": "stream",
       "stream": "stdout",
       "text": [
        "\n",
        "app=Dolphin Browser(614), keyword=\ub450\ub1cc(547815), both=Dolphin Browser+\ub450\ub1cc(3), pmi=-0.950\n"
       ]
      },
      {
       "output_type": "stream",
       "stream": "stdout",
       "text": [
        "614\n",
        "23082"
       ]
      },
      {
       "output_type": "stream",
       "stream": "stdout",
       "text": [
        "\n",
        "except 0"
       ]
      },
      {
       "output_type": "stream",
       "stream": "stdout",
       "text": [
        "\n",
        "app=Dolphin Browser(614), keyword=\uc2dc\ubbac(23082), both=Dolphin Browser+\uc2dc\ubbac(0), pmi=7.151\n"
       ]
      },
      {
       "output_type": "stream",
       "stream": "stdout",
       "text": [
        "614\n",
        "642029"
       ]
      },
      {
       "output_type": "stream",
       "stream": "stdout",
       "text": [
        "\n",
        "4"
       ]
      },
      {
       "output_type": "stream",
       "stream": "stdout",
       "text": [
        "\n",
        "app=Dolphin Browser(614), keyword=\ub2ec\ub9ac\uae30(642029), both=Dolphin Browser+\ub2ec\ub9ac\uae30(4), pmi=-1.006\n"
       ]
      },
      {
       "output_type": "stream",
       "stream": "stdout",
       "text": [
        "614\n",
        "230540"
       ]
      },
      {
       "output_type": "stream",
       "stream": "stdout",
       "text": [
        "\n",
        "2"
       ]
      },
      {
       "output_type": "stream",
       "stream": "stdout",
       "text": [
        "\n",
        "app=Dolphin Browser(614), keyword=\uc288\ud305(230540), both=Dolphin Browser+\uc288\ud305(2), pmi=-1.150\n"
       ]
      },
      {
       "output_type": "stream",
       "stream": "stdout",
       "text": [
        "614\n",
        "1745989"
       ]
      },
      {
       "output_type": "stream",
       "stream": "stdout",
       "text": [
        "\n",
        "8"
       ]
      },
      {
       "output_type": "stream",
       "stream": "stdout",
       "text": [
        "\n",
        "app=Dolphin Browser(614), keyword=\ucd95\uad6c(1745989), both=Dolphin Browser+\ucd95\uad6c(8), pmi=-0.873\n"
       ]
      },
      {
       "output_type": "stream",
       "stream": "stdout",
       "text": [
        "614\n",
        "1831254"
       ]
      },
      {
       "output_type": "stream",
       "stream": "stdout",
       "text": [
        "\n",
        "7"
       ]
      },
      {
       "output_type": "stream",
       "stream": "stdout",
       "text": [
        "\n",
        "app=Dolphin Browser(614), keyword=\uacbd\uc601(1831254), both=Dolphin Browser+\uacbd\uc601(7), pmi=-0.794\n"
       ]
      },
      {
       "output_type": "stream",
       "stream": "stdout",
       "text": [
        "614\n",
        "32917"
       ]
      },
      {
       "output_type": "stream",
       "stream": "stdout",
       "text": [
        "\n",
        "except 0"
       ]
      },
      {
       "output_type": "stream",
       "stream": "stdout",
       "text": [
        "\n",
        "app=Dolphin Browser(614), keyword=\ud0c0\uc774\ucfe4(32917), both=Dolphin Browser+\ud0c0\uc774\ucfe4(0), pmi=7.306\n"
       ]
      },
      {
       "output_type": "stream",
       "stream": "stdout",
       "text": [
        "614\n",
        "1170313"
       ]
      },
      {
       "output_type": "stream",
       "stream": "stdout",
       "text": [
        "\n",
        "3"
       ]
      },
      {
       "output_type": "stream",
       "stream": "stdout",
       "text": [
        "\n",
        "app=Dolphin Browser(614), keyword=\ud0c8\ucd9c(1170313), both=Dolphin Browser+\ud0c8\ucd9c(3), pmi=-0.621\n"
       ]
      },
      {
       "output_type": "stream",
       "stream": "stdout",
       "text": [
        "614\n",
        "391510"
       ]
      },
      {
       "output_type": "stream",
       "stream": "stdout",
       "text": [
        "\n",
        "2"
       ]
      },
      {
       "output_type": "stream",
       "stream": "stdout",
       "text": [
        "\n",
        "app=Dolphin Browser(614), keyword=\ucd94\ub9ac(391510), both=Dolphin Browser+\ucd94\ub9ac(2), pmi=-0.920\n"
       ]
      },
      {
       "output_type": "stream",
       "stream": "stdout",
       "text": [
        "614\n",
        "1488636"
       ]
      },
      {
       "output_type": "stream",
       "stream": "stdout",
       "text": [
        "\n",
        "3"
       ]
      },
      {
       "output_type": "stream",
       "stream": "stdout",
       "text": [
        "\n",
        "app=Dolphin Browser(614), keyword=\uc7a5\uae30(1488636), both=Dolphin Browser+\uc7a5\uae30(3), pmi=-0.516\n"
       ]
      },
      {
       "output_type": "stream",
       "stream": "stdout",
       "text": [
        "614\n",
        "1958842"
       ]
      },
      {
       "output_type": "stream",
       "stream": "stdout",
       "text": [
        "\n",
        "8"
       ]
      },
      {
       "output_type": "stream",
       "stream": "stdout",
       "text": [
        "\n",
        "app=Dolphin Browser(614), keyword=\ube44\ud589\uae30(1958842), both=Dolphin Browser+\ube44\ud589\uae30(8), pmi=-0.823\n"
       ]
      },
      {
       "output_type": "stream",
       "stream": "stdout",
       "text": [
        "614\n",
        "33753"
       ]
      },
      {
       "output_type": "stream",
       "stream": "stdout",
       "text": [
        "\n",
        "except 0"
       ]
      },
      {
       "output_type": "stream",
       "stream": "stdout",
       "text": [
        "\n",
        "app=Dolphin Browser(614), keyword=\uc0ac\ucc9c\uc131(33753), both=Dolphin Browser+\uc0ac\ucc9c\uc131(0), pmi=7.316\n"
       ]
      },
      {
       "output_type": "stream",
       "stream": "stdout",
       "text": [
        "614\n",
        "2493689"
       ]
      },
      {
       "output_type": "stream",
       "stream": "stdout",
       "text": [
        "\n",
        "10"
       ]
      },
      {
       "output_type": "stream",
       "stream": "stdout",
       "text": [
        "\n",
        "app=Dolphin Browser(614), keyword=\uc2a4\ud3ec\uce20(2493689), both=Dolphin Browser+\uc2a4\ud3ec\uce20(10), pmi=-0.815\n"
       ]
      },
      {
       "output_type": "stream",
       "stream": "stdout",
       "text": [
        "614\n",
        "493893"
       ]
      },
      {
       "output_type": "stream",
       "stream": "stdout",
       "text": [
        "\n",
        "3"
       ]
      },
      {
       "output_type": "stream",
       "stream": "stdout",
       "text": [
        "\n",
        "app=Dolphin Browser(614), keyword=\ub18d\uad6c(493893), both=Dolphin Browser+\ub18d\uad6c(3), pmi=-0.995\n"
       ]
      },
      {
       "output_type": "stream",
       "stream": "stdout",
       "text": [
        "614\n",
        "1186134"
       ]
      },
      {
       "output_type": "stream",
       "stream": "stdout",
       "text": [
        "\n",
        "5"
       ]
      },
      {
       "output_type": "stream",
       "stream": "stdout",
       "text": [
        "\n",
        "app=Dolphin Browser(614), keyword=\ub09a\uc2dc(1186134), both=Dolphin Browser+\ub09a\uc2dc(5), pmi=-0.837\n"
       ]
      },
      {
       "output_type": "stream",
       "stream": "stdout",
       "text": [
        "614\n",
        "7514169"
       ]
      },
      {
       "output_type": "stream",
       "stream": "stdout",
       "text": [
        "\n",
        "63"
       ]
      },
      {
       "output_type": "stream",
       "stream": "stdout",
       "text": [
        "\n",
        "app=Dolphin Browser(614), keyword=\uc74c\uc545(7514169), both=Dolphin Browser+\uc74c\uc545(63), pmi=-1.135\n"
       ]
      },
      {
       "output_type": "stream",
       "stream": "stdout",
       "text": [
        "614\n",
        "1021128"
       ]
      },
      {
       "output_type": "stream",
       "stream": "stdout",
       "text": [
        "\n",
        "12"
       ]
      },
      {
       "output_type": "stream",
       "stream": "stdout",
       "text": [
        "\n",
        "app=Dolphin Browser(614), keyword=\uce74\ud1a1(1021128), both=Dolphin Browser+\uce74\ud1a1(12), pmi=-1.282\n"
       ]
      },
      {
       "output_type": "stream",
       "stream": "stdout",
       "text": [
        "614\n",
        "1043437"
       ]
      },
      {
       "output_type": "stream",
       "stream": "stdout",
       "text": [
        "\n",
        "8"
       ]
      },
      {
       "output_type": "stream",
       "stream": "stdout",
       "text": [
        "\n",
        "app=Dolphin Browser(614), keyword=\uace8\ud504(1043437), both=Dolphin Browser+\uace8\ud504(8), pmi=-1.096\n"
       ]
      },
      {
       "output_type": "stream",
       "stream": "stdout",
       "text": [
        "614\n",
        "121691"
       ]
      },
      {
       "output_type": "stream",
       "stream": "stdout",
       "text": [
        "\n",
        "2"
       ]
      },
      {
       "output_type": "stream",
       "stream": "stdout",
       "text": [
        "\n",
        "app=Dolphin Browser(614), keyword=\ub2f9\uad6c(121691), both=Dolphin Browser+\ub2f9\uad6c(2), pmi=-1.428\n"
       ]
      },
      {
       "output_type": "stream",
       "stream": "stdout",
       "text": [
        "614\n",
        "1395634"
       ]
      },
      {
       "output_type": "stream",
       "stream": "stdout",
       "text": [
        "\n",
        "13"
       ]
      },
      {
       "output_type": "stream",
       "stream": "stdout",
       "text": [
        "\n",
        "app=Dolphin Browser(614), keyword=\uc57c\uad6c(1395634), both=Dolphin Browser+\uc57c\uad6c(13), pmi=-1.181\n"
       ]
      },
      {
       "output_type": "stream",
       "stream": "stdout",
       "text": [
        "614\n",
        "120181"
       ]
      },
      {
       "output_type": "stream",
       "stream": "stdout",
       "text": [
        "\n",
        "3"
       ]
      },
      {
       "output_type": "stream",
       "stream": "stdout",
       "text": [
        "\n",
        "app=Dolphin Browser(614), keyword=\ubcfc\ub9c1(120181), both=Dolphin Browser+\ubcfc\ub9c1(3), pmi=-1.609\n"
       ]
      },
      {
       "output_type": "stream",
       "stream": "stdout",
       "text": [
        "614\n",
        "1768"
       ]
      },
      {
       "output_type": "stream",
       "stream": "stdout",
       "text": [
        "\n",
        "except 0"
       ]
      },
      {
       "output_type": "stream",
       "stream": "stdout",
       "text": [
        "\n",
        "app=Dolphin Browser(614), keyword=\ud14c\uc774\uc2a4(1768), both=Dolphin Browser+\ud14c\uc774\uc2a4(0), pmi=6.036\n"
       ]
      },
      {
       "output_type": "stream",
       "stream": "stdout",
       "text": [
        "614\n",
        "238841"
       ]
      },
      {
       "output_type": "stream",
       "stream": "stdout",
       "text": [
        "\n",
        "3"
       ]
      },
      {
       "output_type": "stream",
       "stream": "stdout",
       "text": [
        "\n",
        "app=Dolphin Browser(614), keyword=\uc0bc\uad6d\uc9c0(238841), both=Dolphin Browser+\uc0bc\uad6d\uc9c0(3), pmi=-1.311\n"
       ]
      },
      {
       "output_type": "stream",
       "stream": "stdout",
       "text": [
        "614\n",
        "24214"
       ]
      },
      {
       "output_type": "stream",
       "stream": "stdout",
       "text": [
        "\n",
        "1"
       ]
      },
      {
       "output_type": "stream",
       "stream": "stdout",
       "text": [
        "\n",
        "app=Dolphin Browser(614), keyword=TCG(24214), both=Dolphin Browser+TCG(1), pmi=-1.828\n"
       ]
      },
      {
       "output_type": "stream",
       "stream": "stdout",
       "text": [
        "614\n",
        "3481112"
       ]
      },
      {
       "output_type": "stream",
       "stream": "stdout",
       "text": [
        "\n",
        "8"
       ]
      },
      {
       "output_type": "stream",
       "stream": "stdout",
       "text": [
        "\n",
        "app=Dolphin Browser(614), keyword=\uc804\uc7c1(3481112), both=Dolphin Browser+\uc804\uc7c1(8), pmi=-0.573\n"
       ]
      },
      {
       "output_type": "stream",
       "stream": "stdout",
       "text": [
        "614\n",
        "9385408"
       ]
      },
      {
       "output_type": "stream",
       "stream": "stdout",
       "text": [
        "\n",
        "9"
       ]
      },
      {
       "output_type": "stream",
       "stream": "stdout",
       "text": [
        "\n",
        "app=Dolphin Browser(614), keyword=\uac74\uac15(9385408), both=Dolphin Browser+\uac74\uac15(9), pmi=-0.194\n"
       ]
      },
      {
       "output_type": "stream",
       "stream": "stdout",
       "text": [
        "614\n",
        "6675475"
       ]
      },
      {
       "output_type": "stream",
       "stream": "stdout",
       "text": [
        "\n",
        "16"
       ]
      },
      {
       "output_type": "stream",
       "stream": "stdout",
       "text": [
        "\n",
        "app=Dolphin Browser(614), keyword=\uc6b4\ub3d9(6675475), both=Dolphin Browser+\uc6b4\ub3d9(16), pmi=-0.591\n"
       ]
      },
      {
       "output_type": "stream",
       "stream": "stdout",
       "text": [
        "614\n",
        "7017888"
       ]
      },
      {
       "output_type": "stream",
       "stream": "stdout",
       "text": [
        "\n",
        "14"
       ]
      },
      {
       "output_type": "stream",
       "stream": "stdout",
       "text": [
        "\n",
        "app=Dolphin Browser(614), keyword=\uad50\uc721(7017888), both=Dolphin Browser+\uad50\uc721(14), pmi=-0.512\n"
       ]
      },
      {
       "output_type": "stream",
       "stream": "stdout",
       "text": [
        "614\n",
        "3744838"
       ]
      },
      {
       "output_type": "stream",
       "stream": "stdout",
       "text": [
        "\n",
        "25"
       ]
      },
      {
       "output_type": "stream",
       "stream": "stdout",
       "text": [
        "\n",
        "app=Dolphin Browser(614), keyword=\uad50\ud1b5(3744838), both=Dolphin Browser+\uad50\ud1b5(25), pmi=-1.036\n"
       ]
      },
      {
       "output_type": "stream",
       "stream": "stdout",
       "text": [
        "614\n",
        "1799886"
       ]
      },
      {
       "output_type": "stream",
       "stream": "stdout",
       "text": [
        "\n",
        "10"
       ]
      },
      {
       "output_type": "stream",
       "stream": "stdout",
       "text": [
        "\n",
        "app=Dolphin Browser(614), keyword=\uae08\uc735(1799886), both=Dolphin Browser+\uae08\uc735(10), pmi=-0.957\n"
       ]
      },
      {
       "output_type": "stream",
       "stream": "stdout",
       "text": [
        "614\n",
        "8419416"
       ]
      },
      {
       "output_type": "stream",
       "stream": "stdout",
       "text": [
        "\n",
        "36"
       ]
      },
      {
       "output_type": "stream",
       "stream": "stdout",
       "text": [
        "\n",
        "app=Dolphin Browser(614), keyword=\ub0a0\uc528(8419416), both=Dolphin Browser+\ub0a0\uc528(36), pmi=-0.843\n"
       ]
      },
      {
       "output_type": "stream",
       "stream": "stdout",
       "text": [
        "614\n",
        "5579161"
       ]
      },
      {
       "output_type": "stream",
       "stream": "stdout",
       "text": [
        "\n",
        "53"
       ]
      },
      {
       "output_type": "stream",
       "stream": "stdout",
       "text": [
        "\n",
        "app=Dolphin Browser(614), keyword=\ub274\uc2a4(5579161), both=Dolphin Browser+\ub274\uc2a4(53), pmi=-1.190\n"
       ]
      },
      {
       "output_type": "stream",
       "stream": "stdout",
       "text": [
        "614\n",
        "2004220"
       ]
      },
      {
       "output_type": "stream",
       "stream": "stdout",
       "text": [
        "\n",
        "11"
       ]
      },
      {
       "output_type": "stream",
       "stream": "stdout",
       "text": [
        "\n",
        "app=Dolphin Browser(614), keyword=\uc7a1\uc9c0(2004220), both=Dolphin Browser+\uc7a1\uc9c0(11), pmi=-0.951\n"
       ]
      },
      {
       "output_type": "stream",
       "stream": "stdout",
       "text": [
        "614\n",
        "123935"
       ]
      },
      {
       "output_type": "stream",
       "stream": "stdout",
       "text": [
        "\n",
        "3"
       ]
      },
      {
       "output_type": "stream",
       "stream": "stdout",
       "text": [
        "\n",
        "app=Dolphin Browser(614), keyword=\ub370\ucf54\ub808\uc774\uc158(123935), both=Dolphin Browser+\ub370\ucf54\ub808\uc774\uc158(3), pmi=-1.596\n"
       ]
      },
      {
       "output_type": "stream",
       "stream": "stdout",
       "text": [
        "614\n",
        "1807828"
       ]
      },
      {
       "output_type": "stream",
       "stream": "stdout",
       "text": [
        "\n",
        "31"
       ]
      },
      {
       "output_type": "stream",
       "stream": "stdout",
       "text": [
        "\n",
        "app=Dolphin Browser(614), keyword=\ub3c4\uad6c(1807828), both=Dolphin Browser+\ub3c4\uad6c(31), pmi=-1.446\n"
       ]
      },
      {
       "output_type": "stream",
       "stream": "stdout",
       "text": [
        "614\n",
        "1204873"
       ]
      },
      {
       "output_type": "stream",
       "stream": "stdout",
       "text": [
        "\n",
        "5"
       ]
      },
      {
       "output_type": "stream",
       "stream": "stdout",
       "text": [
        "\n",
        "app=Dolphin Browser(614), keyword=\ub3c4\uc11c(1204873), both=Dolphin Browser+\ub3c4\uc11c(5), pmi=-0.830\n"
       ]
      },
      {
       "output_type": "stream",
       "stream": "stdout",
       "text": [
        "614\n",
        "982984"
       ]
      },
      {
       "output_type": "stream",
       "stream": "stdout",
       "text": [
        "\n",
        "14"
       ]
      },
      {
       "output_type": "stream",
       "stream": "stdout",
       "text": [
        "\n",
        "app=Dolphin Browser(614), keyword=\ucc38\uace0\uc790\ub8cc(982984), both=Dolphin Browser+\ucc38\uace0\uc790\ub8cc(14), pmi=-1.365\n"
       ]
      },
      {
       "output_type": "stream",
       "stream": "stdout",
       "text": [
        "614\n",
        "1138297"
       ]
      },
      {
       "output_type": "stream",
       "stream": "stdout",
       "text": [
        "\n",
        "8"
       ]
      },
      {
       "output_type": "stream",
       "stream": "stdout",
       "text": [
        "\n",
        "app=Dolphin Browser(614), keyword=\ub77c\uc774\ube0c(1138297), both=Dolphin Browser+\ub77c\uc774\ube0c(8), pmi=-1.059\n"
       ]
      },
      {
       "output_type": "stream",
       "stream": "stdout",
       "text": [
        "614\n",
        "560976"
       ]
      },
      {
       "output_type": "stream",
       "stream": "stdout",
       "text": [
        "\n",
        "33"
       ]
      },
      {
       "output_type": "stream",
       "stream": "stdout",
       "text": [
        "\n",
        "app=Dolphin Browser(614), keyword=\ubc30\uacbd\ud654\uba74(560976), both=Dolphin Browser+\ubc30\uacbd\ud654\uba74(33), pmi=-1.981\n"
       ]
      },
      {
       "output_type": "stream",
       "stream": "stdout",
       "text": [
        "614\n",
        "135576"
       ]
      },
      {
       "output_type": "stream",
       "stream": "stdout",
       "text": [
        "\n",
        "11"
       ]
      },
      {
       "output_type": "stream",
       "stream": "stdout",
       "text": [
        "\n",
        "app=Dolphin Browser(614), keyword=\ub77c\uc774\ube0c\ub7ec\ub9ac(135576), both=Dolphin Browser+\ub77c\uc774\ube0c\ub7ec\ub9ac(11), pmi=-2.121\n"
       ]
      },
      {
       "output_type": "stream",
       "stream": "stdout",
       "text": [
        "614\n",
        "371608"
       ]
      },
      {
       "output_type": "stream",
       "stream": "stdout",
       "text": [
        "\n",
        "4"
       ]
      },
      {
       "output_type": "stream",
       "stream": "stdout",
       "text": [
        "\n",
        "app=Dolphin Browser(614), keyword=\ub370\ubaa8(371608), both=Dolphin Browser+\ub370\ubaa8(4), pmi=-1.244\n"
       ]
      },
      {
       "output_type": "stream",
       "stream": "stdout",
       "text": [
        "614\n",
        "207854"
       ]
      },
      {
       "output_type": "stream",
       "stream": "stdout",
       "text": [
        "\n",
        "2"
       ]
      },
      {
       "output_type": "stream",
       "stream": "stdout",
       "text": [
        "\n",
        "app=Dolphin Browser(614), keyword=\ub77c\uc774\ud504\uc2a4\ud0c0\uc77c(207854), both=Dolphin Browser+\ub77c\uc774\ud504\uc2a4\ud0c0\uc77c(2), pmi=-1.195\n"
       ]
      },
      {
       "output_type": "stream",
       "stream": "stdout",
       "text": [
        "614\n",
        "16332514"
       ]
      },
      {
       "output_type": "stream",
       "stream": "stdout",
       "text": [
        "\n",
        "67"
       ]
      },
      {
       "output_type": "stream",
       "stream": "stdout",
       "text": [
        "\n",
        "app=Dolphin Browser(614), keyword=\ube14\ub85c\uadf8(16332514), both=Dolphin Browser+\ube14\ub85c\uadf8(67), pmi=-0.825\n"
       ]
      },
      {
       "output_type": "stream",
       "stream": "stdout",
       "text": [
        "614\n",
        "2604508"
       ]
      },
      {
       "output_type": "stream",
       "stream": "stdout",
       "text": [
        "\n",
        "24"
       ]
      },
      {
       "output_type": "stream",
       "stream": "stdout",
       "text": [
        "\n",
        "app=Dolphin Browser(614), keyword=\ub9cc\ud654(2604508), both=Dolphin Browser+\ub9cc\ud654(24), pmi=-1.176\n"
       ]
      },
      {
       "output_type": "stream",
       "stream": "stdout",
       "text": [
        "614\n",
        "1746027"
       ]
      },
      {
       "output_type": "stream",
       "stream": "stdout",
       "text": [
        "\n",
        "31"
       ]
      },
      {
       "output_type": "stream",
       "stream": "stdout",
       "text": [
        "\n",
        "app=Dolphin Browser(614), keyword=\ubbf8\ub514\uc5b4(1746027), both=Dolphin Browser+\ubbf8\ub514\uc5b4(31), pmi=-1.461\n"
       ]
      },
      {
       "output_type": "stream",
       "stream": "stdout",
       "text": [
        "614\n",
        "5421487"
       ]
      },
      {
       "output_type": "stream",
       "stream": "stdout",
       "text": [
        "\n",
        "85"
       ]
      },
      {
       "output_type": "stream",
       "stream": "stdout",
       "text": [
        "\n",
        "app=Dolphin Browser(614), keyword=\ub3d9\uc601\uc0c1(5421487), both=Dolphin Browser+\ub3d9\uc601\uc0c1(85), pmi=-1.407\n"
       ]
      },
      {
       "output_type": "stream",
       "stream": "stdout",
       "text": [
        "614\n",
        "865533"
       ]
      },
      {
       "output_type": "stream",
       "stream": "stdout",
       "text": [
        "\n",
        "8"
       ]
      },
      {
       "output_type": "stream",
       "stream": "stdout",
       "text": [
        "\n",
        "app=Dolphin Browser(614), keyword=\ube44\uc988\ub2c8\uc2a4(865533), both=Dolphin Browser+\ube44\uc988\ub2c8\uc2a4(8), pmi=-1.178\n"
       ]
      },
      {
       "output_type": "stream",
       "stream": "stdout",
       "text": [
        "614\n",
        "1700645"
       ]
      },
      {
       "output_type": "stream",
       "stream": "stdout",
       "text": [
        "\n",
        "42"
       ]
      },
      {
       "output_type": "stream",
       "stream": "stdout",
       "text": [
        "\n",
        "app=Dolphin Browser(614), keyword=\ud3b8\uc9d1(1700645), both=Dolphin Browser+\ud3b8\uc9d1(42), pmi=-1.604\n"
       ]
      },
      {
       "output_type": "stream",
       "stream": "stdout",
       "text": [
        "614\n",
        "37500111"
       ]
      },
      {
       "output_type": "stream",
       "stream": "stdout",
       "text": [
        "\n",
        "109"
       ]
      },
      {
       "output_type": "stream",
       "stream": "stdout",
       "text": [
        "\n",
        "app=Dolphin Browser(614), keyword=\uc0ac\uc9c4(37500111), both=Dolphin Browser+\uc0ac\uc9c4(109), pmi=-0.675\n"
       ]
      },
      {
       "output_type": "stream",
       "stream": "stdout",
       "text": [
        "614\n",
        "275188"
       ]
      },
      {
       "output_type": "stream",
       "stream": "stdout",
       "text": [
        "\n",
        "11"
       ]
      },
      {
       "output_type": "stream",
       "stream": "stdout",
       "text": [
        "\n",
        "app=Dolphin Browser(614), keyword=\uc0dd\uc0b0\uc131(275188), both=Dolphin Browser+\uc0dd\uc0b0\uc131(11), pmi=-1.814\n"
       ]
      },
      {
       "output_type": "stream",
       "stream": "stdout",
       "text": [
        "614\n",
        "1042602"
       ]
      },
      {
       "output_type": "stream",
       "stream": "stdout",
       "text": [
        "\n",
        "39"
       ]
      },
      {
       "output_type": "stream",
       "stream": "stdout",
       "text": [
        "\n",
        "app=Dolphin Browser(614), keyword=\uc18c\uc15c(1042602), both=Dolphin Browser+\uc18c\uc15c(39), pmi=-1.785\n"
       ]
      },
      {
       "output_type": "stream",
       "stream": "stdout",
       "text": [
        "614\n",
        "580934"
       ]
      },
      {
       "output_type": "stream",
       "stream": "stdout",
       "text": [
        "\n",
        "6"
       ]
      },
      {
       "output_type": "stream",
       "stream": "stdout",
       "text": [
        "\n",
        "app=Dolphin Browser(614), keyword=\ucf58\ud150\uce20(580934), both=Dolphin Browser+\ucf58\ud150\uce20(6), pmi=-1.226\n"
       ]
      },
      {
       "output_type": "stream",
       "stream": "stdout",
       "text": [
        "614\n",
        "2412770"
       ]
      },
      {
       "output_type": "stream",
       "stream": "stdout",
       "text": [
        "\n",
        "13"
       ]
      },
      {
       "output_type": "stream",
       "stream": "stdout",
       "text": [
        "\n",
        "app=Dolphin Browser(614), keyword=\uc1fc\ud551(2412770), both=Dolphin Browser+\uc1fc\ud551(13), pmi=-0.943\n"
       ]
      },
      {
       "output_type": "stream",
       "stream": "stdout",
       "text": [
        "614\n",
        "196034"
       ]
      },
      {
       "output_type": "stream",
       "stream": "stdout",
       "text": [
        "\n",
        "51"
       ]
      },
      {
       "output_type": "stream",
       "stream": "stdout",
       "text": [
        "\n",
        "app=Dolphin Browser(614), keyword=\uc704\uc82f(196034), both=Dolphin Browser+\uc704\uc82f(51), pmi=-2.627\n"
       ]
      },
      {
       "output_type": "stream",
       "stream": "stdout",
       "text": [
        "614\n",
        "4015576"
       ]
      },
      {
       "output_type": "stream",
       "stream": "stdout",
       "text": [
        "\n",
        "10"
       ]
      },
      {
       "output_type": "stream",
       "stream": "stdout",
       "text": [
        "\n",
        "app=Dolphin Browser(614), keyword=\uc790\ub3d9\ucc28(4015576), both=Dolphin Browser+\uc790\ub3d9\ucc28(10), pmi=-0.608\n"
       ]
      },
      {
       "output_type": "stream",
       "stream": "stdout",
       "text": [
        "614\n",
        "1072061"
       ]
      },
      {
       "output_type": "stream",
       "stream": "stdout",
       "text": [
        "\n",
        "2"
       ]
      },
      {
       "output_type": "stream",
       "stream": "stdout",
       "text": [
        "\n",
        "app=Dolphin Browser(614), keyword=\uacbd\uc8fc(1072061), both=Dolphin Browser+\uacbd\uc8fc(2), pmi=-0.483\n"
       ]
      },
      {
       "output_type": "stream",
       "stream": "stdout",
       "text": [
        "614\n",
        "2432430"
       ]
      },
      {
       "output_type": "stream",
       "stream": "stdout",
       "text": [
        "\n",
        "3"
       ]
      },
      {
       "output_type": "stream",
       "stream": "stdout",
       "text": [
        "\n",
        "app=Dolphin Browser(614), keyword=\ub2e4\uc774\uc5b4\ud2b8(2432430), both=Dolphin Browser+\ub2e4\uc774\uc5b4\ud2b8(3), pmi=-0.303\n"
       ]
      },
      {
       "output_type": "stream",
       "stream": "stdout",
       "text": [
        "614\n",
        "580894"
       ]
      },
      {
       "output_type": "stream",
       "stream": "stdout",
       "text": [
        "\n",
        "15"
       ]
      },
      {
       "output_type": "stream",
       "stream": "stdout",
       "text": [
        "\n",
        "app=Dolphin Browser(614), keyword=\ub2ec\ub825(580894), both=Dolphin Browser+\ub2ec\ub825(15), pmi=-1.624\n"
       ]
      },
      {
       "output_type": "stream",
       "stream": "stdout",
       "text": [
        "614\n",
        "425033"
       ]
      },
      {
       "output_type": "stream",
       "stream": "stdout",
       "text": [
        "\n",
        "except 0"
       ]
      },
      {
       "output_type": "stream",
       "stream": "stdout",
       "text": [
        "\n",
        "app=Dolphin Browser(614), keyword=\uc0dd\ub9ac(425033), both=Dolphin Browser+\uc0dd\ub9ac(0), pmi=8.417\n"
       ]
      },
      {
       "output_type": "stream",
       "stream": "stdout",
       "text": [
        "614\n",
        "117656"
       ]
      },
      {
       "output_type": "stream",
       "stream": "stdout",
       "text": [
        "\n",
        "21"
       ]
      },
      {
       "output_type": "stream",
       "stream": "stdout",
       "text": [
        "\n",
        "app=Dolphin Browser(614), keyword=\uce98\ub9b0\ub354(117656), both=Dolphin Browser+\uce98\ub9b0\ub354(21), pmi=-2.463\n"
       ]
      },
      {
       "output_type": "stream",
       "stream": "stdout",
       "text": [
        "614\n",
        "42366"
       ]
      },
      {
       "output_type": "stream",
       "stream": "stdout",
       "text": [
        "\n",
        "1"
       ]
      },
      {
       "output_type": "stream",
       "stream": "stdout",
       "text": [
        "\n",
        "app=Dolphin Browser(614), keyword=\uc0ac\uc8fc\ud314\uc790(42366), both=Dolphin Browser+\uc0ac\uc8fc\ud314\uc790(1), pmi=-1.585\n"
       ]
      },
      {
       "output_type": "stream",
       "stream": "stdout",
       "text": [
        "614\n",
        "557682"
       ]
      },
      {
       "output_type": "stream",
       "stream": "stdout",
       "text": [
        "\n",
        "3"
       ]
      },
      {
       "output_type": "stream",
       "stream": "stdout",
       "text": [
        "\n",
        "app=Dolphin Browser(614), keyword=\uad81\ud569(557682), both=Dolphin Browser+\uad81\ud569(3), pmi=-0.943\n"
       ]
      },
      {
       "output_type": "stream",
       "stream": "stdout",
       "text": [
        "614\n",
        "965124"
       ]
      },
      {
       "output_type": "stream",
       "stream": "stdout",
       "text": [
        "\n",
        "3"
       ]
      },
      {
       "output_type": "stream",
       "stream": "stdout",
       "text": [
        "\n",
        "app=Dolphin Browser(614), keyword=\uccb4\uc911(965124), both=Dolphin Browser+\uccb4\uc911(3), pmi=-0.704\n"
       ]
      },
      {
       "output_type": "stream",
       "stream": "stdout",
       "text": [
        "614\n",
        "2782151"
       ]
      },
      {
       "output_type": "stream",
       "stream": "stdout",
       "text": [
        "\n",
        "46"
       ]
      },
      {
       "output_type": "stream",
       "stream": "stdout",
       "text": [
        "\n",
        "app=Dolphin Browser(614), keyword=\uc0ac\uc804(2782151), both=Dolphin Browser+\uc0ac\uc804(46), pmi=-1.430\n"
       ]
      },
      {
       "output_type": "stream",
       "stream": "stdout",
       "text": [
        "614\n",
        "4737592"
       ]
      },
      {
       "output_type": "stream",
       "stream": "stdout",
       "text": [
        "\n",
        "67"
       ]
      },
      {
       "output_type": "stream",
       "stream": "stdout",
       "text": [
        "\n",
        "app=Dolphin Browser(614), keyword=\ucef4\ud4e8\ud130(4737592), both=Dolphin Browser+\ucef4\ud4e8\ud130(67), pmi=-1.362\n"
       ]
      },
      {
       "output_type": "stream",
       "stream": "stdout",
       "text": [
        "614\n",
        "332071"
       ]
      },
      {
       "output_type": "stream",
       "stream": "stdout",
       "text": [
        "\n",
        "7"
       ]
      },
      {
       "output_type": "stream",
       "stream": "stdout",
       "text": [
        "\n",
        "app=Dolphin Browser(614), keyword=\ubc31\uacfc\uc0ac\uc804(332071), both=Dolphin Browser+\ubc31\uacfc\uc0ac\uc804(7), pmi=-1.536\n"
       ]
      },
      {
       "output_type": "stream",
       "stream": "stdout",
       "text": [
        "614\n",
        "347881"
       ]
      },
      {
       "output_type": "stream",
       "stream": "stdout",
       "text": [
        "\n",
        "1"
       ]
      },
      {
       "output_type": "stream",
       "stream": "stdout",
       "text": [
        "\n",
        "app=Dolphin Browser(614), keyword=\uae09\uc2dd(347881), both=Dolphin Browser+\uae09\uc2dd(1), pmi=-0.670\n"
       ]
      },
      {
       "output_type": "stream",
       "stream": "stdout",
       "text": [
        "614\n",
        "13067391"
       ]
      },
      {
       "output_type": "stream",
       "stream": "stdout",
       "text": [
        "\n",
        "12"
       ]
      },
      {
       "output_type": "stream",
       "stream": "stdout",
       "text": [
        "\n",
        "app=Dolphin Browser(614), keyword=\ud559\uad50(13067391), both=Dolphin Browser+\ud559\uad50(12), pmi=-0.175\n"
       ]
      },
      {
       "output_type": "stream",
       "stream": "stdout",
       "text": [
        "614\n",
        "2576982"
       ]
      },
      {
       "output_type": "stream",
       "stream": "stdout",
       "text": [
        "\n",
        "1"
       ]
      },
      {
       "output_type": "stream",
       "stream": "stdout",
       "text": [
        "\n",
        "app=Dolphin Browser(614), keyword=\ucd08\ub4f1\ud559\uad50(2576982), both=Dolphin Browser+\ucd08\ub4f1\ud559\uad50(1), pmi=0.199\n"
       ]
      },
      {
       "output_type": "stream",
       "stream": "stdout",
       "text": [
        "614\n",
        "1701903"
       ]
      },
      {
       "output_type": "stream",
       "stream": "stdout",
       "text": [
        "\n",
        "1"
       ]
      },
      {
       "output_type": "stream",
       "stream": "stdout",
       "text": [
        "\n",
        "app=Dolphin Browser(614), keyword=\uc911\ud559\uad50(1701903), both=Dolphin Browser+\uc911\ud559\uad50(1), pmi=0.019\n"
       ]
      },
      {
       "output_type": "stream",
       "stream": "stdout",
       "text": [
        "614\n",
        "2565649"
       ]
      },
      {
       "output_type": "stream",
       "stream": "stdout",
       "text": [
        "\n",
        "4"
       ]
      },
      {
       "output_type": "stream",
       "stream": "stdout",
       "text": [
        "\n",
        "app=Dolphin Browser(614), keyword=\uace0\ub4f1\ud559\uad50(2565649), both=Dolphin Browser+\uace0\ub4f1\ud559\uad50(4), pmi=-0.405\n"
       ]
      },
      {
       "output_type": "stream",
       "stream": "stdout",
       "text": [
        "614\n",
        "3194080"
       ]
      },
      {
       "output_type": "stream",
       "stream": "stdout",
       "text": [
        "\n",
        "3"
       ]
      },
      {
       "output_type": "stream",
       "stream": "stdout",
       "text": [
        "\n",
        "app=Dolphin Browser(614), keyword=\ub300\ud559\uad50(3194080), both=Dolphin Browser+\ub300\ud559\uad50(3), pmi=-0.185\n"
       ]
      },
      {
       "output_type": "stream",
       "stream": "stdout",
       "text": [
        "614\n",
        "1185203"
       ]
      },
      {
       "output_type": "stream",
       "stream": "stdout",
       "text": [
        "\n",
        "30"
       ]
      },
      {
       "output_type": "stream",
       "stream": "stdout",
       "text": [
        "\n",
        "app=Dolphin Browser(614), keyword=Korea(1185203), both=Dolphin Browser+Korea(30), pmi=-1.615\n"
       ]
      },
      {
       "output_type": "stream",
       "stream": "stdout",
       "text": [
        "614\n",
        "608486"
       ]
      },
      {
       "output_type": "stream",
       "stream": "stdout",
       "text": [
        "\n",
        "19"
       ]
      },
      {
       "output_type": "stream",
       "stream": "stdout",
       "text": [
        "\n",
        "app=Dolphin Browser(614), keyword=\ub124\ube44\uac8c\uc774\uc158(608486), both=Dolphin Browser+\ub124\ube44\uac8c\uc774\uc158(19), pmi=-1.706\n"
       ]
      },
      {
       "output_type": "stream",
       "stream": "stdout",
       "text": [
        "614\n",
        "2825311"
       ]
      },
      {
       "output_type": "stream",
       "stream": "stdout",
       "text": [
        "\n",
        "37"
       ]
      },
      {
       "output_type": "stream",
       "stream": "stdout",
       "text": [
        "\n",
        "app=Dolphin Browser(614), keyword=\uc9c0\ud558\ucca0(2825311), both=Dolphin Browser+\uc9c0\ud558\ucca0(37), pmi=-1.329\n"
       ]
      },
      {
       "output_type": "stream",
       "stream": "stdout",
       "text": [
        "614\n",
        "167409"
       ]
      },
      {
       "output_type": "stream",
       "stream": "stdout",
       "text": [
        "\n",
        "4"
       ]
      },
      {
       "output_type": "stream",
       "stream": "stdout",
       "text": [
        "\n",
        "app=Dolphin Browser(614), keyword=\uc885\uacb0\uc790(167409), both=Dolphin Browser+\uc885\uacb0\uc790(4), pmi=-1.590\n"
       ]
      },
      {
       "output_type": "stream",
       "stream": "stdout",
       "text": [
        "614\n",
        "64554"
       ]
      },
      {
       "output_type": "stream",
       "stream": "stdout",
       "text": [
        "\n",
        "1"
       ]
      },
      {
       "output_type": "stream",
       "stream": "stdout",
       "text": [
        "\n",
        "app=Dolphin Browser(614), keyword=\ub0b4\ube44(64554), both=Dolphin Browser+\ub0b4\ube44(1), pmi=-1.402\n"
       ]
      },
      {
       "output_type": "stream",
       "stream": "stdout",
       "text": [
        "614\n",
        "110303"
       ]
      },
      {
       "output_type": "stream",
       "stream": "stdout",
       "text": [
        "\n",
        "6"
       ]
      },
      {
       "output_type": "stream",
       "stream": "stdout",
       "text": [
        "\n",
        "app=Dolphin Browser(614), keyword=\uac00\uacc4\ubd80(110303), both=Dolphin Browser+\uac00\uacc4\ubd80(6), pmi=-1.947\n"
       ]
      },
      {
       "output_type": "stream",
       "stream": "stdout",
       "text": [
        "614\n",
        "560984"
       ]
      },
      {
       "output_type": "stream",
       "stream": "stdout",
       "text": [
        "\n",
        "41"
       ]
      },
      {
       "output_type": "stream",
       "stream": "stdout",
       "text": [
        "\n",
        "app=Dolphin Browser(614), keyword=Money(560984), both=Dolphin Browser+Money(41), pmi=-2.076\n"
       ]
      },
      {
       "output_type": "stream",
       "stream": "stdout",
       "text": [
        "614\n",
        "2657679"
       ]
      },
      {
       "output_type": "stream",
       "stream": "stdout",
       "text": [
        "\n",
        "155"
       ]
      },
      {
       "output_type": "stream",
       "stream": "stdout",
       "text": [
        "\n",
        "app=Dolphin Browser(614), keyword=\uc2a4\ub9c8\ud2b8(2657679), both=Dolphin Browser+\uc2a4\ub9c8\ud2b8(155), pmi=-1.978\n"
       ]
      },
      {
       "output_type": "stream",
       "stream": "stdout",
       "text": [
        "614\n",
        "161422"
       ]
      },
      {
       "output_type": "stream",
       "stream": "stdout",
       "text": [
        "\n",
        "23"
       ]
      },
      {
       "output_type": "stream",
       "stream": "stdout",
       "text": [
        "\n",
        "app=Dolphin Browser(614), keyword=\uacc4\uc0b0\uae30(161422), both=Dolphin Browser+\uacc4\uc0b0\uae30(23), pmi=-2.366\n"
       ]
      },
      {
       "output_type": "stream",
       "stream": "stdout",
       "text": [
        "614\n",
        "3307082"
       ]
      },
      {
       "output_type": "stream",
       "stream": "stdout",
       "text": [
        "\n",
        "15"
       ]
      },
      {
       "output_type": "stream",
       "stream": "stdout",
       "text": [
        "\n",
        "app=Dolphin Browser(614), keyword=\uc740\ud589(3307082), both=Dolphin Browser+\uc740\ud589(15), pmi=-0.868\n"
       ]
      },
      {
       "output_type": "stream",
       "stream": "stdout",
       "text": [
        "614\n",
        "776539"
       ]
      },
      {
       "output_type": "stream",
       "stream": "stdout",
       "text": [
        "\n",
        "20"
       ]
      },
      {
       "output_type": "stream",
       "stream": "stdout",
       "text": [
        "\n",
        "app=Dolphin Browser(614), keyword=\uac80\uc0c9\uc5b4(776539), both=Dolphin Browser+\uac80\uc0c9\uc5b4(20), pmi=-1.623\n"
       ]
      },
      {
       "output_type": "stream",
       "stream": "stdout",
       "text": [
        "614\n",
        "1362091"
       ]
      },
      {
       "output_type": "stream",
       "stream": "stdout",
       "text": [
        "\n",
        "49"
       ]
      },
      {
       "output_type": "stream",
       "stream": "stdout",
       "text": [
        "\n",
        "app=Dolphin Browser(614), keyword=\uc2e4\uc2dc\uac04(1362091), both=Dolphin Browser+\uc2e4\uc2dc\uac04(49), pmi=-1.768\n"
       ]
      },
      {
       "output_type": "stream",
       "stream": "stdout",
       "text": [
        "614\n",
        "3116411"
       ]
      },
      {
       "output_type": "stream",
       "stream": "stdout",
       "text": [
        "\n",
        "15"
       ]
      },
      {
       "output_type": "stream",
       "stream": "stdout",
       "text": [
        "\n",
        "app=Dolphin Browser(614), keyword=\uc2e0\ubb38(3116411), both=Dolphin Browser+\uc2e0\ubb38(15), pmi=-0.894\n"
       ]
      },
      {
       "output_type": "stream",
       "stream": "stdout",
       "text": [
        "614\n",
        "1226512"
       ]
      },
      {
       "output_type": "stream",
       "stream": "stdout",
       "text": [
        "\n",
        "1"
       ]
      },
      {
       "output_type": "stream",
       "stream": "stdout",
       "text": [
        "\n",
        "app=Dolphin Browser(614), keyword=\ud074\ub798\uc2dd(1226512), both=Dolphin Browser+\ud074\ub798\uc2dd(1), pmi=-0.123\n"
       ]
      },
      {
       "output_type": "stream",
       "stream": "stdout",
       "text": [
        "614\n",
        "1406533"
       ]
      },
      {
       "output_type": "stream",
       "stream": "stdout",
       "text": [
        "\n",
        "3"
       ]
      },
      {
       "output_type": "stream",
       "stream": "stdout",
       "text": [
        "\n",
        "app=Dolphin Browser(614), keyword=\uc560\ub2c8(1406533), both=Dolphin Browser+\uc560\ub2c8(3), pmi=-0.541\n"
       ]
      },
      {
       "output_type": "stream",
       "stream": "stdout",
       "text": [
        "614\n",
        "1186134"
       ]
      },
      {
       "output_type": "stream",
       "stream": "stdout",
       "text": [
        "\n",
        "5"
       ]
      },
      {
       "output_type": "stream",
       "stream": "stdout",
       "text": [
        "\n",
        "app=Dolphin Browser(614), keyword=\ub09a\uc2dc(1186134), both=Dolphin Browser+\ub09a\uc2dc(5), pmi=-0.837\n"
       ]
      },
      {
       "output_type": "stream",
       "stream": "stdout",
       "text": [
        "614\n",
        "87415"
       ]
      },
      {
       "output_type": "stream",
       "stream": "stdout",
       "text": [
        "\n",
        "21"
       ]
      },
      {
       "output_type": "stream",
       "stream": "stdout",
       "text": [
        "\n",
        "app=Dolphin Browser(614), keyword=\ub7f0\ucc98(87415), both=Dolphin Browser+\ub7f0\ucc98(21), pmi=-2.592\n"
       ]
      },
      {
       "output_type": "stream",
       "stream": "stdout",
       "text": [
        "614\n",
        "67614"
       ]
      },
      {
       "output_type": "stream",
       "stream": "stdout",
       "text": [
        "\n",
        "31"
       ]
      },
      {
       "output_type": "stream",
       "stream": "stdout",
       "text": [
        "\n",
        "app=Dolphin Browser(614), keyword=\uc8fc\uc18c\ub85d(67614), both=Dolphin Browser+\uc8fc\uc18c\ub85d(31), pmi=-2.873\n"
       ]
      },
      {
       "output_type": "stream",
       "stream": "stdout",
       "text": [
        "614\n",
        "4767060"
       ]
      },
      {
       "output_type": "stream",
       "stream": "stdout",
       "text": [
        "\n",
        "234"
       ]
      },
      {
       "output_type": "stream",
       "stream": "stdout",
       "text": [
        "\n",
        "app=Dolphin Browser(614), keyword=\ud3f0(4767060), both=Dolphin Browser+\ud3f0(234), pmi=-1.903\n"
       ]
      },
      {
       "output_type": "stream",
       "stream": "stdout",
       "text": [
        "614\n",
        "819850"
       ]
      },
      {
       "output_type": "stream",
       "stream": "stdout",
       "text": [
        "\n",
        "29"
       ]
      },
      {
       "output_type": "stream",
       "stream": "stdout",
       "text": [
        "\n",
        "app=Dolphin Browser(614), keyword=\ubc14\uc774\ub7ec\uc2a4(819850), both=Dolphin Browser+\ubc14\uc774\ub7ec\uc2a4(29), pmi=-1.760\n"
       ]
      },
      {
       "output_type": "stream",
       "stream": "stdout",
       "text": [
        "614\n",
        "993406"
       ]
      },
      {
       "output_type": "stream",
       "stream": "stdout",
       "text": [
        "\n",
        "25"
       ]
      },
      {
       "output_type": "stream",
       "stream": "stdout",
       "text": [
        "\n",
        "app=Dolphin Browser(614), keyword=\ubcf4\uc548(993406), both=Dolphin Browser+\ubcf4\uc548(25), pmi=-1.613\n"
       ]
      },
      {
       "output_type": "stream",
       "stream": "stdout",
       "text": [
        "614\n",
        "1276220"
       ]
      },
      {
       "output_type": "stream",
       "stream": "stdout",
       "text": [
        "\n",
        "5"
       ]
      },
      {
       "output_type": "stream",
       "stream": "stdout",
       "text": [
        "\n",
        "app=Dolphin Browser(614), keyword=\uc131\uacbd(1276220), both=Dolphin Browser+\uc131\uacbd(5), pmi=-0.805\n"
       ]
      },
      {
       "output_type": "stream",
       "stream": "stdout",
       "text": [
        "614\n",
        "216006"
       ]
      },
      {
       "output_type": "stream",
       "stream": "stdout",
       "text": [
        "\n",
        "except 0"
       ]
      },
      {
       "output_type": "stream",
       "stream": "stdout",
       "text": [
        "\n",
        "app=Dolphin Browser(614), keyword=\ucc2c\uc1a1(216006), both=Dolphin Browser+\ucc2c\uc1a1(0), pmi=8.123\n"
       ]
      },
      {
       "output_type": "stream",
       "stream": "stdout",
       "text": [
        "614\n",
        "84287"
       ]
      },
      {
       "output_type": "stream",
       "stream": "stdout",
       "text": [
        "\n",
        "except 0"
       ]
      },
      {
       "output_type": "stream",
       "stream": "stdout",
       "text": [
        "\n",
        "app=Dolphin Browser(614), keyword=\ubc14\uc774\ube14(84287), both=Dolphin Browser+\ubc14\uc774\ube14(0), pmi=7.714\n"
       ]
      },
      {
       "output_type": "stream",
       "stream": "stdout",
       "text": [
        "614\n",
        "258582"
       ]
      },
      {
       "output_type": "stream",
       "stream": "stdout",
       "text": [
        "\n",
        "25"
       ]
      },
      {
       "output_type": "stream",
       "stream": "stdout",
       "text": [
        "\n",
        "app=Dolphin Browser(614), keyword=\ubc31\uc2e0(258582), both=Dolphin Browser+\ubc31\uc2e0(25), pmi=-2.197\n"
       ]
      },
      {
       "output_type": "stream",
       "stream": "stdout",
       "text": [
        "614\n",
        "2226478"
       ]
      },
      {
       "output_type": "stream",
       "stream": "stdout",
       "text": [
        "\n",
        "185"
       ]
      },
      {
       "output_type": "stream",
       "stream": "stdout",
       "text": [
        "\n",
        "app=Dolphin Browser(614), keyword=\uc6f9(2226478), both=Dolphin Browser+\uc6f9(185), pmi=-2.131\n"
       ]
      },
      {
       "output_type": "stream",
       "stream": "stdout",
       "text": [
        "614\n",
        "1287811"
       ]
      },
      {
       "output_type": "stream",
       "stream": "stdout",
       "text": [
        "\n",
        "12"
       ]
      },
      {
       "output_type": "stream",
       "stream": "stdout",
       "text": [
        "\n",
        "app=Dolphin Browser(614), keyword=\uc2a4\ud2f0\ucee4(1287811), both=Dolphin Browser+\uc2a4\ud2f0\ucee4(12), pmi=-1.181\n"
       ]
      },
      {
       "output_type": "stream",
       "stream": "stdout",
       "text": [
        "614\n",
        "364849"
       ]
      },
      {
       "output_type": "stream",
       "stream": "stdout",
       "text": [
        "\n",
        "1"
       ]
      },
      {
       "output_type": "stream",
       "stream": "stdout",
       "text": [
        "\n",
        "app=Dolphin Browser(614), keyword=\uc0ac\uc8fc(364849), both=Dolphin Browser+\uc0ac\uc8fc(1), pmi=-0.650\n"
       ]
      },
      {
       "output_type": "stream",
       "stream": "stdout",
       "text": [
        "614\n",
        "229882"
       ]
      },
      {
       "output_type": "stream",
       "stream": "stdout",
       "text": [
        "\n",
        "4"
       ]
      },
      {
       "output_type": "stream",
       "stream": "stdout",
       "text": [
        "\n",
        "app=Dolphin Browser(614), keyword=\uc6b4\uc138(229882), both=Dolphin Browser+\uc6b4\uc138(4), pmi=-1.452\n"
       ]
      },
      {
       "output_type": "stream",
       "stream": "stdout",
       "text": [
        "614\n",
        "680923"
       ]
      },
      {
       "output_type": "stream",
       "stream": "stdout",
       "text": [
        "\n",
        "3"
       ]
      },
      {
       "output_type": "stream",
       "stream": "stdout",
       "text": [
        "\n",
        "app=Dolphin Browser(614), keyword=\ucf54\ubbf9(680923), both=Dolphin Browser+\ucf54\ubbf9(3), pmi=-0.856\n"
       ]
      },
      {
       "output_type": "stream",
       "stream": "stdout",
       "text": [
        "614\n",
        "1210749"
       ]
      },
      {
       "output_type": "stream",
       "stream": "stdout",
       "text": [
        "\n",
        "59"
       ]
      },
      {
       "output_type": "stream",
       "stream": "stdout",
       "text": [
        "\n",
        "app=Dolphin Browser(614), keyword=3D(1210749), both=Dolphin Browser+3D(59), pmi=-1.900\n"
       ]
      },
      {
       "output_type": "stream",
       "stream": "stdout",
       "text": [
        "614\n",
        "207645"
       ]
      },
      {
       "output_type": "stream",
       "stream": "stdout",
       "text": [
        "\n",
        "6"
       ]
      },
      {
       "output_type": "stream",
       "stream": "stdout",
       "text": [
        "\n",
        "app=Dolphin Browser(614), keyword=\ubcc4\uc790\ub9ac(207645), both=Dolphin Browser+\ubcc4\uc790\ub9ac(6), pmi=-1.673\n"
       ]
      },
      {
       "output_type": "stream",
       "stream": "stdout",
       "text": [
        "614\n",
        "212222"
       ]
      },
      {
       "output_type": "stream",
       "stream": "stdout",
       "text": [
        "\n",
        "56"
       ]
      },
      {
       "output_type": "stream",
       "stream": "stdout",
       "text": [
        "\n",
        "app=Dolphin Browser(614), keyword=tool(212222), both=Dolphin Browser+tool(56), pmi=-2.633\n"
       ]
      },
      {
       "output_type": "stream",
       "stream": "stdout",
       "text": [
        "614\n",
        "340736"
       ]
      },
      {
       "output_type": "stream",
       "stream": "stdout",
       "text": [
        "\n",
        "14"
       ]
      },
      {
       "output_type": "stream",
       "stream": "stdout",
       "text": [
        "\n",
        "app=Dolphin Browser(614), keyword=\uc6f9\ud230(340736), both=Dolphin Browser+\uc6f9\ud230(14), pmi=-1.826\n"
       ]
      },
      {
       "output_type": "stream",
       "stream": "stdout",
       "text": [
        "614\n",
        "969988"
       ]
      },
      {
       "output_type": "stream",
       "stream": "stdout",
       "text": [
        "\n",
        "59"
       ]
      },
      {
       "output_type": "stream",
       "stream": "stdout",
       "text": [
        "\n",
        "app=Dolphin Browser(614), keyword=\ud50c\ub808\uc774\uc5b4(969988), both=Dolphin Browser+\ud50c\ub808\uc774\uc5b4(59), pmi=-1.996\n"
       ]
      },
      {
       "output_type": "stream",
       "stream": "stdout",
       "text": [
        "614\n",
        "5034861"
       ]
      },
      {
       "output_type": "stream",
       "stream": "stdout",
       "text": [
        "\n",
        "55"
       ]
      },
      {
       "output_type": "stream",
       "stream": "stdout",
       "text": [
        "\n",
        "app=Dolphin Browser(614), keyword=\uce74\uba54\ub77c(5034861), both=Dolphin Browser+\uce74\uba54\ub77c(55), pmi=-1.250\n"
       ]
      },
      {
       "output_type": "stream",
       "stream": "stdout",
       "text": [
        "614\n",
        "223508"
       ]
      },
      {
       "output_type": "stream",
       "stream": "stdout",
       "text": [
        "\n",
        "29"
       ]
      },
      {
       "output_type": "stream",
       "stream": "stdout",
       "text": [
        "\n",
        "app=Dolphin Browser(614), keyword=\ubca8\uc18c\ub9ac(223508), both=Dolphin Browser+\ubca8\uc18c\ub9ac(29), pmi=-2.325\n"
       ]
      },
      {
       "output_type": "stream",
       "stream": "stdout",
       "text": [
        "614\n",
        "1855019"
       ]
      },
      {
       "output_type": "stream",
       "stream": "stdout",
       "text": [
        "\n",
        "59"
       ]
      },
      {
       "output_type": "stream",
       "stream": "stdout",
       "text": [
        "\n",
        "app=Dolphin Browser(614), keyword=\ud55c\uae00(1855019), both=Dolphin Browser+\ud55c\uae00(59), pmi=-1.714\n"
       ]
      },
      {
       "output_type": "stream",
       "stream": "stdout",
       "text": [
        "614\n",
        "451849"
       ]
      },
      {
       "output_type": "stream",
       "stream": "stdout",
       "text": [
        "\n",
        "8"
       ]
      },
      {
       "output_type": "stream",
       "stream": "stdout",
       "text": [
        "\n",
        "app=Dolphin Browser(614), keyword=\uc624\ud53c\uc2a4(451849), both=Dolphin Browser+\uc624\ud53c\uc2a4(8), pmi=-1.460\n"
       ]
      },
      {
       "output_type": "stream",
       "stream": "stdout",
       "text": [
        "614\n",
        "479043"
       ]
      },
      {
       "output_type": "stream",
       "stream": "stdout",
       "text": [
        "\n",
        "46"
       ]
      },
      {
       "output_type": "stream",
       "stream": "stdout",
       "text": [
        "\n",
        "app=Dolphin Browser(614), keyword=office(479043), both=Dolphin Browser+office(46), pmi=-2.194\n"
       ]
      },
      {
       "output_type": "stream",
       "stream": "stdout",
       "text": [
        "614\n",
        "1275079"
       ]
      },
      {
       "output_type": "stream",
       "stream": "stdout",
       "text": [
        "\n",
        "8"
       ]
      },
      {
       "output_type": "stream",
       "stream": "stdout",
       "text": [
        "\n",
        "app=Dolphin Browser(614), keyword=\uc54c\ubc14(1275079), both=Dolphin Browser+\uc54c\ubc14(8), pmi=-1.009\n"
       ]
      },
      {
       "output_type": "stream",
       "stream": "stdout",
       "text": [
        "614\n",
        "1281902"
       ]
      },
      {
       "output_type": "stream",
       "stream": "stdout",
       "text": [
        "\n",
        "64"
       ]
      },
      {
       "output_type": "stream",
       "stream": "stdout",
       "text": [
        "\n",
        "app=Dolphin Browser(614), keyword=photo(1281902), both=Dolphin Browser+photo(64), pmi=-1.910\n"
       ]
      },
      {
       "output_type": "stream",
       "stream": "stdout",
       "text": [
        "614\n",
        "883704"
       ]
      },
      {
       "output_type": "stream",
       "stream": "stdout",
       "text": [
        "\n",
        "26"
       ]
      },
      {
       "output_type": "stream",
       "stream": "stdout",
       "text": [
        "\n",
        "app=Dolphin Browser(614), keyword=\ub4dc\ub77c\uc774\ube0c(883704), both=Dolphin Browser+\ub4dc\ub77c\uc774\ube0c(26), pmi=-1.680\n"
       ]
      },
      {
       "output_type": "stream",
       "stream": "stdout",
       "text": [
        "614\n",
        "3698071"
       ]
      },
      {
       "output_type": "stream",
       "stream": "stdout",
       "text": [
        "\n",
        "140"
       ]
      },
      {
       "output_type": "stream",
       "stream": "stdout",
       "text": [
        "\n",
        "app=Dolphin Browser(614), keyword=\ud30c\uc77c(3698071), both=Dolphin Browser+\ud30c\uc77c(140), pmi=-1.790\n"
       ]
      },
      {
       "output_type": "stream",
       "stream": "stdout",
       "text": [
        "614\n",
        "1045477"
       ]
      },
      {
       "output_type": "stream",
       "stream": "stdout",
       "text": [
        "\n",
        "22"
       ]
      },
      {
       "output_type": "stream",
       "stream": "stdout",
       "text": [
        "\n",
        "app=Dolphin Browser(614), keyword=\uac24\ub7ec\ub9ac(1045477), both=Dolphin Browser+\uac24\ub7ec\ub9ac(22), pmi=-1.535\n"
       ]
      },
      {
       "output_type": "stream",
       "stream": "stdout",
       "text": [
        "614\n",
        "2716647"
       ]
      },
      {
       "output_type": "stream",
       "stream": "stdout",
       "text": [
        "\n",
        "17"
       ]
      },
      {
       "output_type": "stream",
       "stream": "stdout",
       "text": [
        "\n",
        "app=Dolphin Browser(614), keyword=\uadf8\ub8f9(2716647), both=Dolphin Browser+\uadf8\ub8f9(17), pmi=-1.008\n"
       ]
      },
      {
       "output_type": "stream",
       "stream": "stdout",
       "text": [
        "614\n",
        "110183"
       ]
      },
      {
       "output_type": "stream",
       "stream": "stdout",
       "text": [
        "\n",
        "32"
       ]
      },
      {
       "output_type": "stream",
       "stream": "stdout",
       "text": [
        "\n",
        "app=Dolphin Browser(614), keyword=\ubc14\ucf54\ub4dc(110183), both=Dolphin Browser+\ubc14\ucf54\ub4dc(32), pmi=-2.675\n"
       ]
      },
      {
       "output_type": "stream",
       "stream": "stdout",
       "text": [
        "614\n",
        "102123"
       ]
      },
      {
       "output_type": "stream",
       "stream": "stdout",
       "text": [
        "\n",
        "20"
       ]
      },
      {
       "output_type": "stream",
       "stream": "stdout",
       "text": [
        "\n",
        "app=Dolphin Browser(614), keyword=\uc2a4\uce90\ub108(102123), both=Dolphin Browser+\uc2a4\uce90\ub108(20), pmi=-2.504\n"
       ]
      },
      {
       "output_type": "stream",
       "stream": "stdout",
       "text": [
        "614\n",
        "216863"
       ]
      },
      {
       "output_type": "stream",
       "stream": "stdout",
       "text": [
        "\n",
        "except 0"
       ]
      },
      {
       "output_type": "stream",
       "stream": "stdout",
       "text": [
        "\n",
        "app=Dolphin Browser(614), keyword=\uc18c\uc15c\ucee4\uba38\uc2a4(216863), both=Dolphin Browser+\uc18c\uc15c\ucee4\uba38\uc2a4(0), pmi=8.124\n"
       ]
      },
      {
       "output_type": "stream",
       "stream": "stdout",
       "text": [
        "614\n",
        "1042602"
       ]
      },
      {
       "output_type": "stream",
       "stream": "stdout",
       "text": [
        "\n",
        "39"
       ]
      },
      {
       "output_type": "stream",
       "stream": "stdout",
       "text": [
        "\n",
        "app=Dolphin Browser(614), keyword=\uc18c\uc15c(1042602), both=Dolphin Browser+\uc18c\uc15c(39), pmi=-1.785\n"
       ]
      },
      {
       "output_type": "stream",
       "stream": "stdout",
       "text": [
        "614\n",
        "except 0"
       ]
      },
      {
       "output_type": "stream",
       "stream": "stdout",
       "text": [
        "\n",
        "4"
       ]
      },
      {
       "output_type": "stream",
       "stream": "stdout",
       "text": [
        "\n",
        "app=Dolphin Browser(614), keyword=\uc131\uc778(0), both=Dolphin Browser+\uc131\uc778(4), pmi=0.000\n"
       ]
      },
      {
       "output_type": "stream",
       "stream": "stdout",
       "text": [
        "614\n",
        "except 0"
       ]
      },
      {
       "output_type": "stream",
       "stream": "stdout",
       "text": [
        "\n",
        "8"
       ]
      },
      {
       "output_type": "stream",
       "stream": "stdout",
       "text": [
        "\n",
        "app=Dolphin Browser(614), keyword=sex(0), both=Dolphin Browser+sex(8), pmi=0.000\n"
       ]
      },
      {
       "output_type": "stream",
       "stream": "stdout",
       "text": [
        "614\n",
        "3358595"
       ]
      },
      {
       "output_type": "stream",
       "stream": "stdout",
       "text": [
        "\n",
        "3"
       ]
      },
      {
       "output_type": "stream",
       "stream": "stdout",
       "text": [
        "\n",
        "app=Dolphin Browser(614), keyword=\uc5b4\ub978(3358595), both=Dolphin Browser+\uc5b4\ub978(3), pmi=-0.163\n"
       ]
      },
      {
       "output_type": "stream",
       "stream": "stdout",
       "text": [
        "614\n",
        "except 0"
       ]
      },
      {
       "output_type": "stream",
       "stream": "stdout",
       "text": [
        "\n",
        "except 0"
       ]
      },
      {
       "output_type": "stream",
       "stream": "stdout",
       "text": [
        "\n",
        "app=Dolphin Browser(614), keyword=\uc139\uc2a4(0), both=Dolphin Browser+\uc139\uc2a4(0), pmi=0.000\n"
       ]
      },
      {
       "output_type": "stream",
       "stream": "stdout",
       "text": [
        "\r",
        "app Subway Surfers start\n",
        "417"
       ]
      },
      {
       "output_type": "stream",
       "stream": "stdout",
       "text": [
        "\n",
        "except 0"
       ]
      },
      {
       "output_type": "stream",
       "stream": "stdout",
       "text": [
        "\n",
        "417"
       ]
      },
      {
       "output_type": "stream",
       "stream": "stdout",
       "text": [
        "\n",
        "app=Subway Surfers(417), keyword=(0), both=Subway Surfers+(417), pmi=0.000\n"
       ]
      },
      {
       "output_type": "stream",
       "stream": "stdout",
       "text": [
        "417\n",
        "444207"
       ]
      },
      {
       "output_type": "stream",
       "stream": "stdout",
       "text": [
        "\n",
        "8"
       ]
      },
      {
       "output_type": "stream",
       "stream": "stdout",
       "text": [
        "\n",
        "app=Subway Surfers(417), keyword=\ufeff\ud37c\uc990(444207), both=Subway Surfers+\ufeff\ud37c\uc990(8), pmi=-1.635\n"
       ]
      },
      {
       "output_type": "stream",
       "stream": "stdout",
       "text": [
        "417\n",
        "422516"
       ]
      },
      {
       "output_type": "stream",
       "stream": "stdout",
       "text": [
        "\n",
        "5"
       ]
      },
      {
       "output_type": "stream",
       "stream": "stdout",
       "text": [
        "\n",
        "app=Subway Surfers(417), keyword=\uce90\uc8fc\uc5bc(422516), both=Subway Surfers+\uce90\uc8fc\uc5bc(5), pmi=-1.453\n"
       ]
      },
      {
       "output_type": "stream",
       "stream": "stdout",
       "text": [
        "417\n",
        "115391"
       ]
      },
      {
       "output_type": "stream",
       "stream": "stdout",
       "text": [
        "\n",
        "23"
       ]
      },
      {
       "output_type": "stream",
       "stream": "stdout",
       "text": [
        "\n",
        "app=Subway Surfers(417), keyword=\uc544\ucf00\uc774\ub4dc(115391), both=Subway Surfers+\uc544\ucf00\uc774\ub4dc(23), pmi=-2.679\n"
       ]
      },
      {
       "output_type": "stream",
       "stream": "stdout",
       "text": [
        "417\n",
        "6861758"
       ]
      },
      {
       "output_type": "stream",
       "stream": "stdout",
       "text": [
        "\n",
        "4"
       ]
      },
      {
       "output_type": "stream",
       "stream": "stdout",
       "text": [
        "\n",
        "app=Subway Surfers(417), keyword=\uc5ec\uc131(6861758), both=Subway Surfers+\uc5ec\uc131(4), pmi=-0.145\n"
       ]
      },
      {
       "output_type": "stream",
       "stream": "stdout",
       "text": [
        "417\n",
        "2386998"
       ]
      },
      {
       "output_type": "stream",
       "stream": "stdout",
       "text": [
        "\n",
        "2"
       ]
      },
      {
       "output_type": "stream",
       "stream": "stdout",
       "text": [
        "\n",
        "app=Subway Surfers(417), keyword=\ub0a8\uc131(2386998), both=Subway Surfers+\ub0a8\uc131(2), pmi=-0.303\n"
       ]
      },
      {
       "output_type": "stream",
       "stream": "stdout",
       "text": [
        "417\n",
        "19818239"
       ]
      },
      {
       "output_type": "stream",
       "stream": "stdout",
       "text": [
        "\n",
        "51"
       ]
      },
      {
       "output_type": "stream",
       "stream": "stdout",
       "text": [
        "\n",
        "app=Subway Surfers(417), keyword=\uce5c\uad6c(19818239), both=Subway Surfers+\uce5c\uad6c(51), pmi=-0.790\n"
       ]
      },
      {
       "output_type": "stream",
       "stream": "stdout",
       "text": [
        "417\n",
        "1498623"
       ]
      },
      {
       "output_type": "stream",
       "stream": "stdout",
       "text": [
        "\n",
        "2"
       ]
      },
      {
       "output_type": "stream",
       "stream": "stdout",
       "text": [
        "\n",
        "app=Subway Surfers(417), keyword=\uc5f0\uc560(1498623), both=Subway Surfers+\uc5f0\uc560(2), pmi=-0.505\n"
       ]
      },
      {
       "output_type": "stream",
       "stream": "stdout",
       "text": [
        "417\n",
        "496304"
       ]
      },
      {
       "output_type": "stream",
       "stream": "stdout",
       "text": [
        "\n",
        "2"
       ]
      },
      {
       "output_type": "stream",
       "stream": "stdout",
       "text": [
        "\n",
        "app=Subway Surfers(417), keyword=\uc5f0\uc608(496304), both=Subway Surfers+\uc5f0\uc608(2), pmi=-0.985\n"
       ]
      },
      {
       "output_type": "stream",
       "stream": "stdout",
       "text": [
        "417\n",
        "13162004"
       ]
      },
      {
       "output_type": "stream",
       "stream": "stdout",
       "text": [
        "\n",
        "7"
       ]
      },
      {
       "output_type": "stream",
       "stream": "stdout",
       "text": [
        "\n",
        "app=Subway Surfers(417), keyword=\uc5bc\uad74(13162004), both=Subway Surfers+\uc5bc\uad74(7), pmi=-0.106\n"
       ]
      },
      {
       "output_type": "stream",
       "stream": "stdout",
       "text": [
        "417\n",
        "3843455"
       ]
      },
      {
       "output_type": "stream",
       "stream": "stdout",
       "text": [
        "\n",
        "21"
       ]
      },
      {
       "output_type": "stream",
       "stream": "stdout",
       "text": [
        "\n",
        "app=Subway Surfers(417), keyword=\uc18d\ub3c4(3843455), both=Subway Surfers+\uc18d\ub3c4(21), pmi=-1.117\n"
       ]
      },
      {
       "output_type": "stream",
       "stream": "stdout",
       "text": [
        "417\n",
        "11917471"
       ]
      },
      {
       "output_type": "stream",
       "stream": "stdout",
       "text": [
        "\n",
        "73"
       ]
      },
      {
       "output_type": "stream",
       "stream": "stdout",
       "text": [
        "\n",
        "app=Subway Surfers(417), keyword=\ub3c8(11917471), both=Subway Surfers+\ub3c8(73), pmi=-1.167\n"
       ]
      },
      {
       "output_type": "stream",
       "stream": "stdout",
       "text": [
        "417\n",
        "490513"
       ]
      },
      {
       "output_type": "stream",
       "stream": "stdout",
       "text": [
        "\n",
        "6"
       ]
      },
      {
       "output_type": "stream",
       "stream": "stdout",
       "text": [
        "\n",
        "app=Subway Surfers(417), keyword=\ub79c\ub364(490513), both=Subway Surfers+\ub79c\ub364(6), pmi=-1.467\n"
       ]
      },
      {
       "output_type": "stream",
       "stream": "stdout",
       "text": [
        "417\n",
        "108965"
       ]
      },
      {
       "output_type": "stream",
       "stream": "stdout",
       "text": [
        "\n",
        "5"
       ]
      },
      {
       "output_type": "stream",
       "stream": "stdout",
       "text": [
        "\n",
        "app=Subway Surfers(417), keyword=random(108965), both=Subway Surfers+random(5), pmi=-2.042\n"
       ]
      },
      {
       "output_type": "stream",
       "stream": "stdout",
       "text": [
        "417\n",
        "8507047"
       ]
      },
      {
       "output_type": "stream",
       "stream": "stdout",
       "text": [
        "\n",
        "4"
       ]
      },
      {
       "output_type": "stream",
       "stream": "stdout",
       "text": [
        "\n",
        "app=Subway Surfers(417), keyword=\uc74c\uc2dd(8507047), both=Subway Surfers+\uc74c\uc2dd(4), pmi=-0.052\n"
       ]
      },
      {
       "output_type": "stream",
       "stream": "stdout",
       "text": [
        "417\n",
        "17687503"
       ]
      },
      {
       "output_type": "stream",
       "stream": "stdout",
       "text": [
        "\n",
        "39"
       ]
      },
      {
       "output_type": "stream",
       "stream": "stdout",
       "text": [
        "\n",
        "app=Subway Surfers(417), keyword=\ubc29\ubc95(17687503), both=Subway Surfers+\ubc29\ubc95(39), pmi=-0.723\n"
       ]
      },
      {
       "output_type": "stream",
       "stream": "stdout",
       "text": [
        "417\n",
        "588224"
       ]
      },
      {
       "output_type": "stream",
       "stream": "stdout",
       "text": [
        "\n",
        "44"
       ]
      },
      {
       "output_type": "stream",
       "stream": "stdout",
       "text": [
        "\n",
        "app=Subway Surfers(417), keyword=\uc548\ub4dc\ub85c\uc774\ub4dc(588224), both=Subway Surfers+\uc548\ub4dc\ub85c\uc774\ub4dc(44), pmi=-2.254\n"
       ]
      },
      {
       "output_type": "stream",
       "stream": "stdout",
       "text": [
        "417\n",
        "1473575"
       ]
      },
      {
       "output_type": "stream",
       "stream": "stdout",
       "text": [
        "\n",
        "25"
       ]
      },
      {
       "output_type": "stream",
       "stream": "stdout",
       "text": [
        "\n",
        "app=Subway Surfers(417), keyword=\uc544\uc774\ud3f0(1473575), both=Subway Surfers+\uc544\uc774\ud3f0(25), pmi=-1.609\n"
       ]
      },
      {
       "output_type": "stream",
       "stream": "stdout",
       "text": [
        "417\n",
        "223016"
       ]
      },
      {
       "output_type": "stream",
       "stream": "stdout",
       "text": [
        "\n",
        "28"
       ]
      },
      {
       "output_type": "stream",
       "stream": "stdout",
       "text": [
        "\n",
        "app=Subway Surfers(417), keyword=android(223016), both=Subway Surfers+android(28), pmi=-2.479\n"
       ]
      },
      {
       "output_type": "stream",
       "stream": "stdout",
       "text": [
        "417\n",
        "448864"
       ]
      },
      {
       "output_type": "stream",
       "stream": "stdout",
       "text": [
        "\n",
        "32"
       ]
      },
      {
       "output_type": "stream",
       "stream": "stdout",
       "text": [
        "\n",
        "app=Subway Surfers(417), keyword=iphone(448864), both=Subway Surfers+iphone(32), pmi=-2.233\n"
       ]
      },
      {
       "output_type": "stream",
       "stream": "stdout",
       "text": [
        "417\n",
        "348221"
       ]
      },
      {
       "output_type": "stream",
       "stream": "stdout",
       "text": [
        "\n",
        "1"
       ]
      },
      {
       "output_type": "stream",
       "stream": "stdout",
       "text": [
        "\n",
        "app=Subway Surfers(417), keyword=\uc624\ub77d(348221), both=Subway Surfers+\uc624\ub77d(1), pmi=-0.838\n"
       ]
      },
      {
       "output_type": "stream",
       "stream": "stdout",
       "text": [
        "417\n",
        "1396584"
       ]
      },
      {
       "output_type": "stream",
       "stream": "stdout",
       "text": [
        "\n",
        "1"
       ]
      },
      {
       "output_type": "stream",
       "stream": "stdout",
       "text": [
        "\n",
        "app=Subway Surfers(417), keyword=\uc2ec\ub9ac(1396584), both=Subway Surfers+\uc2ec\ub9ac(1), pmi=-0.235\n"
       ]
      },
      {
       "output_type": "stream",
       "stream": "stdout",
       "text": [
        "417\n",
        "1568740"
       ]
      },
      {
       "output_type": "stream",
       "stream": "stdout",
       "text": [
        "\n",
        "1"
       ]
      },
      {
       "output_type": "stream",
       "stream": "stdout",
       "text": [
        "\n",
        "app=Subway Surfers(417), keyword=\ubd80\uc790(1568740), both=Subway Surfers+\ubd80\uc790(1), pmi=-0.184\n"
       ]
      },
      {
       "output_type": "stream",
       "stream": "stdout",
       "text": [
        "417\n",
        "5402183"
       ]
      },
      {
       "output_type": "stream",
       "stream": "stdout",
       "text": [
        "\n",
        "18"
       ]
      },
      {
       "output_type": "stream",
       "stream": "stdout",
       "text": [
        "\n",
        "app=Subway Surfers(417), keyword=\uc601\uc5b4(5402183), both=Subway Surfers+\uc601\uc5b4(18), pmi=-0.903\n"
       ]
      }
     ],
     "prompt_number": "*"
    },
    {
     "cell_type": "markdown",
     "metadata": {},
     "source": [
      "example"
     ]
    },
    {
     "cell_type": "code",
     "collapsed": false,
     "input": [
      "DatabaseManager.get_query_count(\"\uac00\uacc4\ubd80\")"
     ],
     "language": "python",
     "metadata": {},
     "outputs": [
      {
       "metadata": {},
       "output_type": "pyout",
       "prompt_number": 5,
       "text": [
        "110303"
       ]
      }
     ],
     "prompt_number": 5
    },
    {
     "cell_type": "code",
     "collapsed": false,
     "input": [
      "\n",
      "DatabaseManager.get_app_keyword_pmi(\"Subway Surfers\", \"\uc2ec\ub9ac\")"
     ],
     "language": "python",
     "metadata": {},
     "outputs": [
      {
       "metadata": {},
       "output_type": "pyout",
       "prompt_number": 6,
       "text": [
        "-0.23479688323278"
       ]
      }
     ],
     "prompt_number": 6
    }
   ],
   "metadata": {}
  }
 ]
}