{
 "metadata": {
  "name": ""
 },
 "nbformat": 3,
 "nbformat_minor": 0,
 "worksheets": [
  {
   "cells": [
    {
     "cell_type": "code",
     "collapsed": false,
     "input": [
      "%pylab inline\n",
      "from pandas import DataFrame, Series\n",
      "import pandas as pd\n",
      "import pandas.io.sql as sql\n",
      "import numpy as np\n",
      "import matplotlib.pyplot as plt\n",
      "from IPython.core.display import Image"
     ],
     "language": "python",
     "metadata": {},
     "outputs": [
      {
       "output_type": "stream",
       "stream": "stdout",
       "text": [
        "Populating the interactive namespace from numpy and matplotlib\n"
       ]
      }
     ],
     "prompt_number": 1
    },
    {
     "cell_type": "code",
     "collapsed": false,
     "input": [
      "__author__ = 'kugi'\n",
      "\n",
      "\n",
      "from datetime import datetime\n",
      "from sqlalchemy import *\n",
      "from sqlalchemy.orm import sessionmaker\n",
      "from sqlalchemy.ext.declarative import declarative_base\n",
      "\n",
      "\n",
      "class DatabaseManager():\n",
      "\n",
      "    __BaseObj__ = declarative_base()\n",
      "    __db__ = create_engine('postgresql://soma:maestro@)!#@soma1.buzzni.com/application')\n",
      "    __Session__ = sessionmaker(bind=__db__)\n",
      "    #__s__ = __Session__()\n",
      "\n",
      "    #__db__.echo = False  # Try changing this to True and see what happens\n",
      "    #__metadata__ = MetaData(__db__)\n",
      "\n",
      "\n",
      "    class Cache_query(__BaseObj__):\n",
      "        __tablename__ = 'query_freq'\n",
      "        query = Column('query', String(100), primary_key=True)\n",
      "        num = Column('num', Integer)\n",
      "        update_date = Column('update_date', Date(),default=datetime.now(), onupdate=datetime.now())\n",
      "        def __init__(self,query,num):\n",
      "            self.query=query\n",
      "            self.num=num\n",
      "\n",
      "    class Cache_pmi(__BaseObj__):\n",
      "        __tablename__ = 'app_keyword_pmi'\n",
      "        app_name = Column('app_name', String(100), primary_key=True)\n",
      "        keyword = Column('keyword', String(100), primary_key=True)\n",
      "        pmi = Column('pmi', Float)\n",
      "        update_date = Column('update_date', Date(),default=datetime.now(), onupdate=datetime.now())\n",
      "        def __init__(self,app_name,keyword,pmi):\n",
      "            self.app_name=app_name\n",
      "            self.keyword=keyword\n",
      "            self.pmi=pmi\n",
      "\n",
      "\n",
      "    @staticmethod\n",
      "    def create_table():\n",
      "        '''\n",
      "        recreate a new table.\n",
      "        '''\n",
      "        if DatabaseManager.__db__.dialect.has_table(DatabaseManager.__db__.connect(), \"query_freq\"):\n",
      "            DatabaseManager.__db__.execute(\"drop table query_freq;\")\n",
      "        metadata = DatabaseManager.Cache_query.metadata\n",
      "        metadata.create_all(DatabaseManager.__db__)\n",
      "\n",
      "\n",
      "    @staticmethod\n",
      "    def get_query_count(query):\n",
      "        s = DatabaseManager.__Session__()\n",
      "        result = s.query(DatabaseManager.Cache_query).filter(DatabaseManager.Cache_query.query==query)\n",
      "        #s.flush()\n",
      "        s.close_all()\n",
      "        if result.count()>0:\n",
      "            return result[0].num\n",
      "        return 0\n",
      "\n",
      "\n",
      "    @staticmethod\n",
      "    def set_query_count(query,count):\n",
      "        s = DatabaseManager.__Session__()\n",
      "        result = s.query(DatabaseManager.Cache_query).filter(DatabaseManager.Cache_query.query==query)\n",
      "\n",
      "        if result.count()>0:\n",
      "            result[0].num = count\n",
      "        else:\n",
      "            s.add(DatabaseManager.Cache_query(query,count))\n",
      "        s.commit()\n",
      "        s.close_all()\n",
      "\n",
      "    @staticmethod\n",
      "    def get_app_keyword_pmi(app_name, keyword):\n",
      "        s = DatabaseManager.__Session__()\n",
      "        result = s.query(DatabaseManager.Cache_pmi).\\\n",
      "            filter(DatabaseManager.Cache_pmi.app_name==app_name).\\\n",
      "            filter(DatabaseManager.Cache_pmi.keyword==keyword)\n",
      "        if result.count()>0:\n",
      "            return result[0].pmi\n",
      "        return 0\n",
      "\n",
      "    @staticmethod\n",
      "    def set_app_keyword_pmi(app_name, keyword, pmi):\n",
      "        s = DatabaseManager.__Session__()\n",
      "        result = s.query(DatabaseManager.Cache_pmi).\\\n",
      "            filter(DatabaseManager.Cache_pmi.app_name==app_name).\\\n",
      "            filter(DatabaseManager.Cache_pmi.keyword==keyword)\n",
      "        if result.count()>0:\n",
      "            result[0].pmi = pmi\n",
      "        else:\n",
      "            s.add(DatabaseManager.Cache_pmi(app_name, keyword, pmi))\n",
      "        s.commit()\n"
     ],
     "language": "python",
     "metadata": {},
     "outputs": [],
     "prompt_number": 2
    },
    {
     "cell_type": "code",
     "collapsed": false,
     "input": [
      "#assign to Pack\n",
      "\n",
      "def createPMIDataFrame(appNameList, keywordList):\n",
      "    pmi_frame = pd.DataFrame(data=0.0, index=appNameList, columns=keywordList)\n",
      "    return pmi_frame\n",
      "\n",
      "def setPMI(dstFrame, appName, keyword, pmi):\n",
      "    dstFrame.loc[appName, keyword] = pmi\n",
      "    \n",
      "def getPMIFromDF(dstFrame, appName, keyword):\n",
      "    return dstFrame.loc[appName, keyword]\n",
      "\n",
      "def calcPMI(AppScore, KeywordScore, BothScore, nTotalDocs):\n",
      "    val = (AppScore*KeywordScore/(BothScore*nTotalDocs+1))\n",
      "    if val <= 0:\n",
      "        return 0.0\n",
      "    return math.log10(val)\n"
     ],
     "language": "python",
     "metadata": {},
     "outputs": [],
     "prompt_number": 3
    },
    {
     "cell_type": "code",
     "collapsed": false,
     "input": [
      "import pandas as pd\n",
      "import pickle\n",
      "\n",
      "app2 =  pd.load('data/app_info2.df')\n",
      "app2_name = app2.loc[:,['name']]"
     ],
     "language": "python",
     "metadata": {},
     "outputs": [
      {
       "output_type": "stream",
       "stream": "stderr",
       "text": [
        "/home/kugi/py-env2/swm2/local/lib/python2.7/site-packages/pandas/core/common.py:2106: FutureWarning: load is deprecated, use read_pickle\n",
        "  warnings.warn(\"load is deprecated, use read_pickle\", FutureWarning)\n"
       ]
      }
     ],
     "prompt_number": 4
    },
    {
     "cell_type": "code",
     "collapsed": false,
     "input": [
      "res = app2.ix[app2['rate_num_all']>=1000000]\n",
      "res2 = res.ix[res['score']>90]\n"
     ],
     "language": "python",
     "metadata": {},
     "outputs": [],
     "prompt_number": 5
    },
    {
     "cell_type": "code",
     "collapsed": false,
     "input": [
      "res2.shape"
     ],
     "language": "python",
     "metadata": {},
     "outputs": [
      {
       "metadata": {},
       "output_type": "pyout",
       "prompt_number": 7,
       "text": [
        "(4, 19)"
       ]
      }
     ],
     "prompt_number": 7
    },
    {
     "cell_type": "code",
     "collapsed": false,
     "input": [
      "res3 = res2['name']\n",
      "res3"
     ],
     "language": "python",
     "metadata": {},
     "outputs": [
      {
       "metadata": {},
       "output_type": "pyout",
       "prompt_number": 6,
       "text": [
        "56425     \ub4dc\ub798\uace4 \ud50c\ub77c\uc774\ud2b8 for Kakao\n",
        "94787              Instagram\n",
        "262203       Dolphin Browser\n",
        "274759        Subway Surfers\n",
        "Name: name, dtype: object"
       ]
      }
     ],
     "prompt_number": 6
    },
    {
     "cell_type": "code",
     "collapsed": false,
     "input": [
      "def load(fname):\n",
      "    ''' load the file using std open'''\n",
      "    f = open(fname,'r')\n",
      "\n",
      "    data = []\n",
      "    for line in f.readlines():\n",
      "        data.append(line.replace('\\n','').split(','))\n",
      "        \n",
      "    f.close()\n",
      "\n",
      "    return data"
     ],
     "language": "python",
     "metadata": {},
     "outputs": [],
     "prompt_number": 7
    },
    {
     "cell_type": "code",
     "collapsed": false,
     "input": [
      "key = load('data/Keyword.txt')\n",
      "keywords = [\"\"]\n",
      "keywords2 = [\"\"]\n",
      "for c in key[0]:\n",
      "    keywords.append('+\"'+c.replace(\" \", \"\")+'\"')\n",
      "    keywords2.append(c.replace(\" \", \"\"))\n",
      "\n",
      "print ' '.join(keywords2)"
     ],
     "language": "python",
     "metadata": {},
     "outputs": [
      {
       "output_type": "stream",
       "stream": "stdout",
       "text": [
        " \ufeff\ud37c\uc990 \uce90\uc8fc\uc5bc \uc544\ucf00\uc774\ub4dc \uc5ec\uc131 \ub0a8\uc131 \uce5c\uad6c \uc5f0\uc560 \uc5f0\uc608 \uc5bc\uad74 \uc18d\ub3c4 \ub3c8 \ub79c\ub364 random \uc74c\uc2dd \ubc29\ubc95 \uc548\ub4dc\ub85c\uc774\ub4dc \uc544\uc774\ud3f0 android iphone \uc624\ub77d \uc2ec\ub9ac \ubd80\uc790 \uc601\uc5b4 \ud1a0\uc775 \uacf5\ubd80 \uc77c\uc815 \ub2ec\ub825 \uacc4\ud68d \uacf5\ub7b5 \ub808\uc774\uc2f1 RPG \uce74\ub4dc \ub514\ud39c\uc2a4 \ub450\ub1cc \uc2dc\ubbac \ub2ec\ub9ac\uae30 \uc288\ud305 \ucd95\uad6c \uacbd\uc601 \ud0c0\uc774\ucfe4 \ud0c8\ucd9c \ucd94\ub9ac \uc7a5\uae30 \ube44\ud589\uae30 \uc0ac\ucc9c\uc131 \uc2a4\ud3ec\uce20 \ub18d\uad6c \ub09a\uc2dc \uc74c\uc545 \uce74\ud1a1 \uace8\ud504 \ub2f9\uad6c \uc57c\uad6c \ubcfc\ub9c1 \ud14c\uc774\uc2a4 \uc0bc\uad6d\uc9c0 TCG \uc804\uc7c1 \uac74\uac15 \uc6b4\ub3d9 \uad50\uc721 \uad50\ud1b5 \uae08\uc735 \ub0a0\uc528 \ub274\uc2a4 \uc7a1\uc9c0 \ub370\ucf54\ub808\uc774\uc158 \ub3c4\uad6c \ub3c4\uc11c \ucc38\uace0\uc790\ub8cc \ub77c\uc774\ube0c \ubc30\uacbd\ud654\uba74 \ub77c\uc774\ube0c\ub7ec\ub9ac \ub370\ubaa8 \ub77c\uc774\ud504\uc2a4\ud0c0\uc77c \ube14\ub85c\uadf8 \ub9cc\ud654 \ubbf8\ub514\uc5b4 \ub3d9\uc601\uc0c1 \ube44\uc988\ub2c8\uc2a4 \ud3b8\uc9d1 \uc0ac\uc9c4 \uc0dd\uc0b0\uc131 \uc18c\uc15c \ucf58\ud150\uce20 \uc1fc\ud551 \uc704\uc82f \uc790\ub3d9\ucc28 \uacbd\uc8fc \ub2e4\uc774\uc5b4\ud2b8 \ub2ec\ub825 \uc0dd\ub9ac \uce98\ub9b0\ub354 \uc0ac\uc8fc\ud314\uc790 \uad81\ud569 \uccb4\uc911 \uc0ac\uc804 \ucef4\ud4e8\ud130 \ubc31\uacfc\uc0ac\uc804 \uae09\uc2dd \ud559\uad50 \ucd08\ub4f1\ud559\uad50 \uc911\ud559\uad50 \uace0\ub4f1\ud559\uad50 \ub300\ud559\uad50 Korea \ub124\ube44\uac8c\uc774\uc158 \uc9c0\ud558\ucca0 \uc885\uacb0\uc790 \ub0b4\ube44 \uac00\uacc4\ubd80 Money \uc2a4\ub9c8\ud2b8 \uacc4\uc0b0\uae30 \uc740\ud589 \uac80\uc0c9\uc5b4 \uc2e4\uc2dc\uac04 \uc2e0\ubb38 \ud074\ub798\uc2dd \uc560\ub2c8 \ub09a\uc2dc \ub7f0\ucc98 \uc8fc\uc18c\ub85d \ud3f0 \ubc14\uc774\ub7ec\uc2a4 \ubcf4\uc548 \uc131\uacbd \ucc2c\uc1a1 \ubc14\uc774\ube14 \ubc31\uc2e0 \uc6f9 \uc2a4\ud2f0\ucee4 \uc0ac\uc8fc \uc6b4\uc138 \ucf54\ubbf9 3D \ubcc4\uc790\ub9ac tool \uc6f9\ud230 \ud50c\ub808\uc774\uc5b4 \uce74\uba54\ub77c \ubca8\uc18c\ub9ac \ud55c\uae00 \uc624\ud53c\uc2a4 office \uc54c\ubc14 photo \ub4dc\ub77c\uc774\ube0c \ud30c\uc77c \uac24\ub7ec\ub9ac \uadf8\ub8f9 \ubc14\ucf54\ub4dc \uc2a4\uce90\ub108 \uc18c\uc15c\ucee4\uba38\uc2a4 \uc18c\uc15c \uc131\uc778 sex \uc5b4\ub978 \uc139\uc2a4\n"
       ]
      }
     ],
     "prompt_number": 8
    },
    {
     "cell_type": "code",
     "collapsed": false,
     "input": [
      "# \uc2e4\ud589 \uc548\ud574\ub3c4 \ub428. \uc774\ubbf8 \uc788\uc74c\n",
      "cw = CrawlingManager(searchWordsAsSeries=keywords2)\n",
      "cw.start()\n"
     ],
     "language": "python",
     "metadata": {},
     "outputs": [
      {
       "output_type": "stream",
       "stream": "stdout",
       "text": [
        "except 0\n",
        "444193"
       ]
      },
      {
       "output_type": "stream",
       "stream": "stdout",
       "text": [
        "\n",
        "422524"
       ]
      },
      {
       "output_type": "stream",
       "stream": "stdout",
       "text": [
        "\n",
        "115386"
       ]
      },
      {
       "output_type": "stream",
       "stream": "stdout",
       "text": [
        "\n",
        "6861547"
       ]
      },
      {
       "output_type": "stream",
       "stream": "stdout",
       "text": [
        "\n",
        "2386866"
       ]
      },
      {
       "output_type": "stream",
       "stream": "stdout",
       "text": [
        "\n",
        "19817502"
       ]
      },
      {
       "output_type": "stream",
       "stream": "stdout",
       "text": [
        "\n",
        "1498544"
       ]
      },
      {
       "output_type": "stream",
       "stream": "stdout",
       "text": [
        "\n",
        "496245"
       ]
      },
      {
       "output_type": "stream",
       "stream": "stdout",
       "text": [
        "\n",
        "13161025"
       ]
      },
      {
       "output_type": "stream",
       "stream": "stdout",
       "text": [
        "\n",
        "3843381"
       ]
      },
      {
       "output_type": "stream",
       "stream": "stdout",
       "text": [
        "\n",
        "11917095"
       ]
      },
      {
       "output_type": "stream",
       "stream": "stdout",
       "text": [
        "\n",
        "490492"
       ]
      },
      {
       "output_type": "stream",
       "stream": "stdout",
       "text": [
        "\n",
        "108961"
       ]
      },
      {
       "output_type": "stream",
       "stream": "stdout",
       "text": [
        "\n",
        "8506715"
       ]
      },
      {
       "output_type": "stream",
       "stream": "stdout",
       "text": [
        "\n",
        "17687101"
       ]
      },
      {
       "output_type": "stream",
       "stream": "stdout",
       "text": [
        "\n",
        "588205"
       ]
      },
      {
       "output_type": "stream",
       "stream": "stdout",
       "text": [
        "\n",
        "771047"
       ]
      },
      {
       "output_type": "stream",
       "stream": "stdout",
       "text": [
        "\n",
        "223020"
       ]
      },
      {
       "output_type": "stream",
       "stream": "stdout",
       "text": [
        "\n",
        "448943"
       ]
      },
      {
       "output_type": "stream",
       "stream": "stdout",
       "text": [
        "\n",
        "348207"
       ]
      },
      {
       "output_type": "stream",
       "stream": "stdout",
       "text": [
        "\n",
        "1396543"
       ]
      },
      {
       "output_type": "stream",
       "stream": "stdout",
       "text": [
        "\n",
        "1568688"
       ]
      },
      {
       "output_type": "stream",
       "stream": "stdout",
       "text": [
        "\n",
        "5402067"
       ]
      },
      {
       "output_type": "stream",
       "stream": "stdout",
       "text": [
        "\n",
        "483179"
       ]
      },
      {
       "output_type": "stream",
       "stream": "stdout",
       "text": [
        "\n",
        "8530563"
       ]
      },
      {
       "output_type": "stream",
       "stream": "stdout",
       "text": [
        "\n",
        "5445612"
       ]
      },
      {
       "output_type": "stream",
       "stream": "stdout",
       "text": [
        "\n",
        "580890"
       ]
      },
      {
       "output_type": "stream",
       "stream": "stdout",
       "text": [
        "\n",
        "8137625"
       ]
      },
      {
       "output_type": "stream",
       "stream": "stdout",
       "text": [
        "\n",
        "1109526"
       ]
      },
      {
       "output_type": "stream",
       "stream": "stdout",
       "text": [
        "\n",
        "358277"
       ]
      },
      {
       "output_type": "stream",
       "stream": "stdout",
       "text": [
        "\n",
        "209238"
       ]
      },
      {
       "output_type": "stream",
       "stream": "stdout",
       "text": [
        "\n",
        "5037513"
       ]
      },
      {
       "output_type": "stream",
       "stream": "stdout",
       "text": [
        "\n",
        "100534"
       ]
      },
      {
       "output_type": "stream",
       "stream": "stdout",
       "text": [
        "\n",
        "547782"
       ]
      },
      {
       "output_type": "stream",
       "stream": "stdout",
       "text": [
        "\n",
        "23083"
       ]
      },
      {
       "output_type": "stream",
       "stream": "stdout",
       "text": [
        "\n",
        "641997"
       ]
      },
      {
       "output_type": "stream",
       "stream": "stdout",
       "text": [
        "\n",
        "230532"
       ]
      },
      {
       "output_type": "stream",
       "stream": "stdout",
       "text": [
        "\n",
        "1745753"
       ]
      },
      {
       "output_type": "stream",
       "stream": "stdout",
       "text": [
        "\n",
        "1831239"
       ]
      },
      {
       "output_type": "stream",
       "stream": "stdout",
       "text": [
        "\n",
        "32896"
       ]
      },
      {
       "output_type": "stream",
       "stream": "stdout",
       "text": [
        "\n",
        "1170231"
       ]
      },
      {
       "output_type": "stream",
       "stream": "stdout",
       "text": [
        "\n",
        "391492"
       ]
      },
      {
       "output_type": "stream",
       "stream": "stdout",
       "text": [
        "\n",
        "1488601"
       ]
      },
      {
       "output_type": "stream",
       "stream": "stdout",
       "text": [
        "\n",
        "1958761"
       ]
      },
      {
       "output_type": "stream",
       "stream": "stdout",
       "text": [
        "\n",
        "33753"
       ]
      },
      {
       "output_type": "stream",
       "stream": "stdout",
       "text": [
        "\n",
        "2493631"
       ]
      },
      {
       "output_type": "stream",
       "stream": "stdout",
       "text": [
        "\n",
        "493883"
       ]
      },
      {
       "output_type": "stream",
       "stream": "stdout",
       "text": [
        "\n",
        "1186064"
       ]
      },
      {
       "output_type": "stream",
       "stream": "stdout",
       "text": [
        "\n",
        "7513964"
       ]
      },
      {
       "output_type": "stream",
       "stream": "stdout",
       "text": [
        "\n",
        "1021042"
       ]
      },
      {
       "output_type": "stream",
       "stream": "stdout",
       "text": [
        "\n",
        "1043420"
       ]
      },
      {
       "output_type": "stream",
       "stream": "stdout",
       "text": [
        "\n",
        "121686"
       ]
      },
      {
       "output_type": "stream",
       "stream": "stdout",
       "text": [
        "\n",
        "1395593"
       ]
      },
      {
       "output_type": "stream",
       "stream": "stdout",
       "text": [
        "\n",
        "120174"
       ]
      },
      {
       "output_type": "stream",
       "stream": "stdout",
       "text": [
        "\n",
        "1768"
       ]
      },
      {
       "output_type": "stream",
       "stream": "stdout",
       "text": [
        "\n",
        "238803"
       ]
      },
      {
       "output_type": "stream",
       "stream": "stdout",
       "text": [
        "\n",
        "24213"
       ]
      },
      {
       "output_type": "stream",
       "stream": "stdout",
       "text": [
        "\n",
        "3480842"
       ]
      },
      {
       "output_type": "stream",
       "stream": "stdout",
       "text": [
        "\n",
        "9385233"
       ]
      },
      {
       "output_type": "stream",
       "stream": "stdout",
       "text": [
        "\n",
        "6675320"
       ]
      },
      {
       "output_type": "stream",
       "stream": "stdout",
       "text": [
        "\n",
        "7017766"
       ]
      },
      {
       "output_type": "stream",
       "stream": "stdout",
       "text": [
        "\n",
        "3744864"
       ]
      },
      {
       "output_type": "stream",
       "stream": "stdout",
       "text": [
        "\n",
        "1799888"
       ]
      },
      {
       "output_type": "stream",
       "stream": "stdout",
       "text": [
        "\n",
        "8419250"
       ]
      },
      {
       "output_type": "stream",
       "stream": "stdout",
       "text": [
        "\n",
        "5579131"
       ]
      },
      {
       "output_type": "stream",
       "stream": "stdout",
       "text": [
        "\n",
        "2004184"
       ]
      },
      {
       "output_type": "stream",
       "stream": "stdout",
       "text": [
        "\n",
        "123931"
       ]
      },
      {
       "output_type": "stream",
       "stream": "stdout",
       "text": [
        "\n",
        "1807745"
       ]
      },
      {
       "output_type": "stream",
       "stream": "stdout",
       "text": [
        "\n",
        "1204842"
       ]
      },
      {
       "output_type": "stream",
       "stream": "stdout",
       "text": [
        "\n",
        "178664"
       ]
      },
      {
       "output_type": "stream",
       "stream": "stdout",
       "text": [
        "\n",
        "1138290"
       ]
      },
      {
       "output_type": "stream",
       "stream": "stdout",
       "text": [
        "\n",
        "228823"
       ]
      },
      {
       "output_type": "stream",
       "stream": "stdout",
       "text": [
        "\n",
        "135578"
       ]
      },
      {
       "output_type": "stream",
       "stream": "stdout",
       "text": [
        "\n",
        "371605"
       ]
      },
      {
       "output_type": "stream",
       "stream": "stdout",
       "text": [
        "\n",
        "145451"
       ]
      },
      {
       "output_type": "stream",
       "stream": "stdout",
       "text": [
        "\n",
        "16332317"
       ]
      },
      {
       "output_type": "stream",
       "stream": "stdout",
       "text": [
        "\n",
        "2604416"
       ]
      },
      {
       "output_type": "stream",
       "stream": "stdout",
       "text": [
        "\n",
        "1746001"
       ]
      },
      {
       "output_type": "stream",
       "stream": "stdout",
       "text": [
        "\n",
        "5421358"
       ]
      },
      {
       "output_type": "stream",
       "stream": "stdout",
       "text": [
        "\n",
        "except 0"
       ]
      },
      {
       "output_type": "stream",
       "stream": "stdout",
       "text": [
        "\n",
        "1700607"
       ]
      },
      {
       "output_type": "stream",
       "stream": "stdout",
       "text": [
        "\n",
        "37499343"
       ]
      },
      {
       "output_type": "stream",
       "stream": "stdout",
       "text": [
        "\n",
        "275187"
       ]
      },
      {
       "output_type": "stream",
       "stream": "stdout",
       "text": [
        "\n",
        "1042598"
       ]
      },
      {
       "output_type": "stream",
       "stream": "stdout",
       "text": [
        "\n",
        "580929"
       ]
      },
      {
       "output_type": "stream",
       "stream": "stdout",
       "text": [
        "\n",
        "2412684"
       ]
      },
      {
       "output_type": "stream",
       "stream": "stdout",
       "text": [
        "\n",
        "196038"
       ]
      },
      {
       "output_type": "stream",
       "stream": "stdout",
       "text": [
        "\n",
        "4015519"
       ]
      },
      {
       "output_type": "stream",
       "stream": "stdout",
       "text": [
        "\n",
        "1072047"
       ]
      },
      {
       "output_type": "stream",
       "stream": "stdout",
       "text": [
        "\n",
        "2432385"
       ]
      },
      {
       "output_type": "stream",
       "stream": "stdout",
       "text": [
        "\n",
        "580890"
       ]
      },
      {
       "output_type": "stream",
       "stream": "stdout",
       "text": [
        "\n",
        "425023"
       ]
      },
      {
       "output_type": "stream",
       "stream": "stdout",
       "text": [
        "\n",
        "117655"
       ]
      },
      {
       "output_type": "stream",
       "stream": "stdout",
       "text": [
        "\n",
        "23994"
       ]
      },
      {
       "output_type": "stream",
       "stream": "stdout",
       "text": [
        "\n",
        "557668"
       ]
      },
      {
       "output_type": "stream",
       "stream": "stdout",
       "text": [
        "\n",
        "965117"
       ]
      },
      {
       "output_type": "stream",
       "stream": "stdout",
       "text": [
        "\n",
        "2782109"
       ]
      },
      {
       "output_type": "stream",
       "stream": "stdout",
       "text": [
        "\n",
        "4737337"
       ]
      },
      {
       "output_type": "stream",
       "stream": "stdout",
       "text": [
        "\n",
        "247713"
       ]
      },
      {
       "output_type": "stream",
       "stream": "stdout",
       "text": [
        "\n",
        "347870"
       ]
      },
      {
       "output_type": "stream",
       "stream": "stdout",
       "text": [
        "\n",
        "pass 100 : 100\n",
        "13067134"
       ]
      },
      {
       "output_type": "stream",
       "stream": "stdout",
       "text": [
        "\n",
        "2044252"
       ]
      },
      {
       "output_type": "stream",
       "stream": "stdout",
       "text": [
        "\n",
        "1701872"
       ]
      },
      {
       "output_type": "stream",
       "stream": "stdout",
       "text": [
        "\n",
        "1873196"
       ]
      },
      {
       "output_type": "stream",
       "stream": "stdout",
       "text": [
        "\n",
        "3194078"
       ]
      },
      {
       "output_type": "stream",
       "stream": "stdout",
       "text": [
        "\n",
        "1185198"
       ]
      },
      {
       "output_type": "stream",
       "stream": "stdout",
       "text": [
        "\n",
        "504925"
       ]
      },
      {
       "output_type": "stream",
       "stream": "stdout",
       "text": [
        "\n",
        "2825172"
       ]
      },
      {
       "output_type": "stream",
       "stream": "stdout",
       "text": [
        "\n",
        "167410"
       ]
      },
      {
       "output_type": "stream",
       "stream": "stdout",
       "text": [
        "\n",
        "64552"
       ]
      },
      {
       "output_type": "stream",
       "stream": "stdout",
       "text": [
        "\n",
        "110304"
       ]
      },
      {
       "output_type": "stream",
       "stream": "stdout",
       "text": [
        "\n",
        "560953"
       ]
      },
      {
       "output_type": "stream",
       "stream": "stdout",
       "text": [
        "\n",
        "2657475"
       ]
      },
      {
       "output_type": "stream",
       "stream": "stdout",
       "text": [
        "\n",
        "161412"
       ]
      },
      {
       "output_type": "stream",
       "stream": "stdout",
       "text": [
        "\n",
        "3307060"
       ]
      },
      {
       "output_type": "stream",
       "stream": "stdout",
       "text": [
        "\n",
        "776552"
       ]
      },
      {
       "output_type": "stream",
       "stream": "stdout",
       "text": [
        "\n",
        "1362057"
       ]
      },
      {
       "output_type": "stream",
       "stream": "stdout",
       "text": [
        "\n",
        "3116348"
       ]
      },
      {
       "output_type": "stream",
       "stream": "stdout",
       "text": [
        "\n",
        "1226481"
       ]
      },
      {
       "output_type": "stream",
       "stream": "stdout",
       "text": [
        "\n",
        "1406381"
       ]
      },
      {
       "output_type": "stream",
       "stream": "stdout",
       "text": [
        "\n",
        "1186064"
       ]
      },
      {
       "output_type": "stream",
       "stream": "stdout",
       "text": [
        "\n",
        "87413"
       ]
      },
      {
       "output_type": "stream",
       "stream": "stdout",
       "text": [
        "\n",
        "67613"
       ]
      },
      {
       "output_type": "stream",
       "stream": "stdout",
       "text": [
        "\n",
        "4766826"
       ]
      },
      {
       "output_type": "stream",
       "stream": "stdout",
       "text": [
        "\n",
        "819829"
       ]
      },
      {
       "output_type": "stream",
       "stream": "stdout",
       "text": [
        "\n",
        "993400"
       ]
      },
      {
       "output_type": "stream",
       "stream": "stdout",
       "text": [
        "\n",
        "1276198"
       ]
      },
      {
       "output_type": "stream",
       "stream": "stdout",
       "text": [
        "\n",
        "216001"
       ]
      },
      {
       "output_type": "stream",
       "stream": "stdout",
       "text": [
        "\n",
        "84277"
       ]
      },
      {
       "output_type": "stream",
       "stream": "stdout",
       "text": [
        "\n",
        "258581"
       ]
      },
      {
       "output_type": "stream",
       "stream": "stdout",
       "text": [
        "\n",
        "2226449"
       ]
      },
      {
       "output_type": "stream",
       "stream": "stdout",
       "text": [
        "\n",
        "1287822"
       ]
      },
      {
       "output_type": "stream",
       "stream": "stdout",
       "text": [
        "\n",
        "364823"
       ]
      },
      {
       "output_type": "stream",
       "stream": "stdout",
       "text": [
        "\n",
        "229877"
       ]
      },
      {
       "output_type": "stream",
       "stream": "stdout",
       "text": [
        "\n",
        "680892"
       ]
      },
      {
       "output_type": "stream",
       "stream": "stdout",
       "text": [
        "\n",
        "1210632"
       ]
      },
      {
       "output_type": "stream",
       "stream": "stdout",
       "text": [
        "\n",
        "207637"
       ]
      },
      {
       "output_type": "stream",
       "stream": "stdout",
       "text": [
        "\n",
        "212211"
       ]
      },
      {
       "output_type": "stream",
       "stream": "stdout",
       "text": [
        "\n",
        "340716"
       ]
      },
      {
       "output_type": "stream",
       "stream": "stdout",
       "text": [
        "\n",
        "969835"
       ]
      },
      {
       "output_type": "stream",
       "stream": "stdout",
       "text": [
        "\n",
        "5034638"
       ]
      },
      {
       "output_type": "stream",
       "stream": "stdout",
       "text": [
        "\n",
        "223502"
       ]
      },
      {
       "output_type": "stream",
       "stream": "stdout",
       "text": [
        "\n",
        "1854831"
       ]
      },
      {
       "output_type": "stream",
       "stream": "stdout",
       "text": [
        "\n",
        "451794"
       ]
      },
      {
       "output_type": "stream",
       "stream": "stdout",
       "text": [
        "\n",
        "478962"
       ]
      },
      {
       "output_type": "stream",
       "stream": "stdout",
       "text": [
        "\n",
        "1275053"
       ]
      },
      {
       "output_type": "stream",
       "stream": "stdout",
       "text": [
        "\n",
        "1281814"
       ]
      },
      {
       "output_type": "stream",
       "stream": "stdout",
       "text": [
        "\n",
        "883673"
       ]
      },
      {
       "output_type": "stream",
       "stream": "stdout",
       "text": [
        "\n",
        "3697994"
       ]
      },
      {
       "output_type": "stream",
       "stream": "stdout",
       "text": [
        "\n",
        "1045473"
       ]
      },
      {
       "output_type": "stream",
       "stream": "stdout",
       "text": [
        "\n",
        "2716608"
       ]
      },
      {
       "output_type": "stream",
       "stream": "stdout",
       "text": [
        "\n",
        "110179"
       ]
      },
      {
       "output_type": "stream",
       "stream": "stdout",
       "text": [
        "\n",
        "102124"
       ]
      },
      {
       "output_type": "stream",
       "stream": "stdout",
       "text": [
        "\n",
        "180892"
       ]
      },
      {
       "output_type": "stream",
       "stream": "stdout",
       "text": [
        "\n",
        "1042598"
       ]
      },
      {
       "output_type": "stream",
       "stream": "stdout",
       "text": [
        "\n",
        "except 0"
       ]
      },
      {
       "output_type": "stream",
       "stream": "stdout",
       "text": [
        "\n",
        "except 0"
       ]
      },
      {
       "output_type": "stream",
       "stream": "stdout",
       "text": [
        "\n",
        "3358453"
       ]
      },
      {
       "output_type": "stream",
       "stream": "stdout",
       "text": [
        "\n",
        "except 0"
       ]
      },
      {
       "output_type": "stream",
       "stream": "stdout",
       "text": [
        "\n"
       ]
      }
     ],
     "prompt_number": 34
    },
    {
     "cell_type": "code",
     "collapsed": false,
     "input": [
      "__author__ = 'kugi'\n",
      "\n",
      "import re\n",
      "import time\n",
      "\n",
      "import requests\n",
      "from scrapy.selector import HtmlXPathSelector\n",
      "\n",
      "\n",
      "\n",
      "class NaverCrawler(object):\n",
      "\n",
      "    def __init__(self, searchWordsAsSeries, startIndex=None, endIndex=None):\n",
      "        self.startIndex = startIndex if startIndex != None else 0\n",
      "        self.endIndex = endIndex if endIndex != None else len(searchWordsAsSeries)\n",
      "        self.waitMinute = 0\n",
      "        self.searchWordsAsSeries= searchWordsAsSeries\n",
      "\n",
      "    def __search(self,q):\n",
      "        \"\"\"\n",
      "        parameter:\n",
      "            q : String for search.\n",
      "        \"\"\"\n",
      "        try:\n",
      "            q='+'.join(q.split())\n",
      "            xpath = \"\"\"//div[@id='content']/div[@class='blog section _blogBase']/div[@class='section_head']/span[@class='title_num']\"\"\"\n",
      "            html = requests.get(\"http://cafeblog.search.naver.com/search.naver?where=post&sm=tab_jum&ie=utf8&query=\"+q).text\n",
      "            hx =HtmlXPathSelector(text=html)\n",
      "            items = hx.select(xpath)\n",
      "            inputstr = (items.extract()[0].split()[3]+\"\")\n",
      "            result = int(''.join(re.findall(r'\\d+', inputstr)))\n",
      "            print result\n",
      "            return result\n",
      "        except:\n",
      "            print \"except 0\"\n",
      "            return 0\n",
      "\n",
      "\n",
      "    def __ifError(self,word):\n",
      "        print \"stuck at \"+word\n",
      "        while True:\n",
      "            time.sleep(self.waitMinute*60)\n",
      "            try:\n",
      "                self.__search(word)\n",
      "                print \"sleeping... :  %d\" %(self.waitMinute*60)\n",
      "            except:\n",
      "                self.waitMinute += 1\n",
      "                continue\n",
      "            break\n",
      "        print \"escape!!!\"\n",
      "\n",
      "    def start(self):\n",
      "        for index in range(self.startIndex,self.endIndex):\n",
      "            word = self.searchWordsAsSeries[index]\n",
      "            try:\n",
      "                DatabaseManager.set_query_count('+'.join(word.split()), self.__search(('\\\"' + word + '\\\"')))\n",
      "            except:\n",
      "                print \"stuck index: %d, %s \"% (index, word)\n",
      "                self.__ifError(word)\n",
      "            if index % 100 ==0 and index!=0:\n",
      "                print \"pass 100 : %d\"%index\n",
      "        #print \"---done.\"\n",
      "        \n",
      "        \n",
      "    def calcPMI(self, AppScore, KeywordScore, BothScore, nTotalDocs):\n",
      "        val = (AppScore*KeywordScore/(BothScore*nTotalDocs+1))\n",
      "        if val <= 0:\n",
      "            return 0.0\n",
      "        return math.log10(val)\n"
     ],
     "language": "python",
     "metadata": {},
     "outputs": [],
     "prompt_number": "*"
    },
    {
     "cell_type": "code",
     "collapsed": false,
     "input": [
      "__author__ = 'kugi'\n",
      "\n",
      "import re\n",
      "import time\n",
      "\n",
      "import requests\n",
      "from scrapy.selector import HtmlXPathSelector\n",
      "\n",
      "\n",
      "\n",
      "class PMICrawler(object):\n",
      "\n",
      "    def __init__(self, appname, keyword, startIndex=None, endIndex=None):\n",
      "        self.waitMinute = 0\n",
      "        self.appname = appname\n",
      "        self.keyword = keyword\n",
      "        self.both = self.appname + \"+\" + self.keyword\n",
      "\n",
      "    def __search(self,q):\n",
      "        \"\"\"\n",
      "        parameter:\n",
      "            q : String for search.\n",
      "        \"\"\"\n",
      "        try:\n",
      "            q ='+'.join(q.split())\n",
      "            xpath = \"\"\"//div[@id='content']/div[@class='blog section _blogBase']/div[@class='section_head']/span[@class='title_num']\"\"\"\n",
      "            html = requests.get(\"http://cafeblog.search.naver.com/search.naver?where=post&sm=tab_jum&ie=utf8&query=\"+q).text\n",
      "            hx = HtmlXPathSelector(text=html)\n",
      "            items = hx.select(xpath)\n",
      "            inputstr = (items.extract()[0].split()[3]+\"\")\n",
      "            result = int(''.join(re.findall(r'\\d+', inputstr)))\n",
      "            print result\n",
      "            return result\n",
      "        except:\n",
      "            print \"except 0\"\n",
      "            return 0\n",
      "\n",
      "\n",
      "    def __ifError(self,word):\n",
      "        print \"stuck at \"+word\n",
      "        while True:\n",
      "            time.sleep(self.waitMinute*60)\n",
      "            try:\n",
      "                self.__search(word)\n",
      "                print \"sleeping... :  %d\" %(self.waitMinute*60)\n",
      "            except:\n",
      "                self.waitMinute += 1\n",
      "                continue\n",
      "            break\n",
      "        print \"escape!!!\"\n",
      "\n",
      "        \n",
      "    def workit(self):\n",
      "        print \"app=%s: %.2f\\n\" % (self.appname, self.__search(self.appname))\n",
      "        print \"keyword=%s: %.2f\\n\" % (self.keyword, self.__search(self.keyword))\n",
      "        print \"both=%s: %.2f\\n\\n\" % (self.both, self.__search(self.both) )\n",
      "        print \n",
      "\n",
      "        \n",
      "    def start(self):\n",
      "     #   try:\n",
      "            appRes = self.__search(self.appname)\n",
      "            keyRes = self.__search(self.keyword)\n",
      "            botRes = self.__search(self.both)\n",
      "            \n",
      "            DatabaseManager.set_query_count(self.appname, appRes)\n",
      "            DatabaseManager.set_query_count(self.keyword, keyRes)\n",
      "            DatabaseManager.set_query_count(self.both, botRes)\n",
      "            \n",
      "            pmi = self._calcPMI(appRes, keyRes, botRes, 1000000000.0)\n",
      "            DatabaseManager.set_app_keyword_pmi(self.appname, self.keyword, pmi)\n",
      "            \n",
      "            print(\"app=%s(%d), keyword=%s(%d), both=%s(%d), pmi=%.3f\\n\" % (self.appname, appRes, self.keyword, keyRes, self.both, botRes, pmi) )\n",
      "            \n",
      "      #  except:\n",
      "      #      __debug__.\n",
      "      #      print \"error: app=%s, keyword=%s\\n\" % (self.appname, self.keyword)\n",
      "            #self.__ifError(word)\n",
      "\n",
      "        \n",
      "    def _calcPMI(self, AppScore, KeywordScore, BothScore, nTotalDocs):\n",
      "\n",
      "        val = (AppScore*KeywordScore/(BothScore*nTotalDocs+1.0))\n",
      "\n",
      "        if val <= 0:\n",
      "            return 0.0\n",
      "        \n",
      "        return math.log10(val)\n"
     ],
     "language": "python",
     "metadata": {},
     "outputs": [],
     "prompt_number": 33
    },
    {
     "cell_type": "code",
     "collapsed": false,
     "input": [
      "temppmic = PMICrawler(\"\ub4dc\ub798\uace4 \ud50c\ub77c\uc774\ud2b8 for Kakao\", \"\ud37c\uc990\")"
     ],
     "language": "python",
     "metadata": {},
     "outputs": [],
     "prompt_number": 34
    },
    {
     "cell_type": "code",
     "collapsed": false,
     "input": [
      "DatabaseManager.get_app_keyword_pmi(\"\ub4dc\ub798\uace4 \ud50c\ub77c\uc774\ud2b8 for Kakao\", \"\ud37c\uc990\")"
     ],
     "language": "python",
     "metadata": {},
     "outputs": [
      {
       "metadata": {},
       "output_type": "pyout",
       "prompt_number": 36,
       "text": [
        "-3.45430032515416"
       ]
      }
     ],
     "prompt_number": 36
    },
    {
     "cell_type": "code",
     "collapsed": false,
     "input": [
      "temppmic.workit()"
     ],
     "language": "python",
     "metadata": {},
     "outputs": [
      {
       "output_type": "stream",
       "stream": "stdout",
       "text": [
        "382\n",
        "app=\ub4dc\ub798\uace4 \ud50c\ub77c\uc774\ud2b8 for Kakao: 382.00\n",
        "\n",
        "444196"
       ]
      },
      {
       "output_type": "stream",
       "stream": "stdout",
       "text": [
        "\n",
        "keyword=\ud37c\uc990: 444196.00\n",
        "\n",
        "483"
       ]
      },
      {
       "output_type": "stream",
       "stream": "stdout",
       "text": [
        "\n",
        "both=\ub4dc\ub798\uace4 \ud50c\ub77c\uc774\ud2b8 for Kakao+\ud37c\uc990: 483.00\n",
        "\n",
        "\n",
        "\n"
       ]
      }
     ],
     "prompt_number": 24
    },
    {
     "cell_type": "code",
     "collapsed": false,
     "input": [
      "temppmic.start()"
     ],
     "language": "python",
     "metadata": {},
     "outputs": [
      {
       "output_type": "stream",
       "stream": "stdout",
       "text": [
        "382\n",
        "444205"
       ]
      },
      {
       "output_type": "stream",
       "stream": "stdout",
       "text": [
        "\n",
        "483"
       ]
      },
      {
       "output_type": "stream",
       "stream": "stdout",
       "text": [
        "\n",
        "382"
       ]
      },
      {
       "output_type": "stream",
       "stream": "stdout",
       "text": [
        " 444205 483 1000000000.0\n",
        "val=0.0004\n",
        "\n",
        "app=\ub4dc\ub798\uace4 \ud50c\ub77c\uc774\ud2b8 for Kakao(382), keyword=\ud37c\uc990(444205), both=\ub4dc\ub798\uace4 \ud50c\ub77c\uc774\ud2b8 for Kakao+\ud37c\uc990(483), pmi=-3.454\n"
       ]
      },
      {
       "output_type": "stream",
       "stream": "stdout",
       "text": [
        "\n"
       ]
      }
     ],
     "prompt_number": 35
    },
    {
     "cell_type": "code",
     "collapsed": false,
     "input": [
      "keyword = keywords\n",
      "searchWordArray = np.array(res3)\n",
      "#for i, a in app2_2000_name.iterrows():\n",
      "#    print a['name']\n",
      "for a in searchWordArray:\n",
      "    a = ''.join(a)\n",
      "    sys.stdout.flush()\n",
      "    sys.stdout.write('\\r') \n",
      "    sys.stdout.write(\"app %s start\\n\" % a)\n",
      "    for key in keyword:\n",
      "     #   sys.stdout.write(\"  key %s start: \" %key)\n",
      "      #  searchWordList = [\"+\".join(a)+key]\n",
      "        cw = PMICrawler(a, key)\n",
      "        cw.start()\n",
      "\n",
      "    #    DatabaseManager.set_app_keyword_pmi(a, key, pmi)\n",
      "   #     sys.stdout.write(\"pmi=%.2f : (%s), (%s), (%s)\\n\" % (pmi, a, key, \"\".join(a)+key))\n",
      "print \"done.\""
     ],
     "language": "python",
     "metadata": {},
     "outputs": [
      {
       "output_type": "stream",
       "stream": "stdout",
       "text": [
        "\r",
        "app \ub4dc\ub798\uace4 \ud50c\ub77c\uc774\ud2b8 for Kakao start\n",
        "382"
       ]
      },
      {
       "output_type": "stream",
       "stream": "stdout",
       "text": [
        "\n",
        "except 0"
       ]
      },
      {
       "output_type": "stream",
       "stream": "stdout",
       "text": [
        "\n",
        "382"
       ]
      },
      {
       "output_type": "stream",
       "stream": "stdout",
       "text": [
        "\n",
        "382"
       ]
      },
      {
       "output_type": "stream",
       "stream": "stdout",
       "text": [
        " 0 382 1000000000.0\n",
        "val=0.0000\n",
        "\n",
        "app=\ub4dc\ub798\uace4 \ud50c\ub77c\uc774\ud2b8 for Kakao(382), keyword=(0), both=\ub4dc\ub798\uace4 \ud50c\ub77c\uc774\ud2b8 for Kakao+(382), pmi=0.000\n"
       ]
      },
      {
       "output_type": "stream",
       "stream": "stdout",
       "text": [
        "\n",
        "382"
       ]
      },
      {
       "output_type": "stream",
       "stream": "stdout",
       "text": [
        "\n",
        "444202"
       ]
      },
      {
       "output_type": "stream",
       "stream": "stdout",
       "text": [
        "\n",
        "43"
       ]
      },
      {
       "output_type": "stream",
       "stream": "stdout",
       "text": [
        "\n",
        "382"
       ]
      },
      {
       "output_type": "stream",
       "stream": "stdout",
       "text": [
        " 444202 43 1000000000.0\n",
        "val=0.0039\n",
        "\n",
        "app=\ub4dc\ub798\uace4 \ud50c\ub77c\uc774\ud2b8 for Kakao(382), keyword=+\"\ufeff\ud37c\uc990\"(444202), both=\ub4dc\ub798\uace4 \ud50c\ub77c\uc774\ud2b8 for Kakao++\"\ufeff\ud37c\uc990\"(43), pmi=-2.404\n"
       ]
      },
      {
       "output_type": "stream",
       "stream": "stdout",
       "text": [
        "\n",
        "382"
       ]
      },
      {
       "output_type": "stream",
       "stream": "stdout",
       "text": [
        "\n",
        "422522"
       ]
      },
      {
       "output_type": "stream",
       "stream": "stdout",
       "text": [
        "\n",
        "31"
       ]
      },
      {
       "output_type": "stream",
       "stream": "stdout",
       "text": [
        "\n",
        "382"
       ]
      },
      {
       "output_type": "stream",
       "stream": "stdout",
       "text": [
        " 422522 31 1000000000.0\n",
        "val=0.0052\n",
        "\n",
        "app=\ub4dc\ub798\uace4 \ud50c\ub77c\uc774\ud2b8 for Kakao(382), keyword=+\"\uce90\uc8fc\uc5bc\"(422522), both=\ub4dc\ub798\uace4 \ud50c\ub77c\uc774\ud2b8 for Kakao++\"\uce90\uc8fc\uc5bc\"(31), pmi=-2.283\n",
        "\n",
        "382"
       ]
      },
      {
       "output_type": "stream",
       "stream": "stdout",
       "text": [
        "\n",
        "115392"
       ]
      },
      {
       "output_type": "stream",
       "stream": "stdout",
       "text": [
        "\n",
        "33"
       ]
      },
      {
       "output_type": "stream",
       "stream": "stdout",
       "text": [
        "\n",
        "382"
       ]
      },
      {
       "output_type": "stream",
       "stream": "stdout",
       "text": [
        " 115392 33 1000000000.0\n",
        "val=0.0013\n",
        "\n",
        "app=\ub4dc\ub798\uace4 \ud50c\ub77c\uc774\ud2b8 for Kakao(382), keyword=+\"\uc544\ucf00\uc774\ub4dc\"(115392), both=\ub4dc\ub798\uace4 \ud50c\ub77c\uc774\ud2b8 for Kakao++\"\uc544\ucf00\uc774\ub4dc\"(33), pmi=-2.874\n",
        "\n",
        "382"
       ]
      },
      {
       "output_type": "stream",
       "stream": "stdout",
       "text": [
        "\n",
        "6861712"
       ]
      },
      {
       "output_type": "stream",
       "stream": "stdout",
       "text": [
        "\n",
        "16"
       ]
      },
      {
       "output_type": "stream",
       "stream": "stdout",
       "text": [
        "\n",
        "382"
       ]
      },
      {
       "output_type": "stream",
       "stream": "stdout",
       "text": [
        " 6861712 16 1000000000.0\n",
        "val=0.1638\n",
        "\n",
        "app=\ub4dc\ub798\uace4 \ud50c\ub77c\uc774\ud2b8 for Kakao(382), keyword=+\"\uc5ec\uc131\"(6861712), both=\ub4dc\ub798\uace4 \ud50c\ub77c\uc774\ud2b8 for Kakao++\"\uc5ec\uc131\"(16), pmi=-0.786\n"
       ]
      },
      {
       "output_type": "stream",
       "stream": "stdout",
       "text": [
        "\n",
        "382"
       ]
      },
      {
       "output_type": "stream",
       "stream": "stdout",
       "text": [
        "\n",
        "2386979"
       ]
      },
      {
       "output_type": "stream",
       "stream": "stdout",
       "text": [
        "\n",
        "4"
       ]
      },
      {
       "output_type": "stream",
       "stream": "stdout",
       "text": [
        "\n",
        "382"
       ]
      },
      {
       "output_type": "stream",
       "stream": "stdout",
       "text": [
        " 2386979 4 1000000000.0\n",
        "val=0.2280\n",
        "\n",
        "app=\ub4dc\ub798\uace4 \ud50c\ub77c\uc774\ud2b8 for Kakao(382), keyword=+\"\ub0a8\uc131\"(2386979), both=\ub4dc\ub798\uace4 \ud50c\ub77c\uc774\ud2b8 for Kakao++\"\ub0a8\uc131\"(4), pmi=-0.642\n",
        "\n",
        "382"
       ]
      },
      {
       "output_type": "stream",
       "stream": "stdout",
       "text": [
        "\n",
        "19817920"
       ]
      },
      {
       "output_type": "stream",
       "stream": "stdout",
       "text": [
        "\n",
        "216"
       ]
      },
      {
       "output_type": "stream",
       "stream": "stdout",
       "text": [
        "\n",
        "382"
       ]
      },
      {
       "output_type": "stream",
       "stream": "stdout",
       "text": [
        " 19817920 216 1000000000.0\n",
        "val=0.0350\n",
        "\n",
        "app=\ub4dc\ub798\uace4 \ud50c\ub77c\uc774\ud2b8 for Kakao(382), keyword=+\"\uce5c\uad6c\"(19817920), both=\ub4dc\ub798\uace4 \ud50c\ub77c\uc774\ud2b8 for Kakao++\"\uce5c\uad6c\"(216), pmi=-1.455\n"
       ]
      },
      {
       "output_type": "stream",
       "stream": "stdout",
       "text": [
        "\n",
        "382"
       ]
      },
      {
       "output_type": "stream",
       "stream": "stdout",
       "text": [
        "\n",
        "1498604"
       ]
      },
      {
       "output_type": "stream",
       "stream": "stdout",
       "text": [
        "\n",
        "2"
       ]
      },
      {
       "output_type": "stream",
       "stream": "stdout",
       "text": [
        "\n",
        "382"
       ]
      },
      {
       "output_type": "stream",
       "stream": "stdout",
       "text": [
        " 1498604 2 1000000000.0\n",
        "val=0.2862\n",
        "\n",
        "app=\ub4dc\ub798\uace4 \ud50c\ub77c\uc774\ud2b8 for Kakao(382), keyword=+\"\uc5f0\uc560\"(1498604), both=\ub4dc\ub798\uace4 \ud50c\ub77c\uc774\ud2b8 for Kakao++\"\uc5f0\uc560\"(2), pmi=-0.543\n",
        "\n",
        "382"
       ]
      },
      {
       "output_type": "stream",
       "stream": "stdout",
       "text": [
        "\n",
        "496304"
       ]
      },
      {
       "output_type": "stream",
       "stream": "stdout",
       "text": [
        "\n",
        "except 0"
       ]
      },
      {
       "output_type": "stream",
       "stream": "stdout",
       "text": [
        "\n",
        "382"
       ]
      },
      {
       "output_type": "stream",
       "stream": "stdout",
       "text": [
        " 496304 0 1000000000.0\n",
        "val=189588128.0000\n",
        "\n",
        "app=\ub4dc\ub798\uace4 \ud50c\ub77c\uc774\ud2b8 for Kakao(382), keyword=+\"\uc5f0\uc608\"(496304), both=\ub4dc\ub798\uace4 \ud50c\ub77c\uc774\ud2b8 for Kakao++\"\uc5f0\uc608\"(0), pmi=8.278\n"
       ]
      },
      {
       "output_type": "stream",
       "stream": "stdout",
       "text": [
        "\n",
        "382"
       ]
      },
      {
       "output_type": "stream",
       "stream": "stdout",
       "text": [
        "\n",
        "13161729"
       ]
      },
      {
       "output_type": "stream",
       "stream": "stdout",
       "text": [
        "\n",
        "7"
       ]
      },
      {
       "output_type": "stream",
       "stream": "stdout",
       "text": [
        "\n",
        "382"
       ]
      },
      {
       "output_type": "stream",
       "stream": "stdout",
       "text": [
        " 13161729 7 1000000000.0\n",
        "val=0.7183\n",
        "\n",
        "app=\ub4dc\ub798\uace4 \ud50c\ub77c\uc774\ud2b8 for Kakao(382), keyword=+\"\uc5bc\uad74\"(13161729), both=\ub4dc\ub798\uace4 \ud50c\ub77c\uc774\ud2b8 for Kakao++\"\uc5bc\uad74\"(7), pmi=-0.144\n",
        "\n",
        "382"
       ]
      },
      {
       "output_type": "stream",
       "stream": "stdout",
       "text": [
        "\n",
        "3843427"
       ]
      },
      {
       "output_type": "stream",
       "stream": "stdout",
       "text": [
        "\n",
        "47"
       ]
      },
      {
       "output_type": "stream",
       "stream": "stdout",
       "text": [
        "\n",
        "382"
       ]
      },
      {
       "output_type": "stream",
       "stream": "stdout",
       "text": [
        " 3843427 47 1000000000.0\n",
        "val=0.0312\n",
        "\n",
        "app=\ub4dc\ub798\uace4 \ud50c\ub77c\uc774\ud2b8 for Kakao(382), keyword=+\"\uc18d\ub3c4\"(3843427), both=\ub4dc\ub798\uace4 \ud50c\ub77c\uc774\ud2b8 for Kakao++\"\uc18d\ub3c4\"(47), pmi=-1.505\n",
        "\n",
        "382"
       ]
      },
      {
       "output_type": "stream",
       "stream": "stdout",
       "text": [
        "\n",
        "11917350"
       ]
      },
      {
       "output_type": "stream",
       "stream": "stdout",
       "text": [
        "\n",
        "113"
       ]
      },
      {
       "output_type": "stream",
       "stream": "stdout",
       "text": [
        "\n",
        "382"
       ]
      },
      {
       "output_type": "stream",
       "stream": "stdout",
       "text": [
        " 11917350 113 1000000000.0\n",
        "val=0.0403\n",
        "\n",
        "app=\ub4dc\ub798\uace4 \ud50c\ub77c\uc774\ud2b8 for Kakao(382), keyword=+\"\ub3c8\"(11917350), both=\ub4dc\ub798\uace4 \ud50c\ub77c\uc774\ud2b8 for Kakao++\"\ub3c8\"(113), pmi=-1.395\n"
       ]
      },
      {
       "output_type": "stream",
       "stream": "stdout",
       "text": [
        "\n",
        "382"
       ]
      },
      {
       "output_type": "stream",
       "stream": "stdout",
       "text": [
        "\n",
        "490509"
       ]
      },
      {
       "output_type": "stream",
       "stream": "stdout",
       "text": [
        "\n",
        "36"
       ]
      },
      {
       "output_type": "stream",
       "stream": "stdout",
       "text": [
        "\n",
        "382"
       ]
      },
      {
       "output_type": "stream",
       "stream": "stdout",
       "text": [
        " 490509 36 1000000000.0\n",
        "val=0.0052\n",
        "\n",
        "app=\ub4dc\ub798\uace4 \ud50c\ub77c\uc774\ud2b8 for Kakao(382), keyword=+\"\ub79c\ub364\"(490509), both=\ub4dc\ub798\uace4 \ud50c\ub77c\uc774\ud2b8 for Kakao++\"\ub79c\ub364\"(36), pmi=-2.284\n",
        "\n",
        "382"
       ]
      },
      {
       "output_type": "stream",
       "stream": "stdout",
       "text": [
        "\n",
        "108961"
       ]
      },
      {
       "output_type": "stream",
       "stream": "stdout",
       "text": [
        "\n",
        "except 0"
       ]
      },
      {
       "output_type": "stream",
       "stream": "stdout",
       "text": [
        "\n",
        "382"
       ]
      },
      {
       "output_type": "stream",
       "stream": "stdout",
       "text": [
        " 108961 0 1000000000.0\n",
        "val=41623102.0000\n",
        "\n",
        "app=\ub4dc\ub798\uace4 \ud50c\ub77c\uc774\ud2b8 for Kakao(382), keyword=+\"random\"(108961), both=\ub4dc\ub798\uace4 \ud50c\ub77c\uc774\ud2b8 for Kakao++\"random\"(0), pmi=7.619\n"
       ]
      },
      {
       "output_type": "stream",
       "stream": "stdout",
       "text": [
        "\n",
        "382"
       ]
      },
      {
       "output_type": "stream",
       "stream": "stdout",
       "text": [
        "\n",
        "8506912"
       ]
      },
      {
       "output_type": "stream",
       "stream": "stdout",
       "text": [
        "\n",
        "6"
       ]
      },
      {
       "output_type": "stream",
       "stream": "stdout",
       "text": [
        "\n",
        "382"
       ]
      },
      {
       "output_type": "stream",
       "stream": "stdout",
       "text": [
        " 8506912 6 1000000000.0\n",
        "val=0.5416\n",
        "\n",
        "app=\ub4dc\ub798\uace4 \ud50c\ub77c\uc774\ud2b8 for Kakao(382), keyword=+\"\uc74c\uc2dd\"(8506912), both=\ub4dc\ub798\uace4 \ud50c\ub77c\uc774\ud2b8 for Kakao++\"\uc74c\uc2dd\"(6), pmi=-0.266\n",
        "\n",
        "382"
       ]
      },
      {
       "output_type": "stream",
       "stream": "stdout",
       "text": [
        "\n",
        "17687308"
       ]
      },
      {
       "output_type": "stream",
       "stream": "stdout",
       "text": [
        "\n",
        "120"
       ]
      },
      {
       "output_type": "stream",
       "stream": "stdout",
       "text": [
        "\n",
        "382"
       ]
      },
      {
       "output_type": "stream",
       "stream": "stdout",
       "text": [
        " 17687308 120 1000000000.0\n",
        "val=0.0563\n",
        "\n",
        "app=\ub4dc\ub798\uace4 \ud50c\ub77c\uc774\ud2b8 for Kakao(382), keyword=+\"\ubc29\ubc95\"(17687308), both=\ub4dc\ub798\uace4 \ud50c\ub77c\uc774\ud2b8 for Kakao++\"\ubc29\ubc95\"(120), pmi=-1.249\n"
       ]
      },
      {
       "output_type": "stream",
       "stream": "stdout",
       "text": [
        "\n",
        "382"
       ]
      },
      {
       "output_type": "stream",
       "stream": "stdout",
       "text": [
        "\n",
        "588223"
       ]
      },
      {
       "output_type": "stream",
       "stream": "stdout",
       "text": [
        "\n",
        "129"
       ]
      },
      {
       "output_type": "stream",
       "stream": "stdout",
       "text": [
        "\n",
        "382"
       ]
      },
      {
       "output_type": "stream",
       "stream": "stdout",
       "text": [
        " 588223 129 1000000000.0\n",
        "val=0.0017\n",
        "\n",
        "app=\ub4dc\ub798\uace4 \ud50c\ub77c\uc774\ud2b8 for Kakao(382), keyword=+\"\uc548\ub4dc\ub85c\uc774\ub4dc\"(588223), both=\ub4dc\ub798\uace4 \ud50c\ub77c\uc774\ud2b8 for Kakao++\"\uc548\ub4dc\ub85c\uc774\ub4dc\"(129), pmi=-2.759\n"
       ]
      },
      {
       "output_type": "stream",
       "stream": "stdout",
       "text": [
        "\n",
        "382"
       ]
      },
      {
       "output_type": "stream",
       "stream": "stdout",
       "text": [
        "\n",
        "771048"
       ]
      },
      {
       "output_type": "stream",
       "stream": "stdout",
       "text": [
        "\n",
        "56"
       ]
      },
      {
       "output_type": "stream",
       "stream": "stdout",
       "text": [
        "\n",
        "382"
       ]
      },
      {
       "output_type": "stream",
       "stream": "stdout",
       "text": [
        " 771048 56 1000000000.0\n",
        "val=0.0053\n",
        "\n",
        "app=\ub4dc\ub798\uace4 \ud50c\ub77c\uc774\ud2b8 for Kakao(382), keyword=+\"\uc544\uc774\ud3f0\"(771048), both=\ub4dc\ub798\uace4 \ud50c\ub77c\uc774\ud2b8 for Kakao++\"\uc544\uc774\ud3f0\"(56), pmi=-2.279\n",
        "\n",
        "382"
       ]
      },
      {
       "output_type": "stream",
       "stream": "stdout",
       "text": [
        "\n",
        "223015"
       ]
      },
      {
       "output_type": "stream",
       "stream": "stdout",
       "text": [
        "\n",
        "19"
       ]
      },
      {
       "output_type": "stream",
       "stream": "stdout",
       "text": [
        "\n",
        "382"
       ]
      },
      {
       "output_type": "stream",
       "stream": "stdout",
       "text": [
        " 223015 19 1000000000.0\n",
        "val=0.0045\n",
        "\n",
        "app=\ub4dc\ub798\uace4 \ud50c\ub77c\uc774\ud2b8 for Kakao(382), keyword=+\"android\"(223015), both=\ub4dc\ub798\uace4 \ud50c\ub77c\uc774\ud2b8 for Kakao++\"android\"(19), pmi=-2.348\n",
        "\n",
        "382"
       ]
      },
      {
       "output_type": "stream",
       "stream": "stdout",
       "text": [
        "\n",
        "448851"
       ]
      },
      {
       "output_type": "stream",
       "stream": "stdout",
       "text": [
        "\n",
        "13"
       ]
      },
      {
       "output_type": "stream",
       "stream": "stdout",
       "text": [
        "\n",
        "382"
       ]
      },
      {
       "output_type": "stream",
       "stream": "stdout",
       "text": [
        " 448851 13 1000000000.0\n",
        "val=0.0132\n",
        "\n",
        "app=\ub4dc\ub798\uace4 \ud50c\ub77c\uc774\ud2b8 for Kakao(382), keyword=+\"iphone\"(448851), both=\ub4dc\ub798\uace4 \ud50c\ub77c\uc774\ud2b8 for Kakao++\"iphone\"(13), pmi=-1.880\n",
        "\n",
        "382"
       ]
      },
      {
       "output_type": "stream",
       "stream": "stdout",
       "text": [
        "\n",
        "348219"
       ]
      },
      {
       "output_type": "stream",
       "stream": "stdout",
       "text": [
        "\n",
        "1"
       ]
      },
      {
       "output_type": "stream",
       "stream": "stdout",
       "text": [
        "\n",
        "382"
       ]
      },
      {
       "output_type": "stream",
       "stream": "stdout",
       "text": [
        " 348219 1 1000000000.0\n",
        "val=0.1330\n",
        "\n",
        "app=\ub4dc\ub798\uace4 \ud50c\ub77c\uc774\ud2b8 for Kakao(382), keyword=+\"\uc624\ub77d\"(348219), both=\ub4dc\ub798\uace4 \ud50c\ub77c\uc774\ud2b8 for Kakao++\"\uc624\ub77d\"(1), pmi=-0.876\n",
        "\n",
        "382"
       ]
      },
      {
       "output_type": "stream",
       "stream": "stdout",
       "text": [
        "\n",
        "1396585"
       ]
      },
      {
       "output_type": "stream",
       "stream": "stdout",
       "text": [
        "\n",
        "9"
       ]
      },
      {
       "output_type": "stream",
       "stream": "stdout",
       "text": [
        "\n",
        "382"
       ]
      },
      {
       "output_type": "stream",
       "stream": "stdout",
       "text": [
        " 1396585 9 1000000000.0\n",
        "val=0.0593\n",
        "\n",
        "app=\ub4dc\ub798\uace4 \ud50c\ub77c\uc774\ud2b8 for Kakao(382), keyword=+\"\uc2ec\ub9ac\"(1396585), both=\ub4dc\ub798\uace4 \ud50c\ub77c\uc774\ud2b8 for Kakao++\"\uc2ec\ub9ac\"(9), pmi=-1.227\n",
        "\n",
        "382"
       ]
      },
      {
       "output_type": "stream",
       "stream": "stdout",
       "text": [
        "\n",
        "1568726"
       ]
      },
      {
       "output_type": "stream",
       "stream": "stdout",
       "text": [
        "\n",
        "5"
       ]
      },
      {
       "output_type": "stream",
       "stream": "stdout",
       "text": [
        "\n",
        "382"
       ]
      },
      {
       "output_type": "stream",
       "stream": "stdout",
       "text": [
        " 1568726 5 1000000000.0\n",
        "val=0.1199\n",
        "\n",
        "app=\ub4dc\ub798\uace4 \ud50c\ub77c\uc774\ud2b8 for Kakao(382), keyword=+\"\ubd80\uc790\"(1568726), both=\ub4dc\ub798\uace4 \ud50c\ub77c\uc774\ud2b8 for Kakao++\"\ubd80\uc790\"(5), pmi=-0.921\n",
        "\n",
        "382"
       ]
      },
      {
       "output_type": "stream",
       "stream": "stdout",
       "text": [
        "\n",
        "5402121"
       ]
      },
      {
       "output_type": "stream",
       "stream": "stdout",
       "text": [
        "\n",
        "8"
       ]
      },
      {
       "output_type": "stream",
       "stream": "stdout",
       "text": [
        "\n",
        "382"
       ]
      },
      {
       "output_type": "stream",
       "stream": "stdout",
       "text": [
        " 5402121 8 1000000000.0\n",
        "val=0.2580\n",
        "\n",
        "app=\ub4dc\ub798\uace4 \ud50c\ub77c\uc774\ud2b8 for Kakao(382), keyword=+\"\uc601\uc5b4\"(5402121), both=\ub4dc\ub798\uace4 \ud50c\ub77c\uc774\ud2b8 for Kakao++\"\uc601\uc5b4\"(8), pmi=-0.588\n",
        "\n",
        "382"
       ]
      },
      {
       "output_type": "stream",
       "stream": "stdout",
       "text": [
        "\n",
        "483192"
       ]
      },
      {
       "output_type": "stream",
       "stream": "stdout",
       "text": [
        "\n",
        "1"
       ]
      },
      {
       "output_type": "stream",
       "stream": "stdout",
       "text": [
        "\n",
        "382"
       ]
      },
      {
       "output_type": "stream",
       "stream": "stdout",
       "text": [
        " 483192 1 1000000000.0\n",
        "val=0.1846\n",
        "\n",
        "app=\ub4dc\ub798\uace4 \ud50c\ub77c\uc774\ud2b8 for Kakao(382), keyword=+\"\ud1a0\uc775\"(483192), both=\ub4dc\ub798\uace4 \ud50c\ub77c\uc774\ud2b8 for Kakao++\"\ud1a0\uc775\"(1), pmi=-0.734\n"
       ]
      },
      {
       "output_type": "stream",
       "stream": "stdout",
       "text": [
        "\n",
        "382"
       ]
      },
      {
       "output_type": "stream",
       "stream": "stdout",
       "text": [
        "\n",
        "8530677"
       ]
      },
      {
       "output_type": "stream",
       "stream": "stdout",
       "text": [
        "\n",
        "4"
       ]
      },
      {
       "output_type": "stream",
       "stream": "stdout",
       "text": [
        "\n",
        "382"
       ]
      },
      {
       "output_type": "stream",
       "stream": "stdout",
       "text": [
        " 8530677 4 1000000000.0\n",
        "val=0.8147\n",
        "\n",
        "app=\ub4dc\ub798\uace4 \ud50c\ub77c\uc774\ud2b8 for Kakao(382), keyword=+\"\uacf5\ubd80\"(8530677), both=\ub4dc\ub798\uace4 \ud50c\ub77c\uc774\ud2b8 for Kakao++\"\uacf5\ubd80\"(4), pmi=-0.089\n"
       ]
      },
      {
       "output_type": "stream",
       "stream": "stdout",
       "text": [
        "\n",
        "382"
       ]
      },
      {
       "output_type": "stream",
       "stream": "stdout",
       "text": [
        "\n",
        "5445702"
       ]
      },
      {
       "output_type": "stream",
       "stream": "stdout",
       "text": [
        "\n",
        "43"
       ]
      },
      {
       "output_type": "stream",
       "stream": "stdout",
       "text": [
        "\n",
        "382"
       ]
      },
      {
       "output_type": "stream",
       "stream": "stdout",
       "text": [
        " 5445702 43 1000000000.0\n",
        "val=0.0484\n",
        "\n",
        "app=\ub4dc\ub798\uace4 \ud50c\ub77c\uc774\ud2b8 for Kakao(382), keyword=+\"\uc77c\uc815\"(5445702), both=\ub4dc\ub798\uace4 \ud50c\ub77c\uc774\ud2b8 for Kakao++\"\uc77c\uc815\"(43), pmi=-1.315\n",
        "\n",
        "382"
       ]
      },
      {
       "output_type": "stream",
       "stream": "stdout",
       "text": [
        "\n",
        "580894"
       ]
      },
      {
       "output_type": "stream",
       "stream": "stdout",
       "text": [
        "\n",
        "3"
       ]
      },
      {
       "output_type": "stream",
       "stream": "stdout",
       "text": [
        "\n",
        "382"
       ]
      },
      {
       "output_type": "stream",
       "stream": "stdout",
       "text": [
        " 580894 3 1000000000.0\n",
        "val=0.0740\n",
        "\n",
        "app=\ub4dc\ub798\uace4 \ud50c\ub77c\uc774\ud2b8 for Kakao(382), keyword=+\"\ub2ec\ub825\"(580894), both=\ub4dc\ub798\uace4 \ud50c\ub77c\uc774\ud2b8 for Kakao++\"\ub2ec\ub825\"(3), pmi=-1.131\n"
       ]
      },
      {
       "output_type": "stream",
       "stream": "stdout",
       "text": [
        "\n",
        "382"
       ]
      },
      {
       "output_type": "stream",
       "stream": "stdout",
       "text": [
        "\n",
        "8137729"
       ]
      },
      {
       "output_type": "stream",
       "stream": "stdout",
       "text": [
        "\n",
        "16"
       ]
      },
      {
       "output_type": "stream",
       "stream": "stdout",
       "text": [
        "\n",
        "382"
       ]
      },
      {
       "output_type": "stream",
       "stream": "stdout",
       "text": [
        " 8137729 16 1000000000.0\n",
        "val=0.1943\n",
        "\n",
        "app=\ub4dc\ub798\uace4 \ud50c\ub77c\uc774\ud2b8 for Kakao(382), keyword=+\"\uacc4\ud68d\"(8137729), both=\ub4dc\ub798\uace4 \ud50c\ub77c\uc774\ud2b8 for Kakao++\"\uacc4\ud68d\"(16), pmi=-0.712\n",
        "\n",
        "382"
       ]
      },
      {
       "output_type": "stream",
       "stream": "stdout",
       "text": [
        "\n",
        "1109605"
       ]
      },
      {
       "output_type": "stream",
       "stream": "stdout",
       "text": [
        "\n",
        "104"
       ]
      },
      {
       "output_type": "stream",
       "stream": "stdout",
       "text": [
        "\n",
        "382"
       ]
      },
      {
       "output_type": "stream",
       "stream": "stdout",
       "text": [
        " 1109605 104 1000000000.0\n",
        "val=0.0041\n",
        "\n",
        "app=\ub4dc\ub798\uace4 \ud50c\ub77c\uc774\ud2b8 for Kakao(382), keyword=+\"\uacf5\ub7b5\"(1109605), both=\ub4dc\ub798\uace4 \ud50c\ub77c\uc774\ud2b8 for Kakao++\"\uacf5\ub7b5\"(104), pmi=-2.390\n",
        "\n",
        "382"
       ]
      },
      {
       "output_type": "stream",
       "stream": "stdout",
       "text": [
        "\n",
        "358302"
       ]
      },
      {
       "output_type": "stream",
       "stream": "stdout",
       "text": [
        "\n",
        "36"
       ]
      },
      {
       "output_type": "stream",
       "stream": "stdout",
       "text": [
        "\n",
        "382"
       ]
      },
      {
       "output_type": "stream",
       "stream": "stdout",
       "text": [
        " 358302 36 1000000000.0\n",
        "val=0.0038\n",
        "\n",
        "app=\ub4dc\ub798\uace4 \ud50c\ub77c\uc774\ud2b8 for Kakao(382), keyword=+\"\ub808\uc774\uc2f1\"(358302), both=\ub4dc\ub798\uace4 \ud50c\ub77c\uc774\ud2b8 for Kakao++\"\ub808\uc774\uc2f1\"(36), pmi=-2.420\n",
        "\n",
        "382"
       ]
      },
      {
       "output_type": "stream",
       "stream": "stdout",
       "text": [
        "\n",
        "209268"
       ]
      },
      {
       "output_type": "stream",
       "stream": "stdout",
       "text": [
        "\n",
        "29"
       ]
      },
      {
       "output_type": "stream",
       "stream": "stdout",
       "text": [
        "\n",
        "382"
       ]
      },
      {
       "output_type": "stream",
       "stream": "stdout",
       "text": [
        " 209268 29 1000000000.0\n",
        "val=0.0028\n",
        "\n",
        "app=\ub4dc\ub798\uace4 \ud50c\ub77c\uc774\ud2b8 for Kakao(382), keyword=+\"RPG\"(209268), both=\ub4dc\ub798\uace4 \ud50c\ub77c\uc774\ud2b8 for Kakao++\"RPG\"(29), pmi=-2.560\n"
       ]
      },
      {
       "output_type": "stream",
       "stream": "stdout",
       "text": [
        "\n",
        "382"
       ]
      },
      {
       "output_type": "stream",
       "stream": "stdout",
       "text": [
        "\n",
        "5037696"
       ]
      },
      {
       "output_type": "stream",
       "stream": "stdout",
       "text": [
        "\n",
        "61"
       ]
      },
      {
       "output_type": "stream",
       "stream": "stdout",
       "text": [
        "\n",
        "382"
       ]
      },
      {
       "output_type": "stream",
       "stream": "stdout",
       "text": [
        " 5037696 61 1000000000.0\n",
        "val=0.0315\n",
        "\n",
        "app=\ub4dc\ub798\uace4 \ud50c\ub77c\uc774\ud2b8 for Kakao(382), keyword=+\"\uce74\ub4dc\"(5037696), both=\ub4dc\ub798\uace4 \ud50c\ub77c\uc774\ud2b8 for Kakao++\"\uce74\ub4dc\"(61), pmi=-1.501\n",
        "\n",
        "382"
       ]
      },
      {
       "output_type": "stream",
       "stream": "stdout",
       "text": [
        "\n",
        "100548"
       ]
      },
      {
       "output_type": "stream",
       "stream": "stdout",
       "text": [
        "\n",
        "15"
       ]
      },
      {
       "output_type": "stream",
       "stream": "stdout",
       "text": [
        "\n",
        "382"
       ]
      },
      {
       "output_type": "stream",
       "stream": "stdout",
       "text": [
        " 100548 15 1000000000.0\n",
        "val=0.0026\n",
        "\n",
        "app=\ub4dc\ub798\uace4 \ud50c\ub77c\uc774\ud2b8 for Kakao(382), keyword=+\"\ub514\ud39c\uc2a4\"(100548), both=\ub4dc\ub798\uace4 \ud50c\ub77c\uc774\ud2b8 for Kakao++\"\ub514\ud39c\uc2a4\"(15), pmi=-2.592\n",
        "\n",
        "382"
       ]
      },
      {
       "output_type": "stream",
       "stream": "stdout",
       "text": [
        "\n",
        "547803"
       ]
      },
      {
       "output_type": "stream",
       "stream": "stdout",
       "text": [
        "\n",
        "7"
       ]
      },
      {
       "output_type": "stream",
       "stream": "stdout",
       "text": [
        "\n",
        "382"
       ]
      },
      {
       "output_type": "stream",
       "stream": "stdout",
       "text": [
        " 547803 7 1000000000.0\n",
        "val=0.0299\n",
        "\n",
        "app=\ub4dc\ub798\uace4 \ud50c\ub77c\uc774\ud2b8 for Kakao(382), keyword=+\"\ub450\ub1cc\"(547803), both=\ub4dc\ub798\uace4 \ud50c\ub77c\uc774\ud2b8 for Kakao++\"\ub450\ub1cc\"(7), pmi=-1.524\n",
        "\n",
        "382"
       ]
      },
      {
       "output_type": "stream",
       "stream": "stdout",
       "text": [
        "\n",
        "23082"
       ]
      },
      {
       "output_type": "stream",
       "stream": "stdout",
       "text": [
        "\n",
        "except 0"
       ]
      },
      {
       "output_type": "stream",
       "stream": "stdout",
       "text": [
        "\n",
        "382"
       ]
      },
      {
       "output_type": "stream",
       "stream": "stdout",
       "text": [
        " 23082 0 1000000000.0\n",
        "val=8817324.0000\n",
        "\n",
        "app=\ub4dc\ub798\uace4 \ud50c\ub77c\uc774\ud2b8 for Kakao(382), keyword=+\"\uc2dc\ubbac\"(23082), both=\ub4dc\ub798\uace4 \ud50c\ub77c\uc774\ud2b8 for Kakao++\"\uc2dc\ubbac\"(0), pmi=6.945\n",
        "\n",
        "382"
       ]
      },
      {
       "output_type": "stream",
       "stream": "stdout",
       "text": [
        "\n",
        "642018"
       ]
      },
      {
       "output_type": "stream",
       "stream": "stdout",
       "text": [
        "\n",
        "22"
       ]
      },
      {
       "output_type": "stream",
       "stream": "stdout",
       "text": [
        "\n",
        "382"
       ]
      },
      {
       "output_type": "stream",
       "stream": "stdout",
       "text": [
        " 642018 22 1000000000.0\n",
        "val=0.0111\n",
        "\n",
        "app=\ub4dc\ub798\uace4 \ud50c\ub77c\uc774\ud2b8 for Kakao(382), keyword=+\"\ub2ec\ub9ac\uae30\"(642018), both=\ub4dc\ub798\uace4 \ud50c\ub77c\uc774\ud2b8 for Kakao++\"\ub2ec\ub9ac\uae30\"(22), pmi=-1.953\n",
        "\n",
        "382"
       ]
      },
      {
       "output_type": "stream",
       "stream": "stdout",
       "text": [
        "\n",
        "230539"
       ]
      },
      {
       "output_type": "stream",
       "stream": "stdout",
       "text": [
        "\n",
        "76"
       ]
      },
      {
       "output_type": "stream",
       "stream": "stdout",
       "text": [
        "\n",
        "382"
       ]
      },
      {
       "output_type": "stream",
       "stream": "stdout",
       "text": [
        " 230539 76 1000000000.0\n",
        "val=0.0012\n",
        "\n",
        "app=\ub4dc\ub798\uace4 \ud50c\ub77c\uc774\ud2b8 for Kakao(382), keyword=+\"\uc288\ud305\"(230539), both=\ub4dc\ub798\uace4 \ud50c\ub77c\uc774\ud2b8 for Kakao++\"\uc288\ud305\"(76), pmi=-2.936\n",
        "\n",
        "382"
       ]
      },
      {
       "output_type": "stream",
       "stream": "stdout",
       "text": [
        "\n",
        "1745782"
       ]
      },
      {
       "output_type": "stream",
       "stream": "stdout",
       "text": [
        "\n",
        "5"
       ]
      },
      {
       "output_type": "stream",
       "stream": "stdout",
       "text": [
        "\n",
        "382"
       ]
      },
      {
       "output_type": "stream",
       "stream": "stdout",
       "text": [
        " 1745782 5 1000000000.0\n",
        "val=0.1334\n",
        "\n",
        "app=\ub4dc\ub798\uace4 \ud50c\ub77c\uc774\ud2b8 for Kakao(382), keyword=+\"\ucd95\uad6c\"(1745782), both=\ub4dc\ub798\uace4 \ud50c\ub77c\uc774\ud2b8 for Kakao++\"\ucd95\uad6c\"(5), pmi=-0.875\n",
        "\n",
        "382"
       ]
      },
      {
       "output_type": "stream",
       "stream": "stdout",
       "text": [
        "\n",
        "1831243"
       ]
      },
      {
       "output_type": "stream",
       "stream": "stdout",
       "text": [
        "\n",
        "3"
       ]
      },
      {
       "output_type": "stream",
       "stream": "stdout",
       "text": [
        "\n",
        "382"
       ]
      },
      {
       "output_type": "stream",
       "stream": "stdout",
       "text": [
        " 1831243 3 1000000000.0\n",
        "val=0.2332\n",
        "\n",
        "app=\ub4dc\ub798\uace4 \ud50c\ub77c\uc774\ud2b8 for Kakao(382), keyword=+\"\uacbd\uc601\"(1831243), both=\ub4dc\ub798\uace4 \ud50c\ub77c\uc774\ud2b8 for Kakao++\"\uacbd\uc601\"(3), pmi=-0.632\n",
        "\n",
        "382"
       ]
      },
      {
       "output_type": "stream",
       "stream": "stdout",
       "text": [
        "\n",
        "32917"
       ]
      },
      {
       "output_type": "stream",
       "stream": "stdout",
       "text": [
        "\n",
        "2"
       ]
      },
      {
       "output_type": "stream",
       "stream": "stdout",
       "text": [
        "\n",
        "382"
       ]
      },
      {
       "output_type": "stream",
       "stream": "stdout",
       "text": [
        " 32917 2 1000000000.0\n",
        "val=0.0063\n",
        "\n",
        "app=\ub4dc\ub798\uace4 \ud50c\ub77c\uc774\ud2b8 for Kakao(382), keyword=+\"\ud0c0\uc774\ucfe4\"(32917), both=\ub4dc\ub798\uace4 \ud50c\ub77c\uc774\ud2b8 for Kakao++\"\ud0c0\uc774\ucfe4\"(2), pmi=-2.202\n",
        "\n",
        "382"
       ]
      },
      {
       "output_type": "stream",
       "stream": "stdout",
       "text": [
        "\n",
        "1170300"
       ]
      },
      {
       "output_type": "stream",
       "stream": "stdout",
       "text": [
        "\n",
        "6"
       ]
      },
      {
       "output_type": "stream",
       "stream": "stdout",
       "text": [
        "\n",
        "382"
       ]
      },
      {
       "output_type": "stream",
       "stream": "stdout",
       "text": [
        " 1170300 6 1000000000.0\n",
        "val=0.0745\n",
        "\n",
        "app=\ub4dc\ub798\uace4 \ud50c\ub77c\uc774\ud2b8 for Kakao(382), keyword=+\"\ud0c8\ucd9c\"(1170300), both=\ub4dc\ub798\uace4 \ud50c\ub77c\uc774\ud2b8 for Kakao++\"\ud0c8\ucd9c\"(6), pmi=-1.128\n"
       ]
      },
      {
       "output_type": "stream",
       "stream": "stdout",
       "text": [
        "\n",
        "382"
       ]
      },
      {
       "output_type": "stream",
       "stream": "stdout",
       "text": [
        "\n",
        "391505"
       ]
      },
      {
       "output_type": "stream",
       "stream": "stdout",
       "text": [
        "\n",
        "3"
       ]
      },
      {
       "output_type": "stream",
       "stream": "stdout",
       "text": [
        "\n",
        "382"
       ]
      },
      {
       "output_type": "stream",
       "stream": "stdout",
       "text": [
        " 391505 3 1000000000.0\n",
        "val=0.0499\n",
        "\n",
        "app=\ub4dc\ub798\uace4 \ud50c\ub77c\uc774\ud2b8 for Kakao(382), keyword=+\"\ucd94\ub9ac\"(391505), both=\ub4dc\ub798\uace4 \ud50c\ub77c\uc774\ud2b8 for Kakao++\"\ucd94\ub9ac\"(3), pmi=-1.302\n",
        "\n",
        "382"
       ]
      },
      {
       "output_type": "stream",
       "stream": "stdout",
       "text": [
        "\n",
        "1488636"
       ]
      },
      {
       "output_type": "stream",
       "stream": "stdout",
       "text": [
        "\n",
        "4"
       ]
      },
      {
       "output_type": "stream",
       "stream": "stdout",
       "text": [
        "\n",
        "382"
       ]
      },
      {
       "output_type": "stream",
       "stream": "stdout",
       "text": [
        " 1488636 4 1000000000.0\n",
        "val=0.1422\n",
        "\n",
        "app=\ub4dc\ub798\uace4 \ud50c\ub77c\uc774\ud2b8 for Kakao(382), keyword=+\"\uc7a5\uae30\"(1488636), both=\ub4dc\ub798\uace4 \ud50c\ub77c\uc774\ud2b8 for Kakao++\"\uc7a5\uae30\"(4), pmi=-0.847\n",
        "\n",
        "382"
       ]
      },
      {
       "output_type": "stream",
       "stream": "stdout",
       "text": [
        "\n",
        "1958839"
       ]
      },
      {
       "output_type": "stream",
       "stream": "stdout",
       "text": [
        "\n",
        "41"
       ]
      },
      {
       "output_type": "stream",
       "stream": "stdout",
       "text": [
        "\n",
        "382"
       ]
      },
      {
       "output_type": "stream",
       "stream": "stdout",
       "text": [
        " 1958839 41 1000000000.0\n",
        "val=0.0183\n",
        "\n",
        "app=\ub4dc\ub798\uace4 \ud50c\ub77c\uc774\ud2b8 for Kakao(382), keyword=+\"\ube44\ud589\uae30\"(1958839), both=\ub4dc\ub798\uace4 \ud50c\ub77c\uc774\ud2b8 for Kakao++\"\ube44\ud589\uae30\"(41), pmi=-1.739\n",
        "\n",
        "382"
       ]
      },
      {
       "output_type": "stream",
       "stream": "stdout",
       "text": [
        "\n",
        "33753"
       ]
      },
      {
       "output_type": "stream",
       "stream": "stdout",
       "text": [
        "\n",
        "5"
       ]
      },
      {
       "output_type": "stream",
       "stream": "stdout",
       "text": [
        "\n",
        "382"
       ]
      },
      {
       "output_type": "stream",
       "stream": "stdout",
       "text": [
        " 33753 5 1000000000.0\n",
        "val=0.0026\n",
        "\n",
        "app=\ub4dc\ub798\uace4 \ud50c\ub77c\uc774\ud2b8 for Kakao(382), keyword=+\"\uc0ac\ucc9c\uc131\"(33753), both=\ub4dc\ub798\uace4 \ud50c\ub77c\uc774\ud2b8 for Kakao++\"\uc0ac\ucc9c\uc131\"(5), pmi=-2.589\n",
        "\n",
        "382"
       ]
      },
      {
       "output_type": "stream",
       "stream": "stdout",
       "text": [
        "\n",
        "2493636"
       ]
      },
      {
       "output_type": "stream",
       "stream": "stdout",
       "text": [
        "\n",
        "13"
       ]
      },
      {
       "output_type": "stream",
       "stream": "stdout",
       "text": [
        "\n",
        "382"
       ]
      },
      {
       "output_type": "stream",
       "stream": "stdout",
       "text": [
        " 2493636 13 1000000000.0\n",
        "val=0.0733\n",
        "\n",
        "app=\ub4dc\ub798\uace4 \ud50c\ub77c\uc774\ud2b8 for Kakao(382), keyword=+\"\uc2a4\ud3ec\uce20\"(2493636), both=\ub4dc\ub798\uace4 \ud50c\ub77c\uc774\ud2b8 for Kakao++\"\uc2a4\ud3ec\uce20\"(13), pmi=-1.135\n",
        "\n",
        "382"
       ]
      },
      {
       "output_type": "stream",
       "stream": "stdout",
       "text": [
        "\n",
        "493887"
       ]
      },
      {
       "output_type": "stream",
       "stream": "stdout",
       "text": [
        "\n",
        "2"
       ]
      },
      {
       "output_type": "stream",
       "stream": "stdout",
       "text": [
        "\n",
        "382"
       ]
      },
      {
       "output_type": "stream",
       "stream": "stdout",
       "text": [
        " 493887 2 1000000000.0\n",
        "val=0.0943\n",
        "\n",
        "app=\ub4dc\ub798\uace4 \ud50c\ub77c\uc774\ud2b8 for Kakao(382), keyword=+\"\ub18d\uad6c\"(493887), both=\ub4dc\ub798\uace4 \ud50c\ub77c\uc774\ud2b8 for Kakao++\"\ub18d\uad6c\"(2), pmi=-1.025\n",
        "\n",
        "382"
       ]
      },
      {
       "output_type": "stream",
       "stream": "stdout",
       "text": [
        "\n",
        "1186104"
       ]
      },
      {
       "output_type": "stream",
       "stream": "stdout",
       "text": [
        "\n",
        "9"
       ]
      },
      {
       "output_type": "stream",
       "stream": "stdout",
       "text": [
        "\n",
        "382"
       ]
      },
      {
       "output_type": "stream",
       "stream": "stdout",
       "text": [
        " 1186104 9 1000000000.0\n",
        "val=0.0503\n",
        "\n",
        "app=\ub4dc\ub798\uace4 \ud50c\ub77c\uc774\ud2b8 for Kakao(382), keyword=+\"\ub09a\uc2dc\"(1186104), both=\ub4dc\ub798\uace4 \ud50c\ub77c\uc774\ud2b8 for Kakao++\"\ub09a\uc2dc\"(9), pmi=-1.298\n",
        "\n",
        "382"
       ]
      },
      {
       "output_type": "stream",
       "stream": "stdout",
       "text": [
        "\n",
        "7514040"
       ]
      },
      {
       "output_type": "stream",
       "stream": "stdout",
       "text": [
        "\n",
        "29"
       ]
      },
      {
       "output_type": "stream",
       "stream": "stdout",
       "text": [
        "\n",
        "382"
       ]
      },
      {
       "output_type": "stream",
       "stream": "stdout",
       "text": [
        " 7514040 29 1000000000.0\n",
        "val=0.0990\n",
        "\n",
        "app=\ub4dc\ub798\uace4 \ud50c\ub77c\uc774\ud2b8 for Kakao(382), keyword=+\"\uc74c\uc545\"(7514040), both=\ub4dc\ub798\uace4 \ud50c\ub77c\uc774\ud2b8 for Kakao++\"\uc74c\uc545\"(29), pmi=-1.004\n",
        "\n",
        "382"
       ]
      },
      {
       "output_type": "stream",
       "stream": "stdout",
       "text": [
        "\n",
        "1021089"
       ]
      },
      {
       "output_type": "stream",
       "stream": "stdout",
       "text": [
        "\n",
        "93"
       ]
      },
      {
       "output_type": "stream",
       "stream": "stdout",
       "text": [
        "\n",
        "382"
       ]
      },
      {
       "output_type": "stream",
       "stream": "stdout",
       "text": [
        " 1021089 93 1000000000.0\n",
        "val=0.0042\n",
        "\n",
        "app=\ub4dc\ub798\uace4 \ud50c\ub77c\uc774\ud2b8 for Kakao(382), keyword=+\"\uce74\ud1a1\"(1021089), both=\ub4dc\ub798\uace4 \ud50c\ub77c\uc774\ud2b8 for Kakao++\"\uce74\ud1a1\"(93), pmi=-2.377\n",
        "\n",
        "382"
       ]
      },
      {
       "output_type": "stream",
       "stream": "stdout",
       "text": [
        "\n",
        "1043429"
       ]
      },
      {
       "output_type": "stream",
       "stream": "stdout",
       "text": [
        "\n",
        "4"
       ]
      },
      {
       "output_type": "stream",
       "stream": "stdout",
       "text": [
        "\n",
        "382"
       ]
      },
      {
       "output_type": "stream",
       "stream": "stdout",
       "text": [
        " 1043429 4 1000000000.0\n",
        "val=0.0996\n",
        "\n",
        "app=\ub4dc\ub798\uace4 \ud50c\ub77c\uc774\ud2b8 for Kakao(382), keyword=+\"\uace8\ud504\"(1043429), both=\ub4dc\ub798\uace4 \ud50c\ub77c\uc774\ud2b8 for Kakao++\"\uace8\ud504\"(4), pmi=-1.002\n",
        "\n",
        "382"
       ]
      },
      {
       "output_type": "stream",
       "stream": "stdout",
       "text": [
        "\n",
        "121691"
       ]
      },
      {
       "output_type": "stream",
       "stream": "stdout",
       "text": [
        "\n",
        "1"
       ]
      },
      {
       "output_type": "stream",
       "stream": "stdout",
       "text": [
        "\n",
        "382"
       ]
      },
      {
       "output_type": "stream",
       "stream": "stdout",
       "text": [
        " 121691 1 1000000000.0\n",
        "val=0.0465\n",
        "\n",
        "app=\ub4dc\ub798\uace4 \ud50c\ub77c\uc774\ud2b8 for Kakao(382), keyword=+\"\ub2f9\uad6c\"(121691), both=\ub4dc\ub798\uace4 \ud50c\ub77c\uc774\ud2b8 for Kakao++\"\ub2f9\uad6c\"(1), pmi=-1.333\n"
       ]
      },
      {
       "output_type": "stream",
       "stream": "stdout",
       "text": [
        "\n",
        "382"
       ]
      },
      {
       "output_type": "stream",
       "stream": "stdout",
       "text": [
        "\n",
        "1395628"
       ]
      },
      {
       "output_type": "stream",
       "stream": "stdout",
       "text": [
        "\n",
        "21"
       ]
      },
      {
       "output_type": "stream",
       "stream": "stdout",
       "text": [
        "\n",
        "382"
       ]
      },
      {
       "output_type": "stream",
       "stream": "stdout",
       "text": [
        " 1395628 21 1000000000.0\n",
        "val=0.0254\n",
        "\n",
        "app=\ub4dc\ub798\uace4 \ud50c\ub77c\uc774\ud2b8 for Kakao(382), keyword=+\"\uc57c\uad6c\"(1395628), both=\ub4dc\ub798\uace4 \ud50c\ub77c\uc774\ud2b8 for Kakao++\"\uc57c\uad6c\"(21), pmi=-1.595\n",
        "\n",
        "382"
       ]
      },
      {
       "output_type": "stream",
       "stream": "stdout",
       "text": [
        "\n",
        "120180"
       ]
      },
      {
       "output_type": "stream",
       "stream": "stdout",
       "text": [
        "\n",
        "2"
       ]
      },
      {
       "output_type": "stream",
       "stream": "stdout",
       "text": [
        "\n",
        "382"
       ]
      },
      {
       "output_type": "stream",
       "stream": "stdout",
       "text": [
        " 120180 2 1000000000.0\n",
        "val=0.0230\n",
        "\n",
        "app=\ub4dc\ub798\uace4 \ud50c\ub77c\uc774\ud2b8 for Kakao(382), keyword=+\"\ubcfc\ub9c1\"(120180), both=\ub4dc\ub798\uace4 \ud50c\ub77c\uc774\ud2b8 for Kakao++\"\ubcfc\ub9c1\"(2), pmi=-1.639\n"
       ]
      },
      {
       "output_type": "stream",
       "stream": "stdout",
       "text": [
        "\n",
        "382"
       ]
      },
      {
       "output_type": "stream",
       "stream": "stdout",
       "text": [
        "\n",
        "1768"
       ]
      },
      {
       "output_type": "stream",
       "stream": "stdout",
       "text": [
        "\n",
        "except 0"
       ]
      },
      {
       "output_type": "stream",
       "stream": "stdout",
       "text": [
        "\n",
        "382"
       ]
      },
      {
       "output_type": "stream",
       "stream": "stdout",
       "text": [
        " 1768 0 1000000000.0\n",
        "val=675376.0000\n",
        "\n",
        "app=\ub4dc\ub798\uace4 \ud50c\ub77c\uc774\ud2b8 for Kakao(382), keyword=+\"\ud14c\uc774\uc2a4\"(1768), both=\ub4dc\ub798\uace4 \ud50c\ub77c\uc774\ud2b8 for Kakao++\"\ud14c\uc774\uc2a4\"(0), pmi=5.830\n",
        "\n",
        "382"
       ]
      },
      {
       "output_type": "stream",
       "stream": "stdout",
       "text": [
        "\n",
        "238838"
       ]
      },
      {
       "output_type": "stream",
       "stream": "stdout",
       "text": [
        "\n",
        "18"
       ]
      },
      {
       "output_type": "stream",
       "stream": "stdout",
       "text": [
        "\n",
        "382"
       ]
      },
      {
       "output_type": "stream",
       "stream": "stdout",
       "text": [
        " 238838 18 1000000000.0\n",
        "val=0.0051\n",
        "\n",
        "app=\ub4dc\ub798\uace4 \ud50c\ub77c\uc774\ud2b8 for Kakao(382), keyword=+\"\uc0bc\uad6d\uc9c0\"(238838), both=\ub4dc\ub798\uace4 \ud50c\ub77c\uc774\ud2b8 for Kakao++\"\uc0bc\uad6d\uc9c0\"(18), pmi=-2.295\n",
        "\n",
        "382"
       ]
      },
      {
       "output_type": "stream",
       "stream": "stdout",
       "text": [
        "\n",
        "24214"
       ]
      },
      {
       "output_type": "stream",
       "stream": "stdout",
       "text": [
        "\n",
        "10"
       ]
      },
      {
       "output_type": "stream",
       "stream": "stdout",
       "text": [
        "\n",
        "382"
       ]
      },
      {
       "output_type": "stream",
       "stream": "stdout",
       "text": [
        " 24214 10 1000000000.0\n",
        "val=0.0009\n",
        "\n",
        "app=\ub4dc\ub798\uace4 \ud50c\ub77c\uc774\ud2b8 for Kakao(382), keyword=+\"TCG\"(24214), both=\ub4dc\ub798\uace4 \ud50c\ub77c\uc774\ud2b8 for Kakao++\"TCG\"(10), pmi=-3.034\n",
        "\n",
        "382"
       ]
      },
      {
       "output_type": "stream",
       "stream": "stdout",
       "text": [
        "\n",
        "3481059"
       ]
      },
      {
       "output_type": "stream",
       "stream": "stdout",
       "text": [
        "\n",
        "12"
       ]
      },
      {
       "output_type": "stream",
       "stream": "stdout",
       "text": [
        "\n",
        "382"
       ]
      },
      {
       "output_type": "stream",
       "stream": "stdout",
       "text": [
        " 3481059 12 1000000000.0\n",
        "val=0.1108\n",
        "\n",
        "app=\ub4dc\ub798\uace4 \ud50c\ub77c\uc774\ud2b8 for Kakao(382), keyword=+\"\uc804\uc7c1\"(3481059), both=\ub4dc\ub798\uace4 \ud50c\ub77c\uc774\ud2b8 for Kakao++\"\uc804\uc7c1\"(12), pmi=-0.955\n",
        "\n",
        "382"
       ]
      },
      {
       "output_type": "stream",
       "stream": "stdout",
       "text": [
        "\n",
        "9385348"
       ]
      },
      {
       "output_type": "stream",
       "stream": "stdout",
       "text": [
        "\n",
        "8"
       ]
      },
      {
       "output_type": "stream",
       "stream": "stdout",
       "text": [
        "\n",
        "382"
       ]
      },
      {
       "output_type": "stream",
       "stream": "stdout",
       "text": [
        " 9385348 8 1000000000.0\n",
        "val=0.4482\n",
        "\n",
        "app=\ub4dc\ub798\uace4 \ud50c\ub77c\uc774\ud2b8 for Kakao(382), keyword=+\"\uac74\uac15\"(9385348), both=\ub4dc\ub798\uace4 \ud50c\ub77c\uc774\ud2b8 for Kakao++\"\uac74\uac15\"(8), pmi=-0.349\n",
        "\n",
        "382"
       ]
      },
      {
       "output_type": "stream",
       "stream": "stdout",
       "text": [
        "\n",
        "6675437"
       ]
      },
      {
       "output_type": "stream",
       "stream": "stdout",
       "text": [
        "\n",
        "4"
       ]
      },
      {
       "output_type": "stream",
       "stream": "stdout",
       "text": [
        "\n",
        "382"
       ]
      },
      {
       "output_type": "stream",
       "stream": "stdout",
       "text": [
        " 6675437 4 1000000000.0\n",
        "val=0.6375\n",
        "\n",
        "app=\ub4dc\ub798\uace4 \ud50c\ub77c\uc774\ud2b8 for Kakao(382), keyword=+\"\uc6b4\ub3d9\"(6675437), both=\ub4dc\ub798\uace4 \ud50c\ub77c\uc774\ud2b8 for Kakao++\"\uc6b4\ub3d9\"(4), pmi=-0.196\n"
       ]
      },
      {
       "output_type": "stream",
       "stream": "stdout",
       "text": [
        "\n",
        "382"
       ]
      },
      {
       "output_type": "stream",
       "stream": "stdout",
       "text": [
        "\n",
        "7017846"
       ]
      },
      {
       "output_type": "stream",
       "stream": "stdout",
       "text": [
        "\n",
        "3"
       ]
      },
      {
       "output_type": "stream",
       "stream": "stdout",
       "text": [
        "\n",
        "382"
       ]
      },
      {
       "output_type": "stream",
       "stream": "stdout",
       "text": [
        " 7017846 3 1000000000.0\n",
        "val=0.8936\n",
        "\n",
        "app=\ub4dc\ub798\uace4 \ud50c\ub77c\uc774\ud2b8 for Kakao(382), keyword=+\"\uad50\uc721\"(7017846), both=\ub4dc\ub798\uace4 \ud50c\ub77c\uc774\ud2b8 for Kakao++\"\uad50\uc721\"(3), pmi=-0.049\n",
        "\n",
        "382"
       ]
      },
      {
       "output_type": "stream",
       "stream": "stdout",
       "text": [
        "\n",
        "3744842"
       ]
      },
      {
       "output_type": "stream",
       "stream": "stdout",
       "text": [
        "\n",
        "10"
       ]
      },
      {
       "output_type": "stream",
       "stream": "stdout",
       "text": [
        "\n",
        "382"
       ]
      },
      {
       "output_type": "stream",
       "stream": "stdout",
       "text": [
        " 3744842 10 1000000000.0\n",
        "val=0.1431\n",
        "\n",
        "app=\ub4dc\ub798\uace4 \ud50c\ub77c\uc774\ud2b8 for Kakao(382), keyword=+\"\uad50\ud1b5\"(3744842), both=\ub4dc\ub798\uace4 \ud50c\ub77c\uc774\ud2b8 for Kakao++\"\uad50\ud1b5\"(10), pmi=-0.845\n",
        "\n",
        "382"
       ]
      },
      {
       "output_type": "stream",
       "stream": "stdout",
       "text": [
        "\n",
        "1799898"
       ]
      },
      {
       "output_type": "stream",
       "stream": "stdout",
       "text": [
        "\n",
        "3"
       ]
      },
      {
       "output_type": "stream",
       "stream": "stdout",
       "text": [
        "\n",
        "382"
       ]
      },
      {
       "output_type": "stream",
       "stream": "stdout",
       "text": [
        " 1799898 3 1000000000.0\n",
        "val=0.2292\n",
        "\n",
        "app=\ub4dc\ub798\uace4 \ud50c\ub77c\uc774\ud2b8 for Kakao(382), keyword=+\"\uae08\uc735\"(1799898), both=\ub4dc\ub798\uace4 \ud50c\ub77c\uc774\ud2b8 for Kakao++\"\uae08\uc735\"(3), pmi=-0.640\n",
        "\n",
        "382"
       ]
      },
      {
       "output_type": "stream",
       "stream": "stdout",
       "text": [
        "\n",
        "8419301"
       ]
      },
      {
       "output_type": "stream",
       "stream": "stdout",
       "text": [
        "\n",
        "9"
       ]
      },
      {
       "output_type": "stream",
       "stream": "stdout",
       "text": [
        "\n",
        "382"
       ]
      },
      {
       "output_type": "stream",
       "stream": "stdout",
       "text": [
        " 8419301 9 1000000000.0\n",
        "val=0.3574\n",
        "\n",
        "app=\ub4dc\ub798\uace4 \ud50c\ub77c\uc774\ud2b8 for Kakao(382), keyword=+\"\ub0a0\uc528\"(8419301), both=\ub4dc\ub798\uace4 \ud50c\ub77c\uc774\ud2b8 for Kakao++\"\ub0a0\uc528\"(9), pmi=-0.447\n",
        "\n",
        "382"
       ]
      },
      {
       "output_type": "stream",
       "stream": "stdout",
       "text": [
        "\n",
        "5579169"
       ]
      },
      {
       "output_type": "stream",
       "stream": "stdout",
       "text": [
        "\n",
        "13"
       ]
      },
      {
       "output_type": "stream",
       "stream": "stdout",
       "text": [
        "\n",
        "382"
       ]
      },
      {
       "output_type": "stream",
       "stream": "stdout",
       "text": [
        " 5579169 13 1000000000.0\n",
        "val=0.1639\n",
        "\n",
        "app=\ub4dc\ub798\uace4 \ud50c\ub77c\uc774\ud2b8 for Kakao(382), keyword=+\"\ub274\uc2a4\"(5579169), both=\ub4dc\ub798\uace4 \ud50c\ub77c\uc774\ud2b8 for Kakao++\"\ub274\uc2a4\"(13), pmi=-0.785\n",
        "\n",
        "382"
       ]
      },
      {
       "output_type": "stream",
       "stream": "stdout",
       "text": [
        "\n",
        "2004211"
       ]
      },
      {
       "output_type": "stream",
       "stream": "stdout",
       "text": [
        "\n",
        "5"
       ]
      },
      {
       "output_type": "stream",
       "stream": "stdout",
       "text": [
        "\n",
        "382"
       ]
      },
      {
       "output_type": "stream",
       "stream": "stdout",
       "text": [
        " 2004211 5 1000000000.0\n",
        "val=0.1531\n",
        "\n",
        "app=\ub4dc\ub798\uace4 \ud50c\ub77c\uc774\ud2b8 for Kakao(382), keyword=+\"\uc7a1\uc9c0\"(2004211), both=\ub4dc\ub798\uace4 \ud50c\ub77c\uc774\ud2b8 for Kakao++\"\uc7a1\uc9c0\"(5), pmi=-0.815\n"
       ]
      },
      {
       "output_type": "stream",
       "stream": "stdout",
       "text": [
        "\n",
        "382"
       ]
      },
      {
       "output_type": "stream",
       "stream": "stdout",
       "text": [
        "\n",
        "123932"
       ]
      },
      {
       "output_type": "stream",
       "stream": "stdout",
       "text": [
        "\n",
        "1"
       ]
      },
      {
       "output_type": "stream",
       "stream": "stdout",
       "text": [
        "\n",
        "382"
       ]
      },
      {
       "output_type": "stream",
       "stream": "stdout",
       "text": [
        " 123932 1 1000000000.0\n",
        "val=0.0473\n",
        "\n",
        "app=\ub4dc\ub798\uace4 \ud50c\ub77c\uc774\ud2b8 for Kakao(382), keyword=+\"\ub370\ucf54\ub808\uc774\uc158\"(123932), both=\ub4dc\ub798\uace4 \ud50c\ub77c\uc774\ud2b8 for Kakao++\"\ub370\ucf54\ub808\uc774\uc158\"(1), pmi=-1.325\n"
       ]
      },
      {
       "output_type": "stream",
       "stream": "stdout",
       "text": [
        "\n",
        "382"
       ]
      },
      {
       "output_type": "stream",
       "stream": "stdout",
       "text": [
        "\n",
        "1807798"
       ]
      },
      {
       "output_type": "stream",
       "stream": "stdout",
       "text": [
        "\n",
        "4"
       ]
      },
      {
       "output_type": "stream",
       "stream": "stdout",
       "text": [
        "\n",
        "382"
       ]
      },
      {
       "output_type": "stream",
       "stream": "stdout",
       "text": [
        " 1807798 4 1000000000.0\n",
        "val=0.1726\n",
        "\n",
        "app=\ub4dc\ub798\uace4 \ud50c\ub77c\uc774\ud2b8 for Kakao(382), keyword=+\"\ub3c4\uad6c\"(1807798), both=\ub4dc\ub798\uace4 \ud50c\ub77c\uc774\ud2b8 for Kakao++\"\ub3c4\uad6c\"(4), pmi=-0.763\n",
        "\n",
        "382"
       ]
      },
      {
       "output_type": "stream",
       "stream": "stdout",
       "text": [
        "\n",
        "1204844"
       ]
      },
      {
       "output_type": "stream",
       "stream": "stdout",
       "text": [
        "\n",
        "4"
       ]
      },
      {
       "output_type": "stream",
       "stream": "stdout",
       "text": [
        "\n",
        "382"
       ]
      },
      {
       "output_type": "stream",
       "stream": "stdout",
       "text": [
        " 1204844 4 1000000000.0\n",
        "val=0.1151\n",
        "\n",
        "app=\ub4dc\ub798\uace4 \ud50c\ub77c\uc774\ud2b8 for Kakao(382), keyword=+\"\ub3c4\uc11c\"(1204844), both=\ub4dc\ub798\uace4 \ud50c\ub77c\uc774\ud2b8 for Kakao++\"\ub3c4\uc11c\"(4), pmi=-0.939\n",
        "\n",
        "382"
       ]
      },
      {
       "output_type": "stream",
       "stream": "stdout",
       "text": [
        "\n",
        "178669"
       ]
      },
      {
       "output_type": "stream",
       "stream": "stdout",
       "text": [
        "\n",
        "1"
       ]
      },
      {
       "output_type": "stream",
       "stream": "stdout",
       "text": [
        "\n",
        "382"
       ]
      },
      {
       "output_type": "stream",
       "stream": "stdout",
       "text": [
        " 178669 1 1000000000.0\n",
        "val=0.0683\n",
        "\n",
        "app=\ub4dc\ub798\uace4 \ud50c\ub77c\uc774\ud2b8 for Kakao(382), keyword=+\"\ucc38\uace0\uc790\ub8cc\"(178669), both=\ub4dc\ub798\uace4 \ud50c\ub77c\uc774\ud2b8 for Kakao++\"\ucc38\uace0\uc790\ub8cc\"(1), pmi=-1.166\n"
       ]
      },
      {
       "output_type": "stream",
       "stream": "stdout",
       "text": [
        "\n",
        "382"
       ]
      },
      {
       "output_type": "stream",
       "stream": "stdout",
       "text": [
        "\n",
        "1138320"
       ]
      },
      {
       "output_type": "stream",
       "stream": "stdout",
       "text": [
        "\n",
        "5"
       ]
      },
      {
       "output_type": "stream",
       "stream": "stdout",
       "text": [
        "\n",
        "382"
       ]
      },
      {
       "output_type": "stream",
       "stream": "stdout",
       "text": [
        " 1138320 5 1000000000.0\n",
        "val=0.0870\n",
        "\n",
        "app=\ub4dc\ub798\uace4 \ud50c\ub77c\uc774\ud2b8 for Kakao(382), keyword=+\"\ub77c\uc774\ube0c\"(1138320), both=\ub4dc\ub798\uace4 \ud50c\ub77c\uc774\ud2b8 for Kakao++\"\ub77c\uc774\ube0c\"(5), pmi=-1.061\n",
        "\n",
        "382"
       ]
      },
      {
       "output_type": "stream",
       "stream": "stdout",
       "text": [
        "\n",
        "228831"
       ]
      },
      {
       "output_type": "stream",
       "stream": "stdout",
       "text": [
        "\n",
        "2"
       ]
      },
      {
       "output_type": "stream",
       "stream": "stdout",
       "text": [
        "\n",
        "382"
       ]
      },
      {
       "output_type": "stream",
       "stream": "stdout",
       "text": [
        " 228831 2 1000000000.0\n",
        "val=0.0437\n",
        "\n",
        "app=\ub4dc\ub798\uace4 \ud50c\ub77c\uc774\ud2b8 for Kakao(382), keyword=+\"\ubc30\uacbd\ud654\uba74\"(228831), both=\ub4dc\ub798\uace4 \ud50c\ub77c\uc774\ud2b8 for Kakao++\"\ubc30\uacbd\ud654\uba74\"(2), pmi=-1.359\n",
        "\n",
        "382"
       ]
      },
      {
       "output_type": "stream",
       "stream": "stdout",
       "text": [
        "\n",
        "135579"
       ]
      },
      {
       "output_type": "stream",
       "stream": "stdout",
       "text": [
        "\n",
        "except 0"
       ]
      },
      {
       "output_type": "stream",
       "stream": "stdout",
       "text": [
        "\n",
        "382"
       ]
      },
      {
       "output_type": "stream",
       "stream": "stdout",
       "text": [
        " 135579 0 1000000000.0\n",
        "val=51791178.0000\n",
        "\n",
        "app=\ub4dc\ub798\uace4 \ud50c\ub77c\uc774\ud2b8 for Kakao(382), keyword=+\"\ub77c\uc774\ube0c\ub7ec\ub9ac\"(135579), both=\ub4dc\ub798\uace4 \ud50c\ub77c\uc774\ud2b8 for Kakao++\"\ub77c\uc774\ube0c\ub7ec\ub9ac\"(0), pmi=7.714\n",
        "\n",
        "382"
       ]
      },
      {
       "output_type": "stream",
       "stream": "stdout",
       "text": [
        "\n",
        "371600"
       ]
      },
      {
       "output_type": "stream",
       "stream": "stdout",
       "text": [
        "\n",
        "1"
       ]
      },
      {
       "output_type": "stream",
       "stream": "stdout",
       "text": [
        "\n",
        "382"
       ]
      },
      {
       "output_type": "stream",
       "stream": "stdout",
       "text": [
        " 371600 1 1000000000.0\n",
        "val=0.1420\n",
        "\n",
        "app=\ub4dc\ub798\uace4 \ud50c\ub77c\uc774\ud2b8 for Kakao(382), keyword=+\"\ub370\ubaa8\"(371600), both=\ub4dc\ub798\uace4 \ud50c\ub77c\uc774\ud2b8 for Kakao++\"\ub370\ubaa8\"(1), pmi=-0.848\n",
        "\n",
        "382"
       ]
      },
      {
       "output_type": "stream",
       "stream": "stdout",
       "text": [
        "\n",
        "145454"
       ]
      },
      {
       "output_type": "stream",
       "stream": "stdout",
       "text": [
        "\n",
        "2"
       ]
      },
      {
       "output_type": "stream",
       "stream": "stdout",
       "text": [
        "\n",
        "382"
       ]
      },
      {
       "output_type": "stream",
       "stream": "stdout",
       "text": [
        " 145454 2 1000000000.0\n",
        "val=0.0278\n",
        "\n",
        "app=\ub4dc\ub798\uace4 \ud50c\ub77c\uc774\ud2b8 for Kakao(382), keyword=+\"\ub77c\uc774\ud504\uc2a4\ud0c0\uc77c\"(145454), both=\ub4dc\ub798\uace4 \ud50c\ub77c\uc774\ud2b8 for Kakao++\"\ub77c\uc774\ud504\uc2a4\ud0c0\uc77c\"(2), pmi=-1.556\n",
        "\n",
        "382"
       ]
      },
      {
       "output_type": "stream",
       "stream": "stdout",
       "text": [
        "\n",
        "16332342"
       ]
      },
      {
       "output_type": "stream",
       "stream": "stdout",
       "text": [
        "\n",
        "42"
       ]
      },
      {
       "output_type": "stream",
       "stream": "stdout",
       "text": [
        "\n",
        "382"
       ]
      },
      {
       "output_type": "stream",
       "stream": "stdout",
       "text": [
        " 16332342 42 1000000000.0\n",
        "val=0.1485\n",
        "\n",
        "app=\ub4dc\ub798\uace4 \ud50c\ub77c\uc774\ud2b8 for Kakao(382), keyword=+\"\ube14\ub85c\uadf8\"(16332342), both=\ub4dc\ub798\uace4 \ud50c\ub77c\uc774\ud2b8 for Kakao++\"\ube14\ub85c\uadf8\"(42), pmi=-0.828\n",
        "\n",
        "382"
       ]
      },
      {
       "output_type": "stream",
       "stream": "stdout",
       "text": [
        "\n",
        "2604463"
       ]
      },
      {
       "output_type": "stream",
       "stream": "stdout",
       "text": [
        "\n",
        "7"
       ]
      },
      {
       "output_type": "stream",
       "stream": "stdout",
       "text": [
        "\n",
        "382"
       ]
      },
      {
       "output_type": "stream",
       "stream": "stdout",
       "text": [
        " 2604463 7 1000000000.0\n",
        "val=0.1421\n",
        "\n",
        "app=\ub4dc\ub798\uace4 \ud50c\ub77c\uc774\ud2b8 for Kakao(382), keyword=+\"\ub9cc\ud654\"(2604463), both=\ub4dc\ub798\uace4 \ud50c\ub77c\uc774\ud2b8 for Kakao++\"\ub9cc\ud654\"(7), pmi=-0.847\n",
        "\n",
        "382"
       ]
      },
      {
       "output_type": "stream",
       "stream": "stdout",
       "text": [
        "\n",
        "1746003"
       ]
      },
      {
       "output_type": "stream",
       "stream": "stdout",
       "text": [
        "\n",
        "7"
       ]
      },
      {
       "output_type": "stream",
       "stream": "stdout",
       "text": [
        "\n",
        "382"
       ]
      },
      {
       "output_type": "stream",
       "stream": "stdout",
       "text": [
        " 1746003 7 1000000000.0\n",
        "val=0.0953\n",
        "\n",
        "app=\ub4dc\ub798\uace4 \ud50c\ub77c\uc774\ud2b8 for Kakao(382), keyword=+\"\ubbf8\ub514\uc5b4\"(1746003), both=\ub4dc\ub798\uace4 \ud50c\ub77c\uc774\ud2b8 for Kakao++\"\ubbf8\ub514\uc5b4\"(7), pmi=-1.021\n",
        "\n",
        "382"
       ]
      },
      {
       "output_type": "stream",
       "stream": "stdout",
       "text": [
        "\n",
        "5421412"
       ]
      },
      {
       "output_type": "stream",
       "stream": "stdout",
       "text": [
        "\n",
        "45"
       ]
      },
      {
       "output_type": "stream",
       "stream": "stdout",
       "text": [
        "\n",
        "382"
       ]
      },
      {
       "output_type": "stream",
       "stream": "stdout",
       "text": [
        " 5421412 45 1000000000.0\n",
        "val=0.0460\n",
        "\n",
        "app=\ub4dc\ub798\uace4 \ud50c\ub77c\uc774\ud2b8 for Kakao(382), keyword=+\"\ub3d9\uc601\uc0c1\"(5421412), both=\ub4dc\ub798\uace4 \ud50c\ub77c\uc774\ud2b8 for Kakao++\"\ub3d9\uc601\uc0c1\"(45), pmi=-1.337\n",
        "\n",
        "382"
       ]
      },
      {
       "output_type": "stream",
       "stream": "stdout",
       "text": [
        "\n",
        "865523"
       ]
      },
      {
       "output_type": "stream",
       "stream": "stdout",
       "text": [
        "\n",
        "4"
       ]
      },
      {
       "output_type": "stream",
       "stream": "stdout",
       "text": [
        "\n",
        "382"
       ]
      },
      {
       "output_type": "stream",
       "stream": "stdout",
       "text": [
        " 865523 4 1000000000.0\n",
        "val=0.0827\n",
        "\n",
        "app=\ub4dc\ub798\uace4 \ud50c\ub77c\uc774\ud2b8 for Kakao(382), keyword=+\"\ube44\uc988\ub2c8\uc2a4\"(865523), both=\ub4dc\ub798\uace4 \ud50c\ub77c\uc774\ud2b8 for Kakao++\"\ube44\uc988\ub2c8\uc2a4\"(4), pmi=-1.083\n",
        "\n",
        "382"
       ]
      },
      {
       "output_type": "stream",
       "stream": "stdout",
       "text": [
        "\n",
        "1700638"
       ]
      },
      {
       "output_type": "stream",
       "stream": "stdout",
       "text": [
        "\n",
        "4"
       ]
      },
      {
       "output_type": "stream",
       "stream": "stdout",
       "text": [
        "\n",
        "382"
       ]
      },
      {
       "output_type": "stream",
       "stream": "stdout",
       "text": [
        " 1700638 4 1000000000.0\n",
        "val=0.1624\n",
        "\n",
        "app=\ub4dc\ub798\uace4 \ud50c\ub77c\uc774\ud2b8 for Kakao(382), keyword=+\"\ud3b8\uc9d1\"(1700638), both=\ub4dc\ub798\uace4 \ud50c\ub77c\uc774\ud2b8 for Kakao++\"\ud3b8\uc9d1\"(4), pmi=-0.789\n"
       ]
      },
      {
       "output_type": "stream",
       "stream": "stdout",
       "text": [
        "\n",
        "382"
       ]
      },
      {
       "output_type": "stream",
       "stream": "stdout",
       "text": [
        "\n",
        "37499668"
       ]
      },
      {
       "output_type": "stream",
       "stream": "stdout",
       "text": [
        "\n",
        "65"
       ]
      },
      {
       "output_type": "stream",
       "stream": "stdout",
       "text": [
        "\n",
        "382"
       ]
      },
      {
       "output_type": "stream",
       "stream": "stdout",
       "text": [
        " 37499668 65 1000000000.0\n",
        "val=0.2204\n",
        "\n",
        "app=\ub4dc\ub798\uace4 \ud50c\ub77c\uc774\ud2b8 for Kakao(382), keyword=+\"\uc0ac\uc9c4\"(37499668), both=\ub4dc\ub798\uace4 \ud50c\ub77c\uc774\ud2b8 for Kakao++\"\uc0ac\uc9c4\"(65), pmi=-0.657\n",
        "\n",
        "382"
       ]
      },
      {
       "output_type": "stream",
       "stream": "stdout",
       "text": [
        "\n",
        "275185"
       ]
      },
      {
       "output_type": "stream",
       "stream": "stdout",
       "text": [
        "\n",
        "1"
       ]
      },
      {
       "output_type": "stream",
       "stream": "stdout",
       "text": [
        "\n",
        "382"
       ]
      },
      {
       "output_type": "stream",
       "stream": "stdout",
       "text": [
        " 275185 1 1000000000.0\n",
        "val=0.1051\n",
        "\n",
        "app=\ub4dc\ub798\uace4 \ud50c\ub77c\uc774\ud2b8 for Kakao(382), keyword=+\"\uc0dd\uc0b0\uc131\"(275185), both=\ub4dc\ub798\uace4 \ud50c\ub77c\uc774\ud2b8 for Kakao++\"\uc0dd\uc0b0\uc131\"(1), pmi=-0.978\n",
        "\n",
        "382"
       ]
      },
      {
       "output_type": "stream",
       "stream": "stdout",
       "text": [
        "\n",
        "1042592"
       ]
      },
      {
       "output_type": "stream",
       "stream": "stdout",
       "text": [
        "\n",
        "55"
       ]
      },
      {
       "output_type": "stream",
       "stream": "stdout",
       "text": [
        "\n",
        "382"
       ]
      },
      {
       "output_type": "stream",
       "stream": "stdout",
       "text": [
        " 1042592 55 1000000000.0\n",
        "val=0.0072\n",
        "\n",
        "app=\ub4dc\ub798\uace4 \ud50c\ub77c\uc774\ud2b8 for Kakao(382), keyword=+\"\uc18c\uc15c\"(1042592), both=\ub4dc\ub798\uace4 \ud50c\ub77c\uc774\ud2b8 for Kakao++\"\uc18c\uc15c\"(55), pmi=-2.140\n"
       ]
      },
      {
       "output_type": "stream",
       "stream": "stdout",
       "text": [
        "\n",
        "382"
       ]
      },
      {
       "output_type": "stream",
       "stream": "stdout",
       "text": [
        "\n",
        "580928"
       ]
      },
      {
       "output_type": "stream",
       "stream": "stdout",
       "text": [
        "\n",
        "30"
       ]
      },
      {
       "output_type": "stream",
       "stream": "stdout",
       "text": [
        "\n",
        "382"
       ]
      },
      {
       "output_type": "stream",
       "stream": "stdout",
       "text": [
        " 580928 30 1000000000.0\n",
        "val=0.0074\n",
        "\n",
        "app=\ub4dc\ub798\uace4 \ud50c\ub77c\uc774\ud2b8 for Kakao(382), keyword=+\"\ucf58\ud150\uce20\"(580928), both=\ub4dc\ub798\uace4 \ud50c\ub77c\uc774\ud2b8 for Kakao++\"\ucf58\ud150\uce20\"(30), pmi=-2.131\n",
        "\n",
        "382"
       ]
      },
      {
       "output_type": "stream",
       "stream": "stdout",
       "text": [
        "\n",
        "2412731"
       ]
      },
      {
       "output_type": "stream",
       "stream": "stdout",
       "text": [
        "\n",
        "3"
       ]
      },
      {
       "output_type": "stream",
       "stream": "stdout",
       "text": [
        "\n",
        "382"
       ]
      },
      {
       "output_type": "stream",
       "stream": "stdout",
       "text": [
        " 2412731 3 1000000000.0\n",
        "val=0.3072\n",
        "\n",
        "app=\ub4dc\ub798\uace4 \ud50c\ub77c\uc774\ud2b8 for Kakao(382), keyword=+\"\uc1fc\ud551\"(2412731), both=\ub4dc\ub798\uace4 \ud50c\ub77c\uc774\ud2b8 for Kakao++\"\uc1fc\ud551\"(3), pmi=-0.513\n"
       ]
      },
      {
       "output_type": "stream",
       "stream": "stdout",
       "text": [
        "\n",
        "382"
       ]
      },
      {
       "output_type": "stream",
       "stream": "stdout",
       "text": [
        "\n",
        "196035"
       ]
      },
      {
       "output_type": "stream",
       "stream": "stdout",
       "text": [
        "\n",
        "3"
       ]
      },
      {
       "output_type": "stream",
       "stream": "stdout",
       "text": [
        "\n",
        "382"
       ]
      },
      {
       "output_type": "stream",
       "stream": "stdout",
       "text": [
        " 196035 3 1000000000.0\n",
        "val=0.0250\n",
        "\n",
        "app=\ub4dc\ub798\uace4 \ud50c\ub77c\uc774\ud2b8 for Kakao(382), keyword=+\"\uc704\uc82f\"(196035), both=\ub4dc\ub798\uace4 \ud50c\ub77c\uc774\ud2b8 for Kakao++\"\uc704\uc82f\"(3), pmi=-1.603\n",
        "\n",
        "382"
       ]
      },
      {
       "output_type": "stream",
       "stream": "stdout",
       "text": [
        "\n",
        "4015500"
       ]
      },
      {
       "output_type": "stream",
       "stream": "stdout",
       "text": [
        "\n",
        "20"
       ]
      },
      {
       "output_type": "stream",
       "stream": "stdout",
       "text": [
        "\n",
        "382"
       ]
      },
      {
       "output_type": "stream",
       "stream": "stdout",
       "text": [
        " 4015500 20 1000000000.0\n",
        "val=0.0767\n",
        "\n",
        "app=\ub4dc\ub798\uace4 \ud50c\ub77c\uc774\ud2b8 for Kakao(382), keyword=+\"\uc790\ub3d9\ucc28\"(4015500), both=\ub4dc\ub798\uace4 \ud50c\ub77c\uc774\ud2b8 for Kakao++\"\uc790\ub3d9\ucc28\"(20), pmi=-1.115\n",
        "\n",
        "382"
       ]
      },
      {
       "output_type": "stream",
       "stream": "stdout",
       "text": [
        "\n",
        "1072063"
       ]
      },
      {
       "output_type": "stream",
       "stream": "stdout",
       "text": [
        "\n",
        "3"
       ]
      },
      {
       "output_type": "stream",
       "stream": "stdout",
       "text": [
        "\n",
        "382"
       ]
      },
      {
       "output_type": "stream",
       "stream": "stdout",
       "text": [
        " 1072063 3 1000000000.0\n",
        "val=0.1365\n",
        "\n",
        "app=\ub4dc\ub798\uace4 \ud50c\ub77c\uc774\ud2b8 for Kakao(382), keyword=+\"\uacbd\uc8fc\"(1072063), both=\ub4dc\ub798\uace4 \ud50c\ub77c\uc774\ud2b8 for Kakao++\"\uacbd\uc8fc\"(3), pmi=-0.865\n",
        "\n",
        "382"
       ]
      },
      {
       "output_type": "stream",
       "stream": "stdout",
       "text": [
        "\n",
        "2432400"
       ]
      },
      {
       "output_type": "stream",
       "stream": "stdout",
       "text": [
        "\n",
        "4"
       ]
      },
      {
       "output_type": "stream",
       "stream": "stdout",
       "text": [
        "\n",
        "382"
       ]
      },
      {
       "output_type": "stream",
       "stream": "stdout",
       "text": [
        " 2432400 4 1000000000.0\n",
        "val=0.2323\n",
        "\n",
        "app=\ub4dc\ub798\uace4 \ud50c\ub77c\uc774\ud2b8 for Kakao(382), keyword=+\"\ub2e4\uc774\uc5b4\ud2b8\"(2432400), both=\ub4dc\ub798\uace4 \ud50c\ub77c\uc774\ud2b8 for Kakao++\"\ub2e4\uc774\uc5b4\ud2b8\"(4), pmi=-0.634\n",
        "\n",
        "382"
       ]
      },
      {
       "output_type": "stream",
       "stream": "stdout",
       "text": [
        "\n",
        "580894"
       ]
      },
      {
       "output_type": "stream",
       "stream": "stdout",
       "text": [
        "\n",
        "3"
       ]
      },
      {
       "output_type": "stream",
       "stream": "stdout",
       "text": [
        "\n",
        "382"
       ]
      },
      {
       "output_type": "stream",
       "stream": "stdout",
       "text": [
        " 580894 3 1000000000.0\n",
        "val=0.0740\n",
        "\n",
        "app=\ub4dc\ub798\uace4 \ud50c\ub77c\uc774\ud2b8 for Kakao(382), keyword=+\"\ub2ec\ub825\"(580894), both=\ub4dc\ub798\uace4 \ud50c\ub77c\uc774\ud2b8 for Kakao++\"\ub2ec\ub825\"(3), pmi=-1.131\n"
       ]
      },
      {
       "output_type": "stream",
       "stream": "stdout",
       "text": [
        "\n",
        "382"
       ]
      },
      {
       "output_type": "stream",
       "stream": "stdout",
       "text": [
        "\n",
        "425039"
       ]
      },
      {
       "output_type": "stream",
       "stream": "stdout",
       "text": [
        "\n",
        "1"
       ]
      },
      {
       "output_type": "stream",
       "stream": "stdout",
       "text": [
        "\n",
        "382"
       ]
      },
      {
       "output_type": "stream",
       "stream": "stdout",
       "text": [
        " 425039 1 1000000000.0\n",
        "val=0.1624\n",
        "\n",
        "app=\ub4dc\ub798\uace4 \ud50c\ub77c\uc774\ud2b8 for Kakao(382), keyword=+\"\uc0dd\ub9ac\"(425039), both=\ub4dc\ub798\uace4 \ud50c\ub77c\uc774\ud2b8 for Kakao++\"\uc0dd\ub9ac\"(1), pmi=-0.790\n",
        "\n",
        "382"
       ]
      },
      {
       "output_type": "stream",
       "stream": "stdout",
       "text": [
        "\n",
        "117655"
       ]
      },
      {
       "output_type": "stream",
       "stream": "stdout",
       "text": [
        "\n",
        "3"
       ]
      },
      {
       "output_type": "stream",
       "stream": "stdout",
       "text": [
        "\n",
        "382"
       ]
      },
      {
       "output_type": "stream",
       "stream": "stdout",
       "text": [
        " 117655 3 1000000000.0\n",
        "val=0.0150\n",
        "\n",
        "app=\ub4dc\ub798\uace4 \ud50c\ub77c\uc774\ud2b8 for Kakao(382), keyword=+\"\uce98\ub9b0\ub354\"(117655), both=\ub4dc\ub798\uace4 \ud50c\ub77c\uc774\ud2b8 for Kakao++\"\uce98\ub9b0\ub354\"(3), pmi=-1.824\n"
       ]
      },
      {
       "output_type": "stream",
       "stream": "stdout",
       "text": [
        "\n",
        "382"
       ]
      },
      {
       "output_type": "stream",
       "stream": "stdout",
       "text": [
        "\n",
        "23997"
       ]
      },
      {
       "output_type": "stream",
       "stream": "stdout",
       "text": [
        "\n",
        "except 0"
       ]
      },
      {
       "output_type": "stream",
       "stream": "stdout",
       "text": [
        "\n",
        "382"
       ]
      },
      {
       "output_type": "stream",
       "stream": "stdout",
       "text": [
        " 23997 0 1000000000.0\n",
        "val=9166854.0000\n",
        "\n",
        "app=\ub4dc\ub798\uace4 \ud50c\ub77c\uc774\ud2b8 for Kakao(382), keyword=+\"\uc0ac\uc8fc\ud314\uc790\"(23997), both=\ub4dc\ub798\uace4 \ud50c\ub77c\uc774\ud2b8 for Kakao++\"\uc0ac\uc8fc\ud314\uc790\"(0), pmi=6.962\n",
        "\n",
        "382"
       ]
      },
      {
       "output_type": "stream",
       "stream": "stdout",
       "text": [
        "\n",
        "557674"
       ]
      },
      {
       "output_type": "stream",
       "stream": "stdout",
       "text": [
        "\n",
        "except 0"
       ]
      },
      {
       "output_type": "stream",
       "stream": "stdout",
       "text": [
        "\n",
        "382"
       ]
      },
      {
       "output_type": "stream",
       "stream": "stdout",
       "text": [
        " 557674 0 1000000000.0\n",
        "val=213031468.0000\n",
        "\n",
        "app=\ub4dc\ub798\uace4 \ud50c\ub77c\uc774\ud2b8 for Kakao(382), keyword=+\"\uad81\ud569\"(557674), both=\ub4dc\ub798\uace4 \ud50c\ub77c\uc774\ud2b8 for Kakao++\"\uad81\ud569\"(0), pmi=8.328\n"
       ]
      },
      {
       "output_type": "stream",
       "stream": "stdout",
       "text": [
        "\n",
        "382"
       ]
      },
      {
       "output_type": "stream",
       "stream": "stdout",
       "text": [
        "\n",
        "965132"
       ]
      },
      {
       "output_type": "stream",
       "stream": "stdout",
       "text": [
        "\n",
        "except 0"
       ]
      },
      {
       "output_type": "stream",
       "stream": "stdout",
       "text": [
        "\n",
        "382"
       ]
      },
      {
       "output_type": "stream",
       "stream": "stdout",
       "text": [
        " 965132 0 1000000000.0\n",
        "val=368680424.0000\n",
        "\n",
        "app=\ub4dc\ub798\uace4 \ud50c\ub77c\uc774\ud2b8 for Kakao(382), keyword=+\"\uccb4\uc911\"(965132), both=\ub4dc\ub798\uace4 \ud50c\ub77c\uc774\ud2b8 for Kakao++\"\uccb4\uc911\"(0), pmi=8.567\n",
        "\n",
        "382"
       ]
      },
      {
       "output_type": "stream",
       "stream": "stdout",
       "text": [
        "\n",
        "2782132"
       ]
      },
      {
       "output_type": "stream",
       "stream": "stdout",
       "text": [
        "\n",
        "9"
       ]
      },
      {
       "output_type": "stream",
       "stream": "stdout",
       "text": [
        "\n",
        "382"
       ]
      },
      {
       "output_type": "stream",
       "stream": "stdout",
       "text": [
        " 2782132 9 1000000000.0\n",
        "val=0.1181\n",
        "\n",
        "app=\ub4dc\ub798\uace4 \ud50c\ub77c\uc774\ud2b8 for Kakao(382), keyword=+\"\uc0ac\uc804\"(2782132), both=\ub4dc\ub798\uace4 \ud50c\ub77c\uc774\ud2b8 for Kakao++\"\uc0ac\uc804\"(9), pmi=-0.928\n",
        "\n",
        "382"
       ]
      },
      {
       "output_type": "stream",
       "stream": "stdout",
       "text": [
        "\n",
        "4737459"
       ]
      },
      {
       "output_type": "stream",
       "stream": "stdout",
       "text": [
        "\n",
        "14"
       ]
      },
      {
       "output_type": "stream",
       "stream": "stdout",
       "text": [
        "\n",
        "382"
       ]
      },
      {
       "output_type": "stream",
       "stream": "stdout",
       "text": [
        " 4737459 14 1000000000.0\n",
        "val=0.1293\n",
        "\n",
        "app=\ub4dc\ub798\uace4 \ud50c\ub77c\uc774\ud2b8 for Kakao(382), keyword=+\"\ucef4\ud4e8\ud130\"(4737459), both=\ub4dc\ub798\uace4 \ud50c\ub77c\uc774\ud2b8 for Kakao++\"\ucef4\ud4e8\ud130\"(14), pmi=-0.889\n"
       ]
      },
      {
       "output_type": "stream",
       "stream": "stdout",
       "text": [
        "\n",
        "382"
       ]
      },
      {
       "output_type": "stream",
       "stream": "stdout",
       "text": [
        "\n",
        "247712"
       ]
      },
      {
       "output_type": "stream",
       "stream": "stdout",
       "text": [
        "\n",
        "1"
       ]
      },
      {
       "output_type": "stream",
       "stream": "stdout",
       "text": [
        "\n",
        "382"
       ]
      },
      {
       "output_type": "stream",
       "stream": "stdout",
       "text": [
        " 247712 1 1000000000.0\n",
        "val=0.0946\n",
        "\n",
        "app=\ub4dc\ub798\uace4 \ud50c\ub77c\uc774\ud2b8 for Kakao(382), keyword=+\"\ubc31\uacfc\uc0ac\uc804\"(247712), both=\ub4dc\ub798\uace4 \ud50c\ub77c\uc774\ud2b8 for Kakao++\"\ubc31\uacfc\uc0ac\uc804\"(1), pmi=-1.024\n",
        "\n",
        "382"
       ]
      },
      {
       "output_type": "stream",
       "stream": "stdout",
       "text": [
        "\n",
        "347881"
       ]
      },
      {
       "output_type": "stream",
       "stream": "stdout",
       "text": [
        "\n",
        "2"
       ]
      },
      {
       "output_type": "stream",
       "stream": "stdout",
       "text": [
        "\n",
        "382"
       ]
      },
      {
       "output_type": "stream",
       "stream": "stdout",
       "text": [
        " 347881 2 1000000000.0\n",
        "val=0.0664\n",
        "\n",
        "app=\ub4dc\ub798\uace4 \ud50c\ub77c\uc774\ud2b8 for Kakao(382), keyword=+\"\uae09\uc2dd\"(347881), both=\ub4dc\ub798\uace4 \ud50c\ub77c\uc774\ud2b8 for Kakao++\"\uae09\uc2dd\"(2), pmi=-1.178\n",
        "\n",
        "382"
       ]
      },
      {
       "output_type": "stream",
       "stream": "stdout",
       "text": [
        "\n",
        "13067259"
       ]
      },
      {
       "output_type": "stream",
       "stream": "stdout",
       "text": [
        "\n",
        "11"
       ]
      },
      {
       "output_type": "stream",
       "stream": "stdout",
       "text": [
        "\n",
        "382"
       ]
      },
      {
       "output_type": "stream",
       "stream": "stdout",
       "text": [
        " 13067259 11 1000000000.0\n",
        "val=0.4538\n",
        "\n",
        "app=\ub4dc\ub798\uace4 \ud50c\ub77c\uc774\ud2b8 for Kakao(382), keyword=+\"\ud559\uad50\"(13067259), both=\ub4dc\ub798\uace4 \ud50c\ub77c\uc774\ud2b8 for Kakao++\"\ud559\uad50\"(11), pmi=-0.343\n",
        "\n",
        "382"
       ]
      },
      {
       "output_type": "stream",
       "stream": "stdout",
       "text": [
        "\n",
        "2044254"
       ]
      },
      {
       "output_type": "stream",
       "stream": "stdout",
       "text": [
        "\n",
        "1"
       ]
      },
      {
       "output_type": "stream",
       "stream": "stdout",
       "text": [
        "\n",
        "382"
       ]
      },
      {
       "output_type": "stream",
       "stream": "stdout",
       "text": [
        " 2044254 1 1000000000.0\n",
        "val=0.7809\n",
        "\n",
        "app=\ub4dc\ub798\uace4 \ud50c\ub77c\uc774\ud2b8 for Kakao(382), keyword=+\"\ucd08\ub4f1\ud559\uad50\"(2044254), both=\ub4dc\ub798\uace4 \ud50c\ub77c\uc774\ud2b8 for Kakao++\"\ucd08\ub4f1\ud559\uad50\"(1), pmi=-0.107\n",
        "\n",
        "382"
       ]
      },
      {
       "output_type": "stream",
       "stream": "stdout",
       "text": [
        "\n",
        "1701928"
       ]
      },
      {
       "output_type": "stream",
       "stream": "stdout",
       "text": [
        "\n",
        "1"
       ]
      },
      {
       "output_type": "stream",
       "stream": "stdout",
       "text": [
        "\n",
        "382"
       ]
      },
      {
       "output_type": "stream",
       "stream": "stdout",
       "text": [
        " 1701928 1 1000000000.0\n",
        "val=0.6501\n",
        "\n",
        "app=\ub4dc\ub798\uace4 \ud50c\ub77c\uc774\ud2b8 for Kakao(382), keyword=+\"\uc911\ud559\uad50\"(1701928), both=\ub4dc\ub798\uace4 \ud50c\ub77c\uc774\ud2b8 for Kakao++\"\uc911\ud559\uad50\"(1), pmi=-0.187\n",
        "\n",
        "382"
       ]
      },
      {
       "output_type": "stream",
       "stream": "stdout",
       "text": [
        "\n",
        "1873189"
       ]
      },
      {
       "output_type": "stream",
       "stream": "stdout",
       "text": [
        "\n",
        "2"
       ]
      },
      {
       "output_type": "stream",
       "stream": "stdout",
       "text": [
        "\n",
        "382"
       ]
      },
      {
       "output_type": "stream",
       "stream": "stdout",
       "text": [
        " 1873189 2 1000000000.0\n",
        "val=0.3578\n",
        "\n",
        "app=\ub4dc\ub798\uace4 \ud50c\ub77c\uc774\ud2b8 for Kakao(382), keyword=+\"\uace0\ub4f1\ud559\uad50\"(1873189), both=\ub4dc\ub798\uace4 \ud50c\ub77c\uc774\ud2b8 for Kakao++\"\uace0\ub4f1\ud559\uad50\"(2), pmi=-0.446\n",
        "\n",
        "382"
       ]
      },
      {
       "output_type": "stream",
       "stream": "stdout",
       "text": [
        "\n",
        "3194058"
       ]
      },
      {
       "output_type": "stream",
       "stream": "stdout",
       "text": [
        "\n",
        "3"
       ]
      },
      {
       "output_type": "stream",
       "stream": "stdout",
       "text": [
        "\n",
        "382"
       ]
      },
      {
       "output_type": "stream",
       "stream": "stdout",
       "text": [
        " 3194058 3 1000000000.0\n",
        "val=0.4067\n",
        "\n",
        "app=\ub4dc\ub798\uace4 \ud50c\ub77c\uc774\ud2b8 for Kakao(382), keyword=+\"\ub300\ud559\uad50\"(3194058), both=\ub4dc\ub798\uace4 \ud50c\ub77c\uc774\ud2b8 for Kakao++\"\ub300\ud559\uad50\"(3), pmi=-0.391\n",
        "\n",
        "382"
       ]
      },
      {
       "output_type": "stream",
       "stream": "stdout",
       "text": [
        "\n",
        "1185199"
       ]
      },
      {
       "output_type": "stream",
       "stream": "stdout",
       "text": [
        "\n",
        "9"
       ]
      },
      {
       "output_type": "stream",
       "stream": "stdout",
       "text": [
        "\n",
        "382"
       ]
      },
      {
       "output_type": "stream",
       "stream": "stdout",
       "text": [
        " 1185199 9 1000000000.0\n",
        "val=0.0503\n",
        "\n",
        "app=\ub4dc\ub798\uace4 \ud50c\ub77c\uc774\ud2b8 for Kakao(382), keyword=+\"Korea\"(1185199), both=\ub4dc\ub798\uace4 \ud50c\ub77c\uc774\ud2b8 for Kakao++\"Korea\"(9), pmi=-1.298\n"
       ]
      },
      {
       "output_type": "stream",
       "stream": "stdout",
       "text": [
        "\n",
        "382"
       ]
      },
      {
       "output_type": "stream",
       "stream": "stdout",
       "text": [
        "\n",
        "504930"
       ]
      },
      {
       "output_type": "stream",
       "stream": "stdout",
       "text": [
        "\n",
        "2"
       ]
      },
      {
       "output_type": "stream",
       "stream": "stdout",
       "text": [
        "\n",
        "382"
       ]
      },
      {
       "output_type": "stream",
       "stream": "stdout",
       "text": [
        " 504930 2 1000000000.0\n",
        "val=0.0964\n",
        "\n",
        "app=\ub4dc\ub798\uace4 \ud50c\ub77c\uc774\ud2b8 for Kakao(382), keyword=+\"\ub124\ube44\uac8c\uc774\uc158\"(504930), both=\ub4dc\ub798\uace4 \ud50c\ub77c\uc774\ud2b8 for Kakao++\"\ub124\ube44\uac8c\uc774\uc158\"(2), pmi=-1.016\n",
        "\n",
        "382"
       ]
      },
      {
       "output_type": "stream",
       "stream": "stdout",
       "text": [
        "\n",
        "2825208"
       ]
      },
      {
       "output_type": "stream",
       "stream": "stdout",
       "text": [
        "\n",
        "21"
       ]
      },
      {
       "output_type": "stream",
       "stream": "stdout",
       "text": [
        "\n",
        "382"
       ]
      },
      {
       "output_type": "stream",
       "stream": "stdout",
       "text": [
        " 2825208 21 1000000000.0\n",
        "val=0.0514\n",
        "\n",
        "app=\ub4dc\ub798\uace4 \ud50c\ub77c\uc774\ud2b8 for Kakao(382), keyword=+\"\uc9c0\ud558\ucca0\"(2825208), both=\ub4dc\ub798\uace4 \ud50c\ub77c\uc774\ud2b8 for Kakao++\"\uc9c0\ud558\ucca0\"(21), pmi=-1.289\n",
        "\n",
        "382"
       ]
      },
      {
       "output_type": "stream",
       "stream": "stdout",
       "text": [
        "\n",
        "167405"
       ]
      },
      {
       "output_type": "stream",
       "stream": "stdout",
       "text": [
        "\n",
        "2"
       ]
      },
      {
       "output_type": "stream",
       "stream": "stdout",
       "text": [
        "\n",
        "382"
       ]
      },
      {
       "output_type": "stream",
       "stream": "stdout",
       "text": [
        " 167405 2 1000000000.0\n",
        "val=0.0320\n",
        "\n",
        "app=\ub4dc\ub798\uace4 \ud50c\ub77c\uc774\ud2b8 for Kakao(382), keyword=+\"\uc885\uacb0\uc790\"(167405), both=\ub4dc\ub798\uace4 \ud50c\ub77c\uc774\ud2b8 for Kakao++\"\uc885\uacb0\uc790\"(2), pmi=-1.495\n",
        "\n",
        "382"
       ]
      },
      {
       "output_type": "stream",
       "stream": "stdout",
       "text": [
        "\n",
        "64550"
       ]
      },
      {
       "output_type": "stream",
       "stream": "stdout",
       "text": [
        "\n",
        "2"
       ]
      },
      {
       "output_type": "stream",
       "stream": "stdout",
       "text": [
        "\n",
        "382"
       ]
      },
      {
       "output_type": "stream",
       "stream": "stdout",
       "text": [
        " 64550 2 1000000000.0\n",
        "val=0.0123\n",
        "\n",
        "app=\ub4dc\ub798\uace4 \ud50c\ub77c\uc774\ud2b8 for Kakao(382), keyword=+\"\ub0b4\ube44\"(64550), both=\ub4dc\ub798\uace4 \ud50c\ub77c\uc774\ud2b8 for Kakao++\"\ub0b4\ube44\"(2), pmi=-1.909\n",
        "\n",
        "382"
       ]
      },
      {
       "output_type": "stream",
       "stream": "stdout",
       "text": [
        "\n",
        "110301"
       ]
      },
      {
       "output_type": "stream",
       "stream": "stdout",
       "text": [
        "\n",
        "1"
       ]
      },
      {
       "output_type": "stream",
       "stream": "stdout",
       "text": [
        "\n",
        "382"
       ]
      },
      {
       "output_type": "stream",
       "stream": "stdout",
       "text": [
        " 110301 1 1000000000.0\n",
        "val=0.0421\n",
        "\n",
        "app=\ub4dc\ub798\uace4 \ud50c\ub77c\uc774\ud2b8 for Kakao(382), keyword=+\"\uac00\uacc4\ubd80\"(110301), both=\ub4dc\ub798\uace4 \ud50c\ub77c\uc774\ud2b8 for Kakao++\"\uac00\uacc4\ubd80\"(1), pmi=-1.375\n",
        "\n",
        "382"
       ]
      },
      {
       "output_type": "stream",
       "stream": "stdout",
       "text": [
        "\n",
        "560975"
       ]
      },
      {
       "output_type": "stream",
       "stream": "stdout",
       "text": [
        "\n",
        "1"
       ]
      },
      {
       "output_type": "stream",
       "stream": "stdout",
       "text": [
        "\n",
        "382"
       ]
      },
      {
       "output_type": "stream",
       "stream": "stdout",
       "text": [
        " 560975 1 1000000000.0\n",
        "val=0.2143\n",
        "\n",
        "app=\ub4dc\ub798\uace4 \ud50c\ub77c\uc774\ud2b8 for Kakao(382), keyword=+\"Money\"(560975), both=\ub4dc\ub798\uace4 \ud50c\ub77c\uc774\ud2b8 for Kakao++\"Money\"(1), pmi=-0.669\n",
        "\n",
        "382"
       ]
      },
      {
       "output_type": "stream",
       "stream": "stdout",
       "text": [
        "\n",
        "2657498"
       ]
      },
      {
       "output_type": "stream",
       "stream": "stdout",
       "text": [
        "\n",
        "126"
       ]
      },
      {
       "output_type": "stream",
       "stream": "stdout",
       "text": [
        "\n",
        "382"
       ]
      },
      {
       "output_type": "stream",
       "stream": "stdout",
       "text": [
        " 2657498 126 1000000000.0\n",
        "val=0.0081\n",
        "\n",
        "app=\ub4dc\ub798\uace4 \ud50c\ub77c\uc774\ud2b8 for Kakao(382), keyword=+\"\uc2a4\ub9c8\ud2b8\"(2657498), both=\ub4dc\ub798\uace4 \ud50c\ub77c\uc774\ud2b8 for Kakao++\"\uc2a4\ub9c8\ud2b8\"(126), pmi=-2.094\n",
        "\n",
        "382"
       ]
      },
      {
       "output_type": "stream",
       "stream": "stdout",
       "text": [
        "\n",
        "161421"
       ]
      },
      {
       "output_type": "stream",
       "stream": "stdout",
       "text": [
        "\n",
        "except 0"
       ]
      },
      {
       "output_type": "stream",
       "stream": "stdout",
       "text": [
        "\n",
        "382"
       ]
      },
      {
       "output_type": "stream",
       "stream": "stdout",
       "text": [
        " 161421 0 1000000000.0\n",
        "val=61662822.0000\n",
        "\n",
        "app=\ub4dc\ub798\uace4 \ud50c\ub77c\uc774\ud2b8 for Kakao(382), keyword=+\"\uacc4\uc0b0\uae30\"(161421), both=\ub4dc\ub798\uace4 \ud50c\ub77c\uc774\ud2b8 for Kakao++\"\uacc4\uc0b0\uae30\"(0), pmi=7.790\n",
        "\n",
        "382"
       ]
      },
      {
       "output_type": "stream",
       "stream": "stdout",
       "text": [
        "\n",
        "3307087"
       ]
      },
      {
       "output_type": "stream",
       "stream": "stdout",
       "text": [
        "\n",
        "2"
       ]
      },
      {
       "output_type": "stream",
       "stream": "stdout",
       "text": [
        "\n",
        "382"
       ]
      },
      {
       "output_type": "stream",
       "stream": "stdout",
       "text": [
        " 3307087 2 1000000000.0\n",
        "val=0.6317\n",
        "\n",
        "app=\ub4dc\ub798\uace4 \ud50c\ub77c\uc774\ud2b8 for Kakao(382), keyword=+\"\uc740\ud589\"(3307087), both=\ub4dc\ub798\uace4 \ud50c\ub77c\uc774\ud2b8 for Kakao++\"\uc740\ud589\"(2), pmi=-0.200\n",
        "\n",
        "382"
       ]
      },
      {
       "output_type": "stream",
       "stream": "stdout",
       "text": [
        "\n",
        "776559"
       ]
      },
      {
       "output_type": "stream",
       "stream": "stdout",
       "text": [
        "\n",
        "31"
       ]
      },
      {
       "output_type": "stream",
       "stream": "stdout",
       "text": [
        "\n",
        "382"
       ]
      },
      {
       "output_type": "stream",
       "stream": "stdout",
       "text": [
        " 776559 31 1000000000.0\n",
        "val=0.0096\n",
        "\n",
        "app=\ub4dc\ub798\uace4 \ud50c\ub77c\uc774\ud2b8 for Kakao(382), keyword=+\"\uac80\uc0c9\uc5b4\"(776559), both=\ub4dc\ub798\uace4 \ud50c\ub77c\uc774\ud2b8 for Kakao++\"\uac80\uc0c9\uc5b4\"(31), pmi=-2.019\n",
        "\n",
        "382"
       ]
      },
      {
       "output_type": "stream",
       "stream": "stdout",
       "text": [
        "\n",
        "1362062"
       ]
      },
      {
       "output_type": "stream",
       "stream": "stdout",
       "text": [
        "\n",
        "34"
       ]
      },
      {
       "output_type": "stream",
       "stream": "stdout",
       "text": [
        "\n",
        "382"
       ]
      },
      {
       "output_type": "stream",
       "stream": "stdout",
       "text": [
        " 1362062 34 1000000000.0\n",
        "val=0.0153\n",
        "\n",
        "app=\ub4dc\ub798\uace4 \ud50c\ub77c\uc774\ud2b8 for Kakao(382), keyword=+\"\uc2e4\uc2dc\uac04\"(1362062), both=\ub4dc\ub798\uace4 \ud50c\ub77c\uc774\ud2b8 for Kakao++\"\uc2e4\uc2dc\uac04\"(34), pmi=-1.815\n"
       ]
      },
      {
       "output_type": "stream",
       "stream": "stdout",
       "text": [
        "\n",
        "382"
       ]
      },
      {
       "output_type": "stream",
       "stream": "stdout",
       "text": [
        "\n",
        "3116399"
       ]
      },
      {
       "output_type": "stream",
       "stream": "stdout",
       "text": [
        "\n",
        "1"
       ]
      },
      {
       "output_type": "stream",
       "stream": "stdout",
       "text": [
        "\n",
        "382"
       ]
      },
      {
       "output_type": "stream",
       "stream": "stdout",
       "text": [
        " 3116399 1 1000000000.0\n",
        "val=1.1905\n",
        "\n",
        "app=\ub4dc\ub798\uace4 \ud50c\ub77c\uc774\ud2b8 for Kakao(382), keyword=+\"\uc2e0\ubb38\"(3116399), both=\ub4dc\ub798\uace4 \ud50c\ub77c\uc774\ud2b8 for Kakao++\"\uc2e0\ubb38\"(1), pmi=0.076\n"
       ]
      },
      {
       "output_type": "stream",
       "stream": "stdout",
       "text": [
        "\n",
        "382"
       ]
      },
      {
       "output_type": "stream",
       "stream": "stdout",
       "text": [
        "\n",
        "1226493"
       ]
      },
      {
       "output_type": "stream",
       "stream": "stdout",
       "text": [
        "\n",
        "6"
       ]
      },
      {
       "output_type": "stream",
       "stream": "stdout",
       "text": [
        "\n",
        "382"
       ]
      },
      {
       "output_type": "stream",
       "stream": "stdout",
       "text": [
        " 1226493 6 1000000000.0\n",
        "val=0.0781\n",
        "\n",
        "app=\ub4dc\ub798\uace4 \ud50c\ub77c\uc774\ud2b8 for Kakao(382), keyword=+\"\ud074\ub798\uc2dd\"(1226493), both=\ub4dc\ub798\uace4 \ud50c\ub77c\uc774\ud2b8 for Kakao++\"\ud074\ub798\uc2dd\"(6), pmi=-1.107\n"
       ]
      },
      {
       "output_type": "stream",
       "stream": "stdout",
       "text": [
        "\n",
        "382"
       ]
      },
      {
       "output_type": "stream",
       "stream": "stdout",
       "text": [
        "\n",
        "1406502"
       ]
      },
      {
       "output_type": "stream",
       "stream": "stdout",
       "text": [
        "\n",
        "3"
       ]
      },
      {
       "output_type": "stream",
       "stream": "stdout",
       "text": [
        "\n",
        "382"
       ]
      },
      {
       "output_type": "stream",
       "stream": "stdout",
       "text": [
        " 1406502 3 1000000000.0\n",
        "val=0.1791\n",
        "\n",
        "app=\ub4dc\ub798\uace4 \ud50c\ub77c\uc774\ud2b8 for Kakao(382), keyword=+\"\uc560\ub2c8\"(1406502), both=\ub4dc\ub798\uace4 \ud50c\ub77c\uc774\ud2b8 for Kakao++\"\uc560\ub2c8\"(3), pmi=-0.747\n",
        "\n",
        "382"
       ]
      },
      {
       "output_type": "stream",
       "stream": "stdout",
       "text": [
        "\n",
        "1186104"
       ]
      },
      {
       "output_type": "stream",
       "stream": "stdout",
       "text": [
        "\n",
        "9"
       ]
      },
      {
       "output_type": "stream",
       "stream": "stdout",
       "text": [
        "\n",
        "382"
       ]
      },
      {
       "output_type": "stream",
       "stream": "stdout",
       "text": [
        " 1186104 9 1000000000.0\n",
        "val=0.0503\n",
        "\n",
        "app=\ub4dc\ub798\uace4 \ud50c\ub77c\uc774\ud2b8 for Kakao(382), keyword=+\"\ub09a\uc2dc\"(1186104), both=\ub4dc\ub798\uace4 \ud50c\ub77c\uc774\ud2b8 for Kakao++\"\ub09a\uc2dc\"(9), pmi=-1.298\n",
        "\n",
        "382"
       ]
      },
      {
       "output_type": "stream",
       "stream": "stdout",
       "text": [
        "\n",
        "87415"
       ]
      },
      {
       "output_type": "stream",
       "stream": "stdout",
       "text": [
        "\n",
        "5"
       ]
      },
      {
       "output_type": "stream",
       "stream": "stdout",
       "text": [
        "\n",
        "382"
       ]
      },
      {
       "output_type": "stream",
       "stream": "stdout",
       "text": [
        " 87415 5 1000000000.0\n",
        "val=0.0067\n",
        "\n",
        "app=\ub4dc\ub798\uace4 \ud50c\ub77c\uc774\ud2b8 for Kakao(382), keyword=+\"\ub7f0\ucc98\"(87415), both=\ub4dc\ub798\uace4 \ud50c\ub77c\uc774\ud2b8 for Kakao++\"\ub7f0\ucc98\"(5), pmi=-2.175\n",
        "\n",
        "382"
       ]
      },
      {
       "output_type": "stream",
       "stream": "stdout",
       "text": [
        "\n",
        "67612"
       ]
      },
      {
       "output_type": "stream",
       "stream": "stdout",
       "text": [
        "\n",
        "except 0"
       ]
      },
      {
       "output_type": "stream",
       "stream": "stdout",
       "text": [
        "\n",
        "382"
       ]
      },
      {
       "output_type": "stream",
       "stream": "stdout",
       "text": [
        " 67612 0 1000000000.0\n",
        "val=25827784.0000\n",
        "\n",
        "app=\ub4dc\ub798\uace4 \ud50c\ub77c\uc774\ud2b8 for Kakao(382), keyword=+\"\uc8fc\uc18c\ub85d\"(67612), both=\ub4dc\ub798\uace4 \ud50c\ub77c\uc774\ud2b8 for Kakao++\"\uc8fc\uc18c\ub85d\"(0), pmi=7.412\n",
        "\n",
        "382"
       ]
      },
      {
       "output_type": "stream",
       "stream": "stdout",
       "text": [
        "\n",
        "4766899"
       ]
      },
      {
       "output_type": "stream",
       "stream": "stdout",
       "text": [
        "\n",
        "189"
       ]
      },
      {
       "output_type": "stream",
       "stream": "stdout",
       "text": [
        "\n",
        "382"
       ]
      },
      {
       "output_type": "stream",
       "stream": "stdout",
       "text": [
        " 4766899 189 1000000000.0\n",
        "val=0.0096\n",
        "\n",
        "app=\ub4dc\ub798\uace4 \ud50c\ub77c\uc774\ud2b8 for Kakao(382), keyword=+\"\ud3f0\"(4766899), both=\ub4dc\ub798\uace4 \ud50c\ub77c\uc774\ud2b8 for Kakao++\"\ud3f0\"(189), pmi=-2.016\n",
        "\n",
        "382"
       ]
      },
      {
       "output_type": "stream",
       "stream": "stdout",
       "text": [
        "\n",
        "819846"
       ]
      },
      {
       "output_type": "stream",
       "stream": "stdout",
       "text": [
        "\n",
        "2"
       ]
      },
      {
       "output_type": "stream",
       "stream": "stdout",
       "text": [
        "\n",
        "382"
       ]
      },
      {
       "output_type": "stream",
       "stream": "stdout",
       "text": [
        " 819846 2 1000000000.0\n",
        "val=0.1566\n",
        "\n",
        "app=\ub4dc\ub798\uace4 \ud50c\ub77c\uc774\ud2b8 for Kakao(382), keyword=+\"\ubc14\uc774\ub7ec\uc2a4\"(819846), both=\ub4dc\ub798\uace4 \ud50c\ub77c\uc774\ud2b8 for Kakao++\"\ubc14\uc774\ub7ec\uc2a4\"(2), pmi=-0.805\n",
        "\n",
        "382"
       ]
      },
      {
       "output_type": "stream",
       "stream": "stdout",
       "text": [
        "\n",
        "993408"
       ]
      },
      {
       "output_type": "stream",
       "stream": "stdout",
       "text": [
        "\n",
        "3"
       ]
      },
      {
       "output_type": "stream",
       "stream": "stdout",
       "text": [
        "\n",
        "382"
       ]
      },
      {
       "output_type": "stream",
       "stream": "stdout",
       "text": [
        " 993408 3 1000000000.0\n",
        "val=0.1265\n",
        "\n",
        "app=\ub4dc\ub798\uace4 \ud50c\ub77c\uc774\ud2b8 for Kakao(382), keyword=+\"\ubcf4\uc548\"(993408), both=\ub4dc\ub798\uace4 \ud50c\ub77c\uc774\ud2b8 for Kakao++\"\ubcf4\uc548\"(3), pmi=-0.898\n",
        "\n",
        "382"
       ]
      },
      {
       "output_type": "stream",
       "stream": "stdout",
       "text": [
        "\n",
        "1276212"
       ]
      },
      {
       "output_type": "stream",
       "stream": "stdout",
       "text": [
        "\n",
        "except 0"
       ]
      },
      {
       "output_type": "stream",
       "stream": "stdout",
       "text": [
        "\n",
        "382"
       ]
      },
      {
       "output_type": "stream",
       "stream": "stdout",
       "text": [
        " 1276212 0 1000000000.0\n",
        "val=487512984.0000\n",
        "\n",
        "app=\ub4dc\ub798\uace4 \ud50c\ub77c\uc774\ud2b8 for Kakao(382), keyword=+\"\uc131\uacbd\"(1276212), both=\ub4dc\ub798\uace4 \ud50c\ub77c\uc774\ud2b8 for Kakao++\"\uc131\uacbd\"(0), pmi=8.688\n",
        "\n",
        "382"
       ]
      },
      {
       "output_type": "stream",
       "stream": "stdout",
       "text": [
        "\n",
        "216002"
       ]
      },
      {
       "output_type": "stream",
       "stream": "stdout",
       "text": [
        "\n",
        "except 0"
       ]
      },
      {
       "output_type": "stream",
       "stream": "stdout",
       "text": [
        "\n",
        "382"
       ]
      },
      {
       "output_type": "stream",
       "stream": "stdout",
       "text": [
        " 216002 0 1000000000.0\n",
        "val=82512764.0000\n",
        "\n",
        "app=\ub4dc\ub798\uace4 \ud50c\ub77c\uc774\ud2b8 for Kakao(382), keyword=+\"\ucc2c\uc1a1\"(216002), both=\ub4dc\ub798\uace4 \ud50c\ub77c\uc774\ud2b8 for Kakao++\"\ucc2c\uc1a1\"(0), pmi=7.917\n",
        "\n",
        "382"
       ]
      },
      {
       "output_type": "stream",
       "stream": "stdout",
       "text": [
        "\n",
        "84285"
       ]
      },
      {
       "output_type": "stream",
       "stream": "stdout",
       "text": [
        "\n",
        "except 0"
       ]
      },
      {
       "output_type": "stream",
       "stream": "stdout",
       "text": [
        "\n",
        "382"
       ]
      },
      {
       "output_type": "stream",
       "stream": "stdout",
       "text": [
        " 84285 0 1000000000.0\n",
        "val=32196870.0000\n",
        "\n",
        "app=\ub4dc\ub798\uace4 \ud50c\ub77c\uc774\ud2b8 for Kakao(382), keyword=+\"\ubc14\uc774\ube14\"(84285), both=\ub4dc\ub798\uace4 \ud50c\ub77c\uc774\ud2b8 for Kakao++\"\ubc14\uc774\ube14\"(0), pmi=7.508\n",
        "\n",
        "382"
       ]
      },
      {
       "output_type": "stream",
       "stream": "stdout",
       "text": [
        "\n",
        "258580"
       ]
      },
      {
       "output_type": "stream",
       "stream": "stdout",
       "text": [
        "\n",
        "1"
       ]
      },
      {
       "output_type": "stream",
       "stream": "stdout",
       "text": [
        "\n",
        "382"
       ]
      },
      {
       "output_type": "stream",
       "stream": "stdout",
       "text": [
        " 258580 1 1000000000.0\n",
        "val=0.0988\n",
        "\n",
        "app=\ub4dc\ub798\uace4 \ud50c\ub77c\uc774\ud2b8 for Kakao(382), keyword=+\"\ubc31\uc2e0\"(258580), both=\ub4dc\ub798\uace4 \ud50c\ub77c\uc774\ud2b8 for Kakao++\"\ubc31\uc2e0\"(1), pmi=-1.005\n"
       ]
      },
      {
       "output_type": "stream",
       "stream": "stdout",
       "text": [
        "\n",
        "382"
       ]
      },
      {
       "output_type": "stream",
       "stream": "stdout",
       "text": [
        "\n",
        "2226457"
       ]
      },
      {
       "output_type": "stream",
       "stream": "stdout",
       "text": [
        "\n",
        "26"
       ]
      },
      {
       "output_type": "stream",
       "stream": "stdout",
       "text": [
        "\n",
        "382"
       ]
      },
      {
       "output_type": "stream",
       "stream": "stdout",
       "text": [
        " 2226457 26 1000000000.0\n",
        "val=0.0327\n",
        "\n",
        "app=\ub4dc\ub798\uace4 \ud50c\ub77c\uc774\ud2b8 for Kakao(382), keyword=+\"\uc6f9\"(2226457), both=\ub4dc\ub798\uace4 \ud50c\ub77c\uc774\ud2b8 for Kakao++\"\uc6f9\"(26), pmi=-1.485\n"
       ]
      },
      {
       "output_type": "stream",
       "stream": "stdout",
       "text": [
        "\n",
        "382"
       ]
      },
      {
       "output_type": "stream",
       "stream": "stdout",
       "text": [
        "\n",
        "1287797"
       ]
      },
      {
       "output_type": "stream",
       "stream": "stdout",
       "text": [
        "\n",
        "2"
       ]
      },
      {
       "output_type": "stream",
       "stream": "stdout",
       "text": [
        "\n",
        "382"
       ]
      },
      {
       "output_type": "stream",
       "stream": "stdout",
       "text": [
        " 1287797 2 1000000000.0\n",
        "val=0.2460\n",
        "\n",
        "app=\ub4dc\ub798\uace4 \ud50c\ub77c\uc774\ud2b8 for Kakao(382), keyword=+\"\uc2a4\ud2f0\ucee4\"(1287797), both=\ub4dc\ub798\uace4 \ud50c\ub77c\uc774\ud2b8 for Kakao++\"\uc2a4\ud2f0\ucee4\"(2), pmi=-0.609\n",
        "\n",
        "382"
       ]
      },
      {
       "output_type": "stream",
       "stream": "stdout",
       "text": [
        "\n",
        "364838"
       ]
      },
      {
       "output_type": "stream",
       "stream": "stdout",
       "text": [
        "\n",
        "except 0"
       ]
      },
      {
       "output_type": "stream",
       "stream": "stdout",
       "text": [
        "\n",
        "382"
       ]
      },
      {
       "output_type": "stream",
       "stream": "stdout",
       "text": [
        " 364838 0 1000000000.0\n",
        "val=139368116.0000\n",
        "\n",
        "app=\ub4dc\ub798\uace4 \ud50c\ub77c\uc774\ud2b8 for Kakao(382), keyword=+\"\uc0ac\uc8fc\"(364838), both=\ub4dc\ub798\uace4 \ud50c\ub77c\uc774\ud2b8 for Kakao++\"\uc0ac\uc8fc\"(0), pmi=8.144\n",
        "\n",
        "382"
       ]
      },
      {
       "output_type": "stream",
       "stream": "stdout",
       "text": [
        "\n",
        "229882"
       ]
      },
      {
       "output_type": "stream",
       "stream": "stdout",
       "text": [
        "\n",
        "except 0"
       ]
      },
      {
       "output_type": "stream",
       "stream": "stdout",
       "text": [
        "\n",
        "382"
       ]
      },
      {
       "output_type": "stream",
       "stream": "stdout",
       "text": [
        " 229882 0 1000000000.0\n",
        "val=87814924.0000\n",
        "\n",
        "app=\ub4dc\ub798\uace4 \ud50c\ub77c\uc774\ud2b8 for Kakao(382), keyword=+\"\uc6b4\uc138\"(229882), both=\ub4dc\ub798\uace4 \ud50c\ub77c\uc774\ud2b8 for Kakao++\"\uc6b4\uc138\"(0), pmi=7.944\n",
        "\n",
        "382"
       ]
      },
      {
       "output_type": "stream",
       "stream": "stdout",
       "text": [
        "\n",
        "680913"
       ]
      },
      {
       "output_type": "stream",
       "stream": "stdout",
       "text": [
        "\n",
        "3"
       ]
      },
      {
       "output_type": "stream",
       "stream": "stdout",
       "text": [
        "\n",
        "382"
       ]
      },
      {
       "output_type": "stream",
       "stream": "stdout",
       "text": [
        " 680913 3 1000000000.0\n",
        "val=0.0867\n",
        "\n",
        "app=\ub4dc\ub798\uace4 \ud50c\ub77c\uc774\ud2b8 for Kakao(382), keyword=+\"\ucf54\ubbf9\"(680913), both=\ub4dc\ub798\uace4 \ud50c\ub77c\uc774\ud2b8 for Kakao++\"\ucf54\ubbf9\"(3), pmi=-1.062\n",
        "\n",
        "382"
       ]
      },
      {
       "output_type": "stream",
       "stream": "stdout",
       "text": [
        "\n",
        "1210739"
       ]
      },
      {
       "output_type": "stream",
       "stream": "stdout",
       "text": [
        "\n",
        "28"
       ]
      },
      {
       "output_type": "stream",
       "stream": "stdout",
       "text": [
        "\n",
        "382"
       ]
      },
      {
       "output_type": "stream",
       "stream": "stdout",
       "text": [
        " 1210739 28 1000000000.0\n",
        "val=0.0165\n",
        "\n",
        "app=\ub4dc\ub798\uace4 \ud50c\ub77c\uc774\ud2b8 for Kakao(382), keyword=+\"3D\"(1210739), both=\ub4dc\ub798\uace4 \ud50c\ub77c\uc774\ud2b8 for Kakao++\"3D\"(28), pmi=-1.782\n",
        "\n",
        "382"
       ]
      },
      {
       "output_type": "stream",
       "stream": "stdout",
       "text": [
        "\n",
        "207640"
       ]
      },
      {
       "output_type": "stream",
       "stream": "stdout",
       "text": [
        "\n",
        "1"
       ]
      },
      {
       "output_type": "stream",
       "stream": "stdout",
       "text": [
        "\n",
        "382"
       ]
      },
      {
       "output_type": "stream",
       "stream": "stdout",
       "text": [
        " 207640 1 1000000000.0\n",
        "val=0.0793\n",
        "\n",
        "app=\ub4dc\ub798\uace4 \ud50c\ub77c\uc774\ud2b8 for Kakao(382), keyword=+\"\ubcc4\uc790\ub9ac\"(207640), both=\ub4dc\ub798\uace4 \ud50c\ub77c\uc774\ud2b8 for Kakao++\"\ubcc4\uc790\ub9ac\"(1), pmi=-1.101\n",
        "\n",
        "382"
       ]
      },
      {
       "output_type": "stream",
       "stream": "stdout",
       "text": [
        "\n",
        "212216"
       ]
      },
      {
       "output_type": "stream",
       "stream": "stdout",
       "text": [
        "\n",
        "except 0"
       ]
      },
      {
       "output_type": "stream",
       "stream": "stdout",
       "text": [
        "\n",
        "382"
       ]
      },
      {
       "output_type": "stream",
       "stream": "stdout",
       "text": [
        " 212216 0 1000000000.0\n",
        "val=81066512.0000\n",
        "\n",
        "app=\ub4dc\ub798\uace4 \ud50c\ub77c\uc774\ud2b8 for Kakao(382), keyword=+\"tool\"(212216), both=\ub4dc\ub798\uace4 \ud50c\ub77c\uc774\ud2b8 for Kakao++\"tool\"(0), pmi=7.909\n",
        "\n",
        "382"
       ]
      },
      {
       "output_type": "stream",
       "stream": "stdout",
       "text": [
        "\n",
        "340734"
       ]
      },
      {
       "output_type": "stream",
       "stream": "stdout",
       "text": [
        "\n",
        "10"
       ]
      },
      {
       "output_type": "stream",
       "stream": "stdout",
       "text": [
        "\n",
        "382"
       ]
      },
      {
       "output_type": "stream",
       "stream": "stdout",
       "text": [
        " 340734 10 1000000000.0\n",
        "val=0.0130\n",
        "\n",
        "app=\ub4dc\ub798\uace4 \ud50c\ub77c\uc774\ud2b8 for Kakao(382), keyword=+\"\uc6f9\ud230\"(340734), both=\ub4dc\ub798\uace4 \ud50c\ub77c\uc774\ud2b8 for Kakao++\"\uc6f9\ud230\"(10), pmi=-1.886\n",
        "\n",
        "382"
       ]
      },
      {
       "output_type": "stream",
       "stream": "stdout",
       "text": [
        "\n",
        "969863"
       ]
      },
      {
       "output_type": "stream",
       "stream": "stdout",
       "text": [
        "\n",
        "23"
       ]
      },
      {
       "output_type": "stream",
       "stream": "stdout",
       "text": [
        "\n",
        "382"
       ]
      },
      {
       "output_type": "stream",
       "stream": "stdout",
       "text": [
        " 969863 23 1000000000.0\n",
        "val=0.0161\n",
        "\n",
        "app=\ub4dc\ub798\uace4 \ud50c\ub77c\uc774\ud2b8 for Kakao(382), keyword=+\"\ud50c\ub808\uc774\uc5b4\"(969863), both=\ub4dc\ub798\uace4 \ud50c\ub77c\uc774\ud2b8 for Kakao++\"\ud50c\ub808\uc774\uc5b4\"(23), pmi=-1.793\n",
        "\n",
        "382"
       ]
      },
      {
       "output_type": "stream",
       "stream": "stdout",
       "text": [
        "\n",
        "5034770"
       ]
      },
      {
       "output_type": "stream",
       "stream": "stdout",
       "text": [
        "\n",
        "6"
       ]
      },
      {
       "output_type": "stream",
       "stream": "stdout",
       "text": [
        "\n",
        "382"
       ]
      },
      {
       "output_type": "stream",
       "stream": "stdout",
       "text": [
        " 5034770 6 1000000000.0\n",
        "val=0.3205\n",
        "\n",
        "app=\ub4dc\ub798\uace4 \ud50c\ub77c\uc774\ud2b8 for Kakao(382), keyword=+\"\uce74\uba54\ub77c\"(5034770), both=\ub4dc\ub798\uace4 \ud50c\ub77c\uc774\ud2b8 for Kakao++\"\uce74\uba54\ub77c\"(6), pmi=-0.494\n",
        "\n",
        "382"
       ]
      },
      {
       "output_type": "stream",
       "stream": "stdout",
       "text": [
        "\n",
        "223507"
       ]
      },
      {
       "output_type": "stream",
       "stream": "stdout",
       "text": [
        "\n",
        "1"
       ]
      },
      {
       "output_type": "stream",
       "stream": "stdout",
       "text": [
        "\n",
        "382"
       ]
      },
      {
       "output_type": "stream",
       "stream": "stdout",
       "text": [
        " 223507 1 1000000000.0\n",
        "val=0.0854\n",
        "\n",
        "app=\ub4dc\ub798\uace4 \ud50c\ub77c\uc774\ud2b8 for Kakao(382), keyword=+\"\ubca8\uc18c\ub9ac\"(223507), both=\ub4dc\ub798\uace4 \ud50c\ub77c\uc774\ud2b8 for Kakao++\"\ubca8\uc18c\ub9ac\"(1), pmi=-1.069\n",
        "\n",
        "382"
       ]
      },
      {
       "output_type": "stream",
       "stream": "stdout",
       "text": [
        "\n",
        "1855000"
       ]
      },
      {
       "output_type": "stream",
       "stream": "stdout",
       "text": [
        "\n",
        "11"
       ]
      },
      {
       "output_type": "stream",
       "stream": "stdout",
       "text": [
        "\n",
        "382"
       ]
      },
      {
       "output_type": "stream",
       "stream": "stdout",
       "text": [
        " 1855000 11 1000000000.0\n",
        "val=0.0644\n",
        "\n",
        "app=\ub4dc\ub798\uace4 \ud50c\ub77c\uc774\ud2b8 for Kakao(382), keyword=+\"\ud55c\uae00\"(1855000), both=\ub4dc\ub798\uace4 \ud50c\ub77c\uc774\ud2b8 for Kakao++\"\ud55c\uae00\"(11), pmi=-1.191\n",
        "\n",
        "382"
       ]
      },
      {
       "output_type": "stream",
       "stream": "stdout",
       "text": [
        "\n",
        "451853"
       ]
      },
      {
       "output_type": "stream",
       "stream": "stdout",
       "text": [
        "\n",
        "1"
       ]
      },
      {
       "output_type": "stream",
       "stream": "stdout",
       "text": [
        "\n",
        "382"
       ]
      },
      {
       "output_type": "stream",
       "stream": "stdout",
       "text": [
        " 451853 1 1000000000.0\n",
        "val=0.1726\n",
        "\n",
        "app=\ub4dc\ub798\uace4 \ud50c\ub77c\uc774\ud2b8 for Kakao(382), keyword=+\"\uc624\ud53c\uc2a4\"(451853), both=\ub4dc\ub798\uace4 \ud50c\ub77c\uc774\ud2b8 for Kakao++\"\uc624\ud53c\uc2a4\"(1), pmi=-0.763\n",
        "\n",
        "382"
       ]
      },
      {
       "output_type": "stream",
       "stream": "stdout",
       "text": [
        "\n",
        "479017"
       ]
      },
      {
       "output_type": "stream",
       "stream": "stdout",
       "text": [
        "\n",
        "except 0"
       ]
      },
      {
       "output_type": "stream",
       "stream": "stdout",
       "text": [
        "\n",
        "382"
       ]
      },
      {
       "output_type": "stream",
       "stream": "stdout",
       "text": [
        " 479017 0 1000000000.0\n",
        "val=182984494.0000\n",
        "\n",
        "app=\ub4dc\ub798\uace4 \ud50c\ub77c\uc774\ud2b8 for Kakao(382), keyword=+\"office\"(479017), both=\ub4dc\ub798\uace4 \ud50c\ub77c\uc774\ud2b8 for Kakao++\"office\"(0), pmi=8.262\n",
        "\n",
        "382"
       ]
      },
      {
       "output_type": "stream",
       "stream": "stdout",
       "text": [
        "\n",
        "1275072"
       ]
      },
      {
       "output_type": "stream",
       "stream": "stdout",
       "text": [
        "\n",
        "3"
       ]
      },
      {
       "output_type": "stream",
       "stream": "stdout",
       "text": [
        "\n",
        "382"
       ]
      },
      {
       "output_type": "stream",
       "stream": "stdout",
       "text": [
        " 1275072 3 1000000000.0\n",
        "val=0.1624\n",
        "\n",
        "app=\ub4dc\ub798\uace4 \ud50c\ub77c\uc774\ud2b8 for Kakao(382), keyword=+\"\uc54c\ubc14\"(1275072), both=\ub4dc\ub798\uace4 \ud50c\ub77c\uc774\ud2b8 for Kakao++\"\uc54c\ubc14\"(3), pmi=-0.790\n",
        "\n",
        "382"
       ]
      },
      {
       "output_type": "stream",
       "stream": "stdout",
       "text": [
        "\n",
        "1281848"
       ]
      },
      {
       "output_type": "stream",
       "stream": "stdout",
       "text": [
        "\n",
        "4"
       ]
      },
      {
       "output_type": "stream",
       "stream": "stdout",
       "text": [
        "\n",
        "382"
       ]
      },
      {
       "output_type": "stream",
       "stream": "stdout",
       "text": [
        " 1281848 4 1000000000.0\n",
        "val=0.1224\n",
        "\n",
        "app=\ub4dc\ub798\uace4 \ud50c\ub77c\uc774\ud2b8 for Kakao(382), keyword=+\"photo\"(1281848), both=\ub4dc\ub798\uace4 \ud50c\ub77c\uc774\ud2b8 for Kakao++\"photo\"(4), pmi=-0.912\n"
       ]
      },
      {
       "output_type": "stream",
       "stream": "stdout",
       "text": [
        "\n",
        "382"
       ]
      },
      {
       "output_type": "stream",
       "stream": "stdout",
       "text": [
        "\n",
        "883685"
       ]
      },
      {
       "output_type": "stream",
       "stream": "stdout",
       "text": [
        "\n",
        "5"
       ]
      },
      {
       "output_type": "stream",
       "stream": "stdout",
       "text": [
        "\n",
        "382"
       ]
      },
      {
       "output_type": "stream",
       "stream": "stdout",
       "text": [
        " 883685 5 1000000000.0\n",
        "val=0.0675\n",
        "\n",
        "app=\ub4dc\ub798\uace4 \ud50c\ub77c\uc774\ud2b8 for Kakao(382), keyword=+\"\ub4dc\ub77c\uc774\ube0c\"(883685), both=\ub4dc\ub798\uace4 \ud50c\ub77c\uc774\ud2b8 for Kakao++\"\ub4dc\ub77c\uc774\ube0c\"(5), pmi=-1.171\n",
        "\n",
        "382"
       ]
      },
      {
       "output_type": "stream",
       "stream": "stdout",
       "text": [
        "\n",
        "3698046"
       ]
      },
      {
       "output_type": "stream",
       "stream": "stdout",
       "text": [
        "\n",
        "38"
       ]
      },
      {
       "output_type": "stream",
       "stream": "stdout",
       "text": [
        "\n",
        "382"
       ]
      },
      {
       "output_type": "stream",
       "stream": "stdout",
       "text": [
        " 3698046 38 1000000000.0\n",
        "val=0.0372\n",
        "\n",
        "app=\ub4dc\ub798\uace4 \ud50c\ub77c\uc774\ud2b8 for Kakao(382), keyword=+\"\ud30c\uc77c\"(3698046), both=\ub4dc\ub798\uace4 \ud50c\ub77c\uc774\ud2b8 for Kakao++\"\ud30c\uc77c\"(38), pmi=-1.430\n",
        "\n",
        "382"
       ]
      },
      {
       "output_type": "stream",
       "stream": "stdout",
       "text": [
        "\n",
        "1045479"
       ]
      },
      {
       "output_type": "stream",
       "stream": "stdout",
       "text": [
        "\n",
        "1"
       ]
      },
      {
       "output_type": "stream",
       "stream": "stdout",
       "text": [
        "\n",
        "382"
       ]
      },
      {
       "output_type": "stream",
       "stream": "stdout",
       "text": [
        " 1045479 1 1000000000.0\n",
        "val=0.3994\n",
        "\n",
        "app=\ub4dc\ub798\uace4 \ud50c\ub77c\uc774\ud2b8 for Kakao(382), keyword=+\"\uac24\ub7ec\ub9ac\"(1045479), both=\ub4dc\ub798\uace4 \ud50c\ub77c\uc774\ud2b8 for Kakao++\"\uac24\ub7ec\ub9ac\"(1), pmi=-0.399\n"
       ]
      },
      {
       "output_type": "stream",
       "stream": "stdout",
       "text": [
        "\n",
        "382"
       ]
      },
      {
       "output_type": "stream",
       "stream": "stdout",
       "text": [
        "\n",
        "2716618"
       ]
      },
      {
       "output_type": "stream",
       "stream": "stdout",
       "text": [
        "\n",
        "8"
       ]
      },
      {
       "output_type": "stream",
       "stream": "stdout",
       "text": [
        "\n",
        "382"
       ]
      },
      {
       "output_type": "stream",
       "stream": "stdout",
       "text": [
        " 2716618 8 1000000000.0\n",
        "val=0.1297\n",
        "\n",
        "app=\ub4dc\ub798\uace4 \ud50c\ub77c\uc774\ud2b8 for Kakao(382), keyword=+\"\uadf8\ub8f9\"(2716618), both=\ub4dc\ub798\uace4 \ud50c\ub77c\uc774\ud2b8 for Kakao++\"\uadf8\ub8f9\"(8), pmi=-0.887\n",
        "\n",
        "382"
       ]
      },
      {
       "output_type": "stream",
       "stream": "stdout",
       "text": [
        "\n",
        "110182"
       ]
      },
      {
       "output_type": "stream",
       "stream": "stdout",
       "text": [
        "\n",
        "except 0"
       ]
      },
      {
       "output_type": "stream",
       "stream": "stdout",
       "text": [
        "\n",
        "382"
       ]
      },
      {
       "output_type": "stream",
       "stream": "stdout",
       "text": [
        " 110182 0 1000000000.0\n",
        "val=42089524.0000\n",
        "\n",
        "app=\ub4dc\ub798\uace4 \ud50c\ub77c\uc774\ud2b8 for Kakao(382), keyword=+\"\ubc14\ucf54\ub4dc\"(110182), both=\ub4dc\ub798\uace4 \ud50c\ub77c\uc774\ud2b8 for Kakao++\"\ubc14\ucf54\ub4dc\"(0), pmi=7.624\n",
        "\n",
        "382"
       ]
      },
      {
       "output_type": "stream",
       "stream": "stdout",
       "text": [
        "\n",
        "102122"
       ]
      },
      {
       "output_type": "stream",
       "stream": "stdout",
       "text": [
        "\n",
        "except 0"
       ]
      },
      {
       "output_type": "stream",
       "stream": "stdout",
       "text": [
        "\n",
        "382"
       ]
      },
      {
       "output_type": "stream",
       "stream": "stdout",
       "text": [
        " 102122 0 1000000000.0\n",
        "val=39010604.0000\n",
        "\n",
        "app=\ub4dc\ub798\uace4 \ud50c\ub77c\uc774\ud2b8 for Kakao(382), keyword=+\"\uc2a4\uce90\ub108\"(102122), both=\ub4dc\ub798\uace4 \ud50c\ub77c\uc774\ud2b8 for Kakao++\"\uc2a4\uce90\ub108\"(0), pmi=7.591\n",
        "\n",
        "382"
       ]
      },
      {
       "output_type": "stream",
       "stream": "stdout",
       "text": [
        "\n",
        "180892"
       ]
      },
      {
       "output_type": "stream",
       "stream": "stdout",
       "text": [
        "\n",
        "1"
       ]
      },
      {
       "output_type": "stream",
       "stream": "stdout",
       "text": [
        "\n",
        "382"
       ]
      },
      {
       "output_type": "stream",
       "stream": "stdout",
       "text": [
        " 180892 1 1000000000.0\n",
        "val=0.0691\n",
        "\n",
        "app=\ub4dc\ub798\uace4 \ud50c\ub77c\uc774\ud2b8 for Kakao(382), keyword=+\"\uc18c\uc15c\ucee4\uba38\uc2a4\"(180892), both=\ub4dc\ub798\uace4 \ud50c\ub77c\uc774\ud2b8 for Kakao++\"\uc18c\uc15c\ucee4\uba38\uc2a4\"(1), pmi=-1.161\n",
        "\n",
        "382"
       ]
      },
      {
       "output_type": "stream",
       "stream": "stdout",
       "text": [
        "\n",
        "1042592"
       ]
      },
      {
       "output_type": "stream",
       "stream": "stdout",
       "text": [
        "\n",
        "55"
       ]
      },
      {
       "output_type": "stream",
       "stream": "stdout",
       "text": [
        "\n",
        "382"
       ]
      },
      {
       "output_type": "stream",
       "stream": "stdout",
       "text": [
        " 1042592 55 1000000000.0\n",
        "val=0.0072\n",
        "\n",
        "app=\ub4dc\ub798\uace4 \ud50c\ub77c\uc774\ud2b8 for Kakao(382), keyword=+\"\uc18c\uc15c\"(1042592), both=\ub4dc\ub798\uace4 \ud50c\ub77c\uc774\ud2b8 for Kakao++\"\uc18c\uc15c\"(55), pmi=-2.140\n",
        "\n",
        "382"
       ]
      },
      {
       "output_type": "stream",
       "stream": "stdout",
       "text": [
        "\n",
        "except 0"
       ]
      },
      {
       "output_type": "stream",
       "stream": "stdout",
       "text": [
        "\n",
        "5"
       ]
      },
      {
       "output_type": "stream",
       "stream": "stdout",
       "text": [
        "\n",
        "382"
       ]
      },
      {
       "output_type": "stream",
       "stream": "stdout",
       "text": [
        " 0 5 1000000000.0\n",
        "val=0.0000\n",
        "\n",
        "app=\ub4dc\ub798\uace4 \ud50c\ub77c\uc774\ud2b8 for Kakao(382), keyword=+\"\uc131\uc778\"(0), both=\ub4dc\ub798\uace4 \ud50c\ub77c\uc774\ud2b8 for Kakao++\"\uc131\uc778\"(5), pmi=0.000\n",
        "\n",
        "382"
       ]
      },
      {
       "output_type": "stream",
       "stream": "stdout",
       "text": [
        "\n",
        "except 0"
       ]
      },
      {
       "output_type": "stream",
       "stream": "stdout",
       "text": [
        "\n",
        "except 0"
       ]
      },
      {
       "output_type": "stream",
       "stream": "stdout",
       "text": [
        "\n",
        "382"
       ]
      },
      {
       "output_type": "stream",
       "stream": "stdout",
       "text": [
        " 0 0 1000000000.0\n",
        "val=0.0000\n",
        "\n",
        "app=\ub4dc\ub798\uace4 \ud50c\ub77c\uc774\ud2b8 for Kakao(382), keyword=+\"sex\"(0), both=\ub4dc\ub798\uace4 \ud50c\ub77c\uc774\ud2b8 for Kakao++\"sex\"(0), pmi=0.000\n",
        "\n",
        "382"
       ]
      },
      {
       "output_type": "stream",
       "stream": "stdout",
       "text": [
        "\n",
        "3358538"
       ]
      },
      {
       "output_type": "stream",
       "stream": "stdout",
       "text": [
        "\n",
        "5"
       ]
      },
      {
       "output_type": "stream",
       "stream": "stdout",
       "text": [
        "\n",
        "382"
       ]
      },
      {
       "output_type": "stream",
       "stream": "stdout",
       "text": [
        " 3358538 5 1000000000.0\n",
        "val=0.2566\n",
        "\n",
        "app=\ub4dc\ub798\uace4 \ud50c\ub77c\uc774\ud2b8 for Kakao(382), keyword=+\"\uc5b4\ub978\"(3358538), both=\ub4dc\ub798\uace4 \ud50c\ub77c\uc774\ud2b8 for Kakao++\"\uc5b4\ub978\"(5), pmi=-0.591\n"
       ]
      },
      {
       "output_type": "stream",
       "stream": "stdout",
       "text": [
        "\n",
        "382"
       ]
      },
      {
       "output_type": "stream",
       "stream": "stdout",
       "text": [
        "\n",
        "except 0"
       ]
      },
      {
       "output_type": "stream",
       "stream": "stdout",
       "text": [
        "\n",
        "except 0"
       ]
      },
      {
       "output_type": "stream",
       "stream": "stdout",
       "text": [
        "\n",
        "382"
       ]
      },
      {
       "output_type": "stream",
       "stream": "stdout",
       "text": [
        " 0 0 1000000000.0\n",
        "val=0.0000\n",
        "\n",
        "app=\ub4dc\ub798\uace4 \ud50c\ub77c\uc774\ud2b8 for Kakao(382), keyword=+\"\uc139\uc2a4\"(0), both=\ub4dc\ub798\uace4 \ud50c\ub77c\uc774\ud2b8 for Kakao++\"\uc139\uc2a4\"(0), pmi=0.000\n",
        "\n"
       ]
      },
      {
       "output_type": "stream",
       "stream": "stdout",
       "text": [
        "\r",
        "app Instagram start\n",
        "45135"
       ]
      },
      {
       "output_type": "stream",
       "stream": "stdout",
       "text": [
        "\n",
        "except 0"
       ]
      },
      {
       "output_type": "stream",
       "stream": "stdout",
       "text": [
        "\n",
        "45135"
       ]
      },
      {
       "output_type": "stream",
       "stream": "stdout",
       "text": [
        "\n",
        "45135"
       ]
      },
      {
       "output_type": "stream",
       "stream": "stdout",
       "text": [
        " 0 45135 1000000000.0\n",
        "val=0.0000\n",
        "\n",
        "app=Instagram(45135), keyword=(0), both=Instagram+(45135), pmi=0.000\n",
        "\n",
        "45135"
       ]
      },
      {
       "output_type": "stream",
       "stream": "stdout",
       "text": [
        "\n",
        "444202"
       ]
      },
      {
       "output_type": "stream",
       "stream": "stdout",
       "text": [
        "\n",
        "127"
       ]
      },
      {
       "output_type": "stream",
       "stream": "stdout",
       "text": [
        "\n",
        "45135"
       ]
      },
      {
       "output_type": "stream",
       "stream": "stdout",
       "text": [
        " 444202 127 1000000000.0\n",
        "val=0.1579\n",
        "\n",
        "app=Instagram(45135), keyword=+\"\ufeff\ud37c\uc990\"(444202), both=Instagram++\"\ufeff\ud37c\uc990\"(127), pmi=-0.802\n",
        "\n",
        "45135"
       ]
      },
      {
       "output_type": "stream",
       "stream": "stdout",
       "text": [
        "\n",
        "422522"
       ]
      },
      {
       "output_type": "stream",
       "stream": "stdout",
       "text": [
        "\n",
        "66"
       ]
      },
      {
       "output_type": "stream",
       "stream": "stdout",
       "text": [
        "\n",
        "45135"
       ]
      },
      {
       "output_type": "stream",
       "stream": "stdout",
       "text": [
        " 422522 66 1000000000.0\n",
        "val=0.2889\n",
        "\n",
        "app=Instagram(45135), keyword=+\"\uce90\uc8fc\uc5bc\"(422522), both=Instagram++\"\uce90\uc8fc\uc5bc\"(66), pmi=-0.539\n",
        "\n",
        "45135"
       ]
      },
      {
       "output_type": "stream",
       "stream": "stdout",
       "text": [
        "\n",
        "115392"
       ]
      },
      {
       "output_type": "stream",
       "stream": "stdout",
       "text": [
        "\n",
        "44"
       ]
      },
      {
       "output_type": "stream",
       "stream": "stdout",
       "text": [
        "\n",
        "45135"
       ]
      },
      {
       "output_type": "stream",
       "stream": "stdout",
       "text": [
        " 115392 44 1000000000.0\n",
        "val=0.1184\n",
        "\n",
        "app=Instagram(45135), keyword=+\"\uc544\ucf00\uc774\ub4dc\"(115392), both=Instagram++\"\uc544\ucf00\uc774\ub4dc\"(44), pmi=-0.927\n"
       ]
      },
      {
       "output_type": "stream",
       "stream": "stdout",
       "text": [
        "\n",
        "45135"
       ]
      },
      {
       "output_type": "stream",
       "stream": "stdout",
       "text": [
        "\n",
        "6861712"
       ]
      },
      {
       "output_type": "stream",
       "stream": "stdout",
       "text": [
        "\n",
        "651"
       ]
      },
      {
       "output_type": "stream",
       "stream": "stdout",
       "text": [
        "\n",
        "45135"
       ]
      },
      {
       "output_type": "stream",
       "stream": "stdout",
       "text": [
        " 6861712 651 1000000000.0\n",
        "val=0.4757\n",
        "\n",
        "app=Instagram(45135), keyword=+\"\uc5ec\uc131\"(6861712), both=Instagram++\"\uc5ec\uc131\"(651), pmi=-0.323\n",
        "\n",
        "45135"
       ]
      },
      {
       "output_type": "stream",
       "stream": "stdout",
       "text": [
        "\n",
        "2386979"
       ]
      },
      {
       "output_type": "stream",
       "stream": "stdout",
       "text": [
        "\n",
        "218"
       ]
      },
      {
       "output_type": "stream",
       "stream": "stdout",
       "text": [
        "\n",
        "45135"
       ]
      },
      {
       "output_type": "stream",
       "stream": "stdout",
       "text": [
        " 2386979 218 1000000000.0\n",
        "val=0.4942\n",
        "\n",
        "app=Instagram(45135), keyword=+\"\ub0a8\uc131\"(2386979), both=Instagram++\"\ub0a8\uc131\"(218), pmi=-0.306\n",
        "\n",
        "45135"
       ]
      },
      {
       "output_type": "stream",
       "stream": "stdout",
       "text": [
        "\n",
        "19817919"
       ]
      },
      {
       "output_type": "stream",
       "stream": "stdout",
       "text": [
        "\n",
        "3897"
       ]
      },
      {
       "output_type": "stream",
       "stream": "stdout",
       "text": [
        "\n",
        "45135"
       ]
      },
      {
       "output_type": "stream",
       "stream": "stdout",
       "text": [
        " 19817919 3897 1000000000.0\n",
        "val=0.2295\n",
        "\n",
        "app=Instagram(45135), keyword=+\"\uce5c\uad6c\"(19817919), both=Instagram++\"\uce5c\uad6c\"(3897), pmi=-0.639\n",
        "\n",
        "45135"
       ]
      },
      {
       "output_type": "stream",
       "stream": "stdout",
       "text": [
        "\n",
        "1498604"
       ]
      },
      {
       "output_type": "stream",
       "stream": "stdout",
       "text": [
        "\n",
        "248"
       ]
      },
      {
       "output_type": "stream",
       "stream": "stdout",
       "text": [
        "\n",
        "45135"
       ]
      },
      {
       "output_type": "stream",
       "stream": "stdout",
       "text": [
        " 1498604 248 1000000000.0\n",
        "val=0.2727\n",
        "\n",
        "app=Instagram(45135), keyword=+\"\uc5f0\uc560\"(1498604), both=Instagram++\"\uc5f0\uc560\"(248), pmi=-0.564\n",
        "\n",
        "45135"
       ]
      },
      {
       "output_type": "stream",
       "stream": "stdout",
       "text": [
        "\n",
        "496304"
       ]
      },
      {
       "output_type": "stream",
       "stream": "stdout",
       "text": [
        "\n",
        "73"
       ]
      },
      {
       "output_type": "stream",
       "stream": "stdout",
       "text": [
        "\n",
        "45135"
       ]
      },
      {
       "output_type": "stream",
       "stream": "stdout",
       "text": [
        " 496304 73 1000000000.0\n",
        "val=0.3069\n",
        "\n",
        "app=Instagram(45135), keyword=+\"\uc5f0\uc608\"(496304), both=Instagram++\"\uc5f0\uc608\"(73), pmi=-0.513\n",
        "\n",
        "45135"
       ]
      },
      {
       "output_type": "stream",
       "stream": "stdout",
       "text": [
        "\n",
        "13161729"
       ]
      },
      {
       "output_type": "stream",
       "stream": "stdout",
       "text": [
        "\n",
        "1536"
       ]
      },
      {
       "output_type": "stream",
       "stream": "stdout",
       "text": [
        "\n",
        "45135"
       ]
      },
      {
       "output_type": "stream",
       "stream": "stdout",
       "text": [
        " 13161729 1536 1000000000.0\n",
        "val=0.3868\n",
        "\n",
        "app=Instagram(45135), keyword=+\"\uc5bc\uad74\"(13161729), both=Instagram++\"\uc5bc\uad74\"(1536), pmi=-0.413\n",
        "\n",
        "45135"
       ]
      },
      {
       "output_type": "stream",
       "stream": "stdout",
       "text": [
        "\n",
        "3843427"
       ]
      },
      {
       "output_type": "stream",
       "stream": "stdout",
       "text": [
        "\n",
        "498"
       ]
      },
      {
       "output_type": "stream",
       "stream": "stdout",
       "text": [
        "\n",
        "45135"
       ]
      },
      {
       "output_type": "stream",
       "stream": "stdout",
       "text": [
        " 3843427 498 1000000000.0\n",
        "val=0.3483\n",
        "\n",
        "app=Instagram(45135), keyword=+\"\uc18d\ub3c4\"(3843427), both=Instagram++\"\uc18d\ub3c4\"(498), pmi=-0.458\n",
        "\n",
        "45135"
       ]
      },
      {
       "output_type": "stream",
       "stream": "stdout",
       "text": [
        "\n",
        "11917544"
       ]
      },
      {
       "output_type": "stream",
       "stream": "stdout",
       "text": [
        "\n",
        "1438"
       ]
      },
      {
       "output_type": "stream",
       "stream": "stdout",
       "text": [
        "\n",
        "45135"
       ]
      },
      {
       "output_type": "stream",
       "stream": "stdout",
       "text": [
        " 11917544 1438 1000000000.0\n",
        "val=0.3741\n",
        "\n",
        "app=Instagram(45135), keyword=+\"\ub3c8\"(11917544), both=Instagram++\"\ub3c8\"(1438), pmi=-0.427\n",
        "\n",
        "45135"
       ]
      },
      {
       "output_type": "stream",
       "stream": "stdout",
       "text": [
        "\n",
        "490509"
       ]
      },
      {
       "output_type": "stream",
       "stream": "stdout",
       "text": [
        "\n",
        "123"
       ]
      },
      {
       "output_type": "stream",
       "stream": "stdout",
       "text": [
        "\n",
        "45135"
       ]
      },
      {
       "output_type": "stream",
       "stream": "stdout",
       "text": [
        " 490509 123 1000000000.0\n",
        "val=0.1800\n",
        "\n",
        "app=Instagram(45135), keyword=+\"\ub79c\ub364\"(490509), both=Instagram++\"\ub79c\ub364\"(123), pmi=-0.745\n",
        "\n",
        "45135"
       ]
      },
      {
       "output_type": "stream",
       "stream": "stdout",
       "text": [
        "\n",
        "108961"
       ]
      },
      {
       "output_type": "stream",
       "stream": "stdout",
       "text": [
        "\n",
        "378"
       ]
      },
      {
       "output_type": "stream",
       "stream": "stdout",
       "text": [
        "\n",
        "45135"
       ]
      },
      {
       "output_type": "stream",
       "stream": "stdout",
       "text": [
        " 108961 378 1000000000.0\n",
        "val=0.0130\n",
        "\n",
        "app=Instagram(45135), keyword=+\"random\"(108961), both=Instagram++\"random\"(378), pmi=-1.886\n",
        "\n",
        "45135"
       ]
      },
      {
       "output_type": "stream",
       "stream": "stdout",
       "text": [
        "\n",
        "8506912"
       ]
      },
      {
       "output_type": "stream",
       "stream": "stdout",
       "text": [
        "\n",
        "1013"
       ]
      },
      {
       "output_type": "stream",
       "stream": "stdout",
       "text": [
        "\n",
        "45135"
       ]
      },
      {
       "output_type": "stream",
       "stream": "stdout",
       "text": [
        " 8506912 1013 1000000000.0\n",
        "val=0.3790\n",
        "\n",
        "app=Instagram(45135), keyword=+\"\uc74c\uc2dd\"(8506912), both=Instagram++\"\uc74c\uc2dd\"(1013), pmi=-0.421\n",
        "\n",
        "45135"
       ]
      },
      {
       "output_type": "stream",
       "stream": "stdout",
       "text": [
        "\n",
        "17687489"
       ]
      },
      {
       "output_type": "stream",
       "stream": "stdout",
       "text": [
        "\n",
        "1322"
       ]
      },
      {
       "output_type": "stream",
       "stream": "stdout",
       "text": [
        "\n",
        "45135"
       ]
      },
      {
       "output_type": "stream",
       "stream": "stdout",
       "text": [
        " 17687489 1322 1000000000.0\n",
        "val=0.6039\n",
        "\n",
        "app=Instagram(45135), keyword=+\"\ubc29\ubc95\"(17687489), both=Instagram++\"\ubc29\ubc95\"(1322), pmi=-0.219\n",
        "\n",
        "45135"
       ]
      },
      {
       "output_type": "stream",
       "stream": "stdout",
       "text": [
        "\n",
        "588223"
       ]
      },
      {
       "output_type": "stream",
       "stream": "stdout",
       "text": [
        "\n",
        "713"
       ]
      },
      {
       "output_type": "stream",
       "stream": "stdout",
       "text": [
        "\n",
        "45135"
       ]
      },
      {
       "output_type": "stream",
       "stream": "stdout",
       "text": [
        " 588223 713 1000000000.0\n",
        "val=0.0372\n",
        "\n",
        "app=Instagram(45135), keyword=+\"\uc548\ub4dc\ub85c\uc774\ub4dc\"(588223), both=Instagram++\"\uc548\ub4dc\ub85c\uc774\ub4dc\"(713), pmi=-1.429\n",
        "\n",
        "45135"
       ]
      },
      {
       "output_type": "stream",
       "stream": "stdout",
       "text": [
        "\n",
        "771048"
       ]
      },
      {
       "output_type": "stream",
       "stream": "stdout",
       "text": [
        "\n",
        "1203"
       ]
      },
      {
       "output_type": "stream",
       "stream": "stdout",
       "text": [
        "\n",
        "45135"
       ]
      },
      {
       "output_type": "stream",
       "stream": "stdout",
       "text": [
        " 771048 1203 1000000000.0\n",
        "val=0.0289\n",
        "\n",
        "app=Instagram(45135), keyword=+\"\uc544\uc774\ud3f0\"(771048), both=Instagram++\"\uc544\uc774\ud3f0\"(1203), pmi=-1.539\n",
        "\n",
        "45135"
       ]
      },
      {
       "output_type": "stream",
       "stream": "stdout",
       "text": [
        "\n",
        "223015"
       ]
      },
      {
       "output_type": "stream",
       "stream": "stdout",
       "text": [
        "\n",
        "3946"
       ]
      },
      {
       "output_type": "stream",
       "stream": "stdout",
       "text": [
        "\n",
        "45135"
       ]
      },
      {
       "output_type": "stream",
       "stream": "stdout",
       "text": [
        " 223015 3946 1000000000.0\n",
        "val=0.0026\n",
        "\n",
        "app=Instagram(45135), keyword=+\"android\"(223015), both=Instagram++\"android\"(3946), pmi=-2.593\n",
        "\n",
        "45135"
       ]
      },
      {
       "output_type": "stream",
       "stream": "stdout",
       "text": [
        "\n",
        "448851"
       ]
      },
      {
       "output_type": "stream",
       "stream": "stdout",
       "text": [
        "\n",
        "6698"
       ]
      },
      {
       "output_type": "stream",
       "stream": "stdout",
       "text": [
        "\n",
        "45135"
       ]
      },
      {
       "output_type": "stream",
       "stream": "stdout",
       "text": [
        " 448851 6698 1000000000.0\n",
        "val=0.0030\n",
        "\n",
        "app=Instagram(45135), keyword=+\"iphone\"(448851), both=Instagram++\"iphone\"(6698), pmi=-2.519\n",
        "\n",
        "45135"
       ]
      },
      {
       "output_type": "stream",
       "stream": "stdout",
       "text": [
        "\n",
        "348219"
       ]
      },
      {
       "output_type": "stream",
       "stream": "stdout",
       "text": [
        "\n",
        "23"
       ]
      },
      {
       "output_type": "stream",
       "stream": "stdout",
       "text": [
        "\n",
        "45135"
       ]
      },
      {
       "output_type": "stream",
       "stream": "stdout",
       "text": [
        " 348219 23 1000000000.0\n",
        "val=0.6833\n",
        "\n",
        "app=Instagram(45135), keyword=+\"\uc624\ub77d\"(348219), both=Instagram++\"\uc624\ub77d\"(23), pmi=-0.165\n",
        "\n",
        "45135"
       ]
      },
      {
       "output_type": "stream",
       "stream": "stdout",
       "text": [
        "\n",
        "1396569"
       ]
      },
      {
       "output_type": "stream",
       "stream": "stdout",
       "text": [
        "\n",
        "105"
       ]
      },
      {
       "output_type": "stream",
       "stream": "stdout",
       "text": [
        "\n",
        "45135"
       ]
      },
      {
       "output_type": "stream",
       "stream": "stdout",
       "text": [
        " 1396569 105 1000000000.0\n",
        "val=0.6003\n",
        "\n",
        "app=Instagram(45135), keyword=+\"\uc2ec\ub9ac\"(1396569), both=Instagram++\"\uc2ec\ub9ac\"(105), pmi=-0.222\n",
        "\n",
        "45135"
       ]
      },
      {
       "output_type": "stream",
       "stream": "stdout",
       "text": [
        "\n",
        "1568726"
       ]
      },
      {
       "output_type": "stream",
       "stream": "stdout",
       "text": [
        "\n",
        "209"
       ]
      },
      {
       "output_type": "stream",
       "stream": "stdout",
       "text": [
        "\n",
        "45135"
       ]
      },
      {
       "output_type": "stream",
       "stream": "stdout",
       "text": [
        " 1568726 209 1000000000.0\n",
        "val=0.3388\n",
        "\n",
        "app=Instagram(45135), keyword=+\"\ubd80\uc790\"(1568726), both=Instagram++\"\ubd80\uc790\"(209), pmi=-0.470\n",
        "\n",
        "45135"
       ]
      },
      {
       "output_type": "stream",
       "stream": "stdout",
       "text": [
        "\n",
        "5402120"
       ]
      },
      {
       "output_type": "stream",
       "stream": "stdout",
       "text": [
        "\n",
        "794"
       ]
      },
      {
       "output_type": "stream",
       "stream": "stdout",
       "text": [
        "\n",
        "45135"
       ]
      },
      {
       "output_type": "stream",
       "stream": "stdout",
       "text": [
        " 5402120 794 1000000000.0\n",
        "val=0.3071\n",
        "\n",
        "app=Instagram(45135), keyword=+\"\uc601\uc5b4\"(5402120), both=Instagram++\"\uc601\uc5b4\"(794), pmi=-0.513\n",
        "\n",
        "45135"
       ]
      },
      {
       "output_type": "stream",
       "stream": "stdout",
       "text": [
        "\n",
        "483192"
       ]
      },
      {
       "output_type": "stream",
       "stream": "stdout",
       "text": [
        "\n",
        "70"
       ]
      },
      {
       "output_type": "stream",
       "stream": "stdout",
       "text": [
        "\n",
        "45135"
       ]
      },
      {
       "output_type": "stream",
       "stream": "stdout",
       "text": [
        " 483192 70 1000000000.0\n",
        "val=0.3116\n",
        "\n",
        "app=Instagram(45135), keyword=+\"\ud1a0\uc775\"(483192), both=Instagram++\"\ud1a0\uc775\"(70), pmi=-0.506\n",
        "\n",
        "45135"
       ]
      },
      {
       "output_type": "stream",
       "stream": "stdout",
       "text": [
        "\n",
        "8530676"
       ]
      },
      {
       "output_type": "stream",
       "stream": "stdout",
       "text": [
        "\n",
        "847"
       ]
      },
      {
       "output_type": "stream",
       "stream": "stdout",
       "text": [
        "\n",
        "45135"
       ]
      },
      {
       "output_type": "stream",
       "stream": "stdout",
       "text": [
        " 8530676 847 1000000000.0\n",
        "val=0.4546\n",
        "\n",
        "app=Instagram(45135), keyword=+\"\uacf5\ubd80\"(8530676), both=Instagram++\"\uacf5\ubd80\"(847), pmi=-0.342\n",
        "\n",
        "45135"
       ]
      },
      {
       "output_type": "stream",
       "stream": "stdout",
       "text": [
        "\n",
        "5445702"
       ]
      },
      {
       "output_type": "stream",
       "stream": "stdout",
       "text": [
        "\n",
        "446"
       ]
      },
      {
       "output_type": "stream",
       "stream": "stdout",
       "text": [
        "\n",
        "45135"
       ]
      },
      {
       "output_type": "stream",
       "stream": "stdout",
       "text": [
        " 5445702 446 1000000000.0\n",
        "val=0.5511\n",
        "\n",
        "app=Instagram(45135), keyword=+\"\uc77c\uc815\"(5445702), both=Instagram++\"\uc77c\uc815\"(446), pmi=-0.259\n",
        "\n",
        "45135"
       ]
      },
      {
       "output_type": "stream",
       "stream": "stdout",
       "text": [
        "\n",
        "580894"
       ]
      },
      {
       "output_type": "stream",
       "stream": "stdout",
       "text": [
        "\n",
        "146"
       ]
      },
      {
       "output_type": "stream",
       "stream": "stdout",
       "text": [
        "\n",
        "45135"
       ]
      },
      {
       "output_type": "stream",
       "stream": "stdout",
       "text": [
        " 580894 146 1000000000.0\n",
        "val=0.1796\n",
        "\n",
        "app=Instagram(45135), keyword=+\"\ub2ec\ub825\"(580894), both=Instagram++\"\ub2ec\ub825\"(146), pmi=-0.746\n",
        "\n",
        "45135"
       ]
      },
      {
       "output_type": "stream",
       "stream": "stdout",
       "text": [
        "\n",
        "8137729"
       ]
      },
      {
       "output_type": "stream",
       "stream": "stdout",
       "text": [
        "\n",
        "565"
       ]
      },
      {
       "output_type": "stream",
       "stream": "stdout",
       "text": [
        "\n",
        "45135"
       ]
      },
      {
       "output_type": "stream",
       "stream": "stdout",
       "text": [
        " 8137729 565 1000000000.0\n",
        "val=0.6501\n",
        "\n",
        "app=Instagram(45135), keyword=+\"\uacc4\ud68d\"(8137729), both=Instagram++\"\uacc4\ud68d\"(565), pmi=-0.187\n"
       ]
      },
      {
       "output_type": "stream",
       "stream": "stdout",
       "text": [
        "\n",
        "45135"
       ]
      },
      {
       "output_type": "stream",
       "stream": "stdout",
       "text": [
        "\n",
        "1109605"
       ]
      },
      {
       "output_type": "stream",
       "stream": "stdout",
       "text": [
        "\n",
        "55"
       ]
      },
      {
       "output_type": "stream",
       "stream": "stdout",
       "text": [
        "\n",
        "45135"
       ]
      },
      {
       "output_type": "stream",
       "stream": "stdout",
       "text": [
        " 1109605 55 1000000000.0\n",
        "val=0.9106\n",
        "\n",
        "app=Instagram(45135), keyword=+\"\uacf5\ub7b5\"(1109605), both=Instagram++\"\uacf5\ub7b5\"(55), pmi=-0.041\n"
       ]
      },
      {
       "output_type": "stream",
       "stream": "stdout",
       "text": [
        "\n",
        "45135"
       ]
      },
      {
       "output_type": "stream",
       "stream": "stdout",
       "text": [
        "\n",
        "358302"
       ]
      },
      {
       "output_type": "stream",
       "stream": "stdout",
       "text": [
        "\n",
        "67"
       ]
      },
      {
       "output_type": "stream",
       "stream": "stdout",
       "text": [
        "\n",
        "45135"
       ]
      },
      {
       "output_type": "stream",
       "stream": "stdout",
       "text": [
        " 358302 67 1000000000.0\n",
        "val=0.2414\n",
        "\n",
        "app=Instagram(45135), keyword=+\"\ub808\uc774\uc2f1\"(358302), both=Instagram++\"\ub808\uc774\uc2f1\"(67), pmi=-0.617\n",
        "\n",
        "45135"
       ]
      },
      {
       "output_type": "stream",
       "stream": "stdout",
       "text": [
        "\n",
        "209268"
       ]
      },
      {
       "output_type": "stream",
       "stream": "stdout",
       "text": [
        "\n",
        "71"
       ]
      },
      {
       "output_type": "stream",
       "stream": "stdout",
       "text": [
        "\n",
        "45135"
       ]
      },
      {
       "output_type": "stream",
       "stream": "stdout",
       "text": [
        " 209268 71 1000000000.0\n",
        "val=0.1330\n",
        "\n",
        "app=Instagram(45135), keyword=+\"RPG\"(209268), both=Instagram++\"RPG\"(71), pmi=-0.876\n",
        "\n",
        "45135"
       ]
      },
      {
       "output_type": "stream",
       "stream": "stdout",
       "text": [
        "\n",
        "5037696"
       ]
      },
      {
       "output_type": "stream",
       "stream": "stdout",
       "text": [
        "\n",
        "793"
       ]
      },
      {
       "output_type": "stream",
       "stream": "stdout",
       "text": [
        "\n",
        "45135"
       ]
      },
      {
       "output_type": "stream",
       "stream": "stdout",
       "text": [
        " 5037696 793 1000000000.0\n",
        "val=0.2867\n",
        "\n",
        "app=Instagram(45135), keyword=+\"\uce74\ub4dc\"(5037696), both=Instagram++\"\uce74\ub4dc\"(793), pmi=-0.543\n",
        "\n",
        "45135"
       ]
      },
      {
       "output_type": "stream",
       "stream": "stdout",
       "text": [
        "\n",
        "100548"
       ]
      },
      {
       "output_type": "stream",
       "stream": "stdout",
       "text": [
        "\n",
        "61"
       ]
      },
      {
       "output_type": "stream",
       "stream": "stdout",
       "text": [
        "\n",
        "45135"
       ]
      },
      {
       "output_type": "stream",
       "stream": "stdout",
       "text": [
        " 100548 61 1000000000.0\n",
        "val=0.0744\n",
        "\n",
        "app=Instagram(45135), keyword=+\"\ub514\ud39c\uc2a4\"(100548), both=Instagram++\"\ub514\ud39c\uc2a4\"(61), pmi=-1.128\n"
       ]
      },
      {
       "output_type": "stream",
       "stream": "stdout",
       "text": [
        "\n",
        "45135"
       ]
      },
      {
       "output_type": "stream",
       "stream": "stdout",
       "text": [
        "\n",
        "547803"
       ]
      },
      {
       "output_type": "stream",
       "stream": "stdout",
       "text": [
        "\n",
        "38"
       ]
      },
      {
       "output_type": "stream",
       "stream": "stdout",
       "text": [
        "\n",
        "45135"
       ]
      },
      {
       "output_type": "stream",
       "stream": "stdout",
       "text": [
        " 547803 38 1000000000.0\n",
        "val=0.6507\n",
        "\n",
        "app=Instagram(45135), keyword=+\"\ub450\ub1cc\"(547803), both=Instagram++\"\ub450\ub1cc\"(38), pmi=-0.187\n",
        "\n",
        "45135"
       ]
      },
      {
       "output_type": "stream",
       "stream": "stdout",
       "text": [
        "\n",
        "23082"
       ]
      },
      {
       "output_type": "stream",
       "stream": "stdout",
       "text": [
        "\n",
        "except 0"
       ]
      },
      {
       "output_type": "stream",
       "stream": "stdout",
       "text": [
        "\n",
        "45135"
       ]
      },
      {
       "output_type": "stream",
       "stream": "stdout",
       "text": [
        " 23082 0 1000000000.0\n",
        "val=1041806070.0000\n",
        "\n",
        "app=Instagram(45135), keyword=+\"\uc2dc\ubbac\"(23082), both=Instagram++\"\uc2dc\ubbac\"(0), pmi=9.018\n"
       ]
      },
      {
       "output_type": "stream",
       "stream": "stdout",
       "text": [
        "\n",
        "45135"
       ]
      },
      {
       "output_type": "stream",
       "stream": "stdout",
       "text": [
        "\n",
        "642018"
       ]
      },
      {
       "output_type": "stream",
       "stream": "stdout",
       "text": [
        "\n",
        "53"
       ]
      },
      {
       "output_type": "stream",
       "stream": "stdout",
       "text": [
        "\n",
        "45135"
       ]
      },
      {
       "output_type": "stream",
       "stream": "stdout",
       "text": [
        " 642018 53 1000000000.0\n",
        "val=0.5467\n",
        "\n",
        "app=Instagram(45135), keyword=+\"\ub2ec\ub9ac\uae30\"(642018), both=Instagram++\"\ub2ec\ub9ac\uae30\"(53), pmi=-0.262\n",
        "\n",
        "45135"
       ]
      },
      {
       "output_type": "stream",
       "stream": "stdout",
       "text": [
        "\n",
        "230539"
       ]
      },
      {
       "output_type": "stream",
       "stream": "stdout",
       "text": [
        "\n",
        "45"
       ]
      },
      {
       "output_type": "stream",
       "stream": "stdout",
       "text": [
        "\n",
        "45135"
       ]
      },
      {
       "output_type": "stream",
       "stream": "stdout",
       "text": [
        " 230539 45 1000000000.0\n",
        "val=0.2312\n",
        "\n",
        "app=Instagram(45135), keyword=+\"\uc288\ud305\"(230539), both=Instagram++\"\uc288\ud305\"(45), pmi=-0.636\n",
        "\n",
        "45135"
       ]
      },
      {
       "output_type": "stream",
       "stream": "stdout",
       "text": [
        "\n",
        "1745804"
       ]
      },
      {
       "output_type": "stream",
       "stream": "stdout",
       "text": [
        "\n",
        "235"
       ]
      },
      {
       "output_type": "stream",
       "stream": "stdout",
       "text": [
        "\n",
        "45135"
       ]
      },
      {
       "output_type": "stream",
       "stream": "stdout",
       "text": [
        " 1745804 235 1000000000.0\n",
        "val=0.3353\n",
        "\n",
        "app=Instagram(45135), keyword=+\"\ucd95\uad6c\"(1745804), both=Instagram++\"\ucd95\uad6c\"(235), pmi=-0.475\n",
        "\n",
        "45135"
       ]
      },
      {
       "output_type": "stream",
       "stream": "stdout",
       "text": [
        "\n",
        "1831243"
       ]
      },
      {
       "output_type": "stream",
       "stream": "stdout",
       "text": [
        "\n",
        "111"
       ]
      },
      {
       "output_type": "stream",
       "stream": "stdout",
       "text": [
        "\n",
        "45135"
       ]
      },
      {
       "output_type": "stream",
       "stream": "stdout",
       "text": [
        " 1831243 111 1000000000.0\n",
        "val=0.7446\n",
        "\n",
        "app=Instagram(45135), keyword=+\"\uacbd\uc601\"(1831243), both=Instagram++\"\uacbd\uc601\"(111), pmi=-0.128\n",
        "\n",
        "45135"
       ]
      },
      {
       "output_type": "stream",
       "stream": "stdout",
       "text": [
        "\n",
        "32917"
       ]
      },
      {
       "output_type": "stream",
       "stream": "stdout",
       "text": [
        "\n",
        "4"
       ]
      },
      {
       "output_type": "stream",
       "stream": "stdout",
       "text": [
        "\n",
        "45135"
       ]
      },
      {
       "output_type": "stream",
       "stream": "stdout",
       "text": [
        " 32917 4 1000000000.0\n",
        "val=0.3714\n",
        "\n",
        "app=Instagram(45135), keyword=+\"\ud0c0\uc774\ucfe4\"(32917), both=Instagram++\"\ud0c0\uc774\ucfe4\"(4), pmi=-0.430\n",
        "\n",
        "45135"
       ]
      },
      {
       "output_type": "stream",
       "stream": "stdout",
       "text": [
        "\n",
        "1170300"
       ]
      },
      {
       "output_type": "stream",
       "stream": "stdout",
       "text": [
        "\n",
        "120"
       ]
      },
      {
       "output_type": "stream",
       "stream": "stdout",
       "text": [
        "\n",
        "45135"
       ]
      },
      {
       "output_type": "stream",
       "stream": "stdout",
       "text": [
        " 1170300 120 1000000000.0\n",
        "val=0.4402\n",
        "\n",
        "app=Instagram(45135), keyword=+\"\ud0c8\ucd9c\"(1170300), both=Instagram++\"\ud0c8\ucd9c\"(120), pmi=-0.356\n",
        "\n",
        "45135"
       ]
      },
      {
       "output_type": "stream",
       "stream": "stdout",
       "text": [
        "\n",
        "391505"
       ]
      },
      {
       "output_type": "stream",
       "stream": "stdout",
       "text": [
        "\n",
        "22"
       ]
      },
      {
       "output_type": "stream",
       "stream": "stdout",
       "text": [
        "\n",
        "45135"
       ]
      },
      {
       "output_type": "stream",
       "stream": "stdout",
       "text": [
        " 391505 22 1000000000.0\n",
        "val=0.8032\n",
        "\n",
        "app=Instagram(45135), keyword=+\"\ucd94\ub9ac\"(391505), both=Instagram++\"\ucd94\ub9ac\"(22), pmi=-0.095\n",
        "\n",
        "45135"
       ]
      },
      {
       "output_type": "stream",
       "stream": "stdout",
       "text": [
        "\n",
        "1488636"
       ]
      },
      {
       "output_type": "stream",
       "stream": "stdout",
       "text": [
        "\n",
        "75"
       ]
      },
      {
       "output_type": "stream",
       "stream": "stdout",
       "text": [
        "\n",
        "45135"
       ]
      },
      {
       "output_type": "stream",
       "stream": "stdout",
       "text": [
        " 1488636 75 1000000000.0\n",
        "val=0.8959\n",
        "\n",
        "app=Instagram(45135), keyword=+\"\uc7a5\uae30\"(1488636), both=Instagram++\"\uc7a5\uae30\"(75), pmi=-0.048\n",
        "\n",
        "45135"
       ]
      },
      {
       "output_type": "stream",
       "stream": "stdout",
       "text": [
        "\n",
        "1958839"
       ]
      },
      {
       "output_type": "stream",
       "stream": "stdout",
       "text": [
        "\n",
        "285"
       ]
      },
      {
       "output_type": "stream",
       "stream": "stdout",
       "text": [
        "\n",
        "45135"
       ]
      },
      {
       "output_type": "stream",
       "stream": "stdout",
       "text": [
        " 1958839 285 1000000000.0\n",
        "val=0.3102\n",
        "\n",
        "app=Instagram(45135), keyword=+\"\ube44\ud589\uae30\"(1958839), both=Instagram++\"\ube44\ud589\uae30\"(285), pmi=-0.508\n",
        "\n",
        "45135"
       ]
      },
      {
       "output_type": "stream",
       "stream": "stdout",
       "text": [
        "\n",
        "33753"
       ]
      },
      {
       "output_type": "stream",
       "stream": "stdout",
       "text": [
        "\n",
        "15"
       ]
      },
      {
       "output_type": "stream",
       "stream": "stdout",
       "text": [
        "\n",
        "45135"
       ]
      },
      {
       "output_type": "stream",
       "stream": "stdout",
       "text": [
        " 33753 15 1000000000.0\n",
        "val=0.1016\n",
        "\n",
        "app=Instagram(45135), keyword=+\"\uc0ac\ucc9c\uc131\"(33753), both=Instagram++\"\uc0ac\ucc9c\uc131\"(15), pmi=-0.993\n",
        "\n",
        "45135"
       ]
      },
      {
       "output_type": "stream",
       "stream": "stdout",
       "text": [
        "\n",
        "2493635"
       ]
      },
      {
       "output_type": "stream",
       "stream": "stdout",
       "text": [
        "\n",
        "288"
       ]
      },
      {
       "output_type": "stream",
       "stream": "stdout",
       "text": [
        "\n",
        "45135"
       ]
      },
      {
       "output_type": "stream",
       "stream": "stdout",
       "text": [
        " 2493635 288 1000000000.0\n",
        "val=0.3908\n",
        "\n",
        "app=Instagram(45135), keyword=+\"\uc2a4\ud3ec\uce20\"(2493635), both=Instagram++\"\uc2a4\ud3ec\uce20\"(288), pmi=-0.408\n",
        "\n",
        "45135"
       ]
      },
      {
       "output_type": "stream",
       "stream": "stdout",
       "text": [
        "\n",
        "493887"
       ]
      },
      {
       "output_type": "stream",
       "stream": "stdout",
       "text": [
        "\n",
        "98"
       ]
      },
      {
       "output_type": "stream",
       "stream": "stdout",
       "text": [
        "\n",
        "45135"
       ]
      },
      {
       "output_type": "stream",
       "stream": "stdout",
       "text": [
        " 493887 98 1000000000.0\n",
        "val=0.2275\n",
        "\n",
        "app=Instagram(45135), keyword=+\"\ub18d\uad6c\"(493887), both=Instagram++\"\ub18d\uad6c\"(98), pmi=-0.643\n",
        "\n",
        "45135"
       ]
      },
      {
       "output_type": "stream",
       "stream": "stdout",
       "text": [
        "\n",
        "1186104"
       ]
      },
      {
       "output_type": "stream",
       "stream": "stdout",
       "text": [
        "\n",
        "87"
       ]
      },
      {
       "output_type": "stream",
       "stream": "stdout",
       "text": [
        "\n",
        "45135"
       ]
      },
      {
       "output_type": "stream",
       "stream": "stdout",
       "text": [
        " 1186104 87 1000000000.0\n",
        "val=0.6153\n",
        "\n",
        "app=Instagram(45135), keyword=+\"\ub09a\uc2dc\"(1186104), both=Instagram++\"\ub09a\uc2dc\"(87), pmi=-0.211\n",
        "\n",
        "45135"
       ]
      },
      {
       "output_type": "stream",
       "stream": "stdout",
       "text": [
        "\n",
        "7514040"
       ]
      },
      {
       "output_type": "stream",
       "stream": "stdout",
       "text": [
        "\n",
        "1510"
       ]
      },
      {
       "output_type": "stream",
       "stream": "stdout",
       "text": [
        "\n",
        "45135"
       ]
      },
      {
       "output_type": "stream",
       "stream": "stdout",
       "text": [
        " 7514040 1510 1000000000.0\n",
        "val=0.2246\n",
        "\n",
        "app=Instagram(45135), keyword=+\"\uc74c\uc545\"(7514040), both=Instagram++\"\uc74c\uc545\"(1510), pmi=-0.649\n",
        "\n",
        "45135"
       ]
      },
      {
       "output_type": "stream",
       "stream": "stdout",
       "text": [
        "\n",
        "1021089"
       ]
      },
      {
       "output_type": "stream",
       "stream": "stdout",
       "text": [
        "\n",
        "376"
       ]
      },
      {
       "output_type": "stream",
       "stream": "stdout",
       "text": [
        "\n",
        "45135"
       ]
      },
      {
       "output_type": "stream",
       "stream": "stdout",
       "text": [
        " 1021089 376 1000000000.0\n",
        "val=0.1226\n",
        "\n",
        "app=Instagram(45135), keyword=+\"\uce74\ud1a1\"(1021089), both=Instagram++\"\uce74\ud1a1\"(376), pmi=-0.912\n",
        "\n",
        "45135"
       ]
      },
      {
       "output_type": "stream",
       "stream": "stdout",
       "text": [
        "\n",
        "1043429"
       ]
      },
      {
       "output_type": "stream",
       "stream": "stdout",
       "text": [
        "\n",
        "99"
       ]
      },
      {
       "output_type": "stream",
       "stream": "stdout",
       "text": [
        "\n",
        "45135"
       ]
      },
      {
       "output_type": "stream",
       "stream": "stdout",
       "text": [
        " 1043429 99 1000000000.0\n",
        "val=0.4757\n",
        "\n",
        "app=Instagram(45135), keyword=+\"\uace8\ud504\"(1043429), both=Instagram++\"\uace8\ud504\"(99), pmi=-0.323\n",
        "\n",
        "45135"
       ]
      },
      {
       "output_type": "stream",
       "stream": "stdout",
       "text": [
        "\n",
        "121691"
       ]
      },
      {
       "output_type": "stream",
       "stream": "stdout",
       "text": [
        "\n",
        "16"
       ]
      },
      {
       "output_type": "stream",
       "stream": "stdout",
       "text": [
        "\n",
        "45135"
       ]
      },
      {
       "output_type": "stream",
       "stream": "stdout",
       "text": [
        " 121691 16 1000000000.0\n",
        "val=0.3433\n",
        "\n",
        "app=Instagram(45135), keyword=+\"\ub2f9\uad6c\"(121691), both=Instagram++\"\ub2f9\uad6c\"(16), pmi=-0.464\n",
        "\n",
        "45135"
       ]
      },
      {
       "output_type": "stream",
       "stream": "stdout",
       "text": [
        "\n",
        "1395628"
       ]
      },
      {
       "output_type": "stream",
       "stream": "stdout",
       "text": [
        "\n",
        "315"
       ]
      },
      {
       "output_type": "stream",
       "stream": "stdout",
       "text": [
        "\n",
        "45135"
       ]
      },
      {
       "output_type": "stream",
       "stream": "stdout",
       "text": [
        " 1395628 315 1000000000.0\n",
        "val=0.2000\n",
        "\n",
        "app=Instagram(45135), keyword=+\"\uc57c\uad6c\"(1395628), both=Instagram++\"\uc57c\uad6c\"(315), pmi=-0.699\n",
        "\n",
        "45135"
       ]
      },
      {
       "output_type": "stream",
       "stream": "stdout",
       "text": [
        "\n",
        "120180"
       ]
      },
      {
       "output_type": "stream",
       "stream": "stdout",
       "text": [
        "\n",
        "24"
       ]
      },
      {
       "output_type": "stream",
       "stream": "stdout",
       "text": [
        "\n",
        "45135"
       ]
      },
      {
       "output_type": "stream",
       "stream": "stdout",
       "text": [
        " 120180 24 1000000000.0\n",
        "val=0.2260\n",
        "\n",
        "app=Instagram(45135), keyword=+\"\ubcfc\ub9c1\"(120180), both=Instagram++\"\ubcfc\ub9c1\"(24), pmi=-0.646\n"
       ]
      },
      {
       "output_type": "stream",
       "stream": "stdout",
       "text": [
        "\n",
        "45135"
       ]
      },
      {
       "output_type": "stream",
       "stream": "stdout",
       "text": [
        "\n",
        "1768"
       ]
      },
      {
       "output_type": "stream",
       "stream": "stdout",
       "text": [
        "\n",
        "2"
       ]
      },
      {
       "output_type": "stream",
       "stream": "stdout",
       "text": [
        "\n",
        "45135"
       ]
      },
      {
       "output_type": "stream",
       "stream": "stdout",
       "text": [
        " 1768 2 1000000000.0\n",
        "val=0.0399\n",
        "\n",
        "app=Instagram(45135), keyword=+\"\ud14c\uc774\uc2a4\"(1768), both=Instagram++\"\ud14c\uc774\uc2a4\"(2), pmi=-1.399\n"
       ]
      },
      {
       "output_type": "stream",
       "stream": "stdout",
       "text": [
        "\n",
        "45135"
       ]
      },
      {
       "output_type": "stream",
       "stream": "stdout",
       "text": [
        "\n",
        "238838"
       ]
      },
      {
       "output_type": "stream",
       "stream": "stdout",
       "text": [
        "\n",
        "22"
       ]
      },
      {
       "output_type": "stream",
       "stream": "stdout",
       "text": [
        "\n",
        "45135"
       ]
      },
      {
       "output_type": "stream",
       "stream": "stdout",
       "text": [
        " 238838 22 1000000000.0\n",
        "val=0.4900\n",
        "\n",
        "app=Instagram(45135), keyword=+\"\uc0bc\uad6d\uc9c0\"(238838), both=Instagram++\"\uc0bc\uad6d\uc9c0\"(22), pmi=-0.310\n"
       ]
      },
      {
       "output_type": "stream",
       "stream": "stdout",
       "text": [
        "\n",
        "45135"
       ]
      },
      {
       "output_type": "stream",
       "stream": "stdout",
       "text": [
        "\n",
        "24214"
       ]
      },
      {
       "output_type": "stream",
       "stream": "stdout",
       "text": [
        "\n",
        "5"
       ]
      },
      {
       "output_type": "stream",
       "stream": "stdout",
       "text": [
        "\n",
        "45135"
       ]
      },
      {
       "output_type": "stream",
       "stream": "stdout",
       "text": [
        " 24214 5 1000000000.0\n",
        "val=0.2186\n",
        "\n",
        "app=Instagram(45135), keyword=+\"TCG\"(24214), both=Instagram++\"TCG\"(5), pmi=-0.660\n",
        "\n",
        "45135"
       ]
      },
      {
       "output_type": "stream",
       "stream": "stdout",
       "text": [
        "\n",
        "3481059"
       ]
      },
      {
       "output_type": "stream",
       "stream": "stdout",
       "text": [
        "\n",
        "277"
       ]
      },
      {
       "output_type": "stream",
       "stream": "stdout",
       "text": [
        "\n",
        "45135"
       ]
      },
      {
       "output_type": "stream",
       "stream": "stdout",
       "text": [
        " 3481059 277 1000000000.0\n",
        "val=0.5672\n",
        "\n",
        "app=Instagram(45135), keyword=+\"\uc804\uc7c1\"(3481059), both=Instagram++\"\uc804\uc7c1\"(277), pmi=-0.246\n",
        "\n",
        "45135"
       ]
      },
      {
       "output_type": "stream",
       "stream": "stdout",
       "text": [
        "\n",
        "9385348"
       ]
      },
      {
       "output_type": "stream",
       "stream": "stdout",
       "text": [
        "\n",
        "685"
       ]
      },
      {
       "output_type": "stream",
       "stream": "stdout",
       "text": [
        "\n",
        "45135"
       ]
      },
      {
       "output_type": "stream",
       "stream": "stdout",
       "text": [
        " 9385348 685 1000000000.0\n",
        "val=0.6184\n",
        "\n",
        "app=Instagram(45135), keyword=+\"\uac74\uac15\"(9385348), both=Instagram++\"\uac74\uac15\"(685), pmi=-0.209\n",
        "\n",
        "45135"
       ]
      },
      {
       "output_type": "stream",
       "stream": "stdout",
       "text": [
        "\n",
        "6675437"
       ]
      },
      {
       "output_type": "stream",
       "stream": "stdout",
       "text": [
        "\n",
        "772"
       ]
      },
      {
       "output_type": "stream",
       "stream": "stdout",
       "text": [
        "\n",
        "45135"
       ]
      },
      {
       "output_type": "stream",
       "stream": "stdout",
       "text": [
        " 6675437 772 1000000000.0\n",
        "val=0.3903\n",
        "\n",
        "app=Instagram(45135), keyword=+\"\uc6b4\ub3d9\"(6675437), both=Instagram++\"\uc6b4\ub3d9\"(772), pmi=-0.409\n",
        "\n",
        "45135"
       ]
      },
      {
       "output_type": "stream",
       "stream": "stdout",
       "text": [
        "\n",
        "7017846"
       ]
      },
      {
       "output_type": "stream",
       "stream": "stdout",
       "text": [
        "\n",
        "359"
       ]
      },
      {
       "output_type": "stream",
       "stream": "stdout",
       "text": [
        "\n",
        "45135"
       ]
      },
      {
       "output_type": "stream",
       "stream": "stdout",
       "text": [
        " 7017846 359 1000000000.0\n",
        "val=0.8823\n",
        "\n",
        "app=Instagram(45135), keyword=+\"\uad50\uc721\"(7017846), both=Instagram++\"\uad50\uc721\"(359), pmi=-0.054\n"
       ]
      },
      {
       "output_type": "stream",
       "stream": "stdout",
       "text": [
        "\n",
        "45135"
       ]
      },
      {
       "output_type": "stream",
       "stream": "stdout",
       "text": [
        "\n",
        "3744842"
       ]
      },
      {
       "output_type": "stream",
       "stream": "stdout",
       "text": [
        "\n",
        "252"
       ]
      },
      {
       "output_type": "stream",
       "stream": "stdout",
       "text": [
        "\n",
        "45135"
       ]
      },
      {
       "output_type": "stream",
       "stream": "stdout",
       "text": [
        " 3744842 252 1000000000.0\n",
        "val=0.6707\n",
        "\n",
        "app=Instagram(45135), keyword=+\"\uad50\ud1b5\"(3744842), both=Instagram++\"\uad50\ud1b5\"(252), pmi=-0.173\n",
        "\n",
        "45135"
       ]
      },
      {
       "output_type": "stream",
       "stream": "stdout",
       "text": [
        "\n",
        "1799898"
       ]
      },
      {
       "output_type": "stream",
       "stream": "stdout",
       "text": [
        "\n",
        "116"
       ]
      },
      {
       "output_type": "stream",
       "stream": "stdout",
       "text": [
        "\n",
        "45135"
       ]
      },
      {
       "output_type": "stream",
       "stream": "stdout",
       "text": [
        " 1799898 116 1000000000.0\n",
        "val=0.7003\n",
        "\n",
        "app=Instagram(45135), keyword=+\"\uae08\uc735\"(1799898), both=Instagram++\"\uae08\uc735\"(116), pmi=-0.155\n",
        "\n",
        "45135"
       ]
      },
      {
       "output_type": "stream",
       "stream": "stdout",
       "text": [
        "\n",
        "8419300"
       ]
      },
      {
       "output_type": "stream",
       "stream": "stdout",
       "text": [
        "\n",
        "1783"
       ]
      },
      {
       "output_type": "stream",
       "stream": "stdout",
       "text": [
        "\n",
        "45135"
       ]
      },
      {
       "output_type": "stream",
       "stream": "stdout",
       "text": [
        " 8419300 1783 1000000000.0\n",
        "val=0.2131\n",
        "\n",
        "app=Instagram(45135), keyword=+\"\ub0a0\uc528\"(8419300), both=Instagram++\"\ub0a0\uc528\"(1783), pmi=-0.671\n",
        "\n",
        "45135"
       ]
      },
      {
       "output_type": "stream",
       "stream": "stdout",
       "text": [
        "\n",
        "5579169"
       ]
      },
      {
       "output_type": "stream",
       "stream": "stdout",
       "text": [
        "\n",
        "985"
       ]
      },
      {
       "output_type": "stream",
       "stream": "stdout",
       "text": [
        "\n",
        "45135"
       ]
      },
      {
       "output_type": "stream",
       "stream": "stdout",
       "text": [
        " 5579169 985 1000000000.0\n",
        "val=0.2557\n",
        "\n",
        "app=Instagram(45135), keyword=+\"\ub274\uc2a4\"(5579169), both=Instagram++\"\ub274\uc2a4\"(985), pmi=-0.592\n",
        "\n",
        "45135"
       ]
      },
      {
       "output_type": "stream",
       "stream": "stdout",
       "text": [
        "\n",
        "2004211"
       ]
      },
      {
       "output_type": "stream",
       "stream": "stdout",
       "text": [
        "\n",
        "432"
       ]
      },
      {
       "output_type": "stream",
       "stream": "stdout",
       "text": [
        "\n",
        "45135"
       ]
      },
      {
       "output_type": "stream",
       "stream": "stdout",
       "text": [
        " 2004211 432 1000000000.0\n",
        "val=0.2094\n",
        "\n",
        "app=Instagram(45135), keyword=+\"\uc7a1\uc9c0\"(2004211), both=Instagram++\"\uc7a1\uc9c0\"(432), pmi=-0.679\n",
        "\n",
        "45135"
       ]
      },
      {
       "output_type": "stream",
       "stream": "stdout",
       "text": [
        "\n",
        "123932"
       ]
      },
      {
       "output_type": "stream",
       "stream": "stdout",
       "text": [
        "\n",
        "12"
       ]
      },
      {
       "output_type": "stream",
       "stream": "stdout",
       "text": [
        "\n",
        "45135"
       ]
      },
      {
       "output_type": "stream",
       "stream": "stdout",
       "text": [
        " 123932 12 1000000000.0\n",
        "val=0.4661\n",
        "\n",
        "app=Instagram(45135), keyword=+\"\ub370\ucf54\ub808\uc774\uc158\"(123932), both=Instagram++\"\ub370\ucf54\ub808\uc774\uc158\"(12), pmi=-0.331\n",
        "\n",
        "45135"
       ]
      },
      {
       "output_type": "stream",
       "stream": "stdout",
       "text": [
        "\n",
        "1807798"
       ]
      },
      {
       "output_type": "stream",
       "stream": "stdout",
       "text": [
        "\n",
        "267"
       ]
      },
      {
       "output_type": "stream",
       "stream": "stdout",
       "text": [
        "\n",
        "45135"
       ]
      },
      {
       "output_type": "stream",
       "stream": "stdout",
       "text": [
        " 1807798 267 1000000000.0\n",
        "val=0.3056\n",
        "\n",
        "app=Instagram(45135), keyword=+\"\ub3c4\uad6c\"(1807798), both=Instagram++\"\ub3c4\uad6c\"(267), pmi=-0.515\n",
        "\n",
        "45135"
       ]
      },
      {
       "output_type": "stream",
       "stream": "stdout",
       "text": [
        "\n",
        "1204844"
       ]
      },
      {
       "output_type": "stream",
       "stream": "stdout",
       "text": [
        "\n",
        "148"
       ]
      },
      {
       "output_type": "stream",
       "stream": "stdout",
       "text": [
        "\n",
        "45135"
       ]
      },
      {
       "output_type": "stream",
       "stream": "stdout",
       "text": [
        " 1204844 148 1000000000.0\n",
        "val=0.3674\n",
        "\n",
        "app=Instagram(45135), keyword=+\"\ub3c4\uc11c\"(1204844), both=Instagram++\"\ub3c4\uc11c\"(148), pmi=-0.435\n",
        "\n",
        "45135"
       ]
      },
      {
       "output_type": "stream",
       "stream": "stdout",
       "text": [
        "\n",
        "178667"
       ]
      },
      {
       "output_type": "stream",
       "stream": "stdout",
       "text": [
        "\n",
        "12"
       ]
      },
      {
       "output_type": "stream",
       "stream": "stdout",
       "text": [
        "\n",
        "45135"
       ]
      },
      {
       "output_type": "stream",
       "stream": "stdout",
       "text": [
        " 178667 12 1000000000.0\n",
        "val=0.6720\n",
        "\n",
        "app=Instagram(45135), keyword=+\"\ucc38\uace0\uc790\ub8cc\"(178667), both=Instagram++\"\ucc38\uace0\uc790\ub8cc\"(12), pmi=-0.173\n",
        "\n",
        "45135"
       ]
      },
      {
       "output_type": "stream",
       "stream": "stdout",
       "text": [
        "\n",
        "1138320"
       ]
      },
      {
       "output_type": "stream",
       "stream": "stdout",
       "text": [
        "\n",
        "299"
       ]
      },
      {
       "output_type": "stream",
       "stream": "stdout",
       "text": [
        "\n",
        "45135"
       ]
      },
      {
       "output_type": "stream",
       "stream": "stdout",
       "text": [
        " 1138320 299 1000000000.0\n",
        "val=0.1718\n",
        "\n",
        "app=Instagram(45135), keyword=+\"\ub77c\uc774\ube0c\"(1138320), both=Instagram++\"\ub77c\uc774\ube0c\"(299), pmi=-0.765\n",
        "\n",
        "45135"
       ]
      },
      {
       "output_type": "stream",
       "stream": "stdout",
       "text": [
        "\n",
        "228831"
       ]
      },
      {
       "output_type": "stream",
       "stream": "stdout",
       "text": [
        "\n",
        "82"
       ]
      },
      {
       "output_type": "stream",
       "stream": "stdout",
       "text": [
        "\n",
        "45135"
       ]
      },
      {
       "output_type": "stream",
       "stream": "stdout",
       "text": [
        " 228831 82 1000000000.0\n",
        "val=0.1260\n",
        "\n",
        "app=Instagram(45135), keyword=+\"\ubc30\uacbd\ud654\uba74\"(228831), both=Instagram++\"\ubc30\uacbd\ud654\uba74\"(82), pmi=-0.900\n",
        "\n",
        "45135"
       ]
      },
      {
       "output_type": "stream",
       "stream": "stdout",
       "text": [
        "\n",
        "135579"
       ]
      },
      {
       "output_type": "stream",
       "stream": "stdout",
       "text": [
        "\n",
        "84"
       ]
      },
      {
       "output_type": "stream",
       "stream": "stdout",
       "text": [
        "\n",
        "45135"
       ]
      },
      {
       "output_type": "stream",
       "stream": "stdout",
       "text": [
        " 135579 84 1000000000.0\n",
        "val=0.0728\n",
        "\n",
        "app=Instagram(45135), keyword=+\"\ub77c\uc774\ube0c\ub7ec\ub9ac\"(135579), both=Instagram++\"\ub77c\uc774\ube0c\ub7ec\ub9ac\"(84), pmi=-1.138\n"
       ]
      },
      {
       "output_type": "stream",
       "stream": "stdout",
       "text": [
        "\n",
        "45135"
       ]
      },
      {
       "output_type": "stream",
       "stream": "stdout",
       "text": [
        "\n",
        "371600"
       ]
      },
      {
       "output_type": "stream",
       "stream": "stdout",
       "text": [
        "\n",
        "37"
       ]
      },
      {
       "output_type": "stream",
       "stream": "stdout",
       "text": [
        "\n",
        "45135"
       ]
      },
      {
       "output_type": "stream",
       "stream": "stdout",
       "text": [
        " 371600 37 1000000000.0\n",
        "val=0.4533\n",
        "\n",
        "app=Instagram(45135), keyword=+\"\ub370\ubaa8\"(371600), both=Instagram++\"\ub370\ubaa8\"(37), pmi=-0.344\n",
        "\n",
        "45135"
       ]
      },
      {
       "output_type": "stream",
       "stream": "stdout",
       "text": [
        "\n",
        "145454"
       ]
      },
      {
       "output_type": "stream",
       "stream": "stdout",
       "text": [
        "\n",
        "70"
       ]
      },
      {
       "output_type": "stream",
       "stream": "stdout",
       "text": [
        "\n",
        "45135"
       ]
      },
      {
       "output_type": "stream",
       "stream": "stdout",
       "text": [
        " 145454 70 1000000000.0\n",
        "val=0.0938\n",
        "\n",
        "app=Instagram(45135), keyword=+\"\ub77c\uc774\ud504\uc2a4\ud0c0\uc77c\"(145454), both=Instagram++\"\ub77c\uc774\ud504\uc2a4\ud0c0\uc77c\"(70), pmi=-1.028\n",
        "\n",
        "45135"
       ]
      },
      {
       "output_type": "stream",
       "stream": "stdout",
       "text": [
        "\n",
        "16332341"
       ]
      },
      {
       "output_type": "stream",
       "stream": "stdout",
       "text": [
        "\n",
        "2840"
       ]
      },
      {
       "output_type": "stream",
       "stream": "stdout",
       "text": [
        "\n",
        "45135"
       ]
      },
      {
       "output_type": "stream",
       "stream": "stdout",
       "text": [
        " 16332341 2840 1000000000.0\n",
        "val=0.2596\n",
        "\n",
        "app=Instagram(45135), keyword=+\"\ube14\ub85c\uadf8\"(16332341), both=Instagram++\"\ube14\ub85c\uadf8\"(2840), pmi=-0.586\n",
        "\n",
        "45135"
       ]
      },
      {
       "output_type": "stream",
       "stream": "stdout",
       "text": [
        "\n",
        "2604463"
       ]
      },
      {
       "output_type": "stream",
       "stream": "stdout",
       "text": [
        "\n",
        "268"
       ]
      },
      {
       "output_type": "stream",
       "stream": "stdout",
       "text": [
        "\n",
        "45135"
       ]
      },
      {
       "output_type": "stream",
       "stream": "stdout",
       "text": [
        " 2604463 268 1000000000.0\n",
        "val=0.4386\n",
        "\n",
        "app=Instagram(45135), keyword=+\"\ub9cc\ud654\"(2604463), both=Instagram++\"\ub9cc\ud654\"(268), pmi=-0.358\n",
        "\n",
        "45135"
       ]
      },
      {
       "output_type": "stream",
       "stream": "stdout",
       "text": [
        "\n",
        "1746003"
       ]
      },
      {
       "output_type": "stream",
       "stream": "stdout",
       "text": [
        "\n",
        "621"
       ]
      },
      {
       "output_type": "stream",
       "stream": "stdout",
       "text": [
        "\n",
        "45135"
       ]
      },
      {
       "output_type": "stream",
       "stream": "stdout",
       "text": [
        " 1746003 621 1000000000.0\n",
        "val=0.1269\n",
        "\n",
        "app=Instagram(45135), keyword=+\"\ubbf8\ub514\uc5b4\"(1746003), both=Instagram++\"\ubbf8\ub514\uc5b4\"(621), pmi=-0.897\n"
       ]
      },
      {
       "output_type": "stream",
       "stream": "stdout",
       "text": [
        "\n",
        "45135"
       ]
      },
      {
       "output_type": "stream",
       "stream": "stdout",
       "text": [
        "\n",
        "5421412"
       ]
      },
      {
       "output_type": "stream",
       "stream": "stdout",
       "text": [
        "\n",
        "1180"
       ]
      },
      {
       "output_type": "stream",
       "stream": "stdout",
       "text": [
        "\n",
        "45135"
       ]
      },
      {
       "output_type": "stream",
       "stream": "stdout",
       "text": [
        " 5421412 1180 1000000000.0\n",
        "val=0.2074\n",
        "\n",
        "app=Instagram(45135), keyword=+\"\ub3d9\uc601\uc0c1\"(5421412), both=Instagram++\"\ub3d9\uc601\uc0c1\"(1180), pmi=-0.683\n",
        "\n",
        "45135"
       ]
      },
      {
       "output_type": "stream",
       "stream": "stdout",
       "text": [
        "\n",
        "865523"
       ]
      },
      {
       "output_type": "stream",
       "stream": "stdout",
       "text": [
        "\n",
        "212"
       ]
      },
      {
       "output_type": "stream",
       "stream": "stdout",
       "text": [
        "\n",
        "45135"
       ]
      },
      {
       "output_type": "stream",
       "stream": "stdout",
       "text": [
        " 865523 212 1000000000.0\n",
        "val=0.1843\n",
        "\n",
        "app=Instagram(45135), keyword=+\"\ube44\uc988\ub2c8\uc2a4\"(865523), both=Instagram++\"\ube44\uc988\ub2c8\uc2a4\"(212), pmi=-0.735\n",
        "\n",
        "45135"
       ]
      },
      {
       "output_type": "stream",
       "stream": "stdout",
       "text": [
        "\n",
        "1700638"
       ]
      },
      {
       "output_type": "stream",
       "stream": "stdout",
       "text": [
        "\n",
        "708"
       ]
      },
      {
       "output_type": "stream",
       "stream": "stdout",
       "text": [
        "\n",
        "45135"
       ]
      },
      {
       "output_type": "stream",
       "stream": "stdout",
       "text": [
        " 1700638 708 1000000000.0\n",
        "val=0.1084\n",
        "\n",
        "app=Instagram(45135), keyword=+\"\ud3b8\uc9d1\"(1700638), both=Instagram++\"\ud3b8\uc9d1\"(708), pmi=-0.965\n",
        "\n",
        "45135"
       ]
      },
      {
       "output_type": "stream",
       "stream": "stdout",
       "text": [
        "\n",
        "37499668"
       ]
      },
      {
       "output_type": "stream",
       "stream": "stdout",
       "text": [
        "\n",
        "9371"
       ]
      },
      {
       "output_type": "stream",
       "stream": "stdout",
       "text": [
        "\n",
        "45135"
       ]
      },
      {
       "output_type": "stream",
       "stream": "stdout",
       "text": [
        " 37499668 9371 1000000000.0\n",
        "val=0.1806\n",
        "\n",
        "app=Instagram(45135), keyword=+\"\uc0ac\uc9c4\"(37499668), both=Instagram++\"\uc0ac\uc9c4\"(9371), pmi=-0.743\n",
        "\n",
        "45135"
       ]
      },
      {
       "output_type": "stream",
       "stream": "stdout",
       "text": [
        "\n",
        "275185"
       ]
      },
      {
       "output_type": "stream",
       "stream": "stdout",
       "text": [
        "\n",
        "67"
       ]
      },
      {
       "output_type": "stream",
       "stream": "stdout",
       "text": [
        "\n",
        "45135"
       ]
      },
      {
       "output_type": "stream",
       "stream": "stdout",
       "text": [
        " 275185 67 1000000000.0\n",
        "val=0.1854\n",
        "\n",
        "app=Instagram(45135), keyword=+\"\uc0dd\uc0b0\uc131\"(275185), both=Instagram++\"\uc0dd\uc0b0\uc131\"(67), pmi=-0.732\n"
       ]
      },
      {
       "output_type": "stream",
       "stream": "stdout",
       "text": [
        "\n",
        "45135"
       ]
      },
      {
       "output_type": "stream",
       "stream": "stdout",
       "text": [
        "\n",
        "1042592"
       ]
      },
      {
       "output_type": "stream",
       "stream": "stdout",
       "text": [
        "\n",
        "4097"
       ]
      },
      {
       "output_type": "stream",
       "stream": "stdout",
       "text": [
        "\n",
        "45135"
       ]
      },
      {
       "output_type": "stream",
       "stream": "stdout",
       "text": [
        " 1042592 4097 1000000000.0\n",
        "val=0.0115\n",
        "\n",
        "app=Instagram(45135), keyword=+\"\uc18c\uc15c\"(1042592), both=Instagram++\"\uc18c\uc15c\"(4097), pmi=-1.940\n",
        "\n",
        "45135"
       ]
      },
      {
       "output_type": "stream",
       "stream": "stdout",
       "text": [
        "\n",
        "580928"
       ]
      },
      {
       "output_type": "stream",
       "stream": "stdout",
       "text": [
        "\n",
        "262"
       ]
      },
      {
       "output_type": "stream",
       "stream": "stdout",
       "text": [
        "\n",
        "45135"
       ]
      },
      {
       "output_type": "stream",
       "stream": "stdout",
       "text": [
        " 580928 262 1000000000.0\n",
        "val=0.1001\n",
        "\n",
        "app=Instagram(45135), keyword=+\"\ucf58\ud150\uce20\"(580928), both=Instagram++\"\ucf58\ud150\uce20\"(262), pmi=-1.000\n",
        "\n",
        "45135"
       ]
      },
      {
       "output_type": "stream",
       "stream": "stdout",
       "text": [
        "\n",
        "2412731"
       ]
      },
      {
       "output_type": "stream",
       "stream": "stdout",
       "text": [
        "\n",
        "474"
       ]
      },
      {
       "output_type": "stream",
       "stream": "stdout",
       "text": [
        "\n",
        "45135"
       ]
      },
      {
       "output_type": "stream",
       "stream": "stdout",
       "text": [
        " 2412731 474 1000000000.0\n",
        "val=0.2297\n",
        "\n",
        "app=Instagram(45135), keyword=+\"\uc1fc\ud551\"(2412731), both=Instagram++\"\uc1fc\ud551\"(474), pmi=-0.639\n",
        "\n",
        "45135"
       ]
      },
      {
       "output_type": "stream",
       "stream": "stdout",
       "text": [
        "\n",
        "196035"
       ]
      },
      {
       "output_type": "stream",
       "stream": "stdout",
       "text": [
        "\n",
        "83"
       ]
      },
      {
       "output_type": "stream",
       "stream": "stdout",
       "text": [
        "\n",
        "45135"
       ]
      },
      {
       "output_type": "stream",
       "stream": "stdout",
       "text": [
        " 196035 83 1000000000.0\n",
        "val=0.1066\n",
        "\n",
        "app=Instagram(45135), keyword=+\"\uc704\uc82f\"(196035), both=Instagram++\"\uc704\uc82f\"(83), pmi=-0.972\n",
        "\n",
        "45135"
       ]
      },
      {
       "output_type": "stream",
       "stream": "stdout",
       "text": [
        "\n",
        "4015477"
       ]
      },
      {
       "output_type": "stream",
       "stream": "stdout",
       "text": [
        "\n",
        "360"
       ]
      },
      {
       "output_type": "stream",
       "stream": "stdout",
       "text": [
        "\n",
        "45135"
       ]
      },
      {
       "output_type": "stream",
       "stream": "stdout",
       "text": [
        " 4015477 360 1000000000.0\n",
        "val=0.5034\n",
        "\n",
        "app=Instagram(45135), keyword=+\"\uc790\ub3d9\ucc28\"(4015477), both=Instagram++\"\uc790\ub3d9\ucc28\"(360), pmi=-0.298\n"
       ]
      },
      {
       "output_type": "stream",
       "stream": "stdout",
       "text": [
        "\n",
        "45135"
       ]
      },
      {
       "output_type": "stream",
       "stream": "stdout",
       "text": [
        "\n",
        "1072063"
       ]
      },
      {
       "output_type": "stream",
       "stream": "stdout",
       "text": [
        "\n",
        "187"
       ]
      },
      {
       "output_type": "stream",
       "stream": "stdout",
       "text": [
        "\n",
        "45135"
       ]
      },
      {
       "output_type": "stream",
       "stream": "stdout",
       "text": [
        " 1072063 187 1000000000.0\n",
        "val=0.2588\n",
        "\n",
        "app=Instagram(45135), keyword=+\"\uacbd\uc8fc\"(1072063), both=Instagram++\"\uacbd\uc8fc\"(187), pmi=-0.587\n"
       ]
      },
      {
       "output_type": "stream",
       "stream": "stdout",
       "text": [
        "\n",
        "45135"
       ]
      },
      {
       "output_type": "stream",
       "stream": "stdout",
       "text": [
        "\n",
        "2432400"
       ]
      },
      {
       "output_type": "stream",
       "stream": "stdout",
       "text": [
        "\n",
        "451"
       ]
      },
      {
       "output_type": "stream",
       "stream": "stdout",
       "text": [
        "\n",
        "45135"
       ]
      },
      {
       "output_type": "stream",
       "stream": "stdout",
       "text": [
        " 2432400 451 1000000000.0\n",
        "val=0.2434\n",
        "\n",
        "app=Instagram(45135), keyword=+\"\ub2e4\uc774\uc5b4\ud2b8\"(2432400), both=Instagram++\"\ub2e4\uc774\uc5b4\ud2b8\"(451), pmi=-0.614\n",
        "\n",
        "45135"
       ]
      },
      {
       "output_type": "stream",
       "stream": "stdout",
       "text": [
        "\n",
        "580894"
       ]
      },
      {
       "output_type": "stream",
       "stream": "stdout",
       "text": [
        "\n",
        "146"
       ]
      },
      {
       "output_type": "stream",
       "stream": "stdout",
       "text": [
        "\n",
        "45135"
       ]
      },
      {
       "output_type": "stream",
       "stream": "stdout",
       "text": [
        " 580894 146 1000000000.0\n",
        "val=0.1796\n",
        "\n",
        "app=Instagram(45135), keyword=+\"\ub2ec\ub825\"(580894), both=Instagram++\"\ub2ec\ub825\"(146), pmi=-0.746\n",
        "\n",
        "45135"
       ]
      },
      {
       "output_type": "stream",
       "stream": "stdout",
       "text": [
        "\n",
        "425033"
       ]
      },
      {
       "output_type": "stream",
       "stream": "stdout",
       "text": [
        "\n",
        "19"
       ]
      },
      {
       "output_type": "stream",
       "stream": "stdout",
       "text": [
        "\n",
        "45135"
       ]
      },
      {
       "output_type": "stream",
       "stream": "stdout",
       "text": [
        " 425033 19 1000000000.0\n",
        "val=1.0097\n",
        "\n",
        "app=Instagram(45135), keyword=+\"\uc0dd\ub9ac\"(425033), both=Instagram++\"\uc0dd\ub9ac\"(19), pmi=0.004\n",
        "\n",
        "45135"
       ]
      },
      {
       "output_type": "stream",
       "stream": "stdout",
       "text": [
        "\n",
        "117655"
       ]
      },
      {
       "output_type": "stream",
       "stream": "stdout",
       "text": [
        "\n",
        "104"
       ]
      },
      {
       "output_type": "stream",
       "stream": "stdout",
       "text": [
        "\n",
        "45135"
       ]
      },
      {
       "output_type": "stream",
       "stream": "stdout",
       "text": [
        " 117655 104 1000000000.0\n",
        "val=0.0511\n",
        "\n",
        "app=Instagram(45135), keyword=+\"\uce98\ub9b0\ub354\"(117655), both=Instagram++\"\uce98\ub9b0\ub354\"(104), pmi=-1.292\n",
        "\n",
        "45135"
       ]
      },
      {
       "output_type": "stream",
       "stream": "stdout",
       "text": [
        "\n",
        "23997"
       ]
      },
      {
       "output_type": "stream",
       "stream": "stdout",
       "text": [
        "\n",
        "1"
       ]
      },
      {
       "output_type": "stream",
       "stream": "stdout",
       "text": [
        "\n",
        "45135"
       ]
      },
      {
       "output_type": "stream",
       "stream": "stdout",
       "text": [
        " 23997 1 1000000000.0\n",
        "val=1.0831\n",
        "\n",
        "app=Instagram(45135), keyword=+\"\uc0ac\uc8fc\ud314\uc790\"(23997), both=Instagram++\"\uc0ac\uc8fc\ud314\uc790\"(1), pmi=0.035\n"
       ]
      },
      {
       "output_type": "stream",
       "stream": "stdout",
       "text": [
        "\n",
        "45135"
       ]
      },
      {
       "output_type": "stream",
       "stream": "stdout",
       "text": [
        "\n",
        "557674"
       ]
      },
      {
       "output_type": "stream",
       "stream": "stdout",
       "text": [
        "\n",
        "77"
       ]
      },
      {
       "output_type": "stream",
       "stream": "stdout",
       "text": [
        "\n",
        "45135"
       ]
      },
      {
       "output_type": "stream",
       "stream": "stdout",
       "text": [
        " 557674 77 1000000000.0\n",
        "val=0.3269\n",
        "\n",
        "app=Instagram(45135), keyword=+\"\uad81\ud569\"(557674), both=Instagram++\"\uad81\ud569\"(77), pmi=-0.486\n",
        "\n",
        "45135"
       ]
      },
      {
       "output_type": "stream",
       "stream": "stdout",
       "text": [
        "\n",
        "965132"
       ]
      },
      {
       "output_type": "stream",
       "stream": "stdout",
       "text": [
        "\n",
        "55"
       ]
      },
      {
       "output_type": "stream",
       "stream": "stdout",
       "text": [
        "\n",
        "45135"
       ]
      },
      {
       "output_type": "stream",
       "stream": "stdout",
       "text": [
        " 965132 55 1000000000.0\n",
        "val=0.7920\n",
        "\n",
        "app=Instagram(45135), keyword=+\"\uccb4\uc911\"(965132), both=Instagram++\"\uccb4\uc911\"(55), pmi=-0.101\n",
        "\n",
        "45135"
       ]
      },
      {
       "output_type": "stream",
       "stream": "stdout",
       "text": [
        "\n",
        "2782132"
       ]
      },
      {
       "output_type": "stream",
       "stream": "stdout",
       "text": [
        "\n",
        "453"
       ]
      },
      {
       "output_type": "stream",
       "stream": "stdout",
       "text": [
        "\n",
        "45135"
       ]
      },
      {
       "output_type": "stream",
       "stream": "stdout",
       "text": [
        " 2782132 453 1000000000.0\n",
        "val=0.2772\n",
        "\n",
        "app=Instagram(45135), keyword=+\"\uc0ac\uc804\"(2782132), both=Instagram++\"\uc0ac\uc804\"(453), pmi=-0.557\n",
        "\n",
        "45135"
       ]
      },
      {
       "output_type": "stream",
       "stream": "stdout",
       "text": [
        "\n",
        "4737459"
       ]
      },
      {
       "output_type": "stream",
       "stream": "stdout",
       "text": [
        "\n",
        "510"
       ]
      },
      {
       "output_type": "stream",
       "stream": "stdout",
       "text": [
        "\n",
        "45135"
       ]
      },
      {
       "output_type": "stream",
       "stream": "stdout",
       "text": [
        " 4737459 510 1000000000.0\n",
        "val=0.4193\n",
        "\n",
        "app=Instagram(45135), keyword=+\"\ucef4\ud4e8\ud130\"(4737459), both=Instagram++\"\ucef4\ud4e8\ud130\"(510), pmi=-0.378\n",
        "\n",
        "45135"
       ]
      },
      {
       "output_type": "stream",
       "stream": "stdout",
       "text": [
        "\n",
        "247712"
       ]
      },
      {
       "output_type": "stream",
       "stream": "stdout",
       "text": [
        "\n",
        "12"
       ]
      },
      {
       "output_type": "stream",
       "stream": "stdout",
       "text": [
        "\n",
        "45135"
       ]
      },
      {
       "output_type": "stream",
       "stream": "stdout",
       "text": [
        " 247712 12 1000000000.0\n",
        "val=0.9317\n",
        "\n",
        "app=Instagram(45135), keyword=+\"\ubc31\uacfc\uc0ac\uc804\"(247712), both=Instagram++\"\ubc31\uacfc\uc0ac\uc804\"(12), pmi=-0.031\n"
       ]
      },
      {
       "output_type": "stream",
       "stream": "stdout",
       "text": [
        "\n",
        "45135"
       ]
      },
      {
       "output_type": "stream",
       "stream": "stdout",
       "text": [
        "\n",
        "347881"
       ]
      },
      {
       "output_type": "stream",
       "stream": "stdout",
       "text": [
        "\n",
        "28"
       ]
      },
      {
       "output_type": "stream",
       "stream": "stdout",
       "text": [
        "\n",
        "45135"
       ]
      },
      {
       "output_type": "stream",
       "stream": "stdout",
       "text": [
        " 347881 28 1000000000.0\n",
        "val=0.5608\n",
        "\n",
        "app=Instagram(45135), keyword=+\"\uae09\uc2dd\"(347881), both=Instagram++\"\uae09\uc2dd\"(28), pmi=-0.251\n",
        "\n",
        "45135"
       ]
      },
      {
       "output_type": "stream",
       "stream": "stdout",
       "text": [
        "\n",
        "13067259"
       ]
      },
      {
       "output_type": "stream",
       "stream": "stdout",
       "text": [
        "\n",
        "1157"
       ]
      },
      {
       "output_type": "stream",
       "stream": "stdout",
       "text": [
        "\n",
        "45135"
       ]
      },
      {
       "output_type": "stream",
       "stream": "stdout",
       "text": [
        " 13067259 1157 1000000000.0\n",
        "val=0.5098\n",
        "\n",
        "app=Instagram(45135), keyword=+\"\ud559\uad50\"(13067259), both=Instagram++\"\ud559\uad50\"(1157), pmi=-0.293\n",
        "\n",
        "45135"
       ]
      },
      {
       "output_type": "stream",
       "stream": "stdout",
       "text": [
        "\n",
        "2044254"
       ]
      },
      {
       "output_type": "stream",
       "stream": "stdout",
       "text": [
        "\n",
        "101"
       ]
      },
      {
       "output_type": "stream",
       "stream": "stdout",
       "text": [
        "\n",
        "45135"
       ]
      },
      {
       "output_type": "stream",
       "stream": "stdout",
       "text": [
        " 2044254 101 1000000000.0\n",
        "val=0.9135\n",
        "\n",
        "app=Instagram(45135), keyword=+\"\ucd08\ub4f1\ud559\uad50\"(2044254), both=Instagram++\"\ucd08\ub4f1\ud559\uad50\"(101), pmi=-0.039\n",
        "\n",
        "45135"
       ]
      },
      {
       "output_type": "stream",
       "stream": "stdout",
       "text": [
        "\n",
        "1701882"
       ]
      },
      {
       "output_type": "stream",
       "stream": "stdout",
       "text": [
        "\n",
        "90"
       ]
      },
      {
       "output_type": "stream",
       "stream": "stdout",
       "text": [
        "\n",
        "45135"
       ]
      },
      {
       "output_type": "stream",
       "stream": "stdout",
       "text": [
        " 1701882 90 1000000000.0\n",
        "val=0.8535\n",
        "\n",
        "app=Instagram(45135), keyword=+\"\uc911\ud559\uad50\"(1701882), both=Instagram++\"\uc911\ud559\uad50\"(90), pmi=-0.069\n",
        "\n",
        "45135"
       ]
      },
      {
       "output_type": "stream",
       "stream": "stdout",
       "text": [
        "\n",
        "1873189"
       ]
      },
      {
       "output_type": "stream",
       "stream": "stdout",
       "text": [
        "\n",
        "148"
       ]
      },
      {
       "output_type": "stream",
       "stream": "stdout",
       "text": [
        "\n",
        "45135"
       ]
      },
      {
       "output_type": "stream",
       "stream": "stdout",
       "text": [
        " 1873189 148 1000000000.0\n",
        "val=0.5713\n",
        "\n",
        "app=Instagram(45135), keyword=+\"\uace0\ub4f1\ud559\uad50\"(1873189), both=Instagram++\"\uace0\ub4f1\ud559\uad50\"(148), pmi=-0.243\n",
        "\n",
        "45135"
       ]
      },
      {
       "output_type": "stream",
       "stream": "stdout",
       "text": [
        "\n",
        "3194058"
       ]
      },
      {
       "output_type": "stream",
       "stream": "stdout",
       "text": [
        "\n",
        "239"
       ]
      },
      {
       "output_type": "stream",
       "stream": "stdout",
       "text": [
        "\n",
        "45135"
       ]
      },
      {
       "output_type": "stream",
       "stream": "stdout",
       "text": [
        " 3194058 239 1000000000.0\n",
        "val=0.6032\n",
        "\n",
        "app=Instagram(45135), keyword=+\"\ub300\ud559\uad50\"(3194058), both=Instagram++\"\ub300\ud559\uad50\"(239), pmi=-0.220\n",
        "\n",
        "45135"
       ]
      },
      {
       "output_type": "stream",
       "stream": "stdout",
       "text": [
        "\n",
        "1185199"
       ]
      },
      {
       "output_type": "stream",
       "stream": "stdout",
       "text": [
        "\n",
        "1211"
       ]
      },
      {
       "output_type": "stream",
       "stream": "stdout",
       "text": [
        "\n",
        "45135"
       ]
      },
      {
       "output_type": "stream",
       "stream": "stdout",
       "text": [
        " 1185199 1211 1000000000.0\n",
        "val=0.0442\n",
        "\n",
        "app=Instagram(45135), keyword=+\"Korea\"(1185199), both=Instagram++\"Korea\"(1211), pmi=-1.355\n",
        "\n",
        "45135"
       ]
      },
      {
       "output_type": "stream",
       "stream": "stdout",
       "text": [
        "\n",
        "504930"
       ]
      },
      {
       "output_type": "stream",
       "stream": "stdout",
       "text": [
        "\n",
        "50"
       ]
      },
      {
       "output_type": "stream",
       "stream": "stdout",
       "text": [
        "\n",
        "45135"
       ]
      },
      {
       "output_type": "stream",
       "stream": "stdout",
       "text": [
        " 504930 50 1000000000.0\n",
        "val=0.4558\n",
        "\n",
        "app=Instagram(45135), keyword=+\"\ub124\ube44\uac8c\uc774\uc158\"(504930), both=Instagram++\"\ub124\ube44\uac8c\uc774\uc158\"(50), pmi=-0.341\n",
        "\n",
        "45135"
       ]
      },
      {
       "output_type": "stream",
       "stream": "stdout",
       "text": [
        "\n",
        "2825208"
       ]
      },
      {
       "output_type": "stream",
       "stream": "stdout",
       "text": [
        "\n",
        "498"
       ]
      },
      {
       "output_type": "stream",
       "stream": "stdout",
       "text": [
        "\n",
        "45135"
       ]
      },
      {
       "output_type": "stream",
       "stream": "stdout",
       "text": [
        " 2825208 498 1000000000.0\n",
        "val=0.2561\n",
        "\n",
        "app=Instagram(45135), keyword=+\"\uc9c0\ud558\ucca0\"(2825208), both=Instagram++\"\uc9c0\ud558\ucca0\"(498), pmi=-0.592\n",
        "\n",
        "45135"
       ]
      },
      {
       "output_type": "stream",
       "stream": "stdout",
       "text": [
        "\n",
        "167405"
       ]
      },
      {
       "output_type": "stream",
       "stream": "stdout",
       "text": [
        "\n",
        "53"
       ]
      },
      {
       "output_type": "stream",
       "stream": "stdout",
       "text": [
        "\n",
        "45135"
       ]
      },
      {
       "output_type": "stream",
       "stream": "stdout",
       "text": [
        " 167405 53 1000000000.0\n",
        "val=0.1426\n",
        "\n",
        "app=Instagram(45135), keyword=+\"\uc885\uacb0\uc790\"(167405), both=Instagram++\"\uc885\uacb0\uc790\"(53), pmi=-0.846\n",
        "\n",
        "45135"
       ]
      },
      {
       "output_type": "stream",
       "stream": "stdout",
       "text": [
        "\n",
        "64550"
       ]
      },
      {
       "output_type": "stream",
       "stream": "stdout",
       "text": [
        "\n",
        "13"
       ]
      },
      {
       "output_type": "stream",
       "stream": "stdout",
       "text": [
        "\n",
        "45135"
       ]
      },
      {
       "output_type": "stream",
       "stream": "stdout",
       "text": [
        " 64550 13 1000000000.0\n",
        "val=0.2241\n",
        "\n",
        "app=Instagram(45135), keyword=+\"\ub0b4\ube44\"(64550), both=Instagram++\"\ub0b4\ube44\"(13), pmi=-0.650\n",
        "\n",
        "45135"
       ]
      },
      {
       "output_type": "stream",
       "stream": "stdout",
       "text": [
        "\n",
        "110301"
       ]
      },
      {
       "output_type": "stream",
       "stream": "stdout",
       "text": [
        "\n",
        "35"
       ]
      },
      {
       "output_type": "stream",
       "stream": "stdout",
       "text": [
        "\n",
        "45135"
       ]
      },
      {
       "output_type": "stream",
       "stream": "stdout",
       "text": [
        " 110301 35 1000000000.0\n",
        "val=0.1422\n",
        "\n",
        "app=Instagram(45135), keyword=+\"\uac00\uacc4\ubd80\"(110301), both=Instagram++\"\uac00\uacc4\ubd80\"(35), pmi=-0.847\n",
        "\n",
        "45135"
       ]
      },
      {
       "output_type": "stream",
       "stream": "stdout",
       "text": [
        "\n",
        "560975"
       ]
      },
      {
       "output_type": "stream",
       "stream": "stdout",
       "text": [
        "\n",
        "1192"
       ]
      },
      {
       "output_type": "stream",
       "stream": "stdout",
       "text": [
        "\n",
        "45135"
       ]
      },
      {
       "output_type": "stream",
       "stream": "stdout",
       "text": [
        " 560975 1192 1000000000.0\n",
        "val=0.0212\n",
        "\n",
        "app=Instagram(45135), keyword=+\"Money\"(560975), both=Instagram++\"Money\"(1192), pmi=-1.673\n",
        "\n",
        "45135"
       ]
      },
      {
       "output_type": "stream",
       "stream": "stdout",
       "text": [
        "\n",
        "2657498"
       ]
      },
      {
       "output_type": "stream",
       "stream": "stdout",
       "text": [
        "\n",
        "1327"
       ]
      },
      {
       "output_type": "stream",
       "stream": "stdout",
       "text": [
        "\n",
        "45135"
       ]
      },
      {
       "output_type": "stream",
       "stream": "stdout",
       "text": [
        " 2657498 1327 1000000000.0\n",
        "val=0.0904\n",
        "\n",
        "app=Instagram(45135), keyword=+\"\uc2a4\ub9c8\ud2b8\"(2657498), both=Instagram++\"\uc2a4\ub9c8\ud2b8\"(1327), pmi=-1.044\n",
        "\n",
        "45135"
       ]
      },
      {
       "output_type": "stream",
       "stream": "stdout",
       "text": [
        "\n",
        "161421"
       ]
      },
      {
       "output_type": "stream",
       "stream": "stdout",
       "text": [
        "\n",
        "37"
       ]
      },
      {
       "output_type": "stream",
       "stream": "stdout",
       "text": [
        "\n",
        "45135"
       ]
      },
      {
       "output_type": "stream",
       "stream": "stdout",
       "text": [
        " 161421 37 1000000000.0\n",
        "val=0.1969\n",
        "\n",
        "app=Instagram(45135), keyword=+\"\uacc4\uc0b0\uae30\"(161421), both=Instagram++\"\uacc4\uc0b0\uae30\"(37), pmi=-0.706\n",
        "\n",
        "45135"
       ]
      },
      {
       "output_type": "stream",
       "stream": "stdout",
       "text": [
        "\n",
        "3307087"
       ]
      },
      {
       "output_type": "stream",
       "stream": "stdout",
       "text": [
        "\n",
        "286"
       ]
      },
      {
       "output_type": "stream",
       "stream": "stdout",
       "text": [
        "\n",
        "45135"
       ]
      },
      {
       "output_type": "stream",
       "stream": "stdout",
       "text": [
        " 3307087 286 1000000000.0\n",
        "val=0.5219\n",
        "\n",
        "app=Instagram(45135), keyword=+\"\uc740\ud589\"(3307087), both=Instagram++\"\uc740\ud589\"(286), pmi=-0.282\n",
        "\n",
        "45135"
       ]
      },
      {
       "output_type": "stream",
       "stream": "stdout",
       "text": [
        "\n",
        "776559"
       ]
      },
      {
       "output_type": "stream",
       "stream": "stdout",
       "text": [
        "\n",
        "3420"
       ]
      },
      {
       "output_type": "stream",
       "stream": "stdout",
       "text": [
        "\n",
        "45135"
       ]
      },
      {
       "output_type": "stream",
       "stream": "stdout",
       "text": [
        " 776559 3420 1000000000.0\n",
        "val=0.0102\n",
        "\n",
        "app=Instagram(45135), keyword=+\"\uac80\uc0c9\uc5b4\"(776559), both=Instagram++\"\uac80\uc0c9\uc5b4\"(3420), pmi=-1.989\n",
        "\n",
        "45135"
       ]
      },
      {
       "output_type": "stream",
       "stream": "stdout",
       "text": [
        "\n",
        "1362062"
       ]
      },
      {
       "output_type": "stream",
       "stream": "stdout",
       "text": [
        "\n",
        "3913"
       ]
      },
      {
       "output_type": "stream",
       "stream": "stdout",
       "text": [
        "\n",
        "45135"
       ]
      },
      {
       "output_type": "stream",
       "stream": "stdout",
       "text": [
        " 1362062 3913 1000000000.0\n",
        "val=0.0157\n",
        "\n",
        "app=Instagram(45135), keyword=+\"\uc2e4\uc2dc\uac04\"(1362062), both=Instagram++\"\uc2e4\uc2dc\uac04\"(3913), pmi=-1.804\n"
       ]
      },
      {
       "output_type": "stream",
       "stream": "stdout",
       "text": [
        "\n",
        "45135"
       ]
      },
      {
       "output_type": "stream",
       "stream": "stdout",
       "text": [
        "\n",
        "3116399"
       ]
      },
      {
       "output_type": "stream",
       "stream": "stdout",
       "text": [
        "\n",
        "264"
       ]
      },
      {
       "output_type": "stream",
       "stream": "stdout",
       "text": [
        "\n",
        "45135"
       ]
      },
      {
       "output_type": "stream",
       "stream": "stdout",
       "text": [
        " 3116399 264 1000000000.0\n",
        "val=0.5328\n",
        "\n",
        "app=Instagram(45135), keyword=+\"\uc2e0\ubb38\"(3116399), both=Instagram++\"\uc2e0\ubb38\"(264), pmi=-0.273\n"
       ]
      },
      {
       "output_type": "stream",
       "stream": "stdout",
       "text": [
        "\n",
        "45135"
       ]
      },
      {
       "output_type": "stream",
       "stream": "stdout",
       "text": [
        "\n",
        "1226493"
       ]
      },
      {
       "output_type": "stream",
       "stream": "stdout",
       "text": [
        "\n",
        "237"
       ]
      },
      {
       "output_type": "stream",
       "stream": "stdout",
       "text": [
        "\n",
        "45135"
       ]
      },
      {
       "output_type": "stream",
       "stream": "stdout",
       "text": [
        " 1226493 237 1000000000.0\n",
        "val=0.2336\n",
        "\n",
        "app=Instagram(45135), keyword=+\"\ud074\ub798\uc2dd\"(1226493), both=Instagram++\"\ud074\ub798\uc2dd\"(237), pmi=-0.632\n",
        "\n",
        "45135"
       ]
      },
      {
       "output_type": "stream",
       "stream": "stdout",
       "text": [
        "\n",
        "1406502"
       ]
      },
      {
       "output_type": "stream",
       "stream": "stdout",
       "text": [
        "\n",
        "136"
       ]
      },
      {
       "output_type": "stream",
       "stream": "stdout",
       "text": [
        "\n",
        "45135"
       ]
      },
      {
       "output_type": "stream",
       "stream": "stdout",
       "text": [
        " 1406502 136 1000000000.0\n",
        "val=0.4668\n",
        "\n",
        "app=Instagram(45135), keyword=+\"\uc560\ub2c8\"(1406502), both=Instagram++\"\uc560\ub2c8\"(136), pmi=-0.331\n",
        "\n",
        "45135"
       ]
      },
      {
       "output_type": "stream",
       "stream": "stdout",
       "text": [
        "\n",
        "1186104"
       ]
      },
      {
       "output_type": "stream",
       "stream": "stdout",
       "text": [
        "\n",
        "87"
       ]
      },
      {
       "output_type": "stream",
       "stream": "stdout",
       "text": [
        "\n",
        "45135"
       ]
      },
      {
       "output_type": "stream",
       "stream": "stdout",
       "text": [
        " 1186104 87 1000000000.0\n",
        "val=0.6153\n",
        "\n",
        "app=Instagram(45135), keyword=+\"\ub09a\uc2dc\"(1186104), both=Instagram++\"\ub09a\uc2dc\"(87), pmi=-0.211\n"
       ]
      },
      {
       "output_type": "stream",
       "stream": "stdout",
       "text": [
        "\n",
        "45135"
       ]
      },
      {
       "output_type": "stream",
       "stream": "stdout",
       "text": [
        "\n",
        "87415"
       ]
      },
      {
       "output_type": "stream",
       "stream": "stdout",
       "text": [
        "\n",
        "33"
       ]
      },
      {
       "output_type": "stream",
       "stream": "stdout",
       "text": [
        "\n",
        "45135"
       ]
      },
      {
       "output_type": "stream",
       "stream": "stdout",
       "text": [
        " 87415 33 1000000000.0\n",
        "val=0.1196\n",
        "\n",
        "app=Instagram(45135), keyword=+\"\ub7f0\ucc98\"(87415), both=Instagram++\"\ub7f0\ucc98\"(33), pmi=-0.922\n",
        "\n",
        "45135"
       ]
      },
      {
       "output_type": "stream",
       "stream": "stdout",
       "text": [
        "\n",
        "67612"
       ]
      },
      {
       "output_type": "stream",
       "stream": "stdout",
       "text": [
        "\n",
        "66"
       ]
      },
      {
       "output_type": "stream",
       "stream": "stdout",
       "text": [
        "\n",
        "45135"
       ]
      },
      {
       "output_type": "stream",
       "stream": "stdout",
       "text": [
        " 67612 66 1000000000.0\n",
        "val=0.0462\n",
        "\n",
        "app=Instagram(45135), keyword=+\"\uc8fc\uc18c\ub85d\"(67612), both=Instagram++\"\uc8fc\uc18c\ub85d\"(66), pmi=-1.335\n",
        "\n",
        "45135"
       ]
      },
      {
       "output_type": "stream",
       "stream": "stdout",
       "text": [
        "\n",
        "4766899"
       ]
      },
      {
       "output_type": "stream",
       "stream": "stdout",
       "text": [
        "\n",
        "3313"
       ]
      },
      {
       "output_type": "stream",
       "stream": "stdout",
       "text": [
        "\n",
        "45135"
       ]
      },
      {
       "output_type": "stream",
       "stream": "stdout",
       "text": [
        " 4766899 3313 1000000000.0\n",
        "val=0.0649\n",
        "\n",
        "app=Instagram(45135), keyword=+\"\ud3f0\"(4766899), both=Instagram++\"\ud3f0\"(3313), pmi=-1.187\n",
        "\n",
        "45135"
       ]
      },
      {
       "output_type": "stream",
       "stream": "stdout",
       "text": [
        "\n",
        "819843"
       ]
      },
      {
       "output_type": "stream",
       "stream": "stdout",
       "text": [
        "\n",
        "81"
       ]
      },
      {
       "output_type": "stream",
       "stream": "stdout",
       "text": [
        "\n",
        "45135"
       ]
      },
      {
       "output_type": "stream",
       "stream": "stdout",
       "text": [
        " 819843 81 1000000000.0\n",
        "val=0.4568\n",
        "\n",
        "app=Instagram(45135), keyword=+\"\ubc14\uc774\ub7ec\uc2a4\"(819843), both=Instagram++\"\ubc14\uc774\ub7ec\uc2a4\"(81), pmi=-0.340\n",
        "\n",
        "45135"
       ]
      },
      {
       "output_type": "stream",
       "stream": "stdout",
       "text": [
        "\n",
        "993408"
       ]
      },
      {
       "output_type": "stream",
       "stream": "stdout",
       "text": [
        "\n",
        "135"
       ]
      },
      {
       "output_type": "stream",
       "stream": "stdout",
       "text": [
        "\n",
        "45135"
       ]
      },
      {
       "output_type": "stream",
       "stream": "stdout",
       "text": [
        " 993408 135 1000000000.0\n",
        "val=0.3321\n",
        "\n",
        "app=Instagram(45135), keyword=+\"\ubcf4\uc548\"(993408), both=Instagram++\"\ubcf4\uc548\"(135), pmi=-0.479\n"
       ]
      },
      {
       "output_type": "stream",
       "stream": "stdout",
       "text": [
        "\n",
        "45135"
       ]
      },
      {
       "output_type": "stream",
       "stream": "stdout",
       "text": [
        "\n",
        "1276211"
       ]
      },
      {
       "output_type": "stream",
       "stream": "stdout",
       "text": [
        "\n",
        "43"
       ]
      },
      {
       "output_type": "stream",
       "stream": "stdout",
       "text": [
        "\n",
        "45135"
       ]
      },
      {
       "output_type": "stream",
       "stream": "stdout",
       "text": [
        " 1276211 43 1000000000.0\n",
        "val=1.3396\n",
        "\n",
        "app=Instagram(45135), keyword=+\"\uc131\uacbd\"(1276211), both=Instagram++\"\uc131\uacbd\"(43), pmi=0.127\n",
        "\n",
        "45135"
       ]
      },
      {
       "output_type": "stream",
       "stream": "stdout",
       "text": [
        "\n",
        "216002"
       ]
      },
      {
       "output_type": "stream",
       "stream": "stdout",
       "text": [
        "\n",
        "3"
       ]
      },
      {
       "output_type": "stream",
       "stream": "stdout",
       "text": [
        "\n",
        "45135"
       ]
      },
      {
       "output_type": "stream",
       "stream": "stdout",
       "text": [
        " 216002 3 1000000000.0\n",
        "val=3.2498\n",
        "\n",
        "app=Instagram(45135), keyword=+\"\ucc2c\uc1a1\"(216002), both=Instagram++\"\ucc2c\uc1a1\"(3), pmi=0.512\n"
       ]
      },
      {
       "output_type": "stream",
       "stream": "stdout",
       "text": [
        "\n",
        "45135"
       ]
      },
      {
       "output_type": "stream",
       "stream": "stdout",
       "text": [
        "\n",
        "84285"
       ]
      },
      {
       "output_type": "stream",
       "stream": "stdout",
       "text": [
        "\n",
        "11"
       ]
      },
      {
       "output_type": "stream",
       "stream": "stdout",
       "text": [
        "\n",
        "45135"
       ]
      },
      {
       "output_type": "stream",
       "stream": "stdout",
       "text": [
        " 84285 11 1000000000.0\n",
        "val=0.3458\n",
        "\n",
        "app=Instagram(45135), keyword=+\"\ubc14\uc774\ube14\"(84285), both=Instagram++\"\ubc14\uc774\ube14\"(11), pmi=-0.461\n"
       ]
      },
      {
       "output_type": "stream",
       "stream": "stdout",
       "text": [
        "\n",
        "45135"
       ]
      },
      {
       "output_type": "stream",
       "stream": "stdout",
       "text": [
        "\n",
        "258580"
       ]
      },
      {
       "output_type": "stream",
       "stream": "stdout",
       "text": [
        "\n",
        "27"
       ]
      },
      {
       "output_type": "stream",
       "stream": "stdout",
       "text": [
        "\n",
        "45135"
       ]
      },
      {
       "output_type": "stream",
       "stream": "stdout",
       "text": [
        " 258580 27 1000000000.0\n",
        "val=0.4323\n",
        "\n",
        "app=Instagram(45135), keyword=+\"\ubc31\uc2e0\"(258580), both=Instagram++\"\ubc31\uc2e0\"(27), pmi=-0.364\n",
        "\n",
        "45135"
       ]
      },
      {
       "output_type": "stream",
       "stream": "stdout",
       "text": [
        "\n",
        "2226457"
       ]
      },
      {
       "output_type": "stream",
       "stream": "stdout",
       "text": [
        "\n",
        "1105"
       ]
      },
      {
       "output_type": "stream",
       "stream": "stdout",
       "text": [
        "\n",
        "45135"
       ]
      },
      {
       "output_type": "stream",
       "stream": "stdout",
       "text": [
        " 2226457 1105 1000000000.0\n",
        "val=0.0909\n",
        "\n",
        "app=Instagram(45135), keyword=+\"\uc6f9\"(2226457), both=Instagram++\"\uc6f9\"(1105), pmi=-1.041\n",
        "\n",
        "45135"
       ]
      },
      {
       "output_type": "stream",
       "stream": "stdout",
       "text": [
        "\n",
        "1287797"
       ]
      },
      {
       "output_type": "stream",
       "stream": "stdout",
       "text": [
        "\n",
        "366"
       ]
      },
      {
       "output_type": "stream",
       "stream": "stdout",
       "text": [
        "\n",
        "45135"
       ]
      },
      {
       "output_type": "stream",
       "stream": "stdout",
       "text": [
        " 1287797 366 1000000000.0\n",
        "val=0.1588\n",
        "\n",
        "app=Instagram(45135), keyword=+\"\uc2a4\ud2f0\ucee4\"(1287797), both=Instagram++\"\uc2a4\ud2f0\ucee4\"(366), pmi=-0.799\n"
       ]
      },
      {
       "output_type": "stream",
       "stream": "stdout",
       "text": [
        "\n",
        "45135"
       ]
      },
      {
       "output_type": "stream",
       "stream": "stdout",
       "text": [
        "\n",
        "364838"
       ]
      },
      {
       "output_type": "stream",
       "stream": "stdout",
       "text": [
        "\n",
        "52"
       ]
      },
      {
       "output_type": "stream",
       "stream": "stdout",
       "text": [
        "\n",
        "45135"
       ]
      },
      {
       "output_type": "stream",
       "stream": "stdout",
       "text": [
        " 364838 52 1000000000.0\n",
        "val=0.3167\n",
        "\n",
        "app=Instagram(45135), keyword=+\"\uc0ac\uc8fc\"(364838), both=Instagram++\"\uc0ac\uc8fc\"(52), pmi=-0.499\n",
        "\n",
        "45135"
       ]
      },
      {
       "output_type": "stream",
       "stream": "stdout",
       "text": [
        "\n",
        "229882"
       ]
      },
      {
       "output_type": "stream",
       "stream": "stdout",
       "text": [
        "\n",
        "29"
       ]
      },
      {
       "output_type": "stream",
       "stream": "stdout",
       "text": [
        "\n",
        "45135"
       ]
      },
      {
       "output_type": "stream",
       "stream": "stdout",
       "text": [
        " 229882 29 1000000000.0\n",
        "val=0.3578\n",
        "\n",
        "app=Instagram(45135), keyword=+\"\uc6b4\uc138\"(229882), both=Instagram++\"\uc6b4\uc138\"(29), pmi=-0.446\n",
        "\n",
        "45135"
       ]
      },
      {
       "output_type": "stream",
       "stream": "stdout",
       "text": [
        "\n",
        "680913"
       ]
      },
      {
       "output_type": "stream",
       "stream": "stdout",
       "text": [
        "\n",
        "60"
       ]
      },
      {
       "output_type": "stream",
       "stream": "stdout",
       "text": [
        "\n",
        "45135"
       ]
      },
      {
       "output_type": "stream",
       "stream": "stdout",
       "text": [
        " 680913 60 1000000000.0\n",
        "val=0.5122\n",
        "\n",
        "app=Instagram(45135), keyword=+\"\ucf54\ubbf9\"(680913), both=Instagram++\"\ucf54\ubbf9\"(60), pmi=-0.291\n"
       ]
      },
      {
       "output_type": "stream",
       "stream": "stdout",
       "text": [
        "\n",
        "45135"
       ]
      },
      {
       "output_type": "stream",
       "stream": "stdout",
       "text": [
        "\n",
        "1210739"
       ]
      },
      {
       "output_type": "stream",
       "stream": "stdout",
       "text": [
        "\n",
        "535"
       ]
      },
      {
       "output_type": "stream",
       "stream": "stdout",
       "text": [
        "\n",
        "45135"
       ]
      },
      {
       "output_type": "stream",
       "stream": "stdout",
       "text": [
        " 1210739 535 1000000000.0\n",
        "val=0.1021\n",
        "\n",
        "app=Instagram(45135), keyword=+\"3D\"(1210739), both=Instagram++\"3D\"(535), pmi=-0.991\n",
        "\n",
        "45135"
       ]
      },
      {
       "output_type": "stream",
       "stream": "stdout",
       "text": [
        "\n",
        "207640"
       ]
      },
      {
       "output_type": "stream",
       "stream": "stdout",
       "text": [
        "\n",
        "33"
       ]
      },
      {
       "output_type": "stream",
       "stream": "stdout",
       "text": [
        "\n",
        "45135"
       ]
      },
      {
       "output_type": "stream",
       "stream": "stdout",
       "text": [
        " 207640 33 1000000000.0\n",
        "val=0.2840\n",
        "\n",
        "app=Instagram(45135), keyword=+\"\ubcc4\uc790\ub9ac\"(207640), both=Instagram++\"\ubcc4\uc790\ub9ac\"(33), pmi=-0.547\n"
       ]
      },
      {
       "output_type": "stream",
       "stream": "stdout",
       "text": [
        "\n",
        "45135"
       ]
      },
      {
       "output_type": "stream",
       "stream": "stdout",
       "text": [
        "\n",
        "212216"
       ]
      },
      {
       "output_type": "stream",
       "stream": "stdout",
       "text": [
        "\n",
        "707"
       ]
      },
      {
       "output_type": "stream",
       "stream": "stdout",
       "text": [
        "\n",
        "45135"
       ]
      },
      {
       "output_type": "stream",
       "stream": "stdout",
       "text": [
        " 212216 707 1000000000.0\n",
        "val=0.0135\n",
        "\n",
        "app=Instagram(45135), keyword=+\"tool\"(212216), both=Instagram++\"tool\"(707), pmi=-1.868\n"
       ]
      },
      {
       "output_type": "stream",
       "stream": "stdout",
       "text": [
        "\n",
        "45135"
       ]
      },
      {
       "output_type": "stream",
       "stream": "stdout",
       "text": [
        "\n",
        "340734"
       ]
      },
      {
       "output_type": "stream",
       "stream": "stdout",
       "text": [
        "\n",
        "103"
       ]
      },
      {
       "output_type": "stream",
       "stream": "stdout",
       "text": [
        "\n",
        "45135"
       ]
      },
      {
       "output_type": "stream",
       "stream": "stdout",
       "text": [
        " 340734 103 1000000000.0\n",
        "val=0.1493\n",
        "\n",
        "app=Instagram(45135), keyword=+\"\uc6f9\ud230\"(340734), both=Instagram++\"\uc6f9\ud230\"(103), pmi=-0.826\n",
        "\n",
        "45135"
       ]
      },
      {
       "output_type": "stream",
       "stream": "stdout",
       "text": [
        "\n",
        "969863"
       ]
      },
      {
       "output_type": "stream",
       "stream": "stdout",
       "text": [
        "\n",
        "131"
       ]
      },
      {
       "output_type": "stream",
       "stream": "stdout",
       "text": [
        "\n",
        "45135"
       ]
      },
      {
       "output_type": "stream",
       "stream": "stdout",
       "text": [
        " 969863 131 1000000000.0\n",
        "val=0.3342\n",
        "\n",
        "app=Instagram(45135), keyword=+\"\ud50c\ub808\uc774\uc5b4\"(969863), both=Instagram++\"\ud50c\ub808\uc774\uc5b4\"(131), pmi=-0.476\n",
        "\n",
        "45135"
       ]
      },
      {
       "output_type": "stream",
       "stream": "stdout",
       "text": [
        "\n",
        "5034770"
       ]
      },
      {
       "output_type": "stream",
       "stream": "stdout",
       "text": [
        "\n",
        "2024"
       ]
      },
      {
       "output_type": "stream",
       "stream": "stdout",
       "text": [
        "\n",
        "45135"
       ]
      },
      {
       "output_type": "stream",
       "stream": "stdout",
       "text": [
        " 5034770 2024 1000000000.0\n",
        "val=0.1123\n",
        "\n",
        "app=Instagram(45135), keyword=+\"\uce74\uba54\ub77c\"(5034770), both=Instagram++\"\uce74\uba54\ub77c\"(2024), pmi=-0.950\n",
        "\n",
        "45135"
       ]
      },
      {
       "output_type": "stream",
       "stream": "stdout",
       "text": [
        "\n",
        "223507"
       ]
      },
      {
       "output_type": "stream",
       "stream": "stdout",
       "text": [
        "\n",
        "42"
       ]
      },
      {
       "output_type": "stream",
       "stream": "stdout",
       "text": [
        "\n",
        "45135"
       ]
      },
      {
       "output_type": "stream",
       "stream": "stdout",
       "text": [
        " 223507 42 1000000000.0\n",
        "val=0.2402\n",
        "\n",
        "app=Instagram(45135), keyword=+\"\ubca8\uc18c\ub9ac\"(223507), both=Instagram++\"\ubca8\uc18c\ub9ac\"(42), pmi=-0.619\n",
        "\n",
        "45135"
       ]
      },
      {
       "output_type": "stream",
       "stream": "stdout",
       "text": [
        "\n",
        "1855000"
       ]
      },
      {
       "output_type": "stream",
       "stream": "stdout",
       "text": [
        "\n",
        "238"
       ]
      },
      {
       "output_type": "stream",
       "stream": "stdout",
       "text": [
        "\n",
        "45135"
       ]
      },
      {
       "output_type": "stream",
       "stream": "stdout",
       "text": [
        " 1855000 238 1000000000.0\n",
        "val=0.3518\n",
        "\n",
        "app=Instagram(45135), keyword=+\"\ud55c\uae00\"(1855000), both=Instagram++\"\ud55c\uae00\"(238), pmi=-0.454\n",
        "\n",
        "45135"
       ]
      },
      {
       "output_type": "stream",
       "stream": "stdout",
       "text": [
        "\n",
        "451853"
       ]
      },
      {
       "output_type": "stream",
       "stream": "stdout",
       "text": [
        "\n",
        "93"
       ]
      },
      {
       "output_type": "stream",
       "stream": "stdout",
       "text": [
        "\n",
        "45135"
       ]
      },
      {
       "output_type": "stream",
       "stream": "stdout",
       "text": [
        " 451853 93 1000000000.0\n",
        "val=0.2193\n",
        "\n",
        "app=Instagram(45135), keyword=+\"\uc624\ud53c\uc2a4\"(451853), both=Instagram++\"\uc624\ud53c\uc2a4\"(93), pmi=-0.659\n"
       ]
      },
      {
       "output_type": "stream",
       "stream": "stdout",
       "text": [
        "\n",
        "45135"
       ]
      },
      {
       "output_type": "stream",
       "stream": "stdout",
       "text": [
        "\n",
        "479017"
       ]
      },
      {
       "output_type": "stream",
       "stream": "stdout",
       "text": [
        "\n",
        "624"
       ]
      },
      {
       "output_type": "stream",
       "stream": "stdout",
       "text": [
        "\n",
        "45135"
       ]
      },
      {
       "output_type": "stream",
       "stream": "stdout",
       "text": [
        " 479017 624 1000000000.0\n",
        "val=0.0346\n",
        "\n",
        "app=Instagram(45135), keyword=+\"office\"(479017), both=Instagram++\"office\"(624), pmi=-1.460\n"
       ]
      },
      {
       "output_type": "stream",
       "stream": "stdout",
       "text": [
        "\n",
        "45135"
       ]
      },
      {
       "output_type": "stream",
       "stream": "stdout",
       "text": [
        "\n",
        "1275072"
       ]
      },
      {
       "output_type": "stream",
       "stream": "stdout",
       "text": [
        "\n",
        "330"
       ]
      },
      {
       "output_type": "stream",
       "stream": "stdout",
       "text": [
        "\n",
        "45135"
       ]
      },
      {
       "output_type": "stream",
       "stream": "stdout",
       "text": [
        " 1275072 330 1000000000.0\n",
        "val=0.1744\n",
        "\n",
        "app=Instagram(45135), keyword=+\"\uc54c\ubc14\"(1275072), both=Instagram++\"\uc54c\ubc14\"(330), pmi=-0.758\n",
        "\n",
        "45135"
       ]
      },
      {
       "output_type": "stream",
       "stream": "stdout",
       "text": [
        "\n",
        "1281848"
       ]
      },
      {
       "output_type": "stream",
       "stream": "stdout",
       "text": [
        "\n",
        "6659"
       ]
      },
      {
       "output_type": "stream",
       "stream": "stdout",
       "text": [
        "\n",
        "45135"
       ]
      },
      {
       "output_type": "stream",
       "stream": "stdout",
       "text": [
        " 1281848 6659 1000000000.0\n",
        "val=0.0087\n",
        "\n",
        "app=Instagram(45135), keyword=+\"photo\"(1281848), both=Instagram++\"photo\"(6659), pmi=-2.061\n"
       ]
      },
      {
       "output_type": "stream",
       "stream": "stdout",
       "text": [
        "\n",
        "45135"
       ]
      },
      {
       "output_type": "stream",
       "stream": "stdout",
       "text": [
        "\n",
        "883685"
       ]
      },
      {
       "output_type": "stream",
       "stream": "stdout",
       "text": [
        "\n",
        "187"
       ]
      },
      {
       "output_type": "stream",
       "stream": "stdout",
       "text": [
        "\n",
        "45135"
       ]
      },
      {
       "output_type": "stream",
       "stream": "stdout",
       "text": [
        " 883685 187 1000000000.0\n",
        "val=0.2133\n",
        "\n",
        "app=Instagram(45135), keyword=+\"\ub4dc\ub77c\uc774\ube0c\"(883685), both=Instagram++\"\ub4dc\ub77c\uc774\ube0c\"(187), pmi=-0.671\n",
        "\n",
        "45135"
       ]
      },
      {
       "output_type": "stream",
       "stream": "stdout",
       "text": [
        "\n",
        "3698046"
       ]
      },
      {
       "output_type": "stream",
       "stream": "stdout",
       "text": [
        "\n",
        "350"
       ]
      },
      {
       "output_type": "stream",
       "stream": "stdout",
       "text": [
        "\n",
        "45135"
       ]
      },
      {
       "output_type": "stream",
       "stream": "stdout",
       "text": [
        " 3698046 350 1000000000.0\n",
        "val=0.4769\n",
        "\n",
        "app=Instagram(45135), keyword=+\"\ud30c\uc77c\"(3698046), both=Instagram++\"\ud30c\uc77c\"(350), pmi=-0.322\n",
        "\n",
        "45135"
       ]
      },
      {
       "output_type": "stream",
       "stream": "stdout",
       "text": [
        "\n",
        "1045479"
       ]
      },
      {
       "output_type": "stream",
       "stream": "stdout",
       "text": [
        "\n",
        "326"
       ]
      },
      {
       "output_type": "stream",
       "stream": "stdout",
       "text": [
        "\n",
        "45135"
       ]
      },
      {
       "output_type": "stream",
       "stream": "stdout",
       "text": [
        " 1045479 326 1000000000.0\n",
        "val=0.1447\n",
        "\n",
        "app=Instagram(45135), keyword=+\"\uac24\ub7ec\ub9ac\"(1045479), both=Instagram++\"\uac24\ub7ec\ub9ac\"(326), pmi=-0.839\n",
        "\n",
        "45135"
       ]
      },
      {
       "output_type": "stream",
       "stream": "stdout",
       "text": [
        "\n",
        "2716618"
       ]
      },
      {
       "output_type": "stream",
       "stream": "stdout",
       "text": [
        "\n",
        "405"
       ]
      },
      {
       "output_type": "stream",
       "stream": "stdout",
       "text": [
        "\n",
        "45135"
       ]
      },
      {
       "output_type": "stream",
       "stream": "stdout",
       "text": [
        " 2716618 405 1000000000.0\n",
        "val=0.3028\n",
        "\n",
        "app=Instagram(45135), keyword=+\"\uadf8\ub8f9\"(2716618), both=Instagram++\"\uadf8\ub8f9\"(405), pmi=-0.519\n"
       ]
      },
      {
       "output_type": "stream",
       "stream": "stdout",
       "text": [
        "\n",
        "45135"
       ]
      },
      {
       "output_type": "stream",
       "stream": "stdout",
       "text": [
        "\n",
        "110182"
       ]
      },
      {
       "output_type": "stream",
       "stream": "stdout",
       "text": [
        "\n",
        "35"
       ]
      },
      {
       "output_type": "stream",
       "stream": "stdout",
       "text": [
        "\n",
        "45135"
       ]
      },
      {
       "output_type": "stream",
       "stream": "stdout",
       "text": [
        " 110182 35 1000000000.0\n",
        "val=0.1421\n",
        "\n",
        "app=Instagram(45135), keyword=+\"\ubc14\ucf54\ub4dc\"(110182), both=Instagram++\"\ubc14\ucf54\ub4dc\"(35), pmi=-0.847\n",
        "\n",
        "45135"
       ]
      },
      {
       "output_type": "stream",
       "stream": "stdout",
       "text": [
        "\n",
        "102122"
       ]
      },
      {
       "output_type": "stream",
       "stream": "stdout",
       "text": [
        "\n",
        "36"
       ]
      },
      {
       "output_type": "stream",
       "stream": "stdout",
       "text": [
        "\n",
        "45135"
       ]
      },
      {
       "output_type": "stream",
       "stream": "stdout",
       "text": [
        " 102122 36 1000000000.0\n",
        "val=0.1280\n",
        "\n",
        "app=Instagram(45135), keyword=+\"\uc2a4\uce90\ub108\"(102122), both=Instagram++\"\uc2a4\uce90\ub108\"(36), pmi=-0.893\n",
        "\n",
        "45135"
       ]
      },
      {
       "output_type": "stream",
       "stream": "stdout",
       "text": [
        "\n",
        "180892"
       ]
      },
      {
       "output_type": "stream",
       "stream": "stdout",
       "text": [
        "\n",
        "61"
       ]
      },
      {
       "output_type": "stream",
       "stream": "stdout",
       "text": [
        "\n",
        "45135"
       ]
      },
      {
       "output_type": "stream",
       "stream": "stdout",
       "text": [
        " 180892 61 1000000000.0\n",
        "val=0.1338\n",
        "\n",
        "app=Instagram(45135), keyword=+\"\uc18c\uc15c\ucee4\uba38\uc2a4\"(180892), both=Instagram++\"\uc18c\uc15c\ucee4\uba38\uc2a4\"(61), pmi=-0.873\n",
        "\n",
        "45135"
       ]
      },
      {
       "output_type": "stream",
       "stream": "stdout",
       "text": [
        "\n",
        "1042592"
       ]
      },
      {
       "output_type": "stream",
       "stream": "stdout",
       "text": [
        "\n",
        "4097"
       ]
      },
      {
       "output_type": "stream",
       "stream": "stdout",
       "text": [
        "\n",
        "45135"
       ]
      },
      {
       "output_type": "stream",
       "stream": "stdout",
       "text": [
        " 1042592 4097 1000000000.0\n",
        "val=0.0115\n",
        "\n",
        "app=Instagram(45135), keyword=+\"\uc18c\uc15c\"(1042592), both=Instagram++\"\uc18c\uc15c\"(4097), pmi=-1.940\n"
       ]
      },
      {
       "output_type": "stream",
       "stream": "stdout",
       "text": [
        "\n",
        "45135"
       ]
      },
      {
       "output_type": "stream",
       "stream": "stdout",
       "text": [
        "\n",
        "except 0"
       ]
      },
      {
       "output_type": "stream",
       "stream": "stdout",
       "text": [
        "\n",
        "124"
       ]
      },
      {
       "output_type": "stream",
       "stream": "stdout",
       "text": [
        "\n",
        "45135"
       ]
      },
      {
       "output_type": "stream",
       "stream": "stdout",
       "text": [
        " 0 124 1000000000.0\n",
        "val=0.0000\n",
        "\n",
        "app=Instagram(45135), keyword=+\"\uc131\uc778\"(0), both=Instagram++\"\uc131\uc778\"(124), pmi=0.000\n"
       ]
      },
      {
       "output_type": "stream",
       "stream": "stdout",
       "text": [
        "\n",
        "45135"
       ]
      },
      {
       "output_type": "stream",
       "stream": "stdout",
       "text": [
        "\n",
        "except 0"
       ]
      },
      {
       "output_type": "stream",
       "stream": "stdout",
       "text": [
        "\n",
        "except 0"
       ]
      },
      {
       "output_type": "stream",
       "stream": "stdout",
       "text": [
        "\n",
        "45135"
       ]
      },
      {
       "output_type": "stream",
       "stream": "stdout",
       "text": [
        " 0 0 1000000000.0\n",
        "val=0.0000\n",
        "\n",
        "app=Instagram(45135), keyword=+\"sex\"(0), both=Instagram++\"sex\"(0), pmi=0.000\n",
        "\n",
        "45135"
       ]
      },
      {
       "output_type": "stream",
       "stream": "stdout",
       "text": [
        "\n",
        "3358537"
       ]
      },
      {
       "output_type": "stream",
       "stream": "stdout",
       "text": [
        "\n",
        "229"
       ]
      },
      {
       "output_type": "stream",
       "stream": "stdout",
       "text": [
        "\n",
        "45135"
       ]
      },
      {
       "output_type": "stream",
       "stream": "stdout",
       "text": [
        " 3358537 229 1000000000.0\n",
        "val=0.6620\n",
        "\n",
        "app=Instagram(45135), keyword=+\"\uc5b4\ub978\"(3358537), both=Instagram++\"\uc5b4\ub978\"(229), pmi=-0.179\n",
        "\n",
        "45135"
       ]
      },
      {
       "output_type": "stream",
       "stream": "stdout",
       "text": [
        "\n",
        "except 0"
       ]
      },
      {
       "output_type": "stream",
       "stream": "stdout",
       "text": [
        "\n",
        "except 0"
       ]
      },
      {
       "output_type": "stream",
       "stream": "stdout",
       "text": [
        "\n",
        "45135"
       ]
      },
      {
       "output_type": "stream",
       "stream": "stdout",
       "text": [
        " 0 0 1000000000.0\n",
        "val=0.0000\n",
        "\n",
        "app=Instagram(45135), keyword=+\"\uc139\uc2a4\"(0), both=Instagram++\"\uc139\uc2a4\"(0), pmi=0.000\n",
        "\n"
       ]
      },
      {
       "output_type": "stream",
       "stream": "stdout",
       "text": [
        "\r",
        "app Dolphin Browser start\n",
        "614"
       ]
      },
      {
       "output_type": "stream",
       "stream": "stdout",
       "text": [
        "\n",
        "except 0"
       ]
      },
      {
       "output_type": "stream",
       "stream": "stdout",
       "text": [
        "\n",
        "614"
       ]
      },
      {
       "output_type": "stream",
       "stream": "stdout",
       "text": [
        "\n",
        "614"
       ]
      },
      {
       "output_type": "stream",
       "stream": "stdout",
       "text": [
        " 0 614 1000000000.0\n",
        "val=0.0000\n",
        "\n",
        "app=Dolphin Browser(614), keyword=(0), both=Dolphin Browser+(614), pmi=0.000\n"
       ]
      },
      {
       "output_type": "stream",
       "stream": "stdout",
       "text": [
        "\n",
        "614"
       ]
      },
      {
       "output_type": "stream",
       "stream": "stdout",
       "text": [
        "\n",
        "444202"
       ]
      },
      {
       "output_type": "stream",
       "stream": "stdout",
       "text": [
        "\n",
        "12"
       ]
      },
      {
       "output_type": "stream",
       "stream": "stdout",
       "text": [
        "\n",
        "614"
       ]
      },
      {
       "output_type": "stream",
       "stream": "stdout",
       "text": [
        " 444202 12 1000000000.0\n",
        "val=0.0227\n",
        "\n",
        "app=Dolphin Browser(614), keyword=+\"\ufeff\ud37c\uc990\"(444202), both=Dolphin Browser++\"\ufeff\ud37c\uc990\"(12), pmi=-1.643\n",
        "\n",
        "614"
       ]
      },
      {
       "output_type": "stream",
       "stream": "stdout",
       "text": [
        "\n",
        "422522"
       ]
      },
      {
       "output_type": "stream",
       "stream": "stdout",
       "text": [
        "\n",
        "except 0"
       ]
      },
      {
       "output_type": "stream",
       "stream": "stdout",
       "text": [
        "\n",
        "614"
       ]
      },
      {
       "output_type": "stream",
       "stream": "stdout",
       "text": [
        " 422522 0 1000000000.0\n",
        "val=259428508.0000\n",
        "\n",
        "app=Dolphin Browser(614), keyword=+\"\uce90\uc8fc\uc5bc\"(422522), both=Dolphin Browser++\"\uce90\uc8fc\uc5bc\"(0), pmi=8.414\n",
        "\n",
        "614"
       ]
      },
      {
       "output_type": "stream",
       "stream": "stdout",
       "text": [
        "\n",
        "115393"
       ]
      },
      {
       "output_type": "stream",
       "stream": "stdout",
       "text": [
        "\n",
        "6"
       ]
      },
      {
       "output_type": "stream",
       "stream": "stdout",
       "text": [
        "\n",
        "614"
       ]
      },
      {
       "output_type": "stream",
       "stream": "stdout",
       "text": [
        " 115393 6 1000000000.0\n",
        "val=0.0118\n",
        "\n",
        "app=Dolphin Browser(614), keyword=+\"\uc544\ucf00\uc774\ub4dc\"(115393), both=Dolphin Browser++\"\uc544\ucf00\uc774\ub4dc\"(6), pmi=-1.928\n"
       ]
      },
      {
       "output_type": "stream",
       "stream": "stdout",
       "text": [
        "\n",
        "614"
       ]
      },
      {
       "output_type": "stream",
       "stream": "stdout",
       "text": [
        "\n",
        "6861712"
       ]
      },
      {
       "output_type": "stream",
       "stream": "stdout",
       "text": [
        "\n",
        "7"
       ]
      },
      {
       "output_type": "stream",
       "stream": "stdout",
       "text": [
        "\n",
        "614"
       ]
      },
      {
       "output_type": "stream",
       "stream": "stdout",
       "text": [
        " 6861712 7 1000000000.0\n",
        "val=0.6019\n",
        "\n",
        "app=Dolphin Browser(614), keyword=+\"\uc5ec\uc131\"(6861712), both=Dolphin Browser++\"\uc5ec\uc131\"(7), pmi=-0.220\n",
        "\n",
        "614"
       ]
      },
      {
       "output_type": "stream",
       "stream": "stdout",
       "text": [
        "\n",
        "2386979"
       ]
      },
      {
       "output_type": "stream",
       "stream": "stdout",
       "text": [
        "\n",
        "7"
       ]
      },
      {
       "output_type": "stream",
       "stream": "stdout",
       "text": [
        "\n",
        "614"
       ]
      },
      {
       "output_type": "stream",
       "stream": "stdout",
       "text": [
        " 2386979 7 1000000000.0\n",
        "val=0.2094\n",
        "\n",
        "app=Dolphin Browser(614), keyword=+\"\ub0a8\uc131\"(2386979), both=Dolphin Browser++\"\ub0a8\uc131\"(7), pmi=-0.679\n"
       ]
      },
      {
       "output_type": "stream",
       "stream": "stdout",
       "text": [
        "\n",
        "614"
       ]
      },
      {
       "output_type": "stream",
       "stream": "stdout",
       "text": [
        "\n",
        "19817920"
       ]
      },
      {
       "output_type": "stream",
       "stream": "stdout",
       "text": [
        "\n",
        "37"
       ]
      },
      {
       "output_type": "stream",
       "stream": "stdout",
       "text": [
        "\n",
        "614"
       ]
      },
      {
       "output_type": "stream",
       "stream": "stdout",
       "text": [
        " 19817920 37 1000000000.0\n",
        "val=0.3289\n",
        "\n",
        "app=Dolphin Browser(614), keyword=+\"\uce5c\uad6c\"(19817920), both=Dolphin Browser++\"\uce5c\uad6c\"(37), pmi=-0.483\n",
        "\n",
        "614"
       ]
      },
      {
       "output_type": "stream",
       "stream": "stdout",
       "text": [
        "\n",
        "1498604"
       ]
      },
      {
       "output_type": "stream",
       "stream": "stdout",
       "text": [
        "\n",
        "6"
       ]
      },
      {
       "output_type": "stream",
       "stream": "stdout",
       "text": [
        "\n",
        "614"
       ]
      },
      {
       "output_type": "stream",
       "stream": "stdout",
       "text": [
        " 1498604 6 1000000000.0\n",
        "val=0.1534\n",
        "\n",
        "app=Dolphin Browser(614), keyword=+\"\uc5f0\uc560\"(1498604), both=Dolphin Browser++\"\uc5f0\uc560\"(6), pmi=-0.814\n",
        "\n",
        "614"
       ]
      },
      {
       "output_type": "stream",
       "stream": "stdout",
       "text": [
        "\n",
        "496304"
       ]
      },
      {
       "output_type": "stream",
       "stream": "stdout",
       "text": [
        "\n",
        "3"
       ]
      },
      {
       "output_type": "stream",
       "stream": "stdout",
       "text": [
        "\n",
        "614"
       ]
      },
      {
       "output_type": "stream",
       "stream": "stdout",
       "text": [
        " 496304 3 1000000000.0\n",
        "val=0.1016\n",
        "\n",
        "app=Dolphin Browser(614), keyword=+\"\uc5f0\uc608\"(496304), both=Dolphin Browser++\"\uc5f0\uc608\"(3), pmi=-0.993\n",
        "\n",
        "614"
       ]
      },
      {
       "output_type": "stream",
       "stream": "stdout",
       "text": [
        "\n",
        "13161729"
       ]
      },
      {
       "output_type": "stream",
       "stream": "stdout",
       "text": [
        "\n",
        "11"
       ]
      },
      {
       "output_type": "stream",
       "stream": "stdout",
       "text": [
        "\n",
        "614"
       ]
      },
      {
       "output_type": "stream",
       "stream": "stdout",
       "text": [
        " 13161729 11 1000000000.0\n",
        "val=0.7347\n",
        "\n",
        "app=Dolphin Browser(614), keyword=+\"\uc5bc\uad74\"(13161729), both=Dolphin Browser++\"\uc5bc\uad74\"(11), pmi=-0.134\n",
        "\n",
        "614"
       ]
      },
      {
       "output_type": "stream",
       "stream": "stdout",
       "text": [
        "\n",
        "3843427"
       ]
      },
      {
       "output_type": "stream",
       "stream": "stdout",
       "text": [
        "\n",
        "128"
       ]
      },
      {
       "output_type": "stream",
       "stream": "stdout",
       "text": [
        "\n",
        "614"
       ]
      },
      {
       "output_type": "stream",
       "stream": "stdout",
       "text": [
        " 3843427 128 1000000000.0\n",
        "val=0.0184\n",
        "\n",
        "app=Dolphin Browser(614), keyword=+\"\uc18d\ub3c4\"(3843427), both=Dolphin Browser++\"\uc18d\ub3c4\"(128), pmi=-1.734\n",
        "\n",
        "614"
       ]
      },
      {
       "output_type": "stream",
       "stream": "stdout",
       "text": [
        "\n",
        "11917350"
       ]
      },
      {
       "output_type": "stream",
       "stream": "stdout",
       "text": [
        "\n",
        "22"
       ]
      },
      {
       "output_type": "stream",
       "stream": "stdout",
       "text": [
        "\n",
        "614"
       ]
      },
      {
       "output_type": "stream",
       "stream": "stdout",
       "text": [
        " 11917350 22 1000000000.0\n",
        "val=0.3326\n",
        "\n",
        "app=Dolphin Browser(614), keyword=+\"\ub3c8\"(11917350), both=Dolphin Browser++\"\ub3c8\"(22), pmi=-0.478\n",
        "\n",
        "614"
       ]
      },
      {
       "output_type": "stream",
       "stream": "stdout",
       "text": [
        "\n",
        "490509"
       ]
      },
      {
       "output_type": "stream",
       "stream": "stdout",
       "text": [
        "\n",
        "4"
       ]
      },
      {
       "output_type": "stream",
       "stream": "stdout",
       "text": [
        "\n",
        "614"
       ]
      },
      {
       "output_type": "stream",
       "stream": "stdout",
       "text": [
        " 490509 4 1000000000.0\n",
        "val=0.0753\n",
        "\n",
        "app=Dolphin Browser(614), keyword=+\"\ub79c\ub364\"(490509), both=Dolphin Browser++\"\ub79c\ub364\"(4), pmi=-1.123\n",
        "\n",
        "614"
       ]
      },
      {
       "output_type": "stream",
       "stream": "stdout",
       "text": [
        "\n",
        "108961"
       ]
      },
      {
       "output_type": "stream",
       "stream": "stdout",
       "text": [
        "\n",
        "21"
       ]
      },
      {
       "output_type": "stream",
       "stream": "stdout",
       "text": [
        "\n",
        "614"
       ]
      },
      {
       "output_type": "stream",
       "stream": "stdout",
       "text": [
        " 108961 21 1000000000.0\n",
        "val=0.0032\n",
        "\n",
        "app=Dolphin Browser(614), keyword=+\"random\"(108961), both=Dolphin Browser++\"random\"(21), pmi=-2.497\n",
        "\n",
        "614"
       ]
      },
      {
       "output_type": "stream",
       "stream": "stdout",
       "text": [
        "\n",
        "8506912"
       ]
      },
      {
       "output_type": "stream",
       "stream": "stdout",
       "text": [
        "\n",
        "8"
       ]
      },
      {
       "output_type": "stream",
       "stream": "stdout",
       "text": [
        "\n",
        "614"
       ]
      },
      {
       "output_type": "stream",
       "stream": "stdout",
       "text": [
        " 8506912 8 1000000000.0\n",
        "val=0.6529\n",
        "\n",
        "app=Dolphin Browser(614), keyword=+\"\uc74c\uc2dd\"(8506912), both=Dolphin Browser++\"\uc74c\uc2dd\"(8), pmi=-0.185\n",
        "\n",
        "614"
       ]
      },
      {
       "output_type": "stream",
       "stream": "stdout",
       "text": [
        "\n",
        "17687302"
       ]
      },
      {
       "output_type": "stream",
       "stream": "stdout",
       "text": [
        "\n",
        "123"
       ]
      },
      {
       "output_type": "stream",
       "stream": "stdout",
       "text": [
        "\n",
        "614"
       ]
      },
      {
       "output_type": "stream",
       "stream": "stdout",
       "text": [
        " 17687302 123 1000000000.0\n",
        "val=0.0883\n",
        "\n",
        "app=Dolphin Browser(614), keyword=+\"\ubc29\ubc95\"(17687302), both=Dolphin Browser++\"\ubc29\ubc95\"(123), pmi=-1.054\n",
        "\n",
        "614"
       ]
      },
      {
       "output_type": "stream",
       "stream": "stdout",
       "text": [
        "\n",
        "588223"
       ]
      },
      {
       "output_type": "stream",
       "stream": "stdout",
       "text": [
        "\n",
        "244"
       ]
      },
      {
       "output_type": "stream",
       "stream": "stdout",
       "text": [
        "\n",
        "614"
       ]
      },
      {
       "output_type": "stream",
       "stream": "stdout",
       "text": [
        " 588223 244 1000000000.0\n",
        "val=0.0015\n",
        "\n",
        "app=Dolphin Browser(614), keyword=+\"\uc548\ub4dc\ub85c\uc774\ub4dc\"(588223), both=Dolphin Browser++\"\uc548\ub4dc\ub85c\uc774\ub4dc\"(244), pmi=-2.830\n"
       ]
      },
      {
       "output_type": "stream",
       "stream": "stdout",
       "text": [
        "\n",
        "614"
       ]
      },
      {
       "output_type": "stream",
       "stream": "stdout",
       "text": [
        "\n",
        "771048"
       ]
      },
      {
       "output_type": "stream",
       "stream": "stdout",
       "text": [
        "\n",
        "63"
       ]
      },
      {
       "output_type": "stream",
       "stream": "stdout",
       "text": [
        "\n",
        "614"
       ]
      },
      {
       "output_type": "stream",
       "stream": "stdout",
       "text": [
        " 771048 63 1000000000.0\n",
        "val=0.0075\n",
        "\n",
        "app=Dolphin Browser(614), keyword=+\"\uc544\uc774\ud3f0\"(771048), both=Dolphin Browser++\"\uc544\uc774\ud3f0\"(63), pmi=-2.124\n",
        "\n",
        "614"
       ]
      },
      {
       "output_type": "stream",
       "stream": "stdout",
       "text": [
        "\n",
        "223015"
       ]
      },
      {
       "output_type": "stream",
       "stream": "stdout",
       "text": [
        "\n",
        "272"
       ]
      },
      {
       "output_type": "stream",
       "stream": "stdout",
       "text": [
        "\n",
        "614"
       ]
      },
      {
       "output_type": "stream",
       "stream": "stdout",
       "text": [
        " 223015 272 1000000000.0\n",
        "val=0.0005\n",
        "\n",
        "app=Dolphin Browser(614), keyword=+\"android\"(223015), both=Dolphin Browser++\"android\"(272), pmi=-3.298\n",
        "\n",
        "614"
       ]
      },
      {
       "output_type": "stream",
       "stream": "stdout",
       "text": [
        "\n",
        "448851"
       ]
      },
      {
       "output_type": "stream",
       "stream": "stdout",
       "text": [
        "\n",
        "112"
       ]
      },
      {
       "output_type": "stream",
       "stream": "stdout",
       "text": [
        "\n",
        "614"
       ]
      },
      {
       "output_type": "stream",
       "stream": "stdout",
       "text": [
        " 448851 112 1000000000.0\n",
        "val=0.0025\n",
        "\n",
        "app=Dolphin Browser(614), keyword=+\"iphone\"(448851), both=Dolphin Browser++\"iphone\"(112), pmi=-2.609\n",
        "\n",
        "614"
       ]
      },
      {
       "output_type": "stream",
       "stream": "stdout",
       "text": [
        "\n",
        "348219"
       ]
      },
      {
       "output_type": "stream",
       "stream": "stdout",
       "text": [
        "\n",
        "2"
       ]
      },
      {
       "output_type": "stream",
       "stream": "stdout",
       "text": [
        "\n",
        "614"
       ]
      },
      {
       "output_type": "stream",
       "stream": "stdout",
       "text": [
        " 348219 2 1000000000.0\n",
        "val=0.1069\n",
        "\n",
        "app=Dolphin Browser(614), keyword=+\"\uc624\ub77d\"(348219), both=Dolphin Browser++\"\uc624\ub77d\"(2), pmi=-0.971\n",
        "\n",
        "614"
       ]
      },
      {
       "output_type": "stream",
       "stream": "stdout",
       "text": [
        "\n",
        "1396585"
       ]
      },
      {
       "output_type": "stream",
       "stream": "stdout",
       "text": [
        "\n",
        "7"
       ]
      },
      {
       "output_type": "stream",
       "stream": "stdout",
       "text": [
        "\n",
        "614"
       ]
      },
      {
       "output_type": "stream",
       "stream": "stdout",
       "text": [
        " 1396585 7 1000000000.0\n",
        "val=0.1225\n",
        "\n",
        "app=Dolphin Browser(614), keyword=+\"\uc2ec\ub9ac\"(1396585), both=Dolphin Browser++\"\uc2ec\ub9ac\"(7), pmi=-0.912\n",
        "\n",
        "614"
       ]
      },
      {
       "output_type": "stream",
       "stream": "stdout",
       "text": [
        "\n",
        "1568726"
       ]
      },
      {
       "output_type": "stream",
       "stream": "stdout",
       "text": [
        "\n",
        "3"
       ]
      },
      {
       "output_type": "stream",
       "stream": "stdout",
       "text": [
        "\n",
        "614"
       ]
      },
      {
       "output_type": "stream",
       "stream": "stdout",
       "text": [
        " 1568726 3 1000000000.0\n",
        "val=0.3211\n",
        "\n",
        "app=Dolphin Browser(614), keyword=+\"\ubd80\uc790\"(1568726), both=Dolphin Browser++\"\ubd80\uc790\"(3), pmi=-0.493\n",
        "\n",
        "614"
       ]
      },
      {
       "output_type": "stream",
       "stream": "stdout",
       "text": [
        "\n",
        "5402120"
       ]
      },
      {
       "output_type": "stream",
       "stream": "stdout",
       "text": [
        "\n",
        "55"
       ]
      },
      {
       "output_type": "stream",
       "stream": "stdout",
       "text": [
        "\n",
        "614"
       ]
      },
      {
       "output_type": "stream",
       "stream": "stdout",
       "text": [
        " 5402120 55 1000000000.0\n",
        "val=0.0603\n",
        "\n",
        "app=Dolphin Browser(614), keyword=+\"\uc601\uc5b4\"(5402120), both=Dolphin Browser++\"\uc601\uc5b4\"(55), pmi=-1.220\n",
        "\n",
        "614"
       ]
      },
      {
       "output_type": "stream",
       "stream": "stdout",
       "text": [
        "\n",
        "483197"
       ]
      },
      {
       "output_type": "stream",
       "stream": "stdout",
       "text": [
        "\n",
        "2"
       ]
      },
      {
       "output_type": "stream",
       "stream": "stdout",
       "text": [
        "\n",
        "614"
       ]
      },
      {
       "output_type": "stream",
       "stream": "stdout",
       "text": [
        " 483197 2 1000000000.0\n",
        "val=0.1483\n",
        "\n",
        "app=Dolphin Browser(614), keyword=+\"\ud1a0\uc775\"(483197), both=Dolphin Browser++\"\ud1a0\uc775\"(2), pmi=-0.829\n",
        "\n",
        "614"
       ]
      },
      {
       "output_type": "stream",
       "stream": "stdout",
       "text": [
        "\n",
        "8530676"
       ]
      },
      {
       "output_type": "stream",
       "stream": "stdout",
       "text": [
        "\n",
        "29"
       ]
      },
      {
       "output_type": "stream",
       "stream": "stdout",
       "text": [
        "\n",
        "614"
       ]
      },
      {
       "output_type": "stream",
       "stream": "stdout",
       "text": [
        " 8530676 29 1000000000.0\n",
        "val=0.1806\n",
        "\n",
        "app=Dolphin Browser(614), keyword=+\"\uacf5\ubd80\"(8530676), both=Dolphin Browser++\"\uacf5\ubd80\"(29), pmi=-0.743\n"
       ]
      },
      {
       "output_type": "stream",
       "stream": "stdout",
       "text": [
        "\n",
        "614"
       ]
      },
      {
       "output_type": "stream",
       "stream": "stdout",
       "text": [
        "\n",
        "5445701"
       ]
      },
      {
       "output_type": "stream",
       "stream": "stdout",
       "text": [
        "\n",
        "33"
       ]
      },
      {
       "output_type": "stream",
       "stream": "stdout",
       "text": [
        "\n",
        "614"
       ]
      },
      {
       "output_type": "stream",
       "stream": "stdout",
       "text": [
        " 5445701 33 1000000000.0\n",
        "val=0.1013\n",
        "\n",
        "app=Dolphin Browser(614), keyword=+\"\uc77c\uc815\"(5445701), both=Dolphin Browser++\"\uc77c\uc815\"(33), pmi=-0.994\n",
        "\n",
        "614"
       ]
      },
      {
       "output_type": "stream",
       "stream": "stdout",
       "text": [
        "\n",
        "580894"
       ]
      },
      {
       "output_type": "stream",
       "stream": "stdout",
       "text": [
        "\n",
        "15"
       ]
      },
      {
       "output_type": "stream",
       "stream": "stdout",
       "text": [
        "\n",
        "614"
       ]
      },
      {
       "output_type": "stream",
       "stream": "stdout",
       "text": [
        " 580894 15 1000000000.0\n",
        "val=0.0238\n",
        "\n",
        "app=Dolphin Browser(614), keyword=+\"\ub2ec\ub825\"(580894), both=Dolphin Browser++\"\ub2ec\ub825\"(15), pmi=-1.624\n"
       ]
      },
      {
       "output_type": "stream",
       "stream": "stdout",
       "text": [
        "\n",
        "614"
       ]
      },
      {
       "output_type": "stream",
       "stream": "stdout",
       "text": [
        "\n",
        "8137729"
       ]
      },
      {
       "output_type": "stream",
       "stream": "stdout",
       "text": [
        "\n",
        "14"
       ]
      },
      {
       "output_type": "stream",
       "stream": "stdout",
       "text": [
        "\n",
        "614"
       ]
      },
      {
       "output_type": "stream",
       "stream": "stdout",
       "text": [
        " 8137729 14 1000000000.0\n",
        "val=0.3569\n",
        "\n",
        "app=Dolphin Browser(614), keyword=+\"\uacc4\ud68d\"(8137729), both=Dolphin Browser++\"\uacc4\ud68d\"(14), pmi=-0.447\n",
        "\n",
        "614"
       ]
      },
      {
       "output_type": "stream",
       "stream": "stdout",
       "text": [
        "\n",
        "1109605"
       ]
      },
      {
       "output_type": "stream",
       "stream": "stdout",
       "text": [
        "\n",
        "5"
       ]
      },
      {
       "output_type": "stream",
       "stream": "stdout",
       "text": [
        "\n",
        "614"
       ]
      },
      {
       "output_type": "stream",
       "stream": "stdout",
       "text": [
        " 1109605 5 1000000000.0\n",
        "val=0.1363\n",
        "\n",
        "app=Dolphin Browser(614), keyword=+\"\uacf5\ub7b5\"(1109605), both=Dolphin Browser++\"\uacf5\ub7b5\"(5), pmi=-0.866\n",
        "\n",
        "614"
       ]
      },
      {
       "output_type": "stream",
       "stream": "stdout",
       "text": [
        "\n",
        "358302"
       ]
      },
      {
       "output_type": "stream",
       "stream": "stdout",
       "text": [
        "\n",
        "4"
       ]
      },
      {
       "output_type": "stream",
       "stream": "stdout",
       "text": [
        "\n",
        "614"
       ]
      },
      {
       "output_type": "stream",
       "stream": "stdout",
       "text": [
        " 358302 4 1000000000.0\n",
        "val=0.0550\n",
        "\n",
        "app=Dolphin Browser(614), keyword=+\"\ub808\uc774\uc2f1\"(358302), both=Dolphin Browser++\"\ub808\uc774\uc2f1\"(4), pmi=-1.260\n",
        "\n",
        "614"
       ]
      },
      {
       "output_type": "stream",
       "stream": "stdout",
       "text": [
        "\n",
        "209268"
       ]
      },
      {
       "output_type": "stream",
       "stream": "stdout",
       "text": [
        "\n",
        "10"
       ]
      },
      {
       "output_type": "stream",
       "stream": "stdout",
       "text": [
        "\n",
        "614"
       ]
      },
      {
       "output_type": "stream",
       "stream": "stdout",
       "text": [
        " 209268 10 1000000000.0\n",
        "val=0.0128\n",
        "\n",
        "app=Dolphin Browser(614), keyword=+\"RPG\"(209268), both=Dolphin Browser++\"RPG\"(10), pmi=-1.891\n"
       ]
      },
      {
       "output_type": "stream",
       "stream": "stdout",
       "text": [
        "\n",
        "614"
       ]
      },
      {
       "output_type": "stream",
       "stream": "stdout",
       "text": [
        "\n",
        "5037695"
       ]
      },
      {
       "output_type": "stream",
       "stream": "stdout",
       "text": [
        "\n",
        "61"
       ]
      },
      {
       "output_type": "stream",
       "stream": "stdout",
       "text": [
        "\n",
        "614"
       ]
      },
      {
       "output_type": "stream",
       "stream": "stdout",
       "text": [
        " 5037695 61 1000000000.0\n",
        "val=0.0507\n",
        "\n",
        "app=Dolphin Browser(614), keyword=+\"\uce74\ub4dc\"(5037695), both=Dolphin Browser++\"\uce74\ub4dc\"(61), pmi=-1.295\n",
        "\n",
        "614"
       ]
      },
      {
       "output_type": "stream",
       "stream": "stdout",
       "text": [
        "\n",
        "100548"
       ]
      },
      {
       "output_type": "stream",
       "stream": "stdout",
       "text": [
        "\n",
        "4"
       ]
      },
      {
       "output_type": "stream",
       "stream": "stdout",
       "text": [
        "\n",
        "614"
       ]
      },
      {
       "output_type": "stream",
       "stream": "stdout",
       "text": [
        " 100548 4 1000000000.0\n",
        "val=0.0154\n",
        "\n",
        "app=Dolphin Browser(614), keyword=+\"\ub514\ud39c\uc2a4\"(100548), both=Dolphin Browser++\"\ub514\ud39c\uc2a4\"(4), pmi=-1.812\n",
        "\n",
        "614"
       ]
      },
      {
       "output_type": "stream",
       "stream": "stdout",
       "text": [
        "\n",
        "547803"
       ]
      },
      {
       "output_type": "stream",
       "stream": "stdout",
       "text": [
        "\n",
        "3"
       ]
      },
      {
       "output_type": "stream",
       "stream": "stdout",
       "text": [
        "\n",
        "614"
       ]
      },
      {
       "output_type": "stream",
       "stream": "stdout",
       "text": [
        " 547803 3 1000000000.0\n",
        "val=0.1121\n",
        "\n",
        "app=Dolphin Browser(614), keyword=+\"\ub450\ub1cc\"(547803), both=Dolphin Browser++\"\ub450\ub1cc\"(3), pmi=-0.950\n",
        "\n",
        "614"
       ]
      },
      {
       "output_type": "stream",
       "stream": "stdout",
       "text": [
        "\n",
        "23082"
       ]
      },
      {
       "output_type": "stream",
       "stream": "stdout",
       "text": [
        "\n",
        "except 0"
       ]
      },
      {
       "output_type": "stream",
       "stream": "stdout",
       "text": [
        "\n",
        "614"
       ]
      },
      {
       "output_type": "stream",
       "stream": "stdout",
       "text": [
        " 23082 0 1000000000.0\n",
        "val=14172348.0000\n",
        "\n",
        "app=Dolphin Browser(614), keyword=+\"\uc2dc\ubbac\"(23082), both=Dolphin Browser++\"\uc2dc\ubbac\"(0), pmi=7.151\n",
        "\n",
        "614"
       ]
      },
      {
       "output_type": "stream",
       "stream": "stdout",
       "text": [
        "\n",
        "642018"
       ]
      },
      {
       "output_type": "stream",
       "stream": "stdout",
       "text": [
        "\n",
        "4"
       ]
      },
      {
       "output_type": "stream",
       "stream": "stdout",
       "text": [
        "\n",
        "614"
       ]
      },
      {
       "output_type": "stream",
       "stream": "stdout",
       "text": [
        " 642018 4 1000000000.0\n",
        "val=0.0985\n",
        "\n",
        "app=Dolphin Browser(614), keyword=+\"\ub2ec\ub9ac\uae30\"(642018), both=Dolphin Browser++\"\ub2ec\ub9ac\uae30\"(4), pmi=-1.006\n",
        "\n",
        "614"
       ]
      },
      {
       "output_type": "stream",
       "stream": "stdout",
       "text": [
        "\n",
        "230539"
       ]
      },
      {
       "output_type": "stream",
       "stream": "stdout",
       "text": [
        "\n",
        "2"
       ]
      },
      {
       "output_type": "stream",
       "stream": "stdout",
       "text": [
        "\n",
        "614"
       ]
      },
      {
       "output_type": "stream",
       "stream": "stdout",
       "text": [
        " 230539 2 1000000000.0\n",
        "val=0.0708\n",
        "\n",
        "app=Dolphin Browser(614), keyword=+\"\uc288\ud305\"(230539), both=Dolphin Browser++\"\uc288\ud305\"(2), pmi=-1.150\n",
        "\n",
        "614"
       ]
      },
      {
       "output_type": "stream",
       "stream": "stdout",
       "text": [
        "\n",
        "1745804"
       ]
      },
      {
       "output_type": "stream",
       "stream": "stdout",
       "text": [
        "\n",
        "8"
       ]
      },
      {
       "output_type": "stream",
       "stream": "stdout",
       "text": [
        "\n",
        "614"
       ]
      },
      {
       "output_type": "stream",
       "stream": "stdout",
       "text": [
        " 1745804 8 1000000000.0\n",
        "val=0.1340\n",
        "\n",
        "app=Dolphin Browser(614), keyword=+\"\ucd95\uad6c\"(1745804), both=Dolphin Browser++\"\ucd95\uad6c\"(8), pmi=-0.873\n",
        "\n",
        "614"
       ]
      },
      {
       "output_type": "stream",
       "stream": "stdout",
       "text": [
        "\n",
        "1831243"
       ]
      },
      {
       "output_type": "stream",
       "stream": "stdout",
       "text": [
        "\n",
        "7"
       ]
      },
      {
       "output_type": "stream",
       "stream": "stdout",
       "text": [
        "\n",
        "614"
       ]
      },
      {
       "output_type": "stream",
       "stream": "stdout",
       "text": [
        " 1831243 7 1000000000.0\n",
        "val=0.1606\n",
        "\n",
        "app=Dolphin Browser(614), keyword=+\"\uacbd\uc601\"(1831243), both=Dolphin Browser++\"\uacbd\uc601\"(7), pmi=-0.794\n",
        "\n",
        "614"
       ]
      },
      {
       "output_type": "stream",
       "stream": "stdout",
       "text": [
        "\n",
        "32917"
       ]
      },
      {
       "output_type": "stream",
       "stream": "stdout",
       "text": [
        "\n",
        "except 0"
       ]
      },
      {
       "output_type": "stream",
       "stream": "stdout",
       "text": [
        "\n",
        "614"
       ]
      },
      {
       "output_type": "stream",
       "stream": "stdout",
       "text": [
        " 32917 0 1000000000.0\n",
        "val=20211038.0000\n",
        "\n",
        "app=Dolphin Browser(614), keyword=+\"\ud0c0\uc774\ucfe4\"(32917), both=Dolphin Browser++\"\ud0c0\uc774\ucfe4\"(0), pmi=7.306\n",
        "\n",
        "614"
       ]
      },
      {
       "output_type": "stream",
       "stream": "stdout",
       "text": [
        "\n",
        "1170300"
       ]
      },
      {
       "output_type": "stream",
       "stream": "stdout",
       "text": [
        "\n",
        "3"
       ]
      },
      {
       "output_type": "stream",
       "stream": "stdout",
       "text": [
        "\n",
        "614"
       ]
      },
      {
       "output_type": "stream",
       "stream": "stdout",
       "text": [
        " 1170300 3 1000000000.0\n",
        "val=0.2395\n",
        "\n",
        "app=Dolphin Browser(614), keyword=+\"\ud0c8\ucd9c\"(1170300), both=Dolphin Browser++\"\ud0c8\ucd9c\"(3), pmi=-0.621\n",
        "\n",
        "614"
       ]
      },
      {
       "output_type": "stream",
       "stream": "stdout",
       "text": [
        "\n",
        "391505"
       ]
      },
      {
       "output_type": "stream",
       "stream": "stdout",
       "text": [
        "\n",
        "2"
       ]
      },
      {
       "output_type": "stream",
       "stream": "stdout",
       "text": [
        "\n",
        "614"
       ]
      },
      {
       "output_type": "stream",
       "stream": "stdout",
       "text": [
        " 391505 2 1000000000.0\n",
        "val=0.1202\n",
        "\n",
        "app=Dolphin Browser(614), keyword=+\"\ucd94\ub9ac\"(391505), both=Dolphin Browser++\"\ucd94\ub9ac\"(2), pmi=-0.920\n",
        "\n",
        "614"
       ]
      },
      {
       "output_type": "stream",
       "stream": "stdout",
       "text": [
        "\n",
        "1488636"
       ]
      },
      {
       "output_type": "stream",
       "stream": "stdout",
       "text": [
        "\n",
        "3"
       ]
      },
      {
       "output_type": "stream",
       "stream": "stdout",
       "text": [
        "\n",
        "614"
       ]
      },
      {
       "output_type": "stream",
       "stream": "stdout",
       "text": [
        " 1488636 3 1000000000.0\n",
        "val=0.3047\n",
        "\n",
        "app=Dolphin Browser(614), keyword=+\"\uc7a5\uae30\"(1488636), both=Dolphin Browser++\"\uc7a5\uae30\"(3), pmi=-0.516\n",
        "\n",
        "614"
       ]
      },
      {
       "output_type": "stream",
       "stream": "stdout",
       "text": [
        "\n",
        "1958839"
       ]
      },
      {
       "output_type": "stream",
       "stream": "stdout",
       "text": [
        "\n",
        "8"
       ]
      },
      {
       "output_type": "stream",
       "stream": "stdout",
       "text": [
        "\n",
        "614"
       ]
      },
      {
       "output_type": "stream",
       "stream": "stdout",
       "text": [
        " 1958839 8 1000000000.0\n",
        "val=0.1503\n",
        "\n",
        "app=Dolphin Browser(614), keyword=+\"\ube44\ud589\uae30\"(1958839), both=Dolphin Browser++\"\ube44\ud589\uae30\"(8), pmi=-0.823\n"
       ]
      },
      {
       "output_type": "stream",
       "stream": "stdout",
       "text": [
        "\n",
        "614"
       ]
      },
      {
       "output_type": "stream",
       "stream": "stdout",
       "text": [
        "\n",
        "33753"
       ]
      },
      {
       "output_type": "stream",
       "stream": "stdout",
       "text": [
        "\n",
        "except 0"
       ]
      },
      {
       "output_type": "stream",
       "stream": "stdout",
       "text": [
        "\n",
        "614"
       ]
      },
      {
       "output_type": "stream",
       "stream": "stdout",
       "text": [
        " 33753 0 1000000000.0\n",
        "val=20724342.0000\n",
        "\n",
        "app=Dolphin Browser(614), keyword=+\"\uc0ac\ucc9c\uc131\"(33753), both=Dolphin Browser++\"\uc0ac\ucc9c\uc131\"(0), pmi=7.316\n",
        "\n",
        "614"
       ]
      },
      {
       "output_type": "stream",
       "stream": "stdout",
       "text": [
        "\n",
        "2493635"
       ]
      },
      {
       "output_type": "stream",
       "stream": "stdout",
       "text": [
        "\n",
        "10"
       ]
      },
      {
       "output_type": "stream",
       "stream": "stdout",
       "text": [
        "\n",
        "614"
       ]
      },
      {
       "output_type": "stream",
       "stream": "stdout",
       "text": [
        " 2493635 10 1000000000.0\n",
        "val=0.1531\n",
        "\n",
        "app=Dolphin Browser(614), keyword=+\"\uc2a4\ud3ec\uce20\"(2493635), both=Dolphin Browser++\"\uc2a4\ud3ec\uce20\"(10), pmi=-0.815\n",
        "\n",
        "614"
       ]
      },
      {
       "output_type": "stream",
       "stream": "stdout",
       "text": [
        "\n",
        "493887"
       ]
      },
      {
       "output_type": "stream",
       "stream": "stdout",
       "text": [
        "\n",
        "3"
       ]
      },
      {
       "output_type": "stream",
       "stream": "stdout",
       "text": [
        "\n",
        "614"
       ]
      },
      {
       "output_type": "stream",
       "stream": "stdout",
       "text": [
        " 493887 3 1000000000.0\n",
        "val=0.1011\n",
        "\n",
        "app=Dolphin Browser(614), keyword=+\"\ub18d\uad6c\"(493887), both=Dolphin Browser++\"\ub18d\uad6c\"(3), pmi=-0.995\n",
        "\n",
        "614"
       ]
      },
      {
       "output_type": "stream",
       "stream": "stdout",
       "text": [
        "\n",
        "1186104"
       ]
      },
      {
       "output_type": "stream",
       "stream": "stdout",
       "text": [
        "\n",
        "5"
       ]
      },
      {
       "output_type": "stream",
       "stream": "stdout",
       "text": [
        "\n",
        "614"
       ]
      },
      {
       "output_type": "stream",
       "stream": "stdout",
       "text": [
        " 1186104 5 1000000000.0\n",
        "val=0.1457\n",
        "\n",
        "app=Dolphin Browser(614), keyword=+\"\ub09a\uc2dc\"(1186104), both=Dolphin Browser++\"\ub09a\uc2dc\"(5), pmi=-0.837\n",
        "\n",
        "614"
       ]
      },
      {
       "output_type": "stream",
       "stream": "stdout",
       "text": [
        "\n",
        "7514040"
       ]
      },
      {
       "output_type": "stream",
       "stream": "stdout",
       "text": [
        "\n",
        "63"
       ]
      },
      {
       "output_type": "stream",
       "stream": "stdout",
       "text": [
        "\n",
        "614"
       ]
      },
      {
       "output_type": "stream",
       "stream": "stdout",
       "text": [
        " 7514040 63 1000000000.0\n",
        "val=0.0732\n",
        "\n",
        "app=Dolphin Browser(614), keyword=+\"\uc74c\uc545\"(7514040), both=Dolphin Browser++\"\uc74c\uc545\"(63), pmi=-1.135\n",
        "\n",
        "614"
       ]
      },
      {
       "output_type": "stream",
       "stream": "stdout",
       "text": [
        "\n",
        "1021089"
       ]
      },
      {
       "output_type": "stream",
       "stream": "stdout",
       "text": [
        "\n",
        "12"
       ]
      },
      {
       "output_type": "stream",
       "stream": "stdout",
       "text": [
        "\n",
        "614"
       ]
      },
      {
       "output_type": "stream",
       "stream": "stdout",
       "text": [
        " 1021089 12 1000000000.0\n",
        "val=0.0522\n",
        "\n",
        "app=Dolphin Browser(614), keyword=+\"\uce74\ud1a1\"(1021089), both=Dolphin Browser++\"\uce74\ud1a1\"(12), pmi=-1.282\n",
        "\n",
        "614"
       ]
      },
      {
       "output_type": "stream",
       "stream": "stdout",
       "text": [
        "\n",
        "1043429"
       ]
      },
      {
       "output_type": "stream",
       "stream": "stdout",
       "text": [
        "\n",
        "8"
       ]
      },
      {
       "output_type": "stream",
       "stream": "stdout",
       "text": [
        "\n",
        "614"
       ]
      },
      {
       "output_type": "stream",
       "stream": "stdout",
       "text": [
        " 1043429 8 1000000000.0\n",
        "val=0.0801\n",
        "\n",
        "app=Dolphin Browser(614), keyword=+\"\uace8\ud504\"(1043429), both=Dolphin Browser++\"\uace8\ud504\"(8), pmi=-1.096\n"
       ]
      },
      {
       "output_type": "stream",
       "stream": "stdout",
       "text": [
        "\n",
        "614"
       ]
      },
      {
       "output_type": "stream",
       "stream": "stdout",
       "text": [
        "\n",
        "121691"
       ]
      },
      {
       "output_type": "stream",
       "stream": "stdout",
       "text": [
        "\n",
        "2"
       ]
      },
      {
       "output_type": "stream",
       "stream": "stdout",
       "text": [
        "\n",
        "614"
       ]
      },
      {
       "output_type": "stream",
       "stream": "stdout",
       "text": [
        " 121691 2 1000000000.0\n",
        "val=0.0374\n",
        "\n",
        "app=Dolphin Browser(614), keyword=+\"\ub2f9\uad6c\"(121691), both=Dolphin Browser++\"\ub2f9\uad6c\"(2), pmi=-1.428\n",
        "\n",
        "614"
       ]
      },
      {
       "output_type": "stream",
       "stream": "stdout",
       "text": [
        "\n",
        "1395628"
       ]
      },
      {
       "output_type": "stream",
       "stream": "stdout",
       "text": [
        "\n",
        "13"
       ]
      },
      {
       "output_type": "stream",
       "stream": "stdout",
       "text": [
        "\n",
        "614"
       ]
      },
      {
       "output_type": "stream",
       "stream": "stdout",
       "text": [
        " 1395628 13 1000000000.0\n",
        "val=0.0659\n",
        "\n",
        "app=Dolphin Browser(614), keyword=+\"\uc57c\uad6c\"(1395628), both=Dolphin Browser++\"\uc57c\uad6c\"(13), pmi=-1.181\n",
        "\n",
        "614"
       ]
      },
      {
       "output_type": "stream",
       "stream": "stdout",
       "text": [
        "\n",
        "120180"
       ]
      },
      {
       "output_type": "stream",
       "stream": "stdout",
       "text": [
        "\n",
        "3"
       ]
      },
      {
       "output_type": "stream",
       "stream": "stdout",
       "text": [
        "\n",
        "614"
       ]
      },
      {
       "output_type": "stream",
       "stream": "stdout",
       "text": [
        " 120180 3 1000000000.0\n",
        "val=0.0246\n",
        "\n",
        "app=Dolphin Browser(614), keyword=+\"\ubcfc\ub9c1\"(120180), both=Dolphin Browser++\"\ubcfc\ub9c1\"(3), pmi=-1.609\n",
        "\n",
        "614"
       ]
      },
      {
       "output_type": "stream",
       "stream": "stdout",
       "text": [
        "\n",
        "1768"
       ]
      },
      {
       "output_type": "stream",
       "stream": "stdout",
       "text": [
        "\n",
        "except 0"
       ]
      },
      {
       "output_type": "stream",
       "stream": "stdout",
       "text": [
        "\n",
        "614"
       ]
      },
      {
       "output_type": "stream",
       "stream": "stdout",
       "text": [
        " 1768 0 1000000000.0\n",
        "val=1085552.0000\n",
        "\n",
        "app=Dolphin Browser(614), keyword=+\"\ud14c\uc774\uc2a4\"(1768), both=Dolphin Browser++\"\ud14c\uc774\uc2a4\"(0), pmi=6.036\n",
        "\n",
        "614"
       ]
      },
      {
       "output_type": "stream",
       "stream": "stdout",
       "text": [
        "\n",
        "238838"
       ]
      },
      {
       "output_type": "stream",
       "stream": "stdout",
       "text": [
        "\n",
        "3"
       ]
      },
      {
       "output_type": "stream",
       "stream": "stdout",
       "text": [
        "\n",
        "614"
       ]
      },
      {
       "output_type": "stream",
       "stream": "stdout",
       "text": [
        " 238838 3 1000000000.0\n",
        "val=0.0489\n",
        "\n",
        "app=Dolphin Browser(614), keyword=+\"\uc0bc\uad6d\uc9c0\"(238838), both=Dolphin Browser++\"\uc0bc\uad6d\uc9c0\"(3), pmi=-1.311\n",
        "\n",
        "614"
       ]
      },
      {
       "output_type": "stream",
       "stream": "stdout",
       "text": [
        "\n",
        "24214"
       ]
      },
      {
       "output_type": "stream",
       "stream": "stdout",
       "text": [
        "\n",
        "1"
       ]
      },
      {
       "output_type": "stream",
       "stream": "stdout",
       "text": [
        "\n",
        "614"
       ]
      },
      {
       "output_type": "stream",
       "stream": "stdout",
       "text": [
        " 24214 1 1000000000.0\n",
        "val=0.0149\n",
        "\n",
        "app=Dolphin Browser(614), keyword=+\"TCG\"(24214), both=Dolphin Browser++\"TCG\"(1), pmi=-1.828\n",
        "\n",
        "614"
       ]
      },
      {
       "output_type": "stream",
       "stream": "stdout",
       "text": [
        "\n",
        "3481059"
       ]
      },
      {
       "output_type": "stream",
       "stream": "stdout",
       "text": [
        "\n",
        "8"
       ]
      },
      {
       "output_type": "stream",
       "stream": "stdout",
       "text": [
        "\n",
        "614"
       ]
      },
      {
       "output_type": "stream",
       "stream": "stdout",
       "text": [
        " 3481059 8 1000000000.0\n",
        "val=0.2672\n",
        "\n",
        "app=Dolphin Browser(614), keyword=+\"\uc804\uc7c1\"(3481059), both=Dolphin Browser++\"\uc804\uc7c1\"(8), pmi=-0.573\n",
        "\n",
        "614"
       ]
      },
      {
       "output_type": "stream",
       "stream": "stdout",
       "text": [
        "\n",
        "9385348"
       ]
      },
      {
       "output_type": "stream",
       "stream": "stdout",
       "text": [
        "\n",
        "9"
       ]
      },
      {
       "output_type": "stream",
       "stream": "stdout",
       "text": [
        "\n",
        "614"
       ]
      },
      {
       "output_type": "stream",
       "stream": "stdout",
       "text": [
        " 9385348 9 1000000000.0\n",
        "val=0.6403\n",
        "\n",
        "app=Dolphin Browser(614), keyword=+\"\uac74\uac15\"(9385348), both=Dolphin Browser++\"\uac74\uac15\"(9), pmi=-0.194\n"
       ]
      },
      {
       "output_type": "stream",
       "stream": "stdout",
       "text": [
        "\n",
        "614"
       ]
      },
      {
       "output_type": "stream",
       "stream": "stdout",
       "text": [
        "\n",
        "6675436"
       ]
      },
      {
       "output_type": "stream",
       "stream": "stdout",
       "text": [
        "\n",
        "16"
       ]
      },
      {
       "output_type": "stream",
       "stream": "stdout",
       "text": [
        "\n",
        "614"
       ]
      },
      {
       "output_type": "stream",
       "stream": "stdout",
       "text": [
        " 6675436 16 1000000000.0\n",
        "val=0.2562\n",
        "\n",
        "app=Dolphin Browser(614), keyword=+\"\uc6b4\ub3d9\"(6675436), both=Dolphin Browser++\"\uc6b4\ub3d9\"(16), pmi=-0.591\n",
        "\n",
        "614"
       ]
      },
      {
       "output_type": "stream",
       "stream": "stdout",
       "text": [
        "\n",
        "7017846"
       ]
      },
      {
       "output_type": "stream",
       "stream": "stdout",
       "text": [
        "\n",
        "14"
       ]
      },
      {
       "output_type": "stream",
       "stream": "stdout",
       "text": [
        "\n",
        "614"
       ]
      },
      {
       "output_type": "stream",
       "stream": "stdout",
       "text": [
        " 7017846 14 1000000000.0\n",
        "val=0.3078\n",
        "\n",
        "app=Dolphin Browser(614), keyword=+\"\uad50\uc721\"(7017846), both=Dolphin Browser++\"\uad50\uc721\"(14), pmi=-0.512\n",
        "\n",
        "614"
       ]
      },
      {
       "output_type": "stream",
       "stream": "stdout",
       "text": [
        "\n",
        "3744841"
       ]
      },
      {
       "output_type": "stream",
       "stream": "stdout",
       "text": [
        "\n",
        "25"
       ]
      },
      {
       "output_type": "stream",
       "stream": "stdout",
       "text": [
        "\n",
        "614"
       ]
      },
      {
       "output_type": "stream",
       "stream": "stdout",
       "text": [
        " 3744841 25 1000000000.0\n",
        "val=0.0920\n",
        "\n",
        "app=Dolphin Browser(614), keyword=+\"\uad50\ud1b5\"(3744841), both=Dolphin Browser++\"\uad50\ud1b5\"(25), pmi=-1.036\n",
        "\n",
        "614"
       ]
      },
      {
       "output_type": "stream",
       "stream": "stdout",
       "text": [
        "\n",
        "1799897"
       ]
      },
      {
       "output_type": "stream",
       "stream": "stdout",
       "text": [
        "\n",
        "12"
       ]
      },
      {
       "output_type": "stream",
       "stream": "stdout",
       "text": [
        "\n",
        "614"
       ]
      },
      {
       "output_type": "stream",
       "stream": "stdout",
       "text": [
        " 1799897 12 1000000000.0\n",
        "val=0.0921\n",
        "\n",
        "app=Dolphin Browser(614), keyword=+\"\uae08\uc735\"(1799897), both=Dolphin Browser++\"\uae08\uc735\"(12), pmi=-1.036\n",
        "\n",
        "614"
       ]
      },
      {
       "output_type": "stream",
       "stream": "stdout",
       "text": [
        "\n",
        "8419300"
       ]
      },
      {
       "output_type": "stream",
       "stream": "stdout",
       "text": [
        "\n",
        "36"
       ]
      },
      {
       "output_type": "stream",
       "stream": "stdout",
       "text": [
        "\n",
        "614"
       ]
      },
      {
       "output_type": "stream",
       "stream": "stdout",
       "text": [
        " 8419300 36 1000000000.0\n",
        "val=0.1436\n",
        "\n",
        "app=Dolphin Browser(614), keyword=+\"\ub0a0\uc528\"(8419300), both=Dolphin Browser++\"\ub0a0\uc528\"(36), pmi=-0.843\n",
        "\n",
        "614"
       ]
      },
      {
       "output_type": "stream",
       "stream": "stdout",
       "text": [
        "\n",
        "5579169"
       ]
      },
      {
       "output_type": "stream",
       "stream": "stdout",
       "text": [
        "\n",
        "53"
       ]
      },
      {
       "output_type": "stream",
       "stream": "stdout",
       "text": [
        "\n",
        "614"
       ]
      },
      {
       "output_type": "stream",
       "stream": "stdout",
       "text": [
        " 5579169 53 1000000000.0\n",
        "val=0.0646\n",
        "\n",
        "app=Dolphin Browser(614), keyword=+\"\ub274\uc2a4\"(5579169), both=Dolphin Browser++\"\ub274\uc2a4\"(53), pmi=-1.190\n",
        "\n",
        "614"
       ]
      },
      {
       "output_type": "stream",
       "stream": "stdout",
       "text": [
        "\n",
        "2004210"
       ]
      },
      {
       "output_type": "stream",
       "stream": "stdout",
       "text": [
        "\n",
        "11"
       ]
      },
      {
       "output_type": "stream",
       "stream": "stdout",
       "text": [
        "\n",
        "614"
       ]
      },
      {
       "output_type": "stream",
       "stream": "stdout",
       "text": [
        " 2004210 11 1000000000.0\n",
        "val=0.1119\n",
        "\n",
        "app=Dolphin Browser(614), keyword=+\"\uc7a1\uc9c0\"(2004210), both=Dolphin Browser++\"\uc7a1\uc9c0\"(11), pmi=-0.951\n",
        "\n",
        "614"
       ]
      },
      {
       "output_type": "stream",
       "stream": "stdout",
       "text": [
        "\n",
        "123932"
       ]
      },
      {
       "output_type": "stream",
       "stream": "stdout",
       "text": [
        "\n",
        "3"
       ]
      },
      {
       "output_type": "stream",
       "stream": "stdout",
       "text": [
        "\n",
        "614"
       ]
      },
      {
       "output_type": "stream",
       "stream": "stdout",
       "text": [
        " 123932 3 1000000000.0\n",
        "val=0.0254\n",
        "\n",
        "app=Dolphin Browser(614), keyword=+\"\ub370\ucf54\ub808\uc774\uc158\"(123932), both=Dolphin Browser++\"\ub370\ucf54\ub808\uc774\uc158\"(3), pmi=-1.596\n"
       ]
      },
      {
       "output_type": "stream",
       "stream": "stdout",
       "text": [
        "\n",
        "614"
       ]
      },
      {
       "output_type": "stream",
       "stream": "stdout",
       "text": [
        "\n",
        "1807798"
       ]
      },
      {
       "output_type": "stream",
       "stream": "stdout",
       "text": [
        "\n",
        "31"
       ]
      },
      {
       "output_type": "stream",
       "stream": "stdout",
       "text": [
        "\n",
        "614"
       ]
      },
      {
       "output_type": "stream",
       "stream": "stdout",
       "text": [
        " 1807798 31 1000000000.0\n",
        "val=0.0358\n",
        "\n",
        "app=Dolphin Browser(614), keyword=+\"\ub3c4\uad6c\"(1807798), both=Dolphin Browser++\"\ub3c4\uad6c\"(31), pmi=-1.446\n",
        "\n",
        "614"
       ]
      },
      {
       "output_type": "stream",
       "stream": "stdout",
       "text": [
        "\n",
        "1204844"
       ]
      },
      {
       "output_type": "stream",
       "stream": "stdout",
       "text": [
        "\n",
        "5"
       ]
      },
      {
       "output_type": "stream",
       "stream": "stdout",
       "text": [
        "\n",
        "614"
       ]
      },
      {
       "output_type": "stream",
       "stream": "stdout",
       "text": [
        " 1204844 5 1000000000.0\n",
        "val=0.1480\n",
        "\n",
        "app=Dolphin Browser(614), keyword=+\"\ub3c4\uc11c\"(1204844), both=Dolphin Browser++\"\ub3c4\uc11c\"(5), pmi=-0.830\n",
        "\n",
        "614"
       ]
      },
      {
       "output_type": "stream",
       "stream": "stdout",
       "text": [
        "\n",
        "178670"
       ]
      },
      {
       "output_type": "stream",
       "stream": "stdout",
       "text": [
        "\n",
        "2"
       ]
      },
      {
       "output_type": "stream",
       "stream": "stdout",
       "text": [
        "\n",
        "614"
       ]
      },
      {
       "output_type": "stream",
       "stream": "stdout",
       "text": [
        " 178670 2 1000000000.0\n",
        "val=0.0549\n",
        "\n",
        "app=Dolphin Browser(614), keyword=+\"\ucc38\uace0\uc790\ub8cc\"(178670), both=Dolphin Browser++\"\ucc38\uace0\uc790\ub8cc\"(2), pmi=-1.261\n"
       ]
      },
      {
       "output_type": "stream",
       "stream": "stdout",
       "text": [
        "\n",
        "614"
       ]
      },
      {
       "output_type": "stream",
       "stream": "stdout",
       "text": [
        "\n",
        "1138320"
       ]
      },
      {
       "output_type": "stream",
       "stream": "stdout",
       "text": [
        "\n",
        "8"
       ]
      },
      {
       "output_type": "stream",
       "stream": "stdout",
       "text": [
        "\n",
        "614"
       ]
      },
      {
       "output_type": "stream",
       "stream": "stdout",
       "text": [
        " 1138320 8 1000000000.0\n",
        "val=0.0874\n",
        "\n",
        "app=Dolphin Browser(614), keyword=+\"\ub77c\uc774\ube0c\"(1138320), both=Dolphin Browser++\"\ub77c\uc774\ube0c\"(8), pmi=-1.059\n",
        "\n",
        "614"
       ]
      },
      {
       "output_type": "stream",
       "stream": "stdout",
       "text": [
        "\n",
        "228831"
       ]
      },
      {
       "output_type": "stream",
       "stream": "stdout",
       "text": [
        "\n",
        "16"
       ]
      },
      {
       "output_type": "stream",
       "stream": "stdout",
       "text": [
        "\n",
        "614"
       ]
      },
      {
       "output_type": "stream",
       "stream": "stdout",
       "text": [
        " 228831 16 1000000000.0\n",
        "val=0.0088\n",
        "\n",
        "app=Dolphin Browser(614), keyword=+\"\ubc30\uacbd\ud654\uba74\"(228831), both=Dolphin Browser++\"\ubc30\uacbd\ud654\uba74\"(16), pmi=-2.056\n",
        "\n",
        "614"
       ]
      },
      {
       "output_type": "stream",
       "stream": "stdout",
       "text": [
        "\n",
        "135579"
       ]
      },
      {
       "output_type": "stream",
       "stream": "stdout",
       "text": [
        "\n",
        "11"
       ]
      },
      {
       "output_type": "stream",
       "stream": "stdout",
       "text": [
        "\n",
        "614"
       ]
      },
      {
       "output_type": "stream",
       "stream": "stdout",
       "text": [
        " 135579 11 1000000000.0\n",
        "val=0.0076\n",
        "\n",
        "app=Dolphin Browser(614), keyword=+\"\ub77c\uc774\ube0c\ub7ec\ub9ac\"(135579), both=Dolphin Browser++\"\ub77c\uc774\ube0c\ub7ec\ub9ac\"(11), pmi=-2.121\n",
        "\n",
        "614"
       ]
      },
      {
       "output_type": "stream",
       "stream": "stdout",
       "text": [
        "\n",
        "371600"
       ]
      },
      {
       "output_type": "stream",
       "stream": "stdout",
       "text": [
        "\n",
        "4"
       ]
      },
      {
       "output_type": "stream",
       "stream": "stdout",
       "text": [
        "\n",
        "614"
       ]
      },
      {
       "output_type": "stream",
       "stream": "stdout",
       "text": [
        " 371600 4 1000000000.0\n",
        "val=0.0570\n",
        "\n",
        "app=Dolphin Browser(614), keyword=+\"\ub370\ubaa8\"(371600), both=Dolphin Browser++\"\ub370\ubaa8\"(4), pmi=-1.244\n",
        "\n",
        "614"
       ]
      },
      {
       "output_type": "stream",
       "stream": "stdout",
       "text": [
        "\n",
        "145454"
       ]
      },
      {
       "output_type": "stream",
       "stream": "stdout",
       "text": [
        "\n",
        "2"
       ]
      },
      {
       "output_type": "stream",
       "stream": "stdout",
       "text": [
        "\n",
        "614"
       ]
      },
      {
       "output_type": "stream",
       "stream": "stdout",
       "text": [
        " 145454 2 1000000000.0\n",
        "val=0.0447\n",
        "\n",
        "app=Dolphin Browser(614), keyword=+\"\ub77c\uc774\ud504\uc2a4\ud0c0\uc77c\"(145454), both=Dolphin Browser++\"\ub77c\uc774\ud504\uc2a4\ud0c0\uc77c\"(2), pmi=-1.350\n",
        "\n",
        "614"
       ]
      },
      {
       "output_type": "stream",
       "stream": "stdout",
       "text": [
        "\n",
        "16332609"
       ]
      },
      {
       "output_type": "stream",
       "stream": "stdout",
       "text": [
        "\n",
        "67"
       ]
      },
      {
       "output_type": "stream",
       "stream": "stdout",
       "text": [
        "\n",
        "614"
       ]
      },
      {
       "output_type": "stream",
       "stream": "stdout",
       "text": [
        " 16332609 67 1000000000.0\n",
        "val=0.1497\n",
        "\n",
        "app=Dolphin Browser(614), keyword=+\"\ube14\ub85c\uadf8\"(16332609), both=Dolphin Browser++\"\ube14\ub85c\uadf8\"(67), pmi=-0.825\n",
        "\n",
        "614"
       ]
      },
      {
       "output_type": "stream",
       "stream": "stdout",
       "text": [
        "\n",
        "2604463"
       ]
      },
      {
       "output_type": "stream",
       "stream": "stdout",
       "text": [
        "\n",
        "24"
       ]
      },
      {
       "output_type": "stream",
       "stream": "stdout",
       "text": [
        "\n",
        "614"
       ]
      },
      {
       "output_type": "stream",
       "stream": "stdout",
       "text": [
        " 2604463 24 1000000000.0\n",
        "val=0.0666\n",
        "\n",
        "app=Dolphin Browser(614), keyword=+\"\ub9cc\ud654\"(2604463), both=Dolphin Browser++\"\ub9cc\ud654\"(24), pmi=-1.176\n"
       ]
      },
      {
       "output_type": "stream",
       "stream": "stdout",
       "text": [
        "\n",
        "614"
       ]
      },
      {
       "output_type": "stream",
       "stream": "stdout",
       "text": [
        "\n",
        "1746003"
       ]
      },
      {
       "output_type": "stream",
       "stream": "stdout",
       "text": [
        "\n",
        "31"
       ]
      },
      {
       "output_type": "stream",
       "stream": "stdout",
       "text": [
        "\n",
        "614"
       ]
      },
      {
       "output_type": "stream",
       "stream": "stdout",
       "text": [
        " 1746003 31 1000000000.0\n",
        "val=0.0346\n",
        "\n",
        "app=Dolphin Browser(614), keyword=+\"\ubbf8\ub514\uc5b4\"(1746003), both=Dolphin Browser++\"\ubbf8\ub514\uc5b4\"(31), pmi=-1.461\n",
        "\n",
        "614"
       ]
      },
      {
       "output_type": "stream",
       "stream": "stdout",
       "text": [
        "\n",
        "5421478"
       ]
      },
      {
       "output_type": "stream",
       "stream": "stdout",
       "text": [
        "\n",
        "85"
       ]
      },
      {
       "output_type": "stream",
       "stream": "stdout",
       "text": [
        "\n",
        "614"
       ]
      },
      {
       "output_type": "stream",
       "stream": "stdout",
       "text": [
        " 5421478 85 1000000000.0\n",
        "val=0.0392\n",
        "\n",
        "app=Dolphin Browser(614), keyword=+\"\ub3d9\uc601\uc0c1\"(5421478), both=Dolphin Browser++\"\ub3d9\uc601\uc0c1\"(85), pmi=-1.407\n",
        "\n",
        "614"
       ]
      },
      {
       "output_type": "stream",
       "stream": "stdout",
       "text": [
        "\n",
        "865523"
       ]
      },
      {
       "output_type": "stream",
       "stream": "stdout",
       "text": [
        "\n",
        "8"
       ]
      },
      {
       "output_type": "stream",
       "stream": "stdout",
       "text": [
        "\n",
        "614"
       ]
      },
      {
       "output_type": "stream",
       "stream": "stdout",
       "text": [
        " 865523 8 1000000000.0\n",
        "val=0.0664\n",
        "\n",
        "app=Dolphin Browser(614), keyword=+\"\ube44\uc988\ub2c8\uc2a4\"(865523), both=Dolphin Browser++\"\ube44\uc988\ub2c8\uc2a4\"(8), pmi=-1.178\n",
        "\n",
        "614"
       ]
      },
      {
       "output_type": "stream",
       "stream": "stdout",
       "text": [
        "\n",
        "1700653"
       ]
      },
      {
       "output_type": "stream",
       "stream": "stdout",
       "text": [
        "\n",
        "42"
       ]
      },
      {
       "output_type": "stream",
       "stream": "stdout",
       "text": [
        "\n",
        "614"
       ]
      },
      {
       "output_type": "stream",
       "stream": "stdout",
       "text": [
        " 1700653 42 1000000000.0\n",
        "val=0.0249\n",
        "\n",
        "app=Dolphin Browser(614), keyword=+\"\ud3b8\uc9d1\"(1700653), both=Dolphin Browser++\"\ud3b8\uc9d1\"(42), pmi=-1.604\n",
        "\n",
        "614"
       ]
      },
      {
       "output_type": "stream",
       "stream": "stdout",
       "text": [
        "\n",
        "37499657"
       ]
      },
      {
       "output_type": "stream",
       "stream": "stdout",
       "text": [
        "\n",
        "109"
       ]
      },
      {
       "output_type": "stream",
       "stream": "stdout",
       "text": [
        "\n",
        "614"
       ]
      },
      {
       "output_type": "stream",
       "stream": "stdout",
       "text": [
        " 37499657 109 1000000000.0\n",
        "val=0.2112\n",
        "\n",
        "app=Dolphin Browser(614), keyword=+\"\uc0ac\uc9c4\"(37499657), both=Dolphin Browser++\"\uc0ac\uc9c4\"(109), pmi=-0.675\n",
        "\n",
        "614"
       ]
      },
      {
       "output_type": "stream",
       "stream": "stdout",
       "text": [
        "\n",
        "275185"
       ]
      },
      {
       "output_type": "stream",
       "stream": "stdout",
       "text": [
        "\n",
        "11"
       ]
      },
      {
       "output_type": "stream",
       "stream": "stdout",
       "text": [
        "\n",
        "614"
       ]
      },
      {
       "output_type": "stream",
       "stream": "stdout",
       "text": [
        " 275185 11 1000000000.0\n",
        "val=0.0154\n",
        "\n",
        "app=Dolphin Browser(614), keyword=+\"\uc0dd\uc0b0\uc131\"(275185), both=Dolphin Browser++\"\uc0dd\uc0b0\uc131\"(11), pmi=-1.814\n",
        "\n",
        "614"
       ]
      },
      {
       "output_type": "stream",
       "stream": "stdout",
       "text": [
        "\n",
        "1042585"
       ]
      },
      {
       "output_type": "stream",
       "stream": "stdout",
       "text": [
        "\n",
        "39"
       ]
      },
      {
       "output_type": "stream",
       "stream": "stdout",
       "text": [
        "\n",
        "614"
       ]
      },
      {
       "output_type": "stream",
       "stream": "stdout",
       "text": [
        " 1042585 39 1000000000.0\n",
        "val=0.0164\n",
        "\n",
        "app=Dolphin Browser(614), keyword=+\"\uc18c\uc15c\"(1042585), both=Dolphin Browser++\"\uc18c\uc15c\"(39), pmi=-1.785\n",
        "\n",
        "614"
       ]
      },
      {
       "output_type": "stream",
       "stream": "stdout",
       "text": [
        "\n",
        "580928"
       ]
      },
      {
       "output_type": "stream",
       "stream": "stdout",
       "text": [
        "\n",
        "6"
       ]
      },
      {
       "output_type": "stream",
       "stream": "stdout",
       "text": [
        "\n",
        "614"
       ]
      },
      {
       "output_type": "stream",
       "stream": "stdout",
       "text": [
        " 580928 6 1000000000.0\n",
        "val=0.0594\n",
        "\n",
        "app=Dolphin Browser(614), keyword=+\"\ucf58\ud150\uce20\"(580928), both=Dolphin Browser++\"\ucf58\ud150\uce20\"(6), pmi=-1.226\n"
       ]
      },
      {
       "output_type": "stream",
       "stream": "stdout",
       "text": [
        "\n",
        "614"
       ]
      },
      {
       "output_type": "stream",
       "stream": "stdout",
       "text": [
        "\n",
        "2412773"
       ]
      },
      {
       "output_type": "stream",
       "stream": "stdout",
       "text": [
        "\n",
        "13"
       ]
      },
      {
       "output_type": "stream",
       "stream": "stdout",
       "text": [
        "\n",
        "614"
       ]
      },
      {
       "output_type": "stream",
       "stream": "stdout",
       "text": [
        " 2412773 13 1000000000.0\n",
        "val=0.1140\n",
        "\n",
        "app=Dolphin Browser(614), keyword=+\"\uc1fc\ud551\"(2412773), both=Dolphin Browser++\"\uc1fc\ud551\"(13), pmi=-0.943\n",
        "\n",
        "614"
       ]
      },
      {
       "output_type": "stream",
       "stream": "stdout",
       "text": [
        "\n",
        "196035"
       ]
      },
      {
       "output_type": "stream",
       "stream": "stdout",
       "text": [
        "\n",
        "51"
       ]
      },
      {
       "output_type": "stream",
       "stream": "stdout",
       "text": [
        "\n",
        "614"
       ]
      },
      {
       "output_type": "stream",
       "stream": "stdout",
       "text": [
        " 196035 51 1000000000.0\n",
        "val=0.0024\n",
        "\n",
        "app=Dolphin Browser(614), keyword=+\"\uc704\uc82f\"(196035), both=Dolphin Browser++\"\uc704\uc82f\"(51), pmi=-2.627\n",
        "\n",
        "614"
       ]
      },
      {
       "output_type": "stream",
       "stream": "stdout",
       "text": [
        "\n",
        "4015477"
       ]
      },
      {
       "output_type": "stream",
       "stream": "stdout",
       "text": [
        "\n",
        "10"
       ]
      },
      {
       "output_type": "stream",
       "stream": "stdout",
       "text": [
        "\n",
        "614"
       ]
      },
      {
       "output_type": "stream",
       "stream": "stdout",
       "text": [
        " 4015477 10 1000000000.0\n",
        "val=0.2466\n",
        "\n",
        "app=Dolphin Browser(614), keyword=+\"\uc790\ub3d9\ucc28\"(4015477), both=Dolphin Browser++\"\uc790\ub3d9\ucc28\"(10), pmi=-0.608\n",
        "\n",
        "614"
       ]
      },
      {
       "output_type": "stream",
       "stream": "stdout",
       "text": [
        "\n",
        "1072063"
       ]
      },
      {
       "output_type": "stream",
       "stream": "stdout",
       "text": [
        "\n",
        "2"
       ]
      },
      {
       "output_type": "stream",
       "stream": "stdout",
       "text": [
        "\n",
        "614"
       ]
      },
      {
       "output_type": "stream",
       "stream": "stdout",
       "text": [
        " 1072063 2 1000000000.0\n",
        "val=0.3291\n",
        "\n",
        "app=Dolphin Browser(614), keyword=+\"\uacbd\uc8fc\"(1072063), both=Dolphin Browser++\"\uacbd\uc8fc\"(2), pmi=-0.483\n",
        "\n",
        "614"
       ]
      },
      {
       "output_type": "stream",
       "stream": "stdout",
       "text": [
        "\n",
        "2432399"
       ]
      },
      {
       "output_type": "stream",
       "stream": "stdout",
       "text": [
        "\n",
        "3"
       ]
      },
      {
       "output_type": "stream",
       "stream": "stdout",
       "text": [
        "\n",
        "614"
       ]
      },
      {
       "output_type": "stream",
       "stream": "stdout",
       "text": [
        " 2432399 3 1000000000.0\n",
        "val=0.4978\n",
        "\n",
        "app=Dolphin Browser(614), keyword=+\"\ub2e4\uc774\uc5b4\ud2b8\"(2432399), both=Dolphin Browser++\"\ub2e4\uc774\uc5b4\ud2b8\"(3), pmi=-0.303\n",
        "\n",
        "614"
       ]
      },
      {
       "output_type": "stream",
       "stream": "stdout",
       "text": [
        "\n",
        "580894"
       ]
      },
      {
       "output_type": "stream",
       "stream": "stdout",
       "text": [
        "\n",
        "15"
       ]
      },
      {
       "output_type": "stream",
       "stream": "stdout",
       "text": [
        "\n",
        "614"
       ]
      },
      {
       "output_type": "stream",
       "stream": "stdout",
       "text": [
        " 580894 15 1000000000.0\n",
        "val=0.0238\n",
        "\n",
        "app=Dolphin Browser(614), keyword=+\"\ub2ec\ub825\"(580894), both=Dolphin Browser++\"\ub2ec\ub825\"(15), pmi=-1.624\n"
       ]
      },
      {
       "output_type": "stream",
       "stream": "stdout",
       "text": [
        "\n",
        "614"
       ]
      },
      {
       "output_type": "stream",
       "stream": "stdout",
       "text": [
        "\n",
        "425033"
       ]
      },
      {
       "output_type": "stream",
       "stream": "stdout",
       "text": [
        "\n",
        "except 0"
       ]
      },
      {
       "output_type": "stream",
       "stream": "stdout",
       "text": [
        "\n",
        "614"
       ]
      },
      {
       "output_type": "stream",
       "stream": "stdout",
       "text": [
        " 425033 0 1000000000.0\n",
        "val=260970262.0000\n",
        "\n",
        "app=Dolphin Browser(614), keyword=+\"\uc0dd\ub9ac\"(425033), both=Dolphin Browser++\"\uc0dd\ub9ac\"(0), pmi=8.417\n",
        "\n",
        "614"
       ]
      },
      {
       "output_type": "stream",
       "stream": "stdout",
       "text": [
        "\n",
        "117655"
       ]
      },
      {
       "output_type": "stream",
       "stream": "stdout",
       "text": [
        "\n",
        "21"
       ]
      },
      {
       "output_type": "stream",
       "stream": "stdout",
       "text": [
        "\n",
        "614"
       ]
      },
      {
       "output_type": "stream",
       "stream": "stdout",
       "text": [
        " 117655 21 1000000000.0\n",
        "val=0.0034\n",
        "\n",
        "app=Dolphin Browser(614), keyword=+\"\uce98\ub9b0\ub354\"(117655), both=Dolphin Browser++\"\uce98\ub9b0\ub354\"(21), pmi=-2.463\n",
        "\n",
        "614"
       ]
      },
      {
       "output_type": "stream",
       "stream": "stdout",
       "text": [
        "\n",
        "23997"
       ]
      },
      {
       "output_type": "stream",
       "stream": "stdout",
       "text": [
        "\n",
        "except 0"
       ]
      },
      {
       "output_type": "stream",
       "stream": "stdout",
       "text": [
        "\n",
        "614"
       ]
      },
      {
       "output_type": "stream",
       "stream": "stdout",
       "text": [
        " 23997 0 1000000000.0\n",
        "val=14734158.0000\n",
        "\n",
        "app=Dolphin Browser(614), keyword=+\"\uc0ac\uc8fc\ud314\uc790\"(23997), both=Dolphin Browser++\"\uc0ac\uc8fc\ud314\uc790\"(0), pmi=7.168\n",
        "\n",
        "614"
       ]
      },
      {
       "output_type": "stream",
       "stream": "stdout",
       "text": [
        "\n",
        "except 0"
       ]
      },
      {
       "output_type": "stream",
       "stream": "stdout",
       "text": [
        "\n",
        "except 0"
       ]
      },
      {
       "output_type": "stream",
       "stream": "stdout",
       "text": [
        "\n",
        "614"
       ]
      },
      {
       "output_type": "stream",
       "stream": "stdout",
       "text": [
        " 0 0 1000000000.0\n",
        "val=0.0000\n",
        "\n",
        "app=Dolphin Browser(614), keyword=+\"\uad81\ud569\"(0), both=Dolphin Browser++\"\uad81\ud569\"(0), pmi=0.000\n",
        "\n",
        "614"
       ]
      },
      {
       "output_type": "stream",
       "stream": "stdout",
       "text": [
        "\n",
        "965132"
       ]
      },
      {
       "output_type": "stream",
       "stream": "stdout",
       "text": [
        "\n",
        "1"
       ]
      },
      {
       "output_type": "stream",
       "stream": "stdout",
       "text": [
        "\n",
        "614"
       ]
      },
      {
       "output_type": "stream",
       "stream": "stdout",
       "text": [
        " 965132 1 1000000000.0\n",
        "val=0.5926\n",
        "\n",
        "app=Dolphin Browser(614), keyword=+\"\uccb4\uc911\"(965132), both=Dolphin Browser++\"\uccb4\uc911\"(1), pmi=-0.227\n",
        "\n",
        "614"
       ]
      },
      {
       "output_type": "stream",
       "stream": "stdout",
       "text": [
        "\n",
        "2782132"
       ]
      },
      {
       "output_type": "stream",
       "stream": "stdout",
       "text": [
        "\n",
        "30"
       ]
      },
      {
       "output_type": "stream",
       "stream": "stdout",
       "text": [
        "\n",
        "614"
       ]
      },
      {
       "output_type": "stream",
       "stream": "stdout",
       "text": [
        " 2782132 30 1000000000.0\n",
        "val=0.0569\n",
        "\n",
        "app=Dolphin Browser(614), keyword=+\"\uc0ac\uc804\"(2782132), both=Dolphin Browser++\"\uc0ac\uc804\"(30), pmi=-1.245\n",
        "\n",
        "614"
       ]
      },
      {
       "output_type": "stream",
       "stream": "stdout",
       "text": [
        "\n",
        "1693214"
       ]
      },
      {
       "output_type": "stream",
       "stream": "stdout",
       "text": [
        "\n",
        "except 0"
       ]
      },
      {
       "output_type": "stream",
       "stream": "stdout",
       "text": [
        "\n",
        "614"
       ]
      },
      {
       "output_type": "stream",
       "stream": "stdout",
       "text": [
        " 1693214 0 1000000000.0\n",
        "val=1039633396.0000\n",
        "\n",
        "app=Dolphin Browser(614), keyword=+\"\ucef4\ud4e8\ud130\"(1693214), both=Dolphin Browser++\"\ucef4\ud4e8\ud130\"(0), pmi=9.017\n"
       ]
      },
      {
       "output_type": "stream",
       "stream": "stdout",
       "text": [
        "\n",
        "614"
       ]
      },
      {
       "output_type": "stream",
       "stream": "stdout",
       "text": [
        "\n",
        "79130"
       ]
      },
      {
       "output_type": "stream",
       "stream": "stdout",
       "text": [
        "\n",
        "4"
       ]
      },
      {
       "output_type": "stream",
       "stream": "stdout",
       "text": [
        "\n",
        "614"
       ]
      },
      {
       "output_type": "stream",
       "stream": "stdout",
       "text": [
        " 79130 4 1000000000.0\n",
        "val=0.0121\n",
        "\n",
        "app=Dolphin Browser(614), keyword=+\"\ubc31\uacfc\uc0ac\uc804\"(79130), both=Dolphin Browser++\"\ubc31\uacfc\uc0ac\uc804\"(4), pmi=-1.916\n"
       ]
      },
      {
       "output_type": "stream",
       "stream": "stdout",
       "text": [
        "\n",
        "614"
       ]
      },
      {
       "output_type": "stream",
       "stream": "stdout",
       "text": [
        "\n",
        "except 0"
       ]
      },
      {
       "output_type": "stream",
       "stream": "stdout",
       "text": [
        "\n",
        "except 0"
       ]
      },
      {
       "output_type": "stream",
       "stream": "stdout",
       "text": [
        "\n",
        "614"
       ]
      },
      {
       "output_type": "stream",
       "stream": "stdout",
       "text": [
        " 0 0 1000000000.0\n",
        "val=0.0000\n",
        "\n",
        "app=Dolphin Browser(614), keyword=+\"\uae09\uc2dd\"(0), both=Dolphin Browser++\"\uae09\uc2dd\"(0), pmi=0.000\n"
       ]
      },
      {
       "output_type": "stream",
       "stream": "stdout",
       "text": [
        "\n",
        "614"
       ]
      },
      {
       "output_type": "stream",
       "stream": "stdout",
       "text": [
        "\n",
        "4369016"
       ]
      },
      {
       "output_type": "stream",
       "stream": "stdout",
       "text": [
        "\n",
        "except 0"
       ]
      },
      {
       "output_type": "stream",
       "stream": "stdout",
       "text": [
        "\n",
        "614"
       ]
      },
      {
       "output_type": "stream",
       "stream": "stdout",
       "text": [
        " 4369016 0 1000000000.0\n",
        "val=2682575824.0000\n",
        "\n",
        "app=Dolphin Browser(614), keyword=+\"\ud559\uad50\"(4369016), both=Dolphin Browser++\"\ud559\uad50\"(0), pmi=9.429\n",
        "\n",
        "614"
       ]
      },
      {
       "output_type": "stream",
       "stream": "stdout",
       "text": [
        "\n",
        "720498"
       ]
      },
      {
       "output_type": "stream",
       "stream": "stdout",
       "text": [
        "\n",
        "except 0"
       ]
      },
      {
       "output_type": "stream",
       "stream": "stdout",
       "text": [
        "\n",
        "614"
       ]
      },
      {
       "output_type": "stream",
       "stream": "stdout",
       "text": [
        " 720498 0 1000000000.0\n",
        "val=442385772.0000\n",
        "\n",
        "app=Dolphin Browser(614), keyword=+\"\ucd08\ub4f1\ud559\uad50\"(720498), both=Dolphin Browser++\"\ucd08\ub4f1\ud559\uad50\"(0), pmi=8.646\n",
        "\n",
        "614"
       ]
      },
      {
       "output_type": "stream",
       "stream": "stdout",
       "text": [
        "\n",
        "except 0"
       ]
      },
      {
       "output_type": "stream",
       "stream": "stdout",
       "text": [
        "\n",
        "except 0"
       ]
      },
      {
       "output_type": "stream",
       "stream": "stdout",
       "text": [
        "\n",
        "614"
       ]
      },
      {
       "output_type": "stream",
       "stream": "stdout",
       "text": [
        " 0 0 1000000000.0\n",
        "val=0.0000\n",
        "\n",
        "app=Dolphin Browser(614), keyword=+\"\uc911\ud559\uad50\"(0), both=Dolphin Browser++\"\uc911\ud559\uad50\"(0), pmi=0.000\n",
        "\n",
        "614"
       ]
      },
      {
       "output_type": "stream",
       "stream": "stdout",
       "text": [
        "\n",
        "except 0"
       ]
      },
      {
       "output_type": "stream",
       "stream": "stdout",
       "text": [
        "\n",
        "except 0"
       ]
      },
      {
       "output_type": "stream",
       "stream": "stdout",
       "text": [
        "\n",
        "614"
       ]
      },
      {
       "output_type": "stream",
       "stream": "stdout",
       "text": [
        " 0 0 1000000000.0\n",
        "val=0.0000\n",
        "\n",
        "app=Dolphin Browser(614), keyword=+\"\uace0\ub4f1\ud559\uad50\"(0), both=Dolphin Browser++\"\uace0\ub4f1\ud559\uad50\"(0), pmi=0.000\n",
        "\n",
        "614"
       ]
      },
      {
       "output_type": "stream",
       "stream": "stdout",
       "text": [
        "\n",
        "except 0"
       ]
      },
      {
       "output_type": "stream",
       "stream": "stdout",
       "text": [
        "\n",
        "except 0"
       ]
      },
      {
       "output_type": "stream",
       "stream": "stdout",
       "text": [
        "\n",
        "614"
       ]
      },
      {
       "output_type": "stream",
       "stream": "stdout",
       "text": [
        " 0 0 1000000000.0\n",
        "val=0.0000\n",
        "\n",
        "app=Dolphin Browser(614), keyword=+\"\ub300\ud559\uad50\"(0), both=Dolphin Browser++\"\ub300\ud559\uad50\"(0), pmi=0.000\n",
        "\n",
        "614"
       ]
      },
      {
       "output_type": "stream",
       "stream": "stdout",
       "text": [
        "\n",
        "except 0"
       ]
      },
      {
       "output_type": "stream",
       "stream": "stdout",
       "text": [
        "\n",
        "except 0"
       ]
      },
      {
       "output_type": "stream",
       "stream": "stdout",
       "text": [
        "\n",
        "614"
       ]
      },
      {
       "output_type": "stream",
       "stream": "stdout",
       "text": [
        " 0 0 1000000000.0\n",
        "val=0.0000\n",
        "\n",
        "app=Dolphin Browser(614), keyword=+\"Korea\"(0), both=Dolphin Browser++\"Korea\"(0), pmi=0.000\n",
        "\n",
        "614"
       ]
      },
      {
       "output_type": "stream",
       "stream": "stdout",
       "text": [
        "\n",
        "except 0"
       ]
      },
      {
       "output_type": "stream",
       "stream": "stdout",
       "text": [
        "\n",
        "except 0"
       ]
      },
      {
       "output_type": "stream",
       "stream": "stdout",
       "text": [
        "\n",
        "614"
       ]
      },
      {
       "output_type": "stream",
       "stream": "stdout",
       "text": [
        " 0 0 1000000000.0\n",
        "val=0.0000\n",
        "\n",
        "app=Dolphin Browser(614), keyword=+\"\ub124\ube44\uac8c\uc774\uc158\"(0), both=Dolphin Browser++\"\ub124\ube44\uac8c\uc774\uc158\"(0), pmi=0.000\n",
        "\n",
        "614"
       ]
      },
      {
       "output_type": "stream",
       "stream": "stdout",
       "text": [
        "\n",
        "2825208"
       ]
      },
      {
       "output_type": "stream",
       "stream": "stdout",
       "text": [
        "\n",
        "except 0"
       ]
      },
      {
       "output_type": "stream",
       "stream": "stdout",
       "text": [
        "\n",
        "614"
       ]
      },
      {
       "output_type": "stream",
       "stream": "stdout",
       "text": [
        " 2825208 0 1000000000.0\n",
        "val=1734677712.0000\n",
        "\n",
        "app=Dolphin Browser(614), keyword=+\"\uc9c0\ud558\ucca0\"(2825208), both=Dolphin Browser++\"\uc9c0\ud558\ucca0\"(0), pmi=9.239\n",
        "\n",
        "614"
       ]
      },
      {
       "output_type": "stream",
       "stream": "stdout",
       "text": [
        "\n",
        "except 0"
       ]
      },
      {
       "output_type": "stream",
       "stream": "stdout",
       "text": [
        "\n",
        "except 0"
       ]
      },
      {
       "output_type": "stream",
       "stream": "stdout",
       "text": [
        "\n",
        "614"
       ]
      },
      {
       "output_type": "stream",
       "stream": "stdout",
       "text": [
        " 0 0 1000000000.0\n",
        "val=0.0000\n",
        "\n",
        "app=Dolphin Browser(614), keyword=+\"\uc885\uacb0\uc790\"(0), both=Dolphin Browser++\"\uc885\uacb0\uc790\"(0), pmi=0.000\n",
        "\n",
        "614"
       ]
      },
      {
       "output_type": "stream",
       "stream": "stdout",
       "text": [
        "\n",
        "except 0"
       ]
      },
      {
       "output_type": "stream",
       "stream": "stdout",
       "text": [
        "\n",
        "except 0"
       ]
      },
      {
       "output_type": "stream",
       "stream": "stdout",
       "text": [
        "\n",
        "614"
       ]
      },
      {
       "output_type": "stream",
       "stream": "stdout",
       "text": [
        " 0 0 1000000000.0\n",
        "val=0.0000\n",
        "\n",
        "app=Dolphin Browser(614), keyword=+\"\ub0b4\ube44\"(0), both=Dolphin Browser++\"\ub0b4\ube44\"(0), pmi=0.000\n",
        "\n",
        "614"
       ]
      },
      {
       "output_type": "stream",
       "stream": "stdout",
       "text": [
        "\n",
        "except 0"
       ]
      },
      {
       "output_type": "stream",
       "stream": "stdout",
       "text": [
        "\n",
        "except 0"
       ]
      },
      {
       "output_type": "stream",
       "stream": "stdout",
       "text": [
        "\n",
        "614"
       ]
      },
      {
       "output_type": "stream",
       "stream": "stdout",
       "text": [
        " 0 0 1000000000.0\n",
        "val=0.0000\n",
        "\n",
        "app=Dolphin Browser(614), keyword=+\"\uac00\uacc4\ubd80\"(0), both=Dolphin Browser++\"\uac00\uacc4\ubd80\"(0), pmi=0.000\n",
        "\n",
        "614"
       ]
      },
      {
       "output_type": "stream",
       "stream": "stdout",
       "text": [
        "\n",
        "560975"
       ]
      },
      {
       "output_type": "stream",
       "stream": "stdout",
       "text": [
        "\n",
        "except 0"
       ]
      },
      {
       "output_type": "stream",
       "stream": "stdout",
       "text": [
        "\n",
        "614"
       ]
      },
      {
       "output_type": "stream",
       "stream": "stdout",
       "text": [
        " 560975 0 1000000000.0\n",
        "val=344438650.0000\n",
        "\n",
        "app=Dolphin Browser(614), keyword=+\"Money\"(560975), both=Dolphin Browser++\"Money\"(0), pmi=8.537\n",
        "\n",
        "614"
       ]
      },
      {
       "output_type": "stream",
       "stream": "stdout",
       "text": [
        "\n",
        "except 0"
       ]
      },
      {
       "output_type": "stream",
       "stream": "stdout",
       "text": [
        "\n",
        "except 0"
       ]
      },
      {
       "output_type": "stream",
       "stream": "stdout",
       "text": [
        "\n",
        "614"
       ]
      },
      {
       "output_type": "stream",
       "stream": "stdout",
       "text": [
        " 0 0 1000000000.0\n",
        "val=0.0000\n",
        "\n",
        "app=Dolphin Browser(614), keyword=+\"\uc2a4\ub9c8\ud2b8\"(0), both=Dolphin Browser++\"\uc2a4\ub9c8\ud2b8\"(0), pmi=0.000\n",
        "\n",
        "614"
       ]
      },
      {
       "output_type": "stream",
       "stream": "stdout",
       "text": [
        "\n",
        "161421"
       ]
      },
      {
       "output_type": "stream",
       "stream": "stdout",
       "text": [
        "\n",
        "except 0"
       ]
      },
      {
       "output_type": "stream",
       "stream": "stdout",
       "text": [
        "\n",
        "614"
       ]
      },
      {
       "output_type": "stream",
       "stream": "stdout",
       "text": [
        " 161421 0 1000000000.0\n",
        "val=99112494.0000\n",
        "\n",
        "app=Dolphin Browser(614), keyword=+\"\uacc4\uc0b0\uae30\"(161421), both=Dolphin Browser++\"\uacc4\uc0b0\uae30\"(0), pmi=7.996\n"
       ]
      },
      {
       "output_type": "stream",
       "stream": "stdout",
       "text": [
        "\n",
        "614"
       ]
      },
      {
       "output_type": "stream",
       "stream": "stdout",
       "text": [
        "\n",
        "3307087"
       ]
      },
      {
       "output_type": "stream",
       "stream": "stdout",
       "text": [
        "\n",
        "except 0"
       ]
      },
      {
       "output_type": "stream",
       "stream": "stdout",
       "text": [
        "\n",
        "614"
       ]
      },
      {
       "output_type": "stream",
       "stream": "stdout",
       "text": [
        " 3307087 0 1000000000.0\n",
        "val=2030551418.0000\n",
        "\n",
        "app=Dolphin Browser(614), keyword=+\"\uc740\ud589\"(3307087), both=Dolphin Browser++\"\uc740\ud589\"(0), pmi=9.308\n",
        "\n",
        "614"
       ]
      },
      {
       "output_type": "stream",
       "stream": "stdout",
       "text": [
        "\n",
        "except 0"
       ]
      },
      {
       "output_type": "stream",
       "stream": "stdout",
       "text": [
        "\n",
        "except 0"
       ]
      },
      {
       "output_type": "stream",
       "stream": "stdout",
       "text": [
        "\n",
        "614"
       ]
      },
      {
       "output_type": "stream",
       "stream": "stdout",
       "text": [
        " 0 0 1000000000.0\n",
        "val=0.0000\n",
        "\n",
        "app=Dolphin Browser(614), keyword=+\"\uac80\uc0c9\uc5b4\"(0), both=Dolphin Browser++\"\uac80\uc0c9\uc5b4\"(0), pmi=0.000\n",
        "\n",
        "614"
       ]
      },
      {
       "output_type": "stream",
       "stream": "stdout",
       "text": [
        "\n",
        "except 0"
       ]
      },
      {
       "output_type": "stream",
       "stream": "stdout",
       "text": [
        "\n",
        "except 0"
       ]
      },
      {
       "output_type": "stream",
       "stream": "stdout",
       "text": [
        "\n",
        "614"
       ]
      },
      {
       "output_type": "stream",
       "stream": "stdout",
       "text": [
        " 0 0 1000000000.0\n",
        "val=0.0000\n",
        "\n",
        "app=Dolphin Browser(614), keyword=+\"\uc2e4\uc2dc\uac04\"(0), both=Dolphin Browser++\"\uc2e4\uc2dc\uac04\"(0), pmi=0.000\n",
        "\n",
        "614"
       ]
      },
      {
       "output_type": "stream",
       "stream": "stdout",
       "text": [
        "\n",
        "except 0"
       ]
      },
      {
       "output_type": "stream",
       "stream": "stdout",
       "text": [
        "\n",
        "except 0"
       ]
      },
      {
       "output_type": "stream",
       "stream": "stdout",
       "text": [
        "\n",
        "614"
       ]
      },
      {
       "output_type": "stream",
       "stream": "stdout",
       "text": [
        " 0 0 1000000000.0\n",
        "val=0.0000\n",
        "\n",
        "app=Dolphin Browser(614), keyword=+\"\uc2e0\ubb38\"(0), both=Dolphin Browser++\"\uc2e0\ubb38\"(0), pmi=0.000\n",
        "\n",
        "614"
       ]
      },
      {
       "output_type": "stream",
       "stream": "stdout",
       "text": [
        "\n",
        "1226493"
       ]
      },
      {
       "output_type": "stream",
       "stream": "stdout",
       "text": [
        "\n",
        "except 0"
       ]
      },
      {
       "output_type": "stream",
       "stream": "stdout",
       "text": [
        "\n",
        "614"
       ]
      },
      {
       "output_type": "stream",
       "stream": "stdout",
       "text": [
        " 1226493 0 1000000000.0\n",
        "val=753066702.0000\n",
        "\n",
        "app=Dolphin Browser(614), keyword=+\"\ud074\ub798\uc2dd\"(1226493), both=Dolphin Browser++\"\ud074\ub798\uc2dd\"(0), pmi=8.877\n",
        "\n",
        "614"
       ]
      },
      {
       "output_type": "stream",
       "stream": "stdout",
       "text": [
        "\n",
        "except 0"
       ]
      },
      {
       "output_type": "stream",
       "stream": "stdout",
       "text": [
        "\n",
        "except 0"
       ]
      },
      {
       "output_type": "stream",
       "stream": "stdout",
       "text": [
        "\n",
        "614"
       ]
      },
      {
       "output_type": "stream",
       "stream": "stdout",
       "text": [
        " 0 0 1000000000.0\n",
        "val=0.0000\n",
        "\n",
        "app=Dolphin Browser(614), keyword=+\"\uc560\ub2c8\"(0), both=Dolphin Browser++\"\uc560\ub2c8\"(0), pmi=0.000\n",
        "\n",
        "614"
       ]
      },
      {
       "output_type": "stream",
       "stream": "stdout",
       "text": [
        "\n",
        "1186104"
       ]
      },
      {
       "output_type": "stream",
       "stream": "stdout",
       "text": [
        "\n",
        "except 0"
       ]
      },
      {
       "output_type": "stream",
       "stream": "stdout",
       "text": [
        "\n",
        "614"
       ]
      },
      {
       "output_type": "stream",
       "stream": "stdout",
       "text": [
        " 1186104 0 1000000000.0\n",
        "val=728267856.0000\n",
        "\n",
        "app=Dolphin Browser(614), keyword=+\"\ub09a\uc2dc\"(1186104), both=Dolphin Browser++\"\ub09a\uc2dc\"(0), pmi=8.862\n"
       ]
      },
      {
       "output_type": "stream",
       "stream": "stdout",
       "text": [
        "\n",
        "614"
       ]
      },
      {
       "output_type": "stream",
       "stream": "stdout",
       "text": [
        "\n",
        "87415"
       ]
      },
      {
       "output_type": "stream",
       "stream": "stdout",
       "text": [
        "\n",
        "except 0"
       ]
      },
      {
       "output_type": "stream",
       "stream": "stdout",
       "text": [
        "\n",
        "614"
       ]
      },
      {
       "output_type": "stream",
       "stream": "stdout",
       "text": [
        " 87415 0 1000000000.0\n",
        "val=53672810.0000\n",
        "\n",
        "app=Dolphin Browser(614), keyword=+\"\ub7f0\ucc98\"(87415), both=Dolphin Browser++\"\ub7f0\ucc98\"(0), pmi=7.730\n"
       ]
      },
      {
       "output_type": "stream",
       "stream": "stdout",
       "text": [
        "\n",
        "614"
       ]
      },
      {
       "output_type": "stream",
       "stream": "stdout",
       "text": [
        "\n",
        "67612"
       ]
      },
      {
       "output_type": "stream",
       "stream": "stdout",
       "text": [
        "\n",
        "except 0"
       ]
      },
      {
       "output_type": "stream",
       "stream": "stdout",
       "text": [
        "\n",
        "614"
       ]
      },
      {
       "output_type": "stream",
       "stream": "stdout",
       "text": [
        " 67612 0 1000000000.0\n",
        "val=41513768.0000\n",
        "\n",
        "app=Dolphin Browser(614), keyword=+\"\uc8fc\uc18c\ub85d\"(67612), both=Dolphin Browser++\"\uc8fc\uc18c\ub85d\"(0), pmi=7.618\n",
        "\n",
        "614"
       ]
      },
      {
       "output_type": "stream",
       "stream": "stdout",
       "text": [
        "\n",
        "4766899"
       ]
      },
      {
       "output_type": "stream",
       "stream": "stdout",
       "text": [
        "\n",
        "except 0"
       ]
      },
      {
       "output_type": "stream",
       "stream": "stdout",
       "text": [
        "\n",
        "614"
       ]
      },
      {
       "output_type": "stream",
       "stream": "stdout",
       "text": [
        " 4766899 0 1000000000.0\n",
        "val=2926875986.0000\n",
        "\n",
        "app=Dolphin Browser(614), keyword=+\"\ud3f0\"(4766899), both=Dolphin Browser++\"\ud3f0\"(0), pmi=9.466\n",
        "\n",
        "614"
       ]
      },
      {
       "output_type": "stream",
       "stream": "stdout",
       "text": [
        "\n",
        "819843"
       ]
      },
      {
       "output_type": "stream",
       "stream": "stdout",
       "text": [
        "\n",
        "except 0"
       ]
      },
      {
       "output_type": "stream",
       "stream": "stdout",
       "text": [
        "\n",
        "614"
       ]
      },
      {
       "output_type": "stream",
       "stream": "stdout",
       "text": [
        " 819843 0 1000000000.0\n",
        "val=503383602.0000\n",
        "\n",
        "app=Dolphin Browser(614), keyword=+\"\ubc14\uc774\ub7ec\uc2a4\"(819843), both=Dolphin Browser++\"\ubc14\uc774\ub7ec\uc2a4\"(0), pmi=8.702\n"
       ]
      },
      {
       "output_type": "stream",
       "stream": "stdout",
       "text": [
        "\n",
        "614"
       ]
      },
      {
       "output_type": "stream",
       "stream": "stdout",
       "text": [
        "\n",
        "993408"
       ]
      },
      {
       "output_type": "stream",
       "stream": "stdout",
       "text": [
        "\n",
        "except 0"
       ]
      },
      {
       "output_type": "stream",
       "stream": "stdout",
       "text": [
        "\n",
        "614"
       ]
      },
      {
       "output_type": "stream",
       "stream": "stdout",
       "text": [
        " 993408 0 1000000000.0\n",
        "val=609952512.0000\n",
        "\n",
        "app=Dolphin Browser(614), keyword=+\"\ubcf4\uc548\"(993408), both=Dolphin Browser++\"\ubcf4\uc548\"(0), pmi=8.785\n",
        "\n",
        "614"
       ]
      },
      {
       "output_type": "stream",
       "stream": "stdout",
       "text": [
        "\n",
        "1276211"
       ]
      },
      {
       "output_type": "stream",
       "stream": "stdout",
       "text": [
        "\n",
        "except 0"
       ]
      },
      {
       "output_type": "stream",
       "stream": "stdout",
       "text": [
        "\n",
        "614"
       ]
      },
      {
       "output_type": "stream",
       "stream": "stdout",
       "text": [
        " 1276211 0 1000000000.0\n",
        "val=783593554.0000\n",
        "\n",
        "app=Dolphin Browser(614), keyword=+\"\uc131\uacbd\"(1276211), both=Dolphin Browser++\"\uc131\uacbd\"(0), pmi=8.894\n",
        "\n",
        "614"
       ]
      },
      {
       "output_type": "stream",
       "stream": "stdout",
       "text": [
        "\n",
        "except 0"
       ]
      },
      {
       "output_type": "stream",
       "stream": "stdout",
       "text": [
        "\n",
        "except 0"
       ]
      },
      {
       "output_type": "stream",
       "stream": "stdout",
       "text": [
        "\n",
        "614"
       ]
      },
      {
       "output_type": "stream",
       "stream": "stdout",
       "text": [
        " 0 0 1000000000.0\n",
        "val=0.0000\n",
        "\n",
        "app=Dolphin Browser(614), keyword=+\"\ucc2c\uc1a1\"(0), both=Dolphin Browser++\"\ucc2c\uc1a1\"(0), pmi=0.000\n",
        "\n",
        "614"
       ]
      },
      {
       "output_type": "stream",
       "stream": "stdout",
       "text": [
        "\n",
        "except 0"
       ]
      },
      {
       "output_type": "stream",
       "stream": "stdout",
       "text": [
        "\n",
        "except 0"
       ]
      },
      {
       "output_type": "stream",
       "stream": "stdout",
       "text": [
        "\n",
        "614"
       ]
      },
      {
       "output_type": "stream",
       "stream": "stdout",
       "text": [
        " 0 0 1000000000.0\n",
        "val=0.0000\n",
        "\n",
        "app=Dolphin Browser(614), keyword=+\"\ubc14\uc774\ube14\"(0), both=Dolphin Browser++\"\ubc14\uc774\ube14\"(0), pmi=0.000\n",
        "\n",
        "614"
       ]
      },
      {
       "output_type": "stream",
       "stream": "stdout",
       "text": [
        "\n",
        "258580"
       ]
      },
      {
       "output_type": "stream",
       "stream": "stdout",
       "text": [
        "\n",
        "except 0"
       ]
      },
      {
       "output_type": "stream",
       "stream": "stdout",
       "text": [
        "\n",
        "614"
       ]
      },
      {
       "output_type": "stream",
       "stream": "stdout",
       "text": [
        " 258580 0 1000000000.0\n",
        "val=158768120.0000\n",
        "\n",
        "app=Dolphin Browser(614), keyword=+\"\ubc31\uc2e0\"(258580), both=Dolphin Browser++\"\ubc31\uc2e0\"(0), pmi=8.201\n",
        "\n",
        "614"
       ]
      },
      {
       "output_type": "stream",
       "stream": "stdout",
       "text": [
        "\n",
        "2226457"
       ]
      },
      {
       "output_type": "stream",
       "stream": "stdout",
       "text": [
        "\n",
        "except 0"
       ]
      },
      {
       "output_type": "stream",
       "stream": "stdout",
       "text": [
        "\n",
        "614"
       ]
      },
      {
       "output_type": "stream",
       "stream": "stdout",
       "text": [
        " 2226457 0 1000000000.0\n",
        "val=1367044598.0000\n",
        "\n",
        "app=Dolphin Browser(614), keyword=+\"\uc6f9\"(2226457), both=Dolphin Browser++\"\uc6f9\"(0), pmi=9.136\n",
        "\n",
        "614"
       ]
      },
      {
       "output_type": "stream",
       "stream": "stdout",
       "text": [
        "\n",
        "1287797"
       ]
      },
      {
       "output_type": "stream",
       "stream": "stdout",
       "text": [
        "\n",
        "except 0"
       ]
      },
      {
       "output_type": "stream",
       "stream": "stdout",
       "text": [
        "\n",
        "614"
       ]
      },
      {
       "output_type": "stream",
       "stream": "stdout",
       "text": [
        " 1287797 0 1000000000.0\n",
        "val=790707358.0000\n",
        "\n",
        "app=Dolphin Browser(614), keyword=+\"\uc2a4\ud2f0\ucee4\"(1287797), both=Dolphin Browser++\"\uc2a4\ud2f0\ucee4\"(0), pmi=8.898\n",
        "\n",
        "614"
       ]
      },
      {
       "output_type": "stream",
       "stream": "stdout",
       "text": [
        "\n",
        "364838"
       ]
      },
      {
       "output_type": "stream",
       "stream": "stdout",
       "text": [
        "\n",
        "except 0"
       ]
      },
      {
       "output_type": "stream",
       "stream": "stdout",
       "text": [
        "\n",
        "614"
       ]
      },
      {
       "output_type": "stream",
       "stream": "stdout",
       "text": [
        " 364838 0 1000000000.0\n",
        "val=224010532.0000\n",
        "\n",
        "app=Dolphin Browser(614), keyword=+\"\uc0ac\uc8fc\"(364838), both=Dolphin Browser++\"\uc0ac\uc8fc\"(0), pmi=8.350\n"
       ]
      },
      {
       "output_type": "stream",
       "stream": "stdout",
       "text": [
        "\n",
        "614"
       ]
      },
      {
       "output_type": "stream",
       "stream": "stdout",
       "text": [
        "\n",
        "229882"
       ]
      },
      {
       "output_type": "stream",
       "stream": "stdout",
       "text": [
        "\n",
        "except 0"
       ]
      },
      {
       "output_type": "stream",
       "stream": "stdout",
       "text": [
        "\n",
        "614"
       ]
      },
      {
       "output_type": "stream",
       "stream": "stdout",
       "text": [
        " 229882 0 1000000000.0\n",
        "val=141147548.0000\n",
        "\n",
        "app=Dolphin Browser(614), keyword=+\"\uc6b4\uc138\"(229882), both=Dolphin Browser++\"\uc6b4\uc138\"(0), pmi=8.150\n",
        "\n",
        "614"
       ]
      },
      {
       "output_type": "stream",
       "stream": "stdout",
       "text": [
        "\n",
        "680913"
       ]
      },
      {
       "output_type": "stream",
       "stream": "stdout",
       "text": [
        "\n",
        "except 0"
       ]
      },
      {
       "output_type": "stream",
       "stream": "stdout",
       "text": [
        "\n",
        "614"
       ]
      },
      {
       "output_type": "stream",
       "stream": "stdout",
       "text": [
        " 680913 0 1000000000.0\n",
        "val=418080582.0000\n",
        "\n",
        "app=Dolphin Browser(614), keyword=+\"\ucf54\ubbf9\"(680913), both=Dolphin Browser++\"\ucf54\ubbf9\"(0), pmi=8.621\n",
        "\n",
        "614"
       ]
      },
      {
       "output_type": "stream",
       "stream": "stdout",
       "text": [
        "\n",
        "1210739"
       ]
      },
      {
       "output_type": "stream",
       "stream": "stdout",
       "text": [
        "\n",
        "except 0"
       ]
      },
      {
       "output_type": "stream",
       "stream": "stdout",
       "text": [
        "\n",
        "614"
       ]
      },
      {
       "output_type": "stream",
       "stream": "stdout",
       "text": [
        " 1210739 0 1000000000.0\n",
        "val=743393746.0000\n",
        "\n",
        "app=Dolphin Browser(614), keyword=+\"3D\"(1210739), both=Dolphin Browser++\"3D\"(0), pmi=8.871\n",
        "\n",
        "614"
       ]
      },
      {
       "output_type": "stream",
       "stream": "stdout",
       "text": [
        "\n",
        "207640"
       ]
      },
      {
       "output_type": "stream",
       "stream": "stdout",
       "text": [
        "\n",
        "except 0"
       ]
      },
      {
       "output_type": "stream",
       "stream": "stdout",
       "text": [
        "\n",
        "614"
       ]
      },
      {
       "output_type": "stream",
       "stream": "stdout",
       "text": [
        " 207640 0 1000000000.0\n",
        "val=127490960.0000\n",
        "\n",
        "app=Dolphin Browser(614), keyword=+\"\ubcc4\uc790\ub9ac\"(207640), both=Dolphin Browser++\"\ubcc4\uc790\ub9ac\"(0), pmi=8.105\n",
        "\n",
        "614"
       ]
      },
      {
       "output_type": "stream",
       "stream": "stdout",
       "text": [
        "\n",
        "212216"
       ]
      },
      {
       "output_type": "stream",
       "stream": "stdout",
       "text": [
        "\n",
        "except 0"
       ]
      },
      {
       "output_type": "stream",
       "stream": "stdout",
       "text": [
        "\n",
        "614"
       ]
      },
      {
       "output_type": "stream",
       "stream": "stdout",
       "text": [
        " 212216 0 1000000000.0\n",
        "val=130300624.0000\n",
        "\n",
        "app=Dolphin Browser(614), keyword=+\"tool\"(212216), both=Dolphin Browser++\"tool\"(0), pmi=8.115\n",
        "\n",
        "614"
       ]
      },
      {
       "output_type": "stream",
       "stream": "stdout",
       "text": [
        "\n",
        "except 0"
       ]
      },
      {
       "output_type": "stream",
       "stream": "stdout",
       "text": [
        "\n",
        "except 0"
       ]
      },
      {
       "output_type": "stream",
       "stream": "stdout",
       "text": [
        "\n",
        "614"
       ]
      },
      {
       "output_type": "stream",
       "stream": "stdout",
       "text": [
        " 0 0 1000000000.0\n",
        "val=0.0000\n",
        "\n",
        "app=Dolphin Browser(614), keyword=+\"\uc6f9\ud230\"(0), both=Dolphin Browser++\"\uc6f9\ud230\"(0), pmi=0.000\n",
        "\n",
        "614"
       ]
      },
      {
       "output_type": "stream",
       "stream": "stdout",
       "text": [
        "\n",
        "except 0"
       ]
      },
      {
       "output_type": "stream",
       "stream": "stdout",
       "text": [
        "\n",
        "except 0"
       ]
      },
      {
       "output_type": "stream",
       "stream": "stdout",
       "text": [
        "\n",
        "614"
       ]
      },
      {
       "output_type": "stream",
       "stream": "stdout",
       "text": [
        " 0 0 1000000000.0\n",
        "val=0.0000\n",
        "\n",
        "app=Dolphin Browser(614), keyword=+\"\ud50c\ub808\uc774\uc5b4\"(0), both=Dolphin Browser++\"\ud50c\ub808\uc774\uc5b4\"(0), pmi=0.000\n"
       ]
      },
      {
       "output_type": "stream",
       "stream": "stdout",
       "text": [
        "\n",
        "614"
       ]
      },
      {
       "output_type": "stream",
       "stream": "stdout",
       "text": [
        "\n",
        "except 0"
       ]
      },
      {
       "output_type": "stream",
       "stream": "stdout",
       "text": [
        "\n",
        "except 0"
       ]
      },
      {
       "output_type": "stream",
       "stream": "stdout",
       "text": [
        "\n",
        "614"
       ]
      },
      {
       "output_type": "stream",
       "stream": "stdout",
       "text": [
        " 0 0 1000000000.0\n",
        "val=0.0000\n",
        "\n",
        "app=Dolphin Browser(614), keyword=+\"\uce74\uba54\ub77c\"(0), both=Dolphin Browser++\"\uce74\uba54\ub77c\"(0), pmi=0.000\n",
        "\n",
        "614"
       ]
      },
      {
       "output_type": "stream",
       "stream": "stdout",
       "text": [
        "\n",
        "except 0"
       ]
      },
      {
       "output_type": "stream",
       "stream": "stdout",
       "text": [
        "\n",
        "except 0"
       ]
      },
      {
       "output_type": "stream",
       "stream": "stdout",
       "text": [
        "\n",
        "614"
       ]
      },
      {
       "output_type": "stream",
       "stream": "stdout",
       "text": [
        " 0 0 1000000000.0\n",
        "val=0.0000\n",
        "\n",
        "app=Dolphin Browser(614), keyword=+\"\ubca8\uc18c\ub9ac\"(0), both=Dolphin Browser++\"\ubca8\uc18c\ub9ac\"(0), pmi=0.000\n",
        "\n",
        "614"
       ]
      },
      {
       "output_type": "stream",
       "stream": "stdout",
       "text": [
        "\n",
        "except 0"
       ]
      },
      {
       "output_type": "stream",
       "stream": "stdout",
       "text": [
        "\n",
        "except 0"
       ]
      },
      {
       "output_type": "stream",
       "stream": "stdout",
       "text": [
        "\n",
        "614"
       ]
      },
      {
       "output_type": "stream",
       "stream": "stdout",
       "text": [
        " 0 0 1000000000.0\n",
        "val=0.0000\n",
        "\n",
        "app=Dolphin Browser(614), keyword=+\"\ud55c\uae00\"(0), both=Dolphin Browser++\"\ud55c\uae00\"(0), pmi=0.000\n",
        "\n",
        "614"
       ]
      },
      {
       "output_type": "stream",
       "stream": "stdout",
       "text": [
        "\n",
        "451853"
       ]
      },
      {
       "output_type": "stream",
       "stream": "stdout",
       "text": [
        "\n",
        "except 0"
       ]
      },
      {
       "output_type": "stream",
       "stream": "stdout",
       "text": [
        "\n",
        "614"
       ]
      },
      {
       "output_type": "stream",
       "stream": "stdout",
       "text": [
        " 451853 0 1000000000.0\n",
        "val=277437742.0000\n",
        "\n",
        "app=Dolphin Browser(614), keyword=+\"\uc624\ud53c\uc2a4\"(451853), both=Dolphin Browser++\"\uc624\ud53c\uc2a4\"(0), pmi=8.443\n",
        "\n",
        "614"
       ]
      },
      {
       "output_type": "stream",
       "stream": "stdout",
       "text": [
        "\n",
        "479017"
       ]
      },
      {
       "output_type": "stream",
       "stream": "stdout",
       "text": [
        "\n",
        "except 0"
       ]
      },
      {
       "output_type": "stream",
       "stream": "stdout",
       "text": [
        "\n",
        "614"
       ]
      },
      {
       "output_type": "stream",
       "stream": "stdout",
       "text": [
        " 479017 0 1000000000.0\n",
        "val=294116438.0000\n",
        "\n",
        "app=Dolphin Browser(614), keyword=+\"office\"(479017), both=Dolphin Browser++\"office\"(0), pmi=8.469\n",
        "\n",
        "614"
       ]
      },
      {
       "output_type": "stream",
       "stream": "stdout",
       "text": [
        "\n",
        "1275072"
       ]
      },
      {
       "output_type": "stream",
       "stream": "stdout",
       "text": [
        "\n",
        "except 0"
       ]
      },
      {
       "output_type": "stream",
       "stream": "stdout",
       "text": [
        "\n",
        "614"
       ]
      },
      {
       "output_type": "stream",
       "stream": "stdout",
       "text": [
        " 1275072 0 1000000000.0\n",
        "val=782894208.0000\n",
        "\n",
        "app=Dolphin Browser(614), keyword=+\"\uc54c\ubc14\"(1275072), both=Dolphin Browser++\"\uc54c\ubc14\"(0), pmi=8.894\n",
        "\n",
        "614"
       ]
      },
      {
       "output_type": "stream",
       "stream": "stdout",
       "text": [
        "\n",
        "except 0"
       ]
      },
      {
       "output_type": "stream",
       "stream": "stdout",
       "text": [
        "\n",
        "except 0"
       ]
      },
      {
       "output_type": "stream",
       "stream": "stdout",
       "text": [
        "\n",
        "614"
       ]
      },
      {
       "output_type": "stream",
       "stream": "stdout",
       "text": [
        " 0 0 1000000000.0\n",
        "val=0.0000\n",
        "\n",
        "app=Dolphin Browser(614), keyword=+\"photo\"(0), both=Dolphin Browser++\"photo\"(0), pmi=0.000\n",
        "\n",
        "614"
       ]
      },
      {
       "output_type": "stream",
       "stream": "stdout",
       "text": [
        "\n",
        "883685"
       ]
      },
      {
       "output_type": "stream",
       "stream": "stdout",
       "text": [
        "\n",
        "except 0"
       ]
      },
      {
       "output_type": "stream",
       "stream": "stdout",
       "text": [
        "\n",
        "614"
       ]
      },
      {
       "output_type": "stream",
       "stream": "stdout",
       "text": [
        " 883685 0 1000000000.0\n",
        "val=542582590.0000\n",
        "\n",
        "app=Dolphin Browser(614), keyword=+\"\ub4dc\ub77c\uc774\ube0c\"(883685), both=Dolphin Browser++\"\ub4dc\ub77c\uc774\ube0c\"(0), pmi=8.734\n",
        "\n",
        "614"
       ]
      },
      {
       "output_type": "stream",
       "stream": "stdout",
       "text": [
        "\n",
        "3698046"
       ]
      },
      {
       "output_type": "stream",
       "stream": "stdout",
       "text": [
        "\n",
        "except 0"
       ]
      },
      {
       "output_type": "stream",
       "stream": "stdout",
       "text": [
        "\n",
        "614"
       ]
      },
      {
       "output_type": "stream",
       "stream": "stdout",
       "text": [
        " 3698046 0 1000000000.0\n",
        "val=2270600244.0000\n",
        "\n",
        "app=Dolphin Browser(614), keyword=+\"\ud30c\uc77c\"(3698046), both=Dolphin Browser++\"\ud30c\uc77c\"(0), pmi=9.356\n",
        "\n",
        "614"
       ]
      },
      {
       "output_type": "stream",
       "stream": "stdout",
       "text": [
        "\n",
        "except 0"
       ]
      },
      {
       "output_type": "stream",
       "stream": "stdout",
       "text": [
        "\n",
        "except 0"
       ]
      },
      {
       "output_type": "stream",
       "stream": "stdout",
       "text": [
        "\n",
        "614"
       ]
      },
      {
       "output_type": "stream",
       "stream": "stdout",
       "text": [
        " 0 0 1000000000.0\n",
        "val=0.0000\n",
        "\n",
        "app=Dolphin Browser(614), keyword=+\"\uac24\ub7ec\ub9ac\"(0), both=Dolphin Browser++\"\uac24\ub7ec\ub9ac\"(0), pmi=0.000\n",
        "\n",
        "614"
       ]
      },
      {
       "output_type": "stream",
       "stream": "stdout",
       "text": [
        "\n",
        "2716618"
       ]
      },
      {
       "output_type": "stream",
       "stream": "stdout",
       "text": [
        "\n",
        "except 0"
       ]
      },
      {
       "output_type": "stream",
       "stream": "stdout",
       "text": [
        "\n",
        "614"
       ]
      },
      {
       "output_type": "stream",
       "stream": "stdout",
       "text": [
        " 2716618 0 1000000000.0\n",
        "val=1668003452.0000\n",
        "\n",
        "app=Dolphin Browser(614), keyword=+\"\uadf8\ub8f9\"(2716618), both=Dolphin Browser++\"\uadf8\ub8f9\"(0), pmi=9.222\n",
        "\n",
        "614"
       ]
      },
      {
       "output_type": "stream",
       "stream": "stdout",
       "text": [
        "\n",
        "110182"
       ]
      },
      {
       "output_type": "stream",
       "stream": "stdout",
       "text": [
        "\n",
        "except 0"
       ]
      },
      {
       "output_type": "stream",
       "stream": "stdout",
       "text": [
        "\n",
        "614"
       ]
      },
      {
       "output_type": "stream",
       "stream": "stdout",
       "text": [
        " 110182 0 1000000000.0\n",
        "val=67651748.0000\n",
        "\n",
        "app=Dolphin Browser(614), keyword=+\"\ubc14\ucf54\ub4dc\"(110182), both=Dolphin Browser++\"\ubc14\ucf54\ub4dc\"(0), pmi=7.830\n",
        "\n",
        "614"
       ]
      },
      {
       "output_type": "stream",
       "stream": "stdout",
       "text": [
        "\n",
        "102122"
       ]
      },
      {
       "output_type": "stream",
       "stream": "stdout",
       "text": [
        "\n",
        "except 0"
       ]
      },
      {
       "output_type": "stream",
       "stream": "stdout",
       "text": [
        "\n",
        "614"
       ]
      },
      {
       "output_type": "stream",
       "stream": "stdout",
       "text": [
        " 102122 0 1000000000.0\n",
        "val=62702908.0000\n",
        "\n",
        "app=Dolphin Browser(614), keyword=+\"\uc2a4\uce90\ub108\"(102122), both=Dolphin Browser++\"\uc2a4\uce90\ub108\"(0), pmi=7.797\n",
        "\n",
        "614"
       ]
      },
      {
       "output_type": "stream",
       "stream": "stdout",
       "text": [
        "\n",
        "180892"
       ]
      },
      {
       "output_type": "stream",
       "stream": "stdout",
       "text": [
        "\n",
        "except 0"
       ]
      },
      {
       "output_type": "stream",
       "stream": "stdout",
       "text": [
        "\n",
        "614"
       ]
      },
      {
       "output_type": "stream",
       "stream": "stdout",
       "text": [
        " 180892 0 1000000000.0\n",
        "val=111067688.0000\n",
        "\n",
        "app=Dolphin Browser(614), keyword=+\"\uc18c\uc15c\ucee4\uba38\uc2a4\"(180892), both=Dolphin Browser++\"\uc18c\uc15c\ucee4\uba38\uc2a4\"(0), pmi=8.046\n",
        "\n",
        "614"
       ]
      },
      {
       "output_type": "stream",
       "stream": "stdout",
       "text": [
        "\n",
        "1042585"
       ]
      },
      {
       "output_type": "stream",
       "stream": "stdout",
       "text": [
        "\n",
        "except 0"
       ]
      },
      {
       "output_type": "stream",
       "stream": "stdout",
       "text": [
        "\n",
        "614"
       ]
      },
      {
       "output_type": "stream",
       "stream": "stdout",
       "text": [
        " 1042585 0 1000000000.0\n",
        "val=640147190.0000\n",
        "\n",
        "app=Dolphin Browser(614), keyword=+\"\uc18c\uc15c\"(1042585), both=Dolphin Browser++\"\uc18c\uc15c\"(0), pmi=8.806\n",
        "\n",
        "614"
       ]
      },
      {
       "output_type": "stream",
       "stream": "stdout",
       "text": [
        "\n",
        "except 0"
       ]
      },
      {
       "output_type": "stream",
       "stream": "stdout",
       "text": [
        "\n",
        "except 0"
       ]
      },
      {
       "output_type": "stream",
       "stream": "stdout",
       "text": [
        "\n",
        "614"
       ]
      },
      {
       "output_type": "stream",
       "stream": "stdout",
       "text": [
        " 0 0 1000000000.0\n",
        "val=0.0000\n",
        "\n",
        "app=Dolphin Browser(614), keyword=+\"\uc131\uc778\"(0), both=Dolphin Browser++\"\uc131\uc778\"(0), pmi=0.000\n",
        "\n",
        "614"
       ]
      },
      {
       "output_type": "stream",
       "stream": "stdout",
       "text": [
        "\n",
        "except 0"
       ]
      },
      {
       "output_type": "stream",
       "stream": "stdout",
       "text": [
        "\n",
        "except 0"
       ]
      },
      {
       "output_type": "stream",
       "stream": "stdout",
       "text": [
        "\n",
        "614"
       ]
      },
      {
       "output_type": "stream",
       "stream": "stdout",
       "text": [
        " 0 0 1000000000.0\n",
        "val=0.0000\n",
        "\n",
        "app=Dolphin Browser(614), keyword=+\"sex\"(0), both=Dolphin Browser++\"sex\"(0), pmi=0.000\n",
        "\n",
        "614"
       ]
      },
      {
       "output_type": "stream",
       "stream": "stdout",
       "text": [
        "\n",
        "3358537"
       ]
      },
      {
       "output_type": "stream",
       "stream": "stdout",
       "text": [
        "\n",
        "except 0"
       ]
      },
      {
       "output_type": "stream",
       "stream": "stdout",
       "text": [
        "\n",
        "614"
       ]
      },
      {
       "output_type": "stream",
       "stream": "stdout",
       "text": [
        " 3358537 0 1000000000.0\n",
        "val=2062141718.0000\n",
        "\n",
        "app=Dolphin Browser(614), keyword=+\"\uc5b4\ub978\"(3358537), both=Dolphin Browser++\"\uc5b4\ub978\"(0), pmi=9.314\n",
        "\n",
        "614"
       ]
      },
      {
       "output_type": "stream",
       "stream": "stdout",
       "text": [
        "\n",
        "except 0"
       ]
      },
      {
       "output_type": "stream",
       "stream": "stdout",
       "text": [
        "\n",
        "except 0"
       ]
      },
      {
       "output_type": "stream",
       "stream": "stdout",
       "text": [
        "\n",
        "614"
       ]
      },
      {
       "output_type": "stream",
       "stream": "stdout",
       "text": [
        " 0 0 1000000000.0\n",
        "val=0.0000\n",
        "\n",
        "app=Dolphin Browser(614), keyword=+\"\uc139\uc2a4\"(0), both=Dolphin Browser++\"\uc139\uc2a4\"(0), pmi=0.000\n",
        "\n"
       ]
      },
      {
       "output_type": "stream",
       "stream": "stdout",
       "text": [
        "\r",
        "app Subway Surfers start\n",
        "except 0"
       ]
      },
      {
       "output_type": "stream",
       "stream": "stdout",
       "text": [
        "\n",
        "except 0"
       ]
      },
      {
       "output_type": "stream",
       "stream": "stdout",
       "text": [
        "\n",
        "except 0"
       ]
      },
      {
       "output_type": "stream",
       "stream": "stdout",
       "text": [
        "\n",
        "0"
       ]
      },
      {
       "output_type": "stream",
       "stream": "stdout",
       "text": [
        " 0 0 1000000000.0\n",
        "val=0.0000\n",
        "\n",
        "app=Subway Surfers(0), keyword=(0), both=Subway Surfers+(0), pmi=0.000\n",
        "\n",
        "except 0"
       ]
      },
      {
       "output_type": "stream",
       "stream": "stdout",
       "text": [
        "\n",
        "444202"
       ]
      },
      {
       "output_type": "stream",
       "stream": "stdout",
       "text": [
        "\n",
        "except 0"
       ]
      },
      {
       "output_type": "stream",
       "stream": "stdout",
       "text": [
        "\n",
        "0"
       ]
      },
      {
       "output_type": "stream",
       "stream": "stdout",
       "text": [
        " 444202 0 1000000000.0\n",
        "val=0.0000\n",
        "\n",
        "app=Subway Surfers(0), keyword=+\"\ufeff\ud37c\uc990\"(444202), both=Subway Surfers++\"\ufeff\ud37c\uc990\"(0), pmi=0.000\n",
        "\n",
        "except 0"
       ]
      },
      {
       "output_type": "stream",
       "stream": "stdout",
       "text": [
        "\n",
        "422522"
       ]
      },
      {
       "output_type": "stream",
       "stream": "stdout",
       "text": [
        "\n",
        "except 0"
       ]
      },
      {
       "output_type": "stream",
       "stream": "stdout",
       "text": [
        "\n",
        "0"
       ]
      },
      {
       "output_type": "stream",
       "stream": "stdout",
       "text": [
        " 422522 0 1000000000.0\n",
        "val=0.0000\n",
        "\n",
        "app=Subway Surfers(0), keyword=+\"\uce90\uc8fc\uc5bc\"(422522), both=Subway Surfers++\"\uce90\uc8fc\uc5bc\"(0), pmi=0.000\n",
        "\n",
        "except 0"
       ]
      },
      {
       "output_type": "stream",
       "stream": "stdout",
       "text": [
        "\n",
        "115392"
       ]
      },
      {
       "output_type": "stream",
       "stream": "stdout",
       "text": [
        "\n",
        "23"
       ]
      },
      {
       "output_type": "stream",
       "stream": "stdout",
       "text": [
        "\n",
        "0"
       ]
      },
      {
       "output_type": "stream",
       "stream": "stdout",
       "text": [
        " 115392 23 1000000000.0\n",
        "val=0.0000\n",
        "\n",
        "app=Subway Surfers(0), keyword=+\"\uc544\ucf00\uc774\ub4dc\"(115392), both=Subway Surfers++\"\uc544\ucf00\uc774\ub4dc\"(23), pmi=0.000\n",
        "\n",
        "417"
       ]
      },
      {
       "output_type": "stream",
       "stream": "stdout",
       "text": [
        "\n",
        "6861728"
       ]
      },
      {
       "output_type": "stream",
       "stream": "stdout",
       "text": [
        "\n",
        "4"
       ]
      },
      {
       "output_type": "stream",
       "stream": "stdout",
       "text": [
        "\n",
        "417"
       ]
      },
      {
       "output_type": "stream",
       "stream": "stdout",
       "text": [
        " 6861728 4 1000000000.0\n",
        "val=0.7153\n",
        "\n",
        "app=Subway Surfers(417), keyword=+\"\uc5ec\uc131\"(6861728), both=Subway Surfers++\"\uc5ec\uc131\"(4), pmi=-0.145\n",
        "\n",
        "417"
       ]
      },
      {
       "output_type": "stream",
       "stream": "stdout",
       "text": [
        "\n",
        "2386983"
       ]
      },
      {
       "output_type": "stream",
       "stream": "stdout",
       "text": [
        "\n",
        "2"
       ]
      },
      {
       "output_type": "stream",
       "stream": "stdout",
       "text": [
        "\n",
        "417"
       ]
      },
      {
       "output_type": "stream",
       "stream": "stdout",
       "text": [
        " 2386983 2 1000000000.0\n",
        "val=0.4977\n",
        "\n",
        "app=Subway Surfers(417), keyword=+\"\ub0a8\uc131\"(2386983), both=Subway Surfers++\"\ub0a8\uc131\"(2), pmi=-0.303\n",
        "\n",
        "417"
       ]
      },
      {
       "output_type": "stream",
       "stream": "stdout",
       "text": [
        "\n",
        "19818118"
       ]
      },
      {
       "output_type": "stream",
       "stream": "stdout",
       "text": [
        "\n",
        "51"
       ]
      },
      {
       "output_type": "stream",
       "stream": "stdout",
       "text": [
        "\n",
        "417"
       ]
      },
      {
       "output_type": "stream",
       "stream": "stdout",
       "text": [
        " 19818118 51 1000000000.0\n",
        "val=0.1620\n",
        "\n",
        "app=Subway Surfers(417), keyword=+\"\uce5c\uad6c\"(19818118), both=Subway Surfers++\"\uce5c\uad6c\"(51), pmi=-0.790\n",
        "\n",
        "417"
       ]
      },
      {
       "output_type": "stream",
       "stream": "stdout",
       "text": [
        "\n",
        "1498603"
       ]
      },
      {
       "output_type": "stream",
       "stream": "stdout",
       "text": [
        "\n",
        "2"
       ]
      },
      {
       "output_type": "stream",
       "stream": "stdout",
       "text": [
        "\n",
        "417"
       ]
      },
      {
       "output_type": "stream",
       "stream": "stdout",
       "text": [
        " 1498603 2 1000000000.0\n",
        "val=0.3125\n",
        "\n",
        "app=Subway Surfers(417), keyword=+\"\uc5f0\uc560\"(1498603), both=Subway Surfers++\"\uc5f0\uc560\"(2), pmi=-0.505\n",
        "\n",
        "417"
       ]
      },
      {
       "output_type": "stream",
       "stream": "stdout",
       "text": [
        "\n",
        "496310"
       ]
      },
      {
       "output_type": "stream",
       "stream": "stdout",
       "text": [
        "\n",
        "2"
       ]
      },
      {
       "output_type": "stream",
       "stream": "stdout",
       "text": [
        "\n",
        "417"
       ]
      },
      {
       "output_type": "stream",
       "stream": "stdout",
       "text": [
        " 496310 2 1000000000.0\n",
        "val=0.1035\n",
        "\n",
        "app=Subway Surfers(417), keyword=+\"\uc5f0\uc608\"(496310), both=Subway Surfers++\"\uc5f0\uc608\"(2), pmi=-0.985\n",
        "\n",
        "417"
       ]
      },
      {
       "output_type": "stream",
       "stream": "stdout",
       "text": [
        "\n",
        "13161841"
       ]
      },
      {
       "output_type": "stream",
       "stream": "stdout",
       "text": [
        "\n",
        "7"
       ]
      },
      {
       "output_type": "stream",
       "stream": "stdout",
       "text": [
        "\n",
        "417"
       ]
      },
      {
       "output_type": "stream",
       "stream": "stdout",
       "text": [
        " 13161841 7 1000000000.0\n",
        "val=0.7841\n",
        "\n",
        "app=Subway Surfers(417), keyword=+\"\uc5bc\uad74\"(13161841), both=Subway Surfers++\"\uc5bc\uad74\"(7), pmi=-0.106\n",
        "\n",
        "417"
       ]
      },
      {
       "output_type": "stream",
       "stream": "stdout",
       "text": [
        "\n",
        "3843455"
       ]
      },
      {
       "output_type": "stream",
       "stream": "stdout",
       "text": [
        "\n",
        "21"
       ]
      },
      {
       "output_type": "stream",
       "stream": "stdout",
       "text": [
        "\n",
        "417"
       ]
      },
      {
       "output_type": "stream",
       "stream": "stdout",
       "text": [
        " 3843455 21 1000000000.0\n",
        "val=0.0763\n",
        "\n",
        "app=Subway Surfers(417), keyword=+\"\uc18d\ub3c4\"(3843455), both=Subway Surfers++\"\uc18d\ub3c4\"(21), pmi=-1.117\n",
        "\n",
        "417"
       ]
      },
      {
       "output_type": "stream",
       "stream": "stdout",
       "text": [
        "\n",
        "11917400"
       ]
      },
      {
       "output_type": "stream",
       "stream": "stdout",
       "text": [
        "\n",
        "73"
       ]
      },
      {
       "output_type": "stream",
       "stream": "stdout",
       "text": [
        "\n",
        "417"
       ]
      },
      {
       "output_type": "stream",
       "stream": "stdout",
       "text": [
        " 11917400 73 1000000000.0\n",
        "val=0.0681\n",
        "\n",
        "app=Subway Surfers(417), keyword=+\"\ub3c8\"(11917400), both=Subway Surfers++\"\ub3c8\"(73), pmi=-1.167\n",
        "\n",
        "417"
       ]
      },
      {
       "output_type": "stream",
       "stream": "stdout",
       "text": [
        "\n",
        "490508"
       ]
      },
      {
       "output_type": "stream",
       "stream": "stdout",
       "text": [
        "\n",
        "6"
       ]
      },
      {
       "output_type": "stream",
       "stream": "stdout",
       "text": [
        "\n",
        "417"
       ]
      },
      {
       "output_type": "stream",
       "stream": "stdout",
       "text": [
        " 490508 6 1000000000.0\n",
        "val=0.0341\n",
        "\n",
        "app=Subway Surfers(417), keyword=+\"\ub79c\ub364\"(490508), both=Subway Surfers++\"\ub79c\ub364\"(6), pmi=-1.467\n",
        "\n",
        "417"
       ]
      },
      {
       "output_type": "stream",
       "stream": "stdout",
       "text": [
        "\n",
        "108963"
       ]
      },
      {
       "output_type": "stream",
       "stream": "stdout",
       "text": [
        "\n",
        "5"
       ]
      },
      {
       "output_type": "stream",
       "stream": "stdout",
       "text": [
        "\n",
        "417"
       ]
      },
      {
       "output_type": "stream",
       "stream": "stdout",
       "text": [
        " 108963 5 1000000000.0\n",
        "val=0.0091\n",
        "\n",
        "app=Subway Surfers(417), keyword=+\"random\"(108963), both=Subway Surfers++\"random\"(5), pmi=-2.042\n",
        "\n",
        "417"
       ]
      },
      {
       "output_type": "stream",
       "stream": "stdout",
       "text": [
        "\n",
        "8506968"
       ]
      },
      {
       "output_type": "stream",
       "stream": "stdout",
       "text": [
        "\n",
        "4"
       ]
      },
      {
       "output_type": "stream",
       "stream": "stdout",
       "text": [
        "\n",
        "417"
       ]
      },
      {
       "output_type": "stream",
       "stream": "stdout",
       "text": [
        " 8506968 4 1000000000.0\n",
        "val=0.8869\n",
        "\n",
        "app=Subway Surfers(417), keyword=+\"\uc74c\uc2dd\"(8506968), both=Subway Surfers++\"\uc74c\uc2dd\"(4), pmi=-0.052\n",
        "\n",
        "417"
       ]
      },
      {
       "output_type": "stream",
       "stream": "stdout",
       "text": [
        "\n",
        "17687474"
       ]
      },
      {
       "output_type": "stream",
       "stream": "stdout",
       "text": [
        "\n",
        "39"
       ]
      },
      {
       "output_type": "stream",
       "stream": "stdout",
       "text": [
        "\n",
        "417"
       ]
      },
      {
       "output_type": "stream",
       "stream": "stdout",
       "text": [
        " 17687474 39 1000000000.0\n",
        "val=0.1891\n",
        "\n",
        "app=Subway Surfers(417), keyword=+\"\ubc29\ubc95\"(17687474), both=Subway Surfers++\"\ubc29\ubc95\"(39), pmi=-0.723\n",
        "\n",
        "417"
       ]
      },
      {
       "output_type": "stream",
       "stream": "stdout",
       "text": [
        "\n",
        "588226"
       ]
      },
      {
       "output_type": "stream",
       "stream": "stdout",
       "text": [
        "\n",
        "44"
       ]
      },
      {
       "output_type": "stream",
       "stream": "stdout",
       "text": [
        "\n",
        "417"
       ]
      },
      {
       "output_type": "stream",
       "stream": "stdout",
       "text": [
        " 588226 44 1000000000.0\n",
        "val=0.0056\n",
        "\n",
        "app=Subway Surfers(417), keyword=+\"\uc548\ub4dc\ub85c\uc774\ub4dc\"(588226), both=Subway Surfers++\"\uc548\ub4dc\ub85c\uc774\ub4dc\"(44), pmi=-2.254\n",
        "\n",
        "417"
       ]
      },
      {
       "output_type": "stream",
       "stream": "stdout",
       "text": [
        "\n",
        "771045"
       ]
      },
      {
       "output_type": "stream",
       "stream": "stdout",
       "text": [
        "\n",
        "18"
       ]
      },
      {
       "output_type": "stream",
       "stream": "stdout",
       "text": [
        "\n",
        "417"
       ]
      },
      {
       "output_type": "stream",
       "stream": "stdout",
       "text": [
        " 771045 18 1000000000.0\n",
        "val=0.0179\n",
        "\n",
        "app=Subway Surfers(417), keyword=+\"\uc544\uc774\ud3f0\"(771045), both=Subway Surfers++\"\uc544\uc774\ud3f0\"(18), pmi=-1.748\n",
        "\n",
        "417"
       ]
      },
      {
       "output_type": "stream",
       "stream": "stdout",
       "text": [
        "\n",
        "223016"
       ]
      },
      {
       "output_type": "stream",
       "stream": "stdout",
       "text": [
        "\n",
        "28"
       ]
      },
      {
       "output_type": "stream",
       "stream": "stdout",
       "text": [
        "\n",
        "417"
       ]
      },
      {
       "output_type": "stream",
       "stream": "stdout",
       "text": [
        " 223016 28 1000000000.0\n",
        "val=0.0033\n",
        "\n",
        "app=Subway Surfers(417), keyword=+\"android\"(223016), both=Subway Surfers++\"android\"(28), pmi=-2.479\n",
        "\n",
        "417"
       ]
      },
      {
       "output_type": "stream",
       "stream": "stdout",
       "text": [
        "\n",
        "448857"
       ]
      },
      {
       "output_type": "stream",
       "stream": "stdout",
       "text": [
        "\n",
        "32"
       ]
      },
      {
       "output_type": "stream",
       "stream": "stdout",
       "text": [
        "\n",
        "417"
       ]
      },
      {
       "output_type": "stream",
       "stream": "stdout",
       "text": [
        " 448857 32 1000000000.0\n",
        "val=0.0058\n",
        "\n",
        "app=Subway Surfers(417), keyword=+\"iphone\"(448857), both=Subway Surfers++\"iphone\"(32), pmi=-2.233\n",
        "\n",
        "417"
       ]
      },
      {
       "output_type": "stream",
       "stream": "stdout",
       "text": [
        "\n",
        "348219"
       ]
      },
      {
       "output_type": "stream",
       "stream": "stdout",
       "text": [
        "\n",
        "1"
       ]
      },
      {
       "output_type": "stream",
       "stream": "stdout",
       "text": [
        "\n",
        "417"
       ]
      },
      {
       "output_type": "stream",
       "stream": "stdout",
       "text": [
        " 348219 1 1000000000.0\n",
        "val=0.1452\n",
        "\n",
        "app=Subway Surfers(417), keyword=+\"\uc624\ub77d\"(348219), both=Subway Surfers++\"\uc624\ub77d\"(1), pmi=-0.838\n",
        "\n",
        "417"
       ]
      },
      {
       "output_type": "stream",
       "stream": "stdout",
       "text": [
        "\n",
        "1396575"
       ]
      },
      {
       "output_type": "stream",
       "stream": "stdout",
       "text": [
        "\n",
        "1"
       ]
      },
      {
       "output_type": "stream",
       "stream": "stdout",
       "text": [
        "\n",
        "417"
       ]
      },
      {
       "output_type": "stream",
       "stream": "stdout",
       "text": [
        " 1396575 1 1000000000.0\n",
        "val=0.5824\n",
        "\n",
        "app=Subway Surfers(417), keyword=+\"\uc2ec\ub9ac\"(1396575), both=Subway Surfers++\"\uc2ec\ub9ac\"(1), pmi=-0.235\n",
        "\n",
        "417"
       ]
      },
      {
       "output_type": "stream",
       "stream": "stdout",
       "text": [
        "\n",
        "1568724"
       ]
      },
      {
       "output_type": "stream",
       "stream": "stdout",
       "text": [
        "\n",
        "1"
       ]
      },
      {
       "output_type": "stream",
       "stream": "stdout",
       "text": [
        "\n",
        "417"
       ]
      },
      {
       "output_type": "stream",
       "stream": "stdout",
       "text": [
        " 1568724 1 1000000000.0\n",
        "val=0.6542\n",
        "\n",
        "app=Subway Surfers(417), keyword=+\"\ubd80\uc790\"(1568724), both=Subway Surfers++\"\ubd80\uc790\"(1), pmi=-0.184\n",
        "\n",
        "417"
       ]
      },
      {
       "output_type": "stream",
       "stream": "stdout",
       "text": [
        "\n",
        "5402173"
       ]
      },
      {
       "output_type": "stream",
       "stream": "stdout",
       "text": [
        "\n",
        "18"
       ]
      },
      {
       "output_type": "stream",
       "stream": "stdout",
       "text": [
        "\n",
        "417"
       ]
      },
      {
       "output_type": "stream",
       "stream": "stdout",
       "text": [
        " 5402173 18 1000000000.0\n",
        "val=0.1252\n",
        "\n",
        "app=Subway Surfers(417), keyword=+\"\uc601\uc5b4\"(5402173), both=Subway Surfers++\"\uc601\uc5b4\"(18), pmi=-0.903\n",
        "\n",
        "417"
       ]
      },
      {
       "output_type": "stream",
       "stream": "stdout",
       "text": [
        "\n",
        "483208"
       ]
      },
      {
       "output_type": "stream",
       "stream": "stdout",
       "text": [
        "\n",
        "2"
       ]
      },
      {
       "output_type": "stream",
       "stream": "stdout",
       "text": [
        "\n",
        "417"
       ]
      },
      {
       "output_type": "stream",
       "stream": "stdout",
       "text": [
        " 483208 2 1000000000.0\n",
        "val=0.1007\n",
        "\n",
        "app=Subway Surfers(417), keyword=+\"\ud1a0\uc775\"(483208), both=Subway Surfers++\"\ud1a0\uc775\"(2), pmi=-0.997\n",
        "\n",
        "417"
       ]
      },
      {
       "output_type": "stream",
       "stream": "stdout",
       "text": [
        "\n",
        "8530764"
       ]
      },
      {
       "output_type": "stream",
       "stream": "stdout",
       "text": [
        "\n",
        "9"
       ]
      },
      {
       "output_type": "stream",
       "stream": "stdout",
       "text": [
        "\n",
        "417"
       ]
      },
      {
       "output_type": "stream",
       "stream": "stdout",
       "text": [
        " 8530764 9 1000000000.0\n",
        "val=0.3953\n",
        "\n",
        "app=Subway Surfers(417), keyword=+\"\uacf5\ubd80\"(8530764), both=Subway Surfers++\"\uacf5\ubd80\"(9), pmi=-0.403\n"
       ]
      },
      {
       "output_type": "stream",
       "stream": "stdout",
       "text": [
        "\n",
        "417"
       ]
      },
      {
       "output_type": "stream",
       "stream": "stdout",
       "text": [
        "\n",
        "5445725"
       ]
      },
      {
       "output_type": "stream",
       "stream": "stdout",
       "text": [
        "\n",
        "17"
       ]
      },
      {
       "output_type": "stream",
       "stream": "stdout",
       "text": [
        "\n",
        "417"
       ]
      },
      {
       "output_type": "stream",
       "stream": "stdout",
       "text": [
        " 5445725 17 1000000000.0\n",
        "val=0.1336\n",
        "\n",
        "app=Subway Surfers(417), keyword=+\"\uc77c\uc815\"(5445725), both=Subway Surfers++\"\uc77c\uc815\"(17), pmi=-0.874\n",
        "\n",
        "417"
       ]
      },
      {
       "output_type": "stream",
       "stream": "stdout",
       "text": [
        "\n",
        "580894"
       ]
      },
      {
       "output_type": "stream",
       "stream": "stdout",
       "text": [
        "\n",
        "2"
       ]
      },
      {
       "output_type": "stream",
       "stream": "stdout",
       "text": [
        "\n",
        "417"
       ]
      },
      {
       "output_type": "stream",
       "stream": "stdout",
       "text": [
        " 580894 2 1000000000.0\n",
        "val=0.1211\n",
        "\n",
        "app=Subway Surfers(417), keyword=+\"\ub2ec\ub825\"(580894), both=Subway Surfers++\"\ub2ec\ub825\"(2), pmi=-0.917\n",
        "\n",
        "417"
       ]
      },
      {
       "output_type": "stream",
       "stream": "stdout",
       "text": [
        "\n",
        "8137796"
       ]
      },
      {
       "output_type": "stream",
       "stream": "stdout",
       "text": [
        "\n",
        "6"
       ]
      },
      {
       "output_type": "stream",
       "stream": "stdout",
       "text": [
        "\n",
        "417"
       ]
      },
      {
       "output_type": "stream",
       "stream": "stdout",
       "text": [
        " 8137796 6 1000000000.0\n",
        "val=0.5656\n",
        "\n",
        "app=Subway Surfers(417), keyword=+\"\uacc4\ud68d\"(8137796), both=Subway Surfers++\"\uacc4\ud68d\"(6), pmi=-0.248\n",
        "\n",
        "417"
       ]
      },
      {
       "output_type": "stream",
       "stream": "stdout",
       "text": [
        "\n",
        "1109615"
       ]
      },
      {
       "output_type": "stream",
       "stream": "stdout",
       "text": [
        "\n",
        "29"
       ]
      },
      {
       "output_type": "stream",
       "stream": "stdout",
       "text": [
        "\n",
        "417"
       ]
      },
      {
       "output_type": "stream",
       "stream": "stdout",
       "text": [
        " 1109615 29 1000000000.0\n",
        "val=0.0160\n",
        "\n",
        "app=Subway Surfers(417), keyword=+\"\uacf5\ub7b5\"(1109615), both=Subway Surfers++\"\uacf5\ub7b5\"(29), pmi=-1.797\n",
        "\n",
        "417"
       ]
      },
      {
       "output_type": "stream",
       "stream": "stdout",
       "text": [
        "\n",
        "358302"
       ]
      },
      {
       "output_type": "stream",
       "stream": "stdout",
       "text": [
        "\n",
        "19"
       ]
      },
      {
       "output_type": "stream",
       "stream": "stdout",
       "text": [
        "\n",
        "417"
       ]
      },
      {
       "output_type": "stream",
       "stream": "stdout",
       "text": [
        " 358302 19 1000000000.0\n",
        "val=0.0079\n",
        "\n",
        "app=Subway Surfers(417), keyword=+\"\ub808\uc774\uc2f1\"(358302), both=Subway Surfers++\"\ub808\uc774\uc2f1\"(19), pmi=-2.104\n",
        "\n",
        "417"
       ]
      },
      {
       "output_type": "stream",
       "stream": "stdout",
       "text": [
        "\n",
        "209271"
       ]
      },
      {
       "output_type": "stream",
       "stream": "stdout",
       "text": [
        "\n",
        "19"
       ]
      },
      {
       "output_type": "stream",
       "stream": "stdout",
       "text": [
        "\n",
        "417"
       ]
      },
      {
       "output_type": "stream",
       "stream": "stdout",
       "text": [
        " 209271 19 1000000000.0\n",
        "val=0.0046\n",
        "\n",
        "app=Subway Surfers(417), keyword=+\"RPG\"(209271), both=Subway Surfers++\"RPG\"(19), pmi=-2.338\n",
        "\n",
        "417"
       ]
      },
      {
       "output_type": "stream",
       "stream": "stdout",
       "text": [
        "\n",
        "5037737"
       ]
      },
      {
       "output_type": "stream",
       "stream": "stdout",
       "text": [
        "\n",
        "8"
       ]
      },
      {
       "output_type": "stream",
       "stream": "stdout",
       "text": [
        "\n",
        "417"
       ]
      },
      {
       "output_type": "stream",
       "stream": "stdout",
       "text": [
        " 5037737 8 1000000000.0\n",
        "val=0.2626\n",
        "\n",
        "app=Subway Surfers(417), keyword=+\"\uce74\ub4dc\"(5037737), both=Subway Surfers++\"\uce74\ub4dc\"(8), pmi=-0.581\n",
        "\n",
        "417"
       ]
      },
      {
       "output_type": "stream",
       "stream": "stdout",
       "text": [
        "\n",
        "100548"
       ]
      },
      {
       "output_type": "stream",
       "stream": "stdout",
       "text": [
        "\n",
        "2"
       ]
      },
      {
       "output_type": "stream",
       "stream": "stdout",
       "text": [
        "\n",
        "417"
       ]
      },
      {
       "output_type": "stream",
       "stream": "stdout",
       "text": [
        " 100548 2 1000000000.0\n",
        "val=0.0210\n",
        "\n",
        "app=Subway Surfers(417), keyword=+\"\ub514\ud39c\uc2a4\"(100548), both=Subway Surfers++\"\ub514\ud39c\uc2a4\"(2), pmi=-1.679\n",
        "\n",
        "417"
       ]
      },
      {
       "output_type": "stream",
       "stream": "stdout",
       "text": [
        "\n",
        "547807"
       ]
      },
      {
       "output_type": "stream",
       "stream": "stdout",
       "text": [
        "\n",
        "2"
       ]
      },
      {
       "output_type": "stream",
       "stream": "stdout",
       "text": [
        "\n",
        "417"
       ]
      },
      {
       "output_type": "stream",
       "stream": "stdout",
       "text": [
        " 547807 2 1000000000.0\n",
        "val=0.1142\n",
        "\n",
        "app=Subway Surfers(417), keyword=+\"\ub450\ub1cc\"(547807), both=Subway Surfers++\"\ub450\ub1cc\"(2), pmi=-0.942\n",
        "\n",
        "417"
       ]
      },
      {
       "output_type": "stream",
       "stream": "stdout",
       "text": [
        "\n",
        "23082"
       ]
      },
      {
       "output_type": "stream",
       "stream": "stdout",
       "text": [
        "\n",
        "1"
       ]
      },
      {
       "output_type": "stream",
       "stream": "stdout",
       "text": [
        "\n",
        "417"
       ]
      },
      {
       "output_type": "stream",
       "stream": "stdout",
       "text": [
        " 23082 1 1000000000.0\n",
        "val=0.0096\n",
        "\n",
        "app=Subway Surfers(417), keyword=+\"\uc2dc\ubbac\"(23082), both=Subway Surfers++\"\uc2dc\ubbac\"(1), pmi=-2.017\n",
        "\n",
        "417"
       ]
      },
      {
       "output_type": "stream",
       "stream": "stdout",
       "text": [
        "\n",
        "642023"
       ]
      },
      {
       "output_type": "stream",
       "stream": "stdout",
       "text": [
        "\n",
        "22"
       ]
      },
      {
       "output_type": "stream",
       "stream": "stdout",
       "text": [
        "\n",
        "417"
       ]
      },
      {
       "output_type": "stream",
       "stream": "stdout",
       "text": [
        " 642023 22 1000000000.0\n",
        "val=0.0122\n",
        "\n",
        "app=Subway Surfers(417), keyword=+\"\ub2ec\ub9ac\uae30\"(642023), both=Subway Surfers++\"\ub2ec\ub9ac\uae30\"(22), pmi=-1.915\n",
        "\n",
        "417"
       ]
      },
      {
       "output_type": "stream",
       "stream": "stdout",
       "text": [
        "\n",
        "230541"
       ]
      },
      {
       "output_type": "stream",
       "stream": "stdout",
       "text": [
        "\n",
        "4"
       ]
      },
      {
       "output_type": "stream",
       "stream": "stdout",
       "text": [
        "\n",
        "417"
       ]
      },
      {
       "output_type": "stream",
       "stream": "stdout",
       "text": [
        " 230541 4 1000000000.0\n",
        "val=0.0240\n",
        "\n",
        "app=Subway Surfers(417), keyword=+\"\uc288\ud305\"(230541), both=Subway Surfers++\"\uc288\ud305\"(4), pmi=-1.619\n",
        "\n",
        "417"
       ]
      },
      {
       "output_type": "stream",
       "stream": "stdout",
       "text": [
        "\n",
        "1745980"
       ]
      },
      {
       "output_type": "stream",
       "stream": "stdout",
       "text": [
        "\n",
        "4"
       ]
      },
      {
       "output_type": "stream",
       "stream": "stdout",
       "text": [
        "\n",
        "417"
       ]
      },
      {
       "output_type": "stream",
       "stream": "stdout",
       "text": [
        " 1745980 4 1000000000.0\n",
        "val=0.1820\n",
        "\n",
        "app=Subway Surfers(417), keyword=+\"\ucd95\uad6c\"(1745980), both=Subway Surfers++\"\ucd95\uad6c\"(4), pmi=-0.740\n",
        "\n",
        "417"
       ]
      },
      {
       "output_type": "stream",
       "stream": "stdout",
       "text": [
        "\n",
        "1831241"
       ]
      },
      {
       "output_type": "stream",
       "stream": "stdout",
       "text": [
        "\n",
        "2"
       ]
      },
      {
       "output_type": "stream",
       "stream": "stdout",
       "text": [
        "\n",
        "417"
       ]
      },
      {
       "output_type": "stream",
       "stream": "stdout",
       "text": [
        " 1831241 2 1000000000.0\n",
        "val=0.3818\n",
        "\n",
        "app=Subway Surfers(417), keyword=+\"\uacbd\uc601\"(1831241), both=Subway Surfers++\"\uacbd\uc601\"(2), pmi=-0.418\n",
        "\n",
        "417"
       ]
      },
      {
       "output_type": "stream",
       "stream": "stdout",
       "text": [
        "\n",
        "32917"
       ]
      },
      {
       "output_type": "stream",
       "stream": "stdout",
       "text": [
        "\n",
        "1"
       ]
      },
      {
       "output_type": "stream",
       "stream": "stdout",
       "text": [
        "\n",
        "417"
       ]
      },
      {
       "output_type": "stream",
       "stream": "stdout",
       "text": [
        " 32917 1 1000000000.0\n",
        "val=0.0137\n",
        "\n",
        "app=Subway Surfers(417), keyword=+\"\ud0c0\uc774\ucfe4\"(32917), both=Subway Surfers++\"\ud0c0\uc774\ucfe4\"(1), pmi=-1.862\n",
        "\n",
        "417"
       ]
      },
      {
       "output_type": "stream",
       "stream": "stdout",
       "text": [
        "\n",
        "1170301"
       ]
      },
      {
       "output_type": "stream",
       "stream": "stdout",
       "text": [
        "\n",
        "11"
       ]
      },
      {
       "output_type": "stream",
       "stream": "stdout",
       "text": [
        "\n",
        "417"
       ]
      },
      {
       "output_type": "stream",
       "stream": "stdout",
       "text": [
        " 1170301 11 1000000000.0\n",
        "val=0.0444\n",
        "\n",
        "app=Subway Surfers(417), keyword=+\"\ud0c8\ucd9c\"(1170301), both=Subway Surfers++\"\ud0c8\ucd9c\"(11), pmi=-1.353\n",
        "\n",
        "417"
       ]
      },
      {
       "output_type": "stream",
       "stream": "stdout",
       "text": [
        "\n",
        "391513"
       ]
      },
      {
       "output_type": "stream",
       "stream": "stdout",
       "text": [
        "\n",
        "except 0"
       ]
      },
      {
       "output_type": "stream",
       "stream": "stdout",
       "text": [
        "\n",
        "417"
       ]
      },
      {
       "output_type": "stream",
       "stream": "stdout",
       "text": [
        " 391513 0 1000000000.0\n",
        "val=163260921.0000\n",
        "\n",
        "app=Subway Surfers(417), keyword=+\"\ucd94\ub9ac\"(391513), both=Subway Surfers++\"\ucd94\ub9ac\"(0), pmi=8.213\n",
        "\n",
        "417"
       ]
      },
      {
       "output_type": "stream",
       "stream": "stdout",
       "text": [
        "\n",
        "1488631"
       ]
      },
      {
       "output_type": "stream",
       "stream": "stdout",
       "text": [
        "\n",
        "3"
       ]
      },
      {
       "output_type": "stream",
       "stream": "stdout",
       "text": [
        "\n",
        "417"
       ]
      },
      {
       "output_type": "stream",
       "stream": "stdout",
       "text": [
        " 1488631 3 1000000000.0\n",
        "val=0.2069\n",
        "\n",
        "app=Subway Surfers(417), keyword=+\"\uc7a5\uae30\"(1488631), both=Subway Surfers++\"\uc7a5\uae30\"(3), pmi=-0.684\n",
        "\n",
        "417"
       ]
      },
      {
       "output_type": "stream",
       "stream": "stdout",
       "text": [
        "\n",
        "1958818"
       ]
      },
      {
       "output_type": "stream",
       "stream": "stdout",
       "text": [
        "\n",
        "5"
       ]
      },
      {
       "output_type": "stream",
       "stream": "stdout",
       "text": [
        "\n",
        "417"
       ]
      },
      {
       "output_type": "stream",
       "stream": "stdout",
       "text": [
        " 1958818 5 1000000000.0\n",
        "val=0.1634\n",
        "\n",
        "app=Subway Surfers(417), keyword=+\"\ube44\ud589\uae30\"(1958818), both=Subway Surfers++\"\ube44\ud589\uae30\"(5), pmi=-0.787\n",
        "\n",
        "417"
       ]
      },
      {
       "output_type": "stream",
       "stream": "stdout",
       "text": [
        "\n",
        "33753"
       ]
      },
      {
       "output_type": "stream",
       "stream": "stdout",
       "text": [
        "\n",
        "1"
       ]
      },
      {
       "output_type": "stream",
       "stream": "stdout",
       "text": [
        "\n",
        "417"
       ]
      },
      {
       "output_type": "stream",
       "stream": "stdout",
       "text": [
        " 33753 1 1000000000.0\n",
        "val=0.0141\n",
        "\n",
        "app=Subway Surfers(417), keyword=+\"\uc0ac\ucc9c\uc131\"(33753), both=Subway Surfers++\"\uc0ac\ucc9c\uc131\"(1), pmi=-1.852\n",
        "\n",
        "417"
       ]
      },
      {
       "output_type": "stream",
       "stream": "stdout",
       "text": [
        "\n",
        "2493670"
       ]
      },
      {
       "output_type": "stream",
       "stream": "stdout",
       "text": [
        "\n",
        "7"
       ]
      },
      {
       "output_type": "stream",
       "stream": "stdout",
       "text": [
        "\n",
        "417"
       ]
      },
      {
       "output_type": "stream",
       "stream": "stdout",
       "text": [
        " 2493670 7 1000000000.0\n",
        "val=0.1486\n",
        "\n",
        "app=Subway Surfers(417), keyword=+\"\uc2a4\ud3ec\uce20\"(2493670), both=Subway Surfers++\"\uc2a4\ud3ec\uce20\"(7), pmi=-0.828\n",
        "\n",
        "417"
       ]
      },
      {
       "output_type": "stream",
       "stream": "stdout",
       "text": [
        "\n",
        "493889"
       ]
      },
      {
       "output_type": "stream",
       "stream": "stdout",
       "text": [
        "\n",
        "except 0"
       ]
      },
      {
       "output_type": "stream",
       "stream": "stdout",
       "text": [
        "\n",
        "417"
       ]
      },
      {
       "output_type": "stream",
       "stream": "stdout",
       "text": [
        " 493889 0 1000000000.0\n",
        "val=205951713.0000\n",
        "\n",
        "app=Subway Surfers(417), keyword=+\"\ub18d\uad6c\"(493889), both=Subway Surfers++\"\ub18d\uad6c\"(0), pmi=8.314\n",
        "\n",
        "417"
       ]
      },
      {
       "output_type": "stream",
       "stream": "stdout",
       "text": [
        "\n",
        "1186120"
       ]
      },
      {
       "output_type": "stream",
       "stream": "stdout",
       "text": [
        "\n",
        "2"
       ]
      },
      {
       "output_type": "stream",
       "stream": "stdout",
       "text": [
        "\n",
        "417"
       ]
      },
      {
       "output_type": "stream",
       "stream": "stdout",
       "text": [
        " 1186120 2 1000000000.0\n",
        "val=0.2473\n",
        "\n",
        "app=Subway Surfers(417), keyword=+\"\ub09a\uc2dc\"(1186120), both=Subway Surfers++\"\ub09a\uc2dc\"(2), pmi=-0.607\n",
        "\n",
        "417"
       ]
      },
      {
       "output_type": "stream",
       "stream": "stdout",
       "text": [
        "\n",
        "7514101"
       ]
      },
      {
       "output_type": "stream",
       "stream": "stdout",
       "text": [
        "\n",
        "13"
       ]
      },
      {
       "output_type": "stream",
       "stream": "stdout",
       "text": [
        "\n",
        "417"
       ]
      },
      {
       "output_type": "stream",
       "stream": "stdout",
       "text": [
        " 7514101 13 1000000000.0\n",
        "val=0.2410\n",
        "\n",
        "app=Subway Surfers(417), keyword=+\"\uc74c\uc545\"(7514101), both=Subway Surfers++\"\uc74c\uc545\"(13), pmi=-0.618\n",
        "\n",
        "417"
       ]
      },
      {
       "output_type": "stream",
       "stream": "stdout",
       "text": [
        "\n",
        "1021113"
       ]
      },
      {
       "output_type": "stream",
       "stream": "stdout",
       "text": [
        "\n",
        "9"
       ]
      },
      {
       "output_type": "stream",
       "stream": "stdout",
       "text": [
        "\n",
        "417"
       ]
      },
      {
       "output_type": "stream",
       "stream": "stdout",
       "text": [
        " 1021113 9 1000000000.0\n",
        "val=0.0473\n",
        "\n",
        "app=Subway Surfers(417), keyword=+\"\uce74\ud1a1\"(1021113), both=Subway Surfers++\"\uce74\ud1a1\"(9), pmi=-1.325\n",
        "\n",
        "417"
       ]
      },
      {
       "output_type": "stream",
       "stream": "stdout",
       "text": [
        "\n",
        "1043437"
       ]
      },
      {
       "output_type": "stream",
       "stream": "stdout",
       "text": [
        "\n",
        "1"
       ]
      },
      {
       "output_type": "stream",
       "stream": "stdout",
       "text": [
        "\n",
        "417"
       ]
      },
      {
       "output_type": "stream",
       "stream": "stdout",
       "text": [
        " 1043437 1 1000000000.0\n",
        "val=0.4351\n",
        "\n",
        "app=Subway Surfers(417), keyword=+\"\uace8\ud504\"(1043437), both=Subway Surfers++\"\uace8\ud504\"(1), pmi=-0.361\n",
        "\n",
        "417"
       ]
      },
      {
       "output_type": "stream",
       "stream": "stdout",
       "text": [
        "\n",
        "121692"
       ]
      },
      {
       "output_type": "stream",
       "stream": "stdout",
       "text": [
        "\n",
        "2"
       ]
      },
      {
       "output_type": "stream",
       "stream": "stdout",
       "text": [
        "\n",
        "417"
       ]
      },
      {
       "output_type": "stream",
       "stream": "stdout",
       "text": [
        " 121692 2 1000000000.0\n",
        "val=0.0254\n",
        "\n",
        "app=Subway Surfers(417), keyword=+\"\ub2f9\uad6c\"(121692), both=Subway Surfers++\"\ub2f9\uad6c\"(2), pmi=-1.596\n"
       ]
      },
      {
       "output_type": "stream",
       "stream": "stdout",
       "text": [
        "\n",
        "417"
       ]
      },
      {
       "output_type": "stream",
       "stream": "stdout",
       "text": [
        "\n",
        "1395638"
       ]
      },
      {
       "output_type": "stream",
       "stream": "stdout",
       "text": [
        "\n",
        "4"
       ]
      },
      {
       "output_type": "stream",
       "stream": "stdout",
       "text": [
        "\n",
        "417"
       ]
      },
      {
       "output_type": "stream",
       "stream": "stdout",
       "text": [
        " 1395638 4 1000000000.0\n",
        "val=0.1455\n",
        "\n",
        "app=Subway Surfers(417), keyword=+\"\uc57c\uad6c\"(1395638), both=Subway Surfers++\"\uc57c\uad6c\"(4), pmi=-0.837\n",
        "\n",
        "417"
       ]
      },
      {
       "output_type": "stream",
       "stream": "stdout",
       "text": [
        "\n",
        "120180"
       ]
      },
      {
       "output_type": "stream",
       "stream": "stdout",
       "text": [
        "\n",
        "except 0"
       ]
      },
      {
       "output_type": "stream",
       "stream": "stdout",
       "text": [
        "\n",
        "417"
       ]
      },
      {
       "output_type": "stream",
       "stream": "stdout",
       "text": [
        " 120180 0 1000000000.0\n",
        "val=50115060.0000\n",
        "\n",
        "app=Subway Surfers(417), keyword=+\"\ubcfc\ub9c1\"(120180), both=Subway Surfers++\"\ubcfc\ub9c1\"(0), pmi=7.700\n",
        "\n",
        "417"
       ]
      },
      {
       "output_type": "stream",
       "stream": "stdout",
       "text": [
        "\n",
        "1768"
       ]
      },
      {
       "output_type": "stream",
       "stream": "stdout",
       "text": [
        "\n",
        "except 0"
       ]
      },
      {
       "output_type": "stream",
       "stream": "stdout",
       "text": [
        "\n",
        "417"
       ]
      },
      {
       "output_type": "stream",
       "stream": "stdout",
       "text": [
        " 1768 0 1000000000.0\n",
        "val=737256.0000\n",
        "\n",
        "app=Subway Surfers(417), keyword=+\"\ud14c\uc774\uc2a4\"(1768), both=Subway Surfers++\"\ud14c\uc774\uc2a4\"(0), pmi=5.868\n",
        "\n",
        "417"
       ]
      },
      {
       "output_type": "stream",
       "stream": "stdout",
       "text": [
        "\n",
        "238841"
       ]
      },
      {
       "output_type": "stream",
       "stream": "stdout",
       "text": [
        "\n",
        "1"
       ]
      },
      {
       "output_type": "stream",
       "stream": "stdout",
       "text": [
        "\n",
        "417"
       ]
      },
      {
       "output_type": "stream",
       "stream": "stdout",
       "text": [
        " 238841 1 1000000000.0\n",
        "val=0.0996\n",
        "\n",
        "app=Subway Surfers(417), keyword=+\"\uc0bc\uad6d\uc9c0\"(238841), both=Subway Surfers++\"\uc0bc\uad6d\uc9c0\"(1), pmi=-1.002\n"
       ]
      },
      {
       "output_type": "stream",
       "stream": "stdout",
       "text": [
        "\n",
        "417"
       ]
      },
      {
       "output_type": "stream",
       "stream": "stdout",
       "text": [
        "\n",
        "24214"
       ]
      },
      {
       "output_type": "stream",
       "stream": "stdout",
       "text": [
        "\n",
        "except 0"
       ]
      },
      {
       "output_type": "stream",
       "stream": "stdout",
       "text": [
        "\n",
        "417"
       ]
      },
      {
       "output_type": "stream",
       "stream": "stdout",
       "text": [
        " 24214 0 1000000000.0\n",
        "val=10097238.0000\n",
        "\n",
        "app=Subway Surfers(417), keyword=+\"TCG\"(24214), both=Subway Surfers++\"TCG\"(0), pmi=7.004\n",
        "\n",
        "417"
       ]
      },
      {
       "output_type": "stream",
       "stream": "stdout",
       "text": [
        "\n",
        "3481093"
       ]
      },
      {
       "output_type": "stream",
       "stream": "stdout",
       "text": [
        "\n",
        "7"
       ]
      },
      {
       "output_type": "stream",
       "stream": "stdout",
       "text": [
        "\n",
        "417"
       ]
      },
      {
       "output_type": "stream",
       "stream": "stdout",
       "text": [
        " 3481093 7 1000000000.0\n",
        "val=0.2074\n",
        "\n",
        "app=Subway Surfers(417), keyword=+\"\uc804\uc7c1\"(3481093), both=Subway Surfers++\"\uc804\uc7c1\"(7), pmi=-0.683\n"
       ]
      },
      {
       "output_type": "stream",
       "stream": "stdout",
       "text": [
        "\n",
        "417"
       ]
      },
      {
       "output_type": "stream",
       "stream": "stdout",
       "text": [
        "\n",
        "9385353"
       ]
      },
      {
       "output_type": "stream",
       "stream": "stdout",
       "text": [
        "\n",
        "5"
       ]
      },
      {
       "output_type": "stream",
       "stream": "stdout",
       "text": [
        "\n",
        "417"
       ]
      },
      {
       "output_type": "stream",
       "stream": "stdout",
       "text": [
        " 9385353 5 1000000000.0\n",
        "val=0.7827\n",
        "\n",
        "app=Subway Surfers(417), keyword=+\"\uac74\uac15\"(9385353), both=Subway Surfers++\"\uac74\uac15\"(5), pmi=-0.106\n",
        "\n",
        "417"
       ]
      },
      {
       "output_type": "stream",
       "stream": "stdout",
       "text": [
        "\n",
        "6675458"
       ]
      },
      {
       "output_type": "stream",
       "stream": "stdout",
       "text": [
        "\n",
        "6"
       ]
      },
      {
       "output_type": "stream",
       "stream": "stdout",
       "text": [
        "\n",
        "417"
       ]
      },
      {
       "output_type": "stream",
       "stream": "stdout",
       "text": [
        " 6675458 6 1000000000.0\n",
        "val=0.4639\n",
        "\n",
        "app=Subway Surfers(417), keyword=+\"\uc6b4\ub3d9\"(6675458), both=Subway Surfers++\"\uc6b4\ub3d9\"(6), pmi=-0.334\n",
        "\n",
        "417"
       ]
      },
      {
       "output_type": "stream",
       "stream": "stdout",
       "text": [
        "\n",
        "7017880"
       ]
      },
      {
       "output_type": "stream",
       "stream": "stdout",
       "text": [
        "\n",
        "6"
       ]
      },
      {
       "output_type": "stream",
       "stream": "stdout",
       "text": [
        "\n",
        "417"
       ]
      },
      {
       "output_type": "stream",
       "stream": "stdout",
       "text": [
        " 7017880 6 1000000000.0\n",
        "val=0.4877\n",
        "\n",
        "app=Subway Surfers(417), keyword=+\"\uad50\uc721\"(7017880), both=Subway Surfers++\"\uad50\uc721\"(6), pmi=-0.312\n",
        "\n",
        "417"
       ]
      },
      {
       "output_type": "stream",
       "stream": "stdout",
       "text": [
        "\n",
        "3744895"
       ]
      },
      {
       "output_type": "stream",
       "stream": "stdout",
       "text": [
        "\n",
        "6"
       ]
      },
      {
       "output_type": "stream",
       "stream": "stdout",
       "text": [
        "\n",
        "417"
       ]
      },
      {
       "output_type": "stream",
       "stream": "stdout",
       "text": [
        " 3744895 6 1000000000.0\n",
        "val=0.2603\n",
        "\n",
        "app=Subway Surfers(417), keyword=+\"\uad50\ud1b5\"(3744895), both=Subway Surfers++\"\uad50\ud1b5\"(6), pmi=-0.585\n",
        "\n",
        "417"
       ]
      },
      {
       "output_type": "stream",
       "stream": "stdout",
       "text": [
        "\n",
        "1799884"
       ]
      },
      {
       "output_type": "stream",
       "stream": "stdout",
       "text": [
        "\n",
        "1"
       ]
      },
      {
       "output_type": "stream",
       "stream": "stdout",
       "text": [
        "\n",
        "417"
       ]
      },
      {
       "output_type": "stream",
       "stream": "stdout",
       "text": [
        " 1799884 1 1000000000.0\n",
        "val=0.7506\n",
        "\n",
        "app=Subway Surfers(417), keyword=+\"\uae08\uc735\"(1799884), both=Subway Surfers++\"\uae08\uc735\"(1), pmi=-0.125\n",
        "\n",
        "417"
       ]
      },
      {
       "output_type": "stream",
       "stream": "stdout",
       "text": [
        "\n",
        "8419356"
       ]
      },
      {
       "output_type": "stream",
       "stream": "stdout",
       "text": [
        "\n",
        "8"
       ]
      },
      {
       "output_type": "stream",
       "stream": "stdout",
       "text": [
        "\n",
        "417"
       ]
      },
      {
       "output_type": "stream",
       "stream": "stdout",
       "text": [
        " 8419356 8 1000000000.0\n",
        "val=0.4389\n",
        "\n",
        "app=Subway Surfers(417), keyword=+\"\ub0a0\uc528\"(8419356), both=Subway Surfers++\"\ub0a0\uc528\"(8), pmi=-0.358\n",
        "\n",
        "417"
       ]
      },
      {
       "output_type": "stream",
       "stream": "stdout",
       "text": [
        "\n",
        "5579186"
       ]
      },
      {
       "output_type": "stream",
       "stream": "stdout",
       "text": [
        "\n",
        "4"
       ]
      },
      {
       "output_type": "stream",
       "stream": "stdout",
       "text": [
        "\n",
        "417"
       ]
      },
      {
       "output_type": "stream",
       "stream": "stdout",
       "text": [
        " 5579186 4 1000000000.0\n",
        "val=0.5816\n",
        "\n",
        "app=Subway Surfers(417), keyword=+\"\ub274\uc2a4\"(5579186), both=Subway Surfers++\"\ub274\uc2a4\"(4), pmi=-0.235\n",
        "\n",
        "417"
       ]
      },
      {
       "output_type": "stream",
       "stream": "stdout",
       "text": [
        "\n",
        "2004213"
       ]
      },
      {
       "output_type": "stream",
       "stream": "stdout",
       "text": [
        "\n",
        "1"
       ]
      },
      {
       "output_type": "stream",
       "stream": "stdout",
       "text": [
        "\n",
        "417"
       ]
      },
      {
       "output_type": "stream",
       "stream": "stdout",
       "text": [
        " 2004213 1 1000000000.0\n",
        "val=0.8358\n",
        "\n",
        "app=Subway Surfers(417), keyword=+\"\uc7a1\uc9c0\"(2004213), both=Subway Surfers++\"\uc7a1\uc9c0\"(1), pmi=-0.078\n",
        "\n",
        "417"
       ]
      },
      {
       "output_type": "stream",
       "stream": "stdout",
       "text": [
        "\n",
        "123934"
       ]
      },
      {
       "output_type": "stream",
       "stream": "stdout",
       "text": [
        "\n",
        "except 0"
       ]
      },
      {
       "output_type": "stream",
       "stream": "stdout",
       "text": [
        "\n",
        "417"
       ]
      },
      {
       "output_type": "stream",
       "stream": "stdout",
       "text": [
        " 123934 0 1000000000.0\n",
        "val=51680478.0000\n",
        "\n",
        "app=Subway Surfers(417), keyword=+\"\ub370\ucf54\ub808\uc774\uc158\"(123934), both=Subway Surfers++\"\ub370\ucf54\ub808\uc774\uc158\"(0), pmi=7.713\n",
        "\n",
        "417"
       ]
      },
      {
       "output_type": "stream",
       "stream": "stdout",
       "text": [
        "\n",
        "1807821"
       ]
      },
      {
       "output_type": "stream",
       "stream": "stdout",
       "text": [
        "\n",
        "3"
       ]
      },
      {
       "output_type": "stream",
       "stream": "stdout",
       "text": [
        "\n",
        "417"
       ]
      },
      {
       "output_type": "stream",
       "stream": "stdout",
       "text": [
        " 1807821 3 1000000000.0\n",
        "val=0.2513\n",
        "\n",
        "app=Subway Surfers(417), keyword=+\"\ub3c4\uad6c\"(1807821), both=Subway Surfers++\"\ub3c4\uad6c\"(3), pmi=-0.600\n",
        "\n",
        "417"
       ]
      },
      {
       "output_type": "stream",
       "stream": "stdout",
       "text": [
        "\n",
        "1204862"
       ]
      },
      {
       "output_type": "stream",
       "stream": "stdout",
       "text": [
        "\n",
        "1"
       ]
      },
      {
       "output_type": "stream",
       "stream": "stdout",
       "text": [
        "\n",
        "417"
       ]
      },
      {
       "output_type": "stream",
       "stream": "stdout",
       "text": [
        " 1204862 1 1000000000.0\n",
        "val=0.5024\n",
        "\n",
        "app=Subway Surfers(417), keyword=+\"\ub3c4\uc11c\"(1204862), both=Subway Surfers++\"\ub3c4\uc11c\"(1), pmi=-0.299\n",
        "\n",
        "417"
       ]
      },
      {
       "output_type": "stream",
       "stream": "stdout",
       "text": [
        "\n",
        "178668"
       ]
      },
      {
       "output_type": "stream",
       "stream": "stdout",
       "text": [
        "\n",
        "except 0"
       ]
      },
      {
       "output_type": "stream",
       "stream": "stdout",
       "text": [
        "\n",
        "417"
       ]
      },
      {
       "output_type": "stream",
       "stream": "stdout",
       "text": [
        " 178668 0 1000000000.0\n",
        "val=74504556.0000\n",
        "\n",
        "app=Subway Surfers(417), keyword=+\"\ucc38\uace0\uc790\ub8cc\"(178668), both=Subway Surfers++\"\ucc38\uace0\uc790\ub8cc\"(0), pmi=7.872\n"
       ]
      },
      {
       "output_type": "stream",
       "stream": "stdout",
       "text": [
        "\n",
        "417"
       ]
      },
      {
       "output_type": "stream",
       "stream": "stdout",
       "text": [
        "\n",
        "1138334"
       ]
      },
      {
       "output_type": "stream",
       "stream": "stdout",
       "text": [
        "\n",
        "2"
       ]
      },
      {
       "output_type": "stream",
       "stream": "stdout",
       "text": [
        "\n",
        "417"
       ]
      },
      {
       "output_type": "stream",
       "stream": "stdout",
       "text": [
        " 1138334 2 1000000000.0\n",
        "val=0.2373\n",
        "\n",
        "app=Subway Surfers(417), keyword=+\"\ub77c\uc774\ube0c\"(1138334), both=Subway Surfers++\"\ub77c\uc774\ube0c\"(2), pmi=-0.625\n",
        "\n",
        "417"
       ]
      },
      {
       "output_type": "stream",
       "stream": "stdout",
       "text": [
        "\n",
        "228832"
       ]
      },
      {
       "output_type": "stream",
       "stream": "stdout",
       "text": [
        "\n",
        "1"
       ]
      },
      {
       "output_type": "stream",
       "stream": "stdout",
       "text": [
        "\n",
        "417"
       ]
      },
      {
       "output_type": "stream",
       "stream": "stdout",
       "text": [
        " 228832 1 1000000000.0\n",
        "val=0.0954\n",
        "\n",
        "app=Subway Surfers(417), keyword=+\"\ubc30\uacbd\ud654\uba74\"(228832), both=Subway Surfers++\"\ubc30\uacbd\ud654\uba74\"(1), pmi=-1.020\n"
       ]
      },
      {
       "output_type": "stream",
       "stream": "stdout",
       "text": [
        "\n",
        "417"
       ]
      },
      {
       "output_type": "stream",
       "stream": "stdout",
       "text": [
        "\n",
        "135577"
       ]
      },
      {
       "output_type": "stream",
       "stream": "stdout",
       "text": [
        "\n",
        "1"
       ]
      },
      {
       "output_type": "stream",
       "stream": "stdout",
       "text": [
        "\n",
        "417"
       ]
      },
      {
       "output_type": "stream",
       "stream": "stdout",
       "text": [
        " 135577 1 1000000000.0\n",
        "val=0.0565\n",
        "\n",
        "app=Subway Surfers(417), keyword=+\"\ub77c\uc774\ube0c\ub7ec\ub9ac\"(135577), both=Subway Surfers++\"\ub77c\uc774\ube0c\ub7ec\ub9ac\"(1), pmi=-1.248\n",
        "\n",
        "417"
       ]
      },
      {
       "output_type": "stream",
       "stream": "stdout",
       "text": [
        "\n",
        "371606"
       ]
      },
      {
       "output_type": "stream",
       "stream": "stdout",
       "text": [
        "\n",
        "1"
       ]
      },
      {
       "output_type": "stream",
       "stream": "stdout",
       "text": [
        "\n",
        "417"
       ]
      },
      {
       "output_type": "stream",
       "stream": "stdout",
       "text": [
        " 371606 1 1000000000.0\n",
        "val=0.1550\n",
        "\n",
        "app=Subway Surfers(417), keyword=+\"\ub370\ubaa8\"(371606), both=Subway Surfers++\"\ub370\ubaa8\"(1), pmi=-0.810\n",
        "\n",
        "417"
       ]
      },
      {
       "output_type": "stream",
       "stream": "stdout",
       "text": [
        "\n",
        "145454"
       ]
      },
      {
       "output_type": "stream",
       "stream": "stdout",
       "text": [
        "\n",
        "except 0"
       ]
      },
      {
       "output_type": "stream",
       "stream": "stdout",
       "text": [
        "\n",
        "417"
       ]
      },
      {
       "output_type": "stream",
       "stream": "stdout",
       "text": [
        " 145454 0 1000000000.0\n",
        "val=60654318.0000\n",
        "\n",
        "app=Subway Surfers(417), keyword=+\"\ub77c\uc774\ud504\uc2a4\ud0c0\uc77c\"(145454), both=Subway Surfers++\"\ub77c\uc774\ud504\uc2a4\ud0c0\uc77c\"(0), pmi=7.783\n"
       ]
      },
      {
       "output_type": "stream",
       "stream": "stdout",
       "text": [
        "\n",
        "417"
       ]
      },
      {
       "output_type": "stream",
       "stream": "stdout",
       "text": [
        "\n",
        "16332503"
       ]
      },
      {
       "output_type": "stream",
       "stream": "stdout",
       "text": [
        "\n",
        "33"
       ]
      },
      {
       "output_type": "stream",
       "stream": "stdout",
       "text": [
        "\n",
        "417"
       ]
      },
      {
       "output_type": "stream",
       "stream": "stdout",
       "text": [
        " 16332503 33 1000000000.0\n",
        "val=0.2064\n",
        "\n",
        "app=Subway Surfers(417), keyword=+\"\ube14\ub85c\uadf8\"(16332503), both=Subway Surfers++\"\ube14\ub85c\uadf8\"(33), pmi=-0.685\n",
        "\n",
        "417"
       ]
      },
      {
       "output_type": "stream",
       "stream": "stdout",
       "text": [
        "\n",
        "2604460"
       ]
      },
      {
       "output_type": "stream",
       "stream": "stdout",
       "text": [
        "\n",
        "2"
       ]
      },
      {
       "output_type": "stream",
       "stream": "stdout",
       "text": [
        "\n",
        "417"
       ]
      },
      {
       "output_type": "stream",
       "stream": "stdout",
       "text": [
        " 2604460 2 1000000000.0\n",
        "val=0.5430\n",
        "\n",
        "app=Subway Surfers(417), keyword=+\"\ub9cc\ud654\"(2604460), both=Subway Surfers++\"\ub9cc\ud654\"(2), pmi=-0.265\n",
        "\n",
        "417"
       ]
      },
      {
       "output_type": "stream",
       "stream": "stdout",
       "text": [
        "\n",
        "1746021"
       ]
      },
      {
       "output_type": "stream",
       "stream": "stdout",
       "text": [
        "\n",
        "5"
       ]
      },
      {
       "output_type": "stream",
       "stream": "stdout",
       "text": [
        "\n",
        "417"
       ]
      },
      {
       "output_type": "stream",
       "stream": "stdout",
       "text": [
        " 1746021 5 1000000000.0\n",
        "val=0.1456\n",
        "\n",
        "app=Subway Surfers(417), keyword=+\"\ubbf8\ub514\uc5b4\"(1746021), both=Subway Surfers++\"\ubbf8\ub514\uc5b4\"(5), pmi=-0.837\n",
        "\n",
        "417"
       ]
      },
      {
       "output_type": "stream",
       "stream": "stdout",
       "text": [
        "\n",
        "5421429"
       ]
      },
      {
       "output_type": "stream",
       "stream": "stdout",
       "text": [
        "\n",
        "12"
       ]
      },
      {
       "output_type": "stream",
       "stream": "stdout",
       "text": [
        "\n",
        "417"
       ]
      },
      {
       "output_type": "stream",
       "stream": "stdout",
       "text": [
        " 5421429 12 1000000000.0\n",
        "val=0.1884\n",
        "\n",
        "app=Subway Surfers(417), keyword=+\"\ub3d9\uc601\uc0c1\"(5421429), both=Subway Surfers++\"\ub3d9\uc601\uc0c1\"(12), pmi=-0.725\n",
        "\n",
        "417"
       ]
      },
      {
       "output_type": "stream",
       "stream": "stdout",
       "text": [
        "\n",
        "865527"
       ]
      },
      {
       "output_type": "stream",
       "stream": "stdout",
       "text": [
        "\n",
        "2"
       ]
      },
      {
       "output_type": "stream",
       "stream": "stdout",
       "text": [
        "\n",
        "417"
       ]
      },
      {
       "output_type": "stream",
       "stream": "stdout",
       "text": [
        " 865527 2 1000000000.0\n",
        "val=0.1805\n",
        "\n",
        "app=Subway Surfers(417), keyword=+\"\ube44\uc988\ub2c8\uc2a4\"(865527), both=Subway Surfers++\"\ube44\uc988\ub2c8\uc2a4\"(2), pmi=-0.744\n",
        "\n",
        "417"
       ]
      },
      {
       "output_type": "stream",
       "stream": "stdout",
       "text": [
        "\n",
        "1700639"
       ]
      },
      {
       "output_type": "stream",
       "stream": "stdout",
       "text": [
        "\n",
        "4"
       ]
      },
      {
       "output_type": "stream",
       "stream": "stdout",
       "text": [
        "\n",
        "417"
       ]
      },
      {
       "output_type": "stream",
       "stream": "stdout",
       "text": [
        " 1700639 4 1000000000.0\n",
        "val=0.1773\n",
        "\n",
        "app=Subway Surfers(417), keyword=+\"\ud3b8\uc9d1\"(1700639), both=Subway Surfers++\"\ud3b8\uc9d1\"(4), pmi=-0.751\n",
        "\n",
        "417"
       ]
      },
      {
       "output_type": "stream",
       "stream": "stdout",
       "text": [
        "\n",
        "37500111"
       ]
      },
      {
       "output_type": "stream",
       "stream": "stdout",
       "text": [
        "\n",
        "53"
       ]
      },
      {
       "output_type": "stream",
       "stream": "stdout",
       "text": [
        "\n",
        "417"
       ]
      },
      {
       "output_type": "stream",
       "stream": "stdout",
       "text": [
        " 37500111 53 1000000000.0\n",
        "val=0.2950\n",
        "\n",
        "app=Subway Surfers(417), keyword=+\"\uc0ac\uc9c4\"(37500111), both=Subway Surfers++\"\uc0ac\uc9c4\"(53), pmi=-0.530\n",
        "\n",
        "417"
       ]
      },
      {
       "output_type": "stream",
       "stream": "stdout",
       "text": [
        "\n",
        "275186"
       ]
      },
      {
       "output_type": "stream",
       "stream": "stdout",
       "text": [
        "\n",
        "except 0"
       ]
      },
      {
       "output_type": "stream",
       "stream": "stdout",
       "text": [
        "\n",
        "417"
       ]
      },
      {
       "output_type": "stream",
       "stream": "stdout",
       "text": [
        " 275186 0 1000000000.0\n",
        "val=114752562.0000\n",
        "\n",
        "app=Subway Surfers(417), keyword=+\"\uc0dd\uc0b0\uc131\"(275186), both=Subway Surfers++\"\uc0dd\uc0b0\uc131\"(0), pmi=8.060\n",
        "\n",
        "417"
       ]
      },
      {
       "output_type": "stream",
       "stream": "stdout",
       "text": [
        "\n",
        "1042586"
       ]
      },
      {
       "output_type": "stream",
       "stream": "stdout",
       "text": [
        "\n",
        "10"
       ]
      },
      {
       "output_type": "stream",
       "stream": "stdout",
       "text": [
        "\n",
        "417"
       ]
      },
      {
       "output_type": "stream",
       "stream": "stdout",
       "text": [
        " 1042586 10 1000000000.0\n",
        "val=0.0435\n",
        "\n",
        "app=Subway Surfers(417), keyword=+\"\uc18c\uc15c\"(1042586), both=Subway Surfers++\"\uc18c\uc15c\"(10), pmi=-1.362\n",
        "\n",
        "417"
       ]
      },
      {
       "output_type": "stream",
       "stream": "stdout",
       "text": [
        "\n",
        "580932"
       ]
      },
      {
       "output_type": "stream",
       "stream": "stdout",
       "text": [
        "\n",
        "1"
       ]
      },
      {
       "output_type": "stream",
       "stream": "stdout",
       "text": [
        "\n",
        "417"
       ]
      },
      {
       "output_type": "stream",
       "stream": "stdout",
       "text": [
        " 580932 1 1000000000.0\n",
        "val=0.2422\n",
        "\n",
        "app=Subway Surfers(417), keyword=+\"\ucf58\ud150\uce20\"(580932), both=Subway Surfers++\"\ucf58\ud150\uce20\"(1), pmi=-0.616\n",
        "\n",
        "417"
       ]
      },
      {
       "output_type": "stream",
       "stream": "stdout",
       "text": [
        "\n",
        "2412760"
       ]
      },
      {
       "output_type": "stream",
       "stream": "stdout",
       "text": [
        "\n",
        "5"
       ]
      },
      {
       "output_type": "stream",
       "stream": "stdout",
       "text": [
        "\n",
        "417"
       ]
      },
      {
       "output_type": "stream",
       "stream": "stdout",
       "text": [
        " 2412760 5 1000000000.0\n",
        "val=0.2012\n",
        "\n",
        "app=Subway Surfers(417), keyword=+\"\uc1fc\ud551\"(2412760), both=Subway Surfers++\"\uc1fc\ud551\"(5), pmi=-0.696\n"
       ]
      },
      {
       "output_type": "stream",
       "stream": "stdout",
       "text": [
        "\n",
        "417"
       ]
      },
      {
       "output_type": "stream",
       "stream": "stdout",
       "text": [
        "\n",
        "196035"
       ]
      },
      {
       "output_type": "stream",
       "stream": "stdout",
       "text": [
        "\n",
        "2"
       ]
      },
      {
       "output_type": "stream",
       "stream": "stdout",
       "text": [
        "\n",
        "417"
       ]
      },
      {
       "output_type": "stream",
       "stream": "stdout",
       "text": [
        " 196035 2 1000000000.0\n",
        "val=0.0409\n",
        "\n",
        "app=Subway Surfers(417), keyword=+\"\uc704\uc82f\"(196035), both=Subway Surfers++\"\uc704\uc82f\"(2), pmi=-1.389\n",
        "\n",
        "417"
       ]
      },
      {
       "output_type": "stream",
       "stream": "stdout",
       "text": [
        "\n",
        "4015545"
       ]
      },
      {
       "output_type": "stream",
       "stream": "stdout",
       "text": [
        "\n",
        "6"
       ]
      },
      {
       "output_type": "stream",
       "stream": "stdout",
       "text": [
        "\n",
        "417"
       ]
      },
      {
       "output_type": "stream",
       "stream": "stdout",
       "text": [
        " 4015545 6 1000000000.0\n",
        "val=0.2791\n",
        "\n",
        "app=Subway Surfers(417), keyword=+\"\uc790\ub3d9\ucc28\"(4015545), both=Subway Surfers++\"\uc790\ub3d9\ucc28\"(6), pmi=-0.554\n",
        "\n",
        "417"
       ]
      },
      {
       "output_type": "stream",
       "stream": "stdout",
       "text": [
        "\n",
        "1072065"
       ]
      },
      {
       "output_type": "stream",
       "stream": "stdout",
       "text": [
        "\n",
        "2"
       ]
      },
      {
       "output_type": "stream",
       "stream": "stdout",
       "text": [
        "\n",
        "417"
       ]
      },
      {
       "output_type": "stream",
       "stream": "stdout",
       "text": [
        " 1072065 2 1000000000.0\n",
        "val=0.2235\n",
        "\n",
        "app=Subway Surfers(417), keyword=+\"\uacbd\uc8fc\"(1072065), both=Subway Surfers++\"\uacbd\uc8fc\"(2), pmi=-0.651\n",
        "\n",
        "417"
       ]
      },
      {
       "output_type": "stream",
       "stream": "stdout",
       "text": [
        "\n",
        "2432413"
       ]
      },
      {
       "output_type": "stream",
       "stream": "stdout",
       "text": [
        "\n",
        "2"
       ]
      },
      {
       "output_type": "stream",
       "stream": "stdout",
       "text": [
        "\n",
        "417"
       ]
      },
      {
       "output_type": "stream",
       "stream": "stdout",
       "text": [
        " 2432413 2 1000000000.0\n",
        "val=0.5072\n",
        "\n",
        "app=Subway Surfers(417), keyword=+\"\ub2e4\uc774\uc5b4\ud2b8\"(2432413), both=Subway Surfers++\"\ub2e4\uc774\uc5b4\ud2b8\"(2), pmi=-0.295\n",
        "\n",
        "417"
       ]
      },
      {
       "output_type": "stream",
       "stream": "stdout",
       "text": [
        "\n",
        "580893"
       ]
      },
      {
       "output_type": "stream",
       "stream": "stdout",
       "text": [
        "\n",
        "2"
       ]
      },
      {
       "output_type": "stream",
       "stream": "stdout",
       "text": [
        "\n",
        "417"
       ]
      },
      {
       "output_type": "stream",
       "stream": "stdout",
       "text": [
        " 580893 2 1000000000.0\n",
        "val=0.1211\n",
        "\n",
        "app=Subway Surfers(417), keyword=+\"\ub2ec\ub825\"(580893), both=Subway Surfers++\"\ub2ec\ub825\"(2), pmi=-0.917\n",
        "\n",
        "417"
       ]
      },
      {
       "output_type": "stream",
       "stream": "stdout",
       "text": [
        "\n",
        "425028"
       ]
      },
      {
       "output_type": "stream",
       "stream": "stdout",
       "text": [
        "\n",
        "except 0"
       ]
      },
      {
       "output_type": "stream",
       "stream": "stdout",
       "text": [
        "\n",
        "417"
       ]
      },
      {
       "output_type": "stream",
       "stream": "stdout",
       "text": [
        " 425028 0 1000000000.0\n",
        "val=177236676.0000\n",
        "\n",
        "app=Subway Surfers(417), keyword=+\"\uc0dd\ub9ac\"(425028), both=Subway Surfers++\"\uc0dd\ub9ac\"(0), pmi=8.249\n",
        "\n",
        "417"
       ]
      },
      {
       "output_type": "stream",
       "stream": "stdout",
       "text": [
        "\n",
        "117657"
       ]
      },
      {
       "output_type": "stream",
       "stream": "stdout",
       "text": [
        "\n",
        "1"
       ]
      },
      {
       "output_type": "stream",
       "stream": "stdout",
       "text": [
        "\n",
        "417"
       ]
      },
      {
       "output_type": "stream",
       "stream": "stdout",
       "text": [
        " 117657 1 1000000000.0\n",
        "val=0.0491\n",
        "\n",
        "app=Subway Surfers(417), keyword=+\"\uce98\ub9b0\ub354\"(117657), both=Subway Surfers++\"\uce98\ub9b0\ub354\"(1), pmi=-1.309\n",
        "\n",
        "417"
       ]
      },
      {
       "output_type": "stream",
       "stream": "stdout",
       "text": [
        "\n",
        "23996"
       ]
      },
      {
       "output_type": "stream",
       "stream": "stdout",
       "text": [
        "\n",
        "except 0"
       ]
      },
      {
       "output_type": "stream",
       "stream": "stdout",
       "text": [
        "\n",
        "417"
       ]
      },
      {
       "output_type": "stream",
       "stream": "stdout",
       "text": [
        " 23996 0 1000000000.0\n",
        "val=10006332.0000\n",
        "\n",
        "app=Subway Surfers(417), keyword=+\"\uc0ac\uc8fc\ud314\uc790\"(23996), both=Subway Surfers++\"\uc0ac\uc8fc\ud314\uc790\"(0), pmi=7.000\n",
        "\n",
        "417"
       ]
      },
      {
       "output_type": "stream",
       "stream": "stdout",
       "text": [
        "\n",
        "557677"
       ]
      },
      {
       "output_type": "stream",
       "stream": "stdout",
       "text": [
        "\n",
        "except 0"
       ]
      },
      {
       "output_type": "stream",
       "stream": "stdout",
       "text": [
        "\n",
        "417"
       ]
      },
      {
       "output_type": "stream",
       "stream": "stdout",
       "text": [
        " 557677 0 1000000000.0\n",
        "val=232551309.0000\n",
        "\n",
        "app=Subway Surfers(417), keyword=+\"\uad81\ud569\"(557677), both=Subway Surfers++\"\uad81\ud569\"(0), pmi=8.367\n"
       ]
      },
      {
       "output_type": "stream",
       "stream": "stdout",
       "text": [
        "\n",
        "417"
       ]
      },
      {
       "output_type": "stream",
       "stream": "stdout",
       "text": [
        "\n",
        "965122"
       ]
      },
      {
       "output_type": "stream",
       "stream": "stdout",
       "text": [
        "\n",
        "2"
       ]
      },
      {
       "output_type": "stream",
       "stream": "stdout",
       "text": [
        "\n",
        "417"
       ]
      },
      {
       "output_type": "stream",
       "stream": "stdout",
       "text": [
        " 965122 2 1000000000.0\n",
        "val=0.2012\n",
        "\n",
        "app=Subway Surfers(417), keyword=+\"\uccb4\uc911\"(965122), both=Subway Surfers++\"\uccb4\uc911\"(2), pmi=-0.696\n"
       ]
      },
      {
       "output_type": "stream",
       "stream": "stdout",
       "text": [
        "\n",
        "417"
       ]
      },
      {
       "output_type": "stream",
       "stream": "stdout",
       "text": [
        "\n",
        "2782155"
       ]
      },
      {
       "output_type": "stream",
       "stream": "stdout",
       "text": [
        "\n",
        "2"
       ]
      },
      {
       "output_type": "stream",
       "stream": "stdout",
       "text": [
        "\n",
        "417"
       ]
      },
      {
       "output_type": "stream",
       "stream": "stdout",
       "text": [
        " 2782155 2 1000000000.0\n",
        "val=0.5801\n",
        "\n",
        "app=Subway Surfers(417), keyword=+\"\uc0ac\uc804\"(2782155), both=Subway Surfers++\"\uc0ac\uc804\"(2), pmi=-0.237\n",
        "\n",
        "417"
       ]
      },
      {
       "output_type": "stream",
       "stream": "stdout",
       "text": [
        "\n",
        "4737576"
       ]
      },
      {
       "output_type": "stream",
       "stream": "stdout",
       "text": [
        "\n",
        "10"
       ]
      },
      {
       "output_type": "stream",
       "stream": "stdout",
       "text": [
        "\n",
        "417"
       ]
      },
      {
       "output_type": "stream",
       "stream": "stdout",
       "text": [
        " 4737576 10 1000000000.0\n",
        "val=0.1976\n",
        "\n",
        "app=Subway Surfers(417), keyword=+\"\ucef4\ud4e8\ud130\"(4737576), both=Subway Surfers++\"\ucef4\ud4e8\ud130\"(10), pmi=-0.704\n",
        "\n",
        "417"
       ]
      },
      {
       "output_type": "stream",
       "stream": "stdout",
       "text": [
        "\n",
        "247713"
       ]
      },
      {
       "output_type": "stream",
       "stream": "stdout",
       "text": [
        "\n",
        "1"
       ]
      },
      {
       "output_type": "stream",
       "stream": "stdout",
       "text": [
        "\n",
        "417"
       ]
      },
      {
       "output_type": "stream",
       "stream": "stdout",
       "text": [
        " 247713 1 1000000000.0\n",
        "val=0.1033\n",
        "\n",
        "app=Subway Surfers(417), keyword=+\"\ubc31\uacfc\uc0ac\uc804\"(247713), both=Subway Surfers++\"\ubc31\uacfc\uc0ac\uc804\"(1), pmi=-0.986\n",
        "\n",
        "417"
       ]
      },
      {
       "output_type": "stream",
       "stream": "stdout",
       "text": [
        "\n",
        "347877"
       ]
      },
      {
       "output_type": "stream",
       "stream": "stdout",
       "text": [
        "\n",
        "except 0"
       ]
      },
      {
       "output_type": "stream",
       "stream": "stdout",
       "text": [
        "\n",
        "417"
       ]
      },
      {
       "output_type": "stream",
       "stream": "stdout",
       "text": [
        " 347877 0 1000000000.0\n",
        "val=145064709.0000\n",
        "\n",
        "app=Subway Surfers(417), keyword=+\"\uae09\uc2dd\"(347877), both=Subway Surfers++\"\uae09\uc2dd\"(0), pmi=8.162\n",
        "\n",
        "417"
       ]
      },
      {
       "output_type": "stream",
       "stream": "stdout",
       "text": [
        "\n",
        "13067388"
       ]
      },
      {
       "output_type": "stream",
       "stream": "stdout",
       "text": [
        "\n",
        "12"
       ]
      },
      {
       "output_type": "stream",
       "stream": "stdout",
       "text": [
        "\n",
        "417"
       ]
      },
      {
       "output_type": "stream",
       "stream": "stdout",
       "text": [
        " 13067388 12 1000000000.0\n",
        "val=0.4541\n",
        "\n",
        "app=Subway Surfers(417), keyword=+\"\ud559\uad50\"(13067388), both=Subway Surfers++\"\ud559\uad50\"(12), pmi=-0.343\n",
        "\n",
        "417"
       ]
      },
      {
       "output_type": "stream",
       "stream": "stdout",
       "text": [
        "\n",
        "2044294"
       ]
      },
      {
       "output_type": "stream",
       "stream": "stdout",
       "text": [
        "\n",
        "2"
       ]
      },
      {
       "output_type": "stream",
       "stream": "stdout",
       "text": [
        "\n",
        "417"
       ]
      },
      {
       "output_type": "stream",
       "stream": "stdout",
       "text": [
        " 2044294 2 1000000000.0\n",
        "val=0.4262\n",
        "\n",
        "app=Subway Surfers(417), keyword=+\"\ucd08\ub4f1\ud559\uad50\"(2044294), both=Subway Surfers++\"\ucd08\ub4f1\ud559\uad50\"(2), pmi=-0.370\n",
        "\n",
        "417"
       ]
      },
      {
       "output_type": "stream",
       "stream": "stdout",
       "text": [
        "\n",
        "1701908"
       ]
      },
      {
       "output_type": "stream",
       "stream": "stdout",
       "text": [
        "\n",
        "1"
       ]
      },
      {
       "output_type": "stream",
       "stream": "stdout",
       "text": [
        "\n",
        "417"
       ]
      },
      {
       "output_type": "stream",
       "stream": "stdout",
       "text": [
        " 1701908 1 1000000000.0\n",
        "val=0.7097\n",
        "\n",
        "app=Subway Surfers(417), keyword=+\"\uc911\ud559\uad50\"(1701908), both=Subway Surfers++\"\uc911\ud559\uad50\"(1), pmi=-0.149\n"
       ]
      },
      {
       "output_type": "stream",
       "stream": "stdout",
       "text": [
        "\n",
        "417"
       ]
      },
      {
       "output_type": "stream",
       "stream": "stdout",
       "text": [
        "\n",
        "1873206"
       ]
      },
      {
       "output_type": "stream",
       "stream": "stdout",
       "text": [
        "\n",
        "2"
       ]
      },
      {
       "output_type": "stream",
       "stream": "stdout",
       "text": [
        "\n",
        "417"
       ]
      },
      {
       "output_type": "stream",
       "stream": "stdout",
       "text": [
        " 1873206 2 1000000000.0\n",
        "val=0.3906\n",
        "\n",
        "app=Subway Surfers(417), keyword=+\"\uace0\ub4f1\ud559\uad50\"(1873206), both=Subway Surfers++\"\uace0\ub4f1\ud559\uad50\"(2), pmi=-0.408\n",
        "\n",
        "417"
       ]
      },
      {
       "output_type": "stream",
       "stream": "stdout",
       "text": [
        "\n",
        "3194089"
       ]
      },
      {
       "output_type": "stream",
       "stream": "stdout",
       "text": [
        "\n",
        "1"
       ]
      },
      {
       "output_type": "stream",
       "stream": "stdout",
       "text": [
        "\n",
        "417"
       ]
      },
      {
       "output_type": "stream",
       "stream": "stdout",
       "text": [
        " 3194089 1 1000000000.0\n",
        "val=1.3319\n",
        "\n",
        "app=Subway Surfers(417), keyword=+\"\ub300\ud559\uad50\"(3194089), both=Subway Surfers++\"\ub300\ud559\uad50\"(1), pmi=0.124\n",
        "\n",
        "417"
       ]
      },
      {
       "output_type": "stream",
       "stream": "stdout",
       "text": [
        "\n",
        "1185197"
       ]
      },
      {
       "output_type": "stream",
       "stream": "stdout",
       "text": [
        "\n",
        "22"
       ]
      },
      {
       "output_type": "stream",
       "stream": "stdout",
       "text": [
        "\n",
        "417"
       ]
      },
      {
       "output_type": "stream",
       "stream": "stdout",
       "text": [
        " 1185197 22 1000000000.0\n",
        "val=0.0225\n",
        "\n",
        "app=Subway Surfers(417), keyword=+\"Korea\"(1185197), both=Subway Surfers++\"Korea\"(22), pmi=-1.648\n",
        "\n",
        "417"
       ]
      },
      {
       "output_type": "stream",
       "stream": "stdout",
       "text": [
        "\n",
        "504997"
       ]
      },
      {
       "output_type": "stream",
       "stream": "stdout",
       "text": [
        "\n",
        "1"
       ]
      },
      {
       "output_type": "stream",
       "stream": "stdout",
       "text": [
        "\n",
        "417"
       ]
      },
      {
       "output_type": "stream",
       "stream": "stdout",
       "text": [
        " 504997 1 1000000000.0\n",
        "val=0.2106\n",
        "\n",
        "app=Subway Surfers(417), keyword=+\"\ub124\ube44\uac8c\uc774\uc158\"(504997), both=Subway Surfers++\"\ub124\ube44\uac8c\uc774\uc158\"(1), pmi=-0.677\n",
        "\n",
        "417"
       ]
      },
      {
       "output_type": "stream",
       "stream": "stdout",
       "text": [
        "\n",
        "2825291"
       ]
      },
      {
       "output_type": "stream",
       "stream": "stdout",
       "text": [
        "\n",
        "46"
       ]
      },
      {
       "output_type": "stream",
       "stream": "stdout",
       "text": [
        "\n",
        "417"
       ]
      },
      {
       "output_type": "stream",
       "stream": "stdout",
       "text": [
        " 2825291 46 1000000000.0\n",
        "val=0.0256\n",
        "\n",
        "app=Subway Surfers(417), keyword=+\"\uc9c0\ud558\ucca0\"(2825291), both=Subway Surfers++\"\uc9c0\ud558\ucca0\"(46), pmi=-1.592\n",
        "\n",
        "417"
       ]
      },
      {
       "output_type": "stream",
       "stream": "stdout",
       "text": [
        "\n",
        "167407"
       ]
      },
      {
       "output_type": "stream",
       "stream": "stdout",
       "text": [
        "\n",
        "except 0"
       ]
      },
      {
       "output_type": "stream",
       "stream": "stdout",
       "text": [
        "\n",
        "417"
       ]
      },
      {
       "output_type": "stream",
       "stream": "stdout",
       "text": [
        " 167407 0 1000000000.0\n",
        "val=69808719.0000\n",
        "\n",
        "app=Subway Surfers(417), keyword=+\"\uc885\uacb0\uc790\"(167407), both=Subway Surfers++\"\uc885\uacb0\uc790\"(0), pmi=7.844\n",
        "\n",
        "417"
       ]
      },
      {
       "output_type": "stream",
       "stream": "stdout",
       "text": [
        "\n",
        "64553"
       ]
      },
      {
       "output_type": "stream",
       "stream": "stdout",
       "text": [
        "\n",
        "except 0"
       ]
      },
      {
       "output_type": "stream",
       "stream": "stdout",
       "text": [
        "\n",
        "417"
       ]
      },
      {
       "output_type": "stream",
       "stream": "stdout",
       "text": [
        " 64553 0 1000000000.0\n",
        "val=26918601.0000\n",
        "\n",
        "app=Subway Surfers(417), keyword=+\"\ub0b4\ube44\"(64553), both=Subway Surfers++\"\ub0b4\ube44\"(0), pmi=7.430\n",
        "\n",
        "417"
       ]
      },
      {
       "output_type": "stream",
       "stream": "stdout",
       "text": [
        "\n",
        "110301"
       ]
      },
      {
       "output_type": "stream",
       "stream": "stdout",
       "text": [
        "\n",
        "except 0"
       ]
      },
      {
       "output_type": "stream",
       "stream": "stdout",
       "text": [
        "\n",
        "417"
       ]
      },
      {
       "output_type": "stream",
       "stream": "stdout",
       "text": [
        " 110301 0 1000000000.0\n",
        "val=45995517.0000\n",
        "\n",
        "app=Subway Surfers(417), keyword=+\"\uac00\uacc4\ubd80\"(110301), both=Subway Surfers++\"\uac00\uacc4\ubd80\"(0), pmi=7.663\n",
        "\n",
        "417"
       ]
      },
      {
       "output_type": "stream",
       "stream": "stdout",
       "text": [
        "\n",
        "560974"
       ]
      },
      {
       "output_type": "stream",
       "stream": "stdout",
       "text": [
        "\n",
        "25"
       ]
      },
      {
       "output_type": "stream",
       "stream": "stdout",
       "text": [
        "\n",
        "417"
       ]
      },
      {
       "output_type": "stream",
       "stream": "stdout",
       "text": [
        " 560974 25 1000000000.0\n",
        "val=0.0094\n",
        "\n",
        "app=Subway Surfers(417), keyword=+\"Money\"(560974), both=Subway Surfers++\"Money\"(25), pmi=-2.029\n"
       ]
      },
      {
       "output_type": "stream",
       "stream": "stdout",
       "text": [
        "\n",
        "417"
       ]
      },
      {
       "output_type": "stream",
       "stream": "stdout",
       "text": [
        "\n",
        "2657675"
       ]
      },
      {
       "output_type": "stream",
       "stream": "stdout",
       "text": [
        "\n",
        "63"
       ]
      },
      {
       "output_type": "stream",
       "stream": "stdout",
       "text": [
        "\n",
        "417"
       ]
      },
      {
       "output_type": "stream",
       "stream": "stdout",
       "text": [
        " 2657675 63 1000000000.0\n",
        "val=0.0176\n",
        "\n",
        "app=Subway Surfers(417), keyword=+\"\uc2a4\ub9c8\ud2b8\"(2657675), both=Subway Surfers++\"\uc2a4\ub9c8\ud2b8\"(63), pmi=-1.755\n",
        "\n",
        "417"
       ]
      },
      {
       "output_type": "stream",
       "stream": "stdout",
       "text": [
        "\n",
        "161422"
       ]
      },
      {
       "output_type": "stream",
       "stream": "stdout",
       "text": [
        "\n",
        "3"
       ]
      },
      {
       "output_type": "stream",
       "stream": "stdout",
       "text": [
        "\n",
        "417"
       ]
      },
      {
       "output_type": "stream",
       "stream": "stdout",
       "text": [
        " 161422 3 1000000000.0\n",
        "val=0.0224\n",
        "\n",
        "app=Subway Surfers(417), keyword=+\"\uacc4\uc0b0\uae30\"(161422), both=Subway Surfers++\"\uacc4\uc0b0\uae30\"(3), pmi=-1.649\n",
        "\n",
        "417"
       ]
      },
      {
       "output_type": "stream",
       "stream": "stdout",
       "text": [
        "\n",
        "3307096"
       ]
      },
      {
       "output_type": "stream",
       "stream": "stdout",
       "text": [
        "\n",
        "2"
       ]
      },
      {
       "output_type": "stream",
       "stream": "stdout",
       "text": [
        "\n",
        "417"
       ]
      },
      {
       "output_type": "stream",
       "stream": "stdout",
       "text": [
        " 3307096 2 1000000000.0\n",
        "val=0.6895\n",
        "\n",
        "app=Subway Surfers(417), keyword=+\"\uc740\ud589\"(3307096), both=Subway Surfers++\"\uc740\ud589\"(2), pmi=-0.161\n",
        "\n",
        "417"
       ]
      },
      {
       "output_type": "stream",
       "stream": "stdout",
       "text": [
        "\n",
        "776566"
       ]
      },
      {
       "output_type": "stream",
       "stream": "stdout",
       "text": [
        "\n",
        "10"
       ]
      },
      {
       "output_type": "stream",
       "stream": "stdout",
       "text": [
        "\n",
        "417"
       ]
      },
      {
       "output_type": "stream",
       "stream": "stdout",
       "text": [
        " 776566 10 1000000000.0\n",
        "val=0.0324\n",
        "\n",
        "app=Subway Surfers(417), keyword=+\"\uac80\uc0c9\uc5b4\"(776566), both=Subway Surfers++\"\uac80\uc0c9\uc5b4\"(10), pmi=-1.490\n",
        "\n",
        "417"
       ]
      },
      {
       "output_type": "stream",
       "stream": "stdout",
       "text": [
        "\n",
        "1362079"
       ]
      },
      {
       "output_type": "stream",
       "stream": "stdout",
       "text": [
        "\n",
        "4"
       ]
      },
      {
       "output_type": "stream",
       "stream": "stdout",
       "text": [
        "\n",
        "417"
       ]
      },
      {
       "output_type": "stream",
       "stream": "stdout",
       "text": [
        " 1362079 4 1000000000.0\n",
        "val=0.1420\n",
        "\n",
        "app=Subway Surfers(417), keyword=+\"\uc2e4\uc2dc\uac04\"(1362079), both=Subway Surfers++\"\uc2e4\uc2dc\uac04\"(4), pmi=-0.848\n",
        "\n",
        "417"
       ]
      },
      {
       "output_type": "stream",
       "stream": "stdout",
       "text": [
        "\n",
        "3116409"
       ]
      },
      {
       "output_type": "stream",
       "stream": "stdout",
       "text": [
        "\n",
        "5"
       ]
      },
      {
       "output_type": "stream",
       "stream": "stdout",
       "text": [
        "\n",
        "417"
       ]
      },
      {
       "output_type": "stream",
       "stream": "stdout",
       "text": [
        " 3116409 5 1000000000.0\n",
        "val=0.2599\n",
        "\n",
        "app=Subway Surfers(417), keyword=+\"\uc2e0\ubb38\"(3116409), both=Subway Surfers++\"\uc2e0\ubb38\"(5), pmi=-0.585\n",
        "\n",
        "417"
       ]
      },
      {
       "output_type": "stream",
       "stream": "stdout",
       "text": [
        "\n",
        "1226502"
       ]
      },
      {
       "output_type": "stream",
       "stream": "stdout",
       "text": [
        "\n",
        "3"
       ]
      },
      {
       "output_type": "stream",
       "stream": "stdout",
       "text": [
        "\n",
        "417"
       ]
      },
      {
       "output_type": "stream",
       "stream": "stdout",
       "text": [
        " 1226502 3 1000000000.0\n",
        "val=0.1705\n",
        "\n",
        "app=Subway Surfers(417), keyword=+\"\ud074\ub798\uc2dd\"(1226502), both=Subway Surfers++\"\ud074\ub798\uc2dd\"(3), pmi=-0.768\n",
        "\n",
        "417"
       ]
      },
      {
       "output_type": "stream",
       "stream": "stdout",
       "text": [
        "\n",
        "1406508"
       ]
      },
      {
       "output_type": "stream",
       "stream": "stdout",
       "text": [
        "\n",
        "1"
       ]
      },
      {
       "output_type": "stream",
       "stream": "stdout",
       "text": [
        "\n",
        "417"
       ]
      },
      {
       "output_type": "stream",
       "stream": "stdout",
       "text": [
        " 1406508 1 1000000000.0\n",
        "val=0.5865\n",
        "\n",
        "app=Subway Surfers(417), keyword=+\"\uc560\ub2c8\"(1406508), both=Subway Surfers++\"\uc560\ub2c8\"(1), pmi=-0.232\n",
        "\n",
        "417"
       ]
      },
      {
       "output_type": "stream",
       "stream": "stdout",
       "text": [
        "\n",
        "1186120"
       ]
      },
      {
       "output_type": "stream",
       "stream": "stdout",
       "text": [
        "\n",
        "2"
       ]
      },
      {
       "output_type": "stream",
       "stream": "stdout",
       "text": [
        "\n",
        "417"
       ]
      },
      {
       "output_type": "stream",
       "stream": "stdout",
       "text": [
        " 1186120 2 1000000000.0\n",
        "val=0.2473\n",
        "\n",
        "app=Subway Surfers(417), keyword=+\"\ub09a\uc2dc\"(1186120), both=Subway Surfers++\"\ub09a\uc2dc\"(2), pmi=-0.607\n",
        "\n",
        "417"
       ]
      },
      {
       "output_type": "stream",
       "stream": "stdout",
       "text": [
        "\n",
        "87414"
       ]
      },
      {
       "output_type": "stream",
       "stream": "stdout",
       "text": [
        "\n",
        "1"
       ]
      },
      {
       "output_type": "stream",
       "stream": "stdout",
       "text": [
        "\n",
        "417"
       ]
      },
      {
       "output_type": "stream",
       "stream": "stdout",
       "text": [
        " 87414 1 1000000000.0\n",
        "val=0.0365\n",
        "\n",
        "app=Subway Surfers(417), keyword=+\"\ub7f0\ucc98\"(87414), both=Subway Surfers++\"\ub7f0\ucc98\"(1), pmi=-1.438\n"
       ]
      },
      {
       "output_type": "stream",
       "stream": "stdout",
       "text": [
        "\n",
        "417"
       ]
      },
      {
       "output_type": "stream",
       "stream": "stdout",
       "text": [
        "\n",
        "67614"
       ]
      },
      {
       "output_type": "stream",
       "stream": "stdout",
       "text": [
        "\n",
        "1"
       ]
      },
      {
       "output_type": "stream",
       "stream": "stdout",
       "text": [
        "\n",
        "417"
       ]
      },
      {
       "output_type": "stream",
       "stream": "stdout",
       "text": [
        " 67614 1 1000000000.0\n",
        "val=0.0282\n",
        "\n",
        "app=Subway Surfers(417), keyword=+\"\uc8fc\uc18c\ub85d\"(67614), both=Subway Surfers++\"\uc8fc\uc18c\ub85d\"(1), pmi=-1.550\n",
        "\n",
        "417"
       ]
      },
      {
       "output_type": "stream",
       "stream": "stdout",
       "text": [
        "\n",
        "4767035"
       ]
      },
      {
       "output_type": "stream",
       "stream": "stdout",
       "text": [
        "\n",
        "89"
       ]
      },
      {
       "output_type": "stream",
       "stream": "stdout",
       "text": [
        "\n",
        "417"
       ]
      },
      {
       "output_type": "stream",
       "stream": "stdout",
       "text": [
        " 4767035 89 1000000000.0\n",
        "val=0.0223\n",
        "\n",
        "app=Subway Surfers(417), keyword=+\"\ud3f0\"(4767035), both=Subway Surfers++\"\ud3f0\"(89), pmi=-1.651\n",
        "\n",
        "417"
       ]
      },
      {
       "output_type": "stream",
       "stream": "stdout",
       "text": [
        "\n",
        "819847"
       ]
      },
      {
       "output_type": "stream",
       "stream": "stdout",
       "text": [
        "\n",
        "2"
       ]
      },
      {
       "output_type": "stream",
       "stream": "stdout",
       "text": [
        "\n",
        "417"
       ]
      },
      {
       "output_type": "stream",
       "stream": "stdout",
       "text": [
        " 819847 2 1000000000.0\n",
        "val=0.1709\n",
        "\n",
        "app=Subway Surfers(417), keyword=+\"\ubc14\uc774\ub7ec\uc2a4\"(819847), both=Subway Surfers++\"\ubc14\uc774\ub7ec\uc2a4\"(2), pmi=-0.767\n",
        "\n",
        "417"
       ]
      },
      {
       "output_type": "stream",
       "stream": "stdout",
       "text": [
        "\n",
        "993428"
       ]
      },
      {
       "output_type": "stream",
       "stream": "stdout",
       "text": [
        "\n",
        "2"
       ]
      },
      {
       "output_type": "stream",
       "stream": "stdout",
       "text": [
        "\n",
        "417"
       ]
      },
      {
       "output_type": "stream",
       "stream": "stdout",
       "text": [
        " 993428 2 1000000000.0\n",
        "val=0.2071\n",
        "\n",
        "app=Subway Surfers(417), keyword=+\"\ubcf4\uc548\"(993428), both=Subway Surfers++\"\ubcf4\uc548\"(2), pmi=-0.684\n",
        "\n",
        "417"
       ]
      },
      {
       "output_type": "stream",
       "stream": "stdout",
       "text": [
        "\n",
        "1276220"
       ]
      },
      {
       "output_type": "stream",
       "stream": "stdout",
       "text": [
        "\n",
        "except 0"
       ]
      },
      {
       "output_type": "stream",
       "stream": "stdout",
       "text": [
        "\n",
        "417"
       ]
      },
      {
       "output_type": "stream",
       "stream": "stdout",
       "text": [
        " 1276220 0 1000000000.0\n",
        "val=532183740.0000\n",
        "\n",
        "app=Subway Surfers(417), keyword=+\"\uc131\uacbd\"(1276220), both=Subway Surfers++\"\uc131\uacbd\"(0), pmi=8.726\n"
       ]
      },
      {
       "output_type": "stream",
       "stream": "stdout",
       "text": [
        "\n",
        "417"
       ]
      },
      {
       "output_type": "stream",
       "stream": "stdout",
       "text": [
        "\n",
        "216007"
       ]
      },
      {
       "output_type": "stream",
       "stream": "stdout",
       "text": [
        "\n",
        "except 0"
       ]
      },
      {
       "output_type": "stream",
       "stream": "stdout",
       "text": [
        "\n",
        "417"
       ]
      },
      {
       "output_type": "stream",
       "stream": "stdout",
       "text": [
        " 216007 0 1000000000.0\n",
        "val=90074919.0000\n",
        "\n",
        "app=Subway Surfers(417), keyword=+\"\ucc2c\uc1a1\"(216007), both=Subway Surfers++\"\ucc2c\uc1a1\"(0), pmi=7.955\n",
        "\n",
        "417"
       ]
      },
      {
       "output_type": "stream",
       "stream": "stdout",
       "text": [
        "\n",
        "84285"
       ]
      },
      {
       "output_type": "stream",
       "stream": "stdout",
       "text": [
        "\n",
        "except 0"
       ]
      },
      {
       "output_type": "stream",
       "stream": "stdout",
       "text": [
        "\n",
        "417"
       ]
      },
      {
       "output_type": "stream",
       "stream": "stdout",
       "text": [
        " 84285 0 1000000000.0\n",
        "val=35146845.0000\n",
        "\n",
        "app=Subway Surfers(417), keyword=+\"\ubc14\uc774\ube14\"(84285), both=Subway Surfers++\"\ubc14\uc774\ube14\"(0), pmi=7.546\n",
        "\n",
        "417"
       ]
      },
      {
       "output_type": "stream",
       "stream": "stdout",
       "text": [
        "\n",
        "258580"
       ]
      },
      {
       "output_type": "stream",
       "stream": "stdout",
       "text": [
        "\n",
        "1"
       ]
      },
      {
       "output_type": "stream",
       "stream": "stdout",
       "text": [
        "\n",
        "417"
       ]
      },
      {
       "output_type": "stream",
       "stream": "stdout",
       "text": [
        " 258580 1 1000000000.0\n",
        "val=0.1078\n",
        "\n",
        "app=Subway Surfers(417), keyword=+\"\ubc31\uc2e0\"(258580), both=Subway Surfers++\"\ubc31\uc2e0\"(1), pmi=-0.967\n"
       ]
      },
      {
       "output_type": "stream",
       "stream": "stdout",
       "text": [
        "\n",
        "417"
       ]
      },
      {
       "output_type": "stream",
       "stream": "stdout",
       "text": [
        "\n",
        "2226457"
       ]
      },
      {
       "output_type": "stream",
       "stream": "stdout",
       "text": [
        "\n",
        "5"
       ]
      },
      {
       "output_type": "stream",
       "stream": "stdout",
       "text": [
        "\n",
        "417"
       ]
      },
      {
       "output_type": "stream",
       "stream": "stdout",
       "text": [
        " 2226457 5 1000000000.0\n",
        "val=0.1857\n",
        "\n",
        "app=Subway Surfers(417), keyword=+\"\uc6f9\"(2226457), both=Subway Surfers++\"\uc6f9\"(5), pmi=-0.731\n",
        "\n",
        "417"
       ]
      },
      {
       "output_type": "stream",
       "stream": "stdout",
       "text": [
        "\n",
        "1287805"
       ]
      },
      {
       "output_type": "stream",
       "stream": "stdout",
       "text": [
        "\n",
        "3"
       ]
      },
      {
       "output_type": "stream",
       "stream": "stdout",
       "text": [
        "\n",
        "417"
       ]
      },
      {
       "output_type": "stream",
       "stream": "stdout",
       "text": [
        " 1287805 3 1000000000.0\n",
        "val=0.1790\n",
        "\n",
        "app=Subway Surfers(417), keyword=+\"\uc2a4\ud2f0\ucee4\"(1287805), both=Subway Surfers++\"\uc2a4\ud2f0\ucee4\"(3), pmi=-0.747\n",
        "\n",
        "417"
       ]
      },
      {
       "output_type": "stream",
       "stream": "stdout",
       "text": [
        "\n",
        "364842"
       ]
      },
      {
       "output_type": "stream",
       "stream": "stdout",
       "text": [
        "\n",
        "except 0"
       ]
      },
      {
       "output_type": "stream",
       "stream": "stdout",
       "text": [
        "\n",
        "417"
       ]
      },
      {
       "output_type": "stream",
       "stream": "stdout",
       "text": [
        " 364842 0 1000000000.0\n",
        "val=152139114.0000\n",
        "\n",
        "app=Subway Surfers(417), keyword=+\"\uc0ac\uc8fc\"(364842), both=Subway Surfers++\"\uc0ac\uc8fc\"(0), pmi=8.182\n"
       ]
      },
      {
       "output_type": "stream",
       "stream": "stdout",
       "text": [
        "\n",
        "417"
       ]
      },
      {
       "output_type": "stream",
       "stream": "stdout",
       "text": [
        "\n",
        "229881"
       ]
      },
      {
       "output_type": "stream",
       "stream": "stdout",
       "text": [
        "\n",
        "except 0"
       ]
      },
      {
       "output_type": "stream",
       "stream": "stdout",
       "text": [
        "\n",
        "417"
       ]
      },
      {
       "output_type": "stream",
       "stream": "stdout",
       "text": [
        " 229881 0 1000000000.0\n",
        "val=95860377.0000\n",
        "\n",
        "app=Subway Surfers(417), keyword=+\"\uc6b4\uc138\"(229881), both=Subway Surfers++\"\uc6b4\uc138\"(0), pmi=7.982\n",
        "\n",
        "417"
       ]
      },
      {
       "output_type": "stream",
       "stream": "stdout",
       "text": [
        "\n",
        "680922"
       ]
      },
      {
       "output_type": "stream",
       "stream": "stdout",
       "text": [
        "\n",
        "1"
       ]
      },
      {
       "output_type": "stream",
       "stream": "stdout",
       "text": [
        "\n",
        "417"
       ]
      },
      {
       "output_type": "stream",
       "stream": "stdout",
       "text": [
        " 680922 1 1000000000.0\n",
        "val=0.2839\n",
        "\n",
        "app=Subway Surfers(417), keyword=+\"\ucf54\ubbf9\"(680922), both=Subway Surfers++\"\ucf54\ubbf9\"(1), pmi=-0.547\n",
        "\n",
        "417"
       ]
      },
      {
       "output_type": "stream",
       "stream": "stdout",
       "text": [
        "\n",
        "1210747"
       ]
      },
      {
       "output_type": "stream",
       "stream": "stdout",
       "text": [
        "\n",
        "31"
       ]
      },
      {
       "output_type": "stream",
       "stream": "stdout",
       "text": [
        "\n",
        "417"
       ]
      },
      {
       "output_type": "stream",
       "stream": "stdout",
       "text": [
        " 1210747 31 1000000000.0\n",
        "val=0.0163\n",
        "\n",
        "app=Subway Surfers(417), keyword=+\"3D\"(1210747), both=Subway Surfers++\"3D\"(31), pmi=-1.788\n",
        "\n",
        "417"
       ]
      },
      {
       "output_type": "stream",
       "stream": "stdout",
       "text": [
        "\n",
        "207641"
       ]
      },
      {
       "output_type": "stream",
       "stream": "stdout",
       "text": [
        "\n",
        "except 0"
       ]
      },
      {
       "output_type": "stream",
       "stream": "stdout",
       "text": [
        "\n",
        "417"
       ]
      },
      {
       "output_type": "stream",
       "stream": "stdout",
       "text": [
        " 207641 0 1000000000.0\n",
        "val=86586297.0000\n",
        "\n",
        "app=Subway Surfers(417), keyword=+\"\ubcc4\uc790\ub9ac\"(207641), both=Subway Surfers++\"\ubcc4\uc790\ub9ac\"(0), pmi=7.937\n"
       ]
      },
      {
       "output_type": "stream",
       "stream": "stdout",
       "text": [
        "\n",
        "417"
       ]
      },
      {
       "output_type": "stream",
       "stream": "stdout",
       "text": [
        "\n",
        "212219"
       ]
      },
      {
       "output_type": "stream",
       "stream": "stdout",
       "text": [
        "\n",
        "12"
       ]
      },
      {
       "output_type": "stream",
       "stream": "stdout",
       "text": [
        "\n",
        "417"
       ]
      },
      {
       "output_type": "stream",
       "stream": "stdout",
       "text": [
        " 212219 12 1000000000.0\n",
        "val=0.0074\n",
        "\n",
        "app=Subway Surfers(417), keyword=+\"tool\"(212219), both=Subway Surfers++\"tool\"(12), pmi=-2.132\n",
        "\n",
        "417"
       ]
      },
      {
       "output_type": "stream",
       "stream": "stdout",
       "text": [
        "\n",
        "340733"
       ]
      },
      {
       "output_type": "stream",
       "stream": "stdout",
       "text": [
        "\n",
        "1"
       ]
      },
      {
       "output_type": "stream",
       "stream": "stdout",
       "text": [
        "\n",
        "417"
       ]
      },
      {
       "output_type": "stream",
       "stream": "stdout",
       "text": [
        " 340733 1 1000000000.0\n",
        "val=0.1421\n",
        "\n",
        "app=Subway Surfers(417), keyword=+\"\uc6f9\ud230\"(340733), both=Subway Surfers++\"\uc6f9\ud230\"(1), pmi=-0.847\n",
        "\n",
        "417"
       ]
      },
      {
       "output_type": "stream",
       "stream": "stdout",
       "text": [
        "\n",
        "969969"
       ]
      },
      {
       "output_type": "stream",
       "stream": "stdout",
       "text": [
        "\n",
        "11"
       ]
      },
      {
       "output_type": "stream",
       "stream": "stdout",
       "text": [
        "\n",
        "417"
       ]
      },
      {
       "output_type": "stream",
       "stream": "stdout",
       "text": [
        " 969969 11 1000000000.0\n",
        "val=0.0368\n",
        "\n",
        "app=Subway Surfers(417), keyword=+\"\ud50c\ub808\uc774\uc5b4\"(969969), both=Subway Surfers++\"\ud50c\ub808\uc774\uc5b4\"(11), pmi=-1.434\n",
        "\n",
        "417"
       ]
      },
      {
       "output_type": "stream",
       "stream": "stdout",
       "text": [
        "\n",
        "5034822"
       ]
      },
      {
       "output_type": "stream",
       "stream": "stdout",
       "text": [
        "\n",
        "4"
       ]
      },
      {
       "output_type": "stream",
       "stream": "stdout",
       "text": [
        "\n",
        "417"
       ]
      },
      {
       "output_type": "stream",
       "stream": "stdout",
       "text": [
        " 5034822 4 1000000000.0\n",
        "val=0.5249\n",
        "\n",
        "app=Subway Surfers(417), keyword=+\"\uce74\uba54\ub77c\"(5034822), both=Subway Surfers++\"\uce74\uba54\ub77c\"(4), pmi=-0.280\n",
        "\n",
        "417"
       ]
      },
      {
       "output_type": "stream",
       "stream": "stdout",
       "text": [
        "\n",
        "223504"
       ]
      },
      {
       "output_type": "stream",
       "stream": "stdout",
       "text": [
        "\n",
        "2"
       ]
      },
      {
       "output_type": "stream",
       "stream": "stdout",
       "text": [
        "\n",
        "417"
       ]
      },
      {
       "output_type": "stream",
       "stream": "stdout",
       "text": [
        " 223504 2 1000000000.0\n",
        "val=0.0466\n",
        "\n",
        "app=Subway Surfers(417), keyword=+\"\ubca8\uc18c\ub9ac\"(223504), both=Subway Surfers++\"\ubca8\uc18c\ub9ac\"(2), pmi=-1.332\n",
        "\n",
        "417"
       ]
      },
      {
       "output_type": "stream",
       "stream": "stdout",
       "text": [
        "\n",
        "1855014"
       ]
      },
      {
       "output_type": "stream",
       "stream": "stdout",
       "text": [
        "\n",
        "5"
       ]
      },
      {
       "output_type": "stream",
       "stream": "stdout",
       "text": [
        "\n",
        "417"
       ]
      },
      {
       "output_type": "stream",
       "stream": "stdout",
       "text": [
        " 1855014 5 1000000000.0\n",
        "val=0.1547\n",
        "\n",
        "app=Subway Surfers(417), keyword=+\"\ud55c\uae00\"(1855014), both=Subway Surfers++\"\ud55c\uae00\"(5), pmi=-0.810\n",
        "\n",
        "417"
       ]
      },
      {
       "output_type": "stream",
       "stream": "stdout",
       "text": [
        "\n",
        "451854"
       ]
      },
      {
       "output_type": "stream",
       "stream": "stdout",
       "text": [
        "\n",
        "1"
       ]
      },
      {
       "output_type": "stream",
       "stream": "stdout",
       "text": [
        "\n",
        "417"
       ]
      },
      {
       "output_type": "stream",
       "stream": "stdout",
       "text": [
        " 451854 1 1000000000.0\n",
        "val=0.1884\n",
        "\n",
        "app=Subway Surfers(417), keyword=+\"\uc624\ud53c\uc2a4\"(451854), both=Subway Surfers++\"\uc624\ud53c\uc2a4\"(1), pmi=-0.725\n"
       ]
      },
      {
       "output_type": "stream",
       "stream": "stdout",
       "text": [
        "\n",
        "417"
       ]
      },
      {
       "output_type": "stream",
       "stream": "stdout",
       "text": [
        "\n",
        "479023"
       ]
      },
      {
       "output_type": "stream",
       "stream": "stdout",
       "text": [
        "\n",
        "17"
       ]
      },
      {
       "output_type": "stream",
       "stream": "stdout",
       "text": [
        "\n",
        "417"
       ]
      },
      {
       "output_type": "stream",
       "stream": "stdout",
       "text": [
        " 479023 17 1000000000.0\n",
        "val=0.0118\n",
        "\n",
        "app=Subway Surfers(417), keyword=+\"office\"(479023), both=Subway Surfers++\"office\"(17), pmi=-1.930\n",
        "\n",
        "417"
       ]
      },
      {
       "output_type": "stream",
       "stream": "stdout",
       "text": [
        "\n",
        "1275087"
       ]
      },
      {
       "output_type": "stream",
       "stream": "stdout",
       "text": [
        "\n",
        "1"
       ]
      },
      {
       "output_type": "stream",
       "stream": "stdout",
       "text": [
        "\n",
        "417"
       ]
      },
      {
       "output_type": "stream",
       "stream": "stdout",
       "text": [
        " 1275087 1 1000000000.0\n",
        "val=0.5317\n",
        "\n",
        "app=Subway Surfers(417), keyword=+\"\uc54c\ubc14\"(1275087), both=Subway Surfers++\"\uc54c\ubc14\"(1), pmi=-0.274\n",
        "\n",
        "417"
       ]
      },
      {
       "output_type": "stream",
       "stream": "stdout",
       "text": [
        "\n",
        "1281877"
       ]
      },
      {
       "output_type": "stream",
       "stream": "stdout",
       "text": [
        "\n",
        "22"
       ]
      },
      {
       "output_type": "stream",
       "stream": "stdout",
       "text": [
        "\n",
        "417"
       ]
      },
      {
       "output_type": "stream",
       "stream": "stdout",
       "text": [
        " 1281877 22 1000000000.0\n",
        "val=0.0243\n",
        "\n",
        "app=Subway Surfers(417), keyword=+\"photo\"(1281877), both=Subway Surfers++\"photo\"(22), pmi=-1.614\n",
        "\n",
        "417"
       ]
      },
      {
       "output_type": "stream",
       "stream": "stdout",
       "text": [
        "\n",
        "883693"
       ]
      },
      {
       "output_type": "stream",
       "stream": "stdout",
       "text": [
        "\n",
        "3"
       ]
      },
      {
       "output_type": "stream",
       "stream": "stdout",
       "text": [
        "\n",
        "417"
       ]
      },
      {
       "output_type": "stream",
       "stream": "stdout",
       "text": [
        " 883693 3 1000000000.0\n",
        "val=0.1228\n",
        "\n",
        "app=Subway Surfers(417), keyword=+\"\ub4dc\ub77c\uc774\ube0c\"(883693), both=Subway Surfers++\"\ub4dc\ub77c\uc774\ube0c\"(3), pmi=-0.911\n",
        "\n",
        "417"
       ]
      },
      {
       "output_type": "stream",
       "stream": "stdout",
       "text": [
        "\n",
        "3698081"
       ]
      },
      {
       "output_type": "stream",
       "stream": "stdout",
       "text": [
        "\n",
        "16"
       ]
      },
      {
       "output_type": "stream",
       "stream": "stdout",
       "text": [
        "\n",
        "417"
       ]
      },
      {
       "output_type": "stream",
       "stream": "stdout",
       "text": [
        " 3698081 16 1000000000.0\n",
        "val=0.0964\n",
        "\n",
        "app=Subway Surfers(417), keyword=+\"\ud30c\uc77c\"(3698081), both=Subway Surfers++\"\ud30c\uc77c\"(16), pmi=-1.016\n",
        "\n",
        "417"
       ]
      },
      {
       "output_type": "stream",
       "stream": "stdout",
       "text": [
        "\n",
        "1045485"
       ]
      },
      {
       "output_type": "stream",
       "stream": "stdout",
       "text": [
        "\n",
        "1"
       ]
      },
      {
       "output_type": "stream",
       "stream": "stdout",
       "text": [
        "\n",
        "417"
       ]
      },
      {
       "output_type": "stream",
       "stream": "stdout",
       "text": [
        " 1045485 1 1000000000.0\n",
        "val=0.4360\n",
        "\n",
        "app=Subway Surfers(417), keyword=+\"\uac24\ub7ec\ub9ac\"(1045485), both=Subway Surfers++\"\uac24\ub7ec\ub9ac\"(1), pmi=-0.361\n",
        "\n",
        "417"
       ]
      },
      {
       "output_type": "stream",
       "stream": "stdout",
       "text": [
        "\n",
        "2716637"
       ]
      },
      {
       "output_type": "stream",
       "stream": "stdout",
       "text": [
        "\n",
        "1"
       ]
      },
      {
       "output_type": "stream",
       "stream": "stdout",
       "text": [
        "\n",
        "417"
       ]
      },
      {
       "output_type": "stream",
       "stream": "stdout",
       "text": [
        " 2716637 1 1000000000.0\n",
        "val=1.1328\n",
        "\n",
        "app=Subway Surfers(417), keyword=+\"\uadf8\ub8f9\"(2716637), both=Subway Surfers++\"\uadf8\ub8f9\"(1), pmi=0.054\n"
       ]
      },
      {
       "output_type": "stream",
       "stream": "stdout",
       "text": [
        "\n",
        "417"
       ]
      },
      {
       "output_type": "stream",
       "stream": "stdout",
       "text": [
        "\n",
        "110182"
       ]
      },
      {
       "output_type": "stream",
       "stream": "stdout",
       "text": [
        "\n",
        "except 0"
       ]
      },
      {
       "output_type": "stream",
       "stream": "stdout",
       "text": [
        "\n",
        "417"
       ]
      },
      {
       "output_type": "stream",
       "stream": "stdout",
       "text": [
        " 110182 0 1000000000.0\n",
        "val=45945894.0000\n",
        "\n",
        "app=Subway Surfers(417), keyword=+\"\ubc14\ucf54\ub4dc\"(110182), both=Subway Surfers++\"\ubc14\ucf54\ub4dc\"(0), pmi=7.662\n",
        "\n",
        "417"
       ]
      },
      {
       "output_type": "stream",
       "stream": "stdout",
       "text": [
        "\n",
        "102124"
       ]
      },
      {
       "output_type": "stream",
       "stream": "stdout",
       "text": [
        "\n",
        "except 0"
       ]
      },
      {
       "output_type": "stream",
       "stream": "stdout",
       "text": [
        "\n",
        "417"
       ]
      },
      {
       "output_type": "stream",
       "stream": "stdout",
       "text": [
        " 102124 0 1000000000.0\n",
        "val=42585708.0000\n",
        "\n",
        "app=Subway Surfers(417), keyword=+\"\uc2a4\uce90\ub108\"(102124), both=Subway Surfers++\"\uc2a4\uce90\ub108\"(0), pmi=7.629\n",
        "\n",
        "417"
       ]
      },
      {
       "output_type": "stream",
       "stream": "stdout",
       "text": [
        "\n",
        "180893"
       ]
      },
      {
       "output_type": "stream",
       "stream": "stdout",
       "text": [
        "\n",
        "except 0"
       ]
      },
      {
       "output_type": "stream",
       "stream": "stdout",
       "text": [
        "\n",
        "417"
       ]
      },
      {
       "output_type": "stream",
       "stream": "stdout",
       "text": [
        " 180893 0 1000000000.0\n",
        "val=75432381.0000\n",
        "\n",
        "app=Subway Surfers(417), keyword=+\"\uc18c\uc15c\ucee4\uba38\uc2a4\"(180893), both=Subway Surfers++\"\uc18c\uc15c\ucee4\uba38\uc2a4\"(0), pmi=7.878\n",
        "\n",
        "417"
       ]
      },
      {
       "output_type": "stream",
       "stream": "stdout",
       "text": [
        "\n",
        "1042586"
       ]
      },
      {
       "output_type": "stream",
       "stream": "stdout",
       "text": [
        "\n",
        "10"
       ]
      },
      {
       "output_type": "stream",
       "stream": "stdout",
       "text": [
        "\n",
        "417"
       ]
      },
      {
       "output_type": "stream",
       "stream": "stdout",
       "text": [
        " 1042586 10 1000000000.0\n",
        "val=0.0435\n",
        "\n",
        "app=Subway Surfers(417), keyword=+\"\uc18c\uc15c\"(1042586), both=Subway Surfers++\"\uc18c\uc15c\"(10), pmi=-1.362\n"
       ]
      },
      {
       "output_type": "stream",
       "stream": "stdout",
       "text": [
        "\n",
        "417"
       ]
      },
      {
       "output_type": "stream",
       "stream": "stdout",
       "text": [
        "\n",
        "except 0"
       ]
      },
      {
       "output_type": "stream",
       "stream": "stdout",
       "text": [
        "\n",
        "except 0"
       ]
      },
      {
       "output_type": "stream",
       "stream": "stdout",
       "text": [
        "\n",
        "417"
       ]
      },
      {
       "output_type": "stream",
       "stream": "stdout",
       "text": [
        " 0 0 1000000000.0\n",
        "val=0.0000\n",
        "\n",
        "app=Subway Surfers(417), keyword=+\"\uc131\uc778\"(0), both=Subway Surfers++\"\uc131\uc778\"(0), pmi=0.000\n",
        "\n",
        "417"
       ]
      },
      {
       "output_type": "stream",
       "stream": "stdout",
       "text": [
        "\n",
        "except 0"
       ]
      },
      {
       "output_type": "stream",
       "stream": "stdout",
       "text": [
        "\n",
        "except 0"
       ]
      },
      {
       "output_type": "stream",
       "stream": "stdout",
       "text": [
        "\n",
        "417"
       ]
      },
      {
       "output_type": "stream",
       "stream": "stdout",
       "text": [
        " 0 0 1000000000.0\n",
        "val=0.0000\n",
        "\n",
        "app=Subway Surfers(417), keyword=+\"sex\"(0), both=Subway Surfers++\"sex\"(0), pmi=0.000\n"
       ]
      },
      {
       "output_type": "stream",
       "stream": "stdout",
       "text": [
        "\n",
        "417"
       ]
      },
      {
       "output_type": "stream",
       "stream": "stdout",
       "text": [
        "\n",
        "3358560"
       ]
      },
      {
       "output_type": "stream",
       "stream": "stdout",
       "text": [
        "\n",
        "4"
       ]
      },
      {
       "output_type": "stream",
       "stream": "stdout",
       "text": [
        "\n",
        "417"
       ]
      },
      {
       "output_type": "stream",
       "stream": "stdout",
       "text": [
        " 3358560 4 1000000000.0\n",
        "val=0.3501\n",
        "\n",
        "app=Subway Surfers(417), keyword=+\"\uc5b4\ub978\"(3358560), both=Subway Surfers++\"\uc5b4\ub978\"(4), pmi=-0.456\n",
        "\n",
        "417"
       ]
      },
      {
       "output_type": "stream",
       "stream": "stdout",
       "text": [
        "\n",
        "except 0"
       ]
      },
      {
       "output_type": "stream",
       "stream": "stdout",
       "text": [
        "\n",
        "except 0"
       ]
      },
      {
       "output_type": "stream",
       "stream": "stdout",
       "text": [
        "\n",
        "417"
       ]
      },
      {
       "output_type": "stream",
       "stream": "stdout",
       "text": [
        " 0 0 1000000000.0\n",
        "val=0.0000\n",
        "\n",
        "app=Subway Surfers(417), keyword=+\"\uc139\uc2a4\"(0), both=Subway Surfers++\"\uc139\uc2a4\"(0), pmi=0.000\n",
        "\n",
        "done.\n"
       ]
      }
     ],
     "prompt_number": 37
    },
    {
     "cell_type": "code",
     "collapsed": false,
     "input": [],
     "language": "python",
     "metadata": {},
     "outputs": []
    },
    {
     "cell_type": "code",
     "collapsed": false,
     "input": [
      "tempa = \"\ub4dc\ub798\uace4 \ud50c\ub77c\uc774\ud2b8 for\"\n",
      "print tempa.replace(\" \", \"+\")"
     ],
     "language": "python",
     "metadata": {},
     "outputs": [
      {
       "output_type": "stream",
       "stream": "stdout",
       "text": [
        "\ub4dc\ub798\uace4+\ud50c\ub77c\uc774\ud2b8+for\n"
       ]
      }
     ],
     "prompt_number": 38
    },
    {
     "cell_type": "code",
     "collapsed": false,
     "input": [
      "DatabaseManager.set_query_count(\"\uacbd\uc8fc\", 1234)\n",
      "DatabaseManager.get_query_count(\"\ub4dc\ub798\uace4+\ud50c\ub77c\uc774\ud2b8+for+Kakao\")\n"
     ],
     "language": "python",
     "metadata": {},
     "outputs": [
      {
       "metadata": {},
       "output_type": "pyout",
       "prompt_number": 29,
       "text": [
        "98"
       ]
      }
     ],
     "prompt_number": 29
    },
    {
     "cell_type": "code",
     "collapsed": false,
     "input": [
      "\ud558\ub298"
     ],
     "language": "python",
     "metadata": {},
     "outputs": []
    },
    {
     "cell_type": "code",
     "collapsed": false,
     "input": [
      "keyword = keywords\n",
      "searchWordArray = np.array(res3)\n",
      "#for i, a in app2_2000_name.iterrows():\n",
      "#    print a['name']\n",
      "for a in searchWordArray:\n",
      "    a = ''.join(a)\n",
      "    sys.stdout.flush()\n",
      "    sys.stdout.write('\\r') \n",
      "    sys.stdout.write(\"app %s start\\n\" % a)\n",
      "    for key in keyword:\n",
      "        sys.stdout.write(\"  key %s start: \" %key)\n",
      "        searchWordList = [\"+\".join(a)+key]\n",
      "        cw = CrawlingManager(searchWordsAsSeries=searchWordList)\n",
      "        cw.start()\n",
      "        \n",
      "        pmi = calcPMI(DatabaseManager.get_query_count(a.replace(\" \", \"+\")),\\\n",
      "                      DatabaseManager.get_query_count(key.replace(\" \", \"+\")),\\\n",
      "                      DatabaseManager.get_query_count((\"\".join(a)+key).replace(\" \", \"+\")), 1000000000.0)\n",
      "        DatabaseManager.set_app_keyword_pmi(a, key, pmi)\n",
      "        sys.stdout.write(\"pmi=%.2f : (%s), (%s), (%s)\\n\" % (pmi, a, key, \"\".join(a)+key))\n",
      "print \"done.\""
     ],
     "language": "python",
     "metadata": {},
     "outputs": [
      {
       "output_type": "stream",
       "stream": "stdout",
       "text": [
        "\r",
        "app \ub4dc\ub798\uace4 \ud50c\ub77c\uc774\ud2b8 for Kakao start\n",
        "  key  start: 1"
       ]
      },
      {
       "output_type": "stream",
       "stream": "stdout",
       "text": [
        "\n",
        "stuck index: 0, \ufffd+\ufffd+\ufffd+\ufffd+\ufffd+\ufffd+\ufffd+\ufffd+\ufffd+ +\ufffd+\ufffd+\ufffd+\ufffd+\ufffd+\ufffd+\ufffd+\ufffd+\ufffd+\ufffd+\ufffd+\ufffd+ +f+o+r+ +K+a+k+a+o \n",
        "stuck at \ufffd+\ufffd+\ufffd+\ufffd+\ufffd+\ufffd+\ufffd+\ufffd+\ufffd+ +\ufffd+\ufffd+\ufffd+\ufffd+\ufffd+\ufffd+\ufffd+\ufffd+\ufffd+\ufffd+\ufffd+\ufffd+ +f+o+r+ +K+a+k+a+o\n",
        "441007"
       ]
      },
      {
       "output_type": "stream",
       "stream": "stdout",
       "text": [
        "\n",
        "sleeping... :  0\n",
        "escape!!!\n",
        "pmi=0.00 : (\ub4dc\ub798\uace4 \ud50c\ub77c\uc774\ud2b8 for Kakao), (), (\ub4dc\ub798\uace4 \ud50c\ub77c\uc774\ud2b8 for Kakao)\n"
       ]
      },
      {
       "output_type": "stream",
       "stream": "stdout",
       "text": [
        "  key +\"\ufeff\ud37c\uc990\" start: except 0"
       ]
      },
      {
       "output_type": "stream",
       "stream": "stdout",
       "text": [
        "\n",
        "stuck index: 0, \ufffd+\ufffd+\ufffd+\ufffd+\ufffd+\ufffd+\ufffd+\ufffd+\ufffd+ +\ufffd+\ufffd+\ufffd+\ufffd+\ufffd+\ufffd+\ufffd+\ufffd+\ufffd+\ufffd+\ufffd+\ufffd+ +f+o+r+ +K+a+k+a+o+\"\ufeff\ud37c\uc990\" \n",
        "stuck at \ufffd+\ufffd+\ufffd+\ufffd+\ufffd+\ufffd+\ufffd+\ufffd+\ufffd+ +\ufffd+\ufffd+\ufffd+\ufffd+\ufffd+\ufffd+\ufffd+\ufffd+\ufffd+\ufffd+\ufffd+\ufffd+ +f+o+r+ +K+a+k+a+o+\"\ufeff\ud37c\uc990\"\n",
        "2066"
       ]
      },
      {
       "output_type": "stream",
       "stream": "stdout",
       "text": [
        "\n",
        "sleeping... :  0\n",
        "escape!!!\n",
        "pmi=0.00 : (\ub4dc\ub798\uace4 \ud50c\ub77c\uc774\ud2b8 for Kakao), (+\"\ufeff\ud37c\uc990\"), (\ub4dc\ub798\uace4 \ud50c\ub77c\uc774\ud2b8 for Kakao+\"\ufeff\ud37c\uc990\")\n"
       ]
      },
      {
       "output_type": "stream",
       "stream": "stdout",
       "text": [
        "  key +\"\uce90\uc8fc\uc5bc\" start: except 0"
       ]
      },
      {
       "output_type": "stream",
       "stream": "stdout",
       "text": [
        "\n",
        "stuck index: 0, \ufffd+\ufffd+\ufffd+\ufffd+\ufffd+\ufffd+\ufffd+\ufffd+\ufffd+ +\ufffd+\ufffd+\ufffd+\ufffd+\ufffd+\ufffd+\ufffd+\ufffd+\ufffd+\ufffd+\ufffd+\ufffd+ +f+o+r+ +K+a+k+a+o+\"\uce90\uc8fc\uc5bc\" \n",
        "stuck at \ufffd+\ufffd+\ufffd+\ufffd+\ufffd+\ufffd+\ufffd+\ufffd+\ufffd+ +\ufffd+\ufffd+\ufffd+\ufffd+\ufffd+\ufffd+\ufffd+\ufffd+\ufffd+\ufffd+\ufffd+\ufffd+ +f+o+r+ +K+a+k+a+o+\"\uce90\uc8fc\uc5bc\"\n",
        "1337"
       ]
      },
      {
       "output_type": "stream",
       "stream": "stdout",
       "text": [
        "\n",
        "sleeping... :  0\n",
        "escape!!!\n",
        "pmi=0.00 : (\ub4dc\ub798\uace4 \ud50c\ub77c\uc774\ud2b8 for Kakao), (+\"\uce90\uc8fc\uc5bc\"), (\ub4dc\ub798\uace4 \ud50c\ub77c\uc774\ud2b8 for Kakao+\"\uce90\uc8fc\uc5bc\")\n"
       ]
      },
      {
       "output_type": "stream",
       "stream": "stdout",
       "text": [
        "  key +\"\uc544\ucf00\uc774\ub4dc\" start: except 0"
       ]
      },
      {
       "output_type": "stream",
       "stream": "stdout",
       "text": [
        "\n",
        "stuck index: 0, \ufffd+\ufffd+\ufffd+\ufffd+\ufffd+\ufffd+\ufffd+\ufffd+\ufffd+ +\ufffd+\ufffd+\ufffd+\ufffd+\ufffd+\ufffd+\ufffd+\ufffd+\ufffd+\ufffd+\ufffd+\ufffd+ +f+o+r+ +K+a+k+a+o+\"\uc544\ucf00\uc774\ub4dc\" \n",
        "stuck at \ufffd+\ufffd+\ufffd+\ufffd+\ufffd+\ufffd+\ufffd+\ufffd+\ufffd+ +\ufffd+\ufffd+\ufffd+\ufffd+\ufffd+\ufffd+\ufffd+\ufffd+\ufffd+\ufffd+\ufffd+\ufffd+ +f+o+r+ +K+a+k+a+o+\"\uc544\ucf00\uc774\ub4dc\"\n",
        "685"
       ]
      },
      {
       "output_type": "stream",
       "stream": "stdout",
       "text": [
        "\n",
        "sleeping... :  0\n",
        "escape!!!\n",
        "pmi=0.00 : (\ub4dc\ub798\uace4 \ud50c\ub77c\uc774\ud2b8 for Kakao), (+\"\uc544\ucf00\uc774\ub4dc\"), (\ub4dc\ub798\uace4 \ud50c\ub77c\uc774\ud2b8 for Kakao+\"\uc544\ucf00\uc774\ub4dc\")\n"
       ]
      },
      {
       "output_type": "stream",
       "stream": "stdout",
       "text": [
        "  key +\"\uc5ec\uc131\" start: except 0"
       ]
      },
      {
       "output_type": "stream",
       "stream": "stdout",
       "text": [
        "\n",
        "stuck index: 0, \ufffd+\ufffd+\ufffd+\ufffd+\ufffd+\ufffd+\ufffd+\ufffd+\ufffd+ +\ufffd+\ufffd+\ufffd+\ufffd+\ufffd+\ufffd+\ufffd+\ufffd+\ufffd+\ufffd+\ufffd+\ufffd+ +f+o+r+ +K+a+k+a+o+\"\uc5ec\uc131\" \n",
        "stuck at \ufffd+\ufffd+\ufffd+\ufffd+\ufffd+\ufffd+\ufffd+\ufffd+\ufffd+ +\ufffd+\ufffd+\ufffd+\ufffd+\ufffd+\ufffd+\ufffd+\ufffd+\ufffd+\ufffd+\ufffd+\ufffd+ +f+o+r+ +K+a+k+a+o+\"\uc5ec\uc131\"\n",
        "23611"
       ]
      },
      {
       "output_type": "stream",
       "stream": "stdout",
       "text": [
        "\n",
        "sleeping... :  0\n",
        "escape!!!\n",
        "pmi=0.00 : (\ub4dc\ub798\uace4 \ud50c\ub77c\uc774\ud2b8 for Kakao), (+\"\uc5ec\uc131\"), (\ub4dc\ub798\uace4 \ud50c\ub77c\uc774\ud2b8 for Kakao+\"\uc5ec\uc131\")\n"
       ]
      },
      {
       "output_type": "stream",
       "stream": "stdout",
       "text": [
        "  key +\"\ub0a8\uc131\" start: except 0"
       ]
      },
      {
       "output_type": "stream",
       "stream": "stdout",
       "text": [
        "\n",
        "stuck index: 0, \ufffd+\ufffd+\ufffd+\ufffd+\ufffd+\ufffd+\ufffd+\ufffd+\ufffd+ +\ufffd+\ufffd+\ufffd+\ufffd+\ufffd+\ufffd+\ufffd+\ufffd+\ufffd+\ufffd+\ufffd+\ufffd+ +f+o+r+ +K+a+k+a+o+\"\ub0a8\uc131\" \n",
        "stuck at \ufffd+\ufffd+\ufffd+\ufffd+\ufffd+\ufffd+\ufffd+\ufffd+\ufffd+ +\ufffd+\ufffd+\ufffd+\ufffd+\ufffd+\ufffd+\ufffd+\ufffd+\ufffd+\ufffd+\ufffd+\ufffd+ +f+o+r+ +K+a+k+a+o+\"\ub0a8\uc131\"\n",
        "11062"
       ]
      },
      {
       "output_type": "stream",
       "stream": "stdout",
       "text": [
        "\n",
        "sleeping... :  0\n",
        "escape!!!\n",
        "pmi=0.00 : (\ub4dc\ub798\uace4 \ud50c\ub77c\uc774\ud2b8 for Kakao), (+\"\ub0a8\uc131\"), (\ub4dc\ub798\uace4 \ud50c\ub77c\uc774\ud2b8 for Kakao+\"\ub0a8\uc131\")\n"
       ]
      },
      {
       "output_type": "stream",
       "stream": "stdout",
       "text": [
        "  key +\"\uce5c\uad6c\" start: except 0"
       ]
      },
      {
       "output_type": "stream",
       "stream": "stdout",
       "text": [
        "\n",
        "stuck index: 0, \ufffd+\ufffd+\ufffd+\ufffd+\ufffd+\ufffd+\ufffd+\ufffd+\ufffd+ +\ufffd+\ufffd+\ufffd+\ufffd+\ufffd+\ufffd+\ufffd+\ufffd+\ufffd+\ufffd+\ufffd+\ufffd+ +f+o+r+ +K+a+k+a+o+\"\uce5c\uad6c\" \n",
        "stuck at \ufffd+\ufffd+\ufffd+\ufffd+\ufffd+\ufffd+\ufffd+\ufffd+\ufffd+ +\ufffd+\ufffd+\ufffd+\ufffd+\ufffd+\ufffd+\ufffd+\ufffd+\ufffd+\ufffd+\ufffd+\ufffd+ +f+o+r+ +K+a+k+a+o+\"\uce5c\uad6c\"\n",
        "37459"
       ]
      },
      {
       "output_type": "stream",
       "stream": "stdout",
       "text": [
        "\n",
        "sleeping... :  0\n",
        "escape!!!\n",
        "pmi=0.00 : (\ub4dc\ub798\uace4 \ud50c\ub77c\uc774\ud2b8 for Kakao), (+\"\uce5c\uad6c\"), (\ub4dc\ub798\uace4 \ud50c\ub77c\uc774\ud2b8 for Kakao+\"\uce5c\uad6c\")\n"
       ]
      },
      {
       "output_type": "stream",
       "stream": "stdout",
       "text": [
        "  key +\"\uc5f0\uc560\" start: except 0"
       ]
      },
      {
       "output_type": "stream",
       "stream": "stdout",
       "text": [
        "\n",
        "stuck index: 0, \ufffd+\ufffd+\ufffd+\ufffd+\ufffd+\ufffd+\ufffd+\ufffd+\ufffd+ +\ufffd+\ufffd+\ufffd+\ufffd+\ufffd+\ufffd+\ufffd+\ufffd+\ufffd+\ufffd+\ufffd+\ufffd+ +f+o+r+ +K+a+k+a+o+\"\uc5f0\uc560\" \n",
        "stuck at \ufffd+\ufffd+\ufffd+\ufffd+\ufffd+\ufffd+\ufffd+\ufffd+\ufffd+ +\ufffd+\ufffd+\ufffd+\ufffd+\ufffd+\ufffd+\ufffd+\ufffd+\ufffd+\ufffd+\ufffd+\ufffd+ +f+o+r+ +K+a+k+a+o+\"\uc5f0\uc560\"\n",
        "5429"
       ]
      },
      {
       "output_type": "stream",
       "stream": "stdout",
       "text": [
        "\n",
        "sleeping... :  0\n",
        "escape!!!\n",
        "pmi=0.00 : (\ub4dc\ub798\uace4 \ud50c\ub77c\uc774\ud2b8 for Kakao), (+\"\uc5f0\uc560\"), (\ub4dc\ub798\uace4 \ud50c\ub77c\uc774\ud2b8 for Kakao+\"\uc5f0\uc560\")\n"
       ]
      },
      {
       "output_type": "stream",
       "stream": "stdout",
       "text": [
        "  key +\"\uc5f0\uc608\" start: except 0"
       ]
      },
      {
       "output_type": "stream",
       "stream": "stdout",
       "text": [
        "\n",
        "stuck index: 0, \ufffd+\ufffd+\ufffd+\ufffd+\ufffd+\ufffd+\ufffd+\ufffd+\ufffd+ +\ufffd+\ufffd+\ufffd+\ufffd+\ufffd+\ufffd+\ufffd+\ufffd+\ufffd+\ufffd+\ufffd+\ufffd+ +f+o+r+ +K+a+k+a+o+\"\uc5f0\uc608\" \n",
        "stuck at \ufffd+\ufffd+\ufffd+\ufffd+\ufffd+\ufffd+\ufffd+\ufffd+\ufffd+ +\ufffd+\ufffd+\ufffd+\ufffd+\ufffd+\ufffd+\ufffd+\ufffd+\ufffd+\ufffd+\ufffd+\ufffd+ +f+o+r+ +K+a+k+a+o+\"\uc5f0\uc608\"\n",
        "2224"
       ]
      },
      {
       "output_type": "stream",
       "stream": "stdout",
       "text": [
        "\n",
        "sleeping... :  0\n",
        "escape!!!\n",
        "pmi=0.00 : (\ub4dc\ub798\uace4 \ud50c\ub77c\uc774\ud2b8 for Kakao), (+\"\uc5f0\uc608\"), (\ub4dc\ub798\uace4 \ud50c\ub77c\uc774\ud2b8 for Kakao+\"\uc5f0\uc608\")\n"
       ]
      },
      {
       "output_type": "stream",
       "stream": "stdout",
       "text": [
        "  key +\"\uc5bc\uad74\" start: except 0"
       ]
      },
      {
       "output_type": "stream",
       "stream": "stdout",
       "text": [
        "\n",
        "stuck index: 0, \ufffd+\ufffd+\ufffd+\ufffd+\ufffd+\ufffd+\ufffd+\ufffd+\ufffd+ +\ufffd+\ufffd+\ufffd+\ufffd+\ufffd+\ufffd+\ufffd+\ufffd+\ufffd+\ufffd+\ufffd+\ufffd+ +f+o+r+ +K+a+k+a+o+\"\uc5bc\uad74\" "
       ]
      },
      {
       "output_type": "stream",
       "stream": "stdout",
       "text": [
        "\n",
        "stuck at \ufffd+\ufffd+\ufffd+\ufffd+\ufffd+\ufffd+\ufffd+\ufffd+\ufffd+ +\ufffd+\ufffd+\ufffd+\ufffd+\ufffd+\ufffd+\ufffd+\ufffd+\ufffd+\ufffd+\ufffd+\ufffd+ +f+o+r+ +K+a+k+a+o+\"\uc5bc\uad74\"\n",
        "33480"
       ]
      },
      {
       "output_type": "stream",
       "stream": "stdout",
       "text": [
        "\n",
        "sleeping... :  0\n",
        "escape!!!\n",
        "pmi=0.00 : (\ub4dc\ub798\uace4 \ud50c\ub77c\uc774\ud2b8 for Kakao), (+\"\uc5bc\uad74\"), (\ub4dc\ub798\uace4 \ud50c\ub77c\uc774\ud2b8 for Kakao+\"\uc5bc\uad74\")\n"
       ]
      },
      {
       "output_type": "stream",
       "stream": "stdout",
       "text": [
        "  key +\"\uc18d\ub3c4\" start: except 0"
       ]
      },
      {
       "output_type": "stream",
       "stream": "stdout",
       "text": [
        "\n",
        "stuck index: 0, \ufffd+\ufffd+\ufffd+\ufffd+\ufffd+\ufffd+\ufffd+\ufffd+\ufffd+ +\ufffd+\ufffd+\ufffd+\ufffd+\ufffd+\ufffd+\ufffd+\ufffd+\ufffd+\ufffd+\ufffd+\ufffd+ +f+o+r+ +K+a+k+a+o+\"\uc18d\ub3c4\" \n",
        "stuck at \ufffd+\ufffd+\ufffd+\ufffd+\ufffd+\ufffd+\ufffd+\ufffd+\ufffd+ +\ufffd+\ufffd+\ufffd+\ufffd+\ufffd+\ufffd+\ufffd+\ufffd+\ufffd+\ufffd+\ufffd+\ufffd+ +f+o+r+ +K+a+k+a+o+\"\uc18d\ub3c4\"\n",
        "26993"
       ]
      },
      {
       "output_type": "stream",
       "stream": "stdout",
       "text": [
        "\n",
        "sleeping... :  0\n",
        "escape!!!\n",
        "pmi=0.00 : (\ub4dc\ub798\uace4 \ud50c\ub77c\uc774\ud2b8 for Kakao), (+\"\uc18d\ub3c4\"), (\ub4dc\ub798\uace4 \ud50c\ub77c\uc774\ud2b8 for Kakao+\"\uc18d\ub3c4\")\n"
       ]
      },
      {
       "output_type": "stream",
       "stream": "stdout",
       "text": [
        "  key +\"\ub3c8\" start: except 0"
       ]
      },
      {
       "output_type": "stream",
       "stream": "stdout",
       "text": [
        "\n",
        "stuck index: 0, \ufffd+\ufffd+\ufffd+\ufffd+\ufffd+\ufffd+\ufffd+\ufffd+\ufffd+ +\ufffd+\ufffd+\ufffd+\ufffd+\ufffd+\ufffd+\ufffd+\ufffd+\ufffd+\ufffd+\ufffd+\ufffd+ +f+o+r+ +K+a+k+a+o+\"\ub3c8\" \n",
        "stuck at \ufffd+\ufffd+\ufffd+\ufffd+\ufffd+\ufffd+\ufffd+\ufffd+\ufffd+ +\ufffd+\ufffd+\ufffd+\ufffd+\ufffd+\ufffd+\ufffd+\ufffd+\ufffd+\ufffd+\ufffd+\ufffd+ +f+o+r+ +K+a+k+a+o+\"\ub3c8\"\n",
        "31137"
       ]
      },
      {
       "output_type": "stream",
       "stream": "stdout",
       "text": [
        "\n",
        "sleeping... :  0\n",
        "escape!!!\n",
        "pmi=0.00 : (\ub4dc\ub798\uace4 \ud50c\ub77c\uc774\ud2b8 for Kakao), (+\"\ub3c8\"), (\ub4dc\ub798\uace4 \ud50c\ub77c\uc774\ud2b8 for Kakao+\"\ub3c8\")\n"
       ]
      },
      {
       "output_type": "stream",
       "stream": "stdout",
       "text": [
        "  key +\"\ub79c\ub364\" start: except 0"
       ]
      },
      {
       "output_type": "stream",
       "stream": "stdout",
       "text": [
        "\n",
        "stuck index: 0, \ufffd+\ufffd+\ufffd+\ufffd+\ufffd+\ufffd+\ufffd+\ufffd+\ufffd+ +\ufffd+\ufffd+\ufffd+\ufffd+\ufffd+\ufffd+\ufffd+\ufffd+\ufffd+\ufffd+\ufffd+\ufffd+ +f+o+r+ +K+a+k+a+o+\"\ub79c\ub364\" \n",
        "stuck at \ufffd+\ufffd+\ufffd+\ufffd+\ufffd+\ufffd+\ufffd+\ufffd+\ufffd+ +\ufffd+\ufffd+\ufffd+\ufffd+\ufffd+\ufffd+\ufffd+\ufffd+\ufffd+\ufffd+\ufffd+\ufffd+ +f+o+r+ +K+a+k+a+o+\"\ub79c\ub364\"\n",
        "3290"
       ]
      },
      {
       "output_type": "stream",
       "stream": "stdout",
       "text": [
        "\n",
        "sleeping... :  0\n",
        "escape!!!\n",
        "pmi=0.00 : (\ub4dc\ub798\uace4 \ud50c\ub77c\uc774\ud2b8 for Kakao), (+\"\ub79c\ub364\"), (\ub4dc\ub798\uace4 \ud50c\ub77c\uc774\ud2b8 for Kakao+\"\ub79c\ub364\")\n"
       ]
      },
      {
       "output_type": "stream",
       "stream": "stdout",
       "text": [
        "  key +\"random\" start: except 0"
       ]
      },
      {
       "output_type": "stream",
       "stream": "stdout",
       "text": [
        "\n",
        "stuck index: 0, \ufffd+\ufffd+\ufffd+\ufffd+\ufffd+\ufffd+\ufffd+\ufffd+\ufffd+ +\ufffd+\ufffd+\ufffd+\ufffd+\ufffd+\ufffd+\ufffd+\ufffd+\ufffd+\ufffd+\ufffd+\ufffd+ +f+o+r+ +K+a+k+a+o+\"random\" \n",
        "stuck at \ufffd+\ufffd+\ufffd+\ufffd+\ufffd+\ufffd+\ufffd+\ufffd+\ufffd+ +\ufffd+\ufffd+\ufffd+\ufffd+\ufffd+\ufffd+\ufffd+\ufffd+\ufffd+\ufffd+\ufffd+\ufffd+ +f+o+r+ +K+a+k+a+o+\"random\"\n",
        "8317"
       ]
      },
      {
       "output_type": "stream",
       "stream": "stdout",
       "text": [
        "\n",
        "sleeping... :  0\n",
        "escape!!!\n",
        "pmi=0.00 : (\ub4dc\ub798\uace4 \ud50c\ub77c\uc774\ud2b8 for Kakao), (+\"random\"), (\ub4dc\ub798\uace4 \ud50c\ub77c\uc774\ud2b8 for Kakao+\"random\")\n"
       ]
      },
      {
       "output_type": "stream",
       "stream": "stdout",
       "text": [
        "  key +\"\uc74c\uc2dd\" start: except 0"
       ]
      },
      {
       "output_type": "stream",
       "stream": "stdout",
       "text": [
        "\n",
        "stuck index: 0, \ufffd+\ufffd+\ufffd+\ufffd+\ufffd+\ufffd+\ufffd+\ufffd+\ufffd+ +\ufffd+\ufffd+\ufffd+\ufffd+\ufffd+\ufffd+\ufffd+\ufffd+\ufffd+\ufffd+\ufffd+\ufffd+ +f+o+r+ +K+a+k+a+o+\"\uc74c\uc2dd\" \n",
        "stuck at \ufffd+\ufffd+\ufffd+\ufffd+\ufffd+\ufffd+\ufffd+\ufffd+\ufffd+ +\ufffd+\ufffd+\ufffd+\ufffd+\ufffd+\ufffd+\ufffd+\ufffd+\ufffd+\ufffd+\ufffd+\ufffd+ +f+o+r+ +K+a+k+a+o+\"\uc74c\uc2dd\"\n",
        "16590"
       ]
      },
      {
       "output_type": "stream",
       "stream": "stdout",
       "text": [
        "\n",
        "sleeping... :  0\n",
        "escape!!!\n",
        "pmi=0.00 : (\ub4dc\ub798\uace4 \ud50c\ub77c\uc774\ud2b8 for Kakao), (+\"\uc74c\uc2dd\"), (\ub4dc\ub798\uace4 \ud50c\ub77c\uc774\ud2b8 for Kakao+\"\uc74c\uc2dd\")\n"
       ]
      },
      {
       "output_type": "stream",
       "stream": "stdout",
       "text": [
        "  key +\"\ubc29\ubc95\" start: except 0"
       ]
      },
      {
       "output_type": "stream",
       "stream": "stdout",
       "text": [
        "\n",
        "stuck index: 0, \ufffd+\ufffd+\ufffd+\ufffd+\ufffd+\ufffd+\ufffd+\ufffd+\ufffd+ +\ufffd+\ufffd+\ufffd+\ufffd+\ufffd+\ufffd+\ufffd+\ufffd+\ufffd+\ufffd+\ufffd+\ufffd+ +f+o+r+ +K+a+k+a+o+\"\ubc29\ubc95\" \n",
        "stuck at \ufffd+\ufffd+\ufffd+\ufffd+\ufffd+\ufffd+\ufffd+\ufffd+\ufffd+ +\ufffd+\ufffd+\ufffd+\ufffd+\ufffd+\ufffd+\ufffd+\ufffd+\ufffd+\ufffd+\ufffd+\ufffd+ +f+o+r+ +K+a+k+a+o+\"\ubc29\ubc95\"\n",
        "70870"
       ]
      },
      {
       "output_type": "stream",
       "stream": "stdout",
       "text": [
        "\n",
        "sleeping... :  0\n",
        "escape!!!\n",
        "pmi=0.00 : (\ub4dc\ub798\uace4 \ud50c\ub77c\uc774\ud2b8 for Kakao), (+\"\ubc29\ubc95\"), (\ub4dc\ub798\uace4 \ud50c\ub77c\uc774\ud2b8 for Kakao+\"\ubc29\ubc95\")\n"
       ]
      },
      {
       "output_type": "stream",
       "stream": "stdout",
       "text": [
        "  key +\"\uc548\ub4dc\ub85c\uc774\ub4dc\" start: except 0"
       ]
      },
      {
       "output_type": "stream",
       "stream": "stdout",
       "text": [
        "\n",
        "stuck index: 0, \ufffd+\ufffd+\ufffd+\ufffd+\ufffd+\ufffd+\ufffd+\ufffd+\ufffd+ +\ufffd+\ufffd+\ufffd+\ufffd+\ufffd+\ufffd+\ufffd+\ufffd+\ufffd+\ufffd+\ufffd+\ufffd+ +f+o+r+ +K+a+k+a+o+\"\uc548\ub4dc\ub85c\uc774\ub4dc\" \n",
        "stuck at \ufffd+\ufffd+\ufffd+\ufffd+\ufffd+\ufffd+\ufffd+\ufffd+\ufffd+ +\ufffd+\ufffd+\ufffd+\ufffd+\ufffd+\ufffd+\ufffd+\ufffd+\ufffd+\ufffd+\ufffd+\ufffd+ +f+o+r+ +K+a+k+a+o+\"\uc548\ub4dc\ub85c\uc774\ub4dc\"\n",
        "2205"
       ]
      },
      {
       "output_type": "stream",
       "stream": "stdout",
       "text": [
        "\n",
        "sleeping... :  0\n",
        "escape!!!\n",
        "pmi=0.00 : (\ub4dc\ub798\uace4 \ud50c\ub77c\uc774\ud2b8 for Kakao), (+\"\uc548\ub4dc\ub85c\uc774\ub4dc\"), (\ub4dc\ub798\uace4 \ud50c\ub77c\uc774\ud2b8 for Kakao+\"\uc548\ub4dc\ub85c\uc774\ub4dc\")\n"
       ]
      },
      {
       "output_type": "stream",
       "stream": "stdout",
       "text": [
        "  key +\"\uc544\uc774\ud3f0\" start: except 0"
       ]
      },
      {
       "output_type": "stream",
       "stream": "stdout",
       "text": [
        "\n",
        "stuck index: 0, \ufffd+\ufffd+\ufffd+\ufffd+\ufffd+\ufffd+\ufffd+\ufffd+\ufffd+ +\ufffd+\ufffd+\ufffd+\ufffd+\ufffd+\ufffd+\ufffd+\ufffd+\ufffd+\ufffd+\ufffd+\ufffd+ +f+o+r+ +K+a+k+a+o+\"\uc544\uc774\ud3f0\" \n",
        "stuck at \ufffd+\ufffd+\ufffd+\ufffd+\ufffd+\ufffd+\ufffd+\ufffd+\ufffd+ +\ufffd+\ufffd+\ufffd+\ufffd+\ufffd+\ufffd+\ufffd+\ufffd+\ufffd+\ufffd+\ufffd+\ufffd+ +f+o+r+ +K+a+k+a+o+\"\uc544\uc774\ud3f0\"\n",
        "2213"
       ]
      },
      {
       "output_type": "stream",
       "stream": "stdout",
       "text": [
        "\n",
        "sleeping... :  0\n",
        "escape!!!\n",
        "pmi=0.00 : (\ub4dc\ub798\uace4 \ud50c\ub77c\uc774\ud2b8 for Kakao), (+\"\uc544\uc774\ud3f0\"), (\ub4dc\ub798\uace4 \ud50c\ub77c\uc774\ud2b8 for Kakao+\"\uc544\uc774\ud3f0\")\n"
       ]
      },
      {
       "output_type": "stream",
       "stream": "stdout",
       "text": [
        "  key +\"android\" start: except 0"
       ]
      },
      {
       "output_type": "stream",
       "stream": "stdout",
       "text": [
        "\n",
        "stuck index: 0, \ufffd+\ufffd+\ufffd+\ufffd+\ufffd+\ufffd+\ufffd+\ufffd+\ufffd+ +\ufffd+\ufffd+\ufffd+\ufffd+\ufffd+\ufffd+\ufffd+\ufffd+\ufffd+\ufffd+\ufffd+\ufffd+ +f+o+r+ +K+a+k+a+o+\"android\" \n",
        "stuck at \ufffd+\ufffd+\ufffd+\ufffd+\ufffd+\ufffd+\ufffd+\ufffd+\ufffd+ +\ufffd+\ufffd+\ufffd+\ufffd+\ufffd+\ufffd+\ufffd+\ufffd+\ufffd+\ufffd+\ufffd+\ufffd+ +f+o+r+ +K+a+k+a+o+\"android\"\n",
        "2578"
       ]
      },
      {
       "output_type": "stream",
       "stream": "stdout",
       "text": [
        "\n",
        "sleeping... :  0\n",
        "escape!!!\n",
        "pmi=0.00 : (\ub4dc\ub798\uace4 \ud50c\ub77c\uc774\ud2b8 for Kakao), (+\"android\"), (\ub4dc\ub798\uace4 \ud50c\ub77c\uc774\ud2b8 for Kakao+\"android\")\n"
       ]
      },
      {
       "output_type": "stream",
       "stream": "stdout",
       "text": [
        "  key +\"iphone\" start: except 0"
       ]
      },
      {
       "output_type": "stream",
       "stream": "stdout",
       "text": [
        "\n",
        "stuck index: 0, \ufffd+\ufffd+\ufffd+\ufffd+\ufffd+\ufffd+\ufffd+\ufffd+\ufffd+ +\ufffd+\ufffd+\ufffd+\ufffd+\ufffd+\ufffd+\ufffd+\ufffd+\ufffd+\ufffd+\ufffd+\ufffd+ +f+o+r+ +K+a+k+a+o+\"iphone\" \n",
        "stuck at \ufffd+\ufffd+\ufffd+\ufffd+\ufffd+\ufffd+\ufffd+\ufffd+\ufffd+ +\ufffd+\ufffd+\ufffd+\ufffd+\ufffd+\ufffd+\ufffd+\ufffd+\ufffd+\ufffd+\ufffd+\ufffd+ +f+o+r+ +K+a+k+a+o+\"iphone\"\n",
        "2951"
       ]
      },
      {
       "output_type": "stream",
       "stream": "stdout",
       "text": [
        "\n",
        "sleeping... :  0\n",
        "escape!!!\n",
        "pmi=0.00 : (\ub4dc\ub798\uace4 \ud50c\ub77c\uc774\ud2b8 for Kakao), (+\"iphone\"), (\ub4dc\ub798\uace4 \ud50c\ub77c\uc774\ud2b8 for Kakao+\"iphone\")\n"
       ]
      },
      {
       "output_type": "stream",
       "stream": "stdout",
       "text": [
        "  key +\"\uc624\ub77d\" start: except 0"
       ]
      },
      {
       "output_type": "stream",
       "stream": "stdout",
       "text": [
        "\n",
        "stuck index: 0, \ufffd+\ufffd+\ufffd+\ufffd+\ufffd+\ufffd+\ufffd+\ufffd+\ufffd+ +\ufffd+\ufffd+\ufffd+\ufffd+\ufffd+\ufffd+\ufffd+\ufffd+\ufffd+\ufffd+\ufffd+\ufffd+ +f+o+r+ +K+a+k+a+o+\"\uc624\ub77d\" \n",
        "stuck at \ufffd+\ufffd+\ufffd+\ufffd+\ufffd+\ufffd+\ufffd+\ufffd+\ufffd+ +\ufffd+\ufffd+\ufffd+\ufffd+\ufffd+\ufffd+\ufffd+\ufffd+\ufffd+\ufffd+\ufffd+\ufffd+ +f+o+r+ +K+a+k+a+o+\"\uc624\ub77d\"\n",
        "2400"
       ]
      },
      {
       "output_type": "stream",
       "stream": "stdout",
       "text": [
        "\n",
        "sleeping... :  0\n",
        "escape!!!\n",
        "pmi=0.00 : (\ub4dc\ub798\uace4 \ud50c\ub77c\uc774\ud2b8 for Kakao), (+\"\uc624\ub77d\"), (\ub4dc\ub798\uace4 \ud50c\ub77c\uc774\ud2b8 for Kakao+\"\uc624\ub77d\")\n"
       ]
      },
      {
       "output_type": "stream",
       "stream": "stdout",
       "text": [
        "  key +\"\uc2ec\ub9ac\" start: except 0"
       ]
      },
      {
       "output_type": "stream",
       "stream": "stdout",
       "text": [
        "\n",
        "stuck index: 0, \ufffd+\ufffd+\ufffd+\ufffd+\ufffd+\ufffd+\ufffd+\ufffd+\ufffd+ +\ufffd+\ufffd+\ufffd+\ufffd+\ufffd+\ufffd+\ufffd+\ufffd+\ufffd+\ufffd+\ufffd+\ufffd+ +f+o+r+ +K+a+k+a+o+\"\uc2ec\ub9ac\" \n",
        "stuck at \ufffd+\ufffd+\ufffd+\ufffd+\ufffd+\ufffd+\ufffd+\ufffd+\ufffd+ +\ufffd+\ufffd+\ufffd+\ufffd+\ufffd+\ufffd+\ufffd+\ufffd+\ufffd+\ufffd+\ufffd+\ufffd+ +f+o+r+ +K+a+k+a+o+\"\uc2ec\ub9ac\"\n",
        "7546"
       ]
      },
      {
       "output_type": "stream",
       "stream": "stdout",
       "text": [
        "\n",
        "sleeping... :  0\n",
        "escape!!!\n",
        "pmi=0.00 : (\ub4dc\ub798\uace4 \ud50c\ub77c\uc774\ud2b8 for Kakao), (+\"\uc2ec\ub9ac\"), (\ub4dc\ub798\uace4 \ud50c\ub77c\uc774\ud2b8 for Kakao+\"\uc2ec\ub9ac\")\n"
       ]
      },
      {
       "output_type": "stream",
       "stream": "stdout",
       "text": [
        "  key +\"\ubd80\uc790\" start: except 0"
       ]
      },
      {
       "output_type": "stream",
       "stream": "stdout",
       "text": [
        "\n",
        "stuck index: 0, \ufffd+\ufffd+\ufffd+\ufffd+\ufffd+\ufffd+\ufffd+\ufffd+\ufffd+ +\ufffd+\ufffd+\ufffd+\ufffd+\ufffd+\ufffd+\ufffd+\ufffd+\ufffd+\ufffd+\ufffd+\ufffd+ +f+o+r+ +K+a+k+a+o+\"\ubd80\uc790\" \n",
        "stuck at \ufffd+\ufffd+\ufffd+\ufffd+\ufffd+\ufffd+\ufffd+\ufffd+\ufffd+ +\ufffd+\ufffd+\ufffd+\ufffd+\ufffd+\ufffd+\ufffd+\ufffd+\ufffd+\ufffd+\ufffd+\ufffd+ +f+o+r+ +K+a+k+a+o+\"\ubd80\uc790\"\n",
        "6296"
       ]
      },
      {
       "output_type": "stream",
       "stream": "stdout",
       "text": [
        "\n",
        "sleeping... :  0\n",
        "escape!!!\n",
        "pmi=0.00 : (\ub4dc\ub798\uace4 \ud50c\ub77c\uc774\ud2b8 for Kakao), (+\"\ubd80\uc790\"), (\ub4dc\ub798\uace4 \ud50c\ub77c\uc774\ud2b8 for Kakao+\"\ubd80\uc790\")\n"
       ]
      },
      {
       "output_type": "stream",
       "stream": "stdout",
       "text": [
        "  key +\"\uc601\uc5b4\" start: except 0"
       ]
      },
      {
       "output_type": "stream",
       "stream": "stdout",
       "text": [
        "\n",
        "stuck index: 0, \ufffd+\ufffd+\ufffd+\ufffd+\ufffd+\ufffd+\ufffd+\ufffd+\ufffd+ +\ufffd+\ufffd+\ufffd+\ufffd+\ufffd+\ufffd+\ufffd+\ufffd+\ufffd+\ufffd+\ufffd+\ufffd+ +f+o+r+ +K+a+k+a+o+\"\uc601\uc5b4\" "
       ]
      },
      {
       "output_type": "stream",
       "stream": "stdout",
       "text": [
        "\n",
        "stuck at \ufffd+\ufffd+\ufffd+\ufffd+\ufffd+\ufffd+\ufffd+\ufffd+\ufffd+ +\ufffd+\ufffd+\ufffd+\ufffd+\ufffd+\ufffd+\ufffd+\ufffd+\ufffd+\ufffd+\ufffd+\ufffd+ +f+o+r+ +K+a+k+a+o+\"\uc601\uc5b4\"\n",
        "28650"
       ]
      },
      {
       "output_type": "stream",
       "stream": "stdout",
       "text": [
        "\n",
        "sleeping... :  0\n",
        "escape!!!\n",
        "pmi=0.00 : (\ub4dc\ub798\uace4 \ud50c\ub77c\uc774\ud2b8 for Kakao), (+\"\uc601\uc5b4\"), (\ub4dc\ub798\uace4 \ud50c\ub77c\uc774\ud2b8 for Kakao+\"\uc601\uc5b4\")\n"
       ]
      },
      {
       "output_type": "stream",
       "stream": "stdout",
       "text": [
        "  key +\"\ud1a0\uc775\" start: except 0"
       ]
      },
      {
       "output_type": "stream",
       "stream": "stdout",
       "text": [
        "\n",
        "stuck index: 0, \ufffd+\ufffd+\ufffd+\ufffd+\ufffd+\ufffd+\ufffd+\ufffd+\ufffd+ +\ufffd+\ufffd+\ufffd+\ufffd+\ufffd+\ufffd+\ufffd+\ufffd+\ufffd+\ufffd+\ufffd+\ufffd+ +f+o+r+ +K+a+k+a+o+\"\ud1a0\uc775\" \n",
        "stuck at \ufffd+\ufffd+\ufffd+\ufffd+\ufffd+\ufffd+\ufffd+\ufffd+\ufffd+ +\ufffd+\ufffd+\ufffd+\ufffd+\ufffd+\ufffd+\ufffd+\ufffd+\ufffd+\ufffd+\ufffd+\ufffd+ +f+o+r+ +K+a+k+a+o+\"\ud1a0\uc775\"\n",
        "1527"
       ]
      },
      {
       "output_type": "stream",
       "stream": "stdout",
       "text": [
        "\n",
        "sleeping... :  0\n",
        "escape!!!\n",
        "pmi=0.00 : (\ub4dc\ub798\uace4 \ud50c\ub77c\uc774\ud2b8 for Kakao), (+\"\ud1a0\uc775\"), (\ub4dc\ub798\uace4 \ud50c\ub77c\uc774\ud2b8 for Kakao+\"\ud1a0\uc775\")\n"
       ]
      },
      {
       "output_type": "stream",
       "stream": "stdout",
       "text": [
        "  key +\"\uacf5\ubd80\" start: except 0"
       ]
      },
      {
       "output_type": "stream",
       "stream": "stdout",
       "text": [
        "\n",
        "stuck index: 0, \ufffd+\ufffd+\ufffd+\ufffd+\ufffd+\ufffd+\ufffd+\ufffd+\ufffd+ +\ufffd+\ufffd+\ufffd+\ufffd+\ufffd+\ufffd+\ufffd+\ufffd+\ufffd+\ufffd+\ufffd+\ufffd+ +f+o+r+ +K+a+k+a+o+\"\uacf5\ubd80\" \n",
        "stuck at \ufffd+\ufffd+\ufffd+\ufffd+\ufffd+\ufffd+\ufffd+\ufffd+\ufffd+ +\ufffd+\ufffd+\ufffd+\ufffd+\ufffd+\ufffd+\ufffd+\ufffd+\ufffd+\ufffd+\ufffd+\ufffd+ +f+o+r+ +K+a+k+a+o+\"\uacf5\ubd80\"\n",
        "22869"
       ]
      },
      {
       "output_type": "stream",
       "stream": "stdout",
       "text": [
        "\n",
        "sleeping... :  0\n",
        "escape!!!\n",
        "pmi=0.00 : (\ub4dc\ub798\uace4 \ud50c\ub77c\uc774\ud2b8 for Kakao), (+\"\uacf5\ubd80\"), (\ub4dc\ub798\uace4 \ud50c\ub77c\uc774\ud2b8 for Kakao+\"\uacf5\ubd80\")\n"
       ]
      },
      {
       "output_type": "stream",
       "stream": "stdout",
       "text": [
        "  key +\"\uc77c\uc815\" start: except 0"
       ]
      },
      {
       "output_type": "stream",
       "stream": "stdout",
       "text": [
        "\n",
        "stuck index: 0, \ufffd+\ufffd+\ufffd+\ufffd+\ufffd+\ufffd+\ufffd+\ufffd+\ufffd+ +\ufffd+\ufffd+\ufffd+\ufffd+\ufffd+\ufffd+\ufffd+\ufffd+\ufffd+\ufffd+\ufffd+\ufffd+ +f+o+r+ +K+a+k+a+o+\"\uc77c\uc815\" \n",
        "stuck at \ufffd+\ufffd+\ufffd+\ufffd+\ufffd+\ufffd+\ufffd+\ufffd+\ufffd+ +\ufffd+\ufffd+\ufffd+\ufffd+\ufffd+\ufffd+\ufffd+\ufffd+\ufffd+\ufffd+\ufffd+\ufffd+ +f+o+r+ +K+a+k+a+o+\"\uc77c\uc815\"\n",
        "26946"
       ]
      },
      {
       "output_type": "stream",
       "stream": "stdout",
       "text": [
        "\n",
        "sleeping... :  0\n",
        "escape!!!\n",
        "pmi=0.00 : (\ub4dc\ub798\uace4 \ud50c\ub77c\uc774\ud2b8 for Kakao), (+\"\uc77c\uc815\"), (\ub4dc\ub798\uace4 \ud50c\ub77c\uc774\ud2b8 for Kakao+\"\uc77c\uc815\")\n"
       ]
      },
      {
       "output_type": "stream",
       "stream": "stdout",
       "text": [
        "  key +\"\ub2ec\ub825\" start: except 0"
       ]
      },
      {
       "output_type": "stream",
       "stream": "stdout",
       "text": [
        "\n",
        "stuck index: 0, \ufffd+\ufffd+\ufffd+\ufffd+\ufffd+\ufffd+\ufffd+\ufffd+\ufffd+ +\ufffd+\ufffd+\ufffd+\ufffd+\ufffd+\ufffd+\ufffd+\ufffd+\ufffd+\ufffd+\ufffd+\ufffd+ +f+o+r+ +K+a+k+a+o+\"\ub2ec\ub825\" \n",
        "stuck at \ufffd+\ufffd+\ufffd+\ufffd+\ufffd+\ufffd+\ufffd+\ufffd+\ufffd+ +\ufffd+\ufffd+\ufffd+\ufffd+\ufffd+\ufffd+\ufffd+\ufffd+\ufffd+\ufffd+\ufffd+\ufffd+ +f+o+r+ +K+a+k+a+o+\"\ub2ec\ub825\"\n",
        "2370"
       ]
      },
      {
       "output_type": "stream",
       "stream": "stdout",
       "text": [
        "\n",
        "sleeping... :  0\n",
        "escape!!!\n",
        "pmi=0.00 : (\ub4dc\ub798\uace4 \ud50c\ub77c\uc774\ud2b8 for Kakao), (+\"\ub2ec\ub825\"), (\ub4dc\ub798\uace4 \ud50c\ub77c\uc774\ud2b8 for Kakao+\"\ub2ec\ub825\")\n"
       ]
      },
      {
       "output_type": "stream",
       "stream": "stdout",
       "text": [
        "  key +\"\uacc4\ud68d\" start: except 0"
       ]
      },
      {
       "output_type": "stream",
       "stream": "stdout",
       "text": [
        "\n",
        "stuck index: 0, \ufffd+\ufffd+\ufffd+\ufffd+\ufffd+\ufffd+\ufffd+\ufffd+\ufffd+ +\ufffd+\ufffd+\ufffd+\ufffd+\ufffd+\ufffd+\ufffd+\ufffd+\ufffd+\ufffd+\ufffd+\ufffd+ +f+o+r+ +K+a+k+a+o+\"\uacc4\ud68d\" \n",
        "stuck at \ufffd+\ufffd+\ufffd+\ufffd+\ufffd+\ufffd+\ufffd+\ufffd+\ufffd+ +\ufffd+\ufffd+\ufffd+\ufffd+\ufffd+\ufffd+\ufffd+\ufffd+\ufffd+\ufffd+\ufffd+\ufffd+ +f+o+r+ +K+a+k+a+o+\"\uacc4\ud68d\"\n",
        "26441"
       ]
      },
      {
       "output_type": "stream",
       "stream": "stdout",
       "text": [
        "\n",
        "sleeping... :  0\n",
        "escape!!!\n",
        "pmi=0.00 : (\ub4dc\ub798\uace4 \ud50c\ub77c\uc774\ud2b8 for Kakao), (+\"\uacc4\ud68d\"), (\ub4dc\ub798\uace4 \ud50c\ub77c\uc774\ud2b8 for Kakao+\"\uacc4\ud68d\")\n"
       ]
      },
      {
       "output_type": "stream",
       "stream": "stdout",
       "text": [
        "  key +\"\uacf5\ub7b5\" start: except 0"
       ]
      },
      {
       "output_type": "stream",
       "stream": "stdout",
       "text": [
        "\n",
        "stuck index: 0, \ufffd+\ufffd+\ufffd+\ufffd+\ufffd+\ufffd+\ufffd+\ufffd+\ufffd+ +\ufffd+\ufffd+\ufffd+\ufffd+\ufffd+\ufffd+\ufffd+\ufffd+\ufffd+\ufffd+\ufffd+\ufffd+ +f+o+r+ +K+a+k+a+o+\"\uacf5\ub7b5\" \n",
        "stuck at \ufffd+\ufffd+\ufffd+\ufffd+\ufffd+\ufffd+\ufffd+\ufffd+\ufffd+ +\ufffd+\ufffd+\ufffd+\ufffd+\ufffd+\ufffd+\ufffd+\ufffd+\ufffd+\ufffd+\ufffd+\ufffd+ +f+o+r+ +K+a+k+a+o+\"\uacf5\ub7b5\"\n",
        "4272"
       ]
      },
      {
       "output_type": "stream",
       "stream": "stdout",
       "text": [
        "\n",
        "sleeping... :  0\n",
        "escape!!!\n",
        "pmi=0.00 : (\ub4dc\ub798\uace4 \ud50c\ub77c\uc774\ud2b8 for Kakao), (+\"\uacf5\ub7b5\"), (\ub4dc\ub798\uace4 \ud50c\ub77c\uc774\ud2b8 for Kakao+\"\uacf5\ub7b5\")\n"
       ]
      },
      {
       "output_type": "stream",
       "stream": "stdout",
       "text": [
        "  key +\"\ub808\uc774\uc2f1\" start: except 0"
       ]
      },
      {
       "output_type": "stream",
       "stream": "stdout",
       "text": [
        "\n",
        "stuck index: 0, \ufffd+\ufffd+\ufffd+\ufffd+\ufffd+\ufffd+\ufffd+\ufffd+\ufffd+ +\ufffd+\ufffd+\ufffd+\ufffd+\ufffd+\ufffd+\ufffd+\ufffd+\ufffd+\ufffd+\ufffd+\ufffd+ +f+o+r+ +K+a+k+a+o+\"\ub808\uc774\uc2f1\" \n",
        "stuck at \ufffd+\ufffd+\ufffd+\ufffd+\ufffd+\ufffd+\ufffd+\ufffd+\ufffd+ +\ufffd+\ufffd+\ufffd+\ufffd+\ufffd+\ufffd+\ufffd+\ufffd+\ufffd+\ufffd+\ufffd+\ufffd+ +f+o+r+ +K+a+k+a+o+\"\ub808\uc774\uc2f1\"\n",
        "1288"
       ]
      },
      {
       "output_type": "stream",
       "stream": "stdout",
       "text": [
        "\n",
        "sleeping... :  0\n",
        "escape!!!\n",
        "pmi=0.00 : (\ub4dc\ub798\uace4 \ud50c\ub77c\uc774\ud2b8 for Kakao), (+\"\ub808\uc774\uc2f1\"), (\ub4dc\ub798\uace4 \ud50c\ub77c\uc774\ud2b8 for Kakao+\"\ub808\uc774\uc2f1\")\n"
       ]
      },
      {
       "output_type": "stream",
       "stream": "stdout",
       "text": [
        "  key +\"RPG\" start: except 0"
       ]
      },
      {
       "output_type": "stream",
       "stream": "stdout",
       "text": [
        "\n",
        "stuck index: 0, \ufffd+\ufffd+\ufffd+\ufffd+\ufffd+\ufffd+\ufffd+\ufffd+\ufffd+ +\ufffd+\ufffd+\ufffd+\ufffd+\ufffd+\ufffd+\ufffd+\ufffd+\ufffd+\ufffd+\ufffd+\ufffd+ +f+o+r+ +K+a+k+a+o+\"RPG\" \n",
        "stuck at \ufffd+\ufffd+\ufffd+\ufffd+\ufffd+\ufffd+\ufffd+\ufffd+\ufffd+ +\ufffd+\ufffd+\ufffd+\ufffd+\ufffd+\ufffd+\ufffd+\ufffd+\ufffd+\ufffd+\ufffd+\ufffd+ +f+o+r+ +K+a+k+a+o+\"RPG\"\n",
        "1369"
       ]
      },
      {
       "output_type": "stream",
       "stream": "stdout",
       "text": [
        "\n",
        "sleeping... :  0\n",
        "escape!!!\n",
        "pmi=0.00 : (\ub4dc\ub798\uace4 \ud50c\ub77c\uc774\ud2b8 for Kakao), (+\"RPG\"), (\ub4dc\ub798\uace4 \ud50c\ub77c\uc774\ud2b8 for Kakao+\"RPG\")\n",
        "  key +\"\uce74\ub4dc\" start: except 0"
       ]
      },
      {
       "output_type": "stream",
       "stream": "stdout",
       "text": [
        "\n",
        "stuck index: 0, \ufffd+\ufffd+\ufffd+\ufffd+\ufffd+\ufffd+\ufffd+\ufffd+\ufffd+ +\ufffd+\ufffd+\ufffd+\ufffd+\ufffd+\ufffd+\ufffd+\ufffd+\ufffd+\ufffd+\ufffd+\ufffd+ +f+o+r+ +K+a+k+a+o+\"\uce74\ub4dc\" \n",
        "stuck at \ufffd+\ufffd+\ufffd+\ufffd+\ufffd+\ufffd+\ufffd+\ufffd+\ufffd+ +\ufffd+\ufffd+\ufffd+\ufffd+\ufffd+\ufffd+\ufffd+\ufffd+\ufffd+\ufffd+\ufffd+\ufffd+ +f+o+r+ +K+a+k+a+o+\"\uce74\ub4dc\"\n",
        "17458"
       ]
      },
      {
       "output_type": "stream",
       "stream": "stdout",
       "text": [
        "\n",
        "sleeping... :  0\n",
        "escape!!!\n",
        "pmi=0.00 : (\ub4dc\ub798\uace4 \ud50c\ub77c\uc774\ud2b8 for Kakao), (+\"\uce74\ub4dc\"), (\ub4dc\ub798\uace4 \ud50c\ub77c\uc774\ud2b8 for Kakao+\"\uce74\ub4dc\")\n"
       ]
      },
      {
       "output_type": "stream",
       "stream": "stdout",
       "text": [
        "  key +\"\ub514\ud39c\uc2a4\" start: except 0"
       ]
      },
      {
       "output_type": "stream",
       "stream": "stdout",
       "text": [
        "\n",
        "stuck index: 0, \ufffd+\ufffd+\ufffd+\ufffd+\ufffd+\ufffd+\ufffd+\ufffd+\ufffd+ +\ufffd+\ufffd+\ufffd+\ufffd+\ufffd+\ufffd+\ufffd+\ufffd+\ufffd+\ufffd+\ufffd+\ufffd+ +f+o+r+ +K+a+k+a+o+\"\ub514\ud39c\uc2a4\" \n",
        "stuck at \ufffd+\ufffd+\ufffd+\ufffd+\ufffd+\ufffd+\ufffd+\ufffd+\ufffd+ +\ufffd+\ufffd+\ufffd+\ufffd+\ufffd+\ufffd+\ufffd+\ufffd+\ufffd+\ufffd+\ufffd+\ufffd+ +f+o+r+ +K+a+k+a+o+\"\ub514\ud39c\uc2a4\"\n",
        "521"
       ]
      },
      {
       "output_type": "stream",
       "stream": "stdout",
       "text": [
        "\n",
        "sleeping... :  0\n",
        "escape!!!\n",
        "pmi=0.00 : (\ub4dc\ub798\uace4 \ud50c\ub77c\uc774\ud2b8 for Kakao), (+\"\ub514\ud39c\uc2a4\"), (\ub4dc\ub798\uace4 \ud50c\ub77c\uc774\ud2b8 for Kakao+\"\ub514\ud39c\uc2a4\")\n"
       ]
      },
      {
       "output_type": "stream",
       "stream": "stdout",
       "text": [
        "  key +\"\ub450\ub1cc\" start: except 0"
       ]
      },
      {
       "output_type": "stream",
       "stream": "stdout",
       "text": [
        "\n",
        "stuck index: 0, \ufffd+\ufffd+\ufffd+\ufffd+\ufffd+\ufffd+\ufffd+\ufffd+\ufffd+ +\ufffd+\ufffd+\ufffd+\ufffd+\ufffd+\ufffd+\ufffd+\ufffd+\ufffd+\ufffd+\ufffd+\ufffd+ +f+o+r+ +K+a+k+a+o+\"\ub450\ub1cc\" \n",
        "stuck at \ufffd+\ufffd+\ufffd+\ufffd+\ufffd+\ufffd+\ufffd+\ufffd+\ufffd+ +\ufffd+\ufffd+\ufffd+\ufffd+\ufffd+\ufffd+\ufffd+\ufffd+\ufffd+\ufffd+\ufffd+\ufffd+ +f+o+r+ +K+a+k+a+o+\"\ub450\ub1cc\"\n",
        "3383"
       ]
      },
      {
       "output_type": "stream",
       "stream": "stdout",
       "text": [
        "\n",
        "sleeping... :  0\n",
        "escape!!!\n",
        "pmi=0.00 : (\ub4dc\ub798\uace4 \ud50c\ub77c\uc774\ud2b8 for Kakao), (+\"\ub450\ub1cc\"), (\ub4dc\ub798\uace4 \ud50c\ub77c\uc774\ud2b8 for Kakao+\"\ub450\ub1cc\")\n"
       ]
      },
      {
       "output_type": "stream",
       "stream": "stdout",
       "text": [
        "  key +\"\uc2dc\ubbac\" start: except 0"
       ]
      },
      {
       "output_type": "stream",
       "stream": "stdout",
       "text": [
        "\n",
        "stuck index: 0, \ufffd+\ufffd+\ufffd+\ufffd+\ufffd+\ufffd+\ufffd+\ufffd+\ufffd+ +\ufffd+\ufffd+\ufffd+\ufffd+\ufffd+\ufffd+\ufffd+\ufffd+\ufffd+\ufffd+\ufffd+\ufffd+ +f+o+r+ +K+a+k+a+o+\"\uc2dc\ubbac\" \n",
        "stuck at \ufffd+\ufffd+\ufffd+\ufffd+\ufffd+\ufffd+\ufffd+\ufffd+\ufffd+ +\ufffd+\ufffd+\ufffd+\ufffd+\ufffd+\ufffd+\ufffd+\ufffd+\ufffd+\ufffd+\ufffd+\ufffd+ +f+o+r+ +K+a+k+a+o+\"\uc2dc\ubbac\"\n",
        "106"
       ]
      },
      {
       "output_type": "stream",
       "stream": "stdout",
       "text": [
        "\n",
        "sleeping... :  0\n",
        "escape!!!\n",
        "pmi=0.00 : (\ub4dc\ub798\uace4 \ud50c\ub77c\uc774\ud2b8 for Kakao), (+\"\uc2dc\ubbac\"), (\ub4dc\ub798\uace4 \ud50c\ub77c\uc774\ud2b8 for Kakao+\"\uc2dc\ubbac\")\n"
       ]
      },
      {
       "output_type": "stream",
       "stream": "stdout",
       "text": [
        "  key +\"\ub2ec\ub9ac\uae30\" start: except 0"
       ]
      },
      {
       "output_type": "stream",
       "stream": "stdout",
       "text": [
        "\n",
        "stuck index: 0, \ufffd+\ufffd+\ufffd+\ufffd+\ufffd+\ufffd+\ufffd+\ufffd+\ufffd+ +\ufffd+\ufffd+\ufffd+\ufffd+\ufffd+\ufffd+\ufffd+\ufffd+\ufffd+\ufffd+\ufffd+\ufffd+ +f+o+r+ +K+a+k+a+o+\"\ub2ec\ub9ac\uae30\" \n",
        "stuck at \ufffd+\ufffd+\ufffd+\ufffd+\ufffd+\ufffd+\ufffd+\ufffd+\ufffd+ +\ufffd+\ufffd+\ufffd+\ufffd+\ufffd+\ufffd+\ufffd+\ufffd+\ufffd+\ufffd+\ufffd+\ufffd+ +f+o+r+ +K+a+k+a+o+\"\ub2ec\ub9ac\uae30\"\n",
        "2388"
       ]
      },
      {
       "output_type": "stream",
       "stream": "stdout",
       "text": [
        "\n",
        "sleeping... :  0\n",
        "escape!!!\n",
        "pmi=0.00 : (\ub4dc\ub798\uace4 \ud50c\ub77c\uc774\ud2b8 for Kakao), (+\"\ub2ec\ub9ac\uae30\"), (\ub4dc\ub798\uace4 \ud50c\ub77c\uc774\ud2b8 for Kakao+\"\ub2ec\ub9ac\uae30\")\n"
       ]
      },
      {
       "output_type": "stream",
       "stream": "stdout",
       "text": [
        "  key +\"\uc288\ud305\" start: except 0"
       ]
      },
      {
       "output_type": "stream",
       "stream": "stdout",
       "text": [
        "\n",
        "stuck index: 0, \ufffd+\ufffd+\ufffd+\ufffd+\ufffd+\ufffd+\ufffd+\ufffd+\ufffd+ +\ufffd+\ufffd+\ufffd+\ufffd+\ufffd+\ufffd+\ufffd+\ufffd+\ufffd+\ufffd+\ufffd+\ufffd+ +f+o+r+ +K+a+k+a+o+\"\uc288\ud305\" \n",
        "stuck at \ufffd+\ufffd+\ufffd+\ufffd+\ufffd+\ufffd+\ufffd+\ufffd+\ufffd+ +\ufffd+\ufffd+\ufffd+\ufffd+\ufffd+\ufffd+\ufffd+\ufffd+\ufffd+\ufffd+\ufffd+\ufffd+ +f+o+r+ +K+a+k+a+o+\"\uc288\ud305\"\n",
        "1874"
       ]
      },
      {
       "output_type": "stream",
       "stream": "stdout",
       "text": [
        "\n",
        "sleeping... :  0\n",
        "escape!!!\n",
        "pmi=0.00 : (\ub4dc\ub798\uace4 \ud50c\ub77c\uc774\ud2b8 for Kakao), (+\"\uc288\ud305\"), (\ub4dc\ub798\uace4 \ud50c\ub77c\uc774\ud2b8 for Kakao+\"\uc288\ud305\")\n"
       ]
      },
      {
       "output_type": "stream",
       "stream": "stdout",
       "text": [
        "  key +\"\ucd95\uad6c\" start: except 0"
       ]
      },
      {
       "output_type": "stream",
       "stream": "stdout",
       "text": [
        "\n",
        "stuck index: 0, \ufffd+\ufffd+\ufffd+\ufffd+\ufffd+\ufffd+\ufffd+\ufffd+\ufffd+ +\ufffd+\ufffd+\ufffd+\ufffd+\ufffd+\ufffd+\ufffd+\ufffd+\ufffd+\ufffd+\ufffd+\ufffd+ +f+o+r+ +K+a+k+a+o+\"\ucd95\uad6c\" \n",
        "stuck at \ufffd+\ufffd+\ufffd+\ufffd+\ufffd+\ufffd+\ufffd+\ufffd+\ufffd+ +\ufffd+\ufffd+\ufffd+\ufffd+\ufffd+\ufffd+\ufffd+\ufffd+\ufffd+\ufffd+\ufffd+\ufffd+ +f+o+r+ +K+a+k+a+o+\"\ucd95\uad6c\"\n",
        "6740"
       ]
      },
      {
       "output_type": "stream",
       "stream": "stdout",
       "text": [
        "\n",
        "sleeping... :  0\n",
        "escape!!!\n",
        "pmi=0.00 : (\ub4dc\ub798\uace4 \ud50c\ub77c\uc774\ud2b8 for Kakao), (+\"\ucd95\uad6c\"), (\ub4dc\ub798\uace4 \ud50c\ub77c\uc774\ud2b8 for Kakao+\"\ucd95\uad6c\")\n"
       ]
      },
      {
       "output_type": "stream",
       "stream": "stdout",
       "text": [
        "  key +\"\uacbd\uc601\" start: except 0"
       ]
      },
      {
       "output_type": "stream",
       "stream": "stdout",
       "text": [
        "\n",
        "stuck index: 0, \ufffd+\ufffd+\ufffd+\ufffd+\ufffd+\ufffd+\ufffd+\ufffd+\ufffd+ +\ufffd+\ufffd+\ufffd+\ufffd+\ufffd+\ufffd+\ufffd+\ufffd+\ufffd+\ufffd+\ufffd+\ufffd+ +f+o+r+ +K+a+k+a+o+\"\uacbd\uc601\" \n",
        "stuck at \ufffd+\ufffd+\ufffd+\ufffd+\ufffd+\ufffd+\ufffd+\ufffd+\ufffd+ +\ufffd+\ufffd+\ufffd+\ufffd+\ufffd+\ufffd+\ufffd+\ufffd+\ufffd+\ufffd+\ufffd+\ufffd+ +f+o+r+ +K+a+k+a+o+\"\uacbd\uc601\"\n",
        "8551"
       ]
      },
      {
       "output_type": "stream",
       "stream": "stdout",
       "text": [
        "\n",
        "sleeping... :  0\n",
        "escape!!!\n",
        "pmi=0.00 : (\ub4dc\ub798\uace4 \ud50c\ub77c\uc774\ud2b8 for Kakao), (+\"\uacbd\uc601\"), (\ub4dc\ub798\uace4 \ud50c\ub77c\uc774\ud2b8 for Kakao+\"\uacbd\uc601\")\n"
       ]
      },
      {
       "output_type": "stream",
       "stream": "stdout",
       "text": [
        "  key +\"\ud0c0\uc774\ucfe4\" start: except 0"
       ]
      },
      {
       "output_type": "stream",
       "stream": "stdout",
       "text": [
        "\n",
        "stuck index: 0, \ufffd+\ufffd+\ufffd+\ufffd+\ufffd+\ufffd+\ufffd+\ufffd+\ufffd+ +\ufffd+\ufffd+\ufffd+\ufffd+\ufffd+\ufffd+\ufffd+\ufffd+\ufffd+\ufffd+\ufffd+\ufffd+ +f+o+r+ +K+a+k+a+o+\"\ud0c0\uc774\ucfe4\" "
       ]
      },
      {
       "output_type": "stream",
       "stream": "stdout",
       "text": [
        "\n",
        "stuck at \ufffd+\ufffd+\ufffd+\ufffd+\ufffd+\ufffd+\ufffd+\ufffd+\ufffd+ +\ufffd+\ufffd+\ufffd+\ufffd+\ufffd+\ufffd+\ufffd+\ufffd+\ufffd+\ufffd+\ufffd+\ufffd+ +f+o+r+ +K+a+k+a+o+\"\ud0c0\uc774\ucfe4\"\n",
        "133"
       ]
      },
      {
       "output_type": "stream",
       "stream": "stdout",
       "text": [
        "\n",
        "sleeping... :  0\n",
        "escape!!!\n",
        "pmi=0.00 : (\ub4dc\ub798\uace4 \ud50c\ub77c\uc774\ud2b8 for Kakao), (+\"\ud0c0\uc774\ucfe4\"), (\ub4dc\ub798\uace4 \ud50c\ub77c\uc774\ud2b8 for Kakao+\"\ud0c0\uc774\ucfe4\")\n"
       ]
      },
      {
       "output_type": "stream",
       "stream": "stdout",
       "text": [
        "  key +\"\ud0c8\ucd9c\" start: except 0"
       ]
      },
      {
       "output_type": "stream",
       "stream": "stdout",
       "text": [
        "\n",
        "stuck index: 0, \ufffd+\ufffd+\ufffd+\ufffd+\ufffd+\ufffd+\ufffd+\ufffd+\ufffd+ +\ufffd+\ufffd+\ufffd+\ufffd+\ufffd+\ufffd+\ufffd+\ufffd+\ufffd+\ufffd+\ufffd+\ufffd+ +f+o+r+ +K+a+k+a+o+\"\ud0c8\ucd9c\" \n",
        "stuck at \ufffd+\ufffd+\ufffd+\ufffd+\ufffd+\ufffd+\ufffd+\ufffd+\ufffd+ +\ufffd+\ufffd+\ufffd+\ufffd+\ufffd+\ufffd+\ufffd+\ufffd+\ufffd+\ufffd+\ufffd+\ufffd+ +f+o+r+ +K+a+k+a+o+\"\ud0c8\ucd9c\"\n",
        "6591"
       ]
      },
      {
       "output_type": "stream",
       "stream": "stdout",
       "text": [
        "\n",
        "sleeping... :  0\n",
        "escape!!!\n",
        "pmi=0.00 : (\ub4dc\ub798\uace4 \ud50c\ub77c\uc774\ud2b8 for Kakao), (+\"\ud0c8\ucd9c\"), (\ub4dc\ub798\uace4 \ud50c\ub77c\uc774\ud2b8 for Kakao+\"\ud0c8\ucd9c\")\n"
       ]
      },
      {
       "output_type": "stream",
       "stream": "stdout",
       "text": [
        "  key +\"\ucd94\ub9ac\" start: except 0"
       ]
      },
      {
       "output_type": "stream",
       "stream": "stdout",
       "text": [
        "\n",
        "stuck index: 0, \ufffd+\ufffd+\ufffd+\ufffd+\ufffd+\ufffd+\ufffd+\ufffd+\ufffd+ +\ufffd+\ufffd+\ufffd+\ufffd+\ufffd+\ufffd+\ufffd+\ufffd+\ufffd+\ufffd+\ufffd+\ufffd+ +f+o+r+ +K+a+k+a+o+\"\ucd94\ub9ac\" \n",
        "stuck at \ufffd+\ufffd+\ufffd+\ufffd+\ufffd+\ufffd+\ufffd+\ufffd+\ufffd+ +\ufffd+\ufffd+\ufffd+\ufffd+\ufffd+\ufffd+\ufffd+\ufffd+\ufffd+\ufffd+\ufffd+\ufffd+ +f+o+r+ +K+a+k+a+o+\"\ucd94\ub9ac\"\n",
        "2339"
       ]
      },
      {
       "output_type": "stream",
       "stream": "stdout",
       "text": [
        "\n",
        "sleeping... :  0\n",
        "escape!!!\n",
        "pmi=0.00 : (\ub4dc\ub798\uace4 \ud50c\ub77c\uc774\ud2b8 for Kakao), (+\"\ucd94\ub9ac\"), (\ub4dc\ub798\uace4 \ud50c\ub77c\uc774\ud2b8 for Kakao+\"\ucd94\ub9ac\")\n"
       ]
      },
      {
       "output_type": "stream",
       "stream": "stdout",
       "text": [
        "  key +\"\uc7a5\uae30\" start: except 0"
       ]
      },
      {
       "output_type": "stream",
       "stream": "stdout",
       "text": [
        "\n",
        "stuck index: 0, \ufffd+\ufffd+\ufffd+\ufffd+\ufffd+\ufffd+\ufffd+\ufffd+\ufffd+ +\ufffd+\ufffd+\ufffd+\ufffd+\ufffd+\ufffd+\ufffd+\ufffd+\ufffd+\ufffd+\ufffd+\ufffd+ +f+o+r+ +K+a+k+a+o+\"\uc7a5\uae30\" \n",
        "stuck at \ufffd+\ufffd+\ufffd+\ufffd+\ufffd+\ufffd+\ufffd+\ufffd+\ufffd+ +\ufffd+\ufffd+\ufffd+\ufffd+\ufffd+\ufffd+\ufffd+\ufffd+\ufffd+\ufffd+\ufffd+\ufffd+ +f+o+r+ +K+a+k+a+o+\"\uc7a5\uae30\"\n",
        "8078"
       ]
      },
      {
       "output_type": "stream",
       "stream": "stdout",
       "text": [
        "\n",
        "sleeping... :  0\n",
        "escape!!!\n",
        "pmi=0.00 : (\ub4dc\ub798\uace4 \ud50c\ub77c\uc774\ud2b8 for Kakao), (+\"\uc7a5\uae30\"), (\ub4dc\ub798\uace4 \ud50c\ub77c\uc774\ud2b8 for Kakao+\"\uc7a5\uae30\")\n"
       ]
      },
      {
       "output_type": "stream",
       "stream": "stdout",
       "text": [
        "  key +\"\ube44\ud589\uae30\" start: except 0"
       ]
      },
      {
       "output_type": "stream",
       "stream": "stdout",
       "text": [
        "\n",
        "stuck index: 0, \ufffd+\ufffd+\ufffd+\ufffd+\ufffd+\ufffd+\ufffd+\ufffd+\ufffd+ +\ufffd+\ufffd+\ufffd+\ufffd+\ufffd+\ufffd+\ufffd+\ufffd+\ufffd+\ufffd+\ufffd+\ufffd+ +f+o+r+ +K+a+k+a+o+\"\ube44\ud589\uae30\" \n",
        "stuck at \ufffd+\ufffd+\ufffd+\ufffd+\ufffd+\ufffd+\ufffd+\ufffd+\ufffd+ +\ufffd+\ufffd+\ufffd+\ufffd+\ufffd+\ufffd+\ufffd+\ufffd+\ufffd+\ufffd+\ufffd+\ufffd+ +f+o+r+ +K+a+k+a+o+\"\ube44\ud589\uae30\"\n",
        "7465"
       ]
      },
      {
       "output_type": "stream",
       "stream": "stdout",
       "text": [
        "\n",
        "sleeping... :  0\n",
        "escape!!!\n",
        "pmi=0.00 : (\ub4dc\ub798\uace4 \ud50c\ub77c\uc774\ud2b8 for Kakao), (+\"\ube44\ud589\uae30\"), (\ub4dc\ub798\uace4 \ud50c\ub77c\uc774\ud2b8 for Kakao+\"\ube44\ud589\uae30\")\n"
       ]
      },
      {
       "output_type": "stream",
       "stream": "stdout",
       "text": [
        "  key +\"\uc0ac\ucc9c\uc131\" start: except 0"
       ]
      },
      {
       "output_type": "stream",
       "stream": "stdout",
       "text": [
        "\n",
        "stuck index: 0, \ufffd+\ufffd+\ufffd+\ufffd+\ufffd+\ufffd+\ufffd+\ufffd+\ufffd+ +\ufffd+\ufffd+\ufffd+\ufffd+\ufffd+\ufffd+\ufffd+\ufffd+\ufffd+\ufffd+\ufffd+\ufffd+ +f+o+r+ +K+a+k+a+o+\"\uc0ac\ucc9c\uc131\" \n",
        "stuck at \ufffd+\ufffd+\ufffd+\ufffd+\ufffd+\ufffd+\ufffd+\ufffd+\ufffd+ +\ufffd+\ufffd+\ufffd+\ufffd+\ufffd+\ufffd+\ufffd+\ufffd+\ufffd+\ufffd+\ufffd+\ufffd+ +f+o+r+ +K+a+k+a+o+\"\uc0ac\ucc9c\uc131\"\n",
        "286"
       ]
      },
      {
       "output_type": "stream",
       "stream": "stdout",
       "text": [
        "\n",
        "sleeping... :  0\n",
        "escape!!!\n",
        "pmi=0.00 : (\ub4dc\ub798\uace4 \ud50c\ub77c\uc774\ud2b8 for Kakao), (+\"\uc0ac\ucc9c\uc131\"), (\ub4dc\ub798\uace4 \ud50c\ub77c\uc774\ud2b8 for Kakao+\"\uc0ac\ucc9c\uc131\")\n"
       ]
      },
      {
       "output_type": "stream",
       "stream": "stdout",
       "text": [
        "  key +\"\uc2a4\ud3ec\uce20\" start: except 0"
       ]
      },
      {
       "output_type": "stream",
       "stream": "stdout",
       "text": [
        "\n",
        "stuck index: 0, \ufffd+\ufffd+\ufffd+\ufffd+\ufffd+\ufffd+\ufffd+\ufffd+\ufffd+ +\ufffd+\ufffd+\ufffd+\ufffd+\ufffd+\ufffd+\ufffd+\ufffd+\ufffd+\ufffd+\ufffd+\ufffd+ +f+o+r+ +K+a+k+a+o+\"\uc2a4\ud3ec\uce20\" \n",
        "stuck at \ufffd+\ufffd+\ufffd+\ufffd+\ufffd+\ufffd+\ufffd+\ufffd+\ufffd+ +\ufffd+\ufffd+\ufffd+\ufffd+\ufffd+\ufffd+\ufffd+\ufffd+\ufffd+\ufffd+\ufffd+\ufffd+ +f+o+r+ +K+a+k+a+o+\"\uc2a4\ud3ec\uce20\"\n",
        "11117"
       ]
      },
      {
       "output_type": "stream",
       "stream": "stdout",
       "text": [
        "\n",
        "sleeping... :  0\n",
        "escape!!!\n",
        "pmi=0.00 : (\ub4dc\ub798\uace4 \ud50c\ub77c\uc774\ud2b8 for Kakao), (+\"\uc2a4\ud3ec\uce20\"), (\ub4dc\ub798\uace4 \ud50c\ub77c\uc774\ud2b8 for Kakao+\"\uc2a4\ud3ec\uce20\")\n"
       ]
      },
      {
       "output_type": "stream",
       "stream": "stdout",
       "text": [
        "  key +\"\ub18d\uad6c\" start: except 0"
       ]
      },
      {
       "output_type": "stream",
       "stream": "stdout",
       "text": [
        "\n",
        "stuck index: 0, \ufffd+\ufffd+\ufffd+\ufffd+\ufffd+\ufffd+\ufffd+\ufffd+\ufffd+ +\ufffd+\ufffd+\ufffd+\ufffd+\ufffd+\ufffd+\ufffd+\ufffd+\ufffd+\ufffd+\ufffd+\ufffd+ +f+o+r+ +K+a+k+a+o+\"\ub18d\uad6c\" \n",
        "stuck at \ufffd+\ufffd+\ufffd+\ufffd+\ufffd+\ufffd+\ufffd+\ufffd+\ufffd+ +\ufffd+\ufffd+\ufffd+\ufffd+\ufffd+\ufffd+\ufffd+\ufffd+\ufffd+\ufffd+\ufffd+\ufffd+ +f+o+r+ +K+a+k+a+o+\"\ub18d\uad6c\"\n",
        "2225"
       ]
      },
      {
       "output_type": "stream",
       "stream": "stdout",
       "text": [
        "\n",
        "sleeping... :  0\n",
        "escape!!!\n",
        "pmi=0.00 : (\ub4dc\ub798\uace4 \ud50c\ub77c\uc774\ud2b8 for Kakao), (+\"\ub18d\uad6c\"), (\ub4dc\ub798\uace4 \ud50c\ub77c\uc774\ud2b8 for Kakao+\"\ub18d\uad6c\")\n"
       ]
      },
      {
       "output_type": "stream",
       "stream": "stdout",
       "text": [
        "  key +\"\ub09a\uc2dc\" start: except 0"
       ]
      },
      {
       "output_type": "stream",
       "stream": "stdout",
       "text": [
        "\n",
        "stuck index: 0, \ufffd+\ufffd+\ufffd+\ufffd+\ufffd+\ufffd+\ufffd+\ufffd+\ufffd+ +\ufffd+\ufffd+\ufffd+\ufffd+\ufffd+\ufffd+\ufffd+\ufffd+\ufffd+\ufffd+\ufffd+\ufffd+ +f+o+r+ +K+a+k+a+o+\"\ub09a\uc2dc\" "
       ]
      },
      {
       "output_type": "stream",
       "stream": "stdout",
       "text": [
        "\n",
        "stuck at \ufffd+\ufffd+\ufffd+\ufffd+\ufffd+\ufffd+\ufffd+\ufffd+\ufffd+ +\ufffd+\ufffd+\ufffd+\ufffd+\ufffd+\ufffd+\ufffd+\ufffd+\ufffd+\ufffd+\ufffd+\ufffd+ +f+o+r+ +K+a+k+a+o+\"\ub09a\uc2dc\"\n",
        "2610"
       ]
      },
      {
       "output_type": "stream",
       "stream": "stdout",
       "text": [
        "\n",
        "sleeping... :  0\n",
        "escape!!!\n",
        "pmi=0.00 : (\ub4dc\ub798\uace4 \ud50c\ub77c\uc774\ud2b8 for Kakao), (+\"\ub09a\uc2dc\"), (\ub4dc\ub798\uace4 \ud50c\ub77c\uc774\ud2b8 for Kakao+\"\ub09a\uc2dc\")\n"
       ]
      },
      {
       "output_type": "stream",
       "stream": "stdout",
       "text": [
        "  key +\"\uc74c\uc545\" start: except 0"
       ]
      },
      {
       "output_type": "stream",
       "stream": "stdout",
       "text": [
        "\n",
        "stuck index: 0, \ufffd+\ufffd+\ufffd+\ufffd+\ufffd+\ufffd+\ufffd+\ufffd+\ufffd+ +\ufffd+\ufffd+\ufffd+\ufffd+\ufffd+\ufffd+\ufffd+\ufffd+\ufffd+\ufffd+\ufffd+\ufffd+ +f+o+r+ +K+a+k+a+o+\"\uc74c\uc545\" \n",
        "stuck at \ufffd+\ufffd+\ufffd+\ufffd+\ufffd+\ufffd+\ufffd+\ufffd+\ufffd+ +\ufffd+\ufffd+\ufffd+\ufffd+\ufffd+\ufffd+\ufffd+\ufffd+\ufffd+\ufffd+\ufffd+\ufffd+ +f+o+r+ +K+a+k+a+o+\"\uc74c\uc545\"\n",
        "32938"
       ]
      },
      {
       "output_type": "stream",
       "stream": "stdout",
       "text": [
        "\n",
        "sleeping... :  0\n",
        "escape!!!\n",
        "pmi=0.00 : (\ub4dc\ub798\uace4 \ud50c\ub77c\uc774\ud2b8 for Kakao), (+\"\uc74c\uc545\"), (\ub4dc\ub798\uace4 \ud50c\ub77c\uc774\ud2b8 for Kakao+\"\uc74c\uc545\")\n"
       ]
      },
      {
       "output_type": "stream",
       "stream": "stdout",
       "text": [
        "  key +\"\uce74\ud1a1\" start: except 0"
       ]
      },
      {
       "output_type": "stream",
       "stream": "stdout",
       "text": [
        "\n",
        "stuck index: 0, \ufffd+\ufffd+\ufffd+\ufffd+\ufffd+\ufffd+\ufffd+\ufffd+\ufffd+ +\ufffd+\ufffd+\ufffd+\ufffd+\ufffd+\ufffd+\ufffd+\ufffd+\ufffd+\ufffd+\ufffd+\ufffd+ +f+o+r+ +K+a+k+a+o+\"\uce74\ud1a1\" \n",
        "stuck at \ufffd+\ufffd+\ufffd+\ufffd+\ufffd+\ufffd+\ufffd+\ufffd+\ufffd+ +\ufffd+\ufffd+\ufffd+\ufffd+\ufffd+\ufffd+\ufffd+\ufffd+\ufffd+\ufffd+\ufffd+\ufffd+ +f+o+r+ +K+a+k+a+o+\"\uce74\ud1a1\"\n",
        "1563"
       ]
      },
      {
       "output_type": "stream",
       "stream": "stdout",
       "text": [
        "\n",
        "sleeping... :  0\n",
        "escape!!!\n",
        "pmi=0.00 : (\ub4dc\ub798\uace4 \ud50c\ub77c\uc774\ud2b8 for Kakao), (+\"\uce74\ud1a1\"), (\ub4dc\ub798\uace4 \ud50c\ub77c\uc774\ud2b8 for Kakao+\"\uce74\ud1a1\")\n"
       ]
      },
      {
       "output_type": "stream",
       "stream": "stdout",
       "text": [
        "  key +\"\uace8\ud504\" start: except 0"
       ]
      },
      {
       "output_type": "stream",
       "stream": "stdout",
       "text": [
        "\n",
        "stuck index: 0, \ufffd+\ufffd+\ufffd+\ufffd+\ufffd+\ufffd+\ufffd+\ufffd+\ufffd+ +\ufffd+\ufffd+\ufffd+\ufffd+\ufffd+\ufffd+\ufffd+\ufffd+\ufffd+\ufffd+\ufffd+\ufffd+ +f+o+r+ +K+a+k+a+o+\"\uace8\ud504\" \n",
        "stuck at \ufffd+\ufffd+\ufffd+\ufffd+\ufffd+\ufffd+\ufffd+\ufffd+\ufffd+ +\ufffd+\ufffd+\ufffd+\ufffd+\ufffd+\ufffd+\ufffd+\ufffd+\ufffd+\ufffd+\ufffd+\ufffd+ +f+o+r+ +K+a+k+a+o+\"\uace8\ud504\"\n",
        "5053"
       ]
      },
      {
       "output_type": "stream",
       "stream": "stdout",
       "text": [
        "\n",
        "sleeping... :  0\n",
        "escape!!!\n",
        "pmi=0.00 : (\ub4dc\ub798\uace4 \ud50c\ub77c\uc774\ud2b8 for Kakao), (+\"\uace8\ud504\"), (\ub4dc\ub798\uace4 \ud50c\ub77c\uc774\ud2b8 for Kakao+\"\uace8\ud504\")\n"
       ]
      },
      {
       "output_type": "stream",
       "stream": "stdout",
       "text": [
        "  key +\"\ub2f9\uad6c\" start: except 0"
       ]
      },
      {
       "output_type": "stream",
       "stream": "stdout",
       "text": [
        "\n",
        "stuck index: 0, \ufffd+\ufffd+\ufffd+\ufffd+\ufffd+\ufffd+\ufffd+\ufffd+\ufffd+ +\ufffd+\ufffd+\ufffd+\ufffd+\ufffd+\ufffd+\ufffd+\ufffd+\ufffd+\ufffd+\ufffd+\ufffd+ +f+o+r+ +K+a+k+a+o+\"\ub2f9\uad6c\" \n",
        "stuck at \ufffd+\ufffd+\ufffd+\ufffd+\ufffd+\ufffd+\ufffd+\ufffd+\ufffd+ +\ufffd+\ufffd+\ufffd+\ufffd+\ufffd+\ufffd+\ufffd+\ufffd+\ufffd+\ufffd+\ufffd+\ufffd+ +f+o+r+ +K+a+k+a+o+\"\ub2f9\uad6c\"\n",
        "724"
       ]
      },
      {
       "output_type": "stream",
       "stream": "stdout",
       "text": [
        "\n",
        "sleeping... :  0\n",
        "escape!!!\n",
        "pmi=0.00 : (\ub4dc\ub798\uace4 \ud50c\ub77c\uc774\ud2b8 for Kakao), (+\"\ub2f9\uad6c\"), (\ub4dc\ub798\uace4 \ud50c\ub77c\uc774\ud2b8 for Kakao+\"\ub2f9\uad6c\")\n"
       ]
      },
      {
       "output_type": "stream",
       "stream": "stdout",
       "text": [
        "  key +\"\uc57c\uad6c\" start: except 0"
       ]
      },
      {
       "output_type": "stream",
       "stream": "stdout",
       "text": [
        "\n",
        "stuck index: 0, \ufffd+\ufffd+\ufffd+\ufffd+\ufffd+\ufffd+\ufffd+\ufffd+\ufffd+ +\ufffd+\ufffd+\ufffd+\ufffd+\ufffd+\ufffd+\ufffd+\ufffd+\ufffd+\ufffd+\ufffd+\ufffd+ +f+o+r+ +K+a+k+a+o+\"\uc57c\uad6c\" \n",
        "stuck at \ufffd+\ufffd+\ufffd+\ufffd+\ufffd+\ufffd+\ufffd+\ufffd+\ufffd+ +\ufffd+\ufffd+\ufffd+\ufffd+\ufffd+\ufffd+\ufffd+\ufffd+\ufffd+\ufffd+\ufffd+\ufffd+ +f+o+r+ +K+a+k+a+o+\"\uc57c\uad6c\"\n",
        "5606"
       ]
      },
      {
       "output_type": "stream",
       "stream": "stdout",
       "text": [
        "\n",
        "sleeping... :  0\n",
        "escape!!!\n",
        "pmi=0.00 : (\ub4dc\ub798\uace4 \ud50c\ub77c\uc774\ud2b8 for Kakao), (+\"\uc57c\uad6c\"), (\ub4dc\ub798\uace4 \ud50c\ub77c\uc774\ud2b8 for Kakao+\"\uc57c\uad6c\")\n"
       ]
      },
      {
       "output_type": "stream",
       "stream": "stdout",
       "text": [
        "  key +\"\ubcfc\ub9c1\" start: except 0"
       ]
      },
      {
       "output_type": "stream",
       "stream": "stdout",
       "text": [
        "\n",
        "stuck index: 0, \ufffd+\ufffd+\ufffd+\ufffd+\ufffd+\ufffd+\ufffd+\ufffd+\ufffd+ +\ufffd+\ufffd+\ufffd+\ufffd+\ufffd+\ufffd+\ufffd+\ufffd+\ufffd+\ufffd+\ufffd+\ufffd+ +f+o+r+ +K+a+k+a+o+\"\ubcfc\ub9c1\" \n",
        "stuck at \ufffd+\ufffd+\ufffd+\ufffd+\ufffd+\ufffd+\ufffd+\ufffd+\ufffd+ +\ufffd+\ufffd+\ufffd+\ufffd+\ufffd+\ufffd+\ufffd+\ufffd+\ufffd+\ufffd+\ufffd+\ufffd+ +f+o+r+ +K+a+k+a+o+\"\ubcfc\ub9c1\"\n",
        "647"
       ]
      },
      {
       "output_type": "stream",
       "stream": "stdout",
       "text": [
        "\n",
        "sleeping... :  0\n",
        "escape!!!\n",
        "pmi=0.00 : (\ub4dc\ub798\uace4 \ud50c\ub77c\uc774\ud2b8 for Kakao), (+\"\ubcfc\ub9c1\"), (\ub4dc\ub798\uace4 \ud50c\ub77c\uc774\ud2b8 for Kakao+\"\ubcfc\ub9c1\")\n"
       ]
      },
      {
       "output_type": "stream",
       "stream": "stdout",
       "text": [
        "  key +\"\ud14c\uc774\uc2a4\" start: except 0"
       ]
      },
      {
       "output_type": "stream",
       "stream": "stdout",
       "text": [
        "\n",
        "stuck index: 0, \ufffd+\ufffd+\ufffd+\ufffd+\ufffd+\ufffd+\ufffd+\ufffd+\ufffd+ +\ufffd+\ufffd+\ufffd+\ufffd+\ufffd+\ufffd+\ufffd+\ufffd+\ufffd+\ufffd+\ufffd+\ufffd+ +f+o+r+ +K+a+k+a+o+\"\ud14c\uc774\uc2a4\" \n",
        "stuck at \ufffd+\ufffd+\ufffd+\ufffd+\ufffd+\ufffd+\ufffd+\ufffd+\ufffd+ +\ufffd+\ufffd+\ufffd+\ufffd+\ufffd+\ufffd+\ufffd+\ufffd+\ufffd+\ufffd+\ufffd+\ufffd+ +f+o+r+ +K+a+k+a+o+\"\ud14c\uc774\uc2a4\"\n",
        "30"
       ]
      },
      {
       "output_type": "stream",
       "stream": "stdout",
       "text": [
        "\n",
        "sleeping... :  0\n",
        "escape!!!\n",
        "pmi=0.00 : (\ub4dc\ub798\uace4 \ud50c\ub77c\uc774\ud2b8 for Kakao), (+\"\ud14c\uc774\uc2a4\"), (\ub4dc\ub798\uace4 \ud50c\ub77c\uc774\ud2b8 for Kakao+\"\ud14c\uc774\uc2a4\")\n"
       ]
      },
      {
       "output_type": "stream",
       "stream": "stdout",
       "text": [
        "  key +\"\uc0bc\uad6d\uc9c0\" start: except 0"
       ]
      },
      {
       "output_type": "stream",
       "stream": "stdout",
       "text": [
        "\n",
        "stuck index: 0, \ufffd+\ufffd+\ufffd+\ufffd+\ufffd+\ufffd+\ufffd+\ufffd+\ufffd+ +\ufffd+\ufffd+\ufffd+\ufffd+\ufffd+\ufffd+\ufffd+\ufffd+\ufffd+\ufffd+\ufffd+\ufffd+ +f+o+r+ +K+a+k+a+o+\"\uc0bc\uad6d\uc9c0\" \n",
        "stuck at \ufffd+\ufffd+\ufffd+\ufffd+\ufffd+\ufffd+\ufffd+\ufffd+\ufffd+ +\ufffd+\ufffd+\ufffd+\ufffd+\ufffd+\ufffd+\ufffd+\ufffd+\ufffd+\ufffd+\ufffd+\ufffd+ +f+o+r+ +K+a+k+a+o+\"\uc0bc\uad6d\uc9c0\"\n",
        "1220"
       ]
      },
      {
       "output_type": "stream",
       "stream": "stdout",
       "text": [
        "\n",
        "sleeping... :  0\n",
        "escape!!!\n",
        "pmi=0.00 : (\ub4dc\ub798\uace4 \ud50c\ub77c\uc774\ud2b8 for Kakao), (+\"\uc0bc\uad6d\uc9c0\"), (\ub4dc\ub798\uace4 \ud50c\ub77c\uc774\ud2b8 for Kakao+\"\uc0bc\uad6d\uc9c0\")\n"
       ]
      },
      {
       "output_type": "stream",
       "stream": "stdout",
       "text": [
        "  key +\"TCG\" start: except 0"
       ]
      },
      {
       "output_type": "stream",
       "stream": "stdout",
       "text": [
        "\n",
        "stuck index: 0, \ufffd+\ufffd+\ufffd+\ufffd+\ufffd+\ufffd+\ufffd+\ufffd+\ufffd+ +\ufffd+\ufffd+\ufffd+\ufffd+\ufffd+\ufffd+\ufffd+\ufffd+\ufffd+\ufffd+\ufffd+\ufffd+ +f+o+r+ +K+a+k+a+o+\"TCG\" \n",
        "stuck at \ufffd+\ufffd+\ufffd+\ufffd+\ufffd+\ufffd+\ufffd+\ufffd+\ufffd+ +\ufffd+\ufffd+\ufffd+\ufffd+\ufffd+\ufffd+\ufffd+\ufffd+\ufffd+\ufffd+\ufffd+\ufffd+ +f+o+r+ +K+a+k+a+o+\"TCG\"\n",
        "225"
       ]
      },
      {
       "output_type": "stream",
       "stream": "stdout",
       "text": [
        "\n",
        "sleeping... :  0\n",
        "escape!!!\n",
        "pmi=0.00 : (\ub4dc\ub798\uace4 \ud50c\ub77c\uc774\ud2b8 for Kakao), (+\"TCG\"), (\ub4dc\ub798\uace4 \ud50c\ub77c\uc774\ud2b8 for Kakao+\"TCG\")\n"
       ]
      },
      {
       "output_type": "stream",
       "stream": "stdout",
       "text": [
        "  key +\"\uc804\uc7c1\" start: except 0"
       ]
      },
      {
       "output_type": "stream",
       "stream": "stdout",
       "text": [
        "\n",
        "stuck index: 0, \ufffd+\ufffd+\ufffd+\ufffd+\ufffd+\ufffd+\ufffd+\ufffd+\ufffd+ +\ufffd+\ufffd+\ufffd+\ufffd+\ufffd+\ufffd+\ufffd+\ufffd+\ufffd+\ufffd+\ufffd+\ufffd+ +f+o+r+ +K+a+k+a+o+\"\uc804\uc7c1\" \n",
        "stuck at \ufffd+\ufffd+\ufffd+\ufffd+\ufffd+\ufffd+\ufffd+\ufffd+\ufffd+ +\ufffd+\ufffd+\ufffd+\ufffd+\ufffd+\ufffd+\ufffd+\ufffd+\ufffd+\ufffd+\ufffd+\ufffd+ +f+o+r+ +K+a+k+a+o+\"\uc804\uc7c1\"\n",
        "18849"
       ]
      },
      {
       "output_type": "stream",
       "stream": "stdout",
       "text": [
        "\n",
        "sleeping... :  0\n",
        "escape!!!\n",
        "pmi=0.00 : (\ub4dc\ub798\uace4 \ud50c\ub77c\uc774\ud2b8 for Kakao), (+\"\uc804\uc7c1\"), (\ub4dc\ub798\uace4 \ud50c\ub77c\uc774\ud2b8 for Kakao+\"\uc804\uc7c1\")\n"
       ]
      },
      {
       "output_type": "stream",
       "stream": "stdout",
       "text": [
        "  key +\"\uac74\uac15\" start: except 0"
       ]
      },
      {
       "output_type": "stream",
       "stream": "stdout",
       "text": [
        "\n",
        "stuck index: 0, \ufffd+\ufffd+\ufffd+\ufffd+\ufffd+\ufffd+\ufffd+\ufffd+\ufffd+ +\ufffd+\ufffd+\ufffd+\ufffd+\ufffd+\ufffd+\ufffd+\ufffd+\ufffd+\ufffd+\ufffd+\ufffd+ +f+o+r+ +K+a+k+a+o+\"\uac74\uac15\" "
       ]
      },
      {
       "output_type": "stream",
       "stream": "stdout",
       "text": [
        "\n",
        "stuck at \ufffd+\ufffd+\ufffd+\ufffd+\ufffd+\ufffd+\ufffd+\ufffd+\ufffd+ +\ufffd+\ufffd+\ufffd+\ufffd+\ufffd+\ufffd+\ufffd+\ufffd+\ufffd+\ufffd+\ufffd+\ufffd+ +f+o+r+ +K+a+k+a+o+\"\uac74\uac15\"\n",
        "20611"
       ]
      },
      {
       "output_type": "stream",
       "stream": "stdout",
       "text": [
        "\n",
        "sleeping... :  0\n",
        "escape!!!\n",
        "pmi=0.00 : (\ub4dc\ub798\uace4 \ud50c\ub77c\uc774\ud2b8 for Kakao), (+\"\uac74\uac15\"), (\ub4dc\ub798\uace4 \ud50c\ub77c\uc774\ud2b8 for Kakao+\"\uac74\uac15\")\n"
       ]
      },
      {
       "output_type": "stream",
       "stream": "stdout",
       "text": [
        "  key +\"\uc6b4\ub3d9\" start: except 0"
       ]
      },
      {
       "output_type": "stream",
       "stream": "stdout",
       "text": [
        "\n",
        "stuck index: 0, \ufffd+\ufffd+\ufffd+\ufffd+\ufffd+\ufffd+\ufffd+\ufffd+\ufffd+ +\ufffd+\ufffd+\ufffd+\ufffd+\ufffd+\ufffd+\ufffd+\ufffd+\ufffd+\ufffd+\ufffd+\ufffd+ +f+o+r+ +K+a+k+a+o+\"\uc6b4\ub3d9\" \n",
        "stuck at \ufffd+\ufffd+\ufffd+\ufffd+\ufffd+\ufffd+\ufffd+\ufffd+\ufffd+ +\ufffd+\ufffd+\ufffd+\ufffd+\ufffd+\ufffd+\ufffd+\ufffd+\ufffd+\ufffd+\ufffd+\ufffd+ +f+o+r+ +K+a+k+a+o+\"\uc6b4\ub3d9\"\n",
        "23889"
       ]
      },
      {
       "output_type": "stream",
       "stream": "stdout",
       "text": [
        "\n",
        "sleeping... :  0\n",
        "escape!!!\n",
        "pmi=0.00 : (\ub4dc\ub798\uace4 \ud50c\ub77c\uc774\ud2b8 for Kakao), (+\"\uc6b4\ub3d9\"), (\ub4dc\ub798\uace4 \ud50c\ub77c\uc774\ud2b8 for Kakao+\"\uc6b4\ub3d9\")\n"
       ]
      },
      {
       "output_type": "stream",
       "stream": "stdout",
       "text": [
        "  key +\"\uad50\uc721\" start: except 0"
       ]
      },
      {
       "output_type": "stream",
       "stream": "stdout",
       "text": [
        "\n",
        "stuck index: 0, \ufffd+\ufffd+\ufffd+\ufffd+\ufffd+\ufffd+\ufffd+\ufffd+\ufffd+ +\ufffd+\ufffd+\ufffd+\ufffd+\ufffd+\ufffd+\ufffd+\ufffd+\ufffd+\ufffd+\ufffd+\ufffd+ +f+o+r+ +K+a+k+a+o+\"\uad50\uc721\" \n",
        "stuck at \ufffd+\ufffd+\ufffd+\ufffd+\ufffd+\ufffd+\ufffd+\ufffd+\ufffd+ +\ufffd+\ufffd+\ufffd+\ufffd+\ufffd+\ufffd+\ufffd+\ufffd+\ufffd+\ufffd+\ufffd+\ufffd+ +f+o+r+ +K+a+k+a+o+\"\uad50\uc721\"\n",
        "23236"
       ]
      },
      {
       "output_type": "stream",
       "stream": "stdout",
       "text": [
        "\n",
        "sleeping... :  0\n",
        "escape!!!\n",
        "pmi=0.00 : (\ub4dc\ub798\uace4 \ud50c\ub77c\uc774\ud2b8 for Kakao), (+\"\uad50\uc721\"), (\ub4dc\ub798\uace4 \ud50c\ub77c\uc774\ud2b8 for Kakao+\"\uad50\uc721\")\n"
       ]
      },
      {
       "output_type": "stream",
       "stream": "stdout",
       "text": [
        "  key +\"\uad50\ud1b5\" start: except 0"
       ]
      },
      {
       "output_type": "stream",
       "stream": "stdout",
       "text": [
        "\n",
        "stuck index: 0, \ufffd+\ufffd+\ufffd+\ufffd+\ufffd+\ufffd+\ufffd+\ufffd+\ufffd+ +\ufffd+\ufffd+\ufffd+\ufffd+\ufffd+\ufffd+\ufffd+\ufffd+\ufffd+\ufffd+\ufffd+\ufffd+ +f+o+r+ +K+a+k+a+o+\"\uad50\ud1b5\" \n",
        "stuck at \ufffd+\ufffd+\ufffd+\ufffd+\ufffd+\ufffd+\ufffd+\ufffd+\ufffd+ +\ufffd+\ufffd+\ufffd+\ufffd+\ufffd+\ufffd+\ufffd+\ufffd+\ufffd+\ufffd+\ufffd+\ufffd+ +f+o+r+ +K+a+k+a+o+\"\uad50\ud1b5\"\n",
        "9505"
       ]
      },
      {
       "output_type": "stream",
       "stream": "stdout",
       "text": [
        "\n",
        "sleeping... :  0\n",
        "escape!!!\n",
        "pmi=0.00 : (\ub4dc\ub798\uace4 \ud50c\ub77c\uc774\ud2b8 for Kakao), (+\"\uad50\ud1b5\"), (\ub4dc\ub798\uace4 \ud50c\ub77c\uc774\ud2b8 for Kakao+\"\uad50\ud1b5\")\n"
       ]
      },
      {
       "output_type": "stream",
       "stream": "stdout",
       "text": [
        "  key +\"\uae08\uc735\" start: except 0"
       ]
      },
      {
       "output_type": "stream",
       "stream": "stdout",
       "text": [
        "\n",
        "stuck index: 0, \ufffd+\ufffd+\ufffd+\ufffd+\ufffd+\ufffd+\ufffd+\ufffd+\ufffd+ +\ufffd+\ufffd+\ufffd+\ufffd+\ufffd+\ufffd+\ufffd+\ufffd+\ufffd+\ufffd+\ufffd+\ufffd+ +f+o+r+ +K+a+k+a+o+\"\uae08\uc735\" \n",
        "stuck at \ufffd+\ufffd+\ufffd+\ufffd+\ufffd+\ufffd+\ufffd+\ufffd+\ufffd+ +\ufffd+\ufffd+\ufffd+\ufffd+\ufffd+\ufffd+\ufffd+\ufffd+\ufffd+\ufffd+\ufffd+\ufffd+ +f+o+r+ +K+a+k+a+o+\"\uae08\uc735\"\n",
        "6803"
       ]
      },
      {
       "output_type": "stream",
       "stream": "stdout",
       "text": [
        "\n",
        "sleeping... :  0\n",
        "escape!!!\n",
        "pmi=0.00 : (\ub4dc\ub798\uace4 \ud50c\ub77c\uc774\ud2b8 for Kakao), (+\"\uae08\uc735\"), (\ub4dc\ub798\uace4 \ud50c\ub77c\uc774\ud2b8 for Kakao+\"\uae08\uc735\")\n"
       ]
      },
      {
       "output_type": "stream",
       "stream": "stdout",
       "text": [
        "  key +\"\ub0a0\uc528\" start: except 0"
       ]
      },
      {
       "output_type": "stream",
       "stream": "stdout",
       "text": [
        "\n",
        "stuck index: 0, \ufffd+\ufffd+\ufffd+\ufffd+\ufffd+\ufffd+\ufffd+\ufffd+\ufffd+ +\ufffd+\ufffd+\ufffd+\ufffd+\ufffd+\ufffd+\ufffd+\ufffd+\ufffd+\ufffd+\ufffd+\ufffd+ +f+o+r+ +K+a+k+a+o+\"\ub0a0\uc528\" \n",
        "stuck at \ufffd+\ufffd+\ufffd+\ufffd+\ufffd+\ufffd+\ufffd+\ufffd+\ufffd+ +\ufffd+\ufffd+\ufffd+\ufffd+\ufffd+\ufffd+\ufffd+\ufffd+\ufffd+\ufffd+\ufffd+\ufffd+ +f+o+r+ +K+a+k+a+o+\"\ub0a0\uc528\"\n",
        "11964"
       ]
      },
      {
       "output_type": "stream",
       "stream": "stdout",
       "text": [
        "\n",
        "sleeping... :  0\n",
        "escape!!!\n",
        "pmi=0.00 : (\ub4dc\ub798\uace4 \ud50c\ub77c\uc774\ud2b8 for Kakao), (+\"\ub0a0\uc528\"), (\ub4dc\ub798\uace4 \ud50c\ub77c\uc774\ud2b8 for Kakao+\"\ub0a0\uc528\")\n"
       ]
      },
      {
       "output_type": "stream",
       "stream": "stdout",
       "text": [
        "  key +\"\ub274\uc2a4\" start: except 0"
       ]
      },
      {
       "output_type": "stream",
       "stream": "stdout",
       "text": [
        "\n",
        "stuck index: 0, \ufffd+\ufffd+\ufffd+\ufffd+\ufffd+\ufffd+\ufffd+\ufffd+\ufffd+ +\ufffd+\ufffd+\ufffd+\ufffd+\ufffd+\ufffd+\ufffd+\ufffd+\ufffd+\ufffd+\ufffd+\ufffd+ +f+o+r+ +K+a+k+a+o+\"\ub274\uc2a4\" \n",
        "stuck at \ufffd+\ufffd+\ufffd+\ufffd+\ufffd+\ufffd+\ufffd+\ufffd+\ufffd+ +\ufffd+\ufffd+\ufffd+\ufffd+\ufffd+\ufffd+\ufffd+\ufffd+\ufffd+\ufffd+\ufffd+\ufffd+ +f+o+r+ +K+a+k+a+o+\"\ub274\uc2a4\"\n",
        "16217"
       ]
      },
      {
       "output_type": "stream",
       "stream": "stdout",
       "text": [
        "\n",
        "sleeping... :  0\n",
        "escape!!!\n",
        "pmi=0.00 : (\ub4dc\ub798\uace4 \ud50c\ub77c\uc774\ud2b8 for Kakao), (+\"\ub274\uc2a4\"), (\ub4dc\ub798\uace4 \ud50c\ub77c\uc774\ud2b8 for Kakao+\"\ub274\uc2a4\")\n"
       ]
      },
      {
       "output_type": "stream",
       "stream": "stdout",
       "text": [
        "  key +\"\uc7a1\uc9c0\" start: except 0"
       ]
      },
      {
       "output_type": "stream",
       "stream": "stdout",
       "text": [
        "\n",
        "stuck index: 0, \ufffd+\ufffd+\ufffd+\ufffd+\ufffd+\ufffd+\ufffd+\ufffd+\ufffd+ +\ufffd+\ufffd+\ufffd+\ufffd+\ufffd+\ufffd+\ufffd+\ufffd+\ufffd+\ufffd+\ufffd+\ufffd+ +f+o+r+ +K+a+k+a+o+\"\uc7a1\uc9c0\" \n",
        "stuck at \ufffd+\ufffd+\ufffd+\ufffd+\ufffd+\ufffd+\ufffd+\ufffd+\ufffd+ +\ufffd+\ufffd+\ufffd+\ufffd+\ufffd+\ufffd+\ufffd+\ufffd+\ufffd+\ufffd+\ufffd+\ufffd+ +f+o+r+ +K+a+k+a+o+\"\uc7a1\uc9c0\"\n",
        "9593"
       ]
      },
      {
       "output_type": "stream",
       "stream": "stdout",
       "text": [
        "\n",
        "sleeping... :  0\n",
        "escape!!!\n",
        "pmi=0.00 : (\ub4dc\ub798\uace4 \ud50c\ub77c\uc774\ud2b8 for Kakao), (+\"\uc7a1\uc9c0\"), (\ub4dc\ub798\uace4 \ud50c\ub77c\uc774\ud2b8 for Kakao+\"\uc7a1\uc9c0\")\n"
       ]
      },
      {
       "output_type": "stream",
       "stream": "stdout",
       "text": [
        "  key +\"\ub370\ucf54\ub808\uc774\uc158\" start: except 0"
       ]
      },
      {
       "output_type": "stream",
       "stream": "stdout",
       "text": [
        "\n",
        "stuck index: 0, \ufffd+\ufffd+\ufffd+\ufffd+\ufffd+\ufffd+\ufffd+\ufffd+\ufffd+ +\ufffd+\ufffd+\ufffd+\ufffd+\ufffd+\ufffd+\ufffd+\ufffd+\ufffd+\ufffd+\ufffd+\ufffd+ +f+o+r+ +K+a+k+a+o+\"\ub370\ucf54\ub808\uc774\uc158\" \n",
        "stuck at \ufffd+\ufffd+\ufffd+\ufffd+\ufffd+\ufffd+\ufffd+\ufffd+\ufffd+ +\ufffd+\ufffd+\ufffd+\ufffd+\ufffd+\ufffd+\ufffd+\ufffd+\ufffd+\ufffd+\ufffd+\ufffd+ +f+o+r+ +K+a+k+a+o+\"\ub370\ucf54\ub808\uc774\uc158\"\n",
        "259"
       ]
      },
      {
       "output_type": "stream",
       "stream": "stdout",
       "text": [
        "\n",
        "sleeping... :  0\n",
        "escape!!!\n",
        "pmi=0.00 : (\ub4dc\ub798\uace4 \ud50c\ub77c\uc774\ud2b8 for Kakao), (+\"\ub370\ucf54\ub808\uc774\uc158\"), (\ub4dc\ub798\uace4 \ud50c\ub77c\uc774\ud2b8 for Kakao+\"\ub370\ucf54\ub808\uc774\uc158\")\n"
       ]
      },
      {
       "output_type": "stream",
       "stream": "stdout",
       "text": [
        "  key +\"\ub3c4\uad6c\" start: except 0"
       ]
      },
      {
       "output_type": "stream",
       "stream": "stdout",
       "text": [
        "\n",
        "stuck index: 0, \ufffd+\ufffd+\ufffd+\ufffd+\ufffd+\ufffd+\ufffd+\ufffd+\ufffd+ +\ufffd+\ufffd+\ufffd+\ufffd+\ufffd+\ufffd+\ufffd+\ufffd+\ufffd+\ufffd+\ufffd+\ufffd+ +f+o+r+ +K+a+k+a+o+\"\ub3c4\uad6c\" "
       ]
      },
      {
       "output_type": "stream",
       "stream": "stdout",
       "text": [
        "\n",
        "stuck at \ufffd+\ufffd+\ufffd+\ufffd+\ufffd+\ufffd+\ufffd+\ufffd+\ufffd+ +\ufffd+\ufffd+\ufffd+\ufffd+\ufffd+\ufffd+\ufffd+\ufffd+\ufffd+\ufffd+\ufffd+\ufffd+ +f+o+r+ +K+a+k+a+o+\"\ub3c4\uad6c\"\n",
        "14561"
       ]
      },
      {
       "output_type": "stream",
       "stream": "stdout",
       "text": [
        "\n",
        "sleeping... :  0\n",
        "escape!!!\n",
        "pmi=0.00 : (\ub4dc\ub798\uace4 \ud50c\ub77c\uc774\ud2b8 for Kakao), (+\"\ub3c4\uad6c\"), (\ub4dc\ub798\uace4 \ud50c\ub77c\uc774\ud2b8 for Kakao+\"\ub3c4\uad6c\")\n"
       ]
      },
      {
       "output_type": "stream",
       "stream": "stdout",
       "text": [
        "  key +\"\ub3c4\uc11c\" start: except 0"
       ]
      },
      {
       "output_type": "stream",
       "stream": "stdout",
       "text": [
        "\n",
        "stuck index: 0, \ufffd+\ufffd+\ufffd+\ufffd+\ufffd+\ufffd+\ufffd+\ufffd+\ufffd+ +\ufffd+\ufffd+\ufffd+\ufffd+\ufffd+\ufffd+\ufffd+\ufffd+\ufffd+\ufffd+\ufffd+\ufffd+ +f+o+r+ +K+a+k+a+o+\"\ub3c4\uc11c\" \n",
        "stuck at \ufffd+\ufffd+\ufffd+\ufffd+\ufffd+\ufffd+\ufffd+\ufffd+\ufffd+ +\ufffd+\ufffd+\ufffd+\ufffd+\ufffd+\ufffd+\ufffd+\ufffd+\ufffd+\ufffd+\ufffd+\ufffd+ +f+o+r+ +K+a+k+a+o+\"\ub3c4\uc11c\"\n",
        "5840"
       ]
      },
      {
       "output_type": "stream",
       "stream": "stdout",
       "text": [
        "\n",
        "sleeping... :  0\n",
        "escape!!!\n",
        "pmi=0.00 : (\ub4dc\ub798\uace4 \ud50c\ub77c\uc774\ud2b8 for Kakao), (+\"\ub3c4\uc11c\"), (\ub4dc\ub798\uace4 \ud50c\ub77c\uc774\ud2b8 for Kakao+\"\ub3c4\uc11c\")\n"
       ]
      },
      {
       "output_type": "stream",
       "stream": "stdout",
       "text": [
        "  key +\"\ucc38\uace0\uc790\ub8cc\" start: except 0"
       ]
      },
      {
       "output_type": "stream",
       "stream": "stdout",
       "text": [
        "\n",
        "stuck index: 0, \ufffd+\ufffd+\ufffd+\ufffd+\ufffd+\ufffd+\ufffd+\ufffd+\ufffd+ +\ufffd+\ufffd+\ufffd+\ufffd+\ufffd+\ufffd+\ufffd+\ufffd+\ufffd+\ufffd+\ufffd+\ufffd+ +f+o+r+ +K+a+k+a+o+\"\ucc38\uace0\uc790\ub8cc\" \n",
        "stuck at \ufffd+\ufffd+\ufffd+\ufffd+\ufffd+\ufffd+\ufffd+\ufffd+\ufffd+ +\ufffd+\ufffd+\ufffd+\ufffd+\ufffd+\ufffd+\ufffd+\ufffd+\ufffd+\ufffd+\ufffd+\ufffd+ +f+o+r+ +K+a+k+a+o+\"\ucc38\uace0\uc790\ub8cc\"\n",
        "2077"
       ]
      },
      {
       "output_type": "stream",
       "stream": "stdout",
       "text": [
        "\n",
        "sleeping... :  0\n",
        "escape!!!\n",
        "pmi=0.00 : (\ub4dc\ub798\uace4 \ud50c\ub77c\uc774\ud2b8 for Kakao), (+\"\ucc38\uace0\uc790\ub8cc\"), (\ub4dc\ub798\uace4 \ud50c\ub77c\uc774\ud2b8 for Kakao+\"\ucc38\uace0\uc790\ub8cc\")\n"
       ]
      },
      {
       "output_type": "stream",
       "stream": "stdout",
       "text": [
        "  key +\"\ub77c\uc774\ube0c\" start: except 0"
       ]
      },
      {
       "output_type": "stream",
       "stream": "stdout",
       "text": [
        "\n",
        "stuck index: 0, \ufffd+\ufffd+\ufffd+\ufffd+\ufffd+\ufffd+\ufffd+\ufffd+\ufffd+ +\ufffd+\ufffd+\ufffd+\ufffd+\ufffd+\ufffd+\ufffd+\ufffd+\ufffd+\ufffd+\ufffd+\ufffd+ +f+o+r+ +K+a+k+a+o+\"\ub77c\uc774\ube0c\" \n",
        "stuck at \ufffd+\ufffd+\ufffd+\ufffd+\ufffd+\ufffd+\ufffd+\ufffd+\ufffd+ +\ufffd+\ufffd+\ufffd+\ufffd+\ufffd+\ufffd+\ufffd+\ufffd+\ufffd+\ufffd+\ufffd+\ufffd+ +f+o+r+ +K+a+k+a+o+\"\ub77c\uc774\ube0c\"\n",
        "5581"
       ]
      },
      {
       "output_type": "stream",
       "stream": "stdout",
       "text": [
        "\n",
        "sleeping... :  0\n",
        "escape!!!\n",
        "pmi=0.00 : (\ub4dc\ub798\uace4 \ud50c\ub77c\uc774\ud2b8 for Kakao), (+\"\ub77c\uc774\ube0c\"), (\ub4dc\ub798\uace4 \ud50c\ub77c\uc774\ud2b8 for Kakao+\"\ub77c\uc774\ube0c\")\n"
       ]
      },
      {
       "output_type": "stream",
       "stream": "stdout",
       "text": [
        "  key +\"\ubc30\uacbd\ud654\uba74\" start: 1"
       ]
      },
      {
       "output_type": "stream",
       "stream": "stdout",
       "text": [
        "\n",
        "stuck index: 0, \ufffd+\ufffd+\ufffd+\ufffd+\ufffd+\ufffd+\ufffd+\ufffd+\ufffd+ +\ufffd+\ufffd+\ufffd+\ufffd+\ufffd+\ufffd+\ufffd+\ufffd+\ufffd+\ufffd+\ufffd+\ufffd+ +f+o+r+ +K+a+k+a+o+\"\ubc30\uacbd\ud654\uba74\" \n",
        "stuck at \ufffd+\ufffd+\ufffd+\ufffd+\ufffd+\ufffd+\ufffd+\ufffd+\ufffd+ +\ufffd+\ufffd+\ufffd+\ufffd+\ufffd+\ufffd+\ufffd+\ufffd+\ufffd+\ufffd+\ufffd+\ufffd+ +f+o+r+ +K+a+k+a+o+\"\ubc30\uacbd\ud654\uba74\"\n",
        "586"
       ]
      },
      {
       "output_type": "stream",
       "stream": "stdout",
       "text": [
        "\n",
        "sleeping... :  0\n",
        "escape!!!\n",
        "pmi=0.00 : (\ub4dc\ub798\uace4 \ud50c\ub77c\uc774\ud2b8 for Kakao), (+\"\ubc30\uacbd\ud654\uba74\"), (\ub4dc\ub798\uace4 \ud50c\ub77c\uc774\ud2b8 for Kakao+\"\ubc30\uacbd\ud654\uba74\")\n"
       ]
      },
      {
       "output_type": "stream",
       "stream": "stdout",
       "text": [
        "  key +\"\ub77c\uc774\ube0c\ub7ec\ub9ac\" start: except 0"
       ]
      },
      {
       "output_type": "stream",
       "stream": "stdout",
       "text": [
        "\n",
        "stuck index: 0, \ufffd+\ufffd+\ufffd+\ufffd+\ufffd+\ufffd+\ufffd+\ufffd+\ufffd+ +\ufffd+\ufffd+\ufffd+\ufffd+\ufffd+\ufffd+\ufffd+\ufffd+\ufffd+\ufffd+\ufffd+\ufffd+ +f+o+r+ +K+a+k+a+o+\"\ub77c\uc774\ube0c\ub7ec\ub9ac\" \n",
        "stuck at \ufffd+\ufffd+\ufffd+\ufffd+\ufffd+\ufffd+\ufffd+\ufffd+\ufffd+ +\ufffd+\ufffd+\ufffd+\ufffd+\ufffd+\ufffd+\ufffd+\ufffd+\ufffd+\ufffd+\ufffd+\ufffd+ +f+o+r+ +K+a+k+a+o+\"\ub77c\uc774\ube0c\ub7ec\ub9ac\"\n",
        "3673"
       ]
      },
      {
       "output_type": "stream",
       "stream": "stdout",
       "text": [
        "\n",
        "sleeping... :  0\n",
        "escape!!!\n",
        "pmi=0.00 : (\ub4dc\ub798\uace4 \ud50c\ub77c\uc774\ud2b8 for Kakao), (+\"\ub77c\uc774\ube0c\ub7ec\ub9ac\"), (\ub4dc\ub798\uace4 \ud50c\ub77c\uc774\ud2b8 for Kakao+\"\ub77c\uc774\ube0c\ub7ec\ub9ac\")\n"
       ]
      },
      {
       "output_type": "stream",
       "stream": "stdout",
       "text": [
        "  key +\"\ub370\ubaa8\" start: except 0"
       ]
      },
      {
       "output_type": "stream",
       "stream": "stdout",
       "text": [
        "\n",
        "stuck index: 0, \ufffd+\ufffd+\ufffd+\ufffd+\ufffd+\ufffd+\ufffd+\ufffd+\ufffd+ +\ufffd+\ufffd+\ufffd+\ufffd+\ufffd+\ufffd+\ufffd+\ufffd+\ufffd+\ufffd+\ufffd+\ufffd+ +f+o+r+ +K+a+k+a+o+\"\ub370\ubaa8\" \n",
        "stuck at \ufffd+\ufffd+\ufffd+\ufffd+\ufffd+\ufffd+\ufffd+\ufffd+\ufffd+ +\ufffd+\ufffd+\ufffd+\ufffd+\ufffd+\ufffd+\ufffd+\ufffd+\ufffd+\ufffd+\ufffd+\ufffd+ +f+o+r+ +K+a+k+a+o+\"\ub370\ubaa8\"\n",
        "2080"
       ]
      },
      {
       "output_type": "stream",
       "stream": "stdout",
       "text": [
        "\n",
        "sleeping... :  0\n",
        "escape!!!\n",
        "pmi=0.00 : (\ub4dc\ub798\uace4 \ud50c\ub77c\uc774\ud2b8 for Kakao), (+\"\ub370\ubaa8\"), (\ub4dc\ub798\uace4 \ud50c\ub77c\uc774\ud2b8 for Kakao+\"\ub370\ubaa8\")\n"
       ]
      },
      {
       "output_type": "stream",
       "stream": "stdout",
       "text": [
        "  key +\"\ub77c\uc774\ud504\uc2a4\ud0c0\uc77c\" start: except 0"
       ]
      },
      {
       "output_type": "stream",
       "stream": "stdout",
       "text": [
        "\n",
        "stuck index: 0, \ufffd+\ufffd+\ufffd+\ufffd+\ufffd+\ufffd+\ufffd+\ufffd+\ufffd+ +\ufffd+\ufffd+\ufffd+\ufffd+\ufffd+\ufffd+\ufffd+\ufffd+\ufffd+\ufffd+\ufffd+\ufffd+ +f+o+r+ +K+a+k+a+o+\"\ub77c\uc774\ud504\uc2a4\ud0c0\uc77c\" \n",
        "stuck at \ufffd+\ufffd+\ufffd+\ufffd+\ufffd+\ufffd+\ufffd+\ufffd+\ufffd+ +\ufffd+\ufffd+\ufffd+\ufffd+\ufffd+\ufffd+\ufffd+\ufffd+\ufffd+\ufffd+\ufffd+\ufffd+ +f+o+r+ +K+a+k+a+o+\"\ub77c\uc774\ud504\uc2a4\ud0c0\uc77c\"\n",
        "671"
       ]
      },
      {
       "output_type": "stream",
       "stream": "stdout",
       "text": [
        "\n",
        "sleeping... :  0\n",
        "escape!!!\n",
        "pmi=0.00 : (\ub4dc\ub798\uace4 \ud50c\ub77c\uc774\ud2b8 for Kakao), (+\"\ub77c\uc774\ud504\uc2a4\ud0c0\uc77c\"), (\ub4dc\ub798\uace4 \ud50c\ub77c\uc774\ud2b8 for Kakao+\"\ub77c\uc774\ud504\uc2a4\ud0c0\uc77c\")\n"
       ]
      },
      {
       "output_type": "stream",
       "stream": "stdout",
       "text": [
        "  key +\"\ube14\ub85c\uadf8\" start: except 0"
       ]
      },
      {
       "output_type": "stream",
       "stream": "stdout",
       "text": [
        "\n",
        "stuck index: 0, \ufffd+\ufffd+\ufffd+\ufffd+\ufffd+\ufffd+\ufffd+\ufffd+\ufffd+ +\ufffd+\ufffd+\ufffd+\ufffd+\ufffd+\ufffd+\ufffd+\ufffd+\ufffd+\ufffd+\ufffd+\ufffd+ +f+o+r+ +K+a+k+a+o+\"\ube14\ub85c\uadf8\" \n",
        "stuck at \ufffd+\ufffd+\ufffd+\ufffd+\ufffd+\ufffd+\ufffd+\ufffd+\ufffd+ +\ufffd+\ufffd+\ufffd+\ufffd+\ufffd+\ufffd+\ufffd+\ufffd+\ufffd+\ufffd+\ufffd+\ufffd+ +f+o+r+ +K+a+k+a+o+\"\ube14\ub85c\uadf8\"\n",
        "19729"
       ]
      },
      {
       "output_type": "stream",
       "stream": "stdout",
       "text": [
        "\n",
        "sleeping... :  0\n",
        "escape!!!\n",
        "pmi=0.00 : (\ub4dc\ub798\uace4 \ud50c\ub77c\uc774\ud2b8 for Kakao), (+\"\ube14\ub85c\uadf8\"), (\ub4dc\ub798\uace4 \ud50c\ub77c\uc774\ud2b8 for Kakao+\"\ube14\ub85c\uadf8\")\n"
       ]
      },
      {
       "output_type": "stream",
       "stream": "stdout",
       "text": [
        "  key +\"\ub9cc\ud654\" start: except 0"
       ]
      },
      {
       "output_type": "stream",
       "stream": "stdout",
       "text": [
        "\n",
        "stuck index: 0, \ufffd+\ufffd+\ufffd+\ufffd+\ufffd+\ufffd+\ufffd+\ufffd+\ufffd+ +\ufffd+\ufffd+\ufffd+\ufffd+\ufffd+\ufffd+\ufffd+\ufffd+\ufffd+\ufffd+\ufffd+\ufffd+ +f+o+r+ +K+a+k+a+o+\"\ub9cc\ud654\" \n",
        "stuck at \ufffd+\ufffd+\ufffd+\ufffd+\ufffd+\ufffd+\ufffd+\ufffd+\ufffd+ +\ufffd+\ufffd+\ufffd+\ufffd+\ufffd+\ufffd+\ufffd+\ufffd+\ufffd+\ufffd+\ufffd+\ufffd+ +f+o+r+ +K+a+k+a+o+\"\ub9cc\ud654\"\n",
        "6983"
       ]
      },
      {
       "output_type": "stream",
       "stream": "stdout",
       "text": [
        "\n",
        "sleeping... :  0\n",
        "escape!!!\n",
        "pmi=0.00 : (\ub4dc\ub798\uace4 \ud50c\ub77c\uc774\ud2b8 for Kakao), (+\"\ub9cc\ud654\"), (\ub4dc\ub798\uace4 \ud50c\ub77c\uc774\ud2b8 for Kakao+\"\ub9cc\ud654\")\n"
       ]
      },
      {
       "output_type": "stream",
       "stream": "stdout",
       "text": [
        "  key +\"\ubbf8\ub514\uc5b4\" start: except 0"
       ]
      },
      {
       "output_type": "stream",
       "stream": "stdout",
       "text": [
        "\n",
        "stuck index: 0, \ufffd+\ufffd+\ufffd+\ufffd+\ufffd+\ufffd+\ufffd+\ufffd+\ufffd+ +\ufffd+\ufffd+\ufffd+\ufffd+\ufffd+\ufffd+\ufffd+\ufffd+\ufffd+\ufffd+\ufffd+\ufffd+ +f+o+r+ +K+a+k+a+o+\"\ubbf8\ub514\uc5b4\" \n",
        "stuck at \ufffd+\ufffd+\ufffd+\ufffd+\ufffd+\ufffd+\ufffd+\ufffd+\ufffd+ +\ufffd+\ufffd+\ufffd+\ufffd+\ufffd+\ufffd+\ufffd+\ufffd+\ufffd+\ufffd+\ufffd+\ufffd+ +f+o+r+ +K+a+k+a+o+\"\ubbf8\ub514\uc5b4\"\n",
        "10034"
       ]
      },
      {
       "output_type": "stream",
       "stream": "stdout",
       "text": [
        "\n",
        "sleeping... :  0\n",
        "escape!!!\n",
        "pmi=0.00 : (\ub4dc\ub798\uace4 \ud50c\ub77c\uc774\ud2b8 for Kakao), (+\"\ubbf8\ub514\uc5b4\"), (\ub4dc\ub798\uace4 \ud50c\ub77c\uc774\ud2b8 for Kakao+\"\ubbf8\ub514\uc5b4\")\n"
       ]
      },
      {
       "output_type": "stream",
       "stream": "stdout",
       "text": [
        "  key +\"\ub3d9\uc601\uc0c1\" start: except 0"
       ]
      },
      {
       "output_type": "stream",
       "stream": "stdout",
       "text": [
        "\n",
        "stuck index: 0, \ufffd+\ufffd+\ufffd+\ufffd+\ufffd+\ufffd+\ufffd+\ufffd+\ufffd+ +\ufffd+\ufffd+\ufffd+\ufffd+\ufffd+\ufffd+\ufffd+\ufffd+\ufffd+\ufffd+\ufffd+\ufffd+ +f+o+r+ +K+a+k+a+o+\"\ub3d9\uc601\uc0c1\" \n",
        "stuck at \ufffd+\ufffd+\ufffd+\ufffd+\ufffd+\ufffd+\ufffd+\ufffd+\ufffd+ +\ufffd+\ufffd+\ufffd+\ufffd+\ufffd+\ufffd+\ufffd+\ufffd+\ufffd+\ufffd+\ufffd+\ufffd+ +f+o+r+ +K+a+k+a+o+\"\ub3d9\uc601\uc0c1\"\n",
        "14213"
       ]
      },
      {
       "output_type": "stream",
       "stream": "stdout",
       "text": [
        "\n",
        "sleeping... :  0\n",
        "escape!!!\n",
        "pmi=0.00 : (\ub4dc\ub798\uace4 \ud50c\ub77c\uc774\ud2b8 for Kakao), (+\"\ub3d9\uc601\uc0c1\"), (\ub4dc\ub798\uace4 \ud50c\ub77c\uc774\ud2b8 for Kakao+\"\ub3d9\uc601\uc0c1\")\n"
       ]
      },
      {
       "output_type": "stream",
       "stream": "stdout",
       "text": [
        "  key +\"\ube44\uc988\ub2c8\uc2a4\" start: except 0"
       ]
      },
      {
       "output_type": "stream",
       "stream": "stdout",
       "text": [
        "\n",
        "stuck index: 0, \ufffd+\ufffd+\ufffd+\ufffd+\ufffd+\ufffd+\ufffd+\ufffd+\ufffd+ +\ufffd+\ufffd+\ufffd+\ufffd+\ufffd+\ufffd+\ufffd+\ufffd+\ufffd+\ufffd+\ufffd+\ufffd+ +f+o+r+ +K+a+k+a+o+\"\ube44\uc988\ub2c8\uc2a4\" \n",
        "stuck at \ufffd+\ufffd+\ufffd+\ufffd+\ufffd+\ufffd+\ufffd+\ufffd+\ufffd+ +\ufffd+\ufffd+\ufffd+\ufffd+\ufffd+\ufffd+\ufffd+\ufffd+\ufffd+\ufffd+\ufffd+\ufffd+ +f+o+r+ +K+a+k+a+o+\"\ube44\uc988\ub2c8\uc2a4\"\n",
        "4088"
       ]
      },
      {
       "output_type": "stream",
       "stream": "stdout",
       "text": [
        "\n",
        "sleeping... :  0\n",
        "escape!!!\n",
        "pmi=0.00 : (\ub4dc\ub798\uace4 \ud50c\ub77c\uc774\ud2b8 for Kakao), (+\"\ube44\uc988\ub2c8\uc2a4\"), (\ub4dc\ub798\uace4 \ud50c\ub77c\uc774\ud2b8 for Kakao+\"\ube44\uc988\ub2c8\uc2a4\")\n"
       ]
      },
      {
       "output_type": "stream",
       "stream": "stdout",
       "text": [
        "  key +\"\ud3b8\uc9d1\" start: except 0"
       ]
      },
      {
       "output_type": "stream",
       "stream": "stdout",
       "text": [
        "\n",
        "stuck index: 0, \ufffd+\ufffd+\ufffd+\ufffd+\ufffd+\ufffd+\ufffd+\ufffd+\ufffd+ +\ufffd+\ufffd+\ufffd+\ufffd+\ufffd+\ufffd+\ufffd+\ufffd+\ufffd+\ufffd+\ufffd+\ufffd+ +f+o+r+ +K+a+k+a+o+\"\ud3b8\uc9d1\" \n",
        "stuck at \ufffd+\ufffd+\ufffd+\ufffd+\ufffd+\ufffd+\ufffd+\ufffd+\ufffd+ +\ufffd+\ufffd+\ufffd+\ufffd+\ufffd+\ufffd+\ufffd+\ufffd+\ufffd+\ufffd+\ufffd+\ufffd+ +f+o+r+ +K+a+k+a+o+\"\ud3b8\uc9d1\"\n",
        "13743"
       ]
      },
      {
       "output_type": "stream",
       "stream": "stdout",
       "text": [
        "\n",
        "sleeping... :  0\n",
        "escape!!!\n",
        "pmi=0.00 : (\ub4dc\ub798\uace4 \ud50c\ub77c\uc774\ud2b8 for Kakao), (+\"\ud3b8\uc9d1\"), (\ub4dc\ub798\uace4 \ud50c\ub77c\uc774\ud2b8 for Kakao+\"\ud3b8\uc9d1\")\n"
       ]
      },
      {
       "output_type": "stream",
       "stream": "stdout",
       "text": [
        "  key +\"\uc0ac\uc9c4\" start: 1"
       ]
      },
      {
       "output_type": "stream",
       "stream": "stdout",
       "text": [
        "\n",
        "stuck index: 0, \ufffd+\ufffd+\ufffd+\ufffd+\ufffd+\ufffd+\ufffd+\ufffd+\ufffd+ +\ufffd+\ufffd+\ufffd+\ufffd+\ufffd+\ufffd+\ufffd+\ufffd+\ufffd+\ufffd+\ufffd+\ufffd+ +f+o+r+ +K+a+k+a+o+\"\uc0ac\uc9c4\" \n",
        "stuck at \ufffd+\ufffd+\ufffd+\ufffd+\ufffd+\ufffd+\ufffd+\ufffd+\ufffd+ +\ufffd+\ufffd+\ufffd+\ufffd+\ufffd+\ufffd+\ufffd+\ufffd+\ufffd+\ufffd+\ufffd+\ufffd+ +f+o+r+ +K+a+k+a+o+\"\uc0ac\uc9c4\"\n",
        "46806"
       ]
      },
      {
       "output_type": "stream",
       "stream": "stdout",
       "text": [
        "\n",
        "sleeping... :  0\n",
        "escape!!!\n",
        "pmi=0.00 : (\ub4dc\ub798\uace4 \ud50c\ub77c\uc774\ud2b8 for Kakao), (+\"\uc0ac\uc9c4\"), (\ub4dc\ub798\uace4 \ud50c\ub77c\uc774\ud2b8 for Kakao+\"\uc0ac\uc9c4\")\n"
       ]
      },
      {
       "output_type": "stream",
       "stream": "stdout",
       "text": [
        "  key +\"\uc0dd\uc0b0\uc131\" start: except 0"
       ]
      },
      {
       "output_type": "stream",
       "stream": "stdout",
       "text": [
        "\n",
        "stuck index: 0, \ufffd+\ufffd+\ufffd+\ufffd+\ufffd+\ufffd+\ufffd+\ufffd+\ufffd+ +\ufffd+\ufffd+\ufffd+\ufffd+\ufffd+\ufffd+\ufffd+\ufffd+\ufffd+\ufffd+\ufffd+\ufffd+ +f+o+r+ +K+a+k+a+o+\"\uc0dd\uc0b0\uc131\" \n",
        "stuck at \ufffd+\ufffd+\ufffd+\ufffd+\ufffd+\ufffd+\ufffd+\ufffd+\ufffd+ +\ufffd+\ufffd+\ufffd+\ufffd+\ufffd+\ufffd+\ufffd+\ufffd+\ufffd+\ufffd+\ufffd+\ufffd+ +f+o+r+ +K+a+k+a+o+\"\uc0dd\uc0b0\uc131\"\n",
        "3388"
       ]
      },
      {
       "output_type": "stream",
       "stream": "stdout",
       "text": [
        "\n",
        "sleeping... :  0\n",
        "escape!!!\n",
        "pmi=0.00 : (\ub4dc\ub798\uace4 \ud50c\ub77c\uc774\ud2b8 for Kakao), (+\"\uc0dd\uc0b0\uc131\"), (\ub4dc\ub798\uace4 \ud50c\ub77c\uc774\ud2b8 for Kakao+\"\uc0dd\uc0b0\uc131\")\n"
       ]
      },
      {
       "output_type": "stream",
       "stream": "stdout",
       "text": [
        "  key +\"\uc18c\uc15c\" start: except 0"
       ]
      },
      {
       "output_type": "stream",
       "stream": "stdout",
       "text": [
        "\n",
        "stuck index: 0, \ufffd+\ufffd+\ufffd+\ufffd+\ufffd+\ufffd+\ufffd+\ufffd+\ufffd+ +\ufffd+\ufffd+\ufffd+\ufffd+\ufffd+\ufffd+\ufffd+\ufffd+\ufffd+\ufffd+\ufffd+\ufffd+ +f+o+r+ +K+a+k+a+o+\"\uc18c\uc15c\" \n",
        "stuck at \ufffd+\ufffd+\ufffd+\ufffd+\ufffd+\ufffd+\ufffd+\ufffd+\ufffd+ +\ufffd+\ufffd+\ufffd+\ufffd+\ufffd+\ufffd+\ufffd+\ufffd+\ufffd+\ufffd+\ufffd+\ufffd+ +f+o+r+ +K+a+k+a+o+\"\uc18c\uc15c\"\n",
        "3721"
       ]
      },
      {
       "output_type": "stream",
       "stream": "stdout",
       "text": [
        "\n",
        "sleeping... :  0\n",
        "escape!!!\n",
        "pmi=0.00 : (\ub4dc\ub798\uace4 \ud50c\ub77c\uc774\ud2b8 for Kakao), (+\"\uc18c\uc15c\"), (\ub4dc\ub798\uace4 \ud50c\ub77c\uc774\ud2b8 for Kakao+\"\uc18c\uc15c\")\n"
       ]
      },
      {
       "output_type": "stream",
       "stream": "stdout",
       "text": [
        "  key +\"\ucf58\ud150\uce20\" start: except 0"
       ]
      },
      {
       "output_type": "stream",
       "stream": "stdout",
       "text": [
        "\n",
        "stuck index: 0, \ufffd+\ufffd+\ufffd+\ufffd+\ufffd+\ufffd+\ufffd+\ufffd+\ufffd+ +\ufffd+\ufffd+\ufffd+\ufffd+\ufffd+\ufffd+\ufffd+\ufffd+\ufffd+\ufffd+\ufffd+\ufffd+ +f+o+r+ +K+a+k+a+o+\"\ucf58\ud150\uce20\" \n",
        "stuck at \ufffd+\ufffd+\ufffd+\ufffd+\ufffd+\ufffd+\ufffd+\ufffd+\ufffd+ +\ufffd+\ufffd+\ufffd+\ufffd+\ufffd+\ufffd+\ufffd+\ufffd+\ufffd+\ufffd+\ufffd+\ufffd+ +f+o+r+ +K+a+k+a+o+\"\ucf58\ud150\uce20\"\n",
        "2251"
       ]
      },
      {
       "output_type": "stream",
       "stream": "stdout",
       "text": [
        "\n",
        "sleeping... :  0\n",
        "escape!!!\n",
        "pmi=0.00 : (\ub4dc\ub798\uace4 \ud50c\ub77c\uc774\ud2b8 for Kakao), (+\"\ucf58\ud150\uce20\"), (\ub4dc\ub798\uace4 \ud50c\ub77c\uc774\ud2b8 for Kakao+\"\ucf58\ud150\uce20\")\n"
       ]
      },
      {
       "output_type": "stream",
       "stream": "stdout",
       "text": [
        "  key +\"\uc1fc\ud551\" start: except 0"
       ]
      },
      {
       "output_type": "stream",
       "stream": "stdout",
       "text": [
        "\n",
        "stuck index: 0, \ufffd+\ufffd+\ufffd+\ufffd+\ufffd+\ufffd+\ufffd+\ufffd+\ufffd+ +\ufffd+\ufffd+\ufffd+\ufffd+\ufffd+\ufffd+\ufffd+\ufffd+\ufffd+\ufffd+\ufffd+\ufffd+ +f+o+r+ +K+a+k+a+o+\"\uc1fc\ud551\" \n",
        "stuck at \ufffd+\ufffd+\ufffd+\ufffd+\ufffd+\ufffd+\ufffd+\ufffd+\ufffd+ +\ufffd+\ufffd+\ufffd+\ufffd+\ufffd+\ufffd+\ufffd+\ufffd+\ufffd+\ufffd+\ufffd+\ufffd+ +f+o+r+ +K+a+k+a+o+\"\uc1fc\ud551\"\n",
        "6100"
       ]
      },
      {
       "output_type": "stream",
       "stream": "stdout",
       "text": [
        "\n",
        "sleeping... :  0\n",
        "escape!!!\n",
        "pmi=0.00 : (\ub4dc\ub798\uace4 \ud50c\ub77c\uc774\ud2b8 for Kakao), (+\"\uc1fc\ud551\"), (\ub4dc\ub798\uace4 \ud50c\ub77c\uc774\ud2b8 for Kakao+\"\uc1fc\ud551\")\n"
       ]
      },
      {
       "output_type": "stream",
       "stream": "stdout",
       "text": [
        "  key +\"\uc704\uc82f\" start: except 0"
       ]
      },
      {
       "output_type": "stream",
       "stream": "stdout",
       "text": [
        "\n",
        "stuck index: 0, \ufffd+\ufffd+\ufffd+\ufffd+\ufffd+\ufffd+\ufffd+\ufffd+\ufffd+ +\ufffd+\ufffd+\ufffd+\ufffd+\ufffd+\ufffd+\ufffd+\ufffd+\ufffd+\ufffd+\ufffd+\ufffd+ +f+o+r+ +K+a+k+a+o+\"\uc704\uc82f\" \n",
        "stuck at \ufffd+\ufffd+\ufffd+\ufffd+\ufffd+\ufffd+\ufffd+\ufffd+\ufffd+ +\ufffd+\ufffd+\ufffd+\ufffd+\ufffd+\ufffd+\ufffd+\ufffd+\ufffd+\ufffd+\ufffd+\ufffd+ +f+o+r+ +K+a+k+a+o+\"\uc704\uc82f\"\n",
        "442"
       ]
      },
      {
       "output_type": "stream",
       "stream": "stdout",
       "text": [
        "\n",
        "sleeping... :  0\n",
        "escape!!!\n",
        "pmi=0.00 : (\ub4dc\ub798\uace4 \ud50c\ub77c\uc774\ud2b8 for Kakao), (+\"\uc704\uc82f\"), (\ub4dc\ub798\uace4 \ud50c\ub77c\uc774\ud2b8 for Kakao+\"\uc704\uc82f\")\n"
       ]
      },
      {
       "output_type": "stream",
       "stream": "stdout",
       "text": [
        "  key +\"\uc790\ub3d9\ucc28\" start: except 0"
       ]
      },
      {
       "output_type": "stream",
       "stream": "stdout",
       "text": [
        "\n",
        "stuck index: 0, \ufffd+\ufffd+\ufffd+\ufffd+\ufffd+\ufffd+\ufffd+\ufffd+\ufffd+ +\ufffd+\ufffd+\ufffd+\ufffd+\ufffd+\ufffd+\ufffd+\ufffd+\ufffd+\ufffd+\ufffd+\ufffd+ +f+o+r+ +K+a+k+a+o+\"\uc790\ub3d9\ucc28\" \n",
        "stuck at \ufffd+\ufffd+\ufffd+\ufffd+\ufffd+\ufffd+\ufffd+\ufffd+\ufffd+ +\ufffd+\ufffd+\ufffd+\ufffd+\ufffd+\ufffd+\ufffd+\ufffd+\ufffd+\ufffd+\ufffd+\ufffd+ +f+o+r+ +K+a+k+a+o+\"\uc790\ub3d9\ucc28\"\n",
        "14018"
       ]
      },
      {
       "output_type": "stream",
       "stream": "stdout",
       "text": [
        "\n",
        "sleeping... :  0\n",
        "escape!!!\n",
        "pmi=0.00 : (\ub4dc\ub798\uace4 \ud50c\ub77c\uc774\ud2b8 for Kakao), (+\"\uc790\ub3d9\ucc28\"), (\ub4dc\ub798\uace4 \ud50c\ub77c\uc774\ud2b8 for Kakao+\"\uc790\ub3d9\ucc28\")\n"
       ]
      },
      {
       "output_type": "stream",
       "stream": "stdout",
       "text": [
        "  key +\"\uacbd\uc8fc\" start: except 0"
       ]
      },
      {
       "output_type": "stream",
       "stream": "stdout",
       "text": [
        "\n",
        "stuck index: 0, \ufffd+\ufffd+\ufffd+\ufffd+\ufffd+\ufffd+\ufffd+\ufffd+\ufffd+ +\ufffd+\ufffd+\ufffd+\ufffd+\ufffd+\ufffd+\ufffd+\ufffd+\ufffd+\ufffd+\ufffd+\ufffd+ +f+o+r+ +K+a+k+a+o+\"\uacbd\uc8fc\" \n",
        "stuck at \ufffd+\ufffd+\ufffd+\ufffd+\ufffd+\ufffd+\ufffd+\ufffd+\ufffd+ +\ufffd+\ufffd+\ufffd+\ufffd+\ufffd+\ufffd+\ufffd+\ufffd+\ufffd+\ufffd+\ufffd+\ufffd+ +f+o+r+ +K+a+k+a+o+\"\uacbd\uc8fc\"\n",
        "3508"
       ]
      },
      {
       "output_type": "stream",
       "stream": "stdout",
       "text": [
        "\n",
        "sleeping... :  0\n",
        "escape!!!\n",
        "pmi=0.00 : (\ub4dc\ub798\uace4 \ud50c\ub77c\uc774\ud2b8 for Kakao), (+\"\uacbd\uc8fc\"), (\ub4dc\ub798\uace4 \ud50c\ub77c\uc774\ud2b8 for Kakao+\"\uacbd\uc8fc\")\n"
       ]
      },
      {
       "output_type": "stream",
       "stream": "stdout",
       "text": [
        "  key +\"\ub2e4\uc774\uc5b4\ud2b8\" start: except 0"
       ]
      },
      {
       "output_type": "stream",
       "stream": "stdout",
       "text": [
        "\n",
        "stuck index: 0, \ufffd+\ufffd+\ufffd+\ufffd+\ufffd+\ufffd+\ufffd+\ufffd+\ufffd+ +\ufffd+\ufffd+\ufffd+\ufffd+\ufffd+\ufffd+\ufffd+\ufffd+\ufffd+\ufffd+\ufffd+\ufffd+ +f+o+r+ +K+a+k+a+o+\"\ub2e4\uc774\uc5b4\ud2b8\" \n",
        "stuck at \ufffd+\ufffd+\ufffd+\ufffd+\ufffd+\ufffd+\ufffd+\ufffd+\ufffd+ +\ufffd+\ufffd+\ufffd+\ufffd+\ufffd+\ufffd+\ufffd+\ufffd+\ufffd+\ufffd+\ufffd+\ufffd+ +f+o+r+ +K+a+k+a+o+\"\ub2e4\uc774\uc5b4\ud2b8\"\n",
        "3801"
       ]
      },
      {
       "output_type": "stream",
       "stream": "stdout",
       "text": [
        "\n",
        "sleeping... :  0\n",
        "escape!!!\n",
        "pmi=0.00 : (\ub4dc\ub798\uace4 \ud50c\ub77c\uc774\ud2b8 for Kakao), (+\"\ub2e4\uc774\uc5b4\ud2b8\"), (\ub4dc\ub798\uace4 \ud50c\ub77c\uc774\ud2b8 for Kakao+\"\ub2e4\uc774\uc5b4\ud2b8\")\n"
       ]
      },
      {
       "output_type": "stream",
       "stream": "stdout",
       "text": [
        "  key +\"\ub2ec\ub825\" start: except 0"
       ]
      },
      {
       "output_type": "stream",
       "stream": "stdout",
       "text": [
        "\n",
        "stuck index: 0, \ufffd+\ufffd+\ufffd+\ufffd+\ufffd+\ufffd+\ufffd+\ufffd+\ufffd+ +\ufffd+\ufffd+\ufffd+\ufffd+\ufffd+\ufffd+\ufffd+\ufffd+\ufffd+\ufffd+\ufffd+\ufffd+ +f+o+r+ +K+a+k+a+o+\"\ub2ec\ub825\" "
       ]
      },
      {
       "output_type": "stream",
       "stream": "stdout",
       "text": [
        "\n",
        "stuck at \ufffd+\ufffd+\ufffd+\ufffd+\ufffd+\ufffd+\ufffd+\ufffd+\ufffd+ +\ufffd+\ufffd+\ufffd+\ufffd+\ufffd+\ufffd+\ufffd+\ufffd+\ufffd+\ufffd+\ufffd+\ufffd+ +f+o+r+ +K+a+k+a+o+\"\ub2ec\ub825\"\n",
        "2370"
       ]
      },
      {
       "output_type": "stream",
       "stream": "stdout",
       "text": [
        "\n",
        "sleeping... :  0\n",
        "escape!!!\n",
        "pmi=0.00 : (\ub4dc\ub798\uace4 \ud50c\ub77c\uc774\ud2b8 for Kakao), (+\"\ub2ec\ub825\"), (\ub4dc\ub798\uace4 \ud50c\ub77c\uc774\ud2b8 for Kakao+\"\ub2ec\ub825\")\n"
       ]
      },
      {
       "output_type": "stream",
       "stream": "stdout",
       "text": [
        "  key +\"\uc0dd\ub9ac\" start: except 0"
       ]
      },
      {
       "output_type": "stream",
       "stream": "stdout",
       "text": [
        "\n",
        "stuck index: 0, \ufffd+\ufffd+\ufffd+\ufffd+\ufffd+\ufffd+\ufffd+\ufffd+\ufffd+ +\ufffd+\ufffd+\ufffd+\ufffd+\ufffd+\ufffd+\ufffd+\ufffd+\ufffd+\ufffd+\ufffd+\ufffd+ +f+o+r+ +K+a+k+a+o+\"\uc0dd\ub9ac\" \n",
        "stuck at \ufffd+\ufffd+\ufffd+\ufffd+\ufffd+\ufffd+\ufffd+\ufffd+\ufffd+ +\ufffd+\ufffd+\ufffd+\ufffd+\ufffd+\ufffd+\ufffd+\ufffd+\ufffd+\ufffd+\ufffd+\ufffd+ +f+o+r+ +K+a+k+a+o+\"\uc0dd\ub9ac\"\n",
        "3220"
       ]
      },
      {
       "output_type": "stream",
       "stream": "stdout",
       "text": [
        "\n",
        "sleeping... :  0\n",
        "escape!!!\n",
        "pmi=0.00 : (\ub4dc\ub798\uace4 \ud50c\ub77c\uc774\ud2b8 for Kakao), (+\"\uc0dd\ub9ac\"), (\ub4dc\ub798\uace4 \ud50c\ub77c\uc774\ud2b8 for Kakao+\"\uc0dd\ub9ac\")\n"
       ]
      },
      {
       "output_type": "stream",
       "stream": "stdout",
       "text": [
        "  key +\"\uce98\ub9b0\ub354\" start: except 0"
       ]
      },
      {
       "output_type": "stream",
       "stream": "stdout",
       "text": [
        "\n",
        "stuck index: 0, \ufffd+\ufffd+\ufffd+\ufffd+\ufffd+\ufffd+\ufffd+\ufffd+\ufffd+ +\ufffd+\ufffd+\ufffd+\ufffd+\ufffd+\ufffd+\ufffd+\ufffd+\ufffd+\ufffd+\ufffd+\ufffd+ +f+o+r+ +K+a+k+a+o+\"\uce98\ub9b0\ub354\" \n",
        "stuck at \ufffd+\ufffd+\ufffd+\ufffd+\ufffd+\ufffd+\ufffd+\ufffd+\ufffd+ +\ufffd+\ufffd+\ufffd+\ufffd+\ufffd+\ufffd+\ufffd+\ufffd+\ufffd+\ufffd+\ufffd+\ufffd+ +f+o+r+ +K+a+k+a+o+\"\uce98\ub9b0\ub354\"\n",
        "663"
       ]
      },
      {
       "output_type": "stream",
       "stream": "stdout",
       "text": [
        "\n",
        "sleeping... :  0\n",
        "escape!!!\n",
        "pmi=0.00 : (\ub4dc\ub798\uace4 \ud50c\ub77c\uc774\ud2b8 for Kakao), (+\"\uce98\ub9b0\ub354\"), (\ub4dc\ub798\uace4 \ud50c\ub77c\uc774\ud2b8 for Kakao+\"\uce98\ub9b0\ub354\")\n"
       ]
      },
      {
       "output_type": "stream",
       "stream": "stdout",
       "text": [
        "  key +\"\uc0ac\uc8fc\ud314\uc790\" start: except 0"
       ]
      },
      {
       "output_type": "stream",
       "stream": "stdout",
       "text": [
        "\n",
        "stuck index: 0, \ufffd+\ufffd+\ufffd+\ufffd+\ufffd+\ufffd+\ufffd+\ufffd+\ufffd+ +\ufffd+\ufffd+\ufffd+\ufffd+\ufffd+\ufffd+\ufffd+\ufffd+\ufffd+\ufffd+\ufffd+\ufffd+ +f+o+r+ +K+a+k+a+o+\"\uc0ac\uc8fc\ud314\uc790\" \n",
        "stuck at \ufffd+\ufffd+\ufffd+\ufffd+\ufffd+\ufffd+\ufffd+\ufffd+\ufffd+ +\ufffd+\ufffd+\ufffd+\ufffd+\ufffd+\ufffd+\ufffd+\ufffd+\ufffd+\ufffd+\ufffd+\ufffd+ +f+o+r+ +K+a+k+a+o+\"\uc0ac\uc8fc\ud314\uc790\"\n",
        "53"
       ]
      },
      {
       "output_type": "stream",
       "stream": "stdout",
       "text": [
        "\n",
        "sleeping... :  0\n",
        "escape!!!\n",
        "pmi=0.00 : (\ub4dc\ub798\uace4 \ud50c\ub77c\uc774\ud2b8 for Kakao), (+\"\uc0ac\uc8fc\ud314\uc790\"), (\ub4dc\ub798\uace4 \ud50c\ub77c\uc774\ud2b8 for Kakao+\"\uc0ac\uc8fc\ud314\uc790\")\n"
       ]
      },
      {
       "output_type": "stream",
       "stream": "stdout",
       "text": [
        "  key +\"\uad81\ud569\" start: except 0"
       ]
      },
      {
       "output_type": "stream",
       "stream": "stdout",
       "text": [
        "\n",
        "stuck index: 0, \ufffd+\ufffd+\ufffd+\ufffd+\ufffd+\ufffd+\ufffd+\ufffd+\ufffd+ +\ufffd+\ufffd+\ufffd+\ufffd+\ufffd+\ufffd+\ufffd+\ufffd+\ufffd+\ufffd+\ufffd+\ufffd+ +f+o+r+ +K+a+k+a+o+\"\uad81\ud569\" \n",
        "stuck at \ufffd+\ufffd+\ufffd+\ufffd+\ufffd+\ufffd+\ufffd+\ufffd+\ufffd+ +\ufffd+\ufffd+\ufffd+\ufffd+\ufffd+\ufffd+\ufffd+\ufffd+\ufffd+\ufffd+\ufffd+\ufffd+ +f+o+r+ +K+a+k+a+o+\"\uad81\ud569\"\n",
        "1224"
       ]
      },
      {
       "output_type": "stream",
       "stream": "stdout",
       "text": [
        "\n",
        "sleeping... :  0\n",
        "escape!!!\n",
        "pmi=0.00 : (\ub4dc\ub798\uace4 \ud50c\ub77c\uc774\ud2b8 for Kakao), (+\"\uad81\ud569\"), (\ub4dc\ub798\uace4 \ud50c\ub77c\uc774\ud2b8 for Kakao+\"\uad81\ud569\")\n"
       ]
      },
      {
       "output_type": "stream",
       "stream": "stdout",
       "text": [
        "  key +\"\uccb4\uc911\" start: except 0"
       ]
      },
      {
       "output_type": "stream",
       "stream": "stdout",
       "text": [
        "\n",
        "stuck index: 0, \ufffd+\ufffd+\ufffd+\ufffd+\ufffd+\ufffd+\ufffd+\ufffd+\ufffd+ +\ufffd+\ufffd+\ufffd+\ufffd+\ufffd+\ufffd+\ufffd+\ufffd+\ufffd+\ufffd+\ufffd+\ufffd+ +f+o+r+ +K+a+k+a+o+\"\uccb4\uc911\" \n",
        "stuck at \ufffd+\ufffd+\ufffd+\ufffd+\ufffd+\ufffd+\ufffd+\ufffd+\ufffd+ +\ufffd+\ufffd+\ufffd+\ufffd+\ufffd+\ufffd+\ufffd+\ufffd+\ufffd+\ufffd+\ufffd+\ufffd+ +f+o+r+ +K+a+k+a+o+\"\uccb4\uc911\"\n",
        "3888"
       ]
      },
      {
       "output_type": "stream",
       "stream": "stdout",
       "text": [
        "\n",
        "sleeping... :  0\n",
        "escape!!!\n",
        "pmi=0.00 : (\ub4dc\ub798\uace4 \ud50c\ub77c\uc774\ud2b8 for Kakao), (+\"\uccb4\uc911\"), (\ub4dc\ub798\uace4 \ud50c\ub77c\uc774\ud2b8 for Kakao+\"\uccb4\uc911\")\n"
       ]
      },
      {
       "output_type": "stream",
       "stream": "stdout",
       "text": [
        "  key +\"\uc0ac\uc804\" start: except 0"
       ]
      },
      {
       "output_type": "stream",
       "stream": "stdout",
       "text": [
        "\n",
        "stuck index: 0, \ufffd+\ufffd+\ufffd+\ufffd+\ufffd+\ufffd+\ufffd+\ufffd+\ufffd+ +\ufffd+\ufffd+\ufffd+\ufffd+\ufffd+\ufffd+\ufffd+\ufffd+\ufffd+\ufffd+\ufffd+\ufffd+ +f+o+r+ +K+a+k+a+o+\"\uc0ac\uc804\" \n",
        "stuck at \ufffd+\ufffd+\ufffd+\ufffd+\ufffd+\ufffd+\ufffd+\ufffd+\ufffd+ +\ufffd+\ufffd+\ufffd+\ufffd+\ufffd+\ufffd+\ufffd+\ufffd+\ufffd+\ufffd+\ufffd+\ufffd+ +f+o+r+ +K+a+k+a+o+\"\uc0ac\uc804\"\n",
        "18645"
       ]
      },
      {
       "output_type": "stream",
       "stream": "stdout",
       "text": [
        "\n",
        "sleeping... :  0\n",
        "escape!!!\n",
        "pmi=0.00 : (\ub4dc\ub798\uace4 \ud50c\ub77c\uc774\ud2b8 for Kakao), (+\"\uc0ac\uc804\"), (\ub4dc\ub798\uace4 \ud50c\ub77c\uc774\ud2b8 for Kakao+\"\uc0ac\uc804\")\n"
       ]
      },
      {
       "output_type": "stream",
       "stream": "stdout",
       "text": [
        "  key +\"\ucef4\ud4e8\ud130\" start: except 0"
       ]
      },
      {
       "output_type": "stream",
       "stream": "stdout",
       "text": [
        "\n",
        "stuck index: 0, \ufffd+\ufffd+\ufffd+\ufffd+\ufffd+\ufffd+\ufffd+\ufffd+\ufffd+ +\ufffd+\ufffd+\ufffd+\ufffd+\ufffd+\ufffd+\ufffd+\ufffd+\ufffd+\ufffd+\ufffd+\ufffd+ +f+o+r+ +K+a+k+a+o+\"\ucef4\ud4e8\ud130\" \n",
        "stuck at \ufffd+\ufffd+\ufffd+\ufffd+\ufffd+\ufffd+\ufffd+\ufffd+\ufffd+ +\ufffd+\ufffd+\ufffd+\ufffd+\ufffd+\ufffd+\ufffd+\ufffd+\ufffd+\ufffd+\ufffd+\ufffd+ +f+o+r+ +K+a+k+a+o+\"\ucef4\ud4e8\ud130\"\n",
        "22852"
       ]
      },
      {
       "output_type": "stream",
       "stream": "stdout",
       "text": [
        "\n",
        "sleeping... :  0\n",
        "escape!!!\n",
        "pmi=0.00 : (\ub4dc\ub798\uace4 \ud50c\ub77c\uc774\ud2b8 for Kakao), (+\"\ucef4\ud4e8\ud130\"), (\ub4dc\ub798\uace4 \ud50c\ub77c\uc774\ud2b8 for Kakao+\"\ucef4\ud4e8\ud130\")\n"
       ]
      },
      {
       "output_type": "stream",
       "stream": "stdout",
       "text": [
        "  key +\"\ubc31\uacfc\uc0ac\uc804\" start: except 0"
       ]
      },
      {
       "output_type": "stream",
       "stream": "stdout",
       "text": [
        "\n",
        "stuck index: 0, \ufffd+\ufffd+\ufffd+\ufffd+\ufffd+\ufffd+\ufffd+\ufffd+\ufffd+ +\ufffd+\ufffd+\ufffd+\ufffd+\ufffd+\ufffd+\ufffd+\ufffd+\ufffd+\ufffd+\ufffd+\ufffd+ +f+o+r+ +K+a+k+a+o+\"\ubc31\uacfc\uc0ac\uc804\" \n",
        "stuck at \ufffd+\ufffd+\ufffd+\ufffd+\ufffd+\ufffd+\ufffd+\ufffd+\ufffd+ +\ufffd+\ufffd+\ufffd+\ufffd+\ufffd+\ufffd+\ufffd+\ufffd+\ufffd+\ufffd+\ufffd+\ufffd+ +f+o+r+ +K+a+k+a+o+\"\ubc31\uacfc\uc0ac\uc804\"\n",
        "2345"
       ]
      },
      {
       "output_type": "stream",
       "stream": "stdout",
       "text": [
        "\n",
        "sleeping... :  0\n",
        "escape!!!\n",
        "pmi=0.00 : (\ub4dc\ub798\uace4 \ud50c\ub77c\uc774\ud2b8 for Kakao), (+\"\ubc31\uacfc\uc0ac\uc804\"), (\ub4dc\ub798\uace4 \ud50c\ub77c\uc774\ud2b8 for Kakao+\"\ubc31\uacfc\uc0ac\uc804\")\n"
       ]
      },
      {
       "output_type": "stream",
       "stream": "stdout",
       "text": [
        "  key +\"\uae09\uc2dd\" start: except 0"
       ]
      },
      {
       "output_type": "stream",
       "stream": "stdout",
       "text": [
        "\n",
        "stuck index: 0, \ufffd+\ufffd+\ufffd+\ufffd+\ufffd+\ufffd+\ufffd+\ufffd+\ufffd+ +\ufffd+\ufffd+\ufffd+\ufffd+\ufffd+\ufffd+\ufffd+\ufffd+\ufffd+\ufffd+\ufffd+\ufffd+ +f+o+r+ +K+a+k+a+o+\"\uae09\uc2dd\" \n",
        "stuck at \ufffd+\ufffd+\ufffd+\ufffd+\ufffd+\ufffd+\ufffd+\ufffd+\ufffd+ +\ufffd+\ufffd+\ufffd+\ufffd+\ufffd+\ufffd+\ufffd+\ufffd+\ufffd+\ufffd+\ufffd+\ufffd+ +f+o+r+ +K+a+k+a+o+\"\uae09\uc2dd\"\n",
        "1120"
       ]
      },
      {
       "output_type": "stream",
       "stream": "stdout",
       "text": [
        "\n",
        "sleeping... :  0\n",
        "escape!!!\n",
        "pmi=0.00 : (\ub4dc\ub798\uace4 \ud50c\ub77c\uc774\ud2b8 for Kakao), (+\"\uae09\uc2dd\"), (\ub4dc\ub798\uace4 \ud50c\ub77c\uc774\ud2b8 for Kakao+\"\uae09\uc2dd\")\n"
       ]
      },
      {
       "output_type": "stream",
       "stream": "stdout",
       "text": [
        "  key +\"\ud559\uad50\" start: except 0"
       ]
      },
      {
       "output_type": "stream",
       "stream": "stdout",
       "text": [
        "\n",
        "stuck index: 0, \ufffd+\ufffd+\ufffd+\ufffd+\ufffd+\ufffd+\ufffd+\ufffd+\ufffd+ +\ufffd+\ufffd+\ufffd+\ufffd+\ufffd+\ufffd+\ufffd+\ufffd+\ufffd+\ufffd+\ufffd+\ufffd+ +f+o+r+ +K+a+k+a+o+\"\ud559\uad50\" \n",
        "stuck at \ufffd+\ufffd+\ufffd+\ufffd+\ufffd+\ufffd+\ufffd+\ufffd+\ufffd+ +\ufffd+\ufffd+\ufffd+\ufffd+\ufffd+\ufffd+\ufffd+\ufffd+\ufffd+\ufffd+\ufffd+\ufffd+ +f+o+r+ +K+a+k+a+o+\"\ud559\uad50\"\n",
        "29803"
       ]
      },
      {
       "output_type": "stream",
       "stream": "stdout",
       "text": [
        "\n",
        "sleeping... :  0\n",
        "escape!!!\n",
        "pmi=0.00 : (\ub4dc\ub798\uace4 \ud50c\ub77c\uc774\ud2b8 for Kakao), (+\"\ud559\uad50\"), (\ub4dc\ub798\uace4 \ud50c\ub77c\uc774\ud2b8 for Kakao+\"\ud559\uad50\")\n"
       ]
      },
      {
       "output_type": "stream",
       "stream": "stdout",
       "text": [
        "  key +\"\ucd08\ub4f1\ud559\uad50\" start: except 0"
       ]
      },
      {
       "output_type": "stream",
       "stream": "stdout",
       "text": [
        "\n",
        "stuck index: 0, \ufffd+\ufffd+\ufffd+\ufffd+\ufffd+\ufffd+\ufffd+\ufffd+\ufffd+ +\ufffd+\ufffd+\ufffd+\ufffd+\ufffd+\ufffd+\ufffd+\ufffd+\ufffd+\ufffd+\ufffd+\ufffd+ +f+o+r+ +K+a+k+a+o+\"\ucd08\ub4f1\ud559\uad50\" "
       ]
      },
      {
       "output_type": "stream",
       "stream": "stdout",
       "text": [
        "\n",
        "stuck at \ufffd+\ufffd+\ufffd+\ufffd+\ufffd+\ufffd+\ufffd+\ufffd+\ufffd+ +\ufffd+\ufffd+\ufffd+\ufffd+\ufffd+\ufffd+\ufffd+\ufffd+\ufffd+\ufffd+\ufffd+\ufffd+ +f+o+r+ +K+a+k+a+o+\"\ucd08\ub4f1\ud559\uad50\"\n",
        "4043"
       ]
      },
      {
       "output_type": "stream",
       "stream": "stdout",
       "text": [
        "\n",
        "sleeping... :  0\n",
        "escape!!!\n",
        "pmi=0.00 : (\ub4dc\ub798\uace4 \ud50c\ub77c\uc774\ud2b8 for Kakao), (+\"\ucd08\ub4f1\ud559\uad50\"), (\ub4dc\ub798\uace4 \ud50c\ub77c\uc774\ud2b8 for Kakao+\"\ucd08\ub4f1\ud559\uad50\")\n"
       ]
      },
      {
       "output_type": "stream",
       "stream": "stdout",
       "text": [
        "  key +\"\uc911\ud559\uad50\" start: except 0"
       ]
      },
      {
       "output_type": "stream",
       "stream": "stdout",
       "text": [
        "\n",
        "stuck index: 0, \ufffd+\ufffd+\ufffd+\ufffd+\ufffd+\ufffd+\ufffd+\ufffd+\ufffd+ +\ufffd+\ufffd+\ufffd+\ufffd+\ufffd+\ufffd+\ufffd+\ufffd+\ufffd+\ufffd+\ufffd+\ufffd+ +f+o+r+ +K+a+k+a+o+\"\uc911\ud559\uad50\" \n",
        "stuck at \ufffd+\ufffd+\ufffd+\ufffd+\ufffd+\ufffd+\ufffd+\ufffd+\ufffd+ +\ufffd+\ufffd+\ufffd+\ufffd+\ufffd+\ufffd+\ufffd+\ufffd+\ufffd+\ufffd+\ufffd+\ufffd+ +f+o+r+ +K+a+k+a+o+\"\uc911\ud559\uad50\"\n",
        "4441"
       ]
      },
      {
       "output_type": "stream",
       "stream": "stdout",
       "text": [
        "\n",
        "sleeping... :  0\n",
        "escape!!!\n",
        "pmi=0.00 : (\ub4dc\ub798\uace4 \ud50c\ub77c\uc774\ud2b8 for Kakao), (+\"\uc911\ud559\uad50\"), (\ub4dc\ub798\uace4 \ud50c\ub77c\uc774\ud2b8 for Kakao+\"\uc911\ud559\uad50\")\n"
       ]
      },
      {
       "output_type": "stream",
       "stream": "stdout",
       "text": [
        "  key +\"\uace0\ub4f1\ud559\uad50\" start: except 0"
       ]
      },
      {
       "output_type": "stream",
       "stream": "stdout",
       "text": [
        "\n",
        "stuck index: 0, \ufffd+\ufffd+\ufffd+\ufffd+\ufffd+\ufffd+\ufffd+\ufffd+\ufffd+ +\ufffd+\ufffd+\ufffd+\ufffd+\ufffd+\ufffd+\ufffd+\ufffd+\ufffd+\ufffd+\ufffd+\ufffd+ +f+o+r+ +K+a+k+a+o+\"\uace0\ub4f1\ud559\uad50\" \n",
        "stuck at \ufffd+\ufffd+\ufffd+\ufffd+\ufffd+\ufffd+\ufffd+\ufffd+\ufffd+ +\ufffd+\ufffd+\ufffd+\ufffd+\ufffd+\ufffd+\ufffd+\ufffd+\ufffd+\ufffd+\ufffd+\ufffd+ +f+o+r+ +K+a+k+a+o+\"\uace0\ub4f1\ud559\uad50\"\n",
        "6557"
       ]
      },
      {
       "output_type": "stream",
       "stream": "stdout",
       "text": [
        "\n",
        "sleeping... :  0\n",
        "escape!!!\n",
        "pmi=0.00 : (\ub4dc\ub798\uace4 \ud50c\ub77c\uc774\ud2b8 for Kakao), (+\"\uace0\ub4f1\ud559\uad50\"), (\ub4dc\ub798\uace4 \ud50c\ub77c\uc774\ud2b8 for Kakao+\"\uace0\ub4f1\ud559\uad50\")\n"
       ]
      },
      {
       "output_type": "stream",
       "stream": "stdout",
       "text": [
        "  key +\"\ub300\ud559\uad50\" start: except 0"
       ]
      },
      {
       "output_type": "stream",
       "stream": "stdout",
       "text": [
        "\n",
        "stuck index: 0, \ufffd+\ufffd+\ufffd+\ufffd+\ufffd+\ufffd+\ufffd+\ufffd+\ufffd+ +\ufffd+\ufffd+\ufffd+\ufffd+\ufffd+\ufffd+\ufffd+\ufffd+\ufffd+\ufffd+\ufffd+\ufffd+ +f+o+r+ +K+a+k+a+o+\"\ub300\ud559\uad50\" \n",
        "stuck at \ufffd+\ufffd+\ufffd+\ufffd+\ufffd+\ufffd+\ufffd+\ufffd+\ufffd+ +\ufffd+\ufffd+\ufffd+\ufffd+\ufffd+\ufffd+\ufffd+\ufffd+\ufffd+\ufffd+\ufffd+\ufffd+ +f+o+r+ +K+a+k+a+o+\"\ub300\ud559\uad50\"\n",
        "16790"
       ]
      },
      {
       "output_type": "stream",
       "stream": "stdout",
       "text": [
        "\n",
        "sleeping... :  0\n",
        "escape!!!\n",
        "pmi=0.00 : (\ub4dc\ub798\uace4 \ud50c\ub77c\uc774\ud2b8 for Kakao), (+\"\ub300\ud559\uad50\"), (\ub4dc\ub798\uace4 \ud50c\ub77c\uc774\ud2b8 for Kakao+\"\ub300\ud559\uad50\")\n"
       ]
      },
      {
       "output_type": "stream",
       "stream": "stdout",
       "text": [
        "  key +\"Korea\" start: except 0"
       ]
      },
      {
       "output_type": "stream",
       "stream": "stdout",
       "text": [
        "\n",
        "stuck index: 0, \ufffd+\ufffd+\ufffd+\ufffd+\ufffd+\ufffd+\ufffd+\ufffd+\ufffd+ +\ufffd+\ufffd+\ufffd+\ufffd+\ufffd+\ufffd+\ufffd+\ufffd+\ufffd+\ufffd+\ufffd+\ufffd+ +f+o+r+ +K+a+k+a+o+\"Korea\" \n",
        "stuck at \ufffd+\ufffd+\ufffd+\ufffd+\ufffd+\ufffd+\ufffd+\ufffd+\ufffd+ +\ufffd+\ufffd+\ufffd+\ufffd+\ufffd+\ufffd+\ufffd+\ufffd+\ufffd+\ufffd+\ufffd+\ufffd+ +f+o+r+ +K+a+k+a+o+\"Korea\"\n",
        "19264"
       ]
      },
      {
       "output_type": "stream",
       "stream": "stdout",
       "text": [
        "\n",
        "sleeping... :  0\n",
        "escape!!!\n",
        "pmi=0.00 : (\ub4dc\ub798\uace4 \ud50c\ub77c\uc774\ud2b8 for Kakao), (+\"Korea\"), (\ub4dc\ub798\uace4 \ud50c\ub77c\uc774\ud2b8 for Kakao+\"Korea\")\n"
       ]
      },
      {
       "output_type": "stream",
       "stream": "stdout",
       "text": [
        "  key +\"\ub124\ube44\uac8c\uc774\uc158\" start: except 0"
       ]
      },
      {
       "output_type": "stream",
       "stream": "stdout",
       "text": [
        "\n",
        "stuck index: 0, \ufffd+\ufffd+\ufffd+\ufffd+\ufffd+\ufffd+\ufffd+\ufffd+\ufffd+ +\ufffd+\ufffd+\ufffd+\ufffd+\ufffd+\ufffd+\ufffd+\ufffd+\ufffd+\ufffd+\ufffd+\ufffd+ +f+o+r+ +K+a+k+a+o+\"\ub124\ube44\uac8c\uc774\uc158\" \n",
        "stuck at \ufffd+\ufffd+\ufffd+\ufffd+\ufffd+\ufffd+\ufffd+\ufffd+\ufffd+ +\ufffd+\ufffd+\ufffd+\ufffd+\ufffd+\ufffd+\ufffd+\ufffd+\ufffd+\ufffd+\ufffd+\ufffd+ +f+o+r+ +K+a+k+a+o+\"\ub124\ube44\uac8c\uc774\uc158\"\n",
        "1171"
       ]
      },
      {
       "output_type": "stream",
       "stream": "stdout",
       "text": [
        "\n",
        "sleeping... :  0\n",
        "escape!!!\n",
        "pmi=0.00 : (\ub4dc\ub798\uace4 \ud50c\ub77c\uc774\ud2b8 for Kakao), (+\"\ub124\ube44\uac8c\uc774\uc158\"), (\ub4dc\ub798\uace4 \ud50c\ub77c\uc774\ud2b8 for Kakao+\"\ub124\ube44\uac8c\uc774\uc158\")\n"
       ]
      },
      {
       "output_type": "stream",
       "stream": "stdout",
       "text": [
        "  key +\"\uc9c0\ud558\ucca0\" start: except 0"
       ]
      },
      {
       "output_type": "stream",
       "stream": "stdout",
       "text": [
        "\n",
        "stuck index: 0, \ufffd+\ufffd+\ufffd+\ufffd+\ufffd+\ufffd+\ufffd+\ufffd+\ufffd+ +\ufffd+\ufffd+\ufffd+\ufffd+\ufffd+\ufffd+\ufffd+\ufffd+\ufffd+\ufffd+\ufffd+\ufffd+ +f+o+r+ +K+a+k+a+o+\"\uc9c0\ud558\ucca0\" \n",
        "stuck at \ufffd+\ufffd+\ufffd+\ufffd+\ufffd+\ufffd+\ufffd+\ufffd+\ufffd+ +\ufffd+\ufffd+\ufffd+\ufffd+\ufffd+\ufffd+\ufffd+\ufffd+\ufffd+\ufffd+\ufffd+\ufffd+ +f+o+r+ +K+a+k+a+o+\"\uc9c0\ud558\ucca0\"\n",
        "5506"
       ]
      },
      {
       "output_type": "stream",
       "stream": "stdout",
       "text": [
        "\n",
        "sleeping... :  0\n",
        "escape!!!\n",
        "pmi=0.00 : (\ub4dc\ub798\uace4 \ud50c\ub77c\uc774\ud2b8 for Kakao), (+\"\uc9c0\ud558\ucca0\"), (\ub4dc\ub798\uace4 \ud50c\ub77c\uc774\ud2b8 for Kakao+\"\uc9c0\ud558\ucca0\")\n"
       ]
      },
      {
       "output_type": "stream",
       "stream": "stdout",
       "text": [
        "  key +\"\uc885\uacb0\uc790\" start: except 0"
       ]
      },
      {
       "output_type": "stream",
       "stream": "stdout",
       "text": [
        "\n",
        "stuck index: 0, \ufffd+\ufffd+\ufffd+\ufffd+\ufffd+\ufffd+\ufffd+\ufffd+\ufffd+ +\ufffd+\ufffd+\ufffd+\ufffd+\ufffd+\ufffd+\ufffd+\ufffd+\ufffd+\ufffd+\ufffd+\ufffd+ +f+o+r+ +K+a+k+a+o+\"\uc885\uacb0\uc790\" \n",
        "stuck at \ufffd+\ufffd+\ufffd+\ufffd+\ufffd+\ufffd+\ufffd+\ufffd+\ufffd+ +\ufffd+\ufffd+\ufffd+\ufffd+\ufffd+\ufffd+\ufffd+\ufffd+\ufffd+\ufffd+\ufffd+\ufffd+ +f+o+r+ +K+a+k+a+o+\"\uc885\uacb0\uc790\"\n",
        "756"
       ]
      },
      {
       "output_type": "stream",
       "stream": "stdout",
       "text": [
        "\n",
        "sleeping... :  0\n",
        "escape!!!\n",
        "pmi=0.00 : (\ub4dc\ub798\uace4 \ud50c\ub77c\uc774\ud2b8 for Kakao), (+\"\uc885\uacb0\uc790\"), (\ub4dc\ub798\uace4 \ud50c\ub77c\uc774\ud2b8 for Kakao+\"\uc885\uacb0\uc790\")\n"
       ]
      },
      {
       "output_type": "stream",
       "stream": "stdout",
       "text": [
        "  key +\"\ub0b4\ube44\" start: except 0"
       ]
      },
      {
       "output_type": "stream",
       "stream": "stdout",
       "text": [
        "\n",
        "stuck index: 0, \ufffd+\ufffd+\ufffd+\ufffd+\ufffd+\ufffd+\ufffd+\ufffd+\ufffd+ +\ufffd+\ufffd+\ufffd+\ufffd+\ufffd+\ufffd+\ufffd+\ufffd+\ufffd+\ufffd+\ufffd+\ufffd+ +f+o+r+ +K+a+k+a+o+\"\ub0b4\ube44\" \n",
        "stuck at \ufffd+\ufffd+\ufffd+\ufffd+\ufffd+\ufffd+\ufffd+\ufffd+\ufffd+ +\ufffd+\ufffd+\ufffd+\ufffd+\ufffd+\ufffd+\ufffd+\ufffd+\ufffd+\ufffd+\ufffd+\ufffd+ +f+o+r+ +K+a+k+a+o+\"\ub0b4\ube44\"\n",
        "107"
       ]
      },
      {
       "output_type": "stream",
       "stream": "stdout",
       "text": [
        "\n",
        "sleeping... :  0\n",
        "escape!!!\n",
        "pmi=0.00 : (\ub4dc\ub798\uace4 \ud50c\ub77c\uc774\ud2b8 for Kakao), (+\"\ub0b4\ube44\"), (\ub4dc\ub798\uace4 \ud50c\ub77c\uc774\ud2b8 for Kakao+\"\ub0b4\ube44\")\n"
       ]
      },
      {
       "output_type": "stream",
       "stream": "stdout",
       "text": [
        "  key +\"\uac00\uacc4\ubd80\" start: except 0"
       ]
      },
      {
       "output_type": "stream",
       "stream": "stdout",
       "text": [
        "\n",
        "stuck index: 0, \ufffd+\ufffd+\ufffd+\ufffd+\ufffd+\ufffd+\ufffd+\ufffd+\ufffd+ +\ufffd+\ufffd+\ufffd+\ufffd+\ufffd+\ufffd+\ufffd+\ufffd+\ufffd+\ufffd+\ufffd+\ufffd+ +f+o+r+ +K+a+k+a+o+\"\uac00\uacc4\ubd80\" "
       ]
      },
      {
       "output_type": "stream",
       "stream": "stdout",
       "text": [
        "\n",
        "stuck at \ufffd+\ufffd+\ufffd+\ufffd+\ufffd+\ufffd+\ufffd+\ufffd+\ufffd+ +\ufffd+\ufffd+\ufffd+\ufffd+\ufffd+\ufffd+\ufffd+\ufffd+\ufffd+\ufffd+\ufffd+\ufffd+ +f+o+r+ +K+a+k+a+o+\"\uac00\uacc4\ubd80\"\n",
        "301"
       ]
      },
      {
       "output_type": "stream",
       "stream": "stdout",
       "text": [
        "\n",
        "sleeping... :  0\n",
        "escape!!!\n",
        "pmi=0.00 : (\ub4dc\ub798\uace4 \ud50c\ub77c\uc774\ud2b8 for Kakao), (+\"\uac00\uacc4\ubd80\"), (\ub4dc\ub798\uace4 \ud50c\ub77c\uc774\ud2b8 for Kakao+\"\uac00\uacc4\ubd80\")\n"
       ]
      },
      {
       "output_type": "stream",
       "stream": "stdout",
       "text": [
        "  key +\"Money\" start: except 0"
       ]
      },
      {
       "output_type": "stream",
       "stream": "stdout",
       "text": [
        "\n",
        "stuck index: 0, \ufffd+\ufffd+\ufffd+\ufffd+\ufffd+\ufffd+\ufffd+\ufffd+\ufffd+ +\ufffd+\ufffd+\ufffd+\ufffd+\ufffd+\ufffd+\ufffd+\ufffd+\ufffd+\ufffd+\ufffd+\ufffd+ +f+o+r+ +K+a+k+a+o+\"Money\" \n",
        "stuck at \ufffd+\ufffd+\ufffd+\ufffd+\ufffd+\ufffd+\ufffd+\ufffd+\ufffd+ +\ufffd+\ufffd+\ufffd+\ufffd+\ufffd+\ufffd+\ufffd+\ufffd+\ufffd+\ufffd+\ufffd+\ufffd+ +f+o+r+ +K+a+k+a+o+\"Money\"\n",
        "21022"
       ]
      },
      {
       "output_type": "stream",
       "stream": "stdout",
       "text": [
        "\n",
        "sleeping... :  0\n",
        "escape!!!\n",
        "pmi=0.00 : (\ub4dc\ub798\uace4 \ud50c\ub77c\uc774\ud2b8 for Kakao), (+\"Money\"), (\ub4dc\ub798\uace4 \ud50c\ub77c\uc774\ud2b8 for Kakao+\"Money\")\n"
       ]
      },
      {
       "output_type": "stream",
       "stream": "stdout",
       "text": [
        "  key +\"\uc2a4\ub9c8\ud2b8\" start: except 0"
       ]
      },
      {
       "output_type": "stream",
       "stream": "stdout",
       "text": [
        "\n",
        "stuck index: 0, \ufffd+\ufffd+\ufffd+\ufffd+\ufffd+\ufffd+\ufffd+\ufffd+\ufffd+ +\ufffd+\ufffd+\ufffd+\ufffd+\ufffd+\ufffd+\ufffd+\ufffd+\ufffd+\ufffd+\ufffd+\ufffd+ +f+o+r+ +K+a+k+a+o+\"\uc2a4\ub9c8\ud2b8\" \n",
        "stuck at \ufffd+\ufffd+\ufffd+\ufffd+\ufffd+\ufffd+\ufffd+\ufffd+\ufffd+ +\ufffd+\ufffd+\ufffd+\ufffd+\ufffd+\ufffd+\ufffd+\ufffd+\ufffd+\ufffd+\ufffd+\ufffd+ +f+o+r+ +K+a+k+a+o+\"\uc2a4\ub9c8\ud2b8\"\n",
        "6935"
       ]
      },
      {
       "output_type": "stream",
       "stream": "stdout",
       "text": [
        "\n",
        "sleeping... :  0\n",
        "escape!!!\n",
        "pmi=0.00 : (\ub4dc\ub798\uace4 \ud50c\ub77c\uc774\ud2b8 for Kakao), (+\"\uc2a4\ub9c8\ud2b8\"), (\ub4dc\ub798\uace4 \ud50c\ub77c\uc774\ud2b8 for Kakao+\"\uc2a4\ub9c8\ud2b8\")\n"
       ]
      },
      {
       "output_type": "stream",
       "stream": "stdout",
       "text": [
        "  key +\"\uacc4\uc0b0\uae30\" start: except 0"
       ]
      },
      {
       "output_type": "stream",
       "stream": "stdout",
       "text": [
        "\n",
        "stuck index: 0, \ufffd+\ufffd+\ufffd+\ufffd+\ufffd+\ufffd+\ufffd+\ufffd+\ufffd+ +\ufffd+\ufffd+\ufffd+\ufffd+\ufffd+\ufffd+\ufffd+\ufffd+\ufffd+\ufffd+\ufffd+\ufffd+ +f+o+r+ +K+a+k+a+o+\"\uacc4\uc0b0\uae30\" \n",
        "stuck at \ufffd+\ufffd+\ufffd+\ufffd+\ufffd+\ufffd+\ufffd+\ufffd+\ufffd+ +\ufffd+\ufffd+\ufffd+\ufffd+\ufffd+\ufffd+\ufffd+\ufffd+\ufffd+\ufffd+\ufffd+\ufffd+ +f+o+r+ +K+a+k+a+o+\"\uacc4\uc0b0\uae30\"\n",
        "1691"
       ]
      },
      {
       "output_type": "stream",
       "stream": "stdout",
       "text": [
        "\n",
        "sleeping... :  0\n",
        "escape!!!\n",
        "pmi=0.00 : (\ub4dc\ub798\uace4 \ud50c\ub77c\uc774\ud2b8 for Kakao), (+\"\uacc4\uc0b0\uae30\"), (\ub4dc\ub798\uace4 \ud50c\ub77c\uc774\ud2b8 for Kakao+\"\uacc4\uc0b0\uae30\")\n"
       ]
      },
      {
       "output_type": "stream",
       "stream": "stdout",
       "text": [
        "  key +\"\uc740\ud589\" start: except 0"
       ]
      },
      {
       "output_type": "stream",
       "stream": "stdout",
       "text": [
        "\n",
        "stuck index: 0, \ufffd+\ufffd+\ufffd+\ufffd+\ufffd+\ufffd+\ufffd+\ufffd+\ufffd+ +\ufffd+\ufffd+\ufffd+\ufffd+\ufffd+\ufffd+\ufffd+\ufffd+\ufffd+\ufffd+\ufffd+\ufffd+ +f+o+r+ +K+a+k+a+o+\"\uc740\ud589\" \n",
        "stuck at \ufffd+\ufffd+\ufffd+\ufffd+\ufffd+\ufffd+\ufffd+\ufffd+\ufffd+ +\ufffd+\ufffd+\ufffd+\ufffd+\ufffd+\ufffd+\ufffd+\ufffd+\ufffd+\ufffd+\ufffd+\ufffd+ +f+o+r+ +K+a+k+a+o+\"\uc740\ud589\"\n",
        "10449"
       ]
      },
      {
       "output_type": "stream",
       "stream": "stdout",
       "text": [
        "\n",
        "sleeping... :  0\n",
        "escape!!!\n",
        "pmi=0.00 : (\ub4dc\ub798\uace4 \ud50c\ub77c\uc774\ud2b8 for Kakao), (+\"\uc740\ud589\"), (\ub4dc\ub798\uace4 \ud50c\ub77c\uc774\ud2b8 for Kakao+\"\uc740\ud589\")\n"
       ]
      },
      {
       "output_type": "stream",
       "stream": "stdout",
       "text": [
        "  key +\"\uac80\uc0c9\uc5b4\" start: except 0"
       ]
      },
      {
       "output_type": "stream",
       "stream": "stdout",
       "text": [
        "\n",
        "stuck index: 0, \ufffd+\ufffd+\ufffd+\ufffd+\ufffd+\ufffd+\ufffd+\ufffd+\ufffd+ +\ufffd+\ufffd+\ufffd+\ufffd+\ufffd+\ufffd+\ufffd+\ufffd+\ufffd+\ufffd+\ufffd+\ufffd+ +f+o+r+ +K+a+k+a+o+\"\uac80\uc0c9\uc5b4\" \n",
        "stuck at \ufffd+\ufffd+\ufffd+\ufffd+\ufffd+\ufffd+\ufffd+\ufffd+\ufffd+ +\ufffd+\ufffd+\ufffd+\ufffd+\ufffd+\ufffd+\ufffd+\ufffd+\ufffd+\ufffd+\ufffd+\ufffd+ +f+o+r+ +K+a+k+a+o+\"\uac80\uc0c9\uc5b4\"\n",
        "3131"
       ]
      },
      {
       "output_type": "stream",
       "stream": "stdout",
       "text": [
        "\n",
        "sleeping... :  0\n",
        "escape!!!\n",
        "pmi=0.00 : (\ub4dc\ub798\uace4 \ud50c\ub77c\uc774\ud2b8 for Kakao), (+\"\uac80\uc0c9\uc5b4\"), (\ub4dc\ub798\uace4 \ud50c\ub77c\uc774\ud2b8 for Kakao+\"\uac80\uc0c9\uc5b4\")\n"
       ]
      },
      {
       "output_type": "stream",
       "stream": "stdout",
       "text": [
        "  key +\"\uc2e4\uc2dc\uac04\" start: except 0"
       ]
      },
      {
       "output_type": "stream",
       "stream": "stdout",
       "text": [
        "\n",
        "stuck index: 0, \ufffd+\ufffd+\ufffd+\ufffd+\ufffd+\ufffd+\ufffd+\ufffd+\ufffd+ +\ufffd+\ufffd+\ufffd+\ufffd+\ufffd+\ufffd+\ufffd+\ufffd+\ufffd+\ufffd+\ufffd+\ufffd+ +f+o+r+ +K+a+k+a+o+\"\uc2e4\uc2dc\uac04\" \n",
        "stuck at \ufffd+\ufffd+\ufffd+\ufffd+\ufffd+\ufffd+\ufffd+\ufffd+\ufffd+ +\ufffd+\ufffd+\ufffd+\ufffd+\ufffd+\ufffd+\ufffd+\ufffd+\ufffd+\ufffd+\ufffd+\ufffd+ +f+o+r+ +K+a+k+a+o+\"\uc2e4\uc2dc\uac04\"\n",
        "6269"
       ]
      },
      {
       "output_type": "stream",
       "stream": "stdout",
       "text": [
        "\n",
        "sleeping... :  0\n",
        "escape!!!\n",
        "pmi=0.00 : (\ub4dc\ub798\uace4 \ud50c\ub77c\uc774\ud2b8 for Kakao), (+\"\uc2e4\uc2dc\uac04\"), (\ub4dc\ub798\uace4 \ud50c\ub77c\uc774\ud2b8 for Kakao+\"\uc2e4\uc2dc\uac04\")\n"
       ]
      },
      {
       "output_type": "stream",
       "stream": "stdout",
       "text": [
        "  key +\"\uc2e0\ubb38\" start: except 0"
       ]
      },
      {
       "output_type": "stream",
       "stream": "stdout",
       "text": [
        "\n",
        "stuck index: 0, \ufffd+\ufffd+\ufffd+\ufffd+\ufffd+\ufffd+\ufffd+\ufffd+\ufffd+ +\ufffd+\ufffd+\ufffd+\ufffd+\ufffd+\ufffd+\ufffd+\ufffd+\ufffd+\ufffd+\ufffd+\ufffd+ +f+o+r+ +K+a+k+a+o+\"\uc2e0\ubb38\" \n",
        "stuck at \ufffd+\ufffd+\ufffd+\ufffd+\ufffd+\ufffd+\ufffd+\ufffd+\ufffd+ +\ufffd+\ufffd+\ufffd+\ufffd+\ufffd+\ufffd+\ufffd+\ufffd+\ufffd+\ufffd+\ufffd+\ufffd+ +f+o+r+ +K+a+k+a+o+\"\uc2e0\ubb38\"\n",
        "12780"
       ]
      },
      {
       "output_type": "stream",
       "stream": "stdout",
       "text": [
        "\n",
        "sleeping... :  0\n",
        "escape!!!\n",
        "pmi=0.00 : (\ub4dc\ub798\uace4 \ud50c\ub77c\uc774\ud2b8 for Kakao), (+\"\uc2e0\ubb38\"), (\ub4dc\ub798\uace4 \ud50c\ub77c\uc774\ud2b8 for Kakao+\"\uc2e0\ubb38\")\n"
       ]
      },
      {
       "output_type": "stream",
       "stream": "stdout",
       "text": [
        "  key +\"\ud074\ub798\uc2dd\" start: except 0"
       ]
      },
      {
       "output_type": "stream",
       "stream": "stdout",
       "text": [
        "\n",
        "stuck index: 0, \ufffd+\ufffd+\ufffd+\ufffd+\ufffd+\ufffd+\ufffd+\ufffd+\ufffd+ +\ufffd+\ufffd+\ufffd+\ufffd+\ufffd+\ufffd+\ufffd+\ufffd+\ufffd+\ufffd+\ufffd+\ufffd+ +f+o+r+ +K+a+k+a+o+\"\ud074\ub798\uc2dd\" "
       ]
      },
      {
       "output_type": "stream",
       "stream": "stdout",
       "text": [
        "\n",
        "stuck at \ufffd+\ufffd+\ufffd+\ufffd+\ufffd+\ufffd+\ufffd+\ufffd+\ufffd+ +\ufffd+\ufffd+\ufffd+\ufffd+\ufffd+\ufffd+\ufffd+\ufffd+\ufffd+\ufffd+\ufffd+\ufffd+ +f+o+r+ +K+a+k+a+o+\"\ud074\ub798\uc2dd\"\n",
        "8014"
       ]
      },
      {
       "output_type": "stream",
       "stream": "stdout",
       "text": [
        "\n",
        "sleeping... :  0\n",
        "escape!!!\n",
        "pmi=0.00 : (\ub4dc\ub798\uace4 \ud50c\ub77c\uc774\ud2b8 for Kakao), (+\"\ud074\ub798\uc2dd\"), (\ub4dc\ub798\uace4 \ud50c\ub77c\uc774\ud2b8 for Kakao+\"\ud074\ub798\uc2dd\")\n"
       ]
      },
      {
       "output_type": "stream",
       "stream": "stdout",
       "text": [
        "  key +\"\uc560\ub2c8\" start: except 0"
       ]
      },
      {
       "output_type": "stream",
       "stream": "stdout",
       "text": [
        "\n",
        "stuck index: 0, \ufffd+\ufffd+\ufffd+\ufffd+\ufffd+\ufffd+\ufffd+\ufffd+\ufffd+ +\ufffd+\ufffd+\ufffd+\ufffd+\ufffd+\ufffd+\ufffd+\ufffd+\ufffd+\ufffd+\ufffd+\ufffd+ +f+o+r+ +K+a+k+a+o+\"\uc560\ub2c8\" "
       ]
      },
      {
       "output_type": "stream",
       "stream": "stdout",
       "text": [
        "\n",
        "stuck at \ufffd+\ufffd+\ufffd+\ufffd+\ufffd+\ufffd+\ufffd+\ufffd+\ufffd+ +\ufffd+\ufffd+\ufffd+\ufffd+\ufffd+\ufffd+\ufffd+\ufffd+\ufffd+\ufffd+\ufffd+\ufffd+ +f+o+r+ +K+a+k+a+o+\"\uc560\ub2c8\"\n",
        "17723"
       ]
      },
      {
       "output_type": "stream",
       "stream": "stdout",
       "text": [
        "\n",
        "sleeping... :  0\n",
        "escape!!!\n",
        "pmi=0.00 : (\ub4dc\ub798\uace4 \ud50c\ub77c\uc774\ud2b8 for Kakao), (+\"\uc560\ub2c8\"), (\ub4dc\ub798\uace4 \ud50c\ub77c\uc774\ud2b8 for Kakao+\"\uc560\ub2c8\")\n"
       ]
      },
      {
       "output_type": "stream",
       "stream": "stdout",
       "text": [
        "  key +\"\ub09a\uc2dc\" start: except 0"
       ]
      },
      {
       "output_type": "stream",
       "stream": "stdout",
       "text": [
        "\n",
        "stuck index: 0, \ufffd+\ufffd+\ufffd+\ufffd+\ufffd+\ufffd+\ufffd+\ufffd+\ufffd+ +\ufffd+\ufffd+\ufffd+\ufffd+\ufffd+\ufffd+\ufffd+\ufffd+\ufffd+\ufffd+\ufffd+\ufffd+ +f+o+r+ +K+a+k+a+o+\"\ub09a\uc2dc\" \n",
        "stuck at \ufffd+\ufffd+\ufffd+\ufffd+\ufffd+\ufffd+\ufffd+\ufffd+\ufffd+ +\ufffd+\ufffd+\ufffd+\ufffd+\ufffd+\ufffd+\ufffd+\ufffd+\ufffd+\ufffd+\ufffd+\ufffd+ +f+o+r+ +K+a+k+a+o+\"\ub09a\uc2dc\"\n",
        "2610"
       ]
      },
      {
       "output_type": "stream",
       "stream": "stdout",
       "text": [
        "\n",
        "sleeping... :  0\n",
        "escape!!!\n",
        "pmi=0.00 : (\ub4dc\ub798\uace4 \ud50c\ub77c\uc774\ud2b8 for Kakao), (+\"\ub09a\uc2dc\"), (\ub4dc\ub798\uace4 \ud50c\ub77c\uc774\ud2b8 for Kakao+\"\ub09a\uc2dc\")\n"
       ]
      },
      {
       "output_type": "stream",
       "stream": "stdout",
       "text": [
        "  key +\"\ub7f0\ucc98\" start: except 0"
       ]
      },
      {
       "output_type": "stream",
       "stream": "stdout",
       "text": [
        "\n",
        "stuck index: 0, \ufffd+\ufffd+\ufffd+\ufffd+\ufffd+\ufffd+\ufffd+\ufffd+\ufffd+ +\ufffd+\ufffd+\ufffd+\ufffd+\ufffd+\ufffd+\ufffd+\ufffd+\ufffd+\ufffd+\ufffd+\ufffd+ +f+o+r+ +K+a+k+a+o+\"\ub7f0\ucc98\" \n",
        "stuck at \ufffd+\ufffd+\ufffd+\ufffd+\ufffd+\ufffd+\ufffd+\ufffd+\ufffd+ +\ufffd+\ufffd+\ufffd+\ufffd+\ufffd+\ufffd+\ufffd+\ufffd+\ufffd+\ufffd+\ufffd+\ufffd+ +f+o+r+ +K+a+k+a+o+\"\ub7f0\ucc98\"\n",
        "372"
       ]
      },
      {
       "output_type": "stream",
       "stream": "stdout",
       "text": [
        "\n",
        "sleeping... :  0\n",
        "escape!!!\n",
        "pmi=0.00 : (\ub4dc\ub798\uace4 \ud50c\ub77c\uc774\ud2b8 for Kakao), (+\"\ub7f0\ucc98\"), (\ub4dc\ub798\uace4 \ud50c\ub77c\uc774\ud2b8 for Kakao+\"\ub7f0\ucc98\")\n"
       ]
      },
      {
       "output_type": "stream",
       "stream": "stdout",
       "text": [
        "  key +\"\uc8fc\uc18c\ub85d\" start: except 0"
       ]
      },
      {
       "output_type": "stream",
       "stream": "stdout",
       "text": [
        "\n",
        "stuck index: 0, \ufffd+\ufffd+\ufffd+\ufffd+\ufffd+\ufffd+\ufffd+\ufffd+\ufffd+ +\ufffd+\ufffd+\ufffd+\ufffd+\ufffd+\ufffd+\ufffd+\ufffd+\ufffd+\ufffd+\ufffd+\ufffd+ +f+o+r+ +K+a+k+a+o+\"\uc8fc\uc18c\ub85d\" \n",
        "stuck at \ufffd+\ufffd+\ufffd+\ufffd+\ufffd+\ufffd+\ufffd+\ufffd+\ufffd+ +\ufffd+\ufffd+\ufffd+\ufffd+\ufffd+\ufffd+\ufffd+\ufffd+\ufffd+\ufffd+\ufffd+\ufffd+ +f+o+r+ +K+a+k+a+o+\"\uc8fc\uc18c\ub85d\"\n",
        "526"
       ]
      },
      {
       "output_type": "stream",
       "stream": "stdout",
       "text": [
        "\n",
        "sleeping... :  0\n",
        "escape!!!\n",
        "pmi=0.00 : (\ub4dc\ub798\uace4 \ud50c\ub77c\uc774\ud2b8 for Kakao), (+\"\uc8fc\uc18c\ub85d\"), (\ub4dc\ub798\uace4 \ud50c\ub77c\uc774\ud2b8 for Kakao+\"\uc8fc\uc18c\ub85d\")\n"
       ]
      },
      {
       "output_type": "stream",
       "stream": "stdout",
       "text": [
        "  key +\"\ud3f0\" start: except 0"
       ]
      },
      {
       "output_type": "stream",
       "stream": "stdout",
       "text": [
        "\n",
        "stuck index: 0, \ufffd+\ufffd+\ufffd+\ufffd+\ufffd+\ufffd+\ufffd+\ufffd+\ufffd+ +\ufffd+\ufffd+\ufffd+\ufffd+\ufffd+\ufffd+\ufffd+\ufffd+\ufffd+\ufffd+\ufffd+\ufffd+ +f+o+r+ +K+a+k+a+o+\"\ud3f0\" "
       ]
      },
      {
       "output_type": "stream",
       "stream": "stdout",
       "text": [
        "\n",
        "stuck at \ufffd+\ufffd+\ufffd+\ufffd+\ufffd+\ufffd+\ufffd+\ufffd+\ufffd+ +\ufffd+\ufffd+\ufffd+\ufffd+\ufffd+\ufffd+\ufffd+\ufffd+\ufffd+\ufffd+\ufffd+\ufffd+ +f+o+r+ +K+a+k+a+o+\"\ud3f0\"\n",
        "13087"
       ]
      },
      {
       "output_type": "stream",
       "stream": "stdout",
       "text": [
        "\n",
        "sleeping... :  0\n",
        "escape!!!\n",
        "pmi=0.00 : (\ub4dc\ub798\uace4 \ud50c\ub77c\uc774\ud2b8 for Kakao), (+\"\ud3f0\"), (\ub4dc\ub798\uace4 \ud50c\ub77c\uc774\ud2b8 for Kakao+\"\ud3f0\")\n"
       ]
      },
      {
       "output_type": "stream",
       "stream": "stdout",
       "text": [
        "  key +\"\ubc14\uc774\ub7ec\uc2a4\" start: except 0"
       ]
      },
      {
       "output_type": "stream",
       "stream": "stdout",
       "text": [
        "\n",
        "stuck index: 0, \ufffd+\ufffd+\ufffd+\ufffd+\ufffd+\ufffd+\ufffd+\ufffd+\ufffd+ +\ufffd+\ufffd+\ufffd+\ufffd+\ufffd+\ufffd+\ufffd+\ufffd+\ufffd+\ufffd+\ufffd+\ufffd+ +f+o+r+ +K+a+k+a+o+\"\ubc14\uc774\ub7ec\uc2a4\" \n",
        "stuck at \ufffd+\ufffd+\ufffd+\ufffd+\ufffd+\ufffd+\ufffd+\ufffd+\ufffd+ +\ufffd+\ufffd+\ufffd+\ufffd+\ufffd+\ufffd+\ufffd+\ufffd+\ufffd+\ufffd+\ufffd+\ufffd+ +f+o+r+ +K+a+k+a+o+\"\ubc14\uc774\ub7ec\uc2a4\"\n",
        "5282"
       ]
      },
      {
       "output_type": "stream",
       "stream": "stdout",
       "text": [
        "\n",
        "sleeping... :  0\n",
        "escape!!!\n",
        "pmi=0.00 : (\ub4dc\ub798\uace4 \ud50c\ub77c\uc774\ud2b8 for Kakao), (+\"\ubc14\uc774\ub7ec\uc2a4\"), (\ub4dc\ub798\uace4 \ud50c\ub77c\uc774\ud2b8 for Kakao+\"\ubc14\uc774\ub7ec\uc2a4\")\n"
       ]
      },
      {
       "output_type": "stream",
       "stream": "stdout",
       "text": [
        "  key +\"\ubcf4\uc548\" start: except 0"
       ]
      }
     ],
     "prompt_number": "*"
    }
   ],
   "metadata": {}
  }
 ]
}