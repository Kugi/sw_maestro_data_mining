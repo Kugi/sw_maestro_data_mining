{
 "metadata": {
  "name": "NaverSearch_new"
 },
 "nbformat": 3,
 "nbformat_minor": 0,
 "worksheets": [
  {
   "cells": [
    {
     "cell_type": "markdown",
     "metadata": {},
     "source": [
      "\ube14\ub85c\uadf8\uc5d0 \ub300\ud55c \uac80\uc0c9 \uacb0\uacfc \uac2f\uc218 \ubc18\ud658."
     ]
    },
    {
     "cell_type": "code",
     "collapsed": false,
     "input": [
      "import re\n",
      "import requests\n",
      "from scrapy.selector import HtmlXPathSelector\n",
      "\n",
      "def getNumberOfNaverSearchResult(q):\n",
      "    \"\"\"\n",
      "    parameter:\n",
      "        q : String for search.\n",
      "    \"\"\"\n",
      "    q='+'.join(q.split())\n",
      "    xpath = \"\"\"//div[@id='content']/div[@class='blog section _blogBase']/div[@class='section_head']/span[@class='title_num']\"\"\"\n",
      "    html = requests.get(\"http://cafeblog.search.naver.com/search.naver?where=post&sm=tab_jum&ie=utf8&query=\"+q).text\n",
      "    hx =HtmlXPathSelector(text=html)\n",
      "    items = hx.select(xpath)\n",
      "    inputstr = (items.extract()[0].split()[3]+\"\")\n",
      "    result = int(''.join(re.findall(r'\\d+', inputstr)))\n",
      "    return result\n"
     ],
     "language": "python",
     "metadata": {},
     "outputs": [],
     "prompt_number": 31
    },
    {
     "cell_type": "code",
     "collapsed": false,
     "input": [
      "print getNumberOfNaverSearchResult(\"\ud558\ub298\")"
     ],
     "language": "python",
     "metadata": {},
     "outputs": [
      {
       "output_type": "stream",
       "stream": "stdout",
       "text": [
        "9071321\n"
       ]
      }
     ],
     "prompt_number": 33
    },
    {
     "cell_type": "markdown",
     "metadata": {},
     "source": [
      "\ud06c\ub864\ub7ec \uac10\uc9c0\ub97c \ud53c\ud558\uae30 \uc704\ud55c \ub8e8\ud2f4 \uc0bd\uc785!. \n",
      "\n",
      "--> \uc774 \ubd80\ubd84\uc740 \ud639\uc2dc \ubab0\ub77c \ub0a8\uaca8\ub460."
     ]
    },
    {
     "cell_type": "code",
     "collapsed": false,
     "input": [
      "import time\n",
      "\n",
      "class NaverCrawler(object):\n",
      "    \n",
      "    def __init__(self, searchWordsAsSeries, startIndex=None, endIndex=None): # 2\ubc88\uc9f8 \ud30c\ub77c\ubbf8\ud130 dataFrame.index\ub97c \ubc1b\ub294\ub2e4.\n",
      "        self.startIndex = startIndex if startIndex != None else 0\n",
      "        self.endIndex = endIndex if endIndex != None else len(searchWordsAsSeries)\n",
      "        self.waitMinute = 0\n",
      "        self.searchWordsAsSeries= searchWordsAsSeries\n",
      "    \n",
      "    def __search(self,q):\n",
      "        result = 0\n",
      "        q='+'.join(q.split())\n",
      "        searchQuery = \"http://search.naver.com/search.naver?query=\"+q+\"&where=\"\n",
      "        paramWhere = [\"post\",\"cafeblog\",\"image\",\"video\",\"news\",\"site\",\"webkr\"]\n",
      "        xpaths =[\"\"\"//*[@id=\"content\"]/div[2]/div/span/text()\"\"\",\n",
      "                 \"\"\"//*[@id=\"content\"]/div[3]/div[1]/span/text()\"\"\",\n",
      "                 \"\"\"//*[@id=\"elPageCountInfo\"]/text()\"\"\",\n",
      "                 \"\"\"//*[@id=\"content\"]/div[2]/div[1]/span[1]/text()\"\"\",\n",
      "                 \"\"\"//*[@id=\"content\"]/div[2]/div/div[1]/span/text()\"\"\",\n",
      "                 \"\"\"//*[@id=\"content\"]/div[2]/div[1]/span/text()\"\"\",\n",
      "                 \"\"\"//*[@id=\"content\"]/div[2]/div/span/text()\"\"\"]\n",
      "        for where, xpath in zip(paramWhere, xpaths):        \n",
      "            whereNum = 0\n",
      "            try:\n",
      "                html = requests.get(searchQuery+where).text\n",
      "                hx =HtmlXPathSelector(text=html)\n",
      "                items = hx.select(xpath)\n",
      "                whatWeWant = (items.extract()[0].split()[2]+\"\")\n",
      "                whereNum = int(''.join(re.findall(r'\\d+', whatWeWant)))\n",
      "            except:\n",
      "                whereNum = 0\n",
      "                \n",
      "            result +=  whereNum\n",
      "        return result\n",
      "    \n",
      "    def __ifError(self,word):\n",
      "        print \"stuck at \"+word\n",
      "        while True:\n",
      "            time.sleep(self.waitMinute*60)\n",
      "            try:\n",
      "                self.__search(word)\n",
      "            except:\n",
      "                self.waitMinute += 1\n",
      "                continue\n",
      "            break\n",
      "        print \"escape!!!\"\n",
      "    \n",
      "    def start(self):\n",
      "        for index in xrange(self.startIndex,self.endIndex):\n",
      "            word = self.searchWordsAsSeries[index]\n",
      "            try:\n",
      "                print self.__search(word), word, index  #FIXME HERE\n",
      "            except: # Naver\uc5d0\uc11c \ud06c\ub864\ub7ec \ube14\ub7ed.\n",
      "                print \"stuck index: %d\"%index\n",
      "                self.__ifError(word)\n",
      "            if index%1000 ==0 and index !=0 :\n",
      "                print \"pass 1000 items\"\n",
      "        print \"done it\"\n"
     ],
     "language": "python",
     "metadata": {},
     "outputs": [],
     "prompt_number": 3
    },
    {
     "cell_type": "code",
     "collapsed": false,
     "input": [
      "\"\"\"test\"\"\"\n",
      "\n",
      "testkeywords = [\"\uacc4\ub780%d\"%a for a in xrange(50)]\n",
      "aa=['asdf']\n",
      "cw = NaverCrawler(searchWordsAsSeries=testkeywords)\n",
      "cw.start()"
     ],
     "language": "python",
     "metadata": {},
     "outputs": [
      {
       "output_type": "stream",
       "stream": "stdout",
       "text": [
        "731383 \uacc4\ub780 0\n",
        "pass 1000 items\n",
        "731383"
       ]
      },
      {
       "output_type": "stream",
       "stream": "stdout",
       "text": [
        " \uacc4\ub780 1\n",
        "731383"
       ]
      },
      {
       "output_type": "stream",
       "stream": "stdout",
       "text": [
        " \uacc4\ub780 2\n",
        "731383"
       ]
      },
      {
       "output_type": "stream",
       "stream": "stdout",
       "text": [
        " \uacc4\ub780 3\n",
        "731383"
       ]
      },
      {
       "output_type": "stream",
       "stream": "stdout",
       "text": [
        " \uacc4\ub780 4\n",
        "731383"
       ]
      },
      {
       "output_type": "stream",
       "stream": "stdout",
       "text": [
        " \uacc4\ub780 5\n",
        "731383"
       ]
      },
      {
       "output_type": "stream",
       "stream": "stdout",
       "text": [
        " \uacc4\ub780 6\n",
        "731383"
       ]
      },
      {
       "output_type": "stream",
       "stream": "stdout",
       "text": [
        " \uacc4\ub780 7\n",
        "731383"
       ]
      },
      {
       "output_type": "stream",
       "stream": "stdout",
       "text": [
        " \uacc4\ub780 8\n",
        "731383"
       ]
      },
      {
       "output_type": "stream",
       "stream": "stdout",
       "text": [
        " \uacc4\ub780 9\n",
        "731383"
       ]
      },
      {
       "output_type": "stream",
       "stream": "stdout",
       "text": [
        " \uacc4\ub780 10\n",
        "731383"
       ]
      },
      {
       "output_type": "stream",
       "stream": "stdout",
       "text": [
        " \uacc4\ub780 11\n",
        "731383"
       ]
      },
      {
       "output_type": "stream",
       "stream": "stdout",
       "text": [
        " \uacc4\ub780 12\n",
        "731383"
       ]
      },
      {
       "output_type": "stream",
       "stream": "stdout",
       "text": [
        " \uacc4\ub780 13\n",
        "731383"
       ]
      },
      {
       "output_type": "stream",
       "stream": "stdout",
       "text": [
        " \uacc4\ub780 14\n",
        "731383"
       ]
      },
      {
       "output_type": "stream",
       "stream": "stdout",
       "text": [
        " \uacc4\ub780 15\n",
        "731383"
       ]
      },
      {
       "output_type": "stream",
       "stream": "stdout",
       "text": [
        " \uacc4\ub780 16\n",
        "731383"
       ]
      },
      {
       "output_type": "stream",
       "stream": "stdout",
       "text": [
        " \uacc4\ub780 17\n",
        "731383"
       ]
      },
      {
       "output_type": "stream",
       "stream": "stdout",
       "text": [
        " \uacc4\ub780 18\n",
        "731383"
       ]
      },
      {
       "output_type": "stream",
       "stream": "stdout",
       "text": [
        " \uacc4\ub780 19\n",
        "731383"
       ]
      },
      {
       "output_type": "stream",
       "stream": "stdout",
       "text": [
        " \uacc4\ub780 20\n",
        "731383"
       ]
      },
      {
       "output_type": "stream",
       "stream": "stdout",
       "text": [
        " \uacc4\ub780 21\n",
        "731383"
       ]
      },
      {
       "output_type": "stream",
       "stream": "stdout",
       "text": [
        " \uacc4\ub780 22\n",
        "731383"
       ]
      },
      {
       "output_type": "stream",
       "stream": "stdout",
       "text": [
        " \uacc4\ub780 23\n",
        "731383"
       ]
      },
      {
       "output_type": "stream",
       "stream": "stdout",
       "text": [
        " \uacc4\ub780 24\n",
        "731383"
       ]
      },
      {
       "output_type": "stream",
       "stream": "stdout",
       "text": [
        " \uacc4\ub780 25\n",
        "731383"
       ]
      },
      {
       "output_type": "stream",
       "stream": "stdout",
       "text": [
        " \uacc4\ub780 26\n",
        "731383"
       ]
      },
      {
       "output_type": "stream",
       "stream": "stdout",
       "text": [
        " \uacc4\ub780 27\n",
        "731383"
       ]
      },
      {
       "output_type": "stream",
       "stream": "stdout",
       "text": [
        " \uacc4\ub780 28\n",
        "731383"
       ]
      },
      {
       "output_type": "stream",
       "stream": "stdout",
       "text": [
        " \uacc4\ub780 29\n",
        "731383"
       ]
      },
      {
       "output_type": "stream",
       "stream": "stdout",
       "text": [
        " \uacc4\ub780 30\n",
        "731383"
       ]
      },
      {
       "output_type": "stream",
       "stream": "stdout",
       "text": [
        " \uacc4\ub780 31\n",
        "731383"
       ]
      },
      {
       "output_type": "stream",
       "stream": "stdout",
       "text": [
        " \uacc4\ub780 32\n",
        "731383"
       ]
      },
      {
       "output_type": "stream",
       "stream": "stdout",
       "text": [
        " \uacc4\ub780 33\n",
        "731383"
       ]
      },
      {
       "output_type": "stream",
       "stream": "stdout",
       "text": [
        " \uacc4\ub780 34\n",
        "731383"
       ]
      },
      {
       "output_type": "stream",
       "stream": "stdout",
       "text": [
        " \uacc4\ub780 35\n",
        "731383"
       ]
      },
      {
       "output_type": "stream",
       "stream": "stdout",
       "text": [
        " \uacc4\ub780 36\n",
        "731383"
       ]
      },
      {
       "output_type": "stream",
       "stream": "stdout",
       "text": [
        " \uacc4\ub780 37\n",
        "731383"
       ]
      },
      {
       "output_type": "stream",
       "stream": "stdout",
       "text": [
        " \uacc4\ub780 38\n",
        "731383"
       ]
      },
      {
       "output_type": "stream",
       "stream": "stdout",
       "text": [
        " \uacc4\ub780 39\n",
        "731383"
       ]
      },
      {
       "output_type": "stream",
       "stream": "stdout",
       "text": [
        " \uacc4\ub780 40\n",
        "731383"
       ]
      },
      {
       "output_type": "stream",
       "stream": "stdout",
       "text": [
        " \uacc4\ub780 41\n",
        "731383"
       ]
      },
      {
       "output_type": "stream",
       "stream": "stdout",
       "text": [
        " \uacc4\ub780 42\n",
        "731383"
       ]
      },
      {
       "output_type": "stream",
       "stream": "stdout",
       "text": [
        " \uacc4\ub780 43\n",
        "731383"
       ]
      },
      {
       "output_type": "stream",
       "stream": "stdout",
       "text": [
        " \uacc4\ub780 44\n",
        "731383"
       ]
      },
      {
       "output_type": "stream",
       "stream": "stdout",
       "text": [
        " \uacc4\ub780 45\n",
        "731383"
       ]
      },
      {
       "output_type": "stream",
       "stream": "stdout",
       "text": [
        " \uacc4\ub780 46\n",
        "731383"
       ]
      },
      {
       "output_type": "stream",
       "stream": "stdout",
       "text": [
        " \uacc4\ub780 47\n",
        "731383"
       ]
      },
      {
       "output_type": "stream",
       "stream": "stdout",
       "text": [
        " \uacc4\ub780 48\n",
        "731383"
       ]
      },
      {
       "output_type": "stream",
       "stream": "stdout",
       "text": [
        " \uacc4\ub780 49\n",
        "done it\n"
       ]
      }
     ],
     "prompt_number": 6
    },
    {
     "cell_type": "code",
     "collapsed": false,
     "input": [],
     "language": "python",
     "metadata": {},
     "outputs": []
    }
   ],
   "metadata": {}
  }
 ]
}