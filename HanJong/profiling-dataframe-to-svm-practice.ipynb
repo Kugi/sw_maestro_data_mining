{
 "metadata": {
  "name": "profiling-dataframe-to-svm-practice"
 },
 "nbformat": 3,
 "nbformat_minor": 0,
 "worksheets": [
  {
   "cells": [
    {
     "cell_type": "heading",
     "level": 1,
     "metadata": {},
     "source": [
      "DataFrame\uc73c\ub85c \ubc1b\uc740 \uc790\ub8cc \ud544\uc694\ud55c \ud615\ud0dc\uc758 svmlight \ud3ec\uba67\uc73c\ub85c \ubc14\uafb8\uae30  "
     ]
    },
    {
     "cell_type": "markdown",
     "metadata": {},
     "source": [
      "0. \uc6b0\uc120 \uc0c8\ub85c \ubc1b\uc740 \uc790\ub8cc  \n",
      "    0. app_info2.df  "
     ]
    },
    {
     "cell_type": "heading",
     "level": 2,
     "metadata": {},
     "source": [
      "user_app.df\uc5d0\uc11c user_gender.dat\uc744 \uc704\ud55c \uc790\ub8cc \ubf51\uc544\ub0b4\uae30.  (\uc2e4\ud589\ud558\uc9c0 \ub9c8\uc2dc\uc624)"
     ]
    },
    {
     "cell_type": "markdown",
     "metadata": {},
     "source": [
      "\uc77c\ub2e8 DataFrame \ub85c\ub4dc.  "
     ]
    },
    {
     "cell_type": "code",
     "collapsed": false,
     "input": [
      "import pandas as pd\n",
      "\n",
      "user_app = pd.load('data/user_app.df')\n",
      "\n",
      "print user_app.shape\n",
      "print user_app.head()"
     ],
     "language": "python",
     "metadata": {},
     "outputs": [
      {
       "output_type": "stream",
       "stream": "stdout",
       "text": [
        "(10616409, 6)\n",
        "      create_date     update_date  user_id  entity_id  usage is_deleted\n",
        "0  20130222202059  20130730090415  2007318    1612462      0       True\n",
        "1  20130311075241  20130730090415  2007318    1651419      0       True\n",
        "2  20130401221208  20130730090415  2007318    1522396      0       True\n",
        "3  20130604154430  20130730144616  5188098    1526678      1      False\n",
        "4  20130621155632  20130730075157  5207032    1480116      0       True\n"
       ]
      }
     ],
     "prompt_number": 1
    },
    {
     "cell_type": "markdown",
     "metadata": {},
     "source": [
      "\uc774 \uc911\uc5d0\uc11c user_id, entity_id, [usage]\ub97c \uc81c\uc678\ud558\uace0\ub294 \ud544\uc694 \uc5c6\ub2e4.  "
     ]
    },
    {
     "cell_type": "code",
     "collapsed": false,
     "input": [
      "user_app_need = user_app.loc[:,['user_id','entity_id','usage']]\n",
      "user_app_need.head()"
     ],
     "language": "python",
     "metadata": {},
     "outputs": [
      {
       "html": [
        "<div style=\"max-height:1000px;max-width:1500px;overflow:auto;\">\n",
        "<table border=\"1\" class=\"dataframe\">\n",
        "  <thead>\n",
        "    <tr style=\"text-align: right;\">\n",
        "      <th></th>\n",
        "      <th>user_id</th>\n",
        "      <th>entity_id</th>\n",
        "      <th>usage</th>\n",
        "    </tr>\n",
        "  </thead>\n",
        "  <tbody>\n",
        "    <tr>\n",
        "      <th>0</th>\n",
        "      <td> 2007318</td>\n",
        "      <td> 1612462</td>\n",
        "      <td> 0</td>\n",
        "    </tr>\n",
        "    <tr>\n",
        "      <th>1</th>\n",
        "      <td> 2007318</td>\n",
        "      <td> 1651419</td>\n",
        "      <td> 0</td>\n",
        "    </tr>\n",
        "    <tr>\n",
        "      <th>2</th>\n",
        "      <td> 2007318</td>\n",
        "      <td> 1522396</td>\n",
        "      <td> 0</td>\n",
        "    </tr>\n",
        "    <tr>\n",
        "      <th>3</th>\n",
        "      <td> 5188098</td>\n",
        "      <td> 1526678</td>\n",
        "      <td> 1</td>\n",
        "    </tr>\n",
        "    <tr>\n",
        "      <th>4</th>\n",
        "      <td> 5207032</td>\n",
        "      <td> 1480116</td>\n",
        "      <td> 0</td>\n",
        "    </tr>\n",
        "  </tbody>\n",
        "</table>\n",
        "</div>"
       ],
       "output_type": "pyout",
       "prompt_number": 2,
       "text": [
        "   user_id  entity_id  usage\n",
        "0  2007318    1612462      0\n",
        "1  2007318    1651419      0\n",
        "2  2007318    1522396      0\n",
        "3  5188098    1526678      1\n",
        "4  5207032    1480116      0"
       ]
      }
     ],
     "prompt_number": 2
    },
    {
     "cell_type": "markdown",
     "metadata": {},
     "source": [
      "\uc774\uc81c \uac19\uc740 user_id\uc5d0 \ub530\ub978 entity_id\ub97c \ucc3e\uc544 svm \ud615\uc2dd\uc73c\ub85c \ubc14\uafb8\ub294 \uc77c\ub9cc \ub0a8\uc558\ub294\ub370,  \n",
      "entity_id\ub294 \uc774\ubbf8 \uc815\ud574\uc9c4 id\uac00 \uc788\ub2e4\uace0 \ud55c\ub2e4.  \n",
      "dictionary \ud615\ud0dc\ub85c \uc81c\uacf5 \ubc1b\uc558\ub2e4.  "
     ]
    },
    {
     "cell_type": "code",
     "collapsed": false,
     "input": [
      "import pickle\n",
      "\n",
      "entity_id_pkl = pickle.load(file('data/entityid_featureid.pkl'))"
     ],
     "language": "python",
     "metadata": {},
     "outputs": [],
     "prompt_number": 3
    },
    {
     "cell_type": "code",
     "collapsed": false,
     "input": [
      "entity_id_pkl['1423919'] # entity_id\ub97c \uc9d1\uc5b4\ub123\uc73c\uba74 feature_id\ub85c \ubc14\uafd4 \uc900\ub2e4.  # \uc8fc\uc758! 1\ubd80\ud130 \uc2dc\uc791\ud55c\ub2e4. "
     ],
     "language": "python",
     "metadata": {},
     "outputs": [
      {
       "output_type": "pyout",
       "prompt_number": 4,
       "text": [
        "21445"
       ]
      }
     ],
     "prompt_number": 4
    },
    {
     "cell_type": "markdown",
     "metadata": {},
     "source": [
      "\uc791\uc5c5\uc744 \uac04\ub2e8\ud788 \ud558\uae30 \uc704\ud574\uc11c, user_id \uc624\ub984\ucc28\uc21c\uc73c\ub85c \uc815\ub82c\ud560 \ud544\uc694\uac00 \uc788\ub2e4.  "
     ]
    },
    {
     "cell_type": "code",
     "collapsed": false,
     "input": [
      "sortted_user_app_need = user_app_need.sort(columns='user_id')\n",
      "sortted_user_app_need.head()"
     ],
     "language": "python",
     "metadata": {},
     "outputs": [
      {
       "html": [
        "<div style=\"max-height:1000px;max-width:1500px;overflow:auto;\">\n",
        "<table border=\"1\" class=\"dataframe\">\n",
        "  <thead>\n",
        "    <tr style=\"text-align: right;\">\n",
        "      <th></th>\n",
        "      <th>user_id</th>\n",
        "      <th>entity_id</th>\n",
        "      <th>usage</th>\n",
        "    </tr>\n",
        "  </thead>\n",
        "  <tbody>\n",
        "    <tr>\n",
        "      <th>8097500</th>\n",
        "      <td> 25</td>\n",
        "      <td> 1466907</td>\n",
        "      <td> 0</td>\n",
        "    </tr>\n",
        "    <tr>\n",
        "      <th>4200579</th>\n",
        "      <td> 25</td>\n",
        "      <td> 1501554</td>\n",
        "      <td> 0</td>\n",
        "    </tr>\n",
        "    <tr>\n",
        "      <th>4200578</th>\n",
        "      <td> 25</td>\n",
        "      <td> 1562959</td>\n",
        "      <td> 0</td>\n",
        "    </tr>\n",
        "    <tr>\n",
        "      <th>4200577</th>\n",
        "      <td> 25</td>\n",
        "      <td> 1602332</td>\n",
        "      <td> 0</td>\n",
        "    </tr>\n",
        "    <tr>\n",
        "      <th>2087818</th>\n",
        "      <td> 25</td>\n",
        "      <td> 1537554</td>\n",
        "      <td> 0</td>\n",
        "    </tr>\n",
        "  </tbody>\n",
        "</table>\n",
        "</div>"
       ],
       "output_type": "pyout",
       "prompt_number": 5,
       "text": [
        "         user_id  entity_id  usage\n",
        "8097500       25    1466907      0\n",
        "4200579       25    1501554      0\n",
        "4200578       25    1562959      0\n",
        "4200577       25    1602332      0\n",
        "2087818       25    1537554      0"
       ]
      }
     ],
     "prompt_number": 5
    },
    {
     "cell_type": "markdown",
     "metadata": {},
     "source": [
      "\uc774\uc81c \ud55c\uc904\uc529 \ud0d0\uc0ac\ud558\uba74\uc11c entitiy_id\ub97c \uac00\uc838\uc628\ub2e4.  \n",
      "  \n",
      "svm \ud30c\uc77c\ub85c \ub9cc\ub4e4\ub824\uba74, (n_samples, n_features)\uc758 \uac12\uc744 \uc54c\uc544\uc57c \ud558\ub294\ub370, \ub450 \uac12\uc744 \uc54c\uae30 \uc704\ud574, \ud55c\ubc88 \uc21c\ud68c\ud574 \ubcf4\ub294 \uc218 \ubc16\uc5d0...  \n",
      "(\uc27d\uac8c \uc0dd\uac01\ud574\uc11c,)"
     ]
    },
    {
     "cell_type": "code",
     "collapsed": false,
     "input": [
      "def shape_from_DataFrame_with_feature_id(df):\n",
      "    n_samples = 0\n",
      "    n_features = 0\n",
      "    #key_err = []\n",
      "    user_id = -1\n",
      "    for index, content in df.iterrows(): # \uc704\uc5d0\uc11c \ubd80\ud130 \ud558\ub098\ud558\ub098 \uac00\uc838\uc624\ub294 \uac83\uc740 \ud655\uc2e4!. # index\ub294 DataFrame\uc758 \uc778\ub371\uc2a4\uc774\ubbc0\ub85c \uc21c\uc11c\ub294 \ub4a4\uc11e\uc5ec \uc788\uc73c\ub2c8 \ubb34\uc2dc.\n",
      "        try:\n",
      "            feature_id = entity_id_pkl[\"%d\"%content['entity_id']]\n",
      "            if user_id == -1:\n",
      "                user_id = content['user_id']\n",
      "                n_samples = 1\n",
      "            if user_id != content['user_id']:\n",
      "                user_id = content['user_id']\n",
      "                n_samples += 1\n",
      "            n_features = feature_id if feature_id > n_features else n_features\n",
      "        except KeyError as ke:    # \ubb54\uac00 \uc8fc\uc2e0 \uc790\ub8cc\ub791 \ub9de\uc9c0 \uc54a\ub294 \ub4ef...?\n",
      "            pass#key_err.append(\"%d\"%content['entity_id'])\n",
      "    #print \"not found id : \",key_err #\ub108\ubb34 \ub9ce\uc544\uc11c \ub054.\n",
      "    return (n_samples,n_features)\n"
     ],
     "language": "python",
     "metadata": {},
     "outputs": [],
     "prompt_number": 15
    },
    {
     "cell_type": "code",
     "collapsed": false,
     "input": [
      "shape_from_DataFrame_with_feature_id(sortted_user_app_need) \n",
      "# \uc2dc\uac04\uc774 \uaf64 \uac78\ub9ac\uace0, \uba54\ubaa8\ub9ac\ub3c4 \uc5c4\uccad \uba39\ub294\ub2e4. \uacb0\uacfc\ub294 (326537,52600)\uc774\uace0, 1634607 \uadfc\ucc98 \uc774\ud6c4\uc5d0\ub294 \uc5c5\ub370\uc774\ud2b8\uac00 \uc548\ub41c pkl\uc744 \ubc1b\uc740 \uac83 \uac19\ub2e4.\n",
      "# \uc77c\ub2e8 18xxxxx \ubc88\ub300\ub294 \uc804\ubd80 \uc5d0\ub7ec\ub85c \ub738. \uc5c4\uccad \ub9ce\uc74c."
     ],
     "language": "python",
     "metadata": {},
     "outputs": [
      {
       "output_type": "pyout",
       "prompt_number": 16,
       "text": [
        "(326537, 52600)"
       ]
      }
     ],
     "prompt_number": 16
    },
    {
     "cell_type": "markdown",
     "metadata": {},
     "source": [
      "shape \uac12\uc744 \uc54c\uc558\uc73c\ub2c8, svm \ud30c\uc77c\uc744 \ub9cc\ub4e4\uba74 \ub41c\ub2e4. svm \ud30c\uc77c\uc744 \ub9cc\ub4e4\uae30 \uc704\ud574\uc11c\ub294 lil_matrix \uc790\ub8cc\uad6c\uc870\uac00 \uc720\uc6a9\ud558\ub2e4."
     ]
    },
    {
     "cell_type": "code",
     "collapsed": false,
     "input": [
      "import numpy as np\n",
      "from scipy.sparse import lil_matrix\n",
      "\n",
      "lil_x = lil_matrix((326537,52600), dtype=np.int32)"
     ],
     "language": "python",
     "metadata": {},
     "outputs": [],
     "prompt_number": 17
    },
    {
     "cell_type": "code",
     "collapsed": false,
     "input": [
      "lil_index = 0\n",
      "user_id = -1\n",
      "for index, content in sortted_user_app_need.iterrows():\n",
      "    try:\n",
      "        feature_id = entity_id_pkl[\"%d\"%content['entity_id']]\n",
      "        if user_id == -1:\n",
      "            user_id = content['user_id']\n",
      "        if user_id != content['user_id']:\n",
      "            user_id = content['user_id']\n",
      "            lil_index += 1        \n",
      "        usage = content['usage']\n",
      "        lil_x[lil_index,feature_id-1] = usage if usage > 0 else 1\n",
      "    except KeyError as ke:\n",
      "        pass\n",
      "print \"write done.\""
     ],
     "language": "python",
     "metadata": {},
     "outputs": [
      {
       "output_type": "stream",
       "stream": "stdout",
       "text": [
        "write done.\n"
       ]
      }
     ],
     "prompt_number": 18
    },
    {
     "cell_type": "markdown",
     "metadata": {},
     "source": [
      "\uc774\uc81c \ud30c\uc77c\uc5d0 \uc4f0\uba74 \ub41c\ub2e4.  \n",
      "\uadf8\ub7f0\ub370, sklean\uc758 \ud604\uc7ac \ubc84\uc83c\uc744 \uc0ac\uc6a9\ud558\uba74 \ud30c\uc77c \uc6a9\ub7c9\uc744 \ub108\ubb34 \ub9ce\uc774 \uc7a1\uc544 \uba39\ub294\ub2e4.  \n",
      "\uc544\uc9c1 \ubc30\ud3ec \ub418\uc9c0 \uc54a\uc740 \uc2e0 \ubc84\uc804 \ucf54\ub4dc\ub97c \uac00\uc838\uc640\uc57c \ud55c\ub2e4.  "
     ]
    },
    {
     "cell_type": "code",
     "collapsed": false,
     "input": [
      "import sklearn.datasets.svmlight_format\n",
      "\n",
      "\n",
      "# \uc774\ubcf4\ub2e4 \uc544\ub798 \uc788\ub294 _dump_svmlight(X, y, f, one_based, comment, query_id)\ub97c \uc791\ub3d9\uc2dc\ud0a4\uae30 \uc704\ud55c \uad6c\ubb38.\n",
      "# github\uc5d0\ub294 sklearn.externals.six \uc548\uc5d0 \uc120\uc5b8 \ub418\uc5b4 \uc788\ub2e4. (\ud604 \ubc84\uc804\uc5d0\ub294 \uc5c6\ub294 \ub4ef \ud558\ub2e4.)\n",
      "# \ub3c4\ub300\uccb4 \ubc30\ud3ec\ub97c \uc5b8\uc81c \ud558\ub824\ub294 \uac74\uc9c0 \u3147<-<\n",
      "\n",
      "def _add_doc(func, doc):\n",
      "    \"\"\"Add documentation to a function.\"\"\"\n",
      "    func.__doc__ = doc\n",
      "\n",
      "import sys\n",
      "PY3 = sys.version_info[0] == 3\n",
      "if PY3: \n",
      "    def b(s):\n",
      "        return s.encode(\"latin-1\")\n",
      "    def u(s):\n",
      "        return s\n",
      "    if sys.version_info[1] <= 1:\n",
      "        def int2byte(i):\n",
      "            return bytes((i,))\n",
      "    else:\n",
      "        # This is about 2x faster than the implementation above on 3.2+\n",
      "        int2byte = operator.methodcaller(\"to_bytes\", 1, \"big\")\n",
      "    import io\n",
      "    StringIO = io.StringIO\n",
      "    BytesIO = io.BytesIO\n",
      "else:\n",
      "    def b(s):\n",
      "        return s\n",
      "    def u(s):\n",
      "        return unicode(s, \"unicode_escape\")\n",
      "    int2byte = chr\n",
      "    import StringIO\n",
      "    StringIO = BytesIO = StringIO.StringIO\n",
      "_add_doc(b, \"\"\"Byte literal\"\"\")\n",
      "_add_doc(u, \"\"\"Text literal\"\"\")\n",
      "\n",
      "def _dump_svmlight(X, y, f, one_based, comment, query_id): # sklearn github\uc5d0\uc11c \uac00\uc838\uc628 \ucf54\ub4dc.\n",
      "    is_sp = int(hasattr(X, \"tocsr\"))\n",
      "    if X.dtype.kind == 'i':\n",
      "        value_pattern = u(\"%d:%d\") # \uc774 \ubd80\ubd84\uc5d0 \ud574\ub2f9\ud558\ub294, int\ud615 \uc790\ub8cc\uc5d0 \ub300\ud55c \ucc98\ub9ac\uac00 \uc774\uc804 \ucf54\ub4dc\uc5d4 \uc5c6\uace0.\n",
      "    else:\n",
      "        value_pattern = u(\"%d:%.16g\") # \uc774 \ubd80\ubd84\uc774 %f\ub85c \ub418\uc5b4 \uc788\uc5b4 1.000000\uc640 \uac19\uc774 \ucd9c\ub825\ub418\uc5b4 \uacf5\uac04\uc774 \ub9ce\uc774 \ud544\uc694 \ud588\ub2e4. \n",
      "\n",
      "    if y.dtype.kind == 'i':\n",
      "        line_pattern = u(\"%d\")\n",
      "    else:\n",
      "        line_pattern = u(\"%.16g\")\n",
      "\n",
      "    if query_id is not None:\n",
      "        line_pattern += u(\" qid:%d\")\n",
      "    line_pattern += u(\" %s\\n\")\n",
      "\n",
      "    if comment:\n",
      "        f.write(b(\"# Generated by dump_svmlight_file from scikit-learn %s\\n\"\n",
      "                % __version__))\n",
      "        f.write(b(\"# Column indices are %s-based\\n\"\n",
      "                  % [\"zero\", \"one\"][one_based]))\n",
      "\n",
      "        f.write(b(\"#\\n\"))\n",
      "        f.writelines(b(\"# %s\\n\" % line) for line in comment.splitlines())\n",
      "\n",
      "    for i in range(X.shape[0]):\n",
      "        s = \" \".join([value_pattern % (j + one_based, X[i, j])\n",
      "                      for j in X[i].nonzero()[is_sp]])\n",
      "        if query_id is not None:\n",
      "            feat = (y[i], query_id[i], s)\n",
      "        else:\n",
      "            feat = (y[i], s)\n",
      "        f.write((line_pattern % feat).encode('ascii'))\n",
      "        \n",
      "sklearn.datasets.svmlight_format._dump_svmlight = _dump_svmlight # hack        "
     ],
     "language": "python",
     "metadata": {},
     "outputs": [],
     "prompt_number": 19
    },
    {
     "cell_type": "code",
     "collapsed": false,
     "input": [
      "%time sklearn.datasets.svmlight_format.dump_svmlight_file(lil_x, np.zeros(shape=326537,dtype=int),'unclassified_user_apps.dat')\n",
      "print \"save done\""
     ],
     "language": "python",
     "metadata": {},
     "outputs": [
      {
       "output_type": "stream",
       "stream": "stdout",
       "text": [
        "CPU times: user 662.24 s, sys: 1.26 s, total: 663.50 s\n",
        "Wall time: 663.42 s\n",
        "save done\n"
       ]
      }
     ],
     "prompt_number": 21
    },
    {
     "cell_type": "markdown",
     "metadata": {},
     "source": [
      "\uc5f0\uc2b5\uc5d0\uc11c \ub2e4\ub918\ub358 \ub0b4\uc6a9\uc744 \ud558\ub098\uc758 \ud568\uc218\ub85c \ud569\uce58\uba74 \uc774\ub807\uac8c \ub41c\ub2e4. (DataFrame \ub2e4\ub4ec\ub294\uac74 \uc9c1\uc811\ud574\uc57c \ud560 \uac83 \uac19\uc544 \ube90\ub2e4.)  "
     ]
    },
    {
     "cell_type": "code",
     "collapsed": false,
     "input": [
      "#import sklearn.datasets.svmlight_format\n",
      "\n",
      "import numpy as np\n",
      "from scipy.sparse import lil_matrix\n",
      "\n",
      "def dump_svmlight_file_from_dataFrame_user_entity(trimmedDF,user_key,entity_key,useage_key,featureIDpkl,f,dtype=np.int32):\n",
      "    # shape \ud310\ubcc4\uc6a9 \ubcc0\uc218 \ucd08\uae30\ud654\n",
      "    n_samples = 0\n",
      "    n_features = 0\n",
      "    key_err_count = 0\n",
      "    user_id = -1\n",
      "    # shape \ud310\ubcc4 \ub8e8\ud2f4.\n",
      "    for index, content in trimmedDF.iterrows(): # \uc704\uc5d0\uc11c \ubd80\ud130 \ud558\ub098\ud558\ub098 \uac00\uc838\uc624\ub294 \uac83\uc740 \ud655\uc2e4!. # index\ub294 DataFrame\uc758 \uc778\ub371\uc2a4\uc774\ubbc0\ub85c \uc21c\uc11c\ub294 \ub4a4\uc11e\uc5ec \uc788\uc73c\ub2c8 \ubb34\uc2dc.\n",
      "        try:\n",
      "            feature_id = featureIDpkl[\"%d\"%content[entity_key]]\n",
      "            if user_id == -1:\n",
      "                user_id = content[user_key]\n",
      "                n_samples = 1\n",
      "            if user_id != content[user_key]:\n",
      "                user_id = content[user_key]\n",
      "                n_samples += 1\n",
      "            n_features = feature_id if feature_id > n_features else n_features\n",
      "        except KeyError as ke:    # \ubb54\uac00 \uc8fc\uc2e0 \uc790\ub8cc\ub791 \ub9de\uc9c0 \uc54a\ub294 \ub4ef...?\n",
      "            key_err_count += 1\n",
      "    print \"KeyError from read shape:%d\"%key_err_count        \n",
      "    # lil_matrix \uc0dd\uc131\n",
      "    lil_x = lil_matrix((n_samples,n_features), dtype=dtype)\n",
      "    # \uc0dd\uc131\ud55c lil_matrix\uc5d0 \ub370\uc774\ud130 \uae30\ub85d. - \ubcc0\uc218 \ucd08\uae30\ud654\n",
      "    lil_index = 0\n",
      "    key_err_count = 0\n",
      "    user_id = -1\n",
      "    for index, content in trimmedDF.iterrows():\n",
      "        try:\n",
      "            feature_id = featureIDpkl[\"%d\"%content[entity_key]]\n",
      "            if user_id == -1:\n",
      "                user_id = content[user_key]\n",
      "            if user_id != content[user_key]:\n",
      "                user_id = content[user_key]\n",
      "                lil_index += 1        \n",
      "            usage = content[useage_key]\n",
      "            lil_x[lil_index,feature_id-1] = usage if usage > 0 else 1\n",
      "        except KeyError as ke:\n",
      "            key_err_count += 1\n",
      "    print \"KeyError from write lil_matrix:%d\"%key_err_count                \n",
      "    return lil_x"
     ],
     "language": "python",
     "metadata": {},
     "outputs": []
    },
    {
     "cell_type": "code",
     "collapsed": false,
     "input": [],
     "language": "python",
     "metadata": {},
     "outputs": []
    }
   ],
   "metadata": {}
  }
 ]
}