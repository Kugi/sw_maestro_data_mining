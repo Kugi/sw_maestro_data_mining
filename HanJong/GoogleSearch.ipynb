{
 "metadata": {
  "name": "GoogleSearch"
 },
 "nbformat": 3,
 "nbformat_minor": 0,
 "worksheets": [
  {
   "cells": [
    {
     "cell_type": "heading",
     "level": 1,
     "metadata": {},
     "source": [
      "GoogleSearch "
     ]
    },
    {
     "cell_type": "markdown",
     "metadata": {},
     "source": [
      "http://google.co.kr\uc5d0\uc11c \uac80\uc0c9\uacb0\uacfc \uc218\ub97c \uc5bb\uc5b4 \uc624\ub294 \ubc29\ubc95\uc785\ub2c8\ub2e4.  "
     ]
    },
    {
     "cell_type": "heading",
     "level": 2,
     "metadata": {},
     "source": [
      "\ud544\uc694\ud55c \ubaa8\ub4c8 \ud655\uc778&\uc124\uce58  "
     ]
    },
    {
     "cell_type": "code",
     "collapsed": false,
     "input": [
      "import re\n",
      "re.__version__"
     ],
     "language": "python",
     "metadata": {},
     "outputs": [
      {
       "output_type": "pyout",
       "prompt_number": 1,
       "text": [
        "'2.2.1'"
       ]
      }
     ],
     "prompt_number": 1
    },
    {
     "cell_type": "code",
     "collapsed": false,
     "input": [
      "import requests\n",
      "requests.__version__"
     ],
     "language": "python",
     "metadata": {},
     "outputs": [
      {
       "output_type": "pyout",
       "prompt_number": 2,
       "text": [
        "'1.2.3'"
       ]
      }
     ],
     "prompt_number": 2
    },
    {
     "cell_type": "code",
     "collapsed": false,
     "input": [
      "import scrapy\n",
      "print scrapy.__version__  # scrapy\uac00 \uc788\ub2e4\uba74, \ubc84\uc804\uc744 \ucd9c\ub825."
     ],
     "language": "python",
     "metadata": {},
     "outputs": [
      {
       "output_type": "stream",
       "stream": "stdout",
       "text": [
        "0.18.0\n"
       ]
      }
     ],
     "prompt_number": 3
    },
    {
     "cell_type": "markdown",
     "metadata": {},
     "source": [
      "scrapy\uac00 importError\ub97c \ubfdc\uc5b4\ub0bc \uacbd\uc6b0\uc5d0\ub9cc \uc544\ub798\uc758 \ucf54\ub4dc \uc8fc\uc11d \ud480\uace0 \uc2e4\ud589.  "
     ]
    },
    {
     "cell_type": "code",
     "collapsed": false,
     "input": [
      "#!pip install zope.interface scrapy"
     ],
     "language": "python",
     "metadata": {},
     "outputs": [],
     "prompt_number": 4
    },
    {
     "cell_type": "heading",
     "level": 2,
     "metadata": {},
     "source": [
      "\ud568\uc218 \uc815\uc758  "
     ]
    },
    {
     "cell_type": "code",
     "collapsed": false,
     "input": [
      "import re\n",
      "import requests\n",
      "from scrapy.selector import HtmlXPathSelector\n",
      "\n",
      "def getNumberOfGoogleSearchResult(q):\n",
      "    \"\"\"\n",
      "    parameter:\n",
      "        q : String for search.\n",
      "    \"\"\"\n",
      "    q='+'.join(q.split())\n",
      "    xpath = \"\"\"//*[@id=\"resultStats\"]/text()\"\"\"\n",
      "    html = requests.get(\"http://www.google.co.kr/search?q=\"+q).text\n",
      "    hx =HtmlXPathSelector(text=html)\n",
      "    items = hx.select(xpath)\n",
      "    return int(''.join(re.findall(r'\\d+', items.extract()[0])))"
     ],
     "language": "python",
     "metadata": {},
     "outputs": [],
     "prompt_number": 5
    },
    {
     "cell_type": "heading",
     "level": 2,
     "metadata": {},
     "source": [
      "\ud14c\uc2a4\ud2b8  "
     ]
    },
    {
     "cell_type": "code",
     "collapsed": false,
     "input": [
      "print getNumberOfGoogleSearchResult(\"\uc0b0 \ud1a0\ub07c \ud1a0\ub07c\uc57c \uc5b4\ub514\ub97c \uac00\ub290\ub0d0\")"
     ],
     "language": "python",
     "metadata": {},
     "outputs": [
      {
       "output_type": "stream",
       "stream": "stdout",
       "text": [
        "208000\n"
       ]
      }
     ],
     "prompt_number": 6
    },
    {
     "cell_type": "markdown",
     "metadata": {},
     "source": [
      "\uc2e4\uc81c\ub85c \ub9de\uc558\ub294\uc9c0 \ud655\uc778\ud558\ub7ec \uac00\ubcf4\uc790.  \n",
      "\n",
      "https://www.google.co.kr/search?q=%EC%82%B0+%ED%86%A0%EB%81%BC+%ED%86%A0%EB%81%BC%EC%95%BC+%EC%96%B4%EB%94%94%EB%A5%BC+%EA%B0%80%EB%8A%90%EB%83%90&oq=%EC%82%B0+%ED%86%A0%EB%81%BC+%ED%86%A0%EB%81%BC%EC%95%BC+%EC%96%B4%EB%94%94%EB%A5%BC+%EA%B0%80%EB%8A%90%EB%83%90&aqs=chrome.0.69i57.414j0&sourceid=chrome&ie=UTF-8"
     ]
    }
   ],
   "metadata": {}
  }
 ]
}