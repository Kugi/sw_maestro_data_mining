{
 "metadata": {
  "name": ""
 },
 "nbformat": 3,
 "nbformat_minor": 0,
 "worksheets": [
  {
   "cells": [
    {
     "cell_type": "code",
     "collapsed": false,
     "input": [
      "from sqlalchemy import *\n",
      "db = create_engine('sqlite:///cache.db')\n",
      "from sqlalchemy.orm import sessionmaker\n",
      "from sqlalchemy.ext.declarative import declarative_base\n",
      "BaseObj = declarative_base()\n",
      "if db.dialect.has_table(db.connect(), \"cache\"):\n",
      "    db.execute(\"drop table cache;\")\n",
      "db.echo = False  # Try changing this to True and see what happens\n",
      "metadata = MetaData(db)\n",
      "''' table create '''\n",
      "class Cache(BaseObj):\n",
      "    __tablename__ = 'cache'\n",
      "    query = Column('query', String(100), primary_key=True)\n",
      "    num = Column('num', Integer)\n",
      "    update_date = Column('update_date', Date())\n",
      "    def __init__(self,query,num):\n",
      "        self.query=query\n",
      "        self.num=num\n",
      "metadata = Cache.metadata\n",
      "metadata.create_all(db)\n",
      "\n",
      "\n",
      "Session = sessionmaker(bind=db)\n",
      "''' data insert '''\n",
      "s = Session()\n",
      "s.add(Cache(**{'query': 'word0', 'num': 42}))\n",
      "s.add(Cache(**{'query': 'word1', 'num': 43}))\n",
      "s.add(Cache(**{'query': 'word2', 'num': 44}))\n",
      "s.commit()\n",
      "\n",
      "\n",
      "def query_count(query):\n",
      "    s = Session()\n",
      "    result = s.query(Cache).filter(Cache.query==query)\n",
      "    if result.count()>0:\n",
      "        return result[0].num\n",
      "    return 0\n",
      "\n",
      "def set_query_count(query,count):\n",
      "    s = Session()\n",
      "    s.add(Cache(query,count))\n",
      "    s.commit()\n",
      "    \n",
      "''' test '''\n",
      "print query_count('word0')\n",
      "print query_count('word10')\n",
      "set_query_count('word10',100)\n",
      "print query_count('word10')"
     ],
     "language": "python",
     "metadata": {},
     "outputs": [
      {
       "output_type": "stream",
       "stream": "stdout",
       "text": [
        "42\n",
        "0\n",
        "100"
       ]
      },
      {
       "output_type": "stream",
       "stream": "stdout",
       "text": [
        "\n"
       ]
      }
     ],
     "prompt_number": 1
    }
   ],
   "metadata": {}
  }
 ]
}