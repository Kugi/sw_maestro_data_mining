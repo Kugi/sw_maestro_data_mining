{
 "metadata": {
  "name": ""
 },
 "nbformat": 3,
 "nbformat_minor": 0,
 "worksheets": [
  {
   "cells": [
    {
     "cell_type": "code",
     "collapsed": false,
     "input": [
      "import pgdb\n",
      "import pandas\n",
      "import pickle\n",
      "import json\n",
      "from pandas import DataFrame, Series\n",
      "from sklearn.datasets import load_svmlight_file"
     ],
     "language": "python",
     "metadata": {},
     "outputs": [],
     "prompt_number": 1
    },
    {
     "cell_type": "markdown",
     "metadata": {},
     "source": [
      "\uc571\ub4e4\uc758 PMI \uac12\uc744 \uac00\uc838\uc628\ub2e4.<br>"
     ]
    },
    {
     "cell_type": "code",
     "collapsed": false,
     "input": [
      "entity_pmi_table = pandas.read_pickle(\"./data/entity_pmi_table_final.df\")\n",
      "#entity_pmi_table.to_pickle(\"./data/entity_pmi_table_final.df\")\n",
      "entity_pmi_table"
     ],
     "language": "python",
     "metadata": {},
     "outputs": [
      {
       "output_type": "stream",
       "stream": "stderr",
       "text": [
        "/usr/local/lib/python2.7/dist-packages/pandas/core/config.py:570: DeprecationWarning: height has been deprecated.\n",
        "\n",
        "  warnings.warn(d.msg, DeprecationWarning)\n"
       ]
      },
      {
       "html": [
        "<pre>\n",
        "&lt;class 'pandas.core.frame.DataFrame'&gt;\n",
        "Int64Index: 358153 entries, 0 to 358152\n",
        "Data columns (total 4 columns):\n",
        "app_name       358153  non-null values\n",
        "keyword        358153  non-null values\n",
        "pmi            358153  non-null values\n",
        "update_date    358153  non-null values\n",
        "dtypes: float64(1), object(3)\n",
        "</pre>"
       ],
       "metadata": {},
       "output_type": "pyout",
       "prompt_number": 2,
       "text": [
        "<class 'pandas.core.frame.DataFrame'>\n",
        "Int64Index: 358153 entries, 0 to 358152\n",
        "Data columns (total 4 columns):\n",
        "app_name       358153  non-null values\n",
        "keyword        358153  non-null values\n",
        "pmi            358153  non-null values\n",
        "update_date    358153  non-null values\n",
        "dtypes: float64(1), object(3)"
       ]
      }
     ],
     "prompt_number": 2
    },
    {
     "cell_type": "code",
     "collapsed": false,
     "input": [
      "entity_pmi_table.head()"
     ],
     "language": "python",
     "metadata": {},
     "outputs": [
      {
       "output_type": "stream",
       "stream": "stderr",
       "text": [
        "/usr/local/lib/python2.7/dist-packages/pandas/core/config.py:570: DeprecationWarning: height has been deprecated.\n",
        "\n",
        "  warnings.warn(d.msg, DeprecationWarning)\n",
        "/usr/local/lib/python2.7/dist-packages/pandas/core/config.py:570: DeprecationWarning: height has been deprecated.\n",
        "\n",
        "  warnings.warn(d.msg, DeprecationWarning)\n"
       ]
      },
      {
       "html": [
        "<div style=\"max-height:1000px;max-width:1500px;overflow:auto;\">\n",
        "<table border=\"1\" class=\"dataframe\">\n",
        "  <thead>\n",
        "    <tr style=\"text-align: right;\">\n",
        "      <th></th>\n",
        "      <th>app_name</th>\n",
        "      <th>keyword</th>\n",
        "      <th>pmi</th>\n",
        "      <th>update_date</th>\n",
        "    </tr>\n",
        "  </thead>\n",
        "  <tbody>\n",
        "    <tr>\n",
        "      <th>0</th>\n",
        "      <td>             \"Daily Perks\"</td>\n",
        "      <td> \"\ud0c0\uc774\ucfe4\"</td>\n",
        "      <td> 10.3148</td>\n",
        "      <td> 2013-10-19</td>\n",
        "    </tr>\n",
        "    <tr>\n",
        "      <th>1</th>\n",
        "      <td>              \"\ub819\uc5c5\ub9cc\uc774\uc0b4\uae38 _\uac8c\uc784\"</td>\n",
        "      <td> \"\ud0c0\uc774\ucfe4\"</td>\n",
        "      <td> 10.3148</td>\n",
        "      <td> 2013-10-19</td>\n",
        "    </tr>\n",
        "    <tr>\n",
        "      <th>2</th>\n",
        "      <td>               \"\ud504\ub9ac\ud2f0 \ud3ab \ud0c0\uc774\ucfe4\"</td>\n",
        "      <td> \"\ud0c0\uc774\ucfe4\"</td>\n",
        "      <td> 10.3148</td>\n",
        "      <td> 2013-10-19</td>\n",
        "    </tr>\n",
        "    <tr>\n",
        "      <th>3</th>\n",
        "      <td>     \"Memoires: The Diary\"</td>\n",
        "      <td> \"\ud0c0\uc774\ucfe4\"</td>\n",
        "      <td> 10.3148</td>\n",
        "      <td> 2013-10-19</td>\n",
        "    </tr>\n",
        "    <tr>\n",
        "      <th>4</th>\n",
        "      <td> \"Commando - Final Battle\"</td>\n",
        "      <td> \"\ud0c0\uc774\ucfe4\"</td>\n",
        "      <td> 10.3148</td>\n",
        "      <td> 2013-10-19</td>\n",
        "    </tr>\n",
        "  </tbody>\n",
        "</table>\n",
        "</div>"
       ],
       "metadata": {},
       "output_type": "pyout",
       "prompt_number": 3,
       "text": [
        "                    app_name keyword      pmi update_date\n",
        "0              \"Daily Perks\"   \"\ud0c0\uc774\ucfe4\"  10.3148  2013-10-19\n",
        "1               \"\ub819\uc5c5\ub9cc\uc774\uc0b4\uae38 _\uac8c\uc784\"   \"\ud0c0\uc774\ucfe4\"  10.3148  2013-10-19\n",
        "2                \"\ud504\ub9ac\ud2f0 \ud3ab \ud0c0\uc774\ucfe4\"   \"\ud0c0\uc774\ucfe4\"  10.3148  2013-10-19\n",
        "3      \"Memoires: The Diary\"   \"\ud0c0\uc774\ucfe4\"  10.3148  2013-10-19\n",
        "4  \"Commando - Final Battle\"   \"\ud0c0\uc774\ucfe4\"  10.3148  2013-10-19"
       ]
      }
     ],
     "prompt_number": 3
    },
    {
     "cell_type": "markdown",
     "metadata": {},
     "source": [
      "\ub370\uc774\ud130\ubca0\uc774\uc2a4\uc5d0\uc11c \uc5bb\uc5b4\uc628 \uc720\ud6a8\ud55c \ub370\uc774\ud130\ub4e4\uc758 \uc571 \uac2f\uc218\ub294 \ub2e4\uc74c\uacfc \uac19\ub2e4."
     ]
    },
    {
     "cell_type": "code",
     "collapsed": false,
     "input": [
      "names = []\n",
      "namescnt = {}\n",
      "\n",
      "for idx, value in entity_pmi_table.iterrows():\n",
      "\n",
      "    tempstr = value['app_name']\n",
      "    tempstr = tempstr.replace('\"', \"\")\n",
      "    if namescnt.has_key(tempstr):\n",
      "        namescnt[tempstr] += 1\n",
      "    else:\n",
      "        namescnt[tempstr] = 0\n",
      "    try:\n",
      "        names.remove(tempstr)\n",
      "    except:\n",
      "        pass\n",
      "    names.append(tempstr)\n",
      "    #if zz >= 50:\n",
      "    #    break;\n",
      "        \n",
      "#print '\\n'.join(names)\n",
      "len(names)"
     ],
     "language": "python",
     "metadata": {},
     "outputs": [
      {
       "metadata": {},
       "output_type": "pyout",
       "prompt_number": 3,
       "text": [
        "6470"
       ]
      }
     ],
     "prompt_number": 3
    },
    {
     "cell_type": "markdown",
     "metadata": {},
     "source": [
      "50\uac1c \uc774\uc0c1\uc758 \ud0a4\uc6cc\ub4dc\uc5d0 \ub300\ud55c PMI \uac12\uc774 \uc874\uc7ac\ud558\ub294 \uc571\ub9cc\uc744 \ubf51\uc544\ub0b8\ub2e4."
     ]
    },
    {
     "cell_type": "code",
     "collapsed": false,
     "input": [
      "valuableApps = []\n",
      "for k, v in namescnt.iteritems():\n",
      "    if v > 50:\n",
      "        valuableApps.append(k)\n",
      "\n",
      "len(valuableApps)"
     ],
     "language": "python",
     "metadata": {},
     "outputs": [
      {
       "metadata": {},
       "output_type": "pyout",
       "prompt_number": 6,
       "text": [
        "2766"
       ]
      }
     ],
     "prompt_number": 6
    },
    {
     "cell_type": "markdown",
     "metadata": {},
     "source": [
      "\uc804\uccb4 \ud0a4\uc6cc\ub4dc\ub97c \ubd88\ub7ec\uc628\ub2e4."
     ]
    },
    {
     "cell_type": "code",
     "collapsed": false,
     "input": [
      "def load(fname):\n",
      "    ''' load the file using std open'''\n",
      "    f = open(fname,'r')\n",
      "\n",
      "    data = []\n",
      "    for line in f.readlines():\n",
      "        #print line\n",
      "        data.extend(line.replace('\\n','').replace('\ufeff', '').split(', '))\n",
      "    \n",
      "    f.close()\n",
      "\n",
      "    return data\n",
      "\n",
      "keyword = load('../utils/data/Keyword.txt')\n",
      "print \" \".join(keyword)"
     ],
     "language": "python",
     "metadata": {},
     "outputs": [
      {
       "output_type": "stream",
       "stream": "stdout",
       "text": [
        "\ud37c\uc990 \uce90\uc8fc\uc5bc \uc544\ucf00\uc774\ub4dc \uc5ec\uc131 \ub0a8\uc131 \uce5c\uad6c \uc5f0\uc560 \uc5f0\uc608 \uc5bc\uad74 \uc18d\ub3c4 \ub3c8 \ub79c\ub364 random \uc74c\uc2dd \ubc29\ubc95 \uc548\ub4dc\ub85c\uc774\ub4dc \uc544\uc774\ud3f0 android iphone \uc624\ub77d \uc2ec\ub9ac \ubd80\uc790 \uc601\uc5b4 \ud1a0\uc775 \uacf5\ubd80 \uc77c\uc815 \ub2ec\ub825 \uacc4\ud68d \uacf5\ub7b5 \ub808\uc774\uc2f1 RPG \uce74\ub4dc \ub514\ud39c\uc2a4 \ub450\ub1cc \uc2dc\ubbac \ub2ec\ub9ac\uae30 \uc288\ud305 \ucd95\uad6c \uacbd\uc601 \ud0c0\uc774\ucfe4 \ud0c8\ucd9c \ucd94\ub9ac  \uc7a5\uae30 \ube44\ud589\uae30 \uc0ac\ucc9c\uc131 \uc2a4\ud3ec\uce20 \ub18d\uad6c \ub09a\uc2dc \uc74c\uc545 \uce74\ud1a1 \uace8\ud504 \ub2f9\uad6c \uc57c\uad6c \ubcfc\ub9c1 \uc0bc\uad6d\uc9c0 \uc804\uc7c1 \uac74\uac15 \uc6b4\ub3d9 \uad50\uc721 \uad50\ud1b5 \uae08\uc735 \ub0a0\uc528 \ub274\uc2a4 \uc7a1\uc9c0 \ub370\ucf54\ub808\uc774\uc158 \ub3c4\uad6c \ub3c4\uc11c \ucc38\uace0\uc790\ub8cc \ub77c\uc774\ube0c \ubc30\uacbd\ud654\uba74 \ub77c\uc774\ube0c\ub7ec\ub9ac \ub370\ubaa8 \ub77c\uc774\ud504\uc2a4\ud0c0\uc77c \ube14\ub85c\uadf8 \ub9cc\ud654 \ubbf8\ub514\uc5b4 \ub3d9\uc601\uc0c1 \ube44\uc988\ub2c8\uc2a4 \ud3b8\uc9d1 \uc0ac\uc9c4 \uc0dd\uc0b0\uc131 \uc18c\uc15c \ucf58\ud150\uce20 \uc1fc\ud551 \uc704\uc82f \uc790\ub3d9\ucc28 \uacbd\uc8fc \ub2e4\uc774\uc5b4\ud2b8 \ub2ec\ub825 \uc0dd\ub9ac \uce98\ub9b0\ub354 \uc0ac\uc8fc\ud314\uc790 \uad81\ud569 \uccb4\uc911 \uc0ac\uc804 \ucef4\ud4e8\ud130 \ubc31\uacfc\uc0ac\uc804 \uae09\uc2dd \ud559\uad50 \ucd08\ub4f1\ud559\uad50 \uc911\ud559\uad50 \uace0\ub4f1\ud559\uad50 \ub300\ud559\uad50 Korea \ub124\ube44\uac8c\uc774\uc158 \uc9c0\ud558\ucca0 \uc885\uacb0\uc790 \ub0b4\ube44 \uac00\uacc4\ubd80 Money \uc2a4\ub9c8\ud2b8 \uacc4\uc0b0\uae30 \uc740\ud589 \uac80\uc0c9\uc5b4 \uc2e4\uc2dc\uac04 \uc2e0\ubb38 \ud074\ub798\uc2dd \uc560\ub2c8 \ub09a\uc2dc \ub7f0\ucc98 \uc8fc\uc18c\ub85d \ud3f0 \ubc14\uc774\ub7ec\uc2a4 \ubcf4\uc548 \uc131\uacbd \ucc2c\uc1a1 \ubc14\uc774\ube14 \ubc31\uc2e0 \uc6f9 \uc2a4\ud2f0\ucee4 \uc0ac\uc8fc \uc6b4\uc138 \ucf54\ubbf9 3D \ubcc4\uc790\ub9ac tool \uc6f9\ud230 \ud50c\ub808\uc774\uc5b4 \uce74\uba54\ub77c \ubca8\uc18c\ub9ac \ud55c\uae00 \uc624\ud53c\uc2a4 office \uc54c\ubc14 photo \ub4dc\ub77c\uc774\ube0c \ud30c\uc77c \uac24\ub7ec\ub9ac \uadf8\ub8f9 \ubc14\ucf54\ub4dc \uc2a4\uce90\ub108 \uc18c\uc15c\ucee4\uba38\uc2a4 \uc18c\uc15c \uc5b4\ub978 \ub178\ub798 \uafb8\ubbf8\uae30 \ud328\uc158\n"
       ]
      }
     ],
     "prompt_number": 4
    },
    {
     "cell_type": "markdown",
     "metadata": {},
     "source": [
      "gender\ub97c \ubd88\ub7ec\uc624\uc790"
     ]
    },
    {
     "cell_type": "code",
     "collapsed": false,
     "input": [
      "\n",
      "genderdatVectors, reformedIDs = load_svmlight_file(\"./data/user_gender.dat\")\n"
     ],
     "language": "python",
     "metadata": {},
     "outputs": [],
     "prompt_number": 5
    },
    {
     "cell_type": "code",
     "collapsed": false,
     "input": [
      "#genderdatVectors? #csr_matrix\n",
      "#reformedIDs? #ndararay\n",
      "#reformedIDs\n",
      "reformedIDs?"
     ],
     "language": "python",
     "metadata": {},
     "outputs": [],
     "prompt_number": 32
    },
    {
     "cell_type": "code",
     "collapsed": false,
     "input": [
      "print reformedIDs"
     ],
     "language": "python",
     "metadata": {},
     "outputs": [
      {
       "output_type": "stream",
       "stream": "stdout",
       "text": [
        "[ 2.  2.  2. ...,  2.  1.  2.]\n"
       ]
      }
     ],
     "prompt_number": 90
    },
    {
     "cell_type": "markdown",
     "metadata": {},
     "source": [
      "\ud074\ub7ec\uc2a4\ud130\ub9c1\uc744 \uc704\ud55c \ub370\uc774\ud130\ub97c \ub9cc\ub4e4\uae30 \uc704\ud574\uc11c \uc571ID \ub9f5\ud551 \ub370\uc774\ud130\ub3c4 \ubd88\ub7ec\uc624\uc790."
     ]
    },
    {
     "cell_type": "code",
     "collapsed": false,
     "input": [
      "\n",
      "idmap = pickle.load(file(\"./data/entityid_featureid.pkl\"))\n"
     ],
     "language": "python",
     "metadata": {},
     "outputs": [],
     "prompt_number": 6
    },
    {
     "cell_type": "code",
     "collapsed": false,
     "input": [
      "idmap['2007318']"
     ],
     "language": "python",
     "metadata": {},
     "outputs": [
      {
       "ename": "KeyError",
       "evalue": "'2007318'",
       "output_type": "pyerr",
       "traceback": [
        "\u001b[1;31m---------------------------------------------------------------------------\u001b[0m\n\u001b[1;31mKeyError\u001b[0m                                  Traceback (most recent call last)",
        "\u001b[1;32m<ipython-input-15-b1c4d2e096a1>\u001b[0m in \u001b[0;36m<module>\u001b[1;34m()\u001b[0m\n\u001b[1;32m----> 1\u001b[1;33m \u001b[0midmap\u001b[0m\u001b[1;33m[\u001b[0m\u001b[1;34m'2007318'\u001b[0m\u001b[1;33m]\u001b[0m\u001b[1;33m\u001b[0m\u001b[0m\n\u001b[0m",
        "\u001b[1;31mKeyError\u001b[0m: '2007318'"
       ]
      }
     ],
     "prompt_number": 15
    },
    {
     "cell_type": "code",
     "collapsed": false,
     "input": [
      "#idmap.fromkeys({30734, '1417731'})\n",
      "efv = list(zip(idmap.values(), idmap.keys()))\n",
      "#{names[i]:efv[i] for i in range(len(names))}"
     ],
     "language": "python",
     "metadata": {},
     "outputs": [],
     "prompt_number": 8
    },
    {
     "cell_type": "code",
     "collapsed": false,
     "input": [
      "gendfcols = {'appid', 'index', 'man', 'woman', 'appname'}\n",
      "genindexes = idmap.values()\n",
      "gendf = pandas.DataFrame(columns=gendfcols, index=genindexes)\n",
      "\n",
      "gendf.loc[:,:] = 0\n",
      "gendf['appid'] = idmap.keys()\n",
      "gendf['index'] = genindexes\n",
      "gendf.head()\n",
      "#gendf[0:50]"
     ],
     "language": "python",
     "metadata": {},
     "outputs": [
      {
       "output_type": "stream",
       "stream": "stderr",
       "text": [
        "/usr/local/lib/python2.7/dist-packages/pandas/core/config.py:570: DeprecationWarning: height has been deprecated.\n",
        "\n",
        "  warnings.warn(d.msg, DeprecationWarning)\n",
        "/usr/local/lib/python2.7/dist-packages/pandas/core/config.py:570: DeprecationWarning: height has been deprecated.\n",
        "\n",
        "  warnings.warn(d.msg, DeprecationWarning)\n"
       ]
      },
      {
       "html": [
        "<div style=\"max-height:1000px;max-width:1500px;overflow:auto;\">\n",
        "<table border=\"1\" class=\"dataframe\">\n",
        "  <thead>\n",
        "    <tr style=\"text-align: right;\">\n",
        "      <th></th>\n",
        "      <th>appid</th>\n",
        "      <th>index</th>\n",
        "      <th>woman</th>\n",
        "      <th>man</th>\n",
        "      <th>appname</th>\n",
        "    </tr>\n",
        "  </thead>\n",
        "  <tbody>\n",
        "    <tr>\n",
        "      <th>1</th>\n",
        "      <td> 1658496</td>\n",
        "      <td> 1</td>\n",
        "      <td> 0</td>\n",
        "      <td> 0</td>\n",
        "      <td> 0</td>\n",
        "    </tr>\n",
        "    <tr>\n",
        "      <th>2</th>\n",
        "      <td> 1658497</td>\n",
        "      <td> 2</td>\n",
        "      <td> 0</td>\n",
        "      <td> 0</td>\n",
        "      <td> 0</td>\n",
        "    </tr>\n",
        "    <tr>\n",
        "      <th>3</th>\n",
        "      <td> 1774518</td>\n",
        "      <td> 3</td>\n",
        "      <td> 0</td>\n",
        "      <td> 0</td>\n",
        "      <td> 0</td>\n",
        "    </tr>\n",
        "    <tr>\n",
        "      <th>4</th>\n",
        "      <td> 1658495</td>\n",
        "      <td> 4</td>\n",
        "      <td> 0</td>\n",
        "      <td> 0</td>\n",
        "      <td> 0</td>\n",
        "    </tr>\n",
        "    <tr>\n",
        "      <th>5</th>\n",
        "      <td> 1475833</td>\n",
        "      <td> 5</td>\n",
        "      <td> 0</td>\n",
        "      <td> 0</td>\n",
        "      <td> 0</td>\n",
        "    </tr>\n",
        "  </tbody>\n",
        "</table>\n",
        "</div>"
       ],
       "metadata": {},
       "output_type": "pyout",
       "prompt_number": 7,
       "text": [
        "     appid  index woman man appname\n",
        "1  1658496      1     0   0       0\n",
        "2  1658497      2     0   0       0\n",
        "3  1774518      3     0   0       0\n",
        "4  1658495      4     0   0       0\n",
        "5  1475833      5     0   0       0"
       ]
      }
     ],
     "prompt_number": 7
    },
    {
     "cell_type": "markdown",
     "metadata": {},
     "source": [
      "\uc571 \uc131\ubcc4\uc744 \ud074\ub7ec\uc2a4\ud130\ub9c1 \ud574\uc57c\ud55c\ub2e4."
     ]
    },
    {
     "cell_type": "code",
     "collapsed": false,
     "input": [
      "\n",
      "prof_user = pickle.load(file(\"./data/profiled_gender.pkl\"))\n"
     ],
     "language": "python",
     "metadata": {},
     "outputs": [],
     "prompt_number": 8
    },
    {
     "cell_type": "code",
     "collapsed": false,
     "input": [
      "prof_user.head()"
     ],
     "language": "python",
     "metadata": {},
     "outputs": [
      {
       "output_type": "stream",
       "stream": "stderr",
       "text": [
        "/usr/local/lib/python2.7/dist-packages/pandas/core/config.py:570: DeprecationWarning: height has been deprecated.\n",
        "\n",
        "  warnings.warn(d.msg, DeprecationWarning)\n",
        "/usr/local/lib/python2.7/dist-packages/pandas/core/config.py:570: DeprecationWarning: height has been deprecated.\n",
        "\n",
        "  warnings.warn(d.msg, DeprecationWarning)\n"
       ]
      },
      {
       "html": [
        "<div style=\"max-height:1000px;max-width:1500px;overflow:auto;\">\n",
        "<table border=\"1\" class=\"dataframe\">\n",
        "  <thead>\n",
        "    <tr style=\"text-align: right;\">\n",
        "      <th></th>\n",
        "      <th>gender</th>\n",
        "      <th>user</th>\n",
        "    </tr>\n",
        "  </thead>\n",
        "  <tbody>\n",
        "    <tr>\n",
        "      <th>0</th>\n",
        "      <td> 2</td>\n",
        "      <td> 2007318</td>\n",
        "    </tr>\n",
        "    <tr>\n",
        "      <th>1</th>\n",
        "      <td> 2</td>\n",
        "      <td> 5188098</td>\n",
        "    </tr>\n",
        "    <tr>\n",
        "      <th>2</th>\n",
        "      <td> 2</td>\n",
        "      <td> 5207032</td>\n",
        "    </tr>\n",
        "    <tr>\n",
        "      <th>3</th>\n",
        "      <td> 2</td>\n",
        "      <td> 5183947</td>\n",
        "    </tr>\n",
        "    <tr>\n",
        "      <th>4</th>\n",
        "      <td> 2</td>\n",
        "      <td> 1758743</td>\n",
        "    </tr>\n",
        "  </tbody>\n",
        "</table>\n",
        "</div>"
       ],
       "metadata": {},
       "output_type": "pyout",
       "prompt_number": 9,
       "text": [
        "   gender     user\n",
        "0       2  2007318\n",
        "1       2  5188098\n",
        "2       2  5207032\n",
        "3       2  5183947\n",
        "4       2  1758743"
       ]
      }
     ],
     "prompt_number": 9
    },
    {
     "cell_type": "code",
     "collapsed": false,
     "input": [
      "\n",
      "\n",
      "for i in range(0,reformedIDs.size):\n",
      "    print i\n",
      "    if i > 10:\n",
      "        break\n",
      "genderdatVectors, reformedIDs"
     ],
     "language": "python",
     "metadata": {},
     "outputs": [
      {
       "output_type": "stream",
       "stream": "stdout",
       "text": [
        "0\n",
        "1\n",
        "2\n",
        "3\n",
        "4\n",
        "5\n",
        "6\n",
        "7\n",
        "8\n",
        "9\n",
        "10\n",
        "11\n"
       ]
      }
     ],
     "prompt_number": 43
    },
    {
     "cell_type": "code",
     "collapsed": false,
     "input": [
      "userapp = pickle.load(file(\"./data/user_app.df\"))\n",
      "userapp.head()"
     ],
     "language": "python",
     "metadata": {},
     "outputs": [
      {
       "output_type": "stream",
       "stream": "stderr",
       "text": [
        "/usr/local/lib/python2.7/dist-packages/pandas/core/config.py:570: DeprecationWarning: height has been deprecated.\n",
        "\n",
        "  warnings.warn(d.msg, DeprecationWarning)\n",
        "/usr/local/lib/python2.7/dist-packages/pandas/core/config.py:570: DeprecationWarning: height has been deprecated.\n",
        "\n",
        "  warnings.warn(d.msg, DeprecationWarning)\n"
       ]
      },
      {
       "html": [
        "<div style=\"max-height:1000px;max-width:1500px;overflow:auto;\">\n",
        "<table border=\"1\" class=\"dataframe\">\n",
        "  <thead>\n",
        "    <tr style=\"text-align: right;\">\n",
        "      <th></th>\n",
        "      <th>create_date</th>\n",
        "      <th>update_date</th>\n",
        "      <th>user_id</th>\n",
        "      <th>entity_id</th>\n",
        "      <th>usage</th>\n",
        "      <th>is_deleted</th>\n",
        "    </tr>\n",
        "  </thead>\n",
        "  <tbody>\n",
        "    <tr>\n",
        "      <th>0</th>\n",
        "      <td> 20130222202059</td>\n",
        "      <td> 20130730090415</td>\n",
        "      <td> 2007318</td>\n",
        "      <td> 1612462</td>\n",
        "      <td> 0</td>\n",
        "      <td>  True</td>\n",
        "    </tr>\n",
        "    <tr>\n",
        "      <th>1</th>\n",
        "      <td> 20130311075241</td>\n",
        "      <td> 20130730090415</td>\n",
        "      <td> 2007318</td>\n",
        "      <td> 1651419</td>\n",
        "      <td> 0</td>\n",
        "      <td>  True</td>\n",
        "    </tr>\n",
        "    <tr>\n",
        "      <th>2</th>\n",
        "      <td> 20130401221208</td>\n",
        "      <td> 20130730090415</td>\n",
        "      <td> 2007318</td>\n",
        "      <td> 1522396</td>\n",
        "      <td> 0</td>\n",
        "      <td>  True</td>\n",
        "    </tr>\n",
        "    <tr>\n",
        "      <th>3</th>\n",
        "      <td> 20130604154430</td>\n",
        "      <td> 20130730144616</td>\n",
        "      <td> 5188098</td>\n",
        "      <td> 1526678</td>\n",
        "      <td> 1</td>\n",
        "      <td> False</td>\n",
        "    </tr>\n",
        "    <tr>\n",
        "      <th>4</th>\n",
        "      <td> 20130621155632</td>\n",
        "      <td> 20130730075157</td>\n",
        "      <td> 5207032</td>\n",
        "      <td> 1480116</td>\n",
        "      <td> 0</td>\n",
        "      <td>  True</td>\n",
        "    </tr>\n",
        "  </tbody>\n",
        "</table>\n",
        "</div>"
       ],
       "metadata": {},
       "output_type": "pyout",
       "prompt_number": 14,
       "text": [
        "      create_date     update_date  user_id  entity_id  usage is_deleted\n",
        "0  20130222202059  20130730090415  2007318    1612462      0       True\n",
        "1  20130311075241  20130730090415  2007318    1651419      0       True\n",
        "2  20130401221208  20130730090415  2007318    1522396      0       True\n",
        "3  20130604154430  20130730144616  5188098    1526678      1      False\n",
        "4  20130621155632  20130730075157  5207032    1480116      0       True"
       ]
      }
     ],
     "prompt_number": 14
    },
    {
     "cell_type": "code",
     "collapsed": false,
     "input": [
      "appinfo2 = pickle.load(file(\"./data/app_info2.df\"))\n",
      "appinfo2.head()"
     ],
     "language": "python",
     "metadata": {},
     "outputs": [
      {
       "html": [
        "<div style=\"max-height:1000px;max-width:1500px;overflow:auto;\">\n",
        "<table border=\"1\" class=\"dataframe\">\n",
        "  <thead>\n",
        "    <tr style=\"text-align: right;\">\n",
        "      <th></th>\n",
        "      <th>id</th>\n",
        "      <th>date</th>\n",
        "      <th>create_date</th>\n",
        "      <th>update_date</th>\n",
        "      <th>genre</th>\n",
        "      <th>cate</th>\n",
        "      <th>score</th>\n",
        "      <th>name</th>\n",
        "      <th>price</th>\n",
        "      <th>developer</th>\n",
        "      <th>intro</th>\n",
        "      <th>size</th>\n",
        "      <th>ver</th>\n",
        "      <th>company</th>\n",
        "      <th>code</th>\n",
        "      <th>app_cate</th>\n",
        "      <th>company_id</th>\n",
        "      <th>download_num</th>\n",
        "      <th>rate_num_all</th>\n",
        "    </tr>\n",
        "  </thead>\n",
        "  <tbody>\n",
        "    <tr>\n",
        "      <th>0</th>\n",
        "      <td> 1632455</td>\n",
        "      <td> 20120919</td>\n",
        "      <td> 20120924013651</td>\n",
        "      <td> 20120924013651</td>\n",
        "      <td> \uc74c\uc545 \ubc0f \uc624\ub514\uc624</td>\n",
        "      <td> </td>\n",
        "      <td> 60.04</td>\n",
        "      <td> Naija Lyrics Wiki</td>\n",
        "      <td>    0</td>\n",
        "      <td> Akintayo Olusegun</td>\n",
        "      <td>                                              None</td>\n",
        "      <td>  1200</td>\n",
        "      <td> 2.12</td>\n",
        "      <td> Akintayo Olusegun</td>\n",
        "      <td>                       com.trinisoftinc.nlw</td>\n",
        "      <td> MUSIC_AND_AUDIO</td>\n",
        "      <td> 1632548</td>\n",
        "      <td>NaN</td>\n",
        "      <td>   4</td>\n",
        "    </tr>\n",
        "    <tr>\n",
        "      <th>1</th>\n",
        "      <td> 1784399</td>\n",
        "      <td> 20121214</td>\n",
        "      <td> 20130303041138</td>\n",
        "      <td> 20130303041138</td>\n",
        "      <td>        \uc571</td>\n",
        "      <td> </td>\n",
        "      <td>  0.00</td>\n",
        "      <td>  \uaf43 \uaf43 wallpaper105</td>\n",
        "      <td> 1400</td>\n",
        "      <td>            NakaMu</td>\n",
        "      <td> / * / * / * / * / * / * / * / * / * / * / * / ...</td>\n",
        "      <td>   443</td>\n",
        "      <td>  1.0</td>\n",
        "      <td>              None</td>\n",
        "      <td>                               jp.Flower105</td>\n",
        "      <td> PERSONALIZATION</td>\n",
        "      <td>     NaN</td>\n",
        "      <td>NaN</td>\n",
        "      <td>   0</td>\n",
        "    </tr>\n",
        "    <tr>\n",
        "      <th>2</th>\n",
        "      <td> 1839344</td>\n",
        "      <td> 20130410</td>\n",
        "      <td> 20130508035307</td>\n",
        "      <td> 20130508035307</td>\n",
        "      <td>        \uc571</td>\n",
        "      <td> </td>\n",
        "      <td>  0.00</td>\n",
        "      <td>          \ub958\ud604\uc9c4 \ubc30\uacbd\ud654\uba74</td>\n",
        "      <td>    0</td>\n",
        "      <td>              \uc74c\ub780\ub9c8\uadc0</td>\n",
        "      <td>                      mlb LA\ub2e4\uc800\uc2a4 \ub958\ud604\uc9c4 \uc120\uc218 \ubc30\uacbd\ud654\uba74\uc785\ub2c8\ub2e4.\ub958\ub6b1!</td>\n",
        "      <td>  2600</td>\n",
        "      <td>  1.0</td>\n",
        "      <td>              None</td>\n",
        "      <td>                            com.appking.ryu</td>\n",
        "      <td>     PHOTOGRAPHY</td>\n",
        "      <td>     NaN</td>\n",
        "      <td>NaN</td>\n",
        "      <td>   4</td>\n",
        "    </tr>\n",
        "    <tr>\n",
        "      <th>3</th>\n",
        "      <td> 1812006</td>\n",
        "      <td> 20120501</td>\n",
        "      <td> 20130331035328</td>\n",
        "      <td> 20130331035328</td>\n",
        "      <td>        \uc571</td>\n",
        "      <td> </td>\n",
        "      <td>  0.00</td>\n",
        "      <td>      iPhone Theme</td>\n",
        "      <td> 1484</td>\n",
        "      <td>     Productigeeky</td>\n",
        "      <td> This is a theme for Popup Notifier, you need t...</td>\n",
        "      <td>    25</td>\n",
        "      <td>  1.4</td>\n",
        "      <td>              None</td>\n",
        "      <td> com.nlucas.popupnotifications.theme.iphone</td>\n",
        "      <td> PERSONALIZATION</td>\n",
        "      <td>     NaN</td>\n",
        "      <td>NaN</td>\n",
        "      <td>   7</td>\n",
        "    </tr>\n",
        "    <tr>\n",
        "      <th>4</th>\n",
        "      <td> 1841382</td>\n",
        "      <td> 20130507</td>\n",
        "      <td> 20130511035329</td>\n",
        "      <td> 20130511035329</td>\n",
        "      <td>        \uc571</td>\n",
        "      <td> </td>\n",
        "      <td>  0.00</td>\n",
        "      <td>  Marvel Unlimited</td>\n",
        "      <td>    0</td>\n",
        "      <td>     Marvel Comics</td>\n",
        "      <td> Introducing the Marvel Unlimited app for Andro...</td>\n",
        "      <td> 13000</td>\n",
        "      <td>  1.0</td>\n",
        "      <td>              None</td>\n",
        "      <td>                       com.marvel.unlimited</td>\n",
        "      <td>          COMICS</td>\n",
        "      <td>     NaN</td>\n",
        "      <td>NaN</td>\n",
        "      <td> 191</td>\n",
        "    </tr>\n",
        "  </tbody>\n",
        "</table>\n",
        "</div>"
       ],
       "metadata": {},
       "output_type": "pyout",
       "prompt_number": 40,
       "text": [
        "        id      date     create_date     update_date     genre cate  score  \\\n",
        "0  1632455  20120919  20120924013651  20120924013651  \uc74c\uc545 \ubc0f \uc624\ub514\uc624       60.04   \n",
        "1  1784399  20121214  20130303041138  20130303041138         \uc571        0.00   \n",
        "2  1839344  20130410  20130508035307  20130508035307         \uc571        0.00   \n",
        "3  1812006  20120501  20130331035328  20130331035328         \uc571        0.00   \n",
        "4  1841382  20130507  20130511035329  20130511035329         \uc571        0.00   \n",
        "\n",
        "                name  price          developer  \\\n",
        "0  Naija Lyrics Wiki      0  Akintayo Olusegun   \n",
        "1   \uaf43 \uaf43 wallpaper105   1400             NakaMu   \n",
        "2           \ub958\ud604\uc9c4 \ubc30\uacbd\ud654\uba74      0               \uc74c\ub780\ub9c8\uadc0   \n",
        "3       iPhone Theme   1484      Productigeeky   \n",
        "4   Marvel Unlimited      0      Marvel Comics   \n",
        "\n",
        "                                               intro   size   ver  \\\n",
        "0                                               None   1200  2.12   \n",
        "1  / * / * / * / * / * / * / * / * / * / * / * / ...    443   1.0   \n",
        "2                       mlb LA\ub2e4\uc800\uc2a4 \ub958\ud604\uc9c4 \uc120\uc218 \ubc30\uacbd\ud654\uba74\uc785\ub2c8\ub2e4.\ub958\ub6b1!   2600   1.0   \n",
        "3  This is a theme for Popup Notifier, you need t...     25   1.4   \n",
        "4  Introducing the Marvel Unlimited app for Andro...  13000   1.0   \n",
        "\n",
        "             company                                        code  \\\n",
        "0  Akintayo Olusegun                        com.trinisoftinc.nlw   \n",
        "1               None                                jp.Flower105   \n",
        "2               None                             com.appking.ryu   \n",
        "3               None  com.nlucas.popupnotifications.theme.iphone   \n",
        "4               None                        com.marvel.unlimited   \n",
        "\n",
        "          app_cate  company_id  download_num  rate_num_all  \n",
        "0  MUSIC_AND_AUDIO     1632548           NaN             4  \n",
        "1  PERSONALIZATION         NaN           NaN             0  \n",
        "2      PHOTOGRAPHY         NaN           NaN             4  \n",
        "3  PERSONALIZATION         NaN           NaN             7  \n",
        "4           COMICS         NaN           NaN           191  "
       ]
      }
     ],
     "prompt_number": 40
    },
    {
     "cell_type": "markdown",
     "metadata": {},
     "source": [
      "\uc571 \uc774\ub984\uc744 \uc778\ub371\uc2a4\ub85c, \ud0a4\uc6cc\ub4dc\ub97c \uce7c\ub7fc\uc73c\ub85c \ud558\ub294 \ub370\uc774\ud130\ud504\ub808\uc784\uc744 \ub9cc\ub4e0\ub2e4.<br>\n",
      "\ud14c\uc2a4\ud2b8\ub97c \uc704\ud574 \uc0ac\uc6a9\ud560 \uac2f\uc218\ub97c \uc870\uc808\ud560 \uc218 \uc788\ub2e4."
     ]
    },
    {
     "cell_type": "code",
     "collapsed": false,
     "input": [
      "import numpy\n",
      "\n",
      "#index = ['a', 'b', 'c']\n",
      "index = valuableApps#[0:200]#[0:200]\n",
      "dftemp = pandas.DataFrame(columns=keyword, index = index)\n",
      "dftemp.loc[:,:] = 0\n",
      "# print dftemp.columns\n",
      "# dftemp.loc['\ub958\ud604\uc9c4 \ubc30\uacbd\ud654\uba74','\ud37c\uc990'] = 0.9\n",
      "dftemp.shape"
     ],
     "language": "python",
     "metadata": {},
     "outputs": [
      {
       "metadata": {},
       "output_type": "pyout",
       "prompt_number": 6,
       "text": [
        "(2766, 157)"
       ]
      }
     ],
     "prompt_number": 6
    },
    {
     "cell_type": "markdown",
     "metadata": {},
     "source": [
      "0\uc73c\ub85c \ucd08\uae30\ud654\ub41c \ub370\uc774\ud130\ud504\ub808\uc784\uc5d0 PMI \uac12\uc744 \ucc44\uc6cc \ub123\ub294\ub2e4."
     ]
    },
    {
     "cell_type": "code",
     "collapsed": false,
     "input": [
      "tempstr = ''\n",
      "#cntsuccess = 0\n",
      "#cntfail = 0\n",
      "count = 0\n",
      "for idx, row in entity_pmi_table.iterrows():\n",
      "    _pmi = row['pmi']\n",
      "    _appname = row['app_name'].replace('\"', '').replace('\ufeff', '')\n",
      "    _keyword = row['keyword'].replace('\"', '').replace('\ufeff', '')\n",
      "    \n",
      "    try:\n",
      "        dftemp.ix[_appname, _keyword] = _pmi\n",
      "        if idx < 20:\n",
      "            print idx, _appname, _keyword, _pmi\n",
      "        #break\n",
      "        #ntsuccess+=1\n",
      "        count+=1\n",
      "        \n",
      "    except Exception, e:\n",
      "        #print \"fail:: \", ' '.join(e), _keyword, _pmi\n",
      "        #cntfail+=1\n",
      "        #break;\n",
      "        pass\n",
      "        \n",
      "    #if ( idx > 100 ):\n",
      "    #    break;\n",
      "print 'done', count\n",
      "print idx"
     ],
     "language": "python",
     "metadata": {},
     "outputs": [
      {
       "output_type": "stream",
       "stream": "stdout",
       "text": [
        "13 \ucd08\ucf54\ucd08\ucf54\ud0c0\uc774\ucfe4 \ud0c0\uc774\ucfe4 10.3108858221\n",
        "done"
       ]
      },
      {
       "output_type": "stream",
       "stream": "stdout",
       "text": [
        " 285236\n",
        "358152\n"
       ]
      }
     ],
     "prompt_number": 7
    },
    {
     "cell_type": "code",
     "collapsed": false,
     "input": [
      "#dftemp.keys()"
     ],
     "language": "python",
     "metadata": {},
     "outputs": [],
     "prompt_number": 64
    },
    {
     "cell_type": "markdown",
     "metadata": {},
     "source": [
      "\uc785\ub825\ub41c \ub370\uc774\ud130\ub97c \ub208\uc73c\ub85c \ud655\uc778\ud558\uace0 \uc2f6\ub2e4\uba74 \ub2e4\uc74c\uacfc \uac19\uc774 \ud55c\ub2e4."
     ]
    },
    {
     "cell_type": "code",
     "collapsed": false,
     "input": [
      "dftemp[0:10]['\ub178\ub798']"
     ],
     "language": "python",
     "metadata": {},
     "outputs": [
      {
       "html": [
        "<div style=\"max-height:1000px;max-width:1500px;overflow:auto;\">\n",
        "<table border=\"1\" class=\"dataframe\">\n",
        "  <thead>\n",
        "    <tr style=\"text-align: right;\">\n",
        "      <th></th>\n",
        "      <th>\ub178\ub798</th>\n",
        "    </tr>\n",
        "  </thead>\n",
        "  <tbody>\n",
        "    <tr>\n",
        "      <th>Yahoo! Mail</th>\n",
        "      <td>-0.3029168</td>\n",
        "    </tr>\n",
        "    <tr>\n",
        "      <th>News Republic</th>\n",
        "      <td>  1.638655</td>\n",
        "    </tr>\n",
        "    <tr>\n",
        "      <th>FINAL FANTASY DIMENSIONS</th>\n",
        "      <td> 0.9201899</td>\n",
        "    </tr>\n",
        "    <tr>\n",
        "      <th>Jota Text Editor</th>\n",
        "      <td>  1.390194</td>\n",
        "    </tr>\n",
        "    <tr>\n",
        "      <th>Roman Empire</th>\n",
        "      <td>  1.305816</td>\n",
        "    </tr>\n",
        "    <tr>\n",
        "      <th>Telefe</th>\n",
        "      <td>  1.350973</td>\n",
        "    </tr>\n",
        "    <tr>\n",
        "      <th>\uc81c\ub178\ub2c8\uc5445</th>\n",
        "      <td> -0.560562</td>\n",
        "    </tr>\n",
        "    <tr>\n",
        "      <th>\ubb34\ud55c \ub808\uc774\uc2f1</th>\n",
        "      <td> 0.9714832</td>\n",
        "    </tr>\n",
        "    <tr>\n",
        "      <th>FINAL FANTASY AIRBORNE BRIGADE</th>\n",
        "      <td>         0</td>\n",
        "    </tr>\n",
        "    <tr>\n",
        "      <th>\uc544\ucfe0\uc758 \ud37c\uc990\ud328\ubc00\ub9ac for Kakao</th>\n",
        "      <td>         0</td>\n",
        "    </tr>\n",
        "  </tbody>\n",
        "</table>\n",
        "</div>"
       ],
       "metadata": {},
       "output_type": "pyout",
       "prompt_number": 88,
       "text": [
        "                                       \ub178\ub798\n",
        "Yahoo! Mail                    -0.3029168\n",
        "News Republic                    1.638655\n",
        "FINAL FANTASY DIMENSIONS        0.9201899\n",
        "Jota Text Editor                 1.390194\n",
        "Roman Empire                     1.305816\n",
        "Telefe                           1.350973\n",
        "\uc81c\ub178\ub2c8\uc5445                           -0.560562\n",
        "\ubb34\ud55c \ub808\uc774\uc2f1                          0.9714832\n",
        "FINAL FANTASY AIRBORNE BRIGADE          0\n",
        "\uc544\ucfe0\uc758 \ud37c\uc990\ud328\ubc00\ub9ac for Kakao                     0"
       ]
      }
     ],
     "prompt_number": 88
    },
    {
     "cell_type": "code",
     "collapsed": false,
     "input": [
      "dftemp.ix['\ubb34\ud55c \ub808\uc774\uc2f1']['\uc74c\uc545']"
     ],
     "language": "python",
     "metadata": {},
     "outputs": [
      {
       "metadata": {},
       "output_type": "pyout",
       "prompt_number": 71,
       "text": [
        "2.1646480843632"
       ]
      }
     ],
     "prompt_number": 71
    },
    {
     "cell_type": "code",
     "collapsed": false,
     "input": [
      "dftemp.ix['\ubb34\ud55c \ub808\uc774\uc2f1']"
     ],
     "language": "python",
     "metadata": {},
     "outputs": [
      {
       "metadata": {},
       "output_type": "pyout",
       "prompt_number": 72,
       "text": [
        "\ud37c\uc990                 0\n",
        "\uce90\uc8fc\uc5bc                0\n",
        "\uc544\ucf00\uc774\ub4dc        5.829084\n",
        "\uc5ec\uc131          2.030965\n",
        "\ub0a8\uc131          1.701544\n",
        "\uce5c\uad6c          1.887312\n",
        "\uc5f0\uc560          2.859262\n",
        "\uc5f0\uc608                 0\n",
        "\uc5bc\uad74       -0.00520741\n",
        "\uc18d\ub3c4           4.55722\n",
        "\ub3c8           1.480758\n",
        "\ub79c\ub364          5.076401\n",
        "random             0\n",
        "\uc74c\uc2dd           1.11996\n",
        "\ubc29\ubc95          2.182495\n",
        "...\n",
        "office            0\n",
        "\uc54c\ubc14                0\n",
        "photo             0\n",
        "\ub4dc\ub77c\uc774\ube0c              0\n",
        "\ud30c\uc77c         2.363577\n",
        "\uac24\ub7ec\ub9ac               0\n",
        "\uadf8\ub8f9                0\n",
        "\ubc14\ucf54\ub4dc               0\n",
        "\uc2a4\uce90\ub108               0\n",
        "\uc18c\uc15c\ucee4\uba38\uc2a4             0\n",
        "\uc18c\uc15c         3.220041\n",
        "\uc5b4\ub978                0\n",
        "\ub178\ub798        0.9714832\n",
        "\uafb8\ubbf8\uae30               0\n",
        "\ud328\uc158         1.450289\n",
        "Name: \ubb34\ud55c \ub808\uc774\uc2f1, Length: 157, dtype: object"
       ]
      }
     ],
     "prompt_number": 72
    },
    {
     "cell_type": "code",
     "collapsed": false,
     "input": [
      "### i \uac12\uc744 \ubc14\uafb8\uba74 \uc6d0\ud558\ub294 \uc571\uc758 \ud0a4\uc6cc\ub4dc\ubcc4 PMI\ub97c \ubaa8\ub450 \ubcfc \uc218 \uc788\ub2e4. ###\n",
      "#i = 1\n",
      "#d = dftemp[i:i+1]\n",
      "#print d.index\n",
      "#for key, pmi in zip(d.columns, d.values[0]):\n",
      "#    print key, pmi"
     ],
     "language": "python",
     "metadata": {},
     "outputs": [],
     "prompt_number": 74
    },
    {
     "cell_type": "code",
     "collapsed": false,
     "input": [],
     "language": "python",
     "metadata": {},
     "outputs": [
      {
       "metadata": {},
       "output_type": "pyout",
       "prompt_number": 128,
       "text": [
        "(2766, 157)"
       ]
      }
     ],
     "prompt_number": 128
    }
   ],
   "metadata": {}
  }
 ]
}