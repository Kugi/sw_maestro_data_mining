{
 "metadata": {
  "name": ""
 },
 "nbformat": 3,
 "nbformat_minor": 0,
 "worksheets": [
  {
   "cells": [
    {
     "cell_type": "code",
     "collapsed": false,
     "input": [
      "import pgdb\n",
      "import pandas\n",
      "import pickle\n",
      "import json\n",
      "from pandas import DataFrame, Series\n",
      "from sklearn.datasets import load_svmlight_file"
     ],
     "language": "python",
     "metadata": {},
     "outputs": [],
     "prompt_number": 1
    },
    {
     "cell_type": "code",
     "collapsed": false,
     "input": [
      "# len=330600\n",
      "prof_user = pickle.load(file(\"./data/profiled_gender.pkl\"))\n",
      "prof_user.head()\n"
     ],
     "language": "python",
     "metadata": {},
     "outputs": [
      {
       "output_type": "stream",
       "stream": "stderr",
       "text": [
        "/usr/local/lib/python2.7/dist-packages/pandas/core/config.py:570: DeprecationWarning: height has been deprecated.\n",
        "\n",
        "  warnings.warn(d.msg, DeprecationWarning)\n",
        "/usr/local/lib/python2.7/dist-packages/pandas/core/config.py:570: DeprecationWarning: height has been deprecated.\n",
        "\n",
        "  warnings.warn(d.msg, DeprecationWarning)\n"
       ]
      },
      {
       "html": [
        "<div style=\"max-height:1000px;max-width:1500px;overflow:auto;\">\n",
        "<table border=\"1\" class=\"dataframe\">\n",
        "  <thead>\n",
        "    <tr style=\"text-align: right;\">\n",
        "      <th></th>\n",
        "      <th>gender</th>\n",
        "      <th>user</th>\n",
        "    </tr>\n",
        "  </thead>\n",
        "  <tbody>\n",
        "    <tr>\n",
        "      <th>0</th>\n",
        "      <td> 2</td>\n",
        "      <td> 2007318</td>\n",
        "    </tr>\n",
        "    <tr>\n",
        "      <th>1</th>\n",
        "      <td> 2</td>\n",
        "      <td> 5188098</td>\n",
        "    </tr>\n",
        "    <tr>\n",
        "      <th>2</th>\n",
        "      <td> 2</td>\n",
        "      <td> 5207032</td>\n",
        "    </tr>\n",
        "    <tr>\n",
        "      <th>3</th>\n",
        "      <td> 2</td>\n",
        "      <td> 5183947</td>\n",
        "    </tr>\n",
        "    <tr>\n",
        "      <th>4</th>\n",
        "      <td> 2</td>\n",
        "      <td> 1758743</td>\n",
        "    </tr>\n",
        "  </tbody>\n",
        "</table>\n",
        "</div>"
       ],
       "metadata": {},
       "output_type": "pyout",
       "prompt_number": 2,
       "text": [
        "   gender     user\n",
        "0       2  2007318\n",
        "1       2  5188098\n",
        "2       2  5207032\n",
        "3       2  5183947\n",
        "4       2  1758743"
       ]
      }
     ],
     "prompt_number": 2
    },
    {
     "cell_type": "code",
     "collapsed": false,
     "input": [
      "userlist = list(prof_user['user'])\n",
      "genlist = list(prof_user['gender'])\n",
      "#userlist.sort()\n",
      "prof_user_con = pandas.DataFrame(index=userlist, columns={'gender'})\n",
      "prof_user_con['gender'] = genlist\n",
      "#prof_user_con.sort_index(axis=1)\n",
      "prof_user_con.head()"
     ],
     "language": "python",
     "metadata": {},
     "outputs": [
      {
       "output_type": "stream",
       "stream": "stderr",
       "text": [
        "/usr/local/lib/python2.7/dist-packages/pandas/core/config.py:570: DeprecationWarning: height has been deprecated.\n",
        "\n",
        "  warnings.warn(d.msg, DeprecationWarning)\n",
        "/usr/local/lib/python2.7/dist-packages/pandas/core/config.py:570: DeprecationWarning: height has been deprecated.\n",
        "\n",
        "  warnings.warn(d.msg, DeprecationWarning)\n"
       ]
      },
      {
       "html": [
        "<div style=\"max-height:1000px;max-width:1500px;overflow:auto;\">\n",
        "<table border=\"1\" class=\"dataframe\">\n",
        "  <thead>\n",
        "    <tr style=\"text-align: right;\">\n",
        "      <th></th>\n",
        "      <th>gender</th>\n",
        "    </tr>\n",
        "  </thead>\n",
        "  <tbody>\n",
        "    <tr>\n",
        "      <th>2007318</th>\n",
        "      <td> 2</td>\n",
        "    </tr>\n",
        "    <tr>\n",
        "      <th>5188098</th>\n",
        "      <td> 2</td>\n",
        "    </tr>\n",
        "    <tr>\n",
        "      <th>5207032</th>\n",
        "      <td> 2</td>\n",
        "    </tr>\n",
        "    <tr>\n",
        "      <th>5183947</th>\n",
        "      <td> 2</td>\n",
        "    </tr>\n",
        "    <tr>\n",
        "      <th>1758743</th>\n",
        "      <td> 2</td>\n",
        "    </tr>\n",
        "  </tbody>\n",
        "</table>\n",
        "</div>"
       ],
       "metadata": {},
       "output_type": "pyout",
       "prompt_number": 3,
       "text": [
        "         gender\n",
        "2007318       2\n",
        "5188098       2\n",
        "5207032       2\n",
        "5183947       2\n",
        "1758743       2"
       ]
      }
     ],
     "prompt_number": 3
    },
    {
     "cell_type": "code",
     "collapsed": false,
     "input": [
      "# len=10616409\n",
      "userapp = pickle.load(file(\"./data/user_app.df\"))\n",
      "userapp.head()\n"
     ],
     "language": "python",
     "metadata": {},
     "outputs": [
      {
       "output_type": "stream",
       "stream": "stderr",
       "text": [
        "/usr/local/lib/python2.7/dist-packages/pandas/core/config.py:570: DeprecationWarning: height has been deprecated.\n",
        "\n",
        "  warnings.warn(d.msg, DeprecationWarning)\n",
        "/usr/local/lib/python2.7/dist-packages/pandas/core/config.py:570: DeprecationWarning: height has been deprecated.\n",
        "\n",
        "  warnings.warn(d.msg, DeprecationWarning)\n"
       ]
      },
      {
       "html": [
        "<div style=\"max-height:1000px;max-width:1500px;overflow:auto;\">\n",
        "<table border=\"1\" class=\"dataframe\">\n",
        "  <thead>\n",
        "    <tr style=\"text-align: right;\">\n",
        "      <th></th>\n",
        "      <th>create_date</th>\n",
        "      <th>update_date</th>\n",
        "      <th>user_id</th>\n",
        "      <th>entity_id</th>\n",
        "      <th>usage</th>\n",
        "      <th>is_deleted</th>\n",
        "    </tr>\n",
        "  </thead>\n",
        "  <tbody>\n",
        "    <tr>\n",
        "      <th>0</th>\n",
        "      <td> 20130222202059</td>\n",
        "      <td> 20130730090415</td>\n",
        "      <td> 2007318</td>\n",
        "      <td> 1612462</td>\n",
        "      <td> 0</td>\n",
        "      <td>  True</td>\n",
        "    </tr>\n",
        "    <tr>\n",
        "      <th>1</th>\n",
        "      <td> 20130311075241</td>\n",
        "      <td> 20130730090415</td>\n",
        "      <td> 2007318</td>\n",
        "      <td> 1651419</td>\n",
        "      <td> 0</td>\n",
        "      <td>  True</td>\n",
        "    </tr>\n",
        "    <tr>\n",
        "      <th>2</th>\n",
        "      <td> 20130401221208</td>\n",
        "      <td> 20130730090415</td>\n",
        "      <td> 2007318</td>\n",
        "      <td> 1522396</td>\n",
        "      <td> 0</td>\n",
        "      <td>  True</td>\n",
        "    </tr>\n",
        "    <tr>\n",
        "      <th>3</th>\n",
        "      <td> 20130604154430</td>\n",
        "      <td> 20130730144616</td>\n",
        "      <td> 5188098</td>\n",
        "      <td> 1526678</td>\n",
        "      <td> 1</td>\n",
        "      <td> False</td>\n",
        "    </tr>\n",
        "    <tr>\n",
        "      <th>4</th>\n",
        "      <td> 20130621155632</td>\n",
        "      <td> 20130730075157</td>\n",
        "      <td> 5207032</td>\n",
        "      <td> 1480116</td>\n",
        "      <td> 0</td>\n",
        "      <td>  True</td>\n",
        "    </tr>\n",
        "  </tbody>\n",
        "</table>\n",
        "</div>"
       ],
       "metadata": {},
       "output_type": "pyout",
       "prompt_number": 4,
       "text": [
        "      create_date     update_date  user_id  entity_id  usage is_deleted\n",
        "0  20130222202059  20130730090415  2007318    1612462      0       True\n",
        "1  20130311075241  20130730090415  2007318    1651419      0       True\n",
        "2  20130401221208  20130730090415  2007318    1522396      0       True\n",
        "3  20130604154430  20130730144616  5188098    1526678      1      False\n",
        "4  20130621155632  20130730075157  5207032    1480116      0       True"
       ]
      }
     ],
     "prompt_number": 4
    },
    {
     "cell_type": "code",
     "collapsed": false,
     "input": [
      "app_gender_df = pandas.read_pickle(\"./data/app_gender.df\")\n",
      "app_gender_df.head()"
     ],
     "language": "python",
     "metadata": {},
     "outputs": [
      {
       "output_type": "stream",
       "stream": "stderr",
       "text": [
        "/usr/local/lib/python2.7/dist-packages/pandas/core/config.py:570: DeprecationWarning: height has been deprecated.\n",
        "\n",
        "  warnings.warn(d.msg, DeprecationWarning)\n",
        "/usr/local/lib/python2.7/dist-packages/pandas/core/config.py:570: DeprecationWarning: height has been deprecated.\n",
        "\n",
        "  warnings.warn(d.msg, DeprecationWarning)\n"
       ]
      },
      {
       "html": [
        "<div style=\"max-height:1000px;max-width:1500px;overflow:auto;\">\n",
        "<table border=\"1\" class=\"dataframe\">\n",
        "  <thead>\n",
        "    <tr style=\"text-align: right;\">\n",
        "      <th></th>\n",
        "      <th>appid</th>\n",
        "      <th>appname</th>\n",
        "      <th>woman</th>\n",
        "      <th>man</th>\n",
        "    </tr>\n",
        "  </thead>\n",
        "  <tbody>\n",
        "    <tr>\n",
        "      <th>676983</th>\n",
        "      <td> 676983</td>\n",
        "      <td>   [\uc9c0\uc774]\uc774\uc0c1\ud615 \uc6d4\ub4dc\ucef5</td>\n",
        "      <td> 0</td>\n",
        "      <td> 0</td>\n",
        "    </tr>\n",
        "    <tr>\n",
        "      <th>676986</th>\n",
        "      <td> 676986</td>\n",
        "      <td>    [\uc9c0\uc774]\uc774\uc0c1\ud615\uc6d4\ub4dc\ucef5</td>\n",
        "      <td> 0</td>\n",
        "      <td> 0</td>\n",
        "    </tr>\n",
        "    <tr>\n",
        "      <th>677075</th>\n",
        "      <td> 677075</td>\n",
        "      <td> [\uc9c0\uc774]\uc548\ub4dc\ub85c\uac78 \uc120\ubc1c\ub300\ud68c</td>\n",
        "      <td> 0</td>\n",
        "      <td> 0</td>\n",
        "    </tr>\n",
        "    <tr>\n",
        "      <th>677128</th>\n",
        "      <td> 677128</td>\n",
        "      <td>            \uccb4\uc2a4</td>\n",
        "      <td> 0</td>\n",
        "      <td> 0</td>\n",
        "    </tr>\n",
        "    <tr>\n",
        "      <th>677167</th>\n",
        "      <td> 677167</td>\n",
        "      <td>           \uc737\ub180\uc774</td>\n",
        "      <td> 0</td>\n",
        "      <td> 0</td>\n",
        "    </tr>\n",
        "  </tbody>\n",
        "</table>\n",
        "</div>"
       ],
       "metadata": {},
       "output_type": "pyout",
       "prompt_number": 5,
       "text": [
        "         appid        appname woman man\n",
        "676983  676983    [\uc9c0\uc774]\uc774\uc0c1\ud615 \uc6d4\ub4dc\ucef5     0   0\n",
        "676986  676986     [\uc9c0\uc774]\uc774\uc0c1\ud615\uc6d4\ub4dc\ucef5     0   0\n",
        "677075  677075  [\uc9c0\uc774]\uc548\ub4dc\ub85c\uac78 \uc120\ubc1c\ub300\ud68c     0   0\n",
        "677128  677128             \uccb4\uc2a4     0   0\n",
        "677167  677167            \uc737\ub180\uc774     0   0"
       ]
      }
     ],
     "prompt_number": 5
    },
    {
     "cell_type": "code",
     "collapsed": false,
     "input": [],
     "language": "python",
     "metadata": {},
     "outputs": []
    },
    {
     "cell_type": "code",
     "collapsed": false,
     "input": [
      "def get_gender_from(entity_id):\n",
      "    userlist_df = userapp[userapp['entity_id']==entity_id]\n",
      "    \n",
      "    male=0\n",
      "    female=0\n",
      "    for idx, user in userlist_df.iterrows():\n",
      "        try:\n",
      "            gen = prof_user_con.loc[user['user_id']]\n",
      "            if gen==1: #female\n",
      "                female += 1\n",
      "            elif gen==2: #male\n",
      "                male += 1\n",
      "        except Exception, e:\n",
      "            print e\n",
      "            pass\n",
      "\n",
      "    return male, female\n",
      "\n",
      "    \n",
      "    \n",
      "    \n",
      "print get_gender_from(1839164)    \n",
      "\n",
      "entity_id_set = userapp[userapp['entity_id']==1839164]\n",
      "entity_id_set.head()"
     ],
     "language": "python",
     "metadata": {},
     "outputs": [
      {
       "output_type": "stream",
       "stream": "stdout",
       "text": [
        "(3977, 850)\n"
       ]
      },
      {
       "output_type": "stream",
       "stream": "stderr",
       "text": [
        "/usr/local/lib/python2.7/dist-packages/pandas/core/config.py:570: DeprecationWarning: height has been deprecated.\n",
        "\n",
        "  warnings.warn(d.msg, DeprecationWarning)\n",
        "/usr/local/lib/python2.7/dist-packages/pandas/core/config.py:570: DeprecationWarning: height has been deprecated.\n",
        "\n",
        "  warnings.warn(d.msg, DeprecationWarning)\n"
       ]
      },
      {
       "html": [
        "<div style=\"max-height:1000px;max-width:1500px;overflow:auto;\">\n",
        "<table border=\"1\" class=\"dataframe\">\n",
        "  <thead>\n",
        "    <tr style=\"text-align: right;\">\n",
        "      <th></th>\n",
        "      <th>create_date</th>\n",
        "      <th>update_date</th>\n",
        "      <th>user_id</th>\n",
        "      <th>entity_id</th>\n",
        "      <th>usage</th>\n",
        "      <th>is_deleted</th>\n",
        "    </tr>\n",
        "  </thead>\n",
        "  <tbody>\n",
        "    <tr>\n",
        "      <th>902 </th>\n",
        "      <td> 20130510071604</td>\n",
        "      <td> 20130730090416</td>\n",
        "      <td> 1546203</td>\n",
        "      <td> 1839164</td>\n",
        "      <td> 0</td>\n",
        "      <td> True</td>\n",
        "    </tr>\n",
        "    <tr>\n",
        "      <th>915 </th>\n",
        "      <td> 20130511145201</td>\n",
        "      <td> 20130730081434</td>\n",
        "      <td>   21871</td>\n",
        "      <td> 1839164</td>\n",
        "      <td> 0</td>\n",
        "      <td> True</td>\n",
        "    </tr>\n",
        "    <tr>\n",
        "      <th>1513</th>\n",
        "      <td> 20130518061203</td>\n",
        "      <td> 20130731091327</td>\n",
        "      <td>  265405</td>\n",
        "      <td> 1839164</td>\n",
        "      <td> 0</td>\n",
        "      <td> True</td>\n",
        "    </tr>\n",
        "    <tr>\n",
        "      <th>4243</th>\n",
        "      <td> 20130512084103</td>\n",
        "      <td> 20130730041213</td>\n",
        "      <td> 2391532</td>\n",
        "      <td> 1839164</td>\n",
        "      <td> 0</td>\n",
        "      <td> True</td>\n",
        "    </tr>\n",
        "    <tr>\n",
        "      <th>4718</th>\n",
        "      <td> 20130508193436</td>\n",
        "      <td> 20130730090425</td>\n",
        "      <td> 1615937</td>\n",
        "      <td> 1839164</td>\n",
        "      <td> 0</td>\n",
        "      <td> True</td>\n",
        "    </tr>\n",
        "  </tbody>\n",
        "</table>\n",
        "</div>"
       ],
       "metadata": {},
       "output_type": "pyout",
       "prompt_number": 6,
       "text": [
        "         create_date     update_date  user_id  entity_id  usage is_deleted\n",
        "902   20130510071604  20130730090416  1546203    1839164      0       True\n",
        "915   20130511145201  20130730081434    21871    1839164      0       True\n",
        "1513  20130518061203  20130731091327   265405    1839164      0       True\n",
        "4243  20130512084103  20130730041213  2391532    1839164      0       True\n",
        "4718  20130508193436  20130730090425  1615937    1839164      0       True"
       ]
      }
     ],
     "prompt_number": 6
    },
    {
     "cell_type": "code",
     "collapsed": false,
     "input": [
      "entity_id_set = userapp['entity_id'].unique()\n",
      "print len(entity_id_set)\n",
      "entity_id_set"
     ],
     "language": "python",
     "metadata": {},
     "outputs": [
      {
       "output_type": "stream",
       "stream": "stdout",
       "text": [
        "105516\n"
       ]
      },
      {
       "metadata": {},
       "output_type": "pyout",
       "prompt_number": 41,
       "text": [
        "array([1612462, 1651419, 1522396, ..., 1666958, 1623434, 1617927])"
       ]
      }
     ],
     "prompt_number": 41
    },
    {
     "cell_type": "code",
     "collapsed": false,
     "input": [
      "for idx in range(0, entity_id_set.size):\n",
      "    try:\n",
      "        woman, man = get_gender_from(entity_id_set[idx])\n",
      "        app_gender_df.loc[entity_id_set[idx], 'woman'] = woman\n",
      "        app_gender_df.loc[entity_id_set[idx], 'man'] = man\n",
      "        if idx%20==0:\n",
      "            print idx, woman, man\n",
      "    except Exception, e:\n",
      "        print e\n",
      "        #print idx"
     ],
     "language": "python",
     "metadata": {},
     "outputs": [
      {
       "output_type": "stream",
       "stream": "stdout",
       "text": [
        "0 164 138\n",
        "20"
       ]
      },
      {
       "output_type": "stream",
       "stream": "stdout",
       "text": [
        " 9005 4105\n",
        "40"
       ]
      },
      {
       "output_type": "stream",
       "stream": "stdout",
       "text": [
        " 13248 7038\n",
        "60"
       ]
      },
      {
       "output_type": "stream",
       "stream": "stdout",
       "text": [
        " 1149 180\n",
        "80"
       ]
      },
      {
       "output_type": "stream",
       "stream": "stdout",
       "text": [
        " 1769 672\n",
        "100"
       ]
      },
      {
       "output_type": "stream",
       "stream": "stdout",
       "text": [
        " 5605 4581\n",
        "120"
       ]
      },
      {
       "output_type": "stream",
       "stream": "stdout",
       "text": [
        " 6144 1687\n",
        "140"
       ]
      },
      {
       "output_type": "stream",
       "stream": "stdout",
       "text": [
        " 695 135\n",
        "160"
       ]
      },
      {
       "output_type": "stream",
       "stream": "stdout",
       "text": [
        " 483 202\n",
        "180"
       ]
      },
      {
       "output_type": "stream",
       "stream": "stdout",
       "text": [
        " 583 116\n",
        "200"
       ]
      },
      {
       "output_type": "stream",
       "stream": "stdout",
       "text": [
        " 1284 807\n",
        "220"
       ]
      },
      {
       "output_type": "stream",
       "stream": "stdout",
       "text": [
        " 45 16\n",
        "240"
       ]
      },
      {
       "output_type": "stream",
       "stream": "stdout",
       "text": [
        " 113 28\n",
        "260"
       ]
      },
      {
       "output_type": "stream",
       "stream": "stdout",
       "text": [
        " 20 7\n",
        "280"
       ]
      },
      {
       "output_type": "stream",
       "stream": "stdout",
       "text": [
        " 1287 97\n",
        "300"
       ]
      },
      {
       "output_type": "stream",
       "stream": "stdout",
       "text": [
        " 6275 5486\n",
        "320"
       ]
      },
      {
       "output_type": "stream",
       "stream": "stdout",
       "text": [
        " 19 6\n",
        "340"
       ]
      },
      {
       "output_type": "stream",
       "stream": "stdout",
       "text": [
        " 183 85\n",
        "360"
       ]
      },
      {
       "output_type": "stream",
       "stream": "stdout",
       "text": [
        " 43 22\n",
        "380"
       ]
      },
      {
       "output_type": "stream",
       "stream": "stdout",
       "text": [
        " 1336 544\n",
        "400"
       ]
      },
      {
       "output_type": "stream",
       "stream": "stdout",
       "text": [
        " 1737 727\n",
        "420"
       ]
      }
     ],
     "prompt_number": "*"
    },
    {
     "cell_type": "code",
     "collapsed": false,
     "input": [
      "#gen = prof_user_con.loc[2007318]\n",
      "#print generapp['entity_id'])\n",
      "for idx, ua in entity_id_set.iterrows():\n",
      "    try:\n",
      "        gen = prof_user_con.loc[ua['user_id']]\n",
      "        if gen==1: #female\n",
      "            app_gender_df.loc[ua['entity_id'], 'woman'] += 1\n",
      "        elif gen==2: #male\n",
      "            app_gender_df.loc[ua['entity_id'], 'man'] += 1\n",
      "    except Exception, e:\n",
      "        print e\n",
      "        pass\n",
      "    \n",
      "    #print idx\n",
      "    if idx%1000 == 0:\n",
      "        print idx\n",
      "        \n",
      "\n",
      "app_gender_df.to_pickle(\"./data/app_gender_filled.df\")\n",
      "app_gender_df.head()"
     ],
     "language": "python",
     "metadata": {},
     "outputs": [
      {
       "ename": "AttributeError",
       "evalue": "'numpy.ndarray' object has no attribute 'iterrows'",
       "output_type": "pyerr",
       "traceback": [
        "\u001b[1;31m---------------------------------------------------------------------------\u001b[0m\n\u001b[1;31mAttributeError\u001b[0m                            Traceback (most recent call last)",
        "\u001b[1;32m<ipython-input-14-e06fb408faa4>\u001b[0m in \u001b[0;36m<module>\u001b[1;34m()\u001b[0m\n\u001b[0;32m      1\u001b[0m \u001b[1;31m#gen = prof_user_con.loc[2007318]\u001b[0m\u001b[1;33m\u001b[0m\u001b[1;33m\u001b[0m\u001b[0m\n\u001b[0;32m      2\u001b[0m \u001b[1;31m#print generapp['entity_id'])\u001b[0m\u001b[1;33m\u001b[0m\u001b[1;33m\u001b[0m\u001b[0m\n\u001b[1;32m----> 3\u001b[1;33m \u001b[1;32mfor\u001b[0m \u001b[0midx\u001b[0m\u001b[1;33m,\u001b[0m \u001b[0mua\u001b[0m \u001b[1;32min\u001b[0m \u001b[0mentity_id_set\u001b[0m\u001b[1;33m.\u001b[0m\u001b[0miterrows\u001b[0m\u001b[1;33m(\u001b[0m\u001b[1;33m)\u001b[0m\u001b[1;33m:\u001b[0m\u001b[1;33m\u001b[0m\u001b[0m\n\u001b[0m\u001b[0;32m      4\u001b[0m     \u001b[1;32mtry\u001b[0m\u001b[1;33m:\u001b[0m\u001b[1;33m\u001b[0m\u001b[0m\n\u001b[0;32m      5\u001b[0m         \u001b[0mgen\u001b[0m \u001b[1;33m=\u001b[0m \u001b[0mprof_user_con\u001b[0m\u001b[1;33m.\u001b[0m\u001b[0mloc\u001b[0m\u001b[1;33m[\u001b[0m\u001b[0mua\u001b[0m\u001b[1;33m[\u001b[0m\u001b[1;34m'user_id'\u001b[0m\u001b[1;33m]\u001b[0m\u001b[1;33m]\u001b[0m\u001b[1;33m\u001b[0m\u001b[0m\n",
        "\u001b[1;31mAttributeError\u001b[0m: 'numpy.ndarray' object has no attribute 'iterrows'"
       ]
      }
     ],
     "prompt_number": 14
    },
    {
     "cell_type": "code",
     "collapsed": false,
     "input": [
      "app_gender_df.head()"
     ],
     "language": "python",
     "metadata": {},
     "outputs": []
    }
   ],
   "metadata": {}
  }
 ]
}