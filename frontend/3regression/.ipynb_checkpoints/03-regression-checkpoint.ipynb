{
 "metadata": {
  "name": ""
 },
 "nbformat": 3,
 "nbformat_minor": 0,
 "worksheets": [
  {
   "cells": [
    {
     "cell_type": "heading",
     "level": 6,
     "metadata": {},
     "source": [
      "\uc774\ubc88\uc8fc \uc9c4\ud589\ud558\uba74\uc11c \uc758\ubb38\uc774 \ub4e4\uc5c8\ub358 \uc810. "
     ]
    },
    {
     "cell_type": "markdown",
     "metadata": {},
     "source": [
      "1. .df \ud30c\uc77c\uc5d0 \uc788\ub294 user_id\ub791 .dat \ud30c\uc77c\uc744 \uc5f0\uacb0 \uc2dc\ud0ac \uc218\uac00 \uc5c6\uc5c8\uc74c...\n",
      "    1. -> \ubaa8\ub4e0 \uc0ac\ub78c\uc758 \ud504\ub85c\ud30c\uc77c\uc744 \ub9cc\ub4e4 \uc218 \uc5c6\uc73c\ub2c8 \uc0dd\uae34 \ubb38\uc81c. \ub0a9\ub4dd\ud588\uc74c.\n",
      "2. user_age.dat\uc5d0 \uc774\uc0c1\ud55c \uac12\ub4e4\uc774 \uc788\uc74c.\n",
      "    1. -2 -> 1\ud68c, -1 -> 2\ud68c, 0 -> 9\ud68c, 11-> 8\ubc88\uc815\ub3c4?\n",
      "    2. \uc124\ubb38 \uc751\ub2f5\uc790\ub4e4\uc774 \uc7a5\ub09c\uce5c\uac70\ub77c \ud310\ub2e8\ud558\uae30\ub85c \ud558\uace0 \ubb34\uc2dc\ud558\uae30\ub85c \ud588\uc74c. \uadfc\ub370 -\uac12\uc740 \ubb50\uc9c0....?\n",
      "3. \ucc98\uc74c\uc5d0 \"\uc22b\uc790-\uc22b\uc790\"\ub85c \uadf8\ub798\ud504 \uadf8\ub9b0\ub2e4\uace0 \uc0dd\uac01\ud574\uc11c \"\uc5b4\ud50c \uc0ac\uc6a9 \ube48\ub3c4 - \ub098\uc774\"\ub97c \uc8fc\uc81c\ub85c \uc0bc\uc558\uc73c\ub098...\n",
      "    1. \uc0dd\uac01 \ud574\ubcf4\ub2c8 \ub098\uc774\ub97c \uc0ac\uc6a9\ud558\uba74 \uacbd\ud5a5\uc131\uc774 \uc5c6\ub2e4. (\ub098\uc774\uc5d0 \ube44\ub840\ud558\ub294 \uc815\ubcf4\uac00 \uc788\uc744\ub9ac \uc5c6\uc74c;)\n",
      "    2. \uc571 \uc0ac\uc6a9 \ube48\ub3c4\ub97c \ub0b4\uac00 \uc6d0\ud558\ub294 \ubaa8\uc591\uc73c\ub85c \ub9cc\ub4dc\ub294\ub370 \ub108\ubb34 \uc624\ub798 \uac78\ub9bc. (\uc5b4\ub5a4 \ub370\uc774\ud130\ub97c \uc4f0\ub358\uac04\uc5d0)\n",
      "4. ... \uadf8\ub798\uc11c \uc8fc\uc81c\ub97c \ubc14\uafd4\ubcf4\ub824 \ud588\uc73c\ub098 \ub108\ubb34 \ud798\ub4ec \u3160\u3160\n",
      "    1. \ud574\ubcfc\ub9cc\ud55c \uc8fc\uc81c\ub97c \uc7a1\uc73c\uba74 \ub370\uc774\ud130\uac00 \uc5c6\uc74c.\n",
      "    2. \uc5b4\ud50c \uac00\uaca9 \uc5c6\uc74c, \uc5b4\ud50c\uc774 \uc0b4\uc544\uc788\ub294 \uae30\uac04 \ubabb \uad6c\ud568\n",
      "        1. update_date\uac00 \uacc4\uc18d \uac31\uc2e0\ub418\uc11c \uc0ad\uc81c \ub0a0\uc9dc \ucd94\uc815\ub3c4 \ubabb \ud568. \n",
      "5. \uacb0\uad6d \uc758\ubbf8 \uc5c6\uc5b4 \ubcf4\uc774\uc9c0\ub9cc \ud68c\uae30\ubd84\uc11d\uc73c\ub85c \uc4f8 \uc218 \uc788\uc744 \ub9cc\ud55c \uc790\ub8cc \ucc3e\uc74c.\n",
      "    1. \uadf8\ub7f0\ub370 \ucc3e\uace0\ub098\uc11c \uc790\ub8cc \ub2e4 \uc815\ub9ac\ud574\uc11c \ubf51\uc544\ub0b4\ub2c8, \uc0dd\uac01\ud588\ub358 \uac83\uacfc \ub2e4\ub978\uc810\uc774 \ub9ce\uc558\uc74c.\n",
      "    2. \uc8fc\uc81c\ub97c \uc815\ud558\ub294\ub370 \uc5b4\ub824\uc6b4 \uc810\uc774\uc5c8\ub358, \uc54c\uace0\uc2f6\uc740 \ub370\uc774\ud130\uc640 \uc5f0\uad00\uc774 \uc788\uc744 \uac83 \uac19\uc740 \ud2b9\uc131(x\ucd95)\uc744 \uc9c1\uc811 \uc815\ud560 \ud544\uc694 \uc870\ucc28 \uc5c6\uc5c8\ub358 \uac83.\n",
      "    3. \uc774\ub807\uac8c \ud3b8\ud574\ub3c4 \ub418\ub294 \uac81\ub2c8\uae4c?... \ubb50 \ud3b8\ud55c\uac8c \uc88b\uc740\uac70\uc9c0\ub9cc\uc694.\n"
     ]
    },
    {
     "cell_type": "heading",
     "level": 6,
     "metadata": {},
     "source": [
      "regression \uc8fc\uc81c.  "
     ]
    },
    {
     "cell_type": "markdown",
     "metadata": {},
     "source": [
      "app_info.score = 100\uc810 \ub9cc\uc810\uc758 \ud3c9\uc810.  \n",
      "app_info.date = '\uc77c\uce58 \uc548\ud558\ub294 \uac83 \uac19\uc9c0\ub9cc' \uc2a4\ud1a0\uc5b4\uc5d0 \uc571\uc774 \ub4f1\uc7a5\ud55c \uc2dc\uae30.  \n",
      "  \n",
      "\uc2a4\ud1a0\uc5b4 \ub4f1\ub85d\uae30\uac04\uacfc \ud3c9\uc810\uc758 \uad00\uacc4. (\ud560\uac8c \uc774\uac70\ubc16\uc5d0 \uc5c6\ub2e4!! \uc288\ubc14)  "
     ]
    },
    {
     "cell_type": "heading",
     "level": 1,
     "metadata": {},
     "source": [
      "Regression  "
     ]
    },
    {
     "cell_type": "code",
     "collapsed": false,
     "input": [
      "%pylab inline"
     ],
     "language": "python",
     "metadata": {},
     "outputs": [
      {
       "output_type": "stream",
       "stream": "stdout",
       "text": [
        "Populating the interactive namespace from numpy and matplotlib\n"
       ]
      },
      {
       "output_type": "stream",
       "stream": "stderr",
       "text": [
        "WARNING: pylab import has clobbered these variables: ['clf']\n",
        "`%pylab --no-import-all` prevents importing * from pylab and numpy\n"
       ]
      }
     ],
     "prompt_number": 2
    },
    {
     "cell_type": "code",
     "collapsed": false,
     "input": [
      "import numpy as np\n",
      "import pylab as pl\n",
      "import pandas as pd\n",
      "from pandas import DataFrame, Series\n",
      "\n",
      "pl.rcParams['figure.figsize'] = 10, 7.5\n",
      "pl.rcParams['axes.grid'] = True\n",
      "pl.gray()"
     ],
     "language": "python",
     "metadata": {},
     "outputs": [
      {
       "metadata": {},
       "output_type": "display_data",
       "text": [
        "<matplotlib.figure.Figure at 0x10848d0d0>"
       ]
      }
     ],
     "prompt_number": 3
    },
    {
     "cell_type": "markdown",
     "metadata": {},
     "source": [
      " \uae30\ubcf8\uc801\uc73c\ub85c \ubd88\ub7ec\uc640\uc57c \ud560 \ubaa8\ub4c8\ub4e4 \ud638\ucd9c. "
     ]
    },
    {
     "cell_type": "code",
     "collapsed": false,
     "input": [
      "app_info = pd.load(\"data/app_info.df\")\n",
      "trimed_app_info = app_info.loc[:,['date','update_date','score','size','company_id']] # \uc22b\uc790\ub9cc \uac00\uc838 \uc634. id \uc81c\uc678.\n",
      "no_NaN_company_id_index = trimed_app_info.company_id.dropna().index\n",
      "trimed_app_info = trimed_app_info.reindex(index=no_NaN_company_id_index) # company_id\uc758 NaN\uac12 \ubc30\uc81c.\n",
      "no_NaN_update_date_index = trimed_app_info.update_date.dropna().index\n",
      "trimed_app_info = trimed_app_info.reindex(index=no_NaN_update_date_index) # update_date\uc758 NaN\uac12 \ubc30\uc81c.\n",
      "print trimed_app_info\n",
      "trimed_app_info.head(4)"
     ],
     "language": "python",
     "metadata": {},
     "outputs": [
      {
       "ename": "IOError",
       "evalue": "[Errno 2] No such file or directory: 'data/app_info.df'",
       "output_type": "pyerr",
       "traceback": [
        "\u001b[0;31m---------------------------------------------------------------------------\u001b[0m\n\u001b[0;31mIOError\u001b[0m                                   Traceback (most recent call last)",
        "\u001b[0;32m<ipython-input-4-74f7cd22c93d>\u001b[0m in \u001b[0;36m<module>\u001b[0;34m()\u001b[0m\n\u001b[0;32m----> 1\u001b[0;31m \u001b[0mapp_info\u001b[0m \u001b[0;34m=\u001b[0m \u001b[0mpd\u001b[0m\u001b[0;34m.\u001b[0m\u001b[0mload\u001b[0m\u001b[0;34m(\u001b[0m\u001b[0;34m\"data/app_info.df\"\u001b[0m\u001b[0;34m)\u001b[0m\u001b[0;34m\u001b[0m\u001b[0m\n\u001b[0m\u001b[1;32m      2\u001b[0m \u001b[0mtrimed_app_info\u001b[0m \u001b[0;34m=\u001b[0m \u001b[0mapp_info\u001b[0m\u001b[0;34m.\u001b[0m\u001b[0mloc\u001b[0m\u001b[0;34m[\u001b[0m\u001b[0;34m:\u001b[0m\u001b[0;34m,\u001b[0m\u001b[0;34m[\u001b[0m\u001b[0;34m'date'\u001b[0m\u001b[0;34m,\u001b[0m\u001b[0;34m'update_date'\u001b[0m\u001b[0;34m,\u001b[0m\u001b[0;34m'score'\u001b[0m\u001b[0;34m,\u001b[0m\u001b[0;34m'size'\u001b[0m\u001b[0;34m,\u001b[0m\u001b[0;34m'company_id'\u001b[0m\u001b[0;34m]\u001b[0m\u001b[0;34m]\u001b[0m \u001b[0;31m# \uc22b\uc790\ub9cc \uac00\uc838 \uc634. id \uc81c\uc678.\u001b[0m\u001b[0;34m\u001b[0m\u001b[0m\n\u001b[1;32m      3\u001b[0m \u001b[0mno_NaN_company_id_index\u001b[0m \u001b[0;34m=\u001b[0m \u001b[0mtrimed_app_info\u001b[0m\u001b[0;34m.\u001b[0m\u001b[0mcompany_id\u001b[0m\u001b[0;34m.\u001b[0m\u001b[0mdropna\u001b[0m\u001b[0;34m(\u001b[0m\u001b[0;34m)\u001b[0m\u001b[0;34m.\u001b[0m\u001b[0mindex\u001b[0m\u001b[0;34m\u001b[0m\u001b[0m\n\u001b[1;32m      4\u001b[0m \u001b[0mtrimed_app_info\u001b[0m \u001b[0;34m=\u001b[0m \u001b[0mtrimed_app_info\u001b[0m\u001b[0;34m.\u001b[0m\u001b[0mreindex\u001b[0m\u001b[0;34m(\u001b[0m\u001b[0mindex\u001b[0m\u001b[0;34m=\u001b[0m\u001b[0mno_NaN_company_id_index\u001b[0m\u001b[0;34m)\u001b[0m \u001b[0;31m# company_id\uc758 NaN\uac12 \ubc30\uc81c.\u001b[0m\u001b[0;34m\u001b[0m\u001b[0m\n\u001b[1;32m      5\u001b[0m \u001b[0mno_NaN_update_date_index\u001b[0m \u001b[0;34m=\u001b[0m \u001b[0mtrimed_app_info\u001b[0m\u001b[0;34m.\u001b[0m\u001b[0mupdate_date\u001b[0m\u001b[0;34m.\u001b[0m\u001b[0mdropna\u001b[0m\u001b[0;34m(\u001b[0m\u001b[0;34m)\u001b[0m\u001b[0;34m.\u001b[0m\u001b[0mindex\u001b[0m\u001b[0;34m\u001b[0m\u001b[0m\n",
        "\u001b[0;32m/Users/jeongmingi/anaconda/python.app/Contents/lib/python2.7/site-packages/pandas/core/common.pyc\u001b[0m in \u001b[0;36mload\u001b[0;34m(path)\u001b[0m\n\u001b[1;32m   1582\u001b[0m     \"\"\"\n\u001b[1;32m   1583\u001b[0m     \u001b[0;32mtry\u001b[0m\u001b[0;34m:\u001b[0m\u001b[0;34m\u001b[0m\u001b[0m\n\u001b[0;32m-> 1584\u001b[0;31m         \u001b[0;32mwith\u001b[0m \u001b[0mopen\u001b[0m\u001b[0;34m(\u001b[0m\u001b[0mpath\u001b[0m\u001b[0;34m,\u001b[0m\u001b[0;34m'rb'\u001b[0m\u001b[0;34m)\u001b[0m \u001b[0;32mas\u001b[0m \u001b[0mfh\u001b[0m\u001b[0;34m:\u001b[0m\u001b[0;34m\u001b[0m\u001b[0m\n\u001b[0m\u001b[1;32m   1585\u001b[0m             \u001b[0;32mreturn\u001b[0m \u001b[0mpickle\u001b[0m\u001b[0;34m.\u001b[0m\u001b[0mload\u001b[0m\u001b[0;34m(\u001b[0m\u001b[0mfh\u001b[0m\u001b[0;34m)\u001b[0m\u001b[0;34m\u001b[0m\u001b[0m\n\u001b[1;32m   1586\u001b[0m     \u001b[0;32mexcept\u001b[0m\u001b[0;34m:\u001b[0m\u001b[0;34m\u001b[0m\u001b[0m\n",
        "\u001b[0;31mIOError\u001b[0m: [Errno 2] No such file or directory: 'data/app_info.df'"
       ]
      }
     ],
     "prompt_number": 4
    },
    {
     "cell_type": "markdown",
     "metadata": {},
     "source": [
      "regression\uc744 \uc704\ud574 \uc22b\uc790\ub85c \ubcc0\ud658 \ud560 \uc218 \uc788\ub294 \ub370\uc774\ud130\ub9cc \ub0a8\uaca8 \ub193\uace0, NaN\uc774 \ub4e4\uc5b4\uac00\ub294 index\ub3c4 \ubc30\uc81c.  "
     ]
    },
    {
     "cell_type": "code",
     "collapsed": false,
     "input": [
      "trimed_app_info.update_date = trimed_app_info.update_date//1000000\n",
      "trimed_app_info.head(4)"
     ],
     "language": "python",
     "metadata": {},
     "outputs": []
    },
    {
     "cell_type": "markdown",
     "metadata": {},
     "source": [
      "date\uc640 update_date\uc758 \ud06c\uae30\uac00 \ub2e4\ub978 \uac83\uc744 \ub9de\ucda4.  "
     ]
    },
    {
     "cell_type": "code",
     "collapsed": false,
     "input": [
      "trimed_app_info.hist() \n",
      "#pl.hist(y, bins=12, range=(0,12)) # \ubaa8\ub4e0 \ubc94\uc704 \ucee4\ubc84. 12\uac00 \uc788\ub294 \ub4ef."
     ],
     "language": "python",
     "metadata": {},
     "outputs": []
    },
    {
     "cell_type": "markdown",
     "metadata": {},
     "source": [
      "\uac00\uacf5\ub41c, \uc0ac\uc6a9\ud560 \uc790\ub8cc\uc758 \ud788\uc2a4\ud1a0\uadf8\ub7a8.  \uc88b\uc740 regression\uc774 \uc548\ub098\uc62c \uac83 \uac19\uc740 \ubaa8\uc591\uc774\ub2e4..."
     ]
    },
    {
     "cell_type": "heading",
     "level": 3,
     "metadata": {},
     "source": [
      "\uc2a4\ud1a0\uc5b4 \ucd9c\ud604 \uc774\ud6c4 \uc2dc\uae30\ub97c \uad6c\ud558\ub294 \ud568\uc218"
     ]
    },
    {
     "cell_type": "code",
     "collapsed": false,
     "input": [
      "from datetime import datetime\n",
      "\n",
      "def day(u):\n",
      "    return datetime.strptime('%d/%d/%d'%(u%100,u%10000/100,u/10000), '%d/%m/%Y')\n",
      "\n",
      "def aliveDay(s_update,s_date):\n",
      "    s_new = [(day(u)-day(d)).days for u, d in zip(s_update,s_date)]\n",
      "    return Series(name='aliveDays',dtype=int, data=s_new, index=s_update.index)"
     ],
     "language": "python",
     "metadata": {},
     "outputs": []
    },
    {
     "cell_type": "markdown",
     "metadata": {},
     "source": [
      "\uc774\uac78 \ub9cc\ub4dc\ub290\ub77c DataFrame, Series, python for\ubb38\uc5d0 \ub300\ud574 \uc880 \ub354 \uc798 \uc54c\uac8c \ub418\uc5c8\uc74c. "
     ]
    },
    {
     "cell_type": "heading",
     "level": 3,
     "metadata": {},
     "source": [
      "\ucd9c\ud604\uc774\ud6c4 \uc2dc\uae30 - \ud3c9\uac00 \uc810\uc218\uc758 \uc5f0\uad00\uc131 "
     ]
    },
    {
     "cell_type": "code",
     "collapsed": false,
     "input": [
      "day_calc_app_info = trimed_app_info.copy()\n",
      "su = day_calc_app_info.pop('update_date')\n",
      "sd = day_calc_app_info.pop('date')\n",
      "sa = aliveDay(su,sd)\n",
      "day_calc_app_info.insert(0,sa.name,sa)"
     ],
     "language": "python",
     "metadata": {},
     "outputs": []
    },
    {
     "cell_type": "code",
     "collapsed": false,
     "input": [
      "plt.scatter(day_calc_app_info.aliveDays,day_calc_app_info.score)"
     ],
     "language": "python",
     "metadata": {},
     "outputs": []
    },
    {
     "cell_type": "markdown",
     "metadata": {},
     "source": [
      "\ucc98\uc74c\uc5d0 \uc0dd\uac01\ud588\ub358, \uc5b4\ud50c\uc774 \uc2a4\ud1a0\uc5b4\uc5d0 \uc62c\ub77c\uc628 \uc774\ud6c4 \uacbd\uacfc\ud55c \uc2dc\uac04 - \ud3c9\uac00 \uc810\uc218\uc758 \uc0c1\uad00 \uad00\uacc4\ub97c \uc54c\uc544\ubcf4\uae30 \uc704\ud574 \ucc0d\uc5b4 \ubcf8 \ubd84\ud3ec\ub3c4.  \n",
      "\ud55c 700\uc77c \uc774\uc804\uc5d0\ub294 \uc804\ud600 \uc5f0\uad00\uc774 \uc5c6\uc5b4 \ubcf4\uc774\uace0, 700\uc774\ud6c4\uc5d0\ub3c4 \ubb54\uac00 \uc758\ubbf8 \uc788\ub294 \uac12\uc744 \ubf51\uae30 \uc704\ud574\uc11c\ub294 \ub108\ubb34 \uc57d\ud55c \uc5f0\uad00\uc131\uc774 \uc788\ub294 \uac83 \uac19\ub2e4.  "
     ]
    },
    {
     "cell_type": "heading",
     "level": 2,
     "metadata": {},
     "source": [
      "\ucd9c\ud604 \uc774\ud6c4 - \ud3c9\uac00 \uc810\uc218 : LinearRegression"
     ]
    },
    {
     "cell_type": "code",
     "collapsed": false,
     "input": [
      "from sklearn.linear_model import LinearRegression\n",
      "\n",
      "clf = LinearRegression()\n",
      "X,y =day_calc_app_info.aliveDays.dropna(),day_calc_app_info.score\n",
      "y = y.reindex(index=X.index)\n",
      "X = DataFrame(X)    # \uc774 \ubd80\ubd84\uc5d0\uc11c \uc5ec\ud0dc\uae4c\uc9c0 \ubb54\uac00 \uc798\ubabb\ud558\uace0 \uc788\uc5c8\ub2e4\ub294 \uac83\uc744 \uae68\ub2ec\uc74c.\n",
      "\n",
      "clf.fit(X,y) # fit(attribut, label)\n",
      "\n",
      "predicted = clf.predict(X)\n",
      "\n",
      "plt.scatter(y, predicted)\n",
      "plt.plot([0, 100], [0, 100], '--k')\n",
      "plt.axis('tight')\n",
      "plt.xlabel('True score')\n",
      "plt.ylabel('Predicted score')"
     ],
     "language": "python",
     "metadata": {},
     "outputs": []
    },
    {
     "cell_type": "markdown",
     "metadata": {},
     "source": [
      "\uc704\uc5d0\uc11c \uc608\uc0c1\ud55c \ub300\ub85c \ubcc4\ub85c \uc0c1\uad00\uc774 \uc5c6\uc74c\uc744 \uc54c \uc218 \uc788\uc5c8\ub2e4.  "
     ]
    },
    {
     "cell_type": "heading",
     "level": 2,
     "metadata": {},
     "source": [
      "\ucd9c\ud604 \uc774\ud6c4 - \ud3c9\uac00 \uc810\uc218 : DecisionTreeRegressor  "
     ]
    },
    {
     "cell_type": "code",
     "collapsed": false,
     "input": [
      "from sklearn.tree import DecisionTreeRegressor\n",
      "# Instantiate the model, fit the results, and scatter in vs. out\n",
      "\n",
      "clf = DecisionTreeRegressor()\n",
      "\n",
      "X,y =day_calc_app_info.aliveDays.dropna(),day_calc_app_info.score\n",
      "y = y.reindex(index=X.index)\n",
      "X = DataFrame(X)\n",
      "clf.fit(X,y) # fit(attribut, label)\n",
      "\n",
      "predicted = clf.predict(X)\n",
      "\n",
      "plt.scatter(y, predicted)\n",
      "plt.plot([0, 100], [0, 100], '--k')\n",
      "plt.axis('tight')\n",
      "plt.xlabel('True score')\n",
      "plt.ylabel('Predicted score')"
     ],
     "language": "python",
     "metadata": {},
     "outputs": []
    },
    {
     "cell_type": "markdown",
     "metadata": {},
     "source": [
      "\ud29c\ud1a0\ub9ac\uc5bc\uc5d0\uc120 DecisionTreeRegressor\uac00 \ub354 \uc88b\uc740 \uc131\ub2a5\uc744 \ubcf4\uc5ec \uc92c\uc73c\ub098 \ud2b9\uc131\uc744 1\uac00\uc9c0\ub9cc \uc8fc\uace0 \ud558\ub2c8 LinearRegressor\ubcf4\ub2e4 \ub354 \uc548 \uc88b\uc740 \uacb0\uacfc\uac00 \ub098\uc654\ub2e4.  "
     ]
    },
    {
     "cell_type": "heading",
     "level": 2,
     "metadata": {},
     "source": [
      "trimmed_app_info - \ud3c9\uac00 \uc810\uc218  : LinearRegressor"
     ]
    },
    {
     "cell_type": "markdown",
     "metadata": {},
     "source": [
      "\uc704\uc758 \uc2dc\ud589\ucc29\uc624\uc5d0\uc11c \uae68\ub2f3\uc740 \ubc14\uac00 \uc788\uc5b4, Regressor\uc5d0 DataFrame\uc744 \ud1b5\uc9f8\ub85c \ub118\uaca8 \ubcf4\uc558\ub2e4.  \n",
      "\ud29c\ud1a0\ub9ac\uc5bc\uc5d0\uc11c\ub294 Bunch\ub77c\ub294 \uc790\ub8cc\ud615\uc744 \uc4f0\uace0, Regressor\uc5d0\ub294 2d-ndarray\ub97c \ub118\uaca8\uc92c\uc5c8\ub294\ub370, \n",
      "DataFrame\ub3c4 \ubb34\ub9ac \uc5c6\uc774 \uc798 \uc0ac\uc6a9\ud558\ub354\ub77c. python\uc740 \uc5c4\uccad \ud3b8\ub9ac\ud55c \uac83 \uac19\ub2e4.  "
     ]
    },
    {
     "cell_type": "code",
     "collapsed": false,
     "input": [
      "from sklearn.linear_model import LinearRegression\n",
      "\n",
      "clf = LinearRegression()\n",
      "\n",
      "temp = trimed_app_info.copy()\n",
      "\n",
      "y = temp.pop('score')\n",
      "X = temp\n",
      "clf.fit(X,y) # fit(attribut, label)\n",
      "\n",
      "predicted = clf.predict(X)\n",
      "\n",
      "plt.scatter(y, predicted)\n",
      "plt.plot([0, 100], [0, 100], '--k')\n",
      "plt.axis('tight')\n",
      "plt.xlabel('True score')\n",
      "plt.ylabel('Predicted score')"
     ],
     "language": "python",
     "metadata": {},
     "outputs": [
      {
       "ename": "NameError",
       "evalue": "name 'trimed_app_info' is not defined",
       "output_type": "pyerr",
       "traceback": [
        "\u001b[0;31m---------------------------------------------------------------------------\u001b[0m\n\u001b[0;31mNameError\u001b[0m                                 Traceback (most recent call last)",
        "\u001b[0;32m<ipython-input-5-2772b6db5599>\u001b[0m in \u001b[0;36m<module>\u001b[0;34m()\u001b[0m\n\u001b[1;32m      3\u001b[0m \u001b[0mclf\u001b[0m \u001b[0;34m=\u001b[0m \u001b[0mLinearRegression\u001b[0m\u001b[0;34m(\u001b[0m\u001b[0;34m)\u001b[0m\u001b[0;34m\u001b[0m\u001b[0m\n\u001b[1;32m      4\u001b[0m \u001b[0;34m\u001b[0m\u001b[0m\n\u001b[0;32m----> 5\u001b[0;31m \u001b[0mtemp\u001b[0m \u001b[0;34m=\u001b[0m \u001b[0mtrimed_app_info\u001b[0m\u001b[0;34m.\u001b[0m\u001b[0mcopy\u001b[0m\u001b[0;34m(\u001b[0m\u001b[0;34m)\u001b[0m\u001b[0;34m\u001b[0m\u001b[0m\n\u001b[0m\u001b[1;32m      6\u001b[0m \u001b[0;34m\u001b[0m\u001b[0m\n\u001b[1;32m      7\u001b[0m \u001b[0my\u001b[0m \u001b[0;34m=\u001b[0m \u001b[0mtemp\u001b[0m\u001b[0;34m.\u001b[0m\u001b[0mpop\u001b[0m\u001b[0;34m(\u001b[0m\u001b[0;34m'score'\u001b[0m\u001b[0;34m)\u001b[0m\u001b[0;34m\u001b[0m\u001b[0m\n",
        "\u001b[0;31mNameError\u001b[0m: name 'trimed_app_info' is not defined"
       ]
      }
     ],
     "prompt_number": 5
    },
    {
     "cell_type": "markdown",
     "metadata": {},
     "source": [
      "\uc2dc\ud589\ucc29\uc624\ub97c \ud558\uba74\uc11c \ub290\ub080 \uc810\uc778\ub370, LinearRegressor\ub294 \ub2e4\ucc28\uc6d0 \uc790\ub8cc\uc5d0\ub294 \uc801\ud569\ud558\uc9c0 \uc54a\uc740 \ub4ef \ud588\ub2e4.  "
     ]
    },
    {
     "cell_type": "heading",
     "level": 2,
     "metadata": {},
     "source": [
      "trimmed_app_info - \ud3c9\uac00 \uc810\uc218  : DecisionTreeRegressor  "
     ]
    },
    {
     "cell_type": "code",
     "collapsed": false,
     "input": [
      "from sklearn.tree import DecisionTreeRegressor\n",
      "# Instantiate the model, fit the results, and scatter in vs. out\n",
      "\n",
      "clf = DecisionTreeRegressor()\n",
      "\n",
      "temp = trimed_app_info.copy()\n",
      "\n",
      "y = temp.pop('score')\n",
      "X = temp\n",
      "\n",
      "%time clf.fit(X,y) # fit(attribut, label)\n",
      "%time predicted = clf.predict(X)\n",
      "\n",
      "plt.scatter(y, predicted)\n",
      "plt.plot([0, 100], [0, 100], '--k')\n",
      "plt.axis('tight')\n",
      "plt.xlabel('True score')\n",
      "plt.ylabel('Predicted score')"
     ],
     "language": "python",
     "metadata": {},
     "outputs": [
      {
       "ename": "NameError",
       "evalue": "name 'trimed_app_info' is not defined",
       "output_type": "pyerr",
       "traceback": [
        "\u001b[0;31m---------------------------------------------------------------------------\u001b[0m\n\u001b[0;31mNameError\u001b[0m                                 Traceback (most recent call last)",
        "\u001b[0;32m<ipython-input-6-0a536ec3da10>\u001b[0m in \u001b[0;36m<module>\u001b[0;34m()\u001b[0m\n\u001b[1;32m      4\u001b[0m \u001b[0mclf\u001b[0m \u001b[0;34m=\u001b[0m \u001b[0mDecisionTreeRegressor\u001b[0m\u001b[0;34m(\u001b[0m\u001b[0;34m)\u001b[0m\u001b[0;34m\u001b[0m\u001b[0m\n\u001b[1;32m      5\u001b[0m \u001b[0;34m\u001b[0m\u001b[0m\n\u001b[0;32m----> 6\u001b[0;31m \u001b[0mtemp\u001b[0m \u001b[0;34m=\u001b[0m \u001b[0mtrimed_app_info\u001b[0m\u001b[0;34m.\u001b[0m\u001b[0mcopy\u001b[0m\u001b[0;34m(\u001b[0m\u001b[0;34m)\u001b[0m\u001b[0;34m\u001b[0m\u001b[0m\n\u001b[0m\u001b[1;32m      7\u001b[0m \u001b[0;34m\u001b[0m\u001b[0m\n\u001b[1;32m      8\u001b[0m \u001b[0my\u001b[0m \u001b[0;34m=\u001b[0m \u001b[0mtemp\u001b[0m\u001b[0;34m.\u001b[0m\u001b[0mpop\u001b[0m\u001b[0;34m(\u001b[0m\u001b[0;34m'score'\u001b[0m\u001b[0;34m)\u001b[0m\u001b[0;34m\u001b[0m\u001b[0m\n",
        "\u001b[0;31mNameError\u001b[0m: name 'trimed_app_info' is not defined"
       ]
      }
     ],
     "prompt_number": 6
    },
    {
     "cell_type": "markdown",
     "metadata": {},
     "source": [
      " * 0 ~ 60\uc810\ub300 \uad6c\uac04\uc774 \uc880 \uc774\uc0c1\ud558\uc9c0\ub9cc, \uadf8\ub9ac\uace0 \uc5ec\uc804\ud788 \ubd80\uc871\ud55c \uc815\ud655\uc131\uc744 \ubcf4\uc774\uc9c0\ub9cc, \uadf8\ub798\ub3c4 \uc774\uc81c\uc57c \ubb54\uac00 \ub418\ub294 \ub290\ub08c\uc774\ub2e4.  \n",
      "     * id \uc560\ud2b8\ub9ac\ubdf0\ud2b8\ub97c \ub123\uc73c\uba74 100%\uc758 \uc815\ud655\ub3c4\ub97c \ubcf4\uc778\ub2e4. (\ud558\uae34 \ub2f5\uc744 \uc544\ub294 \uc0c1\ud669\uc774\ub2c8...)  \n",
      "         * \ud5c8\ub098 id\uac12\uc740 \uacbd\ud5a5\uc131\uc774 \uc5c6\uc73c\ubbc0\ub85c \ubb54\uac08 \ucd94\uce21\ud558\ub294\uac83\uc740 \ubd88\uac00\ub2a5 \ud558\uae30 \ub54c\ubb38\uc5d0 \uc758\ubbf8 \uc5c6\ub294 \uacb0\uacfc.  \n",
      "     * company_id \uc560\ud2b8\ub9ac\ubdf0\ud2b8\ub97c \ube7c\uba74, 60~100 \uc810\ub300 \uad6c\uac04\uc758 \uc0b0\ud3ec\ub3c4\uac00 \ucee4\uc9c4\ub2e4. (\uc815\ud655\ub3c4\uac00 \ub5a8\uc5b4\uc9c4\ub2e4.)  \n",
      "         * \uac19\uc740 \ud68c\uc0ac\uc758 \uc791\ud488\uc740 \ud3c9\uac00\ub3c4\uac00 \ube44\uc2b7\ud558\ub2e4\ub294 \uac83\uc73c\ub85c \uc0dd\uac01\ud574 \ubcfc \uc218 \uc788\ub2e4.  \n",
      "         * \uc704\uc758 id\uc640 \ub9c8\ucc2c\uac00\uc9c0\ub85c \uc774 \uac12\ub3c4 \uacbd\ud5a5\uc131\uc774 \uc5c6\uc5b4\uc11c \uc2e4\uc81c\ub85c \uc0ac\uc6a9\ud558\uae30\uc5d4 \ubd80\uc801\ud569 \ud560\uc9c0\ub3c4 \ubaa8\ub978\ub2e4.  "
     ]
    },
    {
     "cell_type": "heading",
     "level": 2,
     "metadata": {},
     "source": [
      "trimmed_day_app_info - \ud3c9\uac00 \uc810\uc218"
     ]
    },
    {
     "cell_type": "markdown",
     "metadata": {},
     "source": [
      "\uc0dd\uac01\ud574 \ubcf4\ub2c8 \uc8fc\uc5b4\uc9c4 DataFrame\uc758 date \uc560\ud2b8\ub9ac\ubdf0\ud2b8\ub294 \uc5f0\uc18d\uc801\uc778 \uac12\uc774 \uc544\ub2c8\ub2e4.  \n",
      "\uc774 \uc810\uc774 \uacb0\uacfc\uc5d0 \uc601\ud5a5\uc744 \uc904\uc9c0\ub3c4 \ubaa8\ub978\ub2e4\ub294 \uc0dd\uac01\uc774 \ub4e4\uc5c8\ub2e4. \uadf8\ub798\uc11c \uc774 \uac12\uc744 \uc2e4\uc81c \ub0a0\uc9dc\ub85c \ubc14\uafb8\uae30\ub85c \ud588\ub2e4.  "
     ]
    },
    {
     "cell_type": "code",
     "collapsed": false,
     "input": [
      "temp = trimed_app_info.copy()\n",
      "series_update_date = temp.pop('update_date')\n",
      "series_date = temp.pop('date')\n",
      "series_days = aliveDay(series_update_date,series_date)\n",
      "temp.insert(0,series_days.name,series_days)\n",
      "trimed_day_app_info = temp.copy()\n",
      "del temp\n",
      "trimed_day_app_info.head(4)"
     ],
     "language": "python",
     "metadata": {},
     "outputs": [
      {
       "ename": "NameError",
       "evalue": "name 'trimed_app_info' is not defined",
       "output_type": "pyerr",
       "traceback": [
        "\u001b[0;31m---------------------------------------------------------------------------\u001b[0m\n\u001b[0;31mNameError\u001b[0m                                 Traceback (most recent call last)",
        "\u001b[0;32m<ipython-input-7-d5e0131dcdde>\u001b[0m in \u001b[0;36m<module>\u001b[0;34m()\u001b[0m\n\u001b[0;32m----> 1\u001b[0;31m \u001b[0mtemp\u001b[0m \u001b[0;34m=\u001b[0m \u001b[0mtrimed_app_info\u001b[0m\u001b[0;34m.\u001b[0m\u001b[0mcopy\u001b[0m\u001b[0;34m(\u001b[0m\u001b[0;34m)\u001b[0m\u001b[0;34m\u001b[0m\u001b[0m\n\u001b[0m\u001b[1;32m      2\u001b[0m \u001b[0mseries_update_date\u001b[0m \u001b[0;34m=\u001b[0m \u001b[0mtemp\u001b[0m\u001b[0;34m.\u001b[0m\u001b[0mpop\u001b[0m\u001b[0;34m(\u001b[0m\u001b[0;34m'update_date'\u001b[0m\u001b[0;34m)\u001b[0m\u001b[0;34m\u001b[0m\u001b[0m\n\u001b[1;32m      3\u001b[0m \u001b[0mseries_date\u001b[0m \u001b[0;34m=\u001b[0m \u001b[0mtemp\u001b[0m\u001b[0;34m.\u001b[0m\u001b[0mpop\u001b[0m\u001b[0;34m(\u001b[0m\u001b[0;34m'date'\u001b[0m\u001b[0;34m)\u001b[0m\u001b[0;34m\u001b[0m\u001b[0m\n\u001b[1;32m      4\u001b[0m \u001b[0mseries_days\u001b[0m \u001b[0;34m=\u001b[0m \u001b[0maliveDay\u001b[0m\u001b[0;34m(\u001b[0m\u001b[0mseries_update_date\u001b[0m\u001b[0;34m,\u001b[0m\u001b[0mseries_date\u001b[0m\u001b[0;34m)\u001b[0m\u001b[0;34m\u001b[0m\u001b[0m\n\u001b[1;32m      5\u001b[0m \u001b[0mtemp\u001b[0m\u001b[0;34m.\u001b[0m\u001b[0minsert\u001b[0m\u001b[0;34m(\u001b[0m\u001b[0;36m0\u001b[0m\u001b[0;34m,\u001b[0m\u001b[0mseries_days\u001b[0m\u001b[0;34m.\u001b[0m\u001b[0mname\u001b[0m\u001b[0;34m,\u001b[0m\u001b[0mseries_days\u001b[0m\u001b[0;34m)\u001b[0m\u001b[0;34m\u001b[0m\u001b[0m\n",
        "\u001b[0;31mNameError\u001b[0m: name 'trimed_app_info' is not defined"
       ]
      }
     ],
     "prompt_number": 7
    },
    {
     "cell_type": "heading",
     "level": 2,
     "metadata": {},
     "source": [
      "trimmed_day_app_info - \ud3c9\uac00 \uc810\uc218  : DecisionTreeRegressor  "
     ]
    },
    {
     "cell_type": "markdown",
     "metadata": {},
     "source": [
      "\uadf8\ub9ac\uace0 \uc774 \uac12\uc744 DecisionTreeRegressor\uc5d0 \ub123\uc5b4\ubcf4\uae30\ub85c \ud588\ub2e4. LinearRegressor\ub294 \uc5b4\ucc28\ud53c \uc548\uc88b\uc740 \uacb0\uacfc\uac00 \ub098\uc62c\ud14c\ub2c8 \uc0dd\ub7b5\ud558\uae30\ub85c \ud588\ub2e4.  "
     ]
    },
    {
     "cell_type": "code",
     "collapsed": false,
     "input": [
      "from sklearn.tree import DecisionTreeRegressor\n",
      "# Instantiate the model, fit the results, and scatter in vs. out\n",
      "\n",
      "clf = DecisionTreeRegressor()\n",
      "\n",
      "temp = trimed_day_app_info.copy()\n",
      "\n",
      "y = temp.pop('score')\n",
      "X = temp\n",
      "\n",
      "%time clf.fit(X,y) # fit(attribut, label)\n",
      "%time predicted = clf.predict(X)\n",
      "\n",
      "plt.scatter(y, predicted)\n",
      "plt.plot([0, 100], [0, 100], '--k')\n",
      "plt.axis('tight')\n",
      "plt.xlabel('True score')\n",
      "plt.ylabel('Predicted score')"
     ],
     "language": "python",
     "metadata": {},
     "outputs": [
      {
       "ename": "NameError",
       "evalue": "name 'trimed_day_app_info' is not defined",
       "output_type": "pyerr",
       "traceback": [
        "\u001b[0;31m---------------------------------------------------------------------------\u001b[0m\n\u001b[0;31mNameError\u001b[0m                                 Traceback (most recent call last)",
        "\u001b[0;32m<ipython-input-8-f9ff0ffae8e3>\u001b[0m in \u001b[0;36m<module>\u001b[0;34m()\u001b[0m\n\u001b[1;32m      4\u001b[0m \u001b[0mclf\u001b[0m \u001b[0;34m=\u001b[0m \u001b[0mDecisionTreeRegressor\u001b[0m\u001b[0;34m(\u001b[0m\u001b[0;34m)\u001b[0m\u001b[0;34m\u001b[0m\u001b[0m\n\u001b[1;32m      5\u001b[0m \u001b[0;34m\u001b[0m\u001b[0m\n\u001b[0;32m----> 6\u001b[0;31m \u001b[0mtemp\u001b[0m \u001b[0;34m=\u001b[0m \u001b[0mtrimed_day_app_info\u001b[0m\u001b[0;34m.\u001b[0m\u001b[0mcopy\u001b[0m\u001b[0;34m(\u001b[0m\u001b[0;34m)\u001b[0m\u001b[0;34m\u001b[0m\u001b[0m\n\u001b[0m\u001b[1;32m      7\u001b[0m \u001b[0;34m\u001b[0m\u001b[0m\n\u001b[1;32m      8\u001b[0m \u001b[0my\u001b[0m \u001b[0;34m=\u001b[0m \u001b[0mtemp\u001b[0m\u001b[0;34m.\u001b[0m\u001b[0mpop\u001b[0m\u001b[0;34m(\u001b[0m\u001b[0;34m'score'\u001b[0m\u001b[0;34m)\u001b[0m\u001b[0;34m\u001b[0m\u001b[0m\n",
        "\u001b[0;31mNameError\u001b[0m: name 'trimed_day_app_info' is not defined"
       ]
      }
     ],
     "prompt_number": 8
    },
    {
     "cell_type": "markdown",
     "metadata": {},
     "source": [
      "\ud559\uc2b5\ud560\ub54c \uc544\uc8fc \uadfc\uc18c\ud558\uac8c \ube60\ub978 \uac83 \ube7c\uace0 \ubcc4\ub2e4\ub978 \ucc28\uc774\ub294 \uc5c6\ub294 \uac83 \uac19\uc544 \ubcf4\uc778\ub2e4.  "
     ]
    },
    {
     "cell_type": "heading",
     "level": 2,
     "metadata": {},
     "source": [
      "trimmed_day_nozero_score_app_info - \ud3c9\uac00 \uc810\uc218  : DecisionTreeRegressor  "
     ]
    },
    {
     "cell_type": "markdown",
     "metadata": {},
     "source": [
      "\ud55c\ubc88 \ub354 \uc0dd\uac01\ud574\ubcf4\ub2c8, \ud3c9\uac00\uc810\uc218 0 \uc810\uc774\ub77c \ud568\uc740, \ud3c9\uac00\uac00 \uc544\uc608 \ub41c \uc801\uc774 \uc5c6\ub2e4\ub294 \ub73b \uc774\ub2e4.  \n",
      "\ucc98\uc74c\uc5d0 company_id, update_date\uc758 NaN\uac12\uc744 \ubc30\uc81c \ud588\ub4ef\uc774, \ubc30\uc81c \ud574\uc57c \ud558\ub294 \uac12\uc774\ub77c \uc0dd\uac01\ub41c\ub2e4.  "
     ]
    },
    {
     "cell_type": "code",
     "collapsed": false,
     "input": [
      "trimed_day_nozero_score_app_info = trimed_day_app_info[trimed_day_app_info.score!=0]\n",
      "print trimed_day_nozero_score_app_info\n",
      "trimed_day_nozero_score_app_info.head(20)"
     ],
     "language": "python",
     "metadata": {},
     "outputs": [
      {
       "ename": "NameError",
       "evalue": "name 'trimed_day_app_info' is not defined",
       "output_type": "pyerr",
       "traceback": [
        "\u001b[0;31m---------------------------------------------------------------------------\u001b[0m\n\u001b[0;31mNameError\u001b[0m                                 Traceback (most recent call last)",
        "\u001b[0;32m<ipython-input-9-bb539fd9dbfc>\u001b[0m in \u001b[0;36m<module>\u001b[0;34m()\u001b[0m\n\u001b[0;32m----> 1\u001b[0;31m \u001b[0mtrimed_day_nozero_score_app_info\u001b[0m \u001b[0;34m=\u001b[0m \u001b[0mtrimed_day_app_info\u001b[0m\u001b[0;34m[\u001b[0m\u001b[0mtrimed_day_app_info\u001b[0m\u001b[0;34m.\u001b[0m\u001b[0mscore\u001b[0m\u001b[0;34m!=\u001b[0m\u001b[0;36m0\u001b[0m\u001b[0;34m]\u001b[0m\u001b[0;34m\u001b[0m\u001b[0m\n\u001b[0m\u001b[1;32m      2\u001b[0m \u001b[0;32mprint\u001b[0m \u001b[0mtrimed_day_nozero_score_app_info\u001b[0m\u001b[0;34m\u001b[0m\u001b[0m\n\u001b[1;32m      3\u001b[0m \u001b[0mtrimed_day_nozero_score_app_info\u001b[0m\u001b[0;34m.\u001b[0m\u001b[0mhead\u001b[0m\u001b[0;34m(\u001b[0m\u001b[0;36m20\u001b[0m\u001b[0;34m)\u001b[0m\u001b[0;34m\u001b[0m\u001b[0m\n",
        "\u001b[0;31mNameError\u001b[0m: name 'trimed_day_app_info' is not defined"
       ]
      }
     ],
     "prompt_number": 9
    },
    {
     "cell_type": "markdown",
     "metadata": {},
     "source": [
      "\ub370\uc774\ud130\uac00 3\ub9cc\uac1c \uc815\ub3c4 \uc5c6\uc5b4\uc84c\ub2e4\ub9cc, \ucda9\ubd84\ud788 \ub9ce\uc740 \uc218\uc758 \ub370\uc774\ud130\uac00 \uc788\ub2e4.  "
     ]
    },
    {
     "cell_type": "code",
     "collapsed": false,
     "input": [
      "from sklearn.tree import DecisionTreeRegressor\n",
      "# Instantiate the model, fit the results, and scatter in vs. out\n",
      "\n",
      "clf = DecisionTreeRegressor()\n",
      "\n",
      "temp = trimed_day_nozero_score_app_info.copy()\n",
      "\n",
      "y = temp.pop('score')\n",
      "X = temp\n",
      "\n",
      "%time clf.fit(X,y) # fit(attribut, label)\n",
      "%time predicted = clf.predict(X)\n",
      "\n",
      "plt.scatter(y, predicted)\n",
      "plt.plot([0, 100], [0, 100], '--k')\n",
      "plt.axis('tight')\n",
      "plt.xlabel('True score')\n",
      "plt.ylabel('Predicted score')"
     ],
     "language": "python",
     "metadata": {},
     "outputs": [
      {
       "ename": "NameError",
       "evalue": "name 'trimed_day_nozero_score_app_info' is not defined",
       "output_type": "pyerr",
       "traceback": [
        "\u001b[0;31m---------------------------------------------------------------------------\u001b[0m\n\u001b[0;31mNameError\u001b[0m                                 Traceback (most recent call last)",
        "\u001b[0;32m<ipython-input-10-0cbf19c329f3>\u001b[0m in \u001b[0;36m<module>\u001b[0;34m()\u001b[0m\n\u001b[1;32m      4\u001b[0m \u001b[0mclf\u001b[0m \u001b[0;34m=\u001b[0m \u001b[0mDecisionTreeRegressor\u001b[0m\u001b[0;34m(\u001b[0m\u001b[0;34m)\u001b[0m\u001b[0;34m\u001b[0m\u001b[0m\n\u001b[1;32m      5\u001b[0m \u001b[0;34m\u001b[0m\u001b[0m\n\u001b[0;32m----> 6\u001b[0;31m \u001b[0mtemp\u001b[0m \u001b[0;34m=\u001b[0m \u001b[0mtrimed_day_nozero_score_app_info\u001b[0m\u001b[0;34m.\u001b[0m\u001b[0mcopy\u001b[0m\u001b[0;34m(\u001b[0m\u001b[0;34m)\u001b[0m\u001b[0;34m\u001b[0m\u001b[0m\n\u001b[0m\u001b[1;32m      7\u001b[0m \u001b[0;34m\u001b[0m\u001b[0m\n\u001b[1;32m      8\u001b[0m \u001b[0my\u001b[0m \u001b[0;34m=\u001b[0m \u001b[0mtemp\u001b[0m\u001b[0;34m.\u001b[0m\u001b[0mpop\u001b[0m\u001b[0;34m(\u001b[0m\u001b[0;34m'score'\u001b[0m\u001b[0;34m)\u001b[0m\u001b[0;34m\u001b[0m\u001b[0m\n",
        "\u001b[0;31mNameError\u001b[0m: name 'trimed_day_nozero_score_app_info' is not defined"
       ]
      }
     ],
     "prompt_number": 10
    },
    {
     "cell_type": "markdown",
     "metadata": {},
     "source": [
      "True score 60\uc810\ub300\uc5d0 \uc788\ub358 \uc120\uc774 \uc5c6\uc5b4\uc84c\ub2e4.  \n",
      "\uc815\ud655\ub3c4\ub3c4 \uc5c4\uccad \ub192\uc544\uc84c\ub2e4. \uc774 \uc815\ub3c4\uba74 \uc2e4\uc81c\ub85c \uc368\ub3c4 \ub420 \uac83 \uac19\ub2e4.  \n",
      "\n",
      "\uc2e4\uc81c\ub85c \uc4f4\ub2e4\ub294 \uc598\uae30\uac00 \ub098\uc628\uae40\uc5d0, company_id\ub97c \ube7c\uace0 \ud574\ubcf4\uba74 \uc5b4\ub5bb\uac8c \ub420\uc9c0 \uad81\uae08\ud574\uc84c\ub2e4.  "
     ]
    },
    {
     "cell_type": "code",
     "collapsed": false,
     "input": [
      "from sklearn.tree import DecisionTreeRegressor\n",
      "# Instantiate the model, fit the results, and scatter in vs. out\n",
      "\n",
      "clf = DecisionTreeRegressor()\n",
      "\n",
      "temp = trimed_day_nozero_score_app_info.copy()\n",
      "temp.pop('company_id') # \ub370\uc774\ud130 \ud55c \uc560\ud2b8\ub9ac\ubdf0\ud2b8 \ubc84\ub9bc. \n",
      "y = temp.pop('score')\n",
      "X = temp\n",
      "\n",
      "%time clf.fit(X,y) # fit(attribut, label)\n",
      "%time predicted = clf.predict(X)\n",
      "\n",
      "plt.scatter(y, predicted)\n",
      "plt.plot([0, 100], [0, 100], '--k')\n",
      "plt.axis('tight')\n",
      "plt.xlabel('True score')\n",
      "plt.ylabel('Predicted score')"
     ],
     "language": "python",
     "metadata": {},
     "outputs": [
      {
       "ename": "NameError",
       "evalue": "name 'trimed_day_nozero_score_app_info' is not defined",
       "output_type": "pyerr",
       "traceback": [
        "\u001b[0;31m---------------------------------------------------------------------------\u001b[0m\n\u001b[0;31mNameError\u001b[0m                                 Traceback (most recent call last)",
        "\u001b[0;32m<ipython-input-11-e6b319725561>\u001b[0m in \u001b[0;36m<module>\u001b[0;34m()\u001b[0m\n\u001b[1;32m      4\u001b[0m \u001b[0mclf\u001b[0m \u001b[0;34m=\u001b[0m \u001b[0mDecisionTreeRegressor\u001b[0m\u001b[0;34m(\u001b[0m\u001b[0;34m)\u001b[0m\u001b[0;34m\u001b[0m\u001b[0m\n\u001b[1;32m      5\u001b[0m \u001b[0;34m\u001b[0m\u001b[0m\n\u001b[0;32m----> 6\u001b[0;31m \u001b[0mtemp\u001b[0m \u001b[0;34m=\u001b[0m \u001b[0mtrimed_day_nozero_score_app_info\u001b[0m\u001b[0;34m.\u001b[0m\u001b[0mcopy\u001b[0m\u001b[0;34m(\u001b[0m\u001b[0;34m)\u001b[0m\u001b[0;34m\u001b[0m\u001b[0m\n\u001b[0m\u001b[1;32m      7\u001b[0m \u001b[0mtemp\u001b[0m\u001b[0;34m.\u001b[0m\u001b[0mpop\u001b[0m\u001b[0;34m(\u001b[0m\u001b[0;34m'company_id'\u001b[0m\u001b[0;34m)\u001b[0m \u001b[0;31m# \ub370\uc774\ud130 \ud55c \uc560\ud2b8\ub9ac\ubdf0\ud2b8 \ubc84\ub9bc.\u001b[0m\u001b[0;34m\u001b[0m\u001b[0m\n\u001b[1;32m      8\u001b[0m \u001b[0my\u001b[0m \u001b[0;34m=\u001b[0m \u001b[0mtemp\u001b[0m\u001b[0;34m.\u001b[0m\u001b[0mpop\u001b[0m\u001b[0;34m(\u001b[0m\u001b[0;34m'score'\u001b[0m\u001b[0;34m)\u001b[0m\u001b[0;34m\u001b[0m\u001b[0m\n",
        "\u001b[0;31mNameError\u001b[0m: name 'trimed_day_nozero_score_app_info' is not defined"
       ]
      }
     ],
     "prompt_number": 11
    },
    {
     "cell_type": "markdown",
     "metadata": {},
     "source": [
      "\uc74c.. \ucc98\ucc38 \ud574\uc84c\ub2e4. \uc774\uac83\uc774 \ube0c\ub79c\ub4dc \ud30c\uc6cc\uc758 \ud798\uc778\uac00...?  "
     ]
    },
    {
     "cell_type": "heading",
     "level": 3,
     "metadata": {},
     "source": [
      "run all\uc744 \uc704\ud55c \uc18c\ub9ac \uc54c\ub78c.  "
     ]
    },
    {
     "cell_type": "code",
     "collapsed": false,
     "input": [
      "# this is a wrapper that take a filename and publish an html <audio> tag to listen to it\n",
      "from IPython.core.display import HTML\n",
      "\n",
      "def audioPlayer(filepath):\n",
      "    \"\"\" will display html 5 player for compatible browser\n",
      "    before you call this function, '%pylab inline' must be sentenced\n",
      "\n",
      "    Parameters :\n",
      "    ------------\n",
      "    filepath : relative filepath with respect to the notebook directory ( where the .ipynb are not cwd)\n",
      "               of the file to play\n",
      "\n",
      "    The browser need to know how to play wav through html5.\n",
      "\n",
      "    \"\"\"\n",
      "    \n",
      "    src = \"\"\"\n",
      "    <head>\n",
      "    <meta http-equiv=\"Content-Type\" content=\"text/html; charset=utf-8\">\n",
      "    <title>Simple Test</title>\n",
      "    </head>\n",
      "    \n",
      "    <body>\n",
      "    <audio controls=\"controls\" style=\"width:600px\" autoplay=\"autoplay\">\n",
      "      <source src=\"files/%s\" type=\"audio/wav\" />\n",
      "      Your browser does not support the audio element.\n",
      "    </audio>\n",
      "    </body>\n",
      "    \"\"\"%(filepath)\n",
      "    display(HTML(src))"
     ],
     "language": "python",
     "metadata": {},
     "outputs": [],
     "prompt_number": 12
    },
    {
     "cell_type": "code",
     "collapsed": false,
     "input": [
      "audioPlayer('sound/bgm_ivent7.mp3')"
     ],
     "language": "python",
     "metadata": {},
     "outputs": [
      {
       "html": [
        "\n",
        "    <head>\n",
        "    <meta http-equiv=\"Content-Type\" content=\"text/html; charset=utf-8\">\n",
        "    <title>Simple Test</title>\n",
        "    </head>\n",
        "    \n",
        "    <body>\n",
        "    <audio controls=\"controls\" style=\"width:600px\" autoplay=\"autoplay\">\n",
        "      <source src=\"files/sound/bgm_ivent7.mp3\" type=\"audio/wav\" />\n",
        "      Your browser does not support the audio element.\n",
        "    </audio>\n",
        "    </body>\n",
        "    "
       ],
       "metadata": {},
       "output_type": "display_data",
       "text": [
        "<IPython.core.display.HTML at 0x1084e0f90>"
       ]
      }
     ],
     "prompt_number": 13
    }
   ],
   "metadata": {}
  }
 ]
}