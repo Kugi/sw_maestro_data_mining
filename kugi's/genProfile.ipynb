{
 "metadata": {
  "name": "genProfile"
 },
 "nbformat": 3,
 "nbformat_minor": 0,
 "worksheets": [
  {
   "cells": [
    {
     "cell_type": "code",
     "collapsed": false,
     "input": [
      "%pylab inline\n",
      "import pylab as pl\n",
      "import numpy as np\n",
      "import pandas as pd\n",
      "from pandas import DataFrame\n",
      "from sklearn.datasets import load_svmlight_file\n",
      "from sklearn.svm import LinearSVC\n",
      "from sklearn.cross_validation import ShuffleSplit\n",
      "from sklearn.grid_search import GridSearchCV\n",
      "from sklearn.cross_validation import train_test_split\n",
      "from pprint import pprint\n",
      "\n",
      "import pickle\n",
      "import json"
     ],
     "language": "python",
     "metadata": {},
     "outputs": [
      {
       "output_type": "stream",
       "stream": "stdout",
       "text": [
        "\n",
        "Welcome to pylab, a matplotlib-based Python environment [backend: module://IPython.kernel.zmq.pylab.backend_inline].\n",
        "For more information, type 'help(pylab)'.\n"
       ]
      }
     ],
     "prompt_number": 1
    },
    {
     "cell_type": "code",
     "collapsed": false,
     "input": [
      "%time _ = gender_x, gender_y = load_svmlight_file('user_gender.dat')\n",
      "print (gender_x.shape, gender_y.shape)"
     ],
     "language": "python",
     "metadata": {},
     "outputs": [
      {
       "output_type": "stream",
       "stream": "stdout",
       "text": [
        "Wall time: 7.01 s\n",
        "((46984, 52600), (46984,))\n"
       ]
      }
     ],
     "prompt_number": 2
    },
    {
     "cell_type": "code",
     "collapsed": false,
     "input": [
      "filename = \"user_app.df\"\n",
      "user_app = 0\n",
      "\n",
      "with open(filename, 'rb') as user_app_file:\n",
      "    %time _ = user_app = pickle.load(user_app_file)"
     ],
     "language": "python",
     "metadata": {},
     "outputs": [
      {
       "output_type": "stream",
       "stream": "stdout",
       "text": [
        "Wall time: 8.68 s\n"
       ]
      }
     ],
     "prompt_number": 3
    },
    {
     "cell_type": "code",
     "collapsed": false,
     "input": [
      "#%time _ = user_app = pickle.load(file('user_app.df'))\n",
      "print len(user_app)\n",
      "print \"\\n\".join(set(user_app))"
     ],
     "language": "python",
     "metadata": {},
     "outputs": [
      {
       "output_type": "stream",
       "stream": "stdout",
       "text": [
        "10616409\n",
        "update_date\n",
        "entity_id\n",
        "create_date\n",
        "user_id\n",
        "usage\n",
        "is_deleted\n"
       ]
      }
     ],
     "prompt_number": 4
    },
    {
     "cell_type": "code",
     "collapsed": false,
     "input": [
      "user_app[:1]"
     ],
     "language": "python",
     "metadata": {},
     "outputs": [
      {
       "html": [
        "<div style=\"max-height:1000px;max-width:1500px;overflow:auto;\">\n",
        "<table border=\"1\" class=\"dataframe\">\n",
        "  <thead>\n",
        "    <tr style=\"text-align: right;\">\n",
        "      <th></th>\n",
        "      <th>create_date</th>\n",
        "      <th>update_date</th>\n",
        "      <th>user_id</th>\n",
        "      <th>entity_id</th>\n",
        "      <th>usage</th>\n",
        "      <th>is_deleted</th>\n",
        "    </tr>\n",
        "  </thead>\n",
        "  <tbody>\n",
        "    <tr>\n",
        "      <th>0</th>\n",
        "      <td> 20130222202059</td>\n",
        "      <td> 20130730090415</td>\n",
        "      <td> 2007318</td>\n",
        "      <td> 1612462</td>\n",
        "      <td> 0</td>\n",
        "      <td> True</td>\n",
        "    </tr>\n",
        "  </tbody>\n",
        "</table>\n",
        "</div>"
       ],
       "output_type": "pyout",
       "prompt_number": 5,
       "text": [
        "      create_date     update_date  user_id  entity_id  usage is_deleted\n",
        "0  20130222202059  20130730090415  2007318    1612462      0       True"
       ]
      }
     ],
     "prompt_number": 5
    },
    {
     "cell_type": "code",
     "collapsed": false,
     "input": [
      "tempix = user_app['user_id']"
     ],
     "language": "python",
     "metadata": {},
     "outputs": [],
     "prompt_number": 19
    },
    {
     "cell_type": "code",
     "collapsed": false,
     "input": [
      "tempix"
     ],
     "language": "python",
     "metadata": {},
     "outputs": [
      {
       "output_type": "pyout",
       "prompt_number": 21,
       "text": [
        "0     2007318\n",
        "1     2007318\n",
        "2     2007318\n",
        "3     5188098\n",
        "4     5207032\n",
        "5     2007318\n",
        "6     2007318\n",
        "7     5183947\n",
        "8     1758743\n",
        "9     5207032\n",
        "10    2007318\n",
        "11    2007318\n",
        "12    2007318\n",
        "13    2007318\n",
        "14    2007318\n",
        "...\n",
        "10616394    2007318\n",
        "10616395    3046239\n",
        "10616396    3675388\n",
        "10616397    1932751\n",
        "10616398    1319994\n",
        "10616399     901271\n",
        "10616400    3316846\n",
        "10616401    3849620\n",
        "10616402    3849620\n",
        "10616403    4717145\n",
        "10616404    1578158\n",
        "10616405    1603854\n",
        "10616406     440331\n",
        "10616407     440331\n",
        "10616408    5087716\n",
        "Name: user_id, Length: 10616409, dtype: int64"
       ]
      }
     ],
     "prompt_number": 21
    },
    {
     "cell_type": "code",
     "collapsed": false,
     "input": [
      "print tempix.user_id"
     ],
     "language": "python",
     "metadata": {},
     "outputs": [
      {
       "output_type": "stream",
       "stream": "stdout",
       "text": [
        "2007318    4972673\n",
        "2007318    4972673\n",
        "2007318    4972673\n",
        "5188098    2134793\n",
        "5207032    1737576\n",
        "2007318    4972673\n",
        "2007318    4972673\n",
        "5183947    1774416\n",
        "1758743    3505949\n",
        "5207032    1737576\n",
        "2007318    4972673\n",
        "2007318    4972673\n",
        "2007318    4972673\n",
        "2007318    4972673\n",
        "2007318    4972673\n",
        "...\n",
        "2007318    4972673\n",
        "3046239    2155919\n",
        "3675388    3437058\n",
        "1932751    1981473\n",
        "1319994    3099854\n",
        "901271     1972287\n",
        "3316846    1992178\n",
        "3849620    4967226\n",
        "3849620    4967226\n",
        "4717145    3983312\n",
        "1578158    2004779\n",
        "1603854    5442787\n",
        "440331     2193286\n",
        "440331     2193286\n",
        "5087716    2299921\n",
        "Name: user_id, Length: 10616409, dtype: int64\n"
       ]
      }
     ],
     "prompt_number": 8
    },
    {
     "cell_type": "code",
     "collapsed": false,
     "input": [
      "%whos?"
     ],
     "language": "python",
     "metadata": {},
     "outputs": [],
     "prompt_number": 9
    },
    {
     "cell_type": "code",
     "collapsed": false,
     "input": [
      "print gender_x[:1]"
     ],
     "language": "python",
     "metadata": {},
     "outputs": [
      {
       "output_type": "stream",
       "stream": "stdout",
       "text": [
        "  (0, 1748)\t1.0\n",
        "  (0, 2796)\t1.0\n",
        "  (0, 2853)\t1.0\n",
        "  (0, 6491)\t1.0\n",
        "  (0, 7834)\t1.0\n",
        "  (0, 7903)\t1.0\n",
        "  (0, 8007)\t1.0\n",
        "  (0, 8133)\t1.0\n",
        "  (0, 8165)\t1.0\n",
        "  (0, 8677)\t1.0\n",
        "  (0, 8679)\t1.0\n",
        "  (0, 8700)\t1.0\n",
        "  (0, 9114)\t1.0\n",
        "  (0, 9201)\t1.0\n",
        "  (0, 9769)\t1.0\n",
        "  (0, 9775)\t1.0\n",
        "  (0, 9928)\t1.0\n",
        "  (0, 11310)\t1.0\n",
        "  (0, 11781)\t1.0\n",
        "  (0, 15803)\t1.0\n",
        "  (0, 16638)\t1.0\n",
        "  (0, 16712)\t1.0\n",
        "  (0, 16948)\t1.0\n",
        "  (0, 18307)\t1.0\n",
        "  (0, 18356)\t1.0\n",
        "  :\t:\n",
        "  (0, 34767)\t1.0\n",
        "  (0, 34768)\t1.0\n",
        "  (0, 35325)\t1.0\n",
        "  (0, 37607)\t1.0\n",
        "  (0, 37665)\t1.0\n",
        "  (0, 38882)\t1.0\n",
        "  (0, 39899)\t1.0\n",
        "  (0, 40179)\t1.0\n",
        "  (0, 40690)\t1.0\n",
        "  (0, 40699)\t1.0\n",
        "  (0, 40921)\t1.0\n",
        "  (0, 40952)\t1.0\n",
        "  (0, 42200)\t1.0\n",
        "  (0, 43427)\t1.0\n",
        "  (0, 43465)\t1.0\n",
        "  (0, 43480)\t1.0\n",
        "  (0, 43729)\t1.0\n",
        "  (0, 47780)\t1.0\n",
        "  (0, 48218)\t1.0\n",
        "  (0, 48812)\t1.0\n",
        "  (0, 49157)\t1.0\n",
        "  (0, 49239)\t1.0\n",
        "  (0, 50338)\t1.0\n",
        "  (0, 50789)\t1.0\n",
        "  (0, 51256)\t1.0\n"
       ]
      }
     ],
     "prompt_number": 10
    },
    {
     "cell_type": "code",
     "collapsed": false,
     "input": [
      "svc = LinearSVC(C=0.0050118723362727246)"
     ],
     "language": "python",
     "metadata": {},
     "outputs": [],
     "prompt_number": 11
    },
    {
     "cell_type": "code",
     "collapsed": false,
     "input": [
      "%time svc.fit(gender_x, gender_y)"
     ],
     "language": "python",
     "metadata": {},
     "outputs": [
      {
       "output_type": "stream",
       "stream": "stdout",
       "text": [
        "Wall time: 15.9 s\n"
       ]
      },
      {
       "output_type": "pyout",
       "prompt_number": 12,
       "text": [
        "LinearSVC(C=0.00501187233627, class_weight=None, dual=True,\n",
        "     fit_intercept=True, intercept_scaling=1, loss='l2', multi_class='ovr',\n",
        "     penalty='l2', random_state=None, tol=0.0001, verbose=0)"
       ]
      }
     ],
     "prompt_number": 12
    },
    {
     "cell_type": "code",
     "collapsed": false,
     "input": [
      "%time svc.predict(gender_x)"
     ],
     "language": "python",
     "metadata": {},
     "outputs": [
      {
       "output_type": "stream",
       "stream": "stdout",
       "text": [
        "Wall time: 12 ms\n"
       ]
      },
      {
       "output_type": "pyout",
       "prompt_number": 13,
       "text": [
        "array([ 2.,  2.,  2., ...,  2.,  1.,  2.])"
       ]
      }
     ],
     "prompt_number": 13
    },
    {
     "cell_type": "code",
     "collapsed": false,
     "input": [
      "%time svc.score(gender_x, gender_y)"
     ],
     "language": "python",
     "metadata": {},
     "outputs": [
      {
       "output_type": "stream",
       "stream": "stdout",
       "text": [
        "Wall time: 24 ms\n"
       ]
      },
      {
       "output_type": "pyout",
       "prompt_number": 14,
       "text": [
        "0.91409841648220669"
       ]
      }
     ],
     "prompt_number": 14
    },
    {
     "cell_type": "code",
     "collapsed": false,
     "input": [
      "user_app.ix??"
     ],
     "language": "python",
     "metadata": {},
     "outputs": [],
     "prompt_number": 15
    },
    {
     "cell_type": "code",
     "collapsed": false,
     "input": [
      "tempix.user_id.shape"
     ],
     "language": "python",
     "metadata": {},
     "outputs": [
      {
       "output_type": "pyout",
       "prompt_number": 18,
       "text": [
        "(10616409,)"
       ]
      }
     ],
     "prompt_number": 18
    },
    {
     "cell_type": "heading",
     "level": 3,
     "metadata": {},
     "source": [
      "user_app\uc5d0\uc11c \ud544\uc694\ud55c\uac83\ub9cc \uac78\ub7ec\ub0b8\ub2e4"
     ]
    },
    {
     "cell_type": "code",
     "collapsed": false,
     "input": [
      "user_app[:1]"
     ],
     "language": "python",
     "metadata": {},
     "outputs": [
      {
       "html": [
        "<div style=\"max-height:1000px;max-width:1500px;overflow:auto;\">\n",
        "<table border=\"1\" class=\"dataframe\">\n",
        "  <thead>\n",
        "    <tr style=\"text-align: right;\">\n",
        "      <th></th>\n",
        "      <th>create_date</th>\n",
        "      <th>update_date</th>\n",
        "      <th>user_id</th>\n",
        "      <th>entity_id</th>\n",
        "      <th>usage</th>\n",
        "      <th>is_deleted</th>\n",
        "    </tr>\n",
        "  </thead>\n",
        "  <tbody>\n",
        "    <tr>\n",
        "      <th>0</th>\n",
        "      <td> 20130222202059</td>\n",
        "      <td> 20130730090415</td>\n",
        "      <td> 2007318</td>\n",
        "      <td> 1612462</td>\n",
        "      <td> 0</td>\n",
        "      <td> True</td>\n",
        "    </tr>\n",
        "  </tbody>\n",
        "</table>\n",
        "</div>"
       ],
       "output_type": "pyout",
       "prompt_number": 23,
       "text": [
        "      create_date     update_date  user_id  entity_id  usage is_deleted\n",
        "0  20130222202059  20130730090415  2007318    1612462      0       True"
       ]
      }
     ],
     "prompt_number": 23
    },
    {
     "cell_type": "code",
     "collapsed": false,
     "input": [
      "essential = user_app.loc[:, ['user_id', 'entity_id', 'usage']]"
     ],
     "language": "python",
     "metadata": {},
     "outputs": [],
     "prompt_number": 24
    },
    {
     "cell_type": "code",
     "collapsed": false,
     "input": [
      "essential.head()"
     ],
     "language": "python",
     "metadata": {},
     "outputs": [
      {
       "html": [
        "<div style=\"max-height:1000px;max-width:1500px;overflow:auto;\">\n",
        "<table border=\"1\" class=\"dataframe\">\n",
        "  <thead>\n",
        "    <tr style=\"text-align: right;\">\n",
        "      <th></th>\n",
        "      <th>user_id</th>\n",
        "      <th>entity_id</th>\n",
        "      <th>usage</th>\n",
        "    </tr>\n",
        "  </thead>\n",
        "  <tbody>\n",
        "    <tr>\n",
        "      <th>0</th>\n",
        "      <td> 2007318</td>\n",
        "      <td> 1612462</td>\n",
        "      <td> 0</td>\n",
        "    </tr>\n",
        "    <tr>\n",
        "      <th>1</th>\n",
        "      <td> 2007318</td>\n",
        "      <td> 1651419</td>\n",
        "      <td> 0</td>\n",
        "    </tr>\n",
        "    <tr>\n",
        "      <th>2</th>\n",
        "      <td> 2007318</td>\n",
        "      <td> 1522396</td>\n",
        "      <td> 0</td>\n",
        "    </tr>\n",
        "    <tr>\n",
        "      <th>3</th>\n",
        "      <td> 5188098</td>\n",
        "      <td> 1526678</td>\n",
        "      <td> 1</td>\n",
        "    </tr>\n",
        "    <tr>\n",
        "      <th>4</th>\n",
        "      <td> 5207032</td>\n",
        "      <td> 1480116</td>\n",
        "      <td> 0</td>\n",
        "    </tr>\n",
        "  </tbody>\n",
        "</table>\n",
        "</div>"
       ],
       "output_type": "pyout",
       "prompt_number": 29,
       "text": [
        "   user_id  entity_id  usage\n",
        "0  2007318    1612462      0\n",
        "1  2007318    1651419      0\n",
        "2  2007318    1522396      0\n",
        "3  5188098    1526678      1\n",
        "4  5207032    1480116      0"
       ]
      }
     ],
     "prompt_number": 29
    },
    {
     "cell_type": "code",
     "collapsed": false,
     "input": [
      "essential_sorted = essential.sort(columns='user_id')"
     ],
     "language": "python",
     "metadata": {},
     "outputs": [],
     "prompt_number": 30
    },
    {
     "cell_type": "code",
     "collapsed": false,
     "input": [
      "essential_sorted.head()"
     ],
     "language": "python",
     "metadata": {},
     "outputs": [
      {
       "html": [
        "<div style=\"max-height:1000px;max-width:1500px;overflow:auto;\">\n",
        "<table border=\"1\" class=\"dataframe\">\n",
        "  <thead>\n",
        "    <tr style=\"text-align: right;\">\n",
        "      <th></th>\n",
        "      <th>user_id</th>\n",
        "      <th>entity_id</th>\n",
        "      <th>usage</th>\n",
        "    </tr>\n",
        "  </thead>\n",
        "  <tbody>\n",
        "    <tr>\n",
        "      <th>8097500</th>\n",
        "      <td> 25</td>\n",
        "      <td> 1466907</td>\n",
        "      <td> 0</td>\n",
        "    </tr>\n",
        "    <tr>\n",
        "      <th>4200579</th>\n",
        "      <td> 25</td>\n",
        "      <td> 1501554</td>\n",
        "      <td> 0</td>\n",
        "    </tr>\n",
        "    <tr>\n",
        "      <th>4200578</th>\n",
        "      <td> 25</td>\n",
        "      <td> 1562959</td>\n",
        "      <td> 0</td>\n",
        "    </tr>\n",
        "    <tr>\n",
        "      <th>4200577</th>\n",
        "      <td> 25</td>\n",
        "      <td> 1602332</td>\n",
        "      <td> 0</td>\n",
        "    </tr>\n",
        "    <tr>\n",
        "      <th>2087818</th>\n",
        "      <td> 25</td>\n",
        "      <td> 1537554</td>\n",
        "      <td> 0</td>\n",
        "    </tr>\n",
        "  </tbody>\n",
        "</table>\n",
        "</div>"
       ],
       "output_type": "pyout",
       "prompt_number": 31,
       "text": [
        "         user_id  entity_id  usage\n",
        "8097500       25    1466907      0\n",
        "4200579       25    1501554      0\n",
        "4200578       25    1562959      0\n",
        "4200577       25    1602332      0\n",
        "2087818       25    1537554      0"
       ]
      }
     ],
     "prompt_number": 31
    },
    {
     "cell_type": "code",
     "collapsed": false,
     "input": [
      "len(essential_sorted)"
     ],
     "language": "python",
     "metadata": {},
     "outputs": [
      {
       "output_type": "pyout",
       "prompt_number": 32,
       "text": [
        "10616409"
       ]
      }
     ],
     "prompt_number": 32
    },
    {
     "cell_type": "code",
     "collapsed": false,
     "input": [
      "entity_id_pkl = pickle.load(file('entityid_featureid.pkl'))\n",
      "entity_id_pkl['1423919']"
     ],
     "language": "python",
     "metadata": {},
     "outputs": [
      {
       "output_type": "pyout",
       "prompt_number": 38,
       "text": [
        "21445"
       ]
      }
     ],
     "prompt_number": 38
    },
    {
     "cell_type": "code",
     "collapsed": false,
     "input": [
      "essential_sorted.iterrows?"
     ],
     "language": "python",
     "metadata": {},
     "outputs": [],
     "prompt_number": 36
    },
    {
     "cell_type": "code",
     "collapsed": false,
     "input": [
      "def fetch_essential_feature_table_dat(dataFrame):\n",
      "    nMaxAppNumber = 0;\n",
      "    nUserCount = 0;\n",
      "    currentUserId = 0;\n",
      "    \n",
      "    for index, contents in dataFrame.iterrows():\n",
      "        try:\n",
      "            appNumber = entity_id_pkl[\"%d\" % contents['entity_id']]\n",
      "            \n",
      "            if currentUserId != content['user_id'] :\n",
      "                currentUserId = content['user_id']\n",
      "                nUserCount += 1\n",
      "            \n",
      "            if nMaxAppNumber < appNumber :\n",
      "                nMaxAppNumber = appNumber\n",
      "        except KeyError as ke:\n",
      "            pass\n",
      "    return (nMaxAppNumber, nUserCount)"
     ],
     "language": "python",
     "metadata": {},
     "outputs": [],
     "prompt_number": 39
    },
    {
     "cell_type": "code",
     "collapsed": false,
     "input": [],
     "language": "python",
     "metadata": {},
     "outputs": []
    }
   ],
   "metadata": {}
  }
 ]
}