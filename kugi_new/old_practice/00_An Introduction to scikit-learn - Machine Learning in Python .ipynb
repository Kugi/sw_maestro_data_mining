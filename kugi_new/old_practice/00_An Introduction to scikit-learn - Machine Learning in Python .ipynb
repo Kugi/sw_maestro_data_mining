{
 "metadata": {
  "name": "00_An Introduction to scikit-learn - Machine Learning in Python "
 },
 "nbformat": 3,
 "nbformat_minor": 0,
 "worksheets": [
  {
   "cells": [
    {
     "cell_type": "code",
     "collapsed": false,
     "input": [
      "import numpy\n",
      "print 'numpy', numpy.__version__\n",
      "\n",
      "import scipy\n",
      "print 'scipy', scipy.__version__\n",
      "\n",
      "import matplotlib\n",
      "print 'matplotlib', matplotlib.__version__\n",
      "\n",
      "import sklearn\n",
      "print 'scikit-learn', sklearn.__version__"
     ],
     "language": "python",
     "metadata": {},
     "outputs": [
      {
       "output_type": "stream",
       "stream": "stdout",
       "text": [
        "numpy 1.7.1\n",
        "scipy 0.12.0\n",
        "matplotlib 1.2.1\n",
        "scikit-learn"
       ]
      },
      {
       "output_type": "stream",
       "stream": "stdout",
       "text": [
        " 0.13.1\n"
       ]
      }
     ],
     "prompt_number": 5
    },
    {
     "cell_type": "code",
     "collapsed": false,
     "input": [],
     "language": "python",
     "metadata": {},
     "outputs": []
    }
   ],
   "metadata": {}
  }
 ]
}