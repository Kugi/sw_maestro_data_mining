{
 "metadata": {
  "name": "document_classify"
 },
 "nbformat": 3,
 "nbformat_minor": 0,
 "worksheets": [
  {
   "cells": [
    {
     "cell_type": "code",
     "collapsed": false,
     "input": [
      "\n",
      "# -*- coding: utf-8 -*-\n",
      "%pylab\n",
      "import sys\n",
      "sys.path.append(\"/Users/namsangboy/workspace/\")\n",
      "from basic_import import *\n",
      "folder = \"../data/\""
     ],
     "language": "python",
     "metadata": {},
     "outputs": [
      {
       "output_type": "stream",
       "stream": "stdout",
       "text": [
        "Using matplotlib backend: MacOSX\n",
        "Populating the interactive namespace from numpy and matplotlib\n"
       ]
      }
     ],
     "prompt_number": 99
    },
    {
     "cell_type": "code",
     "collapsed": false,
     "input": [
      "from scrapy.selector import HtmlXPathSelector\n"
     ],
     "language": "python",
     "metadata": {},
     "outputs": [],
     "prompt_number": 100
    },
    {
     "cell_type": "code",
     "collapsed": false,
     "input": [
      "cate_xpath = \".//*[@name='directoryItem']\""
     ],
     "language": "python",
     "metadata": {},
     "outputs": [],
     "prompt_number": 101
    },
    {
     "cell_type": "code",
     "collapsed": false,
     "input": [
      "import requests"
     ],
     "language": "python",
     "metadata": {},
     "outputs": [],
     "prompt_number": 102
    },
    {
     "cell_type": "code",
     "collapsed": false,
     "input": [
      "url = \"http://section.blog.naver.com/sub/PostListByDirectory.nhn?option.directorySeq=5\""
     ],
     "language": "python",
     "metadata": {},
     "outputs": [],
     "prompt_number": 103
    },
    {
     "cell_type": "code",
     "collapsed": false,
     "input": [
      "req = requests.get(url)"
     ],
     "language": "python",
     "metadata": {},
     "outputs": [],
     "prompt_number": 104
    },
    {
     "cell_type": "code",
     "collapsed": false,
     "input": [
      "hxs = HtmlXPathSelector(text=req.text)"
     ],
     "language": "python",
     "metadata": {},
     "outputs": [],
     "prompt_number": 105
    },
    {
     "cell_type": "code",
     "collapsed": false,
     "input": [
      "cate_list = hxs.select(cate_xpath)"
     ],
     "language": "python",
     "metadata": {},
     "outputs": [],
     "prompt_number": 106
    },
    {
     "cell_type": "code",
     "collapsed": false,
     "input": [
      "import scrapy.utils.markup as markup"
     ],
     "language": "python",
     "metadata": {},
     "outputs": [],
     "prompt_number": 107
    },
    {
     "cell_type": "code",
     "collapsed": false,
     "input": [
      "import re\n",
      "page_info_re = re.compile(\"http://blog\\.naver\\.com/(?P<user_id>.*?)\\?Redirect=Log&logNo=(?P<post_id>.*?)&\")\n",
      "page_info_re2 = re.compile(\"http://(?P<user_id>.*?)\\.blog\\.me/(?P<post_id>.*?)$\")\n",
      "s2 = \"http://nayana0725.blog.me/40195027209\"\n",
      "s = \"http://blog.naver.com/kingsuda?Redirect=Log&logNo=90179032108&from=section\"\n",
      "print page_info_re.match(s).groupdict()\n",
      "print page_info_re2.match(s2).groupdict()"
     ],
     "language": "python",
     "metadata": {},
     "outputs": [
      {
       "output_type": "stream",
       "stream": "stdout",
       "text": [
        "{'post_id': '90179032108', 'user_id': 'kingsuda'}\n",
        "{'post_id': '40195027209', 'user_id': 'nayana0725'}\n"
       ]
      }
     ],
     "prompt_number": 108
    },
    {
     "cell_type": "code",
     "collapsed": false,
     "input": [
      "\n",
      "cate_info_dict_list = []\n",
      "data_dict = {}\n",
      "for cate in cate_list:\n",
      "    \n",
      "    name= cate.select(\".//text()\").extract()[0]\n",
      "    url= 'http://section.blog.naver.com/'+cate.select(\".//@href\").extract()[0]\n",
      "    data_dict[name] = []\n",
      "    print name\n",
      "    print url\n",
      "    cate_info_dict_list.append({'name':name,'url':url})\n",
      "    for page in range(1,2):\n",
      "        print page\n",
      "        print url\n",
      "        \n",
      "        page_url = url+\"&option.page.currentPage=%d\"%(page)\n",
      "        print name, page_url\n",
      "        url_xpath = \".//*[@class='template_briefContents']/@href\"\n",
      "        hxs = HtmlXPathSelector(text=requests.get(page_url).text)\n",
      "        url_list = map(lambda i : i.extract(),hxs.select(url_xpath))\n",
      "        \n",
      "        for page_url in url_list:\n",
      "            if not page_url:\n",
      "                continue\n",
      "            print \"info:\",len(page_url),page_url,\"#\"*10\n",
      "            for find_re in [page_info_re,page_info_re2]:\n",
      "                find_match = page_info_re.match(page_url)\n",
      "                if find_match:\n",
      "                    post_info = find_match.groupdict()\n",
      "            \n",
      "            post_url = \"http://blog.naver.com/PostView.nhn?blogId=%s&logNo=%s\"%(post_info['user_id'],post_info['post_id'])\n",
      "            html_data = requests.get(post_url).text\n",
      "            #print html_data\n",
      "            try:\n",
      "                main_text = HtmlXPathSelector(text=html_data).select(\"//*[@id='post-view%s']\"%(post_info['post_id'])).extract()[0]\n",
      "            except Exception,e:\n",
      "                print \"exception in get data:\",e\n",
      "                continue\n",
      "            #print \"D:\",mainframe_url\n",
      "            data = markup.remove_tags(main_text).strip()\n",
      "            #print data\n",
      "            data_dict[name].append(data)\n",
      "            print len(data)\n",
      "            #print type(main_text)\n",
      "            \n",
      "        \n",
      "    \n",
      "        \n",
      "import pickle\n",
      "filename=\"naver_blog_cate_small.pkl\"\n",
      "#filename=\"naver_blog_cate_all.pkl\"\n",
      "fout = file(filename,\"w\")\n",
      "pickle.dump(data_dict,fout)\n"
     ],
     "language": "python",
     "metadata": {},
     "outputs": [
      {
       "output_type": "stream",
       "stream": "stdout",
       "text": [
        "\ubb38\ud559\u00b7\ucc45\n",
        "http://section.blog.naver.com//sub/PostListByDirectory.nhn?option.directorySeq=5\n",
        "1\n",
        "http://section.blog.naver.com//sub/PostListByDirectory.nhn?option.directorySeq=5\n",
        "\ubb38\ud559\u00b7\ucc45 http://section.blog.naver.com//sub/PostListByDirectory.nhn?option.directorySeq=5&option.page.currentPage=1\n",
        "info:"
       ]
      },
      {
       "output_type": "stream",
       "stream": "stdout",
       "text": [
        " 74 http://blog.naver.com/kingsuda?Redirect=Log&logNo=90179032108&from=section ##########\n",
        "4130"
       ]
      },
      {
       "output_type": "stream",
       "stream": "stdout",
       "text": [
        "\n",
        "info: 73 http://blog.naver.com/020mii?Redirect=Log&logNo=130174116809&from=section ##########\n",
        "1383"
       ]
      },
      {
       "output_type": "stream",
       "stream": "stdout",
       "text": [
        "\n",
        "info: 75 http://blog.naver.com/ruby8181?Redirect=Log&logNo=140195110611&from=section ##########\n",
        "5271"
       ]
      },
      {
       "output_type": "stream",
       "stream": "stdout",
       "text": [
        "\n",
        "info: 74 http://blog.naver.com/baojiong?Redirect=Log&logNo=20193620433&from=section ##########\n",
        "6457"
       ]
      },
      {
       "output_type": "stream",
       "stream": "stdout",
       "text": [
        "\n",
        "info: 37 http://nayana0725.blog.me/40195027209 ##########\n",
        "6457"
       ]
      },
      {
       "output_type": "stream",
       "stream": "stdout",
       "text": [
        "\n",
        "info: 77 http://blog.naver.com/ysklove0404?Redirect=Log&logNo=50177371881&from=section ##########\n",
        "2180"
       ]
      },
      {
       "output_type": "stream",
       "stream": "stdout",
       "text": [
        "\n",
        "info: 39 http://ghostmom212.blog.me/120196103244 ##########\n",
        "2180"
       ]
      },
      {
       "output_type": "stream",
       "stream": "stdout",
       "text": [
        "\n",
        "info: 73 http://blog.naver.com/cherryk74?Redirect=Log&logNo=193094260&from=section ##########\n",
        "3036"
       ]
      },
      {
       "output_type": "stream",
       "stream": "stdout",
       "text": [
        "\n",
        "info: 37 http://dlonglegs.blog.me/150173818322 ##########\n",
        "3036"
       ]
      },
      {
       "output_type": "stream",
       "stream": "stdout",
       "text": [
        "\n",
        "info: 73 http://blog.naver.com/lwsljh?Redirect=Log&logNo=130174105937&from=section ##########\n",
        "2566"
       ]
      },
      {
       "output_type": "stream",
       "stream": "stdout",
       "text": [
        "\n",
        "\uc601\ud654\n",
        "http://section.blog.naver.com//sub/PostListByDirectory.nhn?option.directorySeq=6\n",
        "1\n",
        "http://section.blog.naver.com//sub/PostListByDirectory.nhn?option.directorySeq=6\n",
        "\uc601\ud654 http://section.blog.naver.com//sub/PostListByDirectory.nhn?option.directorySeq=6&option.page.currentPage=1\n",
        "info:"
       ]
      },
      {
       "output_type": "stream",
       "stream": "stdout",
       "text": [
        " 38 http://aciiacpark.blog.me/100193972477 ##########\n",
        "2566"
       ]
      },
      {
       "output_type": "stream",
       "stream": "stdout",
       "text": [
        "\n",
        "info: 35 http://jincom17.blog.me/60197902128 ##########\n",
        "2566"
       ]
      },
      {
       "output_type": "stream",
       "stream": "stdout",
       "text": [
        "\n",
        "info: 34 http://ki10222.blog.me/80195983882 ##########\n",
        "2566"
       ]
      },
      {
       "output_type": "stream",
       "stream": "stdout",
       "text": [
        "\n",
        "info: 76 http://blog.naver.com/peachbibi?Redirect=Log&logNo=130174127300&from=section ##########\n",
        "2292"
       ]
      },
      {
       "output_type": "stream",
       "stream": "stdout",
       "text": [
        "\n",
        "info: 74 http://blog.naver.com/gggkkk1209?Redirect=Log&logNo=193090973&from=section ##########\n",
        "2174"
       ]
      },
      {
       "output_type": "stream",
       "stream": "stdout",
       "text": [
        "\n",
        "info: 34 http://booyaso.blog.me/50177374183 ##########\n",
        "2174"
       ]
      },
      {
       "output_type": "stream",
       "stream": "stdout",
       "text": [
        "\n",
        "info: 77 http://blog.naver.com/rovemeeree?Redirect=Log&logNo=130174106704&from=section ##########\n",
        "3520"
       ]
      },
      {
       "output_type": "stream",
       "stream": "stdout",
       "text": [
        "\n",
        "info: 78 http://blog.naver.com/gangaji1104?Redirect=Log&logNo=100193953256&from=section ##########\n",
        "1206"
       ]
      },
      {
       "output_type": "stream",
       "stream": "stdout",
       "text": [
        "\n",
        "info: 76 http://blog.naver.com/socool8887?Redirect=Log&logNo=20193654661&from=section ##########\n",
        "1812"
       ]
      },
      {
       "output_type": "stream",
       "stream": "stdout",
       "text": [
        "\n",
        "info: 78 http://blog.naver.com/kandinsky85?Redirect=Log&logNo=110174032968&from=section ##########\n",
        "5414"
       ]
      },
      {
       "output_type": "stream",
       "stream": "stdout",
       "text": [
        "\n",
        "\ubbf8\uc220\u00b7\ub514\uc790\uc778\n",
        "http://section.blog.naver.com//sub/PostListByDirectory.nhn?option.directorySeq=8\n",
        "1\n",
        "http://section.blog.naver.com//sub/PostListByDirectory.nhn?option.directorySeq=8\n",
        "\ubbf8\uc220\u00b7\ub514\uc790\uc778 http://section.blog.naver.com//sub/PostListByDirectory.nhn?option.directorySeq=8&option.page.currentPage=1\n",
        "info:"
       ]
      },
      {
       "output_type": "stream",
       "stream": "stdout",
       "text": [
        " 75 http://blog.naver.com/mintpen_?Redirect=Log&logNo=100193968759&from=section ##########\n",
        "1823"
       ]
      },
      {
       "output_type": "stream",
       "stream": "stdout",
       "text": [
        "\n",
        "info: 75 http://blog.naver.com/moonti33?Redirect=Log&logNo=140195085678&from=section ##########\n",
        "2108"
       ]
      },
      {
       "output_type": "stream",
       "stream": "stdout",
       "text": [
        "\n",
        "info: 73 http://blog.naver.com/yennnii?Redirect=Log&logNo=20193649021&from=section ##########\n",
        "2149"
       ]
      },
      {
       "output_type": "stream",
       "stream": "stdout",
       "text": [
        "\n",
        "info: 76 http://blog.naver.com/haram0416?Redirect=Log&logNo=120196108182&from=section ##########\n",
        "1609"
       ]
      },
      {
       "output_type": "stream",
       "stream": "stdout",
       "text": [
        "\n",
        "info: 75 http://blog.naver.com/boteroart?Redirect=Log&logNo=80195986965&from=section ##########\n",
        "3641"
       ]
      },
      {
       "output_type": "stream",
       "stream": "stdout",
       "text": [
        "\n",
        "info: 74 http://blog.naver.com/islsori?Redirect=Log&logNo=100193966317&from=section ##########\n",
        "1255"
       ]
      },
      {
       "output_type": "stream",
       "stream": "stdout",
       "text": [
        "\n",
        "info: 72 http://blog.naver.com/bugu65?Redirect=Log&logNo=90179025622&from=section ##########\n",
        "2338"
       ]
      },
      {
       "output_type": "stream",
       "stream": "stdout",
       "text": [
        "\n",
        "info: 75 http://blog.naver.com/payaso08?Redirect=Log&logNo=120196102880&from=section ##########\n",
        "4598"
       ]
      },
      {
       "output_type": "stream",
       "stream": "stdout",
       "text": [
        "\n",
        "info: 37 http://theroseldn.blog.me/80195979383 ##########\n",
        "4598"
       ]
      },
      {
       "output_type": "stream",
       "stream": "stdout",
       "text": [
        "\n",
        "info: 77 http://blog.naver.com/bigstar0618?Redirect=Log&logNo=90179023513&from=section ##########\n",
        "1590"
       ]
      },
      {
       "output_type": "stream",
       "stream": "stdout",
       "text": [
        "\n",
        "\uacf5\uc5f0\u00b7\uc804\uc2dc\n",
        "http://section.blog.naver.com//sub/PostListByDirectory.nhn?option.directorySeq=7\n",
        "1\n",
        "http://section.blog.naver.com//sub/PostListByDirectory.nhn?option.directorySeq=7\n",
        "\uacf5\uc5f0\u00b7\uc804\uc2dc http://section.blog.naver.com//sub/PostListByDirectory.nhn?option.directorySeq=7&option.page.currentPage=1\n",
        "info:"
       ]
      },
      {
       "output_type": "stream",
       "stream": "stdout",
       "text": [
        " 74 http://blog.naver.com/chozlove?Redirect=Log&logNo=20193638087&from=section ##########\n",
        "3048"
       ]
      },
      {
       "output_type": "stream",
       "stream": "stdout",
       "text": [
        "\n",
        "info: 73 http://blog.naver.com/tongmo3?Redirect=Log&logNo=10173639018&from=section ##########\n",
        "3391"
       ]
      },
      {
       "output_type": "stream",
       "stream": "stdout",
       "text": [
        "\n",
        "info: 34 http://allen1981.blog.me/193092879 ##########\n",
        "3391"
       ]
      },
      {
       "output_type": "stream",
       "stream": "stdout",
       "text": [
        "\n",
        "info: 35 http://kes5311.blog.me/120196096241 ##########\n",
        "3391"
       ]
      },
      {
       "output_type": "stream",
       "stream": "stdout",
       "text": [
        "\n",
        "info: 75 http://blog.naver.com/kiwisecom?Redirect=Log&logNo=30173866113&from=section ##########\n",
        "3959"
       ]
      },
      {
       "output_type": "stream",
       "stream": "stdout",
       "text": [
        "\n",
        "info: 75 http://blog.naver.com/jungyun81?Redirect=Log&logNo=90179027490&from=section ##########\n",
        "3789"
       ]
      },
      {
       "output_type": "stream",
       "stream": "stdout",
       "text": [
        "\n",
        "info: 37 http://gagamal010.blog.me/20193649861 ##########\n",
        "3789"
       ]
      },
      {
       "output_type": "stream",
       "stream": "stdout",
       "text": [
        "\n",
        "info: 35 http://gipy1026.blog.me/10174261850 ##########\n",
        "3789"
       ]
      },
      {
       "output_type": "stream",
       "stream": "stdout",
       "text": [
        "\n",
        "info: 75 http://blog.naver.com/jaeminski?Redirect=Log&logNo=80195968357&from=section ##########\n",
        "1476"
       ]
      },
      {
       "output_type": "stream",
       "stream": "stdout",
       "text": [
        "\n",
        "info: 34 http://helovestory.com/90179031136 ##########\n",
        "1476"
       ]
      },
      {
       "output_type": "stream",
       "stream": "stdout",
       "text": [
        "\n",
        "\uc74c\uc545\n",
        "http://section.blog.naver.com//sub/PostListByDirectory.nhn?option.directorySeq=11\n",
        "1\n",
        "http://section.blog.naver.com//sub/PostListByDirectory.nhn?option.directorySeq=11\n",
        "\uc74c\uc545 http://section.blog.naver.com//sub/PostListByDirectory.nhn?option.directorySeq=11&option.page.currentPage=1\n",
        "info:"
       ]
      },
      {
       "output_type": "stream",
       "stream": "stdout",
       "text": [
        " 75 http://blog.naver.com/jowoohun?Redirect=Log&logNo=130174111452&from=section ##########\n",
        "980"
       ]
      },
      {
       "output_type": "stream",
       "stream": "stdout",
       "text": [
        "\n",
        "info: 74 http://blog.naver.com/nightsho?Redirect=Log&logNo=70173624931&from=section ##########\n",
        "1380"
       ]
      },
      {
       "output_type": "stream",
       "stream": "stdout",
       "text": [
        "\n",
        "info: 36 http://kwanwoo81.blog.me/10174262990 ##########\n",
        "1380"
       ]
      },
      {
       "output_type": "stream",
       "stream": "stdout",
       "text": [
        "\n",
        "info: 39 http://cccezccc0218.blog.me/40195029753 ##########\n",
        "1380"
       ]
      },
      {
       "output_type": "stream",
       "stream": "stdout",
       "text": [
        "\n",
        "info: 33 http://icej10.blog.me/60197907806 ##########\n",
        "1380"
       ]
      },
      {
       "output_type": "stream",
       "stream": "stdout",
       "text": [
        "\n",
        "info: 37 http://cutie0621.blog.me/100193954865 ##########\n",
        "1380"
       ]
      },
      {
       "output_type": "stream",
       "stream": "stdout",
       "text": [
        "\n",
        "info: 73 http://blog.naver.com/ciltony?Redirect=Log&logNo=80195991229&from=section ##########\n",
        "1743"
       ]
      },
      {
       "output_type": "stream",
       "stream": "stdout",
       "text": [
        "\n",
        "info: 74 http://blog.naver.com/hanawin1?Redirect=Log&logNo=10174265602&from=section ##########\n",
        "2274"
       ]
      },
      {
       "output_type": "stream",
       "stream": "stdout",
       "text": [
        "\n",
        "info: 74 http://blog.naver.com/dedelind?Redirect=Log&logNo=20193636401&from=section ##########\n",
        "1765"
       ]
      },
      {
       "output_type": "stream",
       "stream": "stdout",
       "text": [
        "\n",
        "info: 74 http://blog.naver.com/love9665?Redirect=Log&logNo=80195982880&from=section ##########\n",
        "1194"
       ]
      },
      {
       "output_type": "stream",
       "stream": "stdout",
       "text": [
        "\n",
        "\ub4dc\ub77c\ub9c8\n",
        "http://section.blog.naver.com//sub/PostListByDirectory.nhn?option.directorySeq=9\n",
        "1\n",
        "http://section.blog.naver.com//sub/PostListByDirectory.nhn?option.directorySeq=9\n",
        "\ub4dc\ub77c\ub9c8 http://section.blog.naver.com//sub/PostListByDirectory.nhn?option.directorySeq=9&option.page.currentPage=1\n",
        "info:"
       ]
      },
      {
       "output_type": "stream",
       "stream": "stdout",
       "text": [
        " 38 http://myhearts16.blog.me/140195102227 ##########\n",
        "1194"
       ]
      },
      {
       "output_type": "stream",
       "stream": "stdout",
       "text": [
        "\n",
        "info: 36 http://jwbae1004.blog.me/50177374281 ##########\n",
        "1194"
       ]
      },
      {
       "output_type": "stream",
       "stream": "stdout",
       "text": [
        "\n",
        "info: 77 http://blog.naver.com/jedi_anakin?Redirect=Log&logNo=80195926103&from=section ##########\n",
        "343"
       ]
      },
      {
       "output_type": "stream",
       "stream": "stdout",
       "text": [
        "\n",
        "info: 34 http://gaqsuw.blog.me/130174118182 ##########\n",
        "343"
       ]
      },
      {
       "output_type": "stream",
       "stream": "stdout",
       "text": [
        "\n",
        "info: 74 http://blog.naver.com/arahi428?Redirect=Log&logNo=90179008914&from=section ##########\n",
        "4574"
       ]
      },
      {
       "output_type": "stream",
       "stream": "stdout",
       "text": [
        "\n",
        "info: 32 http://smileblog.me/140195116048 ##########\n",
        "4574"
       ]
      },
      {
       "output_type": "stream",
       "stream": "stdout",
       "text": [
        "\n",
        "info: 33 http://jhe137.blog.me/10174268918 ##########\n",
        "4574"
       ]
      },
      {
       "output_type": "stream",
       "stream": "stdout",
       "text": [
        "\n",
        "info: 74 http://blog.naver.com/air0071?Redirect=Log&logNo=130174121406&from=section ##########\n",
        "1788"
       ]
      },
      {
       "output_type": "stream",
       "stream": "stdout",
       "text": [
        "\n",
        "info: 75 http://blog.naver.com/12heejin?Redirect=Log&logNo=110174033493&from=section ##########\n",
        "3161"
       ]
      },
      {
       "output_type": "stream",
       "stream": "stdout",
       "text": [
        "\n",
        "info: 75 http://blog.naver.com/12heejin?Redirect=Log&logNo=110174032823&from=section ##########\n",
        "3566"
       ]
      },
      {
       "output_type": "stream",
       "stream": "stdout",
       "text": [
        "\n",
        "\uc2a4\ud0c0\u00b7\uc5f0\uc608\uc778\n",
        "http://section.blog.naver.com//sub/PostListByDirectory.nhn?option.directorySeq=12\n",
        "1\n",
        "http://section.blog.naver.com//sub/PostListByDirectory.nhn?option.directorySeq=12\n",
        "\uc2a4\ud0c0\u00b7\uc5f0\uc608\uc778 http://section.blog.naver.com//sub/PostListByDirectory.nhn?option.directorySeq=12&option.page.currentPage=1\n",
        "info:"
       ]
      },
      {
       "output_type": "stream",
       "stream": "stdout",
       "text": [
        " 73 http://blog.naver.com/dskscj?Redirect=Log&logNo=150173842783&from=section ##########\n",
        "1116"
       ]
      },
      {
       "output_type": "stream",
       "stream": "stdout",
       "text": [
        "\n",
        "info: 72 http://blog.naver.com/dae201?Redirect=Log&logNo=40195026406&from=section ##########\n",
        "3245"
       ]
      },
      {
       "output_type": "stream",
       "stream": "stdout",
       "text": [
        "\n",
        "info: 76 http://blog.naver.com/celine1117?Redirect=Log&logNo=70173418841&from=section ##########\n",
        "5082"
       ]
      },
      {
       "output_type": "stream",
       "stream": "stdout",
       "text": [
        "\n",
        "info: 77 http://blog.naver.com/ninomimania?Redirect=Log&logNo=80195980359&from=section ##########\n",
        "3572"
       ]
      },
      {
       "output_type": "stream",
       "stream": "stdout",
       "text": [
        "\n",
        "info: 74 http://blog.naver.com/okuimasami?Redirect=Log&logNo=193076612&from=section ##########\n",
        "5984"
       ]
      },
      {
       "output_type": "stream",
       "stream": "stdout",
       "text": [
        "\n",
        "info: 74 http://blog.naver.com/diazmix?Redirect=Log&logNo=140195117550&from=section ##########\n",
        "1412"
       ]
      },
      {
       "output_type": "stream",
       "stream": "stdout",
       "text": [
        "\n",
        "info: 76 http://blog.naver.com/bless4may?Redirect=Log&logNo=150173860429&from=section ##########\n",
        "2374"
       ]
      },
      {
       "output_type": "stream",
       "stream": "stdout",
       "text": [
        "\n",
        "info: 31 http://imusic-u.com/80195978679 ##########\n",
        "2374"
       ]
      },
      {
       "output_type": "stream",
       "stream": "stdout",
       "text": [
        "\n",
        "info: 77 http://blog.naver.com/chanju1990?Redirect=Log&logNo=130174121408&from=section ##########\n",
        "1875"
       ]
      },
      {
       "output_type": "stream",
       "stream": "stdout",
       "text": [
        "\n",
        "info: 33 http://diff99.blog.me/50177364353 ##########\n",
        "1875"
       ]
      },
      {
       "output_type": "stream",
       "stream": "stdout",
       "text": [
        "\n",
        "\ub9cc\ud654\u00b7\uc560\ub2c8\n",
        "http://section.blog.naver.com//sub/PostListByDirectory.nhn?option.directorySeq=13\n",
        "1\n",
        "http://section.blog.naver.com//sub/PostListByDirectory.nhn?option.directorySeq=13\n",
        "\ub9cc\ud654\u00b7\uc560\ub2c8 http://section.blog.naver.com//sub/PostListByDirectory.nhn?option.directorySeq=13&option.page.currentPage=1\n",
        "info:"
       ]
      },
      {
       "output_type": "stream",
       "stream": "stdout",
       "text": [
        " 33 http://28686.blog.me/100193954120 ##########\n",
        "1875"
       ]
      },
      {
       "output_type": "stream",
       "stream": "stdout",
       "text": [
        "\n",
        "info: 36 http://bakemono1.blog.me/50177365336 ##########\n",
        "1875"
       ]
      },
      {
       "output_type": "stream",
       "stream": "stdout",
       "text": [
        "\n",
        "info: 73 http://blog.naver.com/sec1021?Redirect=Log&logNo=30150186162&from=section ##########\n",
        "4219"
       ]
      },
      {
       "output_type": "stream",
       "stream": "stdout",
       "text": [
        "\n",
        "info: 73 http://blog.naver.com/ipari67?Redirect=Log&logNo=40195022224&from=section ##########\n",
        "2076"
       ]
      },
      {
       "output_type": "stream",
       "stream": "stdout",
       "text": [
        "\n",
        "info: 75 http://blog.naver.com/ssomerzz?Redirect=Log&logNo=100193973366&from=section ##########\n",
        "1931"
       ]
      },
      {
       "output_type": "stream",
       "stream": "stdout",
       "text": [
        "\n",
        "info: 75 http://blog.naver.com/love2mix?Redirect=Log&logNo=150173853347&from=section ##########\n",
        "2017"
       ]
      },
      {
       "output_type": "stream",
       "stream": "stdout",
       "text": [
        "\n",
        "info: 31 http://b0ngji.blog.me/193091060 ##########\n",
        "2017"
       ]
      },
      {
       "output_type": "stream",
       "stream": "stdout",
       "text": [
        "\n",
        "info: 36 http://batman691.blog.me/50177370540 ##########\n",
        "2017"
       ]
      },
      {
       "output_type": "stream",
       "stream": "stdout",
       "text": [
        "\n",
        "info: 75 http://blog.naver.com/aokisekai?Redirect=Log&logNo=50177378952&from=section ##########\n",
        "7004"
       ]
      },
      {
       "output_type": "stream",
       "stream": "stdout",
       "text": [
        "\n",
        "info: 73 http://blog.naver.com/chinppo?Redirect=Log&logNo=80195985514&from=section ##########\n",
        "1397"
       ]
      },
      {
       "output_type": "stream",
       "stream": "stdout",
       "text": [
        "\n",
        "\ubc29\uc1a1\n",
        "http://section.blog.naver.com//sub/PostListByDirectory.nhn?option.directorySeq=10\n",
        "1\n",
        "http://section.blog.naver.com//sub/PostListByDirectory.nhn?option.directorySeq=10\n",
        "\ubc29\uc1a1 http://section.blog.naver.com//sub/PostListByDirectory.nhn?option.directorySeq=10&option.page.currentPage=1\n",
        "info:"
       ]
      },
      {
       "output_type": "stream",
       "stream": "stdout",
       "text": [
        " 76 http://blog.naver.com/lovejsh85?Redirect=Log&logNo=110174030335&from=section ##########\n",
        "2270"
       ]
      },
      {
       "output_type": "stream",
       "stream": "stdout",
       "text": [
        "\n",
        "info: 75 http://blog.naver.com/part5525?Redirect=Log&logNo=140195107077&from=section ##########\n",
        "2759"
       ]
      },
      {
       "output_type": "stream",
       "stream": "stdout",
       "text": [
        "\n",
        "info: 73 http://blog.naver.com/jully71?Redirect=Log&logNo=90179023999&from=section ##########\n",
        "3215"
       ]
      },
      {
       "output_type": "stream",
       "stream": "stdout",
       "text": [
        "\n",
        "info: 36 http://gsnj1226.blog.me/100193966482 ##########\n",
        "3215"
       ]
      },
      {
       "output_type": "stream",
       "stream": "stdout",
       "text": [
        "\n",
        "info: 37 http://turkeydia.blog.me/100193957724 ##########\n",
        "3215"
       ]
      },
      {
       "output_type": "stream",
       "stream": "stdout",
       "text": [
        "\n",
        "info: 32 http://copse.blog.me/60197919247 ##########\n",
        "3215"
       ]
      },
      {
       "output_type": "stream",
       "stream": "stdout",
       "text": [
        "\n",
        "info: 33 http://milksu.blog.me/40195031953 ##########\n",
        "3215"
       ]
      },
      {
       "output_type": "stream",
       "stream": "stdout",
       "text": [
        "\n",
        "info: 73 http://blog.naver.com/dbsqhd_?Redirect=Log&logNo=70173636174&from=section ##########\n",
        "1107"
       ]
      },
      {
       "output_type": "stream",
       "stream": "stdout",
       "text": [
        "\n",
        "info: 35 http://yoyo7755.blog.me/90179020912 ##########\n",
        "1107"
       ]
      },
      {
       "output_type": "stream",
       "stream": "stdout",
       "text": [
        "\n",
        "info: 74 http://blog.naver.com/hsmangel?Redirect=Log&logNo=70173619500&from=section ##########\n",
        "1801"
       ]
      },
      {
       "output_type": "stream",
       "stream": "stdout",
       "text": [
        "\n",
        "\uc77c\uc0c1\u00b7\uc0dd\uac01\n",
        "http://section.blog.naver.com//sub/PostListByDirectory.nhn?option.directorySeq=14\n",
        "1\n",
        "http://section.blog.naver.com//sub/PostListByDirectory.nhn?option.directorySeq=14\n",
        "\uc77c\uc0c1\u00b7\uc0dd\uac01 http://section.blog.naver.com//sub/PostListByDirectory.nhn?option.directorySeq=14&option.page.currentPage=1\n",
        "info:"
       ]
      },
      {
       "output_type": "stream",
       "stream": "stdout",
       "text": [
        " 75 http://blog.naver.com/pinkmimi3?Redirect=Log&logNo=50177362484&from=section ##########\n",
        "6391"
       ]
      },
      {
       "output_type": "stream",
       "stream": "stdout",
       "text": [
        "\n",
        "info: 40 http://ssilverberry.blog.me/130174116019 ##########\n",
        "6391"
       ]
      },
      {
       "output_type": "stream",
       "stream": "stdout",
       "text": [
        "\n",
        "info: 74 http://blog.naver.com/wjdfo47?Redirect=Log&logNo=100193956703&from=section ##########\n",
        "2011"
       ]
      },
      {
       "output_type": "stream",
       "stream": "stdout",
       "text": [
        "\n",
        "info: 33 http://eestep.blog.me/40195024643 ##########\n",
        "2011"
       ]
      },
      {
       "output_type": "stream",
       "stream": "stdout",
       "text": [
        "\n",
        "info: 73 http://blog.naver.com/narawh?Redirect=Log&logNo=130174128089&from=section ##########\n",
        "2630"
       ]
      },
      {
       "output_type": "stream",
       "stream": "stdout",
       "text": [
        "\n",
        "info: 73 http://blog.naver.com/narawh?Redirect=Log&logNo=130174126728&from=section ##########\n",
        "2260"
       ]
      },
      {
       "output_type": "stream",
       "stream": "stdout",
       "text": [
        "\n",
        "info: 77 http://blog.naver.com/aristata73?Redirect=Log&logNo=110174035649&from=section ##########\n",
        "3693"
       ]
      },
      {
       "output_type": "stream",
       "stream": "stdout",
       "text": [
        "\n",
        "info: 40 http://juliashin424.blog.me/130174114042 ##########\n",
        "3693"
       ]
      },
      {
       "output_type": "stream",
       "stream": "stdout",
       "text": [
        "\n",
        "info: 73 http://blog.naver.com/mhl4276?Redirect=Log&logNo=90179026314&from=section ##########\n",
        "2218"
       ]
      },
      {
       "output_type": "stream",
       "stream": "stdout",
       "text": [
        "\n",
        "info: 74 http://blog.naver.com/skwlsi85?Redirect=Log&logNo=80195989426&from=section ##########\n",
        "4364"
       ]
      },
      {
       "output_type": "stream",
       "stream": "stdout",
       "text": [
        "\n",
        "\uc721\uc544\u00b7\uacb0\ud63c\n",
        "http://section.blog.naver.com//sub/PostListByDirectory.nhn?option.directorySeq=15\n",
        "1\n",
        "http://section.blog.naver.com//sub/PostListByDirectory.nhn?option.directorySeq=15\n",
        "\uc721\uc544\u00b7\uacb0\ud63c http://section.blog.naver.com//sub/PostListByDirectory.nhn?option.directorySeq=15&option.page.currentPage=1\n",
        "info:"
       ]
      },
      {
       "output_type": "stream",
       "stream": "stdout",
       "text": [
        " 76 http://blog.naver.com/cherrie486?Redirect=Log&logNo=70173634857&from=section ##########\n",
        "3839"
       ]
      },
      {
       "output_type": "stream",
       "stream": "stdout",
       "text": [
        "\n",
        "info: 76 http://blog.naver.com/130046285?Redirect=Log&logNo=150173383313&from=section ##########\n",
        "2070"
       ]
      },
      {
       "output_type": "stream",
       "stream": "stdout",
       "text": [
        "\n",
        "info: 77 http://blog.naver.com/kslovejh99?Redirect=Log&logNo=150173849745&from=section ##########\n",
        "6266"
       ]
      },
      {
       "output_type": "stream",
       "stream": "stdout",
       "text": [
        "\n",
        "info: 73 http://blog.naver.com/killsia79?Redirect=Log&logNo=193102882&from=section ##########\n",
        "4289"
       ]
      },
      {
       "output_type": "stream",
       "stream": "stdout",
       "text": [
        "\n",
        "info: 36 http://fashionimom.blog.me/193084394 ##########\n",
        "4289"
       ]
      },
      {
       "output_type": "stream",
       "stream": "stdout",
       "text": [
        "\n",
        "info: 77 http://blog.naver.com/kungmin5677?Redirect=Log&logNo=80195988104&from=section ##########\n",
        "2294"
       ]
      },
      {
       "output_type": "stream",
       "stream": "stdout",
       "text": [
        "\n",
        "info: 75 http://blog.naver.com/lemon6709?Redirect=Log&logNo=30173861106&from=section ##########\n",
        "3055"
       ]
      },
      {
       "output_type": "stream",
       "stream": "stdout",
       "text": [
        "\n",
        "info: 75 http://blog.naver.com/skolive79?Redirect=Log&logNo=10174259056&from=section ##########\n",
        "3220"
       ]
      },
      {
       "output_type": "stream",
       "stream": "stdout",
       "text": [
        "\n",
        "info: 39 http://bihangsonyu.blog.me/120196101367 ##########\n",
        "3220"
       ]
      },
      {
       "output_type": "stream",
       "stream": "stdout",
       "text": [
        "\n",
        "info: 35 http://jsk3514.blog.me/140195121104 ##########\n",
        "3220"
       ]
      },
      {
       "output_type": "stream",
       "stream": "stdout",
       "text": [
        "\n",
        "\uc560\uc644\u00b7\ubc18\ub824\ub3d9\ubb3c\n",
        "http://section.blog.naver.com//sub/PostListByDirectory.nhn?option.directorySeq=16\n",
        "1\n",
        "http://section.blog.naver.com//sub/PostListByDirectory.nhn?option.directorySeq=16\n",
        "\uc560\uc644\u00b7\ubc18\ub824\ub3d9\ubb3c http://section.blog.naver.com//sub/PostListByDirectory.nhn?option.directorySeq=16&option.page.currentPage=1\n",
        "info:"
       ]
      },
      {
       "output_type": "stream",
       "stream": "stdout",
       "text": [
        " 38 http://dlwndud1974.blog.me/20193636409 ##########\n",
        "3220"
       ]
      },
      {
       "output_type": "stream",
       "stream": "stdout",
       "text": [
        "\n",
        "info: 33 http://pjjwp.blog.me/120196097245 ##########\n",
        "3220"
       ]
      },
      {
       "output_type": "stream",
       "stream": "stdout",
       "text": [
        "\n",
        "info: 75 http://blog.naver.com/amourette?Redirect=Log&logNo=90179028811&from=section ##########\n",
        "1752"
       ]
      },
      {
       "output_type": "stream",
       "stream": "stdout",
       "text": [
        "\n",
        "info: 75 http://blog.naver.com/amourette?Redirect=Log&logNo=90179027242&from=section ##########\n",
        "1382"
       ]
      },
      {
       "output_type": "stream",
       "stream": "stdout",
       "text": [
        "\n",
        "info: 34 http://jjun288.blog.me/60197900471 ##########\n",
        "1382"
       ]
      },
      {
       "output_type": "stream",
       "stream": "stdout",
       "text": [
        "\n",
        "info: 77 http://blog.naver.com/fogbow1003?Redirect=Log&logNo=100193960138&from=section ##########\n",
        "1612"
       ]
      },
      {
       "output_type": "stream",
       "stream": "stdout",
       "text": [
        "\n",
        "info: 77 http://blog.naver.com/kimlovemint?Redirect=Log&logNo=50177382217&from=section ##########\n",
        "1503"
       ]
      },
      {
       "output_type": "stream",
       "stream": "stdout",
       "text": [
        "\n",
        "info: 74 http://blog.naver.com/tnfla78?Redirect=Log&logNo=100193860761&from=section ##########\n",
        "1258"
       ]
      },
      {
       "output_type": "stream",
       "stream": "stdout",
       "text": [
        "\n",
        "info: 74 http://blog.naver.com/korean9315?Redirect=Log&logNo=193081675&from=section ##########\n",
        "1311"
       ]
      },
      {
       "output_type": "stream",
       "stream": "stdout",
       "text": [
        "\n",
        "info: 75 http://blog.naver.com/jen_jen89?Redirect=Log&logNo=20193638548&from=section ##########\n",
        "1388"
       ]
      },
      {
       "output_type": "stream",
       "stream": "stdout",
       "text": [
        "\n",
        "\uc88b\uc740\uae00\u00b7\uc774\ubbf8\uc9c0\n",
        "http://section.blog.naver.com//sub/PostListByDirectory.nhn?option.directorySeq=17\n",
        "1\n",
        "http://section.blog.naver.com//sub/PostListByDirectory.nhn?option.directorySeq=17\n",
        "\uc88b\uc740\uae00\u00b7\uc774\ubbf8\uc9c0 http://section.blog.naver.com//sub/PostListByDirectory.nhn?option.directorySeq=17&option.page.currentPage=1\n",
        "info:"
       ]
      },
      {
       "output_type": "stream",
       "stream": "stdout",
       "text": [
        " 77 http://blog.naver.com/loveme9653?Redirect=Log&logNo=150173847519&from=section ##########\n",
        "4311"
       ]
      },
      {
       "output_type": "stream",
       "stream": "stdout",
       "text": [
        "\n",
        "info: 33 http://zaawoo.blog.me/70173535552 ##########\n",
        "4311"
       ]
      },
      {
       "output_type": "stream",
       "stream": "stdout",
       "text": [
        "\n",
        "info: 78 http://blog.naver.com/sugarcat_soo?Redirect=Log&logNo=40195036042&from=section ##########\n",
        "3500"
       ]
      },
      {
       "output_type": "stream",
       "stream": "stdout",
       "text": [
        "\n",
        "info: 32 http://ju_need.blog.me/193102631 ##########\n",
        "3500"
       ]
      },
      {
       "output_type": "stream",
       "stream": "stdout",
       "text": [
        "\n",
        "info: 75 http://blog.naver.com/heehi7171?Redirect=Log&logNo=40195035442&from=section ##########\n",
        "3298"
       ]
      },
      {
       "output_type": "stream",
       "stream": "stdout",
       "text": [
        "\n",
        "info: 35 http://mensch76.blog.me/10174153768 ##########\n",
        "3298"
       ]
      },
      {
       "output_type": "stream",
       "stream": "stdout",
       "text": [
        "\n",
        "info: 75 http://blog.naver.com/kimsg327?Redirect=Log&logNo=130174108719&from=section ##########\n",
        "1462"
       ]
      },
      {
       "output_type": "stream",
       "stream": "stdout",
       "text": [
        "\n",
        "info: 72 http://blog.naver.com/aekmj1?Redirect=Log&logNo=40195021604&from=section ##########\n",
        "1213"
       ]
      },
      {
       "output_type": "stream",
       "stream": "stdout",
       "text": [
        "\n",
        "info: 36 http://raonhilzo.blog.me/40195035050 ##########\n",
        "1213"
       ]
      },
      {
       "output_type": "stream",
       "stream": "stdout",
       "text": [
        "\n",
        "info: 78 http://blog.naver.com/lovelyeun41?Redirect=Log&logNo=100193959683&from=section ##########\n",
        "2906"
       ]
      },
      {
       "output_type": "stream",
       "stream": "stdout",
       "text": [
        "\n",
        "\ud328\uc158\u00b7\ubbf8\uc6a9\n",
        "http://section.blog.naver.com//sub/PostListByDirectory.nhn?option.directorySeq=18\n",
        "1\n",
        "http://section.blog.naver.com//sub/PostListByDirectory.nhn?option.directorySeq=18\n",
        "\ud328\uc158\u00b7\ubbf8\uc6a9 http://section.blog.naver.com//sub/PostListByDirectory.nhn?option.directorySeq=18&option.page.currentPage=1\n",
        "info:"
       ]
      },
      {
       "output_type": "stream",
       "stream": "stdout",
       "text": [
        " 74 http://blog.naver.com/venitina?Redirect=Log&logNo=60197899589&from=section ##########\n",
        "3381"
       ]
      },
      {
       "output_type": "stream",
       "stream": "stdout",
       "text": [
        "\n",
        "info: 33 http://5252ng.blog.me/70173554496 ##########\n",
        "3381"
       ]
      },
      {
       "output_type": "stream",
       "stream": "stdout",
       "text": [
        "\n",
        "info: 74 http://blog.naver.com/autolian?Redirect=Log&logNo=30173851132&from=section ##########\n",
        "2473"
       ]
      },
      {
       "output_type": "stream",
       "stream": "stdout",
       "text": [
        "\n",
        "info: 74 http://blog.naver.com/invu1657?Redirect=Log&logNo=60197896929&from=section ##########\n",
        "3722"
       ]
      },
      {
       "output_type": "stream",
       "stream": "stdout",
       "text": [
        "\n",
        "info: 37 http://sosimiking.blog.me/20193640975 ##########\n",
        "3722"
       ]
      },
      {
       "output_type": "stream",
       "stream": "stdout",
       "text": [
        "\n",
        "info: 73 http://blog.naver.com/yyi7641?Redirect=Log&logNo=20193643498&from=section ##########\n",
        "1663"
       ]
      },
      {
       "output_type": "stream",
       "stream": "stdout",
       "text": [
        "\n",
        "info: 35 http://gksdnekr.blog.me/20193549876 ##########\n",
        "1663"
       ]
      },
      {
       "output_type": "stream",
       "stream": "stdout",
       "text": [
        "\n",
        "info: 74 http://blog.naver.com/weinnie?Redirect=Log&logNo=150173858128&from=section ##########\n",
        "3838"
       ]
      },
      {
       "output_type": "stream",
       "stream": "stdout",
       "text": [
        "\n",
        "info: 34 http://sy0643.blog.me/130174112712 ##########\n",
        "3838"
       ]
      },
      {
       "output_type": "stream",
       "stream": "stdout",
       "text": [
        "\n",
        "info: 40 http://mariesmakeup.blog.me/120196096758 ##########\n",
        "3838"
       ]
      },
      {
       "output_type": "stream",
       "stream": "stdout",
       "text": [
        "\n",
        "\uc778\ud14c\ub9ac\uc5b4\u00b7DIY\n",
        "http://section.blog.naver.com//sub/PostListByDirectory.nhn?option.directorySeq=19\n",
        "1\n",
        "http://section.blog.naver.com//sub/PostListByDirectory.nhn?option.directorySeq=19\n",
        "\uc778\ud14c\ub9ac\uc5b4\u00b7DIY http://section.blog.naver.com//sub/PostListByDirectory.nhn?option.directorySeq=19&option.page.currentPage=1\n",
        "info:"
       ]
      },
      {
       "output_type": "stream",
       "stream": "stdout",
       "text": [
        " 34 http://maroonsea.blog.me/193071729 ##########\n",
        "3838"
       ]
      },
      {
       "output_type": "stream",
       "stream": "stdout",
       "text": [
        "\n",
        "info: 33 http://ekuku.blog.me/110174017217 ##########\n",
        "3838"
       ]
      },
      {
       "output_type": "stream",
       "stream": "stdout",
       "text": [
        "\n",
        "info: 32 http://gwity.blog.me/50177370166 ##########\n",
        "3838"
       ]
      },
      {
       "output_type": "stream",
       "stream": "stdout",
       "text": [
        "\n",
        "info: 36 http://naiadny1.blog.me/130174118934 ##########\n",
        "3838"
       ]
      },
      {
       "output_type": "stream",
       "stream": "stdout",
       "text": [
        "\n",
        "info: 35 http://ywyw9753.blog.me/80195962460 ##########\n",
        "3838"
       ]
      },
      {
       "output_type": "stream",
       "stream": "stdout",
       "text": [
        "\n",
        "info: 38 http://ddangkongjh.blog.me/30173855852 ##########\n",
        "3838"
       ]
      },
      {
       "output_type": "stream",
       "stream": "stdout",
       "text": [
        "\n",
        "info: 38 http://wjsalstmd00.blog.me/90179011535 ##########\n",
        "3838"
       ]
      },
      {
       "output_type": "stream",
       "stream": "stdout",
       "text": [
        "\n",
        "info: 72 http://blog.naver.com/ysimio?Redirect=Log&logNo=40195021387&from=section ##########\n",
        "1218"
       ]
      },
      {
       "output_type": "stream",
       "stream": "stdout",
       "text": [
        "\n",
        "info: 34 http://sj9800.blog.me/100193972532 ##########\n",
        "1218"
       ]
      },
      {
       "output_type": "stream",
       "stream": "stdout",
       "text": [
        "\n",
        "info: 72 http://blog.naver.com/cury_?Redirect=Log&logNo=140195103712&from=section ##########\n",
        "2449"
       ]
      },
      {
       "output_type": "stream",
       "stream": "stdout",
       "text": [
        "\n",
        "\uc694\ub9ac\u00b7\ub808\uc2dc\ud53c\n",
        "http://section.blog.naver.com//sub/PostListByDirectory.nhn?option.directorySeq=20\n",
        "1\n",
        "http://section.blog.naver.com//sub/PostListByDirectory.nhn?option.directorySeq=20\n",
        "\uc694\ub9ac\u00b7\ub808\uc2dc\ud53c http://section.blog.naver.com//sub/PostListByDirectory.nhn?option.directorySeq=20&option.page.currentPage=1\n",
        "info:"
       ]
      },
      {
       "output_type": "stream",
       "stream": "stdout",
       "text": [
        " 77 http://blog.naver.com/aristata73?Redirect=Log&logNo=110174022519&from=section ##########\n",
        "1593"
       ]
      },
      {
       "output_type": "stream",
       "stream": "stdout",
       "text": [
        "\n",
        "info: 77 http://blog.naver.com/handmagic27?Redirect=Log&logNo=30173855173&from=section ##########\n",
        "6594"
       ]
      },
      {
       "output_type": "stream",
       "stream": "stdout",
       "text": [
        "\n",
        "info: 29 http://honeykki.com/193036412 ##########\n",
        "6594"
       ]
      },
      {
       "output_type": "stream",
       "stream": "stdout",
       "text": [
        "\n",
        "info: 70 http://blog.naver.com/ja8218?Redirect=Log&logNo=193095564&from=section ##########\n",
        "2888"
       ]
      },
      {
       "output_type": "stream",
       "stream": "stdout",
       "text": [
        "\n",
        "info: 32 http://mag01.blog.me/20193655476 ##########\n",
        "2888"
       ]
      },
      {
       "output_type": "stream",
       "stream": "stdout",
       "text": [
        "\n",
        "info: 74 http://blog.naver.com/autolian?Redirect=Log&logNo=30173860009&from=section ##########\n",
        "1706"
       ]
      },
      {
       "output_type": "stream",
       "stream": "stdout",
       "text": [
        "\n",
        "info: 76 http://blog.naver.com/ncharisma7?Redirect=Log&logNo=30173870690&from=section ##########\n",
        "2181"
       ]
      },
      {
       "output_type": "stream",
       "stream": "stdout",
       "text": [
        "\n",
        "info: 75 http://blog.naver.com/pingu528?Redirect=Log&logNo=120196093443&from=section ##########\n",
        "2159"
       ]
      },
      {
       "output_type": "stream",
       "stream": "stdout",
       "text": [
        "\n",
        "info: 37 http://adtms3507.blog.me/100193952114 ##########\n",
        "2159"
       ]
      },
      {
       "output_type": "stream",
       "stream": "stdout",
       "text": [
        "\n",
        "info: 75 http://blog.naver.com/sakwanamu?Redirect=Log&logNo=30172976589&from=section ##########\n",
        "1563"
       ]
      },
      {
       "output_type": "stream",
       "stream": "stdout",
       "text": [
        "\n",
        "\uc0c1\ud488\ub9ac\ubdf0\n",
        "http://section.blog.naver.com//sub/PostListByDirectory.nhn?option.directorySeq=21\n",
        "1\n",
        "http://section.blog.naver.com//sub/PostListByDirectory.nhn?option.directorySeq=21\n",
        "\uc0c1\ud488\ub9ac\ubdf0 http://section.blog.naver.com//sub/PostListByDirectory.nhn?option.directorySeq=21&option.page.currentPage=1\n",
        "info:"
       ]
      },
      {
       "output_type": "stream",
       "stream": "stdout",
       "text": [
        " 72 http://blog.naver.com/wine59?Redirect=Log&logNo=30173869351&from=section ##########\n",
        "5681"
       ]
      },
      {
       "output_type": "stream",
       "stream": "stdout",
       "text": [
        "\n",
        "info: 77 http://blog.naver.com/sunlight232?Redirect=Log&logNo=60197897993&from=section ##########\n",
        "4733"
       ]
      },
      {
       "output_type": "stream",
       "stream": "stdout",
       "text": [
        "\n",
        "info: 76 http://blog.naver.com/muhanbox0?Redirect=Log&logNo=110174024273&from=section ##########\n",
        "2422"
       ]
      },
      {
       "output_type": "stream",
       "stream": "stdout",
       "text": [
        "\n",
        "info: 77 http://blog.naver.com/1004gojung?Redirect=Log&logNo=130174121208&from=section ##########\n",
        "2954"
       ]
      },
      {
       "output_type": "stream",
       "stream": "stdout",
       "text": [
        "\n",
        "info: 71 http://blog.naver.com/fyjsj?Redirect=Log&logNo=10173748338&from=section ##########\n",
        "5952"
       ]
      },
      {
       "output_type": "stream",
       "stream": "stdout",
       "text": [
        "\n",
        "info: 28 http://yebom.net/60197905346 ##########\n",
        "5952"
       ]
      },
      {
       "output_type": "stream",
       "stream": "stdout",
       "text": [
        "\n",
        "info: 76 http://blog.naver.com/vnflwldk27?Redirect=Log&logNo=30173851036&from=section ##########\n",
        "2517"
       ]
      },
      {
       "output_type": "stream",
       "stream": "stdout",
       "text": [
        "\n",
        "info: 38 http://bboshasy21.blog.me/130174121894 ##########\n",
        "2517"
       ]
      },
      {
       "output_type": "stream",
       "stream": "stdout",
       "text": [
        "\n",
        "info: 37 http://pink_latte.blog.me/40195028700 ##########\n",
        "2517"
       ]
      },
      {
       "output_type": "stream",
       "stream": "stdout",
       "text": [
        "\n",
        "info: 39 http://studeio_zero.blog.me/50177368982 ##########\n",
        "2517"
       ]
      },
      {
       "output_type": "stream",
       "stream": "stdout",
       "text": [
        "\n",
        "\uac8c\uc784\n",
        "http://section.blog.naver.com//sub/PostListByDirectory.nhn?option.directorySeq=22\n",
        "1\n",
        "http://section.blog.naver.com//sub/PostListByDirectory.nhn?option.directorySeq=22\n",
        "\uac8c\uc784 http://section.blog.naver.com//sub/PostListByDirectory.nhn?option.directorySeq=22&option.page.currentPage=1\n",
        "info:"
       ]
      },
      {
       "output_type": "stream",
       "stream": "stdout",
       "text": [
        " 75 http://blog.naver.com/yuppiems?Redirect=Log&logNo=100193972350&from=section ##########\n",
        "3186"
       ]
      },
      {
       "output_type": "stream",
       "stream": "stdout",
       "text": [
        "\n",
        "info: 75 http://blog.naver.com/yuppiems?Redirect=Log&logNo=100193959735&from=section ##########\n",
        "2553"
       ]
      },
      {
       "output_type": "stream",
       "stream": "stdout",
       "text": [
        "\n",
        "info: 33 http://thdgk518.blog.me/193082264 ##########\n",
        "2553"
       ]
      },
      {
       "output_type": "stream",
       "stream": "stdout",
       "text": [
        "\n",
        "info: 77 http://blog.naver.com/lee_karam65?Redirect=Log&logNo=50177383024&from=section ##########\n",
        "1820"
       ]
      },
      {
       "output_type": "stream",
       "stream": "stdout",
       "text": [
        "\n",
        "info: 30 http://simulog.net/10174266868 ##########\n",
        "1820"
       ]
      },
      {
       "output_type": "stream",
       "stream": "stdout",
       "text": [
        "\n",
        "info: 31 http://crive.pe.kr/110174021126 ##########\n",
        "1820"
       ]
      },
      {
       "output_type": "stream",
       "stream": "stdout",
       "text": [
        "\n",
        "info: 71 http://blog.naver.com/ddihw?Redirect=Log&logNo=90179023742&from=section ##########\n",
        "2299"
       ]
      },
      {
       "output_type": "stream",
       "stream": "stdout",
       "text": [
        "\n",
        "info: 73 http://blog.naver.com/ya6145?Redirect=Log&logNo=130174114269&from=section ##########\n",
        "4145"
       ]
      },
      {
       "output_type": "stream",
       "stream": "stdout",
       "text": [
        "\n",
        "info: 29 http://noidse.com/20193646954 ##########\n",
        "4145"
       ]
      },
      {
       "output_type": "stream",
       "stream": "stdout",
       "text": [
        "\n",
        "info: 75 http://blog.naver.com/jin31320?Redirect=Log&logNo=130174115565&from=section ##########\n",
        "7084"
       ]
      },
      {
       "output_type": "stream",
       "stream": "stdout",
       "text": [
        "\n",
        "\uc2a4\ud3ec\uce20\n",
        "http://section.blog.naver.com//sub/PostListByDirectory.nhn?option.directorySeq=23\n",
        "1\n",
        "http://section.blog.naver.com//sub/PostListByDirectory.nhn?option.directorySeq=23\n",
        "\uc2a4\ud3ec\uce20 http://section.blog.naver.com//sub/PostListByDirectory.nhn?option.directorySeq=23&option.page.currentPage=1\n",
        "info:"
       ]
      },
      {
       "output_type": "stream",
       "stream": "stdout",
       "text": [
        " 36 http://rankeroov.blog.me/20193637163 ##########\n",
        "7084"
       ]
      },
      {
       "output_type": "stream",
       "stream": "stdout",
       "text": [
        "\n",
        "info: 77 http://blog.naver.com/choi9036903?Redirect=Log&logNo=50177333237&from=section ##########\n",
        "4075"
       ]
      },
      {
       "output_type": "stream",
       "stream": "stdout",
       "text": [
        "\n",
        "info: 73 http://blog.naver.com/qkraod1?Redirect=Log&logNo=20193651274&from=section ##########\n",
        "6419"
       ]
      },
      {
       "output_type": "stream",
       "stream": "stdout",
       "text": [
        "\n",
        "info: 72 http://blog.naver.com/rknavy?Redirect=Log&logNo=20193651090&from=section ##########\n",
        "2843"
       ]
      },
      {
       "output_type": "stream",
       "stream": "stdout",
       "text": [
        "\n",
        "info: 73 http://blog.naver.com/arter80?Redirect=Log&logNo=60197900183&from=section ##########\n",
        "6037"
       ]
      },
      {
       "output_type": "stream",
       "stream": "stdout",
       "text": [
        "\n",
        "info: 74 http://blog.naver.com/kejysy12?Redirect=Log&logNo=20193648838&from=section ##########\n",
        "4918"
       ]
      },
      {
       "output_type": "stream",
       "stream": "stdout",
       "text": [
        "\n",
        "info: 75 http://blog.naver.com/cjkslove?Redirect=Log&logNo=150173844197&from=section ##########\n",
        "3832"
       ]
      },
      {
       "output_type": "stream",
       "stream": "stdout",
       "text": [
        "\n",
        "info: 71 http://blog.naver.com/ndhwan2?Redirect=Log&logNo=193085536&from=section ##########\n",
        "3095"
       ]
      },
      {
       "output_type": "stream",
       "stream": "stdout",
       "text": [
        "\n",
        "info: 73 http://blog.naver.com/toyusa?Redirect=Log&logNo=110174014155&from=section ##########\n",
        "2740"
       ]
      },
      {
       "output_type": "stream",
       "stream": "stdout",
       "text": [
        "\n",
        "info: 31 http://f1byharo.com/70173623024 ##########\n",
        "2740"
       ]
      },
      {
       "output_type": "stream",
       "stream": "stdout",
       "text": [
        "\n",
        "\uc0ac\uc9c4\n",
        "http://section.blog.naver.com//sub/PostListByDirectory.nhn?option.directorySeq=24\n",
        "1\n",
        "http://section.blog.naver.com//sub/PostListByDirectory.nhn?option.directorySeq=24\n",
        "\uc0ac\uc9c4 http://section.blog.naver.com//sub/PostListByDirectory.nhn?option.directorySeq=24&option.page.currentPage=1\n",
        "info:"
       ]
      },
      {
       "output_type": "stream",
       "stream": "stdout",
       "text": [
        " 76 http://blog.naver.com/akffkfldh?Redirect=Log&logNo=130174038984&from=section ##########\n",
        "1164"
       ]
      },
      {
       "output_type": "stream",
       "stream": "stdout",
       "text": [
        "\n",
        "info: 73 http://blog.naver.com/oneman9?Redirect=Log&logNo=30173850587&from=section ##########\n",
        "4072"
       ]
      },
      {
       "output_type": "stream",
       "stream": "stdout",
       "text": [
        "\n",
        "info: 36 http://wngp_2000.blog.me/50177381642 ##########\n",
        "4072"
       ]
      },
      {
       "output_type": "stream",
       "stream": "stdout",
       "text": [
        "\n",
        "info: 35 http://mrmin007.blog.me/70173636905 ##########\n",
        "4072"
       ]
      },
      {
       "output_type": "stream",
       "stream": "stdout",
       "text": [
        "\n",
        "info: 36 http://byhokim68.blog.me/60197856902 ##########\n",
        "4072"
       ]
      },
      {
       "output_type": "stream",
       "stream": "stdout",
       "text": [
        "\n",
        "info: 36 http://jhdo0818.blog.me/120196107113 ##########\n",
        "4072"
       ]
      },
      {
       "output_type": "stream",
       "stream": "stdout",
       "text": [
        "\n",
        "info: 38 http://hk_kim_kor.blog.me/150173841758 ##########\n",
        "4072"
       ]
      },
      {
       "output_type": "stream",
       "stream": "stdout",
       "text": [
        "\n",
        "info: 29 http://selyong.kr/60197885283 ##########\n",
        "4072"
       ]
      },
      {
       "output_type": "stream",
       "stream": "stdout",
       "text": [
        "\n",
        "info: 27 http://samri.kr/30173704970 ##########\n",
        "4072"
       ]
      },
      {
       "output_type": "stream",
       "stream": "stdout",
       "text": [
        "\n",
        "info: 71 http://blog.naver.com/yshwa?Redirect=Log&logNo=10174255022&from=section ##########\n",
        "2795"
       ]
      },
      {
       "output_type": "stream",
       "stream": "stdout",
       "text": [
        "\n",
        "\uc790\ub3d9\ucc28\n",
        "http://section.blog.naver.com//sub/PostListByDirectory.nhn?option.directorySeq=25\n",
        "1\n",
        "http://section.blog.naver.com//sub/PostListByDirectory.nhn?option.directorySeq=25\n",
        "\uc790\ub3d9\ucc28 http://section.blog.naver.com//sub/PostListByDirectory.nhn?option.directorySeq=25&option.page.currentPage=1\n",
        "info:"
       ]
      },
      {
       "output_type": "stream",
       "stream": "stdout",
       "text": [
        " 27 http://joyrde.com/193090388 ##########\n",
        "2795"
       ]
      },
      {
       "output_type": "stream",
       "stream": "stdout",
       "text": [
        "\n",
        "info: 37 http://ehrhrehd1001.wo.gl/50177368410 ##########\n",
        "2795"
       ]
      },
      {
       "output_type": "stream",
       "stream": "stdout",
       "text": [
        "\n",
        "info: 72 http://blog.naver.com/sg2578?Redirect=Log&logNo=50177370062&from=section ##########\n",
        "3732"
       ]
      },
      {
       "output_type": "stream",
       "stream": "stdout",
       "text": [
        "\n",
        "info: 36 http://mide2002.blog.me/120196102044 ##########\n",
        "3732"
       ]
      },
      {
       "output_type": "stream",
       "stream": "stdout",
       "text": [
        "\n",
        "info: 78 http://blog.naver.com/nichadogear?Redirect=Log&logNo=130174121748&from=section ##########\n",
        "3658"
       ]
      },
      {
       "output_type": "stream",
       "stream": "stdout",
       "text": [
        "\n",
        "info: 29 http://nasimo.net/50177375461 ##########\n",
        "3658"
       ]
      },
      {
       "output_type": "stream",
       "stream": "stdout",
       "text": [
        "\n",
        "info: 37 http://detailingkorea.com/40194019936 ##########\n",
        "3658"
       ]
      },
      {
       "output_type": "stream",
       "stream": "stdout",
       "text": [
        "\n",
        "info: 75 http://blog.naver.com/kjsun119?Redirect=Log&logNo=120196107557&from=section ##########\n",
        "3717"
       ]
      },
      {
       "output_type": "stream",
       "stream": "stdout",
       "text": [
        "\n",
        "info: 35 http://38317pop.blog.me/20193639040 ##########\n",
        "3717"
       ]
      },
      {
       "output_type": "stream",
       "stream": "stdout",
       "text": [
        "\n",
        "info: 33 http://line9858.blog.me/193085827 ##########\n",
        "3717"
       ]
      },
      {
       "output_type": "stream",
       "stream": "stdout",
       "text": [
        "\n",
        "\ucde8\ubbf8\n",
        "http://section.blog.naver.com//sub/PostListByDirectory.nhn?option.directorySeq=26\n",
        "1\n",
        "http://section.blog.naver.com//sub/PostListByDirectory.nhn?option.directorySeq=26\n",
        "\ucde8\ubbf8 http://section.blog.naver.com//sub/PostListByDirectory.nhn?option.directorySeq=26&option.page.currentPage=1\n",
        "info:"
       ]
      },
      {
       "output_type": "stream",
       "stream": "stdout",
       "text": [
        " 76 http://blog.naver.com/woodak1204?Redirect=Log&logNo=90178992723&from=section ##########\n",
        "5935"
       ]
      },
      {
       "output_type": "stream",
       "stream": "stdout",
       "text": [
        "\n",
        "info: 72 http://blog.naver.com/ds2ldg?Redirect=Log&logNo=80195989480&from=section ##########\n",
        "3094"
       ]
      },
      {
       "output_type": "stream",
       "stream": "stdout",
       "text": [
        "\n",
        "info: 29 http://g-rapid.kr/90179010624 ##########\n",
        "3094"
       ]
      },
      {
       "output_type": "stream",
       "stream": "stdout",
       "text": [
        "\n",
        "info: 78 http://blog.naver.com/okiecookie1?Redirect=Log&logNo=130174126354&from=section ##########\n",
        "2399"
       ]
      },
      {
       "output_type": "stream",
       "stream": "stdout",
       "text": [
        "\n",
        "info: 73 http://blog.naver.com/kyw0070?Redirect=Log&logNo=80195985955&from=section ##########\n",
        "2084"
       ]
      },
      {
       "output_type": "stream",
       "stream": "stdout",
       "text": [
        "\n",
        "info: 32 http://eye4y.blog.me/90179010573 ##########\n",
        "2084"
       ]
      },
      {
       "output_type": "stream",
       "stream": "stdout",
       "text": [
        "\n",
        "info: 78 http://blog.naver.com/thailee_ohpy?Redirect=Log&logNo=20193653338&from=section ##########\n",
        "2367"
       ]
      },
      {
       "output_type": "stream",
       "stream": "stdout",
       "text": [
        "\n",
        "info: 37 http://patience07.blog.me/90179023496 ##########\n",
        "2367"
       ]
      },
      {
       "output_type": "stream",
       "stream": "stdout",
       "text": [
        "\n",
        "info: 73 http://blog.naver.com/chise22?Redirect=Log&logNo=60197891301&from=section ##########\n",
        "1412"
       ]
      },
      {
       "output_type": "stream",
       "stream": "stdout",
       "text": [
        "\n",
        "info: 71 http://blog.naver.com/iini3?Redirect=Log&logNo=80195995936&from=section ##########\n",
        "4856"
       ]
      },
      {
       "output_type": "stream",
       "stream": "stdout",
       "text": [
        "\n",
        "\uad6d\ub0b4\uc5ec\ud589\n",
        "http://section.blog.naver.com//sub/PostListByDirectory.nhn?option.directorySeq=27\n",
        "1\n",
        "http://section.blog.naver.com//sub/PostListByDirectory.nhn?option.directorySeq=27\n",
        "\uad6d\ub0b4\uc5ec\ud589 http://section.blog.naver.com//sub/PostListByDirectory.nhn?option.directorySeq=27&option.page.currentPage=1\n",
        "info:"
       ]
      },
      {
       "output_type": "stream",
       "stream": "stdout",
       "text": [
        " 33 http://turpu.blog.me/100193642974 ##########\n",
        "4856"
       ]
      },
      {
       "output_type": "stream",
       "stream": "stdout",
       "text": [
        "\n",
        "info: 74 http://blog.naver.com/suk4408?Redirect=Log&logNo=110174037158&from=section ##########\n",
        "2575"
       ]
      },
      {
       "output_type": "stream",
       "stream": "stdout",
       "text": [
        "\n",
        "info: 37 http://tangkong16.blog.me/10174245359 ##########\n",
        "2575"
       ]
      },
      {
       "output_type": "stream",
       "stream": "stdout",
       "text": [
        "\n",
        "info: 76 http://blog.naver.com/jongsulim?Redirect=Log&logNo=110173981370&from=section ##########\n",
        "6223"
       ]
      },
      {
       "output_type": "stream",
       "stream": "stdout",
       "text": [
        "\n",
        "info: 36 http://bada3347.blog.me/140195121545 ##########\n",
        "6223"
       ]
      },
      {
       "output_type": "stream",
       "stream": "stdout",
       "text": [
        "\n",
        "info: 72 http://blog.naver.com/mwsys?Redirect=Log&logNo=120196104933&from=section ##########\n",
        "7394"
       ]
      },
      {
       "output_type": "stream",
       "stream": "stdout",
       "text": [
        "\n",
        "info: 74 http://blog.naver.com/ddawndew?Redirect=Log&logNo=50177379998&from=section ##########\n",
        "4809"
       ]
      },
      {
       "output_type": "stream",
       "stream": "stdout",
       "text": [
        "\n",
        "info: 35 http://soonlove74.blog.me/193048245 ##########\n",
        "4809"
       ]
      },
      {
       "output_type": "stream",
       "stream": "stdout",
       "text": [
        "\n",
        "info: 34 http://jys4658.blog.me/30173651999 ##########\n",
        "4809"
       ]
      },
      {
       "output_type": "stream",
       "stream": "stdout",
       "text": [
        "\n",
        "info: 77 http://blog.naver.com/tjdrhd3030?Redirect=Log&logNo=140195114749&from=section ##########\n",
        "3498"
       ]
      },
      {
       "output_type": "stream",
       "stream": "stdout",
       "text": [
        "\n",
        "\uc138\uacc4\uc5ec\ud589\n",
        "http://section.blog.naver.com//sub/PostListByDirectory.nhn?option.directorySeq=28\n",
        "1\n",
        "http://section.blog.naver.com//sub/PostListByDirectory.nhn?option.directorySeq=28\n",
        "\uc138\uacc4\uc5ec\ud589 http://section.blog.naver.com//sub/PostListByDirectory.nhn?option.directorySeq=28&option.page.currentPage=1\n",
        "info:"
       ]
      },
      {
       "output_type": "stream",
       "stream": "stdout",
       "text": [
        " 71 http://blog.naver.com/dedoeoh?Redirect=Log&logNo=193089935&from=section ##########\n",
        "7860"
       ]
      },
      {
       "output_type": "stream",
       "stream": "stdout",
       "text": [
        "\n",
        "info: 77 http://blog.naver.com/redsky2046?Redirect=Log&logNo=100193958159&from=section ##########\n",
        "3649"
       ]
      },
      {
       "output_type": "stream",
       "stream": "stdout",
       "text": [
        "\n",
        "info: 77 http://blog.naver.com/ncyberzone?Redirect=Log&logNo=130174122585&from=section ##########\n",
        "2751"
       ]
      },
      {
       "output_type": "stream",
       "stream": "stdout",
       "text": [
        "\n",
        "info: 72 http://blog.naver.com/cek10?Redirect=Log&logNo=140195109977&from=section ##########\n",
        "1336"
       ]
      },
      {
       "output_type": "stream",
       "stream": "stdout",
       "text": [
        "\n",
        "info: 37 http://mimilub23.blog.me/130174106680 ##########\n",
        "1336"
       ]
      },
      {
       "output_type": "stream",
       "stream": "stdout",
       "text": [
        "\n",
        "info: 38 http://silver7493.blog.me/140195113454 ##########\n",
        "1336"
       ]
      },
      {
       "output_type": "stream",
       "stream": "stdout",
       "text": [
        "\n",
        "info: 33 http://itina.blog.me/100193965126 ##########\n",
        "1336"
       ]
      },
      {
       "output_type": "stream",
       "stream": "stdout",
       "text": [
        "\n",
        "info: 74 http://blog.naver.com/adg0609?Redirect=Log&logNo=130174114915&from=section ##########\n",
        "4070"
       ]
      },
      {
       "output_type": "stream",
       "stream": "stdout",
       "text": [
        "\n",
        "info: 74 http://blog.naver.com/dlsans83?Redirect=Log&logNo=30173853811&from=section ##########\n",
        "3514"
       ]
      },
      {
       "output_type": "stream",
       "stream": "stdout",
       "text": [
        "\n",
        "info: 74 http://blog.naver.com/jhj36910?Redirect=Log&logNo=90179014468&from=section ##########\n",
        "2453"
       ]
      },
      {
       "output_type": "stream",
       "stream": "stdout",
       "text": [
        "\n",
        "\ub9db\uc9d1\n",
        "http://section.blog.naver.com//sub/PostListByDirectory.nhn?option.directorySeq=29\n",
        "1\n",
        "http://section.blog.naver.com//sub/PostListByDirectory.nhn?option.directorySeq=29\n",
        "\ub9db\uc9d1 http://section.blog.naver.com//sub/PostListByDirectory.nhn?option.directorySeq=29&option.page.currentPage=1\n",
        "info:"
       ]
      },
      {
       "output_type": "stream",
       "stream": "stdout",
       "text": [
        " 74 http://blog.naver.com/damsluv?Redirect=Log&logNo=140195113931&from=section ##########\n",
        "2668"
       ]
      },
      {
       "output_type": "stream",
       "stream": "stdout",
       "text": [
        "\n",
        "info: 36 http://julie_pak.blog.me/80195991772 ##########\n",
        "2668"
       ]
      },
      {
       "output_type": "stream",
       "stream": "stdout",
       "text": [
        "\n",
        "info: 39 http://sunglass0405.blog.me/90179019163 ##########\n",
        "2668"
       ]
      },
      {
       "output_type": "stream",
       "stream": "stdout",
       "text": [
        "\n",
        "info: 75 http://blog.naver.com/abraxasblog?Redirect=Log&logNo=193092488&from=section ##########\n",
        "1096"
       ]
      },
      {
       "output_type": "stream",
       "stream": "stdout",
       "text": [
        "\n",
        "info: 31 http://gruturgi.com/70173621263 ##########\n",
        "1096"
       ]
      },
      {
       "output_type": "stream",
       "stream": "stdout",
       "text": [
        "\n",
        "info: 36 http://koreaskil.blog.me/50177378567 ##########\n",
        "1096"
       ]
      },
      {
       "output_type": "stream",
       "stream": "stdout",
       "text": [
        "\n",
        "info: 37 http://alica_park.blog.me/30173859831 ##########\n",
        "1096"
       ]
      },
      {
       "output_type": "stream",
       "stream": "stdout",
       "text": [
        "\n",
        "info: 35 http://pss5299.blog.me/140195102601 ##########\n",
        "1096"
       ]
      },
      {
       "output_type": "stream",
       "stream": "stdout",
       "text": [
        "\n",
        "info: 76 http://blog.naver.com/jenny8428?Redirect=Log&logNo=150173842358&from=section ##########\n",
        "2624"
       ]
      },
      {
       "output_type": "stream",
       "stream": "stdout",
       "text": [
        "\n",
        "info: 36 http://pyj920110.blog.me/30173788601 ##########\n",
        "2624"
       ]
      },
      {
       "output_type": "stream",
       "stream": "stdout",
       "text": [
        "\n",
        "IT\u00b7\ucef4\ud4e8\ud130\n",
        "http://section.blog.naver.com//sub/PostListByDirectory.nhn?option.directorySeq=30\n",
        "1\n",
        "http://section.blog.naver.com//sub/PostListByDirectory.nhn?option.directorySeq=30\n",
        "IT\u00b7\ucef4\ud4e8\ud130 http://section.blog.naver.com//sub/PostListByDirectory.nhn?option.directorySeq=30&option.page.currentPage=1\n",
        "info:"
       ]
      },
      {
       "output_type": "stream",
       "stream": "stdout",
       "text": [
        " 74 http://blog.naver.com/psu77707?Redirect=Log&logNo=30173852554&from=section ##########\n",
        "3383"
       ]
      },
      {
       "output_type": "stream",
       "stream": "stdout",
       "text": [
        "\n",
        "info: 35 http://lmy9723.blog.me/130174109738 ##########\n",
        "3383"
       ]
      },
      {
       "output_type": "stream",
       "stream": "stdout",
       "text": [
        "\n",
        "info: 71 http://blog.naver.com/gyoil?Redirect=Log&logNo=30173857057&from=section ##########\n",
        "2199"
       ]
      },
      {
       "output_type": "stream",
       "stream": "stdout",
       "text": [
        "\n",
        "info: 78 http://blog.naver.com/agabebeblog?Redirect=Log&logNo=140195100931&from=section ##########\n",
        "1434"
       ]
      },
      {
       "output_type": "stream",
       "stream": "stdout",
       "text": [
        "\n",
        "info: 39 http://kyungeun616.blog.me/150173840888 ##########\n",
        "1434"
       ]
      },
      {
       "output_type": "stream",
       "stream": "stdout",
       "text": [
        "\n",
        "info: 35 http://feena74.blog.me/140195117697 ##########\n",
        "1434"
       ]
      },
      {
       "output_type": "stream",
       "stream": "stdout",
       "text": [
        "\n",
        "info: 35 http://dicagallery.com/140195110286 ##########\n",
        "1434"
       ]
      },
      {
       "output_type": "stream",
       "stream": "stdout",
       "text": [
        "\n",
        "info: 35 http://motor-review.net/30173871014 ##########\n",
        "1434"
       ]
      },
      {
       "output_type": "stream",
       "stream": "stdout",
       "text": [
        "\n",
        "info: 27 http://itsit.kr/90178766323 ##########\n",
        "1434"
       ]
      },
      {
       "output_type": "stream",
       "stream": "stdout",
       "text": [
        "\n",
        "info: 35 http://feena74.blog.me/140195107523 ##########\n",
        "1434"
       ]
      },
      {
       "output_type": "stream",
       "stream": "stdout",
       "text": [
        "\n",
        "\uc0ac\ud68c\u00b7\uc815\uce58\n",
        "http://section.blog.naver.com//sub/PostListByDirectory.nhn?option.directorySeq=31\n",
        "1\n",
        "http://section.blog.naver.com//sub/PostListByDirectory.nhn?option.directorySeq=31\n",
        "\uc0ac\ud68c\u00b7\uc815\uce58 http://section.blog.naver.com//sub/PostListByDirectory.nhn?option.directorySeq=31&option.page.currentPage=1\n",
        "info:"
       ]
      },
      {
       "output_type": "stream",
       "stream": "stdout",
       "text": [
        " 38 http://fishes1272.blog.me/120196098258 ##########\n",
        "1434"
       ]
      },
      {
       "output_type": "stream",
       "stream": "stdout",
       "text": [
        "\n",
        "info: 73 http://blog.naver.com/savin64?Redirect=Log&logNo=40195036978&from=section ##########\n",
        "4973"
       ]
      },
      {
       "output_type": "stream",
       "stream": "stdout",
       "text": [
        "\n",
        "info: 77 http://blog.naver.com/unusual516?Redirect=Log&logNo=150173845808&from=section ##########\n",
        "2981"
       ]
      },
      {
       "output_type": "stream",
       "stream": "stdout",
       "text": [
        "\n",
        "info: 77 http://blog.naver.com/tmxkdlf3851?Redirect=Log&logNo=30173860258&from=section ##########\n",
        "1489"
       ]
      },
      {
       "output_type": "stream",
       "stream": "stdout",
       "text": [
        "\n",
        "info: 36 http://daddy_son.blog.me/20193646568 ##########\n",
        "1489"
       ]
      },
      {
       "output_type": "stream",
       "stream": "stdout",
       "text": [
        "\n",
        "info: 37 http://citrain64.blog.me/100193958472 ##########\n",
        "1489"
       ]
      },
      {
       "output_type": "stream",
       "stream": "stdout",
       "text": [
        "\n",
        "info: 72 http://blog.naver.com/gico12?Redirect=Log&logNo=20193657280&from=section ##########\n",
        "1608"
       ]
      },
      {
       "output_type": "stream",
       "stream": "stdout",
       "text": [
        "\n",
        "info: 74 http://blog.naver.com/mss3691?Redirect=Log&logNo=150173859389&from=section ##########\n",
        "1345"
       ]
      },
      {
       "output_type": "stream",
       "stream": "stdout",
       "text": [
        "\n",
        "info: 33 http://nixyhh.blog.me/10174276119 ##########\n",
        "1345"
       ]
      },
      {
       "output_type": "stream",
       "stream": "stdout",
       "text": [
        "\n",
        "info: 37 http://august8027.blog.me/30173852519 ##########\n",
        "1345"
       ]
      },
      {
       "output_type": "stream",
       "stream": "stdout",
       "text": [
        "\n",
        "\uac74\uac15\u00b7\uc758\ud559\n",
        "http://section.blog.naver.com//sub/PostListByDirectory.nhn?option.directorySeq=32\n",
        "1\n",
        "http://section.blog.naver.com//sub/PostListByDirectory.nhn?option.directorySeq=32\n",
        "\uac74\uac15\u00b7\uc758\ud559 http://section.blog.naver.com//sub/PostListByDirectory.nhn?option.directorySeq=32&option.page.currentPage=1\n",
        "info:"
       ]
      },
      {
       "output_type": "stream",
       "stream": "stdout",
       "text": [
        " 72 http://blog.naver.com/pigkuk?Redirect=Log&logNo=80195991090&from=section ##########\n",
        "3327"
       ]
      },
      {
       "output_type": "stream",
       "stream": "stdout",
       "text": [
        "\n",
        "info: 36 http://suny1004x.blog.me/20193203652 ##########\n",
        "3327"
       ]
      },
      {
       "output_type": "stream",
       "stream": "stdout",
       "text": [
        "\n",
        "info: 35 http://silwater.blog.me/30173829318 ##########\n",
        "3327"
       ]
      },
      {
       "output_type": "stream",
       "stream": "stdout",
       "text": [
        "\n",
        "info: 73 http://blog.naver.com/seouleg?Redirect=Log&logNo=90178997200&from=section ##########\n",
        "2954"
       ]
      },
      {
       "output_type": "stream",
       "stream": "stdout",
       "text": [
        "\n",
        "info: 75 http://blog.naver.com/fish7371?Redirect=Log&logNo=150173847600&from=section ##########\n",
        "1189"
       ]
      },
      {
       "output_type": "stream",
       "stream": "stdout",
       "text": [
        "\n",
        "info: 75 http://blog.naver.com/sunnyflow?Redirect=Log&logNo=30173859583&from=section ##########\n",
        "5758"
       ]
      },
      {
       "output_type": "stream",
       "stream": "stdout",
       "text": [
        "\n",
        "info: 73 http://blog.naver.com/tabomom?Redirect=Log&logNo=30173849716&from=section ##########\n",
        "3273"
       ]
      },
      {
       "output_type": "stream",
       "stream": "stdout",
       "text": [
        "\n",
        "info: 73 http://blog.naver.com/cyona77?Redirect=Log&logNo=70173097516&from=section ##########\n",
        "1567"
       ]
      },
      {
       "output_type": "stream",
       "stream": "stdout",
       "text": [
        "\n",
        "info: 71 http://blog.naver.com/fly_k?Redirect=Log&logNo=70173623430&from=section ##########\n",
        "2287"
       ]
      },
      {
       "output_type": "stream",
       "stream": "stdout",
       "text": [
        "\n",
        "info: 79 http://blog.naver.com/mijudentalhp?Redirect=Log&logNo=150173837619&from=section ##########\n",
        "2329"
       ]
      },
      {
       "output_type": "stream",
       "stream": "stdout",
       "text": [
        "\n",
        "\ube44\uc988\ub2c8\uc2a4\u00b7\uacbd\uc81c\n",
        "http://section.blog.naver.com//sub/PostListByDirectory.nhn?option.directorySeq=33\n",
        "1\n",
        "http://section.blog.naver.com//sub/PostListByDirectory.nhn?option.directorySeq=33\n",
        "\ube44\uc988\ub2c8\uc2a4\u00b7\uacbd\uc81c http://section.blog.naver.com//sub/PostListByDirectory.nhn?option.directorySeq=33&option.page.currentPage=1\n",
        "info:"
       ]
      },
      {
       "output_type": "stream",
       "stream": "stdout",
       "text": [
        " 72 http://blog.naver.com/hwa202?Redirect=Log&logNo=30173848033&from=section ##########\n",
        "2218"
       ]
      },
      {
       "output_type": "stream",
       "stream": "stdout",
       "text": [
        "\n",
        "info: 77 http://blog.naver.com/zzangwoomin?Redirect=Log&logNo=20193645896&from=section ##########\n",
        "1799"
       ]
      },
      {
       "output_type": "stream",
       "stream": "stdout",
       "text": [
        "\n",
        "info: 73 http://blog.naver.com/don7356?Redirect=Log&logNo=40195030934&from=section ##########\n",
        "1879"
       ]
      },
      {
       "output_type": "stream",
       "stream": "stdout",
       "text": [
        "\n",
        "info: 75 http://blog.naver.com/cmw1220v?Redirect=Log&logNo=110174026539&from=section ##########\n",
        "1123"
       ]
      },
      {
       "output_type": "stream",
       "stream": "stdout",
       "text": [
        "\n",
        "info: 76 http://blog.naver.com/wndydsh73?Redirect=Log&logNo=140195120713&from=section ##########\n",
        "2463"
       ]
      },
      {
       "output_type": "stream",
       "stream": "stdout",
       "text": [
        "\n",
        "info: 74 http://blog.naver.com/kangka73?Redirect=Log&logNo=90178962213&from=section ##########\n",
        "4095"
       ]
      },
      {
       "output_type": "stream",
       "stream": "stdout",
       "text": [
        "\n",
        "info: 73 http://blog.naver.com/cotlstk?Redirect=Log&logNo=80195995862&from=section ##########\n",
        "1643"
       ]
      },
      {
       "output_type": "stream",
       "stream": "stdout",
       "text": [
        "\n",
        "info: 34 http://dsc4989.blog.me/80195891391 ##########\n",
        "1643"
       ]
      },
      {
       "output_type": "stream",
       "stream": "stdout",
       "text": [
        "\n",
        "info: 76 http://blog.naver.com/yun800708?Redirect=Log&logNo=140195112592&from=section ##########\n",
        "1467"
       ]
      },
      {
       "output_type": "stream",
       "stream": "stdout",
       "text": [
        "\n",
        "info: 77 http://blog.naver.com/5goldenpig?Redirect=Log&logNo=140195099500&from=section ##########\n",
        "2784"
       ]
      },
      {
       "output_type": "stream",
       "stream": "stdout",
       "text": [
        "\n",
        "\uc5b4\ud559\u00b7\uc678\uad6d\uc5b4\n",
        "http://section.blog.naver.com//sub/PostListByDirectory.nhn?option.directorySeq=35\n",
        "1\n",
        "http://section.blog.naver.com//sub/PostListByDirectory.nhn?option.directorySeq=35\n",
        "\uc5b4\ud559\u00b7\uc678\uad6d\uc5b4 http://section.blog.naver.com//sub/PostListByDirectory.nhn?option.directorySeq=35&option.page.currentPage=1\n",
        "info:"
       ]
      },
      {
       "output_type": "stream",
       "stream": "stdout",
       "text": [
        " 74 http://blog.naver.com/jujewang?Redirect=Log&logNo=80195979033&from=section ##########\n",
        "1952"
       ]
      },
      {
       "output_type": "stream",
       "stream": "stdout",
       "text": [
        "\n",
        "info: 74 http://blog.naver.com/alfksl75?Redirect=Log&logNo=50177378338&from=section ##########\n",
        "2140"
       ]
      },
      {
       "output_type": "stream",
       "stream": "stdout",
       "text": [
        "\n",
        "info: 74 http://blog.naver.com/alright?Redirect=Log&logNo=100193965679&from=section ##########\n",
        "3039"
       ]
      },
      {
       "output_type": "stream",
       "stream": "stdout",
       "text": [
        "\n",
        "info: 76 http://blog.naver.com/dreamingse?Redirect=Log&logNo=40195034751&from=section ##########\n",
        "2132"
       ]
      },
      {
       "output_type": "stream",
       "stream": "stdout",
       "text": [
        "\n",
        "info: 74 http://blog.naver.com/susume25?Redirect=Log&logNo=40195031639&from=section ##########\n",
        "2632"
       ]
      },
      {
       "output_type": "stream",
       "stream": "stdout",
       "text": [
        "\n",
        "info: 38 http://dohyuni1018.blog.me/80195998287 ##########\n",
        "2632"
       ]
      },
      {
       "output_type": "stream",
       "stream": "stdout",
       "text": [
        "\n",
        "info: 75 http://blog.naver.com/kim761002?Redirect=Log&logNo=60197912565&from=section ##########\n",
        "3326"
       ]
      },
      {
       "output_type": "stream",
       "stream": "stdout",
       "text": [
        "\n",
        "info: 79 http://blog.naver.com/chltndus1213?Redirect=Log&logNo=130174127351&from=section ##########\n",
        "823"
       ]
      },
      {
       "output_type": "stream",
       "stream": "stdout",
       "text": [
        "\n",
        "info: 35 http://langlifeplus.net/90178957913 ##########\n",
        "823"
       ]
      },
      {
       "output_type": "stream",
       "stream": "stdout",
       "text": [
        "\n",
        "info: 38 http://dohyuni1018.blog.me/80195997713 ##########\n",
        "823"
       ]
      },
      {
       "output_type": "stream",
       "stream": "stdout",
       "text": [
        "\n",
        "\uad50\uc721\u00b7\ud559\ubb38\n",
        "http://section.blog.naver.com//sub/PostListByDirectory.nhn?option.directorySeq=34\n",
        "1\n",
        "http://section.blog.naver.com//sub/PostListByDirectory.nhn?option.directorySeq=34\n",
        "\uad50\uc721\u00b7\ud559\ubb38 http://section.blog.naver.com//sub/PostListByDirectory.nhn?option.directorySeq=34&option.page.currentPage=1\n",
        "info:"
       ]
      },
      {
       "output_type": "stream",
       "stream": "stdout",
       "text": [
        " 74 http://blog.naver.com/njini777?Redirect=Log&logNo=70173575843&from=section ##########\n",
        "4824"
       ]
      },
      {
       "output_type": "stream",
       "stream": "stdout",
       "text": [
        "\n",
        "info: 76 http://blog.naver.com/soyoungsun?Redirect=Log&logNo=50177367574&from=section ##########\n",
        "2796"
       ]
      },
      {
       "output_type": "stream",
       "stream": "stdout",
       "text": [
        "\n",
        "info: 72 http://blog.naver.com/cozy82?Redirect=Log&logNo=40195030994&from=section ##########\n",
        "3479"
       ]
      },
      {
       "output_type": "stream",
       "stream": "stdout",
       "text": [
        "\n",
        "info: 34 http://m_nura.blog.me/110174020808 ##########\n",
        "3479"
       ]
      },
      {
       "output_type": "stream",
       "stream": "stdout",
       "text": [
        "\n",
        "info: 77 http://blog.naver.com/wnsgurcoals?Redirect=Log&logNo=20193648635&from=section ##########\n",
        "3487"
       ]
      },
      {
       "output_type": "stream",
       "stream": "stdout",
       "text": [
        "\n",
        "info: 39 http://dreamgrapher.blog.me/80195992366 ##########\n",
        "3487"
       ]
      },
      {
       "output_type": "stream",
       "stream": "stdout",
       "text": [
        "\n",
        "info: 35 http://gywls179.blog.me/60197911438 ##########\n",
        "3487"
       ]
      },
      {
       "output_type": "stream",
       "stream": "stdout",
       "text": [
        "\n",
        "info: 34 http://drycie.blog.me/100193973531 ##########\n",
        "3487"
       ]
      },
      {
       "output_type": "stream",
       "stream": "stdout",
       "text": [
        "\n",
        "info: 75 http://blog.naver.com/joofight?Redirect=Log&logNo=110173927188&from=section ##########\n",
        "6143"
       ]
      },
      {
       "output_type": "stream",
       "stream": "stdout",
       "text": [
        "\n",
        "info: 35 http://gipy1026.blog.me/10174254951 ##########\n",
        "6143"
       ]
      },
      {
       "output_type": "stream",
       "stream": "stdout",
       "text": [
        "\n"
       ]
      }
     ],
     "prompt_number": 137
    },
    {
     "cell_type": "code",
     "collapsed": false,
     "input": [
      "filename=\"naver_blog_cate_small.pkl\"\n",
      "#filename=\"naver_blog_cate_all.pkl\"\n",
      "fout = file(filename,\"w\")\n",
      "pickle.dump(data_dict,fout)\n"
     ],
     "language": "python",
     "metadata": {},
     "outputs": [],
     "prompt_number": 143
    },
    {
     "cell_type": "code",
     "collapsed": false,
     "input": [
      "load_data = pickle.load(open(filename))"
     ],
     "language": "python",
     "metadata": {},
     "outputs": [],
     "prompt_number": 144
    },
    {
     "cell_type": "code",
     "collapsed": false,
     "input": [
      "from nltk import bigrams\n",
      "def bigram_segment(words):\n",
      "    if type(words)!=unicode:\n",
      "        words=words.decode(\"utf-8\")\n",
      "    token_list=bigrams(words)\n",
      "    return map(lambda i : i[0]+i[1],token_list)"
     ],
     "language": "python",
     "metadata": {},
     "outputs": [],
     "prompt_number": 147
    },
    {
     "cell_type": "code",
     "collapsed": false,
     "input": [
      "train_dict = {}\n",
      "for cate in load_data.keys():\n",
      "    train_dict[cate] = []\n",
      "    for data in load_data[cate]:\n",
      "        #print cate, len(data)\n",
      "        train_dict[cate].append(bigram_segment(data))"
     ],
     "language": "python",
     "metadata": {},
     "outputs": [],
     "prompt_number": 149
    },
    {
     "cell_type": "code",
     "collapsed": false,
     "input": [
      "train_frame = DataFrame(train_dict)"
     ],
     "language": "python",
     "metadata": {},
     "outputs": [],
     "prompt_number": 151
    },
    {
     "cell_type": "code",
     "collapsed": false,
     "input": [
      "from sklearn.svm import LinearSVC"
     ],
     "language": "python",
     "metadata": {},
     "outputs": [],
     "prompt_number": 152
    },
    {
     "cell_type": "code",
     "collapsed": false,
     "input": [
      "clf = LinearSVC(loss = 'l2')"
     ],
     "language": "python",
     "metadata": {},
     "outputs": [],
     "prompt_number": 153
    }
   ],
   "metadata": {}
  }
 ]
}