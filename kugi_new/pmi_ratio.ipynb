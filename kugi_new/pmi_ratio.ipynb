{
 "metadata": {
  "name": "pmi_ratio"
 },
 "nbformat": 3,
 "nbformat_minor": 0,
 "worksheets": [
  {
   "cells": [
    {
     "cell_type": "code",
     "collapsed": false,
     "input": [
      "%pylab\n",
      "from pandas import DataFrame, Series\n",
      "import pandas as pd\n",
      "import pandas.io.sql as sql\n",
      "import numpy as np\n",
      "import matplotlib.pyplot as plt\n",
      "from IPython.core.display import Image"
     ],
     "language": "python",
     "metadata": {},
     "outputs": [
      {
       "output_type": "stream",
       "stream": "stdout",
       "text": [
        "\n",
        "Welcome to pylab, a matplotlib-based Python environment [backend: WXAgg].\n",
        "For more information, type 'help(pylab)'.\n"
       ]
      }
     ],
     "prompt_number": 1
    },
    {
     "cell_type": "heading",
     "level": 3,
     "metadata": {},
     "source": [
      "\ud14c\uc2a4\ud2b8\ub77c\uc778..."
     ]
    },
    {
     "cell_type": "heading",
     "level": 3,
     "metadata": {},
     "source": [
      "DataFrame - PMI \ud14c\uc774\ube14"
     ]
    },
    {
     "cell_type": "code",
     "collapsed": false,
     "input": [
      "keywords = ['health', 'animal', 'rain', 'clothes', 'fantasy', 'simulation']\n",
      "apps = ['hello kitty', 'my little nopy', 'kill them all!', 'August 14th', 'Dear My Friend V2', 'WatchingU']\n"
     ],
     "language": "python",
     "metadata": {},
     "outputs": [],
     "prompt_number": 2
    },
    {
     "cell_type": "code",
     "collapsed": false,
     "input": [
      "def createPMIDataFrame(appNameList, keywordList):\n",
      "    pmi_frame = pd.DataFrame(data=0.0, index=appNameList, columns=keywordList)\n",
      "    return pmi_frame\n",
      "\n",
      "def setPMI(dstFrame, appName, keyword, pmi):\n",
      "    dstFrame.loc[appName, keyword] = pmi\n",
      "    \n",
      "def getPMIFromDF(dstFrame, appName, keyword):\n",
      "    return dstFrame.loc[appName, keyword]\n",
      "\n",
      "def calcPMI(AppScore, KeywordScore, BothScore, nTotalDocs):\n",
      "    return math.log10(AppScore*KeywordScore/BothScore/nTotalDocs)\n"
     ],
     "language": "python",
     "metadata": {},
     "outputs": [],
     "prompt_number": 3
    },
    {
     "cell_type": "code",
     "collapsed": false,
     "input": [
      "pmi_frame = createPMIDataFrame(apps, keywords)\n",
      "pmi_frame"
     ],
     "language": "python",
     "metadata": {},
     "outputs": [
      {
       "html": [
        "<div style=\"max-height:1000px;max-width:1500px;overflow:auto;\">\n",
        "<table border=\"1\" class=\"dataframe\">\n",
        "  <thead>\n",
        "    <tr style=\"text-align: right;\">\n",
        "      <th></th>\n",
        "      <th>health</th>\n",
        "      <th>animal</th>\n",
        "      <th>rain</th>\n",
        "      <th>clothes</th>\n",
        "      <th>fantasy</th>\n",
        "      <th>simulation</th>\n",
        "    </tr>\n",
        "  </thead>\n",
        "  <tbody>\n",
        "    <tr>\n",
        "      <th>hello kitty</th>\n",
        "      <td> 0</td>\n",
        "      <td> 0</td>\n",
        "      <td> 0</td>\n",
        "      <td> 0</td>\n",
        "      <td> 0</td>\n",
        "      <td> 0</td>\n",
        "    </tr>\n",
        "    <tr>\n",
        "      <th>my little nopy</th>\n",
        "      <td> 0</td>\n",
        "      <td> 0</td>\n",
        "      <td> 0</td>\n",
        "      <td> 0</td>\n",
        "      <td> 0</td>\n",
        "      <td> 0</td>\n",
        "    </tr>\n",
        "    <tr>\n",
        "      <th>kill them all!</th>\n",
        "      <td> 0</td>\n",
        "      <td> 0</td>\n",
        "      <td> 0</td>\n",
        "      <td> 0</td>\n",
        "      <td> 0</td>\n",
        "      <td> 0</td>\n",
        "    </tr>\n",
        "    <tr>\n",
        "      <th>August 14th</th>\n",
        "      <td> 0</td>\n",
        "      <td> 0</td>\n",
        "      <td> 0</td>\n",
        "      <td> 0</td>\n",
        "      <td> 0</td>\n",
        "      <td> 0</td>\n",
        "    </tr>\n",
        "    <tr>\n",
        "      <th>Dear My Friend V2</th>\n",
        "      <td> 0</td>\n",
        "      <td> 0</td>\n",
        "      <td> 0</td>\n",
        "      <td> 0</td>\n",
        "      <td> 0</td>\n",
        "      <td> 0</td>\n",
        "    </tr>\n",
        "  </tbody>\n",
        "</table>\n",
        "</div>"
       ],
       "output_type": "pyout",
       "prompt_number": 9,
       "text": [
        "                   health  animal  rain  clothes  fantasy  simulation\n",
        "hello kitty             0       0     0        0        0           0\n",
        "my little nopy          0       0     0        0        0           0\n",
        "kill them all!          0       0     0        0        0           0\n",
        "August 14th             0       0     0        0        0           0\n",
        "Dear My Friend V2       0       0     0        0        0           0"
       ]
      }
     ],
     "prompt_number": 9
    },
    {
     "cell_type": "code",
     "collapsed": false,
     "input": [
      "setPMI(pmi_frame, 'Dear My Friend V2', 'fantasy', 0.9)\n",
      "setPMI(pmi_frame, 'my little nopy', 'rain', 0.12)\n",
      "setPMI(pmi_frame, 5, 1, 0.5)"
     ],
     "language": "python",
     "metadata": {},
     "outputs": [],
     "prompt_number": 7
    }
   ],
   "metadata": {}
  }
 ]
}