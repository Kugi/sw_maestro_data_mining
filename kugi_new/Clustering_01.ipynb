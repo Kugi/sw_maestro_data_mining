{
 "metadata": {
  "name": "Clustering_01"
 },
 "nbformat": 3,
 "nbformat_minor": 0,
 "worksheets": [
  {
   "cells": [
    {
     "cell_type": "code",
     "collapsed": false,
     "input": [
      "print(__doc__)\n",
      "\n",
      "\n",
      "import numpy as np\n",
      "\n",
      "\n",
      "from sklearn.cluster import DBSCAN\n",
      "from sklearn import metrics\n",
      "from sklearn.datasets.samples_generator import make_blobs\n",
      "from sklearn.preprocessing import StandardScaler\n",
      "\n",
      "\n"
     ],
     "language": "python",
     "metadata": {},
     "outputs": [
      {
       "output_type": "stream",
       "stream": "stdout",
       "text": [
        "Built-in functions, exceptions, and other objects.\n",
        "\n",
        "Noteworthy: None is the `nil' object; Ellipsis represents `...' in slices.\n"
       ]
      }
     ],
     "prompt_number": 4
    },
    {
     "cell_type": "code",
     "collapsed": false,
     "input": [],
     "language": "python",
     "metadata": {},
     "outputs": []
    },
    {
     "cell_type": "code",
     "collapsed": false,
     "input": [
      "\n",
      "\n",
      "##############################################################################\n",
      "# Generate sample data\n",
      "centers = [[1, 1], [-1, -1], [1, -1]]\n",
      "X, labels_true = make_blobs(n_samples=750, centers=centers, cluster_std=0.4,\n",
      "                            random_state=0)\n",
      "\n",
      "\n",
      "X = StandardScaler().fit_transform(X)\n",
      "\n",
      "\n",
      "##############################################################################\n",
      "# Compute DBSCAN\n",
      "db = DBSCAN(eps=0.3, min_samples=10).fit(X)\n",
      "core_samples = db.core_sample_indices_\n",
      "labels = db.labels_\n",
      "\n",
      "\n",
      "# Number of clusters in labels, ignoring noise if present.\n",
      "n_clusters_ = len(set(labels)) - (1 if -1 in labels else 0)\n",
      "\n",
      "\n",
      "print('Estimated number of clusters: %d' % n_clusters_)\n",
      "print(\"Homogeneity: %0.3f\" % metrics.homogeneity_score(labels_true, labels))\n",
      "print(\"Completeness: %0.3f\" % metrics.completeness_score(labels_true, labels))\n",
      "print(\"V-measure: %0.3f\" % metrics.v_measure_score(labels_true, labels))\n",
      "print(\"Adjusted Rand Index: %0.3f\"\n",
      "      % metrics.adjusted_rand_score(labels_true, labels))\n",
      "print(\"Adjusted Mutual Information: %0.3f\"\n",
      "      % metrics.adjusted_mutual_info_score(labels_true, labels))\n",
      "print(\"Silhouette Coefficient: %0.3f\"\n",
      "      % metrics.silhouette_score(X, labels))\n",
      "\n",
      "\n",
      "##############################################################################\n",
      "# Plot result\n",
      "import pylab as pl\n",
      "\n",
      "\n",
      "# Black removed and is used for noise instead.\n",
      "unique_labels = set(labels)\n",
      "colors = pl.cm.Spectral(np.linspace(0, 1, len(unique_labels)))\n",
      "for k, col in zip(unique_labels, colors):\n",
      "    if k == -1:\n",
      "        # Black used for noise.\n",
      "        col = 'k'\n",
      "        markersize = 6\n",
      "    class_members = [index[0] for index in np.argwhere(labels == k)]\n",
      "    cluster_core_samples = [index for index in core_samples\n",
      "                            if labels[index] == k]\n",
      "    for index in class_members:\n",
      "        x = X[index]\n",
      "        if index in core_samples and k != -1:\n",
      "            markersize = 14\n",
      "        else:\n",
      "            markersize = 6\n",
      "        pl.plot(x[0], x[1], 'o', markerfacecolor=col,\n",
      "                markeredgecolor='k', markersize=markersize)\n"
     ],
     "language": "python",
     "metadata": {},
     "outputs": [
      {
       "output_type": "stream",
       "stream": "stdout",
       "text": [
        "Estimated number of clusters: 3\n",
        "Homogeneity: 0.953\n",
        "Completeness: 0.883\n",
        "V-measure: 0.917\n",
        "Adjusted Rand Index: 0.968\n",
        "Adjusted Mutual Information: 0.883\n",
        "Silhouette Coefficient: 0.626"
       ]
      },
      {
       "output_type": "stream",
       "stream": "stdout",
       "text": [
        "\n"
       ]
      }
     ],
     "prompt_number": 5
    },
    {
     "cell_type": "code",
     "collapsed": false,
     "input": [
      "pl.title('Estimated number of clusters: %d' % n_clusters_)\n",
      "pl.show()\n",
      "\n"
     ],
     "language": "python",
     "metadata": {},
     "outputs": [],
     "prompt_number": 6
    }
   ],
   "metadata": {}
  }
 ]
}