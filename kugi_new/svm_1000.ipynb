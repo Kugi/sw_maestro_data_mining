{
 "metadata": {
  "name": "svm_1000"
 },
 "nbformat": 3,
 "nbformat_minor": 0,
 "worksheets": [
  {
   "cells": [
    {
     "cell_type": "code",
     "collapsed": false,
     "input": [
      "from sklearn.datasets import load_svmlight_file\n",
      "x, y = load_svmlight_file(\"user_gender.dat\")\n",
      "tx, ty = load_svmlight_file(\"user_gender1000.dat\")\n",
      "\n",
      "x.shape"
     ],
     "language": "python",
     "metadata": {},
     "outputs": [
      {
       "output_type": "pyout",
       "prompt_number": 61,
       "text": [
        "(46984, 52600)"
       ]
      }
     ],
     "prompt_number": 61
    },
    {
     "cell_type": "code",
     "collapsed": false,
     "input": [
      "from sklearn import svm\n",
      "\n",
      "import time\n"
     ],
     "language": "python",
     "metadata": {},
     "outputs": [],
     "prompt_number": 62
    },
    {
     "cell_type": "code",
     "collapsed": false,
     "input": [
      "clf = svm.SVC(kernel='linear')\n",
      "libsvm_start=time.time()"
     ],
     "language": "python",
     "metadata": {},
     "outputs": [],
     "prompt_number": 63
    },
    {
     "cell_type": "code",
     "collapsed": false,
     "input": [
      "clf.fit(x, y)\n",
      "libsvm_train_end=time.time()"
     ],
     "language": "python",
     "metadata": {},
     "outputs": [],
     "prompt_number": 64
    },
    {
     "cell_type": "code",
     "collapsed": false,
     "input": [
      "#testcase\n",
      "a=np.array(clf.predict(tx).astype(int))\n",
      "libsvm_test_end=time.time()\n",
      "c=a==np.array(ty)\n",
      "c=np.array(a)==np.array(ty)\n",
      "\n"
     ],
     "language": "python",
     "metadata": {},
     "outputs": [],
     "prompt_number": 60
    },
    {
     "cell_type": "code",
     "collapsed": false,
     "input": [
      "print \"Accuracy                                    : \",str(sum(c)*100.0/len(a))+\" %\"\n",
      "print \"Number of support vectors for positive class: \",clf.n_support_[0]\n",
      "print \"Number of support vectors for negative class: \",clf.n_support_[1]\n",
      "print \"Time Required for training                  : \",str(libsvm_train_end-libsvm_start)+\" s\"\n",
      "print \"Time Required for testing                   : \",str(libsvm_test_end-libsvm_train_end)+\" s\"\n"
     ],
     "language": "python",
     "metadata": {},
     "outputs": [
      {
       "output_type": "stream",
       "stream": "stdout",
       "text": [
        "Accuracy                                    :  100.0 %\n",
        "Number of support vectors for positive class:  266\n",
        "Number of support vectors for negative class:  296\n",
        "Time Required for training                  :  1.4509999752 s\n",
        "Time Required for testing                   :  0.936000108719 s\n"
       ]
      }
     ],
     "prompt_number": 58
    },
    {
     "cell_type": "code",
     "collapsed": false,
     "input": [
      "1-1000 \ud559\uc2b5, 1-1000 \ud14c\uc2a4\ud2b8\n",
      "\n",
      "Accuracy                                    :  100.0 %\n",
      "    \n",
      "Number of support vectors for positive class:  266\n",
      "    \n",
      "Number of support vectors for negative class:  296\n",
      "    \n",
      "Time Required for training                  :  1.4509999752 s\n",
      "    \n",
      "Time Required for testing                   :  0.936000108719 s\n",
      "\n"
     ],
     "language": "python",
     "metadata": {},
     "outputs": []
    },
    {
     "cell_type": "markdown",
     "metadata": {},
     "source": [
      "1-1000 \ud559\uc2b5, 1001-2000 \ud14c\uc2a4\ud2b8\n",
      "\n",
      "\uacb0\uacfc:\n",
      "    \n",
      "Accuracy                                    :  78.5 %\n",
      "    \n",
      "Number of support vectors for positive class:  266\n",
      "    \n",
      "Number of support vectors for negative class:  296\n",
      "    \n",
      "Time Required for training                  :  7.44200015068 s\n",
      "    \n",
      "Time Required for testing                   :  13.8679997921 s\n",
      "\n"
     ]
    },
    {
     "cell_type": "markdown",
     "metadata": {},
     "source": [
      "1001-2000\ud559\uc2b5, 1-1000 \ud14c\uc2a4\ud2b8\n",
      "\n",
      "Accuracy                                    :  76.5 %\n",
      "    \n",
      "Number of support vectors for positive class:  262\n",
      "    \n",
      "Number of support vectors for negative class:  261\n",
      "    \n",
      "Time Required for training                  :  1.92600011826 s\n",
      "    \n",
      "Time Required for testing                   :  7.78999996185 s\n",
      "\n"
     ]
    },
    {
     "cell_type": "code",
     "collapsed": false,
     "input": [],
     "language": "python",
     "metadata": {},
     "outputs": []
    }
   ],
   "metadata": {}
  }
 ]
}