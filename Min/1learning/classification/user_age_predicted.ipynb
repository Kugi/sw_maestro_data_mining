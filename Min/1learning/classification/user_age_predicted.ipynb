{
 "metadata": {
  "name": ""
 },
 "nbformat": 3,
 "nbformat_minor": 0,
 "worksheets": [
  {
   "cells": [
    {
     "cell_type": "code",
     "collapsed": false,
     "input": [
      "cd"
     ],
     "language": "python",
     "metadata": {},
     "outputs": [
      {
       "output_type": "stream",
       "stream": "stdout",
       "text": [
        "/Users/jeongmingi\n"
       ]
      }
     ],
     "prompt_number": 2
    },
    {
     "cell_type": "markdown",
     "metadata": {},
     "source": [
      "#### - \uc720\uc800 \ub098\uc774\ub97c \uad6c\ubd84\ud558\ub294\ub370 \uc788\uc5b4\uc11c \uc77c\ub82c\uc758 \ub098\uc774\ub97c \uad6c\ubd84\ud558\uae30\uc5d0\ub294 \uac01 class\uac04\uc758 data\uac00 \uc801\uae30 \ub54c\ubb38\uc5d0 classification(c=1.0, train_n = 6000\uac1c, 8% \uc815\ud655\ub3c4)\ubcf4\ub2e4\ub294 regression\uc774 \ud544\uc694\ud558\ub2e4.  \n",
      "#### - \ub530\ub77c\uc11c classification\uc740 10\ub300, 20\ub300, 30\ub300... \uc744 \uad6c\ubd84\ud558\ub294\ub370 \uc0ac\uc6a9\ud55c\ub2e4."
     ]
    },
    {
     "cell_type": "code",
     "collapsed": false,
     "input": [
      "from sklearn.datasets import load_svmlight_file\n",
      "X, y = load_svmlight_file(\"desktop/data/user_age.dat\")"
     ],
     "language": "python",
     "metadata": {},
     "outputs": [],
     "prompt_number": 106
    },
    {
     "cell_type": "code",
     "collapsed": false,
     "input": [
      "#c = 0\n",
      "for i, np in enumerate(y):\n",
      "    if (np > 3.):\n",
      "        y[i] = 3.;\n",
      "#        c += 1\n",
      "    else:\n",
      "        pass"
     ],
     "language": "python",
     "metadata": {},
     "outputs": [],
     "prompt_number": 107
    },
    {
     "cell_type": "code",
     "collapsed": false,
     "input": [
      "y?"
     ],
     "language": "python",
     "metadata": {},
     "outputs": [],
     "prompt_number": 67
    },
    {
     "cell_type": "code",
     "collapsed": false,
     "input": [
      "print X.shape, y.shape\n",
      "n_samples, n_features = X.shape"
     ],
     "language": "python",
     "metadata": {},
     "outputs": [
      {
       "output_type": "stream",
       "stream": "stdout",
       "text": [
        "(42934, 49683) (42934,)\n"
       ]
      }
     ],
     "prompt_number": 108
    },
    {
     "cell_type": "markdown",
     "metadata": {},
     "source": [
      "#Create SVC Model for _\"ages\"_ (LinearSVC)"
     ]
    },
    {
     "cell_type": "code",
     "collapsed": false,
     "input": [
      "from sklearn.svm import LinearSVC"
     ],
     "language": "python",
     "metadata": {},
     "outputs": [],
     "prompt_number": 109
    },
    {
     "cell_type": "code",
     "collapsed": false,
     "input": [
      "%pylab inline\n",
      "import numpy as np\n",
      "from sklearn.cross_validation import ShuffleSplit\n",
      "import pylab as pl"
     ],
     "language": "python",
     "metadata": {},
     "outputs": [
      {
       "output_type": "stream",
       "stream": "stdout",
       "text": [
        "Populating the interactive namespace from numpy and matplotlib\n"
       ]
      },
      {
       "output_type": "stream",
       "stream": "stderr",
       "text": [
        "WARNING: pylab import has clobbered these variables: ['test', 'clf']\n",
        "`%pylab --no-import-all` prevents importing * from pylab and numpy\n"
       ]
      }
     ],
     "prompt_number": 116
    },
    {
     "cell_type": "code",
     "collapsed": false,
     "input": [
      "n_Cs = 10\n",
      "n_iter = 5\n",
      "n_samples, n_features = X.shape\n",
      "#n_samples = 10000\n",
      "\n",
      "cv = ShuffleSplit(n_samples, n_iter=n_iter, \n",
      "                     test_size=0.2, random_state=0)\n",
      "\n",
      "train_scores = np.zeros((n_Cs, n_iter))\n",
      "test_scores = np.zeros((n_Cs, n_iter))\n",
      "Cs = np.logspace(-7, 2, n_Cs)\n",
      "\n",
      "#X_train, X_test, y_train, y_test = train_test_split(X, y, test_size=0.1,\n",
      "#                                                   random_state=0)\n",
      "\n",
      "\n",
      "for i, C in enumerate(Cs):\n",
      "    for j, (train, test) in enumerate(cv):\n",
      "        #print X[train], y[train]\n",
      "        clf = LinearSVC(C=C).fit(X[train], y[train])\n",
      "        \n",
      "        train_scores[i, j] = clf.score(X[train], y[train])\n",
      "        test_scores[i, j] = clf.score(X[test], y[test])\n",
      "        \n",
      "        \n",
      "        \n"
     ],
     "language": "python",
     "metadata": {},
     "outputs": [],
     "prompt_number": 119
    },
    {
     "cell_type": "code",
     "collapsed": false,
     "input": [
      "for i in range(n_iter):\n",
      "    pl.semilogx(Cs, train_scores[:, i], alpha=0.4, lw=2, c='b')\n",
      "    pl.semilogx(Cs, test_scores[:, i], alpha=0.4, lw=2, c='g')\n",
      "pl.ylabel(\"score for LinearSVC(C=C)\")\n",
      "pl.xlabel(\"C\")\n",
      "#pl.text(1e-3, 0.5, \"Underfitting\", fontsize=16, ha='center', va='bottom')\n",
      "#pl.text(1e3, 0.5, \"Few Overfitting\", fontsize=16, ha='center', va='bottom')\n",
      "pl.show()"
     ],
     "language": "python",
     "metadata": {},
     "outputs": [
      {
       "metadata": {},
       "output_type": "display_data",
       "png": "[encoded data removed]",
       "text": [
        "<matplotlib.figure.Figure at 0x108667a10>"
       ]
      }
     ],
     "prompt_number": 120
    },
    {
     "cell_type": "code",
     "collapsed": false,
     "input": [
      "from sklearn.grid_search import GridSearchCV\n",
      "from sklearn.cross_validation import train_test_split\n",
      "\n",
      "X_train, X_test, y_train, y_test = train_test_split(X, y, test_size=0.2,\n",
      "                                                    random_state=0)\n",
      "\n",
      "Lparam = {\n",
      "         'C': np.logspace(-5, 1, 15),\n",
      "}\n",
      "print(Lparam)\n",
      "\n",
      "gcv = GridSearchCV(LinearSVC(), Lparam, cv=3, n_jobs=-1)\n",
      "\n",
      "%time _ = gcv.fit(X_train, y_train)\n"
     ],
     "language": "python",
     "metadata": {},
     "outputs": [
      {
       "output_type": "stream",
       "stream": "stdout",
       "text": [
        "{'C': array([  1.00000000e-05,   2.68269580e-05,   7.19685673e-05,\n",
        "         1.93069773e-04,   5.17947468e-04,   1.38949549e-03,\n",
        "         3.72759372e-03,   1.00000000e-02,   2.68269580e-02,\n",
        "         7.19685673e-02,   1.93069773e-01,   5.17947468e-01,\n",
        "         1.38949549e+00,   3.72759372e+00,   1.00000000e+01])}\n"
       ]
      },
      {
       "output_type": "stream",
       "stream": "stdout",
       "text": [
        "CPU times: user 17 s, sys: 3 s, total: 20 s\n",
        "Wall time: 6min 32s\n"
       ]
      }
     ],
     "prompt_number": 121
    },
    {
     "cell_type": "code",
     "collapsed": false,
     "input": [
      "gcv.best_params_, gcv.best_score_"
     ],
     "language": "python",
     "metadata": {},
     "outputs": [
      {
       "metadata": {},
       "output_type": "pyout",
       "prompt_number": 125,
       "text": [
        "({'C': 0.0013894954943731374}, 0.78576604554865426)"
       ]
      }
     ],
     "prompt_number": 125
    },
    {
     "cell_type": "code",
     "collapsed": false,
     "input": [
      "L_svc = LinearSVC(C=0.001389495).fit(X_train,y_train)\n",
      "L_svc.score(X_train,y_train), L_svc.score(X_test,y_test)"
     ],
     "language": "python",
     "metadata": {},
     "outputs": [
      {
       "metadata": {},
       "output_type": "pyout",
       "prompt_number": 127,
       "text": [
        "(0.83015010351966878, 0.79622729389846292)"
       ]
      }
     ],
     "prompt_number": 127
    },
    {
     "cell_type": "code",
     "collapsed": false,
     "input": [
      "from sklearn.externals import joblib\n",
      "\n",
      "filename = \"age_my_model_80.pkl\"\n",
      "joblib.dump(L_svc, filename, compress=9)\n"
     ],
     "language": "python",
     "metadata": {},
     "outputs": [
      {
       "metadata": {},
       "output_type": "pyout",
       "prompt_number": 130,
       "text": [
        "['age_my_model_80.pkl']"
       ]
      }
     ],
     "prompt_number": 130
    },
    {
     "cell_type": "markdown",
     "metadata": {},
     "source": [
      "#Create SVC Model for _\"ages\"_ (default : rbf)"
     ]
    },
    {
     "cell_type": "code",
     "collapsed": false,
     "input": [
      "n_subsamples = 30000\n",
      "X_small_train, y_small_train = X[:n_subsamples], y[:n_subsamples]\n"
     ],
     "language": "python",
     "metadata": {},
     "outputs": [],
     "prompt_number": 39
    },
    {
     "cell_type": "code",
     "collapsed": false,
     "input": [
      "from sklearn.cross_validation import ShuffleSplit\n",
      "import pylab as pl\n",
      "\n",
      "def C_vaildation(c):\n",
      "    n_gammas = 10\n",
      "    n_iter = 5\n",
      "    cv = ShuffleSplit(n_samples, n_iter=n_iter, train_size=1000, test_size=1000,\n",
      "        random_state=0)\n",
      "    \n",
      "    train_scores = np.zeros((n_gammas, n_iter))\n",
      "    test_scores = np.zeros((n_gammas, n_iter))\n",
      "    gammas = np.logspace(-7, 3, n_gammas)\n",
      "    \n",
      "    for i, gamma in enumerate(gammas):\n",
      "        for j, (train, test) in enumerate(cv):\n",
      "            clf = SVC(C=c, gamma=gamma).fit(X[train], y[train])\n",
      "            train_scores[i, j] = clf.score(X[train], y[train])\n",
      "            test_scores[i, j] = clf.score(X[test], y[test])\n",
      "    \n",
      "    return gammas, train_scores"
     ],
     "language": "python",
     "metadata": {},
     "outputs": [],
     "prompt_number": 57
    },
    {
     "cell_type": "code",
     "collapsed": false,
     "input": [
      "%pylab inline\n",
      "import pylab as pl\n",
      "\n",
      "def C_plot(c):\n",
      "    \n",
      "    C = c\n",
      "    gammas, train_scores = C_vaildation(C);\n",
      "\n",
      "    for i in range(n_iter):\n",
      "        pl.semilogx(gammas, train_scores[:, i], alpha=0.4, lw=2, c='b')\n",
      "    \n",
      "    pl.ylabel(\"score for SVC(C=%d, gamma=gamma)\" %c)\n",
      "    pl.xlabel(\"gamma\")"
     ],
     "language": "python",
     "metadata": {},
     "outputs": [
      {
       "output_type": "stream",
       "stream": "stdout",
       "text": [
        "Populating the interactive namespace from numpy and matplotlib\n"
       ]
      }
     ],
     "prompt_number": 76
    },
    {
     "cell_type": "code",
     "collapsed": false,
     "input": [
      "train_scores[:,4]"
     ],
     "language": "python",
     "metadata": {},
     "outputs": [
      {
       "metadata": {},
       "output_type": "pyout",
       "prompt_number": 67,
       "text": [
        "array([ 0.413,  0.414,  0.512,  0.793,  0.986,  1.   ,  1.   ,  1.   ,\n",
        "        1.   ,  1.   ])"
       ]
      }
     ],
     "prompt_number": 67
    },
    {
     "cell_type": "code",
     "collapsed": false,
     "input": [
      "n_inter = 6\n",
      "C = np.logspace(-1, 2, n_inter)\n",
      "for i, c in enumerate(C):\n",
      "    \n",
      "    pl.subplot((n_inter/3+n_inter%3), 3, (i+1))\n",
      "    labels = ['params C = %.2f' % c]\n",
      "    shape=(18, 18, 13)\n",
      "    pl.shape(shape)\n",
      "    pl.interpolation = 'nearest'\n",
      "    #pl.imshow(data[i].reshape(shape), interpolation=interpolation)\n",
      "    pl.title(labels)\n",
      "    pl.xticks(()), pl.yticks(())\n",
      "    C_plot(c)"
     ],
     "language": "python",
     "metadata": {},
     "outputs": [
      {
       "metadata": {},
       "output_type": "display_data",
       "png": "[encoded data removed]",
       "text": [
        "<matplotlib.figure.Figure at 0x108fbcc50>"
       ]
      }
     ],
     "prompt_number": 96
    },
    {
     "cell_type": "code",
     "collapsed": false,
     "input": [],
     "language": "python",
     "metadata": {},
     "outputs": [],
     "prompt_number": 71
    },
    {
     "cell_type": "markdown",
     "metadata": {},
     "source": [
      " \n",
      "* **introspect the details of the GridSearch outcome**"
     ]
    },
    {
     "cell_type": "code",
     "collapsed": false,
     "input": [
      "from sklearn.svm import SVC\n",
      "from scipy.stats import sem\n",
      "\n",
      "def display_scores(params, scores, append_star=False):\n",
      "    \"\"\"Format the mean score +/- std error for params\"\"\"\n",
      "    params = \", \".join(\"{0}={1}\".format(k, v)\n",
      "                      for k, v in params.items())\n",
      "    line = \"{0}:\\t{1:.3f} (+/-{2:.3f})\".format(\n",
      "        params, np.mean(scores), sem(scores))\n",
      "    if append_star:\n",
      "        line += \" *\"\n",
      "    return line\n",
      "\n",
      "def display_grid_scores(grid_scores, top=None):\n",
      "    \"\"\"Helper function to format a report on a grid of scores\"\"\"\n",
      "    \n",
      "    grid_scores = sorted(grid_scores, key=lambda x: x[1], reverse=True)\n",
      "    if top is not None:\n",
      "        grid_scores = grid_scores[:top]\n",
      "        \n",
      "    # Compute a threshold for staring models with overlapping\n",
      "    # stderr:\n",
      "    _, best_mean, best_scores = grid_scores[0]\n",
      "    threshold = best_mean - 2 * sem(best_scores)\n",
      "    \n",
      "    for params, mean_score, scores in grid_scores:\n",
      "        append_star = mean_score + 2 * sem(scores) > threshold\n",
      "        print(display_scores(params, scores, append_star=append_star))"
     ],
     "language": "python",
     "metadata": {},
     "outputs": [],
     "prompt_number": 13
    },
    {
     "cell_type": "code",
     "collapsed": false,
     "input": [
      "a = np.arange(20).reshape(5,4)\n",
      "a"
     ],
     "language": "python",
     "metadata": {},
     "outputs": [
      {
       "metadata": {},
       "output_type": "pyout",
       "prompt_number": 21,
       "text": [
        "array([[ 0,  1,  2,  3],\n",
        "       [ 4,  5,  6,  7],\n",
        "       [ 8,  9, 10, 11],\n",
        "       [12, 13, 14, 15],\n",
        "       [16, 17, 18, 19]])"
       ]
      }
     ],
     "prompt_number": 21
    },
    {
     "cell_type": "code",
     "collapsed": false,
     "input": [
      "#Find standard error along the first axis\n",
      "print sem(a)\n",
      "#Find standard error across the whole array, using n degrees of freedom\n",
      "print sem(a, axis=None, ddof=0)"
     ],
     "language": "python",
     "metadata": {},
     "outputs": [
      {
       "output_type": "stream",
       "stream": "stdout",
       "text": [
        "[ 2.82842712  2.82842712  2.82842712  2.82842712]\n",
        "1.28937969582\n"
       ]
      }
     ],
     "prompt_number": 24
    },
    {
     "cell_type": "code",
     "collapsed": false,
     "input": [
      "from pprint import pprint\n",
      "from sklearn.grid_search import GridSearchCV\n",
      "import numpy as np\n",
      "\n",
      "svc_params = {\n",
      "    'C': np.logspace(-1, 2, 4),\n",
      "    'gamma': np.logspace(-4, 0, 5),\n",
      "}\n",
      "pprint(svc_params)\n",
      "\n",
      "gs_svc = GridSearchCV(SVC(), svc_params, cv=3, n_jobs=-1)\n",
      "gs_svc.fit(X_small_train, y_small_train)\n",
      "gs_svc.best_params_, gs_svc.best_score_"
     ],
     "language": "python",
     "metadata": {},
     "outputs": [
      {
       "output_type": "stream",
       "stream": "stdout",
       "text": [
        "{'C': array([   0.1,    1. ,   10. ,  100. ]),\n",
        " 'gamma': array([  1.00000000e-04,   1.00000000e-03,   1.00000000e-02,\n",
        "         1.00000000e-01,   1.00000000e+00])}\n"
       ]
      },
      {
       "metadata": {},
       "output_type": "pyout",
       "prompt_number": 40,
       "text": [
        "({'C': 100.0, 'gamma': 0.0001}, 0.69659950398159198)"
       ]
      }
     ],
     "prompt_number": 40
    },
    {
     "cell_type": "code",
     "collapsed": false,
     "input": [
      "display_grid_scores(gs_svc.grid_scores_, top=20)"
     ],
     "language": "python",
     "metadata": {},
     "outputs": [
      {
       "output_type": "stream",
       "stream": "stdout",
       "text": [
        "C=100.0, gamma=0.0001:\t0.697 (+/-0.007) *\n",
        "C=10.0, gamma=0.001:\t0.694 (+/-0.004) *\n",
        "C=10.0, gamma=0.0001:\t0.674 (+/-0.003)\n",
        "C=100.0, gamma=0.001:\t0.671 (+/-0.007) *\n",
        "C=1.0, gamma=0.001:\t0.666 (+/-0.001)\n",
        "C=100.0, gamma=0.01:\t0.621 (+/-0.006)\n",
        "C=10.0, gamma=0.01:\t0.621 (+/-0.007)\n",
        "C=1.0, gamma=0.01:\t0.619 (+/-0.003)\n",
        "C=1.0, gamma=0.0001:\t0.526 (+/-0.001)\n",
        "C=0.1, gamma=0.01:\t0.503 (+/-0.004)\n",
        "C=0.1, gamma=0.001:\t0.479 (+/-0.002)\n",
        "C=10.0, gamma=0.1:\t0.467 (+/-0.002)\n",
        "C=100.0, gamma=0.1:\t0.467 (+/-0.002)\n",
        "C=1.0, gamma=0.1:\t0.466 (+/-0.002)\n",
        "C=0.1, gamma=0.1:\t0.454 (+/-0.001)\n",
        "C=0.1, gamma=0.0001:\t0.453 (+/-0.000)\n",
        "C=0.1, gamma=1.0:\t0.453 (+/-0.000)\n",
        "C=1.0, gamma=1.0:\t0.453 (+/-0.000)\n",
        "C=10.0, gamma=1.0:\t0.453 (+/-0.000)\n",
        "C=100.0, gamma=1.0:\t0.453 (+/-0.000)\n"
       ]
      }
     ],
     "prompt_number": 97
    },
    {
     "cell_type": "code",
     "collapsed": false,
     "input": [],
     "language": "python",
     "metadata": {},
     "outputs": []
    }
   ],
   "metadata": {}
  }
 ]
}