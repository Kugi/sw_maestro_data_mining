{
 "metadata": {
  "name": ""
 },
 "nbformat": 3,
 "nbformat_minor": 0,
 "worksheets": [
  {
   "cells": [
    {
     "cell_type": "code",
     "collapsed": false,
     "input": [
      "from SimpleXMLRPCServer import SimpleXMLRPCServer\n",
      "from SimpleXMLRPCServer import SimpleXMLRPCRequestHandler\n",
      "\n",
      "# Restrict to a particular path.\n",
      "class RequestHandler(SimpleXMLRPCRequestHandler):\n",
      "    rpc_paths = ('/RPC3',)\n",
      "\n",
      "# Create server\n",
      "server = SimpleXMLRPCServer((\"localhost\", 8800),\n",
      "                            requestHandler=RequestHandler)\n",
      "server.register_introspection_functions()\n",
      "\n",
      "# Register pow() function; this will use the value of\n",
      "# pow.__name__ as the name, which is just 'pow'.\n",
      "server.register_function(pow)\n",
      "\n",
      "# Register a function under a different name\n",
      "def adder_function(x,y):\n",
      "    return x + y\n",
      "server.register_function(adder_function, 'add')\n",
      "\n",
      "# Register an instance; all the methods of the instance are\n",
      "# published as XML-RPC methods (in this case, just 'mul').\n",
      "class MyFuncs:\n",
      "    def mul(self, x, y):\n",
      "        return x * y\n",
      "\n",
      "server.register_instance(MyFuncs())\n",
      "\n",
      "# Run the server's main loop\n",
      "server.serve_forever()"
     ],
     "language": "python",
     "metadata": {},
     "outputs": [],
     "prompt_number": "*"
    },
    {
     "cell_type": "code",
     "collapsed": false,
     "input": [],
     "language": "python",
     "metadata": {},
     "outputs": []
    }
   ],
   "metadata": {}
  }
 ]
}