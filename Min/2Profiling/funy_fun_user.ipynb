{
 "metadata": {
  "name": ""
 },
 "nbformat": 3,
 "nbformat_minor": 0,
 "worksheets": [
  {
   "cells": [
    {
     "cell_type": "code",
     "collapsed": false,
     "input": [
      "cd"
     ],
     "language": "python",
     "metadata": {},
     "outputs": [
      {
       "output_type": "stream",
       "stream": "stdout",
       "text": [
        "/Users/jeongmingi\n"
       ]
      }
     ],
     "prompt_number": 1
    },
    {
     "cell_type": "code",
     "collapsed": false,
     "input": [
      "import pickle\n",
      "user_gender = pickle.load(file('desktop/data/profiled_gender.pkl'))\n",
      "uapp = pickle.load(file('desktop/data/user_app.df'))\n",
      "apps = pickle.load(file('desktop/data/app_info2.df'))\n"
     ],
     "language": "python",
     "metadata": {},
     "outputs": [],
     "prompt_number": 63
    },
    {
     "cell_type": "code",
     "collapsed": false,
     "input": [
      "genres = apps['genre'].unique()"
     ],
     "language": "python",
     "metadata": {},
     "outputs": [
      {
       "output_type": "stream",
       "stream": "stdout",
       "text": [
        "\uac8c\uc784 \uc571 \uad50\ud1b5 \ub3c4\uad6c \uc5d4\ud130\ud14c\uc778\uba3c\ud2b8 \ub274\uc2a4 \ubc0f \uc7a1\uc9c0 \uae08\uc735 \uc74c\uc545 \ubc0f \uc624\ub514\uc624 \ub77c\uc774\ud504\uc2a4\ud0c0\uc77c \ub450\ub1cc\uac8c\uc784 \ubc0f \ud37c\uc990 \ubbf8\ub514\uc5b4 \ubc0f \ub3d9\uc601\uc0c1 \ub370\ucf54\ub808\uc774\uc158 \ucee4\ubba4\ub2c8\ucf00\uc774\uc158 \uac74\uac15 \ubc0f \uc6b4\ub3d9 \uc0ac\uc9c4 \uce90\uc8fc\uc5bc \uac8c\uc784 \uad50\uc721 \uc1fc\ud551 \ube44\uc988\ub2c8\uc2a4 \uc2a4\ud3ec\uce20 \ub3c4\uc11c \ubc0f \ucc38\uace0\uc790\ub8cc \uc18c\uc15c \ucf58\ud150\uce20 \uc5ec\ud589 \ubc0f \uc9c0\uc5ed\uc815\ubcf4 \uc758\ub8cc \uce74\ub4dc\uac8c\uc784 \uc0dd\uc0b0\uc131 \uc544\ucf00\uc774\ub4dc \uac8c\uc784 \ub0a0\uc528 \ub77c\uc774\ube0c\ub7ec\ub9ac \ubc0f \ub370\ubaa8 \uc2a4\ud3ec\uce20 \uac8c\uc784 \ub9cc\ud654  \uc790\ub3d9\ucc28 \uacbd\uc8fc Personalization Music & Audio Sports Books & Reference Productivity Weather Lifestyle\n"
       ]
      }
     ],
     "prompt_number": 71
    },
    {
     "cell_type": "code",
     "collapsed": false,
     "input": [
      "uapp['user_id'].unique()"
     ],
     "language": "python",
     "metadata": {},
     "outputs": [
      {
       "metadata": {},
       "output_type": "pyout",
       "prompt_number": 11,
       "text": [
        "array([2007318, 5188098, 5207032, ..., 5183880, 5670558, 3974027])"
       ]
      }
     ],
     "prompt_number": 11
    },
    {
     "cell_type": "code",
     "collapsed": false,
     "input": [
      "import pandas as pd\n",
      "user_apps = uapp.ix[uapp['user_id']==2007318]\n",
      "pd.DataFrame(user_apps)\n",
      "\n",
      "user_apps['genre'] = 0\n"
     ],
     "language": "python",
     "metadata": {},
     "outputs": [],
     "prompt_number": 106
    },
    {
     "cell_type": "code",
     "collapsed": false,
     "input": [
      "id_apps = []\n",
      "for i, app in enumerate(user_apps.entity_id.values):\n",
      "    #id_apps.append(apps[apps['id']==app].genre)\n",
      "    user_apps.ix[user_apps['entity_id']==app, 'genre'] = apps[apps['id']==app]['genre'].values\n",
      "    \n",
      "user_apps[:3]"
     ],
     "language": "python",
     "metadata": {},
     "outputs": [
      {
       "html": [
        "<div style=\"max-height:1000px;max-width:1500px;overflow:auto;\">\n",
        "<table border=\"1\" class=\"dataframe\">\n",
        "  <thead>\n",
        "    <tr style=\"text-align: right;\">\n",
        "      <th></th>\n",
        "      <th>create_date</th>\n",
        "      <th>update_date</th>\n",
        "      <th>user_id</th>\n",
        "      <th>entity_id</th>\n",
        "      <th>usage</th>\n",
        "      <th>is_deleted</th>\n",
        "      <th>genre</th>\n",
        "    </tr>\n",
        "  </thead>\n",
        "  <tbody>\n",
        "    <tr>\n",
        "      <th>0</th>\n",
        "      <td> 20130222202059</td>\n",
        "      <td> 20130730090415</td>\n",
        "      <td> 2007318</td>\n",
        "      <td> 1612462</td>\n",
        "      <td> 0</td>\n",
        "      <td> True</td>\n",
        "      <td> \uc571</td>\n",
        "    </tr>\n",
        "    <tr>\n",
        "      <th>1</th>\n",
        "      <td> 20130311075241</td>\n",
        "      <td> 20130730090415</td>\n",
        "      <td> 2007318</td>\n",
        "      <td> 1651419</td>\n",
        "      <td> 0</td>\n",
        "      <td> True</td>\n",
        "      <td> \uc571</td>\n",
        "    </tr>\n",
        "    <tr>\n",
        "      <th>2</th>\n",
        "      <td> 20130401221208</td>\n",
        "      <td> 20130730090415</td>\n",
        "      <td> 2007318</td>\n",
        "      <td> 1522396</td>\n",
        "      <td> 0</td>\n",
        "      <td> True</td>\n",
        "      <td> \uc571</td>\n",
        "    </tr>\n",
        "  </tbody>\n",
        "</table>\n",
        "</div>"
       ],
       "metadata": {},
       "output_type": "pyout",
       "prompt_number": 120,
       "text": [
        "      create_date     update_date  user_id  entity_id  usage is_deleted genre\n",
        "0  20130222202059  20130730090415  2007318    1612462      0       True     \uc571\n",
        "1  20130311075241  20130730090415  2007318    1651419      0       True     \uc571\n",
        "2  20130401221208  20130730090415  2007318    1522396      0       True     \uc571"
       ]
      }
     ],
     "prompt_number": 120
    },
    {
     "cell_type": "code",
     "collapsed": false,
     "input": [
      "g_apps = dict(list(user_apps.groupby('genre')['entity_id']))"
     ],
     "language": "python",
     "metadata": {},
     "outputs": [],
     "prompt_number": 148
    },
    {
     "cell_type": "code",
     "collapsed": false,
     "input": [
      "g_apps['\uc571']"
     ],
     "language": "python",
     "metadata": {},
     "outputs": [
      {
       "metadata": {},
       "output_type": "pyout",
       "prompt_number": 149,
       "text": [
        "0        1612462\n",
        "1        1651419\n",
        "2        1522396\n",
        "5        1524647\n",
        "10       1602623\n",
        "11       1602629\n",
        "12       1619414\n",
        "13       1697274\n",
        "14       1525266\n",
        "16       1454014\n",
        "58       1603214\n",
        "61       1601382\n",
        "109      1621077\n",
        "90404    1638412\n",
        "90434    1423394\n",
        "...\n",
        "8594068     1601873\n",
        "8594084     1601909\n",
        "8922698     1785884\n",
        "8922708     1614672\n",
        "8922724     1601611\n",
        "8922727     1606139\n",
        "10256918    1776304\n",
        "10256919    1513814\n",
        "10256952    1618391\n",
        "10256959    1612458\n",
        "10256979    1607650\n",
        "10471869    1601795\n",
        "10616352    1771537\n",
        "10616392    1618040\n",
        "10616393    1604001\n",
        "Name: entity_id, Length: 104, dtype: int64"
       ]
      }
     ],
     "prompt_number": 149
    },
    {
     "cell_type": "code",
     "collapsed": false,
     "input": [
      "print apps"
     ],
     "language": "python",
     "metadata": {},
     "outputs": []
    },
    {
     "cell_type": "code",
     "collapsed": false,
     "input": [
      "import numpy as np"
     ],
     "language": "python",
     "metadata": {},
     "outputs": [],
     "prompt_number": 21
    },
    {
     "cell_type": "code",
     "collapsed": false,
     "input": [
      "user_apps.entity_id.values"
     ],
     "language": "python",
     "metadata": {},
     "outputs": [
      {
       "metadata": {},
       "output_type": "pyout",
       "prompt_number": 23,
       "text": [
        "array([1612462, 1651419, 1522396, 1524647, 1866775, 1602623, 1602629,\n",
        "       1619414, 1697274, 1525266, 1635861, 1454014, 1603214, 1875611,\n",
        "       1601382, 1660891, 1621077, 1638412, 1423394, 1616171, 1501554,\n",
        "       1601913, 1524269, 1776334, 1776335, 1526522, 1637150, 1614641,\n",
        "       1528708, 1526795, 1522835, 1695037, 1793436, 1456035, 1605156,\n",
        "       1783391, 1636112, 1617816, 1777715, 1523888, 1637531, 1606587,\n",
        "       1525490, 1525678, 1606330, 1676455, 1603871, 1601875, 1750869,\n",
        "       1425321, 1525812, 1456558, 1606215, 1774658, 1522806, 1499496,\n",
        "       1542022, 1776682, 1632003, 1607894, 1776354, 1528355, 1528183,\n",
        "       1776497, 1602432, 1522656, 1675831, 1521739, 1527944, 1491219,\n",
        "       1606247, 1612421, 1606285, 1776281, 1601787, 1456578, 1524660,\n",
        "       1528802, 1601739, 1601823, 1605958, 1522122, 1527495, 1623794,\n",
        "       1419008, 1693567, 1903376, 1606249, 1682202, 1793560, 1453692,\n",
        "       1781497, 1451153, 1773168, 1603323, 1587168, 1618079, 1606466,\n",
        "       1487194, 1614275, 1612464, 1522470, 1756685, 1637534, 1616502,\n",
        "       1601794, 1603874, 1605953, 1601905, 1653276, 1537529, 1528644,\n",
        "       1619644, 1521930, 1601873, 1601909, 1637769, 1618327, 1785884,\n",
        "       1614672, 1601611, 1606139, 1642366, 1636300, 1776304, 1513814,\n",
        "       1522106, 1618391, 1796682, 1612458, 1894293, 1607650, 1601795,\n",
        "       1771537, 1618040, 1604001, 1640880])"
       ]
      }
     ],
     "prompt_number": 23
    },
    {
     "cell_type": "code",
     "collapsed": false,
     "input": [
      "for i in range(int(user_apps.entity_id.value_counts)):\n",
      "    print i"
     ],
     "language": "python",
     "metadata": {},
     "outputs": [
      {
       "ename": "TypeError",
       "evalue": "range() integer end argument expected, got instancemethod.",
       "output_type": "pyerr",
       "traceback": [
        "\u001b[0;31m---------------------------------------------------------------------------\u001b[0m\n\u001b[0;31mTypeError\u001b[0m                                 Traceback (most recent call last)",
        "\u001b[0;32m<ipython-input-18-0215357ae672>\u001b[0m in \u001b[0;36m<module>\u001b[0;34m()\u001b[0m\n\u001b[0;32m----> 1\u001b[0;31m \u001b[0;32mfor\u001b[0m \u001b[0mi\u001b[0m \u001b[0;32min\u001b[0m \u001b[0mrange\u001b[0m\u001b[0;34m(\u001b[0m\u001b[0muser_apps\u001b[0m\u001b[0;34m.\u001b[0m\u001b[0mentity_id\u001b[0m\u001b[0;34m.\u001b[0m\u001b[0mvalue_counts\u001b[0m\u001b[0;34m)\u001b[0m\u001b[0;34m:\u001b[0m\u001b[0;34m\u001b[0m\u001b[0m\n\u001b[0m\u001b[1;32m      2\u001b[0m     \u001b[0;32mprint\u001b[0m \u001b[0mi\u001b[0m\u001b[0;34m\u001b[0m\u001b[0m\n",
        "\u001b[0;31mTypeError\u001b[0m: range() integer end argument expected, got instancemethod."
       ]
      }
     ],
     "prompt_number": 18
    },
    {
     "cell_type": "code",
     "collapsed": false,
     "input": [
      "%pylab inline\n",
      "import matplotlib.pyplot as plt\n",
      "import numpy as np\n",
      "\n",
      "ages2 = [30.0, 45.0, 20.0, 7.0, 10.0, 1]\n",
      "\n",
      "ages = ages[0]\n",
      "ages = ages / np.sum(ages) * 100\n",
      "np_ages = np.array(ages)\n",
      "sort_ages = np_ages.argsort()\n",
      "\n",
      "explode = [0.05, 0.05, 0.05, 0.05, 0.05, 0.05] \n",
      "explode[sort_ages[-1]] = 0.2\n",
      "explode[sort_ages[-2]] = 0.15\n",
      "\n",
      "colors = np.array([x for x in 'bgrcmy'])\n",
      "labels = ['10s', '20s', '30s', '40s', '50s', '60s']\n",
      "sizes = ages\n",
      "\n"
     ],
     "language": "python",
     "metadata": {},
     "outputs": []
    },
    {
     "cell_type": "code",
     "collapsed": false,
     "input": [
      "plt.pie(sizes, explode=explode, labels=labels, colors=colors,\n",
      "        autopct='%1.1f%%', shadow=True, startangle=90)\n",
      "# Set aspect ratio to be equal so that pie is drawn as a circle.\n",
      "#plt.axis('equal')\n",
      "\n",
      "plt.savefig('each_app_ages.png', dpi=100)\n",
      "Image('each_app_ages.png',width=600,height=150)\n",
      "plt.show()\n"
     ],
     "language": "python",
     "metadata": {},
     "outputs": []
    }
   ],
   "metadata": {}
  }
 ]
}