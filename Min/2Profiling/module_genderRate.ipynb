{
 "metadata": {
  "name": ""
 },
 "nbformat": 3,
 "nbformat_minor": 0,
 "worksheets": [
  {
   "cells": [
    {
     "cell_type": "markdown",
     "metadata": {},
     "source": [
      "## \uc571 id\uc744 \uc785\ub825\ud558\uba74 \ud574\ub2f9\ud558\ub294 \uc571\uc744 \uc0ac\uc6a9\ud558\ub294 \uc131\ubcc4, \uc131\ubcc4\ube44\uac00 'appGender', 'appGenderRate.png' \ud30c\uc77c\uc774 \uc0dd\uc131."
     ]
    },
    {
     "cell_type": "code",
     "collapsed": false,
     "input": [
      "cd"
     ],
     "language": "python",
     "metadata": {},
     "outputs": [
      {
       "output_type": "stream",
       "stream": "stdout",
       "text": [
        "/Users/jeongmingi\n"
       ]
      }
     ],
     "prompt_number": 3
    },
    {
     "cell_type": "markdown",
     "metadata": {},
     "source": [
      "#### user_gender\ub294 'user'\uc640 'gender'\uc758 \ud0a4\ub97c \uac16\uace0 \uc788\uc5b4\uc11c \uac01 \uc0ac\uc6a9\uc790\uc758 \uc131\ubcc4\uc744 \ub300\uc785\ud55c\ub2e4.\n",
      "#### uapp \uc740 'user_id'\uc640 'entity_id'\ub97c \uac16\uace0 \uc788\uc5b4\uc11c \uac01 \uc0ac\uc6a9\uc790\uc758 \uc571\uc744 \uc54c \uc218 \uc788\ub2e4.\n",
      "#### apps \ub294 'id'\uc640 'name'\uc744 \uac16\uace0 \uc788\uc5b4\uc11c \uac01 \uc571\uc758 \uc774\ub984\uc744 \uc54c \uc218 \uc788\ub2e4."
     ]
    },
    {
     "cell_type": "code",
     "collapsed": false,
     "input": [
      "import pickle\n",
      "import pandas as pd\n",
      "\n",
      "user_gender = pickle.load(file('desktop/data/profiled_gender.pkl'))\n",
      "uapp = pickle.load(file('desktop/data/user_app.df'))\n",
      "apps = pickle.load(file('desktop/data/app_info2.df'))\n"
     ],
     "language": "python",
     "metadata": {},
     "outputs": [],
     "prompt_number": 4
    },
    {
     "cell_type": "code",
     "collapsed": false,
     "input": [
      "user_gender['gender'] = (-1) * user_gender['gender'] + 3"
     ],
     "language": "python",
     "metadata": {},
     "outputs": [],
     "prompt_number": 5
    },
    {
     "cell_type": "markdown",
     "metadata": {},
     "source": [
      "#### \uac01 \uc571(app)\ub9c8\ub2e4 \uc0ac\uc6a9\ud558\ub294 \ub0a8\uc790\uc640 \uc5ec\uc790\uc758 \uc218\ub97c \ub9ac\ud134\ud55c\ub2e4."
     ]
    },
    {
     "cell_type": "code",
     "collapsed": false,
     "input": [
      "def get_count_gender(app):\n",
      "    male = 0.0\n",
      "    female = 0.0\n",
      "    users = uapp[uapp['entity_id']==app].user_id\n",
      "    if(users.count>=3000):\n",
      "        users = users[:3000]\n",
      "    \n",
      "    for user in users:\n",
      "        gender = user_gender[user_gender['user']==user]['gender']\n",
      "        if gender:\n",
      "            if gender == 1:\n",
      "                male += 1\n",
      "            elif gender == 2:\n",
      "                female += 1\n",
      "            else:\n",
      "                print \"ERROR IN 'get_graph_gender()'\"\n",
      "        else:\n",
      "            print 'NAN'\n",
      "        \n",
      "    return male, female"
     ],
     "language": "python",
     "metadata": {},
     "outputs": [],
     "prompt_number": 6
    },
    {
     "cell_type": "markdown",
     "metadata": {},
     "source": [
      "####gender_\uc5d0 \uac01 \uc571\uc758 \uc0ac\uc6a9\uc790\uc758 \uc131\ubcc4 \uc218\ub97c \uc785\ub825\ud558\ub294\ub370, apps\uc758 id\ub97c \ucc28\ub840\ub300\ub85c \uc77c\uc815\ud55c \uc218 \ub9cc\ud07c\uc744 \uc798\ub77c\uc11c 'get_count_gender()'\ud568\uc218\uc5d0 \ub123\uace0 \uc131\ubcc4 \uc218\ub97c \ubc18\ud658\ud55c\ub2e4."
     ]
    },
    {
     "cell_type": "code",
     "collapsed": false,
     "input": [
      "gender_ = []"
     ],
     "language": "python",
     "metadata": {},
     "outputs": [],
     "prompt_number": 7
    },
    {
     "cell_type": "code",
     "collapsed": false,
     "input": [
      "uapps = apps[:5].id"
     ],
     "language": "python",
     "metadata": {},
     "outputs": [],
     "prompt_number": 8
    },
    {
     "cell_type": "code",
     "collapsed": false,
     "input": [
      "for i in uapps:\n",
      "    gender_.append(get_count_gender(i))\n",
      "print gender_"
     ],
     "language": "python",
     "metadata": {},
     "outputs": [
      {
       "output_type": "stream",
       "stream": "stdout",
       "text": [
        "[(72.0, 16.0), (76.0, 1.0), (27.0, 0.0), (9.0, 2.0), (17.0, 8.0), (72.0, 16.0), (76.0, 1.0), (27.0, 0.0), (9.0, 2.0), (17.0, 8.0)]\n"
       ]
      }
     ],
     "prompt_number": 10
    },
    {
     "cell_type": "markdown",
     "metadata": {},
     "source": [
      "#### DataFrame\uc744 \uc0dd\uc131, 'name' index\ubcc4 'male', 'female' colume\uc744 \ub9e4\uce6d\ud55c\ub2e4.\n",
      "#### return frame ==> index = \uc571 \uc774\ub984 , colums = \ub0a8\uc131 \uc0ac\uc6a9\uc790 \uc218, \uc5ec\uc131 \uc0ac\uc6a9\uc790 \uc218\n",
      "#### return normed_ ==> index = \uc571 \uc774\ub984, colums =  \ub0a8\uc131 \uc0ac\uc6a9\uc790 \ube44\uc728, \uc5ec\uc131 \uc0ac\uc6a9\uc790 \ube44\uc728"
     ]
    },
    {
     "cell_type": "code",
     "collapsed": false,
     "input": [
      "def graph_gender_rate(apps):\n",
      "    temp = []\n",
      "    index_ = []\n",
      "    for i in apps['id']: # can be update....\n",
      "        male, female = get_count_gender(i)\n",
      "        temp.append([male, female])\n",
      "        t = apps[apps['id']==i]['name']\n",
      "        t = t.values\n",
      "        t = ''.join(t)\n",
      "        index_.append(t)\n",
      "    frame = pd.DataFrame(temp, columns = ['male', 'female'],\n",
      "                         index = index_)\n",
      "    normed_ = frame.div(frame.sum(axis=1), axis=0)\n",
      "    \n",
      "    #grouped = app_info['name'].groupby(['male', 'female'])\n",
      "    #app_info[app_info['id'] == app\n",
      "    return frame, normed_"
     ],
     "language": "python",
     "metadata": {},
     "outputs": [],
     "prompt_number": 11
    },
    {
     "cell_type": "code",
     "collapsed": false,
     "input": [
      "ff, n_ff = graph_gender_rate(apps[:10])"
     ],
     "language": "python",
     "metadata": {},
     "outputs": [],
     "prompt_number": 12
    },
    {
     "cell_type": "code",
     "collapsed": false,
     "input": [
      "ff[:]"
     ],
     "language": "python",
     "metadata": {},
     "outputs": [
      {
       "html": [
        "<div style=\"max-height:1000px;max-width:1500px;overflow:auto;\">\n",
        "<table border=\"1\" class=\"dataframe\">\n",
        "  <thead>\n",
        "    <tr style=\"text-align: right;\">\n",
        "      <th></th>\n",
        "      <th>male</th>\n",
        "      <th>female</th>\n",
        "    </tr>\n",
        "  </thead>\n",
        "  <tbody>\n",
        "    <tr>\n",
        "      <th>100 \ubbf8\uc158 : \ub77c\uc2a4 \ubca0\uc774\uac70\uc2a4 (Las Vegas)</th>\n",
        "      <td>  72</td>\n",
        "      <td>  16</td>\n",
        "    </tr>\n",
        "    <tr>\n",
        "      <th>\uc778\ubca0\uc774\ub354\ud5cc\ud130</th>\n",
        "      <td>  76</td>\n",
        "      <td>   1</td>\n",
        "    </tr>\n",
        "    <tr>\n",
        "      <th>GTA Vice City Cheater</th>\n",
        "      <td>  27</td>\n",
        "      <td>   0</td>\n",
        "    </tr>\n",
        "    <tr>\n",
        "      <th>\uc5d8\uc18c\ub4dc \uc2a4\ud0ac\ud2b8\ub9ac(\uc544\ub77c)</th>\n",
        "      <td>   9</td>\n",
        "      <td>   2</td>\n",
        "    </tr>\n",
        "    <tr>\n",
        "      <th>\ubbf8\ub140\ubcc0\ud638\uc0ac\uc138\ub9ac\ud0b4</th>\n",
        "      <td>  17</td>\n",
        "      <td>   8</td>\n",
        "    </tr>\n",
        "    <tr>\n",
        "      <th>Pet Fair Village</th>\n",
        "      <td>  14</td>\n",
        "      <td>   9</td>\n",
        "    </tr>\n",
        "    <tr>\n",
        "      <th>Forest Life</th>\n",
        "      <td> 107</td>\n",
        "      <td> 112</td>\n",
        "    </tr>\n",
        "    <tr>\n",
        "      <th>\uc138\uacc4\uc5d0\uc11c \uc81c\uc77c \ube60\ub978 \ub808\ubca8\uc5c5</th>\n",
        "      <td>  22</td>\n",
        "      <td>   5</td>\n",
        "    </tr>\n",
        "    <tr>\n",
        "      <th>Devil Girls</th>\n",
        "      <td> 101</td>\n",
        "      <td>  16</td>\n",
        "    </tr>\n",
        "    <tr>\n",
        "      <th>\u2605 \uc131\uc778\uc6a9 \ub9de\uace0\uc758 \uc885\uacb0\uc790!! \u2605 \uc7a5\ubaa8\ub2d8\uc758 \ub098\ub77c \ub9de\uace0</th>\n",
        "      <td>  58</td>\n",
        "      <td>  11</td>\n",
        "    </tr>\n",
        "  </tbody>\n",
        "</table>\n",
        "</div>"
       ],
       "metadata": {},
       "output_type": "pyout",
       "prompt_number": 13,
       "text": [
        "                              male  female\n",
        "100 \ubbf8\uc158 : \ub77c\uc2a4 \ubca0\uc774\uac70\uc2a4 (Las Vegas)    72      16\n",
        "\uc778\ubca0\uc774\ub354\ud5cc\ud130                          76       1\n",
        "GTA Vice City Cheater           27       0\n",
        "\uc5d8\uc18c\ub4dc \uc2a4\ud0ac\ud2b8\ub9ac(\uc544\ub77c)                     9       2\n",
        "\ubbf8\ub140\ubcc0\ud638\uc0ac\uc138\ub9ac\ud0b4                        17       8\n",
        "Pet Fair Village                14       9\n",
        "Forest Life                    107     112\n",
        "\uc138\uacc4\uc5d0\uc11c \uc81c\uc77c \ube60\ub978 \ub808\ubca8\uc5c5                  22       5\n",
        "Devil Girls                    101      16\n",
        "\u2605 \uc131\uc778\uc6a9 \ub9de\uace0\uc758 \uc885\uacb0\uc790!! \u2605 \uc7a5\ubaa8\ub2d8\uc758 \ub098\ub77c \ub9de\uace0    58      11"
       ]
      }
     ],
     "prompt_number": 13
    },
    {
     "cell_type": "code",
     "collapsed": false,
     "input": [
      "%pylab inline\n",
      "import pylab as pl\n",
      "import matplotlib\n",
      "import matplotlib.pyplot as plt\n",
      "import pandas as pd\n",
      "import pandas.tools.plotting\n",
      "from IPython.core.display import Image\n",
      " \n",
      "matplotlib.rc('font', family='NanumGothicCoding')\n",
      " \n",
      "def _stringify(x):\n",
      "    if isinstance(x, tuple):\n",
      "        return '|'.join(str(y) for y in x)\n",
      "    else:\n",
      "        return unicode(x)\n",
      "pandas.tools.plotting._stringify = _stringify # hack\n"
     ],
     "language": "python",
     "metadata": {},
     "outputs": [
      {
       "output_type": "stream",
       "stream": "stdout",
       "text": [
        "Populating the interactive namespace from numpy and matplotlib\n"
       ]
      }
     ],
     "prompt_number": 18
    },
    {
     "cell_type": "code",
     "collapsed": false,
     "input": [
      "ff.plot(kind='barh', alpha=0.5)\n",
      "plt.savefig('appGender.png', dpi=100)\n",
      "plt.show()"
     ],
     "language": "python",
     "metadata": {},
     "outputs": [
      {
       "metadata": {},
       "output_type": "display_data",
       "png": "[encoded data removed]",
       "text": [
        "<matplotlib.figure.Figure at 0x150c99210>"
       ]
      }
     ],
     "prompt_number": 19
    },
    {
     "cell_type": "code",
     "collapsed": false,
     "input": [
      "#ff.plot(kind='barh', alpha=0.5)\n",
      "#plt.savefig('each_app_count.png', dpi=100, bbox_inches='tight')\n",
      "#Image('each_app_count.png',width=600,height=150)\n",
      "#plt.figure()\n",
      "n_ff.plot(kind='barh', stacked=True, title=''.join(u'\uc571\ubcc4 \uc131\ubcc4\ube44'))\n",
      "plt.savefig('appGenderRate.png', dpi=100)\n",
      "plt.show()"
     ],
     "language": "python",
     "metadata": {},
     "outputs": [
      {
       "metadata": {},
       "output_type": "display_data",
       "png": "[encoded data removed]",
       "text": [
        "<matplotlib.figure.Figure at 0x115fe6190>"
       ]
      }
     ],
     "prompt_number": 20
    },
    {
     "cell_type": "code",
     "collapsed": false,
     "input": [],
     "language": "python",
     "metadata": {},
     "outputs": []
    }
   ],
   "metadata": {}
  }
 ]
}