{
 "metadata": {
  "name": ""
 },
 "nbformat": 3,
 "nbformat_minor": 0,
 "worksheets": [
  {
   "cells": [
    {
     "cell_type": "markdown",
     "metadata": {},
     "source": [
      "#### - \ucc38\uc870 : Min/1learning/classification/user_age_predicted.ipython\n",
      "#### - python\uc6a9, classification\uc740 10\ub300, 20\ub300, 30\ub300, 40\ub300\ub97c \uad6c\ubd84\ud558\ub294\ub370 \uc0ac\uc6a9\ud55c\ub2e4."
     ]
    },
    {
     "cell_type": "code",
     "collapsed": false,
     "input": [
      "from sklearn.datasets import load_svmlight_file\n",
      "X, y = load_svmlight_file(\"data/user_age.dat\")\n",
      "#c = 0\n",
      "for i, np in enumerate(y):\n",
      "    if ((np > 3.) and (np < 4.)):\n",
      "        y[i] = 3.;\n",
      "    elif(np>=4.):\n",
      "        y[i] = 4.\n",
      "    else:\n",
      "        pass\n",
      "    \n",
      "n_samples, n_features = X.shape"
     ],
     "language": "python",
     "metadata": {},
     "outputs": [],
     "prompt_number": 8
    },
    {
     "cell_type": "markdown",
     "metadata": {},
     "source": [
      "#Create SVC Model for _\"ages\"_ (LinearSVC)"
     ]
    },
    {
     "cell_type": "code",
     "collapsed": false,
     "input": [
      "from sklearn.svm import LinearSVC\n",
      "import numpy as np\n",
      "from sklearn.cross_validation import ShuffleSplit\n",
      "from sklearn.grid_search import GridSearchCV\n",
      "from sklearn.cross_validation import train_test_split\n",
      "\n",
      "n_Cs = 10\n",
      "n_iter = 5\n",
      "n_samples, n_features = X.shape\n",
      "n_samples = 5000\n",
      "\n",
      "cv = ShuffleSplit(n_samples, n_iter=n_iter, \n",
      "                     test_size=0.2, random_state=0)\n",
      "\n",
      "train_scores = np.zeros((n_Cs, n_iter))\n",
      "test_scores = np.zeros((n_Cs, n_iter))\n",
      "Cs = np.logspace(-7, 2, n_Cs)\n",
      "\n",
      "X_train, X_test, y_train, y_test = train_test_split(X, y, test_size=0.2,\n",
      "                                                    random_state=0)\n",
      "\n",
      "Lparam = {\n",
      "         'C': np.logspace(-5, 1, 15),\n",
      "}\n",
      "\n",
      "gcv = GridSearchCV(LinearSVC(), Lparam, cv=3, n_jobs=-1)\n",
      "%time _ = gcv.fit(X_train, y_train)\n",
      "gcv.best_params_, gcv.best_score_"
     ],
     "language": "python",
     "metadata": {},
     "outputs": [
      {
       "output_type": "stream",
       "stream": "stderr",
       "text": [
        "/Users/jeongmingi/anaconda/python.app/Contents/lib/python2.7/site-packages/sklearn/cross_validation.py:368: Warning: The least populated class in y has only 1 members, which is too few. The minimum number of labels for any class cannot be less than n_folds=3.\n",
        "  % (min_labels, n_folds)), Warning)\n"
       ]
      }
     ],
     "prompt_number": "*"
    },
    {
     "cell_type": "code",
     "collapsed": false,
     "input": [
      "L_svc = LinearSVC(C=0.0037289495).fit(X_train,y_train)\n",
      "L_svc.score(X_train,y_train), L_svc.score(X_test,y_test)"
     ],
     "language": "python",
     "metadata": {},
     "outputs": [
      {
       "metadata": {},
       "output_type": "pyout",
       "prompt_number": 58,
       "text": [
        "(0.82359449151308706, 0.73180388960055898)"
       ]
      }
     ],
     "prompt_number": 58
    },
    {
     "cell_type": "code",
     "collapsed": false,
     "input": [
      "from sklearn.externals import joblib\n",
      "\n",
      "filename = \"age_my_model_80.pkl\"\n",
      "joblib.dump(L_svc, filename, compress=9)\n"
     ],
     "language": "python",
     "metadata": {},
     "outputs": [
      {
       "metadata": {},
       "output_type": "pyout",
       "prompt_number": 13,
       "text": [
        "['age_my_model_80.pkl']"
       ]
      }
     ],
     "prompt_number": 13
    },
    {
     "cell_type": "markdown",
     "metadata": {},
     "source": [
      "#Create SVC Model for _\"ages\"_ (default : rbf)"
     ]
    },
    {
     "cell_type": "code",
     "collapsed": false,
     "input": [
      "n_subsamples = 5000\n",
      "X_small_train, y_small_train = X[:n_subsamples], y[:n_subsamples]\n"
     ],
     "language": "python",
     "metadata": {},
     "outputs": [],
     "prompt_number": 59
    },
    {
     "cell_type": "code",
     "collapsed": false,
     "input": [
      "from pprint import pprint\n",
      "from sklearn.grid_search import GridSearchCV\n",
      "import numpy as np\n",
      "\n",
      "svc_params = {\n",
      "    'C': np.logspace(-2, 3, 8),\n",
      "    'gamma': np.logspace(-4, 0, 8),\n",
      "}\n",
      "pprint(svc_params)\n",
      "\n",
      "gs_svc = GridSearchCV(SVC(), svc_params, cv=3, n_jobs=-1)\n",
      "gs_svc.fit(X_small_train, y_small_train)\n",
      "gs_svc.best_params_, gs_svc.best_score_\n",
      "display_grid_scores(gs_svc.grid_scores_, top=20)"
     ],
     "language": "python",
     "metadata": {},
     "outputs": [
      {
       "output_type": "stream",
       "stream": "stdout",
       "text": [
        "{'C': array([  1.00000000e-02,   5.17947468e-02,   2.68269580e-01,\n",
        "         1.38949549e+00,   7.19685673e+00,   3.72759372e+01,\n",
        "         1.93069773e+02,   1.00000000e+03]),\n",
        " 'gamma': array([  1.00000000e-04,   3.72759372e-04,   1.38949549e-03,\n",
        "         5.17947468e-03,   1.93069773e-02,   7.19685673e-02,\n",
        "         2.68269580e-01,   1.00000000e+00])}\n"
       ]
      },
      {
       "output_type": "stream",
       "stream": "stdout",
       "text": [
        "C=7.19685673001, gamma=0.00138949549437:\t0.668 (+/-0.003) *\n",
        "C=37.2759372031, gamma=0.000372759372031:\t0.667 (+/-0.005) *\n",
        "C=193.069772888, gamma=0.0001:\t0.667 (+/-0.001) *\n",
        "C=37.2759372031, gamma=0.0001:\t0.664 (+/-0.001) *\n",
        "C=7.19685673001, gamma=0.000372759372031:\t0.661 (+/-0.002) *\n",
        "C=37.2759372031, gamma=0.00138949549437:\t0.657 (+/-0.008) *\n",
        "C=193.069772888, gamma=0.000372759372031:\t0.655 (+/-0.007) *\n",
        "C=1000.0, gamma=0.00138949549437:\t0.652 (+/-0.010) *\n",
        "C=193.069772888, gamma=0.00138949549437:\t0.651 (+/-0.010) *\n",
        "C=1000.0, gamma=0.000372759372031:\t0.650 (+/-0.008) *\n",
        "C=1000.0, gamma=0.0001:\t0.649 (+/-0.005)\n",
        "C=7.19685673001, gamma=0.00517947467923:\t0.634 (+/-0.003)\n",
        "C=37.2759372031, gamma=0.00517947467923:\t0.628 (+/-0.003)\n",
        "C=193.069772888, gamma=0.00517947467923:\t0.628 (+/-0.003)\n",
        "C=1000.0, gamma=0.00517947467923:\t0.628 (+/-0.003)\n",
        "C=1.38949549437, gamma=0.00138949549437:\t0.628 (+/-0.002)\n",
        "C=1.38949549437, gamma=0.00517947467923:\t0.627 (+/-0.006)\n",
        "C=7.19685673001, gamma=0.0193069772888:\t0.587 (+/-0.002)\n",
        "C=37.2759372031, gamma=0.0193069772888:\t0.586 (+/-0.002)\n",
        "C=193.069772888, gamma=0.0193069772888:\t0.586 (+/-0.002)\n"
       ]
      }
     ],
     "prompt_number": 60
    },
    {
     "cell_type": "code",
     "collapsed": false,
     "input": [],
     "language": "python",
     "metadata": {},
     "outputs": []
    }
   ],
   "metadata": {}
  }
 ]
}