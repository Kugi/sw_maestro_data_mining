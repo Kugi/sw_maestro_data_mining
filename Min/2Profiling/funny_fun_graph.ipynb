{
 "metadata": {
  "name": ""
 },
 "nbformat": 3,
 "nbformat_minor": 0,
 "worksheets": [
  {
   "cells": [
    {
     "cell_type": "code",
     "collapsed": false,
     "input": [
      "cd"
     ],
     "language": "python",
     "metadata": {},
     "outputs": [
      {
       "output_type": "stream",
       "stream": "stdout",
       "text": [
        "/Users/jeongmingi\n"
       ]
      }
     ],
     "prompt_number": 1
    },
    {
     "cell_type": "code",
     "collapsed": false,
     "input": [
      "import pickle\n",
      "user_gender = pickle.load(file('desktop/data/profiled_gender.pkl'))\n",
      "uapp = pickle.load(file('desktop/data/user_app.df'))\n",
      "apps = pickle.load(file('desktop/data/app_info2.df'))\n"
     ],
     "language": "python",
     "metadata": {},
     "outputs": [],
     "prompt_number": 2
    },
    {
     "cell_type": "code",
     "collapsed": false,
     "input": [
      "import pandas as pd\n",
      "temp = pd.io.parsers.read_csv('desktop/data/user_prof.csv', sep='|')\n",
      "temp.keys()\n",
      "temp = temp.drop(0)\n",
      "temp = temp.drop(99535)\n",
      "temp = temp.drop(99536)\n",
      "\n",
      "df_temp = pd.DataFrame(temp.values, columns =['user','gender','age'])"
     ],
     "language": "python",
     "metadata": {},
     "outputs": [],
     "prompt_number": 3
    },
    {
     "cell_type": "code",
     "collapsed": false,
     "input": [
      "uapp[:3]"
     ],
     "language": "python",
     "metadata": {},
     "outputs": [
      {
       "html": [
        "<div style=\"max-height:1000px;max-width:1500px;overflow:auto;\">\n",
        "<table border=\"1\" class=\"dataframe\">\n",
        "  <thead>\n",
        "    <tr style=\"text-align: right;\">\n",
        "      <th></th>\n",
        "      <th>create_date</th>\n",
        "      <th>update_date</th>\n",
        "      <th>user_id</th>\n",
        "      <th>entity_id</th>\n",
        "      <th>usage</th>\n",
        "      <th>is_deleted</th>\n",
        "    </tr>\n",
        "  </thead>\n",
        "  <tbody>\n",
        "    <tr>\n",
        "      <th>0</th>\n",
        "      <td> 20130222202059</td>\n",
        "      <td> 20130730090415</td>\n",
        "      <td> 2007318</td>\n",
        "      <td> 1612462</td>\n",
        "      <td> 0</td>\n",
        "      <td> True</td>\n",
        "    </tr>\n",
        "    <tr>\n",
        "      <th>1</th>\n",
        "      <td> 20130311075241</td>\n",
        "      <td> 20130730090415</td>\n",
        "      <td> 2007318</td>\n",
        "      <td> 1651419</td>\n",
        "      <td> 0</td>\n",
        "      <td> True</td>\n",
        "    </tr>\n",
        "    <tr>\n",
        "      <th>2</th>\n",
        "      <td> 20130401221208</td>\n",
        "      <td> 20130730090415</td>\n",
        "      <td> 2007318</td>\n",
        "      <td> 1522396</td>\n",
        "      <td> 0</td>\n",
        "      <td> True</td>\n",
        "    </tr>\n",
        "  </tbody>\n",
        "</table>\n",
        "</div>"
       ],
       "metadata": {},
       "output_type": "pyout",
       "prompt_number": 4,
       "text": [
        "      create_date     update_date  user_id  entity_id  usage is_deleted\n",
        "0  20130222202059  20130730090415  2007318    1612462      0       True\n",
        "1  20130311075241  20130730090415  2007318    1651419      0       True\n",
        "2  20130401221208  20130730090415  2007318    1522396      0       True"
       ]
      }
     ],
     "prompt_number": 4
    },
    {
     "cell_type": "code",
     "collapsed": false,
     "input": [
      "for i, uu in enumerate(df_temp['user']):\n",
      "    df_temp['user'][i] = int(uu)"
     ],
     "language": "python",
     "metadata": {},
     "outputs": [],
     "prompt_number": 5
    },
    {
     "cell_type": "code",
     "collapsed": false,
     "input": [
      "user_gender['gender'] = (-1) * user_gender['gender'] + 3"
     ],
     "language": "python",
     "metadata": {},
     "outputs": [],
     "prompt_number": 6
    },
    {
     "cell_type": "code",
     "collapsed": false,
     "input": [
      "dic_user_gender = user_gender.to_dict()"
     ],
     "language": "python",
     "metadata": {},
     "outputs": [],
     "prompt_number": 20
    },
    {
     "cell_type": "code",
     "collapsed": false,
     "input": [
      "dic_user_gender['gender'][4]"
     ],
     "language": "python",
     "metadata": {},
     "outputs": [
      {
       "metadata": {},
       "output_type": "pyout",
       "prompt_number": 24,
       "text": [
        "2"
       ]
      }
     ],
     "prompt_number": 24
    },
    {
     "cell_type": "code",
     "collapsed": false,
     "input": [
      "dic_user_gender['user']"
     ],
     "language": "python",
     "metadata": {},
     "outputs": [
      {
       "metadata": {},
       "output_type": "pyout",
       "prompt_number": 25,
       "text": [
        "2202276"
       ]
      }
     ],
     "prompt_number": 25
    },
    {
     "cell_type": "code",
     "collapsed": false,
     "input": [
      "def get_count_gender(app):\n",
      "    male = 0.0\n",
      "    female = 0.0\n",
      "    users = uapp[uapp['entity_id']==app].user_id\n",
      "    #print users\n",
      "    if(users.count>=2000):\n",
      "        users = users[:2000]\n",
      "    \n",
      "    for user in users:\n",
      "        gender = user_gender[user_gender['user']==user]['gender']\n",
      "        if gender:\n",
      "            if gender == 1:\n",
      "                male += 1\n",
      "            elif gender == 2:\n",
      "                female += 1\n",
      "            else:\n",
      "                print \"ERROR IN 'get_graph_gender()'\"\n",
      "        else:\n",
      "            print 'NAN'\n",
      "        \n",
      "    return male, female"
     ],
     "language": "python",
     "metadata": {},
     "outputs": [],
     "prompt_number": 53
    },
    {
     "cell_type": "code",
     "collapsed": false,
     "input": [
      "ages = []"
     ],
     "language": "python",
     "metadata": {},
     "outputs": [],
     "prompt_number": 50
    },
    {
     "cell_type": "code",
     "collapsed": false,
     "input": [
      "for i in uapps[:3]:\n",
      "    ages.append(get_count_gender(i))\n",
      "    print ages"
     ],
     "language": "python",
     "metadata": {},
     "outputs": [
      {
       "output_type": "stream",
       "stream": "stdout",
       "text": [
        "[(164.0, 138.0), (1593.0, 407.0), (164.0, 138.0)]\n",
        "[(164.0, 138.0), (1593.0, 407.0), (164.0, 138.0), (1593.0, 407.0)]"
       ]
      },
      {
       "output_type": "stream",
       "stream": "stdout",
       "text": [
        "\n",
        "[(164.0, 138.0), (1593.0, 407.0), (164.0, 138.0), (1593.0, 407.0), (481.0, 296.0)]"
       ]
      },
      {
       "output_type": "stream",
       "stream": "stdout",
       "text": [
        "\n"
       ]
      }
     ],
     "prompt_number": 54
    },
    {
     "cell_type": "code",
     "collapsed": false,
     "input": [
      "t = apps.ix[apps['id']==1612462,'name']\n",
      "ind = t.index.values\n",
      "print ''.join(t.values)\n",
      "print t[ind]\n",
      "#print t[ind]"
     ],
     "language": "python",
     "metadata": {},
     "outputs": [
      {
       "output_type": "stream",
       "stream": "stdout",
       "text": [
        "\ud0a4\uc988\ud29c\ube0c(KidsTube)\n",
        "249445    \ud0a4\uc988\ud29c\ube0c(KidsTube)\n",
        "Name: name, dtype: object\n"
       ]
      }
     ],
     "prompt_number": 30
    },
    {
     "cell_type": "code",
     "collapsed": false,
     "input": [
      "import pandas as pd\n",
      "def graph_gender_rate(apps):\n",
      "    app_info = pickle.load(file('desktop/data/app_info2.df'))\n",
      "\n",
      "    temp = []\n",
      "    index_ = []\n",
      "    for i in apps:\n",
      "        male, female = get_count_gender(i)\n",
      "        temp.append([male, female])\n",
      "        t = app_info[app_info['id']==i].name\n",
      "        t = t.values\n",
      "        t = ''.join(t)\n",
      "        print t\n",
      "        index_.append(t)\n",
      "        #index_.append(i)\n",
      "    frame = pd.DataFrame(temp, columns = ['male', 'female'],\n",
      "                         index = index_)\n",
      "    normed_ = frame.div(frame.sum(axis=1), axis=0)\n",
      "    \n",
      "    #grouped = app_info['name'].groupby(['male', 'female'])\n",
      "    #app_info[app_info['id'] == app\n",
      "    return frame, normed_"
     ],
     "language": "python",
     "metadata": {},
     "outputs": [],
     "prompt_number": 9
    },
    {
     "cell_type": "code",
     "collapsed": false,
     "input": [
      "apps.keys()"
     ],
     "language": "python",
     "metadata": {},
     "outputs": [
      {
       "metadata": {},
       "output_type": "pyout",
       "prompt_number": 10,
       "text": [
        "Index([id, date, create_date, update_date, genre, cate, score, name, price, developer, intro, size, ver, company, code, app_cate, company_id, download_num, rate_num_all], dtype=object)"
       ]
      }
     ],
     "prompt_number": 10
    },
    {
     "cell_type": "code",
     "collapsed": false,
     "input": [
      "ff, n_ff = graph_gender_rate(uapp[:10]['entity_id'])\n",
      "ff[:]"
     ],
     "language": "python",
     "metadata": {},
     "outputs": [],
     "prompt_number": "*"
    },
    {
     "cell_type": "code",
     "collapsed": false,
     "input": [
      "#%pylab inline\n",
      "import pylab as pl\n",
      "import matplotlib\n",
      "import matplotlib.pyplot as plt\n",
      "import pandas as pd\n",
      "import pandas.tools.plotting\n",
      "from IPython.core.display import Image\n",
      " \n",
      "matplotlib.rc('font', family='NanumGothicCoding')\n",
      " \n",
      "def _stringify(x):\n",
      "    if isinstance(x, tuple):\n",
      "        return '|'.join(str(y) for y in x)\n",
      "    else:\n",
      "        return unicode(x)\n",
      "pandas.tools.plotting._stringify = _stringify # hack\n"
     ],
     "language": "python",
     "metadata": {},
     "outputs": [],
     "prompt_number": 23
    },
    {
     "cell_type": "code",
     "collapsed": false,
     "input": [
      "#ff.plot(kind='barh', alpha=0.5)\n",
      "#plt.savefig('each_app_count.png', dpi=100, bbox_inches='tight')\n",
      "#Image('each_app_count.png',width=600,height=150)\n",
      "#plt.figure()\n",
      "n_ff.plot(kind='barh', stacked=True, title=''.join(u'\uc571\ubcc4 \uc131\ubcc4\ube44'))\n",
      "plt.show()"
     ],
     "language": "python",
     "metadata": {},
     "outputs": [],
     "prompt_number": "*"
    },
    {
     "cell_type": "markdown",
     "metadata": {},
     "source": [
      "#####df_temp.loc[1]['age'] = 20.0"
     ]
    },
    {
     "cell_type": "markdown",
     "metadata": {},
     "source": [
      "##10\ub300, 20\ub300, 30\ub300, ... \ubd84\ub958"
     ]
    },
    {
     "cell_type": "code",
     "collapsed": false,
     "input": [
      "for i, age in enumerate(df_temp.ix[:,'age']):\n",
      "    df_temp.loc[i]['age'] = int(age /10) * 10"
     ],
     "language": "python",
     "metadata": {},
     "outputs": [],
     "prompt_number": 15
    },
    {
     "cell_type": "code",
     "collapsed": false,
     "input": [
      "np.unique(df_temp['age'])"
     ],
     "language": "python",
     "metadata": {},
     "outputs": [
      {
       "ename": "NameError",
       "evalue": "name 'np' is not defined",
       "output_type": "pyerr",
       "traceback": [
        "\u001b[0;31m---------------------------------------------------------------------------\u001b[0m\n\u001b[0;31mNameError\u001b[0m                                 Traceback (most recent call last)",
        "\u001b[0;32m<ipython-input-16-d313c38202a0>\u001b[0m in \u001b[0;36m<module>\u001b[0;34m()\u001b[0m\n\u001b[0;32m----> 1\u001b[0;31m \u001b[0mnp\u001b[0m\u001b[0;34m.\u001b[0m\u001b[0munique\u001b[0m\u001b[0;34m(\u001b[0m\u001b[0mdf_temp\u001b[0m\u001b[0;34m[\u001b[0m\u001b[0;34m'age'\u001b[0m\u001b[0;34m]\u001b[0m\u001b[0;34m)\u001b[0m\u001b[0;34m\u001b[0m\u001b[0m\n\u001b[0m",
        "\u001b[0;31mNameError\u001b[0m: name 'np' is not defined"
       ]
      }
     ],
     "prompt_number": 16
    },
    {
     "cell_type": "code",
     "collapsed": false,
     "input": [
      "uapp.keys()"
     ],
     "language": "python",
     "metadata": {},
     "outputs": []
    },
    {
     "cell_type": "code",
     "collapsed": false,
     "input": [
      "def get_count_ages(app):\n",
      "    #uapp = pickle.load(file('desktop/data/app_info2.df'))\n",
      "\n",
      "    ages = [0.0, 0.0, 0.0, 0.0, 0.0, 0.0]\n",
      "    users = uapp[uapp['entity_id']==app].user_id\n",
      "    #print users\n",
      "    #if(users.count>=2000):\n",
      "    #    users = users[:2000]\n",
      "    #df_temp['user']\n",
      "    for user in users:\n",
      "        age = df_temp[df_temp['user']==user]['age']\n",
      "        print user\n",
      "        if age:\n",
      "            if age == 10:\n",
      "                ages[0] += 1\n",
      "            elif age == 20:\n",
      "                ages[1] += 1\n",
      "            elif age == 30:\n",
      "                ages[2] += 1\n",
      "            elif age == 40:\n",
      "                ages[3] += 1\n",
      "            elif age == 50:\n",
      "                ages[4] += 1\n",
      "            elif age == 60:\n",
      "                ages[5] += 1\n",
      "            else:\n",
      "                print \"Over age : \", age\n",
      "            print age\n",
      "        else:\n",
      "            print \"user info _ NAN\"\n",
      "            \n",
      "    return ages"
     ],
     "language": "python",
     "metadata": {},
     "outputs": []
    },
    {
     "cell_type": "code",
     "collapsed": false,
     "input": [
      "uapps = uapp[:3]['entity_id']\n",
      "uapps"
     ],
     "language": "python",
     "metadata": {},
     "outputs": [
      {
       "metadata": {},
       "output_type": "pyout",
       "prompt_number": 43,
       "text": [
        "0    1612462\n",
        "1    1651419\n",
        "2    1522396\n",
        "Name: entity_id, dtype: int64"
       ]
      }
     ],
     "prompt_number": 43
    },
    {
     "cell_type": "code",
     "collapsed": false,
     "input": [
      "ages = []"
     ],
     "language": "python",
     "metadata": {},
     "outputs": [],
     "prompt_number": 44
    },
    {
     "cell_type": "code",
     "collapsed": false,
     "input": [
      "uapp.keys()"
     ],
     "language": "python",
     "metadata": {},
     "outputs": [
      {
       "metadata": {},
       "output_type": "pyout",
       "prompt_number": 45,
       "text": [
        "Index([create_date, update_date, user_id, entity_id, usage, is_deleted], dtype=object)"
       ]
      }
     ],
     "prompt_number": 45
    },
    {
     "cell_type": "code",
     "collapsed": false,
     "input": [
      "uapp[uapp['entity_id'] ==1750925].name"
     ],
     "language": "python",
     "metadata": {},
     "outputs": [
      {
       "ename": "AttributeError",
       "evalue": "'DataFrame' object has no attribute 'name'",
       "output_type": "pyerr",
       "traceback": [
        "\u001b[0;31m---------------------------------------------------------------------------\u001b[0m\n\u001b[0;31mAttributeError\u001b[0m                            Traceback (most recent call last)",
        "\u001b[0;32m<ipython-input-46-18fdcc958d5c>\u001b[0m in \u001b[0;36m<module>\u001b[0;34m()\u001b[0m\n\u001b[0;32m----> 1\u001b[0;31m \u001b[0muapp\u001b[0m\u001b[0;34m[\u001b[0m\u001b[0muapp\u001b[0m\u001b[0;34m[\u001b[0m\u001b[0;34m'entity_id'\u001b[0m\u001b[0;34m]\u001b[0m \u001b[0;34m==\u001b[0m\u001b[0;36m1750925\u001b[0m\u001b[0;34m]\u001b[0m\u001b[0;34m.\u001b[0m\u001b[0mname\u001b[0m\u001b[0;34m\u001b[0m\u001b[0m\n\u001b[0m",
        "\u001b[0;32m/Users/jeongmingi/anaconda/lib/python2.7/site-packages/pandas/core/frame.pyc\u001b[0m in \u001b[0;36m__getattr__\u001b[0;34m(self, name)\u001b[0m\n\u001b[1;32m   2005\u001b[0m             \u001b[0;32mreturn\u001b[0m \u001b[0mself\u001b[0m\u001b[0;34m[\u001b[0m\u001b[0mname\u001b[0m\u001b[0;34m]\u001b[0m\u001b[0;34m\u001b[0m\u001b[0m\n\u001b[1;32m   2006\u001b[0m         raise AttributeError(\"'%s' object has no attribute '%s'\" %\n\u001b[0;32m-> 2007\u001b[0;31m                              (type(self).__name__, name))\n\u001b[0m\u001b[1;32m   2008\u001b[0m \u001b[0;34m\u001b[0m\u001b[0m\n\u001b[1;32m   2009\u001b[0m     \u001b[0;32mdef\u001b[0m \u001b[0m__setattr__\u001b[0m\u001b[0;34m(\u001b[0m\u001b[0mself\u001b[0m\u001b[0;34m,\u001b[0m \u001b[0mname\u001b[0m\u001b[0;34m,\u001b[0m \u001b[0mvalue\u001b[0m\u001b[0;34m)\u001b[0m\u001b[0;34m:\u001b[0m\u001b[0;34m\u001b[0m\u001b[0m\n",
        "\u001b[0;31mAttributeError\u001b[0m: 'DataFrame' object has no attribute 'name'"
       ]
      }
     ],
     "prompt_number": 46
    },
    {
     "cell_type": "code",
     "collapsed": false,
     "input": [
      "for i in uapps[:3]:\n",
      "    ages.append(get_count_ages(i))\n",
      "    print ages"
     ],
     "language": "python",
     "metadata": {},
     "outputs": [
      {
       "ename": "NameError",
       "evalue": "name 'uapps' is not defined",
       "output_type": "pyerr",
       "traceback": [
        "\u001b[0;31m---------------------------------------------------------------------------\u001b[0m\n\u001b[0;31mNameError\u001b[0m                                 Traceback (most recent call last)",
        "\u001b[0;32m<ipython-input-42-aa82254eb910>\u001b[0m in \u001b[0;36m<module>\u001b[0;34m()\u001b[0m\n\u001b[0;32m----> 1\u001b[0;31m \u001b[0;32mfor\u001b[0m \u001b[0mi\u001b[0m \u001b[0;32min\u001b[0m \u001b[0muapps\u001b[0m\u001b[0;34m[\u001b[0m\u001b[0;34m:\u001b[0m\u001b[0;36m3\u001b[0m\u001b[0;34m]\u001b[0m\u001b[0;34m:\u001b[0m\u001b[0;34m\u001b[0m\u001b[0m\n\u001b[0m\u001b[1;32m      2\u001b[0m     \u001b[0mages\u001b[0m\u001b[0;34m.\u001b[0m\u001b[0mappend\u001b[0m\u001b[0;34m(\u001b[0m\u001b[0mget_count_ages\u001b[0m\u001b[0;34m(\u001b[0m\u001b[0mi\u001b[0m\u001b[0;34m)\u001b[0m\u001b[0;34m)\u001b[0m\u001b[0;34m\u001b[0m\u001b[0m\n\u001b[1;32m      3\u001b[0m     \u001b[0;32mprint\u001b[0m \u001b[0mages\u001b[0m\u001b[0;34m\u001b[0m\u001b[0m\n",
        "\u001b[0;31mNameError\u001b[0m: name 'uapps' is not defined"
       ]
      }
     ],
     "prompt_number": 42
    },
    {
     "cell_type": "code",
     "collapsed": false,
     "input": [
      "ages"
     ],
     "language": "python",
     "metadata": {},
     "outputs": [
      {
       "ename": "NameError",
       "evalue": "name 'ages' is not defined",
       "output_type": "pyerr",
       "traceback": [
        "\u001b[0;31m---------------------------------------------------------------------------\u001b[0m\n\u001b[0;31mNameError\u001b[0m                                 Traceback (most recent call last)",
        "\u001b[0;32m<ipython-input-22-533b9d95fc54>\u001b[0m in \u001b[0;36m<module>\u001b[0;34m()\u001b[0m\n\u001b[0;32m----> 1\u001b[0;31m \u001b[0mages\u001b[0m\u001b[0;34m\u001b[0m\u001b[0m\n\u001b[0m",
        "\u001b[0;31mNameError\u001b[0m: name 'ages' is not defined"
       ]
      }
     ],
     "prompt_number": 22
    },
    {
     "cell_type": "code",
     "collapsed": false,
     "input": [
      "ages2 = [30.0, 45.0, 20.0, 7.0, 10.0, 1]\n"
     ],
     "language": "python",
     "metadata": {},
     "outputs": [],
     "prompt_number": 247
    },
    {
     "cell_type": "code",
     "collapsed": false,
     "input": [
      "%pylab inline\n",
      "import matplotlib.pyplot as plt"
     ],
     "language": "python",
     "metadata": {},
     "outputs": [
      {
       "output_type": "stream",
       "stream": "stdout",
       "text": [
        "Populating the interactive namespace from numpy and matplotlib\n"
       ]
      },
      {
       "output_type": "stream",
       "stream": "stderr",
       "text": [
        "WARNING: pylab import has clobbered these variables: ['colors']\n",
        "`%pylab --no-import-all` prevents importing * from pylab and numpy\n"
       ]
      }
     ],
     "prompt_number": 289
    },
    {
     "cell_type": "markdown",
     "metadata": {},
     "source": [
      "('b', 'g', 'r', 'c', 'm', 'y', 'k', 'w')"
     ]
    },
    {
     "cell_type": "code",
     "collapsed": false,
     "input": [
      "import numpy as np\n",
      "ages = ages[0]\n",
      "ages = ages / np.sum(ages) * 100\n",
      "np_ages = np.array(ages)\n",
      "sort_ages = np_ages.argsort()"
     ],
     "language": "python",
     "metadata": {},
     "outputs": [],
     "prompt_number": 290
    },
    {
     "cell_type": "code",
     "collapsed": false,
     "input": [
      "explode = [0.05, 0.05, 0.05, 0.05, 0.05, 0.05] \n",
      "explode[sort_ages[-1]] = 0.2\n",
      "explode[sort_ages[-2]] = 0.15"
     ],
     "language": "python",
     "metadata": {},
     "outputs": [],
     "prompt_number": 299
    },
    {
     "cell_type": "code",
     "collapsed": false,
     "input": [
      "colors = np.array([x for x in 'bgrcmy'])\n",
      "labels = ['10s', '20s', '30s', '40s', '50s', '60s']\n",
      "sizes = ages"
     ],
     "language": "python",
     "metadata": {},
     "outputs": [],
     "prompt_number": 300
    },
    {
     "cell_type": "code",
     "collapsed": false,
     "input": [
      "plt.pie(sizes, explode=explode, labels=labels, colors=colors,\n",
      "        autopct='%1.1f%%', shadow=True, startangle=90)\n",
      "# Set aspect ratio to be equal so that pie is drawn as a circle.\n",
      "#plt.axis('equal')\n",
      "\n",
      "plt.savefig('each_app_ages.png', dpi=100)\n",
      "Image('each_app_ages.png',width=600,height=150)\n",
      "plt.show()\n"
     ],
     "language": "python",
     "metadata": {},
     "outputs": [
      {
       "ename": "NameError",
       "evalue": "name 'sizes' is not defined",
       "output_type": "pyerr",
       "traceback": [
        "\u001b[0;31m---------------------------------------------------------------------------\u001b[0m\n\u001b[0;31mNameError\u001b[0m                                 Traceback (most recent call last)",
        "\u001b[0;32m<ipython-input-14-ca045599307b>\u001b[0m in \u001b[0;36m<module>\u001b[0;34m()\u001b[0m\n\u001b[0;32m----> 1\u001b[0;31m plt.pie(sizes, explode=explode, labels=labels, colors=colors,\n\u001b[0m\u001b[1;32m      2\u001b[0m         autopct='%1.1f%%', shadow=True, startangle=90)\n\u001b[1;32m      3\u001b[0m \u001b[0;31m# Set aspect ratio to be equal so that pie is drawn as a circle.\u001b[0m\u001b[0;34m\u001b[0m\u001b[0;34m\u001b[0m\u001b[0m\n\u001b[1;32m      4\u001b[0m \u001b[0mplt\u001b[0m\u001b[0;34m.\u001b[0m\u001b[0maxis\u001b[0m\u001b[0;34m(\u001b[0m\u001b[0;34m'equal'\u001b[0m\u001b[0;34m)\u001b[0m\u001b[0;34m\u001b[0m\u001b[0m\n\u001b[1;32m      5\u001b[0m \u001b[0;34m\u001b[0m\u001b[0m\n",
        "\u001b[0;31mNameError\u001b[0m: name 'sizes' is not defined"
       ]
      }
     ],
     "prompt_number": 14
    },
    {
     "cell_type": "code",
     "collapsed": false,
     "input": [],
     "language": "python",
     "metadata": {},
     "outputs": [],
     "prompt_number": 199
    },
    {
     "cell_type": "code",
     "collapsed": false,
     "input": [],
     "language": "python",
     "metadata": {},
     "outputs": []
    }
   ],
   "metadata": {}
  }
 ]
}