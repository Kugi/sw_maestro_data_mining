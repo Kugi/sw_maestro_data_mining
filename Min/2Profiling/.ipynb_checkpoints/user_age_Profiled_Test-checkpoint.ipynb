{
 "metadata": {
  "name": ""
 },
 "nbformat": 3,
 "nbformat_minor": 0,
 "worksheets": [
  {
   "cells": [
    {
     "cell_type": "code",
     "collapsed": false,
     "input": [
      "cd"
     ],
     "language": "python",
     "metadata": {},
     "outputs": [
      {
       "output_type": "stream",
       "stream": "stdout",
       "text": [
        "/Users/jeongmingi\n"
       ]
      }
     ],
     "prompt_number": 1
    },
    {
     "cell_type": "code",
     "collapsed": false,
     "input": [
      "from sklearn.externals import joblib\n",
      "filename = \"sw_maestro_data_mining/utils/age_my_model_80\"\n",
      "clf = joblib.load(filename)"
     ],
     "language": "python",
     "metadata": {},
     "outputs": [],
     "prompt_number": 16
    },
    {
     "cell_type": "code",
     "collapsed": false,
     "input": [
      "import pickle\n",
      "uapp = pickle.load(file('desktop/data/user_app.df'))"
     ],
     "language": "python",
     "metadata": {},
     "outputs": [],
     "prompt_number": 3
    },
    {
     "cell_type": "code",
     "collapsed": false,
     "input": [
      "import numpy as np"
     ],
     "language": "python",
     "metadata": {},
     "outputs": [],
     "prompt_number": 4
    },
    {
     "cell_type": "code",
     "collapsed": false,
     "input": [
      "EF_table = pickle.load(file('desktop/dataMining/pickles/entityid_featureid.pkl'))\n"
     ],
     "language": "python",
     "metadata": {},
     "outputs": [],
     "prompt_number": 8
    },
    {
     "cell_type": "code",
     "collapsed": false,
     "input": [
      "def what_ages(i):\n",
      "    user_ = uapp_.ix[(uapp_['user_id'] == i)]\n",
      "    #user_ = uapp_[uapp_.apply(lambda x: x['user_id'] == i, axis=1)]\n",
      "    ########## pickle 'entityid_featureid' uesed for translating...##########\n",
      "    #####\n",
      "    X_test = (0 , list(user_.entity_id))\n",
      "    temp = []\n",
      "    for ii in X_test[1]:\n",
      "       c_i = str(ii)\n",
      "       if(EF_table.has_key(c_i) == True):\n",
      "           temp.append(EF_table[c_i])\n",
      "       else:\n",
      "            pass\n",
      "           #print(i ,False)\n",
      "    ##########################################################################\n",
      "    ########## vectorization... It will have 52,600 features and not have \n",
      "    ########## weight... \u314e\u314e\u314e \n",
      "    ########## \uadf8\ub7ec\ub098 0~1\uc758 \uac00\uc911\uce58\ub97c \uc904 \uc218 \uc788\uc9c0 \uc548\uc744\uae4c?\n",
      "\n",
      "    n_features = 49683 ##!!!!!!\n",
      "    temp2 = np.zeros(n_features, dtype = np.float64)\n",
      "    for ii in range(n_features):\n",
      "        if((ii+1) in temp):\n",
      "            temp2[ii] = temp2[ii] + 1\n",
      "        else:\n",
      "            temp2[ii] = 0\n",
      "    X_test = np.array([temp2])\n",
      "    ages = clf.predict(X_test)\n",
      "    #print int(gender)\n",
      "    #X_test = np.array([0, temp])\n",
      "    return i, int(ages)\n"
     ],
     "language": "python",
     "metadata": {},
     "outputs": [],
     "prompt_number": 26
    },
    {
     "cell_type": "code",
     "collapsed": false,
     "input": [
      "##########################################################################\n",
      "####### but, uapp\uc73c\ub85c\ubd80\ud130 uapp_\uc5d0 user_id\ub97c \ucd94\uac00\ud558\ub294 \uac83 \uc678\uc5d0....\n",
      "####### from Profiled_, gender\ub97c \uba3c\uc800 \uc218\ud589\ud55c\ub2e4\uace0 \uac00\uc815\ud558\uba74 uapp\uc774\uc544\ub2cc 'profied_gender'\uc640 \uac19\uc740\n",
      "####### gender\uac00 \uacb0\uc815\ub41c \uc815\ubcf4\uc5d0 \uc5f0\ub839\ub300(ages)\ub97c \ucd94\uac00\ud560 \uac83\uc774\ub2e4.\n",
      "\n",
      "uapp_ = uapp[['user_id', 'entity_id']]\n",
      "user_id_ = uapp_['user_id'].unique()\n"
     ],
     "language": "python",
     "metadata": {},
     "outputs": [],
     "prompt_number": 10
    },
    {
     "cell_type": "code",
     "collapsed": false,
     "input": [
      "user = []\n",
      "ages = []\n",
      "user_id__ = user_id_[:5]\n",
      "for i in user_id__:\n",
      "    temp1, temp2 = what_ages(i)\n",
      "    user.append(temp1)\n",
      "    ages.append(temp2)\n",
      "    "
     ],
     "language": "python",
     "metadata": {},
     "outputs": [],
     "prompt_number": 11
    },
    {
     "cell_type": "code",
     "collapsed": false,
     "input": [
      "uapp[\"ages\"] = 0"
     ],
     "language": "python",
     "metadata": {},
     "outputs": [],
     "prompt_number": 12
    },
    {
     "cell_type": "code",
     "collapsed": false,
     "input": [
      "for i, uid in enumerate(user_id__):\n",
      "    #print(i, uid)\n",
      "    uapp.ix[ (uapp['user_id'] == uid), 'ages' ] = ages[i]"
     ],
     "language": "python",
     "metadata": {},
     "outputs": [],
     "prompt_number": 13
    },
    {
     "cell_type": "code",
     "collapsed": false,
     "input": [
      "t = uapp[25:35].copy()\n",
      "t.pop('usage')\n",
      "t"
     ],
     "language": "python",
     "metadata": {},
     "outputs": [
      {
       "html": [
        "<div style=\"max-height:1000px;max-width:1500px;overflow:auto;\">\n",
        "<table border=\"1\" class=\"dataframe\">\n",
        "  <thead>\n",
        "    <tr style=\"text-align: right;\">\n",
        "      <th></th>\n",
        "      <th>create_date</th>\n",
        "      <th>update_date</th>\n",
        "      <th>user_id</th>\n",
        "      <th>entity_id</th>\n",
        "      <th>is_deleted</th>\n",
        "      <th>ages</th>\n",
        "    </tr>\n",
        "  </thead>\n",
        "  <tbody>\n",
        "    <tr>\n",
        "      <th>25</th>\n",
        "      <td> 20130317015228</td>\n",
        "      <td> 20130730090416</td>\n",
        "      <td> 3023116</td>\n",
        "      <td> 1599923</td>\n",
        "      <td> True</td>\n",
        "      <td> 4</td>\n",
        "    </tr>\n",
        "    <tr>\n",
        "      <th>26</th>\n",
        "      <td> 20130222103311</td>\n",
        "      <td> 20130728184307</td>\n",
        "      <td> 3246192</td>\n",
        "      <td> 1693135</td>\n",
        "      <td> True</td>\n",
        "      <td> 1</td>\n",
        "    </tr>\n",
        "    <tr>\n",
        "      <th>27</th>\n",
        "      <td> 20130310141222</td>\n",
        "      <td> 20130729230224</td>\n",
        "      <td> 1758743</td>\n",
        "      <td> 1793010</td>\n",
        "      <td> True</td>\n",
        "      <td> 2</td>\n",
        "    </tr>\n",
        "    <tr>\n",
        "      <th>28</th>\n",
        "      <td> 20130317015228</td>\n",
        "      <td> 20130730090416</td>\n",
        "      <td> 3023116</td>\n",
        "      <td> 1541687</td>\n",
        "      <td> True</td>\n",
        "      <td> 4</td>\n",
        "    </tr>\n",
        "    <tr>\n",
        "      <th>29</th>\n",
        "      <td> 20130412063020</td>\n",
        "      <td> 20130730090416</td>\n",
        "      <td> 3023116</td>\n",
        "      <td> 1777213</td>\n",
        "      <td> True</td>\n",
        "      <td> 4</td>\n",
        "    </tr>\n",
        "    <tr>\n",
        "      <th>30</th>\n",
        "      <td> 20130607151638</td>\n",
        "      <td> 20130728193812</td>\n",
        "      <td> 2115990</td>\n",
        "      <td> 1854907</td>\n",
        "      <td> True</td>\n",
        "      <td> 1</td>\n",
        "    </tr>\n",
        "    <tr>\n",
        "      <th>31</th>\n",
        "      <td> 20130331040556</td>\n",
        "      <td> 20130731075255</td>\n",
        "      <td> 4305863</td>\n",
        "      <td> 1612457</td>\n",
        "      <td> True</td>\n",
        "      <td> 1</td>\n",
        "    </tr>\n",
        "    <tr>\n",
        "      <th>32</th>\n",
        "      <td> 20130625120908</td>\n",
        "      <td> 20130729230224</td>\n",
        "      <td> 1758743</td>\n",
        "      <td> 1864689</td>\n",
        "      <td> True</td>\n",
        "      <td> 2</td>\n",
        "    </tr>\n",
        "    <tr>\n",
        "      <th>33</th>\n",
        "      <td> 20130604154438</td>\n",
        "      <td> 20130730054858</td>\n",
        "      <td> 3611801</td>\n",
        "      <td> 1841672</td>\n",
        "      <td> True</td>\n",
        "      <td> 1</td>\n",
        "    </tr>\n",
        "    <tr>\n",
        "      <th>34</th>\n",
        "      <td> 20130317015228</td>\n",
        "      <td> 20130730090416</td>\n",
        "      <td> 3023116</td>\n",
        "      <td> 1779808</td>\n",
        "      <td> True</td>\n",
        "      <td> 4</td>\n",
        "    </tr>\n",
        "  </tbody>\n",
        "</table>\n",
        "</div>"
       ],
       "output_type": "pyout",
       "prompt_number": 49,
       "text": [
        "       create_date     update_date  user_id  entity_id is_deleted  ages\n",
        "25  20130317015228  20130730090416  3023116    1599923       True     4\n",
        "26  20130222103311  20130728184307  3246192    1693135       True     1\n",
        "27  20130310141222  20130729230224  1758743    1793010       True     2\n",
        "28  20130317015228  20130730090416  3023116    1541687       True     4\n",
        "29  20130412063020  20130730090416  3023116    1777213       True     4\n",
        "30  20130607151638  20130728193812  2115990    1854907       True     1\n",
        "31  20130331040556  20130731075255  4305863    1612457       True     1\n",
        "32  20130625120908  20130729230224  1758743    1864689       True     2\n",
        "33  20130604154438  20130730054858  3611801    1841672       True     1\n",
        "34  20130317015228  20130730090416  3023116    1779808       True     4"
       ]
      }
     ],
     "prompt_number": 49
    },
    {
     "cell_type": "code",
     "collapsed": false,
     "input": [
      "####################################################################################\n",
      "####################################################################################\n",
      "############################ easy shearch user_id, gender, ages... #################"
     ],
     "language": "python",
     "metadata": {},
     "outputs": []
    },
    {
     "cell_type": "code",
     "collapsed": false,
     "input": [
      "ls"
     ],
     "language": "python",
     "metadata": {},
     "outputs": [
      {
       "output_type": "stream",
       "stream": "stdout",
       "text": [
        "558691_589646044379538_942129678_n-1.jpg\r\n",
        "\u001b[34mDataMining\u001b[m\u001b[m/\r\n",
        "\u001b[30m\u001b[43mDataMining2\u001b[m\u001b[m/\r\n",
        "\u001b[30m\u001b[43mNPKI\u001b[m\u001b[m/\r\n",
        "Untitled0.ipynb\r\n",
        "Untitled1.ipynb\r\n",
        "Untitled2.ipynb\r\n",
        "Untitled3.ipynb\r\n",
        "adme_analysis_temp.ipynb\r\n",
        "age_my_model_70.pkl\r\n",
        "document_classification.ipynb\r\n",
        "entityid_featureid.pkl\r\n",
        "my_model.pkl\r\n",
        "my_model10000.pkl\r\n",
        "new_clustering.ipynb\r\n",
        "predicted_user_apps.ipynb\r\n",
        "profiled_user_gender.pkl\r\n",
        "user_app_predicted.df\r\n",
        "user_gender 2.txt\r\n",
        "user_gender 3.txt\r\n",
        "user_gender 4.txt\r\n",
        "user_gender 5.txt\r\n",
        "user_gender.txt\r\n",
        "user_gender7_pred\r\n"
       ]
      }
     ],
     "prompt_number": 41
    },
    {
     "cell_type": "code",
     "collapsed": false,
     "input": [
      "import pickle\n",
      "users= pickle.load(file('sw_maestro_data_mining/utils/profiled_gender.pkl'))"
     ],
     "language": "python",
     "metadata": {},
     "outputs": [],
     "prompt_number": 17
    },
    {
     "cell_type": "code",
     "collapsed": false,
     "input": [
      "users[\"ages\"] = 0"
     ],
     "language": "python",
     "metadata": {},
     "outputs": [],
     "prompt_number": 18
    },
    {
     "cell_type": "code",
     "collapsed": false,
     "input": [
      "##### SUMMARY OF DATAFRAME #####"
     ],
     "language": "python",
     "metadata": {},
     "outputs": []
    },
    {
     "cell_type": "code",
     "collapsed": false,
     "input": [
      "for i, uid in enumerate(users['user'][:30]):\n",
      "    #print(i, uid)\n",
      "    temp, age = what_ages(uid)\n",
      "    users.ix[ (users['user'] == uid), 'ages' ] = age\n",
      "    print temp, age"
     ],
     "language": "python",
     "metadata": {},
     "outputs": [
      {
       "output_type": "stream",
       "stream": "stdout",
       "text": [
        "2007318 1\n",
        "5188098"
       ]
      },
      {
       "output_type": "stream",
       "stream": "stdout",
       "text": [
        " 1\n",
        "5207032"
       ]
      },
      {
       "output_type": "stream",
       "stream": "stdout",
       "text": [
        " 1\n",
        "5183947"
       ]
      },
      {
       "output_type": "stream",
       "stream": "stdout",
       "text": [
        " 1\n",
        "1758743"
       ]
      },
      {
       "output_type": "stream",
       "stream": "stdout",
       "text": [
        " 1\n",
        "5062327"
       ]
      },
      {
       "output_type": "stream",
       "stream": "stdout",
       "text": [
        " 1\n",
        "3046239"
       ]
      },
      {
       "output_type": "stream",
       "stream": "stdout",
       "text": [
        " 1\n",
        "2382088"
       ]
      },
      {
       "output_type": "stream",
       "stream": "stdout",
       "text": [
        " 1\n",
        "1138375"
       ]
      },
      {
       "output_type": "stream",
       "stream": "stdout",
       "text": [
        " 1\n",
        "3246192"
       ]
      },
      {
       "output_type": "stream",
       "stream": "stdout",
       "text": [
        " 1\n",
        "2115990"
       ]
      },
      {
       "output_type": "stream",
       "stream": "stdout",
       "text": [
        " 1\n",
        "2485217"
       ]
      },
      {
       "output_type": "stream",
       "stream": "stdout",
       "text": [
        " 1\n",
        "3023116"
       ]
      },
      {
       "output_type": "stream",
       "stream": "stdout",
       "text": [
        " 1\n",
        "4305863"
       ]
      },
      {
       "output_type": "stream",
       "stream": "stdout",
       "text": [
        " 1\n",
        "3611801"
       ]
      },
      {
       "output_type": "stream",
       "stream": "stdout",
       "text": [
        " 1\n",
        "4828587"
       ]
      },
      {
       "output_type": "stream",
       "stream": "stdout",
       "text": [
        " 1\n",
        "2086263"
       ]
      },
      {
       "output_type": "stream",
       "stream": "stdout",
       "text": [
        " 1\n",
        "4851916"
       ]
      },
      {
       "output_type": "stream",
       "stream": "stdout",
       "text": [
        " 1\n",
        "5100778"
       ]
      },
      {
       "output_type": "stream",
       "stream": "stdout",
       "text": [
        " 1\n",
        "2686098"
       ]
      },
      {
       "output_type": "stream",
       "stream": "stdout",
       "text": [
        " 1\n",
        "5041223"
       ]
      },
      {
       "output_type": "stream",
       "stream": "stdout",
       "text": [
        " 1\n",
        "2140095"
       ]
      },
      {
       "output_type": "stream",
       "stream": "stdout",
       "text": [
        " 1\n",
        "1277569"
       ]
      },
      {
       "output_type": "stream",
       "stream": "stdout",
       "text": [
        " 1\n",
        "2658120"
       ]
      },
      {
       "output_type": "stream",
       "stream": "stdout",
       "text": [
        " 1\n",
        "3429016"
       ]
      },
      {
       "output_type": "stream",
       "stream": "stdout",
       "text": [
        " 1\n",
        "1513736"
       ]
      },
      {
       "output_type": "stream",
       "stream": "stdout",
       "text": [
        " 1\n",
        "4005099"
       ]
      },
      {
       "output_type": "stream",
       "stream": "stdout",
       "text": [
        " 1\n",
        "3675388"
       ]
      },
      {
       "output_type": "stream",
       "stream": "stdout",
       "text": [
        " 1\n",
        "1647016"
       ]
      },
      {
       "output_type": "stream",
       "stream": "stdout",
       "text": [
        " 1\n",
        "1296530"
       ]
      },
      {
       "output_type": "stream",
       "stream": "stdout",
       "text": [
        " 1\n"
       ]
      }
     ],
     "prompt_number": 28
    },
    {
     "cell_type": "code",
     "collapsed": false,
     "input": [],
     "language": "python",
     "metadata": {},
     "outputs": []
    },
    {
     "cell_type": "code",
     "collapsed": false,
     "input": [
      "users[10:20]"
     ],
     "language": "python",
     "metadata": {},
     "outputs": [
      {
       "ename": "NameError",
       "evalue": "name 'users' is not defined",
       "output_type": "pyerr",
       "traceback": [
        "\u001b[0;31m---------------------------------------------------------------------------\u001b[0m\n\u001b[0;31mNameError\u001b[0m                                 Traceback (most recent call last)",
        "\u001b[0;32m<ipython-input-31-c99f45d6ab4d>\u001b[0m in \u001b[0;36m<module>\u001b[0;34m()\u001b[0m\n\u001b[0;32m----> 1\u001b[0;31m \u001b[0musers\u001b[0m\u001b[0;34m[\u001b[0m\u001b[0;36m10\u001b[0m\u001b[0;34m:\u001b[0m\u001b[0;36m20\u001b[0m\u001b[0;34m]\u001b[0m\u001b[0;34m\u001b[0m\u001b[0m\n\u001b[0m",
        "\u001b[0;31mNameError\u001b[0m: name 'users' is not defined"
       ]
      }
     ],
     "prompt_number": 31
    },
    {
     "cell_type": "code",
     "collapsed": false,
     "input": [
      "import pickle\n",
      "filename=\"profiled_gender_ages.pkl\"\n",
      "fout = file(filename,\"w\")\n",
      "pickle.dump(users,fout)"
     ],
     "language": "python",
     "metadata": {},
     "outputs": [],
     "prompt_number": 74
    },
    {
     "cell_type": "code",
     "collapsed": false,
     "input": [],
     "language": "python",
     "metadata": {},
     "outputs": []
    }
   ],
   "metadata": {}
  }
 ]
}