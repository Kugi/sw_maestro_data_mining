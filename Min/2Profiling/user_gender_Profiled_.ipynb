{
 "metadata": {
  "name": ""
 },
 "nbformat": 3,
 "nbformat_minor": 0,
 "worksheets": [
  {
   "cells": [
    {
     "cell_type": "code",
     "collapsed": false,
     "input": [
      "cd"
     ],
     "language": "python",
     "metadata": {},
     "outputs": [
      {
       "output_type": "stream",
       "stream": "stdout",
       "text": [
        "/Users/jeongmingi\n"
       ]
      }
     ],
     "prompt_number": 13
    },
    {
     "cell_type": "code",
     "collapsed": false,
     "input": [
      "import pickle\n",
      "EF_table = pickle.load(file('Desktop/DataMining/pickles/entityid_featureid.pkl'))"
     ],
     "language": "python",
     "metadata": {},
     "outputs": [],
     "prompt_number": 14
    },
    {
     "cell_type": "markdown",
     "metadata": {},
     "source": [
      "Model Testing~"
     ]
    },
    {
     "cell_type": "code",
     "collapsed": false,
     "input": [
      "from sklearn.externals import joblib\n",
      "filename = \"Desktop/DataMining/pickles/my_model.pkl 10000\"\n",
      "clf = joblib.load(filename)"
     ],
     "language": "python",
     "metadata": {},
     "outputs": [],
     "prompt_number": 15
    },
    {
     "cell_type": "code",
     "collapsed": false,
     "input": [
      "uapp = pickle.load(file('Desktop/data/user_app.df'))"
     ],
     "language": "python",
     "metadata": {},
     "outputs": [],
     "prompt_number": 16
    },
    {
     "cell_type": "code",
     "collapsed": false,
     "input": [
      "type(uapp)"
     ],
     "language": "python",
     "metadata": {},
     "outputs": [
      {
       "metadata": {},
       "output_type": "pyout",
       "prompt_number": 17,
       "text": [
        "pandas.core.frame.DataFrame"
       ]
      }
     ],
     "prompt_number": 17
    },
    {
     "cell_type": "code",
     "collapsed": false,
     "input": [
      "import numpy as np"
     ],
     "language": "python",
     "metadata": {},
     "outputs": [],
     "prompt_number": 18
    },
    {
     "cell_type": "code",
     "collapsed": false,
     "input": [
      "##too take long times...'''\n",
      "##\n",
      "##\n",
      "#user_id = uapp['user_id'].unique()\n",
      "#user_id_ = user_id[:1]\n",
      "#user_id_\n",
      "#for i in user_id_:\n",
      "#    user = uapp[uapp.apply(lambda x: x['user_id'] == i, axis=1)]\n",
      "    "
     ],
     "language": "python",
     "metadata": {},
     "outputs": [],
     "prompt_number": 19
    },
    {
     "cell_type": "code",
     "collapsed": false,
     "input": [
      "uapp_ = uapp[['user_id', 'entity_id']]\n",
      "user_id_ = uapp_['user_id'].unique()\n",
      "user_id_?"
     ],
     "language": "python",
     "metadata": {},
     "outputs": [],
     "prompt_number": 20
    },
    {
     "cell_type": "code",
     "collapsed": false,
     "input": [
      "def what_gender(i):\n",
      "    user_ = uapp_.ix[(uapp_['user_id'] == i)]\n",
      "    #user_ = uapp_[uapp_.apply(lambda x: x['user_id'] == i, axis=1)]\n",
      "    ########## pickle 'entityid_featureid' uesed for translating...##########\n",
      "    #####\n",
      "    X_test = (0 , list(user_.entity_id))\n",
      "    temp = []\n",
      "    for ii in X_test[1]:\n",
      "       c_i = str(ii)\n",
      "       if(EF_table.has_key(c_i) == True):\n",
      "           temp.append(EF_table[c_i])\n",
      "       else:\n",
      "            pass\n",
      "           #print(i ,False)\n",
      "    ##########################################################################\n",
      "    n_features = 52600\n",
      "    temp2 = np.zeros(n_features, dtype = np.float64)\n",
      "    for ii in range(n_features):\n",
      "        if((ii+1) in temp):\n",
      "            temp2[ii] = temp2[ii] + 1\n",
      "        else:\n",
      "            temp2[ii] = 0\n",
      "    X_test = np.array([temp2])\n",
      "    gender = clf.predict(X_test)\n",
      "    #print int(gender)\n",
      "    #X_test = np.array([0, temp])\n",
      "    return i, int(gender)\n"
     ],
     "language": "python",
     "metadata": {},
     "outputs": [],
     "prompt_number": 21
    },
    {
     "cell_type": "code",
     "collapsed": false,
     "input": [
      "user = []\n",
      "gender = []"
     ],
     "language": "python",
     "metadata": {},
     "outputs": [],
     "prompt_number": 22
    },
    {
     "cell_type": "code",
     "collapsed": false,
     "input": [
      "#####"
     ],
     "language": "python",
     "metadata": {},
     "outputs": [],
     "prompt_number": 23
    },
    {
     "cell_type": "code",
     "collapsed": false,
     "input": [
      "\n",
      "user_id__ = user_id_[190000:195000]\n",
      "for i in user_id__:\n",
      "    temp1, temp2 = what_gender(i)\n",
      "    user.append(temp1)\n",
      "    gender.append(temp2)\n",
      "    "
     ],
     "language": "python",
     "metadata": {},
     "outputs": [],
     "prompt_number": 24
    },
    {
     "cell_type": "code",
     "collapsed": false,
     "input": [
      "user?\n",
      "#gender?"
     ],
     "language": "python",
     "metadata": {},
     "outputs": [],
     "prompt_number": 25
    },
    {
     "cell_type": "markdown",
     "metadata": {},
     "source": [
      "    ##### \uc911\uac04\uc5d0 user 5000# index\uc5d0\uc11c data\uac00 \ube60\uc838\uc11c \ub2e4\uc2dc \uc0bd\uc785 ######  \n",
      "user.insert(5000, 4790926)"
     ]
    },
    {
     "cell_type": "code",
     "collapsed": false,
     "input": [
      "#entityL = [ 1612462, 1651419 ]\n",
      "#for e in entityL:\n",
      "#    uapp.ix[ (uapp['user_id'] == 2007318) & (uapp['entity_id'] == e), 'usage' ] = 0"
     ],
     "language": "python",
     "metadata": {},
     "outputs": [],
     "prompt_number": 26
    },
    {
     "cell_type": "code",
     "collapsed": false,
     "input": [
      "print (user[90:100], gender[90:100])"
     ],
     "language": "python",
     "metadata": {},
     "outputs": [
      {
       "output_type": "stream",
       "stream": "stdout",
       "text": [
        "([3933088, 1931348, 3957761, 2268087, 5355441, 5094930, 5337241, 4681345, 1411962, 5212209], [2, 2, 2, 2, 2, 2, 2, 2, 2, 1])\n"
       ]
      }
     ],
     "prompt_number": 27
    },
    {
     "cell_type": "code",
     "collapsed": false,
     "input": [
      "#temp = {'gender' : 0}"
     ],
     "language": "python",
     "metadata": {},
     "outputs": []
    },
    {
     "cell_type": "code",
     "collapsed": false,
     "input": [
      "#uapp.ix[ (uapp['user_id'] == 2007318), 'gender' ] = 0"
     ],
     "language": "python",
     "metadata": {},
     "outputs": []
    },
    {
     "cell_type": "code",
     "collapsed": false,
     "input": [
      "uapp[\"gender\"] = 0"
     ],
     "language": "python",
     "metadata": {},
     "outputs": [],
     "prompt_number": 28
    },
    {
     "cell_type": "code",
     "collapsed": false,
     "input": [
      "gender[:10]"
     ],
     "language": "python",
     "metadata": {},
     "outputs": [
      {
       "metadata": {},
       "output_type": "pyout",
       "prompt_number": 29,
       "text": [
        "[2, 2, 2, 2, 2, 2, 2, 2, 2, 2]"
       ]
      }
     ],
     "prompt_number": 29
    },
    {
     "cell_type": "code",
     "collapsed": false,
     "input": [
      "for i, uid in enumerate(user_id__):\n",
      "    #print(i, uid)\n",
      "    uapp.ix[ (uapp['user_id'] == uid), 'gender' ] = gender[i]\n",
      "#uapp[:10]"
     ],
     "language": "python",
     "metadata": {},
     "outputs": [],
     "prompt_number": "*"
    },
    {
     "cell_type": "code",
     "collapsed": false,
     "input": [
      "t = uapp[20:30].copy()\n",
      "t.pop('usage')\n",
      "t"
     ],
     "language": "python",
     "metadata": {},
     "outputs": [],
     "prompt_number": "*"
    },
    {
     "cell_type": "code",
     "collapsed": false,
     "input": [
      "import pandas as pd"
     ],
     "language": "python",
     "metadata": {},
     "outputs": [],
     "prompt_number": "*"
    },
    {
     "cell_type": "code",
     "collapsed": false,
     "input": [
      "data = {'user' : user, \n",
      "        'gender' : gender}\n"
     ],
     "language": "python",
     "metadata": {},
     "outputs": [],
     "prompt_number": "*"
    },
    {
     "cell_type": "code",
     "collapsed": false,
     "input": [
      "userngender = pd.DataFrame(data)"
     ],
     "language": "python",
     "metadata": {},
     "outputs": [],
     "prompt_number": "*"
    },
    {
     "cell_type": "code",
     "collapsed": false,
     "input": [
      "userngender"
     ],
     "language": "python",
     "metadata": {},
     "outputs": [],
     "prompt_number": "*"
    },
    {
     "cell_type": "code",
     "collapsed": false,
     "input": [
      "print userngender[10:20]"
     ],
     "language": "python",
     "metadata": {},
     "outputs": [],
     "prompt_number": "*"
    },
    {
     "cell_type": "markdown",
     "metadata": {},
     "source": [
      "# SAVE FILES !!!"
     ]
    },
    {
     "cell_type": "code",
     "collapsed": false,
     "input": [
      "cd"
     ],
     "language": "python",
     "metadata": {},
     "outputs": []
    },
    {
     "cell_type": "code",
     "collapsed": false,
     "input": [
      "cd desktop"
     ],
     "language": "python",
     "metadata": {},
     "outputs": []
    },
    {
     "cell_type": "code",
     "collapsed": false,
     "input": [
      "########## SAVE FILE 1. save all data by one step!!! ##########"
     ],
     "language": "python",
     "metadata": {},
     "outputs": []
    },
    {
     "cell_type": "code",
     "collapsed": false,
     "input": [
      "import pickle\n",
      "filename=\"data/profiled_gender.pkl\"\n",
      "fout = file(filename,\"w\")\n",
      "pickle.dump(userngender,fout)\n"
     ],
     "language": "python",
     "metadata": {},
     "outputs": []
    },
    {
     "cell_type": "code",
     "collapsed": false,
     "input": [
      "load_user0 = pickle.load(file('data/profiled_gender.pkl'))"
     ],
     "language": "python",
     "metadata": {},
     "outputs": []
    },
    {
     "cell_type": "code",
     "collapsed": false,
     "input": [
      "load_user0"
     ],
     "language": "python",
     "metadata": {},
     "outputs": []
    },
    {
     "cell_type": "code",
     "collapsed": false,
     "input": [],
     "language": "python",
     "metadata": {},
     "outputs": []
    },
    {
     "cell_type": "code",
     "collapsed": false,
     "input": [
      "########## SAVE FILE 2. save & update data by any steps!!! ##########"
     ],
     "language": "python",
     "metadata": {},
     "outputs": []
    },
    {
     "cell_type": "code",
     "collapsed": false,
     "input": [
      "load_user1 = pickle.load(file('profiled_gender.pkl'))\n",
      "load_user1"
     ],
     "language": "python",
     "metadata": {},
     "outputs": []
    },
    {
     "cell_type": "code",
     "collapsed": false,
     "input": [
      "userngender?"
     ],
     "language": "python",
     "metadata": {},
     "outputs": []
    },
    {
     "cell_type": "code",
     "collapsed": false,
     "input": [
      "load_user1.update(userngender)\n",
      "load_user1"
     ],
     "language": "python",
     "metadata": {},
     "outputs": []
    },
    {
     "cell_type": "code",
     "collapsed": false,
     "input": [
      "load_user1"
     ],
     "language": "python",
     "metadata": {},
     "outputs": []
    },
    {
     "cell_type": "code",
     "collapsed": false,
     "input": [
      "from pandas import DataFrame\n",
      "DataFrame.save(userngender, \"profiled_gender.pkl\")"
     ],
     "language": "python",
     "metadata": {},
     "outputs": []
    },
    {
     "cell_type": "code",
     "collapsed": false,
     "input": [
      "load_user1?"
     ],
     "language": "python",
     "metadata": {},
     "outputs": []
    },
    {
     "cell_type": "code",
     "collapsed": false,
     "input": [
      "load_user1['user'][5000]"
     ],
     "language": "python",
     "metadata": {},
     "outputs": []
    },
    {
     "cell_type": "code",
     "collapsed": false,
     "input": [],
     "language": "python",
     "metadata": {},
     "outputs": []
    },
    {
     "cell_type": "markdown",
     "metadata": {},
     "source": [
      "#ADD ANOTHER DATA"
     ]
    },
    {
     "cell_type": "code",
     "collapsed": false,
     "input": [
      "cd"
     ],
     "language": "python",
     "metadata": {},
     "outputs": []
    },
    {
     "cell_type": "code",
     "collapsed": false,
     "input": [
      "temp = pickle.load(file('desktop/Data/profiled_gender_backup.pkl'))"
     ],
     "language": "python",
     "metadata": {},
     "outputs": []
    },
    {
     "cell_type": "code",
     "collapsed": false,
     "input": [
      "#completed = userngender + temp\n",
      "t1 = userngender.copy()\n",
      "t2 = temp.copy()"
     ],
     "language": "python",
     "metadata": {},
     "outputs": []
    },
    {
     "cell_type": "code",
     "collapsed": false,
     "input": [
      "completed = t1.append(t2)"
     ],
     "language": "python",
     "metadata": {},
     "outputs": []
    },
    {
     "cell_type": "code",
     "collapsed": false,
     "input": [
      "from pandas import DataFrame\n",
      "DataFrame.save(completed, \"desktop/data/profiled_gender.pkl\")"
     ],
     "language": "python",
     "metadata": {},
     "outputs": []
    },
    {
     "cell_type": "code",
     "collapsed": false,
     "input": [
      "test = pickle.load(file('desktop/data/profiled_gender.pkl'))\n",
      "test"
     ],
     "language": "python",
     "metadata": {},
     "outputs": []
    },
    {
     "cell_type": "markdown",
     "metadata": {},
     "source": [
      "#COUNT male & female..."
     ]
    },
    {
     "cell_type": "code",
     "collapsed": false,
     "input": [
      "count_male = 0;\n",
      "count_female = 0;\n",
      "for i in gender:\n",
      "    if i==1:\n",
      "        count_male = count_male+1\n",
      "    elif i==2:\n",
      "        count_female = count_female+1\n",
      "print count_male, count_female"
     ],
     "language": "python",
     "metadata": {},
     "outputs": []
    },
    {
     "cell_type": "code",
     "collapsed": false,
     "input": [],
     "language": "python",
     "metadata": {},
     "outputs": []
    }
   ],
   "metadata": {}
  }
 ]
}