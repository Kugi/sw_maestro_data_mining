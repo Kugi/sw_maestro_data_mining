{
 "metadata": {
  "name": ""
 },
 "nbformat": 3,
 "nbformat_minor": 0,
 "worksheets": [
  {
   "cells": [
    {
     "cell_type": "code",
     "collapsed": false,
     "input": [
      "cd"
     ],
     "language": "python",
     "metadata": {},
     "outputs": [
      {
       "output_type": "stream",
       "stream": "stdout",
       "text": [
        "/Users/jeongmingi\n"
       ]
      }
     ],
     "prompt_number": 1
    },
    {
     "cell_type": "code",
     "collapsed": false,
     "input": [
      "import pickle\n",
      "user_gender = pickle.load(file('desktop/data/profiled_gender.pkl'))\n",
      "uapp = pickle.load(file('desktop/data/user_app.df'))\n",
      "apps = pickle.load(file('desktop/data/app_info2.df'))\n"
     ],
     "language": "python",
     "metadata": {},
     "outputs": []
    },
    {
     "cell_type": "code",
     "collapsed": false,
     "input": [
      "import pandas as pd\n",
      "temp = pd.io.parsers.read_csv('desktop/data/user_prof.csv', sep='|')\n",
      "temp.keys()\n",
      "temp = temp.drop(0)\n",
      "temp = temp.drop(99535)\n",
      "temp = temp.drop(99536)"
     ],
     "language": "python",
     "metadata": {},
     "outputs": [],
     "prompt_number": 3
    },
    {
     "cell_type": "code",
     "collapsed": false,
     "input": [
      "temp2 = temp.copy()\n",
      "df_temp = pd.DataFrame(temp2.values, columns =['user','gender','age'])"
     ],
     "language": "python",
     "metadata": {},
     "outputs": [],
     "prompt_number": 4
    },
    {
     "cell_type": "code",
     "collapsed": false,
     "input": [
      "df_temp[99530:]"
     ],
     "language": "python",
     "metadata": {},
     "outputs": [
      {
       "html": [
        "<div style=\"max-height:1000px;max-width:1500px;overflow:auto;\">\n",
        "<table border=\"1\" class=\"dataframe\">\n",
        "  <thead>\n",
        "    <tr style=\"text-align: right;\">\n",
        "      <th></th>\n",
        "      <th>user</th>\n",
        "      <th>gender</th>\n",
        "      <th>age</th>\n",
        "    </tr>\n",
        "  </thead>\n",
        "  <tbody>\n",
        "    <tr>\n",
        "      <th>99530</th>\n",
        "      <td>  6082892 </td>\n",
        "      <td>  male   </td>\n",
        "      <td> 30</td>\n",
        "    </tr>\n",
        "    <tr>\n",
        "      <th>99531</th>\n",
        "      <td>  6083015 </td>\n",
        "      <td>  male   </td>\n",
        "      <td> 24</td>\n",
        "    </tr>\n",
        "    <tr>\n",
        "      <th>99532</th>\n",
        "      <td>  6083107 </td>\n",
        "      <td>  male   </td>\n",
        "      <td> 20</td>\n",
        "    </tr>\n",
        "    <tr>\n",
        "      <th>99533</th>\n",
        "      <td>  6083182 </td>\n",
        "      <td>  male   </td>\n",
        "      <td> 10</td>\n",
        "    </tr>\n",
        "  </tbody>\n",
        "</table>\n",
        "</div>"
       ],
       "metadata": {},
       "output_type": "pyout",
       "prompt_number": 5,
       "text": [
        "            user    gender age\n",
        "99530   6082892    male     30\n",
        "99531   6083015    male     24\n",
        "99532   6083107    male     20\n",
        "99533   6083182    male     10"
       ]
      }
     ],
     "prompt_number": 5
    },
    {
     "cell_type": "code",
     "collapsed": false,
     "input": [
      "for i, uu in enumerate(df_temp['user']):\n",
      "    df_temp['user'][i] = int(uu)"
     ],
     "language": "python",
     "metadata": {},
     "outputs": [],
     "prompt_number": 6
    },
    {
     "cell_type": "code",
     "collapsed": false,
     "input": [
      "df_temp['gender'][2]"
     ],
     "language": "python",
     "metadata": {},
     "outputs": [
      {
       "metadata": {},
       "output_type": "pyout",
       "prompt_number": 7,
       "text": [
        "' female '"
       ]
      }
     ],
     "prompt_number": 7
    },
    {
     "cell_type": "code",
     "collapsed": false,
     "input": [
      "for i, temp in enumerate(df_temp['gender']):\n",
      "    df_temp['gender'][i] = temp.replace(\" \", \"\")\n",
      "    if df_temp['gender'][i] == 'male':\n",
      "        df_temp['gender'][i] = 1\n",
      "    elif df_temp['gender'][i] == 'female':\n",
      "        df_temp['gender'][i] = 2\n",
      "    else:\n",
      "        print \"ERROR\""
     ],
     "language": "python",
     "metadata": {},
     "outputs": [],
     "prompt_number": 8
    },
    {
     "cell_type": "code",
     "collapsed": false,
     "input": [
      "df_temp['age'][:20]"
     ],
     "language": "python",
     "metadata": {},
     "outputs": [
      {
       "metadata": {},
       "output_type": "pyout",
       "prompt_number": 25,
       "text": [
        "0     20\n",
        "1     30\n",
        "2     10\n",
        "3     20\n",
        "4     20\n",
        "5     40\n",
        "6     42\n",
        "7     42\n",
        "8     10\n",
        "9     20\n",
        "10    10\n",
        "11    30\n",
        "12    30\n",
        "13    40\n",
        "14    12\n",
        "15    10\n",
        "16    20\n",
        "17    10\n",
        "18    20\n",
        "19    10\n",
        "Name: age, dtype: object"
       ]
      }
     ],
     "prompt_number": 25
    },
    {
     "cell_type": "code",
     "collapsed": false,
     "input": [
      "df_temp.ix[(df_temp['user']== 80767), 'gender']"
     ],
     "language": "python",
     "metadata": {},
     "outputs": [
      {
       "metadata": {},
       "output_type": "pyout",
       "prompt_number": 9,
       "text": [
        "Series([], dtype: object)"
       ]
      }
     ],
     "prompt_number": 9
    },
    {
     "cell_type": "code",
     "collapsed": false,
     "input": [
      "true = df_temp[df_temp['user']==1343682]['gender']\n",
      "if true:\n",
      "    print 1\n",
      "else:\n",
      "    print 0"
     ],
     "language": "python",
     "metadata": {},
     "outputs": [
      {
       "output_type": "stream",
       "stream": "stdout",
       "text": [
        "1\n"
       ]
      }
     ],
     "prompt_number": 40
    },
    {
     "cell_type": "code",
     "collapsed": false,
     "input": [
      "int(user_gender[user_gender['user']==1343682]['gender'])"
     ],
     "language": "python",
     "metadata": {},
     "outputs": [
      {
       "metadata": {},
       "output_type": "pyout",
       "prompt_number": 56,
       "text": [
        "1"
       ]
      }
     ],
     "prompt_number": 56
    },
    {
     "cell_type": "code",
     "collapsed": false,
     "input": [
      "apps.keys()"
     ],
     "language": "python",
     "metadata": {},
     "outputs": [
      {
       "metadata": {},
       "output_type": "pyout",
       "prompt_number": 67,
       "text": [
        "Index([id, date, create_date, update_date, genre, cate, score, name, price, developer, intro, size, ver, company, code, app_cate, company_id, download_num, rate_num_all], dtype=object)"
       ]
      }
     ],
     "prompt_number": 67
    },
    {
     "cell_type": "code",
     "collapsed": false,
     "input": [
      "ids = uapp[uapp['user_id']== 2055094].entity_id\n",
      "for i in ids:\n",
      "    print str(apps[apps['id'] == i]['name'])"
     ],
     "language": "python",
     "metadata": {},
     "outputs": [
      {
       "output_type": "stream",
       "stream": "stdout",
       "text": [
        "183472    Pocket Rally LITE\n",
        "Name: name, dtype: object\n",
        "110960    Car Conductor: Traffic Control\n",
        "Name: name, dtype: object\n",
        "32235    Lane Racer 3D\n",
        "Name: name, dtype: object\n",
        "69840    Create a Ride\n",
        "Name: name, dtype: object\n",
        "254963    \uc7a5\ub09c\uac10 \uc8fc\ucc28 3D\n",
        "Name: name, dtype: object\n",
        "67769    Parking Frenzy 2.0\n",
        "Name: name, dtype: object\n",
        "10981    Push the Zombie\n",
        "Name: name, dtype: object\n",
        "251500    Dirt Road Trucker 3D\n",
        "Name: name, dtype: object\n",
        "104159    Car Race by Fun Games For Free\n",
        "Name: name, dtype: object\n",
        "253713    [\ub125\uc2a8]\ubc84\ube14\ud30c\uc774\ud130 \uc5b4\ub4dc\ubca4\ucc98\n",
        "Name: name, dtype: object\n",
        "112559    \ucd08 \ucc28\uc6d0 \uc8fc\ucc28\uc7a5 - Parking mania\n",
        "Name: name, dtype: object\n",
        "190390    \ubbf8\uce5c \uce58\uacfc \uc758\uc0ac - \uc544\uc774\uac00 \uac8c\uc784\n",
        "Name: name, dtype: object\n",
        "24245    Angry Birds Space\n",
        "Name: name, dtype: object\n",
        "193168    \ub124\uc774\ubc84 - Naver\n",
        "Name: name, dtype: object\n",
        "47290    Train mania\n",
        "Name: name, dtype: object"
       ]
      },
      {
       "output_type": "stream",
       "stream": "stdout",
       "text": [
        "\n",
        "104428    \ub9d0\ud558\ub294 \uace0\uc591\uc774 \ud1b0 \ubb34\ub8cc\n",
        "Name: name, dtype: object\n",
        "103602    RealParking3D \uc8fc\ucc28 \uac8c\uc784\n",
        "Name: name, dtype: object\n",
        "95376    Coin Dozer\n",
        "Name: name, dtype: object\n",
        "170357    The Little Crane That Could\n",
        "Name: name, dtype: object\n",
        "101859    Minecraft - Pocket Ed. Demo\n",
        "Name: name, dtype: object\n",
        "112535    \uc560\ub2c8\ud321 \uc0ac\ucc9c\uc131 for Kakao\n",
        "Name: name, dtype: object\n",
        "52732    Truck Mania\n",
        "Name: name, dtype: object\n",
        "252514    \uacf5\ud3ec\uc758 \uc9d1\n",
        "Name: name, dtype: object\n",
        "256564    Crazy Car Driving EndLess\n",
        "Name: name, dtype: object\n",
        "94870    \ub4dc\ub798\uace4 \ud50c\ub77c\uc774\ud2b8 for Kakao\n",
        "Name: name, dtype: object\n",
        "100998    \uc5f4\ud608\ud0dd\uc2dc2_\uc11c\uc6b8\ud3b8\n",
        "Name: name, dtype: object\n",
        "100616    Top Gear: Stunt School SSR\n",
        "Name: name, dtype: object"
       ]
      },
      {
       "output_type": "stream",
       "stream": "stdout",
       "text": [
        "\n",
        "62207    \uacbd\ucc30 \uc2a4\ud53c\ub4dc \ub808\uc774\uc2f1\n",
        "Name: name, dtype: object\n",
        "247073    3D\u809d\u8a66\u3057\uff5e\u546a\u308f\u308c\u305f\u5ec3\u5c4b\uff5e\u3010\u767b\u9332\u4e0d\u8981\u3011\u30db\u30e9\u30fc\u30b2\u30fc\u30e0\n",
        "Name: name, dtype: object\n",
        "58543    \ubbf8\ud22c\ub370\uc774 - me2day\n",
        "Name: name, dtype: object\n",
        "82505    \ub124\uc774\ubc84 \uc9c0\ub3c4/\uad50\ud1b5 \u2013 Naver Map\n",
        "Name: name, dtype: object\n",
        "153721    \uc8fc\ucc28\uc7a5 \ub3c4\uc804 3D [LITE]\n",
        "Name: name, dtype: object\n",
        "255906    \ub124\uc774\ud2b8\uc628UC\n",
        "Name: name, dtype: object\n",
        "110746    Big Rig Racing\n",
        "Name: name, dtype: object\n",
        "21141    Parking3d\n",
        "Name: name, dtype: object\n",
        "253581    \uc548\uc824\ub77c\ub97c \uc0ac\ub791\ud558\ub294 \ud1b0\n",
        "Name: name, dtype: object\n",
        "109357    3D Monster Truck Jam Mania\n",
        "Name: name, dtype: object\n",
        "46247    Baja Trophy Truck Racing\n",
        "Name: name, dtype: object\n",
        "96782    Sniper Training -Shooting Game\n",
        "Name: name, dtype: object"
       ]
      },
      {
       "output_type": "stream",
       "stream": "stdout",
       "text": [
        "\n",
        "253050    ITGS Driving Benchmark Demo\n",
        "Name: name, dtype: object\n",
        "254655    Block Story Lite\n",
        "Name: name, dtype: object\n",
        "15103    Free Truck Games\n",
        "Name: name, dtype: object\n",
        "100950    Bike Mania free - \ub808\uc774\uc2f1 \uac8c\uc784\n",
        "Name: name, dtype: object\n",
        "81718    \uc778\ub514\uc2a4\ud2b8\ub7ed\ud130\ube14\n",
        "Name: name, dtype: object\n",
        "249134    \ub9d0\ud558\ub294 \uac1c, \ubca4 - Talking Ben Free\n",
        "Name: name, dtype: object\n",
        "3341    \ub9d0\ud558\ub294 \uae30\ub9b0 GINA \ubb34\ub8cc\n",
        "Name: name, dtype: object\n",
        "100068    \ub9d0\ud558\ub294 \uc9c4\uc800 - Talking Ginger\n",
        "Name: name, dtype: object\n",
        "97526    Discovery LITE\n",
        "Name: name, dtype: object\n",
        "256726    4x4 Offroad Racing\n",
        "Name: name, dtype: object\n",
        "132081    WorldCraft Free(multiplayer)\n",
        "Name: name, dtype: object\n",
        "256480    BB Rally Lite\n",
        "Name: name, dtype: object\n",
        "106978    \ubb34\ub8cc SteamTrains\n",
        "Name: name, dtype: object"
       ]
      },
      {
       "output_type": "stream",
       "stream": "stdout",
       "text": [
        "\n",
        "106982    Temple Run 2\n",
        "Name: name, dtype: object\n",
        "125125    Good Wallpapers for Minecraft\n",
        "Name: name, dtype: object\n",
        "22373    3D Demolition Race\n",
        "Name: name, dtype: object\n",
        "14270    SuperTrains free\n",
        "Name: name, dtype: object\n",
        "4778    \uc575\uadf8\ub9ac \ube44\ubc84\u2605\ud480\ubc84\uc804\ubb34\ub8cc\u2605\n",
        "Name: name, dtype: object\n",
        "3675    Race the Robots Offroad\n",
        "Name: name, dtype: object\n",
        "102251    \uac1c\ubbf8 \uaca9\ud30c \ucd5c\uace0\uc758 \ubb34\ub8cc \uac8c\uc784 \uc7ac\ubbf8\n",
        "Name: name, dtype: object\n",
        "100558    \ubc14\uc774\uc62c\ub7f0\uc2a4 \ub808\uc774\uc2f1HD\n",
        "Name: name, dtype: object\n",
        "123239    \ub7ec\ub2dd\ub3c5 for Kakao\n",
        "Name: name, dtype: object\n",
        "111005    PetraVis Lite\n",
        "Name: name, dtype: object\n",
        "223798    BlockWorld LITE\n",
        "Name: name, dtype: object\n",
        "3137    Temple Run\n",
        "Name: name, dtype: object\n",
        "89839    Need For High Speed\n",
        "Name: name, dtype: object"
       ]
      },
      {
       "output_type": "stream",
       "stream": "stdout",
       "text": [
        "\n",
        "165404    Sonic CD Lite\n",
        "Name: name, dtype: object\n",
        "251552    SpeeD Drive 3D\n",
        "Name: name, dtype: object\n",
        "239592    \ube14\ub7ec\ub4dc & \uae00\ub85c\ub9ac(NR)\n",
        "Name: name, dtype: object\n",
        "146420    Babsy \uc544\uae30 \uc774\uc57c\uae30\n",
        "Name: name, dtype: object\n",
        "172144    Driftkhana Free Drift Lite\n",
        "Name: name, dtype: object\n",
        "100926    Trial Xtreme Free\n",
        "Name: name, dtype: object\n",
        "254294    Moto X Mayhem Free\n",
        "Name: name, dtype: object\n",
        "2557    Top Truck Free\n",
        "Name: name, dtype: object\n",
        "135510    Train Crisis HD Free\n",
        "Name: name, dtype: object\n",
        "247109    \uce58\ub85c\uc758 \ub180\uc774\ubc29\n",
        "Name: name, dtype: object\n",
        "255139    Monster Wheels Offroad\n",
        "Name: name, dtype: object\n",
        "36547    Curse Breakers : Paranormal\n",
        "Name: name, dtype: object\n",
        "103559    \ub2e4\ud568\uaed8 \ucc28\ucc28\ucc28 for Kakao\n",
        "Name: name, dtype: object\n",
        "103595    Siren Sounds and Ringtones\n",
        "Name: name, dtype: object"
       ]
      },
      {
       "output_type": "stream",
       "stream": "stdout",
       "text": [
        "\n",
        "253397    Deadlox Minecraft New Videos!\n",
        "Name: name, dtype: object\n",
        "96100    Beat the Boss\n",
        "Name: name, dtype: object\n",
        "253074    Need for Drift\n",
        "Name: name, dtype: object\n",
        "104551    Angry Gran Toss\n",
        "Name: name, dtype: object\n",
        "97463    SpeedCar\n",
        "Name: name, dtype: object\n",
        "58332    Hungry Shark Evolution\n",
        "Name: name, dtype: object\n",
        "112299    Sky Does Minecraft New Videos!\n",
        "Name: name, dtype: object\n",
        "192823    \uc5b4\ub9b0\uc774\ub97c\uc704\ud55c \uc790\ub3d9\ucc28 \ube45 \uc5ec\ud589\n",
        "Name: name, dtype: object\n",
        "139550    \uc560\ub2c8\ud321 for Kakao\n",
        "Name: name, dtype: object\n",
        "97401    Fruit Ninja Free\n",
        "Name: name, dtype: object\n",
        "254503    Crafting Sounds\n",
        "Name: name, dtype: object\n",
        "248984    Minecraft Skin 3D Live Wallpap\n",
        "Name: name, dtype: object\n",
        "252925    Toddler Kids Car Toy Police\n",
        "Name: name, dtype: object\n",
        "249549    Red Nose Extreme Racing Free\n",
        "Name: name, dtype: object\n",
        "38767    Final Freeway Coin\n",
        "Name: name, dtype: object"
       ]
      },
      {
       "output_type": "stream",
       "stream": "stdout",
       "text": [
        "\n",
        "33288    Real Parking\n",
        "Name: name, dtype: object\n",
        "2453    \ub0a0\uc544\ub77c \ud32c\ub354 \ube44\ud589\ub2e8 for Kakao\n",
        "Name: name, dtype: object\n",
        "125157    Minebuild\n",
        "Name: name, dtype: object\n",
        "110390    Survivalcraft\n",
        "Name: name, dtype: object\n",
        "81529    Zombie Invasion : T-Virus\n",
        "Name: name, dtype: object\n",
        "76700    Need for police speed\n",
        "Name: name, dtype: object\n",
        "102015    \ub9d0\ud558\ub294 \uace0\uc591\uc774 \ud1b0 2 \ubb34\ub8cc\n",
        "Name: name, dtype: object\n",
        "32653    Jet Car Stunts Lite\n",
        "Name: name, dtype: object\n",
        "252375    \ucfe0\ud0a4\ub7f0 for Kakao\n",
        "Name: name, dtype: object\n",
        "255269    Tiny Little Racing Demo\n",
        "Name: name, dtype: object\n",
        "174679    GL TRON\n",
        "Name: name, dtype: object\n",
        "254987    Extreme Road Trip 2\n",
        "Name: name, dtype: object\n",
        "5467    Parking Fury\n",
        "Name: name, dtype: object\n",
        "252958    Warzone Getaway Counter Strike\n",
        "Name: name, dtype: object"
       ]
      },
      {
       "output_type": "stream",
       "stream": "stdout",
       "text": [
        "\n",
        "254468    Train Sim\n",
        "Name: name, dtype: object\n",
        "4802    \ub9c8\uc778\ud06c\ub798\ud504\ud2b8 \ud68c\ub85c \uacf5\ub7b5\uc9d1\n",
        "Name: name, dtype: object\n",
        "116970    KonradGP\n",
        "Name: name, dtype: object\n",
        "52071    Iron Man 3 Ringtones\n",
        "Name: name, dtype: object\n",
        "104372    Furious Racing Worldchamp FREE\n",
        "Name: name, dtype: object\n",
        "63133    Car Parking 3D\n",
        "Name: name, dtype: object\n",
        "175311    Monster Truck Fancy Racing\n",
        "Name: name, dtype: object\n",
        "102504    \uc544\uc774\ub4e4\uc774 \uc88b\uc544\ud558\ub294 \ub3d9\uc601\uc0c1 \ubaa8\uc74c\n",
        "Name: name, dtype: object\n",
        "34798    Minecraft Server: Murk City\n",
        "Name: name, dtype: object\n",
        "254980    Extreme Demolition\n",
        "Name: name, dtype: object\n",
        "3979    \ud0c8\ucd9c\uac8c\uc784 \uac10\uc625\uc758 \uc81c\ubb3c\n",
        "Name: name, dtype: object\n",
        "255634    Clear Vision 2 Free\n",
        "Name: name, dtype: object\n",
        "254814    Precision Car Parking 3D\n",
        "Name: name, dtype: object\n",
        "106007    Earn to Die Lite\n",
        "Name: name, dtype: object"
       ]
      },
      {
       "output_type": "stream",
       "stream": "stdout",
       "text": [
        "\n",
        "110395    \uc880\ube44 \ub7f0\n",
        "Name: name, dtype: object\n",
        "102628    \uc624\ube0c\uc81c OVJET\n",
        "Name: name, dtype: object\n",
        "3752    Subway Surfers\n",
        "Name: name, dtype: object\n",
        "187008    Scary Maze for Android\n",
        "Name: name, dtype: object\n",
        "34275    \ub3c4\ub85c \uc5ec\ud589 - \uc790\ub3d9\ucc28 \ub300 \uc790\ub3d9\ucc28 \ubb34\ub8cc \uac8c\uc784\n",
        "Name: name, dtype: object\n",
        "101044    Redline Rush\n",
        "Name: name, dtype: object\n",
        "255584    Cars And Guns 3D FREE\n",
        "Name: name, dtype: object\n",
        "96197    GT \ub808\uc774\uc2f1: Hyundai Edition\n",
        "Name: name, dtype: object\n",
        "67521    Jetpack Joyride\n",
        "Name: name, dtype: object\n",
        "97195    \ubaa8\ub450\uc758 \uac8c\uc784 for Kakao\n",
        "Name: name, dtype: object\n",
        "256118    Race Of Champions\n",
        "Name: name, dtype: object\n",
        "51663    TileStorm Lite (3D)\n",
        "Name: name, dtype: object\n",
        "35507    Squibble \ubb34\ub8cc\n",
        "Name: name, dtype: object\n",
        "4082    Final Freeway 2R Free\n",
        "Name: name, dtype: object"
       ]
      },
      {
       "output_type": "stream",
       "stream": "stdout",
       "text": [
        "\n",
        "103169    Drift Mania Championship 2 LE\n",
        "Name: name, dtype: object\n",
        "166479    Amazing Alex Free\n",
        "Name: name, dtype: object\n",
        "67523    Bad Piggies HD\n",
        "Name: name, dtype: object\n",
        "248009    Angry Birds Star Wars\n",
        "Name: name, dtype: object\n",
        "100360    Angry Birds Rio\n",
        "Name: name, dtype: object\n",
        "168539    Finger Slayer\n",
        "Name: name, dtype: object\n",
        "253637    Pure Drift \uc790\ub3d9\ucc28 \uac8c\uc784\n",
        "Name: name, dtype: object\n",
        "61631    Duty Driver LITE\n",
        "Name: name, dtype: object\n",
        "172319    2XL MX Offroad\n",
        "Name: name, dtype: object\n",
        "107365    Beach Buggy Blitz\n",
        "Name: name, dtype: object\n",
        "3681    Survivalcraft Demo\n",
        "Name: name, dtype: object\n",
        "102596    \uc5d0\uc5b4\ud3ad\uadc4\n",
        "Name: name, dtype: object\n",
        "97187    \uac8c\uc784 \ucf55\ucf55 - \uc548\ub4dc\ub85c\uc774\ub4dc \uac8c\uc784 \ucd94\ucc9c 1\uc704 \uc11c\ube44\uc2a4\n",
        "Name: name, dtype: object\n",
        "3121    Time to Rock Racing Demo\n",
        "Name: name, dtype: object"
       ]
      },
      {
       "output_type": "stream",
       "stream": "stdout",
       "text": [
        "\n",
        "263632    \ub9e5\uc2a4\uc5d0\uac8c \ub178\ub3d9\uc790\ub97c \ub9d0\ud558\ub294\n",
        "Name: name, dtype: object\n",
        "72158    \uce74\ud2b8\ub77c\uc774\ub354 \ucf54\uc778\ub7ec\uc26c for Kakao\n",
        "Name: name, dtype: object\n",
        "81303    Hess Racer\n",
        "Name: name, dtype: object\n",
        "103546    \ud034\uc988\ud0b9 for Kakao\n",
        "Name: name, dtype: object\n",
        "254648    LEGO\u00ae App4+\n",
        "Name: name, dtype: object\n",
        "106022    Highway Rider\n",
        "Name: name, dtype: object\n",
        "256277    \uce74\uce74\uc624\ud1a1 KakaoTalk\n",
        "Name: name, dtype: object\n",
        "110149    \ucef4\uc628\ubca0\uc774\ube44! (Come on Baby!)\n",
        "Name: name, dtype: object\n",
        "111131    Survival Demo\n",
        "Name: name, dtype: object\n",
        "5807    \ubca0\uc774\ube44 \uc54c\ud30c\ubcb3 \uc790\ub3d9\ucc28 Lite\n",
        "Name: name, dtype: object\n",
        "255401    ExO Drive demo\n",
        "Name: name, dtype: object\n",
        "172470    HTR High Tech Racing\n",
        "Name: name, dtype: object"
       ]
      },
      {
       "output_type": "stream",
       "stream": "stdout",
       "text": [
        "\n",
        "172284    Bad Piggies\n",
        "Name: name, dtype: object\n",
        "112250    \ud314\ub77c\ub3c5(Paladog) Free\n",
        "Name: name, dtype: object\n",
        "254547    Crazy Monster Truck - Escape\n",
        "Name: name, dtype: object\n",
        "63727    Angry Gran Run - Running Game\n",
        "Name: name, dtype: object\n",
        "250089    Sherwood Shooter - Apple Shoot\n",
        "Name: name, dtype: object\n",
        "252591    Mountain Climb Race\n",
        "Name: name, dtype: object\n",
        "58566    GT \ub808\uc774\uc2f1: Free+\n",
        "Name: name, dtype: object\n",
        "251231    Race Illegal: High Speed 3D\n",
        "Name: name, dtype: object\n",
        "102912    \uce74\ud2b8\ub77c\uc774\ub354 \ub7ec\uc26c+ 2.0\n",
        "Name: name, dtype: object\n",
        "155247    Drag Racer World\n",
        "Name: name, dtype: object\n",
        "99796    \uae40\uc900\ud604\uc758 \uacf5\uae30\ub180\uc774 for Kakao\n",
        "Name: name, dtype: object\n",
        "102021    \ub9d0\ud558\ub294 \uace0\uc591\uc774 \ud1b0\uacfc \ubca4 \ub274\uc2a4 \ubb34\ub8cc\n",
        "Name: name, dtype: object\n",
        "249281    \ud754\uce58\uc54a\uc740\uc0ac\uc774\ucf54\ud328\uc2a4\ud14c\uc2a4\ud2b8\n",
        "Name: name, dtype: object"
       ]
      },
      {
       "output_type": "stream",
       "stream": "stdout",
       "text": [
        "\n",
        "254353    Racing Ultimate Free\n",
        "Name: name, dtype: object\n",
        "256483    MonsemunT \ub77c\uc774\ud2b8\n",
        "Name: name, dtype: object\n",
        "100739    Weaphones: Gun Simulator Free\n",
        "Name: name, dtype: object\n",
        "2502    \uc790\ub3d9\ucc28 \ub808\uc774\uc2f1 \uac8c\uc784 \ubca0\uc2a4\ud2b8 \ub7ad\ud0b9\n",
        "Name: name, dtype: object\n",
        "102054    \uba5c\ub860\n",
        "Name: name, dtype: object\n",
        "256242    Where's My Perry? Free\n",
        "Name: name, dtype: object\n",
        "113135    Muscle car trial Lite\n",
        "Name: name, dtype: object\n",
        "254041    [\ub125\uc2a8]\ud06c\ub808\uc774\uc9c0\uc544\ucf00\uc774\ub4dc Live\n",
        "Name: name, dtype: object\n",
        "178272    Anger of Stick 2\n",
        "Name: name, dtype: object\n",
        "108103    Beat the Boss 2\n",
        "Name: name, dtype: object\n",
        "108104    Race, Stunt, Fight, 2!  FREE\n",
        "Name: name, dtype: object\n",
        "37953    Monster Truck Destroyer\n",
        "Name: name, dtype: object"
       ]
      },
      {
       "output_type": "stream",
       "stream": "stdout",
       "text": [
        "\n",
        "255718    \uce74\uce74\uc624\uc2a4\ud1a0\ub9ac KakaoStory\n",
        "Name: name, dtype: object\n",
        "188870    \uc708\ub4dc\ub7ec\ub108 for Kakao\n",
        "Name: name, dtype: object\n",
        "247266    \uc2a4\uc650\ud53c (Where\u2019s My Water?) \ubb34\ub8cc\n",
        "Name: name, dtype: object\n"
       ]
      }
     ],
     "prompt_number": 70
    },
    {
     "cell_type": "code",
     "collapsed": false,
     "input": [
      "df_temp?"
     ],
     "language": "python",
     "metadata": {},
     "outputs": [],
     "prompt_number": 72
    },
    {
     "cell_type": "code",
     "collapsed": false,
     "input": [
      "o = 0\n",
      "x = 0\n",
      "for i in user_gender['user']:\n",
      "    #print i\n",
      "    true = df_temp[df_temp['user']==i]['gender']\n",
      "    if true:\n",
      "        test = user_gender[user_gender['user']==i]['gender']\n",
      "        true = int(true)\n",
      "        test = int(test)\n",
      "        print i, true, test, \"age : \", int(df_temp[df_temp['user']==i]['age'])\n",
      "        if true == test:\n",
      "            o+=1\n",
      "        else: \n",
      "            x+=1\n",
      "        print (o, x), \"\\n\"\n",
      "    else:\n",
      "        pass"
     ],
     "language": "python",
     "metadata": {},
     "outputs": [
      {
       "output_type": "stream",
       "stream": "stdout",
       "text": [
        "1343682 2 1 age :  "
       ]
      },
      {
       "output_type": "stream",
       "stream": "stdout",
       "text": [
        "32\n",
        "(0, 1) \n",
        "\n",
        "4139093"
       ]
      },
      {
       "output_type": "stream",
       "stream": "stdout",
       "text": [
        " 1 2 age :  "
       ]
      },
      {
       "output_type": "stream",
       "stream": "stdout",
       "text": [
        "20\n",
        "(0, 2) \n",
        "\n",
        "2031138"
       ]
      },
      {
       "output_type": "stream",
       "stream": "stdout",
       "text": [
        " 1 2 age :  "
       ]
      },
      {
       "output_type": "stream",
       "stream": "stdout",
       "text": [
        "30\n",
        "(0, 3) \n",
        "\n",
        "2271353"
       ]
      },
      {
       "output_type": "stream",
       "stream": "stdout",
       "text": [
        " 2 1 age :  "
       ]
      },
      {
       "output_type": "stream",
       "stream": "stdout",
       "text": [
        "20\n",
        "(0, 4) \n",
        "\n",
        "2046966"
       ]
      },
      {
       "output_type": "stream",
       "stream": "stdout",
       "text": [
        " 1 2 age :  "
       ]
      },
      {
       "output_type": "stream",
       "stream": "stdout",
       "text": [
        "10\n",
        "(0, 5) \n",
        "\n",
        "2423229"
       ]
      },
      {
       "output_type": "stream",
       "stream": "stdout",
       "text": [
        " 1 2 age :  "
       ]
      },
      {
       "output_type": "stream",
       "stream": "stdout",
       "text": [
        "10\n",
        "(0, 6) \n",
        "\n",
        "3080417"
       ]
      },
      {
       "output_type": "stream",
       "stream": "stdout",
       "text": [
        " 1 2 age :  "
       ]
      },
      {
       "output_type": "stream",
       "stream": "stdout",
       "text": [
        "30\n",
        "(0, 7) \n",
        "\n",
        "2290557"
       ]
      },
      {
       "output_type": "stream",
       "stream": "stdout",
       "text": [
        " 1 2 age :  "
       ]
      },
      {
       "output_type": "stream",
       "stream": "stdout",
       "text": [
        "25\n",
        "(0, 8) \n",
        "\n",
        "2082143"
       ]
      },
      {
       "output_type": "stream",
       "stream": "stdout",
       "text": [
        " 1 2 age :  "
       ]
      },
      {
       "output_type": "stream",
       "stream": "stdout",
       "text": [
        "10\n",
        "(0, 9) \n",
        "\n",
        "1610898"
       ]
      },
      {
       "output_type": "stream",
       "stream": "stdout",
       "text": [
        " 1 2 age :  "
       ]
      },
      {
       "output_type": "stream",
       "stream": "stdout",
       "text": [
        "60\n",
        "(0, 10) \n",
        "\n",
        "4596748"
       ]
      },
      {
       "output_type": "stream",
       "stream": "stdout",
       "text": [
        " 1 1 age :  "
       ]
      },
      {
       "output_type": "stream",
       "stream": "stdout",
       "text": [
        "27\n",
        "(1, 10) \n",
        "\n",
        "4483067"
       ]
      },
      {
       "output_type": "stream",
       "stream": "stdout",
       "text": [
        " 2 2 age :  "
       ]
      },
      {
       "output_type": "stream",
       "stream": "stdout",
       "text": [
        "10\n",
        "(2, 10) \n",
        "\n",
        "1636491"
       ]
      },
      {
       "output_type": "stream",
       "stream": "stdout",
       "text": [
        " 2 2 age :  "
       ]
      },
      {
       "output_type": "stream",
       "stream": "stdout",
       "text": [
        "20\n",
        "(3, 10) \n",
        "\n",
        "4922360"
       ]
      },
      {
       "output_type": "stream",
       "stream": "stdout",
       "text": [
        " 1 2 age :  "
       ]
      },
      {
       "output_type": "stream",
       "stream": "stdout",
       "text": [
        "20\n",
        "(3, 11) \n",
        "\n",
        "1698866"
       ]
      },
      {
       "output_type": "stream",
       "stream": "stdout",
       "text": [
        " 1 2 age :  "
       ]
      },
      {
       "output_type": "stream",
       "stream": "stdout",
       "text": [
        "30\n",
        "(3, 12) \n",
        "\n",
        "1683828"
       ]
      },
      {
       "output_type": "stream",
       "stream": "stdout",
       "text": [
        " 1 1 age :  "
       ]
      },
      {
       "output_type": "stream",
       "stream": "stdout",
       "text": [
        "20\n",
        "(4, 12) \n",
        "\n",
        "3307436"
       ]
      },
      {
       "output_type": "stream",
       "stream": "stdout",
       "text": [
        " 1 2 age :  "
       ]
      },
      {
       "output_type": "stream",
       "stream": "stdout",
       "text": [
        "30\n",
        "(4, 13) \n",
        "\n",
        "1705323"
       ]
      },
      {
       "output_type": "stream",
       "stream": "stdout",
       "text": [
        " 1 2 age :  "
       ]
      },
      {
       "output_type": "stream",
       "stream": "stdout",
       "text": [
        "10\n",
        "(4, 14) \n",
        "\n",
        "2752101"
       ]
      },
      {
       "output_type": "stream",
       "stream": "stdout",
       "text": [
        " 1 2 age :  "
       ]
      },
      {
       "output_type": "stream",
       "stream": "stdout",
       "text": [
        "10\n",
        "(4, 15) \n",
        "\n",
        "1032024"
       ]
      },
      {
       "output_type": "stream",
       "stream": "stdout",
       "text": [
        " 2 1 age :  "
       ]
      },
      {
       "output_type": "stream",
       "stream": "stdout",
       "text": [
        "30\n",
        "(4, 16) \n",
        "\n",
        "3177460"
       ]
      },
      {
       "output_type": "stream",
       "stream": "stdout",
       "text": [
        " 2 2 age :  "
       ]
      },
      {
       "output_type": "stream",
       "stream": "stdout",
       "text": [
        "30\n",
        "(5, 16) \n",
        "\n",
        "3997775"
       ]
      },
      {
       "output_type": "stream",
       "stream": "stdout",
       "text": [
        " 1 2 age :  "
       ]
      },
      {
       "output_type": "stream",
       "stream": "stdout",
       "text": [
        "30\n",
        "(5, 17) \n",
        "\n",
        "4930479"
       ]
      },
      {
       "output_type": "stream",
       "stream": "stdout",
       "text": [
        " 1 2 age :  "
       ]
      },
      {
       "output_type": "stream",
       "stream": "stdout",
       "text": [
        "22\n",
        "(5, 18) \n",
        "\n",
        "4614699"
       ]
      },
      {
       "output_type": "stream",
       "stream": "stdout",
       "text": [
        " 2 2 age :  "
       ]
      },
      {
       "output_type": "stream",
       "stream": "stdout",
       "text": [
        "19\n",
        "(6, 18) \n",
        "\n",
        "4153828"
       ]
      },
      {
       "output_type": "stream",
       "stream": "stdout",
       "text": [
        " 1 2 age :  "
       ]
      },
      {
       "output_type": "stream",
       "stream": "stdout",
       "text": [
        "32\n",
        "(6, 19) \n",
        "\n",
        "2055094"
       ]
      },
      {
       "output_type": "stream",
       "stream": "stdout",
       "text": [
        " 1 1 age :  "
       ]
      },
      {
       "output_type": "stream",
       "stream": "stdout",
       "text": [
        "60\n",
        "(7, 19) \n",
        "\n",
        "2073576"
       ]
      },
      {
       "output_type": "stream",
       "stream": "stdout",
       "text": [
        " 1 2 age :  "
       ]
      },
      {
       "output_type": "stream",
       "stream": "stdout",
       "text": [
        "30\n",
        "(7, 20) \n",
        "\n",
        "2271780"
       ]
      },
      {
       "output_type": "stream",
       "stream": "stdout",
       "text": [
        " 2 1 age :  "
       ]
      },
      {
       "output_type": "stream",
       "stream": "stdout",
       "text": [
        "20\n",
        "(7, 21) \n",
        "\n",
        "3168552"
       ]
      },
      {
       "output_type": "stream",
       "stream": "stdout",
       "text": [
        " 2 2 age :  "
       ]
      },
      {
       "output_type": "stream",
       "stream": "stdout",
       "text": [
        "38\n",
        "(8, 21) \n",
        "\n",
        "2390517"
       ]
      },
      {
       "output_type": "stream",
       "stream": "stdout",
       "text": [
        " 2 2 age :  "
       ]
      },
      {
       "output_type": "stream",
       "stream": "stdout",
       "text": [
        "10\n",
        "(9, 21) \n",
        "\n",
        "5015831"
       ]
      },
      {
       "output_type": "stream",
       "stream": "stdout",
       "text": [
        " 1 2 age :  "
       ]
      },
      {
       "output_type": "stream",
       "stream": "stdout",
       "text": [
        "20\n",
        "(9, 22) \n",
        "\n",
        "3869896"
       ]
      },
      {
       "output_type": "stream",
       "stream": "stdout",
       "text": [
        " 1 2 age :  "
       ]
      },
      {
       "output_type": "stream",
       "stream": "stdout",
       "text": [
        "10\n",
        "(9, 23) \n",
        "\n",
        "2070225"
       ]
      },
      {
       "output_type": "stream",
       "stream": "stdout",
       "text": [
        " 1 2 age :  "
       ]
      },
      {
       "output_type": "stream",
       "stream": "stdout",
       "text": [
        "10\n",
        "(9, 24) \n",
        "\n",
        "307779"
       ]
      },
      {
       "output_type": "stream",
       "stream": "stdout",
       "text": [
        " 1 2 age :  "
       ]
      },
      {
       "output_type": "stream",
       "stream": "stdout",
       "text": [
        "10\n",
        "(9, 25) \n",
        "\n",
        "3519381"
       ]
      },
      {
       "output_type": "stream",
       "stream": "stdout",
       "text": [
        " 2 2 age :  "
       ]
      },
      {
       "output_type": "stream",
       "stream": "stdout",
       "text": [
        "10\n",
        "(10, 25) \n",
        "\n",
        "3138934"
       ]
      },
      {
       "output_type": "stream",
       "stream": "stdout",
       "text": [
        " 1 2 age :  "
       ]
      },
      {
       "output_type": "stream",
       "stream": "stdout",
       "text": [
        "10\n",
        "(10, 26) \n",
        "\n",
        "3920447"
       ]
      },
      {
       "output_type": "stream",
       "stream": "stdout",
       "text": [
        " 1 2 age :  "
       ]
      },
      {
       "output_type": "stream",
       "stream": "stdout",
       "text": [
        "10\n",
        "(10, 27) \n",
        "\n",
        "2447203"
       ]
      },
      {
       "output_type": "stream",
       "stream": "stdout",
       "text": [
        " 1 2 age :  "
       ]
      },
      {
       "output_type": "stream",
       "stream": "stdout",
       "text": [
        "30\n",
        "(10, 28) \n",
        "\n",
        "1791918"
       ]
      },
      {
       "output_type": "stream",
       "stream": "stdout",
       "text": [
        " 2 1 age :  "
       ]
      },
      {
       "output_type": "stream",
       "stream": "stdout",
       "text": [
        "20\n",
        "(10, 29) \n",
        "\n",
        "2223817"
       ]
      },
      {
       "output_type": "stream",
       "stream": "stdout",
       "text": [
        " 2 1 age :  "
       ]
      },
      {
       "output_type": "stream",
       "stream": "stdout",
       "text": [
        "20\n",
        "(10, 30) \n",
        "\n",
        "3816149"
       ]
      },
      {
       "output_type": "stream",
       "stream": "stdout",
       "text": [
        " 2 1 age :  "
       ]
      },
      {
       "output_type": "stream",
       "stream": "stdout",
       "text": [
        "10\n",
        "(10, 31) \n",
        "\n",
        "2100432"
       ]
      },
      {
       "output_type": "stream",
       "stream": "stdout",
       "text": [
        " 1 2 age :  "
       ]
      },
      {
       "output_type": "stream",
       "stream": "stdout",
       "text": [
        "30\n",
        "(10, 32) \n",
        "\n",
        "3945894"
       ]
      },
      {
       "output_type": "stream",
       "stream": "stdout",
       "text": [
        " 1 2 age :  "
       ]
      },
      {
       "output_type": "stream",
       "stream": "stdout",
       "text": [
        "30\n",
        "(10, 33) \n",
        "\n",
        "1666995"
       ]
      },
      {
       "output_type": "stream",
       "stream": "stdout",
       "text": [
        " 2 1 age :  "
       ]
      },
      {
       "output_type": "stream",
       "stream": "stdout",
       "text": [
        "30\n",
        "(10, 34) \n",
        "\n",
        "4726870"
       ]
      },
      {
       "output_type": "stream",
       "stream": "stdout",
       "text": [
        " 1 2 age :  "
       ]
      },
      {
       "output_type": "stream",
       "stream": "stdout",
       "text": [
        "22\n",
        "(10, 35) \n",
        "\n",
        "4594463"
       ]
      },
      {
       "output_type": "stream",
       "stream": "stdout",
       "text": [
        " 1 1 age :  "
       ]
      },
      {
       "output_type": "stream",
       "stream": "stdout",
       "text": [
        "27\n",
        "(11, 35) \n",
        "\n",
        "5009600"
       ]
      },
      {
       "output_type": "stream",
       "stream": "stdout",
       "text": [
        " 1 2 age :  "
       ]
      },
      {
       "output_type": "stream",
       "stream": "stdout",
       "text": [
        "10\n",
        "(11, 36) \n",
        "\n",
        "2372614"
       ]
      },
      {
       "output_type": "stream",
       "stream": "stdout",
       "text": [
        " 2 1 age :  "
       ]
      },
      {
       "output_type": "stream",
       "stream": "stdout",
       "text": [
        "20\n",
        "(11, 37) \n",
        "\n",
        "3620961"
       ]
      },
      {
       "output_type": "stream",
       "stream": "stdout",
       "text": [
        " 1 2 age :  "
       ]
      },
      {
       "output_type": "stream",
       "stream": "stdout",
       "text": [
        "30\n",
        "(11, 38) \n",
        "\n",
        "4658223"
       ]
      },
      {
       "output_type": "stream",
       "stream": "stdout",
       "text": [
        " 1 2 age :  "
       ]
      },
      {
       "output_type": "stream",
       "stream": "stdout",
       "text": [
        "10\n",
        "(11, 39) \n",
        "\n",
        "2285571"
       ]
      },
      {
       "output_type": "stream",
       "stream": "stdout",
       "text": [
        " 1 2 age :  "
       ]
      },
      {
       "output_type": "stream",
       "stream": "stdout",
       "text": [
        "22\n",
        "(11, 40) \n",
        "\n",
        "1536789"
       ]
      },
      {
       "output_type": "stream",
       "stream": "stdout",
       "text": [
        " 1 2 age :  "
       ]
      },
      {
       "output_type": "stream",
       "stream": "stdout",
       "text": [
        "30\n",
        "(11, 41) \n",
        "\n",
        "3307558"
       ]
      },
      {
       "output_type": "stream",
       "stream": "stdout",
       "text": [
        " 1 2 age :  "
       ]
      },
      {
       "output_type": "stream",
       "stream": "stdout",
       "text": [
        "30\n",
        "(11, 42) \n",
        "\n",
        "5318570"
       ]
      },
      {
       "output_type": "stream",
       "stream": "stdout",
       "text": [
        " 1 2 age :  "
       ]
      },
      {
       "output_type": "stream",
       "stream": "stdout",
       "text": [
        "20\n",
        "(11, 43) \n",
        "\n",
        "1765198"
       ]
      },
      {
       "output_type": "stream",
       "stream": "stdout",
       "text": [
        " 1 2 age :  "
       ]
      },
      {
       "output_type": "stream",
       "stream": "stdout",
       "text": [
        "10\n",
        "(11, 44) \n",
        "\n",
        "3732095"
       ]
      },
      {
       "output_type": "stream",
       "stream": "stdout",
       "text": [
        " 2 2 age :  "
       ]
      },
      {
       "output_type": "stream",
       "stream": "stdout",
       "text": [
        "20\n",
        "(12, 44) \n",
        "\n",
        "5200150"
       ]
      },
      {
       "output_type": "stream",
       "stream": "stdout",
       "text": [
        " 1 2 age :  "
       ]
      },
      {
       "output_type": "stream",
       "stream": "stdout",
       "text": [
        "10\n",
        "(12, 45) \n",
        "\n",
        "3233619"
       ]
      },
      {
       "output_type": "stream",
       "stream": "stdout",
       "text": [
        " 2 2 age :  "
       ]
      },
      {
       "output_type": "stream",
       "stream": "stdout",
       "text": [
        "20\n",
        "(13, 45) \n",
        "\n",
        "4601753"
       ]
      },
      {
       "output_type": "stream",
       "stream": "stdout",
       "text": [
        " 1 2 age :  "
       ]
      },
      {
       "output_type": "stream",
       "stream": "stdout",
       "text": [
        "30\n",
        "(13, 46) \n",
        "\n",
        "3244994"
       ]
      },
      {
       "output_type": "stream",
       "stream": "stdout",
       "text": [
        " 1 1 age :  "
       ]
      },
      {
       "output_type": "stream",
       "stream": "stdout",
       "text": [
        "10\n",
        "(14, 46) \n",
        "\n",
        "2041974"
       ]
      },
      {
       "output_type": "stream",
       "stream": "stdout",
       "text": [
        " 1 2 age :  "
       ]
      },
      {
       "output_type": "stream",
       "stream": "stdout",
       "text": [
        "10\n",
        "(14, 47) \n",
        "\n",
        "2201774"
       ]
      },
      {
       "output_type": "stream",
       "stream": "stdout",
       "text": [
        " 2 1 age :  "
       ]
      },
      {
       "output_type": "stream",
       "stream": "stdout",
       "text": [
        "10\n",
        "(14, 48) \n",
        "\n",
        "5032657"
       ]
      },
      {
       "output_type": "stream",
       "stream": "stdout",
       "text": [
        " 1 2 age :  "
       ]
      },
      {
       "output_type": "stream",
       "stream": "stdout",
       "text": [
        "20\n",
        "(14, 49) \n",
        "\n",
        "3553018"
       ]
      },
      {
       "output_type": "stream",
       "stream": "stdout",
       "text": [
        " 1 2 age :  "
       ]
      },
      {
       "output_type": "stream",
       "stream": "stdout",
       "text": [
        "10\n",
        "(14, 50) \n",
        "\n",
        "1699752"
       ]
      },
      {
       "output_type": "stream",
       "stream": "stdout",
       "text": [
        " 1 2 age :  "
       ]
      },
      {
       "output_type": "stream",
       "stream": "stdout",
       "text": [
        "10\n",
        "(14, 51) \n",
        "\n",
        "3767892"
       ]
      },
      {
       "output_type": "stream",
       "stream": "stdout",
       "text": [
        " 1 2 age :  "
       ]
      },
      {
       "output_type": "stream",
       "stream": "stdout",
       "text": [
        "20\n",
        "(14, 52) \n",
        "\n",
        "2072170"
       ]
      },
      {
       "output_type": "stream",
       "stream": "stdout",
       "text": [
        " 1 2 age :  "
       ]
      },
      {
       "output_type": "stream",
       "stream": "stdout",
       "text": [
        "12\n",
        "(14, 53) \n",
        "\n",
        "2149363"
       ]
      },
      {
       "output_type": "stream",
       "stream": "stdout",
       "text": [
        " 1 2 age :  "
       ]
      },
      {
       "output_type": "stream",
       "stream": "stdout",
       "text": [
        "20\n",
        "(14, 54) \n",
        "\n",
        "1710441"
       ]
      },
      {
       "output_type": "stream",
       "stream": "stdout",
       "text": [
        " 1 2 age :  "
       ]
      },
      {
       "output_type": "stream",
       "stream": "stdout",
       "text": [
        "10\n",
        "(14, 55) \n",
        "\n",
        "2545374"
       ]
      },
      {
       "output_type": "stream",
       "stream": "stdout",
       "text": [
        " 2 1 age :  "
       ]
      },
      {
       "output_type": "stream",
       "stream": "stdout",
       "text": [
        "30\n",
        "(14, 56) \n",
        "\n",
        "3879654"
       ]
      },
      {
       "output_type": "stream",
       "stream": "stdout",
       "text": [
        " 1 2 age :  "
       ]
      },
      {
       "output_type": "stream",
       "stream": "stdout",
       "text": [
        "15\n",
        "(14, 57) \n",
        "\n",
        "3810465"
       ]
      },
      {
       "output_type": "stream",
       "stream": "stdout",
       "text": [
        " 1 2 age :  "
       ]
      },
      {
       "output_type": "stream",
       "stream": "stdout",
       "text": [
        "20\n",
        "(14, 58) \n",
        "\n",
        "3469627"
       ]
      },
      {
       "output_type": "stream",
       "stream": "stdout",
       "text": [
        " 2 2 age :  "
       ]
      },
      {
       "output_type": "stream",
       "stream": "stdout",
       "text": [
        "10\n",
        "(15, 58) \n",
        "\n",
        "1618252"
       ]
      },
      {
       "output_type": "stream",
       "stream": "stdout",
       "text": [
        " 2 1 age :  "
       ]
      },
      {
       "output_type": "stream",
       "stream": "stdout",
       "text": [
        "10\n",
        "(15, 59) \n",
        "\n",
        "2009464"
       ]
      },
      {
       "output_type": "stream",
       "stream": "stdout",
       "text": [
        " 1 2 age :  "
       ]
      },
      {
       "output_type": "stream",
       "stream": "stdout",
       "text": [
        "10\n",
        "(15, 60) \n",
        "\n",
        "3191663"
       ]
      },
      {
       "output_type": "stream",
       "stream": "stdout",
       "text": [
        " 2 2 age :  "
       ]
      },
      {
       "output_type": "stream",
       "stream": "stdout",
       "text": [
        "20\n",
        "(16, 60) \n",
        "\n",
        "3988772"
       ]
      },
      {
       "output_type": "stream",
       "stream": "stdout",
       "text": [
        " 1 2 age :  "
       ]
      },
      {
       "output_type": "stream",
       "stream": "stdout",
       "text": [
        "20\n",
        "(16, 61) \n",
        "\n",
        "3552531"
       ]
      },
      {
       "output_type": "stream",
       "stream": "stdout",
       "text": [
        " 1 2 age :  "
       ]
      },
      {
       "output_type": "stream",
       "stream": "stdout",
       "text": [
        "10\n",
        "(16, 62) \n",
        "\n",
        "2901921"
       ]
      },
      {
       "output_type": "stream",
       "stream": "stdout",
       "text": [
        " 1 2 age :  "
       ]
      },
      {
       "output_type": "stream",
       "stream": "stdout",
       "text": [
        "20\n",
        "(16, 63) \n",
        "\n",
        "1827850"
       ]
      },
      {
       "output_type": "stream",
       "stream": "stdout",
       "text": [
        " 1 2 age :  "
       ]
      },
      {
       "output_type": "stream",
       "stream": "stdout",
       "text": [
        "22\n",
        "(16, 64) \n",
        "\n",
        "4829528"
       ]
      },
      {
       "output_type": "stream",
       "stream": "stdout",
       "text": [
        " 1 1 age :  "
       ]
      },
      {
       "output_type": "stream",
       "stream": "stdout",
       "text": [
        "10\n",
        "(17, 64) \n",
        "\n",
        "4777872"
       ]
      },
      {
       "output_type": "stream",
       "stream": "stdout",
       "text": [
        " 2 1 age :  "
       ]
      },
      {
       "output_type": "stream",
       "stream": "stdout",
       "text": [
        "20\n",
        "(17, 65) \n",
        "\n",
        "5585209"
       ]
      },
      {
       "output_type": "stream",
       "stream": "stdout",
       "text": [
        " 2 2 age :  "
       ]
      },
      {
       "output_type": "stream",
       "stream": "stdout",
       "text": [
        "10\n",
        "(18, 65) \n",
        "\n",
        "4683669"
       ]
      },
      {
       "output_type": "stream",
       "stream": "stdout",
       "text": [
        " 1 2 age :  "
       ]
      },
      {
       "output_type": "stream",
       "stream": "stdout",
       "text": [
        "10\n",
        "(18, 66) \n",
        "\n",
        "3744613"
       ]
      },
      {
       "output_type": "stream",
       "stream": "stdout",
       "text": [
        " 1 2 age :  "
       ]
      },
      {
       "output_type": "stream",
       "stream": "stdout",
       "text": [
        "10\n",
        "(18, 67) \n",
        "\n",
        "3107027"
       ]
      },
      {
       "output_type": "stream",
       "stream": "stdout",
       "text": [
        " 1 1 age :  "
       ]
      },
      {
       "output_type": "stream",
       "stream": "stdout",
       "text": [
        "10\n",
        "(19, 67) \n",
        "\n",
        "2444345"
       ]
      },
      {
       "output_type": "stream",
       "stream": "stdout",
       "text": [
        " 2 2 age :  "
       ]
      },
      {
       "output_type": "stream",
       "stream": "stdout",
       "text": [
        "20\n",
        "(20, 67) \n",
        "\n",
        "1861411"
       ]
      },
      {
       "output_type": "stream",
       "stream": "stdout",
       "text": [
        " 1 2 age :  "
       ]
      },
      {
       "output_type": "stream",
       "stream": "stdout",
       "text": [
        "20\n",
        "(20, 68) \n",
        "\n",
        "1831687"
       ]
      },
      {
       "output_type": "stream",
       "stream": "stdout",
       "text": [
        " 1 2 age :  "
       ]
      },
      {
       "output_type": "stream",
       "stream": "stdout",
       "text": [
        "10\n",
        "(20, 69) \n",
        "\n",
        "2907027"
       ]
      },
      {
       "output_type": "stream",
       "stream": "stdout",
       "text": [
        " 2 2 age :  "
       ]
      },
      {
       "output_type": "stream",
       "stream": "stdout",
       "text": [
        "20\n",
        "(21, 69) \n",
        "\n",
        "2106512"
       ]
      },
      {
       "output_type": "stream",
       "stream": "stdout",
       "text": [
        " 1 2 age :  "
       ]
      },
      {
       "output_type": "stream",
       "stream": "stdout",
       "text": [
        "40\n",
        "(21, 70) \n",
        "\n",
        "4038393"
       ]
      },
      {
       "output_type": "stream",
       "stream": "stdout",
       "text": [
        " 2 1 age :  "
       ]
      },
      {
       "output_type": "stream",
       "stream": "stdout",
       "text": [
        "15\n",
        "(21, 71) \n",
        "\n",
        "3572112"
       ]
      },
      {
       "output_type": "stream",
       "stream": "stdout",
       "text": [
        " 1 2 age :  "
       ]
      },
      {
       "output_type": "stream",
       "stream": "stdout",
       "text": [
        "20\n",
        "(21, 72) \n",
        "\n",
        "3146010"
       ]
      },
      {
       "output_type": "stream",
       "stream": "stdout",
       "text": [
        " 1 2 age :  "
       ]
      },
      {
       "output_type": "stream",
       "stream": "stdout",
       "text": [
        "10\n",
        "(21, 73) \n",
        "\n",
        "3646178"
       ]
      },
      {
       "output_type": "stream",
       "stream": "stdout",
       "text": [
        " 2 2 age :  "
       ]
      },
      {
       "output_type": "stream",
       "stream": "stdout",
       "text": [
        "10\n",
        "(22, 73) \n",
        "\n",
        "1711591"
       ]
      },
      {
       "output_type": "stream",
       "stream": "stdout",
       "text": [
        " 2 1 age :  "
       ]
      },
      {
       "output_type": "stream",
       "stream": "stdout",
       "text": [
        "10\n",
        "(22, 74) \n",
        "\n",
        "2969811"
       ]
      },
      {
       "output_type": "stream",
       "stream": "stdout",
       "text": [
        " 1 2 age :  "
       ]
      },
      {
       "output_type": "stream",
       "stream": "stdout",
       "text": [
        "10\n",
        "(22, 75) \n",
        "\n",
        "1723881"
       ]
      },
      {
       "output_type": "stream",
       "stream": "stdout",
       "text": [
        " 2 2 age :  "
       ]
      },
      {
       "output_type": "stream",
       "stream": "stdout",
       "text": [
        "20\n",
        "(23, 75) \n",
        "\n",
        "3028363"
       ]
      },
      {
       "output_type": "stream",
       "stream": "stdout",
       "text": [
        " 2 1 age :  "
       ]
      },
      {
       "output_type": "stream",
       "stream": "stdout",
       "text": [
        "10\n",
        "(23, 76) \n",
        "\n",
        "3593576"
       ]
      },
      {
       "output_type": "stream",
       "stream": "stdout",
       "text": [
        " 2 2 age :  "
       ]
      },
      {
       "output_type": "stream",
       "stream": "stdout",
       "text": [
        "35\n",
        "(24, 76) \n",
        "\n",
        "3557066"
       ]
      },
      {
       "output_type": "stream",
       "stream": "stdout",
       "text": [
        " 1 2 age :  "
       ]
      },
      {
       "output_type": "stream",
       "stream": "stdout",
       "text": [
        "10\n",
        "(24, 77) \n",
        "\n",
        "1825575"
       ]
      },
      {
       "output_type": "stream",
       "stream": "stdout",
       "text": [
        " 1 2 age :  "
       ]
      },
      {
       "output_type": "stream",
       "stream": "stdout",
       "text": [
        "10\n",
        "(24, 78) \n",
        "\n",
        "1717515"
       ]
      },
      {
       "output_type": "stream",
       "stream": "stdout",
       "text": [
        " 2 2 age :  "
       ]
      },
      {
       "output_type": "stream",
       "stream": "stdout",
       "text": [
        "10\n",
        "(25, 78) \n",
        "\n",
        "3768542"
       ]
      },
      {
       "output_type": "stream",
       "stream": "stdout",
       "text": [
        " 2 1 age :  "
       ]
      },
      {
       "output_type": "stream",
       "stream": "stdout",
       "text": [
        "10\n",
        "(25, 79) \n",
        "\n",
        "5483314"
       ]
      },
      {
       "output_type": "stream",
       "stream": "stdout",
       "text": [
        " 2 2 age :  "
       ]
      },
      {
       "output_type": "stream",
       "stream": "stdout",
       "text": [
        "10\n",
        "(26, 79) \n",
        "\n",
        "2116305"
       ]
      },
      {
       "output_type": "stream",
       "stream": "stdout",
       "text": [
        " 2 1 age :  "
       ]
      },
      {
       "output_type": "stream",
       "stream": "stdout",
       "text": [
        "10\n",
        "(26, 80) \n",
        "\n",
        "1705698"
       ]
      },
      {
       "output_type": "stream",
       "stream": "stdout",
       "text": [
        " 1 1 age :  "
       ]
      },
      {
       "output_type": "stream",
       "stream": "stdout",
       "text": [
        "10\n",
        "(27, 80) \n",
        "\n",
        "1721587"
       ]
      },
      {
       "output_type": "stream",
       "stream": "stdout",
       "text": [
        " 1 2 age :  "
       ]
      },
      {
       "output_type": "stream",
       "stream": "stdout",
       "text": [
        "10\n",
        "(27, 81) \n",
        "\n",
        "2045903"
       ]
      },
      {
       "output_type": "stream",
       "stream": "stdout",
       "text": [
        " 1 2 age :  "
       ]
      },
      {
       "output_type": "stream",
       "stream": "stdout",
       "text": [
        "20\n",
        "(27, 82) \n",
        "\n",
        "1699720"
       ]
      },
      {
       "output_type": "stream",
       "stream": "stdout",
       "text": [
        " 1 2 age :  "
       ]
      },
      {
       "output_type": "stream",
       "stream": "stdout",
       "text": [
        "10\n",
        "(27, 83) \n",
        "\n",
        "4164674"
       ]
      },
      {
       "output_type": "stream",
       "stream": "stdout",
       "text": [
        " 2 1 age :  "
       ]
      },
      {
       "output_type": "stream",
       "stream": "stdout",
       "text": [
        "10\n",
        "(27, 84) \n",
        "\n",
        "2131302"
       ]
      },
      {
       "output_type": "stream",
       "stream": "stdout",
       "text": [
        " 1 2 age :  "
       ]
      },
      {
       "output_type": "stream",
       "stream": "stdout",
       "text": [
        "60\n",
        "(27, 85) \n",
        "\n",
        "3496596"
       ]
      },
      {
       "output_type": "stream",
       "stream": "stdout",
       "text": [
        " 1 2 age :  "
       ]
      },
      {
       "output_type": "stream",
       "stream": "stdout",
       "text": [
        "10\n",
        "(27, 86) \n",
        "\n",
        "2188316"
       ]
      },
      {
       "output_type": "stream",
       "stream": "stdout",
       "text": [
        " 1 2 age :  "
       ]
      },
      {
       "output_type": "stream",
       "stream": "stdout",
       "text": [
        "32\n",
        "(27, 87) \n",
        "\n",
        "3780345"
       ]
      },
      {
       "output_type": "stream",
       "stream": "stdout",
       "text": [
        " 2 1 age :  "
       ]
      },
      {
       "output_type": "stream",
       "stream": "stdout",
       "text": [
        "32\n",
        "(27, 88) \n",
        "\n",
        "1801813"
       ]
      },
      {
       "output_type": "stream",
       "stream": "stdout",
       "text": [
        " 2 2 age :  "
       ]
      },
      {
       "output_type": "stream",
       "stream": "stdout",
       "text": [
        "10\n",
        "(28, 88) \n",
        "\n",
        "1541509"
       ]
      },
      {
       "output_type": "stream",
       "stream": "stdout",
       "text": [
        " 1 2 age :  "
       ]
      },
      {
       "output_type": "stream",
       "stream": "stdout",
       "text": [
        "22\n",
        "(28, 89) \n",
        "\n",
        "4309922"
       ]
      },
      {
       "output_type": "stream",
       "stream": "stdout",
       "text": [
        " 1 2 age :  "
       ]
      },
      {
       "output_type": "stream",
       "stream": "stdout",
       "text": [
        "10\n",
        "(28, 90) \n",
        "\n",
        "3758647"
       ]
      },
      {
       "output_type": "stream",
       "stream": "stdout",
       "text": [
        " 1 1 age :  "
       ]
      },
      {
       "output_type": "stream",
       "stream": "stdout",
       "text": [
        "10\n",
        "(29, 90) \n",
        "\n",
        "3227312"
       ]
      },
      {
       "output_type": "stream",
       "stream": "stdout",
       "text": [
        " 2 2 age :  "
       ]
      },
      {
       "output_type": "stream",
       "stream": "stdout",
       "text": [
        "20\n",
        "(30, 90) \n",
        "\n",
        "1656112"
       ]
      },
      {
       "output_type": "stream",
       "stream": "stdout",
       "text": [
        " 1 2 age :  "
       ]
      },
      {
       "output_type": "stream",
       "stream": "stdout",
       "text": [
        "30\n",
        "(30, 91) \n",
        "\n",
        "3870738"
       ]
      },
      {
       "output_type": "stream",
       "stream": "stdout",
       "text": [
        " 2 2 age :  "
       ]
      },
      {
       "output_type": "stream",
       "stream": "stdout",
       "text": [
        "20\n",
        "(31, 91) \n",
        "\n",
        "4738169"
       ]
      },
      {
       "output_type": "stream",
       "stream": "stdout",
       "text": [
        " 1 2 age :  "
       ]
      },
      {
       "output_type": "stream",
       "stream": "stdout",
       "text": [
        "20\n",
        "(31, 92) \n",
        "\n",
        "1967757"
       ]
      },
      {
       "output_type": "stream",
       "stream": "stdout",
       "text": [
        " 2 1 age :  "
       ]
      },
      {
       "output_type": "stream",
       "stream": "stdout",
       "text": [
        "10\n",
        "(31, 93) \n",
        "\n",
        "1820309"
       ]
      },
      {
       "output_type": "stream",
       "stream": "stdout",
       "text": [
        " 2 2 age :  "
       ]
      },
      {
       "output_type": "stream",
       "stream": "stdout",
       "text": [
        "10\n",
        "(32, 93) \n",
        "\n",
        "4837984"
       ]
      },
      {
       "output_type": "stream",
       "stream": "stdout",
       "text": [
        " 2 1 age :  "
       ]
      },
      {
       "output_type": "stream",
       "stream": "stdout",
       "text": [
        "15\n",
        "(32, 94) \n",
        "\n",
        "3499767"
       ]
      },
      {
       "output_type": "stream",
       "stream": "stdout",
       "text": [
        " 1 2 age :  "
       ]
      },
      {
       "output_type": "stream",
       "stream": "stdout",
       "text": [
        "18\n",
        "(32, 95) \n",
        "\n",
        "1778230"
       ]
      },
      {
       "output_type": "stream",
       "stream": "stdout",
       "text": [
        " 2 2 age :  "
       ]
      },
      {
       "output_type": "stream",
       "stream": "stdout",
       "text": [
        "10\n",
        "(33, 95) \n",
        "\n",
        "1956099"
       ]
      },
      {
       "output_type": "stream",
       "stream": "stdout",
       "text": [
        " 2 1 age :  "
       ]
      },
      {
       "output_type": "stream",
       "stream": "stdout",
       "text": [
        "20\n",
        "(33, 96) \n",
        "\n",
        "1904271"
       ]
      },
      {
       "output_type": "stream",
       "stream": "stdout",
       "text": [
        " 2 2 age :  "
       ]
      },
      {
       "output_type": "stream",
       "stream": "stdout",
       "text": [
        "29\n",
        "(34, 96) \n",
        "\n",
        "4111935"
       ]
      },
      {
       "output_type": "stream",
       "stream": "stdout",
       "text": [
        " 1 2 age :  "
       ]
      },
      {
       "output_type": "stream",
       "stream": "stdout",
       "text": [
        "30\n",
        "(34, 97) \n",
        "\n",
        "5483202"
       ]
      },
      {
       "output_type": "stream",
       "stream": "stdout",
       "text": [
        " 1 2 age :  "
       ]
      },
      {
       "output_type": "stream",
       "stream": "stdout",
       "text": [
        "20\n",
        "(34, 98) \n",
        "\n",
        "5193749"
       ]
      },
      {
       "output_type": "stream",
       "stream": "stdout",
       "text": [
        " 2 1 age :  "
       ]
      },
      {
       "output_type": "stream",
       "stream": "stdout",
       "text": [
        "15\n",
        "(34, 99) \n",
        "\n",
        "3657347"
       ]
      },
      {
       "output_type": "stream",
       "stream": "stdout",
       "text": [
        " 1 2 age :  "
       ]
      },
      {
       "output_type": "stream",
       "stream": "stdout",
       "text": [
        "22\n",
        "(34, 100) \n",
        "\n",
        "1932673"
       ]
      },
      {
       "output_type": "stream",
       "stream": "stdout",
       "text": [
        " 2 2 age :  "
       ]
      },
      {
       "output_type": "stream",
       "stream": "stdout",
       "text": [
        "10\n",
        "(35, 100) \n",
        "\n",
        "3809311"
       ]
      },
      {
       "output_type": "stream",
       "stream": "stdout",
       "text": [
        " 1 2 age :  "
       ]
      },
      {
       "output_type": "stream",
       "stream": "stdout",
       "text": [
        "10\n",
        "(35, 101) \n",
        "\n",
        "1683128"
       ]
      },
      {
       "output_type": "stream",
       "stream": "stdout",
       "text": [
        " 1 2 age :  "
       ]
      },
      {
       "output_type": "stream",
       "stream": "stdout",
       "text": [
        "10\n",
        "(35, 102) \n",
        "\n",
        "1656205"
       ]
      },
      {
       "output_type": "stream",
       "stream": "stdout",
       "text": [
        " 2 1 age :  "
       ]
      },
      {
       "output_type": "stream",
       "stream": "stdout",
       "text": [
        "10\n",
        "(35, 103) \n",
        "\n",
        "1735792"
       ]
      },
      {
       "output_type": "stream",
       "stream": "stdout",
       "text": [
        " 1 2 age :  "
       ]
      },
      {
       "output_type": "stream",
       "stream": "stdout",
       "text": [
        "10\n",
        "(35, 104) \n",
        "\n",
        "4658972"
       ]
      },
      {
       "output_type": "stream",
       "stream": "stdout",
       "text": [
        " 1 2 age :  "
       ]
      },
      {
       "output_type": "stream",
       "stream": "stdout",
       "text": [
        "20\n",
        "(35, 105) \n",
        "\n",
        "1475559"
       ]
      },
      {
       "output_type": "stream",
       "stream": "stdout",
       "text": [
        " 1 2 age :  "
       ]
      },
      {
       "output_type": "stream",
       "stream": "stdout",
       "text": [
        "10\n",
        "(35, 106) \n",
        "\n",
        "1706718"
       ]
      },
      {
       "output_type": "stream",
       "stream": "stdout",
       "text": [
        " 1 2 age :  "
       ]
      },
      {
       "output_type": "stream",
       "stream": "stdout",
       "text": [
        "20\n",
        "(35, 107) \n",
        "\n",
        "2157018"
       ]
      },
      {
       "output_type": "stream",
       "stream": "stdout",
       "text": [
        " 1 1 age :  "
       ]
      },
      {
       "output_type": "stream",
       "stream": "stdout",
       "text": [
        "15\n",
        "(36, 107) \n",
        "\n",
        "1687826"
       ]
      },
      {
       "output_type": "stream",
       "stream": "stdout",
       "text": [
        " 1 2 age :  "
       ]
      },
      {
       "output_type": "stream",
       "stream": "stdout",
       "text": [
        "10\n",
        "(36, 108) \n",
        "\n",
        "2992573"
       ]
      },
      {
       "output_type": "stream",
       "stream": "stdout",
       "text": [
        " 1 2 age :  "
       ]
      },
      {
       "output_type": "stream",
       "stream": "stdout",
       "text": [
        "12\n",
        "(36, 109) \n",
        "\n",
        "4790926"
       ]
      },
      {
       "output_type": "stream",
       "stream": "stdout",
       "text": [
        " 1 2 age :  "
       ]
      },
      {
       "output_type": "stream",
       "stream": "stdout",
       "text": [
        "20\n",
        "(36, 110) \n",
        "\n",
        "4917555"
       ]
      },
      {
       "output_type": "stream",
       "stream": "stdout",
       "text": [
        " 2 2 age :  "
       ]
      },
      {
       "output_type": "stream",
       "stream": "stdout",
       "text": [
        "20\n",
        "(37, 110) \n",
        "\n",
        "596998"
       ]
      },
      {
       "output_type": "stream",
       "stream": "stdout",
       "text": [
        " 1 2 age :  "
       ]
      },
      {
       "output_type": "stream",
       "stream": "stdout",
       "text": [
        "10\n",
        "(37, 111) \n",
        "\n",
        "1894578"
       ]
      },
      {
       "output_type": "stream",
       "stream": "stdout",
       "text": [
        " 1 1 age :  "
       ]
      },
      {
       "output_type": "stream",
       "stream": "stdout",
       "text": [
        "10\n",
        "(38, 111) \n",
        "\n",
        "1732786"
       ]
      },
      {
       "output_type": "stream",
       "stream": "stdout",
       "text": [
        " 2 1 age :  "
       ]
      },
      {
       "output_type": "stream",
       "stream": "stdout",
       "text": [
        "20\n",
        "(38, 112) \n",
        "\n",
        "2263079"
       ]
      },
      {
       "output_type": "stream",
       "stream": "stdout",
       "text": [
        " 1 2 age :  "
       ]
      },
      {
       "output_type": "stream",
       "stream": "stdout",
       "text": [
        "10\n",
        "(38, 113) \n",
        "\n",
        "5204904"
       ]
      },
      {
       "output_type": "stream",
       "stream": "stdout",
       "text": [
        " 1 1 age :  "
       ]
      },
      {
       "output_type": "stream",
       "stream": "stdout",
       "text": [
        "20\n",
        "(39, 113) \n",
        "\n",
        "1969477"
       ]
      },
      {
       "output_type": "stream",
       "stream": "stdout",
       "text": [
        " 2 2 age :  "
       ]
      },
      {
       "output_type": "stream",
       "stream": "stdout",
       "text": [
        "20\n",
        "(40, 113) \n",
        "\n",
        "2318216"
       ]
      },
      {
       "output_type": "stream",
       "stream": "stdout",
       "text": [
        " 1 2 age :  "
       ]
      },
      {
       "output_type": "stream",
       "stream": "stdout",
       "text": [
        "20\n",
        "(40, 114) \n",
        "\n",
        "1540932"
       ]
      },
      {
       "output_type": "stream",
       "stream": "stdout",
       "text": [
        " 2 2 age :  "
       ]
      },
      {
       "output_type": "stream",
       "stream": "stdout",
       "text": [
        "18\n",
        "(41, 114) \n",
        "\n",
        "1267368"
       ]
      },
      {
       "output_type": "stream",
       "stream": "stdout",
       "text": [
        " 1 2 age :  "
       ]
      },
      {
       "output_type": "stream",
       "stream": "stdout",
       "text": [
        "10\n",
        "(41, 115) \n",
        "\n",
        "2107159"
       ]
      },
      {
       "output_type": "stream",
       "stream": "stdout",
       "text": [
        " 1 2 age :  "
       ]
      },
      {
       "output_type": "stream",
       "stream": "stdout",
       "text": [
        "20\n",
        "(41, 116) \n",
        "\n",
        "1797110"
       ]
      },
      {
       "output_type": "stream",
       "stream": "stdout",
       "text": [
        " 2 1 age :  "
       ]
      },
      {
       "output_type": "stream",
       "stream": "stdout",
       "text": [
        "10\n",
        "(41, 117) \n",
        "\n",
        "4361096"
       ]
      },
      {
       "output_type": "stream",
       "stream": "stdout",
       "text": [
        " 2 2 age :  "
       ]
      },
      {
       "output_type": "stream",
       "stream": "stdout",
       "text": [
        "20\n",
        "(42, 117) \n",
        "\n",
        "1523748"
       ]
      },
      {
       "output_type": "stream",
       "stream": "stdout",
       "text": [
        " 1 2 age :  "
       ]
      },
      {
       "output_type": "stream",
       "stream": "stdout",
       "text": [
        "10\n",
        "(42, 118) \n",
        "\n",
        "338373"
       ]
      },
      {
       "output_type": "stream",
       "stream": "stdout",
       "text": [
        " 2 1 age :  "
       ]
      },
      {
       "output_type": "stream",
       "stream": "stdout",
       "text": [
        "20\n",
        "(42, 119) \n",
        "\n",
        "2954916"
       ]
      },
      {
       "output_type": "stream",
       "stream": "stdout",
       "text": [
        " 1 2 age :  "
       ]
      },
      {
       "output_type": "stream",
       "stream": "stdout",
       "text": [
        "10\n",
        "(42, 120) \n",
        "\n",
        "3832063"
       ]
      },
      {
       "output_type": "stream",
       "stream": "stdout",
       "text": [
        " 1 2 age :  "
       ]
      },
      {
       "output_type": "stream",
       "stream": "stdout",
       "text": [
        "20\n",
        "(42, 121) \n",
        "\n",
        "3248335"
       ]
      },
      {
       "output_type": "stream",
       "stream": "stdout",
       "text": [
        " 1 2 age :  "
       ]
      },
      {
       "output_type": "stream",
       "stream": "stdout",
       "text": [
        "20\n",
        "(42, 122) \n",
        "\n",
        "5415322"
       ]
      },
      {
       "output_type": "stream",
       "stream": "stdout",
       "text": [
        " 2 2 age :  "
       ]
      },
      {
       "output_type": "stream",
       "stream": "stdout",
       "text": [
        "27\n",
        "(43, 122) \n",
        "\n",
        "5037128"
       ]
      },
      {
       "output_type": "stream",
       "stream": "stdout",
       "text": [
        " 2 1 age :  "
       ]
      },
      {
       "output_type": "stream",
       "stream": "stdout",
       "text": [
        "12\n",
        "(43, 123) \n",
        "\n",
        "1791011"
       ]
      },
      {
       "output_type": "stream",
       "stream": "stdout",
       "text": [
        " 1 2 age :  "
       ]
      },
      {
       "output_type": "stream",
       "stream": "stdout",
       "text": [
        "10\n",
        "(43, 124) \n",
        "\n",
        "2383609"
       ]
      },
      {
       "output_type": "stream",
       "stream": "stdout",
       "text": [
        " 1 2 age :  "
       ]
      },
      {
       "output_type": "stream",
       "stream": "stdout",
       "text": [
        "10\n",
        "(43, 125) \n",
        "\n",
        "1762967"
       ]
      },
      {
       "output_type": "stream",
       "stream": "stdout",
       "text": [
        " 1 2 age :  "
       ]
      },
      {
       "output_type": "stream",
       "stream": "stdout",
       "text": [
        "20\n",
        "(43, 126) \n",
        "\n",
        "1764874"
       ]
      },
      {
       "output_type": "stream",
       "stream": "stdout",
       "text": [
        " 1 2 age :  "
       ]
      },
      {
       "output_type": "stream",
       "stream": "stdout",
       "text": [
        "10\n",
        "(43, 127) \n",
        "\n",
        "3971101"
       ]
      },
      {
       "output_type": "stream",
       "stream": "stdout",
       "text": [
        " 1 2 age :  "
       ]
      },
      {
       "output_type": "stream",
       "stream": "stdout",
       "text": [
        "20\n",
        "(43, 128) \n",
        "\n",
        "1796950"
       ]
      },
      {
       "output_type": "stream",
       "stream": "stdout",
       "text": [
        " 1 2 age :  "
       ]
      },
      {
       "output_type": "stream",
       "stream": "stdout",
       "text": [
        "10\n",
        "(43, 129) \n",
        "\n",
        "3028092"
       ]
      },
      {
       "output_type": "stream",
       "stream": "stdout",
       "text": [
        " 1 2 age :  "
       ]
      },
      {
       "output_type": "stream",
       "stream": "stdout",
       "text": [
        "25\n",
        "(43, 130) \n",
        "\n",
        "2279207"
       ]
      },
      {
       "output_type": "stream",
       "stream": "stdout",
       "text": [
        " 1 2 age :  "
       ]
      },
      {
       "output_type": "stream",
       "stream": "stdout",
       "text": [
        "10\n",
        "(43, 131) \n",
        "\n",
        "2894538"
       ]
      },
      {
       "output_type": "stream",
       "stream": "stdout",
       "text": [
        " 2 1 age :  "
       ]
      },
      {
       "output_type": "stream",
       "stream": "stdout",
       "text": [
        "20\n",
        "(43, 132) \n",
        "\n",
        "2085035"
       ]
      },
      {
       "output_type": "stream",
       "stream": "stdout",
       "text": [
        " 1 2 age :  "
       ]
      },
      {
       "output_type": "stream",
       "stream": "stdout",
       "text": [
        "20\n",
        "(43, 133) \n",
        "\n",
        "3138102"
       ]
      },
      {
       "output_type": "stream",
       "stream": "stdout",
       "text": [
        " 2 1 age :  "
       ]
      },
      {
       "output_type": "stream",
       "stream": "stdout",
       "text": [
        "10\n",
        "(43, 134) \n",
        "\n",
        "1927521"
       ]
      },
      {
       "output_type": "stream",
       "stream": "stdout",
       "text": [
        " 2 1 age :  "
       ]
      },
      {
       "output_type": "stream",
       "stream": "stdout",
       "text": [
        "10\n",
        "(43, 135) \n",
        "\n",
        "3409446"
       ]
      },
      {
       "output_type": "stream",
       "stream": "stdout",
       "text": [
        " 1 2 age :  "
       ]
      },
      {
       "output_type": "stream",
       "stream": "stdout",
       "text": [
        "30\n",
        "(43, 136) \n",
        "\n",
        "2896319"
       ]
      },
      {
       "output_type": "stream",
       "stream": "stdout",
       "text": [
        " 1 2 age :  "
       ]
      },
      {
       "output_type": "stream",
       "stream": "stdout",
       "text": [
        "10\n",
        "(43, 137) \n",
        "\n",
        "3424015"
       ]
      },
      {
       "output_type": "stream",
       "stream": "stdout",
       "text": [
        " 2 1 age :  "
       ]
      },
      {
       "output_type": "stream",
       "stream": "stdout",
       "text": [
        "28\n",
        "(43, 138) \n",
        "\n",
        "3744378"
       ]
      },
      {
       "output_type": "stream",
       "stream": "stdout",
       "text": [
        " 1 2 age :  "
       ]
      },
      {
       "output_type": "stream",
       "stream": "stdout",
       "text": [
        "25\n",
        "(43, 139) \n",
        "\n",
        "2679166"
       ]
      },
      {
       "output_type": "stream",
       "stream": "stdout",
       "text": [
        " 2 1 age :  "
       ]
      },
      {
       "output_type": "stream",
       "stream": "stdout",
       "text": [
        "10\n",
        "(43, 140) \n",
        "\n",
        "4095852"
       ]
      },
      {
       "output_type": "stream",
       "stream": "stdout",
       "text": [
        " 2 1 age :  "
       ]
      },
      {
       "output_type": "stream",
       "stream": "stdout",
       "text": [
        "10\n",
        "(43, 141) \n",
        "\n",
        "3017524"
       ]
      },
      {
       "output_type": "stream",
       "stream": "stdout",
       "text": [
        " 1 2 age :  "
       ]
      },
      {
       "output_type": "stream",
       "stream": "stdout",
       "text": [
        "40\n",
        "(43, 142) \n",
        "\n",
        "4003349"
       ]
      },
      {
       "output_type": "stream",
       "stream": "stdout",
       "text": [
        " 1 2 age :  "
       ]
      },
      {
       "output_type": "stream",
       "stream": "stdout",
       "text": [
        "10\n",
        "(43, 143) \n",
        "\n",
        "2846812"
       ]
      },
      {
       "output_type": "stream",
       "stream": "stdout",
       "text": [
        " 2 2 age :  "
       ]
      },
      {
       "output_type": "stream",
       "stream": "stdout",
       "text": [
        "50\n",
        "(44, 143) \n",
        "\n",
        "1938420"
       ]
      },
      {
       "output_type": "stream",
       "stream": "stdout",
       "text": [
        " 1 2 age :  "
       ]
      },
      {
       "output_type": "stream",
       "stream": "stdout",
       "text": [
        "38\n",
        "(44, 144) \n",
        "\n",
        "3777668"
       ]
      },
      {
       "output_type": "stream",
       "stream": "stdout",
       "text": [
        " 1 1 age :  "
       ]
      },
      {
       "output_type": "stream",
       "stream": "stdout",
       "text": [
        "60\n",
        "(45, 144) \n",
        "\n",
        "1275823"
       ]
      },
      {
       "output_type": "stream",
       "stream": "stdout",
       "text": [
        " 2 1 age :  "
       ]
      },
      {
       "output_type": "stream",
       "stream": "stdout",
       "text": [
        "40\n",
        "(45, 145) \n",
        "\n",
        "1662572"
       ]
      },
      {
       "output_type": "stream",
       "stream": "stdout",
       "text": [
        " 1 2 age :  "
       ]
      },
      {
       "output_type": "stream",
       "stream": "stdout",
       "text": [
        "20\n",
        "(45, 146) \n",
        "\n",
        "1511872"
       ]
      },
      {
       "output_type": "stream",
       "stream": "stdout",
       "text": [
        " 1 2 age :  "
       ]
      },
      {
       "output_type": "stream",
       "stream": "stdout",
       "text": [
        "20\n",
        "(45, 147) \n",
        "\n",
        "3494936"
       ]
      },
      {
       "output_type": "stream",
       "stream": "stdout",
       "text": [
        " 1 2 age :  "
       ]
      },
      {
       "output_type": "stream",
       "stream": "stdout",
       "text": [
        "10\n",
        "(45, 148) \n",
        "\n",
        "4418254"
       ]
      },
      {
       "output_type": "stream",
       "stream": "stdout",
       "text": [
        " 1 1 age :  "
       ]
      },
      {
       "output_type": "stream",
       "stream": "stdout",
       "text": [
        "10\n",
        "(46, 148) \n",
        "\n",
        "2324732"
       ]
      },
      {
       "output_type": "stream",
       "stream": "stdout",
       "text": [
        " 1 2 age :  "
       ]
      },
      {
       "output_type": "stream",
       "stream": "stdout",
       "text": [
        "10\n",
        "(46, 149) \n",
        "\n",
        "5050552"
       ]
      },
      {
       "output_type": "stream",
       "stream": "stdout",
       "text": [
        " 1 2 age :  "
       ]
      },
      {
       "output_type": "stream",
       "stream": "stdout",
       "text": [
        "10\n",
        "(46, 150) \n",
        "\n",
        "4119049"
       ]
      },
      {
       "output_type": "stream",
       "stream": "stdout",
       "text": [
        " 1 2 age :  "
       ]
      },
      {
       "output_type": "stream",
       "stream": "stdout",
       "text": [
        "10\n",
        "(46, 151) \n",
        "\n",
        "4056417"
       ]
      },
      {
       "output_type": "stream",
       "stream": "stdout",
       "text": [
        " 2 1 age :  "
       ]
      },
      {
       "output_type": "stream",
       "stream": "stdout",
       "text": [
        "10\n",
        "(46, 152) \n",
        "\n",
        "1767540"
       ]
      },
      {
       "output_type": "stream",
       "stream": "stdout",
       "text": [
        " 1 2 age :  "
       ]
      },
      {
       "output_type": "stream",
       "stream": "stdout",
       "text": [
        "20\n",
        "(46, 153) \n",
        "\n",
        "1922882"
       ]
      },
      {
       "output_type": "stream",
       "stream": "stdout",
       "text": [
        " 1 2 age :  "
       ]
      },
      {
       "output_type": "stream",
       "stream": "stdout",
       "text": [
        "30\n",
        "(46, 154) \n",
        "\n",
        "1900497"
       ]
      },
      {
       "output_type": "stream",
       "stream": "stdout",
       "text": [
        " 1 2 age :  "
       ]
      },
      {
       "output_type": "stream",
       "stream": "stdout",
       "text": [
        "20\n",
        "(46, 155) \n",
        "\n",
        "2343426"
       ]
      },
      {
       "output_type": "stream",
       "stream": "stdout",
       "text": [
        " 2 2 age :  "
       ]
      },
      {
       "output_type": "stream",
       "stream": "stdout",
       "text": [
        "40\n",
        "(47, 155) \n",
        "\n",
        "4688457"
       ]
      },
      {
       "output_type": "stream",
       "stream": "stdout",
       "text": [
        " 2 1 age :  "
       ]
      },
      {
       "output_type": "stream",
       "stream": "stdout",
       "text": [
        "20\n",
        "(47, 156) \n",
        "\n",
        "1663388"
       ]
      },
      {
       "output_type": "stream",
       "stream": "stdout",
       "text": [
        " 1 2 age :  "
       ]
      },
      {
       "output_type": "stream",
       "stream": "stdout",
       "text": [
        "10\n",
        "(47, 157) \n",
        "\n",
        "4782957"
       ]
      },
      {
       "output_type": "stream",
       "stream": "stdout",
       "text": [
        " 2 2 age :  "
       ]
      },
      {
       "output_type": "stream",
       "stream": "stdout",
       "text": [
        "25\n",
        "(48, 157) \n",
        "\n",
        "1726785"
       ]
      },
      {
       "output_type": "stream",
       "stream": "stdout",
       "text": [
        " 2 2 age :  "
       ]
      },
      {
       "output_type": "stream",
       "stream": "stdout",
       "text": [
        "60\n",
        "(49, 157) \n",
        "\n",
        "4069131"
       ]
      },
      {
       "output_type": "stream",
       "stream": "stdout",
       "text": [
        " 2 2 age :  "
       ]
      },
      {
       "output_type": "stream",
       "stream": "stdout",
       "text": [
        "52\n",
        "(50, 157) \n",
        "\n",
        "4216242"
       ]
      },
      {
       "output_type": "stream",
       "stream": "stdout",
       "text": [
        " 1 2 age :  "
       ]
      },
      {
       "output_type": "stream",
       "stream": "stdout",
       "text": [
        "10\n",
        "(50, 158) \n",
        "\n",
        "3758147"
       ]
      },
      {
       "output_type": "stream",
       "stream": "stdout",
       "text": [
        " 1 2 age :  "
       ]
      },
      {
       "output_type": "stream",
       "stream": "stdout",
       "text": [
        "10\n",
        "(50, 159) \n",
        "\n",
        "2167098"
       ]
      },
      {
       "output_type": "stream",
       "stream": "stdout",
       "text": [
        " 1 2 age :  "
       ]
      },
      {
       "output_type": "stream",
       "stream": "stdout",
       "text": [
        "30\n",
        "(50, 160) \n",
        "\n",
        "4660551"
       ]
      },
      {
       "output_type": "stream",
       "stream": "stdout",
       "text": [
        " 1 1 age :  "
       ]
      },
      {
       "output_type": "stream",
       "stream": "stdout",
       "text": [
        "10\n",
        "(51, 160) \n",
        "\n",
        "4742124"
       ]
      },
      {
       "output_type": "stream",
       "stream": "stdout",
       "text": [
        " 2 1 age :  "
       ]
      },
      {
       "output_type": "stream",
       "stream": "stdout",
       "text": [
        "42\n",
        "(51, 161) \n",
        "\n",
        "1802630"
       ]
      },
      {
       "output_type": "stream",
       "stream": "stdout",
       "text": [
        " 2 2 age :  "
       ]
      },
      {
       "output_type": "stream",
       "stream": "stdout",
       "text": [
        "20\n",
        "(52, 161) \n",
        "\n",
        "4728209"
       ]
      },
      {
       "output_type": "stream",
       "stream": "stdout",
       "text": [
        " 1 2 age :  "
       ]
      },
      {
       "output_type": "stream",
       "stream": "stdout",
       "text": [
        "23\n",
        "(52, 162) \n",
        "\n",
        "2817713"
       ]
      },
      {
       "output_type": "stream",
       "stream": "stdout",
       "text": [
        " 2 2 age :  "
       ]
      },
      {
       "output_type": "stream",
       "stream": "stdout",
       "text": [
        "10\n",
        "(53, 162) \n",
        "\n",
        "1978108"
       ]
      },
      {
       "output_type": "stream",
       "stream": "stdout",
       "text": [
        " 1 2 age :  "
       ]
      },
      {
       "output_type": "stream",
       "stream": "stdout",
       "text": [
        "20\n",
        "(53, 163) \n",
        "\n",
        "1728744"
       ]
      },
      {
       "output_type": "stream",
       "stream": "stdout",
       "text": [
        " 1 2 age :  "
       ]
      },
      {
       "output_type": "stream",
       "stream": "stdout",
       "text": [
        "20\n",
        "(53, 164) \n",
        "\n",
        "1720602"
       ]
      },
      {
       "output_type": "stream",
       "stream": "stdout",
       "text": [
        " 1 2 age :  "
       ]
      },
      {
       "output_type": "stream",
       "stream": "stdout",
       "text": [
        "30\n",
        "(53, 165) \n",
        "\n",
        "1884456"
       ]
      },
      {
       "output_type": "stream",
       "stream": "stdout",
       "text": [
        " 2 2 age :  "
       ]
      },
      {
       "output_type": "stream",
       "stream": "stdout",
       "text": [
        "20\n",
        "(54, 165) \n",
        "\n",
        "3378663"
       ]
      },
      {
       "output_type": "stream",
       "stream": "stdout",
       "text": [
        " 1 2 age :  "
       ]
      },
      {
       "output_type": "stream",
       "stream": "stdout",
       "text": [
        "30\n",
        "(54, 166) \n",
        "\n",
        "3745178"
       ]
      },
      {
       "output_type": "stream",
       "stream": "stdout",
       "text": [
        " 1 2 age :  "
       ]
      },
      {
       "output_type": "stream",
       "stream": "stdout",
       "text": [
        "30\n",
        "(54, 167) \n",
        "\n",
        "3878274"
       ]
      },
      {
       "output_type": "stream",
       "stream": "stdout",
       "text": [
        " 1 2 age :  "
       ]
      },
      {
       "output_type": "stream",
       "stream": "stdout",
       "text": [
        "12\n",
        "(54, 168) \n",
        "\n",
        "3001161"
       ]
      },
      {
       "output_type": "stream",
       "stream": "stdout",
       "text": [
        " 1 2 age :  "
       ]
      },
      {
       "output_type": "stream",
       "stream": "stdout",
       "text": [
        "30\n",
        "(54, 169) \n",
        "\n",
        "4892264"
       ]
      },
      {
       "output_type": "stream",
       "stream": "stdout",
       "text": [
        " 1 2 age :  "
       ]
      },
      {
       "output_type": "stream",
       "stream": "stdout",
       "text": [
        "10\n",
        "(54, 170) \n",
        "\n",
        "1659169"
       ]
      },
      {
       "output_type": "stream",
       "stream": "stdout",
       "text": [
        " 2 2 age :  "
       ]
      },
      {
       "output_type": "stream",
       "stream": "stdout",
       "text": [
        "16\n",
        "(55, 170) \n",
        "\n",
        "4532684"
       ]
      },
      {
       "output_type": "stream",
       "stream": "stdout",
       "text": [
        " 1 2 age :  "
       ]
      },
      {
       "output_type": "stream",
       "stream": "stdout",
       "text": [
        "20\n",
        "(55, 171) \n",
        "\n",
        "2640997"
       ]
      },
      {
       "output_type": "stream",
       "stream": "stdout",
       "text": [
        " 2 2 age :  "
       ]
      },
      {
       "output_type": "stream",
       "stream": "stdout",
       "text": [
        "20\n",
        "(56, 171) \n",
        "\n",
        "3311610"
       ]
      },
      {
       "output_type": "stream",
       "stream": "stdout",
       "text": [
        " 2 2 age :  "
       ]
      },
      {
       "output_type": "stream",
       "stream": "stdout",
       "text": [
        "20\n",
        "(57, 171) \n",
        "\n",
        "4880377"
       ]
      },
      {
       "output_type": "stream",
       "stream": "stdout",
       "text": [
        " 2 2 age :  "
       ]
      },
      {
       "output_type": "stream",
       "stream": "stdout",
       "text": [
        "25\n",
        "(58, 171) \n",
        "\n",
        "5250408"
       ]
      },
      {
       "output_type": "stream",
       "stream": "stdout",
       "text": [
        " 2 1 age :  "
       ]
      },
      {
       "output_type": "stream",
       "stream": "stdout",
       "text": [
        "10\n",
        "(58, 172) \n",
        "\n",
        "4802658"
       ]
      },
      {
       "output_type": "stream",
       "stream": "stdout",
       "text": [
        " 1 1 age :  "
       ]
      },
      {
       "output_type": "stream",
       "stream": "stdout",
       "text": [
        "10\n",
        "(59, 172) \n",
        "\n",
        "3070975"
       ]
      },
      {
       "output_type": "stream",
       "stream": "stdout",
       "text": [
        " 2 2 age :  "
       ]
      },
      {
       "output_type": "stream",
       "stream": "stdout",
       "text": [
        "10\n",
        "(60, 172) \n",
        "\n",
        "1640935"
       ]
      },
      {
       "output_type": "stream",
       "stream": "stdout",
       "text": [
        " 1 2 age :  "
       ]
      },
      {
       "output_type": "stream",
       "stream": "stdout",
       "text": [
        "20\n",
        "(60, 173) \n",
        "\n",
        "1608363"
       ]
      },
      {
       "output_type": "stream",
       "stream": "stdout",
       "text": [
        " 2 2 age :  "
       ]
      },
      {
       "output_type": "stream",
       "stream": "stdout",
       "text": [
        "22\n",
        "(61, 173) \n",
        "\n",
        "2441160"
       ]
      },
      {
       "output_type": "stream",
       "stream": "stdout",
       "text": [
        " 2 1 age :  "
       ]
      },
      {
       "output_type": "stream",
       "stream": "stdout",
       "text": [
        "15\n",
        "(61, 174) \n",
        "\n",
        "4600522"
       ]
      },
      {
       "output_type": "stream",
       "stream": "stdout",
       "text": [
        " 1 2 age :  "
       ]
      },
      {
       "output_type": "stream",
       "stream": "stdout",
       "text": [
        "20\n",
        "(61, 175) \n",
        "\n",
        "1634628"
       ]
      },
      {
       "output_type": "stream",
       "stream": "stdout",
       "text": [
        " 2 2 age :  "
       ]
      },
      {
       "output_type": "stream",
       "stream": "stdout",
       "text": [
        "10\n",
        "(62, 175) \n",
        "\n",
        "4613324"
       ]
      },
      {
       "output_type": "stream",
       "stream": "stdout",
       "text": [
        " 1 2 age :  "
       ]
      },
      {
       "output_type": "stream",
       "stream": "stdout",
       "text": [
        "10\n",
        "(62, 176) \n",
        "\n",
        "1729149"
       ]
      },
      {
       "output_type": "stream",
       "stream": "stdout",
       "text": [
        " 1 2 age :  "
       ]
      },
      {
       "output_type": "stream",
       "stream": "stdout",
       "text": [
        "10\n",
        "(62, 177) \n",
        "\n",
        "3864639"
       ]
      },
      {
       "output_type": "stream",
       "stream": "stdout",
       "text": [
        " 1 2 age :  "
       ]
      },
      {
       "output_type": "stream",
       "stream": "stdout",
       "text": [
        "30\n",
        "(62, 178) \n",
        "\n",
        "1996923"
       ]
      },
      {
       "output_type": "stream",
       "stream": "stdout",
       "text": [
        " 1 2 age :  "
       ]
      },
      {
       "output_type": "stream",
       "stream": "stdout",
       "text": [
        "10\n",
        "(62, 179) \n",
        "\n",
        "4965316"
       ]
      },
      {
       "output_type": "stream",
       "stream": "stdout",
       "text": [
        " 1 2 age :  "
       ]
      },
      {
       "output_type": "stream",
       "stream": "stdout",
       "text": [
        "29\n",
        "(62, 180) \n",
        "\n",
        "2762657"
       ]
      },
      {
       "output_type": "stream",
       "stream": "stdout",
       "text": [
        " 2 2 age :  "
       ]
      },
      {
       "output_type": "stream",
       "stream": "stdout",
       "text": [
        "25\n",
        "(63, 180) \n",
        "\n",
        "2073829"
       ]
      },
      {
       "output_type": "stream",
       "stream": "stdout",
       "text": [
        " 1 2 age :  "
       ]
      },
      {
       "output_type": "stream",
       "stream": "stdout",
       "text": [
        "10\n",
        "(63, 181) \n",
        "\n",
        "935259"
       ]
      },
      {
       "output_type": "stream",
       "stream": "stdout",
       "text": [
        " 2 1 age :  "
       ]
      },
      {
       "output_type": "stream",
       "stream": "stdout",
       "text": [
        "40\n",
        "(63, 182) \n",
        "\n",
        "2989115"
       ]
      },
      {
       "output_type": "stream",
       "stream": "stdout",
       "text": [
        " 2 2 age :  "
       ]
      },
      {
       "output_type": "stream",
       "stream": "stdout",
       "text": [
        "28\n",
        "(64, 182) \n",
        "\n",
        "1551508"
       ]
      },
      {
       "output_type": "stream",
       "stream": "stdout",
       "text": [
        " 2 2 age :  "
       ]
      },
      {
       "output_type": "stream",
       "stream": "stdout",
       "text": [
        "22\n",
        "(65, 182) \n",
        "\n",
        "2522893"
       ]
      },
      {
       "output_type": "stream",
       "stream": "stdout",
       "text": [
        " 2 1 age :  "
       ]
      },
      {
       "output_type": "stream",
       "stream": "stdout",
       "text": [
        "10\n",
        "(65, 183) \n",
        "\n",
        "1864863"
       ]
      },
      {
       "output_type": "stream",
       "stream": "stdout",
       "text": [
        " 2 1 age :  "
       ]
      },
      {
       "output_type": "stream",
       "stream": "stdout",
       "text": [
        "20\n",
        "(65, 184) \n",
        "\n",
        "4545817"
       ]
      },
      {
       "output_type": "stream",
       "stream": "stdout",
       "text": [
        " 2 2 age :  "
       ]
      },
      {
       "output_type": "stream",
       "stream": "stdout",
       "text": [
        "20\n",
        "(66, 184) \n",
        "\n",
        "4403381"
       ]
      },
      {
       "output_type": "stream",
       "stream": "stdout",
       "text": [
        " 2 1 age :  "
       ]
      },
      {
       "output_type": "stream",
       "stream": "stdout",
       "text": [
        "10\n",
        "(66, 185) \n",
        "\n",
        "2050667"
       ]
      },
      {
       "output_type": "stream",
       "stream": "stdout",
       "text": [
        " 2 1 age :  "
       ]
      },
      {
       "output_type": "stream",
       "stream": "stdout",
       "text": [
        "20\n",
        "(66, 186) \n",
        "\n",
        "3866364"
       ]
      },
      {
       "output_type": "stream",
       "stream": "stdout",
       "text": [
        " 1 2 age :  "
       ]
      },
      {
       "output_type": "stream",
       "stream": "stdout",
       "text": [
        "20\n",
        "(66, 187) \n",
        "\n",
        "3310269"
       ]
      },
      {
       "output_type": "stream",
       "stream": "stdout",
       "text": [
        " 1 2 age :  "
       ]
      },
      {
       "output_type": "stream",
       "stream": "stdout",
       "text": [
        "10\n",
        "(66, 188) \n",
        "\n",
        "3663136"
       ]
      },
      {
       "output_type": "stream",
       "stream": "stdout",
       "text": [
        " 1 2 age :  "
       ]
      },
      {
       "output_type": "stream",
       "stream": "stdout",
       "text": [
        "42\n",
        "(66, 189) \n",
        "\n",
        "2439693"
       ]
      },
      {
       "output_type": "stream",
       "stream": "stdout",
       "text": [
        " 1 2 age :  "
       ]
      },
      {
       "output_type": "stream",
       "stream": "stdout",
       "text": [
        "20\n",
        "(66, 190) \n",
        "\n",
        "2896602"
       ]
      },
      {
       "output_type": "stream",
       "stream": "stdout",
       "text": [
        " 2 1 age :  "
       ]
      },
      {
       "output_type": "stream",
       "stream": "stdout",
       "text": [
        "20\n",
        "(66, 191) \n",
        "\n",
        "4784206"
       ]
      },
      {
       "output_type": "stream",
       "stream": "stdout",
       "text": [
        " 1 2 age :  "
       ]
      },
      {
       "output_type": "stream",
       "stream": "stdout",
       "text": [
        "10\n",
        "(66, 192) \n",
        "\n",
        "3701561"
       ]
      },
      {
       "output_type": "stream",
       "stream": "stdout",
       "text": [
        " 2 1 age :  "
       ]
      },
      {
       "output_type": "stream",
       "stream": "stdout",
       "text": [
        "20\n",
        "(66, 193) \n",
        "\n",
        "3681646"
       ]
      },
      {
       "output_type": "stream",
       "stream": "stdout",
       "text": [
        " 1 2 age :  "
       ]
      },
      {
       "output_type": "stream",
       "stream": "stdout",
       "text": [
        "12\n",
        "(66, 194) \n",
        "\n",
        "3603360"
       ]
      },
      {
       "output_type": "stream",
       "stream": "stdout",
       "text": [
        " 2 2 age :  "
       ]
      },
      {
       "output_type": "stream",
       "stream": "stdout",
       "text": [
        "10\n",
        "(67, 194) \n",
        "\n",
        "1807745"
       ]
      },
      {
       "output_type": "stream",
       "stream": "stdout",
       "text": [
        " 1 2 age :  "
       ]
      },
      {
       "output_type": "stream",
       "stream": "stdout",
       "text": [
        "10\n",
        "(67, 195) \n",
        "\n",
        "1976426"
       ]
      },
      {
       "output_type": "stream",
       "stream": "stdout",
       "text": [
        " 1 2 age :  "
       ]
      },
      {
       "output_type": "stream",
       "stream": "stdout",
       "text": [
        "11\n",
        "(67, 196) \n",
        "\n",
        "3219840"
       ]
      },
      {
       "output_type": "stream",
       "stream": "stdout",
       "text": [
        " 2 1 age :  "
       ]
      },
      {
       "output_type": "stream",
       "stream": "stdout",
       "text": [
        "25\n",
        "(67, 197) \n",
        "\n",
        "1781982"
       ]
      },
      {
       "output_type": "stream",
       "stream": "stdout",
       "text": [
        " 2 1 age :  "
       ]
      },
      {
       "output_type": "stream",
       "stream": "stdout",
       "text": [
        "10\n",
        "(67, 198) \n",
        "\n",
        "931311"
       ]
      },
      {
       "output_type": "stream",
       "stream": "stdout",
       "text": [
        " 2 1 age :  "
       ]
      },
      {
       "output_type": "stream",
       "stream": "stdout",
       "text": [
        "10\n",
        "(67, 199) \n",
        "\n",
        "1943495"
       ]
      },
      {
       "output_type": "stream",
       "stream": "stdout",
       "text": [
        " 1 2 age :  "
       ]
      },
      {
       "output_type": "stream",
       "stream": "stdout",
       "text": [
        "20\n",
        "(67, 200) \n",
        "\n",
        "2191606"
       ]
      },
      {
       "output_type": "stream",
       "stream": "stdout",
       "text": [
        " 2 1 age :  "
       ]
      },
      {
       "output_type": "stream",
       "stream": "stdout",
       "text": [
        "10\n",
        "(67, 201) \n",
        "\n",
        "5479615"
       ]
      },
      {
       "output_type": "stream",
       "stream": "stdout",
       "text": [
        " 1 2 age :  "
       ]
      },
      {
       "output_type": "stream",
       "stream": "stdout",
       "text": [
        "10\n",
        "(67, 202) \n",
        "\n",
        "5196759"
       ]
      },
      {
       "output_type": "stream",
       "stream": "stdout",
       "text": [
        " 1 2 age :  "
       ]
      },
      {
       "output_type": "stream",
       "stream": "stdout",
       "text": [
        "30\n",
        "(67, 203) \n",
        "\n",
        "1953225"
       ]
      },
      {
       "output_type": "stream",
       "stream": "stdout",
       "text": [
        " 2 1 age :  "
       ]
      },
      {
       "output_type": "stream",
       "stream": "stdout",
       "text": [
        "10\n",
        "(67, 204) \n",
        "\n",
        "2715310"
       ]
      },
      {
       "output_type": "stream",
       "stream": "stdout",
       "text": [
        " 2 2 age :  "
       ]
      },
      {
       "output_type": "stream",
       "stream": "stdout",
       "text": [
        "10\n",
        "(68, 204) \n",
        "\n",
        "2053687"
       ]
      },
      {
       "output_type": "stream",
       "stream": "stdout",
       "text": [
        " 1 2 age :  "
       ]
      },
      {
       "output_type": "stream",
       "stream": "stdout",
       "text": [
        "10\n",
        "(68, 205) \n",
        "\n",
        "3288292"
       ]
      },
      {
       "output_type": "stream",
       "stream": "stdout",
       "text": [
        " 1 2 age :  "
       ]
      },
      {
       "output_type": "stream",
       "stream": "stdout",
       "text": [
        "30\n",
        "(68, 206) \n",
        "\n",
        "3481330"
       ]
      },
      {
       "output_type": "stream",
       "stream": "stdout",
       "text": [
        " 1 2 age :  "
       ]
      },
      {
       "output_type": "stream",
       "stream": "stdout",
       "text": [
        "10\n",
        "(68, 207) \n",
        "\n",
        "2786914"
       ]
      },
      {
       "output_type": "stream",
       "stream": "stdout",
       "text": [
        " 1 2 age :  "
       ]
      },
      {
       "output_type": "stream",
       "stream": "stdout",
       "text": [
        "10\n",
        "(68, 208) \n",
        "\n",
        "2951232"
       ]
      },
      {
       "output_type": "stream",
       "stream": "stdout",
       "text": [
        " 1 2 age :  "
       ]
      },
      {
       "output_type": "stream",
       "stream": "stdout",
       "text": [
        "20\n",
        "(68, 209) \n",
        "\n",
        "1967124"
       ]
      },
      {
       "output_type": "stream",
       "stream": "stdout",
       "text": [
        " 1 2 age :  "
       ]
      },
      {
       "output_type": "stream",
       "stream": "stdout",
       "text": [
        "10\n",
        "(68, 210) \n",
        "\n",
        "5380645"
       ]
      },
      {
       "output_type": "stream",
       "stream": "stdout",
       "text": [
        " 2 1 age :  "
       ]
      },
      {
       "output_type": "stream",
       "stream": "stdout",
       "text": [
        "20\n",
        "(68, 211) \n",
        "\n",
        "3109441"
       ]
      },
      {
       "output_type": "stream",
       "stream": "stdout",
       "text": [
        " 1 1 age :  "
       ]
      },
      {
       "output_type": "stream",
       "stream": "stdout",
       "text": [
        "20\n",
        "(69, 211) \n",
        "\n",
        "1631706"
       ]
      },
      {
       "output_type": "stream",
       "stream": "stdout",
       "text": [
        " 1 2 age :  "
       ]
      },
      {
       "output_type": "stream",
       "stream": "stdout",
       "text": [
        "10\n",
        "(69, 212) \n",
        "\n",
        "1760512"
       ]
      },
      {
       "output_type": "stream",
       "stream": "stdout",
       "text": [
        " 1 2 age :  "
       ]
      },
      {
       "output_type": "stream",
       "stream": "stdout",
       "text": [
        "10\n",
        "(69, 213) \n",
        "\n",
        "2749838"
       ]
      },
      {
       "output_type": "stream",
       "stream": "stdout",
       "text": [
        " 2 2 age :  "
       ]
      },
      {
       "output_type": "stream",
       "stream": "stdout",
       "text": [
        "30\n",
        "(70, 213) \n",
        "\n",
        "2635993"
       ]
      },
      {
       "output_type": "stream",
       "stream": "stdout",
       "text": [
        " 1 2 age :  "
       ]
      },
      {
       "output_type": "stream",
       "stream": "stdout",
       "text": [
        "30\n",
        "(70, 214) \n",
        "\n",
        "1789319"
       ]
      },
      {
       "output_type": "stream",
       "stream": "stdout",
       "text": [
        " 2 2 age :  "
       ]
      },
      {
       "output_type": "stream",
       "stream": "stdout",
       "text": [
        "17\n",
        "(71, 214) \n",
        "\n",
        "2558802"
       ]
      },
      {
       "output_type": "stream",
       "stream": "stdout",
       "text": [
        " 1 2 age :  "
       ]
      },
      {
       "output_type": "stream",
       "stream": "stdout",
       "text": [
        "20\n",
        "(71, 215) \n",
        "\n",
        "1865736"
       ]
      },
      {
       "output_type": "stream",
       "stream": "stdout",
       "text": [
        " 2 2 age :  "
       ]
      },
      {
       "output_type": "stream",
       "stream": "stdout",
       "text": [
        "10\n",
        "(72, 215) \n",
        "\n",
        "1621876"
       ]
      },
      {
       "output_type": "stream",
       "stream": "stdout",
       "text": [
        " 1 2 age :  "
       ]
      },
      {
       "output_type": "stream",
       "stream": "stdout",
       "text": [
        "20\n",
        "(72, 216) \n",
        "\n",
        "3307851"
       ]
      },
      {
       "output_type": "stream",
       "stream": "stdout",
       "text": [
        " 1 2 age :  "
       ]
      },
      {
       "output_type": "stream",
       "stream": "stdout",
       "text": [
        "42\n",
        "(72, 217) \n",
        "\n",
        "3712245"
       ]
      },
      {
       "output_type": "stream",
       "stream": "stdout",
       "text": [
        " 2 2 age :  "
       ]
      },
      {
       "output_type": "stream",
       "stream": "stdout",
       "text": [
        "32\n",
        "(73, 217) \n",
        "\n",
        "2162681"
       ]
      },
      {
       "output_type": "stream",
       "stream": "stdout",
       "text": [
        " 1 2 age :  "
       ]
      },
      {
       "output_type": "stream",
       "stream": "stdout",
       "text": [
        "50\n",
        "(73, 218) \n",
        "\n",
        "3401607"
       ]
      },
      {
       "output_type": "stream",
       "stream": "stdout",
       "text": [
        " 2 2 age :  "
       ]
      },
      {
       "output_type": "stream",
       "stream": "stdout",
       "text": [
        "10\n",
        "(74, 218) \n",
        "\n",
        "5642737"
       ]
      },
      {
       "output_type": "stream",
       "stream": "stdout",
       "text": [
        " 2 2 age :  "
       ]
      },
      {
       "output_type": "stream",
       "stream": "stdout",
       "text": [
        "40\n",
        "(75, 218) \n",
        "\n",
        "3425783"
       ]
      },
      {
       "output_type": "stream",
       "stream": "stdout",
       "text": [
        " 1 2 age :  "
       ]
      },
      {
       "output_type": "stream",
       "stream": "stdout",
       "text": [
        "10\n",
        "(75, 219) \n",
        "\n",
        "3766881"
       ]
      },
      {
       "output_type": "stream",
       "stream": "stdout",
       "text": [
        " 2 1 age :  "
       ]
      },
      {
       "output_type": "stream",
       "stream": "stdout",
       "text": [
        "12\n",
        "(75, 220) \n",
        "\n",
        "3894097"
       ]
      },
      {
       "output_type": "stream",
       "stream": "stdout",
       "text": [
        " 2 1 age :  "
       ]
      },
      {
       "output_type": "stream",
       "stream": "stdout",
       "text": [
        "10\n",
        "(75, 221) \n",
        "\n",
        "5078449"
       ]
      },
      {
       "output_type": "stream",
       "stream": "stdout",
       "text": [
        " 1 2 age :  "
       ]
      },
      {
       "output_type": "stream",
       "stream": "stdout",
       "text": [
        "10\n",
        "(75, 222) \n",
        "\n",
        "2032875"
       ]
      },
      {
       "output_type": "stream",
       "stream": "stdout",
       "text": [
        " 1 2 age :  "
       ]
      },
      {
       "output_type": "stream",
       "stream": "stdout",
       "text": [
        "10\n",
        "(75, 223) \n",
        "\n",
        "1954728"
       ]
      },
      {
       "output_type": "stream",
       "stream": "stdout",
       "text": [
        " 2 2 age :  "
       ]
      },
      {
       "output_type": "stream",
       "stream": "stdout",
       "text": [
        "10\n",
        "(76, 223) \n",
        "\n",
        "1949536"
       ]
      },
      {
       "output_type": "stream",
       "stream": "stdout",
       "text": [
        " 1 2 age :  "
       ]
      },
      {
       "output_type": "stream",
       "stream": "stdout",
       "text": [
        "10\n",
        "(76, 224) \n",
        "\n",
        "5710745"
       ]
      },
      {
       "output_type": "stream",
       "stream": "stdout",
       "text": [
        " 1 2 age :  "
       ]
      },
      {
       "output_type": "stream",
       "stream": "stdout",
       "text": [
        "30\n",
        "(76, 225) \n",
        "\n",
        "4711315"
       ]
      },
      {
       "output_type": "stream",
       "stream": "stdout",
       "text": [
        " 1 1 age :  "
       ]
      },
      {
       "output_type": "stream",
       "stream": "stdout",
       "text": [
        "40\n",
        "(77, 225) \n",
        "\n",
        "3318990"
       ]
      },
      {
       "output_type": "stream",
       "stream": "stdout",
       "text": [
        " 2 2 age :  "
       ]
      },
      {
       "output_type": "stream",
       "stream": "stdout",
       "text": [
        "20\n",
        "(78, 225) \n",
        "\n",
        "1751308"
       ]
      },
      {
       "output_type": "stream",
       "stream": "stdout",
       "text": [
        " 2 1 age :  "
       ]
      },
      {
       "output_type": "stream",
       "stream": "stdout",
       "text": [
        "10\n",
        "(78, 226) \n",
        "\n",
        "5493157"
       ]
      },
      {
       "output_type": "stream",
       "stream": "stdout",
       "text": [
        " 1 2 age :  "
       ]
      },
      {
       "output_type": "stream",
       "stream": "stdout",
       "text": [
        "20\n",
        "(78, 227) \n",
        "\n",
        "3555718"
       ]
      },
      {
       "output_type": "stream",
       "stream": "stdout",
       "text": [
        " 2 2 age :  "
       ]
      },
      {
       "output_type": "stream",
       "stream": "stdout",
       "text": [
        "20\n",
        "(79, 227) \n",
        "\n",
        "3113374"
       ]
      },
      {
       "output_type": "stream",
       "stream": "stdout",
       "text": [
        " 2 2 age :  "
       ]
      },
      {
       "output_type": "stream",
       "stream": "stdout",
       "text": [
        "30\n",
        "(80, 227) \n",
        "\n",
        "1812469"
       ]
      },
      {
       "output_type": "stream",
       "stream": "stdout",
       "text": [
        " 1 2 age :  "
       ]
      },
      {
       "output_type": "stream",
       "stream": "stdout",
       "text": [
        "10\n",
        "(80, 228) \n",
        "\n",
        "1724999"
       ]
      },
      {
       "output_type": "stream",
       "stream": "stdout",
       "text": [
        " 2 1 age :  "
       ]
      },
      {
       "output_type": "stream",
       "stream": "stdout",
       "text": [
        "10\n",
        "(80, 229) \n",
        "\n",
        "4275894"
       ]
      },
      {
       "output_type": "stream",
       "stream": "stdout",
       "text": [
        " 1 2 age :  "
       ]
      },
      {
       "output_type": "stream",
       "stream": "stdout",
       "text": [
        "20\n",
        "(80, 230) \n",
        "\n",
        "4944789"
       ]
      },
      {
       "output_type": "stream",
       "stream": "stdout",
       "text": [
        " 1 2 age :  "
       ]
      },
      {
       "output_type": "stream",
       "stream": "stdout",
       "text": [
        "20\n",
        "(80, 231) \n",
        "\n",
        "3959757"
       ]
      },
      {
       "output_type": "stream",
       "stream": "stdout",
       "text": [
        " 2 2 age :  "
       ]
      },
      {
       "output_type": "stream",
       "stream": "stdout",
       "text": [
        "10\n",
        "(81, 231) \n",
        "\n",
        "3648713"
       ]
      },
      {
       "output_type": "stream",
       "stream": "stdout",
       "text": [
        " 1 2 age :  "
       ]
      },
      {
       "output_type": "stream",
       "stream": "stdout",
       "text": [
        "10\n",
        "(81, 232) \n",
        "\n",
        "3517972"
       ]
      },
      {
       "output_type": "stream",
       "stream": "stdout",
       "text": [
        " 2 2 age :  "
       ]
      },
      {
       "output_type": "stream",
       "stream": "stdout",
       "text": [
        "42\n",
        "(82, 232) \n",
        "\n",
        "3956614"
       ]
      },
      {
       "output_type": "stream",
       "stream": "stdout",
       "text": [
        " 2 1 age :  "
       ]
      },
      {
       "output_type": "stream",
       "stream": "stdout",
       "text": [
        "20\n",
        "(82, 233) \n",
        "\n",
        "2184889"
       ]
      },
      {
       "output_type": "stream",
       "stream": "stdout",
       "text": [
        " 1 2 age :  "
       ]
      },
      {
       "output_type": "stream",
       "stream": "stdout",
       "text": [
        "10\n",
        "(82, 234) \n",
        "\n",
        "1717080"
       ]
      },
      {
       "output_type": "stream",
       "stream": "stdout",
       "text": [
        " 2 2 age :  "
       ]
      },
      {
       "output_type": "stream",
       "stream": "stdout",
       "text": [
        "30\n",
        "(83, 234) \n",
        "\n",
        "4772363"
       ]
      },
      {
       "output_type": "stream",
       "stream": "stdout",
       "text": [
        " 1 2 age :  "
       ]
      },
      {
       "output_type": "stream",
       "stream": "stdout",
       "text": [
        "20\n",
        "(83, 235) \n",
        "\n",
        "2035005"
       ]
      },
      {
       "output_type": "stream",
       "stream": "stdout",
       "text": [
        " 1 2 age :  "
       ]
      },
      {
       "output_type": "stream",
       "stream": "stdout",
       "text": [
        "10\n",
        "(83, 236) \n",
        "\n",
        "4971667"
       ]
      },
      {
       "output_type": "stream",
       "stream": "stdout",
       "text": [
        " 2 2 age :  "
       ]
      },
      {
       "output_type": "stream",
       "stream": "stdout",
       "text": [
        "20\n",
        "(84, 236) \n",
        "\n",
        "5176667"
       ]
      },
      {
       "output_type": "stream",
       "stream": "stdout",
       "text": [
        " 1 2 age :  "
       ]
      },
      {
       "output_type": "stream",
       "stream": "stdout",
       "text": [
        "50\n",
        "(84, 237) \n",
        "\n",
        "3435943"
       ]
      },
      {
       "output_type": "stream",
       "stream": "stdout",
       "text": [
        " 2 1 age :  "
       ]
      },
      {
       "output_type": "stream",
       "stream": "stdout",
       "text": [
        "10\n",
        "(84, 238) \n",
        "\n",
        "5380048"
       ]
      },
      {
       "output_type": "stream",
       "stream": "stdout",
       "text": [
        " 1 2 age :  "
       ]
      },
      {
       "output_type": "stream",
       "stream": "stdout",
       "text": [
        "20\n",
        "(84, 239) \n",
        "\n",
        "2356402"
       ]
      },
      {
       "output_type": "stream",
       "stream": "stdout",
       "text": [
        " 1 2 age :  "
       ]
      },
      {
       "output_type": "stream",
       "stream": "stdout",
       "text": [
        "20\n",
        "(84, 240) \n",
        "\n",
        "3516599"
       ]
      },
      {
       "output_type": "stream",
       "stream": "stdout",
       "text": [
        " 1 2 age :  "
       ]
      },
      {
       "output_type": "stream",
       "stream": "stdout",
       "text": [
        "20\n",
        "(84, 241) \n",
        "\n",
        "5124882"
       ]
      },
      {
       "output_type": "stream",
       "stream": "stdout",
       "text": [
        " 1 1 age :  "
       ]
      },
      {
       "output_type": "stream",
       "stream": "stdout",
       "text": [
        "27\n",
        "(85, 241) \n",
        "\n",
        "1648993"
       ]
      },
      {
       "output_type": "stream",
       "stream": "stdout",
       "text": [
        " 2 1 age :  "
       ]
      },
      {
       "output_type": "stream",
       "stream": "stdout",
       "text": [
        "20\n",
        "(85, 242) \n",
        "\n",
        "2280517"
       ]
      },
      {
       "output_type": "stream",
       "stream": "stdout",
       "text": [
        " 2 2 age :  "
       ]
      },
      {
       "output_type": "stream",
       "stream": "stdout",
       "text": [
        "20\n",
        "(86, 242) \n",
        "\n",
        "1720592"
       ]
      },
      {
       "output_type": "stream",
       "stream": "stdout",
       "text": [
        " 2 1 age :  "
       ]
      },
      {
       "output_type": "stream",
       "stream": "stdout",
       "text": [
        "10\n",
        "(86, 243) \n",
        "\n",
        "3799503"
       ]
      },
      {
       "output_type": "stream",
       "stream": "stdout",
       "text": [
        " 2 2 age :  "
       ]
      },
      {
       "output_type": "stream",
       "stream": "stdout",
       "text": [
        "18\n",
        "(87, 243) \n",
        "\n",
        "1837499"
       ]
      },
      {
       "output_type": "stream",
       "stream": "stdout",
       "text": [
        " 2 2 age :  "
       ]
      },
      {
       "output_type": "stream",
       "stream": "stdout",
       "text": [
        "20\n",
        "(88, 243) \n",
        "\n",
        "1658665"
       ]
      },
      {
       "output_type": "stream",
       "stream": "stdout",
       "text": [
        " 1 2 age :  "
       ]
      },
      {
       "output_type": "stream",
       "stream": "stdout",
       "text": [
        "10\n",
        "(88, 244) \n",
        "\n",
        "1758671"
       ]
      },
      {
       "output_type": "stream",
       "stream": "stdout",
       "text": [
        " 2 1 age :  "
       ]
      },
      {
       "output_type": "stream",
       "stream": "stdout",
       "text": [
        "20\n",
        "(88, 245) \n",
        "\n",
        "1457558"
       ]
      },
      {
       "output_type": "stream",
       "stream": "stdout",
       "text": [
        " 1 2 age :  "
       ]
      },
      {
       "output_type": "stream",
       "stream": "stdout",
       "text": [
        "40\n",
        "(88, 246) \n",
        "\n",
        "2926845"
       ]
      },
      {
       "output_type": "stream",
       "stream": "stdout",
       "text": [
        " 1 1 age :  "
       ]
      },
      {
       "output_type": "stream",
       "stream": "stdout",
       "text": [
        "30\n",
        "(89, 246) \n",
        "\n",
        "1767187"
       ]
      },
      {
       "output_type": "stream",
       "stream": "stdout",
       "text": [
        " 1 2 age :  "
       ]
      },
      {
       "output_type": "stream",
       "stream": "stdout",
       "text": [
        "10\n",
        "(89, 247) \n",
        "\n",
        "2071707"
       ]
      },
      {
       "output_type": "stream",
       "stream": "stdout",
       "text": [
        " 2 1 age :  "
       ]
      },
      {
       "output_type": "stream",
       "stream": "stdout",
       "text": [
        "10\n",
        "(89, 248) \n",
        "\n",
        "4425683"
       ]
      },
      {
       "output_type": "stream",
       "stream": "stdout",
       "text": [
        " 1 2 age :  "
       ]
      },
      {
       "output_type": "stream",
       "stream": "stdout",
       "text": [
        "20\n",
        "(89, 249) \n",
        "\n",
        "1914766"
       ]
      },
      {
       "output_type": "stream",
       "stream": "stdout",
       "text": [
        " 2 2 age :  "
       ]
      },
      {
       "output_type": "stream",
       "stream": "stdout",
       "text": [
        "38\n",
        "(90, 249) \n",
        "\n",
        "2845114"
       ]
      },
      {
       "output_type": "stream",
       "stream": "stdout",
       "text": [
        " 2 1 age :  "
       ]
      },
      {
       "output_type": "stream",
       "stream": "stdout",
       "text": [
        "10\n",
        "(90, 250) \n",
        "\n",
        "1689082"
       ]
      },
      {
       "output_type": "stream",
       "stream": "stdout",
       "text": [
        " 2 2 age :  "
       ]
      },
      {
       "output_type": "stream",
       "stream": "stdout",
       "text": [
        "10\n",
        "(91, 250) \n",
        "\n",
        "1543490"
       ]
      },
      {
       "output_type": "stream",
       "stream": "stdout",
       "text": [
        " 2 1 age :  "
       ]
      },
      {
       "output_type": "stream",
       "stream": "stdout",
       "text": [
        "22\n",
        "(91, 251) \n",
        "\n",
        "1167465"
       ]
      },
      {
       "output_type": "stream",
       "stream": "stdout",
       "text": [
        " 1 2 age :  "
       ]
      },
      {
       "output_type": "stream",
       "stream": "stdout",
       "text": [
        "32\n",
        "(91, 252) \n",
        "\n",
        "3892829"
       ]
      },
      {
       "output_type": "stream",
       "stream": "stdout",
       "text": [
        " 1 2 age :  "
       ]
      },
      {
       "output_type": "stream",
       "stream": "stdout",
       "text": [
        "60\n",
        "(91, 253) \n",
        "\n",
        "1508299"
       ]
      },
      {
       "output_type": "stream",
       "stream": "stdout",
       "text": [
        " 1 2 age :  "
       ]
      },
      {
       "output_type": "stream",
       "stream": "stdout",
       "text": [
        "32\n",
        "(91, 254) \n",
        "\n",
        "4569807"
       ]
      },
      {
       "output_type": "stream",
       "stream": "stdout",
       "text": [
        " 2 2 age :  "
       ]
      },
      {
       "output_type": "stream",
       "stream": "stdout",
       "text": [
        "10\n",
        "(92, 254) \n",
        "\n",
        "37841"
       ]
      },
      {
       "output_type": "stream",
       "stream": "stdout",
       "text": [
        " 1 1 age :  "
       ]
      },
      {
       "output_type": "stream",
       "stream": "stdout",
       "text": [
        "30\n",
        "(93, 254) \n",
        "\n",
        "2062328"
       ]
      },
      {
       "output_type": "stream",
       "stream": "stdout",
       "text": [
        " 2 1 age :  "
       ]
      },
      {
       "output_type": "stream",
       "stream": "stdout",
       "text": [
        "10\n",
        "(93, 255) \n",
        "\n",
        "4651739"
       ]
      },
      {
       "output_type": "stream",
       "stream": "stdout",
       "text": [
        " 2 1 age :  "
       ]
      },
      {
       "output_type": "stream",
       "stream": "stdout",
       "text": [
        "18\n",
        "(93, 256) \n",
        "\n",
        "3648803"
       ]
      },
      {
       "output_type": "stream",
       "stream": "stdout",
       "text": [
        " 2 1 age :  "
       ]
      },
      {
       "output_type": "stream",
       "stream": "stdout",
       "text": [
        "18\n",
        "(93, 257) \n",
        "\n",
        "2792004"
       ]
      },
      {
       "output_type": "stream",
       "stream": "stdout",
       "text": [
        " 2 2 age :  "
       ]
      },
      {
       "output_type": "stream",
       "stream": "stdout",
       "text": [
        "20\n",
        "(94, 257) \n",
        "\n",
        "1145860"
       ]
      },
      {
       "output_type": "stream",
       "stream": "stdout",
       "text": [
        " 2 1 age :  "
       ]
      },
      {
       "output_type": "stream",
       "stream": "stdout",
       "text": [
        "20\n",
        "(94, 258) \n",
        "\n",
        "2318141"
       ]
      },
      {
       "output_type": "stream",
       "stream": "stdout",
       "text": [
        " 2 2 age :  "
       ]
      },
      {
       "output_type": "stream",
       "stream": "stdout",
       "text": [
        "20\n",
        "(95, 258) \n",
        "\n",
        "3759061"
       ]
      },
      {
       "output_type": "stream",
       "stream": "stdout",
       "text": [
        " 1 2 age :  "
       ]
      },
      {
       "output_type": "stream",
       "stream": "stdout",
       "text": [
        "20\n",
        "(95, 259) \n",
        "\n",
        "4291785"
       ]
      },
      {
       "output_type": "stream",
       "stream": "stdout",
       "text": [
        " 1 2 age :  "
       ]
      },
      {
       "output_type": "stream",
       "stream": "stdout",
       "text": [
        "10\n",
        "(95, 260) \n",
        "\n",
        "5099297"
       ]
      },
      {
       "output_type": "stream",
       "stream": "stdout",
       "text": [
        " 2 2 age :  "
       ]
      },
      {
       "output_type": "stream",
       "stream": "stdout",
       "text": [
        "10\n",
        "(96, 260) \n",
        "\n",
        "1836918"
       ]
      },
      {
       "output_type": "stream",
       "stream": "stdout",
       "text": [
        " 2 2 age :  "
       ]
      },
      {
       "output_type": "stream",
       "stream": "stdout",
       "text": [
        "30\n",
        "(97, 260) \n",
        "\n",
        "4243711"
       ]
      },
      {
       "output_type": "stream",
       "stream": "stdout",
       "text": [
        " 2 2 age :  "
       ]
      },
      {
       "output_type": "stream",
       "stream": "stdout",
       "text": [
        "10\n",
        "(98, 260) \n",
        "\n",
        "2300776"
       ]
      },
      {
       "output_type": "stream",
       "stream": "stdout",
       "text": [
        " 1 2 age :  "
       ]
      },
      {
       "output_type": "stream",
       "stream": "stdout",
       "text": [
        "10\n",
        "(98, 261) \n",
        "\n",
        "1600178"
       ]
      },
      {
       "output_type": "stream",
       "stream": "stdout",
       "text": [
        " 2 2 age :  "
       ]
      },
      {
       "output_type": "stream",
       "stream": "stdout",
       "text": [
        "20\n",
        "(99, 261) \n",
        "\n",
        "5132455"
       ]
      },
      {
       "output_type": "stream",
       "stream": "stdout",
       "text": [
        " 1 2 age :  "
       ]
      },
      {
       "output_type": "stream",
       "stream": "stdout",
       "text": [
        "30\n",
        "(99, 262) \n",
        "\n",
        "3864404"
       ]
      },
      {
       "output_type": "stream",
       "stream": "stdout",
       "text": [
        " 2 2 age :  "
       ]
      },
      {
       "output_type": "stream",
       "stream": "stdout",
       "text": [
        "10\n",
        "(100, 262) \n",
        "\n",
        "3919228"
       ]
      },
      {
       "output_type": "stream",
       "stream": "stdout",
       "text": [
        " 2 2 age :  "
       ]
      },
      {
       "output_type": "stream",
       "stream": "stdout",
       "text": [
        "10\n",
        "(101, 262) \n",
        "\n",
        "3324793"
       ]
      },
      {
       "output_type": "stream",
       "stream": "stdout",
       "text": [
        " 1 2 age :  "
       ]
      },
      {
       "output_type": "stream",
       "stream": "stdout",
       "text": [
        "20\n",
        "(101, 263) \n",
        "\n",
        "3552024"
       ]
      },
      {
       "output_type": "stream",
       "stream": "stdout",
       "text": [
        " 1 2 age :  "
       ]
      },
      {
       "output_type": "stream",
       "stream": "stdout",
       "text": [
        "20\n",
        "(101, 264) \n",
        "\n",
        "1819157"
       ]
      },
      {
       "output_type": "stream",
       "stream": "stdout",
       "text": [
        " 1 2 age :  "
       ]
      },
      {
       "output_type": "stream",
       "stream": "stdout",
       "text": [
        "35\n",
        "(101, 265) \n",
        "\n",
        "3786246"
       ]
      },
      {
       "output_type": "stream",
       "stream": "stdout",
       "text": [
        " 1 2 age :  "
       ]
      },
      {
       "output_type": "stream",
       "stream": "stdout",
       "text": [
        "10\n",
        "(101, 266) \n",
        "\n",
        "1939271"
       ]
      },
      {
       "output_type": "stream",
       "stream": "stdout",
       "text": [
        " 2 1 age :  "
       ]
      },
      {
       "output_type": "stream",
       "stream": "stdout",
       "text": [
        "18\n",
        "(101, 267) \n",
        "\n",
        "1943611"
       ]
      },
      {
       "output_type": "stream",
       "stream": "stdout",
       "text": [
        " 1 2 age :  "
       ]
      },
      {
       "output_type": "stream",
       "stream": "stdout",
       "text": [
        "10\n",
        "(101, 268) \n",
        "\n",
        "4445743"
       ]
      },
      {
       "output_type": "stream",
       "stream": "stdout",
       "text": [
        " 2 2 age :  "
       ]
      },
      {
       "output_type": "stream",
       "stream": "stdout",
       "text": [
        "10\n",
        "(102, 268) \n",
        "\n",
        "877640"
       ]
      },
      {
       "output_type": "stream",
       "stream": "stdout",
       "text": [
        " 1 2 age :  "
       ]
      },
      {
       "output_type": "stream",
       "stream": "stdout",
       "text": [
        "30\n",
        "(102, 269) \n",
        "\n",
        "2084242"
       ]
      },
      {
       "output_type": "stream",
       "stream": "stdout",
       "text": [
        " 2 1 age :  "
       ]
      },
      {
       "output_type": "stream",
       "stream": "stdout",
       "text": [
        "10\n",
        "(102, 270) \n",
        "\n",
        "1821027"
       ]
      },
      {
       "output_type": "stream",
       "stream": "stdout",
       "text": [
        " 2 2 age :  "
       ]
      },
      {
       "output_type": "stream",
       "stream": "stdout",
       "text": [
        "10\n",
        "(103, 270) \n",
        "\n",
        "5053101"
       ]
      },
      {
       "output_type": "stream",
       "stream": "stdout",
       "text": [
        " 2 1 age :  "
       ]
      },
      {
       "output_type": "stream",
       "stream": "stdout",
       "text": [
        "25\n",
        "(103, 271) \n",
        "\n",
        "2104705"
       ]
      },
      {
       "output_type": "stream",
       "stream": "stdout",
       "text": [
        " 1 2 age :  "
       ]
      },
      {
       "output_type": "stream",
       "stream": "stdout",
       "text": [
        "10\n",
        "(103, 272) \n",
        "\n",
        "3555827"
       ]
      },
      {
       "output_type": "stream",
       "stream": "stdout",
       "text": [
        " 1 2 age :  "
       ]
      },
      {
       "output_type": "stream",
       "stream": "stdout",
       "text": [
        "10\n",
        "(103, 273) \n",
        "\n",
        "2121636"
       ]
      },
      {
       "output_type": "stream",
       "stream": "stdout",
       "text": [
        " 2 1 age :  "
       ]
      },
      {
       "output_type": "stream",
       "stream": "stdout",
       "text": [
        "22\n",
        "(103, 274) \n",
        "\n",
        "1761285"
       ]
      },
      {
       "output_type": "stream",
       "stream": "stdout",
       "text": [
        " 1 2 age :  "
       ]
      },
      {
       "output_type": "stream",
       "stream": "stdout",
       "text": [
        "10\n",
        "(103, 275) \n",
        "\n",
        "2675118"
       ]
      },
      {
       "output_type": "stream",
       "stream": "stdout",
       "text": [
        " 2 2 age :  "
       ]
      },
      {
       "output_type": "stream",
       "stream": "stdout",
       "text": [
        "10\n",
        "(104, 275) \n",
        "\n",
        "1691125"
       ]
      },
      {
       "output_type": "stream",
       "stream": "stdout",
       "text": [
        " 1 2 age :  "
       ]
      },
      {
       "output_type": "stream",
       "stream": "stdout",
       "text": [
        "10\n",
        "(104, 276) \n",
        "\n",
        "2952806"
       ]
      },
      {
       "output_type": "stream",
       "stream": "stdout",
       "text": [
        " 2 1 age :  "
       ]
      },
      {
       "output_type": "stream",
       "stream": "stdout",
       "text": [
        "10\n",
        "(104, 277) \n",
        "\n",
        "1929855"
       ]
      },
      {
       "output_type": "stream",
       "stream": "stdout",
       "text": [
        " 1 2 age :  "
       ]
      },
      {
       "output_type": "stream",
       "stream": "stdout",
       "text": [
        "10\n",
        "(104, 278) \n",
        "\n",
        "5045716"
       ]
      },
      {
       "output_type": "stream",
       "stream": "stdout",
       "text": [
        " 2 2 age :  "
       ]
      },
      {
       "output_type": "stream",
       "stream": "stdout",
       "text": [
        "27\n",
        "(105, 278) \n",
        "\n",
        "2076556"
       ]
      },
      {
       "output_type": "stream",
       "stream": "stdout",
       "text": [
        " 1 2 age :  "
       ]
      },
      {
       "output_type": "stream",
       "stream": "stdout",
       "text": [
        "38\n",
        "(105, 279) \n",
        "\n",
        "1753749"
       ]
      },
      {
       "output_type": "stream",
       "stream": "stdout",
       "text": [
        " 1 2 age :  "
       ]
      },
      {
       "output_type": "stream",
       "stream": "stdout",
       "text": [
        "10\n",
        "(105, 280) \n",
        "\n",
        "4931282"
       ]
      },
      {
       "output_type": "stream",
       "stream": "stdout",
       "text": [
        " 2 2 age :  "
       ]
      },
      {
       "output_type": "stream",
       "stream": "stdout",
       "text": [
        "10\n",
        "(106, 280) \n",
        "\n",
        "3104688"
       ]
      },
      {
       "output_type": "stream",
       "stream": "stdout",
       "text": [
        " 2 2 age :  "
       ]
      },
      {
       "output_type": "stream",
       "stream": "stdout",
       "text": [
        "42\n",
        "(107, 280) \n",
        "\n",
        "892908"
       ]
      },
      {
       "output_type": "stream",
       "stream": "stdout",
       "text": [
        " 2 2 age :  "
       ]
      },
      {
       "output_type": "stream",
       "stream": "stdout",
       "text": [
        "28\n",
        "(108, 280) \n",
        "\n",
        "2017448"
       ]
      },
      {
       "output_type": "stream",
       "stream": "stdout",
       "text": [
        " 1 2 age :  "
       ]
      },
      {
       "output_type": "stream",
       "stream": "stdout",
       "text": [
        "18\n",
        "(108, 281) \n",
        "\n",
        "3524453"
       ]
      },
      {
       "output_type": "stream",
       "stream": "stdout",
       "text": [
        " 1 2 age :  "
       ]
      },
      {
       "output_type": "stream",
       "stream": "stdout",
       "text": [
        "20\n",
        "(108, 282) \n",
        "\n",
        "4903518"
       ]
      },
      {
       "output_type": "stream",
       "stream": "stdout",
       "text": [
        " 2 2 age :  "
       ]
      },
      {
       "output_type": "stream",
       "stream": "stdout",
       "text": [
        "12\n",
        "(109, 282) \n",
        "\n",
        "4272413"
       ]
      },
      {
       "output_type": "stream",
       "stream": "stdout",
       "text": [
        " 1 2 age :  "
       ]
      },
      {
       "output_type": "stream",
       "stream": "stdout",
       "text": [
        "27\n",
        "(109, 283) \n",
        "\n",
        "3884114"
       ]
      },
      {
       "output_type": "stream",
       "stream": "stdout",
       "text": [
        " 1 2 age :  "
       ]
      },
      {
       "output_type": "stream",
       "stream": "stdout",
       "text": [
        "32\n",
        "(109, 284) \n",
        "\n",
        "2252019"
       ]
      },
      {
       "output_type": "stream",
       "stream": "stdout",
       "text": [
        " 1 2 age :  "
       ]
      },
      {
       "output_type": "stream",
       "stream": "stdout",
       "text": [
        "20\n",
        "(109, 285) \n",
        "\n",
        "4684949"
       ]
      },
      {
       "output_type": "stream",
       "stream": "stdout",
       "text": [
        " 1 2 age :  "
       ]
      },
      {
       "output_type": "stream",
       "stream": "stdout",
       "text": [
        "10\n",
        "(109, 286) \n",
        "\n",
        "3219253"
       ]
      },
      {
       "output_type": "stream",
       "stream": "stdout",
       "text": [
        " 1 2 age :  "
       ]
      },
      {
       "output_type": "stream",
       "stream": "stdout",
       "text": [
        "10\n",
        "(109, 287) \n",
        "\n",
        "2077235"
       ]
      },
      {
       "output_type": "stream",
       "stream": "stdout",
       "text": [
        " 2 1 age :  "
       ]
      },
      {
       "output_type": "stream",
       "stream": "stdout",
       "text": [
        "25\n",
        "(109, 288) \n",
        "\n",
        "3438098"
       ]
      },
      {
       "output_type": "stream",
       "stream": "stdout",
       "text": [
        " 2 1 age :  "
       ]
      },
      {
       "output_type": "stream",
       "stream": "stdout",
       "text": [
        "10\n",
        "(109, 289) \n",
        "\n",
        "2450257"
       ]
      },
      {
       "output_type": "stream",
       "stream": "stdout",
       "text": [
        " 1 2 age :  "
       ]
      },
      {
       "output_type": "stream",
       "stream": "stdout",
       "text": [
        "10\n",
        "(109, 290) \n",
        "\n",
        "2713818"
       ]
      },
      {
       "output_type": "stream",
       "stream": "stdout",
       "text": [
        " 2 1 age :  "
       ]
      },
      {
       "output_type": "stream",
       "stream": "stdout",
       "text": [
        "10\n",
        "(109, 291) \n",
        "\n",
        "5196784"
       ]
      },
      {
       "output_type": "stream",
       "stream": "stdout",
       "text": [
        " 1 2 age :  "
       ]
      },
      {
       "output_type": "stream",
       "stream": "stdout",
       "text": [
        "10\n",
        "(109, 292) \n",
        "\n",
        "1911476"
       ]
      },
      {
       "output_type": "stream",
       "stream": "stdout",
       "text": [
        " 2 1 age :  "
       ]
      },
      {
       "output_type": "stream",
       "stream": "stdout",
       "text": [
        "20\n",
        "(109, 293) \n",
        "\n",
        "1740225"
       ]
      },
      {
       "output_type": "stream",
       "stream": "stdout",
       "text": [
        " 2 2 age :  "
       ]
      },
      {
       "output_type": "stream",
       "stream": "stdout",
       "text": [
        "30\n",
        "(110, 293) \n",
        "\n",
        "2842862"
       ]
      },
      {
       "output_type": "stream",
       "stream": "stdout",
       "text": [
        " 2 1 age :  "
       ]
      },
      {
       "output_type": "stream",
       "stream": "stdout",
       "text": [
        "20\n",
        "(110, 294) \n",
        "\n",
        "4966325"
       ]
      },
      {
       "output_type": "stream",
       "stream": "stdout",
       "text": [
        " 1 2 age :  "
       ]
      },
      {
       "output_type": "stream",
       "stream": "stdout",
       "text": [
        "10\n",
        "(110, 295) \n",
        "\n",
        "2178762"
       ]
      },
      {
       "output_type": "stream",
       "stream": "stdout",
       "text": [
        " 1 2 age :  "
       ]
      },
      {
       "output_type": "stream",
       "stream": "stdout",
       "text": [
        "10\n",
        "(110, 296) \n",
        "\n",
        "5303278"
       ]
      },
      {
       "output_type": "stream",
       "stream": "stdout",
       "text": [
        " 2 1 age :  "
       ]
      },
      {
       "output_type": "stream",
       "stream": "stdout",
       "text": [
        "10\n",
        "(110, 297) \n",
        "\n",
        "5397756"
       ]
      },
      {
       "output_type": "stream",
       "stream": "stdout",
       "text": [
        " 1 2 age :  "
       ]
      },
      {
       "output_type": "stream",
       "stream": "stdout",
       "text": [
        "15\n",
        "(110, 298) \n",
        "\n",
        "5117029"
       ]
      },
      {
       "output_type": "stream",
       "stream": "stdout",
       "text": [
        " 1 2 age :  "
       ]
      },
      {
       "output_type": "stream",
       "stream": "stdout",
       "text": [
        "10\n",
        "(110, 299) \n",
        "\n",
        "3592426"
       ]
      },
      {
       "output_type": "stream",
       "stream": "stdout",
       "text": [
        " 2 1 age :  "
       ]
      },
      {
       "output_type": "stream",
       "stream": "stdout",
       "text": [
        "18\n",
        "(110, 300) \n",
        "\n",
        "3323512"
       ]
      },
      {
       "output_type": "stream",
       "stream": "stdout",
       "text": [
        " 1 2 age :  "
       ]
      },
      {
       "output_type": "stream",
       "stream": "stdout",
       "text": [
        "30\n",
        "(110, 301) \n",
        "\n",
        "3254197"
       ]
      },
      {
       "output_type": "stream",
       "stream": "stdout",
       "text": [
        " 2 1 age :  "
       ]
      },
      {
       "output_type": "stream",
       "stream": "stdout",
       "text": [
        "20\n",
        "(110, 302) \n",
        "\n",
        "5145497"
       ]
      },
      {
       "output_type": "stream",
       "stream": "stdout",
       "text": [
        " 2 2 age :  "
       ]
      },
      {
       "output_type": "stream",
       "stream": "stdout",
       "text": [
        "22\n",
        "(111, 302) \n",
        "\n",
        "2943306"
       ]
      },
      {
       "output_type": "stream",
       "stream": "stdout",
       "text": [
        " 1 2 age :  "
       ]
      },
      {
       "output_type": "stream",
       "stream": "stdout",
       "text": [
        "20\n",
        "(111, 303) \n",
        "\n",
        "4113341"
       ]
      },
      {
       "output_type": "stream",
       "stream": "stdout",
       "text": [
        " 1 2 age :  "
       ]
      },
      {
       "output_type": "stream",
       "stream": "stdout",
       "text": [
        "10\n",
        "(111, 304) \n",
        "\n",
        "3027594"
       ]
      },
      {
       "output_type": "stream",
       "stream": "stdout",
       "text": [
        " 1 2 age :  "
       ]
      },
      {
       "output_type": "stream",
       "stream": "stdout",
       "text": [
        "30\n",
        "(111, 305) \n",
        "\n",
        "1681473"
       ]
      },
      {
       "output_type": "stream",
       "stream": "stdout",
       "text": [
        " 1 2 age :  "
       ]
      },
      {
       "output_type": "stream",
       "stream": "stdout",
       "text": [
        "10\n",
        "(111, 306) \n",
        "\n",
        "3813612"
       ]
      },
      {
       "output_type": "stream",
       "stream": "stdout",
       "text": [
        " 1 2 age :  "
       ]
      },
      {
       "output_type": "stream",
       "stream": "stdout",
       "text": [
        "10\n",
        "(111, 307) \n",
        "\n",
        "4729006"
       ]
      },
      {
       "output_type": "stream",
       "stream": "stdout",
       "text": [
        " 2 2 age :  "
       ]
      },
      {
       "output_type": "stream",
       "stream": "stdout",
       "text": [
        "10\n",
        "(112, 307) \n",
        "\n",
        "1637156"
       ]
      },
      {
       "output_type": "stream",
       "stream": "stdout",
       "text": [
        " 1 2 age :  "
       ]
      },
      {
       "output_type": "stream",
       "stream": "stdout",
       "text": [
        "20\n",
        "(112, 308) \n",
        "\n",
        "2188552"
       ]
      },
      {
       "output_type": "stream",
       "stream": "stdout",
       "text": [
        " 1 2 age :  "
       ]
      },
      {
       "output_type": "stream",
       "stream": "stdout",
       "text": [
        "30\n",
        "(112, 309) \n",
        "\n",
        "4685798"
       ]
      },
      {
       "output_type": "stream",
       "stream": "stdout",
       "text": [
        " 2 2 age :  "
       ]
      },
      {
       "output_type": "stream",
       "stream": "stdout",
       "text": [
        "30\n",
        "(113, 309) \n",
        "\n",
        "46974"
       ]
      },
      {
       "output_type": "stream",
       "stream": "stdout",
       "text": [
        " 2 1 age :  "
       ]
      },
      {
       "output_type": "stream",
       "stream": "stdout",
       "text": [
        "20\n",
        "(113, 310) \n",
        "\n",
        "3219632"
       ]
      },
      {
       "output_type": "stream",
       "stream": "stdout",
       "text": [
        " 1 2 age :  "
       ]
      },
      {
       "output_type": "stream",
       "stream": "stdout",
       "text": [
        "10\n",
        "(113, 311) \n",
        "\n",
        "2955336"
       ]
      },
      {
       "output_type": "stream",
       "stream": "stdout",
       "text": [
        " 1 2 age :  "
       ]
      },
      {
       "output_type": "stream",
       "stream": "stdout",
       "text": [
        "10\n",
        "(113, 312) \n",
        "\n",
        "3017619"
       ]
      },
      {
       "output_type": "stream",
       "stream": "stdout",
       "text": [
        " 2 2 age :  "
       ]
      },
      {
       "output_type": "stream",
       "stream": "stdout",
       "text": [
        "10\n",
        "(114, 312) \n",
        "\n",
        "2084442"
       ]
      },
      {
       "output_type": "stream",
       "stream": "stdout",
       "text": [
        " 2 2 age :  "
       ]
      },
      {
       "output_type": "stream",
       "stream": "stdout",
       "text": [
        "10\n",
        "(115, 312) \n",
        "\n",
        "3633255"
       ]
      },
      {
       "output_type": "stream",
       "stream": "stdout",
       "text": [
        " 2 2 age :  "
       ]
      },
      {
       "output_type": "stream",
       "stream": "stdout",
       "text": [
        "18\n",
        "(116, 312) \n",
        "\n",
        "2778016"
       ]
      },
      {
       "output_type": "stream",
       "stream": "stdout",
       "text": [
        " 1 2 age :  "
       ]
      },
      {
       "output_type": "stream",
       "stream": "stdout",
       "text": [
        "10\n",
        "(116, 313) \n",
        "\n",
        "5238750"
       ]
      },
      {
       "output_type": "stream",
       "stream": "stdout",
       "text": [
        " 1 2 age :  "
       ]
      },
      {
       "output_type": "stream",
       "stream": "stdout",
       "text": [
        "45\n",
        "(116, 314) \n",
        "\n",
        "2053217"
       ]
      },
      {
       "output_type": "stream",
       "stream": "stdout",
       "text": [
        " 2 1 age :  "
       ]
      },
      {
       "output_type": "stream",
       "stream": "stdout",
       "text": [
        "10\n",
        "(116, 315) \n",
        "\n",
        "5292193"
       ]
      },
      {
       "output_type": "stream",
       "stream": "stdout",
       "text": [
        " 1 1 age :  "
       ]
      },
      {
       "output_type": "stream",
       "stream": "stdout",
       "text": [
        "30\n",
        "(117, 315) \n",
        "\n",
        "3463806"
       ]
      },
      {
       "output_type": "stream",
       "stream": "stdout",
       "text": [
        " 1 2 age :  "
       ]
      },
      {
       "output_type": "stream",
       "stream": "stdout",
       "text": [
        "12\n",
        "(117, 316) \n",
        "\n",
        "3225047"
       ]
      },
      {
       "output_type": "stream",
       "stream": "stdout",
       "text": [
        " 2 2 age :  "
       ]
      },
      {
       "output_type": "stream",
       "stream": "stdout",
       "text": [
        "10\n",
        "(118, 316) \n",
        "\n",
        "5398232"
       ]
      },
      {
       "output_type": "stream",
       "stream": "stdout",
       "text": [
        " 1 2 age :  "
       ]
      },
      {
       "output_type": "stream",
       "stream": "stdout",
       "text": [
        "10\n",
        "(118, 317) \n",
        "\n",
        "3732827"
       ]
      },
      {
       "output_type": "stream",
       "stream": "stdout",
       "text": [
        " 2 1 age :  "
       ]
      },
      {
       "output_type": "stream",
       "stream": "stdout",
       "text": [
        "10\n",
        "(118, 318) \n",
        "\n",
        "2175704"
       ]
      },
      {
       "output_type": "stream",
       "stream": "stdout",
       "text": [
        " 2 2 age :  "
       ]
      },
      {
       "output_type": "stream",
       "stream": "stdout",
       "text": [
        "30\n",
        "(119, 318) \n",
        "\n",
        "1890187"
       ]
      },
      {
       "output_type": "stream",
       "stream": "stdout",
       "text": [
        " 2 2 age :  "
       ]
      },
      {
       "output_type": "stream",
       "stream": "stdout",
       "text": [
        "20\n",
        "(120, 318) \n",
        "\n",
        "1799379"
       ]
      },
      {
       "output_type": "stream",
       "stream": "stdout",
       "text": [
        " 1 2 age :  "
       ]
      },
      {
       "output_type": "stream",
       "stream": "stdout",
       "text": [
        "10\n",
        "(120, 319) \n",
        "\n",
        "4928994"
       ]
      },
      {
       "output_type": "stream",
       "stream": "stdout",
       "text": [
        " 1 2 age :  "
       ]
      },
      {
       "output_type": "stream",
       "stream": "stdout",
       "text": [
        "20\n",
        "(120, 320) \n",
        "\n",
        "4280027"
       ]
      },
      {
       "output_type": "stream",
       "stream": "stdout",
       "text": [
        " 1 2 age :  "
       ]
      },
      {
       "output_type": "stream",
       "stream": "stdout",
       "text": [
        "10\n",
        "(120, 321) \n",
        "\n",
        "2345433"
       ]
      },
      {
       "output_type": "stream",
       "stream": "stdout",
       "text": [
        " 1 2 age :  "
       ]
      },
      {
       "output_type": "stream",
       "stream": "stdout",
       "text": [
        "10\n",
        "(120, 322) \n",
        "\n",
        "2883591"
       ]
      },
      {
       "output_type": "stream",
       "stream": "stdout",
       "text": [
        " 2 1 age :  "
       ]
      },
      {
       "output_type": "stream",
       "stream": "stdout",
       "text": [
        "20\n",
        "(120, 323) \n",
        "\n",
        "5409466"
       ]
      },
      {
       "output_type": "stream",
       "stream": "stdout",
       "text": [
        " 1 2 age :  "
       ]
      },
      {
       "output_type": "stream",
       "stream": "stdout",
       "text": [
        "10\n",
        "(120, 324) \n",
        "\n",
        "2448380"
       ]
      },
      {
       "output_type": "stream",
       "stream": "stdout",
       "text": [
        " 1 2 age :  "
       ]
      },
      {
       "output_type": "stream",
       "stream": "stdout",
       "text": [
        "10\n",
        "(120, 325) \n",
        "\n",
        "1658788"
       ]
      },
      {
       "output_type": "stream",
       "stream": "stdout",
       "text": [
        " 1 2 age :  "
       ]
      },
      {
       "output_type": "stream",
       "stream": "stdout",
       "text": [
        "21\n",
        "(120, 326) \n",
        "\n",
        "1674825"
       ]
      },
      {
       "output_type": "stream",
       "stream": "stdout",
       "text": [
        " 2 2 age :  "
       ]
      },
      {
       "output_type": "stream",
       "stream": "stdout",
       "text": [
        "30\n",
        "(121, 326) \n",
        "\n",
        "1277213"
       ]
      },
      {
       "output_type": "stream",
       "stream": "stdout",
       "text": [
        " 2 2 age :  "
       ]
      },
      {
       "output_type": "stream",
       "stream": "stdout",
       "text": [
        "10\n",
        "(122, 326) \n",
        "\n",
        "3526468"
       ]
      },
      {
       "output_type": "stream",
       "stream": "stdout",
       "text": [
        " 1 2 age :  "
       ]
      },
      {
       "output_type": "stream",
       "stream": "stdout",
       "text": [
        "10\n",
        "(122, 327) \n",
        "\n",
        "4869020"
       ]
      },
      {
       "output_type": "stream",
       "stream": "stdout",
       "text": [
        " 1 2 age :  "
       ]
      },
      {
       "output_type": "stream",
       "stream": "stdout",
       "text": [
        "27\n",
        "(122, 328) \n",
        "\n",
        "5304125"
       ]
      },
      {
       "output_type": "stream",
       "stream": "stdout",
       "text": [
        " 2 2 age :  "
       ]
      },
      {
       "output_type": "stream",
       "stream": "stdout",
       "text": [
        "10\n",
        "(123, 328) \n",
        "\n",
        "4853879"
       ]
      },
      {
       "output_type": "stream",
       "stream": "stdout",
       "text": [
        " 1 2 age :  "
       ]
      },
      {
       "output_type": "stream",
       "stream": "stdout",
       "text": [
        "10\n",
        "(123, 329) \n",
        "\n",
        "2038676"
       ]
      },
      {
       "output_type": "stream",
       "stream": "stdout",
       "text": [
        " 1 2 age :  "
       ]
      },
      {
       "output_type": "stream",
       "stream": "stdout",
       "text": [
        "20\n",
        "(123, 330) \n",
        "\n",
        "4955961"
       ]
      },
      {
       "output_type": "stream",
       "stream": "stdout",
       "text": [
        " 2 1 age :  "
       ]
      },
      {
       "output_type": "stream",
       "stream": "stdout",
       "text": [
        "10\n",
        "(123, 331) \n",
        "\n",
        "4830311"
       ]
      },
      {
       "output_type": "stream",
       "stream": "stdout",
       "text": [
        " 1 2 age :  "
       ]
      },
      {
       "output_type": "stream",
       "stream": "stdout",
       "text": [
        "37\n",
        "(123, 332) \n",
        "\n",
        "3196856"
       ]
      },
      {
       "output_type": "stream",
       "stream": "stdout",
       "text": [
        " 2 1 age :  "
       ]
      },
      {
       "output_type": "stream",
       "stream": "stdout",
       "text": [
        "10\n",
        "(123, 333) \n",
        "\n",
        "1867779"
       ]
      },
      {
       "output_type": "stream",
       "stream": "stdout",
       "text": [
        " 1 2 age :  "
       ]
      },
      {
       "output_type": "stream",
       "stream": "stdout",
       "text": [
        "20\n",
        "(123, 334) \n",
        "\n",
        "4404382"
       ]
      },
      {
       "output_type": "stream",
       "stream": "stdout",
       "text": [
        " 1 2 age :  "
       ]
      },
      {
       "output_type": "stream",
       "stream": "stdout",
       "text": [
        "17\n",
        "(123, 335) \n",
        "\n",
        "2045375"
       ]
      },
      {
       "output_type": "stream",
       "stream": "stdout",
       "text": [
        " 2 1 age :  "
       ]
      },
      {
       "output_type": "stream",
       "stream": "stdout",
       "text": [
        "22\n",
        "(123, 336) \n",
        "\n",
        "1793268"
       ]
      },
      {
       "output_type": "stream",
       "stream": "stdout",
       "text": [
        " 1 2 age :  "
       ]
      },
      {
       "output_type": "stream",
       "stream": "stdout",
       "text": [
        "18\n",
        "(123, 337) \n",
        "\n",
        "3828592"
       ]
      },
      {
       "output_type": "stream",
       "stream": "stdout",
       "text": [
        " 1 2 age :  "
       ]
      },
      {
       "output_type": "stream",
       "stream": "stdout",
       "text": [
        "10\n",
        "(123, 338) \n",
        "\n",
        "1855576"
       ]
      },
      {
       "output_type": "stream",
       "stream": "stdout",
       "text": [
        " 1 2 age :  "
       ]
      },
      {
       "output_type": "stream",
       "stream": "stdout",
       "text": [
        "30\n",
        "(123, 339) \n",
        "\n",
        "1633453"
       ]
      },
      {
       "output_type": "stream",
       "stream": "stdout",
       "text": [
        " 1 2 age :  "
       ]
      },
      {
       "output_type": "stream",
       "stream": "stdout",
       "text": [
        "20\n",
        "(123, 340) \n",
        "\n",
        "1925400"
       ]
      },
      {
       "output_type": "stream",
       "stream": "stdout",
       "text": [
        " 1 2 age :  "
       ]
      },
      {
       "output_type": "stream",
       "stream": "stdout",
       "text": [
        "20\n",
        "(123, 341) \n",
        "\n",
        "2424195"
       ]
      },
      {
       "output_type": "stream",
       "stream": "stdout",
       "text": [
        " 1 2 age :  "
       ]
      },
      {
       "output_type": "stream",
       "stream": "stdout",
       "text": [
        "20\n",
        "(123, 342) \n",
        "\n",
        "3488884"
       ]
      },
      {
       "output_type": "stream",
       "stream": "stdout",
       "text": [
        " 1 2 age :  "
       ]
      },
      {
       "output_type": "stream",
       "stream": "stdout",
       "text": [
        "10\n",
        "(123, 343) \n",
        "\n",
        "2077915"
       ]
      },
      {
       "output_type": "stream",
       "stream": "stdout",
       "text": [
        " 2 1 age :  "
       ]
      },
      {
       "output_type": "stream",
       "stream": "stdout",
       "text": [
        "30\n",
        "(123, 344) \n",
        "\n",
        "3893817"
       ]
      },
      {
       "output_type": "stream",
       "stream": "stdout",
       "text": [
        " 1 2 age :  "
       ]
      },
      {
       "output_type": "stream",
       "stream": "stdout",
       "text": [
        "56\n",
        "(123, 345) \n",
        "\n",
        "4041552"
       ]
      },
      {
       "output_type": "stream",
       "stream": "stdout",
       "text": [
        " 1 2 age :  "
       ]
      },
      {
       "output_type": "stream",
       "stream": "stdout",
       "text": [
        "20\n",
        "(123, 346) \n",
        "\n",
        "4830162"
       ]
      },
      {
       "output_type": "stream",
       "stream": "stdout",
       "text": [
        " 1 2 age :  "
       ]
      },
      {
       "output_type": "stream",
       "stream": "stdout",
       "text": [
        "10\n",
        "(123, 347) \n",
        "\n",
        "1932753"
       ]
      },
      {
       "output_type": "stream",
       "stream": "stdout",
       "text": [
        " 1 2 age :  "
       ]
      },
      {
       "output_type": "stream",
       "stream": "stdout",
       "text": [
        "20\n",
        "(123, 348) \n",
        "\n",
        "3316606"
       ]
      },
      {
       "output_type": "stream",
       "stream": "stdout",
       "text": [
        " 2 2 age :  "
       ]
      },
      {
       "output_type": "stream",
       "stream": "stdout",
       "text": [
        "50\n",
        "(124, 348) \n",
        "\n",
        "4091869"
       ]
      },
      {
       "output_type": "stream",
       "stream": "stdout",
       "text": [
        " 1 2 age :  "
       ]
      },
      {
       "output_type": "stream",
       "stream": "stdout",
       "text": [
        "20\n",
        "(124, 349) \n",
        "\n",
        "2023744"
       ]
      },
      {
       "output_type": "stream",
       "stream": "stdout",
       "text": [
        " 2 1 age :  "
       ]
      },
      {
       "output_type": "stream",
       "stream": "stdout",
       "text": [
        "10\n",
        "(124, 350) \n",
        "\n",
        "4652209"
       ]
      },
      {
       "output_type": "stream",
       "stream": "stdout",
       "text": [
        " 1 1 age :  "
       ]
      },
      {
       "output_type": "stream",
       "stream": "stdout",
       "text": [
        "10\n",
        "(125, 350) \n",
        "\n",
        "2166316"
       ]
      },
      {
       "output_type": "stream",
       "stream": "stdout",
       "text": [
        " 1 2 age :  "
       ]
      },
      {
       "output_type": "stream",
       "stream": "stdout",
       "text": [
        "15\n",
        "(125, 351) \n",
        "\n",
        "3171831"
       ]
      },
      {
       "output_type": "stream",
       "stream": "stdout",
       "text": [
        " 2 2 age :  "
       ]
      },
      {
       "output_type": "stream",
       "stream": "stdout",
       "text": [
        "35\n",
        "(126, 351) \n",
        "\n",
        "2294799"
       ]
      },
      {
       "output_type": "stream",
       "stream": "stdout",
       "text": [
        " 1 1 age :  "
       ]
      },
      {
       "output_type": "stream",
       "stream": "stdout",
       "text": [
        "30\n",
        "(127, 351) \n",
        "\n",
        "5419353"
       ]
      },
      {
       "output_type": "stream",
       "stream": "stdout",
       "text": [
        " 1 2 age :  "
       ]
      },
      {
       "output_type": "stream",
       "stream": "stdout",
       "text": [
        "10\n",
        "(127, 352) \n",
        "\n",
        "1920827"
       ]
      },
      {
       "output_type": "stream",
       "stream": "stdout",
       "text": [
        " 2 1 age :  "
       ]
      },
      {
       "output_type": "stream",
       "stream": "stdout",
       "text": [
        "20\n",
        "(127, 353) \n",
        "\n",
        "2176529"
       ]
      },
      {
       "output_type": "stream",
       "stream": "stdout",
       "text": [
        " 2 1 age :  "
       ]
      },
      {
       "output_type": "stream",
       "stream": "stdout",
       "text": [
        "10\n",
        "(127, 354) \n",
        "\n",
        "1734474"
       ]
      },
      {
       "output_type": "stream",
       "stream": "stdout",
       "text": [
        " 2 1 age :  "
       ]
      },
      {
       "output_type": "stream",
       "stream": "stdout",
       "text": [
        "10\n",
        "(127, 355) \n",
        "\n",
        "2118117"
       ]
      },
      {
       "output_type": "stream",
       "stream": "stdout",
       "text": [
        " 1 2 age :  "
       ]
      },
      {
       "output_type": "stream",
       "stream": "stdout",
       "text": [
        "30\n",
        "(127, 356) \n",
        "\n",
        "1893075"
       ]
      },
      {
       "output_type": "stream",
       "stream": "stdout",
       "text": [
        " 1 2 age :  "
       ]
      },
      {
       "output_type": "stream",
       "stream": "stdout",
       "text": [
        "20\n",
        "(127, 357) \n",
        "\n",
        "2924547"
       ]
      },
      {
       "output_type": "stream",
       "stream": "stdout",
       "text": [
        " 1 2 age :  "
       ]
      },
      {
       "output_type": "stream",
       "stream": "stdout",
       "text": [
        "10\n",
        "(127, 358) \n",
        "\n",
        "2658751"
       ]
      },
      {
       "output_type": "stream",
       "stream": "stdout",
       "text": [
        " 1 2 age :  "
       ]
      },
      {
       "output_type": "stream",
       "stream": "stdout",
       "text": [
        "42\n",
        "(127, 359) \n",
        "\n",
        "1764247"
       ]
      },
      {
       "output_type": "stream",
       "stream": "stdout",
       "text": [
        " 1 2 age :  "
       ]
      },
      {
       "output_type": "stream",
       "stream": "stdout",
       "text": [
        "10\n",
        "(127, 360) \n",
        "\n",
        "3603029"
       ]
      },
      {
       "output_type": "stream",
       "stream": "stdout",
       "text": [
        " 1 2 age :  "
       ]
      },
      {
       "output_type": "stream",
       "stream": "stdout",
       "text": [
        "20\n",
        "(127, 361) \n",
        "\n",
        "5624573"
       ]
      },
      {
       "output_type": "stream",
       "stream": "stdout",
       "text": [
        " 1 2 age :  "
       ]
      },
      {
       "output_type": "stream",
       "stream": "stdout",
       "text": [
        "10\n",
        "(127, 362) \n",
        "\n",
        "1663942"
       ]
      },
      {
       "output_type": "stream",
       "stream": "stdout",
       "text": [
        " 1 2 age :  "
       ]
      },
      {
       "output_type": "stream",
       "stream": "stdout",
       "text": [
        "30\n",
        "(127, 363) \n",
        "\n",
        "3454118"
       ]
      },
      {
       "output_type": "stream",
       "stream": "stdout",
       "text": [
        " 2 2 age :  "
       ]
      },
      {
       "output_type": "stream",
       "stream": "stdout",
       "text": [
        "28\n",
        "(128, 363) \n",
        "\n",
        "3231285"
       ]
      },
      {
       "output_type": "stream",
       "stream": "stdout",
       "text": [
        " 2 2 age :  "
       ]
      },
      {
       "output_type": "stream",
       "stream": "stdout",
       "text": [
        "20\n",
        "(129, 363) \n",
        "\n",
        "1330858"
       ]
      },
      {
       "output_type": "stream",
       "stream": "stdout",
       "text": [
        " 2 2 age :  "
       ]
      },
      {
       "output_type": "stream",
       "stream": "stdout",
       "text": [
        "20\n",
        "(130, 363) \n",
        "\n",
        "2015330"
       ]
      },
      {
       "output_type": "stream",
       "stream": "stdout",
       "text": [
        " 1 2 age :  "
       ]
      },
      {
       "output_type": "stream",
       "stream": "stdout",
       "text": [
        "30\n",
        "(130, 364) \n",
        "\n",
        "3478451"
       ]
      },
      {
       "output_type": "stream",
       "stream": "stdout",
       "text": [
        " 1 2 age :  "
       ]
      },
      {
       "output_type": "stream",
       "stream": "stdout",
       "text": [
        "10\n",
        "(130, 365) \n",
        "\n",
        "1698420"
       ]
      },
      {
       "output_type": "stream",
       "stream": "stdout",
       "text": [
        " 2 2 age :  "
       ]
      },
      {
       "output_type": "stream",
       "stream": "stdout",
       "text": [
        "22\n",
        "(131, 365) \n",
        "\n",
        "3838772"
       ]
      },
      {
       "output_type": "stream",
       "stream": "stdout",
       "text": [
        " 1 2 age :  "
       ]
      },
      {
       "output_type": "stream",
       "stream": "stdout",
       "text": [
        "40\n",
        "(131, 366) \n",
        "\n",
        "3866823"
       ]
      },
      {
       "output_type": "stream",
       "stream": "stdout",
       "text": [
        " 2 1 age :  "
       ]
      },
      {
       "output_type": "stream",
       "stream": "stdout",
       "text": [
        "32\n",
        "(131, 367) \n",
        "\n",
        "1786601"
       ]
      },
      {
       "output_type": "stream",
       "stream": "stdout",
       "text": [
        " 2 2 age :  "
       ]
      },
      {
       "output_type": "stream",
       "stream": "stdout",
       "text": [
        "18\n",
        "(132, 367) \n",
        "\n",
        "1779322"
       ]
      },
      {
       "output_type": "stream",
       "stream": "stdout",
       "text": [
        " 1 2 age :  "
       ]
      },
      {
       "output_type": "stream",
       "stream": "stdout",
       "text": [
        "30\n",
        "(132, 368) \n",
        "\n",
        "2187398"
       ]
      },
      {
       "output_type": "stream",
       "stream": "stdout",
       "text": [
        " 2 1 age :  "
       ]
      },
      {
       "output_type": "stream",
       "stream": "stdout",
       "text": [
        "10\n",
        "(132, 369) \n",
        "\n",
        "4852075"
       ]
      },
      {
       "output_type": "stream",
       "stream": "stdout",
       "text": [
        " 2 1 age :  "
       ]
      },
      {
       "output_type": "stream",
       "stream": "stdout",
       "text": [
        "10\n",
        "(132, 370) \n",
        "\n",
        "2824489"
       ]
      },
      {
       "output_type": "stream",
       "stream": "stdout",
       "text": [
        " 2 1 age :  "
       ]
      },
      {
       "output_type": "stream",
       "stream": "stdout",
       "text": [
        "20\n",
        "(132, 371) \n",
        "\n",
        "3340070"
       ]
      },
      {
       "output_type": "stream",
       "stream": "stdout",
       "text": [
        " 2 2 age :  "
       ]
      },
      {
       "output_type": "stream",
       "stream": "stdout",
       "text": [
        "20\n",
        "(133, 371) \n",
        "\n",
        "3784684"
       ]
      },
      {
       "output_type": "stream",
       "stream": "stdout",
       "text": [
        " 2 1 age :  "
       ]
      },
      {
       "output_type": "stream",
       "stream": "stdout",
       "text": [
        "20\n",
        "(133, 372) \n",
        "\n",
        "2190455"
       ]
      },
      {
       "output_type": "stream",
       "stream": "stdout",
       "text": [
        " 2 1 age :  "
       ]
      },
      {
       "output_type": "stream",
       "stream": "stdout",
       "text": [
        "10\n",
        "(133, 373) \n",
        "\n",
        "1950114"
       ]
      },
      {
       "output_type": "stream",
       "stream": "stdout",
       "text": [
        " 1 2 age :  "
       ]
      },
      {
       "output_type": "stream",
       "stream": "stdout",
       "text": [
        "10\n",
        "(133, 374) \n",
        "\n",
        "11369"
       ]
      },
      {
       "output_type": "stream",
       "stream": "stdout",
       "text": [
        " 2 1 age :  "
       ]
      },
      {
       "output_type": "stream",
       "stream": "stdout",
       "text": [
        "20\n",
        "(133, 375) \n",
        "\n",
        "2052837"
       ]
      },
      {
       "output_type": "stream",
       "stream": "stdout",
       "text": [
        " 1 2 age :  "
       ]
      },
      {
       "output_type": "stream",
       "stream": "stdout",
       "text": [
        "40\n",
        "(133, 376) \n",
        "\n",
        "4844291"
       ]
      },
      {
       "output_type": "stream",
       "stream": "stdout",
       "text": [
        " 1 2 age :  "
       ]
      },
      {
       "output_type": "stream",
       "stream": "stdout",
       "text": [
        "10\n",
        "(133, 377) \n",
        "\n",
        "4933435"
       ]
      },
      {
       "output_type": "stream",
       "stream": "stdout",
       "text": [
        " 1 2 age :  "
       ]
      },
      {
       "output_type": "stream",
       "stream": "stdout",
       "text": [
        "10\n",
        "(133, 378) \n",
        "\n",
        "3777238"
       ]
      },
      {
       "output_type": "stream",
       "stream": "stdout",
       "text": [
        " 1 2 age :  "
       ]
      },
      {
       "output_type": "stream",
       "stream": "stdout",
       "text": [
        "10\n",
        "(133, 379) \n",
        "\n",
        "5028349"
       ]
      },
      {
       "output_type": "stream",
       "stream": "stdout",
       "text": [
        " 1 2 age :  "
       ]
      },
      {
       "output_type": "stream",
       "stream": "stdout",
       "text": [
        "20\n",
        "(133, 380) \n",
        "\n",
        "3159290"
       ]
      },
      {
       "output_type": "stream",
       "stream": "stdout",
       "text": [
        " 2 2 age :  "
       ]
      },
      {
       "output_type": "stream",
       "stream": "stdout",
       "text": [
        "10\n",
        "(134, 380) \n",
        "\n",
        "1710529"
       ]
      },
      {
       "output_type": "stream",
       "stream": "stdout",
       "text": [
        " 2 2 age :  "
       ]
      },
      {
       "output_type": "stream",
       "stream": "stdout",
       "text": [
        "22\n",
        "(135, 380) \n",
        "\n",
        "3905969"
       ]
      },
      {
       "output_type": "stream",
       "stream": "stdout",
       "text": [
        " 2 2 age :  "
       ]
      },
      {
       "output_type": "stream",
       "stream": "stdout",
       "text": [
        "21\n",
        "(136, 380) \n",
        "\n",
        "3084622"
       ]
      },
      {
       "output_type": "stream",
       "stream": "stdout",
       "text": [
        " 1 2 age :  "
       ]
      },
      {
       "output_type": "stream",
       "stream": "stdout",
       "text": [
        "10\n",
        "(136, 381) \n",
        "\n",
        "5405035"
       ]
      },
      {
       "output_type": "stream",
       "stream": "stdout",
       "text": [
        " 1 2 age :  "
       ]
      },
      {
       "output_type": "stream",
       "stream": "stdout",
       "text": [
        "10\n",
        "(136, 382) \n",
        "\n",
        "3051065"
       ]
      },
      {
       "output_type": "stream",
       "stream": "stdout",
       "text": [
        " 2 2 age :  "
       ]
      },
      {
       "output_type": "stream",
       "stream": "stdout",
       "text": [
        "10\n",
        "(137, 382) \n",
        "\n",
        "1657460"
       ]
      },
      {
       "output_type": "stream",
       "stream": "stdout",
       "text": [
        " 1 2 age :  "
       ]
      },
      {
       "output_type": "stream",
       "stream": "stdout",
       "text": [
        "10\n",
        "(137, 383) \n",
        "\n",
        "3744312"
       ]
      },
      {
       "output_type": "stream",
       "stream": "stdout",
       "text": [
        " 1 2 age :  "
       ]
      },
      {
       "output_type": "stream",
       "stream": "stdout",
       "text": [
        "30\n",
        "(137, 384) \n",
        "\n",
        "1938581"
       ]
      },
      {
       "output_type": "stream",
       "stream": "stdout",
       "text": [
        " 1 2 age :  "
       ]
      },
      {
       "output_type": "stream",
       "stream": "stdout",
       "text": [
        "20\n",
        "(137, 385) \n",
        "\n",
        "1727297"
       ]
      },
      {
       "output_type": "stream",
       "stream": "stdout",
       "text": [
        " 1 2 age :  "
       ]
      },
      {
       "output_type": "stream",
       "stream": "stdout",
       "text": [
        "10\n",
        "(137, 386) \n",
        "\n",
        "2045254"
       ]
      },
      {
       "output_type": "stream",
       "stream": "stdout",
       "text": [
        " 2 2 age :  "
       ]
      },
      {
       "output_type": "stream",
       "stream": "stdout",
       "text": [
        "10\n",
        "(138, 386) \n",
        "\n",
        "3090759"
       ]
      },
      {
       "output_type": "stream",
       "stream": "stdout",
       "text": [
        " 2 2 age :  "
       ]
      },
      {
       "output_type": "stream",
       "stream": "stdout",
       "text": [
        "10\n",
        "(139, 386) \n",
        "\n",
        "2247240"
       ]
      },
      {
       "output_type": "stream",
       "stream": "stdout",
       "text": [
        " 1 2 age :  "
       ]
      },
      {
       "output_type": "stream",
       "stream": "stdout",
       "text": [
        "20\n",
        "(139, 387) \n",
        "\n",
        "4811040"
       ]
      },
      {
       "output_type": "stream",
       "stream": "stdout",
       "text": [
        " 1 2 age :  "
       ]
      },
      {
       "output_type": "stream",
       "stream": "stdout",
       "text": [
        "10\n",
        "(139, 388) \n",
        "\n",
        "4216133"
       ]
      },
      {
       "output_type": "stream",
       "stream": "stdout",
       "text": [
        " 1 2 age :  "
       ]
      },
      {
       "output_type": "stream",
       "stream": "stdout",
       "text": [
        "10\n",
        "(139, 389) \n",
        "\n",
        "3435102"
       ]
      },
      {
       "output_type": "stream",
       "stream": "stdout",
       "text": [
        " 1 2 age :  "
       ]
      },
      {
       "output_type": "stream",
       "stream": "stdout",
       "text": [
        "10\n",
        "(139, 390) \n",
        "\n",
        "1909808"
       ]
      },
      {
       "output_type": "stream",
       "stream": "stdout",
       "text": [
        " 2 2 age :  "
       ]
      },
      {
       "output_type": "stream",
       "stream": "stdout",
       "text": [
        "10\n",
        "(140, 390) \n",
        "\n",
        "1717370"
       ]
      },
      {
       "output_type": "stream",
       "stream": "stdout",
       "text": [
        " 1 2 age :  "
       ]
      },
      {
       "output_type": "stream",
       "stream": "stdout",
       "text": [
        "10\n",
        "(140, 391) \n",
        "\n",
        "4473447"
       ]
      },
      {
       "output_type": "stream",
       "stream": "stdout",
       "text": [
        " 2 2 age :  "
       ]
      },
      {
       "output_type": "stream",
       "stream": "stdout",
       "text": [
        "10\n",
        "(141, 391) \n",
        "\n",
        "1857090"
       ]
      },
      {
       "output_type": "stream",
       "stream": "stdout",
       "text": [
        " 1 1 age :  "
       ]
      },
      {
       "output_type": "stream",
       "stream": "stdout",
       "text": [
        "32\n",
        "(142, 391) \n",
        "\n",
        "1984453"
       ]
      },
      {
       "output_type": "stream",
       "stream": "stdout",
       "text": [
        " 2 2 age :  "
       ]
      },
      {
       "output_type": "stream",
       "stream": "stdout",
       "text": [
        "18\n",
        "(143, 391) \n",
        "\n",
        "3444499"
       ]
      },
      {
       "output_type": "stream",
       "stream": "stdout",
       "text": [
        " 1 2 age :  "
       ]
      },
      {
       "output_type": "stream",
       "stream": "stdout",
       "text": [
        "20\n",
        "(143, 392) \n",
        "\n",
        "5167260"
       ]
      },
      {
       "output_type": "stream",
       "stream": "stdout",
       "text": [
        " 1 2 age :  "
       ]
      },
      {
       "output_type": "stream",
       "stream": "stdout",
       "text": [
        "10\n",
        "(143, 393) \n",
        "\n",
        "1912137"
       ]
      },
      {
       "output_type": "stream",
       "stream": "stdout",
       "text": [
        " 1 2 age :  "
       ]
      },
      {
       "output_type": "stream",
       "stream": "stdout",
       "text": [
        "30\n",
        "(143, 394) \n",
        "\n",
        "4235978"
       ]
      },
      {
       "output_type": "stream",
       "stream": "stdout",
       "text": [
        " 1 2 age :  "
       ]
      },
      {
       "output_type": "stream",
       "stream": "stdout",
       "text": [
        "32\n",
        "(143, 395) \n",
        "\n",
        "3397720"
       ]
      },
      {
       "output_type": "stream",
       "stream": "stdout",
       "text": [
        " 1 2 age :  "
       ]
      },
      {
       "output_type": "stream",
       "stream": "stdout",
       "text": [
        "15\n",
        "(143, 396) \n",
        "\n",
        "3574764"
       ]
      },
      {
       "output_type": "stream",
       "stream": "stdout",
       "text": [
        " 1 2 age :  "
       ]
      },
      {
       "output_type": "stream",
       "stream": "stdout",
       "text": [
        "10\n",
        "(143, 397) \n",
        "\n",
        "3084097"
       ]
      },
      {
       "output_type": "stream",
       "stream": "stdout",
       "text": [
        " 1 2 age :  "
       ]
      },
      {
       "output_type": "stream",
       "stream": "stdout",
       "text": [
        "20\n",
        "(143, 398) \n",
        "\n",
        "1913818"
       ]
      },
      {
       "output_type": "stream",
       "stream": "stdout",
       "text": [
        " 1 2 age :  "
       ]
      },
      {
       "output_type": "stream",
       "stream": "stdout",
       "text": [
        "10\n",
        "(143, 399) \n",
        "\n",
        "2286261"
       ]
      },
      {
       "output_type": "stream",
       "stream": "stdout",
       "text": [
        " 2 2 age :  "
       ]
      },
      {
       "output_type": "stream",
       "stream": "stdout",
       "text": [
        "10\n",
        "(144, 399) \n",
        "\n",
        "4101186"
       ]
      },
      {
       "output_type": "stream",
       "stream": "stdout",
       "text": [
        " 1 2 age :  "
       ]
      },
      {
       "output_type": "stream",
       "stream": "stdout",
       "text": [
        "10\n",
        "(144, 400) \n",
        "\n",
        "1581786"
       ]
      },
      {
       "output_type": "stream",
       "stream": "stdout",
       "text": [
        " 2 1 age :  "
       ]
      },
      {
       "output_type": "stream",
       "stream": "stdout",
       "text": [
        "25\n",
        "(144, 401) \n",
        "\n",
        "4592586"
       ]
      },
      {
       "output_type": "stream",
       "stream": "stdout",
       "text": [
        " 2 1 age :  "
       ]
      },
      {
       "output_type": "stream",
       "stream": "stdout",
       "text": [
        "10\n",
        "(144, 402) \n",
        "\n",
        "3799182"
       ]
      },
      {
       "output_type": "stream",
       "stream": "stdout",
       "text": [
        " 1 2 age :  "
       ]
      },
      {
       "output_type": "stream",
       "stream": "stdout",
       "text": [
        "20\n",
        "(144, 403) \n",
        "\n",
        "1713401"
       ]
      },
      {
       "output_type": "stream",
       "stream": "stdout",
       "text": [
        " 1 1 age :  "
       ]
      },
      {
       "output_type": "stream",
       "stream": "stdout",
       "text": [
        "10\n",
        "(145, 403) \n",
        "\n",
        "5098395"
       ]
      },
      {
       "output_type": "stream",
       "stream": "stdout",
       "text": [
        " 1 2 age :  "
       ]
      },
      {
       "output_type": "stream",
       "stream": "stdout",
       "text": [
        "20\n",
        "(145, 404) \n",
        "\n",
        "1538974"
       ]
      },
      {
       "output_type": "stream",
       "stream": "stdout",
       "text": [
        " 1 2 age :  "
       ]
      },
      {
       "output_type": "stream",
       "stream": "stdout",
       "text": [
        "20\n",
        "(145, 405) \n",
        "\n",
        "4487424"
       ]
      },
      {
       "output_type": "stream",
       "stream": "stdout",
       "text": [
        " 2 1 age :  "
       ]
      },
      {
       "output_type": "stream",
       "stream": "stdout",
       "text": [
        "20\n",
        "(145, 406) \n",
        "\n",
        "3817986"
       ]
      },
      {
       "output_type": "stream",
       "stream": "stdout",
       "text": [
        " 1 2 age :  "
       ]
      },
      {
       "output_type": "stream",
       "stream": "stdout",
       "text": [
        "20\n",
        "(145, 407) \n",
        "\n",
        "3870615"
       ]
      },
      {
       "output_type": "stream",
       "stream": "stdout",
       "text": [
        " 2 1 age :  "
       ]
      },
      {
       "output_type": "stream",
       "stream": "stdout",
       "text": [
        "10\n",
        "(145, 408) \n",
        "\n",
        "1713244"
       ]
      },
      {
       "output_type": "stream",
       "stream": "stdout",
       "text": [
        " 2 2 age :  "
       ]
      },
      {
       "output_type": "stream",
       "stream": "stdout",
       "text": [
        "10\n",
        "(146, 408) \n",
        "\n",
        "2460474"
       ]
      },
      {
       "output_type": "stream",
       "stream": "stdout",
       "text": [
        " 1 2 age :  "
       ]
      },
      {
       "output_type": "stream",
       "stream": "stdout",
       "text": [
        "10\n",
        "(146, 409) \n",
        "\n",
        "4155280"
       ]
      },
      {
       "output_type": "stream",
       "stream": "stdout",
       "text": [
        " 1 2 age :  "
       ]
      },
      {
       "output_type": "stream",
       "stream": "stdout",
       "text": [
        "30\n",
        "(146, 410) \n",
        "\n",
        "1897172"
       ]
      },
      {
       "output_type": "stream",
       "stream": "stdout",
       "text": [
        " 1 2 age :  "
       ]
      },
      {
       "output_type": "stream",
       "stream": "stdout",
       "text": [
        "20\n",
        "(146, 411) \n",
        "\n",
        "4592371"
       ]
      },
      {
       "output_type": "stream",
       "stream": "stdout",
       "text": [
        " 1 2 age :  "
       ]
      },
      {
       "output_type": "stream",
       "stream": "stdout",
       "text": [
        "10\n",
        "(146, 412) \n",
        "\n",
        "2414841"
       ]
      },
      {
       "output_type": "stream",
       "stream": "stdout",
       "text": [
        " 1 2 age :  "
       ]
      },
      {
       "output_type": "stream",
       "stream": "stdout",
       "text": [
        "10\n",
        "(146, 413) \n",
        "\n",
        "2007359"
       ]
      },
      {
       "output_type": "stream",
       "stream": "stdout",
       "text": [
        " 2 2 age :  "
       ]
      },
      {
       "output_type": "stream",
       "stream": "stdout",
       "text": [
        "30\n",
        "(147, 413) \n",
        "\n",
        "4402751"
       ]
      },
      {
       "output_type": "stream",
       "stream": "stdout",
       "text": [
        " 2 1 age :  "
       ]
      },
      {
       "output_type": "stream",
       "stream": "stdout",
       "text": [
        "10\n",
        "(147, 414) \n",
        "\n",
        "2206881"
       ]
      },
      {
       "output_type": "stream",
       "stream": "stdout",
       "text": [
        " 1 2 age :  "
       ]
      },
      {
       "output_type": "stream",
       "stream": "stdout",
       "text": [
        "10\n",
        "(147, 415) \n",
        "\n",
        "2151514"
       ]
      },
      {
       "output_type": "stream",
       "stream": "stdout",
       "text": [
        " 1 2 age :  "
       ]
      },
      {
       "output_type": "stream",
       "stream": "stdout",
       "text": [
        "30\n",
        "(147, 416) \n",
        "\n",
        "3613117"
       ]
      },
      {
       "output_type": "stream",
       "stream": "stdout",
       "text": [
        " 1 2 age :  "
       ]
      },
      {
       "output_type": "stream",
       "stream": "stdout",
       "text": [
        "10\n",
        "(147, 417) \n",
        "\n",
        "1810133"
       ]
      },
      {
       "output_type": "stream",
       "stream": "stdout",
       "text": [
        " 1 2 age :  "
       ]
      },
      {
       "output_type": "stream",
       "stream": "stdout",
       "text": [
        "20\n",
        "(147, 418) \n",
        "\n",
        "1554523"
       ]
      },
      {
       "output_type": "stream",
       "stream": "stdout",
       "text": [
        " 1 2 age :  "
       ]
      },
      {
       "output_type": "stream",
       "stream": "stdout",
       "text": [
        "10\n",
        "(147, 419) \n",
        "\n",
        "1357506"
       ]
      },
      {
       "output_type": "stream",
       "stream": "stdout",
       "text": [
        " 2 1 age :  "
       ]
      },
      {
       "output_type": "stream",
       "stream": "stdout",
       "text": [
        "20\n",
        "(147, 420) \n",
        "\n",
        "1691251"
       ]
      },
      {
       "output_type": "stream",
       "stream": "stdout",
       "text": [
        " 1 2 age :  "
       ]
      },
      {
       "output_type": "stream",
       "stream": "stdout",
       "text": [
        "10\n",
        "(147, 421) \n",
        "\n",
        "5124953"
       ]
      },
      {
       "output_type": "stream",
       "stream": "stdout",
       "text": [
        " 1 2 age :  "
       ]
      },
      {
       "output_type": "stream",
       "stream": "stdout",
       "text": [
        "15\n",
        "(147, 422) \n",
        "\n",
        "2231928"
       ]
      },
      {
       "output_type": "stream",
       "stream": "stdout",
       "text": [
        " 2 2 age :  "
       ]
      },
      {
       "output_type": "stream",
       "stream": "stdout",
       "text": [
        "20\n",
        "(148, 422) \n",
        "\n",
        "4652472"
       ]
      },
      {
       "output_type": "stream",
       "stream": "stdout",
       "text": [
        " 1 2 age :  "
       ]
      },
      {
       "output_type": "stream",
       "stream": "stdout",
       "text": [
        "10\n",
        "(148, 423) \n",
        "\n",
        "2793622"
       ]
      },
      {
       "output_type": "stream",
       "stream": "stdout",
       "text": [
        " 2 2 age :  "
       ]
      },
      {
       "output_type": "stream",
       "stream": "stdout",
       "text": [
        "32\n",
        "(149, 423) \n",
        "\n",
        "2874734"
       ]
      },
      {
       "output_type": "stream",
       "stream": "stdout",
       "text": [
        " 1 2 age :  "
       ]
      },
      {
       "output_type": "stream",
       "stream": "stdout",
       "text": [
        "10\n",
        "(149, 424) \n",
        "\n",
        "4107489"
       ]
      },
      {
       "output_type": "stream",
       "stream": "stdout",
       "text": [
        " 2 1 age :  "
       ]
      },
      {
       "output_type": "stream",
       "stream": "stdout",
       "text": [
        "18\n",
        "(149, 425) \n",
        "\n",
        "4692770"
       ]
      },
      {
       "output_type": "stream",
       "stream": "stdout",
       "text": [
        " 1 2 age :  "
       ]
      },
      {
       "output_type": "stream",
       "stream": "stdout",
       "text": [
        "22\n",
        "(149, 426) \n",
        "\n",
        "2135743"
       ]
      },
      {
       "output_type": "stream",
       "stream": "stdout",
       "text": [
        " 1 2 age :  "
       ]
      },
      {
       "output_type": "stream",
       "stream": "stdout",
       "text": [
        "20\n",
        "(149, 427) \n",
        "\n",
        "3730915"
       ]
      },
      {
       "output_type": "stream",
       "stream": "stdout",
       "text": [
        " 1 2 age :  "
       ]
      },
      {
       "output_type": "stream",
       "stream": "stdout",
       "text": [
        "10\n",
        "(149, 428) \n",
        "\n",
        "2055221"
       ]
      },
      {
       "output_type": "stream",
       "stream": "stdout",
       "text": [
        " 1 2 age :  "
       ]
      },
      {
       "output_type": "stream",
       "stream": "stdout",
       "text": [
        "10\n",
        "(149, 429) \n",
        "\n",
        "2435995"
       ]
      },
      {
       "output_type": "stream",
       "stream": "stdout",
       "text": [
        " 1 2 age :  "
       ]
      },
      {
       "output_type": "stream",
       "stream": "stdout",
       "text": [
        "20\n",
        "(149, 430) \n",
        "\n",
        "3000663"
       ]
      },
      {
       "output_type": "stream",
       "stream": "stdout",
       "text": [
        " 2 2 age :  "
       ]
      },
      {
       "output_type": "stream",
       "stream": "stdout",
       "text": [
        "18\n",
        "(150, 430) \n",
        "\n",
        "4924513"
       ]
      },
      {
       "output_type": "stream",
       "stream": "stdout",
       "text": [
        " 1 1 age :  "
       ]
      },
      {
       "output_type": "stream",
       "stream": "stdout",
       "text": [
        "10\n",
        "(151, 430) \n",
        "\n",
        "2118119"
       ]
      },
      {
       "output_type": "stream",
       "stream": "stdout",
       "text": [
        " 1 1 age :  "
       ]
      },
      {
       "output_type": "stream",
       "stream": "stdout",
       "text": [
        "10\n",
        "(152, 430) \n",
        "\n",
        "1159455"
       ]
      },
      {
       "output_type": "stream",
       "stream": "stdout",
       "text": [
        " 2 1 age :  "
       ]
      },
      {
       "output_type": "stream",
       "stream": "stdout",
       "text": [
        "10\n",
        "(152, 431) \n",
        "\n",
        "3798065"
       ]
      },
      {
       "output_type": "stream",
       "stream": "stdout",
       "text": [
        " 1 2 age :  "
       ]
      },
      {
       "output_type": "stream",
       "stream": "stdout",
       "text": [
        "10\n",
        "(152, 432) \n",
        "\n",
        "2152845"
       ]
      },
      {
       "output_type": "stream",
       "stream": "stdout",
       "text": [
        " 2 2 age :  "
       ]
      },
      {
       "output_type": "stream",
       "stream": "stdout",
       "text": [
        "10\n",
        "(153, 432) \n",
        "\n",
        "3800856"
       ]
      },
      {
       "output_type": "stream",
       "stream": "stdout",
       "text": [
        " 1 2 age :  "
       ]
      },
      {
       "output_type": "stream",
       "stream": "stdout",
       "text": [
        "10\n",
        "(153, 433) \n",
        "\n",
        "3276104"
       ]
      },
      {
       "output_type": "stream",
       "stream": "stdout",
       "text": [
        " 1 2 age :  "
       ]
      },
      {
       "output_type": "stream",
       "stream": "stdout",
       "text": [
        "20\n",
        "(153, 434) \n",
        "\n",
        "3850923"
       ]
      },
      {
       "output_type": "stream",
       "stream": "stdout",
       "text": [
        " 1 2 age :  "
       ]
      },
      {
       "output_type": "stream",
       "stream": "stdout",
       "text": [
        "10\n",
        "(153, 435) \n",
        "\n",
        "311731"
       ]
      },
      {
       "output_type": "stream",
       "stream": "stdout",
       "text": [
        " 1 2 age :  "
       ]
      },
      {
       "output_type": "stream",
       "stream": "stdout",
       "text": [
        "20\n",
        "(153, 436) \n",
        "\n",
        "4843022"
       ]
      },
      {
       "output_type": "stream",
       "stream": "stdout",
       "text": [
        " 1 2 age :  "
       ]
      },
      {
       "output_type": "stream",
       "stream": "stdout",
       "text": [
        "10\n",
        "(153, 437) \n",
        "\n",
        "1743418"
       ]
      },
      {
       "output_type": "stream",
       "stream": "stdout",
       "text": [
        " 1 2 age :  "
       ]
      },
      {
       "output_type": "stream",
       "stream": "stdout",
       "text": [
        "10\n",
        "(153, 438) \n",
        "\n",
        "1785071"
       ]
      },
      {
       "output_type": "stream",
       "stream": "stdout",
       "text": [
        " 1 1 age :  "
       ]
      },
      {
       "output_type": "stream",
       "stream": "stdout",
       "text": [
        "30\n",
        "(154, 438) \n",
        "\n",
        "1560698"
       ]
      },
      {
       "output_type": "stream",
       "stream": "stdout",
       "text": [
        " 1 2 age :  "
       ]
      },
      {
       "output_type": "stream",
       "stream": "stdout",
       "text": [
        "20\n",
        "(154, 439) \n",
        "\n",
        "4613921"
       ]
      },
      {
       "output_type": "stream",
       "stream": "stdout",
       "text": [
        " 1 2 age :  "
       ]
      },
      {
       "output_type": "stream",
       "stream": "stdout",
       "text": [
        "30\n",
        "(154, 440) \n",
        "\n",
        "3305478"
       ]
      },
      {
       "output_type": "stream",
       "stream": "stdout",
       "text": [
        " 2 2 age :  "
       ]
      },
      {
       "output_type": "stream",
       "stream": "stdout",
       "text": [
        "10\n",
        "(155, 440) \n",
        "\n",
        "4125251"
       ]
      },
      {
       "output_type": "stream",
       "stream": "stdout",
       "text": [
        " 2 1 age :  "
       ]
      },
      {
       "output_type": "stream",
       "stream": "stdout",
       "text": [
        "20\n",
        "(155, 441) \n",
        "\n",
        "1967389"
       ]
      },
      {
       "output_type": "stream",
       "stream": "stdout",
       "text": [
        " 1 2 age :  "
       ]
      },
      {
       "output_type": "stream",
       "stream": "stdout",
       "text": [
        "30\n",
        "(155, 442) \n",
        "\n",
        "2955318"
       ]
      },
      {
       "output_type": "stream",
       "stream": "stdout",
       "text": [
        " 1 2 age :  "
       ]
      },
      {
       "output_type": "stream",
       "stream": "stdout",
       "text": [
        "20\n",
        "(155, 443) \n",
        "\n",
        "1936558"
       ]
      },
      {
       "output_type": "stream",
       "stream": "stdout",
       "text": [
        " 1 2 age :  "
       ]
      },
      {
       "output_type": "stream",
       "stream": "stdout",
       "text": [
        "20\n",
        "(155, 444) \n",
        "\n",
        "1851994"
       ]
      },
      {
       "output_type": "stream",
       "stream": "stdout",
       "text": [
        " 1 2 age :  "
       ]
      },
      {
       "output_type": "stream",
       "stream": "stdout",
       "text": [
        "10\n",
        "(155, 445) \n",
        "\n",
        "5492355"
       ]
      },
      {
       "output_type": "stream",
       "stream": "stdout",
       "text": [
        " 1 2 age :  "
       ]
      },
      {
       "output_type": "stream",
       "stream": "stdout",
       "text": [
        "20\n",
        "(155, 446) \n",
        "\n",
        "2006697"
       ]
      },
      {
       "output_type": "stream",
       "stream": "stdout",
       "text": [
        " 1 2 age :  "
       ]
      },
      {
       "output_type": "stream",
       "stream": "stdout",
       "text": [
        "10\n",
        "(155, 447) \n",
        "\n",
        "1035613"
       ]
      },
      {
       "output_type": "stream",
       "stream": "stdout",
       "text": [
        " 2 1 age :  "
       ]
      },
      {
       "output_type": "stream",
       "stream": "stdout",
       "text": [
        "20\n",
        "(155, 448) \n",
        "\n",
        "4892372"
       ]
      },
      {
       "output_type": "stream",
       "stream": "stdout",
       "text": [
        " 1 2 age :  "
       ]
      },
      {
       "output_type": "stream",
       "stream": "stdout",
       "text": [
        "20\n",
        "(155, 449) \n",
        "\n",
        "3684504"
       ]
      },
      {
       "output_type": "stream",
       "stream": "stdout",
       "text": [
        " 1 2 age :  "
       ]
      },
      {
       "output_type": "stream",
       "stream": "stdout",
       "text": [
        "20\n",
        "(155, 450) \n",
        "\n",
        "1464252"
       ]
      },
      {
       "output_type": "stream",
       "stream": "stdout",
       "text": [
        " 2 1 age :  "
       ]
      },
      {
       "output_type": "stream",
       "stream": "stdout",
       "text": [
        "10\n",
        "(155, 451) \n",
        "\n",
        "1079322"
       ]
      },
      {
       "output_type": "stream",
       "stream": "stdout",
       "text": [
        " 1 2 age :  "
       ]
      },
      {
       "output_type": "stream",
       "stream": "stdout",
       "text": [
        "22\n",
        "(155, 452) \n",
        "\n",
        "3023903"
       ]
      },
      {
       "output_type": "stream",
       "stream": "stdout",
       "text": [
        " 1 2 age :  "
       ]
      },
      {
       "output_type": "stream",
       "stream": "stdout",
       "text": [
        "10\n",
        "(155, 453) \n",
        "\n",
        "5098743"
       ]
      },
      {
       "output_type": "stream",
       "stream": "stdout",
       "text": [
        " 1 2 age :  "
       ]
      },
      {
       "output_type": "stream",
       "stream": "stdout",
       "text": [
        "10\n",
        "(155, 454) \n",
        "\n",
        "1755218"
       ]
      },
      {
       "output_type": "stream",
       "stream": "stdout",
       "text": [
        " 2 1 age :  "
       ]
      },
      {
       "output_type": "stream",
       "stream": "stdout",
       "text": [
        "10\n",
        "(155, 455) \n",
        "\n",
        "4974066"
       ]
      },
      {
       "output_type": "stream",
       "stream": "stdout",
       "text": [
        " 2 1 age :  "
       ]
      },
      {
       "output_type": "stream",
       "stream": "stdout",
       "text": [
        "20\n",
        "(155, 456) \n",
        "\n",
        "2262787"
       ]
      },
      {
       "output_type": "stream",
       "stream": "stdout",
       "text": [
        " 2 1 age :  "
       ]
      },
      {
       "output_type": "stream",
       "stream": "stdout",
       "text": [
        "10\n",
        "(155, 457) \n",
        "\n",
        "3015516"
       ]
      },
      {
       "output_type": "stream",
       "stream": "stdout",
       "text": [
        " 1 2 age :  "
       ]
      },
      {
       "output_type": "stream",
       "stream": "stdout",
       "text": [
        "10\n",
        "(155, 458) \n",
        "\n",
        "1953536"
       ]
      },
      {
       "output_type": "stream",
       "stream": "stdout",
       "text": [
        " 2 2 age :  "
       ]
      },
      {
       "output_type": "stream",
       "stream": "stdout",
       "text": [
        "10\n",
        "(156, 458) \n",
        "\n",
        "5040314"
       ]
      },
      {
       "output_type": "stream",
       "stream": "stdout",
       "text": [
        " 2 2 age :  "
       ]
      },
      {
       "output_type": "stream",
       "stream": "stdout",
       "text": [
        "10\n",
        "(157, 458) \n",
        "\n",
        "1841060"
       ]
      },
      {
       "output_type": "stream",
       "stream": "stdout",
       "text": [
        " 1 2 age :  "
       ]
      },
      {
       "output_type": "stream",
       "stream": "stdout",
       "text": [
        "10\n",
        "(157, 459) \n",
        "\n",
        "4481047"
       ]
      },
      {
       "output_type": "stream",
       "stream": "stdout",
       "text": [
        " 2 1 age :  "
       ]
      },
      {
       "output_type": "stream",
       "stream": "stdout",
       "text": [
        "10\n",
        "(157, 460) \n",
        "\n",
        "2118913"
       ]
      },
      {
       "output_type": "stream",
       "stream": "stdout",
       "text": [
        " 2 1 age :  "
       ]
      },
      {
       "output_type": "stream",
       "stream": "stdout",
       "text": [
        "10\n",
        "(157, 461) \n",
        "\n",
        "2981487"
       ]
      },
      {
       "output_type": "stream",
       "stream": "stdout",
       "text": [
        " 1 2 age :  "
       ]
      },
      {
       "output_type": "stream",
       "stream": "stdout",
       "text": [
        "10\n",
        "(157, 462) \n",
        "\n",
        "1043583"
       ]
      },
      {
       "output_type": "stream",
       "stream": "stdout",
       "text": [
        " 1 2 age :  "
       ]
      },
      {
       "output_type": "stream",
       "stream": "stdout",
       "text": [
        "30\n",
        "(157, 463) \n",
        "\n",
        "1974367"
       ]
      },
      {
       "output_type": "stream",
       "stream": "stdout",
       "text": [
        " 1 2 age :  "
       ]
      },
      {
       "output_type": "stream",
       "stream": "stdout",
       "text": [
        "10\n",
        "(157, 464) \n",
        "\n",
        "4889467"
       ]
      },
      {
       "output_type": "stream",
       "stream": "stdout",
       "text": [
        " 2 2 age :  "
       ]
      },
      {
       "output_type": "stream",
       "stream": "stdout",
       "text": [
        "10\n",
        "(158, 464) \n",
        "\n",
        "1941861"
       ]
      },
      {
       "output_type": "stream",
       "stream": "stdout",
       "text": [
        " 1 2 age :  "
       ]
      },
      {
       "output_type": "stream",
       "stream": "stdout",
       "text": [
        "25\n",
        "(158, 465) \n",
        "\n",
        "1444872"
       ]
      },
      {
       "output_type": "stream",
       "stream": "stdout",
       "text": [
        " 2 1 age :  "
       ]
      },
      {
       "output_type": "stream",
       "stream": "stdout",
       "text": [
        "20\n",
        "(158, 466) \n",
        "\n",
        "1588820"
       ]
      },
      {
       "output_type": "stream",
       "stream": "stdout",
       "text": [
        " 1 2 age :  "
       ]
      },
      {
       "output_type": "stream",
       "stream": "stdout",
       "text": [
        "42\n",
        "(158, 467) \n",
        "\n",
        "4608516"
       ]
      },
      {
       "output_type": "stream",
       "stream": "stdout",
       "text": [
        " 1 2 age :  "
       ]
      },
      {
       "output_type": "stream",
       "stream": "stdout",
       "text": [
        "30\n",
        "(158, 468) \n",
        "\n",
        "3783936"
       ]
      },
      {
       "output_type": "stream",
       "stream": "stdout",
       "text": [
        " 1 2 age :  "
       ]
      },
      {
       "output_type": "stream",
       "stream": "stdout",
       "text": [
        "10\n",
        "(158, 469) \n",
        "\n",
        "3891622"
       ]
      },
      {
       "output_type": "stream",
       "stream": "stdout",
       "text": [
        " 2 2 age :  "
       ]
      },
      {
       "output_type": "stream",
       "stream": "stdout",
       "text": [
        "60\n",
        "(159, 469) \n",
        "\n",
        "5666180"
       ]
      },
      {
       "output_type": "stream",
       "stream": "stdout",
       "text": [
        " 1 2 age :  "
       ]
      },
      {
       "output_type": "stream",
       "stream": "stdout",
       "text": [
        "10\n",
        "(159, 470) \n",
        "\n",
        "1626423"
       ]
      },
      {
       "output_type": "stream",
       "stream": "stdout",
       "text": [
        " 1 2 age :  "
       ]
      },
      {
       "output_type": "stream",
       "stream": "stdout",
       "text": [
        "27\n",
        "(159, 471) \n",
        "\n",
        "5097254"
       ]
      },
      {
       "output_type": "stream",
       "stream": "stdout",
       "text": [
        " 1 2 age :  "
       ]
      },
      {
       "output_type": "stream",
       "stream": "stdout",
       "text": [
        "20\n",
        "(159, 472) \n",
        "\n",
        "2791535"
       ]
      },
      {
       "output_type": "stream",
       "stream": "stdout",
       "text": [
        " 1 2 age :  "
       ]
      },
      {
       "output_type": "stream",
       "stream": "stdout",
       "text": [
        "20\n",
        "(159, 473) \n",
        "\n",
        "68083"
       ]
      },
      {
       "output_type": "stream",
       "stream": "stdout",
       "text": [
        " 1 2 age :  "
       ]
      },
      {
       "output_type": "stream",
       "stream": "stdout",
       "text": [
        "20\n",
        "(159, 474) \n",
        "\n",
        "2302257"
       ]
      },
      {
       "output_type": "stream",
       "stream": "stdout",
       "text": [
        " 2 2 age :  "
       ]
      },
      {
       "output_type": "stream",
       "stream": "stdout",
       "text": [
        "18\n",
        "(160, 474) \n",
        "\n",
        "3852443"
       ]
      },
      {
       "output_type": "stream",
       "stream": "stdout",
       "text": [
        " 1 2 age :  "
       ]
      },
      {
       "output_type": "stream",
       "stream": "stdout",
       "text": [
        "20\n",
        "(160, 475) \n",
        "\n",
        "1327728"
       ]
      },
      {
       "output_type": "stream",
       "stream": "stdout",
       "text": [
        " 2 2 age :  "
       ]
      },
      {
       "output_type": "stream",
       "stream": "stdout",
       "text": [
        "10\n",
        "(161, 475) \n",
        "\n",
        "5313438"
       ]
      },
      {
       "output_type": "stream",
       "stream": "stdout",
       "text": [
        " 1 2 age :  "
       ]
      },
      {
       "output_type": "stream",
       "stream": "stdout",
       "text": [
        "10\n",
        "(161, 476) \n",
        "\n",
        "2785548"
       ]
      },
      {
       "output_type": "stream",
       "stream": "stdout",
       "text": [
        " 1 2 age :  "
       ]
      },
      {
       "output_type": "stream",
       "stream": "stdout",
       "text": [
        "20\n",
        "(161, 477) \n",
        "\n",
        "4566416"
       ]
      },
      {
       "output_type": "stream",
       "stream": "stdout",
       "text": [
        " 1 2 age :  "
       ]
      },
      {
       "output_type": "stream",
       "stream": "stdout",
       "text": [
        "30\n",
        "(161, 478) \n",
        "\n",
        "1738384"
       ]
      },
      {
       "output_type": "stream",
       "stream": "stdout",
       "text": [
        " 1 2 age :  "
       ]
      },
      {
       "output_type": "stream",
       "stream": "stdout",
       "text": [
        "10\n",
        "(161, 479) \n",
        "\n",
        "1725575"
       ]
      },
      {
       "output_type": "stream",
       "stream": "stdout",
       "text": [
        " 2 2 age :  "
       ]
      },
      {
       "output_type": "stream",
       "stream": "stdout",
       "text": [
        "40\n",
        "(162, 479) \n",
        "\n",
        "3893262"
       ]
      },
      {
       "output_type": "stream",
       "stream": "stdout",
       "text": [
        " 1 2 age :  "
       ]
      },
      {
       "output_type": "stream",
       "stream": "stdout",
       "text": [
        "10\n",
        "(162, 480) \n",
        "\n",
        "1890409"
       ]
      },
      {
       "output_type": "stream",
       "stream": "stdout",
       "text": [
        " 1 2 age :  "
       ]
      },
      {
       "output_type": "stream",
       "stream": "stdout",
       "text": [
        "40\n",
        "(162, 481) \n",
        "\n",
        "5435748"
       ]
      },
      {
       "output_type": "stream",
       "stream": "stdout",
       "text": [
        " 1 2 age :  "
       ]
      },
      {
       "output_type": "stream",
       "stream": "stdout",
       "text": [
        "20\n",
        "(162, 482) \n",
        "\n",
        "1632047"
       ]
      },
      {
       "output_type": "stream",
       "stream": "stdout",
       "text": [
        " 2 1 age :  "
       ]
      },
      {
       "output_type": "stream",
       "stream": "stdout",
       "text": [
        "10\n",
        "(162, 483) \n",
        "\n",
        "1914121"
       ]
      },
      {
       "output_type": "stream",
       "stream": "stdout",
       "text": [
        " 1 2 age :  "
       ]
      },
      {
       "output_type": "stream",
       "stream": "stdout",
       "text": [
        "10\n",
        "(162, 484) \n",
        "\n",
        "4879983"
       ]
      },
      {
       "output_type": "stream",
       "stream": "stdout",
       "text": [
        " 1 2 age :  "
       ]
      },
      {
       "output_type": "stream",
       "stream": "stdout",
       "text": [
        "30\n",
        "(162, 485) \n",
        "\n",
        "1618301"
       ]
      },
      {
       "output_type": "stream",
       "stream": "stdout",
       "text": [
        " 2 1 age :  "
       ]
      },
      {
       "output_type": "stream",
       "stream": "stdout",
       "text": [
        "10\n",
        "(162, 486) \n",
        "\n",
        "1708560"
       ]
      },
      {
       "output_type": "stream",
       "stream": "stdout",
       "text": [
        " 2 1 age :  "
       ]
      },
      {
       "output_type": "stream",
       "stream": "stdout",
       "text": [
        "10\n",
        "(162, 487) \n",
        "\n",
        "2032879"
       ]
      },
      {
       "output_type": "stream",
       "stream": "stdout",
       "text": [
        " 2 1 age :  "
       ]
      },
      {
       "output_type": "stream",
       "stream": "stdout",
       "text": [
        "10\n",
        "(162, 488) \n",
        "\n",
        "2068186"
       ]
      },
      {
       "output_type": "stream",
       "stream": "stdout",
       "text": [
        " 2 2 age :  "
       ]
      },
      {
       "output_type": "stream",
       "stream": "stdout",
       "text": [
        "10\n",
        "(163, 488) \n",
        "\n",
        "1974552"
       ]
      },
      {
       "output_type": "stream",
       "stream": "stdout",
       "text": [
        " 2 1 age :  "
       ]
      },
      {
       "output_type": "stream",
       "stream": "stdout",
       "text": [
        "10\n",
        "(163, 489) \n",
        "\n",
        "1631124"
       ]
      },
      {
       "output_type": "stream",
       "stream": "stdout",
       "text": [
        " 2 2 age :  "
       ]
      },
      {
       "output_type": "stream",
       "stream": "stdout",
       "text": [
        "10\n",
        "(164, 489) \n",
        "\n",
        "1741513"
       ]
      },
      {
       "output_type": "stream",
       "stream": "stdout",
       "text": [
        " 2 2 age :  "
       ]
      },
      {
       "output_type": "stream",
       "stream": "stdout",
       "text": [
        "20\n",
        "(165, 489) \n",
        "\n",
        "5520014"
       ]
      },
      {
       "output_type": "stream",
       "stream": "stdout",
       "text": [
        " 1 2 age :  "
       ]
      },
      {
       "output_type": "stream",
       "stream": "stdout",
       "text": [
        "12\n",
        "(165, 490) \n",
        "\n",
        "2025754"
       ]
      },
      {
       "output_type": "stream",
       "stream": "stdout",
       "text": [
        " 1 2 age :  "
       ]
      },
      {
       "output_type": "stream",
       "stream": "stdout",
       "text": [
        "20\n",
        "(165, 491) \n",
        "\n",
        "4771284"
       ]
      },
      {
       "output_type": "stream",
       "stream": "stdout",
       "text": [
        " 1 2 age :  "
       ]
      },
      {
       "output_type": "stream",
       "stream": "stdout",
       "text": [
        "30\n",
        "(165, 492) \n",
        "\n",
        "2126807"
       ]
      },
      {
       "output_type": "stream",
       "stream": "stdout",
       "text": [
        " 2 2 age :  "
       ]
      },
      {
       "output_type": "stream",
       "stream": "stdout",
       "text": [
        "50\n",
        "(166, 492) \n",
        "\n",
        "1910564"
       ]
      },
      {
       "output_type": "stream",
       "stream": "stdout",
       "text": [
        " 1 2 age :  "
       ]
      },
      {
       "output_type": "stream",
       "stream": "stdout",
       "text": [
        "10\n",
        "(166, 493) \n",
        "\n",
        "1898812"
       ]
      },
      {
       "output_type": "stream",
       "stream": "stdout",
       "text": [
        " 1 2 age :  "
       ]
      },
      {
       "output_type": "stream",
       "stream": "stdout",
       "text": [
        "50\n",
        "(166, 494) \n",
        "\n",
        "3078568"
       ]
      },
      {
       "output_type": "stream",
       "stream": "stdout",
       "text": [
        " 1 2 age :  "
       ]
      },
      {
       "output_type": "stream",
       "stream": "stdout",
       "text": [
        "10\n",
        "(166, 495) \n",
        "\n",
        "1749843"
       ]
      },
      {
       "output_type": "stream",
       "stream": "stdout",
       "text": [
        " 1 1 age :  "
       ]
      },
      {
       "output_type": "stream",
       "stream": "stdout",
       "text": [
        "10\n",
        "(167, 495) \n",
        "\n",
        "1951152"
       ]
      },
      {
       "output_type": "stream",
       "stream": "stdout",
       "text": [
        " 2 1 age :  "
       ]
      },
      {
       "output_type": "stream",
       "stream": "stdout",
       "text": [
        "18\n",
        "(167, 496) \n",
        "\n",
        "1706602"
       ]
      },
      {
       "output_type": "stream",
       "stream": "stdout",
       "text": [
        " 1 2 age :  "
       ]
      },
      {
       "output_type": "stream",
       "stream": "stdout",
       "text": [
        "10\n",
        "(167, 497) \n",
        "\n",
        "4577267"
       ]
      },
      {
       "output_type": "stream",
       "stream": "stdout",
       "text": [
        " 2 2 age :  "
       ]
      },
      {
       "output_type": "stream",
       "stream": "stdout",
       "text": [
        "18\n",
        "(168, 497) \n",
        "\n",
        "2530241"
       ]
      },
      {
       "output_type": "stream",
       "stream": "stdout",
       "text": [
        " 1 2 age :  "
       ]
      },
      {
       "output_type": "stream",
       "stream": "stdout",
       "text": [
        "40\n",
        "(168, 498) \n",
        "\n",
        "1134716"
       ]
      },
      {
       "output_type": "stream",
       "stream": "stdout",
       "text": [
        " 2 1 age :  "
       ]
      },
      {
       "output_type": "stream",
       "stream": "stdout",
       "text": [
        "20\n",
        "(168, 499) \n",
        "\n",
        "2566671"
       ]
      },
      {
       "output_type": "stream",
       "stream": "stdout",
       "text": [
        " 1 2 age :  "
       ]
      },
      {
       "output_type": "stream",
       "stream": "stdout",
       "text": [
        "30\n",
        "(168, 500) \n",
        "\n",
        "2798694"
       ]
      },
      {
       "output_type": "stream",
       "stream": "stdout",
       "text": [
        " 2 1 age :  "
       ]
      },
      {
       "output_type": "stream",
       "stream": "stdout",
       "text": [
        "30\n",
        "(168, 501) \n",
        "\n",
        "3838201"
       ]
      },
      {
       "output_type": "stream",
       "stream": "stdout",
       "text": [
        " 1 2 age :  "
       ]
      },
      {
       "output_type": "stream",
       "stream": "stdout",
       "text": [
        "10\n",
        "(168, 502) \n",
        "\n",
        "5098458"
       ]
      },
      {
       "output_type": "stream",
       "stream": "stdout",
       "text": [
        " 2 2 age :  "
       ]
      },
      {
       "output_type": "stream",
       "stream": "stdout",
       "text": [
        "10\n",
        "(169, 502) \n",
        "\n",
        "1560578"
       ]
      },
      {
       "output_type": "stream",
       "stream": "stdout",
       "text": [
        " 1 2 age :  "
       ]
      },
      {
       "output_type": "stream",
       "stream": "stdout",
       "text": [
        "25\n",
        "(169, 503) \n",
        "\n",
        "4881940"
       ]
      },
      {
       "output_type": "stream",
       "stream": "stdout",
       "text": [
        " 1 1 age :  "
       ]
      },
      {
       "output_type": "stream",
       "stream": "stdout",
       "text": [
        "20\n",
        "(170, 503) \n",
        "\n",
        "3659536"
       ]
      },
      {
       "output_type": "stream",
       "stream": "stdout",
       "text": [
        " 2 1 age :  "
       ]
      },
      {
       "output_type": "stream",
       "stream": "stdout",
       "text": [
        "10\n",
        "(170, 504) \n",
        "\n",
        "3744182"
       ]
      },
      {
       "output_type": "stream",
       "stream": "stdout",
       "text": [
        " 1 2 age :  "
       ]
      },
      {
       "output_type": "stream",
       "stream": "stdout",
       "text": [
        "20\n",
        "(170, 505) \n",
        "\n",
        "1958175"
       ]
      },
      {
       "output_type": "stream",
       "stream": "stdout",
       "text": [
        " 1 2 age :  "
       ]
      },
      {
       "output_type": "stream",
       "stream": "stdout",
       "text": [
        "20\n",
        "(170, 506) \n",
        "\n",
        "2448513"
       ]
      },
      {
       "output_type": "stream",
       "stream": "stdout",
       "text": [
        " 1 2 age :  "
       ]
      },
      {
       "output_type": "stream",
       "stream": "stdout",
       "text": [
        "10\n",
        "(170, 507) \n",
        "\n",
        "3249468"
       ]
      },
      {
       "output_type": "stream",
       "stream": "stdout",
       "text": [
        " 2 1 age :  "
       ]
      },
      {
       "output_type": "stream",
       "stream": "stdout",
       "text": [
        "15\n",
        "(170, 508) \n",
        "\n",
        "4555358"
       ]
      },
      {
       "output_type": "stream",
       "stream": "stdout",
       "text": [
        " 1 2 age :  "
       ]
      },
      {
       "output_type": "stream",
       "stream": "stdout",
       "text": [
        "30\n",
        "(170, 509) \n",
        "\n",
        "1805160"
       ]
      },
      {
       "output_type": "stream",
       "stream": "stdout",
       "text": [
        " 2 1 age :  "
       ]
      },
      {
       "output_type": "stream",
       "stream": "stdout",
       "text": [
        "22\n",
        "(170, 510) \n",
        "\n",
        "1834873"
       ]
      },
      {
       "output_type": "stream",
       "stream": "stdout",
       "text": [
        " 2 1 age :  "
       ]
      },
      {
       "output_type": "stream",
       "stream": "stdout",
       "text": [
        "10\n",
        "(170, 511) \n",
        "\n",
        "1702613"
       ]
      },
      {
       "output_type": "stream",
       "stream": "stdout",
       "text": [
        " 1 1 age :  "
       ]
      },
      {
       "output_type": "stream",
       "stream": "stdout",
       "text": [
        "10\n",
        "(171, 511) \n",
        "\n",
        "3275806"
       ]
      },
      {
       "output_type": "stream",
       "stream": "stdout",
       "text": [
        " 2 1 age :  "
       ]
      },
      {
       "output_type": "stream",
       "stream": "stdout",
       "text": [
        "12\n",
        "(171, 512) \n",
        "\n",
        "1803996"
       ]
      },
      {
       "output_type": "stream",
       "stream": "stdout",
       "text": [
        " 1 2 age :  "
       ]
      },
      {
       "output_type": "stream",
       "stream": "stdout",
       "text": [
        "10\n",
        "(171, 513) \n",
        "\n",
        "1934092"
       ]
      },
      {
       "output_type": "stream",
       "stream": "stdout",
       "text": [
        " 1 2 age :  "
       ]
      },
      {
       "output_type": "stream",
       "stream": "stdout",
       "text": [
        "10\n",
        "(171, 514) \n",
        "\n",
        "2094192"
       ]
      },
      {
       "output_type": "stream",
       "stream": "stdout",
       "text": [
        " 2 1 age :  "
       ]
      },
      {
       "output_type": "stream",
       "stream": "stdout",
       "text": [
        "10\n",
        "(171, 515) \n",
        "\n",
        "1951125"
       ]
      },
      {
       "output_type": "stream",
       "stream": "stdout",
       "text": [
        " 1 2 age :  "
       ]
      },
      {
       "output_type": "stream",
       "stream": "stdout",
       "text": [
        "10\n",
        "(171, 516) \n",
        "\n",
        "3621400"
       ]
      },
      {
       "output_type": "stream",
       "stream": "stdout",
       "text": [
        " 2 2 age :  "
       ]
      },
      {
       "output_type": "stream",
       "stream": "stdout",
       "text": [
        "22\n",
        "(172, 516) \n",
        "\n",
        "3251112"
       ]
      },
      {
       "output_type": "stream",
       "stream": "stdout",
       "text": [
        " 1 2 age :  "
       ]
      },
      {
       "output_type": "stream",
       "stream": "stdout",
       "text": [
        "10\n",
        "(172, 517) \n",
        "\n",
        "5250399"
       ]
      },
      {
       "output_type": "stream",
       "stream": "stdout",
       "text": [
        " 2 1 age :  "
       ]
      },
      {
       "output_type": "stream",
       "stream": "stdout",
       "text": [
        "10\n",
        "(172, 518) \n",
        "\n",
        "1931136"
       ]
      },
      {
       "output_type": "stream",
       "stream": "stdout",
       "text": [
        " 2 2 age :  "
       ]
      },
      {
       "output_type": "stream",
       "stream": "stdout",
       "text": [
        "10\n",
        "(173, 518) \n",
        "\n",
        "5325632"
       ]
      },
      {
       "output_type": "stream",
       "stream": "stdout",
       "text": [
        " 1 2 age :  "
       ]
      },
      {
       "output_type": "stream",
       "stream": "stdout",
       "text": [
        "20\n",
        "(173, 519) \n",
        "\n",
        "1759249"
       ]
      },
      {
       "output_type": "stream",
       "stream": "stdout",
       "text": [
        " 1 2 age :  "
       ]
      },
      {
       "output_type": "stream",
       "stream": "stdout",
       "text": [
        "10\n",
        "(173, 520) \n",
        "\n",
        "1676079"
       ]
      },
      {
       "output_type": "stream",
       "stream": "stdout",
       "text": [
        " 1 1 age :  "
       ]
      },
      {
       "output_type": "stream",
       "stream": "stdout",
       "text": [
        "10\n",
        "(174, 520) \n",
        "\n",
        "3013982"
       ]
      },
      {
       "output_type": "stream",
       "stream": "stdout",
       "text": [
        " 1 2 age :  "
       ]
      },
      {
       "output_type": "stream",
       "stream": "stdout",
       "text": [
        "35\n",
        "(174, 521) \n",
        "\n",
        "3780418"
       ]
      },
      {
       "output_type": "stream",
       "stream": "stdout",
       "text": [
        " 1 2 age :  "
       ]
      },
      {
       "output_type": "stream",
       "stream": "stdout",
       "text": [
        "10\n",
        "(174, 522) \n",
        "\n",
        "1930663"
       ]
      },
      {
       "output_type": "stream",
       "stream": "stdout",
       "text": [
        " 2 1 age :  "
       ]
      },
      {
       "output_type": "stream",
       "stream": "stdout",
       "text": [
        "10\n",
        "(174, 523) \n",
        "\n",
        "3015999"
       ]
      },
      {
       "output_type": "stream",
       "stream": "stdout",
       "text": [
        " 2 1 age :  "
       ]
      },
      {
       "output_type": "stream",
       "stream": "stdout",
       "text": [
        "20\n",
        "(174, 524) \n",
        "\n",
        "3501165"
       ]
      },
      {
       "output_type": "stream",
       "stream": "stdout",
       "text": [
        " 1 2 age :  "
       ]
      },
      {
       "output_type": "stream",
       "stream": "stdout",
       "text": [
        "10\n",
        "(174, 525) \n",
        "\n",
        "1944868"
       ]
      },
      {
       "output_type": "stream",
       "stream": "stdout",
       "text": [
        " 1 2 age :  "
       ]
      },
      {
       "output_type": "stream",
       "stream": "stdout",
       "text": [
        "20\n",
        "(174, 526) \n",
        "\n",
        "2104130"
       ]
      },
      {
       "output_type": "stream",
       "stream": "stdout",
       "text": [
        " 2 2 age :  "
       ]
      },
      {
       "output_type": "stream",
       "stream": "stdout",
       "text": [
        "10\n",
        "(175, 526) \n",
        "\n",
        "3280963"
       ]
      },
      {
       "output_type": "stream",
       "stream": "stdout",
       "text": [
        " 1 2 age :  "
       ]
      },
      {
       "output_type": "stream",
       "stream": "stdout",
       "text": [
        "30\n",
        "(175, 527) \n",
        "\n",
        "4415783"
       ]
      },
      {
       "output_type": "stream",
       "stream": "stdout",
       "text": [
        " 2 2 age :  "
       ]
      },
      {
       "output_type": "stream",
       "stream": "stdout",
       "text": [
        "25\n",
        "(176, 527) \n",
        "\n",
        "2962531"
       ]
      },
      {
       "output_type": "stream",
       "stream": "stdout",
       "text": [
        " 1 1 age :  "
       ]
      },
      {
       "output_type": "stream",
       "stream": "stdout",
       "text": [
        "10\n",
        "(177, 527) \n",
        "\n",
        "3038941"
       ]
      },
      {
       "output_type": "stream",
       "stream": "stdout",
       "text": [
        " 2 2 age :  "
       ]
      },
      {
       "output_type": "stream",
       "stream": "stdout",
       "text": [
        "10\n",
        "(178, 527) \n",
        "\n",
        "1813764"
       ]
      },
      {
       "output_type": "stream",
       "stream": "stdout",
       "text": [
        " 1 2 age :  "
       ]
      },
      {
       "output_type": "stream",
       "stream": "stdout",
       "text": [
        "30\n",
        "(178, 528) \n",
        "\n",
        "1736746"
       ]
      },
      {
       "output_type": "stream",
       "stream": "stdout",
       "text": [
        " 2 1 age :  "
       ]
      },
      {
       "output_type": "stream",
       "stream": "stdout",
       "text": [
        "22\n",
        "(178, 529) \n",
        "\n",
        "2750513"
       ]
      },
      {
       "output_type": "stream",
       "stream": "stdout",
       "text": [
        " 1 2 age :  "
       ]
      },
      {
       "output_type": "stream",
       "stream": "stdout",
       "text": [
        "10\n",
        "(178, 530) \n",
        "\n",
        "3804516"
       ]
      },
      {
       "output_type": "stream",
       "stream": "stdout",
       "text": [
        " 1 2 age :  "
       ]
      },
      {
       "output_type": "stream",
       "stream": "stdout",
       "text": [
        "20\n",
        "(178, 531) \n",
        "\n",
        "2061942"
       ]
      },
      {
       "output_type": "stream",
       "stream": "stdout",
       "text": [
        " 2 2 age :  "
       ]
      },
      {
       "output_type": "stream",
       "stream": "stdout",
       "text": [
        "20\n",
        "(179, 531) \n",
        "\n",
        "4799458"
       ]
      },
      {
       "output_type": "stream",
       "stream": "stdout",
       "text": [
        " 1 2 age :  "
       ]
      },
      {
       "output_type": "stream",
       "stream": "stdout",
       "text": [
        "30\n",
        "(179, 532) \n",
        "\n",
        "3427027"
       ]
      },
      {
       "output_type": "stream",
       "stream": "stdout",
       "text": [
        " 1 2 age :  "
       ]
      },
      {
       "output_type": "stream",
       "stream": "stdout",
       "text": [
        "10\n",
        "(179, 533) \n",
        "\n",
        "2777977"
       ]
      },
      {
       "output_type": "stream",
       "stream": "stdout",
       "text": [
        " 1 2 age :  "
       ]
      },
      {
       "output_type": "stream",
       "stream": "stdout",
       "text": [
        "40\n",
        "(179, 534) \n",
        "\n",
        "1910781"
       ]
      },
      {
       "output_type": "stream",
       "stream": "stdout",
       "text": [
        " 1 2 age :  "
       ]
      },
      {
       "output_type": "stream",
       "stream": "stdout",
       "text": [
        "10\n",
        "(179, 535) \n",
        "\n",
        "1892769"
       ]
      },
      {
       "output_type": "stream",
       "stream": "stdout",
       "text": [
        " 1 1 age :  "
       ]
      },
      {
       "output_type": "stream",
       "stream": "stdout",
       "text": [
        "20\n",
        "(180, 535) \n",
        "\n",
        "2161433"
       ]
      },
      {
       "output_type": "stream",
       "stream": "stdout",
       "text": [
        " 1 1 age :  "
       ]
      },
      {
       "output_type": "stream",
       "stream": "stdout",
       "text": [
        "50\n",
        "(181, 535) \n",
        "\n",
        "2053371"
       ]
      },
      {
       "output_type": "stream",
       "stream": "stdout",
       "text": [
        " 1 2 age :  "
       ]
      },
      {
       "output_type": "stream",
       "stream": "stdout",
       "text": [
        "30\n",
        "(181, 536) \n",
        "\n",
        "2059827"
       ]
      },
      {
       "output_type": "stream",
       "stream": "stdout",
       "text": [
        " 1 2 age :  "
       ]
      },
      {
       "output_type": "stream",
       "stream": "stdout",
       "text": [
        "10\n",
        "(181, 537) \n",
        "\n",
        "5063989"
       ]
      },
      {
       "output_type": "stream",
       "stream": "stdout",
       "text": [
        " 1 2 age :  "
       ]
      },
      {
       "output_type": "stream",
       "stream": "stdout",
       "text": [
        "20\n",
        "(181, 538) \n",
        "\n",
        "4610128"
       ]
      },
      {
       "output_type": "stream",
       "stream": "stdout",
       "text": [
        " 2 1 age :  "
       ]
      },
      {
       "output_type": "stream",
       "stream": "stdout",
       "text": [
        "20\n",
        "(181, 539) \n",
        "\n",
        "3452456"
       ]
      },
      {
       "output_type": "stream",
       "stream": "stdout",
       "text": [
        " 1 2 age :  "
       ]
      },
      {
       "output_type": "stream",
       "stream": "stdout",
       "text": [
        "10\n",
        "(181, 540) \n",
        "\n",
        "3028569"
       ]
      },
      {
       "output_type": "stream",
       "stream": "stdout",
       "text": [
        " 2 2 age :  "
       ]
      },
      {
       "output_type": "stream",
       "stream": "stdout",
       "text": [
        "18\n",
        "(182, 540) \n",
        "\n",
        "1688445"
       ]
      },
      {
       "output_type": "stream",
       "stream": "stdout",
       "text": [
        " 1 2 age :  "
       ]
      },
      {
       "output_type": "stream",
       "stream": "stdout",
       "text": [
        "10\n",
        "(182, 541) \n",
        "\n",
        "1780716"
       ]
      },
      {
       "output_type": "stream",
       "stream": "stdout",
       "text": [
        " 1 2 age :  "
       ]
      },
      {
       "output_type": "stream",
       "stream": "stdout",
       "text": [
        "10\n",
        "(182, 542) \n",
        "\n",
        "3769080"
       ]
      },
      {
       "output_type": "stream",
       "stream": "stdout",
       "text": [
        " 2 2 age :  "
       ]
      },
      {
       "output_type": "stream",
       "stream": "stdout",
       "text": [
        "20\n",
        "(183, 542) \n",
        "\n",
        "2715965"
       ]
      },
      {
       "output_type": "stream",
       "stream": "stdout",
       "text": [
        " 2 2 age :  "
       ]
      },
      {
       "output_type": "stream",
       "stream": "stdout",
       "text": [
        "20\n",
        "(184, 542) \n",
        "\n",
        "2289235"
       ]
      },
      {
       "output_type": "stream",
       "stream": "stdout",
       "text": [
        " 1 2 age :  "
       ]
      },
      {
       "output_type": "stream",
       "stream": "stdout",
       "text": [
        "10\n",
        "(184, 543) \n",
        "\n",
        "3190914"
       ]
      },
      {
       "output_type": "stream",
       "stream": "stdout",
       "text": [
        " 1 2 age :  "
       ]
      },
      {
       "output_type": "stream",
       "stream": "stdout",
       "text": [
        "20\n",
        "(184, 544) \n",
        "\n",
        "2955478"
       ]
      },
      {
       "output_type": "stream",
       "stream": "stdout",
       "text": [
        " 2 1 age :  "
       ]
      },
      {
       "output_type": "stream",
       "stream": "stdout",
       "text": [
        "20\n",
        "(184, 545) \n",
        "\n",
        "2822594"
       ]
      },
      {
       "output_type": "stream",
       "stream": "stdout",
       "text": [
        " 1 2 age :  "
       ]
      },
      {
       "output_type": "stream",
       "stream": "stdout",
       "text": [
        "18\n",
        "(184, 546) \n",
        "\n",
        "3897632"
       ]
      },
      {
       "output_type": "stream",
       "stream": "stdout",
       "text": [
        " 1 2 age :  "
       ]
      },
      {
       "output_type": "stream",
       "stream": "stdout",
       "text": [
        "40\n",
        "(184, 547) \n",
        "\n",
        "3645549"
       ]
      },
      {
       "output_type": "stream",
       "stream": "stdout",
       "text": [
        " 2 2 age :  "
       ]
      },
      {
       "output_type": "stream",
       "stream": "stdout",
       "text": [
        "30\n",
        "(185, 547) \n",
        "\n",
        "1952946"
       ]
      },
      {
       "output_type": "stream",
       "stream": "stdout",
       "text": [
        " 1 2 age :  "
       ]
      },
      {
       "output_type": "stream",
       "stream": "stdout",
       "text": [
        "20\n",
        "(185, 548) \n",
        "\n",
        "1636829"
       ]
      },
      {
       "output_type": "stream",
       "stream": "stdout",
       "text": [
        " 2 2 age :  "
       ]
      },
      {
       "output_type": "stream",
       "stream": "stdout",
       "text": [
        "10\n",
        "(186, 548) \n",
        "\n",
        "2001395"
       ]
      },
      {
       "output_type": "stream",
       "stream": "stdout",
       "text": [
        " 2 1 age :  "
       ]
      },
      {
       "output_type": "stream",
       "stream": "stdout",
       "text": [
        "20\n",
        "(186, 549) \n",
        "\n",
        "2577169"
       ]
      },
      {
       "output_type": "stream",
       "stream": "stdout",
       "text": [
        " 2 2 age :  "
       ]
      },
      {
       "output_type": "stream",
       "stream": "stdout",
       "text": [
        "40\n",
        "(187, 549) \n",
        "\n",
        "1837253"
       ]
      },
      {
       "output_type": "stream",
       "stream": "stdout",
       "text": [
        " 1 2 age :  "
       ]
      },
      {
       "output_type": "stream",
       "stream": "stdout",
       "text": [
        "10\n",
        "(187, 550) \n",
        "\n",
        "4308779"
       ]
      },
      {
       "output_type": "stream",
       "stream": "stdout",
       "text": [
        " 1 2 age :  "
       ]
      },
      {
       "output_type": "stream",
       "stream": "stdout",
       "text": [
        "30\n",
        "(187, 551) \n",
        "\n",
        "1616351"
       ]
      },
      {
       "output_type": "stream",
       "stream": "stdout",
       "text": [
        " 1 1 age :  "
       ]
      },
      {
       "output_type": "stream",
       "stream": "stdout",
       "text": [
        "40\n",
        "(188, 551) \n",
        "\n",
        "2468161"
       ]
      },
      {
       "output_type": "stream",
       "stream": "stdout",
       "text": [
        " 2 1 age :  "
       ]
      },
      {
       "output_type": "stream",
       "stream": "stdout",
       "text": [
        "22\n",
        "(188, 552) \n",
        "\n",
        "2491983"
       ]
      },
      {
       "output_type": "stream",
       "stream": "stdout",
       "text": [
        " 1 2 age :  "
       ]
      },
      {
       "output_type": "stream",
       "stream": "stdout",
       "text": [
        "12\n",
        "(188, 553) \n",
        "\n",
        "2370336"
       ]
      },
      {
       "output_type": "stream",
       "stream": "stdout",
       "text": [
        " 1 2 age :  "
       ]
      },
      {
       "output_type": "stream",
       "stream": "stdout",
       "text": [
        "30\n",
        "(188, 554) \n",
        "\n",
        "1843484"
       ]
      },
      {
       "output_type": "stream",
       "stream": "stdout",
       "text": [
        " 2 1 age :  "
       ]
      },
      {
       "output_type": "stream",
       "stream": "stdout",
       "text": [
        "20\n",
        "(188, 555) \n",
        "\n",
        "2039878"
       ]
      },
      {
       "output_type": "stream",
       "stream": "stdout",
       "text": [
        " 2 1 age :  "
       ]
      },
      {
       "output_type": "stream",
       "stream": "stdout",
       "text": [
        "20\n",
        "(188, 556) \n",
        "\n",
        "2094835"
       ]
      },
      {
       "output_type": "stream",
       "stream": "stdout",
       "text": [
        " 2 1 age :  "
       ]
      },
      {
       "output_type": "stream",
       "stream": "stdout",
       "text": [
        "10\n",
        "(188, 557) \n",
        "\n",
        "1750936"
       ]
      },
      {
       "output_type": "stream",
       "stream": "stdout",
       "text": [
        " 2 2 age :  "
       ]
      },
      {
       "output_type": "stream",
       "stream": "stdout",
       "text": [
        "10\n",
        "(189, 557) \n",
        "\n",
        "4717656"
       ]
      },
      {
       "output_type": "stream",
       "stream": "stdout",
       "text": [
        " 1 1 age :  "
       ]
      },
      {
       "output_type": "stream",
       "stream": "stdout",
       "text": [
        "10\n",
        "(190, 557) \n",
        "\n",
        "1942674"
       ]
      },
      {
       "output_type": "stream",
       "stream": "stdout",
       "text": [
        " 1 1 age :  "
       ]
      },
      {
       "output_type": "stream",
       "stream": "stdout",
       "text": [
        "20\n",
        "(191, 557) \n",
        "\n",
        "4001584"
       ]
      },
      {
       "output_type": "stream",
       "stream": "stdout",
       "text": [
        " 1 2 age :  "
       ]
      },
      {
       "output_type": "stream",
       "stream": "stdout",
       "text": [
        "10\n",
        "(191, 558) \n",
        "\n",
        "3437049"
       ]
      },
      {
       "output_type": "stream",
       "stream": "stdout",
       "text": [
        " 1 2 age :  "
       ]
      },
      {
       "output_type": "stream",
       "stream": "stdout",
       "text": [
        "29\n",
        "(191, 559) \n",
        "\n",
        "3881103"
       ]
      },
      {
       "output_type": "stream",
       "stream": "stdout",
       "text": [
        " 1 2 age :  "
       ]
      },
      {
       "output_type": "stream",
       "stream": "stdout",
       "text": [
        "10\n",
        "(191, 560) \n",
        "\n",
        "3321137"
       ]
      },
      {
       "output_type": "stream",
       "stream": "stdout",
       "text": [
        " 1 1 age :  "
       ]
      },
      {
       "output_type": "stream",
       "stream": "stdout",
       "text": [
        "10\n",
        "(192, 560) \n",
        "\n",
        "1762010"
       ]
      },
      {
       "output_type": "stream",
       "stream": "stdout",
       "text": [
        " 2 1 age :  "
       ]
      },
      {
       "output_type": "stream",
       "stream": "stdout",
       "text": [
        "20\n",
        "(192, 561) \n",
        "\n",
        "2018289"
       ]
      },
      {
       "output_type": "stream",
       "stream": "stdout",
       "text": [
        " 2 2 age :  "
       ]
      },
      {
       "output_type": "stream",
       "stream": "stdout",
       "text": [
        "10\n",
        "(193, 561) \n",
        "\n",
        "1854533"
       ]
      },
      {
       "output_type": "stream",
       "stream": "stdout",
       "text": [
        " 1 2 age :  "
       ]
      },
      {
       "output_type": "stream",
       "stream": "stdout",
       "text": [
        "30\n",
        "(193, 562) \n",
        "\n",
        "1396410"
       ]
      },
      {
       "output_type": "stream",
       "stream": "stdout",
       "text": [
        " 2 2 age :  "
       ]
      },
      {
       "output_type": "stream",
       "stream": "stdout",
       "text": [
        "14\n",
        "(194, 562) \n",
        "\n",
        "3949589"
       ]
      },
      {
       "output_type": "stream",
       "stream": "stdout",
       "text": [
        " 1 2 age :  "
       ]
      },
      {
       "output_type": "stream",
       "stream": "stdout",
       "text": [
        "30\n",
        "(194, 563) \n",
        "\n",
        "2265686"
       ]
      },
      {
       "output_type": "stream",
       "stream": "stdout",
       "text": [
        " 2 2 age :  "
       ]
      },
      {
       "output_type": "stream",
       "stream": "stdout",
       "text": [
        "10\n",
        "(195, 563) \n",
        "\n",
        "2571879"
       ]
      },
      {
       "output_type": "stream",
       "stream": "stdout",
       "text": [
        " 2 1 age :  "
       ]
      },
      {
       "output_type": "stream",
       "stream": "stdout",
       "text": [
        "10\n",
        "(195, 564) \n",
        "\n",
        "4946872"
       ]
      },
      {
       "output_type": "stream",
       "stream": "stdout",
       "text": [
        " 1 2 age :  "
       ]
      },
      {
       "output_type": "stream",
       "stream": "stdout",
       "text": [
        "32\n",
        "(195, 565) \n",
        "\n",
        "1765153"
       ]
      },
      {
       "output_type": "stream",
       "stream": "stdout",
       "text": [
        " 2 2 age :  "
       ]
      },
      {
       "output_type": "stream",
       "stream": "stdout",
       "text": [
        "20\n",
        "(196, 565) \n",
        "\n",
        "3405184"
       ]
      },
      {
       "output_type": "stream",
       "stream": "stdout",
       "text": [
        " 1 2 age :  "
       ]
      },
      {
       "output_type": "stream",
       "stream": "stdout",
       "text": [
        "20\n",
        "(196, 566) \n",
        "\n",
        "2137541"
       ]
      },
      {
       "output_type": "stream",
       "stream": "stdout",
       "text": [
        " 1 2 age :  "
       ]
      },
      {
       "output_type": "stream",
       "stream": "stdout",
       "text": [
        "10\n",
        "(196, 567) \n",
        "\n",
        "4759858"
       ]
      },
      {
       "output_type": "stream",
       "stream": "stdout",
       "text": [
        " 2 2 age :  "
       ]
      },
      {
       "output_type": "stream",
       "stream": "stdout",
       "text": [
        "10\n",
        "(197, 567) \n",
        "\n",
        "2795789"
       ]
      },
      {
       "output_type": "stream",
       "stream": "stdout",
       "text": [
        " 2 2 age :  "
       ]
      },
      {
       "output_type": "stream",
       "stream": "stdout",
       "text": [
        "38\n",
        "(198, 567) \n",
        "\n",
        "4600921"
       ]
      },
      {
       "output_type": "stream",
       "stream": "stdout",
       "text": [
        " 1 2 age :  "
       ]
      },
      {
       "output_type": "stream",
       "stream": "stdout",
       "text": [
        "10\n",
        "(198, 568) \n",
        "\n",
        "5055519"
       ]
      },
      {
       "output_type": "stream",
       "stream": "stdout",
       "text": [
        " 1 2 age :  "
       ]
      },
      {
       "output_type": "stream",
       "stream": "stdout",
       "text": [
        "15\n",
        "(198, 569) \n",
        "\n",
        "4768455"
       ]
      },
      {
       "output_type": "stream",
       "stream": "stdout",
       "text": [
        " 1 2 age :  "
       ]
      },
      {
       "output_type": "stream",
       "stream": "stdout",
       "text": [
        "10\n",
        "(198, 570) \n",
        "\n",
        "2819647"
       ]
      },
      {
       "output_type": "stream",
       "stream": "stdout",
       "text": [
        " 2 1 age :  "
       ]
      },
      {
       "output_type": "stream",
       "stream": "stdout",
       "text": [
        "20\n",
        "(198, 571) \n",
        "\n",
        "1970792"
       ]
      },
      {
       "output_type": "stream",
       "stream": "stdout",
       "text": [
        " 1 1 age :  "
       ]
      },
      {
       "output_type": "stream",
       "stream": "stdout",
       "text": [
        "20\n",
        "(199, 571) \n",
        "\n",
        "4786499"
       ]
      },
      {
       "output_type": "stream",
       "stream": "stdout",
       "text": [
        " 2 2 age :  "
       ]
      },
      {
       "output_type": "stream",
       "stream": "stdout",
       "text": [
        "30\n",
        "(200, 571) \n",
        "\n",
        "4798285"
       ]
      },
      {
       "output_type": "stream",
       "stream": "stdout",
       "text": [
        " 1 2 age :  "
       ]
      },
      {
       "output_type": "stream",
       "stream": "stdout",
       "text": [
        "10\n",
        "(200, 572) \n",
        "\n",
        "5222319"
       ]
      },
      {
       "output_type": "stream",
       "stream": "stdout",
       "text": [
        " 1 2 age :  "
       ]
      },
      {
       "output_type": "stream",
       "stream": "stdout",
       "text": [
        "10\n",
        "(200, 573) \n",
        "\n",
        "4262541"
       ]
      },
      {
       "output_type": "stream",
       "stream": "stdout",
       "text": [
        " 1 2 age :  "
       ]
      },
      {
       "output_type": "stream",
       "stream": "stdout",
       "text": [
        "10\n",
        "(200, 574) \n",
        "\n",
        "1741912"
       ]
      },
      {
       "output_type": "stream",
       "stream": "stdout",
       "text": [
        " 1 2 age :  "
       ]
      },
      {
       "output_type": "stream",
       "stream": "stdout",
       "text": [
        "10\n",
        "(200, 575) \n",
        "\n",
        "1556389"
       ]
      },
      {
       "output_type": "stream",
       "stream": "stdout",
       "text": [
        " 1 2 age :  "
       ]
      },
      {
       "output_type": "stream",
       "stream": "stdout",
       "text": [
        "32\n",
        "(200, 576) \n",
        "\n",
        "2749088"
       ]
      },
      {
       "output_type": "stream",
       "stream": "stdout",
       "text": [
        " 2 1 age :  "
       ]
      },
      {
       "output_type": "stream",
       "stream": "stdout",
       "text": [
        "10\n",
        "(200, 577) \n",
        "\n",
        "1954128"
       ]
      },
      {
       "output_type": "stream",
       "stream": "stdout",
       "text": [
        " 1 2 age :  "
       ]
      },
      {
       "output_type": "stream",
       "stream": "stdout",
       "text": [
        "30\n",
        "(200, 578) \n",
        "\n",
        "2757224"
       ]
      },
      {
       "output_type": "stream",
       "stream": "stdout",
       "text": [
        " 2 2 age :  "
       ]
      },
      {
       "output_type": "stream",
       "stream": "stdout",
       "text": [
        "12\n",
        "(201, 578) \n",
        "\n",
        "1543677"
       ]
      },
      {
       "output_type": "stream",
       "stream": "stdout",
       "text": [
        " 2 1 age :  "
       ]
      },
      {
       "output_type": "stream",
       "stream": "stdout",
       "text": [
        "20\n",
        "(201, 579) \n",
        "\n",
        "3364567"
       ]
      },
      {
       "output_type": "stream",
       "stream": "stdout",
       "text": [
        " 1 1 age :  "
       ]
      },
      {
       "output_type": "stream",
       "stream": "stdout",
       "text": [
        "20\n",
        "(202, 579) \n",
        "\n",
        "2425421"
       ]
      },
      {
       "output_type": "stream",
       "stream": "stdout",
       "text": [
        " 1 2 age :  "
       ]
      },
      {
       "output_type": "stream",
       "stream": "stdout",
       "text": [
        "30\n",
        "(202, 580) \n",
        "\n",
        "3079583"
       ]
      },
      {
       "output_type": "stream",
       "stream": "stdout",
       "text": [
        " 1 2 age :  "
       ]
      },
      {
       "output_type": "stream",
       "stream": "stdout",
       "text": [
        "15\n",
        "(202, 581) \n",
        "\n",
        "1256989"
       ]
      },
      {
       "output_type": "stream",
       "stream": "stdout",
       "text": [
        " 2 2 age :  "
       ]
      },
      {
       "output_type": "stream",
       "stream": "stdout",
       "text": [
        "20\n",
        "(203, 581) \n",
        "\n",
        "3488021"
       ]
      },
      {
       "output_type": "stream",
       "stream": "stdout",
       "text": [
        " 2 1 age :  "
       ]
      },
      {
       "output_type": "stream",
       "stream": "stdout",
       "text": [
        "10\n",
        "(203, 582) \n",
        "\n",
        "3651951"
       ]
      },
      {
       "output_type": "stream",
       "stream": "stdout",
       "text": [
        " 2 2 age :  "
       ]
      },
      {
       "output_type": "stream",
       "stream": "stdout",
       "text": [
        "30\n",
        "(204, 582) \n",
        "\n",
        "1604411"
       ]
      },
      {
       "output_type": "stream",
       "stream": "stdout",
       "text": [
        " 2 2 age :  "
       ]
      },
      {
       "output_type": "stream",
       "stream": "stdout",
       "text": [
        "20\n",
        "(205, 582) \n",
        "\n",
        "4562140"
       ]
      },
      {
       "output_type": "stream",
       "stream": "stdout",
       "text": [
        " 1 2 age :  "
       ]
      },
      {
       "output_type": "stream",
       "stream": "stdout",
       "text": [
        "20\n",
        "(205, 583) \n",
        "\n",
        "1850454"
       ]
      },
      {
       "output_type": "stream",
       "stream": "stdout",
       "text": [
        " 2 1 age :  "
       ]
      },
      {
       "output_type": "stream",
       "stream": "stdout",
       "text": [
        "10\n",
        "(205, 584) \n",
        "\n",
        "3777316"
       ]
      },
      {
       "output_type": "stream",
       "stream": "stdout",
       "text": [
        " 1 2 age :  "
       ]
      },
      {
       "output_type": "stream",
       "stream": "stdout",
       "text": [
        "20\n",
        "(205, 585) \n",
        "\n",
        "2280817"
       ]
      },
      {
       "output_type": "stream",
       "stream": "stdout",
       "text": [
        " 2 1 age :  "
       ]
      },
      {
       "output_type": "stream",
       "stream": "stdout",
       "text": [
        "20\n",
        "(205, 586) \n",
        "\n",
        "4295668"
       ]
      },
      {
       "output_type": "stream",
       "stream": "stdout",
       "text": [
        " 1 1 age :  "
       ]
      },
      {
       "output_type": "stream",
       "stream": "stdout",
       "text": [
        "10\n",
        "(206, 586) \n",
        "\n",
        "1973360"
       ]
      },
      {
       "output_type": "stream",
       "stream": "stdout",
       "text": [
        " 1 2 age :  "
       ]
      },
      {
       "output_type": "stream",
       "stream": "stdout",
       "text": [
        "20\n",
        "(206, 587) \n",
        "\n",
        "5668028"
       ]
      },
      {
       "output_type": "stream",
       "stream": "stdout",
       "text": [
        " 1 2 age :  "
       ]
      },
      {
       "output_type": "stream",
       "stream": "stdout",
       "text": [
        "10\n",
        "(206, 588) \n",
        "\n",
        "2127090"
       ]
      },
      {
       "output_type": "stream",
       "stream": "stdout",
       "text": [
        " 2 1 age :  "
       ]
      },
      {
       "output_type": "stream",
       "stream": "stdout",
       "text": [
        "15\n",
        "(206, 589) \n",
        "\n",
        "4501522"
       ]
      },
      {
       "output_type": "stream",
       "stream": "stdout",
       "text": [
        " 1 2 age :  "
       ]
      },
      {
       "output_type": "stream",
       "stream": "stdout",
       "text": [
        "10\n",
        "(206, 590) \n",
        "\n",
        "2531070"
       ]
      },
      {
       "output_type": "stream",
       "stream": "stdout",
       "text": [
        " 1 2 age :  "
       ]
      },
      {
       "output_type": "stream",
       "stream": "stdout",
       "text": [
        "40\n",
        "(206, 591) \n",
        "\n",
        "2171616"
       ]
      },
      {
       "output_type": "stream",
       "stream": "stdout",
       "text": [
        " 1 2 age :  "
       ]
      },
      {
       "output_type": "stream",
       "stream": "stdout",
       "text": [
        "20\n",
        "(206, 592) \n",
        "\n",
        "2275269"
       ]
      },
      {
       "output_type": "stream",
       "stream": "stdout",
       "text": [
        " 1 2 age :  "
       ]
      },
      {
       "output_type": "stream",
       "stream": "stdout",
       "text": [
        "10\n",
        "(206, 593) \n",
        "\n",
        "1856992"
       ]
      },
      {
       "output_type": "stream",
       "stream": "stdout",
       "text": [
        " 1 2 age :  "
       ]
      },
      {
       "output_type": "stream",
       "stream": "stdout",
       "text": [
        "10\n",
        "(206, 594) \n",
        "\n",
        "2016066"
       ]
      },
      {
       "output_type": "stream",
       "stream": "stdout",
       "text": [
        " 1 2 age :  "
       ]
      },
      {
       "output_type": "stream",
       "stream": "stdout",
       "text": [
        "10\n",
        "(206, 595) \n",
        "\n",
        "4108640"
       ]
      },
      {
       "output_type": "stream",
       "stream": "stdout",
       "text": [
        " 1 2 age :  "
       ]
      },
      {
       "output_type": "stream",
       "stream": "stdout",
       "text": [
        "20\n",
        "(206, 596) \n",
        "\n",
        "2068979"
       ]
      },
      {
       "output_type": "stream",
       "stream": "stdout",
       "text": [
        " 1 2 age :  "
       ]
      },
      {
       "output_type": "stream",
       "stream": "stdout",
       "text": [
        "10\n",
        "(206, 597) \n",
        "\n",
        "4133498"
       ]
      },
      {
       "output_type": "stream",
       "stream": "stdout",
       "text": [
        " 1 2 age :  "
       ]
      },
      {
       "output_type": "stream",
       "stream": "stdout",
       "text": [
        "10\n",
        "(206, 598) \n",
        "\n",
        "2363258"
       ]
      },
      {
       "output_type": "stream",
       "stream": "stdout",
       "text": [
        " 2 1 age :  "
       ]
      },
      {
       "output_type": "stream",
       "stream": "stdout",
       "text": [
        "10\n",
        "(206, 599) \n",
        "\n",
        "2288997"
       ]
      },
      {
       "output_type": "stream",
       "stream": "stdout",
       "text": [
        " 1 2 age :  "
       ]
      },
      {
       "output_type": "stream",
       "stream": "stdout",
       "text": [
        "20\n",
        "(206, 600) \n",
        "\n",
        "1633900"
       ]
      },
      {
       "output_type": "stream",
       "stream": "stdout",
       "text": [
        " 1 2 age :  "
       ]
      },
      {
       "output_type": "stream",
       "stream": "stdout",
       "text": [
        "10\n",
        "(206, 601) \n",
        "\n",
        "3058042"
       ]
      },
      {
       "output_type": "stream",
       "stream": "stdout",
       "text": [
        " 1 2 age :  "
       ]
      },
      {
       "output_type": "stream",
       "stream": "stdout",
       "text": [
        "20\n",
        "(206, 602) \n",
        "\n",
        "5339674"
       ]
      },
      {
       "output_type": "stream",
       "stream": "stdout",
       "text": [
        " 1 2 age :  "
       ]
      },
      {
       "output_type": "stream",
       "stream": "stdout",
       "text": [
        "10\n",
        "(206, 603) \n",
        "\n",
        "5109112"
       ]
      },
      {
       "output_type": "stream",
       "stream": "stdout",
       "text": [
        " 2 2 age :  "
       ]
      },
      {
       "output_type": "stream",
       "stream": "stdout",
       "text": [
        "20\n",
        "(207, 603) \n",
        "\n",
        "1578926"
       ]
      },
      {
       "output_type": "stream",
       "stream": "stdout",
       "text": [
        " 1 2 age :  "
       ]
      },
      {
       "output_type": "stream",
       "stream": "stdout",
       "text": [
        "42\n",
        "(207, 604) \n",
        "\n",
        "1674206"
       ]
      },
      {
       "output_type": "stream",
       "stream": "stdout",
       "text": [
        " 2 1 age :  "
       ]
      },
      {
       "output_type": "stream",
       "stream": "stdout",
       "text": [
        "20\n",
        "(207, 605) \n",
        "\n",
        "1981859"
       ]
      },
      {
       "output_type": "stream",
       "stream": "stdout",
       "text": [
        " 2 2 age :  "
       ]
      },
      {
       "output_type": "stream",
       "stream": "stdout",
       "text": [
        "10\n",
        "(208, 605) \n",
        "\n",
        "3174299"
       ]
      },
      {
       "output_type": "stream",
       "stream": "stdout",
       "text": [
        " 2 2 age :  "
       ]
      },
      {
       "output_type": "stream",
       "stream": "stdout",
       "text": [
        "23\n",
        "(209, 605) \n",
        "\n",
        "4347155"
       ]
      },
      {
       "output_type": "stream",
       "stream": "stdout",
       "text": [
        " 1 2 age :  "
       ]
      },
      {
       "output_type": "stream",
       "stream": "stdout",
       "text": [
        "19\n",
        "(209, 606) \n",
        "\n",
        "3530446"
       ]
      },
      {
       "output_type": "stream",
       "stream": "stdout",
       "text": [
        " 2 2 age :  "
       ]
      },
      {
       "output_type": "stream",
       "stream": "stdout",
       "text": [
        "20\n",
        "(210, 606) \n",
        "\n",
        "3966362"
       ]
      },
      {
       "output_type": "stream",
       "stream": "stdout",
       "text": [
        " 2 1 age :  "
       ]
      },
      {
       "output_type": "stream",
       "stream": "stdout",
       "text": [
        "10\n",
        "(210, 607) \n",
        "\n",
        "2541313"
       ]
      },
      {
       "output_type": "stream",
       "stream": "stdout",
       "text": [
        " 1 2 age :  "
       ]
      },
      {
       "output_type": "stream",
       "stream": "stdout",
       "text": [
        "10\n",
        "(210, 608) \n",
        "\n",
        "4490866"
       ]
      },
      {
       "output_type": "stream",
       "stream": "stdout",
       "text": [
        " 1 2 age :  "
       ]
      },
      {
       "output_type": "stream",
       "stream": "stdout",
       "text": [
        "10\n",
        "(210, 609) \n",
        "\n",
        "3390949"
       ]
      },
      {
       "output_type": "stream",
       "stream": "stdout",
       "text": [
        " 1 2 age :  "
       ]
      },
      {
       "output_type": "stream",
       "stream": "stdout",
       "text": [
        "20\n",
        "(210, 610) \n",
        "\n",
        "1814823"
       ]
      },
      {
       "output_type": "stream",
       "stream": "stdout",
       "text": [
        " 1 1 age :  "
       ]
      },
      {
       "output_type": "stream",
       "stream": "stdout",
       "text": [
        "10\n",
        "(211, 610) \n",
        "\n",
        "2814276"
       ]
      },
      {
       "output_type": "stream",
       "stream": "stdout",
       "text": [
        " 1 2 age :  "
       ]
      },
      {
       "output_type": "stream",
       "stream": "stdout",
       "text": [
        "10\n",
        "(211, 611) \n",
        "\n",
        "3173864"
       ]
      },
      {
       "output_type": "stream",
       "stream": "stdout",
       "text": [
        " 1 2 age :  "
       ]
      },
      {
       "output_type": "stream",
       "stream": "stdout",
       "text": [
        "10\n",
        "(211, 612) \n",
        "\n",
        "1627431"
       ]
      },
      {
       "output_type": "stream",
       "stream": "stdout",
       "text": [
        " 1 2 age :  "
       ]
      },
      {
       "output_type": "stream",
       "stream": "stdout",
       "text": [
        "30\n",
        "(211, 613) \n",
        "\n",
        "2865289"
       ]
      },
      {
       "output_type": "stream",
       "stream": "stdout",
       "text": [
        " 1 2 age :  "
       ]
      },
      {
       "output_type": "stream",
       "stream": "stdout",
       "text": [
        "10\n",
        "(211, 614) \n",
        "\n",
        "4598265"
       ]
      },
      {
       "output_type": "stream",
       "stream": "stdout",
       "text": [
        " 1 2 age :  "
       ]
      },
      {
       "output_type": "stream",
       "stream": "stdout",
       "text": [
        "10\n",
        "(211, 615) \n",
        "\n",
        "2021705"
       ]
      },
      {
       "output_type": "stream",
       "stream": "stdout",
       "text": [
        " 1 2 age :  "
       ]
      },
      {
       "output_type": "stream",
       "stream": "stdout",
       "text": [
        "20\n",
        "(211, 616) \n",
        "\n",
        "2070498"
       ]
      },
      {
       "output_type": "stream",
       "stream": "stdout",
       "text": [
        " 1 2 age :  "
       ]
      },
      {
       "output_type": "stream",
       "stream": "stdout",
       "text": [
        "10\n",
        "(211, 617) \n",
        "\n",
        "2319674"
       ]
      },
      {
       "output_type": "stream",
       "stream": "stdout",
       "text": [
        " 1 2 age :  "
       ]
      },
      {
       "output_type": "stream",
       "stream": "stdout",
       "text": [
        "10\n",
        "(211, 618) \n",
        "\n",
        "5030534"
       ]
      },
      {
       "output_type": "stream",
       "stream": "stdout",
       "text": [
        " 1 2 age :  "
       ]
      },
      {
       "output_type": "stream",
       "stream": "stdout",
       "text": [
        "10\n",
        "(211, 619) \n",
        "\n",
        "4004880"
       ]
      },
      {
       "output_type": "stream",
       "stream": "stdout",
       "text": [
        " 1 2 age :  "
       ]
      },
      {
       "output_type": "stream",
       "stream": "stdout",
       "text": [
        "20\n",
        "(211, 620) \n",
        "\n",
        "2207277"
       ]
      },
      {
       "output_type": "stream",
       "stream": "stdout",
       "text": [
        " 1 2 age :  "
       ]
      },
      {
       "output_type": "stream",
       "stream": "stdout",
       "text": [
        "10\n",
        "(211, 621) \n",
        "\n",
        "1685660"
       ]
      },
      {
       "output_type": "stream",
       "stream": "stdout",
       "text": [
        " 2 2 age :  "
       ]
      },
      {
       "output_type": "stream",
       "stream": "stdout",
       "text": [
        "10\n",
        "(212, 621) \n",
        "\n",
        "2483059"
       ]
      },
      {
       "output_type": "stream",
       "stream": "stdout",
       "text": [
        " 2 1 age :  "
       ]
      },
      {
       "output_type": "stream",
       "stream": "stdout",
       "text": [
        "10\n",
        "(212, 622) \n",
        "\n",
        "1922486"
       ]
      },
      {
       "output_type": "stream",
       "stream": "stdout",
       "text": [
        " 1 2 age :  "
       ]
      },
      {
       "output_type": "stream",
       "stream": "stdout",
       "text": [
        "22\n",
        "(212, 623) \n",
        "\n",
        "2866753"
       ]
      },
      {
       "output_type": "stream",
       "stream": "stdout",
       "text": [
        " 2 1 age :  "
       ]
      },
      {
       "output_type": "stream",
       "stream": "stdout",
       "text": [
        "15\n",
        "(212, 624) \n",
        "\n",
        "1658704"
       ]
      },
      {
       "output_type": "stream",
       "stream": "stdout",
       "text": [
        " 2 1 age :  "
       ]
      },
      {
       "output_type": "stream",
       "stream": "stdout",
       "text": [
        "10\n",
        "(212, 625) \n",
        "\n",
        "5131637"
       ]
      },
      {
       "output_type": "stream",
       "stream": "stdout",
       "text": [
        " 1 2 age :  "
       ]
      },
      {
       "output_type": "stream",
       "stream": "stdout",
       "text": [
        "10\n",
        "(212, 626) \n",
        "\n",
        "1735873"
       ]
      },
      {
       "output_type": "stream",
       "stream": "stdout",
       "text": [
        " 1 1 age :  "
       ]
      },
      {
       "output_type": "stream",
       "stream": "stdout",
       "text": [
        "10\n",
        "(213, 626) \n",
        "\n",
        "1836426"
       ]
      },
      {
       "output_type": "stream",
       "stream": "stdout",
       "text": [
        " 2 2 age :  "
       ]
      },
      {
       "output_type": "stream",
       "stream": "stdout",
       "text": [
        "10\n",
        "(214, 626) \n",
        "\n",
        "1925510"
       ]
      },
      {
       "output_type": "stream",
       "stream": "stdout",
       "text": [
        " 1 1 age :  "
       ]
      },
      {
       "output_type": "stream",
       "stream": "stdout",
       "text": [
        "20\n",
        "(215, 626) \n",
        "\n",
        "65368"
       ]
      },
      {
       "output_type": "stream",
       "stream": "stdout",
       "text": [
        " 2 1 age :  "
       ]
      },
      {
       "output_type": "stream",
       "stream": "stdout",
       "text": [
        "20\n",
        "(215, 627) \n",
        "\n",
        "1778573"
       ]
      },
      {
       "output_type": "stream",
       "stream": "stdout",
       "text": [
        " 1 2 age :  "
       ]
      },
      {
       "output_type": "stream",
       "stream": "stdout",
       "text": [
        "30\n",
        "(215, 628) \n",
        "\n",
        "1844392"
       ]
      },
      {
       "output_type": "stream",
       "stream": "stdout",
       "text": [
        " 2 1 age :  "
       ]
      },
      {
       "output_type": "stream",
       "stream": "stdout",
       "text": [
        "10\n",
        "(215, 629) \n",
        "\n",
        "4187841"
       ]
      },
      {
       "output_type": "stream",
       "stream": "stdout",
       "text": [
        " 1 1 age :  "
       ]
      },
      {
       "output_type": "stream",
       "stream": "stdout",
       "text": [
        "10\n",
        "(216, 629) \n",
        "\n",
        "3081358"
       ]
      },
      {
       "output_type": "stream",
       "stream": "stdout",
       "text": [
        " 1 1 age :  "
       ]
      },
      {
       "output_type": "stream",
       "stream": "stdout",
       "text": [
        "10\n",
        "(217, 629) \n",
        "\n",
        "5010022"
       ]
      },
      {
       "output_type": "stream",
       "stream": "stdout",
       "text": [
        " 1 2 age :  "
       ]
      },
      {
       "output_type": "stream",
       "stream": "stdout",
       "text": [
        "10\n",
        "(217, 630) \n",
        "\n",
        "1875678"
       ]
      },
      {
       "output_type": "stream",
       "stream": "stdout",
       "text": [
        " 1 2 age :  "
       ]
      },
      {
       "output_type": "stream",
       "stream": "stdout",
       "text": [
        "40\n",
        "(217, 631) \n",
        "\n",
        "2235503"
       ]
      },
      {
       "output_type": "stream",
       "stream": "stdout",
       "text": [
        " 1 2 age :  "
       ]
      },
      {
       "output_type": "stream",
       "stream": "stdout",
       "text": [
        "10\n",
        "(217, 632) \n",
        "\n",
        "1896795"
       ]
      },
      {
       "output_type": "stream",
       "stream": "stdout",
       "text": [
        " 1 2 age :  "
       ]
      },
      {
       "output_type": "stream",
       "stream": "stdout",
       "text": [
        "20\n",
        "(217, 633) \n",
        "\n",
        "1828297"
       ]
      },
      {
       "output_type": "stream",
       "stream": "stdout",
       "text": [
        " 1 2 age :  "
       ]
      },
      {
       "output_type": "stream",
       "stream": "stdout",
       "text": [
        "20\n",
        "(217, 634) \n",
        "\n",
        "2899701"
       ]
      },
      {
       "output_type": "stream",
       "stream": "stdout",
       "text": [
        " 2 2 age :  "
       ]
      },
      {
       "output_type": "stream",
       "stream": "stdout",
       "text": [
        "30\n",
        "(218, 634) \n",
        "\n",
        "4738052"
       ]
      },
      {
       "output_type": "stream",
       "stream": "stdout",
       "text": [
        " 1 2 age :  "
       ]
      },
      {
       "output_type": "stream",
       "stream": "stdout",
       "text": [
        "10\n",
        "(218, 635) \n",
        "\n",
        "1974546"
       ]
      },
      {
       "output_type": "stream",
       "stream": "stdout",
       "text": [
        " 1 2 age :  "
       ]
      },
      {
       "output_type": "stream",
       "stream": "stdout",
       "text": [
        "20\n",
        "(218, 636) \n",
        "\n",
        "2203697"
       ]
      },
      {
       "output_type": "stream",
       "stream": "stdout",
       "text": [
        " 1 2 age :  "
       ]
      },
      {
       "output_type": "stream",
       "stream": "stdout",
       "text": [
        "20\n",
        "(218, 637) \n",
        "\n",
        "2278760"
       ]
      },
      {
       "output_type": "stream",
       "stream": "stdout",
       "text": [
        " 1 2 age :  "
       ]
      },
      {
       "output_type": "stream",
       "stream": "stdout",
       "text": [
        "10\n",
        "(218, 638) \n",
        "\n",
        "4772411"
       ]
      },
      {
       "output_type": "stream",
       "stream": "stdout",
       "text": [
        " 2 1 age :  "
       ]
      },
      {
       "output_type": "stream",
       "stream": "stdout",
       "text": [
        "20\n",
        "(218, 639) \n",
        "\n",
        "1971384"
       ]
      },
      {
       "output_type": "stream",
       "stream": "stdout",
       "text": [
        " 2 1 age :  "
       ]
      },
      {
       "output_type": "stream",
       "stream": "stdout",
       "text": [
        "10\n",
        "(218, 640) \n",
        "\n",
        "5315151"
       ]
      },
      {
       "output_type": "stream",
       "stream": "stdout",
       "text": [
        " 1 2 age :  "
       ]
      },
      {
       "output_type": "stream",
       "stream": "stdout",
       "text": [
        "38\n",
        "(218, 641) \n",
        "\n",
        "1374093"
       ]
      },
      {
       "output_type": "stream",
       "stream": "stdout",
       "text": [
        " 2 1 age :  "
       ]
      },
      {
       "output_type": "stream",
       "stream": "stdout",
       "text": [
        "10\n",
        "(218, 642) \n",
        "\n",
        "1801238"
       ]
      },
      {
       "output_type": "stream",
       "stream": "stdout",
       "text": [
        " 1 2 age :  "
       ]
      },
      {
       "output_type": "stream",
       "stream": "stdout",
       "text": [
        "10\n",
        "(218, 643) \n",
        "\n",
        "2949243"
       ]
      },
      {
       "output_type": "stream",
       "stream": "stdout",
       "text": [
        " 1 1 age :  "
       ]
      },
      {
       "output_type": "stream",
       "stream": "stdout",
       "text": [
        "20\n",
        "(219, 643) \n",
        "\n",
        "5378017"
       ]
      },
      {
       "output_type": "stream",
       "stream": "stdout",
       "text": [
        " 2 2 age :  "
       ]
      },
      {
       "output_type": "stream",
       "stream": "stdout",
       "text": [
        "10\n",
        "(220, 643) \n",
        "\n",
        "3438982"
       ]
      },
      {
       "output_type": "stream",
       "stream": "stdout",
       "text": [
        " 2 1 age :  "
       ]
      },
      {
       "output_type": "stream",
       "stream": "stdout",
       "text": [
        "10\n",
        "(220, 644) \n",
        "\n",
        "3343105"
       ]
      },
      {
       "output_type": "stream",
       "stream": "stdout",
       "text": [
        " 1 2 age :  "
       ]
      },
      {
       "output_type": "stream",
       "stream": "stdout",
       "text": [
        "20\n",
        "(220, 645) \n",
        "\n",
        "2095557"
       ]
      },
      {
       "output_type": "stream",
       "stream": "stdout",
       "text": [
        " 2 2 age :  "
       ]
      },
      {
       "output_type": "stream",
       "stream": "stdout",
       "text": [
        "10\n",
        "(221, 645) \n",
        "\n",
        "4720311"
       ]
      },
      {
       "output_type": "stream",
       "stream": "stdout",
       "text": [
        " 2 1 age :  "
       ]
      },
      {
       "output_type": "stream",
       "stream": "stdout",
       "text": [
        "22\n",
        "(221, 646) \n",
        "\n",
        "1417906"
       ]
      },
      {
       "output_type": "stream",
       "stream": "stdout",
       "text": [
        " 2 1 age :  "
       ]
      },
      {
       "output_type": "stream",
       "stream": "stdout",
       "text": [
        "20\n",
        "(221, 647) \n",
        "\n",
        "3919837"
       ]
      },
      {
       "output_type": "stream",
       "stream": "stdout",
       "text": [
        " 2 2 age :  "
       ]
      },
      {
       "output_type": "stream",
       "stream": "stdout",
       "text": [
        "10\n",
        "(222, 647) \n",
        "\n",
        "2002547"
       ]
      },
      {
       "output_type": "stream",
       "stream": "stdout",
       "text": [
        " 1 1 age :  "
       ]
      },
      {
       "output_type": "stream",
       "stream": "stdout",
       "text": [
        "22\n",
        "(223, 647) \n",
        "\n",
        "5002823"
       ]
      },
      {
       "output_type": "stream",
       "stream": "stdout",
       "text": [
        " 2 2 age :  "
       ]
      },
      {
       "output_type": "stream",
       "stream": "stdout",
       "text": [
        "10\n",
        "(224, 647) \n",
        "\n",
        "1815228"
       ]
      },
      {
       "output_type": "stream",
       "stream": "stdout",
       "text": [
        " 2 2 age :  "
       ]
      },
      {
       "output_type": "stream",
       "stream": "stdout",
       "text": [
        "10\n",
        "(225, 647) \n",
        "\n",
        "2020075"
       ]
      },
      {
       "output_type": "stream",
       "stream": "stdout",
       "text": [
        " 2 2 age :  "
       ]
      },
      {
       "output_type": "stream",
       "stream": "stdout",
       "text": [
        "30\n",
        "(226, 647) \n",
        "\n",
        "2343808"
       ]
      },
      {
       "output_type": "stream",
       "stream": "stdout",
       "text": [
        " 2 2 age :  "
       ]
      },
      {
       "output_type": "stream",
       "stream": "stdout",
       "text": [
        "10\n",
        "(227, 647) \n",
        "\n",
        "2513431"
       ]
      },
      {
       "output_type": "stream",
       "stream": "stdout",
       "text": [
        " 1 2 age :  "
       ]
      },
      {
       "output_type": "stream",
       "stream": "stdout",
       "text": [
        "10\n",
        "(227, 648) \n",
        "\n",
        "3165064"
       ]
      },
      {
       "output_type": "stream",
       "stream": "stdout",
       "text": [
        " 1 2 age :  "
       ]
      },
      {
       "output_type": "stream",
       "stream": "stdout",
       "text": [
        "10\n",
        "(227, 649) \n",
        "\n",
        "3743383"
       ]
      },
      {
       "output_type": "stream",
       "stream": "stdout",
       "text": [
        " 1 2 age :  "
       ]
      },
      {
       "output_type": "stream",
       "stream": "stdout",
       "text": [
        "10\n",
        "(227, 650) \n",
        "\n",
        "2319014"
       ]
      },
      {
       "output_type": "stream",
       "stream": "stdout",
       "text": [
        " 1 2 age :  "
       ]
      },
      {
       "output_type": "stream",
       "stream": "stdout",
       "text": [
        "10\n",
        "(227, 651) \n",
        "\n",
        "1865610"
       ]
      },
      {
       "output_type": "stream",
       "stream": "stdout",
       "text": [
        " 1 2 age :  "
       ]
      },
      {
       "output_type": "stream",
       "stream": "stdout",
       "text": [
        "30\n",
        "(227, 652) \n",
        "\n",
        "4483635"
       ]
      },
      {
       "output_type": "stream",
       "stream": "stdout",
       "text": [
        " 2 1 age :  "
       ]
      },
      {
       "output_type": "stream",
       "stream": "stdout",
       "text": [
        "10\n",
        "(227, 653) \n",
        "\n",
        "2084220"
       ]
      },
      {
       "output_type": "stream",
       "stream": "stdout",
       "text": [
        " 2 1 age :  "
       ]
      },
      {
       "output_type": "stream",
       "stream": "stdout",
       "text": [
        "10\n",
        "(227, 654) \n",
        "\n",
        "1916972"
       ]
      },
      {
       "output_type": "stream",
       "stream": "stdout",
       "text": [
        " 1 2 age :  "
       ]
      },
      {
       "output_type": "stream",
       "stream": "stdout",
       "text": [
        "10\n",
        "(227, 655) \n",
        "\n",
        "1997820"
       ]
      },
      {
       "output_type": "stream",
       "stream": "stdout",
       "text": [
        " 1 2 age :  "
       ]
      },
      {
       "output_type": "stream",
       "stream": "stdout",
       "text": [
        "30\n",
        "(227, 656) \n",
        "\n",
        "2420275"
       ]
      },
      {
       "output_type": "stream",
       "stream": "stdout",
       "text": [
        " 2 2 age :  "
       ]
      },
      {
       "output_type": "stream",
       "stream": "stdout",
       "text": [
        "30\n",
        "(228, 656) \n",
        "\n",
        "1913337"
       ]
      },
      {
       "output_type": "stream",
       "stream": "stdout",
       "text": [
        " 2 2 age :  "
       ]
      },
      {
       "output_type": "stream",
       "stream": "stdout",
       "text": [
        "20\n",
        "(229, 656) \n",
        "\n",
        "3990637"
       ]
      },
      {
       "output_type": "stream",
       "stream": "stdout",
       "text": [
        " 1 2 age :  "
       ]
      },
      {
       "output_type": "stream",
       "stream": "stdout",
       "text": [
        "20\n",
        "(229, 657) \n",
        "\n",
        "2032825"
       ]
      },
      {
       "output_type": "stream",
       "stream": "stdout",
       "text": [
        " 1 2 age :  "
       ]
      },
      {
       "output_type": "stream",
       "stream": "stdout",
       "text": [
        "10\n",
        "(229, 658) \n",
        "\n",
        "3827627"
       ]
      },
      {
       "output_type": "stream",
       "stream": "stdout",
       "text": [
        " 2 1 age :  "
       ]
      },
      {
       "output_type": "stream",
       "stream": "stdout",
       "text": [
        "25\n",
        "(229, 659) \n",
        "\n",
        "2332538"
       ]
      },
      {
       "output_type": "stream",
       "stream": "stdout",
       "text": [
        " 1 2 age :  "
       ]
      },
      {
       "output_type": "stream",
       "stream": "stdout",
       "text": [
        "30\n",
        "(229, 660) \n",
        "\n",
        "4601040"
       ]
      },
      {
       "output_type": "stream",
       "stream": "stdout",
       "text": [
        " 2 2 age :  "
       ]
      },
      {
       "output_type": "stream",
       "stream": "stdout",
       "text": [
        "25\n",
        "(230, 660) \n",
        "\n",
        "3926471"
       ]
      },
      {
       "output_type": "stream",
       "stream": "stdout",
       "text": [
        " 2 1 age :  "
       ]
      },
      {
       "output_type": "stream",
       "stream": "stdout",
       "text": [
        "18\n",
        "(230, 661) \n",
        "\n",
        "1843670"
       ]
      },
      {
       "output_type": "stream",
       "stream": "stdout",
       "text": [
        " 1 2 age :  "
       ]
      },
      {
       "output_type": "stream",
       "stream": "stdout",
       "text": [
        "20\n",
        "(230, 662) \n",
        "\n",
        "1716036"
       ]
      },
      {
       "output_type": "stream",
       "stream": "stdout",
       "text": [
        " 1 2 age :  "
       ]
      },
      {
       "output_type": "stream",
       "stream": "stdout",
       "text": [
        "10\n",
        "(230, 663) \n",
        "\n",
        "1159206"
       ]
      },
      {
       "output_type": "stream",
       "stream": "stdout",
       "text": [
        " 1 2 age :  "
       ]
      },
      {
       "output_type": "stream",
       "stream": "stdout",
       "text": [
        "30\n",
        "(230, 664) \n",
        "\n",
        "1888870"
       ]
      },
      {
       "output_type": "stream",
       "stream": "stdout",
       "text": [
        " 2 2 age :  "
       ]
      },
      {
       "output_type": "stream",
       "stream": "stdout",
       "text": [
        "20\n",
        "(231, 664) \n",
        "\n",
        "2773800"
       ]
      },
      {
       "output_type": "stream",
       "stream": "stdout",
       "text": [
        " 2 2 age :  "
       ]
      },
      {
       "output_type": "stream",
       "stream": "stdout",
       "text": [
        "10\n",
        "(232, 664) \n",
        "\n",
        "2302815"
       ]
      },
      {
       "output_type": "stream",
       "stream": "stdout",
       "text": [
        " 2 1 age :  "
       ]
      },
      {
       "output_type": "stream",
       "stream": "stdout",
       "text": [
        "12\n",
        "(232, 665) \n",
        "\n",
        "1774237"
       ]
      },
      {
       "output_type": "stream",
       "stream": "stdout",
       "text": [
        " 1 2 age :  "
       ]
      },
      {
       "output_type": "stream",
       "stream": "stdout",
       "text": [
        "20\n",
        "(232, 666) \n",
        "\n",
        "1506733"
       ]
      },
      {
       "output_type": "stream",
       "stream": "stdout",
       "text": [
        " 2 1 age :  "
       ]
      },
      {
       "output_type": "stream",
       "stream": "stdout",
       "text": [
        "20\n",
        "(232, 667) \n",
        "\n",
        "3800718"
       ]
      },
      {
       "output_type": "stream",
       "stream": "stdout",
       "text": [
        " 1 2 age :  "
       ]
      },
      {
       "output_type": "stream",
       "stream": "stdout",
       "text": [
        "10\n",
        "(232, 668) \n",
        "\n",
        "4952993"
       ]
      },
      {
       "output_type": "stream",
       "stream": "stdout",
       "text": [
        " 1 2 age :  "
       ]
      },
      {
       "output_type": "stream",
       "stream": "stdout",
       "text": [
        "20\n",
        "(232, 669) \n",
        "\n",
        "4582962"
       ]
      },
      {
       "output_type": "stream",
       "stream": "stdout",
       "text": [
        " 1 2 age :  "
       ]
      },
      {
       "output_type": "stream",
       "stream": "stdout",
       "text": [
        "10\n",
        "(232, 670) \n",
        "\n",
        "1950108"
       ]
      },
      {
       "output_type": "stream",
       "stream": "stdout",
       "text": [
        " 2 2 age :  "
       ]
      },
      {
       "output_type": "stream",
       "stream": "stdout",
       "text": [
        "10\n",
        "(233, 670) \n",
        "\n",
        "3395557"
       ]
      },
      {
       "output_type": "stream",
       "stream": "stdout",
       "text": [
        " 2 2 age :  "
       ]
      },
      {
       "output_type": "stream",
       "stream": "stdout",
       "text": [
        "38\n",
        "(234, 670) \n",
        "\n",
        "1715847"
       ]
      },
      {
       "output_type": "stream",
       "stream": "stdout",
       "text": [
        " 1 1 age :  "
       ]
      },
      {
       "output_type": "stream",
       "stream": "stdout",
       "text": [
        "30\n",
        "(235, 670) \n",
        "\n",
        "1389016"
       ]
      },
      {
       "output_type": "stream",
       "stream": "stdout",
       "text": [
        " 2 2 age :  "
       ]
      },
      {
       "output_type": "stream",
       "stream": "stdout",
       "text": [
        "20\n",
        "(236, 670) \n",
        "\n",
        "1777850"
       ]
      },
      {
       "output_type": "stream",
       "stream": "stdout",
       "text": [
        " 2 1 age :  "
       ]
      },
      {
       "output_type": "stream",
       "stream": "stdout",
       "text": [
        "10\n",
        "(236, 671) \n",
        "\n",
        "2962938"
       ]
      },
      {
       "output_type": "stream",
       "stream": "stdout",
       "text": [
        " 1 2 age :  "
       ]
      },
      {
       "output_type": "stream",
       "stream": "stdout",
       "text": [
        "10\n",
        "(236, 672) \n",
        "\n",
        "1844467"
       ]
      },
      {
       "output_type": "stream",
       "stream": "stdout",
       "text": [
        " 2 2 age :  "
       ]
      },
      {
       "output_type": "stream",
       "stream": "stdout",
       "text": [
        "10\n",
        "(237, 672) \n",
        "\n",
        "4429525"
       ]
      },
      {
       "output_type": "stream",
       "stream": "stdout",
       "text": [
        " 2 2 age :  "
       ]
      },
      {
       "output_type": "stream",
       "stream": "stdout",
       "text": [
        "20\n",
        "(238, 672) \n",
        "\n",
        "4795654"
       ]
      },
      {
       "output_type": "stream",
       "stream": "stdout",
       "text": [
        " 2 2 age :  "
       ]
      },
      {
       "output_type": "stream",
       "stream": "stdout",
       "text": [
        "20\n",
        "(239, 672) \n",
        "\n",
        "3019486"
       ]
      },
      {
       "output_type": "stream",
       "stream": "stdout",
       "text": [
        " 2 1 age :  "
       ]
      },
      {
       "output_type": "stream",
       "stream": "stdout",
       "text": [
        "32\n",
        "(239, 673) \n",
        "\n",
        "3428845"
       ]
      },
      {
       "output_type": "stream",
       "stream": "stdout",
       "text": [
        " 1 2 age :  "
       ]
      },
      {
       "output_type": "stream",
       "stream": "stdout",
       "text": [
        "30\n",
        "(239, 674) \n",
        "\n",
        "1845870"
       ]
      },
      {
       "output_type": "stream",
       "stream": "stdout",
       "text": [
        " 2 2 age :  "
       ]
      },
      {
       "output_type": "stream",
       "stream": "stdout",
       "text": [
        "62\n",
        "(240, 674) \n",
        "\n",
        "3112981"
       ]
      },
      {
       "output_type": "stream",
       "stream": "stdout",
       "text": [
        " 2 2 age :  "
       ]
      },
      {
       "output_type": "stream",
       "stream": "stdout",
       "text": [
        "20\n",
        "(241, 674) \n",
        "\n",
        "1817815"
       ]
      },
      {
       "output_type": "stream",
       "stream": "stdout",
       "text": [
        " 1 2 age :  "
       ]
      },
      {
       "output_type": "stream",
       "stream": "stdout",
       "text": [
        "10\n",
        "(241, 675) \n",
        "\n",
        "3382963"
       ]
      },
      {
       "output_type": "stream",
       "stream": "stdout",
       "text": [
        " 1 2 age :  "
       ]
      },
      {
       "output_type": "stream",
       "stream": "stdout",
       "text": [
        "22\n",
        "(241, 676) \n",
        "\n",
        "3981337"
       ]
      },
      {
       "output_type": "stream",
       "stream": "stdout",
       "text": [
        " 2 1 age :  "
       ]
      },
      {
       "output_type": "stream",
       "stream": "stdout",
       "text": [
        "10\n",
        "(241, 677) \n",
        "\n",
        "1540301"
       ]
      },
      {
       "output_type": "stream",
       "stream": "stdout",
       "text": [
        " 2 1 age :  "
       ]
      },
      {
       "output_type": "stream",
       "stream": "stdout",
       "text": [
        "30\n",
        "(241, 678) \n",
        "\n",
        "5199223"
       ]
      },
      {
       "output_type": "stream",
       "stream": "stdout",
       "text": [
        " 1 2 age :  "
       ]
      },
      {
       "output_type": "stream",
       "stream": "stdout",
       "text": [
        "20\n",
        "(241, 679) \n",
        "\n",
        "3988711"
       ]
      },
      {
       "output_type": "stream",
       "stream": "stdout",
       "text": [
        " 1 2 age :  "
       ]
      },
      {
       "output_type": "stream",
       "stream": "stdout",
       "text": [
        "10\n",
        "(241, 680) \n",
        "\n",
        "3684638"
       ]
      },
      {
       "output_type": "stream",
       "stream": "stdout",
       "text": [
        " 2 2 age :  "
       ]
      },
      {
       "output_type": "stream",
       "stream": "stdout",
       "text": [
        "10\n",
        "(242, 680) \n",
        "\n",
        "2386418"
       ]
      },
      {
       "output_type": "stream",
       "stream": "stdout",
       "text": [
        " 1 2 age :  "
       ]
      },
      {
       "output_type": "stream",
       "stream": "stdout",
       "text": [
        "40\n",
        "(242, 681) \n",
        "\n",
        "1399625"
       ]
      },
      {
       "output_type": "stream",
       "stream": "stdout",
       "text": [
        " 1 2 age :  "
       ]
      },
      {
       "output_type": "stream",
       "stream": "stdout",
       "text": [
        "40\n",
        "(242, 682) \n",
        "\n",
        "1802425"
       ]
      },
      {
       "output_type": "stream",
       "stream": "stdout",
       "text": [
        " 2 2 age :  "
       ]
      },
      {
       "output_type": "stream",
       "stream": "stdout",
       "text": [
        "20\n",
        "(243, 682) \n",
        "\n",
        "5019089"
       ]
      },
      {
       "output_type": "stream",
       "stream": "stdout",
       "text": [
        " 1 2 age :  "
       ]
      },
      {
       "output_type": "stream",
       "stream": "stdout",
       "text": [
        "10\n",
        "(243, 683) \n",
        "\n",
        "2298972"
       ]
      },
      {
       "output_type": "stream",
       "stream": "stdout",
       "text": [
        " 1 2 age :  "
       ]
      },
      {
       "output_type": "stream",
       "stream": "stdout",
       "text": [
        "10\n",
        "(243, 684) \n",
        "\n",
        "3816477"
       ]
      },
      {
       "output_type": "stream",
       "stream": "stdout",
       "text": [
        " 1 2 age :  "
       ]
      },
      {
       "output_type": "stream",
       "stream": "stdout",
       "text": [
        "40\n",
        "(243, 685) \n",
        "\n",
        "1650097"
       ]
      },
      {
       "output_type": "stream",
       "stream": "stdout",
       "text": [
        " 1 2 age :  "
       ]
      },
      {
       "output_type": "stream",
       "stream": "stdout",
       "text": [
        "10\n",
        "(243, 686) \n",
        "\n",
        "1980799"
       ]
      },
      {
       "output_type": "stream",
       "stream": "stdout",
       "text": [
        " 1 2 age :  "
       ]
      },
      {
       "output_type": "stream",
       "stream": "stdout",
       "text": [
        "10\n",
        "(243, 687) \n",
        "\n",
        "3175623"
       ]
      },
      {
       "output_type": "stream",
       "stream": "stdout",
       "text": [
        " 1 2 age :  "
       ]
      },
      {
       "output_type": "stream",
       "stream": "stdout",
       "text": [
        "10\n",
        "(243, 688) \n",
        "\n",
        "4067734"
       ]
      },
      {
       "output_type": "stream",
       "stream": "stdout",
       "text": [
        " 1 2 age :  "
       ]
      },
      {
       "output_type": "stream",
       "stream": "stdout",
       "text": [
        "20\n",
        "(243, 689) \n",
        "\n",
        "1764983"
       ]
      },
      {
       "output_type": "stream",
       "stream": "stdout",
       "text": [
        " 1 2 age :  "
       ]
      },
      {
       "output_type": "stream",
       "stream": "stdout",
       "text": [
        "10\n",
        "(243, 690) \n",
        "\n",
        "3562028"
       ]
      },
      {
       "output_type": "stream",
       "stream": "stdout",
       "text": [
        " 1 2 age :  "
       ]
      },
      {
       "output_type": "stream",
       "stream": "stdout",
       "text": [
        "10\n",
        "(243, 691) \n",
        "\n",
        "2176343"
       ]
      },
      {
       "output_type": "stream",
       "stream": "stdout",
       "text": [
        " 1 2 age :  "
       ]
      },
      {
       "output_type": "stream",
       "stream": "stdout",
       "text": [
        "10\n",
        "(243, 692) \n",
        "\n",
        "2289930"
       ]
      },
      {
       "output_type": "stream",
       "stream": "stdout",
       "text": [
        " 1 2 age :  "
       ]
      },
      {
       "output_type": "stream",
       "stream": "stdout",
       "text": [
        "20\n",
        "(243, 693) \n",
        "\n",
        "2923763"
       ]
      },
      {
       "output_type": "stream",
       "stream": "stdout",
       "text": [
        " 1 2 age :  "
       ]
      },
      {
       "output_type": "stream",
       "stream": "stdout",
       "text": [
        "10\n",
        "(243, 694) \n",
        "\n",
        "1765931"
       ]
      },
      {
       "output_type": "stream",
       "stream": "stdout",
       "text": [
        " 2 2 age :  "
       ]
      },
      {
       "output_type": "stream",
       "stream": "stdout",
       "text": [
        "10\n",
        "(244, 694) \n",
        "\n",
        "4977320"
       ]
      },
      {
       "output_type": "stream",
       "stream": "stdout",
       "text": [
        " 1 2 age :  "
       ]
      },
      {
       "output_type": "stream",
       "stream": "stdout",
       "text": [
        "10\n",
        "(244, 695) \n",
        "\n",
        "4647361"
       ]
      },
      {
       "output_type": "stream",
       "stream": "stdout",
       "text": [
        " 1 2 age :  "
       ]
      },
      {
       "output_type": "stream",
       "stream": "stdout",
       "text": [
        "12\n",
        "(244, 696) \n",
        "\n",
        "2746573"
       ]
      },
      {
       "output_type": "stream",
       "stream": "stdout",
       "text": [
        " 1 2 age :  "
       ]
      },
      {
       "output_type": "stream",
       "stream": "stdout",
       "text": [
        "10\n",
        "(244, 697) \n",
        "\n",
        "2295484"
       ]
      },
      {
       "output_type": "stream",
       "stream": "stdout",
       "text": [
        " 1 2 age :  "
       ]
      },
      {
       "output_type": "stream",
       "stream": "stdout",
       "text": [
        "30\n",
        "(244, 698) \n",
        "\n",
        "4463117"
       ]
      },
      {
       "output_type": "stream",
       "stream": "stdout",
       "text": [
        " 2 2 age :  "
       ]
      },
      {
       "output_type": "stream",
       "stream": "stdout",
       "text": [
        "10\n",
        "(245, 698) \n",
        "\n",
        "1970581"
       ]
      },
      {
       "output_type": "stream",
       "stream": "stdout",
       "text": [
        " 2 1 age :  "
       ]
      },
      {
       "output_type": "stream",
       "stream": "stdout",
       "text": [
        "18\n",
        "(245, 699) \n",
        "\n",
        "1417061"
       ]
      },
      {
       "output_type": "stream",
       "stream": "stdout",
       "text": [
        " 2 2 age :  "
       ]
      },
      {
       "output_type": "stream",
       "stream": "stdout",
       "text": [
        "20\n",
        "(246, 699) \n",
        "\n",
        "5119892"
       ]
      },
      {
       "output_type": "stream",
       "stream": "stdout",
       "text": [
        " 1 2 age :  "
       ]
      },
      {
       "output_type": "stream",
       "stream": "stdout",
       "text": [
        "20\n",
        "(246, 700) \n",
        "\n",
        "4040758"
       ]
      },
      {
       "output_type": "stream",
       "stream": "stdout",
       "text": [
        " 1 2 age :  "
       ]
      },
      {
       "output_type": "stream",
       "stream": "stdout",
       "text": [
        "10\n",
        "(246, 701) \n",
        "\n",
        "2509789"
       ]
      },
      {
       "output_type": "stream",
       "stream": "stdout",
       "text": [
        " 2 2 age :  "
       ]
      },
      {
       "output_type": "stream",
       "stream": "stdout",
       "text": [
        "20\n",
        "(247, 701) \n",
        "\n",
        "1595357"
       ]
      },
      {
       "output_type": "stream",
       "stream": "stdout",
       "text": [
        " 2 2 age :  "
       ]
      },
      {
       "output_type": "stream",
       "stream": "stdout",
       "text": [
        "20\n",
        "(248, 701) \n",
        "\n",
        "1808143"
       ]
      },
      {
       "output_type": "stream",
       "stream": "stdout",
       "text": [
        " 2 2 age :  "
       ]
      },
      {
       "output_type": "stream",
       "stream": "stdout",
       "text": [
        "10\n",
        "(249, 701) \n",
        "\n",
        "1984774"
       ]
      },
      {
       "output_type": "stream",
       "stream": "stdout",
       "text": [
        " 2 2 age :  "
       ]
      },
      {
       "output_type": "stream",
       "stream": "stdout",
       "text": [
        "52\n",
        "(250, 701) \n",
        "\n",
        "1916638"
       ]
      },
      {
       "output_type": "stream",
       "stream": "stdout",
       "text": [
        " 1 2 age :  "
       ]
      },
      {
       "output_type": "stream",
       "stream": "stdout",
       "text": [
        "20\n",
        "(250, 702) \n",
        "\n",
        "3890276"
       ]
      },
      {
       "output_type": "stream",
       "stream": "stdout",
       "text": [
        " 2 1 age :  "
       ]
      },
      {
       "output_type": "stream",
       "stream": "stdout",
       "text": [
        "20\n",
        "(250, 703) \n",
        "\n",
        "5249068"
       ]
      },
      {
       "output_type": "stream",
       "stream": "stdout",
       "text": [
        " 1 2 age :  "
       ]
      },
      {
       "output_type": "stream",
       "stream": "stdout",
       "text": [
        "22\n",
        "(250, 704) \n",
        "\n",
        "1684675"
       ]
      },
      {
       "output_type": "stream",
       "stream": "stdout",
       "text": [
        " 2 2 age :  "
       ]
      },
      {
       "output_type": "stream",
       "stream": "stdout",
       "text": [
        "20\n",
        "(251, 704) \n",
        "\n",
        "1995509"
       ]
      },
      {
       "output_type": "stream",
       "stream": "stdout",
       "text": [
        " 2 1 age :  "
       ]
      },
      {
       "output_type": "stream",
       "stream": "stdout",
       "text": [
        "20\n",
        "(251, 705) \n",
        "\n",
        "4861577"
       ]
      },
      {
       "output_type": "stream",
       "stream": "stdout",
       "text": [
        " 1 2 age :  "
       ]
      },
      {
       "output_type": "stream",
       "stream": "stdout",
       "text": [
        "20\n",
        "(251, 706) \n",
        "\n",
        "1751115"
       ]
      },
      {
       "output_type": "stream",
       "stream": "stdout",
       "text": [
        " 1 2 age :  "
       ]
      },
      {
       "output_type": "stream",
       "stream": "stdout",
       "text": [
        "10\n",
        "(251, 707) \n",
        "\n",
        "2991531"
       ]
      },
      {
       "output_type": "stream",
       "stream": "stdout",
       "text": [
        " 2 2 age :  "
       ]
      },
      {
       "output_type": "stream",
       "stream": "stdout",
       "text": [
        "20\n",
        "(252, 707) \n",
        "\n",
        "4904217"
       ]
      },
      {
       "output_type": "stream",
       "stream": "stdout",
       "text": [
        " 1 2 age :  "
       ]
      },
      {
       "output_type": "stream",
       "stream": "stdout",
       "text": [
        "10\n",
        "(252, 708) \n",
        "\n",
        "1884133"
       ]
      },
      {
       "output_type": "stream",
       "stream": "stdout",
       "text": [
        " 1 2 age :  "
       ]
      },
      {
       "output_type": "stream",
       "stream": "stdout",
       "text": [
        "10\n",
        "(252, 709) \n",
        "\n",
        "1695638"
       ]
      },
      {
       "output_type": "stream",
       "stream": "stdout",
       "text": [
        " 2 1 age :  "
       ]
      },
      {
       "output_type": "stream",
       "stream": "stdout",
       "text": [
        "25\n",
        "(252, 710) \n",
        "\n",
        "1442972"
       ]
      },
      {
       "output_type": "stream",
       "stream": "stdout",
       "text": [
        " 2 2 age :  "
       ]
      },
      {
       "output_type": "stream",
       "stream": "stdout",
       "text": [
        "20\n",
        "(253, 710) \n",
        "\n",
        "2058499"
       ]
      },
      {
       "output_type": "stream",
       "stream": "stdout",
       "text": [
        " 2 2 age :  "
       ]
      },
      {
       "output_type": "stream",
       "stream": "stdout",
       "text": [
        "10\n",
        "(254, 710) \n",
        "\n",
        "1985152"
       ]
      },
      {
       "output_type": "stream",
       "stream": "stdout",
       "text": [
        " 1 2 age :  "
       ]
      },
      {
       "output_type": "stream",
       "stream": "stdout",
       "text": [
        "10\n",
        "(254, 711) \n",
        "\n",
        "3212933"
       ]
      },
      {
       "output_type": "stream",
       "stream": "stdout",
       "text": [
        " 2 2 age :  "
       ]
      },
      {
       "output_type": "stream",
       "stream": "stdout",
       "text": [
        "73\n",
        "(255, 711) \n",
        "\n",
        "5200195"
       ]
      },
      {
       "output_type": "stream",
       "stream": "stdout",
       "text": [
        " 1 2 age :  "
       ]
      },
      {
       "output_type": "stream",
       "stream": "stdout",
       "text": [
        "10\n",
        "(255, 712) \n",
        "\n",
        "2625754"
       ]
      },
      {
       "output_type": "stream",
       "stream": "stdout",
       "text": [
        " 1 2 age :  "
       ]
      },
      {
       "output_type": "stream",
       "stream": "stdout",
       "text": [
        "30\n",
        "(255, 713) \n",
        "\n",
        "1536875"
       ]
      },
      {
       "output_type": "stream",
       "stream": "stdout",
       "text": [
        " 2 2 age :  "
       ]
      },
      {
       "output_type": "stream",
       "stream": "stdout",
       "text": [
        "30\n",
        "(256, 713) \n",
        "\n",
        "2049015"
       ]
      },
      {
       "output_type": "stream",
       "stream": "stdout",
       "text": [
        " 2 2 age :  "
       ]
      },
      {
       "output_type": "stream",
       "stream": "stdout",
       "text": [
        "40\n",
        "(257, 713) \n",
        "\n",
        "2013333"
       ]
      },
      {
       "output_type": "stream",
       "stream": "stdout",
       "text": [
        " 2 1 age :  "
       ]
      },
      {
       "output_type": "stream",
       "stream": "stdout",
       "text": [
        "20\n",
        "(257, 714) \n",
        "\n",
        "1882221"
       ]
      },
      {
       "output_type": "stream",
       "stream": "stdout",
       "text": [
        " 2 2 age :  "
       ]
      },
      {
       "output_type": "stream",
       "stream": "stdout",
       "text": [
        "20\n",
        "(258, 714) \n",
        "\n",
        "3971324"
       ]
      },
      {
       "output_type": "stream",
       "stream": "stdout",
       "text": [
        " 2 2 age :  "
       ]
      },
      {
       "output_type": "stream",
       "stream": "stdout",
       "text": [
        "10\n",
        "(259, 714) \n",
        "\n",
        "2928184"
       ]
      },
      {
       "output_type": "stream",
       "stream": "stdout",
       "text": [
        " 1 2 age :  "
       ]
      },
      {
       "output_type": "stream",
       "stream": "stdout",
       "text": [
        "10\n",
        "(259, 715) \n",
        "\n",
        "3200987"
       ]
      },
      {
       "output_type": "stream",
       "stream": "stdout",
       "text": [
        " 1 2 age :  "
       ]
      },
      {
       "output_type": "stream",
       "stream": "stdout",
       "text": [
        "10\n",
        "(259, 716) \n",
        "\n",
        "4359444"
       ]
      },
      {
       "output_type": "stream",
       "stream": "stdout",
       "text": [
        " 1 2 age :  "
       ]
      },
      {
       "output_type": "stream",
       "stream": "stdout",
       "text": [
        "20\n",
        "(259, 717) \n",
        "\n",
        "2385293"
       ]
      },
      {
       "output_type": "stream",
       "stream": "stdout",
       "text": [
        " 1 2 age :  "
       ]
      },
      {
       "output_type": "stream",
       "stream": "stdout",
       "text": [
        "52\n",
        "(259, 718) \n",
        "\n",
        "4269056"
       ]
      },
      {
       "output_type": "stream",
       "stream": "stdout",
       "text": [
        " 1 2 age :  "
       ]
      },
      {
       "output_type": "stream",
       "stream": "stdout",
       "text": [
        "10\n",
        "(259, 719) \n",
        "\n",
        "1481990"
       ]
      },
      {
       "output_type": "stream",
       "stream": "stdout",
       "text": [
        " 2 1 age :  "
       ]
      },
      {
       "output_type": "stream",
       "stream": "stdout",
       "text": [
        "20\n",
        "(259, 720) \n",
        "\n",
        "3165404"
       ]
      },
      {
       "output_type": "stream",
       "stream": "stdout",
       "text": [
        " 2 2 age :  "
       ]
      },
      {
       "output_type": "stream",
       "stream": "stdout",
       "text": [
        "30\n",
        "(260, 720) \n",
        "\n",
        "3831990"
       ]
      },
      {
       "output_type": "stream",
       "stream": "stdout",
       "text": [
        " 1 2 age :  "
       ]
      },
      {
       "output_type": "stream",
       "stream": "stdout",
       "text": [
        "10\n",
        "(260, 721) \n",
        "\n",
        "4325557"
       ]
      },
      {
       "output_type": "stream",
       "stream": "stdout",
       "text": [
        " 1 1 age :  "
       ]
      },
      {
       "output_type": "stream",
       "stream": "stdout",
       "text": [
        "10\n",
        "(261, 721) \n",
        "\n",
        "4567765"
       ]
      },
      {
       "output_type": "stream",
       "stream": "stdout",
       "text": [
        " 1 2 age :  "
       ]
      },
      {
       "output_type": "stream",
       "stream": "stdout",
       "text": [
        "30\n",
        "(261, 722) \n",
        "\n",
        "2700907"
       ]
      },
      {
       "output_type": "stream",
       "stream": "stdout",
       "text": [
        " 2 1 age :  "
       ]
      },
      {
       "output_type": "stream",
       "stream": "stdout",
       "text": [
        "22\n",
        "(261, 723) \n",
        "\n",
        "1004428"
       ]
      },
      {
       "output_type": "stream",
       "stream": "stdout",
       "text": [
        " 2 1 age :  "
       ]
      },
      {
       "output_type": "stream",
       "stream": "stdout",
       "text": [
        "22\n",
        "(261, 724) \n",
        "\n",
        "4725708"
       ]
      },
      {
       "output_type": "stream",
       "stream": "stdout",
       "text": [
        " 1 2 age :  "
       ]
      },
      {
       "output_type": "stream",
       "stream": "stdout",
       "text": [
        "30\n",
        "(261, 725) \n",
        "\n",
        "4003461"
       ]
      },
      {
       "output_type": "stream",
       "stream": "stdout",
       "text": [
        " 2 2 age :  "
       ]
      },
      {
       "output_type": "stream",
       "stream": "stdout",
       "text": [
        "10\n",
        "(262, 725) \n",
        "\n",
        "2897138"
       ]
      },
      {
       "output_type": "stream",
       "stream": "stdout",
       "text": [
        " 1 2 age :  "
       ]
      },
      {
       "output_type": "stream",
       "stream": "stdout",
       "text": [
        "10\n",
        "(262, 726) \n",
        "\n",
        "3775871"
       ]
      },
      {
       "output_type": "stream",
       "stream": "stdout",
       "text": [
        " 1 2 age :  "
       ]
      },
      {
       "output_type": "stream",
       "stream": "stdout",
       "text": [
        "20\n",
        "(262, 727) \n",
        "\n",
        "4984463"
       ]
      },
      {
       "output_type": "stream",
       "stream": "stdout",
       "text": [
        " 1 2 age :  "
       ]
      },
      {
       "output_type": "stream",
       "stream": "stdout",
       "text": [
        "10\n",
        "(262, 728) \n",
        "\n",
        "1687022"
       ]
      },
      {
       "output_type": "stream",
       "stream": "stdout",
       "text": [
        " 1 2 age :  "
       ]
      },
      {
       "output_type": "stream",
       "stream": "stdout",
       "text": [
        "10\n",
        "(262, 729) \n",
        "\n",
        "2266895"
       ]
      },
      {
       "output_type": "stream",
       "stream": "stdout",
       "text": [
        " 1 2 age :  "
       ]
      },
      {
       "output_type": "stream",
       "stream": "stdout",
       "text": [
        "20\n",
        "(262, 730) \n",
        "\n",
        "1712556"
       ]
      },
      {
       "output_type": "stream",
       "stream": "stdout",
       "text": [
        " 1 2 age :  "
       ]
      },
      {
       "output_type": "stream",
       "stream": "stdout",
       "text": [
        "20\n",
        "(262, 731) \n",
        "\n",
        "3763938"
       ]
      },
      {
       "output_type": "stream",
       "stream": "stdout",
       "text": [
        " 1 2 age :  "
       ]
      },
      {
       "output_type": "stream",
       "stream": "stdout",
       "text": [
        "20\n",
        "(262, 732) \n",
        "\n",
        "3422351"
       ]
      },
      {
       "output_type": "stream",
       "stream": "stdout",
       "text": [
        " 1 2 age :  "
       ]
      },
      {
       "output_type": "stream",
       "stream": "stdout",
       "text": [
        "10\n",
        "(262, 733) \n",
        "\n",
        "4309428"
       ]
      },
      {
       "output_type": "stream",
       "stream": "stdout",
       "text": [
        " 1 2 age :  "
       ]
      },
      {
       "output_type": "stream",
       "stream": "stdout",
       "text": [
        "10\n",
        "(262, 734) \n",
        "\n",
        "2077403"
       ]
      },
      {
       "output_type": "stream",
       "stream": "stdout",
       "text": [
        " 2 1 age :  "
       ]
      },
      {
       "output_type": "stream",
       "stream": "stdout",
       "text": [
        "30\n",
        "(262, 735) \n",
        "\n",
        "3780254"
       ]
      },
      {
       "output_type": "stream",
       "stream": "stdout",
       "text": [
        " 2 1 age :  "
       ]
      },
      {
       "output_type": "stream",
       "stream": "stdout",
       "text": [
        "15\n",
        "(262, 736) \n",
        "\n",
        "3950397"
       ]
      },
      {
       "output_type": "stream",
       "stream": "stdout",
       "text": [
        " 1 2 age :  "
       ]
      },
      {
       "output_type": "stream",
       "stream": "stdout",
       "text": [
        "30\n",
        "(262, 737) \n",
        "\n",
        "1514644"
       ]
      },
      {
       "output_type": "stream",
       "stream": "stdout",
       "text": [
        " 1 2 age :  "
       ]
      },
      {
       "output_type": "stream",
       "stream": "stdout",
       "text": [
        "28\n",
        "(262, 738) \n",
        "\n",
        "3483358"
       ]
      },
      {
       "output_type": "stream",
       "stream": "stdout",
       "text": [
        " 1 2 age :  "
       ]
      },
      {
       "output_type": "stream",
       "stream": "stdout",
       "text": [
        "10\n",
        "(262, 739) \n",
        "\n",
        "1779472"
       ]
      },
      {
       "output_type": "stream",
       "stream": "stdout",
       "text": [
        " 1 2 age :  "
       ]
      },
      {
       "output_type": "stream",
       "stream": "stdout",
       "text": [
        "10\n",
        "(262, 740) \n",
        "\n",
        "745670"
       ]
      },
      {
       "output_type": "stream",
       "stream": "stdout",
       "text": [
        " 2 1 age :  "
       ]
      },
      {
       "output_type": "stream",
       "stream": "stdout",
       "text": [
        "22\n",
        "(262, 741) \n",
        "\n",
        "3486614"
       ]
      },
      {
       "output_type": "stream",
       "stream": "stdout",
       "text": [
        " 1 2 age :  "
       ]
      },
      {
       "output_type": "stream",
       "stream": "stdout",
       "text": [
        "18\n",
        "(262, 742) \n",
        "\n",
        "3201008"
       ]
      },
      {
       "output_type": "stream",
       "stream": "stdout",
       "text": [
        " 1 2 age :  "
       ]
      },
      {
       "output_type": "stream",
       "stream": "stdout",
       "text": [
        "10\n",
        "(262, 743) \n",
        "\n",
        "4633979"
       ]
      },
      {
       "output_type": "stream",
       "stream": "stdout",
       "text": [
        " 2 1 age :  "
       ]
      },
      {
       "output_type": "stream",
       "stream": "stdout",
       "text": [
        "38\n",
        "(262, 744) \n",
        "\n",
        "2207575"
       ]
      },
      {
       "output_type": "stream",
       "stream": "stdout",
       "text": [
        " 2 1 age :  "
       ]
      },
      {
       "output_type": "stream",
       "stream": "stdout",
       "text": [
        "10\n",
        "(262, 745) \n",
        "\n",
        "3783635"
       ]
      },
      {
       "output_type": "stream",
       "stream": "stdout",
       "text": [
        " 1 2 age :  "
       ]
      },
      {
       "output_type": "stream",
       "stream": "stdout",
       "text": [
        "10\n",
        "(262, 746) \n",
        "\n",
        "4480598"
       ]
      },
      {
       "output_type": "stream",
       "stream": "stdout",
       "text": [
        " 1 2 age :  "
       ]
      },
      {
       "output_type": "stream",
       "stream": "stdout",
       "text": [
        "10\n",
        "(262, 747) \n",
        "\n",
        "2152728"
       ]
      },
      {
       "output_type": "stream",
       "stream": "stdout",
       "text": [
        " 1 2 age :  "
       ]
      },
      {
       "output_type": "stream",
       "stream": "stdout",
       "text": [
        "15\n",
        "(262, 748) \n",
        "\n",
        "1766842"
       ]
      },
      {
       "output_type": "stream",
       "stream": "stdout",
       "text": [
        " 2 1 age :  "
       ]
      },
      {
       "output_type": "stream",
       "stream": "stdout",
       "text": [
        "10\n",
        "(262, 749) \n",
        "\n",
        "4807221"
       ]
      },
      {
       "output_type": "stream",
       "stream": "stdout",
       "text": [
        " 2 1 age :  "
       ]
      },
      {
       "output_type": "stream",
       "stream": "stdout",
       "text": [
        "10\n",
        "(262, 750) \n",
        "\n",
        "4589132"
       ]
      },
      {
       "output_type": "stream",
       "stream": "stdout",
       "text": [
        " 2 1 age :  "
       ]
      },
      {
       "output_type": "stream",
       "stream": "stdout",
       "text": [
        "10\n",
        "(262, 751) \n",
        "\n",
        "1622338"
       ]
      },
      {
       "output_type": "stream",
       "stream": "stdout",
       "text": [
        " 1 2 age :  "
       ]
      },
      {
       "output_type": "stream",
       "stream": "stdout",
       "text": [
        "30\n",
        "(262, 752) \n",
        "\n",
        "5140550"
       ]
      },
      {
       "output_type": "stream",
       "stream": "stdout",
       "text": [
        " 2 2 age :  "
       ]
      },
      {
       "output_type": "stream",
       "stream": "stdout",
       "text": [
        "20\n",
        "(263, 752) \n",
        "\n",
        "1930374"
       ]
      },
      {
       "output_type": "stream",
       "stream": "stdout",
       "text": [
        " 1 2 age :  "
       ]
      },
      {
       "output_type": "stream",
       "stream": "stdout",
       "text": [
        "10\n",
        "(263, 753) \n",
        "\n",
        "5334235"
       ]
      },
      {
       "output_type": "stream",
       "stream": "stdout",
       "text": [
        " 2 2 age :  "
       ]
      },
      {
       "output_type": "stream",
       "stream": "stdout",
       "text": [
        "10\n",
        "(264, 753) \n",
        "\n",
        "2909037"
       ]
      },
      {
       "output_type": "stream",
       "stream": "stdout",
       "text": [
        " 2 2 age :  "
       ]
      },
      {
       "output_type": "stream",
       "stream": "stdout",
       "text": [
        "10\n",
        "(265, 753) \n",
        "\n",
        "4295696"
       ]
      },
      {
       "output_type": "stream",
       "stream": "stdout",
       "text": [
        " 2 1 age :  "
       ]
      },
      {
       "output_type": "stream",
       "stream": "stdout",
       "text": [
        "10\n",
        "(265, 754) \n",
        "\n",
        "1670074"
       ]
      },
      {
       "output_type": "stream",
       "stream": "stdout",
       "text": [
        " 1 2 age :  "
       ]
      },
      {
       "output_type": "stream",
       "stream": "stdout",
       "text": [
        "10\n",
        "(265, 755) \n",
        "\n",
        "2303012"
       ]
      },
      {
       "output_type": "stream",
       "stream": "stdout",
       "text": [
        " 1 2 age :  "
       ]
      },
      {
       "output_type": "stream",
       "stream": "stdout",
       "text": [
        "10\n",
        "(265, 756) \n",
        "\n",
        "3836360"
       ]
      },
      {
       "output_type": "stream",
       "stream": "stdout",
       "text": [
        " 1 2 age :  "
       ]
      },
      {
       "output_type": "stream",
       "stream": "stdout",
       "text": [
        "30\n",
        "(265, 757) \n",
        "\n",
        "3767094"
       ]
      },
      {
       "output_type": "stream",
       "stream": "stdout",
       "text": [
        " 1 2 age :  "
       ]
      },
      {
       "output_type": "stream",
       "stream": "stdout",
       "text": [
        "10\n",
        "(265, 758) \n",
        "\n",
        "3901212"
       ]
      },
      {
       "output_type": "stream",
       "stream": "stdout",
       "text": [
        " 2 1 age :  "
       ]
      },
      {
       "output_type": "stream",
       "stream": "stdout",
       "text": [
        "10\n",
        "(265, 759) \n",
        "\n",
        "4742098"
       ]
      },
      {
       "output_type": "stream",
       "stream": "stdout",
       "text": [
        " 1 1 age :  "
       ]
      },
      {
       "output_type": "stream",
       "stream": "stdout",
       "text": [
        "10\n",
        "(266, 759) \n",
        "\n",
        "4988819"
       ]
      },
      {
       "output_type": "stream",
       "stream": "stdout",
       "text": [
        " 2 2 age :  "
       ]
      },
      {
       "output_type": "stream",
       "stream": "stdout",
       "text": [
        "40\n",
        "(267, 759) \n",
        "\n",
        "1893088"
       ]
      },
      {
       "output_type": "stream",
       "stream": "stdout",
       "text": [
        " 2 2 age :  "
       ]
      },
      {
       "output_type": "stream",
       "stream": "stdout",
       "text": [
        "10\n",
        "(268, 759) \n",
        "\n",
        "4981266"
       ]
      },
      {
       "output_type": "stream",
       "stream": "stdout",
       "text": [
        " 1 2 age :  "
       ]
      },
      {
       "output_type": "stream",
       "stream": "stdout",
       "text": [
        "10\n",
        "(268, 760) \n",
        "\n",
        "5502777"
       ]
      },
      {
       "output_type": "stream",
       "stream": "stdout",
       "text": [
        " 1 2 age :  "
       ]
      },
      {
       "output_type": "stream",
       "stream": "stdout",
       "text": [
        "20\n",
        "(268, 761) \n",
        "\n",
        "1808563"
       ]
      },
      {
       "output_type": "stream",
       "stream": "stdout",
       "text": [
        " 2 2 age :  "
       ]
      },
      {
       "output_type": "stream",
       "stream": "stdout",
       "text": [
        "20\n",
        "(269, 761) \n",
        "\n",
        "5362353"
       ]
      },
      {
       "output_type": "stream",
       "stream": "stdout",
       "text": [
        " 2 1 age :  "
       ]
      },
      {
       "output_type": "stream",
       "stream": "stdout",
       "text": [
        "20\n",
        "(269, 762) \n",
        "\n",
        "1676956"
       ]
      },
      {
       "output_type": "stream",
       "stream": "stdout",
       "text": [
        " 2 1 age :  "
       ]
      },
      {
       "output_type": "stream",
       "stream": "stdout",
       "text": [
        "20\n",
        "(269, 763) \n",
        "\n",
        "4555321"
       ]
      },
      {
       "output_type": "stream",
       "stream": "stdout",
       "text": [
        " 1 2 age :  "
       ]
      },
      {
       "output_type": "stream",
       "stream": "stdout",
       "text": [
        "10\n",
        "(269, 764) \n",
        "\n",
        "4647880"
       ]
      },
      {
       "output_type": "stream",
       "stream": "stdout",
       "text": [
        " 1 2 age :  "
       ]
      },
      {
       "output_type": "stream",
       "stream": "stdout",
       "text": [
        "10\n",
        "(269, 765) \n",
        "\n",
        "1809517"
       ]
      },
      {
       "output_type": "stream",
       "stream": "stdout",
       "text": [
        " 1 2 age :  "
       ]
      },
      {
       "output_type": "stream",
       "stream": "stdout",
       "text": [
        "10\n",
        "(269, 766) \n",
        "\n",
        "1830336"
       ]
      },
      {
       "output_type": "stream",
       "stream": "stdout",
       "text": [
        " 1 2 age :  "
       ]
      },
      {
       "output_type": "stream",
       "stream": "stdout",
       "text": [
        "20\n",
        "(269, 767) \n",
        "\n",
        "3440371"
       ]
      },
      {
       "output_type": "stream",
       "stream": "stdout",
       "text": [
        " 1 2 age :  "
       ]
      },
      {
       "output_type": "stream",
       "stream": "stdout",
       "text": [
        "18\n",
        "(269, 768) \n",
        "\n",
        "2896942"
       ]
      },
      {
       "output_type": "stream",
       "stream": "stdout",
       "text": [
        " 2 1 age :  "
       ]
      },
      {
       "output_type": "stream",
       "stream": "stdout",
       "text": [
        "10\n",
        "(269, 769) \n",
        "\n",
        "1443710"
       ]
      },
      {
       "output_type": "stream",
       "stream": "stdout",
       "text": [
        " 1 2 age :  "
       ]
      },
      {
       "output_type": "stream",
       "stream": "stdout",
       "text": [
        "20\n",
        "(269, 770) \n",
        "\n",
        "2100720"
       ]
      },
      {
       "output_type": "stream",
       "stream": "stdout",
       "text": [
        " 2 2 age :  "
       ]
      },
      {
       "output_type": "stream",
       "stream": "stdout",
       "text": [
        "20\n",
        "(270, 770) \n",
        "\n",
        "2306395"
       ]
      },
      {
       "output_type": "stream",
       "stream": "stdout",
       "text": [
        " 2 1 age :  "
       ]
      },
      {
       "output_type": "stream",
       "stream": "stdout",
       "text": [
        "10\n",
        "(270, 771) \n",
        "\n",
        "1671318"
       ]
      },
      {
       "output_type": "stream",
       "stream": "stdout",
       "text": [
        " 1 2 age :  "
       ]
      },
      {
       "output_type": "stream",
       "stream": "stdout",
       "text": [
        "10\n",
        "(270, 772) \n",
        "\n",
        "4597169"
       ]
      },
      {
       "output_type": "stream",
       "stream": "stdout",
       "text": [
        " 2 2 age :  "
       ]
      },
      {
       "output_type": "stream",
       "stream": "stdout",
       "text": [
        "25\n",
        "(271, 772) \n",
        "\n",
        "3790402"
       ]
      },
      {
       "output_type": "stream",
       "stream": "stdout",
       "text": [
        " 2 2 age :  "
       ]
      },
      {
       "output_type": "stream",
       "stream": "stdout",
       "text": [
        "20\n",
        "(272, 772) \n",
        "\n",
        "1742660"
       ]
      },
      {
       "output_type": "stream",
       "stream": "stdout",
       "text": [
        " 1 2 age :  "
       ]
      },
      {
       "output_type": "stream",
       "stream": "stdout",
       "text": [
        "10\n",
        "(272, 773) \n",
        "\n",
        "2179064"
       ]
      },
      {
       "output_type": "stream",
       "stream": "stdout",
       "text": [
        " 1 2 age :  "
       ]
      },
      {
       "output_type": "stream",
       "stream": "stdout",
       "text": [
        "20\n",
        "(272, 774) \n",
        "\n",
        "2310161"
       ]
      },
      {
       "output_type": "stream",
       "stream": "stdout",
       "text": [
        " 2 1 age :  "
       ]
      },
      {
       "output_type": "stream",
       "stream": "stdout",
       "text": [
        "42\n",
        "(272, 775) \n",
        "\n",
        "2338517"
       ]
      },
      {
       "output_type": "stream",
       "stream": "stdout",
       "text": [
        " 2 1 age :  "
       ]
      },
      {
       "output_type": "stream",
       "stream": "stdout",
       "text": [
        "30\n",
        "(272, 776) \n",
        "\n",
        "3530585"
       ]
      },
      {
       "output_type": "stream",
       "stream": "stdout",
       "text": [
        " 1 2 age :  "
       ]
      },
      {
       "output_type": "stream",
       "stream": "stdout",
       "text": [
        "22\n",
        "(272, 777) \n",
        "\n",
        "1931351"
       ]
      },
      {
       "output_type": "stream",
       "stream": "stdout",
       "text": [
        " 2 2 age :  "
       ]
      },
      {
       "output_type": "stream",
       "stream": "stdout",
       "text": [
        "10\n",
        "(273, 777) \n",
        "\n",
        "2703236"
       ]
      },
      {
       "output_type": "stream",
       "stream": "stdout",
       "text": [
        " 1 2 age :  "
       ]
      },
      {
       "output_type": "stream",
       "stream": "stdout",
       "text": [
        "10\n",
        "(273, 778) \n",
        "\n",
        "2810699"
       ]
      },
      {
       "output_type": "stream",
       "stream": "stdout",
       "text": [
        " 2 1 age :  "
       ]
      },
      {
       "output_type": "stream",
       "stream": "stdout",
       "text": [
        "10\n",
        "(273, 779) \n",
        "\n",
        "2980189"
       ]
      },
      {
       "output_type": "stream",
       "stream": "stdout",
       "text": [
        " 2 2 age :  "
       ]
      },
      {
       "output_type": "stream",
       "stream": "stdout",
       "text": [
        "20\n",
        "(274, 779) \n",
        "\n",
        "2007377"
       ]
      },
      {
       "output_type": "stream",
       "stream": "stdout",
       "text": [
        " 1 2 age :  "
       ]
      },
      {
       "output_type": "stream",
       "stream": "stdout",
       "text": [
        "10\n",
        "(274, 780) \n",
        "\n",
        "2385625"
       ]
      },
      {
       "output_type": "stream",
       "stream": "stdout",
       "text": [
        " 1 2 age :  "
       ]
      },
      {
       "output_type": "stream",
       "stream": "stdout",
       "text": [
        "10\n",
        "(274, 781) \n",
        "\n",
        "2382705"
       ]
      },
      {
       "output_type": "stream",
       "stream": "stdout",
       "text": [
        " 1 2 age :  "
       ]
      },
      {
       "output_type": "stream",
       "stream": "stdout",
       "text": [
        "20\n",
        "(274, 782) \n",
        "\n",
        "3040258"
       ]
      },
      {
       "output_type": "stream",
       "stream": "stdout",
       "text": [
        " 1 2 age :  "
       ]
      },
      {
       "output_type": "stream",
       "stream": "stdout",
       "text": [
        "20\n",
        "(274, 783) \n",
        "\n",
        "1786280"
       ]
      },
      {
       "output_type": "stream",
       "stream": "stdout",
       "text": [
        " 2 2 age :  "
       ]
      },
      {
       "output_type": "stream",
       "stream": "stdout",
       "text": [
        "10\n",
        "(275, 783) \n",
        "\n",
        "1271479"
       ]
      },
      {
       "output_type": "stream",
       "stream": "stdout",
       "text": [
        " 2 2 age :  "
       ]
      },
      {
       "output_type": "stream",
       "stream": "stdout",
       "text": [
        "10\n",
        "(276, 783) \n",
        "\n",
        "1606139"
       ]
      },
      {
       "output_type": "stream",
       "stream": "stdout",
       "text": [
        " 2 1 age :  "
       ]
      },
      {
       "output_type": "stream",
       "stream": "stdout",
       "text": [
        "22\n",
        "(276, 784) \n",
        "\n",
        "4659632"
       ]
      },
      {
       "output_type": "stream",
       "stream": "stdout",
       "text": [
        " 1 2 age :  "
       ]
      },
      {
       "output_type": "stream",
       "stream": "stdout",
       "text": [
        "20\n",
        "(276, 785) \n",
        "\n",
        "1792014"
       ]
      },
      {
       "output_type": "stream",
       "stream": "stdout",
       "text": [
        " 1 2 age :  "
       ]
      },
      {
       "output_type": "stream",
       "stream": "stdout",
       "text": [
        "10\n",
        "(276, 786) \n",
        "\n",
        "1757129"
       ]
      },
      {
       "output_type": "stream",
       "stream": "stdout",
       "text": [
        " 2 1 age :  "
       ]
      },
      {
       "output_type": "stream",
       "stream": "stdout",
       "text": [
        "10\n",
        "(276, 787) \n",
        "\n",
        "1595074"
       ]
      },
      {
       "output_type": "stream",
       "stream": "stdout",
       "text": [
        " 1 2 age :  "
       ]
      },
      {
       "output_type": "stream",
       "stream": "stdout",
       "text": [
        "40\n",
        "(276, 788) \n",
        "\n",
        "4818006"
       ]
      },
      {
       "output_type": "stream",
       "stream": "stdout",
       "text": [
        " 2 1 age :  "
       ]
      },
      {
       "output_type": "stream",
       "stream": "stdout",
       "text": [
        "30\n",
        "(276, 789) \n",
        "\n",
        "1945555"
       ]
      },
      {
       "output_type": "stream",
       "stream": "stdout",
       "text": [
        " 2 1 age :  "
       ]
      },
      {
       "output_type": "stream",
       "stream": "stdout",
       "text": [
        "18\n",
        "(276, 790) \n",
        "\n",
        "4593118"
       ]
      },
      {
       "output_type": "stream",
       "stream": "stdout",
       "text": [
        " 2 2 age :  "
       ]
      },
      {
       "output_type": "stream",
       "stream": "stdout",
       "text": [
        "30\n",
        "(277, 790) \n",
        "\n",
        "2008119"
       ]
      },
      {
       "output_type": "stream",
       "stream": "stdout",
       "text": [
        " 1 2 age :  "
       ]
      },
      {
       "output_type": "stream",
       "stream": "stdout",
       "text": [
        "10\n",
        "(277, 791) \n",
        "\n",
        "4856649"
       ]
      },
      {
       "output_type": "stream",
       "stream": "stdout",
       "text": [
        " 2 2 age :  "
       ]
      },
      {
       "output_type": "stream",
       "stream": "stdout",
       "text": [
        "30\n",
        "(278, 791) \n",
        "\n",
        "1126972"
       ]
      },
      {
       "output_type": "stream",
       "stream": "stdout",
       "text": [
        " 2 2 age :  "
       ]
      },
      {
       "output_type": "stream",
       "stream": "stdout",
       "text": [
        "10\n",
        "(279, 791) \n",
        "\n",
        "2267924"
       ]
      },
      {
       "output_type": "stream",
       "stream": "stdout",
       "text": [
        " 1 2 age :  "
       ]
      },
      {
       "output_type": "stream",
       "stream": "stdout",
       "text": [
        "10\n",
        "(279, 792) \n",
        "\n",
        "1965319"
       ]
      },
      {
       "output_type": "stream",
       "stream": "stdout",
       "text": [
        " 2 2 age :  "
       ]
      },
      {
       "output_type": "stream",
       "stream": "stdout",
       "text": [
        "39\n",
        "(280, 792) \n",
        "\n",
        "3717729"
       ]
      },
      {
       "output_type": "stream",
       "stream": "stdout",
       "text": [
        " 1 2 age :  "
       ]
      },
      {
       "output_type": "stream",
       "stream": "stdout",
       "text": [
        "20\n",
        "(280, 793) \n",
        "\n",
        "1946638"
       ]
      },
      {
       "output_type": "stream",
       "stream": "stdout",
       "text": [
        " 1 2 age :  "
       ]
      },
      {
       "output_type": "stream",
       "stream": "stdout",
       "text": [
        "20\n",
        "(280, 794) \n",
        "\n",
        "925132"
       ]
      },
      {
       "output_type": "stream",
       "stream": "stdout",
       "text": [
        " 1 2 age :  "
       ]
      },
      {
       "output_type": "stream",
       "stream": "stdout",
       "text": [
        "40\n",
        "(280, 795) \n",
        "\n",
        "3448531"
       ]
      },
      {
       "output_type": "stream",
       "stream": "stdout",
       "text": [
        " 1 2 age :  "
       ]
      },
      {
       "output_type": "stream",
       "stream": "stdout",
       "text": [
        "25\n",
        "(280, 796) \n",
        "\n",
        "3953483"
       ]
      },
      {
       "output_type": "stream",
       "stream": "stdout",
       "text": [
        " 1 2 age :  "
       ]
      },
      {
       "output_type": "stream",
       "stream": "stdout",
       "text": [
        "10\n",
        "(280, 797) \n",
        "\n",
        "1582268"
       ]
      },
      {
       "output_type": "stream",
       "stream": "stdout",
       "text": [
        " 2 2 age :  "
       ]
      },
      {
       "output_type": "stream",
       "stream": "stdout",
       "text": [
        "20\n",
        "(281, 797) \n",
        "\n",
        "3039306"
       ]
      },
      {
       "output_type": "stream",
       "stream": "stdout",
       "text": [
        " 2 2 age :  "
       ]
      },
      {
       "output_type": "stream",
       "stream": "stdout",
       "text": [
        "18\n",
        "(282, 797) \n",
        "\n",
        "1030957"
       ]
      },
      {
       "output_type": "stream",
       "stream": "stdout",
       "text": [
        " 2 1 age :  "
       ]
      },
      {
       "output_type": "stream",
       "stream": "stdout",
       "text": [
        "10\n",
        "(282, 798) \n",
        "\n",
        "2961971"
       ]
      },
      {
       "output_type": "stream",
       "stream": "stdout",
       "text": [
        " 1 2 age :  "
       ]
      },
      {
       "output_type": "stream",
       "stream": "stdout",
       "text": [
        "20\n",
        "(282, 799) \n",
        "\n",
        "1737192"
       ]
      },
      {
       "output_type": "stream",
       "stream": "stdout",
       "text": [
        " 2 2 age :  "
       ]
      },
      {
       "output_type": "stream",
       "stream": "stdout",
       "text": [
        "20\n",
        "(283, 799) \n",
        "\n",
        "1791093"
       ]
      },
      {
       "output_type": "stream",
       "stream": "stdout",
       "text": [
        " 1 2 age :  "
       ]
      },
      {
       "output_type": "stream",
       "stream": "stdout",
       "text": [
        "10\n",
        "(283, 800) \n",
        "\n",
        "2224733"
       ]
      },
      {
       "output_type": "stream",
       "stream": "stdout",
       "text": [
        " 2 2 age :  "
       ]
      },
      {
       "output_type": "stream",
       "stream": "stdout",
       "text": [
        "20\n",
        "(284, 800) \n",
        "\n",
        "4524674"
       ]
      },
      {
       "output_type": "stream",
       "stream": "stdout",
       "text": [
        " 2 2 age :  "
       ]
      },
      {
       "output_type": "stream",
       "stream": "stdout",
       "text": [
        "20\n",
        "(285, 800) \n",
        "\n",
        "3171283"
       ]
      },
      {
       "output_type": "stream",
       "stream": "stdout",
       "text": [
        " 2 1 age :  "
       ]
      },
      {
       "output_type": "stream",
       "stream": "stdout",
       "text": [
        "10\n",
        "(285, 801) \n",
        "\n",
        "1663674"
       ]
      },
      {
       "output_type": "stream",
       "stream": "stdout",
       "text": [
        " 1 2 age :  "
       ]
      },
      {
       "output_type": "stream",
       "stream": "stdout",
       "text": [
        "20\n",
        "(285, 802) \n",
        "\n",
        "3017537"
       ]
      },
      {
       "output_type": "stream",
       "stream": "stdout",
       "text": [
        " 1 2 age :  "
       ]
      },
      {
       "output_type": "stream",
       "stream": "stdout",
       "text": [
        "40\n",
        "(285, 803) \n",
        "\n",
        "3763434"
       ]
      },
      {
       "output_type": "stream",
       "stream": "stdout",
       "text": [
        " 1 2 age :  "
       ]
      },
      {
       "output_type": "stream",
       "stream": "stdout",
       "text": [
        "10\n",
        "(285, 804) \n",
        "\n",
        "2718694"
       ]
      },
      {
       "output_type": "stream",
       "stream": "stdout",
       "text": [
        " 1 2 age :  "
       ]
      },
      {
       "output_type": "stream",
       "stream": "stdout",
       "text": [
        "10\n",
        "(285, 805) \n",
        "\n",
        "3960897"
       ]
      },
      {
       "output_type": "stream",
       "stream": "stdout",
       "text": [
        " 1 2 age :  "
       ]
      },
      {
       "output_type": "stream",
       "stream": "stdout",
       "text": [
        "10\n",
        "(285, 806) \n",
        "\n",
        "4854157"
       ]
      },
      {
       "output_type": "stream",
       "stream": "stdout",
       "text": [
        " 2 1 age :  "
       ]
      },
      {
       "output_type": "stream",
       "stream": "stdout",
       "text": [
        "20\n",
        "(285, 807) \n",
        "\n",
        "4753857"
       ]
      },
      {
       "output_type": "stream",
       "stream": "stdout",
       "text": [
        " 1 1 age :  "
       ]
      },
      {
       "output_type": "stream",
       "stream": "stdout",
       "text": [
        "10\n",
        "(286, 807) \n",
        "\n",
        "1955111"
       ]
      },
      {
       "output_type": "stream",
       "stream": "stdout",
       "text": [
        " 2 1 age :  "
       ]
      },
      {
       "output_type": "stream",
       "stream": "stdout",
       "text": [
        "25\n",
        "(286, 808) \n",
        "\n",
        "4129635"
       ]
      },
      {
       "output_type": "stream",
       "stream": "stdout",
       "text": [
        " 1 2 age :  "
       ]
      },
      {
       "output_type": "stream",
       "stream": "stdout",
       "text": [
        "20\n",
        "(286, 809) \n",
        "\n",
        "1757370"
       ]
      },
      {
       "output_type": "stream",
       "stream": "stdout",
       "text": [
        " 1 2 age :  "
       ]
      },
      {
       "output_type": "stream",
       "stream": "stdout",
       "text": [
        "10\n",
        "(286, 810) \n",
        "\n",
        "3189859"
       ]
      },
      {
       "output_type": "stream",
       "stream": "stdout",
       "text": [
        " 1 2 age :  "
       ]
      },
      {
       "output_type": "stream",
       "stream": "stdout",
       "text": [
        "30\n",
        "(286, 811) \n",
        "\n",
        "2002944"
       ]
      },
      {
       "output_type": "stream",
       "stream": "stdout",
       "text": [
        " 2 2 age :  "
       ]
      },
      {
       "output_type": "stream",
       "stream": "stdout",
       "text": [
        "10\n",
        "(287, 811) \n",
        "\n",
        "3187642"
       ]
      },
      {
       "output_type": "stream",
       "stream": "stdout",
       "text": [
        " 1 2 age :  "
       ]
      },
      {
       "output_type": "stream",
       "stream": "stdout",
       "text": [
        "20\n",
        "(287, 812) \n",
        "\n",
        "3487530"
       ]
      },
      {
       "output_type": "stream",
       "stream": "stdout",
       "text": [
        " 1 2 age :  "
       ]
      },
      {
       "output_type": "stream",
       "stream": "stdout",
       "text": [
        "20\n",
        "(287, 813) \n",
        "\n",
        "2211442"
       ]
      },
      {
       "output_type": "stream",
       "stream": "stdout",
       "text": [
        " 1 2 age :  "
       ]
      },
      {
       "output_type": "stream",
       "stream": "stdout",
       "text": [
        "10\n",
        "(287, 814) \n",
        "\n",
        "5610793"
       ]
      },
      {
       "output_type": "stream",
       "stream": "stdout",
       "text": [
        " 1 2 age :  "
       ]
      },
      {
       "output_type": "stream",
       "stream": "stdout",
       "text": [
        "10\n",
        "(287, 815) \n",
        "\n",
        "3784004"
       ]
      },
      {
       "output_type": "stream",
       "stream": "stdout",
       "text": [
        " 1 2 age :  "
       ]
      },
      {
       "output_type": "stream",
       "stream": "stdout",
       "text": [
        "10\n",
        "(287, 816) \n",
        "\n",
        "4319798"
       ]
      },
      {
       "output_type": "stream",
       "stream": "stdout",
       "text": [
        " 2 2 age :  "
       ]
      },
      {
       "output_type": "stream",
       "stream": "stdout",
       "text": [
        "20\n",
        "(288, 816) \n",
        "\n",
        "2926302"
       ]
      },
      {
       "output_type": "stream",
       "stream": "stdout",
       "text": [
        " 1 2 age :  "
       ]
      },
      {
       "output_type": "stream",
       "stream": "stdout",
       "text": [
        "10\n",
        "(288, 817) \n",
        "\n",
        "3199870"
       ]
      },
      {
       "output_type": "stream",
       "stream": "stdout",
       "text": [
        " 1 2 age :  "
       ]
      },
      {
       "output_type": "stream",
       "stream": "stdout",
       "text": [
        "10\n",
        "(288, 818) \n",
        "\n",
        "3895622"
       ]
      },
      {
       "output_type": "stream",
       "stream": "stdout",
       "text": [
        " 1 2 age :  "
       ]
      },
      {
       "output_type": "stream",
       "stream": "stdout",
       "text": [
        "20\n",
        "(288, 819) \n",
        "\n",
        "1816040"
       ]
      },
      {
       "output_type": "stream",
       "stream": "stdout",
       "text": [
        " 2 1 age :  "
       ]
      },
      {
       "output_type": "stream",
       "stream": "stdout",
       "text": [
        "10\n",
        "(288, 820) \n",
        "\n",
        "3487074"
       ]
      },
      {
       "output_type": "stream",
       "stream": "stdout",
       "text": [
        " 2 2 age :  "
       ]
      },
      {
       "output_type": "stream",
       "stream": "stdout",
       "text": [
        "15\n",
        "(289, 820) \n",
        "\n",
        "2028071"
       ]
      },
      {
       "output_type": "stream",
       "stream": "stdout",
       "text": [
        " 1 2 age :  "
       ]
      },
      {
       "output_type": "stream",
       "stream": "stdout",
       "text": [
        "30\n",
        "(289, 821) \n",
        "\n",
        "3487613"
       ]
      },
      {
       "output_type": "stream",
       "stream": "stdout",
       "text": [
        " 1 2 age :  "
       ]
      },
      {
       "output_type": "stream",
       "stream": "stdout",
       "text": [
        "10\n",
        "(289, 822) \n",
        "\n",
        "1055338"
       ]
      },
      {
       "output_type": "stream",
       "stream": "stdout",
       "text": [
        " 2 1 age :  "
       ]
      },
      {
       "output_type": "stream",
       "stream": "stdout",
       "text": [
        "18\n",
        "(289, 823) \n",
        "\n",
        "3849646"
       ]
      },
      {
       "output_type": "stream",
       "stream": "stdout",
       "text": [
        " 1 2 age :  "
       ]
      },
      {
       "output_type": "stream",
       "stream": "stdout",
       "text": [
        "20\n",
        "(289, 824) \n",
        "\n",
        "2038549"
       ]
      },
      {
       "output_type": "stream",
       "stream": "stdout",
       "text": [
        " 2 1 age :  "
       ]
      },
      {
       "output_type": "stream",
       "stream": "stdout",
       "text": [
        "20\n",
        "(289, 825) \n",
        "\n",
        "1815412"
       ]
      },
      {
       "output_type": "stream",
       "stream": "stdout",
       "text": [
        " 1 1 age :  "
       ]
      },
      {
       "output_type": "stream",
       "stream": "stdout",
       "text": [
        "10\n",
        "(290, 825) \n",
        "\n",
        "3213572"
       ]
      },
      {
       "output_type": "stream",
       "stream": "stdout",
       "text": [
        " 1 2 age :  "
       ]
      },
      {
       "output_type": "stream",
       "stream": "stdout",
       "text": [
        "10\n",
        "(290, 826) \n",
        "\n",
        "4933500"
       ]
      },
      {
       "output_type": "stream",
       "stream": "stdout",
       "text": [
        " 2 2 age :  "
       ]
      },
      {
       "output_type": "stream",
       "stream": "stdout",
       "text": [
        "20\n",
        "(291, 826) \n",
        "\n",
        "2082881"
       ]
      },
      {
       "output_type": "stream",
       "stream": "stdout",
       "text": [
        " 1 1 age :  "
       ]
      },
      {
       "output_type": "stream",
       "stream": "stdout",
       "text": [
        "10\n",
        "(292, 826) \n",
        "\n",
        "3203000"
       ]
      },
      {
       "output_type": "stream",
       "stream": "stdout",
       "text": [
        " 1 2 age :  "
       ]
      },
      {
       "output_type": "stream",
       "stream": "stdout",
       "text": [
        "50\n",
        "(292, 827) \n",
        "\n",
        "3812950"
       ]
      },
      {
       "output_type": "stream",
       "stream": "stdout",
       "text": [
        " 2 1 age :  "
       ]
      },
      {
       "output_type": "stream",
       "stream": "stdout",
       "text": [
        "10\n",
        "(292, 828) \n",
        "\n",
        "2906736"
       ]
      },
      {
       "output_type": "stream",
       "stream": "stdout",
       "text": [
        " 1 2 age :  "
       ]
      },
      {
       "output_type": "stream",
       "stream": "stdout",
       "text": [
        "10\n",
        "(292, 829) \n",
        "\n",
        "4158337"
       ]
      },
      {
       "output_type": "stream",
       "stream": "stdout",
       "text": [
        " 1 2 age :  "
       ]
      },
      {
       "output_type": "stream",
       "stream": "stdout",
       "text": [
        "10\n",
        "(292, 830) \n",
        "\n",
        "3565309"
       ]
      },
      {
       "output_type": "stream",
       "stream": "stdout",
       "text": [
        " 1 2 age :  "
       ]
      },
      {
       "output_type": "stream",
       "stream": "stdout",
       "text": [
        "10\n",
        "(292, 831) \n",
        "\n",
        "1871473"
       ]
      },
      {
       "output_type": "stream",
       "stream": "stdout",
       "text": [
        " 1 2 age :  "
       ]
      },
      {
       "output_type": "stream",
       "stream": "stdout",
       "text": [
        "10\n",
        "(292, 832) \n",
        "\n",
        "1165296"
       ]
      },
      {
       "output_type": "stream",
       "stream": "stdout",
       "text": [
        " 1 2 age :  "
       ]
      },
      {
       "output_type": "stream",
       "stream": "stdout",
       "text": [
        "25\n",
        "(292, 833) \n",
        "\n",
        "2068330"
       ]
      },
      {
       "output_type": "stream",
       "stream": "stdout",
       "text": [
        " 1 2 age :  "
       ]
      },
      {
       "output_type": "stream",
       "stream": "stdout",
       "text": [
        "10\n",
        "(292, 834) \n",
        "\n",
        "4959745"
       ]
      },
      {
       "output_type": "stream",
       "stream": "stdout",
       "text": [
        " 1 2 age :  "
       ]
      },
      {
       "output_type": "stream",
       "stream": "stdout",
       "text": [
        "12\n",
        "(292, 835) \n",
        "\n",
        "4596886"
       ]
      },
      {
       "output_type": "stream",
       "stream": "stdout",
       "text": [
        " 2 1 age :  "
       ]
      },
      {
       "output_type": "stream",
       "stream": "stdout",
       "text": [
        "28\n",
        "(292, 836) \n",
        "\n",
        "2115078"
       ]
      },
      {
       "output_type": "stream",
       "stream": "stdout",
       "text": [
        " 2 1 age :  "
       ]
      },
      {
       "output_type": "stream",
       "stream": "stdout",
       "text": [
        "10\n",
        "(292, 837) \n",
        "\n",
        "3735218"
       ]
      },
      {
       "output_type": "stream",
       "stream": "stdout",
       "text": [
        " 1 2 age :  "
       ]
      },
      {
       "output_type": "stream",
       "stream": "stdout",
       "text": [
        "10\n",
        "(292, 838) \n",
        "\n",
        "1995379"
       ]
      },
      {
       "output_type": "stream",
       "stream": "stdout",
       "text": [
        " 1 2 age :  "
       ]
      },
      {
       "output_type": "stream",
       "stream": "stdout",
       "text": [
        "20\n",
        "(292, 839) \n",
        "\n",
        "1855530"
       ]
      },
      {
       "output_type": "stream",
       "stream": "stdout",
       "text": [
        " 1 2 age :  "
       ]
      },
      {
       "output_type": "stream",
       "stream": "stdout",
       "text": [
        "20\n",
        "(292, 840) \n",
        "\n",
        "1660706"
       ]
      },
      {
       "output_type": "stream",
       "stream": "stdout",
       "text": [
        " 2 2 age :  "
       ]
      },
      {
       "output_type": "stream",
       "stream": "stdout",
       "text": [
        "28\n",
        "(293, 840) \n",
        "\n",
        "3504379"
       ]
      },
      {
       "output_type": "stream",
       "stream": "stdout",
       "text": [
        " 1 2 age :  "
       ]
      },
      {
       "output_type": "stream",
       "stream": "stdout",
       "text": [
        "15\n",
        "(293, 841) \n",
        "\n",
        "5274061"
       ]
      },
      {
       "output_type": "stream",
       "stream": "stdout",
       "text": [
        " 1 2 age :  "
       ]
      },
      {
       "output_type": "stream",
       "stream": "stdout",
       "text": [
        "10\n",
        "(293, 842) \n",
        "\n",
        "1848395"
       ]
      },
      {
       "output_type": "stream",
       "stream": "stdout",
       "text": [
        " 1 2 age :  "
       ]
      },
      {
       "output_type": "stream",
       "stream": "stdout",
       "text": [
        "10\n",
        "(293, 843) \n",
        "\n",
        "4491084"
       ]
      },
      {
       "output_type": "stream",
       "stream": "stdout",
       "text": [
        " 1 2 age :  "
       ]
      },
      {
       "output_type": "stream",
       "stream": "stdout",
       "text": [
        "10\n",
        "(293, 844) \n",
        "\n",
        "3828131"
       ]
      },
      {
       "output_type": "stream",
       "stream": "stdout",
       "text": [
        " 2 2 age :  "
       ]
      },
      {
       "output_type": "stream",
       "stream": "stdout",
       "text": [
        "10\n",
        "(294, 844) \n",
        "\n",
        "4829119"
       ]
      },
      {
       "output_type": "stream",
       "stream": "stdout",
       "text": [
        " 1 2 age :  "
       ]
      },
      {
       "output_type": "stream",
       "stream": "stdout",
       "text": [
        "10\n",
        "(294, 845) \n",
        "\n",
        "3421794"
       ]
      },
      {
       "output_type": "stream",
       "stream": "stdout",
       "text": [
        " 1 2 age :  "
       ]
      },
      {
       "output_type": "stream",
       "stream": "stdout",
       "text": [
        "10\n",
        "(294, 846) \n",
        "\n",
        "1741992"
       ]
      },
      {
       "output_type": "stream",
       "stream": "stdout",
       "text": [
        " 2 1 age :  "
       ]
      },
      {
       "output_type": "stream",
       "stream": "stdout",
       "text": [
        "18\n",
        "(294, 847) \n",
        "\n",
        "1702513"
       ]
      },
      {
       "output_type": "stream",
       "stream": "stdout",
       "text": [
        " 1 1 age :  "
       ]
      },
      {
       "output_type": "stream",
       "stream": "stdout",
       "text": [
        "10\n",
        "(295, 847) \n",
        "\n",
        "2005026"
       ]
      },
      {
       "output_type": "stream",
       "stream": "stdout",
       "text": [
        " 1 2 age :  "
       ]
      },
      {
       "output_type": "stream",
       "stream": "stdout",
       "text": [
        "20\n",
        "(295, 848) \n",
        "\n",
        "1661017"
       ]
      },
      {
       "output_type": "stream",
       "stream": "stdout",
       "text": [
        " 1 2 age :  "
       ]
      },
      {
       "output_type": "stream",
       "stream": "stdout",
       "text": [
        "30\n",
        "(295, 849) \n",
        "\n",
        "3527387"
       ]
      },
      {
       "output_type": "stream",
       "stream": "stdout",
       "text": [
        " 2 2 age :  "
       ]
      },
      {
       "output_type": "stream",
       "stream": "stdout",
       "text": [
        "52\n",
        "(296, 849) \n",
        "\n",
        "3636137"
       ]
      },
      {
       "output_type": "stream",
       "stream": "stdout",
       "text": [
        " 1 2 age :  "
       ]
      },
      {
       "output_type": "stream",
       "stream": "stdout",
       "text": [
        "40\n",
        "(296, 850) \n",
        "\n",
        "5330907"
       ]
      },
      {
       "output_type": "stream",
       "stream": "stdout",
       "text": [
        " 1 1 age :  "
       ]
      },
      {
       "output_type": "stream",
       "stream": "stdout",
       "text": [
        "10\n",
        "(297, 850) \n",
        "\n",
        "3828171"
       ]
      },
      {
       "output_type": "stream",
       "stream": "stdout",
       "text": [
        " 1 2 age :  "
       ]
      },
      {
       "output_type": "stream",
       "stream": "stdout",
       "text": [
        "21\n",
        "(297, 851) \n",
        "\n",
        "3651745"
       ]
      },
      {
       "output_type": "stream",
       "stream": "stdout",
       "text": [
        " 2 2 age :  "
       ]
      },
      {
       "output_type": "stream",
       "stream": "stdout",
       "text": [
        "20\n",
        "(298, 851) \n",
        "\n",
        "4218168"
       ]
      },
      {
       "output_type": "stream",
       "stream": "stdout",
       "text": [
        " 2 1 age :  "
       ]
      },
      {
       "output_type": "stream",
       "stream": "stdout",
       "text": [
        "50\n",
        "(298, 852) \n",
        "\n",
        "2003184"
       ]
      },
      {
       "output_type": "stream",
       "stream": "stdout",
       "text": [
        " 1 2 age :  "
       ]
      },
      {
       "output_type": "stream",
       "stream": "stdout",
       "text": [
        "20\n",
        "(298, 853) \n",
        "\n",
        "1975977"
       ]
      },
      {
       "output_type": "stream",
       "stream": "stdout",
       "text": [
        " 2 1 age :  "
       ]
      },
      {
       "output_type": "stream",
       "stream": "stdout",
       "text": [
        "20\n",
        "(298, 854) \n",
        "\n",
        "1860488"
       ]
      },
      {
       "output_type": "stream",
       "stream": "stdout",
       "text": [
        " 1 2 age :  "
       ]
      },
      {
       "output_type": "stream",
       "stream": "stdout",
       "text": [
        "20\n",
        "(298, 855) \n",
        "\n",
        "1521704"
       ]
      },
      {
       "output_type": "stream",
       "stream": "stdout",
       "text": [
        " 2 1 age :  "
       ]
      },
      {
       "output_type": "stream",
       "stream": "stdout",
       "text": [
        "20\n",
        "(298, 856) \n",
        "\n",
        "4641554"
       ]
      },
      {
       "output_type": "stream",
       "stream": "stdout",
       "text": [
        " 2 1 age :  "
       ]
      },
      {
       "output_type": "stream",
       "stream": "stdout",
       "text": [
        "10\n",
        "(298, 857) \n",
        "\n",
        "1758115"
       ]
      },
      {
       "output_type": "stream",
       "stream": "stdout",
       "text": [
        " 2 1 age :  "
       ]
      },
      {
       "output_type": "stream",
       "stream": "stdout",
       "text": [
        "10\n",
        "(298, 858) \n",
        "\n",
        "2280128"
       ]
      },
      {
       "output_type": "stream",
       "stream": "stdout",
       "text": [
        " 1 2 age :  "
       ]
      },
      {
       "output_type": "stream",
       "stream": "stdout",
       "text": [
        "10\n",
        "(298, 859) \n",
        "\n",
        "2031594"
       ]
      },
      {
       "output_type": "stream",
       "stream": "stdout",
       "text": [
        " 2 2 age :  "
       ]
      },
      {
       "output_type": "stream",
       "stream": "stdout",
       "text": [
        "22\n",
        "(299, 859) \n",
        "\n",
        "3562932"
       ]
      },
      {
       "output_type": "stream",
       "stream": "stdout",
       "text": [
        " 1 2 age :  "
       ]
      },
      {
       "output_type": "stream",
       "stream": "stdout",
       "text": [
        "20\n",
        "(299, 860) \n",
        "\n",
        "1946665"
       ]
      },
      {
       "output_type": "stream",
       "stream": "stdout",
       "text": [
        " 1 2 age :  "
       ]
      },
      {
       "output_type": "stream",
       "stream": "stdout",
       "text": [
        "10\n",
        "(299, 861) \n",
        "\n",
        "1772135"
       ]
      },
      {
       "output_type": "stream",
       "stream": "stdout",
       "text": [
        " 1 2 age :  "
       ]
      },
      {
       "output_type": "stream",
       "stream": "stdout",
       "text": [
        "50\n",
        "(299, 862) \n",
        "\n",
        "4874723"
       ]
      },
      {
       "output_type": "stream",
       "stream": "stdout",
       "text": [
        " 2 2 age :  "
       ]
      },
      {
       "output_type": "stream",
       "stream": "stdout",
       "text": [
        "20\n",
        "(300, 862) \n",
        "\n",
        "5211538"
       ]
      },
      {
       "output_type": "stream",
       "stream": "stdout",
       "text": [
        " 2 1 age :  "
       ]
      },
      {
       "output_type": "stream",
       "stream": "stdout",
       "text": [
        "18\n",
        "(300, 863) \n",
        "\n",
        "5652558"
       ]
      },
      {
       "output_type": "stream",
       "stream": "stdout",
       "text": [
        " 2 2 age :  "
       ]
      },
      {
       "output_type": "stream",
       "stream": "stdout",
       "text": [
        "10\n",
        "(301, 863) \n",
        "\n",
        "3016249"
       ]
      },
      {
       "output_type": "stream",
       "stream": "stdout",
       "text": [
        " 2 1 age :  "
       ]
      },
      {
       "output_type": "stream",
       "stream": "stdout",
       "text": [
        "10\n",
        "(301, 864) \n",
        "\n",
        "2087670"
       ]
      },
      {
       "output_type": "stream",
       "stream": "stdout",
       "text": [
        " 1 2 age :  "
       ]
      },
      {
       "output_type": "stream",
       "stream": "stdout",
       "text": [
        "10\n",
        "(301, 865) \n",
        "\n",
        "2203023"
       ]
      },
      {
       "output_type": "stream",
       "stream": "stdout",
       "text": [
        " 2 1 age :  "
       ]
      },
      {
       "output_type": "stream",
       "stream": "stdout",
       "text": [
        "20\n",
        "(301, 866) \n",
        "\n",
        "1882142"
       ]
      },
      {
       "output_type": "stream",
       "stream": "stdout",
       "text": [
        " 1 2 age :  "
       ]
      },
      {
       "output_type": "stream",
       "stream": "stdout",
       "text": [
        "10\n",
        "(301, 867) \n",
        "\n",
        "1791033"
       ]
      },
      {
       "output_type": "stream",
       "stream": "stdout",
       "text": [
        " 1 2 age :  "
       ]
      },
      {
       "output_type": "stream",
       "stream": "stdout",
       "text": [
        "10\n",
        "(301, 868) \n",
        "\n",
        "4819609"
       ]
      },
      {
       "output_type": "stream",
       "stream": "stdout",
       "text": [
        " 1 2 age :  "
       ]
      },
      {
       "output_type": "stream",
       "stream": "stdout",
       "text": [
        "10\n",
        "(301, 869) \n",
        "\n",
        "3954325"
       ]
      },
      {
       "output_type": "stream",
       "stream": "stdout",
       "text": [
        " 1 2 age :  "
       ]
      },
      {
       "output_type": "stream",
       "stream": "stdout",
       "text": [
        "10\n",
        "(301, 870) \n",
        "\n",
        "5558289"
       ]
      },
      {
       "output_type": "stream",
       "stream": "stdout",
       "text": [
        " 1 2 age :  "
       ]
      },
      {
       "output_type": "stream",
       "stream": "stdout",
       "text": [
        "10\n",
        "(301, 871) \n",
        "\n",
        "4478401"
       ]
      },
      {
       "output_type": "stream",
       "stream": "stdout",
       "text": [
        " 2 2 age :  "
       ]
      },
      {
       "output_type": "stream",
       "stream": "stdout",
       "text": [
        "38\n",
        "(302, 871) \n",
        "\n",
        "833768"
       ]
      },
      {
       "output_type": "stream",
       "stream": "stdout",
       "text": [
        " 2 1 age :  "
       ]
      },
      {
       "output_type": "stream",
       "stream": "stdout",
       "text": [
        "20\n",
        "(302, 872) \n",
        "\n",
        "1774529"
       ]
      },
      {
       "output_type": "stream",
       "stream": "stdout",
       "text": [
        " 2 2 age :  "
       ]
      },
      {
       "output_type": "stream",
       "stream": "stdout",
       "text": [
        "30\n",
        "(303, 872) \n",
        "\n",
        "5625463"
       ]
      },
      {
       "output_type": "stream",
       "stream": "stdout",
       "text": [
        " 2 1 age :  "
       ]
      },
      {
       "output_type": "stream",
       "stream": "stdout",
       "text": [
        "20\n",
        "(303, 873) \n",
        "\n",
        "1733713"
       ]
      },
      {
       "output_type": "stream",
       "stream": "stdout",
       "text": [
        " 1 2 age :  "
       ]
      },
      {
       "output_type": "stream",
       "stream": "stdout",
       "text": [
        "10\n",
        "(303, 874) \n",
        "\n",
        "3587157"
       ]
      },
      {
       "output_type": "stream",
       "stream": "stdout",
       "text": [
        " 2 2 age :  "
       ]
      },
      {
       "output_type": "stream",
       "stream": "stdout",
       "text": [
        "20\n",
        "(304, 874) \n",
        "\n",
        "1768894"
       ]
      },
      {
       "output_type": "stream",
       "stream": "stdout",
       "text": [
        " 1 2 age :  "
       ]
      },
      {
       "output_type": "stream",
       "stream": "stdout",
       "text": [
        "20\n",
        "(304, 875) \n",
        "\n",
        "1974863"
       ]
      },
      {
       "output_type": "stream",
       "stream": "stdout",
       "text": [
        " 2 1 age :  "
       ]
      },
      {
       "output_type": "stream",
       "stream": "stdout",
       "text": [
        "30\n",
        "(304, 876) \n",
        "\n",
        "1958794"
       ]
      },
      {
       "output_type": "stream",
       "stream": "stdout",
       "text": [
        " 2 2 age :  "
       ]
      },
      {
       "output_type": "stream",
       "stream": "stdout",
       "text": [
        "35\n",
        "(305, 876) \n",
        "\n",
        "5045722"
       ]
      },
      {
       "output_type": "stream",
       "stream": "stdout",
       "text": [
        " 1 2 age :  "
       ]
      },
      {
       "output_type": "stream",
       "stream": "stdout",
       "text": [
        "20\n",
        "(305, 877) \n",
        "\n",
        "4651983"
       ]
      },
      {
       "output_type": "stream",
       "stream": "stdout",
       "text": [
        " 2 2 age :  "
       ]
      },
      {
       "output_type": "stream",
       "stream": "stdout",
       "text": [
        "20\n",
        "(306, 877) \n",
        "\n",
        "4810169"
       ]
      },
      {
       "output_type": "stream",
       "stream": "stdout",
       "text": [
        " 1 2 age :  "
       ]
      },
      {
       "output_type": "stream",
       "stream": "stdout",
       "text": [
        "10\n",
        "(306, 878) \n",
        "\n",
        "1924972"
       ]
      },
      {
       "output_type": "stream",
       "stream": "stdout",
       "text": [
        " 1 2 age :  "
       ]
      },
      {
       "output_type": "stream",
       "stream": "stdout",
       "text": [
        "10\n",
        "(306, 879) \n",
        "\n",
        "3818608"
       ]
      },
      {
       "output_type": "stream",
       "stream": "stdout",
       "text": [
        " 1 2 age :  "
       ]
      },
      {
       "output_type": "stream",
       "stream": "stdout",
       "text": [
        "10\n",
        "(306, 880) \n",
        "\n",
        "2326672"
       ]
      },
      {
       "output_type": "stream",
       "stream": "stdout",
       "text": [
        " 2 2 age :  "
       ]
      },
      {
       "output_type": "stream",
       "stream": "stdout",
       "text": [
        "10\n",
        "(307, 880) \n",
        "\n",
        "4656283"
       ]
      },
      {
       "output_type": "stream",
       "stream": "stdout",
       "text": [
        " 1 2 age :  "
       ]
      },
      {
       "output_type": "stream",
       "stream": "stdout",
       "text": [
        "10\n",
        "(307, 881) \n",
        "\n",
        "3905503"
       ]
      },
      {
       "output_type": "stream",
       "stream": "stdout",
       "text": [
        " 1 2 age :  "
       ]
      },
      {
       "output_type": "stream",
       "stream": "stdout",
       "text": [
        "10\n",
        "(307, 882) \n",
        "\n",
        "4633278"
       ]
      },
      {
       "output_type": "stream",
       "stream": "stdout",
       "text": [
        " 1 2 age :  "
       ]
      },
      {
       "output_type": "stream",
       "stream": "stdout",
       "text": [
        "10\n",
        "(307, 883) \n",
        "\n",
        "1371091"
       ]
      },
      {
       "output_type": "stream",
       "stream": "stdout",
       "text": [
        " 2 2 age :  "
       ]
      },
      {
       "output_type": "stream",
       "stream": "stdout",
       "text": [
        "18\n",
        "(308, 883) \n",
        "\n",
        "1718585"
       ]
      },
      {
       "output_type": "stream",
       "stream": "stdout",
       "text": [
        " 1 2 age :  "
       ]
      },
      {
       "output_type": "stream",
       "stream": "stdout",
       "text": [
        "10\n",
        "(308, 884) \n",
        "\n",
        "3012629"
       ]
      },
      {
       "output_type": "stream",
       "stream": "stdout",
       "text": [
        " 1 2 age :  "
       ]
      },
      {
       "output_type": "stream",
       "stream": "stdout",
       "text": [
        "10\n",
        "(308, 885) \n",
        "\n",
        "2369328"
       ]
      },
      {
       "output_type": "stream",
       "stream": "stdout",
       "text": [
        " 2 1 age :  "
       ]
      },
      {
       "output_type": "stream",
       "stream": "stdout",
       "text": [
        "20\n",
        "(308, 886) \n",
        "\n",
        "4130669"
       ]
      },
      {
       "output_type": "stream",
       "stream": "stdout",
       "text": [
        " 1 2 age :  "
       ]
      },
      {
       "output_type": "stream",
       "stream": "stdout",
       "text": [
        "10\n",
        "(308, 887) \n",
        "\n",
        "3710912"
       ]
      },
      {
       "output_type": "stream",
       "stream": "stdout",
       "text": [
        " 1 2 age :  "
       ]
      },
      {
       "output_type": "stream",
       "stream": "stdout",
       "text": [
        "20\n",
        "(308, 888) \n",
        "\n",
        "3307931"
       ]
      },
      {
       "output_type": "stream",
       "stream": "stdout",
       "text": [
        " 1 2 age :  "
       ]
      },
      {
       "output_type": "stream",
       "stream": "stdout",
       "text": [
        "20\n",
        "(308, 889) \n",
        "\n",
        "2964896"
       ]
      },
      {
       "output_type": "stream",
       "stream": "stdout",
       "text": [
        " 2 2 age :  "
       ]
      },
      {
       "output_type": "stream",
       "stream": "stdout",
       "text": [
        "60\n",
        "(309, 889) \n",
        "\n",
        "4669702"
       ]
      },
      {
       "output_type": "stream",
       "stream": "stdout",
       "text": [
        " 1 2 age :  "
       ]
      },
      {
       "output_type": "stream",
       "stream": "stdout",
       "text": [
        "20\n",
        "(309, 890) \n",
        "\n",
        "2991422"
       ]
      },
      {
       "output_type": "stream",
       "stream": "stdout",
       "text": [
        " 1 2 age :  "
       ]
      },
      {
       "output_type": "stream",
       "stream": "stdout",
       "text": [
        "60\n",
        "(309, 891) \n",
        "\n",
        "4099607"
       ]
      },
      {
       "output_type": "stream",
       "stream": "stdout",
       "text": [
        " 1 2 age :  "
       ]
      },
      {
       "output_type": "stream",
       "stream": "stdout",
       "text": [
        "30\n",
        "(309, 892) \n",
        "\n",
        "3352449"
       ]
      },
      {
       "output_type": "stream",
       "stream": "stdout",
       "text": [
        " 1 2 age :  "
       ]
      },
      {
       "output_type": "stream",
       "stream": "stdout",
       "text": [
        "10\n",
        "(309, 893) \n",
        "\n",
        "1798761"
       ]
      },
      {
       "output_type": "stream",
       "stream": "stdout",
       "text": [
        " 1 2 age :  "
       ]
      },
      {
       "output_type": "stream",
       "stream": "stdout",
       "text": [
        "10\n",
        "(309, 894) \n",
        "\n",
        "4096071"
       ]
      },
      {
       "output_type": "stream",
       "stream": "stdout",
       "text": [
        " 1 2 age :  "
       ]
      },
      {
       "output_type": "stream",
       "stream": "stdout",
       "text": [
        "10\n",
        "(309, 895) \n",
        "\n",
        "1735435"
       ]
      },
      {
       "output_type": "stream",
       "stream": "stdout",
       "text": [
        " 1 2 age :  "
       ]
      },
      {
       "output_type": "stream",
       "stream": "stdout",
       "text": [
        "10\n",
        "(309, 896) \n",
        "\n",
        "2547520"
       ]
      },
      {
       "output_type": "stream",
       "stream": "stdout",
       "text": [
        " 1 2 age :  "
       ]
      },
      {
       "output_type": "stream",
       "stream": "stdout",
       "text": [
        "30\n",
        "(309, 897) \n",
        "\n",
        "1650177"
       ]
      },
      {
       "output_type": "stream",
       "stream": "stdout",
       "text": [
        " 2 1 age :  "
       ]
      },
      {
       "output_type": "stream",
       "stream": "stdout",
       "text": [
        "30\n",
        "(309, 898) \n",
        "\n",
        "3678377"
       ]
      },
      {
       "output_type": "stream",
       "stream": "stdout",
       "text": [
        " 2 2 age :  "
       ]
      },
      {
       "output_type": "stream",
       "stream": "stdout",
       "text": [
        "10\n",
        "(310, 898) \n",
        "\n",
        "1712902"
       ]
      },
      {
       "output_type": "stream",
       "stream": "stdout",
       "text": [
        " 1 1 age :  "
       ]
      },
      {
       "output_type": "stream",
       "stream": "stdout",
       "text": [
        "10\n",
        "(311, 898) \n",
        "\n",
        "3228365"
       ]
      },
      {
       "output_type": "stream",
       "stream": "stdout",
       "text": [
        " 2 2 age :  "
       ]
      },
      {
       "output_type": "stream",
       "stream": "stdout",
       "text": [
        "22\n",
        "(312, 898) \n",
        "\n",
        "3225694"
       ]
      },
      {
       "output_type": "stream",
       "stream": "stdout",
       "text": [
        " 1 2 age :  "
       ]
      },
      {
       "output_type": "stream",
       "stream": "stdout",
       "text": [
        "10\n",
        "(312, 899) \n",
        "\n",
        "1666941"
       ]
      },
      {
       "output_type": "stream",
       "stream": "stdout",
       "text": [
        " 2 1 age :  "
       ]
      },
      {
       "output_type": "stream",
       "stream": "stdout",
       "text": [
        "10\n",
        "(312, 900) \n",
        "\n",
        "5110450"
       ]
      },
      {
       "output_type": "stream",
       "stream": "stdout",
       "text": [
        " 1 2 age :  "
       ]
      },
      {
       "output_type": "stream",
       "stream": "stdout",
       "text": [
        "20\n",
        "(312, 901) \n",
        "\n",
        "1804644"
       ]
      },
      {
       "output_type": "stream",
       "stream": "stdout",
       "text": [
        " 1 2 age :  "
       ]
      },
      {
       "output_type": "stream",
       "stream": "stdout",
       "text": [
        "10\n",
        "(312, 902) \n",
        "\n",
        "1981296"
       ]
      },
      {
       "output_type": "stream",
       "stream": "stdout",
       "text": [
        " 1 2 age :  "
       ]
      },
      {
       "output_type": "stream",
       "stream": "stdout",
       "text": [
        "20\n",
        "(312, 903) \n",
        "\n",
        "2936934"
       ]
      },
      {
       "output_type": "stream",
       "stream": "stdout",
       "text": [
        " 1 2 age :  "
       ]
      },
      {
       "output_type": "stream",
       "stream": "stdout",
       "text": [
        "20\n",
        "(312, 904) \n",
        "\n",
        "4862513"
       ]
      },
      {
       "output_type": "stream",
       "stream": "stdout",
       "text": [
        " 1 2 age :  "
       ]
      },
      {
       "output_type": "stream",
       "stream": "stdout",
       "text": [
        "10\n",
        "(312, 905) \n",
        "\n",
        "3797541"
       ]
      },
      {
       "output_type": "stream",
       "stream": "stdout",
       "text": [
        " 1 2 age :  "
       ]
      },
      {
       "output_type": "stream",
       "stream": "stdout",
       "text": [
        "42\n",
        "(312, 906) \n",
        "\n",
        "4106479"
       ]
      },
      {
       "output_type": "stream",
       "stream": "stdout",
       "text": [
        " 2 2 age :  "
       ]
      },
      {
       "output_type": "stream",
       "stream": "stdout",
       "text": [
        "10\n",
        "(313, 906) \n",
        "\n",
        "3016480"
       ]
      },
      {
       "output_type": "stream",
       "stream": "stdout",
       "text": [
        " 2 1 age :  "
       ]
      },
      {
       "output_type": "stream",
       "stream": "stdout",
       "text": [
        "20\n",
        "(313, 907) \n",
        "\n",
        "1799368"
       ]
      },
      {
       "output_type": "stream",
       "stream": "stdout",
       "text": [
        " 2 2 age :  "
       ]
      },
      {
       "output_type": "stream",
       "stream": "stdout",
       "text": [
        "10\n",
        "(314, 907) \n",
        "\n",
        "1992493"
       ]
      },
      {
       "output_type": "stream",
       "stream": "stdout",
       "text": [
        " 1 2 age :  "
       ]
      },
      {
       "output_type": "stream",
       "stream": "stdout",
       "text": [
        "10\n",
        "(314, 908) \n",
        "\n",
        "3910911"
       ]
      },
      {
       "output_type": "stream",
       "stream": "stdout",
       "text": [
        " 1 2 age :  "
       ]
      },
      {
       "output_type": "stream",
       "stream": "stdout",
       "text": [
        "20\n",
        "(314, 909) \n",
        "\n",
        "3473124"
       ]
      },
      {
       "output_type": "stream",
       "stream": "stdout",
       "text": [
        " 2 1 age :  "
       ]
      },
      {
       "output_type": "stream",
       "stream": "stdout",
       "text": [
        "28\n",
        "(314, 910) \n",
        "\n",
        "2209870"
       ]
      },
      {
       "output_type": "stream",
       "stream": "stdout",
       "text": [
        " 1 2 age :  "
       ]
      },
      {
       "output_type": "stream",
       "stream": "stdout",
       "text": [
        "20\n",
        "(314, 911) \n",
        "\n",
        "2320251"
       ]
      },
      {
       "output_type": "stream",
       "stream": "stdout",
       "text": [
        " 1 2 age :  "
       ]
      },
      {
       "output_type": "stream",
       "stream": "stdout",
       "text": [
        "20\n",
        "(314, 912) \n",
        "\n",
        "3567784"
       ]
      },
      {
       "output_type": "stream",
       "stream": "stdout",
       "text": [
        " 1 2 age :  "
       ]
      },
      {
       "output_type": "stream",
       "stream": "stdout",
       "text": [
        "48\n",
        "(314, 913) \n",
        "\n",
        "4392498"
       ]
      },
      {
       "output_type": "stream",
       "stream": "stdout",
       "text": [
        " 2 1 age :  "
       ]
      },
      {
       "output_type": "stream",
       "stream": "stdout",
       "text": [
        "28\n",
        "(314, 914) \n",
        "\n",
        "3622595"
       ]
      },
      {
       "output_type": "stream",
       "stream": "stdout",
       "text": [
        " 2 1 age :  "
       ]
      },
      {
       "output_type": "stream",
       "stream": "stdout",
       "text": [
        "10\n",
        "(314, 915) \n",
        "\n",
        "1828701"
       ]
      },
      {
       "output_type": "stream",
       "stream": "stdout",
       "text": [
        " 1 2 age :  "
       ]
      },
      {
       "output_type": "stream",
       "stream": "stdout",
       "text": [
        "20\n",
        "(314, 916) \n",
        "\n",
        "2340965"
       ]
      },
      {
       "output_type": "stream",
       "stream": "stdout",
       "text": [
        " 2 2 age :  "
       ]
      },
      {
       "output_type": "stream",
       "stream": "stdout",
       "text": [
        "30\n",
        "(315, 916) \n",
        "\n",
        "4872675"
       ]
      },
      {
       "output_type": "stream",
       "stream": "stdout",
       "text": [
        " 2 1 age :  "
       ]
      },
      {
       "output_type": "stream",
       "stream": "stdout",
       "text": [
        "10\n",
        "(315, 917) \n",
        "\n",
        "1713987"
       ]
      },
      {
       "output_type": "stream",
       "stream": "stdout",
       "text": [
        " 1 2 age :  "
       ]
      },
      {
       "output_type": "stream",
       "stream": "stdout",
       "text": [
        "10\n",
        "(315, 918) \n",
        "\n",
        "3469773"
       ]
      },
      {
       "output_type": "stream",
       "stream": "stdout",
       "text": [
        " 1 2 age :  "
       ]
      },
      {
       "output_type": "stream",
       "stream": "stdout",
       "text": [
        "20\n",
        "(315, 919) \n",
        "\n",
        "3051261"
       ]
      },
      {
       "output_type": "stream",
       "stream": "stdout",
       "text": [
        " 1 2 age :  "
       ]
      },
      {
       "output_type": "stream",
       "stream": "stdout",
       "text": [
        "10\n",
        "(315, 920) \n",
        "\n",
        "2171477"
       ]
      },
      {
       "output_type": "stream",
       "stream": "stdout",
       "text": [
        " 1 2 age :  "
       ]
      },
      {
       "output_type": "stream",
       "stream": "stdout",
       "text": [
        "10\n",
        "(315, 921) \n",
        "\n",
        "2513979"
       ]
      },
      {
       "output_type": "stream",
       "stream": "stdout",
       "text": [
        " 1 2 age :  "
       ]
      },
      {
       "output_type": "stream",
       "stream": "stdout",
       "text": [
        "10\n",
        "(315, 922) \n",
        "\n",
        "3932995"
       ]
      },
      {
       "output_type": "stream",
       "stream": "stdout",
       "text": [
        " 1 2 age :  "
       ]
      },
      {
       "output_type": "stream",
       "stream": "stdout",
       "text": [
        "20\n",
        "(315, 923) \n",
        "\n",
        "1798786"
       ]
      },
      {
       "output_type": "stream",
       "stream": "stdout",
       "text": [
        " 1 2 age :  "
       ]
      },
      {
       "output_type": "stream",
       "stream": "stdout",
       "text": [
        "20\n",
        "(315, 924) \n",
        "\n",
        "2881093"
       ]
      },
      {
       "output_type": "stream",
       "stream": "stdout",
       "text": [
        " 1 2 age :  "
       ]
      },
      {
       "output_type": "stream",
       "stream": "stdout",
       "text": [
        "10\n",
        "(315, 925) \n",
        "\n",
        "4900451"
       ]
      },
      {
       "output_type": "stream",
       "stream": "stdout",
       "text": [
        " 1 2 age :  "
       ]
      },
      {
       "output_type": "stream",
       "stream": "stdout",
       "text": [
        "20\n",
        "(315, 926) \n",
        "\n",
        "2085384"
       ]
      },
      {
       "output_type": "stream",
       "stream": "stdout",
       "text": [
        " 1 2 age :  "
       ]
      },
      {
       "output_type": "stream",
       "stream": "stdout",
       "text": [
        "10\n",
        "(315, 927) \n",
        "\n",
        "1624193"
       ]
      },
      {
       "output_type": "stream",
       "stream": "stdout",
       "text": [
        " 1 2 age :  "
       ]
      },
      {
       "output_type": "stream",
       "stream": "stdout",
       "text": [
        "60\n",
        "(315, 928) \n",
        "\n",
        "1571396"
       ]
      },
      {
       "output_type": "stream",
       "stream": "stdout",
       "text": [
        " 2 2 age :  "
       ]
      },
      {
       "output_type": "stream",
       "stream": "stdout",
       "text": [
        "20\n",
        "(316, 928) \n",
        "\n",
        "2013396"
       ]
      },
      {
       "output_type": "stream",
       "stream": "stdout",
       "text": [
        " 2 1 age :  "
       ]
      },
      {
       "output_type": "stream",
       "stream": "stdout",
       "text": [
        "10\n",
        "(316, 929) \n",
        "\n",
        "1640507"
       ]
      },
      {
       "output_type": "stream",
       "stream": "stdout",
       "text": [
        " 1 2 age :  "
       ]
      },
      {
       "output_type": "stream",
       "stream": "stdout",
       "text": [
        "10\n",
        "(316, 930) \n",
        "\n",
        "2262097"
       ]
      },
      {
       "output_type": "stream",
       "stream": "stdout",
       "text": [
        " 2 1 age :  "
       ]
      },
      {
       "output_type": "stream",
       "stream": "stdout",
       "text": [
        "10\n",
        "(316, 931) \n",
        "\n",
        "1945879"
       ]
      },
      {
       "output_type": "stream",
       "stream": "stdout",
       "text": [
        " 1 2 age :  "
       ]
      },
      {
       "output_type": "stream",
       "stream": "stdout",
       "text": [
        "30\n",
        "(316, 932) \n",
        "\n",
        "4202428"
       ]
      },
      {
       "output_type": "stream",
       "stream": "stdout",
       "text": [
        " 2 1 age :  "
       ]
      },
      {
       "output_type": "stream",
       "stream": "stdout",
       "text": [
        "10\n",
        "(316, 933) \n",
        "\n",
        "4746574"
       ]
      },
      {
       "output_type": "stream",
       "stream": "stdout",
       "text": [
        " 1 2 age :  "
       ]
      },
      {
       "output_type": "stream",
       "stream": "stdout",
       "text": [
        "10\n",
        "(316, 934) \n",
        "\n",
        "2748805"
       ]
      },
      {
       "output_type": "stream",
       "stream": "stdout",
       "text": [
        " 2 2 age :  "
       ]
      },
      {
       "output_type": "stream",
       "stream": "stdout",
       "text": [
        "30\n",
        "(317, 934) \n",
        "\n",
        "4390396"
       ]
      },
      {
       "output_type": "stream",
       "stream": "stdout",
       "text": [
        " 1 2 age :  "
       ]
      },
      {
       "output_type": "stream",
       "stream": "stdout",
       "text": [
        "20\n",
        "(317, 935) \n",
        "\n",
        "1820075"
       ]
      },
      {
       "output_type": "stream",
       "stream": "stdout",
       "text": [
        " 1 2 age :  "
       ]
      },
      {
       "output_type": "stream",
       "stream": "stdout",
       "text": [
        "10\n",
        "(317, 936) \n",
        "\n",
        "3000451"
       ]
      },
      {
       "output_type": "stream",
       "stream": "stdout",
       "text": [
        " 2 2 age :  "
       ]
      },
      {
       "output_type": "stream",
       "stream": "stdout",
       "text": [
        "22\n",
        "(318, 936) \n",
        "\n",
        "4862936"
       ]
      },
      {
       "output_type": "stream",
       "stream": "stdout",
       "text": [
        " 1 2 age :  "
       ]
      },
      {
       "output_type": "stream",
       "stream": "stdout",
       "text": [
        "10\n",
        "(318, 937) \n",
        "\n",
        "2240055"
       ]
      },
      {
       "output_type": "stream",
       "stream": "stdout",
       "text": [
        " 2 1 age :  "
       ]
      },
      {
       "output_type": "stream",
       "stream": "stdout",
       "text": [
        "18\n",
        "(318, 938) \n",
        "\n",
        "2414300"
       ]
      },
      {
       "output_type": "stream",
       "stream": "stdout",
       "text": [
        " 1 2 age :  "
       ]
      },
      {
       "output_type": "stream",
       "stream": "stdout",
       "text": [
        "20\n",
        "(318, 939) \n",
        "\n",
        "1447980"
       ]
      },
      {
       "output_type": "stream",
       "stream": "stdout",
       "text": [
        " 2 1 age :  "
       ]
      },
      {
       "output_type": "stream",
       "stream": "stdout",
       "text": [
        "20\n",
        "(318, 940) \n",
        "\n",
        "2315866"
       ]
      },
      {
       "output_type": "stream",
       "stream": "stdout",
       "text": [
        " 2 1 age :  "
       ]
      },
      {
       "output_type": "stream",
       "stream": "stdout",
       "text": [
        "10\n",
        "(318, 941) \n",
        "\n",
        "2599875"
       ]
      },
      {
       "output_type": "stream",
       "stream": "stdout",
       "text": [
        " 1 2 age :  "
       ]
      },
      {
       "output_type": "stream",
       "stream": "stdout",
       "text": [
        "10\n",
        "(318, 942) \n",
        "\n",
        "2662374"
       ]
      },
      {
       "output_type": "stream",
       "stream": "stdout",
       "text": [
        " 1 2 age :  "
       ]
      },
      {
       "output_type": "stream",
       "stream": "stdout",
       "text": [
        "30\n",
        "(318, 943) \n",
        "\n",
        "2918027"
       ]
      },
      {
       "output_type": "stream",
       "stream": "stdout",
       "text": [
        " 1 2 age :  "
       ]
      },
      {
       "output_type": "stream",
       "stream": "stdout",
       "text": [
        "20\n",
        "(318, 944) \n",
        "\n",
        "2008487"
       ]
      },
      {
       "output_type": "stream",
       "stream": "stdout",
       "text": [
        " 1 2 age :  "
       ]
      },
      {
       "output_type": "stream",
       "stream": "stdout",
       "text": [
        "10\n",
        "(318, 945) \n",
        "\n",
        "2282947"
       ]
      },
      {
       "output_type": "stream",
       "stream": "stdout",
       "text": [
        " 2 2 age :  "
       ]
      },
      {
       "output_type": "stream",
       "stream": "stdout",
       "text": [
        "20\n",
        "(319, 945) \n",
        "\n",
        "3048018"
       ]
      },
      {
       "output_type": "stream",
       "stream": "stdout",
       "text": [
        " 1 2 age :  "
       ]
      },
      {
       "output_type": "stream",
       "stream": "stdout",
       "text": [
        "10\n",
        "(319, 946) \n",
        "\n",
        "4807933"
       ]
      },
      {
       "output_type": "stream",
       "stream": "stdout",
       "text": [
        " 1 2 age :  "
       ]
      },
      {
       "output_type": "stream",
       "stream": "stdout",
       "text": [
        "10\n",
        "(319, 947) \n",
        "\n",
        "2541550"
       ]
      },
      {
       "output_type": "stream",
       "stream": "stdout",
       "text": [
        " 2 1 age :  "
       ]
      },
      {
       "output_type": "stream",
       "stream": "stdout",
       "text": [
        "12\n",
        "(319, 948) \n",
        "\n",
        "1682860"
       ]
      },
      {
       "output_type": "stream",
       "stream": "stdout",
       "text": [
        " 1 2 age :  "
       ]
      },
      {
       "output_type": "stream",
       "stream": "stdout",
       "text": [
        "10\n",
        "(319, 949) \n",
        "\n",
        "2825097"
       ]
      },
      {
       "output_type": "stream",
       "stream": "stdout",
       "text": [
        " 2 1 age :  "
       ]
      },
      {
       "output_type": "stream",
       "stream": "stdout",
       "text": [
        "10\n",
        "(319, 950) \n",
        "\n",
        "5234568"
       ]
      },
      {
       "output_type": "stream",
       "stream": "stdout",
       "text": [
        " 1 2 age :  "
       ]
      },
      {
       "output_type": "stream",
       "stream": "stdout",
       "text": [
        "50\n",
        "(319, 951) \n",
        "\n",
        "1924846"
       ]
      },
      {
       "output_type": "stream",
       "stream": "stdout",
       "text": [
        " 1 2 age :  "
       ]
      },
      {
       "output_type": "stream",
       "stream": "stdout",
       "text": [
        "10\n",
        "(319, 952) \n",
        "\n",
        "2536821"
       ]
      },
      {
       "output_type": "stream",
       "stream": "stdout",
       "text": [
        " 2 1 age :  "
       ]
      },
      {
       "output_type": "stream",
       "stream": "stdout",
       "text": [
        "10\n",
        "(319, 953) \n",
        "\n",
        "1757301"
       ]
      },
      {
       "output_type": "stream",
       "stream": "stdout",
       "text": [
        " 2 1 age :  "
       ]
      },
      {
       "output_type": "stream",
       "stream": "stdout",
       "text": [
        "10\n",
        "(319, 954) \n",
        "\n",
        "1656541"
       ]
      },
      {
       "output_type": "stream",
       "stream": "stdout",
       "text": [
        " 2 1 age :  "
       ]
      },
      {
       "output_type": "stream",
       "stream": "stdout",
       "text": [
        "20\n",
        "(319, 955) \n",
        "\n",
        "2856363"
       ]
      },
      {
       "output_type": "stream",
       "stream": "stdout",
       "text": [
        " 2 1 age :  "
       ]
      },
      {
       "output_type": "stream",
       "stream": "stdout",
       "text": [
        "10\n",
        "(319, 956) \n",
        "\n",
        "3251512"
       ]
      },
      {
       "output_type": "stream",
       "stream": "stdout",
       "text": [
        " 1 2 age :  "
       ]
      },
      {
       "output_type": "stream",
       "stream": "stdout",
       "text": [
        "15\n",
        "(319, 957) \n",
        "\n",
        "4719219"
       ]
      },
      {
       "output_type": "stream",
       "stream": "stdout",
       "text": [
        " 2 1 age :  "
       ]
      },
      {
       "output_type": "stream",
       "stream": "stdout",
       "text": [
        "20\n",
        "(319, 958) \n",
        "\n",
        "4946737"
       ]
      },
      {
       "output_type": "stream",
       "stream": "stdout",
       "text": [
        " 1 1 age :  "
       ]
      },
      {
       "output_type": "stream",
       "stream": "stdout",
       "text": [
        "20\n",
        "(320, 958) \n",
        "\n",
        "1912274"
       ]
      },
      {
       "output_type": "stream",
       "stream": "stdout",
       "text": [
        " 1 2 age :  "
       ]
      },
      {
       "output_type": "stream",
       "stream": "stdout",
       "text": [
        "10\n",
        "(320, 959) \n",
        "\n",
        "4003320"
       ]
      },
      {
       "output_type": "stream",
       "stream": "stdout",
       "text": [
        " 1 2 age :  "
       ]
      },
      {
       "output_type": "stream",
       "stream": "stdout",
       "text": [
        "30\n",
        "(320, 960) \n",
        "\n",
        "3846407"
       ]
      },
      {
       "output_type": "stream",
       "stream": "stdout",
       "text": [
        " 1 2 age :  "
       ]
      },
      {
       "output_type": "stream",
       "stream": "stdout",
       "text": [
        "10\n",
        "(320, 961) \n",
        "\n",
        "1702420"
       ]
      },
      {
       "output_type": "stream",
       "stream": "stdout",
       "text": [
        " 1 2 age :  "
       ]
      },
      {
       "output_type": "stream",
       "stream": "stdout",
       "text": [
        "10\n",
        "(320, 962) \n",
        "\n",
        "1875181"
       ]
      },
      {
       "output_type": "stream",
       "stream": "stdout",
       "text": [
        " 1 2 age :  "
       ]
      },
      {
       "output_type": "stream",
       "stream": "stdout",
       "text": [
        "10\n",
        "(320, 963) \n",
        "\n",
        "4481626"
       ]
      },
      {
       "output_type": "stream",
       "stream": "stdout",
       "text": [
        " 1 2 age :  "
       ]
      },
      {
       "output_type": "stream",
       "stream": "stdout",
       "text": [
        "40\n",
        "(320, 964) \n",
        "\n",
        "1610954"
       ]
      },
      {
       "output_type": "stream",
       "stream": "stdout",
       "text": [
        " 2 1 age :  "
       ]
      },
      {
       "output_type": "stream",
       "stream": "stdout",
       "text": [
        "20\n",
        "(320, 965) \n",
        "\n",
        "4382655"
       ]
      },
      {
       "output_type": "stream",
       "stream": "stdout",
       "text": [
        " 2 2 age :  "
       ]
      },
      {
       "output_type": "stream",
       "stream": "stdout",
       "text": [
        "10\n",
        "(321, 965) \n",
        "\n",
        "1895568"
       ]
      },
      {
       "output_type": "stream",
       "stream": "stdout",
       "text": [
        " 1 2 age :  "
       ]
      },
      {
       "output_type": "stream",
       "stream": "stdout",
       "text": [
        "10\n",
        "(321, 966) \n",
        "\n",
        "4037102"
       ]
      },
      {
       "output_type": "stream",
       "stream": "stdout",
       "text": [
        " 1 2 age :  "
       ]
      },
      {
       "output_type": "stream",
       "stream": "stdout",
       "text": [
        "20\n",
        "(321, 967) \n",
        "\n",
        "3309280"
       ]
      },
      {
       "output_type": "stream",
       "stream": "stdout",
       "text": [
        " 2 1 age :  "
       ]
      },
      {
       "output_type": "stream",
       "stream": "stdout",
       "text": [
        "10\n",
        "(321, 968) \n",
        "\n",
        "3343407"
       ]
      },
      {
       "output_type": "stream",
       "stream": "stdout",
       "text": [
        " 1 2 age :  "
       ]
      },
      {
       "output_type": "stream",
       "stream": "stdout",
       "text": [
        "20\n",
        "(321, 969) \n",
        "\n",
        "3618034"
       ]
      },
      {
       "output_type": "stream",
       "stream": "stdout",
       "text": [
        " 1 2 age :  "
       ]
      },
      {
       "output_type": "stream",
       "stream": "stdout",
       "text": [
        "10\n",
        "(321, 970) \n",
        "\n",
        "3868918"
       ]
      },
      {
       "output_type": "stream",
       "stream": "stdout",
       "text": [
        " 1 2 age :  "
       ]
      },
      {
       "output_type": "stream",
       "stream": "stdout",
       "text": [
        "20\n",
        "(321, 971) \n",
        "\n",
        "1694751"
       ]
      },
      {
       "output_type": "stream",
       "stream": "stdout",
       "text": [
        " 2 2 age :  "
       ]
      },
      {
       "output_type": "stream",
       "stream": "stdout",
       "text": [
        "10\n",
        "(322, 971) \n",
        "\n",
        "1363068"
       ]
      },
      {
       "output_type": "stream",
       "stream": "stdout",
       "text": [
        " 2 2 age :  "
       ]
      },
      {
       "output_type": "stream",
       "stream": "stdout",
       "text": [
        "20\n",
        "(323, 971) \n",
        "\n",
        "1385881"
       ]
      },
      {
       "output_type": "stream",
       "stream": "stdout",
       "text": [
        " 1 2 age :  "
       ]
      },
      {
       "output_type": "stream",
       "stream": "stdout",
       "text": [
        "20\n",
        "(323, 972) \n",
        "\n",
        "3993186"
       ]
      },
      {
       "output_type": "stream",
       "stream": "stdout",
       "text": [
        " 1 2 age :  "
       ]
      },
      {
       "output_type": "stream",
       "stream": "stdout",
       "text": [
        "20\n",
        "(323, 973) \n",
        "\n",
        "2781264"
       ]
      },
      {
       "output_type": "stream",
       "stream": "stdout",
       "text": [
        " 2 1 age :  "
       ]
      },
      {
       "output_type": "stream",
       "stream": "stdout",
       "text": [
        "10\n",
        "(323, 974) \n",
        "\n",
        "3113373"
       ]
      },
      {
       "output_type": "stream",
       "stream": "stdout",
       "text": [
        " 1 1 age :  "
       ]
      },
      {
       "output_type": "stream",
       "stream": "stdout",
       "text": [
        "20\n",
        "(324, 974) \n",
        "\n",
        "3472082"
       ]
      },
      {
       "output_type": "stream",
       "stream": "stdout",
       "text": [
        " 1 2 age :  "
       ]
      },
      {
       "output_type": "stream",
       "stream": "stdout",
       "text": [
        "10\n",
        "(324, 975) \n",
        "\n",
        "4245978"
       ]
      },
      {
       "output_type": "stream",
       "stream": "stdout",
       "text": [
        " 1 1 age :  "
       ]
      },
      {
       "output_type": "stream",
       "stream": "stdout",
       "text": [
        "27\n",
        "(325, 975) \n",
        "\n",
        "1743769"
       ]
      },
      {
       "output_type": "stream",
       "stream": "stdout",
       "text": [
        " 2 2 age :  "
       ]
      },
      {
       "output_type": "stream",
       "stream": "stdout",
       "text": [
        "10\n",
        "(326, 975) \n",
        "\n",
        "2333194"
       ]
      },
      {
       "output_type": "stream",
       "stream": "stdout",
       "text": [
        " 1 2 age :  "
       ]
      },
      {
       "output_type": "stream",
       "stream": "stdout",
       "text": [
        "10\n",
        "(326, 976) \n",
        "\n",
        "933507"
       ]
      },
      {
       "output_type": "stream",
       "stream": "stdout",
       "text": [
        " 1 2 age :  "
       ]
      },
      {
       "output_type": "stream",
       "stream": "stdout",
       "text": [
        "20\n",
        "(326, 977) \n",
        "\n",
        "3888376"
       ]
      },
      {
       "output_type": "stream",
       "stream": "stdout",
       "text": [
        " 1 2 age :  "
       ]
      },
      {
       "output_type": "stream",
       "stream": "stdout",
       "text": [
        "10\n",
        "(326, 978) \n",
        "\n",
        "1691769"
       ]
      },
      {
       "output_type": "stream",
       "stream": "stdout",
       "text": [
        " 1 2 age :  "
       ]
      },
      {
       "output_type": "stream",
       "stream": "stdout",
       "text": [
        "12\n",
        "(326, 979) \n",
        "\n",
        "4106188"
       ]
      },
      {
       "output_type": "stream",
       "stream": "stdout",
       "text": [
        " 1 2 age :  "
       ]
      },
      {
       "output_type": "stream",
       "stream": "stdout",
       "text": [
        "10\n",
        "(326, 980) \n",
        "\n",
        "2123731"
       ]
      },
      {
       "output_type": "stream",
       "stream": "stdout",
       "text": [
        " 2 1 age :  "
       ]
      },
      {
       "output_type": "stream",
       "stream": "stdout",
       "text": [
        "25\n",
        "(326, 981) \n",
        "\n",
        "4711828"
       ]
      },
      {
       "output_type": "stream",
       "stream": "stdout",
       "text": [
        " 2 2 age :  "
       ]
      },
      {
       "output_type": "stream",
       "stream": "stdout",
       "text": [
        "20\n",
        "(327, 981) \n",
        "\n",
        "2005247"
       ]
      },
      {
       "output_type": "stream",
       "stream": "stdout",
       "text": [
        " 1 2 age :  "
       ]
      },
      {
       "output_type": "stream",
       "stream": "stdout",
       "text": [
        "30\n",
        "(327, 982) \n",
        "\n",
        "3559817"
       ]
      },
      {
       "output_type": "stream",
       "stream": "stdout",
       "text": [
        " 1 2 age :  "
       ]
      },
      {
       "output_type": "stream",
       "stream": "stdout",
       "text": [
        "10\n",
        "(327, 983) \n",
        "\n",
        "2790593"
       ]
      },
      {
       "output_type": "stream",
       "stream": "stdout",
       "text": [
        " 2 1 age :  "
       ]
      },
      {
       "output_type": "stream",
       "stream": "stdout",
       "text": [
        "10\n",
        "(327, 984) \n",
        "\n",
        "2997152"
       ]
      },
      {
       "output_type": "stream",
       "stream": "stdout",
       "text": [
        " 1 2 age :  "
       ]
      },
      {
       "output_type": "stream",
       "stream": "stdout",
       "text": [
        "30\n",
        "(327, 985) \n",
        "\n",
        "3995863"
       ]
      },
      {
       "output_type": "stream",
       "stream": "stdout",
       "text": [
        " 1 2 age :  "
       ]
      },
      {
       "output_type": "stream",
       "stream": "stdout",
       "text": [
        "20\n",
        "(327, 986) \n",
        "\n",
        "1677727"
       ]
      },
      {
       "output_type": "stream",
       "stream": "stdout",
       "text": [
        " 1 1 age :  "
       ]
      },
      {
       "output_type": "stream",
       "stream": "stdout",
       "text": [
        "10\n",
        "(328, 986) \n",
        "\n",
        "2814414"
       ]
      },
      {
       "output_type": "stream",
       "stream": "stdout",
       "text": [
        " 2 1 age :  "
       ]
      },
      {
       "output_type": "stream",
       "stream": "stdout",
       "text": [
        "10\n",
        "(328, 987) \n",
        "\n",
        "1997454"
       ]
      },
      {
       "output_type": "stream",
       "stream": "stdout",
       "text": [
        " 1 2 age :  "
       ]
      },
      {
       "output_type": "stream",
       "stream": "stdout",
       "text": [
        "20\n",
        "(328, 988) \n",
        "\n",
        "5553531"
       ]
      },
      {
       "output_type": "stream",
       "stream": "stdout",
       "text": [
        " 2 1 age :  "
       ]
      },
      {
       "output_type": "stream",
       "stream": "stdout",
       "text": [
        "10\n",
        "(328, 989) \n",
        "\n",
        "3951194"
       ]
      },
      {
       "output_type": "stream",
       "stream": "stdout",
       "text": [
        " 2 2 age :  "
       ]
      },
      {
       "output_type": "stream",
       "stream": "stdout",
       "text": [
        "20\n",
        "(329, 989) \n",
        "\n",
        "3030664"
       ]
      },
      {
       "output_type": "stream",
       "stream": "stdout",
       "text": [
        " 1 2 age :  "
       ]
      },
      {
       "output_type": "stream",
       "stream": "stdout",
       "text": [
        "30\n",
        "(329, 990) \n",
        "\n",
        "1690469"
       ]
      },
      {
       "output_type": "stream",
       "stream": "stdout",
       "text": [
        " 1 2 age :  "
       ]
      },
      {
       "output_type": "stream",
       "stream": "stdout",
       "text": [
        "10\n",
        "(329, 991) \n",
        "\n",
        "4055808"
       ]
      },
      {
       "output_type": "stream",
       "stream": "stdout",
       "text": [
        " 1 2 age :  "
       ]
      },
      {
       "output_type": "stream",
       "stream": "stdout",
       "text": [
        "30\n",
        "(329, 992) \n",
        "\n",
        "1941216"
       ]
      },
      {
       "output_type": "stream",
       "stream": "stdout",
       "text": [
        " 1 2 age :  "
       ]
      },
      {
       "output_type": "stream",
       "stream": "stdout",
       "text": [
        "20\n",
        "(329, 993) \n",
        "\n",
        "4431490"
       ]
      },
      {
       "output_type": "stream",
       "stream": "stdout",
       "text": [
        " 1 2 age :  "
       ]
      },
      {
       "output_type": "stream",
       "stream": "stdout",
       "text": [
        "28\n",
        "(329, 994) \n",
        "\n",
        "2025281"
       ]
      },
      {
       "output_type": "stream",
       "stream": "stdout",
       "text": [
        " 2 2 age :  "
       ]
      },
      {
       "output_type": "stream",
       "stream": "stdout",
       "text": [
        "10\n",
        "(330, 994) \n",
        "\n",
        "5379164"
       ]
      },
      {
       "output_type": "stream",
       "stream": "stdout",
       "text": [
        " 1 2 age :  "
       ]
      },
      {
       "output_type": "stream",
       "stream": "stdout",
       "text": [
        "10\n",
        "(330, 995) \n",
        "\n",
        "3223778"
       ]
      },
      {
       "output_type": "stream",
       "stream": "stdout",
       "text": [
        " 2 2 age :  "
       ]
      },
      {
       "output_type": "stream",
       "stream": "stdout",
       "text": [
        "25\n",
        "(331, 995) \n",
        "\n",
        "2216253"
       ]
      },
      {
       "output_type": "stream",
       "stream": "stdout",
       "text": [
        " 2 2 age :  "
       ]
      },
      {
       "output_type": "stream",
       "stream": "stdout",
       "text": [
        "28\n",
        "(332, 995) \n",
        "\n",
        "2380496"
       ]
      },
      {
       "output_type": "stream",
       "stream": "stdout",
       "text": [
        " 1 2 age :  "
       ]
      },
      {
       "output_type": "stream",
       "stream": "stdout",
       "text": [
        "20\n",
        "(332, 996) \n",
        "\n",
        "4061389"
       ]
      },
      {
       "output_type": "stream",
       "stream": "stdout",
       "text": [
        " 1 2 age :  "
       ]
      },
      {
       "output_type": "stream",
       "stream": "stdout",
       "text": [
        "10\n",
        "(332, 997) \n",
        "\n",
        "1652721"
       ]
      },
      {
       "output_type": "stream",
       "stream": "stdout",
       "text": [
        " 1 2 age :  "
       ]
      },
      {
       "output_type": "stream",
       "stream": "stdout",
       "text": [
        "20\n",
        "(332, 998) \n",
        "\n",
        "2575779"
       ]
      },
      {
       "output_type": "stream",
       "stream": "stdout",
       "text": [
        " 2 1 age :  "
       ]
      },
      {
       "output_type": "stream",
       "stream": "stdout",
       "text": [
        "40\n",
        "(332, 999) \n",
        "\n",
        "2164698"
       ]
      },
      {
       "output_type": "stream",
       "stream": "stdout",
       "text": [
        " 1 2 age :  "
       ]
      },
      {
       "output_type": "stream",
       "stream": "stdout",
       "text": [
        "20\n",
        "(332, 1000) \n",
        "\n",
        "3102562"
       ]
      },
      {
       "output_type": "stream",
       "stream": "stdout",
       "text": [
        " 1 2 age :  "
       ]
      },
      {
       "output_type": "stream",
       "stream": "stdout",
       "text": [
        "10\n",
        "(332, 1001) \n",
        "\n",
        "2546534"
       ]
      },
      {
       "output_type": "stream",
       "stream": "stdout",
       "text": [
        " 1 2 age :  "
       ]
      },
      {
       "output_type": "stream",
       "stream": "stdout",
       "text": [
        "10\n",
        "(332, 1002) \n",
        "\n",
        "2008486"
       ]
      },
      {
       "output_type": "stream",
       "stream": "stdout",
       "text": [
        " 2 2 age :  "
       ]
      },
      {
       "output_type": "stream",
       "stream": "stdout",
       "text": [
        "25\n",
        "(333, 1002) \n",
        "\n",
        "3187231"
       ]
      },
      {
       "output_type": "stream",
       "stream": "stdout",
       "text": [
        " 2 2 age :  "
       ]
      },
      {
       "output_type": "stream",
       "stream": "stdout",
       "text": [
        "20\n",
        "(334, 1002) \n",
        "\n",
        "4422389"
       ]
      },
      {
       "output_type": "stream",
       "stream": "stdout",
       "text": [
        " 1 2 age :  "
       ]
      },
      {
       "output_type": "stream",
       "stream": "stdout",
       "text": [
        "10\n",
        "(334, 1003) \n",
        "\n",
        "1533172"
       ]
      },
      {
       "output_type": "stream",
       "stream": "stdout",
       "text": [
        " 1 2 age :  "
       ]
      },
      {
       "output_type": "stream",
       "stream": "stdout",
       "text": [
        "30\n",
        "(334, 1004) \n",
        "\n",
        "5293149"
       ]
      },
      {
       "output_type": "stream",
       "stream": "stdout",
       "text": [
        " 2 1 age :  "
       ]
      },
      {
       "output_type": "stream",
       "stream": "stdout",
       "text": [
        "20\n",
        "(334, 1005) \n",
        "\n",
        "1875660"
       ]
      },
      {
       "output_type": "stream",
       "stream": "stdout",
       "text": [
        " 1 2 age :  "
       ]
      },
      {
       "output_type": "stream",
       "stream": "stdout",
       "text": [
        "10\n",
        "(334, 1006) \n",
        "\n",
        "5620611"
       ]
      },
      {
       "output_type": "stream",
       "stream": "stdout",
       "text": [
        " 2 2 age :  "
       ]
      },
      {
       "output_type": "stream",
       "stream": "stdout",
       "text": [
        "22\n",
        "(335, 1006) \n",
        "\n",
        "3879924"
       ]
      },
      {
       "output_type": "stream",
       "stream": "stdout",
       "text": [
        " 1 2 age :  "
       ]
      },
      {
       "output_type": "stream",
       "stream": "stdout",
       "text": [
        "10\n",
        "(335, 1007) \n",
        "\n",
        "4779146"
       ]
      },
      {
       "output_type": "stream",
       "stream": "stdout",
       "text": [
        " 2 2 age :  "
       ]
      },
      {
       "output_type": "stream",
       "stream": "stdout",
       "text": [
        "20\n",
        "(336, 1007) \n",
        "\n",
        "5026833"
       ]
      },
      {
       "output_type": "stream",
       "stream": "stdout",
       "text": [
        " 1 2 age :  "
       ]
      },
      {
       "output_type": "stream",
       "stream": "stdout",
       "text": [
        "10\n",
        "(336, 1008) \n",
        "\n",
        "1659981"
       ]
      },
      {
       "output_type": "stream",
       "stream": "stdout",
       "text": [
        " 1 2 age :  "
       ]
      },
      {
       "output_type": "stream",
       "stream": "stdout",
       "text": [
        "10\n",
        "(336, 1009) \n",
        "\n",
        "4873536"
       ]
      },
      {
       "output_type": "stream",
       "stream": "stdout",
       "text": [
        " 2 1 age :  "
       ]
      },
      {
       "output_type": "stream",
       "stream": "stdout",
       "text": [
        "10\n",
        "(336, 1010) \n",
        "\n",
        "2360831"
       ]
      },
      {
       "output_type": "stream",
       "stream": "stdout",
       "text": [
        " 1 2 age :  "
       ]
      },
      {
       "output_type": "stream",
       "stream": "stdout",
       "text": [
        "10\n",
        "(336, 1011) \n",
        "\n",
        "1683629"
       ]
      },
      {
       "output_type": "stream",
       "stream": "stdout",
       "text": [
        " 2 1 age :  "
       ]
      },
      {
       "output_type": "stream",
       "stream": "stdout",
       "text": [
        "30\n",
        "(336, 1012) \n",
        "\n",
        "1723657"
       ]
      },
      {
       "output_type": "stream",
       "stream": "stdout",
       "text": [
        " 1 2 age :  "
       ]
      },
      {
       "output_type": "stream",
       "stream": "stdout",
       "text": [
        "10\n",
        "(336, 1013) \n",
        "\n",
        "5231702"
       ]
      },
      {
       "output_type": "stream",
       "stream": "stdout",
       "text": [
        " 2 2 age :  "
       ]
      },
      {
       "output_type": "stream",
       "stream": "stdout",
       "text": [
        "20\n",
        "(337, 1013) \n",
        "\n",
        "4013139"
       ]
      },
      {
       "output_type": "stream",
       "stream": "stdout",
       "text": [
        " 1 2 age :  "
       ]
      },
      {
       "output_type": "stream",
       "stream": "stdout",
       "text": [
        "20\n",
        "(337, 1014) \n",
        "\n",
        "4603576"
       ]
      },
      {
       "output_type": "stream",
       "stream": "stdout",
       "text": [
        " 2 2 age :  "
       ]
      },
      {
       "output_type": "stream",
       "stream": "stdout",
       "text": [
        "32\n",
        "(338, 1014) \n",
        "\n",
        "4179694"
       ]
      },
      {
       "output_type": "stream",
       "stream": "stdout",
       "text": [
        " 1 1 age :  "
       ]
      },
      {
       "output_type": "stream",
       "stream": "stdout",
       "text": [
        "38\n",
        "(339, 1014) \n",
        "\n",
        "3600131"
       ]
      },
      {
       "output_type": "stream",
       "stream": "stdout",
       "text": [
        " 1 2 age :  "
       ]
      },
      {
       "output_type": "stream",
       "stream": "stdout",
       "text": [
        "20\n",
        "(339, 1015) \n",
        "\n",
        "1947138"
       ]
      },
      {
       "output_type": "stream",
       "stream": "stdout",
       "text": [
        " 2 1 age :  "
       ]
      },
      {
       "output_type": "stream",
       "stream": "stdout",
       "text": [
        "20\n",
        "(339, 1016) \n",
        "\n",
        "2319283"
       ]
      },
      {
       "output_type": "stream",
       "stream": "stdout",
       "text": [
        " 2 2 age :  "
       ]
      },
      {
       "output_type": "stream",
       "stream": "stdout",
       "text": [
        "25\n",
        "(340, 1016) \n",
        "\n",
        "4803723"
       ]
      },
      {
       "output_type": "stream",
       "stream": "stdout",
       "text": [
        " 1 2 age :  "
       ]
      },
      {
       "output_type": "stream",
       "stream": "stdout",
       "text": [
        "10\n",
        "(340, 1017) \n",
        "\n",
        "1211713"
       ]
      },
      {
       "output_type": "stream",
       "stream": "stdout",
       "text": [
        " 2 2 age :  "
       ]
      },
      {
       "output_type": "stream",
       "stream": "stdout",
       "text": [
        "30\n",
        "(341, 1017) \n",
        "\n",
        "5488044"
       ]
      },
      {
       "output_type": "stream",
       "stream": "stdout",
       "text": [
        " 2 1 age :  "
       ]
      },
      {
       "output_type": "stream",
       "stream": "stdout",
       "text": [
        "10\n",
        "(341, 1018) \n",
        "\n",
        "1673067"
       ]
      },
      {
       "output_type": "stream",
       "stream": "stdout",
       "text": [
        " 1 2 age :  "
       ]
      },
      {
       "output_type": "stream",
       "stream": "stdout",
       "text": [
        "20\n",
        "(341, 1019) \n",
        "\n",
        "5299770"
       ]
      },
      {
       "output_type": "stream",
       "stream": "stdout",
       "text": [
        " 1 2 age :  "
       ]
      },
      {
       "output_type": "stream",
       "stream": "stdout",
       "text": [
        "30\n",
        "(341, 1020) \n",
        "\n",
        "4599712"
       ]
      },
      {
       "output_type": "stream",
       "stream": "stdout",
       "text": [
        " 2 2 age :  "
       ]
      },
      {
       "output_type": "stream",
       "stream": "stdout",
       "text": [
        "10\n",
        "(342, 1020) \n",
        "\n",
        "3960252"
       ]
      },
      {
       "output_type": "stream",
       "stream": "stdout",
       "text": [
        " 2 1 age :  "
       ]
      },
      {
       "output_type": "stream",
       "stream": "stdout",
       "text": [
        "10\n",
        "(342, 1021) \n",
        "\n",
        "1975222"
       ]
      },
      {
       "output_type": "stream",
       "stream": "stdout",
       "text": [
        " 2 1 age :  "
       ]
      },
      {
       "output_type": "stream",
       "stream": "stdout",
       "text": [
        "10\n",
        "(342, 1022) \n",
        "\n",
        "3255231"
       ]
      },
      {
       "output_type": "stream",
       "stream": "stdout",
       "text": [
        " 1 2 age :  "
       ]
      },
      {
       "output_type": "stream",
       "stream": "stdout",
       "text": [
        "20\n",
        "(342, 1023) \n",
        "\n",
        "5284177"
       ]
      },
      {
       "output_type": "stream",
       "stream": "stdout",
       "text": [
        " 1 2 age :  "
       ]
      },
      {
       "output_type": "stream",
       "stream": "stdout",
       "text": [
        "26\n",
        "(342, 1024) \n",
        "\n",
        "2153135"
       ]
      },
      {
       "output_type": "stream",
       "stream": "stdout",
       "text": [
        " 1 2 age :  "
       ]
      },
      {
       "output_type": "stream",
       "stream": "stdout",
       "text": [
        "10\n",
        "(342, 1025) \n",
        "\n",
        "4704671"
       ]
      },
      {
       "output_type": "stream",
       "stream": "stdout",
       "text": [
        " 1 2 age :  "
       ]
      },
      {
       "output_type": "stream",
       "stream": "stdout",
       "text": [
        "40\n",
        "(342, 1026) \n",
        "\n",
        "2344077"
       ]
      },
      {
       "output_type": "stream",
       "stream": "stdout",
       "text": [
        " 1 2 age :  "
       ]
      },
      {
       "output_type": "stream",
       "stream": "stdout",
       "text": [
        "10\n",
        "(342, 1027) \n",
        "\n",
        "1959873"
       ]
      },
      {
       "output_type": "stream",
       "stream": "stdout",
       "text": [
        " 1 2 age :  "
       ]
      },
      {
       "output_type": "stream",
       "stream": "stdout",
       "text": [
        "10\n",
        "(342, 1028) \n",
        "\n",
        "3936741"
       ]
      },
      {
       "output_type": "stream",
       "stream": "stdout",
       "text": [
        " 1 2 age :  "
       ]
      },
      {
       "output_type": "stream",
       "stream": "stdout",
       "text": [
        "10\n",
        "(342, 1029) \n",
        "\n",
        "5243234"
       ]
      },
      {
       "output_type": "stream",
       "stream": "stdout",
       "text": [
        " 1 1 age :  "
       ]
      },
      {
       "output_type": "stream",
       "stream": "stdout",
       "text": [
        "20\n",
        "(343, 1029) \n",
        "\n",
        "3027314"
       ]
      },
      {
       "output_type": "stream",
       "stream": "stdout",
       "text": [
        " 1 2 age :  "
       ]
      },
      {
       "output_type": "stream",
       "stream": "stdout",
       "text": [
        "35\n",
        "(343, 1030) \n",
        "\n",
        "1615781"
       ]
      },
      {
       "output_type": "stream",
       "stream": "stdout",
       "text": [
        " 2 1 age :  "
       ]
      },
      {
       "output_type": "stream",
       "stream": "stdout",
       "text": [
        "20\n",
        "(343, 1031) \n",
        "\n",
        "4537855"
       ]
      },
      {
       "output_type": "stream",
       "stream": "stdout",
       "text": [
        " 2 2 age :  "
       ]
      },
      {
       "output_type": "stream",
       "stream": "stdout",
       "text": [
        "11\n",
        "(344, 1031) \n",
        "\n",
        "4854735"
       ]
      },
      {
       "output_type": "stream",
       "stream": "stdout",
       "text": [
        " 1 2 age :  "
       ]
      },
      {
       "output_type": "stream",
       "stream": "stdout",
       "text": [
        "15\n",
        "(344, 1032) \n",
        "\n",
        "1698239"
       ]
      },
      {
       "output_type": "stream",
       "stream": "stdout",
       "text": [
        " 2 1 age :  "
       ]
      },
      {
       "output_type": "stream",
       "stream": "stdout",
       "text": [
        "10\n",
        "(344, 1033) \n",
        "\n",
        "5065050"
       ]
      },
      {
       "output_type": "stream",
       "stream": "stdout",
       "text": [
        " 2 2 age :  "
       ]
      },
      {
       "output_type": "stream",
       "stream": "stdout",
       "text": [
        "10\n",
        "(345, 1033) \n",
        "\n",
        "1997327"
       ]
      },
      {
       "output_type": "stream",
       "stream": "stdout",
       "text": [
        " 1 2 age :  "
       ]
      },
      {
       "output_type": "stream",
       "stream": "stdout",
       "text": [
        "40\n",
        "(345, 1034) \n",
        "\n",
        "1729490"
       ]
      },
      {
       "output_type": "stream",
       "stream": "stdout",
       "text": [
        " 1 2 age :  "
       ]
      },
      {
       "output_type": "stream",
       "stream": "stdout",
       "text": [
        "30\n",
        "(345, 1035) \n",
        "\n",
        "2228841"
       ]
      },
      {
       "output_type": "stream",
       "stream": "stdout",
       "text": [
        " 2 1 age :  "
       ]
      },
      {
       "output_type": "stream",
       "stream": "stdout",
       "text": [
        "30\n",
        "(345, 1036) \n",
        "\n",
        "3187900"
       ]
      },
      {
       "output_type": "stream",
       "stream": "stdout",
       "text": [
        " 2 1 age :  "
       ]
      },
      {
       "output_type": "stream",
       "stream": "stdout",
       "text": [
        "10\n",
        "(345, 1037) \n",
        "\n",
        "2260372"
       ]
      },
      {
       "output_type": "stream",
       "stream": "stdout",
       "text": [
        " 2 2 age :  "
       ]
      },
      {
       "output_type": "stream",
       "stream": "stdout",
       "text": [
        "20\n",
        "(346, 1037) \n",
        "\n",
        "1932230"
       ]
      },
      {
       "output_type": "stream",
       "stream": "stdout",
       "text": [
        " 1 2 age :  "
       ]
      },
      {
       "output_type": "stream",
       "stream": "stdout",
       "text": [
        "20\n",
        "(346, 1038) \n",
        "\n",
        "5106986"
       ]
      },
      {
       "output_type": "stream",
       "stream": "stdout",
       "text": [
        " 2 1 age :  "
       ]
      },
      {
       "output_type": "stream",
       "stream": "stdout",
       "text": [
        "28\n",
        "(346, 1039) \n",
        "\n",
        "4507935"
       ]
      },
      {
       "output_type": "stream",
       "stream": "stdout",
       "text": [
        " 1 2 age :  "
       ]
      },
      {
       "output_type": "stream",
       "stream": "stdout",
       "text": [
        "20\n",
        "(346, 1040) \n",
        "\n",
        "2845743"
       ]
      },
      {
       "output_type": "stream",
       "stream": "stdout",
       "text": [
        " 2 1 age :  "
       ]
      },
      {
       "output_type": "stream",
       "stream": "stdout",
       "text": [
        "12\n",
        "(346, 1041) \n",
        "\n",
        "1526122"
       ]
      },
      {
       "output_type": "stream",
       "stream": "stdout",
       "text": [
        " 1 2 age :  "
       ]
      },
      {
       "output_type": "stream",
       "stream": "stdout",
       "text": [
        "32\n",
        "(346, 1042) \n",
        "\n",
        "2889128"
       ]
      },
      {
       "output_type": "stream",
       "stream": "stdout",
       "text": [
        " 1 2 age :  "
       ]
      },
      {
       "output_type": "stream",
       "stream": "stdout",
       "text": [
        "10\n",
        "(346, 1043) \n",
        "\n",
        "2118498"
       ]
      },
      {
       "output_type": "stream",
       "stream": "stdout",
       "text": [
        " 1 2 age :  "
       ]
      },
      {
       "output_type": "stream",
       "stream": "stdout",
       "text": [
        "42\n",
        "(346, 1044) \n",
        "\n",
        "4545284"
       ]
      },
      {
       "output_type": "stream",
       "stream": "stdout",
       "text": [
        " 1 2 age :  "
       ]
      },
      {
       "output_type": "stream",
       "stream": "stdout",
       "text": [
        "20\n",
        "(346, 1045) \n",
        "\n",
        "3654469"
       ]
      },
      {
       "output_type": "stream",
       "stream": "stdout",
       "text": [
        " 2 1 age :  "
       ]
      },
      {
       "output_type": "stream",
       "stream": "stdout",
       "text": [
        "12\n",
        "(346, 1046) \n",
        "\n",
        "4501871"
       ]
      },
      {
       "output_type": "stream",
       "stream": "stdout",
       "text": [
        " 2 2 age :  "
       ]
      },
      {
       "output_type": "stream",
       "stream": "stdout",
       "text": [
        "15\n",
        "(347, 1046) \n",
        "\n",
        "3731821"
       ]
      },
      {
       "output_type": "stream",
       "stream": "stdout",
       "text": [
        " 2 1 age :  "
       ]
      },
      {
       "output_type": "stream",
       "stream": "stdout",
       "text": [
        "10\n",
        "(347, 1047) \n",
        "\n",
        "3904639"
       ]
      },
      {
       "output_type": "stream",
       "stream": "stdout",
       "text": [
        " 2 1 age :  "
       ]
      },
      {
       "output_type": "stream",
       "stream": "stdout",
       "text": [
        "10\n",
        "(347, 1048) \n",
        "\n",
        "5247120"
       ]
      },
      {
       "output_type": "stream",
       "stream": "stdout",
       "text": [
        " 2 2 age :  "
       ]
      },
      {
       "output_type": "stream",
       "stream": "stdout",
       "text": [
        "10\n",
        "(348, 1048) \n",
        "\n",
        "4798691"
       ]
      },
      {
       "output_type": "stream",
       "stream": "stdout",
       "text": [
        " 1 1 age :  "
       ]
      },
      {
       "output_type": "stream",
       "stream": "stdout",
       "text": [
        "25\n",
        "(349, 1048) \n",
        "\n",
        "3866510"
       ]
      },
      {
       "output_type": "stream",
       "stream": "stdout",
       "text": [
        " 2 1 age :  "
       ]
      },
      {
       "output_type": "stream",
       "stream": "stdout",
       "text": [
        "10\n",
        "(349, 1049) \n",
        "\n",
        "5310069"
       ]
      },
      {
       "output_type": "stream",
       "stream": "stdout",
       "text": [
        " 2 2 age :  "
       ]
      },
      {
       "output_type": "stream",
       "stream": "stdout",
       "text": [
        "20\n",
        "(350, 1049) \n",
        "\n",
        "2060455"
       ]
      },
      {
       "output_type": "stream",
       "stream": "stdout",
       "text": [
        " 1 2 age :  "
       ]
      },
      {
       "output_type": "stream",
       "stream": "stdout",
       "text": [
        "10\n",
        "(350, 1050) \n",
        "\n",
        "3172942"
       ]
      },
      {
       "output_type": "stream",
       "stream": "stdout",
       "text": [
        " 1 2 age :  "
       ]
      },
      {
       "output_type": "stream",
       "stream": "stdout",
       "text": [
        "15\n",
        "(350, 1051) \n",
        "\n",
        "3160509"
       ]
      },
      {
       "output_type": "stream",
       "stream": "stdout",
       "text": [
        " 1 2 age :  "
       ]
      },
      {
       "output_type": "stream",
       "stream": "stdout",
       "text": [
        "20\n",
        "(350, 1052) \n",
        "\n",
        "2253338"
       ]
      },
      {
       "output_type": "stream",
       "stream": "stdout",
       "text": [
        " 1 2 age :  "
       ]
      },
      {
       "output_type": "stream",
       "stream": "stdout",
       "text": [
        "30\n",
        "(350, 1053) \n",
        "\n",
        "3683223"
       ]
      },
      {
       "output_type": "stream",
       "stream": "stdout",
       "text": [
        " 1 2 age :  "
       ]
      },
      {
       "output_type": "stream",
       "stream": "stdout",
       "text": [
        "30\n",
        "(350, 1054) \n",
        "\n",
        "2567649"
       ]
      },
      {
       "output_type": "stream",
       "stream": "stdout",
       "text": [
        " 2 2 age :  "
       ]
      },
      {
       "output_type": "stream",
       "stream": "stdout",
       "text": [
        "20\n",
        "(351, 1054) \n",
        "\n",
        "5542379"
       ]
      },
      {
       "output_type": "stream",
       "stream": "stdout",
       "text": [
        " 1 2 age :  "
       ]
      },
      {
       "output_type": "stream",
       "stream": "stdout",
       "text": [
        "10\n",
        "(351, 1055) \n",
        "\n",
        "1511438"
       ]
      },
      {
       "output_type": "stream",
       "stream": "stdout",
       "text": [
        " 2 2 age :  "
       ]
      },
      {
       "output_type": "stream",
       "stream": "stdout",
       "text": [
        "10\n",
        "(352, 1055) \n",
        "\n",
        "3952594"
       ]
      },
      {
       "output_type": "stream",
       "stream": "stdout",
       "text": [
        " 2 2 age :  "
       ]
      },
      {
       "output_type": "stream",
       "stream": "stdout",
       "text": [
        "30\n",
        "(353, 1055) \n",
        "\n",
        "4926181"
       ]
      },
      {
       "output_type": "stream",
       "stream": "stdout",
       "text": [
        " 1 2 age :  "
       ]
      },
      {
       "output_type": "stream",
       "stream": "stdout",
       "text": [
        "10\n",
        "(353, 1056) \n",
        "\n",
        "1755339"
       ]
      },
      {
       "output_type": "stream",
       "stream": "stdout",
       "text": [
        " 1 2 age :  "
       ]
      },
      {
       "output_type": "stream",
       "stream": "stdout",
       "text": [
        "12\n",
        "(353, 1057) \n",
        "\n",
        "4853112"
       ]
      },
      {
       "output_type": "stream",
       "stream": "stdout",
       "text": [
        " 2 2 age :  "
       ]
      },
      {
       "output_type": "stream",
       "stream": "stdout",
       "text": [
        "30\n",
        "(354, 1057) \n",
        "\n",
        "4814265"
       ]
      },
      {
       "output_type": "stream",
       "stream": "stdout",
       "text": [
        " 2 1 age :  "
       ]
      },
      {
       "output_type": "stream",
       "stream": "stdout",
       "text": [
        "20\n",
        "(354, 1058) \n",
        "\n",
        "3084442"
       ]
      },
      {
       "output_type": "stream",
       "stream": "stdout",
       "text": [
        " 1 2 age :  "
       ]
      },
      {
       "output_type": "stream",
       "stream": "stdout",
       "text": [
        "10\n",
        "(354, 1059) \n",
        "\n",
        "2865413"
       ]
      },
      {
       "output_type": "stream",
       "stream": "stdout",
       "text": [
        " 1 2 age :  "
       ]
      },
      {
       "output_type": "stream",
       "stream": "stdout",
       "text": [
        "20\n",
        "(354, 1060) \n",
        "\n",
        "1915472"
       ]
      },
      {
       "output_type": "stream",
       "stream": "stdout",
       "text": [
        " 1 2 age :  "
       ]
      },
      {
       "output_type": "stream",
       "stream": "stdout",
       "text": [
        "10\n",
        "(354, 1061) \n",
        "\n",
        "4344854"
       ]
      },
      {
       "output_type": "stream",
       "stream": "stdout",
       "text": [
        " 2 1 age :  "
       ]
      },
      {
       "output_type": "stream",
       "stream": "stdout",
       "text": [
        "10\n",
        "(354, 1062) \n",
        "\n",
        "2262312"
       ]
      },
      {
       "output_type": "stream",
       "stream": "stdout",
       "text": [
        " 2 1 age :  "
       ]
      },
      {
       "output_type": "stream",
       "stream": "stdout",
       "text": [
        "18\n",
        "(354, 1063) \n",
        "\n",
        "4892423"
       ]
      },
      {
       "output_type": "stream",
       "stream": "stdout",
       "text": [
        " 1 2 age :  "
       ]
      },
      {
       "output_type": "stream",
       "stream": "stdout",
       "text": [
        "12\n",
        "(354, 1064) \n",
        "\n",
        "5112202"
       ]
      },
      {
       "output_type": "stream",
       "stream": "stdout",
       "text": [
        " 1 2 age :  "
       ]
      },
      {
       "output_type": "stream",
       "stream": "stdout",
       "text": [
        "11\n",
        "(354, 1065) \n",
        "\n",
        "3896043"
       ]
      },
      {
       "output_type": "stream",
       "stream": "stdout",
       "text": [
        " 1 2 age :  "
       ]
      },
      {
       "output_type": "stream",
       "stream": "stdout",
       "text": [
        "10\n",
        "(354, 1066) \n",
        "\n",
        "2764015"
       ]
      },
      {
       "output_type": "stream",
       "stream": "stdout",
       "text": [
        " 2 1 age :  "
       ]
      },
      {
       "output_type": "stream",
       "stream": "stdout",
       "text": [
        "10\n",
        "(354, 1067) \n",
        "\n",
        "2186258"
       ]
      },
      {
       "output_type": "stream",
       "stream": "stdout",
       "text": [
        " 1 2 age :  "
       ]
      },
      {
       "output_type": "stream",
       "stream": "stdout",
       "text": [
        "10\n",
        "(354, 1068) \n",
        "\n",
        "3069747"
       ]
      },
      {
       "output_type": "stream",
       "stream": "stdout",
       "text": [
        " 2 1 age :  "
       ]
      },
      {
       "output_type": "stream",
       "stream": "stdout",
       "text": [
        "17\n",
        "(354, 1069) \n",
        "\n",
        "1946802"
       ]
      },
      {
       "output_type": "stream",
       "stream": "stdout",
       "text": [
        " 1 2 age :  "
       ]
      },
      {
       "output_type": "stream",
       "stream": "stdout",
       "text": [
        "10\n",
        "(354, 1070) \n",
        "\n",
        "5643106"
       ]
      },
      {
       "output_type": "stream",
       "stream": "stdout",
       "text": [
        " 1 1 age :  "
       ]
      },
      {
       "output_type": "stream",
       "stream": "stdout",
       "text": [
        "10\n",
        "(355, 1070) \n",
        "\n",
        "4214839"
       ]
      },
      {
       "output_type": "stream",
       "stream": "stdout",
       "text": [
        " 1 2 age :  "
       ]
      },
      {
       "output_type": "stream",
       "stream": "stdout",
       "text": [
        "10\n",
        "(355, 1071) \n",
        "\n",
        "4648163"
       ]
      },
      {
       "output_type": "stream",
       "stream": "stdout",
       "text": [
        " 2 1 age :  "
       ]
      },
      {
       "output_type": "stream",
       "stream": "stdout",
       "text": [
        "10\n",
        "(355, 1072) \n",
        "\n",
        "1913622"
       ]
      },
      {
       "output_type": "stream",
       "stream": "stdout",
       "text": [
        " 2 2 age :  "
       ]
      },
      {
       "output_type": "stream",
       "stream": "stdout",
       "text": [
        "10\n",
        "(356, 1072) \n",
        "\n",
        "1672680"
       ]
      },
      {
       "output_type": "stream",
       "stream": "stdout",
       "text": [
        " 1 2 age :  "
       ]
      },
      {
       "output_type": "stream",
       "stream": "stdout",
       "text": [
        "30\n",
        "(356, 1073) \n",
        "\n",
        "1832283"
       ]
      },
      {
       "output_type": "stream",
       "stream": "stdout",
       "text": [
        " 1 2 age :  "
       ]
      },
      {
       "output_type": "stream",
       "stream": "stdout",
       "text": [
        "10\n",
        "(356, 1074) \n",
        "\n",
        "1667967"
       ]
      },
      {
       "output_type": "stream",
       "stream": "stdout",
       "text": [
        " 1 2 age :  "
       ]
      },
      {
       "output_type": "stream",
       "stream": "stdout",
       "text": [
        "18\n",
        "(356, 1075) \n",
        "\n",
        "5422044"
       ]
      },
      {
       "output_type": "stream",
       "stream": "stdout",
       "text": [
        " 1 2 age :  "
       ]
      },
      {
       "output_type": "stream",
       "stream": "stdout",
       "text": [
        "10\n",
        "(356, 1076) \n",
        "\n",
        "4986975"
       ]
      },
      {
       "output_type": "stream",
       "stream": "stdout",
       "text": [
        " 1 2 age :  "
       ]
      },
      {
       "output_type": "stream",
       "stream": "stdout",
       "text": [
        "30\n",
        "(356, 1077) \n",
        "\n",
        "5625605"
       ]
      },
      {
       "output_type": "stream",
       "stream": "stdout",
       "text": [
        " 1 2 age :  "
       ]
      },
      {
       "output_type": "stream",
       "stream": "stdout",
       "text": [
        "20\n",
        "(356, 1078) \n",
        "\n",
        "1814340"
       ]
      },
      {
       "output_type": "stream",
       "stream": "stdout",
       "text": [
        " 2 1 age :  "
       ]
      },
      {
       "output_type": "stream",
       "stream": "stdout",
       "text": [
        "20\n",
        "(356, 1079) \n",
        "\n",
        "2008451"
       ]
      },
      {
       "output_type": "stream",
       "stream": "stdout",
       "text": [
        " 2 2 age :  "
       ]
      },
      {
       "output_type": "stream",
       "stream": "stdout",
       "text": [
        "10\n",
        "(357, 1079) \n",
        "\n",
        "3623921"
       ]
      },
      {
       "output_type": "stream",
       "stream": "stdout",
       "text": [
        " 2 2 age :  "
       ]
      },
      {
       "output_type": "stream",
       "stream": "stdout",
       "text": [
        "30\n",
        "(358, 1079) \n",
        "\n",
        "4637730"
       ]
      },
      {
       "output_type": "stream",
       "stream": "stdout",
       "text": [
        " 2 2 age :  "
       ]
      },
      {
       "output_type": "stream",
       "stream": "stdout",
       "text": [
        "12\n",
        "(359, 1079) \n",
        "\n",
        "3800667"
       ]
      },
      {
       "output_type": "stream",
       "stream": "stdout",
       "text": [
        " 1 2 age :  "
       ]
      },
      {
       "output_type": "stream",
       "stream": "stdout",
       "text": [
        "10\n",
        "(359, 1080) \n",
        "\n",
        "1555855"
       ]
      },
      {
       "output_type": "stream",
       "stream": "stdout",
       "text": [
        " 2 1 age :  "
       ]
      },
      {
       "output_type": "stream",
       "stream": "stdout",
       "text": [
        "20\n",
        "(359, 1081) \n",
        "\n",
        "1950918"
       ]
      },
      {
       "output_type": "stream",
       "stream": "stdout",
       "text": [
        " 1 2 age :  "
       ]
      },
      {
       "output_type": "stream",
       "stream": "stdout",
       "text": [
        "18\n",
        "(359, 1082) \n",
        "\n",
        "1953127"
       ]
      },
      {
       "output_type": "stream",
       "stream": "stdout",
       "text": [
        " 1 2 age :  "
       ]
      },
      {
       "output_type": "stream",
       "stream": "stdout",
       "text": [
        "10\n",
        "(359, 1083) \n",
        "\n",
        "1955007"
       ]
      },
      {
       "output_type": "stream",
       "stream": "stdout",
       "text": [
        " 2 1 age :  "
       ]
      },
      {
       "output_type": "stream",
       "stream": "stdout",
       "text": [
        "10\n",
        "(359, 1084) \n",
        "\n",
        "2706026"
       ]
      },
      {
       "output_type": "stream",
       "stream": "stdout",
       "text": [
        " 1 2 age :  "
       ]
      },
      {
       "output_type": "stream",
       "stream": "stdout",
       "text": [
        "10\n",
        "(359, 1085) \n",
        "\n",
        "1810951"
       ]
      },
      {
       "output_type": "stream",
       "stream": "stdout",
       "text": [
        " 1 2 age :  "
       ]
      },
      {
       "output_type": "stream",
       "stream": "stdout",
       "text": [
        "10\n",
        "(359, 1086) \n",
        "\n",
        "3251646"
       ]
      },
      {
       "output_type": "stream",
       "stream": "stdout",
       "text": [
        " 2 2 age :  "
       ]
      },
      {
       "output_type": "stream",
       "stream": "stdout",
       "text": [
        "10\n",
        "(360, 1086) \n",
        "\n",
        "1460225"
       ]
      },
      {
       "output_type": "stream",
       "stream": "stdout",
       "text": [
        " 2 1 age :  "
       ]
      },
      {
       "output_type": "stream",
       "stream": "stdout",
       "text": [
        "20\n",
        "(360, 1087) \n",
        "\n",
        "3043557"
       ]
      },
      {
       "output_type": "stream",
       "stream": "stdout",
       "text": [
        " 1 2 age :  "
       ]
      },
      {
       "output_type": "stream",
       "stream": "stdout",
       "text": [
        "10\n",
        "(360, 1088) \n",
        "\n",
        "5646160"
       ]
      },
      {
       "output_type": "stream",
       "stream": "stdout",
       "text": [
        " 1 2 age :  "
       ]
      },
      {
       "output_type": "stream",
       "stream": "stdout",
       "text": [
        "30\n",
        "(360, 1089) \n",
        "\n",
        "5208072"
       ]
      },
      {
       "output_type": "stream",
       "stream": "stdout",
       "text": [
        " 1 2 age :  "
       ]
      },
      {
       "output_type": "stream",
       "stream": "stdout",
       "text": [
        "10\n",
        "(360, 1090) \n",
        "\n",
        "4885127"
       ]
      },
      {
       "output_type": "stream",
       "stream": "stdout",
       "text": [
        " 2 1 age :  "
       ]
      },
      {
       "output_type": "stream",
       "stream": "stdout",
       "text": [
        "10\n",
        "(360, 1091) \n",
        "\n",
        "1347564"
       ]
      },
      {
       "output_type": "stream",
       "stream": "stdout",
       "text": [
        " 1 2 age :  "
       ]
      },
      {
       "output_type": "stream",
       "stream": "stdout",
       "text": [
        "20\n",
        "(360, 1092) \n",
        "\n",
        "2028052"
       ]
      },
      {
       "output_type": "stream",
       "stream": "stdout",
       "text": [
        " 1 2 age :  "
       ]
      },
      {
       "output_type": "stream",
       "stream": "stdout",
       "text": [
        "30\n",
        "(360, 1093) \n",
        "\n",
        "4494308"
       ]
      },
      {
       "output_type": "stream",
       "stream": "stdout",
       "text": [
        " 1 2 age :  "
       ]
      },
      {
       "output_type": "stream",
       "stream": "stdout",
       "text": [
        "52\n",
        "(360, 1094) \n",
        "\n",
        "4045247"
       ]
      },
      {
       "output_type": "stream",
       "stream": "stdout",
       "text": [
        " 2 1 age :  "
       ]
      },
      {
       "output_type": "stream",
       "stream": "stdout",
       "text": [
        "20\n",
        "(360, 1095) \n",
        "\n",
        "1843084"
       ]
      },
      {
       "output_type": "stream",
       "stream": "stdout",
       "text": [
        " 2 2 age :  "
       ]
      },
      {
       "output_type": "stream",
       "stream": "stdout",
       "text": [
        "30\n",
        "(361, 1095) \n",
        "\n",
        "2334971"
       ]
      },
      {
       "output_type": "stream",
       "stream": "stdout",
       "text": [
        " 1 2 age :  "
       ]
      },
      {
       "output_type": "stream",
       "stream": "stdout",
       "text": [
        "10\n",
        "(361, 1096) \n",
        "\n",
        "4780555"
       ]
      },
      {
       "output_type": "stream",
       "stream": "stdout",
       "text": [
        " 1 2 age :  "
       ]
      },
      {
       "output_type": "stream",
       "stream": "stdout",
       "text": [
        "25\n",
        "(361, 1097) \n",
        "\n",
        "5214163"
       ]
      },
      {
       "output_type": "stream",
       "stream": "stdout",
       "text": [
        " 2 1 age :  "
       ]
      },
      {
       "output_type": "stream",
       "stream": "stdout",
       "text": [
        "20\n",
        "(361, 1098) \n",
        "\n",
        "2267769"
       ]
      },
      {
       "output_type": "stream",
       "stream": "stdout",
       "text": [
        " 1 2 age :  "
       ]
      },
      {
       "output_type": "stream",
       "stream": "stdout",
       "text": [
        "10\n",
        "(361, 1099) \n",
        "\n",
        "3490125"
       ]
      },
      {
       "output_type": "stream",
       "stream": "stdout",
       "text": [
        " 2 2 age :  "
       ]
      },
      {
       "output_type": "stream",
       "stream": "stdout",
       "text": [
        "18\n",
        "(362, 1099) \n",
        "\n",
        "3862131"
       ]
      },
      {
       "output_type": "stream",
       "stream": "stdout",
       "text": [
        " 2 1 age :  "
       ]
      },
      {
       "output_type": "stream",
       "stream": "stdout",
       "text": [
        "10\n",
        "(362, 1100) \n",
        "\n",
        "4426427"
       ]
      },
      {
       "output_type": "stream",
       "stream": "stdout",
       "text": [
        " 1 2 age :  "
       ]
      },
      {
       "output_type": "stream",
       "stream": "stdout",
       "text": [
        "20\n",
        "(362, 1101) \n",
        "\n",
        "5578694"
       ]
      },
      {
       "output_type": "stream",
       "stream": "stdout",
       "text": [
        " 2 2 age :  "
       ]
      },
      {
       "output_type": "stream",
       "stream": "stdout",
       "text": [
        "17\n",
        "(363, 1101) \n",
        "\n",
        "2773054"
       ]
      },
      {
       "output_type": "stream",
       "stream": "stdout",
       "text": [
        " 1 2 age :  "
       ]
      },
      {
       "output_type": "stream",
       "stream": "stdout",
       "text": [
        "40\n",
        "(363, 1102) \n",
        "\n",
        "3852257"
       ]
      },
      {
       "output_type": "stream",
       "stream": "stdout",
       "text": [
        " 1 1 age :  "
       ]
      },
      {
       "output_type": "stream",
       "stream": "stdout",
       "text": [
        "10\n",
        "(364, 1102) \n",
        "\n",
        "1952601"
       ]
      },
      {
       "output_type": "stream",
       "stream": "stdout",
       "text": [
        " 1 2 age :  "
       ]
      },
      {
       "output_type": "stream",
       "stream": "stdout",
       "text": [
        "20\n",
        "(364, 1103) \n",
        "\n",
        "2060315"
       ]
      },
      {
       "output_type": "stream",
       "stream": "stdout",
       "text": [
        " 1 2 age :  "
       ]
      },
      {
       "output_type": "stream",
       "stream": "stdout",
       "text": [
        "10\n",
        "(364, 1104) \n",
        "\n",
        "3113876"
       ]
      },
      {
       "output_type": "stream",
       "stream": "stdout",
       "text": [
        " 1 1 age :  "
       ]
      },
      {
       "output_type": "stream",
       "stream": "stdout",
       "text": [
        "18\n",
        "(365, 1104) \n",
        "\n",
        "3306617"
       ]
      },
      {
       "output_type": "stream",
       "stream": "stdout",
       "text": [
        " 1 2 age :  "
       ]
      },
      {
       "output_type": "stream",
       "stream": "stdout",
       "text": [
        "10\n",
        "(365, 1105) \n",
        "\n",
        "4671420"
       ]
      },
      {
       "output_type": "stream",
       "stream": "stdout",
       "text": [
        " 1 2 age :  "
       ]
      },
      {
       "output_type": "stream",
       "stream": "stdout",
       "text": [
        "20\n",
        "(365, 1106) \n",
        "\n",
        "1753884"
       ]
      },
      {
       "output_type": "stream",
       "stream": "stdout",
       "text": [
        " 1 1 age :  "
       ]
      },
      {
       "output_type": "stream",
       "stream": "stdout",
       "text": [
        "10\n",
        "(366, 1106) \n",
        "\n",
        "2036359"
       ]
      },
      {
       "output_type": "stream",
       "stream": "stdout",
       "text": [
        " 2 2 age :  "
       ]
      },
      {
       "output_type": "stream",
       "stream": "stdout",
       "text": [
        "20\n",
        "(367, 1106) \n",
        "\n",
        "3165251"
       ]
      },
      {
       "output_type": "stream",
       "stream": "stdout",
       "text": [
        " 1 2 age :  "
       ]
      },
      {
       "output_type": "stream",
       "stream": "stdout",
       "text": [
        "20\n",
        "(367, 1107) \n",
        "\n",
        "2034829"
       ]
      },
      {
       "output_type": "stream",
       "stream": "stdout",
       "text": [
        " 1 1 age :  "
       ]
      },
      {
       "output_type": "stream",
       "stream": "stdout",
       "text": [
        "10\n",
        "(368, 1107) \n",
        "\n",
        "2299082"
       ]
      },
      {
       "output_type": "stream",
       "stream": "stdout",
       "text": [
        " 2 1 age :  "
       ]
      },
      {
       "output_type": "stream",
       "stream": "stdout",
       "text": [
        "15\n",
        "(368, 1108) \n",
        "\n",
        "2417140"
       ]
      },
      {
       "output_type": "stream",
       "stream": "stdout",
       "text": [
        " 1 2 age :  "
       ]
      },
      {
       "output_type": "stream",
       "stream": "stdout",
       "text": [
        "22\n",
        "(368, 1109) \n",
        "\n",
        "3208998"
       ]
      },
      {
       "output_type": "stream",
       "stream": "stdout",
       "text": [
        " 1 1 age :  "
       ]
      },
      {
       "output_type": "stream",
       "stream": "stdout",
       "text": [
        "15\n",
        "(369, 1109) \n",
        "\n",
        "5251123"
       ]
      },
      {
       "output_type": "stream",
       "stream": "stdout",
       "text": [
        " 2 1 age :  "
       ]
      },
      {
       "output_type": "stream",
       "stream": "stdout",
       "text": [
        "10\n",
        "(369, 1110) \n",
        "\n",
        "4682994"
       ]
      },
      {
       "output_type": "stream",
       "stream": "stdout",
       "text": [
        " 1 2 age :  "
       ]
      },
      {
       "output_type": "stream",
       "stream": "stdout",
       "text": [
        "20\n",
        "(369, 1111) \n",
        "\n",
        "2108043"
       ]
      },
      {
       "output_type": "stream",
       "stream": "stdout",
       "text": [
        " 1 2 age :  "
       ]
      },
      {
       "output_type": "stream",
       "stream": "stdout",
       "text": [
        "10\n",
        "(369, 1112) \n",
        "\n",
        "1768787"
       ]
      },
      {
       "output_type": "stream",
       "stream": "stdout",
       "text": [
        " 2 2 age :  "
       ]
      },
      {
       "output_type": "stream",
       "stream": "stdout",
       "text": [
        "20\n",
        "(370, 1112) \n",
        "\n",
        "1976371"
       ]
      },
      {
       "output_type": "stream",
       "stream": "stdout",
       "text": [
        " 1 2 age :  "
       ]
      },
      {
       "output_type": "stream",
       "stream": "stdout",
       "text": [
        "20\n",
        "(370, 1113) \n",
        "\n",
        "1643360"
       ]
      },
      {
       "output_type": "stream",
       "stream": "stdout",
       "text": [
        " 2 2 age :  "
       ]
      },
      {
       "output_type": "stream",
       "stream": "stdout",
       "text": [
        "20\n",
        "(371, 1113) \n",
        "\n",
        "1925545"
       ]
      },
      {
       "output_type": "stream",
       "stream": "stdout",
       "text": [
        " 1 2 age :  "
       ]
      },
      {
       "output_type": "stream",
       "stream": "stdout",
       "text": [
        "10\n",
        "(371, 1114) \n",
        "\n",
        "5003239"
       ]
      },
      {
       "output_type": "stream",
       "stream": "stdout",
       "text": [
        " 1 2 age :  "
       ]
      },
      {
       "output_type": "stream",
       "stream": "stdout",
       "text": [
        "10\n",
        "(371, 1115) \n",
        "\n",
        "3221379"
       ]
      },
      {
       "output_type": "stream",
       "stream": "stdout",
       "text": [
        " 2 2 age :  "
       ]
      },
      {
       "output_type": "stream",
       "stream": "stdout",
       "text": [
        "10\n",
        "(372, 1115) \n",
        "\n",
        "1670181"
       ]
      },
      {
       "output_type": "stream",
       "stream": "stdout",
       "text": [
        " 1 2 age :  "
       ]
      },
      {
       "output_type": "stream",
       "stream": "stdout",
       "text": [
        "10\n",
        "(372, 1116) \n",
        "\n",
        "1514416"
       ]
      },
      {
       "output_type": "stream",
       "stream": "stdout",
       "text": [
        " 1 2 age :  "
       ]
      },
      {
       "output_type": "stream",
       "stream": "stdout",
       "text": [
        "30\n",
        "(372, 1117) \n",
        "\n",
        "4515880"
       ]
      },
      {
       "output_type": "stream",
       "stream": "stdout",
       "text": [
        " 1 2 age :  "
       ]
      },
      {
       "output_type": "stream",
       "stream": "stdout",
       "text": [
        "10\n",
        "(372, 1118) \n",
        "\n",
        "2102439"
       ]
      },
      {
       "output_type": "stream",
       "stream": "stdout",
       "text": [
        " 1 2 age :  "
       ]
      },
      {
       "output_type": "stream",
       "stream": "stdout",
       "text": [
        "10\n",
        "(372, 1119) \n",
        "\n",
        "3461144"
       ]
      },
      {
       "output_type": "stream",
       "stream": "stdout",
       "text": [
        " 1 2 age :  "
       ]
      },
      {
       "output_type": "stream",
       "stream": "stdout",
       "text": [
        "10\n",
        "(372, 1120) \n",
        "\n",
        "5398029"
       ]
      },
      {
       "output_type": "stream",
       "stream": "stdout",
       "text": [
        " 1 2 age :  "
       ]
      },
      {
       "output_type": "stream",
       "stream": "stdout",
       "text": [
        "8\n",
        "(372, 1121) \n",
        "\n",
        "3138326"
       ]
      },
      {
       "output_type": "stream",
       "stream": "stdout",
       "text": [
        " 2 2 age :  "
       ]
      },
      {
       "output_type": "stream",
       "stream": "stdout",
       "text": [
        "10\n",
        "(373, 1121) \n",
        "\n",
        "3350747"
       ]
      },
      {
       "output_type": "stream",
       "stream": "stdout",
       "text": [
        " 2 1 age :  "
       ]
      },
      {
       "output_type": "stream",
       "stream": "stdout",
       "text": [
        "10\n",
        "(373, 1122) \n",
        "\n",
        "1635878"
       ]
      },
      {
       "output_type": "stream",
       "stream": "stdout",
       "text": [
        " 2 1 age :  "
       ]
      },
      {
       "output_type": "stream",
       "stream": "stdout",
       "text": [
        "10\n",
        "(373, 1123) \n",
        "\n",
        "1693747"
       ]
      },
      {
       "output_type": "stream",
       "stream": "stdout",
       "text": [
        " 2 1 age :  "
       ]
      },
      {
       "output_type": "stream",
       "stream": "stdout",
       "text": [
        "10\n",
        "(373, 1124) \n",
        "\n",
        "1766983"
       ]
      },
      {
       "output_type": "stream",
       "stream": "stdout",
       "text": [
        " 1 2 age :  "
       ]
      },
      {
       "output_type": "stream",
       "stream": "stdout",
       "text": [
        "10\n",
        "(373, 1125) \n",
        "\n",
        "2524673"
       ]
      },
      {
       "output_type": "stream",
       "stream": "stdout",
       "text": [
        " 1 2 age :  "
       ]
      },
      {
       "output_type": "stream",
       "stream": "stdout",
       "text": [
        "10\n",
        "(373, 1126) \n",
        "\n",
        "1896206"
       ]
      },
      {
       "output_type": "stream",
       "stream": "stdout",
       "text": [
        " 2 2 age :  "
       ]
      },
      {
       "output_type": "stream",
       "stream": "stdout",
       "text": [
        "20\n",
        "(374, 1126) \n",
        "\n",
        "1549125"
       ]
      },
      {
       "output_type": "stream",
       "stream": "stdout",
       "text": [
        " 2 1 age :  "
       ]
      },
      {
       "output_type": "stream",
       "stream": "stdout",
       "text": [
        "30\n",
        "(374, 1127) \n",
        "\n",
        "3763908"
       ]
      },
      {
       "output_type": "stream",
       "stream": "stdout",
       "text": [
        " 1 2 age :  "
       ]
      },
      {
       "output_type": "stream",
       "stream": "stdout",
       "text": [
        "10\n",
        "(374, 1128) \n",
        "\n",
        "3917281"
       ]
      },
      {
       "output_type": "stream",
       "stream": "stdout",
       "text": [
        " 1 2 age :  "
       ]
      },
      {
       "output_type": "stream",
       "stream": "stdout",
       "text": [
        "20\n",
        "(374, 1129) \n",
        "\n",
        "2585247"
       ]
      },
      {
       "output_type": "stream",
       "stream": "stdout",
       "text": [
        " 2 2 age :  "
       ]
      },
      {
       "output_type": "stream",
       "stream": "stdout",
       "text": [
        "10\n",
        "(375, 1129) \n",
        "\n",
        "1922842"
       ]
      },
      {
       "output_type": "stream",
       "stream": "stdout",
       "text": [
        " 2 2 age :  "
       ]
      },
      {
       "output_type": "stream",
       "stream": "stdout",
       "text": [
        "20\n",
        "(376, 1129) \n",
        "\n",
        "4592322"
       ]
      },
      {
       "output_type": "stream",
       "stream": "stdout",
       "text": [
        " 1 2 age :  "
       ]
      },
      {
       "output_type": "stream",
       "stream": "stdout",
       "text": [
        "20\n",
        "(376, 1130) \n",
        "\n",
        "3404482"
       ]
      },
      {
       "output_type": "stream",
       "stream": "stdout",
       "text": [
        " 1 2 age :  "
       ]
      },
      {
       "output_type": "stream",
       "stream": "stdout",
       "text": [
        "20\n",
        "(376, 1131) \n",
        "\n",
        "1812676"
       ]
      },
      {
       "output_type": "stream",
       "stream": "stdout",
       "text": [
        " 1 2 age :  "
       ]
      },
      {
       "output_type": "stream",
       "stream": "stdout",
       "text": [
        "30\n",
        "(376, 1132) \n",
        "\n",
        "4967073"
       ]
      },
      {
       "output_type": "stream",
       "stream": "stdout",
       "text": [
        " 2 1 age :  "
       ]
      },
      {
       "output_type": "stream",
       "stream": "stdout",
       "text": [
        "10\n",
        "(376, 1133) \n",
        "\n",
        "3253984"
       ]
      },
      {
       "output_type": "stream",
       "stream": "stdout",
       "text": [
        " 1 2 age :  "
       ]
      },
      {
       "output_type": "stream",
       "stream": "stdout",
       "text": [
        "10\n",
        "(376, 1134) \n",
        "\n",
        "1660745"
       ]
      },
      {
       "output_type": "stream",
       "stream": "stdout",
       "text": [
        " 1 2 age :  "
       ]
      },
      {
       "output_type": "stream",
       "stream": "stdout",
       "text": [
        "10\n",
        "(376, 1135) \n",
        "\n",
        "4932271"
       ]
      },
      {
       "output_type": "stream",
       "stream": "stdout",
       "text": [
        " 1 2 age :  "
       ]
      },
      {
       "output_type": "stream",
       "stream": "stdout",
       "text": [
        "10\n",
        "(376, 1136) \n",
        "\n",
        "3188545"
       ]
      },
      {
       "output_type": "stream",
       "stream": "stdout",
       "text": [
        " 1 2 age :  "
       ]
      },
      {
       "output_type": "stream",
       "stream": "stdout",
       "text": [
        "20\n",
        "(376, 1137) \n",
        "\n",
        "1825349"
       ]
      },
      {
       "output_type": "stream",
       "stream": "stdout",
       "text": [
        " 1 2 age :  "
       ]
      },
      {
       "output_type": "stream",
       "stream": "stdout",
       "text": [
        "10\n",
        "(376, 1138) \n",
        "\n",
        "2753499"
       ]
      },
      {
       "output_type": "stream",
       "stream": "stdout",
       "text": [
        " 1 2 age :  "
       ]
      },
      {
       "output_type": "stream",
       "stream": "stdout",
       "text": [
        "10\n",
        "(376, 1139) \n",
        "\n",
        "1775505"
       ]
      },
      {
       "output_type": "stream",
       "stream": "stdout",
       "text": [
        " 2 1 age :  "
       ]
      },
      {
       "output_type": "stream",
       "stream": "stdout",
       "text": [
        "10\n",
        "(376, 1140) \n",
        "\n",
        "4075717"
       ]
      },
      {
       "output_type": "stream",
       "stream": "stdout",
       "text": [
        " 2 1 age :  "
       ]
      },
      {
       "output_type": "stream",
       "stream": "stdout",
       "text": [
        "20\n",
        "(376, 1141) \n",
        "\n",
        "1659570"
       ]
      },
      {
       "output_type": "stream",
       "stream": "stdout",
       "text": [
        " 2 1 age :  "
       ]
      },
      {
       "output_type": "stream",
       "stream": "stdout",
       "text": [
        "25\n",
        "(376, 1142) \n",
        "\n",
        "3113975"
       ]
      },
      {
       "output_type": "stream",
       "stream": "stdout",
       "text": [
        " 2 1 age :  "
       ]
      },
      {
       "output_type": "stream",
       "stream": "stdout",
       "text": [
        "10\n",
        "(376, 1143) \n",
        "\n",
        "4808444"
       ]
      },
      {
       "output_type": "stream",
       "stream": "stdout",
       "text": [
        " 1 2 age :  "
       ]
      },
      {
       "output_type": "stream",
       "stream": "stdout",
       "text": [
        "10\n",
        "(376, 1144) \n",
        "\n",
        "4125451"
       ]
      },
      {
       "output_type": "stream",
       "stream": "stdout",
       "text": [
        " 1 2 age :  "
       ]
      },
      {
       "output_type": "stream",
       "stream": "stdout",
       "text": [
        "10\n",
        "(376, 1145) \n",
        "\n",
        "2107695"
       ]
      },
      {
       "output_type": "stream",
       "stream": "stdout",
       "text": [
        " 1 2 age :  "
       ]
      },
      {
       "output_type": "stream",
       "stream": "stdout",
       "text": [
        "10\n",
        "(376, 1146) \n",
        "\n",
        "2276023"
       ]
      },
      {
       "output_type": "stream",
       "stream": "stdout",
       "text": [
        " 2 1 age :  "
       ]
      },
      {
       "output_type": "stream",
       "stream": "stdout",
       "text": [
        "10\n",
        "(376, 1147) \n",
        "\n",
        "1675037"
       ]
      },
      {
       "output_type": "stream",
       "stream": "stdout",
       "text": [
        " 2 2 age :  "
       ]
      },
      {
       "output_type": "stream",
       "stream": "stdout",
       "text": [
        "10\n",
        "(377, 1147) \n",
        "\n",
        "1695562"
       ]
      },
      {
       "output_type": "stream",
       "stream": "stdout",
       "text": [
        " 1 2 age :  "
       ]
      },
      {
       "output_type": "stream",
       "stream": "stdout",
       "text": [
        "10\n",
        "(377, 1148) \n",
        "\n",
        "1834687"
       ]
      },
      {
       "output_type": "stream",
       "stream": "stdout",
       "text": [
        " 1 2 age :  "
       ]
      },
      {
       "output_type": "stream",
       "stream": "stdout",
       "text": [
        "30\n",
        "(377, 1149) \n",
        "\n",
        "5614968"
       ]
      },
      {
       "output_type": "stream",
       "stream": "stdout",
       "text": [
        " 1 2 age :  "
       ]
      },
      {
       "output_type": "stream",
       "stream": "stdout",
       "text": [
        "38\n",
        "(377, 1150) \n",
        "\n",
        "1430010"
       ]
      },
      {
       "output_type": "stream",
       "stream": "stdout",
       "text": [
        " 2 1 age :  "
       ]
      },
      {
       "output_type": "stream",
       "stream": "stdout",
       "text": [
        "20\n",
        "(377, 1151) \n",
        "\n",
        "1790529"
       ]
      },
      {
       "output_type": "stream",
       "stream": "stdout",
       "text": [
        " 1 1 age :  "
       ]
      },
      {
       "output_type": "stream",
       "stream": "stdout",
       "text": [
        "10\n",
        "(378, 1151) \n",
        "\n",
        "3713331"
       ]
      },
      {
       "output_type": "stream",
       "stream": "stdout",
       "text": [
        " 2 2 age :  "
       ]
      },
      {
       "output_type": "stream",
       "stream": "stdout",
       "text": [
        "20\n",
        "(379, 1151) \n",
        "\n",
        "5633400"
       ]
      },
      {
       "output_type": "stream",
       "stream": "stdout",
       "text": [
        " 1 2 age :  "
       ]
      },
      {
       "output_type": "stream",
       "stream": "stdout",
       "text": [
        "10\n",
        "(379, 1152) \n",
        "\n",
        "2047298"
       ]
      },
      {
       "output_type": "stream",
       "stream": "stdout",
       "text": [
        " 1 2 age :  "
       ]
      },
      {
       "output_type": "stream",
       "stream": "stdout",
       "text": [
        "10\n",
        "(379, 1153) \n",
        "\n",
        "1634278"
       ]
      },
      {
       "output_type": "stream",
       "stream": "stdout",
       "text": [
        " 1 1 age :  "
       ]
      },
      {
       "output_type": "stream",
       "stream": "stdout",
       "text": [
        "10\n",
        "(380, 1153) \n",
        "\n",
        "5370970"
       ]
      },
      {
       "output_type": "stream",
       "stream": "stdout",
       "text": [
        " 1 2 age :  "
       ]
      },
      {
       "output_type": "stream",
       "stream": "stdout",
       "text": [
        "25\n",
        "(380, 1154) \n",
        "\n",
        "3794004"
       ]
      },
      {
       "output_type": "stream",
       "stream": "stdout",
       "text": [
        " 2 2 age :  "
       ]
      },
      {
       "output_type": "stream",
       "stream": "stdout",
       "text": [
        "20\n",
        "(381, 1154) \n",
        "\n",
        "2750290"
       ]
      },
      {
       "output_type": "stream",
       "stream": "stdout",
       "text": [
        " 2 1 age :  "
       ]
      },
      {
       "output_type": "stream",
       "stream": "stdout",
       "text": [
        "50\n",
        "(381, 1155) \n",
        "\n",
        "3681136"
       ]
      },
      {
       "output_type": "stream",
       "stream": "stdout",
       "text": [
        " 1 2 age :  "
       ]
      },
      {
       "output_type": "stream",
       "stream": "stdout",
       "text": [
        "20\n",
        "(381, 1156) \n",
        "\n",
        "5107207"
       ]
      },
      {
       "output_type": "stream",
       "stream": "stdout",
       "text": [
        " 1 2 age :  "
       ]
      },
      {
       "output_type": "stream",
       "stream": "stdout",
       "text": [
        "37\n",
        "(381, 1157) \n",
        "\n",
        "3279961"
       ]
      },
      {
       "output_type": "stream",
       "stream": "stdout",
       "text": [
        " 2 2 age :  "
       ]
      },
      {
       "output_type": "stream",
       "stream": "stdout",
       "text": [
        "10\n",
        "(382, 1157) \n",
        "\n",
        "2143348"
       ]
      },
      {
       "output_type": "stream",
       "stream": "stdout",
       "text": [
        " 1 2 age :  "
       ]
      },
      {
       "output_type": "stream",
       "stream": "stdout",
       "text": [
        "24\n",
        "(382, 1158) \n",
        "\n",
        "1897911"
       ]
      },
      {
       "output_type": "stream",
       "stream": "stdout",
       "text": [
        " 1 2 age :  "
       ]
      },
      {
       "output_type": "stream",
       "stream": "stdout",
       "text": [
        "20\n",
        "(382, 1159) \n",
        "\n",
        "3557742"
       ]
      },
      {
       "output_type": "stream",
       "stream": "stdout",
       "text": [
        " 1 2 age :  "
       ]
      },
      {
       "output_type": "stream",
       "stream": "stdout",
       "text": [
        "30\n",
        "(382, 1160) \n",
        "\n",
        "1730115"
       ]
      },
      {
       "output_type": "stream",
       "stream": "stdout",
       "text": [
        " 1 2 age :  "
       ]
      },
      {
       "output_type": "stream",
       "stream": "stdout",
       "text": [
        "10\n",
        "(382, 1161) \n",
        "\n",
        "2592072"
       ]
      },
      {
       "output_type": "stream",
       "stream": "stdout",
       "text": [
        " 1 2 age :  "
       ]
      },
      {
       "output_type": "stream",
       "stream": "stdout",
       "text": [
        "50\n",
        "(382, 1162) \n",
        "\n",
        "3356142"
       ]
      },
      {
       "output_type": "stream",
       "stream": "stdout",
       "text": [
        " 2 2 age :  "
       ]
      },
      {
       "output_type": "stream",
       "stream": "stdout",
       "text": [
        "20\n",
        "(383, 1162) \n",
        "\n",
        "1745421"
       ]
      },
      {
       "output_type": "stream",
       "stream": "stdout",
       "text": [
        " 1 2 age :  "
       ]
      },
      {
       "output_type": "stream",
       "stream": "stdout",
       "text": [
        "10\n",
        "(383, 1163) \n",
        "\n",
        "1946993"
       ]
      },
      {
       "output_type": "stream",
       "stream": "stdout",
       "text": [
        " 1 2 age :  "
       ]
      },
      {
       "output_type": "stream",
       "stream": "stdout",
       "text": [
        "10\n",
        "(383, 1164) \n",
        "\n",
        "4595690"
       ]
      },
      {
       "output_type": "stream",
       "stream": "stdout",
       "text": [
        " 1 2 age :  "
       ]
      },
      {
       "output_type": "stream",
       "stream": "stdout",
       "text": [
        "10\n",
        "(383, 1165) \n",
        "\n",
        "1667092"
       ]
      },
      {
       "output_type": "stream",
       "stream": "stdout",
       "text": [
        " 1 2 age :  "
       ]
      },
      {
       "output_type": "stream",
       "stream": "stdout",
       "text": [
        "20\n",
        "(383, 1166) \n",
        "\n",
        "2097351"
       ]
      },
      {
       "output_type": "stream",
       "stream": "stdout",
       "text": [
        " 1 2 age :  "
       ]
      },
      {
       "output_type": "stream",
       "stream": "stdout",
       "text": [
        "10\n",
        "(383, 1167) \n",
        "\n",
        "5345412"
       ]
      },
      {
       "output_type": "stream",
       "stream": "stdout",
       "text": [
        " 2 2 age :  "
       ]
      },
      {
       "output_type": "stream",
       "stream": "stdout",
       "text": [
        "10\n",
        "(384, 1167) \n",
        "\n",
        "5337720"
       ]
      },
      {
       "output_type": "stream",
       "stream": "stdout",
       "text": [
        " 1 2 age :  "
       ]
      },
      {
       "output_type": "stream",
       "stream": "stdout",
       "text": [
        "10\n",
        "(384, 1168) \n",
        "\n",
        "4504453"
       ]
      },
      {
       "output_type": "stream",
       "stream": "stdout",
       "text": [
        " 1 2 age :  "
       ]
      },
      {
       "output_type": "stream",
       "stream": "stdout",
       "text": [
        "30\n",
        "(384, 1169) \n",
        "\n",
        "2385294"
       ]
      },
      {
       "output_type": "stream",
       "stream": "stdout",
       "text": [
        " 1 2 age :  "
       ]
      },
      {
       "output_type": "stream",
       "stream": "stdout",
       "text": [
        "10\n",
        "(384, 1170) \n",
        "\n",
        "2100586"
       ]
      },
      {
       "output_type": "stream",
       "stream": "stdout",
       "text": [
        " 1 2 age :  "
       ]
      },
      {
       "output_type": "stream",
       "stream": "stdout",
       "text": [
        "40\n",
        "(384, 1171) \n",
        "\n",
        "2337543"
       ]
      },
      {
       "output_type": "stream",
       "stream": "stdout",
       "text": [
        " 1 2 age :  "
       ]
      },
      {
       "output_type": "stream",
       "stream": "stdout",
       "text": [
        "20\n",
        "(384, 1172) \n",
        "\n",
        "5270917"
       ]
      },
      {
       "output_type": "stream",
       "stream": "stdout",
       "text": [
        " 2 1 age :  "
       ]
      },
      {
       "output_type": "stream",
       "stream": "stdout",
       "text": [
        "18\n",
        "(384, 1173) \n",
        "\n",
        "2539753"
       ]
      },
      {
       "output_type": "stream",
       "stream": "stdout",
       "text": [
        " 2 1 age :  "
       ]
      },
      {
       "output_type": "stream",
       "stream": "stdout",
       "text": [
        "60\n",
        "(384, 1174) \n",
        "\n",
        "4109318"
       ]
      },
      {
       "output_type": "stream",
       "stream": "stdout",
       "text": [
        " 1 2 age :  "
       ]
      },
      {
       "output_type": "stream",
       "stream": "stdout",
       "text": [
        "40\n",
        "(384, 1175) \n",
        "\n",
        "1940456"
       ]
      },
      {
       "output_type": "stream",
       "stream": "stdout",
       "text": [
        " 2 2 age :  "
       ]
      },
      {
       "output_type": "stream",
       "stream": "stdout",
       "text": [
        "10\n",
        "(385, 1175) \n",
        "\n",
        "1663627"
       ]
      },
      {
       "output_type": "stream",
       "stream": "stdout",
       "text": [
        " 2 1 age :  "
       ]
      },
      {
       "output_type": "stream",
       "stream": "stdout",
       "text": [
        "10\n",
        "(385, 1176) \n",
        "\n",
        "1586875"
       ]
      },
      {
       "output_type": "stream",
       "stream": "stdout",
       "text": [
        " 1 2 age :  "
       ]
      },
      {
       "output_type": "stream",
       "stream": "stdout",
       "text": [
        "30\n",
        "(385, 1177) \n",
        "\n",
        "3151287"
       ]
      },
      {
       "output_type": "stream",
       "stream": "stdout",
       "text": [
        " 2 1 age :  "
       ]
      },
      {
       "output_type": "stream",
       "stream": "stdout",
       "text": [
        "28\n",
        "(385, 1178) \n",
        "\n",
        "2887123"
       ]
      },
      {
       "output_type": "stream",
       "stream": "stdout",
       "text": [
        " 1 2 age :  "
       ]
      },
      {
       "output_type": "stream",
       "stream": "stdout",
       "text": [
        "20\n",
        "(385, 1179) \n",
        "\n",
        "4282600"
       ]
      },
      {
       "output_type": "stream",
       "stream": "stdout",
       "text": [
        " 1 2 age :  "
       ]
      },
      {
       "output_type": "stream",
       "stream": "stdout",
       "text": [
        "10\n",
        "(385, 1180) \n",
        "\n",
        "5186524"
       ]
      },
      {
       "output_type": "stream",
       "stream": "stdout",
       "text": [
        " 2 1 age :  "
       ]
      },
      {
       "output_type": "stream",
       "stream": "stdout",
       "text": [
        "30\n",
        "(385, 1181) \n",
        "\n",
        "969846"
       ]
      },
      {
       "output_type": "stream",
       "stream": "stdout",
       "text": [
        " 1 2 age :  "
       ]
      },
      {
       "output_type": "stream",
       "stream": "stdout",
       "text": [
        "30\n",
        "(385, 1182) \n",
        "\n",
        "5523776"
       ]
      },
      {
       "output_type": "stream",
       "stream": "stdout",
       "text": [
        " 1 2 age :  "
       ]
      },
      {
       "output_type": "stream",
       "stream": "stdout",
       "text": [
        "10\n",
        "(385, 1183) \n",
        "\n",
        "1691787"
       ]
      },
      {
       "output_type": "stream",
       "stream": "stdout",
       "text": [
        " 2 2 age :  "
       ]
      },
      {
       "output_type": "stream",
       "stream": "stdout",
       "text": [
        "20\n",
        "(386, 1183) \n",
        "\n",
        "5504483"
       ]
      },
      {
       "output_type": "stream",
       "stream": "stdout",
       "text": [
        " 1 2 age :  "
       ]
      },
      {
       "output_type": "stream",
       "stream": "stdout",
       "text": [
        "10\n",
        "(386, 1184) \n",
        "\n",
        "1850016"
       ]
      },
      {
       "output_type": "stream",
       "stream": "stdout",
       "text": [
        " 2 2 age :  "
       ]
      },
      {
       "output_type": "stream",
       "stream": "stdout",
       "text": [
        "20\n",
        "(387, 1184) \n",
        "\n",
        "1917143"
       ]
      },
      {
       "output_type": "stream",
       "stream": "stdout",
       "text": [
        " 1 2 age :  "
       ]
      },
      {
       "output_type": "stream",
       "stream": "stdout",
       "text": [
        "40\n",
        "(387, 1185) \n",
        "\n",
        "3249194"
       ]
      },
      {
       "output_type": "stream",
       "stream": "stdout",
       "text": [
        " 1 2 age :  "
       ]
      },
      {
       "output_type": "stream",
       "stream": "stdout",
       "text": [
        "10\n",
        "(387, 1186) \n",
        "\n",
        "3937204"
       ]
      },
      {
       "output_type": "stream",
       "stream": "stdout",
       "text": [
        " 1 2 age :  "
       ]
      },
      {
       "output_type": "stream",
       "stream": "stdout",
       "text": [
        "10\n",
        "(387, 1187) \n",
        "\n",
        "1748063"
       ]
      },
      {
       "output_type": "stream",
       "stream": "stdout",
       "text": [
        " 1 2 age :  "
       ]
      },
      {
       "output_type": "stream",
       "stream": "stdout",
       "text": [
        "10\n",
        "(387, 1188) \n",
        "\n",
        "1818119"
       ]
      },
      {
       "output_type": "stream",
       "stream": "stdout",
       "text": [
        " 1 2 age :  "
       ]
      },
      {
       "output_type": "stream",
       "stream": "stdout",
       "text": [
        "10\n",
        "(387, 1189) \n",
        "\n",
        "1768918"
       ]
      },
      {
       "output_type": "stream",
       "stream": "stdout",
       "text": [
        " 1 2 age :  "
       ]
      },
      {
       "output_type": "stream",
       "stream": "stdout",
       "text": [
        "20\n",
        "(387, 1190) \n",
        "\n",
        "1654232"
       ]
      },
      {
       "output_type": "stream",
       "stream": "stdout",
       "text": [
        " 1 2 age :  "
       ]
      },
      {
       "output_type": "stream",
       "stream": "stdout",
       "text": [
        "48\n",
        "(387, 1191) \n",
        "\n",
        "1807457"
       ]
      },
      {
       "output_type": "stream",
       "stream": "stdout",
       "text": [
        " 1 2 age :  "
       ]
      },
      {
       "output_type": "stream",
       "stream": "stdout",
       "text": [
        "40\n",
        "(387, 1192) \n",
        "\n",
        "5211594"
       ]
      },
      {
       "output_type": "stream",
       "stream": "stdout",
       "text": [
        " 1 2 age :  "
       ]
      },
      {
       "output_type": "stream",
       "stream": "stdout",
       "text": [
        "10\n",
        "(387, 1193) \n",
        "\n",
        "2165327"
       ]
      },
      {
       "output_type": "stream",
       "stream": "stdout",
       "text": [
        " 1 2 age :  "
       ]
      },
      {
       "output_type": "stream",
       "stream": "stdout",
       "text": [
        "10\n",
        "(387, 1194) \n",
        "\n",
        "3351930"
       ]
      },
      {
       "output_type": "stream",
       "stream": "stdout",
       "text": [
        " 1 2 age :  "
       ]
      },
      {
       "output_type": "stream",
       "stream": "stdout",
       "text": [
        "10\n",
        "(387, 1195) \n",
        "\n",
        "868138"
       ]
      },
      {
       "output_type": "stream",
       "stream": "stdout",
       "text": [
        " 2 2 age :  "
       ]
      },
      {
       "output_type": "stream",
       "stream": "stdout",
       "text": [
        "10\n",
        "(388, 1195) \n",
        "\n",
        "4364091"
       ]
      },
      {
       "output_type": "stream",
       "stream": "stdout",
       "text": [
        " 2 1 age :  "
       ]
      },
      {
       "output_type": "stream",
       "stream": "stdout",
       "text": [
        "10\n",
        "(388, 1196) \n",
        "\n",
        "3870513"
       ]
      },
      {
       "output_type": "stream",
       "stream": "stdout",
       "text": [
        " 1 2 age :  "
       ]
      },
      {
       "output_type": "stream",
       "stream": "stdout",
       "text": [
        "10\n",
        "(388, 1197) \n",
        "\n",
        "5021888"
       ]
      },
      {
       "output_type": "stream",
       "stream": "stdout",
       "text": [
        " 2 1 age :  "
       ]
      },
      {
       "output_type": "stream",
       "stream": "stdout",
       "text": [
        "10\n",
        "(388, 1198) \n",
        "\n",
        "4000914"
       ]
      },
      {
       "output_type": "stream",
       "stream": "stdout",
       "text": [
        " 1 2 age :  "
       ]
      },
      {
       "output_type": "stream",
       "stream": "stdout",
       "text": [
        "10\n",
        "(388, 1199) \n",
        "\n",
        "5208340"
       ]
      },
      {
       "output_type": "stream",
       "stream": "stdout",
       "text": [
        " 1 2 age :  "
       ]
      },
      {
       "output_type": "stream",
       "stream": "stdout",
       "text": [
        "10\n",
        "(388, 1200) \n",
        "\n",
        "2241091"
       ]
      },
      {
       "output_type": "stream",
       "stream": "stdout",
       "text": [
        " 1 2 age :  "
       ]
      },
      {
       "output_type": "stream",
       "stream": "stdout",
       "text": [
        "10\n",
        "(388, 1201) \n",
        "\n",
        "3758527"
       ]
      },
      {
       "output_type": "stream",
       "stream": "stdout",
       "text": [
        " 2 2 age :  "
       ]
      },
      {
       "output_type": "stream",
       "stream": "stdout",
       "text": [
        "10\n",
        "(389, 1201) \n",
        "\n",
        "4429014"
       ]
      },
      {
       "output_type": "stream",
       "stream": "stdout",
       "text": [
        " 2 2 age :  "
       ]
      },
      {
       "output_type": "stream",
       "stream": "stdout",
       "text": [
        "42\n",
        "(390, 1201) \n",
        "\n",
        "2248196"
       ]
      },
      {
       "output_type": "stream",
       "stream": "stdout",
       "text": [
        " 2 2 age :  "
       ]
      },
      {
       "output_type": "stream",
       "stream": "stdout",
       "text": [
        "10\n",
        "(391, 1201) \n",
        "\n",
        "2342527"
       ]
      },
      {
       "output_type": "stream",
       "stream": "stdout",
       "text": [
        " 1 2 age :  "
       ]
      },
      {
       "output_type": "stream",
       "stream": "stdout",
       "text": [
        "10\n",
        "(391, 1202) \n",
        "\n",
        "2303138"
       ]
      },
      {
       "output_type": "stream",
       "stream": "stdout",
       "text": [
        " 2 2 age :  "
       ]
      },
      {
       "output_type": "stream",
       "stream": "stdout",
       "text": [
        "20\n",
        "(392, 1202) \n",
        "\n",
        "5142641"
       ]
      },
      {
       "output_type": "stream",
       "stream": "stdout",
       "text": [
        " 1 2 age :  "
       ]
      },
      {
       "output_type": "stream",
       "stream": "stdout",
       "text": [
        "20\n",
        "(392, 1203) \n",
        "\n",
        "1118326"
       ]
      },
      {
       "output_type": "stream",
       "stream": "stdout",
       "text": [
        " 1 2 age :  "
       ]
      },
      {
       "output_type": "stream",
       "stream": "stdout",
       "text": [
        "20\n",
        "(392, 1204) \n",
        "\n",
        "1876503"
       ]
      },
      {
       "output_type": "stream",
       "stream": "stdout",
       "text": [
        " 2 1 age :  "
       ]
      },
      {
       "output_type": "stream",
       "stream": "stdout",
       "text": [
        "10\n",
        "(392, 1205) \n",
        "\n",
        "506410"
       ]
      },
      {
       "output_type": "stream",
       "stream": "stdout",
       "text": [
        " 1 2 age :  "
       ]
      },
      {
       "output_type": "stream",
       "stream": "stdout",
       "text": [
        "20\n",
        "(392, 1206) \n",
        "\n",
        "2515522"
       ]
      },
      {
       "output_type": "stream",
       "stream": "stdout",
       "text": [
        " 2 1 age :  "
       ]
      },
      {
       "output_type": "stream",
       "stream": "stdout",
       "text": [
        "10\n",
        "(392, 1207) \n",
        "\n",
        "3268783"
       ]
      },
      {
       "output_type": "stream",
       "stream": "stdout",
       "text": [
        " 1 2 age :  "
       ]
      },
      {
       "output_type": "stream",
       "stream": "stdout",
       "text": [
        "52\n",
        "(392, 1208) \n",
        "\n",
        "1752285"
       ]
      },
      {
       "output_type": "stream",
       "stream": "stdout",
       "text": [
        " 2 2 age :  "
       ]
      },
      {
       "output_type": "stream",
       "stream": "stdout",
       "text": [
        "25\n",
        "(393, 1208) \n",
        "\n",
        "3456542"
       ]
      },
      {
       "output_type": "stream",
       "stream": "stdout",
       "text": [
        " 1 2 age :  "
       ]
      },
      {
       "output_type": "stream",
       "stream": "stdout",
       "text": [
        "10\n",
        "(393, 1209) \n",
        "\n",
        "2078242"
       ]
      },
      {
       "output_type": "stream",
       "stream": "stdout",
       "text": [
        " 1 2 age :  "
       ]
      },
      {
       "output_type": "stream",
       "stream": "stdout",
       "text": [
        "42\n",
        "(393, 1210) \n",
        "\n",
        "2459523"
       ]
      },
      {
       "output_type": "stream",
       "stream": "stdout",
       "text": [
        " 2 1 age :  "
       ]
      },
      {
       "output_type": "stream",
       "stream": "stdout",
       "text": [
        "20\n",
        "(393, 1211) \n",
        "\n",
        "4974380"
       ]
      },
      {
       "output_type": "stream",
       "stream": "stdout",
       "text": [
        " 2 2 age :  "
       ]
      },
      {
       "output_type": "stream",
       "stream": "stdout",
       "text": [
        "30\n",
        "(394, 1211) \n",
        "\n",
        "5583723"
       ]
      },
      {
       "output_type": "stream",
       "stream": "stdout",
       "text": [
        " 2 2 age :  "
       ]
      },
      {
       "output_type": "stream",
       "stream": "stdout",
       "text": [
        "10\n",
        "(395, 1211) \n",
        "\n",
        "3853501"
       ]
      },
      {
       "output_type": "stream",
       "stream": "stdout",
       "text": [
        " 2 2 age :  "
       ]
      },
      {
       "output_type": "stream",
       "stream": "stdout",
       "text": [
        "20\n",
        "(396, 1211) \n",
        "\n",
        "4484083"
       ]
      },
      {
       "output_type": "stream",
       "stream": "stdout",
       "text": [
        " 1 2 age :  "
       ]
      },
      {
       "output_type": "stream",
       "stream": "stdout",
       "text": [
        "10\n",
        "(396, 1212) \n",
        "\n",
        "3225663"
       ]
      },
      {
       "output_type": "stream",
       "stream": "stdout",
       "text": [
        " 2 2 age :  "
       ]
      },
      {
       "output_type": "stream",
       "stream": "stdout",
       "text": [
        "22\n",
        "(397, 1212) \n",
        "\n",
        "1777491"
       ]
      },
      {
       "output_type": "stream",
       "stream": "stdout",
       "text": [
        " 1 2 age :  "
       ]
      },
      {
       "output_type": "stream",
       "stream": "stdout",
       "text": [
        "10\n",
        "(397, 1213) \n",
        "\n",
        "5144094"
       ]
      },
      {
       "output_type": "stream",
       "stream": "stdout",
       "text": [
        " 2 2 age :  "
       ]
      },
      {
       "output_type": "stream",
       "stream": "stdout",
       "text": [
        "25\n",
        "(398, 1213) \n",
        "\n",
        "4649902"
       ]
      },
      {
       "output_type": "stream",
       "stream": "stdout",
       "text": [
        " 1 2 age :  "
       ]
      },
      {
       "output_type": "stream",
       "stream": "stdout",
       "text": [
        "30\n",
        "(398, 1214) \n",
        "\n",
        "3907217"
       ]
      },
      {
       "output_type": "stream",
       "stream": "stdout",
       "text": [
        " 1 2 age :  "
       ]
      },
      {
       "output_type": "stream",
       "stream": "stdout",
       "text": [
        "10\n",
        "(398, 1215) \n",
        "\n",
        "3673472"
       ]
      },
      {
       "output_type": "stream",
       "stream": "stdout",
       "text": [
        " 2 1 age :  "
       ]
      },
      {
       "output_type": "stream",
       "stream": "stdout",
       "text": [
        "10\n",
        "(398, 1216) \n",
        "\n",
        "1395579"
       ]
      },
      {
       "output_type": "stream",
       "stream": "stdout",
       "text": [
        " 2 1 age :  "
       ]
      },
      {
       "output_type": "stream",
       "stream": "stdout",
       "text": [
        "35\n",
        "(398, 1217) \n",
        "\n",
        "4612824"
       ]
      },
      {
       "output_type": "stream",
       "stream": "stdout",
       "text": [
        " 1 2 age :  "
       ]
      },
      {
       "output_type": "stream",
       "stream": "stdout",
       "text": [
        "10\n",
        "(398, 1218) \n",
        "\n",
        "1735872"
       ]
      },
      {
       "output_type": "stream",
       "stream": "stdout",
       "text": [
        " 1 2 age :  "
       ]
      },
      {
       "output_type": "stream",
       "stream": "stdout",
       "text": [
        "10\n",
        "(398, 1219) \n",
        "\n",
        "2595184"
       ]
      },
      {
       "output_type": "stream",
       "stream": "stdout",
       "text": [
        " 2 1 age :  "
       ]
      },
      {
       "output_type": "stream",
       "stream": "stdout",
       "text": [
        "10\n",
        "(398, 1220) \n",
        "\n",
        "1685848"
       ]
      },
      {
       "output_type": "stream",
       "stream": "stdout",
       "text": [
        " 2 1 age :  "
       ]
      },
      {
       "output_type": "stream",
       "stream": "stdout",
       "text": [
        "10\n",
        "(398, 1221) \n",
        "\n",
        "1732672"
       ]
      },
      {
       "output_type": "stream",
       "stream": "stdout",
       "text": [
        " 2 2 age :  "
       ]
      },
      {
       "output_type": "stream",
       "stream": "stdout",
       "text": [
        "10\n",
        "(399, 1221) \n",
        "\n",
        "1839082"
       ]
      },
      {
       "output_type": "stream",
       "stream": "stdout",
       "text": [
        " 2 2 age :  "
       ]
      },
      {
       "output_type": "stream",
       "stream": "stdout",
       "text": [
        "30\n",
        "(400, 1221) \n",
        "\n",
        "3736372"
       ]
      },
      {
       "output_type": "stream",
       "stream": "stdout",
       "text": [
        " 1 2 age :  "
       ]
      },
      {
       "output_type": "stream",
       "stream": "stdout",
       "text": [
        "20\n",
        "(400, 1222) \n",
        "\n",
        "1742580"
       ]
      },
      {
       "output_type": "stream",
       "stream": "stdout",
       "text": [
        " 1 2 age :  "
       ]
      },
      {
       "output_type": "stream",
       "stream": "stdout",
       "text": [
        "10\n",
        "(400, 1223) \n",
        "\n",
        "2881035"
       ]
      },
      {
       "output_type": "stream",
       "stream": "stdout",
       "text": [
        " 1 2 age :  "
       ]
      },
      {
       "output_type": "stream",
       "stream": "stdout",
       "text": [
        "20\n",
        "(400, 1224) \n",
        "\n",
        "2506104"
       ]
      },
      {
       "output_type": "stream",
       "stream": "stdout",
       "text": [
        " 2 1 age :  "
       ]
      },
      {
       "output_type": "stream",
       "stream": "stdout",
       "text": [
        "10\n",
        "(400, 1225) \n",
        "\n",
        "840297"
       ]
      },
      {
       "output_type": "stream",
       "stream": "stdout",
       "text": [
        " 1 2 age :  "
       ]
      },
      {
       "output_type": "stream",
       "stream": "stdout",
       "text": [
        "10\n",
        "(400, 1226) \n",
        "\n",
        "1683379"
       ]
      },
      {
       "output_type": "stream",
       "stream": "stdout",
       "text": [
        " 2 1 age :  "
       ]
      },
      {
       "output_type": "stream",
       "stream": "stdout",
       "text": [
        "20\n",
        "(400, 1227) \n",
        "\n",
        "2164792"
       ]
      },
      {
       "output_type": "stream",
       "stream": "stdout",
       "text": [
        " 2 1 age :  "
       ]
      },
      {
       "output_type": "stream",
       "stream": "stdout",
       "text": [
        "10\n",
        "(400, 1228) \n",
        "\n",
        "1691968"
       ]
      },
      {
       "output_type": "stream",
       "stream": "stdout",
       "text": [
        " 1 2 age :  "
       ]
      },
      {
       "output_type": "stream",
       "stream": "stdout",
       "text": [
        "10\n",
        "(400, 1229) \n",
        "\n",
        "2106067"
       ]
      },
      {
       "output_type": "stream",
       "stream": "stdout",
       "text": [
        " 2 1 age :  "
       ]
      },
      {
       "output_type": "stream",
       "stream": "stdout",
       "text": [
        "10\n",
        "(400, 1230) \n",
        "\n",
        "4162643"
       ]
      },
      {
       "output_type": "stream",
       "stream": "stdout",
       "text": [
        " 1 2 age :  "
       ]
      },
      {
       "output_type": "stream",
       "stream": "stdout",
       "text": [
        "10\n",
        "(400, 1231) \n",
        "\n",
        "2947812"
       ]
      },
      {
       "output_type": "stream",
       "stream": "stdout",
       "text": [
        " 1 2 age :  "
       ]
      },
      {
       "output_type": "stream",
       "stream": "stdout",
       "text": [
        "30\n",
        "(400, 1232) \n",
        "\n",
        "1750276"
       ]
      },
      {
       "output_type": "stream",
       "stream": "stdout",
       "text": [
        " 1 2 age :  "
       ]
      },
      {
       "output_type": "stream",
       "stream": "stdout",
       "text": [
        "10\n",
        "(400, 1233) \n",
        "\n",
        "2755762"
       ]
      },
      {
       "output_type": "stream",
       "stream": "stdout",
       "text": [
        " 1 2 age :  "
       ]
      },
      {
       "output_type": "stream",
       "stream": "stdout",
       "text": [
        "30\n",
        "(400, 1234) \n",
        "\n",
        "4123546"
       ]
      },
      {
       "output_type": "stream",
       "stream": "stdout",
       "text": [
        " 1 2 age :  "
       ]
      },
      {
       "output_type": "stream",
       "stream": "stdout",
       "text": [
        "10\n",
        "(400, 1235) \n",
        "\n",
        "2629556"
       ]
      },
      {
       "output_type": "stream",
       "stream": "stdout",
       "text": [
        " 1 2 age :  "
       ]
      },
      {
       "output_type": "stream",
       "stream": "stdout",
       "text": [
        "20\n",
        "(400, 1236) \n",
        "\n",
        "4444379"
       ]
      },
      {
       "output_type": "stream",
       "stream": "stdout",
       "text": [
        " 2 2 age :  "
       ]
      },
      {
       "output_type": "stream",
       "stream": "stdout",
       "text": [
        "26\n",
        "(401, 1236) \n",
        "\n",
        "3432765"
       ]
      },
      {
       "output_type": "stream",
       "stream": "stdout",
       "text": [
        " 2 2 age :  "
       ]
      },
      {
       "output_type": "stream",
       "stream": "stdout",
       "text": [
        "20\n",
        "(402, 1236) \n",
        "\n",
        "4599173"
       ]
      },
      {
       "output_type": "stream",
       "stream": "stdout",
       "text": [
        " 1 2 age :  "
       ]
      },
      {
       "output_type": "stream",
       "stream": "stdout",
       "text": [
        "30\n",
        "(402, 1237) \n",
        "\n",
        "2228280"
       ]
      },
      {
       "output_type": "stream",
       "stream": "stdout",
       "text": [
        " 1 2 age :  "
       ]
      },
      {
       "output_type": "stream",
       "stream": "stdout",
       "text": [
        "10\n",
        "(402, 1238) \n",
        "\n",
        "2647821"
       ]
      },
      {
       "output_type": "stream",
       "stream": "stdout",
       "text": [
        " 2 1 age :  "
       ]
      },
      {
       "output_type": "stream",
       "stream": "stdout",
       "text": [
        "20\n",
        "(402, 1239) \n",
        "\n",
        "4264890"
       ]
      },
      {
       "output_type": "stream",
       "stream": "stdout",
       "text": [
        " 1 2 age :  "
       ]
      },
      {
       "output_type": "stream",
       "stream": "stdout",
       "text": [
        "20\n",
        "(402, 1240) \n",
        "\n",
        "2300696"
       ]
      },
      {
       "output_type": "stream",
       "stream": "stdout",
       "text": [
        " 1 2 age :  "
       ]
      },
      {
       "output_type": "stream",
       "stream": "stdout",
       "text": [
        "10\n",
        "(402, 1241) \n",
        "\n",
        "1739050"
       ]
      },
      {
       "output_type": "stream",
       "stream": "stdout",
       "text": [
        " 1 2 age :  "
       ]
      },
      {
       "output_type": "stream",
       "stream": "stdout",
       "text": [
        "12\n",
        "(402, 1242) \n",
        "\n",
        "4398608"
       ]
      },
      {
       "output_type": "stream",
       "stream": "stdout",
       "text": [
        " 1 2 age :  "
       ]
      },
      {
       "output_type": "stream",
       "stream": "stdout",
       "text": [
        "10\n",
        "(402, 1243) \n",
        "\n",
        "4509992"
       ]
      },
      {
       "output_type": "stream",
       "stream": "stdout",
       "text": [
        " 2 1 age :  "
       ]
      },
      {
       "output_type": "stream",
       "stream": "stdout",
       "text": [
        "35\n",
        "(402, 1244) \n",
        "\n",
        "3624267"
       ]
      },
      {
       "output_type": "stream",
       "stream": "stdout",
       "text": [
        " 2 2 age :  "
       ]
      },
      {
       "output_type": "stream",
       "stream": "stdout",
       "text": [
        "12\n",
        "(403, 1244) \n",
        "\n",
        "1725411"
       ]
      },
      {
       "output_type": "stream",
       "stream": "stdout",
       "text": [
        " 1 2 age :  "
       ]
      },
      {
       "output_type": "stream",
       "stream": "stdout",
       "text": [
        "20\n",
        "(403, 1245) \n",
        "\n",
        "1716196"
       ]
      },
      {
       "output_type": "stream",
       "stream": "stdout",
       "text": [
        " 1 2 age :  "
       ]
      },
      {
       "output_type": "stream",
       "stream": "stdout",
       "text": [
        "10\n",
        "(403, 1246) \n",
        "\n",
        "1633656"
       ]
      },
      {
       "output_type": "stream",
       "stream": "stdout",
       "text": [
        " 2 1 age :  "
       ]
      },
      {
       "output_type": "stream",
       "stream": "stdout",
       "text": [
        "10\n",
        "(403, 1247) \n",
        "\n",
        "1655956"
       ]
      },
      {
       "output_type": "stream",
       "stream": "stdout",
       "text": [
        " 1 1 age :  "
       ]
      },
      {
       "output_type": "stream",
       "stream": "stdout",
       "text": [
        "20\n",
        "(404, 1247) \n",
        "\n",
        "4158039"
       ]
      },
      {
       "output_type": "stream",
       "stream": "stdout",
       "text": [
        " 1 2 age :  "
       ]
      },
      {
       "output_type": "stream",
       "stream": "stdout",
       "text": [
        "60\n",
        "(404, 1248) \n",
        "\n",
        "3962474"
       ]
      },
      {
       "output_type": "stream",
       "stream": "stdout",
       "text": [
        " 1 2 age :  "
       ]
      },
      {
       "output_type": "stream",
       "stream": "stdout",
       "text": [
        "30\n",
        "(404, 1249) \n",
        "\n",
        "2847424"
       ]
      },
      {
       "output_type": "stream",
       "stream": "stdout",
       "text": [
        " 1 2 age :  "
       ]
      },
      {
       "output_type": "stream",
       "stream": "stdout",
       "text": [
        "30\n",
        "(404, 1250) \n",
        "\n",
        "1964866"
       ]
      },
      {
       "output_type": "stream",
       "stream": "stdout",
       "text": [
        " 1 1 age :  "
       ]
      },
      {
       "output_type": "stream",
       "stream": "stdout",
       "text": [
        "10\n",
        "(405, 1250) \n",
        "\n",
        "3820903"
       ]
      },
      {
       "output_type": "stream",
       "stream": "stdout",
       "text": [
        " 1 2 age :  "
       ]
      },
      {
       "output_type": "stream",
       "stream": "stdout",
       "text": [
        "30\n",
        "(405, 1251) \n",
        "\n",
        "1521879"
       ]
      },
      {
       "output_type": "stream",
       "stream": "stdout",
       "text": [
        " 2 1 age :  "
       ]
      },
      {
       "output_type": "stream",
       "stream": "stdout",
       "text": [
        "20\n",
        "(405, 1252) \n",
        "\n",
        "4737223"
       ]
      },
      {
       "output_type": "stream",
       "stream": "stdout",
       "text": [
        " 2 2 age :  "
       ]
      },
      {
       "output_type": "stream",
       "stream": "stdout",
       "text": [
        "20\n",
        "(406, 1252) \n",
        "\n",
        "2183446"
       ]
      },
      {
       "output_type": "stream",
       "stream": "stdout",
       "text": [
        " 2 2 age :  "
       ]
      },
      {
       "output_type": "stream",
       "stream": "stdout",
       "text": [
        "50\n",
        "(407, 1252) \n",
        "\n",
        "1855180"
       ]
      },
      {
       "output_type": "stream",
       "stream": "stdout",
       "text": [
        " 2 1 age :  "
       ]
      },
      {
       "output_type": "stream",
       "stream": "stdout",
       "text": [
        "30\n",
        "(407, 1253) \n",
        "\n",
        "4474360"
       ]
      },
      {
       "output_type": "stream",
       "stream": "stdout",
       "text": [
        " 2 2 age :  "
       ]
      },
      {
       "output_type": "stream",
       "stream": "stdout",
       "text": [
        "10\n",
        "(408, 1253) \n",
        "\n",
        "3293087"
       ]
      },
      {
       "output_type": "stream",
       "stream": "stdout",
       "text": [
        " 1 2 age :  "
       ]
      },
      {
       "output_type": "stream",
       "stream": "stdout",
       "text": [
        "10\n",
        "(408, 1254) \n",
        "\n",
        "4882128"
       ]
      },
      {
       "output_type": "stream",
       "stream": "stdout",
       "text": [
        " 1 2 age :  "
       ]
      },
      {
       "output_type": "stream",
       "stream": "stdout",
       "text": [
        "10\n",
        "(408, 1255) \n",
        "\n",
        "3806832"
       ]
      },
      {
       "output_type": "stream",
       "stream": "stdout",
       "text": [
        " 1 2 age :  "
       ]
      },
      {
       "output_type": "stream",
       "stream": "stdout",
       "text": [
        "25\n",
        "(408, 1256) \n",
        "\n",
        "1914707"
       ]
      },
      {
       "output_type": "stream",
       "stream": "stdout",
       "text": [
        " 1 2 age :  "
       ]
      },
      {
       "output_type": "stream",
       "stream": "stdout",
       "text": [
        "20\n",
        "(408, 1257) \n",
        "\n",
        "1355727"
       ]
      },
      {
       "output_type": "stream",
       "stream": "stdout",
       "text": [
        " 2 1 age :  "
       ]
      },
      {
       "output_type": "stream",
       "stream": "stdout",
       "text": [
        "15\n",
        "(408, 1258) \n",
        "\n",
        "1677100"
       ]
      },
      {
       "output_type": "stream",
       "stream": "stdout",
       "text": [
        " 2 2 age :  "
       ]
      },
      {
       "output_type": "stream",
       "stream": "stdout",
       "text": [
        "10\n",
        "(409, 1258) \n",
        "\n",
        "2300046"
       ]
      },
      {
       "output_type": "stream",
       "stream": "stdout",
       "text": [
        " 2 2 age :  "
       ]
      },
      {
       "output_type": "stream",
       "stream": "stdout",
       "text": [
        "20\n",
        "(410, 1258) \n",
        "\n",
        "4406205"
       ]
      },
      {
       "output_type": "stream",
       "stream": "stdout",
       "text": [
        " 1 2 age :  "
       ]
      },
      {
       "output_type": "stream",
       "stream": "stdout",
       "text": [
        "40\n",
        "(410, 1259) \n",
        "\n",
        "1632102"
       ]
      },
      {
       "output_type": "stream",
       "stream": "stdout",
       "text": [
        " 1 1 age :  "
       ]
      },
      {
       "output_type": "stream",
       "stream": "stdout",
       "text": [
        "10\n",
        "(411, 1259) \n",
        "\n",
        "4767953"
       ]
      },
      {
       "output_type": "stream",
       "stream": "stdout",
       "text": [
        " 2 2 age :  "
       ]
      },
      {
       "output_type": "stream",
       "stream": "stdout",
       "text": [
        "30\n",
        "(412, 1259) \n",
        "\n",
        "2084019"
       ]
      },
      {
       "output_type": "stream",
       "stream": "stdout",
       "text": [
        " 1 2 age :  "
       ]
      },
      {
       "output_type": "stream",
       "stream": "stdout",
       "text": [
        "10\n",
        "(412, 1260) \n",
        "\n",
        "4767763"
       ]
      },
      {
       "output_type": "stream",
       "stream": "stdout",
       "text": [
        " 2 2 age :  "
       ]
      },
      {
       "output_type": "stream",
       "stream": "stdout",
       "text": [
        "10\n",
        "(413, 1260) \n",
        "\n",
        "3490748"
       ]
      },
      {
       "output_type": "stream",
       "stream": "stdout",
       "text": [
        " 1 2 age :  "
       ]
      },
      {
       "output_type": "stream",
       "stream": "stdout",
       "text": [
        "10\n",
        "(413, 1261) \n",
        "\n",
        "4989009"
       ]
      },
      {
       "output_type": "stream",
       "stream": "stdout",
       "text": [
        " 2 1 age :  "
       ]
      },
      {
       "output_type": "stream",
       "stream": "stdout",
       "text": [
        "20\n",
        "(413, 1262) \n",
        "\n",
        "3104543"
       ]
      },
      {
       "output_type": "stream",
       "stream": "stdout",
       "text": [
        " 2 2 age :  "
       ]
      },
      {
       "output_type": "stream",
       "stream": "stdout",
       "text": [
        "10\n",
        "(414, 1262) \n",
        "\n",
        "3797799"
       ]
      },
      {
       "output_type": "stream",
       "stream": "stdout",
       "text": [
        " 2 2 age :  "
       ]
      },
      {
       "output_type": "stream",
       "stream": "stdout",
       "text": [
        "10\n",
        "(415, 1262) \n",
        "\n",
        "1955609"
       ]
      },
      {
       "output_type": "stream",
       "stream": "stdout",
       "text": [
        " 1 2 age :  "
       ]
      },
      {
       "output_type": "stream",
       "stream": "stdout",
       "text": [
        "10\n",
        "(415, 1263) \n",
        "\n",
        "1738833"
       ]
      },
      {
       "output_type": "stream",
       "stream": "stdout",
       "text": [
        " 1 2 age :  "
       ]
      },
      {
       "output_type": "stream",
       "stream": "stdout",
       "text": [
        "10\n",
        "(415, 1264) \n",
        "\n",
        "1744107"
       ]
      },
      {
       "output_type": "stream",
       "stream": "stdout",
       "text": [
        " 1 2 age :  "
       ]
      },
      {
       "output_type": "stream",
       "stream": "stdout",
       "text": [
        "20\n",
        "(415, 1265) \n",
        "\n",
        "2111223"
       ]
      },
      {
       "output_type": "stream",
       "stream": "stdout",
       "text": [
        " 2 2 age :  "
       ]
      },
      {
       "output_type": "stream",
       "stream": "stdout",
       "text": [
        "35\n",
        "(416, 1265) \n",
        "\n",
        "4700954"
       ]
      },
      {
       "output_type": "stream",
       "stream": "stdout",
       "text": [
        " 1 2 age :  "
       ]
      },
      {
       "output_type": "stream",
       "stream": "stdout",
       "text": [
        "42\n",
        "(416, 1266) \n",
        "\n",
        "4118307"
       ]
      },
      {
       "output_type": "stream",
       "stream": "stdout",
       "text": [
        " 2 1 age :  "
       ]
      },
      {
       "output_type": "stream",
       "stream": "stdout",
       "text": [
        "10\n",
        "(416, 1267) \n",
        "\n",
        "5000165"
       ]
      },
      {
       "output_type": "stream",
       "stream": "stdout",
       "text": [
        " 1 2 age :  "
       ]
      },
      {
       "output_type": "stream",
       "stream": "stdout",
       "text": [
        "8\n",
        "(416, 1268) \n",
        "\n",
        "4274316"
       ]
      },
      {
       "output_type": "stream",
       "stream": "stdout",
       "text": [
        " 2 2 age :  "
       ]
      },
      {
       "output_type": "stream",
       "stream": "stdout",
       "text": [
        "10\n",
        "(417, 1268) \n",
        "\n",
        "1261479"
       ]
      },
      {
       "output_type": "stream",
       "stream": "stdout",
       "text": [
        " 2 2 age :  "
       ]
      },
      {
       "output_type": "stream",
       "stream": "stdout",
       "text": [
        "20\n",
        "(418, 1268) \n",
        "\n",
        "3003293"
       ]
      },
      {
       "output_type": "stream",
       "stream": "stdout",
       "text": [
        " 2 1 age :  "
       ]
      },
      {
       "output_type": "stream",
       "stream": "stdout",
       "text": [
        "10\n",
        "(418, 1269) \n",
        "\n",
        "1977383"
       ]
      },
      {
       "output_type": "stream",
       "stream": "stdout",
       "text": [
        " 1 2 age :  "
       ]
      },
      {
       "output_type": "stream",
       "stream": "stdout",
       "text": [
        "27\n",
        "(418, 1270) \n",
        "\n",
        "4599301"
       ]
      },
      {
       "output_type": "stream",
       "stream": "stdout",
       "text": [
        " 1 2 age :  "
       ]
      },
      {
       "output_type": "stream",
       "stream": "stdout",
       "text": [
        "10\n",
        "(418, 1271) \n",
        "\n",
        "1961387"
       ]
      },
      {
       "output_type": "stream",
       "stream": "stdout",
       "text": [
        " 2 2 age :  "
       ]
      },
      {
       "output_type": "stream",
       "stream": "stdout",
       "text": [
        "10\n",
        "(419, 1271) \n",
        "\n",
        "2100753"
       ]
      },
      {
       "output_type": "stream",
       "stream": "stdout",
       "text": [
        " 1 1 age :  "
       ]
      },
      {
       "output_type": "stream",
       "stream": "stdout",
       "text": [
        "10\n",
        "(420, 1271) \n",
        "\n",
        "3538338"
       ]
      },
      {
       "output_type": "stream",
       "stream": "stdout",
       "text": [
        " 1 2 age :  "
       ]
      },
      {
       "output_type": "stream",
       "stream": "stdout",
       "text": [
        "10\n",
        "(420, 1272) \n",
        "\n",
        "3056758"
       ]
      },
      {
       "output_type": "stream",
       "stream": "stdout",
       "text": [
        " 2 1 age :  "
       ]
      },
      {
       "output_type": "stream",
       "stream": "stdout",
       "text": [
        "20\n",
        "(420, 1273) \n",
        "\n",
        "5482617"
       ]
      },
      {
       "output_type": "stream",
       "stream": "stdout",
       "text": [
        " 1 2 age :  "
       ]
      },
      {
       "output_type": "stream",
       "stream": "stdout",
       "text": [
        "30\n",
        "(420, 1274) \n",
        "\n",
        "1895816"
       ]
      },
      {
       "output_type": "stream",
       "stream": "stdout",
       "text": [
        " 1 2 age :  "
       ]
      },
      {
       "output_type": "stream",
       "stream": "stdout",
       "text": [
        "10\n",
        "(420, 1275) \n",
        "\n",
        "1689949"
       ]
      },
      {
       "output_type": "stream",
       "stream": "stdout",
       "text": [
        " 1 2 age :  "
       ]
      },
      {
       "output_type": "stream",
       "stream": "stdout",
       "text": [
        "30\n",
        "(420, 1276) \n",
        "\n",
        "2322298"
       ]
      },
      {
       "output_type": "stream",
       "stream": "stdout",
       "text": [
        " 2 2 age :  "
       ]
      },
      {
       "output_type": "stream",
       "stream": "stdout",
       "text": [
        "20\n",
        "(421, 1276) \n",
        "\n",
        "2953441"
       ]
      },
      {
       "output_type": "stream",
       "stream": "stdout",
       "text": [
        " 1 2 age :  "
       ]
      },
      {
       "output_type": "stream",
       "stream": "stdout",
       "text": [
        "10\n",
        "(421, 1277) \n",
        "\n",
        "1975738"
       ]
      },
      {
       "output_type": "stream",
       "stream": "stdout",
       "text": [
        " 2 2 age :  "
       ]
      },
      {
       "output_type": "stream",
       "stream": "stdout",
       "text": [
        "40\n",
        "(422, 1277) \n",
        "\n",
        "3496263"
       ]
      },
      {
       "output_type": "stream",
       "stream": "stdout",
       "text": [
        " 1 1 age :  "
       ]
      },
      {
       "output_type": "stream",
       "stream": "stdout",
       "text": [
        "10\n",
        "(423, 1277) \n",
        "\n",
        "1654793"
       ]
      },
      {
       "output_type": "stream",
       "stream": "stdout",
       "text": [
        " 1 2 age :  "
       ]
      },
      {
       "output_type": "stream",
       "stream": "stdout",
       "text": [
        "10\n",
        "(423, 1278) \n",
        "\n",
        "2638834"
       ]
      },
      {
       "output_type": "stream",
       "stream": "stdout",
       "text": [
        " 1 2 age :  "
       ]
      },
      {
       "output_type": "stream",
       "stream": "stdout",
       "text": [
        "10\n",
        "(423, 1279) \n",
        "\n",
        "2235884"
       ]
      },
      {
       "output_type": "stream",
       "stream": "stdout",
       "text": [
        " 2 1 age :  "
       ]
      },
      {
       "output_type": "stream",
       "stream": "stdout",
       "text": [
        "20\n",
        "(423, 1280) \n",
        "\n",
        "3107283"
       ]
      },
      {
       "output_type": "stream",
       "stream": "stdout",
       "text": [
        " 2 1 age :  "
       ]
      },
      {
       "output_type": "stream",
       "stream": "stdout",
       "text": [
        "18\n",
        "(423, 1281) \n",
        "\n",
        "2976094"
       ]
      },
      {
       "output_type": "stream",
       "stream": "stdout",
       "text": [
        " 1 2 age :  "
       ]
      },
      {
       "output_type": "stream",
       "stream": "stdout",
       "text": [
        "10\n",
        "(423, 1282) \n",
        "\n",
        "3782013"
       ]
      },
      {
       "output_type": "stream",
       "stream": "stdout",
       "text": [
        " 1 2 age :  "
       ]
      },
      {
       "output_type": "stream",
       "stream": "stdout",
       "text": [
        "10\n",
        "(423, 1283) \n",
        "\n",
        "3394941"
       ]
      },
      {
       "output_type": "stream",
       "stream": "stdout",
       "text": [
        " 1 2 age :  "
       ]
      },
      {
       "output_type": "stream",
       "stream": "stdout",
       "text": [
        "10\n",
        "(423, 1284) \n",
        "\n",
        "1661838"
       ]
      },
      {
       "output_type": "stream",
       "stream": "stdout",
       "text": [
        " 2 2 age :  "
       ]
      },
      {
       "output_type": "stream",
       "stream": "stdout",
       "text": [
        "10\n",
        "(424, 1284) \n",
        "\n",
        "4726385"
       ]
      },
      {
       "output_type": "stream",
       "stream": "stdout",
       "text": [
        " 1 2 age :  "
       ]
      },
      {
       "output_type": "stream",
       "stream": "stdout",
       "text": [
        "10\n",
        "(424, 1285) \n",
        "\n",
        "4150667"
       ]
      },
      {
       "output_type": "stream",
       "stream": "stdout",
       "text": [
        " 1 2 age :  "
       ]
      },
      {
       "output_type": "stream",
       "stream": "stdout",
       "text": [
        "10\n",
        "(424, 1286) \n",
        "\n",
        "57099"
       ]
      },
      {
       "output_type": "stream",
       "stream": "stdout",
       "text": [
        " 1 2 age :  "
       ]
      },
      {
       "output_type": "stream",
       "stream": "stdout",
       "text": [
        "32\n",
        "(424, 1287) \n",
        "\n",
        "4798474"
       ]
      },
      {
       "output_type": "stream",
       "stream": "stdout",
       "text": [
        " 1 1 age :  "
       ]
      },
      {
       "output_type": "stream",
       "stream": "stdout",
       "text": [
        "10\n",
        "(425, 1287) \n",
        "\n",
        "5286119"
       ]
      },
      {
       "output_type": "stream",
       "stream": "stdout",
       "text": [
        " 2 2 age :  "
       ]
      },
      {
       "output_type": "stream",
       "stream": "stdout",
       "text": [
        "18\n",
        "(426, 1287) \n",
        "\n",
        "5292417"
       ]
      },
      {
       "output_type": "stream",
       "stream": "stdout",
       "text": [
        " 2 2 age :  "
       ]
      },
      {
       "output_type": "stream",
       "stream": "stdout",
       "text": [
        "20\n",
        "(427, 1287) \n",
        "\n",
        "4168930"
       ]
      },
      {
       "output_type": "stream",
       "stream": "stdout",
       "text": [
        " 2 1 age :  "
       ]
      },
      {
       "output_type": "stream",
       "stream": "stdout",
       "text": [
        "10\n",
        "(427, 1288) \n",
        "\n",
        "3427714"
       ]
      },
      {
       "output_type": "stream",
       "stream": "stdout",
       "text": [
        " 1 2 age :  "
       ]
      },
      {
       "output_type": "stream",
       "stream": "stdout",
       "text": [
        "10\n",
        "(427, 1289) \n",
        "\n",
        "4876787"
       ]
      },
      {
       "output_type": "stream",
       "stream": "stdout",
       "text": [
        " 1 2 age :  "
       ]
      },
      {
       "output_type": "stream",
       "stream": "stdout",
       "text": [
        "20\n",
        "(427, 1290) \n",
        "\n",
        "1695891"
       ]
      },
      {
       "output_type": "stream",
       "stream": "stdout",
       "text": [
        " 1 2 age :  "
       ]
      },
      {
       "output_type": "stream",
       "stream": "stdout",
       "text": [
        "10\n",
        "(427, 1291) \n",
        "\n",
        "2296926"
       ]
      },
      {
       "output_type": "stream",
       "stream": "stdout",
       "text": [
        " 1 2 age :  "
       ]
      },
      {
       "output_type": "stream",
       "stream": "stdout",
       "text": [
        "10\n",
        "(427, 1292) \n",
        "\n",
        "3473263"
       ]
      },
      {
       "output_type": "stream",
       "stream": "stdout",
       "text": [
        " 2 2 age :  "
       ]
      },
      {
       "output_type": "stream",
       "stream": "stdout",
       "text": [
        "30\n",
        "(428, 1292) \n",
        "\n",
        "4739631"
       ]
      },
      {
       "output_type": "stream",
       "stream": "stdout",
       "text": [
        " 1 2 age :  "
       ]
      },
      {
       "output_type": "stream",
       "stream": "stdout",
       "text": [
        "20\n",
        "(428, 1293) \n",
        "\n",
        "1749202"
       ]
      },
      {
       "output_type": "stream",
       "stream": "stdout",
       "text": [
        " 1 2 age :  "
       ]
      },
      {
       "output_type": "stream",
       "stream": "stdout",
       "text": [
        "20\n",
        "(428, 1294) \n",
        "\n",
        "4768237"
       ]
      },
      {
       "output_type": "stream",
       "stream": "stdout",
       "text": [
        " 1 2 age :  "
       ]
      },
      {
       "output_type": "stream",
       "stream": "stdout",
       "text": [
        "10\n",
        "(428, 1295) \n",
        "\n",
        "2122479"
       ]
      },
      {
       "output_type": "stream",
       "stream": "stdout",
       "text": [
        " 1 2 age :  "
       ]
      },
      {
       "output_type": "stream",
       "stream": "stdout",
       "text": [
        "10\n",
        "(428, 1296) \n",
        "\n",
        "3219207"
       ]
      },
      {
       "output_type": "stream",
       "stream": "stdout",
       "text": [
        " 2 1 age :  "
       ]
      },
      {
       "output_type": "stream",
       "stream": "stdout",
       "text": [
        "10\n",
        "(428, 1297) \n",
        "\n",
        "2541678"
       ]
      },
      {
       "output_type": "stream",
       "stream": "stdout",
       "text": [
        " 2 1 age :  "
       ]
      },
      {
       "output_type": "stream",
       "stream": "stdout",
       "text": [
        "10\n",
        "(428, 1298) \n",
        "\n",
        "5176217"
       ]
      },
      {
       "output_type": "stream",
       "stream": "stdout",
       "text": [
        " 1 2 age :  "
       ]
      },
      {
       "output_type": "stream",
       "stream": "stdout",
       "text": [
        "10\n",
        "(428, 1299) \n",
        "\n",
        "3797692"
       ]
      },
      {
       "output_type": "stream",
       "stream": "stdout",
       "text": [
        " 1 2 age :  "
       ]
      },
      {
       "output_type": "stream",
       "stream": "stdout",
       "text": [
        "20\n",
        "(428, 1300) \n",
        "\n",
        "4529978"
       ]
      },
      {
       "output_type": "stream",
       "stream": "stdout",
       "text": [
        " 1 2 age :  "
       ]
      },
      {
       "output_type": "stream",
       "stream": "stdout",
       "text": [
        "20\n",
        "(428, 1301) \n",
        "\n",
        "2988766"
       ]
      },
      {
       "output_type": "stream",
       "stream": "stdout",
       "text": [
        " 1 2 age :  "
       ]
      },
      {
       "output_type": "stream",
       "stream": "stdout",
       "text": [
        "20\n",
        "(428, 1302) \n",
        "\n",
        "2262413"
       ]
      },
      {
       "output_type": "stream",
       "stream": "stdout",
       "text": [
        " 1 2 age :  "
       ]
      },
      {
       "output_type": "stream",
       "stream": "stdout",
       "text": [
        "10\n",
        "(428, 1303) \n",
        "\n",
        "4100575"
       ]
      },
      {
       "output_type": "stream",
       "stream": "stdout",
       "text": [
        " 1 2 age :  "
       ]
      },
      {
       "output_type": "stream",
       "stream": "stdout",
       "text": [
        "10\n",
        "(428, 1304) \n",
        "\n",
        "2810399"
       ]
      },
      {
       "output_type": "stream",
       "stream": "stdout",
       "text": [
        " 1 2 age :  "
       ]
      },
      {
       "output_type": "stream",
       "stream": "stdout",
       "text": [
        "20\n",
        "(428, 1305) \n",
        "\n",
        "4607999"
       ]
      },
      {
       "output_type": "stream",
       "stream": "stdout",
       "text": [
        " 1 2 age :  "
       ]
      },
      {
       "output_type": "stream",
       "stream": "stdout",
       "text": [
        "10\n",
        "(428, 1306) \n",
        "\n",
        "2211151"
       ]
      },
      {
       "output_type": "stream",
       "stream": "stdout",
       "text": [
        " 1 2 age :  "
       ]
      },
      {
       "output_type": "stream",
       "stream": "stdout",
       "text": [
        "10\n",
        "(428, 1307) \n",
        "\n",
        "2007728"
       ]
      },
      {
       "output_type": "stream",
       "stream": "stdout",
       "text": [
        " 1 2 age :  "
       ]
      },
      {
       "output_type": "stream",
       "stream": "stdout",
       "text": [
        "10\n",
        "(428, 1308) \n",
        "\n",
        "5108966"
       ]
      },
      {
       "output_type": "stream",
       "stream": "stdout",
       "text": [
        " 2 1 age :  "
       ]
      },
      {
       "output_type": "stream",
       "stream": "stdout",
       "text": [
        "15\n",
        "(428, 1309) \n",
        "\n",
        "4524911"
       ]
      },
      {
       "output_type": "stream",
       "stream": "stdout",
       "text": [
        " 2 1 age :  "
       ]
      },
      {
       "output_type": "stream",
       "stream": "stdout",
       "text": [
        "10\n",
        "(428, 1310) \n",
        "\n",
        "1624831"
       ]
      },
      {
       "output_type": "stream",
       "stream": "stdout",
       "text": [
        " 1 2 age :  "
       ]
      },
      {
       "output_type": "stream",
       "stream": "stdout",
       "text": [
        "10\n",
        "(428, 1311) \n",
        "\n",
        "4715872"
       ]
      },
      {
       "output_type": "stream",
       "stream": "stdout",
       "text": [
        " 1 2 age :  "
       ]
      },
      {
       "output_type": "stream",
       "stream": "stdout",
       "text": [
        "20\n",
        "(428, 1312) \n",
        "\n",
        "3964477"
       ]
      },
      {
       "output_type": "stream",
       "stream": "stdout",
       "text": [
        " 1 1 age :  "
       ]
      },
      {
       "output_type": "stream",
       "stream": "stdout",
       "text": [
        "10\n",
        "(429, 1312) \n",
        "\n",
        "4195298"
       ]
      },
      {
       "output_type": "stream",
       "stream": "stdout",
       "text": [
        " 2 2 age :  "
       ]
      },
      {
       "output_type": "stream",
       "stream": "stdout",
       "text": [
        "30\n",
        "(430, 1312) \n",
        "\n",
        "1795420"
       ]
      },
      {
       "output_type": "stream",
       "stream": "stdout",
       "text": [
        " 1 2 age :  "
       ]
      },
      {
       "output_type": "stream",
       "stream": "stdout",
       "text": [
        "20\n",
        "(430, 1313) \n",
        "\n",
        "4140465"
       ]
      },
      {
       "output_type": "stream",
       "stream": "stdout",
       "text": [
        " 1 2 age :  "
       ]
      },
      {
       "output_type": "stream",
       "stream": "stdout",
       "text": [
        "10\n",
        "(430, 1314) \n",
        "\n",
        "869475"
       ]
      },
      {
       "output_type": "stream",
       "stream": "stdout",
       "text": [
        " 2 2 age :  "
       ]
      },
      {
       "output_type": "stream",
       "stream": "stdout",
       "text": [
        "32\n",
        "(431, 1314) \n",
        "\n",
        "2164691"
       ]
      },
      {
       "output_type": "stream",
       "stream": "stdout",
       "text": [
        " 1 2 age :  "
       ]
      },
      {
       "output_type": "stream",
       "stream": "stdout",
       "text": [
        "10\n",
        "(431, 1315) \n",
        "\n",
        "3969511"
       ]
      },
      {
       "output_type": "stream",
       "stream": "stdout",
       "text": [
        " 1 2 age :  "
       ]
      },
      {
       "output_type": "stream",
       "stream": "stdout",
       "text": [
        "10\n",
        "(431, 1316) \n",
        "\n",
        "1829700"
       ]
      },
      {
       "output_type": "stream",
       "stream": "stdout",
       "text": [
        " 1 2 age :  "
       ]
      },
      {
       "output_type": "stream",
       "stream": "stdout",
       "text": [
        "10\n",
        "(431, 1317) \n",
        "\n",
        "2035920"
       ]
      },
      {
       "output_type": "stream",
       "stream": "stdout",
       "text": [
        " 1 2 age :  "
       ]
      },
      {
       "output_type": "stream",
       "stream": "stdout",
       "text": [
        "10\n",
        "(431, 1318) \n",
        "\n",
        "2243478"
       ]
      },
      {
       "output_type": "stream",
       "stream": "stdout",
       "text": [
        " 2 1 age :  "
       ]
      },
      {
       "output_type": "stream",
       "stream": "stdout",
       "text": [
        "10\n",
        "(431, 1319) \n",
        "\n",
        "4992071"
       ]
      },
      {
       "output_type": "stream",
       "stream": "stdout",
       "text": [
        " 2 1 age :  "
       ]
      },
      {
       "output_type": "stream",
       "stream": "stdout",
       "text": [
        "50\n",
        "(431, 1320) \n",
        "\n",
        "4547541"
       ]
      },
      {
       "output_type": "stream",
       "stream": "stdout",
       "text": [
        " 2 1 age :  "
       ]
      },
      {
       "output_type": "stream",
       "stream": "stdout",
       "text": [
        "10\n",
        "(431, 1321) \n",
        "\n",
        "3839960"
       ]
      },
      {
       "output_type": "stream",
       "stream": "stdout",
       "text": [
        " 1 2 age :  "
       ]
      },
      {
       "output_type": "stream",
       "stream": "stdout",
       "text": [
        "12\n",
        "(431, 1322) \n",
        "\n",
        "3847822"
       ]
      },
      {
       "output_type": "stream",
       "stream": "stdout",
       "text": [
        " 1 2 age :  "
       ]
      },
      {
       "output_type": "stream",
       "stream": "stdout",
       "text": [
        "20\n",
        "(431, 1323) \n",
        "\n",
        "1736134"
       ]
      },
      {
       "output_type": "stream",
       "stream": "stdout",
       "text": [
        " 1 2 age :  "
       ]
      },
      {
       "output_type": "stream",
       "stream": "stdout",
       "text": [
        "30\n",
        "(431, 1324) \n",
        "\n",
        "3816015"
       ]
      },
      {
       "output_type": "stream",
       "stream": "stdout",
       "text": [
        " 1 2 age :  "
       ]
      },
      {
       "output_type": "stream",
       "stream": "stdout",
       "text": [
        "20\n",
        "(431, 1325) \n",
        "\n",
        "4940811"
       ]
      },
      {
       "output_type": "stream",
       "stream": "stdout",
       "text": [
        " 1 2 age :  "
       ]
      },
      {
       "output_type": "stream",
       "stream": "stdout",
       "text": [
        "15\n",
        "(431, 1326) \n",
        "\n",
        "4811665"
       ]
      },
      {
       "output_type": "stream",
       "stream": "stdout",
       "text": [
        " 2 1 age :  "
       ]
      },
      {
       "output_type": "stream",
       "stream": "stdout",
       "text": [
        "20\n",
        "(431, 1327) \n",
        "\n",
        "1417727"
       ]
      },
      {
       "output_type": "stream",
       "stream": "stdout",
       "text": [
        " 2 1 age :  "
       ]
      },
      {
       "output_type": "stream",
       "stream": "stdout",
       "text": [
        "20\n",
        "(431, 1328) \n",
        "\n",
        "5437129"
       ]
      },
      {
       "output_type": "stream",
       "stream": "stdout",
       "text": [
        " 1 2 age :  "
       ]
      },
      {
       "output_type": "stream",
       "stream": "stdout",
       "text": [
        "10\n",
        "(431, 1329) \n",
        "\n",
        "2005306"
       ]
      },
      {
       "output_type": "stream",
       "stream": "stdout",
       "text": [
        " 1 2 age :  "
       ]
      },
      {
       "output_type": "stream",
       "stream": "stdout",
       "text": [
        "20\n",
        "(431, 1330) \n",
        "\n",
        "3849853"
       ]
      },
      {
       "output_type": "stream",
       "stream": "stdout",
       "text": [
        " 1 2 age :  "
       ]
      },
      {
       "output_type": "stream",
       "stream": "stdout",
       "text": [
        "10\n",
        "(431, 1331) \n",
        "\n",
        "4960611"
       ]
      },
      {
       "output_type": "stream",
       "stream": "stdout",
       "text": [
        " 2 1 age :  "
       ]
      },
      {
       "output_type": "stream",
       "stream": "stdout",
       "text": [
        "10\n",
        "(431, 1332) \n",
        "\n",
        "5710909"
       ]
      },
      {
       "output_type": "stream",
       "stream": "stdout",
       "text": [
        " 2 2 age :  "
       ]
      },
      {
       "output_type": "stream",
       "stream": "stdout",
       "text": [
        "1\n",
        "(432, 1332) \n",
        "\n",
        "3484521"
       ]
      },
      {
       "output_type": "stream",
       "stream": "stdout",
       "text": [
        " 1 2 age :  "
       ]
      },
      {
       "output_type": "stream",
       "stream": "stdout",
       "text": [
        "42\n",
        "(432, 1333) \n",
        "\n",
        "5084660"
       ]
      },
      {
       "output_type": "stream",
       "stream": "stdout",
       "text": [
        " 1 2 age :  "
       ]
      },
      {
       "output_type": "stream",
       "stream": "stdout",
       "text": [
        "20\n",
        "(432, 1334) \n",
        "\n",
        "1738566"
       ]
      },
      {
       "output_type": "stream",
       "stream": "stdout",
       "text": [
        " 2 2 age :  "
       ]
      },
      {
       "output_type": "stream",
       "stream": "stdout",
       "text": [
        "22\n",
        "(433, 1334) \n",
        "\n",
        "2435053"
       ]
      },
      {
       "output_type": "stream",
       "stream": "stdout",
       "text": [
        " 1 2 age :  "
       ]
      },
      {
       "output_type": "stream",
       "stream": "stdout",
       "text": [
        "10\n",
        "(433, 1335) \n",
        "\n",
        "1785293"
       ]
      },
      {
       "output_type": "stream",
       "stream": "stdout",
       "text": [
        " 1 2 age :  "
       ]
      },
      {
       "output_type": "stream",
       "stream": "stdout",
       "text": [
        "10\n",
        "(433, 1336) \n",
        "\n",
        "2441906"
       ]
      },
      {
       "output_type": "stream",
       "stream": "stdout",
       "text": [
        " 2 1 age :  "
       ]
      },
      {
       "output_type": "stream",
       "stream": "stdout",
       "text": [
        "19\n",
        "(433, 1337) \n",
        "\n",
        "3350346"
       ]
      },
      {
       "output_type": "stream",
       "stream": "stdout",
       "text": [
        " 1 2 age :  "
       ]
      },
      {
       "output_type": "stream",
       "stream": "stdout",
       "text": [
        "20\n",
        "(433, 1338) \n",
        "\n",
        "5484270"
       ]
      },
      {
       "output_type": "stream",
       "stream": "stdout",
       "text": [
        " 1 2 age :  "
       ]
      },
      {
       "output_type": "stream",
       "stream": "stdout",
       "text": [
        "8\n",
        "(433, 1339) \n",
        "\n",
        "1100805"
       ]
      },
      {
       "output_type": "stream",
       "stream": "stdout",
       "text": [
        " 1 2 age :  "
       ]
      },
      {
       "output_type": "stream",
       "stream": "stdout",
       "text": [
        "48\n",
        "(433, 1340) \n",
        "\n",
        "1765085"
       ]
      },
      {
       "output_type": "stream",
       "stream": "stdout",
       "text": [
        " 1 2 age :  "
       ]
      },
      {
       "output_type": "stream",
       "stream": "stdout",
       "text": [
        "18\n",
        "(433, 1341) \n",
        "\n",
        "5264116"
       ]
      },
      {
       "output_type": "stream",
       "stream": "stdout",
       "text": [
        " 2 1 age :  "
       ]
      },
      {
       "output_type": "stream",
       "stream": "stdout",
       "text": [
        "10\n",
        "(433, 1342) \n",
        "\n",
        "4002825"
       ]
      },
      {
       "output_type": "stream",
       "stream": "stdout",
       "text": [
        " 2 2 age :  "
       ]
      },
      {
       "output_type": "stream",
       "stream": "stdout",
       "text": [
        "10\n",
        "(434, 1342) \n",
        "\n",
        "1404305"
       ]
      },
      {
       "output_type": "stream",
       "stream": "stdout",
       "text": [
        " 2 1 age :  "
       ]
      },
      {
       "output_type": "stream",
       "stream": "stdout",
       "text": [
        "32\n",
        "(434, 1343) \n",
        "\n",
        "3734427"
       ]
      },
      {
       "output_type": "stream",
       "stream": "stdout",
       "text": [
        " 1 1 age :  "
       ]
      },
      {
       "output_type": "stream",
       "stream": "stdout",
       "text": [
        "10\n",
        "(435, 1343) \n",
        "\n",
        "3673758"
       ]
      },
      {
       "output_type": "stream",
       "stream": "stdout",
       "text": [
        " 1 2 age :  "
       ]
      },
      {
       "output_type": "stream",
       "stream": "stdout",
       "text": [
        "30\n",
        "(435, 1344) \n",
        "\n",
        "1862708"
       ]
      },
      {
       "output_type": "stream",
       "stream": "stdout",
       "text": [
        " 1 2 age :  "
       ]
      },
      {
       "output_type": "stream",
       "stream": "stdout",
       "text": [
        "10\n",
        "(435, 1345) \n",
        "\n",
        "3150138"
       ]
      },
      {
       "output_type": "stream",
       "stream": "stdout",
       "text": [
        " 2 2 age :  "
       ]
      },
      {
       "output_type": "stream",
       "stream": "stdout",
       "text": [
        "10\n",
        "(436, 1345) \n",
        "\n",
        "2258949"
       ]
      },
      {
       "output_type": "stream",
       "stream": "stdout",
       "text": [
        " 1 2 age :  "
       ]
      },
      {
       "output_type": "stream",
       "stream": "stdout",
       "text": [
        "10\n",
        "(436, 1346) \n",
        "\n",
        "2955222"
       ]
      },
      {
       "output_type": "stream",
       "stream": "stdout",
       "text": [
        " 2 1 age :  "
       ]
      },
      {
       "output_type": "stream",
       "stream": "stdout",
       "text": [
        "10\n",
        "(436, 1347) \n",
        "\n",
        "1747727"
       ]
      },
      {
       "output_type": "stream",
       "stream": "stdout",
       "text": [
        " 1 2 age :  "
       ]
      },
      {
       "output_type": "stream",
       "stream": "stdout",
       "text": [
        "30\n",
        "(436, 1348) \n",
        "\n",
        "4699112"
       ]
      },
      {
       "output_type": "stream",
       "stream": "stdout",
       "text": [
        " 1 2 age :  "
       ]
      },
      {
       "output_type": "stream",
       "stream": "stdout",
       "text": [
        "20\n",
        "(436, 1349) \n",
        "\n",
        "2189160"
       ]
      },
      {
       "output_type": "stream",
       "stream": "stdout",
       "text": [
        " 2 1 age :  "
       ]
      },
      {
       "output_type": "stream",
       "stream": "stdout",
       "text": [
        "10\n",
        "(436, 1350) \n",
        "\n",
        "1704536"
       ]
      },
      {
       "output_type": "stream",
       "stream": "stdout",
       "text": [
        " 1 2 age :  "
       ]
      },
      {
       "output_type": "stream",
       "stream": "stdout",
       "text": [
        "10\n",
        "(436, 1351) \n",
        "\n",
        "3783639"
       ]
      },
      {
       "output_type": "stream",
       "stream": "stdout",
       "text": [
        " 1 2 age :  "
       ]
      },
      {
       "output_type": "stream",
       "stream": "stdout",
       "text": [
        "10\n",
        "(436, 1352) \n",
        "\n",
        "4090488"
       ]
      },
      {
       "output_type": "stream",
       "stream": "stdout",
       "text": [
        " 1 2 age :  "
       ]
      },
      {
       "output_type": "stream",
       "stream": "stdout",
       "text": [
        "30\n",
        "(436, 1353) \n",
        "\n",
        "5018345"
       ]
      },
      {
       "output_type": "stream",
       "stream": "stdout",
       "text": [
        " 2 1 age :  "
       ]
      },
      {
       "output_type": "stream",
       "stream": "stdout",
       "text": [
        "15\n",
        "(436, 1354) \n",
        "\n",
        "4893092"
       ]
      },
      {
       "output_type": "stream",
       "stream": "stdout",
       "text": [
        " 1 2 age :  "
       ]
      },
      {
       "output_type": "stream",
       "stream": "stdout",
       "text": [
        "10\n",
        "(436, 1355) \n",
        "\n",
        "4963476"
       ]
      },
      {
       "output_type": "stream",
       "stream": "stdout",
       "text": [
        " 2 1 age :  "
       ]
      },
      {
       "output_type": "stream",
       "stream": "stdout",
       "text": [
        "10\n",
        "(436, 1356) \n",
        "\n",
        "1506500"
       ]
      },
      {
       "output_type": "stream",
       "stream": "stdout",
       "text": [
        " 1 2 age :  "
       ]
      },
      {
       "output_type": "stream",
       "stream": "stdout",
       "text": [
        "22\n",
        "(436, 1357) \n",
        "\n",
        "3121932"
       ]
      },
      {
       "output_type": "stream",
       "stream": "stdout",
       "text": [
        " 1 2 age :  "
       ]
      },
      {
       "output_type": "stream",
       "stream": "stdout",
       "text": [
        "10\n",
        "(436, 1358) \n",
        "\n",
        "4211308"
       ]
      },
      {
       "output_type": "stream",
       "stream": "stdout",
       "text": [
        " 2 1 age :  "
       ]
      },
      {
       "output_type": "stream",
       "stream": "stdout",
       "text": [
        "10\n",
        "(436, 1359) \n",
        "\n",
        "1780424"
       ]
      },
      {
       "output_type": "stream",
       "stream": "stdout",
       "text": [
        " 1 2 age :  "
       ]
      },
      {
       "output_type": "stream",
       "stream": "stdout",
       "text": [
        "10\n",
        "(436, 1360) \n",
        "\n",
        "3205023"
       ]
      },
      {
       "output_type": "stream",
       "stream": "stdout",
       "text": [
        " 2 2 age :  "
       ]
      },
      {
       "output_type": "stream",
       "stream": "stdout",
       "text": [
        "20\n",
        "(437, 1360) \n",
        "\n",
        "2152075"
       ]
      },
      {
       "output_type": "stream",
       "stream": "stdout",
       "text": [
        " 2 1 age :  "
       ]
      },
      {
       "output_type": "stream",
       "stream": "stdout",
       "text": [
        "10\n",
        "(437, 1361) \n",
        "\n",
        "2863188"
       ]
      },
      {
       "output_type": "stream",
       "stream": "stdout",
       "text": [
        " 2 1 age :  "
       ]
      },
      {
       "output_type": "stream",
       "stream": "stdout",
       "text": [
        "10\n",
        "(437, 1362) \n",
        "\n",
        "1704230"
       ]
      },
      {
       "output_type": "stream",
       "stream": "stdout",
       "text": [
        " 1 2 age :  "
       ]
      },
      {
       "output_type": "stream",
       "stream": "stdout",
       "text": [
        "10\n",
        "(437, 1363) \n",
        "\n",
        "3038577"
       ]
      },
      {
       "output_type": "stream",
       "stream": "stdout",
       "text": [
        " 2 2 age :  "
       ]
      },
      {
       "output_type": "stream",
       "stream": "stdout",
       "text": [
        "10\n",
        "(438, 1363) \n",
        "\n",
        "5194036"
       ]
      },
      {
       "output_type": "stream",
       "stream": "stdout",
       "text": [
        " 1 2 age :  "
       ]
      },
      {
       "output_type": "stream",
       "stream": "stdout",
       "text": [
        "10\n",
        "(438, 1364) \n",
        "\n",
        "1928411"
       ]
      },
      {
       "output_type": "stream",
       "stream": "stdout",
       "text": [
        " 1 2 age :  "
       ]
      },
      {
       "output_type": "stream",
       "stream": "stdout",
       "text": [
        "10\n",
        "(438, 1365) \n",
        "\n",
        "5221561"
       ]
      },
      {
       "output_type": "stream",
       "stream": "stdout",
       "text": [
        " 2 1 age :  "
       ]
      },
      {
       "output_type": "stream",
       "stream": "stdout",
       "text": [
        "10\n",
        "(438, 1366) \n",
        "\n",
        "5530204"
       ]
      },
      {
       "output_type": "stream",
       "stream": "stdout",
       "text": [
        " 1 2 age :  "
       ]
      },
      {
       "output_type": "stream",
       "stream": "stdout",
       "text": [
        "10\n",
        "(438, 1367) \n",
        "\n",
        "2778621"
       ]
      },
      {
       "output_type": "stream",
       "stream": "stdout",
       "text": [
        " 1 2 age :  "
       ]
      },
      {
       "output_type": "stream",
       "stream": "stdout",
       "text": [
        "10\n",
        "(438, 1368) \n",
        "\n",
        "2586948"
       ]
      },
      {
       "output_type": "stream",
       "stream": "stdout",
       "text": [
        " 2 1 age :  "
       ]
      },
      {
       "output_type": "stream",
       "stream": "stdout",
       "text": [
        "30\n",
        "(438, 1369) \n",
        "\n",
        "3303336"
       ]
      },
      {
       "output_type": "stream",
       "stream": "stdout",
       "text": [
        " 2 1 age :  "
       ]
      },
      {
       "output_type": "stream",
       "stream": "stdout",
       "text": [
        "10\n",
        "(438, 1370) \n",
        "\n",
        "3432551"
       ]
      },
      {
       "output_type": "stream",
       "stream": "stdout",
       "text": [
        " 1 2 age :  "
       ]
      },
      {
       "output_type": "stream",
       "stream": "stdout",
       "text": [
        "10\n",
        "(438, 1371) \n",
        "\n",
        "1452129"
       ]
      },
      {
       "output_type": "stream",
       "stream": "stdout",
       "text": [
        " 1 2 age :  "
       ]
      },
      {
       "output_type": "stream",
       "stream": "stdout",
       "text": [
        "10\n",
        "(438, 1372) \n",
        "\n",
        "1925319"
       ]
      },
      {
       "output_type": "stream",
       "stream": "stdout",
       "text": [
        " 1 2 age :  "
       ]
      },
      {
       "output_type": "stream",
       "stream": "stdout",
       "text": [
        "25\n",
        "(438, 1373) \n",
        "\n",
        "3279346"
       ]
      },
      {
       "output_type": "stream",
       "stream": "stdout",
       "text": [
        " 1 2 age :  "
       ]
      },
      {
       "output_type": "stream",
       "stream": "stdout",
       "text": [
        "20\n",
        "(438, 1374) \n",
        "\n",
        "1893019"
       ]
      },
      {
       "output_type": "stream",
       "stream": "stdout",
       "text": [
        " 1 2 age :  "
       ]
      },
      {
       "output_type": "stream",
       "stream": "stdout",
       "text": [
        "20\n",
        "(438, 1375) \n",
        "\n",
        "5108917"
       ]
      },
      {
       "output_type": "stream",
       "stream": "stdout",
       "text": [
        " 1 2 age :  "
       ]
      },
      {
       "output_type": "stream",
       "stream": "stdout",
       "text": [
        "20\n",
        "(438, 1376) \n",
        "\n",
        "2102838"
       ]
      },
      {
       "output_type": "stream",
       "stream": "stdout",
       "text": [
        " 1 2 age :  "
       ]
      },
      {
       "output_type": "stream",
       "stream": "stdout",
       "text": [
        "10\n",
        "(438, 1377) \n",
        "\n",
        "3843327"
       ]
      },
      {
       "output_type": "stream",
       "stream": "stdout",
       "text": [
        " 2 2 age :  "
       ]
      },
      {
       "output_type": "stream",
       "stream": "stdout",
       "text": [
        "10\n",
        "(439, 1377) \n",
        "\n",
        "2528144"
       ]
      },
      {
       "output_type": "stream",
       "stream": "stdout",
       "text": [
        " 1 1 age :  "
       ]
      },
      {
       "output_type": "stream",
       "stream": "stdout",
       "text": [
        "20\n",
        "(440, 1377) \n",
        "\n",
        "4748994"
       ]
      },
      {
       "output_type": "stream",
       "stream": "stdout",
       "text": [
        " 1 2 age :  "
       ]
      },
      {
       "output_type": "stream",
       "stream": "stdout",
       "text": [
        "10\n",
        "(440, 1378) \n",
        "\n",
        "3439498"
       ]
      },
      {
       "output_type": "stream",
       "stream": "stdout",
       "text": [
        " 2 1 age :  "
       ]
      },
      {
       "output_type": "stream",
       "stream": "stdout",
       "text": [
        "20\n",
        "(440, 1379) \n",
        "\n",
        "5285797"
       ]
      },
      {
       "output_type": "stream",
       "stream": "stdout",
       "text": [
        " 1 2 age :  "
       ]
      },
      {
       "output_type": "stream",
       "stream": "stdout",
       "text": [
        "20\n",
        "(440, 1380) \n",
        "\n",
        "4891307"
       ]
      },
      {
       "output_type": "stream",
       "stream": "stdout",
       "text": [
        " 1 2 age :  "
       ]
      },
      {
       "output_type": "stream",
       "stream": "stdout",
       "text": [
        "10\n",
        "(440, 1381) \n",
        "\n",
        "1703471"
       ]
      },
      {
       "output_type": "stream",
       "stream": "stdout",
       "text": [
        " 1 2 age :  "
       ]
      },
      {
       "output_type": "stream",
       "stream": "stdout",
       "text": [
        "20\n",
        "(440, 1382) \n",
        "\n",
        "1320305"
       ]
      },
      {
       "output_type": "stream",
       "stream": "stdout",
       "text": [
        " 1 2 age :  "
       ]
      },
      {
       "output_type": "stream",
       "stream": "stdout",
       "text": [
        "28\n",
        "(440, 1383) \n",
        "\n",
        "2957301"
       ]
      },
      {
       "output_type": "stream",
       "stream": "stdout",
       "text": [
        " 1 2 age :  "
       ]
      },
      {
       "output_type": "stream",
       "stream": "stdout",
       "text": [
        "10\n",
        "(440, 1384) \n",
        "\n",
        "1687031"
       ]
      },
      {
       "output_type": "stream",
       "stream": "stdout",
       "text": [
        " 1 2 age :  "
       ]
      },
      {
       "output_type": "stream",
       "stream": "stdout",
       "text": [
        "10\n",
        "(440, 1385) \n",
        "\n",
        "3879024"
       ]
      },
      {
       "output_type": "stream",
       "stream": "stdout",
       "text": [
        " 2 2 age :  "
       ]
      },
      {
       "output_type": "stream",
       "stream": "stdout",
       "text": [
        "20\n",
        "(441, 1385) \n",
        "\n",
        "1984003"
       ]
      },
      {
       "output_type": "stream",
       "stream": "stdout",
       "text": [
        " 1 2 age :  "
       ]
      },
      {
       "output_type": "stream",
       "stream": "stdout",
       "text": [
        "30\n",
        "(441, 1386) \n",
        "\n",
        "4064272"
       ]
      },
      {
       "output_type": "stream",
       "stream": "stdout",
       "text": [
        " 1 2 age :  "
       ]
      },
      {
       "output_type": "stream",
       "stream": "stdout",
       "text": [
        "30\n",
        "(441, 1387) \n",
        "\n",
        "1586565"
       ]
      },
      {
       "output_type": "stream",
       "stream": "stdout",
       "text": [
        " 1 2 age :  "
       ]
      },
      {
       "output_type": "stream",
       "stream": "stdout",
       "text": [
        "20\n",
        "(441, 1388) \n",
        "\n",
        "3840923"
       ]
      },
      {
       "output_type": "stream",
       "stream": "stdout",
       "text": [
        " 1 2 age :  "
       ]
      },
      {
       "output_type": "stream",
       "stream": "stdout",
       "text": [
        "28\n",
        "(441, 1389) \n",
        "\n",
        "1972936"
       ]
      },
      {
       "output_type": "stream",
       "stream": "stdout",
       "text": [
        " 1 2 age :  "
       ]
      },
      {
       "output_type": "stream",
       "stream": "stdout",
       "text": [
        "10\n",
        "(441, 1390) \n",
        "\n",
        "3558252"
       ]
      },
      {
       "output_type": "stream",
       "stream": "stdout",
       "text": [
        " 1 2 age :  "
       ]
      },
      {
       "output_type": "stream",
       "stream": "stdout",
       "text": [
        "10\n",
        "(441, 1391) \n",
        "\n",
        "3977992"
       ]
      },
      {
       "output_type": "stream",
       "stream": "stdout",
       "text": [
        " 1 2 age :  "
       ]
      },
      {
       "output_type": "stream",
       "stream": "stdout",
       "text": [
        "20\n",
        "(441, 1392) \n",
        "\n",
        "4831808"
       ]
      },
      {
       "output_type": "stream",
       "stream": "stdout",
       "text": [
        " 1 2 age :  "
       ]
      },
      {
       "output_type": "stream",
       "stream": "stdout",
       "text": [
        "30\n",
        "(441, 1393) \n",
        "\n",
        "3802847"
       ]
      },
      {
       "output_type": "stream",
       "stream": "stdout",
       "text": [
        " 2 1 age :  "
       ]
      },
      {
       "output_type": "stream",
       "stream": "stdout",
       "text": [
        "10\n",
        "(441, 1394) \n",
        "\n",
        "4460728"
       ]
      },
      {
       "output_type": "stream",
       "stream": "stdout",
       "text": [
        " 1 2 age :  "
       ]
      },
      {
       "output_type": "stream",
       "stream": "stdout",
       "text": [
        "10\n",
        "(441, 1395) \n",
        "\n",
        "2056209"
       ]
      },
      {
       "output_type": "stream",
       "stream": "stdout",
       "text": [
        " 1 2 age :  "
       ]
      },
      {
       "output_type": "stream",
       "stream": "stdout",
       "text": [
        "12\n",
        "(441, 1396) \n",
        "\n",
        "3992661"
       ]
      },
      {
       "output_type": "stream",
       "stream": "stdout",
       "text": [
        " 1 2 age :  "
       ]
      },
      {
       "output_type": "stream",
       "stream": "stdout",
       "text": [
        "20\n",
        "(441, 1397) \n",
        "\n",
        "3571458"
       ]
      },
      {
       "output_type": "stream",
       "stream": "stdout",
       "text": [
        " 2 1 age :  "
       ]
      },
      {
       "output_type": "stream",
       "stream": "stdout",
       "text": [
        "15\n",
        "(441, 1398) \n",
        "\n",
        "507110"
       ]
      },
      {
       "output_type": "stream",
       "stream": "stdout",
       "text": [
        " 1 2 age :  "
       ]
      },
      {
       "output_type": "stream",
       "stream": "stdout",
       "text": [
        "10\n",
        "(441, 1399) \n",
        "\n",
        "1711303"
       ]
      },
      {
       "output_type": "stream",
       "stream": "stdout",
       "text": [
        " 1 2 age :  "
       ]
      },
      {
       "output_type": "stream",
       "stream": "stdout",
       "text": [
        "20\n",
        "(441, 1400) \n",
        "\n",
        "2003779"
       ]
      },
      {
       "output_type": "stream",
       "stream": "stdout",
       "text": [
        " 1 2 age :  "
       ]
      },
      {
       "output_type": "stream",
       "stream": "stdout",
       "text": [
        "20\n",
        "(441, 1401) \n",
        "\n",
        "3467072"
       ]
      },
      {
       "output_type": "stream",
       "stream": "stdout",
       "text": [
        " 1 2 age :  "
       ]
      },
      {
       "output_type": "stream",
       "stream": "stdout",
       "text": [
        "40\n",
        "(441, 1402) \n",
        "\n",
        "2901342"
       ]
      },
      {
       "output_type": "stream",
       "stream": "stdout",
       "text": [
        " 2 1 age :  "
       ]
      },
      {
       "output_type": "stream",
       "stream": "stdout",
       "text": [
        "20\n",
        "(441, 1403) \n",
        "\n",
        "4696857"
       ]
      },
      {
       "output_type": "stream",
       "stream": "stdout",
       "text": [
        " 1 2 age :  "
       ]
      },
      {
       "output_type": "stream",
       "stream": "stdout",
       "text": [
        "10\n",
        "(441, 1404) \n",
        "\n",
        "3861177"
       ]
      },
      {
       "output_type": "stream",
       "stream": "stdout",
       "text": [
        " 2 2 age :  "
       ]
      },
      {
       "output_type": "stream",
       "stream": "stdout",
       "text": [
        "10\n",
        "(442, 1404) \n",
        "\n",
        "2728185"
       ]
      },
      {
       "output_type": "stream",
       "stream": "stdout",
       "text": [
        " 1 2 age :  "
       ]
      },
      {
       "output_type": "stream",
       "stream": "stdout",
       "text": [
        "20\n",
        "(442, 1405) \n",
        "\n",
        "2864256"
       ]
      },
      {
       "output_type": "stream",
       "stream": "stdout",
       "text": [
        " 1 2 age :  "
       ]
      },
      {
       "output_type": "stream",
       "stream": "stdout",
       "text": [
        "20\n",
        "(442, 1406) \n",
        "\n",
        "1764174"
       ]
      },
      {
       "output_type": "stream",
       "stream": "stdout",
       "text": [
        " 1 2 age :  "
       ]
      },
      {
       "output_type": "stream",
       "stream": "stdout",
       "text": [
        "10\n",
        "(442, 1407) \n",
        "\n",
        "5255555"
       ]
      },
      {
       "output_type": "stream",
       "stream": "stdout",
       "text": [
        " 2 2 age :  "
       ]
      },
      {
       "output_type": "stream",
       "stream": "stdout",
       "text": [
        "10\n",
        "(443, 1407) \n",
        "\n",
        "589862"
       ]
      },
      {
       "output_type": "stream",
       "stream": "stdout",
       "text": [
        " 2 1 age :  "
       ]
      },
      {
       "output_type": "stream",
       "stream": "stdout",
       "text": [
        "20\n",
        "(443, 1408) \n",
        "\n",
        "2021999"
       ]
      },
      {
       "output_type": "stream",
       "stream": "stdout",
       "text": [
        " 2 2 age :  "
       ]
      },
      {
       "output_type": "stream",
       "stream": "stdout",
       "text": [
        "20\n",
        "(444, 1408) \n",
        "\n",
        "5027400"
       ]
      },
      {
       "output_type": "stream",
       "stream": "stdout",
       "text": [
        " 1 2 age :  "
       ]
      },
      {
       "output_type": "stream",
       "stream": "stdout",
       "text": [
        "10\n",
        "(444, 1409) \n",
        "\n",
        "2405751"
       ]
      },
      {
       "output_type": "stream",
       "stream": "stdout",
       "text": [
        " 1 2 age :  "
       ]
      },
      {
       "output_type": "stream",
       "stream": "stdout",
       "text": [
        "10\n",
        "(444, 1410) \n",
        "\n",
        "1832556"
       ]
      },
      {
       "output_type": "stream",
       "stream": "stdout",
       "text": [
        " 2 1 age :  "
       ]
      },
      {
       "output_type": "stream",
       "stream": "stdout",
       "text": [
        "10\n",
        "(444, 1411) \n",
        "\n",
        "2982310"
       ]
      },
      {
       "output_type": "stream",
       "stream": "stdout",
       "text": [
        " 1 2 age :  "
       ]
      },
      {
       "output_type": "stream",
       "stream": "stdout",
       "text": [
        "32\n",
        "(444, 1412) \n",
        "\n",
        "3786888"
       ]
      },
      {
       "output_type": "stream",
       "stream": "stdout",
       "text": [
        " 1 2 age :  "
       ]
      },
      {
       "output_type": "stream",
       "stream": "stdout",
       "text": [
        "12\n",
        "(444, 1413) \n",
        "\n",
        "4131364"
       ]
      },
      {
       "output_type": "stream",
       "stream": "stdout",
       "text": [
        " 1 2 age :  "
       ]
      },
      {
       "output_type": "stream",
       "stream": "stdout",
       "text": [
        "20\n",
        "(444, 1414) \n",
        "\n",
        "3874712"
       ]
      },
      {
       "output_type": "stream",
       "stream": "stdout",
       "text": [
        " 2 2 age :  "
       ]
      },
      {
       "output_type": "stream",
       "stream": "stdout",
       "text": [
        "20\n",
        "(445, 1414) \n",
        "\n",
        "2998770"
       ]
      },
      {
       "output_type": "stream",
       "stream": "stdout",
       "text": [
        " 1 2 age :  "
       ]
      },
      {
       "output_type": "stream",
       "stream": "stdout",
       "text": [
        "20\n",
        "(445, 1415) \n",
        "\n",
        "2847138"
       ]
      },
      {
       "output_type": "stream",
       "stream": "stdout",
       "text": [
        " 1 2 age :  "
       ]
      },
      {
       "output_type": "stream",
       "stream": "stdout",
       "text": [
        "10\n",
        "(445, 1416) \n",
        "\n",
        "2397728"
       ]
      },
      {
       "output_type": "stream",
       "stream": "stdout",
       "text": [
        " 2 1 age :  "
       ]
      },
      {
       "output_type": "stream",
       "stream": "stdout",
       "text": [
        "10\n",
        "(445, 1417) \n",
        "\n",
        "963114"
       ]
      },
      {
       "output_type": "stream",
       "stream": "stdout",
       "text": [
        " 1 2 age :  "
       ]
      },
      {
       "output_type": "stream",
       "stream": "stdout",
       "text": [
        "30\n",
        "(445, 1418) \n",
        "\n",
        "4350115"
       ]
      },
      {
       "output_type": "stream",
       "stream": "stdout",
       "text": [
        " 1 2 age :  "
       ]
      },
      {
       "output_type": "stream",
       "stream": "stdout",
       "text": [
        "30\n",
        "(445, 1419) \n",
        "\n",
        "1650384"
       ]
      },
      {
       "output_type": "stream",
       "stream": "stdout",
       "text": [
        " 1 2 age :  "
       ]
      },
      {
       "output_type": "stream",
       "stream": "stdout",
       "text": [
        "30\n",
        "(445, 1420) \n",
        "\n",
        "3616101"
       ]
      },
      {
       "output_type": "stream",
       "stream": "stdout",
       "text": [
        " 1 2 age :  "
       ]
      },
      {
       "output_type": "stream",
       "stream": "stdout",
       "text": [
        "20\n",
        "(445, 1421) \n",
        "\n",
        "1710314"
       ]
      },
      {
       "output_type": "stream",
       "stream": "stdout",
       "text": [
        " 1 2 age :  "
       ]
      },
      {
       "output_type": "stream",
       "stream": "stdout",
       "text": [
        "10\n",
        "(445, 1422) \n",
        "\n",
        "5252481"
       ]
      },
      {
       "output_type": "stream",
       "stream": "stdout",
       "text": [
        " 1 2 age :  "
       ]
      },
      {
       "output_type": "stream",
       "stream": "stdout",
       "text": [
        "10\n",
        "(445, 1423) \n",
        "\n",
        "1877262"
       ]
      },
      {
       "output_type": "stream",
       "stream": "stdout",
       "text": [
        " 1 2 age :  "
       ]
      },
      {
       "output_type": "stream",
       "stream": "stdout",
       "text": [
        "20\n",
        "(445, 1424) \n",
        "\n",
        "1582410"
       ]
      },
      {
       "output_type": "stream",
       "stream": "stdout",
       "text": [
        " 1 2 age :  "
       ]
      },
      {
       "output_type": "stream",
       "stream": "stdout",
       "text": [
        "30\n",
        "(445, 1425) \n",
        "\n",
        "2444530"
       ]
      },
      {
       "output_type": "stream",
       "stream": "stdout",
       "text": [
        " 1 2 age :  "
       ]
      },
      {
       "output_type": "stream",
       "stream": "stdout",
       "text": [
        "20\n",
        "(445, 1426) \n",
        "\n",
        "2116434"
       ]
      },
      {
       "output_type": "stream",
       "stream": "stdout",
       "text": [
        " 2 2 age :  "
       ]
      },
      {
       "output_type": "stream",
       "stream": "stdout",
       "text": [
        "30\n",
        "(446, 1426) \n",
        "\n",
        "2152118"
       ]
      },
      {
       "output_type": "stream",
       "stream": "stdout",
       "text": [
        " 1 2 age :  "
       ]
      },
      {
       "output_type": "stream",
       "stream": "stdout",
       "text": [
        "24\n",
        "(446, 1427) \n",
        "\n",
        "3044566"
       ]
      },
      {
       "output_type": "stream",
       "stream": "stdout",
       "text": [
        " 2 2 age :  "
       ]
      },
      {
       "output_type": "stream",
       "stream": "stdout",
       "text": [
        "10\n",
        "(447, 1427) \n",
        "\n",
        "2171025"
       ]
      },
      {
       "output_type": "stream",
       "stream": "stdout",
       "text": [
        " 2 2 age :  "
       ]
      },
      {
       "output_type": "stream",
       "stream": "stdout",
       "text": [
        "30\n",
        "(448, 1427) \n",
        "\n",
        "3838515"
       ]
      },
      {
       "output_type": "stream",
       "stream": "stdout",
       "text": [
        " 2 2 age :  "
       ]
      },
      {
       "output_type": "stream",
       "stream": "stdout",
       "text": [
        "12\n",
        "(449, 1427) \n",
        "\n",
        "4999353"
       ]
      },
      {
       "output_type": "stream",
       "stream": "stdout",
       "text": [
        " 1 2 age :  "
       ]
      },
      {
       "output_type": "stream",
       "stream": "stdout",
       "text": [
        "30\n",
        "(449, 1428) \n",
        "\n",
        "2050933"
       ]
      },
      {
       "output_type": "stream",
       "stream": "stdout",
       "text": [
        " 2 2 age :  "
       ]
      },
      {
       "output_type": "stream",
       "stream": "stdout",
       "text": [
        "10\n",
        "(450, 1428) \n",
        "\n",
        "2305228"
       ]
      },
      {
       "output_type": "stream",
       "stream": "stdout",
       "text": [
        " 1 2 age :  "
       ]
      },
      {
       "output_type": "stream",
       "stream": "stdout",
       "text": [
        "20\n",
        "(450, 1429) \n",
        "\n",
        "2504554"
       ]
      },
      {
       "output_type": "stream",
       "stream": "stdout",
       "text": [
        " 1 2 age :  "
       ]
      },
      {
       "output_type": "stream",
       "stream": "stdout",
       "text": [
        "10\n",
        "(450, 1430) \n",
        "\n",
        "1639646"
       ]
      },
      {
       "output_type": "stream",
       "stream": "stdout",
       "text": [
        " 1 2 age :  "
       ]
      },
      {
       "output_type": "stream",
       "stream": "stdout",
       "text": [
        "10\n",
        "(450, 1431) \n",
        "\n",
        "1987078"
       ]
      },
      {
       "output_type": "stream",
       "stream": "stdout",
       "text": [
        " 2 1 age :  "
       ]
      },
      {
       "output_type": "stream",
       "stream": "stdout",
       "text": [
        "10\n",
        "(450, 1432) \n",
        "\n",
        "4266581"
       ]
      },
      {
       "output_type": "stream",
       "stream": "stdout",
       "text": [
        " 1 2 age :  "
       ]
      },
      {
       "output_type": "stream",
       "stream": "stdout",
       "text": [
        "10\n",
        "(450, 1433) \n",
        "\n",
        "3781118"
       ]
      },
      {
       "output_type": "stream",
       "stream": "stdout",
       "text": [
        " 2 2 age :  "
       ]
      },
      {
       "output_type": "stream",
       "stream": "stdout",
       "text": [
        "10\n",
        "(451, 1433) \n",
        "\n",
        "1887722"
       ]
      },
      {
       "output_type": "stream",
       "stream": "stdout",
       "text": [
        " 1 2 age :  "
       ]
      },
      {
       "output_type": "stream",
       "stream": "stdout",
       "text": [
        "20\n",
        "(451, 1434) \n",
        "\n",
        "4863056"
       ]
      },
      {
       "output_type": "stream",
       "stream": "stdout",
       "text": [
        " 1 2 age :  "
       ]
      },
      {
       "output_type": "stream",
       "stream": "stdout",
       "text": [
        "20\n",
        "(451, 1435) \n",
        "\n",
        "2435491"
       ]
      },
      {
       "output_type": "stream",
       "stream": "stdout",
       "text": [
        " 2 1 age :  "
       ]
      },
      {
       "output_type": "stream",
       "stream": "stdout",
       "text": [
        "25\n",
        "(451, 1436) \n",
        "\n",
        "4743937"
       ]
      },
      {
       "output_type": "stream",
       "stream": "stdout",
       "text": [
        " 2 1 age :  "
       ]
      },
      {
       "output_type": "stream",
       "stream": "stdout",
       "text": [
        "22\n",
        "(451, 1437) \n",
        "\n",
        "1844113"
       ]
      },
      {
       "output_type": "stream",
       "stream": "stdout",
       "text": [
        " 1 2 age :  "
       ]
      },
      {
       "output_type": "stream",
       "stream": "stdout",
       "text": [
        "10\n",
        "(451, 1438) \n",
        "\n",
        "5507260"
       ]
      },
      {
       "output_type": "stream",
       "stream": "stdout",
       "text": [
        " 1 2 age :  "
       ]
      },
      {
       "output_type": "stream",
       "stream": "stdout",
       "text": [
        "20\n",
        "(451, 1439) \n",
        "\n",
        "1753168"
       ]
      },
      {
       "output_type": "stream",
       "stream": "stdout",
       "text": [
        " 1 2 age :  "
       ]
      },
      {
       "output_type": "stream",
       "stream": "stdout",
       "text": [
        "10\n",
        "(451, 1440) \n",
        "\n",
        "1829280"
       ]
      },
      {
       "output_type": "stream",
       "stream": "stdout",
       "text": [
        " 1 2 age :  "
       ]
      },
      {
       "output_type": "stream",
       "stream": "stdout",
       "text": [
        "10\n",
        "(451, 1441) \n",
        "\n",
        "1821023"
       ]
      },
      {
       "output_type": "stream",
       "stream": "stdout",
       "text": [
        " 2 1 age :  "
       ]
      },
      {
       "output_type": "stream",
       "stream": "stdout",
       "text": [
        "12\n",
        "(451, 1442) \n",
        "\n",
        "2080793"
       ]
      },
      {
       "output_type": "stream",
       "stream": "stdout",
       "text": [
        " 1 1 age :  "
       ]
      },
      {
       "output_type": "stream",
       "stream": "stdout",
       "text": [
        "20\n",
        "(452, 1442) \n",
        "\n",
        "3463748"
       ]
      },
      {
       "output_type": "stream",
       "stream": "stdout",
       "text": [
        " 2 2 age :  "
       ]
      },
      {
       "output_type": "stream",
       "stream": "stdout",
       "text": [
        "10\n",
        "(453, 1442) \n",
        "\n",
        "5199080"
       ]
      },
      {
       "output_type": "stream",
       "stream": "stdout",
       "text": [
        " 1 2 age :  "
       ]
      },
      {
       "output_type": "stream",
       "stream": "stdout",
       "text": [
        "10\n",
        "(453, 1443) \n",
        "\n",
        "4180014"
       ]
      },
      {
       "output_type": "stream",
       "stream": "stdout",
       "text": [
        " 1 2 age :  "
       ]
      },
      {
       "output_type": "stream",
       "stream": "stdout",
       "text": [
        "20\n",
        "(453, 1444) \n",
        "\n",
        "3979434"
       ]
      },
      {
       "output_type": "stream",
       "stream": "stdout",
       "text": [
        " 1 2 age :  "
       ]
      },
      {
       "output_type": "stream",
       "stream": "stdout",
       "text": [
        "30\n",
        "(453, 1445) \n",
        "\n",
        "3326189"
       ]
      },
      {
       "output_type": "stream",
       "stream": "stdout",
       "text": [
        " 2 2 age :  "
       ]
      },
      {
       "output_type": "stream",
       "stream": "stdout",
       "text": [
        "32\n",
        "(454, 1445) \n",
        "\n",
        "5121360"
       ]
      },
      {
       "output_type": "stream",
       "stream": "stdout",
       "text": [
        " 1 2 age :  "
       ]
      },
      {
       "output_type": "stream",
       "stream": "stdout",
       "text": [
        "27\n",
        "(454, 1446) \n",
        "\n",
        "1481666"
       ]
      },
      {
       "output_type": "stream",
       "stream": "stdout",
       "text": [
        " 1 2 age :  "
       ]
      },
      {
       "output_type": "stream",
       "stream": "stdout",
       "text": [
        "40\n",
        "(454, 1447) \n",
        "\n",
        "1945516"
       ]
      },
      {
       "output_type": "stream",
       "stream": "stdout",
       "text": [
        " 1 2 age :  "
       ]
      },
      {
       "output_type": "stream",
       "stream": "stdout",
       "text": [
        "10\n",
        "(454, 1448) \n",
        "\n",
        "4579808"
       ]
      },
      {
       "output_type": "stream",
       "stream": "stdout",
       "text": [
        " 1 2 age :  "
       ]
      },
      {
       "output_type": "stream",
       "stream": "stdout",
       "text": [
        "10\n",
        "(454, 1449) \n",
        "\n",
        "3558476"
       ]
      },
      {
       "output_type": "stream",
       "stream": "stdout",
       "text": [
        " 1 2 age :  "
       ]
      },
      {
       "output_type": "stream",
       "stream": "stdout",
       "text": [
        "40\n",
        "(454, 1450) \n",
        "\n",
        "1628488"
       ]
      },
      {
       "output_type": "stream",
       "stream": "stdout",
       "text": [
        " 2 2 age :  "
       ]
      },
      {
       "output_type": "stream",
       "stream": "stdout",
       "text": [
        "20\n",
        "(455, 1450) \n",
        "\n",
        "3426474"
       ]
      },
      {
       "output_type": "stream",
       "stream": "stdout",
       "text": [
        " 1 2 age :  "
       ]
      },
      {
       "output_type": "stream",
       "stream": "stdout",
       "text": [
        "10\n",
        "(455, 1451) \n",
        "\n",
        "2795823"
       ]
      },
      {
       "output_type": "stream",
       "stream": "stdout",
       "text": [
        " 2 1 age :  "
       ]
      },
      {
       "output_type": "stream",
       "stream": "stdout",
       "text": [
        "12\n",
        "(455, 1452) \n",
        "\n",
        "4925366"
       ]
      },
      {
       "output_type": "stream",
       "stream": "stdout",
       "text": [
        " 1 2 age :  "
       ]
      },
      {
       "output_type": "stream",
       "stream": "stdout",
       "text": [
        "30\n",
        "(455, 1453) \n",
        "\n",
        "4893741"
       ]
      },
      {
       "output_type": "stream",
       "stream": "stdout",
       "text": [
        " 1 2 age :  "
       ]
      },
      {
       "output_type": "stream",
       "stream": "stdout",
       "text": [
        "10\n",
        "(455, 1454) \n",
        "\n",
        "4211769"
       ]
      },
      {
       "output_type": "stream",
       "stream": "stdout",
       "text": [
        " 1 2 age :  "
       ]
      },
      {
       "output_type": "stream",
       "stream": "stdout",
       "text": [
        "10\n",
        "(455, 1455) \n",
        "\n",
        "4556113"
       ]
      },
      {
       "output_type": "stream",
       "stream": "stdout",
       "text": [
        " 2 1 age :  "
       ]
      },
      {
       "output_type": "stream",
       "stream": "stdout",
       "text": [
        "10\n",
        "(455, 1456) \n",
        "\n",
        "2208087"
       ]
      },
      {
       "output_type": "stream",
       "stream": "stdout",
       "text": [
        " 1 2 age :  "
       ]
      },
      {
       "output_type": "stream",
       "stream": "stdout",
       "text": [
        "10\n",
        "(455, 1457) \n",
        "\n",
        "3742260"
       ]
      },
      {
       "output_type": "stream",
       "stream": "stdout",
       "text": [
        " 1 2 age :  "
       ]
      },
      {
       "output_type": "stream",
       "stream": "stdout",
       "text": [
        "10\n",
        "(455, 1458) \n",
        "\n",
        "2120062"
       ]
      },
      {
       "output_type": "stream",
       "stream": "stdout",
       "text": [
        " 2 1 age :  "
       ]
      },
      {
       "output_type": "stream",
       "stream": "stdout",
       "text": [
        "10\n",
        "(455, 1459) \n",
        "\n",
        "1922209"
       ]
      },
      {
       "output_type": "stream",
       "stream": "stdout",
       "text": [
        " 1 2 age :  "
       ]
      },
      {
       "output_type": "stream",
       "stream": "stdout",
       "text": [
        "10\n",
        "(455, 1460) \n",
        "\n",
        "2511991"
       ]
      },
      {
       "output_type": "stream",
       "stream": "stdout",
       "text": [
        " 1 2 age :  "
       ]
      },
      {
       "output_type": "stream",
       "stream": "stdout",
       "text": [
        "10\n",
        "(455, 1461) \n",
        "\n",
        "2955810"
       ]
      },
      {
       "output_type": "stream",
       "stream": "stdout",
       "text": [
        " 2 2 age :  "
       ]
      },
      {
       "output_type": "stream",
       "stream": "stdout",
       "text": [
        "10\n",
        "(456, 1461) \n",
        "\n",
        "3816059"
       ]
      },
      {
       "output_type": "stream",
       "stream": "stdout",
       "text": [
        " 1 2 age :  "
       ]
      },
      {
       "output_type": "stream",
       "stream": "stdout",
       "text": [
        "10\n",
        "(456, 1462) \n",
        "\n",
        "5113639"
       ]
      },
      {
       "output_type": "stream",
       "stream": "stdout",
       "text": [
        " 1 2 age :  "
       ]
      },
      {
       "output_type": "stream",
       "stream": "stdout",
       "text": [
        "27\n",
        "(456, 1463) \n",
        "\n",
        "4791499"
       ]
      },
      {
       "output_type": "stream",
       "stream": "stdout",
       "text": [
        " 1 2 age :  "
       ]
      },
      {
       "output_type": "stream",
       "stream": "stdout",
       "text": [
        "10\n",
        "(456, 1464) \n",
        "\n",
        "1388783"
       ]
      },
      {
       "output_type": "stream",
       "stream": "stdout",
       "text": [
        " 1 2 age :  "
       ]
      },
      {
       "output_type": "stream",
       "stream": "stdout",
       "text": [
        "10\n",
        "(456, 1465) \n",
        "\n",
        "3856946"
       ]
      },
      {
       "output_type": "stream",
       "stream": "stdout",
       "text": [
        " 2 2 age :  "
       ]
      },
      {
       "output_type": "stream",
       "stream": "stdout",
       "text": [
        "30\n",
        "(457, 1465) \n",
        "\n",
        "2103447"
       ]
      },
      {
       "output_type": "stream",
       "stream": "stdout",
       "text": [
        " 1 2 age :  "
       ]
      },
      {
       "output_type": "stream",
       "stream": "stdout",
       "text": [
        "30\n",
        "(457, 1466) \n",
        "\n",
        "3190718"
       ]
      },
      {
       "output_type": "stream",
       "stream": "stdout",
       "text": [
        " 1 2 age :  "
       ]
      },
      {
       "output_type": "stream",
       "stream": "stdout",
       "text": [
        "10\n",
        "(457, 1467) \n",
        "\n",
        "3944801"
       ]
      },
      {
       "output_type": "stream",
       "stream": "stdout",
       "text": [
        " 1 2 age :  "
       ]
      },
      {
       "output_type": "stream",
       "stream": "stdout",
       "text": [
        "40\n",
        "(457, 1468) \n",
        "\n",
        "1727061"
       ]
      },
      {
       "output_type": "stream",
       "stream": "stdout",
       "text": [
        " 1 2 age :  "
       ]
      },
      {
       "output_type": "stream",
       "stream": "stdout",
       "text": [
        "10\n",
        "(457, 1469) \n",
        "\n",
        "3794211"
       ]
      },
      {
       "output_type": "stream",
       "stream": "stdout",
       "text": [
        " 1 2 age :  "
       ]
      },
      {
       "output_type": "stream",
       "stream": "stdout",
       "text": [
        "10\n",
        "(457, 1470) \n",
        "\n",
        "3115239"
       ]
      },
      {
       "output_type": "stream",
       "stream": "stdout",
       "text": [
        " 1 2 age :  "
       ]
      },
      {
       "output_type": "stream",
       "stream": "stdout",
       "text": [
        "20\n",
        "(457, 1471) \n",
        "\n",
        "3464467"
       ]
      },
      {
       "output_type": "stream",
       "stream": "stdout",
       "text": [
        " 2 2 age :  "
       ]
      },
      {
       "output_type": "stream",
       "stream": "stdout",
       "text": [
        "10\n",
        "(458, 1471) \n",
        "\n",
        "1837325"
       ]
      },
      {
       "output_type": "stream",
       "stream": "stdout",
       "text": [
        " 2 2 age :  "
       ]
      },
      {
       "output_type": "stream",
       "stream": "stdout",
       "text": [
        "30\n",
        "(459, 1471) \n",
        "\n",
        "2233679"
       ]
      },
      {
       "output_type": "stream",
       "stream": "stdout",
       "text": [
        " 1 2 age :  "
       ]
      },
      {
       "output_type": "stream",
       "stream": "stdout",
       "text": [
        "20\n",
        "(459, 1472) \n",
        "\n",
        "1987845"
       ]
      },
      {
       "output_type": "stream",
       "stream": "stdout",
       "text": [
        " 1 2 age :  "
       ]
      },
      {
       "output_type": "stream",
       "stream": "stdout",
       "text": [
        "30\n",
        "(459, 1473) \n",
        "\n",
        "5281671"
       ]
      },
      {
       "output_type": "stream",
       "stream": "stdout",
       "text": [
        " 1 1 age :  "
       ]
      },
      {
       "output_type": "stream",
       "stream": "stdout",
       "text": [
        "10\n",
        "(460, 1473) \n",
        "\n",
        "1687387"
       ]
      },
      {
       "output_type": "stream",
       "stream": "stdout",
       "text": [
        " 1 2 age :  "
       ]
      },
      {
       "output_type": "stream",
       "stream": "stdout",
       "text": [
        "30\n",
        "(460, 1474) \n",
        "\n",
        "3784354"
       ]
      },
      {
       "output_type": "stream",
       "stream": "stdout",
       "text": [
        " 1 2 age :  "
       ]
      },
      {
       "output_type": "stream",
       "stream": "stdout",
       "text": [
        "10\n",
        "(460, 1475) \n",
        "\n",
        "5110054"
       ]
      },
      {
       "output_type": "stream",
       "stream": "stdout",
       "text": [
        " 2 1 age :  "
       ]
      },
      {
       "output_type": "stream",
       "stream": "stdout",
       "text": [
        "14\n",
        "(460, 1476) \n",
        "\n",
        "4801517"
       ]
      },
      {
       "output_type": "stream",
       "stream": "stdout",
       "text": [
        " 1 2 age :  "
       ]
      },
      {
       "output_type": "stream",
       "stream": "stdout",
       "text": [
        "21\n",
        "(460, 1477) \n",
        "\n",
        "1881698"
       ]
      },
      {
       "output_type": "stream",
       "stream": "stdout",
       "text": [
        " 2 1 age :  "
       ]
      },
      {
       "output_type": "stream",
       "stream": "stdout",
       "text": [
        "10\n",
        "(460, 1478) \n",
        "\n",
        "3756818"
       ]
      },
      {
       "output_type": "stream",
       "stream": "stdout",
       "text": [
        " 1 2 age :  "
       ]
      },
      {
       "output_type": "stream",
       "stream": "stdout",
       "text": [
        "10\n",
        "(460, 1479) \n",
        "\n",
        "5532567"
       ]
      },
      {
       "output_type": "stream",
       "stream": "stdout",
       "text": [
        " 1 2 age :  "
       ]
      },
      {
       "output_type": "stream",
       "stream": "stdout",
       "text": [
        "10\n",
        "(460, 1480) \n",
        "\n",
        "2357912"
       ]
      },
      {
       "output_type": "stream",
       "stream": "stdout",
       "text": [
        " 1 2 age :  "
       ]
      },
      {
       "output_type": "stream",
       "stream": "stdout",
       "text": [
        "10\n",
        "(460, 1481) \n",
        "\n",
        "1828978"
       ]
      },
      {
       "output_type": "stream",
       "stream": "stdout",
       "text": [
        " 2 1 age :  "
       ]
      },
      {
       "output_type": "stream",
       "stream": "stdout",
       "text": [
        "20\n",
        "(460, 1482) \n",
        "\n",
        "4736563"
       ]
      },
      {
       "output_type": "stream",
       "stream": "stdout",
       "text": [
        " 1 2 age :  "
       ]
      },
      {
       "output_type": "stream",
       "stream": "stdout",
       "text": [
        "30\n",
        "(460, 1483) \n",
        "\n",
        "1732535"
       ]
      },
      {
       "output_type": "stream",
       "stream": "stdout",
       "text": [
        " 1 2 age :  "
       ]
      },
      {
       "output_type": "stream",
       "stream": "stdout",
       "text": [
        "10\n",
        "(460, 1484) \n",
        "\n",
        "1234225"
       ]
      },
      {
       "output_type": "stream",
       "stream": "stdout",
       "text": [
        " 1 1 age :  "
       ]
      },
      {
       "output_type": "stream",
       "stream": "stdout",
       "text": [
        "22\n",
        "(461, 1484) \n",
        "\n",
        "3128346"
       ]
      },
      {
       "output_type": "stream",
       "stream": "stdout",
       "text": [
        " 2 1 age :  "
       ]
      },
      {
       "output_type": "stream",
       "stream": "stdout",
       "text": [
        "30\n",
        "(461, 1485) \n",
        "\n",
        "3675115"
       ]
      },
      {
       "output_type": "stream",
       "stream": "stdout",
       "text": [
        " 1 2 age :  "
       ]
      },
      {
       "output_type": "stream",
       "stream": "stdout",
       "text": [
        "20\n",
        "(461, 1486) \n",
        "\n",
        "1761431"
       ]
      },
      {
       "output_type": "stream",
       "stream": "stdout",
       "text": [
        " 1 1 age :  "
       ]
      },
      {
       "output_type": "stream",
       "stream": "stdout",
       "text": [
        "20\n",
        "(462, 1486) \n",
        "\n",
        "1976824"
       ]
      },
      {
       "output_type": "stream",
       "stream": "stdout",
       "text": [
        " 1 2 age :  "
       ]
      },
      {
       "output_type": "stream",
       "stream": "stdout",
       "text": [
        "30\n",
        "(462, 1487) \n",
        "\n",
        "2434376"
       ]
      },
      {
       "output_type": "stream",
       "stream": "stdout",
       "text": [
        " 2 1 age :  "
       ]
      },
      {
       "output_type": "stream",
       "stream": "stdout",
       "text": [
        "10\n",
        "(462, 1488) \n",
        "\n",
        "1786689"
       ]
      },
      {
       "output_type": "stream",
       "stream": "stdout",
       "text": [
        " 1 2 age :  "
       ]
      },
      {
       "output_type": "stream",
       "stream": "stdout",
       "text": [
        "10\n",
        "(462, 1489) \n",
        "\n",
        "1696269"
       ]
      },
      {
       "output_type": "stream",
       "stream": "stdout",
       "text": [
        " 2 2 age :  "
       ]
      },
      {
       "output_type": "stream",
       "stream": "stdout",
       "text": [
        "10\n",
        "(463, 1489) \n",
        "\n",
        "3815165"
       ]
      },
      {
       "output_type": "stream",
       "stream": "stdout",
       "text": [
        " 2 2 age :  "
       ]
      },
      {
       "output_type": "stream",
       "stream": "stdout",
       "text": [
        "20\n",
        "(464, 1489) \n",
        "\n",
        "4584309"
       ]
      },
      {
       "output_type": "stream",
       "stream": "stdout",
       "text": [
        " 2 1 age :  "
       ]
      },
      {
       "output_type": "stream",
       "stream": "stdout",
       "text": [
        "20\n",
        "(464, 1490) \n",
        "\n",
        "1663004"
       ]
      },
      {
       "output_type": "stream",
       "stream": "stdout",
       "text": [
        " 1 2 age :  "
       ]
      },
      {
       "output_type": "stream",
       "stream": "stdout",
       "text": [
        "30\n",
        "(464, 1491) \n",
        "\n",
        "1548140"
       ]
      },
      {
       "output_type": "stream",
       "stream": "stdout",
       "text": [
        " 2 1 age :  "
       ]
      },
      {
       "output_type": "stream",
       "stream": "stdout",
       "text": [
        "30\n",
        "(464, 1492) \n",
        "\n",
        "4757256"
       ]
      },
      {
       "output_type": "stream",
       "stream": "stdout",
       "text": [
        " 2 1 age :  "
       ]
      },
      {
       "output_type": "stream",
       "stream": "stdout",
       "text": [
        "18\n",
        "(464, 1493) \n",
        "\n",
        "1601192"
       ]
      },
      {
       "output_type": "stream",
       "stream": "stdout",
       "text": [
        " 1 2 age :  "
       ]
      },
      {
       "output_type": "stream",
       "stream": "stdout",
       "text": [
        "10\n",
        "(464, 1494) \n",
        "\n",
        "3820776"
       ]
      },
      {
       "output_type": "stream",
       "stream": "stdout",
       "text": [
        " 2 1 age :  "
       ]
      },
      {
       "output_type": "stream",
       "stream": "stdout",
       "text": [
        "20\n",
        "(464, 1495) \n",
        "\n",
        "3371304"
       ]
      },
      {
       "output_type": "stream",
       "stream": "stdout",
       "text": [
        " 2 2 age :  "
       ]
      },
      {
       "output_type": "stream",
       "stream": "stdout",
       "text": [
        "10\n",
        "(465, 1495) \n",
        "\n",
        "4124928"
       ]
      },
      {
       "output_type": "stream",
       "stream": "stdout",
       "text": [
        " 2 2 age :  "
       ]
      },
      {
       "output_type": "stream",
       "stream": "stdout",
       "text": [
        "22\n",
        "(466, 1495) \n",
        "\n",
        "4734486"
       ]
      },
      {
       "output_type": "stream",
       "stream": "stdout",
       "text": [
        " 2 2 age :  "
       ]
      },
      {
       "output_type": "stream",
       "stream": "stdout",
       "text": [
        "20\n",
        "(467, 1495) \n",
        "\n",
        "1875917"
       ]
      },
      {
       "output_type": "stream",
       "stream": "stdout",
       "text": [
        " 1 2 age :  "
       ]
      },
      {
       "output_type": "stream",
       "stream": "stdout",
       "text": [
        "20\n",
        "(467, 1496) \n",
        "\n",
        "1642738"
       ]
      },
      {
       "output_type": "stream",
       "stream": "stdout",
       "text": [
        " 1 2 age :  "
       ]
      },
      {
       "output_type": "stream",
       "stream": "stdout",
       "text": [
        "10\n",
        "(467, 1497) \n",
        "\n",
        "4952190"
       ]
      },
      {
       "output_type": "stream",
       "stream": "stdout",
       "text": [
        " 1 2 age :  "
       ]
      },
      {
       "output_type": "stream",
       "stream": "stdout",
       "text": [
        "10\n",
        "(467, 1498) \n",
        "\n",
        "5325622"
       ]
      },
      {
       "output_type": "stream",
       "stream": "stdout",
       "text": [
        " 2 2 age :  "
       ]
      },
      {
       "output_type": "stream",
       "stream": "stdout",
       "text": [
        "32\n",
        "(468, 1498) \n",
        "\n",
        "5248207"
       ]
      },
      {
       "output_type": "stream",
       "stream": "stdout",
       "text": [
        " 2 1 age :  "
       ]
      },
      {
       "output_type": "stream",
       "stream": "stdout",
       "text": [
        "10\n",
        "(468, 1499) \n",
        "\n",
        "3426857"
       ]
      },
      {
       "output_type": "stream",
       "stream": "stdout",
       "text": [
        " 1 2 age :  "
       ]
      },
      {
       "output_type": "stream",
       "stream": "stdout",
       "text": [
        "20\n",
        "(468, 1500) \n",
        "\n",
        "4699409"
       ]
      },
      {
       "output_type": "stream",
       "stream": "stdout",
       "text": [
        " 1 2 age :  "
       ]
      },
      {
       "output_type": "stream",
       "stream": "stdout",
       "text": [
        "10\n",
        "(468, 1501) \n",
        "\n",
        "2809008"
       ]
      },
      {
       "output_type": "stream",
       "stream": "stdout",
       "text": [
        " 1 2 age :  "
       ]
      },
      {
       "output_type": "stream",
       "stream": "stdout",
       "text": [
        "20\n",
        "(468, 1502) \n",
        "\n",
        "4579317"
       ]
      },
      {
       "output_type": "stream",
       "stream": "stdout",
       "text": [
        " 2 2 age :  "
       ]
      },
      {
       "output_type": "stream",
       "stream": "stdout",
       "text": [
        "10\n",
        "(469, 1502) \n",
        "\n",
        "2049447"
       ]
      },
      {
       "output_type": "stream",
       "stream": "stdout",
       "text": [
        " 1 1 age :  "
       ]
      },
      {
       "output_type": "stream",
       "stream": "stdout",
       "text": [
        "10\n",
        "(470, 1502) \n",
        "\n",
        "2528644"
       ]
      },
      {
       "output_type": "stream",
       "stream": "stdout",
       "text": [
        " 1 1 age :  "
       ]
      },
      {
       "output_type": "stream",
       "stream": "stdout",
       "text": [
        "10\n",
        "(471, 1502) \n",
        "\n",
        "4215892"
       ]
      },
      {
       "output_type": "stream",
       "stream": "stdout",
       "text": [
        " 1 2 age :  "
       ]
      },
      {
       "output_type": "stream",
       "stream": "stdout",
       "text": [
        "10\n",
        "(471, 1503) \n",
        "\n",
        "5549391"
       ]
      },
      {
       "output_type": "stream",
       "stream": "stdout",
       "text": [
        " 1 2 age :  "
       ]
      },
      {
       "output_type": "stream",
       "stream": "stdout",
       "text": [
        "20\n",
        "(471, 1504) \n",
        "\n",
        "1690488"
       ]
      },
      {
       "output_type": "stream",
       "stream": "stdout",
       "text": [
        " 1 2 age :  "
       ]
      },
      {
       "output_type": "stream",
       "stream": "stdout",
       "text": [
        "10\n",
        "(471, 1505) \n",
        "\n",
        "1768137"
       ]
      },
      {
       "output_type": "stream",
       "stream": "stdout",
       "text": [
        " 2 1 age :  "
       ]
      },
      {
       "output_type": "stream",
       "stream": "stdout",
       "text": [
        "20\n",
        "(471, 1506) \n",
        "\n",
        "1668210"
       ]
      },
      {
       "output_type": "stream",
       "stream": "stdout",
       "text": [
        " 1 2 age :  "
       ]
      },
      {
       "output_type": "stream",
       "stream": "stdout",
       "text": [
        "10\n",
        "(471, 1507) \n",
        "\n",
        "4768424"
       ]
      },
      {
       "output_type": "stream",
       "stream": "stdout",
       "text": [
        " 1 1 age :  "
       ]
      },
      {
       "output_type": "stream",
       "stream": "stdout",
       "text": [
        "20\n",
        "(472, 1507) \n",
        "\n",
        "3688547"
       ]
      },
      {
       "output_type": "stream",
       "stream": "stdout",
       "text": [
        " 2 2 age :  "
       ]
      },
      {
       "output_type": "stream",
       "stream": "stdout",
       "text": [
        "15\n",
        "(473, 1507) \n",
        "\n",
        "3738656"
       ]
      },
      {
       "output_type": "stream",
       "stream": "stdout",
       "text": [
        " 2 1 age :  "
       ]
      },
      {
       "output_type": "stream",
       "stream": "stdout",
       "text": [
        "10\n",
        "(473, 1508) \n",
        "\n",
        "1907947"
       ]
      },
      {
       "output_type": "stream",
       "stream": "stdout",
       "text": [
        " 2 2 age :  "
       ]
      },
      {
       "output_type": "stream",
       "stream": "stdout",
       "text": [
        "20\n",
        "(474, 1508) \n",
        "\n",
        "4659017"
       ]
      },
      {
       "output_type": "stream",
       "stream": "stdout",
       "text": [
        " 1 2 age :  "
       ]
      },
      {
       "output_type": "stream",
       "stream": "stdout",
       "text": [
        "20\n",
        "(474, 1509) \n",
        "\n",
        "1745956"
       ]
      },
      {
       "output_type": "stream",
       "stream": "stdout",
       "text": [
        " 1 1 age :  "
       ]
      },
      {
       "output_type": "stream",
       "stream": "stdout",
       "text": [
        "10\n",
        "(475, 1509) \n",
        "\n",
        "1736467"
       ]
      },
      {
       "output_type": "stream",
       "stream": "stdout",
       "text": [
        " 1 2 age :  "
       ]
      },
      {
       "output_type": "stream",
       "stream": "stdout",
       "text": [
        "10\n",
        "(475, 1510) \n",
        "\n",
        "4342617"
       ]
      },
      {
       "output_type": "stream",
       "stream": "stdout",
       "text": [
        " 1 2 age :  "
       ]
      },
      {
       "output_type": "stream",
       "stream": "stdout",
       "text": [
        "20\n",
        "(475, 1511) \n",
        "\n",
        "2007493"
       ]
      },
      {
       "output_type": "stream",
       "stream": "stdout",
       "text": [
        " 1 2 age :  "
       ]
      },
      {
       "output_type": "stream",
       "stream": "stdout",
       "text": [
        "30\n",
        "(475, 1512) \n",
        "\n",
        "2176700"
       ]
      },
      {
       "output_type": "stream",
       "stream": "stdout",
       "text": [
        " 2 2 age :  "
       ]
      },
      {
       "output_type": "stream",
       "stream": "stdout",
       "text": [
        "10\n",
        "(476, 1512) \n",
        "\n",
        "2026135"
       ]
      },
      {
       "output_type": "stream",
       "stream": "stdout",
       "text": [
        " 2 1 age :  "
       ]
      },
      {
       "output_type": "stream",
       "stream": "stdout",
       "text": [
        "10\n",
        "(476, 1513) \n",
        "\n",
        "1897067"
       ]
      },
      {
       "output_type": "stream",
       "stream": "stdout",
       "text": [
        " 1 2 age :  "
       ]
      },
      {
       "output_type": "stream",
       "stream": "stdout",
       "text": [
        "20\n",
        "(476, 1514) \n",
        "\n",
        "484882"
       ]
      },
      {
       "output_type": "stream",
       "stream": "stdout",
       "text": [
        " 1 2 age :  "
       ]
      },
      {
       "output_type": "stream",
       "stream": "stdout",
       "text": [
        "10\n",
        "(476, 1515) \n",
        "\n",
        "3804434"
       ]
      },
      {
       "output_type": "stream",
       "stream": "stdout",
       "text": [
        " 1 2 age :  "
       ]
      },
      {
       "output_type": "stream",
       "stream": "stdout",
       "text": [
        "10\n",
        "(476, 1516) \n",
        "\n",
        "5048603"
       ]
      },
      {
       "output_type": "stream",
       "stream": "stdout",
       "text": [
        " 1 2 age :  "
       ]
      },
      {
       "output_type": "stream",
       "stream": "stdout",
       "text": [
        "10\n",
        "(476, 1517) \n",
        "\n",
        "5320784"
       ]
      },
      {
       "output_type": "stream",
       "stream": "stdout",
       "text": [
        " 1 2 age :  "
       ]
      },
      {
       "output_type": "stream",
       "stream": "stdout",
       "text": [
        "10\n",
        "(476, 1518) \n",
        "\n",
        "1631604"
       ]
      },
      {
       "output_type": "stream",
       "stream": "stdout",
       "text": [
        " 1 1 age :  "
       ]
      },
      {
       "output_type": "stream",
       "stream": "stdout",
       "text": [
        "10\n",
        "(477, 1518) \n",
        "\n",
        "5683807"
       ]
      },
      {
       "output_type": "stream",
       "stream": "stdout",
       "text": [
        " 1 2 age :  "
       ]
      },
      {
       "output_type": "stream",
       "stream": "stdout",
       "text": [
        "10\n",
        "(477, 1519) \n",
        "\n",
        "4392731"
       ]
      },
      {
       "output_type": "stream",
       "stream": "stdout",
       "text": [
        " 1 2 age :  "
       ]
      },
      {
       "output_type": "stream",
       "stream": "stdout",
       "text": [
        "10\n",
        "(477, 1520) \n",
        "\n",
        "1991902"
       ]
      },
      {
       "output_type": "stream",
       "stream": "stdout",
       "text": [
        " 2 2 age :  "
       ]
      },
      {
       "output_type": "stream",
       "stream": "stdout",
       "text": [
        "20\n",
        "(478, 1520) \n",
        "\n",
        "2706878"
       ]
      },
      {
       "output_type": "stream",
       "stream": "stdout",
       "text": [
        " 2 1 age :  "
       ]
      },
      {
       "output_type": "stream",
       "stream": "stdout",
       "text": [
        "25\n",
        "(478, 1521) \n",
        "\n",
        "4162467"
       ]
      },
      {
       "output_type": "stream",
       "stream": "stdout",
       "text": [
        " 1 2 age :  "
       ]
      },
      {
       "output_type": "stream",
       "stream": "stdout",
       "text": [
        "10\n",
        "(478, 1522) \n",
        "\n",
        "5550143"
       ]
      },
      {
       "output_type": "stream",
       "stream": "stdout",
       "text": [
        " 1 2 age :  "
       ]
      },
      {
       "output_type": "stream",
       "stream": "stdout",
       "text": [
        "10\n",
        "(478, 1523) \n",
        "\n",
        "3593329"
       ]
      },
      {
       "output_type": "stream",
       "stream": "stdout",
       "text": [
        " 1 2 age :  "
       ]
      },
      {
       "output_type": "stream",
       "stream": "stdout",
       "text": [
        "10\n",
        "(478, 1524) \n",
        "\n",
        "3836952"
       ]
      },
      {
       "output_type": "stream",
       "stream": "stdout",
       "text": [
        " 1 2 age :  "
       ]
      },
      {
       "output_type": "stream",
       "stream": "stdout",
       "text": [
        "10\n",
        "(478, 1525) \n",
        "\n",
        "5177041"
       ]
      },
      {
       "output_type": "stream",
       "stream": "stdout",
       "text": [
        " 1 2 age :  "
       ]
      },
      {
       "output_type": "stream",
       "stream": "stdout",
       "text": [
        "10\n",
        "(478, 1526) \n",
        "\n",
        "977431"
       ]
      },
      {
       "output_type": "stream",
       "stream": "stdout",
       "text": [
        " 1 2 age :  "
       ]
      },
      {
       "output_type": "stream",
       "stream": "stdout",
       "text": [
        "29\n",
        "(478, 1527) \n",
        "\n",
        "1642956"
       ]
      },
      {
       "output_type": "stream",
       "stream": "stdout",
       "text": [
        " 1 2 age :  "
       ]
      },
      {
       "output_type": "stream",
       "stream": "stdout",
       "text": [
        "20\n",
        "(478, 1528) \n",
        "\n",
        "813588"
       ]
      },
      {
       "output_type": "stream",
       "stream": "stdout",
       "text": [
        " 1 2 age :  "
       ]
      },
      {
       "output_type": "stream",
       "stream": "stdout",
       "text": [
        "20\n",
        "(478, 1529) \n",
        "\n",
        "3276015"
       ]
      },
      {
       "output_type": "stream",
       "stream": "stdout",
       "text": [
        " 1 2 age :  "
       ]
      },
      {
       "output_type": "stream",
       "stream": "stdout",
       "text": [
        "10\n",
        "(478, 1530) \n",
        "\n",
        "1958569"
       ]
      },
      {
       "output_type": "stream",
       "stream": "stdout",
       "text": [
        " 1 2 age :  "
       ]
      },
      {
       "output_type": "stream",
       "stream": "stdout",
       "text": [
        "30\n",
        "(478, 1531) \n",
        "\n",
        "2084250"
       ]
      },
      {
       "output_type": "stream",
       "stream": "stdout",
       "text": [
        " 1 2 age :  "
       ]
      },
      {
       "output_type": "stream",
       "stream": "stdout",
       "text": [
        "10\n",
        "(478, 1532) \n",
        "\n",
        "1725958"
       ]
      },
      {
       "output_type": "stream",
       "stream": "stdout",
       "text": [
        " 1 1 age :  "
       ]
      },
      {
       "output_type": "stream",
       "stream": "stdout",
       "text": [
        "10\n",
        "(479, 1532) \n",
        "\n",
        "2390069"
       ]
      },
      {
       "output_type": "stream",
       "stream": "stdout",
       "text": [
        " 1 2 age :  "
       ]
      },
      {
       "output_type": "stream",
       "stream": "stdout",
       "text": [
        "30\n",
        "(479, 1533) \n",
        "\n",
        "2301106"
       ]
      },
      {
       "output_type": "stream",
       "stream": "stdout",
       "text": [
        " 1 2 age :  "
       ]
      },
      {
       "output_type": "stream",
       "stream": "stdout",
       "text": [
        "10\n",
        "(479, 1534) \n",
        "\n",
        "2360054"
       ]
      },
      {
       "output_type": "stream",
       "stream": "stdout",
       "text": [
        " 2 2 age :  "
       ]
      },
      {
       "output_type": "stream",
       "stream": "stdout",
       "text": [
        "40\n",
        "(480, 1534) \n",
        "\n",
        "2150079"
       ]
      },
      {
       "output_type": "stream",
       "stream": "stdout",
       "text": [
        " 1 2 age :  "
       ]
      },
      {
       "output_type": "stream",
       "stream": "stdout",
       "text": [
        "30\n",
        "(480, 1535) \n",
        "\n",
        "1800824"
       ]
      },
      {
       "output_type": "stream",
       "stream": "stdout",
       "text": [
        " 2 1 age :  "
       ]
      },
      {
       "output_type": "stream",
       "stream": "stdout",
       "text": [
        "20\n",
        "(480, 1536) \n",
        "\n",
        "1979930"
       ]
      },
      {
       "output_type": "stream",
       "stream": "stdout",
       "text": [
        " 2 2 age :  "
       ]
      },
      {
       "output_type": "stream",
       "stream": "stdout",
       "text": [
        "20\n",
        "(481, 1536) \n",
        "\n",
        "4088859"
       ]
      },
      {
       "output_type": "stream",
       "stream": "stdout",
       "text": [
        " 1 2 age :  "
       ]
      },
      {
       "output_type": "stream",
       "stream": "stdout",
       "text": [
        "30\n",
        "(481, 1537) \n",
        "\n",
        "4630082"
       ]
      },
      {
       "output_type": "stream",
       "stream": "stdout",
       "text": [
        " 2 2 age :  "
       ]
      },
      {
       "output_type": "stream",
       "stream": "stdout",
       "text": [
        "30\n",
        "(482, 1537) \n",
        "\n",
        "1990696"
       ]
      },
      {
       "output_type": "stream",
       "stream": "stdout",
       "text": [
        " 1 2 age :  "
       ]
      },
      {
       "output_type": "stream",
       "stream": "stdout",
       "text": [
        "10\n",
        "(482, 1538) \n",
        "\n",
        "3431536"
       ]
      },
      {
       "output_type": "stream",
       "stream": "stdout",
       "text": [
        " 1 2 age :  "
       ]
      },
      {
       "output_type": "stream",
       "stream": "stdout",
       "text": [
        "10\n",
        "(482, 1539) \n",
        "\n",
        "1524722"
       ]
      },
      {
       "output_type": "stream",
       "stream": "stdout",
       "text": [
        " 1 2 age :  "
       ]
      },
      {
       "output_type": "stream",
       "stream": "stdout",
       "text": [
        "10\n",
        "(482, 1540) \n",
        "\n",
        "5255567"
       ]
      },
      {
       "output_type": "stream",
       "stream": "stdout",
       "text": [
        " 2 1 age :  "
       ]
      },
      {
       "output_type": "stream",
       "stream": "stdout",
       "text": [
        "22\n",
        "(482, 1541) \n",
        "\n",
        "2993192"
       ]
      },
      {
       "output_type": "stream",
       "stream": "stdout",
       "text": [
        " 1 2 age :  "
       ]
      },
      {
       "output_type": "stream",
       "stream": "stdout",
       "text": [
        "15\n",
        "(482, 1542) \n",
        "\n",
        "4462394"
       ]
      },
      {
       "output_type": "stream",
       "stream": "stdout",
       "text": [
        " 1 2 age :  "
       ]
      },
      {
       "output_type": "stream",
       "stream": "stdout",
       "text": [
        "10\n",
        "(482, 1543) \n",
        "\n",
        "2418317"
       ]
      },
      {
       "output_type": "stream",
       "stream": "stdout",
       "text": [
        " 2 1 age :  "
       ]
      },
      {
       "output_type": "stream",
       "stream": "stdout",
       "text": [
        "22\n",
        "(482, 1544) \n",
        "\n",
        "5661664"
       ]
      },
      {
       "output_type": "stream",
       "stream": "stdout",
       "text": [
        " 2 1 age :  "
       ]
      },
      {
       "output_type": "stream",
       "stream": "stdout",
       "text": [
        "25\n",
        "(482, 1545) \n",
        "\n",
        "1838567"
       ]
      },
      {
       "output_type": "stream",
       "stream": "stdout",
       "text": [
        " 1 2 age :  "
       ]
      },
      {
       "output_type": "stream",
       "stream": "stdout",
       "text": [
        "30\n",
        "(482, 1546) \n",
        "\n",
        "3645035"
       ]
      },
      {
       "output_type": "stream",
       "stream": "stdout",
       "text": [
        " 2 2 age :  "
       ]
      },
      {
       "output_type": "stream",
       "stream": "stdout",
       "text": [
        "10\n",
        "(483, 1546) \n",
        "\n",
        "5093942"
       ]
      },
      {
       "output_type": "stream",
       "stream": "stdout",
       "text": [
        " 1 2 age :  "
       ]
      },
      {
       "output_type": "stream",
       "stream": "stdout",
       "text": [
        "32\n",
        "(483, 1547) \n",
        "\n",
        "5167828"
       ]
      },
      {
       "output_type": "stream",
       "stream": "stdout",
       "text": [
        " 1 2 age :  "
       ]
      },
      {
       "output_type": "stream",
       "stream": "stdout",
       "text": [
        "10\n",
        "(483, 1548) \n",
        "\n",
        "1695536"
       ]
      },
      {
       "output_type": "stream",
       "stream": "stdout",
       "text": [
        " 1 2 age :  "
       ]
      },
      {
       "output_type": "stream",
       "stream": "stdout",
       "text": [
        "10\n",
        "(483, 1549) \n",
        "\n",
        "3838767"
       ]
      },
      {
       "output_type": "stream",
       "stream": "stdout",
       "text": [
        " 1 2 age :  "
       ]
      },
      {
       "output_type": "stream",
       "stream": "stdout",
       "text": [
        "30\n",
        "(483, 1550) \n",
        "\n",
        "4627136"
       ]
      },
      {
       "output_type": "stream",
       "stream": "stdout",
       "text": [
        " 2 1 age :  "
       ]
      },
      {
       "output_type": "stream",
       "stream": "stdout",
       "text": [
        "25\n",
        "(483, 1551) \n",
        "\n",
        "1984939"
       ]
      },
      {
       "output_type": "stream",
       "stream": "stdout",
       "text": [
        " 1 2 age :  "
       ]
      },
      {
       "output_type": "stream",
       "stream": "stdout",
       "text": [
        "10\n",
        "(483, 1552) \n",
        "\n",
        "3502329"
       ]
      },
      {
       "output_type": "stream",
       "stream": "stdout",
       "text": [
        " 1 2 age :  "
       ]
      },
      {
       "output_type": "stream",
       "stream": "stdout",
       "text": [
        "30\n",
        "(483, 1553) \n",
        "\n",
        "3657354"
       ]
      },
      {
       "output_type": "stream",
       "stream": "stdout",
       "text": [
        " 1 2 age :  "
       ]
      },
      {
       "output_type": "stream",
       "stream": "stdout",
       "text": [
        "20\n",
        "(483, 1554) \n",
        "\n",
        "5283324"
       ]
      },
      {
       "output_type": "stream",
       "stream": "stdout",
       "text": [
        " 1 2 age :  "
       ]
      },
      {
       "output_type": "stream",
       "stream": "stdout",
       "text": [
        "22\n",
        "(483, 1555) \n",
        "\n",
        "3991888"
       ]
      },
      {
       "output_type": "stream",
       "stream": "stdout",
       "text": [
        " 1 2 age :  "
       ]
      },
      {
       "output_type": "stream",
       "stream": "stdout",
       "text": [
        "10\n",
        "(483, 1556) \n",
        "\n",
        "2937285"
       ]
      },
      {
       "output_type": "stream",
       "stream": "stdout",
       "text": [
        " 1 2 age :  "
       ]
      },
      {
       "output_type": "stream",
       "stream": "stdout",
       "text": [
        "60\n",
        "(483, 1557) \n",
        "\n",
        "2495053"
       ]
      },
      {
       "output_type": "stream",
       "stream": "stdout",
       "text": [
        " 1 2 age :  "
       ]
      },
      {
       "output_type": "stream",
       "stream": "stdout",
       "text": [
        "10\n",
        "(483, 1558) \n",
        "\n",
        "2027316"
       ]
      },
      {
       "output_type": "stream",
       "stream": "stdout",
       "text": [
        " 1 2 age :  "
       ]
      },
      {
       "output_type": "stream",
       "stream": "stdout",
       "text": [
        "30\n",
        "(483, 1559) \n",
        "\n",
        "3829169"
       ]
      },
      {
       "output_type": "stream",
       "stream": "stdout",
       "text": [
        " 2 1 age :  "
       ]
      },
      {
       "output_type": "stream",
       "stream": "stdout",
       "text": [
        "10\n",
        "(483, 1560) \n",
        "\n",
        "2244178"
       ]
      },
      {
       "output_type": "stream",
       "stream": "stdout",
       "text": [
        " 2 1 age :  "
       ]
      },
      {
       "output_type": "stream",
       "stream": "stdout",
       "text": [
        "10\n",
        "(483, 1561) \n",
        "\n",
        "4652026"
       ]
      },
      {
       "output_type": "stream",
       "stream": "stdout",
       "text": [
        " 1 2 age :  "
       ]
      },
      {
       "output_type": "stream",
       "stream": "stdout",
       "text": [
        "20\n",
        "(483, 1562) \n",
        "\n",
        "4242611"
       ]
      },
      {
       "output_type": "stream",
       "stream": "stdout",
       "text": [
        " 2 1 age :  "
       ]
      },
      {
       "output_type": "stream",
       "stream": "stdout",
       "text": [
        "20\n",
        "(483, 1563) \n",
        "\n",
        "1994058"
       ]
      },
      {
       "output_type": "stream",
       "stream": "stdout",
       "text": [
        " 1 2 age :  "
       ]
      },
      {
       "output_type": "stream",
       "stream": "stdout",
       "text": [
        "20\n",
        "(483, 1564) \n",
        "\n",
        "5431682"
       ]
      },
      {
       "output_type": "stream",
       "stream": "stdout",
       "text": [
        " 2 2 age :  "
       ]
      },
      {
       "output_type": "stream",
       "stream": "stdout",
       "text": [
        "20\n",
        "(484, 1564) \n",
        "\n",
        "3304515"
       ]
      },
      {
       "output_type": "stream",
       "stream": "stdout",
       "text": [
        " 1 2 age :  "
       ]
      },
      {
       "output_type": "stream",
       "stream": "stdout",
       "text": [
        "20\n",
        "(484, 1565) \n",
        "\n",
        "729893"
       ]
      },
      {
       "output_type": "stream",
       "stream": "stdout",
       "text": [
        " 1 2 age :  "
       ]
      },
      {
       "output_type": "stream",
       "stream": "stdout",
       "text": [
        "20\n",
        "(484, 1566) \n",
        "\n",
        "3015958"
       ]
      },
      {
       "output_type": "stream",
       "stream": "stdout",
       "text": [
        " 1 2 age :  "
       ]
      },
      {
       "output_type": "stream",
       "stream": "stdout",
       "text": [
        "10\n",
        "(484, 1567) \n",
        "\n",
        "4458072"
       ]
      },
      {
       "output_type": "stream",
       "stream": "stdout",
       "text": [
        " 1 2 age :  "
       ]
      },
      {
       "output_type": "stream",
       "stream": "stdout",
       "text": [
        "10\n",
        "(484, 1568) \n",
        "\n",
        "2189883"
       ]
      },
      {
       "output_type": "stream",
       "stream": "stdout",
       "text": [
        " 1 2 age :  "
       ]
      },
      {
       "output_type": "stream",
       "stream": "stdout",
       "text": [
        "10\n",
        "(484, 1569) \n",
        "\n",
        "3220940"
       ]
      },
      {
       "output_type": "stream",
       "stream": "stdout",
       "text": [
        " 1 2 age :  "
       ]
      },
      {
       "output_type": "stream",
       "stream": "stdout",
       "text": [
        "10\n",
        "(484, 1570) \n",
        "\n",
        "4107541"
       ]
      },
      {
       "output_type": "stream",
       "stream": "stdout",
       "text": [
        " 1 2 age :  "
       ]
      },
      {
       "output_type": "stream",
       "stream": "stdout",
       "text": [
        "10\n",
        "(484, 1571) \n",
        "\n",
        "4782389"
       ]
      },
      {
       "output_type": "stream",
       "stream": "stdout",
       "text": [
        " 1 2 age :  "
       ]
      },
      {
       "output_type": "stream",
       "stream": "stdout",
       "text": [
        "10\n",
        "(484, 1572) \n",
        "\n",
        "5481781"
       ]
      },
      {
       "output_type": "stream",
       "stream": "stdout",
       "text": [
        " 1 2 age :  "
       ]
      },
      {
       "output_type": "stream",
       "stream": "stdout",
       "text": [
        "20\n",
        "(484, 1573) \n",
        "\n",
        "3751096"
       ]
      },
      {
       "output_type": "stream",
       "stream": "stdout",
       "text": [
        " 2 2 age :  "
       ]
      },
      {
       "output_type": "stream",
       "stream": "stdout",
       "text": [
        "20\n",
        "(485, 1573) \n",
        "\n",
        "2296306"
       ]
      },
      {
       "output_type": "stream",
       "stream": "stdout",
       "text": [
        " 1 1 age :  "
       ]
      },
      {
       "output_type": "stream",
       "stream": "stdout",
       "text": [
        "60\n",
        "(486, 1573) \n",
        "\n",
        "1078126"
       ]
      },
      {
       "output_type": "stream",
       "stream": "stdout",
       "text": [
        " 2 2 age :  "
       ]
      },
      {
       "output_type": "stream",
       "stream": "stdout",
       "text": [
        "10\n",
        "(487, 1573) \n",
        "\n",
        "3400248"
       ]
      },
      {
       "output_type": "stream",
       "stream": "stdout",
       "text": [
        " 1 2 age :  "
       ]
      },
      {
       "output_type": "stream",
       "stream": "stdout",
       "text": [
        "30\n",
        "(487, 1574) \n",
        "\n",
        "3649324"
       ]
      },
      {
       "output_type": "stream",
       "stream": "stdout",
       "text": [
        " 1 2 age :  "
       ]
      },
      {
       "output_type": "stream",
       "stream": "stdout",
       "text": [
        "10\n",
        "(487, 1575) \n",
        "\n",
        "1907345"
       ]
      },
      {
       "output_type": "stream",
       "stream": "stdout",
       "text": [
        " 1 2 age :  "
       ]
      },
      {
       "output_type": "stream",
       "stream": "stdout",
       "text": [
        "20\n",
        "(487, 1576) \n",
        "\n",
        "1803169"
       ]
      },
      {
       "output_type": "stream",
       "stream": "stdout",
       "text": [
        " 1 2 age :  "
       ]
      },
      {
       "output_type": "stream",
       "stream": "stdout",
       "text": [
        "10\n",
        "(487, 1577) \n",
        "\n",
        "3034654"
       ]
      },
      {
       "output_type": "stream",
       "stream": "stdout",
       "text": [
        " 1 2 age :  "
       ]
      },
      {
       "output_type": "stream",
       "stream": "stdout",
       "text": [
        "30\n",
        "(487, 1578) \n",
        "\n",
        "3601763"
       ]
      },
      {
       "output_type": "stream",
       "stream": "stdout",
       "text": [
        " 1 2 age :  "
       ]
      },
      {
       "output_type": "stream",
       "stream": "stdout",
       "text": [
        "10\n",
        "(487, 1579) \n",
        "\n",
        "2451019"
       ]
      },
      {
       "output_type": "stream",
       "stream": "stdout",
       "text": [
        " 1 2 age :  "
       ]
      },
      {
       "output_type": "stream",
       "stream": "stdout",
       "text": [
        "30\n",
        "(487, 1580) \n",
        "\n",
        "5264626"
       ]
      },
      {
       "output_type": "stream",
       "stream": "stdout",
       "text": [
        " 2 2 age :  "
       ]
      },
      {
       "output_type": "stream",
       "stream": "stdout",
       "text": [
        "20\n",
        "(488, 1580) \n",
        "\n",
        "2116098"
       ]
      },
      {
       "output_type": "stream",
       "stream": "stdout",
       "text": [
        " 1 2 age :  "
       ]
      },
      {
       "output_type": "stream",
       "stream": "stdout",
       "text": [
        "20\n",
        "(488, 1581) \n",
        "\n",
        "5004701"
       ]
      },
      {
       "output_type": "stream",
       "stream": "stdout",
       "text": [
        " 1 2 age :  "
       ]
      },
      {
       "output_type": "stream",
       "stream": "stdout",
       "text": [
        "10\n",
        "(488, 1582) \n",
        "\n",
        "5578872"
       ]
      },
      {
       "output_type": "stream",
       "stream": "stdout",
       "text": [
        " 1 2 age :  "
       ]
      },
      {
       "output_type": "stream",
       "stream": "stdout",
       "text": [
        "60\n",
        "(488, 1583) \n",
        "\n",
        "4745328"
       ]
      },
      {
       "output_type": "stream",
       "stream": "stdout",
       "text": [
        " 1 1 age :  "
       ]
      },
      {
       "output_type": "stream",
       "stream": "stdout",
       "text": [
        "10\n",
        "(489, 1583) \n",
        "\n",
        "1681236"
       ]
      },
      {
       "output_type": "stream",
       "stream": "stdout",
       "text": [
        " 1 2 age :  "
       ]
      },
      {
       "output_type": "stream",
       "stream": "stdout",
       "text": [
        "30\n",
        "(489, 1584) \n",
        "\n",
        "5019017"
       ]
      },
      {
       "output_type": "stream",
       "stream": "stdout",
       "text": [
        " 1 2 age :  "
       ]
      },
      {
       "output_type": "stream",
       "stream": "stdout",
       "text": [
        "10\n",
        "(489, 1585) \n",
        "\n",
        "4781921"
       ]
      },
      {
       "output_type": "stream",
       "stream": "stdout",
       "text": [
        " 2 1 age :  "
       ]
      },
      {
       "output_type": "stream",
       "stream": "stdout",
       "text": [
        "10\n",
        "(489, 1586) \n",
        "\n",
        "2174462"
       ]
      },
      {
       "output_type": "stream",
       "stream": "stdout",
       "text": [
        " 1 2 age :  "
       ]
      },
      {
       "output_type": "stream",
       "stream": "stdout",
       "text": [
        "40\n",
        "(489, 1587) \n",
        "\n",
        "3594099"
       ]
      },
      {
       "output_type": "stream",
       "stream": "stdout",
       "text": [
        " 1 2 age :  "
       ]
      },
      {
       "output_type": "stream",
       "stream": "stdout",
       "text": [
        "10\n",
        "(489, 1588) \n",
        "\n",
        "3968503"
       ]
      },
      {
       "output_type": "stream",
       "stream": "stdout",
       "text": [
        " 2 2 age :  "
       ]
      },
      {
       "output_type": "stream",
       "stream": "stdout",
       "text": [
        "10\n",
        "(490, 1588) \n",
        "\n",
        "3421101"
       ]
      },
      {
       "output_type": "stream",
       "stream": "stdout",
       "text": [
        " 2 1 age :  "
       ]
      },
      {
       "output_type": "stream",
       "stream": "stdout",
       "text": [
        "20\n",
        "(490, 1589) \n",
        "\n",
        "1742495"
       ]
      },
      {
       "output_type": "stream",
       "stream": "stdout",
       "text": [
        " 2 2 age :  "
       ]
      },
      {
       "output_type": "stream",
       "stream": "stdout",
       "text": [
        "10\n",
        "(491, 1589) \n",
        "\n",
        "1982985"
       ]
      },
      {
       "output_type": "stream",
       "stream": "stdout",
       "text": [
        " 2 1 age :  "
       ]
      },
      {
       "output_type": "stream",
       "stream": "stdout",
       "text": [
        "10\n",
        "(491, 1590) \n",
        "\n",
        "4004162"
       ]
      },
      {
       "output_type": "stream",
       "stream": "stdout",
       "text": [
        " 2 2 age :  "
       ]
      },
      {
       "output_type": "stream",
       "stream": "stdout",
       "text": [
        "33\n",
        "(492, 1590) \n",
        "\n",
        "2122386"
       ]
      },
      {
       "output_type": "stream",
       "stream": "stdout",
       "text": [
        " 2 2 age :  "
       ]
      },
      {
       "output_type": "stream",
       "stream": "stdout",
       "text": [
        "20\n",
        "(493, 1590) \n",
        "\n",
        "3063215"
       ]
      },
      {
       "output_type": "stream",
       "stream": "stdout",
       "text": [
        " 2 1 age :  "
       ]
      },
      {
       "output_type": "stream",
       "stream": "stdout",
       "text": [
        "10\n",
        "(493, 1591) \n",
        "\n",
        "1725638"
       ]
      },
      {
       "output_type": "stream",
       "stream": "stdout",
       "text": [
        " 1 2 age :  "
       ]
      },
      {
       "output_type": "stream",
       "stream": "stdout",
       "text": [
        "10\n",
        "(493, 1592) \n",
        "\n",
        "3144081"
       ]
      },
      {
       "output_type": "stream",
       "stream": "stdout",
       "text": [
        " 2 2 age :  "
       ]
      },
      {
       "output_type": "stream",
       "stream": "stdout",
       "text": [
        "18\n",
        "(494, 1592) \n",
        "\n",
        "1757037"
       ]
      },
      {
       "output_type": "stream",
       "stream": "stdout",
       "text": [
        " 1 2 age :  "
       ]
      },
      {
       "output_type": "stream",
       "stream": "stdout",
       "text": [
        "30\n",
        "(494, 1593) \n",
        "\n",
        "4644142"
       ]
      },
      {
       "output_type": "stream",
       "stream": "stdout",
       "text": [
        " 2 2 age :  "
       ]
      },
      {
       "output_type": "stream",
       "stream": "stdout",
       "text": [
        "10\n",
        "(495, 1593) \n",
        "\n",
        "3814642"
       ]
      },
      {
       "output_type": "stream",
       "stream": "stdout",
       "text": [
        " 1 2 age :  "
       ]
      },
      {
       "output_type": "stream",
       "stream": "stdout",
       "text": [
        "20\n",
        "(495, 1594) \n",
        "\n",
        "4718356"
       ]
      },
      {
       "output_type": "stream",
       "stream": "stdout",
       "text": [
        " 1 2 age :  "
       ]
      },
      {
       "output_type": "stream",
       "stream": "stdout",
       "text": [
        "10\n",
        "(495, 1595) \n",
        "\n",
        "1793594"
       ]
      },
      {
       "output_type": "stream",
       "stream": "stdout",
       "text": [
        " 1 2 age :  "
       ]
      },
      {
       "output_type": "stream",
       "stream": "stdout",
       "text": [
        "27\n",
        "(495, 1596) \n",
        "\n",
        "3716431"
       ]
      },
      {
       "output_type": "stream",
       "stream": "stdout",
       "text": [
        " 1 2 age :  "
       ]
      },
      {
       "output_type": "stream",
       "stream": "stdout",
       "text": [
        "20\n",
        "(495, 1597) \n",
        "\n",
        "3830984"
       ]
      },
      {
       "output_type": "stream",
       "stream": "stdout",
       "text": [
        " 1 2 age :  "
       ]
      },
      {
       "output_type": "stream",
       "stream": "stdout",
       "text": [
        "20\n",
        "(495, 1598) \n",
        "\n",
        "3082530"
       ]
      },
      {
       "output_type": "stream",
       "stream": "stdout",
       "text": [
        " 1 2 age :  "
       ]
      },
      {
       "output_type": "stream",
       "stream": "stdout",
       "text": [
        "10\n",
        "(495, 1599) \n",
        "\n",
        "1644374"
       ]
      },
      {
       "output_type": "stream",
       "stream": "stdout",
       "text": [
        " 1 2 age :  "
       ]
      },
      {
       "output_type": "stream",
       "stream": "stdout",
       "text": [
        "20\n",
        "(495, 1600) \n",
        "\n",
        "3393046"
       ]
      },
      {
       "output_type": "stream",
       "stream": "stdout",
       "text": [
        " 1 2 age :  "
       ]
      },
      {
       "output_type": "stream",
       "stream": "stdout",
       "text": [
        "35\n",
        "(495, 1601) \n",
        "\n",
        "2376063"
       ]
      },
      {
       "output_type": "stream",
       "stream": "stdout",
       "text": [
        " 2 1 age :  "
       ]
      },
      {
       "output_type": "stream",
       "stream": "stdout",
       "text": [
        "20\n",
        "(495, 1602) \n",
        "\n",
        "1590529"
       ]
      },
      {
       "output_type": "stream",
       "stream": "stdout",
       "text": [
        " 2 1 age :  "
       ]
      },
      {
       "output_type": "stream",
       "stream": "stdout",
       "text": [
        "25\n",
        "(495, 1603) \n",
        "\n",
        "1984372"
       ]
      },
      {
       "output_type": "stream",
       "stream": "stdout",
       "text": [
        " 1 2 age :  "
       ]
      },
      {
       "output_type": "stream",
       "stream": "stdout",
       "text": [
        "50\n",
        "(495, 1604) \n",
        "\n",
        "2756723"
       ]
      },
      {
       "output_type": "stream",
       "stream": "stdout",
       "text": [
        " 1 2 age :  "
       ]
      },
      {
       "output_type": "stream",
       "stream": "stdout",
       "text": [
        "20\n",
        "(495, 1605) \n",
        "\n",
        "5400024"
       ]
      },
      {
       "output_type": "stream",
       "stream": "stdout",
       "text": [
        " 1 2 age :  "
       ]
      },
      {
       "output_type": "stream",
       "stream": "stdout",
       "text": [
        "10\n",
        "(495, 1606) \n",
        "\n",
        "3422817"
       ]
      },
      {
       "output_type": "stream",
       "stream": "stdout",
       "text": [
        " 1 2 age :  "
       ]
      },
      {
       "output_type": "stream",
       "stream": "stdout",
       "text": [
        "20\n",
        "(495, 1607) \n",
        "\n",
        "3968854"
       ]
      },
      {
       "output_type": "stream",
       "stream": "stdout",
       "text": [
        " 1 2 age :  "
       ]
      },
      {
       "output_type": "stream",
       "stream": "stdout",
       "text": [
        "10\n",
        "(495, 1608) \n",
        "\n",
        "2294528"
       ]
      },
      {
       "output_type": "stream",
       "stream": "stdout",
       "text": [
        " 1 2 age :  "
       ]
      },
      {
       "output_type": "stream",
       "stream": "stdout",
       "text": [
        "10\n",
        "(495, 1609) \n",
        "\n",
        "2443454"
       ]
      },
      {
       "output_type": "stream",
       "stream": "stdout",
       "text": [
        " 1 2 age :  "
       ]
      },
      {
       "output_type": "stream",
       "stream": "stdout",
       "text": [
        "10\n",
        "(495, 1610) \n",
        "\n",
        "4603347"
       ]
      },
      {
       "output_type": "stream",
       "stream": "stdout",
       "text": [
        " 1 2 age :  "
       ]
      },
      {
       "output_type": "stream",
       "stream": "stdout",
       "text": [
        "20\n",
        "(495, 1611) \n",
        "\n",
        "4967642"
       ]
      },
      {
       "output_type": "stream",
       "stream": "stdout",
       "text": [
        " 1 2 age :  "
       ]
      },
      {
       "output_type": "stream",
       "stream": "stdout",
       "text": [
        "10\n",
        "(495, 1612) \n",
        "\n",
        "1923990"
       ]
      },
      {
       "output_type": "stream",
       "stream": "stdout",
       "text": [
        " 2 1 age :  "
       ]
      },
      {
       "output_type": "stream",
       "stream": "stdout",
       "text": [
        "30\n",
        "(495, 1613) \n",
        "\n",
        "1893911"
       ]
      },
      {
       "output_type": "stream",
       "stream": "stdout",
       "text": [
        " 2 2 age :  "
       ]
      },
      {
       "output_type": "stream",
       "stream": "stdout",
       "text": [
        "22\n",
        "(496, 1613) \n",
        "\n",
        "3494778"
       ]
      },
      {
       "output_type": "stream",
       "stream": "stdout",
       "text": [
        " 1 2 age :  "
       ]
      },
      {
       "output_type": "stream",
       "stream": "stdout",
       "text": [
        "32\n",
        "(496, 1614) \n",
        "\n",
        "3848945"
       ]
      },
      {
       "output_type": "stream",
       "stream": "stdout",
       "text": [
        " 1 2 age :  "
       ]
      },
      {
       "output_type": "stream",
       "stream": "stdout",
       "text": [
        "10\n",
        "(496, 1615) \n",
        "\n",
        "1949514"
       ]
      },
      {
       "output_type": "stream",
       "stream": "stdout",
       "text": [
        " 1 2 age :  "
       ]
      },
      {
       "output_type": "stream",
       "stream": "stdout",
       "text": [
        "10\n",
        "(496, 1616) \n",
        "\n",
        "4414931"
       ]
      },
      {
       "output_type": "stream",
       "stream": "stdout",
       "text": [
        " 1 2 age :  "
       ]
      },
      {
       "output_type": "stream",
       "stream": "stdout",
       "text": [
        "10\n",
        "(496, 1617) \n",
        "\n",
        "4403375"
       ]
      },
      {
       "output_type": "stream",
       "stream": "stdout",
       "text": [
        " 1 2 age :  "
       ]
      },
      {
       "output_type": "stream",
       "stream": "stdout",
       "text": [
        "10\n",
        "(496, 1618) \n",
        "\n",
        "4077356"
       ]
      },
      {
       "output_type": "stream",
       "stream": "stdout",
       "text": [
        " 1 2 age :  "
       ]
      },
      {
       "output_type": "stream",
       "stream": "stdout",
       "text": [
        "35\n",
        "(496, 1619) \n",
        "\n",
        "1739875"
       ]
      },
      {
       "output_type": "stream",
       "stream": "stdout",
       "text": [
        " 1 2 age :  "
       ]
      },
      {
       "output_type": "stream",
       "stream": "stdout",
       "text": [
        "20\n",
        "(496, 1620) \n",
        "\n",
        "3140890"
       ]
      },
      {
       "output_type": "stream",
       "stream": "stdout",
       "text": [
        " 1 2 age :  "
       ]
      },
      {
       "output_type": "stream",
       "stream": "stdout",
       "text": [
        "10\n",
        "(496, 1621) \n",
        "\n",
        "1679231"
       ]
      },
      {
       "output_type": "stream",
       "stream": "stdout",
       "text": [
        " 1 2 age :  "
       ]
      },
      {
       "output_type": "stream",
       "stream": "stdout",
       "text": [
        "10\n",
        "(496, 1622) \n",
        "\n",
        "2209310"
       ]
      },
      {
       "output_type": "stream",
       "stream": "stdout",
       "text": [
        " 1 2 age :  "
       ]
      },
      {
       "output_type": "stream",
       "stream": "stdout",
       "text": [
        "60\n",
        "(496, 1623) \n",
        "\n",
        "3817359"
       ]
      },
      {
       "output_type": "stream",
       "stream": "stdout",
       "text": [
        " 2 1 age :  "
       ]
      },
      {
       "output_type": "stream",
       "stream": "stdout",
       "text": [
        "10\n",
        "(496, 1624) \n",
        "\n",
        "2023450"
       ]
      },
      {
       "output_type": "stream",
       "stream": "stdout",
       "text": [
        " 2 1 age :  "
       ]
      },
      {
       "output_type": "stream",
       "stream": "stdout",
       "text": [
        "12\n",
        "(496, 1625) \n",
        "\n",
        "2300441"
       ]
      },
      {
       "output_type": "stream",
       "stream": "stdout",
       "text": [
        " 2 2 age :  "
       ]
      },
      {
       "output_type": "stream",
       "stream": "stdout",
       "text": [
        "20\n",
        "(497, 1625) \n",
        "\n",
        "1710296"
       ]
      },
      {
       "output_type": "stream",
       "stream": "stdout",
       "text": [
        " 2 2 age :  "
       ]
      },
      {
       "output_type": "stream",
       "stream": "stdout",
       "text": [
        "10\n",
        "(498, 1625) \n",
        "\n",
        "1730660"
       ]
      },
      {
       "output_type": "stream",
       "stream": "stdout",
       "text": [
        " 2 1 age :  "
       ]
      },
      {
       "output_type": "stream",
       "stream": "stdout",
       "text": [
        "10\n",
        "(498, 1626) \n",
        "\n",
        "2005012"
       ]
      },
      {
       "output_type": "stream",
       "stream": "stdout",
       "text": [
        " 1 2 age :  "
       ]
      },
      {
       "output_type": "stream",
       "stream": "stdout",
       "text": [
        "30\n",
        "(498, 1627) \n",
        "\n",
        "2470678"
       ]
      },
      {
       "output_type": "stream",
       "stream": "stdout",
       "text": [
        " 2 1 age :  "
       ]
      },
      {
       "output_type": "stream",
       "stream": "stdout",
       "text": [
        "10\n",
        "(498, 1628) \n",
        "\n",
        "1162765"
       ]
      },
      {
       "output_type": "stream",
       "stream": "stdout",
       "text": [
        " 1 2 age :  "
       ]
      },
      {
       "output_type": "stream",
       "stream": "stdout",
       "text": [
        "20\n",
        "(498, 1629) \n",
        "\n",
        "3313442"
       ]
      },
      {
       "output_type": "stream",
       "stream": "stdout",
       "text": [
        " 1 2 age :  "
       ]
      },
      {
       "output_type": "stream",
       "stream": "stdout",
       "text": [
        "10\n",
        "(498, 1630) \n",
        "\n",
        "3751030"
       ]
      },
      {
       "output_type": "stream",
       "stream": "stdout",
       "text": [
        " 1 2 age :  "
       ]
      },
      {
       "output_type": "stream",
       "stream": "stdout",
       "text": [
        "20\n",
        "(498, 1631) \n",
        "\n",
        "3779785"
       ]
      },
      {
       "output_type": "stream",
       "stream": "stdout",
       "text": [
        " 1 2 age :  "
       ]
      },
      {
       "output_type": "stream",
       "stream": "stdout",
       "text": [
        "10\n",
        "(498, 1632) \n",
        "\n",
        "3787027"
       ]
      },
      {
       "output_type": "stream",
       "stream": "stdout",
       "text": [
        " 1 2 age :  "
       ]
      },
      {
       "output_type": "stream",
       "stream": "stdout",
       "text": [
        "10\n",
        "(498, 1633) \n",
        "\n",
        "1672872"
       ]
      },
      {
       "output_type": "stream",
       "stream": "stdout",
       "text": [
        " 2 1 age :  "
       ]
      },
      {
       "output_type": "stream",
       "stream": "stdout",
       "text": [
        "20\n",
        "(498, 1634) \n",
        "\n",
        "1648946"
       ]
      },
      {
       "output_type": "stream",
       "stream": "stdout",
       "text": [
        " 2 1 age :  "
       ]
      },
      {
       "output_type": "stream",
       "stream": "stdout",
       "text": [
        "10\n",
        "(498, 1635) \n",
        "\n",
        "3489765"
       ]
      },
      {
       "output_type": "stream",
       "stream": "stdout",
       "text": [
        " 2 1 age :  "
       ]
      },
      {
       "output_type": "stream",
       "stream": "stdout",
       "text": [
        "10\n",
        "(498, 1636) \n",
        "\n",
        "2229706"
       ]
      },
      {
       "output_type": "stream",
       "stream": "stdout",
       "text": [
        " 1 2 age :  "
       ]
      },
      {
       "output_type": "stream",
       "stream": "stdout",
       "text": [
        "10\n",
        "(498, 1637) \n",
        "\n",
        "1826679"
       ]
      },
      {
       "output_type": "stream",
       "stream": "stdout",
       "text": [
        " 1 1 age :  "
       ]
      },
      {
       "output_type": "stream",
       "stream": "stdout",
       "text": [
        "10\n",
        "(499, 1637) \n",
        "\n",
        "2060940"
       ]
      },
      {
       "output_type": "stream",
       "stream": "stdout",
       "text": [
        " 1 2 age :  "
       ]
      },
      {
       "output_type": "stream",
       "stream": "stdout",
       "text": [
        "12\n",
        "(499, 1638) \n",
        "\n",
        "3169374"
       ]
      },
      {
       "output_type": "stream",
       "stream": "stdout",
       "text": [
        " 2 2 age :  "
       ]
      },
      {
       "output_type": "stream",
       "stream": "stdout",
       "text": [
        "20\n",
        "(500, 1638) \n",
        "\n",
        "1958836"
       ]
      },
      {
       "output_type": "stream",
       "stream": "stdout",
       "text": [
        " 2 1 age :  "
       ]
      },
      {
       "output_type": "stream",
       "stream": "stdout",
       "text": [
        "20\n",
        "(500, 1639) \n",
        "\n",
        "3269653"
       ]
      },
      {
       "output_type": "stream",
       "stream": "stdout",
       "text": [
        " 2 1 age :  "
       ]
      },
      {
       "output_type": "stream",
       "stream": "stdout",
       "text": [
        "10\n",
        "(500, 1640) \n",
        "\n",
        "1400528"
       ]
      },
      {
       "output_type": "stream",
       "stream": "stdout",
       "text": [
        " 2 1 age :  "
       ]
      },
      {
       "output_type": "stream",
       "stream": "stdout",
       "text": [
        "39\n",
        "(500, 1641) \n",
        "\n",
        "3402538"
       ]
      },
      {
       "output_type": "stream",
       "stream": "stdout",
       "text": [
        " 1 2 age :  "
       ]
      },
      {
       "output_type": "stream",
       "stream": "stdout",
       "text": [
        "32\n",
        "(500, 1642) \n",
        "\n",
        "1495186"
       ]
      },
      {
       "output_type": "stream",
       "stream": "stdout",
       "text": [
        " 1 2 age :  "
       ]
      },
      {
       "output_type": "stream",
       "stream": "stdout",
       "text": [
        "20\n",
        "(500, 1643) \n",
        "\n",
        "4582162"
       ]
      },
      {
       "output_type": "stream",
       "stream": "stdout",
       "text": [
        " 1 2 age :  "
       ]
      },
      {
       "output_type": "stream",
       "stream": "stdout",
       "text": [
        "20\n",
        "(500, 1644) \n",
        "\n",
        "2130113"
       ]
      },
      {
       "output_type": "stream",
       "stream": "stdout",
       "text": [
        " 1 2 age :  "
       ]
      },
      {
       "output_type": "stream",
       "stream": "stdout",
       "text": [
        "20\n",
        "(500, 1645) \n",
        "\n",
        "1517867"
       ]
      },
      {
       "output_type": "stream",
       "stream": "stdout",
       "text": [
        " 1 2 age :  "
       ]
      },
      {
       "output_type": "stream",
       "stream": "stdout",
       "text": [
        "30\n",
        "(500, 1646) \n",
        "\n",
        "1073037"
       ]
      },
      {
       "output_type": "stream",
       "stream": "stdout",
       "text": [
        " 2 1 age :  "
       ]
      },
      {
       "output_type": "stream",
       "stream": "stdout",
       "text": [
        "22\n",
        "(500, 1647) \n",
        "\n",
        "2500633"
       ]
      },
      {
       "output_type": "stream",
       "stream": "stdout",
       "text": [
        " 2 1 age :  "
       ]
      },
      {
       "output_type": "stream",
       "stream": "stdout",
       "text": [
        "10\n",
        "(500, 1648) \n",
        "\n",
        "4981922"
       ]
      },
      {
       "output_type": "stream",
       "stream": "stdout",
       "text": [
        " 1 2 age :  "
       ]
      },
      {
       "output_type": "stream",
       "stream": "stdout",
       "text": [
        "10\n",
        "(500, 1649) \n",
        "\n",
        "4013448"
       ]
      },
      {
       "output_type": "stream",
       "stream": "stdout",
       "text": [
        " 2 1 age :  "
       ]
      },
      {
       "output_type": "stream",
       "stream": "stdout",
       "text": [
        "10\n",
        "(500, 1650) \n",
        "\n",
        "4275327"
       ]
      },
      {
       "output_type": "stream",
       "stream": "stdout",
       "text": [
        " 1 1 age :  "
       ]
      },
      {
       "output_type": "stream",
       "stream": "stdout",
       "text": [
        "10\n",
        "(501, 1650) \n",
        "\n",
        "4630031"
       ]
      },
      {
       "output_type": "stream",
       "stream": "stdout",
       "text": [
        " 1 2 age :  "
       ]
      },
      {
       "output_type": "stream",
       "stream": "stdout",
       "text": [
        "20\n",
        "(501, 1651) \n",
        "\n",
        "4707076"
       ]
      },
      {
       "output_type": "stream",
       "stream": "stdout",
       "text": [
        " 2 1 age :  "
       ]
      },
      {
       "output_type": "stream",
       "stream": "stdout",
       "text": [
        "15\n",
        "(501, 1652) \n",
        "\n",
        "3172591"
       ]
      },
      {
       "output_type": "stream",
       "stream": "stdout",
       "text": [
        " 1 2 age :  "
       ]
      },
      {
       "output_type": "stream",
       "stream": "stdout",
       "text": [
        "20\n",
        "(501, 1653) \n",
        "\n",
        "4899514"
       ]
      },
      {
       "output_type": "stream",
       "stream": "stdout",
       "text": [
        " 2 1 age :  "
       ]
      },
      {
       "output_type": "stream",
       "stream": "stdout",
       "text": [
        "10\n",
        "(501, 1654) \n",
        "\n",
        "5253785"
       ]
      },
      {
       "output_type": "stream",
       "stream": "stdout",
       "text": [
        " 1 2 age :  "
       ]
      },
      {
       "output_type": "stream",
       "stream": "stdout",
       "text": [
        "20\n",
        "(501, 1655) \n",
        "\n",
        "2823525"
       ]
      },
      {
       "output_type": "stream",
       "stream": "stdout",
       "text": [
        " 1 2 age :  "
       ]
      },
      {
       "output_type": "stream",
       "stream": "stdout",
       "text": [
        "10\n",
        "(501, 1656) \n",
        "\n",
        "4832065"
       ]
      },
      {
       "output_type": "stream",
       "stream": "stdout",
       "text": [
        " 1 2 age :  "
       ]
      },
      {
       "output_type": "stream",
       "stream": "stdout",
       "text": [
        "10\n",
        "(501, 1657) \n",
        "\n",
        "3368879"
       ]
      },
      {
       "output_type": "stream",
       "stream": "stdout",
       "text": [
        " 1 2 age :  "
       ]
      },
      {
       "output_type": "stream",
       "stream": "stdout",
       "text": [
        "52\n",
        "(501, 1658) \n",
        "\n",
        "3202850"
       ]
      },
      {
       "output_type": "stream",
       "stream": "stdout",
       "text": [
        " 2 1 age :  "
       ]
      },
      {
       "output_type": "stream",
       "stream": "stdout",
       "text": [
        "20\n",
        "(501, 1659) \n",
        "\n",
        "1834353"
       ]
      },
      {
       "output_type": "stream",
       "stream": "stdout",
       "text": [
        " 2 2 age :  "
       ]
      },
      {
       "output_type": "stream",
       "stream": "stdout",
       "text": [
        "60\n",
        "(502, 1659) \n",
        "\n",
        "3789015"
       ]
      },
      {
       "output_type": "stream",
       "stream": "stdout",
       "text": [
        " 2 2 age :  "
       ]
      },
      {
       "output_type": "stream",
       "stream": "stdout",
       "text": [
        "40\n",
        "(503, 1659) \n",
        "\n",
        "3934221"
       ]
      },
      {
       "output_type": "stream",
       "stream": "stdout",
       "text": [
        " 1 2 age :  "
       ]
      },
      {
       "output_type": "stream",
       "stream": "stdout",
       "text": [
        "10\n",
        "(503, 1660) \n",
        "\n",
        "1826628"
       ]
      },
      {
       "output_type": "stream",
       "stream": "stdout",
       "text": [
        " 1 2 age :  "
       ]
      },
      {
       "output_type": "stream",
       "stream": "stdout",
       "text": [
        "30\n",
        "(503, 1661) \n",
        "\n",
        "4099617"
       ]
      },
      {
       "output_type": "stream",
       "stream": "stdout",
       "text": [
        " 1 2 age :  "
       ]
      },
      {
       "output_type": "stream",
       "stream": "stdout",
       "text": [
        "10\n",
        "(503, 1662) \n",
        "\n",
        "3834456"
       ]
      },
      {
       "output_type": "stream",
       "stream": "stdout",
       "text": [
        " 1 2 age :  "
       ]
      },
      {
       "output_type": "stream",
       "stream": "stdout",
       "text": [
        "20\n",
        "(503, 1663) \n",
        "\n",
        "4715514"
       ]
      },
      {
       "output_type": "stream",
       "stream": "stdout",
       "text": [
        " 1 2 age :  "
       ]
      },
      {
       "output_type": "stream",
       "stream": "stdout",
       "text": [
        "20\n",
        "(503, 1664) \n",
        "\n",
        "2813789"
       ]
      },
      {
       "output_type": "stream",
       "stream": "stdout",
       "text": [
        " 1 2 age :  "
       ]
      },
      {
       "output_type": "stream",
       "stream": "stdout",
       "text": [
        "15\n",
        "(503, 1665) \n",
        "\n",
        "2017255"
       ]
      },
      {
       "output_type": "stream",
       "stream": "stdout",
       "text": [
        " 1 2 age :  "
       ]
      },
      {
       "output_type": "stream",
       "stream": "stdout",
       "text": [
        "20\n",
        "(503, 1666) \n",
        "\n",
        "3870919"
       ]
      },
      {
       "output_type": "stream",
       "stream": "stdout",
       "text": [
        " 2 2 age :  "
       ]
      },
      {
       "output_type": "stream",
       "stream": "stdout",
       "text": [
        "22\n",
        "(504, 1666) \n",
        "\n",
        "1975541"
       ]
      },
      {
       "output_type": "stream",
       "stream": "stdout",
       "text": [
        " 1 2 age :  "
       ]
      },
      {
       "output_type": "stream",
       "stream": "stdout",
       "text": [
        "10\n",
        "(504, 1667) \n",
        "\n",
        "3937652"
       ]
      },
      {
       "output_type": "stream",
       "stream": "stdout",
       "text": [
        " 2 2 age :  "
       ]
      },
      {
       "output_type": "stream",
       "stream": "stdout",
       "text": [
        "20\n",
        "(505, 1667) \n",
        "\n",
        "4215065"
       ]
      },
      {
       "output_type": "stream",
       "stream": "stdout",
       "text": [
        " 1 1 age :  "
       ]
      },
      {
       "output_type": "stream",
       "stream": "stdout",
       "text": [
        "10\n",
        "(506, 1667) \n",
        "\n",
        "1702062"
       ]
      },
      {
       "output_type": "stream",
       "stream": "stdout",
       "text": [
        " 2 1 age :  "
       ]
      },
      {
       "output_type": "stream",
       "stream": "stdout",
       "text": [
        "10\n",
        "(506, 1668) \n",
        "\n",
        "2384105"
       ]
      },
      {
       "output_type": "stream",
       "stream": "stdout",
       "text": [
        " 2 1 age :  "
       ]
      },
      {
       "output_type": "stream",
       "stream": "stdout",
       "text": [
        "10\n",
        "(506, 1669) \n",
        "\n",
        "5242875"
       ]
      },
      {
       "output_type": "stream",
       "stream": "stdout",
       "text": [
        " 1 1 age :  "
       ]
      },
      {
       "output_type": "stream",
       "stream": "stdout",
       "text": [
        "10\n",
        "(507, 1669) \n",
        "\n",
        "2060074"
       ]
      },
      {
       "output_type": "stream",
       "stream": "stdout",
       "text": [
        " 1 2 age :  "
       ]
      },
      {
       "output_type": "stream",
       "stream": "stdout",
       "text": [
        "10\n",
        "(507, 1670) \n",
        "\n",
        "3742107"
       ]
      },
      {
       "output_type": "stream",
       "stream": "stdout",
       "text": [
        " 2 2 age :  "
       ]
      },
      {
       "output_type": "stream",
       "stream": "stdout",
       "text": [
        "10\n",
        "(508, 1670) \n",
        "\n",
        "4601886"
       ]
      },
      {
       "output_type": "stream",
       "stream": "stdout",
       "text": [
        " 1 2 age :  "
       ]
      },
      {
       "output_type": "stream",
       "stream": "stdout",
       "text": [
        "10\n",
        "(508, 1671) \n",
        "\n",
        "3426445"
       ]
      },
      {
       "output_type": "stream",
       "stream": "stdout",
       "text": [
        " 2 1 age :  "
       ]
      },
      {
       "output_type": "stream",
       "stream": "stdout",
       "text": [
        "10\n",
        "(508, 1672) \n",
        "\n",
        "1690877"
       ]
      },
      {
       "output_type": "stream",
       "stream": "stdout",
       "text": [
        " 1 2 age :  "
       ]
      },
      {
       "output_type": "stream",
       "stream": "stdout",
       "text": [
        "10\n",
        "(508, 1673) \n",
        "\n",
        "3252580"
       ]
      },
      {
       "output_type": "stream",
       "stream": "stdout",
       "text": [
        " 1 2 age :  "
       ]
      },
      {
       "output_type": "stream",
       "stream": "stdout",
       "text": [
        "10\n",
        "(508, 1674) \n",
        "\n",
        "1811659"
       ]
      },
      {
       "output_type": "stream",
       "stream": "stdout",
       "text": [
        " 1 2 age :  "
       ]
      },
      {
       "output_type": "stream",
       "stream": "stdout",
       "text": [
        "10\n",
        "(508, 1675) \n",
        "\n",
        "3404983"
       ]
      },
      {
       "output_type": "stream",
       "stream": "stdout",
       "text": [
        " 1 2 age :  "
       ]
      },
      {
       "output_type": "stream",
       "stream": "stdout",
       "text": [
        "10\n",
        "(508, 1676) \n",
        "\n",
        "1529907"
       ]
      },
      {
       "output_type": "stream",
       "stream": "stdout",
       "text": [
        " 2 1 age :  "
       ]
      },
      {
       "output_type": "stream",
       "stream": "stdout",
       "text": [
        "28\n",
        "(508, 1677) \n",
        "\n",
        "2669196"
       ]
      },
      {
       "output_type": "stream",
       "stream": "stdout",
       "text": [
        " 2 2 age :  "
       ]
      },
      {
       "output_type": "stream",
       "stream": "stdout",
       "text": [
        "30\n",
        "(509, 1677) \n",
        "\n",
        "5399030"
       ]
      },
      {
       "output_type": "stream",
       "stream": "stdout",
       "text": [
        " 1 2 age :  "
       ]
      },
      {
       "output_type": "stream",
       "stream": "stdout",
       "text": [
        "10\n",
        "(509, 1678) \n",
        "\n",
        "4761211"
       ]
      },
      {
       "output_type": "stream",
       "stream": "stdout",
       "text": [
        " 1 2 age :  "
       ]
      },
      {
       "output_type": "stream",
       "stream": "stdout",
       "text": [
        "10\n",
        "(509, 1679) \n",
        "\n",
        "1958006"
       ]
      },
      {
       "output_type": "stream",
       "stream": "stdout",
       "text": [
        " 2 1 age :  "
       ]
      },
      {
       "output_type": "stream",
       "stream": "stdout",
       "text": [
        "10\n",
        "(509, 1680) \n",
        "\n",
        "4997861"
       ]
      },
      {
       "output_type": "stream",
       "stream": "stdout",
       "text": [
        " 1 2 age :  "
       ]
      },
      {
       "output_type": "stream",
       "stream": "stdout",
       "text": [
        "20\n",
        "(509, 1681) \n",
        "\n",
        "2931024"
       ]
      },
      {
       "output_type": "stream",
       "stream": "stdout",
       "text": [
        " 2 1 age :  "
       ]
      },
      {
       "output_type": "stream",
       "stream": "stdout",
       "text": [
        "10\n",
        "(509, 1682) \n",
        "\n",
        "3140006"
       ]
      },
      {
       "output_type": "stream",
       "stream": "stdout",
       "text": [
        " 1 2 age :  "
       ]
      },
      {
       "output_type": "stream",
       "stream": "stdout",
       "text": [
        "10\n",
        "(509, 1683) \n",
        "\n",
        "1627183"
       ]
      },
      {
       "output_type": "stream",
       "stream": "stdout",
       "text": [
        " 2 1 age :  "
       ]
      },
      {
       "output_type": "stream",
       "stream": "stdout",
       "text": [
        "20\n",
        "(509, 1684) \n",
        "\n",
        "2017210"
       ]
      },
      {
       "output_type": "stream",
       "stream": "stdout",
       "text": [
        " 1 2 age :  "
       ]
      },
      {
       "output_type": "stream",
       "stream": "stdout",
       "text": [
        "60\n",
        "(509, 1685) \n",
        "\n",
        "4882283"
       ]
      },
      {
       "output_type": "stream",
       "stream": "stdout",
       "text": [
        " 1 2 age :  "
       ]
      },
      {
       "output_type": "stream",
       "stream": "stdout",
       "text": [
        "15\n",
        "(509, 1686) \n",
        "\n",
        "1567720"
       ]
      },
      {
       "output_type": "stream",
       "stream": "stdout",
       "text": [
        " 2 1 age :  "
       ]
      },
      {
       "output_type": "stream",
       "stream": "stdout",
       "text": [
        "30\n",
        "(509, 1687) \n",
        "\n",
        "76529"
       ]
      },
      {
       "output_type": "stream",
       "stream": "stdout",
       "text": [
        " 2 2 age :  "
       ]
      },
      {
       "output_type": "stream",
       "stream": "stdout",
       "text": [
        "20\n",
        "(510, 1687) \n",
        "\n",
        "25"
       ]
      },
      {
       "output_type": "stream",
       "stream": "stdout",
       "text": [
        " 1 2 age :  "
       ]
      },
      {
       "output_type": "stream",
       "stream": "stdout",
       "text": [
        "20\n",
        "(510, 1688) \n",
        "\n",
        "4831752"
       ]
      },
      {
       "output_type": "stream",
       "stream": "stdout",
       "text": [
        " 2 1 age :  "
       ]
      },
      {
       "output_type": "stream",
       "stream": "stdout",
       "text": [
        "10\n",
        "(510, 1689) \n",
        "\n",
        "5241677"
       ]
      },
      {
       "output_type": "stream",
       "stream": "stdout",
       "text": [
        " 2 2 age :  "
       ]
      },
      {
       "output_type": "stream",
       "stream": "stdout",
       "text": [
        "30\n",
        "(511, 1689) \n",
        "\n",
        "1689061"
       ]
      },
      {
       "output_type": "stream",
       "stream": "stdout",
       "text": [
        " 2 1 age :  "
       ]
      },
      {
       "output_type": "stream",
       "stream": "stdout",
       "text": [
        "24\n",
        "(511, 1690) \n",
        "\n",
        "3134210"
       ]
      },
      {
       "output_type": "stream",
       "stream": "stdout",
       "text": [
        " 2 2 age :  "
       ]
      },
      {
       "output_type": "stream",
       "stream": "stdout",
       "text": [
        "10\n",
        "(512, 1690) \n",
        "\n",
        "1974137"
       ]
      },
      {
       "output_type": "stream",
       "stream": "stdout",
       "text": [
        " 1 2 age :  "
       ]
      },
      {
       "output_type": "stream",
       "stream": "stdout",
       "text": [
        "10\n",
        "(512, 1691) \n",
        "\n",
        "2023980"
       ]
      },
      {
       "output_type": "stream",
       "stream": "stdout",
       "text": [
        " 2 2 age :  "
       ]
      },
      {
       "output_type": "stream",
       "stream": "stdout",
       "text": [
        "30\n",
        "(513, 1691) \n",
        "\n",
        "4723664"
       ]
      },
      {
       "output_type": "stream",
       "stream": "stdout",
       "text": [
        " 1 1 age :  "
       ]
      },
      {
       "output_type": "stream",
       "stream": "stdout",
       "text": [
        "32\n",
        "(514, 1691) \n",
        "\n",
        "3920331"
       ]
      },
      {
       "output_type": "stream",
       "stream": "stdout",
       "text": [
        " 1 2 age :  "
       ]
      },
      {
       "output_type": "stream",
       "stream": "stdout",
       "text": [
        "10\n",
        "(514, 1692) \n",
        "\n",
        "735280"
       ]
      },
      {
       "output_type": "stream",
       "stream": "stdout",
       "text": [
        " 2 2 age :  "
       ]
      },
      {
       "output_type": "stream",
       "stream": "stdout",
       "text": [
        "30\n",
        "(515, 1692) \n",
        "\n",
        "1712414"
       ]
      },
      {
       "output_type": "stream",
       "stream": "stdout",
       "text": [
        " 1 2 age :  "
       ]
      },
      {
       "output_type": "stream",
       "stream": "stdout",
       "text": [
        "10\n",
        "(515, 1693) \n",
        "\n",
        "4957501"
       ]
      },
      {
       "output_type": "stream",
       "stream": "stdout",
       "text": [
        " 1 2 age :  "
       ]
      },
      {
       "output_type": "stream",
       "stream": "stdout",
       "text": [
        "30\n",
        "(515, 1694) \n",
        "\n",
        "1952630"
       ]
      },
      {
       "output_type": "stream",
       "stream": "stdout",
       "text": [
        " 1 2 age :  "
       ]
      },
      {
       "output_type": "stream",
       "stream": "stdout",
       "text": [
        "10\n",
        "(515, 1695) \n",
        "\n",
        "1975630"
       ]
      },
      {
       "output_type": "stream",
       "stream": "stdout",
       "text": [
        " 1 2 age :  "
       ]
      },
      {
       "output_type": "stream",
       "stream": "stdout",
       "text": [
        "20\n",
        "(515, 1696) \n",
        "\n",
        "3597369"
       ]
      },
      {
       "output_type": "stream",
       "stream": "stdout",
       "text": [
        " 2 2 age :  "
       ]
      },
      {
       "output_type": "stream",
       "stream": "stdout",
       "text": [
        "60\n",
        "(516, 1696) \n",
        "\n",
        "5583256"
       ]
      },
      {
       "output_type": "stream",
       "stream": "stdout",
       "text": [
        " 1 2 age :  "
       ]
      },
      {
       "output_type": "stream",
       "stream": "stdout",
       "text": [
        "10\n",
        "(516, 1697) \n",
        "\n",
        "2369902"
       ]
      },
      {
       "output_type": "stream",
       "stream": "stdout",
       "text": [
        " 1 2 age :  "
       ]
      },
      {
       "output_type": "stream",
       "stream": "stdout",
       "text": [
        "50\n",
        "(516, 1698) \n",
        "\n",
        "1689210"
       ]
      },
      {
       "output_type": "stream",
       "stream": "stdout",
       "text": [
        " 1 2 age :  "
       ]
      },
      {
       "output_type": "stream",
       "stream": "stdout",
       "text": [
        "10\n",
        "(516, 1699) \n",
        "\n",
        "3108667"
       ]
      },
      {
       "output_type": "stream",
       "stream": "stdout",
       "text": [
        " 1 2 age :  "
       ]
      },
      {
       "output_type": "stream",
       "stream": "stdout",
       "text": [
        "20\n",
        "(516, 1700) \n",
        "\n",
        "4185291"
       ]
      },
      {
       "output_type": "stream",
       "stream": "stdout",
       "text": [
        " 1 2 age :  "
       ]
      },
      {
       "output_type": "stream",
       "stream": "stdout",
       "text": [
        "10\n",
        "(516, 1701) \n",
        "\n",
        "2009186"
       ]
      },
      {
       "output_type": "stream",
       "stream": "stdout",
       "text": [
        " 1 2 age :  "
       ]
      },
      {
       "output_type": "stream",
       "stream": "stdout",
       "text": [
        "10\n",
        "(516, 1702) \n",
        "\n",
        "3921819"
       ]
      },
      {
       "output_type": "stream",
       "stream": "stdout",
       "text": [
        " 2 1 age :  "
       ]
      },
      {
       "output_type": "stream",
       "stream": "stdout",
       "text": [
        "20\n",
        "(516, 1703) \n",
        "\n",
        "2234653"
       ]
      },
      {
       "output_type": "stream",
       "stream": "stdout",
       "text": [
        " 1 2 age :  "
       ]
      },
      {
       "output_type": "stream",
       "stream": "stdout",
       "text": [
        "20\n",
        "(516, 1704) \n",
        "\n",
        "1818985"
       ]
      },
      {
       "output_type": "stream",
       "stream": "stdout",
       "text": [
        " 2 2 age :  "
       ]
      },
      {
       "output_type": "stream",
       "stream": "stdout",
       "text": [
        "10\n",
        "(517, 1704) \n",
        "\n",
        "5297096"
       ]
      },
      {
       "output_type": "stream",
       "stream": "stdout",
       "text": [
        " 1 2 age :  "
       ]
      },
      {
       "output_type": "stream",
       "stream": "stdout",
       "text": [
        "37\n",
        "(517, 1705) \n",
        "\n",
        "4487447"
       ]
      },
      {
       "output_type": "stream",
       "stream": "stdout",
       "text": [
        " 2 2 age :  "
       ]
      },
      {
       "output_type": "stream",
       "stream": "stdout",
       "text": [
        "10\n",
        "(518, 1705) \n",
        "\n",
        "3592952"
       ]
      },
      {
       "output_type": "stream",
       "stream": "stdout",
       "text": [
        " 2 1 age :  "
       ]
      },
      {
       "output_type": "stream",
       "stream": "stdout",
       "text": [
        "20\n",
        "(518, 1706) \n",
        "\n",
        "5314442"
       ]
      },
      {
       "output_type": "stream",
       "stream": "stdout",
       "text": [
        " 1 2 age :  "
       ]
      },
      {
       "output_type": "stream",
       "stream": "stdout",
       "text": [
        "10\n",
        "(518, 1707) \n",
        "\n",
        "4513983"
       ]
      },
      {
       "output_type": "stream",
       "stream": "stdout",
       "text": [
        " 2 1 age :  "
       ]
      },
      {
       "output_type": "stream",
       "stream": "stdout",
       "text": [
        "42\n",
        "(518, 1708) \n",
        "\n",
        "1695107"
       ]
      },
      {
       "output_type": "stream",
       "stream": "stdout",
       "text": [
        " 2 2 age :  "
       ]
      },
      {
       "output_type": "stream",
       "stream": "stdout",
       "text": [
        "20\n",
        "(519, 1708) \n",
        "\n",
        "2030869"
       ]
      },
      {
       "output_type": "stream",
       "stream": "stdout",
       "text": [
        " 1 2 age :  "
       ]
      },
      {
       "output_type": "stream",
       "stream": "stdout",
       "text": [
        "10\n",
        "(519, 1709) \n",
        "\n",
        "2261725"
       ]
      },
      {
       "output_type": "stream",
       "stream": "stdout",
       "text": [
        " 2 2 age :  "
       ]
      },
      {
       "output_type": "stream",
       "stream": "stdout",
       "text": [
        "10\n",
        "(520, 1709) \n",
        "\n",
        "2393200"
       ]
      },
      {
       "output_type": "stream",
       "stream": "stdout",
       "text": [
        " 1 2 age :  "
       ]
      },
      {
       "output_type": "stream",
       "stream": "stdout",
       "text": [
        "10\n",
        "(520, 1710) \n",
        "\n",
        "1633553"
       ]
      },
      {
       "output_type": "stream",
       "stream": "stdout",
       "text": [
        " 1 2 age :  "
       ]
      },
      {
       "output_type": "stream",
       "stream": "stdout",
       "text": [
        "10\n",
        "(520, 1711) \n",
        "\n",
        "2005829"
       ]
      },
      {
       "output_type": "stream",
       "stream": "stdout",
       "text": [
        " 2 2 age :  "
       ]
      },
      {
       "output_type": "stream",
       "stream": "stdout",
       "text": [
        "20\n",
        "(521, 1711) \n",
        "\n",
        "2860408"
       ]
      },
      {
       "output_type": "stream",
       "stream": "stdout",
       "text": [
        " 1 2 age :  "
       ]
      },
      {
       "output_type": "stream",
       "stream": "stdout",
       "text": [
        "30\n",
        "(521, 1712) \n",
        "\n",
        "3303630"
       ]
      },
      {
       "output_type": "stream",
       "stream": "stdout",
       "text": [
        " 1 2 age :  "
       ]
      },
      {
       "output_type": "stream",
       "stream": "stdout",
       "text": [
        "20\n",
        "(521, 1713) \n",
        "\n",
        "2627871"
       ]
      },
      {
       "output_type": "stream",
       "stream": "stdout",
       "text": [
        " 1 2 age :  "
       ]
      },
      {
       "output_type": "stream",
       "stream": "stdout",
       "text": [
        "30\n",
        "(521, 1714) \n",
        "\n",
        "2267932"
       ]
      },
      {
       "output_type": "stream",
       "stream": "stdout",
       "text": [
        " 1 2 age :  "
       ]
      },
      {
       "output_type": "stream",
       "stream": "stdout",
       "text": [
        "20\n",
        "(521, 1715) \n",
        "\n",
        "4095904"
       ]
      },
      {
       "output_type": "stream",
       "stream": "stdout",
       "text": [
        " 2 2 age :  "
       ]
      },
      {
       "output_type": "stream",
       "stream": "stdout",
       "text": [
        "10\n",
        "(522, 1715) \n",
        "\n",
        "1940136"
       ]
      },
      {
       "output_type": "stream",
       "stream": "stdout",
       "text": [
        " 1 2 age :  "
       ]
      },
      {
       "output_type": "stream",
       "stream": "stdout",
       "text": [
        "10\n",
        "(522, 1716) \n",
        "\n",
        "1908282"
       ]
      },
      {
       "output_type": "stream",
       "stream": "stdout",
       "text": [
        " 1 2 age :  "
       ]
      },
      {
       "output_type": "stream",
       "stream": "stdout",
       "text": [
        "10\n",
        "(522, 1717) \n",
        "\n",
        "1609680"
       ]
      },
      {
       "output_type": "stream",
       "stream": "stdout",
       "text": [
        " 1 2 age :  "
       ]
      },
      {
       "output_type": "stream",
       "stream": "stdout",
       "text": [
        "10\n",
        "(522, 1718) \n",
        "\n",
        "1938579"
       ]
      },
      {
       "output_type": "stream",
       "stream": "stdout",
       "text": [
        " 1 2 age :  "
       ]
      },
      {
       "output_type": "stream",
       "stream": "stdout",
       "text": [
        "50\n",
        "(522, 1719) \n",
        "\n",
        "3710244"
       ]
      },
      {
       "output_type": "stream",
       "stream": "stdout",
       "text": [
        " 1 2 age :  "
       ]
      },
      {
       "output_type": "stream",
       "stream": "stdout",
       "text": [
        "42\n",
        "(522, 1720) \n",
        "\n",
        "1842313"
       ]
      },
      {
       "output_type": "stream",
       "stream": "stdout",
       "text": [
        " 1 2 age :  "
       ]
      },
      {
       "output_type": "stream",
       "stream": "stdout",
       "text": [
        "20\n",
        "(522, 1721) \n",
        "\n",
        "1757629"
       ]
      },
      {
       "output_type": "stream",
       "stream": "stdout",
       "text": [
        " 1 2 age :  "
       ]
      },
      {
       "output_type": "stream",
       "stream": "stdout",
       "text": [
        "10\n",
        "(522, 1722) \n",
        "\n",
        "381068"
       ]
      },
      {
       "output_type": "stream",
       "stream": "stdout",
       "text": [
        " 2 1 age :  "
       ]
      },
      {
       "output_type": "stream",
       "stream": "stdout",
       "text": [
        "30\n",
        "(522, 1723) \n",
        "\n",
        "1859899"
       ]
      },
      {
       "output_type": "stream",
       "stream": "stdout",
       "text": [
        " 1 2 age :  "
       ]
      },
      {
       "output_type": "stream",
       "stream": "stdout",
       "text": [
        "30\n",
        "(522, 1724) \n",
        "\n",
        "1615273"
       ]
      },
      {
       "output_type": "stream",
       "stream": "stdout",
       "text": [
        " 2 1 age :  "
       ]
      },
      {
       "output_type": "stream",
       "stream": "stdout",
       "text": [
        "22\n",
        "(522, 1725) \n",
        "\n",
        "1857150"
       ]
      },
      {
       "output_type": "stream",
       "stream": "stdout",
       "text": [
        " 1 2 age :  "
       ]
      },
      {
       "output_type": "stream",
       "stream": "stdout",
       "text": [
        "10\n",
        "(522, 1726) \n",
        "\n",
        "4908380"
       ]
      },
      {
       "output_type": "stream",
       "stream": "stdout",
       "text": [
        " 1 2 age :  "
       ]
      },
      {
       "output_type": "stream",
       "stream": "stdout",
       "text": [
        "10\n",
        "(522, 1727) \n",
        "\n",
        "3217341"
       ]
      },
      {
       "output_type": "stream",
       "stream": "stdout",
       "text": [
        " 1 2 age :  "
       ]
      },
      {
       "output_type": "stream",
       "stream": "stdout",
       "text": [
        "22\n",
        "(522, 1728) \n",
        "\n",
        "1868822"
       ]
      },
      {
       "output_type": "stream",
       "stream": "stdout",
       "text": [
        " 1 2 age :  "
       ]
      },
      {
       "output_type": "stream",
       "stream": "stdout",
       "text": [
        "30\n",
        "(522, 1729) \n",
        "\n",
        "4863713"
       ]
      },
      {
       "output_type": "stream",
       "stream": "stdout",
       "text": [
        " 2 1 age :  "
       ]
      },
      {
       "output_type": "stream",
       "stream": "stdout",
       "text": [
        "10\n",
        "(522, 1730) \n",
        "\n",
        "3781812"
       ]
      },
      {
       "output_type": "stream",
       "stream": "stdout",
       "text": [
        " 1 2 age :  "
       ]
      },
      {
       "output_type": "stream",
       "stream": "stdout",
       "text": [
        "10\n",
        "(522, 1731) \n",
        "\n",
        "3149926"
       ]
      },
      {
       "output_type": "stream",
       "stream": "stdout",
       "text": [
        " 1 2 age :  "
       ]
      },
      {
       "output_type": "stream",
       "stream": "stdout",
       "text": [
        "10\n",
        "(522, 1732) \n",
        "\n",
        "3715739"
       ]
      },
      {
       "output_type": "stream",
       "stream": "stdout",
       "text": [
        " 1 2 age :  "
       ]
      },
      {
       "output_type": "stream",
       "stream": "stdout",
       "text": [
        "15\n",
        "(522, 1733) \n",
        "\n",
        "4294564"
       ]
      },
      {
       "output_type": "stream",
       "stream": "stdout",
       "text": [
        " 2 1 age :  "
       ]
      },
      {
       "output_type": "stream",
       "stream": "stdout",
       "text": [
        "20\n",
        "(522, 1734) \n",
        "\n",
        "1460026"
       ]
      },
      {
       "output_type": "stream",
       "stream": "stdout",
       "text": [
        " 2 2 age :  "
       ]
      },
      {
       "output_type": "stream",
       "stream": "stdout",
       "text": [
        "32\n",
        "(523, 1734) \n",
        "\n",
        "2018517"
       ]
      },
      {
       "output_type": "stream",
       "stream": "stdout",
       "text": [
        " 2 2 age :  "
       ]
      },
      {
       "output_type": "stream",
       "stream": "stdout",
       "text": [
        "20\n",
        "(524, 1734) \n",
        "\n",
        "2230277"
       ]
      },
      {
       "output_type": "stream",
       "stream": "stdout",
       "text": [
        " 2 1 age :  "
       ]
      },
      {
       "output_type": "stream",
       "stream": "stdout",
       "text": [
        "10\n",
        "(524, 1735) \n",
        "\n",
        "3777902"
       ]
      },
      {
       "output_type": "stream",
       "stream": "stdout",
       "text": [
        " 1 2 age :  "
       ]
      },
      {
       "output_type": "stream",
       "stream": "stdout",
       "text": [
        "30\n",
        "(524, 1736) \n",
        "\n",
        "4851283"
       ]
      },
      {
       "output_type": "stream",
       "stream": "stdout",
       "text": [
        " 2 1 age :  "
       ]
      },
      {
       "output_type": "stream",
       "stream": "stdout",
       "text": [
        "10\n",
        "(524, 1737) \n",
        "\n",
        "2589539"
       ]
      },
      {
       "output_type": "stream",
       "stream": "stdout",
       "text": [
        " 1 1 age :  "
       ]
      },
      {
       "output_type": "stream",
       "stream": "stdout",
       "text": [
        "10\n",
        "(525, 1737) \n",
        "\n",
        "3219035"
       ]
      },
      {
       "output_type": "stream",
       "stream": "stdout",
       "text": [
        " 1 2 age :  "
       ]
      },
      {
       "output_type": "stream",
       "stream": "stdout",
       "text": [
        "10\n",
        "(525, 1738) \n",
        "\n",
        "2303427"
       ]
      },
      {
       "output_type": "stream",
       "stream": "stdout",
       "text": [
        " 1 2 age :  "
       ]
      },
      {
       "output_type": "stream",
       "stream": "stdout",
       "text": [
        "20\n",
        "(525, 1739) \n",
        "\n",
        "2158523"
       ]
      },
      {
       "output_type": "stream",
       "stream": "stdout",
       "text": [
        " 1 2 age :  "
       ]
      },
      {
       "output_type": "stream",
       "stream": "stdout",
       "text": [
        "10\n",
        "(525, 1740) \n",
        "\n",
        "2449740"
       ]
      },
      {
       "output_type": "stream",
       "stream": "stdout",
       "text": [
        " 2 2 age :  "
       ]
      },
      {
       "output_type": "stream",
       "stream": "stdout",
       "text": [
        "10\n",
        "(526, 1740) \n",
        "\n",
        "3815824"
       ]
      },
      {
       "output_type": "stream",
       "stream": "stdout",
       "text": [
        " 1 2 age :  "
       ]
      },
      {
       "output_type": "stream",
       "stream": "stdout",
       "text": [
        "18\n",
        "(526, 1741) \n",
        "\n",
        "5053764"
       ]
      },
      {
       "output_type": "stream",
       "stream": "stdout",
       "text": [
        " 1 2 age :  "
       ]
      },
      {
       "output_type": "stream",
       "stream": "stdout",
       "text": [
        "10\n",
        "(526, 1742) \n",
        "\n",
        "2931833"
       ]
      },
      {
       "output_type": "stream",
       "stream": "stdout",
       "text": [
        " 1 2 age :  "
       ]
      },
      {
       "output_type": "stream",
       "stream": "stdout",
       "text": [
        "10\n",
        "(526, 1743) \n",
        "\n",
        "2996298"
       ]
      },
      {
       "output_type": "stream",
       "stream": "stdout",
       "text": [
        " 2 1 age :  "
       ]
      },
      {
       "output_type": "stream",
       "stream": "stdout",
       "text": [
        "32\n",
        "(526, 1744) \n",
        "\n",
        "3213917"
       ]
      },
      {
       "output_type": "stream",
       "stream": "stdout",
       "text": [
        " 2 1 age :  "
       ]
      },
      {
       "output_type": "stream",
       "stream": "stdout",
       "text": [
        "12\n",
        "(526, 1745) \n",
        "\n",
        "2827997"
       ]
      },
      {
       "output_type": "stream",
       "stream": "stdout",
       "text": [
        " 1 2 age :  "
       ]
      },
      {
       "output_type": "stream",
       "stream": "stdout",
       "text": [
        "20\n",
        "(526, 1746) \n",
        "\n",
        "2547797"
       ]
      },
      {
       "output_type": "stream",
       "stream": "stdout",
       "text": [
        " 2 1 age :  "
       ]
      },
      {
       "output_type": "stream",
       "stream": "stdout",
       "text": [
        "10\n",
        "(526, 1747) \n",
        "\n",
        "3830420"
       ]
      },
      {
       "output_type": "stream",
       "stream": "stdout",
       "text": [
        " 2 1 age :  "
       ]
      },
      {
       "output_type": "stream",
       "stream": "stdout",
       "text": [
        "12\n",
        "(526, 1748) \n",
        "\n",
        "2063718"
       ]
      },
      {
       "output_type": "stream",
       "stream": "stdout",
       "text": [
        " 1 2 age :  "
       ]
      },
      {
       "output_type": "stream",
       "stream": "stdout",
       "text": [
        "30\n",
        "(526, 1749) \n",
        "\n",
        "1327751"
       ]
      },
      {
       "output_type": "stream",
       "stream": "stdout",
       "text": [
        " 1 2 age :  "
       ]
      },
      {
       "output_type": "stream",
       "stream": "stdout",
       "text": [
        "25\n",
        "(526, 1750) \n",
        "\n",
        "1731285"
       ]
      },
      {
       "output_type": "stream",
       "stream": "stdout",
       "text": [
        " 1 2 age :  "
       ]
      },
      {
       "output_type": "stream",
       "stream": "stdout",
       "text": [
        "10\n",
        "(526, 1751) \n",
        "\n",
        "1872955"
       ]
      },
      {
       "output_type": "stream",
       "stream": "stdout",
       "text": [
        " 1 2 age :  "
       ]
      },
      {
       "output_type": "stream",
       "stream": "stdout",
       "text": [
        "28\n",
        "(526, 1752) \n",
        "\n",
        "4939579"
       ]
      },
      {
       "output_type": "stream",
       "stream": "stdout",
       "text": [
        " 1 2 age :  "
       ]
      },
      {
       "output_type": "stream",
       "stream": "stdout",
       "text": [
        "10\n",
        "(526, 1753) \n",
        "\n",
        "2055785"
       ]
      },
      {
       "output_type": "stream",
       "stream": "stdout",
       "text": [
        " 2 2 age :  "
       ]
      },
      {
       "output_type": "stream",
       "stream": "stdout",
       "text": [
        "19\n",
        "(527, 1753) \n",
        "\n",
        "2852425"
       ]
      },
      {
       "output_type": "stream",
       "stream": "stdout",
       "text": [
        " 2 1 age :  "
       ]
      },
      {
       "output_type": "stream",
       "stream": "stdout",
       "text": [
        "20\n",
        "(527, 1754) \n",
        "\n",
        "4277398"
       ]
      },
      {
       "output_type": "stream",
       "stream": "stdout",
       "text": [
        " 2 1 age :  "
       ]
      },
      {
       "output_type": "stream",
       "stream": "stdout",
       "text": [
        "10\n",
        "(527, 1755) \n",
        "\n",
        "3801434"
       ]
      },
      {
       "output_type": "stream",
       "stream": "stdout",
       "text": [
        " 1 2 age :  "
       ]
      },
      {
       "output_type": "stream",
       "stream": "stdout",
       "text": [
        "10\n",
        "(527, 1756) \n",
        "\n",
        "4966495"
       ]
      },
      {
       "output_type": "stream",
       "stream": "stdout",
       "text": [
        " 1 2 age :  "
       ]
      },
      {
       "output_type": "stream",
       "stream": "stdout",
       "text": [
        "10\n",
        "(527, 1757) \n",
        "\n",
        "3698176"
       ]
      },
      {
       "output_type": "stream",
       "stream": "stdout",
       "text": [
        " 2 1 age :  "
       ]
      },
      {
       "output_type": "stream",
       "stream": "stdout",
       "text": [
        "15\n",
        "(527, 1758) \n",
        "\n",
        "2730615"
       ]
      },
      {
       "output_type": "stream",
       "stream": "stdout",
       "text": [
        " 2 2 age :  "
       ]
      },
      {
       "output_type": "stream",
       "stream": "stdout",
       "text": [
        "32\n",
        "(528, 1758) \n",
        "\n",
        "1899610"
       ]
      },
      {
       "output_type": "stream",
       "stream": "stdout",
       "text": [
        " 1 2 age :  "
       ]
      },
      {
       "output_type": "stream",
       "stream": "stdout",
       "text": [
        "20\n",
        "(528, 1759) \n",
        "\n",
        "2228717"
       ]
      },
      {
       "output_type": "stream",
       "stream": "stdout",
       "text": [
        " 1 2 age :  "
       ]
      },
      {
       "output_type": "stream",
       "stream": "stdout",
       "text": [
        "10\n",
        "(528, 1760) \n",
        "\n",
        "1436986"
       ]
      },
      {
       "output_type": "stream",
       "stream": "stdout",
       "text": [
        " 2 1 age :  "
       ]
      },
      {
       "output_type": "stream",
       "stream": "stdout",
       "text": [
        "25\n",
        "(528, 1761) \n",
        "\n",
        "2853459"
       ]
      },
      {
       "output_type": "stream",
       "stream": "stdout",
       "text": [
        " 1 2 age :  "
       ]
      },
      {
       "output_type": "stream",
       "stream": "stdout",
       "text": [
        "20\n",
        "(528, 1762) \n",
        "\n",
        "873174"
       ]
      },
      {
       "output_type": "stream",
       "stream": "stdout",
       "text": [
        " 2 1 age :  "
       ]
      },
      {
       "output_type": "stream",
       "stream": "stdout",
       "text": [
        "18\n",
        "(528, 1763) \n",
        "\n",
        "1915017"
       ]
      },
      {
       "output_type": "stream",
       "stream": "stdout",
       "text": [
        " 2 2 age :  "
       ]
      },
      {
       "output_type": "stream",
       "stream": "stdout",
       "text": [
        "25\n",
        "(529, 1763) \n",
        "\n",
        "3301310"
       ]
      },
      {
       "output_type": "stream",
       "stream": "stdout",
       "text": [
        " 1 2 age :  "
       ]
      },
      {
       "output_type": "stream",
       "stream": "stdout",
       "text": [
        "10\n",
        "(529, 1764) \n",
        "\n",
        "1736135"
       ]
      },
      {
       "output_type": "stream",
       "stream": "stdout",
       "text": [
        " 1 2 age :  "
       ]
      },
      {
       "output_type": "stream",
       "stream": "stdout",
       "text": [
        "20\n",
        "(529, 1765) \n",
        "\n",
        "2591293"
       ]
      },
      {
       "output_type": "stream",
       "stream": "stdout",
       "text": [
        " 1 2 age :  "
       ]
      },
      {
       "output_type": "stream",
       "stream": "stdout",
       "text": [
        "10\n",
        "(529, 1766) \n",
        "\n",
        "4718501"
       ]
      },
      {
       "output_type": "stream",
       "stream": "stdout",
       "text": [
        " 2 1 age :  "
       ]
      },
      {
       "output_type": "stream",
       "stream": "stdout",
       "text": [
        "10\n",
        "(529, 1767) \n",
        "\n",
        "3905702"
       ]
      },
      {
       "output_type": "stream",
       "stream": "stdout",
       "text": [
        " 1 2 age :  "
       ]
      },
      {
       "output_type": "stream",
       "stream": "stdout",
       "text": [
        "10\n",
        "(529, 1768) \n",
        "\n",
        "2314871"
       ]
      },
      {
       "output_type": "stream",
       "stream": "stdout",
       "text": [
        " 1 2 age :  "
       ]
      },
      {
       "output_type": "stream",
       "stream": "stdout",
       "text": [
        "20\n",
        "(529, 1769) \n",
        "\n",
        "1800430"
       ]
      },
      {
       "output_type": "stream",
       "stream": "stdout",
       "text": [
        " 1 2 age :  "
       ]
      },
      {
       "output_type": "stream",
       "stream": "stdout",
       "text": [
        "20\n",
        "(529, 1770) \n",
        "\n",
        "1878462"
       ]
      },
      {
       "output_type": "stream",
       "stream": "stdout",
       "text": [
        " 1 2 age :  "
       ]
      },
      {
       "output_type": "stream",
       "stream": "stdout",
       "text": [
        "10\n",
        "(529, 1771) \n",
        "\n",
        "1737843"
       ]
      },
      {
       "output_type": "stream",
       "stream": "stdout",
       "text": [
        " 1 2 age :  "
       ]
      },
      {
       "output_type": "stream",
       "stream": "stdout",
       "text": [
        "10\n",
        "(529, 1772) \n",
        "\n",
        "2795044"
       ]
      },
      {
       "output_type": "stream",
       "stream": "stdout",
       "text": [
        " 1 2 age :  "
       ]
      },
      {
       "output_type": "stream",
       "stream": "stdout",
       "text": [
        "10\n",
        "(529, 1773) \n",
        "\n",
        "1688400"
       ]
      },
      {
       "output_type": "stream",
       "stream": "stdout",
       "text": [
        " 1 2 age :  "
       ]
      },
      {
       "output_type": "stream",
       "stream": "stdout",
       "text": [
        "20\n",
        "(529, 1774) \n",
        "\n",
        "1726122"
       ]
      },
      {
       "output_type": "stream",
       "stream": "stdout",
       "text": [
        " 1 2 age :  "
       ]
      },
      {
       "output_type": "stream",
       "stream": "stdout",
       "text": [
        "60\n",
        "(529, 1775) \n",
        "\n",
        "1778235"
       ]
      },
      {
       "output_type": "stream",
       "stream": "stdout",
       "text": [
        " 2 2 age :  "
       ]
      },
      {
       "output_type": "stream",
       "stream": "stdout",
       "text": [
        "10\n",
        "(530, 1775) \n",
        "\n",
        "1913269"
       ]
      },
      {
       "output_type": "stream",
       "stream": "stdout",
       "text": [
        " 2 2 age :  "
       ]
      },
      {
       "output_type": "stream",
       "stream": "stdout",
       "text": [
        "40\n",
        "(531, 1775) \n",
        "\n",
        "3134077"
       ]
      },
      {
       "output_type": "stream",
       "stream": "stdout",
       "text": [
        " 1 2 age :  "
       ]
      },
      {
       "output_type": "stream",
       "stream": "stdout",
       "text": [
        "35\n",
        "(531, 1776) \n",
        "\n",
        "2824695"
       ]
      },
      {
       "output_type": "stream",
       "stream": "stdout",
       "text": [
        " 2 2 age :  "
       ]
      },
      {
       "output_type": "stream",
       "stream": "stdout",
       "text": [
        "12\n",
        "(532, 1776) \n",
        "\n",
        "4887957"
       ]
      },
      {
       "output_type": "stream",
       "stream": "stdout",
       "text": [
        " 1 2 age :  "
       ]
      },
      {
       "output_type": "stream",
       "stream": "stdout",
       "text": [
        "10\n",
        "(532, 1777) \n",
        "\n",
        "790295"
       ]
      },
      {
       "output_type": "stream",
       "stream": "stdout",
       "text": [
        " 2 1 age :  "
       ]
      },
      {
       "output_type": "stream",
       "stream": "stdout",
       "text": [
        "22\n",
        "(532, 1778) \n",
        "\n",
        "1591178"
       ]
      },
      {
       "output_type": "stream",
       "stream": "stdout",
       "text": [
        " 1 2 age :  "
       ]
      },
      {
       "output_type": "stream",
       "stream": "stdout",
       "text": [
        "28\n",
        "(532, 1779) \n",
        "\n",
        "1941253"
       ]
      },
      {
       "output_type": "stream",
       "stream": "stdout",
       "text": [
        " 1 2 age :  "
       ]
      },
      {
       "output_type": "stream",
       "stream": "stdout",
       "text": [
        "10\n",
        "(532, 1780) \n",
        "\n",
        "1778617"
       ]
      },
      {
       "output_type": "stream",
       "stream": "stdout",
       "text": [
        " 1 2 age :  "
       ]
      },
      {
       "output_type": "stream",
       "stream": "stdout",
       "text": [
        "30\n",
        "(532, 1781) \n",
        "\n",
        "1795953"
       ]
      },
      {
       "output_type": "stream",
       "stream": "stdout",
       "text": [
        " 1 2 age :  "
       ]
      },
      {
       "output_type": "stream",
       "stream": "stdout",
       "text": [
        "30\n",
        "(532, 1782) \n",
        "\n",
        "1992025"
       ]
      },
      {
       "output_type": "stream",
       "stream": "stdout",
       "text": [
        " 2 1 age :  "
       ]
      },
      {
       "output_type": "stream",
       "stream": "stdout",
       "text": [
        "10\n",
        "(532, 1783) \n",
        "\n",
        "5312458"
       ]
      },
      {
       "output_type": "stream",
       "stream": "stdout",
       "text": [
        " 1 2 age :  "
       ]
      },
      {
       "output_type": "stream",
       "stream": "stdout",
       "text": [
        "40\n",
        "(532, 1784) \n",
        "\n",
        "1926528"
       ]
      },
      {
       "output_type": "stream",
       "stream": "stdout",
       "text": [
        " 2 1 age :  "
       ]
      },
      {
       "output_type": "stream",
       "stream": "stdout",
       "text": [
        "20\n",
        "(532, 1785) \n",
        "\n",
        "1734453"
       ]
      },
      {
       "output_type": "stream",
       "stream": "stdout",
       "text": [
        " 1 2 age :  "
       ]
      },
      {
       "output_type": "stream",
       "stream": "stdout",
       "text": [
        "10\n",
        "(532, 1786) \n",
        "\n",
        "3839745"
       ]
      },
      {
       "output_type": "stream",
       "stream": "stdout",
       "text": [
        " 1 2 age :  "
       ]
      },
      {
       "output_type": "stream",
       "stream": "stdout",
       "text": [
        "10\n",
        "(532, 1787) \n",
        "\n",
        "4339955"
       ]
      },
      {
       "output_type": "stream",
       "stream": "stdout",
       "text": [
        " 2 1 age :  "
       ]
      },
      {
       "output_type": "stream",
       "stream": "stdout",
       "text": [
        "20\n",
        "(532, 1788) \n",
        "\n",
        "3380382"
       ]
      },
      {
       "output_type": "stream",
       "stream": "stdout",
       "text": [
        " 1 2 age :  "
       ]
      },
      {
       "output_type": "stream",
       "stream": "stdout",
       "text": [
        "20\n",
        "(532, 1789) \n",
        "\n",
        "4830864"
       ]
      },
      {
       "output_type": "stream",
       "stream": "stdout",
       "text": [
        " 1 1 age :  "
       ]
      },
      {
       "output_type": "stream",
       "stream": "stdout",
       "text": [
        "50\n",
        "(533, 1789) \n",
        "\n",
        "1493393"
       ]
      },
      {
       "output_type": "stream",
       "stream": "stdout",
       "text": [
        " 1 2 age :  "
       ]
      },
      {
       "output_type": "stream",
       "stream": "stdout",
       "text": [
        "20\n",
        "(533, 1790) \n",
        "\n",
        "3144963"
       ]
      },
      {
       "output_type": "stream",
       "stream": "stdout",
       "text": [
        " 2 2 age :  "
       ]
      },
      {
       "output_type": "stream",
       "stream": "stdout",
       "text": [
        "10\n",
        "(534, 1790) \n",
        "\n",
        "4832487"
       ]
      },
      {
       "output_type": "stream",
       "stream": "stdout",
       "text": [
        " 1 2 age :  "
       ]
      },
      {
       "output_type": "stream",
       "stream": "stdout",
       "text": [
        "10\n",
        "(534, 1791) \n",
        "\n",
        "5008511"
       ]
      },
      {
       "output_type": "stream",
       "stream": "stdout",
       "text": [
        " 2 2 age :  "
       ]
      },
      {
       "output_type": "stream",
       "stream": "stdout",
       "text": [
        "11\n",
        "(535, 1791) \n",
        "\n",
        "42003"
       ]
      },
      {
       "output_type": "stream",
       "stream": "stdout",
       "text": [
        " 2 1 age :  "
       ]
      },
      {
       "output_type": "stream",
       "stream": "stdout",
       "text": [
        "22\n",
        "(535, 1792) \n",
        "\n",
        "5163791"
       ]
      },
      {
       "output_type": "stream",
       "stream": "stdout",
       "text": [
        " 1 2 age :  "
       ]
      },
      {
       "output_type": "stream",
       "stream": "stdout",
       "text": [
        "15\n",
        "(535, 1793) \n",
        "\n",
        "1819216"
       ]
      },
      {
       "output_type": "stream",
       "stream": "stdout",
       "text": [
        " 2 2 age :  "
       ]
      },
      {
       "output_type": "stream",
       "stream": "stdout",
       "text": [
        "10\n",
        "(536, 1793) \n",
        "\n",
        "1760108"
       ]
      },
      {
       "output_type": "stream",
       "stream": "stdout",
       "text": [
        " 1 2 age :  "
       ]
      },
      {
       "output_type": "stream",
       "stream": "stdout",
       "text": [
        "20\n",
        "(536, 1794) \n",
        "\n",
        "2505836"
       ]
      },
      {
       "output_type": "stream",
       "stream": "stdout",
       "text": [
        " 1 2 age :  "
       ]
      },
      {
       "output_type": "stream",
       "stream": "stdout",
       "text": [
        "20\n",
        "(536, 1795) \n",
        "\n",
        "2909196"
       ]
      },
      {
       "output_type": "stream",
       "stream": "stdout",
       "text": [
        " 1 2 age :  "
       ]
      },
      {
       "output_type": "stream",
       "stream": "stdout",
       "text": [
        "10\n",
        "(536, 1796) \n",
        "\n",
        "3249427"
       ]
      },
      {
       "output_type": "stream",
       "stream": "stdout",
       "text": [
        " 2 2 age :  "
       ]
      },
      {
       "output_type": "stream",
       "stream": "stdout",
       "text": [
        "20\n",
        "(537, 1796) \n",
        "\n",
        "1207425"
       ]
      },
      {
       "output_type": "stream",
       "stream": "stdout",
       "text": [
        " 1 2 age :  "
       ]
      },
      {
       "output_type": "stream",
       "stream": "stdout",
       "text": [
        "32\n",
        "(537, 1797) \n",
        "\n",
        "1927067"
       ]
      },
      {
       "output_type": "stream",
       "stream": "stdout",
       "text": [
        " 2 1 age :  "
       ]
      },
      {
       "output_type": "stream",
       "stream": "stdout",
       "text": [
        "10\n",
        "(537, 1798) \n",
        "\n",
        "4726520"
       ]
      },
      {
       "output_type": "stream",
       "stream": "stdout",
       "text": [
        " 1 2 age :  "
       ]
      },
      {
       "output_type": "stream",
       "stream": "stdout",
       "text": [
        "20\n",
        "(537, 1799) \n",
        "\n",
        "4445563"
       ]
      },
      {
       "output_type": "stream",
       "stream": "stdout",
       "text": [
        " 2 2 age :  "
       ]
      },
      {
       "output_type": "stream",
       "stream": "stdout",
       "text": [
        "10\n",
        "(538, 1799) \n",
        "\n",
        "3200591"
       ]
      },
      {
       "output_type": "stream",
       "stream": "stdout",
       "text": [
        " 2 2 age :  "
       ]
      },
      {
       "output_type": "stream",
       "stream": "stdout",
       "text": [
        "20\n",
        "(539, 1799) \n",
        "\n",
        "1992107"
       ]
      },
      {
       "output_type": "stream",
       "stream": "stdout",
       "text": [
        " 2 2 age :  "
       ]
      },
      {
       "output_type": "stream",
       "stream": "stdout",
       "text": [
        "25\n",
        "(540, 1799) \n",
        "\n",
        "1937895"
       ]
      },
      {
       "output_type": "stream",
       "stream": "stdout",
       "text": [
        " 1 2 age :  "
       ]
      },
      {
       "output_type": "stream",
       "stream": "stdout",
       "text": [
        "30\n",
        "(540, 1800) \n",
        "\n",
        "3830145"
       ]
      },
      {
       "output_type": "stream",
       "stream": "stdout",
       "text": [
        " 1 2 age :  "
       ]
      },
      {
       "output_type": "stream",
       "stream": "stdout",
       "text": [
        "30\n",
        "(540, 1801) \n",
        "\n",
        "2281521"
       ]
      },
      {
       "output_type": "stream",
       "stream": "stdout",
       "text": [
        " 1 2 age :  "
       ]
      },
      {
       "output_type": "stream",
       "stream": "stdout",
       "text": [
        "30\n",
        "(540, 1802) \n",
        "\n",
        "4965914"
       ]
      },
      {
       "output_type": "stream",
       "stream": "stdout",
       "text": [
        " 1 2 age :  "
       ]
      },
      {
       "output_type": "stream",
       "stream": "stdout",
       "text": [
        "24\n",
        "(540, 1803) \n",
        "\n",
        "1987881"
       ]
      },
      {
       "output_type": "stream",
       "stream": "stdout",
       "text": [
        " 1 2 age :  "
       ]
      },
      {
       "output_type": "stream",
       "stream": "stdout",
       "text": [
        "30\n",
        "(540, 1804) \n",
        "\n",
        "2986735"
       ]
      },
      {
       "output_type": "stream",
       "stream": "stdout",
       "text": [
        " 1 2 age :  "
       ]
      },
      {
       "output_type": "stream",
       "stream": "stdout",
       "text": [
        "20\n",
        "(540, 1805) \n",
        "\n",
        "4653424"
       ]
      },
      {
       "output_type": "stream",
       "stream": "stdout",
       "text": [
        " 1 2 age :  "
       ]
      },
      {
       "output_type": "stream",
       "stream": "stdout",
       "text": [
        "20\n",
        "(540, 1806) \n",
        "\n",
        "1695320"
       ]
      },
      {
       "output_type": "stream",
       "stream": "stdout",
       "text": [
        " 1 2 age :  "
       ]
      },
      {
       "output_type": "stream",
       "stream": "stdout",
       "text": [
        "10\n",
        "(540, 1807) \n",
        "\n",
        "2178008"
       ]
      },
      {
       "output_type": "stream",
       "stream": "stdout",
       "text": [
        " 2 1 age :  "
       ]
      },
      {
       "output_type": "stream",
       "stream": "stdout",
       "text": [
        "30\n",
        "(540, 1808) \n",
        "\n",
        "2092543"
       ]
      },
      {
       "output_type": "stream",
       "stream": "stdout",
       "text": [
        " 1 2 age :  "
       ]
      },
      {
       "output_type": "stream",
       "stream": "stdout",
       "text": [
        "30\n",
        "(540, 1809) \n",
        "\n",
        "5263513"
       ]
      },
      {
       "output_type": "stream",
       "stream": "stdout",
       "text": [
        " 2 1 age :  "
       ]
      },
      {
       "output_type": "stream",
       "stream": "stdout",
       "text": [
        "18\n",
        "(540, 1810) \n",
        "\n",
        "2465755"
       ]
      },
      {
       "output_type": "stream",
       "stream": "stdout",
       "text": [
        " 1 2 age :  "
       ]
      },
      {
       "output_type": "stream",
       "stream": "stdout",
       "text": [
        "10\n",
        "(540, 1811) \n",
        "\n",
        "1338087"
       ]
      },
      {
       "output_type": "stream",
       "stream": "stdout",
       "text": [
        " 2 1 age :  "
       ]
      },
      {
       "output_type": "stream",
       "stream": "stdout",
       "text": [
        "20\n",
        "(540, 1812) \n",
        "\n",
        "2996109"
       ]
      },
      {
       "output_type": "stream",
       "stream": "stdout",
       "text": [
        " 2 2 age :  "
       ]
      },
      {
       "output_type": "stream",
       "stream": "stdout",
       "text": [
        "10\n",
        "(541, 1812) \n",
        "\n",
        "2118917"
       ]
      },
      {
       "output_type": "stream",
       "stream": "stdout",
       "text": [
        " 1 2 age :  "
       ]
      },
      {
       "output_type": "stream",
       "stream": "stdout",
       "text": [
        "30\n",
        "(541, 1813) \n",
        "\n",
        "3413770"
       ]
      },
      {
       "output_type": "stream",
       "stream": "stdout",
       "text": [
        " 2 1 age :  "
       ]
      },
      {
       "output_type": "stream",
       "stream": "stdout",
       "text": [
        "20\n",
        "(541, 1814) \n",
        "\n",
        "2952775"
       ]
      },
      {
       "output_type": "stream",
       "stream": "stdout",
       "text": [
        " 2 1 age :  "
       ]
      },
      {
       "output_type": "stream",
       "stream": "stdout",
       "text": [
        "10\n",
        "(541, 1815) \n",
        "\n",
        "2466883"
       ]
      },
      {
       "output_type": "stream",
       "stream": "stdout",
       "text": [
        " 1 2 age :  "
       ]
      },
      {
       "output_type": "stream",
       "stream": "stdout",
       "text": [
        "10\n",
        "(541, 1816) \n",
        "\n",
        "2012108"
       ]
      },
      {
       "output_type": "stream",
       "stream": "stdout",
       "text": [
        " 2 2 age :  "
       ]
      },
      {
       "output_type": "stream",
       "stream": "stdout",
       "text": [
        "19\n",
        "(542, 1816) \n",
        "\n",
        "5040022"
       ]
      },
      {
       "output_type": "stream",
       "stream": "stdout",
       "text": [
        " 1 2 age :  "
       ]
      },
      {
       "output_type": "stream",
       "stream": "stdout",
       "text": [
        "14\n",
        "(542, 1817) \n",
        "\n",
        "4744786"
       ]
      },
      {
       "output_type": "stream",
       "stream": "stdout",
       "text": [
        " 2 1 age :  "
       ]
      },
      {
       "output_type": "stream",
       "stream": "stdout",
       "text": [
        "20\n",
        "(542, 1818) \n",
        "\n",
        "4279691"
       ]
      },
      {
       "output_type": "stream",
       "stream": "stdout",
       "text": [
        " 1 1 age :  "
       ]
      },
      {
       "output_type": "stream",
       "stream": "stdout",
       "text": [
        "27\n",
        "(543, 1818) \n",
        "\n",
        "2418462"
       ]
      },
      {
       "output_type": "stream",
       "stream": "stdout",
       "text": [
        " 2 2 age :  "
       ]
      },
      {
       "output_type": "stream",
       "stream": "stdout",
       "text": [
        "30\n",
        "(544, 1818) \n",
        "\n",
        "3140419"
       ]
      },
      {
       "output_type": "stream",
       "stream": "stdout",
       "text": [
        " 2 1 age :  "
       ]
      },
      {
       "output_type": "stream",
       "stream": "stdout",
       "text": [
        "10\n",
        "(544, 1819) \n",
        "\n",
        "1685329"
       ]
      },
      {
       "output_type": "stream",
       "stream": "stdout",
       "text": [
        " 2 2 age :  "
       ]
      },
      {
       "output_type": "stream",
       "stream": "stdout",
       "text": [
        "20\n",
        "(545, 1819) \n",
        "\n",
        "1879196"
       ]
      },
      {
       "output_type": "stream",
       "stream": "stdout",
       "text": [
        " 1 2 age :  "
       ]
      },
      {
       "output_type": "stream",
       "stream": "stdout",
       "text": [
        "10\n",
        "(545, 1820) \n",
        "\n",
        "2715132"
       ]
      },
      {
       "output_type": "stream",
       "stream": "stdout",
       "text": [
        " 1 2 age :  "
       ]
      },
      {
       "output_type": "stream",
       "stream": "stdout",
       "text": [
        "20\n",
        "(545, 1821) \n",
        "\n",
        "1808157"
       ]
      },
      {
       "output_type": "stream",
       "stream": "stdout",
       "text": [
        " 1 2 age :  "
       ]
      },
      {
       "output_type": "stream",
       "stream": "stdout",
       "text": [
        "20\n",
        "(545, 1822) \n",
        "\n",
        "3832453"
       ]
      },
      {
       "output_type": "stream",
       "stream": "stdout",
       "text": [
        " 2 2 age :  "
       ]
      },
      {
       "output_type": "stream",
       "stream": "stdout",
       "text": [
        "10\n",
        "(546, 1822) \n",
        "\n",
        "3197527"
       ]
      },
      {
       "output_type": "stream",
       "stream": "stdout",
       "text": [
        " 1 2 age :  "
       ]
      },
      {
       "output_type": "stream",
       "stream": "stdout",
       "text": [
        "10\n",
        "(546, 1823) \n",
        "\n",
        "656000"
       ]
      },
      {
       "output_type": "stream",
       "stream": "stdout",
       "text": [
        " 2 2 age :  "
       ]
      },
      {
       "output_type": "stream",
       "stream": "stdout",
       "text": [
        "27\n",
        "(547, 1823) \n",
        "\n",
        "5262558"
       ]
      },
      {
       "output_type": "stream",
       "stream": "stdout",
       "text": [
        " 1 2 age :  "
       ]
      },
      {
       "output_type": "stream",
       "stream": "stdout",
       "text": [
        "48\n",
        "(547, 1824) \n",
        "\n",
        "1280450"
       ]
      },
      {
       "output_type": "stream",
       "stream": "stdout",
       "text": [
        " 2 2 age :  "
       ]
      },
      {
       "output_type": "stream",
       "stream": "stdout",
       "text": [
        "25\n",
        "(548, 1824) \n",
        "\n",
        "3369976"
       ]
      },
      {
       "output_type": "stream",
       "stream": "stdout",
       "text": [
        " 2 2 age :  "
       ]
      },
      {
       "output_type": "stream",
       "stream": "stdout",
       "text": [
        "10\n",
        "(549, 1824) \n",
        "\n",
        "4722897"
       ]
      },
      {
       "output_type": "stream",
       "stream": "stdout",
       "text": [
        " 1 2 age :  "
       ]
      },
      {
       "output_type": "stream",
       "stream": "stdout",
       "text": [
        "32\n",
        "(549, 1825) \n",
        "\n",
        "1944496"
       ]
      },
      {
       "output_type": "stream",
       "stream": "stdout",
       "text": [
        " 1 2 age :  "
       ]
      },
      {
       "output_type": "stream",
       "stream": "stdout",
       "text": [
        "20\n",
        "(549, 1826) \n",
        "\n",
        "3429868"
       ]
      },
      {
       "output_type": "stream",
       "stream": "stdout",
       "text": [
        " 2 1 age :  "
       ]
      },
      {
       "output_type": "stream",
       "stream": "stdout",
       "text": [
        "38\n",
        "(549, 1827) \n",
        "\n",
        "1690875"
       ]
      },
      {
       "output_type": "stream",
       "stream": "stdout",
       "text": [
        " 2 2 age :  "
       ]
      },
      {
       "output_type": "stream",
       "stream": "stdout",
       "text": [
        "10\n",
        "(550, 1827) \n",
        "\n",
        "2164940"
       ]
      },
      {
       "output_type": "stream",
       "stream": "stdout",
       "text": [
        " 1 1 age :  "
       ]
      },
      {
       "output_type": "stream",
       "stream": "stdout",
       "text": [
        "10\n",
        "(551, 1827) \n",
        "\n",
        "1739294"
       ]
      },
      {
       "output_type": "stream",
       "stream": "stdout",
       "text": [
        " 2 1 age :  "
       ]
      },
      {
       "output_type": "stream",
       "stream": "stdout",
       "text": [
        "20\n",
        "(551, 1828) \n",
        "\n",
        "2285236"
       ]
      },
      {
       "output_type": "stream",
       "stream": "stdout",
       "text": [
        " 2 1 age :  "
       ]
      },
      {
       "output_type": "stream",
       "stream": "stdout",
       "text": [
        "32\n",
        "(551, 1829) \n",
        "\n",
        "1532855"
       ]
      },
      {
       "output_type": "stream",
       "stream": "stdout",
       "text": [
        " 1 2 age :  "
       ]
      },
      {
       "output_type": "stream",
       "stream": "stdout",
       "text": [
        "20\n",
        "(551, 1830) \n",
        "\n",
        "5485693"
       ]
      },
      {
       "output_type": "stream",
       "stream": "stdout",
       "text": [
        " 1 2 age :  "
       ]
      },
      {
       "output_type": "stream",
       "stream": "stdout",
       "text": [
        "34\n",
        "(551, 1831) \n",
        "\n",
        "2080227"
       ]
      },
      {
       "output_type": "stream",
       "stream": "stdout",
       "text": [
        " 1 2 age :  "
       ]
      },
      {
       "output_type": "stream",
       "stream": "stdout",
       "text": [
        "20\n",
        "(551, 1832) \n",
        "\n",
        "2775433"
       ]
      },
      {
       "output_type": "stream",
       "stream": "stdout",
       "text": [
        " 2 2 age :  "
       ]
      },
      {
       "output_type": "stream",
       "stream": "stdout",
       "text": [
        "20\n",
        "(552, 1832) \n",
        "\n",
        "3683444"
       ]
      },
      {
       "output_type": "stream",
       "stream": "stdout",
       "text": [
        " 2 2 age :  "
       ]
      },
      {
       "output_type": "stream",
       "stream": "stdout",
       "text": [
        "20\n",
        "(553, 1832) \n",
        "\n",
        "2200539"
       ]
      },
      {
       "output_type": "stream",
       "stream": "stdout",
       "text": [
        " 2 1 age :  "
       ]
      },
      {
       "output_type": "stream",
       "stream": "stdout",
       "text": [
        "30\n",
        "(553, 1833) \n",
        "\n",
        "1668686"
       ]
      },
      {
       "output_type": "stream",
       "stream": "stdout",
       "text": [
        " 2 2 age :  "
       ]
      },
      {
       "output_type": "stream",
       "stream": "stdout",
       "text": [
        "20\n",
        "(554, 1833) \n",
        "\n",
        "2048179"
       ]
      },
      {
       "output_type": "stream",
       "stream": "stdout",
       "text": [
        " 1 1 age :  "
       ]
      },
      {
       "output_type": "stream",
       "stream": "stdout",
       "text": [
        "10\n",
        "(555, 1833) \n",
        "\n",
        "2005315"
       ]
      },
      {
       "output_type": "stream",
       "stream": "stdout",
       "text": [
        " 1 2 age :  "
       ]
      },
      {
       "output_type": "stream",
       "stream": "stdout",
       "text": [
        "10\n",
        "(555, 1834) \n",
        "\n",
        "1839521"
       ]
      },
      {
       "output_type": "stream",
       "stream": "stdout",
       "text": [
        " 1 2 age :  "
       ]
      },
      {
       "output_type": "stream",
       "stream": "stdout",
       "text": [
        "10\n",
        "(555, 1835) \n",
        "\n",
        "2007424"
       ]
      },
      {
       "output_type": "stream",
       "stream": "stdout",
       "text": [
        " 2 1 age :  "
       ]
      },
      {
       "output_type": "stream",
       "stream": "stdout",
       "text": [
        "20\n",
        "(555, 1836) \n",
        "\n",
        "1953544"
       ]
      },
      {
       "output_type": "stream",
       "stream": "stdout",
       "text": [
        " 2 1 age :  "
       ]
      },
      {
       "output_type": "stream",
       "stream": "stdout",
       "text": [
        "10\n",
        "(555, 1837) \n",
        "\n",
        "1751204"
       ]
      },
      {
       "output_type": "stream",
       "stream": "stdout",
       "text": [
        " 1 2 age :  "
       ]
      },
      {
       "output_type": "stream",
       "stream": "stdout",
       "text": [
        "20\n",
        "(555, 1838) \n",
        "\n",
        "1865151"
       ]
      },
      {
       "output_type": "stream",
       "stream": "stdout",
       "text": [
        " 1 1 age :  "
       ]
      },
      {
       "output_type": "stream",
       "stream": "stdout",
       "text": [
        "10\n",
        "(556, 1838) \n",
        "\n",
        "1950121"
       ]
      },
      {
       "output_type": "stream",
       "stream": "stdout",
       "text": [
        " 2 2 age :  "
       ]
      },
      {
       "output_type": "stream",
       "stream": "stdout",
       "text": [
        "10\n",
        "(557, 1838) \n",
        "\n",
        "2136916"
       ]
      },
      {
       "output_type": "stream",
       "stream": "stdout",
       "text": [
        " 1 1 age :  "
       ]
      },
      {
       "output_type": "stream",
       "stream": "stdout",
       "text": [
        "10\n",
        "(558, 1838) \n",
        "\n",
        "2037010"
       ]
      },
      {
       "output_type": "stream",
       "stream": "stdout",
       "text": [
        " 1 1 age :  "
       ]
      },
      {
       "output_type": "stream",
       "stream": "stdout",
       "text": [
        "30\n",
        "(559, 1838) \n",
        "\n",
        "5078544"
       ]
      },
      {
       "output_type": "stream",
       "stream": "stdout",
       "text": [
        " 1 2 age :  "
       ]
      },
      {
       "output_type": "stream",
       "stream": "stdout",
       "text": [
        "10\n",
        "(559, 1839) \n",
        "\n",
        "3783325"
       ]
      },
      {
       "output_type": "stream",
       "stream": "stdout",
       "text": [
        " 1 2 age :  "
       ]
      },
      {
       "output_type": "stream",
       "stream": "stdout",
       "text": [
        "10\n",
        "(559, 1840) \n",
        "\n",
        "4230165"
       ]
      },
      {
       "output_type": "stream",
       "stream": "stdout",
       "text": [
        " 1 2 age :  "
       ]
      },
      {
       "output_type": "stream",
       "stream": "stdout",
       "text": [
        "20\n",
        "(559, 1841) \n",
        "\n",
        "3251033"
       ]
      },
      {
       "output_type": "stream",
       "stream": "stdout",
       "text": [
        " 1 2 age :  "
       ]
      },
      {
       "output_type": "stream",
       "stream": "stdout",
       "text": [
        "10\n",
        "(559, 1842) \n",
        "\n",
        "1964517"
       ]
      },
      {
       "output_type": "stream",
       "stream": "stdout",
       "text": [
        " 1 2 age :  "
       ]
      },
      {
       "output_type": "stream",
       "stream": "stdout",
       "text": [
        "20\n",
        "(559, 1843) \n",
        "\n",
        "3276253"
       ]
      },
      {
       "output_type": "stream",
       "stream": "stdout",
       "text": [
        " 2 2 age :  "
       ]
      },
      {
       "output_type": "stream",
       "stream": "stdout",
       "text": [
        "10\n",
        "(560, 1843) \n",
        "\n",
        "1618521"
       ]
      },
      {
       "output_type": "stream",
       "stream": "stdout",
       "text": [
        " 1 2 age :  "
       ]
      },
      {
       "output_type": "stream",
       "stream": "stdout",
       "text": [
        "10\n",
        "(560, 1844) \n",
        "\n",
        "5708887"
       ]
      },
      {
       "output_type": "stream",
       "stream": "stdout",
       "text": [
        " 1 2 age :  "
       ]
      },
      {
       "output_type": "stream",
       "stream": "stdout",
       "text": [
        "10\n",
        "(560, 1845) \n",
        "\n",
        "2696239"
       ]
      },
      {
       "output_type": "stream",
       "stream": "stdout",
       "text": [
        " 2 2 age :  "
       ]
      },
      {
       "output_type": "stream",
       "stream": "stdout",
       "text": [
        "30\n",
        "(561, 1845) \n",
        "\n",
        "1995388"
       ]
      },
      {
       "output_type": "stream",
       "stream": "stdout",
       "text": [
        " 1 2 age :  "
       ]
      },
      {
       "output_type": "stream",
       "stream": "stdout",
       "text": [
        "10\n",
        "(561, 1846) \n",
        "\n",
        "1668836"
       ]
      },
      {
       "output_type": "stream",
       "stream": "stdout",
       "text": [
        " 1 2 age :  "
       ]
      },
      {
       "output_type": "stream",
       "stream": "stdout",
       "text": [
        "10\n",
        "(561, 1847) \n",
        "\n",
        "3875319"
       ]
      },
      {
       "output_type": "stream",
       "stream": "stdout",
       "text": [
        " 1 2 age :  "
       ]
      },
      {
       "output_type": "stream",
       "stream": "stdout",
       "text": [
        "20\n",
        "(561, 1848) \n",
        "\n",
        "3232647"
       ]
      },
      {
       "output_type": "stream",
       "stream": "stdout",
       "text": [
        " 2 1 age :  "
       ]
      },
      {
       "output_type": "stream",
       "stream": "stdout",
       "text": [
        "10\n",
        "(561, 1849) \n",
        "\n",
        "3708857"
       ]
      },
      {
       "output_type": "stream",
       "stream": "stdout",
       "text": [
        " 1 2 age :  "
       ]
      },
      {
       "output_type": "stream",
       "stream": "stdout",
       "text": [
        "20\n",
        "(561, 1850) \n",
        "\n",
        "3712843"
       ]
      },
      {
       "output_type": "stream",
       "stream": "stdout",
       "text": [
        " 1 2 age :  "
       ]
      },
      {
       "output_type": "stream",
       "stream": "stdout",
       "text": [
        "30\n",
        "(561, 1851) \n",
        "\n",
        "4889754"
       ]
      },
      {
       "output_type": "stream",
       "stream": "stdout",
       "text": [
        " 1 2 age :  "
       ]
      },
      {
       "output_type": "stream",
       "stream": "stdout",
       "text": [
        "10\n",
        "(561, 1852) \n",
        "\n",
        "2369990"
       ]
      },
      {
       "output_type": "stream",
       "stream": "stdout",
       "text": [
        " 1 2 age :  "
       ]
      },
      {
       "output_type": "stream",
       "stream": "stdout",
       "text": [
        "30\n",
        "(561, 1853) \n",
        "\n",
        "4970600"
       ]
      },
      {
       "output_type": "stream",
       "stream": "stdout",
       "text": [
        " 1 2 age :  "
       ]
      },
      {
       "output_type": "stream",
       "stream": "stdout",
       "text": [
        "27\n",
        "(561, 1854) \n",
        "\n",
        "1814566"
       ]
      },
      {
       "output_type": "stream",
       "stream": "stdout",
       "text": [
        " 2 1 age :  "
       ]
      },
      {
       "output_type": "stream",
       "stream": "stdout",
       "text": [
        "22\n",
        "(561, 1855) \n",
        "\n",
        "4989346"
       ]
      },
      {
       "output_type": "stream",
       "stream": "stdout",
       "text": [
        " 1 2 age :  "
       ]
      },
      {
       "output_type": "stream",
       "stream": "stdout",
       "text": [
        "20\n",
        "(561, 1856) \n",
        "\n",
        "3270768"
       ]
      },
      {
       "output_type": "stream",
       "stream": "stdout",
       "text": [
        " 2 2 age :  "
       ]
      },
      {
       "output_type": "stream",
       "stream": "stdout",
       "text": [
        "10\n",
        "(562, 1856) \n",
        "\n",
        "3877675"
       ]
      },
      {
       "output_type": "stream",
       "stream": "stdout",
       "text": [
        " 2 1 age :  "
       ]
      },
      {
       "output_type": "stream",
       "stream": "stdout",
       "text": [
        "10\n",
        "(562, 1857) \n",
        "\n",
        "4340329"
       ]
      },
      {
       "output_type": "stream",
       "stream": "stdout",
       "text": [
        " 1 2 age :  "
       ]
      },
      {
       "output_type": "stream",
       "stream": "stdout",
       "text": [
        "10\n",
        "(562, 1858) \n",
        "\n",
        "1991393"
       ]
      },
      {
       "output_type": "stream",
       "stream": "stdout",
       "text": [
        " 2 1 age :  "
       ]
      },
      {
       "output_type": "stream",
       "stream": "stdout",
       "text": [
        "40\n",
        "(562, 1859) \n",
        "\n",
        "5268093"
       ]
      },
      {
       "output_type": "stream",
       "stream": "stdout",
       "text": [
        " 1 2 age :  "
       ]
      },
      {
       "output_type": "stream",
       "stream": "stdout",
       "text": [
        "10\n",
        "(562, 1860) \n",
        "\n",
        "1762172"
       ]
      },
      {
       "output_type": "stream",
       "stream": "stdout",
       "text": [
        " 1 2 age :  "
       ]
      },
      {
       "ename": "KeyboardInterrupt",
       "evalue": "",
       "output_type": "pyerr",
       "traceback": [
        "\u001b[0;31m---------------------------------------------------------------------------\u001b[0m\n\u001b[0;31mKeyboardInterrupt\u001b[0m                         Traceback (most recent call last)",
        "\u001b[0;32m<ipython-input-71-9f312c83c0cc>\u001b[0m in \u001b[0;36m<module>\u001b[0;34m()\u001b[0m\n\u001b[1;32m      3\u001b[0m \u001b[0;32mfor\u001b[0m \u001b[0mi\u001b[0m \u001b[0;32min\u001b[0m \u001b[0muser_gender\u001b[0m\u001b[0;34m[\u001b[0m\u001b[0;34m'user'\u001b[0m\u001b[0;34m]\u001b[0m\u001b[0;34m:\u001b[0m\u001b[0;34m\u001b[0m\u001b[0m\n\u001b[1;32m      4\u001b[0m     \u001b[0;31m#print i\u001b[0m\u001b[0;34m\u001b[0m\u001b[0;34m\u001b[0m\u001b[0m\n\u001b[0;32m----> 5\u001b[0;31m     \u001b[0mtrue\u001b[0m \u001b[0;34m=\u001b[0m \u001b[0mdf_temp\u001b[0m\u001b[0;34m[\u001b[0m\u001b[0mdf_temp\u001b[0m\u001b[0;34m[\u001b[0m\u001b[0;34m'user'\u001b[0m\u001b[0;34m]\u001b[0m\u001b[0;34m==\u001b[0m\u001b[0mi\u001b[0m\u001b[0;34m]\u001b[0m\u001b[0;34m[\u001b[0m\u001b[0;34m'gender'\u001b[0m\u001b[0;34m]\u001b[0m\u001b[0;34m\u001b[0m\u001b[0m\n\u001b[0m\u001b[1;32m      6\u001b[0m     \u001b[0;32mif\u001b[0m \u001b[0mtrue\u001b[0m\u001b[0;34m:\u001b[0m\u001b[0;34m\u001b[0m\u001b[0m\n\u001b[1;32m      7\u001b[0m         \u001b[0mtest\u001b[0m \u001b[0;34m=\u001b[0m \u001b[0muser_gender\u001b[0m\u001b[0;34m[\u001b[0m\u001b[0muser_gender\u001b[0m\u001b[0;34m[\u001b[0m\u001b[0;34m'user'\u001b[0m\u001b[0;34m]\u001b[0m\u001b[0;34m==\u001b[0m\u001b[0mi\u001b[0m\u001b[0;34m]\u001b[0m\u001b[0;34m[\u001b[0m\u001b[0;34m'gender'\u001b[0m\u001b[0;34m]\u001b[0m\u001b[0;34m\u001b[0m\u001b[0m\n",
        "\u001b[0;32m/Users/jeongmingi/anaconda/lib/python2.7/site-packages/pandas/core/series.pyc\u001b[0m in \u001b[0;36mwrapper\u001b[0;34m(self, other)\u001b[0m\n\u001b[1;32m    229\u001b[0m                 raise TypeError('Could not compare %s type with Series'\n\u001b[1;32m    230\u001b[0m                                 % type(other))\n\u001b[0;32m--> 231\u001b[0;31m             return Series(na_op(values, other),\n\u001b[0m\u001b[1;32m    232\u001b[0m                           index=self.index, name=self.name)\n\u001b[1;32m    233\u001b[0m     \u001b[0;32mreturn\u001b[0m \u001b[0mwrapper\u001b[0m\u001b[0;34m\u001b[0m\u001b[0m\n",
        "\u001b[0;32m/Users/jeongmingi/anaconda/lib/python2.7/site-packages/pandas/core/series.pyc\u001b[0m in \u001b[0;36mna_op\u001b[0;34m(x, y)\u001b[0m\n\u001b[1;32m    195\u001b[0m                     \u001b[0mresult\u001b[0m \u001b[0;34m=\u001b[0m \u001b[0mlib\u001b[0m\u001b[0;34m.\u001b[0m\u001b[0mvec_compare\u001b[0m\u001b[0;34m(\u001b[0m\u001b[0mx\u001b[0m\u001b[0;34m,\u001b[0m \u001b[0my\u001b[0m\u001b[0;34m,\u001b[0m \u001b[0mop\u001b[0m\u001b[0;34m)\u001b[0m\u001b[0;34m\u001b[0m\u001b[0m\n\u001b[1;32m    196\u001b[0m             \u001b[0;32melse\u001b[0m\u001b[0;34m:\u001b[0m\u001b[0;34m\u001b[0m\u001b[0m\n\u001b[0;32m--> 197\u001b[0;31m                 \u001b[0mresult\u001b[0m \u001b[0;34m=\u001b[0m \u001b[0mlib\u001b[0m\u001b[0;34m.\u001b[0m\u001b[0mscalar_compare\u001b[0m\u001b[0;34m(\u001b[0m\u001b[0mx\u001b[0m\u001b[0;34m,\u001b[0m \u001b[0my\u001b[0m\u001b[0;34m,\u001b[0m \u001b[0mop\u001b[0m\u001b[0;34m)\u001b[0m\u001b[0;34m\u001b[0m\u001b[0m\n\u001b[0m\u001b[1;32m    198\u001b[0m         \u001b[0;32melse\u001b[0m\u001b[0;34m:\u001b[0m\u001b[0;34m\u001b[0m\u001b[0m\n\u001b[1;32m    199\u001b[0m             \u001b[0mresult\u001b[0m \u001b[0;34m=\u001b[0m \u001b[0mop\u001b[0m\u001b[0;34m(\u001b[0m\u001b[0mx\u001b[0m\u001b[0;34m,\u001b[0m \u001b[0my\u001b[0m\u001b[0;34m)\u001b[0m\u001b[0;34m\u001b[0m\u001b[0m\n",
        "\u001b[0;31mKeyboardInterrupt\u001b[0m: "
       ]
      },
      {
       "output_type": "stream",
       "stream": "stdout",
       "text": [
        "20\n",
        "(562, 1861) \n",
        "\n"
       ]
      }
     ],
     "prompt_number": 71
    },
    {
     "cell_type": "code",
     "collapsed": false,
     "input": [
      "for i, user in enumerate(user_gender['user'][:10]):\n",
      "    print user\n",
      "    #print user_gender[i:i+1]['gender']\n",
      "    if user == df_temp['user'].any():\n",
      "        print user\n",
      "        gender = df_temp.ix[(df_temp['user']== user), 'gender']\n",
      "        print gender\n",
      "        #user_gender[i:i+1]['gender']\n",
      "    else:\n",
      "        #print \"NAN\"\n",
      "        pass\n",
      "                                                                     "
     ],
     "language": "python",
     "metadata": {},
     "outputs": [
      {
       "output_type": "stream",
       "stream": "stdout",
       "text": [
        "2007318\n",
        "5188098\n",
        "5207032\n",
        "5183947\n",
        "1758743\n",
        "5062327\n",
        "3046239\n",
        "2382088\n",
        "1138375\n",
        "3246192\n"
       ]
      }
     ],
     "prompt_number": 14
    },
    {
     "cell_type": "code",
     "collapsed": false,
     "input": [],
     "language": "python",
     "metadata": {},
     "outputs": []
    },
    {
     "cell_type": "code",
     "collapsed": false,
     "input": [
      "male = user_gender.ix[user_gender['gender'] == 1]\n",
      "female = user_gender.ix[user_gender['gender'] == 2]"
     ],
     "language": "python",
     "metadata": {},
     "outputs": []
    },
    {
     "cell_type": "code",
     "collapsed": false,
     "input": [
      "male.count()"
     ],
     "language": "python",
     "metadata": {},
     "outputs": [
      {
       "metadata": {},
       "output_type": "pyout",
       "prompt_number": 5,
       "text": [
        "gender    64996\n",
        "user      64996\n",
        "dtype: int64"
       ]
      }
     ],
     "prompt_number": 5
    },
    {
     "cell_type": "code",
     "collapsed": false,
     "input": [
      "female.count()"
     ],
     "language": "python",
     "metadata": {},
     "outputs": [
      {
       "metadata": {},
       "output_type": "pyout",
       "prompt_number": 6,
       "text": [
        "gender    265604\n",
        "user      265604\n",
        "dtype: int64"
       ]
      }
     ],
     "prompt_number": 6
    },
    {
     "cell_type": "code",
     "collapsed": false,
     "input": [
      "user_gender.shape, uapp.shape, uapp.keys()"
     ],
     "language": "python",
     "metadata": {},
     "outputs": [
      {
       "metadata": {},
       "output_type": "pyout",
       "prompt_number": 7,
       "text": [
        "((330600, 2),\n",
        " (10616409, 6),\n",
        " Index([create_date, update_date, user_id, entity_id, usage, is_deleted], dtype=object))"
       ]
      }
     ],
     "prompt_number": 7
    },
    {
     "cell_type": "code",
     "collapsed": false,
     "input": [
      "apps.shape, apps.keys()"
     ],
     "language": "python",
     "metadata": {},
     "outputs": [
      {
       "metadata": {},
       "output_type": "pyout",
       "prompt_number": 8,
       "text": [
        "((265621, 19),\n",
        " Index([id, date, create_date, update_date, genre, cate, score, name, price, developer, intro, size, ver, company, code, app_cate, company_id, download_num, rate_num_all], dtype=object))"
       ]
      }
     ],
     "prompt_number": 8
    },
    {
     "cell_type": "code",
     "collapsed": false,
     "input": [
      "print '; '.join(apps.genre.unique())"
     ],
     "language": "python",
     "metadata": {},
     "outputs": [
      {
       "output_type": "stream",
       "stream": "stdout",
       "text": [
        "\uac8c\uc784; \uc571; \uad50\ud1b5; \ub3c4\uad6c; \uc5d4\ud130\ud14c\uc778\uba3c\ud2b8; \ub274\uc2a4 \ubc0f \uc7a1\uc9c0; \uae08\uc735; \uc74c\uc545 \ubc0f \uc624\ub514\uc624; \ub77c\uc774\ud504\uc2a4\ud0c0\uc77c; \ub450\ub1cc\uac8c\uc784 \ubc0f \ud37c\uc990; \ubbf8\ub514\uc5b4 \ubc0f \ub3d9\uc601\uc0c1; \ub370\ucf54\ub808\uc774\uc158; \ucee4\ubba4\ub2c8\ucf00\uc774\uc158; \uac74\uac15 \ubc0f \uc6b4\ub3d9; \uc0ac\uc9c4; \uce90\uc8fc\uc5bc \uac8c\uc784; \uad50\uc721; \uc1fc\ud551; \ube44\uc988\ub2c8\uc2a4; \uc2a4\ud3ec\uce20; \ub3c4\uc11c \ubc0f \ucc38\uace0\uc790\ub8cc; \uc18c\uc15c \ucf58\ud150\uce20; \uc5ec\ud589 \ubc0f \uc9c0\uc5ed\uc815\ubcf4; \uc758\ub8cc; \uce74\ub4dc\uac8c\uc784; \uc0dd\uc0b0\uc131; \uc544\ucf00\uc774\ub4dc \uac8c\uc784; \ub0a0\uc528; \ub77c\uc774\ube0c\ub7ec\ub9ac \ubc0f \ub370\ubaa8; \uc2a4\ud3ec\uce20 \uac8c\uc784; \ub9cc\ud654; ; \uc790\ub3d9\ucc28 \uacbd\uc8fc; Personalization; Music & Audio; Sports; Books & Reference; Productivity; Weather; Lifestyle\n"
       ]
      }
     ],
     "prompt_number": 9
    },
    {
     "cell_type": "code",
     "collapsed": false,
     "input": [
      "sports = apps.ix[(apps['genre'] == '\uc1fc\ud551')]"
     ],
     "language": "python",
     "metadata": {},
     "outputs": [],
     "prompt_number": 142
    },
    {
     "cell_type": "code",
     "collapsed": false,
     "input": [
      "user_gender.keys()"
     ],
     "language": "python",
     "metadata": {},
     "outputs": [
      {
       "metadata": {},
       "output_type": "pyout",
       "prompt_number": 11,
       "text": [
        "Index([gender, user], dtype=object)"
       ]
      }
     ],
     "prompt_number": 11
    },
    {
     "cell_type": "markdown",
     "metadata": {},
     "source": [
      "#### > print apps[apps['id'] == 1649075].name"
     ]
    },
    {
     "cell_type": "code",
     "collapsed": false,
     "input": [
      "col = np.array(sports.id[:10])\n",
      "names = []\n",
      "for i in col:\n",
      "    names.append(apps[apps['id'] == i].name)\n"
     ],
     "language": "python",
     "metadata": {},
     "outputs": [],
     "prompt_number": 155
    },
    {
     "cell_type": "code",
     "collapsed": false,
     "input": [
      "print user_gender[user_gender['user']==]\n",
      "#73879 in user_gender['user']"
     ],
     "language": "python",
     "metadata": {},
     "outputs": [
      {
       "output_type": "stream",
       "stream": "stdout",
       "text": [
        "Empty DataFrame\n",
        "Columns: [gender, user]\n",
        "Index: []\n"
       ]
      }
     ],
     "prompt_number": 14
    },
    {
     "cell_type": "code",
     "collapsed": false,
     "input": [
      "1637804 in uapp['entity_id']"
     ],
     "language": "python",
     "metadata": {},
     "outputs": [
      {
       "metadata": {},
       "output_type": "pyout",
       "prompt_number": 150,
       "text": [
        "True"
       ]
      }
     ],
     "prompt_number": 150
    },
    {
     "cell_type": "code",
     "collapsed": false,
     "input": [
      "col = 1692925, 1637804, 1615189, 1472114, 1493062, 1600627"
     ],
     "language": "python",
     "metadata": {},
     "outputs": []
    },
    {
     "cell_type": "code",
     "collapsed": false,
     "input": [
      "import pandas as pd\n",
      "labels = np.array(['male', 'female'])\n",
      "for_ = pd.DataFrame(index = col , columns=labels)\n",
      "#for_.fi = 0\n",
      "\n",
      "#for_.ix[1649075]\n"
     ],
     "language": "python",
     "metadata": {},
     "outputs": [],
     "prompt_number": 273
    },
    {
     "cell_type": "code",
     "collapsed": false,
     "input": [
      "for i, e_id in enumerate(col):\n",
      "    if(e_id in uapp.entity_id):\n",
      "        users = uapp.ix[(uapp['entity_id'] == e_id), 'user_id']\n",
      "        #print e_id\n",
      "        gender = []\n",
      "        c_male = 0\n",
      "        c_female = 0\n",
      "        for user in users:\n",
      "            if(user_gender.ix[(user_gender['user'] == user)].gender == 1):\n",
      "                c_male += 1\n",
      "            elif(user_gender.ix[(user_gender['user'] == user)].gender == 2):\n",
      "                c_female += 1\n",
      "            else:\n",
      "                print 'error...'\n",
      "        #output.append([e_id, gender])\n",
      "        #print c_male, c_female\n",
      "        #for_.iloc[i, 1] = c_male\n",
      "        #for_.iloc[i, 0] = c_female\n",
      "        for_.ix[e_id, 1] = c_male\n",
      "        for_.ix[e_id, 0] = c_female\n",
      "    else:\n",
      "        pass"
     ],
     "language": "python",
     "metadata": {},
     "outputs": [],
     "prompt_number": 274
    },
    {
     "cell_type": "code",
     "collapsed": false,
     "input": [
      "for_[:10]"
     ],
     "language": "python",
     "metadata": {},
     "outputs": [
      {
       "html": [
        "<div style=\"max-height:1000px;max-width:1500px;overflow:auto;\">\n",
        "<table border=\"1\" class=\"dataframe\">\n",
        "  <thead>\n",
        "    <tr style=\"text-align: right;\">\n",
        "      <th></th>\n",
        "      <th>male</th>\n",
        "      <th>female</th>\n",
        "    </tr>\n",
        "  </thead>\n",
        "  <tbody>\n",
        "    <tr>\n",
        "      <th>1692925</th>\n",
        "      <td>  119</td>\n",
        "      <td>   16</td>\n",
        "    </tr>\n",
        "    <tr>\n",
        "      <th>1637804</th>\n",
        "      <td>  789</td>\n",
        "      <td>  201</td>\n",
        "    </tr>\n",
        "    <tr>\n",
        "      <th>1615189</th>\n",
        "      <td>  105</td>\n",
        "      <td>   66</td>\n",
        "    </tr>\n",
        "    <tr>\n",
        "      <th>1472114</th>\n",
        "      <td>   47</td>\n",
        "      <td>   13</td>\n",
        "    </tr>\n",
        "    <tr>\n",
        "      <th>1493062</th>\n",
        "      <td> 1164</td>\n",
        "      <td> 2084</td>\n",
        "    </tr>\n",
        "    <tr>\n",
        "      <th>1600627</th>\n",
        "      <td>  266</td>\n",
        "      <td>  416</td>\n",
        "    </tr>\n",
        "  </tbody>\n",
        "</table>\n",
        "</div>"
       ],
       "metadata": {},
       "output_type": "pyout",
       "prompt_number": 275,
       "text": [
        "         male female\n",
        "1692925   119     16\n",
        "1637804   789    201\n",
        "1615189   105     66\n",
        "1472114    47     13\n",
        "1493062  1164   2084\n",
        "1600627   266    416"
       ]
      }
     ],
     "prompt_number": 275
    },
    {
     "cell_type": "code",
     "collapsed": false,
     "input": [
      "import pandas as pd\n",
      "pd.DataFrame.loc??"
     ],
     "language": "python",
     "metadata": {},
     "outputs": [],
     "prompt_number": 254
    },
    {
     "cell_type": "code",
     "collapsed": false,
     "input": [
      "for_[:10]"
     ],
     "language": "python",
     "metadata": {},
     "outputs": [
      {
       "html": [
        "<div style=\"max-height:1000px;max-width:1500px;overflow:auto;\">\n",
        "<table border=\"1\" class=\"dataframe\">\n",
        "  <thead>\n",
        "    <tr style=\"text-align: right;\">\n",
        "      <th></th>\n",
        "      <th>male</th>\n",
        "      <th>female</th>\n",
        "    </tr>\n",
        "  </thead>\n",
        "  <tbody>\n",
        "    <tr>\n",
        "      <th>1637804</th>\n",
        "      <td>  789</td>\n",
        "      <td>  201</td>\n",
        "    </tr>\n",
        "    <tr>\n",
        "      <th>1615189</th>\n",
        "      <td>  105</td>\n",
        "      <td>   66</td>\n",
        "    </tr>\n",
        "    <tr>\n",
        "      <th>1472114</th>\n",
        "      <td>   47</td>\n",
        "      <td>   13</td>\n",
        "    </tr>\n",
        "    <tr>\n",
        "      <th>1493062</th>\n",
        "      <td> 1164</td>\n",
        "      <td> 2084</td>\n",
        "    </tr>\n",
        "    <tr>\n",
        "      <th>1600627</th>\n",
        "      <td>  266</td>\n",
        "      <td>  416</td>\n",
        "    </tr>\n",
        "  </tbody>\n",
        "</table>\n",
        "</div>"
       ],
       "metadata": {},
       "output_type": "pyout",
       "prompt_number": 180,
       "text": [
        "         male female\n",
        "1637804   789    201\n",
        "1615189   105     66\n",
        "1472114    47     13\n",
        "1493062  1164   2084\n",
        "1600627   266    416"
       ]
      }
     ],
     "prompt_number": 180
    },
    {
     "cell_type": "code",
     "collapsed": false,
     "input": [
      "print apps[apps['id'] == 1615189].name\n",
      "print apps[apps['id'] == 1637804].name\n",
      "print apps[apps['id'] == 1493062].name\n",
      "print apps[apps['id'] == 1600627].name\n"
     ],
     "language": "python",
     "metadata": {},
     "outputs": [
      {
       "output_type": "stream",
       "stream": "stdout",
       "text": [
        "564    \ub9e4\ub2ec 10\ub9cc\uc6d0 \uc808\uc57d\ud558\uae30 - \uad6d\ubbfc\ucfe0\ud3f0\n",
        "Name: name, dtype: object\n",
        "67523    Bad Piggies HD\n",
        "Name: name, dtype: object\n",
        "102554    [\ubb34\ub8cc] \ud55c\uac8c\uc784 \uc0ac\ucc9c\uc131\n",
        "Name: name, dtype: object\n",
        "255740    \ud328\uc158\ucf54\ub514 \ub9cc\ub4e4\uae30 - \ucf54\ub514\ubd81\n",
        "Name: name, dtype: object\n"
       ]
      }
     ],
     "prompt_number": 178
    },
    {
     "cell_type": "code",
     "collapsed": false,
     "input": [
      "output[0]"
     ],
     "language": "python",
     "metadata": {},
     "outputs": [
      {
       "ename": "IndexError",
       "evalue": "list index out of range",
       "output_type": "pyerr",
       "traceback": [
        "\u001b[0;31m---------------------------------------------------------------------------\u001b[0m\n\u001b[0;31mIndexError\u001b[0m                                Traceback (most recent call last)",
        "\u001b[0;32m<ipython-input-108-070f2f5eeacb>\u001b[0m in \u001b[0;36m<module>\u001b[0;34m()\u001b[0m\n\u001b[0;32m----> 1\u001b[0;31m \u001b[0moutput\u001b[0m\u001b[0;34m[\u001b[0m\u001b[0;36m0\u001b[0m\u001b[0;34m]\u001b[0m\u001b[0;34m\u001b[0m\u001b[0m\n\u001b[0m",
        "\u001b[0;31mIndexError\u001b[0m: list index out of range"
       ]
      }
     ],
     "prompt_number": 108
    },
    {
     "cell_type": "code",
     "collapsed": false,
     "input": [
      "%pylab inline\n",
      "for_[:-2].plot(kind='barh', stacked =True)"
     ],
     "language": "python",
     "metadata": {},
     "outputs": [
      {
       "ename": "NameError",
       "evalue": "name 'for_' is not defined",
       "output_type": "pyerr",
       "traceback": [
        "\u001b[0;31m---------------------------------------------------------------------------\u001b[0m\n\u001b[0;31mNameError\u001b[0m                                 Traceback (most recent call last)",
        "\u001b[0;32m<ipython-input-4-e35fed7ca54e>\u001b[0m in \u001b[0;36m<module>\u001b[0;34m()\u001b[0m\n\u001b[1;32m      1\u001b[0m \u001b[0mget_ipython\u001b[0m\u001b[0;34m(\u001b[0m\u001b[0;34m)\u001b[0m\u001b[0;34m.\u001b[0m\u001b[0mmagic\u001b[0m\u001b[0;34m(\u001b[0m\u001b[0;34mu'pylab inline'\u001b[0m\u001b[0;34m)\u001b[0m\u001b[0;34m\u001b[0m\u001b[0m\n\u001b[0;32m----> 2\u001b[0;31m \u001b[0mfor_\u001b[0m\u001b[0;34m[\u001b[0m\u001b[0;34m:\u001b[0m\u001b[0;34m-\u001b[0m\u001b[0;36m2\u001b[0m\u001b[0;34m]\u001b[0m\u001b[0;34m.\u001b[0m\u001b[0mplot\u001b[0m\u001b[0;34m(\u001b[0m\u001b[0mkind\u001b[0m\u001b[0;34m=\u001b[0m\u001b[0;34m'barh'\u001b[0m\u001b[0;34m,\u001b[0m \u001b[0mstacked\u001b[0m \u001b[0;34m=\u001b[0m\u001b[0mTrue\u001b[0m\u001b[0;34m)\u001b[0m\u001b[0;34m\u001b[0m\u001b[0m\n\u001b[0m",
        "\u001b[0;31mNameError\u001b[0m: name 'for_' is not defined"
       ]
      },
      {
       "output_type": "stream",
       "stream": "stdout",
       "text": [
        "Populating the interactive namespace from numpy and matplotlib\n"
       ]
      }
     ],
     "prompt_number": 4
    },
    {
     "cell_type": "code",
     "collapsed": false,
     "input": [
      "for_sum = for_.sum(axis=1)\n",
      "for_sum"
     ],
     "language": "python",
     "metadata": {},
     "outputs": [
      {
       "metadata": {},
       "output_type": "pyout",
       "prompt_number": 22,
       "text": [
        "1649075    5\n",
        "1688967    5\n",
        "1639463    5\n",
        "1558765    5\n",
        "1599492    5\n",
        "dtype: int64"
       ]
      }
     ],
     "prompt_number": 22
    },
    {
     "cell_type": "code",
     "collapsed": false,
     "input": [
      "normed_sums = for_.div(for_.sum(axis=1), axis =0)\n",
      "normed_sums"
     ],
     "language": "python",
     "metadata": {},
     "outputs": [
      {
       "html": [
        "<div style=\"max-height:1000px;max-width:1500px;overflow:auto;\">\n",
        "<table border=\"1\" class=\"dataframe\">\n",
        "  <thead>\n",
        "    <tr style=\"text-align: right;\">\n",
        "      <th></th>\n",
        "      <th>male</th>\n",
        "      <th>female</th>\n",
        "    </tr>\n",
        "  </thead>\n",
        "  <tbody>\n",
        "    <tr>\n",
        "      <th>1649075</th>\n",
        "      <td> 0</td>\n",
        "      <td> 0</td>\n",
        "    </tr>\n",
        "    <tr>\n",
        "      <th>1688967</th>\n",
        "      <td> 0</td>\n",
        "      <td> 0</td>\n",
        "    </tr>\n",
        "    <tr>\n",
        "      <th>1639463</th>\n",
        "      <td> 0</td>\n",
        "      <td> 0</td>\n",
        "    </tr>\n",
        "    <tr>\n",
        "      <th>1558765</th>\n",
        "      <td> 0</td>\n",
        "      <td> 0</td>\n",
        "    </tr>\n",
        "    <tr>\n",
        "      <th>1599492</th>\n",
        "      <td> 0</td>\n",
        "      <td> 0</td>\n",
        "    </tr>\n",
        "  </tbody>\n",
        "</table>\n",
        "</div>"
       ],
       "metadata": {},
       "output_type": "pyout",
       "prompt_number": 23,
       "text": [
        "         male  female\n",
        "1649075     0       0\n",
        "1688967     0       0\n",
        "1639463     0       0\n",
        "1558765     0       0\n",
        "1599492     0       0"
       ]
      }
     ],
     "prompt_number": 23
    },
    {
     "cell_type": "markdown",
     "metadata": {},
     "source": [
      "#To view (ch09. using ...)"
     ]
    },
    {
     "cell_type": "code",
     "collapsed": false,
     "input": [
      "def get_age_id(group):\n",
      "    for e_id in sports.id[:5]:\n",
      "    if(e_id in uapp.entity_id):\n",
      "        users = uapp.ix[(uapp['entity_id'] == e_id), 'user_id']\n",
      "        print e_id\n",
      "        gender = []\n",
      "        for user in users:\n",
      "            gender.append(user_gender.ix[(user_gender['user'] == user), 'gender'])\n",
      "        print gender\n",
      "    else:\n",
      "        pass"
     ],
     "language": "python",
     "metadata": {},
     "outputs": [
      {
       "ename": "IndentationError",
       "evalue": "expected an indented block (<ipython-input-24-234c43e8e77b>, line 3)",
       "output_type": "pyerr",
       "traceback": [
        "\u001b[0;36m  File \u001b[0;32m\"<ipython-input-24-234c43e8e77b>\"\u001b[0;36m, line \u001b[0;32m3\u001b[0m\n\u001b[0;31m    if(e_id in uapp.entity_id):\u001b[0m\n\u001b[0m     ^\u001b[0m\n\u001b[0;31mIndentationError\u001b[0m\u001b[0;31m:\u001b[0m expected an indented block\n"
       ]
      }
     ],
     "prompt_number": 24
    },
    {
     "cell_type": "code",
     "collapsed": false,
     "input": [
      "grouped = apps.groupby(['id', 'genre'])"
     ],
     "language": "python",
     "metadata": {},
     "outputs": []
    },
    {
     "cell_type": "code",
     "collapsed": false,
     "input": [
      "print grouped.id.groups.keys()"
     ],
     "language": "python",
     "metadata": {},
     "outputs": []
    },
    {
     "cell_type": "code",
     "collapsed": false,
     "input": [],
     "language": "python",
     "metadata": {},
     "outputs": []
    },
    {
     "cell_type": "code",
     "collapsed": false,
     "input": [
      "count_male = 0;\n",
      "    count_female = 0;\n",
      "    for i in gender:\n",
      "        if i==1:\n",
      "            count_male = count_male+1\n",
      "        elif i==2:\n",
      "            count_female = count_female+1\n",
      "    print (count_male, count_female)"
     ],
     "language": "python",
     "metadata": {},
     "outputs": []
    }
   ],
   "metadata": {}
  }
 ]
}