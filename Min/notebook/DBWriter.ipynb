{
 "metadata": {
  "name": "DBWriter"
 },
 "nbformat": 3,
 "nbformat_minor": 0,
 "worksheets": [
  {
   "cells": [
    {
     "cell_type": "code",
     "collapsed": false,
     "input": [
      "%pylab inline\n",
      "from IPython.core.display import HTML\n",
      "from IPython.core.display import clear_output\n",
      "\n",
      "import numpy as np\n",
      "import pandas as pd\n",
      "from pandas import DataFrame, Series"
     ],
     "language": "python",
     "metadata": {},
     "outputs": [
      {
       "output_type": "stream",
       "stream": "stdout",
       "text": [
        "\n",
        "Welcome to pylab, a matplotlib-based Python environment [backend: module://IPython.zmq.pylab.backend_inline].\n",
        "For more information, type 'help(pylab)'.\n"
       ]
      }
     ],
     "prompt_number": 1
    },
    {
     "cell_type": "code",
     "collapsed": false,
     "input": [
      "import re\n",
      "import requests\n",
      "from scrapy.selector import HtmlXPathSelector\n",
      "\n",
      "def getNumberOfGoogleSearchResult(q):\n",
      "    \"\"\"\n",
      "    parameter:\n",
      "        q : String for search.\n",
      "    \"\"\"\n",
      "    q='+'.join(q.split())\n",
      "    xpath = \"\"\"//*[@id=\"resultStats\"]/text()\"\"\"\n",
      "    html = requests.get(\"http://www.google.co.kr/search?q=\"+q).text\n",
      "    hx =HtmlXPathSelector(text=html)\n",
      "    items = hx.select(xpath)\n",
      "    return int(''.join(re.findall(r'\\d+', items.extract()[0])))"
     ],
     "language": "python",
     "metadata": {},
     "outputs": [],
     "prompt_number": 2
    },
    {
     "cell_type": "markdown",
     "metadata": {},
     "source": [
      "\uad6c\uae00 \uac80\uc0c9\uc744 \uc704\ud55c \ud568\uc218.  "
     ]
    },
    {
     "cell_type": "code",
     "collapsed": false,
     "input": [
      "import re\n",
      "import requests\n",
      "from scrapy.selector import HtmlXPathSelector\n",
      "\n",
      "db_server_intra_url = \"http://172.16.100.70:8080/myJSP/DataBaseInsert\"\n",
      "db_server_public_url = \"http://61.43.139.25:8080/myJSP/DataBaseInsert\"\n",
      "db_server_localhost = \"http://127.0.0.1:8080/myJSP/DataBaseInsert\"\n",
      "\n",
      "def sendResultToDBServer(url, app_id, search_num):\n",
      "    xpath=\"\"\"/html/body/h1/text()\"\"\"\n",
      "    html = requests.get(\"%s?method=insert&app_id=%s&search_num=%d\"%(url,app_id,search_num)).text\n",
      "    clear_output()\n",
      "    display(HTML(html))\n",
      "    hx =HtmlXPathSelector(text=html)\n",
      "    items = hx.select(xpath)\n",
      "    return items.extract()[0]"
     ],
     "language": "python",
     "metadata": {},
     "outputs": [],
     "prompt_number": 3
    },
    {
     "cell_type": "markdown",
     "metadata": {},
     "source": [
      "\ub9cc\ub4e4\uc5b4\ub454 \uc544\ud30c\uce58-\ud1b0\ucea3-MySQL\uc11c\ubc84\uc5d0 insert \ucffc\ub9ac\ub97c GET\uc73c\ub85c \ubd80\ud0c1\ud558\ub294 \ud568\uc218 \ucf54\ub4dc  "
     ]
    },
    {
     "cell_type": "code",
     "collapsed": false,
     "input": [
      "app_info = DataFrame.load('data/app_info2.df').head(500)"
     ],
     "language": "python",
     "metadata": {},
     "outputs": [],
     "prompt_number": 16
    },
    {
     "cell_type": "markdown",
     "metadata": {},
     "source": [
      "DataFrame \ub85c\ub4dc."
     ]
    },
    {
     "cell_type": "heading",
     "level": 1,
     "metadata": {},
     "source": [
      "* \uc8fc\uc758 * \ud568\ubd80\ub85c \ub3cc\ub9ac\uc9c0 \ub9c8\uc2dc\uc624."
     ]
    },
    {
     "cell_type": "code",
     "collapsed": false,
     "input": [
      "for index,content in app_info.iterrows():\n",
      "    app_id = content['id']\n",
      "    app_name = content['name']\n",
      "    if sendResultToDBServer(db_server_intra_url,app_id,getNumberOfGoogleSearchResult(app_name))!=\"INSERT:OK\":\n",
      "        break;"
     ],
     "language": "python",
     "metadata": {},
     "outputs": []
    }
   ],
   "metadata": {}
  }
 ]
}