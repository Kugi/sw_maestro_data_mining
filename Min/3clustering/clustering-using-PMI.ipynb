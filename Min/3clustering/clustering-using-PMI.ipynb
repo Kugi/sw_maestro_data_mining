{
 "metadata": {
  "name": ""
 },
 "nbformat": 3,
 "nbformat_minor": 0,
 "worksheets": [
  {
   "cells": [
    {
     "cell_type": "code",
     "collapsed": false,
     "input": [
      "%pylab\n",
      "from pandas import DataFrame, Series\n",
      "import pandas as pd\n",
      "import pandas.io.sql as sql\n",
      "import numpy as np\n",
      "import matplotlib.pyplot as plt\n",
      "from IPython.core.display import Image"
     ],
     "language": "python",
     "metadata": {},
     "outputs": [
      {
       "output_type": "stream",
       "stream": "stdout",
       "text": [
        "\n",
        "Welcome to pylab, a matplotlib-based Python environment [backend: WXAgg].\n",
        "For more information, type 'help(pylab)'.\n"
       ]
      }
     ],
     "prompt_number": 3
    },
    {
     "cell_type": "heading",
     "level": 3,
     "metadata": {},
     "source": [
      "db"
     ]
    },
    {
     "cell_type": "code",
     "collapsed": false,
     "input": [
      "from datetime import datetime\n",
      "def _get_date():\n",
      "    return datetime.datetime.now()\n",
      "from sqlalchemy import *\n",
      "db = create_engine('postgresql://soma:maestro@)!#@soma1.buzzni.com/application')\n",
      "from sqlalchemy.orm import sessionmaker\n",
      "from sqlalchemy.ext.declarative import declarative_base\n",
      "BaseObj = declarative_base()\n",
      "        \n",
      "db.echo = False  # Try changing this to True and see what happens\n",
      "metadata = MetaData(db)\n",
      "\n",
      "''' table create '''\n",
      "class Cache(BaseObj):\n",
      "    __tablename__ = 'query_freq'\n",
      "    query = Column('query', String(100), primary_key=True)\n",
      "    num = Column('num', Integer)\n",
      "    update_date = Column('update_date', Date(),default=datetime.now(), onupdate=datetime.now())\n",
      "    def __init__(self,query,num):\n",
      "        self.query=query\n",
      "        self.num=num\n",
      "\n",
      "        \n",
      "def create_table():\n",
      "    if db.dialect.has_table(db.connect(), \"query_freq\"):\n",
      "        db.execute(\"drop table query_freq;\")\n",
      "    # \ud14c\uc774\ube14 \uc0c8\ub85c \ub9cc\ub4e4\ub54c\ub9cc \uc4f0\uc138\uc694.\n",
      "    metadata = Cache.metadata\n",
      "    metadata.create_all(db)\n",
      "\n",
      "\n",
      "    \n",
      "Session = sessionmaker(bind=db)\n",
      "''' data insert '''\n",
      "s = Session()\n",
      "#s.add(Cache(**{'query': 'word0', 'num': 42}))\n",
      "#s.add(Cache(**{'query': 'word1', 'num': 43}))\n",
      "#s.add(Cache(**{'query': 'word2', 'num': 44}))\n",
      "#s.commit()\n",
      "\n",
      "\n",
      "def query_count(query):\n",
      "    s = Session()\n",
      "    result = s.query(Cache).filter(Cache.query==query)\n",
      "    #s.flush()\n",
      "    s.close_all()\n",
      "    if result.count()>0:\n",
      "        return result[0].num\n",
      "    return 0\n",
      "\n",
      "def set_query_count(query,count):\n",
      "    s = Session()\n",
      "    result = s.query(Cache).filter(Cache.query==query)\n",
      "    if result.count()>0:\n",
      "        result[0].num = count\n",
      "    else:\n",
      "        s.add(Cache(query,count))\n",
      "    s.commit()\n",
      "    s.close_all()\n",
      "    \n",
      "''' test '''\n",
      "set_query_count('word0',42)\n",
      "set_query_count('word1',43)\n",
      "set_query_count('word2',44)\n",
      "\n",
      "print query_count('word0')\n",
      "print query_count('word10')\n",
      "set_query_count('word10',100)\n",
      "print query_count('word10')"
     ],
     "language": "python",
     "metadata": {},
     "outputs": [
      {
       "output_type": "stream",
       "stream": "stdout",
       "text": [
        "42\n",
        "100\n",
        "100"
       ]
      },
      {
       "output_type": "stream",
       "stream": "stdout",
       "text": [
        "\n"
       ]
      }
     ],
     "prompt_number": 4
    },
    {
     "cell_type": "code",
     "collapsed": false,
     "input": [
      "#assign to Pack\n",
      "\n",
      "def createPMIDataFrame(appNameList, keywordList):\n",
      "    pmi_frame = pd.DataFrame(data=0.0, index=appNameList, columns=keywordList)\n",
      "    return pmi_frame\n",
      "\n",
      "def setPMI(dstFrame, appName, keyword, pmi):\n",
      "    dstFrame.loc[appName, keyword] = pmi\n",
      "    \n",
      "def getPMIFromDF(dstFrame, appName, keyword):\n",
      "    return dstFrame.loc[appName, keyword]\n",
      "\n",
      "def calcPMI(AppScore, KeywordScore, BothScore, nTotalDocs):\n",
      "    val = (AppScore*KeywordScore/(BothScore*nTotalDocs+1))\n",
      "    if val <= 0:\n",
      "        return 0.0\n",
      "    return math.log10(val)\n"
     ],
     "language": "python",
     "metadata": {},
     "outputs": [],
     "prompt_number": 5
    },
    {
     "cell_type": "code",
     "collapsed": true,
     "input": [
      "import pandas as pd\n",
      "import pickle\n",
      "\n",
      "app2 =  pd.load('data/app_info2.df')\n",
      "app2_2000_name = app2.head(2000).loc[:,['name']]"
     ],
     "language": "python",
     "metadata": {},
     "outputs": [],
     "prompt_number": 7
    },
    {
     "cell_type": "code",
     "collapsed": false,
     "input": [
      "app2_2000_name"
     ],
     "language": "python",
     "metadata": {},
     "outputs": [
      {
       "html": [
        "<pre>\n",
        "&ltclass 'pandas.core.frame.DataFrame'&gt\n",
        "Int64Index: 2000 entries, 0 to 1999\n",
        "Data columns (total 1 columns):\n",
        "name    2000  non-null values\n",
        "dtypes: object(1)\n",
        "</pre>"
       ],
       "output_type": "pyout",
       "prompt_number": 5,
       "text": [
        "<class 'pandas.core.frame.DataFrame'>\n",
        "Int64Index: 2000 entries, 0 to 1999\n",
        "Data columns (total 1 columns):\n",
        "name    2000  non-null values\n",
        "dtypes: object(1)"
       ]
      }
     ],
     "prompt_number": 5
    },
    {
     "cell_type": "code",
     "collapsed": false,
     "input": [
      "for i, a in app2_2000_name.iterrows():\n",
      "    print a['name']"
     ],
     "language": "python",
     "metadata": {},
     "outputs": [
      {
       "output_type": "stream",
       "stream": "stdout",
       "text": [
        "100 \ubbf8\uc158 : \ub77c\uc2a4 \ubca0\uc774\uac70\uc2a4 (Las Vegas)\n",
        "\uc778\ubca0\uc774\ub354\ud5cc\ud130\n",
        "GTA Vice City Cheater\n",
        "\uc5d8\uc18c\ub4dc \uc2a4\ud0ac\ud2b8\ub9ac(\uc544\ub77c)\n",
        "\ubbf8\ub140\ubcc0\ud638\uc0ac\uc138\ub9ac\ud0b4\n",
        "Pet Fair Village\n",
        "Forest Life\n",
        "\uc138\uacc4\uc5d0\uc11c \uc81c\uc77c \ube60\ub978 \ub808\ubca8\uc5c5\n",
        "Devil Girls\n",
        "\u2605 \uc131\uc778\uc6a9 \ub9de\uace0\uc758 \uc885\uacb0\uc790!! \u2605 \uc7a5\ubaa8\ub2d8\uc758 \ub098\ub77c \ub9de\uace0\n",
        "\ud6c4\ub974\uce20\uc7bc for Kakao\n",
        "\uc139\uc2dc\ud55c \uc5ec\uc790 \ud06c\ub9ac\uc2a4\ub9c8\uc2a4 \ud37c\uc990\n",
        "\ucd08\ucf54\ucd08\ucf54 for Kakao\n",
        "Miners 4k\n",
        "Top Stylist\n",
        "\uc5d8\ub9ac\uba58\ud0c8\ub098\uc774\uce20 \uc628\ub77c\uc778 (EKO)\n",
        "FINAL FANTASY DIMENSIONS\n",
        "\ube14\ub8f8\ud31d (Bloom-PoP)\n",
        "METAL SLUG\n",
        "Pudding Monsters HD (\ud478\ub529 \ubaac\uc2a4\ud130)\n",
        "\uadf8\ub140\ub294\ud3ab2 \u2665D\ucef5 \uadf8\ub77c\ube44\uc544 Sexy \uc2a4\ud0c0  \uc5d0\ubc00\ub9ac\n",
        "\ud3ab \uce74\ud398 2\n",
        "\ud038\uc988\uc560\ub85c\uc6b0 ( \uc591\uad81 )\n",
        "\ud504\ub9ac\ud2f0 \ud3ab \ud1a0\uc774 \uc2a4\ud1a0\uc5b4\n",
        "\ud50c\ub77c\uc789 \ubc84\ub514 for Kakao\n",
        "\uce90\ub9ad\ud130\ud321 for Kakao\n",
        "\ub808\uc774\uc2f1 \uc790\ub3d9\ucc28 \uc9c0\uadf8 \uc18c \ud37c\uc990\n",
        "Berzerk Ball 2\n",
        "AE Coin Mania\n",
        "\ubbf8\ub2c8 \uace8\ud504 3D \uacf5\uac04 : \ud37c\ud2b8 \ud37c\ud2b8\n",
        "Contre Jour\n",
        "\ubc30\ud2c0\uc544\ub808\ub098(BattleArena)\n",
        "\ubc84\uac70 \ud328\uc2a4\ud2b8 \ud478\ub4dc \uc2a4\ud0e0\ub4dc \uba54\uc774\ucee4\n",
        "Scarface\n",
        "\uc824\ub9ac\ubf40 for Kakao\n",
        "\ubb34\ub364 \ubcf4\uc11d\n",
        "\ud504\ub9b0\uc138\uc2a4*\ud37c\uc990\n",
        "Raging Fire Racing\n",
        "\ub0b4 \uc0ac\ub791\uc2a4\ub7ec\uc6b4 \ub3fc\uc9c0\n",
        "\uce90\ucc60\ud504\ub9b0\uc2a4 for Kakao\n",
        "Angry Fatty\n",
        "\ub4dc\ub798\uace4 \uc2a4\ud1a0\ub9ac: \ubd80\ud65c\uc808 \uc5d0\ub514\uc158\n",
        "\ubd88\uad50\ubc29\uc1a1\n",
        "Save Toshi \u65e5\u672c\n",
        "\u042f\u0439\u0446\u0435\u043b\u043e\u0432\n",
        "\uc5b4\ub9b0\uc774\ub97c\uc704\ud55c \uc790\uc7a5\uac00\n",
        "\ud788\uc5b4\ub85c\uc2ac\ub808\uc774\uc5b4! [\uac04\ub2e8\ud788 \uc990\uae30\ub294  \ud37c\uc990&\ub514\ud39c\uc2a4 \uac8c\uc784]\n",
        "Christmas Hangman Deluxe\n",
        "Star Defender 4 (Free)\n",
        "Clash of the Olympians\n",
        "Great White SHARKS\n",
        "\uc911\uad6d\uc5b4 \ub2e4\ud06c \uad50\ud310\n",
        "\ub808\uc774\uc2a4 \uc2a4\ud0c0\ud2b8 - GO\ub77d\ucee4\ud14c\ub9c8 - \ud504\ub9ac\ubbf8\uc5c4\n",
        "Bowman Pro 4\n",
        "\uc608\uc2a4\ud30c\uc77c-\uc601\ud654\ubcf4\uae30,\uc74c\uc545,\ub4dc\ub77c\ub9c8,\uc560\ub2c8,\ub3d9\uc601\uc0c1 \uc790\ub8cc\ub2e4\uc6b4\ub85c\ub4dc\n",
        "Qello\n",
        "Three Kingdoms: Heroes\n",
        "BBC News\n",
        "\u4e0d\u601d\u8b70\u5fae\u751f\u7269\u30bf\u30de\u30bf\u30de\u7814\u7a76\u6240\n",
        "Galatasaray Fantasy Manager'13\n",
        "Puzzle Retreat\n",
        "\ucd95\uad6c \uacbd\uae30 \ud504\ub85c\n",
        "Wild Blocks Rush\n",
        "\u9a45\u52d5\u57ce\u5e02-\u5373\u6642\u8def\u6cc1,\u52a0\u6cb9,\u505c\u8eca,\u512a\u60e0,\u6551\u63f4\n",
        "FreeTelec T\u00e9l\u00e9c Freebox\n",
        "Wacky Duck\n",
        "[\uc138\uc774\ud1a1] \ub300\ud654\uac00 \ud544\uc694\ud560 \ub54c - Saytalk \ucc44\ud305\n",
        "Iron Reactor Widget\n",
        "MySafeApp \uc228\uae30\uae30 \uc0ac\uc9c4 \ubc0f \ub3d9\uc601\uc0c1\n",
        "Stamp sticker TextCutie\n",
        "I Smell Brains\n",
        "\ud06c\ub808\uc774\uc9c0 \uacbd\uc801\n",
        "\uc804\ub798\ub3d9\uc694 \ubc8c\uc544\ubc8c\uc544\n",
        "\ub85c\ub610 \ub300\ubc15\ub098\uae30\n",
        "KIDS SONG MACHINE 2 FREE\n",
        "\ub4dc\ub9bc \ud648\n",
        "\uc5d0\uc774\uc9c0 \uc624\ube0c \uac13: \uc544\uae30\uc790\uae30\ud55c \uce74\ub4dc\ubc30\ud2c0\n",
        "Shadow Galaxy\n",
        "\uc0ac\uc9c4 \uc7ac\ubbf8 - \uc7ac\ubbf8 \uac24\ub7ec\ub9ac \uc791\uc131\uae30\n",
        "MMDA for Android\u2122\n",
        "\ud380\uce90\uc2a4\ud2b8 - \ucd5c\uace0\uc758 \ud31f\uce90\uc2a4\ud2b8\n",
        "\ub450\ub1cc\uac74\uac15 \ud328\ud134\uc554\uae302\n",
        "Thai Livescore\n",
        "\u6dfa\u7da0\u5c0f\u8aaa\u96c6\uff08\u7e41\u9ad4\u7248\uff09\n",
        "Elements Battle\n",
        "Tales from the Dragon Mountain\n",
        "MojiTime Clock Widget\n",
        "AmbientTime Live Wallpaper\n",
        "Practice English Grammar - 1\n",
        "Cupcake Stand\n",
        "Pixel Dungeon\n",
        "Candy Island HD - \uce94\ub514 \uc12c HD\n",
        "[\uc644\uc804\ubb34\ub8cc]\ub77c\uc2a4\ud2b8\uccb4\uc774\uc11c Plus+\n",
        "\ucf54\uc778 \uac8c\uc784 ~ \ud398\ub2c8 \ud478\uc154\n",
        "\ucd94\uc5b5\uc758 \ub2ec\uace0\ub098 \ubf51\uae30\n",
        "\uacfc\uc77c \ubc84\ube14 \uc288\ud130\n",
        "\u30d1\u30c1\u30b9\u30ed\u300c\u7518\u3069\u308b!!\u300d\n",
        "\ubf40\ubf40\uac8c\uc784\n",
        "\u7f8e\u5973\u5341\u516b\u6478\u6478\u51fa\u9ad8\u6f6e\n",
        "Hip Mania[Hot Girl] Free Game\n",
        "\ubc1d\uc740 \uba4b\uc9c4\n",
        "TarzaN Ever Ending Adventure\n",
        "Gourmet Creature Hungry Mogumo\n",
        "\ubcf4\uc218\uacc4\n",
        "\u60c5\u8272\u6478\u4e73\uff1a\u706b\u8fa3\u6bd4\u57fa\u5c3c\n",
        "\ubb3c\uc740 \uc18c\ub9ac\n",
        "\u4eba\u4eba\u90fd\u7231\u72d0\u72f8\u7cbe\n",
        "EZ Pill Reminder\n",
        "Smart Baby Mat (Monitor)\n",
        "\u9690\u5f62\u80f8\u7f69\uff08\u5b89\u5353\u7248\uff09\n",
        "Height & Weight Log\n",
        "\uccb4\uc911\uc744 \uc783\uac8c\ud558\ub294 \ube60\ub978 \ubc29\ubc95\n",
        "Sword Art Online Theme FREE\n",
        "\u70ed\u95e8\u7384\u5e7b\u4fee\u771f\u5c0f\u8bf4\u5408\u96c6\n",
        "\u6210\u4eba\u6fc0\u60c5\u8868\u59b9\u7684\u8bf1\u60d1\u5c0f\u8bf4\n",
        "\u5bab\u6597\u6fc0\u60c5\u6587\u5b66\n",
        "Be My Princess\n",
        "TouchPal Swedish Pack\n",
        "IDM Internet Download Magician\n",
        "\u7c21\u7e41:\u5bf5\u6587\u751c\u6587\u8a00\u60c5\u5c0f\u8aaa\u5408\u96c6[7]\n",
        "Android 2.2 API Demos\n",
        "\ubfcc\uae4c \uc0ac\ucc9c\uc131\n",
        "Dreamhouse Next Launcher Theme\n",
        "\ub9c8\uc774 \uce74 \uc0b4\ub871 2\n",
        "\ud0c0\uc774\ub2c8\uc6cc\n",
        "\ub85c\ubcf4\n",
        "\ud50c\ub808\uc774\uc5b4 \ucd95\uad6c \uc0ac\uc9c4 \ud034\uc988\n",
        "\u2605 3D RPG Heaven Sword \u2605\n",
        "If Serie A 2012 - 2013 Lite\n",
        "Opzi Bingo\n",
        "Tap Play\n",
        "Sweet Ring Shop\n",
        "Love Quote Pics for Facebook\n",
        "\uce74\uc624\uc2a4\uc601\uc6c5\uc804\n",
        "\uc880\ube44 \uc3f4\n",
        "\ubaac\uc2a4\ud130 \ucf54\uc778\n",
        "OctoCheck\n",
        "\u7ec8\u6781\u5854\u9632\n",
        "\uc5ec\uc790\ub97c\uc704\ud55c \uba4b\uc9c4 \uac8c\uc784\n",
        "Top Shooter\n",
        "Line Super Runner\n",
        "\u010cT24\n",
        "\ub2e4\ud568\uaed8 \ud401\ud401\ud401 \uac00\uc9dc \ubc1c\ub3c4\uc7a5 100\uac1c (\ud401\ud401\ud401 \ucee4\ubba4\ub2c8\ud2f0)\n",
        "\uc885\uc774\uc811\uae30\n",
        "Assault Force\n",
        "\ud0a4\uc704\ub7f0!\n",
        "\u738b\u54c1\u9910\u98f2\u975e\u5b98\u65b9APP(\u53f0\u5851\u725b\u6392,\u590f\u6155\u5c3c,\u539f\u71d2,\u897f\u5824,\u7b49\u9910\u5ef3)\n",
        "[FREE]\ub7ec\ube0c\ub7ec\ube0c\ud3ab\ud0c0\uc774\ucfe4\n",
        "\ucfe0\ud0a4\ub7f0 \ub300\ud45c \ucee4\ubba4\ub2c8\ud2f0 (\uac8c\uc784\ucfe1)\n",
        "Go Locker Minecraft\n",
        "Gem Cleaner\n",
        "\ub0b4 \ubb3c \ub09a\uc2dc \uac8c\uc784 \ud37c\uc990\n",
        "KTB netbank\n",
        "Pumped: BMX Free\n",
        "Joy Drums\n",
        "Jungle Jewels Free\n",
        "\ub2e4 \ubc97\uae30\ub294 \uc139\uc2dc \ub8f0\ub81b\uac78\n",
        "JTBC \ub274\uc2a4\n",
        "\uadc0\uc5ec\uc6b4 \uc0c8\ub07c \uace0\uc591\uc774\ub97c \ucc3e\uace0 \uc788\ub294\ub370 \ud654\uba74\n",
        "\u5168\u58d8\u62532 OL\n",
        "Las Vegas Slot Machine HD\n",
        "\ud5ec\uc2a4 \uc2a4\ucf00\uc974\ub7ec\n",
        "\u0422\u0430\u0440\u043e \u0413\u0430\u0434\u0430\u043d\u0438\u0435\n",
        "TV\u96a8\u8eab\u770bHD-\u9078\u53f0\u5668\n",
        "SPY mouse\n",
        "Funny iMadeFace Videos&Photos+\n",
        "Screen On\n",
        "3\u570b\u5c0f\u8c6c \u6349\u932f\u8655\n",
        "Video Download\n",
        "Jet Car Stunts\n",
        "\uc880\ube44 \uc774\ube14\n",
        "olleh \ucf55!\ucf55!\n",
        "iMadeFace Funny Pics & Videos\n",
        "[PNN] PTT \u9109\u6c11\u665a\u5831\n",
        "\uce58\ud0a8\ub7f0(\ub18d\uc7a5\ud0c8\ucd9c)\n",
        "ApeFlip\n",
        "Equalizer\n",
        "Splat Bugs III Unlock KEY\n",
        "TOP 20 SMS \uc0ac\uc6b4\ub4dc \ud6a8\uacfc\n",
        "\u30aa\u30ea\u30b3\u30f3\u30df\u30e5\u30fc\u30b8\u30c3\u30af\u30b9\u30c8\u30a2\n",
        "Shut Up! App\n",
        "\ub9e4\ub2c8\ud050\uc5b4 \ub514\uc790\uc774\ub108 \ub77c\uc774\ud2b8\n",
        "\u4e58\u6cd5\u5c0f\u5b78\u5802\n",
        "T map for KT,LGU+\n",
        "\u53f0\u7063\u5496\u5561/\u98f2\u6599\u5927\u5168\uff01 (online\u7248, \u53ef\u4e0b\u8f09\u96e2\u7dda\u4f7f\u7528)\n",
        "Mickey Mouse Clubhouse\n",
        "\u59dc\u997c\u4eba\u5927\u9003\u4ea1 (Ovenbreak)\n",
        "\uc9c0\ubb38 \uc608\uc0c1\n",
        "\uc2a4\ud241\uc2a4(stoongs) Email\uc601\uc5b4\n",
        "EZ\u65c5\u904a\u65e5\u8a9e\n",
        "EZ\u7f8e\u98df\u65e5\u8a9e\n",
        "Net Big 2 Free\n",
        "Jewellust Xmas\n",
        "\uce74\ud1a1 \uc774\ubaa8\ud2f0\ucf58\n",
        "The Island: Castaway\n",
        "\u5eb7\u7199\u4f86\u4e86 TV\n",
        "Kids Jigsaw Puzzles Ocean Free\n",
        "\u79d8\u5bf6\u63a2\u5075\n",
        "Airport Mania XP FREE\n",
        "Korean Vocabulary\n",
        "\u010cT4\n",
        "Bluetooth OnOff\n",
        "\u516d\u6cd5\u5168\u66f8\n",
        "7\uae09\uacf5\ubb34\uc6d0 \ubb34\ub8cc\ub2e4\uc2dc\ubcf4\uae30-\uac00\uc785\uc5c6\uc74c/\uc2e4\uc2dc\uac04\uac10\uc0c1/TV\ub4dc\ub77c\ub9c8\n",
        "Puzzle for Minecraft\n",
        "\uc5b4\ub514\uc5d0?\n",
        "KK-Boxing\n",
        "Crazy Moto Construction Yard\n",
        "\ud574\uc11d \uccad\ucd98\ub0a8\ub140(2013\ub144 \uc6b4\uc138)\n",
        "Stick Swing\n",
        "\u5fc3\u9748\u6545\u4e8b\n",
        "\ub3d9\ubb3c \uac80\uc0c9\n",
        "Dropwords\n",
        "Archos File Manager\n",
        "M1 BestPicks\n",
        "Squibble\n",
        "Grand Theft Auto 4 Guide GTA4\n",
        "During_GO\ub7f0\ucc98EX\ud14c\ub9c8\n",
        "\uac13\ud53c\ud50c\ubab0\n",
        "Cupcake Maker!\n",
        "Movie Booth FX \ube45\ubc45 - \uc601\ud654 \ubd80\uc2a4\n",
        "7x7\n",
        "Explorer\n",
        "Pendu Classique: France\n",
        "PicsArt Kaleidoscope\n",
        "\ud3ec\ud1a0 \uc6cc\ud130 \ubc18\uc601\n",
        "\uad6d\ub0b4\uc720\uc77c \ubb34\ub8cc\uc18c\uac1c\ud305, \ud558\ub8e8 \ub450\uba85\uc529 \ub04c\ub9bc\n",
        "Scydo \ubb34\ub8cc \uc548\ub4dc\ub85c\uc774\ub4dc\ub294 \uc804\ud654\n",
        "\ubb34\ud55c\ube61\uce68 \ub191\n",
        "\u041a\u0430\u043c\u0435\u0434\u0438 \u041a\u043b\u0430\u0431 - \u041b\u0443\u0447\u0448\u0438\u0435 \u0412\u0438\u0434\u0435\u043e\n",
        "Qik Video\n",
        "Country House_GO\ub7f0\ucc98EX\ud14c\ub9c8_\ud504\ub9ac\ubbf8\uc5b8\n",
        "\ud3ed\ud589 \uc880\ube44 HD\n",
        "Colombo Racer Beta- Sri Lankan\n",
        "Call Confirm\n",
        "Zombie Fields HD\n",
        "Beat the Beast\n",
        "\u62c6\u5f48\u9a5a\u9b42\n",
        "\ubaa8\ub450\uc758\uac8c\uc784 \ud587\uc0b4\uc774\ubca4\ud2b8\n",
        "Asphalt 6: Adrenaline Free\n",
        "Pet Rescue Saga Help\n",
        "\ub9de\uace0\ub3c4\uc0ac\uc804 2013\n",
        "RO\u4ed9\u5883\u50b3\u8aaa-\u74e6\u723e\u57fa\u91cc\u4e4b\u4e82-\u6b7b\u4ea1\u4e4b\u90fd\u5df4\u9732\u6234\u723e\n",
        "Bike to the Future Free\n",
        "FrameMe-Instagram pic\n",
        "Monorail Lite\n",
        "chumby for Sony Tablet S\n",
        "[GDGT]MCPE App\n",
        "PEP the dragon\n",
        "3D\u5168\u666f\u62cd\u7167\n",
        "Color Touch FX\n",
        "\uc544\uae30 \uc790\uc7a5\uac00 \uc218\uba74 \ud2b8\ub808\uc774\ub2dd + \ucd08\uc810\ucc45\n",
        "Moto Race\n",
        "eco\u30e2\u30fc\u30c9\n",
        "pink butterflies glitter lwp\n",
        "Zs\u00edroz\u00e1s\n",
        "Halifax Mobile Banking app\n",
        "The Snowman and The Snowdog\n",
        "Strategy & Tactics: WW II Free\n",
        "Pocket Clothier Lite\n",
        "e\ud558\ub298 \uc7a5\uc0ac\uc815\ubcf4\n",
        "\uc2a4\ud504\ub808\ub4dc\uce98 - \uce98\ub9b0\ub354\n",
        "Pocket Dragons RPG\n",
        "\ud130\uce58 \ud130\uce58 \uc0ac\ub2e4\ub9ac ( Touch Touch \uc0ac\ub2e4\ub9ac )\n",
        "\uadf9\uc9c0\uace0:\ud559\uc6d0\ubb34\ub9bc\ub300\uc804\n",
        "Fruit Slice\n",
        "Messi vs Ronaldo Quiz\n",
        "Kids Connect the Dots Xmas\n",
        "\ubc30\ud2b8\ub9e8 \uc774\uc57c\uae30\n",
        "Camera widget GO Weather EX\n",
        "\uc815\ubcf4\uc9c0\ud0b4\uc774 (SOM)\n",
        "Beautylish: Makeup Beauty Tips\n",
        "\ubcf4\uc11d \uac8c\uc784\n",
        "Daily Perks\n",
        "Dai Cazzo\n",
        "World War II raid\n",
        "Make Your Cake\n",
        "\uadc0\uc5ec\uc6b4 \uc5d4\uc824 - \ucc28\uc774 \ucc3e\uae30\n",
        "\u82f1\u6f22\u5b57\u5178 EC Dictionary\n",
        "Sniper Battle\n",
        "\ud48d\uc120 \ud0c0\uc6cc \ubc29\uc5b4 \uc804\ud22c\n",
        "Angela Dress Up\n",
        "\u7f8e\u56e2\u56e2\u8d2d\uff08\u56e2\u8d2d\u5fc5\u5907)\n",
        "\uc6b0\ub9ac\uc740\ud589 \uc6d0\ud130\uce58 \uc6d4\ub4dc\n",
        "Ant Raid\n",
        "Meteor - Meteoradar\n",
        "Little Crane\n",
        "\uc324\uc324\ub9c8\ud2b8\n",
        "\uc139\uc2dc\ud55c \ubbf8\ub4dc \ub098\uc774\ud2b8 \ud480\uc774\n",
        "\ud074\ub798\uc2dd \ubc84\ube14 \ucd2c\uc601\n",
        "Old School Dialer\n",
        "\ub0b4\ubd80 \uc815\uc6d0 (Inner Garden)\n",
        "\u96fb\u8996\u79c0 YouTube Taiwan\n",
        "HotWheel Highway Drive\n",
        "Nyan Cat: Lost Space Race\n",
        "NEW\u2665\ud640\ub531\ub9de\uace0\u266519\uae08\n",
        "\ucd5c\uace0 \uc18d\ub3c4 \ub9d0 : \ubb34\ub8cc\n",
        "Gurk II, the 8-bit RPG\n",
        "Zombie Age\n",
        "\ucd9c\uc870 \ub09a\uc2dc\uad11\n",
        "\u2605\ub514\ud39c\uc9c0 2\u2605\n",
        "Kids Animal Preschool Puzzle L\n",
        "\ud0f1\ud06c \uc804\uc7c1 \uc601\uc6c5 \uc0ac\ub0e5\uafbc\n",
        "ANGRY BOTS 9MB\n",
        "\ub85c\uc2a4\ud2b8 \uc544\uc77c\ub79c\ub4dc\n",
        "\uc2e4\ud06c\ub85c\ub4dc for Kakao\n",
        "\uc810 - \uc790\ub3d9\ucc28\n",
        "Office Lady \uc2a4\ud2b8\ub9bd\ub9de\uace0\n",
        "\u0422\u0430\u043d\u0447\u0438\u043a\u0438 2013\n",
        "\u30ef\u30fc\u30eb\u30c9\u30e1\u30fc\u30ab\u30fc [\u5f3e\u5e55\u30b7\u30e5\u30fc\u30c6\u30a3\u30f3\u30b0\u00d7\u30d5\u30a1\u30f3\u30bf\u30b8\u30fcRPG]\n",
        "Sky Fighters Academy Free\n",
        "Cut'n'Roll\n",
        "\uc5f0\uc608\uc778 \uc774\ub984 \ub3c4\uc804 Quiz\n",
        "\ud558\ub140\ub9de\uace03\u2605\uc9c0\uae08\uc740 \ub300\ud558\ub140\uc2dc\ub300\u2605\n",
        "What's Up\n",
        "R-Tech Commander Colony\n",
        "\u0420\u0435\u0446\u0435\u043f\u0442\u044b \u2013\u0432\u043a\u0443\u0441\u043d\u043e \u0438 \u043f\u043e\u043b\u0435\u0437\u043d\u043e\n",
        "Dragon Hunter II\n",
        "\ubc84\uac70 \ud328\ub2c9 \uc694\ub9ac \uac8c\uc784\n",
        "Prison Tycoon\n",
        "CoD: Black Ops 2 Customizer\n",
        "Sexy Slot SUPER REAL 8LINES P2\n",
        "Global War Tanks\n",
        "Level Up! RPG\n",
        "Avoooid!Hero\n",
        "\ub2e4\ube48\uce58\ud30c\uc774\uc5b4 for kakao\n",
        "Ajax Fantasy Manager'13\n",
        "PUZZLE PRISM LITE\n",
        "\uc288\ud37c \ubc84\uac70 \uc7bc\n",
        "\uc139\uc2dc\u2665\uac78\uc744 \ucc3e\uc544\ub77c\n",
        "[\ub3c8\ubc84\ub294\uc5b4\ud50c]\uc571\ud14c\ud06c \ud544\uc218\uc5b4\ud50c - \uc571\ud5cc\ud130 2\n",
        "Around the World in 80 Days\n",
        "\uadc0\uc5ec\uc6b4\ub77c\uc774\ube0c \ubc30\uacbd\ud654\uba74\n",
        "GTA 5 is Coming!!!\n",
        "Real Racing 2 Free\n",
        "\uc815\ud1b5\uc12f\ub2e4 2013\n",
        "Hangman\n",
        "Brainsss\n",
        "Tickling cat\n",
        "\uc880\ube44 \uce74\ud398\n",
        "\u9748\u5360\u5929\u4e0b-\u516b\u5b57 \u5360\u535c \u7b97\u547d \u661f\u5ea7 \u904b\u52e2\n",
        "FC\ub9e4\ub2c8\uc800 \ubaa8\ubc14\uc77c\n",
        "Treasures of Montezuma Blitz\n",
        "\u901a\u8a71\u7d00\u9304++\n",
        "Kula Jump\n",
        "\ub4dc\ub798\uace4\ud50c\ub77c\uc774\ud2b8 \uacf5\ub7b5\ucee4\ubba4\ub2c8\ud2f0 \ud578\ub514\uac8c\uc784\n",
        "\uac1c\uad6c\ub9ac \ubb34\ub8cc \ub3c4\uc57d\n",
        "Deluxe Apartment Escape\n",
        "\u9f8d\u65cf\n",
        "\uac10\uc625 \ube0c\ub808\uc774\ud06c\n",
        "Hamlet (\ud584\ub9bf)\n",
        "Objetos Escondidos - Free Game\n",
        "Clear Vision (17+)\n",
        "\uc57c\ud55c\ub3d9\uc601\uc0c1 \ub204\ub4dc\ub9de\uace0\n",
        "Fling a Thing\n",
        "\ub864\ub7ec \ucf54\uc2a4\ud130 \ud06c\ub9ac\uc5d0\uc774\ud130\n",
        "Wireless Charger\n",
        "\uc560\ub2c8\ud321 \uce5c\uad6c\ucd94\uac00,\ud558\ud2b8\uc120\ubb3c \ucee4\ubba4\ub2c8\ud2f0\n",
        "Xeno Wars\n",
        "CANALTOUCH\n",
        "\ucd08\ucf5c\ub9bf \ucfe0\ud0a4 \uc694\ub9ac \uac8c\uc784\n",
        "Block Builder\n",
        "Kingfisher Formula Race\n",
        "Zombocalypse\n",
        "The Saga of Conquest(Best MMO)\n",
        "Hard Wound\n",
        "sexy \uc637\ubc97\uae30\uae30 \uac00\uc704\ubc14\uc704\ubcf4\n",
        "\u6a02\u900f\u5c0d\u514c\u734e\n",
        "Blow Up Balloon\n",
        "\ubb34\ub8cc \ub85c\ub610,\ub3c8\ubc84\ub294\uc5b4\ud50c,\uc778\uc0dd\ud55c\ubc29\uc5ed\uc804,\ub85c\ub610\ub85c,TOLOTTO\n",
        "\u667a\u80fd\u98a8\u6c34\u7f85\u76e4 (\u57fa\u672c\u7248)\n",
        "AC Milan Fantasy Manager'13\n",
        "\uae30\uc5b4\uc2a4 & \uc6a9\uac10\ud55c \uc790\n",
        "100 \ubb38 : \uc2dc\uac04 \u200b\u200b\uae30\uacc4\n",
        "C-games \ud074\ub77c\uc6b0\ub4dc \uac8c\uc784 \uc2a4\ud1a0\uc5b4\n",
        "\ub2cc\uc790 \uac8c\uc784\n",
        "Galinha Pintadinha 2\n",
        "Zombie Warrior Man 18+\n",
        "Arsenal Fantasy Manager'13\n",
        "Jewel Stacker\n",
        "Bubble Witch Saga Fan Guide\n",
        "\uc5b4\uba54\uc774\uc9d5 \ube0c\ub808\uc774\ucee4_FREE\n",
        "\ud30c\uc774\ube0c\uc18c\uc988\n",
        "Zombie Ace\n",
        "\uc2a4\uc2dc \ud0c0\uc774\ucfe4\n",
        "\uc0bc\uad6d TD : \ubc29\uc5b4\uc790\n",
        "Ultimate SMS Template Library\n",
        "\u3010\uc778\uae30\u3011\u3010\uc561\uc158RPG\u3011\ub4dc\ub798\uace4 \ud5cc\ud130LITE\n",
        "Zombie Swipeout Free\n",
        "Prayer Time\n",
        "\ubd04\ube0c\uc258\n",
        "\u30d5\u30a1\u30eb\u30ad\u30e5\u30fc\u30ec\u306e\u7d0b\u7ae0 [40\u4e07\u4eba\u304c\u5927\u71b1\u72c2\uff01\u7121\u6599\u30ab\u30fc\u30c9\u30b2\u30fc\u30e0]\n",
        "Circuit Flow Free\n",
        "\ub358\uc804 \ubaa8\ud5d8 - \ubb34\ub8cc\n",
        "MMORPG Project\n",
        "\u0627\u0641\u062d\u0635 \u0642\u0648\u0629 \u0628\u0635\u0631\u0643 \u0627\u0644\u0645\u0637\u0648\u0631\n",
        "Liverpool FC Fantasy Manager\n",
        "Skyriders\n",
        "Truck Delivery Free\n",
        "\uc804\uc7c1 \uc804\ub7b5\n",
        "Furious Wheel\n",
        "Wordfeud\n",
        "Bouncy Bill Halloween\n",
        "LIL' KINGDOM\n",
        "\uc624\ud508\ub77c\uc774\ub354\n",
        "ENCHANT U\n",
        "\u5929\u5929\u7f8e\u56fe--\u6700\u4f73\u5716\u7247\u7f8e\u5316\u8655\u7406\u5de5\u5177\n",
        "Darkbase \uc880\ube44\ub294 \uc8fd\uc5ec!\n",
        "FinalMagicES \u7121\u6599[\u7269\u8a9e\u91cd\u8996\u30aa\u30f3\u30e9\u30a4\u30f3\u30d0\u30c8\u30eb]\n",
        "\uc2a4\ub204\ud53c \uc2a4\ud2b8\ub9ac\ud2b8\n",
        "\ube5b\uc758 \uc131 \u2014 City of Splendors\n",
        "\ucfe0\ud0a4\ub7f0 \uc5c5\uadf8\ub808\uc774\ub4dc+\ub808\ubca8\uc5c5\n",
        "100 Escapers\n",
        "CHAOS RINGS\n",
        "\uc606\uc9d1 \uc18c\ub140\n",
        "Lego Christmas examples\n",
        "Pirate Explorer: The Bay Town\n",
        "Thunder Gun Pit Crew Titans\n",
        "TheEndApp\n",
        "All\u82f1\u8bed\u8bcd\u5178, English \u21d4 Chinese\n",
        "Jellyflop!\n",
        "\ucee4\ub125\ud2b8\ub380 (Connect'Em)\n",
        "Lara Croft: Guardian of Light\n",
        "ParkingBreak_Lite\n",
        "LOL \uac00\uc774\ub4dc (\uc804\uc124\uc758 \ub9ac\uadf8)\n",
        "\uc18c\ud658\uc804\uc7c1\n",
        "zettai ryouiki new FREE\n",
        "EDGE Demo\n",
        "\ub808\uc2a4\ud1a0\ub791\uc2a4\ud0c0\n",
        "Animal Collections\n",
        "\u795e\u9f8d\u90e8\u843d - Dragon Village\n",
        "Nations At War\n",
        "\ub291\ub300 \ub358\uc9c0\uae30\n",
        "Renault Trucks Racing\n",
        "\uc544\uccd0\ucea3\n",
        "Tank War: Extreme\n",
        "\ubb34\ub8cc \ud0c8\ucd9c \uac8c\uc784 - \uac1c\uad6c\ub9ac \uc655\uc790\n",
        "ATC4Real San Diego\n",
        "Dragon Board\n",
        "Beastie Bay\n",
        "Alg\u00e9rie M\u00e9t\u00e9o\n",
        "\ub124\uc774\ud0a4\ub4dc\ud0b92\n",
        "\ube14\ub808\uc774\ub4dcz(Blade z)\n",
        "2012 \ub300\ud1b5\ub839 \ub2ec\ub9ac\uae30\n",
        "Voxel Invaders (Free)\n",
        "\ub7ec\ube0c \uba54\ubaa8\ub9ac\uc988 LITE\n",
        "Zion Tower Defense Free\n",
        "Medieval Battlefields FREE\n",
        "CJ \ubdf0\ud2f0 \uc18c\ub140 \ud37c\uc990\n",
        "Guns'n'Glory GOLD\n",
        "\uacf5\uc8fc \uba54\uc774\ud06c\uc5c5 \ub77c\uc774\ud2b8\n",
        "\ud310\ud0c0\uc9c0\uc6cc\n",
        "\u017bulionerzy\n",
        "MAME4droid (0.37b5)\n",
        "Bungie Mobile\n",
        "\u4e0d\u597d\u7b11\u514d\u9322\n",
        "\u61f7\u5ff5\u91d1\u66f2\n",
        "\uc194\uc800 \uc624\ube0c \uae00\ub85c\ub9ac: \uc6d4\ub4dc \uc6cc 2 \uc880\ube44\n",
        "Mojo \u5168\u53f0\u7063\u63a8\u85a6\u65c5\u904a\u666f\u9ede\n",
        "Winulator-beta\n",
        "\u0423\u0445\u043e\u0434 \u0437\u0430 \u043b\u0438\u0446\u043e\u043c\n",
        "Galaxy Note 2 Live Clock\n",
        "\ud06c\ub9bc\uc2a8\ubca0\uc778\n",
        "Injustice Gods Among Us Guide\n",
        "\uc81c\ud2b8 \ud50c\ub77c\uc774 (II)\n",
        "\ub9d0\ub791\ub9d0\ub791\uc0ac\ucc9c\uc1312\n",
        "VPET\n",
        "\ud48d\uc120\ud0c0\uc6cc\ub514\ud39c\uc2a4 4\n",
        "\ud48d\uc120\ud0c0\uc6cc\ub514\ud39c\uc2a4 4E\n",
        "\uc288\ud37c \ud2b8\ub7ed \ud504\ub85c\n",
        "\ud5c8\uc218\uc544\ube44\uc758 \ub1cc\n",
        "Girl Fart\n",
        "MineGuides\n",
        "GnarBike \ud3c9\uac00\ud310 \ud504\ub85c\n",
        "\ubaac\uc2a4\ud130\uc6d4\ub4dc\n",
        "\uc545\ub9c8\uc758\uacc4\ud68d\n",
        "\ubc30\ud2c0\uce90\ub17cSE(Battle Cannon Online)\n",
        "\ub864\ub7ec\ucf54\uc2a4\ud130\ub77c\uc774\ub4dc\n",
        "\u0110ua xe Need for Speed HD\n",
        "Animal Park Tycoon\n",
        "\ubd88\ub968 \uc774\ud004\ub77c\uc774\uc800\n",
        "\ubb3c\ub54c\uc640\ub0a0\uc528- \ub09a\uc2dc\uc778\uc744 \uc704\ud55c \uc870\uc11d, \ub0a0\uc528 \uc608\ubcf4\n",
        "\uacbd\uae30 \ud559\uad50\ud589\ubcf5\uc9c0\uc218\n",
        "\uafc8\uc758 \uac70\ub9ac\n",
        "\uc601\uc6c5 \ud0c8\ucd9c\n",
        "Bride and Groom Maker\n",
        "Virtual Piano\n",
        "Color Touch\n",
        "B1A4 \ud50c\ub808\uc774\uc5b4[\ucd5c\uc2e0\uc568\ubc94\uc74c\uc545\ubb34\ub8cc/\uc2a4\ud0c0\uc0ac\uc9c4/\uc601\ud654OST]\n",
        "Music Player for Android\n",
        "\u0633\u0648\u0631\u0629 \u062a\u0628\u0627\u0631\u0643 \u0642\u0631\u0627\u0621\u0629 \u0648\u0625\u0633\u062a\u0645\u0627\u0639\n",
        "Foosball 3D\n",
        "Cupcake Maker\n",
        "Hobbit life\n",
        "\ud55c\uad6d\uacbd\uc81cTV\n",
        "SMS \ubca8\uc18c\ub9ac \ud504\ub85c\n",
        "MIX Images...\"Photo and me\"\n",
        "\u0637\u0631\u0642 \u062d\u0641\u0638 \u0627\u0644\u0642\u0631\u0622\u0646 \u0627\u0644\u0643\u0631\u064a\u0645\n",
        "\ube44\ub514\uc624 \ucc44\ud305\n",
        "\uad11\uac1c\ud1a0\ud0dc\uc655\n",
        "RealPresence Mobile - Tablet\n",
        "Water Drop LiveWallpaper\n",
        "\ubca0\uc774\ucee4\ub9ac\uc694\ubbf8 \uce74\uce74\uc624\ud648 \ud14c\ub9c8\n",
        "TAMAGO HD\n",
        "Solar Charger\n",
        "Navy Seals\n",
        "POCO\u76f8\u673a (POCO Camera)\n",
        "\uc624\ud1a0\ubc14\uc774 \ud37c\uc990\n",
        "Nature\n",
        "Seaside GO LauncherEX Theme\n",
        "\u7535\u5f71\u7535\u89c6\u5267\u9ad8\u6e05\u89c6\u9891\u64ad\u653e(\u52a8\u6f2b\u7efc\u827a,\u97f3\u4e50)\n",
        "GPS Navigator: GPS Navigation\n",
        "\u624b\u6a5f\u6e1b\u80a5\u5668\n",
        "\u0625\u0633\u062a\u0639\u0631\u0627\u0636 \u0627\u0644\u0637\u0641\u0644 \u0627\u0644\u0635\u063a\u064a\u0631\n",
        "Kids Trucks: Preschool Free\n",
        "Apps 2 SD (Move app 2 sd)\n",
        "\u96fb\u5f71\u6436\u5148\u770b\n",
        "Who's Calling?\n",
        "\ud1a0\ub07c \ubb34\ub8cc \uac8c\uc784 \ud50c\ub77c\uc774 games to have fun\n",
        "GLOWING SKY (demo)\n",
        "Cuisine auFeminin\n",
        "Notes\n",
        "Green Thumb Free Slot Machine\n",
        "Burn the Rope:Worlds & Friends\n",
        "Binoculars\n",
        "Jewellery Sky\n",
        "Pizza Maker\n",
        "\u52a8\u611f\u8d85\u4eba\n",
        "\ud0c8\ucd9c \uac8c\uc784 \u201c\uc815\ubc18\ub300\uc778 \uc790\ub9e4\u201d\n",
        "iQuarium\n",
        "\uc5b4\ub9b0\uc774 \uc601\uc5b4TV Free\n",
        "\ub4c0\ud2f0 MW2 \ucd1d\uc774 \uc804\ud654\n",
        "\ud0c8\ucd9c \uac8c\uc784: Departure\n",
        "\uc628\uc138\uc0c1 \uc131\uacbd & \ucc2c\uc1a1(\uccb4\ud5d8\ud310) (\uac1c\uc5ed\uac1c\uc815, NIV)\n",
        "\uc2a4\ud134\ud2b8 \uc790\ub3d9\ucc28 \ub808\uc774\uc2a4\n",
        "\uc2a4\ud398\uc774\uc2a4 \uc544\ud1b0 \ud14c\ub9c8\n",
        "\ub098\uc640 \uc5b4\uc6b8\ub9ac\ub294 \uc2a4\ub9c8\ud2b8\ud3f0\n",
        "\u0639\u0628\u062f \u0627\u0644\u0628\u0627\u0633\u0637 \u0639\u0628\u062f \u0627\u0644\u0635\u0645\u062f - \u062a\u062c\u0648\u064a\u062f\n",
        "Dating for everyone! Mamb\u0430!\n",
        "Jetpack Piggies\n",
        "\ub808\uc774\uc2f1 \uac8c\uc784\uc744 \ub4dc\ub798\uadf8\n",
        "Sushi Maker\n",
        "\u062e\u0644\u0641\u064a\u0627\u062a \u062b\u0631\u064a \u062f\u064a\n",
        "App des Tages - 100% Gratis\n",
        "Starving Zombies\n",
        "\uc544\uc778\uc288\ud0c0\uc778\uc758 \ub3c4\uc804\n",
        "Flower lovers\n",
        "\ud06c\ub808\uc774\uc9c0 \ubaa8\ud1a0 \ub808\uc774\uc2f1\n",
        "Bride and Groom Maker\n",
        "\uc721\uad70 \uc2a4\ub098\uc774\ud37c : \uc778\ub3c4 \uc2a4\ud2b8\ub77c\uc774\ud06c\n",
        "\uc624\ub514\uc5b8\ub3c4\uc11c\uad00\n",
        "\ud0c8\ucd9c \uac8c\uc784 \u201c\uc544\ubc84\uc9c0\uc758 \ubc00\uc11c\u201d\n",
        "My theme GO Reward Theme\n",
        "Mini.Trai Theme GO Launcher Ex\n",
        "Retro Racing\n",
        "AS Roma Fantasy Manager'13\n",
        "Lost Souls: \uc783\uc5b4\ubc84\ub9b0 \uc601\ud63c\n",
        "Car Racing Mania Free\n",
        "PES 2013 Pro EvolutionSoccer\n",
        "[\uc131\uc778\ubb34\ub8cc]\uccad\uc18c\uc758\uc2e0 - \uc561\uc815\ub2e6\uc774\ud3b8\n",
        "\uc880\ube44\ub864\ub9ac (ZombiesLoli)\n",
        "Truck racer simulator free\n",
        "Callend Vibrate\n",
        "\ud3c9\uc0dd \ubb34\ub8cc \uc601\uc5b4 \ub3d9\uc601\uc0c1 \uac15\uc758 \ud2b8\uc704\uc2a4\ud130TV\n",
        "\ub9e4\ub2ec 10\ub9cc\uc6d0 \uc808\uc57d\ud558\uae30 - \uad6d\ubbfc\ucfe0\ud3f0\n",
        "\ud55c\uc6b0 \ub9db\uc9d1 \ucc3e\uae30\n",
        "\uc2a4\ud3ec\uce20\uc870\uc120 \ud504\ub85c\ub18d\uad6c LIVE\n",
        "LED \ud558\ud2b8-\ubc30\ud130\ub9ac\uc704\uc82f\n",
        "\uc704\uc82f-\uc131\uacf5 \uba85\uc5b8 Free\n",
        "\ub2e4\uad6d\uc5b4\ud68c\ud654 - 11\uac1c\uad6d\n",
        "\ub3c8\ubc84\ub294 \uc5b4\ud50c \ucd94\ucc9c - \ub3c8\ubc84\ub294 \ub3d9\uc601\uc0c1 \uc571\n",
        "\uc624\ub9c8\uc774\ud150\ud2b8(580\uac1c \ucea0\ud551\uc7a5 \uc815\ubcf4)\n",
        "\uc774\ud654\uc5ec\uc790\ub300\ud559\uad50\n",
        "\ud544\uc218 \uc601\uc5b4\ub2e8\uc5b4\ud034\uc988 2700 (\uc601\ub2e8\ud034)\n",
        "Eden - World Builder Guide\n",
        "TrOASIS ( \uace0\uc18d\ub3c4\ub85c \uc6b4\ud589\uc815\ubcf4 )\n",
        "\ubb34\uc0ad\uc81c \uc601\uc0c1 \uc5ec\ud0d5\ub9de\uace0\n",
        "\ubaac\uc2a4\ud130\uc5e0\ud30c\uc774\uc5b4\n",
        "LG Uplus \uc2a4\ub9c8\ud2b8070, joyn \uc5f0\ub3d9 \uc9c0\ub3c4\n",
        "\ud074\ub9ac\ud504 \ub2e4\uc774\ube59 3D \ubb34\ub8cc\n",
        "\u2605NEW\u2605 2013 \ud504\ub85c\uc57c\uad6c \ub4dc\ub9bc\ub098\uc778 for Kakao\n",
        "Infectonator\n",
        "School Bus License\n",
        "\ub9d0\ud558\ub294 \uac15\uc544\uc9c0 \ub4c0\ud06c\n",
        "KG Dogfighting\n",
        "Truck Fuel Eco Driving\n",
        "Gangster Life\n",
        "\u4e09\u570b\u82f1\u96c4\u50b3\n",
        "\ud0c0\uc774\ub2c8\ud31c \ub77c\uc774\ube0c \uc6d4\ud398\uc774\ud37c\n",
        "[\ucd5c\uc800\uac00\ud560\uc778]\uc5b4\ub9b0\uc774 \ub3d9\uc694 \ubca0\uc2a4\ud2b8 50\n",
        "Drag Racing Lite Tunes\n",
        "Assault Force: Zombie Mission\n",
        "\u2605\ubb34\ud55c\uc758 \ud0d0\uc815\u2605 \ucd94\ub9ac\uac8c\uc784\ub300\uc791(\uccb4\ud5d8\ud310)\n",
        "Subs vs Ships 3D\n",
        "Fish Adventure ( Fish Frenzy )\n",
        "\uc575\uadf8\ub9ac\ub2cc\uc790 \ub2e4\uc774\uc5b4\ud2b8\n",
        "Iron Jack\n",
        "Doodle God\u2122 F2P\n",
        "\uce74\uc624\uc2a4\ubca0\uc778SE for Kakao\n",
        "\uc7a1\ucd08 \ud30c\uba38\n",
        "Delicious-Emilys Taste of Fame\n",
        "Snail Mail for Android\n",
        "Gem Miner 2\n",
        "Fruit Ninja THD\n",
        "Pocket RPG\n",
        "AGENT:SHOOTER (AD-Free)\n",
        "[\uc5ec\ud589\uc5711\uc704] TS \ud68c\ud654 \ubc88\uc5ed\uae30 [\uc720\ub7fd]\n",
        "\ubc30\ub2ec\ub9db\uc9d1\uc5ec\ud589\uc219\ubc15 - \ud604\uae08\uc0ac\ub0e5\ud130 - \uc544\uc774\ub85c\uceec\n",
        "Seven Stars 3D\n",
        "\u2605\ubb34\ud55c\uc758 \ud0d0\uc815\u2605 \ucd94\ub9ac\uac8c\uc784\ub300\uc791\n",
        "\ud06c\ub9ac\uc2a4\ud2f0\uc544\ub204 \ud638\ub0a0\ub450 \ubc30\uacbd \ud654\uba74\n",
        "\ub4dc\ub798\uace4 \ubcfc \ub808\uc774\ub354 \ubb34\ub8cc\n",
        "\ub9ac\uc5bc \ub4dc\ub7fc\n",
        "Game Dev Story Lite\n",
        "\uc880\ube44 \ube14\ub7ed\n",
        "CRC Pro-Cycling\n",
        "\ud1a0\uc775\uace0\uc218 LC\n",
        "Jewels\n",
        "\ubbf8\uc2a4\ud130\ub9ac \uc544\uc77c\ub79c\ub4dc \ud558\ub984\uc2e0\uc758 \uc800\uc8fc (Mystery)\n",
        "Glutton - Ice Cream\n",
        "Tiny Tribe\n",
        "Furdiburb\n",
        "Santa's Village\n",
        "\uac70\uce68\uc5c6\ub294 \ud3ad\uadc4\n",
        "Hot Springs Story Lite\n",
        "\ub4dc\ub7fc\n",
        "\ud3ab \uce74\ud398\n",
        "\ucee4\ud50c \uc139\uc2a4 \uac8c\uc784\n",
        "\ubc84\uadf8 \ube4c\ub9ac\uc9c0\n",
        "old offender|Escape from jail\n",
        "\uc7ac\ud32c \ub77c\uc774\ud504\n",
        "\uc2a4\ud29c\uc5b4\ub514\uc2a4\ud0c0\uc774\ucfe42\n",
        "NBA Jeremy\n",
        "Caveman's Prophecy\n",
        "Fluff Friends Rescue TM\n",
        "Magic Academy 2: mystery tower\n",
        "\uc2a4\ud0c0\ud3ab\ub18d\uc7a5 - \uc11c\ub9ac\uc758 \uc720\ud639 (\uc2a4\ud0c0\ud3ab Season 2)\n",
        "LandGrabbers: Strategy Game\n",
        "[\uc624\ube60 \ubbff\uc9c0?] \uc5ec\uce5c\uacfc 1\ubc152\uc77c\n",
        "\u5927\u8001\u4e8c \u795e\u4f86\u4e5f\u5927\u80012\n",
        "Spades!\n",
        "\uc544\uc624\uc774\uc18c\ub77c\uc640 \uc740\ubc00\ud55c \ub9de\uace0\n",
        "Legend of the Cryptids\n",
        "\ubbf8\uc18c\ub140\ub9de\uace03 [\uae08\ubc1c\uc758\ubbf8\uc18c\ub140\ud3b8]\n",
        "\ub85c\uc584\ud3ec\ucee4:\ub9e4\ub2c8\uc800A\n",
        "Coin Machine\n",
        "NFS 3D\ub294 \uc18c\ub9ac\n",
        "\uc554\uae30\uc655 \uc601\ub2e8\uc5b4\n",
        "Metal Defense\n",
        "\uc8fd\uc74c\uc758 \uc18d\ub3c4 \uacbd\uc8fc\n",
        "Kart Racing 3D\n",
        "Cuki HD Live Wallpaper\n",
        "KBS World\n",
        "GF\uc544\uc2a4\ud53c\ub9b0 FlipFont\n",
        "Alpine Boarder Lite\n",
        "\ub300\ud55c\ubbfc\uad6d\ub9db\uc9d1\n",
        "U+Box \uac00\uc871\uc568\ubc94 - for Phone\n",
        "Rhythm Racer 2\n",
        "\uc815\uae00\uc758 \uc0ac\uba85\n",
        "Fly Air India\n",
        "Light Racer 3D\n",
        "[\ubb50\uba39\uc9c0?] \uacf5\uc2dd\ucd94\ucc9c \uc804\uad6d\ub9db\uc9d1!!\n",
        "\ud658\ud0c0\uc9c0 \ub4dc\ub798\uace4 \uac8c\uc784 \uac24\ub7ec\ub9ac\n",
        "ak47 \ucd1d\uc18c\ub9ac \uc0ac\uc6b4\ub4dc\n",
        "ZooMoney(\uc8fc\uba38\ub2c8)\n",
        "\ub2e4\ud568\uaed8 Sexy\ud3ab \uae38\ub4e4\uc774\uae30 [19\uae08 \uc131\uc778]\n",
        "\ud0f1\ud06c \uc628\ub77c\uc778 (ARM6)\n",
        "Sushi Slash\n",
        "\uc804\uc7c1\uc758 \uc2dc\ub300\n",
        "Run Like Hell! YETI EDITION\n",
        "Puppet War:FPS ep.1\n",
        "Heroes Call\n",
        "\uc0bc\uad6d\uc9c0\uc601\uc6c5\ub300\uc804\n",
        "Spike Masters Volleyball\n",
        "Street Basketball Hoopz\n",
        "Real Color Lighter\n",
        "\uae30\ucc28 \uac8c\uc784\uc744 \uc77c\uce58\n",
        "BLAZING STAR\n",
        "Touch Racing Nitro\n",
        "Trainz Driver\n",
        "\uc81c\ub178\ub2c8\uc544 PLUS\n",
        "Hot Springs Story\n",
        "Majesty: Northern Expansion\n",
        "Pocket God\u2122\n",
        "\ud0c8\ucd9c \uac8c\uc784 \u201c\ub208\ubb3c\uc758 \uc885\uc9c0\ubd80\u201d\n",
        "Earth And Legend\n",
        "VGBA - GameBoy (GBA) Emulator\n",
        "Myth Defense LF\n",
        "Monster Shooter: Lost Levels\n",
        "The Sims\u2122 3\n",
        "Train Crisis HD\n",
        "Puffle Launch\n",
        "\uce74\ud230 \ub514\ud39c\uc2a4 2\n",
        "Reckless Racing HD\n",
        "Reckless Racing\n",
        "Captain America\n",
        "MASS EFFECT\u2122 INFILTRATOR\n",
        "Townsmen Premium\n",
        "Farm Frenzy 3 (\uc88c\ucda9\uc6b0\ub3cc \ubaa9\uc7a5\uc774\uc57c\uae303)\n",
        "Real Racing 2\n",
        "F-Sim Space Shuttle\n",
        "NEED FOR SPEED\u2122 Shift\n",
        "Adventure of Ted 2 - Free\n",
        "\ub81b\uce20\ube44\ub3c5(Let's be dog) \uac15\uc544\uc9c0 \ud0a4\uc6b0\uae30, \uc560\uacac\n",
        "\ud130\uce58\ubbf9\uc2a42\n",
        "\uc6b0\uc8fc \uc2dd\ubbfc\uc9c0\n",
        "\ub9c8\uc774\ucd08\uc774\uc2a4[MyChoice]\u2605\ud310\ud0c0\uc9c0\u2605\n",
        "\uc544\ucfe0\uc544\uc2a4\ud1a0\ub9ac\n",
        "Helicopter & Plane Builder 3D\n",
        "Absolute Bingo\n",
        "Gangstar Rio Free!\n",
        "DM \uc74c\uc545 \ub2e4\uc6b4\ub85c\ub4dc\n",
        "No-frills CPU Control\n",
        "\uc218\ud559\uc758 \ubc84\ube14\n",
        "Slots of Fortune- Slot Machine\n",
        "\ud1a0\ub9c8\ud1a0 \ud1a0\uc775 \ubcf4\uce74\uce69\n",
        "Xem Phim\n",
        "Vitamio Plugin ARMv7\n",
        "CARdex3 - \uc790\ub3d9\ucc28 \uc571\uc758 \uc9c0\uc874\n",
        "3D \ud53c\uc26c \ub77c\uc774\ube0c \ubcbd\uc9c0\n",
        "\ud06c\ub808\uc774\uc9c0 \uc62c\ub4dc\ub9e8\n",
        "\u2665\ub0a8\ub294 \ubb38\uc790&\uc804\ud654\ub85c \ub3c8\ubc84\ub294\uc571!\u2013\uc544\uc774\ub7ec\ube0c\ucf54\uc778(\uc774\ubca4\ud2b8\uc911)\n",
        "Decolar.com Hot\u00e9is e Voos\n",
        "Shoot Bubble\n",
        "\u062d\u062f\u064a\u0642\u0629 \u0627\u0644\u062d\u0631\u0648\u0641\n",
        "\ubcf4\uc11d \ud018\uc2a4\ud2b8\n",
        "\uba54\uc774\ud06c\uc5c5\uc758 \uc190\ud1b1\n",
        "Animals\n",
        "Camera 3D (Beta)\n",
        "Fortress Under Siege\n",
        "\uc0dd \uae30\ucd08 \uc601\ub2e8\uc5b4 [\ubaa8\ubc14\uc77c\uc6cc\ud06c\ub7a9]\n",
        "\uc18c\ub9842\n",
        "\ube60\ub978 \ubaa8\ud1a0 \ub808\uc774\uc2f1\n",
        "Bottle Crash\n",
        "Scotiabank Mobile Banking\n",
        "\uae08\uc774 \ud654\uba74\n",
        "Video Player (AVI FLV WMV ...)\n",
        "\ub9c8\uc6b4\ud2b8 \uc131\uc7a5\n",
        "Lycan Dash\n",
        "ZSKY GO Locker weather Theme\n",
        "\uc591\uad81 \uc120\uc218\uad8c \ub300\ud68c\n",
        "Candy Pop - Addictive Match 3\n",
        "\uc288\ud37c \ub514\ubc14 \uc190\ud1b1\n",
        "Buddy Rush\n",
        "ezTAG ( ETC \u570b\u9053\u6536\u8cbb\u9918\u984d\u67e5\u8a62 )\n",
        "Messi\n",
        "Gun Disassembly 2\n",
        "BlueLight Clock Widget\n",
        "RealCalc Plus\n",
        "TV Streaming\n",
        "FunCam Retro Edition\n",
        "Natural Frame Photo\n",
        "\uc11c\uce58\uc720-\uc2e4\uc2dc\uac04\uc704\uce58\uac80\uc0c9\n",
        "L'Equipe.fr\n",
        "\ucc28\uc774\ub97c \ucc3e\uae30\n",
        "Hungry Santa\n",
        "Classic Jewels\n",
        "Color Sticker\n",
        "\ubc18\uc57c\uc2ec\uacbd, Heart Sutra\n",
        "Bubble Star\n",
        "Super Jump\n",
        "IMI \ub370\uc800\ud2b8 \uc774\uae00\n",
        "\uc6d0\uad11\ub300\ud559\uad50\n",
        "Advanced Scientific Calculator\n",
        "Leave Devil Alone\n",
        "\ub3c5\uc77c\uc5b4 \ud68c\ud654 \ub9c8\uc2a4\ud130\n",
        "\uc774\ubbf8\uc9c0 \uac80\uc0c9\n",
        "\uc560\ub4dc\ubc14\uc774\ubbf8 \ud50c\ub808\uc774 - \uc601\uc0c1\uc744 \uacf5\uc720\ud558\uace0 \uc218\uc775\uc744 \uc62c\ub9ac\uc138\uc694.\n",
        "\ub77c\uc774\ube0c\uc2a4\ud0c0\n",
        "\ud53c\uc790\uc5d0\ub545\n",
        "MIUI v4 \uce74\uce74\uc624\ud1a1 \ud14c\ub9c8\n",
        "\uc54c\ub78c \uc2dc\uacc4 \ubc00\ub808\ub2c8\uc5c4 \ubb34\ub8cc (Alarm Clock)\n",
        "CrazyMachines GoldenGears Lite\n",
        "BattleField 3 (Unofficial app)\n",
        "Anti Furto Droid FREE - SMS\n",
        "\ubaac\uc2a4\ud130 \ud558\uc774 \uc778\ud615\uc744 \uadf8\ub9bd\ub2c8\ub2e4\n",
        "Dark Area 3\n",
        "\uc911\uac04 \ubaa8\ubc1c\uc744\uc704\ud55c \uc2a4\ud0c0\uc77c\n",
        "\ubc84\uc2a4 \uc810\ud37c (\uad11\uace0 \ubb34\ub8cc)\n",
        "BusTracker Taipei\n",
        "Telefe\n",
        "\uc624\ub378\ub85c Pro\n",
        "L'impiccato\n",
        "Bubble Witch Saga Fan Guide\n",
        "NH\uae30\uc5c5\uc2a4\ub9c8\ud2b8\ubc45\ud0b9\n",
        "\u3082\u3075\u732b\u3002-Mofu Cats-\n",
        "\ud0a4\ub9c8\uc758\uc804\uc124\n",
        "\uadf8\ub9bc 'O'\uc2a4\ucf00\uce58\n",
        "Dress Up! Summer Fashion\n",
        "Camera Fun Pro\n",
        "\uc0ac\uae30(\uad11\uace0)\uc804\ud654\ucc28\ub2e8\n",
        "Multiplayer Games: Action\n",
        "Fusion Music Player\n",
        "Keep Upwards\n",
        "Fishing HD Lite\n",
        "Tiny Station\n",
        "[\ud5ec\ub85c\ucf54\ucf54\ubabd] \uc601\uc5b4\uc728\ub3d9\ub3d9\uc694 2\ud0c4\n",
        "\uc9c0\ubb38 \uc778\uc2dd \uc7a0\uae08\n",
        "Swype Trial\n",
        "\uc81c\ub178\ub2c8\uc5445 \uacf5\uc2dd\ucee4\ubba4\ub2c8\ud2f0 \ud5dd\uadf8\ub9ac\uc571\n",
        "[\uc804\ud3b8\ubb34\ub8cc]\uc120\ubb3c\ud321\ud321 \ub0b4\uce5c\uad6c\ud638\ube44 by ToMoKiDS\n",
        "\uc11c\uc6b8\uc2dc \uc138\uae08\ub0a9\ubd80\n",
        "PhotoMagazine\n",
        "iPlasticSurgeon Free\n",
        "3D Compass (AR Compass)\n",
        "TV Futbol\n",
        "Serve that Caviar!\n",
        "Arena Legends (Tegra 2)\n",
        "I'm Striker\n",
        "Emoticons Tool\n",
        "beIN SPORT\n",
        "FIFA 12 Free Game\n",
        "Music Download Ocean\n",
        "Yahoo! \u5373\u6642\u982d\u689d\n",
        "\u010cSFD.cz\n",
        "Vegas Life\n",
        "\u0418\u043d\u0442\u0443\u0438\u0446\u0438\u044f \u043d\u0430 \u0422\u041d\u0422 Free\n",
        "Kawaii \ubc30\ud130\ub9ac\n",
        "Tiny Santa - Xmas Hills\n",
        "App Logo Quiz Game\n",
        "\ub9d0 \ubca0\ud305\n",
        "Baby Moving bubbles\n",
        "Domino's Pizza USA\n",
        "Open Video Player\n",
        "minecraft \ubc30\uacbd \ud654\uba74\n",
        "One Epic Game\n",
        "Web of Cam Internet Edition\n",
        "\uc6b4\uba85\uc758 \ud074\ub79c\ubc30\ud2c0\n",
        "Parallel Kingdom MMO\n",
        "\uac00\ub78c\uae38 \ub530\ub77c \ub3c4\ubcf4\uc5ec\ud589\n",
        "\uc5ec\uc790\ub294\ubaa8\ub974\ub294\ubd88\ud3b8\ud55c\uc9c4\uc2e4\n",
        "Gemist!\n",
        "Google Street View Instant\n",
        "Tabloid PULSA\n",
        "My Verizon Mobile Galaxy Nexus\n",
        "\u0414\u0435\u0442\u0441\u043a\u0438\u0435 \u043f\u0435\u0441\u043d\u0438\n",
        "Samsung Media Hub\n",
        "MobileBoy (Lite)\n",
        "\u53f0\u7063\u5927\u54e5\u5927 match\u65b0\u805e\n",
        "100 Cells\n",
        "\u041a\u0430\u043c\u0430\u0441\u0443\u0442\u0440\u0430\n",
        "batman\n",
        "MinecraftWiki.net\n",
        "The Smurfs Puzzle (3 modes)\n",
        "ICEE Maker\n",
        "APPvisor\n",
        "AES Detector\n",
        "Virtual City\n",
        "L'\u00c9quipe.fr Tab\n",
        "VLC HD Remote (+ Stream)\n",
        "Music Download Monster\n",
        "\ubbf8\uc18c\ub140 \ubc97\uae30\uae30 [19+]\n",
        "Finger Ninjas: Zombie Stri ...\n",
        "\ubb34\ub8cc \uc778\uae30 \ubca8\uc18c\ub9ac\n",
        "\ud798\uc5d0 \uaca8\uc6b4\n",
        "GO Locker Santa Claus Theme\n",
        "Booster FREE - Task Killer\n",
        "\uc8fc\uc2dd\uc5d0 \ub300\ud55c \uc0ac\ub791\n",
        "Wifi Password Hacker\n",
        "[\uc778\uae30] 1\uc2dc\uac04\uc5d0 1\ubc88\uc529 \uacf5\uc9dc\uc120\ubb3c, \uc5d0\uadf8\ub610 (\ub3c8\ubc84\ub294\uc571)\n",
        "Google Wallet\n",
        "Mon Budget\n",
        "\uc139\uc2dc\ud55c \ubbf8\ub4dc \ub098\uc774\ud2b8 \ud480 : BEST GAME\n",
        "Horse Stable Tycoon  Demo\n",
        "Tamago 2013\n",
        "Poji\u0161\u0165ovna\n",
        "\ube14\ub799\ub77c\ubca8 \ub3c4\ub3cc\ub7f0\ucc98\ud14c\ub9c8\n",
        "Street Sniper\n",
        "\uae00\ub85c \ud398\uc778\ud2b8 Glow Paint\n",
        "Princess Memory Game\n",
        "\ubc15\uba78\uae30 \ud0dc\uc2a4\ud06c \ud0ac\ub7ec\n",
        "[19\uae08]\ud788\ud504\ub9e4\ub2c8\uc544 \ud130\uce58 \ud56b\uac78\n",
        "Maximum Muscle Workout\n",
        "\u5927\u5bcc\u7fc14fun!\n",
        "ucloud mobile (\uc720\ud074\ub77c\uc6b0\ub4dc)\n",
        "Scrabble LeopardSoft\n",
        "Android \uc6a9 MP4 \ud50c\ub808\uc774\uc5b4\n",
        "SWAT Striker\n",
        "\u0647\u0648\u0627\u062a\u0641\n",
        "My Qibla\n",
        "\ubc30\ud130\ub9ac\ub97c \ub450 \ubc88\n",
        "Mechanical Zuma\n",
        "\uc0ac\uc6b4\ub4dc \ubbf8\ud130 / \uc18c\uc74c \ud0d0\uc9c0\uae30 dB\n",
        "My Country: Sports Edition\n",
        "S-GUARD (\uc2a4\ubbf8\uc2f1 \uac00\ub4dc) - \uc2a4\ub9c8\ud2b8\ud3f0 \ud574\ud0b9 \ubc29\uc9c0\n",
        "\u0e04\u0e33\u0e19\u0e27\u0e19\u0e1c\u0e48\u0e2d\u0e19\u0e23\u0e16 (\u0e42\u0e1b\u0e23\u0e42\u0e21\u0e0a\u0e31\u0e48\u0e19\u0e23\u0e16)\n",
        "\u770b\u96dc\u8a8c\n",
        "Sitecom Media Controller\n",
        "Pocket DJ Vintage FREE\n",
        "Annoying Orange: Carnage Free\n",
        "La Que Se Avecina Quiz - LQSA\n",
        "Flaming 7s Slot Machine\n",
        "\u81f3\u5c0a\u9ebb\u5c07\u738b (\u55ae\u6a5f\u7248 Mahjong)\n",
        "Fish Frenzy\n",
        "FlightTrack\n",
        "\u723d\u5831\u9999\u6e2f\n",
        "iColoring Star\n",
        "\ub9e4\uc9c1 \ub9ac\ud50c : \uadc0\uc5ec\uc6b4 \ub3cc\uace0\ub798\n",
        "Finger Paint\n",
        "\uae00\uaf34 FlipFont\n",
        "Talking Mouse ( free )\n",
        "sexy \uc637\ubc97\uae30\uae30 \uc139\uc2a4 \uc81c\ub85c\uac8c\uc784\n",
        "MixMovies - \ubb34\ub8cc \uc601\ud654\n",
        "\uc5d0\ub85c\ubc30\uc6b0O\uc591 \ubab0\uce74\ub9de\uace0\n",
        "\uc8fc\ucc28 \uc790\ub3d9\ucc28 HD\n",
        "Tom And Jerry Cartoon Video\n",
        "Direct Player\n",
        "\uacfc\uc77c \uba54\ubaa8\ub9ac \uac8c\uc784\n",
        "Porsche Parking\n",
        "Meteor (Po\u010das\u00ed) \u00bb Aladin\n",
        "Slots Tycoon\n",
        "Bridge The Train- Flow Free\n",
        "\u6fb3\u9580\u624b\u6a5f\u5831\u7d19\n",
        "\uce69\uc2a4\n",
        "RTL Nieuws\n",
        "\uc139\uc2dc\ud55c \ud37c\uc990\n",
        "\ub2e4\ub098\uc640\n",
        "\ub79c\ub364\ucc44\ud305[\ub0af\uc120\uc774\uc640\uc758\ub300\ud654]\n",
        "\ubaa8\ubc14\uc77c\ud2f0\uba38\ub2c8(KT\uc0ac\uc6a9\uc790\uc6a9)\n",
        "LightCycle Battle 3D\n",
        "Google \ub4dc\ub77c\uc774\ube0c\n",
        "Bingo LIVE!\n",
        "\u0627\u0644\u0642\u0627\u0645\u0648\u0633 \u0627\u0644\u0639\u0631\u0628\u064a (\u0639\u0631\u0628\u064a-\u0627\u0646\u062c\u0644\u064a\u0632\u064a)\n",
        "Google Voice\n",
        "\uc774\ubbf8\uc9c0\ud569\uc131\ub180\uc774\n",
        "\uac10\uc9c0\uae30 \ud504\ub85c \ub204\uc6cc\n",
        "Talking Putin\n",
        "First Aid\n",
        "Photo Painter Free\n",
        "GO Launcher Fonts\n",
        "Free Fighter 1998(Free/No ads)\n",
        "Flick Kick Rugby Kickoff\n",
        "Windows Phone 7 Launcher free\n",
        "\ud604\uae08\uc8fc\ub294 \ud589\uc6b4\ubc30\ub2ec\n",
        "Things That Go! - Toddler Cars\n",
        "Google \uc138\uc0c1\ubcf4\uae30\n",
        "\uc544\ud2f0\uc2a4\ud2b8\uc758 \ub514\uc790\uc778\uc744 \uc7a1\uc744\n",
        "\uc62c\ub808tv now for Tablet\n",
        "\u661f\u57ceOnline-\u842c\u4eba\u7dda\u4e0a\u904a\u85dd\u9928\n",
        "\u0410\u0439\u0414\u0430\u041f\u0440\u0438\u043a\u043e\u043b :)\n",
        "GO SMS Pro MORA Theme\n",
        "\u9053\u5177\u5c4b\u3068\u9b54\u738b\n",
        "Unify: \ub2e8\uc704 \ubcc0\ud658\uae30\n",
        "\uc1fc\ud551 \ubaa9\ub85d\n",
        "\ub514\ud39c\uc2a4\ud0c0SE\n",
        "Car Matcher\n",
        "SCB EASY for Tablet\n",
        "Ebooks.in.th\n",
        "\ub9e4\uc9c1 \ub9ac\ud50c : \ubb3c\uc5d0 \ub3cc\n",
        "\ube45\ubc45 \uc170\uc774\ud06c\n",
        "\ubb3c\uc758 \ube44\ub9d0 \ub77c\uc774\ube0c \ubc30\uacbd\ud654\uba74\n",
        "\u0e1b\u0e23\u0e30\u0e21\u0e27\u0e25\u0e01\u0e0e\u0e2b\u0e21\u0e32\u0e22\u0e41\u0e1e\u0e48\u0e07\u0e41\u0e25\u0e30\u0e1e\u0e32\u0e13\u0e34\u0e0a\u0e22\u0e4c\n",
        "Panduan Solat Jamak Qasar\n",
        "Speed Hiker\n",
        "\u8fc5\u96f7\u770b\u770bfor android\u624b\u673a\n",
        "BMX Street Stunt\n",
        "\uc81c\ub178\ub2c8\uc544 LITE\n",
        "Hotels.com \uc5d0\uc11c \ud638\ud154 \uac80\uc0c9 \ubc0f \ud638\ud154 \uc608\uc57d\n",
        "Woordzoeker nederlands\n",
        "SE-ED\n",
        "SatFinder\n",
        "\uc778\uc2a4\ud134\ud2b8 \ucf5c\ub77c\uc8fc\n",
        "\u958b\u5fc3\u8fb2\u5834\n",
        "\ucd08\ucf54 \ud788\uc5b4\ub85c (Chocohero)\n",
        "\uce58\ud0a8\ub808\ubcfc\ub8e8\uc158\n",
        "\uadf8\ub808\uc774\ud2b8\uc758 H\u200b\u200bD \ubc30\uacbd \ud654\uba74\n",
        "TapeMachine Recorder\n",
        "Autogyro 1935 Flying Game ST\n",
        "77000 recettes de cuisine\n",
        "[\ubb34\ub8cc\ub9cc\ud654]\ub3c4\uc2dc\uc815\ubc8c \uc2e0\ud615\ube48\ubb34\ud611\n",
        "\ud14c\uc77c\uc988\ub7f0\ub108 \ud1b5\ud569 \ubaa8\uc74c\uc9d1\n",
        "Fire Boy and Water Girl 2\n",
        "Quora\n",
        "\uc544\uae30\uacf5\ub8e1 Dragon Rush Pro\n",
        "Insta Cartoon Photo\n",
        "Photo Image Editor - Photoshop\n",
        "\uc62c\ub808\ud1a1-\uce74\ud398\uc640 \ud1a1! \ubaa8\ubc14\uc77c \uce74\ud398\n",
        "ICS Phase Beam Live Wallpaper\n",
        "Pirate Bubble Blast\n",
        "Network Speed\n",
        "KNY\u53f0\u7063\u90f5\u905e\u5340\u865fFree\n",
        "\uc544\ucfe0\uc544\ube4c\ub9ac\uc9c0 for Kakao\n",
        "Defend The Bunker\n",
        "\ub819\uc5c5\ub9cc\uc774\uc0b4\uae383\n",
        "Smart Wallet_\ubaa8\ubc14\uc77c\uc9c0\uac11(\uba64\ubc84\uc2ed/\ucfe0\ud3f0/\uc774\ubca4\ud2b8)\n",
        "Red Bull Urban Futbol\n",
        "Your Text LW PRO\n",
        "joyn\n",
        "\uc5d0\ud53d\ud558\uce20\n",
        "\ud608\uc561 \ubc0f \uba85\uc608 - \uc601\uad11 \uc804\uc7c1 RPG\n",
        "\ub9c8\ub9ac\uc624 \uac8c\uc784 \ubc30\uacbd \ud654\uba74 HD\n",
        "Octopus Balance Reader\n",
        "Turbo Downloader\n",
        "Pigeoncraft\n",
        "\uac10\uc790 \ubc29\uc5b4\n",
        "KTV\u5427\n",
        "CNN\ub274\uc2a4\uccad\ucde8\n",
        "Network Signal Speed Booster \u2605\n",
        "\u958b\u5fc3\u77e5\u8b58\u554f\u7b54\n",
        "\ud55c\ubc24\uc911\uc758 \ud574\ubcc0 \ub77c\uc774\ube0c \ubc30\uacbd \ud654\uba74\n",
        "\u0627\u062c\u0645\u0644 100 \u0628\u064a\u062a \u0634\u0639\u0631 \u0641\u064a \u0627\u0644\u062d\u0628\n",
        "White Day GO Reward Theme\n",
        "Sketch Pad HD (Draw Something)\n",
        "\ud310\ud0c0\uc9c0\uce74 (Fantasica)\n",
        "Real Sex Positions\n",
        "Archos Remote Control\n",
        "Police Cars\n",
        "\u64bf\u7d05\u9ede\n",
        "Archos System Monitor (TI)\n",
        "\uc789\uc5b4 HD \ub77c\uc774\ube0c \ubc30\uacbd \ud654\uba74\n",
        "PicFrame\n",
        "K-Touch : Masked Rider Decade\n",
        "TV Listings for Android TV24\n",
        "Grow\n",
        "Photo Roulette Widget\n",
        "\ud0c0\ub85c\n",
        "\ud2f0\uc544\ub77c \uc170\uc774\ud06c\n",
        "Wipeout\n",
        "Labyrinth 2 Lite\n",
        "iMadeFace Free Fan\n",
        "Gods Wars Free\n",
        "De Telegraaf\n",
        "\uc720\uc544\ud0b9-\uc704\uce58\uae30\ubc18 \ud765\uc815\ucee4\uba38\uc2a4\n",
        "\uc6d0\ud130\uce58 \ud50c\ub808\uc774 (\ubaa8\ubc14\uc77c)\n",
        "\u6df7\u6c8c\u6b66\u8005\n",
        "\ub9c8\ub2e4\uac00\uc2a4\uce74\ub974 \ud37c\uc990\n",
        "\uc880\ube44\ub4dc\ub77c\uc774\ube0c\n",
        "XFINITY TV\n",
        "\ud575\uc804\uc7c1 (Nuclear War)\n",
        "Ninja Versus Chicken\n",
        "\ub514\ud39c\uc2a4 \ud788\uc5b4\ub85c 2\n",
        "\uc139\uc2dc! MOSATSU DIY\uc758 \uc808\uac1c \ubdf0\ud2f0\n",
        "\u5feb\u64ad\u9ad8\u6e05\u5728\u7ebf\u5f71\u9662\n",
        "Russia TV Free\n",
        "\ubbf8\uce5c433 Lite\n",
        "Temple Run 2 Fan Free\n",
        "D-Grotto GO Locker Theme\n",
        "\ub0c9\ub3d9 \ucc3d\n",
        "Crazy monkey slot\n",
        "\ub0a8\uc790\ub294\ubaa8\ub974\ub294\ubd88\ud3b8\ud55c\uc9c4\uc2e4\n",
        "Photo Effects Plugin by Aviary\n",
        "\ub098\ub9cc\uc758 \uc601\uc5b4\ube44\ubc95\n",
        "\u62e1\u6563\u6027\u30df\u30ea\u30aa\u30f3\u30a2\u30fc\u30b5\u30fc\n",
        "SBS\ud3ec\ud2b8\ub9ac\uc2a4SE\n",
        "Japanese Vocabulary\n",
        "\u90a6\u59ae\u7684\u65e9\u5348\u9910\n",
        "Shayari (Hindi) - \u0936\u093e\u092f\u0930\u0940\n",
        "Transport Jigsaw Puzzles Free\n",
        "Midnight Basketball\n",
        "\ud0a5\uc787\uc544\uc6c3!\n",
        "Rugby Kicks\n",
        "Space Jump\n",
        "3D Super Bowling Free\n",
        "Pocket League Story Lite\n",
        "EURO 2012 Football/Soccer Game\n",
        "\ucd95\uad6c\ub97c \uc18d\uc774\ub2e4\n",
        "\ub098\ub294 \ud22c\uc218\ub2e4\n",
        "B.M.Snowboard Free\n",
        "Fifa 11 Tracker\n",
        "\uad6c\ub2e8 \ubaa8\ubc14\uc77c Mobile FC\n",
        "3D Hunting: Zombies Reloaded\n",
        "3d \ub18d\uad6c\n",
        "Super Soccer Caps\n",
        "Basketball Games - 3D Frenzy\n",
        "\uc2a4\ub9e4\uc2dc\ud321\ud321SE\n",
        "\ud1b1 \ubaa8\ub378: \uc2a4\ud3ec\uce20 \uc5d0\ub514\uc158\n",
        "[\uc9c0\uc774]\uacf0\ub2ec\ub9ac\uae30\n",
        "2012\ud504\ub85c\uc57c\uad6c KBO\n",
        "Zombie Wars\n",
        "Firefly Live Wallpaper\n",
        "Sexy Girl Puzzle\n",
        "Ghost Wars Pro\n",
        "\ubbf8\ub2c8 \uac8c\uc784 \ucfe0\ud0a4\n",
        "HotBeautyGirlPuzzleF\n",
        "Elements\n",
        "CrossWorlds: the Flying City\n",
        "\ubc84\ube14 \ube14\ub77c\uc2a4\ud2b8 \ubd80\ud65c\uc808 \uc2dc\uc98c\n",
        "Aporkalypse \ubb34\ub8cc\n",
        "SBS \ucd08\ud55c\uc9c0 \uc7a5\uae30\n",
        "Graffiti Ball\n",
        "HELP OUT - Blocks Game\n",
        "\uc561\uc158 \uc0ac\ucc9c\uc1312\n",
        "\uc810\ub530\ub77c\uadf8\ub9ac\uae30(Dot draw)\n",
        "\ubcf4\uc11d \ub9c1\ud06c \ub514\ub7ed\uc2a4\n",
        "\ud2c0\ub9b0\uadf8\ub9bc\ucc3e\uae30 !!!\n",
        "\uc0ac\uac01\uc0ac\uac01 \uacfc\uc77c\ubcf4\uc11d(Fruit Jewels)\uc2ec\uc2ec\ud480\uc774 \ud37c\uc990\n",
        "\uc11c\ub4e0\uc6a9\uc5b4\uc0ac\uc804(Sudden Vocab Dictionary\n",
        "\ud5ec\ub85c\ud0a4\ud2f0 \ubdf0\ud2f0 \uc0b4\ub871\n",
        "Letters from Nowhere 2\n",
        "\ub9c8\uc6b0\uc2a4 \ud53c\uc2f1\n",
        "\ud37c\uc990\ub3d9\ubb3c\ub18d\uc7a5\n",
        "sexy \uc5ec\uce5c \uc637\ubc97\uae30\uae30\n",
        "\ud5ec\ub85c\uce74\ud478\uce58\ub178 (Cappuccino Cafe)\n",
        "\ud130\uce58 \u2665 \uc0ac\ub791 \ub77c\uc774\ud2b8 \u2160\n",
        "\ud0c8\ucd9c \uac8c\uc784 \u201c\ubc31\uc124\uacf5\uc8fc\u201d\n",
        "\ucf5c\ub85c\uc138\uc6c0 \ud788\uc5b4\ub85c\uc988\n",
        "\uce58\uc988 \ud0c0\uc6cc Cheese Tower\n",
        "\ud53c\ub9dd \uc6cc\ud06c\ub77c\uc774\uc2dc\uc2a4 - WarCrisis by Pmang\n",
        "\uc5e0\ud30c\uc774\uc5b4 \uc6cc - \ud788\uc5b4\ub85c\uc988 \ub9ac\ud134\n",
        "\uc5d0\ub974\uc5d8\uc6cc\uc988\n",
        "\uc2a4\ub9c8\ud2b8 \uc0ac\ucc9c\uc131\n",
        "\ube14\ub85d\uad70\n",
        "\uba54\uc774\ub4dc \ud328\ub110\n",
        "\ubaa8 \ubaa8 \ucc28\ub2e8\n",
        "\ub3c4\uadf8\ud30c\uc774\ud2b8\n",
        "plane defense\n",
        "Empire War - Full Ver.\n",
        "\uc880\ube44\uc2dc\n",
        "\uad81\uadf9\uc801\uc778 \uc0ac\uba85\n",
        "Bao Viet Nam\n",
        "[shake] \ube44\uc2a4\ud2b8 \ub274\uc2a4\ubc30\uacbd\ud654\uba74 \ud14c\ub9c8 (\ub808\ub4dc)\n",
        "\u8ca1\u4f4d\u7f85\u76e4-\u8fb2\u6c11\u66c6\n",
        "Word Game\n",
        "[B] \uc880\ube44\uba54\ud2b8\ub85c \uc11c\uc6b8\n",
        "\u5927\u7b97\u547d\u7406\u516b\u5b57-\u86c7\u5e74\u3001\u6d41\u5e74\u3001\u611b\u60c5\u3001\u914d\u5c0d\u3001\u5de5\u4f5c\u3001\u8ca1\u904b\u3001\u958b\u904b\u3001\u5927\u7b97\n",
        "Wasalny\n",
        "\ud06c\ub9ac\ud2f0\uceec \ubbf8\uc158 SWAT\n",
        "Bikini Girls\n",
        "myfone\u8cfc\u7269\n",
        "Final Fighter\n",
        "\u611b\u53f0\u7063\u71c3\u71d2\u542713\u652f(\u55ae\u6a5f+\u9023\u7dda)\n",
        "\ub2e5\uce58\uace0 LED \uc190\uc804\ub4f1 - just.Light\n",
        "Subway Surf World Tips&Tricks+\n",
        "\u6211\u8981\u642c\u5bb6\n",
        "\u8d85\u516b\u6c34\u679c\u76e4\n",
        "Je weet nu\n",
        "Smart Tag\n",
        "hoppin(\ud638\ud540) - \ud0dc\ube14\ub9bf \ubc84\uc804\n",
        "Solitaire 3D HD\n",
        "LIVE STREAM VIEWER\n",
        "\uc6cc\ub4dc\uc5c5-\ud1a0\uc775 \ud544\uc218 \ubcf4\uce74 900 Level3\n",
        "\ud55c\uad6d\uc758 \ubb38\ud654\uc720\uc0b0\n",
        "27\uac00\uc9c0 \ub77c\uba74 \uc694\ub9ac\ubc95\n",
        "\uc870\ud61c\ub828\uc758 \ubc15\uc0b4\uc77c\ubcf8\uc5b4\n",
        "TV Series 2\n",
        "Free Mobile Movies and TV Live\n",
        "\uc62c\ub808\ubba4\uc9c1 - \ubb34\uc81c\ud55c \uc74c\uc545 \ub2e4\uc6b4\ub85c\ub4dc\n",
        "\ud55c\uad6d \ud504\ub85c \uc57c\uad6c (\uc911\uacc4, \uc751\uc6d0, \uc21c\uc704, \uae30\ub85d\uc2e4...)\n",
        "olleh \ub9c1\ud22c\uc720\n",
        "\ube44\ub204\ubc29\uc6b8\ubd80\ubd80\uc824\ub77c\n",
        "\ub77c\uba74119\n",
        "\uc62c\ub808 map\n",
        "Travel Bug\n",
        "Gridlock\n",
        "\ubc1c\ub80c\ud0c0\uc778 \ub370\uc774 2013 : 14\uac1c\uc758 \uc0ac\ub791\uc744 \ub2f4\uc740 \uc571\n",
        "Camera ZOOM FX Buddies Request\n",
        "Gangnam Style Song\n",
        "\u65c5\u884c\u53f0\u7063 Tour Taiwan\n",
        "Duke Nukem 3D\n",
        "Torrent Downloader\n",
        "WordReference \uc601-\ud55c \uc0ac\uc804\n",
        "GO\u684c\u9762EX\u4e2d\u6587\uff08\u9999\u6e2f\u7e41\u9ad4\uff09\u8a9e\u8a00\n",
        "Snowy Snow - Live Wallpaper\n",
        "iWatch DVR II\n",
        "\u516d\u5408\u5f69 Mark Six\n",
        "Analog  14 Clocks Widget Pack\n",
        "\ud654\uc7a5\uc2e4 \uc885\uc774 \ub808\uc774\uc2f1\n",
        "\u89c2\u5f71\u5927\u7247\n",
        "\u760b\u7f8e\u98df\n",
        "Channel TEN\n",
        "\u4e2d\u9280\u6d41\u52d5\u9280\u884c\n",
        "Nachos Maker\n",
        "\ubc29 \ud0c8\ucd9c \uac8c\uc784\n",
        "\ud654\uc7ac \uc190\n",
        "\uadf8\ub9ac\uae30 \ubc29\ubc95 : \uaf43\uc744\n",
        "Speed Detector EVO\n",
        "RSS Reader Pro\n",
        "WP : \ub9c8\uc778 \ud06c\ub798\ud504\ud2b8 \ubc30\uacbd \ud654\uba74 2\n",
        "Blue Blend Next Launcher 3D\n",
        "\ubc30\uacbd \ud654\uba74 \uac80\uc0c9 PRO\n",
        "Settings Pro - iPhone Style\n",
        "\uc815\uac01\uc54c\ub9ac\ubbf8\n",
        "Refresh App-Launcher\n",
        "\uc774\ud76c\uc7ac, \uc774\ubb38\uc5f4 \ub9cc\ud654 \uc0bc\uad6d\uc9c0\n",
        "Hungry shark 3\n",
        "Backup & Restore Everything\n",
        "Kids Jigsaw Puzzles Farm Free\n",
        "Act 1 Video Player\n",
        "Sharingan \ub77c\uc774\ube0c \ubc30\uacbd \ud654\uba74 HD\n",
        "Gold Wallpapers for Minecraft\n",
        "Big Waves at Sunrise Live HD\n",
        "\uac00\ub808\uc0b0\uc2a4\uc774 \ub77c\uc774\ube0c \ubc30\uacbd\ud654\uba74\n",
        "MonsterHood \ub77c\uc774\ube0c \ubc30\uacbd \ud654\uba74 \ud504\ub85c\n",
        "\u840c\u3048\u5929\u30a8\u30eb\u30d5\u30a7\u30f3\n",
        "Penguin Live Wallpaper\n",
        "\ubaa8\uc5d0 \ud558\ub298 \ub291\ub300\n",
        "Slot Machine live wallpaper\n",
        "\u30b7\u30e7\u30b3\u30e9 for ANeko\n",
        "Lord Buddha Live Wallpaper\n",
        "Asian Pretty Girls\n",
        "Beautiful Hot Girls\n",
        "\u0428\u0430\u0433\u0430\u0439\u043d \u043c\u044d\u0440\u0433\u044d\n",
        "\uc57c\uc6b0\ub9ac \uc2dc\ub124\ub9c8(YA WOO RI) - \uc601\ud654\uc2dc\uac04\ud45c\n",
        "NIV SinaiBible-A3\n",
        "\uac00\uc871 GPS \ud2b8\ub798\ucee4 \ud504\ub85c\n",
        "Office Communications Manual\n",
        "Ars Technica Design Group\n",
        "Pacinos Vol 2\n",
        "\ub108\uc758\ubaa9\uc18c\ub9ac\uac00\ub4e4\ub824 \ub2e4\uc2dc\ubcf4\uae30- \uac00\uc785\uc5c6\uc74c//TV\ub4dc\ub77c\ub9c8/\ubb34\ub8cc\n",
        "\uc9c4\uaca9\uc758\uac70\uc778 \ub2e4\uc2dc\ubcf4\uae30- \uac00\uc785\uc5c6\uc74c/\ubb34\ub8cc/\uc560\ub2c8 \ub2e4\uc2dc\ubcf4\uae30\n",
        "[MOVIE]19\uae08\ub3d9\uc601\uc0c1/\uc131\uc778\uc601\ud654AND\ub9dd\ub77c \ubaa8\uc74c\n",
        "\ub808\uace0\ud0a4\ub9c8\uc758 \uc804\uc124 \ub2e4\uc2dc\ubcf4\uae30 -(\ubb34\ub8cc\uc601\uc0c1 \uc2e4\uc2dc\uac04\uac10\uc0c1 \ub2e4\uc6b4)\n",
        "\ubabb\ub09c\uc774 \uc8fc\uc758\ubcf4 \ub2e4\uc2dc\ubcf4\uae30 - \uc2e4\uc2dc\uac04\uac10\uc0c1 \ubc0f \ub2e4\uc6b4 \ubb34\ub8cc\uc601\uc0c1\n",
        "\uc139\uc2dc\ud55c \uc5ec\uc790\uc758 \uc57c\ub3d9\uc0ac\uc774\ud2b8\n",
        "iPhoto\ub97c \ud50c\ub7ec\uc2a4\n",
        "Download Videos for FB VIP\n",
        "\ud130\ud0a4\uc5b4 \ud154\ub808\ube44\uc804\n",
        "Startup & Business Ideas\n",
        "Marketing Plan - New Customers\n",
        "[\uc57c!]\ub9cc\ud654\uc640 \uc7ac\ubc0c\ub294\uc57c\uc124\n",
        "Super sexy sexy puzzle\n",
        "\uc6d0\ud074\ub9ad \ucc28\uacc4\ubd80\n",
        "\uad6d\ub9bd\ub300\uc804\ud604\ucda9\uc6d0\n",
        "Grammar and Spelling Keyboard\n",
        "RFRSH - Refresh for Android\n",
        "Animation Studio\n",
        "cokcok \ucf55\ucf55 \uc6b0\ub9ac \ud568\uaed8 \ub180\uc790\n",
        "Champions Trophy-Live Cricket\n",
        "Champion Trophy 2013 Cricket\n",
        "Watch Cricket Live Stream\n",
        "Cricket Live\n",
        "Snowboard Trick List\n",
        "Calton Hill Golf GPS\n",
        "Waterpolo.nl (Donate)\n",
        "\ubaa8\ub450\uc758 \ubaa9\uc18c\ub9ac\n",
        "MN \ud480\uc78e\ud53c\ub9ac\u2122 \ud55c\uad6d\uc5b4 Flipfont\n",
        "AFT Jungle Recon Soundboard\n",
        "\ub3c5\ub3c4\uc571 - \ub3c5\ub3c4\ub294\uc6b0\ub9ac\ub545\n",
        "uTalk \uc544\uc81c\ub974\ubc14\uc774\uc794\uc5b4\n",
        "\uc77c\ubcf8 \uc139\uc2a4 \uc18c\ub9ac\n",
        "\ube44\ub2c8\uc758 \uc790\uc7a5\uac00\n",
        "\ud3ec\ub9e8 - \ub108 \ud558\ub098\uc57c (\uad6c\uac00\uc758\uc11c \ubca8\uc18c\ub9ac,\uceec\ub7ec\ub9c1)\n",
        "Builderz Imaginez Caustic 2.1\n",
        "\uce74\ud1a1+\ubb38\uc790\uc54c\ub9bc\ud3295-\u2606\uac1c\ucf58\u2606+@\n",
        "TV\ub97c\uaed0\ub124 - \ub9ac\uc30d [\ub208\ub178\ub798\ubc29]\n",
        "\ubca8\uc18c\ub9ac : \ub108 \ud558\ub098\uc57c (\uad6c\uac00\uc758 \uc11c OST) [\ud3ec\ub9e8]\n",
        "[MRAR\ub178\ub798\ubc29] \uadf8\ub7f0\uc0ac\ub78c\ub610\uc5c6\uc2b5\ub2c8\ub2e4 - \uc774\uc2b9\ucca0\n",
        "\uce74\ud1a1+\ubb38\uc790\uc54c\ub9bc\ud32911\n",
        "\ub208\ubb3c\uc774 \ub9ce\uc544\uc11c - \uc218\uc9c0(MissA)[\ub178\ub798\ubc29]\n",
        "First AID 500 Diseases\n",
        "EHA 18\n",
        "\ucc9c\uba85 \ubb34\ub8cc\ub2e4\uc2dc\ubcf4\uae30-\uac00\uc785\uc5c6\uc74c/\uc2e4\uc2dc\uac04\uac10\uc0c1/TV\uc624\ub77d\ub4dc\ub77c\ub9c8\n",
        "League of Legends Champions\n",
        "Optimus Battery Saver FREE\n",
        "Chinese Soup Recipe \u4e2d\u6e6f\u98df\u8b5c (\u96e2\u7dda\u7248)\n",
        "\ub178\ub798\ubc29 \ub3c4\uc6b0\ubbf8\n",
        "Ninja Run\n",
        "Le P'tit Bac\n",
        "\uc804\ud1b5 \uc18c\uc6d0 \uc131\ucde8 \ubd80\uc801\n",
        "\u53f0\u7063\u96e2\u7dda\u7f8e\u98df\u512a\u60e0\u5238\uff01(\u9ea5\u7576\u52de\u3001\u80af\u5fb7\u57fa\u3001\u6f22\u5821\u738b\u3001\u661f\u5df4\u514b)\n",
        "\uc911\uad6d \uc804\uccb4 \uc601\uc5b4\n",
        "\ucda4\ucd94\ub294 \uace0\uc591\uc774\n",
        "\uc6cc\ub4dc\uc5c5 \uc655\ucd08\ubcf4 \ud1a0\uc775\ubcf4\uce74 Level2\n",
        "\uc560\uc644 \ub3d9\ubb3c \uacf5\ub8e1 T-\ub809\uc2a4\n",
        "\u5e7b\u60f3\u7cbe\u9748 (\u53e3\u888b\u840c\u5bf5\u602a\u7378\u904a\u6232)\n",
        "2013 \u86c7\u5e74\u5341\u4e8c\u751f\u8096\u8fd0\u52bf\n",
        "iKala\u611b\u5361\u62c9: K\u6b4c\u9054\u4eba,\u6b61\u5531,KTV,karaoke\n",
        "myMusic(HD)\n",
        "\u7231\u58c1\u7eb8HD\n",
        "Tap Zoo: Santa's Quest\n",
        "Quiz French Departements\n",
        "EasyTravel\n",
        "SuperGNES (SNES \uc5d0\ubbac\ub808\uc774\ud130)\n",
        "Super Monkey Ball 2: Sakura Ed\n",
        "Strike Team 3D\n",
        "\u65c5\u904a! \u6211\u611b\u74b0\u5cf6\u81ea\u7531\u884c(\u860b\u679c\u65e5\u5831,Mobile01,\u89c0\u5149\u5c40)\n",
        "\ucee4\ub125\ud2b8\ub380 \ubd80\ud65c\uc808 \uc2dc\uc98c\n",
        "Shadow Era\n",
        "Running Fighter\n",
        "Robotek\n",
        "RPG Elemental Knights Online\n",
        "Push Roll (\ub864 \ubc00\uc5b4)\n",
        "Pocket Racing\n",
        "Papaya Farm 2011\n",
        "Pandas vs Ninjas\n",
        "My Paper Plane 3 (3D)\n",
        "Millionaire\n",
        "Marine Defender\n",
        "MONOPOLY\n",
        "Kpop \u97d3\u661f\u7db2\n",
        "Angry Frogs NoAds FULL\n",
        "HK Marksix\n",
        "Hot Black Guys - PuzzleBox\n",
        "StyleNote Notes & Memos\n",
        "Gangster Paradise\n",
        "\u5065\u5eb7\u5341\u842c\u500b\u70ba\u4ec0\u9ebc(\u7e41\u9ad4\u7248)- \u4f60\u96a8\u6642\u4e86\u89e3\u7684\u91ab\u5b78\u554f\u7b54\u5eab\n",
        "Catch the Eggs\n",
        "\ubc84\ube14 \uc288\ud130 \ud504\ub85c (HD)\n",
        "Dungeon Village\n",
        "Bike Striker\n",
        "\u5091\u514b\u8239\u9577slots gametower\n",
        "Cyber Knights RPG Elite\n",
        "Cup! Cup! Golf 3D!\n",
        "\ubcf4\ub77c\uc0c9 \ub098\ube44 \ub77c\uc774\ube0c \ubc30\uacbd\ud654\uba74\n",
        "Hami Music\n",
        "\ub0a8\uc740 \uc218\uba85 \ud14c\uc2a4\ud2b8\n",
        "\u6700\u5168\u7684\u751f\u65e5\u8a73\u89e3\u66f8- \u611b\u60c5/\u4e8b\u696d/\u5065\u5eb7/\u5e78\u904b\n",
        "Bubbles Touch\n",
        "Panda BBQ\n",
        "Bad Blood TCG\n",
        "Photo editor\n",
        "\u041c\u0443\u0437\u044b\u043a\u0430 \u0438 \u0442\u0435\u043a\u0441\u0442\u044b \u043f\u0435\u0441\u0435\u043d\n",
        "Alchemy Classic\n",
        "\u9748\u6a5f\u5999\u7b97-\u5360\u535c\u3001\u661f\u5ea7\u3001\u516b\u5b57\u3001\u7d2b\u5fae\u3001\u6c42\u7c3d\u3001\u5854\u7f85\u3001\u86c7\u5e74\u904b\u7a0b\u547d\u7406\n",
        "\u6700\u7f8e\u9aee\u578b\u7cbe\u9078\u5716\u89e3 - \u5316\u599d\u5fc5\u5099\n",
        "[\uc2a4\uce94\uc778\uc2dd]\ub85c\ub610\ub878\uc787\ub098\uc6b0-\ubb34\ub8cc\ud480\ubc84\uc804\n",
        "\ud478\uc6b0 \uc2ac\ub77c\uc774\ub4dc \uc1fc\ub97c \uc704\ub2c8\n",
        "Truth or Dare (Sexy)\n",
        "AE Slot Machine\n",
        "Yandex.Shell\n",
        "\uc544\uae30 \ud0d0\ud5d8\uac00 DEMO\n",
        "SFR Multisurf Modem\n",
        "518\u627e\u5de5\u4f5c\n",
        "Pointpal\n",
        "[\ud0ed2] \ub2e4\uad6d\uc5b4\ud68c\ud654 - 11\uac1c\uad6d\n",
        "Light Racer 3D Unlocked\n",
        "CRYSTAL DEFENDERS Lite\n",
        "Thai Lottery\n",
        "\u98a8\u96f2\u4e09\u570b\n",
        "\u70ae\u70ae\u5802\n",
        "\ud380\ud398\uc5b4\n",
        "\ubd80\uc7ac\uc911 \uc804\ud654 \uc54c\ub9bc\n",
        "Mahjong Pair 2\n",
        "\u6c7a\u6230\u751f\u6b7b\u7dda_FREE\n",
        "Monster Zuma\n",
        "PK! SexyGirl 2 HD\n",
        "Poker KinG VIP-Texas Holdem\n",
        "Powerful Control\n",
        "\u7701\u9053\u5373\u6642\u4ea4\u901a\u8cc7\u8a0a\n",
        "\ucd95\uad6c \uc608\uce21\n",
        "Whale  GO Launcher Getjar Them\n",
        "Slots Mania Deluxe\n",
        "Jungle Archery\n",
        "WhatsTheNumber-Lite\n",
        "\ub9e5\uc2a4 \uac01\ub3c4\uae30\n",
        "Mahjong and Friends 16 Free\n",
        "Hot Video (\uc778\uae30 \ub3d9\uc601\uc0c1)\n",
        "Crazy Soda\n",
        "\u5361\u901a\u5927\u7c89\u7d72\n",
        "Catch Pigs\n",
        "Street Fighter Moves\n",
        "\u9999\u6e2f\u5df4\u58eb\u901a\n",
        "\uc5c5\uadf8\ub808\uc774\ub4dc\n",
        "\u53f0\u5317\u516c\u8eca\n",
        "\u0417\u0430\u043f\u0438\u0441\u044c \u0437\u0432\u043e\u043d\u043a\u043e\u0432 (\u0411\u0435\u0441\u043f\u043b\u0430\u0442\u043d\u043e)\n",
        "Holy Quran - Abdelrahman Sodes\n",
        "\uc0ac\ub95c\uc548-\ubc30\ud130\ub9ac\uc704\uc82f\n",
        "Brand! Pronounce it Right\n",
        "FlashLight (Simple) LED \uc190\uc804\ub4f1\n",
        "\u7389\u5c71\u884c\u52d5\u9280\u884c\n",
        "\u8def\u6cc1\u5feb\u6613\u901a\n",
        "\ud55c\uae00 \uc774\ub984 \uc601\uc5b4 \ubcc0\ud658\n",
        "\u9234\u8072\u526a\u8f2f\u8207\u97f3\u91cf\uff08MP3\u9234\u8072\u88fd\u4f5c\u3001\u806f\u7d61\u4eba\u9234\u8072\u3001\u624b\u6a5f\u97f3\u91cf\u7ba1\u7406\uff09\n",
        "\uc6cc\ub4dc\uc5c5 \uc655\ucd08\ubcf4 \ud1a0\uc775\ubcf4\uce74 Level1\n",
        "Peter Pan\n",
        "\ubc14\ucf54\ub4dc \uc2a4\uce90\ub108\"ICONIT\"\n",
        "\u6200\u611b\u7269\u8a9e \u6e5b\u85cd\u7684\u56de\u61b6\n",
        "Malen mit Freunden\n",
        "ibon\u884c\u52d5\u751f\u6d3b\u7ad9\n",
        "\uc5f0\uc18d 4 \uc77c (\uc778\ub77c\uc778 \uc0ac)\n",
        "\u5929\u5929\u52a8\u542c\u76ae\u80a4-\u6d77\u8d3c\u738b\u5973\u5e1d\n",
        "Interactive Telling Time Free\n",
        "Pool Bar HD\n",
        "Zombie Mayhem\n",
        "Lost Phone\n",
        "\uc5b4\ub9b0\uc774 \ubb34\ub8cc \ub4e4\uba74 \uc218\ud559 \ubc8c\n",
        "Tired Birds\n",
        "\u8868\u60c5\u7b26\u53f7 Emoticons\uff08\u989c\u6587\u5b57\uff09\n",
        "Press - Maroc\n",
        "\u8d64\u58c1\u4e09\u570b3D\n",
        "\u82f1\u6587\u77ed\u53e5\n",
        "\uce74\uce74\uc624\ud1a1 3.0 \ud14c\ub9c8 : Seize the day!\n",
        "CartoonsTV - \ubb34\ub8cc \ub9cc\ud654\n",
        "4 pics 1 word 2\n",
        "\u7f8e\u7537\u5927\u5967 \u6200\u611b\u306e\u5f8c\u5bae\n",
        "\u611b\u53f0\u7063\u64bf\u7d05\u9ede(\u55ae\u6a5f+\u9023\u7dda)\n",
        "ABC\u82f1\u6587\u5b57\u6bcd\u5c0f\u5b78\u5802\u57fa\u790e\u7bc7\n",
        "\ub9e4\uc9c1 \uc6e8\uc774\ube0c : \uace8\ub4dc \ud53c\uc26c\n",
        "Happy KTV\n",
        "Lookout Ad Network Detector\n",
        "\u30cf\u30a4\u30ab\u30e0\uff08\u81ea\u52d5\u52d5\u753b\u7de8\u96c6\u30a2\u30d7\u30ea\uff09\n",
        "AppleTV AirPlay Media Player\n",
        "Talking Panda\n",
        "Shazam tag shortcut\n",
        "Minecraft HD \ubc30\uacbd \ud654\uba74\n",
        "\u53f0\u7063\u5230\u8655\u5403OK\n",
        "KickBack\n",
        "Alone with the zombies\n",
        "\u0410\u043f\u0442\u0435\u0447\u043a\u0430\n",
        "\u53f0\u7063\u5fc5\u73a9\u666f\u9ede\n",
        "\uc6b8\ud2b8\ub77c \ubba4\uc9c1 \ud50c\ub808\uc774\uc5b4\n",
        "Terapets Collect Cute Monsters\n",
        "Mickey Mouse Wallpapers\n",
        "Hanuman Temple : Chalisa Audio\n",
        "\uba85\ud0d0\uc815\ucd94\ub9ac\ub825\ud034\uc988\n",
        "UNO Gratis\n",
        "NH \ub18d\ud611\ucc3e\uae30\n",
        "Smooth Calendar\n",
        "\uc2a4\ud0c0\uc77c\ud0a4\uce5c\n",
        "\uc544\uc774 \ud504\ub808\uc784\n",
        "\u611b\u60c5\u5fc3\u7406\u6e2c\u9a57(\u8d85\u6e96)\n",
        "\u65b0TOEIC\u5358\u8a9e\n",
        "JobsDB\n",
        "\u7231\u5947\u827a\u7cbe\u9009\u89c6\u9891\uff08video HD\uff09\n",
        "\ud1b1 DJ \ud6a8\uacfc \ubca8\uc18c\ub9ac\n",
        "Beatdown Boxing (Lite)\n",
        "RTL Telekids\n",
        "SBS VOD(\uac24\ub7ed\uc2dc\ud0ed \uc804\uc6a9)\n",
        "\uad6c\uae00 \uc11c\ube44\uc2a4\n",
        "\u5012\u6570\u65e5\n",
        "\u52d5\u756b\u7cbe\u9078 2012\n",
        "\uc5f0\ub9d0 HD \ub77c\uc774\ube0c \ubc30\uacbd \ud654\uba74 FREE (PRO)\n",
        "English Chinese Dictionary\n",
        "\u751f\u65e5\u7684\u79d8\u5bc6 - \u63a2\u79d8\u4e00\u5e74366\u5929\n",
        "Multi BetLine Slot Machine\n",
        "Snow White\n",
        "\ub85c\ucee4 \ud14c\ub9c8\ub85c \uc774\ub3d9\ud569\ub2c8\ub2e4 ZCute\n",
        "1\ucd08\uba74 \uc5d4\ub529\uae4c\uc9c0..\uc2e0\uc785\uc0dd\n",
        "\u041b\u0438\u0448\u043d\u0435\u0435 \u0441\u043b\u043e\u0432\u043e\n",
        "\u9ebb\u96c0 \u795e\u4f86\u4e5f13\u5f35\u9ebb\u96c0\n",
        "\u30d1\u30ba\u30c9\u30e9\u5b8c\u5168\u653b\u7565\u2605\u30b2\u30ea\u30e9\u6642\u9593\u5272\uff06\u30b9\u30ad\u30eb\u56f3\u9451\uff06\u88cf\u6280\u52d5\u753b\n",
        "Skidamarink\n",
        "\uc704\uce58\uc6cc\uc988: \ud37c\uc990(Witch Wars)\n",
        "Desk Migrate\n",
        "\u7b11\u8a71\u5927\u738b\n",
        "[\uc560\ub2c8]\uba85\ud0d0\uc815 \ucf54\ub09c \ubb34\ub8cc\ubcf4\uae30 \ubb34\uc81c\ud55c\uac10\uc0c1\n",
        "MOCA\n",
        "Kids Song Machine Free\n",
        "Truck Driving 3D\n",
        "Coloring Game Animals\n",
        "TV Guide BR\n",
        "Luckiest Wheel Christmas2012\n",
        "Madagascar Puzzle\n",
        "\u982d\u689d\u65e5\u5831 v2\n",
        "T-Jelly.Q GO Locker Theme\n",
        "9GAG (free)\n",
        "\u6b66\u58eb\u5927\u6230\u6bad\u5c4d\n",
        "\ub85c\uace0 \ud034\uc988 \ud50c\ub7ec\uc2a4\n",
        "The Voice Thuiscoach App\n",
        "\ub8e8\uac70 P08\uc758 \uac74\n",
        "\ub8f0\ub81b \uc2ac\ub86f\n",
        "\ubd80\uc871 \uc608\uc220\uc744 \uadf8\ub9bd\ub2c8\ub2e4\ud558\ub294 \ubc29\ubc95\n",
        "now player\n",
        "Gangnam Style Song\n",
        "\u86cb\u7cd5\u505a\u6cd5\u5927\u5168\n",
        "Sidebar Lite\n",
        "\ub192\uc740 \uc815\uc758\uc5d0\uc11c \ub9c8\uce74\uc624 \uc2ac\ub86f \uba38\uc2e0\n",
        "\u83ef\u8a9e\u97f3\u6a02\u6d41\u884c\u699c\n",
        "\ud654\uc774\ud2b8\ubcf4\ub4dc\n",
        "i68\u570b\u9053\u5373\u6642\u8def\u6cc1HD\n",
        "Ninja Revenge\n",
        "PocketNav - Minecraft Edition\n",
        "\u041c\u0443\u043b\u044c\u0442\u0444\u0438\u043b\u044c\u043c\u044b \u0434\u043b\u044f \u0434\u0435\u0442\u0435\u0439  \u043a\u0430\u0442\u0430\u043b\u043e\u0433\n",
        "3D\uae09\uc18d\ub808\uc774\uc2f1\uce74\n",
        "Pretty Pet Salon HD\n",
        "\u97f3\u6a02MV\u5427\n",
        "\u6f02\u6d6e\u6a02\u5712\n",
        "GyroSpace 3D \ubb34\ub8cc\n",
        "Volume+ FREE\n",
        "\u062e\u0644\u0641\u064a\u0627\u062a \u062c\u0627\u0644\u0627\u0643\u0633\u064a \u0646\u0648\u062a 2\n",
        "\ubbf8\uc8fc \uc911\uc559\uc77c\ubcf4 \ud55c\uc778\uc5c5\uc18c\ub85d\n",
        "MineMag -  Minecraft Magazine\n",
        "\uc561\uc790\n",
        "VZ Navigator Galaxy Note II\n",
        "Hello Kitty Memory\n",
        "Spot the Difference\n",
        "\u53f0\u9435\u5217\u8eca\u52d5\u614b (\u706b\u8eca\u6642\u523b\u8868/\u8aa4\u9ede\u8cc7\u8a0a/\u7968\u50f9)\n",
        "\uc720\uc131 \uc0e4\uc6cc \ub77c\uc774\ube0c \ubc30\uacbd \ud654\uba74\n",
        "Glowball: Tegra 3 Only\n",
        "Trivial Mobile\n",
        "Lovely Theme Go Launcher Ex\n",
        "Sid's Cool Pool Game\n",
        "\ucc9c\uc0dd\uc5f0\ubd84\uc5f0\uc608\uc778\uad81\ud569\n",
        "\uc57c\uc655 \ubb34\ub8cc\ub2e4\uc2dc\ubcf4\uae30-\uac00\uc785\uc5c6\uc74c/\uc2e4\uc2dc\uac04\uac10\uc0c1/TV\uc624\ub77d\ub4dc\ub77c\ub9c8\n",
        "Meteor Live Wallpaper\n",
        "Minecraft PE Gamers Fan\n",
        "Finger Tv (\u53f0\u7063\u7d9c\u85dd\uff0c\u5076\u50cf)\n",
        "Magic Bowling FULL\n",
        "Swisscom TV\n",
        "\uc601\uc5b4\ub4e3\uae30(\ub0b4\ub9d8\ub300\ub85c \uc791\uc131\ud55c \ubb38\uc7a5\uc744 \uc601\uc5b4\ubc1c\uc74c\uc73c\ub85c \ub4e4\uc5b4\uc694)\n",
        "\u53f0\u7063\u884c\u52d5\u7db2\u7ad9\u5c0e\u822a\uff08\u65b0\u805e\u6c23\u8c61\u3001\u65c5\u904a\u666f\u9ede\u3001\u5e38\u7528\u96fb\u8a71\u3001\u4ea4\u901a\u8def\u6cc1\u7b49\uff09\n",
        "\uae30\uc9c8\ud14c\uc2a4\ud2b8\n",
        "Trash School LITE\n",
        "\u62db\u5546\u94f6\u884c\n",
        "\u9999\u6e2f\u516c\u773e\u5047\u671f2013\n",
        "\u5355\u673a\u6597\u5730\u4e3b\n",
        "\ud035\uc0dd\ud65c\uc815\ubcf4\n",
        "AV \uc5ec\ubc30\uc6b0\n",
        "\u7206\u8da3 IQ \u984c \u5168\u96c6!\n",
        "\ud50c\ub798\uc2dc \ud50c\ub808\uc774\uc5b4\n",
        "Jelly Bean Keyboard\n",
        "StarHub TV\n",
        "Ultimate Miner\n",
        "\u9060\u50b3\u884c\u52d5\u96fb\u8996\n",
        "Doodle Jump Fan App\n",
        "\ub514\ud39c\uc2a4 \uac8c\uc784 \ubca0\uc2a4\ud2b8 \ub7ad\ud0b9 - \ud314\ub77c\ub3c5, \uce74\ud230\uc6cc\uc988 \ub4f1\n",
        "2013 \uc544\ube60! \uc5b4\ub514\uac00? \ub2e4\uc2dc\ubcf4\uae30\n",
        "\uadf8\ub9ac\uae30 \ubc29\ubc95 : \uc131\ub09c \uc0c8\ub4e4\uc744\n",
        "\ub9cc\ub2a5 \uc801\uc678\uc120 \ub9ac\ubaa8\ucf58(IR PLAY Lite)\n",
        "Crazy Girl Driving\n",
        "\uc624\ud1a0\ubc14\uc774 \ub808\uc774\uc2f1\n",
        "\uc544\uc774\uc2a4\uc704\ud2f0\n",
        "\uc790\ub3d9\ucc28 \ud06c\ub808\uc778 \ud2b8\ub7ed \uc804\ucc28 1 \uac1c \ubb34\ub8cc\n",
        "\u041a\u043e\u043d\u0441\u0442\u0438\u0442\u0443\u0446\u0438\u044f \u0438 \u041a\u043e\u0434\u0435\u043a\u0441\u044b \u0420\u041a\n",
        "\ub2cc\uc790 \uc810\ud504 DX \ubb34\ub8cc \uac8c\uc784\uc744 \uc2e4\ud589\ud569\ub2c8\ub2e4\n",
        "[\ubb34\ub8cc]\ucd94\uc5b5\uc758 \ud2b8\ub85c\ud2b8 BEST \uc74c\uc545 \ubaa8\uc74c\n",
        "[JJUN]\uc2a4\ub9c8\ud2b8 \ub77c\uc774\ube0c \ubc30\uacbd\ud654\uba74\n",
        "Fish Tank 3d Live Wallpaper\n",
        "2008\ud504\ub85c\uc57c\uad6c LITE\n",
        "\ubc14\ubcf4 \ud14c\uc2a4\ud2b8 | The Stupid Test\n",
        "6\uc2dc \ub9cc\ud654 : \ud0dc\uadf9\uac80\uc81c,\uac15\ud638\ub3c5\ubcf4\ud589\n",
        "\u6e2c\u901f\u7167\u76f8\u5075\u6e2c+\u884c\u8eca\u7d00\u9304\u5668+HUD=GPS Defender\n",
        "Paper Football 3D\n",
        "\ub3cc\ud540\ube0c\ub77c\uc6b0\uc800 HD\n",
        "\uc2a4\ub9c8\ud2b8\ucee8\uc288\uba38\n",
        "\ub0a0\uc9dc \uacc4\uc0b0\uae30\n",
        "Documents To Go 3.0 Main App\n",
        "\ub098\ub8e8\ud1a0 \uac8c\uc784 HD\n",
        "\uc77c\ub4dc \ud3ec\ucf13\n",
        "Piadas Brasil\n",
        "Hadith Library - \u0645\u0643\u062a\u0628\u0629 \u0627\u0644\u062d\u062f\u064a\u062b\n",
        "\uc601\uc5b4 \ub3d9\uc694 \ubb34\ub8cc (\uc5b4\ub9b0\uc774 English Song)\n",
        "Traffic Jam Free\n",
        "\uc704\ubc84 \uaf43 \ucc3d\ud3ec \uc0ac\uc9c4 \ud6a8\uacfc \ud544\ud130\n",
        "\uafc8\ud574\ubabd \ub300\ubc31\uacfc\n",
        "Army Vs Aliens Defense\n",
        "\ubaa8\ubc14\uc77c\ubcf5\uc9c0\uad00\n",
        "[\uc778\uae30]\ub9c8\uc74c\uc528-\uc774\uc0c1\ud615 \uc18c\uac1c\ud305(\ub9e4\uc77c \ucd5c\ub300 11\uba85 \uc18c\uac1c\ud305)\n",
        "Wifi Connecter Library\n",
        "Baby Adopter\u00ae Holidays\n",
        "\ubb34\ub8cc\uc74c\uc545\ub4e3\uae30 (\uac78\uadf8\ub8f9,\uac00\uc694,\ud31d\uc1a1,\uc5e0\ub137,\ubc85\uc2a4)\n",
        "\uc740\ud558\uc758 \uce68\ub7b5 \ubb34\ub8cc\n",
        "\uc6e8\ub529 \ud50c\ub79c\ubd81 - \uacb0\ud63c \uc900\ube44\uc758 \ubaa8\ub4e0 \uac83\n",
        "\uad7f\ub274\uc2a4\n",
        "English Restart Basic\n",
        "Latin Ringtones\n",
        "YTN for Tablet\n",
        "123GMM\n",
        "\ub137\uc7a5\uae30 \uc628\ub77c\uc778\n",
        "\ud14c\ub514 \uac1c\ub97c \ub9d0\ud558\uae30\n",
        "\uc544\uc774\ub4e4 \ud504\ub808\uc784 HD\n",
        "\u0420\u0443\u0441\u0441\u043a\u043e\u0435 \u0422\u0412\n",
        "\u611b\u60c5\u5fc3\u7406\u6e2c\u9a57\n",
        "\ud37c\uc990 \uc564 \ucb49\ucb49\ud321\ud321\n",
        "Telmap Navigator\n",
        "\u0623\u0648\u0644 \u0643\u0644\u0645\u0627\u062a\u064a\n",
        "\u7121\u6599\u52d5\u753b GyaO!\n",
        "\ub9c9\uc601\uc560TV-\ub9c9\ub3fc\uba39\uc740\uc601\uc560\uc528 \uc804 \uc2dc\uc98c, \ubaa8\ub4e0 \uc601\uc0c1 \ub2e4\uc2dc\ubcf4\uae30\n",
        "\ub4dc\ub77c\uc774\ube0c \ubc15\uc2a4 - Drive Box\n",
        "DJ \uc0ac\uc6b4\ub4dc \ud6a8\uacfc\uc640 \ubca8\uc18c\ub9ac\n",
        "Corkboard GO Launcher EX Theme\n",
        "Top20 SMS \ubca8\uc18c\ub9ac\n",
        "HD Photo Fun 350+ Effects\n",
        "\uad11\uace0\ubcf4\uace0 \ub3c8\ub3c4\ubc8c\uace0\n",
        "chompSMS\n",
        "Fandango Movies\n",
        "Perfect Keyboard Free\n",
        "\ub354 \ud0a4\uc2a4\ud558\uace0 \uc815\uc561.\n",
        "Finger Dance\n",
        "\uce74\ubbf8 \ub808\ud2b8\ub85c\n",
        "\ud2f1\ud0dd\ud1a0 - Tic Tac Toe NeO (124 \ub808\ubca8)\n",
        "Star Gems\n",
        "\u2606 \ud654\uac00 \uc601\uc6c5 \ud0f1\ud06c \u2606\n",
        "ZRoom GO Getjar Theme\n",
        "\uc720\uc544\ub97c\uc704\ud55c \uc7a5\ub09c\uac10 \ud37c\uc990!\n",
        "\u63a5\u9f8d \u795e\u4f86\u4e5f\u63a5\u9f8d\n",
        "\ub86f\ub370\ub9c8\ud2b8\uc694\ub9ac\n",
        "\u0635\u062d\u064a\u062d \u0627\u0644\u0633\u064a\u0631\u0629 \u0627\u0644\u0646\u0628\u0648\u064a\u0629\n",
        "Aby Escape\n",
        "ThailandTV, TV Thailand FREE\n",
        "Dominoes Elite\n",
        "\ud314\ub85c\uc6b0 \ub9ac\ub354 for Kakao\n",
        "\uc2a4\ucfe8\ub9d8\ud1a1 SchoolMomTalk\n",
        "\ud398\uc778\ud305\uc18c\ub140 \uce74\uce74\uc624\ud648 \ud14c\ub9c8\n",
        "\uc774\ubcc4\uad81\ud569\n",
        "\uac24\ub7ec\ub9ac\uc544\ubab0\n",
        "Probe the Humans\n",
        "\uce74\ud1a1 \ud14c\ub9c8 \uac15\uc544\uc9c0 \ud551\ud06c (\uce74\uce74\uc624\ud1a1 \ubc30\uacbd)\n",
        "Azteca Live\n",
        "MP3 \uc74c\uc545 \ub2e4\uc6b4\ub85c\ub4dc\n",
        "[\ub3c8\ubc84\ub294 \uc571 \ucd94\ucc9c] \ud2f0\uc8fc\ub0a8-\ud2f0\ucf13\uc8fc\ub294\ub0a8\uc790\n",
        "Premier League Live 2012/2013\n",
        "\u53f0\u7063\u89c0\u5929\u6c23 - \u73fe\u5728\u4e0b\u96e8\u55ce? \u5929\u6c23\u89c0\u6e2c\u4e00\u628a\u7f69!\n",
        "\uacbd\ucc30 \ub4f1\n",
        "mako mobile\n",
        "Fryfun \uc2a4\ub9c8\ud2b8\ud3f0 \ucd5c\uc801\ud654 \uc704\uc82f - Pro\n",
        "\ub0a8\uc790\uc5f0\uc608\uc778 \uc2a4\ud0c0\ubc30\uacbd\ud654\uba74[\ubc30\uacbd\ud654\uba74/\uc815\ubcf4/\ubb34\ub8cc/\uce74\uce74\uc624\ud1a1]\n",
        "\ubf40\ub85c\ub85cTV\n",
        "Legendary Warrior\n",
        "Pocket Rally\n",
        "Carrossel \uba54\ubaa8\ub9ac \uac8c\uc784\n",
        "Quick Note Pro\n",
        "\uc11c\ud504\ub77c\uc774\uc988 (\ubbf8\uc2a4\ud14c\ub9ac \uc774\uc57c\uae30)\n",
        "runtastic PRO\n",
        "\uc800\uc8fc \ucc28\ub2e8\uae30 : \uacf5\ud3ec \uc800\ud0dd\n",
        "\uc288\ud37c \uc8fc\uc220 \ubd80\ubb38\n",
        "\u0421\u041f\u0423\u0422\u041d\u0418\u041a \u0420\u0423\u0421\u0421\u041a\u0418\u0415 \u0424\u0418\u041b\u042c\u041c\u042b\n",
        "\uc54c \uc3d8\uae30\n",
        "Mountain Bike\n",
        "\u5bf6\u5cf6\u4e2d\u734e \u52a0\u78bc\u5c0d\u734e\u5668 \u5927\u7d05\u5305 \u5927\u6a02\u900f\n",
        "\u6df7\u6c8c\u9a91\u58eb\n",
        "\uc2a4\ub9c8\ud2b8 \ub098\ube44 \ub77c\uc774\ud2b8 - \uce74\uce74\uc624\ud1a1 \uce5c\uad6c \uc704\uce58\ucd94\uc801/\uae38\ucc3e\uae30\n",
        "\ud574\uc678\uc548\uc804\uc5ec\ud589\n",
        "\uc6b4\uba85\uc758 \uc218\ub808\ubc14\ud034 - GO\ub77d\ucee4\ud14c\ub9c8  - \ud504\ub9ac\ubbf8\uc5c4\n",
        "MP3 Music Download\n",
        "\uc774\uc2ac\ub78c \ubca8\uc18c\ub9ac\n",
        "Foot Mercato\n",
        "ringPod\n",
        "Airplane Traffic Lite\n",
        "365_\uc6c3\uc74c \ud55c\uad6d\uc5b4 FlipFont\n",
        "Football Ninja\n",
        "\uc2a4\ub9c8\ud2b8DUR\n",
        "Jumping Monkey\n",
        "mSpot Radio\u2122\n",
        "My baby wants to be...\uff08kids\uff09\n",
        "Orange Cineday\n",
        "\uac00\ub098\ub2e4 \uc0c9\uce60\ub180\uc774 [\ud55c\uae00\uce74\ub4dc \ub9cc\ub4e4\uae30]\n",
        "\uc9c0\ub9ac \ud034\uc988 \uac8c\uc784\n",
        "AK - 47\uc758 \ubd88\n",
        "\uc54c\ubc14\uc758\ub2ec\uc778 - \uc54c\ubc14\ub3c4 \uce74\ud1a1\ud558\ub4ef \uc27d\uac8c \uad6c\ud574\uc694!\n",
        "Baby show\uff08kids\uff09\n",
        "3D NFS \uc74c\uc545\n",
        "3D Rollercoaster Rush New York\n",
        "\uad7f\ub9d8\uc2a4\ub9c8\ucf13 \uc720\uc544\uc6a9\ud488 \uc9c1\uac70\ub798 \uc7a5\ud130 (\ubb34\ub8cc/\uc911\uace0/\uc2e0\uc0c1\ud488)\n",
        "\uc804\uc7a5 \uc138 \uc815\n",
        "Learn German with busuu.com!\n",
        "TV Go!\n",
        "Free Stickers for LINE\n",
        "Glow Dots\n",
        "Halflings Inn\n",
        "11\ubc88\uac00 \uc1fc\ud551\uce74\ud0c8\ub85c\uadf8 for Tablet\n",
        "Cut the Rope: Time Travel HD\n",
        "\u0645\u0633\u062c\u0627\u062a \u0627\u0644\u062d\u0628 \u0648\u0627\u0644\u0631\u0648\u0645\u0627\u0646\u0633\u064a\u0629\n",
        "Blobby Volleyball\n",
        "Walmart\n",
        "Zattoo Live TV - BETA\n",
        "Pet Motel (Free)\n",
        "Drawing Pad\n",
        "\uc54c\ub78c \uc2dc\uacc4 \ubc0f \ubca8\uc18c\ub9ac\n",
        "Putting Golf\n",
        "Robotic Guitarist Free\n",
        "Mahjong GoLink\n",
        "\u53f0\u7063\u4fbf\u5229\u5546\u5e97\u512a\u60e0\u8cc7\u8a0a\u5927\u5168 (7-11,\u5168\u5bb6,\u840a\u723e\u5bcc,OK)\n",
        "Soccer Mexican League\n",
        "My Xbox LIVE\n",
        "Pepi Bath Lite\n",
        "Area Clienti 3\n",
        "\ubc30\uacbd \ud654\uba74\uc758 HD\n",
        "\uba54\uc774\ud06c\uc5c5 & \uc815\uc7a5\n",
        "Weather & Clock - Meteo Widget\n",
        "\u0627\u0644\u062a\u062e\u0644\u0635 \u0645\u0646 \u0627\u0644\u0643\u0631\u0634 \u0628\u0639\u062f \u0627\u0644\u0648\u0644\u0627\u062f\u0629\n",
        "\ub9e4\uacbd\uc774\ucf54\ub178\ubbf8\n",
        "\u5145\u96fb\u304c\u8d85\u9577\u6301\u3061\u266a\u9ad8\u6027\u80fd\u30d0\u30c3\u30c6\u30ea\u30fc\u266a\uff08\u96fb\u6c60\u7bc0\u7d04\uff06\u6b8b\u91cf\u7ba1\u7406\uff09\n",
        "\uc789\uc5b4 \ubb3c\uace0\uae30 \ub77c\uc774\ube0c \ubc30\uacbd \ud654\uba74 \ubb34\ub8cc\n",
        "\ubd88\uaf43 \ub180\uc774 \ubcbd\uc9c0\uc5d0 \uc0b4\uace0\n",
        "\ubbf8\uc6a9\ud1a1 - \ud5e4\uc5b4 \uc2a4\ud0c0\uc77c,\ubdf0\ud2f0,\ub79c\ub364\ucc44\ud305\n",
        "\uc6f9\ud230 \ubaa8\uc74c - \ub2e4\uc74c \uc6f9\ud230 \ubaa8\uc74c \uc5b4\ud50c\n",
        "Vignette Demo\n",
        "Cartoon & Animal Photo Frame\n",
        "\ubd88\ub7c9 \ud654\uc18c \ud14c\uc2a4\ud2b8\n",
        "\ube14\ub799\ub9ac\uc2a4\ud2b8 (Blacklist)\n",
        "SiriusXM Internet Radio\n",
        "\uadf8\ub9ac\uae30 \ubc29\ubc95 : \uc7a5\ub09c\uac10 \uba38\uc2e0\n",
        "Apk Manager\n",
        "Ferrari 2013 Simulator\n",
        "SweetyHeaven HD (for Tablet)\n",
        "\ub728\uac70\uc6b4 \uc139\uc2dc\ud55c \uc18c\ub140 \uc131 \uac8c\uc784\n",
        "\uc2a4\ud2f1 Moto Race\n",
        "DV Hot Girls\n",
        "\uc5f0\uae08\ubcf5\uad8c 520 Simple.Ver\n",
        "Subway Surfers Cheats Free\n",
        "Marktplaats\n",
        "Tiger Airways\n",
        "HY\ud4e8\uc5b4\ud654\uc774\ud2b8 \ud55c\uad6d\uc5b4 FlipFont\n",
        "\uc870\ud61c\ub828\uc758 \uc791\uc0b4\uc77c\ub2e8\uc5b4\n",
        "\uc5b4\ub9b0\uc774\ub97c\uc704\ud55c \uc218\ud559\n",
        "\uadf8\ub140\uc758 \ubc97\uc740 \ubab8\uc744 \ud754\ub4e4\uc5b4! \uc7a5\ub09c FUN\n",
        "Call Spy\n",
        "Robin Hood HD Slot Machine\n",
        "Superman\n",
        "DiziTV HD\n",
        "Music Girl\n",
        "Easy Touch for Girl\n",
        "Free English Malay Dictionary\n",
        "Flipboard: \u60a8\u7684\u968f\u8eab\u793e\u4ea4\u6742\u5fd7\n",
        "tfsRadio Israel \u05e8\u05d3\u05d9\u05d5\n",
        "Free Math Games for Kids\n",
        "Sportbike & Chopper Builder 3D\n",
        "\uc0c1\ub2e8 \ubc30\uacbd \ud654\uba74 HD\n",
        "French English Dictionary\n",
        "mtv al lubnaniya\n",
        "Tiny Monsters\n",
        "Talking Princess Free\n",
        "Chhota Bheem Mice Mayhem Lite\n",
        "DerManDar (DMD) Panorama\n",
        "\uc601\uc5b4\ub2e8\uae30\ud559\uad50-\uae30\uc801\uc758 \uc601\ubb38\ubc95\n",
        "\uc2a4\ud0c0\ud06c\ub798\ud504\ud2b8 \uacf5\ub7b5 \uac00\uc774\ub4dc\n",
        "CABLE\u5373\u6642\u7747\n",
        "\u4e2d\u539f\u5730\u5716 Centamap \u624b\u6a5f\u7248\n",
        "Last Fight\n",
        "\uc6b0\ud3b8\ubc88\ud638\ucc3e\uae30\n",
        "Full Zombie Movies\n",
        "\ud3b8\ud55c \uc77c\ubcf8\uc5b4\ub2e8\uc5b4 SD\n",
        "\uc6d4\uae09\uacc4\uc0b0\uae30\n",
        "Keepy Uppy Soccer\n",
        "PapiRiver\n",
        "Carsales.com.au\n",
        "ABC - Learn All Alphabet Free\n",
        "\ucd94\uc5b5\uc758 \uc678\ud654-\ucd94\uc5b5,mbc,kbs,sbs,\uc678\ud654,\ubbf8\ub4dc\n",
        "\ub450\ub1cc \ud2b8\ub808\uc774\ub2dd - \uc218\uc5f4 \ubb38\uc81c\ud480\uc774!\n",
        "\ud504\ub85c \ud14c\ub9c8 \ud654\uc7ac \ud654\uc7ac\ub97c GO SMS Pro Theme\n",
        "\ucea1\n",
        "\uac00\uacc4\ubd80 \uba38\ub2c8\uc719_Money Wing\n",
        "Grindr - \uac8c\uc774 \uce5c\uad6c \ucc3e\uae30\n",
        "Screenshot Ultimate\n",
        "\ud3ec\ub2c8\ube0c\ub77c\uc6b4 \ub9c8\ub9ac\ud504 \uce74\uce74\uc624\ud648 \ud14c\ub9c8\n",
        "\ub6b1\uc774 \ub7ec\ube0c\uc2a4\ud1a0\ub9ac \ub3c4\ub3cc\ub7f0\ucc98 \ud14c\ub9c8\n",
        "Vintage Pattern \uce74\uce74\uc624\ud648 \ud14c\ub9c8\n",
        "Road Hogs\n",
        "\uba54\uc774\ud50c\uc2a4\ud1a0\ub9ac \uacf5\uc2dd\uac00\uc774\ub4dc\ubd81 10\uc8fc\ub144 \ud2b9\ubcc4\ud310\n",
        "\uc608\ubed0\uc9c0\ub294 \ube44\uacb0\n",
        "\uc5f0\uc608\uc778\uc774\uc0c1\ud615\uc870\ud569\uae30\n",
        "Minecraft Live Wallpaper\n",
        "\uc2a4\ud53c\ud0b9\ub9e5\uc2a4 HD\n",
        "Magic Jewels\n",
        "\u0631\u0633\u0627\u0626\u0644 \u062d\u0628 2013\n",
        "Beauty Studio - Photo Editor\n",
        "(\ub124\uc774\ubc84 \uc6f9\ud230)\ud328\uc158\uc655 \ub3c4\ub3cc\ub7f0\ucc98\ud14c\ub9c8\n",
        "The Pirate Bay Browser\n",
        "1111\u5de5\u4f5c\u7279\u641c\n",
        "\ud504\ub7ad\ud074\ub9b0\ud50c\ub798\ub108 Activity [ko]\n",
        "Xtreme Furious\n",
        "\ub098\uc758 \uc791\uc740 \ube44\ud589\uae30\n",
        "\uace0\uc591\uc774 \uc18c\ub9ac\n",
        "\ubabb\ub09c\uc774\uc8fc\uc758\ubcf4 \ubb34\ub8cc\ub2e4\uc2dc\ubcf4\uae30-\uac00\uc785\uc5c6\uc74c/\uc2e4\uc2dc\uac04\uac10\uc0c1/TV\ub4dc\ub77c\ub9c8\n",
        "\uac00\uc0c1\ud0c8\ucd9c \ub2e4\uc774\ud558\ub4dc\n",
        "BizReader \uba85\ud568\uc2a4\uce90\ub108 \ube44\uc988\ub9ac\ub354 \ud55c/\uc601 \uba85\ud568\uc778\uc2dd\n",
        "\uc544\ucfe0\uc544 \uc544\ud1b0 \ud14c\ub9c8\n",
        "\uce74\ud1a1 QR\uc2a4\uce90\ub108\n",
        "\ube44\ub2d0\ub72f\uc9c0\ub9c8\uc138\uc694 \ub3c4\ub3cc \ub7f0\ucc98 \ud14c\ub9c8\n",
        "\uc624\ub298\uc758 \ubcd1\ub9db \uba85\uc5b8\n",
        "[\ud3ec\ucf13\uac78] \uc8fc\uba38\ub2c8\uc18d \uc5ec\uce5c \ud0a4\uc6b0\uae30\n",
        "Insta Grunge Effects\n",
        "Dream Run of Spongebob pet\n",
        "Guitar Hero World Tour Cheats\n",
        "GO Keyboard Happy2012 theme\n",
        "\uc18d\ub3c4\uacc4 \ubc30\ud130\ub9ac\n",
        "Robot War\n",
        "\ubc29\uadc0 \ubc29\uadc0 \ubc29\uadc0\n",
        "\ub9c8\uc791 \uc5d0\uc774\uc2a4 \ub77c\uc774\ud2b8\n",
        "ABC Toddler\n",
        "Speak Spanish Free\n",
        "Austin Ally Videos\n",
        "OpenTable\n",
        "\uc774\uc2ac\ub78c \uc560\ud50c\ub9ac\ucf00\uc774\uc158\n",
        "Total Equipment Protection App\n",
        "\ub0b4 \uc704\uce58 \ubcf4\ub0b4\uae30\n",
        "\u0413\u0435\u0440\u043e\u0438 - \u043e\u043d\u043b\u0430\u0439\u043d \u0438\u0433\u0440\u0430 (MMORPG)\n",
        "Make Me A Pirate\n",
        "WikiMobile (Wikipedia Browser)\n",
        "Winter nature live wallpaper\n",
        "Finger Dance Lite\n",
        "Your Navigator Deluxe\n",
        "Kids Math\n",
        "Ver Peliculas Completas\n",
        "GO SMS PRO WB Pink Zebra Theme\n",
        "\uc7ac\uace0\uc815\ub9ac\n",
        "Zombies Live\u2122\n",
        "Equisite \ud56d\uacf5\uae30\n",
        "\uc288\ub809 \ud37c\uc990\n",
        "\uc624\ud1a0\uce90\ub4dc\uc2a4\ud0ac\uc5c5II\n",
        "\u30a6\u30a7\u30b6\u30fc\u30cb\u30e5\u30fc\u30b9\u30bf\u30c3\u30c1\n",
        "Dare Devil Coaster\n",
        "Latest Online Movie\n",
        "Slenderman Radar\n",
        "ISO Extractor\n",
        "\ub2e4\uc74c\ud734\uc77c\n",
        "My Verizon Mobile for Tablets\n",
        "Watch Movies Online\n",
        "PET MATCH (Link Link KAN)\n",
        "\uc694\uc815 \uba54\ubaa8\uff12\n",
        "\ub098\ubd80\uc790 - \ub098\ub3c4 \ubd80\uc790\ub2e4\n",
        "\ucd95\uad6c\n",
        "El Ahorcado\n",
        "\u0643\u0648\u0631\u0629 kooora\n",
        "Spades Free\n",
        "\uc804\uc5ed \ud0c0\uc774\uba38\n",
        "chomp SMS emoji add-on\n",
        "\uc694\uc815 \uacf5\ubc29 -\uc2dc\uacc4 \ubc84\uc804-\n",
        "Funny Camera Live Free\n",
        "Princess in her Garden\n",
        "Toddler Lock\n",
        "[\uc644\uc804\uc815\ubcf5] \ubbf8\uc6a9\uc0ac(\ud53c\ubd80) \uc790\uaca9\uc99d \uae30\ucd9c\ubb38\uc81c\n",
        "\ucd95\uad6c \ud1b5\uacc4\n",
        "\uc758\uc9c0\uc758 \ucfe0\ud3f0\n",
        "\uac04\ub2e8\ud55c \ub9c8\uc778\ud06c\ub798\ud504\ud2b8 \uac74\ucd95\uc601\uc0c1\n",
        "\uc2a4\ub9c8\ud2b8 \ud30c\uc778\ub4dc\ub77c\uc774\ube0c Wi-Fi\n",
        "\uc9c4\uaca9\uc758\uac70\uc778 \ubc30\uacbd\ud654\uba74\n",
        "Backgammon\n",
        "[\ubb34\ub8cc]\ucf54\ucf54\ubabd\uacfc\uc751\uac00\ud558\uae30\n",
        "57\u5065\u5eb7\u540c\u5b78\u6703\n",
        "\u5355\u673a\u6e38\u620f \u4f11\u95f2\u6e38\u620f \u522e\u522e\u4e50\n",
        "\ub0c9\uba74\ub9db\uc9d1\n",
        "\ub9cc\ud654\uc758 \ubc30\uacbd \ud654\uba74\n",
        "\u0623\u062f\u0639\u064a\u0647 \u0645\u0646 \u0627\u0644\u0642\u0631\u0627\u0651\u0646 \u0627\u0644\u0643\u0631\u064a\u0645\n",
        "Word To TXT\n",
        "SwipePad: Hyperspace Launcher\n",
        "Lakorn Online\n",
        "\ubb34\uc11c\uc6b4 \ubca8\uc18c\ub9ac\n",
        "Mobile TV\n",
        "GF\uadf8\ub54c\ub9d0\ud560\uac78\u2122 \ud55c\uad6d\uc5b4 Flipfont\n",
        "\ubcf4\uc11d \ud018\uc2a4\ud2b8 2\n",
        "\uc628\ud0a4\ub178 \uc601\ud654\uad00 - \uc2e4\uc2dc\uac04\uc601\ud654, \ub4dc\ub77c\ub9c8, TV, \ubb34\ub8cc\uc601\ud654\n",
        "Defend Homeland Full\n",
        "Cybergeddon\n",
        "\uc2a4\ub9c8\ud2b8\ud3f0 \uc911\ub3c5\ubc29\uc9c0_\ubaa8\ubaa8(MOMO)\n",
        "TGCOM24\n",
        "\uac00\uc0c1\uce90\uc2a4\ud305:\ub098\uc640\uc5b4\uc6b8\ub9ac\ub294\ubc30\uc5ed\ucc3e\uae30\n",
        "\u00bfMientes \u00f3 No?\n",
        "\uc2a4\ub9c8\ud2b8\uc6d4\ub81b - 900\ub9cc \uac00\uc785\uc790! \uad6d\ub0b4 \ucd5c\ub300 \ubaa8\ubc14\uc77c\uc9c0\uac11\n",
        "PlayTexas Hold'em \ud3ec\ucee4 \ubb34\ub8cc\n",
        "Pixable: Your Photo Inbox\n",
        "\ub808\uc774\ub514\ud648\uc6e8\uc774\ud2b8\ud2b8\ub808\uc774\ub2dd\n",
        "\u0645\u0646\u0628\u0647 \u062d\u0627\u0641\u0632 - Hafiz\n",
        "The Economic Times\n",
        "\uc560\ub2c8\uc720\uc544\ub3d9\uc694\n",
        "star wars:superhero return\n",
        "\uc720\uc544 \ub3d9\ud654 \u2665 \ud1a0\ub07c\uc640 \uac70\ubd81\uc774 \u2665 [\ubb34\ub8cc]\n",
        "\ud6c4\ud1a0\uc2a4 5\ud0c4 - \ud55c\uae00\ud310 Lite\n",
        "\ubaa8\uae30\n",
        "\ucf54\ucf54\ubabd 4\ud0c4 Lite\n",
        "\ud401! \uc778\uae30\ub3d9\uc694MP3 (50\uace1)\n",
        "\uc6b4\uc804\uba74\ud5c8\uae38\ub77c\uc7a1\uc774\n",
        "\ud55c\uad6d\uc0ac\uc5f0\ud45c\n",
        "\u0635\u0648\u0631 \u062c\u062f\u064a\u062f\u0647 \u0648\u062d\u0644\u0648\u0647 \u0635\u0648\u0631 \u0645\u0636\u062d\u0643\u0647 \u062c\u062f\u0627\n",
        "\ucf54\ucf54\ubabd \uc2dc\uc98c 2\n",
        "XMAS Crazy Chef Cupcake Maker\n",
        "\uc804\ud654 \ucd94\uc801\uae30 (\uce5c\uad6c\uc640 \uac00\uc871\uc744 \uc804\ud654\ub85c \ucd94\uc801\ud558\uc138\uc694)\n",
        "Pic Frames Grunge\n",
        "Root Checker\n",
        "MapQuest\n",
        "edu-ManagerM\n",
        "KDB\ub300\uc6b0\uc99d\uad8c Smart Neo\n",
        "Learn Iqra\n",
        "\uc644\uc804\ubb34\ub8cc :\uce74\ud1a1\uc74c,\ubb38\uc790\uc74c,\uc54c\ub9bc\uc74c,\uce74\uce74\uc624\ud1a1\uc54c\ub9bc,\ubb34\ub8cc\ubca8\uc18c\ub9ac\n",
        "\uc560\ub4dc\ub9ac\uce58\n",
        "\u0646\u0643\u062a 2013\n",
        "Monster GO Locker Theme\n",
        "\u624b\u6a5f\u4e09\u570b\u570b\u969b\u7248\n",
        "4 Player Reactor\n",
        "Flattening High Heels\n",
        "\uace0\uc18d\ubc84\uc2a4 \uc608\ub9e4 (ExpressBUS)\n",
        "TypoClock Free\n",
        "\ud50c\ub798\uc2dc \ud50c\ub808\uc774\uc5b4 \uc6f9 (\ubc29\ubc95\uae4c\uc9c0)\n",
        "\uc54c\ub9bc\uc74c\ucc9c\uad6d! \ubb34\ub8cc\uce74\ud1a1\uc74c, \ubb38\uc790\uc74c, \uc54c\ub9bc\uc74c, \ubca8\uc18c\ub9ac\n",
        "KB\uad6d\ubbfc USIM \ubaa8\ubc14\uc77c\uce74\ub4dc(SKT\uc6a9)\n",
        "\u83ef\u8a9e\u6d41\u884c\u97f3\u6a02\u6392\u884c\u699c\uff5e\u9644MV\u5f71\u7247\u3001MP3\u97f3\u6a02\u3001\u6b4c\u8a5e\u7b49\u5feb\u901f\u641c\u5c0b\n",
        "\ubaa8\ub4e0\ub3d9\uc601\uc0c1[\uc131\uc778,\ucd5c\uc2e0\uc601\ud654,\ub4dc\ub77c\ub9c8,\ub9cc\ud654,\uc560\ub2c8-\ubb34\ub8cc\ud3ec\ud568\n",
        "THE Lite\n",
        "Basketball Mania\n",
        "Pokec\n",
        "\ucd2c\uc601 \ub2e4\ud2b8\n",
        "NFL 2013 Live Wallpaper\n",
        "Macau Useful Phone\n",
        "Luntik\uc758 \uc0c9\n",
        "\uac00\uc9dc \uc804\ud654\n",
        "\uc560\ub2c8\uc2a4\ud130\ub514\n",
        "mySYNC\n",
        "Media Hub Samsung ICS & JB\n",
        "Bubbles *Free Edition*\n",
        "Tiki Golf 3D FREE\n",
        "Minecraft Multiplayer-italia\n",
        "Lego building examples\n",
        "OFCA Broadband Performance Tst\n",
        "\uc774 \uc791\uc740 \uad34\ubb3c HD Pro\ub97c \ub204\ub974\uc138\uc694\n",
        "Autostarts\n",
        "\uce68\uc2e4 \ub514\uc790\uc778 \uc544\uc774\ub514\uc5b4\n",
        "\uc139\uc2dc\ud55c \ube44\ub514\uc624 - \uc548\ub098\n",
        "\u4e00\u751f\u5fc5\u8b80\u768460\u90e8\u540d\u8457\n",
        "Le Test De Stupidit\u00e9\n",
        "Watch Movies\n",
        "Slot Machine\n",
        "Smart Darts\n",
        "USAflag \ud14c\ub9c8 \uc2e4\ud589\uae30\uc758 EX\ub85c \uc774\ub3d9\n",
        "Picasa Mobile\n",
        "Optimus UI\n",
        "Horoscope\n",
        "ICS keyboard full\n",
        "\u9060\u50b3\u5f71\u57ce\n",
        "\ubbf8\uc18c! \uc7ac\ubbf8 :)\n",
        "Watch Live Madinah 24 Hours\n",
        "iHandy Level Free\n",
        "Gps Speedometer\n",
        "Memes\ub294 \ubc30\uacbd \ud654\uba74 \ub77c\uc774\ube0c\n",
        "\u5168\u5e74\u597d\u65e5\u66c6\n",
        "iMoovez \u0627\u0641\u0644\u0627\u0645 \u0639\u0631\u0628\u064a\u0629\n",
        "BerlinTN\n",
        "Pr\u0161\u00ed\n",
        "Wiimote Controller\n",
        "\u0420\u0443\u0441\u0441\u043a\u043e\u0435 \u0422\u0412 HD\n",
        "\u6fb3\u9580\u5546\u5e97 Macau Shops\n",
        "GameTwist Slots\n",
        "Minecraft HD Wallpapers\n",
        "Full Screen Caller ID\n",
        "Highway Death Racing\n",
        "\uc2e0\ubb34\ub9bc\ub300\uc804SE\n",
        "Jewel Pop Free\n",
        "\u624b\u6a5f\u8cc7\u8cbb\n",
        "Greenlight golauncher EX theme\n",
        "\ub0a8\uce5c\uc5ec\uce5c\ub9cc\ub4dc\ub294\uc571!, \ucf54\ucf54\uc544\ubd81\n",
        "\uc77c\ubab0 3D \ub77c\uc774\ube0c \uc6d4\ud398\uc774\ud37c\n",
        "Blic\n",
        "Poker Shark\n",
        "AccuWeather Quick\n",
        "Dieta e Sa\u00fade\n",
        "\ub204\ub9ac \uc2ac\ub86f\uce20 - \ub77c\uc774\ud2b8\ub2dd \ud53c\ubc84\n",
        "Ice Cream Sandwich Keyboard\n",
        "Next Launcher Theme iPhone5\n",
        "\u534e\u5eb7\u5c11\u5973\u5b57\u4f53\n",
        "\u611b\u53f0\u7063\u6253\u9ebb\u5c07(\u55ae\u6a5f+\u9023\u7dda)\n",
        "Mytunu\n",
        "[\ubb34\ub8cc\ub9cc\ud654] \ubca0\uc2a4\ud2b8 \ub9cc\ud654 - \uc561\uc158,\uc21c\uc815,\uc77c\ubcf8\n",
        "KIDZ SKATE Lite\n",
        "\u96fb\u8996\u5427\n",
        "Super Earth Wallpaper Free\n",
        "\uccb4\uc778\ud321 \ubaa8\ubc14\uac8c\ud310\n",
        "ONLINE RPG  AVABEL \uff08\uc544\ubc14\ubca8\uc628\ub77c\uc778\uff09\n",
        "\ubaa8\ubc14\uc77c\ud2f0\uba38\ub2c8(SKT\uc0ac\uc6a9\uc790\uc6a9)\n",
        "Doodle Sprint Fly & Jump Free\n",
        "\uc2a4\uce74\uc774 \ub9f5\n",
        "\ubb38\uc131\uc2e4\uc758 \ub69d\ub531\uc694\ub9ac\n",
        "\ubd04\ub098\ub4e4\uc774\ub3c4\uc2dc\ub77d\ub9cc\ub4e4\uae30\n",
        "Fake-A-Call Free\n",
        "Flying Weed Live Wallpaper\n",
        "(ABC \uc54c\uc544\ubcf4\uae30) \ubb34\ub8cc \uc77d\uc744 \uc218 \uc54c\uc544\ubcf4\uae30\n",
        "THE KING OF FIGHTERS Android\n",
        "\u97d3\u570b\u83dc\u98df\u8b5c\n",
        "\uc0bc\uc131 \uc2a4\ub9c8\ud2b8 \ud648\n",
        "\uc74c\uc545 \ud50c\ub808\uc774\uc5b4 \ud504\ub85c\n",
        "\uce94\ubc84\uc2a4 \ud1a1\n",
        "Buraco Free\n",
        "\u81f3\u5c0a\u9ebb\u5c07\u738b HD (\u55ae\u6a5f\u7248 Mahjong)\n",
        "Jungle Waterfall LiveWallpaper\n",
        "\ub9c8\uc9c0\ub9c9\uc73c\ub85c \uc2a4\ud0e0\ub4dc \ub77c\uc774\ud2b8\n",
        "\ud574\uc801 (Pirates)\n",
        "\u5152\u7ae5\u6578\u5b78\u6a02\u5712\n",
        "docomo Palette UI\n",
        "Siegecraft Lite\n",
        "[\uc11c\ube44\uc2a4 \uc885\ub8cc]\ub77c\uadf8\ub098\ube0c\ub808\uc774\ud06c\n",
        "\uc18c\ub140 \uc138\ucc99 \ud654\uba74\n",
        "Somyeol - \uc810\ud504 \uc564 \ub7f0\n",
        "Jupiler Pro League\n",
        "Intuit GoPayment Card Reader\n",
        "Night Market\n",
        "HexDefense\n",
        "Romanian for GO Keyboard\n",
        "\u63a5\u96de\u86cbARMv6\n",
        "Bracket\n",
        "\uc640\uc774\ud30c\uc774 \ud574\ucee4 \ud0a4 \ud328\uc2a4\n",
        "WooFoo - \uc5b4\ub9b0\uc774\uc6a9 \uac8c\uc784\n",
        "AREL WARS\u2122\n",
        "AnTuTu Tester\n",
        "KPOP Music Game\n",
        "\uc774\uc804 \uc804\ud654 \ubca8\uc18c\ub9ac\n",
        "Geared\n",
        "\ub9e4\uc9c1 \ub9ac\ud50c : \uc544\uae30 \ubb3c\uc5d0\n",
        "TS\ud558\ub298\ub9d1\uc74c\u2122 \ud55c\uad6d\uc5b4 Flipfont\n",
        "HD\uc601\uc0c1\ud1b5\ud654 (480*800)\n",
        "\u0627\u0644\u0643\u0634\u0627\u0641\n",
        "\u96f2\u7aef\u767c\u7968\n",
        "\ube68\ub9ac\uc554\uae30 \ub9cc\ub2a5\uc758 \ud50c\ub798\uc2dc \uce74\ub4dc\n",
        "InstaFrame Style\n",
        "Cool Blue\u3010\ubc14\ud0d5 \ud654\uba74 \ud14c\ub9c8\ub294 GO\u3011\n",
        "\ub9c8\ub9ac\uc624 \uc6d4\ub4dc \ubc30\uacbd \ud654\uba74 HD \ub97c \ub17c\uc758\n",
        "Turbo Cricket\n",
        "\uc571\uac00\uc774\ub4dc\n",
        "Race Pilot 3D Full\n",
        "\ud30c\uc6cc\ub808\uc778\uc800 \uc7a5\ub09c\uac10 \uc644\uad6c - \uc5b4\ub9b0\uc774 \uac8c\uc784\n",
        "Dispara al Pato\n",
        "\uc721\uac01\ud615 \ub1cc\uad6c\uc870 \ud14c\uc2a4\ud2b8\n",
        "\u8d85\u6e96\u5fc3\u7406\u6e2c\u9a57\n",
        "\ub2e8\uc5b4 \uac80\uc0c9\uc744 Word Search\n",
        "Youtube.G\n",
        "Shane Reaction! Zombie Dash\n",
        "Arabic Language Pack\n",
        "FIFA 12 EA SPORTS Guide\n",
        "Tank War Defender\n",
        "sexy \uc5ec\ub300\uc0dd \ud6d4\uccd0\ubcf4\uae30\n",
        "\u5468\u516c\u89e3\u5922(\u7e41\u9ad4)\n",
        "now \u8ca1\u7d93 - \u80a1\u7968\u8cc7\u8a0a\n",
        "iWow\u611b\u6316\u5bf6-\u514d\u8cbb\u80a1\u5e02\u5831\u50f9\u770b\u76e4APP\n",
        "\uc0c8\uc8fc\uc18c/\ub3c4\ub85c\uba85\uc8fc\uc18c/\uc6b0\ud3b8\ubc88\ud638 \uac80\uc0c9 \ubcc0\ud658\n",
        "\ucd08\uac04\ub2e8 \uc190\uc804\ub4f1\n",
        "\ud1b5\ud070\ucfe0\ud3f0-\ucd5c\uc2e0\uc601\ud654,\ub4dc\ub77c\ub9c8,\uac8c\uc784 \uc6f9\ud558\ub4dc\ubb34\ub8cc\ucfe0\ud3f0 \ubaa8\uc74c\n",
        "Rogers One Number Contacts\n",
        "[\uadf8\ub0a0] - \ub514\ub370\uc774 dday \uc74c\ub825 \uae30\ub150\uc77c \ub2ec\ub825 \uce98\ub9b0\ub354\n",
        "The Ugly Duckling\n",
        "Angel Piano.\n",
        "PapiStep\n",
        "\ubb3c\ubc29\uc6b8\n"
       ]
      }
     ],
     "prompt_number": 6
    },
    {
     "cell_type": "heading",
     "level": 3,
     "metadata": {},
     "source": [
      "Clustering"
     ]
    },
    {
     "cell_type": "code",
     "collapsed": false,
     "input": [
      "#for i, a in app2_2000_name.iterrows():\n",
      "  #  print i, a['name'], query_count(a['name'])"
     ],
     "language": "python",
     "metadata": {},
     "outputs": [],
     "prompt_number": 32
    },
    {
     "cell_type": "code",
     "collapsed": false,
     "input": [
      "keywords = [\"\ubbf8\uc6a9\", \"\uc74c\uc545\", \"\ub9ac\ubdf0\", \"\uc5f0\uc608\", \"\uc74c\uc2dd\", \"\uc2a4\ud3ec\uce20\", \"\uac8c\uc784\", \"\uac74\uac15\", \"\ud559\uc2b5\", \"\ucee4\ubba4\ub2c8\ud2f0\"]\n",
      "\n",
      "applist = app2_2000_name['name']\n",
      "applist"
     ],
     "language": "python",
     "metadata": {},
     "outputs": [
      {
       "output_type": "pyout",
       "prompt_number": 28,
       "text": [
        "0     100 \ubbf8\uc158 : \ub77c\uc2a4 \ubca0\uc774\uac70\uc2a4 (Las Vegas)\n",
        "1                           \uc778\ubca0\uc774\ub354\ud5cc\ud130\n",
        "2            GTA Vice City Cheater\n",
        "3                     \uc5d8\uc18c\ub4dc \uc2a4\ud0ac\ud2b8\ub9ac(\uc544\ub77c)\n",
        "4                         \ubbf8\ub140\ubcc0\ud638\uc0ac\uc138\ub9ac\ud0b4\n",
        "5                 Pet Fair Village\n",
        "6                      Forest Life\n",
        "7                   \uc138\uacc4\uc5d0\uc11c \uc81c\uc77c \ube60\ub978 \ub808\ubca8\uc5c5\n",
        "8                      Devil Girls\n",
        "9     \u2605 \uc131\uc778\uc6a9 \ub9de\uace0\uc758 \uc885\uacb0\uc790!! \u2605 \uc7a5\ubaa8\ub2d8\uc758 \ub098\ub77c \ub9de\uace0\n",
        "10                  \ud6c4\ub974\uce20\uc7bc for Kakao\n",
        "11                 \uc139\uc2dc\ud55c \uc5ec\uc790 \ud06c\ub9ac\uc2a4\ub9c8\uc2a4 \ud37c\uc990\n",
        "12                  \ucd08\ucf54\ucd08\ucf54 for Kakao\n",
        "13                       Miners 4k\n",
        "14                     Top Stylist\n",
        "...\n",
        "1985          FIFA 12 EA SPORTS Guide\n",
        "1986                Tank War Defender\n",
        "1987                    sexy \uc5ec\ub300\uc0dd \ud6d4\uccd0\ubcf4\uae30\n",
        "1988                         \u5468\u516c\u89e3\u5922(\u7e41\u9ad4)\n",
        "1989                    now \u8ca1\u7d93 - \u80a1\u7968\u8cc7\u8a0a\n",
        "1990              iWow\u611b\u6316\u5bf6-\u514d\u8cbb\u80a1\u5e02\u5831\u50f9\u770b\u76e4APP\n",
        "1991             \uc0c8\uc8fc\uc18c/\ub3c4\ub85c\uba85\uc8fc\uc18c/\uc6b0\ud3b8\ubc88\ud638 \uac80\uc0c9 \ubcc0\ud658\n",
        "1992                          \ucd08\uac04\ub2e8 \uc190\uc804\ub4f1\n",
        "1993      \ud1b5\ud070\ucfe0\ud3f0-\ucd5c\uc2e0\uc601\ud654,\ub4dc\ub77c\ub9c8,\uac8c\uc784 \uc6f9\ud558\ub4dc\ubb34\ub8cc\ucfe0\ud3f0 \ubaa8\uc74c\n",
        "1994       Rogers One Number Contacts\n",
        "1995    [\uadf8\ub0a0] - \ub514\ub370\uc774 dday \uc74c\ub825 \uae30\ub150\uc77c \ub2ec\ub825 \uce98\ub9b0\ub354\n",
        "1996                The Ugly Duckling\n",
        "1997                     Angel Piano.\n",
        "1998                         PapiStep\n",
        "1999                              \ubb3c\ubc29\uc6b8\n",
        "Name: name, Length: 2000, dtype: object"
       ]
      }
     ],
     "prompt_number": 28
    },
    {
     "cell_type": "markdown",
     "metadata": {},
     "source": [
      "# PMI \uc218\uc9d1"
     ]
    },
    {
     "cell_type": "code",
     "collapsed": false,
     "input": [
      "import re\n",
      "import requests\n",
      "from scrapy.selector import HtmlXPathSelector\n",
      "\n",
      "def getNumberOfNaverSearchResult(q):\n",
      "    \"\"\"\n",
      "    parameter:\n",
      "        q : String for search.\n",
      "    \"\"\"\n",
      "    q='+'.join(q.split())\n",
      "    xpath = \"\"\"//div[@id='content']/div[@class='blog section _blogBase']/div[@class='section_head']/span[@class='title_num']\"\"\"\n",
      "    html = requests.get(\"http://cafeblog.search.naver.com/search.naver?where=post&sm=tab_jum&ie=utf8&query=\"+q).text\n",
      "    hx =HtmlXPathSelector(text=html)\n",
      "    items = hx.select(xpath)\n",
      "    inputstr = (items.extract()[0].split()[3]+\"\")\n",
      "    result = int(''.join(re.findall(r'\\d+', inputstr)))\n",
      "    return result\n"
     ],
     "language": "python",
     "metadata": {},
     "outputs": [],
     "prompt_number": 9
    },
    {
     "cell_type": "code",
     "collapsed": false,
     "input": [
      "keyword = '\ud558\ub298'\n",
      "set_query_count(keyword, getNumberOfNaverSearchResult(keyword))\n",
      "print query_count(keyword)"
     ],
     "language": "python",
     "metadata": {},
     "outputs": [
      {
       "output_type": "stream",
       "stream": "stdout",
       "text": [
        "9071370\n"
       ]
      }
     ],
     "prompt_number": 11
    },
    {
     "cell_type": "code",
     "collapsed": false,
     "input": [
      "df = createPMIDataFrame(applist, keywords)\n",
      "df"
     ],
     "language": "python",
     "metadata": {},
     "outputs": [
      {
       "html": [
        "<pre>\n",
        "&ltclass 'pandas.core.frame.DataFrame'&gt\n",
        "Index: 2000 entries, 100 \ubbf8\uc158 : \ub77c\uc2a4 \ubca0\uc774\uac70\uc2a4 (Las Vegas) to \ubb3c\ubc29\uc6b8\n",
        "Data columns (total 10 columns):\n",
        "\ubbf8\uc6a9      2000  non-null values\n",
        "\uc74c\uc545      2000  non-null values\n",
        "\ub9ac\ubdf0      2000  non-null values\n",
        "\uc5f0\uc608      2000  non-null values\n",
        "\uc74c\uc2dd      2000  non-null values\n",
        "\uc2a4\ud3ec\uce20     2000  non-null values\n",
        "\uac8c\uc784      2000  non-null values\n",
        "\uac74\uac15      2000  non-null values\n",
        "\ud559\uc2b5      2000  non-null values\n",
        "\ucee4\ubba4\ub2c8\ud2f0    2000  non-null values\n",
        "dtypes: float64(10)\n",
        "</pre>"
       ],
       "output_type": "pyout",
       "prompt_number": 29,
       "text": [
        "<class 'pandas.core.frame.DataFrame'>\n",
        "Index: 2000 entries, 100 \ubbf8\uc158 : \ub77c\uc2a4 \ubca0\uc774\uac70\uc2a4 (Las Vegas) to \ubb3c\ubc29\uc6b8\n",
        "Data columns (total 10 columns):\n",
        "\ubbf8\uc6a9      2000  non-null values\n",
        "\uc74c\uc545      2000  non-null values\n",
        "\ub9ac\ubdf0      2000  non-null values\n",
        "\uc5f0\uc608      2000  non-null values\n",
        "\uc74c\uc2dd      2000  non-null values\n",
        "\uc2a4\ud3ec\uce20     2000  non-null values\n",
        "\uac8c\uc784      2000  non-null values\n",
        "\uac74\uac15      2000  non-null values\n",
        "\ud559\uc2b5      2000  non-null values\n",
        "\ucee4\ubba4\ub2c8\ud2f0    2000  non-null values\n",
        "dtypes: float64(10)"
       ]
      }
     ],
     "prompt_number": 29
    },
    {
     "cell_type": "code",
     "collapsed": false,
     "input": [
      "print df.head(50)"
     ],
     "language": "python",
     "metadata": {},
     "outputs": [
      {
       "output_type": "stream",
       "stream": "stdout",
       "text": [
        "                               \ubbf8\uc6a9  \uc74c\uc545  \ub9ac\ubdf0  \uc5f0\uc608  \uc74c\uc2dd  \uc2a4\ud3ec\uce20  \uac8c\uc784  \uac74\uac15  \ud559\uc2b5  \ucee4\ubba4\ub2c8\ud2f0\n",
        "name                                                                    \n",
        "100 \ubbf8\uc158 : \ub77c\uc2a4 \ubca0\uc774\uac70\uc2a4 (Las Vegas)    0   0   0   0   0    0   0   0   0     0\n",
        "\uc778\ubca0\uc774\ub354\ud5cc\ud130                          0   0   0   0   0    0   0   0   0     0\n",
        "GTA Vice City Cheater           0   0   0   0   0    0   0   0   0     0\n",
        "\uc5d8\uc18c\ub4dc \uc2a4\ud0ac\ud2b8\ub9ac(\uc544\ub77c)                    0   0   0   0   0    0   0   0   0     0\n",
        "\ubbf8\ub140\ubcc0\ud638\uc0ac\uc138\ub9ac\ud0b4                        0   0   0   0   0    0   0   0   0     0\n",
        "Pet Fair Village                0   0   0   0   0    0   0   0   0     0\n",
        "Forest Life                     0   0   0   0   0    0   0   0   0     0\n",
        "\uc138\uacc4\uc5d0\uc11c \uc81c\uc77c \ube60\ub978 \ub808\ubca8\uc5c5                  0   0   0   0   0    0   0   0   0     0\n",
        "Devil Girls                     0   0   0   0   0    0   0   0   0     0\n",
        "\u2605 \uc131\uc778\uc6a9 \ub9de\uace0\uc758 \uc885\uacb0\uc790!! \u2605 \uc7a5\ubaa8\ub2d8\uc758 \ub098\ub77c \ub9de\uace0    0   0   0   0   0    0   0   0   0     0\n",
        "\ud6c4\ub974\uce20\uc7bc for Kakao                  0   0   0   0   0    0   0   0   0     0\n",
        "\uc139\uc2dc\ud55c \uc5ec\uc790 \ud06c\ub9ac\uc2a4\ub9c8\uc2a4 \ud37c\uc990                 0   0   0   0   0    0   0   0   0     0\n",
        "\ucd08\ucf54\ucd08\ucf54 for Kakao                  0   0   0   0   0    0   0   0   0     0\n",
        "Miners 4k                       0   0   0   0   0    0   0   0   0     0\n",
        "Top Stylist                     0   0   0   0   0    0   0   0   0     0\n",
        "\uc5d8\ub9ac\uba58\ud0c8\ub098\uc774\uce20 \uc628\ub77c\uc778 (EKO)               0   0   0   0   0    0   0   0   0     0\n",
        "FINAL FANTASY DIMENSIONS        0   0   0   0   0    0   0   0   0     0\n",
        "\ube14\ub8f8\ud31d (Bloom-PoP)                 0   0   0   0   0    0   0   0   0     0\n",
        "METAL SLUG                      0   0   0   0   0    0   0   0   0     0\n",
        "Pudding Monsters HD (\ud478\ub529 \ubaac\uc2a4\ud130)    0   0   0   0   0    0   0   0   0     0\n",
        "\uadf8\ub140\ub294\ud3ab2 \u2665D\ucef5 \uadf8\ub77c\ube44\uc544 Sexy \uc2a4\ud0c0  \uc5d0\ubc00\ub9ac     0   0   0   0   0    0   0   0   0     0\n",
        "\ud3ab \uce74\ud398 2                          0   0   0   0   0    0   0   0   0     0\n",
        "\ud038\uc988\uc560\ub85c\uc6b0 ( \uc591\uad81 )                    0   0   0   0   0    0   0   0   0     0\n",
        "\ud504\ub9ac\ud2f0 \ud3ab \ud1a0\uc774 \uc2a4\ud1a0\uc5b4                    0   0   0   0   0    0   0   0   0     0\n",
        "\ud50c\ub77c\uc789 \ubc84\ub514 for Kakao                0   0   0   0   0    0   0   0   0     0\n",
        "\uce90\ub9ad\ud130\ud321 for Kakao                  0   0   0   0   0    0   0   0   0     0\n",
        "\ub808\uc774\uc2f1 \uc790\ub3d9\ucc28 \uc9c0\uadf8 \uc18c \ud37c\uc990                 0   0   0   0   0    0   0   0   0     0\n",
        "Berzerk Ball 2                  0   0   0   0   0    0   0   0   0     0\n",
        "AE Coin Mania                   0   0   0   0   0    0   0   0   0     0\n",
        "\ubbf8\ub2c8 \uace8\ud504 3D \uacf5\uac04 : \ud37c\ud2b8 \ud37c\ud2b8             0   0   0   0   0    0   0   0   0     0\n",
        "Contre Jour                     0   0   0   0   0    0   0   0   0     0\n",
        "\ubc30\ud2c0\uc544\ub808\ub098(BattleArena)              0   0   0   0   0    0   0   0   0     0\n",
        "\ubc84\uac70 \ud328\uc2a4\ud2b8 \ud478\ub4dc \uc2a4\ud0e0\ub4dc \uba54\uc774\ucee4               0   0   0   0   0    0   0   0   0     0\n",
        "Scarface                        0   0   0   0   0    0   0   0   0     0\n",
        "\uc824\ub9ac\ubf40 for Kakao                   0   0   0   0   0    0   0   0   0     0\n",
        "\ubb34\ub364 \ubcf4\uc11d                           0   0   0   0   0    0   0   0   0     0\n",
        "\ud504\ub9b0\uc138\uc2a4*\ud37c\uc990                         0   0   0   0   0    0   0   0   0     0\n",
        "Raging Fire Racing              0   0   0   0   0    0   0   0   0     0\n",
        "\ub0b4 \uc0ac\ub791\uc2a4\ub7ec\uc6b4 \ub3fc\uc9c0                      0   0   0   0   0    0   0   0   0     0\n",
        "\uce90\ucc60\ud504\ub9b0\uc2a4 for Kakao                 0   0   0   0   0    0   0   0   0     0\n",
        "Angry Fatty                     0   0   0   0   0    0   0   0   0     0\n",
        "\ub4dc\ub798\uace4 \uc2a4\ud1a0\ub9ac: \ubd80\ud65c\uc808 \uc5d0\ub514\uc158                0   0   0   0   0    0   0   0   0     0\n",
        "\ubd88\uad50\ubc29\uc1a1                            0   0   0   0   0    0   0   0   0     0\n",
        "Save Toshi \u65e5\u672c                   0   0   0   0   0    0   0   0   0     0\n",
        "\u042f\u0439\u0446\u0435\u043b\u043e\u0432                         0   0   0   0   0    0   0   0   0     0\n",
        "\uc5b4\ub9b0\uc774\ub97c\uc704\ud55c \uc790\uc7a5\uac00                      0   0   0   0   0    0   0   0   0     0\n",
        "\ud788\uc5b4\ub85c\uc2ac\ub808\uc774\uc5b4! [\uac04\ub2e8\ud788 \uc990\uae30\ub294  \ud37c\uc990&\ub514\ud39c\uc2a4 \uac8c\uc784]   0   0   0   0   0    0   0   0   0     0\n",
        "Christmas Hangman Deluxe        0   0   0   0   0    0   0   0   0     0\n",
        "Star Defender 4 (Free)          0   0   0   0   0    0   0   0   0     0\n",
        "Clash of the Olympians          0   0   0   0   0    0   0   0   0     0\n"
       ]
      }
     ],
     "prompt_number": 37
    },
    {
     "cell_type": "code",
     "collapsed": false,
     "input": [
      "for a in applist:\n",
      "    for b in keywords:\n",
      "        print a, b\n",
      "        setPMI(df, a, b, calcPMI(query_count(a), query_count(b), query_count(a+'+'+b), 10000000.0))"
     ],
     "language": "python",
     "metadata": {},
     "outputs": [
      {
       "output_type": "stream",
       "stream": "stdout",
       "text": [
        "100 \ubbf8\uc158 : \ub77c\uc2a4 \ubca0\uc774\uac70\uc2a4 (Las Vegas) \ubbf8\uc6a9\n",
        "100 \ubbf8\uc158 : \ub77c\uc2a4 \ubca0\uc774\uac70\uc2a4 (Las Vegas)"
       ]
      },
      {
       "output_type": "stream",
       "stream": "stdout",
       "text": [
        " \uc74c\uc545\n",
        "100 \ubbf8\uc158 : \ub77c\uc2a4 \ubca0\uc774\uac70\uc2a4 (Las Vegas)"
       ]
      },
      {
       "output_type": "stream",
       "stream": "stdout",
       "text": [
        " \ub9ac\ubdf0\n",
        "100 \ubbf8\uc158 : \ub77c\uc2a4 \ubca0\uc774\uac70\uc2a4 (Las Vegas)"
       ]
      },
      {
       "output_type": "stream",
       "stream": "stdout",
       "text": [
        " \uc5f0\uc608\n",
        "100 \ubbf8\uc158 : \ub77c\uc2a4 \ubca0\uc774\uac70\uc2a4 (Las Vegas)"
       ]
      },
      {
       "output_type": "stream",
       "stream": "stdout",
       "text": [
        " \uc74c\uc2dd\n",
        "100 \ubbf8\uc158 : \ub77c\uc2a4 \ubca0\uc774\uac70\uc2a4 (Las Vegas)"
       ]
      },
      {
       "output_type": "stream",
       "stream": "stdout",
       "text": [
        " \uc2a4\ud3ec\uce20\n",
        "100 \ubbf8\uc158 : \ub77c\uc2a4 \ubca0\uc774\uac70\uc2a4 (Las Vegas)"
       ]
      },
      {
       "output_type": "stream",
       "stream": "stdout",
       "text": [
        " \uac8c\uc784\n",
        "100 \ubbf8\uc158 : \ub77c\uc2a4 \ubca0\uc774\uac70\uc2a4 (Las Vegas)"
       ]
      },
      {
       "output_type": "stream",
       "stream": "stdout",
       "text": [
        " \uac74\uac15\n",
        "100 \ubbf8\uc158 : \ub77c\uc2a4 \ubca0\uc774\uac70\uc2a4 (Las Vegas)"
       ]
      },
      {
       "output_type": "stream",
       "stream": "stdout",
       "text": [
        " \ud559\uc2b5\n",
        "100 \ubbf8\uc158 : \ub77c\uc2a4 \ubca0\uc774\uac70\uc2a4 (Las Vegas)"
       ]
      },
      {
       "output_type": "stream",
       "stream": "stdout",
       "text": [
        " \ucee4\ubba4\ub2c8\ud2f0\n",
        "\uc778\ubca0\uc774\ub354\ud5cc\ud130"
       ]
      },
      {
       "output_type": "stream",
       "stream": "stdout",
       "text": [
        " \ubbf8\uc6a9\n",
        "\uc778\ubca0\uc774\ub354\ud5cc\ud130"
       ]
      },
      {
       "output_type": "stream",
       "stream": "stdout",
       "text": [
        " \uc74c\uc545\n",
        "\uc778\ubca0\uc774\ub354\ud5cc\ud130"
       ]
      },
      {
       "output_type": "stream",
       "stream": "stdout",
       "text": [
        " \ub9ac\ubdf0\n",
        "\uc778\ubca0\uc774\ub354\ud5cc\ud130"
       ]
      },
      {
       "output_type": "stream",
       "stream": "stdout",
       "text": [
        " \uc5f0\uc608\n",
        "\uc778\ubca0\uc774\ub354\ud5cc\ud130"
       ]
      },
      {
       "output_type": "stream",
       "stream": "stdout",
       "text": [
        " \uc74c\uc2dd\n",
        "\uc778\ubca0\uc774\ub354\ud5cc\ud130"
       ]
      },
      {
       "output_type": "stream",
       "stream": "stdout",
       "text": [
        " \uc2a4\ud3ec\uce20\n",
        "\uc778\ubca0\uc774\ub354\ud5cc\ud130"
       ]
      },
      {
       "output_type": "stream",
       "stream": "stdout",
       "text": [
        " \uac8c\uc784\n",
        "\uc778\ubca0\uc774\ub354\ud5cc\ud130"
       ]
      },
      {
       "output_type": "stream",
       "stream": "stdout",
       "text": [
        " \uac74\uac15\n",
        "\uc778\ubca0\uc774\ub354\ud5cc\ud130"
       ]
      },
      {
       "output_type": "stream",
       "stream": "stdout",
       "text": [
        " \ud559\uc2b5\n",
        "\uc778\ubca0\uc774\ub354\ud5cc\ud130"
       ]
      },
      {
       "output_type": "stream",
       "stream": "stdout",
       "text": [
        " \ucee4\ubba4\ub2c8\ud2f0\n",
        "GTA Vice City Cheater"
       ]
      },
      {
       "output_type": "stream",
       "stream": "stdout",
       "text": [
        " \ubbf8\uc6a9\n",
        "GTA Vice City Cheater"
       ]
      },
      {
       "output_type": "stream",
       "stream": "stdout",
       "text": [
        " \uc74c\uc545\n",
        "GTA Vice City Cheater"
       ]
      },
      {
       "output_type": "stream",
       "stream": "stdout",
       "text": [
        " \ub9ac\ubdf0\n",
        "GTA Vice City Cheater"
       ]
      },
      {
       "output_type": "stream",
       "stream": "stdout",
       "text": [
        " \uc5f0\uc608\n",
        "GTA Vice City Cheater"
       ]
      },
      {
       "output_type": "stream",
       "stream": "stdout",
       "text": [
        " \uc74c\uc2dd\n",
        "GTA Vice City Cheater"
       ]
      },
      {
       "output_type": "stream",
       "stream": "stdout",
       "text": [
        " \uc2a4\ud3ec\uce20\n",
        "GTA Vice City Cheater"
       ]
      },
      {
       "output_type": "stream",
       "stream": "stdout",
       "text": [
        " \uac8c\uc784\n",
        "GTA Vice City Cheater"
       ]
      },
      {
       "output_type": "stream",
       "stream": "stdout",
       "text": [
        " \uac74\uac15\n",
        "GTA Vice City Cheater"
       ]
      },
      {
       "output_type": "stream",
       "stream": "stdout",
       "text": [
        " \ud559\uc2b5\n",
        "GTA Vice City Cheater"
       ]
      },
      {
       "output_type": "stream",
       "stream": "stdout",
       "text": [
        " \ucee4\ubba4\ub2c8\ud2f0\n",
        "\uc5d8\uc18c\ub4dc \uc2a4\ud0ac\ud2b8\ub9ac(\uc544\ub77c)"
       ]
      },
      {
       "output_type": "stream",
       "stream": "stdout",
       "text": [
        " \ubbf8\uc6a9\n",
        "\uc5d8\uc18c\ub4dc \uc2a4\ud0ac\ud2b8\ub9ac(\uc544\ub77c)"
       ]
      },
      {
       "output_type": "stream",
       "stream": "stdout",
       "text": [
        " \uc74c\uc545\n",
        "\uc5d8\uc18c\ub4dc \uc2a4\ud0ac\ud2b8\ub9ac(\uc544\ub77c)"
       ]
      },
      {
       "output_type": "stream",
       "stream": "stdout",
       "text": [
        " \ub9ac\ubdf0\n",
        "\uc5d8\uc18c\ub4dc \uc2a4\ud0ac\ud2b8\ub9ac(\uc544\ub77c)"
       ]
      },
      {
       "output_type": "stream",
       "stream": "stdout",
       "text": [
        " \uc5f0\uc608\n",
        "\uc5d8\uc18c\ub4dc \uc2a4\ud0ac\ud2b8\ub9ac(\uc544\ub77c)"
       ]
      },
      {
       "output_type": "stream",
       "stream": "stdout",
       "text": [
        " \uc74c\uc2dd\n",
        "\uc5d8\uc18c\ub4dc \uc2a4\ud0ac\ud2b8\ub9ac(\uc544\ub77c)"
       ]
      },
      {
       "output_type": "stream",
       "stream": "stdout",
       "text": [
        " \uc2a4\ud3ec\uce20\n",
        "\uc5d8\uc18c\ub4dc \uc2a4\ud0ac\ud2b8\ub9ac(\uc544\ub77c)"
       ]
      },
      {
       "output_type": "stream",
       "stream": "stdout",
       "text": [
        " \uac8c\uc784\n",
        "\uc5d8\uc18c\ub4dc \uc2a4\ud0ac\ud2b8\ub9ac(\uc544\ub77c)"
       ]
      },
      {
       "output_type": "stream",
       "stream": "stdout",
       "text": [
        " \uac74\uac15\n",
        "\uc5d8\uc18c\ub4dc \uc2a4\ud0ac\ud2b8\ub9ac(\uc544\ub77c)"
       ]
      },
      {
       "output_type": "stream",
       "stream": "stdout",
       "text": [
        " \ud559\uc2b5\n",
        "\uc5d8\uc18c\ub4dc \uc2a4\ud0ac\ud2b8\ub9ac(\uc544\ub77c)"
       ]
      },
      {
       "output_type": "stream",
       "stream": "stdout",
       "text": [
        " \ucee4\ubba4\ub2c8\ud2f0\n",
        "\ubbf8\ub140\ubcc0\ud638\uc0ac\uc138\ub9ac\ud0b4"
       ]
      },
      {
       "output_type": "stream",
       "stream": "stdout",
       "text": [
        " \ubbf8\uc6a9\n",
        "\ubbf8\ub140\ubcc0\ud638\uc0ac\uc138\ub9ac\ud0b4"
       ]
      },
      {
       "output_type": "stream",
       "stream": "stdout",
       "text": [
        " \uc74c\uc545\n",
        "\ubbf8\ub140\ubcc0\ud638\uc0ac\uc138\ub9ac\ud0b4"
       ]
      },
      {
       "output_type": "stream",
       "stream": "stdout",
       "text": [
        " \ub9ac\ubdf0\n",
        "\ubbf8\ub140\ubcc0\ud638\uc0ac\uc138\ub9ac\ud0b4"
       ]
      },
      {
       "output_type": "stream",
       "stream": "stdout",
       "text": [
        " \uc5f0\uc608\n",
        "\ubbf8\ub140\ubcc0\ud638\uc0ac\uc138\ub9ac\ud0b4"
       ]
      },
      {
       "output_type": "stream",
       "stream": "stdout",
       "text": [
        " \uc74c\uc2dd\n",
        "\ubbf8\ub140\ubcc0\ud638\uc0ac\uc138\ub9ac\ud0b4"
       ]
      },
      {
       "output_type": "stream",
       "stream": "stdout",
       "text": [
        " \uc2a4\ud3ec\uce20\n",
        "\ubbf8\ub140\ubcc0\ud638\uc0ac\uc138\ub9ac\ud0b4"
       ]
      },
      {
       "output_type": "stream",
       "stream": "stdout",
       "text": [
        " \uac8c\uc784\n",
        "\ubbf8\ub140\ubcc0\ud638\uc0ac\uc138\ub9ac\ud0b4"
       ]
      },
      {
       "output_type": "stream",
       "stream": "stdout",
       "text": [
        " \uac74\uac15\n",
        "\ubbf8\ub140\ubcc0\ud638\uc0ac\uc138\ub9ac\ud0b4"
       ]
      },
      {
       "output_type": "stream",
       "stream": "stdout",
       "text": [
        " \ud559\uc2b5\n",
        "\ubbf8\ub140\ubcc0\ud638\uc0ac\uc138\ub9ac\ud0b4"
       ]
      },
      {
       "output_type": "stream",
       "stream": "stdout",
       "text": [
        " \ucee4\ubba4\ub2c8\ud2f0\n",
        "Pet Fair Village"
       ]
      },
      {
       "output_type": "stream",
       "stream": "stdout",
       "text": [
        " \ubbf8\uc6a9\n",
        "Pet Fair Village"
       ]
      },
      {
       "output_type": "stream",
       "stream": "stdout",
       "text": [
        " \uc74c\uc545\n",
        "Pet Fair Village"
       ]
      },
      {
       "output_type": "stream",
       "stream": "stdout",
       "text": [
        " \ub9ac\ubdf0\n",
        "Pet Fair Village"
       ]
      },
      {
       "output_type": "stream",
       "stream": "stdout",
       "text": [
        " \uc5f0\uc608\n",
        "Pet Fair Village"
       ]
      },
      {
       "output_type": "stream",
       "stream": "stdout",
       "text": [
        " \uc74c\uc2dd\n",
        "Pet Fair Village"
       ]
      },
      {
       "output_type": "stream",
       "stream": "stdout",
       "text": [
        " \uc2a4\ud3ec\uce20\n",
        "Pet Fair Village"
       ]
      },
      {
       "output_type": "stream",
       "stream": "stdout",
       "text": [
        " \uac8c\uc784\n",
        "Pet Fair Village"
       ]
      },
      {
       "output_type": "stream",
       "stream": "stdout",
       "text": [
        " \uac74\uac15\n",
        "Pet Fair Village"
       ]
      },
      {
       "output_type": "stream",
       "stream": "stdout",
       "text": [
        " \ud559\uc2b5\n",
        "Pet Fair Village"
       ]
      },
      {
       "output_type": "stream",
       "stream": "stdout",
       "text": [
        " \ucee4\ubba4\ub2c8\ud2f0\n",
        "Forest Life"
       ]
      },
      {
       "output_type": "stream",
       "stream": "stdout",
       "text": [
        " \ubbf8\uc6a9\n",
        "Forest Life"
       ]
      },
      {
       "output_type": "stream",
       "stream": "stdout",
       "text": [
        " \uc74c\uc545\n",
        "Forest Life"
       ]
      },
      {
       "output_type": "stream",
       "stream": "stdout",
       "text": [
        " \ub9ac\ubdf0\n",
        "Forest Life"
       ]
      },
      {
       "output_type": "stream",
       "stream": "stdout",
       "text": [
        " \uc5f0\uc608\n",
        "Forest Life"
       ]
      },
      {
       "output_type": "stream",
       "stream": "stdout",
       "text": [
        " \uc74c\uc2dd\n",
        "Forest Life"
       ]
      },
      {
       "output_type": "stream",
       "stream": "stdout",
       "text": [
        " \uc2a4\ud3ec\uce20\n",
        "Forest Life"
       ]
      },
      {
       "output_type": "stream",
       "stream": "stdout",
       "text": [
        " \uac8c\uc784\n",
        "Forest Life"
       ]
      },
      {
       "output_type": "stream",
       "stream": "stdout",
       "text": [
        " \uac74\uac15\n",
        "Forest Life"
       ]
      },
      {
       "output_type": "stream",
       "stream": "stdout",
       "text": [
        " \ud559\uc2b5\n",
        "Forest Life"
       ]
      },
      {
       "output_type": "stream",
       "stream": "stdout",
       "text": [
        " \ucee4\ubba4\ub2c8\ud2f0\n",
        "\uc138\uacc4\uc5d0\uc11c \uc81c\uc77c \ube60\ub978 \ub808\ubca8\uc5c5"
       ]
      },
      {
       "output_type": "stream",
       "stream": "stdout",
       "text": [
        " \ubbf8\uc6a9\n",
        "\uc138\uacc4\uc5d0\uc11c \uc81c\uc77c \ube60\ub978 \ub808\ubca8\uc5c5"
       ]
      },
      {
       "output_type": "stream",
       "stream": "stdout",
       "text": [
        " \uc74c\uc545\n",
        "\uc138\uacc4\uc5d0\uc11c \uc81c\uc77c \ube60\ub978 \ub808\ubca8\uc5c5 \ub9ac\ubdf0\n",
        "\uc138\uacc4\uc5d0\uc11c \uc81c\uc77c \ube60\ub978 \ub808\ubca8\uc5c5"
       ]
      },
      {
       "output_type": "stream",
       "stream": "stdout",
       "text": [
        " \uc5f0\uc608\n",
        "\uc138\uacc4\uc5d0\uc11c \uc81c\uc77c \ube60\ub978 \ub808\ubca8\uc5c5"
       ]
      },
      {
       "output_type": "stream",
       "stream": "stdout",
       "text": [
        " \uc74c\uc2dd\n",
        "\uc138\uacc4\uc5d0\uc11c \uc81c\uc77c \ube60\ub978 \ub808\ubca8\uc5c5"
       ]
      },
      {
       "output_type": "stream",
       "stream": "stdout",
       "text": [
        " \uc2a4\ud3ec\uce20\n",
        "\uc138\uacc4\uc5d0\uc11c \uc81c\uc77c \ube60\ub978 \ub808\ubca8\uc5c5"
       ]
      },
      {
       "output_type": "stream",
       "stream": "stdout",
       "text": [
        " \uac8c\uc784\n",
        "\uc138\uacc4\uc5d0\uc11c \uc81c\uc77c \ube60\ub978 \ub808\ubca8\uc5c5"
       ]
      },
      {
       "output_type": "stream",
       "stream": "stdout",
       "text": [
        " \uac74\uac15\n",
        "\uc138\uacc4\uc5d0\uc11c \uc81c\uc77c \ube60\ub978 \ub808\ubca8\uc5c5"
       ]
      },
      {
       "output_type": "stream",
       "stream": "stdout",
       "text": [
        " \ud559\uc2b5\n",
        "\uc138\uacc4\uc5d0\uc11c \uc81c\uc77c \ube60\ub978 \ub808\ubca8\uc5c5 \ucee4\ubba4\ub2c8\ud2f0\n",
        "Devil Girls"
       ]
      },
      {
       "output_type": "stream",
       "stream": "stdout",
       "text": [
        " \ubbf8\uc6a9\n",
        "Devil Girls"
       ]
      },
      {
       "output_type": "stream",
       "stream": "stdout",
       "text": [
        " \uc74c\uc545\n",
        "Devil Girls"
       ]
      },
      {
       "output_type": "stream",
       "stream": "stdout",
       "text": [
        " \ub9ac\ubdf0\n",
        "Devil Girls"
       ]
      },
      {
       "output_type": "stream",
       "stream": "stdout",
       "text": [
        " \uc5f0\uc608\n",
        "Devil Girls"
       ]
      },
      {
       "output_type": "stream",
       "stream": "stdout",
       "text": [
        " \uc74c\uc2dd\n",
        "Devil Girls"
       ]
      },
      {
       "output_type": "stream",
       "stream": "stdout",
       "text": [
        " \uc2a4\ud3ec\uce20\n",
        "Devil Girls"
       ]
      },
      {
       "output_type": "stream",
       "stream": "stdout",
       "text": [
        " \uac8c\uc784\n",
        "Devil Girls"
       ]
      },
      {
       "output_type": "stream",
       "stream": "stdout",
       "text": [
        " \uac74\uac15\n",
        "Devil Girls"
       ]
      },
      {
       "output_type": "stream",
       "stream": "stdout",
       "text": [
        " \ud559\uc2b5\n",
        "Devil Girls"
       ]
      },
      {
       "output_type": "stream",
       "stream": "stdout",
       "text": [
        " \ucee4\ubba4\ub2c8\ud2f0\n",
        "\u2605 \uc131\uc778\uc6a9 \ub9de\uace0\uc758 \uc885\uacb0\uc790!! \u2605 \uc7a5\ubaa8\ub2d8\uc758 \ub098\ub77c \ub9de\uace0"
       ]
      },
      {
       "output_type": "stream",
       "stream": "stdout",
       "text": [
        " \ubbf8\uc6a9\n",
        "\u2605 \uc131\uc778\uc6a9 \ub9de\uace0\uc758 \uc885\uacb0\uc790!! \u2605 \uc7a5\ubaa8\ub2d8\uc758 \ub098\ub77c \ub9de\uace0"
       ]
      },
      {
       "output_type": "stream",
       "stream": "stdout",
       "text": [
        " \uc74c\uc545\n",
        "\u2605 \uc131\uc778\uc6a9 \ub9de\uace0\uc758 \uc885\uacb0\uc790!! \u2605 \uc7a5\ubaa8\ub2d8\uc758 \ub098\ub77c \ub9de\uace0"
       ]
      },
      {
       "output_type": "stream",
       "stream": "stdout",
       "text": [
        " \ub9ac\ubdf0\n",
        "\u2605 \uc131\uc778\uc6a9 \ub9de\uace0\uc758 \uc885\uacb0\uc790!! \u2605 \uc7a5\ubaa8\ub2d8\uc758 \ub098\ub77c \ub9de\uace0"
       ]
      },
      {
       "output_type": "stream",
       "stream": "stdout",
       "text": [
        " \uc5f0\uc608\n",
        "\u2605 \uc131\uc778\uc6a9 \ub9de\uace0\uc758 \uc885\uacb0\uc790!! \u2605 \uc7a5\ubaa8\ub2d8\uc758 \ub098\ub77c \ub9de\uace0"
       ]
      },
      {
       "output_type": "stream",
       "stream": "stdout",
       "text": [
        " \uc74c\uc2dd\n",
        "\u2605 \uc131\uc778\uc6a9 \ub9de\uace0\uc758 \uc885\uacb0\uc790!! \u2605 \uc7a5\ubaa8\ub2d8\uc758 \ub098\ub77c \ub9de\uace0"
       ]
      },
      {
       "output_type": "stream",
       "stream": "stdout",
       "text": [
        " \uc2a4\ud3ec\uce20\n",
        "\u2605 \uc131\uc778\uc6a9 \ub9de\uace0\uc758 \uc885\uacb0\uc790!! \u2605 \uc7a5\ubaa8\ub2d8\uc758 \ub098\ub77c \ub9de\uace0"
       ]
      },
      {
       "output_type": "stream",
       "stream": "stdout",
       "text": [
        " \uac8c\uc784\n",
        "\u2605 \uc131\uc778\uc6a9 \ub9de\uace0\uc758 \uc885\uacb0\uc790!! \u2605 \uc7a5\ubaa8\ub2d8\uc758 \ub098\ub77c \ub9de\uace0"
       ]
      },
      {
       "output_type": "stream",
       "stream": "stdout",
       "text": [
        " \uac74\uac15\n",
        "\u2605 \uc131\uc778\uc6a9 \ub9de\uace0\uc758 \uc885\uacb0\uc790!! \u2605 \uc7a5\ubaa8\ub2d8\uc758 \ub098\ub77c \ub9de\uace0"
       ]
      },
      {
       "output_type": "stream",
       "stream": "stdout",
       "text": [
        " \ud559\uc2b5\n",
        "\u2605 \uc131\uc778\uc6a9 \ub9de\uace0\uc758 \uc885\uacb0\uc790!! \u2605 \uc7a5\ubaa8\ub2d8\uc758 \ub098\ub77c \ub9de\uace0"
       ]
      },
      {
       "output_type": "stream",
       "stream": "stdout",
       "text": [
        " \ucee4\ubba4\ub2c8\ud2f0\n",
        "\ud6c4\ub974\uce20\uc7bc for Kakao"
       ]
      },
      {
       "output_type": "stream",
       "stream": "stdout",
       "text": [
        " \ubbf8\uc6a9\n",
        "\ud6c4\ub974\uce20\uc7bc for Kakao"
       ]
      },
      {
       "output_type": "stream",
       "stream": "stdout",
       "text": [
        " \uc74c\uc545\n",
        "\ud6c4\ub974\uce20\uc7bc for Kakao"
       ]
      },
      {
       "output_type": "stream",
       "stream": "stdout",
       "text": [
        " \ub9ac\ubdf0\n",
        "\ud6c4\ub974\uce20\uc7bc for Kakao"
       ]
      },
      {
       "output_type": "stream",
       "stream": "stdout",
       "text": [
        " \uc5f0\uc608\n",
        "\ud6c4\ub974\uce20\uc7bc for Kakao"
       ]
      },
      {
       "output_type": "stream",
       "stream": "stdout",
       "text": [
        " \uc74c\uc2dd\n",
        "\ud6c4\ub974\uce20\uc7bc for Kakao"
       ]
      },
      {
       "output_type": "stream",
       "stream": "stdout",
       "text": [
        " \uc2a4\ud3ec\uce20\n",
        "\ud6c4\ub974\uce20\uc7bc for Kakao"
       ]
      },
      {
       "output_type": "stream",
       "stream": "stdout",
       "text": [
        " \uac8c\uc784\n",
        "\ud6c4\ub974\uce20\uc7bc for Kakao"
       ]
      },
      {
       "output_type": "stream",
       "stream": "stdout",
       "text": [
        " \uac74\uac15\n",
        "\ud6c4\ub974\uce20\uc7bc for Kakao"
       ]
      },
      {
       "output_type": "stream",
       "stream": "stdout",
       "text": [
        " \ud559\uc2b5\n",
        "\ud6c4\ub974\uce20\uc7bc for Kakao"
       ]
      },
      {
       "output_type": "stream",
       "stream": "stdout",
       "text": [
        " \ucee4\ubba4\ub2c8\ud2f0\n",
        "\uc139\uc2dc\ud55c \uc5ec\uc790 \ud06c\ub9ac\uc2a4\ub9c8\uc2a4 \ud37c\uc990"
       ]
      },
      {
       "output_type": "stream",
       "stream": "stdout",
       "text": [
        " \ubbf8\uc6a9\n",
        "\uc139\uc2dc\ud55c \uc5ec\uc790 \ud06c\ub9ac\uc2a4\ub9c8\uc2a4 \ud37c\uc990"
       ]
      },
      {
       "output_type": "stream",
       "stream": "stdout",
       "text": [
        " \uc74c\uc545\n",
        "\uc139\uc2dc\ud55c \uc5ec\uc790 \ud06c\ub9ac\uc2a4\ub9c8\uc2a4 \ud37c\uc990 \ub9ac\ubdf0\n",
        "\uc139\uc2dc\ud55c \uc5ec\uc790 \ud06c\ub9ac\uc2a4\ub9c8\uc2a4 \ud37c\uc990"
       ]
      },
      {
       "output_type": "stream",
       "stream": "stdout",
       "text": [
        " \uc5f0\uc608\n",
        "\uc139\uc2dc\ud55c \uc5ec\uc790 \ud06c\ub9ac\uc2a4\ub9c8\uc2a4 \ud37c\uc990"
       ]
      },
      {
       "output_type": "stream",
       "stream": "stdout",
       "text": [
        " \uc74c\uc2dd\n",
        "\uc139\uc2dc\ud55c \uc5ec\uc790 \ud06c\ub9ac\uc2a4\ub9c8\uc2a4 \ud37c\uc990"
       ]
      },
      {
       "output_type": "stream",
       "stream": "stdout",
       "text": [
        " \uc2a4\ud3ec\uce20\n",
        "\uc139\uc2dc\ud55c \uc5ec\uc790 \ud06c\ub9ac\uc2a4\ub9c8\uc2a4 \ud37c\uc990"
       ]
      },
      {
       "output_type": "stream",
       "stream": "stdout",
       "text": [
        " \uac8c\uc784\n",
        "\uc139\uc2dc\ud55c \uc5ec\uc790 \ud06c\ub9ac\uc2a4\ub9c8\uc2a4 \ud37c\uc990"
       ]
      },
      {
       "output_type": "stream",
       "stream": "stdout",
       "text": [
        " \uac74\uac15\n",
        "\uc139\uc2dc\ud55c \uc5ec\uc790 \ud06c\ub9ac\uc2a4\ub9c8\uc2a4 \ud37c\uc990"
       ]
      },
      {
       "output_type": "stream",
       "stream": "stdout",
       "text": [
        " \ud559\uc2b5\n",
        "\uc139\uc2dc\ud55c \uc5ec\uc790 \ud06c\ub9ac\uc2a4\ub9c8\uc2a4 \ud37c\uc990"
       ]
      },
      {
       "output_type": "stream",
       "stream": "stdout",
       "text": [
        " \ucee4\ubba4\ub2c8\ud2f0\n",
        "\ucd08\ucf54\ucd08\ucf54 for Kakao"
       ]
      },
      {
       "output_type": "stream",
       "stream": "stdout",
       "text": [
        " \ubbf8\uc6a9\n",
        "\ucd08\ucf54\ucd08\ucf54 for Kakao"
       ]
      },
      {
       "output_type": "stream",
       "stream": "stdout",
       "text": [
        " \uc74c\uc545\n",
        "\ucd08\ucf54\ucd08\ucf54 for Kakao"
       ]
      },
      {
       "output_type": "stream",
       "stream": "stdout",
       "text": [
        " \ub9ac\ubdf0\n",
        "\ucd08\ucf54\ucd08\ucf54 for Kakao"
       ]
      },
      {
       "output_type": "stream",
       "stream": "stdout",
       "text": [
        " \uc5f0\uc608\n",
        "\ucd08\ucf54\ucd08\ucf54 for Kakao"
       ]
      },
      {
       "output_type": "stream",
       "stream": "stdout",
       "text": [
        " \uc74c\uc2dd\n",
        "\ucd08\ucf54\ucd08\ucf54 for Kakao"
       ]
      },
      {
       "output_type": "stream",
       "stream": "stdout",
       "text": [
        " \uc2a4\ud3ec\uce20\n",
        "\ucd08\ucf54\ucd08\ucf54 for Kakao"
       ]
      },
      {
       "output_type": "stream",
       "stream": "stdout",
       "text": [
        " \uac8c\uc784\n",
        "\ucd08\ucf54\ucd08\ucf54 for Kakao"
       ]
      },
      {
       "output_type": "stream",
       "stream": "stdout",
       "text": [
        " \uac74\uac15\n",
        "\ucd08\ucf54\ucd08\ucf54 for Kakao"
       ]
      },
      {
       "output_type": "stream",
       "stream": "stdout",
       "text": [
        " \ud559\uc2b5\n",
        "\ucd08\ucf54\ucd08\ucf54 for Kakao"
       ]
      },
      {
       "output_type": "stream",
       "stream": "stdout",
       "text": [
        " \ucee4\ubba4\ub2c8\ud2f0\n",
        "Miners 4k"
       ]
      },
      {
       "output_type": "stream",
       "stream": "stdout",
       "text": [
        " \ubbf8\uc6a9\n",
        "Miners 4k"
       ]
      },
      {
       "output_type": "stream",
       "stream": "stdout",
       "text": [
        " \uc74c\uc545\n",
        "Miners 4k"
       ]
      },
      {
       "output_type": "stream",
       "stream": "stdout",
       "text": [
        " \ub9ac\ubdf0\n",
        "Miners 4k"
       ]
      },
      {
       "output_type": "stream",
       "stream": "stdout",
       "text": [
        " \uc5f0\uc608\n",
        "Miners 4k"
       ]
      },
      {
       "output_type": "stream",
       "stream": "stdout",
       "text": [
        " \uc74c\uc2dd\n",
        "Miners 4k"
       ]
      },
      {
       "output_type": "stream",
       "stream": "stdout",
       "text": [
        " \uc2a4\ud3ec\uce20\n",
        "Miners 4k"
       ]
      },
      {
       "output_type": "stream",
       "stream": "stdout",
       "text": [
        " \uac8c\uc784\n",
        "Miners 4k"
       ]
      },
      {
       "output_type": "stream",
       "stream": "stdout",
       "text": [
        " \uac74\uac15\n",
        "Miners 4k"
       ]
      },
      {
       "output_type": "stream",
       "stream": "stdout",
       "text": [
        " \ud559\uc2b5\n",
        "Miners 4k"
       ]
      },
      {
       "output_type": "stream",
       "stream": "stdout",
       "text": [
        " \ucee4\ubba4\ub2c8\ud2f0\n",
        "Top Stylist"
       ]
      },
      {
       "output_type": "stream",
       "stream": "stdout",
       "text": [
        " \ubbf8\uc6a9\n",
        "Top Stylist"
       ]
      },
      {
       "output_type": "stream",
       "stream": "stdout",
       "text": [
        " \uc74c\uc545\n",
        "Top Stylist"
       ]
      },
      {
       "output_type": "stream",
       "stream": "stdout",
       "text": [
        " \ub9ac\ubdf0\n",
        "Top Stylist"
       ]
      },
      {
       "output_type": "stream",
       "stream": "stdout",
       "text": [
        " \uc5f0\uc608\n",
        "Top Stylist"
       ]
      },
      {
       "output_type": "stream",
       "stream": "stdout",
       "text": [
        " \uc74c\uc2dd\n",
        "Top Stylist"
       ]
      },
      {
       "output_type": "stream",
       "stream": "stdout",
       "text": [
        " \uc2a4\ud3ec\uce20\n",
        "Top Stylist"
       ]
      },
      {
       "output_type": "stream",
       "stream": "stdout",
       "text": [
        " \uac8c\uc784\n",
        "Top Stylist"
       ]
      },
      {
       "output_type": "stream",
       "stream": "stdout",
       "text": [
        " \uac74\uac15\n",
        "Top Stylist"
       ]
      },
      {
       "output_type": "stream",
       "stream": "stdout",
       "text": [
        " \ud559\uc2b5\n",
        "Top Stylist"
       ]
      },
      {
       "output_type": "stream",
       "stream": "stdout",
       "text": [
        " \ucee4\ubba4\ub2c8\ud2f0\n",
        "\uc5d8\ub9ac\uba58\ud0c8\ub098\uc774\uce20 \uc628\ub77c\uc778 (EKO)"
       ]
      },
      {
       "output_type": "stream",
       "stream": "stdout",
       "text": [
        " \ubbf8\uc6a9\n",
        "\uc5d8\ub9ac\uba58\ud0c8\ub098\uc774\uce20 \uc628\ub77c\uc778 (EKO)"
       ]
      },
      {
       "output_type": "stream",
       "stream": "stdout",
       "text": [
        " \uc74c\uc545\n",
        "\uc5d8\ub9ac\uba58\ud0c8\ub098\uc774\uce20 \uc628\ub77c\uc778 (EKO)"
       ]
      },
      {
       "output_type": "stream",
       "stream": "stdout",
       "text": [
        " \ub9ac\ubdf0\n",
        "\uc5d8\ub9ac\uba58\ud0c8\ub098\uc774\uce20 \uc628\ub77c\uc778 (EKO)"
       ]
      },
      {
       "output_type": "stream",
       "stream": "stdout",
       "text": [
        " \uc5f0\uc608\n",
        "\uc5d8\ub9ac\uba58\ud0c8\ub098\uc774\uce20 \uc628\ub77c\uc778 (EKO)"
       ]
      },
      {
       "output_type": "stream",
       "stream": "stdout",
       "text": [
        " \uc74c\uc2dd\n",
        "\uc5d8\ub9ac\uba58\ud0c8\ub098\uc774\uce20 \uc628\ub77c\uc778 (EKO)"
       ]
      },
      {
       "output_type": "stream",
       "stream": "stdout",
       "text": [
        " \uc2a4\ud3ec\uce20\n",
        "\uc5d8\ub9ac\uba58\ud0c8\ub098\uc774\uce20 \uc628\ub77c\uc778 (EKO)"
       ]
      },
      {
       "output_type": "stream",
       "stream": "stdout",
       "text": [
        " \uac8c\uc784\n",
        "\uc5d8\ub9ac\uba58\ud0c8\ub098\uc774\uce20 \uc628\ub77c\uc778 (EKO)"
       ]
      },
      {
       "output_type": "stream",
       "stream": "stdout",
       "text": [
        " \uac74\uac15\n",
        "\uc5d8\ub9ac\uba58\ud0c8\ub098\uc774\uce20 \uc628\ub77c\uc778 (EKO)"
       ]
      },
      {
       "output_type": "stream",
       "stream": "stdout",
       "text": [
        " \ud559\uc2b5\n",
        "\uc5d8\ub9ac\uba58\ud0c8\ub098\uc774\uce20 \uc628\ub77c\uc778 (EKO)"
       ]
      },
      {
       "output_type": "stream",
       "stream": "stdout",
       "text": [
        " \ucee4\ubba4\ub2c8\ud2f0\n",
        "FINAL FANTASY DIMENSIONS"
       ]
      },
      {
       "output_type": "stream",
       "stream": "stdout",
       "text": [
        " \ubbf8\uc6a9\n",
        "FINAL FANTASY DIMENSIONS"
       ]
      },
      {
       "output_type": "stream",
       "stream": "stdout",
       "text": [
        " \uc74c\uc545\n",
        "FINAL FANTASY DIMENSIONS"
       ]
      },
      {
       "output_type": "stream",
       "stream": "stdout",
       "text": [
        " \ub9ac\ubdf0\n",
        "FINAL FANTASY DIMENSIONS"
       ]
      },
      {
       "output_type": "stream",
       "stream": "stdout",
       "text": [
        " \uc5f0\uc608\n",
        "FINAL FANTASY DIMENSIONS"
       ]
      },
      {
       "output_type": "stream",
       "stream": "stdout",
       "text": [
        " \uc74c\uc2dd\n",
        "FINAL FANTASY DIMENSIONS"
       ]
      },
      {
       "output_type": "stream",
       "stream": "stdout",
       "text": [
        " \uc2a4\ud3ec\uce20\n",
        "FINAL FANTASY DIMENSIONS"
       ]
      },
      {
       "output_type": "stream",
       "stream": "stdout",
       "text": [
        " \uac8c\uc784\n",
        "FINAL FANTASY DIMENSIONS"
       ]
      },
      {
       "output_type": "stream",
       "stream": "stdout",
       "text": [
        " \uac74\uac15\n",
        "FINAL FANTASY DIMENSIONS"
       ]
      },
      {
       "output_type": "stream",
       "stream": "stdout",
       "text": [
        " \ud559\uc2b5\n",
        "FINAL FANTASY DIMENSIONS"
       ]
      },
      {
       "output_type": "stream",
       "stream": "stdout",
       "text": [
        " \ucee4\ubba4\ub2c8\ud2f0\n",
        "\ube14\ub8f8\ud31d (Bloom-PoP)"
       ]
      },
      {
       "output_type": "stream",
       "stream": "stdout",
       "text": [
        " \ubbf8\uc6a9\n",
        "\ube14\ub8f8\ud31d (Bloom-PoP)"
       ]
      },
      {
       "output_type": "stream",
       "stream": "stdout",
       "text": [
        " \uc74c\uc545\n",
        "\ube14\ub8f8\ud31d (Bloom-PoP)"
       ]
      },
      {
       "output_type": "stream",
       "stream": "stdout",
       "text": [
        " \ub9ac\ubdf0\n",
        "\ube14\ub8f8\ud31d (Bloom-PoP)"
       ]
      },
      {
       "output_type": "stream",
       "stream": "stdout",
       "text": [
        " \uc5f0\uc608\n",
        "\ube14\ub8f8\ud31d (Bloom-PoP)"
       ]
      },
      {
       "output_type": "stream",
       "stream": "stdout",
       "text": [
        " \uc74c\uc2dd\n",
        "\ube14\ub8f8\ud31d (Bloom-PoP)"
       ]
      },
      {
       "output_type": "stream",
       "stream": "stdout",
       "text": [
        " \uc2a4\ud3ec\uce20\n",
        "\ube14\ub8f8\ud31d (Bloom-PoP)"
       ]
      },
      {
       "output_type": "stream",
       "stream": "stdout",
       "text": [
        " \uac8c\uc784\n",
        "\ube14\ub8f8\ud31d (Bloom-PoP)"
       ]
      },
      {
       "output_type": "stream",
       "stream": "stdout",
       "text": [
        " \uac74\uac15\n",
        "\ube14\ub8f8\ud31d (Bloom-PoP)"
       ]
      },
      {
       "output_type": "stream",
       "stream": "stdout",
       "text": [
        " \ud559\uc2b5\n",
        "\ube14\ub8f8\ud31d (Bloom-PoP)"
       ]
      },
      {
       "output_type": "stream",
       "stream": "stdout",
       "text": [
        " \ucee4\ubba4\ub2c8\ud2f0\n",
        "METAL SLUG"
       ]
      },
      {
       "output_type": "stream",
       "stream": "stdout",
       "text": [
        " \ubbf8\uc6a9\n",
        "METAL SLUG"
       ]
      },
      {
       "output_type": "stream",
       "stream": "stdout",
       "text": [
        " \uc74c\uc545\n",
        "METAL SLUG"
       ]
      },
      {
       "output_type": "stream",
       "stream": "stdout",
       "text": [
        " \ub9ac\ubdf0\n",
        "METAL SLUG"
       ]
      },
      {
       "output_type": "stream",
       "stream": "stdout",
       "text": [
        " \uc5f0\uc608\n",
        "METAL SLUG"
       ]
      },
      {
       "output_type": "stream",
       "stream": "stdout",
       "text": [
        " \uc74c\uc2dd\n",
        "METAL SLUG"
       ]
      },
      {
       "output_type": "stream",
       "stream": "stdout",
       "text": [
        " \uc2a4\ud3ec\uce20\n",
        "METAL SLUG"
       ]
      },
      {
       "output_type": "stream",
       "stream": "stdout",
       "text": [
        " \uac8c\uc784\n",
        "METAL SLUG"
       ]
      },
      {
       "output_type": "stream",
       "stream": "stdout",
       "text": [
        " \uac74\uac15\n",
        "METAL SLUG"
       ]
      },
      {
       "output_type": "stream",
       "stream": "stdout",
       "text": [
        " \ud559\uc2b5\n",
        "METAL SLUG"
       ]
      },
      {
       "output_type": "stream",
       "stream": "stdout",
       "text": [
        " \ucee4\ubba4\ub2c8\ud2f0\n",
        "Pudding Monsters HD (\ud478\ub529 \ubaac\uc2a4\ud130)"
       ]
      },
      {
       "output_type": "stream",
       "stream": "stdout",
       "text": [
        " \ubbf8\uc6a9\n",
        "Pudding Monsters HD (\ud478\ub529 \ubaac\uc2a4\ud130)"
       ]
      },
      {
       "output_type": "stream",
       "stream": "stdout",
       "text": [
        " \uc74c\uc545\n",
        "Pudding Monsters HD (\ud478\ub529 \ubaac\uc2a4\ud130)"
       ]
      },
      {
       "output_type": "stream",
       "stream": "stdout",
       "text": [
        " \ub9ac\ubdf0\n",
        "Pudding Monsters HD (\ud478\ub529 \ubaac\uc2a4\ud130)"
       ]
      },
      {
       "output_type": "stream",
       "stream": "stdout",
       "text": [
        " \uc5f0\uc608\n",
        "Pudding Monsters HD (\ud478\ub529 \ubaac\uc2a4\ud130)"
       ]
      },
      {
       "output_type": "stream",
       "stream": "stdout",
       "text": [
        " \uc74c\uc2dd\n",
        "Pudding Monsters HD (\ud478\ub529 \ubaac\uc2a4\ud130)"
       ]
      },
      {
       "output_type": "stream",
       "stream": "stdout",
       "text": [
        " \uc2a4\ud3ec\uce20\n",
        "Pudding Monsters HD (\ud478\ub529 \ubaac\uc2a4\ud130)"
       ]
      },
      {
       "output_type": "stream",
       "stream": "stdout",
       "text": [
        " \uac8c\uc784\n",
        "Pudding Monsters HD (\ud478\ub529 \ubaac\uc2a4\ud130)"
       ]
      },
      {
       "output_type": "stream",
       "stream": "stdout",
       "text": [
        " \uac74\uac15\n",
        "Pudding Monsters HD (\ud478\ub529 \ubaac\uc2a4\ud130)"
       ]
      },
      {
       "output_type": "stream",
       "stream": "stdout",
       "text": [
        " \ud559\uc2b5\n",
        "Pudding Monsters HD (\ud478\ub529 \ubaac\uc2a4\ud130)"
       ]
      },
      {
       "output_type": "stream",
       "stream": "stdout",
       "text": [
        " \ucee4\ubba4\ub2c8\ud2f0\n",
        "\uadf8\ub140\ub294\ud3ab2 \u2665D\ucef5 \uadf8\ub77c\ube44\uc544 Sexy \uc2a4\ud0c0  \uc5d0\ubc00\ub9ac"
       ]
      },
      {
       "output_type": "stream",
       "stream": "stdout",
       "text": [
        " \ubbf8\uc6a9\n",
        "\uadf8\ub140\ub294\ud3ab2 \u2665D\ucef5 \uadf8\ub77c\ube44\uc544 Sexy \uc2a4\ud0c0  \uc5d0\ubc00\ub9ac"
       ]
      },
      {
       "output_type": "stream",
       "stream": "stdout",
       "text": [
        " \uc74c\uc545\n",
        "\uadf8\ub140\ub294\ud3ab2 \u2665D\ucef5 \uadf8\ub77c\ube44\uc544 Sexy \uc2a4\ud0c0  \uc5d0\ubc00\ub9ac"
       ]
      },
      {
       "output_type": "stream",
       "stream": "stdout",
       "text": [
        " \ub9ac\ubdf0\n",
        "\uadf8\ub140\ub294\ud3ab2 \u2665D\ucef5 \uadf8\ub77c\ube44\uc544 Sexy \uc2a4\ud0c0  \uc5d0\ubc00\ub9ac"
       ]
      },
      {
       "output_type": "stream",
       "stream": "stdout",
       "text": [
        " \uc5f0\uc608\n",
        "\uadf8\ub140\ub294\ud3ab2 \u2665D\ucef5 \uadf8\ub77c\ube44\uc544 Sexy \uc2a4\ud0c0  \uc5d0\ubc00\ub9ac"
       ]
      },
      {
       "output_type": "stream",
       "stream": "stdout",
       "text": [
        " \uc74c\uc2dd\n",
        "\uadf8\ub140\ub294\ud3ab2 \u2665D\ucef5 \uadf8\ub77c\ube44\uc544 Sexy \uc2a4\ud0c0  \uc5d0\ubc00\ub9ac"
       ]
      },
      {
       "output_type": "stream",
       "stream": "stdout",
       "text": [
        " \uc2a4\ud3ec\uce20\n",
        "\uadf8\ub140\ub294\ud3ab2 \u2665D\ucef5 \uadf8\ub77c\ube44\uc544 Sexy \uc2a4\ud0c0  \uc5d0\ubc00\ub9ac"
       ]
      },
      {
       "output_type": "stream",
       "stream": "stdout",
       "text": [
        " \uac8c\uc784\n",
        "\uadf8\ub140\ub294\ud3ab2 \u2665D\ucef5 \uadf8\ub77c\ube44\uc544 Sexy \uc2a4\ud0c0  \uc5d0\ubc00\ub9ac"
       ]
      },
      {
       "output_type": "stream",
       "stream": "stdout",
       "text": [
        " \uac74\uac15\n",
        "\uadf8\ub140\ub294\ud3ab2 \u2665D\ucef5 \uadf8\ub77c\ube44\uc544 Sexy \uc2a4\ud0c0  \uc5d0\ubc00\ub9ac \ud559\uc2b5\n",
        "\uadf8\ub140\ub294\ud3ab2 \u2665D\ucef5 \uadf8\ub77c\ube44\uc544 Sexy \uc2a4\ud0c0  \uc5d0\ubc00\ub9ac"
       ]
      },
      {
       "output_type": "stream",
       "stream": "stdout",
       "text": [
        " \ucee4\ubba4\ub2c8\ud2f0\n",
        "\ud3ab \uce74\ud398 2 \ubbf8\uc6a9\n",
        "\ud3ab \uce74\ud398 2"
       ]
      },
      {
       "output_type": "stream",
       "stream": "stdout",
       "text": [
        " \uc74c\uc545\n",
        "\ud3ab \uce74\ud398 2"
       ]
      },
      {
       "output_type": "stream",
       "stream": "stdout",
       "text": [
        " \ub9ac\ubdf0\n",
        "\ud3ab \uce74\ud398 2"
       ]
      },
      {
       "output_type": "stream",
       "stream": "stdout",
       "text": [
        " \uc5f0\uc608\n",
        "\ud3ab \uce74\ud398 2"
       ]
      },
      {
       "output_type": "stream",
       "stream": "stdout",
       "text": [
        " \uc74c\uc2dd\n",
        "\ud3ab \uce74\ud398 2"
       ]
      },
      {
       "output_type": "stream",
       "stream": "stdout",
       "text": [
        " \uc2a4\ud3ec\uce20\n",
        "\ud3ab \uce74\ud398 2"
       ]
      },
      {
       "output_type": "stream",
       "stream": "stdout",
       "text": [
        " \uac8c\uc784\n",
        "\ud3ab \uce74\ud398 2"
       ]
      },
      {
       "output_type": "stream",
       "stream": "stdout",
       "text": [
        " \uac74\uac15\n",
        "\ud3ab \uce74\ud398 2"
       ]
      },
      {
       "output_type": "stream",
       "stream": "stdout",
       "text": [
        " \ud559\uc2b5\n",
        "\ud3ab \uce74\ud398 2"
       ]
      },
      {
       "output_type": "stream",
       "stream": "stdout",
       "text": [
        " \ucee4\ubba4\ub2c8\ud2f0\n",
        "\ud038\uc988\uc560\ub85c\uc6b0 ( \uc591\uad81 )"
       ]
      },
      {
       "output_type": "stream",
       "stream": "stdout",
       "text": [
        " \ubbf8\uc6a9\n",
        "\ud038\uc988\uc560\ub85c\uc6b0 ( \uc591\uad81 )"
       ]
      },
      {
       "output_type": "stream",
       "stream": "stdout",
       "text": [
        " \uc74c\uc545\n",
        "\ud038\uc988\uc560\ub85c\uc6b0 ( \uc591\uad81 )"
       ]
      },
      {
       "output_type": "stream",
       "stream": "stdout",
       "text": [
        " \ub9ac\ubdf0\n",
        "\ud038\uc988\uc560\ub85c\uc6b0 ( \uc591\uad81 )"
       ]
      },
      {
       "output_type": "stream",
       "stream": "stdout",
       "text": [
        " \uc5f0\uc608\n",
        "\ud038\uc988\uc560\ub85c\uc6b0 ( \uc591\uad81 )"
       ]
      },
      {
       "output_type": "stream",
       "stream": "stdout",
       "text": [
        " \uc74c\uc2dd\n",
        "\ud038\uc988\uc560\ub85c\uc6b0 ( \uc591\uad81 )"
       ]
      },
      {
       "output_type": "stream",
       "stream": "stdout",
       "text": [
        " \uc2a4\ud3ec\uce20\n",
        "\ud038\uc988\uc560\ub85c\uc6b0 ( \uc591\uad81 )"
       ]
      },
      {
       "output_type": "stream",
       "stream": "stdout",
       "text": [
        " \uac8c\uc784\n",
        "\ud038\uc988\uc560\ub85c\uc6b0 ( \uc591\uad81 )"
       ]
      },
      {
       "output_type": "stream",
       "stream": "stdout",
       "text": [
        " \uac74\uac15\n",
        "\ud038\uc988\uc560\ub85c\uc6b0 ( \uc591\uad81 )"
       ]
      },
      {
       "output_type": "stream",
       "stream": "stdout",
       "text": [
        " \ud559\uc2b5\n",
        "\ud038\uc988\uc560\ub85c\uc6b0 ( \uc591\uad81 ) \ucee4\ubba4\ub2c8\ud2f0\n",
        "\ud504\ub9ac\ud2f0 \ud3ab \ud1a0\uc774 \uc2a4\ud1a0\uc5b4"
       ]
      },
      {
       "output_type": "stream",
       "stream": "stdout",
       "text": [
        " \ubbf8\uc6a9\n",
        "\ud504\ub9ac\ud2f0 \ud3ab \ud1a0\uc774 \uc2a4\ud1a0\uc5b4"
       ]
      },
      {
       "output_type": "stream",
       "stream": "stdout",
       "text": [
        " \uc74c\uc545\n",
        "\ud504\ub9ac\ud2f0 \ud3ab \ud1a0\uc774 \uc2a4\ud1a0\uc5b4"
       ]
      },
      {
       "output_type": "stream",
       "stream": "stdout",
       "text": [
        " \ub9ac\ubdf0\n",
        "\ud504\ub9ac\ud2f0 \ud3ab \ud1a0\uc774 \uc2a4\ud1a0\uc5b4"
       ]
      },
      {
       "output_type": "stream",
       "stream": "stdout",
       "text": [
        " \uc5f0\uc608\n",
        "\ud504\ub9ac\ud2f0 \ud3ab \ud1a0\uc774 \uc2a4\ud1a0\uc5b4"
       ]
      },
      {
       "output_type": "stream",
       "stream": "stdout",
       "text": [
        " \uc74c\uc2dd\n",
        "\ud504\ub9ac\ud2f0 \ud3ab \ud1a0\uc774 \uc2a4\ud1a0\uc5b4"
       ]
      },
      {
       "output_type": "stream",
       "stream": "stdout",
       "text": [
        " \uc2a4\ud3ec\uce20\n",
        "\ud504\ub9ac\ud2f0 \ud3ab \ud1a0\uc774 \uc2a4\ud1a0\uc5b4"
       ]
      },
      {
       "output_type": "stream",
       "stream": "stdout",
       "text": [
        " \uac8c\uc784\n",
        "\ud504\ub9ac\ud2f0 \ud3ab \ud1a0\uc774 \uc2a4\ud1a0\uc5b4"
       ]
      },
      {
       "output_type": "stream",
       "stream": "stdout",
       "text": [
        " \uac74\uac15\n",
        "\ud504\ub9ac\ud2f0 \ud3ab \ud1a0\uc774 \uc2a4\ud1a0\uc5b4"
       ]
      },
      {
       "output_type": "stream",
       "stream": "stdout",
       "text": [
        " \ud559\uc2b5\n",
        "\ud504\ub9ac\ud2f0 \ud3ab \ud1a0\uc774 \uc2a4\ud1a0\uc5b4"
       ]
      },
      {
       "output_type": "stream",
       "stream": "stdout",
       "text": [
        " \ucee4\ubba4\ub2c8\ud2f0\n",
        "\ud50c\ub77c\uc789 \ubc84\ub514 for Kakao \ubbf8\uc6a9\n",
        "\ud50c\ub77c\uc789 \ubc84\ub514 for Kakao"
       ]
      },
      {
       "output_type": "stream",
       "stream": "stdout",
       "text": [
        " \uc74c\uc545\n",
        "\ud50c\ub77c\uc789 \ubc84\ub514 for Kakao"
       ]
      },
      {
       "output_type": "stream",
       "stream": "stdout",
       "text": [
        " \ub9ac\ubdf0\n",
        "\ud50c\ub77c\uc789 \ubc84\ub514 for Kakao"
       ]
      },
      {
       "output_type": "stream",
       "stream": "stdout",
       "text": [
        " \uc5f0\uc608\n",
        "\ud50c\ub77c\uc789 \ubc84\ub514 for Kakao"
       ]
      },
      {
       "output_type": "stream",
       "stream": "stdout",
       "text": [
        " \uc74c\uc2dd\n",
        "\ud50c\ub77c\uc789 \ubc84\ub514 for Kakao"
       ]
      },
      {
       "output_type": "stream",
       "stream": "stdout",
       "text": [
        " \uc2a4\ud3ec\uce20\n",
        "\ud50c\ub77c\uc789 \ubc84\ub514 for Kakao"
       ]
      },
      {
       "output_type": "stream",
       "stream": "stdout",
       "text": [
        " \uac8c\uc784\n",
        "\ud50c\ub77c\uc789 \ubc84\ub514 for Kakao"
       ]
      },
      {
       "output_type": "stream",
       "stream": "stdout",
       "text": [
        " \uac74\uac15\n",
        "\ud50c\ub77c\uc789 \ubc84\ub514 for Kakao"
       ]
      },
      {
       "output_type": "stream",
       "stream": "stdout",
       "text": [
        " \ud559\uc2b5\n",
        "\ud50c\ub77c\uc789 \ubc84\ub514 for Kakao"
       ]
      },
      {
       "output_type": "stream",
       "stream": "stdout",
       "text": [
        " \ucee4\ubba4\ub2c8\ud2f0\n",
        "\uce90\ub9ad\ud130\ud321 for Kakao"
       ]
      },
      {
       "output_type": "stream",
       "stream": "stdout",
       "text": [
        " \ubbf8\uc6a9\n",
        "\uce90\ub9ad\ud130\ud321 for Kakao"
       ]
      },
      {
       "output_type": "stream",
       "stream": "stdout",
       "text": [
        " \uc74c\uc545\n",
        "\uce90\ub9ad\ud130\ud321 for Kakao"
       ]
      },
      {
       "output_type": "stream",
       "stream": "stdout",
       "text": [
        " \ub9ac\ubdf0\n",
        "\uce90\ub9ad\ud130\ud321 for Kakao"
       ]
      },
      {
       "output_type": "stream",
       "stream": "stdout",
       "text": [
        " \uc5f0\uc608\n",
        "\uce90\ub9ad\ud130\ud321 for Kakao"
       ]
      },
      {
       "output_type": "stream",
       "stream": "stdout",
       "text": [
        " \uc74c\uc2dd\n",
        "\uce90\ub9ad\ud130\ud321 for Kakao"
       ]
      },
      {
       "output_type": "stream",
       "stream": "stdout",
       "text": [
        " \uc2a4\ud3ec\uce20\n",
        "\uce90\ub9ad\ud130\ud321 for Kakao"
       ]
      },
      {
       "output_type": "stream",
       "stream": "stdout",
       "text": [
        " \uac8c\uc784\n",
        "\uce90\ub9ad\ud130\ud321 for Kakao"
       ]
      },
      {
       "output_type": "stream",
       "stream": "stdout",
       "text": [
        " \uac74\uac15\n",
        "\uce90\ub9ad\ud130\ud321 for Kakao"
       ]
      },
      {
       "output_type": "stream",
       "stream": "stdout",
       "text": [
        " \ud559\uc2b5\n",
        "\uce90\ub9ad\ud130\ud321 for Kakao"
       ]
      },
      {
       "output_type": "stream",
       "stream": "stdout",
       "text": [
        " \ucee4\ubba4\ub2c8\ud2f0\n",
        "\ub808\uc774\uc2f1 \uc790\ub3d9\ucc28 \uc9c0\uadf8 \uc18c \ud37c\uc990"
       ]
      },
      {
       "output_type": "stream",
       "stream": "stdout",
       "text": [
        " \ubbf8\uc6a9\n",
        "\ub808\uc774\uc2f1 \uc790\ub3d9\ucc28 \uc9c0\uadf8 \uc18c \ud37c\uc990"
       ]
      },
      {
       "output_type": "stream",
       "stream": "stdout",
       "text": [
        " \uc74c\uc545\n",
        "\ub808\uc774\uc2f1 \uc790\ub3d9\ucc28 \uc9c0\uadf8 \uc18c \ud37c\uc990"
       ]
      },
      {
       "output_type": "stream",
       "stream": "stdout",
       "text": [
        " \ub9ac\ubdf0\n",
        "\ub808\uc774\uc2f1 \uc790\ub3d9\ucc28 \uc9c0\uadf8 \uc18c \ud37c\uc990"
       ]
      },
      {
       "output_type": "stream",
       "stream": "stdout",
       "text": [
        " \uc5f0\uc608\n",
        "\ub808\uc774\uc2f1 \uc790\ub3d9\ucc28 \uc9c0\uadf8 \uc18c \ud37c\uc990"
       ]
      },
      {
       "output_type": "stream",
       "stream": "stdout",
       "text": [
        " \uc74c\uc2dd\n",
        "\ub808\uc774\uc2f1 \uc790\ub3d9\ucc28 \uc9c0\uadf8 \uc18c \ud37c\uc990"
       ]
      },
      {
       "output_type": "stream",
       "stream": "stdout",
       "text": [
        " \uc2a4\ud3ec\uce20\n",
        "\ub808\uc774\uc2f1 \uc790\ub3d9\ucc28 \uc9c0\uadf8 \uc18c \ud37c\uc990 \uac8c\uc784\n",
        "\ub808\uc774\uc2f1 \uc790\ub3d9\ucc28 \uc9c0\uadf8 \uc18c \ud37c\uc990"
       ]
      },
      {
       "output_type": "stream",
       "stream": "stdout",
       "text": [
        " \uac74\uac15\n",
        "\ub808\uc774\uc2f1 \uc790\ub3d9\ucc28 \uc9c0\uadf8 \uc18c \ud37c\uc990"
       ]
      },
      {
       "output_type": "stream",
       "stream": "stdout",
       "text": [
        " \ud559\uc2b5\n",
        "\ub808\uc774\uc2f1 \uc790\ub3d9\ucc28 \uc9c0\uadf8 \uc18c \ud37c\uc990"
       ]
      },
      {
       "output_type": "stream",
       "stream": "stdout",
       "text": [
        " \ucee4\ubba4\ub2c8\ud2f0\n",
        "Berzerk Ball 2"
       ]
      },
      {
       "output_type": "stream",
       "stream": "stdout",
       "text": [
        " \ubbf8\uc6a9\n",
        "Berzerk Ball 2"
       ]
      },
      {
       "output_type": "stream",
       "stream": "stdout",
       "text": [
        " \uc74c\uc545\n",
        "Berzerk Ball 2"
       ]
      },
      {
       "output_type": "stream",
       "stream": "stdout",
       "text": [
        " \ub9ac\ubdf0\n",
        "Berzerk Ball 2"
       ]
      },
      {
       "output_type": "stream",
       "stream": "stdout",
       "text": [
        " \uc5f0\uc608\n",
        "Berzerk Ball 2"
       ]
      },
      {
       "output_type": "stream",
       "stream": "stdout",
       "text": [
        " \uc74c\uc2dd\n",
        "Berzerk Ball 2"
       ]
      },
      {
       "output_type": "stream",
       "stream": "stdout",
       "text": [
        " \uc2a4\ud3ec\uce20\n",
        "Berzerk Ball 2"
       ]
      },
      {
       "output_type": "stream",
       "stream": "stdout",
       "text": [
        " \uac8c\uc784\n",
        "Berzerk Ball 2"
       ]
      },
      {
       "output_type": "stream",
       "stream": "stdout",
       "text": [
        " \uac74\uac15\n",
        "Berzerk Ball 2"
       ]
      },
      {
       "output_type": "stream",
       "stream": "stdout",
       "text": [
        " \ud559\uc2b5\n",
        "Berzerk Ball 2 \ucee4\ubba4\ub2c8\ud2f0\n",
        "AE Coin Mania"
       ]
      },
      {
       "output_type": "stream",
       "stream": "stdout",
       "text": [
        " \ubbf8\uc6a9\n",
        "AE Coin Mania"
       ]
      },
      {
       "output_type": "stream",
       "stream": "stdout",
       "text": [
        " \uc74c\uc545\n",
        "AE Coin Mania"
       ]
      },
      {
       "output_type": "stream",
       "stream": "stdout",
       "text": [
        " \ub9ac\ubdf0\n",
        "AE Coin Mania"
       ]
      },
      {
       "output_type": "stream",
       "stream": "stdout",
       "text": [
        " \uc5f0\uc608\n",
        "AE Coin Mania"
       ]
      },
      {
       "output_type": "stream",
       "stream": "stdout",
       "text": [
        " \uc74c\uc2dd\n",
        "AE Coin Mania"
       ]
      },
      {
       "output_type": "stream",
       "stream": "stdout",
       "text": [
        " \uc2a4\ud3ec\uce20\n",
        "AE Coin Mania"
       ]
      },
      {
       "output_type": "stream",
       "stream": "stdout",
       "text": [
        " \uac8c\uc784\n",
        "AE Coin Mania"
       ]
      },
      {
       "output_type": "stream",
       "stream": "stdout",
       "text": [
        " \uac74\uac15\n",
        "AE Coin Mania \ud559\uc2b5\n",
        "AE Coin Mania"
       ]
      },
      {
       "output_type": "stream",
       "stream": "stdout",
       "text": [
        " \ucee4\ubba4\ub2c8\ud2f0\n",
        "\ubbf8\ub2c8 \uace8\ud504 3D \uacf5\uac04 : \ud37c\ud2b8 \ud37c\ud2b8"
       ]
      },
      {
       "output_type": "stream",
       "stream": "stdout",
       "text": [
        " \ubbf8\uc6a9\n",
        "\ubbf8\ub2c8 \uace8\ud504 3D \uacf5\uac04 : \ud37c\ud2b8 \ud37c\ud2b8"
       ]
      },
      {
       "output_type": "stream",
       "stream": "stdout",
       "text": [
        " \uc74c\uc545\n",
        "\ubbf8\ub2c8 \uace8\ud504 3D \uacf5\uac04 : \ud37c\ud2b8 \ud37c\ud2b8"
       ]
      },
      {
       "output_type": "stream",
       "stream": "stdout",
       "text": [
        " \ub9ac\ubdf0\n",
        "\ubbf8\ub2c8 \uace8\ud504 3D \uacf5\uac04 : \ud37c\ud2b8 \ud37c\ud2b8"
       ]
      },
      {
       "output_type": "stream",
       "stream": "stdout",
       "text": [
        " \uc5f0\uc608\n",
        "\ubbf8\ub2c8 \uace8\ud504 3D \uacf5\uac04 : \ud37c\ud2b8 \ud37c\ud2b8"
       ]
      },
      {
       "output_type": "stream",
       "stream": "stdout",
       "text": [
        " \uc74c\uc2dd\n",
        "\ubbf8\ub2c8 \uace8\ud504 3D \uacf5\uac04 : \ud37c\ud2b8 \ud37c\ud2b8"
       ]
      },
      {
       "output_type": "stream",
       "stream": "stdout",
       "text": [
        " \uc2a4\ud3ec\uce20\n",
        "\ubbf8\ub2c8 \uace8\ud504 3D \uacf5\uac04 : \ud37c\ud2b8 \ud37c\ud2b8"
       ]
      },
      {
       "output_type": "stream",
       "stream": "stdout",
       "text": [
        " \uac8c\uc784\n",
        "\ubbf8\ub2c8 \uace8\ud504 3D \uacf5\uac04 : \ud37c\ud2b8 \ud37c\ud2b8"
       ]
      },
      {
       "output_type": "stream",
       "stream": "stdout",
       "text": [
        " \uac74\uac15\n",
        "\ubbf8\ub2c8 \uace8\ud504 3D \uacf5\uac04 : \ud37c\ud2b8 \ud37c\ud2b8"
       ]
      },
      {
       "output_type": "stream",
       "stream": "stdout",
       "text": [
        " \ud559\uc2b5\n",
        "\ubbf8\ub2c8 \uace8\ud504 3D \uacf5\uac04 : \ud37c\ud2b8 \ud37c\ud2b8"
       ]
      },
      {
       "output_type": "stream",
       "stream": "stdout",
       "text": [
        " \ucee4\ubba4\ub2c8\ud2f0\n",
        "Contre Jour"
       ]
      },
      {
       "output_type": "stream",
       "stream": "stdout",
       "text": [
        " \ubbf8\uc6a9\n",
        "Contre Jour"
       ]
      },
      {
       "output_type": "stream",
       "stream": "stdout",
       "text": [
        " \uc74c\uc545\n",
        "Contre Jour"
       ]
      },
      {
       "output_type": "stream",
       "stream": "stdout",
       "text": [
        " \ub9ac\ubdf0\n",
        "Contre Jour"
       ]
      },
      {
       "output_type": "stream",
       "stream": "stdout",
       "text": [
        " \uc5f0\uc608\n",
        "Contre Jour"
       ]
      },
      {
       "output_type": "stream",
       "stream": "stdout",
       "text": [
        " \uc74c\uc2dd\n",
        "Contre Jour"
       ]
      },
      {
       "output_type": "stream",
       "stream": "stdout",
       "text": [
        " \uc2a4\ud3ec\uce20\n",
        "Contre Jour"
       ]
      },
      {
       "output_type": "stream",
       "stream": "stdout",
       "text": [
        " \uac8c\uc784\n",
        "Contre Jour"
       ]
      },
      {
       "output_type": "stream",
       "stream": "stdout",
       "text": [
        " \uac74\uac15\n",
        "Contre Jour"
       ]
      },
      {
       "output_type": "stream",
       "stream": "stdout",
       "text": [
        " \ud559\uc2b5\n",
        "Contre Jour"
       ]
      },
      {
       "output_type": "stream",
       "stream": "stdout",
       "text": [
        " \ucee4\ubba4\ub2c8\ud2f0\n",
        "\ubc30\ud2c0\uc544\ub808\ub098(BattleArena)"
       ]
      },
      {
       "output_type": "stream",
       "stream": "stdout",
       "text": [
        " \ubbf8\uc6a9\n",
        "\ubc30\ud2c0\uc544\ub808\ub098(BattleArena)"
       ]
      },
      {
       "output_type": "stream",
       "stream": "stdout",
       "text": [
        " \uc74c\uc545\n",
        "\ubc30\ud2c0\uc544\ub808\ub098(BattleArena)"
       ]
      },
      {
       "output_type": "stream",
       "stream": "stdout",
       "text": [
        " \ub9ac\ubdf0\n",
        "\ubc30\ud2c0\uc544\ub808\ub098(BattleArena)"
       ]
      },
      {
       "output_type": "stream",
       "stream": "stdout",
       "text": [
        " \uc5f0\uc608\n",
        "\ubc30\ud2c0\uc544\ub808\ub098(BattleArena)"
       ]
      },
      {
       "output_type": "stream",
       "stream": "stdout",
       "text": [
        " \uc74c\uc2dd\n",
        "\ubc30\ud2c0\uc544\ub808\ub098(BattleArena)"
       ]
      },
      {
       "output_type": "stream",
       "stream": "stdout",
       "text": [
        " \uc2a4\ud3ec\uce20\n",
        "\ubc30\ud2c0\uc544\ub808\ub098(BattleArena)"
       ]
      },
      {
       "output_type": "stream",
       "stream": "stdout",
       "text": [
        " \uac8c\uc784\n",
        "\ubc30\ud2c0\uc544\ub808\ub098(BattleArena)"
       ]
      },
      {
       "output_type": "stream",
       "stream": "stdout",
       "text": [
        " \uac74\uac15\n",
        "\ubc30\ud2c0\uc544\ub808\ub098(BattleArena)"
       ]
      },
      {
       "output_type": "stream",
       "stream": "stdout",
       "text": [
        " \ud559\uc2b5\n",
        "\ubc30\ud2c0\uc544\ub808\ub098(BattleArena)"
       ]
      },
      {
       "output_type": "stream",
       "stream": "stdout",
       "text": [
        " \ucee4\ubba4\ub2c8\ud2f0\n",
        "\ubc84\uac70 \ud328\uc2a4\ud2b8 \ud478\ub4dc \uc2a4\ud0e0\ub4dc \uba54\uc774\ucee4"
       ]
      },
      {
       "output_type": "stream",
       "stream": "stdout",
       "text": [
        " \ubbf8\uc6a9\n",
        "\ubc84\uac70 \ud328\uc2a4\ud2b8 \ud478\ub4dc \uc2a4\ud0e0\ub4dc \uba54\uc774\ucee4 \uc74c\uc545\n",
        "\ubc84\uac70 \ud328\uc2a4\ud2b8 \ud478\ub4dc \uc2a4\ud0e0\ub4dc \uba54\uc774\ucee4"
       ]
      },
      {
       "output_type": "stream",
       "stream": "stdout",
       "text": [
        " \ub9ac\ubdf0\n",
        "\ubc84\uac70 \ud328\uc2a4\ud2b8 \ud478\ub4dc \uc2a4\ud0e0\ub4dc \uba54\uc774\ucee4 \uc5f0\uc608\n",
        "\ubc84\uac70 \ud328\uc2a4\ud2b8 \ud478\ub4dc \uc2a4\ud0e0\ub4dc \uba54\uc774\ucee4"
       ]
      },
      {
       "output_type": "stream",
       "stream": "stdout",
       "text": [
        " \uc74c\uc2dd\n",
        "\ubc84\uac70 \ud328\uc2a4\ud2b8 \ud478\ub4dc \uc2a4\ud0e0\ub4dc \uba54\uc774\ucee4"
       ]
      },
      {
       "output_type": "stream",
       "stream": "stdout",
       "text": [
        " \uc2a4\ud3ec\uce20\n",
        "\ubc84\uac70 \ud328\uc2a4\ud2b8 \ud478\ub4dc \uc2a4\ud0e0\ub4dc \uba54\uc774\ucee4"
       ]
      },
      {
       "output_type": "stream",
       "stream": "stdout",
       "text": [
        " \uac8c\uc784\n",
        "\ubc84\uac70 \ud328\uc2a4\ud2b8 \ud478\ub4dc \uc2a4\ud0e0\ub4dc \uba54\uc774\ucee4 \uac74\uac15\n",
        "\ubc84\uac70 \ud328\uc2a4\ud2b8 \ud478\ub4dc \uc2a4\ud0e0\ub4dc \uba54\uc774\ucee4"
       ]
      },
      {
       "output_type": "stream",
       "stream": "stdout",
       "text": [
        " \ud559\uc2b5\n",
        "\ubc84\uac70 \ud328\uc2a4\ud2b8 \ud478\ub4dc \uc2a4\ud0e0\ub4dc \uba54\uc774\ucee4"
       ]
      },
      {
       "output_type": "stream",
       "stream": "stdout",
       "text": [
        " \ucee4\ubba4\ub2c8\ud2f0\n",
        "Scarface \ubbf8\uc6a9\n",
        "Scarface"
       ]
      },
      {
       "output_type": "stream",
       "stream": "stdout",
       "text": [
        " \uc74c\uc545\n",
        "Scarface"
       ]
      },
      {
       "output_type": "stream",
       "stream": "stdout",
       "text": [
        " \ub9ac\ubdf0\n",
        "Scarface"
       ]
      },
      {
       "output_type": "stream",
       "stream": "stdout",
       "text": [
        " \uc5f0\uc608\n",
        "Scarface"
       ]
      },
      {
       "output_type": "stream",
       "stream": "stdout",
       "text": [
        " \uc74c\uc2dd\n",
        "Scarface"
       ]
      },
      {
       "output_type": "stream",
       "stream": "stdout",
       "text": [
        " \uc2a4\ud3ec\uce20\n",
        "Scarface"
       ]
      },
      {
       "output_type": "stream",
       "stream": "stdout",
       "text": [
        " \uac8c\uc784\n",
        "Scarface"
       ]
      },
      {
       "output_type": "stream",
       "stream": "stdout",
       "text": [
        " \uac74\uac15\n",
        "Scarface"
       ]
      },
      {
       "output_type": "stream",
       "stream": "stdout",
       "text": [
        " \ud559\uc2b5\n",
        "Scarface"
       ]
      },
      {
       "output_type": "stream",
       "stream": "stdout",
       "text": [
        " \ucee4\ubba4\ub2c8\ud2f0\n",
        "\uc824\ub9ac\ubf40 for Kakao"
       ]
      },
      {
       "output_type": "stream",
       "stream": "stdout",
       "text": [
        " \ubbf8\uc6a9\n",
        "\uc824\ub9ac\ubf40 for Kakao"
       ]
      },
      {
       "output_type": "stream",
       "stream": "stdout",
       "text": [
        " \uc74c\uc545\n",
        "\uc824\ub9ac\ubf40 for Kakao \ub9ac\ubdf0\n",
        "\uc824\ub9ac\ubf40 for Kakao"
       ]
      },
      {
       "output_type": "stream",
       "stream": "stdout",
       "text": [
        " \uc5f0\uc608\n",
        "\uc824\ub9ac\ubf40 for Kakao"
       ]
      },
      {
       "output_type": "stream",
       "stream": "stdout",
       "text": [
        " \uc74c\uc2dd\n",
        "\uc824\ub9ac\ubf40 for Kakao"
       ]
      },
      {
       "output_type": "stream",
       "stream": "stdout",
       "text": [
        " \uc2a4\ud3ec\uce20\n",
        "\uc824\ub9ac\ubf40 for Kakao \uac8c\uc784\n",
        "\uc824\ub9ac\ubf40 for Kakao"
       ]
      },
      {
       "output_type": "stream",
       "stream": "stdout",
       "text": [
        " \uac74\uac15\n",
        "\uc824\ub9ac\ubf40 for Kakao \ud559\uc2b5\n",
        "\uc824\ub9ac\ubf40 for Kakao"
       ]
      },
      {
       "output_type": "stream",
       "stream": "stdout",
       "text": [
        " \ucee4\ubba4\ub2c8\ud2f0\n",
        "\ubb34\ub364 \ubcf4\uc11d \ubbf8\uc6a9\n",
        "\ubb34\ub364 \ubcf4\uc11d"
       ]
      },
      {
       "output_type": "stream",
       "stream": "stdout",
       "text": [
        " \uc74c\uc545\n",
        "\ubb34\ub364 \ubcf4\uc11d \ub9ac\ubdf0\n",
        "\ubb34\ub364 \ubcf4\uc11d"
       ]
      },
      {
       "output_type": "stream",
       "stream": "stdout",
       "text": [
        " \uc5f0\uc608\n",
        "\ubb34\ub364 \ubcf4\uc11d \uc74c\uc2dd\n",
        "\ubb34\ub364 \ubcf4\uc11d"
       ]
      },
      {
       "output_type": "stream",
       "stream": "stdout",
       "text": [
        " \uc2a4\ud3ec\uce20\n",
        "\ubb34\ub364 \ubcf4\uc11d \uac8c\uc784\n",
        "\ubb34\ub364 \ubcf4\uc11d"
       ]
      },
      {
       "output_type": "stream",
       "stream": "stdout",
       "text": [
        " \uac74\uac15\n",
        "\ubb34\ub364 \ubcf4\uc11d"
       ]
      },
      {
       "output_type": "stream",
       "stream": "stdout",
       "text": [
        " \ud559\uc2b5\n",
        "\ubb34\ub364 \ubcf4\uc11d"
       ]
      },
      {
       "output_type": "stream",
       "stream": "stdout",
       "text": [
        " \ucee4\ubba4\ub2c8\ud2f0\n",
        "\ud504\ub9b0\uc138\uc2a4*\ud37c\uc990"
       ]
      },
      {
       "output_type": "stream",
       "stream": "stdout",
       "text": [
        " \ubbf8\uc6a9\n",
        "\ud504\ub9b0\uc138\uc2a4*\ud37c\uc990"
       ]
      },
      {
       "output_type": "stream",
       "stream": "stdout",
       "text": [
        " \uc74c\uc545\n",
        "\ud504\ub9b0\uc138\uc2a4*\ud37c\uc990"
       ]
      },
      {
       "output_type": "stream",
       "stream": "stdout",
       "text": [
        " \ub9ac\ubdf0\n",
        "\ud504\ub9b0\uc138\uc2a4*\ud37c\uc990"
       ]
      },
      {
       "output_type": "stream",
       "stream": "stdout",
       "text": [
        " \uc5f0\uc608\n",
        "\ud504\ub9b0\uc138\uc2a4*\ud37c\uc990"
       ]
      },
      {
       "output_type": "stream",
       "stream": "stdout",
       "text": [
        " \uc74c\uc2dd\n",
        "\ud504\ub9b0\uc138\uc2a4*\ud37c\uc990 \uc2a4\ud3ec\uce20\n",
        "\ud504\ub9b0\uc138\uc2a4*\ud37c\uc990"
       ]
      },
      {
       "output_type": "stream",
       "stream": "stdout",
       "text": [
        " \uac8c\uc784\n",
        "\ud504\ub9b0\uc138\uc2a4*\ud37c\uc990 \uac74\uac15\n",
        "\ud504\ub9b0\uc138\uc2a4*\ud37c\uc990"
       ]
      },
      {
       "output_type": "stream",
       "stream": "stdout",
       "text": [
        " \ud559\uc2b5\n",
        "\ud504\ub9b0\uc138\uc2a4*\ud37c\uc990"
       ]
      },
      {
       "output_type": "stream",
       "stream": "stdout",
       "text": [
        " \ucee4\ubba4\ub2c8\ud2f0\n",
        "Raging Fire Racing \ubbf8\uc6a9\n",
        "Raging Fire Racing"
       ]
      },
      {
       "output_type": "stream",
       "stream": "stdout",
       "text": [
        " \uc74c\uc545\n",
        "Raging Fire Racing \ub9ac\ubdf0\n",
        "Raging Fire Racing"
       ]
      },
      {
       "output_type": "stream",
       "stream": "stdout",
       "text": [
        " \uc5f0\uc608\n",
        "Raging Fire Racing"
       ]
      },
      {
       "output_type": "stream",
       "stream": "stdout",
       "text": [
        " \uc74c\uc2dd\n",
        "Raging Fire Racing \uc2a4\ud3ec\uce20\n",
        "Raging Fire Racing"
       ]
      },
      {
       "output_type": "stream",
       "stream": "stdout",
       "text": [
        " \uac8c\uc784\n",
        "Raging Fire Racing"
       ]
      },
      {
       "output_type": "stream",
       "stream": "stdout",
       "text": [
        " \uac74\uac15\n",
        "Raging Fire Racing"
       ]
      },
      {
       "output_type": "stream",
       "stream": "stdout",
       "text": [
        " \ud559\uc2b5\n",
        "Raging Fire Racing"
       ]
      },
      {
       "output_type": "stream",
       "stream": "stdout",
       "text": [
        " \ucee4\ubba4\ub2c8\ud2f0\n",
        "\ub0b4 \uc0ac\ub791\uc2a4\ub7ec\uc6b4 \ub3fc\uc9c0 \ubbf8\uc6a9\n",
        "\ub0b4 \uc0ac\ub791\uc2a4\ub7ec\uc6b4 \ub3fc\uc9c0"
       ]
      },
      {
       "output_type": "stream",
       "stream": "stdout",
       "text": [
        " \uc74c\uc545\n",
        "\ub0b4 \uc0ac\ub791\uc2a4\ub7ec\uc6b4 \ub3fc\uc9c0"
       ]
      },
      {
       "output_type": "stream",
       "stream": "stdout",
       "text": [
        " \ub9ac\ubdf0\n",
        "\ub0b4 \uc0ac\ub791\uc2a4\ub7ec\uc6b4 \ub3fc\uc9c0"
       ]
      },
      {
       "output_type": "stream",
       "stream": "stdout",
       "text": [
        " \uc5f0\uc608\n",
        "\ub0b4 \uc0ac\ub791\uc2a4\ub7ec\uc6b4 \ub3fc\uc9c0"
       ]
      },
      {
       "output_type": "stream",
       "stream": "stdout",
       "text": [
        " \uc74c\uc2dd\n",
        "\ub0b4 \uc0ac\ub791\uc2a4\ub7ec\uc6b4 \ub3fc\uc9c0 \uc2a4\ud3ec\uce20\n",
        "\ub0b4 \uc0ac\ub791\uc2a4\ub7ec\uc6b4 \ub3fc\uc9c0"
       ]
      },
      {
       "output_type": "stream",
       "stream": "stdout",
       "text": [
        " \uac8c\uc784\n",
        "\ub0b4 \uc0ac\ub791\uc2a4\ub7ec\uc6b4 \ub3fc\uc9c0"
       ]
      },
      {
       "output_type": "stream",
       "stream": "stdout",
       "text": [
        " \uac74\uac15\n",
        "\ub0b4 \uc0ac\ub791\uc2a4\ub7ec\uc6b4 \ub3fc\uc9c0 \ud559\uc2b5\n",
        "\ub0b4 \uc0ac\ub791\uc2a4\ub7ec\uc6b4 \ub3fc\uc9c0"
       ]
      },
      {
       "output_type": "stream",
       "stream": "stdout",
       "text": [
        " \ucee4\ubba4\ub2c8\ud2f0\n",
        "\uce90\ucc60\ud504\ub9b0\uc2a4 for Kakao"
       ]
      },
      {
       "output_type": "stream",
       "stream": "stdout",
       "text": [
        " \ubbf8\uc6a9\n",
        "\uce90\ucc60\ud504\ub9b0\uc2a4 for Kakao \uc74c\uc545\n",
        "\uce90\ucc60\ud504\ub9b0\uc2a4 for Kakao"
       ]
      },
      {
       "output_type": "stream",
       "stream": "stdout",
       "text": [
        " \ub9ac\ubdf0\n",
        "\uce90\ucc60\ud504\ub9b0\uc2a4 for Kakao \uc5f0\uc608\n",
        "\uce90\ucc60\ud504\ub9b0\uc2a4 for Kakao"
       ]
      },
      {
       "output_type": "stream",
       "stream": "stdout",
       "text": [
        " \uc74c\uc2dd\n",
        "\uce90\ucc60\ud504\ub9b0\uc2a4 for Kakao"
       ]
      },
      {
       "output_type": "stream",
       "stream": "stdout",
       "text": [
        " \uc2a4\ud3ec\uce20\n",
        "\uce90\ucc60\ud504\ub9b0\uc2a4 for Kakao"
       ]
      },
      {
       "output_type": "stream",
       "stream": "stdout",
       "text": [
        " \uac8c\uc784\n",
        "\uce90\ucc60\ud504\ub9b0\uc2a4 for Kakao"
       ]
      },
      {
       "output_type": "stream",
       "stream": "stdout",
       "text": [
        " \uac74\uac15\n",
        "\uce90\ucc60\ud504\ub9b0\uc2a4 for Kakao"
       ]
      },
      {
       "output_type": "stream",
       "stream": "stdout",
       "text": [
        " \ud559\uc2b5\n",
        "\uce90\ucc60\ud504\ub9b0\uc2a4 for Kakao"
       ]
      },
      {
       "output_type": "stream",
       "stream": "stdout",
       "text": [
        " \ucee4\ubba4\ub2c8\ud2f0\n",
        "Angry Fatty"
       ]
      },
      {
       "output_type": "stream",
       "stream": "stdout",
       "text": [
        " \ubbf8\uc6a9\n",
        "Angry Fatty"
       ]
      },
      {
       "output_type": "stream",
       "stream": "stdout",
       "text": [
        " \uc74c\uc545\n",
        "Angry Fatty \ub9ac\ubdf0\n",
        "Angry Fatty"
       ]
      },
      {
       "output_type": "stream",
       "stream": "stdout",
       "text": [
        " \uc5f0\uc608\n",
        "Angry Fatty \uc74c\uc2dd\n",
        "Angry Fatty"
       ]
      },
      {
       "output_type": "stream",
       "stream": "stdout",
       "text": [
        " \uc2a4\ud3ec\uce20\n",
        "Angry Fatty"
       ]
      },
      {
       "output_type": "stream",
       "stream": "stdout",
       "text": [
        " \uac8c\uc784\n",
        "Angry Fatty \uac74\uac15\n",
        "Angry Fatty"
       ]
      },
      {
       "output_type": "stream",
       "stream": "stdout",
       "text": [
        " \ud559\uc2b5\n",
        "Angry Fatty \ucee4\ubba4\ub2c8\ud2f0\n",
        "\ub4dc\ub798\uace4 \uc2a4\ud1a0\ub9ac: \ubd80\ud65c\uc808 \uc5d0\ub514\uc158"
       ]
      },
      {
       "output_type": "stream",
       "stream": "stdout",
       "text": [
        " \ubbf8\uc6a9\n",
        "\ub4dc\ub798\uace4 \uc2a4\ud1a0\ub9ac: \ubd80\ud65c\uc808 \uc5d0\ub514\uc158"
       ]
      },
      {
       "output_type": "stream",
       "stream": "stdout",
       "text": [
        " \uc74c\uc545\n",
        "\ub4dc\ub798\uace4 \uc2a4\ud1a0\ub9ac: \ubd80\ud65c\uc808 \uc5d0\ub514\uc158"
       ]
      },
      {
       "output_type": "stream",
       "stream": "stdout",
       "text": [
        " \ub9ac\ubdf0\n",
        "\ub4dc\ub798\uace4 \uc2a4\ud1a0\ub9ac: \ubd80\ud65c\uc808 \uc5d0\ub514\uc158 \uc5f0\uc608\n",
        "\ub4dc\ub798\uace4 \uc2a4\ud1a0\ub9ac: \ubd80\ud65c\uc808 \uc5d0\ub514\uc158"
       ]
      },
      {
       "output_type": "stream",
       "stream": "stdout",
       "text": [
        " \uc74c\uc2dd\n",
        "\ub4dc\ub798\uace4 \uc2a4\ud1a0\ub9ac: \ubd80\ud65c\uc808 \uc5d0\ub514\uc158 \uc2a4\ud3ec\uce20\n",
        "\ub4dc\ub798\uace4 \uc2a4\ud1a0\ub9ac: \ubd80\ud65c\uc808 \uc5d0\ub514\uc158"
       ]
      },
      {
       "output_type": "stream",
       "stream": "stdout",
       "text": [
        " \uac8c\uc784\n",
        "\ub4dc\ub798\uace4 \uc2a4\ud1a0\ub9ac: \ubd80\ud65c\uc808 \uc5d0\ub514\uc158"
       ]
      },
      {
       "output_type": "stream",
       "stream": "stdout",
       "text": [
        " \uac74\uac15\n",
        "\ub4dc\ub798\uace4 \uc2a4\ud1a0\ub9ac: \ubd80\ud65c\uc808 \uc5d0\ub514\uc158"
       ]
      },
      {
       "output_type": "stream",
       "stream": "stdout",
       "text": [
        " \ud559\uc2b5\n",
        "\ub4dc\ub798\uace4 \uc2a4\ud1a0\ub9ac: \ubd80\ud65c\uc808 \uc5d0\ub514\uc158"
       ]
      },
      {
       "output_type": "stream",
       "stream": "stdout",
       "text": [
        " \ucee4\ubba4\ub2c8\ud2f0\n",
        "\ubd88\uad50\ubc29\uc1a1 \ubbf8\uc6a9\n",
        "\ubd88\uad50\ubc29\uc1a1"
       ]
      },
      {
       "output_type": "stream",
       "stream": "stdout",
       "text": [
        " \uc74c\uc545\n",
        "\ubd88\uad50\ubc29\uc1a1"
       ]
      },
      {
       "output_type": "stream",
       "stream": "stdout",
       "text": [
        " \ub9ac\ubdf0\n",
        "\ubd88\uad50\ubc29\uc1a1"
       ]
      },
      {
       "output_type": "stream",
       "stream": "stdout",
       "text": [
        " \uc5f0\uc608\n",
        "\ubd88\uad50\ubc29\uc1a1"
       ]
      },
      {
       "output_type": "stream",
       "stream": "stdout",
       "text": [
        " \uc74c\uc2dd\n",
        "\ubd88\uad50\ubc29\uc1a1"
       ]
      },
      {
       "output_type": "stream",
       "stream": "stdout",
       "text": [
        " \uc2a4\ud3ec\uce20\n",
        "\ubd88\uad50\ubc29\uc1a1"
       ]
      },
      {
       "output_type": "stream",
       "stream": "stdout",
       "text": [
        " \uac8c\uc784\n",
        "\ubd88\uad50\ubc29\uc1a1"
       ]
      },
      {
       "output_type": "stream",
       "stream": "stdout",
       "text": [
        " \uac74\uac15\n",
        "\ubd88\uad50\ubc29\uc1a1"
       ]
      },
      {
       "output_type": "stream",
       "stream": "stdout",
       "text": [
        " \ud559\uc2b5\n",
        "\ubd88\uad50\ubc29\uc1a1"
       ]
      },
      {
       "output_type": "stream",
       "stream": "stdout",
       "text": [
        " \ucee4\ubba4\ub2c8\ud2f0\n",
        "Save Toshi \u65e5\u672c"
       ]
      },
      {
       "output_type": "stream",
       "stream": "stdout",
       "text": [
        " \ubbf8\uc6a9\n",
        "Save Toshi \u65e5\u672c"
       ]
      },
      {
       "output_type": "stream",
       "stream": "stdout",
       "text": [
        " \uc74c\uc545\n",
        "Save Toshi \u65e5\u672c \ub9ac\ubdf0\n",
        "Save Toshi \u65e5\u672c"
       ]
      },
      {
       "output_type": "stream",
       "stream": "stdout",
       "text": [
        " \uc5f0\uc608\n",
        "Save Toshi \u65e5\u672c"
       ]
      },
      {
       "output_type": "stream",
       "stream": "stdout",
       "text": [
        " \uc74c\uc2dd\n",
        "Save Toshi \u65e5\u672c"
       ]
      },
      {
       "output_type": "stream",
       "stream": "stdout",
       "text": [
        " \uc2a4\ud3ec\uce20\n",
        "Save Toshi \u65e5\u672c \uac8c\uc784\n",
        "Save Toshi \u65e5\u672c"
       ]
      },
      {
       "output_type": "stream",
       "stream": "stdout",
       "text": [
        " \uac74\uac15\n",
        "Save Toshi \u65e5\u672c"
       ]
      },
      {
       "output_type": "stream",
       "stream": "stdout",
       "text": [
        " \ud559\uc2b5\n",
        "Save Toshi \u65e5\u672c"
       ]
      },
      {
       "output_type": "stream",
       "stream": "stdout",
       "text": [
        " \ucee4\ubba4\ub2c8\ud2f0\n",
        "\u042f\u0439\u0446\u0435\u043b\u043e\u0432 \ubbf8\uc6a9\n",
        "\u042f\u0439\u0446\u0435\u043b\u043e\u0432"
       ]
      },
      {
       "output_type": "stream",
       "stream": "stdout",
       "text": [
        " \uc74c\uc545\n",
        "\u042f\u0439\u0446\u0435\u043b\u043e\u0432"
       ]
      },
      {
       "output_type": "stream",
       "stream": "stdout",
       "text": [
        " \ub9ac\ubdf0\n",
        "\u042f\u0439\u0446\u0435\u043b\u043e\u0432"
       ]
      },
      {
       "output_type": "stream",
       "stream": "stdout",
       "text": [
        " \uc5f0\uc608\n",
        "\u042f\u0439\u0446\u0435\u043b\u043e\u0432"
       ]
      },
      {
       "output_type": "stream",
       "stream": "stdout",
       "text": [
        " \uc74c\uc2dd\n",
        "\u042f\u0439\u0446\u0435\u043b\u043e\u0432"
       ]
      },
      {
       "output_type": "stream",
       "stream": "stdout",
       "text": [
        " \uc2a4\ud3ec\uce20\n",
        "\u042f\u0439\u0446\u0435\u043b\u043e\u0432"
       ]
      },
      {
       "output_type": "stream",
       "stream": "stdout",
       "text": [
        " \uac8c\uc784\n",
        "\u042f\u0439\u0446\u0435\u043b\u043e\u0432"
       ]
      },
      {
       "output_type": "stream",
       "stream": "stdout",
       "text": [
        " \uac74\uac15\n",
        "\u042f\u0439\u0446\u0435\u043b\u043e\u0432"
       ]
      },
      {
       "output_type": "stream",
       "stream": "stdout",
       "text": [
        " \ud559\uc2b5\n",
        "\u042f\u0439\u0446\u0435\u043b\u043e\u0432"
       ]
      },
      {
       "output_type": "stream",
       "stream": "stdout",
       "text": [
        " \ucee4\ubba4\ub2c8\ud2f0\n",
        "\uc5b4\ub9b0\uc774\ub97c\uc704\ud55c \uc790\uc7a5\uac00 \ubbf8\uc6a9\n",
        "\uc5b4\ub9b0\uc774\ub97c\uc704\ud55c \uc790\uc7a5\uac00"
       ]
      },
      {
       "output_type": "stream",
       "stream": "stdout",
       "text": [
        " \uc74c\uc545\n",
        "\uc5b4\ub9b0\uc774\ub97c\uc704\ud55c \uc790\uc7a5\uac00"
       ]
      },
      {
       "output_type": "stream",
       "stream": "stdout",
       "text": [
        " \ub9ac\ubdf0\n",
        "\uc5b4\ub9b0\uc774\ub97c\uc704\ud55c \uc790\uc7a5\uac00"
       ]
      },
      {
       "output_type": "stream",
       "stream": "stdout",
       "text": [
        " \uc5f0\uc608\n",
        "\uc5b4\ub9b0\uc774\ub97c\uc704\ud55c \uc790\uc7a5\uac00"
       ]
      },
      {
       "output_type": "stream",
       "stream": "stdout",
       "text": [
        " \uc74c\uc2dd\n",
        "\uc5b4\ub9b0\uc774\ub97c\uc704\ud55c \uc790\uc7a5\uac00 \uc2a4\ud3ec\uce20\n",
        "\uc5b4\ub9b0\uc774\ub97c\uc704\ud55c \uc790\uc7a5\uac00"
       ]
      },
      {
       "output_type": "stream",
       "stream": "stdout",
       "text": [
        " \uac8c\uc784\n",
        "\uc5b4\ub9b0\uc774\ub97c\uc704\ud55c \uc790\uc7a5\uac00 \uac74\uac15\n",
        "\uc5b4\ub9b0\uc774\ub97c\uc704\ud55c \uc790\uc7a5\uac00"
       ]
      },
      {
       "output_type": "stream",
       "stream": "stdout",
       "text": [
        " \ud559\uc2b5\n",
        "\uc5b4\ub9b0\uc774\ub97c\uc704\ud55c \uc790\uc7a5\uac00 \ucee4\ubba4\ub2c8\ud2f0\n",
        "\ud788\uc5b4\ub85c\uc2ac\ub808\uc774\uc5b4! [\uac04\ub2e8\ud788 \uc990\uae30\ub294  \ud37c\uc990&\ub514\ud39c\uc2a4 \uac8c\uc784]"
       ]
      },
      {
       "output_type": "stream",
       "stream": "stdout",
       "text": [
        " \ubbf8\uc6a9\n",
        "\ud788\uc5b4\ub85c\uc2ac\ub808\uc774\uc5b4! [\uac04\ub2e8\ud788 \uc990\uae30\ub294  \ud37c\uc990&\ub514\ud39c\uc2a4 \uac8c\uc784] \uc74c\uc545\n",
        "\ud788\uc5b4\ub85c\uc2ac\ub808\uc774\uc5b4! [\uac04\ub2e8\ud788 \uc990\uae30\ub294  \ud37c\uc990&\ub514\ud39c\uc2a4 \uac8c\uc784]"
       ]
      },
      {
       "output_type": "stream",
       "stream": "stdout",
       "text": [
        " \ub9ac\ubdf0\n",
        "\ud788\uc5b4\ub85c\uc2ac\ub808\uc774\uc5b4! [\uac04\ub2e8\ud788 \uc990\uae30\ub294  \ud37c\uc990&\ub514\ud39c\uc2a4 \uac8c\uc784] \uc5f0\uc608\n",
        "\ud788\uc5b4\ub85c\uc2ac\ub808\uc774\uc5b4! [\uac04\ub2e8\ud788 \uc990\uae30\ub294  \ud37c\uc990&\ub514\ud39c\uc2a4 \uac8c\uc784]"
       ]
      },
      {
       "output_type": "stream",
       "stream": "stdout",
       "text": [
        " \uc74c\uc2dd\n",
        "\ud788\uc5b4\ub85c\uc2ac\ub808\uc774\uc5b4! [\uac04\ub2e8\ud788 \uc990\uae30\ub294  \ud37c\uc990&\ub514\ud39c\uc2a4 \uac8c\uc784] \uc2a4\ud3ec\uce20\n",
        "\ud788\uc5b4\ub85c\uc2ac\ub808\uc774\uc5b4! [\uac04\ub2e8\ud788 \uc990\uae30\ub294  \ud37c\uc990&\ub514\ud39c\uc2a4 \uac8c\uc784]"
       ]
      },
      {
       "output_type": "stream",
       "stream": "stdout",
       "text": [
        " \uac8c\uc784\n",
        "\ud788\uc5b4\ub85c\uc2ac\ub808\uc774\uc5b4! [\uac04\ub2e8\ud788 \uc990\uae30\ub294  \ud37c\uc990&\ub514\ud39c\uc2a4 \uac8c\uc784] \uac74\uac15\n",
        "\ud788\uc5b4\ub85c\uc2ac\ub808\uc774\uc5b4! [\uac04\ub2e8\ud788 \uc990\uae30\ub294  \ud37c\uc990&\ub514\ud39c\uc2a4 \uac8c\uc784]"
       ]
      },
      {
       "output_type": "stream",
       "stream": "stdout",
       "text": [
        " \ud559\uc2b5\n",
        "\ud788\uc5b4\ub85c\uc2ac\ub808\uc774\uc5b4! [\uac04\ub2e8\ud788 \uc990\uae30\ub294  \ud37c\uc990&\ub514\ud39c\uc2a4 \uac8c\uc784] \ucee4\ubba4\ub2c8\ud2f0\n",
        "Christmas Hangman Deluxe"
       ]
      },
      {
       "output_type": "stream",
       "stream": "stdout",
       "text": [
        " \ubbf8\uc6a9\n",
        "Christmas Hangman Deluxe"
       ]
      },
      {
       "output_type": "stream",
       "stream": "stdout",
       "text": [
        " \uc74c\uc545\n",
        "Christmas Hangman Deluxe"
       ]
      },
      {
       "output_type": "stream",
       "stream": "stdout",
       "text": [
        " \ub9ac\ubdf0\n",
        "Christmas Hangman Deluxe"
       ]
      },
      {
       "output_type": "stream",
       "stream": "stdout",
       "text": [
        " \uc5f0\uc608\n",
        "Christmas Hangman Deluxe \uc74c\uc2dd\n",
        "Christmas Hangman Deluxe"
       ]
      },
      {
       "output_type": "stream",
       "stream": "stdout",
       "text": [
        " \uc2a4\ud3ec\uce20\n",
        "Christmas Hangman Deluxe \uac8c\uc784\n",
        "Christmas Hangman Deluxe"
       ]
      },
      {
       "output_type": "stream",
       "stream": "stdout",
       "text": [
        " \uac74\uac15\n",
        "Christmas Hangman Deluxe \ud559\uc2b5\n",
        "Christmas Hangman Deluxe"
       ]
      },
      {
       "output_type": "stream",
       "stream": "stdout",
       "text": [
        " \ucee4\ubba4\ub2c8\ud2f0\n",
        "Star Defender 4 (Free) \ubbf8\uc6a9\n",
        "Star Defender 4 (Free)"
       ]
      },
      {
       "output_type": "stream",
       "stream": "stdout",
       "text": [
        " \uc74c\uc545\n",
        "Star Defender 4 (Free)"
       ]
      },
      {
       "output_type": "stream",
       "stream": "stdout",
       "text": [
        " \ub9ac\ubdf0\n",
        "Star Defender 4 (Free)"
       ]
      },
      {
       "output_type": "stream",
       "stream": "stdout",
       "text": [
        " \uc5f0\uc608\n",
        "Star Defender 4 (Free)"
       ]
      },
      {
       "output_type": "stream",
       "stream": "stdout",
       "text": [
        " \uc74c\uc2dd\n",
        "Star Defender 4 (Free)"
       ]
      },
      {
       "output_type": "stream",
       "stream": "stdout",
       "text": [
        " \uc2a4\ud3ec\uce20\n",
        "Star Defender 4 (Free)"
       ]
      },
      {
       "output_type": "stream",
       "stream": "stdout",
       "text": [
        " \uac8c\uc784\n",
        "Star Defender 4 (Free)"
       ]
      },
      {
       "output_type": "stream",
       "stream": "stdout",
       "text": [
        " \uac74\uac15\n",
        "Star Defender 4 (Free)"
       ]
      },
      {
       "output_type": "stream",
       "stream": "stdout",
       "text": [
        " \ud559\uc2b5\n",
        "Star Defender 4 (Free) \ucee4\ubba4\ub2c8\ud2f0\n",
        "Clash of the Olympians"
       ]
      },
      {
       "output_type": "stream",
       "stream": "stdout",
       "text": [
        " \ubbf8\uc6a9\n",
        "Clash of the Olympians"
       ]
      },
      {
       "output_type": "stream",
       "stream": "stdout",
       "text": [
        " \uc74c\uc545\n",
        "Clash of the Olympians"
       ]
      },
      {
       "output_type": "stream",
       "stream": "stdout",
       "text": [
        " \ub9ac\ubdf0\n",
        "Clash of the Olympians"
       ]
      },
      {
       "output_type": "stream",
       "stream": "stdout",
       "text": [
        " \uc5f0\uc608\n",
        "Clash of the Olympians"
       ]
      },
      {
       "output_type": "stream",
       "stream": "stdout",
       "text": [
        " \uc74c\uc2dd\n",
        "Clash of the Olympians"
       ]
      },
      {
       "output_type": "stream",
       "stream": "stdout",
       "text": [
        " \uc2a4\ud3ec\uce20\n",
        "Clash of the Olympians"
       ]
      },
      {
       "output_type": "stream",
       "stream": "stdout",
       "text": [
        " \uac8c\uc784\n",
        "Clash of the Olympians"
       ]
      },
      {
       "output_type": "stream",
       "stream": "stdout",
       "text": [
        " \uac74\uac15\n",
        "Clash of the Olympians"
       ]
      },
      {
       "output_type": "stream",
       "stream": "stdout",
       "text": [
        " \ud559\uc2b5\n",
        "Clash of the Olympians"
       ]
      },
      {
       "output_type": "stream",
       "stream": "stdout",
       "text": [
        " \ucee4\ubba4\ub2c8\ud2f0\n",
        "Great White SHARKS"
       ]
      },
      {
       "output_type": "stream",
       "stream": "stdout",
       "text": [
        " \ubbf8\uc6a9\n",
        "Great White SHARKS"
       ]
      },
      {
       "output_type": "stream",
       "stream": "stdout",
       "text": [
        " \uc74c\uc545\n",
        "Great White SHARKS"
       ]
      },
      {
       "output_type": "stream",
       "stream": "stdout",
       "text": [
        " \ub9ac\ubdf0\n",
        "Great White SHARKS"
       ]
      },
      {
       "output_type": "stream",
       "stream": "stdout",
       "text": [
        " \uc5f0\uc608\n",
        "Great White SHARKS"
       ]
      },
      {
       "output_type": "stream",
       "stream": "stdout",
       "text": [
        " \uc74c\uc2dd\n",
        "Great White SHARKS"
       ]
      },
      {
       "output_type": "stream",
       "stream": "stdout",
       "text": [
        " \uc2a4\ud3ec\uce20\n",
        "Great White SHARKS"
       ]
      },
      {
       "output_type": "stream",
       "stream": "stdout",
       "text": [
        " \uac8c\uc784\n",
        "Great White SHARKS"
       ]
      },
      {
       "output_type": "stream",
       "stream": "stdout",
       "text": [
        " \uac74\uac15\n",
        "Great White SHARKS"
       ]
      },
      {
       "output_type": "stream",
       "stream": "stdout",
       "text": [
        " \ud559\uc2b5\n",
        "Great White SHARKS"
       ]
      },
      {
       "output_type": "stream",
       "stream": "stdout",
       "text": [
        " \ucee4\ubba4\ub2c8\ud2f0\n",
        "\uc911\uad6d\uc5b4 \ub2e4\ud06c \uad50\ud310"
       ]
      },
      {
       "output_type": "stream",
       "stream": "stdout",
       "text": [
        " \ubbf8\uc6a9\n",
        "\uc911\uad6d\uc5b4 \ub2e4\ud06c \uad50\ud310"
       ]
      },
      {
       "output_type": "stream",
       "stream": "stdout",
       "text": [
        " \uc74c\uc545\n",
        "\uc911\uad6d\uc5b4 \ub2e4\ud06c \uad50\ud310"
       ]
      },
      {
       "output_type": "stream",
       "stream": "stdout",
       "text": [
        " \ub9ac\ubdf0\n",
        "\uc911\uad6d\uc5b4 \ub2e4\ud06c \uad50\ud310"
       ]
      },
      {
       "output_type": "stream",
       "stream": "stdout",
       "text": [
        " \uc5f0\uc608\n",
        "\uc911\uad6d\uc5b4 \ub2e4\ud06c \uad50\ud310"
       ]
      },
      {
       "output_type": "stream",
       "stream": "stdout",
       "text": [
        " \uc74c\uc2dd\n",
        "\uc911\uad6d\uc5b4 \ub2e4\ud06c \uad50\ud310"
       ]
      },
      {
       "output_type": "stream",
       "stream": "stdout",
       "text": [
        " \uc2a4\ud3ec\uce20\n",
        "\uc911\uad6d\uc5b4 \ub2e4\ud06c \uad50\ud310"
       ]
      },
      {
       "output_type": "stream",
       "stream": "stdout",
       "text": [
        " \uac8c\uc784\n",
        "\uc911\uad6d\uc5b4 \ub2e4\ud06c \uad50\ud310"
       ]
      },
      {
       "output_type": "stream",
       "stream": "stdout",
       "text": [
        " \uac74\uac15\n",
        "\uc911\uad6d\uc5b4 \ub2e4\ud06c \uad50\ud310"
       ]
      },
      {
       "output_type": "stream",
       "stream": "stdout",
       "text": [
        " \ud559\uc2b5\n",
        "\uc911\uad6d\uc5b4 \ub2e4\ud06c \uad50\ud310"
       ]
      },
      {
       "output_type": "stream",
       "stream": "stdout",
       "text": [
        " \ucee4\ubba4\ub2c8\ud2f0\n",
        "\ub808\uc774\uc2a4 \uc2a4\ud0c0\ud2b8 - GO\ub77d\ucee4\ud14c\ub9c8 - \ud504\ub9ac\ubbf8\uc5c4"
       ]
      },
      {
       "output_type": "stream",
       "stream": "stdout",
       "text": [
        " \ubbf8\uc6a9\n",
        "\ub808\uc774\uc2a4 \uc2a4\ud0c0\ud2b8 - GO\ub77d\ucee4\ud14c\ub9c8 - \ud504\ub9ac\ubbf8\uc5c4"
       ]
      },
      {
       "output_type": "stream",
       "stream": "stdout",
       "text": [
        " \uc74c\uc545\n",
        "\ub808\uc774\uc2a4 \uc2a4\ud0c0\ud2b8 - GO\ub77d\ucee4\ud14c\ub9c8 - \ud504\ub9ac\ubbf8\uc5c4"
       ]
      },
      {
       "output_type": "stream",
       "stream": "stdout",
       "text": [
        " \ub9ac\ubdf0\n",
        "\ub808\uc774\uc2a4 \uc2a4\ud0c0\ud2b8 - GO\ub77d\ucee4\ud14c\ub9c8 - \ud504\ub9ac\ubbf8\uc5c4"
       ]
      },
      {
       "output_type": "stream",
       "stream": "stdout",
       "text": [
        " \uc5f0\uc608\n",
        "\ub808\uc774\uc2a4 \uc2a4\ud0c0\ud2b8 - GO\ub77d\ucee4\ud14c\ub9c8 - \ud504\ub9ac\ubbf8\uc5c4"
       ]
      },
      {
       "output_type": "stream",
       "stream": "stdout",
       "text": [
        " \uc74c\uc2dd\n",
        "\ub808\uc774\uc2a4 \uc2a4\ud0c0\ud2b8 - GO\ub77d\ucee4\ud14c\ub9c8 - \ud504\ub9ac\ubbf8\uc5c4"
       ]
      },
      {
       "output_type": "stream",
       "stream": "stdout",
       "text": [
        " \uc2a4\ud3ec\uce20\n",
        "\ub808\uc774\uc2a4 \uc2a4\ud0c0\ud2b8 - GO\ub77d\ucee4\ud14c\ub9c8 - \ud504\ub9ac\ubbf8\uc5c4"
       ]
      },
      {
       "output_type": "stream",
       "stream": "stdout",
       "text": [
        " \uac8c\uc784\n",
        "\ub808\uc774\uc2a4 \uc2a4\ud0c0\ud2b8 - GO\ub77d\ucee4\ud14c\ub9c8 - \ud504\ub9ac\ubbf8\uc5c4"
       ]
      },
      {
       "output_type": "stream",
       "stream": "stdout",
       "text": [
        " \uac74\uac15\n",
        "\ub808\uc774\uc2a4 \uc2a4\ud0c0\ud2b8 - GO\ub77d\ucee4\ud14c\ub9c8 - \ud504\ub9ac\ubbf8\uc5c4"
       ]
      },
      {
       "output_type": "stream",
       "stream": "stdout",
       "text": [
        " \ud559\uc2b5\n",
        "\ub808\uc774\uc2a4 \uc2a4\ud0c0\ud2b8 - GO\ub77d\ucee4\ud14c\ub9c8 - \ud504\ub9ac\ubbf8\uc5c4"
       ]
      },
      {
       "output_type": "stream",
       "stream": "stdout",
       "text": [
        " \ucee4\ubba4\ub2c8\ud2f0\n",
        "Bowman Pro 4"
       ]
      },
      {
       "output_type": "stream",
       "stream": "stdout",
       "text": [
        " \ubbf8\uc6a9\n",
        "Bowman Pro 4"
       ]
      },
      {
       "output_type": "stream",
       "stream": "stdout",
       "text": [
        " \uc74c\uc545\n",
        "Bowman Pro 4"
       ]
      },
      {
       "output_type": "stream",
       "stream": "stdout",
       "text": [
        " \ub9ac\ubdf0\n",
        "Bowman Pro 4"
       ]
      },
      {
       "output_type": "stream",
       "stream": "stdout",
       "text": [
        " \uc5f0\uc608\n",
        "Bowman Pro 4"
       ]
      },
      {
       "output_type": "stream",
       "stream": "stdout",
       "text": [
        " \uc74c\uc2dd\n",
        "Bowman Pro 4"
       ]
      },
      {
       "output_type": "stream",
       "stream": "stdout",
       "text": [
        " \uc2a4\ud3ec\uce20\n",
        "Bowman Pro 4"
       ]
      },
      {
       "output_type": "stream",
       "stream": "stdout",
       "text": [
        " \uac8c\uc784\n",
        "Bowman Pro 4"
       ]
      },
      {
       "output_type": "stream",
       "stream": "stdout",
       "text": [
        " \uac74\uac15\n",
        "Bowman Pro 4 \ud559\uc2b5\n",
        "Bowman Pro 4"
       ]
      },
      {
       "output_type": "stream",
       "stream": "stdout",
       "text": [
        " \ucee4\ubba4\ub2c8\ud2f0\n",
        "\uc608\uc2a4\ud30c\uc77c-\uc601\ud654\ubcf4\uae30,\uc74c\uc545,\ub4dc\ub77c\ub9c8,\uc560\ub2c8,\ub3d9\uc601\uc0c1 \uc790\ub8cc\ub2e4\uc6b4\ub85c\ub4dc"
       ]
      },
      {
       "output_type": "stream",
       "stream": "stdout",
       "text": [
        " \ubbf8\uc6a9\n",
        "\uc608\uc2a4\ud30c\uc77c-\uc601\ud654\ubcf4\uae30,\uc74c\uc545,\ub4dc\ub77c\ub9c8,\uc560\ub2c8,\ub3d9\uc601\uc0c1 \uc790\ub8cc\ub2e4\uc6b4\ub85c\ub4dc"
       ]
      },
      {
       "output_type": "stream",
       "stream": "stdout",
       "text": [
        " \uc74c\uc545\n",
        "\uc608\uc2a4\ud30c\uc77c-\uc601\ud654\ubcf4\uae30,\uc74c\uc545,\ub4dc\ub77c\ub9c8,\uc560\ub2c8,\ub3d9\uc601\uc0c1 \uc790\ub8cc\ub2e4\uc6b4\ub85c\ub4dc"
       ]
      },
      {
       "output_type": "stream",
       "stream": "stdout",
       "text": [
        " \ub9ac\ubdf0\n",
        "\uc608\uc2a4\ud30c\uc77c-\uc601\ud654\ubcf4\uae30,\uc74c\uc545,\ub4dc\ub77c\ub9c8,\uc560\ub2c8,\ub3d9\uc601\uc0c1 \uc790\ub8cc\ub2e4\uc6b4\ub85c\ub4dc"
       ]
      },
      {
       "output_type": "stream",
       "stream": "stdout",
       "text": [
        " \uc5f0\uc608\n",
        "\uc608\uc2a4\ud30c\uc77c-\uc601\ud654\ubcf4\uae30,\uc74c\uc545,\ub4dc\ub77c\ub9c8,\uc560\ub2c8,\ub3d9\uc601\uc0c1 \uc790\ub8cc\ub2e4\uc6b4\ub85c\ub4dc"
       ]
      },
      {
       "output_type": "stream",
       "stream": "stdout",
       "text": [
        " \uc74c\uc2dd\n",
        "\uc608\uc2a4\ud30c\uc77c-\uc601\ud654\ubcf4\uae30,\uc74c\uc545,\ub4dc\ub77c\ub9c8,\uc560\ub2c8,\ub3d9\uc601\uc0c1 \uc790\ub8cc\ub2e4\uc6b4\ub85c\ub4dc"
       ]
      },
      {
       "output_type": "stream",
       "stream": "stdout",
       "text": [
        " \uc2a4\ud3ec\uce20\n",
        "\uc608\uc2a4\ud30c\uc77c-\uc601\ud654\ubcf4\uae30,\uc74c\uc545,\ub4dc\ub77c\ub9c8,\uc560\ub2c8,\ub3d9\uc601\uc0c1 \uc790\ub8cc\ub2e4\uc6b4\ub85c\ub4dc \uac8c\uc784\n",
        "\uc608\uc2a4\ud30c\uc77c-\uc601\ud654\ubcf4\uae30,\uc74c\uc545,\ub4dc\ub77c\ub9c8,\uc560\ub2c8,\ub3d9\uc601\uc0c1 \uc790\ub8cc\ub2e4\uc6b4\ub85c\ub4dc"
       ]
      },
      {
       "output_type": "stream",
       "stream": "stdout",
       "text": [
        " \uac74\uac15\n",
        "\uc608\uc2a4\ud30c\uc77c-\uc601\ud654\ubcf4\uae30,\uc74c\uc545,\ub4dc\ub77c\ub9c8,\uc560\ub2c8,\ub3d9\uc601\uc0c1 \uc790\ub8cc\ub2e4\uc6b4\ub85c\ub4dc"
       ]
      },
      {
       "output_type": "stream",
       "stream": "stdout",
       "text": [
        " \ud559\uc2b5\n",
        "\uc608\uc2a4\ud30c\uc77c-\uc601\ud654\ubcf4\uae30,\uc74c\uc545,\ub4dc\ub77c\ub9c8,\uc560\ub2c8,\ub3d9\uc601\uc0c1 \uc790\ub8cc\ub2e4\uc6b4\ub85c\ub4dc"
       ]
      },
      {
       "output_type": "stream",
       "stream": "stdout",
       "text": [
        " \ucee4\ubba4\ub2c8\ud2f0\n",
        "Qello"
       ]
      },
      {
       "output_type": "stream",
       "stream": "stdout",
       "text": [
        " \ubbf8\uc6a9\n",
        "Qello"
       ]
      },
      {
       "output_type": "stream",
       "stream": "stdout",
       "text": [
        " \uc74c\uc545\n",
        "Qello"
       ]
      },
      {
       "output_type": "stream",
       "stream": "stdout",
       "text": [
        " \ub9ac\ubdf0\n",
        "Qello"
       ]
      },
      {
       "output_type": "stream",
       "stream": "stdout",
       "text": [
        " \uc5f0\uc608\n",
        "Qello"
       ]
      },
      {
       "output_type": "stream",
       "stream": "stdout",
       "text": [
        " \uc74c\uc2dd\n",
        "Qello"
       ]
      },
      {
       "output_type": "stream",
       "stream": "stdout",
       "text": [
        " \uc2a4\ud3ec\uce20\n",
        "Qello"
       ]
      },
      {
       "output_type": "stream",
       "stream": "stdout",
       "text": [
        " \uac8c\uc784\n",
        "Qello"
       ]
      },
      {
       "output_type": "stream",
       "stream": "stdout",
       "text": [
        " \uac74\uac15\n",
        "Qello"
       ]
      },
      {
       "output_type": "stream",
       "stream": "stdout",
       "text": [
        " \ud559\uc2b5\n",
        "Qello"
       ]
      },
      {
       "output_type": "stream",
       "stream": "stdout",
       "text": [
        " \ucee4\ubba4\ub2c8\ud2f0\n",
        "Three Kingdoms: Heroes"
       ]
      },
      {
       "output_type": "stream",
       "stream": "stdout",
       "text": [
        " \ubbf8\uc6a9\n",
        "Three Kingdoms: Heroes"
       ]
      },
      {
       "output_type": "stream",
       "stream": "stdout",
       "text": [
        " \uc74c\uc545\n",
        "Three Kingdoms: Heroes"
       ]
      },
      {
       "output_type": "stream",
       "stream": "stdout",
       "text": [
        " \ub9ac\ubdf0\n",
        "Three Kingdoms: Heroes"
       ]
      },
      {
       "output_type": "stream",
       "stream": "stdout",
       "text": [
        " \uc5f0\uc608\n",
        "Three Kingdoms: Heroes"
       ]
      },
      {
       "output_type": "stream",
       "stream": "stdout",
       "text": [
        " \uc74c\uc2dd\n",
        "Three Kingdoms: Heroes"
       ]
      },
      {
       "output_type": "stream",
       "stream": "stdout",
       "text": [
        " \uc2a4\ud3ec\uce20\n",
        "Three Kingdoms: Heroes"
       ]
      },
      {
       "output_type": "stream",
       "stream": "stdout",
       "text": [
        " \uac8c\uc784\n",
        "Three Kingdoms: Heroes"
       ]
      },
      {
       "output_type": "stream",
       "stream": "stdout",
       "text": [
        " \uac74\uac15\n",
        "Three Kingdoms: Heroes"
       ]
      },
      {
       "output_type": "stream",
       "stream": "stdout",
       "text": [
        " \ud559\uc2b5\n",
        "Three Kingdoms: Heroes"
       ]
      },
      {
       "output_type": "stream",
       "stream": "stdout",
       "text": [
        " \ucee4\ubba4\ub2c8\ud2f0\n",
        "BBC News"
       ]
      },
      {
       "output_type": "stream",
       "stream": "stdout",
       "text": [
        " \ubbf8\uc6a9\n",
        "BBC News"
       ]
      },
      {
       "output_type": "stream",
       "stream": "stdout",
       "text": [
        " \uc74c\uc545\n",
        "BBC News"
       ]
      },
      {
       "output_type": "stream",
       "stream": "stdout",
       "text": [
        " \ub9ac\ubdf0\n",
        "BBC News"
       ]
      },
      {
       "output_type": "stream",
       "stream": "stdout",
       "text": [
        " \uc5f0\uc608\n",
        "BBC News"
       ]
      },
      {
       "output_type": "stream",
       "stream": "stdout",
       "text": [
        " \uc74c\uc2dd\n",
        "BBC News"
       ]
      },
      {
       "output_type": "stream",
       "stream": "stdout",
       "text": [
        " \uc2a4\ud3ec\uce20\n",
        "BBC News \uac8c\uc784\n",
        "BBC News"
       ]
      },
      {
       "output_type": "stream",
       "stream": "stdout",
       "text": [
        " \uac74\uac15\n",
        "BBC News"
       ]
      },
      {
       "output_type": "stream",
       "stream": "stdout",
       "text": [
        " \ud559\uc2b5\n",
        "BBC News"
       ]
      },
      {
       "output_type": "stream",
       "stream": "stdout",
       "text": [
        " \ucee4\ubba4\ub2c8\ud2f0\n",
        "\u4e0d\u601d\u8b70\u5fae\u751f\u7269\u30bf\u30de\u30bf\u30de\u7814\u7a76\u6240"
       ]
      },
      {
       "output_type": "stream",
       "stream": "stdout",
       "text": [
        " \ubbf8\uc6a9\n",
        "\u4e0d\u601d\u8b70\u5fae\u751f\u7269\u30bf\u30de\u30bf\u30de\u7814\u7a76\u6240"
       ]
      },
      {
       "output_type": "stream",
       "stream": "stdout",
       "text": [
        " \uc74c\uc545\n",
        "\u4e0d\u601d\u8b70\u5fae\u751f\u7269\u30bf\u30de\u30bf\u30de\u7814\u7a76\u6240"
       ]
      },
      {
       "output_type": "stream",
       "stream": "stdout",
       "text": [
        " \ub9ac\ubdf0\n",
        "\u4e0d\u601d\u8b70\u5fae\u751f\u7269\u30bf\u30de\u30bf\u30de\u7814\u7a76\u6240"
       ]
      },
      {
       "output_type": "stream",
       "stream": "stdout",
       "text": [
        " \uc5f0\uc608\n",
        "\u4e0d\u601d\u8b70\u5fae\u751f\u7269\u30bf\u30de\u30bf\u30de\u7814\u7a76\u6240"
       ]
      },
      {
       "output_type": "stream",
       "stream": "stdout",
       "text": [
        " \uc74c\uc2dd\n",
        "\u4e0d\u601d\u8b70\u5fae\u751f\u7269\u30bf\u30de\u30bf\u30de\u7814\u7a76\u6240"
       ]
      },
      {
       "output_type": "stream",
       "stream": "stdout",
       "text": [
        " \uc2a4\ud3ec\uce20\n",
        "\u4e0d\u601d\u8b70\u5fae\u751f\u7269\u30bf\u30de\u30bf\u30de\u7814\u7a76\u6240"
       ]
      },
      {
       "output_type": "stream",
       "stream": "stdout",
       "text": [
        " \uac8c\uc784\n",
        "\u4e0d\u601d\u8b70\u5fae\u751f\u7269\u30bf\u30de\u30bf\u30de\u7814\u7a76\u6240"
       ]
      },
      {
       "output_type": "stream",
       "stream": "stdout",
       "text": [
        " \uac74\uac15\n",
        "\u4e0d\u601d\u8b70\u5fae\u751f\u7269\u30bf\u30de\u30bf\u30de\u7814\u7a76\u6240"
       ]
      },
      {
       "output_type": "stream",
       "stream": "stdout",
       "text": [
        " \ud559\uc2b5\n",
        "\u4e0d\u601d\u8b70\u5fae\u751f\u7269\u30bf\u30de\u30bf\u30de\u7814\u7a76\u6240"
       ]
      },
      {
       "output_type": "stream",
       "stream": "stdout",
       "text": [
        " \ucee4\ubba4\ub2c8\ud2f0\n",
        "Galatasaray Fantasy Manager'13"
       ]
      },
      {
       "output_type": "stream",
       "stream": "stdout",
       "text": [
        " \ubbf8\uc6a9\n",
        "Galatasaray Fantasy Manager'13"
       ]
      },
      {
       "output_type": "stream",
       "stream": "stdout",
       "text": [
        " \uc74c\uc545\n",
        "Galatasaray Fantasy Manager'13"
       ]
      },
      {
       "output_type": "stream",
       "stream": "stdout",
       "text": [
        " \ub9ac\ubdf0\n",
        "Galatasaray Fantasy Manager'13"
       ]
      },
      {
       "output_type": "stream",
       "stream": "stdout",
       "text": [
        " \uc5f0\uc608\n",
        "Galatasaray Fantasy Manager'13"
       ]
      },
      {
       "output_type": "stream",
       "stream": "stdout",
       "text": [
        " \uc74c\uc2dd\n",
        "Galatasaray Fantasy Manager'13 \uc2a4\ud3ec\uce20\n",
        "Galatasaray Fantasy Manager'13"
       ]
      },
      {
       "output_type": "stream",
       "stream": "stdout",
       "text": [
        " \uac8c\uc784\n",
        "Galatasaray Fantasy Manager'13"
       ]
      },
      {
       "output_type": "stream",
       "stream": "stdout",
       "text": [
        " \uac74\uac15\n",
        "Galatasaray Fantasy Manager'13"
       ]
      },
      {
       "output_type": "stream",
       "stream": "stdout",
       "text": [
        " \ud559\uc2b5\n",
        "Galatasaray Fantasy Manager'13"
       ]
      },
      {
       "output_type": "stream",
       "stream": "stdout",
       "text": [
        " \ucee4\ubba4\ub2c8\ud2f0\n",
        "Puzzle Retreat"
       ]
      },
      {
       "output_type": "stream",
       "stream": "stdout",
       "text": [
        " \ubbf8\uc6a9\n",
        "Puzzle Retreat"
       ]
      },
      {
       "output_type": "stream",
       "stream": "stdout",
       "text": [
        " \uc74c\uc545\n",
        "Puzzle Retreat"
       ]
      },
      {
       "output_type": "stream",
       "stream": "stdout",
       "text": [
        " \ub9ac\ubdf0\n",
        "Puzzle Retreat"
       ]
      },
      {
       "output_type": "stream",
       "stream": "stdout",
       "text": [
        " \uc5f0\uc608\n",
        "Puzzle Retreat"
       ]
      },
      {
       "output_type": "stream",
       "stream": "stdout",
       "text": [
        " \uc74c\uc2dd\n",
        "Puzzle Retreat"
       ]
      },
      {
       "output_type": "stream",
       "stream": "stdout",
       "text": [
        " \uc2a4\ud3ec\uce20\n",
        "Puzzle Retreat"
       ]
      },
      {
       "output_type": "stream",
       "stream": "stdout",
       "text": [
        " \uac8c\uc784\n",
        "Puzzle Retreat"
       ]
      },
      {
       "output_type": "stream",
       "stream": "stdout",
       "text": [
        " \uac74\uac15\n",
        "Puzzle Retreat"
       ]
      },
      {
       "output_type": "stream",
       "stream": "stdout",
       "text": [
        " \ud559\uc2b5\n",
        "Puzzle Retreat"
       ]
      },
      {
       "output_type": "stream",
       "stream": "stdout",
       "text": [
        " \ucee4\ubba4\ub2c8\ud2f0\n",
        "\ucd95\uad6c \uacbd\uae30 \ud504\ub85c"
       ]
      },
      {
       "output_type": "stream",
       "stream": "stdout",
       "text": [
        " \ubbf8\uc6a9\n",
        "\ucd95\uad6c \uacbd\uae30 \ud504\ub85c"
       ]
      },
      {
       "output_type": "stream",
       "stream": "stdout",
       "text": [
        " \uc74c\uc545\n",
        "\ucd95\uad6c \uacbd\uae30 \ud504\ub85c"
       ]
      },
      {
       "output_type": "stream",
       "stream": "stdout",
       "text": [
        " \ub9ac\ubdf0\n",
        "\ucd95\uad6c \uacbd\uae30 \ud504\ub85c"
       ]
      },
      {
       "output_type": "stream",
       "stream": "stdout",
       "text": [
        " \uc5f0\uc608\n",
        "\ucd95\uad6c \uacbd\uae30 \ud504\ub85c"
       ]
      },
      {
       "output_type": "stream",
       "stream": "stdout",
       "text": [
        " \uc74c\uc2dd\n",
        "\ucd95\uad6c \uacbd\uae30 \ud504\ub85c"
       ]
      },
      {
       "output_type": "stream",
       "stream": "stdout",
       "text": [
        " \uc2a4\ud3ec\uce20\n",
        "\ucd95\uad6c \uacbd\uae30 \ud504\ub85c"
       ]
      },
      {
       "output_type": "stream",
       "stream": "stdout",
       "text": [
        " \uac8c\uc784\n",
        "\ucd95\uad6c \uacbd\uae30 \ud504\ub85c"
       ]
      },
      {
       "output_type": "stream",
       "stream": "stdout",
       "text": [
        " \uac74\uac15\n",
        "\ucd95\uad6c \uacbd\uae30 \ud504\ub85c"
       ]
      },
      {
       "output_type": "stream",
       "stream": "stdout",
       "text": [
        " \ud559\uc2b5\n",
        "\ucd95\uad6c \uacbd\uae30 \ud504\ub85c"
       ]
      },
      {
       "output_type": "stream",
       "stream": "stdout",
       "text": [
        " \ucee4\ubba4\ub2c8\ud2f0\n",
        "Wild Blocks Rush"
       ]
      },
      {
       "output_type": "stream",
       "stream": "stdout",
       "text": [
        " \ubbf8\uc6a9\n",
        "Wild Blocks Rush"
       ]
      },
      {
       "output_type": "stream",
       "stream": "stdout",
       "text": [
        " \uc74c\uc545\n",
        "Wild Blocks Rush"
       ]
      },
      {
       "output_type": "stream",
       "stream": "stdout",
       "text": [
        " \ub9ac\ubdf0\n",
        "Wild Blocks Rush"
       ]
      },
      {
       "output_type": "stream",
       "stream": "stdout",
       "text": [
        " \uc5f0\uc608\n",
        "Wild Blocks Rush"
       ]
      },
      {
       "output_type": "stream",
       "stream": "stdout",
       "text": [
        " \uc74c\uc2dd\n",
        "Wild Blocks Rush"
       ]
      },
      {
       "output_type": "stream",
       "stream": "stdout",
       "text": [
        " \uc2a4\ud3ec\uce20\n",
        "Wild Blocks Rush"
       ]
      },
      {
       "output_type": "stream",
       "stream": "stdout",
       "text": [
        " \uac8c\uc784\n",
        "Wild Blocks Rush"
       ]
      },
      {
       "output_type": "stream",
       "stream": "stdout",
       "text": [
        " \uac74\uac15\n",
        "Wild Blocks Rush"
       ]
      },
      {
       "output_type": "stream",
       "stream": "stdout",
       "text": [
        " \ud559\uc2b5\n",
        "Wild Blocks Rush"
       ]
      },
      {
       "output_type": "stream",
       "stream": "stdout",
       "text": [
        " \ucee4\ubba4\ub2c8\ud2f0\n",
        "\u9a45\u52d5\u57ce\u5e02-\u5373\u6642\u8def\u6cc1,\u52a0\u6cb9,\u505c\u8eca,\u512a\u60e0,\u6551\u63f4"
       ]
      },
      {
       "output_type": "stream",
       "stream": "stdout",
       "text": [
        " \ubbf8\uc6a9\n",
        "\u9a45\u52d5\u57ce\u5e02-\u5373\u6642\u8def\u6cc1,\u52a0\u6cb9,\u505c\u8eca,\u512a\u60e0,\u6551\u63f4"
       ]
      },
      {
       "output_type": "stream",
       "stream": "stdout",
       "text": [
        " \uc74c\uc545\n",
        "\u9a45\u52d5\u57ce\u5e02-\u5373\u6642\u8def\u6cc1,\u52a0\u6cb9,\u505c\u8eca,\u512a\u60e0,\u6551\u63f4"
       ]
      },
      {
       "output_type": "stream",
       "stream": "stdout",
       "text": [
        " \ub9ac\ubdf0\n",
        "\u9a45\u52d5\u57ce\u5e02-\u5373\u6642\u8def\u6cc1,\u52a0\u6cb9,\u505c\u8eca,\u512a\u60e0,\u6551\u63f4"
       ]
      },
      {
       "output_type": "stream",
       "stream": "stdout",
       "text": [
        " \uc5f0\uc608\n",
        "\u9a45\u52d5\u57ce\u5e02-\u5373\u6642\u8def\u6cc1,\u52a0\u6cb9,\u505c\u8eca,\u512a\u60e0,\u6551\u63f4"
       ]
      },
      {
       "output_type": "stream",
       "stream": "stdout",
       "text": [
        " \uc74c\uc2dd\n",
        "\u9a45\u52d5\u57ce\u5e02-\u5373\u6642\u8def\u6cc1,\u52a0\u6cb9,\u505c\u8eca,\u512a\u60e0,\u6551\u63f4"
       ]
      },
      {
       "output_type": "stream",
       "stream": "stdout",
       "text": [
        " \uc2a4\ud3ec\uce20\n",
        "\u9a45\u52d5\u57ce\u5e02-\u5373\u6642\u8def\u6cc1,\u52a0\u6cb9,\u505c\u8eca,\u512a\u60e0,\u6551\u63f4"
       ]
      },
      {
       "output_type": "stream",
       "stream": "stdout",
       "text": [
        " \uac8c\uc784\n",
        "\u9a45\u52d5\u57ce\u5e02-\u5373\u6642\u8def\u6cc1,\u52a0\u6cb9,\u505c\u8eca,\u512a\u60e0,\u6551\u63f4"
       ]
      },
      {
       "output_type": "stream",
       "stream": "stdout",
       "text": [
        " \uac74\uac15\n",
        "\u9a45\u52d5\u57ce\u5e02-\u5373\u6642\u8def\u6cc1,\u52a0\u6cb9,\u505c\u8eca,\u512a\u60e0,\u6551\u63f4"
       ]
      },
      {
       "output_type": "stream",
       "stream": "stdout",
       "text": [
        " \ud559\uc2b5\n",
        "\u9a45\u52d5\u57ce\u5e02-\u5373\u6642\u8def\u6cc1,\u52a0\u6cb9,\u505c\u8eca,\u512a\u60e0,\u6551\u63f4"
       ]
      },
      {
       "output_type": "stream",
       "stream": "stdout",
       "text": [
        " \ucee4\ubba4\ub2c8\ud2f0\n",
        "FreeTelec T\u00e9l\u00e9c Freebox"
       ]
      },
      {
       "output_type": "stream",
       "stream": "stdout",
       "text": [
        " \ubbf8\uc6a9\n",
        "FreeTelec T\u00e9l\u00e9c Freebox"
       ]
      },
      {
       "output_type": "stream",
       "stream": "stdout",
       "text": [
        " \uc74c\uc545\n",
        "FreeTelec T\u00e9l\u00e9c Freebox"
       ]
      },
      {
       "output_type": "stream",
       "stream": "stdout",
       "text": [
        " \ub9ac\ubdf0\n",
        "FreeTelec T\u00e9l\u00e9c Freebox"
       ]
      },
      {
       "output_type": "stream",
       "stream": "stdout",
       "text": [
        " \uc5f0\uc608\n",
        "FreeTelec T\u00e9l\u00e9c Freebox"
       ]
      },
      {
       "output_type": "stream",
       "stream": "stdout",
       "text": [
        " \uc74c\uc2dd\n",
        "FreeTelec T\u00e9l\u00e9c Freebox"
       ]
      },
      {
       "output_type": "stream",
       "stream": "stdout",
       "text": [
        " \uc2a4\ud3ec\uce20\n",
        "FreeTelec T\u00e9l\u00e9c Freebox"
       ]
      },
      {
       "output_type": "stream",
       "stream": "stdout",
       "text": [
        " \uac8c\uc784\n",
        "FreeTelec T\u00e9l\u00e9c Freebox"
       ]
      },
      {
       "output_type": "stream",
       "stream": "stdout",
       "text": [
        " \uac74\uac15\n",
        "FreeTelec T\u00e9l\u00e9c Freebox"
       ]
      },
      {
       "output_type": "stream",
       "stream": "stdout",
       "text": [
        " \ud559\uc2b5\n",
        "FreeTelec T\u00e9l\u00e9c Freebox"
       ]
      },
      {
       "output_type": "stream",
       "stream": "stdout",
       "text": [
        " \ucee4\ubba4\ub2c8\ud2f0\n",
        "Wacky Duck"
       ]
      },
      {
       "output_type": "stream",
       "stream": "stdout",
       "text": [
        " \ubbf8\uc6a9\n",
        "Wacky Duck"
       ]
      },
      {
       "output_type": "stream",
       "stream": "stdout",
       "text": [
        " \uc74c\uc545\n",
        "Wacky Duck"
       ]
      },
      {
       "output_type": "stream",
       "stream": "stdout",
       "text": [
        " \ub9ac\ubdf0\n",
        "Wacky Duck"
       ]
      },
      {
       "output_type": "stream",
       "stream": "stdout",
       "text": [
        " \uc5f0\uc608\n",
        "Wacky Duck"
       ]
      },
      {
       "output_type": "stream",
       "stream": "stdout",
       "text": [
        " \uc74c\uc2dd\n",
        "Wacky Duck"
       ]
      },
      {
       "output_type": "stream",
       "stream": "stdout",
       "text": [
        " \uc2a4\ud3ec\uce20\n",
        "Wacky Duck"
       ]
      },
      {
       "output_type": "stream",
       "stream": "stdout",
       "text": [
        " \uac8c\uc784\n",
        "Wacky Duck"
       ]
      },
      {
       "output_type": "stream",
       "stream": "stdout",
       "text": [
        " \uac74\uac15\n",
        "Wacky Duck"
       ]
      },
      {
       "output_type": "stream",
       "stream": "stdout",
       "text": [
        " \ud559\uc2b5\n",
        "Wacky Duck"
       ]
      },
      {
       "output_type": "stream",
       "stream": "stdout",
       "text": [
        " \ucee4\ubba4\ub2c8\ud2f0\n",
        "[\uc138\uc774\ud1a1] \ub300\ud654\uac00 \ud544\uc694\ud560 \ub54c - Saytalk \ucc44\ud305"
       ]
      },
      {
       "output_type": "stream",
       "stream": "stdout",
       "text": [
        " \ubbf8\uc6a9\n",
        "[\uc138\uc774\ud1a1] \ub300\ud654\uac00 \ud544\uc694\ud560 \ub54c - Saytalk \ucc44\ud305"
       ]
      },
      {
       "output_type": "stream",
       "stream": "stdout",
       "text": [
        " \uc74c\uc545\n",
        "[\uc138\uc774\ud1a1] \ub300\ud654\uac00 \ud544\uc694\ud560 \ub54c - Saytalk \ucc44\ud305"
       ]
      },
      {
       "output_type": "stream",
       "stream": "stdout",
       "text": [
        " \ub9ac\ubdf0\n",
        "[\uc138\uc774\ud1a1] \ub300\ud654\uac00 \ud544\uc694\ud560 \ub54c - Saytalk \ucc44\ud305"
       ]
      },
      {
       "output_type": "stream",
       "stream": "stdout",
       "text": [
        " \uc5f0\uc608\n",
        "[\uc138\uc774\ud1a1] \ub300\ud654\uac00 \ud544\uc694\ud560 \ub54c - Saytalk \ucc44\ud305"
       ]
      },
      {
       "output_type": "stream",
       "stream": "stdout",
       "text": [
        " \uc74c\uc2dd\n",
        "[\uc138\uc774\ud1a1] \ub300\ud654\uac00 \ud544\uc694\ud560 \ub54c - Saytalk \ucc44\ud305"
       ]
      },
      {
       "output_type": "stream",
       "stream": "stdout",
       "text": [
        " \uc2a4\ud3ec\uce20\n",
        "[\uc138\uc774\ud1a1] \ub300\ud654\uac00 \ud544\uc694\ud560 \ub54c - Saytalk \ucc44\ud305"
       ]
      },
      {
       "output_type": "stream",
       "stream": "stdout",
       "text": [
        " \uac8c\uc784\n",
        "[\uc138\uc774\ud1a1] \ub300\ud654\uac00 \ud544\uc694\ud560 \ub54c - Saytalk \ucc44\ud305"
       ]
      },
      {
       "output_type": "stream",
       "stream": "stdout",
       "text": [
        " \uac74\uac15\n",
        "[\uc138\uc774\ud1a1] \ub300\ud654\uac00 \ud544\uc694\ud560 \ub54c - Saytalk \ucc44\ud305"
       ]
      },
      {
       "output_type": "stream",
       "stream": "stdout",
       "text": [
        " \ud559\uc2b5\n",
        "[\uc138\uc774\ud1a1] \ub300\ud654\uac00 \ud544\uc694\ud560 \ub54c - Saytalk \ucc44\ud305"
       ]
      },
      {
       "output_type": "stream",
       "stream": "stdout",
       "text": [
        " \ucee4\ubba4\ub2c8\ud2f0\n",
        "Iron Reactor Widget"
       ]
      },
      {
       "output_type": "stream",
       "stream": "stdout",
       "text": [
        " \ubbf8\uc6a9\n",
        "Iron Reactor Widget"
       ]
      },
      {
       "output_type": "stream",
       "stream": "stdout",
       "text": [
        " \uc74c\uc545\n",
        "Iron Reactor Widget"
       ]
      },
      {
       "output_type": "stream",
       "stream": "stdout",
       "text": [
        " \ub9ac\ubdf0\n",
        "Iron Reactor Widget"
       ]
      },
      {
       "output_type": "stream",
       "stream": "stdout",
       "text": [
        " \uc5f0\uc608\n",
        "Iron Reactor Widget \uc74c\uc2dd\n",
        "Iron Reactor Widget"
       ]
      },
      {
       "output_type": "stream",
       "stream": "stdout",
       "text": [
        " \uc2a4\ud3ec\uce20\n",
        "Iron Reactor Widget"
       ]
      },
      {
       "output_type": "stream",
       "stream": "stdout",
       "text": [
        " \uac8c\uc784\n",
        "Iron Reactor Widget"
       ]
      },
      {
       "output_type": "stream",
       "stream": "stdout",
       "text": [
        " \uac74\uac15\n",
        "Iron Reactor Widget"
       ]
      },
      {
       "output_type": "stream",
       "stream": "stdout",
       "text": [
        " \ud559\uc2b5\n",
        "Iron Reactor Widget"
       ]
      },
      {
       "output_type": "stream",
       "stream": "stdout",
       "text": [
        " \ucee4\ubba4\ub2c8\ud2f0\n",
        "MySafeApp \uc228\uae30\uae30 \uc0ac\uc9c4 \ubc0f \ub3d9\uc601\uc0c1"
       ]
      },
      {
       "output_type": "stream",
       "stream": "stdout",
       "text": [
        " \ubbf8\uc6a9\n",
        "MySafeApp \uc228\uae30\uae30 \uc0ac\uc9c4 \ubc0f \ub3d9\uc601\uc0c1"
       ]
      },
      {
       "output_type": "stream",
       "stream": "stdout",
       "text": [
        " \uc74c\uc545\n",
        "MySafeApp \uc228\uae30\uae30 \uc0ac\uc9c4 \ubc0f \ub3d9\uc601\uc0c1"
       ]
      },
      {
       "output_type": "stream",
       "stream": "stdout",
       "text": [
        " \ub9ac\ubdf0\n",
        "MySafeApp \uc228\uae30\uae30 \uc0ac\uc9c4 \ubc0f \ub3d9\uc601\uc0c1"
       ]
      },
      {
       "output_type": "stream",
       "stream": "stdout",
       "text": [
        " \uc5f0\uc608\n",
        "MySafeApp \uc228\uae30\uae30 \uc0ac\uc9c4 \ubc0f \ub3d9\uc601\uc0c1"
       ]
      },
      {
       "output_type": "stream",
       "stream": "stdout",
       "text": [
        " \uc74c\uc2dd\n",
        "MySafeApp \uc228\uae30\uae30 \uc0ac\uc9c4 \ubc0f \ub3d9\uc601\uc0c1"
       ]
      },
      {
       "output_type": "stream",
       "stream": "stdout",
       "text": [
        " \uc2a4\ud3ec\uce20\n",
        "MySafeApp \uc228\uae30\uae30 \uc0ac\uc9c4 \ubc0f \ub3d9\uc601\uc0c1"
       ]
      },
      {
       "output_type": "stream",
       "stream": "stdout",
       "text": [
        " \uac8c\uc784\n",
        "MySafeApp \uc228\uae30\uae30 \uc0ac\uc9c4 \ubc0f \ub3d9\uc601\uc0c1"
       ]
      },
      {
       "output_type": "stream",
       "stream": "stdout",
       "text": [
        " \uac74\uac15\n",
        "MySafeApp \uc228\uae30\uae30 \uc0ac\uc9c4 \ubc0f \ub3d9\uc601\uc0c1"
       ]
      },
      {
       "output_type": "stream",
       "stream": "stdout",
       "text": [
        " \ud559\uc2b5\n",
        "MySafeApp \uc228\uae30\uae30 \uc0ac\uc9c4 \ubc0f \ub3d9\uc601\uc0c1"
       ]
      },
      {
       "output_type": "stream",
       "stream": "stdout",
       "text": [
        " \ucee4\ubba4\ub2c8\ud2f0\n",
        "Stamp sticker TextCutie"
       ]
      },
      {
       "output_type": "stream",
       "stream": "stdout",
       "text": [
        " \ubbf8\uc6a9\n",
        "Stamp sticker TextCutie"
       ]
      },
      {
       "output_type": "stream",
       "stream": "stdout",
       "text": [
        " \uc74c\uc545\n",
        "Stamp sticker TextCutie"
       ]
      },
      {
       "output_type": "stream",
       "stream": "stdout",
       "text": [
        " \ub9ac\ubdf0\n",
        "Stamp sticker TextCutie"
       ]
      },
      {
       "output_type": "stream",
       "stream": "stdout",
       "text": [
        " \uc5f0\uc608\n",
        "Stamp sticker TextCutie"
       ]
      },
      {
       "output_type": "stream",
       "stream": "stdout",
       "text": [
        " \uc74c\uc2dd\n",
        "Stamp sticker TextCutie"
       ]
      },
      {
       "output_type": "stream",
       "stream": "stdout",
       "text": [
        " \uc2a4\ud3ec\uce20\n",
        "Stamp sticker TextCutie"
       ]
      },
      {
       "output_type": "stream",
       "stream": "stdout",
       "text": [
        " \uac8c\uc784\n",
        "Stamp sticker TextCutie \uac74\uac15\n",
        "Stamp sticker TextCutie"
       ]
      },
      {
       "output_type": "stream",
       "stream": "stdout",
       "text": [
        " \ud559\uc2b5\n",
        "Stamp sticker TextCutie"
       ]
      },
      {
       "output_type": "stream",
       "stream": "stdout",
       "text": [
        " \ucee4\ubba4\ub2c8\ud2f0\n",
        "I Smell Brains"
       ]
      },
      {
       "output_type": "stream",
       "stream": "stdout",
       "text": [
        " \ubbf8\uc6a9\n",
        "I Smell Brains"
       ]
      },
      {
       "output_type": "stream",
       "stream": "stdout",
       "text": [
        " \uc74c\uc545\n",
        "I Smell Brains"
       ]
      },
      {
       "output_type": "stream",
       "stream": "stdout",
       "text": [
        " \ub9ac\ubdf0\n",
        "I Smell Brains"
       ]
      },
      {
       "output_type": "stream",
       "stream": "stdout",
       "text": [
        " \uc5f0\uc608\n",
        "I Smell Brains"
       ]
      },
      {
       "output_type": "stream",
       "stream": "stdout",
       "text": [
        " \uc74c\uc2dd\n",
        "I Smell Brains"
       ]
      },
      {
       "output_type": "stream",
       "stream": "stdout",
       "text": [
        " \uc2a4\ud3ec\uce20\n",
        "I Smell Brains"
       ]
      },
      {
       "output_type": "stream",
       "stream": "stdout",
       "text": [
        " \uac8c\uc784\n",
        "I Smell Brains"
       ]
      },
      {
       "output_type": "stream",
       "stream": "stdout",
       "text": [
        " \uac74\uac15\n",
        "I Smell Brains"
       ]
      },
      {
       "output_type": "stream",
       "stream": "stdout",
       "text": [
        " \ud559\uc2b5\n",
        "I Smell Brains"
       ]
      },
      {
       "output_type": "stream",
       "stream": "stdout",
       "text": [
        " \ucee4\ubba4\ub2c8\ud2f0\n",
        "\ud06c\ub808\uc774\uc9c0 \uacbd\uc801"
       ]
      },
      {
       "output_type": "stream",
       "stream": "stdout",
       "text": [
        " \ubbf8\uc6a9\n",
        "\ud06c\ub808\uc774\uc9c0 \uacbd\uc801"
       ]
      },
      {
       "output_type": "stream",
       "stream": "stdout",
       "text": [
        " \uc74c\uc545\n",
        "\ud06c\ub808\uc774\uc9c0 \uacbd\uc801"
       ]
      },
      {
       "output_type": "stream",
       "stream": "stdout",
       "text": [
        " \ub9ac\ubdf0\n",
        "\ud06c\ub808\uc774\uc9c0 \uacbd\uc801"
       ]
      },
      {
       "output_type": "stream",
       "stream": "stdout",
       "text": [
        " \uc5f0\uc608\n",
        "\ud06c\ub808\uc774\uc9c0 \uacbd\uc801"
       ]
      },
      {
       "output_type": "stream",
       "stream": "stdout",
       "text": [
        " \uc74c\uc2dd\n",
        "\ud06c\ub808\uc774\uc9c0 \uacbd\uc801"
       ]
      },
      {
       "output_type": "stream",
       "stream": "stdout",
       "text": [
        " \uc2a4\ud3ec\uce20\n",
        "\ud06c\ub808\uc774\uc9c0 \uacbd\uc801"
       ]
      },
      {
       "output_type": "stream",
       "stream": "stdout",
       "text": [
        " \uac8c\uc784\n",
        "\ud06c\ub808\uc774\uc9c0 \uacbd\uc801"
       ]
      },
      {
       "output_type": "stream",
       "stream": "stdout",
       "text": [
        " \uac74\uac15\n",
        "\ud06c\ub808\uc774\uc9c0 \uacbd\uc801"
       ]
      },
      {
       "output_type": "stream",
       "stream": "stdout",
       "text": [
        " \ud559\uc2b5\n",
        "\ud06c\ub808\uc774\uc9c0 \uacbd\uc801"
       ]
      },
      {
       "output_type": "stream",
       "stream": "stdout",
       "text": [
        " \ucee4\ubba4\ub2c8\ud2f0\n",
        "\uc804\ub798\ub3d9\uc694 \ubc8c\uc544\ubc8c\uc544"
       ]
      },
      {
       "output_type": "stream",
       "stream": "stdout",
       "text": [
        " \ubbf8\uc6a9\n",
        "\uc804\ub798\ub3d9\uc694 \ubc8c\uc544\ubc8c\uc544"
       ]
      },
      {
       "output_type": "stream",
       "stream": "stdout",
       "text": [
        " \uc74c\uc545\n",
        "\uc804\ub798\ub3d9\uc694 \ubc8c\uc544\ubc8c\uc544"
       ]
      },
      {
       "output_type": "stream",
       "stream": "stdout",
       "text": [
        " \ub9ac\ubdf0\n",
        "\uc804\ub798\ub3d9\uc694 \ubc8c\uc544\ubc8c\uc544"
       ]
      },
      {
       "output_type": "stream",
       "stream": "stdout",
       "text": [
        " \uc5f0\uc608\n",
        "\uc804\ub798\ub3d9\uc694 \ubc8c\uc544\ubc8c\uc544"
       ]
      },
      {
       "output_type": "stream",
       "stream": "stdout",
       "text": [
        " \uc74c\uc2dd\n",
        "\uc804\ub798\ub3d9\uc694 \ubc8c\uc544\ubc8c\uc544"
       ]
      },
      {
       "output_type": "stream",
       "stream": "stdout",
       "text": [
        " \uc2a4\ud3ec\uce20\n",
        "\uc804\ub798\ub3d9\uc694 \ubc8c\uc544\ubc8c\uc544"
       ]
      },
      {
       "output_type": "stream",
       "stream": "stdout",
       "text": [
        " \uac8c\uc784\n",
        "\uc804\ub798\ub3d9\uc694 \ubc8c\uc544\ubc8c\uc544"
       ]
      },
      {
       "output_type": "stream",
       "stream": "stdout",
       "text": [
        " \uac74\uac15\n",
        "\uc804\ub798\ub3d9\uc694 \ubc8c\uc544\ubc8c\uc544 \ud559\uc2b5\n",
        "\uc804\ub798\ub3d9\uc694 \ubc8c\uc544\ubc8c\uc544"
       ]
      },
      {
       "output_type": "stream",
       "stream": "stdout",
       "text": [
        " \ucee4\ubba4\ub2c8\ud2f0\n",
        "\ub85c\ub610 \ub300\ubc15\ub098\uae30"
       ]
      },
      {
       "output_type": "stream",
       "stream": "stdout",
       "text": [
        " \ubbf8\uc6a9\n",
        "\ub85c\ub610 \ub300\ubc15\ub098\uae30"
       ]
      },
      {
       "output_type": "stream",
       "stream": "stdout",
       "text": [
        " \uc74c\uc545\n",
        "\ub85c\ub610 \ub300\ubc15\ub098\uae30 \ub9ac\ubdf0\n",
        "\ub85c\ub610 \ub300\ubc15\ub098\uae30"
       ]
      },
      {
       "output_type": "stream",
       "stream": "stdout",
       "text": [
        " \uc5f0\uc608\n",
        "\ub85c\ub610 \ub300\ubc15\ub098\uae30"
       ]
      },
      {
       "output_type": "stream",
       "stream": "stdout",
       "text": [
        " \uc74c\uc2dd\n",
        "\ub85c\ub610 \ub300\ubc15\ub098\uae30"
       ]
      },
      {
       "output_type": "stream",
       "stream": "stdout",
       "text": [
        " \uc2a4\ud3ec\uce20\n",
        "\ub85c\ub610 \ub300\ubc15\ub098\uae30"
       ]
      },
      {
       "output_type": "stream",
       "stream": "stdout",
       "text": [
        " \uac8c\uc784\n",
        "\ub85c\ub610 \ub300\ubc15\ub098\uae30"
       ]
      },
      {
       "output_type": "stream",
       "stream": "stdout",
       "text": [
        " \uac74\uac15\n",
        "\ub85c\ub610 \ub300\ubc15\ub098\uae30"
       ]
      },
      {
       "output_type": "stream",
       "stream": "stdout",
       "text": [
        " \ud559\uc2b5\n",
        "\ub85c\ub610 \ub300\ubc15\ub098\uae30"
       ]
      },
      {
       "output_type": "stream",
       "stream": "stdout",
       "text": [
        " \ucee4\ubba4\ub2c8\ud2f0\n",
        "KIDS SONG MACHINE 2 FREE"
       ]
      },
      {
       "output_type": "stream",
       "stream": "stdout",
       "text": [
        " \ubbf8\uc6a9\n",
        "KIDS SONG MACHINE 2 FREE"
       ]
      },
      {
       "output_type": "stream",
       "stream": "stdout",
       "text": [
        " \uc74c\uc545\n",
        "KIDS SONG MACHINE 2 FREE"
       ]
      },
      {
       "output_type": "stream",
       "stream": "stdout",
       "text": [
        " \ub9ac\ubdf0\n",
        "KIDS SONG MACHINE 2 FREE"
       ]
      },
      {
       "output_type": "stream",
       "stream": "stdout",
       "text": [
        " \uc5f0\uc608\n",
        "KIDS SONG MACHINE 2 FREE"
       ]
      },
      {
       "output_type": "stream",
       "stream": "stdout",
       "text": [
        " \uc74c\uc2dd\n",
        "KIDS SONG MACHINE 2 FREE"
       ]
      },
      {
       "output_type": "stream",
       "stream": "stdout",
       "text": [
        " \uc2a4\ud3ec\uce20\n",
        "KIDS SONG MACHINE 2 FREE"
       ]
      },
      {
       "output_type": "stream",
       "stream": "stdout",
       "text": [
        " \uac8c\uc784\n",
        "KIDS SONG MACHINE 2 FREE"
       ]
      },
      {
       "output_type": "stream",
       "stream": "stdout",
       "text": [
        " \uac74\uac15\n",
        "KIDS SONG MACHINE 2 FREE"
       ]
      },
      {
       "output_type": "stream",
       "stream": "stdout",
       "text": [
        " \ud559\uc2b5\n",
        "KIDS SONG MACHINE 2 FREE"
       ]
      },
      {
       "output_type": "stream",
       "stream": "stdout",
       "text": [
        " \ucee4\ubba4\ub2c8\ud2f0\n",
        "\ub4dc\ub9bc \ud648"
       ]
      },
      {
       "output_type": "stream",
       "stream": "stdout",
       "text": [
        " \ubbf8\uc6a9\n",
        "\ub4dc\ub9bc \ud648"
       ]
      },
      {
       "output_type": "stream",
       "stream": "stdout",
       "text": [
        " \uc74c\uc545\n",
        "\ub4dc\ub9bc \ud648"
       ]
      },
      {
       "output_type": "stream",
       "stream": "stdout",
       "text": [
        " \ub9ac\ubdf0\n",
        "\ub4dc\ub9bc \ud648"
       ]
      },
      {
       "output_type": "stream",
       "stream": "stdout",
       "text": [
        " \uc5f0\uc608\n",
        "\ub4dc\ub9bc \ud648"
       ]
      },
      {
       "output_type": "stream",
       "stream": "stdout",
       "text": [
        " \uc74c\uc2dd\n",
        "\ub4dc\ub9bc \ud648"
       ]
      },
      {
       "output_type": "stream",
       "stream": "stdout",
       "text": [
        " \uc2a4\ud3ec\uce20\n",
        "\ub4dc\ub9bc \ud648"
       ]
      },
      {
       "output_type": "stream",
       "stream": "stdout",
       "text": [
        " \uac8c\uc784\n",
        "\ub4dc\ub9bc \ud648"
       ]
      },
      {
       "output_type": "stream",
       "stream": "stdout",
       "text": [
        " \uac74\uac15\n",
        "\ub4dc\ub9bc \ud648"
       ]
      },
      {
       "output_type": "stream",
       "stream": "stdout",
       "text": [
        " \ud559\uc2b5\n",
        "\ub4dc\ub9bc \ud648"
       ]
      },
      {
       "output_type": "stream",
       "stream": "stdout",
       "text": [
        " \ucee4\ubba4\ub2c8\ud2f0\n",
        "\uc5d0\uc774\uc9c0 \uc624\ube0c \uac13: \uc544\uae30\uc790\uae30\ud55c \uce74\ub4dc\ubc30\ud2c0"
       ]
      },
      {
       "output_type": "stream",
       "stream": "stdout",
       "text": [
        " \ubbf8\uc6a9\n",
        "\uc5d0\uc774\uc9c0 \uc624\ube0c \uac13: \uc544\uae30\uc790\uae30\ud55c \uce74\ub4dc\ubc30\ud2c0"
       ]
      },
      {
       "output_type": "stream",
       "stream": "stdout",
       "text": [
        " \uc74c\uc545\n",
        "\uc5d0\uc774\uc9c0 \uc624\ube0c \uac13: \uc544\uae30\uc790\uae30\ud55c \uce74\ub4dc\ubc30\ud2c0"
       ]
      },
      {
       "output_type": "stream",
       "stream": "stdout",
       "text": [
        " \ub9ac\ubdf0\n",
        "\uc5d0\uc774\uc9c0 \uc624\ube0c \uac13: \uc544\uae30\uc790\uae30\ud55c \uce74\ub4dc\ubc30\ud2c0"
       ]
      },
      {
       "output_type": "stream",
       "stream": "stdout",
       "text": [
        " \uc5f0\uc608\n",
        "\uc5d0\uc774\uc9c0 \uc624\ube0c \uac13: \uc544\uae30\uc790\uae30\ud55c \uce74\ub4dc\ubc30\ud2c0"
       ]
      },
      {
       "output_type": "stream",
       "stream": "stdout",
       "text": [
        " \uc74c\uc2dd\n",
        "\uc5d0\uc774\uc9c0 \uc624\ube0c \uac13: \uc544\uae30\uc790\uae30\ud55c \uce74\ub4dc\ubc30\ud2c0"
       ]
      },
      {
       "output_type": "stream",
       "stream": "stdout",
       "text": [
        " \uc2a4\ud3ec\uce20\n",
        "\uc5d0\uc774\uc9c0 \uc624\ube0c \uac13: \uc544\uae30\uc790\uae30\ud55c \uce74\ub4dc\ubc30\ud2c0"
       ]
      },
      {
       "output_type": "stream",
       "stream": "stdout",
       "text": [
        " \uac8c\uc784\n",
        "\uc5d0\uc774\uc9c0 \uc624\ube0c \uac13: \uc544\uae30\uc790\uae30\ud55c \uce74\ub4dc\ubc30\ud2c0"
       ]
      },
      {
       "output_type": "stream",
       "stream": "stdout",
       "text": [
        " \uac74\uac15\n",
        "\uc5d0\uc774\uc9c0 \uc624\ube0c \uac13: \uc544\uae30\uc790\uae30\ud55c \uce74\ub4dc\ubc30\ud2c0"
       ]
      },
      {
       "output_type": "stream",
       "stream": "stdout",
       "text": [
        " \ud559\uc2b5\n",
        "\uc5d0\uc774\uc9c0 \uc624\ube0c \uac13: \uc544\uae30\uc790\uae30\ud55c \uce74\ub4dc\ubc30\ud2c0"
       ]
      },
      {
       "output_type": "stream",
       "stream": "stdout",
       "text": [
        " \ucee4\ubba4\ub2c8\ud2f0\n",
        "Shadow Galaxy"
       ]
      },
      {
       "output_type": "stream",
       "stream": "stdout",
       "text": [
        " \ubbf8\uc6a9\n",
        "Shadow Galaxy"
       ]
      },
      {
       "output_type": "stream",
       "stream": "stdout",
       "text": [
        " \uc74c\uc545\n",
        "Shadow Galaxy"
       ]
      },
      {
       "output_type": "stream",
       "stream": "stdout",
       "text": [
        " \ub9ac\ubdf0\n",
        "Shadow Galaxy"
       ]
      },
      {
       "output_type": "stream",
       "stream": "stdout",
       "text": [
        " \uc5f0\uc608\n",
        "Shadow Galaxy"
       ]
      },
      {
       "output_type": "stream",
       "stream": "stdout",
       "text": [
        " \uc74c\uc2dd\n",
        "Shadow Galaxy"
       ]
      },
      {
       "output_type": "stream",
       "stream": "stdout",
       "text": [
        " \uc2a4\ud3ec\uce20\n",
        "Shadow Galaxy"
       ]
      },
      {
       "output_type": "stream",
       "stream": "stdout",
       "text": [
        " \uac8c\uc784\n",
        "Shadow Galaxy"
       ]
      },
      {
       "output_type": "stream",
       "stream": "stdout",
       "text": [
        " \uac74\uac15\n",
        "Shadow Galaxy"
       ]
      },
      {
       "output_type": "stream",
       "stream": "stdout",
       "text": [
        " \ud559\uc2b5\n",
        "Shadow Galaxy"
       ]
      },
      {
       "output_type": "stream",
       "stream": "stdout",
       "text": [
        " \ucee4\ubba4\ub2c8\ud2f0\n",
        "\uc0ac\uc9c4 \uc7ac\ubbf8 - \uc7ac\ubbf8 \uac24\ub7ec\ub9ac \uc791\uc131\uae30"
       ]
      },
      {
       "output_type": "stream",
       "stream": "stdout",
       "text": [
        " \ubbf8\uc6a9\n",
        "\uc0ac\uc9c4 \uc7ac\ubbf8 - \uc7ac\ubbf8 \uac24\ub7ec\ub9ac \uc791\uc131\uae30 \uc74c\uc545\n",
        "\uc0ac\uc9c4 \uc7ac\ubbf8 - \uc7ac\ubbf8 \uac24\ub7ec\ub9ac \uc791\uc131\uae30"
       ]
      },
      {
       "output_type": "stream",
       "stream": "stdout",
       "text": [
        " \ub9ac\ubdf0\n",
        "\uc0ac\uc9c4 \uc7ac\ubbf8 - \uc7ac\ubbf8 \uac24\ub7ec\ub9ac \uc791\uc131\uae30"
       ]
      },
      {
       "output_type": "stream",
       "stream": "stdout",
       "text": [
        " \uc5f0\uc608\n",
        "\uc0ac\uc9c4 \uc7ac\ubbf8 - \uc7ac\ubbf8 \uac24\ub7ec\ub9ac \uc791\uc131\uae30"
       ]
      },
      {
       "output_type": "stream",
       "stream": "stdout",
       "text": [
        " \uc74c\uc2dd\n",
        "\uc0ac\uc9c4 \uc7ac\ubbf8 - \uc7ac\ubbf8 \uac24\ub7ec\ub9ac \uc791\uc131\uae30"
       ]
      },
      {
       "output_type": "stream",
       "stream": "stdout",
       "text": [
        " \uc2a4\ud3ec\uce20\n",
        "\uc0ac\uc9c4 \uc7ac\ubbf8 - \uc7ac\ubbf8 \uac24\ub7ec\ub9ac \uc791\uc131\uae30"
       ]
      },
      {
       "output_type": "stream",
       "stream": "stdout",
       "text": [
        " \uac8c\uc784\n",
        "\uc0ac\uc9c4 \uc7ac\ubbf8 - \uc7ac\ubbf8 \uac24\ub7ec\ub9ac \uc791\uc131\uae30"
       ]
      },
      {
       "output_type": "stream",
       "stream": "stdout",
       "text": [
        " \uac74\uac15\n",
        "\uc0ac\uc9c4 \uc7ac\ubbf8 - \uc7ac\ubbf8 \uac24\ub7ec\ub9ac \uc791\uc131\uae30"
       ]
      },
      {
       "output_type": "stream",
       "stream": "stdout",
       "text": [
        " \ud559\uc2b5\n",
        "\uc0ac\uc9c4 \uc7ac\ubbf8 - \uc7ac\ubbf8 \uac24\ub7ec\ub9ac \uc791\uc131\uae30"
       ]
      },
      {
       "output_type": "stream",
       "stream": "stdout",
       "text": [
        " \ucee4\ubba4\ub2c8\ud2f0\n",
        "MMDA for Android\u2122"
       ]
      },
      {
       "output_type": "stream",
       "stream": "stdout",
       "text": [
        " \ubbf8\uc6a9\n",
        "MMDA for Android\u2122"
       ]
      },
      {
       "output_type": "stream",
       "stream": "stdout",
       "text": [
        " \uc74c\uc545\n",
        "MMDA for Android\u2122"
       ]
      },
      {
       "output_type": "stream",
       "stream": "stdout",
       "text": [
        " \ub9ac\ubdf0\n",
        "MMDA for Android\u2122"
       ]
      },
      {
       "output_type": "stream",
       "stream": "stdout",
       "text": [
        " \uc5f0\uc608\n",
        "MMDA for Android\u2122"
       ]
      },
      {
       "output_type": "stream",
       "stream": "stdout",
       "text": [
        " \uc74c\uc2dd\n",
        "MMDA for Android\u2122"
       ]
      },
      {
       "output_type": "stream",
       "stream": "stdout",
       "text": [
        " \uc2a4\ud3ec\uce20\n",
        "MMDA for Android\u2122"
       ]
      },
      {
       "output_type": "stream",
       "stream": "stdout",
       "text": [
        " \uac8c\uc784\n",
        "MMDA for Android\u2122"
       ]
      },
      {
       "output_type": "stream",
       "stream": "stdout",
       "text": [
        " \uac74\uac15\n",
        "MMDA for Android\u2122"
       ]
      },
      {
       "output_type": "stream",
       "stream": "stdout",
       "text": [
        " \ud559\uc2b5\n",
        "MMDA for Android\u2122"
       ]
      },
      {
       "output_type": "stream",
       "stream": "stdout",
       "text": [
        " \ucee4\ubba4\ub2c8\ud2f0\n",
        "\ud380\uce90\uc2a4\ud2b8 - \ucd5c\uace0\uc758 \ud31f\uce90\uc2a4\ud2b8"
       ]
      },
      {
       "output_type": "stream",
       "stream": "stdout",
       "text": [
        " \ubbf8\uc6a9\n",
        "\ud380\uce90\uc2a4\ud2b8 - \ucd5c\uace0\uc758 \ud31f\uce90\uc2a4\ud2b8"
       ]
      },
      {
       "output_type": "stream",
       "stream": "stdout",
       "text": [
        " \uc74c\uc545\n",
        "\ud380\uce90\uc2a4\ud2b8 - \ucd5c\uace0\uc758 \ud31f\uce90\uc2a4\ud2b8"
       ]
      },
      {
       "output_type": "stream",
       "stream": "stdout",
       "text": [
        " \ub9ac\ubdf0\n",
        "\ud380\uce90\uc2a4\ud2b8 - \ucd5c\uace0\uc758 \ud31f\uce90\uc2a4\ud2b8"
       ]
      },
      {
       "output_type": "stream",
       "stream": "stdout",
       "text": [
        " \uc5f0\uc608\n",
        "\ud380\uce90\uc2a4\ud2b8 - \ucd5c\uace0\uc758 \ud31f\uce90\uc2a4\ud2b8"
       ]
      },
      {
       "output_type": "stream",
       "stream": "stdout",
       "text": [
        " \uc74c\uc2dd\n",
        "\ud380\uce90\uc2a4\ud2b8 - \ucd5c\uace0\uc758 \ud31f\uce90\uc2a4\ud2b8"
       ]
      },
      {
       "output_type": "stream",
       "stream": "stdout",
       "text": [
        " \uc2a4\ud3ec\uce20\n",
        "\ud380\uce90\uc2a4\ud2b8 - \ucd5c\uace0\uc758 \ud31f\uce90\uc2a4\ud2b8"
       ]
      },
      {
       "output_type": "stream",
       "stream": "stdout",
       "text": [
        " \uac8c\uc784\n",
        "\ud380\uce90\uc2a4\ud2b8 - \ucd5c\uace0\uc758 \ud31f\uce90\uc2a4\ud2b8"
       ]
      },
      {
       "output_type": "stream",
       "stream": "stdout",
       "text": [
        " \uac74\uac15\n",
        "\ud380\uce90\uc2a4\ud2b8 - \ucd5c\uace0\uc758 \ud31f\uce90\uc2a4\ud2b8"
       ]
      },
      {
       "output_type": "stream",
       "stream": "stdout",
       "text": [
        " \ud559\uc2b5\n",
        "\ud380\uce90\uc2a4\ud2b8 - \ucd5c\uace0\uc758 \ud31f\uce90\uc2a4\ud2b8"
       ]
      },
      {
       "output_type": "stream",
       "stream": "stdout",
       "text": [
        " \ucee4\ubba4\ub2c8\ud2f0\n",
        "\ub450\ub1cc\uac74\uac15 \ud328\ud134\uc554\uae302"
       ]
      },
      {
       "output_type": "stream",
       "stream": "stdout",
       "text": [
        " \ubbf8\uc6a9\n",
        "\ub450\ub1cc\uac74\uac15 \ud328\ud134\uc554\uae302"
       ]
      },
      {
       "output_type": "stream",
       "stream": "stdout",
       "text": [
        " \uc74c\uc545\n",
        "\ub450\ub1cc\uac74\uac15 \ud328\ud134\uc554\uae302"
       ]
      },
      {
       "output_type": "stream",
       "stream": "stdout",
       "text": [
        " \ub9ac\ubdf0\n",
        "\ub450\ub1cc\uac74\uac15 \ud328\ud134\uc554\uae302"
       ]
      },
      {
       "output_type": "stream",
       "stream": "stdout",
       "text": [
        " \uc5f0\uc608\n",
        "\ub450\ub1cc\uac74\uac15 \ud328\ud134\uc554\uae302"
       ]
      },
      {
       "output_type": "stream",
       "stream": "stdout",
       "text": [
        " \uc74c\uc2dd\n",
        "\ub450\ub1cc\uac74\uac15 \ud328\ud134\uc554\uae302"
       ]
      },
      {
       "output_type": "stream",
       "stream": "stdout",
       "text": [
        " \uc2a4\ud3ec\uce20\n",
        "\ub450\ub1cc\uac74\uac15 \ud328\ud134\uc554\uae302"
       ]
      },
      {
       "output_type": "stream",
       "stream": "stdout",
       "text": [
        " \uac8c\uc784\n",
        "\ub450\ub1cc\uac74\uac15 \ud328\ud134\uc554\uae302"
       ]
      },
      {
       "output_type": "stream",
       "stream": "stdout",
       "text": [
        " \uac74\uac15\n",
        "\ub450\ub1cc\uac74\uac15 \ud328\ud134\uc554\uae302"
       ]
      },
      {
       "output_type": "stream",
       "stream": "stdout",
       "text": [
        " \ud559\uc2b5\n",
        "\ub450\ub1cc\uac74\uac15 \ud328\ud134\uc554\uae302"
       ]
      },
      {
       "output_type": "stream",
       "stream": "stdout",
       "text": [
        " \ucee4\ubba4\ub2c8\ud2f0\n",
        "Thai Livescore \ubbf8\uc6a9\n",
        "Thai Livescore"
       ]
      },
      {
       "output_type": "stream",
       "stream": "stdout",
       "text": [
        " \uc74c\uc545\n",
        "Thai Livescore"
       ]
      },
      {
       "output_type": "stream",
       "stream": "stdout",
       "text": [
        " \ub9ac\ubdf0\n",
        "Thai Livescore"
       ]
      },
      {
       "output_type": "stream",
       "stream": "stdout",
       "text": [
        " \uc5f0\uc608\n",
        "Thai Livescore"
       ]
      },
      {
       "output_type": "stream",
       "stream": "stdout",
       "text": [
        " \uc74c\uc2dd\n",
        "Thai Livescore"
       ]
      },
      {
       "output_type": "stream",
       "stream": "stdout",
       "text": [
        " \uc2a4\ud3ec\uce20\n",
        "Thai Livescore"
       ]
      },
      {
       "output_type": "stream",
       "stream": "stdout",
       "text": [
        " \uac8c\uc784\n",
        "Thai Livescore"
       ]
      },
      {
       "output_type": "stream",
       "stream": "stdout",
       "text": [
        " \uac74\uac15\n",
        "Thai Livescore"
       ]
      },
      {
       "output_type": "stream",
       "stream": "stdout",
       "text": [
        " \ud559\uc2b5\n",
        "Thai Livescore"
       ]
      },
      {
       "output_type": "stream",
       "stream": "stdout",
       "text": [
        " \ucee4\ubba4\ub2c8\ud2f0\n",
        "\u6dfa\u7da0\u5c0f\u8aaa\u96c6\uff08\u7e41\u9ad4\u7248\uff09"
       ]
      },
      {
       "output_type": "stream",
       "stream": "stdout",
       "text": [
        " \ubbf8\uc6a9\n",
        "\u6dfa\u7da0\u5c0f\u8aaa\u96c6\uff08\u7e41\u9ad4\u7248\uff09"
       ]
      },
      {
       "output_type": "stream",
       "stream": "stdout",
       "text": [
        " \uc74c\uc545\n",
        "\u6dfa\u7da0\u5c0f\u8aaa\u96c6\uff08\u7e41\u9ad4\u7248\uff09"
       ]
      },
      {
       "output_type": "stream",
       "stream": "stdout",
       "text": [
        " \ub9ac\ubdf0\n",
        "\u6dfa\u7da0\u5c0f\u8aaa\u96c6\uff08\u7e41\u9ad4\u7248\uff09"
       ]
      },
      {
       "output_type": "stream",
       "stream": "stdout",
       "text": [
        " \uc5f0\uc608\n",
        "\u6dfa\u7da0\u5c0f\u8aaa\u96c6\uff08\u7e41\u9ad4\u7248\uff09"
       ]
      },
      {
       "output_type": "stream",
       "stream": "stdout",
       "text": [
        " \uc74c\uc2dd\n",
        "\u6dfa\u7da0\u5c0f\u8aaa\u96c6\uff08\u7e41\u9ad4\u7248\uff09"
       ]
      },
      {
       "output_type": "stream",
       "stream": "stdout",
       "text": [
        " \uc2a4\ud3ec\uce20\n",
        "\u6dfa\u7da0\u5c0f\u8aaa\u96c6\uff08\u7e41\u9ad4\u7248\uff09"
       ]
      },
      {
       "output_type": "stream",
       "stream": "stdout",
       "text": [
        " \uac8c\uc784\n",
        "\u6dfa\u7da0\u5c0f\u8aaa\u96c6\uff08\u7e41\u9ad4\u7248\uff09"
       ]
      },
      {
       "output_type": "stream",
       "stream": "stdout",
       "text": [
        " \uac74\uac15\n",
        "\u6dfa\u7da0\u5c0f\u8aaa\u96c6\uff08\u7e41\u9ad4\u7248\uff09"
       ]
      },
      {
       "output_type": "stream",
       "stream": "stdout",
       "text": [
        " \ud559\uc2b5\n",
        "\u6dfa\u7da0\u5c0f\u8aaa\u96c6\uff08\u7e41\u9ad4\u7248\uff09"
       ]
      },
      {
       "output_type": "stream",
       "stream": "stdout",
       "text": [
        " \ucee4\ubba4\ub2c8\ud2f0\n",
        "Elements Battle"
       ]
      },
      {
       "output_type": "stream",
       "stream": "stdout",
       "text": [
        " \ubbf8\uc6a9\n",
        "Elements Battle"
       ]
      },
      {
       "output_type": "stream",
       "stream": "stdout",
       "text": [
        " \uc74c\uc545\n",
        "Elements Battle"
       ]
      },
      {
       "output_type": "stream",
       "stream": "stdout",
       "text": [
        " \ub9ac\ubdf0\n",
        "Elements Battle"
       ]
      },
      {
       "output_type": "stream",
       "stream": "stdout",
       "text": [
        " \uc5f0\uc608\n",
        "Elements Battle \uc74c\uc2dd\n",
        "Elements Battle"
       ]
      },
      {
       "output_type": "stream",
       "stream": "stdout",
       "text": [
        " \uc2a4\ud3ec\uce20\n",
        "Elements Battle \uac8c\uc784\n",
        "Elements Battle"
       ]
      },
      {
       "output_type": "stream",
       "stream": "stdout",
       "text": [
        " \uac74\uac15\n",
        "Elements Battle"
       ]
      },
      {
       "output_type": "stream",
       "stream": "stdout",
       "text": [
        " \ud559\uc2b5\n",
        "Elements Battle \ucee4\ubba4\ub2c8\ud2f0\n",
        "Tales from the Dragon Mountain"
       ]
      },
      {
       "output_type": "stream",
       "stream": "stdout",
       "text": [
        " \ubbf8\uc6a9\n",
        "Tales from the Dragon Mountain"
       ]
      },
      {
       "output_type": "stream",
       "stream": "stdout",
       "text": [
        " \uc74c\uc545\n",
        "Tales from the Dragon Mountain"
       ]
      },
      {
       "output_type": "stream",
       "stream": "stdout",
       "text": [
        " \ub9ac\ubdf0\n",
        "Tales from the Dragon Mountain \uc5f0\uc608\n",
        "Tales from the Dragon Mountain"
       ]
      },
      {
       "output_type": "stream",
       "stream": "stdout",
       "text": [
        " \uc74c\uc2dd\n",
        "Tales from the Dragon Mountain"
       ]
      },
      {
       "output_type": "stream",
       "stream": "stdout",
       "text": [
        " \uc2a4\ud3ec\uce20\n",
        "Tales from the Dragon Mountain"
       ]
      },
      {
       "output_type": "stream",
       "stream": "stdout",
       "text": [
        " \uac8c\uc784\n",
        "Tales from the Dragon Mountain"
       ]
      },
      {
       "output_type": "stream",
       "stream": "stdout",
       "text": [
        " \uac74\uac15\n",
        "Tales from the Dragon Mountain"
       ]
      },
      {
       "output_type": "stream",
       "stream": "stdout",
       "text": [
        " \ud559\uc2b5\n",
        "Tales from the Dragon Mountain \ucee4\ubba4\ub2c8\ud2f0\n",
        "MojiTime Clock Widget"
       ]
      },
      {
       "output_type": "stream",
       "stream": "stdout",
       "text": [
        " \ubbf8\uc6a9\n",
        "MojiTime Clock Widget"
       ]
      },
      {
       "output_type": "stream",
       "stream": "stdout",
       "text": [
        " \uc74c\uc545\n",
        "MojiTime Clock Widget"
       ]
      },
      {
       "output_type": "stream",
       "stream": "stdout",
       "text": [
        " \ub9ac\ubdf0\n",
        "MojiTime Clock Widget"
       ]
      },
      {
       "output_type": "stream",
       "stream": "stdout",
       "text": [
        " \uc5f0\uc608\n",
        "MojiTime Clock Widget"
       ]
      },
      {
       "output_type": "stream",
       "stream": "stdout",
       "text": [
        " \uc74c\uc2dd\n",
        "MojiTime Clock Widget"
       ]
      },
      {
       "output_type": "stream",
       "stream": "stdout",
       "text": [
        " \uc2a4\ud3ec\uce20\n",
        "MojiTime Clock Widget \uac8c\uc784\n",
        "MojiTime Clock Widget"
       ]
      },
      {
       "output_type": "stream",
       "stream": "stdout",
       "text": [
        " \uac74\uac15\n",
        "MojiTime Clock Widget"
       ]
      },
      {
       "output_type": "stream",
       "stream": "stdout",
       "text": [
        " \ud559\uc2b5\n",
        "MojiTime Clock Widget"
       ]
      },
      {
       "output_type": "stream",
       "stream": "stdout",
       "text": [
        " \ucee4\ubba4\ub2c8\ud2f0\n",
        "AmbientTime Live Wallpaper"
       ]
      },
      {
       "output_type": "stream",
       "stream": "stdout",
       "text": [
        " \ubbf8\uc6a9\n",
        "AmbientTime Live Wallpaper"
       ]
      },
      {
       "output_type": "stream",
       "stream": "stdout",
       "text": [
        " \uc74c\uc545\n",
        "AmbientTime Live Wallpaper"
       ]
      },
      {
       "output_type": "stream",
       "stream": "stdout",
       "text": [
        " \ub9ac\ubdf0\n",
        "AmbientTime Live Wallpaper"
       ]
      },
      {
       "output_type": "stream",
       "stream": "stdout",
       "text": [
        " \uc5f0\uc608\n",
        "AmbientTime Live Wallpaper"
       ]
      },
      {
       "output_type": "stream",
       "stream": "stdout",
       "text": [
        " \uc74c\uc2dd\n",
        "AmbientTime Live Wallpaper"
       ]
      },
      {
       "output_type": "stream",
       "stream": "stdout",
       "text": [
        " \uc2a4\ud3ec\uce20\n",
        "AmbientTime Live Wallpaper"
       ]
      },
      {
       "output_type": "stream",
       "stream": "stdout",
       "text": [
        " \uac8c\uc784\n",
        "AmbientTime Live Wallpaper"
       ]
      },
      {
       "output_type": "stream",
       "stream": "stdout",
       "text": [
        " \uac74\uac15\n",
        "AmbientTime Live Wallpaper"
       ]
      },
      {
       "output_type": "stream",
       "stream": "stdout",
       "text": [
        " \ud559\uc2b5\n",
        "AmbientTime Live Wallpaper \ucee4\ubba4\ub2c8\ud2f0\n",
        "Practice English Grammar - 1"
       ]
      },
      {
       "output_type": "stream",
       "stream": "stdout",
       "text": [
        " \ubbf8\uc6a9\n",
        "Practice English Grammar - 1"
       ]
      },
      {
       "output_type": "stream",
       "stream": "stdout",
       "text": [
        " \uc74c\uc545\n",
        "Practice English Grammar - 1"
       ]
      },
      {
       "output_type": "stream",
       "stream": "stdout",
       "text": [
        " \ub9ac\ubdf0\n",
        "Practice English Grammar - 1"
       ]
      },
      {
       "output_type": "stream",
       "stream": "stdout",
       "text": [
        " \uc5f0\uc608\n",
        "Practice English Grammar - 1"
       ]
      },
      {
       "output_type": "stream",
       "stream": "stdout",
       "text": [
        " \uc74c\uc2dd\n",
        "Practice English Grammar - 1"
       ]
      },
      {
       "output_type": "stream",
       "stream": "stdout",
       "text": [
        " \uc2a4\ud3ec\uce20\n",
        "Practice English Grammar - 1 \uac8c\uc784\n",
        "Practice English Grammar - 1"
       ]
      },
      {
       "output_type": "stream",
       "stream": "stdout",
       "text": [
        " \uac74\uac15\n",
        "Practice English Grammar - 1"
       ]
      },
      {
       "output_type": "stream",
       "stream": "stdout",
       "text": [
        " \ud559\uc2b5\n",
        "Practice English Grammar - 1"
       ]
      },
      {
       "output_type": "stream",
       "stream": "stdout",
       "text": [
        " \ucee4\ubba4\ub2c8\ud2f0\n",
        "Cupcake Stand \ubbf8\uc6a9\n",
        "Cupcake Stand"
       ]
      },
      {
       "output_type": "stream",
       "stream": "stdout",
       "text": [
        " \uc74c\uc545\n",
        "Cupcake Stand"
       ]
      },
      {
       "output_type": "stream",
       "stream": "stdout",
       "text": [
        " \ub9ac\ubdf0\n",
        "Cupcake Stand"
       ]
      },
      {
       "output_type": "stream",
       "stream": "stdout",
       "text": [
        " \uc5f0\uc608\n",
        "Cupcake Stand"
       ]
      },
      {
       "output_type": "stream",
       "stream": "stdout",
       "text": [
        " \uc74c\uc2dd\n",
        "Cupcake Stand"
       ]
      },
      {
       "output_type": "stream",
       "stream": "stdout",
       "text": [
        " \uc2a4\ud3ec\uce20\n",
        "Cupcake Stand"
       ]
      },
      {
       "output_type": "stream",
       "stream": "stdout",
       "text": [
        " \uac8c\uc784\n",
        "Cupcake Stand"
       ]
      },
      {
       "output_type": "stream",
       "stream": "stdout",
       "text": [
        " \uac74\uac15\n",
        "Cupcake Stand \ud559\uc2b5\n",
        "Cupcake Stand"
       ]
      },
      {
       "output_type": "stream",
       "stream": "stdout",
       "text": [
        " \ucee4\ubba4\ub2c8\ud2f0\n",
        "Pixel Dungeon"
       ]
      },
      {
       "output_type": "stream",
       "stream": "stdout",
       "text": [
        " \ubbf8\uc6a9\n",
        "Pixel Dungeon"
       ]
      },
      {
       "output_type": "stream",
       "stream": "stdout",
       "text": [
        " \uc74c\uc545\n",
        "Pixel Dungeon"
       ]
      },
      {
       "output_type": "stream",
       "stream": "stdout",
       "text": [
        " \ub9ac\ubdf0\n",
        "Pixel Dungeon"
       ]
      },
      {
       "output_type": "stream",
       "stream": "stdout",
       "text": [
        " \uc5f0\uc608\n",
        "Pixel Dungeon"
       ]
      },
      {
       "output_type": "stream",
       "stream": "stdout",
       "text": [
        " \uc74c\uc2dd\n",
        "Pixel Dungeon \uc2a4\ud3ec\uce20\n",
        "Pixel Dungeon"
       ]
      },
      {
       "output_type": "stream",
       "stream": "stdout",
       "text": [
        " \uac8c\uc784\n",
        "Pixel Dungeon"
       ]
      },
      {
       "output_type": "stream",
       "stream": "stdout",
       "text": [
        " \uac74\uac15\n",
        "Pixel Dungeon \ud559\uc2b5\n",
        "Pixel Dungeon"
       ]
      },
      {
       "output_type": "stream",
       "stream": "stdout",
       "text": [
        " \ucee4\ubba4\ub2c8\ud2f0\n",
        "Candy Island HD - \uce94\ub514 \uc12c HD"
       ]
      },
      {
       "output_type": "stream",
       "stream": "stdout",
       "text": [
        " \ubbf8\uc6a9\n",
        "Candy Island HD - \uce94\ub514 \uc12c HD"
       ]
      },
      {
       "output_type": "stream",
       "stream": "stdout",
       "text": [
        " \uc74c\uc545\n",
        "Candy Island HD - \uce94\ub514 \uc12c HD"
       ]
      },
      {
       "output_type": "stream",
       "stream": "stdout",
       "text": [
        " \ub9ac\ubdf0\n",
        "Candy Island HD - \uce94\ub514 \uc12c HD"
       ]
      },
      {
       "output_type": "stream",
       "stream": "stdout",
       "text": [
        " \uc5f0\uc608\n",
        "Candy Island HD - \uce94\ub514 \uc12c HD"
       ]
      },
      {
       "output_type": "stream",
       "stream": "stdout",
       "text": [
        " \uc74c\uc2dd\n",
        "Candy Island HD - \uce94\ub514 \uc12c HD"
       ]
      },
      {
       "output_type": "stream",
       "stream": "stdout",
       "text": [
        " \uc2a4\ud3ec\uce20\n",
        "Candy Island HD - \uce94\ub514 \uc12c HD"
       ]
      },
      {
       "output_type": "stream",
       "stream": "stdout",
       "text": [
        " \uac8c\uc784\n",
        "Candy Island HD - \uce94\ub514 \uc12c HD"
       ]
      },
      {
       "output_type": "stream",
       "stream": "stdout",
       "text": [
        " \uac74\uac15\n",
        "Candy Island HD - \uce94\ub514 \uc12c HD"
       ]
      },
      {
       "output_type": "stream",
       "stream": "stdout",
       "text": [
        " \ud559\uc2b5\n",
        "Candy Island HD - \uce94\ub514 \uc12c HD"
       ]
      },
      {
       "output_type": "stream",
       "stream": "stdout",
       "text": [
        " \ucee4\ubba4\ub2c8\ud2f0\n",
        "[\uc644\uc804\ubb34\ub8cc]\ub77c\uc2a4\ud2b8\uccb4\uc774\uc11c Plus+"
       ]
      },
      {
       "output_type": "stream",
       "stream": "stdout",
       "text": [
        " \ubbf8\uc6a9\n",
        "[\uc644\uc804\ubb34\ub8cc]\ub77c\uc2a4\ud2b8\uccb4\uc774\uc11c Plus+"
       ]
      },
      {
       "output_type": "stream",
       "stream": "stdout",
       "text": [
        " \uc74c\uc545\n",
        "[\uc644\uc804\ubb34\ub8cc]\ub77c\uc2a4\ud2b8\uccb4\uc774\uc11c Plus+"
       ]
      },
      {
       "output_type": "stream",
       "stream": "stdout",
       "text": [
        " \ub9ac\ubdf0\n",
        "[\uc644\uc804\ubb34\ub8cc]\ub77c\uc2a4\ud2b8\uccb4\uc774\uc11c Plus+"
       ]
      },
      {
       "output_type": "stream",
       "stream": "stdout",
       "text": [
        " \uc5f0\uc608\n",
        "[\uc644\uc804\ubb34\ub8cc]\ub77c\uc2a4\ud2b8\uccb4\uc774\uc11c Plus+"
       ]
      },
      {
       "output_type": "stream",
       "stream": "stdout",
       "text": [
        " \uc74c\uc2dd\n",
        "[\uc644\uc804\ubb34\ub8cc]\ub77c\uc2a4\ud2b8\uccb4\uc774\uc11c Plus+"
       ]
      },
      {
       "output_type": "stream",
       "stream": "stdout",
       "text": [
        " \uc2a4\ud3ec\uce20\n",
        "[\uc644\uc804\ubb34\ub8cc]\ub77c\uc2a4\ud2b8\uccb4\uc774\uc11c Plus+"
       ]
      },
      {
       "output_type": "stream",
       "stream": "stdout",
       "text": [
        " \uac8c\uc784\n",
        "[\uc644\uc804\ubb34\ub8cc]\ub77c\uc2a4\ud2b8\uccb4\uc774\uc11c Plus+"
       ]
      },
      {
       "output_type": "stream",
       "stream": "stdout",
       "text": [
        " \uac74\uac15\n",
        "[\uc644\uc804\ubb34\ub8cc]\ub77c\uc2a4\ud2b8\uccb4\uc774\uc11c Plus+"
       ]
      },
      {
       "output_type": "stream",
       "stream": "stdout",
       "text": [
        " \ud559\uc2b5\n",
        "[\uc644\uc804\ubb34\ub8cc]\ub77c\uc2a4\ud2b8\uccb4\uc774\uc11c Plus+ \ucee4\ubba4\ub2c8\ud2f0\n",
        "\ucf54\uc778 \uac8c\uc784 ~ \ud398\ub2c8 \ud478\uc154"
       ]
      },
      {
       "output_type": "stream",
       "stream": "stdout",
       "text": [
        " \ubbf8\uc6a9\n",
        "\ucf54\uc778 \uac8c\uc784 ~ \ud398\ub2c8 \ud478\uc154"
       ]
      },
      {
       "output_type": "stream",
       "stream": "stdout",
       "text": [
        " \uc74c\uc545\n",
        "\ucf54\uc778 \uac8c\uc784 ~ \ud398\ub2c8 \ud478\uc154"
       ]
      },
      {
       "output_type": "stream",
       "stream": "stdout",
       "text": [
        " \ub9ac\ubdf0\n",
        "\ucf54\uc778 \uac8c\uc784 ~ \ud398\ub2c8 \ud478\uc154"
       ]
      },
      {
       "output_type": "stream",
       "stream": "stdout",
       "text": [
        " \uc5f0\uc608\n",
        "\ucf54\uc778 \uac8c\uc784 ~ \ud398\ub2c8 \ud478\uc154"
       ]
      },
      {
       "output_type": "stream",
       "stream": "stdout",
       "text": [
        " \uc74c\uc2dd\n",
        "\ucf54\uc778 \uac8c\uc784 ~ \ud398\ub2c8 \ud478\uc154"
       ]
      },
      {
       "output_type": "stream",
       "stream": "stdout",
       "text": [
        " \uc2a4\ud3ec\uce20\n",
        "\ucf54\uc778 \uac8c\uc784 ~ \ud398\ub2c8 \ud478\uc154"
       ]
      },
      {
       "output_type": "stream",
       "stream": "stdout",
       "text": [
        " \uac8c\uc784\n",
        "\ucf54\uc778 \uac8c\uc784 ~ \ud398\ub2c8 \ud478\uc154"
       ]
      },
      {
       "output_type": "stream",
       "stream": "stdout",
       "text": [
        " \uac74\uac15\n",
        "\ucf54\uc778 \uac8c\uc784 ~ \ud398\ub2c8 \ud478\uc154"
       ]
      },
      {
       "output_type": "stream",
       "stream": "stdout",
       "text": [
        " \ud559\uc2b5\n",
        "\ucf54\uc778 \uac8c\uc784 ~ \ud398\ub2c8 \ud478\uc154"
       ]
      },
      {
       "output_type": "stream",
       "stream": "stdout",
       "text": [
        " \ucee4\ubba4\ub2c8\ud2f0\n",
        "\ucd94\uc5b5\uc758 \ub2ec\uace0\ub098 \ubf51\uae30"
       ]
      },
      {
       "output_type": "stream",
       "stream": "stdout",
       "text": [
        " \ubbf8\uc6a9\n",
        "\ucd94\uc5b5\uc758 \ub2ec\uace0\ub098 \ubf51\uae30"
       ]
      },
      {
       "output_type": "stream",
       "stream": "stdout",
       "text": [
        " \uc74c\uc545\n",
        "\ucd94\uc5b5\uc758 \ub2ec\uace0\ub098 \ubf51\uae30"
       ]
      },
      {
       "output_type": "stream",
       "stream": "stdout",
       "text": [
        " \ub9ac\ubdf0\n",
        "\ucd94\uc5b5\uc758 \ub2ec\uace0\ub098 \ubf51\uae30"
       ]
      },
      {
       "output_type": "stream",
       "stream": "stdout",
       "text": [
        " \uc5f0\uc608\n",
        "\ucd94\uc5b5\uc758 \ub2ec\uace0\ub098 \ubf51\uae30"
       ]
      },
      {
       "output_type": "stream",
       "stream": "stdout",
       "text": [
        " \uc74c\uc2dd\n",
        "\ucd94\uc5b5\uc758 \ub2ec\uace0\ub098 \ubf51\uae30"
       ]
      },
      {
       "output_type": "stream",
       "stream": "stdout",
       "text": [
        " \uc2a4\ud3ec\uce20\n",
        "\ucd94\uc5b5\uc758 \ub2ec\uace0\ub098 \ubf51\uae30"
       ]
      },
      {
       "output_type": "stream",
       "stream": "stdout",
       "text": [
        " \uac8c\uc784\n",
        "\ucd94\uc5b5\uc758 \ub2ec\uace0\ub098 \ubf51\uae30"
       ]
      },
      {
       "output_type": "stream",
       "stream": "stdout",
       "text": [
        " \uac74\uac15\n",
        "\ucd94\uc5b5\uc758 \ub2ec\uace0\ub098 \ubf51\uae30 \ud559\uc2b5\n",
        "\ucd94\uc5b5\uc758 \ub2ec\uace0\ub098 \ubf51\uae30"
       ]
      },
      {
       "output_type": "stream",
       "stream": "stdout",
       "text": [
        " \ucee4\ubba4\ub2c8\ud2f0\n",
        "\uacfc\uc77c \ubc84\ube14 \uc288\ud130"
       ]
      },
      {
       "output_type": "stream",
       "stream": "stdout",
       "text": [
        " \ubbf8\uc6a9\n",
        "\uacfc\uc77c \ubc84\ube14 \uc288\ud130"
       ]
      },
      {
       "output_type": "stream",
       "stream": "stdout",
       "text": [
        " \uc74c\uc545\n",
        "\uacfc\uc77c \ubc84\ube14 \uc288\ud130"
       ]
      },
      {
       "output_type": "stream",
       "stream": "stdout",
       "text": [
        " \ub9ac\ubdf0\n",
        "\uacfc\uc77c \ubc84\ube14 \uc288\ud130"
       ]
      },
      {
       "output_type": "stream",
       "stream": "stdout",
       "text": [
        " \uc5f0\uc608\n",
        "\uacfc\uc77c \ubc84\ube14 \uc288\ud130"
       ]
      },
      {
       "output_type": "stream",
       "stream": "stdout",
       "text": [
        " \uc74c\uc2dd\n",
        "\uacfc\uc77c \ubc84\ube14 \uc288\ud130"
       ]
      },
      {
       "output_type": "stream",
       "stream": "stdout",
       "text": [
        " \uc2a4\ud3ec\uce20\n",
        "\uacfc\uc77c \ubc84\ube14 \uc288\ud130"
       ]
      },
      {
       "output_type": "stream",
       "stream": "stdout",
       "text": [
        " \uac8c\uc784\n",
        "\uacfc\uc77c \ubc84\ube14 \uc288\ud130"
       ]
      },
      {
       "output_type": "stream",
       "stream": "stdout",
       "text": [
        " \uac74\uac15\n",
        "\uacfc\uc77c \ubc84\ube14 \uc288\ud130"
       ]
      },
      {
       "output_type": "stream",
       "stream": "stdout",
       "text": [
        " \ud559\uc2b5\n",
        "\uacfc\uc77c \ubc84\ube14 \uc288\ud130"
       ]
      },
      {
       "output_type": "stream",
       "stream": "stdout",
       "text": [
        " \ucee4\ubba4\ub2c8\ud2f0\n",
        "\u30d1\u30c1\u30b9\u30ed\u300c\u7518\u3069\u308b!!\u300d"
       ]
      },
      {
       "output_type": "stream",
       "stream": "stdout",
       "text": [
        " \ubbf8\uc6a9\n",
        "\u30d1\u30c1\u30b9\u30ed\u300c\u7518\u3069\u308b!!\u300d"
       ]
      },
      {
       "output_type": "stream",
       "stream": "stdout",
       "text": [
        " \uc74c\uc545\n",
        "\u30d1\u30c1\u30b9\u30ed\u300c\u7518\u3069\u308b!!\u300d"
       ]
      },
      {
       "output_type": "stream",
       "stream": "stdout",
       "text": [
        " \ub9ac\ubdf0\n",
        "\u30d1\u30c1\u30b9\u30ed\u300c\u7518\u3069\u308b!!\u300d"
       ]
      },
      {
       "output_type": "stream",
       "stream": "stdout",
       "text": [
        " \uc5f0\uc608\n",
        "\u30d1\u30c1\u30b9\u30ed\u300c\u7518\u3069\u308b!!\u300d"
       ]
      },
      {
       "output_type": "stream",
       "stream": "stdout",
       "text": [
        " \uc74c\uc2dd\n",
        "\u30d1\u30c1\u30b9\u30ed\u300c\u7518\u3069\u308b!!\u300d"
       ]
      },
      {
       "output_type": "stream",
       "stream": "stdout",
       "text": [
        " \uc2a4\ud3ec\uce20\n",
        "\u30d1\u30c1\u30b9\u30ed\u300c\u7518\u3069\u308b!!\u300d"
       ]
      },
      {
       "output_type": "stream",
       "stream": "stdout",
       "text": [
        " \uac8c\uc784\n",
        "\u30d1\u30c1\u30b9\u30ed\u300c\u7518\u3069\u308b!!\u300d"
       ]
      },
      {
       "output_type": "stream",
       "stream": "stdout",
       "text": [
        " \uac74\uac15\n",
        "\u30d1\u30c1\u30b9\u30ed\u300c\u7518\u3069\u308b!!\u300d"
       ]
      },
      {
       "output_type": "stream",
       "stream": "stdout",
       "text": [
        " \ud559\uc2b5\n",
        "\u30d1\u30c1\u30b9\u30ed\u300c\u7518\u3069\u308b!!\u300d"
       ]
      },
      {
       "output_type": "stream",
       "stream": "stdout",
       "text": [
        " \ucee4\ubba4\ub2c8\ud2f0\n",
        "\ubf40\ubf40\uac8c\uc784"
       ]
      },
      {
       "output_type": "stream",
       "stream": "stdout",
       "text": [
        " \ubbf8\uc6a9\n",
        "\ubf40\ubf40\uac8c\uc784"
       ]
      },
      {
       "output_type": "stream",
       "stream": "stdout",
       "text": [
        " \uc74c\uc545\n",
        "\ubf40\ubf40\uac8c\uc784"
       ]
      },
      {
       "output_type": "stream",
       "stream": "stdout",
       "text": [
        " \ub9ac\ubdf0\n",
        "\ubf40\ubf40\uac8c\uc784"
       ]
      },
      {
       "output_type": "stream",
       "stream": "stdout",
       "text": [
        " \uc5f0\uc608\n",
        "\ubf40\ubf40\uac8c\uc784"
       ]
      },
      {
       "output_type": "stream",
       "stream": "stdout",
       "text": [
        " \uc74c\uc2dd\n",
        "\ubf40\ubf40\uac8c\uc784"
       ]
      },
      {
       "output_type": "stream",
       "stream": "stdout",
       "text": [
        " \uc2a4\ud3ec\uce20\n",
        "\ubf40\ubf40\uac8c\uc784"
       ]
      },
      {
       "output_type": "stream",
       "stream": "stdout",
       "text": [
        " \uac8c\uc784\n",
        "\ubf40\ubf40\uac8c\uc784"
       ]
      },
      {
       "output_type": "stream",
       "stream": "stdout",
       "text": [
        " \uac74\uac15\n",
        "\ubf40\ubf40\uac8c\uc784"
       ]
      },
      {
       "output_type": "stream",
       "stream": "stdout",
       "text": [
        " \ud559\uc2b5\n",
        "\ubf40\ubf40\uac8c\uc784"
       ]
      },
      {
       "output_type": "stream",
       "stream": "stdout",
       "text": [
        " \ucee4\ubba4\ub2c8\ud2f0\n",
        "\u7f8e\u5973\u5341\u516b\u6478\u6478\u51fa\u9ad8\u6f6e"
       ]
      },
      {
       "output_type": "stream",
       "stream": "stdout",
       "text": [
        " \ubbf8\uc6a9\n",
        "\u7f8e\u5973\u5341\u516b\u6478\u6478\u51fa\u9ad8\u6f6e"
       ]
      },
      {
       "output_type": "stream",
       "stream": "stdout",
       "text": [
        " \uc74c\uc545\n",
        "\u7f8e\u5973\u5341\u516b\u6478\u6478\u51fa\u9ad8\u6f6e"
       ]
      },
      {
       "output_type": "stream",
       "stream": "stdout",
       "text": [
        " \ub9ac\ubdf0\n",
        "\u7f8e\u5973\u5341\u516b\u6478\u6478\u51fa\u9ad8\u6f6e"
       ]
      },
      {
       "output_type": "stream",
       "stream": "stdout",
       "text": [
        " \uc5f0\uc608\n",
        "\u7f8e\u5973\u5341\u516b\u6478\u6478\u51fa\u9ad8\u6f6e"
       ]
      },
      {
       "output_type": "stream",
       "stream": "stdout",
       "text": [
        " \uc74c\uc2dd\n",
        "\u7f8e\u5973\u5341\u516b\u6478\u6478\u51fa\u9ad8\u6f6e"
       ]
      },
      {
       "output_type": "stream",
       "stream": "stdout",
       "text": [
        " \uc2a4\ud3ec\uce20\n",
        "\u7f8e\u5973\u5341\u516b\u6478\u6478\u51fa\u9ad8\u6f6e"
       ]
      },
      {
       "output_type": "stream",
       "stream": "stdout",
       "text": [
        " \uac8c\uc784\n",
        "\u7f8e\u5973\u5341\u516b\u6478\u6478\u51fa\u9ad8\u6f6e"
       ]
      },
      {
       "output_type": "stream",
       "stream": "stdout",
       "text": [
        " \uac74\uac15\n",
        "\u7f8e\u5973\u5341\u516b\u6478\u6478\u51fa\u9ad8\u6f6e"
       ]
      },
      {
       "output_type": "stream",
       "stream": "stdout",
       "text": [
        " \ud559\uc2b5\n",
        "\u7f8e\u5973\u5341\u516b\u6478\u6478\u51fa\u9ad8\u6f6e"
       ]
      },
      {
       "output_type": "stream",
       "stream": "stdout",
       "text": [
        " \ucee4\ubba4\ub2c8\ud2f0\n",
        "Hip Mania[Hot Girl] Free Game"
       ]
      },
      {
       "output_type": "stream",
       "stream": "stdout",
       "text": [
        " \ubbf8\uc6a9\n",
        "Hip Mania[Hot Girl] Free Game"
       ]
      },
      {
       "output_type": "stream",
       "stream": "stdout",
       "text": [
        " \uc74c\uc545\n",
        "Hip Mania[Hot Girl] Free Game"
       ]
      },
      {
       "output_type": "stream",
       "stream": "stdout",
       "text": [
        " \ub9ac\ubdf0\n",
        "Hip Mania[Hot Girl] Free Game"
       ]
      },
      {
       "output_type": "stream",
       "stream": "stdout",
       "text": [
        " \uc5f0\uc608\n",
        "Hip Mania[Hot Girl] Free Game"
       ]
      },
      {
       "output_type": "stream",
       "stream": "stdout",
       "text": [
        " \uc74c\uc2dd\n",
        "Hip Mania[Hot Girl] Free Game"
       ]
      },
      {
       "output_type": "stream",
       "stream": "stdout",
       "text": [
        " \uc2a4\ud3ec\uce20\n",
        "Hip Mania[Hot Girl] Free Game"
       ]
      },
      {
       "output_type": "stream",
       "stream": "stdout",
       "text": [
        " \uac8c\uc784\n",
        "Hip Mania[Hot Girl] Free Game"
       ]
      },
      {
       "output_type": "stream",
       "stream": "stdout",
       "text": [
        " \uac74\uac15\n",
        "Hip Mania[Hot Girl] Free Game"
       ]
      },
      {
       "output_type": "stream",
       "stream": "stdout",
       "text": [
        " \ud559\uc2b5\n",
        "Hip Mania[Hot Girl] Free Game"
       ]
      },
      {
       "output_type": "stream",
       "stream": "stdout",
       "text": [
        " \ucee4\ubba4\ub2c8\ud2f0\n",
        "\ubc1d\uc740 \uba4b\uc9c4"
       ]
      },
      {
       "output_type": "stream",
       "stream": "stdout",
       "text": [
        " \ubbf8\uc6a9\n",
        "\ubc1d\uc740 \uba4b\uc9c4"
       ]
      },
      {
       "output_type": "stream",
       "stream": "stdout",
       "text": [
        " \uc74c\uc545\n",
        "\ubc1d\uc740 \uba4b\uc9c4"
       ]
      },
      {
       "output_type": "stream",
       "stream": "stdout",
       "text": [
        " \ub9ac\ubdf0\n",
        "\ubc1d\uc740 \uba4b\uc9c4"
       ]
      },
      {
       "output_type": "stream",
       "stream": "stdout",
       "text": [
        " \uc5f0\uc608\n",
        "\ubc1d\uc740 \uba4b\uc9c4"
       ]
      },
      {
       "output_type": "stream",
       "stream": "stdout",
       "text": [
        " \uc74c\uc2dd\n",
        "\ubc1d\uc740 \uba4b\uc9c4"
       ]
      },
      {
       "output_type": "stream",
       "stream": "stdout",
       "text": [
        " \uc2a4\ud3ec\uce20\n",
        "\ubc1d\uc740 \uba4b\uc9c4"
       ]
      },
      {
       "output_type": "stream",
       "stream": "stdout",
       "text": [
        " \uac8c\uc784\n",
        "\ubc1d\uc740 \uba4b\uc9c4"
       ]
      },
      {
       "output_type": "stream",
       "stream": "stdout",
       "text": [
        " \uac74\uac15\n",
        "\ubc1d\uc740 \uba4b\uc9c4"
       ]
      },
      {
       "output_type": "stream",
       "stream": "stdout",
       "text": [
        " \ud559\uc2b5\n",
        "\ubc1d\uc740 \uba4b\uc9c4"
       ]
      },
      {
       "output_type": "stream",
       "stream": "stdout",
       "text": [
        " \ucee4\ubba4\ub2c8\ud2f0\n",
        "TarzaN Ever Ending Adventure"
       ]
      },
      {
       "output_type": "stream",
       "stream": "stdout",
       "text": [
        " \ubbf8\uc6a9\n",
        "TarzaN Ever Ending Adventure"
       ]
      },
      {
       "output_type": "stream",
       "stream": "stdout",
       "text": [
        " \uc74c\uc545\n",
        "TarzaN Ever Ending Adventure"
       ]
      },
      {
       "output_type": "stream",
       "stream": "stdout",
       "text": [
        " \ub9ac\ubdf0\n",
        "TarzaN Ever Ending Adventure"
       ]
      },
      {
       "output_type": "stream",
       "stream": "stdout",
       "text": [
        " \uc5f0\uc608\n",
        "TarzaN Ever Ending Adventure"
       ]
      },
      {
       "output_type": "stream",
       "stream": "stdout",
       "text": [
        " \uc74c\uc2dd\n",
        "TarzaN Ever Ending Adventure"
       ]
      },
      {
       "output_type": "stream",
       "stream": "stdout",
       "text": [
        " \uc2a4\ud3ec\uce20\n",
        "TarzaN Ever Ending Adventure"
       ]
      },
      {
       "output_type": "stream",
       "stream": "stdout",
       "text": [
        " \uac8c\uc784\n",
        "TarzaN Ever Ending Adventure"
       ]
      },
      {
       "output_type": "stream",
       "stream": "stdout",
       "text": [
        " \uac74\uac15\n",
        "TarzaN Ever Ending Adventure"
       ]
      },
      {
       "output_type": "stream",
       "stream": "stdout",
       "text": [
        " \ud559\uc2b5\n",
        "TarzaN Ever Ending Adventure"
       ]
      },
      {
       "output_type": "stream",
       "stream": "stdout",
       "text": [
        " \ucee4\ubba4\ub2c8\ud2f0\n",
        "Gourmet Creature Hungry Mogumo"
       ]
      },
      {
       "output_type": "stream",
       "stream": "stdout",
       "text": [
        " \ubbf8\uc6a9\n",
        "Gourmet Creature Hungry Mogumo"
       ]
      },
      {
       "output_type": "stream",
       "stream": "stdout",
       "text": [
        " \uc74c\uc545\n",
        "Gourmet Creature Hungry Mogumo"
       ]
      },
      {
       "output_type": "stream",
       "stream": "stdout",
       "text": [
        " \ub9ac\ubdf0\n",
        "Gourmet Creature Hungry Mogumo"
       ]
      },
      {
       "output_type": "stream",
       "stream": "stdout",
       "text": [
        " \uc5f0\uc608\n",
        "Gourmet Creature Hungry Mogumo"
       ]
      },
      {
       "output_type": "stream",
       "stream": "stdout",
       "text": [
        " \uc74c\uc2dd\n",
        "Gourmet Creature Hungry Mogumo"
       ]
      },
      {
       "output_type": "stream",
       "stream": "stdout",
       "text": [
        " \uc2a4\ud3ec\uce20\n",
        "Gourmet Creature Hungry Mogumo"
       ]
      },
      {
       "output_type": "stream",
       "stream": "stdout",
       "text": [
        " \uac8c\uc784\n",
        "Gourmet Creature Hungry Mogumo"
       ]
      },
      {
       "output_type": "stream",
       "stream": "stdout",
       "text": [
        " \uac74\uac15\n",
        "Gourmet Creature Hungry Mogumo"
       ]
      },
      {
       "output_type": "stream",
       "stream": "stdout",
       "text": [
        " \ud559\uc2b5\n",
        "Gourmet Creature Hungry Mogumo"
       ]
      },
      {
       "output_type": "stream",
       "stream": "stdout",
       "text": [
        " \ucee4\ubba4\ub2c8\ud2f0\n",
        "\ubcf4\uc218\uacc4"
       ]
      },
      {
       "output_type": "stream",
       "stream": "stdout",
       "text": [
        " \ubbf8\uc6a9\n",
        "\ubcf4\uc218\uacc4"
       ]
      },
      {
       "output_type": "stream",
       "stream": "stdout",
       "text": [
        " \uc74c\uc545\n",
        "\ubcf4\uc218\uacc4"
       ]
      },
      {
       "output_type": "stream",
       "stream": "stdout",
       "text": [
        " \ub9ac\ubdf0\n",
        "\ubcf4\uc218\uacc4"
       ]
      },
      {
       "output_type": "stream",
       "stream": "stdout",
       "text": [
        " \uc5f0\uc608\n",
        "\ubcf4\uc218\uacc4"
       ]
      },
      {
       "output_type": "stream",
       "stream": "stdout",
       "text": [
        " \uc74c\uc2dd\n",
        "\ubcf4\uc218\uacc4"
       ]
      },
      {
       "output_type": "stream",
       "stream": "stdout",
       "text": [
        " \uc2a4\ud3ec\uce20\n",
        "\ubcf4\uc218\uacc4"
       ]
      },
      {
       "output_type": "stream",
       "stream": "stdout",
       "text": [
        " \uac8c\uc784\n",
        "\ubcf4\uc218\uacc4"
       ]
      },
      {
       "output_type": "stream",
       "stream": "stdout",
       "text": [
        " \uac74\uac15\n",
        "\ubcf4\uc218\uacc4"
       ]
      },
      {
       "output_type": "stream",
       "stream": "stdout",
       "text": [
        " \ud559\uc2b5\n",
        "\ubcf4\uc218\uacc4"
       ]
      },
      {
       "output_type": "stream",
       "stream": "stdout",
       "text": [
        " \ucee4\ubba4\ub2c8\ud2f0\n",
        "\u60c5\u8272\u6478\u4e73\uff1a\u706b\u8fa3\u6bd4\u57fa\u5c3c"
       ]
      },
      {
       "output_type": "stream",
       "stream": "stdout",
       "text": [
        " \ubbf8\uc6a9\n",
        "\u60c5\u8272\u6478\u4e73\uff1a\u706b\u8fa3\u6bd4\u57fa\u5c3c"
       ]
      },
      {
       "output_type": "stream",
       "stream": "stdout",
       "text": [
        " \uc74c\uc545\n",
        "\u60c5\u8272\u6478\u4e73\uff1a\u706b\u8fa3\u6bd4\u57fa\u5c3c"
       ]
      },
      {
       "output_type": "stream",
       "stream": "stdout",
       "text": [
        " \ub9ac\ubdf0\n",
        "\u60c5\u8272\u6478\u4e73\uff1a\u706b\u8fa3\u6bd4\u57fa\u5c3c"
       ]
      },
      {
       "output_type": "stream",
       "stream": "stdout",
       "text": [
        " \uc5f0\uc608\n",
        "\u60c5\u8272\u6478\u4e73\uff1a\u706b\u8fa3\u6bd4\u57fa\u5c3c"
       ]
      },
      {
       "output_type": "stream",
       "stream": "stdout",
       "text": [
        " \uc74c\uc2dd\n",
        "\u60c5\u8272\u6478\u4e73\uff1a\u706b\u8fa3\u6bd4\u57fa\u5c3c"
       ]
      },
      {
       "output_type": "stream",
       "stream": "stdout",
       "text": [
        " \uc2a4\ud3ec\uce20\n",
        "\u60c5\u8272\u6478\u4e73\uff1a\u706b\u8fa3\u6bd4\u57fa\u5c3c"
       ]
      },
      {
       "output_type": "stream",
       "stream": "stdout",
       "text": [
        " \uac8c\uc784\n",
        "\u60c5\u8272\u6478\u4e73\uff1a\u706b\u8fa3\u6bd4\u57fa\u5c3c"
       ]
      },
      {
       "output_type": "stream",
       "stream": "stdout",
       "text": [
        " \uac74\uac15\n",
        "\u60c5\u8272\u6478\u4e73\uff1a\u706b\u8fa3\u6bd4\u57fa\u5c3c"
       ]
      },
      {
       "output_type": "stream",
       "stream": "stdout",
       "text": [
        " \ud559\uc2b5\n",
        "\u60c5\u8272\u6478\u4e73\uff1a\u706b\u8fa3\u6bd4\u57fa\u5c3c"
       ]
      },
      {
       "output_type": "stream",
       "stream": "stdout",
       "text": [
        " \ucee4\ubba4\ub2c8\ud2f0\n",
        "\ubb3c\uc740 \uc18c\ub9ac"
       ]
      },
      {
       "output_type": "stream",
       "stream": "stdout",
       "text": [
        " \ubbf8\uc6a9\n",
        "\ubb3c\uc740 \uc18c\ub9ac"
       ]
      },
      {
       "output_type": "stream",
       "stream": "stdout",
       "text": [
        " \uc74c\uc545\n",
        "\ubb3c\uc740 \uc18c\ub9ac"
       ]
      },
      {
       "output_type": "stream",
       "stream": "stdout",
       "text": [
        " \ub9ac\ubdf0\n",
        "\ubb3c\uc740 \uc18c\ub9ac"
       ]
      },
      {
       "output_type": "stream",
       "stream": "stdout",
       "text": [
        " \uc5f0\uc608\n",
        "\ubb3c\uc740 \uc18c\ub9ac"
       ]
      },
      {
       "output_type": "stream",
       "stream": "stdout",
       "text": [
        " \uc74c\uc2dd\n",
        "\ubb3c\uc740 \uc18c\ub9ac"
       ]
      },
      {
       "output_type": "stream",
       "stream": "stdout",
       "text": [
        " \uc2a4\ud3ec\uce20\n",
        "\ubb3c\uc740 \uc18c\ub9ac"
       ]
      },
      {
       "output_type": "stream",
       "stream": "stdout",
       "text": [
        " \uac8c\uc784\n",
        "\ubb3c\uc740 \uc18c\ub9ac"
       ]
      },
      {
       "output_type": "stream",
       "stream": "stdout",
       "text": [
        " \uac74\uac15\n",
        "\ubb3c\uc740 \uc18c\ub9ac"
       ]
      },
      {
       "output_type": "stream",
       "stream": "stdout",
       "text": [
        " \ud559\uc2b5\n",
        "\ubb3c\uc740 \uc18c\ub9ac"
       ]
      },
      {
       "output_type": "stream",
       "stream": "stdout",
       "text": [
        " \ucee4\ubba4\ub2c8\ud2f0\n",
        "\u4eba\u4eba\u90fd\u7231\u72d0\u72f8\u7cbe"
       ]
      },
      {
       "output_type": "stream",
       "stream": "stdout",
       "text": [
        " \ubbf8\uc6a9\n",
        "\u4eba\u4eba\u90fd\u7231\u72d0\u72f8\u7cbe"
       ]
      },
      {
       "output_type": "stream",
       "stream": "stdout",
       "text": [
        " \uc74c\uc545\n",
        "\u4eba\u4eba\u90fd\u7231\u72d0\u72f8\u7cbe"
       ]
      },
      {
       "output_type": "stream",
       "stream": "stdout",
       "text": [
        " \ub9ac\ubdf0\n",
        "\u4eba\u4eba\u90fd\u7231\u72d0\u72f8\u7cbe"
       ]
      },
      {
       "output_type": "stream",
       "stream": "stdout",
       "text": [
        " \uc5f0\uc608\n",
        "\u4eba\u4eba\u90fd\u7231\u72d0\u72f8\u7cbe"
       ]
      },
      {
       "output_type": "stream",
       "stream": "stdout",
       "text": [
        " \uc74c\uc2dd\n",
        "\u4eba\u4eba\u90fd\u7231\u72d0\u72f8\u7cbe"
       ]
      },
      {
       "output_type": "stream",
       "stream": "stdout",
       "text": [
        " \uc2a4\ud3ec\uce20\n",
        "\u4eba\u4eba\u90fd\u7231\u72d0\u72f8\u7cbe"
       ]
      },
      {
       "output_type": "stream",
       "stream": "stdout",
       "text": [
        " \uac8c\uc784\n",
        "\u4eba\u4eba\u90fd\u7231\u72d0\u72f8\u7cbe"
       ]
      },
      {
       "output_type": "stream",
       "stream": "stdout",
       "text": [
        " \uac74\uac15\n",
        "\u4eba\u4eba\u90fd\u7231\u72d0\u72f8\u7cbe"
       ]
      },
      {
       "output_type": "stream",
       "stream": "stdout",
       "text": [
        " \ud559\uc2b5\n",
        "\u4eba\u4eba\u90fd\u7231\u72d0\u72f8\u7cbe"
       ]
      },
      {
       "output_type": "stream",
       "stream": "stdout",
       "text": [
        " \ucee4\ubba4\ub2c8\ud2f0\n",
        "EZ Pill Reminder"
       ]
      },
      {
       "output_type": "stream",
       "stream": "stdout",
       "text": [
        " \ubbf8\uc6a9\n",
        "EZ Pill Reminder"
       ]
      },
      {
       "output_type": "stream",
       "stream": "stdout",
       "text": [
        " \uc74c\uc545\n",
        "EZ Pill Reminder"
       ]
      },
      {
       "output_type": "stream",
       "stream": "stdout",
       "text": [
        " \ub9ac\ubdf0\n",
        "EZ Pill Reminder"
       ]
      },
      {
       "output_type": "stream",
       "stream": "stdout",
       "text": [
        " \uc5f0\uc608\n",
        "EZ Pill Reminder \uc74c\uc2dd\n",
        "EZ Pill Reminder"
       ]
      },
      {
       "output_type": "stream",
       "stream": "stdout",
       "text": [
        " \uc2a4\ud3ec\uce20\n",
        "EZ Pill Reminder"
       ]
      },
      {
       "output_type": "stream",
       "stream": "stdout",
       "text": [
        " \uac8c\uc784\n",
        "EZ Pill Reminder"
       ]
      },
      {
       "output_type": "stream",
       "stream": "stdout",
       "text": [
        " \uac74\uac15\n",
        "EZ Pill Reminder"
       ]
      },
      {
       "output_type": "stream",
       "stream": "stdout",
       "text": [
        " \ud559\uc2b5\n",
        "EZ Pill Reminder"
       ]
      },
      {
       "output_type": "stream",
       "stream": "stdout",
       "text": [
        " \ucee4\ubba4\ub2c8\ud2f0\n",
        "Smart Baby Mat (Monitor)"
       ]
      },
      {
       "output_type": "stream",
       "stream": "stdout",
       "text": [
        " \ubbf8\uc6a9\n",
        "Smart Baby Mat (Monitor) \uc74c\uc545\n",
        "Smart Baby Mat (Monitor)"
       ]
      },
      {
       "output_type": "stream",
       "stream": "stdout",
       "text": [
        " \ub9ac\ubdf0\n",
        "Smart Baby Mat (Monitor) \uc5f0\uc608\n",
        "Smart Baby Mat (Monitor)"
       ]
      },
      {
       "output_type": "stream",
       "stream": "stdout",
       "text": [
        " \uc74c\uc2dd\n",
        "Smart Baby Mat (Monitor)"
       ]
      },
      {
       "output_type": "stream",
       "stream": "stdout",
       "text": [
        " \uc2a4\ud3ec\uce20\n",
        "Smart Baby Mat (Monitor) \uac8c\uc784\n",
        "Smart Baby Mat (Monitor)"
       ]
      },
      {
       "output_type": "stream",
       "stream": "stdout",
       "text": [
        " \uac74\uac15\n",
        "Smart Baby Mat (Monitor)"
       ]
      },
      {
       "output_type": "stream",
       "stream": "stdout",
       "text": [
        " \ud559\uc2b5\n",
        "Smart Baby Mat (Monitor)"
       ]
      },
      {
       "output_type": "stream",
       "stream": "stdout",
       "text": [
        " \ucee4\ubba4\ub2c8\ud2f0\n",
        "\u9690\u5f62\u80f8\u7f69\uff08\u5b89\u5353\u7248\uff09"
       ]
      },
      {
       "output_type": "stream",
       "stream": "stdout",
       "text": [
        " \ubbf8\uc6a9\n",
        "\u9690\u5f62\u80f8\u7f69\uff08\u5b89\u5353\u7248\uff09"
       ]
      },
      {
       "output_type": "stream",
       "stream": "stdout",
       "text": [
        " \uc74c\uc545\n",
        "\u9690\u5f62\u80f8\u7f69\uff08\u5b89\u5353\u7248\uff09"
       ]
      },
      {
       "output_type": "stream",
       "stream": "stdout",
       "text": [
        " \ub9ac\ubdf0\n",
        "\u9690\u5f62\u80f8\u7f69\uff08\u5b89\u5353\u7248\uff09"
       ]
      },
      {
       "output_type": "stream",
       "stream": "stdout",
       "text": [
        " \uc5f0\uc608\n",
        "\u9690\u5f62\u80f8\u7f69\uff08\u5b89\u5353\u7248\uff09"
       ]
      },
      {
       "output_type": "stream",
       "stream": "stdout",
       "text": [
        " \uc74c\uc2dd\n",
        "\u9690\u5f62\u80f8\u7f69\uff08\u5b89\u5353\u7248\uff09"
       ]
      },
      {
       "output_type": "stream",
       "stream": "stdout",
       "text": [
        " \uc2a4\ud3ec\uce20\n",
        "\u9690\u5f62\u80f8\u7f69\uff08\u5b89\u5353\u7248\uff09"
       ]
      },
      {
       "output_type": "stream",
       "stream": "stdout",
       "text": [
        " \uac8c\uc784\n",
        "\u9690\u5f62\u80f8\u7f69\uff08\u5b89\u5353\u7248\uff09"
       ]
      },
      {
       "output_type": "stream",
       "stream": "stdout",
       "text": [
        " \uac74\uac15\n",
        "\u9690\u5f62\u80f8\u7f69\uff08\u5b89\u5353\u7248\uff09"
       ]
      },
      {
       "output_type": "stream",
       "stream": "stdout",
       "text": [
        " \ud559\uc2b5\n",
        "\u9690\u5f62\u80f8\u7f69\uff08\u5b89\u5353\u7248\uff09"
       ]
      },
      {
       "output_type": "stream",
       "stream": "stdout",
       "text": [
        " \ucee4\ubba4\ub2c8\ud2f0\n",
        "Height & Weight Log"
       ]
      },
      {
       "output_type": "stream",
       "stream": "stdout",
       "text": [
        " \ubbf8\uc6a9\n",
        "Height & Weight Log"
       ]
      },
      {
       "output_type": "stream",
       "stream": "stdout",
       "text": [
        " \uc74c\uc545\n",
        "Height & Weight Log"
       ]
      },
      {
       "output_type": "stream",
       "stream": "stdout",
       "text": [
        " \ub9ac\ubdf0\n",
        "Height & Weight Log"
       ]
      },
      {
       "output_type": "stream",
       "stream": "stdout",
       "text": [
        " \uc5f0\uc608\n",
        "Height & Weight Log"
       ]
      },
      {
       "output_type": "stream",
       "stream": "stdout",
       "text": [
        " \uc74c\uc2dd\n",
        "Height & Weight Log"
       ]
      },
      {
       "output_type": "stream",
       "stream": "stdout",
       "text": [
        " \uc2a4\ud3ec\uce20\n",
        "Height & Weight Log"
       ]
      },
      {
       "output_type": "stream",
       "stream": "stdout",
       "text": [
        " \uac8c\uc784\n",
        "Height & Weight Log \uac74\uac15\n",
        "Height & Weight Log"
       ]
      },
      {
       "output_type": "stream",
       "stream": "stdout",
       "text": [
        " \ud559\uc2b5\n",
        "Height & Weight Log"
       ]
      },
      {
       "output_type": "stream",
       "stream": "stdout",
       "text": [
        " \ucee4\ubba4\ub2c8\ud2f0\n",
        "\uccb4\uc911\uc744 \uc783\uac8c\ud558\ub294 \ube60\ub978 \ubc29\ubc95 \ubbf8\uc6a9\n",
        "\uccb4\uc911\uc744 \uc783\uac8c\ud558\ub294 \ube60\ub978 \ubc29\ubc95"
       ]
      },
      {
       "output_type": "stream",
       "stream": "stdout",
       "text": [
        " \uc74c\uc545\n",
        "\uccb4\uc911\uc744 \uc783\uac8c\ud558\ub294 \ube60\ub978 \ubc29\ubc95"
       ]
      },
      {
       "output_type": "stream",
       "stream": "stdout",
       "text": [
        " \ub9ac\ubdf0\n",
        "\uccb4\uc911\uc744 \uc783\uac8c\ud558\ub294 \ube60\ub978 \ubc29\ubc95"
       ]
      },
      {
       "output_type": "stream",
       "stream": "stdout",
       "text": [
        " \uc5f0\uc608\n",
        "\uccb4\uc911\uc744 \uc783\uac8c\ud558\ub294 \ube60\ub978 \ubc29\ubc95 \uc74c\uc2dd\n",
        "\uccb4\uc911\uc744 \uc783\uac8c\ud558\ub294 \ube60\ub978 \ubc29\ubc95"
       ]
      },
      {
       "output_type": "stream",
       "stream": "stdout",
       "text": [
        " \uc2a4\ud3ec\uce20\n",
        "\uccb4\uc911\uc744 \uc783\uac8c\ud558\ub294 \ube60\ub978 \ubc29\ubc95"
       ]
      },
      {
       "output_type": "stream",
       "stream": "stdout",
       "text": [
        " \uac8c\uc784\n",
        "\uccb4\uc911\uc744 \uc783\uac8c\ud558\ub294 \ube60\ub978 \ubc29\ubc95"
       ]
      },
      {
       "output_type": "stream",
       "stream": "stdout",
       "text": [
        " \uac74\uac15\n",
        "\uccb4\uc911\uc744 \uc783\uac8c\ud558\ub294 \ube60\ub978 \ubc29\ubc95"
       ]
      },
      {
       "output_type": "stream",
       "stream": "stdout",
       "text": [
        " \ud559\uc2b5\n",
        "\uccb4\uc911\uc744 \uc783\uac8c\ud558\ub294 \ube60\ub978 \ubc29\ubc95"
       ]
      },
      {
       "output_type": "stream",
       "stream": "stdout",
       "text": [
        " \ucee4\ubba4\ub2c8\ud2f0\n",
        "Sword Art Online Theme FREE \ubbf8\uc6a9\n",
        "Sword Art Online Theme FREE"
       ]
      },
      {
       "output_type": "stream",
       "stream": "stdout",
       "text": [
        " \uc74c\uc545\n",
        "Sword Art Online Theme FREE"
       ]
      },
      {
       "output_type": "stream",
       "stream": "stdout",
       "text": [
        " \ub9ac\ubdf0\n",
        "Sword Art Online Theme FREE"
       ]
      },
      {
       "output_type": "stream",
       "stream": "stdout",
       "text": [
        " \uc5f0\uc608\n",
        "Sword Art Online Theme FREE"
       ]
      },
      {
       "output_type": "stream",
       "stream": "stdout",
       "text": [
        " \uc74c\uc2dd\n",
        "Sword Art Online Theme FREE"
       ]
      },
      {
       "output_type": "stream",
       "stream": "stdout",
       "text": [
        " \uc2a4\ud3ec\uce20\n",
        "Sword Art Online Theme FREE \uac8c\uc784\n",
        "Sword Art Online Theme FREE"
       ]
      },
      {
       "output_type": "stream",
       "stream": "stdout",
       "text": [
        " \uac74\uac15\n",
        "Sword Art Online Theme FREE"
       ]
      },
      {
       "output_type": "stream",
       "stream": "stdout",
       "text": [
        " \ud559\uc2b5\n",
        "Sword Art Online Theme FREE"
       ]
      },
      {
       "output_type": "stream",
       "stream": "stdout",
       "text": [
        " \ucee4\ubba4\ub2c8\ud2f0\n",
        "\u70ed\u95e8\u7384\u5e7b\u4fee\u771f\u5c0f\u8bf4\u5408\u96c6 \ubbf8\uc6a9\n",
        "\u70ed\u95e8\u7384\u5e7b\u4fee\u771f\u5c0f\u8bf4\u5408\u96c6"
       ]
      },
      {
       "output_type": "stream",
       "stream": "stdout",
       "text": [
        " \uc74c\uc545\n",
        "\u70ed\u95e8\u7384\u5e7b\u4fee\u771f\u5c0f\u8bf4\u5408\u96c6"
       ]
      },
      {
       "output_type": "stream",
       "stream": "stdout",
       "text": [
        " \ub9ac\ubdf0\n",
        "\u70ed\u95e8\u7384\u5e7b\u4fee\u771f\u5c0f\u8bf4\u5408\u96c6"
       ]
      },
      {
       "output_type": "stream",
       "stream": "stdout",
       "text": [
        " \uc5f0\uc608\n",
        "\u70ed\u95e8\u7384\u5e7b\u4fee\u771f\u5c0f\u8bf4\u5408\u96c6"
       ]
      },
      {
       "output_type": "stream",
       "stream": "stdout",
       "text": [
        " \uc74c\uc2dd\n",
        "\u70ed\u95e8\u7384\u5e7b\u4fee\u771f\u5c0f\u8bf4\u5408\u96c6"
       ]
      },
      {
       "output_type": "stream",
       "stream": "stdout",
       "text": [
        " \uc2a4\ud3ec\uce20\n",
        "\u70ed\u95e8\u7384\u5e7b\u4fee\u771f\u5c0f\u8bf4\u5408\u96c6"
       ]
      },
      {
       "output_type": "stream",
       "stream": "stdout",
       "text": [
        " \uac8c\uc784\n",
        "\u70ed\u95e8\u7384\u5e7b\u4fee\u771f\u5c0f\u8bf4\u5408\u96c6"
       ]
      },
      {
       "output_type": "stream",
       "stream": "stdout",
       "text": [
        " \uac74\uac15\n",
        "\u70ed\u95e8\u7384\u5e7b\u4fee\u771f\u5c0f\u8bf4\u5408\u96c6"
       ]
      },
      {
       "output_type": "stream",
       "stream": "stdout",
       "text": [
        " \ud559\uc2b5\n",
        "\u70ed\u95e8\u7384\u5e7b\u4fee\u771f\u5c0f\u8bf4\u5408\u96c6"
       ]
      },
      {
       "output_type": "stream",
       "stream": "stdout",
       "text": [
        " \ucee4\ubba4\ub2c8\ud2f0\n",
        "\u6210\u4eba\u6fc0\u60c5\u8868\u59b9\u7684\u8bf1\u60d1\u5c0f\u8bf4"
       ]
      },
      {
       "output_type": "stream",
       "stream": "stdout",
       "text": [
        " \ubbf8\uc6a9\n",
        "\u6210\u4eba\u6fc0\u60c5\u8868\u59b9\u7684\u8bf1\u60d1\u5c0f\u8bf4"
       ]
      },
      {
       "output_type": "stream",
       "stream": "stdout",
       "text": [
        " \uc74c\uc545\n",
        "\u6210\u4eba\u6fc0\u60c5\u8868\u59b9\u7684\u8bf1\u60d1\u5c0f\u8bf4"
       ]
      },
      {
       "output_type": "stream",
       "stream": "stdout",
       "text": [
        " \ub9ac\ubdf0\n",
        "\u6210\u4eba\u6fc0\u60c5\u8868\u59b9\u7684\u8bf1\u60d1\u5c0f\u8bf4"
       ]
      },
      {
       "output_type": "stream",
       "stream": "stdout",
       "text": [
        " \uc5f0\uc608\n",
        "\u6210\u4eba\u6fc0\u60c5\u8868\u59b9\u7684\u8bf1\u60d1\u5c0f\u8bf4"
       ]
      },
      {
       "output_type": "stream",
       "stream": "stdout",
       "text": [
        " \uc74c\uc2dd\n",
        "\u6210\u4eba\u6fc0\u60c5\u8868\u59b9\u7684\u8bf1\u60d1\u5c0f\u8bf4"
       ]
      },
      {
       "output_type": "stream",
       "stream": "stdout",
       "text": [
        " \uc2a4\ud3ec\uce20\n",
        "\u6210\u4eba\u6fc0\u60c5\u8868\u59b9\u7684\u8bf1\u60d1\u5c0f\u8bf4"
       ]
      },
      {
       "output_type": "stream",
       "stream": "stdout",
       "text": [
        " \uac8c\uc784\n",
        "\u6210\u4eba\u6fc0\u60c5\u8868\u59b9\u7684\u8bf1\u60d1\u5c0f\u8bf4"
       ]
      },
      {
       "output_type": "stream",
       "stream": "stdout",
       "text": [
        " \uac74\uac15\n",
        "\u6210\u4eba\u6fc0\u60c5\u8868\u59b9\u7684\u8bf1\u60d1\u5c0f\u8bf4"
       ]
      },
      {
       "output_type": "stream",
       "stream": "stdout",
       "text": [
        " \ud559\uc2b5\n",
        "\u6210\u4eba\u6fc0\u60c5\u8868\u59b9\u7684\u8bf1\u60d1\u5c0f\u8bf4"
       ]
      },
      {
       "output_type": "stream",
       "stream": "stdout",
       "text": [
        " \ucee4\ubba4\ub2c8\ud2f0\n",
        "\u5bab\u6597\u6fc0\u60c5\u6587\u5b66"
       ]
      },
      {
       "output_type": "stream",
       "stream": "stdout",
       "text": [
        " \ubbf8\uc6a9\n",
        "\u5bab\u6597\u6fc0\u60c5\u6587\u5b66"
       ]
      },
      {
       "output_type": "stream",
       "stream": "stdout",
       "text": [
        " \uc74c\uc545\n",
        "\u5bab\u6597\u6fc0\u60c5\u6587\u5b66"
       ]
      },
      {
       "output_type": "stream",
       "stream": "stdout",
       "text": [
        " \ub9ac\ubdf0\n",
        "\u5bab\u6597\u6fc0\u60c5\u6587\u5b66"
       ]
      },
      {
       "output_type": "stream",
       "stream": "stdout",
       "text": [
        " \uc5f0\uc608\n",
        "\u5bab\u6597\u6fc0\u60c5\u6587\u5b66"
       ]
      },
      {
       "output_type": "stream",
       "stream": "stdout",
       "text": [
        " \uc74c\uc2dd\n",
        "\u5bab\u6597\u6fc0\u60c5\u6587\u5b66"
       ]
      },
      {
       "output_type": "stream",
       "stream": "stdout",
       "text": [
        " \uc2a4\ud3ec\uce20\n",
        "\u5bab\u6597\u6fc0\u60c5\u6587\u5b66"
       ]
      },
      {
       "output_type": "stream",
       "stream": "stdout",
       "text": [
        " \uac8c\uc784\n",
        "\u5bab\u6597\u6fc0\u60c5\u6587\u5b66"
       ]
      },
      {
       "output_type": "stream",
       "stream": "stdout",
       "text": [
        " \uac74\uac15\n",
        "\u5bab\u6597\u6fc0\u60c5\u6587\u5b66"
       ]
      },
      {
       "output_type": "stream",
       "stream": "stdout",
       "text": [
        " \ud559\uc2b5\n",
        "\u5bab\u6597\u6fc0\u60c5\u6587\u5b66"
       ]
      },
      {
       "output_type": "stream",
       "stream": "stdout",
       "text": [
        " \ucee4\ubba4\ub2c8\ud2f0\n",
        "Be My Princess"
       ]
      },
      {
       "output_type": "stream",
       "stream": "stdout",
       "text": [
        " \ubbf8\uc6a9\n",
        "Be My Princess"
       ]
      },
      {
       "output_type": "stream",
       "stream": "stdout",
       "text": [
        " \uc74c\uc545\n",
        "Be My Princess"
       ]
      },
      {
       "output_type": "stream",
       "stream": "stdout",
       "text": [
        " \ub9ac\ubdf0\n",
        "Be My Princess"
       ]
      },
      {
       "output_type": "stream",
       "stream": "stdout",
       "text": [
        " \uc5f0\uc608\n",
        "Be My Princess"
       ]
      },
      {
       "output_type": "stream",
       "stream": "stdout",
       "text": [
        " \uc74c\uc2dd\n",
        "Be My Princess"
       ]
      },
      {
       "output_type": "stream",
       "stream": "stdout",
       "text": [
        " \uc2a4\ud3ec\uce20\n",
        "Be My Princess"
       ]
      },
      {
       "output_type": "stream",
       "stream": "stdout",
       "text": [
        " \uac8c\uc784\n",
        "Be My Princess"
       ]
      },
      {
       "output_type": "stream",
       "stream": "stdout",
       "text": [
        " \uac74\uac15\n",
        "Be My Princess \ud559\uc2b5\n",
        "Be My Princess"
       ]
      },
      {
       "output_type": "stream",
       "stream": "stdout",
       "text": [
        " \ucee4\ubba4\ub2c8\ud2f0\n",
        "TouchPal Swedish Pack"
       ]
      },
      {
       "output_type": "stream",
       "stream": "stdout",
       "text": [
        " \ubbf8\uc6a9\n",
        "TouchPal Swedish Pack"
       ]
      },
      {
       "output_type": "stream",
       "stream": "stdout",
       "text": [
        " \uc74c\uc545\n",
        "TouchPal Swedish Pack"
       ]
      },
      {
       "output_type": "stream",
       "stream": "stdout",
       "text": [
        " \ub9ac\ubdf0\n",
        "TouchPal Swedish Pack"
       ]
      },
      {
       "output_type": "stream",
       "stream": "stdout",
       "text": [
        " \uc5f0\uc608\n",
        "TouchPal Swedish Pack"
       ]
      },
      {
       "output_type": "stream",
       "stream": "stdout",
       "text": [
        " \uc74c\uc2dd\n",
        "TouchPal Swedish Pack"
       ]
      },
      {
       "output_type": "stream",
       "stream": "stdout",
       "text": [
        " \uc2a4\ud3ec\uce20\n",
        "TouchPal Swedish Pack \uac8c\uc784\n",
        "TouchPal Swedish Pack"
       ]
      },
      {
       "output_type": "stream",
       "stream": "stdout",
       "text": [
        " \uac74\uac15\n",
        "TouchPal Swedish Pack"
       ]
      },
      {
       "output_type": "stream",
       "stream": "stdout",
       "text": [
        " \ud559\uc2b5\n",
        "TouchPal Swedish Pack"
       ]
      },
      {
       "output_type": "stream",
       "stream": "stdout",
       "text": [
        " \ucee4\ubba4\ub2c8\ud2f0\n",
        "IDM Internet Download Magician \ubbf8\uc6a9\n",
        "IDM Internet Download Magician"
       ]
      },
      {
       "output_type": "stream",
       "stream": "stdout",
       "text": [
        " \uc74c\uc545\n",
        "IDM Internet Download Magician"
       ]
      },
      {
       "output_type": "stream",
       "stream": "stdout",
       "text": [
        " \ub9ac\ubdf0\n",
        "IDM Internet Download Magician"
       ]
      },
      {
       "output_type": "stream",
       "stream": "stdout",
       "text": [
        " \uc5f0\uc608\n",
        "IDM Internet Download Magician"
       ]
      },
      {
       "output_type": "stream",
       "stream": "stdout",
       "text": [
        " \uc74c\uc2dd\n",
        "IDM Internet Download Magician"
       ]
      },
      {
       "output_type": "stream",
       "stream": "stdout",
       "text": [
        " \uc2a4\ud3ec\uce20\n",
        "IDM Internet Download Magician"
       ]
      },
      {
       "output_type": "stream",
       "stream": "stdout",
       "text": [
        " \uac8c\uc784\n",
        "IDM Internet Download Magician"
       ]
      },
      {
       "output_type": "stream",
       "stream": "stdout",
       "text": [
        " \uac74\uac15\n",
        "IDM Internet Download Magician"
       ]
      },
      {
       "output_type": "stream",
       "stream": "stdout",
       "text": [
        " \ud559\uc2b5\n",
        "IDM Internet Download Magician"
       ]
      },
      {
       "output_type": "stream",
       "stream": "stdout",
       "text": [
        " \ucee4\ubba4\ub2c8\ud2f0\n",
        "\u7c21\u7e41:\u5bf5\u6587\u751c\u6587\u8a00\u60c5\u5c0f\u8aaa\u5408\u96c6[7]"
       ]
      },
      {
       "output_type": "stream",
       "stream": "stdout",
       "text": [
        " \ubbf8\uc6a9\n",
        "\u7c21\u7e41:\u5bf5\u6587\u751c\u6587\u8a00\u60c5\u5c0f\u8aaa\u5408\u96c6[7]"
       ]
      },
      {
       "output_type": "stream",
       "stream": "stdout",
       "text": [
        " \uc74c\uc545\n",
        "\u7c21\u7e41:\u5bf5\u6587\u751c\u6587\u8a00\u60c5\u5c0f\u8aaa\u5408\u96c6[7]"
       ]
      },
      {
       "output_type": "stream",
       "stream": "stdout",
       "text": [
        " \ub9ac\ubdf0\n",
        "\u7c21\u7e41:\u5bf5\u6587\u751c\u6587\u8a00\u60c5\u5c0f\u8aaa\u5408\u96c6[7]"
       ]
      },
      {
       "output_type": "stream",
       "stream": "stdout",
       "text": [
        " \uc5f0\uc608\n",
        "\u7c21\u7e41:\u5bf5\u6587\u751c\u6587\u8a00\u60c5\u5c0f\u8aaa\u5408\u96c6[7]"
       ]
      },
      {
       "output_type": "stream",
       "stream": "stdout",
       "text": [
        " \uc74c\uc2dd\n",
        "\u7c21\u7e41:\u5bf5\u6587\u751c\u6587\u8a00\u60c5\u5c0f\u8aaa\u5408\u96c6[7]"
       ]
      },
      {
       "output_type": "stream",
       "stream": "stdout",
       "text": [
        " \uc2a4\ud3ec\uce20\n",
        "\u7c21\u7e41:\u5bf5\u6587\u751c\u6587\u8a00\u60c5\u5c0f\u8aaa\u5408\u96c6[7]"
       ]
      },
      {
       "output_type": "stream",
       "stream": "stdout",
       "text": [
        " \uac8c\uc784\n",
        "\u7c21\u7e41:\u5bf5\u6587\u751c\u6587\u8a00\u60c5\u5c0f\u8aaa\u5408\u96c6[7]"
       ]
      },
      {
       "output_type": "stream",
       "stream": "stdout",
       "text": [
        " \uac74\uac15\n",
        "\u7c21\u7e41:\u5bf5\u6587\u751c\u6587\u8a00\u60c5\u5c0f\u8aaa\u5408\u96c6[7]"
       ]
      },
      {
       "output_type": "stream",
       "stream": "stdout",
       "text": [
        " \ud559\uc2b5\n",
        "\u7c21\u7e41:\u5bf5\u6587\u751c\u6587\u8a00\u60c5\u5c0f\u8aaa\u5408\u96c6[7]"
       ]
      },
      {
       "output_type": "stream",
       "stream": "stdout",
       "text": [
        " \ucee4\ubba4\ub2c8\ud2f0\n",
        "Android 2.2 API Demos"
       ]
      },
      {
       "output_type": "stream",
       "stream": "stdout",
       "text": [
        " \ubbf8\uc6a9\n",
        "Android 2.2 API Demos"
       ]
      },
      {
       "output_type": "stream",
       "stream": "stdout",
       "text": [
        " \uc74c\uc545\n",
        "Android 2.2 API Demos"
       ]
      },
      {
       "output_type": "stream",
       "stream": "stdout",
       "text": [
        " \ub9ac\ubdf0\n",
        "Android 2.2 API Demos"
       ]
      },
      {
       "output_type": "stream",
       "stream": "stdout",
       "text": [
        " \uc5f0\uc608\n",
        "Android 2.2 API Demos"
       ]
      },
      {
       "output_type": "stream",
       "stream": "stdout",
       "text": [
        " \uc74c\uc2dd\n",
        "Android 2.2 API Demos \uc2a4\ud3ec\uce20\n",
        "Android 2.2 API Demos"
       ]
      },
      {
       "output_type": "stream",
       "stream": "stdout",
       "text": [
        " \uac8c\uc784\n",
        "Android 2.2 API Demos"
       ]
      },
      {
       "output_type": "stream",
       "stream": "stdout",
       "text": [
        " \uac74\uac15\n",
        "Android 2.2 API Demos"
       ]
      },
      {
       "output_type": "stream",
       "stream": "stdout",
       "text": [
        " \ud559\uc2b5\n",
        "Android 2.2 API Demos"
       ]
      },
      {
       "output_type": "stream",
       "stream": "stdout",
       "text": [
        " \ucee4\ubba4\ub2c8\ud2f0\n",
        "\ubfcc\uae4c \uc0ac\ucc9c\uc131"
       ]
      },
      {
       "output_type": "stream",
       "stream": "stdout",
       "text": [
        " \ubbf8\uc6a9\n",
        "\ubfcc\uae4c \uc0ac\ucc9c\uc131"
       ]
      },
      {
       "output_type": "stream",
       "stream": "stdout",
       "text": [
        " \uc74c\uc545\n",
        "\ubfcc\uae4c \uc0ac\ucc9c\uc131"
       ]
      },
      {
       "output_type": "stream",
       "stream": "stdout",
       "text": [
        " \ub9ac\ubdf0\n",
        "\ubfcc\uae4c \uc0ac\ucc9c\uc131"
       ]
      },
      {
       "output_type": "stream",
       "stream": "stdout",
       "text": [
        " \uc5f0\uc608\n",
        "\ubfcc\uae4c \uc0ac\ucc9c\uc131"
       ]
      },
      {
       "output_type": "stream",
       "stream": "stdout",
       "text": [
        " \uc74c\uc2dd\n",
        "\ubfcc\uae4c \uc0ac\ucc9c\uc131"
       ]
      },
      {
       "output_type": "stream",
       "stream": "stdout",
       "text": [
        " \uc2a4\ud3ec\uce20\n",
        "\ubfcc\uae4c \uc0ac\ucc9c\uc131"
       ]
      },
      {
       "output_type": "stream",
       "stream": "stdout",
       "text": [
        " \uac8c\uc784\n",
        "\ubfcc\uae4c \uc0ac\ucc9c\uc131"
       ]
      },
      {
       "output_type": "stream",
       "stream": "stdout",
       "text": [
        " \uac74\uac15\n",
        "\ubfcc\uae4c \uc0ac\ucc9c\uc131"
       ]
      },
      {
       "output_type": "stream",
       "stream": "stdout",
       "text": [
        " \ud559\uc2b5\n",
        "\ubfcc\uae4c \uc0ac\ucc9c\uc131"
       ]
      },
      {
       "output_type": "stream",
       "stream": "stdout",
       "text": [
        " \ucee4\ubba4\ub2c8\ud2f0\n",
        "Dreamhouse Next Launcher Theme \ubbf8\uc6a9\n",
        "Dreamhouse Next Launcher Theme"
       ]
      },
      {
       "output_type": "stream",
       "stream": "stdout",
       "text": [
        " \uc74c\uc545\n",
        "Dreamhouse Next Launcher Theme"
       ]
      },
      {
       "output_type": "stream",
       "stream": "stdout",
       "text": [
        " \ub9ac\ubdf0\n",
        "Dreamhouse Next Launcher Theme"
       ]
      },
      {
       "output_type": "stream",
       "stream": "stdout",
       "text": [
        " \uc5f0\uc608\n",
        "Dreamhouse Next Launcher Theme"
       ]
      },
      {
       "output_type": "stream",
       "stream": "stdout",
       "text": [
        " \uc74c\uc2dd\n",
        "Dreamhouse Next Launcher Theme"
       ]
      },
      {
       "output_type": "stream",
       "stream": "stdout",
       "text": [
        " \uc2a4\ud3ec\uce20\n",
        "Dreamhouse Next Launcher Theme"
       ]
      },
      {
       "output_type": "stream",
       "stream": "stdout",
       "text": [
        " \uac8c\uc784\n",
        "Dreamhouse Next Launcher Theme"
       ]
      },
      {
       "output_type": "stream",
       "stream": "stdout",
       "text": [
        " \uac74\uac15\n",
        "Dreamhouse Next Launcher Theme"
       ]
      },
      {
       "output_type": "stream",
       "stream": "stdout",
       "text": [
        " \ud559\uc2b5\n",
        "Dreamhouse Next Launcher Theme"
       ]
      },
      {
       "output_type": "stream",
       "stream": "stdout",
       "text": [
        " \ucee4\ubba4\ub2c8\ud2f0\n",
        "\ub9c8\uc774 \uce74 \uc0b4\ub871 2"
       ]
      },
      {
       "output_type": "stream",
       "stream": "stdout",
       "text": [
        " \ubbf8\uc6a9\n",
        "\ub9c8\uc774 \uce74 \uc0b4\ub871 2 \uc74c\uc545\n",
        "\ub9c8\uc774 \uce74 \uc0b4\ub871 2"
       ]
      },
      {
       "output_type": "stream",
       "stream": "stdout",
       "text": [
        " \ub9ac\ubdf0\n",
        "\ub9c8\uc774 \uce74 \uc0b4\ub871 2"
       ]
      },
      {
       "output_type": "stream",
       "stream": "stdout",
       "text": [
        " \uc5f0\uc608\n",
        "\ub9c8\uc774 \uce74 \uc0b4\ub871 2"
       ]
      },
      {
       "output_type": "stream",
       "stream": "stdout",
       "text": [
        " \uc74c\uc2dd\n",
        "\ub9c8\uc774 \uce74 \uc0b4\ub871 2"
       ]
      },
      {
       "output_type": "stream",
       "stream": "stdout",
       "text": [
        " \uc2a4\ud3ec\uce20\n",
        "\ub9c8\uc774 \uce74 \uc0b4\ub871 2 \uac8c\uc784\n",
        "\ub9c8\uc774 \uce74 \uc0b4\ub871 2"
       ]
      },
      {
       "output_type": "stream",
       "stream": "stdout",
       "text": [
        " \uac74\uac15\n",
        "\ub9c8\uc774 \uce74 \uc0b4\ub871 2"
       ]
      },
      {
       "output_type": "stream",
       "stream": "stdout",
       "text": [
        " \ud559\uc2b5\n",
        "\ub9c8\uc774 \uce74 \uc0b4\ub871 2"
       ]
      },
      {
       "output_type": "stream",
       "stream": "stdout",
       "text": [
        " \ucee4\ubba4\ub2c8\ud2f0\n",
        "\ud0c0\uc774\ub2c8\uc6cc"
       ]
      },
      {
       "output_type": "stream",
       "stream": "stdout",
       "text": [
        " \ubbf8\uc6a9\n",
        "\ud0c0\uc774\ub2c8\uc6cc"
       ]
      },
      {
       "output_type": "stream",
       "stream": "stdout",
       "text": [
        " \uc74c\uc545\n",
        "\ud0c0\uc774\ub2c8\uc6cc"
       ]
      },
      {
       "output_type": "stream",
       "stream": "stdout",
       "text": [
        " \ub9ac\ubdf0\n",
        "\ud0c0\uc774\ub2c8\uc6cc"
       ]
      },
      {
       "output_type": "stream",
       "stream": "stdout",
       "text": [
        " \uc5f0\uc608\n",
        "\ud0c0\uc774\ub2c8\uc6cc"
       ]
      },
      {
       "output_type": "stream",
       "stream": "stdout",
       "text": [
        " \uc74c\uc2dd\n",
        "\ud0c0\uc774\ub2c8\uc6cc"
       ]
      },
      {
       "output_type": "stream",
       "stream": "stdout",
       "text": [
        " \uc2a4\ud3ec\uce20\n",
        "\ud0c0\uc774\ub2c8\uc6cc"
       ]
      },
      {
       "output_type": "stream",
       "stream": "stdout",
       "text": [
        " \uac8c\uc784\n",
        "\ud0c0\uc774\ub2c8\uc6cc"
       ]
      },
      {
       "output_type": "stream",
       "stream": "stdout",
       "text": [
        " \uac74\uac15\n",
        "\ud0c0\uc774\ub2c8\uc6cc"
       ]
      },
      {
       "output_type": "stream",
       "stream": "stdout",
       "text": [
        " \ud559\uc2b5\n",
        "\ud0c0\uc774\ub2c8\uc6cc"
       ]
      },
      {
       "output_type": "stream",
       "stream": "stdout",
       "text": [
        " \ucee4\ubba4\ub2c8\ud2f0\n",
        "\ub85c\ubcf4"
       ]
      },
      {
       "output_type": "stream",
       "stream": "stdout",
       "text": [
        " \ubbf8\uc6a9\n",
        "\ub85c\ubcf4"
       ]
      },
      {
       "output_type": "stream",
       "stream": "stdout",
       "text": [
        " \uc74c\uc545\n",
        "\ub85c\ubcf4"
       ]
      },
      {
       "output_type": "stream",
       "stream": "stdout",
       "text": [
        " \ub9ac\ubdf0\n",
        "\ub85c\ubcf4"
       ]
      },
      {
       "output_type": "stream",
       "stream": "stdout",
       "text": [
        " \uc5f0\uc608\n",
        "\ub85c\ubcf4"
       ]
      },
      {
       "output_type": "stream",
       "stream": "stdout",
       "text": [
        " \uc74c\uc2dd\n",
        "\ub85c\ubcf4"
       ]
      },
      {
       "output_type": "stream",
       "stream": "stdout",
       "text": [
        " \uc2a4\ud3ec\uce20\n",
        "\ub85c\ubcf4"
       ]
      },
      {
       "output_type": "stream",
       "stream": "stdout",
       "text": [
        " \uac8c\uc784\n",
        "\ub85c\ubcf4"
       ]
      },
      {
       "output_type": "stream",
       "stream": "stdout",
       "text": [
        " \uac74\uac15\n",
        "\ub85c\ubcf4"
       ]
      },
      {
       "output_type": "stream",
       "stream": "stdout",
       "text": [
        " \ud559\uc2b5\n",
        "\ub85c\ubcf4"
       ]
      },
      {
       "output_type": "stream",
       "stream": "stdout",
       "text": [
        " \ucee4\ubba4\ub2c8\ud2f0\n",
        "\ud50c\ub808\uc774\uc5b4 \ucd95\uad6c \uc0ac\uc9c4 \ud034\uc988"
       ]
      },
      {
       "output_type": "stream",
       "stream": "stdout",
       "text": [
        " \ubbf8\uc6a9\n",
        "\ud50c\ub808\uc774\uc5b4 \ucd95\uad6c \uc0ac\uc9c4 \ud034\uc988"
       ]
      },
      {
       "output_type": "stream",
       "stream": "stdout",
       "text": [
        " \uc74c\uc545\n",
        "\ud50c\ub808\uc774\uc5b4 \ucd95\uad6c \uc0ac\uc9c4 \ud034\uc988"
       ]
      },
      {
       "output_type": "stream",
       "stream": "stdout",
       "text": [
        " \ub9ac\ubdf0\n",
        "\ud50c\ub808\uc774\uc5b4 \ucd95\uad6c \uc0ac\uc9c4 \ud034\uc988"
       ]
      },
      {
       "output_type": "stream",
       "stream": "stdout",
       "text": [
        " \uc5f0\uc608\n",
        "\ud50c\ub808\uc774\uc5b4 \ucd95\uad6c \uc0ac\uc9c4 \ud034\uc988"
       ]
      },
      {
       "output_type": "stream",
       "stream": "stdout",
       "text": [
        " \uc74c\uc2dd\n",
        "\ud50c\ub808\uc774\uc5b4 \ucd95\uad6c \uc0ac\uc9c4 \ud034\uc988"
       ]
      },
      {
       "output_type": "stream",
       "stream": "stdout",
       "text": [
        " \uc2a4\ud3ec\uce20\n",
        "\ud50c\ub808\uc774\uc5b4 \ucd95\uad6c \uc0ac\uc9c4 \ud034\uc988"
       ]
      },
      {
       "output_type": "stream",
       "stream": "stdout",
       "text": [
        " \uac8c\uc784\n",
        "\ud50c\ub808\uc774\uc5b4 \ucd95\uad6c \uc0ac\uc9c4 \ud034\uc988"
       ]
      },
      {
       "output_type": "stream",
       "stream": "stdout",
       "text": [
        " \uac74\uac15\n",
        "\ud50c\ub808\uc774\uc5b4 \ucd95\uad6c \uc0ac\uc9c4 \ud034\uc988"
       ]
      },
      {
       "output_type": "stream",
       "stream": "stdout",
       "text": [
        " \ud559\uc2b5\n",
        "\ud50c\ub808\uc774\uc5b4 \ucd95\uad6c \uc0ac\uc9c4 \ud034\uc988 \ucee4\ubba4\ub2c8\ud2f0\n",
        "\u2605 3D RPG Heaven Sword \u2605"
       ]
      },
      {
       "output_type": "stream",
       "stream": "stdout",
       "text": [
        " \ubbf8\uc6a9\n",
        "\u2605 3D RPG Heaven Sword \u2605"
       ]
      },
      {
       "output_type": "stream",
       "stream": "stdout",
       "text": [
        " \uc74c\uc545\n",
        "\u2605 3D RPG Heaven Sword \u2605"
       ]
      },
      {
       "output_type": "stream",
       "stream": "stdout",
       "text": [
        " \ub9ac\ubdf0\n",
        "\u2605 3D RPG Heaven Sword \u2605"
       ]
      },
      {
       "output_type": "stream",
       "stream": "stdout",
       "text": [
        " \uc5f0\uc608\n",
        "\u2605 3D RPG Heaven Sword \u2605"
       ]
      },
      {
       "output_type": "stream",
       "stream": "stdout",
       "text": [
        " \uc74c\uc2dd\n",
        "\u2605 3D RPG Heaven Sword \u2605"
       ]
      },
      {
       "output_type": "stream",
       "stream": "stdout",
       "text": [
        " \uc2a4\ud3ec\uce20\n",
        "\u2605 3D RPG Heaven Sword \u2605"
       ]
      },
      {
       "output_type": "stream",
       "stream": "stdout",
       "text": [
        " \uac8c\uc784\n",
        "\u2605 3D RPG Heaven Sword \u2605"
       ]
      },
      {
       "output_type": "stream",
       "stream": "stdout",
       "text": [
        " \uac74\uac15\n",
        "\u2605 3D RPG Heaven Sword \u2605"
       ]
      },
      {
       "output_type": "stream",
       "stream": "stdout",
       "text": [
        " \ud559\uc2b5\n",
        "\u2605 3D RPG Heaven Sword \u2605"
       ]
      },
      {
       "output_type": "stream",
       "stream": "stdout",
       "text": [
        " \ucee4\ubba4\ub2c8\ud2f0\n",
        "If Serie A 2012 - 2013 Lite \ubbf8\uc6a9\n",
        "If Serie A 2012 - 2013 Lite"
       ]
      },
      {
       "output_type": "stream",
       "stream": "stdout",
       "text": [
        " \uc74c\uc545\n",
        "If Serie A 2012 - 2013 Lite"
       ]
      },
      {
       "output_type": "stream",
       "stream": "stdout",
       "text": [
        " \ub9ac\ubdf0\n",
        "If Serie A 2012 - 2013 Lite"
       ]
      },
      {
       "output_type": "stream",
       "stream": "stdout",
       "text": [
        " \uc5f0\uc608\n",
        "If Serie A 2012 - 2013 Lite"
       ]
      },
      {
       "output_type": "stream",
       "stream": "stdout",
       "text": [
        " \uc74c\uc2dd\n",
        "If Serie A 2012 - 2013 Lite"
       ]
      },
      {
       "output_type": "stream",
       "stream": "stdout",
       "text": [
        " \uc2a4\ud3ec\uce20\n",
        "If Serie A 2012 - 2013 Lite"
       ]
      },
      {
       "output_type": "stream",
       "stream": "stdout",
       "text": [
        " \uac8c\uc784\n",
        "If Serie A 2012 - 2013 Lite"
       ]
      },
      {
       "output_type": "stream",
       "stream": "stdout",
       "text": [
        " \uac74\uac15\n",
        "If Serie A 2012 - 2013 Lite"
       ]
      },
      {
       "output_type": "stream",
       "stream": "stdout",
       "text": [
        " \ud559\uc2b5\n",
        "If Serie A 2012 - 2013 Lite"
       ]
      },
      {
       "output_type": "stream",
       "stream": "stdout",
       "text": [
        " \ucee4\ubba4\ub2c8\ud2f0\n",
        "Opzi Bingo"
       ]
      },
      {
       "output_type": "stream",
       "stream": "stdout",
       "text": [
        " \ubbf8\uc6a9\n",
        "Opzi Bingo"
       ]
      },
      {
       "output_type": "stream",
       "stream": "stdout",
       "text": [
        " \uc74c\uc545\n",
        "Opzi Bingo"
       ]
      },
      {
       "output_type": "stream",
       "stream": "stdout",
       "text": [
        " \ub9ac\ubdf0\n",
        "Opzi Bingo"
       ]
      },
      {
       "output_type": "stream",
       "stream": "stdout",
       "text": [
        " \uc5f0\uc608\n",
        "Opzi Bingo"
       ]
      },
      {
       "output_type": "stream",
       "stream": "stdout",
       "text": [
        " \uc74c\uc2dd\n",
        "Opzi Bingo"
       ]
      },
      {
       "output_type": "stream",
       "stream": "stdout",
       "text": [
        " \uc2a4\ud3ec\uce20\n",
        "Opzi Bingo"
       ]
      },
      {
       "output_type": "stream",
       "stream": "stdout",
       "text": [
        " \uac8c\uc784\n",
        "Opzi Bingo"
       ]
      },
      {
       "output_type": "stream",
       "stream": "stdout",
       "text": [
        " \uac74\uac15\n",
        "Opzi Bingo"
       ]
      },
      {
       "output_type": "stream",
       "stream": "stdout",
       "text": [
        " \ud559\uc2b5\n",
        "Opzi Bingo"
       ]
      },
      {
       "output_type": "stream",
       "stream": "stdout",
       "text": [
        " \ucee4\ubba4\ub2c8\ud2f0\n",
        "Tap Play"
       ]
      },
      {
       "output_type": "stream",
       "stream": "stdout",
       "text": [
        " \ubbf8\uc6a9\n",
        "Tap Play"
       ]
      },
      {
       "output_type": "stream",
       "stream": "stdout",
       "text": [
        " \uc74c\uc545\n",
        "Tap Play"
       ]
      },
      {
       "output_type": "stream",
       "stream": "stdout",
       "text": [
        " \ub9ac\ubdf0\n",
        "Tap Play"
       ]
      },
      {
       "output_type": "stream",
       "stream": "stdout",
       "text": [
        " \uc5f0\uc608\n",
        "Tap Play"
       ]
      },
      {
       "output_type": "stream",
       "stream": "stdout",
       "text": [
        " \uc74c\uc2dd\n",
        "Tap Play"
       ]
      },
      {
       "output_type": "stream",
       "stream": "stdout",
       "text": [
        " \uc2a4\ud3ec\uce20\n",
        "Tap Play"
       ]
      },
      {
       "output_type": "stream",
       "stream": "stdout",
       "text": [
        " \uac8c\uc784\n",
        "Tap Play \uac74\uac15\n",
        "Tap Play"
       ]
      },
      {
       "output_type": "stream",
       "stream": "stdout",
       "text": [
        " \ud559\uc2b5\n",
        "Tap Play"
       ]
      },
      {
       "output_type": "stream",
       "stream": "stdout",
       "text": [
        " \ucee4\ubba4\ub2c8\ud2f0\n",
        "Sweet Ring Shop \ubbf8\uc6a9\n",
        "Sweet Ring Shop"
       ]
      },
      {
       "output_type": "stream",
       "stream": "stdout",
       "text": [
        " \uc74c\uc545\n",
        "Sweet Ring Shop"
       ]
      },
      {
       "output_type": "stream",
       "stream": "stdout",
       "text": [
        " \ub9ac\ubdf0\n",
        "Sweet Ring Shop \uc5f0\uc608\n",
        "Sweet Ring Shop"
       ]
      },
      {
       "output_type": "stream",
       "stream": "stdout",
       "text": [
        " \uc74c\uc2dd\n",
        "Sweet Ring Shop"
       ]
      },
      {
       "output_type": "stream",
       "stream": "stdout",
       "text": [
        " \uc2a4\ud3ec\uce20\n",
        "Sweet Ring Shop"
       ]
      },
      {
       "output_type": "stream",
       "stream": "stdout",
       "text": [
        " \uac8c\uc784\n",
        "Sweet Ring Shop"
       ]
      },
      {
       "output_type": "stream",
       "stream": "stdout",
       "text": [
        " \uac74\uac15\n",
        "Sweet Ring Shop"
       ]
      },
      {
       "output_type": "stream",
       "stream": "stdout",
       "text": [
        " \ud559\uc2b5\n",
        "Sweet Ring Shop"
       ]
      },
      {
       "output_type": "stream",
       "stream": "stdout",
       "text": [
        " \ucee4\ubba4\ub2c8\ud2f0\n",
        "Love Quote Pics for Facebook"
       ]
      },
      {
       "output_type": "stream",
       "stream": "stdout",
       "text": [
        " \ubbf8\uc6a9\n",
        "Love Quote Pics for Facebook"
       ]
      },
      {
       "output_type": "stream",
       "stream": "stdout",
       "text": [
        " \uc74c\uc545\n",
        "Love Quote Pics for Facebook"
       ]
      },
      {
       "output_type": "stream",
       "stream": "stdout",
       "text": [
        " \ub9ac\ubdf0\n",
        "Love Quote Pics for Facebook"
       ]
      },
      {
       "output_type": "stream",
       "stream": "stdout",
       "text": [
        " \uc5f0\uc608\n",
        "Love Quote Pics for Facebook"
       ]
      },
      {
       "output_type": "stream",
       "stream": "stdout",
       "text": [
        " \uc74c\uc2dd\n",
        "Love Quote Pics for Facebook"
       ]
      },
      {
       "output_type": "stream",
       "stream": "stdout",
       "text": [
        " \uc2a4\ud3ec\uce20\n",
        "Love Quote Pics for Facebook"
       ]
      },
      {
       "output_type": "stream",
       "stream": "stdout",
       "text": [
        " \uac8c\uc784\n",
        "Love Quote Pics for Facebook"
       ]
      },
      {
       "output_type": "stream",
       "stream": "stdout",
       "text": [
        " \uac74\uac15\n",
        "Love Quote Pics for Facebook"
       ]
      },
      {
       "output_type": "stream",
       "stream": "stdout",
       "text": [
        " \ud559\uc2b5\n",
        "Love Quote Pics for Facebook \ucee4\ubba4\ub2c8\ud2f0\n",
        "\uce74\uc624\uc2a4\uc601\uc6c5\uc804"
       ]
      },
      {
       "output_type": "stream",
       "stream": "stdout",
       "text": [
        " \ubbf8\uc6a9\n",
        "\uce74\uc624\uc2a4\uc601\uc6c5\uc804"
       ]
      },
      {
       "output_type": "stream",
       "stream": "stdout",
       "text": [
        " \uc74c\uc545\n",
        "\uce74\uc624\uc2a4\uc601\uc6c5\uc804"
       ]
      },
      {
       "output_type": "stream",
       "stream": "stdout",
       "text": [
        " \ub9ac\ubdf0\n",
        "\uce74\uc624\uc2a4\uc601\uc6c5\uc804"
       ]
      },
      {
       "output_type": "stream",
       "stream": "stdout",
       "text": [
        " \uc5f0\uc608\n",
        "\uce74\uc624\uc2a4\uc601\uc6c5\uc804"
       ]
      },
      {
       "output_type": "stream",
       "stream": "stdout",
       "text": [
        " \uc74c\uc2dd\n",
        "\uce74\uc624\uc2a4\uc601\uc6c5\uc804"
       ]
      },
      {
       "output_type": "stream",
       "stream": "stdout",
       "text": [
        " \uc2a4\ud3ec\uce20\n",
        "\uce74\uc624\uc2a4\uc601\uc6c5\uc804"
       ]
      },
      {
       "output_type": "stream",
       "stream": "stdout",
       "text": [
        " \uac8c\uc784\n",
        "\uce74\uc624\uc2a4\uc601\uc6c5\uc804"
       ]
      },
      {
       "output_type": "stream",
       "stream": "stdout",
       "text": [
        " \uac74\uac15\n",
        "\uce74\uc624\uc2a4\uc601\uc6c5\uc804"
       ]
      },
      {
       "output_type": "stream",
       "stream": "stdout",
       "text": [
        " \ud559\uc2b5\n",
        "\uce74\uc624\uc2a4\uc601\uc6c5\uc804 \ucee4\ubba4\ub2c8\ud2f0\n",
        "\uc880\ube44 \uc3f4"
       ]
      },
      {
       "output_type": "stream",
       "stream": "stdout",
       "text": [
        " \ubbf8\uc6a9\n",
        "\uc880\ube44 \uc3f4"
       ]
      },
      {
       "output_type": "stream",
       "stream": "stdout",
       "text": [
        " \uc74c\uc545\n",
        "\uc880\ube44 \uc3f4"
       ]
      },
      {
       "output_type": "stream",
       "stream": "stdout",
       "text": [
        " \ub9ac\ubdf0\n",
        "\uc880\ube44 \uc3f4 \uc5f0\uc608\n",
        "\uc880\ube44 \uc3f4"
       ]
      },
      {
       "output_type": "stream",
       "stream": "stdout",
       "text": [
        " \uc74c\uc2dd\n",
        "\uc880\ube44 \uc3f4 \uc2a4\ud3ec\uce20\n",
        "\uc880\ube44 \uc3f4"
       ]
      },
      {
       "output_type": "stream",
       "stream": "stdout",
       "text": [
        " \uac8c\uc784\n",
        "\uc880\ube44 \uc3f4 \uac74\uac15\n",
        "\uc880\ube44 \uc3f4"
       ]
      },
      {
       "output_type": "stream",
       "stream": "stdout",
       "text": [
        " \ud559\uc2b5\n",
        "\uc880\ube44 \uc3f4"
       ]
      },
      {
       "output_type": "stream",
       "stream": "stdout",
       "text": [
        " \ucee4\ubba4\ub2c8\ud2f0\n",
        "\ubaac\uc2a4\ud130 \ucf54\uc778"
       ]
      },
      {
       "output_type": "stream",
       "stream": "stdout",
       "text": [
        " \ubbf8\uc6a9\n",
        "\ubaac\uc2a4\ud130 \ucf54\uc778"
       ]
      },
      {
       "output_type": "stream",
       "stream": "stdout",
       "text": [
        " \uc74c\uc545\n",
        "\ubaac\uc2a4\ud130 \ucf54\uc778"
       ]
      },
      {
       "output_type": "stream",
       "stream": "stdout",
       "text": [
        " \ub9ac\ubdf0\n",
        "\ubaac\uc2a4\ud130 \ucf54\uc778"
       ]
      },
      {
       "output_type": "stream",
       "stream": "stdout",
       "text": [
        " \uc5f0\uc608\n",
        "\ubaac\uc2a4\ud130 \ucf54\uc778"
       ]
      },
      {
       "output_type": "stream",
       "stream": "stdout",
       "text": [
        " \uc74c\uc2dd\n",
        "\ubaac\uc2a4\ud130 \ucf54\uc778"
       ]
      },
      {
       "output_type": "stream",
       "stream": "stdout",
       "text": [
        " \uc2a4\ud3ec\uce20\n",
        "\ubaac\uc2a4\ud130 \ucf54\uc778"
       ]
      },
      {
       "output_type": "stream",
       "stream": "stdout",
       "text": [
        " \uac8c\uc784\n",
        "\ubaac\uc2a4\ud130 \ucf54\uc778"
       ]
      },
      {
       "output_type": "stream",
       "stream": "stdout",
       "text": [
        " \uac74\uac15\n",
        "\ubaac\uc2a4\ud130 \ucf54\uc778 \ud559\uc2b5\n",
        "\ubaac\uc2a4\ud130 \ucf54\uc778"
       ]
      },
      {
       "output_type": "stream",
       "stream": "stdout",
       "text": [
        " \ucee4\ubba4\ub2c8\ud2f0\n",
        "OctoCheck \ubbf8\uc6a9\n",
        "OctoCheck"
       ]
      },
      {
       "output_type": "stream",
       "stream": "stdout",
       "text": [
        " \uc74c\uc545\n",
        "OctoCheck"
       ]
      },
      {
       "output_type": "stream",
       "stream": "stdout",
       "text": [
        " \ub9ac\ubdf0\n",
        "OctoCheck"
       ]
      },
      {
       "output_type": "stream",
       "stream": "stdout",
       "text": [
        " \uc5f0\uc608\n",
        "OctoCheck \uc74c\uc2dd\n",
        "OctoCheck"
       ]
      },
      {
       "output_type": "stream",
       "stream": "stdout",
       "text": [
        " \uc2a4\ud3ec\uce20\n",
        "OctoCheck"
       ]
      },
      {
       "output_type": "stream",
       "stream": "stdout",
       "text": [
        " \uac8c\uc784\n",
        "OctoCheck"
       ]
      },
      {
       "output_type": "stream",
       "stream": "stdout",
       "text": [
        " \uac74\uac15\n",
        "OctoCheck"
       ]
      },
      {
       "output_type": "stream",
       "stream": "stdout",
       "text": [
        " \ud559\uc2b5\n",
        "OctoCheck"
       ]
      },
      {
       "output_type": "stream",
       "stream": "stdout",
       "text": [
        " \ucee4\ubba4\ub2c8\ud2f0\n",
        "\u7ec8\u6781\u5854\u9632"
       ]
      },
      {
       "output_type": "stream",
       "stream": "stdout",
       "text": [
        " \ubbf8\uc6a9\n",
        "\u7ec8\u6781\u5854\u9632"
       ]
      },
      {
       "output_type": "stream",
       "stream": "stdout",
       "text": [
        " \uc74c\uc545\n",
        "\u7ec8\u6781\u5854\u9632"
       ]
      },
      {
       "output_type": "stream",
       "stream": "stdout",
       "text": [
        " \ub9ac\ubdf0\n",
        "\u7ec8\u6781\u5854\u9632"
       ]
      },
      {
       "output_type": "stream",
       "stream": "stdout",
       "text": [
        " \uc5f0\uc608\n",
        "\u7ec8\u6781\u5854\u9632"
       ]
      },
      {
       "output_type": "stream",
       "stream": "stdout",
       "text": [
        " \uc74c\uc2dd\n",
        "\u7ec8\u6781\u5854\u9632"
       ]
      },
      {
       "output_type": "stream",
       "stream": "stdout",
       "text": [
        " \uc2a4\ud3ec\uce20\n",
        "\u7ec8\u6781\u5854\u9632"
       ]
      },
      {
       "output_type": "stream",
       "stream": "stdout",
       "text": [
        " \uac8c\uc784\n",
        "\u7ec8\u6781\u5854\u9632"
       ]
      },
      {
       "output_type": "stream",
       "stream": "stdout",
       "text": [
        " \uac74\uac15\n",
        "\u7ec8\u6781\u5854\u9632"
       ]
      },
      {
       "output_type": "stream",
       "stream": "stdout",
       "text": [
        " \ud559\uc2b5\n",
        "\u7ec8\u6781\u5854\u9632"
       ]
      },
      {
       "output_type": "stream",
       "stream": "stdout",
       "text": [
        " \ucee4\ubba4\ub2c8\ud2f0\n",
        "\uc5ec\uc790\ub97c\uc704\ud55c \uba4b\uc9c4 \uac8c\uc784"
       ]
      },
      {
       "output_type": "stream",
       "stream": "stdout",
       "text": [
        " \ubbf8\uc6a9\n",
        "\uc5ec\uc790\ub97c\uc704\ud55c \uba4b\uc9c4 \uac8c\uc784"
       ]
      },
      {
       "output_type": "stream",
       "stream": "stdout",
       "text": [
        " \uc74c\uc545\n",
        "\uc5ec\uc790\ub97c\uc704\ud55c \uba4b\uc9c4 \uac8c\uc784"
       ]
      },
      {
       "output_type": "stream",
       "stream": "stdout",
       "text": [
        " \ub9ac\ubdf0\n",
        "\uc5ec\uc790\ub97c\uc704\ud55c \uba4b\uc9c4 \uac8c\uc784"
       ]
      },
      {
       "output_type": "stream",
       "stream": "stdout",
       "text": [
        " \uc5f0\uc608\n",
        "\uc5ec\uc790\ub97c\uc704\ud55c \uba4b\uc9c4 \uac8c\uc784"
       ]
      },
      {
       "output_type": "stream",
       "stream": "stdout",
       "text": [
        " \uc74c\uc2dd\n",
        "\uc5ec\uc790\ub97c\uc704\ud55c \uba4b\uc9c4 \uac8c\uc784"
       ]
      },
      {
       "output_type": "stream",
       "stream": "stdout",
       "text": [
        " \uc2a4\ud3ec\uce20\n",
        "\uc5ec\uc790\ub97c\uc704\ud55c \uba4b\uc9c4 \uac8c\uc784"
       ]
      },
      {
       "output_type": "stream",
       "stream": "stdout",
       "text": [
        " \uac8c\uc784\n",
        "\uc5ec\uc790\ub97c\uc704\ud55c \uba4b\uc9c4 \uac8c\uc784"
       ]
      },
      {
       "output_type": "stream",
       "stream": "stdout",
       "text": [
        " \uac74\uac15\n",
        "\uc5ec\uc790\ub97c\uc704\ud55c \uba4b\uc9c4 \uac8c\uc784"
       ]
      },
      {
       "output_type": "stream",
       "stream": "stdout",
       "text": [
        " \ud559\uc2b5\n",
        "\uc5ec\uc790\ub97c\uc704\ud55c \uba4b\uc9c4 \uac8c\uc784"
       ]
      },
      {
       "output_type": "stream",
       "stream": "stdout",
       "text": [
        " \ucee4\ubba4\ub2c8\ud2f0\n",
        "Top Shooter"
       ]
      },
      {
       "output_type": "stream",
       "stream": "stdout",
       "text": [
        " \ubbf8\uc6a9\n",
        "Top Shooter \uc74c\uc545\n",
        "Top Shooter"
       ]
      },
      {
       "output_type": "stream",
       "stream": "stdout",
       "text": [
        " \ub9ac\ubdf0\n",
        "Top Shooter \uc5f0\uc608\n",
        "Top Shooter"
       ]
      },
      {
       "output_type": "stream",
       "stream": "stdout",
       "text": [
        " \uc74c\uc2dd\n",
        "Top Shooter"
       ]
      },
      {
       "output_type": "stream",
       "stream": "stdout",
       "text": [
        " \uc2a4\ud3ec\uce20\n",
        "Top Shooter"
       ]
      },
      {
       "output_type": "stream",
       "stream": "stdout",
       "text": [
        " \uac8c\uc784\n",
        "Top Shooter \uac74\uac15\n",
        "Top Shooter"
       ]
      },
      {
       "output_type": "stream",
       "stream": "stdout",
       "text": [
        " \ud559\uc2b5\n",
        "Top Shooter"
       ]
      },
      {
       "output_type": "stream",
       "stream": "stdout",
       "text": [
        " \ucee4\ubba4\ub2c8\ud2f0\n",
        "Line Super Runner"
       ]
      },
      {
       "output_type": "stream",
       "stream": "stdout",
       "text": [
        " \ubbf8\uc6a9\n",
        "Line Super Runner"
       ]
      },
      {
       "output_type": "stream",
       "stream": "stdout",
       "text": [
        " \uc74c\uc545\n",
        "Line Super Runner \ub9ac\ubdf0\n",
        "Line Super Runner"
       ]
      },
      {
       "output_type": "stream",
       "stream": "stdout",
       "text": [
        " \uc5f0\uc608\n",
        "Line Super Runner \uc74c\uc2dd\n",
        "Line Super Runner"
       ]
      },
      {
       "output_type": "stream",
       "stream": "stdout",
       "text": [
        " \uc2a4\ud3ec\uce20\n",
        "Line Super Runner"
       ]
      },
      {
       "output_type": "stream",
       "stream": "stdout",
       "text": [
        " \uac8c\uc784\n",
        "Line Super Runner \uac74\uac15\n",
        "Line Super Runner"
       ]
      },
      {
       "output_type": "stream",
       "stream": "stdout",
       "text": [
        " \ud559\uc2b5\n",
        "Line Super Runner \ucee4\ubba4\ub2c8\ud2f0\n",
        "\u010cT24"
       ]
      },
      {
       "output_type": "stream",
       "stream": "stdout",
       "text": [
        " \ubbf8\uc6a9\n",
        "\u010cT24"
       ]
      },
      {
       "output_type": "stream",
       "stream": "stdout",
       "text": [
        " \uc74c\uc545\n",
        "\u010cT24"
       ]
      },
      {
       "output_type": "stream",
       "stream": "stdout",
       "text": [
        " \ub9ac\ubdf0\n",
        "\u010cT24"
       ]
      },
      {
       "output_type": "stream",
       "stream": "stdout",
       "text": [
        " \uc5f0\uc608\n",
        "\u010cT24"
       ]
      },
      {
       "output_type": "stream",
       "stream": "stdout",
       "text": [
        " \uc74c\uc2dd\n",
        "\u010cT24"
       ]
      },
      {
       "output_type": "stream",
       "stream": "stdout",
       "text": [
        " \uc2a4\ud3ec\uce20\n",
        "\u010cT24"
       ]
      },
      {
       "output_type": "stream",
       "stream": "stdout",
       "text": [
        " \uac8c\uc784\n",
        "\u010cT24"
       ]
      },
      {
       "output_type": "stream",
       "stream": "stdout",
       "text": [
        " \uac74\uac15\n",
        "\u010cT24"
       ]
      },
      {
       "output_type": "stream",
       "stream": "stdout",
       "text": [
        " \ud559\uc2b5\n",
        "\u010cT24"
       ]
      },
      {
       "output_type": "stream",
       "stream": "stdout",
       "text": [
        " \ucee4\ubba4\ub2c8\ud2f0\n",
        "\ub2e4\ud568\uaed8 \ud401\ud401\ud401 \uac00\uc9dc \ubc1c\ub3c4\uc7a5 100\uac1c (\ud401\ud401\ud401 \ucee4\ubba4\ub2c8\ud2f0)"
       ]
      },
      {
       "output_type": "stream",
       "stream": "stdout",
       "text": [
        " \ubbf8\uc6a9\n",
        "\ub2e4\ud568\uaed8 \ud401\ud401\ud401 \uac00\uc9dc \ubc1c\ub3c4\uc7a5 100\uac1c (\ud401\ud401\ud401 \ucee4\ubba4\ub2c8\ud2f0)"
       ]
      },
      {
       "output_type": "stream",
       "stream": "stdout",
       "text": [
        " \uc74c\uc545\n",
        "\ub2e4\ud568\uaed8 \ud401\ud401\ud401 \uac00\uc9dc \ubc1c\ub3c4\uc7a5 100\uac1c (\ud401\ud401\ud401 \ucee4\ubba4\ub2c8\ud2f0)"
       ]
      },
      {
       "output_type": "stream",
       "stream": "stdout",
       "text": [
        " \ub9ac\ubdf0\n",
        "\ub2e4\ud568\uaed8 \ud401\ud401\ud401 \uac00\uc9dc \ubc1c\ub3c4\uc7a5 100\uac1c (\ud401\ud401\ud401 \ucee4\ubba4\ub2c8\ud2f0) \uc5f0\uc608\n",
        "\ub2e4\ud568\uaed8 \ud401\ud401\ud401 \uac00\uc9dc \ubc1c\ub3c4\uc7a5 100\uac1c (\ud401\ud401\ud401 \ucee4\ubba4\ub2c8\ud2f0)"
       ]
      },
      {
       "output_type": "stream",
       "stream": "stdout",
       "text": [
        " \uc74c\uc2dd\n",
        "\ub2e4\ud568\uaed8 \ud401\ud401\ud401 \uac00\uc9dc \ubc1c\ub3c4\uc7a5 100\uac1c (\ud401\ud401\ud401 \ucee4\ubba4\ub2c8\ud2f0)"
       ]
      },
      {
       "output_type": "stream",
       "stream": "stdout",
       "text": [
        " \uc2a4\ud3ec\uce20\n",
        "\ub2e4\ud568\uaed8 \ud401\ud401\ud401 \uac00\uc9dc \ubc1c\ub3c4\uc7a5 100\uac1c (\ud401\ud401\ud401 \ucee4\ubba4\ub2c8\ud2f0)"
       ]
      },
      {
       "output_type": "stream",
       "stream": "stdout",
       "text": [
        " \uac8c\uc784\n",
        "\ub2e4\ud568\uaed8 \ud401\ud401\ud401 \uac00\uc9dc \ubc1c\ub3c4\uc7a5 100\uac1c (\ud401\ud401\ud401 \ucee4\ubba4\ub2c8\ud2f0)"
       ]
      },
      {
       "output_type": "stream",
       "stream": "stdout",
       "text": [
        " \uac74\uac15\n",
        "\ub2e4\ud568\uaed8 \ud401\ud401\ud401 \uac00\uc9dc \ubc1c\ub3c4\uc7a5 100\uac1c (\ud401\ud401\ud401 \ucee4\ubba4\ub2c8\ud2f0)"
       ]
      },
      {
       "output_type": "stream",
       "stream": "stdout",
       "text": [
        " \ud559\uc2b5\n",
        "\ub2e4\ud568\uaed8 \ud401\ud401\ud401 \uac00\uc9dc \ubc1c\ub3c4\uc7a5 100\uac1c (\ud401\ud401\ud401 \ucee4\ubba4\ub2c8\ud2f0)"
       ]
      },
      {
       "output_type": "stream",
       "stream": "stdout",
       "text": [
        " \ucee4\ubba4\ub2c8\ud2f0\n",
        "\uc885\uc774\uc811\uae30 \ubbf8\uc6a9\n",
        "\uc885\uc774\uc811\uae30"
       ]
      },
      {
       "output_type": "stream",
       "stream": "stdout",
       "text": [
        " \uc74c\uc545\n",
        "\uc885\uc774\uc811\uae30"
       ]
      },
      {
       "output_type": "stream",
       "stream": "stdout",
       "text": [
        " \ub9ac\ubdf0\n",
        "\uc885\uc774\uc811\uae30"
       ]
      },
      {
       "output_type": "stream",
       "stream": "stdout",
       "text": [
        " \uc5f0\uc608\n",
        "\uc885\uc774\uc811\uae30"
       ]
      },
      {
       "output_type": "stream",
       "stream": "stdout",
       "text": [
        " \uc74c\uc2dd\n",
        "\uc885\uc774\uc811\uae30"
       ]
      },
      {
       "output_type": "stream",
       "stream": "stdout",
       "text": [
        " \uc2a4\ud3ec\uce20\n",
        "\uc885\uc774\uc811\uae30"
       ]
      },
      {
       "output_type": "stream",
       "stream": "stdout",
       "text": [
        " \uac8c\uc784\n",
        "\uc885\uc774\uc811\uae30"
       ]
      },
      {
       "output_type": "stream",
       "stream": "stdout",
       "text": [
        " \uac74\uac15\n",
        "\uc885\uc774\uc811\uae30"
       ]
      },
      {
       "output_type": "stream",
       "stream": "stdout",
       "text": [
        " \ud559\uc2b5\n",
        "\uc885\uc774\uc811\uae30"
       ]
      },
      {
       "output_type": "stream",
       "stream": "stdout",
       "text": [
        " \ucee4\ubba4\ub2c8\ud2f0\n",
        "Assault Force"
       ]
      },
      {
       "output_type": "stream",
       "stream": "stdout",
       "text": [
        " \ubbf8\uc6a9\n",
        "Assault Force"
       ]
      },
      {
       "output_type": "stream",
       "stream": "stdout",
       "text": [
        " \uc74c\uc545\n",
        "Assault Force"
       ]
      },
      {
       "output_type": "stream",
       "stream": "stdout",
       "text": [
        " \ub9ac\ubdf0\n",
        "Assault Force"
       ]
      },
      {
       "output_type": "stream",
       "stream": "stdout",
       "text": [
        " \uc5f0\uc608\n",
        "Assault Force"
       ]
      },
      {
       "output_type": "stream",
       "stream": "stdout",
       "text": [
        " \uc74c\uc2dd\n",
        "Assault Force"
       ]
      },
      {
       "output_type": "stream",
       "stream": "stdout",
       "text": [
        " \uc2a4\ud3ec\uce20\n",
        "Assault Force"
       ]
      },
      {
       "output_type": "stream",
       "stream": "stdout",
       "text": [
        " \uac8c\uc784\n",
        "Assault Force \uac74\uac15\n",
        "Assault Force"
       ]
      },
      {
       "output_type": "stream",
       "stream": "stdout",
       "text": [
        " \ud559\uc2b5\n",
        "Assault Force"
       ]
      },
      {
       "output_type": "stream",
       "stream": "stdout",
       "text": [
        " \ucee4\ubba4\ub2c8\ud2f0\n",
        "\ud0a4\uc704\ub7f0! \ubbf8\uc6a9\n",
        "\ud0a4\uc704\ub7f0!"
       ]
      },
      {
       "output_type": "stream",
       "stream": "stdout",
       "text": [
        " \uc74c\uc545\n",
        "\ud0a4\uc704\ub7f0!"
       ]
      },
      {
       "output_type": "stream",
       "stream": "stdout",
       "text": [
        " \ub9ac\ubdf0\n",
        "\ud0a4\uc704\ub7f0!"
       ]
      },
      {
       "output_type": "stream",
       "stream": "stdout",
       "text": [
        " \uc5f0\uc608\n",
        "\ud0a4\uc704\ub7f0!"
       ]
      },
      {
       "output_type": "stream",
       "stream": "stdout",
       "text": [
        " \uc74c\uc2dd\n",
        "\ud0a4\uc704\ub7f0!"
       ]
      },
      {
       "output_type": "stream",
       "stream": "stdout",
       "text": [
        " \uc2a4\ud3ec\uce20\n",
        "\ud0a4\uc704\ub7f0!"
       ]
      },
      {
       "output_type": "stream",
       "stream": "stdout",
       "text": [
        " \uac8c\uc784\n",
        "\ud0a4\uc704\ub7f0!"
       ]
      },
      {
       "output_type": "stream",
       "stream": "stdout",
       "text": [
        " \uac74\uac15\n",
        "\ud0a4\uc704\ub7f0!"
       ]
      },
      {
       "output_type": "stream",
       "stream": "stdout",
       "text": [
        " \ud559\uc2b5\n",
        "\ud0a4\uc704\ub7f0!"
       ]
      },
      {
       "output_type": "stream",
       "stream": "stdout",
       "text": [
        " \ucee4\ubba4\ub2c8\ud2f0\n",
        "\u738b\u54c1\u9910\u98f2\u975e\u5b98\u65b9APP(\u53f0\u5851\u725b\u6392,\u590f\u6155\u5c3c,\u539f\u71d2,\u897f\u5824,\u7b49\u9910\u5ef3)"
       ]
      },
      {
       "output_type": "stream",
       "stream": "stdout",
       "text": [
        " \ubbf8\uc6a9\n",
        "\u738b\u54c1\u9910\u98f2\u975e\u5b98\u65b9APP(\u53f0\u5851\u725b\u6392,\u590f\u6155\u5c3c,\u539f\u71d2,\u897f\u5824,\u7b49\u9910\u5ef3)"
       ]
      },
      {
       "output_type": "stream",
       "stream": "stdout",
       "text": [
        " \uc74c\uc545\n",
        "\u738b\u54c1\u9910\u98f2\u975e\u5b98\u65b9APP(\u53f0\u5851\u725b\u6392,\u590f\u6155\u5c3c,\u539f\u71d2,\u897f\u5824,\u7b49\u9910\u5ef3)"
       ]
      },
      {
       "output_type": "stream",
       "stream": "stdout",
       "text": [
        " \ub9ac\ubdf0\n",
        "\u738b\u54c1\u9910\u98f2\u975e\u5b98\u65b9APP(\u53f0\u5851\u725b\u6392,\u590f\u6155\u5c3c,\u539f\u71d2,\u897f\u5824,\u7b49\u9910\u5ef3)"
       ]
      },
      {
       "output_type": "stream",
       "stream": "stdout",
       "text": [
        " \uc5f0\uc608\n",
        "\u738b\u54c1\u9910\u98f2\u975e\u5b98\u65b9APP(\u53f0\u5851\u725b\u6392,\u590f\u6155\u5c3c,\u539f\u71d2,\u897f\u5824,\u7b49\u9910\u5ef3)"
       ]
      },
      {
       "output_type": "stream",
       "stream": "stdout",
       "text": [
        " \uc74c\uc2dd\n",
        "\u738b\u54c1\u9910\u98f2\u975e\u5b98\u65b9APP(\u53f0\u5851\u725b\u6392,\u590f\u6155\u5c3c,\u539f\u71d2,\u897f\u5824,\u7b49\u9910\u5ef3)"
       ]
      },
      {
       "output_type": "stream",
       "stream": "stdout",
       "text": [
        " \uc2a4\ud3ec\uce20\n",
        "\u738b\u54c1\u9910\u98f2\u975e\u5b98\u65b9APP(\u53f0\u5851\u725b\u6392,\u590f\u6155\u5c3c,\u539f\u71d2,\u897f\u5824,\u7b49\u9910\u5ef3)"
       ]
      },
      {
       "output_type": "stream",
       "stream": "stdout",
       "text": [
        " \uac8c\uc784\n",
        "\u738b\u54c1\u9910\u98f2\u975e\u5b98\u65b9APP(\u53f0\u5851\u725b\u6392,\u590f\u6155\u5c3c,\u539f\u71d2,\u897f\u5824,\u7b49\u9910\u5ef3)"
       ]
      },
      {
       "output_type": "stream",
       "stream": "stdout",
       "text": [
        " \uac74\uac15\n",
        "\u738b\u54c1\u9910\u98f2\u975e\u5b98\u65b9APP(\u53f0\u5851\u725b\u6392,\u590f\u6155\u5c3c,\u539f\u71d2,\u897f\u5824,\u7b49\u9910\u5ef3)"
       ]
      },
      {
       "output_type": "stream",
       "stream": "stdout",
       "text": [
        " \ud559\uc2b5\n",
        "\u738b\u54c1\u9910\u98f2\u975e\u5b98\u65b9APP(\u53f0\u5851\u725b\u6392,\u590f\u6155\u5c3c,\u539f\u71d2,\u897f\u5824,\u7b49\u9910\u5ef3)"
       ]
      },
      {
       "output_type": "stream",
       "stream": "stdout",
       "text": [
        " \ucee4\ubba4\ub2c8\ud2f0\n",
        "[FREE]\ub7ec\ube0c\ub7ec\ube0c\ud3ab\ud0c0\uc774\ucfe4"
       ]
      },
      {
       "output_type": "stream",
       "stream": "stdout",
       "text": [
        " \ubbf8\uc6a9\n",
        "[FREE]\ub7ec\ube0c\ub7ec\ube0c\ud3ab\ud0c0\uc774\ucfe4"
       ]
      },
      {
       "output_type": "stream",
       "stream": "stdout",
       "text": [
        " \uc74c\uc545\n",
        "[FREE]\ub7ec\ube0c\ub7ec\ube0c\ud3ab\ud0c0\uc774\ucfe4"
       ]
      },
      {
       "output_type": "stream",
       "stream": "stdout",
       "text": [
        " \ub9ac\ubdf0\n",
        "[FREE]\ub7ec\ube0c\ub7ec\ube0c\ud3ab\ud0c0\uc774\ucfe4"
       ]
      },
      {
       "output_type": "stream",
       "stream": "stdout",
       "text": [
        " \uc5f0\uc608\n",
        "[FREE]\ub7ec\ube0c\ub7ec\ube0c\ud3ab\ud0c0\uc774\ucfe4"
       ]
      },
      {
       "output_type": "stream",
       "stream": "stdout",
       "text": [
        " \uc74c\uc2dd\n",
        "[FREE]\ub7ec\ube0c\ub7ec\ube0c\ud3ab\ud0c0\uc774\ucfe4"
       ]
      },
      {
       "output_type": "stream",
       "stream": "stdout",
       "text": [
        " \uc2a4\ud3ec\uce20\n",
        "[FREE]\ub7ec\ube0c\ub7ec\ube0c\ud3ab\ud0c0\uc774\ucfe4"
       ]
      },
      {
       "output_type": "stream",
       "stream": "stdout",
       "text": [
        " \uac8c\uc784\n",
        "[FREE]\ub7ec\ube0c\ub7ec\ube0c\ud3ab\ud0c0\uc774\ucfe4"
       ]
      },
      {
       "output_type": "stream",
       "stream": "stdout",
       "text": [
        " \uac74\uac15\n",
        "[FREE]\ub7ec\ube0c\ub7ec\ube0c\ud3ab\ud0c0\uc774\ucfe4"
       ]
      },
      {
       "output_type": "stream",
       "stream": "stdout",
       "text": [
        " \ud559\uc2b5\n",
        "[FREE]\ub7ec\ube0c\ub7ec\ube0c\ud3ab\ud0c0\uc774\ucfe4"
       ]
      },
      {
       "output_type": "stream",
       "stream": "stdout",
       "text": [
        " \ucee4\ubba4\ub2c8\ud2f0\n",
        "\ucfe0\ud0a4\ub7f0 \ub300\ud45c \ucee4\ubba4\ub2c8\ud2f0 (\uac8c\uc784\ucfe1)"
       ]
      },
      {
       "output_type": "stream",
       "stream": "stdout",
       "text": [
        " \ubbf8\uc6a9\n",
        "\ucfe0\ud0a4\ub7f0 \ub300\ud45c \ucee4\ubba4\ub2c8\ud2f0 (\uac8c\uc784\ucfe1)"
       ]
      },
      {
       "output_type": "stream",
       "stream": "stdout",
       "text": [
        " \uc74c\uc545\n",
        "\ucfe0\ud0a4\ub7f0 \ub300\ud45c \ucee4\ubba4\ub2c8\ud2f0 (\uac8c\uc784\ucfe1) \ub9ac\ubdf0\n",
        "\ucfe0\ud0a4\ub7f0 \ub300\ud45c \ucee4\ubba4\ub2c8\ud2f0 (\uac8c\uc784\ucfe1)"
       ]
      },
      {
       "output_type": "stream",
       "stream": "stdout",
       "text": [
        " \uc5f0\uc608\n",
        "\ucfe0\ud0a4\ub7f0 \ub300\ud45c \ucee4\ubba4\ub2c8\ud2f0 (\uac8c\uc784\ucfe1)"
       ]
      },
      {
       "output_type": "stream",
       "stream": "stdout",
       "text": [
        " \uc74c\uc2dd\n",
        "\ucfe0\ud0a4\ub7f0 \ub300\ud45c \ucee4\ubba4\ub2c8\ud2f0 (\uac8c\uc784\ucfe1)"
       ]
      },
      {
       "output_type": "stream",
       "stream": "stdout",
       "text": [
        " \uc2a4\ud3ec\uce20\n",
        "\ucfe0\ud0a4\ub7f0 \ub300\ud45c \ucee4\ubba4\ub2c8\ud2f0 (\uac8c\uc784\ucfe1) \uac8c\uc784\n",
        "\ucfe0\ud0a4\ub7f0 \ub300\ud45c \ucee4\ubba4\ub2c8\ud2f0 (\uac8c\uc784\ucfe1)"
       ]
      },
      {
       "output_type": "stream",
       "stream": "stdout",
       "text": [
        " \uac74\uac15\n",
        "\ucfe0\ud0a4\ub7f0 \ub300\ud45c \ucee4\ubba4\ub2c8\ud2f0 (\uac8c\uc784\ucfe1)"
       ]
      },
      {
       "output_type": "stream",
       "stream": "stdout",
       "text": [
        " \ud559\uc2b5\n",
        "\ucfe0\ud0a4\ub7f0 \ub300\ud45c \ucee4\ubba4\ub2c8\ud2f0 (\uac8c\uc784\ucfe1) \ucee4\ubba4\ub2c8\ud2f0\n",
        "Go Locker Minecraft"
       ]
      },
      {
       "output_type": "stream",
       "stream": "stdout",
       "text": [
        " \ubbf8\uc6a9\n",
        "Go Locker Minecraft"
       ]
      },
      {
       "output_type": "stream",
       "stream": "stdout",
       "text": [
        " \uc74c\uc545\n",
        "Go Locker Minecraft"
       ]
      },
      {
       "output_type": "stream",
       "stream": "stdout",
       "text": [
        " \ub9ac\ubdf0\n",
        "Go Locker Minecraft"
       ]
      },
      {
       "output_type": "stream",
       "stream": "stdout",
       "text": [
        " \uc5f0\uc608\n",
        "Go Locker Minecraft"
       ]
      },
      {
       "output_type": "stream",
       "stream": "stdout",
       "text": [
        " \uc74c\uc2dd\n",
        "Go Locker Minecraft \uc2a4\ud3ec\uce20\n",
        "Go Locker Minecraft"
       ]
      },
      {
       "output_type": "stream",
       "stream": "stdout",
       "text": [
        " \uac8c\uc784\n",
        "Go Locker Minecraft"
       ]
      },
      {
       "output_type": "stream",
       "stream": "stdout",
       "text": [
        " \uac74\uac15\n",
        "Go Locker Minecraft"
       ]
      },
      {
       "output_type": "stream",
       "stream": "stdout",
       "text": [
        " \ud559\uc2b5\n",
        "Go Locker Minecraft"
       ]
      },
      {
       "output_type": "stream",
       "stream": "stdout",
       "text": [
        " \ucee4\ubba4\ub2c8\ud2f0\n",
        "Gem Cleaner"
       ]
      },
      {
       "output_type": "stream",
       "stream": "stdout",
       "text": [
        " \ubbf8\uc6a9\n",
        "Gem Cleaner"
       ]
      },
      {
       "output_type": "stream",
       "stream": "stdout",
       "text": [
        " \uc74c\uc545\n",
        "Gem Cleaner"
       ]
      },
      {
       "output_type": "stream",
       "stream": "stdout",
       "text": [
        " \ub9ac\ubdf0\n",
        "Gem Cleaner"
       ]
      },
      {
       "output_type": "stream",
       "stream": "stdout",
       "text": [
        " \uc5f0\uc608\n",
        "Gem Cleaner"
       ]
      },
      {
       "output_type": "stream",
       "stream": "stdout",
       "text": [
        " \uc74c\uc2dd\n",
        "Gem Cleaner"
       ]
      },
      {
       "output_type": "stream",
       "stream": "stdout",
       "text": [
        " \uc2a4\ud3ec\uce20\n",
        "Gem Cleaner"
       ]
      },
      {
       "output_type": "stream",
       "stream": "stdout",
       "text": [
        " \uac8c\uc784\n",
        "Gem Cleaner \uac74\uac15\n",
        "Gem Cleaner"
       ]
      },
      {
       "output_type": "stream",
       "stream": "stdout",
       "text": [
        " \ud559\uc2b5\n",
        "Gem Cleaner \ucee4\ubba4\ub2c8\ud2f0\n",
        "\ub0b4 \ubb3c \ub09a\uc2dc \uac8c\uc784 \ud37c\uc990"
       ]
      },
      {
       "output_type": "stream",
       "stream": "stdout",
       "text": [
        " \ubbf8\uc6a9\n",
        "\ub0b4 \ubb3c \ub09a\uc2dc \uac8c\uc784 \ud37c\uc990"
       ]
      },
      {
       "output_type": "stream",
       "stream": "stdout",
       "text": [
        " \uc74c\uc545\n",
        "\ub0b4 \ubb3c \ub09a\uc2dc \uac8c\uc784 \ud37c\uc990"
       ]
      },
      {
       "output_type": "stream",
       "stream": "stdout",
       "text": [
        " \ub9ac\ubdf0\n",
        "\ub0b4 \ubb3c \ub09a\uc2dc \uac8c\uc784 \ud37c\uc990"
       ]
      },
      {
       "output_type": "stream",
       "stream": "stdout",
       "text": [
        " \uc5f0\uc608\n",
        "\ub0b4 \ubb3c \ub09a\uc2dc \uac8c\uc784 \ud37c\uc990"
       ]
      },
      {
       "output_type": "stream",
       "stream": "stdout",
       "text": [
        " \uc74c\uc2dd\n",
        "\ub0b4 \ubb3c \ub09a\uc2dc \uac8c\uc784 \ud37c\uc990"
       ]
      },
      {
       "output_type": "stream",
       "stream": "stdout",
       "text": [
        " \uc2a4\ud3ec\uce20\n",
        "\ub0b4 \ubb3c \ub09a\uc2dc \uac8c\uc784 \ud37c\uc990"
       ]
      },
      {
       "output_type": "stream",
       "stream": "stdout",
       "text": [
        " \uac8c\uc784\n",
        "\ub0b4 \ubb3c \ub09a\uc2dc \uac8c\uc784 \ud37c\uc990"
       ]
      },
      {
       "output_type": "stream",
       "stream": "stdout",
       "text": [
        " \uac74\uac15\n",
        "\ub0b4 \ubb3c \ub09a\uc2dc \uac8c\uc784 \ud37c\uc990"
       ]
      },
      {
       "output_type": "stream",
       "stream": "stdout",
       "text": [
        " \ud559\uc2b5\n",
        "\ub0b4 \ubb3c \ub09a\uc2dc \uac8c\uc784 \ud37c\uc990"
       ]
      },
      {
       "output_type": "stream",
       "stream": "stdout",
       "text": [
        " \ucee4\ubba4\ub2c8\ud2f0\n",
        "KTB netbank"
       ]
      },
      {
       "output_type": "stream",
       "stream": "stdout",
       "text": [
        " \ubbf8\uc6a9\n",
        "KTB netbank"
       ]
      },
      {
       "output_type": "stream",
       "stream": "stdout",
       "text": [
        " \uc74c\uc545\n",
        "KTB netbank"
       ]
      },
      {
       "output_type": "stream",
       "stream": "stdout",
       "text": [
        " \ub9ac\ubdf0\n",
        "KTB netbank"
       ]
      },
      {
       "output_type": "stream",
       "stream": "stdout",
       "text": [
        " \uc5f0\uc608\n",
        "KTB netbank"
       ]
      },
      {
       "output_type": "stream",
       "stream": "stdout",
       "text": [
        " \uc74c\uc2dd\n",
        "KTB netbank"
       ]
      },
      {
       "output_type": "stream",
       "stream": "stdout",
       "text": [
        " \uc2a4\ud3ec\uce20\n",
        "KTB netbank"
       ]
      },
      {
       "output_type": "stream",
       "stream": "stdout",
       "text": [
        " \uac8c\uc784\n",
        "KTB netbank"
       ]
      },
      {
       "output_type": "stream",
       "stream": "stdout",
       "text": [
        " \uac74\uac15\n",
        "KTB netbank"
       ]
      },
      {
       "output_type": "stream",
       "stream": "stdout",
       "text": [
        " \ud559\uc2b5\n",
        "KTB netbank"
       ]
      },
      {
       "output_type": "stream",
       "stream": "stdout",
       "text": [
        " \ucee4\ubba4\ub2c8\ud2f0\n",
        "Pumped: BMX Free"
       ]
      },
      {
       "output_type": "stream",
       "stream": "stdout",
       "text": [
        " \ubbf8\uc6a9\n",
        "Pumped: BMX Free"
       ]
      },
      {
       "output_type": "stream",
       "stream": "stdout",
       "text": [
        " \uc74c\uc545\n",
        "Pumped: BMX Free"
       ]
      },
      {
       "output_type": "stream",
       "stream": "stdout",
       "text": [
        " \ub9ac\ubdf0\n",
        "Pumped: BMX Free"
       ]
      },
      {
       "output_type": "stream",
       "stream": "stdout",
       "text": [
        " \uc5f0\uc608\n",
        "Pumped: BMX Free"
       ]
      },
      {
       "output_type": "stream",
       "stream": "stdout",
       "text": [
        " \uc74c\uc2dd\n",
        "Pumped: BMX Free"
       ]
      },
      {
       "output_type": "stream",
       "stream": "stdout",
       "text": [
        " \uc2a4\ud3ec\uce20\n",
        "Pumped: BMX Free"
       ]
      },
      {
       "output_type": "stream",
       "stream": "stdout",
       "text": [
        " \uac8c\uc784\n",
        "Pumped: BMX Free"
       ]
      },
      {
       "output_type": "stream",
       "stream": "stdout",
       "text": [
        " \uac74\uac15\n",
        "Pumped: BMX Free"
       ]
      },
      {
       "output_type": "stream",
       "stream": "stdout",
       "text": [
        " \ud559\uc2b5\n",
        "Pumped: BMX Free"
       ]
      },
      {
       "output_type": "stream",
       "stream": "stdout",
       "text": [
        " \ucee4\ubba4\ub2c8\ud2f0\n",
        "Joy Drums"
       ]
      },
      {
       "output_type": "stream",
       "stream": "stdout",
       "text": [
        " \ubbf8\uc6a9\n",
        "Joy Drums"
       ]
      },
      {
       "output_type": "stream",
       "stream": "stdout",
       "text": [
        " \uc74c\uc545\n",
        "Joy Drums"
       ]
      },
      {
       "output_type": "stream",
       "stream": "stdout",
       "text": [
        " \ub9ac\ubdf0\n",
        "Joy Drums \uc5f0\uc608\n",
        "Joy Drums"
       ]
      },
      {
       "output_type": "stream",
       "stream": "stdout",
       "text": [
        " \uc74c\uc2dd\n",
        "Joy Drums"
       ]
      },
      {
       "output_type": "stream",
       "stream": "stdout",
       "text": [
        " \uc2a4\ud3ec\uce20\n",
        "Joy Drums"
       ]
      },
      {
       "output_type": "stream",
       "stream": "stdout",
       "text": [
        " \uac8c\uc784\n",
        "Joy Drums"
       ]
      },
      {
       "output_type": "stream",
       "stream": "stdout",
       "text": [
        " \uac74\uac15\n",
        "Joy Drums"
       ]
      },
      {
       "output_type": "stream",
       "stream": "stdout",
       "text": [
        " \ud559\uc2b5\n",
        "Joy Drums"
       ]
      },
      {
       "output_type": "stream",
       "stream": "stdout",
       "text": [
        " \ucee4\ubba4\ub2c8\ud2f0\n",
        "Jungle Jewels Free"
       ]
      },
      {
       "output_type": "stream",
       "stream": "stdout",
       "text": [
        " \ubbf8\uc6a9\n",
        "Jungle Jewels Free"
       ]
      },
      {
       "output_type": "stream",
       "stream": "stdout",
       "text": [
        " \uc74c\uc545\n",
        "Jungle Jewels Free"
       ]
      },
      {
       "output_type": "stream",
       "stream": "stdout",
       "text": [
        " \ub9ac\ubdf0\n",
        "Jungle Jewels Free"
       ]
      },
      {
       "output_type": "stream",
       "stream": "stdout",
       "text": [
        " \uc5f0\uc608\n",
        "Jungle Jewels Free"
       ]
      },
      {
       "output_type": "stream",
       "stream": "stdout",
       "text": [
        " \uc74c\uc2dd\n",
        "Jungle Jewels Free"
       ]
      },
      {
       "output_type": "stream",
       "stream": "stdout",
       "text": [
        " \uc2a4\ud3ec\uce20\n",
        "Jungle Jewels Free"
       ]
      },
      {
       "output_type": "stream",
       "stream": "stdout",
       "text": [
        " \uac8c\uc784\n",
        "Jungle Jewels Free"
       ]
      },
      {
       "output_type": "stream",
       "stream": "stdout",
       "text": [
        " \uac74\uac15\n",
        "Jungle Jewels Free"
       ]
      },
      {
       "output_type": "stream",
       "stream": "stdout",
       "text": [
        " \ud559\uc2b5\n",
        "Jungle Jewels Free"
       ]
      },
      {
       "output_type": "stream",
       "stream": "stdout",
       "text": [
        " \ucee4\ubba4\ub2c8\ud2f0\n",
        "\ub2e4 \ubc97\uae30\ub294 \uc139\uc2dc \ub8f0\ub81b\uac78"
       ]
      },
      {
       "output_type": "stream",
       "stream": "stdout",
       "text": [
        " \ubbf8\uc6a9\n",
        "\ub2e4 \ubc97\uae30\ub294 \uc139\uc2dc \ub8f0\ub81b\uac78"
       ]
      },
      {
       "output_type": "stream",
       "stream": "stdout",
       "text": [
        " \uc74c\uc545\n",
        "\ub2e4 \ubc97\uae30\ub294 \uc139\uc2dc \ub8f0\ub81b\uac78"
       ]
      },
      {
       "output_type": "stream",
       "stream": "stdout",
       "text": [
        " \ub9ac\ubdf0\n",
        "\ub2e4 \ubc97\uae30\ub294 \uc139\uc2dc \ub8f0\ub81b\uac78"
       ]
      },
      {
       "output_type": "stream",
       "stream": "stdout",
       "text": [
        " \uc5f0\uc608\n",
        "\ub2e4 \ubc97\uae30\ub294 \uc139\uc2dc \ub8f0\ub81b\uac78"
       ]
      },
      {
       "output_type": "stream",
       "stream": "stdout",
       "text": [
        " \uc74c\uc2dd\n",
        "\ub2e4 \ubc97\uae30\ub294 \uc139\uc2dc \ub8f0\ub81b\uac78"
       ]
      },
      {
       "output_type": "stream",
       "stream": "stdout",
       "text": [
        " \uc2a4\ud3ec\uce20\n",
        "\ub2e4 \ubc97\uae30\ub294 \uc139\uc2dc \ub8f0\ub81b\uac78"
       ]
      },
      {
       "output_type": "stream",
       "stream": "stdout",
       "text": [
        " \uac8c\uc784\n",
        "\ub2e4 \ubc97\uae30\ub294 \uc139\uc2dc \ub8f0\ub81b\uac78"
       ]
      },
      {
       "output_type": "stream",
       "stream": "stdout",
       "text": [
        " \uac74\uac15\n",
        "\ub2e4 \ubc97\uae30\ub294 \uc139\uc2dc \ub8f0\ub81b\uac78"
       ]
      },
      {
       "output_type": "stream",
       "stream": "stdout",
       "text": [
        " \ud559\uc2b5\n",
        "\ub2e4 \ubc97\uae30\ub294 \uc139\uc2dc \ub8f0\ub81b\uac78"
       ]
      },
      {
       "output_type": "stream",
       "stream": "stdout",
       "text": [
        " \ucee4\ubba4\ub2c8\ud2f0\n",
        "JTBC \ub274\uc2a4"
       ]
      },
      {
       "output_type": "stream",
       "stream": "stdout",
       "text": [
        " \ubbf8\uc6a9\n",
        "JTBC \ub274\uc2a4"
       ]
      },
      {
       "output_type": "stream",
       "stream": "stdout",
       "text": [
        " \uc74c\uc545\n",
        "JTBC \ub274\uc2a4"
       ]
      },
      {
       "output_type": "stream",
       "stream": "stdout",
       "text": [
        " \ub9ac\ubdf0\n",
        "JTBC \ub274\uc2a4"
       ]
      },
      {
       "output_type": "stream",
       "stream": "stdout",
       "text": [
        " \uc5f0\uc608\n",
        "JTBC \ub274\uc2a4"
       ]
      },
      {
       "output_type": "stream",
       "stream": "stdout",
       "text": [
        " \uc74c\uc2dd\n",
        "JTBC \ub274\uc2a4"
       ]
      },
      {
       "output_type": "stream",
       "stream": "stdout",
       "text": [
        " \uc2a4\ud3ec\uce20\n",
        "JTBC \ub274\uc2a4"
       ]
      },
      {
       "output_type": "stream",
       "stream": "stdout",
       "text": [
        " \uac8c\uc784\n",
        "JTBC \ub274\uc2a4"
       ]
      },
      {
       "output_type": "stream",
       "stream": "stdout",
       "text": [
        " \uac74\uac15\n",
        "JTBC \ub274\uc2a4"
       ]
      },
      {
       "output_type": "stream",
       "stream": "stdout",
       "text": [
        " \ud559\uc2b5\n",
        "JTBC \ub274\uc2a4"
       ]
      },
      {
       "output_type": "stream",
       "stream": "stdout",
       "text": [
        " \ucee4\ubba4\ub2c8\ud2f0\n",
        "\uadc0\uc5ec\uc6b4 \uc0c8\ub07c \uace0\uc591\uc774\ub97c \ucc3e\uace0 \uc788\ub294\ub370 \ud654\uba74"
       ]
      },
      {
       "output_type": "stream",
       "stream": "stdout",
       "text": [
        " \ubbf8\uc6a9\n",
        "\uadc0\uc5ec\uc6b4 \uc0c8\ub07c \uace0\uc591\uc774\ub97c \ucc3e\uace0 \uc788\ub294\ub370 \ud654\uba74"
       ]
      },
      {
       "output_type": "stream",
       "stream": "stdout",
       "text": [
        " \uc74c\uc545\n",
        "\uadc0\uc5ec\uc6b4 \uc0c8\ub07c \uace0\uc591\uc774\ub97c \ucc3e\uace0 \uc788\ub294\ub370 \ud654\uba74"
       ]
      },
      {
       "output_type": "stream",
       "stream": "stdout",
       "text": [
        " \ub9ac\ubdf0\n",
        "\uadc0\uc5ec\uc6b4 \uc0c8\ub07c \uace0\uc591\uc774\ub97c \ucc3e\uace0 \uc788\ub294\ub370 \ud654\uba74"
       ]
      },
      {
       "output_type": "stream",
       "stream": "stdout",
       "text": [
        " \uc5f0\uc608\n",
        "\uadc0\uc5ec\uc6b4 \uc0c8\ub07c \uace0\uc591\uc774\ub97c \ucc3e\uace0 \uc788\ub294\ub370 \ud654\uba74"
       ]
      },
      {
       "output_type": "stream",
       "stream": "stdout",
       "text": [
        " \uc74c\uc2dd\n",
        "\uadc0\uc5ec\uc6b4 \uc0c8\ub07c \uace0\uc591\uc774\ub97c \ucc3e\uace0 \uc788\ub294\ub370 \ud654\uba74"
       ]
      },
      {
       "output_type": "stream",
       "stream": "stdout",
       "text": [
        " \uc2a4\ud3ec\uce20\n",
        "\uadc0\uc5ec\uc6b4 \uc0c8\ub07c \uace0\uc591\uc774\ub97c \ucc3e\uace0 \uc788\ub294\ub370 \ud654\uba74"
       ]
      },
      {
       "output_type": "stream",
       "stream": "stdout",
       "text": [
        " \uac8c\uc784\n",
        "\uadc0\uc5ec\uc6b4 \uc0c8\ub07c \uace0\uc591\uc774\ub97c \ucc3e\uace0 \uc788\ub294\ub370 \ud654\uba74"
       ]
      },
      {
       "output_type": "stream",
       "stream": "stdout",
       "text": [
        " \uac74\uac15\n",
        "\uadc0\uc5ec\uc6b4 \uc0c8\ub07c \uace0\uc591\uc774\ub97c \ucc3e\uace0 \uc788\ub294\ub370 \ud654\uba74"
       ]
      },
      {
       "output_type": "stream",
       "stream": "stdout",
       "text": [
        " \ud559\uc2b5\n",
        "\uadc0\uc5ec\uc6b4 \uc0c8\ub07c \uace0\uc591\uc774\ub97c \ucc3e\uace0 \uc788\ub294\ub370 \ud654\uba74"
       ]
      },
      {
       "output_type": "stream",
       "stream": "stdout",
       "text": [
        " \ucee4\ubba4\ub2c8\ud2f0\n",
        "\u5168\u58d8\u62532 OL"
       ]
      },
      {
       "output_type": "stream",
       "stream": "stdout",
       "text": [
        " \ubbf8\uc6a9\n",
        "\u5168\u58d8\u62532 OL"
       ]
      },
      {
       "output_type": "stream",
       "stream": "stdout",
       "text": [
        " \uc74c\uc545\n",
        "\u5168\u58d8\u62532 OL"
       ]
      },
      {
       "output_type": "stream",
       "stream": "stdout",
       "text": [
        " \ub9ac\ubdf0\n",
        "\u5168\u58d8\u62532 OL"
       ]
      },
      {
       "output_type": "stream",
       "stream": "stdout",
       "text": [
        " \uc5f0\uc608\n",
        "\u5168\u58d8\u62532 OL"
       ]
      },
      {
       "output_type": "stream",
       "stream": "stdout",
       "text": [
        " \uc74c\uc2dd\n",
        "\u5168\u58d8\u62532 OL"
       ]
      },
      {
       "output_type": "stream",
       "stream": "stdout",
       "text": [
        " \uc2a4\ud3ec\uce20\n",
        "\u5168\u58d8\u62532 OL \uac8c\uc784\n",
        "\u5168\u58d8\u62532 OL"
       ]
      },
      {
       "output_type": "stream",
       "stream": "stdout",
       "text": [
        " \uac74\uac15\n",
        "\u5168\u58d8\u62532 OL \ud559\uc2b5\n",
        "\u5168\u58d8\u62532 OL"
       ]
      },
      {
       "output_type": "stream",
       "stream": "stdout",
       "text": [
        " \ucee4\ubba4\ub2c8\ud2f0\n",
        "Las Vegas Slot Machine HD"
       ]
      },
      {
       "output_type": "stream",
       "stream": "stdout",
       "text": [
        " \ubbf8\uc6a9\n",
        "Las Vegas Slot Machine HD"
       ]
      },
      {
       "output_type": "stream",
       "stream": "stdout",
       "text": [
        " \uc74c\uc545\n",
        "Las Vegas Slot Machine HD"
       ]
      },
      {
       "output_type": "stream",
       "stream": "stdout",
       "text": [
        " \ub9ac\ubdf0\n",
        "Las Vegas Slot Machine HD"
       ]
      },
      {
       "output_type": "stream",
       "stream": "stdout",
       "text": [
        " \uc5f0\uc608\n",
        "Las Vegas Slot Machine HD"
       ]
      },
      {
       "output_type": "stream",
       "stream": "stdout",
       "text": [
        " \uc74c\uc2dd\n",
        "Las Vegas Slot Machine HD \uc2a4\ud3ec\uce20\n",
        "Las Vegas Slot Machine HD"
       ]
      },
      {
       "output_type": "stream",
       "stream": "stdout",
       "text": [
        " \uac8c\uc784\n",
        "Las Vegas Slot Machine HD \uac74\uac15\n",
        "Las Vegas Slot Machine HD"
       ]
      },
      {
       "output_type": "stream",
       "stream": "stdout",
       "text": [
        " \ud559\uc2b5\n",
        "Las Vegas Slot Machine HD"
       ]
      },
      {
       "output_type": "stream",
       "stream": "stdout",
       "text": [
        " \ucee4\ubba4\ub2c8\ud2f0\n",
        "\ud5ec\uc2a4 \uc2a4\ucf00\uc974\ub7ec \ubbf8\uc6a9\n",
        "\ud5ec\uc2a4 \uc2a4\ucf00\uc974\ub7ec"
       ]
      },
      {
       "output_type": "stream",
       "stream": "stdout",
       "text": [
        " \uc74c\uc545\n",
        "\ud5ec\uc2a4 \uc2a4\ucf00\uc974\ub7ec \ub9ac\ubdf0\n",
        "\ud5ec\uc2a4 \uc2a4\ucf00\uc974\ub7ec"
       ]
      },
      {
       "output_type": "stream",
       "stream": "stdout",
       "text": [
        " \uc5f0\uc608\n",
        "\ud5ec\uc2a4 \uc2a4\ucf00\uc974\ub7ec \uc74c\uc2dd\n",
        "\ud5ec\uc2a4 \uc2a4\ucf00\uc974\ub7ec"
       ]
      },
      {
       "output_type": "stream",
       "stream": "stdout",
       "text": [
        " \uc2a4\ud3ec\uce20\n",
        "\ud5ec\uc2a4 \uc2a4\ucf00\uc974\ub7ec \uac8c\uc784\n",
        "\ud5ec\uc2a4 \uc2a4\ucf00\uc974\ub7ec"
       ]
      },
      {
       "output_type": "stream",
       "stream": "stdout",
       "text": [
        " \uac74\uac15\n",
        "\ud5ec\uc2a4 \uc2a4\ucf00\uc974\ub7ec \ud559\uc2b5\n",
        "\ud5ec\uc2a4 \uc2a4\ucf00\uc974\ub7ec"
       ]
      },
      {
       "output_type": "stream",
       "stream": "stdout",
       "text": [
        " \ucee4\ubba4\ub2c8\ud2f0\n",
        "\u0422\u0430\u0440\u043e \u0413\u0430\u0434\u0430\u043d\u0438\u0435"
       ]
      },
      {
       "output_type": "stream",
       "stream": "stdout",
       "text": [
        " \ubbf8\uc6a9\n",
        "\u0422\u0430\u0440\u043e \u0413\u0430\u0434\u0430\u043d\u0438\u0435 \uc74c\uc545\n",
        "\u0422\u0430\u0440\u043e \u0413\u0430\u0434\u0430\u043d\u0438\u0435"
       ]
      },
      {
       "output_type": "stream",
       "stream": "stdout",
       "text": [
        " \ub9ac\ubdf0\n",
        "\u0422\u0430\u0440\u043e \u0413\u0430\u0434\u0430\u043d\u0438\u0435"
       ]
      },
      {
       "output_type": "stream",
       "stream": "stdout",
       "text": [
        " \uc5f0\uc608\n",
        "\u0422\u0430\u0440\u043e \u0413\u0430\u0434\u0430\u043d\u0438\u0435"
       ]
      },
      {
       "output_type": "stream",
       "stream": "stdout",
       "text": [
        " \uc74c\uc2dd\n",
        "\u0422\u0430\u0440\u043e \u0413\u0430\u0434\u0430\u043d\u0438\u0435 \uc2a4\ud3ec\uce20\n",
        "\u0422\u0430\u0440\u043e \u0413\u0430\u0434\u0430\u043d\u0438\u0435"
       ]
      },
      {
       "output_type": "stream",
       "stream": "stdout",
       "text": [
        " \uac8c\uc784\n",
        "\u0422\u0430\u0440\u043e \u0413\u0430\u0434\u0430\u043d\u0438\u0435 \uac74\uac15\n",
        "\u0422\u0430\u0440\u043e \u0413\u0430\u0434\u0430\u043d\u0438\u0435"
       ]
      },
      {
       "output_type": "stream",
       "stream": "stdout",
       "text": [
        " \ud559\uc2b5\n",
        "\u0422\u0430\u0440\u043e \u0413\u0430\u0434\u0430\u043d\u0438\u0435"
       ]
      },
      {
       "output_type": "stream",
       "stream": "stdout",
       "text": [
        " \ucee4\ubba4\ub2c8\ud2f0\n",
        "TV\u96a8\u8eab\u770bHD-\u9078\u53f0\u5668 \ubbf8\uc6a9\n",
        "TV\u96a8\u8eab\u770bHD-\u9078\u53f0\u5668"
       ]
      },
      {
       "output_type": "stream",
       "stream": "stdout",
       "text": [
        " \uc74c\uc545\n",
        "TV\u96a8\u8eab\u770bHD-\u9078\u53f0\u5668 \ub9ac\ubdf0\n",
        "TV\u96a8\u8eab\u770bHD-\u9078\u53f0\u5668"
       ]
      },
      {
       "output_type": "stream",
       "stream": "stdout",
       "text": [
        " \uc5f0\uc608\n",
        "TV\u96a8\u8eab\u770bHD-\u9078\u53f0\u5668"
       ]
      },
      {
       "output_type": "stream",
       "stream": "stdout",
       "text": [
        " \uc74c\uc2dd\n",
        "TV\u96a8\u8eab\u770bHD-\u9078\u53f0\u5668 \uc2a4\ud3ec\uce20\n",
        "TV\u96a8\u8eab\u770bHD-\u9078\u53f0\u5668"
       ]
      },
      {
       "output_type": "stream",
       "stream": "stdout",
       "text": [
        " \uac8c\uc784\n",
        "TV\u96a8\u8eab\u770bHD-\u9078\u53f0\u5668 \uac74\uac15\n",
        "TV\u96a8\u8eab\u770bHD-\u9078\u53f0\u5668"
       ]
      },
      {
       "output_type": "stream",
       "stream": "stdout",
       "text": [
        " \ud559\uc2b5\n",
        "TV\u96a8\u8eab\u770bHD-\u9078\u53f0\u5668"
       ]
      },
      {
       "output_type": "stream",
       "stream": "stdout",
       "text": [
        " \ucee4\ubba4\ub2c8\ud2f0\n",
        "SPY mouse"
       ]
      },
      {
       "output_type": "stream",
       "stream": "stdout",
       "text": [
        " \ubbf8\uc6a9\n",
        "SPY mouse \uc74c\uc545\n",
        "SPY mouse"
       ]
      },
      {
       "output_type": "stream",
       "stream": "stdout",
       "text": [
        " \ub9ac\ubdf0\n",
        "SPY mouse \uc5f0\uc608\n",
        "SPY mouse"
       ]
      },
      {
       "output_type": "stream",
       "stream": "stdout",
       "text": [
        " \uc74c\uc2dd\n",
        "SPY mouse"
       ]
      },
      {
       "output_type": "stream",
       "stream": "stdout",
       "text": [
        " \uc2a4\ud3ec\uce20\n",
        "SPY mouse \uac8c\uc784\n",
        "SPY mouse"
       ]
      },
      {
       "output_type": "stream",
       "stream": "stdout",
       "text": [
        " \uac74\uac15\n",
        "SPY mouse"
       ]
      },
      {
       "output_type": "stream",
       "stream": "stdout",
       "text": [
        " \ud559\uc2b5\n",
        "SPY mouse \ucee4\ubba4\ub2c8\ud2f0\n",
        "Funny iMadeFace Videos&Photos+"
       ]
      },
      {
       "output_type": "stream",
       "stream": "stdout",
       "text": [
        " \ubbf8\uc6a9\n",
        "Funny iMadeFace Videos&Photos+ \uc74c\uc545\n",
        "Funny iMadeFace Videos&Photos+"
       ]
      },
      {
       "output_type": "stream",
       "stream": "stdout",
       "text": [
        " \ub9ac\ubdf0\n",
        "Funny iMadeFace Videos&Photos+ \uc5f0\uc608\n",
        "Funny iMadeFace Videos&Photos+"
       ]
      },
      {
       "output_type": "stream",
       "stream": "stdout",
       "text": [
        " \uc74c\uc2dd\n",
        "Funny iMadeFace Videos&Photos+"
       ]
      },
      {
       "output_type": "stream",
       "stream": "stdout",
       "text": [
        " \uc2a4\ud3ec\uce20\n",
        "Funny iMadeFace Videos&Photos+ \uac8c\uc784\n",
        "Funny iMadeFace Videos&Photos+"
       ]
      },
      {
       "output_type": "stream",
       "stream": "stdout",
       "text": [
        " \uac74\uac15\n",
        "Funny iMadeFace Videos&Photos+"
       ]
      },
      {
       "output_type": "stream",
       "stream": "stdout",
       "text": [
        " \ud559\uc2b5\n",
        "Funny iMadeFace Videos&Photos+ \ucee4\ubba4\ub2c8\ud2f0\n",
        "Screen On"
       ]
      },
      {
       "output_type": "stream",
       "stream": "stdout",
       "text": [
        " \ubbf8\uc6a9\n",
        "Screen On \uc74c\uc545\n",
        "Screen On"
       ]
      },
      {
       "output_type": "stream",
       "stream": "stdout",
       "text": [
        " \ub9ac\ubdf0\n",
        "Screen On \uc5f0\uc608\n",
        "Screen On"
       ]
      },
      {
       "output_type": "stream",
       "stream": "stdout",
       "text": [
        " \uc74c\uc2dd\n",
        "Screen On \uc2a4\ud3ec\uce20\n",
        "Screen On"
       ]
      },
      {
       "output_type": "stream",
       "stream": "stdout",
       "text": [
        " \uac8c\uc784\n",
        "Screen On \uac74\uac15\n",
        "Screen On"
       ]
      },
      {
       "output_type": "stream",
       "stream": "stdout",
       "text": [
        " \ud559\uc2b5\n",
        "Screen On \ucee4\ubba4\ub2c8\ud2f0\n",
        "3\u570b\u5c0f\u8c6c \u6349\u932f\u8655"
       ]
      },
      {
       "output_type": "stream",
       "stream": "stdout",
       "text": [
        " \ubbf8\uc6a9\n",
        "3\u570b\u5c0f\u8c6c \u6349\u932f\u8655 \uc74c\uc545\n",
        "3\u570b\u5c0f\u8c6c \u6349\u932f\u8655"
       ]
      },
      {
       "output_type": "stream",
       "stream": "stdout",
       "text": [
        " \ub9ac\ubdf0\n",
        "3\u570b\u5c0f\u8c6c \u6349\u932f\u8655 \uc5f0\uc608\n",
        "3\u570b\u5c0f\u8c6c \u6349\u932f\u8655"
       ]
      },
      {
       "output_type": "stream",
       "stream": "stdout",
       "text": [
        " \uc74c\uc2dd\n",
        "3\u570b\u5c0f\u8c6c \u6349\u932f\u8655 \uc2a4\ud3ec\uce20\n",
        "3\u570b\u5c0f\u8c6c \u6349\u932f\u8655"
       ]
      },
      {
       "output_type": "stream",
       "stream": "stdout",
       "text": [
        " \uac8c\uc784\n",
        "3\u570b\u5c0f\u8c6c \u6349\u932f\u8655 \uac74\uac15\n",
        "3\u570b\u5c0f\u8c6c \u6349\u932f\u8655"
       ]
      },
      {
       "output_type": "stream",
       "stream": "stdout",
       "text": [
        " \ud559\uc2b5\n",
        "3\u570b\u5c0f\u8c6c \u6349\u932f\u8655"
       ]
      },
      {
       "output_type": "stream",
       "stream": "stdout",
       "text": [
        " \ucee4\ubba4\ub2c8\ud2f0\n",
        "Video Download \ubbf8\uc6a9\n",
        "Video Download"
       ]
      },
      {
       "output_type": "stream",
       "stream": "stdout",
       "text": [
        " \uc74c\uc545\n",
        "Video Download \ub9ac\ubdf0\n",
        "Video Download"
       ]
      },
      {
       "output_type": "stream",
       "stream": "stdout",
       "text": [
        " \uc5f0\uc608\n",
        "Video Download"
       ]
      },
      {
       "output_type": "stream",
       "stream": "stdout",
       "text": [
        " \uc74c\uc2dd\n",
        "Video Download \uc2a4\ud3ec\uce20\n",
        "Video Download"
       ]
      },
      {
       "output_type": "stream",
       "stream": "stdout",
       "text": [
        " \uac8c\uc784\n",
        "Video Download \uac74\uac15\n",
        "Video Download"
       ]
      },
      {
       "output_type": "stream",
       "stream": "stdout",
       "text": [
        " \ud559\uc2b5\n",
        "Video Download"
       ]
      },
      {
       "output_type": "stream",
       "stream": "stdout",
       "text": [
        " \ucee4\ubba4\ub2c8\ud2f0\n",
        "Jet Car Stunts \ubbf8\uc6a9\n",
        "Jet Car Stunts"
       ]
      },
      {
       "output_type": "stream",
       "stream": "stdout",
       "text": [
        " \uc74c\uc545\n",
        "Jet Car Stunts \ub9ac\ubdf0\n",
        "Jet Car Stunts"
       ]
      },
      {
       "output_type": "stream",
       "stream": "stdout",
       "text": [
        " \uc5f0\uc608\n",
        "Jet Car Stunts \uc74c\uc2dd\n",
        "Jet Car Stunts"
       ]
      },
      {
       "output_type": "stream",
       "stream": "stdout",
       "text": [
        " \uc2a4\ud3ec\uce20\n",
        "Jet Car Stunts \uac8c\uc784\n",
        "Jet Car Stunts"
       ]
      },
      {
       "output_type": "stream",
       "stream": "stdout",
       "text": [
        " \uac74\uac15\n",
        "Jet Car Stunts"
       ]
      },
      {
       "output_type": "stream",
       "stream": "stdout",
       "text": [
        " \ud559\uc2b5\n",
        "Jet Car Stunts \ucee4\ubba4\ub2c8\ud2f0\n",
        "\uc880\ube44 \uc774\ube14"
       ]
      },
      {
       "output_type": "stream",
       "stream": "stdout",
       "text": [
        " \ubbf8\uc6a9\n",
        "\uc880\ube44 \uc774\ube14 \uc74c\uc545\n",
        "\uc880\ube44 \uc774\ube14"
       ]
      },
      {
       "output_type": "stream",
       "stream": "stdout",
       "text": [
        " \ub9ac\ubdf0\n",
        "\uc880\ube44 \uc774\ube14 \uc5f0\uc608\n",
        "\uc880\ube44 \uc774\ube14"
       ]
      },
      {
       "output_type": "stream",
       "stream": "stdout",
       "text": [
        " \uc74c\uc2dd\n",
        "\uc880\ube44 \uc774\ube14"
       ]
      },
      {
       "output_type": "stream",
       "stream": "stdout",
       "text": [
        " \uc2a4\ud3ec\uce20\n",
        "\uc880\ube44 \uc774\ube14 \uac8c\uc784\n",
        "\uc880\ube44 \uc774\ube14"
       ]
      },
      {
       "output_type": "stream",
       "stream": "stdout",
       "text": [
        " \uac74\uac15\n",
        "\uc880\ube44 \uc774\ube14"
       ]
      },
      {
       "output_type": "stream",
       "stream": "stdout",
       "text": [
        " \ud559\uc2b5\n",
        "\uc880\ube44 \uc774\ube14 \ucee4\ubba4\ub2c8\ud2f0\n",
        "olleh \ucf55!\ucf55!"
       ]
      },
      {
       "output_type": "stream",
       "stream": "stdout",
       "text": [
        " \ubbf8\uc6a9\n",
        "olleh \ucf55!\ucf55!"
       ]
      },
      {
       "output_type": "stream",
       "stream": "stdout",
       "text": [
        " \uc74c\uc545\n",
        "olleh \ucf55!\ucf55! \ub9ac\ubdf0\n",
        "olleh \ucf55!\ucf55!"
       ]
      },
      {
       "output_type": "stream",
       "stream": "stdout",
       "text": [
        " \uc5f0\uc608\n",
        "olleh \ucf55!\ucf55! \uc74c\uc2dd\n",
        "olleh \ucf55!\ucf55!"
       ]
      },
      {
       "output_type": "stream",
       "stream": "stdout",
       "text": [
        " \uc2a4\ud3ec\uce20\n",
        "olleh \ucf55!\ucf55!"
       ]
      },
      {
       "output_type": "stream",
       "stream": "stdout",
       "text": [
        " \uac8c\uc784\n",
        "olleh \ucf55!\ucf55! \uac74\uac15\n",
        "olleh \ucf55!\ucf55!"
       ]
      },
      {
       "output_type": "stream",
       "stream": "stdout",
       "text": [
        " \ud559\uc2b5\n",
        "olleh \ucf55!\ucf55!"
       ]
      },
      {
       "output_type": "stream",
       "stream": "stdout",
       "text": [
        " \ucee4\ubba4\ub2c8\ud2f0\n",
        "iMadeFace Funny Pics & Videos"
       ]
      },
      {
       "output_type": "stream",
       "stream": "stdout",
       "text": [
        " \ubbf8\uc6a9\n",
        "iMadeFace Funny Pics & Videos"
       ]
      },
      {
       "output_type": "stream",
       "stream": "stdout",
       "text": [
        " \uc74c\uc545\n",
        "iMadeFace Funny Pics & Videos"
       ]
      },
      {
       "output_type": "stream",
       "stream": "stdout",
       "text": [
        " \ub9ac\ubdf0\n",
        "iMadeFace Funny Pics & Videos"
       ]
      },
      {
       "output_type": "stream",
       "stream": "stdout",
       "text": [
        " \uc5f0\uc608\n",
        "iMadeFace Funny Pics & Videos \uc74c\uc2dd\n",
        "iMadeFace Funny Pics & Videos"
       ]
      },
      {
       "output_type": "stream",
       "stream": "stdout",
       "text": [
        " \uc2a4\ud3ec\uce20\n",
        "iMadeFace Funny Pics & Videos"
       ]
      },
      {
       "output_type": "stream",
       "stream": "stdout",
       "text": [
        " \uac8c\uc784\n",
        "iMadeFace Funny Pics & Videos \uac74\uac15\n",
        "iMadeFace Funny Pics & Videos"
       ]
      },
      {
       "output_type": "stream",
       "stream": "stdout",
       "text": [
        " \ud559\uc2b5\n",
        "iMadeFace Funny Pics & Videos \ucee4\ubba4\ub2c8\ud2f0\n",
        "[PNN] PTT \u9109\u6c11\u665a\u5831"
       ]
      },
      {
       "output_type": "stream",
       "stream": "stdout",
       "text": [
        " \ubbf8\uc6a9\n",
        "[PNN] PTT \u9109\u6c11\u665a\u5831"
       ]
      },
      {
       "output_type": "stream",
       "stream": "stdout",
       "text": [
        " \uc74c\uc545\n",
        "[PNN] PTT \u9109\u6c11\u665a\u5831"
       ]
      },
      {
       "output_type": "stream",
       "stream": "stdout",
       "text": [
        " \ub9ac\ubdf0\n",
        "[PNN] PTT \u9109\u6c11\u665a\u5831"
       ]
      },
      {
       "output_type": "stream",
       "stream": "stdout",
       "text": [
        " \uc5f0\uc608\n",
        "[PNN] PTT \u9109\u6c11\u665a\u5831 \uc74c\uc2dd\n",
        "[PNN] PTT \u9109\u6c11\u665a\u5831"
       ]
      },
      {
       "output_type": "stream",
       "stream": "stdout",
       "text": [
        " \uc2a4\ud3ec\uce20\n",
        "[PNN] PTT \u9109\u6c11\u665a\u5831"
       ]
      },
      {
       "output_type": "stream",
       "stream": "stdout",
       "text": [
        " \uac8c\uc784\n",
        "[PNN] PTT \u9109\u6c11\u665a\u5831"
       ]
      },
      {
       "output_type": "stream",
       "stream": "stdout",
       "text": [
        " \uac74\uac15\n",
        "[PNN] PTT \u9109\u6c11\u665a\u5831 \ud559\uc2b5\n",
        "[PNN] PTT \u9109\u6c11\u665a\u5831"
       ]
      },
      {
       "output_type": "stream",
       "stream": "stdout",
       "text": [
        " \ucee4\ubba4\ub2c8\ud2f0\n",
        "\uce58\ud0a8\ub7f0(\ub18d\uc7a5\ud0c8\ucd9c)"
       ]
      },
      {
       "output_type": "stream",
       "stream": "stdout",
       "text": [
        " \ubbf8\uc6a9\n",
        "\uce58\ud0a8\ub7f0(\ub18d\uc7a5\ud0c8\ucd9c)"
       ]
      },
      {
       "output_type": "stream",
       "stream": "stdout",
       "text": [
        " \uc74c\uc545\n",
        "\uce58\ud0a8\ub7f0(\ub18d\uc7a5\ud0c8\ucd9c)"
       ]
      },
      {
       "output_type": "stream",
       "stream": "stdout",
       "text": [
        " \ub9ac\ubdf0\n",
        "\uce58\ud0a8\ub7f0(\ub18d\uc7a5\ud0c8\ucd9c)"
       ]
      },
      {
       "output_type": "stream",
       "stream": "stdout",
       "text": [
        " \uc5f0\uc608\n",
        "\uce58\ud0a8\ub7f0(\ub18d\uc7a5\ud0c8\ucd9c)"
       ]
      },
      {
       "output_type": "stream",
       "stream": "stdout",
       "text": [
        " \uc74c\uc2dd\n",
        "\uce58\ud0a8\ub7f0(\ub18d\uc7a5\ud0c8\ucd9c)"
       ]
      },
      {
       "output_type": "stream",
       "stream": "stdout",
       "text": [
        " \uc2a4\ud3ec\uce20\n",
        "\uce58\ud0a8\ub7f0(\ub18d\uc7a5\ud0c8\ucd9c) \uac8c\uc784\n",
        "\uce58\ud0a8\ub7f0(\ub18d\uc7a5\ud0c8\ucd9c)"
       ]
      },
      {
       "output_type": "stream",
       "stream": "stdout",
       "text": [
        " \uac74\uac15\n",
        "\uce58\ud0a8\ub7f0(\ub18d\uc7a5\ud0c8\ucd9c)"
       ]
      },
      {
       "output_type": "stream",
       "stream": "stdout",
       "text": [
        " \ud559\uc2b5\n",
        "\uce58\ud0a8\ub7f0(\ub18d\uc7a5\ud0c8\ucd9c)"
       ]
      },
      {
       "output_type": "stream",
       "stream": "stdout",
       "text": [
        " \ucee4\ubba4\ub2c8\ud2f0\n",
        "ApeFlip"
       ]
      },
      {
       "output_type": "stream",
       "stream": "stdout",
       "text": [
        " \ubbf8\uc6a9\n",
        "ApeFlip"
       ]
      },
      {
       "output_type": "stream",
       "stream": "stdout",
       "text": [
        " \uc74c\uc545\n",
        "ApeFlip"
       ]
      },
      {
       "output_type": "stream",
       "stream": "stdout",
       "text": [
        " \ub9ac\ubdf0\n",
        "ApeFlip"
       ]
      },
      {
       "output_type": "stream",
       "stream": "stdout",
       "text": [
        " \uc5f0\uc608\n",
        "ApeFlip"
       ]
      },
      {
       "output_type": "stream",
       "stream": "stdout",
       "text": [
        " \uc74c\uc2dd\n",
        "ApeFlip"
       ]
      },
      {
       "output_type": "stream",
       "stream": "stdout",
       "text": [
        " \uc2a4\ud3ec\uce20\n",
        "ApeFlip"
       ]
      },
      {
       "output_type": "stream",
       "stream": "stdout",
       "text": [
        " \uac8c\uc784\n",
        "ApeFlip"
       ]
      },
      {
       "output_type": "stream",
       "stream": "stdout",
       "text": [
        " \uac74\uac15\n",
        "ApeFlip"
       ]
      },
      {
       "output_type": "stream",
       "stream": "stdout",
       "text": [
        " \ud559\uc2b5\n",
        "ApeFlip"
       ]
      },
      {
       "output_type": "stream",
       "stream": "stdout",
       "text": [
        " \ucee4\ubba4\ub2c8\ud2f0\n",
        "Equalizer"
       ]
      },
      {
       "output_type": "stream",
       "stream": "stdout",
       "text": [
        " \ubbf8\uc6a9\n",
        "Equalizer"
       ]
      },
      {
       "output_type": "stream",
       "stream": "stdout",
       "text": [
        " \uc74c\uc545\n",
        "Equalizer"
       ]
      },
      {
       "output_type": "stream",
       "stream": "stdout",
       "text": [
        " \ub9ac\ubdf0\n",
        "Equalizer"
       ]
      },
      {
       "output_type": "stream",
       "stream": "stdout",
       "text": [
        " \uc5f0\uc608\n",
        "Equalizer"
       ]
      },
      {
       "output_type": "stream",
       "stream": "stdout",
       "text": [
        " \uc74c\uc2dd\n",
        "Equalizer"
       ]
      },
      {
       "output_type": "stream",
       "stream": "stdout",
       "text": [
        " \uc2a4\ud3ec\uce20\n",
        "Equalizer"
       ]
      },
      {
       "output_type": "stream",
       "stream": "stdout",
       "text": [
        " \uac8c\uc784\n",
        "Equalizer"
       ]
      },
      {
       "output_type": "stream",
       "stream": "stdout",
       "text": [
        " \uac74\uac15\n",
        "Equalizer"
       ]
      },
      {
       "output_type": "stream",
       "stream": "stdout",
       "text": [
        " \ud559\uc2b5\n",
        "Equalizer"
       ]
      },
      {
       "output_type": "stream",
       "stream": "stdout",
       "text": [
        " \ucee4\ubba4\ub2c8\ud2f0\n",
        "Splat Bugs III Unlock KEY"
       ]
      },
      {
       "output_type": "stream",
       "stream": "stdout",
       "text": [
        " \ubbf8\uc6a9\n",
        "Splat Bugs III Unlock KEY"
       ]
      },
      {
       "output_type": "stream",
       "stream": "stdout",
       "text": [
        " \uc74c\uc545\n",
        "Splat Bugs III Unlock KEY"
       ]
      },
      {
       "output_type": "stream",
       "stream": "stdout",
       "text": [
        " \ub9ac\ubdf0\n",
        "Splat Bugs III Unlock KEY"
       ]
      },
      {
       "output_type": "stream",
       "stream": "stdout",
       "text": [
        " \uc5f0\uc608\n",
        "Splat Bugs III Unlock KEY"
       ]
      },
      {
       "output_type": "stream",
       "stream": "stdout",
       "text": [
        " \uc74c\uc2dd\n",
        "Splat Bugs III Unlock KEY"
       ]
      },
      {
       "output_type": "stream",
       "stream": "stdout",
       "text": [
        " \uc2a4\ud3ec\uce20\n",
        "Splat Bugs III Unlock KEY"
       ]
      },
      {
       "output_type": "stream",
       "stream": "stdout",
       "text": [
        " \uac8c\uc784\n",
        "Splat Bugs III Unlock KEY"
       ]
      },
      {
       "output_type": "stream",
       "stream": "stdout",
       "text": [
        " \uac74\uac15\n",
        "Splat Bugs III Unlock KEY"
       ]
      },
      {
       "output_type": "stream",
       "stream": "stdout",
       "text": [
        " \ud559\uc2b5\n",
        "Splat Bugs III Unlock KEY"
       ]
      },
      {
       "output_type": "stream",
       "stream": "stdout",
       "text": [
        " \ucee4\ubba4\ub2c8\ud2f0\n",
        "TOP 20 SMS \uc0ac\uc6b4\ub4dc \ud6a8\uacfc"
       ]
      },
      {
       "output_type": "stream",
       "stream": "stdout",
       "text": [
        " \ubbf8\uc6a9\n",
        "TOP 20 SMS \uc0ac\uc6b4\ub4dc \ud6a8\uacfc"
       ]
      },
      {
       "output_type": "stream",
       "stream": "stdout",
       "text": [
        " \uc74c\uc545\n",
        "TOP 20 SMS \uc0ac\uc6b4\ub4dc \ud6a8\uacfc"
       ]
      },
      {
       "output_type": "stream",
       "stream": "stdout",
       "text": [
        " \ub9ac\ubdf0\n",
        "TOP 20 SMS \uc0ac\uc6b4\ub4dc \ud6a8\uacfc"
       ]
      },
      {
       "output_type": "stream",
       "stream": "stdout",
       "text": [
        " \uc5f0\uc608\n",
        "TOP 20 SMS \uc0ac\uc6b4\ub4dc \ud6a8\uacfc"
       ]
      },
      {
       "output_type": "stream",
       "stream": "stdout",
       "text": [
        " \uc74c\uc2dd\n",
        "TOP 20 SMS \uc0ac\uc6b4\ub4dc \ud6a8\uacfc"
       ]
      },
      {
       "output_type": "stream",
       "stream": "stdout",
       "text": [
        " \uc2a4\ud3ec\uce20\n",
        "TOP 20 SMS \uc0ac\uc6b4\ub4dc \ud6a8\uacfc"
       ]
      },
      {
       "output_type": "stream",
       "stream": "stdout",
       "text": [
        " \uac8c\uc784\n",
        "TOP 20 SMS \uc0ac\uc6b4\ub4dc \ud6a8\uacfc"
       ]
      },
      {
       "output_type": "stream",
       "stream": "stdout",
       "text": [
        " \uac74\uac15\n",
        "TOP 20 SMS \uc0ac\uc6b4\ub4dc \ud6a8\uacfc"
       ]
      },
      {
       "output_type": "stream",
       "stream": "stdout",
       "text": [
        " \ud559\uc2b5\n",
        "TOP 20 SMS \uc0ac\uc6b4\ub4dc \ud6a8\uacfc"
       ]
      },
      {
       "output_type": "stream",
       "stream": "stdout",
       "text": [
        " \ucee4\ubba4\ub2c8\ud2f0\n",
        "\u30aa\u30ea\u30b3\u30f3\u30df\u30e5\u30fc\u30b8\u30c3\u30af\u30b9\u30c8\u30a2"
       ]
      },
      {
       "output_type": "stream",
       "stream": "stdout",
       "text": [
        " \ubbf8\uc6a9\n",
        "\u30aa\u30ea\u30b3\u30f3\u30df\u30e5\u30fc\u30b8\u30c3\u30af\u30b9\u30c8\u30a2"
       ]
      },
      {
       "output_type": "stream",
       "stream": "stdout",
       "text": [
        " \uc74c\uc545\n",
        "\u30aa\u30ea\u30b3\u30f3\u30df\u30e5\u30fc\u30b8\u30c3\u30af\u30b9\u30c8\u30a2"
       ]
      },
      {
       "output_type": "stream",
       "stream": "stdout",
       "text": [
        " \ub9ac\ubdf0\n",
        "\u30aa\u30ea\u30b3\u30f3\u30df\u30e5\u30fc\u30b8\u30c3\u30af\u30b9\u30c8\u30a2"
       ]
      },
      {
       "output_type": "stream",
       "stream": "stdout",
       "text": [
        " \uc5f0\uc608\n",
        "\u30aa\u30ea\u30b3\u30f3\u30df\u30e5\u30fc\u30b8\u30c3\u30af\u30b9\u30c8\u30a2"
       ]
      },
      {
       "output_type": "stream",
       "stream": "stdout",
       "text": [
        " \uc74c\uc2dd\n",
        "\u30aa\u30ea\u30b3\u30f3\u30df\u30e5\u30fc\u30b8\u30c3\u30af\u30b9\u30c8\u30a2"
       ]
      },
      {
       "output_type": "stream",
       "stream": "stdout",
       "text": [
        " \uc2a4\ud3ec\uce20\n",
        "\u30aa\u30ea\u30b3\u30f3\u30df\u30e5\u30fc\u30b8\u30c3\u30af\u30b9\u30c8\u30a2"
       ]
      },
      {
       "output_type": "stream",
       "stream": "stdout",
       "text": [
        " \uac8c\uc784\n",
        "\u30aa\u30ea\u30b3\u30f3\u30df\u30e5\u30fc\u30b8\u30c3\u30af\u30b9\u30c8\u30a2"
       ]
      },
      {
       "output_type": "stream",
       "stream": "stdout",
       "text": [
        " \uac74\uac15\n",
        "\u30aa\u30ea\u30b3\u30f3\u30df\u30e5\u30fc\u30b8\u30c3\u30af\u30b9\u30c8\u30a2"
       ]
      },
      {
       "output_type": "stream",
       "stream": "stdout",
       "text": [
        " \ud559\uc2b5\n",
        "\u30aa\u30ea\u30b3\u30f3\u30df\u30e5\u30fc\u30b8\u30c3\u30af\u30b9\u30c8\u30a2"
       ]
      },
      {
       "output_type": "stream",
       "stream": "stdout",
       "text": [
        " \ucee4\ubba4\ub2c8\ud2f0\n",
        "Shut Up! App"
       ]
      },
      {
       "output_type": "stream",
       "stream": "stdout",
       "text": [
        " \ubbf8\uc6a9\n",
        "Shut Up! App"
       ]
      },
      {
       "output_type": "stream",
       "stream": "stdout",
       "text": [
        " \uc74c\uc545\n",
        "Shut Up! App \ub9ac\ubdf0\n",
        "Shut Up! App"
       ]
      },
      {
       "output_type": "stream",
       "stream": "stdout",
       "text": [
        " \uc5f0\uc608\n",
        "Shut Up! App"
       ]
      },
      {
       "output_type": "stream",
       "stream": "stdout",
       "text": [
        " \uc74c\uc2dd\n",
        "Shut Up! App"
       ]
      },
      {
       "output_type": "stream",
       "stream": "stdout",
       "text": [
        " \uc2a4\ud3ec\uce20\n",
        "Shut Up! App \uac8c\uc784\n",
        "Shut Up! App"
       ]
      },
      {
       "output_type": "stream",
       "stream": "stdout",
       "text": [
        " \uac74\uac15\n",
        "Shut Up! App"
       ]
      },
      {
       "output_type": "stream",
       "stream": "stdout",
       "text": [
        " \ud559\uc2b5\n",
        "Shut Up! App"
       ]
      },
      {
       "output_type": "stream",
       "stream": "stdout",
       "text": [
        " \ucee4\ubba4\ub2c8\ud2f0\n",
        "\ub9e4\ub2c8\ud050\uc5b4 \ub514\uc790\uc774\ub108 \ub77c\uc774\ud2b8"
       ]
      },
      {
       "output_type": "stream",
       "stream": "stdout",
       "text": [
        " \ubbf8\uc6a9\n",
        "\ub9e4\ub2c8\ud050\uc5b4 \ub514\uc790\uc774\ub108 \ub77c\uc774\ud2b8"
       ]
      },
      {
       "output_type": "stream",
       "stream": "stdout",
       "text": [
        " \uc74c\uc545\n",
        "\ub9e4\ub2c8\ud050\uc5b4 \ub514\uc790\uc774\ub108 \ub77c\uc774\ud2b8"
       ]
      },
      {
       "output_type": "stream",
       "stream": "stdout",
       "text": [
        " \ub9ac\ubdf0\n",
        "\ub9e4\ub2c8\ud050\uc5b4 \ub514\uc790\uc774\ub108 \ub77c\uc774\ud2b8"
       ]
      },
      {
       "output_type": "stream",
       "stream": "stdout",
       "text": [
        " \uc5f0\uc608\n",
        "\ub9e4\ub2c8\ud050\uc5b4 \ub514\uc790\uc774\ub108 \ub77c\uc774\ud2b8"
       ]
      },
      {
       "output_type": "stream",
       "stream": "stdout",
       "text": [
        " \uc74c\uc2dd\n",
        "\ub9e4\ub2c8\ud050\uc5b4 \ub514\uc790\uc774\ub108 \ub77c\uc774\ud2b8"
       ]
      },
      {
       "output_type": "stream",
       "stream": "stdout",
       "text": [
        " \uc2a4\ud3ec\uce20\n",
        "\ub9e4\ub2c8\ud050\uc5b4 \ub514\uc790\uc774\ub108 \ub77c\uc774\ud2b8"
       ]
      },
      {
       "output_type": "stream",
       "stream": "stdout",
       "text": [
        " \uac8c\uc784\n",
        "\ub9e4\ub2c8\ud050\uc5b4 \ub514\uc790\uc774\ub108 \ub77c\uc774\ud2b8"
       ]
      },
      {
       "output_type": "stream",
       "stream": "stdout",
       "text": [
        " \uac74\uac15\n",
        "\ub9e4\ub2c8\ud050\uc5b4 \ub514\uc790\uc774\ub108 \ub77c\uc774\ud2b8"
       ]
      },
      {
       "output_type": "stream",
       "stream": "stdout",
       "text": [
        " \ud559\uc2b5\n",
        "\ub9e4\ub2c8\ud050\uc5b4 \ub514\uc790\uc774\ub108 \ub77c\uc774\ud2b8"
       ]
      },
      {
       "output_type": "stream",
       "stream": "stdout",
       "text": [
        " \ucee4\ubba4\ub2c8\ud2f0\n",
        "\u4e58\u6cd5\u5c0f\u5b78\u5802"
       ]
      },
      {
       "output_type": "stream",
       "stream": "stdout",
       "text": [
        " \ubbf8\uc6a9\n",
        "\u4e58\u6cd5\u5c0f\u5b78\u5802"
       ]
      },
      {
       "output_type": "stream",
       "stream": "stdout",
       "text": [
        " \uc74c\uc545\n",
        "\u4e58\u6cd5\u5c0f\u5b78\u5802"
       ]
      },
      {
       "output_type": "stream",
       "stream": "stdout",
       "text": [
        " \ub9ac\ubdf0\n",
        "\u4e58\u6cd5\u5c0f\u5b78\u5802"
       ]
      },
      {
       "output_type": "stream",
       "stream": "stdout",
       "text": [
        " \uc5f0\uc608\n",
        "\u4e58\u6cd5\u5c0f\u5b78\u5802"
       ]
      },
      {
       "output_type": "stream",
       "stream": "stdout",
       "text": [
        " \uc74c\uc2dd\n",
        "\u4e58\u6cd5\u5c0f\u5b78\u5802"
       ]
      },
      {
       "output_type": "stream",
       "stream": "stdout",
       "text": [
        " \uc2a4\ud3ec\uce20\n",
        "\u4e58\u6cd5\u5c0f\u5b78\u5802"
       ]
      },
      {
       "output_type": "stream",
       "stream": "stdout",
       "text": [
        " \uac8c\uc784\n",
        "\u4e58\u6cd5\u5c0f\u5b78\u5802"
       ]
      },
      {
       "output_type": "stream",
       "stream": "stdout",
       "text": [
        " \uac74\uac15\n",
        "\u4e58\u6cd5\u5c0f\u5b78\u5802"
       ]
      },
      {
       "output_type": "stream",
       "stream": "stdout",
       "text": [
        " \ud559\uc2b5\n",
        "\u4e58\u6cd5\u5c0f\u5b78\u5802"
       ]
      },
      {
       "output_type": "stream",
       "stream": "stdout",
       "text": [
        " \ucee4\ubba4\ub2c8\ud2f0\n",
        "T map for KT,LGU+"
       ]
      },
      {
       "output_type": "stream",
       "stream": "stdout",
       "text": [
        " \ubbf8\uc6a9\n",
        "T map for KT,LGU+"
       ]
      },
      {
       "output_type": "stream",
       "stream": "stdout",
       "text": [
        " \uc74c\uc545\n",
        "T map for KT,LGU+"
       ]
      },
      {
       "output_type": "stream",
       "stream": "stdout",
       "text": [
        " \ub9ac\ubdf0\n",
        "T map for KT,LGU+"
       ]
      },
      {
       "output_type": "stream",
       "stream": "stdout",
       "text": [
        " \uc5f0\uc608\n",
        "T map for KT,LGU+"
       ]
      },
      {
       "output_type": "stream",
       "stream": "stdout",
       "text": [
        " \uc74c\uc2dd\n",
        "T map for KT,LGU+"
       ]
      },
      {
       "output_type": "stream",
       "stream": "stdout",
       "text": [
        " \uc2a4\ud3ec\uce20\n",
        "T map for KT,LGU+"
       ]
      },
      {
       "output_type": "stream",
       "stream": "stdout",
       "text": [
        " \uac8c\uc784\n",
        "T map for KT,LGU+"
       ]
      },
      {
       "output_type": "stream",
       "stream": "stdout",
       "text": [
        " \uac74\uac15\n",
        "T map for KT,LGU+"
       ]
      },
      {
       "output_type": "stream",
       "stream": "stdout",
       "text": [
        " \ud559\uc2b5\n",
        "T map for KT,LGU+"
       ]
      },
      {
       "output_type": "stream",
       "stream": "stdout",
       "text": [
        " \ucee4\ubba4\ub2c8\ud2f0\n",
        "\u53f0\u7063\u5496\u5561/\u98f2\u6599\u5927\u5168\uff01 (online\u7248, \u53ef\u4e0b\u8f09\u96e2\u7dda\u4f7f\u7528)"
       ]
      },
      {
       "output_type": "stream",
       "stream": "stdout",
       "text": [
        " \ubbf8\uc6a9\n",
        "\u53f0\u7063\u5496\u5561/\u98f2\u6599\u5927\u5168\uff01 (online\u7248, \u53ef\u4e0b\u8f09\u96e2\u7dda\u4f7f\u7528)"
       ]
      },
      {
       "output_type": "stream",
       "stream": "stdout",
       "text": [
        " \uc74c\uc545\n",
        "\u53f0\u7063\u5496\u5561/\u98f2\u6599\u5927\u5168\uff01 (online\u7248, \u53ef\u4e0b\u8f09\u96e2\u7dda\u4f7f\u7528)"
       ]
      },
      {
       "output_type": "stream",
       "stream": "stdout",
       "text": [
        " \ub9ac\ubdf0\n",
        "\u53f0\u7063\u5496\u5561/\u98f2\u6599\u5927\u5168\uff01 (online\u7248, \u53ef\u4e0b\u8f09\u96e2\u7dda\u4f7f\u7528)"
       ]
      },
      {
       "output_type": "stream",
       "stream": "stdout",
       "text": [
        " \uc5f0\uc608\n",
        "\u53f0\u7063\u5496\u5561/\u98f2\u6599\u5927\u5168\uff01 (online\u7248, \u53ef\u4e0b\u8f09\u96e2\u7dda\u4f7f\u7528)"
       ]
      },
      {
       "output_type": "stream",
       "stream": "stdout",
       "text": [
        " \uc74c\uc2dd\n",
        "\u53f0\u7063\u5496\u5561/\u98f2\u6599\u5927\u5168\uff01 (online\u7248, \u53ef\u4e0b\u8f09\u96e2\u7dda\u4f7f\u7528)"
       ]
      },
      {
       "output_type": "stream",
       "stream": "stdout",
       "text": [
        " \uc2a4\ud3ec\uce20\n",
        "\u53f0\u7063\u5496\u5561/\u98f2\u6599\u5927\u5168\uff01 (online\u7248, \u53ef\u4e0b\u8f09\u96e2\u7dda\u4f7f\u7528)"
       ]
      },
      {
       "output_type": "stream",
       "stream": "stdout",
       "text": [
        " \uac8c\uc784\n",
        "\u53f0\u7063\u5496\u5561/\u98f2\u6599\u5927\u5168\uff01 (online\u7248, \u53ef\u4e0b\u8f09\u96e2\u7dda\u4f7f\u7528)"
       ]
      },
      {
       "output_type": "stream",
       "stream": "stdout",
       "text": [
        " \uac74\uac15\n",
        "\u53f0\u7063\u5496\u5561/\u98f2\u6599\u5927\u5168\uff01 (online\u7248, \u53ef\u4e0b\u8f09\u96e2\u7dda\u4f7f\u7528)"
       ]
      },
      {
       "output_type": "stream",
       "stream": "stdout",
       "text": [
        " \ud559\uc2b5\n",
        "\u53f0\u7063\u5496\u5561/\u98f2\u6599\u5927\u5168\uff01 (online\u7248, \u53ef\u4e0b\u8f09\u96e2\u7dda\u4f7f\u7528)"
       ]
      },
      {
       "output_type": "stream",
       "stream": "stdout",
       "text": [
        " \ucee4\ubba4\ub2c8\ud2f0\n",
        "Mickey Mouse Clubhouse"
       ]
      },
      {
       "output_type": "stream",
       "stream": "stdout",
       "text": [
        " \ubbf8\uc6a9\n",
        "Mickey Mouse Clubhouse"
       ]
      },
      {
       "output_type": "stream",
       "stream": "stdout",
       "text": [
        " \uc74c\uc545\n",
        "Mickey Mouse Clubhouse"
       ]
      },
      {
       "output_type": "stream",
       "stream": "stdout",
       "text": [
        " \ub9ac\ubdf0\n",
        "Mickey Mouse Clubhouse"
       ]
      },
      {
       "output_type": "stream",
       "stream": "stdout",
       "text": [
        " \uc5f0\uc608\n",
        "Mickey Mouse Clubhouse"
       ]
      },
      {
       "output_type": "stream",
       "stream": "stdout",
       "text": [
        " \uc74c\uc2dd\n",
        "Mickey Mouse Clubhouse"
       ]
      },
      {
       "output_type": "stream",
       "stream": "stdout",
       "text": [
        " \uc2a4\ud3ec\uce20\n",
        "Mickey Mouse Clubhouse"
       ]
      },
      {
       "output_type": "stream",
       "stream": "stdout",
       "text": [
        " \uac8c\uc784\n",
        "Mickey Mouse Clubhouse"
       ]
      },
      {
       "output_type": "stream",
       "stream": "stdout",
       "text": [
        " \uac74\uac15\n",
        "Mickey Mouse Clubhouse"
       ]
      },
      {
       "output_type": "stream",
       "stream": "stdout",
       "text": [
        " \ud559\uc2b5\n",
        "Mickey Mouse Clubhouse"
       ]
      },
      {
       "output_type": "stream",
       "stream": "stdout",
       "text": [
        " \ucee4\ubba4\ub2c8\ud2f0\n",
        "\u59dc\u997c\u4eba\u5927\u9003\u4ea1 (Ovenbreak) \ubbf8\uc6a9\n",
        "\u59dc\u997c\u4eba\u5927\u9003\u4ea1 (Ovenbreak)"
       ]
      },
      {
       "output_type": "stream",
       "stream": "stdout",
       "text": [
        " \uc74c\uc545\n",
        "\u59dc\u997c\u4eba\u5927\u9003\u4ea1 (Ovenbreak)"
       ]
      },
      {
       "output_type": "stream",
       "stream": "stdout",
       "text": [
        " \ub9ac\ubdf0\n",
        "\u59dc\u997c\u4eba\u5927\u9003\u4ea1 (Ovenbreak)"
       ]
      },
      {
       "output_type": "stream",
       "stream": "stdout",
       "text": [
        " \uc5f0\uc608\n",
        "\u59dc\u997c\u4eba\u5927\u9003\u4ea1 (Ovenbreak)"
       ]
      },
      {
       "output_type": "stream",
       "stream": "stdout",
       "text": [
        " \uc74c\uc2dd\n",
        "\u59dc\u997c\u4eba\u5927\u9003\u4ea1 (Ovenbreak)"
       ]
      },
      {
       "output_type": "stream",
       "stream": "stdout",
       "text": [
        " \uc2a4\ud3ec\uce20\n",
        "\u59dc\u997c\u4eba\u5927\u9003\u4ea1 (Ovenbreak)"
       ]
      },
      {
       "output_type": "stream",
       "stream": "stdout",
       "text": [
        " \uac8c\uc784\n",
        "\u59dc\u997c\u4eba\u5927\u9003\u4ea1 (Ovenbreak)"
       ]
      },
      {
       "output_type": "stream",
       "stream": "stdout",
       "text": [
        " \uac74\uac15\n",
        "\u59dc\u997c\u4eba\u5927\u9003\u4ea1 (Ovenbreak)"
       ]
      },
      {
       "output_type": "stream",
       "stream": "stdout",
       "text": [
        " \ud559\uc2b5\n",
        "\u59dc\u997c\u4eba\u5927\u9003\u4ea1 (Ovenbreak)"
       ]
      },
      {
       "output_type": "stream",
       "stream": "stdout",
       "text": [
        " \ucee4\ubba4\ub2c8\ud2f0\n",
        "\uc9c0\ubb38 \uc608\uc0c1"
       ]
      },
      {
       "output_type": "stream",
       "stream": "stdout",
       "text": [
        " \ubbf8\uc6a9\n",
        "\uc9c0\ubb38 \uc608\uc0c1"
       ]
      },
      {
       "output_type": "stream",
       "stream": "stdout",
       "text": [
        " \uc74c\uc545\n",
        "\uc9c0\ubb38 \uc608\uc0c1"
       ]
      },
      {
       "output_type": "stream",
       "stream": "stdout",
       "text": [
        " \ub9ac\ubdf0\n",
        "\uc9c0\ubb38 \uc608\uc0c1"
       ]
      },
      {
       "output_type": "stream",
       "stream": "stdout",
       "text": [
        " \uc5f0\uc608\n",
        "\uc9c0\ubb38 \uc608\uc0c1"
       ]
      },
      {
       "output_type": "stream",
       "stream": "stdout",
       "text": [
        " \uc74c\uc2dd\n",
        "\uc9c0\ubb38 \uc608\uc0c1"
       ]
      },
      {
       "output_type": "stream",
       "stream": "stdout",
       "text": [
        " \uc2a4\ud3ec\uce20\n",
        "\uc9c0\ubb38 \uc608\uc0c1"
       ]
      },
      {
       "output_type": "stream",
       "stream": "stdout",
       "text": [
        " \uac8c\uc784\n",
        "\uc9c0\ubb38 \uc608\uc0c1"
       ]
      },
      {
       "output_type": "stream",
       "stream": "stdout",
       "text": [
        " \uac74\uac15\n",
        "\uc9c0\ubb38 \uc608\uc0c1"
       ]
      },
      {
       "output_type": "stream",
       "stream": "stdout",
       "text": [
        " \ud559\uc2b5\n",
        "\uc9c0\ubb38 \uc608\uc0c1"
       ]
      },
      {
       "output_type": "stream",
       "stream": "stdout",
       "text": [
        " \ucee4\ubba4\ub2c8\ud2f0\n",
        "\uc2a4\ud241\uc2a4(stoongs) Email\uc601\uc5b4"
       ]
      },
      {
       "output_type": "stream",
       "stream": "stdout",
       "text": [
        " \ubbf8\uc6a9\n",
        "\uc2a4\ud241\uc2a4(stoongs) Email\uc601\uc5b4"
       ]
      },
      {
       "output_type": "stream",
       "stream": "stdout",
       "text": [
        " \uc74c\uc545\n",
        "\uc2a4\ud241\uc2a4(stoongs) Email\uc601\uc5b4"
       ]
      },
      {
       "output_type": "stream",
       "stream": "stdout",
       "text": [
        " \ub9ac\ubdf0\n",
        "\uc2a4\ud241\uc2a4(stoongs) Email\uc601\uc5b4"
       ]
      },
      {
       "output_type": "stream",
       "stream": "stdout",
       "text": [
        " \uc5f0\uc608\n",
        "\uc2a4\ud241\uc2a4(stoongs) Email\uc601\uc5b4"
       ]
      },
      {
       "output_type": "stream",
       "stream": "stdout",
       "text": [
        " \uc74c\uc2dd\n",
        "\uc2a4\ud241\uc2a4(stoongs) Email\uc601\uc5b4 \uc2a4\ud3ec\uce20\n",
        "\uc2a4\ud241\uc2a4(stoongs) Email\uc601\uc5b4"
       ]
      },
      {
       "output_type": "stream",
       "stream": "stdout",
       "text": [
        " \uac8c\uc784\n",
        "\uc2a4\ud241\uc2a4(stoongs) Email\uc601\uc5b4"
       ]
      },
      {
       "output_type": "stream",
       "stream": "stdout",
       "text": [
        " \uac74\uac15\n",
        "\uc2a4\ud241\uc2a4(stoongs) Email\uc601\uc5b4"
       ]
      },
      {
       "output_type": "stream",
       "stream": "stdout",
       "text": [
        " \ud559\uc2b5\n",
        "\uc2a4\ud241\uc2a4(stoongs) Email\uc601\uc5b4 \ucee4\ubba4\ub2c8\ud2f0\n",
        "EZ\u65c5\u904a\u65e5\u8a9e"
       ]
      },
      {
       "output_type": "stream",
       "stream": "stdout",
       "text": [
        " \ubbf8\uc6a9\n",
        "EZ\u65c5\u904a\u65e5\u8a9e"
       ]
      },
      {
       "output_type": "stream",
       "stream": "stdout",
       "text": [
        " \uc74c\uc545\n",
        "EZ\u65c5\u904a\u65e5\u8a9e"
       ]
      },
      {
       "output_type": "stream",
       "stream": "stdout",
       "text": [
        " \ub9ac\ubdf0\n",
        "EZ\u65c5\u904a\u65e5\u8a9e"
       ]
      },
      {
       "output_type": "stream",
       "stream": "stdout",
       "text": [
        " \uc5f0\uc608\n",
        "EZ\u65c5\u904a\u65e5\u8a9e"
       ]
      },
      {
       "output_type": "stream",
       "stream": "stdout",
       "text": [
        " \uc74c\uc2dd\n",
        "EZ\u65c5\u904a\u65e5\u8a9e"
       ]
      },
      {
       "output_type": "stream",
       "stream": "stdout",
       "text": [
        " \uc2a4\ud3ec\uce20\n",
        "EZ\u65c5\u904a\u65e5\u8a9e"
       ]
      },
      {
       "output_type": "stream",
       "stream": "stdout",
       "text": [
        " \uac8c\uc784\n",
        "EZ\u65c5\u904a\u65e5\u8a9e"
       ]
      },
      {
       "output_type": "stream",
       "stream": "stdout",
       "text": [
        " \uac74\uac15\n",
        "EZ\u65c5\u904a\u65e5\u8a9e"
       ]
      },
      {
       "output_type": "stream",
       "stream": "stdout",
       "text": [
        " \ud559\uc2b5\n",
        "EZ\u65c5\u904a\u65e5\u8a9e"
       ]
      },
      {
       "output_type": "stream",
       "stream": "stdout",
       "text": [
        " \ucee4\ubba4\ub2c8\ud2f0\n",
        "EZ\u7f8e\u98df\u65e5\u8a9e"
       ]
      },
      {
       "output_type": "stream",
       "stream": "stdout",
       "text": [
        " \ubbf8\uc6a9\n",
        "EZ\u7f8e\u98df\u65e5\u8a9e"
       ]
      },
      {
       "output_type": "stream",
       "stream": "stdout",
       "text": [
        " \uc74c\uc545\n",
        "EZ\u7f8e\u98df\u65e5\u8a9e"
       ]
      },
      {
       "output_type": "stream",
       "stream": "stdout",
       "text": [
        " \ub9ac\ubdf0\n",
        "EZ\u7f8e\u98df\u65e5\u8a9e"
       ]
      },
      {
       "output_type": "stream",
       "stream": "stdout",
       "text": [
        " \uc5f0\uc608\n",
        "EZ\u7f8e\u98df\u65e5\u8a9e"
       ]
      },
      {
       "output_type": "stream",
       "stream": "stdout",
       "text": [
        " \uc74c\uc2dd\n",
        "EZ\u7f8e\u98df\u65e5\u8a9e"
       ]
      },
      {
       "output_type": "stream",
       "stream": "stdout",
       "text": [
        " \uc2a4\ud3ec\uce20\n",
        "EZ\u7f8e\u98df\u65e5\u8a9e"
       ]
      },
      {
       "output_type": "stream",
       "stream": "stdout",
       "text": [
        " \uac8c\uc784\n",
        "EZ\u7f8e\u98df\u65e5\u8a9e"
       ]
      },
      {
       "output_type": "stream",
       "stream": "stdout",
       "text": [
        " \uac74\uac15\n",
        "EZ\u7f8e\u98df\u65e5\u8a9e"
       ]
      },
      {
       "output_type": "stream",
       "stream": "stdout",
       "text": [
        " \ud559\uc2b5\n",
        "EZ\u7f8e\u98df\u65e5\u8a9e"
       ]
      },
      {
       "output_type": "stream",
       "stream": "stdout",
       "text": [
        " \ucee4\ubba4\ub2c8\ud2f0\n",
        "Net Big 2 Free"
       ]
      },
      {
       "output_type": "stream",
       "stream": "stdout",
       "text": [
        " \ubbf8\uc6a9\n",
        "Net Big 2 Free"
       ]
      },
      {
       "output_type": "stream",
       "stream": "stdout",
       "text": [
        " \uc74c\uc545\n",
        "Net Big 2 Free"
       ]
      },
      {
       "output_type": "stream",
       "stream": "stdout",
       "text": [
        " \ub9ac\ubdf0\n",
        "Net Big 2 Free"
       ]
      },
      {
       "output_type": "stream",
       "stream": "stdout",
       "text": [
        " \uc5f0\uc608\n",
        "Net Big 2 Free"
       ]
      },
      {
       "output_type": "stream",
       "stream": "stdout",
       "text": [
        " \uc74c\uc2dd\n",
        "Net Big 2 Free \uc2a4\ud3ec\uce20\n",
        "Net Big 2 Free"
       ]
      },
      {
       "output_type": "stream",
       "stream": "stdout",
       "text": [
        " \uac8c\uc784\n",
        "Net Big 2 Free"
       ]
      },
      {
       "output_type": "stream",
       "stream": "stdout",
       "text": [
        " \uac74\uac15\n",
        "Net Big 2 Free"
       ]
      },
      {
       "output_type": "stream",
       "stream": "stdout",
       "text": [
        " \ud559\uc2b5\n",
        "Net Big 2 Free \ucee4\ubba4\ub2c8\ud2f0\n",
        "Jewellust Xmas"
       ]
      },
      {
       "output_type": "stream",
       "stream": "stdout",
       "text": [
        " \ubbf8\uc6a9\n",
        "Jewellust Xmas \uc74c\uc545\n",
        "Jewellust Xmas"
       ]
      },
      {
       "output_type": "stream",
       "stream": "stdout",
       "text": [
        " \ub9ac\ubdf0\n",
        "Jewellust Xmas"
       ]
      },
      {
       "output_type": "stream",
       "stream": "stdout",
       "text": [
        " \uc5f0\uc608\n",
        "Jewellust Xmas"
       ]
      },
      {
       "output_type": "stream",
       "stream": "stdout",
       "text": [
        " \uc74c\uc2dd\n",
        "Jewellust Xmas"
       ]
      },
      {
       "output_type": "stream",
       "stream": "stdout",
       "text": [
        " \uc2a4\ud3ec\uce20\n",
        "Jewellust Xmas \uac8c\uc784\n",
        "Jewellust Xmas"
       ]
      },
      {
       "output_type": "stream",
       "stream": "stdout",
       "text": [
        " \uac74\uac15\n",
        "Jewellust Xmas"
       ]
      },
      {
       "output_type": "stream",
       "stream": "stdout",
       "text": [
        " \ud559\uc2b5\n",
        "Jewellust Xmas"
       ]
      },
      {
       "output_type": "stream",
       "stream": "stdout",
       "text": [
        " \ucee4\ubba4\ub2c8\ud2f0\n",
        "\uce74\ud1a1 \uc774\ubaa8\ud2f0\ucf58"
       ]
      },
      {
       "output_type": "stream",
       "stream": "stdout",
       "text": [
        " \ubbf8\uc6a9\n",
        "\uce74\ud1a1 \uc774\ubaa8\ud2f0\ucf58 \uc74c\uc545\n",
        "\uce74\ud1a1 \uc774\ubaa8\ud2f0\ucf58"
       ]
      },
      {
       "output_type": "stream",
       "stream": "stdout",
       "text": [
        " \ub9ac\ubdf0\n",
        "\uce74\ud1a1 \uc774\ubaa8\ud2f0\ucf58"
       ]
      },
      {
       "output_type": "stream",
       "stream": "stdout",
       "text": [
        " \uc5f0\uc608\n",
        "\uce74\ud1a1 \uc774\ubaa8\ud2f0\ucf58 \uc74c\uc2dd\n",
        "\uce74\ud1a1 \uc774\ubaa8\ud2f0\ucf58"
       ]
      },
      {
       "output_type": "stream",
       "stream": "stdout",
       "text": [
        " \uc2a4\ud3ec\uce20\n",
        "\uce74\ud1a1 \uc774\ubaa8\ud2f0\ucf58"
       ]
      },
      {
       "output_type": "stream",
       "stream": "stdout",
       "text": [
        " \uac8c\uc784\n",
        "\uce74\ud1a1 \uc774\ubaa8\ud2f0\ucf58 \uac74\uac15\n",
        "\uce74\ud1a1 \uc774\ubaa8\ud2f0\ucf58"
       ]
      },
      {
       "output_type": "stream",
       "stream": "stdout",
       "text": [
        " \ud559\uc2b5\n",
        "\uce74\ud1a1 \uc774\ubaa8\ud2f0\ucf58"
       ]
      },
      {
       "output_type": "stream",
       "stream": "stdout",
       "text": [
        " \ucee4\ubba4\ub2c8\ud2f0\n",
        "The Island: Castaway \ubbf8\uc6a9\n",
        "The Island: Castaway"
       ]
      },
      {
       "output_type": "stream",
       "stream": "stdout",
       "text": [
        " \uc74c\uc545\n",
        "The Island: Castaway"
       ]
      },
      {
       "output_type": "stream",
       "stream": "stdout",
       "text": [
        " \ub9ac\ubdf0\n",
        "The Island: Castaway \uc5f0\uc608\n",
        "The Island: Castaway"
       ]
      },
      {
       "output_type": "stream",
       "stream": "stdout",
       "text": [
        " \uc74c\uc2dd\n",
        "The Island: Castaway \uc2a4\ud3ec\uce20\n",
        "The Island: Castaway"
       ]
      },
      {
       "output_type": "stream",
       "stream": "stdout",
       "text": [
        " \uac8c\uc784\n",
        "The Island: Castaway"
       ]
      },
      {
       "output_type": "stream",
       "stream": "stdout",
       "text": [
        " \uac74\uac15\n",
        "The Island: Castaway \ud559\uc2b5\n",
        "The Island: Castaway"
       ]
      },
      {
       "output_type": "stream",
       "stream": "stdout",
       "text": [
        " \ucee4\ubba4\ub2c8\ud2f0\n",
        "\u5eb7\u7199\u4f86\u4e86 TV"
       ]
      },
      {
       "output_type": "stream",
       "stream": "stdout",
       "text": [
        " \ubbf8\uc6a9\n",
        "\u5eb7\u7199\u4f86\u4e86 TV \uc74c\uc545\n",
        "\u5eb7\u7199\u4f86\u4e86 TV"
       ]
      },
      {
       "output_type": "stream",
       "stream": "stdout",
       "text": [
        " \ub9ac\ubdf0\n",
        "\u5eb7\u7199\u4f86\u4e86 TV \uc5f0\uc608\n",
        "\u5eb7\u7199\u4f86\u4e86 TV"
       ]
      },
      {
       "output_type": "stream",
       "stream": "stdout",
       "text": [
        " \uc74c\uc2dd\n",
        "\u5eb7\u7199\u4f86\u4e86 TV"
       ]
      },
      {
       "output_type": "stream",
       "stream": "stdout",
       "text": [
        " \uc2a4\ud3ec\uce20\n",
        "\u5eb7\u7199\u4f86\u4e86 TV"
       ]
      },
      {
       "output_type": "stream",
       "stream": "stdout",
       "text": [
        " \uac8c\uc784\n",
        "\u5eb7\u7199\u4f86\u4e86 TV"
       ]
      },
      {
       "output_type": "stream",
       "stream": "stdout",
       "text": [
        " \uac74\uac15\n",
        "\u5eb7\u7199\u4f86\u4e86 TV"
       ]
      },
      {
       "output_type": "stream",
       "stream": "stdout",
       "text": [
        " \ud559\uc2b5\n",
        "\u5eb7\u7199\u4f86\u4e86 TV"
       ]
      },
      {
       "output_type": "stream",
       "stream": "stdout",
       "text": [
        " \ucee4\ubba4\ub2c8\ud2f0\n",
        "Kids Jigsaw Puzzles Ocean Free"
       ]
      },
      {
       "output_type": "stream",
       "stream": "stdout",
       "text": [
        " \ubbf8\uc6a9\n",
        "Kids Jigsaw Puzzles Ocean Free"
       ]
      },
      {
       "output_type": "stream",
       "stream": "stdout",
       "text": [
        " \uc74c\uc545\n",
        "Kids Jigsaw Puzzles Ocean Free"
       ]
      },
      {
       "output_type": "stream",
       "stream": "stdout",
       "text": [
        " \ub9ac\ubdf0\n",
        "Kids Jigsaw Puzzles Ocean Free"
       ]
      },
      {
       "output_type": "stream",
       "stream": "stdout",
       "text": [
        " \uc5f0\uc608\n",
        "Kids Jigsaw Puzzles Ocean Free"
       ]
      },
      {
       "output_type": "stream",
       "stream": "stdout",
       "text": [
        " \uc74c\uc2dd\n",
        "Kids Jigsaw Puzzles Ocean Free"
       ]
      },
      {
       "output_type": "stream",
       "stream": "stdout",
       "text": [
        " \uc2a4\ud3ec\uce20\n",
        "Kids Jigsaw Puzzles Ocean Free"
       ]
      },
      {
       "output_type": "stream",
       "stream": "stdout",
       "text": [
        " \uac8c\uc784\n",
        "Kids Jigsaw Puzzles Ocean Free"
       ]
      },
      {
       "output_type": "stream",
       "stream": "stdout",
       "text": [
        " \uac74\uac15\n",
        "Kids Jigsaw Puzzles Ocean Free"
       ]
      },
      {
       "output_type": "stream",
       "stream": "stdout",
       "text": [
        " \ud559\uc2b5\n",
        "Kids Jigsaw Puzzles Ocean Free"
       ]
      },
      {
       "output_type": "stream",
       "stream": "stdout",
       "text": [
        " \ucee4\ubba4\ub2c8\ud2f0\n",
        "\u79d8\u5bf6\u63a2\u5075"
       ]
      },
      {
       "output_type": "stream",
       "stream": "stdout",
       "text": [
        " \ubbf8\uc6a9\n",
        "\u79d8\u5bf6\u63a2\u5075"
       ]
      },
      {
       "output_type": "stream",
       "stream": "stdout",
       "text": [
        " \uc74c\uc545\n",
        "\u79d8\u5bf6\u63a2\u5075"
       ]
      },
      {
       "output_type": "stream",
       "stream": "stdout",
       "text": [
        " \ub9ac\ubdf0\n",
        "\u79d8\u5bf6\u63a2\u5075"
       ]
      },
      {
       "output_type": "stream",
       "stream": "stdout",
       "text": [
        " \uc5f0\uc608\n",
        "\u79d8\u5bf6\u63a2\u5075"
       ]
      },
      {
       "output_type": "stream",
       "stream": "stdout",
       "text": [
        " \uc74c\uc2dd\n",
        "\u79d8\u5bf6\u63a2\u5075"
       ]
      },
      {
       "output_type": "stream",
       "stream": "stdout",
       "text": [
        " \uc2a4\ud3ec\uce20\n",
        "\u79d8\u5bf6\u63a2\u5075"
       ]
      },
      {
       "output_type": "stream",
       "stream": "stdout",
       "text": [
        " \uac8c\uc784\n",
        "\u79d8\u5bf6\u63a2\u5075"
       ]
      },
      {
       "output_type": "stream",
       "stream": "stdout",
       "text": [
        " \uac74\uac15\n",
        "\u79d8\u5bf6\u63a2\u5075"
       ]
      },
      {
       "output_type": "stream",
       "stream": "stdout",
       "text": [
        " \ud559\uc2b5\n",
        "\u79d8\u5bf6\u63a2\u5075 \ucee4\ubba4\ub2c8\ud2f0\n",
        "Airport Mania XP FREE"
       ]
      },
      {
       "output_type": "stream",
       "stream": "stdout",
       "text": [
        " \ubbf8\uc6a9\n",
        "Airport Mania XP FREE"
       ]
      },
      {
       "output_type": "stream",
       "stream": "stdout",
       "text": [
        " \uc74c\uc545\n",
        "Airport Mania XP FREE"
       ]
      },
      {
       "output_type": "stream",
       "stream": "stdout",
       "text": [
        " \ub9ac\ubdf0\n",
        "Airport Mania XP FREE"
       ]
      },
      {
       "output_type": "stream",
       "stream": "stdout",
       "text": [
        " \uc5f0\uc608\n",
        "Airport Mania XP FREE"
       ]
      },
      {
       "output_type": "stream",
       "stream": "stdout",
       "text": [
        " \uc74c\uc2dd\n",
        "Airport Mania XP FREE"
       ]
      },
      {
       "output_type": "stream",
       "stream": "stdout",
       "text": [
        " \uc2a4\ud3ec\uce20\n",
        "Airport Mania XP FREE"
       ]
      },
      {
       "output_type": "stream",
       "stream": "stdout",
       "text": [
        " \uac8c\uc784\n",
        "Airport Mania XP FREE \uac74\uac15\n",
        "Airport Mania XP FREE"
       ]
      },
      {
       "output_type": "stream",
       "stream": "stdout",
       "text": [
        " \ud559\uc2b5\n",
        "Airport Mania XP FREE"
       ]
      },
      {
       "output_type": "stream",
       "stream": "stdout",
       "text": [
        " \ucee4\ubba4\ub2c8\ud2f0\n",
        "Korean Vocabulary"
       ]
      },
      {
       "output_type": "stream",
       "stream": "stdout",
       "text": [
        " \ubbf8\uc6a9\n",
        "Korean Vocabulary"
       ]
      },
      {
       "output_type": "stream",
       "stream": "stdout",
       "text": [
        " \uc74c\uc545\n",
        "Korean Vocabulary"
       ]
      },
      {
       "output_type": "stream",
       "stream": "stdout",
       "text": [
        " \ub9ac\ubdf0\n",
        "Korean Vocabulary"
       ]
      },
      {
       "output_type": "stream",
       "stream": "stdout",
       "text": [
        " \uc5f0\uc608\n",
        "Korean Vocabulary \uc74c\uc2dd\n",
        "Korean Vocabulary"
       ]
      },
      {
       "output_type": "stream",
       "stream": "stdout",
       "text": [
        " \uc2a4\ud3ec\uce20\n",
        "Korean Vocabulary"
       ]
      },
      {
       "output_type": "stream",
       "stream": "stdout",
       "text": [
        " \uac8c\uc784\n",
        "Korean Vocabulary"
       ]
      },
      {
       "output_type": "stream",
       "stream": "stdout",
       "text": [
        " \uac74\uac15\n",
        "Korean Vocabulary"
       ]
      },
      {
       "output_type": "stream",
       "stream": "stdout",
       "text": [
        " \ud559\uc2b5\n",
        "Korean Vocabulary"
       ]
      },
      {
       "output_type": "stream",
       "stream": "stdout",
       "text": [
        " \ucee4\ubba4\ub2c8\ud2f0\n",
        "\u010cT4"
       ]
      },
      {
       "output_type": "stream",
       "stream": "stdout",
       "text": [
        " \ubbf8\uc6a9\n",
        "\u010cT4"
       ]
      },
      {
       "output_type": "stream",
       "stream": "stdout",
       "text": [
        " \uc74c\uc545\n",
        "\u010cT4"
       ]
      },
      {
       "output_type": "stream",
       "stream": "stdout",
       "text": [
        " \ub9ac\ubdf0\n",
        "\u010cT4"
       ]
      },
      {
       "output_type": "stream",
       "stream": "stdout",
       "text": [
        " \uc5f0\uc608\n",
        "\u010cT4"
       ]
      },
      {
       "output_type": "stream",
       "stream": "stdout",
       "text": [
        " \uc74c\uc2dd\n",
        "\u010cT4"
       ]
      },
      {
       "output_type": "stream",
       "stream": "stdout",
       "text": [
        " \uc2a4\ud3ec\uce20\n",
        "\u010cT4"
       ]
      },
      {
       "output_type": "stream",
       "stream": "stdout",
       "text": [
        " \uac8c\uc784\n",
        "\u010cT4"
       ]
      },
      {
       "output_type": "stream",
       "stream": "stdout",
       "text": [
        " \uac74\uac15\n",
        "\u010cT4"
       ]
      },
      {
       "output_type": "stream",
       "stream": "stdout",
       "text": [
        " \ud559\uc2b5\n",
        "\u010cT4"
       ]
      },
      {
       "output_type": "stream",
       "stream": "stdout",
       "text": [
        " \ucee4\ubba4\ub2c8\ud2f0\n",
        "Bluetooth OnOff \ubbf8\uc6a9\n",
        "Bluetooth OnOff"
       ]
      },
      {
       "output_type": "stream",
       "stream": "stdout",
       "text": [
        " \uc74c\uc545\n",
        "Bluetooth OnOff \ub9ac\ubdf0\n",
        "Bluetooth OnOff"
       ]
      },
      {
       "output_type": "stream",
       "stream": "stdout",
       "text": [
        " \uc5f0\uc608\n",
        "Bluetooth OnOff \uc74c\uc2dd\n",
        "Bluetooth OnOff"
       ]
      },
      {
       "output_type": "stream",
       "stream": "stdout",
       "text": [
        " \uc2a4\ud3ec\uce20\n",
        "Bluetooth OnOff"
       ]
      },
      {
       "output_type": "stream",
       "stream": "stdout",
       "text": [
        " \uac8c\uc784\n",
        "Bluetooth OnOff"
       ]
      },
      {
       "output_type": "stream",
       "stream": "stdout",
       "text": [
        " \uac74\uac15\n",
        "Bluetooth OnOff"
       ]
      },
      {
       "output_type": "stream",
       "stream": "stdout",
       "text": [
        " \ud559\uc2b5\n",
        "Bluetooth OnOff"
       ]
      },
      {
       "output_type": "stream",
       "stream": "stdout",
       "text": [
        " \ucee4\ubba4\ub2c8\ud2f0\n",
        "\u516d\u6cd5\u5168\u66f8"
       ]
      },
      {
       "output_type": "stream",
       "stream": "stdout",
       "text": [
        " \ubbf8\uc6a9\n",
        "\u516d\u6cd5\u5168\u66f8"
       ]
      },
      {
       "output_type": "stream",
       "stream": "stdout",
       "text": [
        " \uc74c\uc545\n",
        "\u516d\u6cd5\u5168\u66f8"
       ]
      },
      {
       "output_type": "stream",
       "stream": "stdout",
       "text": [
        " \ub9ac\ubdf0\n",
        "\u516d\u6cd5\u5168\u66f8"
       ]
      },
      {
       "output_type": "stream",
       "stream": "stdout",
       "text": [
        " \uc5f0\uc608\n",
        "\u516d\u6cd5\u5168\u66f8"
       ]
      },
      {
       "output_type": "stream",
       "stream": "stdout",
       "text": [
        " \uc74c\uc2dd\n",
        "\u516d\u6cd5\u5168\u66f8"
       ]
      },
      {
       "output_type": "stream",
       "stream": "stdout",
       "text": [
        " \uc2a4\ud3ec\uce20\n",
        "\u516d\u6cd5\u5168\u66f8"
       ]
      },
      {
       "output_type": "stream",
       "stream": "stdout",
       "text": [
        " \uac8c\uc784\n",
        "\u516d\u6cd5\u5168\u66f8"
       ]
      },
      {
       "output_type": "stream",
       "stream": "stdout",
       "text": [
        " \uac74\uac15\n",
        "\u516d\u6cd5\u5168\u66f8"
       ]
      },
      {
       "output_type": "stream",
       "stream": "stdout",
       "text": [
        " \ud559\uc2b5\n",
        "\u516d\u6cd5\u5168\u66f8"
       ]
      },
      {
       "output_type": "stream",
       "stream": "stdout",
       "text": [
        " \ucee4\ubba4\ub2c8\ud2f0\n",
        "7\uae09\uacf5\ubb34\uc6d0 \ubb34\ub8cc\ub2e4\uc2dc\ubcf4\uae30-\uac00\uc785\uc5c6\uc74c/\uc2e4\uc2dc\uac04\uac10\uc0c1/TV\ub4dc\ub77c\ub9c8"
       ]
      },
      {
       "output_type": "stream",
       "stream": "stdout",
       "text": [
        " \ubbf8\uc6a9\n",
        "7\uae09\uacf5\ubb34\uc6d0 \ubb34\ub8cc\ub2e4\uc2dc\ubcf4\uae30-\uac00\uc785\uc5c6\uc74c/\uc2e4\uc2dc\uac04\uac10\uc0c1/TV\ub4dc\ub77c\ub9c8"
       ]
      },
      {
       "output_type": "stream",
       "stream": "stdout",
       "text": [
        " \uc74c\uc545\n",
        "7\uae09\uacf5\ubb34\uc6d0 \ubb34\ub8cc\ub2e4\uc2dc\ubcf4\uae30-\uac00\uc785\uc5c6\uc74c/\uc2e4\uc2dc\uac04\uac10\uc0c1/TV\ub4dc\ub77c\ub9c8"
       ]
      },
      {
       "output_type": "stream",
       "stream": "stdout",
       "text": [
        " \ub9ac\ubdf0\n",
        "7\uae09\uacf5\ubb34\uc6d0 \ubb34\ub8cc\ub2e4\uc2dc\ubcf4\uae30-\uac00\uc785\uc5c6\uc74c/\uc2e4\uc2dc\uac04\uac10\uc0c1/TV\ub4dc\ub77c\ub9c8"
       ]
      },
      {
       "output_type": "stream",
       "stream": "stdout",
       "text": [
        " \uc5f0\uc608\n",
        "7\uae09\uacf5\ubb34\uc6d0 \ubb34\ub8cc\ub2e4\uc2dc\ubcf4\uae30-\uac00\uc785\uc5c6\uc74c/\uc2e4\uc2dc\uac04\uac10\uc0c1/TV\ub4dc\ub77c\ub9c8"
       ]
      },
      {
       "output_type": "stream",
       "stream": "stdout",
       "text": [
        " \uc74c\uc2dd\n",
        "7\uae09\uacf5\ubb34\uc6d0 \ubb34\ub8cc\ub2e4\uc2dc\ubcf4\uae30-\uac00\uc785\uc5c6\uc74c/\uc2e4\uc2dc\uac04\uac10\uc0c1/TV\ub4dc\ub77c\ub9c8"
       ]
      },
      {
       "output_type": "stream",
       "stream": "stdout",
       "text": [
        " \uc2a4\ud3ec\uce20\n",
        "7\uae09\uacf5\ubb34\uc6d0 \ubb34\ub8cc\ub2e4\uc2dc\ubcf4\uae30-\uac00\uc785\uc5c6\uc74c/\uc2e4\uc2dc\uac04\uac10\uc0c1/TV\ub4dc\ub77c\ub9c8"
       ]
      },
      {
       "output_type": "stream",
       "stream": "stdout",
       "text": [
        " \uac8c\uc784\n",
        "7\uae09\uacf5\ubb34\uc6d0 \ubb34\ub8cc\ub2e4\uc2dc\ubcf4\uae30-\uac00\uc785\uc5c6\uc74c/\uc2e4\uc2dc\uac04\uac10\uc0c1/TV\ub4dc\ub77c\ub9c8"
       ]
      },
      {
       "output_type": "stream",
       "stream": "stdout",
       "text": [
        " \uac74\uac15\n",
        "7\uae09\uacf5\ubb34\uc6d0 \ubb34\ub8cc\ub2e4\uc2dc\ubcf4\uae30-\uac00\uc785\uc5c6\uc74c/\uc2e4\uc2dc\uac04\uac10\uc0c1/TV\ub4dc\ub77c\ub9c8"
       ]
      },
      {
       "output_type": "stream",
       "stream": "stdout",
       "text": [
        " \ud559\uc2b5\n",
        "7\uae09\uacf5\ubb34\uc6d0 \ubb34\ub8cc\ub2e4\uc2dc\ubcf4\uae30-\uac00\uc785\uc5c6\uc74c/\uc2e4\uc2dc\uac04\uac10\uc0c1/TV\ub4dc\ub77c\ub9c8"
       ]
      },
      {
       "output_type": "stream",
       "stream": "stdout",
       "text": [
        " \ucee4\ubba4\ub2c8\ud2f0\n",
        "Puzzle for Minecraft"
       ]
      },
      {
       "output_type": "stream",
       "stream": "stdout",
       "text": [
        " \ubbf8\uc6a9\n",
        "Puzzle for Minecraft"
       ]
      },
      {
       "output_type": "stream",
       "stream": "stdout",
       "text": [
        " \uc74c\uc545\n",
        "Puzzle for Minecraft"
       ]
      },
      {
       "output_type": "stream",
       "stream": "stdout",
       "text": [
        " \ub9ac\ubdf0\n",
        "Puzzle for Minecraft"
       ]
      },
      {
       "output_type": "stream",
       "stream": "stdout",
       "text": [
        " \uc5f0\uc608\n",
        "Puzzle for Minecraft"
       ]
      },
      {
       "output_type": "stream",
       "stream": "stdout",
       "text": [
        " \uc74c\uc2dd\n",
        "Puzzle for Minecraft"
       ]
      },
      {
       "output_type": "stream",
       "stream": "stdout",
       "text": [
        " \uc2a4\ud3ec\uce20\n",
        "Puzzle for Minecraft"
       ]
      },
      {
       "output_type": "stream",
       "stream": "stdout",
       "text": [
        " \uac8c\uc784\n",
        "Puzzle for Minecraft"
       ]
      },
      {
       "output_type": "stream",
       "stream": "stdout",
       "text": [
        " \uac74\uac15\n",
        "Puzzle for Minecraft"
       ]
      },
      {
       "output_type": "stream",
       "stream": "stdout",
       "text": [
        " \ud559\uc2b5\n",
        "Puzzle for Minecraft"
       ]
      },
      {
       "output_type": "stream",
       "stream": "stdout",
       "text": [
        " \ucee4\ubba4\ub2c8\ud2f0\n",
        "\uc5b4\ub514\uc5d0?"
       ]
      },
      {
       "output_type": "stream",
       "stream": "stdout",
       "text": [
        " \ubbf8\uc6a9\n",
        "\uc5b4\ub514\uc5d0?"
       ]
      },
      {
       "output_type": "stream",
       "stream": "stdout",
       "text": [
        " \uc74c\uc545\n",
        "\uc5b4\ub514\uc5d0?"
       ]
      },
      {
       "output_type": "stream",
       "stream": "stdout",
       "text": [
        " \ub9ac\ubdf0\n",
        "\uc5b4\ub514\uc5d0?"
       ]
      },
      {
       "output_type": "stream",
       "stream": "stdout",
       "text": [
        " \uc5f0\uc608\n",
        "\uc5b4\ub514\uc5d0?"
       ]
      },
      {
       "output_type": "stream",
       "stream": "stdout",
       "text": [
        " \uc74c\uc2dd\n",
        "\uc5b4\ub514\uc5d0?"
       ]
      },
      {
       "output_type": "stream",
       "stream": "stdout",
       "text": [
        " \uc2a4\ud3ec\uce20\n",
        "\uc5b4\ub514\uc5d0?"
       ]
      },
      {
       "output_type": "stream",
       "stream": "stdout",
       "text": [
        " \uac8c\uc784\n",
        "\uc5b4\ub514\uc5d0?"
       ]
      },
      {
       "output_type": "stream",
       "stream": "stdout",
       "text": [
        " \uac74\uac15\n",
        "\uc5b4\ub514\uc5d0?"
       ]
      },
      {
       "output_type": "stream",
       "stream": "stdout",
       "text": [
        " \ud559\uc2b5\n",
        "\uc5b4\ub514\uc5d0?"
       ]
      },
      {
       "output_type": "stream",
       "stream": "stdout",
       "text": [
        " \ucee4\ubba4\ub2c8\ud2f0\n",
        "KK-Boxing"
       ]
      },
      {
       "output_type": "stream",
       "stream": "stdout",
       "text": [
        " \ubbf8\uc6a9\n",
        "KK-Boxing"
       ]
      },
      {
       "output_type": "stream",
       "stream": "stdout",
       "text": [
        " \uc74c\uc545\n",
        "KK-Boxing"
       ]
      },
      {
       "output_type": "stream",
       "stream": "stdout",
       "text": [
        " \ub9ac\ubdf0\n",
        "KK-Boxing"
       ]
      },
      {
       "output_type": "stream",
       "stream": "stdout",
       "text": [
        " \uc5f0\uc608\n",
        "KK-Boxing"
       ]
      },
      {
       "output_type": "stream",
       "stream": "stdout",
       "text": [
        " \uc74c\uc2dd\n",
        "KK-Boxing"
       ]
      },
      {
       "output_type": "stream",
       "stream": "stdout",
       "text": [
        " \uc2a4\ud3ec\uce20\n",
        "KK-Boxing"
       ]
      },
      {
       "output_type": "stream",
       "stream": "stdout",
       "text": [
        " \uac8c\uc784\n",
        "KK-Boxing"
       ]
      },
      {
       "output_type": "stream",
       "stream": "stdout",
       "text": [
        " \uac74\uac15\n",
        "KK-Boxing"
       ]
      },
      {
       "output_type": "stream",
       "stream": "stdout",
       "text": [
        " \ud559\uc2b5\n",
        "KK-Boxing"
       ]
      },
      {
       "output_type": "stream",
       "stream": "stdout",
       "text": [
        " \ucee4\ubba4\ub2c8\ud2f0\n",
        "Crazy Moto Construction Yard"
       ]
      },
      {
       "output_type": "stream",
       "stream": "stdout",
       "text": [
        " \ubbf8\uc6a9\n",
        "Crazy Moto Construction Yard"
       ]
      },
      {
       "output_type": "stream",
       "stream": "stdout",
       "text": [
        " \uc74c\uc545\n",
        "Crazy Moto Construction Yard"
       ]
      },
      {
       "output_type": "stream",
       "stream": "stdout",
       "text": [
        " \ub9ac\ubdf0\n",
        "Crazy Moto Construction Yard"
       ]
      },
      {
       "output_type": "stream",
       "stream": "stdout",
       "text": [
        " \uc5f0\uc608\n",
        "Crazy Moto Construction Yard \uc74c\uc2dd\n",
        "Crazy Moto Construction Yard"
       ]
      },
      {
       "output_type": "stream",
       "stream": "stdout",
       "text": [
        " \uc2a4\ud3ec\uce20\n",
        "Crazy Moto Construction Yard"
       ]
      },
      {
       "output_type": "stream",
       "stream": "stdout",
       "text": [
        " \uac8c\uc784\n",
        "Crazy Moto Construction Yard"
       ]
      },
      {
       "output_type": "stream",
       "stream": "stdout",
       "text": [
        " \uac74\uac15\n",
        "Crazy Moto Construction Yard"
       ]
      },
      {
       "output_type": "stream",
       "stream": "stdout",
       "text": [
        " \ud559\uc2b5\n",
        "Crazy Moto Construction Yard"
       ]
      },
      {
       "output_type": "stream",
       "stream": "stdout",
       "text": [
        " \ucee4\ubba4\ub2c8\ud2f0\n",
        "\ud574\uc11d \uccad\ucd98\ub0a8\ub140(2013\ub144 \uc6b4\uc138)"
       ]
      },
      {
       "output_type": "stream",
       "stream": "stdout",
       "text": [
        " \ubbf8\uc6a9\n",
        "\ud574\uc11d \uccad\ucd98\ub0a8\ub140(2013\ub144 \uc6b4\uc138) \uc74c\uc545\n",
        "\ud574\uc11d \uccad\ucd98\ub0a8\ub140(2013\ub144 \uc6b4\uc138)"
       ]
      },
      {
       "output_type": "stream",
       "stream": "stdout",
       "text": [
        " \ub9ac\ubdf0\n",
        "\ud574\uc11d \uccad\ucd98\ub0a8\ub140(2013\ub144 \uc6b4\uc138)"
       ]
      },
      {
       "output_type": "stream",
       "stream": "stdout",
       "text": [
        " \uc5f0\uc608\n",
        "\ud574\uc11d \uccad\ucd98\ub0a8\ub140(2013\ub144 \uc6b4\uc138)"
       ]
      },
      {
       "output_type": "stream",
       "stream": "stdout",
       "text": [
        " \uc74c\uc2dd\n",
        "\ud574\uc11d \uccad\ucd98\ub0a8\ub140(2013\ub144 \uc6b4\uc138)"
       ]
      },
      {
       "output_type": "stream",
       "stream": "stdout",
       "text": [
        " \uc2a4\ud3ec\uce20\n",
        "\ud574\uc11d \uccad\ucd98\ub0a8\ub140(2013\ub144 \uc6b4\uc138) \uac8c\uc784\n",
        "\ud574\uc11d \uccad\ucd98\ub0a8\ub140(2013\ub144 \uc6b4\uc138)"
       ]
      },
      {
       "output_type": "stream",
       "stream": "stdout",
       "text": [
        " \uac74\uac15\n",
        "\ud574\uc11d \uccad\ucd98\ub0a8\ub140(2013\ub144 \uc6b4\uc138)"
       ]
      },
      {
       "output_type": "stream",
       "stream": "stdout",
       "text": [
        " \ud559\uc2b5\n",
        "\ud574\uc11d \uccad\ucd98\ub0a8\ub140(2013\ub144 \uc6b4\uc138)"
       ]
      },
      {
       "output_type": "stream",
       "stream": "stdout",
       "text": [
        " \ucee4\ubba4\ub2c8\ud2f0\n",
        "Stick Swing"
       ]
      },
      {
       "output_type": "stream",
       "stream": "stdout",
       "text": [
        " \ubbf8\uc6a9\n",
        "Stick Swing"
       ]
      },
      {
       "output_type": "stream",
       "stream": "stdout",
       "text": [
        " \uc74c\uc545\n",
        "Stick Swing"
       ]
      },
      {
       "output_type": "stream",
       "stream": "stdout",
       "text": [
        " \ub9ac\ubdf0\n",
        "Stick Swing"
       ]
      },
      {
       "output_type": "stream",
       "stream": "stdout",
       "text": [
        " \uc5f0\uc608\n",
        "Stick Swing"
       ]
      },
      {
       "output_type": "stream",
       "stream": "stdout",
       "text": [
        " \uc74c\uc2dd\n",
        "Stick Swing"
       ]
      },
      {
       "output_type": "stream",
       "stream": "stdout",
       "text": [
        " \uc2a4\ud3ec\uce20\n",
        "Stick Swing"
       ]
      },
      {
       "output_type": "stream",
       "stream": "stdout",
       "text": [
        " \uac8c\uc784\n",
        "Stick Swing"
       ]
      },
      {
       "output_type": "stream",
       "stream": "stdout",
       "text": [
        " \uac74\uac15\n",
        "Stick Swing"
       ]
      },
      {
       "output_type": "stream",
       "stream": "stdout",
       "text": [
        " \ud559\uc2b5\n",
        "Stick Swing"
       ]
      },
      {
       "output_type": "stream",
       "stream": "stdout",
       "text": [
        " \ucee4\ubba4\ub2c8\ud2f0\n",
        "\u5fc3\u9748\u6545\u4e8b"
       ]
      },
      {
       "output_type": "stream",
       "stream": "stdout",
       "text": [
        " \ubbf8\uc6a9\n",
        "\u5fc3\u9748\u6545\u4e8b"
       ]
      },
      {
       "output_type": "stream",
       "stream": "stdout",
       "text": [
        " \uc74c\uc545\n",
        "\u5fc3\u9748\u6545\u4e8b"
       ]
      },
      {
       "output_type": "stream",
       "stream": "stdout",
       "text": [
        " \ub9ac\ubdf0\n",
        "\u5fc3\u9748\u6545\u4e8b"
       ]
      },
      {
       "output_type": "stream",
       "stream": "stdout",
       "text": [
        " \uc5f0\uc608\n",
        "\u5fc3\u9748\u6545\u4e8b"
       ]
      },
      {
       "output_type": "stream",
       "stream": "stdout",
       "text": [
        " \uc74c\uc2dd\n",
        "\u5fc3\u9748\u6545\u4e8b"
       ]
      },
      {
       "output_type": "stream",
       "stream": "stdout",
       "text": [
        " \uc2a4\ud3ec\uce20\n",
        "\u5fc3\u9748\u6545\u4e8b"
       ]
      },
      {
       "output_type": "stream",
       "stream": "stdout",
       "text": [
        " \uac8c\uc784\n",
        "\u5fc3\u9748\u6545\u4e8b"
       ]
      },
      {
       "output_type": "stream",
       "stream": "stdout",
       "text": [
        " \uac74\uac15\n",
        "\u5fc3\u9748\u6545\u4e8b"
       ]
      },
      {
       "output_type": "stream",
       "stream": "stdout",
       "text": [
        " \ud559\uc2b5\n",
        "\u5fc3\u9748\u6545\u4e8b"
       ]
      },
      {
       "output_type": "stream",
       "stream": "stdout",
       "text": [
        " \ucee4\ubba4\ub2c8\ud2f0\n",
        "\ub3d9\ubb3c \uac80\uc0c9"
       ]
      },
      {
       "output_type": "stream",
       "stream": "stdout",
       "text": [
        " \ubbf8\uc6a9\n",
        "\ub3d9\ubb3c \uac80\uc0c9"
       ]
      },
      {
       "output_type": "stream",
       "stream": "stdout",
       "text": [
        " \uc74c\uc545\n",
        "\ub3d9\ubb3c \uac80\uc0c9"
       ]
      },
      {
       "output_type": "stream",
       "stream": "stdout",
       "text": [
        " \ub9ac\ubdf0\n",
        "\ub3d9\ubb3c \uac80\uc0c9"
       ]
      },
      {
       "output_type": "stream",
       "stream": "stdout",
       "text": [
        " \uc5f0\uc608\n",
        "\ub3d9\ubb3c \uac80\uc0c9"
       ]
      },
      {
       "output_type": "stream",
       "stream": "stdout",
       "text": [
        " \uc74c\uc2dd\n",
        "\ub3d9\ubb3c \uac80\uc0c9"
       ]
      },
      {
       "output_type": "stream",
       "stream": "stdout",
       "text": [
        " \uc2a4\ud3ec\uce20\n",
        "\ub3d9\ubb3c \uac80\uc0c9"
       ]
      },
      {
       "output_type": "stream",
       "stream": "stdout",
       "text": [
        " \uac8c\uc784\n",
        "\ub3d9\ubb3c \uac80\uc0c9"
       ]
      },
      {
       "output_type": "stream",
       "stream": "stdout",
       "text": [
        " \uac74\uac15\n",
        "\ub3d9\ubb3c \uac80\uc0c9"
       ]
      },
      {
       "output_type": "stream",
       "stream": "stdout",
       "text": [
        " \ud559\uc2b5\n",
        "\ub3d9\ubb3c \uac80\uc0c9"
       ]
      },
      {
       "output_type": "stream",
       "stream": "stdout",
       "text": [
        " \ucee4\ubba4\ub2c8\ud2f0\n",
        "Dropwords"
       ]
      },
      {
       "output_type": "stream",
       "stream": "stdout",
       "text": [
        " \ubbf8\uc6a9\n",
        "Dropwords"
       ]
      },
      {
       "output_type": "stream",
       "stream": "stdout",
       "text": [
        " \uc74c\uc545\n",
        "Dropwords"
       ]
      },
      {
       "output_type": "stream",
       "stream": "stdout",
       "text": [
        " \ub9ac\ubdf0\n",
        "Dropwords"
       ]
      },
      {
       "output_type": "stream",
       "stream": "stdout",
       "text": [
        " \uc5f0\uc608\n",
        "Dropwords"
       ]
      },
      {
       "output_type": "stream",
       "stream": "stdout",
       "text": [
        " \uc74c\uc2dd\n",
        "Dropwords"
       ]
      },
      {
       "output_type": "stream",
       "stream": "stdout",
       "text": [
        " \uc2a4\ud3ec\uce20\n",
        "Dropwords"
       ]
      },
      {
       "output_type": "stream",
       "stream": "stdout",
       "text": [
        " \uac8c\uc784\n",
        "Dropwords"
       ]
      },
      {
       "output_type": "stream",
       "stream": "stdout",
       "text": [
        " \uac74\uac15\n",
        "Dropwords"
       ]
      },
      {
       "output_type": "stream",
       "stream": "stdout",
       "text": [
        " \ud559\uc2b5\n",
        "Dropwords"
       ]
      },
      {
       "output_type": "stream",
       "stream": "stdout",
       "text": [
        " \ucee4\ubba4\ub2c8\ud2f0\n",
        "Archos File Manager"
       ]
      },
      {
       "output_type": "stream",
       "stream": "stdout",
       "text": [
        " \ubbf8\uc6a9\n",
        "Archos File Manager"
       ]
      },
      {
       "output_type": "stream",
       "stream": "stdout",
       "text": [
        " \uc74c\uc545\n",
        "Archos File Manager"
       ]
      },
      {
       "output_type": "stream",
       "stream": "stdout",
       "text": [
        " \ub9ac\ubdf0\n",
        "Archos File Manager"
       ]
      },
      {
       "output_type": "stream",
       "stream": "stdout",
       "text": [
        " \uc5f0\uc608\n",
        "Archos File Manager"
       ]
      },
      {
       "output_type": "stream",
       "stream": "stdout",
       "text": [
        " \uc74c\uc2dd\n",
        "Archos File Manager"
       ]
      },
      {
       "output_type": "stream",
       "stream": "stdout",
       "text": [
        " \uc2a4\ud3ec\uce20\n",
        "Archos File Manager"
       ]
      },
      {
       "output_type": "stream",
       "stream": "stdout",
       "text": [
        " \uac8c\uc784\n",
        "Archos File Manager"
       ]
      },
      {
       "output_type": "stream",
       "stream": "stdout",
       "text": [
        " \uac74\uac15\n",
        "Archos File Manager"
       ]
      },
      {
       "output_type": "stream",
       "stream": "stdout",
       "text": [
        " \ud559\uc2b5\n",
        "Archos File Manager"
       ]
      },
      {
       "output_type": "stream",
       "stream": "stdout",
       "text": [
        " \ucee4\ubba4\ub2c8\ud2f0\n",
        "M1 BestPicks"
       ]
      },
      {
       "output_type": "stream",
       "stream": "stdout",
       "text": [
        " \ubbf8\uc6a9\n",
        "M1 BestPicks"
       ]
      },
      {
       "output_type": "stream",
       "stream": "stdout",
       "text": [
        " \uc74c\uc545\n",
        "M1 BestPicks"
       ]
      },
      {
       "output_type": "stream",
       "stream": "stdout",
       "text": [
        " \ub9ac\ubdf0\n",
        "M1 BestPicks"
       ]
      },
      {
       "output_type": "stream",
       "stream": "stdout",
       "text": [
        " \uc5f0\uc608\n",
        "M1 BestPicks"
       ]
      },
      {
       "output_type": "stream",
       "stream": "stdout",
       "text": [
        " \uc74c\uc2dd\n",
        "M1 BestPicks"
       ]
      },
      {
       "output_type": "stream",
       "stream": "stdout",
       "text": [
        " \uc2a4\ud3ec\uce20\n",
        "M1 BestPicks"
       ]
      },
      {
       "output_type": "stream",
       "stream": "stdout",
       "text": [
        " \uac8c\uc784\n",
        "M1 BestPicks"
       ]
      },
      {
       "output_type": "stream",
       "stream": "stdout",
       "text": [
        " \uac74\uac15\n",
        "M1 BestPicks"
       ]
      },
      {
       "output_type": "stream",
       "stream": "stdout",
       "text": [
        " \ud559\uc2b5\n",
        "M1 BestPicks"
       ]
      },
      {
       "output_type": "stream",
       "stream": "stdout",
       "text": [
        " \ucee4\ubba4\ub2c8\ud2f0\n",
        "Squibble \ubbf8\uc6a9\n",
        "Squibble"
       ]
      },
      {
       "output_type": "stream",
       "stream": "stdout",
       "text": [
        " \uc74c\uc545\n",
        "Squibble"
       ]
      },
      {
       "output_type": "stream",
       "stream": "stdout",
       "text": [
        " \ub9ac\ubdf0\n",
        "Squibble"
       ]
      },
      {
       "output_type": "stream",
       "stream": "stdout",
       "text": [
        " \uc5f0\uc608\n",
        "Squibble"
       ]
      },
      {
       "output_type": "stream",
       "stream": "stdout",
       "text": [
        " \uc74c\uc2dd\n",
        "Squibble"
       ]
      },
      {
       "output_type": "stream",
       "stream": "stdout",
       "text": [
        " \uc2a4\ud3ec\uce20\n",
        "Squibble"
       ]
      },
      {
       "output_type": "stream",
       "stream": "stdout",
       "text": [
        " \uac8c\uc784\n",
        "Squibble"
       ]
      },
      {
       "output_type": "stream",
       "stream": "stdout",
       "text": [
        " \uac74\uac15\n",
        "Squibble"
       ]
      },
      {
       "output_type": "stream",
       "stream": "stdout",
       "text": [
        " \ud559\uc2b5\n",
        "Squibble"
       ]
      },
      {
       "output_type": "stream",
       "stream": "stdout",
       "text": [
        " \ucee4\ubba4\ub2c8\ud2f0\n",
        "Grand Theft Auto 4 Guide GTA4"
       ]
      },
      {
       "output_type": "stream",
       "stream": "stdout",
       "text": [
        " \ubbf8\uc6a9\n",
        "Grand Theft Auto 4 Guide GTA4"
       ]
      },
      {
       "output_type": "stream",
       "stream": "stdout",
       "text": [
        " \uc74c\uc545\n",
        "Grand Theft Auto 4 Guide GTA4"
       ]
      },
      {
       "output_type": "stream",
       "stream": "stdout",
       "text": [
        " \ub9ac\ubdf0\n",
        "Grand Theft Auto 4 Guide GTA4"
       ]
      },
      {
       "output_type": "stream",
       "stream": "stdout",
       "text": [
        " \uc5f0\uc608\n",
        "Grand Theft Auto 4 Guide GTA4"
       ]
      },
      {
       "output_type": "stream",
       "stream": "stdout",
       "text": [
        " \uc74c\uc2dd\n",
        "Grand Theft Auto 4 Guide GTA4"
       ]
      },
      {
       "output_type": "stream",
       "stream": "stdout",
       "text": [
        " \uc2a4\ud3ec\uce20\n",
        "Grand Theft Auto 4 Guide GTA4"
       ]
      },
      {
       "output_type": "stream",
       "stream": "stdout",
       "text": [
        " \uac8c\uc784\n",
        "Grand Theft Auto 4 Guide GTA4 \uac74\uac15\n",
        "Grand Theft Auto 4 Guide GTA4"
       ]
      },
      {
       "output_type": "stream",
       "stream": "stdout",
       "text": [
        " \ud559\uc2b5\n",
        "Grand Theft Auto 4 Guide GTA4"
       ]
      },
      {
       "output_type": "stream",
       "stream": "stdout",
       "text": [
        " \ucee4\ubba4\ub2c8\ud2f0\n",
        "During_GO\ub7f0\ucc98EX\ud14c\ub9c8"
       ]
      },
      {
       "output_type": "stream",
       "stream": "stdout",
       "text": [
        " \ubbf8\uc6a9\n",
        "During_GO\ub7f0\ucc98EX\ud14c\ub9c8"
       ]
      },
      {
       "output_type": "stream",
       "stream": "stdout",
       "text": [
        " \uc74c\uc545\n",
        "During_GO\ub7f0\ucc98EX\ud14c\ub9c8"
       ]
      },
      {
       "output_type": "stream",
       "stream": "stdout",
       "text": [
        " \ub9ac\ubdf0\n",
        "During_GO\ub7f0\ucc98EX\ud14c\ub9c8"
       ]
      },
      {
       "output_type": "stream",
       "stream": "stdout",
       "text": [
        " \uc5f0\uc608\n",
        "During_GO\ub7f0\ucc98EX\ud14c\ub9c8"
       ]
      },
      {
       "output_type": "stream",
       "stream": "stdout",
       "text": [
        " \uc74c\uc2dd\n",
        "During_GO\ub7f0\ucc98EX\ud14c\ub9c8"
       ]
      },
      {
       "output_type": "stream",
       "stream": "stdout",
       "text": [
        " \uc2a4\ud3ec\uce20\n",
        "During_GO\ub7f0\ucc98EX\ud14c\ub9c8"
       ]
      },
      {
       "output_type": "stream",
       "stream": "stdout",
       "text": [
        " \uac8c\uc784\n",
        "During_GO\ub7f0\ucc98EX\ud14c\ub9c8"
       ]
      },
      {
       "output_type": "stream",
       "stream": "stdout",
       "text": [
        " \uac74\uac15\n",
        "During_GO\ub7f0\ucc98EX\ud14c\ub9c8"
       ]
      },
      {
       "output_type": "stream",
       "stream": "stdout",
       "text": [
        " \ud559\uc2b5\n",
        "During_GO\ub7f0\ucc98EX\ud14c\ub9c8"
       ]
      },
      {
       "output_type": "stream",
       "stream": "stdout",
       "text": [
        " \ucee4\ubba4\ub2c8\ud2f0\n",
        "\uac13\ud53c\ud50c\ubab0"
       ]
      },
      {
       "output_type": "stream",
       "stream": "stdout",
       "text": [
        " \ubbf8\uc6a9\n",
        "\uac13\ud53c\ud50c\ubab0"
       ]
      },
      {
       "output_type": "stream",
       "stream": "stdout",
       "text": [
        " \uc74c\uc545\n",
        "\uac13\ud53c\ud50c\ubab0"
       ]
      },
      {
       "output_type": "stream",
       "stream": "stdout",
       "text": [
        " \ub9ac\ubdf0\n",
        "\uac13\ud53c\ud50c\ubab0"
       ]
      },
      {
       "output_type": "stream",
       "stream": "stdout",
       "text": [
        " \uc5f0\uc608\n",
        "\uac13\ud53c\ud50c\ubab0"
       ]
      },
      {
       "output_type": "stream",
       "stream": "stdout",
       "text": [
        " \uc74c\uc2dd\n",
        "\uac13\ud53c\ud50c\ubab0"
       ]
      },
      {
       "output_type": "stream",
       "stream": "stdout",
       "text": [
        " \uc2a4\ud3ec\uce20\n",
        "\uac13\ud53c\ud50c\ubab0"
       ]
      },
      {
       "output_type": "stream",
       "stream": "stdout",
       "text": [
        " \uac8c\uc784\n",
        "\uac13\ud53c\ud50c\ubab0"
       ]
      },
      {
       "output_type": "stream",
       "stream": "stdout",
       "text": [
        " \uac74\uac15\n",
        "\uac13\ud53c\ud50c\ubab0"
       ]
      },
      {
       "output_type": "stream",
       "stream": "stdout",
       "text": [
        " \ud559\uc2b5\n",
        "\uac13\ud53c\ud50c\ubab0"
       ]
      },
      {
       "output_type": "stream",
       "stream": "stdout",
       "text": [
        " \ucee4\ubba4\ub2c8\ud2f0\n",
        "Cupcake Maker!"
       ]
      },
      {
       "output_type": "stream",
       "stream": "stdout",
       "text": [
        " \ubbf8\uc6a9\n",
        "Cupcake Maker!"
       ]
      },
      {
       "output_type": "stream",
       "stream": "stdout",
       "text": [
        " \uc74c\uc545\n",
        "Cupcake Maker!"
       ]
      },
      {
       "output_type": "stream",
       "stream": "stdout",
       "text": [
        " \ub9ac\ubdf0\n",
        "Cupcake Maker!"
       ]
      },
      {
       "output_type": "stream",
       "stream": "stdout",
       "text": [
        " \uc5f0\uc608\n",
        "Cupcake Maker!"
       ]
      },
      {
       "output_type": "stream",
       "stream": "stdout",
       "text": [
        " \uc74c\uc2dd\n",
        "Cupcake Maker! \uc2a4\ud3ec\uce20\n",
        "Cupcake Maker!"
       ]
      },
      {
       "output_type": "stream",
       "stream": "stdout",
       "text": [
        " \uac8c\uc784\n",
        "Cupcake Maker!"
       ]
      },
      {
       "output_type": "stream",
       "stream": "stdout",
       "text": [
        " \uac74\uac15\n",
        "Cupcake Maker!"
       ]
      },
      {
       "output_type": "stream",
       "stream": "stdout",
       "text": [
        " \ud559\uc2b5\n",
        "Cupcake Maker!"
       ]
      },
      {
       "output_type": "stream",
       "stream": "stdout",
       "text": [
        " \ucee4\ubba4\ub2c8\ud2f0\n",
        "Movie Booth FX \ube45\ubc45 - \uc601\ud654 \ubd80\uc2a4 \ubbf8\uc6a9\n",
        "Movie Booth FX \ube45\ubc45 - \uc601\ud654 \ubd80\uc2a4"
       ]
      },
      {
       "output_type": "stream",
       "stream": "stdout",
       "text": [
        " \uc74c\uc545\n",
        "Movie Booth FX \ube45\ubc45 - \uc601\ud654 \ubd80\uc2a4"
       ]
      },
      {
       "output_type": "stream",
       "stream": "stdout",
       "text": [
        " \ub9ac\ubdf0\n",
        "Movie Booth FX \ube45\ubc45 - \uc601\ud654 \ubd80\uc2a4"
       ]
      },
      {
       "output_type": "stream",
       "stream": "stdout",
       "text": [
        " \uc5f0\uc608\n",
        "Movie Booth FX \ube45\ubc45 - \uc601\ud654 \ubd80\uc2a4"
       ]
      },
      {
       "output_type": "stream",
       "stream": "stdout",
       "text": [
        " \uc74c\uc2dd\n",
        "Movie Booth FX \ube45\ubc45 - \uc601\ud654 \ubd80\uc2a4"
       ]
      },
      {
       "output_type": "stream",
       "stream": "stdout",
       "text": [
        " \uc2a4\ud3ec\uce20\n",
        "Movie Booth FX \ube45\ubc45 - \uc601\ud654 \ubd80\uc2a4 \uac8c\uc784\n",
        "Movie Booth FX \ube45\ubc45 - \uc601\ud654 \ubd80\uc2a4"
       ]
      },
      {
       "output_type": "stream",
       "stream": "stdout",
       "text": [
        " \uac74\uac15\n",
        "Movie Booth FX \ube45\ubc45 - \uc601\ud654 \ubd80\uc2a4"
       ]
      },
      {
       "output_type": "stream",
       "stream": "stdout",
       "text": [
        " \ud559\uc2b5\n",
        "Movie Booth FX \ube45\ubc45 - \uc601\ud654 \ubd80\uc2a4 \ucee4\ubba4\ub2c8\ud2f0\n",
        "7x7"
       ]
      },
      {
       "output_type": "stream",
       "stream": "stdout",
       "text": [
        " \ubbf8\uc6a9\n",
        "7x7"
       ]
      },
      {
       "output_type": "stream",
       "stream": "stdout",
       "text": [
        " \uc74c\uc545\n",
        "7x7"
       ]
      },
      {
       "output_type": "stream",
       "stream": "stdout",
       "text": [
        " \ub9ac\ubdf0\n",
        "7x7"
       ]
      },
      {
       "output_type": "stream",
       "stream": "stdout",
       "text": [
        " \uc5f0\uc608\n",
        "7x7"
       ]
      },
      {
       "output_type": "stream",
       "stream": "stdout",
       "text": [
        " \uc74c\uc2dd\n",
        "7x7"
       ]
      },
      {
       "output_type": "stream",
       "stream": "stdout",
       "text": [
        " \uc2a4\ud3ec\uce20\n",
        "7x7"
       ]
      },
      {
       "output_type": "stream",
       "stream": "stdout",
       "text": [
        " \uac8c\uc784\n",
        "7x7"
       ]
      },
      {
       "output_type": "stream",
       "stream": "stdout",
       "text": [
        " \uac74\uac15\n",
        "7x7"
       ]
      },
      {
       "output_type": "stream",
       "stream": "stdout",
       "text": [
        " \ud559\uc2b5\n",
        "7x7"
       ]
      },
      {
       "output_type": "stream",
       "stream": "stdout",
       "text": [
        " \ucee4\ubba4\ub2c8\ud2f0\n",
        "Explorer"
       ]
      },
      {
       "output_type": "stream",
       "stream": "stdout",
       "text": [
        " \ubbf8\uc6a9\n",
        "Explorer"
       ]
      },
      {
       "output_type": "stream",
       "stream": "stdout",
       "text": [
        " \uc74c\uc545\n",
        "Explorer"
       ]
      },
      {
       "output_type": "stream",
       "stream": "stdout",
       "text": [
        " \ub9ac\ubdf0\n",
        "Explorer"
       ]
      },
      {
       "output_type": "stream",
       "stream": "stdout",
       "text": [
        " \uc5f0\uc608\n",
        "Explorer"
       ]
      },
      {
       "output_type": "stream",
       "stream": "stdout",
       "text": [
        " \uc74c\uc2dd\n",
        "Explorer"
       ]
      },
      {
       "output_type": "stream",
       "stream": "stdout",
       "text": [
        " \uc2a4\ud3ec\uce20\n",
        "Explorer"
       ]
      },
      {
       "output_type": "stream",
       "stream": "stdout",
       "text": [
        " \uac8c\uc784\n",
        "Explorer"
       ]
      },
      {
       "output_type": "stream",
       "stream": "stdout",
       "text": [
        " \uac74\uac15\n",
        "Explorer"
       ]
      },
      {
       "output_type": "stream",
       "stream": "stdout",
       "text": [
        " \ud559\uc2b5\n",
        "Explorer"
       ]
      },
      {
       "output_type": "stream",
       "stream": "stdout",
       "text": [
        " \ucee4\ubba4\ub2c8\ud2f0\n",
        "Pendu Classique: France"
       ]
      },
      {
       "output_type": "stream",
       "stream": "stdout",
       "text": [
        " \ubbf8\uc6a9\n",
        "Pendu Classique: France"
       ]
      },
      {
       "output_type": "stream",
       "stream": "stdout",
       "text": [
        " \uc74c\uc545\n",
        "Pendu Classique: France"
       ]
      },
      {
       "output_type": "stream",
       "stream": "stdout",
       "text": [
        " \ub9ac\ubdf0\n",
        "Pendu Classique: France"
       ]
      },
      {
       "output_type": "stream",
       "stream": "stdout",
       "text": [
        " \uc5f0\uc608\n",
        "Pendu Classique: France"
       ]
      },
      {
       "output_type": "stream",
       "stream": "stdout",
       "text": [
        " \uc74c\uc2dd\n",
        "Pendu Classique: France \uc2a4\ud3ec\uce20\n",
        "Pendu Classique: France"
       ]
      },
      {
       "output_type": "stream",
       "stream": "stdout",
       "text": [
        " \uac8c\uc784\n",
        "Pendu Classique: France \uac74\uac15\n",
        "Pendu Classique: France"
       ]
      },
      {
       "output_type": "stream",
       "stream": "stdout",
       "text": [
        " \ud559\uc2b5\n",
        "Pendu Classique: France"
       ]
      },
      {
       "output_type": "stream",
       "stream": "stdout",
       "text": [
        " \ucee4\ubba4\ub2c8\ud2f0\n",
        "PicsArt Kaleidoscope"
       ]
      },
      {
       "output_type": "stream",
       "stream": "stdout",
       "text": [
        " \ubbf8\uc6a9\n",
        "PicsArt Kaleidoscope"
       ]
      },
      {
       "output_type": "stream",
       "stream": "stdout",
       "text": [
        " \uc74c\uc545\n",
        "PicsArt Kaleidoscope"
       ]
      },
      {
       "output_type": "stream",
       "stream": "stdout",
       "text": [
        " \ub9ac\ubdf0\n",
        "PicsArt Kaleidoscope"
       ]
      },
      {
       "output_type": "stream",
       "stream": "stdout",
       "text": [
        " \uc5f0\uc608\n",
        "PicsArt Kaleidoscope"
       ]
      },
      {
       "output_type": "stream",
       "stream": "stdout",
       "text": [
        " \uc74c\uc2dd\n",
        "PicsArt Kaleidoscope"
       ]
      },
      {
       "output_type": "stream",
       "stream": "stdout",
       "text": [
        " \uc2a4\ud3ec\uce20\n",
        "PicsArt Kaleidoscope"
       ]
      },
      {
       "output_type": "stream",
       "stream": "stdout",
       "text": [
        " \uac8c\uc784\n",
        "PicsArt Kaleidoscope"
       ]
      },
      {
       "output_type": "stream",
       "stream": "stdout",
       "text": [
        " \uac74\uac15\n",
        "PicsArt Kaleidoscope"
       ]
      },
      {
       "output_type": "stream",
       "stream": "stdout",
       "text": [
        " \ud559\uc2b5\n",
        "PicsArt Kaleidoscope"
       ]
      },
      {
       "output_type": "stream",
       "stream": "stdout",
       "text": [
        " \ucee4\ubba4\ub2c8\ud2f0\n",
        "\ud3ec\ud1a0 \uc6cc\ud130 \ubc18\uc601 \ubbf8\uc6a9\n",
        "\ud3ec\ud1a0 \uc6cc\ud130 \ubc18\uc601"
       ]
      },
      {
       "output_type": "stream",
       "stream": "stdout",
       "text": [
        " \uc74c\uc545\n",
        "\ud3ec\ud1a0 \uc6cc\ud130 \ubc18\uc601"
       ]
      },
      {
       "output_type": "stream",
       "stream": "stdout",
       "text": [
        " \ub9ac\ubdf0\n",
        "\ud3ec\ud1a0 \uc6cc\ud130 \ubc18\uc601"
       ]
      },
      {
       "output_type": "stream",
       "stream": "stdout",
       "text": [
        " \uc5f0\uc608\n",
        "\ud3ec\ud1a0 \uc6cc\ud130 \ubc18\uc601 \uc74c\uc2dd\n",
        "\ud3ec\ud1a0 \uc6cc\ud130 \ubc18\uc601"
       ]
      },
      {
       "output_type": "stream",
       "stream": "stdout",
       "text": [
        " \uc2a4\ud3ec\uce20\n",
        "\ud3ec\ud1a0 \uc6cc\ud130 \ubc18\uc601"
       ]
      },
      {
       "output_type": "stream",
       "stream": "stdout",
       "text": [
        " \uac8c\uc784\n",
        "\ud3ec\ud1a0 \uc6cc\ud130 \ubc18\uc601"
       ]
      },
      {
       "output_type": "stream",
       "stream": "stdout",
       "text": [
        " \uac74\uac15\n",
        "\ud3ec\ud1a0 \uc6cc\ud130 \ubc18\uc601"
       ]
      },
      {
       "output_type": "stream",
       "stream": "stdout",
       "text": [
        " \ud559\uc2b5\n",
        "\ud3ec\ud1a0 \uc6cc\ud130 \ubc18\uc601"
       ]
      },
      {
       "output_type": "stream",
       "stream": "stdout",
       "text": [
        " \ucee4\ubba4\ub2c8\ud2f0\n",
        "\uad6d\ub0b4\uc720\uc77c \ubb34\ub8cc\uc18c\uac1c\ud305, \ud558\ub8e8 \ub450\uba85\uc529 \ub04c\ub9bc"
       ]
      },
      {
       "output_type": "stream",
       "stream": "stdout",
       "text": [
        " \ubbf8\uc6a9\n",
        "\uad6d\ub0b4\uc720\uc77c \ubb34\ub8cc\uc18c\uac1c\ud305, \ud558\ub8e8 \ub450\uba85\uc529 \ub04c\ub9bc"
       ]
      },
      {
       "output_type": "stream",
       "stream": "stdout",
       "text": [
        " \uc74c\uc545\n",
        "\uad6d\ub0b4\uc720\uc77c \ubb34\ub8cc\uc18c\uac1c\ud305, \ud558\ub8e8 \ub450\uba85\uc529 \ub04c\ub9bc"
       ]
      },
      {
       "output_type": "stream",
       "stream": "stdout",
       "text": [
        " \ub9ac\ubdf0\n",
        "\uad6d\ub0b4\uc720\uc77c \ubb34\ub8cc\uc18c\uac1c\ud305, \ud558\ub8e8 \ub450\uba85\uc529 \ub04c\ub9bc"
       ]
      },
      {
       "output_type": "stream",
       "stream": "stdout",
       "text": [
        " \uc5f0\uc608\n",
        "\uad6d\ub0b4\uc720\uc77c \ubb34\ub8cc\uc18c\uac1c\ud305, \ud558\ub8e8 \ub450\uba85\uc529 \ub04c\ub9bc"
       ]
      },
      {
       "output_type": "stream",
       "stream": "stdout",
       "text": [
        " \uc74c\uc2dd\n",
        "\uad6d\ub0b4\uc720\uc77c \ubb34\ub8cc\uc18c\uac1c\ud305, \ud558\ub8e8 \ub450\uba85\uc529 \ub04c\ub9bc"
       ]
      },
      {
       "output_type": "stream",
       "stream": "stdout",
       "text": [
        " \uc2a4\ud3ec\uce20\n",
        "\uad6d\ub0b4\uc720\uc77c \ubb34\ub8cc\uc18c\uac1c\ud305, \ud558\ub8e8 \ub450\uba85\uc529 \ub04c\ub9bc"
       ]
      },
      {
       "output_type": "stream",
       "stream": "stdout",
       "text": [
        " \uac8c\uc784\n",
        "\uad6d\ub0b4\uc720\uc77c \ubb34\ub8cc\uc18c\uac1c\ud305, \ud558\ub8e8 \ub450\uba85\uc529 \ub04c\ub9bc"
       ]
      },
      {
       "output_type": "stream",
       "stream": "stdout",
       "text": [
        " \uac74\uac15\n",
        "\uad6d\ub0b4\uc720\uc77c \ubb34\ub8cc\uc18c\uac1c\ud305, \ud558\ub8e8 \ub450\uba85\uc529 \ub04c\ub9bc"
       ]
      },
      {
       "output_type": "stream",
       "stream": "stdout",
       "text": [
        " \ud559\uc2b5\n",
        "\uad6d\ub0b4\uc720\uc77c \ubb34\ub8cc\uc18c\uac1c\ud305, \ud558\ub8e8 \ub450\uba85\uc529 \ub04c\ub9bc"
       ]
      },
      {
       "output_type": "stream",
       "stream": "stdout",
       "text": [
        " \ucee4\ubba4\ub2c8\ud2f0\n",
        "Scydo \ubb34\ub8cc \uc548\ub4dc\ub85c\uc774\ub4dc\ub294 \uc804\ud654"
       ]
      },
      {
       "output_type": "stream",
       "stream": "stdout",
       "text": [
        " \ubbf8\uc6a9\n",
        "Scydo \ubb34\ub8cc \uc548\ub4dc\ub85c\uc774\ub4dc\ub294 \uc804\ud654"
       ]
      },
      {
       "output_type": "stream",
       "stream": "stdout",
       "text": [
        " \uc74c\uc545\n",
        "Scydo \ubb34\ub8cc \uc548\ub4dc\ub85c\uc774\ub4dc\ub294 \uc804\ud654"
       ]
      },
      {
       "output_type": "stream",
       "stream": "stdout",
       "text": [
        " \ub9ac\ubdf0\n",
        "Scydo \ubb34\ub8cc \uc548\ub4dc\ub85c\uc774\ub4dc\ub294 \uc804\ud654"
       ]
      },
      {
       "output_type": "stream",
       "stream": "stdout",
       "text": [
        " \uc5f0\uc608\n",
        "Scydo \ubb34\ub8cc \uc548\ub4dc\ub85c\uc774\ub4dc\ub294 \uc804\ud654"
       ]
      },
      {
       "output_type": "stream",
       "stream": "stdout",
       "text": [
        " \uc74c\uc2dd\n",
        "Scydo \ubb34\ub8cc \uc548\ub4dc\ub85c\uc774\ub4dc\ub294 \uc804\ud654"
       ]
      },
      {
       "output_type": "stream",
       "stream": "stdout",
       "text": [
        " \uc2a4\ud3ec\uce20\n",
        "Scydo \ubb34\ub8cc \uc548\ub4dc\ub85c\uc774\ub4dc\ub294 \uc804\ud654"
       ]
      },
      {
       "output_type": "stream",
       "stream": "stdout",
       "text": [
        " \uac8c\uc784\n",
        "Scydo \ubb34\ub8cc \uc548\ub4dc\ub85c\uc774\ub4dc\ub294 \uc804\ud654"
       ]
      },
      {
       "output_type": "stream",
       "stream": "stdout",
       "text": [
        " \uac74\uac15\n",
        "Scydo \ubb34\ub8cc \uc548\ub4dc\ub85c\uc774\ub4dc\ub294 \uc804\ud654"
       ]
      },
      {
       "output_type": "stream",
       "stream": "stdout",
       "text": [
        " \ud559\uc2b5\n",
        "Scydo \ubb34\ub8cc \uc548\ub4dc\ub85c\uc774\ub4dc\ub294 \uc804\ud654"
       ]
      },
      {
       "output_type": "stream",
       "stream": "stdout",
       "text": [
        " \ucee4\ubba4\ub2c8\ud2f0\n",
        "\ubb34\ud55c\ube61\uce68 \ub191"
       ]
      },
      {
       "output_type": "stream",
       "stream": "stdout",
       "text": [
        " \ubbf8\uc6a9\n",
        "\ubb34\ud55c\ube61\uce68 \ub191"
       ]
      },
      {
       "output_type": "stream",
       "stream": "stdout",
       "text": [
        " \uc74c\uc545\n",
        "\ubb34\ud55c\ube61\uce68 \ub191"
       ]
      },
      {
       "output_type": "stream",
       "stream": "stdout",
       "text": [
        " \ub9ac\ubdf0\n",
        "\ubb34\ud55c\ube61\uce68 \ub191"
       ]
      },
      {
       "output_type": "stream",
       "stream": "stdout",
       "text": [
        " \uc5f0\uc608\n",
        "\ubb34\ud55c\ube61\uce68 \ub191"
       ]
      },
      {
       "output_type": "stream",
       "stream": "stdout",
       "text": [
        " \uc74c\uc2dd\n",
        "\ubb34\ud55c\ube61\uce68 \ub191"
       ]
      },
      {
       "output_type": "stream",
       "stream": "stdout",
       "text": [
        " \uc2a4\ud3ec\uce20\n",
        "\ubb34\ud55c\ube61\uce68 \ub191"
       ]
      },
      {
       "output_type": "stream",
       "stream": "stdout",
       "text": [
        " \uac8c\uc784\n",
        "\ubb34\ud55c\ube61\uce68 \ub191"
       ]
      },
      {
       "output_type": "stream",
       "stream": "stdout",
       "text": [
        " \uac74\uac15\n",
        "\ubb34\ud55c\ube61\uce68 \ub191"
       ]
      },
      {
       "output_type": "stream",
       "stream": "stdout",
       "text": [
        " \ud559\uc2b5\n",
        "\ubb34\ud55c\ube61\uce68 \ub191"
       ]
      },
      {
       "output_type": "stream",
       "stream": "stdout",
       "text": [
        " \ucee4\ubba4\ub2c8\ud2f0\n",
        "\u041a\u0430\u043c\u0435\u0434\u0438 \u041a\u043b\u0430\u0431 - \u041b\u0443\u0447\u0448\u0438\u0435 \u0412\u0438\u0434\u0435\u043e"
       ]
      },
      {
       "output_type": "stream",
       "stream": "stdout",
       "text": [
        " \ubbf8\uc6a9\n",
        "\u041a\u0430\u043c\u0435\u0434\u0438 \u041a\u043b\u0430\u0431 - \u041b\u0443\u0447\u0448\u0438\u0435 \u0412\u0438\u0434\u0435\u043e"
       ]
      },
      {
       "output_type": "stream",
       "stream": "stdout",
       "text": [
        " \uc74c\uc545\n",
        "\u041a\u0430\u043c\u0435\u0434\u0438 \u041a\u043b\u0430\u0431 - \u041b\u0443\u0447\u0448\u0438\u0435 \u0412\u0438\u0434\u0435\u043e"
       ]
      },
      {
       "output_type": "stream",
       "stream": "stdout",
       "text": [
        " \ub9ac\ubdf0\n",
        "\u041a\u0430\u043c\u0435\u0434\u0438 \u041a\u043b\u0430\u0431 - \u041b\u0443\u0447\u0448\u0438\u0435 \u0412\u0438\u0434\u0435\u043e"
       ]
      },
      {
       "output_type": "stream",
       "stream": "stdout",
       "text": [
        " \uc5f0\uc608\n",
        "\u041a\u0430\u043c\u0435\u0434\u0438 \u041a\u043b\u0430\u0431 - \u041b\u0443\u0447\u0448\u0438\u0435 \u0412\u0438\u0434\u0435\u043e"
       ]
      },
      {
       "output_type": "stream",
       "stream": "stdout",
       "text": [
        " \uc74c\uc2dd\n",
        "\u041a\u0430\u043c\u0435\u0434\u0438 \u041a\u043b\u0430\u0431 - \u041b\u0443\u0447\u0448\u0438\u0435 \u0412\u0438\u0434\u0435\u043e"
       ]
      },
      {
       "output_type": "stream",
       "stream": "stdout",
       "text": [
        " \uc2a4\ud3ec\uce20\n",
        "\u041a\u0430\u043c\u0435\u0434\u0438 \u041a\u043b\u0430\u0431 - \u041b\u0443\u0447\u0448\u0438\u0435 \u0412\u0438\u0434\u0435\u043e"
       ]
      },
      {
       "output_type": "stream",
       "stream": "stdout",
       "text": [
        " \uac8c\uc784\n",
        "\u041a\u0430\u043c\u0435\u0434\u0438 \u041a\u043b\u0430\u0431 - \u041b\u0443\u0447\u0448\u0438\u0435 \u0412\u0438\u0434\u0435\u043e"
       ]
      },
      {
       "output_type": "stream",
       "stream": "stdout",
       "text": [
        " \uac74\uac15\n",
        "\u041a\u0430\u043c\u0435\u0434\u0438 \u041a\u043b\u0430\u0431 - \u041b\u0443\u0447\u0448\u0438\u0435 \u0412\u0438\u0434\u0435\u043e"
       ]
      },
      {
       "output_type": "stream",
       "stream": "stdout",
       "text": [
        " \ud559\uc2b5\n",
        "\u041a\u0430\u043c\u0435\u0434\u0438 \u041a\u043b\u0430\u0431 - \u041b\u0443\u0447\u0448\u0438\u0435 \u0412\u0438\u0434\u0435\u043e"
       ]
      },
      {
       "output_type": "stream",
       "stream": "stdout",
       "text": [
        " \ucee4\ubba4\ub2c8\ud2f0\n",
        "Qik Video"
       ]
      },
      {
       "output_type": "stream",
       "stream": "stdout",
       "text": [
        " \ubbf8\uc6a9\n",
        "Qik Video"
       ]
      },
      {
       "output_type": "stream",
       "stream": "stdout",
       "text": [
        " \uc74c\uc545\n",
        "Qik Video"
       ]
      },
      {
       "output_type": "stream",
       "stream": "stdout",
       "text": [
        " \ub9ac\ubdf0\n",
        "Qik Video"
       ]
      },
      {
       "output_type": "stream",
       "stream": "stdout",
       "text": [
        " \uc5f0\uc608\n",
        "Qik Video"
       ]
      },
      {
       "output_type": "stream",
       "stream": "stdout",
       "text": [
        " \uc74c\uc2dd\n",
        "Qik Video"
       ]
      },
      {
       "output_type": "stream",
       "stream": "stdout",
       "text": [
        " \uc2a4\ud3ec\uce20\n",
        "Qik Video"
       ]
      },
      {
       "output_type": "stream",
       "stream": "stdout",
       "text": [
        " \uac8c\uc784\n",
        "Qik Video"
       ]
      },
      {
       "output_type": "stream",
       "stream": "stdout",
       "text": [
        " \uac74\uac15\n",
        "Qik Video"
       ]
      },
      {
       "output_type": "stream",
       "stream": "stdout",
       "text": [
        " \ud559\uc2b5\n",
        "Qik Video"
       ]
      },
      {
       "output_type": "stream",
       "stream": "stdout",
       "text": [
        " \ucee4\ubba4\ub2c8\ud2f0\n",
        "Country House_GO\ub7f0\ucc98EX\ud14c\ub9c8_\ud504\ub9ac\ubbf8\uc5b8"
       ]
      },
      {
       "output_type": "stream",
       "stream": "stdout",
       "text": [
        " \ubbf8\uc6a9\n",
        "Country House_GO\ub7f0\ucc98EX\ud14c\ub9c8_\ud504\ub9ac\ubbf8\uc5b8"
       ]
      },
      {
       "output_type": "stream",
       "stream": "stdout",
       "text": [
        " \uc74c\uc545\n",
        "Country House_GO\ub7f0\ucc98EX\ud14c\ub9c8_\ud504\ub9ac\ubbf8\uc5b8"
       ]
      },
      {
       "output_type": "stream",
       "stream": "stdout",
       "text": [
        " \ub9ac\ubdf0\n",
        "Country House_GO\ub7f0\ucc98EX\ud14c\ub9c8_\ud504\ub9ac\ubbf8\uc5b8"
       ]
      },
      {
       "output_type": "stream",
       "stream": "stdout",
       "text": [
        " \uc5f0\uc608\n",
        "Country House_GO\ub7f0\ucc98EX\ud14c\ub9c8_\ud504\ub9ac\ubbf8\uc5b8"
       ]
      },
      {
       "output_type": "stream",
       "stream": "stdout",
       "text": [
        " \uc74c\uc2dd\n",
        "Country House_GO\ub7f0\ucc98EX\ud14c\ub9c8_\ud504\ub9ac\ubbf8\uc5b8"
       ]
      },
      {
       "output_type": "stream",
       "stream": "stdout",
       "text": [
        " \uc2a4\ud3ec\uce20\n",
        "Country House_GO\ub7f0\ucc98EX\ud14c\ub9c8_\ud504\ub9ac\ubbf8\uc5b8"
       ]
      },
      {
       "output_type": "stream",
       "stream": "stdout",
       "text": [
        " \uac8c\uc784\n",
        "Country House_GO\ub7f0\ucc98EX\ud14c\ub9c8_\ud504\ub9ac\ubbf8\uc5b8"
       ]
      },
      {
       "output_type": "stream",
       "stream": "stdout",
       "text": [
        " \uac74\uac15\n",
        "Country House_GO\ub7f0\ucc98EX\ud14c\ub9c8_\ud504\ub9ac\ubbf8\uc5b8"
       ]
      },
      {
       "output_type": "stream",
       "stream": "stdout",
       "text": [
        " \ud559\uc2b5\n",
        "Country House_GO\ub7f0\ucc98EX\ud14c\ub9c8_\ud504\ub9ac\ubbf8\uc5b8"
       ]
      },
      {
       "output_type": "stream",
       "stream": "stdout",
       "text": [
        " \ucee4\ubba4\ub2c8\ud2f0\n",
        "\ud3ed\ud589 \uc880\ube44 HD"
       ]
      },
      {
       "output_type": "stream",
       "stream": "stdout",
       "text": [
        " \ubbf8\uc6a9\n",
        "\ud3ed\ud589 \uc880\ube44 HD"
       ]
      },
      {
       "output_type": "stream",
       "stream": "stdout",
       "text": [
        " \uc74c\uc545\n",
        "\ud3ed\ud589 \uc880\ube44 HD"
       ]
      },
      {
       "output_type": "stream",
       "stream": "stdout",
       "text": [
        " \ub9ac\ubdf0\n",
        "\ud3ed\ud589 \uc880\ube44 HD"
       ]
      },
      {
       "output_type": "stream",
       "stream": "stdout",
       "text": [
        " \uc5f0\uc608\n",
        "\ud3ed\ud589 \uc880\ube44 HD"
       ]
      },
      {
       "output_type": "stream",
       "stream": "stdout",
       "text": [
        " \uc74c\uc2dd\n",
        "\ud3ed\ud589 \uc880\ube44 HD"
       ]
      },
      {
       "output_type": "stream",
       "stream": "stdout",
       "text": [
        " \uc2a4\ud3ec\uce20\n",
        "\ud3ed\ud589 \uc880\ube44 HD"
       ]
      },
      {
       "output_type": "stream",
       "stream": "stdout",
       "text": [
        " \uac8c\uc784\n",
        "\ud3ed\ud589 \uc880\ube44 HD"
       ]
      },
      {
       "output_type": "stream",
       "stream": "stdout",
       "text": [
        " \uac74\uac15\n",
        "\ud3ed\ud589 \uc880\ube44 HD"
       ]
      },
      {
       "output_type": "stream",
       "stream": "stdout",
       "text": [
        " \ud559\uc2b5\n",
        "\ud3ed\ud589 \uc880\ube44 HD"
       ]
      },
      {
       "output_type": "stream",
       "stream": "stdout",
       "text": [
        " \ucee4\ubba4\ub2c8\ud2f0\n",
        "Colombo Racer Beta- Sri Lankan"
       ]
      },
      {
       "output_type": "stream",
       "stream": "stdout",
       "text": [
        " \ubbf8\uc6a9\n",
        "Colombo Racer Beta- Sri Lankan"
       ]
      },
      {
       "output_type": "stream",
       "stream": "stdout",
       "text": [
        " \uc74c\uc545\n",
        "Colombo Racer Beta- Sri Lankan"
       ]
      },
      {
       "output_type": "stream",
       "stream": "stdout",
       "text": [
        " \ub9ac\ubdf0\n",
        "Colombo Racer Beta- Sri Lankan"
       ]
      },
      {
       "output_type": "stream",
       "stream": "stdout",
       "text": [
        " \uc5f0\uc608\n",
        "Colombo Racer Beta- Sri Lankan"
       ]
      },
      {
       "output_type": "stream",
       "stream": "stdout",
       "text": [
        " \uc74c\uc2dd\n",
        "Colombo Racer Beta- Sri Lankan"
       ]
      },
      {
       "output_type": "stream",
       "stream": "stdout",
       "text": [
        " \uc2a4\ud3ec\uce20\n",
        "Colombo Racer Beta- Sri Lankan"
       ]
      },
      {
       "output_type": "stream",
       "stream": "stdout",
       "text": [
        " \uac8c\uc784\n",
        "Colombo Racer Beta- Sri Lankan"
       ]
      },
      {
       "output_type": "stream",
       "stream": "stdout",
       "text": [
        " \uac74\uac15\n",
        "Colombo Racer Beta- Sri Lankan"
       ]
      },
      {
       "output_type": "stream",
       "stream": "stdout",
       "text": [
        " \ud559\uc2b5\n",
        "Colombo Racer Beta- Sri Lankan"
       ]
      },
      {
       "output_type": "stream",
       "stream": "stdout",
       "text": [
        " \ucee4\ubba4\ub2c8\ud2f0\n",
        "Call Confirm"
       ]
      },
      {
       "output_type": "stream",
       "stream": "stdout",
       "text": [
        " \ubbf8\uc6a9\n",
        "Call Confirm"
       ]
      },
      {
       "output_type": "stream",
       "stream": "stdout",
       "text": [
        " \uc74c\uc545\n",
        "Call Confirm"
       ]
      },
      {
       "output_type": "stream",
       "stream": "stdout",
       "text": [
        " \ub9ac\ubdf0\n",
        "Call Confirm"
       ]
      },
      {
       "output_type": "stream",
       "stream": "stdout",
       "text": [
        " \uc5f0\uc608\n",
        "Call Confirm"
       ]
      },
      {
       "output_type": "stream",
       "stream": "stdout",
       "text": [
        " \uc74c\uc2dd\n",
        "Call Confirm"
       ]
      },
      {
       "output_type": "stream",
       "stream": "stdout",
       "text": [
        " \uc2a4\ud3ec\uce20\n",
        "Call Confirm"
       ]
      },
      {
       "output_type": "stream",
       "stream": "stdout",
       "text": [
        " \uac8c\uc784\n",
        "Call Confirm"
       ]
      },
      {
       "output_type": "stream",
       "stream": "stdout",
       "text": [
        " \uac74\uac15\n",
        "Call Confirm"
       ]
      },
      {
       "output_type": "stream",
       "stream": "stdout",
       "text": [
        " \ud559\uc2b5\n",
        "Call Confirm"
       ]
      },
      {
       "output_type": "stream",
       "stream": "stdout",
       "text": [
        " \ucee4\ubba4\ub2c8\ud2f0\n",
        "Zombie Fields HD"
       ]
      },
      {
       "output_type": "stream",
       "stream": "stdout",
       "text": [
        " \ubbf8\uc6a9\n",
        "Zombie Fields HD"
       ]
      },
      {
       "output_type": "stream",
       "stream": "stdout",
       "text": [
        " \uc74c\uc545\n",
        "Zombie Fields HD"
       ]
      },
      {
       "output_type": "stream",
       "stream": "stdout",
       "text": [
        " \ub9ac\ubdf0\n",
        "Zombie Fields HD"
       ]
      },
      {
       "output_type": "stream",
       "stream": "stdout",
       "text": [
        " \uc5f0\uc608\n",
        "Zombie Fields HD"
       ]
      },
      {
       "output_type": "stream",
       "stream": "stdout",
       "text": [
        " \uc74c\uc2dd\n",
        "Zombie Fields HD"
       ]
      },
      {
       "output_type": "stream",
       "stream": "stdout",
       "text": [
        " \uc2a4\ud3ec\uce20\n",
        "Zombie Fields HD"
       ]
      },
      {
       "output_type": "stream",
       "stream": "stdout",
       "text": [
        " \uac8c\uc784\n",
        "Zombie Fields HD"
       ]
      },
      {
       "output_type": "stream",
       "stream": "stdout",
       "text": [
        " \uac74\uac15\n",
        "Zombie Fields HD"
       ]
      },
      {
       "output_type": "stream",
       "stream": "stdout",
       "text": [
        " \ud559\uc2b5\n",
        "Zombie Fields HD"
       ]
      },
      {
       "output_type": "stream",
       "stream": "stdout",
       "text": [
        " \ucee4\ubba4\ub2c8\ud2f0\n",
        "Beat the Beast"
       ]
      },
      {
       "output_type": "stream",
       "stream": "stdout",
       "text": [
        " \ubbf8\uc6a9\n",
        "Beat the Beast"
       ]
      },
      {
       "output_type": "stream",
       "stream": "stdout",
       "text": [
        " \uc74c\uc545\n",
        "Beat the Beast"
       ]
      },
      {
       "output_type": "stream",
       "stream": "stdout",
       "text": [
        " \ub9ac\ubdf0\n",
        "Beat the Beast"
       ]
      },
      {
       "output_type": "stream",
       "stream": "stdout",
       "text": [
        " \uc5f0\uc608\n",
        "Beat the Beast"
       ]
      },
      {
       "output_type": "stream",
       "stream": "stdout",
       "text": [
        " \uc74c\uc2dd\n",
        "Beat the Beast"
       ]
      },
      {
       "output_type": "stream",
       "stream": "stdout",
       "text": [
        " \uc2a4\ud3ec\uce20\n",
        "Beat the Beast"
       ]
      },
      {
       "output_type": "stream",
       "stream": "stdout",
       "text": [
        " \uac8c\uc784\n",
        "Beat the Beast"
       ]
      },
      {
       "output_type": "stream",
       "stream": "stdout",
       "text": [
        " \uac74\uac15\n",
        "Beat the Beast"
       ]
      },
      {
       "output_type": "stream",
       "stream": "stdout",
       "text": [
        " \ud559\uc2b5\n",
        "Beat the Beast"
       ]
      },
      {
       "output_type": "stream",
       "stream": "stdout",
       "text": [
        " \ucee4\ubba4\ub2c8\ud2f0\n",
        "\u62c6\u5f48\u9a5a\u9b42"
       ]
      },
      {
       "output_type": "stream",
       "stream": "stdout",
       "text": [
        " \ubbf8\uc6a9\n",
        "\u62c6\u5f48\u9a5a\u9b42"
       ]
      },
      {
       "output_type": "stream",
       "stream": "stdout",
       "text": [
        " \uc74c\uc545\n",
        "\u62c6\u5f48\u9a5a\u9b42"
       ]
      },
      {
       "output_type": "stream",
       "stream": "stdout",
       "text": [
        " \ub9ac\ubdf0\n",
        "\u62c6\u5f48\u9a5a\u9b42"
       ]
      },
      {
       "output_type": "stream",
       "stream": "stdout",
       "text": [
        " \uc5f0\uc608\n",
        "\u62c6\u5f48\u9a5a\u9b42"
       ]
      },
      {
       "output_type": "stream",
       "stream": "stdout",
       "text": [
        " \uc74c\uc2dd\n",
        "\u62c6\u5f48\u9a5a\u9b42"
       ]
      },
      {
       "output_type": "stream",
       "stream": "stdout",
       "text": [
        " \uc2a4\ud3ec\uce20\n",
        "\u62c6\u5f48\u9a5a\u9b42"
       ]
      },
      {
       "output_type": "stream",
       "stream": "stdout",
       "text": [
        " \uac8c\uc784\n",
        "\u62c6\u5f48\u9a5a\u9b42"
       ]
      },
      {
       "output_type": "stream",
       "stream": "stdout",
       "text": [
        " \uac74\uac15\n",
        "\u62c6\u5f48\u9a5a\u9b42"
       ]
      },
      {
       "output_type": "stream",
       "stream": "stdout",
       "text": [
        " \ud559\uc2b5\n",
        "\u62c6\u5f48\u9a5a\u9b42"
       ]
      },
      {
       "output_type": "stream",
       "stream": "stdout",
       "text": [
        " \ucee4\ubba4\ub2c8\ud2f0\n",
        "\ubaa8\ub450\uc758\uac8c\uc784 \ud587\uc0b4\uc774\ubca4\ud2b8"
       ]
      },
      {
       "output_type": "stream",
       "stream": "stdout",
       "text": [
        " \ubbf8\uc6a9\n",
        "\ubaa8\ub450\uc758\uac8c\uc784 \ud587\uc0b4\uc774\ubca4\ud2b8"
       ]
      },
      {
       "output_type": "stream",
       "stream": "stdout",
       "text": [
        " \uc74c\uc545\n",
        "\ubaa8\ub450\uc758\uac8c\uc784 \ud587\uc0b4\uc774\ubca4\ud2b8"
       ]
      },
      {
       "output_type": "stream",
       "stream": "stdout",
       "text": [
        " \ub9ac\ubdf0\n",
        "\ubaa8\ub450\uc758\uac8c\uc784 \ud587\uc0b4\uc774\ubca4\ud2b8 \uc5f0\uc608\n",
        "\ubaa8\ub450\uc758\uac8c\uc784 \ud587\uc0b4\uc774\ubca4\ud2b8"
       ]
      },
      {
       "output_type": "stream",
       "stream": "stdout",
       "text": [
        " \uc74c\uc2dd\n",
        "\ubaa8\ub450\uc758\uac8c\uc784 \ud587\uc0b4\uc774\ubca4\ud2b8"
       ]
      },
      {
       "output_type": "stream",
       "stream": "stdout",
       "text": [
        " \uc2a4\ud3ec\uce20\n",
        "\ubaa8\ub450\uc758\uac8c\uc784 \ud587\uc0b4\uc774\ubca4\ud2b8 \uac8c\uc784\n",
        "\ubaa8\ub450\uc758\uac8c\uc784 \ud587\uc0b4\uc774\ubca4\ud2b8"
       ]
      },
      {
       "output_type": "stream",
       "stream": "stdout",
       "text": [
        " \uac74\uac15\n",
        "\ubaa8\ub450\uc758\uac8c\uc784 \ud587\uc0b4\uc774\ubca4\ud2b8"
       ]
      },
      {
       "output_type": "stream",
       "stream": "stdout",
       "text": [
        " \ud559\uc2b5\n",
        "\ubaa8\ub450\uc758\uac8c\uc784 \ud587\uc0b4\uc774\ubca4\ud2b8"
       ]
      },
      {
       "output_type": "stream",
       "stream": "stdout",
       "text": [
        " \ucee4\ubba4\ub2c8\ud2f0\n",
        "Asphalt 6: Adrenaline Free"
       ]
      },
      {
       "output_type": "stream",
       "stream": "stdout",
       "text": [
        " \ubbf8\uc6a9\n",
        "Asphalt 6: Adrenaline Free"
       ]
      },
      {
       "output_type": "stream",
       "stream": "stdout",
       "text": [
        " \uc74c\uc545\n",
        "Asphalt 6: Adrenaline Free"
       ]
      },
      {
       "output_type": "stream",
       "stream": "stdout",
       "text": [
        " \ub9ac\ubdf0\n",
        "Asphalt 6: Adrenaline Free"
       ]
      },
      {
       "output_type": "stream",
       "stream": "stdout",
       "text": [
        " \uc5f0\uc608\n",
        "Asphalt 6: Adrenaline Free"
       ]
      },
      {
       "output_type": "stream",
       "stream": "stdout",
       "text": [
        " \uc74c\uc2dd\n",
        "Asphalt 6: Adrenaline Free"
       ]
      },
      {
       "output_type": "stream",
       "stream": "stdout",
       "text": [
        " \uc2a4\ud3ec\uce20\n",
        "Asphalt 6: Adrenaline Free"
       ]
      },
      {
       "output_type": "stream",
       "stream": "stdout",
       "text": [
        " \uac8c\uc784\n",
        "Asphalt 6: Adrenaline Free"
       ]
      },
      {
       "output_type": "stream",
       "stream": "stdout",
       "text": [
        " \uac74\uac15\n",
        "Asphalt 6: Adrenaline Free"
       ]
      },
      {
       "output_type": "stream",
       "stream": "stdout",
       "text": [
        " \ud559\uc2b5\n",
        "Asphalt 6: Adrenaline Free"
       ]
      },
      {
       "output_type": "stream",
       "stream": "stdout",
       "text": [
        " \ucee4\ubba4\ub2c8\ud2f0\n",
        "Pet Rescue Saga Help"
       ]
      },
      {
       "output_type": "stream",
       "stream": "stdout",
       "text": [
        " \ubbf8\uc6a9\n",
        "Pet Rescue Saga Help"
       ]
      },
      {
       "output_type": "stream",
       "stream": "stdout",
       "text": [
        " \uc74c\uc545\n",
        "Pet Rescue Saga Help"
       ]
      },
      {
       "output_type": "stream",
       "stream": "stdout",
       "text": [
        " \ub9ac\ubdf0\n",
        "Pet Rescue Saga Help"
       ]
      },
      {
       "output_type": "stream",
       "stream": "stdout",
       "text": [
        " \uc5f0\uc608\n",
        "Pet Rescue Saga Help"
       ]
      },
      {
       "output_type": "stream",
       "stream": "stdout",
       "text": [
        " \uc74c\uc2dd\n",
        "Pet Rescue Saga Help"
       ]
      },
      {
       "output_type": "stream",
       "stream": "stdout",
       "text": [
        " \uc2a4\ud3ec\uce20\n",
        "Pet Rescue Saga Help"
       ]
      },
      {
       "output_type": "stream",
       "stream": "stdout",
       "text": [
        " \uac8c\uc784\n",
        "Pet Rescue Saga Help"
       ]
      },
      {
       "output_type": "stream",
       "stream": "stdout",
       "text": [
        " \uac74\uac15\n",
        "Pet Rescue Saga Help"
       ]
      },
      {
       "output_type": "stream",
       "stream": "stdout",
       "text": [
        " \ud559\uc2b5\n",
        "Pet Rescue Saga Help"
       ]
      },
      {
       "output_type": "stream",
       "stream": "stdout",
       "text": [
        " \ucee4\ubba4\ub2c8\ud2f0\n",
        "\ub9de\uace0\ub3c4\uc0ac\uc804 2013"
       ]
      },
      {
       "output_type": "stream",
       "stream": "stdout",
       "text": [
        " \ubbf8\uc6a9\n",
        "\ub9de\uace0\ub3c4\uc0ac\uc804 2013"
       ]
      },
      {
       "output_type": "stream",
       "stream": "stdout",
       "text": [
        " \uc74c\uc545\n",
        "\ub9de\uace0\ub3c4\uc0ac\uc804 2013"
       ]
      },
      {
       "output_type": "stream",
       "stream": "stdout",
       "text": [
        " \ub9ac\ubdf0\n",
        "\ub9de\uace0\ub3c4\uc0ac\uc804 2013"
       ]
      },
      {
       "output_type": "stream",
       "stream": "stdout",
       "text": [
        " \uc5f0\uc608\n",
        "\ub9de\uace0\ub3c4\uc0ac\uc804 2013"
       ]
      },
      {
       "output_type": "stream",
       "stream": "stdout",
       "text": [
        " \uc74c\uc2dd\n",
        "\ub9de\uace0\ub3c4\uc0ac\uc804 2013 \uc2a4\ud3ec\uce20\n",
        "\ub9de\uace0\ub3c4\uc0ac\uc804 2013"
       ]
      },
      {
       "output_type": "stream",
       "stream": "stdout",
       "text": [
        " \uac8c\uc784\n",
        "\ub9de\uace0\ub3c4\uc0ac\uc804 2013"
       ]
      },
      {
       "output_type": "stream",
       "stream": "stdout",
       "text": [
        " \uac74\uac15\n",
        "\ub9de\uace0\ub3c4\uc0ac\uc804 2013"
       ]
      },
      {
       "output_type": "stream",
       "stream": "stdout",
       "text": [
        " \ud559\uc2b5\n",
        "\ub9de\uace0\ub3c4\uc0ac\uc804 2013"
       ]
      },
      {
       "output_type": "stream",
       "stream": "stdout",
       "text": [
        " \ucee4\ubba4\ub2c8\ud2f0\n",
        "RO\u4ed9\u5883\u50b3\u8aaa-\u74e6\u723e\u57fa\u91cc\u4e4b\u4e82-\u6b7b\u4ea1\u4e4b\u90fd\u5df4\u9732\u6234\u723e \ubbf8\uc6a9\n",
        "RO\u4ed9\u5883\u50b3\u8aaa-\u74e6\u723e\u57fa\u91cc\u4e4b\u4e82-\u6b7b\u4ea1\u4e4b\u90fd\u5df4\u9732\u6234\u723e"
       ]
      },
      {
       "output_type": "stream",
       "stream": "stdout",
       "text": [
        " \uc74c\uc545\n",
        "RO\u4ed9\u5883\u50b3\u8aaa-\u74e6\u723e\u57fa\u91cc\u4e4b\u4e82-\u6b7b\u4ea1\u4e4b\u90fd\u5df4\u9732\u6234\u723e"
       ]
      },
      {
       "output_type": "stream",
       "stream": "stdout",
       "text": [
        " \ub9ac\ubdf0\n",
        "RO\u4ed9\u5883\u50b3\u8aaa-\u74e6\u723e\u57fa\u91cc\u4e4b\u4e82-\u6b7b\u4ea1\u4e4b\u90fd\u5df4\u9732\u6234\u723e"
       ]
      },
      {
       "output_type": "stream",
       "stream": "stdout",
       "text": [
        " \uc5f0\uc608\n",
        "RO\u4ed9\u5883\u50b3\u8aaa-\u74e6\u723e\u57fa\u91cc\u4e4b\u4e82-\u6b7b\u4ea1\u4e4b\u90fd\u5df4\u9732\u6234\u723e"
       ]
      },
      {
       "output_type": "stream",
       "stream": "stdout",
       "text": [
        " \uc74c\uc2dd\n",
        "RO\u4ed9\u5883\u50b3\u8aaa-\u74e6\u723e\u57fa\u91cc\u4e4b\u4e82-\u6b7b\u4ea1\u4e4b\u90fd\u5df4\u9732\u6234\u723e"
       ]
      },
      {
       "output_type": "stream",
       "stream": "stdout",
       "text": [
        " \uc2a4\ud3ec\uce20\n",
        "RO\u4ed9\u5883\u50b3\u8aaa-\u74e6\u723e\u57fa\u91cc\u4e4b\u4e82-\u6b7b\u4ea1\u4e4b\u90fd\u5df4\u9732\u6234\u723e"
       ]
      },
      {
       "output_type": "stream",
       "stream": "stdout",
       "text": [
        " \uac8c\uc784\n",
        "RO\u4ed9\u5883\u50b3\u8aaa-\u74e6\u723e\u57fa\u91cc\u4e4b\u4e82-\u6b7b\u4ea1\u4e4b\u90fd\u5df4\u9732\u6234\u723e"
       ]
      },
      {
       "output_type": "stream",
       "stream": "stdout",
       "text": [
        " \uac74\uac15\n",
        "RO\u4ed9\u5883\u50b3\u8aaa-\u74e6\u723e\u57fa\u91cc\u4e4b\u4e82-\u6b7b\u4ea1\u4e4b\u90fd\u5df4\u9732\u6234\u723e"
       ]
      },
      {
       "output_type": "stream",
       "stream": "stdout",
       "text": [
        " \ud559\uc2b5\n",
        "RO\u4ed9\u5883\u50b3\u8aaa-\u74e6\u723e\u57fa\u91cc\u4e4b\u4e82-\u6b7b\u4ea1\u4e4b\u90fd\u5df4\u9732\u6234\u723e"
       ]
      },
      {
       "output_type": "stream",
       "stream": "stdout",
       "text": [
        " \ucee4\ubba4\ub2c8\ud2f0\n",
        "Bike to the Future Free"
       ]
      },
      {
       "output_type": "stream",
       "stream": "stdout",
       "text": [
        " \ubbf8\uc6a9\n",
        "Bike to the Future Free"
       ]
      },
      {
       "output_type": "stream",
       "stream": "stdout",
       "text": [
        " \uc74c\uc545\n",
        "Bike to the Future Free"
       ]
      },
      {
       "output_type": "stream",
       "stream": "stdout",
       "text": [
        " \ub9ac\ubdf0\n",
        "Bike to the Future Free"
       ]
      },
      {
       "output_type": "stream",
       "stream": "stdout",
       "text": [
        " \uc5f0\uc608\n",
        "Bike to the Future Free"
       ]
      },
      {
       "output_type": "stream",
       "stream": "stdout",
       "text": [
        " \uc74c\uc2dd\n",
        "Bike to the Future Free"
       ]
      },
      {
       "output_type": "stream",
       "stream": "stdout",
       "text": [
        " \uc2a4\ud3ec\uce20\n",
        "Bike to the Future Free"
       ]
      },
      {
       "output_type": "stream",
       "stream": "stdout",
       "text": [
        " \uac8c\uc784\n",
        "Bike to the Future Free"
       ]
      },
      {
       "output_type": "stream",
       "stream": "stdout",
       "text": [
        " \uac74\uac15\n",
        "Bike to the Future Free"
       ]
      },
      {
       "output_type": "stream",
       "stream": "stdout",
       "text": [
        " \ud559\uc2b5\n",
        "Bike to the Future Free"
       ]
      },
      {
       "output_type": "stream",
       "stream": "stdout",
       "text": [
        " \ucee4\ubba4\ub2c8\ud2f0\n",
        "FrameMe-Instagram pic \ubbf8\uc6a9\n",
        "FrameMe-Instagram pic"
       ]
      },
      {
       "output_type": "stream",
       "stream": "stdout",
       "text": [
        " \uc74c\uc545\n",
        "FrameMe-Instagram pic"
       ]
      },
      {
       "output_type": "stream",
       "stream": "stdout",
       "text": [
        " \ub9ac\ubdf0\n",
        "FrameMe-Instagram pic"
       ]
      },
      {
       "output_type": "stream",
       "stream": "stdout",
       "text": [
        " \uc5f0\uc608\n",
        "FrameMe-Instagram pic"
       ]
      },
      {
       "output_type": "stream",
       "stream": "stdout",
       "text": [
        " \uc74c\uc2dd\n",
        "FrameMe-Instagram pic"
       ]
      },
      {
       "output_type": "stream",
       "stream": "stdout",
       "text": [
        " \uc2a4\ud3ec\uce20\n",
        "FrameMe-Instagram pic"
       ]
      },
      {
       "output_type": "stream",
       "stream": "stdout",
       "text": [
        " \uac8c\uc784\n",
        "FrameMe-Instagram pic"
       ]
      },
      {
       "output_type": "stream",
       "stream": "stdout",
       "text": [
        " \uac74\uac15\n",
        "FrameMe-Instagram pic"
       ]
      },
      {
       "output_type": "stream",
       "stream": "stdout",
       "text": [
        " \ud559\uc2b5\n",
        "FrameMe-Instagram pic"
       ]
      },
      {
       "output_type": "stream",
       "stream": "stdout",
       "text": [
        " \ucee4\ubba4\ub2c8\ud2f0\n",
        "Monorail Lite"
       ]
      },
      {
       "output_type": "stream",
       "stream": "stdout",
       "text": [
        " \ubbf8\uc6a9\n",
        "Monorail Lite"
       ]
      },
      {
       "output_type": "stream",
       "stream": "stdout",
       "text": [
        " \uc74c\uc545\n",
        "Monorail Lite"
       ]
      },
      {
       "output_type": "stream",
       "stream": "stdout",
       "text": [
        " \ub9ac\ubdf0\n",
        "Monorail Lite"
       ]
      },
      {
       "output_type": "stream",
       "stream": "stdout",
       "text": [
        " \uc5f0\uc608\n",
        "Monorail Lite"
       ]
      },
      {
       "output_type": "stream",
       "stream": "stdout",
       "text": [
        " \uc74c\uc2dd\n",
        "Monorail Lite"
       ]
      },
      {
       "output_type": "stream",
       "stream": "stdout",
       "text": [
        " \uc2a4\ud3ec\uce20\n",
        "Monorail Lite"
       ]
      },
      {
       "output_type": "stream",
       "stream": "stdout",
       "text": [
        " \uac8c\uc784\n",
        "Monorail Lite"
       ]
      },
      {
       "output_type": "stream",
       "stream": "stdout",
       "text": [
        " \uac74\uac15\n",
        "Monorail Lite"
       ]
      },
      {
       "output_type": "stream",
       "stream": "stdout",
       "text": [
        " \ud559\uc2b5\n",
        "Monorail Lite"
       ]
      },
      {
       "output_type": "stream",
       "stream": "stdout",
       "text": [
        " \ucee4\ubba4\ub2c8\ud2f0\n",
        "chumby for Sony Tablet S"
       ]
      },
      {
       "output_type": "stream",
       "stream": "stdout",
       "text": [
        " \ubbf8\uc6a9\n",
        "chumby for Sony Tablet S"
       ]
      },
      {
       "output_type": "stream",
       "stream": "stdout",
       "text": [
        " \uc74c\uc545\n",
        "chumby for Sony Tablet S"
       ]
      },
      {
       "output_type": "stream",
       "stream": "stdout",
       "text": [
        " \ub9ac\ubdf0\n",
        "chumby for Sony Tablet S"
       ]
      },
      {
       "output_type": "stream",
       "stream": "stdout",
       "text": [
        " \uc5f0\uc608\n",
        "chumby for Sony Tablet S"
       ]
      },
      {
       "output_type": "stream",
       "stream": "stdout",
       "text": [
        " \uc74c\uc2dd\n",
        "chumby for Sony Tablet S"
       ]
      },
      {
       "output_type": "stream",
       "stream": "stdout",
       "text": [
        " \uc2a4\ud3ec\uce20\n",
        "chumby for Sony Tablet S"
       ]
      },
      {
       "output_type": "stream",
       "stream": "stdout",
       "text": [
        " \uac8c\uc784\n",
        "chumby for Sony Tablet S"
       ]
      },
      {
       "output_type": "stream",
       "stream": "stdout",
       "text": [
        " \uac74\uac15\n",
        "chumby for Sony Tablet S"
       ]
      },
      {
       "output_type": "stream",
       "stream": "stdout",
       "text": [
        " \ud559\uc2b5\n",
        "chumby for Sony Tablet S"
       ]
      },
      {
       "output_type": "stream",
       "stream": "stdout",
       "text": [
        " \ucee4\ubba4\ub2c8\ud2f0\n",
        "[GDGT]MCPE App"
       ]
      },
      {
       "output_type": "stream",
       "stream": "stdout",
       "text": [
        " \ubbf8\uc6a9\n",
        "[GDGT]MCPE App"
       ]
      },
      {
       "output_type": "stream",
       "stream": "stdout",
       "text": [
        " \uc74c\uc545\n",
        "[GDGT]MCPE App"
       ]
      },
      {
       "output_type": "stream",
       "stream": "stdout",
       "text": [
        " \ub9ac\ubdf0\n",
        "[GDGT]MCPE App"
       ]
      },
      {
       "output_type": "stream",
       "stream": "stdout",
       "text": [
        " \uc5f0\uc608\n",
        "[GDGT]MCPE App"
       ]
      },
      {
       "output_type": "stream",
       "stream": "stdout",
       "text": [
        " \uc74c\uc2dd\n",
        "[GDGT]MCPE App"
       ]
      },
      {
       "output_type": "stream",
       "stream": "stdout",
       "text": [
        " \uc2a4\ud3ec\uce20\n",
        "[GDGT]MCPE App"
       ]
      },
      {
       "output_type": "stream",
       "stream": "stdout",
       "text": [
        " \uac8c\uc784\n",
        "[GDGT]MCPE App"
       ]
      },
      {
       "output_type": "stream",
       "stream": "stdout",
       "text": [
        " \uac74\uac15\n",
        "[GDGT]MCPE App"
       ]
      },
      {
       "output_type": "stream",
       "stream": "stdout",
       "text": [
        " \ud559\uc2b5\n",
        "[GDGT]MCPE App"
       ]
      },
      {
       "output_type": "stream",
       "stream": "stdout",
       "text": [
        " \ucee4\ubba4\ub2c8\ud2f0\n",
        "PEP the dragon"
       ]
      },
      {
       "output_type": "stream",
       "stream": "stdout",
       "text": [
        " \ubbf8\uc6a9\n",
        "PEP the dragon"
       ]
      },
      {
       "output_type": "stream",
       "stream": "stdout",
       "text": [
        " \uc74c\uc545\n",
        "PEP the dragon"
       ]
      },
      {
       "output_type": "stream",
       "stream": "stdout",
       "text": [
        " \ub9ac\ubdf0\n",
        "PEP the dragon"
       ]
      },
      {
       "output_type": "stream",
       "stream": "stdout",
       "text": [
        " \uc5f0\uc608\n",
        "PEP the dragon"
       ]
      },
      {
       "output_type": "stream",
       "stream": "stdout",
       "text": [
        " \uc74c\uc2dd\n",
        "PEP the dragon"
       ]
      },
      {
       "output_type": "stream",
       "stream": "stdout",
       "text": [
        " \uc2a4\ud3ec\uce20\n",
        "PEP the dragon"
       ]
      },
      {
       "output_type": "stream",
       "stream": "stdout",
       "text": [
        " \uac8c\uc784\n",
        "PEP the dragon"
       ]
      },
      {
       "output_type": "stream",
       "stream": "stdout",
       "text": [
        " \uac74\uac15\n",
        "PEP the dragon"
       ]
      },
      {
       "output_type": "stream",
       "stream": "stdout",
       "text": [
        " \ud559\uc2b5\n",
        "PEP the dragon"
       ]
      },
      {
       "output_type": "stream",
       "stream": "stdout",
       "text": [
        " \ucee4\ubba4\ub2c8\ud2f0\n",
        "3D\u5168\u666f\u62cd\u7167"
       ]
      },
      {
       "output_type": "stream",
       "stream": "stdout",
       "text": [
        " \ubbf8\uc6a9\n",
        "3D\u5168\u666f\u62cd\u7167"
       ]
      },
      {
       "output_type": "stream",
       "stream": "stdout",
       "text": [
        " \uc74c\uc545\n",
        "3D\u5168\u666f\u62cd\u7167"
       ]
      },
      {
       "output_type": "stream",
       "stream": "stdout",
       "text": [
        " \ub9ac\ubdf0\n",
        "3D\u5168\u666f\u62cd\u7167"
       ]
      },
      {
       "output_type": "stream",
       "stream": "stdout",
       "text": [
        " \uc5f0\uc608\n",
        "3D\u5168\u666f\u62cd\u7167"
       ]
      },
      {
       "output_type": "stream",
       "stream": "stdout",
       "text": [
        " \uc74c\uc2dd\n",
        "3D\u5168\u666f\u62cd\u7167"
       ]
      },
      {
       "output_type": "stream",
       "stream": "stdout",
       "text": [
        " \uc2a4\ud3ec\uce20\n",
        "3D\u5168\u666f\u62cd\u7167"
       ]
      },
      {
       "output_type": "stream",
       "stream": "stdout",
       "text": [
        " \uac8c\uc784\n",
        "3D\u5168\u666f\u62cd\u7167"
       ]
      },
      {
       "output_type": "stream",
       "stream": "stdout",
       "text": [
        " \uac74\uac15\n",
        "3D\u5168\u666f\u62cd\u7167"
       ]
      },
      {
       "output_type": "stream",
       "stream": "stdout",
       "text": [
        " \ud559\uc2b5\n",
        "3D\u5168\u666f\u62cd\u7167"
       ]
      },
      {
       "output_type": "stream",
       "stream": "stdout",
       "text": [
        " \ucee4\ubba4\ub2c8\ud2f0\n",
        "Color Touch FX"
       ]
      },
      {
       "output_type": "stream",
       "stream": "stdout",
       "text": [
        " \ubbf8\uc6a9\n",
        "Color Touch FX"
       ]
      },
      {
       "output_type": "stream",
       "stream": "stdout",
       "text": [
        " \uc74c\uc545\n",
        "Color Touch FX"
       ]
      },
      {
       "output_type": "stream",
       "stream": "stdout",
       "text": [
        " \ub9ac\ubdf0\n",
        "Color Touch FX"
       ]
      },
      {
       "output_type": "stream",
       "stream": "stdout",
       "text": [
        " \uc5f0\uc608\n",
        "Color Touch FX"
       ]
      },
      {
       "output_type": "stream",
       "stream": "stdout",
       "text": [
        " \uc74c\uc2dd\n",
        "Color Touch FX"
       ]
      },
      {
       "output_type": "stream",
       "stream": "stdout",
       "text": [
        " \uc2a4\ud3ec\uce20\n",
        "Color Touch FX"
       ]
      },
      {
       "output_type": "stream",
       "stream": "stdout",
       "text": [
        " \uac8c\uc784\n",
        "Color Touch FX \uac74\uac15\n",
        "Color Touch FX"
       ]
      },
      {
       "output_type": "stream",
       "stream": "stdout",
       "text": [
        " \ud559\uc2b5\n",
        "Color Touch FX"
       ]
      },
      {
       "output_type": "stream",
       "stream": "stdout",
       "text": [
        " \ucee4\ubba4\ub2c8\ud2f0\n",
        "\uc544\uae30 \uc790\uc7a5\uac00 \uc218\uba74 \ud2b8\ub808\uc774\ub2dd + \ucd08\uc810\ucc45"
       ]
      },
      {
       "output_type": "stream",
       "stream": "stdout",
       "text": [
        " \ubbf8\uc6a9\n",
        "\uc544\uae30 \uc790\uc7a5\uac00 \uc218\uba74 \ud2b8\ub808\uc774\ub2dd + \ucd08\uc810\ucc45"
       ]
      },
      {
       "output_type": "stream",
       "stream": "stdout",
       "text": [
        " \uc74c\uc545\n",
        "\uc544\uae30 \uc790\uc7a5\uac00 \uc218\uba74 \ud2b8\ub808\uc774\ub2dd + \ucd08\uc810\ucc45"
       ]
      },
      {
       "output_type": "stream",
       "stream": "stdout",
       "text": [
        " \ub9ac\ubdf0\n",
        "\uc544\uae30 \uc790\uc7a5\uac00 \uc218\uba74 \ud2b8\ub808\uc774\ub2dd + \ucd08\uc810\ucc45 \uc5f0\uc608\n",
        "\uc544\uae30 \uc790\uc7a5\uac00 \uc218\uba74 \ud2b8\ub808\uc774\ub2dd + \ucd08\uc810\ucc45"
       ]
      },
      {
       "output_type": "stream",
       "stream": "stdout",
       "text": [
        " \uc74c\uc2dd\n",
        "\uc544\uae30 \uc790\uc7a5\uac00 \uc218\uba74 \ud2b8\ub808\uc774\ub2dd + \ucd08\uc810\ucc45"
       ]
      },
      {
       "output_type": "stream",
       "stream": "stdout",
       "text": [
        " \uc2a4\ud3ec\uce20\n",
        "\uc544\uae30 \uc790\uc7a5\uac00 \uc218\uba74 \ud2b8\ub808\uc774\ub2dd + \ucd08\uc810\ucc45"
       ]
      },
      {
       "output_type": "stream",
       "stream": "stdout",
       "text": [
        " \uac8c\uc784\n",
        "\uc544\uae30 \uc790\uc7a5\uac00 \uc218\uba74 \ud2b8\ub808\uc774\ub2dd + \ucd08\uc810\ucc45"
       ]
      },
      {
       "output_type": "stream",
       "stream": "stdout",
       "text": [
        " \uac74\uac15\n",
        "\uc544\uae30 \uc790\uc7a5\uac00 \uc218\uba74 \ud2b8\ub808\uc774\ub2dd + \ucd08\uc810\ucc45"
       ]
      },
      {
       "output_type": "stream",
       "stream": "stdout",
       "text": [
        " \ud559\uc2b5\n",
        "\uc544\uae30 \uc790\uc7a5\uac00 \uc218\uba74 \ud2b8\ub808\uc774\ub2dd + \ucd08\uc810\ucc45"
       ]
      },
      {
       "output_type": "stream",
       "stream": "stdout",
       "text": [
        " \ucee4\ubba4\ub2c8\ud2f0\n",
        "Moto Race"
       ]
      },
      {
       "output_type": "stream",
       "stream": "stdout",
       "text": [
        " \ubbf8\uc6a9\n",
        "Moto Race"
       ]
      },
      {
       "output_type": "stream",
       "stream": "stdout",
       "text": [
        " \uc74c\uc545\n",
        "Moto Race"
       ]
      },
      {
       "output_type": "stream",
       "stream": "stdout",
       "text": [
        " \ub9ac\ubdf0\n",
        "Moto Race"
       ]
      },
      {
       "output_type": "stream",
       "stream": "stdout",
       "text": [
        " \uc5f0\uc608\n",
        "Moto Race"
       ]
      },
      {
       "output_type": "stream",
       "stream": "stdout",
       "text": [
        " \uc74c\uc2dd\n",
        "Moto Race"
       ]
      },
      {
       "output_type": "stream",
       "stream": "stdout",
       "text": [
        " \uc2a4\ud3ec\uce20\n",
        "Moto Race \uac8c\uc784\n",
        "Moto Race"
       ]
      },
      {
       "output_type": "stream",
       "stream": "stdout",
       "text": [
        " \uac74\uac15\n",
        "Moto Race"
       ]
      },
      {
       "output_type": "stream",
       "stream": "stdout",
       "text": [
        " \ud559\uc2b5\n",
        "Moto Race"
       ]
      },
      {
       "output_type": "stream",
       "stream": "stdout",
       "text": [
        " \ucee4\ubba4\ub2c8\ud2f0\n",
        "eco\u30e2\u30fc\u30c9"
       ]
      },
      {
       "output_type": "stream",
       "stream": "stdout",
       "text": [
        " \ubbf8\uc6a9\n",
        "eco\u30e2\u30fc\u30c9"
       ]
      },
      {
       "output_type": "stream",
       "stream": "stdout",
       "text": [
        " \uc74c\uc545\n",
        "eco\u30e2\u30fc\u30c9"
       ]
      },
      {
       "output_type": "stream",
       "stream": "stdout",
       "text": [
        " \ub9ac\ubdf0\n",
        "eco\u30e2\u30fc\u30c9"
       ]
      },
      {
       "output_type": "stream",
       "stream": "stdout",
       "text": [
        " \uc5f0\uc608\n",
        "eco\u30e2\u30fc\u30c9"
       ]
      },
      {
       "output_type": "stream",
       "stream": "stdout",
       "text": [
        " \uc74c\uc2dd\n",
        "eco\u30e2\u30fc\u30c9"
       ]
      },
      {
       "output_type": "stream",
       "stream": "stdout",
       "text": [
        " \uc2a4\ud3ec\uce20\n",
        "eco\u30e2\u30fc\u30c9"
       ]
      },
      {
       "output_type": "stream",
       "stream": "stdout",
       "text": [
        " \uac8c\uc784\n",
        "eco\u30e2\u30fc\u30c9"
       ]
      },
      {
       "output_type": "stream",
       "stream": "stdout",
       "text": [
        " \uac74\uac15\n",
        "eco\u30e2\u30fc\u30c9"
       ]
      },
      {
       "output_type": "stream",
       "stream": "stdout",
       "text": [
        " \ud559\uc2b5\n",
        "eco\u30e2\u30fc\u30c9"
       ]
      },
      {
       "output_type": "stream",
       "stream": "stdout",
       "text": [
        " \ucee4\ubba4\ub2c8\ud2f0\n",
        "pink butterflies glitter lwp"
       ]
      },
      {
       "output_type": "stream",
       "stream": "stdout",
       "text": [
        " \ubbf8\uc6a9\n",
        "pink butterflies glitter lwp"
       ]
      },
      {
       "output_type": "stream",
       "stream": "stdout",
       "text": [
        " \uc74c\uc545\n",
        "pink butterflies glitter lwp"
       ]
      },
      {
       "output_type": "stream",
       "stream": "stdout",
       "text": [
        " \ub9ac\ubdf0\n",
        "pink butterflies glitter lwp"
       ]
      },
      {
       "output_type": "stream",
       "stream": "stdout",
       "text": [
        " \uc5f0\uc608\n",
        "pink butterflies glitter lwp"
       ]
      },
      {
       "output_type": "stream",
       "stream": "stdout",
       "text": [
        " \uc74c\uc2dd\n",
        "pink butterflies glitter lwp"
       ]
      },
      {
       "output_type": "stream",
       "stream": "stdout",
       "text": [
        " \uc2a4\ud3ec\uce20\n",
        "pink butterflies glitter lwp"
       ]
      },
      {
       "output_type": "stream",
       "stream": "stdout",
       "text": [
        " \uac8c\uc784\n",
        "pink butterflies glitter lwp"
       ]
      },
      {
       "output_type": "stream",
       "stream": "stdout",
       "text": [
        " \uac74\uac15\n",
        "pink butterflies glitter lwp"
       ]
      },
      {
       "output_type": "stream",
       "stream": "stdout",
       "text": [
        " \ud559\uc2b5\n",
        "pink butterflies glitter lwp"
       ]
      },
      {
       "output_type": "stream",
       "stream": "stdout",
       "text": [
        " \ucee4\ubba4\ub2c8\ud2f0\n",
        "Zs\u00edroz\u00e1s"
       ]
      },
      {
       "output_type": "stream",
       "stream": "stdout",
       "text": [
        " \ubbf8\uc6a9\n",
        "Zs\u00edroz\u00e1s"
       ]
      },
      {
       "output_type": "stream",
       "stream": "stdout",
       "text": [
        " \uc74c\uc545\n",
        "Zs\u00edroz\u00e1s"
       ]
      },
      {
       "output_type": "stream",
       "stream": "stdout",
       "text": [
        " \ub9ac\ubdf0\n",
        "Zs\u00edroz\u00e1s"
       ]
      },
      {
       "output_type": "stream",
       "stream": "stdout",
       "text": [
        " \uc5f0\uc608\n",
        "Zs\u00edroz\u00e1s"
       ]
      },
      {
       "output_type": "stream",
       "stream": "stdout",
       "text": [
        " \uc74c\uc2dd\n",
        "Zs\u00edroz\u00e1s"
       ]
      },
      {
       "output_type": "stream",
       "stream": "stdout",
       "text": [
        " \uc2a4\ud3ec\uce20\n",
        "Zs\u00edroz\u00e1s"
       ]
      },
      {
       "output_type": "stream",
       "stream": "stdout",
       "text": [
        " \uac8c\uc784\n",
        "Zs\u00edroz\u00e1s"
       ]
      },
      {
       "output_type": "stream",
       "stream": "stdout",
       "text": [
        " \uac74\uac15\n",
        "Zs\u00edroz\u00e1s"
       ]
      },
      {
       "output_type": "stream",
       "stream": "stdout",
       "text": [
        " \ud559\uc2b5\n",
        "Zs\u00edroz\u00e1s"
       ]
      },
      {
       "output_type": "stream",
       "stream": "stdout",
       "text": [
        " \ucee4\ubba4\ub2c8\ud2f0\n",
        "Halifax Mobile Banking app"
       ]
      },
      {
       "output_type": "stream",
       "stream": "stdout",
       "text": [
        " \ubbf8\uc6a9\n",
        "Halifax Mobile Banking app"
       ]
      },
      {
       "output_type": "stream",
       "stream": "stdout",
       "text": [
        " \uc74c\uc545\n",
        "Halifax Mobile Banking app"
       ]
      },
      {
       "output_type": "stream",
       "stream": "stdout",
       "text": [
        " \ub9ac\ubdf0\n",
        "Halifax Mobile Banking app"
       ]
      },
      {
       "output_type": "stream",
       "stream": "stdout",
       "text": [
        " \uc5f0\uc608\n",
        "Halifax Mobile Banking app"
       ]
      },
      {
       "output_type": "stream",
       "stream": "stdout",
       "text": [
        " \uc74c\uc2dd\n",
        "Halifax Mobile Banking app"
       ]
      },
      {
       "output_type": "stream",
       "stream": "stdout",
       "text": [
        " \uc2a4\ud3ec\uce20\n",
        "Halifax Mobile Banking app"
       ]
      },
      {
       "output_type": "stream",
       "stream": "stdout",
       "text": [
        " \uac8c\uc784\n",
        "Halifax Mobile Banking app"
       ]
      },
      {
       "output_type": "stream",
       "stream": "stdout",
       "text": [
        " \uac74\uac15\n",
        "Halifax Mobile Banking app"
       ]
      },
      {
       "output_type": "stream",
       "stream": "stdout",
       "text": [
        " \ud559\uc2b5\n",
        "Halifax Mobile Banking app"
       ]
      },
      {
       "output_type": "stream",
       "stream": "stdout",
       "text": [
        " \ucee4\ubba4\ub2c8\ud2f0\n",
        "The Snowman and The Snowdog"
       ]
      },
      {
       "output_type": "stream",
       "stream": "stdout",
       "text": [
        " \ubbf8\uc6a9\n",
        "The Snowman and The Snowdog"
       ]
      },
      {
       "output_type": "stream",
       "stream": "stdout",
       "text": [
        " \uc74c\uc545\n",
        "The Snowman and The Snowdog"
       ]
      },
      {
       "output_type": "stream",
       "stream": "stdout",
       "text": [
        " \ub9ac\ubdf0\n",
        "The Snowman and The Snowdog"
       ]
      },
      {
       "output_type": "stream",
       "stream": "stdout",
       "text": [
        " \uc5f0\uc608\n",
        "The Snowman and The Snowdog"
       ]
      },
      {
       "output_type": "stream",
       "stream": "stdout",
       "text": [
        " \uc74c\uc2dd\n",
        "The Snowman and The Snowdog"
       ]
      },
      {
       "output_type": "stream",
       "stream": "stdout",
       "text": [
        " \uc2a4\ud3ec\uce20\n",
        "The Snowman and The Snowdog"
       ]
      },
      {
       "output_type": "stream",
       "stream": "stdout",
       "text": [
        " \uac8c\uc784\n",
        "The Snowman and The Snowdog"
       ]
      },
      {
       "output_type": "stream",
       "stream": "stdout",
       "text": [
        " \uac74\uac15\n",
        "The Snowman and The Snowdog"
       ]
      },
      {
       "output_type": "stream",
       "stream": "stdout",
       "text": [
        " \ud559\uc2b5\n",
        "The Snowman and The Snowdog"
       ]
      },
      {
       "output_type": "stream",
       "stream": "stdout",
       "text": [
        " \ucee4\ubba4\ub2c8\ud2f0\n",
        "Strategy & Tactics: WW II Free"
       ]
      },
      {
       "output_type": "stream",
       "stream": "stdout",
       "text": [
        " \ubbf8\uc6a9\n",
        "Strategy & Tactics: WW II Free"
       ]
      },
      {
       "output_type": "stream",
       "stream": "stdout",
       "text": [
        " \uc74c\uc545\n",
        "Strategy & Tactics: WW II Free"
       ]
      },
      {
       "output_type": "stream",
       "stream": "stdout",
       "text": [
        " \ub9ac\ubdf0\n",
        "Strategy & Tactics: WW II Free"
       ]
      },
      {
       "output_type": "stream",
       "stream": "stdout",
       "text": [
        " \uc5f0\uc608\n",
        "Strategy & Tactics: WW II Free"
       ]
      },
      {
       "output_type": "stream",
       "stream": "stdout",
       "text": [
        " \uc74c\uc2dd\n",
        "Strategy & Tactics: WW II Free"
       ]
      },
      {
       "output_type": "stream",
       "stream": "stdout",
       "text": [
        " \uc2a4\ud3ec\uce20\n",
        "Strategy & Tactics: WW II Free"
       ]
      },
      {
       "output_type": "stream",
       "stream": "stdout",
       "text": [
        " \uac8c\uc784\n",
        "Strategy & Tactics: WW II Free"
       ]
      },
      {
       "output_type": "stream",
       "stream": "stdout",
       "text": [
        " \uac74\uac15\n",
        "Strategy & Tactics: WW II Free"
       ]
      },
      {
       "output_type": "stream",
       "stream": "stdout",
       "text": [
        " \ud559\uc2b5\n",
        "Strategy & Tactics: WW II Free"
       ]
      },
      {
       "output_type": "stream",
       "stream": "stdout",
       "text": [
        " \ucee4\ubba4\ub2c8\ud2f0\n",
        "Pocket Clothier Lite"
       ]
      },
      {
       "output_type": "stream",
       "stream": "stdout",
       "text": [
        " \ubbf8\uc6a9\n",
        "Pocket Clothier Lite"
       ]
      },
      {
       "output_type": "stream",
       "stream": "stdout",
       "text": [
        " \uc74c\uc545\n",
        "Pocket Clothier Lite"
       ]
      },
      {
       "output_type": "stream",
       "stream": "stdout",
       "text": [
        " \ub9ac\ubdf0\n",
        "Pocket Clothier Lite"
       ]
      },
      {
       "output_type": "stream",
       "stream": "stdout",
       "text": [
        " \uc5f0\uc608\n",
        "Pocket Clothier Lite"
       ]
      },
      {
       "output_type": "stream",
       "stream": "stdout",
       "text": [
        " \uc74c\uc2dd\n",
        "Pocket Clothier Lite"
       ]
      },
      {
       "output_type": "stream",
       "stream": "stdout",
       "text": [
        " \uc2a4\ud3ec\uce20\n",
        "Pocket Clothier Lite"
       ]
      },
      {
       "output_type": "stream",
       "stream": "stdout",
       "text": [
        " \uac8c\uc784\n",
        "Pocket Clothier Lite"
       ]
      },
      {
       "output_type": "stream",
       "stream": "stdout",
       "text": [
        " \uac74\uac15\n",
        "Pocket Clothier Lite"
       ]
      },
      {
       "output_type": "stream",
       "stream": "stdout",
       "text": [
        " \ud559\uc2b5\n",
        "Pocket Clothier Lite"
       ]
      },
      {
       "output_type": "stream",
       "stream": "stdout",
       "text": [
        " \ucee4\ubba4\ub2c8\ud2f0\n",
        "e\ud558\ub298 \uc7a5\uc0ac\uc815\ubcf4"
       ]
      },
      {
       "output_type": "stream",
       "stream": "stdout",
       "text": [
        " \ubbf8\uc6a9\n",
        "e\ud558\ub298 \uc7a5\uc0ac\uc815\ubcf4"
       ]
      },
      {
       "output_type": "stream",
       "stream": "stdout",
       "text": [
        " \uc74c\uc545\n",
        "e\ud558\ub298 \uc7a5\uc0ac\uc815\ubcf4"
       ]
      },
      {
       "output_type": "stream",
       "stream": "stdout",
       "text": [
        " \ub9ac\ubdf0\n",
        "e\ud558\ub298 \uc7a5\uc0ac\uc815\ubcf4"
       ]
      },
      {
       "output_type": "stream",
       "stream": "stdout",
       "text": [
        " \uc5f0\uc608\n",
        "e\ud558\ub298 \uc7a5\uc0ac\uc815\ubcf4"
       ]
      },
      {
       "output_type": "stream",
       "stream": "stdout",
       "text": [
        " \uc74c\uc2dd\n",
        "e\ud558\ub298 \uc7a5\uc0ac\uc815\ubcf4"
       ]
      },
      {
       "output_type": "stream",
       "stream": "stdout",
       "text": [
        " \uc2a4\ud3ec\uce20\n",
        "e\ud558\ub298 \uc7a5\uc0ac\uc815\ubcf4"
       ]
      },
      {
       "output_type": "stream",
       "stream": "stdout",
       "text": [
        " \uac8c\uc784\n",
        "e\ud558\ub298 \uc7a5\uc0ac\uc815\ubcf4"
       ]
      },
      {
       "output_type": "stream",
       "stream": "stdout",
       "text": [
        " \uac74\uac15\n",
        "e\ud558\ub298 \uc7a5\uc0ac\uc815\ubcf4"
       ]
      },
      {
       "output_type": "stream",
       "stream": "stdout",
       "text": [
        " \ud559\uc2b5\n",
        "e\ud558\ub298 \uc7a5\uc0ac\uc815\ubcf4"
       ]
      },
      {
       "output_type": "stream",
       "stream": "stdout",
       "text": [
        " \ucee4\ubba4\ub2c8\ud2f0\n",
        "\uc2a4\ud504\ub808\ub4dc\uce98 - \uce98\ub9b0\ub354"
       ]
      },
      {
       "output_type": "stream",
       "stream": "stdout",
       "text": [
        " \ubbf8\uc6a9\n",
        "\uc2a4\ud504\ub808\ub4dc\uce98 - \uce98\ub9b0\ub354"
       ]
      },
      {
       "output_type": "stream",
       "stream": "stdout",
       "text": [
        " \uc74c\uc545\n",
        "\uc2a4\ud504\ub808\ub4dc\uce98 - \uce98\ub9b0\ub354"
       ]
      },
      {
       "output_type": "stream",
       "stream": "stdout",
       "text": [
        " \ub9ac\ubdf0\n",
        "\uc2a4\ud504\ub808\ub4dc\uce98 - \uce98\ub9b0\ub354"
       ]
      },
      {
       "output_type": "stream",
       "stream": "stdout",
       "text": [
        " \uc5f0\uc608\n",
        "\uc2a4\ud504\ub808\ub4dc\uce98 - \uce98\ub9b0\ub354"
       ]
      },
      {
       "output_type": "stream",
       "stream": "stdout",
       "text": [
        " \uc74c\uc2dd\n",
        "\uc2a4\ud504\ub808\ub4dc\uce98 - \uce98\ub9b0\ub354"
       ]
      },
      {
       "output_type": "stream",
       "stream": "stdout",
       "text": [
        " \uc2a4\ud3ec\uce20\n",
        "\uc2a4\ud504\ub808\ub4dc\uce98 - \uce98\ub9b0\ub354"
       ]
      },
      {
       "output_type": "stream",
       "stream": "stdout",
       "text": [
        " \uac8c\uc784\n",
        "\uc2a4\ud504\ub808\ub4dc\uce98 - \uce98\ub9b0\ub354"
       ]
      },
      {
       "output_type": "stream",
       "stream": "stdout",
       "text": [
        " \uac74\uac15\n",
        "\uc2a4\ud504\ub808\ub4dc\uce98 - \uce98\ub9b0\ub354"
       ]
      },
      {
       "output_type": "stream",
       "stream": "stdout",
       "text": [
        " \ud559\uc2b5\n",
        "\uc2a4\ud504\ub808\ub4dc\uce98 - \uce98\ub9b0\ub354"
       ]
      },
      {
       "output_type": "stream",
       "stream": "stdout",
       "text": [
        " \ucee4\ubba4\ub2c8\ud2f0\n",
        "Pocket Dragons RPG"
       ]
      },
      {
       "output_type": "stream",
       "stream": "stdout",
       "text": [
        " \ubbf8\uc6a9\n",
        "Pocket Dragons RPG"
       ]
      },
      {
       "output_type": "stream",
       "stream": "stdout",
       "text": [
        " \uc74c\uc545\n",
        "Pocket Dragons RPG"
       ]
      },
      {
       "output_type": "stream",
       "stream": "stdout",
       "text": [
        " \ub9ac\ubdf0\n",
        "Pocket Dragons RPG"
       ]
      },
      {
       "output_type": "stream",
       "stream": "stdout",
       "text": [
        " \uc5f0\uc608\n",
        "Pocket Dragons RPG"
       ]
      },
      {
       "output_type": "stream",
       "stream": "stdout",
       "text": [
        " \uc74c\uc2dd\n",
        "Pocket Dragons RPG"
       ]
      },
      {
       "output_type": "stream",
       "stream": "stdout",
       "text": [
        " \uc2a4\ud3ec\uce20\n",
        "Pocket Dragons RPG"
       ]
      },
      {
       "output_type": "stream",
       "stream": "stdout",
       "text": [
        " \uac8c\uc784\n",
        "Pocket Dragons RPG"
       ]
      },
      {
       "output_type": "stream",
       "stream": "stdout",
       "text": [
        " \uac74\uac15\n",
        "Pocket Dragons RPG"
       ]
      },
      {
       "output_type": "stream",
       "stream": "stdout",
       "text": [
        " \ud559\uc2b5\n",
        "Pocket Dragons RPG"
       ]
      },
      {
       "output_type": "stream",
       "stream": "stdout",
       "text": [
        " \ucee4\ubba4\ub2c8\ud2f0\n",
        "\ud130\uce58 \ud130\uce58 \uc0ac\ub2e4\ub9ac ( Touch Touch \uc0ac\ub2e4\ub9ac )"
       ]
      },
      {
       "output_type": "stream",
       "stream": "stdout",
       "text": [
        " \ubbf8\uc6a9\n",
        "\ud130\uce58 \ud130\uce58 \uc0ac\ub2e4\ub9ac ( Touch Touch \uc0ac\ub2e4\ub9ac )"
       ]
      },
      {
       "output_type": "stream",
       "stream": "stdout",
       "text": [
        " \uc74c\uc545\n",
        "\ud130\uce58 \ud130\uce58 \uc0ac\ub2e4\ub9ac ( Touch Touch \uc0ac\ub2e4\ub9ac )"
       ]
      },
      {
       "output_type": "stream",
       "stream": "stdout",
       "text": [
        " \ub9ac\ubdf0\n",
        "\ud130\uce58 \ud130\uce58 \uc0ac\ub2e4\ub9ac ( Touch Touch \uc0ac\ub2e4\ub9ac )"
       ]
      },
      {
       "output_type": "stream",
       "stream": "stdout",
       "text": [
        " \uc5f0\uc608\n",
        "\ud130\uce58 \ud130\uce58 \uc0ac\ub2e4\ub9ac ( Touch Touch \uc0ac\ub2e4\ub9ac )"
       ]
      },
      {
       "output_type": "stream",
       "stream": "stdout",
       "text": [
        " \uc74c\uc2dd\n",
        "\ud130\uce58 \ud130\uce58 \uc0ac\ub2e4\ub9ac ( Touch Touch \uc0ac\ub2e4\ub9ac )"
       ]
      },
      {
       "output_type": "stream",
       "stream": "stdout",
       "text": [
        " \uc2a4\ud3ec\uce20\n",
        "\ud130\uce58 \ud130\uce58 \uc0ac\ub2e4\ub9ac ( Touch Touch \uc0ac\ub2e4\ub9ac )"
       ]
      },
      {
       "output_type": "stream",
       "stream": "stdout",
       "text": [
        " \uac8c\uc784\n",
        "\ud130\uce58 \ud130\uce58 \uc0ac\ub2e4\ub9ac ( Touch Touch \uc0ac\ub2e4\ub9ac )"
       ]
      },
      {
       "output_type": "stream",
       "stream": "stdout",
       "text": [
        " \uac74\uac15\n",
        "\ud130\uce58 \ud130\uce58 \uc0ac\ub2e4\ub9ac ( Touch Touch \uc0ac\ub2e4\ub9ac )"
       ]
      },
      {
       "output_type": "stream",
       "stream": "stdout",
       "text": [
        " \ud559\uc2b5\n",
        "\ud130\uce58 \ud130\uce58 \uc0ac\ub2e4\ub9ac ( Touch Touch \uc0ac\ub2e4\ub9ac )"
       ]
      },
      {
       "output_type": "stream",
       "stream": "stdout",
       "text": [
        " \ucee4\ubba4\ub2c8\ud2f0\n",
        "\uadf9\uc9c0\uace0:\ud559\uc6d0\ubb34\ub9bc\ub300\uc804"
       ]
      },
      {
       "output_type": "stream",
       "stream": "stdout",
       "text": [
        " \ubbf8\uc6a9\n",
        "\uadf9\uc9c0\uace0:\ud559\uc6d0\ubb34\ub9bc\ub300\uc804"
       ]
      },
      {
       "output_type": "stream",
       "stream": "stdout",
       "text": [
        " \uc74c\uc545\n",
        "\uadf9\uc9c0\uace0:\ud559\uc6d0\ubb34\ub9bc\ub300\uc804"
       ]
      },
      {
       "output_type": "stream",
       "stream": "stdout",
       "text": [
        " \ub9ac\ubdf0\n",
        "\uadf9\uc9c0\uace0:\ud559\uc6d0\ubb34\ub9bc\ub300\uc804"
       ]
      },
      {
       "output_type": "stream",
       "stream": "stdout",
       "text": [
        " \uc5f0\uc608\n",
        "\uadf9\uc9c0\uace0:\ud559\uc6d0\ubb34\ub9bc\ub300\uc804"
       ]
      },
      {
       "output_type": "stream",
       "stream": "stdout",
       "text": [
        " \uc74c\uc2dd\n",
        "\uadf9\uc9c0\uace0:\ud559\uc6d0\ubb34\ub9bc\ub300\uc804"
       ]
      },
      {
       "output_type": "stream",
       "stream": "stdout",
       "text": [
        " \uc2a4\ud3ec\uce20\n",
        "\uadf9\uc9c0\uace0:\ud559\uc6d0\ubb34\ub9bc\ub300\uc804"
       ]
      },
      {
       "output_type": "stream",
       "stream": "stdout",
       "text": [
        " \uac8c\uc784\n",
        "\uadf9\uc9c0\uace0:\ud559\uc6d0\ubb34\ub9bc\ub300\uc804"
       ]
      },
      {
       "output_type": "stream",
       "stream": "stdout",
       "text": [
        " \uac74\uac15\n",
        "\uadf9\uc9c0\uace0:\ud559\uc6d0\ubb34\ub9bc\ub300\uc804"
       ]
      },
      {
       "output_type": "stream",
       "stream": "stdout",
       "text": [
        " \ud559\uc2b5\n",
        "\uadf9\uc9c0\uace0:\ud559\uc6d0\ubb34\ub9bc\ub300\uc804"
       ]
      },
      {
       "output_type": "stream",
       "stream": "stdout",
       "text": [
        " \ucee4\ubba4\ub2c8\ud2f0\n",
        "Fruit Slice"
       ]
      },
      {
       "output_type": "stream",
       "stream": "stdout",
       "text": [
        " \ubbf8\uc6a9\n",
        "Fruit Slice"
       ]
      },
      {
       "output_type": "stream",
       "stream": "stdout",
       "text": [
        " \uc74c\uc545\n",
        "Fruit Slice"
       ]
      },
      {
       "output_type": "stream",
       "stream": "stdout",
       "text": [
        " \ub9ac\ubdf0\n",
        "Fruit Slice"
       ]
      },
      {
       "output_type": "stream",
       "stream": "stdout",
       "text": [
        " \uc5f0\uc608\n",
        "Fruit Slice"
       ]
      },
      {
       "output_type": "stream",
       "stream": "stdout",
       "text": [
        " \uc74c\uc2dd\n",
        "Fruit Slice \uc2a4\ud3ec\uce20\n",
        "Fruit Slice"
       ]
      },
      {
       "output_type": "stream",
       "stream": "stdout",
       "text": [
        " \uac8c\uc784\n",
        "Fruit Slice"
       ]
      },
      {
       "output_type": "stream",
       "stream": "stdout",
       "text": [
        " \uac74\uac15\n",
        "Fruit Slice \ud559\uc2b5\n",
        "Fruit Slice"
       ]
      },
      {
       "output_type": "stream",
       "stream": "stdout",
       "text": [
        " \ucee4\ubba4\ub2c8\ud2f0\n",
        "Messi vs Ronaldo Quiz \ubbf8\uc6a9\n",
        "Messi vs Ronaldo Quiz"
       ]
      },
      {
       "output_type": "stream",
       "stream": "stdout",
       "text": [
        " \uc74c\uc545\n",
        "Messi vs Ronaldo Quiz"
       ]
      },
      {
       "output_type": "stream",
       "stream": "stdout",
       "text": [
        " \ub9ac\ubdf0\n",
        "Messi vs Ronaldo Quiz"
       ]
      },
      {
       "output_type": "stream",
       "stream": "stdout",
       "text": [
        " \uc5f0\uc608\n",
        "Messi vs Ronaldo Quiz"
       ]
      },
      {
       "output_type": "stream",
       "stream": "stdout",
       "text": [
        " \uc74c\uc2dd\n",
        "Messi vs Ronaldo Quiz"
       ]
      },
      {
       "output_type": "stream",
       "stream": "stdout",
       "text": [
        " \uc2a4\ud3ec\uce20\n",
        "Messi vs Ronaldo Quiz"
       ]
      },
      {
       "output_type": "stream",
       "stream": "stdout",
       "text": [
        " \uac8c\uc784\n",
        "Messi vs Ronaldo Quiz"
       ]
      },
      {
       "output_type": "stream",
       "stream": "stdout",
       "text": [
        " \uac74\uac15\n",
        "Messi vs Ronaldo Quiz"
       ]
      },
      {
       "output_type": "stream",
       "stream": "stdout",
       "text": [
        " \ud559\uc2b5\n",
        "Messi vs Ronaldo Quiz"
       ]
      },
      {
       "output_type": "stream",
       "stream": "stdout",
       "text": [
        " \ucee4\ubba4\ub2c8\ud2f0\n",
        "Kids Connect the Dots Xmas"
       ]
      },
      {
       "output_type": "stream",
       "stream": "stdout",
       "text": [
        " \ubbf8\uc6a9\n",
        "Kids Connect the Dots Xmas"
       ]
      },
      {
       "output_type": "stream",
       "stream": "stdout",
       "text": [
        " \uc74c\uc545\n",
        "Kids Connect the Dots Xmas"
       ]
      },
      {
       "output_type": "stream",
       "stream": "stdout",
       "text": [
        " \ub9ac\ubdf0\n",
        "Kids Connect the Dots Xmas"
       ]
      },
      {
       "output_type": "stream",
       "stream": "stdout",
       "text": [
        " \uc5f0\uc608\n",
        "Kids Connect the Dots Xmas"
       ]
      },
      {
       "output_type": "stream",
       "stream": "stdout",
       "text": [
        " \uc74c\uc2dd\n",
        "Kids Connect the Dots Xmas"
       ]
      },
      {
       "output_type": "stream",
       "stream": "stdout",
       "text": [
        " \uc2a4\ud3ec\uce20\n",
        "Kids Connect the Dots Xmas"
       ]
      },
      {
       "output_type": "stream",
       "stream": "stdout",
       "text": [
        " \uac8c\uc784\n",
        "Kids Connect the Dots Xmas"
       ]
      },
      {
       "output_type": "stream",
       "stream": "stdout",
       "text": [
        " \uac74\uac15\n",
        "Kids Connect the Dots Xmas"
       ]
      },
      {
       "output_type": "stream",
       "stream": "stdout",
       "text": [
        " \ud559\uc2b5\n",
        "Kids Connect the Dots Xmas \ucee4\ubba4\ub2c8\ud2f0\n",
        "\ubc30\ud2b8\ub9e8 \uc774\uc57c\uae30"
       ]
      },
      {
       "output_type": "stream",
       "stream": "stdout",
       "text": [
        " \ubbf8\uc6a9\n",
        "\ubc30\ud2b8\ub9e8 \uc774\uc57c\uae30"
       ]
      },
      {
       "output_type": "stream",
       "stream": "stdout",
       "text": [
        " \uc74c\uc545\n",
        "\ubc30\ud2b8\ub9e8 \uc774\uc57c\uae30"
       ]
      },
      {
       "output_type": "stream",
       "stream": "stdout",
       "text": [
        " \ub9ac\ubdf0\n",
        "\ubc30\ud2b8\ub9e8 \uc774\uc57c\uae30"
       ]
      },
      {
       "output_type": "stream",
       "stream": "stdout",
       "text": [
        " \uc5f0\uc608\n",
        "\ubc30\ud2b8\ub9e8 \uc774\uc57c\uae30"
       ]
      },
      {
       "output_type": "stream",
       "stream": "stdout",
       "text": [
        " \uc74c\uc2dd\n",
        "\ubc30\ud2b8\ub9e8 \uc774\uc57c\uae30"
       ]
      },
      {
       "output_type": "stream",
       "stream": "stdout",
       "text": [
        " \uc2a4\ud3ec\uce20\n",
        "\ubc30\ud2b8\ub9e8 \uc774\uc57c\uae30"
       ]
      },
      {
       "output_type": "stream",
       "stream": "stdout",
       "text": [
        " \uac8c\uc784\n",
        "\ubc30\ud2b8\ub9e8 \uc774\uc57c\uae30 \uac74\uac15\n",
        "\ubc30\ud2b8\ub9e8 \uc774\uc57c\uae30"
       ]
      },
      {
       "output_type": "stream",
       "stream": "stdout",
       "text": [
        " \ud559\uc2b5\n",
        "\ubc30\ud2b8\ub9e8 \uc774\uc57c\uae30"
       ]
      },
      {
       "output_type": "stream",
       "stream": "stdout",
       "text": [
        " \ucee4\ubba4\ub2c8\ud2f0\n",
        "Camera widget GO Weather EX"
       ]
      },
      {
       "output_type": "stream",
       "stream": "stdout",
       "text": [
        " \ubbf8\uc6a9\n",
        "Camera widget GO Weather EX"
       ]
      },
      {
       "output_type": "stream",
       "stream": "stdout",
       "text": [
        " \uc74c\uc545\n",
        "Camera widget GO Weather EX"
       ]
      },
      {
       "output_type": "stream",
       "stream": "stdout",
       "text": [
        " \ub9ac\ubdf0\n",
        "Camera widget GO Weather EX"
       ]
      },
      {
       "output_type": "stream",
       "stream": "stdout",
       "text": [
        " \uc5f0\uc608\n",
        "Camera widget GO Weather EX"
       ]
      },
      {
       "output_type": "stream",
       "stream": "stdout",
       "text": [
        " \uc74c\uc2dd\n",
        "Camera widget GO Weather EX"
       ]
      },
      {
       "output_type": "stream",
       "stream": "stdout",
       "text": [
        " \uc2a4\ud3ec\uce20\n",
        "Camera widget GO Weather EX \uac8c\uc784\n",
        "Camera widget GO Weather EX"
       ]
      },
      {
       "output_type": "stream",
       "stream": "stdout",
       "text": [
        " \uac74\uac15\n",
        "Camera widget GO Weather EX"
       ]
      },
      {
       "output_type": "stream",
       "stream": "stdout",
       "text": [
        " \ud559\uc2b5\n",
        "Camera widget GO Weather EX"
       ]
      },
      {
       "output_type": "stream",
       "stream": "stdout",
       "text": [
        " \ucee4\ubba4\ub2c8\ud2f0\n",
        "\uc815\ubcf4\uc9c0\ud0b4\uc774 (SOM)"
       ]
      },
      {
       "output_type": "stream",
       "stream": "stdout",
       "text": [
        " \ubbf8\uc6a9\n",
        "\uc815\ubcf4\uc9c0\ud0b4\uc774 (SOM)"
       ]
      },
      {
       "output_type": "stream",
       "stream": "stdout",
       "text": [
        " \uc74c\uc545\n",
        "\uc815\ubcf4\uc9c0\ud0b4\uc774 (SOM)"
       ]
      },
      {
       "output_type": "stream",
       "stream": "stdout",
       "text": [
        " \ub9ac\ubdf0\n",
        "\uc815\ubcf4\uc9c0\ud0b4\uc774 (SOM)"
       ]
      },
      {
       "output_type": "stream",
       "stream": "stdout",
       "text": [
        " \uc5f0\uc608\n",
        "\uc815\ubcf4\uc9c0\ud0b4\uc774 (SOM)"
       ]
      },
      {
       "output_type": "stream",
       "stream": "stdout",
       "text": [
        " \uc74c\uc2dd\n",
        "\uc815\ubcf4\uc9c0\ud0b4\uc774 (SOM)"
       ]
      },
      {
       "output_type": "stream",
       "stream": "stdout",
       "text": [
        " \uc2a4\ud3ec\uce20\n",
        "\uc815\ubcf4\uc9c0\ud0b4\uc774 (SOM)"
       ]
      },
      {
       "output_type": "stream",
       "stream": "stdout",
       "text": [
        " \uac8c\uc784\n",
        "\uc815\ubcf4\uc9c0\ud0b4\uc774 (SOM)"
       ]
      },
      {
       "output_type": "stream",
       "stream": "stdout",
       "text": [
        " \uac74\uac15\n",
        "\uc815\ubcf4\uc9c0\ud0b4\uc774 (SOM)"
       ]
      },
      {
       "output_type": "stream",
       "stream": "stdout",
       "text": [
        " \ud559\uc2b5\n",
        "\uc815\ubcf4\uc9c0\ud0b4\uc774 (SOM)"
       ]
      },
      {
       "output_type": "stream",
       "stream": "stdout",
       "text": [
        " \ucee4\ubba4\ub2c8\ud2f0\n",
        "Beautylish: Makeup Beauty Tips"
       ]
      },
      {
       "output_type": "stream",
       "stream": "stdout",
       "text": [
        " \ubbf8\uc6a9\n",
        "Beautylish: Makeup Beauty Tips"
       ]
      },
      {
       "output_type": "stream",
       "stream": "stdout",
       "text": [
        " \uc74c\uc545\n",
        "Beautylish: Makeup Beauty Tips"
       ]
      },
      {
       "output_type": "stream",
       "stream": "stdout",
       "text": [
        " \ub9ac\ubdf0\n",
        "Beautylish: Makeup Beauty Tips"
       ]
      },
      {
       "output_type": "stream",
       "stream": "stdout",
       "text": [
        " \uc5f0\uc608\n",
        "Beautylish: Makeup Beauty Tips"
       ]
      },
      {
       "output_type": "stream",
       "stream": "stdout",
       "text": [
        " \uc74c\uc2dd\n",
        "Beautylish: Makeup Beauty Tips"
       ]
      },
      {
       "output_type": "stream",
       "stream": "stdout",
       "text": [
        " \uc2a4\ud3ec\uce20\n",
        "Beautylish: Makeup Beauty Tips \uac8c\uc784\n",
        "Beautylish: Makeup Beauty Tips"
       ]
      },
      {
       "output_type": "stream",
       "stream": "stdout",
       "text": [
        " \uac74\uac15\n",
        "Beautylish: Makeup Beauty Tips"
       ]
      },
      {
       "output_type": "stream",
       "stream": "stdout",
       "text": [
        " \ud559\uc2b5\n",
        "Beautylish: Makeup Beauty Tips"
       ]
      },
      {
       "output_type": "stream",
       "stream": "stdout",
       "text": [
        " \ucee4\ubba4\ub2c8\ud2f0\n",
        "\ubcf4\uc11d \uac8c\uc784"
       ]
      },
      {
       "output_type": "stream",
       "stream": "stdout",
       "text": [
        " \ubbf8\uc6a9\n",
        "\ubcf4\uc11d \uac8c\uc784"
       ]
      },
      {
       "output_type": "stream",
       "stream": "stdout",
       "text": [
        " \uc74c\uc545\n",
        "\ubcf4\uc11d \uac8c\uc784"
       ]
      },
      {
       "output_type": "stream",
       "stream": "stdout",
       "text": [
        " \ub9ac\ubdf0\n",
        "\ubcf4\uc11d \uac8c\uc784"
       ]
      },
      {
       "output_type": "stream",
       "stream": "stdout",
       "text": [
        " \uc5f0\uc608\n",
        "\ubcf4\uc11d \uac8c\uc784"
       ]
      },
      {
       "output_type": "stream",
       "stream": "stdout",
       "text": [
        " \uc74c\uc2dd\n",
        "\ubcf4\uc11d \uac8c\uc784"
       ]
      },
      {
       "output_type": "stream",
       "stream": "stdout",
       "text": [
        " \uc2a4\ud3ec\uce20\n",
        "\ubcf4\uc11d \uac8c\uc784"
       ]
      },
      {
       "output_type": "stream",
       "stream": "stdout",
       "text": [
        " \uac8c\uc784\n",
        "\ubcf4\uc11d \uac8c\uc784"
       ]
      },
      {
       "output_type": "stream",
       "stream": "stdout",
       "text": [
        " \uac74\uac15\n",
        "\ubcf4\uc11d \uac8c\uc784"
       ]
      },
      {
       "output_type": "stream",
       "stream": "stdout",
       "text": [
        " \ud559\uc2b5\n",
        "\ubcf4\uc11d \uac8c\uc784"
       ]
      },
      {
       "output_type": "stream",
       "stream": "stdout",
       "text": [
        " \ucee4\ubba4\ub2c8\ud2f0\n",
        "Daily Perks"
       ]
      },
      {
       "output_type": "stream",
       "stream": "stdout",
       "text": [
        " \ubbf8\uc6a9\n",
        "Daily Perks"
       ]
      },
      {
       "output_type": "stream",
       "stream": "stdout",
       "text": [
        " \uc74c\uc545\n",
        "Daily Perks"
       ]
      },
      {
       "output_type": "stream",
       "stream": "stdout",
       "text": [
        " \ub9ac\ubdf0\n",
        "Daily Perks"
       ]
      },
      {
       "output_type": "stream",
       "stream": "stdout",
       "text": [
        " \uc5f0\uc608\n",
        "Daily Perks"
       ]
      },
      {
       "output_type": "stream",
       "stream": "stdout",
       "text": [
        " \uc74c\uc2dd\n",
        "Daily Perks"
       ]
      },
      {
       "output_type": "stream",
       "stream": "stdout",
       "text": [
        " \uc2a4\ud3ec\uce20\n",
        "Daily Perks"
       ]
      },
      {
       "output_type": "stream",
       "stream": "stdout",
       "text": [
        " \uac8c\uc784\n",
        "Daily Perks"
       ]
      },
      {
       "output_type": "stream",
       "stream": "stdout",
       "text": [
        " \uac74\uac15\n",
        "Daily Perks"
       ]
      },
      {
       "output_type": "stream",
       "stream": "stdout",
       "text": [
        " \ud559\uc2b5\n",
        "Daily Perks"
       ]
      },
      {
       "output_type": "stream",
       "stream": "stdout",
       "text": [
        " \ucee4\ubba4\ub2c8\ud2f0\n",
        "Dai Cazzo"
       ]
      },
      {
       "output_type": "stream",
       "stream": "stdout",
       "text": [
        " \ubbf8\uc6a9\n",
        "Dai Cazzo"
       ]
      },
      {
       "output_type": "stream",
       "stream": "stdout",
       "text": [
        " \uc74c\uc545\n",
        "Dai Cazzo"
       ]
      },
      {
       "output_type": "stream",
       "stream": "stdout",
       "text": [
        " \ub9ac\ubdf0\n",
        "Dai Cazzo"
       ]
      },
      {
       "output_type": "stream",
       "stream": "stdout",
       "text": [
        " \uc5f0\uc608\n",
        "Dai Cazzo"
       ]
      },
      {
       "output_type": "stream",
       "stream": "stdout",
       "text": [
        " \uc74c\uc2dd\n",
        "Dai Cazzo"
       ]
      },
      {
       "output_type": "stream",
       "stream": "stdout",
       "text": [
        " \uc2a4\ud3ec\uce20\n",
        "Dai Cazzo"
       ]
      },
      {
       "output_type": "stream",
       "stream": "stdout",
       "text": [
        " \uac8c\uc784\n",
        "Dai Cazzo"
       ]
      },
      {
       "output_type": "stream",
       "stream": "stdout",
       "text": [
        " \uac74\uac15\n",
        "Dai Cazzo"
       ]
      },
      {
       "output_type": "stream",
       "stream": "stdout",
       "text": [
        " \ud559\uc2b5\n",
        "Dai Cazzo"
       ]
      },
      {
       "output_type": "stream",
       "stream": "stdout",
       "text": [
        " \ucee4\ubba4\ub2c8\ud2f0\n",
        "World War II raid"
       ]
      },
      {
       "output_type": "stream",
       "stream": "stdout",
       "text": [
        " \ubbf8\uc6a9\n",
        "World War II raid"
       ]
      },
      {
       "output_type": "stream",
       "stream": "stdout",
       "text": [
        " \uc74c\uc545\n",
        "World War II raid"
       ]
      },
      {
       "output_type": "stream",
       "stream": "stdout",
       "text": [
        " \ub9ac\ubdf0\n",
        "World War II raid"
       ]
      },
      {
       "output_type": "stream",
       "stream": "stdout",
       "text": [
        " \uc5f0\uc608\n",
        "World War II raid"
       ]
      },
      {
       "output_type": "stream",
       "stream": "stdout",
       "text": [
        " \uc74c\uc2dd\n",
        "World War II raid"
       ]
      },
      {
       "output_type": "stream",
       "stream": "stdout",
       "text": [
        " \uc2a4\ud3ec\uce20\n",
        "World War II raid"
       ]
      },
      {
       "output_type": "stream",
       "stream": "stdout",
       "text": [
        " \uac8c\uc784\n",
        "World War II raid"
       ]
      },
      {
       "output_type": "stream",
       "stream": "stdout",
       "text": [
        " \uac74\uac15\n",
        "World War II raid"
       ]
      },
      {
       "output_type": "stream",
       "stream": "stdout",
       "text": [
        " \ud559\uc2b5\n",
        "World War II raid"
       ]
      },
      {
       "output_type": "stream",
       "stream": "stdout",
       "text": [
        " \ucee4\ubba4\ub2c8\ud2f0\n",
        "Make Your Cake"
       ]
      },
      {
       "output_type": "stream",
       "stream": "stdout",
       "text": [
        " \ubbf8\uc6a9\n",
        "Make Your Cake"
       ]
      },
      {
       "output_type": "stream",
       "stream": "stdout",
       "text": [
        " \uc74c\uc545\n",
        "Make Your Cake"
       ]
      },
      {
       "output_type": "stream",
       "stream": "stdout",
       "text": [
        " \ub9ac\ubdf0\n",
        "Make Your Cake"
       ]
      },
      {
       "output_type": "stream",
       "stream": "stdout",
       "text": [
        " \uc5f0\uc608\n",
        "Make Your Cake"
       ]
      },
      {
       "output_type": "stream",
       "stream": "stdout",
       "text": [
        " \uc74c\uc2dd\n",
        "Make Your Cake"
       ]
      },
      {
       "output_type": "stream",
       "stream": "stdout",
       "text": [
        " \uc2a4\ud3ec\uce20\n",
        "Make Your Cake"
       ]
      },
      {
       "output_type": "stream",
       "stream": "stdout",
       "text": [
        " \uac8c\uc784\n",
        "Make Your Cake \uac74\uac15\n",
        "Make Your Cake"
       ]
      },
      {
       "output_type": "stream",
       "stream": "stdout",
       "text": [
        " \ud559\uc2b5\n",
        "Make Your Cake"
       ]
      },
      {
       "output_type": "stream",
       "stream": "stdout",
       "text": [
        " \ucee4\ubba4\ub2c8\ud2f0\n",
        "\uadc0\uc5ec\uc6b4 \uc5d4\uc824 - \ucc28\uc774 \ucc3e\uae30"
       ]
      },
      {
       "output_type": "stream",
       "stream": "stdout",
       "text": [
        " \ubbf8\uc6a9\n",
        "\uadc0\uc5ec\uc6b4 \uc5d4\uc824 - \ucc28\uc774 \ucc3e\uae30"
       ]
      },
      {
       "output_type": "stream",
       "stream": "stdout",
       "text": [
        " \uc74c\uc545\n",
        "\uadc0\uc5ec\uc6b4 \uc5d4\uc824 - \ucc28\uc774 \ucc3e\uae30"
       ]
      },
      {
       "output_type": "stream",
       "stream": "stdout",
       "text": [
        " \ub9ac\ubdf0\n",
        "\uadc0\uc5ec\uc6b4 \uc5d4\uc824 - \ucc28\uc774 \ucc3e\uae30"
       ]
      },
      {
       "output_type": "stream",
       "stream": "stdout",
       "text": [
        " \uc5f0\uc608\n",
        "\uadc0\uc5ec\uc6b4 \uc5d4\uc824 - \ucc28\uc774 \ucc3e\uae30"
       ]
      },
      {
       "output_type": "stream",
       "stream": "stdout",
       "text": [
        " \uc74c\uc2dd\n",
        "\uadc0\uc5ec\uc6b4 \uc5d4\uc824 - \ucc28\uc774 \ucc3e\uae30"
       ]
      },
      {
       "output_type": "stream",
       "stream": "stdout",
       "text": [
        " \uc2a4\ud3ec\uce20\n",
        "\uadc0\uc5ec\uc6b4 \uc5d4\uc824 - \ucc28\uc774 \ucc3e\uae30"
       ]
      },
      {
       "output_type": "stream",
       "stream": "stdout",
       "text": [
        " \uac8c\uc784\n",
        "\uadc0\uc5ec\uc6b4 \uc5d4\uc824 - \ucc28\uc774 \ucc3e\uae30"
       ]
      },
      {
       "output_type": "stream",
       "stream": "stdout",
       "text": [
        " \uac74\uac15\n",
        "\uadc0\uc5ec\uc6b4 \uc5d4\uc824 - \ucc28\uc774 \ucc3e\uae30"
       ]
      },
      {
       "output_type": "stream",
       "stream": "stdout",
       "text": [
        " \ud559\uc2b5\n",
        "\uadc0\uc5ec\uc6b4 \uc5d4\uc824 - \ucc28\uc774 \ucc3e\uae30"
       ]
      },
      {
       "output_type": "stream",
       "stream": "stdout",
       "text": [
        " \ucee4\ubba4\ub2c8\ud2f0\n",
        "\u82f1\u6f22\u5b57\u5178 EC Dictionary"
       ]
      },
      {
       "output_type": "stream",
       "stream": "stdout",
       "text": [
        " \ubbf8\uc6a9\n",
        "\u82f1\u6f22\u5b57\u5178 EC Dictionary"
       ]
      },
      {
       "output_type": "stream",
       "stream": "stdout",
       "text": [
        " \uc74c\uc545\n",
        "\u82f1\u6f22\u5b57\u5178 EC Dictionary"
       ]
      },
      {
       "output_type": "stream",
       "stream": "stdout",
       "text": [
        " \ub9ac\ubdf0\n",
        "\u82f1\u6f22\u5b57\u5178 EC Dictionary"
       ]
      },
      {
       "output_type": "stream",
       "stream": "stdout",
       "text": [
        " \uc5f0\uc608\n",
        "\u82f1\u6f22\u5b57\u5178 EC Dictionary"
       ]
      },
      {
       "output_type": "stream",
       "stream": "stdout",
       "text": [
        " \uc74c\uc2dd\n",
        "\u82f1\u6f22\u5b57\u5178 EC Dictionary"
       ]
      },
      {
       "output_type": "stream",
       "stream": "stdout",
       "text": [
        " \uc2a4\ud3ec\uce20\n",
        "\u82f1\u6f22\u5b57\u5178 EC Dictionary"
       ]
      },
      {
       "output_type": "stream",
       "stream": "stdout",
       "text": [
        " \uac8c\uc784\n",
        "\u82f1\u6f22\u5b57\u5178 EC Dictionary"
       ]
      },
      {
       "output_type": "stream",
       "stream": "stdout",
       "text": [
        " \uac74\uac15\n",
        "\u82f1\u6f22\u5b57\u5178 EC Dictionary"
       ]
      },
      {
       "output_type": "stream",
       "stream": "stdout",
       "text": [
        " \ud559\uc2b5\n",
        "\u82f1\u6f22\u5b57\u5178 EC Dictionary"
       ]
      },
      {
       "output_type": "stream",
       "stream": "stdout",
       "text": [
        " \ucee4\ubba4\ub2c8\ud2f0\n",
        "Sniper Battle"
       ]
      },
      {
       "output_type": "stream",
       "stream": "stdout",
       "text": [
        " \ubbf8\uc6a9\n",
        "Sniper Battle"
       ]
      },
      {
       "output_type": "stream",
       "stream": "stdout",
       "text": [
        " \uc74c\uc545\n",
        "Sniper Battle"
       ]
      },
      {
       "output_type": "stream",
       "stream": "stdout",
       "text": [
        " \ub9ac\ubdf0\n",
        "Sniper Battle"
       ]
      },
      {
       "output_type": "stream",
       "stream": "stdout",
       "text": [
        " \uc5f0\uc608\n",
        "Sniper Battle"
       ]
      },
      {
       "output_type": "stream",
       "stream": "stdout",
       "text": [
        " \uc74c\uc2dd\n",
        "Sniper Battle"
       ]
      },
      {
       "output_type": "stream",
       "stream": "stdout",
       "text": [
        " \uc2a4\ud3ec\uce20\n",
        "Sniper Battle"
       ]
      },
      {
       "output_type": "stream",
       "stream": "stdout",
       "text": [
        " \uac8c\uc784\n",
        "Sniper Battle"
       ]
      },
      {
       "output_type": "stream",
       "stream": "stdout",
       "text": [
        " \uac74\uac15\n",
        "Sniper Battle"
       ]
      },
      {
       "output_type": "stream",
       "stream": "stdout",
       "text": [
        " \ud559\uc2b5\n",
        "Sniper Battle"
       ]
      },
      {
       "output_type": "stream",
       "stream": "stdout",
       "text": [
        " \ucee4\ubba4\ub2c8\ud2f0\n",
        "\ud48d\uc120 \ud0c0\uc6cc \ubc29\uc5b4 \uc804\ud22c"
       ]
      },
      {
       "output_type": "stream",
       "stream": "stdout",
       "text": [
        " \ubbf8\uc6a9\n",
        "\ud48d\uc120 \ud0c0\uc6cc \ubc29\uc5b4 \uc804\ud22c"
       ]
      },
      {
       "output_type": "stream",
       "stream": "stdout",
       "text": [
        " \uc74c\uc545\n",
        "\ud48d\uc120 \ud0c0\uc6cc \ubc29\uc5b4 \uc804\ud22c"
       ]
      },
      {
       "output_type": "stream",
       "stream": "stdout",
       "text": [
        " \ub9ac\ubdf0\n",
        "\ud48d\uc120 \ud0c0\uc6cc \ubc29\uc5b4 \uc804\ud22c"
       ]
      },
      {
       "output_type": "stream",
       "stream": "stdout",
       "text": [
        " \uc5f0\uc608\n",
        "\ud48d\uc120 \ud0c0\uc6cc \ubc29\uc5b4 \uc804\ud22c"
       ]
      },
      {
       "output_type": "stream",
       "stream": "stdout",
       "text": [
        " \uc74c\uc2dd\n",
        "\ud48d\uc120 \ud0c0\uc6cc \ubc29\uc5b4 \uc804\ud22c"
       ]
      },
      {
       "output_type": "stream",
       "stream": "stdout",
       "text": [
        " \uc2a4\ud3ec\uce20\n",
        "\ud48d\uc120 \ud0c0\uc6cc \ubc29\uc5b4 \uc804\ud22c"
       ]
      },
      {
       "output_type": "stream",
       "stream": "stdout",
       "text": [
        " \uac8c\uc784\n",
        "\ud48d\uc120 \ud0c0\uc6cc \ubc29\uc5b4 \uc804\ud22c"
       ]
      },
      {
       "output_type": "stream",
       "stream": "stdout",
       "text": [
        " \uac74\uac15\n",
        "\ud48d\uc120 \ud0c0\uc6cc \ubc29\uc5b4 \uc804\ud22c"
       ]
      },
      {
       "output_type": "stream",
       "stream": "stdout",
       "text": [
        " \ud559\uc2b5\n",
        "\ud48d\uc120 \ud0c0\uc6cc \ubc29\uc5b4 \uc804\ud22c"
       ]
      },
      {
       "output_type": "stream",
       "stream": "stdout",
       "text": [
        " \ucee4\ubba4\ub2c8\ud2f0\n",
        "Angela Dress Up"
       ]
      },
      {
       "output_type": "stream",
       "stream": "stdout",
       "text": [
        " \ubbf8\uc6a9\n",
        "Angela Dress Up"
       ]
      },
      {
       "output_type": "stream",
       "stream": "stdout",
       "text": [
        " \uc74c\uc545\n",
        "Angela Dress Up"
       ]
      },
      {
       "output_type": "stream",
       "stream": "stdout",
       "text": [
        " \ub9ac\ubdf0\n",
        "Angela Dress Up"
       ]
      },
      {
       "output_type": "stream",
       "stream": "stdout",
       "text": [
        " \uc5f0\uc608\n",
        "Angela Dress Up"
       ]
      },
      {
       "output_type": "stream",
       "stream": "stdout",
       "text": [
        " \uc74c\uc2dd\n",
        "Angela Dress Up"
       ]
      },
      {
       "output_type": "stream",
       "stream": "stdout",
       "text": [
        " \uc2a4\ud3ec\uce20\n",
        "Angela Dress Up"
       ]
      },
      {
       "output_type": "stream",
       "stream": "stdout",
       "text": [
        " \uac8c\uc784\n",
        "Angela Dress Up"
       ]
      },
      {
       "output_type": "stream",
       "stream": "stdout",
       "text": [
        " \uac74\uac15\n",
        "Angela Dress Up"
       ]
      },
      {
       "output_type": "stream",
       "stream": "stdout",
       "text": [
        " \ud559\uc2b5\n",
        "Angela Dress Up"
       ]
      },
      {
       "output_type": "stream",
       "stream": "stdout",
       "text": [
        " \ucee4\ubba4\ub2c8\ud2f0\n",
        "\u7f8e\u56e2\u56e2\u8d2d\uff08\u56e2\u8d2d\u5fc5\u5907)"
       ]
      },
      {
       "output_type": "stream",
       "stream": "stdout",
       "text": [
        " \ubbf8\uc6a9\n",
        "\u7f8e\u56e2\u56e2\u8d2d\uff08\u56e2\u8d2d\u5fc5\u5907)"
       ]
      },
      {
       "output_type": "stream",
       "stream": "stdout",
       "text": [
        " \uc74c\uc545\n",
        "\u7f8e\u56e2\u56e2\u8d2d\uff08\u56e2\u8d2d\u5fc5\u5907)"
       ]
      },
      {
       "output_type": "stream",
       "stream": "stdout",
       "text": [
        " \ub9ac\ubdf0\n",
        "\u7f8e\u56e2\u56e2\u8d2d\uff08\u56e2\u8d2d\u5fc5\u5907)"
       ]
      },
      {
       "output_type": "stream",
       "stream": "stdout",
       "text": [
        " \uc5f0\uc608\n",
        "\u7f8e\u56e2\u56e2\u8d2d\uff08\u56e2\u8d2d\u5fc5\u5907)"
       ]
      },
      {
       "output_type": "stream",
       "stream": "stdout",
       "text": [
        " \uc74c\uc2dd\n",
        "\u7f8e\u56e2\u56e2\u8d2d\uff08\u56e2\u8d2d\u5fc5\u5907)"
       ]
      },
      {
       "output_type": "stream",
       "stream": "stdout",
       "text": [
        " \uc2a4\ud3ec\uce20\n",
        "\u7f8e\u56e2\u56e2\u8d2d\uff08\u56e2\u8d2d\u5fc5\u5907)"
       ]
      },
      {
       "output_type": "stream",
       "stream": "stdout",
       "text": [
        " \uac8c\uc784\n",
        "\u7f8e\u56e2\u56e2\u8d2d\uff08\u56e2\u8d2d\u5fc5\u5907)"
       ]
      },
      {
       "output_type": "stream",
       "stream": "stdout",
       "text": [
        " \uac74\uac15\n",
        "\u7f8e\u56e2\u56e2\u8d2d\uff08\u56e2\u8d2d\u5fc5\u5907)"
       ]
      },
      {
       "output_type": "stream",
       "stream": "stdout",
       "text": [
        " \ud559\uc2b5\n",
        "\u7f8e\u56e2\u56e2\u8d2d\uff08\u56e2\u8d2d\u5fc5\u5907)"
       ]
      },
      {
       "output_type": "stream",
       "stream": "stdout",
       "text": [
        " \ucee4\ubba4\ub2c8\ud2f0\n",
        "\uc6b0\ub9ac\uc740\ud589 \uc6d0\ud130\uce58 \uc6d4\ub4dc"
       ]
      },
      {
       "output_type": "stream",
       "stream": "stdout",
       "text": [
        " \ubbf8\uc6a9\n",
        "\uc6b0\ub9ac\uc740\ud589 \uc6d0\ud130\uce58 \uc6d4\ub4dc"
       ]
      },
      {
       "output_type": "stream",
       "stream": "stdout",
       "text": [
        " \uc74c\uc545\n",
        "\uc6b0\ub9ac\uc740\ud589 \uc6d0\ud130\uce58 \uc6d4\ub4dc \ub9ac\ubdf0\n",
        "\uc6b0\ub9ac\uc740\ud589 \uc6d0\ud130\uce58 \uc6d4\ub4dc"
       ]
      },
      {
       "output_type": "stream",
       "stream": "stdout",
       "text": [
        " \uc5f0\uc608\n",
        "\uc6b0\ub9ac\uc740\ud589 \uc6d0\ud130\uce58 \uc6d4\ub4dc \uc74c\uc2dd\n",
        "\uc6b0\ub9ac\uc740\ud589 \uc6d0\ud130\uce58 \uc6d4\ub4dc"
       ]
      },
      {
       "output_type": "stream",
       "stream": "stdout",
       "text": [
        " \uc2a4\ud3ec\uce20\n",
        "\uc6b0\ub9ac\uc740\ud589 \uc6d0\ud130\uce58 \uc6d4\ub4dc \uac8c\uc784\n",
        "\uc6b0\ub9ac\uc740\ud589 \uc6d0\ud130\uce58 \uc6d4\ub4dc"
       ]
      },
      {
       "output_type": "stream",
       "stream": "stdout",
       "text": [
        " \uac74\uac15\n",
        "\uc6b0\ub9ac\uc740\ud589 \uc6d0\ud130\uce58 \uc6d4\ub4dc \ud559\uc2b5\n",
        "\uc6b0\ub9ac\uc740\ud589 \uc6d0\ud130\uce58 \uc6d4\ub4dc"
       ]
      },
      {
       "output_type": "stream",
       "stream": "stdout",
       "text": [
        " \ucee4\ubba4\ub2c8\ud2f0\n",
        "Ant Raid \ubbf8\uc6a9\n",
        "Ant Raid"
       ]
      },
      {
       "output_type": "stream",
       "stream": "stdout",
       "text": [
        " \uc74c\uc545\n",
        "Ant Raid"
       ]
      },
      {
       "output_type": "stream",
       "stream": "stdout",
       "text": [
        " \ub9ac\ubdf0\n",
        "Ant Raid"
       ]
      },
      {
       "output_type": "stream",
       "stream": "stdout",
       "text": [
        " \uc5f0\uc608\n",
        "Ant Raid \uc74c\uc2dd\n",
        "Ant Raid"
       ]
      },
      {
       "output_type": "stream",
       "stream": "stdout",
       "text": [
        " \uc2a4\ud3ec\uce20\n",
        "Ant Raid \uac8c\uc784\n",
        "Ant Raid"
       ]
      },
      {
       "output_type": "stream",
       "stream": "stdout",
       "text": [
        " \uac74\uac15\n",
        "Ant Raid"
       ]
      },
      {
       "output_type": "stream",
       "stream": "stdout",
       "text": [
        " \ud559\uc2b5\n",
        "Ant Raid"
       ]
      },
      {
       "output_type": "stream",
       "stream": "stdout",
       "text": [
        " \ucee4\ubba4\ub2c8\ud2f0\n",
        "Meteor - Meteoradar \ubbf8\uc6a9\n",
        "Meteor - Meteoradar"
       ]
      },
      {
       "output_type": "stream",
       "stream": "stdout",
       "text": [
        " \uc74c\uc545\n",
        "Meteor - Meteoradar \ub9ac\ubdf0\n",
        "Meteor - Meteoradar"
       ]
      },
      {
       "output_type": "stream",
       "stream": "stdout",
       "text": [
        " \uc5f0\uc608\n",
        "Meteor - Meteoradar \uc74c\uc2dd\n",
        "Meteor - Meteoradar"
       ]
      },
      {
       "output_type": "stream",
       "stream": "stdout",
       "text": [
        " \uc2a4\ud3ec\uce20\n",
        "Meteor - Meteoradar \uac8c\uc784\n",
        "Meteor - Meteoradar"
       ]
      },
      {
       "output_type": "stream",
       "stream": "stdout",
       "text": [
        " \uac74\uac15\n",
        "Meteor - Meteoradar \ud559\uc2b5\n",
        "Meteor - Meteoradar"
       ]
      },
      {
       "output_type": "stream",
       "stream": "stdout",
       "text": [
        " \ucee4\ubba4\ub2c8\ud2f0\n",
        "Little Crane \ubbf8\uc6a9\n",
        "Little Crane"
       ]
      },
      {
       "output_type": "stream",
       "stream": "stdout",
       "text": [
        " \uc74c\uc545\n",
        "Little Crane"
       ]
      },
      {
       "output_type": "stream",
       "stream": "stdout",
       "text": [
        " \ub9ac\ubdf0\n",
        "Little Crane \uc5f0\uc608\n",
        "Little Crane"
       ]
      },
      {
       "output_type": "stream",
       "stream": "stdout",
       "text": [
        " \uc74c\uc2dd\n",
        "Little Crane \uc2a4\ud3ec\uce20\n",
        "Little Crane"
       ]
      },
      {
       "output_type": "stream",
       "stream": "stdout",
       "text": [
        " \uac8c\uc784\n",
        "Little Crane"
       ]
      },
      {
       "output_type": "stream",
       "stream": "stdout",
       "text": [
        " \uac74\uac15\n",
        "Little Crane \ud559\uc2b5\n",
        "Little Crane"
       ]
      },
      {
       "output_type": "stream",
       "stream": "stdout",
       "text": [
        " \ucee4\ubba4\ub2c8\ud2f0\n",
        "\uc324\uc324\ub9c8\ud2b8"
       ]
      },
      {
       "output_type": "stream",
       "stream": "stdout",
       "text": [
        " \ubbf8\uc6a9\n",
        "\uc324\uc324\ub9c8\ud2b8"
       ]
      },
      {
       "output_type": "stream",
       "stream": "stdout",
       "text": [
        " \uc74c\uc545\n",
        "\uc324\uc324\ub9c8\ud2b8"
       ]
      },
      {
       "output_type": "stream",
       "stream": "stdout",
       "text": [
        " \ub9ac\ubdf0\n",
        "\uc324\uc324\ub9c8\ud2b8"
       ]
      },
      {
       "output_type": "stream",
       "stream": "stdout",
       "text": [
        " \uc5f0\uc608\n",
        "\uc324\uc324\ub9c8\ud2b8"
       ]
      },
      {
       "output_type": "stream",
       "stream": "stdout",
       "text": [
        " \uc74c\uc2dd\n",
        "\uc324\uc324\ub9c8\ud2b8"
       ]
      },
      {
       "output_type": "stream",
       "stream": "stdout",
       "text": [
        " \uc2a4\ud3ec\uce20\n",
        "\uc324\uc324\ub9c8\ud2b8"
       ]
      },
      {
       "output_type": "stream",
       "stream": "stdout",
       "text": [
        " \uac8c\uc784\n",
        "\uc324\uc324\ub9c8\ud2b8"
       ]
      },
      {
       "output_type": "stream",
       "stream": "stdout",
       "text": [
        " \uac74\uac15\n",
        "\uc324\uc324\ub9c8\ud2b8"
       ]
      },
      {
       "output_type": "stream",
       "stream": "stdout",
       "text": [
        " \ud559\uc2b5\n",
        "\uc324\uc324\ub9c8\ud2b8"
       ]
      },
      {
       "output_type": "stream",
       "stream": "stdout",
       "text": [
        " \ucee4\ubba4\ub2c8\ud2f0\n",
        "\uc139\uc2dc\ud55c \ubbf8\ub4dc \ub098\uc774\ud2b8 \ud480\uc774"
       ]
      },
      {
       "output_type": "stream",
       "stream": "stdout",
       "text": [
        " \ubbf8\uc6a9\n",
        "\uc139\uc2dc\ud55c \ubbf8\ub4dc \ub098\uc774\ud2b8 \ud480\uc774"
       ]
      },
      {
       "output_type": "stream",
       "stream": "stdout",
       "text": [
        " \uc74c\uc545\n",
        "\uc139\uc2dc\ud55c \ubbf8\ub4dc \ub098\uc774\ud2b8 \ud480\uc774"
       ]
      },
      {
       "output_type": "stream",
       "stream": "stdout",
       "text": [
        " \ub9ac\ubdf0\n",
        "\uc139\uc2dc\ud55c \ubbf8\ub4dc \ub098\uc774\ud2b8 \ud480\uc774"
       ]
      },
      {
       "output_type": "stream",
       "stream": "stdout",
       "text": [
        " \uc5f0\uc608\n",
        "\uc139\uc2dc\ud55c \ubbf8\ub4dc \ub098\uc774\ud2b8 \ud480\uc774"
       ]
      },
      {
       "output_type": "stream",
       "stream": "stdout",
       "text": [
        " \uc74c\uc2dd\n",
        "\uc139\uc2dc\ud55c \ubbf8\ub4dc \ub098\uc774\ud2b8 \ud480\uc774"
       ]
      },
      {
       "output_type": "stream",
       "stream": "stdout",
       "text": [
        " \uc2a4\ud3ec\uce20\n",
        "\uc139\uc2dc\ud55c \ubbf8\ub4dc \ub098\uc774\ud2b8 \ud480\uc774"
       ]
      },
      {
       "output_type": "stream",
       "stream": "stdout",
       "text": [
        " \uac8c\uc784\n",
        "\uc139\uc2dc\ud55c \ubbf8\ub4dc \ub098\uc774\ud2b8 \ud480\uc774"
       ]
      },
      {
       "output_type": "stream",
       "stream": "stdout",
       "text": [
        " \uac74\uac15\n",
        "\uc139\uc2dc\ud55c \ubbf8\ub4dc \ub098\uc774\ud2b8 \ud480\uc774"
       ]
      },
      {
       "output_type": "stream",
       "stream": "stdout",
       "text": [
        " \ud559\uc2b5\n",
        "\uc139\uc2dc\ud55c \ubbf8\ub4dc \ub098\uc774\ud2b8 \ud480\uc774"
       ]
      },
      {
       "output_type": "stream",
       "stream": "stdout",
       "text": [
        " \ucee4\ubba4\ub2c8\ud2f0\n",
        "\ud074\ub798\uc2dd \ubc84\ube14 \ucd2c\uc601"
       ]
      },
      {
       "output_type": "stream",
       "stream": "stdout",
       "text": [
        " \ubbf8\uc6a9\n",
        "\ud074\ub798\uc2dd \ubc84\ube14 \ucd2c\uc601"
       ]
      },
      {
       "output_type": "stream",
       "stream": "stdout",
       "text": [
        " \uc74c\uc545\n",
        "\ud074\ub798\uc2dd \ubc84\ube14 \ucd2c\uc601"
       ]
      },
      {
       "output_type": "stream",
       "stream": "stdout",
       "text": [
        " \ub9ac\ubdf0\n",
        "\ud074\ub798\uc2dd \ubc84\ube14 \ucd2c\uc601"
       ]
      },
      {
       "output_type": "stream",
       "stream": "stdout",
       "text": [
        " \uc5f0\uc608\n",
        "\ud074\ub798\uc2dd \ubc84\ube14 \ucd2c\uc601"
       ]
      },
      {
       "output_type": "stream",
       "stream": "stdout",
       "text": [
        " \uc74c\uc2dd\n",
        "\ud074\ub798\uc2dd \ubc84\ube14 \ucd2c\uc601"
       ]
      },
      {
       "output_type": "stream",
       "stream": "stdout",
       "text": [
        " \uc2a4\ud3ec\uce20\n",
        "\ud074\ub798\uc2dd \ubc84\ube14 \ucd2c\uc601"
       ]
      },
      {
       "output_type": "stream",
       "stream": "stdout",
       "text": [
        " \uac8c\uc784\n",
        "\ud074\ub798\uc2dd \ubc84\ube14 \ucd2c\uc601"
       ]
      },
      {
       "output_type": "stream",
       "stream": "stdout",
       "text": [
        " \uac74\uac15\n",
        "\ud074\ub798\uc2dd \ubc84\ube14 \ucd2c\uc601"
       ]
      },
      {
       "output_type": "stream",
       "stream": "stdout",
       "text": [
        " \ud559\uc2b5\n",
        "\ud074\ub798\uc2dd \ubc84\ube14 \ucd2c\uc601"
       ]
      },
      {
       "output_type": "stream",
       "stream": "stdout",
       "text": [
        " \ucee4\ubba4\ub2c8\ud2f0\n",
        "Old School Dialer"
       ]
      },
      {
       "output_type": "stream",
       "stream": "stdout",
       "text": [
        " \ubbf8\uc6a9\n",
        "Old School Dialer"
       ]
      },
      {
       "output_type": "stream",
       "stream": "stdout",
       "text": [
        " \uc74c\uc545\n",
        "Old School Dialer"
       ]
      },
      {
       "output_type": "stream",
       "stream": "stdout",
       "text": [
        " \ub9ac\ubdf0\n",
        "Old School Dialer"
       ]
      },
      {
       "output_type": "stream",
       "stream": "stdout",
       "text": [
        " \uc5f0\uc608\n",
        "Old School Dialer"
       ]
      },
      {
       "output_type": "stream",
       "stream": "stdout",
       "text": [
        " \uc74c\uc2dd\n",
        "Old School Dialer \uc2a4\ud3ec\uce20\n",
        "Old School Dialer"
       ]
      }
     ],
     "prompt_number": "*"
    },
    {
     "cell_type": "code",
     "collapsed": false,
     "input": [
      "df"
     ],
     "language": "python",
     "metadata": {},
     "outputs": []
    }
   ],
   "metadata": {}
  }
 ]
}