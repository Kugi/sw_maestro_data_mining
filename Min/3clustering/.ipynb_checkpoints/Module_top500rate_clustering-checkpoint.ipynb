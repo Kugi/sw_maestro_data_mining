{
 "metadata": {
  "name": ""
 },
 "nbformat": 3,
 "nbformat_minor": 0,
 "worksheets": [
  {
   "cells": [
    {
     "cell_type": "code",
     "collapsed": false,
     "input": [
      "#import DatabaseManager as dbm\n",
      "import re\n",
      "import time\n",
      "\n",
      "import requests\n",
      "from scrapy.selector import HtmlXPathSelector\n",
      "\n",
      "from datetime import datetime\n",
      "def _get_date():\n",
      "    return datetime.datetime.now()\n",
      "from sqlalchemy import *\n",
      "db = create_engine('postgresql://soma:maestro@)!#@soma1.buzzni.com/application')\n",
      "\n",
      "from sqlalchemy.orm import sessionmaker\n",
      "from sqlalchemy.ext.declarative import declarative_base\n",
      "BaseObj = declarative_base()\n",
      "        \n",
      "db.echo = False  # Try changing this to True and see what happens\n",
      "metadata = MetaData(db)\n",
      "\n",
      "import DatabaseManager\n"
     ],
     "language": "python",
     "metadata": {},
     "outputs": [],
     "prompt_number": 23
    },
    {
     "cell_type": "code",
     "collapsed": false,
     "input": [
      "cd"
     ],
     "language": "python",
     "metadata": {},
     "outputs": [
      {
       "output_type": "stream",
       "stream": "stdout",
       "text": [
        "/Users/jeongmingi\n"
       ]
      }
     ],
     "prompt_number": 10
    },
    {
     "cell_type": "code",
     "collapsed": false,
     "input": [
      "import pandas as pd\n",
      "import pickle\n",
      "import numpy as np\n",
      "apps =  pd.load('desktop/data/app_info2.df')\n"
     ],
     "language": "python",
     "metadata": {},
     "outputs": [],
     "prompt_number": 11
    },
    {
     "cell_type": "markdown",
     "metadata": {},
     "source": [
      "#n_sort_appname, APPS TOP 500 RATE ADD"
     ]
    },
    {
     "cell_type": "code",
     "collapsed": false,
     "input": [
      "arg_ =  np.array(apps.rate_num_all.argsort())"
     ],
     "language": "python",
     "metadata": {},
     "outputs": [],
     "prompt_number": 12
    },
    {
     "cell_type": "code",
     "collapsed": false,
     "input": [
      "n_ = 500\n",
      "n_sort_ = arg_[(-1)*n_-1: -1]\n",
      "n_sort_appname = []\n",
      "for i in range(n_):\n",
      "    n_sort_appname.append(apps.ix[n_-i]['name'])"
     ],
     "language": "python",
     "metadata": {},
     "outputs": [],
     "prompt_number": 30
    },
    {
     "cell_type": "code",
     "collapsed": false,
     "input": [
      "print '; '.join(n_sort_appname)"
     ],
     "language": "python",
     "metadata": {},
     "outputs": [
      {
       "output_type": "stream",
       "stream": "stdout",
       "text": [
        "RealPresence Mobile - Tablet; \uad11\uac1c\ud1a0\ud0dc\uc655; \ube44\ub514\uc624 \ucc44\ud305; \u0637\u0631\u0642 \u062d\u0641\u0638 \u0627\u0644\u0642\u0631\u0622\u0646 \u0627\u0644\u0643\u0631\u064a\u0645; MIX Images...\"Photo and me\"; SMS \ubca8\uc18c\ub9ac \ud504\ub85c; \ud55c\uad6d\uacbd\uc81cTV; Hobbit life; Cupcake Maker; Foosball 3D; \u0633\u0648\u0631\u0629 \u062a\u0628\u0627\u0631\u0643 \u0642\u0631\u0627\u0621\u0629 \u0648\u0625\u0633\u062a\u0645\u0627\u0639; Music Player for Android; B1A4 \ud50c\ub808\uc774\uc5b4[\ucd5c\uc2e0\uc568\ubc94\uc74c\uc545\ubb34\ub8cc/\uc2a4\ud0c0\uc0ac\uc9c4/\uc601\ud654OST]; Color Touch; Virtual Piano; Bride and Groom Maker; \uc601\uc6c5 \ud0c8\ucd9c; \uafc8\uc758 \uac70\ub9ac; \uacbd\uae30 \ud559\uad50\ud589\ubcf5\uc9c0\uc218; \ubb3c\ub54c\uc640\ub0a0\uc528- \ub09a\uc2dc\uc778\uc744 \uc704\ud55c \uc870\uc11d, \ub0a0\uc528 \uc608\ubcf4; \ubd88\ub968 \uc774\ud004\ub77c\uc774\uc800; Animal Park Tycoon; \u0110ua xe Need for Speed HD; \ub864\ub7ec\ucf54\uc2a4\ud130\ub77c\uc774\ub4dc; \ubc30\ud2c0\uce90\ub17cSE(Battle Cannon Online); \uc545\ub9c8\uc758\uacc4\ud68d; \ubaac\uc2a4\ud130\uc6d4\ub4dc; GnarBike \ud3c9\uac00\ud310 \ud504\ub85c; MineGuides; Girl Fart; \ud5c8\uc218\uc544\ube44\uc758 \ub1cc; \uc288\ud37c \ud2b8\ub7ed \ud504\ub85c; \ud48d\uc120\ud0c0\uc6cc\ub514\ud39c\uc2a4 4E; \ud48d\uc120\ud0c0\uc6cc\ub514\ud39c\uc2a4 4; VPET; \ub9d0\ub791\ub9d0\ub791\uc0ac\ucc9c\uc1312; \uc81c\ud2b8 \ud50c\ub77c\uc774 (II); Injustice Gods Among Us Guide; \ud06c\ub9bc\uc2a8\ubca0\uc778; Galaxy Note 2 Live Clock; \u0423\u0445\u043e\u0434 \u0437\u0430 \u043b\u0438\u0446\u043e\u043c; Winulator-beta; Mojo \u5168\u53f0\u7063\u63a8\u85a6\u65c5\u904a\u666f\u9ede; \uc194\uc800 \uc624\ube0c \uae00\ub85c\ub9ac: \uc6d4\ub4dc \uc6cc 2 \uc880\ube44; \u61f7\u5ff5\u91d1\u66f2; \u4e0d\u597d\u7b11\u514d\u9322; Bungie Mobile; MAME4droid (0.37b5); \u017bulionerzy; \ud310\ud0c0\uc9c0\uc6cc; \uacf5\uc8fc \uba54\uc774\ud06c\uc5c5 \ub77c\uc774\ud2b8; Guns'n'Glory GOLD; CJ \ubdf0\ud2f0 \uc18c\ub140 \ud37c\uc990; Medieval Battlefields FREE; Zion Tower Defense Free; \ub7ec\ube0c \uba54\ubaa8\ub9ac\uc988 LITE; Voxel Invaders (Free); 2012 \ub300\ud1b5\ub839 \ub2ec\ub9ac\uae30; \ube14\ub808\uc774\ub4dcz(Blade z); \ub124\uc774\ud0a4\ub4dc\ud0b92; Alg\u00e9rie M\u00e9t\u00e9o; Beastie Bay; Dragon Board; ATC4Real San Diego; \ubb34\ub8cc \ud0c8\ucd9c \uac8c\uc784 - \uac1c\uad6c\ub9ac \uc655\uc790; Tank War: Extreme; \uc544\uccd0\ucea3; Renault Trucks Racing; \ub291\ub300 \ub358\uc9c0\uae30; Nations At War; \u795e\u9f8d\u90e8\u843d - Dragon Village; Animal Collections; \ub808\uc2a4\ud1a0\ub791\uc2a4\ud0c0; EDGE Demo; zettai ryouiki new FREE; \uc18c\ud658\uc804\uc7c1; LOL \uac00\uc774\ub4dc (\uc804\uc124\uc758 \ub9ac\uadf8); ParkingBreak_Lite; Lara Croft: Guardian of Light; \ucee4\ub125\ud2b8\ub380 (Connect'Em); Jellyflop!; All\u82f1\u8bed\u8bcd\u5178, English \u21d4 Chinese; TheEndApp; Thunder Gun Pit Crew Titans; Pirate Explorer: The Bay Town; Lego Christmas examples; \uc606\uc9d1 \uc18c\ub140; CHAOS RINGS; 100 Escapers; \ucfe0\ud0a4\ub7f0 \uc5c5\uadf8\ub808\uc774\ub4dc+\ub808\ubca8\uc5c5; \ube5b\uc758 \uc131 \u2014 City of Splendors; \uc2a4\ub204\ud53c \uc2a4\ud2b8\ub9ac\ud2b8; FinalMagicES \u7121\u6599[\u7269\u8a9e\u91cd\u8996\u30aa\u30f3\u30e9\u30a4\u30f3\u30d0\u30c8\u30eb]; Darkbase \uc880\ube44\ub294 \uc8fd\uc5ec!; \u5929\u5929\u7f8e\u56fe--\u6700\u4f73\u5716\u7247\u7f8e\u5316\u8655\u7406\u5de5\u5177; ENCHANT U; \uc624\ud508\ub77c\uc774\ub354; LIL' KINGDOM; Bouncy Bill Halloween; Wordfeud; Furious Wheel; \uc804\uc7c1 \uc804\ub7b5; Truck Delivery Free; Skyriders; Liverpool FC Fantasy Manager; \u0627\u0641\u062d\u0635 \u0642\u0648\u0629 \u0628\u0635\u0631\u0643 \u0627\u0644\u0645\u0637\u0648\u0631; MMORPG Project; \ub358\uc804 \ubaa8\ud5d8 - \ubb34\ub8cc; Circuit Flow Free; \u30d5\u30a1\u30eb\u30ad\u30e5\u30fc\u30ec\u306e\u7d0b\u7ae0 [40\u4e07\u4eba\u304c\u5927\u71b1\u72c2\uff01\u7121\u6599\u30ab\u30fc\u30c9\u30b2\u30fc\u30e0]; \ubd04\ube0c\uc258; Prayer Time; Zombie Swipeout Free; \u3010\uc778\uae30\u3011\u3010\uc561\uc158RPG\u3011\ub4dc\ub798\uace4 \ud5cc\ud130LITE; Ultimate SMS Template Library; \uc0bc\uad6d TD : \ubc29\uc5b4\uc790; \uc2a4\uc2dc \ud0c0\uc774\ucfe4; Zombie Ace; \ud30c\uc774\ube0c\uc18c\uc988; \uc5b4\uba54\uc774\uc9d5 \ube0c\ub808\uc774\ucee4_FREE; Bubble Witch Saga Fan Guide; Jewel Stacker; Arsenal Fantasy Manager'13; Zombie Warrior Man 18+; Galinha Pintadinha 2; \ub2cc\uc790 \uac8c\uc784; C-games \ud074\ub77c\uc6b0\ub4dc \uac8c\uc784 \uc2a4\ud1a0\uc5b4; 100 \ubb38 : \uc2dc\uac04 \u200b\u200b\uae30\uacc4; \uae30\uc5b4\uc2a4 & \uc6a9\uac10\ud55c \uc790; AC Milan Fantasy Manager'13; \u667a\u80fd\u98a8\u6c34\u7f85\u76e4 (\u57fa\u672c\u7248); \ubb34\ub8cc \ub85c\ub610,\ub3c8\ubc84\ub294\uc5b4\ud50c,\uc778\uc0dd\ud55c\ubc29\uc5ed\uc804,\ub85c\ub610\ub85c,TOLOTTO; Blow Up Balloon; \u6a02\u900f\u5c0d\u514c\u734e; sexy \uc637\ubc97\uae30\uae30 \uac00\uc704\ubc14\uc704\ubcf4; Hard Wound; The Saga of Conquest(Best MMO); Zombocalypse; Kingfisher Formula Race; Block Builder; \ucd08\ucf5c\ub9bf \ucfe0\ud0a4 \uc694\ub9ac \uac8c\uc784; CANALTOUCH; Xeno Wars; \uc560\ub2c8\ud321 \uce5c\uad6c\ucd94\uac00,\ud558\ud2b8\uc120\ubb3c \ucee4\ubba4\ub2c8\ud2f0; Wireless Charger; \ub864\ub7ec \ucf54\uc2a4\ud130 \ud06c\ub9ac\uc5d0\uc774\ud130; Fling a Thing; \uc57c\ud55c\ub3d9\uc601\uc0c1 \ub204\ub4dc\ub9de\uace0; Clear Vision (17+); Objetos Escondidos - Free Game; Hamlet (\ud584\ub9bf); \uac10\uc625 \ube0c\ub808\uc774\ud06c; \u9f8d\u65cf; Deluxe Apartment Escape; \uac1c\uad6c\ub9ac \ubb34\ub8cc \ub3c4\uc57d; \ub4dc\ub798\uace4\ud50c\ub77c\uc774\ud2b8 \uacf5\ub7b5\ucee4\ubba4\ub2c8\ud2f0 \ud578\ub514\uac8c\uc784; Kula Jump; \u901a\u8a71\u7d00\u9304++; Treasures of Montezuma Blitz; FC\ub9e4\ub2c8\uc800 \ubaa8\ubc14\uc77c; \u9748\u5360\u5929\u4e0b-\u516b\u5b57 \u5360\u535c \u7b97\u547d \u661f\u5ea7 \u904b\u52e2; \uc880\ube44 \uce74\ud398; Tickling cat; Brainsss; Hangman; \uc815\ud1b5\uc12f\ub2e4 2013; Real Racing 2 Free; GTA 5 is Coming!!!; \uadc0\uc5ec\uc6b4\ub77c\uc774\ube0c \ubc30\uacbd\ud654\uba74; Around the World in 80 Days; [\ub3c8\ubc84\ub294\uc5b4\ud50c]\uc571\ud14c\ud06c \ud544\uc218\uc5b4\ud50c - \uc571\ud5cc\ud130 2; \uc139\uc2dc\u2665\uac78\uc744 \ucc3e\uc544\ub77c; \uc288\ud37c \ubc84\uac70 \uc7bc; PUZZLE PRISM LITE; Ajax Fantasy Manager'13; \ub2e4\ube48\uce58\ud30c\uc774\uc5b4 for kakao; Avoooid!Hero; Level Up! RPG; Global War Tanks; Sexy Slot SUPER REAL 8LINES P2; CoD: Black Ops 2 Customizer; Prison Tycoon; \ubc84\uac70 \ud328\ub2c9 \uc694\ub9ac \uac8c\uc784; Dragon Hunter II; \u0420\u0435\u0446\u0435\u043f\u0442\u044b \u2013\u0432\u043a\u0443\u0441\u043d\u043e \u0438 \u043f\u043e\u043b\u0435\u0437\u043d\u043e; R-Tech Commander Colony; What's Up; \ud558\ub140\ub9de\uace03\u2605\uc9c0\uae08\uc740 \ub300\ud558\ub140\uc2dc\ub300\u2605; \uc5f0\uc608\uc778 \uc774\ub984 \ub3c4\uc804 Quiz; Cut'n'Roll; Sky Fighters Academy Free; \u30ef\u30fc\u30eb\u30c9\u30e1\u30fc\u30ab\u30fc [\u5f3e\u5e55\u30b7\u30e5\u30fc\u30c6\u30a3\u30f3\u30b0\u00d7\u30d5\u30a1\u30f3\u30bf\u30b8\u30fcRPG]; \u0422\u0430\u043d\u0447\u0438\u043a\u0438 2013; Office Lady \uc2a4\ud2b8\ub9bd\ub9de\uace0; \uc810 - \uc790\ub3d9\ucc28; \uc2e4\ud06c\ub85c\ub4dc for Kakao; \ub85c\uc2a4\ud2b8 \uc544\uc77c\ub79c\ub4dc; ANGRY BOTS 9MB; \ud0f1\ud06c \uc804\uc7c1 \uc601\uc6c5 \uc0ac\ub0e5\uafbc; Kids Animal Preschool Puzzle L; \u2605\ub514\ud39c\uc9c0 2\u2605; \ucd9c\uc870 \ub09a\uc2dc\uad11; Zombie Age; Gurk II, the 8-bit RPG; \ucd5c\uace0 \uc18d\ub3c4 \ub9d0 : \ubb34\ub8cc; NEW\u2665\ud640\ub531\ub9de\uace0\u266519\uae08; Nyan Cat: Lost Space Race; HotWheel Highway Drive; \u96fb\u8996\u79c0 YouTube Taiwan; \ub0b4\ubd80 \uc815\uc6d0 (Inner Garden); Old School Dialer; \ud074\ub798\uc2dd \ubc84\ube14 \ucd2c\uc601; \uc139\uc2dc\ud55c \ubbf8\ub4dc \ub098\uc774\ud2b8 \ud480\uc774; \uc324\uc324\ub9c8\ud2b8; Little Crane; Meteor - Meteoradar; Ant Raid; \uc6b0\ub9ac\uc740\ud589 \uc6d0\ud130\uce58 \uc6d4\ub4dc; \u7f8e\u56e2\u56e2\u8d2d\uff08\u56e2\u8d2d\u5fc5\u5907); Angela Dress Up; \ud48d\uc120 \ud0c0\uc6cc \ubc29\uc5b4 \uc804\ud22c; Sniper Battle; \u82f1\u6f22\u5b57\u5178 EC Dictionary; \uadc0\uc5ec\uc6b4 \uc5d4\uc824 - \ucc28\uc774 \ucc3e\uae30; Make Your Cake; World War II raid; Dai Cazzo; Daily Perks; \ubcf4\uc11d \uac8c\uc784; Beautylish: Makeup Beauty Tips; \uc815\ubcf4\uc9c0\ud0b4\uc774 (SOM); Camera widget GO Weather EX; \ubc30\ud2b8\ub9e8 \uc774\uc57c\uae30; Kids Connect the Dots Xmas; Messi vs Ronaldo Quiz; Fruit Slice; \uadf9\uc9c0\uace0:\ud559\uc6d0\ubb34\ub9bc\ub300\uc804; \ud130\uce58 \ud130\uce58 \uc0ac\ub2e4\ub9ac ( Touch Touch \uc0ac\ub2e4\ub9ac ); Pocket Dragons RPG; \uc2a4\ud504\ub808\ub4dc\uce98 - \uce98\ub9b0\ub354; e\ud558\ub298 \uc7a5\uc0ac\uc815\ubcf4; Pocket Clothier Lite; Strategy & Tactics: WW II Free; The Snowman and The Snowdog; Halifax Mobile Banking app; Zs\u00edroz\u00e1s; pink butterflies glitter lwp; eco\u30e2\u30fc\u30c9; Moto Race; \uc544\uae30 \uc790\uc7a5\uac00 \uc218\uba74 \ud2b8\ub808\uc774\ub2dd + \ucd08\uc810\ucc45; Color Touch FX; 3D\u5168\u666f\u62cd\u7167; PEP the dragon; [GDGT]MCPE App; chumby for Sony Tablet S; Monorail Lite; FrameMe-Instagram pic; Bike to the Future Free; RO\u4ed9\u5883\u50b3\u8aaa-\u74e6\u723e\u57fa\u91cc\u4e4b\u4e82-\u6b7b\u4ea1\u4e4b\u90fd\u5df4\u9732\u6234\u723e; \ub9de\uace0\ub3c4\uc0ac\uc804 2013; Pet Rescue Saga Help; Asphalt 6: Adrenaline Free; \ubaa8\ub450\uc758\uac8c\uc784 \ud587\uc0b4\uc774\ubca4\ud2b8; \u62c6\u5f48\u9a5a\u9b42; Beat the Beast; Zombie Fields HD; Call Confirm; Colombo Racer Beta- Sri Lankan; \ud3ed\ud589 \uc880\ube44 HD; Country House_GO\ub7f0\ucc98EX\ud14c\ub9c8_\ud504\ub9ac\ubbf8\uc5b8; Qik Video; \u041a\u0430\u043c\u0435\u0434\u0438 \u041a\u043b\u0430\u0431 - \u041b\u0443\u0447\u0448\u0438\u0435 \u0412\u0438\u0434\u0435\u043e; \ubb34\ud55c\ube61\uce68 \ub191; Scydo \ubb34\ub8cc \uc548\ub4dc\ub85c\uc774\ub4dc\ub294 \uc804\ud654; \uad6d\ub0b4\uc720\uc77c \ubb34\ub8cc\uc18c\uac1c\ud305, \ud558\ub8e8 \ub450\uba85\uc529 \ub04c\ub9bc; \ud3ec\ud1a0 \uc6cc\ud130 \ubc18\uc601; PicsArt Kaleidoscope; Pendu Classique: France; Explorer; 7x7; Movie Booth FX \ube45\ubc45 - \uc601\ud654 \ubd80\uc2a4; Cupcake Maker!; \uac13\ud53c\ud50c\ubab0; During_GO\ub7f0\ucc98EX\ud14c\ub9c8; Grand Theft Auto 4 Guide GTA4; Squibble; M1 BestPicks; Archos File Manager; Dropwords; \ub3d9\ubb3c \uac80\uc0c9; \u5fc3\u9748\u6545\u4e8b; Stick Swing; \ud574\uc11d \uccad\ucd98\ub0a8\ub140(2013\ub144 \uc6b4\uc138); Crazy Moto Construction Yard; KK-Boxing; \uc5b4\ub514\uc5d0?; Puzzle for Minecraft; 7\uae09\uacf5\ubb34\uc6d0 \ubb34\ub8cc\ub2e4\uc2dc\ubcf4\uae30-\uac00\uc785\uc5c6\uc74c/\uc2e4\uc2dc\uac04\uac10\uc0c1/TV\ub4dc\ub77c\ub9c8; \u516d\u6cd5\u5168\u66f8; Bluetooth OnOff; \u010cT4; Korean Vocabulary; Airport Mania XP FREE; \u79d8\u5bf6\u63a2\u5075; Kids Jigsaw Puzzles Ocean Free; \u5eb7\u7199\u4f86\u4e86 TV; The Island: Castaway; \uce74\ud1a1 \uc774\ubaa8\ud2f0\ucf58; Jewellust Xmas; Net Big 2 Free; EZ\u7f8e\u98df\u65e5\u8a9e; EZ\u65c5\u904a\u65e5\u8a9e; \uc2a4\ud241\uc2a4(stoongs) Email\uc601\uc5b4; \uc9c0\ubb38 \uc608\uc0c1; \u59dc\u997c\u4eba\u5927\u9003\u4ea1 (Ovenbreak); Mickey Mouse Clubhouse; \u53f0\u7063\u5496\u5561/\u98f2\u6599\u5927\u5168\uff01 (online\u7248, \u53ef\u4e0b\u8f09\u96e2\u7dda\u4f7f\u7528); T map for KT,LGU+; \u4e58\u6cd5\u5c0f\u5b78\u5802; \ub9e4\ub2c8\ud050\uc5b4 \ub514\uc790\uc774\ub108 \ub77c\uc774\ud2b8; Shut Up! App; \u30aa\u30ea\u30b3\u30f3\u30df\u30e5\u30fc\u30b8\u30c3\u30af\u30b9\u30c8\u30a2; TOP 20 SMS \uc0ac\uc6b4\ub4dc \ud6a8\uacfc; Splat Bugs III Unlock KEY; Equalizer; ApeFlip; \uce58\ud0a8\ub7f0(\ub18d\uc7a5\ud0c8\ucd9c); [PNN] PTT \u9109\u6c11\u665a\u5831; iMadeFace Funny Pics & Videos; olleh \ucf55!\ucf55!; \uc880\ube44 \uc774\ube14; Jet Car Stunts; Video Download; 3\u570b\u5c0f\u8c6c \u6349\u932f\u8655; Screen On; Funny iMadeFace Videos&Photos+; SPY mouse; TV\u96a8\u8eab\u770bHD-\u9078\u53f0\u5668; \u0422\u0430\u0440\u043e \u0413\u0430\u0434\u0430\u043d\u0438\u0435; \ud5ec\uc2a4 \uc2a4\ucf00\uc974\ub7ec; Las Vegas Slot Machine HD; \u5168\u58d8\u62532 OL; \uadc0\uc5ec\uc6b4 \uc0c8\ub07c \uace0\uc591\uc774\ub97c \ucc3e\uace0 \uc788\ub294\ub370 \ud654\uba74; JTBC \ub274\uc2a4; \ub2e4 \ubc97\uae30\ub294 \uc139\uc2dc \ub8f0\ub81b\uac78; Jungle Jewels Free; Joy Drums; Pumped: BMX Free; KTB netbank; \ub0b4 \ubb3c \ub09a\uc2dc \uac8c\uc784 \ud37c\uc990; Gem Cleaner; Go Locker Minecraft; \ucfe0\ud0a4\ub7f0 \ub300\ud45c \ucee4\ubba4\ub2c8\ud2f0 (\uac8c\uc784\ucfe1); [FREE]\ub7ec\ube0c\ub7ec\ube0c\ud3ab\ud0c0\uc774\ucfe4; \u738b\u54c1\u9910\u98f2\u975e\u5b98\u65b9APP(\u53f0\u5851\u725b\u6392,\u590f\u6155\u5c3c,\u539f\u71d2,\u897f\u5824,\u7b49\u9910\u5ef3); \ud0a4\uc704\ub7f0!; Assault Force; \uc885\uc774\uc811\uae30; \ub2e4\ud568\uaed8 \ud401\ud401\ud401 \uac00\uc9dc \ubc1c\ub3c4\uc7a5 100\uac1c (\ud401\ud401\ud401 \ucee4\ubba4\ub2c8\ud2f0); \u010cT24; Line Super Runner; Top Shooter; \uc5ec\uc790\ub97c\uc704\ud55c \uba4b\uc9c4 \uac8c\uc784; \u7ec8\u6781\u5854\u9632; OctoCheck; \ubaac\uc2a4\ud130 \ucf54\uc778; \uc880\ube44 \uc3f4; \uce74\uc624\uc2a4\uc601\uc6c5\uc804; Love Quote Pics for Facebook; Sweet Ring Shop; Tap Play; Opzi Bingo; If Serie A 2012 - 2013 Lite; \u2605 3D RPG Heaven Sword \u2605; \ud50c\ub808\uc774\uc5b4 \ucd95\uad6c \uc0ac\uc9c4 \ud034\uc988; \ub85c\ubcf4; \ud0c0\uc774\ub2c8\uc6cc; \ub9c8\uc774 \uce74 \uc0b4\ub871 2; Dreamhouse Next Launcher Theme; \ubfcc\uae4c \uc0ac\ucc9c\uc131; Android 2.2 API Demos; \u7c21\u7e41:\u5bf5\u6587\u751c\u6587\u8a00\u60c5\u5c0f\u8aaa\u5408\u96c6[7]; IDM Internet Download Magician; TouchPal Swedish Pack; Be My Princess; \u5bab\u6597\u6fc0\u60c5\u6587\u5b66; \u6210\u4eba\u6fc0\u60c5\u8868\u59b9\u7684\u8bf1\u60d1\u5c0f\u8bf4; \u70ed\u95e8\u7384\u5e7b\u4fee\u771f\u5c0f\u8bf4\u5408\u96c6; Sword Art Online Theme FREE; \uccb4\uc911\uc744 \uc783\uac8c\ud558\ub294 \ube60\ub978 \ubc29\ubc95; Height & Weight Log; \u9690\u5f62\u80f8\u7f69\uff08\u5b89\u5353\u7248\uff09; Smart Baby Mat (Monitor); EZ Pill Reminder; \u4eba\u4eba\u90fd\u7231\u72d0\u72f8\u7cbe; \ubb3c\uc740 \uc18c\ub9ac; \u60c5\u8272\u6478\u4e73\uff1a\u706b\u8fa3\u6bd4\u57fa\u5c3c; \ubcf4\uc218\uacc4; Gourmet Creature Hungry Mogumo; TarzaN Ever Ending Adventure; \ubc1d\uc740 \uba4b\uc9c4; Hip Mania[Hot Girl] Free Game; \u7f8e\u5973\u5341\u516b\u6478\u6478\u51fa\u9ad8\u6f6e; \ubf40\ubf40\uac8c\uc784; \u30d1\u30c1\u30b9\u30ed\u300c\u7518\u3069\u308b!!\u300d; \uacfc\uc77c \ubc84\ube14 \uc288\ud130; \ucd94\uc5b5\uc758 \ub2ec\uace0\ub098 \ubf51\uae30; \ucf54\uc778 \uac8c\uc784 ~ \ud398\ub2c8 \ud478\uc154; [\uc644\uc804\ubb34\ub8cc]\ub77c\uc2a4\ud2b8\uccb4\uc774\uc11c Plus+; Candy Island HD - \uce94\ub514 \uc12c HD; Pixel Dungeon; Cupcake Stand; Practice English Grammar - 1; AmbientTime Live Wallpaper; MojiTime Clock Widget; Tales from the Dragon Mountain; Elements Battle; \u6dfa\u7da0\u5c0f\u8aaa\u96c6\uff08\u7e41\u9ad4\u7248\uff09; Thai Livescore; \ub450\ub1cc\uac74\uac15 \ud328\ud134\uc554\uae302; \ud380\uce90\uc2a4\ud2b8 - \ucd5c\uace0\uc758 \ud31f\uce90\uc2a4\ud2b8; MMDA for Android\u2122; \uc0ac\uc9c4 \uc7ac\ubbf8 - \uc7ac\ubbf8 \uac24\ub7ec\ub9ac \uc791\uc131\uae30; Shadow Galaxy; \uc5d0\uc774\uc9c0 \uc624\ube0c \uac13: \uc544\uae30\uc790\uae30\ud55c \uce74\ub4dc\ubc30\ud2c0; \ub4dc\ub9bc \ud648; KIDS SONG MACHINE 2 FREE; \ub85c\ub610 \ub300\ubc15\ub098\uae30; \uc804\ub798\ub3d9\uc694 \ubc8c\uc544\ubc8c\uc544; \ud06c\ub808\uc774\uc9c0 \uacbd\uc801; I Smell Brains; Stamp sticker TextCutie; MySafeApp \uc228\uae30\uae30 \uc0ac\uc9c4 \ubc0f \ub3d9\uc601\uc0c1; Iron Reactor Widget; [\uc138\uc774\ud1a1] \ub300\ud654\uac00 \ud544\uc694\ud560 \ub54c - Saytalk \ucc44\ud305; Wacky Duck; FreeTelec T\u00e9l\u00e9c Freebox; \u9a45\u52d5\u57ce\u5e02-\u5373\u6642\u8def\u6cc1,\u52a0\u6cb9,\u505c\u8eca,\u512a\u60e0,\u6551\u63f4; Wild Blocks Rush; \ucd95\uad6c \uacbd\uae30 \ud504\ub85c; Puzzle Retreat; Galatasaray Fantasy Manager'13; \u4e0d\u601d\u8b70\u5fae\u751f\u7269\u30bf\u30de\u30bf\u30de\u7814\u7a76\u6240; BBC News; Three Kingdoms: Heroes; Qello; \uc608\uc2a4\ud30c\uc77c-\uc601\ud654\ubcf4\uae30,\uc74c\uc545,\ub4dc\ub77c\ub9c8,\uc560\ub2c8,\ub3d9\uc601\uc0c1 \uc790\ub8cc\ub2e4\uc6b4\ub85c\ub4dc; Bowman Pro 4; \ub808\uc774\uc2a4 \uc2a4\ud0c0\ud2b8 - GO\ub77d\ucee4\ud14c\ub9c8 - \ud504\ub9ac\ubbf8\uc5c4; \uc911\uad6d\uc5b4 \ub2e4\ud06c \uad50\ud310; Great White SHARKS; Clash of the Olympians; Star Defender 4 (Free); Christmas Hangman Deluxe; \ud788\uc5b4\ub85c\uc2ac\ub808\uc774\uc5b4! [\uac04\ub2e8\ud788 \uc990\uae30\ub294  \ud37c\uc990&\ub514\ud39c\uc2a4 \uac8c\uc784]; \uc5b4\ub9b0\uc774\ub97c\uc704\ud55c \uc790\uc7a5\uac00; \u042f\u0439\u0446\u0435\u043b\u043e\u0432; Save Toshi \u65e5\u672c; \ubd88\uad50\ubc29\uc1a1; \ub4dc\ub798\uace4 \uc2a4\ud1a0\ub9ac: \ubd80\ud65c\uc808 \uc5d0\ub514\uc158; Angry Fatty; \uce90\ucc60\ud504\ub9b0\uc2a4 for Kakao; \ub0b4 \uc0ac\ub791\uc2a4\ub7ec\uc6b4 \ub3fc\uc9c0; Raging Fire Racing; \ud504\ub9b0\uc138\uc2a4*\ud37c\uc990; \ubb34\ub364 \ubcf4\uc11d; \uc824\ub9ac\ubf40 for Kakao; Scarface; \ubc84\uac70 \ud328\uc2a4\ud2b8 \ud478\ub4dc \uc2a4\ud0e0\ub4dc \uba54\uc774\ucee4; \ubc30\ud2c0\uc544\ub808\ub098(BattleArena); Contre Jour; \ubbf8\ub2c8 \uace8\ud504 3D \uacf5\uac04 : \ud37c\ud2b8 \ud37c\ud2b8; AE Coin Mania; Berzerk Ball 2; \ub808\uc774\uc2f1 \uc790\ub3d9\ucc28 \uc9c0\uadf8 \uc18c \ud37c\uc990; \uce90\ub9ad\ud130\ud321 for Kakao; \ud50c\ub77c\uc789 \ubc84\ub514 for Kakao; \ud504\ub9ac\ud2f0 \ud3ab \ud1a0\uc774 \uc2a4\ud1a0\uc5b4; \ud038\uc988\uc560\ub85c\uc6b0 ( \uc591\uad81 ); \ud3ab \uce74\ud398 2; \uadf8\ub140\ub294\ud3ab2 \u2665D\ucef5 \uadf8\ub77c\ube44\uc544 Sexy \uc2a4\ud0c0  \uc5d0\ubc00\ub9ac; Pudding Monsters HD (\ud478\ub529 \ubaac\uc2a4\ud130); METAL SLUG; \ube14\ub8f8\ud31d (Bloom-PoP); FINAL FANTASY DIMENSIONS; \uc5d8\ub9ac\uba58\ud0c8\ub098\uc774\uce20 \uc628\ub77c\uc778 (EKO); Top Stylist; Miners 4k; \ucd08\ucf54\ucd08\ucf54 for Kakao; \uc139\uc2dc\ud55c \uc5ec\uc790 \ud06c\ub9ac\uc2a4\ub9c8\uc2a4 \ud37c\uc990; \ud6c4\ub974\uce20\uc7bc for Kakao; \u2605 \uc131\uc778\uc6a9 \ub9de\uace0\uc758 \uc885\uacb0\uc790!! \u2605 \uc7a5\ubaa8\ub2d8\uc758 \ub098\ub77c \ub9de\uace0; Devil Girls; \uc138\uacc4\uc5d0\uc11c \uc81c\uc77c \ube60\ub978 \ub808\ubca8\uc5c5; Forest Life; Pet Fair Village; \ubbf8\ub140\ubcc0\ud638\uc0ac\uc138\ub9ac\ud0b4; \uc5d8\uc18c\ub4dc \uc2a4\ud0ac\ud2b8\ub9ac(\uc544\ub77c); GTA Vice City Cheater; \uc778\ubca0\uc774\ub354\ud5cc\ud130\n"
       ]
      }
     ],
     "prompt_number": 31
    },
    {
     "cell_type": "code",
     "collapsed": false,
     "input": [
      "'''\n",
      "import pandas as pd\n",
      "import pickle\n",
      "\n",
      "app_name = apps.loc[:,['name']]\n",
      "\n",
      "def load(fname):\n",
      "    # load the file using std open\n",
      "    f = open(fname,'r')\n",
      "\n",
      "    data = []\n",
      "    for line in f.readlines():\n",
      "        data.append(line.replace('\\n','').split(','))\n",
      "        \n",
      "    f.close()\n",
      "\n",
      "    return data\n",
      "'''"
     ],
     "language": "python",
     "metadata": {},
     "outputs": [],
     "prompt_number": 15
    },
    {
     "cell_type": "markdown",
     "metadata": {},
     "source": [
      "#keywords, keyword ADD"
     ]
    },
    {
     "cell_type": "code",
     "collapsed": false,
     "input": [
      "key = load('sw_maestro_data_mining/Min/3clustering/Keyword.txt')\n",
      "keywords = []\n",
      "for c in key[0]:\n",
      "    keywords.append('+' + '\"'+c.replace(\" \", \"\")+'\"')\n",
      "\n",
      "\n",
      "print ' '.join(keywords)"
     ],
     "language": "python",
     "metadata": {},
     "outputs": [
      {
       "output_type": "stream",
       "stream": "stdout",
       "text": [
        "+\"\ud37c\uc990\" +\"\uce90\uc8fc\uc5bc\" +\"\uc544\ucf00\uc774\ub4dc\" +\"\uacf5\ub7b5\" +\"\ub808\uc774\uc2f1\" +\"RPG\" +\"\uce74\ub4dc\" +\"\uc131\uc778\" +\"\ub514\ud39c\uc2a4\" +\"\ub450\ub1cc\" +\"\uc2dc\ubbac\" +\"\ub2ec\ub9ac\uae30\" +\"\uc288\ud305\" +\"\ucd95\uad6c\" +\"\uacbd\uc601\" +\"\ud0c0\uc774\ucfe4\" +\"\ud0c8\ucd9c\" +\"\ucd94\ub9ac\" +\"\uc7a5\uae30\" +\"\ube44\ud589\uae30\" +\"\uc0ac\ucc9c\uc131\" +\"\uc2a4\ud3ec\uce20\" +\"\ub18d\uad6c\" +\"\ub09a\uc2dc\" +\"\uc74c\uc545\" +\"\uce74\ud1a1\" +\"\uace8\ud504\" +\"\ub2f9\uad6c\" +\"\uc57c\uad6c\" +\"\ubcfc\ub9c1\" +\"\ud14c\uc774\uc2a4\" +\"\uc0bc\uad6d\uc9c0\" +\"TCG\" +\"\uc804\uc7c1\" +\"\uac74\uac15\" +\"\uc6b4\ub3d9\" +\"\uad50\uc721\" +\"\uad50\ud1b5\" +\"\uae08\uc735\" +\"\ub0a0\uc528\" +\"\ub274\uc2a4\" +\"\uc7a1\uc9c0\" +\"\ub370\ucf54\ub808\uc774\uc158\" +\"\ub3c4\uad6c\" +\"\ub3c4\uc11c\" +\"\ucc38\uace0\uc790\ub8cc\" +\"\ub77c\uc774\ube0c\" +\"\ubc30\uacbd\ud654\uba74\" +\"\ub77c\uc774\ube0c\ub7ec\ub9ac\" +\"\ub370\ubaa8\" +\"\ub77c\uc774\ud504\uc2a4\ud0c0\uc77c\" +\"\ub9cc\ud654\" +\"\ubbf8\ub514\uc5b4\" +\"\ub3d9\uc601\uc0c1\" +\"\ube44\uc988\ub2c8\uc2a4\" +\"\uc0ac\uc9c4\" +\"\uc0dd\uc0b0\uc131\" +\"\uc18c\uc15c\" +\"\ucf58\ud150\uce20\" +\"\uc1fc\ud551\" +\"\uc704\uc82f\" +\"\uc790\ub3d9\ucc28\" +\"\uacbd\uc8fc\" +\"\ub2e4\uc774\uc5b4\ud2b8\" +\"\ub2ec\ub825\" +\"\uc0dd\ub9ac\" +\"\uce98\ub9b0\ub354\" +\"\uc0ac\uc8fc\ud314\uc790\" +\"\uad81\ud569\" +\"\uccb4\uc911\" +\"\uc0ac\uc804\" +\"\ucef4\ud4e8\ud130\" +\"\ubc31\uacfc\uc0ac\uc804\" +\"\uae09\uc2dd\" +\"\ud559\uad50\" +\"\ucd08\ub4f1\ud559\uad50\" +\"\uc911\ud559\uad50\" +\"\uace0\ub4f1\ud559\uad50\" +\"\ub300\ud559\uad50\" +\"Korea\" +\"\ub124\ube44\uac8c\uc774\uc158\" +\"\uc9c0\ud558\ucca0\" +\"\uc885\uacb0\uc790\" +\"\ub0b4\ube44\" +\"\uac00\uacc4\ubd80\" +\"Money\" +\"\uc2a4\ub9c8\ud2b8\" +\"\uacc4\uc0b0\uae30\" +\"\uc740\ud589\" +\"\uac80\uc0c9\uc5b4\" +\"\uc2e4\uc2dc\uac04\" +\"\uc2e0\ubb38\" +\"\ud074\ub798\uc2dd\" +\"\ub7f0\ucc98\" +\"\uc8fc\uc18c\ub85d\" +\"\ud3f0\" +\"\ubc14\uc774\ub7ec\uc2a4\" +\"\ubcf4\uc548\" +\"\uc131\uacbd\" +\"\ucc2c\uc1a1\" +\"\ubc14\uc774\ube14\" +\"\ubc31\uc2e0\" +\"\uc6f9\" +\"\uc2a4\ud2f0\ucee4\" +\"\uc0ac\uc8fc\" +\"\uc6b4\uc138\" +\"\ucf54\ubbf9\" +\"3D\" +\"\ubcc4\uc790\ub9ac\" +\"tool\" +\"\uc6f9\ud230\" +\"sex\" +\"\ud50c\ub808\uc774\uc5b4\" +\"\uce74\uba54\ub77c\" +\"\ubca8\uc18c\ub9ac\" +\"\uc57c\ub3d9\" +\"\ud55c\uae00\" +\"\uc624\ud53c\uc2a4\" +\"offic\" +\"\uc54c\ubc14\" +\"photo\" +\"\ub4dc\ub77c\uc774\ube0c\" +\"\ud30c\uc77c\" +\"\uac24\ub7ec\ub9ac\" +\"\uadf8\ub8f9\" +\"\ubc14\ucf54\ub4dc\" +\"\uc2a4\uce90\ub108\" +\"\uc18c\uc15c\ucee4\uba38\uc2a4\" +\"\uc18c\uc15c\"\n"
       ]
      }
     ],
     "prompt_number": 81
    },
    {
     "cell_type": "code",
     "collapsed": false,
     "input": [],
     "language": "python",
     "metadata": {},
     "outputs": [],
     "prompt_number": 55
    },
    {
     "cell_type": "markdown",
     "metadata": {},
     "source": [
      "#Naver crawler... q\ub294 \ucc3e\uace0\uc790 \ud558\ub294 key \uac12\uc774\uace0, result\ub294 \uac80\uc0c9\ub41c \uc218"
     ]
    },
    {
     "cell_type": "code",
     "collapsed": false,
     "input": [
      "def getNumberOfNaverSearchResult(q):\n",
      "    q='+'.join(q.split())\n",
      "    xpath = \"\"\"//div[@id='content']/div[@class='blog section _blogBase']/div[@class='section_head']/span[@class='title_num']\"\"\"\n",
      "    html = requests.get(\"http://cafeblog.search.naver.com/search.naver?where=post&sm=tab_jum&ie=utf8&query=\"+q).text\n",
      "    hx =HtmlXPathSelector(text=html)\n",
      "    items = hx.select(xpath)\n",
      "    inputstr = (items.extract()[0].split()[3]+\"\")\n",
      "    result = int(''.join(re.findall(r'\\d+', inputstr)))\n",
      "    return result\n"
     ],
     "language": "python",
     "metadata": {},
     "outputs": [],
     "prompt_number": 86
    },
    {
     "cell_type": "code",
     "collapsed": false,
     "input": [
      "import sys\n",
      "import re\n",
      "import requests\n",
      "from scrapy.selector import HtmlXPathSelector\n",
      "import time\n",
      "\n",
      "class NaverCrawler(object):\n",
      "    \n",
      "    def __init__(self, searchWordsAsSeries, startIndex=None, endIndex=None): \n",
      "        # 2\ubc88\uc9f8 \ud30c\ub77c\ubbf8\ud130 dataFrame.index\ub97c \ubc1b\ub294\ub2e4.\n",
      "        self.startIndex = startIndex if startIndex != None else 0\n",
      "        self.endIndex = endIndex if endIndex != None else len(searchWordsAsSeries)\n",
      "        self.waitMinute = 0\n",
      "        self.searchWordsAsSeries= searchWordsAsSeries\n",
      "    \n",
      "    def __search(self,q):\n",
      "        \"\"\"\n",
      "        parameter:\n",
      "            q : String for search.\n",
      "        \"\"\"\n",
      "        try:\n",
      "            q='+'.join(q.split())\n",
      "            xpath = \"\"\"//div[@id='content']/div[@class='blog section _blogBase']/div[@class='section_head']/span[@class='title_num']\"\"\"\n",
      "            html = requests.get(\"http://cafeblog.search.naver.com/search.naver?where=post&sm=tab_jum&ie=utf8&query=\"+q).text\n",
      "            hx =HtmlXPathSelector(text=html)\n",
      "            items = hx.select(xpath)\n",
      "            inputstr = (items.extract()[0].split()[3]+\"\")\n",
      "            result = int(''.join(re.findall(r'\\d+', inputstr)))\n",
      "            print result\n",
      "            return result\n",
      "        except:\n",
      "            print \"except 0\"\n",
      "            return 0\n",
      "        \n",
      "    \n",
      "    def __ifError(self,word):\n",
      "        print \"stuck at \"+word\n",
      "        while True:\n",
      "            time.sleep(self.waitMinute*60)\n",
      "            try:\n",
      "                self.__search(word)\n",
      "                print \"sleeping... :  %d\" %(self.waitMinute*60)\n",
      "            except:\n",
      "                self.waitMinute += 1\n",
      "                continue\n",
      "            break\n",
      "        print \"escape!!!\"\n",
      "    \n",
      "    def start(self):\n",
      "        for index in range(self.startIndex,self.endIndex):\n",
      "            word = self.searchWordsAsSeries[index]\n",
      "            try:             \n",
      "                set_query_count('+'.join(word.split()),self.__search(word))\n",
      "            except: # Naver\uc5d0\uc11c \ud06c\ub864\ub7ec \ube14\ub7ed.\n",
      "                print \"stuck index: %d, %s \"%index, word\n",
      "                self.__ifError(word)\n",
      "            if index % 100 ==0 and index!=0:\n",
      "                print \"pass 100 : %d\"%index\n",
      "        print \"doneait\"\n",
      "                "
     ],
     "language": "python",
     "metadata": {},
     "outputs": [],
     "prompt_number": 88
    },
    {
     "cell_type": "markdown",
     "metadata": {},
     "source": [
      "#Database Management"
     ]
    },
    {
     "cell_type": "code",
     "collapsed": false,
     "input": [
      "class DatabaseManager():\n",
      "\n",
      "    __BaseObj__ = declarative_base()\n",
      "    __db__ = create_engine('postgresql://soma:maestro@)!#@soma1.buzzni.com/application')\n",
      "    __Session__ = sessionmaker(bind=__db__)\n",
      "    #__s__ = __Session__()\n",
      "\n",
      "    #__db__.echo = False  # Try changing this to True and see what happens\n",
      "    #__metadata__ = MetaData(__db__)\n",
      "\n",
      "\n",
      "    class Cache_query(__BaseObj__):\n",
      "        __tablename__ = 'query_freq'\n",
      "        query = Column('query', String(100), primary_key=True)\n",
      "        num = Column('num', Integer)\n",
      "        update_date = Column('update_date', Date(),default=datetime.now(), onupdate=datetime.now())\n",
      "        def __init__(self,query,num):\n",
      "            self.query=query\n",
      "            self.num=num\n",
      "\n",
      "    class Cache_pmi(__BaseObj__):\n",
      "        __tablename__ = 'app_keyword_pmi'\n",
      "        app_name = Column('app_name', String(100), primary_key=True)\n",
      "        keyword = Column('keyword', String(100), primary_key=True)\n",
      "        pmi = Column('pmi', Float)\n",
      "        update_date = Column('update_date', Date(),default=datetime.now(), onupdate=datetime.now())\n",
      "        def __init__(self,app_name,keyword,pmi):\n",
      "            self.app_name=app_name\n",
      "            self.keyword=keyword\n",
      "            self.pmi=pmi\n",
      "\n",
      "\n",
      "    @staticmethod\n",
      "    def create_table():\n",
      "        '''\n",
      "        recreate a new table.\n",
      "        '''\n",
      "        if DatabaseManager.__db__.dialect.has_table(DatabaseManager.__db__.connect(), \"query_freq\"):\n",
      "            DatabaseManager.__db__.execute(\"drop table query_freq;\")\n",
      "        metadata = DatabaseManager.Cache_query.metadata\n",
      "        metadata.create_all(DatabaseManager.__db__)\n",
      "\n",
      "\n",
      "    @staticmethod\n",
      "    def get_query_count(query):\n",
      "        s = DatabaseManager.__Session__()\n",
      "        result = s.query(DatabaseManager.Cache_query).filter(DatabaseManager.Cache_query.query==query)\n",
      "        #s.flush()\n",
      "        s.close_all()\n",
      "        if result.count()>0:\n",
      "            return result[0].num\n",
      "        return 0\n",
      "\n",
      "\n",
      "    @staticmethod\n",
      "    def set_query_count(query,count):\n",
      "        s = DatabaseManager.__Session__()\n",
      "        result = s.query(DatabaseManager.Cache_query).filter(DatabaseManager.Cache_query.query==query)\n",
      "\n",
      "        if result.count()>0:\n",
      "            result[0].num = count\n",
      "        else:\n",
      "            s.add(DatabaseManager.Cache_query(query,count))\n",
      "        s.commit()\n",
      "        s.close_all()\n",
      "\n",
      "    @staticmethod\n",
      "    def get_app_keyword_pmi(app_name, keyword):\n",
      "        s = DatabaseManager.__Session__()\n",
      "        result = s.query(DatabaseManager.Cache_pmi).\\\n",
      "            filter(DatabaseManager.Cache_pmi.app_name==app_name).\\\n",
      "            filter(DatabaseManager.Cache_pmi.keyword==keyword)\n",
      "        if result.count()>0:\n",
      "            return result[0].pmi\n",
      "        return 0\n",
      "\n",
      "    \n",
      "    @staticmethod\n",
      "    def set_app_keyword_pmi(app_name, keyword, pmi):\n",
      "        s = DatabaseManager.__Session__()\n",
      "        result = s.query(DatabaseManager.Cache_pmi).\\\n",
      "            filter(DatabaseManager.Cache_pmi.app_name==app_name).\\\n",
      "            filter(DatabaseManager.Cache_pmi.keyword==keyword)\n",
      "        \n",
      "        \n",
      "        if result.count()>0:\n",
      "            result[0].pmi = pmi\n",
      "        else:\n",
      "            s.add(DatabaseManager.Cache_pmi(app_name, keyword, pmi))\n",
      "        s.commit()\n"
     ],
     "language": "python",
     "metadata": {},
     "outputs": [],
     "prompt_number": 89
    },
    {
     "cell_type": "code",
     "collapsed": false,
     "input": [
      "#assign to Pack\n",
      "\n",
      "def createPMIDataFrame(appNameList, keywordList):\n",
      "    pmi_frame = pd.DataFrame(data=0.0, index=appNameList, columns=keywordList)\n",
      "    return pmi_frame\n",
      "\n",
      "def setPMI(dstFrame, appName, keyword, pmi):\n",
      "    dstFrame.loc[appName, keyword] = pmi\n",
      "    \n",
      "def getPMIFromDF(dstFrame, appName, keyword):\n",
      "    return dstFrame.loc[appName, keyword]\n",
      "\n",
      "def calcPMI(AppScore, KeywordScore, BothScore, nTotalDocs):\n",
      "    val = (AppScore*KeywordScore/(BothScore*nTotalDocs+1))\n",
      "    if val <= 0:\n",
      "        return 0.0\n",
      "    return math.log10(val)\n"
     ],
     "language": "python",
     "metadata": {},
     "outputs": [],
     "prompt_number": 90
    },
    {
     "cell_type": "code",
     "collapsed": false,
     "input": [
      "\n",
      "keyword = \"+\ud558\ub298\"\n",
      "DatabaseManager.set_query_count(keyword, getNumberOfNaverSearchResult(keyword))\n",
      "print DatabaseManager.get_query_count(keyword)\n",
      "#set_query_count(keyword, getNumberOfNaverSearchResult(keyword))\n",
      "#print query_count(keyword)"
     ],
     "language": "python",
     "metadata": {},
     "outputs": [
      {
       "output_type": "stream",
       "stream": "stdout",
       "text": [
        "9137010\n"
       ]
      }
     ],
     "prompt_number": 78
    },
    {
     "cell_type": "code",
     "collapsed": false,
     "input": [
      "df = createPMIDataFrame(n_sort_appname, keywords[:7])"
     ],
     "language": "python",
     "metadata": {},
     "outputs": [],
     "prompt_number": 75
    },
    {
     "cell_type": "code",
     "collapsed": false,
     "input": [
      "ass = pd.DataFrame(n_sort_appname)"
     ],
     "language": "python",
     "metadata": {},
     "outputs": [],
     "prompt_number": 76
    },
    {
     "cell_type": "code",
     "collapsed": false,
     "input": [
      "def getNumberOfNaverSearchResult(q):\n",
      "    q='+'.join(q.split())\n",
      "    xpath = \"\"\"//div[@id='content']/div[@class='blog section _blogBase']/div[@class='section_head']/span[@class='title_num']\"\"\"\n",
      "    html = requests.get(\"http://cafeblog.search.naver.com/search.naver?where=post&sm=tab_jum&ie=utf8&query=\"+q).text\n",
      "    hx =HtmlXPathSelector(text=html)\n",
      "    items = hx.select(xpath)\n",
      "    inputstr = (items.extract()[0].split()[3]+\"\")\n",
      "    result = int(''.join(re.findall(r'\\d+', inputstr)))\n",
      "    return result\n"
     ],
     "language": "python",
     "metadata": {},
     "outputs": [],
     "prompt_number": 91
    },
    {
     "cell_type": "code",
     "collapsed": false,
     "input": [
      "keyword = keywords[:7]\n",
      "searchWordArray = np.array(n_sort_appname)\n",
      "for a in searchWordArray[:3]:\n",
      "    print \"app \\\"%s\\\" start : \\n\" % a\n",
      "    for key in keyword:\n",
      "        print \"\\tkey \\\"%s\\\" start : \" %key\n",
      "        searchApp = [\"\".join(a) + key]\n",
      "        print \"\\n\", str(searchApp)\n",
      "        cw = DatabaseManager.set_query_count(key, getNumberOfNaverSearchResult(searchApp))\n",
      "    print \"real done.\""
     ],
     "language": "python",
     "metadata": {},
     "outputs": [
      {
       "ename": "AttributeError",
       "evalue": "'list' object has no attribute 'split'",
       "output_type": "pyerr",
       "traceback": [
        "\u001b[0;31m---------------------------------------------------------------------------\u001b[0m\n\u001b[0;31mAttributeError\u001b[0m                            Traceback (most recent call last)",
        "\u001b[0;32m<ipython-input-92-fa7950bbb3b5>\u001b[0m in \u001b[0;36m<module>\u001b[0;34m()\u001b[0m\n\u001b[1;32m      7\u001b[0m         \u001b[0msearchApp\u001b[0m \u001b[0;34m=\u001b[0m \u001b[0;34m[\u001b[0m\u001b[0;34m\"\"\u001b[0m\u001b[0;34m.\u001b[0m\u001b[0mjoin\u001b[0m\u001b[0;34m(\u001b[0m\u001b[0ma\u001b[0m\u001b[0;34m)\u001b[0m \u001b[0;34m+\u001b[0m \u001b[0mkey\u001b[0m\u001b[0;34m]\u001b[0m\u001b[0;34m\u001b[0m\u001b[0m\n\u001b[1;32m      8\u001b[0m         \u001b[0;32mprint\u001b[0m \u001b[0;34m\"\\n\"\u001b[0m\u001b[0;34m,\u001b[0m \u001b[0mstr\u001b[0m\u001b[0;34m(\u001b[0m\u001b[0msearchApp\u001b[0m\u001b[0;34m)\u001b[0m\u001b[0;34m\u001b[0m\u001b[0m\n\u001b[0;32m----> 9\u001b[0;31m         \u001b[0mcw\u001b[0m \u001b[0;34m=\u001b[0m \u001b[0mDatabaseManager\u001b[0m\u001b[0;34m.\u001b[0m\u001b[0mset_query_count\u001b[0m\u001b[0;34m(\u001b[0m\u001b[0mkey\u001b[0m\u001b[0;34m,\u001b[0m \u001b[0mgetNumberOfNaverSearchResult\u001b[0m\u001b[0;34m(\u001b[0m\u001b[0msearchApp\u001b[0m\u001b[0;34m)\u001b[0m\u001b[0;34m)\u001b[0m\u001b[0;34m\u001b[0m\u001b[0m\n\u001b[0m\u001b[1;32m     10\u001b[0m     \u001b[0;32mprint\u001b[0m \u001b[0;34m\"real done.\"\u001b[0m\u001b[0;34m\u001b[0m\u001b[0m\n",
        "\u001b[0;32m<ipython-input-91-25b90a54a437>\u001b[0m in \u001b[0;36mgetNumberOfNaverSearchResult\u001b[0;34m(q)\u001b[0m\n\u001b[1;32m      1\u001b[0m \u001b[0;32mdef\u001b[0m \u001b[0mgetNumberOfNaverSearchResult\u001b[0m\u001b[0;34m(\u001b[0m\u001b[0mq\u001b[0m\u001b[0;34m)\u001b[0m\u001b[0;34m:\u001b[0m\u001b[0;34m\u001b[0m\u001b[0m\n\u001b[0;32m----> 2\u001b[0;31m     \u001b[0mq\u001b[0m\u001b[0;34m=\u001b[0m\u001b[0;34m'+'\u001b[0m\u001b[0;34m.\u001b[0m\u001b[0mjoin\u001b[0m\u001b[0;34m(\u001b[0m\u001b[0mq\u001b[0m\u001b[0;34m.\u001b[0m\u001b[0msplit\u001b[0m\u001b[0;34m(\u001b[0m\u001b[0;34m)\u001b[0m\u001b[0;34m)\u001b[0m\u001b[0;34m\u001b[0m\u001b[0m\n\u001b[0m\u001b[1;32m      3\u001b[0m     \u001b[0mxpath\u001b[0m \u001b[0;34m=\u001b[0m \u001b[0;34m\"\"\"//div[@id='content']/div[@class='blog section _blogBase']/div[@class='section_head']/span[@class='title_num']\"\"\"\u001b[0m\u001b[0;34m\u001b[0m\u001b[0m\n\u001b[1;32m      4\u001b[0m     \u001b[0mhtml\u001b[0m \u001b[0;34m=\u001b[0m \u001b[0mrequests\u001b[0m\u001b[0;34m.\u001b[0m\u001b[0mget\u001b[0m\u001b[0;34m(\u001b[0m\u001b[0;34m\"http://cafeblog.search.naver.com/search.naver?where=post&sm=tab_jum&ie=utf8&query=\"\u001b[0m\u001b[0;34m+\u001b[0m\u001b[0mq\u001b[0m\u001b[0;34m)\u001b[0m\u001b[0;34m.\u001b[0m\u001b[0mtext\u001b[0m\u001b[0;34m\u001b[0m\u001b[0m\n\u001b[1;32m      5\u001b[0m     \u001b[0mhx\u001b[0m \u001b[0;34m=\u001b[0m\u001b[0mHtmlXPathSelector\u001b[0m\u001b[0;34m(\u001b[0m\u001b[0mtext\u001b[0m\u001b[0;34m=\u001b[0m\u001b[0mhtml\u001b[0m\u001b[0;34m)\u001b[0m\u001b[0;34m\u001b[0m\u001b[0m\n",
        "\u001b[0;31mAttributeError\u001b[0m: 'list' object has no attribute 'split'"
       ]
      },
      {
       "output_type": "stream",
       "stream": "stdout",
       "text": [
        "app \"RealPresence Mobile - Tablet\" start : \n",
        "\n",
        "\tkey \"+\"\ud37c\uc990\"\" start : \n",
        "\n",
        "['RealPresence Mobile - Tablet+\"\\xed\\x8d\\xbc\\xec\\xa6\\x90\"']\n"
       ]
      }
     ],
     "prompt_number": 92
    },
    {
     "cell_type": "code",
     "collapsed": false,
     "input": [],
     "language": "python",
     "metadata": {},
     "outputs": []
    }
   ],
   "metadata": {}
  }
 ]
}