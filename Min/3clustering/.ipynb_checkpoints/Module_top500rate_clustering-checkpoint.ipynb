{
 "metadata": {
  "name": ""
 },
 "nbformat": 3,
 "nbformat_minor": 0,
 "worksheets": [
  {
   "cells": [
    {
     "cell_type": "code",
     "collapsed": false,
     "input": [
      "#import DatabaseManager as dbm\n",
      "import re\n",
      "import time\n",
      "import math\n",
      "\n",
      "import requests\n",
      "from scrapy.selector import HtmlXPathSelector\n",
      "\n",
      "from datetime import datetime\n",
      "def _get_date():\n",
      "    return datetime.datetime.now()\n",
      "from sqlalchemy import *\n",
      "db = create_engine('postgresql://soma:maestro@)!#@soma1.buzzni.com/application')\n",
      "\n",
      "from sqlalchemy.orm import sessionmaker\n",
      "from sqlalchemy.ext.declarative import declarative_base\n",
      "BaseObj = declarative_base()\n",
      "        \n",
      "db.echo = False  # Try changing this to True and see what happens\n",
      "metadata = MetaData(db)\n",
      "\n",
      "import DatabaseManager\n"
     ],
     "language": "python",
     "metadata": {},
     "outputs": [],
     "prompt_number": 4
    },
    {
     "cell_type": "code",
     "collapsed": false,
     "input": [
      "cd"
     ],
     "language": "python",
     "metadata": {},
     "outputs": [
      {
       "output_type": "stream",
       "stream": "stdout",
       "text": [
        "/Users/jeongmingi\n"
       ]
      }
     ],
     "prompt_number": 5
    },
    {
     "cell_type": "code",
     "collapsed": false,
     "input": [
      "import pandas as pd\n",
      "import pickle\n",
      "import numpy as np\n",
      "apps =  pd.load('desktop/data/app_info2.df')\n"
     ],
     "language": "python",
     "metadata": {},
     "outputs": [],
     "prompt_number": 6
    },
    {
     "cell_type": "markdown",
     "metadata": {},
     "source": [
      "#n_sort_appname, APPS TOP 500 RATE ADD"
     ]
    },
    {
     "cell_type": "code",
     "collapsed": false,
     "input": [
      "arg_ =  np.array(apps.rate_num_all.argsort())"
     ],
     "language": "python",
     "metadata": {},
     "outputs": [],
     "prompt_number": 19
    },
    {
     "cell_type": "code",
     "collapsed": false,
     "input": [
      "n_ = 5000\n",
      "n_sort_ = arg_[(-1)*n_-1: -1]\n",
      "n_sort_appname = []\n",
      "for i in range(n_):\n",
      "    n_sort_appname.append(apps.ix[n_sort_[n_-i-1]]['name'])"
     ],
     "language": "python",
     "metadata": {},
     "outputs": [],
     "prompt_number": 20
    },
    {
     "cell_type": "code",
     "collapsed": false,
     "input": [
      "print ''.join(n_sort_appname)"
     ],
     "language": "python",
     "metadata": {},
     "outputs": [
      {
       "output_type": "stream",
       "stream": "stdout",
       "text": [
        "InstagramWhatsApp Messenger\ub4dc\ub798\uace4 \ud50c\ub77c\uc774\ud2b8 for Kakao\uc9c0\ub3c4Candy Crush Saga\ub2e4\ud568\uaed8 \ucc28\ucc28\ucc28 for KakaoAngry BirdsSubway Surfers\ud50c\ub798\uc26c\ub77c\uc774\ud2b8 - Tiny Flashlight \u00ae\uc708\ub4dc\ub7ec\ub108 for KakaoYouTube\ucfe0\ud0a4\ub7f0 for KakaoGO \ub7f0\ucc98 EX (GO Launcher EX)Words With Friends FreeTemple RunSkypeViber\uce74\uce74\uc624\ud1a1 KakaoTalkDolphin BrowserTwitterPandora\u00ae internet radio\ubaa8\ub450\uc758\ub9c8\ube14 for KakaoOpera Mini \uc6f9 \ube0c\ub77c\uc6b0\uc800\uba54\uc2e0\uc800\ub77c\uc778 LINE\ube0c\ub77c\uc774\ud2f0\uc2a4\ud2b8 \ud50c\ub798\uc2dc\ub77c\uc774\ud2b8 \ubb34\ub8ccPicsArt - Photo Studio\uce94\ub514\ud321 for KakaoPouLive Holdem Poker Pro\ubaa8\ub450\uc758 \uac8c\uc784 for KakaoDrag Racing\ubb34\ub8cc\ub85c \uc74c\uc545\uc744 \ub2e4\uc6b4\ub85c\ub4dcParadise IslandAngry Birds SeasonsEasy Battery Saver\ud0f1\uace0 \ud14d\uc2a4\ud2b8, \uc601\uc0c1 \ubc0f \uc74c\uc131 \ud1b5\ud654\ub2e4\ud568\uaed8 \ud401\ud401\ud401 for KakaoTemple Run 2Hill Climb RacingDraw Something Free\uc131\uacbdAdobe Flash Player 11Fruit Ninja Free\uc288\ud37c\ubc30\ub4dcAngry Birds RioBubble Blast 2GmailGO SMS ProEvernoteTap Fish\uc0dd\uc950 (Mouse)\ub0b4\ubaa8\ubc14\uc77c \uce98\ub9b0\ub354 FreeZEDGE\u2122Angry Birds Space\uc548\ud2f0 \ubc14\uc774\ub7ec\uc2a4 \ubb34\ub8cc\uc0ac\uc9c4 \uc228\uae30\uae30 - KeepSafe Vault \uc0ac\uc9c4 \uc7a0\uae08Badoo \u2013 \uc0c8\ub85c\uc6b4 \ub9cc\ub0a8\uc758 \uc2dc\uc791101 \ubbf8\ub2c8\uac8c\uc784\uc988FRONTLINE COMMANDOWeChat\ud65c for Kakao\ub9d0\ud558\ub294 \uace0\uc591\uc774 \ud1b0 \ubb34\ub8cc\uc544\uc774\uc2a4 \uc5d0\uc774\uc9c0: \ube4c\ub9ac\uc9c0Google \uc9c0\ub3c4 \uc2a4\ud2b8\ub9ac\ud2b8 \ubdf0\ud3f0\uafb8\ubbf8\uae30\uc5b4\ud50c\ucc9c\uad6d (\uce74\uce74\uc624\ud1a1/\ub3c4\ub3cc\ub7f0\ucc98/\uace0\ub77d\ucee4/\ud3f0\ud2b8/\uc6f9\ud230)4 Pics 1 WordGoogle \ubc88\uc5ed\uac1c\ubbf8 \uaca9\ud30c \ucd5c\uace0\uc758 \ubb34\ub8cc \uac8c\uc784 \uc7ac\ubbf8Jewels StarHandcent SMSLogo Quiz\ub9d0\ud558\ub294 \uace0\uc591\uc774 \ud1b0 2 \ubb34\ub8ccShazamWordfeud FREEMX \ud50c\ub808\uc774\uc5b4\uc2ec\uc988 \ud504\ub9ac\ud50c\ub808\uc774Coin DozerLookout \ubcf4\uc548 \ubc14\uc774\ub7ec\uc2a4 \ubc31\uc2e0(Antivirus)Advanced Task KillerSmurfs' VillageOpera \ube0c\ub77c\uc6b0\uc8004 Pics 1 Word\ubc27\ub370\ub9ac - BatteryChrome \ube0c\ub77c\uc6b0\uc800 - GoogleNetflix\ud2b8\uc704\ud130\uc5d0 \ub300\ud55c TweetCaster\uc2a4\uc650\ud53c (Where\u2019s My Water?) \ubb34\ub8ccMovies by FlixsterGoogle+Waze social GPS traffic & gas\uc6b0\ud30c\ub8e8\ub9c8\uc6b4\ud2f4 for KakaoReal BlackJack 21 FREE\uc194\ub9ac\ud14c\uc5b4Photo Grid HDDiamond DashReal Football 2012Scramble With Friends Free[\ub9f5\ucd94\uac00] \ubc88\uc2dd\uc804\uc7c1 (sperm wars)My Horse\ucef4\ud22c\uc2a4 \ud648\ub7f0\uc655 for Kakao\uc544\uc2a4\ud2b8\ub85c \ud30c\uc77c \uad00\ub9ac\uc790\uc2ec\uc2a8\uac00\uc871\u2122 Springfield\ubc30\uacbd\ud654\uba74Blast MonkeysLINE WIND runner\ub9d0\ud558\ub294 \uc9c4\uc800 - Talking Ginger4sharedAdobe ReaderAirport CityGasBuddy - Find Cheap Gasavast! \ubaa8\ubc14\uc77c \ubc31\uc2e0FirefoxGoogle SearchBunny Shooter\ubc30\uacbd\ud654\uba74 HD (\ub3c4\ub3cc\ub7f0\ucc98/\uce74\uce74\uc624\ud648/\uace0\ub7f0\ucc98/\ubc30\uacbd\ud654\uba74)Slotomania - slot machinesETERNITY WARRIORS 2\uc5ec\uc131\uc0dd\ub9ac\ub2ec\ub825/\uce98\ub9b0\ub354/\uc0dd\ub9ac\uc77c\uae30\ud0c0\uc774\ub2c8\ud31c (Tiny Farm)\uc190\uc804\ub4f1Move the BoxBLOOD & GLORY (NR)\ubc14\ucf54\ub4dc \uc2a4\uce90\ub108\ube14\ub7ec\ub4dc & \uae00\ub85c\ub9acZynga PokerJetpack Joyride\uce74\ud230\uc6cc\uc988Angry Birds Star Wars\ub514\uc9c0\ud138 \ubc30\ud130\ub9ac \uc54c\ub9bcTuneIn RadioES \ud30c\uc77c \ud0d0\uc0c9\uae30SAMURAI vs ZOMBIES DEFENSE\uc774\ub178\ud2f0\uc544 \uc5f0\ub300\uae303Bike Race Free - Top Free GameFruit SliceYahoo! MailThe Weather Channel\uc9c0\ucf1c\uc918! \ub3d9\ubb3c\ud2b9\uacf5\ub300 for KakaoRope Escape\uc5d0\ube0c\ub9ac\ud0c0\uc6b4 for KakaoHoroscopeOfficial eBay Android AppPoweramp Music Player (Trial)DropboxKik MessengerChess FreeThe TribezRaging Thunder 2 - FREESongPop Free\ubaa8\ub450\uc758 \ud034\uc988 - \uc0ac\uc9c4\uc5f0\uc0c1 \ub2e8\uc5b4GO\ub77d\ucee4\ud1f4\uc9c1\ud55c \ub9c8\ubc95\uc0ac \uc774\uc57c\uae30\uc548\ub4dc\ub85c\uc774\ub4dc\uc5d0 \ub300\ud55c AccuWeatherVaulty\uc758 \uc0ac\uc9c4 \uc228\uae30\uae30Calorie Counter - MyFitnessPalDictionary.com\uc2ac\ub77c\uc774\uc2a4 \uc787! (Slice It!)\uc2a4\uce74\uc774 \ub9f5Basketball Shoot\uc6cc\uc2a4\ud1a0\ub9ac for KakaoBeat the Boss 2Racing MotoTiny VillageMP3 \uc74c\uc545 \ub2e4\uc6b4\ub85c\ub4dcGO\ub0a0\uc528EXLauncherPro\ub4dc\ub798\uace4\ube4c\ub9ac\uc9c0\ud648\ub7f0\ubc30\ud2c02 (Homerun Battle 2)\ub9d0\ub2ec\ub9ac\uc790 for Kakao\uc774\ub178\ud2f0\uc544 4 (Inotia 4)\ud53c\uc26c\uc544\uc77c\ub79c\ub4dc - Fish IslandSkater BoyMP3 \ubca8\uc18c\ub9ac \uba54\uc774\ucee4Easy Task Killer AdvancedHide It Pro\uac00\uc7a5 \ubc1d\uc740 LED \uc190\uc804\ub4f1\ud130\uce58\ud30c\uc774\ud130 for Kakao\uc8fc\ud589\uc758 \ub2ec\uc778\uc544\uc774\uc5b8\ub9e8 3 \u2013 \uc601\ud654 \uacf5\uc2dd \uac8c\uc784Slot City - Slot MachinesBeat the Boss\uc74c\uc131\uac80\uc0c9Clouds & Sheep\uac04\ub2e8\ud55c MP3 \ub2e4\uc6b4\ub85c\ub354Mp3 Music Search & Download\ud53c\uc26c\ud504\ub80c\uc988 for KakaoRule the Sky\ubc30\ud130\ub9ac HDPinterestPlague Inc.Flipboard: \uc5ec\ub7ec\ubd84\uc758 \uc18c\uc15c \ub274\uc2a4 \ub9e4\uac70\uc9c4\ud504\ub7f0\ud2b8\ub77c\uc778 \ucf54\ub9cc\ub3c4: D-daySpeechSynthesis Data Installer\ub9c8\uad6c\ub9c8\uad6c2013 for Kakao\uba4b\uc9c4 \ubc30\uacbd \ud654\uba74\uc758 HDCamera360 Ultimate\uc544\ucfe0\uc758 \ud37c\uc990\ud328\ubc00\ub9ac for KakaoMeetMe - Meet New PeopleGT Racing: Motor Academy Free+9\uc774\ub2dd\uc2a4: 2013\ud504\ub85c\uc57c\uad6c\ud380\uce58\ud788\uc5b4\ub85c\ucee8\ud2b8\ub799\ud2b8 \ud0ac\ub7ec(\uccad\ubd80 \uc0b4\uc778\uc790)\ubc30\uacbd \ud654\uba74 - \ubc30\uacbd \uadf8\ub9bc \ubc30\uacbd\ud654\uba74 BackgroundsGO \ud0a4\ubcf4\ub4dcAlchemy\uce74\uce74\uc624\uc2a4\ud1a0\ub9ac KakaoStorySoundHoundDEAD TRIGGERBLOOD & GLORY: LEGEND\uc2dd\uc2a4\uac74Tagged - Meet New PeopleMy CountryTank HeroGo!Chat for FacebookFamily Feud\u00ae & FriendsYoo Ninja! FreeTexas HoldEm Poker Deluxe\ub808\uc2a4\ud1a0\ub791 \uc2a4\ud1a0\ub9ac\u2122\ud788\uc5b4\ub85c\uc988\uc6cc for Kakao\uc624\ube10\ube0c\ub808\uc774\ud06cSkyvi (Siri for Android)eBuddy \uba54\uc2e0\uc800\ub85c\ubbf8\ub2c8\ubaa8\ud130\ub808\uc774\uc2f1 for Kakao\ubca0\uc774\ucee4\ub9ac \uc2a4\ud1a0\ub9ac\u2122\ub0a0\uc544\ub77c \ud32c\ub354 \ube44\ud589\ub2e8 for KakaoThe Sims\u2122 FreePlayDu\ubc30\ud130\ub9ac \uc138\uc774\ubc84 - \uc815\ubcf4+\uc704\uc82f - \ubc30\ud130\ub9ac \uc218\uba85\uc5f0\uc7a5\uc744\uceec\ub7ec\ub178\ud2b8 \uba54\ubaa8\uc7a5 - \ub178\ud2b8 \uba54\ubaa8 \uc704\uc82f\uc774\ud130\ub2c8\ud2f0\uc6cc\ub9ac\uc5b4\uc2a42Blood Brothers (RPG)JuiceDefender - battery saverMega Jump\ub2e4\ud568\uaed8 \uc0bc\uad6d\uc9c0 for KakaoReal BasketballFlow FreeTalkBackMinecraft - Pocket Ed. DemoYahoo! Messenger\ub2e4\ud06c\uc5b4\ubca4\uc800\uc560\ub2c8\ud321 \uc0ac\ucc9c\uc131 for KakaoVectorEnchanted RealmSlot Machines by IGGLINE HIDDEN CATCHMy Railway\uac04\ud3b8\ud55c \uc7a0\uae08AppLock\ub2f9\uad6c - Pool Billiards Pro\ubc84\uac70ALL NEW \ubc29\ud0c8\ucd9cDEER HUNTER RELOADED\uc5b4\ud50c \uc7a0\uae08 (Perfect App Lock) - \ubb34\ub8ccStrip Poker - Eva AngelinaRingdroidGUN BROS MULTIPLAYERPaper TossSudoku FreeCONTRACT KILLER: ZOMBIES (NR)\uc624\ub9ac\uac74 \ud2b8\ub808\uc77c: \uc11c\ubd80 \uac1c\ucc99\uc790\ub124\uc774\ubc84 - NaverGroupon - Daily Deals, Coupons\uc218\uc871\uad00\uc740 Fish LiveWinamp\ube44\ud589 \ucee8\ud2b8\ub864 Lite\uc190\uc804\ub4f1 - Flashlight LED\uc81c\ub178\ub2c8\uc5444Cut the Rope FULL FREETop Eleven \u2013 \ucd95\uad6c \uac10\ub3c5\ub9d0\ud558\ub294 \uac1c, \ubca4 - Talking Ben Free\uc0ac\ub77c\uc9d0 \ub09a\uc2dc : \ud2b8\ub85c\ud53c \uce90\uce58NinJump\u30b1\u30ea\u59eb\u30b9\u30a4\u30fc\u30c4VKontakte\ub2e4\ud568\uaed8 \uace0\uace0\uace0 for KakaoReal Football 2013Skyfire Web Browser 4.0\uc5d0\uc5b4\ud5cc\ud130 for Kakao\uc29b\ubc84\ube14 Shoot Bubble Deluxe\ub2e4\uac19\uc774 \uce7c\uce7c\uce7c for Kakao\ub514\ud39c\ub354IIWorld NewspapersSkout - \ucc44\ud305, \ub9cc\ub0a8, \uc5f0\uc560JewelsToss It\uc54c\ub78c\uc2dc\uacc4 (Alarm Clock) Xtreme FreeBad PiggiesGoogle Play MusicQuickPic\uc6d4\ub4dc \uc573 \uc554\uc988Google \uc5b4\uc2a4Bubble Shooter\uc81c\ub178\ub2c8\uc5445Mystery ManorSeesmic (Facebook, Twitter)Adobe AIR\ud0ed\uc18c\ub2c9 \ub9c1\uc2a4\ud0c0 for KakaoDr.Web Anti-virus LightZello Walkie Talkie\ud3ed\ud589\ubaac\uc2a4\ud130100 Floors\uc0ac\ubb34\ub77c\uc774 vs \uc880\ube44 2WeatherBugMajor Mayhem\ud0c0\uc6cc \ub514\ud39c\uc2a4 (Tower Defense)Titanium Backup \u2605 rootHungry Shark EvolutionooVoo \ube44\ub514\uc624 \ud638\ucd9cFoursquareDragonplay Poker-Texas Hold'emTiKL - \ud130\uce58 (PTT) \ud1a0\ud06cBackgrounds HD Wallpapers\uce90\uc2ac\ub9c8\uc2a4\ud130 (Castle Master) 3DKindleSpotify\uc544\ud504\ub9ac\uce74TV - AfreecaTV (Korean)Nimbuzz Messenger\ube45 \ud0c0\uc784 \uac31\uc2a4\ud0c0Benji BananasAdvanced Task Manager - Killer\ucef4\ud22c\uc2a4\ud504\ub85c\uc57c\uad6c2013Domino's Pizza USABMX BoyWhere's My Perry? FreeIMDb \uc601\ud654 & TV\ubca8365 - \ubb34\ub8cc\ubca8\uc18c\ub9ac,\uceec\ub7ec\ub9c1,\ubb38\uc790\uc74c,mp3\uce74\ud230\uc6cc\uc988 \uac70\ub108PhotoWonder\ubcfc\ub9c1 3D BowlingRobo Defense FREEJewels Maze!FxCameraJewels Legend\ub9ac\ud2c0 \uc9c0\ud718\uad00 - \uc138\uacc4 \ub300\uc804 II \ud0c0\uc6cc \uad6d\ubc29Mini Golf MatchUp\u21222013\ud504\ub85c\uc57c\uad6cTiny Tower\uc2a4\uc650\ud53c(Swampy) Where Is My Water?Backgammon Free\uc2ec\uc2ec\uc774\ub808\uce20\uace8\ud504 3DefenderAngry Words (Apalabrados)My HoroscopeJewels Deluxe\ub358\uc804 \ud5cc\ud130 4\ub0b4 \uce98\ub9b0\ub354 BetaNinja Chicken\ud504\ub7f0\ud2b8\ub77c\uc778 \ucf54\ub9cc\ub3c4\uace0\uc591\uc774\uc804\uc7c12Agent DashVirtual City Playground\ube59\uace0 \ucc9c\uad6d - \ubb34\ub8cc \ube59\uace0 \uac8c\uc784\uc560\ub2c8\ud321 for Kakao\ud328\uc158 \uc2a4\ud1a0\ub9ac\u2122\ud68c\uc0c9\ub3c4\uc2dc for KakaoGuess That Song - Music QuizBattery WidgetMinecraft - Pocket Edition\uce74\uce74\uc624\ud1a1 \ud14c\ub9c8 \ub9cc\ub4e4\uae30 - \uce74\ud14c\ub9ccZombie FrontierSpeedCarSniper Shooter Free - Fun Game\ub9ac\uc5bc\uc0ac\ucee4 2012Truecaller - Global directoryMegapolisTripAdvisorGoogle GogglesReal Racing 3\ub85c\ube48\uc2a8History Eraser (\uae30\ub85d\ubb3c \uc0ad\uc81c\uae30)ROM ManagerTreasure Looter\ud310\ud0c0\uc9c0\ub7ec\ub108\uc988 for Kakaosp\u30e2\u30fc\u30c9\u30e1\u30fc\u30eb\ub7ec\ub2dd\ub3c5 for KakaochompSMSiRunner4 Pics 1 Word Puzzle PlusAssaulterDrag Racing: Bike Edition\ub18d\uad6c \uc29bGun & Blood\uc544\uc2a4\ud314\ud2b8 7: \ud788\ud2b8Cut the Rope: Experiments FREE\ub77c\uc778 \uce74\uba54\ub77c LINE cameraAge of Warring EmpireHotel Story\uc0bc\uad6d\uc9c0 \ub514\ud39c\uc2a4 2RealPlayer\u00aeSmart App Protector(\uc571 \uc7a0\uae08)Cartoon CameraFriendcaster for Facebook\ubaa8\uc544\ubaa8\uc544\uc6a9 for KakaoSpeedMotoDragon, Fly! FreeUnblock Me FREERail RushBluetooth File TransferCritical Strike Portable\ub3c4\uc804! \uac00\uc694\uc655 \uc2dc\uc98c2 for KakaoMonsterama ParkSudoku FreeGuns'n'Glory WW2DiversionHow to Tie a Tie\ubbf8\ub2c8\uae30\uc5b4\uc988 for Kakao\uce74\ud2b8\ub77c\uc774\ub354 \ucf54\uc778\ub7ec\uc26c for Kakao\ub358\uc804 \ud5cc\ud130 3CONTRACT KILLER 2LINE Pokopang\uc7ac\ud32c \ub77c\uc774\ud504\ud3f0\ud14c\ub9c8\uc0f5 (\ubc30\uacbd/\ub3c4\ub3cc\ub7f0\ucc98/\uce74\uce74\uc624\ud648/\ub77d\ucee4/\ubca8\uc18c\ub9ac/\ud3f0\ud2b8)Brain Age Test  FreeVault-Hide SMS ,Pics & VideosBUG VILLAGEPumpkins vs. Monsters\uac74\uc880\ube44 : \ud5ec\uac8c\uc774\ud2b8 GUN ZOMBIE:HELLGATE\ub9d0\ud558\ub294 \uc0b0\ud0c0Voxer \uc6cc\ud0a4\ud1a0\ud0a4 Walkie Talkie PTTThe Simpsons\u2122: Tapped Out\uce74\ud230\uc6cc\uc9882\uc0ac\uc0c1 \uac00\uc7a5 \uc5b4\ub824\uc6b4 \uac8c\uc784 2\ud53c\uc2f1\ub9c8\uc2a4\ud130CONTRACT KILLER: ZOMBIESRaging Thunder - FREESTARDOM: THE A-LISTdoubleTwist Player\ubaac\uc2a4\ud130 \ube14\ub808\uc774\ub4dc\ubaac\uc2a4\ud130\uc6cc\ub85c\ub4dcWhat's the Word: 4 pics 1 word\u7bc0\u96fb\u266a\u9577\u6301\u3061\u30d0\u30c3\u30c6\u30ea\u30fc\uff08\u96fb\u6c60\u7bc0\u7d04\uff06\u6b8b\u91cf\u7ba1\u7406\uff06\u30b9\u30de\u30db\u6700\u9069\u5316\uff09What\u2019s the Phrase Free\ubaa8\ub450\uc758 \ud0d5\ud0d5\ud0d5 for Kakao\uac70\uc6b8UC Browser-choice after Chrome\ub18d\uc7a5 \uc2a4\ud1a0\ub9ac\u2122Angry Gran Run - Running GameBig Business\ud56b\uba54\uc77cJorte (\uc870\ub974\ud14c)Doodle JumpBingo Bash - Free Bingo Casino\ub3d9\ubb3c\uc6d0 \ud074\ub7fdSolitaire\u30d1\u30ba\u30eb\uff06\u30c9\u30e9\u30b4\u30f3\u30ba(Puzzle & Dragons)100 \uac8c\uc774\uce20Google Play \uc11c\ube44\uc2a4MX \ud50c\ub808\uc774\uc5b4 \ucf54\ub371 (ARMv6 VFP)Glow HockeyZombie EvilDream HeightsEndomondo Sports TrackerMy Verizon\uc74c\uc545 \uc601\uc6c5 Music HeroFlikie Wallpapers HD\ud37c\uc990\ubc14\ub9ac\uc2a4\ud0c0 for KakaoAmazon MP3DEATH DOMEPrize Claw\ubc30\uad00\uacf5\ub9e8 \uc778 \ube14\ub799 3\ubc14\uc6b4\uc2a4\ubcfcSpeedtest.netMyspace\uc880\ube44\uc2a4\ub9e4\uc154 Zombie SmasherFairy Farm\ud130\uce58\ud06c\ub798\ud504\ud2b8 for KakaoSygic: GPS NavigationAppMgr III (App 2 SD)Shipwrecked: \ub85c\uc2a4\ud2b8 \uc544\uc77c\ub79c\ub4dc\ub9c8\uc791 (Mahjong)\uba5c\ub860SayHi\uce5c\uad6c\uc0ac\uadc0\uae30Battery (\ubc30\ud130\ub9ac)Dr SaverCrime City (Action RPG)\ub18d\uad6c - Basketball Mania\uc2f8\uc774\uba54\ub77c (Cymera) - \uc608\ubed0\uc9c0\ub294 \uce74\uba54\ub77c\ud788\uc5b4\ub85c\uc988 \uc624\ube0c \uc624\ub354\uc564\uce74\uc624\uc2a4ScoreCenter for Android\ub9d0\ud558\ub294 \uace0\uc591\uc774 \ud1b0\uacfc \ubca4 \ub274\uc2a4 \ubb34\ub8ccAviary Photo EditorT-Mobile My AccountWho Becomes Rich (Trivia Quiz)Beach Buggy BlitzDH Texas PokerZoosk - \ub098\ub9cc\uc758 \ubc29\uc2dd\uc73c\ub85c \uc628\ub77c\uc778\uc5d0\uc11c \ub370\uc774\ud2b8\ud558\uc138\uc694.iHeartRadioGoogle VoiceUberSocial for Twitter4 Pics 1 Word: What's the WordShoot the Apple\ub098\uce68\ubc18\ud48d\uc120 \ube14\ub77c \uc2a4\ud2b8! (Bubble Blast !)\uc288\ud37c \uc2a4\ud06c\ub798\uce58 \uc8fd\uc774\uace0 \ub85c\ub610 \uac8c\uc784Slot Machine\ud53c\ub9dd \ud0ed\uc18c\ub2c9 - TAP SONIC by Pmang\ud328\uc2a4\ud2b8 \ub808\uc774\uc2f13D - Fast RacingHanging With Friends8 Ball PoolInstant Heart RateAlarm Clock Plus\u2605Virtual Table Tennis 3D\uc544\uc774\ub7ec\ube0c\ucee4\ud53c for KakaoFantasy TownPicSay - Photo EditorThe Floor EscapeDaily BibleStumbleUponJurassic Park\u2122 Builder\uace0\uc591\uc774\uc804\uc7c1Guitar : Solo LiteMarble Blast 2\ub2e4\ud568\uaed8 \ucf85\ucf85\ucf85 for KakaoMobile Andrio (Free)\u0410\u0433\u0435\u043d\u0442 \u2014 \u0431\u0435\u0441\u043f\u043b\u0430\u0442\u043d\u044b\u0435 \u0437\u0432\u043e\u043d\u043a\u0438, SMSGoogle Play \ubd81ADW.LauncherICQ MessengerMarble SagaSlacker Radio\uc81c\ub178\ub2c8\uc5443ShopSavvy Barcode ScannerAndroid Assistant(18\uac00\uc9c0 \uae30\ub2a5 \uc124\uba85)Kies Air (\ud0a4\uc2a4 \uc5d0\uc5b4)7 Little Words\uc2a4\ud0c0 \uac782012\ud504\ub85c\uc57c\uad6cSpider Solitaire\uc131\ub09c \uadf8\ub791 \ucd5c\uace0\uc758 \ubb34\ub8cc \uac8c\uc784Ninja Action RPG: Ninja Royale\uc548\uc824\ub77c\ub97c \uc0ac\ub791\ud558\ub294 \ud1b0Bank of AmericaMediaClip - \ub3d9\uc601\uc0c1 \ub2e4\uc6b4\ub85c\ub4dcDream Zoo4 Bilder 1 Wort\uc74c\uc131 \ubc0f \ud654\uc0c1 \ud50c\ub7ec\uadf8\uc778SHADOWGUN: DeadZone\ubaac\uc2a4\ud130\ud321\ud321 for KakaoGO\ud30c\uc6cc \ub9c8\uc2a4\ud130(\ubc30\ud130\ub9ac \uc138\uc774\ubc84)Wifi AnalyzerPixlr-o-matic\uace0\uc2a4\ud2b8 \uc2a4\ub098\uc774\ud37c : \uc880\ube44\ub9e4\uc9c1\ud2b8\ub9acRealCalc Scientific CalculatorFlick ShootAndroid Booster FREESuperuser\ud328\uc158\uc2dc\ud2f0 - Fashion City by Hangame\uc548\ud2f0 \ubc14\uc774\ub7ec\uc2a4 \ubb34\ub8ccGMX MailHappyFishAirDroidFVD - Free Video DownloaderPulse NewsReal Sex Stories\ubd84\ub178\uc758 \uc9c8\uc8fc \ub354 \ub9e5\uc2dc\uba48 : The GameX Construction LiteFour In A Line FreeCKZ ORIGINSThe Coupons App\ucee4\ud50c \ud544\uc218 \uc571, \ube44\ud2b8\uc708 - BetweenEmpire Defense IIWEB.DE MailBeautiful Widgets ProRoad Warrior: Best Racing GameBubble Birds 3fring Free Calls, Video & TextTextgram - Instagram TextDeath Racingiris. (alpha)\uac74\ube0c\ub85c\uc2a42Moon+ Reader\ud3a0\ub9ac\ucee8 \ud3f4 for kakao94 SecondsPocket LegendsGalaxy S3 \ubbfc\ub4e4\ub808 \ub77c\uc774\ube0c \ubc30\uacbd\ud654\uba74Reversi FreeBubble Worlds\uc74c\uc545, \ud50c\ub808\uc774\uc5b4 4shared Music\uc2a4\ud398\uc15c\ud3ec\uc2a4 NET for KakaoAbduction!Turbo Racing LeagueBest Casino - Slot MachinesTrial Xtreme 3reddit is funLINE POPGunsAdobe Photoshop Express\ube0c\ub77c\ub354\uc988 \uc778 \uc554\uc988\u00ae 2City Island\uc545\ub9c8 \ub2cc\uc790 2\ud1b0\uc758 \ub7ec\ube0c\ub808\ud1304 \u0444\u043e\u0442\u043a\u0438 1 \u0441\u043b\u043e\u0432\u043eAquarium Free Live Wallpaper\uc6d0\ub354\uc8fc \u2013 \ub3d9\ubb3c \uad6c\ud558\uae30!Wheres My Droid\uc774\uc0ac\ub9cc\ub8e82013 KBOBumpMUTANT ROADKILL\uc708\ub3c4\uc6b0 7 GO \uc2e4\ud589\uae30\uc758 EX \ud14c\ub9c8\uc804\uad6d\ubbfc\uc54c\uae4c\uae30 for KakaoRunning Fred\u041c\u0435\u0433\u0430\u043f\u043e\u043b\u0438\u0441\ud540\ubcfc (Pinball)Easy DownloaderCamScanner -\ubb38\uc11c\ub97c PDF\ub85c \uc2a4\uce94\ud558\uae30Nova LauncherDinosaur WarMonster ShooterLINE Dragon Flight\u5929\u5929\u52a8\u542c\u97f3\u4e50\u64ad\u653e\u5668(\u6447\u4e00\u6447\u7248)Yahoo! Fantasy Football '12My Days - Period & Ovulation \u2122\ud589\uc6b4\uc758 \ube59\uace0Unicorn DashArcane LegendsMaxthon \uc6f9 \ube0c\ub77c\uc6b0\uc800Crime Story\uc0ac\ubb34\ub77c\uc774 vs \uc880\ube443G WatchdogFantashootingWord Search\ube14\ub7ec\ub4dc & \uae00\ub85c\ub9ac(NR)DailyHoroscopeNFL Mobile\ubabd\ud0a4\ubc30\ud2c0(Swing Shot HD)Third Blade\uc544\uc2a4\ud2b8\ub85c\uc719: \ub05d\uc5c6\ub294 \uc804\uc7c1 for KakaoGoogle \ub4dc\ub77c\uc774\ube0cYelpUNO\u2122 FREEBattleshipWhat's My IQ?\u2122AndroZip \ud30c\uc77c \ub9e4\ub2c8\uc800Pirates of the CaribbeanDocuments To Go 3.0 Main AppTownsmenDRAGON SLAYER\uc2ac\ub86f \uba38\uc2e0 - Slot Casinon7player \uc74c\uc545 \ud50c\ub808\uc774\uc5b4\uc2ac\ub77c\uc784 \ub300 \ubc84\uc12f2Fishing DiarySpades FreeModern Conflict100 Doors 2013\u9ebb\u5c07 \u660e\u661f3\u7f3a1 -16\u5f35 gametower\uc644\ubcbd\ud55c \ud53c\uc544\ub178\ub9d0\ud558\ub294 \uc575\ubb34\uc0c8 \ud53c\uc5d0\ub974 \ubb34\ub8ccshopkick: rewards for shoppingPrehistoric Park Builder\uac15\uc2dc \ub0b4\uc2b5 Zombie DashTap Tap Revenge 4Pudding Monsters (\ud478\ub529 \ubaac\uc2a4\ud130)Draw Something by OMGPOPMixZing Media Player\uc704\ud0a4\ubc31\uacfc\uc0ac\uc804Shake Spears!\uc880\ube44\ub098\uc774\ud2b8 for Kakao\ub354\ube44\ub370\uc774\uc988Moto X Mayhem FreeAir Penguin\u00aeSlots Journey\uccad\ud48d\uba85\uc6d4 for Kakao\ub9d0\ud558\ub294 \uae30\ub9b0 GINA \ubb34\ub8cc\ud3ec\ucee4\ub97c \ubc97\uae38 - \ud32c \uc5d0\ub514\uc158 # 3Little Dragons\uac00\ud544\ub4dc\uc758 \ub2e4\uc774\ub108Sonic CD LiteQR Droid (\ud55c\uad6d\uc5b4)TuneWiki - \uc74c\uc545\uacfc \uac00\uc0acLINE PLAYBubble Pop Plus!World War\u2122Tangram HDYP Local Search & Gas Prices\ud3ab\uc0f5 \uc2a4\ud1a0\ub9ac\u2122MoboPlayer\ud30c\uc77c \uad00\ub9ac\uc790\ubc14\ub2e4\uc758 \uc655\uc790 \ub9c8\ub9b0\ucea3 for KakaoBubble Poke\u2122Towers N' TrollsFandango MoviesPhotoFuniaChase MobileHamboScanner RadioLayarMY LITTLE PONYGO Launcher EX NotificationRetro Clock WidgetBrightwood AdventuresTumblrLep's WorldmusiXmatch \uac00\uc0ac +\ub294 \ud50c\ub808\uc774\uc5b4Music Download Paradise Lite\uc57c\ud6c4! \ub0a0\uc528\uce74\ud230\uc6cc\uc988\ube14\ub808\uc774\ub4dcLabyrinth LiteTuner - gStrings FreeFun Run - Multiplayer RacePocket Frogs\uc2f8\uc774\uc6d4\ub4dcEarn to Die Lite\ud55c\ud050 for KakaoGuess The Movie\ubca8\uc18c\ub9ac \uba54\uc774\ucee4 \ud504\ub85c \ubb34\ub8ccMoco - Chat, Meet, GamesPrincess PuntRock The Vegas\ud06c\ub9ac\uc2a4\ub9c8\uc2a4\ub294 \uc5b4\ub514\uc5d0?AssistantTiny Monsters\ubca0\ub124\uce58\uc544\uc2a4\ud1a0\ub9ac \uc18c\uc15c for KAKAOBatteryLife\uae40\uc900\ud604\uc758 \uacf5\uae30\ub180\uc774 for KakaoDictionaryMusic Download Paradise PRO\uc624\ub354\uc564\uce74\uc624\uc2a4 \ub4c0\uc5bc\ud788\uc5b4\ub85c\uc988 \uc624\ube0c \ub370\uc2a4\ud2f0\ub2c8Tuenti Classic\ud504\ub9b0\uc138\uc2a4 \ub7ec\uc2dc for Kakao4 pics 1 wordRobo DefenseSuper Stickman Golf2020: My Country\u9ebb\u5c07 \u795e\u4f86\u4e5f\u9ebb\u5c07\ud648\ub7f0\ubc30\ud2c0 3D FreePerfect Kick!\uc880\ube44\uc6b0\ub4dc - L.A. \uc880\ube44 \uce68\uacf5!Strikefleet Omega\ucee8\ud2b8\ub799\ud2b8 \ud0ac\ub7ec 2: \uadf8\ub9bc\uc790 \uc74c\ubaa8\ubcf4\ub77c\u2665\uae30\ub9ac\uc758 \ub9e4\uc9c1\ud321 for KakaoKAYAKMoon Chaser\ucc57\uc628 ChatON4 \uac24\ub7ec\ub9ac 1 \uc6cc\ub4dc : \uc6cc\ub4dc \ubb34\uc5c7\uc785\ub2c8\uae4cGEARS & GUTS\ud0b9\ub364 \uc564 \ub85c\ub4dcWild Bingo\ubca8\uc18c\ub9ac \uba54\uc774\ucee4Mr.Number \ud14d\uc2a4\ud2b8, \uc804\ud654 \uac78\uae30, \ube14\ub85dLIL' KINGDOMStick Cricket\ub514\uc2a4\ucf54\ud310\ub2e4 for Kakao\uceec\ub7ec\ub77c\uc774\ud2b8 Color FlashlightDante: THE INFERNO game - FREEStunt Car ChallengeNQ Mobile Security & AntivirusOfficeSuite Viewer 6 + PDF & HHeyWire FREE TextingCraigslist MobileTriple Town\uce5c\uad6c\ub4e4\uc5d0\uac8c \uac81\uc744 - \ucda9\uaca9!Move it! Free\ud788\uc5b4\ub85c\uc2a4\ud018\uc5b4 for KakaoAldiko Book ReaderPathNorton Antivirus & SecurityTweetDeck (Twitter, Facebook)LINE Bubble!9\uc774\ub2dd: \ud504\ub85c\uc57c\uad6c2011\uac15\uc544\uc9c0\ub97c \ub9d0\ud558\uae30Safe Gallery FreeOffroad LegendsFxGuru:  Movie FX Director\ud478\ub529\uce74\uba54\ub77c - Pudding CameraStupid ZombiesAppBrain App Market\ub0b4 \uc6b4\ub3d9\uae30\ub85dRuzzle FreeMy Clinic3D Digital Weather Clock\uc2e4\ud06c\ub85c\ub4dc for Kakao\uc2ac\ub86f \ucc9c\uad6d : \ubb34\ub8cc \uc2ac\ub86f \uba38\uc2e0Happy Jump\ud328\uc158 \uc544\uc774\ucf58FatSecret\uc758 \uce7c\ub85c\ub9ac \uce74\uc6b4\ud130Android \ub9cc\ub4e4\uae30Textfree: Text Free, Free SMS\ubc84\uc2a4 \uc8fc\ucc28 3\u200b\u200bD\uc720\ub78c\uc120\ub808\uc774\uc2f1Avatar Fight - MMORPG gameSuper Dynamite FishingAppy GeekMy Pregnancy TodayOnavo Count | Monitor DataLittle EmpirePoweramp Full Version UnlockerTexas PokerAzan Prayer Time Pro\uc5d0\ud53d\u2122 : \uc232\uc18d\uc758 \uc804\uc124Thunderstorm Free WallpaperaTilt 3D Labyrinth FreeSpeed NightiKamasutra Lite \uce74\ub9c8\uc218\ud2b8\ub77c \uc139\uc2a4 \uccb4\uc704IM+ZombieBoothGO Weather\ucd95\uad6c Soccer Kicks\ud0c0\uc774\ub2c8\ud321 for KakaoUNO\u2122 & FriendsNews RepublicUndead SlayerArmy of Darkness DefenseHellFireAK NotepadZD\ubc15\uc2a4Google Play \ubb34\ube44Mercury Messenger (Free)iBeer FREE\uae00\ub85c\ub9ac \uc2a4\uce74\uc774 for Kakao\ubc88\uc5ed\uae30 / \uc0ac\uc804 \uc774\uc57c\uae30\u624b\u673aQQ2011WomanLog \ub2ec\ub825\ub9c8\uc774\ud53c\ud50c - \ubb34\ub8cc\ub300\ud654/\ubb38\uc790, \ubb34\ub8cc\ud1b5\ud654\ub4dc\ub798\uace4 \uc2a4\ud1a0\ub9ac\u2122\uc560\ub4dc\ub77c\ub5bc - \uc2a4\ub9c8\ud2b8\ud55c \ub2f9\uc2e0\uc758 \uc120\ud0dd!\ub2e8\uc704\ubcc0\ud658\uae30 - ConvertPad\uc6c3\uae34 \uc0ac\uc2e4 \ubb34\ub8cc 8000 +Live BlackJack\ud328\ubc00\ub9ac\ud31cShakes & Fidget - The Game App\ud14d\uc0ac\uc2a4 \ud3ec\ucee4\ud504\ub85cTiki Kart 3DEarth Live Wallpaper\ub3c4\ub3cc \ud3f0 3  (4G LTE, \uc824\ub9ac\ube48\ub3c4 \uc9c0\uc6d0~)\ub9d0\ud558\ub294 \uc548\uc824\ub77c - Talking AngelaCrackle - Movies & TV\uc194\ub9ac\ud31d for Kakao\ub4dc\ub9bc\uac78textPlus Free Text + CallsBattle Cats\uacfc\uc77c\ub098\ub77c \uc568\ub9ac\uc2a4 for KakaoWorldCraft (with multiplayer)Amazon MobileHead Soccerimo instant messengerShoot The Zombirds\uacfc\ud0dc\ub8cc\uc758 \ucd1d\uaca9\uc804TasKiller freeJackpot Slots - Slot Machines\ud2f1\ud1a1 - TicToc\uc880\ube44 \ub9c8\uc744 (Zombie Village)\uce74\ub514\uc624\ud2b8\ub808\uc774\ub108 CardioTrainer\uc5d0\ub974\uc5d8\uc6cc\uc9882Wind-up Knight100 Doors of RevengetTorrent LiteHighway RiderModern WarRetro Camera\ub2e8\uc5b4 \uac80\uc0c9Into the Dead\ubc84\ube14 \ub9e4\ub2c8\uc544\u2122Pho.to Lab\uc11c\ube0c\uc6e8\uc774 \uc11c\ud37c for KakaoGSN Casino\ubbf8\ub2c8\uac8c\uc784\ucc9c\uad6d(MiniGame Paradise)Talking Roby the Robot Free\ubd88\ub9ac2 for KakaoAstrid \ud560\uc77cRage Reader\u0412\u043a\u043e\u043d\u0442\u0430\u043a\u0442\u0435 \u041c\u0443\u0437\u044b\u043a\u0430 \u0438 \u0412\u0438\u0434\u0435\u043eTop Ringtone Downloader\ubc30\ud130\ub9ac \ubd80\uc2a4\ud130 (2X \ubc30\ud130\ub9ac)\ud3f4\ub9c1\ud3f4\ub9c1 for Kakao\ubc88\uc2dd\uc804\uc7c12Zombie FarmLinkedInHotspot Shield VPNMonster Pet Shop\ud2b8\uc704\ud130\ub97c\uc704\ud55c \uae43\ud138\uc74c\uc545 \ubcfc\ub968 EQWhatsApp Wallpaper\uc18c\uc74c\uce21\uc815\uae30 - Sound MeterAnimated Weather Widget, ClockNetwork Signal Speed Booster \u2605\uba54\uc2e0\uc800 Messenger Play!Free Books & Stories - WattpadQQApex LauncherFunny Jokes\uc6d0\uaca9 \uc81c\uc5b4\uc6a9 TeamViewerHamster LifeSlots by Zynga\u30d1\u30ba\u30c9\u30e9\u5b8c\u5168\u653b\u7565\u2605\u30b2\u30ea\u30e9\u6642\u9593\u5272\uff06\u30b9\u30ad\u30eb\u56f3\u9451\uff06\u88cf\u6280\u52d5\u753bBest Wallpapers HDUltimate Logo Quiz\ub2e4\ub9ac \uc0dd\uc131\uc790 FREECool ReaderBaams Away!Angry Monkey\u5168\u6c11\u6253\u68d2\u74032013TV.comAnger of Stick 2Farm Invasion USAMyTaxRefund by TurboTax \u2013 Free\uc778\ud130\ub137 \ub77c\ub514\uc624NFL Pro 2013Style Me GirlCity Island \u2122Zombie Frontier 2:Survive\ube14\ub9ac\uce20 \ube0c\ub9ac\uac8c\uc774\ub4dc - \uc628\ub77c\uc778 FPS\uc758 \uc9c4\uc815\ud55c \uc7ac\ubbf8!\ub0b4 \ub370\uc774\ud130 \uad00\ub9ac\uc790 / My Data ManagerWHERENinJump Deluxe\uc288\uac00\ud321 for KakaoPapiJumpFootball KicksZombie Highway\u5145\u96fb\u304c\u8d85\u9577\u6301\u3061\u266a\u9ad8\u6027\u80fd\u30d0\u30c3\u30c6\u30ea\u30fc\u266a\uff08\u96fb\u6c60\u7bc0\u7d04\uff06\u6b8b\u91cf\u7ba1\u7406\uff09Uninstalleryuilop: Free Calls & SMS\ud1b0\uc758 \uba54\uc2e0\uc800 - Tom's Messenger\uc544\ubbf8\uc2a4\ub098\uc774\ud37c Army SniperBattleFriends at Sea \uce5c\uad6c\uc640 \ud574\uc591 \uc804\ud22cPdaNetPocket Auctions for eBayMANUGANU\ub098\uce68\ubc18 - Smart CompassMonster Galaxy: \ubcc4\uc790\ub9ac \uc12cGO SMS Pro Emoji Plugin\ubcf4\uc11d \uc804\uc124 - Jewels SagaDame MP3 - Descarga m\u00fasicaMobo Video Player ProFruit Pop!Test for Friends - Know them?\uc26c\uc6b4 \uce90\uc26c \ud074\ub9ac\ub108 (\ud55c\uad6d\uc5b4)US Yellow Pages\ub124\uc774\ud2b8\uc628UCFantasicaTapatalk Forum App\uc544\uc774\ubaa8 (The World of Magic)Nemo's ReefBOMBSHELLS: HELL'S BELLESMP3 Music Download Best\u041a\u0438\u043d\u043e\u0442\u0435\u0430\u0442\u0440 ivi.ru \u0444\u0438\u043b\u044c\u043c\u044b \u043e\u043d\u043b\u0430\u0439\u043dON \ud0f1\ud06c - \ud604\ub300 \uc218\ube44\uc218Pixlr ExpressCytusMandoraDragonValeiTriage HealthCut the Rope2 \ud50c\ub808\uc774\uc5b4 \ub9ac\uc561\ud130City Story\u2122Paper Toss 2.0\ub9d0\ub791\ub9d0\ub791 \ubaa9\uc7a5 for KakaoX City\u5927\u5bcc\u8c6aBESTFurdiburbLife is CrimePBA Bowling ChallengeMalen mit FreundenKingsoft Office 5.2.1 (Free)\ud30c\uc77c \uc5d1\uc2a4\ud37c\ud2b8runtasticPet Rescue SagaFantasy Kingdom Defense HDAngry Birds FriendsiQuran Lite\uc2a4\uc640\ud2b8\uc564\uc880\ube44\ucee4\ub125\ud2b8\ub380 (Connect'Em)Endomondo Sports Tracker PROZombies...OMG!VEVOHills of Glory 3DiStunt 2StardunkBest Apps Market\uc5d0\uc5b4 \ud63c!Osmos HDMath ManiacBubble Witch SagaDroidlight LED FlashlightFake iPhone 5Super PenguinsDigital Clock WidgetNQ Security Multi-languagetwiccaElements BattleVineTop Girl\uc6c3\ub294 \uc544\ube60SMALL STREETCall of Mini: Zombies100 Doors : RUNAWAY\ub0a0\uc528 - WeatherMusic DownloadTheme ParkMy Country: Sports EditionLep's World 2GPS Status & Toolbox\ub124\uc774\ubc84 \uc6f9\ud230 - Naver Webtoon\ubc84\ube14\ud0b9 for KakaoTrial Xtreme 2 WinterJack'dNinja FishingAlchemy ClassicKnights & DragonsHeyzapTreasure Diving4 Images 1 MotCity Jump100 \ud06c\ub9ac\uc2a4\ub9c8\uc2a4 \uc120\ubb3cTap Dragon ParkLane Splitter\ud50c\ub79c\uce20\uc6cc\u795e\u9b54\u4e4b\u5854K-9 MailES Task ManagerKids Animal Piano FreeHungry Shark Free!StopWatch & Timer\uc368\ub4dc \ube14\ub808\uc774\ub4dc (Third Blade)Firefox \ubca0\ud0c0Magic PianoGO Switch WidgetZombie LaneSpeedCarIIGreat Little War Game4 Images 1 Mot:Quel est le motRage of BahamutLittlest Pet ShopAREL WARS\u2122Last.fmLittle PhotoTop Truck FreeTruco FreeMiracle CityCricket T20 Fever 3D\uc5b4\ub9b0\uc774\ub97c\uc704\ud55c \uc5d8\ud504\ub4e4\uc640 \ud06c \ub9ac\uc2a4\ub9c8\uc2a4 \uc774\uc57c\uae30 \uac00 \ubb34\ub8cc \ubc84\uc804Spades!\uc561\uc158\ud37c\uc990 \ud328\ubc00\ub9ac (Puzzle Family)Dragon Hunter IIBig Win SoccerCheckers FreeUSAA MobileDeath MototheCHIVEQik Video for Sprint\u66b4\u8d70\u5217\u4f1d \u5358\u8eca\u306e\u864eChess for Android\uc2a4\ud06c\ub9b0\uc0f7 UX \ud3c9\uac00\ud310\ud034\uc988\ub97c \uc9c0\ubc30\ud558\ub294\uc790 OX \ub7f0\ub2dd\ub9e8 for KakaoMeridian Media Player RevoluteLogo Quiz\ub2e4\ub978\uc810\uc744 \ucc3e\uc73c\uc2dc\uc624BINGO Blitz by Buffalo Studios\uce74\ud2b8\ub77c\uc774\ub354 \ub7ec\uc26c+ 2.0\uaf2c\uaf2c\ub9c8 \uc720\ub791\ub2e8 for KakaoBattlefield BF3 StatsOnline Soccer ManagerHappy StreetBlockbuster 2.7 for HTCGoogle Chrome to PhoneGO Contacts EXAdFree Android\ub2e4\ud568\uaed8 \ucda4\ucda4\ucda4 for KakaoDECOPIC Kawaii \uc0ac\uc9c4\ud3b8\uc9d1\uc5b4\ud50cFBReaderGuns'n'Glory \ubb34\ub8ccHangouts (replaces Talk)La chaine m\u00e9t\u00e9oDictionary - Merriam-Webster\ub9c8\uc655\uc804iMobsters\u2122Farm Casino - Slots MachinesPlayerPro Music Player TrialFree Zone WiFiRedLaser Barcode & QR ScannerWords of Jesus Daily BibleAqua Pets\uc5f4\uae30 \uc2e0\ud638\uc9c0\ub3c4 \ubca0\ud0c0\u041a\u0438\u043d\u043e\u041f\u043e\u0438\u0441\u043aDragon GemPool Mania\uc5fc\uc18c \uace0 \uace0!Pizza HutDigi ClockSudoku Fun\uceec\ub7ec\ub77c\uc774\ud2b8 HD (\uc190\uc804\ub4f1 \ud50c\ub798\uc26c \ub77c\uc774\ud2b8 LED)Angry PiggyBooking.com - \uc804 \uc138\uacc4 \uc57d 28\ub9cc\uac1c \ud638\ud154\uc18d\ub3c4\ub97c \uc704\ud574 3D \ud544\uc694\uc131SkitchCatch \uc544\uc774\ub514\uc5b4\uc5d0\uc11c \uc720(\u6709)\ub97c \ucc3d\uc870\ud558\ub77c\uc774\ud130\ub2c8\ud2f0 \uc6cc\ub9ac\uc5b4\uc2a4\uc544\uc57c\uce74\uc2dc \uc74c\uc591\ub85dCricbuzz Cricket Scores & News\uc2dc\ud2f0 \uce74\uc9c0\ub178 : \uc0c8\ub85c\uc6b4 \uc2ac\ub86f \uba38\uc2e0INDESTRUCTIBLESMS Popup\uc2a4\uce74\uc774\ubc45\ubc45 for Kakao\uc774\ub108\uc6d4\ub4dc InnerWorldKoi Free Live Wallpaper\ub77c\ub5bc\uc2a4\ud06c\ub9b0, \ubc00\uc5b4\uc11c \ub3c8\ubc84\ub294 \uc2a4\ub9c8\ud2b8\ud55c \uc7a0\uae08\ud654\uba74!OkCupid Dating\uc624\uc988\ub354\ub7ec\uc2dc for KakaoENCHANT UDiamonds BlazeYandex.MapsTunee \uc74c\uc545 \ub2e4\uc6b4 \ub85c\ub354Greedy Spiders FreeGrindr - \uac8c\uc774 \uce5c\uad6c \ucc3e\uae30\ub1cc\uad6c\uc870 \ud14c\uc2a4\ud2b8MovieStarPlanetDark LegendsSAS: Zombie Assault 3\ub4dc\ub7fc \uc138\ud2b8 (Real Drum)\ud5cc\ud130\ucea3 for KakaoLogo Quiz - \uc790\ub3d9\ucc28DoubleDown Casino - FREE SlotsDownload All FilesScanQuick SettingsMusic downloadSlenderMan\uc2a4\ud06c\ub9b0\uc744 \ud06c\ub799PLAYMOBIL \ud574\uc801\ub4e4Yoo Ninja PlusJaws\u2122 Revenge\ud2b9\ubcc4 \ubd80\ub300 (Rivals at War)Gun Club 2Modern Conflict 2VlingoShow do Milh\u00e3o QuizSkyscanner \ubaa8\ub4e0 \ud56d\uacf5\ud3b8\uc368\ub2c8\ud37c\ud53c\ub098\uc774\ud2b8 \ube44\uc804 \uce74\uba54\ub77cSwiftKey 3 FreeBattery Indicator\ud55c\uac8c\uc784 \uccb4\uc778\uc9c0\ud321\ud321Pocket Empires OnlineA Super Box-\uce90\uc2dc,\ud30c\uc77c\ub9e4\ub2c8\uc838,\uba54\ubaa8\ub9ac,\ubc30\ud130\ub9acJuiceDefender Ultimate\ub77c\uc774\ud130 \ubb34\ub8ccFruit NinjaWordfeudExtreme Road Trip 2Slots Royale - Slot Machines\ud2f4\uce90\uc2dc,\ubb38\uc0c1,\ud584\ubc84\uac70 \ubb34\ub8cc \ub3c8\ubc84\ub294 \uc5b4\ud50c \uc571\ud321T\u00e9l\u00e97 programme TV\uc5f0\uae08\uc220 \uace0\uc804Monster Galaxy ExileGrand Theft Auto IIINBC News\ubcf4\ub8e8\uc758 \uc815\ubcf5\uc5d0\uc5b4\ud3ad\uadc4\ud504\ub80c\uc988 for KakaoJewels Link!Ninja Chicken Ooga BoogaLine Runner (Free)SuperGNES Lite (SNES \uc5d0\ubbac\ub808\uc774\ud130)[WordHero]\u2605NEW\u2605 2013 \ud504\ub85c\uc57c\uad6c \ub4dc\ub9bc\ub098\uc778 for Kakao\ub808\uc5b4 \ub514\ud39c\uc2a4:\ub358\uc804 Lair Defense:DungeonBike Mania free - \ub808\uc774\uc2f1 \uac8c\uc784Coin Pirates\ub124\uc774\ud2b8\uc628\ud1a1Luckiest WheelGetGlueGauge Battery Widget\ub124\uc774\ubc84 \uc9c0\ub3c4/\uad50\ud1b5 \u2013 Naver Map\uccb4\ucee4 (Checkers)LiveProfile\uc2a4\ud0c0\uc77c\ub9ac\uc2dc \uc2a4\ud504\ub9b0\ud2b8NOOKJango RadioZillow Real Estate & RentalsBest BuyCastle Of ShadowsSPB TV\uc131\ub0e5 \ud37c\uc990AirAttack HD Lite\uc548\uc824\ub77c\uc758 \ubc1c\ub80c\ud0c0\uc778 - Angela's ValentineWorkout TrainerEqualizer\uac00\ud544\ub4dc\uc758 \ub2e4\uc774\ub108 \ud558\uc640\uc774\uc288\ud37c\uc561\uc158 \ud788\uc5b4\ub85cCWMoney Expense TrackLondon 2012-OfficialGame(free)\ud3ec\ucf13\uc288\ud37c\ud788\uc5b4\ub85c\uc988 for KakaoJewels Maniac!Sports TrackerAir Attack (Ad)101-in-1 Games HD\uc624\ub354\uc564\uce74\uc624\uc2a4 \uc628\ub77c\uc778\uc9f1\uad6c\ub514\ud39c\uc2a4PLUS+\u00d6ffi - Public Transport BuddyQuran AndroidWhere's My Perry?Easy Downloader ProDark SummonerMini Pets\ub0b4\uac00\uadf8\ub9b0 \uae30\ub9b0\uadf8\ub9bc for Kakao\ube0c\ub808\uc774\ube0c \ud788\uc5b4\ub85c\uc988Quadrant Standard EditionRuby Blast\ud540\ubcfc \uac8c\uc784 Pinball\ubc88\uc2dd\uc804\uc7c1 \ud655\uc7a5\ud310 (Sperm wars EX)GRave Defense HD Free\uc2a4\ud53c\ub4dc \ub808\uc774\uc2f1 Speed Racing\u9177\u72d7\u97f3\u6a02\u64ad\u653e\u5668\uff08\u51ac\u5b63\u7248\uff09Handcent Emoji PluginSniper \uc800\uaca9\ubcd1Babel Rising 3D!Rule the KingdomGO TaskManagerGravity Guy FREE\uba54\uc774\ud50c\uc2a4\ud1a0\ub9acLiveNightclub Story\u2122\uc5d0\ud53d\ub808\uc774\ub354\uc2a4Instant ButtonsDIRECTVPaplinkoWells Fargo MobileDOOORS - room escape game -\ubc00\ub9ac\uc5b8\uc544\uc11c\uc548\ud2f0 \ubc14\uc774\ub7ec\uc2a4 \ubc0f \ubaa8\ubc14\uc77c \ubcf4\uc548\ub2e4\ub978 \uc5b8\uc5b4\ub97c \uad6c\uc0ac \ubc29\ubc95\uc744 \uc54c\uc544 \ubd05\ub2c8\ub2e4\uc2a4\ud0c0\ub3d4 : \ud560\ub9ac\uc6b0\ub4dcHeyTell\ubb34\ub8cc\ubc30\uacbd\ud654\uba74 (\uace0\ub7f0\ucc98/\ub3c4\ub3cc\ub7f0\ucc98/\uce74\uce74\uc624\ud648\uc758 \ubc30\uacbd\ud654\uba74)Launcher 7Learn English with busuu.com!4 Pics 1 Word: More WordsThe Moron Test: Old School\u0627\u0631\u0628\u0639 \u0635\u0648\u0631 \u0643\u0644\u0645\u0629 \u0648\u0627\u062d\u062f\u0629Picasa\uc758 \ub3c4\uad6cHow to Draw - \uc26c\uc6b4 \ub4dc\ub85c\uc789 \ub808\uc2a8\u3010\u514d\u8cbb3D\u5bf5\u7269\u904a\u6232\u3011\u6674\u5929\u5c0f\u72d7Photobucket Mobile\ud504\ub9ac\ud2f0 \ud3ab \uc0b4\ub871\ubc84\ube14 \ub77c\uc774\ube0c \ubc30\uacbd\ud654\uba74 Bubble\ud55c\ud310\ub9de\uace0GO\ud0dc\uc2a4\ud06c \ub9e4\ub2c8\uc800 (\uc791\uc5c5 \ud0ac\ub7ec)Tap RanchTransformers LegendsTitanium Backup PRO Key \u2605 rootBibleMystery of the Crystal Portal\uc5b8\ub370\ub4dc \uc2ac\ub808\uc774\uc5b4 by HangamePhotaf \ud30c\ub178\ub77c\ub9c8 (\ubb34\ub8cc)C.H.A.O.S \ub300\ud68cSPB Shell 3DgReader (Google Reader | RSS)SuperSU\uc810\ud551\uc2a4\ud0c0 for KakaoHootSuite (Twitter & Facebook)TV \ubb34\ub8cc \uc2dc\uccad\ubc14\uc774\ud0b9\uc544\uc77c\ub79c\ub4dc for KakaoBistro Cook\ubaa8\ub358 \ucef4\ubc43 4: \uc81c\ub85c \uc544\uc6ccSurvivalcraft DemoRunKeeper[\ubb34\ub8cc] \uc624\ud22c\uc7bc U - \ubaa8\ubc14\uc77c \uc624\ud22c\uc7bc \ub300\ud45c \uac8c\uc784!!TextCutie-Instagram TextLife360 Family LocatorSHERPA BETA Asistente Personal\ubaa8\ub450\uc758 \uc5f0\uae08\uc220\uc0ac for KakaoFatBoothPlanets n Stars Live WallpaperMountain Climb RaceSexy Strip Poker - Schoolgirls\uc54c\uc57d \uc548\ub4dc\ub85c\uc774\ub4dc\u9593\u9055\u3063\u305f4\u5199\u771f1\u041e\u0434\u043d\u043e\u043a\u043b\u0430\u0441\u0441\u043d\u0438\u043a\u0438Sleep as AndroidDragon HunterGoogle ReaderAmazing Alex FreeStick Cricket Premier LeagueWord SearchCoral City FUN addicting game\ub9ac\ub4ec\uc5d4\uc870\uc774\ubc14\ub2e4\ubcc4Millionaire Slots\uc81c\uc5b4 \uc804\ud654 - \uc804\ud654 \ucc28\ub2e8\uc744Any.DO \ud560 \uc77c \ubaa9\ub85d | \uc791\uc5c5 \ubaa9\ub85dTrial Xtreme Free\ub77c\uc778 \ubc84\uc990SportsTap\uc26c\uc6b4 \ud504\ub85c\uadf8\ub7a8 \uc0ad\uc81cFraggerPayPalScanLife\uc758 \ubc14\ucf54\ub4dc \ubc0f QR \ub9ac\ub354\uac04\ud3b8\ud55c MP3 \ub2e4\uc6b4 \ub85c\ub354 V2\ud0a4\ub4dc \ubaa8\ub4dc : \ubb34\ub8cc \uac8c\uc784 + \uc7a0\uae08BathingCatTalking Ted LITEGoogle \uc138\uc0c1\ubcf4\uae30Text Me!  Free Texting & CallAmazing Spider-Man 3D Live WPCrazy SnowboardTruck Parking 3D\ud638\ube57 : \uc911\uac04\uacc4\uc758 \uc655\uad6d\ub4e4Big Win Slots\u2122 - Slot Machines\u53f0\u7063\u89c0\u5929\u6c23 - \u73fe\u5728\u4e0b\u96e8\u55ce? \u5929\u6c23\u89c0\u6e2c\u4e00\u628a\u7f69!\ud2b8\ub808\uc778\uc2dc\ud2f0 for Kakao4 pics 1 word 24 in a rowAnimal CollectionsZoo Story\ub9e4\uc9c1\ub77d\ucee4 MagicLockerNeed for Drift\ub2e4\uc74c \uc9c0\ub3c4 - \uc9c0\ud558\ucca0 - Daum MapsNH \uc2a4\ub9c8\ud2b8\ubc45\ud0b9Shopper\ucc44\ud305\uacfc \ub370\uc774\ud2b8 \uadf8\ub9ac\uace0 \uc6b0\uc815 \ub9cc\ub4e4\uae30 \uc5ec\uc790 \uce5c\uad6cSniper & Killer 3D\ucef4\uc628\ubca0\uc774\ube44! (Come on Baby!)Speed Night 2N\ub4dc\ub77c\uc774\ube0c - \uc0ac\uc9c4 \ubc31\uc5c5 - Naver NdriveSpeedX 3DText-To-Speech ExtendedWeaphones: Gun Simulator FreeBest Wallpaper HD ProTurbo Kids\ubc84\ube14 \ube14\ub77c\uc2a4\ud2b8 \ud560\ub85c\uc708 (Bubble Blast)nexGTv - Mobile TV, Live TV.Streamzoo\ub2e4\uc74c - DaumOpera Mini Next \uc6f9 \ube0c\ub77c\uc6b0\uc800\ud14d\uc0ac\uc2a4 \ud3ec\ucee4Gun & Strike 3D\u062f\u0648\u0644\u0629 \u0641\u064a \u0623\u0631\u0628\u0639 \u0635\u0648\u0631100 Rooms\uce74\ud230\uc6cc\uc988 \uac70\ub108 (\ud55c\uae00\ud310)PocketGlow Hockey 2\uc288\ud37c\ud3ad\uadc4 for Kakao\uc870\uc6a9\ud55c \uce74\uba54\ub77c\uc77c\uc778 \uc6a9\uc758\ub2e4\ube48\uce58\ud30c\uc774\uc5b4 for kakaoMushroom Garden SeasonsSamsung WatchON\u2122 (On TV)Sector StrikeAporkalypse \ubb34\ub8ccClockSyncGuncrafter\ud504\ub9ac\uc2a4\ud0c0\uc77c\uc57c\uad6c\ub9ac\uc5bc\uc0ac\ucee4 2013\u30a6\u30a7\u30b6\u30fc\u30cb\u30e5\u30fc\u30b9\u30bf\u30c3\u30c12012\uc288\ud37c\uc0ac\ucee4100 CryptsBattery WidgetHungry Shark 3 Free!Stickman Base Jumper (Free)\ubc29\uadc0 \uc0ac\uc6b4\ub4dc \ubcf4\ub4dc\uacbd\uae30\uc7a5 \ud638\ub978 \ubb34\ub8ccjustWink Greeting CardsRoot App Delete (uninstaller)Mission Of CrisisDeath Rally FREE\ub370\ube4c\uba54\uc774\ucee4: \ub3c4\ucfc4 for Kakao\uc2a4\ud53c\ub4dc \ucd2c\uc601Ameba\uff08\u30a2\u30e1\u30fc\u30d0\uff09100 Doors\ud55c\ubd93\uadf8\ub9ac\uae30\uc9c4\uc800\uc758 \uc0dd\uc77c - Ginger's Birthday\uc5d0\ub108\ubbf8\ub77c\uc778Stand O'Food\u00aeJewels Miner!RPG Machine KnightDeluxe CafeScoreMobile: Sports & ScoresStarfield 3D Live Wallpaper\u6c38\u6052\u6218\u58eb2-\u65e0\u53cc\u6218\u795eKids Doodle - Color & Draw\ud0b9\ub364\ub85c\uc584MX \ud50c\ub808\uc774\uc5b4 \ucf54\ub371 (ARMv7)Stand O'Food\u00ae 3\uacbd\uc194\ud55c \uc624\ud1a0\ubc14\uc774 - Reckless MotoSnapchat\uce90\uc2ac\ub514\ud39c\uc2a4\uc8fc\ucc28\uac8c\uc784\ub0af\uc120 \uc0ac\ub78c\uacfc\uc758 \ub300\ud654 (\ub79c\ub364 \ucc44\ud305)AIM\uc804\ud22c \uc54c\ub9ac\ubbf8 - \ub808\ub4dc \ubc18\ub780TrackID\u2122Recharge,Payment & Bus Tickets\uc2a4\ub098\uc774\ud37c : \ud074\ub7fd 2 \ucd2c\uc601Ski SafariBeFunky Photo Editor\ub214(Noom) \ub2e4\uc774\uc5b4\ud2b8 \ucf54\uce58TheEndApp\ub9b4\ub9ac \ud32c\ub354 \uc790\uc720\ub97c \ub9d0\ud558\uae30\uac00\ub85c\uc138\ub85c \ub0b1\ub9d0\ub9de\ucd94\uae30Apndroid \ubb34\ub8cc\ud5ec\ub85c\ud0a4\ud2f0 \uce74\ud398Cut'n'RollMessages for MobileShake Them All! Live WallpaperSky Gamblers: Rise of GloryMyxerN64 \uc5d0\ubbac\ub808\uc774\ud130Battery Solo WidgetBarcode Scanner barcoo & QRAlarmDroidTriple Stack HD (Pyramids)Take me HomePhoto Quiz:  what\u2019s the word?Galactic Core Free WallpaperSave the PuppiesWay2sms Free SMS IndiaGem Miner\ub85c\uace0 \ud034\uc988 - \uc7ac\ubbf8 \ud50c\ub7ec\uc2a4\ucee8\ud2b8\ub799\ud2b8 \ud0ac\ub7ec : \uc880\ube442Tap the Frog: DoodleScramble With Friends[\u2605\uce74\ud1a1 \uafb8\ubbf8\uae30\uc758 \uc9c4\uc815\ud55c \uc644\uc131\u2605]\uce74\ud1a1\uc54c\ub9bc\uc74c\uae54\ub54c\uae30 \ubca8\uc18c\ub9acTeleNav GPS Navigator\uc774\uc0c1\uc801\uc778 \uccb4\uc911 (BMI)Zlango MessagingTap ZooPick a StickMole!Mole!!Mole!!!\u641c\u72d7\u624b\u673a\u8f93\u5165\u6cd5\uc2a4\ub098\ud06c \ubc84\uc2a4\ud130: \uc2a4\ud53c\ub4dc \uc5c5Dead Shot ZombiesBigKool - Ch\u01a1i b\u00e0i Online\uc5d0\uc5b4 \ud558\ud0a4 Air Hockey Deluxe\ub137\ud558\ub098\uc5f0\uc0c1\ud034\uc9881000+:4pics1word\ubca8\uc18c\ub9ac,\uceec\ub7ec\ub9c1,\ubb34\ub8cc\ubca8,MP3,\ubb38\uc790\uc74c,\uce74\uce74\uc624\ud1a1-\ubca8\ud321SpringpadPPS \u5f71\u97f3(\u624b\u6a5f\u7248)Tank Hero: Laser Wars\ud53c\uc26c\ud31c\uc0ac\uc9c4 \ud6a8\uacfcMath Workout[\ub125\uc2a8]\ubc84\ube14\ud30c\uc774\ud130 \uc5b4\ub4dc\ubca4\ucc98Fishin' 2 Go (LITE)\ubbf8\uce5c \uce58\uacfc \uc758\uc0ac - \uc544\uc774\uac00 \uac8c\uc784ShakyTower (physics game)Parking3dOverkillK\ub9ac\uadf8 2012\uc288\ud37c\uc0ac\ucee4nds4droidGun StrikeRingtone Maker\ud48d\uc120 \uc0dd\uac01\ub098\ub294 \ubc1c\ub80c\ud0c0\uc778 (Bubble Blast)\ud788\uc5b4\ub85c\uba54\uc774\ucee4 for KakaoVoice RecorderFlying Penguin  best free gameilMeteo WeatherMultiPicture Live Wallpaper\uc775\uc2a4 \ud2b8\ub9bc \ub4dc\ub85c \uc774\ub4dc \uc810\ud504iBasket\u71c3\u71d2\u7684\u852c\u83dcHelidroid 3D : \ud5ec\ub9ac\ucf65\ud130 RCNote EverythingBubbleChick KitchenKey Ring Reward CardsPanda Run\uc228\uc740 \uadf8\ub9bc \ucc3e\uae30Google Pinyin IMEPageonce - Money & BillsFreeCell SolitaireA.I.type \ud0a4\ubcf4\ub4dc \ubb34\ub8ccSnowfall Free Live WallpaperToddler Lock4 Fotos 1 PalabraBig Win Football\uc591\ucd08 \ubb34\ub8cc\ub2e4\uc774\uc544\ubaac\ub4dc \ube14\ub77c\uc2a4\ud2b8 Diamond Blast\ub370\uc4f0 \ub3d4\u7f8e\u56fe\u79c0\u79c0Trial Xtreme 2 FreeFruit RollYahoo! Sportacular\uce74\uc624\ubaa8\uc9c013000(\uce74\uce74\uc624\ud1a1\ub4f1\uc5d0\uc11c \uc0ac\uc6a9\ud560 \uc218 \uc788\ub294 \uc774\ubaa8\ud2f0SlideIT \ud0a4\ubcf4\ub4dc \ud3c9\uac00\ud310 \ubc84\uc804\ubaa8\ubc14\uc77c T worldRobotek\uc18c\ubb18\ub300\uc0acADW Theme MacOSQQPlayer\uc640 \ud53c\ub514\uc544: \ubaa8\ubc14\uc77c \uc704\ud0a4\uc228\uc740 \ub0b1\ub9d0 \ucc3e\uae30[\ubb34\ud55c \uc57d\ud0c8] \ubc14\uc774\ud0b9\uc6cc\uc988 for Kakao\ub370\ub4dc\uc2dc\ud2f0\uac00\uc9dc \uc544\uc774\ud3f0 5 \uc2ac\ub77c\uc774\ub4dc LockScreen\uc5b8\ube14\ub7ed \uce74 Unblock CarHELP OUT - Blocks GameTownsmen 6 FREESlot Galaxy HD Slot Machines\ub4dc\ub798\uace4 \ub7ec\uc26c\ud50c\ub798\uc26c\ub77c\uc774\ud2b8 LED Genius\ub178\ubc14 3Color Splash FXStick TennisQuests & SorceryTrap!WeatherBug EliteMetal DetectorZombie Caf\u00e9TM\uc744 \uc138\uacc4 \uc2dc\uacc4 \ubc0f \ub3c4\uad6cSmart Tools - \ub3c4\uad6c\uc0c1\uc790\ud544\uc218\uc5b4\ud50c\uac00\uc774\ub4dcTouch - formerly PingChat!World War\u2122 - 14 Honor PointsWhack Your Teacher 18+Clear Vision (17+)MAYDAY! \ube44\uc0c1 \ucc29\ub959SMS Backup & Restore\uc601\ud654 \ud034\uc988\uc2a4\ud30c\uc774\ub354 \uce74\ub4dc\ub180\uc774\ubc84\ub4dc \ub79c\ub4dc 2.0Drift Mania Championship Lite250+ Solitaire \ubaa8\uc74c\uc9d1HeavenHellPhoto FX Live WallpaperSubway Surfer Play-StrategiesFontomizer SPRhapsodyPimple Popper\ub4dc\ub798\uace4 \uc2a4\ud1a0\ub9ac: \uc0c8\ub85c\uc6b4 \uc0c8\ubcbd\uc2a4\ucfe8\ub7f0: \uc9c8\ud48d\ub178\ub3c4 \uc5ec\uace0\uc0dd for kakaoBig Win Basketball\uce90\uc2dc\uc2ac\ub77c\uc774\ub4dc\u2013\ub300\ud55c\ubbfc\uad6d1\ub4f1\uc7a0\uae08\ud654\uba74DOG SCREEN CLEANER LWP FREE\uc6d4\ub4dc \uc624\ube0c \uc6cc\ud06c\ub798\ud504\ud2b8 \uc804\ud22c\uc815\ubcf4\uc2e4My PianoNBA Game Time 2012-13\u5927\u8001\u4e8c \u795e\u4f86\u4e5f\u5927\u80012\ub9d0\ud558\ub294 \uc0b0\ud0c0 \uc9c4\uc800\ub97c \ub9cc\ub098\ub2e4 \ubb34\ub8cc9GAG (free)Logo Quiz - \uc74c\uc545 \ubc34\ub4dcROM Manager (Premium)\ud53c\uc544\ub178 \ub9c8\uc2a4\ud130 \ubb34\ub8ccTETRIS\u00ae Blitz\uc9c4\uc2e4 \uac8c\uc784Nun Attack\ubba4\uc9c1\ud1a1\ud1a1 for kakaoBlockbuster for Motorola\ub124\uc774\ubc84 \ube14\ub85c\uadf8 - Naver Blog\uac00\uc7a5 \uc778\uae30\uc788\ub294 \ubca8\uc18c\ub9ac\u5fae\u535awetter.comMushroom Garden\ub180\ub77c\uc6b4 \ube0c\ub85c\ud070 \ub514\uc2a4\ud50c\ub808\uc774\uc758 \uc7a5\ub09c\ub4dc\ub798\uace4 \uc560\uc644 \ub3d9\ubb3c\uc0bc\uad6d\uc9c0\ub97c \ud488\ub2e4 : \uc9c4\uaca9\uc758 \uad00\uc6b0\uc26c\uc6b4 \uc0ac\uc9c4 \ud569\uce58\uae30 Free2\u0413\u0418\u0421 - \u043a\u0430\u0440\u0442\u044b \u0438 \u0441\u043f\u0440\u0430\u0432\u043e\u0447\u043d\u0438\u043a\u0438\ud1b5\ud654 \ucc28\ub2e8WWECar Conductor: Traffic Control\ubc18\ub527\ubd88ElectroDroid\ub2e4\ub9ac \uac74\ucd95\uac00 LITE\ud574\ud53c\uc2a4\ud2b8\ub9bf for Kakao\uc9c0\ubb38 \uc778\uc2dd \uc7a0\uae08Mint.com Personal FinanceHangmanConnectBotTank Recon 3D (Lite)Verizon TonesLogos QuizGameboy Color A.D.SoundCloudG-News - \ub274\uc2a4 (\uc9c0\uc5ed)\uc11c\uc6b8\ubc84\uc2a4 (SeoulBus) -  \uc218\ub3c4\uad8c \ubc84\uc2a4\uc815\ubcf42008\ud504\ub85c\uc57c\uad6c LITEBen 10 \uc6b8\ud2f0\uba54\uc774\ud2b8 \uc5d0\uc77c\ub9ac\uc5b8: \uc81c\ub178\ub4dc\ub86cAudible for AndroidRope'n'Fly - From Dusk (Free)\ub808\uc774\ub514 \ubc84\uadf8 (\ubb34\ub8cc \ucf00\uc96c\uc5bc \uc288\ud305 \uac8c\uc784)Tri Peaks HD\ud30c\uc774\ud305\ud788\uc5b4\ub85c for Kakao\ub85c\uc2a4\ud2b8 \ud15c\ud50cII\ub808\uc774\uc2f1\ud788\uc5b4\ub85c\uc988 for kakaoCNN App for Android PhonesCoin Dozer: Seasons\uac00\uc18d\uc2a4\uce94\ub4e4 for KakaoBlow Up (Free)\uc0c1\uc790\uc6d0\ud130\uce58 \ubc30\ud130\ub9ac \uc138\uc774\ubc84\ub77c\ucfe4\uc2ac\ub77c\uc774\uc2a4 for KakaoG Cloud \ubc31\uc5c5ADWLauncher EXEverfriends - \uc74c\uc131 \uae38\uc7a1\uc774Dragonplay WidgetStickman Cliff Diving (Free)Rings ExtendedDevil HunterRegina 3D LauncherAtomic Bomber\ub124\uc774\ud2b8Tip-Off BasketballLOL\ubc31\uacfc\uc0ac\uc804AudioManager\ub124\uc774\ubc84 \uce74\ud398  - Naver CafeBattle.net \ubaa8\ubc14\uc77c \uc778\uc99d\uae30Android System InfoSketch FreeBad Piggies HD\ud1b5\ud654 \ub179\uc74cInkPad \uba54\ubaa8\uc7a5 - \ub178\ud2b8 -\ud558\uae30QR BARCODE SCANNER\ubaac\uc2a4\ud130 \ub77c\uc774\ud504\uc704\ud0a4\ubc31\uacfc \ubaa8\ubc14\uc77cNoogra NutsRun Like Hell!Four In A Line\ud1a0\uc774 \ube4c\ub9ac\uc9c0TETRIS\u00ae freeAbyss: \uc5d0\ub374\uc758 \uc720\ub839\uac00\ub85c\uc138\ub85c \ub0b1\ub9d0\ub9de\ucd94\uae302013Tiny RobotsPlayerPro Music Player\uc601\uad11\uc758 \uc194\uc800: \ud604\ub300 \uc804\uc7c1WiFi FinderDatPiff Mobile\ucd95\uad6c \uc2a4\ucf54\uc5b4 - FotMobSlash!HeroYandex.Navigator\uc815\ud1b5\ub9de\uace0 2012Dragon WarcraftBabsy \uc544\uae30 \uc774\uc57c\uae30\uc0dd\uc120 \ubaa8\ud5d8Real Steel FriendsMP3 Music Search Download Pro\uc54c\ubab8 \ud22c\uc2dc\uae30 Naked ScannerGTasks\uba54\ubaa8\ub9ac \ubd80\uc2a4\ud130 Lite (Memory Booster)Test for FriendsRadarNow!Clash of LordsVirtual CitySporosSmart Lock Free (\uc571/\ubbf8\ub514\uc5b4 \uc7a0\uae08)PocketCloud Remote RDP / VNCSpartan Wars: Empire of HonorT-Mobile Video Chat by QikZombie Invasion : T-VirusTopface - meeting is easyPoweramp Standard Widget Pack\ud504\ub85c\uc57c\uad6c for KakaoAngry Gran 2Slice Ice!Smooth CalendarApps OrganizerBingo BeachOne Browser -formerly iBrowserArmored Strike Online (Lite)\uc190\uc804\ub4f1 - flashlight LED\uc2a4\ud0c0\ub77c\uc774\ud2b8 \ub77c\uc774\ube0c \uc6d4\ud398\uc774\ud37c\ubb34\ub8cc \ubc84\uc804TuneIn Radio ProFake iPhone 4S\u0643\u0644\u0645\u0629 \u0641\u064a \u0623\u0631\u0628\u0639 \u0635\u0648\u0631Push Roll (\ub864 \ubc00\uc5b4)BW Animation PackageSBS\ud3ec\ud2b8\ub9ac\uc2a4 for kakao\ud48d\uc120 \ube14\ub77c \uc2a4\ud2b8 \ud734\uc77c (Bubble Blast)Mein o2CloudyFrozen BubbleGO\uc5f0\ub77d\ucc98iFunny :)Shane Reaction! Zombie DashRedboxTraffic Jam FreeVampires Live\u2122\ub354 \ub098\uc740 \ud6c4\ub808\uc26c HD + LED\ub85c\uace0\ub97c \ucd94\uce21 - What's the BrandLink2SDFinger BowlingAvengerFreeze! - \ud589\uc131 \ud0c8\ucd9cDigitally Imported RadioGin Rummy Free\uae00\ub85c\ubc8c \uc544\uc6c3\ube0c\ub808\uc774\ud06c\ub514\uc2a4\ucf54\ud310\ub2e4: BJ\ub300\uaca9\ub3cc! for AfreecaTVLOL Pics (Funny Pictures)\u00b3\ufffd\ufffd\u540f\ufffd\ufffd\ufffd\ufffd\u91c9\ufffd\ufffd \ufffd\uc1f1\ufffd\ufffd\ufffd\ufffd\ufffd\ufffd !!\ubcd1 \ucd2c\uc601ESPN Goals\ub9ac\ub4ec\uc2a4\uce94\ub4e4 for Kakao\ube14\ub808\uc774\ub4dc \ub7ec\uc26c: \uc791\uc740 \uc601\uc6c5\uc758 \ub4f1\uc7a5 for KakaoTap Pet HotelGarfield's Defense\uc2ec\ubc15\ub3d9 \uae30\ub85d\uae30 - CardiographWiFi ManagerMapMyRun GPS RunningBible Quotes\ubca8\uc18c\ub9ac\ucc9c\uad6d (\uce74\uce74\uc624\ud1a1,\uc54c\ub78c\uc74c,\ubca8\uc18c\ub9ac,\uc54c\ub9bc\uc74c)Steamy WindowDolphin Browser\u00ae Mini\ubcf4\uc11d Jewels ProBaseball Superstars\u00ae II\uac70\ub9ac\uce21\uc815\uae30 - Smart Measuredailyme TV, Serien & FernsehenSpecial Enquiry Detail\ub3c8\ub418\ub294 \uc124\ubb38\uc571, \uc624\ubca0\uc774 - \uc624\ud508\uc11c\ubca0\uc774 \ud328\ub110\uccb4\uc2a4 - Chess LiveGlympseRelax and SleepYou Peliculas: Movies FreeWord Breaker (Words Cheat)XiiaLive\u2122 - Internet RadioWho Is The Killer (Episode I)EngadgetSpace Dog + | Facebook GameFlow Free: BridgesBirzzleCricket WorldCup FeverIngressSense Analog Clock Widget\uc5d0\uc5b4\ud3ad\uadc4\uc2a4\uba38\ud504 \ube4c\ub9ac\uc9c0League of Heroes\u2122\uc5d0\ub974\uc5d8\uc6cc\uc988\ub4c0\uc5bc\uc624\ube0c\ud398\uc774\ud2b8Beer Pong HD FreeBubble Burst FreeKids Connect the Dots Lite\uc548\ub4dc\ub85c\uc774\ub4dc\uc5d0 \ub300\ud55c \ub77c\uc774\ube0c TV\ube60\ub978\uc758 SMS \uc560\ud50c \ub9ac\ucf00\uc774\uc158 - Pansi SMSAndroid Terminal Emulator\ub370\uc2a4\ud2f0\ub2c8\uc544\uac00\uc0c1 \uc218\uc220SoundHound \u221e\uc2ac\ub86f \uc2ac\ub86f\u2122D.O.T. Defender of Texel (RPG)4 \uac24\ub7ec\ub9ac \ud55c \ub2e8\uc5b4F18 Carrier Landing LiteWarspear Online\uc0ac\uc9c4 \uc6cc\ud504\u30de\u30af\u30c9\u30ca\u30eb\u30c9\u516c\u5f0f\u30a2\u30d7\u30eaFarm Tower HDPencil SketchDoodle God\u2122 F2PFLV \ub3d9\uc601\uc0c1 \ud50c\ub808\uc774\uc5b4\ud574\uc9c8\ub158 \ub77c\uc774\ube0c \ubc30\uacbd\ud654\uba74Hearts Free\ud034\uc988 \ubb34\ud55c\ub3c4\uc804 - Qube \ud034\uc988\ud050\ube0caniPet \uc218\uc871\uad00 \ub77c\uc774\ube0c \ubc30\uacbd\ud654\uba74 (\ubb34\ub8cc)Clay JamiMediaShare LiteOkey\ud130\uce58\ud130\uce58\ud640\uc778\uc6d0 for KakaoVidTrim - Video Trimmer\uc57c\ub2e8\ubc95\uc11d \ubc29\uadc0 \ub18d\ub2f4\uc774 \ucfe0\uc1582x Battery - \ubc30\ud130\ub9ac \uc808\uc57d (\ud55c\uad6d\uc5b4)Okey PlusGmote 2.0You Peliculas ClassicDark Arcana: \uce74\ub2c8\ubc1cWordblitz for FriendsJewellust Litewp clock design live wallpaper[\uc0c8\ub85c\uc6b4] \uc88c\uc6b0\ub1cc \uc2e4\ud5d8\uc2e4 II - \ud504\ub85c1to50 for KakaoSMS \ubca8\uc18c\ub9ac Top60\ubc84\ub4dc\ud321 for KakaoWinds of Steel Demo\ud504\ub9ac\ud0a5 \ubc30\ud2c0LQSA Quiz\ub9c8\uc774 \ubb34\ube44\uc2a4\ud0c0 \ubca0\ub204\uc2a4 for KakaoWhats the Saying? 1Pic1 PhraseGnarBike\uc758 \ud3c9\uac00\ud310Gesture Searchadidas EURO 2012 LiveWallpaperOI File ManagerGranny Smith (\uadf8\ub798\ub2c8 \uc2a4\ubbf8\uc2a4)\uceec\ub7ec \ud130\uce58 \ud6a8\uacfc\ud589\uc6b4 \ubc14\ub78cHBO GO\uc624\ube0c\uc81c OVJET\u3010\u80b2\u6210\u7121\u6599\u30b2\u30fc\u30e0\u3011\u80b2\u3066\u3066\uff01\u30de\u30a4\u30ef\u30f3\u30b3\u266aWoW Droid ArmoryTic Tac Toe FreeSimejiMushroom Garden DeluxeEspier LauncherBattery Defender-\uc9c0\ub2a5\uc801 \uc804\uae30 \uc808\uc57d \uc804\ubb38\uac00Just ShoutPoyntNinesky \ube0c\ub77c\uc6b0\uc800i Fishing LiteExtreme Road TripWireless Tether for Root Users\ubb3c\uace0\uae30\uac00 \ub118\uce5c\ub2e4Square Register\uacf5\ub8e1 \uc12c - Dino IslandMercadoLibre\u9ebb\u96c0 \u96f7\u795e -Rising-Game Dev Story\ub9d0\ud558\ub294 \uace0\uc591\uc774 \ud1b0\uac00\ud544\ub4dc \ub514\ud39c\uc2a42\uadf8\ub9ac\uae30 \ubc29\ubc95 : \uc560\ub2c8\uba54\uc774\uc158 \ub9cc\ud654Kobo eBooksPocket SocceriMobsters\u2122 - 12 Favor PointsBig Sport Fishing 3D LiteScreen Filter\uc5d0\ud53d \ub514\ud39c\uc2a4 2 \u2013 \ub354 \uc708\ub4dc \uc2a4\ud3a0Brilliant Quotes & QuotationsWeather for Switzerland\ud5e4\uc5b4 \uc0b4\ub871 - \ud0a4\uc988 \uac8c\uc784Track My TrainVLC for Android BetaBeNaughty - Flirty DatingCordy\ub124\ud2b8\uc6cc\ud06c \uc2e0\ud638 \ubd80\uc2a4\ud130 BESTQik VideoBlock Story LiteSongify\uc804\uad6d\ubc84\uc2a4\uae08\uc18d\ud0d0\uc9c0\uae30 - Metal DetectorLogos QuizMy Boy! Free - GBA EmulatorStar LegendsInstaPicFrame for InstagramKaspersky Mobile SecurityTouchPal KeyboardThe Bard's TaleSpare Parts Plus! (no ads)\uc5d8\ud504\ub514\ud39c\uc2a4 for KAKAO\ubcbd \ub2e4\ub9acLDS Gospel LibrarySWAT:End War\uc6b4\uc138 \ud50c\ub7ec\uc2a4Basketball Shots 3D (2010)\ubaa8\ub358 \ucef4\ubc43 3: \ubab0\ub77d\ud55c \uc81c\uad6dCJ: Strike BackMy 190Nova Launcher Prime\ud5ec\ub85c\ud788\uc5b4\ub85c for KakaoCribbage ProJEFIT - Workout,Fitness,GymLogEurosport.comMortPlayer MusicSlots Social Casino \ub77c\uc2a4\ubca0\uac00\uc2a4 \uce74\uc9c0\ub178Sun Rise Free Live WallpaperSnakeTube Video DownloaderKids Preschool Puzzle Lite\ub9e4\uce58\uc5c5\ub1cc \uc5f0\ub839 \uac8c\uc784Elemental - Alchemy PuzzleBeauty CameraGO Calendar Widget\ubc30\ud2c0\ud321\ud321 for KakaoHeroes & MonstersSMS Backup +The CroodsHotels.com \uc5d0\uc11c \ud638\ud154 \uac80\uc0c9 \ubc0f \ud638\ud154 \uc608\uc57d\uc880\ube44\ub4dc\ub77c\uc774\ube0cMonsters U: Catch ArchieOcean TowerEarth And LegendNYTimes for AndroidPaper CameraDog Licker Live Wallpaper FREEPlay Tennis\ub9c8\ud53c\uc544 \uac8c\uc784 - \u200b\u200b\ub9c8\ud53c\uc544\uc758 \ucd1d\uaca9\uc804Tic Tac Toe - \ud2f1\ud0dd\ud1a0Papaya Farm 2011\uc704\uce58\uc6cc\uc988: \ud37c\uc990(Witch Wars)\uc804\ud22c \ub8e8USA TODAYMarble Blast 3Missile Defense \ubbf8\uc0ac\uc77c \ub514\ud39c\uc2a4\uc9c0\ud558\ucca0 \ub0b4\ube44\uac8c\uc774\uc158MOG Mobile MusicLauncher 8 (\u4effwp8\u98ce\u683c\u684c\u9762)\u535a\u96c5\u9b25\u5730\u4e3bYandex.ShellBusiness Calendar Free\ubc30\ud130\ub9ac \uc704\uc82fAutoRapDIRECTV Remote FREE!MineCanary Minecraft GuidePlants vs. Zombies\uc228\uc740\uadf8\ub9bc\uc744 \ucc3e\uc544\ub77c! - \uc138\uacc4\uc5ec\ud589\ub9cc\uc9c0\uae30 \ud0d0\uc815 \ub098\uba54\ucf54 \uc7ac\ubc30 \ud0b7\ud2b8Identity in Christ Daily Bible\ucc28\uc774\uc810 \ucc3e\uae30 - Find MeParallel Kingdom MMOScreen Off and LockBanjo\uba54\uc774\ud50c\uc2a4\ud1a0\ub9ac \ube4c\ub9ac\uc9c0Super Stickman Golf 2Tap Paradise CoveBatteryTime LiteThree\uac24\ub7ed\uc2dcFoxFi (WiFi Tether w/o Root)Meteor - MeteoradarRoulette RoyaleMoai SlotsiTranslate\uc2a4\ub3c4\ucfe0 Super SudokuDB NavigatorGO SMS Pro FBChat plug-inWeight Watchers MobileDownhill XtremeHarlem Shake Creator Lite\u042d\u0440\u0443\u0434\u0438\u0442: \u0421\u043b\u043e\u0432\u0430 \u0438\u0437 \u0441\u043b\u043e\u0432\u0430Paper RacingDrag Toilet PaperZeam LauncherMinimalistic TextAnger of Stick 3\uc9c0\ud558\ucca0 \ub3c4\ucc29\uc815\ubcf4\ub9ac\ud2c0\ub808\uc804\ub4dc for KakaoGPS TestGPS Tracking ProSoftonic MobaTripIt Travel Organizer FreeCarnivores: Dinosaur Hunter HDNyan Cat: Lost In SpaceOut of Milk \uc1fc\ud551 \ubaa9\ub85dDisney Quiz\uc2a4\uc2dc \uccb4\uc778\uff08Sushi Bar\uff09qeepSolitaire Free PackSongzaMr. Bingo Ball\ub18d\uad6c \ub358\uc9c0\uae30\ub808\uc774\uc2f1 \ubaa8\ud1a0\ub864\ub7ec\ubcfc Roller Ball\uc77c\uc778 \uc6a9\uc758Falling Ball\uc5d0\ud53d \ub514\ud39c\uc2a4 \u2013 \ub514 \uc5d8\ub9ac\uba3c\ud2b8Pets LIVE\u2122Boardtastic Skateboarding 2\u0627\u0643\u0634\u0641 \u0627\u0644\u0635\u0648\u0631\u0629GT \ub808\uc774\uc2f1: Hyundai EditionThe SandboxPhoto Studio\uceec\ub7ec\ub515\ud2b8 \uc0ac\uc804 + \uc704\ud0a4\ud53c\ub514\uc544\uace8\ub4dc \uacf5\ubcd1\uc774\uc0b6\uc740 \uacc4\ub780 (\uc721\uc131, \uc7ac\ubc30 \uac8c\uc784)Need for Speed\u2122 Most WantedAutoCAD WSXDA-DevelopersThe Avengers Live WallpaperWho wants to be a millionaire?TV ThailandPalringo Group MessengerParkour: Roof Riders Lite\ubc14\uc6b4\uc2a4\ubcfc 2.5DNetCounter\ud0b9\uc2a4\uc5e0\ud30c\uc774\uc5b4\u5927\u5bcc\u7fc14FunAirport ScannerCheckers Free\uc9c0\ud558\ucca0 \uc885\uacb0\uc790 : Smarter Subway\uc624\ud0c0\ucfe0 \uce74\uba54\ub77cFlight Simulator Boeing FreeParking Frenzy 2.0DeezerSolar ChargerTAMAGOEasy Tether LiteTrapster\ucde8\uc5c5\uac80\uc0c9ModFace FreexPiano\u53f0\u9435\u9ad8\u9435\u6642\u523b\u8868AndroVid \ube44\ub514\uc624 \ud2b8\ub9ac\uba38Root ExplorerBlackJack 21 Live - Casino3BMeteo - Weather Forecasts\uc0dd\ub9ac \ub2ec\ub825\ucd08\ucf54\ucd08\ucf54 for KakaoThrottleCopter\ubca8\uc18c\ub9ac MP3 Pro\ub97c \ud655\uc778\uace8\ud504 Golf 3D\uc6d0\uae30\ub0a0\uc528\ub2e4\ud06c \ub098\uc774\ud2b8 \ub77c\uc774\uc988\ud37c\ud53c\ub77c\uc774\ub354 for KakaoSetCPU for Root UsersThe Secret SocietyBubble level\ud0c0\uc774\ub2c8 \ud0c0\uc6cc\uace8\ud504\uc2a4\ud0c0Feedly - Google Reader | RSSPolice Scanner Radio ScannerFind SomethingExtreme SkaterBattle TowersAkinator the Genie FREEFake Windows 8Loops - the ultimate dots gameSimple Calendar Widget\ud648\ub7f0\ubc30\ud2c0 3D (Homerun Battle 3D)AIVC (Alice)Dominoes!Boat Browser \ube0c\ub77c\uc6b0\uc800Crazy GrandpaQQ\u7a7a\u95f4\ud0f1\uadf8\ub7a8Ninja Saga\u30d1\u30ba\u30c9\u30e9ComboFing - Network Tools\ubfcc\uc789\ubfcc\uc789 \uc0ac\ucc9c\uc131 for KakaoMoboPlayer Codec for ARM V6VFPWidgetsoidLOVOO Flirt, Chat, Single AppLegendary Heroes\ud5ec\ub85c\ud0a4\ud2f0 \ube4c\ub9ac\uc9c0 for Kakao\ubc85\uc2a4 \ubba4\uc9c1 \u2013 \ubb34\uc81c\ud55c \uc74c\uc545 \ub4e3\uae301 - \ud074\ub9ad \uccad\uc18c\uae30IPL Cricket Fever 2013\uacf5\uc2dd London 2012 Results \uc571Calls Blacklist\ubc30\ud130\ub9ac \uc704\uc82f ZSmash Cops Heat\uc804\uc7c1\uc5d0\uc11c \uc655\uad6dFOX NewsWidgetLocker \uc7a0\uae08\ud654\uba74\ubbf8\ud22c\ub370\uc774 - me2day\u0623\u0631\u0628\u0639\u0629 \u0635\u0648\u0631 \u0643\u0644\u0645\u0629 \u0648\u0627\u062d\u062f\u0629 - \u0623\u0644\u063a\u0627\u0632GO Keyboard Emoji plugin\uc624\ud504\ub77c\uc778 \uc0ac\uc804Destiny Defense:Angel or DevilMy Xbox LIVE\uc800\uaca9 \ucd1d\uc5d0 \ub9de\uc558!Falling FredEmpire War - Full Ver.VPlayer Video Player\uae30\ud0c0 \ud29c\ub108\uc751\uac00 \uc591\uc721 \uc2dc\ubbac\ub808\uc774\ud130 \ubaa8\ubc14\uc77cRacing Live\u2122 - 12 Points\uc5b4\uba54\uc774\uc9d5 \uc2a4\ud30c\uc774\ub354\ub9e8Dolphin Browser V9WiFi OnOff\uc0c8\ub85c\uc6b4eBuddy XMS \u2013 SMS\ubcf4\ub2e4 \ub354 \ub9ce\uc740 \uae30\ub2a5mixi\uc82c \ud37c\uc9902\ud300\ub098\uc778 for Kakao\ud034\uc988\ud0b9 for Kakao\uc774\uc9d1\ud2b8 Zuma - \uc544\ub204\ube44\uc2a4\uc758 \uc0ac\uc6d0ActionPotato\uc194\ub9ac\ud14c\uc5b4\ubc30\ud2c0\uc2a4\ucfe8\uc591\uad81aDownloader\u0e15\u0e34\u0e4a\u0e01\u0e40\u0e01\u0e49\u0e2dMayan KumaRoyal Revolt!\u0e44\u0e1e\u0e48\u0e40\u0e17\u0e47\u0e01\u0e0b\u0e31\u0e2a\u0e42\u0e1a\u0e22\u0e48\u0e32CGVGhost Radar\u00ae: CLASSICViki \u2013 TV, Movies & MusicLED LightIce GalaxyFancy WidgetsBouncy Bill\uc548\ud2f0 \uc808\ub3c4 \uc54c\ub78c\ubc30\ud130\ub9ac \ubd80\uc2a4\ud130(Battery Booster)BSPlayer FREETETRIS\u00ae free360\u624b\u673a\u536b\u58ebI Need A HeroMagicMarkerZombie Road TripGotchaWarriors\uc791\uc740 \uce58\uacfc - \uc544\uc774\uac00 \uac8c\uc784World Weather Clock WidgetReckless Racing LiteBubble TotemDoodle Devil\u2122 F2PScienceIllustrated Quiz BattleTraktor DiggerBooster FREE - Task KillerSonic 4 Episode II LITEFast RebootTemple Run: Brave\ub04a\uc73c \uc804\ud654\ud574!MiuMeet - Live Online Dating\ucd08\ucf54\ucd08\ucf54\ud0c0\uc774\ucfe4Shark Dash FreeGlam FeveriGag - The Best *Gag AppSony Extras for FacebookPrince of Persia Classic FreeNavitel NavigatorNFL '12\ub3c4\ub3cc \ub7f0\ucc98 - Dodol LauncherJewels DashAsphalt MotoFable Kingdom HD\uc774\ubbf8\uc9c0\ud328\ub7ec\ub514Nosferatu - TwilightX-plore File Manager\ub124\uc774\ubc84 \ubba4\uc9c1 - Naver Music\uc751\uc6a9 \ud504\ub85c\uadf8\ub7a8 \uce90\uc2dc \ud074\ub9ac\ub108\uc640\uc77c\ub4dc \ube14\ub7ec\ub4dc\ubb3c\uc758 \ube44\ub9d0 \ub77c\uc774\ube0c \ubc30\uacbd\ud654\uba74Replica IslandSe Coucher Moins B\u00eateDurak Elite\uad6d\uc81c \ubcf5\uc2f1 \ucc54\ud53c\uc5b8SanDisk Memory Zone\uad6c\uae00 \ud55c\uae00 \ud0a4\ubcf4\ub4dc\uace0\uc18d\ub3c4\ub85c\uad50\ud1b5\uc815\ubcf4\ud314\ub77c\ub3c5(Paladog) FreeGlowPuzzle (\uae00\ub85c \ud37c\uc990)BebbledHolo LaunchermVideoPlayerStick SwingCan KnockdownLogo Quiz - \ucd95\uad6c \ud074\ub7fd\ub18d\uad6c \uc804\uccb4 - \ubcc4\uc774\uc77c\ud654.MARVEL War of HeroesShazam EncoreAnTuTu \ubc34\uce58\ub9c8\ud06cPreschool and Kindergarten\ub8e8\ud3212012\ud504\ub85c\uc57c\uad6c KBO\uc601\uc0dd\ubb38 for KakaoClassic SimonMilionerzySpeed Skater\uc74c\uc545\ubb34\ud55c\ub2e4\uc6b4+\ubca8\uc18c\ub9ac-\ub2ec\ubba4\uc9c1\ud0b9\ub364\uc564\ub4dc\ub798\uace41WeatherCatapult KingFML OfficialNext \ub7f0\ucc98 3D\u552f\u821e\u7368\u5c0a \u884c\u52d5\u7248LINE Homerun Battle BurstiPhone 4S ScreenPop Word ReactionKeyboard from Android 2.3\uc6b0\uc8fc \uc2dd\ubbfc\uc9c0Akinator LitemyAT&TCall of Duty\u00ae ELITERadiant DefenseGallery Lock Pro(\uc0ac\uc9c4/\ub3d9\uc601\uc0c1 \uc7a0\uae08)PicSay Pro - Photo Editor\ub85d \ubcfc\ub9c1 3D - \ucd5c\uace0\uc758 \ubb34\ub8cc \uac8c\uc784Facebook \ud398\uc774\uc9c0 \uad00\ub9ac\uc790CamCard Lite\uba85\ud568\uc2a4\uce90\ub108 (\ud55c\uae00 \ud55c\uc790 \uc77c\uc5b4)Strip Holdem - Alexis TexasRecord My Call3D \ud06c\ub9ac\uc2a4\ub9c8\uc2a4 \ub77c\uc774\ube0c \ubc30\uacbd\ud654\uba74 \ubb34\ub8ccLearn English with babbel.comAppMonster Free Backup RestoreMyMusicOn \uac00\uc0ac\uc9c0\uc6d0 \uc74c\uc545 \ud50c\ub808\uc774\uc5b4Santa's VillageVirtual Families 2Puffin Web Browser FreeFree SMS India\uc6cc \ubaa8\ubc14\uc77cSkyrockWHAFF(\uc640\ud504) \ub3c8\ubc84\ub294\uc5b4\ud50cscreenshot\ud669\uae08 \uad11\ubd80 Gold MinerSteam\uc545\ub9c8 Ninja2 (\ubbf8\uc158)Cloud PrintChristmas Tree Live WallpaperLINE MASS FISHING\uce74\ub4dc\uac00\ub514\uc5b8: \uacf5\uc8fc\ub97c \uc9c0\ucf1c\uc918 for kakaoDiet Point \u00b7 Weight LossSoccer / Football Live Scores\ubca0\uc2a4\ud2b8 \ubc30\uacbd \uc774\ubbf8\uc9c0Mr. Block FreeFarm Frenzy FreeBusyBox\ucf54\ub808\uc77c\ud1a1UK & World NewsGGWeather for France\ud544\uc218\uc5b4\ud50c \ubc31\uacfc\uc0ac\uc804 (\ubb34\ub8cc\uc5b4\ud50c/\ubb34\ub8cc\uac8c\uc784)aTrackDog - track new versionTitan Turret\ubbf8\uc2a4\ud130\ub9ac \uc544\uc77c\ub79c\ub4dc \ud558\ub984\uc2e0\uc758 \uc800\uc8fc (Mystery)\u624b\u6a5f\u4e09\u570b\u570b\u969b\u7248Push Ups proMobo Video Player (v5)Finger SlayerPinball Deluxe\ud0a5\uc787\uc544\uc6c3!Dice With Buddies\u2122 FreeMusic HubPop the PicMW3 GunsPoseOpenTableHistoryEraser\u041a\u0442\u043e \u0445\u043e\u0447\u0435\u0442 \u0441\u0442\u0430\u0442\u044c \u043c\u0438\u043b\u043b\u0438\u043e\u043d\u0435\u0440\u043e\u043c\uc544\ub984\ub2e4\uc6b4 \uacac\uc801Leo's RC SimulatorSchottGunn\ub808\uc5b4 \ub514\ud39c\uc2a4:\uc2e0\uc804 Lair Defense: ShrineDominoes\uc790 \uc880\ube44 \uac8c\uc784 \uc880\ube44\ub2e4\uc744 \uc8fd\uc5ec\ub77c\u58a8\u8ff9\u5929\u6c14NewsRob (Google Reader / RSS)Theme Park\ud1a0\ub07c\uad74\uc18d \uc568\ub9ac\uc2a4 for KakaoSiriusXM Internet RadioTeam Stream by Bleacher Report2011\ud504\ub85c\uc57c\uad6cStriker Soccer Euro 2012Drum Kit\u817e\u8baf\u624b\u673a\u7ba1\u5bb6\uff1a\u5b89\u5168\u4e13\u5bb6\uff0c\u8d34\u5fc3\u7ba1\u5bb6\uc804\ud22c \ub808\uc774\uc2f1 3DStitcher Radio - News & TalkHorse FrenzyPhoto Art - Color EffectsBlosics HD FREEHappy Farm:Candy DayDialer OneDaily & Love  HorocopeApache Attack: Heli Arcade\uc2a4\ud2f0\ucee4\ubd80\uc2a4(\ub9c8\uc774 \uc774\ubaa8\ud2f0\ucf58)Big Win Hockey 2013\uc720\ub9ac\uc5d0 \ube44\u71c3\u71d2\u5427!!\u53f3\u8166\u7684\u904b\u52d5\u6703-2013 \u590f\u5b63\u7bc7Magisto - Magical Video Editor\uc2ec\uc7a5 \ub77c\uc774\ube0c \ubc30\uacbd \ud654\uba74SoulCraft - Action RPGPhrase Friends FreeGalaxyS GO Launcher EX ThemesHappy ChefSilentMode OnOffTwisted Colors\ubc30\ud130\ub9ac \uc778\ub514\ucf00\uc774\ud130Nutty Fluffies Rollercoaster\uc804\uae30 \ud130\uce58Zombie Road\ubc84\ube14 \ube14\ub798\uc2a4\ud2b8 \ubc15\uc2a4LINE \u30c4\u30a2\u30fc\u30baFashion StyleArcane EmpiresTweetCaster Pro for TwitterDirt Road Trucker 3DDays Left WidgetKingdoms of Camelot: BattleParanormal AgencyPool Break LitePocketInvEditorSpeedView: GPS SpeedometerZombie Terminator BetaAK-47Smart Keyboard TrialHi There\uc880\ube44\uc2a4\ub7ecWAR for KakaoGOWidget Theme - TransparencyTiny TribeStick Stunt Biker 2runtastic PRONotification Bubbles FreeKiller Bean UnleashedMy Prayer - \u0635\u0644\u0627\u062a\u064a\uc54c\ub78c\ubaac - \uc544\uce68\uc744 \uae68\uc6cc\uc904 \uc0c8\ub85c\uc6b4 \uc54c\ub78c ( alarm )\ubb34\uc81c\ud55c 4G \ud574\ud0b9ArabicFonts ( No Root ) \u062e\u0637\u0648\u0637Easy Video PlayerOrkutToy Truck Rally 3DPocket Planes\ub9c8\uc778\ub4dc \uac8c\uc784Gems Journey\ub514\uc9c0 \uc2dc\uacc4 \uc704\uc82fHD Full Screen Caller IDLiveScore\uce90\ub9ad\ud130\ud321 for KakaoYandex.WeatherWord Search FreeNoLEDTask Manager\u042f\u043d\u0434\u0435\u043a\u0441.\u041c\u0435\u0442\u0440\u043eSlideIT \ud0a4\ubcf4\ub4dc\uc0ac\uc6b4\ub4dc \ubc0f \ubca8\uc18c\ub9acRO\u4ed9\u5883\u50b3\u8aaa-\u74e6\u723e\u57fa\u91cc\u4e4b\u4e82Phase 10 FreeNinja Rush\uc9c0\ubb38 \uc2a4\uce90\ub108 \uc7a0\uae08Greed for Glory: War Strategy\uc2a4\ub178\uc6b0\ubcf4\ub529 \uc11c\ubc0bXGo!Chat Themes PluginAgenda Widget for AndroidAppGratis\uceec\ub7ec \ud37c\uc990 - Shift ItTeslaLED FlashlightGRAVITY PROJECTDropwordsForce Saber of LightCan Knockdown 3\ubbf8\ub514\ube14 \uce90\uc2ac \ub514\ud39c\uc2a4\ubb34\ub8cc\ud1b5\ud654\uc870\ud68c4 Plaatjes 1 WoordKing's Bounty: LegionsTiny CastleSolid Explorer (Trial)Moon+ Reader Pro (50% Off)body symbolTop Gear: Stunt School SSRToddler Coloring Book FreePhotoShake!\ud37c\ud399\ud2b8\ud504\ub85c\uc57c\uad6c\uc624\ub298\ub3c4 \uc57c\uad6c\ud55c\ud310 for Kakao\ub2cc\uc790 \uc808\ub2e8 \ud654\uad6cSolitaire Deluxe\u00ae\ud6c4\ub974\uce20 \uc29b Fruit Shoot\u4e57\u63db\u6848\u5185WordPress\uc54c\uc1a1 \uc548\ub4dc\ub85c\uc774\ub4dcAllShareCast Dongle S/W Updatesexy \uc637\ubc97\uae30\uae30 \uac00\uc704\ubc14\uc704\ubcf4GEICO AppMp3 music download bestDog Whistle FreeQuickTouch \ubb38\uc790\uba54\uc2dc\uc9c0DesignsForces of WarFunForMobile Ringtones & ChatBig Win Baseball (\uc57c\uad6c)BBC iPlayer\ub85c\uc9c1 \ub9c8\uc2a4\ud130Tazer \ubb34\ub8ccRemember The MilkPlayScapeLINE JELLY\ub2f9\uc2e0\uc774\uc8fd\ub294\uc774\uc720Wave Blazer - FREE\ub2e4\uc74c tv\ud31f - Daum tvPotRecipe SearchLetters from Nowhere 2iFont(Easy to change font)\ubd88\uaf43\ub180\uc774\ube59\uace0 \ub9e4\ub2c8\uc544Jasmine IMOffice Jerk FreeBubble ShootPhase 10Radardroid Lite InternationalX ConstructionRacing Live\u2122\ub808\uc54c\ud31c ( RealFarm )\uc6d4\ub4dc\uc624\ube0c\uad6c(World of Goo)BlendokuEzan Vakti / Namaz Saati ProLINE Birzzle FriendsDocumentsToGo Full Version KeyH\u306a\u8a712ch\u3084\u30cd\u30c3\u30c8\u306e\u30a8\u30c3\u30c1\u306a\u306f\u306a\u3057\u3092\u96c6\u3081\u307e\u3057\u305f\u3002GO Clock Widget\uc548\ub4dc\ub85c\uc774\ub4dc \uc6a9\uc758 HD \ubc30\uacbd \ud654\uba74Go Free (\ubc14\ub451)SFR TV\uc74c\uc131\uac80\uc0c9\u200b\ubcfc\ub968 \ucee8\ud2b8\ub864 \ud50c\ub7ec\uc2a4OverDrive Media ConsoleSMS CollectionKeePassDroid\uac31\uc2a4\ud130 \ub9ac\uc624: \uc131\uc790\uc758 \ub3c4\uc2dcSpace War LiteMemory Trainer\uc9d0\ub9ac \uac00\uc0ac\uc9c0\uc6d0 \ubbf8\ub514\uc5b4 \ud50c\ub808\uc774\uc5b4\ub370\ube4c\uc988GameFly\uc544\uc2a4\ud314\ud2b8 6: \uc544\ub4dc\ub808\ub0a0\ub9b0Hooked - Game recommendations!Automatic Task KillerTrue or False - Test Your WitsDating for everyone! Mamb\u0430!Angry Birds Space PremiumDonkey Jump\u00b5Torrent Beta - Torrent AppHungry Shark 2 Free!SushiChopHD WidgetsDo it (Tomorrow)Photo EditorScreen CrackCake Maker2 - \ucfe0\ud0b9 \uac8c\uc784\u0623\u062f\u0639\u064a\u0629 \u0648\u0623\u0630\u0643\u0627\u0631 \u062d\u0635\u0646 \u0627\u0644\u0645\u0633\u0644\u0645Baby Adopter\uc601\uc6c5\uc804\uae30 - \uae40\uc6a9 \uc815\ud1b5\ubb34\ud611 \uc138\uacc4\uad00Free Aquarium Live WallpaperBubble PopperIKEA CatalogueWatchESPNGO SMS Pro Pink Sweet theme\ubc84\ube14 \ube14\ub808\uc774\uc988Armored Strike OnlineEscape ChallengeHD Film IzleIce Cream JumpFish Tank 3d Live WallpaperPapiRiverX-RunnerReign of Dragons: Build-Battle\ub0b4 \ucc28Duck Hunter\ubc30\ud2c0 \uc624\ube0c \ub808\uc804\ub4dc (\ubc14\ud558\ubb34\ud2b8)\ub124\uc628 \ube14\ub8e8 GO \uc2e4\ud589\uae30\uc758 EX \ud14c\ub9c8Dino Paradise\ub9e4\uc77c \ubcf5\ubd80 \uc6b4\ub3d9 \ubb34\ub8cc\ud37c\uc990 \uc8fc\uc8fc for KakaoSakura Falling Live WallpaperKids Numbers and Math LiteSongPoposu!droidTotal Commander\ub85c\uc2a4\ud2b8 \uc544\uc77c\ub79c\ub4dcYouMail Visual VoicemailEpocratesKNY\u53f0\u7063\u5929\u6c23\u8cc7\u8a0a Taiwan WeatherUC\u6d4f\u89c8\u5668 8.8\u0645\u0646 \u0633\u064a\u0631\u0628\u062d \u0627\u0644\u0645\u0644\u064a\u0648\u0646 2013GYROFalldown ClassicCubie MessengerCUKI \ud3f0\uafb8\ubbf8\uae30 \ub7f0\ucc98 - CUKI Launcher\uac74\uc880\ube44 : \ud560\ub85c\uc708 GUN ZOMBIE:HALLOWEENAngry Gran TossPAC-MAN Championship Ed. Demo\ub0b4 \ubaa9\uc18c\ub9ac\ub97c \ubcc0\uacbdBlue Skies Free Live WallpaperTEDAnti Furto Droid FREE - SMS\uc544\ub984\ub2e4\uc6b4 \ubc30\ud130\ub9ac \ub514\uc2a4\ud06cSave MMSSparta: God Of WarPenguin I - ClassicInstaFollow for Instagrambajar musica gratis en espanolKeeper\u00ae \ube44\ubc00\ubc88\ud638 & \ub370\uc774\ud130 \uae08\uace0ClockworkMod Tether (no root)MyBackup ProBubble Bird\ub9e4\uc77c\ub9e4\uc77c \uc2a4\ub3c4\ucfe0 for KakaoDraw and Guess with Croco\u0414\u0440\u0443\u0433\u0412\u043e\u043a\u0440\u0443\u0433 - \u0434\u0440\u0443\u0437\u044c\u044f \u0440\u044f\u0434\u043e\u043c4 Pics 1 Word PuzzleThe Moron TestRedline Rushadidas miCoachDoraemon Fishing 2S\uc880\ube44 \ud0c0\uc6b4DJ Studio 4OnlineZeitungen DeutschlandRace Of ChampionsCover Art DownloaderSticky Blocks Free\uc560\ub2c8\uba38\uc2a4 for Kakao\uc8fc\ucc28\uc7a5 \ub3c4\uc804 3D [LITE]\uc0ac\uc9c4 \ud3b8\uc9d1\uae30 - FotolrPrinterShare\u2122 Mobile Print\uce58\uc988 \ud0c0\uc6cc Cheese TowerDrift Mania Championship 2 LE\u5168\u58d8\u62532 OLMX Moto (Lite)Super Clock Wallpaper Free\uc554\ub4dc \ud788\uc5b4\ub85c\uc988\ube14\ub85d \ubcbd\ub3cc \uac8c\uc784\uc744 \ubd80\uc154OvuView - Period TrackerVirtual Families LiteJuego actrices pornoPinger: Text Free + Call FreeArt Of GlowA Online Radio\ucea3\ud0c0\uc6b4 for KakaoThe Schwartz Unsheathed\ubb38\uc0c1 \ub0b3\ub294 \uac70\uc704 for AppinKoreaPPTV\u7f51\u7edc\u7535\u89c6(\u624b\u673a\u7248)Tap BloxWalgreens\ud310\ub3c4\ub77cTVMOTOR TREND NewsLost Bubble\uc9c0\ubb38 \uc778\uc2dd \uc7a0\uae08 \ubb34\ub8ccThe Island: CastawayGangnam Style Game 2\ubb34\ub8cc \uc288\ud37c \uc791\uc5c5 \ud0ac\ub7ec(Super Task Killer)Video Live Wallpaper\ucd5c\uace0\uc758 \uc6c3\uae34 \ubca8\uc18c\ub9acClassic Words SoloEscape the Room: Limited Time\uc640\uc774\ud30c\uc774 \ud574\ucee4SMS and Call Blocker PluginCut and SliceGoogle FinanceaCar - Car Management, Mileagesexy \uc5ec\uce5c \uc637\ubc97\uae30\uae30Pinball Arcade Free\uc548\ub4dc\ub85c\uc774\ub4dc \uc74c\uc545 \ud50c\ub808\uc774\uc5b4\ud130\uce58\ubbf9\uc2a42Fireworks Live WallpaperFake-Call Me Free - Xmas SantaInferno GalaxyLiveWare\u2122 \uad00\ub9ac\uc790Pilot!AirPush DetectorTiny Zoo FriendsX-Plane 9\ud55c\uac8c\uc784 \ubbf8\ub2c8\ud329 (\uba85\ud488\uac8c\uc784 8\uc885 \ud328\ud0a4\uc9c0)Ninjas Live\u2122Puzzle RetreatMy Singing MonstersDino Paradise with PapayaAlchemy ~ GeneticsBattle Bears\ud2f8\ud2b8 \ub808\uc774\uc2f1 Tilt Racing\uc138\ube10\ud3ec\ucee4 \uc564 \ud640\ub364\ud2c0\ub9b0\uadf8\ub9bc\ucc3e\uae30 PLUS for Kakao\ubb34\ub8cc\ub9cc\ud654 - \uc77c\ubcf8\ub9cc\ud654,\uc21c\uc815\ub9cc\ud654,\ubb34\ud611\ub9cc\ud654Brandomania: Logo Quiz 2Transparent Cam\ud22c\uba85\uc2a4\ud06c\ub9b0 \ucd2c\uc601Mahjong 3DQuickMark Barcode Scanner \ud55c\uad6d\uc5b4Grand Theft Auto: Vice CityBattery Widget Reborn (BETA)Kingdoms Live\u2122T-Mobile Visual Voicemail\ud5d0!\uc2a4\ud0c0\ud034\uc988Clear Vision (12+)\ub7f0\ub358 2012 - \uacf5\uc2dd \ubaa8\ubc14\uc77c \uac8c\uc784 (\ubb34\ub8cc)MightyText - \ucef4\ud4e8\ud130\uc5d0\uc11c SMSGO SMS Pro WidgetONLINE RPG AVABELMONOPOLY HotelsCampus LifeAmazon Mobil f\u00fcr AndroidBounce ClassicGraffiti BallStair DismountWord Search Puzzle\uce74\ub4dc\uc758 \uc2e0 \uc0bc\uad6d\uc9c04 Pics 1 WordGoogle \uce98\ub9b0\ub354imo messenger betaLINE CardNightmares from the DeepColoring Book (\uce60\ud558\uae30 \uadf8\ub9bc\ucc45)Robot Unicorn Attack 2XINGScopaiTag - \uc74c\uc545 \ud0dc\uadf8 \ud3b8\uc9d1\uae30Vortex GalaxyRun Run Chicken 2012KNY\u9ad8\u901f\u516c\u8def\u5373\u6642\u5f71\u50cfNPR NewsUrban DictionaryColoroidANT Radio ServiceStarbucksTV SPIELFILM\uce94\ub514\uc758 \ubcf4\uc11d (Candy Jewels)\uc2ec\ub9ac \ud14c\uc2a4\ud2b8\uc544\uc774\ud050\ud321 for KakaoSmart Voice RecorderSmart SWF Player- Flash Viewer\ubc30\ub2ec\uc758\ubbfc\uc871\uac24\ub7ed\uc2dc\uc6cc TDCookie DozerAndroid Updates, News & AppsMuzy - Share photos & collages[\ubb34\ub8cc] \ud55c\uac8c\uc784 \uc0ac\ucc9c\uc131\ub85c\uace0 \ud034\uc988 - Logo QuizAudiogalaxy Music\u9177\u6211\u97f3\u4e50\u64ad\u653e\u5668Slots TycoonCoin Machine100 Floors Official CheatsTagsForLikes - Instagram TagsAgingBoothAir Hockey SpeedPocket Bingo FreeSwipedChasing YelloQuran - \u0627\u0644\u0642\u0631\u0622\u0646 \u0627\u0644\u0643\u0631\u064a\u0645Shadow GalaxyVideo DownloaderBoat Browser Mini \ube0c\ub77c\uc6b0\uc800Race Illegal: High Speed 3DFirst AidPapaya Farm HDAvoooid!Hero\ubca0\uc774\ucee4\ub9ac \uc2a4\ud1a0\ub9ac: \ud06c\ub9ac\uc2a4\ub9c8\uc2a4 \uc5d0\ub514\uc158\uc81c\uc784\uc2a4 \ub2e4\ub78c\uc950\ub97c \ub9d0\ud558\uae30\uc090\uc774 \ubc84\ud2bc!Lose It!MX \ud50c\ub808\uc774\uc5b4 \ucf54\ub371 (ARMv6)100 MissionsFAST \uc778\ud130\ub137Absolute RC Plane Sim\ud3ed\ud48dPop Icon Quiz\ubbf8\ub85c!Wifi Connecter LibraryHappy Vikings FREECars And Guns 3D FREELiveHomeFree Dictionary OrgMcAfee Antivirus & Security\ud300\ubaac\uc2a4\ud130 for KakaoWondershare PowerCamhikeManga Searcher | Manga ReaderMLB.com Home Run DerbyAlien Hive\ud1a0\ub974: \ud3ed\ud48d\uc758 \uc81c\uc655Ultimate Guitar TabsExtreme FormulaWeatherProBackgammon - Narde\uae40\uae30\uc5f4\uc758 \uc778\uae30\uc5c6\ub294 \uc571\ub9c8\uc791 \uc194\ub9ac\ud14c\ub974 - Mahjong Solitaire\uc7ac\ubc30\uc18c\ub1402\ub125\uc2a8 \uc62c\uc2a4\ud0c0\uc988OfficeSuite Pro 6 + (PDF & HD)Easy App Lock - Manager\uc131\uacbd KJV\uadf8\ub808\uc774\ud504\ubc38\ub9acReal Truck Parking 3DSupermarket Mania\u00aePapiWallDragon Hunter HDIce Cream Sandwich (theme)Monkey Kick Off -FREE fun game\ud1a1\ud1a1\uc2a4\ucf00\uce58 : \uc190\uae00\uc528,\uc190\uadf8\ub9bc,\uc0ac\uc9c4 \uafb8\ubbf8\uae30Little Big CityCall ConfirmBrightness Level\uc190\uc804\ub4f1Match.com \u2013 #1 Dating Site\uc8fc\ucc28 \ud2b8\ub7edPocketBand LiteSpeed Anatomy Quiz FreeBlitzer.de\uba54\ubaa8\uc7a5Zombie World WarLife is MagicMultiLing \ud0a4\ubcf4\ub4dcSubway Surfer Free TipsSeason Zen FreeWarzone Getaway Counter Strike\uad6d\uae30 \ud034\uc988Push UpsCrazy Climber\u0627\u062e\u0628\u0627\u0631 \u0627\u0646\u062f\u0631\u0648\u064a\u062f \u0627\u0644\u0639\u0631\u0628The CW Network\ucf5c\ub85c\uc138\uc6c0 \ub514\ud39c\uc2a4Invenio \uc74c\uc545DH Dating - Free Singles ChatTraffic Panic LondonPAC-CHOMP! namcoAbsolute RC Heli SimPocket God\u2122NAVIGON selectElementsPyramid RisingDropUnified RemotePop Star for AndroidAppTrailers\ubaac\uc2a4\ud130\ub77c\ub9c8 \ud50c\ub798\ub2dbROM Toolbox LiteTalkBox Voice Messenger - PTTLord of MagicStrava CyclingOpenSudokuZombie, Run!\uc778\ud53c\ub2c8\ud2b8 \ubaac\uc2a4\ud130 Infinite Monsters\u75af\u72c2\u731c\u6b4c\u540dMini Info ClassicReal Madrid FantasyManager '13Gods Wars FreehandyCalc Calculator\u0423\u0433\u0430\u0434\u0430\u0439 \u0441\u043b\u043e\u0432\u0430[\ubb34\ub8cc] \uc624\ud22c\uc7bc \uc544\ub0a0\ub85c\uadf8Soul Movie\ub098\uc758 \ub7ed\ud0a4 \uc2a4\ud0c0 \ub77c\uc774\ube0c \uc6d4\ud398\uc774\ud37c\ubb34\ub8cc \ubc84\uc804\uba54\uc774\ud50c\uc2a4\ud1a0\ub9acLive PremiumZOOKEEPER BATTLER\u00e9sultats Foot en DirectMobile Recharge and Bill PayTrulia Real Estate & Rentals\uc194\uc800 \uc624\ube0c \uae00\ub85c\ub9ac: \uc6d4\ub4dc \uc6cc 2 FREETouchPal Contacts\u767e\u842c\u4e9e\u745f\u738bMenstrual CalendarSwiss Weather RadaraCalendar - Android CalendarLogo QuizCurso Completo Ingl\u00e9s WlinguaWord Crack FreeMP3 \uc74c\uc545 \ub2e4\uc6b4\ub85c\ub4dc \ud504\ub85c\ub208\uc1a1\uc774 \ubb34\ub8ccBBC News\u706b\u7dda\u7a81\u64ca Gun Strike\u7e41\u4e2d\u7248\uc0ac\uc9c4 \ud569\uc131\uce90\uc26c\ud074\ub9ac\uc5b4DEER HUNTER CHALLENGEImage Pack 1 - FindDifferencesMarktplaats\ube44\ud589 \ucee8\ud2b8\ub864\uc601\uc5b4\ub4e3\uae30\ud3c9\uac00 \ud558\uc6b0\ud22c\ub9ac\uc2a8Friendcaster Pro for FacebookSense Analog Clock Widget DarkWise Proverbs Daily BibleWheelz - Free EditionGalaxy Note 2 \uae43 \ub77c\uc774\ube0c \ubc30\uacbd\ud654\uba74Navfree: Free GPS Navigation\uc2a4\uce74\ud504\ub97c \ubb36\uc5b4\ud558\ub294 \ubc29\ubc95\uc5d8\uac00\ub4dc EX[\uc9c0\uc774]\uc774\uc0c1\ud615 \uc6d4\ub4dc\ucef5FOCUS Online - NachrichtenInstaWeather\uc2dc\uccad TV\ube59\uace0 \ube14\ub798\uc2a4\ud2b8Android 2.3 Launcher (Home)\ub561\ud050\uba38\ub2c8 - \ub3c8\ubc84\ub294 \uc571Super Manager 3.0\ubc1c\ucc28\uae30\uacf5\uc8fc \ub3cc\uaca9\ub300PhoneFlicks-Netflix AndroidRockPlayer Lite2 Pics 1 Phrase Word Game\uc6d0\ud130\uce58 \ucd5c\uc801\ud654[Free]\ubc29\ud0c8\ucd9c4CBS SportCasteriFighter 1945Linda File Manager[\ubb38\uc0c1 \ubb34\ub8cc\ub300\ubc29\ucd9c] - \uc560\uc990HoopzBeautiful Live WeatherTape-a-Talk Voice RecorderLight Racer\uc0b4\ub791\uc0b4\ub791 \ub3db\ub2e8\ubc30 (\ub79c\ub364 \ucc44\ud305)Saavn Music - Bollywood & MoreAndFTPLEGO\u00ae App4+Berzerk Ball 2Burn the RopeFree Advanced Task Manager\u6d77\u8cca\u6642\u4ee3UEFA Champions League edition\uc288\ud37c\ubca0\uc774\uc2a4\ubcfc\uc628\ub77c\uc778 for KakaoEmpire VS OrcsPetraVis LitePlayStation Official AppShush!\uc74c\uc545 \ubb34\ub8cc \ub2e4\uc6b4\ub85c\ub4dcSketchBook Mobile ExpressGang Wars\u6709\u9053\u8bcd\u5178Heroes CallHulu PlusToucherCalendar PadBrasileir\u00e3oLove HoroscopesMoney Lover - \ube44\uc6a9 \uad00\ub9acTaskos To Do List | Task List\ubaac\uc2a4\ud130 \ud30c\ub77c\ub2e4\uc774\uc2a4\u5e03\u5361\u6f2b\u753bNo Lock\ud310\ud0c0\uc9c0 \ub514\ud39c\ub354\uc2a42 By HangameLogo Quiz[\uacf5\uc9dc\ubb38\uc0c1] \uacf5\uc9dc \ubb38\ud654\uc0c1\ud488\uad8cMp3 Media ConverterExchange RatesFutbol Argentino by CentroGolLe Coran\u6b66\u58eb\u5927\u6230\u6bad\u5c4dSuper AndroixJustPictures!Burger - Big FernandTattoo Tycoon FREE\ubd84\ub178 \ub9cc\ud654 \uba54\uc774\ucee4\uc2e0\ub300\ub959\uc774\uc57c\uae30 for Kakao\uc2a4\uc717\uac00\ub4e0StickMan BMX Stunts Bike\ubc34\ub4dc - \ubaa8\uc784\uc774 \uc26c\uc6cc\uc9c4\ub2e4!City Island: Airport \u2122Gmail Unread Count OLDzaycev.net + VKontakteFruit Devil\ud50c\ub77c\uc789 \ubc84\ub514 for KakaoActive lockscreenHangman FreeTVCatchup\uc7ac\ubbf8\uc788\uc740 \uce74\uba54\ub77cEAGLE NEST - Sniper training\ub9c8\uad6c\ub9e4\ub2c8\uc800 [No.1 \uc57c\uad6c\uac8c\uc784]\u661f\u5ea7\u904a\u6232\u5927\u5168\uc18c\uc6b8\uce74\ub4dc\ub9c8\uc2a4\ud1304Team Awesome Free\ucd5c\uace0\uc758 \uac70\uc9d3\ub9d0 \ud0d0\uc9c0\uae30T.O.D for KakaoApp del Dia - 100% Gratis\ub808\uc2a4\ud1a0\ub791 \uc2a4\ud1a0\ub9ac: \ubc1c\ub80c\ud0c0\uc778 \ub370\uc774 \uc5d0\ub514\uc158Parallel Mafia MMORPG\uc2a4\ud398\uc774\uc2a4\ud321\ud321 for KakaoAwesome Facts10 Pin Shuffle\u2122 Bowling\ud30c\uc6cc\uc138\uc774\ubc84\ucca0 \ub9e8 3 \ub77c\uc774\ube0c \ubc30\uacbd \ud654\uba74AllCallRecorderFrisbee(R) Forever\uc9c0\ubb38 \ud654\uba74 \uc7a0\uae08 ICS1Tap Cleaner (\ud55c\uad6d\uc5b4 \ubc84\uc804)graBLOXKoreaTV plus (\ud55c\uad6d \ub4dc\ub77c\ub9c8 \ub2e4\uc2dc\ubcf4\uae30)Kids Connect the Dots Xmas\u91cd\u88dd\u6b66\u58eb\u7e41\u9ad4\u7248Splashtop 2 - Remote DesktopAppli Priv\u00e9eMysteryville 2: hidden crimeAngel Piano.Atlantis: Pearls of the DeepDevil NinjaClassic Theme GO Launcher EXFree RunningezPDF Reader: PDF [50% \uc138\uc77c]\uc139\uc2dc\ud55c CuteGirl \uac24\ub7ec\ub9acVaulty \uc8fc\uc2dd\ubc84\ube14 \ube14\ub77c\uc2a4\ud2b8 \ubd80\ud65c\uc808 \uc2dc\uc98c3D Hunting: Alaskan Hunt Plus11\ubc88\uac00\ucfe0\ud3f0\ubaa8\uc544 - \uc18c\uc15c\ucee4\uba38\uc2a4 \ubaa8\uc74c 1\uc704, \uc2dc\uc791\uc740 \ucfe0\ud3f0\ubaa8\uc544Handcent Font Pack5\ud2b8\ub9ac\ub2c8\ud2f0\uc18c\uc6b8\uc988 for KakaoMuslim Pro -Azan, Quran, Qibla\ud130\uce58\ud31dSkyrock.comLocus FreePing Pong - Best FREE gameBoyAhoy - \ub3d9\uc131\uc560\uc790 \ub0a8\uc131\uc758 \ub300\ud654, \ub9cc\ub0a8, \uce5c\uad6cSWF Player - Flash \u00aeFileViewerStickman \uc2e4\ud589Spiders-Man Running(FREE)Legend of the CryptidsPlayerPro DSP pack\uace0\uc18d 3D \ub808\uc774\uc2f1 \uc790\ub3d9\ucc28\uc774\ud004\ub77c\uc774\uc800 \uc74c\uc545 \ud50c\ub808\uc774\uc5b4IPL Cricket FeverDesktop VisualizeR\uba4b\uc9c4 \uc560\uc644 \ub3d9\ubb3cIP Cam Viewer LiteWhosCall : \ubc1c\uc2e0\uc790\uc2dd\ubcc4 \ubc0f \ucc28\ub2e8AutoKiller Memory Optimizer(Free)Doodle Jump Now!!!\u0411\u0438\u043b\u0435\u0442\u044b \u041f\u0414\u0414 2013 \u0420\u0424Enemy Strike\uadf8\uac83\uc744 \ud37c\uc990\uc744 \ucc28\ub2e8 \ud574\uc81c\uc5e0\ub137(Mnet)PhotoWall Live WallpaperAutoScout24 - used car finderVKVideo \u0432\u0438\u0434\u0435\u043e-\u0430\u0443\u0434\u0438\u043e \u043f\u043b\u0435\u0435\u0440 v2.9Draw Something 2\u2122 Free\uc694\ub9ac \ub9c8\uc2a4\ud130 Cooking MasterTouchDown for SmartphonesHamlet (\ud584\ub9bf)\ub124\uc774\ubc84 \uce98\ub9b0\ub354-\ub514\ub370\uc774/\uc2dc\uac04\ud45c-Naver CalendarSMS BackupCoin Dozer: World TourTurboTax SnapTaxCamera Fun FreeStriker SoccerOne Piece ARCarddass FormationMake Me BaldBooty Quest\ubcf4\uc11d\ud321 for KakaoNotes\uc2a4\ub9c8\ud2b8 \ucd5c\uc801\ud654 \ubc15\uc2a4WorldCraft Free(multiplayer)ZombieSmashElite ForceLINE cartoon warsMonster ZumaMy Paper Plane 2 (3D) FullZebra Paint\ubc30\ub2ec\ud1b5 \uc2dc\uc98c2Grumpy BearsBing on VZW\uc9f1\uad6c\ub514\ud39c\uc2a4 \uaca8\uc6b8\uc774\uc57c\uae30Evernote for Android\uc57c\ud6c4!FlashLightStickman Ski Racer (Free)IMoNiJellyflop!\uc5b4\ud50c\ub9ac\ucf00\uc774\uc158 \uc7a0\uae08BMX RiderCS GunsGangstar CityOpera \ube0c\ub77c\uc6b0\uc800 \ubca0\ud0c0UrbanspoonPrivalia Mobile\ubcfc\ub968 \ubd80\uc2a4\ud130Farm Frenzy 3\uc53d\ud50c\ub808\uc774\uc5b4 \uac00\uc0ac\uc9c0\uc6d0 \uc74c\uc545 \ud50c\ub808\uc774\uc5b4Lock Screen WidgetMindjet for AndroidXFINITY TV\u9739\u9742\u7279\u52e4\u7d44 Assaulter\uce74\uc6b4\ud130 \uc0ac\ub9c9\uc758 \ud30c\uc5c5Rage of the GladiatorSlots Farm - slot machinesBall-Hop BowlingQuell ReflectFartDroid Fart MachineScarface\uc561\uc158 \uc0ac\ucc9c\uc131 SPFlick Golf!Script Pack for FlipFont\u00ae FREE\ubc29\uadc0 \uc18c\ub9ac \uc7ac\ubbf8SBS \uace0\ub9b4\ub77c\u041c\u044f\u0443\u0421\u0438\u043cQui\u00e9n LlamaPower Toggles\ub3c8\ubc84\ub294\ub180\uc774\ud130 - \ub3c8\ubc8c\uace0 \ubb38\ud654\uc815\ubcf4 \uc5bb\uace0 \ud2f0\ucf13\ubc1b\ub294 \uc571Striker Soccer LondonBubble Safari\u2122\ub808\uc2a4\ud1a0\ub791 \uc2a4\ud1a0\ub9ac: \ud06c\ub9ac\uc2a4\ub9c8\uc2a4ex\ub2e4\uc774\uc5bcPPS\u5f71\u97f3(HD\u7248)\ud0ed\ud22c - \uc790\uae30\ub9cc\uc758 \ub274\uc2a4 \ub4f1\ub85d \ubc0f \ud3b8\uc9d1Opzi BingoHello Kitty \uce74\ub2c8\ubc1c\ud55c\uae00\uad50\uc815\uae30\uc640\ubaa8\ub4e0\uc0ac\uc804-\uad6d\uc5b4 \uc601\uc5b4 \uc77c\uc5b4 \uc911\uc5b4 \ub3c5\uc5b4 \ubd88\uc5b4 \ub4f1MyPhoneExplorer ClientStick Stunt Biker (Free)\ucd95\uad6c \ud074\ub7fd \ub85c\uace0 \ud034\uc988\uae4c\ub0e5 for KakaoReal Racing 320000 Awesome JokesMMA NewsArenaIcomaniaAlert Terrorist FREE\ub9c8\ube44\ub178\uae30: \uc0dd\ud65c\uc758 \ub2ec\uc778Perfect ViewerGPS Essentials\ub9c8\ud53c\uc544 \ubaa8\ubc14\uc77c\ubaa8\ub9ac\uc544\uc0ac\uac00 for KakaoVIP PokerCut the Rope: Experiments\ub354 \ub098\uc740 \ud06c\ub809\ud2b8 \ud654\uba74Barnacle Wifi Tether\u304b\u3093\u305f\u3093\u5bb6\u8a08\u7c3fMusic Folder Player Free\uac1c\uc778\ud654\ub41c \uc571 \ub9c8\ucf13\uc778 AppreciateXPERIA FlashLightHandwrite Pack FlipFont\u00ae Free\uc2a4\ud30c\ub974\ud0c0\uc6cc\uc988 for KakaoComic Pack FlipFont\u00ae Free\uc9f1\ub77c\uc774\ube0c jjangliveUstreamMulticon Widget\ud14d\uc0ac\uc2a4 Holdem \ubd80\uc9c0\uae7d\uc774Messenger App LockLibra - Weight Manager\uace0\uc804\uc801\uc778 bubble breakerSurvival Run with Bear Gryllsold offender|Escape from jailAsphalt Surfers Free\uc77c\ub8e8\uc2dc\uc5442Free TV OnlineM+ MessengerTaskerFPse for androidAkinator the GenieJuiceDefender betaPaltalk Video ChatWorld Series of Poker9GAG - \uacf5\uc2dd 9GAG \uc751\uc6a9 \ud504\ub85c\uadf8\ub7a8Wikitude\ubb38\uc5b4 \uac8c\uc784 (Octopus)IP WebcamDragon Rising for FacebookKung Fu Do FightingTekken Card TournamentBartenderkaufDA Navigator\ubb34\uc0ad\uc81c \uc601\uc0c1 \uc5ec\ud0d5\ub9de\uace0EasyMoney - Expense ManagerRadiant Free\uc18c\ubb18\uc804\ubb38\uac00\ub85c\ucf13 \uc74c\uc545 \ud50c\ub808\uc774\uc5b4Family MessengerShoot the Apple 2Capital One\u00ae MobileJet Car Stunts LiteRingo: Ringtones & Text TonesAir Navy Fighters LiteOI Shopping listScoreNinjaTorque Pro (OBD2 / \uc790\ub3d9\ucc28)Train SimNQ Easy Battery Saver FREEHoroscope and TarotParking Mania\uc2a4\ub9c8\ud2b8 \ucd5c\uc801\ud654\n"
       ]
      }
     ],
     "prompt_number": 17
    },
    {
     "cell_type": "code",
     "collapsed": false,
     "input": [
      "print '; '.join(n_sort_appname)"
     ],
     "language": "python",
     "metadata": {},
     "outputs": [
      {
       "output_type": "stream",
       "stream": "stdout",
       "text": [
        "PUP Mobile Portal; MP3 \ubcc0\ud658\uae30 \ubb34\ub8cc; Balot -  \u0628\u0644\u0648\u062a; Bottom \uce74\uce74\uc624\ud648 \ud14c\ub9c8; Traffic Hour FREE; \uac00\ud544\ub4dc\uc758 \ud648 \uc2a4\uc704\ud2b8 \ub77c\uc774\ube0c \uc6d4\ud398\uc774\ud37c \ub77c\uc774\ud2b8; \u624b\u6a5f\u4fdd\u9463; MN\uc62c\ucc59\uc774\u2122 \ud55c\uad6d\uc5b4 Flipfont; [\ubb34\ub8cc\uc6b4\uc138] 2013 \uacc4\uc0ac\ub144 \ud1a0\uc815\ube44\uacb0,\uc0ac\uc8fc,\uc624\ub298\uc758\uc6b4\uc138; \u0e1e\u0e39\u0e14\u0e2d\u0e31\u0e07\u0e01\u0e24\u0e29; Angry Bots; CBS SportCaster; \uc62c\ub808 \uc571\ud504\ub9ac; Q2 \ud0a4\ubcf4\ub4dc \uc81c\uc548\uc5b4(\u4e2d\u6587 - \u62fc\u97f3); Clouds & Sheep Premium; 3D \uc131\ub0e5; \u751f\u6d3b\u884c VoiceGO! (\u4e2d\u6587\u641c\u5c0b\u5e73\u53f0); Dragon Ball Z HDTV; \ud53c\uc790 \ub7ec\uc26c; \uc218\ub2a5\uae30\ucd9c\uc219\uc5b4; Pokedex 3D Buddy; Restaurant GoLauncher EX Theme; \uc0ac\uc9c4 \ud6a8\uacfc; Scary Maze Free; O2 Priority Moments; IBK \ucc3e\uae30; JewelUp; MotoCross \uad11\uae30; \uac00\uc9dc \ud1b5\ud654 \uc2a4\ucf00\uc904\ub7ec; \ud574\ub9ac\ud3ec\ud130\uc758 \uc9c0\ud321\uc774; Mermaid's Pearl Free Slots; Detector de Mentiras; Shogun (Demo Version); Cake Shop Game 2013; PapiMountain; Alien Ninja; \u0639\u0635\u0627\u0645 \u0627\u0644\u0634\u0648\u0627\u0644\u064a - \u0646\u0627\u062f\u064a \u0628\u0631\u0634\u0644\u0648\u0646\u0629; Canal+ Liga; \u0e44\u0e1d\u0e17\u0e33\u0e19\u0e32\u0e22; \uc2a4\ud2f1 S.W.A.T.; MEyePro; LIG\uc601\uc5c5\uc9c0\uc6d0; Talk American (Free); T-Mobile TV; Insulta I Tuoi Amici; \uc778\ud615 \uc637 \uc785\ud788\uae30; \uc5bc\ud2f0\ubc0b \ub7ec\uc2dc\uc548 \ub8f0\ub81b; Clear Vision (12+); \uce74\uce74\uc624\ud1a1 \ud14c\ub9c8 - HAZE; \ucea3 \ub7f0\uc6e8\uc774; Cake Pop Maker - Cooking Fun; Toy Truck Racing 3D; Phone Number & Caller Location; Bubble Town 2 HD; \u6b66\u795e\u95dc\u8056; \ud53c\uce58\ube14\ub85c\uc378 \ub3c4\ub3cc \ub7f0\ucc98 \ud14c\ub9c8; \u505a\u7231\u59ff\u52bf \u6027\u7231\u6280\u5de7 1000+; KF Flames Free Live Wallpaper; MORE!PIYOMORI; \u6211\u53ebMT\u7e41\u9ad4\u7248; Naruto Ninja Battle; \ub514\uc988\ub2c8 \ud30c\ud2f0\ud558\uc6b0\uc2a4 for Kakao; \uc288\ud37c\uc2a4\ud30c\uc774\uce74\uba54\ub77cHD; Weight History (\ub2e4\uc774\uc5b4\ud2b8 \uccb4\uc911 \uae30\ub85d \uad00\ub9ac); LOL \ubc30\uc2ec\uc6d0\ub2e8(\ud2b8\ub9ac\ubdf0\ub0a0, Tribunal); La Prueba del Tonto; \uc74c\uc545 \ud06c\ub77c\ucf04 - \ubb34\ub8cc \uc74c\uc545; DJ Control; EL Study; Cartoon Puzzle; Gi\u1ea3i tr\u00ed t\u1ed5ng h\u1ee3p 4.6; \uc7a1\ucf54\ub9ac\uc544 \ub3c8\ud154\ubcf4\uc2a4 - \uc5c5\uacc4 1\uc704\uae30\uc5c5 \ucde8\uc5c5\uc804\ubb38; NASCAR RaceView Mobile '13; [CaKe] \ubaa8\ubc14\uc77c\uac8c\uc784 \uc720\uc800\ub4e4\uc758 \ud544\uc218 \uc5b4\ud50c! \uce90\uc2dc\uba54\uc774\ud06c; JB Home GO Locker Theme; \ud5ec\ub85c\ud788\uc5b4\ub85c \uacf5\uc2dd\ucee4\ubba4\ub2c8\ud2f0 \ud5dd\uadf8\ub9ac\uc571; \ud6c4\ud1a0\uc2a4 1\ud0c4 - \ud55c\uae00\ud310 Lite; \ub2f9\uc2e0\uc774 \uac1c\ub77c\uba74; \uc5bc\uad74\uc778\uc2dd \uc810\uc218 \uce21\uc815\uae30; Smart \uac15\uc758\uc2dc\uac04\ud45c; Amazing Alex HD; \ud604\ub300\uce90\ud53c\ud0c8(Hyundai Capital); \ub208\uae08\uc790 - Smart Ruler; \ub9d0\ud558\ub294\uc2dc\uacc4; \uc2a4\ub3c4\ucfe0; Shoot the Apple 2; \ub178\ud134 \uc720\ud2f8\ub9ac\ud2f0 & \ud0dc\uc2a4\ud06c \ud0ac\ub7ec; \ud0c8\ucd9c\uac8c\uc784 \uc5b4\ub460\uc758 \uc9c0\ud558\ubcd1\ub3d9; \uc544\uc774\ub514\uc5b4 \ub178\ud2b8 \uce74\uce74\uc624\ud648 \ud14c\ub9c8; Blockbuster for Motorola; Pizza Maker Crazy Chef Game; Signal Boosters; \uc218\ub3c4\ub294 \ud034\uc988; \uc9c0\ud37c7 2.0; \ud544\uc218\uc5b4\ud50c - \ubc30\ud130\ub9ac\uc2a4\ud1a0\ucee4(\ubc30\ud130\ub9ac\uc815\ubcf4 \ud45c\uc2dc); \ucfe0\ud0a4\ub7f0 \uce74\ud1a1\uce5c\uad6c\ucd94\uac00; Skyfire Web Browser 4.0; [\ubb34\ub8cc \uc601\ud654] HD \uc601\ud654\ubcf4\uae30 \uc601\ud654\uac10\uc0c1 \uadf9\uc7a5\ud310 \ubb34\ub8cc\ubcf4\uae30; \uce74\uba54\ub77c 360 - HD, \ud6a8\uacfc, \uc90c; , \ub9d0\ud558\ub294 \uace0\uc591\uc774 \ucda4\uc744 \ucd94\uace0.; \uc560\ub4dc\uce90\uc2a4\ud2b8 - \ub2f9\uc2e0\uc758 \ud22c\uc7a1(Two Job) \ub3c8 \ubc84\ub294 \uc571; \ub9b4\ub9ac\uac78 \uce74\uce74\uc624\ud648 \ud14c\ub9c8; LINE AirPenguin Friends; \ud2f0\ub04c\ubaa8\uc544\ubb38\ud654\uc0c1\ud488\uad8c; LovelyKitten GO Reward Theme; \ud56b \uc608\uc05c \uc5ec\uc790\uc758 \uc9c0\uadf8 \uc18c \ud37c\uc990; \uc2a4\ud2b8\ub9ac\ud2b8 \ud30c\uc774\ud305; \ud310\ub2e4\ub9c8\ucf13 - \ub0b4 \uc190\uc548\uc758 \ubcbc\ub8e9\uc2dc\uc7a5, \uc704\uce58\uae30\ubc18 \uc911\uace0\uc7a5\ud130; Youm7 Mob \u0627\u0644\u064a\u0648\u0645 \u0627\u0644\u0633\u0627\u0628\u0639 \u0645\u0648\u0628\u0627\u064a\u0644; \uc790\uc804\uac70 \uacbd\uc8fc HD; Peliculas-Videos-Series Online; \u767e\u79d1\u5c0f\u5b66\u5802 - \u540d\u5e08\u5b66\u9662; Cars Game: Kids Vehicle World; \ucd5c\ub300 \ub4dc\ub808\uc2a4 - \uc2e0\ubd80\uc640 \uc2e0\ub791; Jewel Magic; \ud22c\ub118\ubc84\ud50c\ub7ec\uc2a4; Galaxy Note 2 Feathers Go Lock; \ud1a0\uc815\ube44\uacb0 - 2013\ub144 \uc815\ud1b5 \ucd5c\uc2e0\ud310; \ucd1d \ud3ed\ubc1c - \uc2e4\ud589\ud558\uace0 \uc3f4; \ud5ec\ub85c\uc528\ud478\ub4dc; \ubcbd\ub3cc\uae68\uae30+; \ube60\ub978 \ub2e8\ucd95\ubc88\ud638; -\ud765\ubd80\uc758\uc655\ub300\ubc15- [\ubc15\ud14c\ud06c][\ub3c8\ubc84\ub294\uc571][TAMAGO]; \uadf8\ub9ac\uae30 \ubc29\ubc95 : \uace0\uc591\uc774; TerraTab; Shazam; Battery Calibration; Shape+Shape pic for Instagram; Silhouette Free Live Wallpaper; \ud64d\ucf69\uc5ec\ud589 - GetAbout Hongkong; Beat Hazard Ultra; \uce74\ud1a1 \uc774\ubaa8\ud2f0\ucf58; \ud14c\ub9c8\ucda9 - \ub9c1\ucfe0\uc774\uc2a4 \uce74\ud1a1\ud14c\ub9c8; \ud06c\ub8e8\uc138\uc774\ub4dc \uc815\ubc8c\uae30; Mr. Bingo Ball; Lynx Lunar Racer; \ucfe0\ud0a4\ub7f0 \uace0\ub4dd\uc810 \uacf5\ub7b5 \ucee4\ubba4\ub2c8\ud2f0; XXX Sex Videos FREE Prank; Bomberman Free; \uc8fc\uba38\ub2c8\uc18d\uc758 \uc5ec\ud589 \ud68c\ud654 \uc601\uc5b4; \ucf54\uce74-\ucf5c\ub77c; Texas HoldEm Poker Deluxe Pro; Digimon Unlimited; \uc544\uae30 \ub2e4\ub78c\uc950\ub97c \ub9d0\ud558\uae30; Ultimate Stick Fight; \uc74c\ub780\ud55c BJ \uc637\ubc97\uae30\uae30 \uc139\uc2dc\uc624\ub514\uc1582 [\uc131\uc778 19]; \ud3ed\uc2a4\ud14c\uc77c; \uc778\ubbf8tv (CJ E&M \ud504\ub85c\uadf8\ub7a8 \ubb34\ub8cc\ubcf4\uae30); Gtunes Music; \uc9c4\uaca9\uc758 \uac70\uc778 \ub2e4\uc2dc\ubcf4\uae30; Floor \uce74\uce74\uc624\ud648 \ud14c\ub9c8; \uc2a4\ub9c8\ud2b8 \uc544\uc774\ucf54\uce58 \u2013 \uc790\ub140\uc571; DREAM OF Echi  \uce74\uce74\uc624\ud648 \ud14c\ub9c8; \ubc84\ub77c\uc774\uc5b4\ud2f0\uc228 \uce74\uce74\uc624\ud648 \ud14c\ub9c8; \ud53c\ub178\ud0a4\uc624 \uce74\uce74\uc624\ud648 \ud14c\ub9c8; \uc2a4\ud0c0\uc77c\uc564\ud314 Style&Pal; \ud788\ub4e0\uc2f1\uc5b4 \ub2e4\uc2dc\ubcf4\uae30; \uc804\ubd81\uc740\ud589 \uc804\ubd81M\ubc45\ud06c; Baby learns body parts; \uc798 \uba39\ub294 \ubc95 - \uc74c\uc2dd\uc0c1\uc2dd\ubc31\uacfc; Make Me Bald - Video; Magic Effects Studio Camera; \uc774\uc9c0\ub370\uc774 \uc88b\uc740\uae00; INIpay Mobile; The King of Kungfu 97; \uc774\uc5bc\uc2fc\uae30\ucd08\uc911\uad6d\uc5b4; eXplosive Truck; \uc758\ud559\ubc31\uacfc - \ub9c8\uc774\ub2e5\ud130; \ub9e4\uc77c \uc694\uac00 \ubb34\ub8cc; Baratinha; ArtPix (HD); \ud1b5\ud654\ucc28\ub2e8 \ube14\ub799\ub9ac\uc2a4\ud2b8; Flashbang \ub9c8\ube44 \uc218\ub958\ud0c4; \ub9c8\uc6b0\uc2a4-R  GO LauncherEX Theme; \uc2dc\uacc4 && \ubc30\ud130\ub9ac && \uba54\ubaa8(2x1); \ud6c4\ub2ec\ub824 (\uc0ac\ub2e4\ub9ac \ud0c0\uae30); KNUApp(\uac15\ub0a8\ub300\ud559\uad50 \uc5b4\ud50c\ub9ac\ucf00\uc774\uc158); \uc36c\ub354 \uc870\ub958; \ud398\ub514\ud050\uc5b4 \ub514\uc790\uc774\ub108 \ub77c\uc774\ud2b8; Winfeud the Wordfeud helper; \ubc14\ub451\uc6d4\ub4dc - \uace0\uc804\uc0ac\ud65c\uc0ac\uc804; Dark forest 4 GO Launcher EX; Future  Next Launcher 3D Theme; \uce74\ud504; \uc561\uc790 \uc0ac\ub791; CABAL mobile; Dirty Jokes; \u0414\u0412\u0413\u0435\u0442; Connect Four; Hidden Object - Vegas World; Wedding on the Beach Dress Up; a Zombie Runner; \ub9d0\ud558\ub294 \uc785\uc220; \uc911\ud559\ud55c\uc790 \uc678\uc6b0\uae30; Ludo MultiPlayer HD - Parchis; Kisses for WhatsApp; Kingdoms Live\u2122; The Night Prayer - \u0635\u0644\u0627\u0629 \u0627\u0644\u0644\u064a\u0644; Worms 2: Armageddon; SFR Mon Compte; \uc6c3\uae34 \uc544\uce68 \uc54c\ub78c \ubca8\uc18c\ub9ac; \uc6b0\ub9ac\ud22c\uc790\uc99d\uad8c mug Smart; 4 Pics 1 Word - Guess the Word; \uc62c\ub313 \ub9e4\uc77c\ubc18\ucc2c; \ub3c4\ub9e4\uafb9 (\uc625\uc158/\uc9c0\ub9c8\ucf13/11\ubc88\uac00/\ucfe0\ud321/\ud2f0\ubaac\uc758 \ud310\ub9e4\uc6a9\uc18c\uc2f1); \uc624\ub85c\ubc14\ub451; Kids Animal Train: First Word; GO Default Search Widget; \u0417\u0434\u0440\u0430\u0439\u0432\u0435\u0440\u044b. \u041a\u0430\u0447\u0435\u043b\u0438; \ud31d\ud551\uc2a4\ud0c0; The king of fighters wing II; \uac1c\ub4e4\uc740 \uadf8 \ucc28\uc774\ub97c \uc2a4\ud31f; Hooda Escape Water Park; Blitzer.de; \ucc28\uac00\uc6b4 \uac74 \ubca8\uc18c\ub9ac; \u0627\u0644\u0645\u0648\u0633\u0648\u0639\u0629 \u0627\u0644\u0635\u0648\u062a\u064a\u0629 \u0627\u0644\u0627\u0633\u0644\u0627\u0645\u064a\u0629; Tone Picker - MP3 Ringtones; Galaxy Ninjas FREE; MovieBrowser HD; Spray The Wall 3D; MEGATROID; VZ Navigator Fascinate; SNCB/NMBS; UOB Mobile Banking; \u0646\u0643\u062a \u0633\u0624\u0627\u0644 \u0648 \u062c\u0648\u0627\u0628; \uc218\ud559 \uac8c\uc784 \ucc9c\uc7ac; Runner Prototype; \uc601\uc6c5\uc758 \uc544\uc774\ub374\ud2f0\ud2f0 : \ub2e4\ud06c \ub098\uc774\ud2b8; 1500\u95ee\u8111\u7b4b\u6025\u8f6c\u5f2f; shopkick: rewards for shopping; 500px; Perfect Date 2.0; \u05d9\u05e9\u05e8\u05d0\u05dc \u05d4\u05d9\u05d5\u05dd; \u0627\u0628\u062f\u0627\u0639 \u0627\u0644\u062e\u0627\u0644\u0642; \uc2b9\uc6a9\ucc28\uc640 \ud2b8\ub7ed \uc0c9 \uc608\uc57d; Gold Rush Lite; \uc560\ubb34\uc758\uc815\uc11d 200+; Yo Find It - Classic; SharpIPCService; Talking DoDo Bird; \uc18d\ub3c4\ub97c \uc6b4\uc804\uc5d0 \ud544\uc694\ud55c; \uc544\uc774\ud3f0 \ubc14\ub451 \ud14c\ub9c8; Bomb hamster (playing gopher; \uc544\uc6b0\ud1a0\uac00\ub4dc \ube14\ub799\ubc15\uc2a4; \ud328\ub7ec\ub514\uc0f7 - \ud154\ub808\ube44\uc804\uc5d0 \ub0b4\uac00\ub098\uc654\uc73c\uba74; PowerPoint Reader; Thairath for Android Tablet; Pig Cow Toe Halloween; \uc544\uad6c\uc57c\uad6c (\ud504\ub85c \uc57c\uad6c, \uc911\uacc4); Turret Commander: Aerial FPS; \ud398\ud398\ub9ac\ucf54 \uc2ac\ub9ac\ud53c\ub370\uc774 \uce74\uce74\uc624\ud1a1 \ud14c\ub9c8 kakaotalk; SJ\uacf5\uac10 \ud55c\uad6d\uc5b4 FlipFont; \uc2e0\ud55c\uae08\uc735\ud22c\uc790 \uc2e0\ud55ci smart; \ubaa8\ubc14\uc77c\uae30\uc544; \uc2e0\ub791\uc2e0\ubd80\ubaa8\uc5ec-\uc6e8\ub529\ud1a1,\uacb0\ud63c\ud1a1,\uc2e0\ud63c\ud1a1,\uc721\uc544\ud1a1,\uc778\ud14c\ub9ac\uc5b4,\ub370\ucf54; My Shit-List!; MN\uadc0\uc6a4\uadc0\uc6a4\u2122 \ud55c\uad6d\uc5b4 Flipfont; YD\ud5ec\ub85c\ud0a4\ud2f0\u2122 \ud55c\uad6d\uc5b4 Flipfont; \ub208 \uadf8\ub9bc\uc790 (\ubb34\ub8cc); Tivi Vi\u1ec7t-Kh\u00f4ng s\u1eed d\u1ee5ng Flash; Sexy Bikini Hunter; \uc544\uae30 \uc0ac\ub791 \ud3ec\ucf13; \uc288\ud37c\uc8fc\ub2c8\uc5b4\uc758 \ud0a4\uc2a4\ub354\ub77c\ub514\uc624; \uc139\uc2dc\uc2a4\ud0c0 Hot 1000 \ube44\ub514\uc624 \ub3d9\uc601\uc0c1; Hi-Q MP3 \uc74c\uc131 \ub179\uc74c\uae30/Recorder; Super Monsters Ate My Condo!; Cerebrum : culture g\u00e9n\u00e9rale; \uace0\uc74c\uc9c8 - \uc778\ub3c4\uc758 \uc0ac\ub791 \ub178\ub798; \u062a\u0641\u0633\u064a\u0631 \u0627\u0628\u0646 \u0643\u062b\u064a\u0631; KB\ud22c\uc790\uc99d\uad8c KB\uc2a4\ub9c8\ud1a1; DocumentsToGo Full Version Key; Smart Office 2; \uc138\uacc4\uc758 \uc218\ub3c4; Dubblen; \ud0ed \uc2ac\ub808\uc774\uc5b4 (Tap Slayer ) - \uc880\ube44; Curso de Ingles Gratis!; \uc11c\uc6b8 \uc9c0\ud558\ucca0; Hearts GO Launcher EX Theme; German for GO Keyboard; WOW Japanese Sexy Girls wMusic; 100tv\u9ad8\u6e05\u64ad\u653e\u5668-\u5168\u80fd\u624b\u673a\u89c6\u9891\u64ad\u653e\u5668; Crazy Star; m\uae30\ud504\ud2b8\uce74\ub4dc; \u0642\u0627\u062a\u0644 \u0627\u0644\u0630\u0628\u0627\u0628; English Russian Dictionary Fr; \ud328\uc158 \uc2a4\ucee4\ud2b8 \uac8c\uc784; Duck Hunting calls; Roland-Garros\u00ae 2013; HealthTap; \uc5b4\ub9b0\uc774 \ub178\ub798-\uc790\uc7a5\uac00 \ubb34\ub8cc; \uc544\ub984\ub2e4\uc6b4 \uc9c0\uad6c \ub77c\uc774\ube0c \ubc30\uacbd \ud654\uba74; \u0637\u064a\u0648\u0631 \u0627\u0644\u062c\u0646\u0629 \u0645\u0628\u0627\u0634\u0631; InstaCollage; \uc2e4\ud589\uae30 EX \ud558\ud2b8 \ud14c\ub9c8\ub85c \uc774\ub3d9\ud569\ub2c8\ub2e4; PhotoFram.es HD; \uac00\ud544\ub4dc \uc880\ube44 \ub514\ud39c\uc2a4; \ubd88\uad50 \uacbd\uc804; Split Pic; Skype for au; Reader for XPERIA Tablet; TV SideView for Tablet; Bowman; Desi Sex Video!; \ubc85\uc2a4 \uc774\ud004\ub77c\uc774\uc800 - \ubb34\ub8cc Equalizer; \ube0c\ub77c\uc9c8 \uc131\ubcc4 \ud3ec\ub974\ub178 \ub3d9\uc601\uc0c1 \uc7a5\ub09c!; \ubc30\ub2ec114; \ub0b4 \uc545\ub9c8\uc758 \uc5f4\ub9e4\ub2a5\ub825\uc740?; \ubbf8\ub85c\ucc3e\uae30 \uac8c\uc784+; SBS \uace8\ud504\ub2f7\ucef4; \uc218\uc871\uad00; Modern Warfare Guns; \ub77c\uc774\ube0c TV (\ud50c\ub798\uc2dc); \uc774\uc9d1\ud2b8 \ubcf4\uc11d; \uba54\ud2b8\ub85c\ub188; Android Assistant(18\uac00\uc9c0 \uae30\ub2a5 \uc124\uba85); \u062e\u0644\u0641\u064a\u0627\u062a \u0637\u0628\u064a\u0639\u064a\u0629 \u0648\u0625\u0633\u0644\u0627\u0645\u064a\u0629 2013; AndroLib Wallpapers; \ub0b4\ub9d8\ub300\ub85c \uc544\uc774\ucf58 free (Icon Changer); \ubca0\uc774\uc2a4 \uae30\ud0c0 (\uc2e4\uc81c\ubca0\uc774\uc2a4); Goofy Glass - \uc2e0\uae30\ud55c \uac70\uc6b8 (Beta); \ub9c8\uc774\ub2e5\ud130-\ub0b4\uc190\uc548\uc758 \uc8fc\uce58\uc758!; HDR Camera+; Image Pack 2 - FindDifferences; \ub864\ucf54TV - \ub864\ub7ec\ucf54\uc2a4\ud130 \ub2e4\uc2dc\ubcf4\uae30; \u062a\u062d\u0641\u064a\u0638 \u0627\u0644\u0642\u0631\u0622\u0646 \u0627\u0644\u0643\u0631\u064a\u0645 \u0644\u0644\u0623\u0637\u0641\u0627\u0644-\u0639\u0645; \ud68c\uc911 \uc804\ub4f1; Snake '97; Dam Haji; Zebra Paint; Myth Defense LF free; PapiWall; ThaiTV5; \uc2a4\ub9c8\ud2b8\uae08\uc735\uacc4\uc0b0\uae30Pro; \ud0c0\uc774 \uc694\ub9ac\ubc95\uceec\ub809\uc158; \uc7ac\ubbf8\uc788\ub294 \ubb34\ub8cc \ubc14 \uac8c\uc784 \u2013 \ubc14 \ud504\ub80c\uc988; Snoopy's Street Fair; \ubca8\uc18c\ub9ac,\ubb34\ub8cc\ubca8 \uceec\ub7ec\ub9c1,\ubb38\uc790\uc74c,\ub9c1\ud22c\uc720,\uce74\ud1a1\uc74c_\ubca8\uc18c\ub9ac\ud50c\ub7ec\uc2a4; \ub9c8\uc778\ud06c\ub798\ud504\ud2b8 \ud3ec\ucf13\uc5d0\ub514\uc158 \uacf5\ub7b5; \ub300\ud55c\ubbfc\uad6d \uc5ec\ud589 \uac00\uc774\ub4dc; \ub3c4\ubbf8\ub178\ud53c\uc790-Domino Pizza of Korea; \ub3c4\ub3cc \ubc30\uacbd \ub9cc\ub4e4\uae30 (\uad11\uace0); Fighter Jet WWZ; \ubc84\ube14 \uc29b; Motoboat Racing 2013; \u30ab\u30c6\u30b4\u30ea\u30ca\u30d3; \uace0\ucd95\uc81c-\uac00\ubcfc\ub9cc\ud55c \ucd95\uc81c\uc815\ubcf4,\uc5ec\ud589\uc9c0; Lord of the Dragons; \ub300\uad6c\ub3c4\uc2dc\ucca0\ub3c4 : \ub300\uad6c\uc9c0\ud558\ucca0; Maybank2u Malaysia; Who Becomes Rich (Trivia Quiz); PapiJump; \ucee4\ub125\ud2b8 \ub354 \ub3d7\uce20 \uc5bc\ud2f0\uba54\uc774\ud2b8; Moto race: Moto GP (FREE); \ub2e4\uc74c \uc9c0\ub3c4 - \uc9c0\ud558\ucca0 - Daum Maps; \ub2e4\uc74c - Daum; \ub2e4\uad6d\uc5b4\ud68c\ud654 - \uc601, \uc911, \uc77c; Manic Mechanics Lite; \u767e\u842c\u4e9e\u745f\u738b; \uc7ac\ubbf8\uc788\ub294 \uc5bc\uad74 \uccb4\uc778\uc800 : \ud504\ub85c \ud6a8\uacfc; Dust Fighter; \ub0b4 \uc0ac\ub791\uc2a4\ub7ec\uc6b4 \uac1c; \uc720\uc544/\uc5b4\ub9b0\uc774 \uc560\ub2c8\uba54\uc774\uc158 \ub3d9\uc601\uc0c1 - \uc77c\uc2ec\ud0a4\uc988; Fashion Cute Haircut Dating; Spanish-English offline dict.; Quran Kareem; \u0627\u0644\u0646\u0627\u0637\u0642 \u0627\u0646\u062c\u0644\u064a\u0632\u064a; Hot Bollywood Videos; ZombieShoot; Three; Battle for Rebirth; Free Running; Move it! Free; \u30a4\u30e9\u30a4\u30e9\u6d77\u5ce1; \u8cfd\u723e\u865f\u4e4b\u9b25\u8f49\u9f8d\u73e0; \u7a7f\u91dd\u9ad8\u624b; \u77f3\u5668\u6642\u4ee3online; \uadf8\ub9b0\uce74(Greencar); Xelorians - \uc2a4\ud398\uc774\uc2a4 \uc288\ud130; Photo Diary \ud3ec\ud1a0 \ub2e4\uc774\uc5b4\ub9ac; EGGGZ; Coca Land 2.0; \ub0a0\ub824\ubc84\ub9ac\ub2e4; \uace0\uc18d \ubaa8\ud1a0; \uc568\ub7f0 \uc678\uad6d\uc778\uc744 \ub9d0\ud558\uae30; TV.com; \uad6d\uae30 \ud034\uc988; \uc544\uc774\ud3f0 5 \ud14c\ub9c8; Red Karaoke; \uac10\uc790\uc758 \uce5c\uad6c\ub4e4\uc740 \uc5f0\uc560\ub97c \ud558\uc9c0; \ucf00\uc774\ud06c \uc81c\uc870 - \uc694\ub9ac \uac8c\uc784\ub97c \uc5f4\uc5b4 \uc92c\uc5b4; \ud328\uc158\uc2dc\ud2f0 - Fashion City by Hangame; Cut the Rope HD; \ube14\ub85d \ubcbd\ub3cc \uac8c\uc784\uc744 \ubd80\uc154; \uac24\ub7ed\uc2dc 3G/4G \uc124\uc815 (\ucf1c\uae30/\ub044\uae30); \uc131\uacbd\uacfc \ucc2c\uc1a1(Bible and Hymns); Action Snap; Bleach Zanpakuto Fight; Ice Rage; Learn To Draw; 104\u5de5\u4f5c\u5feb\u627e; Ziggo TV; GO SMS Pro GO1.0 Theme; Bubble Pop Plus!; \u8a3a\u65ad\u30c4\u30fc\u30eb\u30a2\u30d7\u30ea; Huay \u0e42\u0e1b\u0e23\u0e41\u0e01\u0e23\u0e21\u0e2b\u0e27\u0e22; Gulli; \u062e\u062f\u0639\u0629 \u0643\u0633\u0631 \u0627\u0644\u0634\u0627\u0634\u0629 \u0627\u0644\u0645\u0637\u0648\u0631\u0629; Hyundai blueLink; L\u1ecbch Vi\u1ec7t Nam; English Tenses; ASTRO SMB Module; Cupcake Cooking Dash-Christmas; \ubd84\ub178 \ub9cc\ud654 \uba54\uc774\ucee4; \ucf54\ub514\uac78\uc2a4 - \uc5ec\uc131\ub4e4\uc744 \uc704\ud55c \uc1fc\ud551 \uc804\ubb38\uacf5\uac04; \uc758\uc57d\ud488 \uac80\uc0c9 \ud0b4\uc2a4 KIMS Smartphone; \uc2dc\ub825 \uac80\uc0ac; CityGuide GPS \u043d\u0430\u0432\u0438\u0433\u0430\u0442\u043e\u0440; Download Blazer; \ub4dc\ub798\uadf8 \ub808\uc774\uc2f1\uc5d0 \ud544\uc694\ud55c; TheDayBefore(\ub514\ub370\uc774\uc704\uc82f); Ninja Rush HD; docomo Wi-Fi\u304b\u3093\u305f\u3093\u63a5\u7d9a(12\u590f\u30e2\u30c7\u30eb\u4ee5\u964d\u7248); \u30c9\u30b3\u30e2 \u3042\u3093\u3057\u3093\u30b9\u30ad\u30e3\u30f3; T-Mobile eReader; i\u30c1\u30e3\u30cd\u30eb; \u58f0\u306e\u5b85\u914d\u4fbf; ID3Fixer; \uc18d\ub3c4\uc758 \uc695\uad6c; Tree Planet 2; \uad7f\ub9d8\uc2a4 \ud074\ub798\uc2dd \ud0dc\uad50\uc74c\uc545 (\ud1b5\ud569\ubc84\uc804); \ud558\ub8e8 \ud55c \uace1 - \ubb34\ub8cc \uc74c\uc545 \ub2e4\uc6b4\ub85c\ub4dc; \ucd94\ucc9c CCM / \uac00\uc2a4\ud3a0 \ucc2c\uc591 \ub178\ub798 \ubaa8\uc74c; \uce7c\ud2a0 - \ud29c\ub108(\uae30\ud0c0Guitar, \ubaa8\ub4e0\uc545\uae30); MP3 \uc2a4\ud1a0\uc5b4-\ubb34\ub8cc\uace1\uac10\uc0c1; \ub9c1\ub9c8\uc774\ubca8 - \ubb34\ub8cc\uce74\ud1a1,\uc54c\ub9bc\uc74c,\uceec\ub7ec\ub9c1,\ubca8\uc18c\ub9ac,100\ubd84\uac10\uc0c1; \uc27f\ud06c\ub9bf\ucf5c(\uc548\uc2ec\ubc88\ud638,\uac00\uc0c1\ubc88\ud638,\ub354\ube14\ub118\ubc84,\ud22c\ub118\ubc84); \uadc0\uc5ec\uc6b4\uff06\uc774\uc0c1\ud55c\uff01LINE\uc6a9 \uc2a4\ud2f0\ucee4 DECOMAN; \uc74c\uc545 \ubcfc\ub968 EQ; Qurani; GameHall; Subway Surfer Play Tips&Tricks; Skyball Lite (3D Racing game); GW CarPix; Top Truck Free; \ub611\ub611\ud55c \uc544\uc774 \uac8c\uc784 LITE; \ubc14\ub044\ub85c\ucea0\ud551; T\u1eeb \u0111i\u1ec3n Anh Vi\u1ec7t - TFlat; \ucea0\ud37c\uc2a4\ud1a0\ub9ac (1,000\uc5ec\uac1c \ucea0\ud551\uc7a5\uc815\ubcf4); GOWidget Theme - Transparency; \ud1a0\ub9c8\ud1a0 \ud1a0\uc775 DIRECT LISTENING; QR\uc11c\ube44\uc2a4 (\ucc98\ubc29\uc804 QR\ucf54\ub4dc); \ub10c\uc13c\uc2a4 \ud034\uc988; GO SMS Pro Widget; Moon Chaser; \uc220\uac8c\uc784 \ubc31\uacfc\uc0ac\uc804 - \uc74c\uc8fc, \ud68c\uc2dd, \uc1a1\ub144\ud68c, \ub9dd\ub144\ud68c,\uc5e0\ud2f0; Blast Monkeys; The Amazing Spider-Man AR; \uce74\ud1a1\uc720\uba38\ub09a\uc2dc\uc9e4\ubc29 - \uce74\ud1a1\u314b\u314b\u314b; Logo Quiz; \uc870\uc774\ud30c\uc77c \uc6f9\ud558\ub4dc - \ucd5c\uc2e0\uc601\ud654/\ub4dc\ub77c\ub9c8/\uc560\ub2c8/\ub3d9\uc601\uc0c1; GO Keyboard Emoji plugin; \u535a\u96c5\u9b25\u5730\u4e3b; Bomberman & Cute Monsters; \u5c0f\u8aaa\u738b--\u6700\u5b8c\u6574\u7684\u5c0f\u8aaa\u5eab, \u6700\u597d\u7528\u7684\u95b1\u8b80\u5668; Dua xe may 3D; \uc720\uc544 \uc5b4\ub9b0\uc774 \ub3d9\uc601\uc0c1 \ubc0f \ud2f0\ube44 \ub2e4\uc2dc\ubcf4\uae30 - \uc77c\uc2ecTV\ud0a4\uc988; More Nails\u2122: Makeup Games; \uc544\uc774\uc5b8 \uc544\ud1b0 \ud14c\ub9c8; \ub9cc\ud654\ud3ec\ud138 \uc778\ub514\ucf13(Indiket) - \ubb34\ub8cc\ub9cc\ud654/\uc6f9\ud230/\uc18c\uc124; \uc6c3\uae34 \uc0ac\uc6b4\ub4dc \ud6a8\uacfc; Alloy - GO\ub7f0\ucc98EX\ud14c\ub9c8 - \ud504\ub9ac\ubbf8\uc5c4; Milkshake Maker; \uc0bc\uad6d\uc9c0\ub97c \ud488\ub2e4; BR\ud658\uc0c1\uc758\uc9dd\uafcd \ud55c\uad6d\uc5b4 FlipFont; TD\ub208\uc0ac\ub78c\u2122 \ud55c\uad6d\uc5b4 Flipfont; GNotes - Sync Notes with Gmail; \uc9c4\uaca9\uc758 \uac70\uc778 OST \ud64d\ub828\uc758\ud654\uc0b4; \uc190\uac00\ub77d \ub098\uc774\ud504 \ub514\ub7ed\uc2a4 3D \ubb34\ub8cc; SBS\ud3ec\ud2b8\ub9ac\uc2a4; French for GO Keyboard; \ud50c\ub808\uc774\ud2f0\ube44 \u2013 Playy TV; pixiv; \uc608\uc220\uc791\ud488 SNS, \uc544\ud2b8\uac1c\ub354; \uba39\ub294\ub2e4\uc774\uc5b4\ud2b8,\ub2e4\uc774\uc5b4\ud2b8\ub808\uc2dc\ud53c; \ubd04\uc758 \uba5c\ub85c\ub514 \uce74\uce74\uc624\ud648 \ud14c\ub9c8; BBC \ub4e4\uc5b4; \uc2a4\ud30c\uc774 \uce74\uba54\ub77c; \ud0a4\ud2f0\ub294 \ucd5c\ub300 - \uc544\uc774\ub4e4\uc774 \uac8c\uc784\uc744 \ub4dc\ub808\uc2a4; \uce74\ub77c \ud3ec\ucee4 Game Hands; \uc548\ub4dc\ub85c\uc774\ub4dc \uac74\ubc18(\ud53c\uc544\ub178); \uacf5\ud3ec \uc2e4\ud654 2; \ub098\ub294 \ub300\ub450\ub2e4 Free; \uce74\uce74\uc624\ud504\ub85c\ud544\uc568\ubc94; Clay Jam; \uc2a4\ud0c0\ud2b9\uac15\uc1fc; \ubbf8\ub4dc \uc138\uc0c1 - \ubbf8\uad6d\ub4dc\ub77c\ub9c8,\ubbf8\ub4dc \ubcf4\uae30,\ud68c\uc6d0\uac00\uc785\uc5c6\uc74c; \uc62cTV - \ubb34\ub8cc \ub4dc\ub77c\ub9c8 \ub2e4\uc2dc\ubcf4\uae30; \ubcf4\uc774\uc2a4\ub9e4\uce58-\ub2ee\uc740\uaf34,\uc774\ubbf8\uc9c0,\uad81\ud569; \uc790\ub3d9\ucc28 \ub808\uc774\uc2f1 \uac8c\uc784 \ubca0\uc2a4\ud2b8 \ub7ad\ud0b9; Bingo; \ub9d8\ud1a1 - \uc784\uc2e0\uc721\uc544 \uad81\uae08\uc99d! \uc2a4\ud2b8\ub808\uc2a4!  \uce5c\uad6c\ub9cc\ub4e4\uae30; \uc96c\ub514\uc758 \ud328\uc158\uc2a4\ud0c0\uc77c; FreeFl\u00e9ch\u00e9s; \uce74\uc2dc\uc624\ud398\uc774\uc544 \uc790\ub9ac - GO\ub77d\ucee4\ud14c\ub9c8 - \ud504\ub9ac\ubbf8\uc5c4; Time Travel Heroes; Grand Theft Auto III; \ubbf8\ub2c8 \uc790\ub3d9\ucc28 \uac8c\uc784 (\ubb34\ub8cc); jjComics Viewer; \u0444\u0438\u043b\u044c\u043c\u044b \u043e\u043d\u043b\u0430\u0439\u043d TVZavr.ru; \ub9d0\ud558\uae30 \ubc30\ud2b8\ub9e8 : \uc54c\uce84\uc2dc!; \ud398\uc774\ud37c \ud0c0\uc6b4 - GO\ub7f0\ucc98EX\ud14c\ub9c8 - \ud504\ub9ac\ubbf8\uc5c4; PagineGialle; \uc790\uc804\uac70\ub124\ube44; \uc2a4\ub9c8\ud2b8 \ub808\uc2a8; Puzzles for Toddlers Kids Free; [\ud55c\ud130\uce58] \uae09\uc218\ud55c\uc790\uc758 \uc885\uacb0\uc790; \u0646\u0643\u062a \u0645\u063a\u0631\u0628\u064a\u0629 Blagues Maroc; \ud37c\uc990\ud310\ud0c0\uc9c0; Animal Paradise\uff08kids\uff09; Online-Translator.com; \uc218\ucc44\ud654 \uc2a4\ud2f0\ucee4 - \uce74\uce74\uc624\ud1a1 \ud14c\ub9c8 \ub9cc\ub4e4\uae30; olleh WiFi \uc601\uc0c1\ucf5c; \ub9ac\uadf8 \uc624\ube0c \ub808\uc804\ub4dc \uc778\ubca4; Mediencenter; \ud2f0\ucef5\ud1a0\ub07c \uce74\uce74\uc624\ud648 \ud14c\ub9c8; \uc885\uc774\uc5d0 \uadf8\ub9ac\uae30; \uc5b4\ubc14\uc6c3 \uc1fc\ud551\uc9c0\ub3c4 - \uc628/\uc624\ud504\ub77c\uc778 \uc1fc\ud551\uc815\ubcf4; \uc2e0\uc138\uacc4 SFC\ubab0; \u0e40\u0e0a\u0e47\u0e04\u0e40\u0e19\u0e47\u0e15\u0e17\u0e23\u0e39\u0e21\u0e39\u0e1f; AppInstaller; \ub178\ub798\ubc29 \uace1 \ucc3e\uae30; \uc138\ud53c\ub77c Sefirah free; \ub86f\ub370 \uba74\uc138\uc810; Camera Launcher for Nexus 7; Telly - Social Video; \uc880\ube44\ub9c8\uc2a4\ud130 \uc6d4\ub4dc\uc6cc; \uce90\uc2ac \uc778 \ub354 \ubb38\ub77c\uc774\ud2b8 - GO\ub7f0\ucc98 \ud14c\ub9c8 - \ud504\ub9ac\ubbf8\uc5c4; \ud64d\uc775\ub300 \ub3c4\uc11c \uac80\uc0c9; \uc9c4\uaca9\uc758 \uac70\uc778 \uc0ac\uc9c4\ud569\uc131; \u0627\u0644\u0643\u0628\u0627\u0626\u0631; \uac24\ub7ed\uc2dc - \ubb34\ub8cc \ucc44\ud305; \uae30\ub150\uc77c \ub85c\uace0 \uc2a4\ud06c\ub798\uce58! \uc5b4\ub9b0\uc774\uc6a9 \uceec\ub7ec \uadf8\ub9ac\uae30; 2013 \uc21c\ucc9c\ub9cc \uad6d\uc81c\uc815\uc6d0\ubc15\ub78c\ud68c; Image 2 Wallpaper; \ub9c8\ud53c\uc544 \ubaa8\ubc14\uc77c; \ub9cc\ud654365 - \ubb34\ub8cc\ub9cc\ud654; \ubbf8\ub798\uc5d0\uc14b\uc99d\uad8c New M-Stock; \ub0a0\uc544\ub77c \ud32c\ub354 \ube44\ud589\ub2e8 for Kakao; \uc815\uaddc \ud074\ub7ed \ub77c\uc774\ube0c \uc6d4\ud398\uc774\ud37c; \u062a\u0633\u062c\u064a\u0644 \u0627\u0644\u0645\u0643\u0627\u0644\u0645\u0627\u062a; Amazing Land Lite; \uc804\uad6dTV\ud3b8\uc131\ud45c; \uc624\ub298\uc758 \uc720\uba38, \uc624\uc720, OU (\ube44\uacf5\uc2dd app); Smart Remote Control; [\uc18c\uc15c\ub370\uc774\ud305] \ucff5\uc9dd - \ub9e4\uc77c \ub9e4\uc77c \uc18c\uac1c\ud305&\ubbf8\ud305; \ub4b7\ud14c - \uc18c\uadfc\uc18c\uadfc \ub4b7\ub2f4\ud654\ud14c\uc2a4\ud2b8; Dark Legends; myMusic; Vpn One Click; What a Stupid Pigeon; Verizon Accessories; \ub2e4\uad6d\uc5b4 \ubc88\uc5ed\uae30; \ubaa9\ud45c\ub3c4\uc804 100%(2013 \ud560\uc218\uc788\ub2e4 \ud504\ub85c\uc81d\ud2b8); QQ\u90ae\u7bb1; \u0648\u0635\u0641\u0627\u062a \u0627\u0644\u0645\u0637\u0628\u062e \u0627\u0644\u0639\u0631\u0628\u064a; \u6b63\u70b9\u65e5\u5386-\u4e07\u5e74\u5386\u3001\u9ec4\u5386\u3001\u519c\u5386\u3001\u661f\u5ea7; \uc2a4\ub9c8\ud2b8\uc8fc\uc18c\ub85d; \uc791\uc5c5 \uad00\ub9ac\uc790; Pimple Popper Seasons; \ud56d\uacf5 \ud37c\uc990 : \ube44\ud589\uae30; \ub098\uc640\uc5b4\uc6b8\ub9ac\ub294\uc560\uc778\uc758\ub098\uc774; Fill and Sign PDF Forms; \uc5b4\ub9b0\uc774 \uc561\uc790; TouchRetouch Free; Thermometer; XnSketch; \ube60\ub978\uc5f0\uc0ac free (Quick Burst Shot); \u0627\u063a\u0627\u0646\u064a \u0633\u0639\u0648\u062f\u064a\u0629; Learn Spanish with babbel.com; Drum Set; \uc2a4\ub9c8\ud2b8\ud55c \uc0ac\uc9c4\uc568\ubc94 - \ud3ec\ud1a0\uce98\ub9b0\ub354; Call of Duty\u00ae ELITE; \ud569\uc131\uc758 \ub2ec\uc778 (\uce74\uce74\uc624\ud1a1\uc73c\ub85c \uc7ac\ubbf8\uc788\ub294 \uc0ac\uc9c4\uc744\ubcf4\ub0b4\uc790); Concise GO Locker Theme; T\u1ed5ng H\u1ee3p Phim; Kim Cuong 2; Myspace; PAC-MAN Championship Ed. Demo; Where's my Home? Mouse Mania; Blue\u2122; Police Chase; Music Unlimited Tablet App; Fancy Widgets; Lieferheld - Pizza Pasta Sushi; OfficeSuite Viewer 6 + PDF & H; \ud0c8\ucd9c 3D : \uc12c \ud0c8\ucd9c \uac8c\uc784 3D Game; OfficeSuite Pro 6 (Trial); \ud398\ud398\ub9ac\ucf54 \ud2a4\ub9bd \uce74\uce74\uc624\ud1a1 \ud14c\ub9c8; Wingsuit Lite; aniPet \ubbfc\ubb3c\uace0\uae30 \uc218\uc871\uad00 \ub77c\uc774\ube0c \ubc30\uacbd\ud654\uba74 (\ubb34\ub8cc); Vault-Hide SMS ,Pics & Videos; \uc548\uc804\uc9c0\ub300 - \uc131\ubc94\uc8c4\uc790 \uc54c\ub9bc\uc774; Briscola; \uae30\uc544 Q\uba64\ubc84\uc2a4; Acer Ring Update; \uceec\ub7ec\ud480 \uadc0\uc5fc\ud559\uacfc \ub3c4\ub3cc\ub7f0\ucc98\ud14c\ub9c8; \ud3ed\uc2e0\ub2ec\ucf64 \ucef5\ucf00\uc775 \ub3c4\ub3cc\ub7f0\ucc98\ud14c\ub9c8; \ub531\uc9c0 \uc18d \ud31d\uc544\ud2b8 \ub3c4\ub3cc\ub7f0\ucc98\ud14c\ub9c8; \ube44\uc624\ub294 \ub0a0 \ub3c4\ub3cc\ub7f0\ucc98\ud14c\ub9c8; \ub808\uace0\ub808\uace0\ube14\ub85d \ub3c4\ub3cc\ub7f0\ucc98\ud14c\ub9c8; \u062e\u0644\u0641\u064a\u0627\u062a \u0631\u0648\u0645\u0627\u0646\u0633\u064a\u0629 \u062c\u0627\u0644\u0627\u0643\u0633\u0649 \u0627\u0633 3; [\uc5bc\uad74\uc778\uc2dd]\ub2f9\uc2e0 \uc5bc\uad74\uc5d0 \uc5b4\uc6b8\ub9ac\ub294 \ub178\ub798\uc81c\ubaa9; Puppy Love GO Getjar Theme; Ffmpeg Codec arm V7 neon; A.I.type \uc774\ubaa8\ud2f0\ucf58 \ud50c\ub7ec\uadf8\uc778; Zing MP3 HD; FOX News; TV \uace4(GON): 27~52\ud654; Minicraft War; Liberty City; [root] Chainfire3D; [TJ\ub178\ub798\ubc29]\uc9c8\ub7ec\uc3ed-1\uc77c\ubb34\ub8cc\uc2a4\ud2b8\ub9ac\ubc0d; \u8d85\u6ce8\u97f3; \u0627\u0644\u0627\u062a\u0635\u0627\u0644 \u0627\u0644\u0648\u0647\u0645\u064a \u0627\u0644\u0646\u0633\u062e\u0629 \u0627\u0644\u0645\u062c\u0627\u0646\u064a\u0629; Big Font (change font size); Minecraft Guide and Tips; Learn to Write Thai \u0e04\u0e31\u0e14\u0e25\u0e32\u0e22\u0e21\u0e37\u0e2d; \uce74\uce74\uc624\uc601\ud654\uad00-\ubb34\ub8cc\uc640 \ucd5c\uc2e0 HD\ubb34\ube44\ub3d9\uc601\uc0c1; \ub2e8\uc21c MP4 \ube44\ub514\uc624 \ud50c\ub808\uc774\uc5b4; Arirang Radio; Guitar Tab Player; \uc950\uc57d \ud31f\uce90\uc2a4\ud2b8-\ub098\ub294\uaf3c\uc218\ub2e4,\ub274\uc2a4\ud0c0\ud30c,\ub098\ub294\uaf3d\uc0ac\ub9ac\ub2e4,\uc774\ud138\ub0a8; FunCam; \ub9c8\uc774 \uce90\uce58\uc628; \ud504\ub9ac\ub354TV(\ub4dc\ub77c\ub9c8,\uc608\ub2a5,\ud55c\uad6d,\ubc29\uc1a1 \ub2e4\uc2dc\ubcf4\uae30); NU.nl; \ub300\ud55c\ubbfc\uad6d \ubaa8\ub4e0 \uc804\uc2dc\ud68c \ubb34\ub8cc \uc785\uc7a5\uad8c - \uce94\uace0\ub8e8; Send Anywhere (\ud30c\uc77c\uc804\uc1a1); 100 Crypts; Overkill; Clipsee Video Recorder Beta; \ubc30\uace0\ud508 \ubb3c\uace0\uae30; Youni\u77ed\u4fe1; GO Contacts Metal theme; Zen Garden -Spring- \ub77c\uc774\ube0c \ubc30\uacbd\ud654\uba74; GO Contacts Graffiti Theme; \uaf3c&\uc218 \uc368\ucee4\uc2a4 \uce74\uce74\uc624\ud648 \ud14c\ub9c8; Tank (Battle City); Fingerprint Love Test; Yandex.Mail; Orbitz - Hotels, Flights, Cars; \uc624\ub7fc \ube14\ub808\uc774\ub4dc; \ubb50\uc57c \uc774 \ubb38\uc790; (\ub124\uc774\ubc84\uc6f9\ud230)\uc6c3\uc9c0\uc54a\ub294\uac1c\uadf8\ubc18 \ub3c4\ub3cc\ub7f0\ucc98\ud14c\ub9c8; Moon light GO Weather EX; OpenFM; \ud0a4\uce5c\ud0c0\uc774\uba38+; NH\ub18d\ud611\uce74\ub4dc \ubaa8\ubc14\uc77c \uc548\uc2ec\ud074\ub9ad; Namaz Dua ve Sureleri; \ub204\uad6c\uc138\uc694(whoareyou); T wifi zone finder; DevilDark: The Fallen Kingdom; Where Is My Food?; \ubc14\ub2e4\ub09a\uc2dc \uac00\uc774\ub4dc; \uafb8\ubc08\uba54\uc138\uc9c0(Web) -Decorated Message; \uc778\ud53c\ub2c8\ud2b8 \ud32c\ub364 - ( \uc0ac\uc9c4, \ucc44\ud305, \ub3d9\uc601\uc0c1, \uc2a4\ucf00\uc974 ); \ubc30\ub2ec\uc758\ubbfc\uc871 Lite; Joyland Bounce; Tap & Sound:WONDER RHYTHM2 0+; \u0641\u062a\u0627\u0648\u064a \u0627\u0628\u0646 \u0639\u062b\u064a\u0645\u064a\u0646; Wongnai; \uc704\ub514\uc2a4\ud06c \ubaa8\ubc14\uc77c wedisk \ube60\ub978 \uc811\uc18d\uc5b4\ud50c; \uc2a4\ub0c5 \ud328\ub4dc \ubb34\ub8cc; Bejeweled\u00ae 2; Sparkle Drop! [Free Coin game]; \ubc30\ud2c0\ud321\ud321 for Kakao; Pleco Chinese Dictionary; \u266c Truyen Ma Nguyen Ngoc Ngan \u266c; Pizza and Sandwich Maker; Cave Run 3D; \uc2a4\ud06c\ub9b0\uae68\uae30; \uc0dd\ub9ac \uce98\ub9b0\ub354 ( \uc77c\uae30, \ub2ec\ub825 ); FaceTime Zone; WidgetLocker \uc7a0\uae08\ud654\uba74; \ub208\ud0f1\uc570\ud504 \ub178\ub798\ubc29 \uac00\uc0ac\uc9c0\uc6d0 \uc74c\uc545 \ud50c\ub808\uc774\uc5b4; Current Caller ID; Magic Fluids Free; ES Task Manager; \u82f1\u6587\u542c\u529b - \u82f1\u542c\u7279\u8bad\u73ed (Sammy\u8001\u5e08\u4e3b\u7f16); WhatsApp Wallpaper; mClock; EBookDroid - PDF & DJVU Reader; News Republic; \uc787\uac78\uc1fc\ud551 - \uc637\uc798\uc785\ub294 \uc5ec\uc790\ub4e4\uc758 \ube44\ubc00; Lig TV; \uc81c\ud0a4\ud1a1-(\ub77c\ub514\uc624\ube14\ub85c\uadf8,\ubb34\uc804\uae30,\ub79c\ub364,tikl,\uc544\ud504\ub9ac\uce74); Virtual Ping Pong 3D; Jewel Magic Challenge; Topper Sexy Girl Puzzle; MD\ud3ec\uadfc\ud3ec\uadfc \u2122 \ud55c\uad6d\uc5b4 Flipfont; Orkut Timescape\u2122; Crazy Jump; Check My Android (\uccb4\ud06c \ub9c8\uc774 \uc548\ub4dc\ub85c\uc774\ub4dc); Worldstarhiphop; \ud50c\ub798\uc26c\ub77c\uc774\ud2b8 - MEGA Flashlight; SBS E! TV \uceec\ud22c\uc1fc \ub2e4\uc2dc\ubcf4\uae30; \ubcc4\uc774 \ucd1d\ucd1d\ud55c night2 \ud14c\ub9c8 GOLauncher; Fishin' 2 Go (FULL); Great Hopes \uc544\ud1b0 \ud14c\ub9c8; Beautiful Widgets Free; Chicken Invaders 4; \ubb34\uc11c\uc6b4 \ubbf8\ub85c; NOKAIR; Ocean Live Wallpaper; \ub0a8\uc790\uc758\uc2a4\ud0c0\uc77c(This week men's style); NH \uc2a4\ub9c8\ud2b8\ubc45\ud0b9; Juggernaut Revenge of Sovering; {\ubb34\ub8cc1\uc704,35\ub9cc\uc774 \uc120\ud0dd\ud55c} -Driver Note; \u0641\u064a\u062f\u064a\u0648 \u0644\u0644\u0623\u0637\u0641\u0627\u0644; SportMediaset; UT CAMERA; Pixlr Express; \uace0\uc591\uc774\uc804\uc7c1; \uc5b4\ub9b0\uc655\uc790 \ube7c \uce74\uce74\uc624\ud1a1 \ud14c\ub9c8; Vine Flow (Vine video app); \uc608\ube44\uad70; \uc81c\uc0ac\uc758 \uc815\uc11d; \uc2a4\ubb34\ub514\ud0b9 \ud50c\ub7ec\uc2a4; Animal Transformer Run 3D; XXX \ud3ec\ub974\ub178 \ube44\ub514\uc624 \ubb34\ub8cc (PRANK!); \ub864\ub7ec\ucf54\uc2a4\ud130\ub77c\uc774\ub4dc2; Zing Mp3; \uc131\ub0e5\uac1c\ube44\ub9e8 \uc740\ud589\ud138\uae30; \uad70\ud654\uc640 \uace0\ubb34\uc2e0 (MiliDiary); knpatest; \uc5d0\uc2a4 \ub2e4\uc774\uc5b4\ub9ac Lite(\ubb34\ub8cc); \ub77c\ubc14 \ub3d9\uc601\uc0c1; Skincraft for Minecraft; \uc544\uae30 \uc720\uc544 \uc560\ub2c8 \ub3d9\uc601\uc0c1(\ubf40\ub85c\ub85c,\ud0c0\uc694,\ucf54\ucf54\ubabd,\ud6c4\ud1a0\uc2a4); \uc560\ubb34\uc758\uc815\uc11d 200+ FREE; \uc77c\ubcf8\uc5b4 \ubc88\uc5ed / \uc0ac\uc804; Canl\u0131 TV \u0130zle T\u00fcrk\u00e7e; \u0631\u0633\u0627\u0626\u0644 \u0645\u0642\u0627\u0644\u0628 \u0644\u0644\u0623\u0635\u062f\u0642\u0627\u0621; \uad50\ub300\ub2ec\ub825(\uc2dc\ud504\ud2b8\uce98\ub9b0\ub354); [\uc720\ud2f8] \ubaa8\uae30\ud1f4\uce58; Genuine Galaxy SIII; \uc784\uc2e0\uc8fc\uc218\uacc4\uc0b0(My baby love you); Vlingo; \uad50\ubcf4\ubb38\uace0 \ub3c4\uc11c\uac80\uc0c9; \uacf5\uac04 \ucc28\uc6d0\uc5d0\uc11c; \ud074\ub798\uc2dd \uc74c\uc545\uc774 \ub4e3\uace0 \uc2f6\uc744\ub54c...; \uc62c\ub808\uc2a4\ucfe8 \ucd08\ub4f1; VirtuaGym Fitness Home & Gym; Super Gravure Asian Girls Pics; [\ubb34\ub8cc]\ucd94\uc5b5\uc758 7080 \ud3ec\ud06c\uc1a1 BEST \uc74c\uc545 \ubaa8\uc74c; Hockey Fight Lite; Death Parking; ANT Radio Service; \uc2a4\ub178\uc6b0\ubcf4\ub529 \uc11c\ubc0bX; \ub9ac\ubcfc\ubc84; Streaming; \ub2ec\ub825 \uac00\uacc4\ubd80; \uc9d1\uc5d0\uc11c\uc6e8\uc774\ud2b8\ud2b8\ub808\uc774\ub2dd; MultiLing \ud0a4\ubcf4\ub4dc; \ub7ed\ud0a4 \uc544\uc77c\ub79c\ub4dc\uc5b4 \uce74\uc9c0\ub178 \uc2ac\ub86f; Captain America Live Wallpaper; Hangaroo 3; Sweet Heart Live Wallpaper; Bougie Magique; \ub9e4\uc9c1 \ub124\uc624 \uc6e8\uc774\ube0c : \uac24\ub7ed\uc2dc \uc8fc 2; Cell Tracker; Deep Space LWP; Wifi + 3G Signal Booster; \u0623\u0642\u0648\u0627\u0644 \u0631\u0633\u0648\u0644 \u0627\u0644\u0644\u0647; \uc548\ub4dc\ub85c\uc774\ub4dc\ub97c\uc704\ud55c V1 \uace8\ud504; Sniper Counter Attack; \uc2a4\ud0c0\ud50c\ub808\uc774\uc5b4; \uc54c\uc57d \uc548\ub4dc\ub85c\uc774\ub4dc Tablet; \uc804\uc7c1 \ucd1d\uc5d0\uc11c \ub4c0\ud2f0 \uc138\uacc4\uc758 \uc804\ud654; \ubbf8\uce74 \ub9de\ucda4\ubc95 \uac80\uc0ac\uae30.; \ud0a4\uc988TV (\uc720\uc544\ub3d9\uc601\uc0c1) - \ubf40\ub85c\ub85c,\ubfe1\ubfe1\uc774,\uce58\ub85c,\ud0c0\uc694; \ud55c\uad6dSGI; MCPE Skin Downloader; \uba58\uc0ac \ub808\ubca8 \ud14c\uc2a4\ud2b8; IQQI - Arabic keyboard; \ubc25\uba39\uc790; \ub77c\ubc14 \ud558\ub298 \ub192\uc774 \ub0a0\ub2e4 LITE; YaTube; \ub9c8\uc778\ud06c\ub798\ud504\ud2b8 \uce74\uce74\uc624\ud1a1 \ud14c\ub9c8 SEASON 3; Hanping Chinese Dictionary; \uc790\ub3d9\ucc28 \ud30c\uc778\ub354; Mahjong 3D; Flash(\uc190\uc804\ub4f1,\ud6c4\ub808\uc26c); \ubaa8\ud0c8 \uc6dc\ubcb3 \ub77c\uc774\ube0c \ubc30\uacbd\ud654\uba74 Free; \uae38\uc744 \uac00\ub974\uce58\ub294 \ubcc4 - GO\ub7f0\ucc98 \ud14c\ub9c8 - \ud504\ub9ac\ubbf8\uc5c4; BatteryLife; UberMusic; Tap Diamond; SCANNER PRO - QR Code Reader; \ubc84\uc12f\uc804\uc7c1; \uae08\ubd95\uc5b4\uc758 \ub2ec\uc778 \ubb34\ub8cc; \ucc29\ud55c \uc5ec\ub300\uc0dd \uc139\uc2a4 \ub370\uc774\ud2b8_\uba85\ubb38 \uc5ec\ub300\uc0dd 9\uba85 \ub9b4\ub808\uc774 \uc18c\uac1c; Asphalt 7 Free Tips; \ubbf8\ub140 \uce7c\ub358\uc9c0\uae30; \uacf5\uaca9! \ud0d1\uc313\uae30 for Kakao; FIIFA 13; \uc7ac\ubbf8\uc788\ub294 IQ\ud14c\uc2a4\ud2b8; Volagratis - Voli e viaggi; [\uc11c\ube44\uc2a4 \uc885\ub8cc]Order of Union; Application mobile P\u00f4le emploi; The Jump: Escape The City; \u0422\u0430\u043a\u0441\u0438 \u043d\u0430 \u0422\u041d\u0422 3 Free; Tic Tac Toe Challenger; T-LOVELY CAT GO LOCKER THEME; Noddy\u2122 First Steps; \uce74\uce74\uc624\ud1a1 \ud14c\ub9c8 - CLUSTER \ud55c\ubc24\uc758 \ub77c\uc774\ud2b8; \uc544\uae30 \uc0ac\ub0e5\uafbc; \uadfc\ucc98\ub9db\uc9d1 - \uc704\uce58\uae30\ubc18 SNS; ZeptoRacer 3D - Free; \ub3d9\uc548\uc5f0\uc608\uc778\ud53c\ubd80\uad00\ub9ac\ubc95; \ud398\ud398\ub9ac\ucf54 \ud48d\uc120 \uace0\ub7f0\ucc98 \ud14c\ub9c8 Go launcher; Practice English Grammar - 2; Camera ZOOM FX New Composites; Deep Blue; \u0627\u0644\u0634\u064a\u062e \u0627\u0644\u062f\u0643\u062a\u0648\u0631 \u0645\u062d\u0645\u062f \u0627\u0644\u0639\u0631\u064a\u0641\u064a; VLC Stream & Convert; \u05d8\u05e8\u05d9\u05d5\u05d5\u05d9\u05d4; \uc6d4\ub4dc\uc0ac\ucee4 \uceec\ub809\uc158 (WSC); \uc2a4\ucfe8\ud1a1-10\ub300\ub4e4\uc758\ub180\uc774\ud130; Death Battle; \uadf8\ub9bc\uc554\ud638 \ub2e4\uc911\ubc30\uacbd \ud654\uba74\uc7a0\uae08,\uc5d4\uc824\ub77d; \uc561\uc158 \ub4dc\ub77c\uc774\ube0c 3D; \uc544\uc774\ud3f0 5 \uc2e4\ud589\uae30; \uc544\ud06c \ub098\uc774\ud2b8 for Kakao; \uc54c\ubc14\uc778 \ub9de\ucda4\uc54c\ubc14 4580; \ub9ac\uc5bc\uc5b4\ub4dc\ubca4\uccd0\u2605\uacf5\ub8e1\uc544\uc77c\ub79c\ub4dc; \ubd84\ub2f9\uc6b0\ub9ac\uad50\ud68c; Zombie Soccer; \uc140\uce74\uc758\uc5ec\uc2e0 \ud504\ub85c; \ub3d9\ud0a4 \ub9d0\ud558\uae30; \ub3c8\ubc84\ub294\uc5b4\ud50c,\ubb38\ud654,\ubc31\ud654\uc810\uc0c1\ud488\uad8c,\uc0bc\uc131\ud654\uc7ac\ubcf4\ud5d8\uac00\uc785,\ud604\uae08\uc9c0\uc6d0; \u9b54\u529b\u9ad8\u6e05\u5f71\u89c6; GO SMS Pro Arabic package; Drisk (Droid Risk); GO Keyboard Punk Theme; Laundry Tycoon Lite; Hangaroo 2; gram; Pixel Twist; MP3 \ubca8\uc18c\ub9ac; YoWallet; 2013 \ud1a0\uc815\ube44\uacb0, \uc0ac\uc8fc\ud314\uc790, \uad81\ud569,\ubcc4\uc790\ub9ac,\ubd80\uc801; \uc139\uc2dc\ud55c \ube44\ub514\uc624 - NATSUKI; \uc5d0\ub204\ub9ac\uc2e0\ucc28\ube44\uad50; Super Speed Car Racing; Sabq Arabic News \u0635\u062d\u064a\u0641\u0629 \u0633\u0628\u0642; MY \ub514\ub370\uc774; \u0e40\u0e02\u0e47\u0e21\u0e17\u0e34\u0e28\u0e44\u0e17\u0e22; \ub3c5\uc77c\uc5b4 \uc790\ub3d9\ucc28 \uc870\uac01 \uadf8\ub9bc \ub9de\ucd94\uae30; Angry Task Force:Kill Enemy; 3D X WaterMan; Deluxe Pool; \uc544\uc2dc\uc544 \ud56b \uc139\uc2a4 \uc5ec\uc790 HD (LWP); \u884c\u904b\u5927\u8001\u4e8c(\u4e0d\u518d\u63d0\u4f9b\u66f4\u65b0); One Piece Live Wallpaper; \ub4dc\ub77c\ucf54\uc5d0\uac8c \ubc15\uc950\ub97c \ub9d0\ud558\ub294; 2012 The END:Escape; \uacbd\uace0\uc74c\uc740 \ubca8\uc18c\ub9ac \uc18c\ub9ac; TVB fun; RPG IRUNA Online -MMORPG-; Thai Dict; 3D \uc218\uc871\uad00 \uc528\uc6d4\ub4dc (Sea World) LWP HD; \ucd95\uc81c\ucd1d\uc815\ub9ac; CTM Buddy; \uc880\ube44\uc0ac\ub0e5\uafbc; \ub098\uce68\ubc18(\ub098\uce68\ud310,compass); \u0627\u0644\u0639\u062b\u0648\u0631 \u0639\u0644\u0649 \u0627\u0644\u0625\u062e\u062a\u0644\u0627\u0641\u0627\u062a; MP3 \uc74c\uc545 \ub2e4\uc6b4\ub85c\ub4dc; Fling! FREE; Life is Magic; Marmiton Tablette; \u7d9c\u85dd\u812b\u53e3\u79c0; Iwin online; PowerDVD Mobile v.4 for Ultra; Plants VS Zombies Theme; \uc5f4\ud608\uac15\ud638(\uacf5\uc2dd \ub514\uc9c0\ud138 \ucf54\ubbf9 1\uad8c~\ucd5c\uc2e0\uad8c); Ninjago Wallpapers; Vatgia.com; \uc694\uc815 \ubc14\uc774\uc62c\ub9b0; \uadf8\ub9ac\uae30 \ubc29\ubc95 : \uc57c\uc0dd \uc870\ub958\ub97c; MY FM; Lamborghini Car Live Wallpaper; Jewel Mania; Whatsapp Instalar en Tablet; QQ\u6b22\u4e50\u6597\u5730\u4e3b\uff08\u5b98\u65b9\u6b63\u5f0f-\u901a\u7528\uff09; \uac70\ud488; Camera ZOOM FX CoolBorders; \ub2e4\ube48\uce58\uc758 \uc5c9\ub6b1\ubc1c\ub784 \ubbf8\uc220\uad00 3D; [HD]\ubaa8\uc9c8\uac8c \ub4e3\uae30\ub9cc \ud574\ub3c4 \ub290\ub294 \ud328\ud0a4\uc9c0; God of War Live Wallpaper; \uadf8\ub9ac\uae30 \ubc29\ubc95 : \ubb38\uc2e0 \ubd80\uc871 \uc608\uc220; eClean; YD\uc544\uba54\ub9ac\uce74\ub178 \ud55c\uad6d\uc5b4 Flipfont; Oude versie KPN TV; yes123\u6c42\u8077\u738b; \uc18c\uc911\ud55c \uc0ac\ub791\uc758 \uc190\ud1b1; X-The mole GOLauncher EX Theme; Fresh Leaves; \u8a02\u7968\u901a (\u570b\u5149/\u7d71\u806f/\u548c\u6b23/\u963f\u7f85\u54c8/\u53f0\u9435); PopStar; FIFA 13 Free; Crystallight Defense; GO\uc758 \ubcf4\uad00\ud568 \ud14c\ub9c8 ZCSummerT; 4shared \uc74c\uc545 \ub2e4\uc6b4\ub85c\ub354; \u5feb\u901f\u767b\u5165Wi-Fi\u71b1\u9ede (Taiwan); Assault Force; Jewel Magic Xmas; ZANYWAY GO Launcher Theme; Learn Chinese Phrasebook; \ud14c\ub7ec\ub9ac\uc998\uc800\uaca9\uc218CS; \u96fb\u8996\u7f8e\u98df\u5730\u5716 - \u9913\u4e86\u770b\u5730\u5716\uff0c\u65b9\u4fbf\u53c8\u6e05\u695a; \u5feb\u64ad\u8d44\u6e90\u5f71\u9662; DirectMove Android (\ub9ac\ub4ec\uac8c\uc784); 4shared Downloader lite; Privat24; 4D \ubca8\uc18c\ub9ac; \uc544\ub984\ub2e4\uc6b4 \ub1cc\uc6b0 - Live Wallpaper; BlackJack 21 Live - Casino; OPEN\u5c0f\u5c07\u4e3b\u984c\u591c\u5e02; \ud5ec\ud504\ucf54\ub9ac\uc544; \ud589\uc6b4\uc758 \uc774\ubca4\ud2b8\uc5b4\ud50c! \uc2dc\ud06c\ub9bf\ub118\ubc84-Secret Number; \ud37c\ud399\ud2b8 LED\ud6c4\ub808\uc26c; UnZip; \ube44\ub514\uc624; I-Am  -  Dating. People nearby; CC\u732b\u7684\u6625\u5929; \u53e4\u60d1\u4ed43G; \u062e\u0644\u0641\u064a\u0627\u062a \u0637\u0628\u064a\u0639\u064a\u0629 HD; \u66b4\u98ce\u5f71\u97f3\u89e3\u7801\u63d2\u4ef6ARMv7\u7248; Panda Dumpling Lite; \uadf8\ub9ac\uae30 \ubc29\ubc95 : \ubc14\ub2e4 \ub3d9\ubb3c; EBCNews; \uc774\ub204\uc57c\uc0e4 \uc644\uacb0\ud3b8; FIFA 12 EA SPORTS Guide; 3D Truck Parking; Samsung Galaxy S3; Bubble Shooter; \ud3f4\ub77c\ub9ac\uc2a4 \ub124\ube44\uac8c\uc774\uc158 \uc2dc\uc2a4\ud15c; Frogger - FREE; music download; now \u65b0\u805e\u76f4\u64ad; \uace8\ub4dc\uc2a4\ub9c8\ud2b8; Brasileir\u00e3o; Gangnam Style Dance Booth Hits; \ubaa8\ubc14\uc77c \uc1fc\ud551\ubab0 mintshop - \ubbfc\ud2b8\uc0f5; O que \u00e9 o que \u00e9; YuppTV; \ub9c8\uc774 \ub77c\ub514\uc624; T \ubcf4\uc774\ub294 \uc74c\uc131\uc548\ub0b4; \ub178\ub798\ubc29 \ucc45; Splunket Free; \uc9d1\uc911\ub825 \ud2b8\ub808\uc774\ub108; The Prince GO Reward Theme; Pop Star: Make up & Dress Up!; Soccer Superstars\u00ae; Tattoo Tycoon; HD Sexy Girl \uc139\uc2dc\ud55c \uc5ec\uc790 \ud37c\uc990 2; Camera ZOOM FX Composites; AccuWeather for Google TV; \ubcf4\uc11d \uc0ac\uac00; \uc2a4\ub9c8\ud2b8\uccad\uad6c\uc11c; Magic Academy: hidden castle; \uace8\ub4dc\ub9cc \ub77c\uc774\ud2b8; \uc0dd\ud65c\uc18d \ucc98\ubc29\uc804; Bubble Defense 2; \uc9c0\ub2c8 \ubba4\uc9c1 - genie; \ubaa8\uc544\uc571(MoaApp); Indonesia& Malaysia Live TV; Great Slots - slot machines; Burweed FlipFont; Avadon: The Black Fortress; \uc644\ubcbd\ud55c \uc8fc\ucc28 2; \ucc28\uc774\uc810 \ucc3e\uae30; \uc2a4\ub9c8\ud2b8002-\uc804\uc138\uacc4 \ubb34\ub8cc\uad6d\uc81c\uc804\ud654 \uccb4\ud5d8,\uace0\ud488\uc9c8,\ucd5c\uc800\uac00; \u3057\u307e\u3058\u308d\u3046\u3068\u3084\u3063\u3066\u307f\u3088\u3046\uff01; \ubb34\ub8cc \uc720\uc544\ub97c\uc704\ud55c \ucc28\ub7c9; Mint.com Personal Finance; \uc62c\ub808tv now; Sun Rise Live Wallpaper; \uc601\uc5b4\ubc1c\uc74c \ud2b8\ub808\uc774\ub108; MP3 \uc74c\uc545 \ub2e4\uc6b4\ub85c\ub4dc; \ucd5c\ub7c9  \ub2e8\uc704\ubcc0\ud658\uae30; Monster Park GO Reward Theme; \ucc44\ud305\ub9e4\ub2c8\uc544 - \uc2e4\uc2dc\uac04 \ucc44\ud305; \u041a\u043d\u0438\u0433\u0430 \u0432\u0441\u043b\u0443\u0445 ( \u0410\u0443\u0434\u0438\u043e\u043a\u043d\u0438\u0433\u0438); \ub77d\ucee4\ub97c \uc9c0\ubc30\ud558\ub294 \uc790 - GO\ub77d\ucee4\ud14c\ub9c8  - \ud504\ub9ac\ubbf8\uc5c4; SocialOn; \u4e5d\u4e5d\u4e58\u6cd5\u5c0f\u5b78\u5802; iPou \ub010 \ubc29\uadc0; \u6c38\u6052\u6218\u58eb2-\u65e0\u53cc\u6218\u795e; ShaPlus Caller Info (India); \ubb3c\ubc29\uc6b8; PapiStep; Angel Piano.; The Ugly Duckling; [\uadf8\ub0a0] - \ub514\ub370\uc774 dday \uc74c\ub825 \uae30\ub150\uc77c \ub2ec\ub825 \uce98\ub9b0\ub354; Rogers One Number Contacts; \ud1b5\ud070\ucfe0\ud3f0-\ucd5c\uc2e0\uc601\ud654,\ub4dc\ub77c\ub9c8,\uac8c\uc784 \uc6f9\ud558\ub4dc\ubb34\ub8cc\ucfe0\ud3f0 \ubaa8\uc74c; \ucd08\uac04\ub2e8 \uc190\uc804\ub4f1; \uc0c8\uc8fc\uc18c/\ub3c4\ub85c\uba85\uc8fc\uc18c/\uc6b0\ud3b8\ubc88\ud638 \uac80\uc0c9 \ubcc0\ud658; iWow\u611b\u6316\u5bf6-\u514d\u8cbb\u80a1\u5e02\u5831\u50f9\u770b\u76e4APP; now \u8ca1\u7d93 - \u80a1\u7968\u8cc7\u8a0a; \u5468\u516c\u89e3\u5922(\u7e41\u9ad4); sexy \uc5ec\ub300\uc0dd \ud6d4\uccd0\ubcf4\uae30; Tank War Defender; FIFA 12 EA SPORTS Guide; Arabic Language Pack; Shane Reaction! Zombie Dash; Youtube.G; \ub2e8\uc5b4 \uac80\uc0c9\uc744 Word Search; \u8d85\u6e96\u5fc3\u7406\u6e2c\u9a57; \uc721\uac01\ud615 \ub1cc\uad6c\uc870 \ud14c\uc2a4\ud2b8; Dispara al Pato; \ud30c\uc6cc\ub808\uc778\uc800 \uc7a5\ub09c\uac10 \uc644\uad6c - \uc5b4\ub9b0\uc774 \uac8c\uc784; Race Pilot 3D Full; \uc571\uac00\uc774\ub4dc; Turbo Cricket; \ub9c8\ub9ac\uc624 \uc6d4\ub4dc \ubc30\uacbd \ud654\uba74 HD \ub97c \ub17c\uc758; Cool Blue\u3010\ubc14\ud0d5 \ud654\uba74 \ud14c\ub9c8\ub294 GO\u3011; InstaFrame Style; \ube68\ub9ac\uc554\uae30 \ub9cc\ub2a5\uc758 \ud50c\ub798\uc2dc \uce74\ub4dc; \u96f2\u7aef\u767c\u7968; \u0627\u0644\u0643\u0634\u0627\u0641; HD\uc601\uc0c1\ud1b5\ud654 (480*800); TS\ud558\ub298\ub9d1\uc74c\u2122 \ud55c\uad6d\uc5b4 Flipfont; \ub9e4\uc9c1 \ub9ac\ud50c : \uc544\uae30 \ubb3c\uc5d0; Geared; \uc774\uc804 \uc804\ud654 \ubca8\uc18c\ub9ac; KPOP Music Game; AnTuTu Tester; AREL WARS\u2122; WooFoo - \uc5b4\ub9b0\uc774\uc6a9 \uac8c\uc784; \uc640\uc774\ud30c\uc774 \ud574\ucee4 \ud0a4 \ud328\uc2a4; Bracket; \u63a5\u96de\u86cbARMv6; Romanian for GO Keyboard; HexDefense; Night Market; Intuit GoPayment Card Reader; Jupiler Pro League; Somyeol - \uc810\ud504 \uc564 \ub7f0; \uc18c\ub140 \uc138\ucc99 \ud654\uba74; [\uc11c\ube44\uc2a4 \uc885\ub8cc]\ub77c\uadf8\ub098\ube0c\ub808\uc774\ud06c; Siegecraft Lite; docomo Palette UI; \u5152\u7ae5\u6578\u5b78\u6a02\u5712; \ud574\uc801 (Pirates); \ub9c8\uc9c0\ub9c9\uc73c\ub85c \uc2a4\ud0e0\ub4dc \ub77c\uc774\ud2b8; Jungle Waterfall LiveWallpaper; \u81f3\u5c0a\u9ebb\u5c07\u738b HD (\u55ae\u6a5f\u7248 Mahjong); Buraco Free; \uce94\ubc84\uc2a4 \ud1a1; \uc74c\uc545 \ud50c\ub808\uc774\uc5b4 \ud504\ub85c; \uc0bc\uc131 \uc2a4\ub9c8\ud2b8 \ud648; \u97d3\u570b\u83dc\u98df\u8b5c; THE KING OF FIGHTERS Android; (ABC \uc54c\uc544\ubcf4\uae30) \ubb34\ub8cc \uc77d\uc744 \uc218 \uc54c\uc544\ubcf4\uae30; Flying Weed Live Wallpaper; Fake-A-Call Free; \ubd04\ub098\ub4e4\uc774\ub3c4\uc2dc\ub77d\ub9cc\ub4e4\uae30; \ubb38\uc131\uc2e4\uc758 \ub69d\ub531\uc694\ub9ac; \uc2a4\uce74\uc774 \ub9f5; Doodle Sprint Fly & Jump Free; \ubaa8\ubc14\uc77c\ud2f0\uba38\ub2c8(SKT\uc0ac\uc6a9\uc790\uc6a9); ONLINE RPG  AVABEL \uff08\uc544\ubc14\ubca8\uc628\ub77c\uc778\uff09; \uccb4\uc778\ud321 \ubaa8\ubc14\uac8c\ud310; Super Earth Wallpaper Free; \u96fb\u8996\u5427; KIDZ SKATE Lite; [\ubb34\ub8cc\ub9cc\ud654] \ubca0\uc2a4\ud2b8 \ub9cc\ud654 - \uc561\uc158,\uc21c\uc815,\uc77c\ubcf8; Mytunu; \u611b\u53f0\u7063\u6253\u9ebb\u5c07(\u55ae\u6a5f+\u9023\u7dda); \u534e\u5eb7\u5c11\u5973\u5b57\u4f53; Next Launcher Theme iPhone5; Ice Cream Sandwich Keyboard; \ub204\ub9ac \uc2ac\ub86f\uce20 - \ub77c\uc774\ud2b8\ub2dd \ud53c\ubc84; Dieta e Sa\u00fade; AccuWeather Quick; Poker Shark; Blic; \uc77c\ubab0 3D \ub77c\uc774\ube0c \uc6d4\ud398\uc774\ud37c; \ub0a8\uce5c\uc5ec\uce5c\ub9cc\ub4dc\ub294\uc571!, \ucf54\ucf54\uc544\ubd81; Greenlight golauncher EX theme; \u624b\u6a5f\u8cc7\u8cbb; Jewel Pop Free; \uc2e0\ubb34\ub9bc\ub300\uc804SE; Highway Death Racing; Full Screen Caller ID; Minecraft HD Wallpapers; GameTwist Slots; \u6fb3\u9580\u5546\u5e97 Macau Shops; \u0420\u0443\u0441\u0441\u043a\u043e\u0435 \u0422\u0412 HD; Wiimote Controller; Pr\u0161\u00ed; BerlinTN; iMoovez \u0627\u0641\u0644\u0627\u0645 \u0639\u0631\u0628\u064a\u0629; \u5168\u5e74\u597d\u65e5\u66c6; Memes\ub294 \ubc30\uacbd \ud654\uba74 \ub77c\uc774\ube0c; Gps Speedometer; iHandy Level Free; Watch Live Madinah 24 Hours; \ubbf8\uc18c! \uc7ac\ubbf8 :); \u9060\u50b3\u5f71\u57ce; ICS keyboard full; Horoscope; Optimus UI; Picasa Mobile; USAflag \ud14c\ub9c8 \uc2e4\ud589\uae30\uc758 EX\ub85c \uc774\ub3d9; Smart Darts; Slot Machine; Watch Movies; Le Test De Stupidit\u00e9; \u4e00\u751f\u5fc5\u8b80\u768460\u90e8\u540d\u8457; \uc139\uc2dc\ud55c \ube44\ub514\uc624 - \uc548\ub098; \uce68\uc2e4 \ub514\uc790\uc778 \uc544\uc774\ub514\uc5b4; Autostarts; \uc774 \uc791\uc740 \uad34\ubb3c HD Pro\ub97c \ub204\ub974\uc138\uc694; OFCA Broadband Performance Tst; Lego building examples; Minecraft Multiplayer-italia; Tiki Golf 3D FREE; Bubbles *Free Edition*; Media Hub Samsung ICS & JB; mySYNC; \uc560\ub2c8\uc2a4\ud130\ub514; \uac00\uc9dc \uc804\ud654; Luntik\uc758 \uc0c9; Macau Useful Phone; NFL 2013 Live Wallpaper; \ucd2c\uc601 \ub2e4\ud2b8; Pokec; Basketball Mania; THE Lite; \ubaa8\ub4e0\ub3d9\uc601\uc0c1[\uc131\uc778,\ucd5c\uc2e0\uc601\ud654,\ub4dc\ub77c\ub9c8,\ub9cc\ud654,\uc560\ub2c8-\ubb34\ub8cc\ud3ec\ud568; \u83ef\u8a9e\u6d41\u884c\u97f3\u6a02\u6392\u884c\u699c\uff5e\u9644MV\u5f71\u7247\u3001MP3\u97f3\u6a02\u3001\u6b4c\u8a5e\u7b49\u5feb\u901f\u641c\u5c0b; KB\uad6d\ubbfc USIM \ubaa8\ubc14\uc77c\uce74\ub4dc(SKT\uc6a9); \uc54c\ub9bc\uc74c\ucc9c\uad6d! \ubb34\ub8cc\uce74\ud1a1\uc74c, \ubb38\uc790\uc74c, \uc54c\ub9bc\uc74c, \ubca8\uc18c\ub9ac; \ud50c\ub798\uc2dc \ud50c\ub808\uc774\uc5b4 \uc6f9 (\ubc29\ubc95\uae4c\uc9c0); TypoClock Free; \uace0\uc18d\ubc84\uc2a4 \uc608\ub9e4 (ExpressBUS); Flattening High Heels; 4 Player Reactor; \u624b\u6a5f\u4e09\u570b\u570b\u969b\u7248; Monster GO Locker Theme; \u0646\u0643\u062a 2013; \uc560\ub4dc\ub9ac\uce58; \uc644\uc804\ubb34\ub8cc :\uce74\ud1a1\uc74c,\ubb38\uc790\uc74c,\uc54c\ub9bc\uc74c,\uce74\uce74\uc624\ud1a1\uc54c\ub9bc,\ubb34\ub8cc\ubca8\uc18c\ub9ac; Learn Iqra; KDB\ub300\uc6b0\uc99d\uad8c Smart Neo; edu-ManagerM; MapQuest; Root Checker; Pic Frames Grunge; \uc804\ud654 \ucd94\uc801\uae30 (\uce5c\uad6c\uc640 \uac00\uc871\uc744 \uc804\ud654\ub85c \ucd94\uc801\ud558\uc138\uc694); XMAS Crazy Chef Cupcake Maker; \ucf54\ucf54\ubabd \uc2dc\uc98c 2; \u0635\u0648\u0631 \u062c\u062f\u064a\u062f\u0647 \u0648\u062d\u0644\u0648\u0647 \u0635\u0648\u0631 \u0645\u0636\u062d\u0643\u0647 \u062c\u062f\u0627; \ud55c\uad6d\uc0ac\uc5f0\ud45c; \uc6b4\uc804\uba74\ud5c8\uae38\ub77c\uc7a1\uc774; \ud401! \uc778\uae30\ub3d9\uc694MP3 (50\uace1); \ucf54\ucf54\ubabd 4\ud0c4 Lite; \ubaa8\uae30; \ud6c4\ud1a0\uc2a4 5\ud0c4 - \ud55c\uae00\ud310 Lite; \uc720\uc544 \ub3d9\ud654 \u2665 \ud1a0\ub07c\uc640 \uac70\ubd81\uc774 \u2665 [\ubb34\ub8cc]; star wars:superhero return; \uc560\ub2c8\uc720\uc544\ub3d9\uc694; The Economic Times; \u0645\u0646\u0628\u0647 \u062d\u0627\u0641\u0632 - Hafiz; \ub808\uc774\ub514\ud648\uc6e8\uc774\ud2b8\ud2b8\ub808\uc774\ub2dd; Pixable: Your Photo Inbox; PlayTexas Hold'em \ud3ec\ucee4 \ubb34\ub8cc; \uc2a4\ub9c8\ud2b8\uc6d4\ub81b - 900\ub9cc \uac00\uc785\uc790! \uad6d\ub0b4 \ucd5c\ub300 \ubaa8\ubc14\uc77c\uc9c0\uac11; \u00bfMientes \u00f3 No?; \uac00\uc0c1\uce90\uc2a4\ud305:\ub098\uc640\uc5b4\uc6b8\ub9ac\ub294\ubc30\uc5ed\ucc3e\uae30; TGCOM24; \uc2a4\ub9c8\ud2b8\ud3f0 \uc911\ub3c5\ubc29\uc9c0_\ubaa8\ubaa8(MOMO); Cybergeddon; Defend Homeland Full; \uc628\ud0a4\ub178 \uc601\ud654\uad00 - \uc2e4\uc2dc\uac04\uc601\ud654, \ub4dc\ub77c\ub9c8, TV, \ubb34\ub8cc\uc601\ud654; \ubcf4\uc11d \ud018\uc2a4\ud2b8 2; GF\uadf8\ub54c\ub9d0\ud560\uac78\u2122 \ud55c\uad6d\uc5b4 Flipfont; Mobile TV; \ubb34\uc11c\uc6b4 \ubca8\uc18c\ub9ac; Lakorn Online; SwipePad: Hyperspace Launcher; Word To TXT; \u0623\u062f\u0639\u064a\u0647 \u0645\u0646 \u0627\u0644\u0642\u0631\u0627\u0651\u0646 \u0627\u0644\u0643\u0631\u064a\u0645; \ub9cc\ud654\uc758 \ubc30\uacbd \ud654\uba74; \ub0c9\uba74\ub9db\uc9d1; \u5355\u673a\u6e38\u620f \u4f11\u95f2\u6e38\u620f \u522e\u522e\u4e50; 57\u5065\u5eb7\u540c\u5b78\u6703; [\ubb34\ub8cc]\ucf54\ucf54\ubabd\uacfc\uc751\uac00\ud558\uae30; Backgammon; \uc9c4\uaca9\uc758\uac70\uc778 \ubc30\uacbd\ud654\uba74; \uc2a4\ub9c8\ud2b8 \ud30c\uc778\ub4dc\ub77c\uc774\ube0c Wi-Fi; \uac04\ub2e8\ud55c \ub9c8\uc778\ud06c\ub798\ud504\ud2b8 \uac74\ucd95\uc601\uc0c1; \uc758\uc9c0\uc758 \ucfe0\ud3f0; \ucd95\uad6c \ud1b5\uacc4; [\uc644\uc804\uc815\ubcf5] \ubbf8\uc6a9\uc0ac(\ud53c\ubd80) \uc790\uaca9\uc99d \uae30\ucd9c\ubb38\uc81c; Toddler Lock; Princess in her Garden; Funny Camera Live Free; \uc694\uc815 \uacf5\ubc29 -\uc2dc\uacc4 \ubc84\uc804-; chomp SMS emoji add-on; \uc804\uc5ed \ud0c0\uc774\uba38; Spades Free; \u0643\u0648\u0631\u0629 kooora; El Ahorcado; \ucd95\uad6c; \ub098\ubd80\uc790 - \ub098\ub3c4 \ubd80\uc790\ub2e4; \uc694\uc815 \uba54\ubaa8\uff12; PET MATCH (Link Link KAN); Watch Movies Online; My Verizon Mobile for Tablets; \ub2e4\uc74c\ud734\uc77c; ISO Extractor; Slenderman Radar; Latest Online Movie; Dare Devil Coaster; \u30a6\u30a7\u30b6\u30fc\u30cb\u30e5\u30fc\u30b9\u30bf\u30c3\u30c1; \uc624\ud1a0\uce90\ub4dc\uc2a4\ud0ac\uc5c5II; \uc288\ub809 \ud37c\uc990; Equisite \ud56d\uacf5\uae30; Zombies Live\u2122; \uc7ac\uace0\uc815\ub9ac; GO SMS PRO WB Pink Zebra Theme; Ver Peliculas Completas; Kids Math; Your Navigator Deluxe; Finger Dance Lite; Winter nature live wallpaper; WikiMobile (Wikipedia Browser); Make Me A Pirate; \u0413\u0435\u0440\u043e\u0438 - \u043e\u043d\u043b\u0430\u0439\u043d \u0438\u0433\u0440\u0430 (MMORPG); \ub0b4 \uc704\uce58 \ubcf4\ub0b4\uae30; Total Equipment Protection App; \uc774\uc2ac\ub78c \uc560\ud50c\ub9ac\ucf00\uc774\uc158; OpenTable; Austin Ally Videos; Speak Spanish Free; ABC Toddler; \ub9c8\uc791 \uc5d0\uc774\uc2a4 \ub77c\uc774\ud2b8; \ubc29\uadc0 \ubc29\uadc0 \ubc29\uadc0; Robot War; \uc18d\ub3c4\uacc4 \ubc30\ud130\ub9ac; GO Keyboard Happy2012 theme; Guitar Hero World Tour Cheats; Dream Run of Spongebob pet; Insta Grunge Effects; [\ud3ec\ucf13\uac78] \uc8fc\uba38\ub2c8\uc18d \uc5ec\uce5c \ud0a4\uc6b0\uae30; \uc624\ub298\uc758 \ubcd1\ub9db \uba85\uc5b8; \ube44\ub2d0\ub72f\uc9c0\ub9c8\uc138\uc694 \ub3c4\ub3cc \ub7f0\ucc98 \ud14c\ub9c8; \uce74\ud1a1 QR\uc2a4\uce90\ub108; \uc544\ucfe0\uc544 \uc544\ud1b0 \ud14c\ub9c8; BizReader \uba85\ud568\uc2a4\uce90\ub108 \ube44\uc988\ub9ac\ub354 \ud55c/\uc601 \uba85\ud568\uc778\uc2dd; \uac00\uc0c1\ud0c8\ucd9c \ub2e4\uc774\ud558\ub4dc; \ubabb\ub09c\uc774\uc8fc\uc758\ubcf4 \ubb34\ub8cc\ub2e4\uc2dc\ubcf4\uae30-\uac00\uc785\uc5c6\uc74c/\uc2e4\uc2dc\uac04\uac10\uc0c1/TV\ub4dc\ub77c\ub9c8; \uace0\uc591\uc774 \uc18c\ub9ac; \ub098\uc758 \uc791\uc740 \ube44\ud589\uae30; Xtreme Furious; \ud504\ub7ad\ud074\ub9b0\ud50c\ub798\ub108 Activity [ko]; 1111\u5de5\u4f5c\u7279\u641c; The Pirate Bay Browser; (\ub124\uc774\ubc84 \uc6f9\ud230)\ud328\uc158\uc655 \ub3c4\ub3cc\ub7f0\ucc98\ud14c\ub9c8; Beauty Studio - Photo Editor; \u0631\u0633\u0627\u0626\u0644 \u062d\u0628 2013; Magic Jewels; \uc2a4\ud53c\ud0b9\ub9e5\uc2a4 HD; Minecraft Live Wallpaper; \uc5f0\uc608\uc778\uc774\uc0c1\ud615\uc870\ud569\uae30; \uc608\ubed0\uc9c0\ub294 \ube44\uacb0; \uba54\uc774\ud50c\uc2a4\ud1a0\ub9ac \uacf5\uc2dd\uac00\uc774\ub4dc\ubd81 10\uc8fc\ub144 \ud2b9\ubcc4\ud310; Road Hogs; Vintage Pattern \uce74\uce74\uc624\ud648 \ud14c\ub9c8; \ub6b1\uc774 \ub7ec\ube0c\uc2a4\ud1a0\ub9ac \ub3c4\ub3cc\ub7f0\ucc98 \ud14c\ub9c8; \ud3ec\ub2c8\ube0c\ub77c\uc6b4 \ub9c8\ub9ac\ud504 \uce74\uce74\uc624\ud648 \ud14c\ub9c8; Screenshot Ultimate; Grindr - \uac8c\uc774 \uce5c\uad6c \ucc3e\uae30; \uac00\uacc4\ubd80 \uba38\ub2c8\uc719_Money Wing; \ucea1; \ud504\ub85c \ud14c\ub9c8 \ud654\uc7ac \ud654\uc7ac\ub97c GO SMS Pro Theme; \ub450\ub1cc \ud2b8\ub808\uc774\ub2dd - \uc218\uc5f4 \ubb38\uc81c\ud480\uc774!; \ucd94\uc5b5\uc758 \uc678\ud654-\ucd94\uc5b5,mbc,kbs,sbs,\uc678\ud654,\ubbf8\ub4dc; ABC - Learn All Alphabet Free; Carsales.com.au; PapiRiver; Keepy Uppy Soccer; \uc6d4\uae09\uacc4\uc0b0\uae30; \ud3b8\ud55c \uc77c\ubcf8\uc5b4\ub2e8\uc5b4 SD; Full Zombie Movies; \uc6b0\ud3b8\ubc88\ud638\ucc3e\uae30; Last Fight; \u4e2d\u539f\u5730\u5716 Centamap \u624b\u6a5f\u7248; CABLE\u5373\u6642\u7747; \uc2a4\ud0c0\ud06c\ub798\ud504\ud2b8 \uacf5\ub7b5 \uac00\uc774\ub4dc; \uc601\uc5b4\ub2e8\uae30\ud559\uad50-\uae30\uc801\uc758 \uc601\ubb38\ubc95; DerManDar (DMD) Panorama; Chhota Bheem Mice Mayhem Lite; Talking Princess Free; Tiny Monsters; mtv al lubnaniya; French English Dictionary; \uc0c1\ub2e8 \ubc30\uacbd \ud654\uba74 HD; Sportbike & Chopper Builder 3D; Free Math Games for Kids; tfsRadio Israel \u05e8\u05d3\u05d9\u05d5; Flipboard: \u60a8\u7684\u968f\u8eab\u793e\u4ea4\u6742\u5fd7; Free English Malay Dictionary; Easy Touch for Girl; Music Girl; DiziTV HD; Superman; Robin Hood HD Slot Machine; Call Spy; \uadf8\ub140\uc758 \ubc97\uc740 \ubab8\uc744 \ud754\ub4e4\uc5b4! \uc7a5\ub09c FUN; \uc5b4\ub9b0\uc774\ub97c\uc704\ud55c \uc218\ud559; \uc870\ud61c\ub828\uc758 \uc791\uc0b4\uc77c\ub2e8\uc5b4; HY\ud4e8\uc5b4\ud654\uc774\ud2b8 \ud55c\uad6d\uc5b4 FlipFont; Tiger Airways; Marktplaats; Subway Surfers Cheats Free; \uc5f0\uae08\ubcf5\uad8c 520 Simple.Ver; DV Hot Girls; \uc2a4\ud2f1 Moto Race; \ub728\uac70\uc6b4 \uc139\uc2dc\ud55c \uc18c\ub140 \uc131 \uac8c\uc784; SweetyHeaven HD (for Tablet); Ferrari 2013 Simulator; Apk Manager; \uadf8\ub9ac\uae30 \ubc29\ubc95 : \uc7a5\ub09c\uac10 \uba38\uc2e0; SiriusXM Internet Radio; \ube14\ub799\ub9ac\uc2a4\ud2b8 (Blacklist); \ubd88\ub7c9 \ud654\uc18c \ud14c\uc2a4\ud2b8; Cartoon & Animal Photo Frame; Vignette Demo; \uc6f9\ud230 \ubaa8\uc74c - \ub2e4\uc74c \uc6f9\ud230 \ubaa8\uc74c \uc5b4\ud50c; \ubbf8\uc6a9\ud1a1 - \ud5e4\uc5b4 \uc2a4\ud0c0\uc77c,\ubdf0\ud2f0,\ub79c\ub364\ucc44\ud305; \ubd88\uaf43 \ub180\uc774 \ubcbd\uc9c0\uc5d0 \uc0b4\uace0; \uc789\uc5b4 \ubb3c\uace0\uae30 \ub77c\uc774\ube0c \ubc30\uacbd \ud654\uba74 \ubb34\ub8cc; \u5145\u96fb\u304c\u8d85\u9577\u6301\u3061\u266a\u9ad8\u6027\u80fd\u30d0\u30c3\u30c6\u30ea\u30fc\u266a\uff08\u96fb\u6c60\u7bc0\u7d04\uff06\u6b8b\u91cf\u7ba1\u7406\uff09; \ub9e4\uacbd\uc774\ucf54\ub178\ubbf8; \u0627\u0644\u062a\u062e\u0644\u0635 \u0645\u0646 \u0627\u0644\u0643\u0631\u0634 \u0628\u0639\u062f \u0627\u0644\u0648\u0644\u0627\u062f\u0629; Weather & Clock - Meteo Widget; \uba54\uc774\ud06c\uc5c5 & \uc815\uc7a5; \ubc30\uacbd \ud654\uba74\uc758 HD; Area Clienti 3; Pepi Bath Lite; My Xbox LIVE; Soccer Mexican League; \u53f0\u7063\u4fbf\u5229\u5546\u5e97\u512a\u60e0\u8cc7\u8a0a\u5927\u5168 (7-11,\u5168\u5bb6,\u840a\u723e\u5bcc,OK); Mahjong GoLink; Robotic Guitarist Free; Putting Golf; \uc54c\ub78c \uc2dc\uacc4 \ubc0f \ubca8\uc18c\ub9ac; Drawing Pad; Pet Motel (Free); Zattoo Live TV - BETA; Walmart; Blobby Volleyball; \u0645\u0633\u062c\u0627\u062a \u0627\u0644\u062d\u0628 \u0648\u0627\u0644\u0631\u0648\u0645\u0627\u0646\u0633\u064a\u0629; Cut the Rope: Time Travel HD; 11\ubc88\uac00 \uc1fc\ud551\uce74\ud0c8\ub85c\uadf8 for Tablet; Halflings Inn; Glow Dots; Free Stickers for LINE; TV Go!; Learn German with busuu.com!; \uc804\uc7a5 \uc138 \uc815; \uad7f\ub9d8\uc2a4\ub9c8\ucf13 \uc720\uc544\uc6a9\ud488 \uc9c1\uac70\ub798 \uc7a5\ud130 (\ubb34\ub8cc/\uc911\uace0/\uc2e0\uc0c1\ud488); 3D Rollercoaster Rush New York; 3D NFS \uc74c\uc545; Baby show\uff08kids\uff09; \uc54c\ubc14\uc758\ub2ec\uc778 - \uc54c\ubc14\ub3c4 \uce74\ud1a1\ud558\ub4ef \uc27d\uac8c \uad6c\ud574\uc694!; AK - 47\uc758 \ubd88; \uc9c0\ub9ac \ud034\uc988 \uac8c\uc784; \uac00\ub098\ub2e4 \uc0c9\uce60\ub180\uc774 [\ud55c\uae00\uce74\ub4dc \ub9cc\ub4e4\uae30]; Orange Cineday; My baby wants to be...\uff08kids\uff09; mSpot Radio\u2122; Jumping Monkey; \uc2a4\ub9c8\ud2b8DUR; Football Ninja; 365_\uc6c3\uc74c \ud55c\uad6d\uc5b4 FlipFont; Airplane Traffic Lite; ringPod; Foot Mercato; \uc774\uc2ac\ub78c \ubca8\uc18c\ub9ac; MP3 Music Download; \uc6b4\uba85\uc758 \uc218\ub808\ubc14\ud034 - GO\ub77d\ucee4\ud14c\ub9c8  - \ud504\ub9ac\ubbf8\uc5c4; \ud574\uc678\uc548\uc804\uc5ec\ud589; \uc2a4\ub9c8\ud2b8 \ub098\ube44 \ub77c\uc774\ud2b8 - \uce74\uce74\uc624\ud1a1 \uce5c\uad6c \uc704\uce58\ucd94\uc801/\uae38\ucc3e\uae30; \u6df7\u6c8c\u9a91\u58eb; \u5bf6\u5cf6\u4e2d\u734e \u52a0\u78bc\u5c0d\u734e\u5668 \u5927\u7d05\u5305 \u5927\u6a02\u900f; Mountain Bike; \uc54c \uc3d8\uae30; \u0421\u041f\u0423\u0422\u041d\u0418\u041a \u0420\u0423\u0421\u0421\u041a\u0418\u0415 \u0424\u0418\u041b\u042c\u041c\u042b; \uc288\ud37c \uc8fc\uc220 \ubd80\ubb38; \uc800\uc8fc \ucc28\ub2e8\uae30 : \uacf5\ud3ec \uc800\ud0dd; runtastic PRO; \uc11c\ud504\ub77c\uc774\uc988 (\ubbf8\uc2a4\ud14c\ub9ac \uc774\uc57c\uae30); Quick Note Pro; Carrossel \uba54\ubaa8\ub9ac \uac8c\uc784; Pocket Rally; Legendary Warrior; \ubf40\ub85c\ub85cTV; \ub0a8\uc790\uc5f0\uc608\uc778 \uc2a4\ud0c0\ubc30\uacbd\ud654\uba74[\ubc30\uacbd\ud654\uba74/\uc815\ubcf4/\ubb34\ub8cc/\uce74\uce74\uc624\ud1a1]; Fryfun \uc2a4\ub9c8\ud2b8\ud3f0 \ucd5c\uc801\ud654 \uc704\uc82f - Pro; mako mobile; \uacbd\ucc30 \ub4f1; \u53f0\u7063\u89c0\u5929\u6c23 - \u73fe\u5728\u4e0b\u96e8\u55ce? \u5929\u6c23\u89c0\u6e2c\u4e00\u628a\u7f69!; Premier League Live 2012/2013; [\ub3c8\ubc84\ub294 \uc571 \ucd94\ucc9c] \ud2f0\uc8fc\ub0a8-\ud2f0\ucf13\uc8fc\ub294\ub0a8\uc790; MP3 \uc74c\uc545 \ub2e4\uc6b4\ub85c\ub4dc; Azteca Live; \uce74\ud1a1 \ud14c\ub9c8 \uac15\uc544\uc9c0 \ud551\ud06c (\uce74\uce74\uc624\ud1a1 \ubc30\uacbd); Probe the Humans; \uac24\ub7ec\ub9ac\uc544\ubab0; \uc774\ubcc4\uad81\ud569; \ud398\uc778\ud305\uc18c\ub140 \uce74\uce74\uc624\ud648 \ud14c\ub9c8; \uc2a4\ucfe8\ub9d8\ud1a1 SchoolMomTalk; \ud314\ub85c\uc6b0 \ub9ac\ub354 for Kakao; Dominoes Elite; ThailandTV, TV Thailand FREE; Aby Escape; \u0635\u062d\u064a\u062d \u0627\u0644\u0633\u064a\u0631\u0629 \u0627\u0644\u0646\u0628\u0648\u064a\u0629; \ub86f\ub370\ub9c8\ud2b8\uc694\ub9ac; \u63a5\u9f8d \u795e\u4f86\u4e5f\u63a5\u9f8d; \uc720\uc544\ub97c\uc704\ud55c \uc7a5\ub09c\uac10 \ud37c\uc990!; ZRoom GO Getjar Theme; \u2606 \ud654\uac00 \uc601\uc6c5 \ud0f1\ud06c \u2606; Star Gems; \ud2f1\ud0dd\ud1a0 - Tic Tac Toe NeO (124 \ub808\ubca8); \uce74\ubbf8 \ub808\ud2b8\ub85c; Finger Dance; \ub354 \ud0a4\uc2a4\ud558\uace0 \uc815\uc561.; Perfect Keyboard Free; Fandango Movies; chompSMS; \uad11\uace0\ubcf4\uace0 \ub3c8\ub3c4\ubc8c\uace0; HD Photo Fun 350+ Effects; Top20 SMS \ubca8\uc18c\ub9ac; Corkboard GO Launcher EX Theme; DJ \uc0ac\uc6b4\ub4dc \ud6a8\uacfc\uc640 \ubca8\uc18c\ub9ac; \ub4dc\ub77c\uc774\ube0c \ubc15\uc2a4 - Drive Box; \ub9c9\uc601\uc560TV-\ub9c9\ub3fc\uba39\uc740\uc601\uc560\uc528 \uc804 \uc2dc\uc98c, \ubaa8\ub4e0 \uc601\uc0c1 \ub2e4\uc2dc\ubcf4\uae30; \u7121\u6599\u52d5\u753b GyaO!; \u0623\u0648\u0644 \u0643\u0644\u0645\u0627\u062a\u064a; Telmap Navigator; \ud37c\uc990 \uc564 \ucb49\ucb49\ud321\ud321; \u611b\u60c5\u5fc3\u7406\u6e2c\u9a57; \u0420\u0443\u0441\u0441\u043a\u043e\u0435 \u0422\u0412; \uc544\uc774\ub4e4 \ud504\ub808\uc784 HD; \ud14c\ub514 \uac1c\ub97c \ub9d0\ud558\uae30; \ub137\uc7a5\uae30 \uc628\ub77c\uc778; 123GMM; YTN for Tablet; Latin Ringtones; English Restart Basic; \uad7f\ub274\uc2a4; \uc6e8\ub529 \ud50c\ub79c\ubd81 - \uacb0\ud63c \uc900\ube44\uc758 \ubaa8\ub4e0 \uac83; \uc740\ud558\uc758 \uce68\ub7b5 \ubb34\ub8cc; \ubb34\ub8cc\uc74c\uc545\ub4e3\uae30 (\uac78\uadf8\ub8f9,\uac00\uc694,\ud31d\uc1a1,\uc5e0\ub137,\ubc85\uc2a4); Baby Adopter\u00ae Holidays; Wifi Connecter Library; [\uc778\uae30]\ub9c8\uc74c\uc528-\uc774\uc0c1\ud615 \uc18c\uac1c\ud305(\ub9e4\uc77c \ucd5c\ub300 11\uba85 \uc18c\uac1c\ud305); \ubaa8\ubc14\uc77c\ubcf5\uc9c0\uad00; Army Vs Aliens Defense; \uafc8\ud574\ubabd \ub300\ubc31\uacfc; \uc704\ubc84 \uaf43 \ucc3d\ud3ec \uc0ac\uc9c4 \ud6a8\uacfc \ud544\ud130; Traffic Jam Free; \uc601\uc5b4 \ub3d9\uc694 \ubb34\ub8cc (\uc5b4\ub9b0\uc774 English Song); Hadith Library - \u0645\u0643\u062a\u0628\u0629 \u0627\u0644\u062d\u062f\u064a\u062b; Piadas Brasil; \uc77c\ub4dc \ud3ec\ucf13; \ub098\ub8e8\ud1a0 \uac8c\uc784 HD; Documents To Go 3.0 Main App; \ub0a0\uc9dc \uacc4\uc0b0\uae30; \uc2a4\ub9c8\ud2b8\ucee8\uc288\uba38; \ub3cc\ud540\ube0c\ub77c\uc6b0\uc800 HD; Paper Football 3D; \u6e2c\u901f\u7167\u76f8\u5075\u6e2c+\u884c\u8eca\u7d00\u9304\u5668+HUD=GPS Defender; 6\uc2dc \ub9cc\ud654 : \ud0dc\uadf9\uac80\uc81c,\uac15\ud638\ub3c5\ubcf4\ud589; \ubc14\ubcf4 \ud14c\uc2a4\ud2b8 | The Stupid Test; 2008\ud504\ub85c\uc57c\uad6c LITE; Fish Tank 3d Live Wallpaper; [JJUN]\uc2a4\ub9c8\ud2b8 \ub77c\uc774\ube0c \ubc30\uacbd\ud654\uba74; [\ubb34\ub8cc]\ucd94\uc5b5\uc758 \ud2b8\ub85c\ud2b8 BEST \uc74c\uc545 \ubaa8\uc74c; \ub2cc\uc790 \uc810\ud504 DX \ubb34\ub8cc \uac8c\uc784\uc744 \uc2e4\ud589\ud569\ub2c8\ub2e4; \u041a\u043e\u043d\u0441\u0442\u0438\u0442\u0443\u0446\u0438\u044f \u0438 \u041a\u043e\u0434\u0435\u043a\u0441\u044b \u0420\u041a; \uc790\ub3d9\ucc28 \ud06c\ub808\uc778 \ud2b8\ub7ed \uc804\ucc28 1 \uac1c \ubb34\ub8cc; \uc544\uc774\uc2a4\uc704\ud2f0; \uc624\ud1a0\ubc14\uc774 \ub808\uc774\uc2f1; Crazy Girl Driving; \ub9cc\ub2a5 \uc801\uc678\uc120 \ub9ac\ubaa8\ucf58(IR PLAY Lite); \uadf8\ub9ac\uae30 \ubc29\ubc95 : \uc131\ub09c \uc0c8\ub4e4\uc744; 2013 \uc544\ube60! \uc5b4\ub514\uac00? \ub2e4\uc2dc\ubcf4\uae30; \ub514\ud39c\uc2a4 \uac8c\uc784 \ubca0\uc2a4\ud2b8 \ub7ad\ud0b9 - \ud314\ub77c\ub3c5, \uce74\ud230\uc6cc\uc988 \ub4f1; Doodle Jump Fan App; \u9060\u50b3\u884c\u52d5\u96fb\u8996; Ultimate Miner; StarHub TV; Jelly Bean Keyboard; \ud50c\ub798\uc2dc \ud50c\ub808\uc774\uc5b4; \u7206\u8da3 IQ \u984c \u5168\u96c6!; AV \uc5ec\ubc30\uc6b0; \ud035\uc0dd\ud65c\uc815\ubcf4; \u5355\u673a\u6597\u5730\u4e3b; \u9999\u6e2f\u516c\u773e\u5047\u671f2013; \u62db\u5546\u94f6\u884c; Trash School LITE; \uae30\uc9c8\ud14c\uc2a4\ud2b8; \u53f0\u7063\u884c\u52d5\u7db2\u7ad9\u5c0e\u822a\uff08\u65b0\u805e\u6c23\u8c61\u3001\u65c5\u904a\u666f\u9ede\u3001\u5e38\u7528\u96fb\u8a71\u3001\u4ea4\u901a\u8def\u6cc1\u7b49\uff09; \uc601\uc5b4\ub4e3\uae30(\ub0b4\ub9d8\ub300\ub85c \uc791\uc131\ud55c \ubb38\uc7a5\uc744 \uc601\uc5b4\ubc1c\uc74c\uc73c\ub85c \ub4e4\uc5b4\uc694); Swisscom TV; Magic Bowling FULL; Finger Tv (\u53f0\u7063\u7d9c\u85dd\uff0c\u5076\u50cf); Minecraft PE Gamers Fan; Meteor Live Wallpaper; \uc57c\uc655 \ubb34\ub8cc\ub2e4\uc2dc\ubcf4\uae30-\uac00\uc785\uc5c6\uc74c/\uc2e4\uc2dc\uac04\uac10\uc0c1/TV\uc624\ub77d\ub4dc\ub77c\ub9c8; \ucc9c\uc0dd\uc5f0\ubd84\uc5f0\uc608\uc778\uad81\ud569; Sid's Cool Pool Game; Lovely Theme Go Launcher Ex; Trivial Mobile; Glowball: Tegra 3 Only; \uc720\uc131 \uc0e4\uc6cc \ub77c\uc774\ube0c \ubc30\uacbd \ud654\uba74; \u53f0\u9435\u5217\u8eca\u52d5\u614b (\u706b\u8eca\u6642\u523b\u8868/\u8aa4\u9ede\u8cc7\u8a0a/\u7968\u50f9); Spot the Difference; Hello Kitty Memory; VZ Navigator Galaxy Note II; \uc561\uc790; MineMag -  Minecraft Magazine; \ubbf8\uc8fc \uc911\uc559\uc77c\ubcf4 \ud55c\uc778\uc5c5\uc18c\ub85d; \u062e\u0644\u0641\u064a\u0627\u062a \u062c\u0627\u0644\u0627\u0643\u0633\u064a \u0646\u0648\u062a 2; Volume+ FREE; GyroSpace 3D \ubb34\ub8cc; \u6f02\u6d6e\u6a02\u5712; \u97f3\u6a02MV\u5427; Pretty Pet Salon HD; 3D\uae09\uc18d\ub808\uc774\uc2f1\uce74; \u041c\u0443\u043b\u044c\u0442\u0444\u0438\u043b\u044c\u043c\u044b \u0434\u043b\u044f \u0434\u0435\u0442\u0435\u0439  \u043a\u0430\u0442\u0430\u043b\u043e\u0433; PocketNav - Minecraft Edition; Ninja Revenge; i68\u570b\u9053\u5373\u6642\u8def\u6cc1HD; \ud654\uc774\ud2b8\ubcf4\ub4dc; \u83ef\u8a9e\u97f3\u6a02\u6d41\u884c\u699c; \ub192\uc740 \uc815\uc758\uc5d0\uc11c \ub9c8\uce74\uc624 \uc2ac\ub86f \uba38\uc2e0; Sidebar Lite; \u86cb\u7cd5\u505a\u6cd5\u5927\u5168; Gangnam Style Song; now player; \ubd80\uc871 \uc608\uc220\uc744 \uadf8\ub9bd\ub2c8\ub2e4\ud558\ub294 \ubc29\ubc95; \ub8f0\ub81b \uc2ac\ub86f; \ub8e8\uac70 P08\uc758 \uac74; The Voice Thuiscoach App; \ub85c\uace0 \ud034\uc988 \ud50c\ub7ec\uc2a4; \u6b66\u58eb\u5927\u6230\u6bad\u5c4d; 9GAG (free); T-Jelly.Q GO Locker Theme; \u982d\u689d\u65e5\u5831 v2; Madagascar Puzzle; Luckiest Wheel Christmas2012; TV Guide BR; Coloring Game Animals; Truck Driving 3D; Kids Song Machine Free; MOCA; [\uc560\ub2c8]\uba85\ud0d0\uc815 \ucf54\ub09c \ubb34\ub8cc\ubcf4\uae30 \ubb34\uc81c\ud55c\uac10\uc0c1; \u7b11\u8a71\u5927\u738b; Desk Migrate; \uc704\uce58\uc6cc\uc988: \ud37c\uc990(Witch Wars); Skidamarink; \u30d1\u30ba\u30c9\u30e9\u5b8c\u5168\u653b\u7565\u2605\u30b2\u30ea\u30e9\u6642\u9593\u5272\uff06\u30b9\u30ad\u30eb\u56f3\u9451\uff06\u88cf\u6280\u52d5\u753b; \u9ebb\u96c0 \u795e\u4f86\u4e5f13\u5f35\u9ebb\u96c0; \u041b\u0438\u0448\u043d\u0435\u0435 \u0441\u043b\u043e\u0432\u043e; 1\ucd08\uba74 \uc5d4\ub529\uae4c\uc9c0..\uc2e0\uc785\uc0dd; \ub85c\ucee4 \ud14c\ub9c8\ub85c \uc774\ub3d9\ud569\ub2c8\ub2e4 ZCute; Snow White; Multi BetLine Slot Machine; \u751f\u65e5\u7684\u79d8\u5bc6 - \u63a2\u79d8\u4e00\u5e74366\u5929; English Chinese Dictionary; \uc5f0\ub9d0 HD \ub77c\uc774\ube0c \ubc30\uacbd \ud654\uba74 FREE (PRO); \u52d5\u756b\u7cbe\u9078 2012; \u5012\u6570\u65e5; \uad6c\uae00 \uc11c\ube44\uc2a4; SBS VOD(\uac24\ub7ed\uc2dc\ud0ed \uc804\uc6a9); RTL Telekids; Beatdown Boxing (Lite); \ud1b1 DJ \ud6a8\uacfc \ubca8\uc18c\ub9ac; \u7231\u5947\u827a\u7cbe\u9009\u89c6\u9891\uff08video HD\uff09; JobsDB; \u65b0TOEIC\u5358\u8a9e; \u611b\u60c5\u5fc3\u7406\u6e2c\u9a57(\u8d85\u6e96); \uc544\uc774 \ud504\ub808\uc784; \uc2a4\ud0c0\uc77c\ud0a4\uce5c; Smooth Calendar; NH \ub18d\ud611\ucc3e\uae30; UNO Gratis; \uba85\ud0d0\uc815\ucd94\ub9ac\ub825\ud034\uc988; Hanuman Temple : Chalisa Audio; Mickey Mouse Wallpapers; Terapets Collect Cute Monsters; \uc6b8\ud2b8\ub77c \ubba4\uc9c1 \ud50c\ub808\uc774\uc5b4; \u53f0\u7063\u5fc5\u73a9\u666f\u9ede; \u0410\u043f\u0442\u0435\u0447\u043a\u0430; Alone with the zombies; KickBack; \u53f0\u7063\u5230\u8655\u5403OK; Minecraft HD \ubc30\uacbd \ud654\uba74; Shazam tag shortcut; Talking Panda; AppleTV AirPlay Media Player; \u30cf\u30a4\u30ab\u30e0\uff08\u81ea\u52d5\u52d5\u753b\u7de8\u96c6\u30a2\u30d7\u30ea\uff09; Lookout Ad Network Detector; Happy KTV; \ub9e4\uc9c1 \uc6e8\uc774\ube0c : \uace8\ub4dc \ud53c\uc26c; ABC\u82f1\u6587\u5b57\u6bcd\u5c0f\u5b78\u5802\u57fa\u790e\u7bc7; \u611b\u53f0\u7063\u64bf\u7d05\u9ede(\u55ae\u6a5f+\u9023\u7dda); \u7f8e\u7537\u5927\u5967 \u6200\u611b\u306e\u5f8c\u5bae; 4 pics 1 word 2; CartoonsTV - \ubb34\ub8cc \ub9cc\ud654; \uce74\uce74\uc624\ud1a1 3.0 \ud14c\ub9c8 : Seize the day!; \u82f1\u6587\u77ed\u53e5; \u8d64\u58c1\u4e09\u570b3D; Press - Maroc; \u8868\u60c5\u7b26\u53f7 Emoticons\uff08\u989c\u6587\u5b57\uff09; Tired Birds; \uc5b4\ub9b0\uc774 \ubb34\ub8cc \ub4e4\uba74 \uc218\ud559 \ubc8c; Lost Phone; Zombie Mayhem; Pool Bar HD; Interactive Telling Time Free; \u5929\u5929\u52a8\u542c\u76ae\u80a4-\u6d77\u8d3c\u738b\u5973\u5e1d; \uc5f0\uc18d 4 \uc77c (\uc778\ub77c\uc778 \uc0ac); ibon\u884c\u52d5\u751f\u6d3b\u7ad9; Malen mit Freunden; \u6200\u611b\u7269\u8a9e \u6e5b\u85cd\u7684\u56de\u61b6; \ubc14\ucf54\ub4dc \uc2a4\uce90\ub108\"ICONIT\"; Peter Pan; \uc6cc\ub4dc\uc5c5 \uc655\ucd08\ubcf4 \ud1a0\uc775\ubcf4\uce74 Level1; \u9234\u8072\u526a\u8f2f\u8207\u97f3\u91cf\uff08MP3\u9234\u8072\u88fd\u4f5c\u3001\u806f\u7d61\u4eba\u9234\u8072\u3001\u624b\u6a5f\u97f3\u91cf\u7ba1\u7406\uff09; \ud55c\uae00 \uc774\ub984 \uc601\uc5b4 \ubcc0\ud658; \u8def\u6cc1\u5feb\u6613\u901a; \u7389\u5c71\u884c\u52d5\u9280\u884c; FlashLight (Simple) LED \uc190\uc804\ub4f1; Brand! Pronounce it Right; \uc0ac\ub95c\uc548-\ubc30\ud130\ub9ac\uc704\uc82f; Holy Quran - Abdelrahman Sodes; \u0417\u0430\u043f\u0438\u0441\u044c \u0437\u0432\u043e\u043d\u043a\u043e\u0432 (\u0411\u0435\u0441\u043f\u043b\u0430\u0442\u043d\u043e); \u53f0\u5317\u516c\u8eca; \uc5c5\uadf8\ub808\uc774\ub4dc; \u9999\u6e2f\u5df4\u58eb\u901a; Street Fighter Moves; Catch Pigs; \u5361\u901a\u5927\u7c89\u7d72; Crazy Soda; Hot Video (\uc778\uae30 \ub3d9\uc601\uc0c1); Mahjong and Friends 16 Free; \ub9e5\uc2a4 \uac01\ub3c4\uae30; WhatsTheNumber-Lite; Jungle Archery; Slots Mania Deluxe; Whale  GO Launcher Getjar Them; \ucd95\uad6c \uc608\uce21; \u7701\u9053\u5373\u6642\u4ea4\u901a\u8cc7\u8a0a; Powerful Control; Poker KinG VIP-Texas Holdem; PK! SexyGirl 2 HD; Monster Zuma; \u6c7a\u6230\u751f\u6b7b\u7dda_FREE; Mahjong Pair 2; \ubd80\uc7ac\uc911 \uc804\ud654 \uc54c\ub9bc; \ud380\ud398\uc5b4; \u70ae\u70ae\u5802; \u98a8\u96f2\u4e09\u570b; Thai Lottery; CRYSTAL DEFENDERS Lite; Light Racer 3D Unlocked; [\ud0ed2] \ub2e4\uad6d\uc5b4\ud68c\ud654 - 11\uac1c\uad6d; Pointpal; 518\u627e\u5de5\u4f5c; SFR Multisurf Modem; \uc544\uae30 \ud0d0\ud5d8\uac00 DEMO; Yandex.Shell; AE Slot Machine; Truth or Dare (Sexy); \ud478\uc6b0 \uc2ac\ub77c\uc774\ub4dc \uc1fc\ub97c \uc704\ub2c8; [\uc2a4\uce94\uc778\uc2dd]\ub85c\ub610\ub878\uc787\ub098\uc6b0-\ubb34\ub8cc\ud480\ubc84\uc804; \u6700\u7f8e\u9aee\u578b\u7cbe\u9078\u5716\u89e3 - \u5316\u599d\u5fc5\u5099; \u9748\u6a5f\u5999\u7b97-\u5360\u535c\u3001\u661f\u5ea7\u3001\u516b\u5b57\u3001\u7d2b\u5fae\u3001\u6c42\u7c3d\u3001\u5854\u7f85\u3001\u86c7\u5e74\u904b\u7a0b\u547d\u7406; Alchemy Classic; \u041c\u0443\u0437\u044b\u043a\u0430 \u0438 \u0442\u0435\u043a\u0441\u0442\u044b \u043f\u0435\u0441\u0435\u043d; Photo editor; Bad Blood TCG; Panda BBQ; Bubbles Touch; \u6700\u5168\u7684\u751f\u65e5\u8a73\u89e3\u66f8- \u611b\u60c5/\u4e8b\u696d/\u5065\u5eb7/\u5e78\u904b; \ub0a8\uc740 \uc218\uba85 \ud14c\uc2a4\ud2b8; Hami Music; \ubcf4\ub77c\uc0c9 \ub098\ube44 \ub77c\uc774\ube0c \ubc30\uacbd\ud654\uba74; Cup! Cup! Golf 3D!; Cyber Knights RPG Elite; \u5091\u514b\u8239\u9577slots gametower; Bike Striker; Dungeon Village; \ubc84\ube14 \uc288\ud130 \ud504\ub85c (HD); Catch the Eggs; \u5065\u5eb7\u5341\u842c\u500b\u70ba\u4ec0\u9ebc(\u7e41\u9ad4\u7248)- \u4f60\u96a8\u6642\u4e86\u89e3\u7684\u91ab\u5b78\u554f\u7b54\u5eab; Gangster Paradise; StyleNote Notes & Memos; Hot Black Guys - PuzzleBox; HK Marksix; Angry Frogs NoAds FULL; Kpop \u97d3\u661f\u7db2; MONOPOLY; Marine Defender; Millionaire; My Paper Plane 3 (3D); Pandas vs Ninjas; Papaya Farm 2011; Pocket Racing; Push Roll (\ub864 \ubc00\uc5b4); RPG Elemental Knights Online; Robotek; Running Fighter; Shadow Era; \ucee4\ub125\ud2b8\ub380 \ubd80\ud65c\uc808 \uc2dc\uc98c; \u65c5\u904a! \u6211\u611b\u74b0\u5cf6\u81ea\u7531\u884c(\u860b\u679c\u65e5\u5831,Mobile01,\u89c0\u5149\u5c40); Strike Team 3D; Super Monkey Ball 2: Sakura Ed; SuperGNES (SNES \uc5d0\ubbac\ub808\uc774\ud130); EasyTravel; Quiz French Departements; Tap Zoo: Santa's Quest; \u7231\u58c1\u7eb8HD; myMusic(HD); iKala\u611b\u5361\u62c9: K\u6b4c\u9054\u4eba,\u6b61\u5531,KTV,karaoke; 2013 \u86c7\u5e74\u5341\u4e8c\u751f\u8096\u8fd0\u52bf; \u5e7b\u60f3\u7cbe\u9748 (\u53e3\u888b\u840c\u5bf5\u602a\u7378\u904a\u6232); \uc560\uc644 \ub3d9\ubb3c \uacf5\ub8e1 T-\ub809\uc2a4; \uc6cc\ub4dc\uc5c5 \uc655\ucd08\ubcf4 \ud1a0\uc775\ubcf4\uce74 Level2; \ucda4\ucd94\ub294 \uace0\uc591\uc774; \uc911\uad6d \uc804\uccb4 \uc601\uc5b4; \u53f0\u7063\u96e2\u7dda\u7f8e\u98df\u512a\u60e0\u5238\uff01(\u9ea5\u7576\u52de\u3001\u80af\u5fb7\u57fa\u3001\u6f22\u5821\u738b\u3001\u661f\u5df4\u514b); \uc804\ud1b5 \uc18c\uc6d0 \uc131\ucde8 \ubd80\uc801; Le P'tit Bac; Ninja Run; \ub178\ub798\ubc29 \ub3c4\uc6b0\ubbf8; Chinese Soup Recipe \u4e2d\u6e6f\u98df\u8b5c (\u96e2\u7dda\u7248); Optimus Battery Saver FREE; League of Legends Champions; \ucc9c\uba85 \ubb34\ub8cc\ub2e4\uc2dc\ubcf4\uae30-\uac00\uc785\uc5c6\uc74c/\uc2e4\uc2dc\uac04\uac10\uc0c1/TV\uc624\ub77d\ub4dc\ub77c\ub9c8; EHA 18; First AID 500 Diseases; \ub208\ubb3c\uc774 \ub9ce\uc544\uc11c - \uc218\uc9c0(MissA)[\ub178\ub798\ubc29]; \uce74\ud1a1+\ubb38\uc790\uc54c\ub9bc\ud32911; [MRAR\ub178\ub798\ubc29] \uadf8\ub7f0\uc0ac\ub78c\ub610\uc5c6\uc2b5\ub2c8\ub2e4 - \uc774\uc2b9\ucca0; \ubca8\uc18c\ub9ac : \ub108 \ud558\ub098\uc57c (\uad6c\uac00\uc758 \uc11c OST) [\ud3ec\ub9e8]; TV\ub97c\uaed0\ub124 - \ub9ac\uc30d [\ub208\ub178\ub798\ubc29]; \uce74\ud1a1+\ubb38\uc790\uc54c\ub9bc\ud3295-\u2606\uac1c\ucf58\u2606+@; Builderz Imaginez Caustic 2.1; \ud3ec\ub9e8 - \ub108 \ud558\ub098\uc57c (\uad6c\uac00\uc758\uc11c \ubca8\uc18c\ub9ac,\uceec\ub7ec\ub9c1); \ube44\ub2c8\uc758 \uc790\uc7a5\uac00; \uc77c\ubcf8 \uc139\uc2a4 \uc18c\ub9ac; uTalk \uc544\uc81c\ub974\ubc14\uc774\uc794\uc5b4; \ub3c5\ub3c4\uc571 - \ub3c5\ub3c4\ub294\uc6b0\ub9ac\ub545; AFT Jungle Recon Soundboard; MN \ud480\uc78e\ud53c\ub9ac\u2122 \ud55c\uad6d\uc5b4 Flipfont; \ubaa8\ub450\uc758 \ubaa9\uc18c\ub9ac; Waterpolo.nl (Donate); Calton Hill Golf GPS; Snowboard Trick List; Cricket Live; Watch Cricket Live Stream; Champion Trophy 2013 Cricket; Champions Trophy-Live Cricket; cokcok \ucf55\ucf55 \uc6b0\ub9ac \ud568\uaed8 \ub180\uc790; Animation Studio; RFRSH - Refresh for Android; Grammar and Spelling Keyboard; \uad6d\ub9bd\ub300\uc804\ud604\ucda9\uc6d0; \uc6d0\ud074\ub9ad \ucc28\uacc4\ubd80; Super sexy sexy puzzle; [\uc57c!]\ub9cc\ud654\uc640 \uc7ac\ubc0c\ub294\uc57c\uc124; Marketing Plan - New Customers; Startup & Business Ideas; \ud130\ud0a4\uc5b4 \ud154\ub808\ube44\uc804; Download Videos for FB VIP; iPhoto\ub97c \ud50c\ub7ec\uc2a4; \uc139\uc2dc\ud55c \uc5ec\uc790\uc758 \uc57c\ub3d9\uc0ac\uc774\ud2b8; \ubabb\ub09c\uc774 \uc8fc\uc758\ubcf4 \ub2e4\uc2dc\ubcf4\uae30 - \uc2e4\uc2dc\uac04\uac10\uc0c1 \ubc0f \ub2e4\uc6b4 \ubb34\ub8cc\uc601\uc0c1; \ub808\uace0\ud0a4\ub9c8\uc758 \uc804\uc124 \ub2e4\uc2dc\ubcf4\uae30 -(\ubb34\ub8cc\uc601\uc0c1 \uc2e4\uc2dc\uac04\uac10\uc0c1 \ub2e4\uc6b4); [MOVIE]19\uae08\ub3d9\uc601\uc0c1/\uc131\uc778\uc601\ud654AND\ub9dd\ub77c \ubaa8\uc74c; \uc9c4\uaca9\uc758\uac70\uc778 \ub2e4\uc2dc\ubcf4\uae30- \uac00\uc785\uc5c6\uc74c/\ubb34\ub8cc/\uc560\ub2c8 \ub2e4\uc2dc\ubcf4\uae30; \ub108\uc758\ubaa9\uc18c\ub9ac\uac00\ub4e4\ub824 \ub2e4\uc2dc\ubcf4\uae30- \uac00\uc785\uc5c6\uc74c//TV\ub4dc\ub77c\ub9c8/\ubb34\ub8cc; Pacinos Vol 2; Ars Technica Design Group; Office Communications Manual; \uac00\uc871 GPS \ud2b8\ub798\ucee4 \ud504\ub85c; NIV SinaiBible-A3; \uc57c\uc6b0\ub9ac \uc2dc\ub124\ub9c8(YA WOO RI) - \uc601\ud654\uc2dc\uac04\ud45c; \u0428\u0430\u0433\u0430\u0439\u043d \u043c\u044d\u0440\u0433\u044d; Beautiful Hot Girls; Asian Pretty Girls; Lord Buddha Live Wallpaper; \u30b7\u30e7\u30b3\u30e9 for ANeko; Slot Machine live wallpaper; \ubaa8\uc5d0 \ud558\ub298 \ub291\ub300; Penguin Live Wallpaper; \u840c\u3048\u5929\u30a8\u30eb\u30d5\u30a7\u30f3; MonsterHood \ub77c\uc774\ube0c \ubc30\uacbd \ud654\uba74 \ud504\ub85c; \uac00\ub808\uc0b0\uc2a4\uc774 \ub77c\uc774\ube0c \ubc30\uacbd\ud654\uba74; Big Waves at Sunrise Live HD; Gold Wallpapers for Minecraft; Sharingan \ub77c\uc774\ube0c \ubc30\uacbd \ud654\uba74 HD; Act 1 Video Player; Kids Jigsaw Puzzles Farm Free; Backup & Restore Everything; Hungry shark 3; \uc774\ud76c\uc7ac, \uc774\ubb38\uc5f4 \ub9cc\ud654 \uc0bc\uad6d\uc9c0; Refresh App-Launcher; \uc815\uac01\uc54c\ub9ac\ubbf8; Settings Pro - iPhone Style; \ubc30\uacbd \ud654\uba74 \uac80\uc0c9 PRO; Blue Blend Next Launcher 3D; WP : \ub9c8\uc778 \ud06c\ub798\ud504\ud2b8 \ubc30\uacbd \ud654\uba74 2; RSS Reader Pro; Speed Detector EVO; \uadf8\ub9ac\uae30 \ubc29\ubc95 : \uaf43\uc744; \ud654\uc7ac \uc190; \ubc29 \ud0c8\ucd9c \uac8c\uc784; Nachos Maker; \u4e2d\u9280\u6d41\u52d5\u9280\u884c; Channel TEN; \u760b\u7f8e\u98df; \u89c2\u5f71\u5927\u7247; \ud654\uc7a5\uc2e4 \uc885\uc774 \ub808\uc774\uc2f1; Analog  14 Clocks Widget Pack; \u516d\u5408\u5f69 Mark Six; iWatch DVR II; Snowy Snow - Live Wallpaper; GO\u684c\u9762EX\u4e2d\u6587\uff08\u9999\u6e2f\u7e41\u9ad4\uff09\u8a9e\u8a00; WordReference \uc601-\ud55c \uc0ac\uc804; Torrent Downloader; Duke Nukem 3D; \u65c5\u884c\u53f0\u7063 Tour Taiwan; Gangnam Style Song; Camera ZOOM FX Buddies Request; \ubc1c\ub80c\ud0c0\uc778 \ub370\uc774 2013 : 14\uac1c\uc758 \uc0ac\ub791\uc744 \ub2f4\uc740 \uc571; Gridlock; Travel Bug; \uc62c\ub808 map; \ub77c\uba74119; \ube44\ub204\ubc29\uc6b8\ubd80\ubd80\uc824\ub77c; olleh \ub9c1\ud22c\uc720; \ud55c\uad6d \ud504\ub85c \uc57c\uad6c (\uc911\uacc4, \uc751\uc6d0, \uc21c\uc704, \uae30\ub85d\uc2e4...); \uc62c\ub808\ubba4\uc9c1 - \ubb34\uc81c\ud55c \uc74c\uc545 \ub2e4\uc6b4\ub85c\ub4dc; Free Mobile Movies and TV Live; TV Series 2; \uc870\ud61c\ub828\uc758 \ubc15\uc0b4\uc77c\ubcf8\uc5b4; 27\uac00\uc9c0 \ub77c\uba74 \uc694\ub9ac\ubc95; \ud55c\uad6d\uc758 \ubb38\ud654\uc720\uc0b0; \uc6cc\ub4dc\uc5c5-\ud1a0\uc775 \ud544\uc218 \ubcf4\uce74 900 Level3; LIVE STREAM VIEWER; Solitaire 3D HD; hoppin(\ud638\ud540) - \ud0dc\ube14\ub9bf \ubc84\uc804; Smart Tag; Je weet nu; \u8d85\u516b\u6c34\u679c\u76e4; \u6211\u8981\u642c\u5bb6; Subway Surf World Tips&Tricks+; \ub2e5\uce58\uace0 LED \uc190\uc804\ub4f1 - just.Light; \u611b\u53f0\u7063\u71c3\u71d2\u542713\u652f(\u55ae\u6a5f+\u9023\u7dda); Final Fighter; myfone\u8cfc\u7269; Bikini Girls; \ud06c\ub9ac\ud2f0\uceec \ubbf8\uc158 SWAT; Wasalny; \u5927\u7b97\u547d\u7406\u516b\u5b57-\u86c7\u5e74\u3001\u6d41\u5e74\u3001\u611b\u60c5\u3001\u914d\u5c0d\u3001\u5de5\u4f5c\u3001\u8ca1\u904b\u3001\u958b\u904b\u3001\u5927\u7b97; [B] \uc880\ube44\uba54\ud2b8\ub85c \uc11c\uc6b8; Word Game; \u8ca1\u4f4d\u7f85\u76e4-\u8fb2\u6c11\u66c6; [shake] \ube44\uc2a4\ud2b8 \ub274\uc2a4\ubc30\uacbd\ud654\uba74 \ud14c\ub9c8 (\ub808\ub4dc); Bao Viet Nam; \uad81\uadf9\uc801\uc778 \uc0ac\uba85; \uc880\ube44\uc2dc; Empire War - Full Ver.; plane defense; \ub3c4\uadf8\ud30c\uc774\ud2b8; \ubaa8 \ubaa8 \ucc28\ub2e8; \uba54\uc774\ub4dc \ud328\ub110; \ube14\ub85d\uad70; \uc2a4\ub9c8\ud2b8 \uc0ac\ucc9c\uc131; \uc5d0\ub974\uc5d8\uc6cc\uc988; \uc5e0\ud30c\uc774\uc5b4 \uc6cc - \ud788\uc5b4\ub85c\uc988 \ub9ac\ud134; \ud53c\ub9dd \uc6cc\ud06c\ub77c\uc774\uc2dc\uc2a4 - WarCrisis by Pmang; \uce58\uc988 \ud0c0\uc6cc Cheese Tower; \ucf5c\ub85c\uc138\uc6c0 \ud788\uc5b4\ub85c\uc988; \ud0c8\ucd9c \uac8c\uc784 \u201c\ubc31\uc124\uacf5\uc8fc\u201d; \ud130\uce58 \u2665 \uc0ac\ub791 \ub77c\uc774\ud2b8 \u2160; \ud5ec\ub85c\uce74\ud478\uce58\ub178 (Cappuccino Cafe); sexy \uc5ec\uce5c \uc637\ubc97\uae30\uae30; \ud37c\uc990\ub3d9\ubb3c\ub18d\uc7a5; \ub9c8\uc6b0\uc2a4 \ud53c\uc2f1; Letters from Nowhere 2; \ud5ec\ub85c\ud0a4\ud2f0 \ubdf0\ud2f0 \uc0b4\ub871; \uc11c\ub4e0\uc6a9\uc5b4\uc0ac\uc804(Sudden Vocab Dictionary; \uc0ac\uac01\uc0ac\uac01 \uacfc\uc77c\ubcf4\uc11d(Fruit Jewels)\uc2ec\uc2ec\ud480\uc774 \ud37c\uc990; \ud2c0\ub9b0\uadf8\ub9bc\ucc3e\uae30 !!!; \ubcf4\uc11d \ub9c1\ud06c \ub514\ub7ed\uc2a4; \uc810\ub530\ub77c\uadf8\ub9ac\uae30(Dot draw); \uc561\uc158 \uc0ac\ucc9c\uc1312; HELP OUT - Blocks Game; Graffiti Ball; SBS \ucd08\ud55c\uc9c0 \uc7a5\uae30; Aporkalypse \ubb34\ub8cc; \ubc84\ube14 \ube14\ub77c\uc2a4\ud2b8 \ubd80\ud65c\uc808 \uc2dc\uc98c; CrossWorlds: the Flying City; Elements; HotBeautyGirlPuzzleF; \ubbf8\ub2c8 \uac8c\uc784 \ucfe0\ud0a4; Ghost Wars Pro; Sexy Girl Puzzle; Firefly Live Wallpaper; Zombie Wars; 2012\ud504\ub85c\uc57c\uad6c KBO; [\uc9c0\uc774]\uacf0\ub2ec\ub9ac\uae30; \ud1b1 \ubaa8\ub378: \uc2a4\ud3ec\uce20 \uc5d0\ub514\uc158; \uc2a4\ub9e4\uc2dc\ud321\ud321SE; Basketball Games - 3D Frenzy; Super Soccer Caps; 3d \ub18d\uad6c; 3D Hunting: Zombies Reloaded; \uad6c\ub2e8 \ubaa8\ubc14\uc77c Mobile FC; Fifa 11 Tracker; B.M.Snowboard Free; \ub098\ub294 \ud22c\uc218\ub2e4; \ucd95\uad6c\ub97c \uc18d\uc774\ub2e4; EURO 2012 Football/Soccer Game; Pocket League Story Lite; 3D Super Bowling Free; Space Jump; Rugby Kicks; \ud0a5\uc787\uc544\uc6c3!; Midnight Basketball; Transport Jigsaw Puzzles Free; Shayari (Hindi) - \u0936\u093e\u092f\u0930\u0940; \u90a6\u59ae\u7684\u65e9\u5348\u9910; Japanese Vocabulary; SBS\ud3ec\ud2b8\ub9ac\uc2a4SE; \u62e1\u6563\u6027\u30df\u30ea\u30aa\u30f3\u30a2\u30fc\u30b5\u30fc; \ub098\ub9cc\uc758 \uc601\uc5b4\ube44\ubc95; Photo Effects Plugin by Aviary; \ub0a8\uc790\ub294\ubaa8\ub974\ub294\ubd88\ud3b8\ud55c\uc9c4\uc2e4; Crazy monkey slot; \ub0c9\ub3d9 \ucc3d; D-Grotto GO Locker Theme; Temple Run 2 Fan Free; \ubbf8\uce5c433 Lite; Russia TV Free; \u5feb\u64ad\u9ad8\u6e05\u5728\u7ebf\u5f71\u9662; \uc139\uc2dc! MOSATSU DIY\uc758 \uc808\uac1c \ubdf0\ud2f0; \ub514\ud39c\uc2a4 \ud788\uc5b4\ub85c 2; Ninja Versus Chicken; \ud575\uc804\uc7c1 (Nuclear War); XFINITY TV; \uc880\ube44\ub4dc\ub77c\uc774\ube0c; \ub9c8\ub2e4\uac00\uc2a4\uce74\ub974 \ud37c\uc990; \u6df7\u6c8c\u6b66\u8005; \uc6d0\ud130\uce58 \ud50c\ub808\uc774 (\ubaa8\ubc14\uc77c); \uc720\uc544\ud0b9-\uc704\uce58\uae30\ubc18 \ud765\uc815\ucee4\uba38\uc2a4; De Telegraaf; Gods Wars Free; iMadeFace Free Fan; Labyrinth 2 Lite; Wipeout; \ud2f0\uc544\ub77c \uc170\uc774\ud06c; \ud0c0\ub85c; Photo Roulette Widget; Grow; TV Listings for Android TV24; K-Touch : Masked Rider Decade; PicFrame; \uc789\uc5b4 HD \ub77c\uc774\ube0c \ubc30\uacbd \ud654\uba74; Archos System Monitor (TI); \u64bf\u7d05\u9ede; Police Cars; Archos Remote Control; Real Sex Positions; \ud310\ud0c0\uc9c0\uce74 (Fantasica); Sketch Pad HD (Draw Something); White Day GO Reward Theme; \u0627\u062c\u0645\u0644 100 \u0628\u064a\u062a \u0634\u0639\u0631 \u0641\u064a \u0627\u0644\u062d\u0628; \ud55c\ubc24\uc911\uc758 \ud574\ubcc0 \ub77c\uc774\ube0c \ubc30\uacbd \ud654\uba74; \u958b\u5fc3\u77e5\u8b58\u554f\u7b54; Network Signal Speed Booster \u2605; CNN\ub274\uc2a4\uccad\ucde8; KTV\u5427; \uac10\uc790 \ubc29\uc5b4; Pigeoncraft; Turbo Downloader; Octopus Balance Reader; \ub9c8\ub9ac\uc624 \uac8c\uc784 \ubc30\uacbd \ud654\uba74 HD; \ud608\uc561 \ubc0f \uba85\uc608 - \uc601\uad11 \uc804\uc7c1 RPG; \uc5d0\ud53d\ud558\uce20; joyn; Your Text LW PRO; Red Bull Urban Futbol; Smart Wallet_\ubaa8\ubc14\uc77c\uc9c0\uac11(\uba64\ubc84\uc2ed/\ucfe0\ud3f0/\uc774\ubca4\ud2b8); \ub819\uc5c5\ub9cc\uc774\uc0b4\uae383; Defend The Bunker; \uc544\ucfe0\uc544\ube4c\ub9ac\uc9c0 for Kakao; KNY\u53f0\u7063\u90f5\u905e\u5340\u865fFree; Network Speed; Pirate Bubble Blast; ICS Phase Beam Live Wallpaper; \uc62c\ub808\ud1a1-\uce74\ud398\uc640 \ud1a1! \ubaa8\ubc14\uc77c \uce74\ud398; Photo Image Editor - Photoshop; Insta Cartoon Photo; \uc544\uae30\uacf5\ub8e1 Dragon Rush Pro; Quora; Fire Boy and Water Girl 2; \ud14c\uc77c\uc988\ub7f0\ub108 \ud1b5\ud569 \ubaa8\uc74c\uc9d1; [\ubb34\ub8cc\ub9cc\ud654]\ub3c4\uc2dc\uc815\ubc8c \uc2e0\ud615\ube48\ubb34\ud611; 77000 recettes de cuisine; Autogyro 1935 Flying Game ST; TapeMachine Recorder; \uadf8\ub808\uc774\ud2b8\uc758 H\u200b\u200bD \ubc30\uacbd \ud654\uba74; \uce58\ud0a8\ub808\ubcfc\ub8e8\uc158; \ucd08\ucf54 \ud788\uc5b4\ub85c (Chocohero); \u958b\u5fc3\u8fb2\u5834; \uc778\uc2a4\ud134\ud2b8 \ucf5c\ub77c\uc8fc; SatFinder; SE-ED; Woordzoeker nederlands; Hotels.com \uc5d0\uc11c \ud638\ud154 \uac80\uc0c9 \ubc0f \ud638\ud154 \uc608\uc57d; \uc81c\ub178\ub2c8\uc544 LITE; BMX Street Stunt; \u8fc5\u96f7\u770b\u770bfor android\u624b\u673a; Speed Hiker; Panduan Solat Jamak Qasar; \u0e1b\u0e23\u0e30\u0e21\u0e27\u0e25\u0e01\u0e0e\u0e2b\u0e21\u0e32\u0e22\u0e41\u0e1e\u0e48\u0e07\u0e41\u0e25\u0e30\u0e1e\u0e32\u0e13\u0e34\u0e0a\u0e22\u0e4c; \ubb3c\uc758 \ube44\ub9d0 \ub77c\uc774\ube0c \ubc30\uacbd\ud654\uba74; \ube45\ubc45 \uc170\uc774\ud06c; \ub9e4\uc9c1 \ub9ac\ud50c : \ubb3c\uc5d0 \ub3cc; Ebooks.in.th; SCB EASY for Tablet; Car Matcher; \ub514\ud39c\uc2a4\ud0c0SE; \uc1fc\ud551 \ubaa9\ub85d; Unify: \ub2e8\uc704 \ubcc0\ud658\uae30; \u9053\u5177\u5c4b\u3068\u9b54\u738b; GO SMS Pro MORA Theme; \u0410\u0439\u0414\u0430\u041f\u0440\u0438\u043a\u043e\u043b :); \u661f\u57ceOnline-\u842c\u4eba\u7dda\u4e0a\u904a\u85dd\u9928; \uc62c\ub808tv now for Tablet; \uc544\ud2f0\uc2a4\ud2b8\uc758 \ub514\uc790\uc778\uc744 \uc7a1\uc744; Google \uc138\uc0c1\ubcf4\uae30; Things That Go! - Toddler Cars; \ud604\uae08\uc8fc\ub294 \ud589\uc6b4\ubc30\ub2ec; Windows Phone 7 Launcher free; Flick Kick Rugby Kickoff; Free Fighter 1998(Free/No ads); GO Launcher Fonts; Photo Painter Free; First Aid; Talking Putin; \uac10\uc9c0\uae30 \ud504\ub85c \ub204\uc6cc; \uc774\ubbf8\uc9c0\ud569\uc131\ub180\uc774; Google Voice; \u0627\u0644\u0642\u0627\u0645\u0648\u0633 \u0627\u0644\u0639\u0631\u0628\u064a (\u0639\u0631\u0628\u064a-\u0627\u0646\u062c\u0644\u064a\u0632\u064a); Bingo LIVE!; Google \ub4dc\ub77c\uc774\ube0c; LightCycle Battle 3D; \ubaa8\ubc14\uc77c\ud2f0\uba38\ub2c8(KT\uc0ac\uc6a9\uc790\uc6a9); \ub79c\ub364\ucc44\ud305[\ub0af\uc120\uc774\uc640\uc758\ub300\ud654]; \ub2e4\ub098\uc640; \uc139\uc2dc\ud55c \ud37c\uc990; RTL Nieuws; \uce69\uc2a4; \u6fb3\u9580\u624b\u6a5f\u5831\u7d19; Bridge The Train- Flow Free; Slots Tycoon; Meteor (Po\u010das\u00ed) \u00bb Aladin; Porsche Parking; \uacfc\uc77c \uba54\ubaa8\ub9ac \uac8c\uc784; Direct Player; Tom And Jerry Cartoon Video; \uc8fc\ucc28 \uc790\ub3d9\ucc28 HD; \uc5d0\ub85c\ubc30\uc6b0O\uc591 \ubab0\uce74\ub9de\uace0; MixMovies - \ubb34\ub8cc \uc601\ud654; sexy \uc637\ubc97\uae30\uae30 \uc139\uc2a4 \uc81c\ub85c\uac8c\uc784; Talking Mouse ( free ); \uae00\uaf34 FlipFont; Finger Paint; \ub9e4\uc9c1 \ub9ac\ud50c : \uadc0\uc5ec\uc6b4 \ub3cc\uace0\ub798; iColoring Star; \u723d\u5831\u9999\u6e2f; FlightTrack; Fish Frenzy; \u81f3\u5c0a\u9ebb\u5c07\u738b (\u55ae\u6a5f\u7248 Mahjong); Flaming 7s Slot Machine; La Que Se Avecina Quiz - LQSA; Annoying Orange: Carnage Free; Pocket DJ Vintage FREE; Sitecom Media Controller; \u770b\u96dc\u8a8c; \u0e04\u0e33\u0e19\u0e27\u0e19\u0e1c\u0e48\u0e2d\u0e19\u0e23\u0e16 (\u0e42\u0e1b\u0e23\u0e42\u0e21\u0e0a\u0e31\u0e48\u0e19\u0e23\u0e16); S-GUARD (\uc2a4\ubbf8\uc2f1 \uac00\ub4dc) - \uc2a4\ub9c8\ud2b8\ud3f0 \ud574\ud0b9 \ubc29\uc9c0; My Country: Sports Edition; \uc0ac\uc6b4\ub4dc \ubbf8\ud130 / \uc18c\uc74c \ud0d0\uc9c0\uae30 dB; Mechanical Zuma; \ubc30\ud130\ub9ac\ub97c \ub450 \ubc88; My Qibla; \u0647\u0648\u0627\u062a\u0641; SWAT Striker; Android \uc6a9 MP4 \ud50c\ub808\uc774\uc5b4; Scrabble LeopardSoft; ucloud mobile (\uc720\ud074\ub77c\uc6b0\ub4dc); \u5927\u5bcc\u7fc14fun!; Maximum Muscle Workout; [19\uae08]\ud788\ud504\ub9e4\ub2c8\uc544 \ud130\uce58 \ud56b\uac78; \ubc15\uba78\uae30 \ud0dc\uc2a4\ud06c \ud0ac\ub7ec; Princess Memory Game; \uae00\ub85c \ud398\uc778\ud2b8 Glow Paint; Street Sniper; \ube14\ub799\ub77c\ubca8 \ub3c4\ub3cc\ub7f0\ucc98\ud14c\ub9c8; Poji\u0161\u0165ovna; Tamago 2013; Horse Stable Tycoon  Demo; \uc139\uc2dc\ud55c \ubbf8\ub4dc \ub098\uc774\ud2b8 \ud480 : BEST GAME; Mon Budget; Google Wallet; [\uc778\uae30] 1\uc2dc\uac04\uc5d0 1\ubc88\uc529 \uacf5\uc9dc\uc120\ubb3c, \uc5d0\uadf8\ub610 (\ub3c8\ubc84\ub294\uc571); Wifi Password Hacker; \uc8fc\uc2dd\uc5d0 \ub300\ud55c \uc0ac\ub791; Booster FREE - Task Killer; GO Locker Santa Claus Theme; \ud798\uc5d0 \uaca8\uc6b4; \ubb34\ub8cc \uc778\uae30 \ubca8\uc18c\ub9ac; Finger Ninjas: Zombie Stri ...; \ubbf8\uc18c\ub140 \ubc97\uae30\uae30 [19+]; Music Download Monster; VLC HD Remote (+ Stream); L'\u00c9quipe.fr Tab; Virtual City; AES Detector; APPvisor; ICEE Maker; The Smurfs Puzzle (3 modes); MinecraftWiki.net; batman; \u041a\u0430\u043c\u0430\u0441\u0443\u0442\u0440\u0430; 100 Cells; \u53f0\u7063\u5927\u54e5\u5927 match\u65b0\u805e; MobileBoy (Lite); Samsung Media Hub; \u0414\u0435\u0442\u0441\u043a\u0438\u0435 \u043f\u0435\u0441\u043d\u0438; My Verizon Mobile Galaxy Nexus; Tabloid PULSA; Google Street View Instant; Gemist!; \uc5ec\uc790\ub294\ubaa8\ub974\ub294\ubd88\ud3b8\ud55c\uc9c4\uc2e4; \uac00\ub78c\uae38 \ub530\ub77c \ub3c4\ubcf4\uc5ec\ud589; Parallel Kingdom MMO; \uc6b4\uba85\uc758 \ud074\ub79c\ubc30\ud2c0; Web of Cam Internet Edition; One Epic Game; minecraft \ubc30\uacbd \ud654\uba74; Open Video Player; Domino's Pizza USA; Baby Moving bubbles; \ub9d0 \ubca0\ud305; App Logo Quiz Game; Tiny Santa - Xmas Hills; Kawaii \ubc30\ud130\ub9ac; \u0418\u043d\u0442\u0443\u0438\u0446\u0438\u044f \u043d\u0430 \u0422\u041d\u0422 Free; Vegas Life; \u010cSFD.cz; Yahoo! \u5373\u6642\u982d\u689d; Music Download Ocean; FIFA 12 Free Game; beIN SPORT; Emoticons Tool; I'm Striker; Arena Legends (Tegra 2); Serve that Caviar!; TV Futbol; 3D Compass (AR Compass); iPlasticSurgeon Free; PhotoMagazine; \uc11c\uc6b8\uc2dc \uc138\uae08\ub0a9\ubd80; [\uc804\ud3b8\ubb34\ub8cc]\uc120\ubb3c\ud321\ud321 \ub0b4\uce5c\uad6c\ud638\ube44 by ToMoKiDS; \uc81c\ub178\ub2c8\uc5445 \uacf5\uc2dd\ucee4\ubba4\ub2c8\ud2f0 \ud5dd\uadf8\ub9ac\uc571; Swype Trial; \uc9c0\ubb38 \uc778\uc2dd \uc7a0\uae08; [\ud5ec\ub85c\ucf54\ucf54\ubabd] \uc601\uc5b4\uc728\ub3d9\ub3d9\uc694 2\ud0c4; Tiny Station; Fishing HD Lite; Keep Upwards; Fusion Music Player; Multiplayer Games: Action; \uc0ac\uae30(\uad11\uace0)\uc804\ud654\ucc28\ub2e8; Camera Fun Pro; Dress Up! Summer Fashion; \uadf8\ub9bc 'O'\uc2a4\ucf00\uce58; \ud0a4\ub9c8\uc758\uc804\uc124; \u3082\u3075\u732b\u3002-Mofu Cats-; NH\uae30\uc5c5\uc2a4\ub9c8\ud2b8\ubc45\ud0b9; Bubble Witch Saga Fan Guide; L'impiccato; \uc624\ub378\ub85c Pro; Telefe; BusTracker Taipei; \ubc84\uc2a4 \uc810\ud37c (\uad11\uace0 \ubb34\ub8cc); \uc911\uac04 \ubaa8\ubc1c\uc744\uc704\ud55c \uc2a4\ud0c0\uc77c; Dark Area 3; \ubaac\uc2a4\ud130 \ud558\uc774 \uc778\ud615\uc744 \uadf8\ub9bd\ub2c8\ub2e4; Anti Furto Droid FREE - SMS; BattleField 3 (Unofficial app); CrazyMachines GoldenGears Lite; \uc54c\ub78c \uc2dc\uacc4 \ubc00\ub808\ub2c8\uc5c4 \ubb34\ub8cc (Alarm Clock); MIUI v4 \uce74\uce74\uc624\ud1a1 \ud14c\ub9c8; \ud53c\uc790\uc5d0\ub545; \ub77c\uc774\ube0c\uc2a4\ud0c0; \uc560\ub4dc\ubc14\uc774\ubbf8 \ud50c\ub808\uc774 - \uc601\uc0c1\uc744 \uacf5\uc720\ud558\uace0 \uc218\uc775\uc744 \uc62c\ub9ac\uc138\uc694.; \uc774\ubbf8\uc9c0 \uac80\uc0c9; \ub3c5\uc77c\uc5b4 \ud68c\ud654 \ub9c8\uc2a4\ud130; Leave Devil Alone; Advanced Scientific Calculator; \uc6d0\uad11\ub300\ud559\uad50; IMI \ub370\uc800\ud2b8 \uc774\uae00; Super Jump; Bubble Star; \ubc18\uc57c\uc2ec\uacbd, Heart Sutra; Color Sticker; Classic Jewels; Hungry Santa; \ucc28\uc774\ub97c \ucc3e\uae30; L'Equipe.fr; \uc11c\uce58\uc720-\uc2e4\uc2dc\uac04\uc704\uce58\uac80\uc0c9; Natural Frame Photo; FunCam Retro Edition; TV Streaming; RealCalc Plus; BlueLight Clock Widget; Gun Disassembly 2; Messi; ezTAG ( ETC \u570b\u9053\u6536\u8cbb\u9918\u984d\u67e5\u8a62 ); Buddy Rush; \uc288\ud37c \ub514\ubc14 \uc190\ud1b1; Candy Pop - Addictive Match 3; \uc591\uad81 \uc120\uc218\uad8c \ub300\ud68c; ZSKY GO Locker weather Theme; Lycan Dash; \ub9c8\uc6b4\ud2b8 \uc131\uc7a5; Video Player (AVI FLV WMV ...); \uae08\uc774 \ud654\uba74; Scotiabank Mobile Banking; Bottle Crash; \ube60\ub978 \ubaa8\ud1a0 \ub808\uc774\uc2f1; \uc18c\ub9842; \uc0dd \uae30\ucd08 \uc601\ub2e8\uc5b4 [\ubaa8\ubc14\uc77c\uc6cc\ud06c\ub7a9]; Fortress Under Siege; Camera 3D (Beta); Animals; \uba54\uc774\ud06c\uc5c5\uc758 \uc190\ud1b1; \ubcf4\uc11d \ud018\uc2a4\ud2b8; \u062d\u062f\u064a\u0642\u0629 \u0627\u0644\u062d\u0631\u0648\u0641; Shoot Bubble; Decolar.com Hot\u00e9is e Voos; \u2665\ub0a8\ub294 \ubb38\uc790&\uc804\ud654\ub85c \ub3c8\ubc84\ub294\uc571!\u2013\uc544\uc774\ub7ec\ube0c\ucf54\uc778(\uc774\ubca4\ud2b8\uc911); \ud06c\ub808\uc774\uc9c0 \uc62c\ub4dc\ub9e8; 3D \ud53c\uc26c \ub77c\uc774\ube0c \ubcbd\uc9c0; CARdex3 - \uc790\ub3d9\ucc28 \uc571\uc758 \uc9c0\uc874; Vitamio Plugin ARMv7; Xem Phim; \ud1a0\ub9c8\ud1a0 \ud1a0\uc775 \ubcf4\uce74\uce69; Slots of Fortune- Slot Machine; \uc218\ud559\uc758 \ubc84\ube14; No-frills CPU Control; DM \uc74c\uc545 \ub2e4\uc6b4\ub85c\ub4dc; Gangstar Rio Free!; Absolute Bingo; Helicopter & Plane Builder 3D; \uc544\ucfe0\uc544\uc2a4\ud1a0\ub9ac; \ub9c8\uc774\ucd08\uc774\uc2a4[MyChoice]\u2605\ud310\ud0c0\uc9c0\u2605; \uc6b0\uc8fc \uc2dd\ubbfc\uc9c0; \ud130\uce58\ubbf9\uc2a42; \ub81b\uce20\ube44\ub3c5(Let's be dog) \uac15\uc544\uc9c0 \ud0a4\uc6b0\uae30, \uc560\uacac; Adventure of Ted 2 - Free; NEED FOR SPEED\u2122 Shift; F-Sim Space Shuttle; Real Racing 2; Farm Frenzy 3 (\uc88c\ucda9\uc6b0\ub3cc \ubaa9\uc7a5\uc774\uc57c\uae303); Townsmen Premium; MASS EFFECT\u2122 INFILTRATOR; Captain America; Reckless Racing; Reckless Racing HD; \uce74\ud230 \ub514\ud39c\uc2a4 2; Puffle Launch; Train Crisis HD; The Sims\u2122 3; Monster Shooter: Lost Levels; Myth Defense LF; VGBA - GameBoy (GBA) Emulator; Earth And Legend; \ud0c8\ucd9c \uac8c\uc784 \u201c\ub208\ubb3c\uc758 \uc885\uc9c0\ubd80\u201d; Pocket God\u2122; Majesty: Northern Expansion; Hot Springs Story; \uc81c\ub178\ub2c8\uc544 PLUS; Trainz Driver; Touch Racing Nitro; BLAZING STAR; \uae30\ucc28 \uac8c\uc784\uc744 \uc77c\uce58; Real Color Lighter; Street Basketball Hoopz; Spike Masters Volleyball; \uc0bc\uad6d\uc9c0\uc601\uc6c5\ub300\uc804; Heroes Call; Puppet War:FPS ep.1; Run Like Hell! YETI EDITION; \uc804\uc7c1\uc758 \uc2dc\ub300; Sushi Slash; \ud0f1\ud06c \uc628\ub77c\uc778 (ARM6); \ub2e4\ud568\uaed8 Sexy\ud3ab \uae38\ub4e4\uc774\uae30 [19\uae08 \uc131\uc778]; ZooMoney(\uc8fc\uba38\ub2c8); ak47 \ucd1d\uc18c\ub9ac \uc0ac\uc6b4\ub4dc; \ud658\ud0c0\uc9c0 \ub4dc\ub798\uace4 \uac8c\uc784 \uac24\ub7ec\ub9ac; [\ubb50\uba39\uc9c0?] \uacf5\uc2dd\ucd94\ucc9c \uc804\uad6d\ub9db\uc9d1!!; Light Racer 3D; Fly Air India; \uc815\uae00\uc758 \uc0ac\uba85; Rhythm Racer 2; U+Box \uac00\uc871\uc568\ubc94 - for Phone; \ub300\ud55c\ubbfc\uad6d\ub9db\uc9d1; Alpine Boarder Lite; GF\uc544\uc2a4\ud53c\ub9b0 FlipFont; KBS World; Cuki HD Live Wallpaper; Kart Racing 3D; \uc8fd\uc74c\uc758 \uc18d\ub3c4 \uacbd\uc8fc; Metal Defense; \uc554\uae30\uc655 \uc601\ub2e8\uc5b4; NFS 3D\ub294 \uc18c\ub9ac; Coin Machine; \ub85c\uc584\ud3ec\ucee4:\ub9e4\ub2c8\uc800A; \ubbf8\uc18c\ub140\ub9de\uace03 [\uae08\ubc1c\uc758\ubbf8\uc18c\ub140\ud3b8]; Legend of the Cryptids; \uc544\uc624\uc774\uc18c\ub77c\uc640 \uc740\ubc00\ud55c \ub9de\uace0; Spades!; \u5927\u8001\u4e8c \u795e\u4f86\u4e5f\u5927\u80012; [\uc624\ube60 \ubbff\uc9c0?] \uc5ec\uce5c\uacfc 1\ubc152\uc77c; LandGrabbers: Strategy Game; \uc2a4\ud0c0\ud3ab\ub18d\uc7a5 - \uc11c\ub9ac\uc758 \uc720\ud639 (\uc2a4\ud0c0\ud3ab Season 2); Magic Academy 2: mystery tower; Fluff Friends Rescue TM; Caveman's Prophecy; NBA Jeremy; \uc2a4\ud29c\uc5b4\ub514\uc2a4\ud0c0\uc774\ucfe42; \uc7ac\ud32c \ub77c\uc774\ud504; old offender|Escape from jail; \ubc84\uadf8 \ube4c\ub9ac\uc9c0; \ucee4\ud50c \uc139\uc2a4 \uac8c\uc784; \ud3ab \uce74\ud398; \ub4dc\ub7fc; Hot Springs Story Lite; \uac70\uce68\uc5c6\ub294 \ud3ad\uadc4; Santa's Village; Furdiburb; Tiny Tribe; Glutton - Ice Cream; \ubbf8\uc2a4\ud130\ub9ac \uc544\uc77c\ub79c\ub4dc \ud558\ub984\uc2e0\uc758 \uc800\uc8fc (Mystery); Jewels; \ud1a0\uc775\uace0\uc218 LC; CRC Pro-Cycling; \uc880\ube44 \ube14\ub7ed; Game Dev Story Lite; \ub9ac\uc5bc \ub4dc\ub7fc; \ub4dc\ub798\uace4 \ubcfc \ub808\uc774\ub354 \ubb34\ub8cc; \ud06c\ub9ac\uc2a4\ud2f0\uc544\ub204 \ud638\ub0a0\ub450 \ubc30\uacbd \ud654\uba74; \u2605\ubb34\ud55c\uc758 \ud0d0\uc815\u2605 \ucd94\ub9ac\uac8c\uc784\ub300\uc791; Seven Stars 3D; \ubc30\ub2ec\ub9db\uc9d1\uc5ec\ud589\uc219\ubc15 - \ud604\uae08\uc0ac\ub0e5\ud130 - \uc544\uc774\ub85c\uceec; [\uc5ec\ud589\uc5711\uc704] TS \ud68c\ud654 \ubc88\uc5ed\uae30 [\uc720\ub7fd]; AGENT:SHOOTER (AD-Free); Pocket RPG; Fruit Ninja THD; Gem Miner 2; Snail Mail for Android; Delicious-Emilys Taste of Fame; \uc7a1\ucd08 \ud30c\uba38; \uce74\uc624\uc2a4\ubca0\uc778SE for Kakao; Doodle God\u2122 F2P; Iron Jack; \uc575\uadf8\ub9ac\ub2cc\uc790 \ub2e4\uc774\uc5b4\ud2b8; Fish Adventure ( Fish Frenzy ); Subs vs Ships 3D; \u2605\ubb34\ud55c\uc758 \ud0d0\uc815\u2605 \ucd94\ub9ac\uac8c\uc784\ub300\uc791(\uccb4\ud5d8\ud310); Assault Force: Zombie Mission; Drag Racing Lite Tunes; [\ucd5c\uc800\uac00\ud560\uc778]\uc5b4\ub9b0\uc774 \ub3d9\uc694 \ubca0\uc2a4\ud2b8 50; \ud0c0\uc774\ub2c8\ud31c \ub77c\uc774\ube0c \uc6d4\ud398\uc774\ud37c; \u4e09\u570b\u82f1\u96c4\u50b3; Gangster Life; Truck Fuel Eco Driving; KG Dogfighting; \ub9d0\ud558\ub294 \uac15\uc544\uc9c0 \ub4c0\ud06c; School Bus License; Infectonator; \u2605NEW\u2605 2013 \ud504\ub85c\uc57c\uad6c \ub4dc\ub9bc\ub098\uc778 for Kakao; \ud074\ub9ac\ud504 \ub2e4\uc774\ube59 3D \ubb34\ub8cc; LG Uplus \uc2a4\ub9c8\ud2b8070, joyn \uc5f0\ub3d9 \uc9c0\ub3c4; \ubaac\uc2a4\ud130\uc5e0\ud30c\uc774\uc5b4; \ubb34\uc0ad\uc81c \uc601\uc0c1 \uc5ec\ud0d5\ub9de\uace0; TrOASIS ( \uace0\uc18d\ub3c4\ub85c \uc6b4\ud589\uc815\ubcf4 ); Eden - World Builder Guide; \ud544\uc218 \uc601\uc5b4\ub2e8\uc5b4\ud034\uc988 2700 (\uc601\ub2e8\ud034); \uc774\ud654\uc5ec\uc790\ub300\ud559\uad50; \uc624\ub9c8\uc774\ud150\ud2b8(580\uac1c \ucea0\ud551\uc7a5 \uc815\ubcf4); \ub3c8\ubc84\ub294 \uc5b4\ud50c \ucd94\ucc9c - \ub3c8\ubc84\ub294 \ub3d9\uc601\uc0c1 \uc571; \ub2e4\uad6d\uc5b4\ud68c\ud654 - 11\uac1c\uad6d; \uc704\uc82f-\uc131\uacf5 \uba85\uc5b8 Free; LED \ud558\ud2b8-\ubc30\ud130\ub9ac\uc704\uc82f; \uc2a4\ud3ec\uce20\uc870\uc120 \ud504\ub85c\ub18d\uad6c LIVE; \ud55c\uc6b0 \ub9db\uc9d1 \ucc3e\uae30; \ub9e4\ub2ec 10\ub9cc\uc6d0 \uc808\uc57d\ud558\uae30 - \uad6d\ubbfc\ucfe0\ud3f0; \ud3c9\uc0dd \ubb34\ub8cc \uc601\uc5b4 \ub3d9\uc601\uc0c1 \uac15\uc758 \ud2b8\uc704\uc2a4\ud130TV; Callend Vibrate; Truck racer simulator free; \uc880\ube44\ub864\ub9ac (ZombiesLoli); [\uc131\uc778\ubb34\ub8cc]\uccad\uc18c\uc758\uc2e0 - \uc561\uc815\ub2e6\uc774\ud3b8; PES 2013 Pro EvolutionSoccer; Car Racing Mania Free; Lost Souls: \uc783\uc5b4\ubc84\ub9b0 \uc601\ud63c; AS Roma Fantasy Manager'13; Retro Racing; Mini.Trai Theme GO Launcher Ex; My theme GO Reward Theme; \ud0c8\ucd9c \uac8c\uc784 \u201c\uc544\ubc84\uc9c0\uc758 \ubc00\uc11c\u201d; \uc624\ub514\uc5b8\ub3c4\uc11c\uad00; \uc721\uad70 \uc2a4\ub098\uc774\ud37c : \uc778\ub3c4 \uc2a4\ud2b8\ub77c\uc774\ud06c; Bride and Groom Maker; \ud06c\ub808\uc774\uc9c0 \ubaa8\ud1a0 \ub808\uc774\uc2f1; Flower lovers; \uc544\uc778\uc288\ud0c0\uc778\uc758 \ub3c4\uc804; Starving Zombies; App des Tages - 100% Gratis; \u062e\u0644\u0641\u064a\u0627\u062a \u062b\u0631\u064a \u062f\u064a; Sushi Maker; \ub808\uc774\uc2f1 \uac8c\uc784\uc744 \ub4dc\ub798\uadf8; Jetpack Piggies; Dating for everyone! Mamb\u0430!; \u0639\u0628\u062f \u0627\u0644\u0628\u0627\u0633\u0637 \u0639\u0628\u062f \u0627\u0644\u0635\u0645\u062f - \u062a\u062c\u0648\u064a\u062f; \ub098\uc640 \uc5b4\uc6b8\ub9ac\ub294 \uc2a4\ub9c8\ud2b8\ud3f0; \uc2a4\ud398\uc774\uc2a4 \uc544\ud1b0 \ud14c\ub9c8; \uc2a4\ud134\ud2b8 \uc790\ub3d9\ucc28 \ub808\uc774\uc2a4; \uc628\uc138\uc0c1 \uc131\uacbd & \ucc2c\uc1a1(\uccb4\ud5d8\ud310) (\uac1c\uc5ed\uac1c\uc815, NIV); \ud0c8\ucd9c \uac8c\uc784: Departure; \ub4c0\ud2f0 MW2 \ucd1d\uc774 \uc804\ud654; \uc5b4\ub9b0\uc774 \uc601\uc5b4TV Free; iQuarium; \ud0c8\ucd9c \uac8c\uc784 \u201c\uc815\ubc18\ub300\uc778 \uc790\ub9e4\u201d; \u52a8\u611f\u8d85\u4eba; Pizza Maker; Jewellery Sky; Binoculars; Burn the Rope:Worlds & Friends; Green Thumb Free Slot Machine; Notes; Cuisine auFeminin; GLOWING SKY (demo); \ud1a0\ub07c \ubb34\ub8cc \uac8c\uc784 \ud50c\ub77c\uc774 games to have fun; Who's Calling?; \u96fb\u5f71\u6436\u5148\u770b; Apps 2 SD (Move app 2 sd); Kids Trucks: Preschool Free; \u0625\u0633\u062a\u0639\u0631\u0627\u0636 \u0627\u0644\u0637\u0641\u0644 \u0627\u0644\u0635\u063a\u064a\u0631; \u624b\u6a5f\u6e1b\u80a5\u5668; GPS Navigator: GPS Navigation; \u7535\u5f71\u7535\u89c6\u5267\u9ad8\u6e05\u89c6\u9891\u64ad\u653e(\u52a8\u6f2b\u7efc\u827a,\u97f3\u4e50); Seaside GO LauncherEX Theme; Nature; \uc624\ud1a0\ubc14\uc774 \ud37c\uc990; POCO\u76f8\u673a (POCO Camera); Navy Seals; Solar Charger; TAMAGO HD; \ubca0\uc774\ucee4\ub9ac\uc694\ubbf8 \uce74\uce74\uc624\ud648 \ud14c\ub9c8; Water Drop LiveWallpaper; RealPresence Mobile - Tablet; \uad11\uac1c\ud1a0\ud0dc\uc655; \ube44\ub514\uc624 \ucc44\ud305; \u0637\u0631\u0642 \u062d\u0641\u0638 \u0627\u0644\u0642\u0631\u0622\u0646 \u0627\u0644\u0643\u0631\u064a\u0645; MIX Images...\"Photo and me\"; SMS \ubca8\uc18c\ub9ac \ud504\ub85c; \ud55c\uad6d\uacbd\uc81cTV; Hobbit life; Cupcake Maker; Foosball 3D; \u0633\u0648\u0631\u0629 \u062a\u0628\u0627\u0631\u0643 \u0642\u0631\u0627\u0621\u0629 \u0648\u0625\u0633\u062a\u0645\u0627\u0639; Music Player for Android; B1A4 \ud50c\ub808\uc774\uc5b4[\ucd5c\uc2e0\uc568\ubc94\uc74c\uc545\ubb34\ub8cc/\uc2a4\ud0c0\uc0ac\uc9c4/\uc601\ud654OST]; Color Touch; Virtual Piano; Bride and Groom Maker; \uc601\uc6c5 \ud0c8\ucd9c; \uafc8\uc758 \uac70\ub9ac; \uacbd\uae30 \ud559\uad50\ud589\ubcf5\uc9c0\uc218; \ubb3c\ub54c\uc640\ub0a0\uc528- \ub09a\uc2dc\uc778\uc744 \uc704\ud55c \uc870\uc11d, \ub0a0\uc528 \uc608\ubcf4; \ubd88\ub968 \uc774\ud004\ub77c\uc774\uc800; Animal Park Tycoon; \u0110ua xe Need for Speed HD; \ub864\ub7ec\ucf54\uc2a4\ud130\ub77c\uc774\ub4dc; \ubc30\ud2c0\uce90\ub17cSE(Battle Cannon Online); \uc545\ub9c8\uc758\uacc4\ud68d; \ubaac\uc2a4\ud130\uc6d4\ub4dc; GnarBike \ud3c9\uac00\ud310 \ud504\ub85c; MineGuides; Girl Fart; \ud5c8\uc218\uc544\ube44\uc758 \ub1cc; \uc288\ud37c \ud2b8\ub7ed \ud504\ub85c; \ud48d\uc120\ud0c0\uc6cc\ub514\ud39c\uc2a4 4E; \ud48d\uc120\ud0c0\uc6cc\ub514\ud39c\uc2a4 4; VPET; \ub9d0\ub791\ub9d0\ub791\uc0ac\ucc9c\uc1312; \uc81c\ud2b8 \ud50c\ub77c\uc774 (II); Injustice Gods Among Us Guide; \ud06c\ub9bc\uc2a8\ubca0\uc778; Galaxy Note 2 Live Clock; \u0423\u0445\u043e\u0434 \u0437\u0430 \u043b\u0438\u0446\u043e\u043c; Winulator-beta; Mojo \u5168\u53f0\u7063\u63a8\u85a6\u65c5\u904a\u666f\u9ede; \uc194\uc800 \uc624\ube0c \uae00\ub85c\ub9ac: \uc6d4\ub4dc \uc6cc 2 \uc880\ube44; \u61f7\u5ff5\u91d1\u66f2; \u4e0d\u597d\u7b11\u514d\u9322; Bungie Mobile; MAME4droid (0.37b5); \u017bulionerzy; \ud310\ud0c0\uc9c0\uc6cc; \uacf5\uc8fc \uba54\uc774\ud06c\uc5c5 \ub77c\uc774\ud2b8; Guns'n'Glory GOLD; CJ \ubdf0\ud2f0 \uc18c\ub140 \ud37c\uc990; Medieval Battlefields FREE; Zion Tower Defense Free; \ub7ec\ube0c \uba54\ubaa8\ub9ac\uc988 LITE; Voxel Invaders (Free); 2012 \ub300\ud1b5\ub839 \ub2ec\ub9ac\uae30; \ube14\ub808\uc774\ub4dcz(Blade z); \ub124\uc774\ud0a4\ub4dc\ud0b92; Alg\u00e9rie M\u00e9t\u00e9o; Beastie Bay; Dragon Board; ATC4Real San Diego; \ubb34\ub8cc \ud0c8\ucd9c \uac8c\uc784 - \uac1c\uad6c\ub9ac \uc655\uc790; Tank War: Extreme; \uc544\uccd0\ucea3; Renault Trucks Racing; \ub291\ub300 \ub358\uc9c0\uae30; Nations At War; \u795e\u9f8d\u90e8\u843d - Dragon Village; Animal Collections; \ub808\uc2a4\ud1a0\ub791\uc2a4\ud0c0; EDGE Demo; zettai ryouiki new FREE; \uc18c\ud658\uc804\uc7c1; LOL \uac00\uc774\ub4dc (\uc804\uc124\uc758 \ub9ac\uadf8); ParkingBreak_Lite; Lara Croft: Guardian of Light; \ucee4\ub125\ud2b8\ub380 (Connect'Em); Jellyflop!; All\u82f1\u8bed\u8bcd\u5178, English \u21d4 Chinese; TheEndApp; Thunder Gun Pit Crew Titans; Pirate Explorer: The Bay Town; Lego Christmas examples; \uc606\uc9d1 \uc18c\ub140; CHAOS RINGS; 100 Escapers; \ucfe0\ud0a4\ub7f0 \uc5c5\uadf8\ub808\uc774\ub4dc+\ub808\ubca8\uc5c5; \ube5b\uc758 \uc131 \u2014 City of Splendors; \uc2a4\ub204\ud53c \uc2a4\ud2b8\ub9ac\ud2b8; FinalMagicES \u7121\u6599[\u7269\u8a9e\u91cd\u8996\u30aa\u30f3\u30e9\u30a4\u30f3\u30d0\u30c8\u30eb]; Darkbase \uc880\ube44\ub294 \uc8fd\uc5ec!; \u5929\u5929\u7f8e\u56fe--\u6700\u4f73\u5716\u7247\u7f8e\u5316\u8655\u7406\u5de5\u5177; ENCHANT U; \uc624\ud508\ub77c\uc774\ub354; LIL' KINGDOM; Bouncy Bill Halloween; Wordfeud; Furious Wheel; \uc804\uc7c1 \uc804\ub7b5; Truck Delivery Free; Skyriders; Liverpool FC Fantasy Manager; \u0627\u0641\u062d\u0635 \u0642\u0648\u0629 \u0628\u0635\u0631\u0643 \u0627\u0644\u0645\u0637\u0648\u0631; MMORPG Project; \ub358\uc804 \ubaa8\ud5d8 - \ubb34\ub8cc; Circuit Flow Free; \u30d5\u30a1\u30eb\u30ad\u30e5\u30fc\u30ec\u306e\u7d0b\u7ae0 [40\u4e07\u4eba\u304c\u5927\u71b1\u72c2\uff01\u7121\u6599\u30ab\u30fc\u30c9\u30b2\u30fc\u30e0]; \ubd04\ube0c\uc258; Prayer Time; Zombie Swipeout Free; \u3010\uc778\uae30\u3011\u3010\uc561\uc158RPG\u3011\ub4dc\ub798\uace4 \ud5cc\ud130LITE; Ultimate SMS Template Library; \uc0bc\uad6d TD : \ubc29\uc5b4\uc790; \uc2a4\uc2dc \ud0c0\uc774\ucfe4; Zombie Ace; \ud30c\uc774\ube0c\uc18c\uc988; \uc5b4\uba54\uc774\uc9d5 \ube0c\ub808\uc774\ucee4_FREE; Bubble Witch Saga Fan Guide; Jewel Stacker; Arsenal Fantasy Manager'13; Zombie Warrior Man 18+; Galinha Pintadinha 2; \ub2cc\uc790 \uac8c\uc784; C-games \ud074\ub77c\uc6b0\ub4dc \uac8c\uc784 \uc2a4\ud1a0\uc5b4; 100 \ubb38 : \uc2dc\uac04 \u200b\u200b\uae30\uacc4; \uae30\uc5b4\uc2a4 & \uc6a9\uac10\ud55c \uc790; AC Milan Fantasy Manager'13; \u667a\u80fd\u98a8\u6c34\u7f85\u76e4 (\u57fa\u672c\u7248); \ubb34\ub8cc \ub85c\ub610,\ub3c8\ubc84\ub294\uc5b4\ud50c,\uc778\uc0dd\ud55c\ubc29\uc5ed\uc804,\ub85c\ub610\ub85c,TOLOTTO; Blow Up Balloon; \u6a02\u900f\u5c0d\u514c\u734e; sexy \uc637\ubc97\uae30\uae30 \uac00\uc704\ubc14\uc704\ubcf4; Hard Wound; The Saga of Conquest(Best MMO); Zombocalypse; Kingfisher Formula Race; Block Builder; \ucd08\ucf5c\ub9bf \ucfe0\ud0a4 \uc694\ub9ac \uac8c\uc784; CANALTOUCH; Xeno Wars; \uc560\ub2c8\ud321 \uce5c\uad6c\ucd94\uac00,\ud558\ud2b8\uc120\ubb3c \ucee4\ubba4\ub2c8\ud2f0; Wireless Charger; \ub864\ub7ec \ucf54\uc2a4\ud130 \ud06c\ub9ac\uc5d0\uc774\ud130; Fling a Thing; \uc57c\ud55c\ub3d9\uc601\uc0c1 \ub204\ub4dc\ub9de\uace0; Clear Vision (17+); Objetos Escondidos - Free Game; Hamlet (\ud584\ub9bf); \uac10\uc625 \ube0c\ub808\uc774\ud06c; \u9f8d\u65cf; Deluxe Apartment Escape; \uac1c\uad6c\ub9ac \ubb34\ub8cc \ub3c4\uc57d; \ub4dc\ub798\uace4\ud50c\ub77c\uc774\ud2b8 \uacf5\ub7b5\ucee4\ubba4\ub2c8\ud2f0 \ud578\ub514\uac8c\uc784; Kula Jump; \u901a\u8a71\u7d00\u9304++; Treasures of Montezuma Blitz; FC\ub9e4\ub2c8\uc800 \ubaa8\ubc14\uc77c; \u9748\u5360\u5929\u4e0b-\u516b\u5b57 \u5360\u535c \u7b97\u547d \u661f\u5ea7 \u904b\u52e2; \uc880\ube44 \uce74\ud398; Tickling cat; Brainsss; Hangman; \uc815\ud1b5\uc12f\ub2e4 2013; Real Racing 2 Free; GTA 5 is Coming!!!; \uadc0\uc5ec\uc6b4\ub77c\uc774\ube0c \ubc30\uacbd\ud654\uba74; Around the World in 80 Days; [\ub3c8\ubc84\ub294\uc5b4\ud50c]\uc571\ud14c\ud06c \ud544\uc218\uc5b4\ud50c - \uc571\ud5cc\ud130 2; \uc139\uc2dc\u2665\uac78\uc744 \ucc3e\uc544\ub77c; \uc288\ud37c \ubc84\uac70 \uc7bc; PUZZLE PRISM LITE; Ajax Fantasy Manager'13; \ub2e4\ube48\uce58\ud30c\uc774\uc5b4 for kakao; Avoooid!Hero; Level Up! RPG; Global War Tanks; Sexy Slot SUPER REAL 8LINES P2; CoD: Black Ops 2 Customizer; Prison Tycoon; \ubc84\uac70 \ud328\ub2c9 \uc694\ub9ac \uac8c\uc784; Dragon Hunter II; \u0420\u0435\u0446\u0435\u043f\u0442\u044b \u2013\u0432\u043a\u0443\u0441\u043d\u043e \u0438 \u043f\u043e\u043b\u0435\u0437\u043d\u043e; R-Tech Commander Colony; What's Up; \ud558\ub140\ub9de\uace03\u2605\uc9c0\uae08\uc740 \ub300\ud558\ub140\uc2dc\ub300\u2605; \uc5f0\uc608\uc778 \uc774\ub984 \ub3c4\uc804 Quiz; Cut'n'Roll; Sky Fighters Academy Free; \u30ef\u30fc\u30eb\u30c9\u30e1\u30fc\u30ab\u30fc [\u5f3e\u5e55\u30b7\u30e5\u30fc\u30c6\u30a3\u30f3\u30b0\u00d7\u30d5\u30a1\u30f3\u30bf\u30b8\u30fcRPG]; \u0422\u0430\u043d\u0447\u0438\u043a\u0438 2013; Office Lady \uc2a4\ud2b8\ub9bd\ub9de\uace0; \uc810 - \uc790\ub3d9\ucc28; \uc2e4\ud06c\ub85c\ub4dc for Kakao; \ub85c\uc2a4\ud2b8 \uc544\uc77c\ub79c\ub4dc; ANGRY BOTS 9MB; \ud0f1\ud06c \uc804\uc7c1 \uc601\uc6c5 \uc0ac\ub0e5\uafbc; Kids Animal Preschool Puzzle L; \u2605\ub514\ud39c\uc9c0 2\u2605; \ucd9c\uc870 \ub09a\uc2dc\uad11; Zombie Age; Gurk II, the 8-bit RPG; \ucd5c\uace0 \uc18d\ub3c4 \ub9d0 : \ubb34\ub8cc; NEW\u2665\ud640\ub531\ub9de\uace0\u266519\uae08; Nyan Cat: Lost Space Race; HotWheel Highway Drive; \u96fb\u8996\u79c0 YouTube Taiwan; \ub0b4\ubd80 \uc815\uc6d0 (Inner Garden); Old School Dialer; \ud074\ub798\uc2dd \ubc84\ube14 \ucd2c\uc601; \uc139\uc2dc\ud55c \ubbf8\ub4dc \ub098\uc774\ud2b8 \ud480\uc774; \uc324\uc324\ub9c8\ud2b8; Little Crane; Meteor - Meteoradar; Ant Raid; \uc6b0\ub9ac\uc740\ud589 \uc6d0\ud130\uce58 \uc6d4\ub4dc; \u7f8e\u56e2\u56e2\u8d2d\uff08\u56e2\u8d2d\u5fc5\u5907); Angela Dress Up; \ud48d\uc120 \ud0c0\uc6cc \ubc29\uc5b4 \uc804\ud22c; Sniper Battle; \u82f1\u6f22\u5b57\u5178 EC Dictionary; \uadc0\uc5ec\uc6b4 \uc5d4\uc824 - \ucc28\uc774 \ucc3e\uae30; Make Your Cake; World War II raid; Dai Cazzo; Daily Perks; \ubcf4\uc11d \uac8c\uc784; Beautylish: Makeup Beauty Tips; \uc815\ubcf4\uc9c0\ud0b4\uc774 (SOM); Camera widget GO Weather EX; \ubc30\ud2b8\ub9e8 \uc774\uc57c\uae30; Kids Connect the Dots Xmas; Messi vs Ronaldo Quiz; Fruit Slice; \uadf9\uc9c0\uace0:\ud559\uc6d0\ubb34\ub9bc\ub300\uc804; \ud130\uce58 \ud130\uce58 \uc0ac\ub2e4\ub9ac ( Touch Touch \uc0ac\ub2e4\ub9ac ); Pocket Dragons RPG; \uc2a4\ud504\ub808\ub4dc\uce98 - \uce98\ub9b0\ub354; e\ud558\ub298 \uc7a5\uc0ac\uc815\ubcf4; Pocket Clothier Lite; Strategy & Tactics: WW II Free; The Snowman and The Snowdog; Halifax Mobile Banking app; Zs\u00edroz\u00e1s; pink butterflies glitter lwp; eco\u30e2\u30fc\u30c9; Moto Race; \uc544\uae30 \uc790\uc7a5\uac00 \uc218\uba74 \ud2b8\ub808\uc774\ub2dd + \ucd08\uc810\ucc45; Color Touch FX; 3D\u5168\u666f\u62cd\u7167; PEP the dragon; [GDGT]MCPE App; chumby for Sony Tablet S; Monorail Lite; FrameMe-Instagram pic; Bike to the Future Free; RO\u4ed9\u5883\u50b3\u8aaa-\u74e6\u723e\u57fa\u91cc\u4e4b\u4e82-\u6b7b\u4ea1\u4e4b\u90fd\u5df4\u9732\u6234\u723e; \ub9de\uace0\ub3c4\uc0ac\uc804 2013; Pet Rescue Saga Help; Asphalt 6: Adrenaline Free; \ubaa8\ub450\uc758\uac8c\uc784 \ud587\uc0b4\uc774\ubca4\ud2b8; \u62c6\u5f48\u9a5a\u9b42; Beat the Beast; Zombie Fields HD; Call Confirm; Colombo Racer Beta- Sri Lankan; \ud3ed\ud589 \uc880\ube44 HD; Country House_GO\ub7f0\ucc98EX\ud14c\ub9c8_\ud504\ub9ac\ubbf8\uc5b8; Qik Video; \u041a\u0430\u043c\u0435\u0434\u0438 \u041a\u043b\u0430\u0431 - \u041b\u0443\u0447\u0448\u0438\u0435 \u0412\u0438\u0434\u0435\u043e; \ubb34\ud55c\ube61\uce68 \ub191; Scydo \ubb34\ub8cc \uc548\ub4dc\ub85c\uc774\ub4dc\ub294 \uc804\ud654; \uad6d\ub0b4\uc720\uc77c \ubb34\ub8cc\uc18c\uac1c\ud305, \ud558\ub8e8 \ub450\uba85\uc529 \ub04c\ub9bc; \ud3ec\ud1a0 \uc6cc\ud130 \ubc18\uc601; PicsArt Kaleidoscope; Pendu Classique: France; Explorer; 7x7; Movie Booth FX \ube45\ubc45 - \uc601\ud654 \ubd80\uc2a4; Cupcake Maker!; \uac13\ud53c\ud50c\ubab0; During_GO\ub7f0\ucc98EX\ud14c\ub9c8; Grand Theft Auto 4 Guide GTA4; Squibble; M1 BestPicks; Archos File Manager; Dropwords; \ub3d9\ubb3c \uac80\uc0c9; \u5fc3\u9748\u6545\u4e8b; Stick Swing; \ud574\uc11d \uccad\ucd98\ub0a8\ub140(2013\ub144 \uc6b4\uc138); Crazy Moto Construction Yard; KK-Boxing; \uc5b4\ub514\uc5d0?; Puzzle for Minecraft; 7\uae09\uacf5\ubb34\uc6d0 \ubb34\ub8cc\ub2e4\uc2dc\ubcf4\uae30-\uac00\uc785\uc5c6\uc74c/\uc2e4\uc2dc\uac04\uac10\uc0c1/TV\ub4dc\ub77c\ub9c8; \u516d\u6cd5\u5168\u66f8; Bluetooth OnOff; \u010cT4; Korean Vocabulary; Airport Mania XP FREE; \u79d8\u5bf6\u63a2\u5075; Kids Jigsaw Puzzles Ocean Free; \u5eb7\u7199\u4f86\u4e86 TV; The Island: Castaway; \uce74\ud1a1 \uc774\ubaa8\ud2f0\ucf58; Jewellust Xmas; Net Big 2 Free; EZ\u7f8e\u98df\u65e5\u8a9e; EZ\u65c5\u904a\u65e5\u8a9e; \uc2a4\ud241\uc2a4(stoongs) Email\uc601\uc5b4; \uc9c0\ubb38 \uc608\uc0c1; \u59dc\u997c\u4eba\u5927\u9003\u4ea1 (Ovenbreak); Mickey Mouse Clubhouse; \u53f0\u7063\u5496\u5561/\u98f2\u6599\u5927\u5168\uff01 (online\u7248, \u53ef\u4e0b\u8f09\u96e2\u7dda\u4f7f\u7528); T map for KT,LGU+; \u4e58\u6cd5\u5c0f\u5b78\u5802; \ub9e4\ub2c8\ud050\uc5b4 \ub514\uc790\uc774\ub108 \ub77c\uc774\ud2b8; Shut Up! App; \u30aa\u30ea\u30b3\u30f3\u30df\u30e5\u30fc\u30b8\u30c3\u30af\u30b9\u30c8\u30a2; TOP 20 SMS \uc0ac\uc6b4\ub4dc \ud6a8\uacfc; Splat Bugs III Unlock KEY; Equalizer; ApeFlip; \uce58\ud0a8\ub7f0(\ub18d\uc7a5\ud0c8\ucd9c); [PNN] PTT \u9109\u6c11\u665a\u5831; iMadeFace Funny Pics & Videos; olleh \ucf55!\ucf55!; \uc880\ube44 \uc774\ube14; Jet Car Stunts; Video Download; 3\u570b\u5c0f\u8c6c \u6349\u932f\u8655; Screen On; Funny iMadeFace Videos&Photos+; SPY mouse; TV\u96a8\u8eab\u770bHD-\u9078\u53f0\u5668; \u0422\u0430\u0440\u043e \u0413\u0430\u0434\u0430\u043d\u0438\u0435; \ud5ec\uc2a4 \uc2a4\ucf00\uc974\ub7ec; Las Vegas Slot Machine HD; \u5168\u58d8\u62532 OL; \uadc0\uc5ec\uc6b4 \uc0c8\ub07c \uace0\uc591\uc774\ub97c \ucc3e\uace0 \uc788\ub294\ub370 \ud654\uba74; JTBC \ub274\uc2a4; \ub2e4 \ubc97\uae30\ub294 \uc139\uc2dc \ub8f0\ub81b\uac78; Jungle Jewels Free; Joy Drums; Pumped: BMX Free; KTB netbank; \ub0b4 \ubb3c \ub09a\uc2dc \uac8c\uc784 \ud37c\uc990; Gem Cleaner; Go Locker Minecraft; \ucfe0\ud0a4\ub7f0 \ub300\ud45c \ucee4\ubba4\ub2c8\ud2f0 (\uac8c\uc784\ucfe1); [FREE]\ub7ec\ube0c\ub7ec\ube0c\ud3ab\ud0c0\uc774\ucfe4; \u738b\u54c1\u9910\u98f2\u975e\u5b98\u65b9APP(\u53f0\u5851\u725b\u6392,\u590f\u6155\u5c3c,\u539f\u71d2,\u897f\u5824,\u7b49\u9910\u5ef3); \ud0a4\uc704\ub7f0!; Assault Force; \uc885\uc774\uc811\uae30; \ub2e4\ud568\uaed8 \ud401\ud401\ud401 \uac00\uc9dc \ubc1c\ub3c4\uc7a5 100\uac1c (\ud401\ud401\ud401 \ucee4\ubba4\ub2c8\ud2f0); \u010cT24; Line Super Runner; Top Shooter; \uc5ec\uc790\ub97c\uc704\ud55c \uba4b\uc9c4 \uac8c\uc784; \u7ec8\u6781\u5854\u9632; OctoCheck; \ubaac\uc2a4\ud130 \ucf54\uc778; \uc880\ube44 \uc3f4; \uce74\uc624\uc2a4\uc601\uc6c5\uc804; Love Quote Pics for Facebook; Sweet Ring Shop; Tap Play; Opzi Bingo; If Serie A 2012 - 2013 Lite; \u2605 3D RPG Heaven Sword \u2605; \ud50c\ub808\uc774\uc5b4 \ucd95\uad6c \uc0ac\uc9c4 \ud034\uc988; \ub85c\ubcf4; \ud0c0\uc774\ub2c8\uc6cc; \ub9c8\uc774 \uce74 \uc0b4\ub871 2; Dreamhouse Next Launcher Theme; \ubfcc\uae4c \uc0ac\ucc9c\uc131; Android 2.2 API Demos; \u7c21\u7e41:\u5bf5\u6587\u751c\u6587\u8a00\u60c5\u5c0f\u8aaa\u5408\u96c6[7]; IDM Internet Download Magician; TouchPal Swedish Pack; Be My Princess; \u5bab\u6597\u6fc0\u60c5\u6587\u5b66; \u6210\u4eba\u6fc0\u60c5\u8868\u59b9\u7684\u8bf1\u60d1\u5c0f\u8bf4; \u70ed\u95e8\u7384\u5e7b\u4fee\u771f\u5c0f\u8bf4\u5408\u96c6; Sword Art Online Theme FREE; \uccb4\uc911\uc744 \uc783\uac8c\ud558\ub294 \ube60\ub978 \ubc29\ubc95; Height & Weight Log; \u9690\u5f62\u80f8\u7f69\uff08\u5b89\u5353\u7248\uff09; Smart Baby Mat (Monitor); EZ Pill Reminder; \u4eba\u4eba\u90fd\u7231\u72d0\u72f8\u7cbe; \ubb3c\uc740 \uc18c\ub9ac; \u60c5\u8272\u6478\u4e73\uff1a\u706b\u8fa3\u6bd4\u57fa\u5c3c; \ubcf4\uc218\uacc4; Gourmet Creature Hungry Mogumo; TarzaN Ever Ending Adventure; \ubc1d\uc740 \uba4b\uc9c4; Hip Mania[Hot Girl] Free Game; \u7f8e\u5973\u5341\u516b\u6478\u6478\u51fa\u9ad8\u6f6e; \ubf40\ubf40\uac8c\uc784; \u30d1\u30c1\u30b9\u30ed\u300c\u7518\u3069\u308b!!\u300d; \uacfc\uc77c \ubc84\ube14 \uc288\ud130; \ucd94\uc5b5\uc758 \ub2ec\uace0\ub098 \ubf51\uae30; \ucf54\uc778 \uac8c\uc784 ~ \ud398\ub2c8 \ud478\uc154; [\uc644\uc804\ubb34\ub8cc]\ub77c\uc2a4\ud2b8\uccb4\uc774\uc11c Plus+; Candy Island HD - \uce94\ub514 \uc12c HD; Pixel Dungeon; Cupcake Stand; Practice English Grammar - 1; AmbientTime Live Wallpaper; MojiTime Clock Widget; Tales from the Dragon Mountain; Elements Battle; \u6dfa\u7da0\u5c0f\u8aaa\u96c6\uff08\u7e41\u9ad4\u7248\uff09; Thai Livescore; \ub450\ub1cc\uac74\uac15 \ud328\ud134\uc554\uae302; \ud380\uce90\uc2a4\ud2b8 - \ucd5c\uace0\uc758 \ud31f\uce90\uc2a4\ud2b8; MMDA for Android\u2122; \uc0ac\uc9c4 \uc7ac\ubbf8 - \uc7ac\ubbf8 \uac24\ub7ec\ub9ac \uc791\uc131\uae30; Shadow Galaxy; \uc5d0\uc774\uc9c0 \uc624\ube0c \uac13: \uc544\uae30\uc790\uae30\ud55c \uce74\ub4dc\ubc30\ud2c0; \ub4dc\ub9bc \ud648; KIDS SONG MACHINE 2 FREE; \ub85c\ub610 \ub300\ubc15\ub098\uae30; \uc804\ub798\ub3d9\uc694 \ubc8c\uc544\ubc8c\uc544; \ud06c\ub808\uc774\uc9c0 \uacbd\uc801; I Smell Brains; Stamp sticker TextCutie; MySafeApp \uc228\uae30\uae30 \uc0ac\uc9c4 \ubc0f \ub3d9\uc601\uc0c1; Iron Reactor Widget; [\uc138\uc774\ud1a1] \ub300\ud654\uac00 \ud544\uc694\ud560 \ub54c - Saytalk \ucc44\ud305; Wacky Duck; FreeTelec T\u00e9l\u00e9c Freebox; \u9a45\u52d5\u57ce\u5e02-\u5373\u6642\u8def\u6cc1,\u52a0\u6cb9,\u505c\u8eca,\u512a\u60e0,\u6551\u63f4; Wild Blocks Rush; \ucd95\uad6c \uacbd\uae30 \ud504\ub85c; Puzzle Retreat; Galatasaray Fantasy Manager'13; \u4e0d\u601d\u8b70\u5fae\u751f\u7269\u30bf\u30de\u30bf\u30de\u7814\u7a76\u6240; BBC News; Three Kingdoms: Heroes; Qello; \uc608\uc2a4\ud30c\uc77c-\uc601\ud654\ubcf4\uae30,\uc74c\uc545,\ub4dc\ub77c\ub9c8,\uc560\ub2c8,\ub3d9\uc601\uc0c1 \uc790\ub8cc\ub2e4\uc6b4\ub85c\ub4dc; Bowman Pro 4; \ub808\uc774\uc2a4 \uc2a4\ud0c0\ud2b8 - GO\ub77d\ucee4\ud14c\ub9c8 - \ud504\ub9ac\ubbf8\uc5c4; \uc911\uad6d\uc5b4 \ub2e4\ud06c \uad50\ud310; Great White SHARKS; Clash of the Olympians; Star Defender 4 (Free); Christmas Hangman Deluxe; \ud788\uc5b4\ub85c\uc2ac\ub808\uc774\uc5b4! [\uac04\ub2e8\ud788 \uc990\uae30\ub294  \ud37c\uc990&\ub514\ud39c\uc2a4 \uac8c\uc784]; \uc5b4\ub9b0\uc774\ub97c\uc704\ud55c \uc790\uc7a5\uac00; \u042f\u0439\u0446\u0435\u043b\u043e\u0432; Save Toshi \u65e5\u672c; \ubd88\uad50\ubc29\uc1a1; \ub4dc\ub798\uace4 \uc2a4\ud1a0\ub9ac: \ubd80\ud65c\uc808 \uc5d0\ub514\uc158; Angry Fatty; \uce90\ucc60\ud504\ub9b0\uc2a4 for Kakao; \ub0b4 \uc0ac\ub791\uc2a4\ub7ec\uc6b4 \ub3fc\uc9c0; Raging Fire Racing; \ud504\ub9b0\uc138\uc2a4*\ud37c\uc990; \ubb34\ub364 \ubcf4\uc11d; \uc824\ub9ac\ubf40 for Kakao; Scarface; \ubc84\uac70 \ud328\uc2a4\ud2b8 \ud478\ub4dc \uc2a4\ud0e0\ub4dc \uba54\uc774\ucee4; \ubc30\ud2c0\uc544\ub808\ub098(BattleArena); Contre Jour; \ubbf8\ub2c8 \uace8\ud504 3D \uacf5\uac04 : \ud37c\ud2b8 \ud37c\ud2b8; AE Coin Mania; Berzerk Ball 2; \ub808\uc774\uc2f1 \uc790\ub3d9\ucc28 \uc9c0\uadf8 \uc18c \ud37c\uc990; \uce90\ub9ad\ud130\ud321 for Kakao; \ud50c\ub77c\uc789 \ubc84\ub514 for Kakao; \ud504\ub9ac\ud2f0 \ud3ab \ud1a0\uc774 \uc2a4\ud1a0\uc5b4; \ud038\uc988\uc560\ub85c\uc6b0 ( \uc591\uad81 ); \ud3ab \uce74\ud398 2; \uadf8\ub140\ub294\ud3ab2 \u2665D\ucef5 \uadf8\ub77c\ube44\uc544 Sexy \uc2a4\ud0c0  \uc5d0\ubc00\ub9ac; Pudding Monsters HD (\ud478\ub529 \ubaac\uc2a4\ud130); METAL SLUG; \ube14\ub8f8\ud31d (Bloom-PoP); FINAL FANTASY DIMENSIONS; \uc5d8\ub9ac\uba58\ud0c8\ub098\uc774\uce20 \uc628\ub77c\uc778 (EKO); Top Stylist; Miners 4k; \ucd08\ucf54\ucd08\ucf54 for Kakao; \uc139\uc2dc\ud55c \uc5ec\uc790 \ud06c\ub9ac\uc2a4\ub9c8\uc2a4 \ud37c\uc990; \ud6c4\ub974\uce20\uc7bc for Kakao; \u2605 \uc131\uc778\uc6a9 \ub9de\uace0\uc758 \uc885\uacb0\uc790!! \u2605 \uc7a5\ubaa8\ub2d8\uc758 \ub098\ub77c \ub9de\uace0; Devil Girls; \uc138\uacc4\uc5d0\uc11c \uc81c\uc77c \ube60\ub978 \ub808\ubca8\uc5c5; Forest Life; Pet Fair Village; \ubbf8\ub140\ubcc0\ud638\uc0ac\uc138\ub9ac\ud0b4; \uc5d8\uc18c\ub4dc \uc2a4\ud0ac\ud2b8\ub9ac(\uc544\ub77c); GTA Vice City Cheater; \uc778\ubca0\uc774\ub354\ud5cc\ud130\n"
       ]
      }
     ],
     "prompt_number": 6
    },
    {
     "cell_type": "markdown",
     "metadata": {},
     "source": [
      "#keywords, keyword ADD"
     ]
    },
    {
     "cell_type": "code",
     "collapsed": false,
     "input": [
      "app_name = apps.loc[:,['name']]\n",
      "\n",
      "def load(fname):\n",
      "    # load the file using std open\n",
      "    f = open(fname,'r')\n",
      "\n",
      "    data = []\n",
      "    for line in f.readlines():\n",
      "        data.append(line.replace('\\n','').split(','))\n",
      "        \n",
      "    f.close()\n",
      "\n",
      "    return data\n"
     ],
     "language": "python",
     "metadata": {},
     "outputs": [],
     "prompt_number": 23
    },
    {
     "cell_type": "code",
     "collapsed": false,
     "input": [
      "key = load('sw_maestro_data_mining/Min/3clustering/Keyword.txt')\n",
      "keywords = []\n",
      "for c in key[0]:\n",
      "    keywords.append('\"'+c.replace(\" \", \"\")+'\"')\n",
      "\n",
      "\n",
      "print ' '.join(keywords)"
     ],
     "language": "python",
     "metadata": {},
     "outputs": [
      {
       "output_type": "stream",
       "stream": "stdout",
       "text": [
        "\"\ud37c\uc990\" \"\uce90\uc8fc\uc5bc\" \"\uc544\ucf00\uc774\ub4dc\" \"\uacf5\ub7b5\" \"\ub808\uc774\uc2f1\" \"RPG\" \"\uce74\ub4dc\" \"\uc131\uc778\" \"\ub514\ud39c\uc2a4\" \"\ub450\ub1cc\" \"\uc2dc\ubbac\" \"\ub2ec\ub9ac\uae30\" \"\uc288\ud305\" \"\ucd95\uad6c\" \"\uacbd\uc601\" \"\ud0c0\uc774\ucfe4\" \"\ud0c8\ucd9c\" \"\ucd94\ub9ac\" \"\uc7a5\uae30\" \"\ube44\ud589\uae30\" \"\uc0ac\ucc9c\uc131\" \"\uc2a4\ud3ec\uce20\" \"\ub18d\uad6c\" \"\ub09a\uc2dc\" \"\uc74c\uc545\" \"\uce74\ud1a1\" \"\uace8\ud504\" \"\ub2f9\uad6c\" \"\uc57c\uad6c\" \"\ubcfc\ub9c1\" \"\ud14c\uc774\uc2a4\" \"\uc0bc\uad6d\uc9c0\" \"TCG\" \"\uc804\uc7c1\" \"\uac74\uac15\" \"\uc6b4\ub3d9\" \"\uad50\uc721\" \"\uad50\ud1b5\" \"\uae08\uc735\" \"\ub0a0\uc528\" \"\ub274\uc2a4\" \"\uc7a1\uc9c0\" \"\ub370\ucf54\ub808\uc774\uc158\" \"\ub3c4\uad6c\" \"\ub3c4\uc11c\" \"\ucc38\uace0\uc790\ub8cc\" \"\ub77c\uc774\ube0c\" \"\ubc30\uacbd\ud654\uba74\" \"\ub77c\uc774\ube0c\ub7ec\ub9ac\" \"\ub370\ubaa8\" \"\ub77c\uc774\ud504\uc2a4\ud0c0\uc77c\" \"\ub9cc\ud654\" \"\ubbf8\ub514\uc5b4\" \"\ub3d9\uc601\uc0c1\" \"\ube44\uc988\ub2c8\uc2a4\" \"\uc0ac\uc9c4\" \"\uc0dd\uc0b0\uc131\" \"\uc18c\uc15c\" \"\ucf58\ud150\uce20\" \"\uc1fc\ud551\" \"\uc704\uc82f\" \"\uc790\ub3d9\ucc28\" \"\uacbd\uc8fc\" \"\ub2e4\uc774\uc5b4\ud2b8\" \"\ub2ec\ub825\" \"\uc0dd\ub9ac\" \"\uce98\ub9b0\ub354\" \"\uc0ac\uc8fc\ud314\uc790\" \"\uad81\ud569\" \"\uccb4\uc911\" \"\uc0ac\uc804\" \"\ucef4\ud4e8\ud130\" \"\ubc31\uacfc\uc0ac\uc804\" \"\uae09\uc2dd\" \"\ud559\uad50\" \"\ucd08\ub4f1\ud559\uad50\" \"\uc911\ud559\uad50\" \"\uace0\ub4f1\ud559\uad50\" \"\ub300\ud559\uad50\" \"Korea\" \"\ub124\ube44\uac8c\uc774\uc158\" \"\uc9c0\ud558\ucca0\" \"\uc885\uacb0\uc790\" \"\ub0b4\ube44\" \"\uac00\uacc4\ubd80\" \"Money\" \"\uc2a4\ub9c8\ud2b8\" \"\uacc4\uc0b0\uae30\" \"\uc740\ud589\" \"\uac80\uc0c9\uc5b4\" \"\uc2e4\uc2dc\uac04\" \"\uc2e0\ubb38\" \"\ud074\ub798\uc2dd\" \"\ub7f0\ucc98\" \"\uc8fc\uc18c\ub85d\" \"\ud3f0\" \"\ubc14\uc774\ub7ec\uc2a4\" \"\ubcf4\uc548\" \"\uc131\uacbd\" \"\ucc2c\uc1a1\" \"\ubc14\uc774\ube14\" \"\ubc31\uc2e0\" \"\uc6f9\" \"\uc2a4\ud2f0\ucee4\" \"\uc0ac\uc8fc\" \"\uc6b4\uc138\" \"\ucf54\ubbf9\" \"3D\" \"\ubcc4\uc790\ub9ac\" \"tool\" \"\uc6f9\ud230\" \"sex\" \"\ud50c\ub808\uc774\uc5b4\" \"\uce74\uba54\ub77c\" \"\ubca8\uc18c\ub9ac\" \"\uc57c\ub3d9\" \"\ud55c\uae00\" \"\uc624\ud53c\uc2a4\" \"offic\" \"\uc54c\ubc14\" \"photo\" \"\ub4dc\ub77c\uc774\ube0c\" \"\ud30c\uc77c\" \"\uac24\ub7ec\ub9ac\" \"\uadf8\ub8f9\" \"\ubc14\ucf54\ub4dc\" \"\uc2a4\uce90\ub108\" \"\uc18c\uc15c\ucee4\uba38\uc2a4\" \"\uc18c\uc15c\" \"random\" \"\ub79c\ub364\" \"\uc74c\uc2dd\" \"\ubc29\ubc95\" \"\ud1a0\uc775\" \"\uc5b4\ub978\" \"\uce5c\uad6c\"\n"
       ]
      }
     ],
     "prompt_number": 24
    },
    {
     "cell_type": "code",
     "collapsed": false,
     "input": [],
     "language": "python",
     "metadata": {},
     "outputs": [],
     "prompt_number": 55
    },
    {
     "cell_type": "markdown",
     "metadata": {},
     "source": [
      "#Naver crawler... q\ub294 \ucc3e\uace0\uc790 \ud558\ub294 key \uac12\uc774\uace0, result\ub294 \uac80\uc0c9\ub41c \uc218"
     ]
    },
    {
     "cell_type": "code",
     "collapsed": false,
     "input": [
      "def getNumberOfNaverSearchResult(q):\n",
      "    q='+'.join(q.split())\n",
      "    xpath = \"\"\"//div[@id='content']/div[@class='blog section _blogBase']/div[@class='section_head']/span[@class='title_num']\"\"\"\n",
      "    html = requests.get(\"http://cafeblog.search.naver.com/search.naver?where=post&sm=tab_jum&ie=utf8&query=\"+q).text\n",
      "    hx =HtmlXPathSelector(text=html)\n",
      "    items = hx.select(xpath)\n",
      "    inputstr = (items.extract()[0].split()[3]+\"\")\n",
      "    result = int(''.join(re.findall(r'\\d+', inputstr)))\n",
      "    return result\n"
     ],
     "language": "python",
     "metadata": {},
     "outputs": [],
     "prompt_number": 25
    },
    {
     "cell_type": "code",
     "collapsed": false,
     "input": [
      "import sys\n",
      "import re\n",
      "import requests\n",
      "from scrapy.selector import HtmlXPathSelector\n",
      "import time\n",
      "class NaverCrawler(object):\n",
      "    def __init__(self, appname, keyword, startIndex=None, endIndex=None):\n",
      "        self.waitMinute = 0\n",
      "        self.appname = appname\n",
      "        self.keyword = keyword\n",
      "        self.both = self.appname + \"+\" + self.keyword\n",
      "\n",
      "    \n",
      "    \n",
      "    def __search(self,q):\n",
      "        \"\"\"\n",
      "        parameter:\n",
      "            q : String for search.\n",
      "        \"\"\"\n",
      "        try:\n",
      "            q='+'.join(q.split())\n",
      "            xpath = \"\"\"//div[@id='content']/div[@class='blog section _blogBase']/div[@class='section_head']/span[@class='title_num']\"\"\"\n",
      "            html = requests.get(\"http://cafeblog.search.naver.com/search.naver?where=post&sm=tab_jum&ie=utf8&query=\"+q).text\n",
      "            hx =HtmlXPathSelector(text=html)\n",
      "            items = hx.select(xpath)\n",
      "            inputstr = (items.extract()[0].split()[3]+\"\")\n",
      "            result = int(''.join(re.findall(r'\\d+', inputstr)))\n",
      "            return result\n",
      "        except:\n",
      "#            print \"except 0\"\n",
      "            return 0\n",
      "        \n",
      "    \n",
      "    def __ifError(self,word):\n",
      "        print \"stuck at \"+word\n",
      "        while True:\n",
      "            time.sleep(self.waitMinute*60)\n",
      "            try:\n",
      "                self.__search(word)\n",
      "                print \"sleeping... :  %d\" %(self.waitMinute*60)\n",
      "            except:\n",
      "                self.waitMinute += 1\n",
      "                continue\n",
      "            break\n",
      "        print \"escape!!!\"\n",
      "    \n",
      "    def start(self):\n",
      "        appRes = self.__search(self.appname)\n",
      "        keyRes = self.__search(self.keyword)\n",
      "        botRes = self.__search(self.both)\n",
      "            \n",
      "        DatabaseManager.set_query_count(self.appname, appRes)\n",
      "        DatabaseManager.set_query_count(self.keyword, keyRes)\n",
      "        DatabaseManager.set_query_count(self.both, botRes)\n",
      "            \n",
      "        pmi = self.calcPMI(appRes, keyRes, botRes, 1000000000.0)\n",
      "        DatabaseManager.set_app_keyword_pmi(self.appname, self.keyword, pmi)\n",
      "        \n",
      "        sys.stdout.flush()\n",
      "        sys.stdout.write('\\r') \n",
      "#        sys.stdout.write(\"app=%s(%d), keyword=%s(%d), both=%s(%d), pmi=%.3f\\n\" % (self.appname, appRes, self.keyword, keyRes, self.both, botRes, pmi) )\n",
      "            \n",
      "     \n",
      "    def calcPMI(self, AppScore, KeywordScore, BothScore, nTotalDocs):\n",
      "        val = (AppScore*KeywordScore/(BothScore*nTotalDocs+1))\n",
      "        if val <= 0:\n",
      "            return 0.0\n",
      "        return math.log10(val)\n",
      "    "
     ],
     "language": "python",
     "metadata": {},
     "outputs": [
      {
       "output_type": "stream",
       "stream": "stdout",
       "text": [
        "\n"
       ]
      }
     ],
     "prompt_number": 34
    },
    {
     "cell_type": "markdown",
     "metadata": {},
     "source": [
      "#Database Management"
     ]
    },
    {
     "cell_type": "code",
     "collapsed": false,
     "input": [
      "class DatabaseManager():\n",
      "\n",
      "    __BaseObj__ = declarative_base()\n",
      "    __db__ = create_engine('postgresql://soma:maestro@)!#@soma1.buzzni.com/application')\n",
      "    __Session__ = sessionmaker(bind=__db__)\n",
      "    #__s__ = __Session__()\n",
      "\n",
      "    #__db__.echo = False  # Try changing this to True and see what happens\n",
      "    #__metadata__ = MetaData(__db__)\n",
      "\n",
      "\n",
      "    class Cache_query(__BaseObj__):\n",
      "        __tablename__ = 'query_freq'\n",
      "        query = Column('query', String(100), primary_key=True)\n",
      "        num = Column('num', Integer)\n",
      "        update_date = Column('update_date', Date(),default=datetime.now(), onupdate=datetime.now())\n",
      "        def __init__(self,query,num):\n",
      "            self.query=query\n",
      "            self.num=num\n",
      "\n",
      "    class Cache_pmi(__BaseObj__):\n",
      "        __tablename__ = 'app_keyword_pmi'\n",
      "        app_name = Column('app_name', String(100), primary_key=True)\n",
      "        keyword = Column('keyword', String(100), primary_key=True)\n",
      "        pmi = Column('pmi', Float)\n",
      "        update_date = Column('update_date', Date(),default=datetime.now(), onupdate=datetime.now())\n",
      "        def __init__(self,app_name,keyword,pmi):\n",
      "            self.app_name=app_name\n",
      "            self.keyword=keyword\n",
      "            self.pmi=pmi\n",
      "\n",
      "\n",
      "    @staticmethod\n",
      "    def create_table():\n",
      "        '''\n",
      "        recreate a new table.\n",
      "        '''\n",
      "        if DatabaseManager.__db__.dialect.has_table(DatabaseManager.__db__.connect(), \"query_freq\"):\n",
      "            DatabaseManager.__db__.execute(\"drop table query_freq;\")\n",
      "        metadata = DatabaseManager.Cache_query.metadata\n",
      "        metadata.create_all(DatabaseManager.__db__)\n",
      "\n",
      "\n",
      "    @staticmethod\n",
      "    def get_query_count(query):\n",
      "        s = DatabaseManager.__Session__()\n",
      "        result = s.query(DatabaseManager.Cache_query).filter(DatabaseManager.Cache_query.query==query)\n",
      "        #s.flush()\n",
      "        s.close_all()\n",
      "        if result.count()>0:\n",
      "            return result[0].num\n",
      "        return 0\n",
      "\n",
      "\n",
      "    @staticmethod\n",
      "    def set_query_count(query,count):\n",
      "        s = DatabaseManager.__Session__()\n",
      "        result = s.query(DatabaseManager.Cache_query).filter(DatabaseManager.Cache_query.query==query)\n",
      "\n",
      "        if result.count()>0:\n",
      "            result[0].num = count\n",
      "        else:\n",
      "            s.add(DatabaseManager.Cache_query(query,count))\n",
      "        s.commit()\n",
      "        s.close_all()\n",
      "\n",
      "    @staticmethod\n",
      "    def get_app_keyword_pmi(app_name, keyword):\n",
      "        s = DatabaseManager.__Session__()\n",
      "        result = s.query(DatabaseManager.Cache_pmi).\\\n",
      "            filter(DatabaseManager.Cache_pmi.app_name==app_name).\\\n",
      "            filter(DatabaseManager.Cache_pmi.keyword==keyword)\n",
      "        if result.count()>0:\n",
      "            return result[0].pmi\n",
      "        return 0\n",
      "\n",
      "    \n",
      "    @staticmethod\n",
      "    def set_app_keyword_pmi(app_name, keyword, pmi):\n",
      "        s = DatabaseManager.__Session__()\n",
      "        result = s.query(DatabaseManager.Cache_pmi).\\\n",
      "            filter(DatabaseManager.Cache_pmi.app_name==app_name).\\\n",
      "            filter(DatabaseManager.Cache_pmi.keyword==keyword)\n",
      "        \n",
      "        \n",
      "        if result.count()>0:\n",
      "            result[0].pmi = pmi\n",
      "        else:\n",
      "            s.add(DatabaseManager.Cache_pmi(app_name, keyword, pmi))\n",
      "        s.commit()\n"
     ],
     "language": "python",
     "metadata": {},
     "outputs": [],
     "prompt_number": 27
    },
    {
     "cell_type": "code",
     "collapsed": false,
     "input": [
      "#assign to Pack\n",
      "\n",
      "def createPMIDataFrame(appNameList, keywordList):\n",
      "    pmi_frame = pd.DataFrame(data=0.0, index=appNameList, columns=keywordList)\n",
      "    return pmi_frame\n",
      "\n",
      "def setPMI(dstFrame, appName, keyword, pmi):\n",
      "    dstFrame.loc[appName, keyword] = pmi\n",
      "    \n",
      "def getPMIFromDF(dstFrame, appName, keyword):\n",
      "    return dstFrame.loc[appName, keyword]\n",
      "\n",
      "def calcPMI(AppScore, KeywordScore, BothScore, nTotalDocs):\n",
      "    val = (AppScore*KeywordScore/(BothScore*nTotalDocs+1))\n",
      "    if val <= 0:\n",
      "        return 0.0\n",
      "    return math.log10(val)\n"
     ],
     "language": "python",
     "metadata": {},
     "outputs": [],
     "prompt_number": 28
    },
    {
     "cell_type": "code",
     "collapsed": false,
     "input": [
      "n_sort_appname[0]"
     ],
     "language": "python",
     "metadata": {},
     "outputs": [
      {
       "metadata": {},
       "output_type": "pyout",
       "prompt_number": 29,
       "text": [
        "'Instagram'"
       ]
      }
     ],
     "prompt_number": 29
    },
    {
     "cell_type": "code",
     "collapsed": false,
     "input": [
      "for count, i in enumerate(n_sort_appname[:]):\n",
      "    print \"name : %s\" %i, \"count : %d\" %count\n",
      "    for key in keywords:\n",
      "        temp_class = NaverCrawler(i, key)\n",
      "        temp_class.start()"
     ],
     "language": "python",
     "metadata": {},
     "outputs": [
      {
       "output_type": "stream",
       "stream": "stdout",
       "text": [
        "name : Instagram count : 0\n"
       ]
      },
      {
       "output_type": "stream",
       "stream": "stdout",
       "text": [
        "\r"
       ]
      },
      {
       "output_type": "stream",
       "stream": "stdout",
       "text": [
        "\r"
       ]
      },
      {
       "output_type": "stream",
       "stream": "stdout",
       "text": [
        "\r"
       ]
      },
      {
       "output_type": "stream",
       "stream": "stdout",
       "text": [
        "\r"
       ]
      },
      {
       "output_type": "stream",
       "stream": "stdout",
       "text": [
        "\r"
       ]
      },
      {
       "output_type": "stream",
       "stream": "stdout",
       "text": [
        "\r"
       ]
      },
      {
       "output_type": "stream",
       "stream": "stdout",
       "text": [
        "\r"
       ]
      },
      {
       "output_type": "stream",
       "stream": "stdout",
       "text": [
        "\r"
       ]
      },
      {
       "output_type": "stream",
       "stream": "stdout",
       "text": [
        "\r"
       ]
      },
      {
       "output_type": "stream",
       "stream": "stdout",
       "text": [
        "\r"
       ]
      },
      {
       "output_type": "stream",
       "stream": "stdout",
       "text": [
        "\r"
       ]
      },
      {
       "output_type": "stream",
       "stream": "stdout",
       "text": [
        "\r"
       ]
      },
      {
       "output_type": "stream",
       "stream": "stdout",
       "text": [
        "\r"
       ]
      },
      {
       "output_type": "stream",
       "stream": "stdout",
       "text": [
        "\r"
       ]
      },
      {
       "output_type": "stream",
       "stream": "stdout",
       "text": [
        "\r"
       ]
      },
      {
       "output_type": "stream",
       "stream": "stdout",
       "text": [
        "\r"
       ]
      },
      {
       "output_type": "stream",
       "stream": "stdout",
       "text": [
        "\r"
       ]
      },
      {
       "output_type": "stream",
       "stream": "stdout",
       "text": [
        "\r"
       ]
      },
      {
       "output_type": "stream",
       "stream": "stdout",
       "text": [
        "\r"
       ]
      },
      {
       "output_type": "stream",
       "stream": "stdout",
       "text": [
        "\r"
       ]
      },
      {
       "output_type": "stream",
       "stream": "stdout",
       "text": [
        "\r"
       ]
      },
      {
       "output_type": "stream",
       "stream": "stdout",
       "text": [
        "\r"
       ]
      },
      {
       "output_type": "stream",
       "stream": "stdout",
       "text": [
        "\r"
       ]
      },
      {
       "output_type": "stream",
       "stream": "stdout",
       "text": [
        "\r"
       ]
      },
      {
       "output_type": "stream",
       "stream": "stdout",
       "text": [
        "\r"
       ]
      },
      {
       "output_type": "stream",
       "stream": "stdout",
       "text": [
        "\r"
       ]
      },
      {
       "output_type": "stream",
       "stream": "stdout",
       "text": [
        "\r"
       ]
      },
      {
       "output_type": "stream",
       "stream": "stdout",
       "text": [
        "\r"
       ]
      },
      {
       "output_type": "stream",
       "stream": "stdout",
       "text": [
        "\r"
       ]
      },
      {
       "output_type": "stream",
       "stream": "stdout",
       "text": [
        "\r"
       ]
      },
      {
       "output_type": "stream",
       "stream": "stdout",
       "text": [
        "\r"
       ]
      },
      {
       "output_type": "stream",
       "stream": "stdout",
       "text": [
        "\r"
       ]
      },
      {
       "output_type": "stream",
       "stream": "stdout",
       "text": [
        "\r"
       ]
      },
      {
       "output_type": "stream",
       "stream": "stdout",
       "text": [
        "\r"
       ]
      },
      {
       "output_type": "stream",
       "stream": "stdout",
       "text": [
        "\r"
       ]
      },
      {
       "output_type": "stream",
       "stream": "stdout",
       "text": [
        "\r"
       ]
      },
      {
       "output_type": "stream",
       "stream": "stdout",
       "text": [
        "\r"
       ]
      },
      {
       "output_type": "stream",
       "stream": "stdout",
       "text": [
        "\r"
       ]
      },
      {
       "output_type": "stream",
       "stream": "stdout",
       "text": [
        "\r"
       ]
      },
      {
       "output_type": "stream",
       "stream": "stdout",
       "text": [
        "\r"
       ]
      },
      {
       "output_type": "stream",
       "stream": "stdout",
       "text": [
        "\r"
       ]
      },
      {
       "output_type": "stream",
       "stream": "stdout",
       "text": [
        "\r"
       ]
      },
      {
       "output_type": "stream",
       "stream": "stdout",
       "text": [
        "\r"
       ]
      },
      {
       "output_type": "stream",
       "stream": "stdout",
       "text": [
        "\r"
       ]
      },
      {
       "output_type": "stream",
       "stream": "stdout",
       "text": [
        "\r"
       ]
      },
      {
       "output_type": "stream",
       "stream": "stdout",
       "text": [
        "\r"
       ]
      },
      {
       "output_type": "stream",
       "stream": "stdout",
       "text": [
        "\r"
       ]
      },
      {
       "output_type": "stream",
       "stream": "stdout",
       "text": [
        "\r"
       ]
      },
      {
       "output_type": "stream",
       "stream": "stdout",
       "text": [
        "\r"
       ]
      },
      {
       "output_type": "stream",
       "stream": "stdout",
       "text": [
        "\r"
       ]
      },
      {
       "output_type": "stream",
       "stream": "stdout",
       "text": [
        "\r"
       ]
      },
      {
       "output_type": "stream",
       "stream": "stdout",
       "text": [
        "\r"
       ]
      },
      {
       "output_type": "stream",
       "stream": "stdout",
       "text": [
        "\r"
       ]
      },
      {
       "output_type": "stream",
       "stream": "stdout",
       "text": [
        "\r"
       ]
      },
      {
       "output_type": "stream",
       "stream": "stdout",
       "text": [
        "\r"
       ]
      },
      {
       "output_type": "stream",
       "stream": "stdout",
       "text": [
        "\r"
       ]
      },
      {
       "output_type": "stream",
       "stream": "stdout",
       "text": [
        "\r"
       ]
      },
      {
       "output_type": "stream",
       "stream": "stdout",
       "text": [
        "\r"
       ]
      },
      {
       "output_type": "stream",
       "stream": "stdout",
       "text": [
        "\r"
       ]
      },
      {
       "output_type": "stream",
       "stream": "stdout",
       "text": [
        "\r"
       ]
      },
      {
       "output_type": "stream",
       "stream": "stdout",
       "text": [
        "\r"
       ]
      },
      {
       "output_type": "stream",
       "stream": "stdout",
       "text": [
        "\r"
       ]
      },
      {
       "output_type": "stream",
       "stream": "stdout",
       "text": [
        "\r"
       ]
      },
      {
       "output_type": "stream",
       "stream": "stdout",
       "text": [
        "\r"
       ]
      },
      {
       "output_type": "stream",
       "stream": "stdout",
       "text": [
        "\r"
       ]
      },
      {
       "output_type": "stream",
       "stream": "stdout",
       "text": [
        "\r"
       ]
      },
      {
       "output_type": "stream",
       "stream": "stdout",
       "text": [
        "\r"
       ]
      },
      {
       "output_type": "stream",
       "stream": "stdout",
       "text": [
        "\r"
       ]
      },
      {
       "output_type": "stream",
       "stream": "stdout",
       "text": [
        "\r"
       ]
      },
      {
       "output_type": "stream",
       "stream": "stdout",
       "text": [
        "\r"
       ]
      },
      {
       "output_type": "stream",
       "stream": "stdout",
       "text": [
        "\r"
       ]
      },
      {
       "output_type": "stream",
       "stream": "stdout",
       "text": [
        "\r"
       ]
      },
      {
       "output_type": "stream",
       "stream": "stdout",
       "text": [
        "\r"
       ]
      },
      {
       "output_type": "stream",
       "stream": "stdout",
       "text": [
        "\r"
       ]
      },
      {
       "output_type": "stream",
       "stream": "stdout",
       "text": [
        "\r"
       ]
      },
      {
       "output_type": "stream",
       "stream": "stdout",
       "text": [
        "\r"
       ]
      },
      {
       "output_type": "stream",
       "stream": "stdout",
       "text": [
        "\r"
       ]
      },
      {
       "output_type": "stream",
       "stream": "stdout",
       "text": [
        "\r"
       ]
      },
      {
       "output_type": "stream",
       "stream": "stdout",
       "text": [
        "\r"
       ]
      },
      {
       "output_type": "stream",
       "stream": "stdout",
       "text": [
        "\r"
       ]
      },
      {
       "output_type": "stream",
       "stream": "stdout",
       "text": [
        "\r"
       ]
      },
      {
       "output_type": "stream",
       "stream": "stdout",
       "text": [
        "\r"
       ]
      },
      {
       "output_type": "stream",
       "stream": "stdout",
       "text": [
        "\r"
       ]
      },
      {
       "output_type": "stream",
       "stream": "stdout",
       "text": [
        "\r"
       ]
      },
      {
       "output_type": "stream",
       "stream": "stdout",
       "text": [
        "\r"
       ]
      },
      {
       "output_type": "stream",
       "stream": "stdout",
       "text": [
        "\r"
       ]
      },
      {
       "output_type": "stream",
       "stream": "stdout",
       "text": [
        "\r"
       ]
      },
      {
       "output_type": "stream",
       "stream": "stdout",
       "text": [
        "\r"
       ]
      },
      {
       "output_type": "stream",
       "stream": "stdout",
       "text": [
        "\r"
       ]
      },
      {
       "output_type": "stream",
       "stream": "stdout",
       "text": [
        "\r"
       ]
      },
      {
       "output_type": "stream",
       "stream": "stdout",
       "text": [
        "\r"
       ]
      },
      {
       "output_type": "stream",
       "stream": "stdout",
       "text": [
        "\r"
       ]
      },
      {
       "output_type": "stream",
       "stream": "stdout",
       "text": [
        "\r"
       ]
      },
      {
       "output_type": "stream",
       "stream": "stdout",
       "text": [
        "\r"
       ]
      },
      {
       "output_type": "stream",
       "stream": "stdout",
       "text": [
        "\r"
       ]
      },
      {
       "output_type": "stream",
       "stream": "stdout",
       "text": [
        "\r"
       ]
      },
      {
       "output_type": "stream",
       "stream": "stdout",
       "text": [
        "\r"
       ]
      },
      {
       "output_type": "stream",
       "stream": "stdout",
       "text": [
        "\r"
       ]
      },
      {
       "output_type": "stream",
       "stream": "stdout",
       "text": [
        "\r"
       ]
      },
      {
       "output_type": "stream",
       "stream": "stdout",
       "text": [
        "\r"
       ]
      },
      {
       "output_type": "stream",
       "stream": "stdout",
       "text": [
        "\r"
       ]
      },
      {
       "output_type": "stream",
       "stream": "stdout",
       "text": [
        "\r"
       ]
      },
      {
       "output_type": "stream",
       "stream": "stdout",
       "text": [
        "\r"
       ]
      },
      {
       "output_type": "stream",
       "stream": "stdout",
       "text": [
        "\r"
       ]
      },
      {
       "output_type": "stream",
       "stream": "stdout",
       "text": [
        "\r"
       ]
      },
      {
       "output_type": "stream",
       "stream": "stdout",
       "text": [
        "\r"
       ]
      },
      {
       "output_type": "stream",
       "stream": "stdout",
       "text": [
        "\r"
       ]
      },
      {
       "output_type": "stream",
       "stream": "stdout",
       "text": [
        "\r"
       ]
      },
      {
       "output_type": "stream",
       "stream": "stdout",
       "text": [
        "\r"
       ]
      },
      {
       "output_type": "stream",
       "stream": "stdout",
       "text": [
        "\r"
       ]
      },
      {
       "output_type": "stream",
       "stream": "stdout",
       "text": [
        "\r"
       ]
      },
      {
       "output_type": "stream",
       "stream": "stdout",
       "text": [
        "\r"
       ]
      },
      {
       "output_type": "stream",
       "stream": "stdout",
       "text": [
        "\r"
       ]
      },
      {
       "output_type": "stream",
       "stream": "stdout",
       "text": [
        "\r"
       ]
      },
      {
       "output_type": "stream",
       "stream": "stdout",
       "text": [
        "\r"
       ]
      },
      {
       "output_type": "stream",
       "stream": "stdout",
       "text": [
        "\r"
       ]
      },
      {
       "output_type": "stream",
       "stream": "stdout",
       "text": [
        "\r"
       ]
      },
      {
       "output_type": "stream",
       "stream": "stdout",
       "text": [
        "\r"
       ]
      },
      {
       "output_type": "stream",
       "stream": "stdout",
       "text": [
        "\r"
       ]
      },
      {
       "output_type": "stream",
       "stream": "stdout",
       "text": [
        "\r"
       ]
      },
      {
       "output_type": "stream",
       "stream": "stdout",
       "text": [
        "\r"
       ]
      },
      {
       "output_type": "stream",
       "stream": "stdout",
       "text": [
        "\r"
       ]
      },
      {
       "output_type": "stream",
       "stream": "stdout",
       "text": [
        "\r"
       ]
      },
      {
       "output_type": "stream",
       "stream": "stdout",
       "text": [
        "\r"
       ]
      },
      {
       "output_type": "stream",
       "stream": "stdout",
       "text": [
        "\r"
       ]
      },
      {
       "output_type": "stream",
       "stream": "stdout",
       "text": [
        "\r"
       ]
      },
      {
       "output_type": "stream",
       "stream": "stdout",
       "text": [
        "\r"
       ]
      },
      {
       "output_type": "stream",
       "stream": "stdout",
       "text": [
        "\r"
       ]
      },
      {
       "output_type": "stream",
       "stream": "stdout",
       "text": [
        "\r"
       ]
      },
      {
       "output_type": "stream",
       "stream": "stdout",
       "text": [
        "\r"
       ]
      },
      {
       "output_type": "stream",
       "stream": "stdout",
       "text": [
        "\r"
       ]
      },
      {
       "output_type": "stream",
       "stream": "stdout",
       "text": [
        "\r"
       ]
      },
      {
       "output_type": "stream",
       "stream": "stdout",
       "text": [
        "\r"
       ]
      },
      {
       "output_type": "stream",
       "stream": "stdout",
       "text": [
        "\r"
       ]
      },
      {
       "output_type": "stream",
       "stream": "stdout",
       "text": [
        "\r"
       ]
      },
      {
       "output_type": "stream",
       "stream": "stdout",
       "text": [
        "\r",
        "name : WhatsApp Messenger count : 1\n"
       ]
      },
      {
       "output_type": "stream",
       "stream": "stdout",
       "text": [
        "\r"
       ]
      },
      {
       "output_type": "stream",
       "stream": "stdout",
       "text": [
        "\r"
       ]
      },
      {
       "output_type": "stream",
       "stream": "stdout",
       "text": [
        "\r"
       ]
      },
      {
       "output_type": "stream",
       "stream": "stdout",
       "text": [
        "\r"
       ]
      },
      {
       "output_type": "stream",
       "stream": "stdout",
       "text": [
        "\r"
       ]
      },
      {
       "output_type": "stream",
       "stream": "stdout",
       "text": [
        "\r"
       ]
      },
      {
       "output_type": "stream",
       "stream": "stdout",
       "text": [
        "\r"
       ]
      },
      {
       "output_type": "stream",
       "stream": "stdout",
       "text": [
        "\r"
       ]
      },
      {
       "output_type": "stream",
       "stream": "stdout",
       "text": [
        "\r"
       ]
      },
      {
       "output_type": "stream",
       "stream": "stdout",
       "text": [
        "\r"
       ]
      },
      {
       "output_type": "stream",
       "stream": "stdout",
       "text": [
        "\r"
       ]
      },
      {
       "output_type": "stream",
       "stream": "stdout",
       "text": [
        "\r"
       ]
      },
      {
       "output_type": "stream",
       "stream": "stdout",
       "text": [
        "\r"
       ]
      },
      {
       "output_type": "stream",
       "stream": "stdout",
       "text": [
        "\r"
       ]
      },
      {
       "output_type": "stream",
       "stream": "stdout",
       "text": [
        "\r"
       ]
      },
      {
       "output_type": "stream",
       "stream": "stdout",
       "text": [
        "\r"
       ]
      },
      {
       "output_type": "stream",
       "stream": "stdout",
       "text": [
        "\r"
       ]
      },
      {
       "output_type": "stream",
       "stream": "stdout",
       "text": [
        "\r"
       ]
      },
      {
       "output_type": "stream",
       "stream": "stdout",
       "text": [
        "\r"
       ]
      },
      {
       "output_type": "stream",
       "stream": "stdout",
       "text": [
        "\r"
       ]
      },
      {
       "output_type": "stream",
       "stream": "stdout",
       "text": [
        "\r"
       ]
      },
      {
       "output_type": "stream",
       "stream": "stdout",
       "text": [
        "\r"
       ]
      },
      {
       "output_type": "stream",
       "stream": "stdout",
       "text": [
        "\r"
       ]
      },
      {
       "output_type": "stream",
       "stream": "stdout",
       "text": [
        "\r"
       ]
      },
      {
       "output_type": "stream",
       "stream": "stdout",
       "text": [
        "\r"
       ]
      },
      {
       "output_type": "stream",
       "stream": "stdout",
       "text": [
        "\r"
       ]
      },
      {
       "output_type": "stream",
       "stream": "stdout",
       "text": [
        "\r"
       ]
      },
      {
       "output_type": "stream",
       "stream": "stdout",
       "text": [
        "\r"
       ]
      },
      {
       "output_type": "stream",
       "stream": "stdout",
       "text": [
        "\r"
       ]
      },
      {
       "output_type": "stream",
       "stream": "stdout",
       "text": [
        "\r"
       ]
      },
      {
       "output_type": "stream",
       "stream": "stdout",
       "text": [
        "\r"
       ]
      },
      {
       "output_type": "stream",
       "stream": "stdout",
       "text": [
        "\r"
       ]
      },
      {
       "output_type": "stream",
       "stream": "stdout",
       "text": [
        "\r"
       ]
      },
      {
       "output_type": "stream",
       "stream": "stdout",
       "text": [
        "\r"
       ]
      },
      {
       "output_type": "stream",
       "stream": "stdout",
       "text": [
        "\r"
       ]
      },
      {
       "output_type": "stream",
       "stream": "stdout",
       "text": [
        "\r"
       ]
      },
      {
       "output_type": "stream",
       "stream": "stdout",
       "text": [
        "\r"
       ]
      },
      {
       "output_type": "stream",
       "stream": "stdout",
       "text": [
        "\r"
       ]
      },
      {
       "output_type": "stream",
       "stream": "stdout",
       "text": [
        "\r"
       ]
      },
      {
       "output_type": "stream",
       "stream": "stdout",
       "text": [
        "\r"
       ]
      },
      {
       "output_type": "stream",
       "stream": "stdout",
       "text": [
        "\r"
       ]
      },
      {
       "output_type": "stream",
       "stream": "stdout",
       "text": [
        "\r"
       ]
      },
      {
       "output_type": "stream",
       "stream": "stdout",
       "text": [
        "\r"
       ]
      },
      {
       "output_type": "stream",
       "stream": "stdout",
       "text": [
        "\r"
       ]
      },
      {
       "output_type": "stream",
       "stream": "stdout",
       "text": [
        "\r"
       ]
      },
      {
       "output_type": "stream",
       "stream": "stdout",
       "text": [
        "\r"
       ]
      },
      {
       "output_type": "stream",
       "stream": "stdout",
       "text": [
        "\r"
       ]
      },
      {
       "output_type": "stream",
       "stream": "stdout",
       "text": [
        "\r"
       ]
      },
      {
       "output_type": "stream",
       "stream": "stdout",
       "text": [
        "\r"
       ]
      },
      {
       "output_type": "stream",
       "stream": "stdout",
       "text": [
        "\r"
       ]
      },
      {
       "output_type": "stream",
       "stream": "stdout",
       "text": [
        "\r"
       ]
      },
      {
       "output_type": "stream",
       "stream": "stdout",
       "text": [
        "\r"
       ]
      },
      {
       "output_type": "stream",
       "stream": "stdout",
       "text": [
        "\r"
       ]
      },
      {
       "output_type": "stream",
       "stream": "stdout",
       "text": [
        "\r"
       ]
      },
      {
       "output_type": "stream",
       "stream": "stdout",
       "text": [
        "\r"
       ]
      },
      {
       "output_type": "stream",
       "stream": "stdout",
       "text": [
        "\r"
       ]
      },
      {
       "output_type": "stream",
       "stream": "stdout",
       "text": [
        "\r"
       ]
      },
      {
       "output_type": "stream",
       "stream": "stdout",
       "text": [
        "\r"
       ]
      },
      {
       "output_type": "stream",
       "stream": "stdout",
       "text": [
        "\r"
       ]
      },
      {
       "output_type": "stream",
       "stream": "stdout",
       "text": [
        "\r"
       ]
      },
      {
       "output_type": "stream",
       "stream": "stdout",
       "text": [
        "\r"
       ]
      },
      {
       "output_type": "stream",
       "stream": "stdout",
       "text": [
        "\r"
       ]
      },
      {
       "output_type": "stream",
       "stream": "stdout",
       "text": [
        "\r"
       ]
      },
      {
       "output_type": "stream",
       "stream": "stdout",
       "text": [
        "\r"
       ]
      },
      {
       "output_type": "stream",
       "stream": "stdout",
       "text": [
        "\r"
       ]
      },
      {
       "output_type": "stream",
       "stream": "stdout",
       "text": [
        "\r"
       ]
      },
      {
       "output_type": "stream",
       "stream": "stdout",
       "text": [
        "\r"
       ]
      },
      {
       "output_type": "stream",
       "stream": "stdout",
       "text": [
        "\r"
       ]
      },
      {
       "output_type": "stream",
       "stream": "stdout",
       "text": [
        "\r"
       ]
      },
      {
       "output_type": "stream",
       "stream": "stdout",
       "text": [
        "\r"
       ]
      },
      {
       "output_type": "stream",
       "stream": "stdout",
       "text": [
        "\r"
       ]
      },
      {
       "output_type": "stream",
       "stream": "stdout",
       "text": [
        "\r"
       ]
      },
      {
       "output_type": "stream",
       "stream": "stdout",
       "text": [
        "\r"
       ]
      },
      {
       "output_type": "stream",
       "stream": "stdout",
       "text": [
        "\r"
       ]
      },
      {
       "output_type": "stream",
       "stream": "stdout",
       "text": [
        "\r"
       ]
      },
      {
       "output_type": "stream",
       "stream": "stdout",
       "text": [
        "\r"
       ]
      },
      {
       "output_type": "stream",
       "stream": "stdout",
       "text": [
        "\r"
       ]
      },
      {
       "output_type": "stream",
       "stream": "stdout",
       "text": [
        "\r"
       ]
      },
      {
       "output_type": "stream",
       "stream": "stdout",
       "text": [
        "\r"
       ]
      },
      {
       "output_type": "stream",
       "stream": "stdout",
       "text": [
        "\r"
       ]
      },
      {
       "output_type": "stream",
       "stream": "stdout",
       "text": [
        "\r"
       ]
      },
      {
       "output_type": "stream",
       "stream": "stdout",
       "text": [
        "\r"
       ]
      },
      {
       "output_type": "stream",
       "stream": "stdout",
       "text": [
        "\r"
       ]
      },
      {
       "output_type": "stream",
       "stream": "stdout",
       "text": [
        "\r"
       ]
      },
      {
       "output_type": "stream",
       "stream": "stdout",
       "text": [
        "\r"
       ]
      },
      {
       "output_type": "stream",
       "stream": "stdout",
       "text": [
        "\r"
       ]
      },
      {
       "output_type": "stream",
       "stream": "stdout",
       "text": [
        "\r"
       ]
      },
      {
       "output_type": "stream",
       "stream": "stdout",
       "text": [
        "\r"
       ]
      },
      {
       "output_type": "stream",
       "stream": "stdout",
       "text": [
        "\r"
       ]
      },
      {
       "output_type": "stream",
       "stream": "stdout",
       "text": [
        "\r"
       ]
      },
      {
       "output_type": "stream",
       "stream": "stdout",
       "text": [
        "\r"
       ]
      },
      {
       "output_type": "stream",
       "stream": "stdout",
       "text": [
        "\r"
       ]
      },
      {
       "output_type": "stream",
       "stream": "stdout",
       "text": [
        "\r"
       ]
      },
      {
       "output_type": "stream",
       "stream": "stdout",
       "text": [
        "\r"
       ]
      },
      {
       "output_type": "stream",
       "stream": "stdout",
       "text": [
        "\r"
       ]
      },
      {
       "output_type": "stream",
       "stream": "stdout",
       "text": [
        "\r"
       ]
      },
      {
       "output_type": "stream",
       "stream": "stdout",
       "text": [
        "\r"
       ]
      },
      {
       "output_type": "stream",
       "stream": "stdout",
       "text": [
        "\r"
       ]
      },
      {
       "output_type": "stream",
       "stream": "stdout",
       "text": [
        "\r"
       ]
      },
      {
       "output_type": "stream",
       "stream": "stdout",
       "text": [
        "\r"
       ]
      },
      {
       "output_type": "stream",
       "stream": "stdout",
       "text": [
        "\r"
       ]
      },
      {
       "output_type": "stream",
       "stream": "stdout",
       "text": [
        "\r"
       ]
      },
      {
       "output_type": "stream",
       "stream": "stdout",
       "text": [
        "\r"
       ]
      },
      {
       "output_type": "stream",
       "stream": "stdout",
       "text": [
        "\r"
       ]
      },
      {
       "output_type": "stream",
       "stream": "stdout",
       "text": [
        "\r"
       ]
      },
      {
       "output_type": "stream",
       "stream": "stdout",
       "text": [
        "\r"
       ]
      },
      {
       "output_type": "stream",
       "stream": "stdout",
       "text": [
        "\r"
       ]
      },
      {
       "output_type": "stream",
       "stream": "stdout",
       "text": [
        "\r"
       ]
      },
      {
       "output_type": "stream",
       "stream": "stdout",
       "text": [
        "\r"
       ]
      },
      {
       "output_type": "stream",
       "stream": "stdout",
       "text": [
        "\r"
       ]
      },
      {
       "output_type": "stream",
       "stream": "stdout",
       "text": [
        "\r"
       ]
      },
      {
       "output_type": "stream",
       "stream": "stdout",
       "text": [
        "\r"
       ]
      },
      {
       "output_type": "stream",
       "stream": "stdout",
       "text": [
        "\r"
       ]
      },
      {
       "output_type": "stream",
       "stream": "stdout",
       "text": [
        "\r"
       ]
      },
      {
       "output_type": "stream",
       "stream": "stdout",
       "text": [
        "\r"
       ]
      },
      {
       "output_type": "stream",
       "stream": "stdout",
       "text": [
        "\r"
       ]
      },
      {
       "output_type": "stream",
       "stream": "stdout",
       "text": [
        "\r"
       ]
      },
      {
       "output_type": "stream",
       "stream": "stdout",
       "text": [
        "\r"
       ]
      },
      {
       "output_type": "stream",
       "stream": "stdout",
       "text": [
        "\r"
       ]
      },
      {
       "output_type": "stream",
       "stream": "stdout",
       "text": [
        "\r"
       ]
      },
      {
       "output_type": "stream",
       "stream": "stdout",
       "text": [
        "\r"
       ]
      },
      {
       "output_type": "stream",
       "stream": "stdout",
       "text": [
        "\r"
       ]
      },
      {
       "output_type": "stream",
       "stream": "stdout",
       "text": [
        "\r"
       ]
      },
      {
       "output_type": "stream",
       "stream": "stdout",
       "text": [
        "\r"
       ]
      },
      {
       "output_type": "stream",
       "stream": "stdout",
       "text": [
        "\r"
       ]
      },
      {
       "output_type": "stream",
       "stream": "stdout",
       "text": [
        "\r"
       ]
      },
      {
       "output_type": "stream",
       "stream": "stdout",
       "text": [
        "\r"
       ]
      },
      {
       "output_type": "stream",
       "stream": "stdout",
       "text": [
        "\r"
       ]
      },
      {
       "output_type": "stream",
       "stream": "stdout",
       "text": [
        "\r"
       ]
      },
      {
       "output_type": "stream",
       "stream": "stdout",
       "text": [
        "\r"
       ]
      },
      {
       "output_type": "stream",
       "stream": "stdout",
       "text": [
        "\r"
       ]
      },
      {
       "output_type": "stream",
       "stream": "stdout",
       "text": [
        "\r"
       ]
      },
      {
       "output_type": "stream",
       "stream": "stdout",
       "text": [
        "\r"
       ]
      },
      {
       "output_type": "stream",
       "stream": "stdout",
       "text": [
        "\r"
       ]
      },
      {
       "output_type": "stream",
       "stream": "stdout",
       "text": [
        "\r"
       ]
      },
      {
       "output_type": "stream",
       "stream": "stdout",
       "text": [
        "\r",
        "name : \ub4dc\ub798\uace4 \ud50c\ub77c\uc774\ud2b8 for Kakao count : 2\n"
       ]
      },
      {
       "output_type": "stream",
       "stream": "stdout",
       "text": [
        "\r"
       ]
      },
      {
       "output_type": "stream",
       "stream": "stdout",
       "text": [
        "\r"
       ]
      },
      {
       "output_type": "stream",
       "stream": "stdout",
       "text": [
        "\r"
       ]
      },
      {
       "output_type": "stream",
       "stream": "stdout",
       "text": [
        "\r"
       ]
      },
      {
       "output_type": "stream",
       "stream": "stdout",
       "text": [
        "\r"
       ]
      },
      {
       "output_type": "stream",
       "stream": "stdout",
       "text": [
        "\r"
       ]
      },
      {
       "output_type": "stream",
       "stream": "stdout",
       "text": [
        "\r"
       ]
      },
      {
       "output_type": "stream",
       "stream": "stdout",
       "text": [
        "\r"
       ]
      },
      {
       "output_type": "stream",
       "stream": "stdout",
       "text": [
        "\r"
       ]
      },
      {
       "output_type": "stream",
       "stream": "stdout",
       "text": [
        "\r"
       ]
      },
      {
       "output_type": "stream",
       "stream": "stdout",
       "text": [
        "\r"
       ]
      },
      {
       "output_type": "stream",
       "stream": "stdout",
       "text": [
        "\r"
       ]
      },
      {
       "output_type": "stream",
       "stream": "stdout",
       "text": [
        "\r"
       ]
      },
      {
       "output_type": "stream",
       "stream": "stdout",
       "text": [
        "\r"
       ]
      },
      {
       "output_type": "stream",
       "stream": "stdout",
       "text": [
        "\r"
       ]
      },
      {
       "output_type": "stream",
       "stream": "stdout",
       "text": [
        "\r"
       ]
      },
      {
       "output_type": "stream",
       "stream": "stdout",
       "text": [
        "\r"
       ]
      },
      {
       "output_type": "stream",
       "stream": "stdout",
       "text": [
        "\r"
       ]
      },
      {
       "output_type": "stream",
       "stream": "stdout",
       "text": [
        "\r"
       ]
      },
      {
       "output_type": "stream",
       "stream": "stdout",
       "text": [
        "\r"
       ]
      },
      {
       "output_type": "stream",
       "stream": "stdout",
       "text": [
        "\r"
       ]
      },
      {
       "output_type": "stream",
       "stream": "stdout",
       "text": [
        "\r"
       ]
      },
      {
       "output_type": "stream",
       "stream": "stdout",
       "text": [
        "\r"
       ]
      },
      {
       "output_type": "stream",
       "stream": "stdout",
       "text": [
        "\r"
       ]
      },
      {
       "output_type": "stream",
       "stream": "stdout",
       "text": [
        "\r"
       ]
      },
      {
       "output_type": "stream",
       "stream": "stdout",
       "text": [
        "\r"
       ]
      },
      {
       "output_type": "stream",
       "stream": "stdout",
       "text": [
        "\r"
       ]
      },
      {
       "output_type": "stream",
       "stream": "stdout",
       "text": [
        "\r"
       ]
      },
      {
       "output_type": "stream",
       "stream": "stdout",
       "text": [
        "\r"
       ]
      },
      {
       "output_type": "stream",
       "stream": "stdout",
       "text": [
        "\r"
       ]
      },
      {
       "output_type": "stream",
       "stream": "stdout",
       "text": [
        "\r"
       ]
      },
      {
       "output_type": "stream",
       "stream": "stdout",
       "text": [
        "\r"
       ]
      },
      {
       "output_type": "stream",
       "stream": "stdout",
       "text": [
        "\r"
       ]
      },
      {
       "output_type": "stream",
       "stream": "stdout",
       "text": [
        "\r"
       ]
      },
      {
       "output_type": "stream",
       "stream": "stdout",
       "text": [
        "\r"
       ]
      },
      {
       "output_type": "stream",
       "stream": "stdout",
       "text": [
        "\r"
       ]
      },
      {
       "output_type": "stream",
       "stream": "stdout",
       "text": [
        "\r"
       ]
      },
      {
       "output_type": "stream",
       "stream": "stdout",
       "text": [
        "\r"
       ]
      },
      {
       "output_type": "stream",
       "stream": "stdout",
       "text": [
        "\r"
       ]
      },
      {
       "output_type": "stream",
       "stream": "stdout",
       "text": [
        "\r"
       ]
      },
      {
       "output_type": "stream",
       "stream": "stdout",
       "text": [
        "\r"
       ]
      },
      {
       "output_type": "stream",
       "stream": "stdout",
       "text": [
        "\r"
       ]
      },
      {
       "output_type": "stream",
       "stream": "stdout",
       "text": [
        "\r"
       ]
      },
      {
       "output_type": "stream",
       "stream": "stdout",
       "text": [
        "\r"
       ]
      },
      {
       "output_type": "stream",
       "stream": "stdout",
       "text": [
        "\r"
       ]
      },
      {
       "output_type": "stream",
       "stream": "stdout",
       "text": [
        "\r"
       ]
      },
      {
       "output_type": "stream",
       "stream": "stdout",
       "text": [
        "\r"
       ]
      },
      {
       "output_type": "stream",
       "stream": "stdout",
       "text": [
        "\r"
       ]
      },
      {
       "output_type": "stream",
       "stream": "stdout",
       "text": [
        "\r"
       ]
      },
      {
       "output_type": "stream",
       "stream": "stdout",
       "text": [
        "\r"
       ]
      },
      {
       "output_type": "stream",
       "stream": "stdout",
       "text": [
        "\r"
       ]
      },
      {
       "output_type": "stream",
       "stream": "stdout",
       "text": [
        "\r"
       ]
      },
      {
       "output_type": "stream",
       "stream": "stdout",
       "text": [
        "\r"
       ]
      },
      {
       "output_type": "stream",
       "stream": "stdout",
       "text": [
        "\r"
       ]
      },
      {
       "output_type": "stream",
       "stream": "stdout",
       "text": [
        "\r"
       ]
      },
      {
       "output_type": "stream",
       "stream": "stdout",
       "text": [
        "\r"
       ]
      },
      {
       "output_type": "stream",
       "stream": "stdout",
       "text": [
        "\r"
       ]
      },
      {
       "output_type": "stream",
       "stream": "stdout",
       "text": [
        "\r"
       ]
      },
      {
       "output_type": "stream",
       "stream": "stdout",
       "text": [
        "\r"
       ]
      },
      {
       "output_type": "stream",
       "stream": "stdout",
       "text": [
        "\r"
       ]
      },
      {
       "output_type": "stream",
       "stream": "stdout",
       "text": [
        "\r"
       ]
      },
      {
       "output_type": "stream",
       "stream": "stdout",
       "text": [
        "\r"
       ]
      },
      {
       "output_type": "stream",
       "stream": "stdout",
       "text": [
        "\r"
       ]
      },
      {
       "output_type": "stream",
       "stream": "stdout",
       "text": [
        "\r"
       ]
      },
      {
       "output_type": "stream",
       "stream": "stdout",
       "text": [
        "\r"
       ]
      },
      {
       "output_type": "stream",
       "stream": "stdout",
       "text": [
        "\r"
       ]
      },
      {
       "output_type": "stream",
       "stream": "stdout",
       "text": [
        "\r"
       ]
      },
      {
       "output_type": "stream",
       "stream": "stdout",
       "text": [
        "\r"
       ]
      },
      {
       "output_type": "stream",
       "stream": "stdout",
       "text": [
        "\r"
       ]
      },
      {
       "output_type": "stream",
       "stream": "stdout",
       "text": [
        "\r"
       ]
      },
      {
       "output_type": "stream",
       "stream": "stdout",
       "text": [
        "\r"
       ]
      },
      {
       "output_type": "stream",
       "stream": "stdout",
       "text": [
        "\r"
       ]
      },
      {
       "output_type": "stream",
       "stream": "stdout",
       "text": [
        "\r"
       ]
      },
      {
       "output_type": "stream",
       "stream": "stdout",
       "text": [
        "\r"
       ]
      },
      {
       "output_type": "stream",
       "stream": "stdout",
       "text": [
        "\r"
       ]
      },
      {
       "output_type": "stream",
       "stream": "stdout",
       "text": [
        "\r"
       ]
      },
      {
       "output_type": "stream",
       "stream": "stdout",
       "text": [
        "\r"
       ]
      },
      {
       "output_type": "stream",
       "stream": "stdout",
       "text": [
        "\r"
       ]
      },
      {
       "output_type": "stream",
       "stream": "stdout",
       "text": [
        "\r"
       ]
      },
      {
       "output_type": "stream",
       "stream": "stdout",
       "text": [
        "\r"
       ]
      },
      {
       "output_type": "stream",
       "stream": "stdout",
       "text": [
        "\r"
       ]
      },
      {
       "output_type": "stream",
       "stream": "stdout",
       "text": [
        "\r"
       ]
      },
      {
       "output_type": "stream",
       "stream": "stdout",
       "text": [
        "\r"
       ]
      },
      {
       "output_type": "stream",
       "stream": "stdout",
       "text": [
        "\r"
       ]
      },
      {
       "output_type": "stream",
       "stream": "stdout",
       "text": [
        "\r"
       ]
      },
      {
       "output_type": "stream",
       "stream": "stdout",
       "text": [
        "\r"
       ]
      },
      {
       "output_type": "stream",
       "stream": "stdout",
       "text": [
        "\r"
       ]
      },
      {
       "output_type": "stream",
       "stream": "stdout",
       "text": [
        "\r"
       ]
      },
      {
       "output_type": "stream",
       "stream": "stdout",
       "text": [
        "\r"
       ]
      },
      {
       "output_type": "stream",
       "stream": "stdout",
       "text": [
        "\r"
       ]
      },
      {
       "output_type": "stream",
       "stream": "stdout",
       "text": [
        "\r"
       ]
      },
      {
       "output_type": "stream",
       "stream": "stdout",
       "text": [
        "\r"
       ]
      },
      {
       "output_type": "stream",
       "stream": "stdout",
       "text": [
        "\r"
       ]
      },
      {
       "output_type": "stream",
       "stream": "stdout",
       "text": [
        "\r"
       ]
      },
      {
       "output_type": "stream",
       "stream": "stdout",
       "text": [
        "\r"
       ]
      },
      {
       "output_type": "stream",
       "stream": "stdout",
       "text": [
        "\r"
       ]
      },
      {
       "output_type": "stream",
       "stream": "stdout",
       "text": [
        "\r"
       ]
      },
      {
       "output_type": "stream",
       "stream": "stdout",
       "text": [
        "\r"
       ]
      },
      {
       "output_type": "stream",
       "stream": "stdout",
       "text": [
        "\r"
       ]
      },
      {
       "output_type": "stream",
       "stream": "stdout",
       "text": [
        "\r"
       ]
      },
      {
       "output_type": "stream",
       "stream": "stdout",
       "text": [
        "\r"
       ]
      },
      {
       "output_type": "stream",
       "stream": "stdout",
       "text": [
        "\r"
       ]
      },
      {
       "output_type": "stream",
       "stream": "stdout",
       "text": [
        "\r"
       ]
      },
      {
       "output_type": "stream",
       "stream": "stdout",
       "text": [
        "\r"
       ]
      },
      {
       "output_type": "stream",
       "stream": "stdout",
       "text": [
        "\r"
       ]
      },
      {
       "output_type": "stream",
       "stream": "stdout",
       "text": [
        "\r"
       ]
      },
      {
       "output_type": "stream",
       "stream": "stdout",
       "text": [
        "\r"
       ]
      },
      {
       "output_type": "stream",
       "stream": "stdout",
       "text": [
        "\r"
       ]
      },
      {
       "output_type": "stream",
       "stream": "stdout",
       "text": [
        "\r"
       ]
      },
      {
       "output_type": "stream",
       "stream": "stdout",
       "text": [
        "\r"
       ]
      },
      {
       "output_type": "stream",
       "stream": "stdout",
       "text": [
        "\r"
       ]
      },
      {
       "output_type": "stream",
       "stream": "stdout",
       "text": [
        "\r"
       ]
      },
      {
       "output_type": "stream",
       "stream": "stdout",
       "text": [
        "\r"
       ]
      },
      {
       "output_type": "stream",
       "stream": "stdout",
       "text": [
        "\r"
       ]
      },
      {
       "output_type": "stream",
       "stream": "stdout",
       "text": [
        "\r"
       ]
      },
      {
       "output_type": "stream",
       "stream": "stdout",
       "text": [
        "\r"
       ]
      },
      {
       "output_type": "stream",
       "stream": "stdout",
       "text": [
        "\r"
       ]
      },
      {
       "output_type": "stream",
       "stream": "stdout",
       "text": [
        "\r"
       ]
      },
      {
       "output_type": "stream",
       "stream": "stdout",
       "text": [
        "\r"
       ]
      },
      {
       "output_type": "stream",
       "stream": "stdout",
       "text": [
        "\r"
       ]
      },
      {
       "output_type": "stream",
       "stream": "stdout",
       "text": [
        "\r"
       ]
      },
      {
       "output_type": "stream",
       "stream": "stdout",
       "text": [
        "\r"
       ]
      },
      {
       "output_type": "stream",
       "stream": "stdout",
       "text": [
        "\r"
       ]
      },
      {
       "output_type": "stream",
       "stream": "stdout",
       "text": [
        "\r"
       ]
      },
      {
       "output_type": "stream",
       "stream": "stdout",
       "text": [
        "\r"
       ]
      },
      {
       "output_type": "stream",
       "stream": "stdout",
       "text": [
        "\r"
       ]
      },
      {
       "output_type": "stream",
       "stream": "stdout",
       "text": [
        "\r"
       ]
      },
      {
       "output_type": "stream",
       "stream": "stdout",
       "text": [
        "\r"
       ]
      },
      {
       "output_type": "stream",
       "stream": "stdout",
       "text": [
        "\r"
       ]
      },
      {
       "output_type": "stream",
       "stream": "stdout",
       "text": [
        "\r"
       ]
      },
      {
       "output_type": "stream",
       "stream": "stdout",
       "text": [
        "\r"
       ]
      },
      {
       "output_type": "stream",
       "stream": "stdout",
       "text": [
        "\r"
       ]
      },
      {
       "output_type": "stream",
       "stream": "stdout",
       "text": [
        "\r"
       ]
      },
      {
       "output_type": "stream",
       "stream": "stdout",
       "text": [
        "\r"
       ]
      },
      {
       "output_type": "stream",
       "stream": "stdout",
       "text": [
        "\r"
       ]
      },
      {
       "output_type": "stream",
       "stream": "stdout",
       "text": [
        "\r"
       ]
      }
     ],
     "prompt_number": 35
    },
    {
     "cell_type": "code",
     "collapsed": false,
     "input": [
      "for i in n_sort_appname[:1]:\n",
      "    for key in keywords:\n",
      "        print key, DatabaseManager.get_app_keyword_pmi(i, key)"
     ],
     "language": "python",
     "metadata": {},
     "outputs": [
      {
       "output_type": "stream",
       "stream": "stdout",
       "text": [
        " \"\ud37c\uc990\" -0.801660213221\n",
        "\"\uce90\uc8fc\uc5bc\" -0.539161918087\n",
        "\"\uc544\ucf00\uc774\ub4dc\" -0.926736757952\n",
        "\"\uacf5\ub7b5\" -0.0406486779792\n",
        "\"\ub808\uc774\uc2f1\" -0.617284395188\n",
        "\"RPG\" "
       ]
      },
      {
       "output_type": "stream",
       "stream": "stdout",
       "text": [
        "-0.876012457997\n",
        "\"\uce74\ub4dc\" -0.542491298825\n",
        "\"\uc131\uc778\" 0.0\n",
        "\"\ub514\ud39c\uc2a4\" -1.12837187973\n",
        "\"\ub450\ub1cc\" "
       ]
      },
      {
       "output_type": "stream",
       "stream": "stdout",
       "text": [
        "-0.186606680333\n",
        "\"\uc2dc\ubbac\" 9.0178061273\n",
        "\"\ub2ec\ub9ac\uae30\" -0.262181769353\n",
        "\"\uc288\ud305\" "
       ]
      },
      {
       "output_type": "stream",
       "stream": "stdout",
       "text": [
        "-0.635927882942\n",
        "\"\ucd95\uad6c\" -0.474485957583\n",
        "\"\uacbd\uc601\" "
       ]
      },
      {
       "output_type": "stream",
       "stream": "stdout",
       "text": [
        "-0.128032215679\n",
        "\"\ud0c0\uc774\ucfe4\" -0.430107053348\n",
        "\"\ud0c8\ucd9c\" -0.356335393541\n",
        "\"\ucd94\ub9ac\" "
       ]
      },
      {
       "output_type": "stream",
       "stream": "stdout",
       "text": [
        "-0.0951393659904\n",
        "\"\uc7a5\uae30\" -0.0477231347823\n",
        "\"\ube44\ud589\uae30\" "
       ]
      },
      {
       "output_type": "stream",
       "stream": "stdout",
       "text": [
        "-0.508302563607\n",
        "\"\uc0ac\ucc9c\uc131\" -0.993207590258\n",
        "\"\uc2a4\ud3ec\uce20\" -0.408010715503\n",
        "\"\ub18d\uad6c\" "
       ]
      },
      {
       "output_type": "stream",
       "stream": "stdout",
       "text": [
        "-0.643055238239\n",
        "\"\ub09a\uc2dc\" -0.210848779516\n",
        "\"\uc74c\uc545\" "
       ]
      },
      {
       "output_type": "stream",
       "stream": "stdout",
       "text": [
        "-0.648560466162\n",
        "\"\uce74\ud1a1\" -0.91156221025\n",
        "\"\uace8\ud504\" -0.322627947134\n",
        "\"\ub2f9\uad6c\" "
       ]
      },
      {
       "output_type": "stream",
       "stream": "stdout",
       "text": [
        "-0.464318125763\n",
        "\"\uc57c\uad6c\" -0.699002276794\n",
        "\"\ubcfc\ub9c1\" -0.645828283314\n",
        "\"\ud14c\uc774\uc2a4\" -1.39901504459\n",
        "\"\uc0bc\uad6d\uc9c0\" -0.309777472706\n",
        "\"TCG\" -0.660370775733\n",
        "\"\uc804\uc7c1\" "
       ]
      },
      {
       "output_type": "stream",
       "stream": "stdout",
       "text": [
        "-0.246215234264\n",
        "\"\uac74\uac15\" -0.20869787557\n",
        "\"\uc6b4\ub3d9\" "
       ]
      },
      {
       "output_type": "stream",
       "stream": "stdout",
       "text": [
        "-0.408595930162\n",
        "\"\uad50\uc721\" -0.0543517976616\n",
        "\"\uad50\ud1b5\" "
       ]
      },
      {
       "output_type": "stream",
       "stream": "stdout",
       "text": [
        "-0.17342553749\n",
        "\"\uae08\uc735\" -0.154667511521\n",
        "\"\ub0a0\uc528\" -0.671331164903\n",
        "\"\ub274\uc2a4\" "
       ]
      },
      {
       "output_type": "stream",
       "stream": "stdout",
       "text": [
        "-0.592328184831\n",
        "\"\uc7a1\uc9c0\" -0.67899938062\n",
        "\"\ub370\ucf54\ub808\uc774\uc158\" "
       ]
      },
      {
       "output_type": "stream",
       "stream": "stdout",
       "text": [
        "-0.331454584362\n",
        "\"\ub3c4\uad6c\" -0.514816177177\n",
        "\"\ub3c4\uc11c\" -0.43477549733\n",
        "\"\ucc38\uace0\uc790\ub8cc\" "
       ]
      },
      {
       "output_type": "stream",
       "stream": "stdout",
       "text": [
        "-0.172587195343\n",
        "\"\ub77c\uc774\ube0c\" -0.764867645518\n",
        "\"\ubc30\uacbd\ud654\uba74\" "
       ]
      },
      {
       "output_type": "stream",
       "stream": "stdout",
       "text": [
        "-0.899762507544\n",
        "\"\ub77c\uc774\ube0c\ub7ec\ub9ac\" -1.13756698235\n",
        "\"\ub370\ubaa8\" -0.343580472469\n",
        "\"\ub77c\uc774\ud504\uc2a4\ud0c0\uc77c\" "
       ]
      },
      {
       "ename": "TimeoutError",
       "evalue": "QueuePool limit of size 5 overflow 10 reached, connection timed out, timeout 30",
       "output_type": "pyerr",
       "traceback": [
        "\u001b[0;31m---------------------------------------------------------------------------\u001b[0m\n\u001b[0;31mTimeoutError\u001b[0m                              Traceback (most recent call last)",
        "\u001b[0;32m<ipython-input-37-b2e672b91e0f>\u001b[0m in \u001b[0;36m<module>\u001b[0;34m()\u001b[0m\n\u001b[1;32m      1\u001b[0m \u001b[0;32mfor\u001b[0m \u001b[0mi\u001b[0m \u001b[0;32min\u001b[0m \u001b[0mn_sort_appname\u001b[0m\u001b[0;34m[\u001b[0m\u001b[0;34m:\u001b[0m\u001b[0;36m1\u001b[0m\u001b[0;34m]\u001b[0m\u001b[0;34m:\u001b[0m\u001b[0;34m\u001b[0m\u001b[0m\n\u001b[1;32m      2\u001b[0m     \u001b[0;32mfor\u001b[0m \u001b[0mkey\u001b[0m \u001b[0;32min\u001b[0m \u001b[0mkeywords\u001b[0m\u001b[0;34m:\u001b[0m\u001b[0;34m\u001b[0m\u001b[0m\n\u001b[0;32m----> 3\u001b[0;31m         \u001b[0;32mprint\u001b[0m \u001b[0mkey\u001b[0m\u001b[0;34m,\u001b[0m \u001b[0mDatabaseManager\u001b[0m\u001b[0;34m.\u001b[0m\u001b[0mget_app_keyword_pmi\u001b[0m\u001b[0;34m(\u001b[0m\u001b[0mi\u001b[0m\u001b[0;34m,\u001b[0m \u001b[0mkey\u001b[0m\u001b[0;34m)\u001b[0m\u001b[0;34m\u001b[0m\u001b[0m\n\u001b[0m",
        "\u001b[0;32m<ipython-input-27-4a2384d86b38>\u001b[0m in \u001b[0;36mget_app_keyword_pmi\u001b[0;34m(app_name, keyword)\u001b[0m\n\u001b[1;32m     69\u001b[0m         \u001b[0ms\u001b[0m \u001b[0;34m=\u001b[0m \u001b[0mDatabaseManager\u001b[0m\u001b[0;34m.\u001b[0m\u001b[0m__Session__\u001b[0m\u001b[0;34m(\u001b[0m\u001b[0;34m)\u001b[0m\u001b[0;34m\u001b[0m\u001b[0m\n\u001b[1;32m     70\u001b[0m         \u001b[0mresult\u001b[0m \u001b[0;34m=\u001b[0m \u001b[0ms\u001b[0m\u001b[0;34m.\u001b[0m\u001b[0mquery\u001b[0m\u001b[0;34m(\u001b[0m\u001b[0mDatabaseManager\u001b[0m\u001b[0;34m.\u001b[0m\u001b[0mCache_pmi\u001b[0m\u001b[0;34m)\u001b[0m\u001b[0;34m.\u001b[0m            \u001b[0mfilter\u001b[0m\u001b[0;34m(\u001b[0m\u001b[0mDatabaseManager\u001b[0m\u001b[0;34m.\u001b[0m\u001b[0mCache_pmi\u001b[0m\u001b[0;34m.\u001b[0m\u001b[0mapp_name\u001b[0m\u001b[0;34m==\u001b[0m\u001b[0mapp_name\u001b[0m\u001b[0;34m)\u001b[0m\u001b[0;34m.\u001b[0m            \u001b[0mfilter\u001b[0m\u001b[0;34m(\u001b[0m\u001b[0mDatabaseManager\u001b[0m\u001b[0;34m.\u001b[0m\u001b[0mCache_pmi\u001b[0m\u001b[0;34m.\u001b[0m\u001b[0mkeyword\u001b[0m\u001b[0;34m==\u001b[0m\u001b[0mkeyword\u001b[0m\u001b[0;34m)\u001b[0m\u001b[0;34m\u001b[0m\u001b[0m\n\u001b[0;32m---> 71\u001b[0;31m         \u001b[0;32mif\u001b[0m \u001b[0mresult\u001b[0m\u001b[0;34m.\u001b[0m\u001b[0mcount\u001b[0m\u001b[0;34m(\u001b[0m\u001b[0;34m)\u001b[0m\u001b[0;34m>\u001b[0m\u001b[0;36m0\u001b[0m\u001b[0;34m:\u001b[0m\u001b[0;34m\u001b[0m\u001b[0m\n\u001b[0m\u001b[1;32m     72\u001b[0m             \u001b[0;32mreturn\u001b[0m \u001b[0mresult\u001b[0m\u001b[0;34m[\u001b[0m\u001b[0;36m0\u001b[0m\u001b[0;34m]\u001b[0m\u001b[0;34m.\u001b[0m\u001b[0mpmi\u001b[0m\u001b[0;34m\u001b[0m\u001b[0m\n\u001b[1;32m     73\u001b[0m         \u001b[0;32mreturn\u001b[0m \u001b[0;36m0\u001b[0m\u001b[0;34m\u001b[0m\u001b[0m\n",
        "\u001b[0;32m/Users/jeongmingi/anaconda/python.app/Contents/lib/python2.7/site-packages/sqlalchemy/orm/query.pyc\u001b[0m in \u001b[0;36mcount\u001b[0;34m(self)\u001b[0m\n\u001b[1;32m   2396\u001b[0m         \"\"\"\n\u001b[1;32m   2397\u001b[0m         \u001b[0mcol\u001b[0m \u001b[0;34m=\u001b[0m \u001b[0msql\u001b[0m\u001b[0;34m.\u001b[0m\u001b[0mfunc\u001b[0m\u001b[0;34m.\u001b[0m\u001b[0mcount\u001b[0m\u001b[0;34m(\u001b[0m\u001b[0msql\u001b[0m\u001b[0;34m.\u001b[0m\u001b[0mliteral_column\u001b[0m\u001b[0;34m(\u001b[0m\u001b[0;34m'*'\u001b[0m\u001b[0;34m)\u001b[0m\u001b[0;34m)\u001b[0m\u001b[0;34m\u001b[0m\u001b[0m\n\u001b[0;32m-> 2398\u001b[0;31m         \u001b[0;32mreturn\u001b[0m \u001b[0mself\u001b[0m\u001b[0;34m.\u001b[0m\u001b[0mfrom_self\u001b[0m\u001b[0;34m(\u001b[0m\u001b[0mcol\u001b[0m\u001b[0;34m)\u001b[0m\u001b[0;34m.\u001b[0m\u001b[0mscalar\u001b[0m\u001b[0;34m(\u001b[0m\u001b[0;34m)\u001b[0m\u001b[0;34m\u001b[0m\u001b[0m\n\u001b[0m\u001b[1;32m   2399\u001b[0m \u001b[0;34m\u001b[0m\u001b[0m\n\u001b[1;32m   2400\u001b[0m     \u001b[0;32mdef\u001b[0m \u001b[0mdelete\u001b[0m\u001b[0;34m(\u001b[0m\u001b[0mself\u001b[0m\u001b[0;34m,\u001b[0m \u001b[0msynchronize_session\u001b[0m\u001b[0;34m=\u001b[0m\u001b[0;34m'evaluate'\u001b[0m\u001b[0;34m)\u001b[0m\u001b[0;34m:\u001b[0m\u001b[0;34m\u001b[0m\u001b[0m\n",
        "\u001b[0;32m/Users/jeongmingi/anaconda/python.app/Contents/lib/python2.7/site-packages/sqlalchemy/orm/query.pyc\u001b[0m in \u001b[0;36mscalar\u001b[0;34m(self)\u001b[0m\n\u001b[1;32m   2202\u001b[0m         \"\"\"\n\u001b[1;32m   2203\u001b[0m         \u001b[0;32mtry\u001b[0m\u001b[0;34m:\u001b[0m\u001b[0;34m\u001b[0m\u001b[0m\n\u001b[0;32m-> 2204\u001b[0;31m             \u001b[0mret\u001b[0m \u001b[0;34m=\u001b[0m \u001b[0mself\u001b[0m\u001b[0;34m.\u001b[0m\u001b[0mone\u001b[0m\u001b[0;34m(\u001b[0m\u001b[0;34m)\u001b[0m\u001b[0;34m\u001b[0m\u001b[0m\n\u001b[0m\u001b[1;32m   2205\u001b[0m             \u001b[0;32mif\u001b[0m \u001b[0;32mnot\u001b[0m \u001b[0misinstance\u001b[0m\u001b[0;34m(\u001b[0m\u001b[0mret\u001b[0m\u001b[0;34m,\u001b[0m \u001b[0mtuple\u001b[0m\u001b[0;34m)\u001b[0m\u001b[0;34m:\u001b[0m\u001b[0;34m\u001b[0m\u001b[0m\n\u001b[1;32m   2206\u001b[0m                 \u001b[0;32mreturn\u001b[0m \u001b[0mret\u001b[0m\u001b[0;34m\u001b[0m\u001b[0m\n",
        "\u001b[0;32m/Users/jeongmingi/anaconda/python.app/Contents/lib/python2.7/site-packages/sqlalchemy/orm/query.pyc\u001b[0m in \u001b[0;36mone\u001b[0;34m(self)\u001b[0m\n\u001b[1;32m   2171\u001b[0m \u001b[0;34m\u001b[0m\u001b[0m\n\u001b[1;32m   2172\u001b[0m         \"\"\"\n\u001b[0;32m-> 2173\u001b[0;31m         \u001b[0mret\u001b[0m \u001b[0;34m=\u001b[0m \u001b[0mlist\u001b[0m\u001b[0;34m(\u001b[0m\u001b[0mself\u001b[0m\u001b[0;34m)\u001b[0m\u001b[0;34m\u001b[0m\u001b[0m\n\u001b[0m\u001b[1;32m   2174\u001b[0m \u001b[0;34m\u001b[0m\u001b[0m\n\u001b[1;32m   2175\u001b[0m         \u001b[0ml\u001b[0m \u001b[0;34m=\u001b[0m \u001b[0mlen\u001b[0m\u001b[0;34m(\u001b[0m\u001b[0mret\u001b[0m\u001b[0;34m)\u001b[0m\u001b[0;34m\u001b[0m\u001b[0m\n",
        "\u001b[0;32m/Users/jeongmingi/anaconda/python.app/Contents/lib/python2.7/site-packages/sqlalchemy/orm/query.pyc\u001b[0m in \u001b[0;36m__iter__\u001b[0;34m(self)\u001b[0m\n\u001b[1;32m   2214\u001b[0m         \u001b[0;32mif\u001b[0m \u001b[0mself\u001b[0m\u001b[0;34m.\u001b[0m\u001b[0m_autoflush\u001b[0m \u001b[0;32mand\u001b[0m \u001b[0;32mnot\u001b[0m \u001b[0mself\u001b[0m\u001b[0;34m.\u001b[0m\u001b[0m_populate_existing\u001b[0m\u001b[0;34m:\u001b[0m\u001b[0;34m\u001b[0m\u001b[0m\n\u001b[1;32m   2215\u001b[0m             \u001b[0mself\u001b[0m\u001b[0;34m.\u001b[0m\u001b[0msession\u001b[0m\u001b[0;34m.\u001b[0m\u001b[0m_autoflush\u001b[0m\u001b[0;34m(\u001b[0m\u001b[0;34m)\u001b[0m\u001b[0;34m\u001b[0m\u001b[0m\n\u001b[0;32m-> 2216\u001b[0;31m         \u001b[0;32mreturn\u001b[0m \u001b[0mself\u001b[0m\u001b[0;34m.\u001b[0m\u001b[0m_execute_and_instances\u001b[0m\u001b[0;34m(\u001b[0m\u001b[0mcontext\u001b[0m\u001b[0;34m)\u001b[0m\u001b[0;34m\u001b[0m\u001b[0m\n\u001b[0m\u001b[1;32m   2217\u001b[0m \u001b[0;34m\u001b[0m\u001b[0m\n\u001b[1;32m   2218\u001b[0m     \u001b[0;32mdef\u001b[0m \u001b[0m_connection_from_session\u001b[0m\u001b[0;34m(\u001b[0m\u001b[0mself\u001b[0m\u001b[0;34m,\u001b[0m \u001b[0;34m**\u001b[0m\u001b[0mkw\u001b[0m\u001b[0;34m)\u001b[0m\u001b[0;34m:\u001b[0m\u001b[0;34m\u001b[0m\u001b[0m\n",
        "\u001b[0;32m/Users/jeongmingi/anaconda/python.app/Contents/lib/python2.7/site-packages/sqlalchemy/orm/query.pyc\u001b[0m in \u001b[0;36m_execute_and_instances\u001b[0;34m(self, querycontext)\u001b[0m\n\u001b[1;32m   2227\u001b[0m                         \u001b[0mmapper\u001b[0m\u001b[0;34m=\u001b[0m\u001b[0mself\u001b[0m\u001b[0;34m.\u001b[0m\u001b[0m_mapper_zero_or_none\u001b[0m\u001b[0;34m(\u001b[0m\u001b[0;34m)\u001b[0m\u001b[0;34m,\u001b[0m\u001b[0;34m\u001b[0m\u001b[0m\n\u001b[1;32m   2228\u001b[0m                         \u001b[0mclause\u001b[0m\u001b[0;34m=\u001b[0m\u001b[0mquerycontext\u001b[0m\u001b[0;34m.\u001b[0m\u001b[0mstatement\u001b[0m\u001b[0;34m,\u001b[0m\u001b[0;34m\u001b[0m\u001b[0m\n\u001b[0;32m-> 2229\u001b[0;31m                         close_with_result=True)\n\u001b[0m\u001b[1;32m   2230\u001b[0m \u001b[0;34m\u001b[0m\u001b[0m\n\u001b[1;32m   2231\u001b[0m         \u001b[0mresult\u001b[0m \u001b[0;34m=\u001b[0m \u001b[0mconn\u001b[0m\u001b[0;34m.\u001b[0m\u001b[0mexecute\u001b[0m\u001b[0;34m(\u001b[0m\u001b[0mquerycontext\u001b[0m\u001b[0;34m.\u001b[0m\u001b[0mstatement\u001b[0m\u001b[0;34m,\u001b[0m \u001b[0mself\u001b[0m\u001b[0;34m.\u001b[0m\u001b[0m_params\u001b[0m\u001b[0;34m)\u001b[0m\u001b[0;34m\u001b[0m\u001b[0m\n",
        "\u001b[0;32m/Users/jeongmingi/anaconda/python.app/Contents/lib/python2.7/site-packages/sqlalchemy/orm/query.pyc\u001b[0m in \u001b[0;36m_connection_from_session\u001b[0;34m(self, **kw)\u001b[0m\n\u001b[1;32m   2218\u001b[0m     \u001b[0;32mdef\u001b[0m \u001b[0m_connection_from_session\u001b[0m\u001b[0;34m(\u001b[0m\u001b[0mself\u001b[0m\u001b[0;34m,\u001b[0m \u001b[0;34m**\u001b[0m\u001b[0mkw\u001b[0m\u001b[0;34m)\u001b[0m\u001b[0;34m:\u001b[0m\u001b[0;34m\u001b[0m\u001b[0m\n\u001b[1;32m   2219\u001b[0m         conn = self.session.connection(\n\u001b[0;32m-> 2220\u001b[0;31m                         **kw)\n\u001b[0m\u001b[1;32m   2221\u001b[0m         \u001b[0;32mif\u001b[0m \u001b[0mself\u001b[0m\u001b[0;34m.\u001b[0m\u001b[0m_execution_options\u001b[0m\u001b[0;34m:\u001b[0m\u001b[0;34m\u001b[0m\u001b[0m\n\u001b[1;32m   2222\u001b[0m             \u001b[0mconn\u001b[0m \u001b[0;34m=\u001b[0m \u001b[0mconn\u001b[0m\u001b[0;34m.\u001b[0m\u001b[0mexecution_options\u001b[0m\u001b[0;34m(\u001b[0m\u001b[0;34m**\u001b[0m\u001b[0mself\u001b[0m\u001b[0;34m.\u001b[0m\u001b[0m_execution_options\u001b[0m\u001b[0;34m)\u001b[0m\u001b[0;34m\u001b[0m\u001b[0m\n",
        "\u001b[0;32m/Users/jeongmingi/anaconda/python.app/Contents/lib/python2.7/site-packages/sqlalchemy/orm/session.pyc\u001b[0m in \u001b[0;36mconnection\u001b[0;34m(self, mapper, clause, bind, close_with_result, **kw)\u001b[0m\n\u001b[1;32m    796\u001b[0m \u001b[0;34m\u001b[0m\u001b[0m\n\u001b[1;32m    797\u001b[0m         return self._connection_for_bind(bind,\n\u001b[0;32m--> 798\u001b[0;31m                                         close_with_result=close_with_result)\n\u001b[0m\u001b[1;32m    799\u001b[0m \u001b[0;34m\u001b[0m\u001b[0m\n\u001b[1;32m    800\u001b[0m     \u001b[0;32mdef\u001b[0m \u001b[0m_connection_for_bind\u001b[0m\u001b[0;34m(\u001b[0m\u001b[0mself\u001b[0m\u001b[0;34m,\u001b[0m \u001b[0mengine\u001b[0m\u001b[0;34m,\u001b[0m \u001b[0;34m**\u001b[0m\u001b[0mkwargs\u001b[0m\u001b[0;34m)\u001b[0m\u001b[0;34m:\u001b[0m\u001b[0;34m\u001b[0m\u001b[0m\n",
        "\u001b[0;32m/Users/jeongmingi/anaconda/python.app/Contents/lib/python2.7/site-packages/sqlalchemy/orm/session.pyc\u001b[0m in \u001b[0;36m_connection_for_bind\u001b[0;34m(self, engine, **kwargs)\u001b[0m\n\u001b[1;32m    800\u001b[0m     \u001b[0;32mdef\u001b[0m \u001b[0m_connection_for_bind\u001b[0m\u001b[0;34m(\u001b[0m\u001b[0mself\u001b[0m\u001b[0;34m,\u001b[0m \u001b[0mengine\u001b[0m\u001b[0;34m,\u001b[0m \u001b[0;34m**\u001b[0m\u001b[0mkwargs\u001b[0m\u001b[0;34m)\u001b[0m\u001b[0;34m:\u001b[0m\u001b[0;34m\u001b[0m\u001b[0m\n\u001b[1;32m    801\u001b[0m         \u001b[0;32mif\u001b[0m \u001b[0mself\u001b[0m\u001b[0;34m.\u001b[0m\u001b[0mtransaction\u001b[0m \u001b[0;32mis\u001b[0m \u001b[0;32mnot\u001b[0m \u001b[0mNone\u001b[0m\u001b[0;34m:\u001b[0m\u001b[0;34m\u001b[0m\u001b[0m\n\u001b[0;32m--> 802\u001b[0;31m             \u001b[0;32mreturn\u001b[0m \u001b[0mself\u001b[0m\u001b[0;34m.\u001b[0m\u001b[0mtransaction\u001b[0m\u001b[0;34m.\u001b[0m\u001b[0m_connection_for_bind\u001b[0m\u001b[0;34m(\u001b[0m\u001b[0mengine\u001b[0m\u001b[0;34m)\u001b[0m\u001b[0;34m\u001b[0m\u001b[0m\n\u001b[0m\u001b[1;32m    803\u001b[0m         \u001b[0;32melse\u001b[0m\u001b[0;34m:\u001b[0m\u001b[0;34m\u001b[0m\u001b[0m\n\u001b[1;32m    804\u001b[0m             \u001b[0;32mreturn\u001b[0m \u001b[0mengine\u001b[0m\u001b[0;34m.\u001b[0m\u001b[0mcontextual_connect\u001b[0m\u001b[0;34m(\u001b[0m\u001b[0;34m**\u001b[0m\u001b[0mkwargs\u001b[0m\u001b[0;34m)\u001b[0m\u001b[0;34m\u001b[0m\u001b[0m\n",
        "\u001b[0;32m/Users/jeongmingi/anaconda/python.app/Contents/lib/python2.7/site-packages/sqlalchemy/orm/session.pyc\u001b[0m in \u001b[0;36m_connection_for_bind\u001b[0;34m(self, bind)\u001b[0m\n\u001b[1;32m    296\u001b[0m                         \"given Connection's Engine\")\n\u001b[1;32m    297\u001b[0m             \u001b[0;32melse\u001b[0m\u001b[0;34m:\u001b[0m\u001b[0;34m\u001b[0m\u001b[0m\n\u001b[0;32m--> 298\u001b[0;31m                 \u001b[0mconn\u001b[0m \u001b[0;34m=\u001b[0m \u001b[0mbind\u001b[0m\u001b[0;34m.\u001b[0m\u001b[0mcontextual_connect\u001b[0m\u001b[0;34m(\u001b[0m\u001b[0;34m)\u001b[0m\u001b[0;34m\u001b[0m\u001b[0m\n\u001b[0m\u001b[1;32m    299\u001b[0m \u001b[0;34m\u001b[0m\u001b[0m\n\u001b[1;32m    300\u001b[0m         \u001b[0;32mif\u001b[0m \u001b[0mself\u001b[0m\u001b[0;34m.\u001b[0m\u001b[0msession\u001b[0m\u001b[0;34m.\u001b[0m\u001b[0mtwophase\u001b[0m \u001b[0;32mand\u001b[0m \u001b[0mself\u001b[0m\u001b[0;34m.\u001b[0m\u001b[0m_parent\u001b[0m \u001b[0;32mis\u001b[0m \u001b[0mNone\u001b[0m\u001b[0;34m:\u001b[0m\u001b[0;34m\u001b[0m\u001b[0m\n",
        "\u001b[0;32m/Users/jeongmingi/anaconda/python.app/Contents/lib/python2.7/site-packages/sqlalchemy/engine/base.pyc\u001b[0m in \u001b[0;36mcontextual_connect\u001b[0;34m(self, close_with_result, **kwargs)\u001b[0m\n\u001b[1;32m   1659\u001b[0m \u001b[0;34m\u001b[0m\u001b[0m\n\u001b[1;32m   1660\u001b[0m         return self._connection_cls(self,\n\u001b[0;32m-> 1661\u001b[0;31m                                     \u001b[0mself\u001b[0m\u001b[0;34m.\u001b[0m\u001b[0mpool\u001b[0m\u001b[0;34m.\u001b[0m\u001b[0mconnect\u001b[0m\u001b[0;34m(\u001b[0m\u001b[0;34m)\u001b[0m\u001b[0;34m,\u001b[0m\u001b[0;34m\u001b[0m\u001b[0m\n\u001b[0m\u001b[1;32m   1662\u001b[0m                                     \u001b[0mclose_with_result\u001b[0m\u001b[0;34m=\u001b[0m\u001b[0mclose_with_result\u001b[0m\u001b[0;34m,\u001b[0m\u001b[0;34m\u001b[0m\u001b[0m\n\u001b[1;32m   1663\u001b[0m                                     **kwargs)\n",
        "\u001b[0;32m/Users/jeongmingi/anaconda/python.app/Contents/lib/python2.7/site-packages/sqlalchemy/pool.pyc\u001b[0m in \u001b[0;36mconnect\u001b[0;34m(self)\u001b[0m\n\u001b[1;32m    270\u001b[0m         \"\"\"\n\u001b[1;32m    271\u001b[0m         \u001b[0;32mif\u001b[0m \u001b[0;32mnot\u001b[0m \u001b[0mself\u001b[0m\u001b[0;34m.\u001b[0m\u001b[0m_use_threadlocal\u001b[0m\u001b[0;34m:\u001b[0m\u001b[0;34m\u001b[0m\u001b[0m\n\u001b[0;32m--> 272\u001b[0;31m             \u001b[0;32mreturn\u001b[0m \u001b[0m_ConnectionFairy\u001b[0m\u001b[0;34m(\u001b[0m\u001b[0mself\u001b[0m\u001b[0;34m)\u001b[0m\u001b[0;34m.\u001b[0m\u001b[0mcheckout\u001b[0m\u001b[0;34m(\u001b[0m\u001b[0;34m)\u001b[0m\u001b[0;34m\u001b[0m\u001b[0m\n\u001b[0m\u001b[1;32m    273\u001b[0m \u001b[0;34m\u001b[0m\u001b[0m\n\u001b[1;32m    274\u001b[0m         \u001b[0;32mtry\u001b[0m\u001b[0;34m:\u001b[0m\u001b[0;34m\u001b[0m\u001b[0m\n",
        "\u001b[0;32m/Users/jeongmingi/anaconda/python.app/Contents/lib/python2.7/site-packages/sqlalchemy/pool.pyc\u001b[0m in \u001b[0;36m__init__\u001b[0;34m(self, pool)\u001b[0m\n\u001b[1;32m    423\u001b[0m         \u001b[0mself\u001b[0m\u001b[0;34m.\u001b[0m\u001b[0m_echo\u001b[0m \u001b[0;34m=\u001b[0m \u001b[0m_echo\u001b[0m \u001b[0;34m=\u001b[0m \u001b[0mpool\u001b[0m\u001b[0;34m.\u001b[0m\u001b[0m_should_log_debug\u001b[0m\u001b[0;34m(\u001b[0m\u001b[0;34m)\u001b[0m\u001b[0;34m\u001b[0m\u001b[0m\n\u001b[1;32m    424\u001b[0m         \u001b[0;32mtry\u001b[0m\u001b[0;34m:\u001b[0m\u001b[0;34m\u001b[0m\u001b[0m\n\u001b[0;32m--> 425\u001b[0;31m             \u001b[0mrec\u001b[0m \u001b[0;34m=\u001b[0m \u001b[0mself\u001b[0m\u001b[0;34m.\u001b[0m\u001b[0m_connection_record\u001b[0m \u001b[0;34m=\u001b[0m \u001b[0mpool\u001b[0m\u001b[0;34m.\u001b[0m\u001b[0m_do_get\u001b[0m\u001b[0;34m(\u001b[0m\u001b[0;34m)\u001b[0m\u001b[0;34m\u001b[0m\u001b[0m\n\u001b[0m\u001b[1;32m    426\u001b[0m             \u001b[0mconn\u001b[0m \u001b[0;34m=\u001b[0m \u001b[0mself\u001b[0m\u001b[0;34m.\u001b[0m\u001b[0mconnection\u001b[0m \u001b[0;34m=\u001b[0m \u001b[0mself\u001b[0m\u001b[0;34m.\u001b[0m\u001b[0m_connection_record\u001b[0m\u001b[0;34m.\u001b[0m\u001b[0mget_connection\u001b[0m\u001b[0;34m(\u001b[0m\u001b[0;34m)\u001b[0m\u001b[0;34m\u001b[0m\u001b[0m\n\u001b[1;32m    427\u001b[0m             rec.fairy = weakref.ref(\n",
        "\u001b[0;32m/Users/jeongmingi/anaconda/python.app/Contents/lib/python2.7/site-packages/sqlalchemy/pool.pyc\u001b[0m in \u001b[0;36m_do_get\u001b[0;34m(self)\u001b[0m\n\u001b[1;32m    767\u001b[0m                             \u001b[0;34m\"QueuePool limit of size %d overflow %d reached, \"\u001b[0m\u001b[0;34m\u001b[0m\u001b[0m\n\u001b[1;32m    768\u001b[0m                             \u001b[0;34m\"connection timed out, timeout %d\"\u001b[0m \u001b[0;34m%\u001b[0m\u001b[0;34m\u001b[0m\u001b[0m\n\u001b[0;32m--> 769\u001b[0;31m                             (self.size(), self.overflow(), self._timeout))\n\u001b[0m\u001b[1;32m    770\u001b[0m \u001b[0;34m\u001b[0m\u001b[0m\n\u001b[1;32m    771\u001b[0m             \u001b[0mself\u001b[0m\u001b[0;34m.\u001b[0m\u001b[0m_overflow_lock\u001b[0m\u001b[0;34m.\u001b[0m\u001b[0macquire\u001b[0m\u001b[0;34m(\u001b[0m\u001b[0;34m)\u001b[0m\u001b[0;34m\u001b[0m\u001b[0m\n",
        "\u001b[0;31mTimeoutError\u001b[0m: QueuePool limit of size 5 overflow 10 reached, connection timed out, timeout 30"
       ]
      },
      {
       "output_type": "stream",
       "stream": "stdout",
       "text": [
        "-1.02783370899\n",
        "\"\ub9cc\ud654\" -0.35786973783\n",
        "\"\ubbf8\ub514\uc5b4\""
       ]
      }
     ],
     "prompt_number": 37
    },
    {
     "cell_type": "code",
     "collapsed": false,
     "input": [],
     "language": "python",
     "metadata": {},
     "outputs": []
    },
    {
     "cell_type": "code",
     "collapsed": false,
     "input": [
      "\n",
      "keyword = \"+\ud558\ub298\"\n",
      "DatabaseManager.set_query_count(keyword, getNumberOfNaverSearchResult(keyword))\n",
      "print DatabaseManager.get_query_count(keyword)\n",
      "#set_query_count(keyword, getNumberOfNaverSearchResult(keyword))\n",
      "#print query_count(keyword)"
     ],
     "language": "python",
     "metadata": {},
     "outputs": [
      {
       "output_type": "stream",
       "stream": "stdout",
       "text": [
        "9137010\n"
       ]
      }
     ],
     "prompt_number": 78
    },
    {
     "cell_type": "code",
     "collapsed": false,
     "input": [
      "df = createPMIDataFrame(n_sort_appname, keywords[:7])"
     ],
     "language": "python",
     "metadata": {},
     "outputs": [],
     "prompt_number": 75
    },
    {
     "cell_type": "code",
     "collapsed": false,
     "input": [
      "ass = pd.DataFrame(n_sort_appname)"
     ],
     "language": "python",
     "metadata": {},
     "outputs": [],
     "prompt_number": 76
    },
    {
     "cell_type": "code",
     "collapsed": false,
     "input": [
      "def getNumberOfNaverSearchResult(q):\n",
      "    q='+'.join(q.split())\n",
      "    xpath = \"\"\"//div[@id='content']/div[@class='blog section _blogBase']/div[@class='section_head']/span[@class='title_num']\"\"\"\n",
      "    html = requests.get(\"http://cafeblog.search.naver.com/search.naver?where=post&sm=tab_jum&ie=utf8&query=\"+q).text\n",
      "    hx =HtmlXPathSelector(text=html)\n",
      "    items = hx.select(xpath)\n",
      "    inputstr = (items.extract()[0].split()[3]+\"\")\n",
      "    result = int(''.join(re.findall(r'\\d+', inputstr)))\n",
      "    return result\n"
     ],
     "language": "python",
     "metadata": {},
     "outputs": [],
     "prompt_number": 91
    },
    {
     "cell_type": "code",
     "collapsed": false,
     "input": [
      "keyword = keywords[:7]\n",
      "searchWordArray = np.array(n_sort_appname)\n",
      "for a in searchWordArray[:3]:\n",
      "    print \"app \\\"%s\\\" start : \\n\" % a\n",
      "    for key in keyword:\n",
      "        print \"\\tkey \\\"%s\\\" start : \" %key\n",
      "        searchApp = [\"\".join(a) + key]\n",
      "        print \"\\n\", str(searchApp)\n",
      "        cw = DatabaseManager.set_query_count(key, getNumberOfNaverSearchResult(searchApp))\n",
      "    print \"real done.\""
     ],
     "language": "python",
     "metadata": {},
     "outputs": [
      {
       "ename": "AttributeError",
       "evalue": "'list' object has no attribute 'split'",
       "output_type": "pyerr",
       "traceback": [
        "\u001b[0;31m---------------------------------------------------------------------------\u001b[0m\n\u001b[0;31mAttributeError\u001b[0m                            Traceback (most recent call last)",
        "\u001b[0;32m<ipython-input-135-fa7950bbb3b5>\u001b[0m in \u001b[0;36m<module>\u001b[0;34m()\u001b[0m\n\u001b[1;32m      7\u001b[0m         \u001b[0msearchApp\u001b[0m \u001b[0;34m=\u001b[0m \u001b[0;34m[\u001b[0m\u001b[0;34m\"\"\u001b[0m\u001b[0;34m.\u001b[0m\u001b[0mjoin\u001b[0m\u001b[0;34m(\u001b[0m\u001b[0ma\u001b[0m\u001b[0;34m)\u001b[0m \u001b[0;34m+\u001b[0m \u001b[0mkey\u001b[0m\u001b[0;34m]\u001b[0m\u001b[0;34m\u001b[0m\u001b[0m\n\u001b[1;32m      8\u001b[0m         \u001b[0;32mprint\u001b[0m \u001b[0;34m\"\\n\"\u001b[0m\u001b[0;34m,\u001b[0m \u001b[0mstr\u001b[0m\u001b[0;34m(\u001b[0m\u001b[0msearchApp\u001b[0m\u001b[0;34m)\u001b[0m\u001b[0;34m\u001b[0m\u001b[0m\n\u001b[0;32m----> 9\u001b[0;31m         \u001b[0mcw\u001b[0m \u001b[0;34m=\u001b[0m \u001b[0mDatabaseManager\u001b[0m\u001b[0;34m.\u001b[0m\u001b[0mset_query_count\u001b[0m\u001b[0;34m(\u001b[0m\u001b[0mkey\u001b[0m\u001b[0;34m,\u001b[0m \u001b[0mgetNumberOfNaverSearchResult\u001b[0m\u001b[0;34m(\u001b[0m\u001b[0msearchApp\u001b[0m\u001b[0;34m)\u001b[0m\u001b[0;34m)\u001b[0m\u001b[0;34m\u001b[0m\u001b[0m\n\u001b[0m\u001b[1;32m     10\u001b[0m     \u001b[0;32mprint\u001b[0m \u001b[0;34m\"real done.\"\u001b[0m\u001b[0;34m\u001b[0m\u001b[0m\n",
        "\u001b[0;32m<ipython-input-97-25b90a54a437>\u001b[0m in \u001b[0;36mgetNumberOfNaverSearchResult\u001b[0;34m(q)\u001b[0m\n\u001b[1;32m      1\u001b[0m \u001b[0;32mdef\u001b[0m \u001b[0mgetNumberOfNaverSearchResult\u001b[0m\u001b[0;34m(\u001b[0m\u001b[0mq\u001b[0m\u001b[0;34m)\u001b[0m\u001b[0;34m:\u001b[0m\u001b[0;34m\u001b[0m\u001b[0m\n\u001b[0;32m----> 2\u001b[0;31m     \u001b[0mq\u001b[0m\u001b[0;34m=\u001b[0m\u001b[0;34m'+'\u001b[0m\u001b[0;34m.\u001b[0m\u001b[0mjoin\u001b[0m\u001b[0;34m(\u001b[0m\u001b[0mq\u001b[0m\u001b[0;34m.\u001b[0m\u001b[0msplit\u001b[0m\u001b[0;34m(\u001b[0m\u001b[0;34m)\u001b[0m\u001b[0;34m)\u001b[0m\u001b[0;34m\u001b[0m\u001b[0m\n\u001b[0m\u001b[1;32m      3\u001b[0m     \u001b[0mxpath\u001b[0m \u001b[0;34m=\u001b[0m \u001b[0;34m\"\"\"//div[@id='content']/div[@class='blog section _blogBase']/div[@class='section_head']/span[@class='title_num']\"\"\"\u001b[0m\u001b[0;34m\u001b[0m\u001b[0m\n\u001b[1;32m      4\u001b[0m     \u001b[0mhtml\u001b[0m \u001b[0;34m=\u001b[0m \u001b[0mrequests\u001b[0m\u001b[0;34m.\u001b[0m\u001b[0mget\u001b[0m\u001b[0;34m(\u001b[0m\u001b[0;34m\"http://cafeblog.search.naver.com/search.naver?where=post&sm=tab_jum&ie=utf8&query=\"\u001b[0m\u001b[0;34m+\u001b[0m\u001b[0mq\u001b[0m\u001b[0;34m)\u001b[0m\u001b[0;34m.\u001b[0m\u001b[0mtext\u001b[0m\u001b[0;34m\u001b[0m\u001b[0m\n\u001b[1;32m      5\u001b[0m     \u001b[0mhx\u001b[0m \u001b[0;34m=\u001b[0m\u001b[0mHtmlXPathSelector\u001b[0m\u001b[0;34m(\u001b[0m\u001b[0mtext\u001b[0m\u001b[0;34m=\u001b[0m\u001b[0mhtml\u001b[0m\u001b[0;34m)\u001b[0m\u001b[0;34m\u001b[0m\u001b[0m\n",
        "\u001b[0;31mAttributeError\u001b[0m: 'list' object has no attribute 'split'"
       ]
      },
      {
       "output_type": "stream",
       "stream": "stdout",
       "text": [
        " app \"RealPresence Mobile - Tablet\" start : \n",
        "\n",
        "\tkey \"\"\ud37c\uc990\"\" start : \n",
        "\n",
        "['RealPresence Mobile - Tablet\"\\xed\\x8d\\xbc\\xec\\xa6\\x90\"']\n"
       ]
      }
     ],
     "prompt_number": 135
    },
    {
     "cell_type": "code",
     "collapsed": false,
     "input": [],
     "language": "python",
     "metadata": {},
     "outputs": []
    }
   ],
   "metadata": {}
  }
 ]
}