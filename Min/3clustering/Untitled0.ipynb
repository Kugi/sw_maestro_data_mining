{
 "metadata": {
  "name": ""
 },
 "nbformat": 3,
 "nbformat_minor": 0,
 "worksheets": [
  {
   "cells": [
    {
     "cell_type": "code",
     "collapsed": false,
     "input": [
      "cd"
     ],
     "language": "python",
     "metadata": {},
     "outputs": [
      {
       "output_type": "stream",
       "stream": "stdout",
       "text": [
        "/Users/jeongmingi\n"
       ]
      }
     ],
     "prompt_number": 2
    },
    {
     "cell_type": "code",
     "collapsed": false,
     "input": [
      "import pickle\n",
      "import pandas as pd\n",
      "\n",
      "apps = pickle.load(file('desktop/data/app_info2.df'))\n"
     ],
     "language": "python",
     "metadata": {},
     "outputs": [],
     "prompt_number": 17
    },
    {
     "cell_type": "code",
     "collapsed": false,
     "input": [
      "apps = apps[:5]"
     ],
     "language": "python",
     "metadata": {},
     "outputs": [],
     "prompt_number": 18
    },
    {
     "cell_type": "code",
     "collapsed": false,
     "input": [
      "dic_ = apps.to_dict()\n"
     ],
     "language": "python",
     "metadata": {},
     "outputs": [],
     "prompt_number": 19
    },
    {
     "cell_type": "code",
     "collapsed": false,
     "input": [
      "converted_ = []"
     ],
     "language": "python",
     "metadata": {},
     "outputs": [],
     "prompt_number": 65
    },
    {
     "cell_type": "code",
     "collapsed": false,
     "input": [
      "for i in dic_['id']:\n",
      "    temp = {}\n",
      "    temp = {'id' : dic_['id'][i], 'name' : dic_['name'][i]}\n",
      "    converted_.append(temp)\n",
      "print converted_"
     ],
     "language": "python",
     "metadata": {},
     "outputs": [
      {
       "output_type": "stream",
       "stream": "stdout",
       "text": [
        "[{'id': 1696105, 'name': '100 \\xeb\\xaf\\xb8\\xec\\x85\\x98 : \\xeb\\x9d\\xbc\\xec\\x8a\\xa4 \\xeb\\xb2\\xa0\\xec\\x9d\\xb4\\xea\\xb1\\xb0\\xec\\x8a\\xa4 (Las Vegas)'}, {'id': 1696073, 'name': '\\xec\\x9d\\xb8\\xeb\\xb2\\xa0\\xec\\x9d\\xb4\\xeb\\x8d\\x94\\xed\\x97\\x8c\\xed\\x84\\xb0'}, {'id': 1695683, 'name': 'GTA Vice City Cheater'}, {'id': 1695047, 'name': '\\xec\\x97\\x98\\xec\\x86\\x8c\\xeb\\x93\\x9c \\xec\\x8a\\xa4\\xed\\x82\\xac\\xed\\x8a\\xb8\\xeb\\xa6\\xac(\\xec\\x95\\x84\\xeb\\x9d\\xbc)'}, {'id': 1694861, 'name': '\\xeb\\xaf\\xb8\\xeb\\x85\\x80\\xeb\\xb3\\x80\\xed\\x98\\xb8\\xec\\x82\\xac\\xec\\x84\\xb8\\xeb\\xa6\\xac\\xed\\x82\\xb4'}]\n"
       ]
      }
     ],
     "prompt_number": 66
    },
    {
     "cell_type": "code",
     "collapsed": false,
     "input": [
      "for i in converted_:\n",
      "    print i['name']"
     ],
     "language": "python",
     "metadata": {},
     "outputs": [
      {
       "output_type": "stream",
       "stream": "stdout",
       "text": [
        "100 \ubbf8\uc158 : \ub77c\uc2a4 \ubca0\uc774\uac70\uc2a4 (Las Vegas)\n",
        "\uc778\ubca0\uc774\ub354\ud5cc\ud130\n",
        "GTA Vice City Cheater\n",
        "\uc5d8\uc18c\ub4dc \uc2a4\ud0ac\ud2b8\ub9ac(\uc544\ub77c)\n",
        "\ubbf8\ub140\ubcc0\ud638\uc0ac\uc138\ub9ac\ud0b4\n"
       ]
      }
     ],
     "prompt_number": 73
    },
    {
     "cell_type": "code",
     "collapsed": false,
     "input": [
      "type(dic_['id'].keys()[0])"
     ],
     "language": "python",
     "metadata": {},
     "outputs": [
      {
       "metadata": {},
       "output_type": "pyout",
       "prompt_number": 55,
       "text": [
        "numpy.int64"
       ]
      }
     ],
     "prompt_number": 55
    },
    {
     "cell_type": "code",
     "collapsed": false,
     "input": [
      "for i in apps['id'][:5]:\n",
      "    print i"
     ],
     "language": "python",
     "metadata": {},
     "outputs": [
      {
       "output_type": "stream",
       "stream": "stdout",
       "text": [
        "1696105\n",
        "1696073\n",
        "1695683\n",
        "1695047\n",
        "1694861\n"
       ]
      }
     ],
     "prompt_number": 75
    },
    {
     "cell_type": "code",
     "collapsed": false,
     "input": [],
     "language": "python",
     "metadata": {},
     "outputs": []
    }
   ],
   "metadata": {}
  }
 ]
}