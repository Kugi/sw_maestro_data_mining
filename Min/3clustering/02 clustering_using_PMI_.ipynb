{
 "metadata": {
  "name": "02 clustering_using_PMI_"
 },
 "nbformat": 3,
 "nbformat_minor": 0,
 "worksheets": [
  {
   "cells": [
    {
     "cell_type": "code",
     "collapsed": false,
     "input": [
      "%pylab inline\n",
      "from pandas import DataFrame, Series\n",
      "import pandas as pd\n",
      "import pandas.io.sql as sql\n",
      "import numpy as np\n",
      "import matplotlib.pyplot as plt\n",
      "from IPython.core.display import Image"
     ],
     "language": "python",
     "metadata": {},
     "outputs": [
      {
       "output_type": "stream",
       "stream": "stdout",
       "text": [
        "\n",
        "Welcome to pylab, a matplotlib-based Python environment [backend: module://IPython.kernel.zmq.pylab.backend_inline].\n",
        "For more information, type 'help(pylab)'.\n"
       ]
      }
     ],
     "prompt_number": 1
    },
    {
     "cell_type": "heading",
     "level": 3,
     "metadata": {},
     "source": [
      "db"
     ]
    },
    {
     "cell_type": "code",
     "collapsed": false,
     "input": [
      "from datetime import datetime\n",
      "def _get_date():\n",
      "    return datetime.datetime.now()\n",
      "from sqlalchemy import *\n",
      "db = create_engine('postgresql://soma:maestro@)!#@soma1.buzzni.com/application')\n",
      "from sqlalchemy.orm import sessionmaker\n",
      "from sqlalchemy.ext.declarative import declarative_base\n",
      "BaseObj = declarative_base()\n",
      "        \n",
      "db.echo = False  # Try changing this to True and see what happens\n",
      "metadata = MetaData(db)\n",
      "\n",
      "''' table create '''\n",
      "class Cache(BaseObj):\n",
      "    __tablename__ = 'query_freq'\n",
      "    query = Column('query', String(100), primary_key=True)\n",
      "    num = Column('num', Integer)\n",
      "    update_date = Column('update_date', Date(),default=datetime.now(), onupdate=datetime.now())\n",
      "    def __init__(self,query,num):\n",
      "        self.query=query\n",
      "        self.num=num\n",
      "\n",
      "        \n",
      "def create_table():\n",
      "    if db.dialect.has_table(db.connect(), \"query_freq\"):\n",
      "        db.execute(\"drop table query_freq;\")\n",
      "    # \ud14c\uc774\ube14 \uc0c8\ub85c \ub9cc\ub4e4\ub54c\ub9cc \uc4f0\uc138\uc694.\n",
      "    metadata = Cache.metadata\n",
      "    metadata.create_all(db)\n",
      "\n",
      "\n",
      "    \n",
      "Session = sessionmaker(bind=db)\n",
      "''' data insert '''\n",
      "s = Session()\n",
      "#s.add(Cache(**{'query': 'word0', 'num': 42}))\n",
      "#s.add(Cache(**{'query': 'word1', 'num': 43}))\n",
      "#s.add(Cache(**{'query': 'word2', 'num': 44}))\n",
      "#s.commit()\n",
      "\n",
      "\n",
      "def query_count(query):\n",
      "    s = Session()\n",
      "    result = s.query(Cache).filter(Cache.query==query)\n",
      "    #s.flush()\n",
      "    s.close_all()\n",
      "    if result.count()>0:\n",
      "        return result[0].num\n",
      "    return 0\n",
      "\n",
      "def set_query_count(query,count):\n",
      "    s = Session()\n",
      "    result = s.query(Cache).filter(Cache.query==query)\n",
      "    if result.count()>0:\n",
      "        result[0].num = count\n",
      "    else:\n",
      "        s.add(Cache(query,count))\n",
      "    s.commit()\n",
      "    s.close_all()\n",
      "    \n",
      "''' test '''\n",
      "set_query_count('word0',42)\n",
      "set_query_count('word1',43)\n",
      "set_query_count('word2',44)\n",
      "\n",
      "print query_count('word0')\n",
      "print query_count('word10')\n",
      "set_query_count('word10',100)\n",
      "print query_count('word10')"
     ],
     "language": "python",
     "metadata": {},
     "outputs": [
      {
       "output_type": "stream",
       "stream": "stdout",
       "text": [
        "42\n",
        "100\n",
        "100"
       ]
      },
      {
       "output_type": "stream",
       "stream": "stdout",
       "text": [
        "\n"
       ]
      }
     ],
     "prompt_number": 2
    },
    {
     "cell_type": "code",
     "collapsed": false,
     "input": [
      "#assign to Pack\n",
      "\n",
      "def createPMIDataFrame(appNameList, keywordList):\n",
      "    pmi_frame = pd.DataFrame(data=0.0, index=appNameList, columns=keywordList)\n",
      "    return pmi_frame\n",
      "\n",
      "def setPMI(dstFrame, appName, keyword, pmi):\n",
      "    dstFrame.loc[appName, keyword] = pmi\n",
      "    \n",
      "def getPMIFromDF(dstFrame, appName, keyword):\n",
      "    return dstFrame.loc[appName, keyword]\n",
      "\n",
      "def calcPMI(AppScore, KeywordScore, BothScore, nTotalDocs):\n",
      "    val = (AppScore*KeywordScore/(BothScore*nTotalDocs+1))\n",
      "    if val <= 0:\n",
      "        return 0.0\n",
      "    return math.log10(val)\n"
     ],
     "language": "python",
     "metadata": {},
     "outputs": [],
     "prompt_number": 3
    },
    {
     "cell_type": "code",
     "collapsed": false,
     "input": [
      "cd"
     ],
     "language": "python",
     "metadata": {},
     "outputs": [
      {
       "output_type": "stream",
       "stream": "stdout",
       "text": [
        "C:\\Users\\Kugi\n"
       ]
      }
     ],
     "prompt_number": 34
    },
    {
     "cell_type": "code",
     "collapsed": true,
     "input": [
      "import pandas as pd\n",
      "import pickle\n",
      "\n",
      "app2 =  pd.load('data/app_info2.df')\n",
      "app2_2000_name = app2.loc[:,['name']]"
     ],
     "language": "python",
     "metadata": {},
     "outputs": [],
     "prompt_number": 4
    },
    {
     "cell_type": "code",
     "collapsed": false,
     "input": [
      "app2_2000_name?"
     ],
     "language": "python",
     "metadata": {},
     "outputs": [],
     "prompt_number": 9
    },
    {
     "cell_type": "code",
     "collapsed": false,
     "input": [
      "def load(fname):\n",
      "    ''' load the file using std open'''\n",
      "    f = open(fname,'r')\n",
      "\n",
      "    data = []\n",
      "    for line in f.readlines():\n",
      "        data.append(line.replace('\\n','').split(','))\n",
      "        \n",
      "    f.close()\n",
      "\n",
      "    return data\n",
      "\n",
      "\n",
      "print ' '.join(keywords)"
     ],
     "language": "python",
     "metadata": {},
     "outputs": [
      {
       "output_type": "stream",
       "stream": "stdout",
       "text": [
        " +\ufeff\ud37c\uc990 +\uce90\uc8fc\uc5bc +\uc544\ucf00\uc774\ub4dc +\uacf5\ub7b5 +\ub808\uc774\uc2f1 +RPG +\uce74\ub4dc +\ub514\ud39c\uc2a4 +\ub450\ub1cc +\uc2dc\ubbac +\ub2ec\ub9ac\uae30 +\uc288\ud305 +\ucd95\uad6c +\uacbd\uc601 +\ud0c0\uc774\ucfe4 +\ud0c8\ucd9c +\ucd94\ub9ac +\uc7a5\uae30 +\ube44\ud589\uae30 +\uc0ac\ucc9c\uc131 +\uc2a4\ud3ec\uce20 +\ub18d\uad6c +\ub09a\uc2dc +\uc74c\uc545 +\uce74\ud1a1 +\uace8\ud504 +\ub2f9\uad6c +\uc57c\uad6c +\ubcfc\ub9c1 +\ud14c\uc774\uc2a4 +\uc0bc\uad6d\uc9c0 +TCG +\uc804\uc7c1 +\uac74\uac15 +\uc6b4\ub3d9 +\uad50\uc721 +\uad50\ud1b5 +\uae08\uc735 +\ub0a0\uc528 +\ub274\uc2a4 +\uc7a1\uc9c0 +\ub370\ucf54\ub808\uc774\uc158 +\ub3c4\uad6c +\ub3c4\uc11c +\ucc38\uace0\uc790\ub8cc +\ub77c\uc774\ube0c +\ubc30\uacbd\ud654\uba74 +\ub77c\uc774\ube0c\ub7ec\ub9ac +\ub370\ubaa8 +\ub77c\uc774\ud504\uc2a4\ud0c0\uc77c +\ub9cc\ud654 +\ubbf8\ub514\uc5b4 +\ub3d9\uc601\uc0c1 +\ube44\uc988\ub2c8\uc2a4 +\uc0ac\uc9c4 +\uc0dd\uc0b0\uc131 +\uc18c\uc15c +\ucf58\ud150\uce20 +\uc1fc\ud551 +\uc704\uc82f +\uc790\ub3d9\ucc28 +\uacbd\uc8fc +\ub2e4\uc774\uc5b4\ud2b8 +\ub2ec\ub825 +\uc0dd\ub9ac +\uce98\ub9b0\ub354 +\uc0ac\uc8fc\ud314\uc790 +\uad81\ud569 +\uccb4\uc911 +\uc0ac\uc804 +\ucef4\ud4e8\ud130 +\ubc31\uacfc\uc0ac\uc804 +\uae09\uc2dd +\ud559\uad50 +\ucd08\ub4f1\ud559\uad50 +\uc911\ud559\uad50 +\uace0\ub4f1\ud559\uad50 +\ub300\ud559\uad50 +Korea +\ub124\ube44\uac8c\uc774\uc158 +\uc9c0\ud558\ucca0 +\uc885\uacb0\uc790 +\ub0b4\ube44 +\uac00\uacc4\ubd80 +Money +\uc2a4\ub9c8\ud2b8 +\uacc4\uc0b0\uae30 +\uc740\ud589 +\uac80\uc0c9\uc5b4 +\uc2e4\uc2dc\uac04 +\uc2e0\ubb38 +\ud074\ub798\uc2dd +\ub7f0\ucc98 +\uc8fc\uc18c\ub85d +\ud3f0 +\ubc14\uc774\ub7ec\uc2a4 +\ubcf4\uc548 +\uc131\uacbd +\ucc2c\uc1a1 +\ubc14\uc774\ube14 +\ubc31\uc2e0 +\uc6f9 +\uc2a4\ud2f0\ucee4 +\uc0ac\uc8fc +\uc6b4\uc138 +\ucf54\ubbf9 +3D +\ubcc4\uc790\ub9ac +tool +\uc6f9\ud230 +\ud50c\ub808\uc774\uc5b4 +\uce74\uba54\ub77c +\ubca8\uc18c\ub9ac +\ud55c\uae00 +\uc624\ud53c\uc2a4 +offic +\uc54c\ubc14 +photo +\ub4dc\ub77c\uc774\ube0c +\ud30c\uc77c +\uac24\ub7ec\ub9ac +\uadf8\ub8f9 +\ubc14\ucf54\ub4dc +\uc2a4\uce90\ub108 +\uc18c\uc15c\ucee4\uba38\uc2a4 +\uc18c\uc15c\n"
       ]
      }
     ],
     "prompt_number": 8
    },
    {
     "cell_type": "code",
     "collapsed": false,
     "input": [
      "key = load('Keyword.txt')\n",
      "keywords = [\"\"]\n",
      "for c in key[0]:\n",
      "    keywords.append('+'+c.replace(\" \", \"\"))\n",
      "\n",
      "\n",
      "print ' '.join(keywords)"
     ],
     "language": "python",
     "metadata": {},
     "outputs": [
      {
       "output_type": "stream",
       "stream": "stdout",
       "text": [
        " +\ufeff\ud37c\uc990 +\uce90\uc8fc\uc5bc +\uc544\ucf00\uc774\ub4dc +\uacf5\ub7b5 +\ub808\uc774\uc2f1 +RPG +\uce74\ub4dc +\ub514\ud39c\uc2a4 +\ub450\ub1cc +\uc2dc\ubbac +\ub2ec\ub9ac\uae30 +\uc288\ud305 +\ucd95\uad6c +\uacbd\uc601 +\ud0c0\uc774\ucfe4 +\ud0c8\ucd9c +\ucd94\ub9ac +\uc7a5\uae30 +\ube44\ud589\uae30 +\uc0ac\ucc9c\uc131 +\uc2a4\ud3ec\uce20 +\ub18d\uad6c +\ub09a\uc2dc +\uc74c\uc545 +\uce74\ud1a1 +\uace8\ud504 +\ub2f9\uad6c +\uc57c\uad6c +\ubcfc\ub9c1 +\ud14c\uc774\uc2a4 +\uc0bc\uad6d\uc9c0 +TCG +\uc804\uc7c1 +\uac74\uac15 +\uc6b4\ub3d9 +\uad50\uc721 +\uad50\ud1b5 +\uae08\uc735 +\ub0a0\uc528 +\ub274\uc2a4 +\uc7a1\uc9c0 +\ub370\ucf54\ub808\uc774\uc158 +\ub3c4\uad6c +\ub3c4\uc11c +\ucc38\uace0\uc790\ub8cc +\ub77c\uc774\ube0c +\ubc30\uacbd\ud654\uba74 +\ub77c\uc774\ube0c\ub7ec\ub9ac +\ub370\ubaa8 +\ub77c\uc774\ud504\uc2a4\ud0c0\uc77c +\ub9cc\ud654 +\ubbf8\ub514\uc5b4 +\ub3d9\uc601\uc0c1 +\ube44\uc988\ub2c8\uc2a4 +\uc0ac\uc9c4 +\uc0dd\uc0b0\uc131 +\uc18c\uc15c +\ucf58\ud150\uce20 +\uc1fc\ud551 +\uc704\uc82f +\uc790\ub3d9\ucc28 +\uacbd\uc8fc +\ub2e4\uc774\uc5b4\ud2b8 +\ub2ec\ub825 +\uc0dd\ub9ac +\uce98\ub9b0\ub354 +\uc0ac\uc8fc\ud314\uc790 +\uad81\ud569 +\uccb4\uc911 +\uc0ac\uc804 +\ucef4\ud4e8\ud130 +\ubc31\uacfc\uc0ac\uc804 +\uae09\uc2dd +\ud559\uad50 +\ucd08\ub4f1\ud559\uad50 +\uc911\ud559\uad50 +\uace0\ub4f1\ud559\uad50 +\ub300\ud559\uad50 +Korea +\ub124\ube44\uac8c\uc774\uc158 +\uc9c0\ud558\ucca0 +\uc885\uacb0\uc790 +\ub0b4\ube44 +\uac00\uacc4\ubd80 +Money +\uc2a4\ub9c8\ud2b8 +\uacc4\uc0b0\uae30 +\uc740\ud589 +\uac80\uc0c9\uc5b4 +\uc2e4\uc2dc\uac04 +\uc2e0\ubb38 +\ud074\ub798\uc2dd +\ub7f0\ucc98 +\uc8fc\uc18c\ub85d +\ud3f0 +\ubc14\uc774\ub7ec\uc2a4 +\ubcf4\uc548 +\uc131\uacbd +\ucc2c\uc1a1 +\ubc14\uc774\ube14 +\ubc31\uc2e0 +\uc6f9 +\uc2a4\ud2f0\ucee4 +\uc0ac\uc8fc +\uc6b4\uc138 +\ucf54\ubbf9 +3D +\ubcc4\uc790\ub9ac +tool +\uc6f9\ud230 +\ud50c\ub808\uc774\uc5b4 +\uce74\uba54\ub77c +\ubca8\uc18c\ub9ac +\ud55c\uae00 +\uc624\ud53c\uc2a4 +offic +\uc54c\ubc14 +photo +\ub4dc\ub77c\uc774\ube0c +\ud30c\uc77c +\uac24\ub7ec\ub9ac +\uadf8\ub8f9 +\ubc14\ucf54\ub4dc +\uc2a4\uce90\ub108 +\uc18c\uc15c\ucee4\uba38\uc2a4 +\uc18c\uc15c\n"
       ]
      }
     ],
     "prompt_number": 7
    },
    {
     "cell_type": "code",
     "collapsed": false,
     "input": [
      "app2_2000_name?"
     ],
     "language": "python",
     "metadata": {},
     "outputs": [],
     "prompt_number": 9
    },
    {
     "cell_type": "code",
     "collapsed": false,
     "input": [
      "for i, a in app2_2000_name.iterrows():\n",
      "    print a['name']"
     ],
     "language": "python",
     "metadata": {},
     "outputs": [
      {
       "output_type": "stream",
       "stream": "stdout",
       "text": [
        "100 \ubbf8\uc158 : \ub77c\uc2a4 \ubca0\uc774\uac70\uc2a4 (Las Vegas)\n",
        "\uc778\ubca0\uc774\ub354\ud5cc\ud130\n",
        "GTA Vice City Cheater\n",
        "\uc5d8\uc18c\ub4dc \uc2a4\ud0ac\ud2b8\ub9ac(\uc544\ub77c)\n",
        "\ubbf8\ub140\ubcc0\ud638\uc0ac\uc138\ub9ac\ud0b4\n"
       ]
      }
     ],
     "prompt_number": 17
    },
    {
     "cell_type": "code",
     "collapsed": false,
     "input": [
      "import sys\n",
      "import re\n",
      "import requests\n",
      "from scrapy.selector import HtmlXPathSelector\n",
      "import time\n",
      "\n",
      "class NaverCrawler(object):\n",
      "    \n",
      "    def __init__(self, searchWordsAsSeries, startIndex=None, endIndex=None): \n",
      "        # 2\ubc88\uc9f8 \ud30c\ub77c\ubbf8\ud130 dataFrame.index\ub97c \ubc1b\ub294\ub2e4.\n",
      "        self.startIndex = startIndex if startIndex != None else 0\n",
      "        self.endIndex = endIndex if endIndex != None else len(searchWordsAsSeries)\n",
      "        self.waitMinute = 0\n",
      "        self.searchWordsAsSeries= searchWordsAsSeries\n",
      "    \n",
      "    def __search(self,q):\n",
      "        \"\"\"\n",
      "        parameter:\n",
      "            q : String for search.\n",
      "        \"\"\"\n",
      "        try:\n",
      "            q='+'.join(q.split())\n",
      "            xpath = \"\"\"//div[@id='content']/div[@class='blog section _blogBase']/div[@class='section_head']/span[@class='title_num']\"\"\"\n",
      "            html = requests.get(\"http://cafeblog.search.naver.com/search.naver?where=post&sm=tab_jum&ie=utf8&query=\"+q).text\n",
      "            hx =HtmlXPathSelector(text=html)\n",
      "            items = hx.select(xpath)\n",
      "            inputstr = (items.extract()[0].split()[3]+\"\")\n",
      "            result = int(''.join(re.findall(r'\\d+', inputstr)))\n",
      "            print result\n",
      "            return result\n",
      "        except:\n",
      "            print \"except 0\"\n",
      "            return 0\n",
      "        \n",
      "    \n",
      "    def __ifError(self,word):\n",
      "        print \"stuck at \"+word\n",
      "        while True:\n",
      "            time.sleep(self.waitMinute*60)\n",
      "            try:\n",
      "                self.__search(word)\n",
      "                print \"sleeping... :  %d\" %(self.waitMinute*60)\n",
      "            except:\n",
      "                self.waitMinute += 1\n",
      "                continue\n",
      "            break\n",
      "        print \"escape!!!\"\n",
      "    \n",
      "    def start(self):\n",
      "        for index in range(self.startIndex,self.endIndex):\n",
      "            word = self.searchWordsAsSeries[index]\n",
      "            try:\n",
      "                set_query_count('+'.join(word.split()),self.__search(word))\n",
      "            except: # Naver\uc5d0\uc11c \ud06c\ub864\ub7ec \ube14\ub7ed.\n",
      "                print \"stuck index: %d, %s \"%index, word\n",
      "                self.__ifError(word)\n",
      "            if index % 100 ==0 and index!=0:\n",
      "                print \"pass 100 : %d\"%index\n",
      "        print \"doneait\"\n",
      "                "
     ],
     "language": "python",
     "metadata": {},
     "outputs": [],
     "prompt_number": 11
    },
    {
     "cell_type": "markdown",
     "metadata": {},
     "source": [
      "* print np.array(app2_2000_name, dtype=str) (x)\n",
      "\n",
      "* print ''.join(searchWordArray[0]) (o)"
     ]
    },
    {
     "cell_type": "code",
     "collapsed": false,
     "input": [
      "keyword = keywords\n",
      "searchWordArray = np.array(app2_2000_name)\n",
      "#for i, a in app2_2000_name.iterrows():\n",
      "#    print a['name']\n",
      "for a in searchWordArray:\n",
      "    a = ''.join(a)\n",
      "    print \"app %s start\\n\" % a\n",
      "    for key in keyword:\n",
      "        print \"\\tkey %s start\" %key\n",
      "        searchWordList = [\"\".join(a)+key]\n",
      "        cw = NaverCrawler(searchWordsAsSeries=searchWordList)\n",
      "        cw.start()\n",
      "    print \"real done.\""
     ],
     "language": "python",
     "metadata": {},
     "outputs": [
      {
       "output_type": "stream",
       "stream": "stdout",
       "text": [
        "app 100 \ubbf8\uc158 : \ub77c\uc2a4 \ubca0\uc774\uac70\uc2a4 (Las Vegas) start\n",
        "\n",
        "\tkey  start\n",
        "421"
       ]
      },
      {
       "output_type": "stream",
       "stream": "stdout",
       "text": [
        "\n",
        "doneait\n",
        "\tkey +\ufeff\ud37c\uc990 start\n",
        "20"
       ]
      },
      {
       "output_type": "stream",
       "stream": "stdout",
       "text": [
        "\n",
        "doneait\n",
        "\tkey +\uce90\uc8fc\uc5bc start\n",
        "20"
       ]
      },
      {
       "output_type": "stream",
       "stream": "stdout",
       "text": [
        "\n",
        "doneait\n",
        "\tkey +\uc544\ucf00\uc774\ub4dc start\n",
        "27"
       ]
      },
      {
       "output_type": "stream",
       "stream": "stdout",
       "text": [
        "\n",
        "doneait\n",
        "\tkey +\uacf5\ub7b5 start\n",
        "34"
       ]
      },
      {
       "output_type": "stream",
       "stream": "stdout",
       "text": [
        "\n",
        "doneait\n",
        "\tkey +\ub808\uc774\uc2f1 start\n",
        "21"
       ]
      },
      {
       "output_type": "stream",
       "stream": "stdout",
       "text": [
        "\n",
        "doneait\n",
        "\tkey +RPG start\n",
        "14"
       ]
      },
      {
       "output_type": "stream",
       "stream": "stdout",
       "text": [
        "\n",
        "doneait\n",
        "\tkey +\uce74\ub4dc start\n",
        "84"
       ]
      },
      {
       "output_type": "stream",
       "stream": "stdout",
       "text": [
        "\n",
        "doneait\n",
        "\tkey +\ub514\ud39c\uc2a4 start\n",
        "14"
       ]
      },
      {
       "output_type": "stream",
       "stream": "stdout",
       "text": [
        "\n",
        "doneait\n",
        "\tkey +\ub450\ub1cc start\n",
        "29"
       ]
      },
      {
       "output_type": "stream",
       "stream": "stdout",
       "text": [
        "\n",
        "doneait\n",
        "\tkey +\uc2dc\ubbac start\n",
        "12"
       ]
      },
      {
       "output_type": "stream",
       "stream": "stdout",
       "text": [
        "\n",
        "doneait\n",
        "\tkey +\ub2ec\ub9ac\uae30 start\n",
        "21"
       ]
      },
      {
       "output_type": "stream",
       "stream": "stdout",
       "text": [
        "\n",
        "doneait\n",
        "\tkey +\uc288\ud305 start\n",
        "19"
       ]
      },
      {
       "output_type": "stream",
       "stream": "stdout",
       "text": [
        "\n",
        "doneait"
       ]
      },
      {
       "output_type": "stream",
       "stream": "stdout",
       "text": [
        "\n",
        "\tkey +\ucd95\uad6c start\n",
        "51"
       ]
      },
      {
       "output_type": "stream",
       "stream": "stdout",
       "text": [
        "\n",
        "doneait\n",
        "\tkey +\uacbd\uc601 start\n",
        "77"
       ]
      },
      {
       "output_type": "stream",
       "stream": "stdout",
       "text": [
        "\n",
        "doneait\n",
        "\tkey +\ud0c0\uc774\ucfe4 start\n",
        "14"
       ]
      },
      {
       "output_type": "stream",
       "stream": "stdout",
       "text": [
        "\n",
        "doneait\n",
        "\tkey +\ud0c8\ucd9c start\n",
        "47"
       ]
      },
      {
       "output_type": "stream",
       "stream": "stdout",
       "text": [
        "\n",
        "doneait\n",
        "\tkey +\ucd94\ub9ac start\n",
        "17"
       ]
      },
      {
       "output_type": "stream",
       "stream": "stdout",
       "text": [
        "\n",
        "doneait\n",
        "\tkey +\uc7a5\uae30 start\n",
        "50"
       ]
      },
      {
       "output_type": "stream",
       "stream": "stdout",
       "text": [
        "\n",
        "doneait\n",
        "\tkey +\ube44\ud589\uae30 start\n",
        "118"
       ]
      },
      {
       "output_type": "stream",
       "stream": "stdout",
       "text": [
        "\n",
        "doneait"
       ]
      },
      {
       "output_type": "stream",
       "stream": "stdout",
       "text": [
        "\n",
        "\tkey +\uc0ac\ucc9c\uc131 start\n",
        "12"
       ]
      },
      {
       "output_type": "stream",
       "stream": "stdout",
       "text": [
        "\n",
        "doneait\n",
        "\tkey +\uc2a4\ud3ec\uce20 start\n",
        "93"
       ]
      },
      {
       "output_type": "stream",
       "stream": "stdout",
       "text": [
        "\n",
        "doneait\n",
        "\tkey +\ub18d\uad6c start\n",
        "31"
       ]
      },
      {
       "output_type": "stream",
       "stream": "stdout",
       "text": [
        "\n",
        "doneait"
       ]
      },
      {
       "output_type": "stream",
       "stream": "stdout",
       "text": [
        "\n",
        "\tkey +\ub09a\uc2dc start\n",
        "36"
       ]
      },
      {
       "output_type": "stream",
       "stream": "stdout",
       "text": [
        "\n",
        "doneait\n",
        "\tkey +\uc74c\uc545 start\n",
        "156"
       ]
      },
      {
       "output_type": "stream",
       "stream": "stdout",
       "text": [
        "\n",
        "doneait\n",
        "\tkey +\uce74\ud1a1 start\n",
        "12"
       ]
      },
      {
       "output_type": "stream",
       "stream": "stdout",
       "text": [
        "\n",
        "doneait\n",
        "\tkey +\uace8\ud504 start\n",
        "73"
       ]
      },
      {
       "output_type": "stream",
       "stream": "stdout",
       "text": [
        "\n",
        "doneait\n",
        "\tkey +\ub2f9\uad6c start\n",
        "20"
       ]
      },
      {
       "output_type": "stream",
       "stream": "stdout",
       "text": [
        "\n",
        "doneait\n",
        "\tkey +\uc57c\uad6c start\n",
        "40"
       ]
      },
      {
       "output_type": "stream",
       "stream": "stdout",
       "text": [
        "\n",
        "doneait\n",
        "\tkey +\ubcfc\ub9c1 start\n",
        "25"
       ]
      },
      {
       "output_type": "stream",
       "stream": "stdout",
       "text": [
        "\n",
        "doneait\n",
        "\tkey +\ud14c\uc774\uc2a4 start\n",
        "12"
       ]
      },
      {
       "output_type": "stream",
       "stream": "stdout",
       "text": [
        "\n",
        "doneait\n",
        "\tkey +\uc0bc\uad6d\uc9c0 start\n",
        "24"
       ]
      },
      {
       "output_type": "stream",
       "stream": "stdout",
       "text": [
        "\n",
        "doneait\n",
        "\tkey +TCG start\n",
        "12"
       ]
      },
      {
       "output_type": "stream",
       "stream": "stdout",
       "text": [
        "\n",
        "doneait\n",
        "\tkey +\uc804\uc7c1 start\n",
        "119"
       ]
      },
      {
       "output_type": "stream",
       "stream": "stdout",
       "text": [
        "\n",
        "doneait\n",
        "\tkey +\uac74\uac15 start\n",
        "70"
       ]
      },
      {
       "output_type": "stream",
       "stream": "stdout",
       "text": [
        "\n",
        "doneait\n",
        "\tkey +\uc6b4\ub3d9 start\n",
        "80"
       ]
      },
      {
       "output_type": "stream",
       "stream": "stdout",
       "text": [
        "\n",
        "doneait\n",
        "\tkey +\uad50\uc721 start\n",
        "91"
       ]
      },
      {
       "output_type": "stream",
       "stream": "stdout",
       "text": [
        "\n",
        "doneait\n",
        "\tkey +\uad50\ud1b5 start\n",
        "100"
       ]
      },
      {
       "output_type": "stream",
       "stream": "stdout",
       "text": [
        "\n",
        "doneait\n",
        "\tkey +\uae08\uc735 start\n",
        "64"
       ]
      },
      {
       "output_type": "stream",
       "stream": "stdout",
       "text": [
        "\n",
        "doneait\n",
        "\tkey +\ub0a0\uc528 start\n",
        "89"
       ]
      },
      {
       "output_type": "stream",
       "stream": "stdout",
       "text": [
        "\n",
        "doneait\n",
        "\tkey +\ub274\uc2a4 start\n",
        "99"
       ]
      },
      {
       "output_type": "stream",
       "stream": "stdout",
       "text": [
        "\n",
        "doneait\n",
        "\tkey +\uc7a1\uc9c0 start\n",
        "58"
       ]
      },
      {
       "output_type": "stream",
       "stream": "stdout",
       "text": [
        "\n",
        "doneait\n",
        "\tkey +\ub370\ucf54\ub808\uc774\uc158 start\n",
        "12"
       ]
      },
      {
       "output_type": "stream",
       "stream": "stdout",
       "text": [
        "\n",
        "doneait\n",
        "\tkey +\ub3c4\uad6c start\n",
        "41"
       ]
      },
      {
       "output_type": "stream",
       "stream": "stdout",
       "text": [
        "\n",
        "doneait\n",
        "\tkey +\ub3c4\uc11c start\n",
        "31"
       ]
      },
      {
       "output_type": "stream",
       "stream": "stdout",
       "text": [
        "\n",
        "doneait\n",
        "\tkey +\ucc38\uace0\uc790\ub8cc start\n",
        "300"
       ]
      },
      {
       "output_type": "stream",
       "stream": "stdout",
       "text": [
        "\n",
        "doneait\n",
        "\tkey +\ub77c\uc774\ube0c start\n",
        "59"
       ]
      },
      {
       "output_type": "stream",
       "stream": "stdout",
       "text": [
        "\n",
        "doneait\n",
        "\tkey +\ubc30\uacbd\ud654\uba74 start\n",
        "217"
       ]
      },
      {
       "output_type": "stream",
       "stream": "stdout",
       "text": [
        "\n",
        "doneait\n",
        "\tkey +\ub77c\uc774\ube0c\ub7ec\ub9ac start\n",
        "15"
       ]
      },
      {
       "output_type": "stream",
       "stream": "stdout",
       "text": [
        "\n",
        "doneait\n",
        "\tkey +\ub370\ubaa8 start\n",
        "19"
       ]
      },
      {
       "output_type": "stream",
       "stream": "stdout",
       "text": [
        "\n",
        "doneait\n",
        "\tkey +\ub77c\uc774\ud504\uc2a4\ud0c0\uc77c start\n",
        "1142"
       ]
      },
      {
       "output_type": "stream",
       "stream": "stdout",
       "text": [
        "\n",
        "doneait\n",
        "\tkey +\ub9cc\ud654 start\n",
        "43"
       ]
      },
      {
       "output_type": "stream",
       "stream": "stdout",
       "text": [
        "\n",
        "doneait\n",
        "\tkey +\ubbf8\ub514\uc5b4 start\n",
        "69"
       ]
      },
      {
       "output_type": "stream",
       "stream": "stdout",
       "text": [
        "\n",
        "doneait\n",
        "\tkey +\ub3d9\uc601\uc0c1 start\n",
        "58"
       ]
      },
      {
       "output_type": "stream",
       "stream": "stdout",
       "text": [
        "\n",
        "doneait\n",
        "\tkey +\ube44\uc988\ub2c8\uc2a4 start\n",
        "85"
       ]
      },
      {
       "output_type": "stream",
       "stream": "stdout",
       "text": [
        "\n",
        "doneait\n",
        "\tkey +\uc0ac\uc9c4 start\n",
        "191"
       ]
      },
      {
       "output_type": "stream",
       "stream": "stdout",
       "text": [
        "\n",
        "doneait\n",
        "\tkey +\uc0dd\uc0b0\uc131 start\n",
        "19"
       ]
      },
      {
       "output_type": "stream",
       "stream": "stdout",
       "text": [
        "\n",
        "doneait\n",
        "\tkey +\uc18c\uc15c start\n",
        "32"
       ]
      },
      {
       "output_type": "stream",
       "stream": "stdout",
       "text": [
        "\n",
        "doneait\n",
        "\tkey +\ucf58\ud150\uce20 start\n",
        "26"
       ]
      },
      {
       "output_type": "stream",
       "stream": "stdout",
       "text": [
        "\n",
        "doneait\n",
        "\tkey +\uc1fc\ud551 start\n",
        "128"
       ]
      },
      {
       "output_type": "stream",
       "stream": "stdout",
       "text": [
        "\n",
        "doneait\n",
        "\tkey +\uc704\uc82f start\n",
        "12"
       ]
      },
      {
       "output_type": "stream",
       "stream": "stdout",
       "text": [
        "\n",
        "doneait\n",
        "\tkey +\uc790\ub3d9\ucc28 start\n",
        "121"
       ]
      },
      {
       "output_type": "stream",
       "stream": "stdout",
       "text": [
        "\n",
        "doneait\n",
        "\tkey +\uacbd\uc8fc start\n",
        "43"
       ]
      },
      {
       "output_type": "stream",
       "stream": "stdout",
       "text": [
        "\n",
        "doneait\n",
        "\tkey +\ub2e4\uc774\uc5b4\ud2b8 start\n",
        "26"
       ]
      },
      {
       "output_type": "stream",
       "stream": "stdout",
       "text": [
        "\n",
        "doneait\n",
        "\tkey +\ub2ec\ub825 start\n",
        "17"
       ]
      },
      {
       "output_type": "stream",
       "stream": "stdout",
       "text": [
        "\n",
        "doneait\n",
        "\tkey +\uc0dd\ub9ac start\n",
        "17"
       ]
      },
      {
       "output_type": "stream",
       "stream": "stdout",
       "text": [
        "\n",
        "doneait\n",
        "\tkey +\uce98\ub9b0\ub354 start\n",
        "18"
       ]
      },
      {
       "output_type": "stream",
       "stream": "stdout",
       "text": [
        "\n",
        "doneait\n",
        "\tkey +\uc0ac\uc8fc\ud314\uc790 start\n",
        "428"
       ]
      },
      {
       "output_type": "stream",
       "stream": "stdout",
       "text": [
        "\n",
        "doneait\n",
        "\tkey +\uad81\ud569 start\n",
        "14"
       ]
      },
      {
       "output_type": "stream",
       "stream": "stdout",
       "text": [
        "\n",
        "doneait\n",
        "\tkey +\uccb4\uc911 start\n",
        "27"
       ]
      },
      {
       "output_type": "stream",
       "stream": "stdout",
       "text": [
        "\n",
        "doneait\n",
        "\tkey +\uc0ac\uc804 start\n",
        "89"
       ]
      },
      {
       "output_type": "stream",
       "stream": "stdout",
       "text": [
        "\n",
        "doneait\n",
        "\tkey +\ucef4\ud4e8\ud130 start\n",
        "81"
       ]
      },
      {
       "output_type": "stream",
       "stream": "stdout",
       "text": [
        "\n",
        "doneait"
       ]
      },
      {
       "output_type": "stream",
       "stream": "stdout",
       "text": [
        "\n",
        "\tkey +\ubc31\uacfc\uc0ac\uc804 start\n",
        "819"
       ]
      },
      {
       "output_type": "stream",
       "stream": "stdout",
       "text": [
        "\n",
        "doneait"
       ]
      },
      {
       "output_type": "stream",
       "stream": "stdout",
       "text": [
        "\n",
        "\tkey +\uae09\uc2dd start\n",
        "16"
       ]
      },
      {
       "output_type": "stream",
       "stream": "stdout",
       "text": [
        "\n",
        "doneait\n",
        "\tkey +\ud559\uad50 start\n",
        "101"
       ]
      },
      {
       "output_type": "stream",
       "stream": "stdout",
       "text": [
        "\n",
        "doneait\n",
        "\tkey +\ucd08\ub4f1\ud559\uad50 start\n",
        "1422"
       ]
      },
      {
       "output_type": "stream",
       "stream": "stdout",
       "text": [
        "\n",
        "doneait\n",
        "\tkey +\uc911\ud559\uad50 start\n",
        "22"
       ]
      },
      {
       "output_type": "stream",
       "stream": "stdout",
       "text": [
        "\n",
        "doneait\n",
        "\tkey +\uace0\ub4f1\ud559\uad50 start\n",
        "1603"
       ]
      },
      {
       "output_type": "stream",
       "stream": "stdout",
       "text": [
        "\n",
        "doneait"
       ]
      },
      {
       "output_type": "stream",
       "stream": "stdout",
       "text": [
        "\n",
        "\tkey +\ub300\ud559\uad50 start\n",
        "70"
       ]
      },
      {
       "output_type": "stream",
       "stream": "stdout",
       "text": [
        "\n",
        "doneait"
       ]
      },
      {
       "output_type": "stream",
       "stream": "stdout",
       "text": [
        "\n",
        "\tkey +Korea start\n",
        "66"
       ]
      },
      {
       "output_type": "stream",
       "stream": "stdout",
       "text": [
        "\n",
        "doneait\n",
        "\tkey +\ub124\ube44\uac8c\uc774\uc158 start\n",
        "18"
       ]
      },
      {
       "output_type": "stream",
       "stream": "stdout",
       "text": [
        "\n",
        "doneait\n",
        "\tkey +\uc9c0\ud558\ucca0 start\n",
        "33"
       ]
      },
      {
       "output_type": "stream",
       "stream": "stdout",
       "text": [
        "\n",
        "doneait"
       ]
      },
      {
       "output_type": "stream",
       "stream": "stdout",
       "text": [
        "\n",
        "\tkey +\uc885\uacb0\uc790 start\n",
        "15"
       ]
      },
      {
       "output_type": "stream",
       "stream": "stdout",
       "text": [
        "\n",
        "doneait\n",
        "\tkey +\ub0b4\ube44 start\n",
        "12"
       ]
      },
      {
       "output_type": "stream",
       "stream": "stdout",
       "text": [
        "\n",
        "doneait\n",
        "\tkey +\uac00\uacc4\ubd80 start\n",
        "13"
       ]
      },
      {
       "output_type": "stream",
       "stream": "stdout",
       "text": [
        "\n",
        "doneait\n",
        "\tkey +Money start\n",
        "66"
       ]
      },
      {
       "output_type": "stream",
       "stream": "stdout",
       "text": [
        "\n",
        "doneait\n",
        "\tkey +\uc2a4\ub9c8\ud2b8 start\n",
        "50"
       ]
      },
      {
       "output_type": "stream",
       "stream": "stdout",
       "text": [
        "\n",
        "doneait\n",
        "\tkey +\uacc4\uc0b0\uae30 start\n",
        "15"
       ]
      },
      {
       "output_type": "stream",
       "stream": "stdout",
       "text": [
        "\n",
        "doneait\n",
        "\tkey +\uc740\ud589 start\n",
        "70"
       ]
      },
      {
       "output_type": "stream",
       "stream": "stdout",
       "text": [
        "\n",
        "doneait\n",
        "\tkey +\uac80\uc0c9\uc5b4 start\n",
        "15"
       ]
      },
      {
       "output_type": "stream",
       "stream": "stdout",
       "text": [
        "\n",
        "doneait\n",
        "\tkey +\uc2e4\uc2dc\uac04 start\n",
        "33"
       ]
      },
      {
       "output_type": "stream",
       "stream": "stdout",
       "text": [
        "\n",
        "doneait\n",
        "\tkey +\uc2e0\ubb38 start\n",
        "75"
       ]
      },
      {
       "output_type": "stream",
       "stream": "stdout",
       "text": [
        "\n",
        "doneait\n",
        "\tkey +\ud074\ub798\uc2dd start\n",
        "41"
       ]
      },
      {
       "output_type": "stream",
       "stream": "stdout",
       "text": [
        "\n",
        "doneait\n",
        "\tkey +\ub7f0\ucc98 start\n",
        "12"
       ]
      },
      {
       "output_type": "stream",
       "stream": "stdout",
       "text": [
        "\n",
        "doneait\n",
        "\tkey +\uc8fc\uc18c\ub85d start\n",
        "13"
       ]
      },
      {
       "output_type": "stream",
       "stream": "stdout",
       "text": [
        "\n",
        "doneait\n",
        "\tkey +\ud3f0 start\n",
        "67"
       ]
      },
      {
       "output_type": "stream",
       "stream": "stdout",
       "text": [
        "\n",
        "doneait\n",
        "\tkey +\ubc14\uc774\ub7ec\uc2a4 start\n",
        "25"
       ]
      },
      {
       "output_type": "stream",
       "stream": "stdout",
       "text": [
        "\n",
        "doneait\n",
        "\tkey +\ubcf4\uc548 start\n",
        "43"
       ]
      },
      {
       "output_type": "stream",
       "stream": "stdout",
       "text": [
        "\n",
        "doneait\n",
        "\tkey +\uc131\uacbd start\n",
        "33"
       ]
      },
      {
       "output_type": "stream",
       "stream": "stdout",
       "text": [
        "\n",
        "doneait\n",
        "\tkey +\ucc2c\uc1a1 start\n",
        "12"
       ]
      },
      {
       "output_type": "stream",
       "stream": "stdout",
       "text": [
        "\n",
        "doneait\n",
        "\tkey +\ubc14\uc774\ube14 start\n",
        "19"
       ]
      },
      {
       "output_type": "stream",
       "stream": "stdout",
       "text": [
        "\n",
        "doneait\n",
        "\tkey +\ubc31\uc2e0 start\n",
        "17"
       ]
      },
      {
       "output_type": "stream",
       "stream": "stdout",
       "text": [
        "\n",
        "doneait\n",
        "\tkey +\uc6f9 start\n",
        "64"
       ]
      },
      {
       "output_type": "stream",
       "stream": "stdout",
       "text": [
        "\n",
        "doneait\n",
        "\tkey +\uc2a4\ud2f0\ucee4 start\n",
        "18"
       ]
      },
      {
       "output_type": "stream",
       "stream": "stdout",
       "text": [
        "\n",
        "doneait\n",
        "\tkey +\uc0ac\uc8fc start\n",
        "23"
       ]
      },
      {
       "output_type": "stream",
       "stream": "stdout",
       "text": [
        "\n",
        "doneait\n",
        "\tkey +\uc6b4\uc138 start\n",
        "17"
       ]
      },
      {
       "output_type": "stream",
       "stream": "stdout",
       "text": [
        "\n",
        "doneait\n",
        "\tkey +\ucf54\ubbf9 start\n",
        "28"
       ]
      },
      {
       "output_type": "stream",
       "stream": "stdout",
       "text": [
        "\n",
        "doneait\n",
        "\tkey +3D start\n",
        "42"
       ]
      },
      {
       "output_type": "stream",
       "stream": "stdout",
       "text": [
        "\n",
        "doneait\n",
        "\tkey +\ubcc4\uc790\ub9ac start\n",
        "17"
       ]
      },
      {
       "output_type": "stream",
       "stream": "stdout",
       "text": [
        "\n",
        "doneait\n",
        "\tkey +tool start\n",
        "19"
       ]
      },
      {
       "output_type": "stream",
       "stream": "stdout",
       "text": [
        "\n",
        "doneait\n",
        "\tkey +\uc6f9\ud230 start\n",
        "12"
       ]
      },
      {
       "output_type": "stream",
       "stream": "stdout",
       "text": [
        "\n",
        "doneait\n",
        "\tkey +\ud50c\ub808\uc774\uc5b4 start\n",
        "31"
       ]
      },
      {
       "output_type": "stream",
       "stream": "stdout",
       "text": [
        "\n",
        "doneait\n",
        "\tkey +\uce74\uba54\ub77c start\n",
        "80"
       ]
      },
      {
       "output_type": "stream",
       "stream": "stdout",
       "text": [
        "\n",
        "doneait\n",
        "\tkey +\ubca8\uc18c\ub9ac start\n",
        "16"
       ]
      },
      {
       "output_type": "stream",
       "stream": "stdout",
       "text": [
        "\n",
        "doneait\n",
        "\tkey +\ud55c\uae00 start\n",
        "39"
       ]
      },
      {
       "output_type": "stream",
       "stream": "stdout",
       "text": [
        "\n",
        "doneait\n",
        "\tkey +\uc624\ud53c\uc2a4 start\n",
        "28"
       ]
      },
      {
       "output_type": "stream",
       "stream": "stdout",
       "text": [
        "\n",
        "doneait\n",
        "\tkey +offic start\n",
        "12"
       ]
      },
      {
       "output_type": "stream",
       "stream": "stdout",
       "text": [
        "\n",
        "doneait\n",
        "\tkey +\uc54c\ubc14 start\n",
        "21"
       ]
      },
      {
       "output_type": "stream",
       "stream": "stdout",
       "text": [
        "\n",
        "doneait\n",
        "\tkey +photo start\n",
        "44"
       ]
      },
      {
       "output_type": "stream",
       "stream": "stdout",
       "text": [
        "\n",
        "doneait\n",
        "\tkey +\ub4dc\ub77c\uc774\ube0c start\n",
        "41"
       ]
      },
      {
       "output_type": "stream",
       "stream": "stdout",
       "text": [
        "\n",
        "doneait\n",
        "\tkey +\ud30c\uc77c start\n",
        "38"
       ]
      },
      {
       "output_type": "stream",
       "stream": "stdout",
       "text": [
        "\n",
        "doneait\n",
        "\tkey +\uac24\ub7ec\ub9ac start\n",
        "34"
       ]
      },
      {
       "output_type": "stream",
       "stream": "stdout",
       "text": [
        "\n",
        "doneait\n",
        "\tkey +\uadf8\ub8f9 start\n",
        "117"
       ]
      },
      {
       "output_type": "stream",
       "stream": "stdout",
       "text": [
        "\n",
        "doneait\n",
        "\tkey +\ubc14\ucf54\ub4dc start\n",
        "14"
       ]
      },
      {
       "output_type": "stream",
       "stream": "stdout",
       "text": [
        "\n",
        "doneait\n",
        "\tkey +\uc2a4\uce90\ub108 start\n",
        "14"
       ]
      },
      {
       "output_type": "stream",
       "stream": "stdout",
       "text": [
        "\n",
        "doneait\n",
        "\tkey +\uc18c\uc15c\ucee4\uba38\uc2a4 start\n",
        "522"
       ]
      },
      {
       "output_type": "stream",
       "stream": "stdout",
       "text": [
        "\n",
        "doneait\n",
        "\tkey +\uc18c\uc15c start\n",
        "32"
       ]
      },
      {
       "output_type": "stream",
       "stream": "stdout",
       "text": [
        "\n",
        "doneait\n",
        "real done.\n",
        "app \uc778\ubca0\uc774\ub354\ud5cc\ud130 start\n",
        "\n",
        "\tkey  start\n",
        "187"
       ]
      },
      {
       "output_type": "stream",
       "stream": "stdout",
       "text": [
        "\n",
        "doneait\n",
        "\tkey +\ufeff\ud37c\uc990 start\n",
        "52"
       ]
      },
      {
       "output_type": "stream",
       "stream": "stdout",
       "text": [
        "\n",
        "doneait\n",
        "\tkey +\uce90\uc8fc\uc5bc start\n",
        "2"
       ]
      },
      {
       "output_type": "stream",
       "stream": "stdout",
       "text": [
        "\n",
        "doneait\n",
        "\tkey +\uc544\ucf00\uc774\ub4dc start\n",
        "37"
       ]
      },
      {
       "output_type": "stream",
       "stream": "stdout",
       "text": [
        "\n",
        "doneait\n",
        "\tkey +\uacf5\ub7b5 start\n",
        "22"
       ]
      },
      {
       "output_type": "stream",
       "stream": "stdout",
       "text": [
        "\n",
        "doneait\n",
        "\tkey +\ub808\uc774\uc2f1 start\n",
        "28"
       ]
      },
      {
       "output_type": "stream",
       "stream": "stdout",
       "text": [
        "\n",
        "doneait\n",
        "\tkey +RPG start\n",
        "30"
       ]
      },
      {
       "output_type": "stream",
       "stream": "stdout",
       "text": [
        "\n",
        "doneait\n",
        "\tkey +\uce74\ub4dc start\n",
        "32"
       ]
      },
      {
       "output_type": "stream",
       "stream": "stdout",
       "text": [
        "\n",
        "doneait\n",
        "\tkey +\ub514\ud39c\uc2a4 start\n",
        "11"
       ]
      },
      {
       "output_type": "stream",
       "stream": "stdout",
       "text": [
        "\n",
        "doneait\n",
        "\tkey +\ub450\ub1cc start\n",
        "6"
       ]
      },
      {
       "output_type": "stream",
       "stream": "stdout",
       "text": [
        "\n",
        "doneait\n",
        "\tkey +\uc2dc\ubbac start\n",
        "3"
       ]
      },
      {
       "output_type": "stream",
       "stream": "stdout",
       "text": [
        "\n",
        "doneait"
       ]
      },
      {
       "output_type": "stream",
       "stream": "stdout",
       "text": [
        "\n",
        "\tkey +\ub2ec\ub9ac\uae30 start\n",
        "10"
       ]
      },
      {
       "output_type": "stream",
       "stream": "stdout",
       "text": [
        "\n",
        "doneait\n",
        "\tkey +\uc288\ud305 start\n",
        "47"
       ]
      },
      {
       "output_type": "stream",
       "stream": "stdout",
       "text": [
        "\n",
        "doneait\n",
        "\tkey +\ucd95\uad6c start\n",
        "23"
       ]
      },
      {
       "output_type": "stream",
       "stream": "stdout",
       "text": [
        "\n",
        "doneait\n",
        "\tkey +\uacbd\uc601 start\n",
        "8"
       ]
      },
      {
       "output_type": "stream",
       "stream": "stdout",
       "text": [
        "\n",
        "doneait\n",
        "\tkey +\ud0c0\uc774\ucfe4 start\n",
        "5"
       ]
      },
      {
       "output_type": "stream",
       "stream": "stdout",
       "text": [
        "\n",
        "doneait\n",
        "\tkey +\ud0c8\ucd9c start\n",
        "31"
       ]
      },
      {
       "output_type": "stream",
       "stream": "stdout",
       "text": [
        "\n",
        "doneait\n",
        "\tkey +\ucd94\ub9ac start\n",
        "4"
       ]
      },
      {
       "output_type": "stream",
       "stream": "stdout",
       "text": [
        "\n",
        "doneait\n",
        "\tkey +\uc7a5\uae30 start\n",
        "11"
       ]
      },
      {
       "output_type": "stream",
       "stream": "stdout",
       "text": [
        "\n",
        "doneait\n",
        "\tkey +\ube44\ud589\uae30 start\n",
        "9"
       ]
      },
      {
       "output_type": "stream",
       "stream": "stdout",
       "text": [
        "\n",
        "doneait\n",
        "\tkey +\uc0ac\ucc9c\uc131 start\n",
        "except 0"
       ]
      },
      {
       "output_type": "stream",
       "stream": "stdout",
       "text": [
        "\n",
        "doneait\n",
        "\tkey +\uc2a4\ud3ec\uce20 start\n",
        "33"
       ]
      },
      {
       "output_type": "stream",
       "stream": "stdout",
       "text": [
        "\n",
        "doneait\n",
        "\tkey +\ub18d\uad6c start\n",
        "7"
       ]
      },
      {
       "output_type": "stream",
       "stream": "stdout",
       "text": [
        "\n",
        "doneait\n",
        "\tkey +\ub09a\uc2dc start\n",
        "10"
       ]
      },
      {
       "output_type": "stream",
       "stream": "stdout",
       "text": [
        "\n",
        "doneait\n",
        "\tkey +\uc74c\uc545 start\n",
        "22"
       ]
      },
      {
       "output_type": "stream",
       "stream": "stdout",
       "text": [
        "\n",
        "doneait\n",
        "\tkey +\uce74\ud1a1 start\n",
        "1"
       ]
      },
      {
       "output_type": "stream",
       "stream": "stdout",
       "text": [
        "\n",
        "doneait\n",
        "\tkey +\uace8\ud504 start\n",
        "36"
       ]
      },
      {
       "output_type": "stream",
       "stream": "stdout",
       "text": [
        "\n",
        "doneait\n",
        "\tkey +\ub2f9\uad6c start\n",
        "4"
       ]
      },
      {
       "output_type": "stream",
       "stream": "stdout",
       "text": [
        "\n",
        "doneait\n",
        "\tkey +\uc57c\uad6c start\n",
        "31"
       ]
      },
      {
       "output_type": "stream",
       "stream": "stdout",
       "text": [
        "\n",
        "doneait\n",
        "\tkey +\ubcfc\ub9c1 start\n",
        "17"
       ]
      },
      {
       "output_type": "stream",
       "stream": "stdout",
       "text": [
        "\n",
        "doneait"
       ]
      },
      {
       "output_type": "stream",
       "stream": "stdout",
       "text": [
        "\n",
        "\tkey +\ud14c\uc774\uc2a4 start\n",
        "1"
       ]
      },
      {
       "output_type": "stream",
       "stream": "stdout",
       "text": [
        "\n",
        "doneait\n",
        "\tkey +\uc0bc\uad6d\uc9c0 start\n",
        "12"
       ]
      },
      {
       "output_type": "stream",
       "stream": "stdout",
       "text": [
        "\n",
        "doneait\n",
        "\tkey +TCG start\n",
        "2"
       ]
      },
      {
       "output_type": "stream",
       "stream": "stdout",
       "text": [
        "\n",
        "doneait\n",
        "\tkey +\uc804\uc7c1 start\n",
        "37"
       ]
      },
      {
       "output_type": "stream",
       "stream": "stdout",
       "text": [
        "\n",
        "doneait\n",
        "\tkey +\uac74\uac15 start\n",
        "9"
       ]
      },
      {
       "output_type": "stream",
       "stream": "stdout",
       "text": [
        "\n",
        "doneait\n",
        "\tkey +\uc6b4\ub3d9 start\n",
        "6"
       ]
      },
      {
       "output_type": "stream",
       "stream": "stdout",
       "text": [
        "\n",
        "doneait"
       ]
      },
      {
       "output_type": "stream",
       "stream": "stdout",
       "text": [
        "\n",
        "\tkey +\uad50\uc721 start\n",
        "17"
       ]
      },
      {
       "output_type": "stream",
       "stream": "stdout",
       "text": [
        "\n",
        "doneait\n",
        "\tkey +\uad50\ud1b5 start\n",
        "7"
       ]
      },
      {
       "output_type": "stream",
       "stream": "stdout",
       "text": [
        "\n",
        "doneait"
       ]
      },
      {
       "output_type": "stream",
       "stream": "stdout",
       "text": [
        "\n",
        "\tkey +\uae08\uc735 start\n",
        "except 0"
       ]
      },
      {
       "output_type": "stream",
       "stream": "stdout",
       "text": [
        "\n",
        "doneait\n",
        "\tkey +\ub0a0\uc528 start\n",
        "5"
       ]
      },
      {
       "output_type": "stream",
       "stream": "stdout",
       "text": [
        "\n",
        "doneait\n",
        "\tkey +\ub274\uc2a4 start\n",
        "11"
       ]
      },
      {
       "output_type": "stream",
       "stream": "stdout",
       "text": [
        "\n",
        "doneait\n",
        "\tkey +\uc7a1\uc9c0 start\n",
        "12"
       ]
      },
      {
       "output_type": "stream",
       "stream": "stdout",
       "text": [
        "\n",
        "doneait\n",
        "\tkey +\ub370\ucf54\ub808\uc774\uc158 start\n",
        "except 0"
       ]
      },
      {
       "output_type": "stream",
       "stream": "stdout",
       "text": [
        "\n",
        "doneait\n",
        "\tkey +\ub3c4\uad6c start\n",
        "2"
       ]
      },
      {
       "output_type": "stream",
       "stream": "stdout",
       "text": [
        "\n",
        "doneait"
       ]
      },
      {
       "output_type": "stream",
       "stream": "stdout",
       "text": [
        "\n",
        "\tkey +\ub3c4\uc11c start\n",
        "3"
       ]
      },
      {
       "output_type": "stream",
       "stream": "stdout",
       "text": [
        "\n",
        "doneait\n",
        "\tkey +\ucc38\uace0\uc790\ub8cc start\n",
        "3"
       ]
      },
      {
       "output_type": "stream",
       "stream": "stdout",
       "text": [
        "\n",
        "doneait"
       ]
      },
      {
       "output_type": "stream",
       "stream": "stdout",
       "text": [
        "\n",
        "\tkey +\ub77c\uc774\ube0c start\n",
        "16"
       ]
      },
      {
       "output_type": "stream",
       "stream": "stdout",
       "text": [
        "\n",
        "doneait\n",
        "\tkey +\ubc30\uacbd\ud654\uba74 start\n",
        "8"
       ]
      },
      {
       "output_type": "stream",
       "stream": "stdout",
       "text": [
        "\n",
        "doneait\n",
        "\tkey +\ub77c\uc774\ube0c\ub7ec\ub9ac start\n",
        "2"
       ]
      },
      {
       "output_type": "stream",
       "stream": "stdout",
       "text": [
        "\n",
        "doneait"
       ]
      },
      {
       "output_type": "stream",
       "stream": "stdout",
       "text": [
        "\n",
        "\tkey +\ub370\ubaa8 start\n",
        "7"
       ]
      },
      {
       "output_type": "stream",
       "stream": "stdout",
       "text": [
        "\n",
        "doneait"
       ]
      },
      {
       "output_type": "stream",
       "stream": "stdout",
       "text": [
        "\n",
        "\tkey +\ub77c\uc774\ud504\uc2a4\ud0c0\uc77c start\n",
        "except 0"
       ]
      },
      {
       "output_type": "stream",
       "stream": "stdout",
       "text": [
        "\n",
        "doneait\n",
        "\tkey +\ub9cc\ud654 start\n",
        "21"
       ]
      },
      {
       "output_type": "stream",
       "stream": "stdout",
       "text": [
        "\n",
        "doneait\n",
        "\tkey +\ubbf8\ub514\uc5b4 start\n",
        "14"
       ]
      },
      {
       "output_type": "stream",
       "stream": "stdout",
       "text": [
        "\n",
        "doneait\n",
        "\tkey +\ub3d9\uc601\uc0c1 start\n",
        "8"
       ]
      },
      {
       "output_type": "stream",
       "stream": "stdout",
       "text": [
        "\n",
        "doneait\n",
        "\tkey +\ube44\uc988\ub2c8\uc2a4 start\n",
        "1"
       ]
      },
      {
       "output_type": "stream",
       "stream": "stdout",
       "text": [
        "\n",
        "doneait\n",
        "\tkey +\uc0ac\uc9c4 start\n",
        "25"
       ]
      },
      {
       "output_type": "stream",
       "stream": "stdout",
       "text": [
        "\n",
        "doneait\n",
        "\tkey +\uc0dd\uc0b0\uc131 start\n",
        "except 0"
       ]
      },
      {
       "output_type": "stream",
       "stream": "stdout",
       "text": [
        "\n",
        "doneait\n",
        "\tkey +\uc18c\uc15c start\n",
        "7"
       ]
      },
      {
       "output_type": "stream",
       "stream": "stdout",
       "text": [
        "\n",
        "doneait\n",
        "\tkey +\ucf58\ud150\uce20 start\n",
        "4"
       ]
      },
      {
       "output_type": "stream",
       "stream": "stdout",
       "text": [
        "\n",
        "doneait\n",
        "\tkey +\uc1fc\ud551 start\n",
        "5"
       ]
      },
      {
       "output_type": "stream",
       "stream": "stdout",
       "text": [
        "\n",
        "doneait\n",
        "\tkey +\uc704\uc82f start\n",
        "except 0"
       ]
      },
      {
       "output_type": "stream",
       "stream": "stdout",
       "text": [
        "\n",
        "doneait\n",
        "\tkey +\uc790\ub3d9\ucc28 start\n",
        "20"
       ]
      },
      {
       "output_type": "stream",
       "stream": "stdout",
       "text": [
        "\n",
        "doneait\n",
        "\tkey +\uacbd\uc8fc start\n",
        "4"
       ]
      },
      {
       "output_type": "stream",
       "stream": "stdout",
       "text": [
        "\n",
        "doneait\n",
        "\tkey +\ub2e4\uc774\uc5b4\ud2b8 start\n",
        "6"
       ]
      },
      {
       "output_type": "stream",
       "stream": "stdout",
       "text": [
        "\n",
        "doneait\n",
        "\tkey +\ub2ec\ub825 start\n",
        "3"
       ]
      },
      {
       "output_type": "stream",
       "stream": "stdout",
       "text": [
        "\n",
        "doneait\n",
        "\tkey +\uc0dd\ub9ac start\n",
        "except 0"
       ]
      },
      {
       "output_type": "stream",
       "stream": "stdout",
       "text": [
        "\n",
        "doneait\n",
        "\tkey +\uce98\ub9b0\ub354 start\n",
        "except 0"
       ]
      },
      {
       "output_type": "stream",
       "stream": "stdout",
       "text": [
        "\n",
        "doneait\n",
        "\tkey +\uc0ac\uc8fc\ud314\uc790 start\n",
        "except 0"
       ]
      },
      {
       "output_type": "stream",
       "stream": "stdout",
       "text": [
        "\n",
        "doneait\n",
        "\tkey +\uad81\ud569 start\n",
        "except 0"
       ]
      },
      {
       "output_type": "stream",
       "stream": "stdout",
       "text": [
        "\n",
        "doneait\n",
        "\tkey +\uccb4\uc911 start\n",
        "1"
       ]
      },
      {
       "output_type": "stream",
       "stream": "stdout",
       "text": [
        "\n",
        "doneait\n",
        "\tkey +\uc0ac\uc804 start\n",
        "7"
       ]
      },
      {
       "output_type": "stream",
       "stream": "stdout",
       "text": [
        "\n",
        "doneait\n",
        "\tkey +\ucef4\ud4e8\ud130 start\n",
        "29"
       ]
      },
      {
       "output_type": "stream",
       "stream": "stdout",
       "text": [
        "\n",
        "doneait\n",
        "\tkey +\ubc31\uacfc\uc0ac\uc804 start\n",
        "except 0"
       ]
      },
      {
       "output_type": "stream",
       "stream": "stdout",
       "text": [
        "\n",
        "doneait\n",
        "\tkey +\uae09\uc2dd start\n",
        "1"
       ]
      },
      {
       "output_type": "stream",
       "stream": "stdout",
       "text": [
        "\n",
        "doneait"
       ]
      },
      {
       "output_type": "stream",
       "stream": "stdout",
       "text": [
        "\n",
        "\tkey +\ud559\uad50 start\n",
        "20"
       ]
      },
      {
       "output_type": "stream",
       "stream": "stdout",
       "text": [
        "\n",
        "doneait"
       ]
      },
      {
       "output_type": "stream",
       "stream": "stdout",
       "text": [
        "\n",
        "\tkey +\ucd08\ub4f1\ud559\uad50 start\n",
        "3"
       ]
      },
      {
       "output_type": "stream",
       "stream": "stdout",
       "text": [
        "\n",
        "doneait\n",
        "\tkey +\uc911\ud559\uad50 start\n",
        "2"
       ]
      },
      {
       "output_type": "stream",
       "stream": "stdout",
       "text": [
        "\n",
        "doneait"
       ]
      },
      {
       "output_type": "stream",
       "stream": "stdout",
       "text": [
        "\n",
        "\tkey +\uace0\ub4f1\ud559\uad50 start\n",
        "5"
       ]
      },
      {
       "output_type": "stream",
       "stream": "stdout",
       "text": [
        "\n",
        "doneait\n",
        "\tkey +\ub300\ud559\uad50 start\n",
        "5"
       ]
      },
      {
       "output_type": "stream",
       "stream": "stdout",
       "text": [
        "\n",
        "doneait\n",
        "\tkey +Korea start\n",
        "2"
       ]
      },
      {
       "output_type": "stream",
       "stream": "stdout",
       "text": [
        "\n",
        "doneait\n",
        "\tkey +\ub124\ube44\uac8c\uc774\uc158 start\n",
        "4"
       ]
      },
      {
       "output_type": "stream",
       "stream": "stdout",
       "text": [
        "\n",
        "doneait\n",
        "\tkey +\uc9c0\ud558\ucca0 start\n",
        "4"
       ]
      },
      {
       "output_type": "stream",
       "stream": "stdout",
       "text": [
        "\n",
        "doneait\n",
        "\tkey +\uc885\uacb0\uc790 start\n",
        "1"
       ]
      },
      {
       "output_type": "stream",
       "stream": "stdout",
       "text": [
        "\n",
        "doneait\n",
        "\tkey +\ub0b4\ube44 start\n",
        "except 0"
       ]
      },
      {
       "output_type": "stream",
       "stream": "stdout",
       "text": [
        "\n",
        "doneait\n",
        "\tkey +\uac00\uacc4\ubd80 start\n",
        "1"
       ]
      },
      {
       "output_type": "stream",
       "stream": "stdout",
       "text": [
        "\n",
        "doneait\n",
        "\tkey +Money start\n",
        "2"
       ]
      },
      {
       "output_type": "stream",
       "stream": "stdout",
       "text": [
        "\n",
        "doneait\n",
        "\tkey +\uc2a4\ub9c8\ud2b8 start\n",
        "30"
       ]
      },
      {
       "output_type": "stream",
       "stream": "stdout",
       "text": [
        "\n",
        "doneait\n",
        "\tkey +\uacc4\uc0b0\uae30 start\n",
        "1"
       ]
      },
      {
       "output_type": "stream",
       "stream": "stdout",
       "text": [
        "\n",
        "doneait\n",
        "\tkey +\uc740\ud589 start\n",
        "6"
       ]
      },
      {
       "output_type": "stream",
       "stream": "stdout",
       "text": [
        "\n",
        "doneait\n",
        "\tkey +\uac80\uc0c9\uc5b4 start\n",
        "except 0"
       ]
      },
      {
       "output_type": "stream",
       "stream": "stdout",
       "text": [
        "\n",
        "doneait"
       ]
      },
      {
       "output_type": "stream",
       "stream": "stdout",
       "text": [
        "\n",
        "\tkey +\uc2e4\uc2dc\uac04 start\n",
        "9"
       ]
      },
      {
       "output_type": "stream",
       "stream": "stdout",
       "text": [
        "\n",
        "doneait\n",
        "\tkey +\uc2e0\ubb38 start\n",
        "6"
       ]
      },
      {
       "output_type": "stream",
       "stream": "stdout",
       "text": [
        "\n",
        "doneait\n",
        "\tkey +\ud074\ub798\uc2dd start\n",
        "19"
       ]
      },
      {
       "output_type": "stream",
       "stream": "stdout",
       "text": [
        "\n",
        "doneait\n",
        "\tkey +\ub7f0\ucc98 start\n",
        "2"
       ]
      },
      {
       "output_type": "stream",
       "stream": "stdout",
       "text": [
        "\n",
        "doneait\n",
        "\tkey +\uc8fc\uc18c\ub85d start\n",
        "1"
       ]
      },
      {
       "output_type": "stream",
       "stream": "stdout",
       "text": [
        "\n",
        "doneait\n",
        "\tkey +\ud3f0 start\n",
        "37"
       ]
      },
      {
       "output_type": "stream",
       "stream": "stdout",
       "text": [
        "\n",
        "doneait\n",
        "\tkey +\ubc14\uc774\ub7ec\uc2a4 start\n",
        "8"
       ]
      },
      {
       "output_type": "stream",
       "stream": "stdout",
       "text": [
        "\n",
        "doneait\n",
        "\tkey +\ubcf4\uc548 start\n",
        "3"
       ]
      },
      {
       "output_type": "stream",
       "stream": "stdout",
       "text": [
        "\n",
        "doneait\n",
        "\tkey +\uc131\uacbd start\n",
        "except 0"
       ]
      },
      {
       "output_type": "stream",
       "stream": "stdout",
       "text": [
        "\n",
        "doneait\n",
        "\tkey +\ucc2c\uc1a1 start\n",
        "except 0"
       ]
      },
      {
       "output_type": "stream",
       "stream": "stdout",
       "text": [
        "\n",
        "doneait\n",
        "\tkey +\ubc14\uc774\ube14 start\n",
        "4"
       ]
      },
      {
       "output_type": "stream",
       "stream": "stdout",
       "text": [
        "\n",
        "doneait\n",
        "\tkey +\ubc31\uc2e0 start\n",
        "except 0"
       ]
      },
      {
       "output_type": "stream",
       "stream": "stdout",
       "text": [
        "\n",
        "doneait\n",
        "\tkey +\uc6f9 start\n",
        "10"
       ]
      },
      {
       "output_type": "stream",
       "stream": "stdout",
       "text": [
        "\n",
        "doneait\n",
        "\tkey +\uc2a4\ud2f0\ucee4 start\n",
        "2"
       ]
      },
      {
       "output_type": "stream",
       "stream": "stdout",
       "text": [
        "\n",
        "doneait\n",
        "\tkey +\uc0ac\uc8fc start\n",
        "except 0"
       ]
      },
      {
       "output_type": "stream",
       "stream": "stdout",
       "text": [
        "\n",
        "doneait\n",
        "\tkey +\uc6b4\uc138 start\n",
        "3"
       ]
      },
      {
       "output_type": "stream",
       "stream": "stdout",
       "text": [
        "\n",
        "doneait\n",
        "\tkey +\ucf54\ubbf9 start\n",
        "6"
       ]
      },
      {
       "output_type": "stream",
       "stream": "stdout",
       "text": [
        "\n",
        "doneait\n",
        "\tkey +3D start\n",
        "58"
       ]
      },
      {
       "output_type": "stream",
       "stream": "stdout",
       "text": [
        "\n",
        "doneait\n",
        "\tkey +\ubcc4\uc790\ub9ac start\n",
        "except 0"
       ]
      },
      {
       "output_type": "stream",
       "stream": "stdout",
       "text": [
        "\n",
        "doneait\n",
        "\tkey +tool start\n",
        "1"
       ]
      },
      {
       "output_type": "stream",
       "stream": "stdout",
       "text": [
        "\n",
        "doneait\n",
        "\tkey +\uc6f9\ud230 start\n",
        "1"
       ]
      },
      {
       "output_type": "stream",
       "stream": "stdout",
       "text": [
        "\n",
        "doneait\n",
        "\tkey +\ud50c\ub808\uc774\uc5b4 start\n",
        "16"
       ]
      },
      {
       "output_type": "stream",
       "stream": "stdout",
       "text": [
        "\n",
        "doneait\n",
        "\tkey +\uce74\uba54\ub77c start\n",
        "11"
       ]
      },
      {
       "output_type": "stream",
       "stream": "stdout",
       "text": [
        "\n",
        "doneait\n",
        "\tkey +\ubca8\uc18c\ub9ac start\n",
        "4"
       ]
      },
      {
       "output_type": "stream",
       "stream": "stdout",
       "text": [
        "\n",
        "doneait\n",
        "\tkey +\ud55c\uae00 start\n",
        "12"
       ]
      },
      {
       "output_type": "stream",
       "stream": "stdout",
       "text": [
        "\n",
        "doneait"
       ]
      },
      {
       "output_type": "stream",
       "stream": "stdout",
       "text": [
        "\n",
        "\tkey +\uc624\ud53c\uc2a4 start\n",
        "3"
       ]
      },
      {
       "output_type": "stream",
       "stream": "stdout",
       "text": [
        "\n",
        "doneait\n",
        "\tkey +offic start\n",
        "except 0"
       ]
      },
      {
       "output_type": "stream",
       "stream": "stdout",
       "text": [
        "\n",
        "doneait"
       ]
      },
      {
       "output_type": "stream",
       "stream": "stdout",
       "text": [
        "\n",
        "\tkey +\uc54c\ubc14 start\n",
        "7"
       ]
      },
      {
       "output_type": "stream",
       "stream": "stdout",
       "text": [
        "\n",
        "doneait"
       ]
      },
      {
       "output_type": "stream",
       "stream": "stdout",
       "text": [
        "\n",
        "\tkey +photo start\n",
        "except 0"
       ]
      },
      {
       "output_type": "stream",
       "stream": "stdout",
       "text": [
        "\n",
        "doneait\n",
        "\tkey +\ub4dc\ub77c\uc774\ube0c start\n",
        "20"
       ]
      },
      {
       "output_type": "stream",
       "stream": "stdout",
       "text": [
        "\n",
        "doneait\n",
        "\tkey +\ud30c\uc77c start\n",
        "17"
       ]
      },
      {
       "output_type": "stream",
       "stream": "stdout",
       "text": [
        "\n",
        "doneait\n",
        "\tkey +\uac24\ub7ec\ub9ac start\n",
        "5"
       ]
      },
      {
       "output_type": "stream",
       "stream": "stdout",
       "text": [
        "\n",
        "doneait"
       ]
      },
      {
       "output_type": "stream",
       "stream": "stdout",
       "text": [
        "\n",
        "\tkey +\uadf8\ub8f9 start\n",
        "6"
       ]
      },
      {
       "output_type": "stream",
       "stream": "stdout",
       "text": [
        "\n",
        "doneait\n",
        "\tkey +\ubc14\ucf54\ub4dc start\n",
        "except 0"
       ]
      },
      {
       "output_type": "stream",
       "stream": "stdout",
       "text": [
        "\n",
        "doneait\n",
        "\tkey +\uc2a4\uce90\ub108 start\n",
        "1"
       ]
      },
      {
       "output_type": "stream",
       "stream": "stdout",
       "text": [
        "\n",
        "doneait"
       ]
      },
      {
       "output_type": "stream",
       "stream": "stdout",
       "text": [
        "\n",
        "\tkey +\uc18c\uc15c\ucee4\uba38\uc2a4 start\n",
        "except 0"
       ]
      },
      {
       "output_type": "stream",
       "stream": "stdout",
       "text": [
        "\n",
        "doneait"
       ]
      },
      {
       "output_type": "stream",
       "stream": "stdout",
       "text": [
        "\n",
        "\tkey +\uc18c\uc15c start\n",
        "7"
       ]
      },
      {
       "output_type": "stream",
       "stream": "stdout",
       "text": [
        "\n",
        "doneait\n",
        "real done.\n",
        "app GTA Vice City Cheater start\n",
        "\n",
        "\tkey  start\n",
        "9"
       ]
      },
      {
       "output_type": "stream",
       "stream": "stdout",
       "text": [
        "\n",
        "doneait\n",
        "\tkey +\ufeff\ud37c\uc990 start\n",
        "25"
       ]
      },
      {
       "output_type": "stream",
       "stream": "stdout",
       "text": [
        "\n",
        "doneait\n",
        "\tkey +\uce90\uc8fc\uc5bc start\n",
        "13"
       ]
      },
      {
       "output_type": "stream",
       "stream": "stdout",
       "text": [
        "\n",
        "doneait\n",
        "\tkey +\uc544\ucf00\uc774\ub4dc start\n",
        "45"
       ]
      },
      {
       "output_type": "stream",
       "stream": "stdout",
       "text": [
        "\n",
        "doneait"
       ]
      },
      {
       "output_type": "stream",
       "stream": "stdout",
       "text": [
        "\n",
        "\tkey +\uacf5\ub7b5 start\n",
        "261"
       ]
      },
      {
       "output_type": "stream",
       "stream": "stdout",
       "text": [
        "\n",
        "doneait\n",
        "\tkey +\ub808\uc774\uc2f1 start\n",
        "86"
       ]
      },
      {
       "output_type": "stream",
       "stream": "stdout",
       "text": [
        "\n",
        "doneait\n",
        "\tkey +RPG start\n",
        "57"
       ]
      },
      {
       "output_type": "stream",
       "stream": "stdout",
       "text": [
        "\n",
        "doneait\n",
        "\tkey +\uce74\ub4dc start\n",
        "59"
       ]
      },
      {
       "output_type": "stream",
       "stream": "stdout",
       "text": [
        "\n",
        "doneait\n",
        "\tkey +\ub514\ud39c\uc2a4 start\n",
        "9"
       ]
      },
      {
       "output_type": "stream",
       "stream": "stdout",
       "text": [
        "\n",
        "doneait\n",
        "\tkey +\ub450\ub1cc start\n",
        "15"
       ]
      },
      {
       "output_type": "stream",
       "stream": "stdout",
       "text": [
        "\n",
        "doneait\n",
        "\tkey +\uc2dc\ubbac start\n",
        "13"
       ]
      },
      {
       "output_type": "stream",
       "stream": "stdout",
       "text": [
        "\n",
        "doneait\n",
        "\tkey +\ub2ec\ub9ac\uae30 start\n",
        "17"
       ]
      },
      {
       "output_type": "stream",
       "stream": "stdout",
       "text": [
        "\n",
        "doneait\n",
        "\tkey +\uc288\ud305 start\n",
        "24"
       ]
      },
      {
       "output_type": "stream",
       "stream": "stdout",
       "text": [
        "\n",
        "doneait"
       ]
      },
      {
       "output_type": "stream",
       "stream": "stdout",
       "text": [
        "\n",
        "\tkey +\ucd95\uad6c start\n",
        "20"
       ]
      },
      {
       "output_type": "stream",
       "stream": "stdout",
       "text": [
        "\n",
        "doneait"
       ]
      },
      {
       "output_type": "stream",
       "stream": "stdout",
       "text": [
        "\n",
        "\tkey +\uacbd\uc601 start\n",
        "16"
       ]
      },
      {
       "output_type": "stream",
       "stream": "stdout",
       "text": [
        "\n",
        "doneait\n",
        "\tkey +\ud0c0\uc774\ucfe4 start\n",
        "26"
       ]
      },
      {
       "output_type": "stream",
       "stream": "stdout",
       "text": [
        "\n",
        "doneait"
       ]
      },
      {
       "output_type": "stream",
       "stream": "stdout",
       "text": [
        "\n",
        "\tkey +\ud0c8\ucd9c start\n",
        "48"
       ]
      },
      {
       "output_type": "stream",
       "stream": "stdout",
       "text": [
        "\n",
        "doneait"
       ]
      },
      {
       "output_type": "stream",
       "stream": "stdout",
       "text": [
        "\n",
        "\tkey +\ucd94\ub9ac start\n",
        "11"
       ]
      },
      {
       "output_type": "stream",
       "stream": "stdout",
       "text": [
        "\n",
        "doneait"
       ]
      },
      {
       "output_type": "stream",
       "stream": "stdout",
       "text": [
        "\n",
        "\tkey +\uc7a5\uae30 start\n",
        "12"
       ]
      },
      {
       "output_type": "stream",
       "stream": "stdout",
       "text": [
        "\n",
        "doneait\n",
        "\tkey +\ube44\ud589\uae30 start\n",
        "68"
       ]
      },
      {
       "output_type": "stream",
       "stream": "stdout",
       "text": [
        "\n",
        "doneait\n",
        "\tkey +\uc0ac\ucc9c\uc131 start\n",
        "9"
       ]
      },
      {
       "output_type": "stream",
       "stream": "stdout",
       "text": [
        "\n",
        "doneait"
       ]
      },
      {
       "output_type": "stream",
       "stream": "stdout",
       "text": [
        "\n",
        "\tkey +\uc2a4\ud3ec\uce20 start\n",
        "75"
       ]
      },
      {
       "output_type": "stream",
       "stream": "stdout",
       "text": [
        "\n",
        "doneait"
       ]
      },
      {
       "output_type": "stream",
       "stream": "stdout",
       "text": [
        "\n",
        "\tkey +\ub18d\uad6c start\n",
        "14"
       ]
      },
      {
       "output_type": "stream",
       "stream": "stdout",
       "text": [
        "\n",
        "doneait\n",
        "\tkey +\ub09a\uc2dc start\n",
        "18"
       ]
      },
      {
       "output_type": "stream",
       "stream": "stdout",
       "text": [
        "\n",
        "doneait\n",
        "\tkey +\uc74c\uc545 start\n",
        "89"
       ]
      },
      {
       "output_type": "stream",
       "stream": "stdout",
       "text": [
        "\n",
        "doneait"
       ]
      },
      {
       "output_type": "stream",
       "stream": "stdout",
       "text": [
        "\n",
        "\tkey +\uce74\ud1a1 start\n",
        "12"
       ]
      },
      {
       "output_type": "stream",
       "stream": "stdout",
       "text": [
        "\n",
        "doneait\n",
        "\tkey +\uace8\ud504 start\n",
        "38"
       ]
      },
      {
       "output_type": "stream",
       "stream": "stdout",
       "text": [
        "\n",
        "doneait"
       ]
      },
      {
       "output_type": "stream",
       "stream": "stdout",
       "text": [
        "\n",
        "\tkey +\ub2f9\uad6c start\n",
        "13"
       ]
      },
      {
       "output_type": "stream",
       "stream": "stdout",
       "text": [
        "\n",
        "doneait\n",
        "\tkey +\uc57c\uad6c start\n",
        "27"
       ]
      },
      {
       "output_type": "stream",
       "stream": "stdout",
       "text": [
        "\n",
        "doneait"
       ]
      },
      {
       "output_type": "stream",
       "stream": "stdout",
       "text": [
        "\n",
        "\tkey +\ubcfc\ub9c1 start\n",
        "13"
       ]
      },
      {
       "output_type": "stream",
       "stream": "stdout",
       "text": [
        "\n",
        "doneait"
       ]
      },
      {
       "output_type": "stream",
       "stream": "stdout",
       "text": [
        "\n",
        "\tkey +\ud14c\uc774\uc2a4 start\n",
        "9"
       ]
      },
      {
       "output_type": "stream",
       "stream": "stdout",
       "text": [
        "\n",
        "doneait\n",
        "\tkey +\uc0bc\uad6d\uc9c0 start\n",
        "32"
       ]
      },
      {
       "output_type": "stream",
       "stream": "stdout",
       "text": [
        "\n",
        "doneait"
       ]
      },
      {
       "output_type": "stream",
       "stream": "stdout",
       "text": [
        "\n",
        "\tkey +TCG start\n",
        "9"
       ]
      },
      {
       "output_type": "stream",
       "stream": "stdout",
       "text": [
        "\n",
        "doneait\n",
        "\tkey +\uc804\uc7c1 start\n",
        "66"
       ]
      },
      {
       "output_type": "stream",
       "stream": "stdout",
       "text": [
        "\n",
        "doneait\n",
        "\tkey +\uac74\uac15 start\n",
        "19"
       ]
      },
      {
       "output_type": "stream",
       "stream": "stdout",
       "text": [
        "\n",
        "doneait"
       ]
      },
      {
       "output_type": "stream",
       "stream": "stdout",
       "text": [
        "\n",
        "\tkey +\uc6b4\ub3d9 start\n",
        "28"
       ]
      },
      {
       "output_type": "stream",
       "stream": "stdout",
       "text": [
        "\n",
        "doneait\n",
        "\tkey +\uad50\uc721 start\n",
        "22"
       ]
      },
      {
       "output_type": "stream",
       "stream": "stdout",
       "text": [
        "\n",
        "doneait\n",
        "\tkey +\uad50\ud1b5 start\n",
        "29"
       ]
      },
      {
       "output_type": "stream",
       "stream": "stdout",
       "text": [
        "\n",
        "doneait\n",
        "\tkey +\uae08\uc735 start\n",
        "12"
       ]
      },
      {
       "output_type": "stream",
       "stream": "stdout",
       "text": [
        "\n",
        "doneait"
       ]
      },
      {
       "output_type": "stream",
       "stream": "stdout",
       "text": [
        "\n",
        "\tkey +\ub0a0\uc528 start\n",
        "28"
       ]
      },
      {
       "output_type": "stream",
       "stream": "stdout",
       "text": [
        "\n",
        "doneait"
       ]
      },
      {
       "output_type": "stream",
       "stream": "stdout",
       "text": [
        "\n",
        "\tkey +\ub274\uc2a4 start\n",
        "39"
       ]
      },
      {
       "output_type": "stream",
       "stream": "stdout",
       "text": [
        "\n",
        "doneait\n",
        "\tkey +\uc7a1\uc9c0 start\n",
        "34"
       ]
      },
      {
       "output_type": "stream",
       "stream": "stdout",
       "text": [
        "\n",
        "doneait\n",
        "\tkey +\ub370\ucf54\ub808\uc774\uc158 start\n",
        "10"
       ]
      },
      {
       "output_type": "stream",
       "stream": "stdout",
       "text": [
        "\n",
        "doneait\n",
        "\tkey +\ub3c4\uad6c start\n",
        "15"
       ]
      },
      {
       "output_type": "stream",
       "stream": "stdout",
       "text": [
        "\n",
        "doneait\n",
        "\tkey +\ub3c4\uc11c start\n",
        "16"
       ]
      },
      {
       "output_type": "stream",
       "stream": "stdout",
       "text": [
        "\n",
        "doneait\n",
        "\tkey +\ucc38\uace0\uc790\ub8cc start\n",
        "27"
       ]
      },
      {
       "output_type": "stream",
       "stream": "stdout",
       "text": [
        "\n",
        "doneait\n",
        "\tkey +\ub77c\uc774\ube0c start\n",
        "21"
       ]
      },
      {
       "output_type": "stream",
       "stream": "stdout",
       "text": [
        "\n",
        "doneait\n",
        "\tkey +\ubc30\uacbd\ud654\uba74 start\n",
        "23"
       ]
      },
      {
       "output_type": "stream",
       "stream": "stdout",
       "text": [
        "\n",
        "doneait"
       ]
      },
      {
       "output_type": "stream",
       "stream": "stdout",
       "text": [
        "\n",
        "\tkey +\ub77c\uc774\ube0c\ub7ec\ub9ac start\n",
        "12"
       ]
      },
      {
       "output_type": "stream",
       "stream": "stdout",
       "text": [
        "\n",
        "doneait"
       ]
      },
      {
       "output_type": "stream",
       "stream": "stdout",
       "text": [
        "\n",
        "\tkey +\ub370\ubaa8 start\n",
        "17"
       ]
      },
      {
       "output_type": "stream",
       "stream": "stdout",
       "text": [
        "\n",
        "doneait\n",
        "\tkey +\ub77c\uc774\ud504\uc2a4\ud0c0\uc77c start\n",
        "11"
       ]
      },
      {
       "output_type": "stream",
       "stream": "stdout",
       "text": [
        "\n",
        "doneait\n",
        "\tkey +\ub9cc\ud654 start\n",
        "29"
       ]
      },
      {
       "output_type": "stream",
       "stream": "stdout",
       "text": [
        "\n",
        "doneait"
       ]
      },
      {
       "output_type": "stream",
       "stream": "stdout",
       "text": [
        "\n",
        "\tkey +\ubbf8\ub514\uc5b4 start\n",
        "35"
       ]
      },
      {
       "output_type": "stream",
       "stream": "stdout",
       "text": [
        "\n",
        "doneait\n",
        "\tkey +\ub3d9\uc601\uc0c1 start\n",
        "186"
       ]
      },
      {
       "output_type": "stream",
       "stream": "stdout",
       "text": [
        "\n",
        "doneait\n",
        "\tkey +\ube44\uc988\ub2c8\uc2a4 start\n",
        "12"
       ]
      },
      {
       "output_type": "stream",
       "stream": "stdout",
       "text": [
        "\n",
        "doneait\n",
        "\tkey +\uc0ac\uc9c4 start\n",
        "143"
       ]
      },
      {
       "output_type": "stream",
       "stream": "stdout",
       "text": [
        "\n",
        "doneait\n",
        "\tkey +\uc0dd\uc0b0\uc131 start\n",
        "9"
       ]
      },
      {
       "output_type": "stream",
       "stream": "stdout",
       "text": [
        "\n",
        "doneait"
       ]
      },
      {
       "output_type": "stream",
       "stream": "stdout",
       "text": [
        "\n",
        "\tkey +\uc18c\uc15c start\n",
        "13"
       ]
      },
      {
       "output_type": "stream",
       "stream": "stdout",
       "text": [
        "\n",
        "doneait\n",
        "\tkey +\ucf58\ud150\uce20 start\n",
        "16"
       ]
      },
      {
       "output_type": "stream",
       "stream": "stdout",
       "text": [
        "\n",
        "doneait\n",
        "\tkey +\uc1fc\ud551 start\n",
        "15"
       ]
      },
      {
       "output_type": "stream",
       "stream": "stdout",
       "text": [
        "\n",
        "doneait\n",
        "\tkey +\uc704\uc82f start\n",
        "11"
       ]
      },
      {
       "output_type": "stream",
       "stream": "stdout",
       "text": [
        "\n",
        "doneait\n",
        "\tkey +\uc790\ub3d9\ucc28 start\n",
        "123"
       ]
      },
      {
       "output_type": "stream",
       "stream": "stdout",
       "text": [
        "\n",
        "doneait\n",
        "\tkey +\uacbd\uc8fc start\n",
        "38"
       ]
      },
      {
       "output_type": "stream",
       "stream": "stdout",
       "text": [
        "\n",
        "doneait\n",
        "\tkey +\ub2e4\uc774\uc5b4\ud2b8 start\n",
        "12"
       ]
      },
      {
       "output_type": "stream",
       "stream": "stdout",
       "text": [
        "\n",
        "doneait\n",
        "\tkey +\ub2ec\ub825 start\n",
        "10"
       ]
      },
      {
       "output_type": "stream",
       "stream": "stdout",
       "text": [
        "\n",
        "doneait\n",
        "\tkey +\uc0dd\ub9ac start\n",
        "9"
       ]
      },
      {
       "output_type": "stream",
       "stream": "stdout",
       "text": [
        "\n",
        "doneait\n",
        "\tkey +\uce98\ub9b0\ub354 start\n",
        "10"
       ]
      },
      {
       "output_type": "stream",
       "stream": "stdout",
       "text": [
        "\n",
        "doneait"
       ]
      },
      {
       "output_type": "stream",
       "stream": "stdout",
       "text": [
        "\n",
        "\tkey +\uc0ac\uc8fc\ud314\uc790 start\n",
        "9"
       ]
      },
      {
       "output_type": "stream",
       "stream": "stdout",
       "text": [
        "\n",
        "doneait\n",
        "\tkey +\uad81\ud569 start\n",
        "9"
       ]
      },
      {
       "output_type": "stream",
       "stream": "stdout",
       "text": [
        "\n",
        "doneait\n",
        "\tkey +\uccb4\uc911 start\n",
        "11"
       ]
      },
      {
       "output_type": "stream",
       "stream": "stdout",
       "text": [
        "\n",
        "doneait\n",
        "\tkey +\uc0ac\uc804 start\n",
        "20"
       ]
      },
      {
       "output_type": "stream",
       "stream": "stdout",
       "text": [
        "\n",
        "doneait\n",
        "\tkey +\ucef4\ud4e8\ud130 start\n",
        "89"
       ]
      },
      {
       "output_type": "stream",
       "stream": "stdout",
       "text": [
        "\n",
        "doneait\n",
        "\tkey +\ubc31\uacfc\uc0ac\uc804 start\n",
        "11"
       ]
      },
      {
       "output_type": "stream",
       "stream": "stdout",
       "text": [
        "\n",
        "doneait\n",
        "\tkey +\uae09\uc2dd start\n",
        "10"
       ]
      },
      {
       "output_type": "stream",
       "stream": "stdout",
       "text": [
        "\n",
        "doneait\n",
        "\tkey +\ud559\uad50 start\n",
        "48"
       ]
      },
      {
       "output_type": "stream",
       "stream": "stdout",
       "text": [
        "\n",
        "doneait\n",
        "\tkey +\ucd08\ub4f1\ud559\uad50 start\n",
        "15"
       ]
      },
      {
       "output_type": "stream",
       "stream": "stdout",
       "text": [
        "\n",
        "doneait\n",
        "\tkey +\uc911\ud559\uad50 start\n",
        "14"
       ]
      },
      {
       "output_type": "stream",
       "stream": "stdout",
       "text": [
        "\n",
        "doneait\n",
        "\tkey +\uace0\ub4f1\ud559\uad50 start\n",
        "18"
       ]
      },
      {
       "output_type": "stream",
       "stream": "stdout",
       "text": [
        "\n",
        "doneait\n",
        "\tkey +\ub300\ud559\uad50 start\n",
        "18"
       ]
      },
      {
       "output_type": "stream",
       "stream": "stdout",
       "text": [
        "\n",
        "doneait\n",
        "\tkey +Korea start\n",
        "33"
       ]
      },
      {
       "output_type": "stream",
       "stream": "stdout",
       "text": [
        "\n",
        "doneait\n",
        "\tkey +\ub124\ube44\uac8c\uc774\uc158 start\n",
        "12"
       ]
      },
      {
       "output_type": "stream",
       "stream": "stdout",
       "text": [
        "\n",
        "doneait\n",
        "\tkey +\uc9c0\ud558\ucca0 start\n",
        "17"
       ]
      },
      {
       "output_type": "stream",
       "stream": "stdout",
       "text": [
        "\n",
        "doneait\n",
        "\tkey +\uc885\uacb0\uc790 start\n",
        "9"
       ]
      },
      {
       "output_type": "stream",
       "stream": "stdout",
       "text": [
        "\n",
        "doneait\n",
        "\tkey +\ub0b4\ube44 start\n",
        "9"
       ]
      },
      {
       "output_type": "stream",
       "stream": "stdout",
       "text": [
        "\n",
        "doneait\n",
        "\tkey +\uac00\uacc4\ubd80 start\n",
        "9"
       ]
      },
      {
       "output_type": "stream",
       "stream": "stdout",
       "text": [
        "\n",
        "doneait\n",
        "\tkey +Money start\n",
        "89"
       ]
      },
      {
       "output_type": "stream",
       "stream": "stdout",
       "text": [
        "\n",
        "doneait\n",
        "\tkey +\uc2a4\ub9c8\ud2b8 start\n",
        "43"
       ]
      },
      {
       "output_type": "stream",
       "stream": "stdout",
       "text": [
        "\n",
        "doneait\n",
        "\tkey +\uacc4\uc0b0\uae30 start\n",
        "12"
       ]
      },
      {
       "output_type": "stream",
       "stream": "stdout",
       "text": [
        "\n",
        "doneait"
       ]
      },
      {
       "output_type": "stream",
       "stream": "stdout",
       "text": [
        "\n",
        "\tkey +\uc740\ud589 start\n",
        "30"
       ]
      },
      {
       "output_type": "stream",
       "stream": "stdout",
       "text": [
        "\n",
        "doneait\n",
        "\tkey +\uac80\uc0c9\uc5b4 start\n",
        "29"
       ]
      },
      {
       "output_type": "stream",
       "stream": "stdout",
       "text": [
        "\n",
        "doneait\n",
        "\tkey +\uc2e4\uc2dc\uac04 start\n",
        "17"
       ]
      },
      {
       "output_type": "stream",
       "stream": "stdout",
       "text": [
        "\n",
        "doneait\n",
        "\tkey +\uc2e0\ubb38 start\n",
        "21"
       ]
      },
      {
       "output_type": "stream",
       "stream": "stdout",
       "text": [
        "\n",
        "doneait\n",
        "\tkey +\ud074\ub798\uc2dd start\n",
        "23"
       ]
      },
      {
       "output_type": "stream",
       "stream": "stdout",
       "text": [
        "\n",
        "doneait\n",
        "\tkey +\ub7f0\ucc98 start\n",
        "16"
       ]
      },
      {
       "output_type": "stream",
       "stream": "stdout",
       "text": [
        "\n",
        "doneait\n",
        "\tkey +\uc8fc\uc18c\ub85d start\n",
        "12"
       ]
      },
      {
       "output_type": "stream",
       "stream": "stdout",
       "text": [
        "\n",
        "doneait\n",
        "\tkey +\ud3f0 start\n",
        "114"
       ]
      },
      {
       "output_type": "stream",
       "stream": "stdout",
       "text": [
        "\n",
        "doneait"
       ]
      },
      {
       "output_type": "stream",
       "stream": "stdout",
       "text": [
        "\n",
        "\tkey +\ubc14\uc774\ub7ec\uc2a4 start\n",
        "16"
       ]
      },
      {
       "output_type": "stream",
       "stream": "stdout",
       "text": [
        "\n",
        "doneait\n",
        "\tkey +\ubcf4\uc548 start\n",
        "18"
       ]
      },
      {
       "output_type": "stream",
       "stream": "stdout",
       "text": [
        "\n",
        "doneait\n",
        "\tkey +\uc131\uacbd start\n",
        "15"
       ]
      },
      {
       "output_type": "stream",
       "stream": "stdout",
       "text": [
        "\n",
        "doneait\n",
        "\tkey +\ucc2c\uc1a1 start\n",
        "9"
       ]
      },
      {
       "output_type": "stream",
       "stream": "stdout",
       "text": [
        "\n",
        "doneait\n",
        "\tkey +\ubc14\uc774\ube14 start\n",
        "9"
       ]
      },
      {
       "output_type": "stream",
       "stream": "stdout",
       "text": [
        "\n",
        "doneait"
       ]
      },
      {
       "output_type": "stream",
       "stream": "stdout",
       "text": [
        "\n",
        "\tkey +\ubc31\uc2e0 start\n",
        "11"
       ]
      },
      {
       "output_type": "stream",
       "stream": "stdout",
       "text": [
        "\n",
        "doneait\n",
        "\tkey +\uc6f9 start\n",
        "31"
       ]
      },
      {
       "output_type": "stream",
       "stream": "stdout",
       "text": [
        "\n",
        "doneait\n",
        "\tkey +\uc2a4\ud2f0\ucee4 start\n",
        "16"
       ]
      },
      {
       "output_type": "stream",
       "stream": "stdout",
       "text": [
        "\n",
        "doneait\n",
        "\tkey +\uc0ac\uc8fc start\n",
        "13"
       ]
      },
      {
       "output_type": "stream",
       "stream": "stdout",
       "text": [
        "\n",
        "doneait\n",
        "\tkey +\uc6b4\uc138 start\n",
        "9"
       ]
      },
      {
       "output_type": "stream",
       "stream": "stdout",
       "text": [
        "\n",
        "doneait\n",
        "\tkey +\ucf54\ubbf9 start\n",
        "17"
       ]
      },
      {
       "output_type": "stream",
       "stream": "stdout",
       "text": [
        "\n",
        "doneait\n",
        "\tkey +3D start\n",
        "111"
       ]
      },
      {
       "output_type": "stream",
       "stream": "stdout",
       "text": [
        "\n",
        "doneait\n",
        "\tkey +\ubcc4\uc790\ub9ac start\n",
        "11"
       ]
      },
      {
       "output_type": "stream",
       "stream": "stdout",
       "text": [
        "\n",
        "doneait"
       ]
      },
      {
       "output_type": "stream",
       "stream": "stdout",
       "text": [
        "\n",
        "\tkey +tool start\n",
        "30"
       ]
      },
      {
       "output_type": "stream",
       "stream": "stdout",
       "text": [
        "\n",
        "doneait\n",
        "\tkey +\uc6f9\ud230 start\n",
        "10"
       ]
      },
      {
       "output_type": "stream",
       "stream": "stdout",
       "text": [
        "\n",
        "doneait\n",
        "\tkey +\ud50c\ub808\uc774\uc5b4 start\n",
        "92"
       ]
      },
      {
       "output_type": "stream",
       "stream": "stdout",
       "text": [
        "\n",
        "doneait\n",
        "\tkey +\uce74\uba54\ub77c start\n",
        "37"
       ]
      },
      {
       "output_type": "stream",
       "stream": "stdout",
       "text": [
        "\n",
        "doneait\n",
        "\tkey +\ubca8\uc18c\ub9ac start\n",
        "11"
       ]
      },
      {
       "output_type": "stream",
       "stream": "stdout",
       "text": [
        "\n",
        "doneait\n",
        "\tkey +\ud55c\uae00 start\n",
        "87"
       ]
      },
      {
       "output_type": "stream",
       "stream": "stdout",
       "text": [
        "\n",
        "doneait\n",
        "\tkey +\uc624\ud53c\uc2a4 start\n",
        "12"
       ]
      },
      {
       "output_type": "stream",
       "stream": "stdout",
       "text": [
        "\n",
        "doneait\n",
        "\tkey +offic start\n",
        "10"
       ]
      },
      {
       "output_type": "stream",
       "stream": "stdout",
       "text": [
        "\n",
        "doneait\n",
        "\tkey +\uc54c\ubc14 start\n",
        "14"
       ]
      },
      {
       "output_type": "stream",
       "stream": "stdout",
       "text": [
        "\n",
        "doneait"
       ]
      },
      {
       "output_type": "stream",
       "stream": "stdout",
       "text": [
        "\n",
        "\tkey +photo start\n",
        "32"
       ]
      },
      {
       "output_type": "stream",
       "stream": "stdout",
       "text": [
        "\n",
        "doneait\n",
        "\tkey +\ub4dc\ub77c\uc774\ube0c start\n",
        "52"
       ]
      },
      {
       "output_type": "stream",
       "stream": "stdout",
       "text": [
        "\n",
        "doneait\n",
        "\tkey +\ud30c\uc77c start\n",
        "288"
       ]
      },
      {
       "output_type": "stream",
       "stream": "stdout",
       "text": [
        "\n",
        "doneait\n",
        "\tkey +\uac24\ub7ec\ub9ac start\n",
        "16"
       ]
      },
      {
       "output_type": "stream",
       "stream": "stdout",
       "text": [
        "\n",
        "doneait\n",
        "\tkey +\uadf8\ub8f9 start\n",
        "25"
       ]
      },
      {
       "output_type": "stream",
       "stream": "stdout",
       "text": [
        "\n",
        "doneait\n",
        "\tkey +\ubc14\ucf54\ub4dc start\n",
        "10"
       ]
      },
      {
       "output_type": "stream",
       "stream": "stdout",
       "text": [
        "\n",
        "doneait\n",
        "\tkey +\uc2a4\uce90\ub108 start\n",
        "10"
       ]
      },
      {
       "output_type": "stream",
       "stream": "stdout",
       "text": [
        "\n",
        "doneait\n",
        "\tkey +\uc18c\uc15c\ucee4\uba38\uc2a4 start\n",
        "9"
       ]
      },
      {
       "output_type": "stream",
       "stream": "stdout",
       "text": [
        "\n",
        "doneait"
       ]
      },
      {
       "output_type": "stream",
       "stream": "stdout",
       "text": [
        "\n",
        "\tkey +\uc18c\uc15c start\n",
        "13"
       ]
      },
      {
       "output_type": "stream",
       "stream": "stdout",
       "text": [
        "\n",
        "doneait\n",
        "real done.\n",
        "app \uc5d8\uc18c\ub4dc \uc2a4\ud0ac\ud2b8\ub9ac(\uc544\ub77c) start\n",
        "\n",
        "\tkey  start\n",
        "285"
       ]
      },
      {
       "output_type": "stream",
       "stream": "stdout",
       "text": [
        "\n",
        "doneait\n",
        "\tkey +\ufeff\ud37c\uc990 start\n",
        "312"
       ]
      },
      {
       "output_type": "stream",
       "stream": "stdout",
       "text": [
        "\n",
        "doneait\n",
        "\tkey +\uce90\uc8fc\uc5bc start\n",
        "304"
       ]
      },
      {
       "output_type": "stream",
       "stream": "stdout",
       "text": [
        "\n",
        "doneait\n",
        "\tkey +\uc544\ucf00\uc774\ub4dc start\n",
        "304"
       ]
      },
      {
       "output_type": "stream",
       "stream": "stdout",
       "text": [
        "\n",
        "doneait\n",
        "\tkey +\uacf5\ub7b5 start\n",
        "721"
       ]
      },
      {
       "output_type": "stream",
       "stream": "stdout",
       "text": [
        "\n",
        "doneait\n",
        "\tkey +\ub808\uc774\uc2f1 start\n",
        "294"
       ]
      },
      {
       "output_type": "stream",
       "stream": "stdout",
       "text": [
        "\n",
        "doneait\n",
        "\tkey +RPG start\n",
        "361"
       ]
      },
      {
       "output_type": "stream",
       "stream": "stdout",
       "text": [
        "\n",
        "doneait\n",
        "\tkey +\uce74\ub4dc start\n",
        "505"
       ]
      },
      {
       "output_type": "stream",
       "stream": "stdout",
       "text": [
        "\n",
        "doneait\n",
        "\tkey +\ub514\ud39c\uc2a4 start\n",
        "298"
       ]
      },
      {
       "output_type": "stream",
       "stream": "stdout",
       "text": [
        "\n",
        "doneait\n",
        "\tkey +\ub450\ub1cc start\n",
        "304"
       ]
      },
      {
       "output_type": "stream",
       "stream": "stdout",
       "text": [
        "\n",
        "doneait\n",
        "\tkey +\uc2dc\ubbac start\n",
        "289"
       ]
      },
      {
       "output_type": "stream",
       "stream": "stdout",
       "text": [
        "\n",
        "doneait\n",
        "\tkey +\ub2ec\ub9ac\uae30 start\n",
        "341"
       ]
      },
      {
       "output_type": "stream",
       "stream": "stdout",
       "text": [
        "\n",
        "doneait\n",
        "\tkey +\uc288\ud305 start\n",
        "472"
       ]
      },
      {
       "output_type": "stream",
       "stream": "stdout",
       "text": [
        "\n",
        "doneait\n",
        "\tkey +\ucd95\uad6c start\n",
        "307"
       ]
      },
      {
       "output_type": "stream",
       "stream": "stdout",
       "text": [
        "\n",
        "doneait\n",
        "\tkey +\uacbd\uc601 start\n",
        "299"
       ]
      },
      {
       "output_type": "stream",
       "stream": "stdout",
       "text": [
        "\n",
        "doneait"
       ]
      },
      {
       "output_type": "stream",
       "stream": "stdout",
       "text": [
        "\n",
        "\tkey +\ud0c0\uc774\ucfe4 start\n",
        "286"
       ]
      },
      {
       "output_type": "stream",
       "stream": "stdout",
       "text": [
        "\n",
        "doneait\n",
        "\tkey +\ud0c8\ucd9c start\n",
        "401"
       ]
      },
      {
       "output_type": "stream",
       "stream": "stdout",
       "text": [
        "\n",
        "doneait\n",
        "\tkey +\ucd94\ub9ac start\n",
        "306"
       ]
      },
      {
       "output_type": "stream",
       "stream": "stdout",
       "text": [
        "\n",
        "doneait\n",
        "\tkey +\uc7a5\uae30 start\n",
        "313"
       ]
      },
      {
       "output_type": "stream",
       "stream": "stdout",
       "text": [
        "\n",
        "doneait\n",
        "\tkey +\ube44\ud589\uae30 start\n",
        "305"
       ]
      },
      {
       "output_type": "stream",
       "stream": "stdout",
       "text": [
        "\n",
        "doneait"
       ]
      },
      {
       "output_type": "stream",
       "stream": "stdout",
       "text": [
        "\n",
        "\tkey +\uc0ac\ucc9c\uc131 start\n",
        "285"
       ]
      },
      {
       "output_type": "stream",
       "stream": "stdout",
       "text": [
        "\n",
        "doneait"
       ]
      },
      {
       "output_type": "stream",
       "stream": "stdout",
       "text": [
        "\n",
        "\tkey +\uc2a4\ud3ec\uce20 start\n",
        "305"
       ]
      },
      {
       "output_type": "stream",
       "stream": "stdout",
       "text": [
        "\n",
        "doneait"
       ]
      },
      {
       "output_type": "stream",
       "stream": "stdout",
       "text": [
        "\n",
        "\tkey +\ub18d\uad6c start\n",
        "296"
       ]
      },
      {
       "output_type": "stream",
       "stream": "stdout",
       "text": [
        "\n",
        "doneait\n",
        "\tkey +\ub09a\uc2dc start\n",
        "326"
       ]
      },
      {
       "output_type": "stream",
       "stream": "stdout",
       "text": [
        "\n",
        "doneait"
       ]
      },
      {
       "output_type": "stream",
       "stream": "stdout",
       "text": [
        "\n",
        "\tkey +\uc74c\uc545 start\n",
        "351"
       ]
      },
      {
       "output_type": "stream",
       "stream": "stdout",
       "text": [
        "\n",
        "doneait\n",
        "\tkey +\uce74\ud1a1 start\n",
        "322"
       ]
      },
      {
       "output_type": "stream",
       "stream": "stdout",
       "text": [
        "\n",
        "doneait\n",
        "\tkey +\uace8\ud504 start\n",
        "305"
       ]
      },
      {
       "output_type": "stream",
       "stream": "stdout",
       "text": [
        "\n",
        "doneait"
       ]
      },
      {
       "output_type": "stream",
       "stream": "stdout",
       "text": [
        "\n",
        "\tkey +\ub2f9\uad6c start\n",
        "290"
       ]
      },
      {
       "output_type": "stream",
       "stream": "stdout",
       "text": [
        "\n",
        "doneait\n",
        "\tkey +\uc57c\uad6c start\n",
        "315"
       ]
      },
      {
       "output_type": "stream",
       "stream": "stdout",
       "text": [
        "\n",
        "doneait"
       ]
      },
      {
       "output_type": "stream",
       "stream": "stdout",
       "text": [
        "\n",
        "\tkey +\ubcfc\ub9c1 start\n",
        "288"
       ]
      },
      {
       "output_type": "stream",
       "stream": "stdout",
       "text": [
        "\n",
        "doneait\n",
        "\tkey +\ud14c\uc774\uc2a4 start\n",
        "286"
       ]
      },
      {
       "output_type": "stream",
       "stream": "stdout",
       "text": [
        "\n",
        "doneait\n",
        "\tkey +\uc0bc\uad6d\uc9c0 start\n",
        "300"
       ]
      },
      {
       "output_type": "stream",
       "stream": "stdout",
       "text": [
        "\n",
        "doneait\n",
        "\tkey +TCG start\n",
        "289"
       ]
      },
      {
       "output_type": "stream",
       "stream": "stdout",
       "text": [
        "\n",
        "doneait\n",
        "\tkey +\uc804\uc7c1 start\n",
        "363"
       ]
      },
      {
       "output_type": "stream",
       "stream": "stdout",
       "text": [
        "\n",
        "doneait\n",
        "\tkey +\uac74\uac15 start\n",
        "356"
       ]
      },
      {
       "output_type": "stream",
       "stream": "stdout",
       "text": [
        "\n",
        "doneait"
       ]
      },
      {
       "output_type": "stream",
       "stream": "stdout",
       "text": [
        "\n",
        "\tkey +\uc6b4\ub3d9 start\n",
        "334"
       ]
      },
      {
       "output_type": "stream",
       "stream": "stdout",
       "text": [
        "\n",
        "doneait\n",
        "\tkey +\uad50\uc721 start\n",
        "324"
       ]
      },
      {
       "output_type": "stream",
       "stream": "stdout",
       "text": [
        "\n",
        "doneait\n",
        "\tkey +\uad50\ud1b5 start\n",
        "307"
       ]
      },
      {
       "output_type": "stream",
       "stream": "stdout",
       "text": [
        "\n",
        "doneait"
       ]
      },
      {
       "output_type": "stream",
       "stream": "stdout",
       "text": [
        "\n",
        "\tkey +\uae08\uc735 start\n",
        "297"
       ]
      },
      {
       "output_type": "stream",
       "stream": "stdout",
       "text": [
        "\n",
        "doneait"
       ]
      },
      {
       "output_type": "stream",
       "stream": "stdout",
       "text": [
        "\n",
        "\tkey +\ub0a0\uc528 start\n",
        "327"
       ]
      },
      {
       "output_type": "stream",
       "stream": "stdout",
       "text": [
        "\n",
        "doneait\n",
        "\tkey +\ub274\uc2a4 start\n",
        "334"
       ]
      },
      {
       "output_type": "stream",
       "stream": "stdout",
       "text": [
        "\n",
        "doneait"
       ]
      },
      {
       "output_type": "stream",
       "stream": "stdout",
       "text": [
        "\n",
        "\tkey +\uc7a1\uc9c0 start\n",
        "343"
       ]
      },
      {
       "output_type": "stream",
       "stream": "stdout",
       "text": [
        "\n",
        "doneait\n",
        "\tkey +\ub370\ucf54\ub808\uc774\uc158 start\n",
        "286"
       ]
      },
      {
       "output_type": "stream",
       "stream": "stdout",
       "text": [
        "\n",
        "doneait\n",
        "\tkey +\ub3c4\uad6c start\n",
        "330"
       ]
      },
      {
       "output_type": "stream",
       "stream": "stdout",
       "text": [
        "\n",
        "doneait\n",
        "\tkey +\ub3c4\uc11c start\n",
        "305"
       ]
      },
      {
       "output_type": "stream",
       "stream": "stdout",
       "text": [
        "\n",
        "doneait\n",
        "\tkey +\ucc38\uace0\uc790\ub8cc start\n",
        "108"
       ]
      },
      {
       "output_type": "stream",
       "stream": "stdout",
       "text": [
        "\n",
        "doneait\n",
        "\tkey +\ub77c\uc774\ube0c start\n",
        "308"
       ]
      },
      {
       "output_type": "stream",
       "stream": "stdout",
       "text": [
        "\n",
        "doneait"
       ]
      },
      {
       "output_type": "stream",
       "stream": "stdout",
       "text": [
        "\n",
        "\tkey +\ubc30\uacbd\ud654\uba74 start\n",
        "49"
       ]
      },
      {
       "output_type": "stream",
       "stream": "stdout",
       "text": [
        "\n",
        "doneait\n",
        "\tkey +\ub77c\uc774\ube0c\ub7ec\ub9ac start\n",
        "287"
       ]
      },
      {
       "output_type": "stream",
       "stream": "stdout",
       "text": [
        "\n",
        "doneait"
       ]
      },
      {
       "output_type": "stream",
       "stream": "stdout",
       "text": [
        "\n",
        "\tkey +\ub370\ubaa8 start\n",
        "295"
       ]
      },
      {
       "output_type": "stream",
       "stream": "stdout",
       "text": [
        "\n",
        "doneait\n",
        "\tkey +\ub77c\uc774\ud504\uc2a4\ud0c0\uc77c start\n",
        "288"
       ]
      },
      {
       "output_type": "stream",
       "stream": "stdout",
       "text": [
        "\n",
        "doneait\n",
        "\tkey +\ub9cc\ud654 start\n",
        "395"
       ]
      },
      {
       "output_type": "stream",
       "stream": "stdout",
       "text": [
        "\n",
        "doneait\n",
        "\tkey +\ubbf8\ub514\uc5b4 start\n",
        "301"
       ]
      },
      {
       "output_type": "stream",
       "stream": "stdout",
       "text": [
        "\n",
        "doneait\n",
        "\tkey +\ub3d9\uc601\uc0c1 start\n",
        "584"
       ]
      },
      {
       "output_type": "stream",
       "stream": "stdout",
       "text": [
        "\n",
        "doneait\n",
        "\tkey +\ube44\uc988\ub2c8\uc2a4 start\n",
        "294"
       ]
      },
      {
       "output_type": "stream",
       "stream": "stdout",
       "text": [
        "\n",
        "doneait\n",
        "\tkey +\uc0ac\uc9c4 start\n",
        "816"
       ]
      },
      {
       "output_type": "stream",
       "stream": "stdout",
       "text": [
        "\n",
        "doneait\n",
        "\tkey +\uc0dd\uc0b0\uc131 start\n",
        "290"
       ]
      },
      {
       "output_type": "stream",
       "stream": "stdout",
       "text": [
        "\n",
        "doneait\n",
        "\tkey +\uc18c\uc15c start\n",
        "295"
       ]
      },
      {
       "output_type": "stream",
       "stream": "stdout",
       "text": [
        "\n",
        "doneait\n",
        "\tkey +\ucf58\ud150\uce20 start\n",
        "310"
       ]
      },
      {
       "output_type": "stream",
       "stream": "stdout",
       "text": [
        "\n",
        "doneait\n",
        "\tkey +\uc1fc\ud551 start\n",
        "312"
       ]
      },
      {
       "output_type": "stream",
       "stream": "stdout",
       "text": [
        "\n",
        "doneait\n",
        "\tkey +\uc704\uc82f start\n",
        "290"
       ]
      },
      {
       "output_type": "stream",
       "stream": "stdout",
       "text": [
        "\n",
        "doneait\n",
        "\tkey +\uc790\ub3d9\ucc28 start\n",
        "306"
       ]
      },
      {
       "output_type": "stream",
       "stream": "stdout",
       "text": [
        "\n",
        "doneait\n",
        "\tkey +\uacbd\uc8fc start\n",
        "293"
       ]
      },
      {
       "output_type": "stream",
       "stream": "stdout",
       "text": [
        "\n",
        "doneait\n",
        "\tkey +\ub2e4\uc774\uc5b4\ud2b8 start\n",
        "301"
       ]
      },
      {
       "output_type": "stream",
       "stream": "stdout",
       "text": [
        "\n",
        "doneait\n",
        "\tkey +\ub2ec\ub825 start\n",
        "296"
       ]
      },
      {
       "output_type": "stream",
       "stream": "stdout",
       "text": [
        "\n",
        "doneait\n",
        "\tkey +\uc0dd\ub9ac start\n",
        "287"
       ]
      },
      {
       "output_type": "stream",
       "stream": "stdout",
       "text": [
        "\n",
        "doneait\n",
        "\tkey +\uce98\ub9b0\ub354 start\n",
        "286"
       ]
      },
      {
       "output_type": "stream",
       "stream": "stdout",
       "text": [
        "\n",
        "doneait\n",
        "\tkey +\uc0ac\uc8fc\ud314\uc790 start\n",
        "285"
       ]
      },
      {
       "output_type": "stream",
       "stream": "stdout",
       "text": [
        "\n",
        "doneait\n",
        "\tkey +\uad81\ud569 start\n",
        "317"
       ]
      },
      {
       "output_type": "stream",
       "stream": "stdout",
       "text": [
        "\n",
        "doneait\n",
        "\tkey +\uccb4\uc911 start\n",
        "298"
       ]
      },
      {
       "output_type": "stream",
       "stream": "stdout",
       "text": [
        "\n",
        "doneait\n",
        "\tkey +\uc0ac\uc804 start\n",
        "347"
       ]
      },
      {
       "output_type": "stream",
       "stream": "stdout",
       "text": [
        "\n",
        "doneait\n",
        "\tkey +\ucef4\ud4e8\ud130 start\n",
        "423"
       ]
      },
      {
       "output_type": "stream",
       "stream": "stdout",
       "text": [
        "\n",
        "doneait\n",
        "\tkey +\ubc31\uacfc\uc0ac\uc804 start\n",
        "296"
       ]
      },
      {
       "output_type": "stream",
       "stream": "stdout",
       "text": [
        "\n",
        "doneait\n",
        "\tkey +\uae09\uc2dd start\n",
        "289"
       ]
      },
      {
       "output_type": "stream",
       "stream": "stdout",
       "text": [
        "\n",
        "doneait\n",
        "\tkey +\ud559\uad50 start\n",
        "472"
       ]
      },
      {
       "output_type": "stream",
       "stream": "stdout",
       "text": [
        "\n",
        "doneait\n",
        "\tkey +\ucd08\ub4f1\ud559\uad50 start\n",
        "38"
       ]
      },
      {
       "output_type": "stream",
       "stream": "stdout",
       "text": [
        "\n",
        "doneait\n",
        "\tkey +\uc911\ud559\uad50 start\n",
        "312"
       ]
      },
      {
       "output_type": "stream",
       "stream": "stdout",
       "text": [
        "\n",
        "doneait\n",
        "\tkey +\uace0\ub4f1\ud559\uad50 start\n",
        "316"
       ]
      },
      {
       "output_type": "stream",
       "stream": "stdout",
       "text": [
        "\n",
        "doneait\n",
        "\tkey +\ub300\ud559\uad50 start\n",
        "297"
       ]
      },
      {
       "output_type": "stream",
       "stream": "stdout",
       "text": [
        "\n",
        "doneait\n",
        "\tkey +Korea start\n",
        "303"
       ]
      },
      {
       "output_type": "stream",
       "stream": "stdout",
       "text": [
        "\n",
        "doneait\n",
        "\tkey +\ub124\ube44\uac8c\uc774\uc158 start\n",
        "288"
       ]
      },
      {
       "output_type": "stream",
       "stream": "stdout",
       "text": [
        "\n",
        "doneait\n",
        "\tkey +\uc9c0\ud558\ucca0 start\n",
        "304"
       ]
      },
      {
       "output_type": "stream",
       "stream": "stdout",
       "text": [
        "\n",
        "doneait\n",
        "\tkey +\uc885\uacb0\uc790 start\n",
        "291"
       ]
      },
      {
       "output_type": "stream",
       "stream": "stdout",
       "text": [
        "\n",
        "doneait\n",
        "\tkey +\ub0b4\ube44 start\n",
        "285"
       ]
      },
      {
       "output_type": "stream",
       "stream": "stdout",
       "text": [
        "\n",
        "doneait\n",
        "\tkey +\uac00\uacc4\ubd80 start\n",
        "287"
       ]
      },
      {
       "output_type": "stream",
       "stream": "stdout",
       "text": [
        "\n",
        "doneait\n",
        "\tkey +Money start\n",
        "293"
       ]
      },
      {
       "output_type": "stream",
       "stream": "stdout",
       "text": [
        "\n",
        "doneait\n",
        "\tkey +\uc2a4\ub9c8\ud2b8 start\n",
        "315"
       ]
      },
      {
       "output_type": "stream",
       "stream": "stdout",
       "text": [
        "\n",
        "doneait\n",
        "\tkey +\uacc4\uc0b0\uae30 start\n",
        "292"
       ]
      },
      {
       "output_type": "stream",
       "stream": "stdout",
       "text": [
        "\n",
        "doneait\n",
        "\tkey +\uc740\ud589 start\n",
        "343"
       ]
      },
      {
       "output_type": "stream",
       "stream": "stdout",
       "text": [
        "\n",
        "doneait"
       ]
      },
      {
       "output_type": "stream",
       "stream": "stdout",
       "text": [
        "\n",
        "\tkey +\uac80\uc0c9\uc5b4 start\n",
        "420"
       ]
      },
      {
       "output_type": "stream",
       "stream": "stdout",
       "text": [
        "\n",
        "doneait\n",
        "\tkey +\uc2e4\uc2dc\uac04 start\n",
        "324"
       ]
      },
      {
       "output_type": "stream",
       "stream": "stdout",
       "text": [
        "\n",
        "doneait\n",
        "\tkey +\uc2e0\ubb38 start\n",
        "308"
       ]
      },
      {
       "output_type": "stream",
       "stream": "stdout",
       "text": [
        "\n",
        "doneait\n",
        "\tkey +\ud074\ub798\uc2dd start\n",
        "297"
       ]
      },
      {
       "output_type": "stream",
       "stream": "stdout",
       "text": [
        "\n",
        "doneait\n",
        "\tkey +\ub7f0\ucc98 start\n",
        "325"
       ]
      },
      {
       "output_type": "stream",
       "stream": "stdout",
       "text": [
        "\n",
        "doneait\n",
        "\tkey +\uc8fc\uc18c\ub85d start\n",
        "288"
       ]
      },
      {
       "output_type": "stream",
       "stream": "stdout",
       "text": [
        "\n",
        "doneait"
       ]
      },
      {
       "output_type": "stream",
       "stream": "stdout",
       "text": [
        "\n",
        "\tkey +\ud3f0 start\n",
        "390"
       ]
      },
      {
       "output_type": "stream",
       "stream": "stdout",
       "text": [
        "\n",
        "doneait\n",
        "\tkey +\ubc14\uc774\ub7ec\uc2a4 start\n",
        "304"
       ]
      },
      {
       "output_type": "stream",
       "stream": "stdout",
       "text": [
        "\n",
        "doneait\n",
        "\tkey +\ubcf4\uc548 start\n",
        "328"
       ]
      },
      {
       "output_type": "stream",
       "stream": "stdout",
       "text": [
        "\n",
        "doneait\n",
        "\tkey +\uc131\uacbd start\n",
        "298"
       ]
      },
      {
       "output_type": "stream",
       "stream": "stdout",
       "text": [
        "\n",
        "doneait\n",
        "\tkey +\ucc2c\uc1a1 start\n",
        "286"
       ]
      },
      {
       "output_type": "stream",
       "stream": "stdout",
       "text": [
        "\n",
        "doneait"
       ]
      },
      {
       "output_type": "stream",
       "stream": "stdout",
       "text": [
        "\n",
        "\tkey +\ubc14\uc774\ube14 start\n",
        "292"
       ]
      },
      {
       "output_type": "stream",
       "stream": "stdout",
       "text": [
        "\n",
        "doneait\n",
        "\tkey +\ubc31\uc2e0 start\n",
        "298"
       ]
      },
      {
       "output_type": "stream",
       "stream": "stdout",
       "text": [
        "\n",
        "doneait"
       ]
      },
      {
       "output_type": "stream",
       "stream": "stdout",
       "text": [
        "\n",
        "\tkey +\uc6f9 start\n",
        "312"
       ]
      },
      {
       "output_type": "stream",
       "stream": "stdout",
       "text": [
        "\n",
        "doneait\n",
        "\tkey +\uc2a4\ud2f0\ucee4 start\n",
        "301"
       ]
      },
      {
       "output_type": "stream",
       "stream": "stdout",
       "text": [
        "\n",
        "doneait\n",
        "\tkey +\uc0ac\uc8fc start\n",
        "291"
       ]
      },
      {
       "output_type": "stream",
       "stream": "stdout",
       "text": [
        "\n",
        "doneait\n",
        "\tkey +\uc6b4\uc138 start\n",
        "300"
       ]
      },
      {
       "output_type": "stream",
       "stream": "stdout",
       "text": [
        "\n",
        "doneait\n",
        "\tkey +\ucf54\ubbf9 start\n",
        "318"
       ]
      },
      {
       "output_type": "stream",
       "stream": "stdout",
       "text": [
        "\n",
        "doneait\n",
        "\tkey +3D start\n",
        "344"
       ]
      },
      {
       "output_type": "stream",
       "stream": "stdout",
       "text": [
        "\n",
        "doneait\n",
        "\tkey +\ubcc4\uc790\ub9ac start\n",
        "294"
       ]
      },
      {
       "output_type": "stream",
       "stream": "stdout",
       "text": [
        "\n",
        "doneait\n",
        "\tkey +tool start\n",
        "286"
       ]
      },
      {
       "output_type": "stream",
       "stream": "stdout",
       "text": [
        "\n",
        "doneait\n",
        "\tkey +\uc6f9\ud230 start\n",
        "304"
       ]
      },
      {
       "output_type": "stream",
       "stream": "stdout",
       "text": [
        "\n",
        "doneait\n",
        "\tkey +\ud50c\ub808\uc774\uc5b4 start\n",
        "370"
       ]
      },
      {
       "output_type": "stream",
       "stream": "stdout",
       "text": [
        "\n",
        "doneait\n",
        "\tkey +\uce74\uba54\ub77c start\n",
        "344"
       ]
      },
      {
       "output_type": "stream",
       "stream": "stdout",
       "text": [
        "\n",
        "doneait"
       ]
      },
      {
       "output_type": "stream",
       "stream": "stdout",
       "text": [
        "\n",
        "\tkey +\ubca8\uc18c\ub9ac start\n",
        "292"
       ]
      },
      {
       "output_type": "stream",
       "stream": "stdout",
       "text": [
        "\n",
        "doneait\n",
        "\tkey +\ud55c\uae00 start\n",
        "331"
       ]
      },
      {
       "output_type": "stream",
       "stream": "stdout",
       "text": [
        "\n",
        "doneait\n",
        "\tkey +\uc624\ud53c\uc2a4 start\n",
        "290"
       ]
      },
      {
       "output_type": "stream",
       "stream": "stdout",
       "text": [
        "\n",
        "doneait\n",
        "\tkey +offic start\n",
        "285"
       ]
      },
      {
       "output_type": "stream",
       "stream": "stdout",
       "text": [
        "\n",
        "doneait\n",
        "\tkey +\uc54c\ubc14 start\n",
        "325"
       ]
      },
      {
       "output_type": "stream",
       "stream": "stdout",
       "text": [
        "\n",
        "doneait"
       ]
      },
      {
       "output_type": "stream",
       "stream": "stdout",
       "text": [
        "\n",
        "\tkey +photo start\n",
        "288"
       ]
      },
      {
       "output_type": "stream",
       "stream": "stdout",
       "text": [
        "\n",
        "doneait"
       ]
      },
      {
       "output_type": "stream",
       "stream": "stdout",
       "text": [
        "\n",
        "\tkey +\ub4dc\ub77c\uc774\ube0c start\n",
        "376"
       ]
      },
      {
       "output_type": "stream",
       "stream": "stdout",
       "text": [
        "\n",
        "doneait"
       ]
      },
      {
       "output_type": "stream",
       "stream": "stdout",
       "text": [
        "\n",
        "\tkey +\ud30c\uc77c start\n",
        "349"
       ]
      },
      {
       "output_type": "stream",
       "stream": "stdout",
       "text": [
        "\n",
        "doneait\n",
        "\tkey +\uac24\ub7ec\ub9ac start\n",
        "304"
       ]
      },
      {
       "output_type": "stream",
       "stream": "stdout",
       "text": [
        "\n",
        "doneait\n",
        "\tkey +\uadf8\ub8f9 start\n",
        "311"
       ]
      },
      {
       "output_type": "stream",
       "stream": "stdout",
       "text": [
        "\n",
        "doneait"
       ]
      },
      {
       "output_type": "stream",
       "stream": "stdout",
       "text": [
        "\n",
        "\tkey +\ubc14\ucf54\ub4dc start\n",
        "288"
       ]
      },
      {
       "output_type": "stream",
       "stream": "stdout",
       "text": [
        "\n",
        "doneait\n",
        "\tkey +\uc2a4\uce90\ub108 start\n",
        "288"
       ]
      },
      {
       "output_type": "stream",
       "stream": "stdout",
       "text": [
        "\n",
        "doneait"
       ]
      },
      {
       "output_type": "stream",
       "stream": "stdout",
       "text": [
        "\n",
        "\tkey +\uc18c\uc15c\ucee4\uba38\uc2a4 start\n",
        "286"
       ]
      },
      {
       "output_type": "stream",
       "stream": "stdout",
       "text": [
        "\n",
        "doneait\n",
        "\tkey +\uc18c\uc15c start\n",
        "295"
       ]
      },
      {
       "output_type": "stream",
       "stream": "stdout",
       "text": [
        "\n",
        "doneait\n",
        "real done.\n",
        "app \ubbf8\ub140\ubcc0\ud638\uc0ac\uc138\ub9ac\ud0b4 start\n",
        "\n",
        "\tkey  start\n",
        "42"
       ]
      },
      {
       "output_type": "stream",
       "stream": "stdout",
       "text": [
        "\n",
        "doneait\n",
        "\tkey +\ufeff\ud37c\uc990 start\n",
        "67"
       ]
      },
      {
       "output_type": "stream",
       "stream": "stdout",
       "text": [
        "\n",
        "doneait"
       ]
      },
      {
       "output_type": "stream",
       "stream": "stdout",
       "text": [
        "\n",
        "\tkey +\uce90\uc8fc\uc5bc start\n",
        "62"
       ]
      },
      {
       "output_type": "stream",
       "stream": "stdout",
       "text": [
        "\n",
        "doneait\n",
        "\tkey +\uc544\ucf00\uc774\ub4dc start\n",
        "45"
       ]
      },
      {
       "output_type": "stream",
       "stream": "stdout",
       "text": [
        "\n",
        "doneait\n",
        "\tkey +\uacf5\ub7b5 start\n",
        "82"
       ]
      },
      {
       "output_type": "stream",
       "stream": "stdout",
       "text": [
        "\n",
        "doneait\n",
        "\tkey +\ub808\uc774\uc2f1 start\n",
        "62"
       ]
      },
      {
       "output_type": "stream",
       "stream": "stdout",
       "text": [
        "\n",
        "doneait\n",
        "\tkey +RPG start\n",
        "48"
       ]
      },
      {
       "output_type": "stream",
       "stream": "stdout",
       "text": [
        "\n",
        "doneait\n",
        "\tkey +\uce74\ub4dc start\n",
        "153"
       ]
      },
      {
       "output_type": "stream",
       "stream": "stdout",
       "text": [
        "\n",
        "doneait\n",
        "\tkey +\ub514\ud39c\uc2a4 start\n",
        "44"
       ]
      },
      {
       "output_type": "stream",
       "stream": "stdout",
       "text": [
        "\n",
        "doneait\n",
        "\tkey +\ub450\ub1cc start\n",
        "107"
       ]
      },
      {
       "output_type": "stream",
       "stream": "stdout",
       "text": [
        "\n",
        "doneait\n",
        "\tkey +\uc2dc\ubbac start\n",
        "43"
       ]
      },
      {
       "output_type": "stream",
       "stream": "stdout",
       "text": [
        "\n",
        "doneait"
       ]
      },
      {
       "output_type": "stream",
       "stream": "stdout",
       "text": [
        "\n",
        "\tkey +\ub2ec\ub9ac\uae30 start\n",
        "80"
       ]
      },
      {
       "output_type": "stream",
       "stream": "stdout",
       "text": [
        "\n",
        "doneait\n",
        "\tkey +\uc288\ud305 start\n",
        "51"
       ]
      },
      {
       "output_type": "stream",
       "stream": "stdout",
       "text": [
        "\n",
        "doneait"
       ]
      },
      {
       "output_type": "stream",
       "stream": "stdout",
       "text": [
        "\n",
        "\tkey +\ucd95\uad6c start\n",
        "133"
       ]
      },
      {
       "output_type": "stream",
       "stream": "stdout",
       "text": [
        "\n",
        "doneait\n",
        "\tkey +\uacbd\uc601 start\n",
        "111"
       ]
      },
      {
       "output_type": "stream",
       "stream": "stdout",
       "text": [
        "\n",
        "doneait\n",
        "\tkey +\ud0c0\uc774\ucfe4 start\n",
        "46"
       ]
      },
      {
       "output_type": "stream",
       "stream": "stdout",
       "text": [
        "\n",
        "doneait\n",
        "\tkey +\ud0c8\ucd9c start\n",
        "142"
       ]
      },
      {
       "output_type": "stream",
       "stream": "stdout",
       "text": [
        "\n",
        "doneait\n",
        "\tkey +\ucd94\ub9ac start\n",
        "85"
       ]
      },
      {
       "output_type": "stream",
       "stream": "stdout",
       "text": [
        "\n",
        "doneait\n",
        "\tkey +\uc7a5\uae30 start\n",
        "100"
       ]
      },
      {
       "output_type": "stream",
       "stream": "stdout",
       "text": [
        "\n",
        "doneait\n",
        "\tkey +\ube44\ud589\uae30 start\n",
        "123"
       ]
      },
      {
       "output_type": "stream",
       "stream": "stdout",
       "text": [
        "\n",
        "doneait"
       ]
      },
      {
       "output_type": "stream",
       "stream": "stdout",
       "text": [
        "\n",
        "\tkey +\uc0ac\ucc9c\uc131 start\n",
        "42"
       ]
      },
      {
       "output_type": "stream",
       "stream": "stdout",
       "text": [
        "\n",
        "doneait"
       ]
      },
      {
       "output_type": "stream",
       "stream": "stdout",
       "text": [
        "\n",
        "\tkey +\uc2a4\ud3ec\uce20 start\n",
        "163"
       ]
      },
      {
       "output_type": "stream",
       "stream": "stdout",
       "text": [
        "\n",
        "doneait\n",
        "\tkey +\ub18d\uad6c start\n",
        "105"
       ]
      },
      {
       "output_type": "stream",
       "stream": "stdout",
       "text": [
        "\n",
        "doneait\n",
        "\tkey +\ub09a\uc2dc start\n",
        "83"
       ]
      },
      {
       "output_type": "stream",
       "stream": "stdout",
       "text": [
        "\n",
        "doneait"
       ]
      },
      {
       "output_type": "stream",
       "stream": "stdout",
       "text": [
        "\n",
        "\tkey +\uc74c\uc545 start\n",
        "215"
       ]
      },
      {
       "output_type": "stream",
       "stream": "stdout",
       "text": [
        "\n",
        "doneait\n",
        "\tkey +\uce74\ud1a1 start\n",
        "53"
       ]
      },
      {
       "output_type": "stream",
       "stream": "stdout",
       "text": [
        "\n",
        "doneait\n",
        "\tkey +\uace8\ud504 start\n",
        "108"
       ]
      },
      {
       "output_type": "stream",
       "stream": "stdout",
       "text": [
        "\n",
        "doneait\n",
        "\tkey +\ub2f9\uad6c start\n",
        "55"
       ]
      },
      {
       "output_type": "stream",
       "stream": "stdout",
       "text": [
        "\n",
        "doneait"
       ]
      },
      {
       "output_type": "stream",
       "stream": "stdout",
       "text": [
        "\n",
        "\tkey +\uc57c\uad6c start\n",
        "115"
       ]
      },
      {
       "output_type": "stream",
       "stream": "stdout",
       "text": [
        "\n",
        "doneait\n",
        "\tkey +\ubcfc\ub9c1 start\n",
        "60"
       ]
      },
      {
       "output_type": "stream",
       "stream": "stdout",
       "text": [
        "\n",
        "doneait\n",
        "\tkey +\ud14c\uc774\uc2a4 start\n",
        "42"
       ]
      },
      {
       "output_type": "stream",
       "stream": "stdout",
       "text": [
        "\n",
        "doneait\n",
        "\tkey +\uc0bc\uad6d\uc9c0 start\n",
        "66"
       ]
      },
      {
       "output_type": "stream",
       "stream": "stdout",
       "text": [
        "\n",
        "doneait\n",
        "\tkey +TCG start\n",
        "43"
       ]
      },
      {
       "output_type": "stream",
       "stream": "stdout",
       "text": [
        "\n",
        "doneait\n",
        "\tkey +\uc804\uc7c1 start\n",
        "216"
       ]
      },
      {
       "output_type": "stream",
       "stream": "stdout",
       "text": [
        "\n",
        "doneait\n",
        "\tkey +\uac74\uac15 start\n",
        "165"
       ]
      },
      {
       "output_type": "stream",
       "stream": "stdout",
       "text": [
        "\n",
        "doneait"
       ]
      },
      {
       "output_type": "stream",
       "stream": "stdout",
       "text": [
        "\n",
        "\tkey +\uc6b4\ub3d9 start\n",
        "183"
       ]
      },
      {
       "output_type": "stream",
       "stream": "stdout",
       "text": [
        "\n",
        "doneait\n",
        "\tkey +\uad50\uc721 start\n",
        "168"
       ]
      },
      {
       "output_type": "stream",
       "stream": "stdout",
       "text": [
        "\n",
        "doneait\n",
        "\tkey +\uad50\ud1b5 start\n",
        "148"
       ]
      },
      {
       "output_type": "stream",
       "stream": "stdout",
       "text": [
        "\n",
        "doneait\n",
        "\tkey +\uae08\uc735 start\n",
        "107"
       ]
      },
      {
       "output_type": "stream",
       "stream": "stdout",
       "text": [
        "\n",
        "doneait\n",
        "\tkey +\ub0a0\uc528 start\n",
        "143"
       ]
      },
      {
       "output_type": "stream",
       "stream": "stdout",
       "text": [
        "\n",
        "doneait\n",
        "\tkey +\ub274\uc2a4 start\n",
        "186"
       ]
      },
      {
       "output_type": "stream",
       "stream": "stdout",
       "text": [
        "\n",
        "doneait\n",
        "\tkey +\uc7a1\uc9c0 start\n",
        "128"
       ]
      },
      {
       "output_type": "stream",
       "stream": "stdout",
       "text": [
        "\n",
        "doneait\n",
        "\tkey +\ub370\ucf54\ub808\uc774\uc158 start\n",
        "44"
       ]
      },
      {
       "output_type": "stream",
       "stream": "stdout",
       "text": [
        "\n",
        "doneait\n",
        "\tkey +\ub3c4\uad6c start\n",
        "102"
       ]
      },
      {
       "output_type": "stream",
       "stream": "stdout",
       "text": [
        "\n",
        "doneait\n",
        "\tkey +\ub3c4\uc11c start\n",
        "85"
       ]
      },
      {
       "output_type": "stream",
       "stream": "stdout",
       "text": [
        "\n",
        "doneait\n",
        "\tkey +\ucc38\uace0\uc790\ub8cc start\n",
        "45"
       ]
      },
      {
       "output_type": "stream",
       "stream": "stdout",
       "text": [
        "\n",
        "doneait\n",
        "\tkey +\ub77c\uc774\ube0c start\n",
        "97"
       ]
      },
      {
       "output_type": "stream",
       "stream": "stdout",
       "text": [
        "\n",
        "doneait"
       ]
      },
      {
       "output_type": "stream",
       "stream": "stdout",
       "text": [
        "\n",
        "\tkey +\ubc30\uacbd\ud654\uba74 start\n",
        "70"
       ]
      },
      {
       "output_type": "stream",
       "stream": "stdout",
       "text": [
        "\n",
        "doneait\n",
        "\tkey +\ub77c\uc774\ube0c\ub7ec\ub9ac start\n",
        "47"
       ]
      },
      {
       "output_type": "stream",
       "stream": "stdout",
       "text": [
        "\n",
        "doneait\n",
        "\tkey +\ub370\ubaa8 start\n",
        "60"
       ]
      },
      {
       "output_type": "stream",
       "stream": "stdout",
       "text": [
        "\n",
        "doneait"
       ]
      },
      {
       "output_type": "stream",
       "stream": "stdout",
       "text": [
        "\n",
        "\tkey +\ub77c\uc774\ud504\uc2a4\ud0c0\uc77c start\n",
        "54"
       ]
      },
      {
       "output_type": "stream",
       "stream": "stdout",
       "text": [
        "\n",
        "doneait\n",
        "\tkey +\ub9cc\ud654 start\n",
        "129"
       ]
      },
      {
       "output_type": "stream",
       "stream": "stdout",
       "text": [
        "\n",
        "doneait\n",
        "\tkey +\ubbf8\ub514\uc5b4 start\n",
        "136"
       ]
      },
      {
       "output_type": "stream",
       "stream": "stdout",
       "text": [
        "\n",
        "doneait\n",
        "\tkey +\ub3d9\uc601\uc0c1 start\n",
        "113"
       ]
      },
      {
       "output_type": "stream",
       "stream": "stdout",
       "text": [
        "\n",
        "doneait\n",
        "\tkey +\ube44\uc988\ub2c8\uc2a4 start\n",
        "82"
       ]
      },
      {
       "output_type": "stream",
       "stream": "stdout",
       "text": [
        "\n",
        "doneait\n",
        "\tkey +\uc0ac\uc9c4 start\n",
        "234"
       ]
      },
      {
       "output_type": "stream",
       "stream": "stdout",
       "text": [
        "\n",
        "doneait\n",
        "\tkey +\uc0dd\uc0b0\uc131 start\n",
        "55"
       ]
      },
      {
       "output_type": "stream",
       "stream": "stdout",
       "text": [
        "\n",
        "doneait\n",
        "\tkey +\uc18c\uc15c start\n",
        "68"
       ]
      },
      {
       "output_type": "stream",
       "stream": "stdout",
       "text": [
        "\n",
        "doneait\n",
        "\tkey +\ucf58\ud150\uce20 start\n",
        "76"
       ]
      },
      {
       "output_type": "stream",
       "stream": "stdout",
       "text": [
        "\n",
        "doneait\n",
        "\tkey +\uc1fc\ud551 start\n",
        "91"
       ]
      },
      {
       "output_type": "stream",
       "stream": "stdout",
       "text": [
        "\n",
        "doneait\n",
        "\tkey +\uc704\uc82f start\n",
        "44"
       ]
      },
      {
       "output_type": "stream",
       "stream": "stdout",
       "text": [
        "\n",
        "doneait\n",
        "\tkey +\uc790\ub3d9\ucc28 start\n",
        "174"
       ]
      },
      {
       "output_type": "stream",
       "stream": "stdout",
       "text": [
        "\n",
        "doneait"
       ]
      },
      {
       "output_type": "stream",
       "stream": "stdout",
       "text": [
        "\n",
        "\tkey +\uacbd\uc8fc start\n",
        "91"
       ]
      },
      {
       "output_type": "stream",
       "stream": "stdout",
       "text": [
        "\n",
        "doneait\n",
        "\tkey +\ub2e4\uc774\uc5b4\ud2b8 start\n",
        "89"
       ]
      },
      {
       "output_type": "stream",
       "stream": "stdout",
       "text": [
        "\n",
        "doneait\n",
        "\tkey +\ub2ec\ub825 start\n",
        "69"
       ]
      },
      {
       "output_type": "stream",
       "stream": "stdout",
       "text": [
        "\n",
        "doneait\n",
        "\tkey +\uc0dd\ub9ac start\n",
        "64"
       ]
      },
      {
       "output_type": "stream",
       "stream": "stdout",
       "text": [
        "\n",
        "doneait\n",
        "\tkey +\uce98\ub9b0\ub354 start\n",
        "48"
       ]
      },
      {
       "output_type": "stream",
       "stream": "stdout",
       "text": [
        "\n",
        "doneait\n",
        "\tkey +\uc0ac\uc8fc\ud314\uc790 start\n",
        "42"
       ]
      },
      {
       "output_type": "stream",
       "stream": "stdout",
       "text": [
        "\n",
        "doneait\n",
        "\tkey +\uad81\ud569 start\n",
        "57"
       ]
      },
      {
       "output_type": "stream",
       "stream": "stdout",
       "text": [
        "\n",
        "doneait\n",
        "\tkey +\uccb4\uc911 start\n",
        "66"
       ]
      },
      {
       "output_type": "stream",
       "stream": "stdout",
       "text": [
        "\n",
        "doneait\n",
        "\tkey +\uc0ac\uc804 start\n",
        "134"
       ]
      },
      {
       "output_type": "stream",
       "stream": "stdout",
       "text": [
        "\n",
        "doneait\n",
        "\tkey +\ucef4\ud4e8\ud130 start\n",
        "145"
       ]
      },
      {
       "output_type": "stream",
       "stream": "stdout",
       "text": [
        "\n",
        "doneait\n",
        "\tkey +\ubc31\uacfc\uc0ac\uc804 start\n",
        "64"
       ]
      },
      {
       "output_type": "stream",
       "stream": "stdout",
       "text": [
        "\n",
        "doneait"
       ]
      },
      {
       "output_type": "stream",
       "stream": "stdout",
       "text": [
        "\n",
        "\tkey +\uae09\uc2dd start\n",
        "56"
       ]
      },
      {
       "output_type": "stream",
       "stream": "stdout",
       "text": [
        "\n",
        "doneait\n",
        "\tkey +\ud559\uad50 start\n",
        "224"
       ]
      },
      {
       "output_type": "stream",
       "stream": "stdout",
       "text": [
        "\n",
        "doneait\n",
        "\tkey +\ucd08\ub4f1\ud559\uad50 start\n",
        "107"
       ]
      },
      {
       "output_type": "stream",
       "stream": "stdout",
       "text": [
        "\n",
        "doneait\n",
        "\tkey +\uc911\ud559\uad50 start\n",
        "86"
       ]
      },
      {
       "output_type": "stream",
       "stream": "stdout",
       "text": [
        "\n",
        "doneait\n",
        "\tkey +\uace0\ub4f1\ud559\uad50 start\n",
        "117"
       ]
      },
      {
       "output_type": "stream",
       "stream": "stdout",
       "text": [
        "\n",
        "doneait"
       ]
      },
      {
       "output_type": "stream",
       "stream": "stdout",
       "text": [
        "\n",
        "\tkey +\ub300\ud559\uad50 start\n",
        "114"
       ]
      },
      {
       "output_type": "stream",
       "stream": "stdout",
       "text": [
        "\n",
        "doneait\n",
        "\tkey +Korea start\n",
        "81"
       ]
      },
      {
       "output_type": "stream",
       "stream": "stdout",
       "text": [
        "\n",
        "doneait\n",
        "\tkey +\ub124\ube44\uac8c\uc774\uc158 start\n",
        "48"
       ]
      },
      {
       "output_type": "stream",
       "stream": "stdout",
       "text": [
        "\n",
        "doneait\n",
        "\tkey +\uc9c0\ud558\ucca0 start\n",
        "105"
       ]
      },
      {
       "output_type": "stream",
       "stream": "stdout",
       "text": [
        "\n",
        "doneait\n",
        "\tkey +\uc885\uacb0\uc790 start\n",
        "49"
       ]
      },
      {
       "output_type": "stream",
       "stream": "stdout",
       "text": [
        "\n",
        "doneait\n",
        "\tkey +\ub0b4\ube44 start\n",
        "44"
       ]
      },
      {
       "output_type": "stream",
       "stream": "stdout",
       "text": [
        "\n",
        "doneait"
       ]
      },
      {
       "output_type": "stream",
       "stream": "stdout",
       "text": [
        "\n",
        "\tkey +\uac00\uacc4\ubd80 start\n",
        "49"
       ]
      },
      {
       "output_type": "stream",
       "stream": "stdout",
       "text": [
        "\n",
        "doneait\n",
        "\tkey +Money start\n",
        "67"
       ]
      },
      {
       "output_type": "stream",
       "stream": "stdout",
       "text": [
        "\n",
        "doneait\n",
        "\tkey +\uc2a4\ub9c8\ud2b8 start\n",
        "except 0"
       ]
      },
      {
       "output_type": "stream",
       "stream": "stdout",
       "text": [
        "\n",
        "doneait\n",
        "\tkey +\uacc4\uc0b0\uae30 start\n",
        "51"
       ]
      },
      {
       "output_type": "stream",
       "stream": "stdout",
       "text": [
        "\n",
        "doneait\n",
        "\tkey +\uc740\ud589 start\n",
        "156"
       ]
      },
      {
       "output_type": "stream",
       "stream": "stdout",
       "text": [
        "\n",
        "doneait\n",
        "\tkey +\uac80\uc0c9\uc5b4 start\n",
        "53"
       ]
      },
      {
       "output_type": "stream",
       "stream": "stdout",
       "text": [
        "\n",
        "doneait"
       ]
      },
      {
       "output_type": "stream",
       "stream": "stdout",
       "text": [
        "\n",
        "\tkey +\uc2e4\uc2dc\uac04 start\n",
        "72"
       ]
      },
      {
       "output_type": "stream",
       "stream": "stdout",
       "text": [
        "\n",
        "doneait\n",
        "\tkey +\uc2e0\ubb38 start\n",
        "171"
       ]
      },
      {
       "output_type": "stream",
       "stream": "stdout",
       "text": [
        "\n",
        "doneait"
       ]
      },
      {
       "output_type": "stream",
       "stream": "stdout",
       "text": [
        "\n",
        "\tkey +\ud074\ub798\uc2dd start\n",
        "105"
       ]
      },
      {
       "output_type": "stream",
       "stream": "stdout",
       "text": [
        "\n",
        "doneait"
       ]
      },
      {
       "output_type": "stream",
       "stream": "stdout",
       "text": [
        "\n",
        "\tkey +\ub7f0\ucc98 start\n",
        "45"
       ]
      },
      {
       "output_type": "stream",
       "stream": "stdout",
       "text": [
        "\n",
        "doneait\n",
        "\tkey +\uc8fc\uc18c\ub85d start\n",
        "47"
       ]
      },
      {
       "output_type": "stream",
       "stream": "stdout",
       "text": [
        "\n",
        "doneait\n",
        "\tkey +\ud3f0 start\n",
        "141"
       ]
      },
      {
       "output_type": "stream",
       "stream": "stdout",
       "text": [
        "\n",
        "doneait\n",
        "\tkey +\ubc14\uc774\ub7ec\uc2a4 start\n",
        "82"
       ]
      },
      {
       "output_type": "stream",
       "stream": "stdout",
       "text": [
        "\n",
        "doneait\n",
        "\tkey +\ubcf4\uc548 start\n",
        "87"
       ]
      },
      {
       "output_type": "stream",
       "stream": "stdout",
       "text": [
        "\n",
        "doneait"
       ]
      },
      {
       "output_type": "stream",
       "stream": "stdout",
       "text": [
        "\n",
        "\tkey +\uc131\uacbd start\n",
        "89"
       ]
      },
      {
       "output_type": "stream",
       "stream": "stdout",
       "text": [
        "\n",
        "doneait"
       ]
      },
      {
       "output_type": "stream",
       "stream": "stdout",
       "text": [
        "\n",
        "\tkey +\ucc2c\uc1a1 start\n",
        "49"
       ]
      },
      {
       "output_type": "stream",
       "stream": "stdout",
       "text": [
        "\n",
        "doneait\n",
        "\tkey +\ubc14\uc774\ube14 start\n",
        "57"
       ]
      },
      {
       "output_type": "stream",
       "stream": "stdout",
       "text": [
        "\n",
        "doneait\n",
        "\tkey +\ubc31\uc2e0 start\n",
        "55"
       ]
      },
      {
       "output_type": "stream",
       "stream": "stdout",
       "text": [
        "\n",
        "doneait\n",
        "\tkey +\uc6f9 start\n",
        "94"
       ]
      },
      {
       "output_type": "stream",
       "stream": "stdout",
       "text": [
        "\n",
        "doneait\n",
        "\tkey +\uc2a4\ud2f0\ucee4 start\n",
        "60"
       ]
      },
      {
       "output_type": "stream",
       "stream": "stdout",
       "text": [
        "\n",
        "doneait\n",
        "\tkey +\uc0ac\uc8fc start\n",
        "70"
       ]
      },
      {
       "output_type": "stream",
       "stream": "stdout",
       "text": [
        "\n",
        "doneait\n",
        "\tkey +\uc6b4\uc138 start\n",
        "70"
       ]
      },
      {
       "output_type": "stream",
       "stream": "stdout",
       "text": [
        "\n",
        "doneait\n",
        "\tkey +\ucf54\ubbf9 start\n",
        "104"
       ]
      },
      {
       "output_type": "stream",
       "stream": "stdout",
       "text": [
        "\n",
        "doneait"
       ]
      },
      {
       "output_type": "stream",
       "stream": "stdout",
       "text": [
        "\n",
        "\tkey +3D start\n",
        "100"
       ]
      },
      {
       "output_type": "stream",
       "stream": "stdout",
       "text": [
        "\n",
        "doneait\n",
        "\tkey +\ubcc4\uc790\ub9ac start\n",
        "55"
       ]
      },
      {
       "output_type": "stream",
       "stream": "stdout",
       "text": [
        "\n",
        "doneait\n",
        "\tkey +tool start\n",
        "48"
       ]
      },
      {
       "output_type": "stream",
       "stream": "stdout",
       "text": [
        "\n",
        "doneait\n",
        "\tkey +\uc6f9\ud230 start\n",
        "50"
       ]
      },
      {
       "output_type": "stream",
       "stream": "stdout",
       "text": [
        "\n",
        "doneait\n",
        "\tkey +\ud50c\ub808\uc774\uc5b4 start\n",
        "63"
       ]
      },
      {
       "output_type": "stream",
       "stream": "stdout",
       "text": [
        "\n",
        "doneait\n",
        "\tkey +\uce74\uba54\ub77c start\n",
        "155"
       ]
      },
      {
       "output_type": "stream",
       "stream": "stdout",
       "text": [
        "\n",
        "doneait\n",
        "\tkey +\ubca8\uc18c\ub9ac start\n",
        "50"
       ]
      },
      {
       "output_type": "stream",
       "stream": "stdout",
       "text": [
        "\n",
        "doneait"
       ]
      },
      {
       "output_type": "stream",
       "stream": "stdout",
       "text": [
        "\n",
        "\tkey +\ud55c\uae00 start\n",
        "98"
       ]
      },
      {
       "output_type": "stream",
       "stream": "stdout",
       "text": [
        "\n",
        "doneait\n",
        "\tkey +\uc624\ud53c\uc2a4 start\n",
        "84"
       ]
      },
      {
       "output_type": "stream",
       "stream": "stdout",
       "text": [
        "\n",
        "doneait"
       ]
      },
      {
       "output_type": "stream",
       "stream": "stdout",
       "text": [
        "\n",
        "\tkey +offic start\n",
        "42"
       ]
      },
      {
       "output_type": "stream",
       "stream": "stdout",
       "text": [
        "\n",
        "doneait\n",
        "\tkey +\uc54c\ubc14 start\n",
        "73"
       ]
      },
      {
       "output_type": "stream",
       "stream": "stdout",
       "text": [
        "\n",
        "doneait\n",
        "\tkey +photo start\n",
        "70"
       ]
      },
      {
       "output_type": "stream",
       "stream": "stdout",
       "text": [
        "\n",
        "doneait"
       ]
      },
      {
       "output_type": "stream",
       "stream": "stdout",
       "text": [
        "\n",
        "\tkey +\ub4dc\ub77c\uc774\ube0c start\n",
        "74"
       ]
      },
      {
       "output_type": "stream",
       "stream": "stdout",
       "text": [
        "\n",
        "doneait"
       ]
      },
      {
       "output_type": "stream",
       "stream": "stdout",
       "text": [
        "\n",
        "\tkey +\ud30c\uc77c start\n",
        "90"
       ]
      },
      {
       "output_type": "stream",
       "stream": "stdout",
       "text": [
        "\n",
        "doneait"
       ]
      },
      {
       "output_type": "stream",
       "stream": "stdout",
       "text": [
        "\n",
        "\tkey +\uac24\ub7ec\ub9ac start\n",
        "78"
       ]
      },
      {
       "output_type": "stream",
       "stream": "stdout",
       "text": [
        "\n",
        "doneait"
       ]
      },
      {
       "output_type": "stream",
       "stream": "stdout",
       "text": [
        "\n",
        "\tkey +\uadf8\ub8f9 start\n",
        "175"
       ]
      },
      {
       "output_type": "stream",
       "stream": "stdout",
       "text": [
        "\n",
        "doneait\n",
        "\tkey +\ubc14\ucf54\ub4dc start\n",
        "45"
       ]
      },
      {
       "output_type": "stream",
       "stream": "stdout",
       "text": [
        "\n",
        "doneait\n",
        "\tkey +\uc2a4\uce90\ub108 start\n",
        "47"
       ]
      },
      {
       "output_type": "stream",
       "stream": "stdout",
       "text": [
        "\n",
        "doneait\n",
        "\tkey +\uc18c\uc15c\ucee4\uba38\uc2a4 start\n",
        "48"
       ]
      },
      {
       "output_type": "stream",
       "stream": "stdout",
       "text": [
        "\n",
        "doneait\n",
        "\tkey +\uc18c\uc15c start\n",
        "68"
       ]
      },
      {
       "output_type": "stream",
       "stream": "stdout",
       "text": [
        "\n",
        "doneait\n",
        "real done.\n",
        "app Pet Fair Village start\n",
        "\n",
        "\tkey  start\n",
        "492"
       ]
      },
      {
       "output_type": "stream",
       "stream": "stdout",
       "text": [
        "\n",
        "doneait\n",
        "\tkey +\ufeff\ud37c\uc990 start\n",
        "9"
       ]
      },
      {
       "output_type": "stream",
       "stream": "stdout",
       "text": [
        "\n",
        "doneait\n",
        "\tkey +\uce90\uc8fc\uc5bc start\n",
        "3"
       ]
      },
      {
       "output_type": "stream",
       "stream": "stdout",
       "text": [
        "\n",
        "doneait\n",
        "\tkey +\uc544\ucf00\uc774\ub4dc start\n",
        "3"
       ]
      },
      {
       "output_type": "stream",
       "stream": "stdout",
       "text": [
        "\n",
        "doneait\n",
        "\tkey +\uacf5\ub7b5 start\n",
        "3"
       ]
      },
      {
       "output_type": "stream",
       "stream": "stdout",
       "text": [
        "\n",
        "doneait\n",
        "\tkey +\ub808\uc774\uc2f1 start\n",
        "2"
       ]
      },
      {
       "output_type": "stream",
       "stream": "stdout",
       "text": [
        "\n",
        "doneait\n",
        "\tkey +RPG start\n",
        "22"
       ]
      },
      {
       "output_type": "stream",
       "stream": "stdout",
       "text": [
        "\n",
        "doneait\n",
        "\tkey +\uce74\ub4dc start\n",
        "38"
       ]
      },
      {
       "output_type": "stream",
       "stream": "stdout",
       "text": [
        "\n",
        "doneait\n",
        "\tkey +\ub514\ud39c\uc2a4 start\n",
        "4"
       ]
      },
      {
       "output_type": "stream",
       "stream": "stdout",
       "text": [
        "\n",
        "doneait\n",
        "\tkey +\ub450\ub1cc start\n",
        "26"
       ]
      },
      {
       "output_type": "stream",
       "stream": "stdout",
       "text": [
        "\n",
        "doneait\n",
        "\tkey +\uc2dc\ubbac start\n",
        "except 0"
       ]
      },
      {
       "output_type": "stream",
       "stream": "stdout",
       "text": [
        "\n",
        "doneait\n",
        "\tkey +\ub2ec\ub9ac\uae30 start\n",
        "8"
       ]
      },
      {
       "output_type": "stream",
       "stream": "stdout",
       "text": [
        "\n",
        "doneait\n",
        "\tkey +\uc288\ud305 start\n",
        "5"
       ]
      },
      {
       "output_type": "stream",
       "stream": "stdout",
       "text": [
        "\n",
        "doneait\n",
        "\tkey +\ucd95\uad6c start\n",
        "31"
       ]
      },
      {
       "output_type": "stream",
       "stream": "stdout",
       "text": [
        "\n",
        "doneait\n",
        "\tkey +\uacbd\uc601 start\n",
        "37"
       ]
      },
      {
       "output_type": "stream",
       "stream": "stdout",
       "text": [
        "\n",
        "doneait\n",
        "\tkey +\ud0c0\uc774\ucfe4 start\n",
        "3"
       ]
      },
      {
       "output_type": "stream",
       "stream": "stdout",
       "text": [
        "\n",
        "doneait\n",
        "\tkey +\ud0c8\ucd9c start\n",
        "28"
       ]
      },
      {
       "output_type": "stream",
       "stream": "stdout",
       "text": [
        "\n",
        "doneait\n",
        "\tkey +\ucd94\ub9ac start\n",
        "14"
       ]
      },
      {
       "output_type": "stream",
       "stream": "stdout",
       "text": [
        "\n",
        "doneait\n",
        "\tkey +\uc7a5\uae30 start\n",
        "27"
       ]
      },
      {
       "output_type": "stream",
       "stream": "stdout",
       "text": [
        "\n",
        "doneait\n",
        "\tkey +\ube44\ud589\uae30 start\n",
        "56"
       ]
      },
      {
       "output_type": "stream",
       "stream": "stdout",
       "text": [
        "\n",
        "doneait\n",
        "\tkey +\uc0ac\ucc9c\uc131 start\n",
        "2"
       ]
      },
      {
       "output_type": "stream",
       "stream": "stdout",
       "text": [
        "\n",
        "doneait\n",
        "\tkey +\uc2a4\ud3ec\uce20 start\n",
        "36"
       ]
      },
      {
       "output_type": "stream",
       "stream": "stdout",
       "text": [
        "\n",
        "doneait\n",
        "\tkey +\ub18d\uad6c start\n",
        "18"
       ]
      },
      {
       "output_type": "stream",
       "stream": "stdout",
       "text": [
        "\n",
        "doneait\n",
        "\tkey +\ub09a\uc2dc start\n",
        "17"
       ]
      },
      {
       "output_type": "stream",
       "stream": "stdout",
       "text": [
        "\n",
        "doneait\n",
        "\tkey +\uc74c\uc545 start\n",
        "71"
       ]
      },
      {
       "output_type": "stream",
       "stream": "stdout",
       "text": [
        "\n",
        "doneait"
       ]
      },
      {
       "output_type": "stream",
       "stream": "stdout",
       "text": [
        "\n",
        "\tkey +\uce74\ud1a1 start\n",
        "except 0"
       ]
      },
      {
       "output_type": "stream",
       "stream": "stdout",
       "text": [
        "\n",
        "doneait\n",
        "\tkey +\uace8\ud504 start\n",
        "21"
       ]
      },
      {
       "output_type": "stream",
       "stream": "stdout",
       "text": [
        "\n",
        "doneait\n",
        "\tkey +\ub2f9\uad6c start\n",
        "3"
       ]
      },
      {
       "output_type": "stream",
       "stream": "stdout",
       "text": [
        "\n",
        "doneait\n",
        "\tkey +\uc57c\uad6c start\n",
        "24"
       ]
      },
      {
       "output_type": "stream",
       "stream": "stdout",
       "text": [
        "\n",
        "doneait\n",
        "\tkey +\ubcfc\ub9c1 start\n",
        "7"
       ]
      },
      {
       "output_type": "stream",
       "stream": "stdout",
       "text": [
        "\n",
        "doneait\n",
        "\tkey +\ud14c\uc774\uc2a4 start\n",
        "except 0"
       ]
      },
      {
       "output_type": "stream",
       "stream": "stdout",
       "text": [
        "\n",
        "doneait\n",
        "\tkey +\uc0bc\uad6d\uc9c0 start\n",
        "4"
       ]
      },
      {
       "output_type": "stream",
       "stream": "stdout",
       "text": [
        "\n",
        "doneait\n",
        "\tkey +TCG start\n",
        "except 0"
       ]
      },
      {
       "output_type": "stream",
       "stream": "stdout",
       "text": [
        "\n",
        "doneait\n",
        "\tkey +\uc804\uc7c1 start\n",
        "67"
       ]
      },
      {
       "output_type": "stream",
       "stream": "stdout",
       "text": [
        "\n",
        "doneait\n",
        "\tkey +\uac74\uac15 start\n",
        "75"
       ]
      },
      {
       "output_type": "stream",
       "stream": "stdout",
       "text": [
        "\n",
        "doneait"
       ]
      },
      {
       "output_type": "stream",
       "stream": "stdout",
       "text": [
        "\n",
        "\tkey +\uc6b4\ub3d9 start\n",
        "74"
       ]
      },
      {
       "output_type": "stream",
       "stream": "stdout",
       "text": [
        "\n",
        "doneait\n",
        "\tkey +\uad50\uc721 start\n",
        "79"
       ]
      },
      {
       "output_type": "stream",
       "stream": "stdout",
       "text": [
        "\n",
        "doneait\n",
        "\tkey +\uad50\ud1b5 start\n",
        "66"
       ]
      },
      {
       "output_type": "stream",
       "stream": "stdout",
       "text": [
        "\n",
        "doneait\n",
        "\tkey +\uae08\uc735 start\n",
        "23"
       ]
      },
      {
       "output_type": "stream",
       "stream": "stdout",
       "text": [
        "\n",
        "doneait\n",
        "\tkey +\ub0a0\uc528 start\n",
        "62"
       ]
      },
      {
       "output_type": "stream",
       "stream": "stdout",
       "text": [
        "\n",
        "doneait\n",
        "\tkey +\ub274\uc2a4 start\n",
        "39"
       ]
      },
      {
       "output_type": "stream",
       "stream": "stdout",
       "text": [
        "\n",
        "doneait\n",
        "\tkey +\uc7a1\uc9c0 start\n",
        "58"
       ]
      },
      {
       "output_type": "stream",
       "stream": "stdout",
       "text": [
        "\n",
        "doneait\n",
        "\tkey +\ub370\ucf54\ub808\uc774\uc158 start\n",
        "except 0"
       ]
      },
      {
       "output_type": "stream",
       "stream": "stdout",
       "text": [
        "\n",
        "doneait\n",
        "\tkey +\ub3c4\uad6c start\n",
        "54"
       ]
      },
      {
       "output_type": "stream",
       "stream": "stdout",
       "text": [
        "\n",
        "doneait"
       ]
      },
      {
       "output_type": "stream",
       "stream": "stdout",
       "text": [
        "\n",
        "\tkey +\ub3c4\uc11c start\n",
        "14"
       ]
      },
      {
       "output_type": "stream",
       "stream": "stdout",
       "text": [
        "\n",
        "doneait\n",
        "\tkey +\ucc38\uace0\uc790\ub8cc start\n",
        "196"
       ]
      },
      {
       "output_type": "stream",
       "stream": "stdout",
       "text": [
        "\n",
        "doneait\n",
        "\tkey +\ub77c\uc774\ube0c start\n",
        "6"
       ]
      },
      {
       "output_type": "stream",
       "stream": "stdout",
       "text": [
        "\n",
        "doneait\n",
        "\tkey +\ubc30\uacbd\ud654\uba74 start\n",
        "135"
       ]
      },
      {
       "output_type": "stream",
       "stream": "stdout",
       "text": [
        "\n",
        "doneait\n",
        "\tkey +\ub77c\uc774\ube0c\ub7ec\ub9ac start\n",
        "2"
       ]
      },
      {
       "output_type": "stream",
       "stream": "stdout",
       "text": [
        "\n",
        "doneait\n",
        "\tkey +\ub370\ubaa8 start\n",
        "4"
       ]
      },
      {
       "output_type": "stream",
       "stream": "stdout",
       "text": [
        "\n",
        "doneait\n",
        "\tkey +\ub77c\uc774\ud504\uc2a4\ud0c0\uc77c start\n",
        "3"
       ]
      },
      {
       "output_type": "stream",
       "stream": "stdout",
       "text": [
        "\n",
        "doneait\n",
        "\tkey +\ub9cc\ud654 start\n",
        "22"
       ]
      },
      {
       "output_type": "stream",
       "stream": "stdout",
       "text": [
        "\n",
        "doneait\n",
        "\tkey +\ubbf8\ub514\uc5b4 start\n",
        "20"
       ]
      },
      {
       "output_type": "stream",
       "stream": "stdout",
       "text": [
        "\n",
        "doneait\n",
        "\tkey +\ub3d9\uc601\uc0c1 start\n",
        "12"
       ]
      },
      {
       "output_type": "stream",
       "stream": "stdout",
       "text": [
        "\n",
        "doneait\n",
        "\tkey +\ube44\uc988\ub2c8\uc2a4 start\n",
        "11"
       ]
      },
      {
       "output_type": "stream",
       "stream": "stdout",
       "text": [
        "\n",
        "doneait\n",
        "\tkey +\uc0ac\uc9c4 start\n",
        "67"
       ]
      },
      {
       "output_type": "stream",
       "stream": "stdout",
       "text": [
        "\n",
        "doneait\n",
        "\tkey +\uc0dd\uc0b0\uc131 start\n",
        "16"
       ]
      },
      {
       "output_type": "stream",
       "stream": "stdout",
       "text": [
        "\n",
        "doneait\n",
        "\tkey +\uc18c\uc15c start\n",
        "4"
       ]
      },
      {
       "output_type": "stream",
       "stream": "stdout",
       "text": [
        "\n",
        "doneait\n",
        "\tkey +\ucf58\ud150\uce20 start\n",
        "5"
       ]
      },
      {
       "output_type": "stream",
       "stream": "stdout",
       "text": [
        "\n",
        "doneait\n",
        "\tkey +\uc1fc\ud551 start\n",
        "26"
       ]
      },
      {
       "output_type": "stream",
       "stream": "stdout",
       "text": [
        "\n",
        "doneait"
       ]
      },
      {
       "output_type": "stream",
       "stream": "stdout",
       "text": [
        "\n",
        "\tkey +\uc704\uc82f start\n",
        "except 0"
       ]
      },
      {
       "output_type": "stream",
       "stream": "stdout",
       "text": [
        "\n",
        "doneait\n",
        "\tkey +\uc790\ub3d9\ucc28 start\n",
        "61"
       ]
      },
      {
       "output_type": "stream",
       "stream": "stdout",
       "text": [
        "\n",
        "doneait"
       ]
      },
      {
       "output_type": "stream",
       "stream": "stdout",
       "text": [
        "\n",
        "\tkey +\uacbd\uc8fc start\n",
        "42"
       ]
      },
      {
       "output_type": "stream",
       "stream": "stdout",
       "text": [
        "\n",
        "doneait"
       ]
      },
      {
       "output_type": "stream",
       "stream": "stdout",
       "text": [
        "\n",
        "\tkey +\ub2e4\uc774\uc5b4\ud2b8 start\n",
        "9"
       ]
      },
      {
       "output_type": "stream",
       "stream": "stdout",
       "text": [
        "\n",
        "doneait\n",
        "\tkey +\ub2ec\ub825 start\n",
        "16"
       ]
      },
      {
       "output_type": "stream",
       "stream": "stdout",
       "text": [
        "\n",
        "doneait\n",
        "\tkey +\uc0dd\ub9ac start\n",
        "5"
       ]
      },
      {
       "output_type": "stream",
       "stream": "stdout",
       "text": [
        "\n",
        "doneait\n",
        "\tkey +\uce98\ub9b0\ub354 start\n",
        "1"
       ]
      },
      {
       "output_type": "stream",
       "stream": "stdout",
       "text": [
        "\n",
        "doneait\n",
        "\tkey +\uc0ac\uc8fc\ud314\uc790 start\n",
        "except 0"
       ]
      },
      {
       "output_type": "stream",
       "stream": "stdout",
       "text": [
        "\n",
        "doneait\n",
        "\tkey +\uad81\ud569 start\n",
        "1"
       ]
      },
      {
       "output_type": "stream",
       "stream": "stdout",
       "text": [
        "\n",
        "doneait\n",
        "\tkey +\uccb4\uc911 start\n",
        "25"
       ]
      },
      {
       "output_type": "stream",
       "stream": "stdout",
       "text": [
        "\n",
        "doneait"
       ]
      },
      {
       "output_type": "stream",
       "stream": "stdout",
       "text": [
        "\n",
        "\tkey +\uc0ac\uc804 start\n",
        "62"
       ]
      },
      {
       "output_type": "stream",
       "stream": "stdout",
       "text": [
        "\n",
        "doneait\n",
        "\tkey +\ucef4\ud4e8\ud130 start\n",
        "44"
       ]
      },
      {
       "output_type": "stream",
       "stream": "stdout",
       "text": [
        "\n",
        "doneait\n",
        "\tkey +\ubc31\uacfc\uc0ac\uc804 start\n",
        "10"
       ]
      },
      {
       "output_type": "stream",
       "stream": "stdout",
       "text": [
        "\n",
        "doneait\n",
        "\tkey +\uae09\uc2dd start\n",
        "2"
       ]
      },
      {
       "output_type": "stream",
       "stream": "stdout",
       "text": [
        "\n",
        "doneait\n",
        "\tkey +\ud559\uad50 start\n",
        "72"
       ]
      },
      {
       "output_type": "stream",
       "stream": "stdout",
       "text": [
        "\n",
        "doneait\n",
        "\tkey +\ucd08\ub4f1\ud559\uad50 start\n",
        "20"
       ]
      },
      {
       "output_type": "stream",
       "stream": "stdout",
       "text": [
        "\n",
        "doneait\n",
        "\tkey +\uc911\ud559\uad50 start\n",
        "14"
       ]
      },
      {
       "output_type": "stream",
       "stream": "stdout",
       "text": [
        "\n",
        "doneait\n",
        "\tkey +\uace0\ub4f1\ud559\uad50 start\n",
        "20"
       ]
      },
      {
       "output_type": "stream",
       "stream": "stdout",
       "text": [
        "\n",
        "doneait\n",
        "\tkey +\ub300\ud559\uad50 start\n",
        "23"
       ]
      },
      {
       "output_type": "stream",
       "stream": "stdout",
       "text": [
        "\n",
        "doneait\n",
        "\tkey +Korea start\n",
        "96"
       ]
      },
      {
       "output_type": "stream",
       "stream": "stdout",
       "text": [
        "\n",
        "doneait\n",
        "\tkey +\ub124\ube44\uac8c\uc774\uc158 start\n",
        "1"
       ]
      },
      {
       "output_type": "stream",
       "stream": "stdout",
       "text": [
        "\n",
        "doneait\n",
        "\tkey +\uc9c0\ud558\ucca0 start\n",
        "47"
       ]
      },
      {
       "output_type": "stream",
       "stream": "stdout",
       "text": [
        "\n",
        "doneait\n",
        "\tkey +\uc885\uacb0\uc790 start\n",
        "except 0"
       ]
      },
      {
       "output_type": "stream",
       "stream": "stdout",
       "text": [
        "\n",
        "doneait\n",
        "\tkey +\ub0b4\ube44 start\n",
        "except 0"
       ]
      },
      {
       "output_type": "stream",
       "stream": "stdout",
       "text": [
        "\n",
        "doneait\n",
        "\tkey +\uac00\uacc4\ubd80 start\n",
        "except 0"
       ]
      },
      {
       "output_type": "stream",
       "stream": "stdout",
       "text": [
        "\n",
        "doneait\n",
        "\tkey +Money start\n",
        "330"
       ]
      },
      {
       "output_type": "stream",
       "stream": "stdout",
       "text": [
        "\n",
        "doneait"
       ]
      },
      {
       "output_type": "stream",
       "stream": "stdout",
       "text": [
        "\n",
        "\tkey +\uc2a4\ub9c8\ud2b8 start\n",
        "7"
       ]
      },
      {
       "output_type": "stream",
       "stream": "stdout",
       "text": [
        "\n",
        "doneait\n",
        "\tkey +\uacc4\uc0b0\uae30 start\n",
        "7"
       ]
      },
      {
       "output_type": "stream",
       "stream": "stdout",
       "text": [
        "\n",
        "doneait\n",
        "\tkey +\uc740\ud589 start\n",
        "48"
       ]
      },
      {
       "output_type": "stream",
       "stream": "stdout",
       "text": [
        "\n",
        "doneait"
       ]
      },
      {
       "output_type": "stream",
       "stream": "stdout",
       "text": [
        "\n",
        "\tkey +\uac80\uc0c9\uc5b4 start\n",
        "except 0"
       ]
      },
      {
       "output_type": "stream",
       "stream": "stdout",
       "text": [
        "\n",
        "doneait\n",
        "\tkey +\uc2e4\uc2dc\uac04 start\n",
        "7"
       ]
      },
      {
       "output_type": "stream",
       "stream": "stdout",
       "text": [
        "\n",
        "doneait\n",
        "\tkey +\uc2e0\ubb38 start\n",
        "54"
       ]
      },
      {
       "output_type": "stream",
       "stream": "stdout",
       "text": [
        "\n",
        "doneait\n",
        "\tkey +\ud074\ub798\uc2dd start\n",
        "12"
       ]
      },
      {
       "output_type": "stream",
       "stream": "stdout",
       "text": [
        "\n",
        "doneait\n",
        "\tkey +\ub7f0\ucc98 start\n",
        "except 0"
       ]
      },
      {
       "output_type": "stream",
       "stream": "stdout",
       "text": [
        "\n",
        "doneait"
       ]
      },
      {
       "output_type": "stream",
       "stream": "stdout",
       "text": [
        "\n",
        "\tkey +\uc8fc\uc18c\ub85d start\n",
        "except 0"
       ]
      },
      {
       "output_type": "stream",
       "stream": "stdout",
       "text": [
        "\n",
        "doneait\n",
        "\tkey +\ud3f0 start\n",
        "18"
       ]
      },
      {
       "output_type": "stream",
       "stream": "stdout",
       "text": [
        "\n",
        "doneait"
       ]
      },
      {
       "output_type": "stream",
       "stream": "stdout",
       "text": [
        "\n",
        "\tkey +\ubc14\uc774\ub7ec\uc2a4 start\n",
        "19"
       ]
      },
      {
       "output_type": "stream",
       "stream": "stdout",
       "text": [
        "\n",
        "doneait\n",
        "\tkey +\ubcf4\uc548 start\n",
        "18"
       ]
      },
      {
       "output_type": "stream",
       "stream": "stdout",
       "text": [
        "\n",
        "doneait\n",
        "\tkey +\uc131\uacbd start\n",
        "8"
       ]
      },
      {
       "output_type": "stream",
       "stream": "stdout",
       "text": [
        "\n",
        "doneait\n",
        "\tkey +\ucc2c\uc1a1 start\n",
        "1"
       ]
      },
      {
       "output_type": "stream",
       "stream": "stdout",
       "text": [
        "\n",
        "doneait\n",
        "\tkey +\ubc14\uc774\ube14 start\n",
        "except 0"
       ]
      },
      {
       "output_type": "stream",
       "stream": "stdout",
       "text": [
        "\n",
        "doneait\n",
        "\tkey +\ubc31\uc2e0 start\n",
        "9"
       ]
      },
      {
       "output_type": "stream",
       "stream": "stdout",
       "text": [
        "\n",
        "doneait\n",
        "\tkey +\uc6f9 start\n",
        "23"
       ]
      },
      {
       "output_type": "stream",
       "stream": "stdout",
       "text": [
        "\n",
        "doneait\n",
        "\tkey +\uc2a4\ud2f0\ucee4 start\n",
        "4"
       ]
      },
      {
       "output_type": "stream",
       "stream": "stdout",
       "text": [
        "\n",
        "doneait\n",
        "\tkey +\uc0ac\uc8fc start\n",
        "7"
       ]
      },
      {
       "output_type": "stream",
       "stream": "stdout",
       "text": [
        "\n",
        "doneait\n",
        "\tkey +\uc6b4\uc138 start\n",
        "except 0"
       ]
      },
      {
       "output_type": "stream",
       "stream": "stdout",
       "text": [
        "\n",
        "doneait\n",
        "\tkey +\ucf54\ubbf9 start\n",
        "3"
       ]
      },
      {
       "output_type": "stream",
       "stream": "stdout",
       "text": [
        "\n",
        "doneait"
       ]
      },
      {
       "output_type": "stream",
       "stream": "stdout",
       "text": [
        "\n",
        "\tkey +3D start\n",
        "57"
       ]
      },
      {
       "output_type": "stream",
       "stream": "stdout",
       "text": [
        "\n",
        "doneait"
       ]
      },
      {
       "output_type": "stream",
       "stream": "stdout",
       "text": [
        "\n",
        "\tkey +\ubcc4\uc790\ub9ac start\n",
        "2"
       ]
      },
      {
       "output_type": "stream",
       "stream": "stdout",
       "text": [
        "\n",
        "doneait\n",
        "\tkey +tool start\n",
        "136"
       ]
      },
      {
       "output_type": "stream",
       "stream": "stdout",
       "text": [
        "\n",
        "doneait\n",
        "\tkey +\uc6f9\ud230 start\n",
        "1"
       ]
      },
      {
       "output_type": "stream",
       "stream": "stdout",
       "text": [
        "\n",
        "doneait\n",
        "\tkey +\ud50c\ub808\uc774\uc5b4 start\n",
        "13"
       ]
      },
      {
       "output_type": "stream",
       "stream": "stdout",
       "text": [
        "\n",
        "doneait\n",
        "\tkey +\uce74\uba54\ub77c start\n",
        "45"
       ]
      },
      {
       "output_type": "stream",
       "stream": "stdout",
       "text": [
        "\n",
        "doneait\n",
        "\tkey +\ubca8\uc18c\ub9ac start\n",
        "2"
       ]
      },
      {
       "output_type": "stream",
       "stream": "stdout",
       "text": [
        "\n",
        "doneait\n",
        "\tkey +\ud55c\uae00 start\n",
        "16"
       ]
      },
      {
       "output_type": "stream",
       "stream": "stdout",
       "text": [
        "\n",
        "doneait\n",
        "\tkey +\uc624\ud53c\uc2a4 start\n",
        "5"
       ]
      },
      {
       "output_type": "stream",
       "stream": "stdout",
       "text": [
        "\n",
        "doneait\n",
        "\tkey +offic start\n",
        "6"
       ]
      },
      {
       "output_type": "stream",
       "stream": "stdout",
       "text": [
        "\n",
        "doneait\n",
        "\tkey +\uc54c\ubc14 start\n",
        "2"
       ]
      },
      {
       "output_type": "stream",
       "stream": "stdout",
       "text": [
        "\n",
        "doneait\n",
        "\tkey +photo start\n",
        "102"
       ]
      },
      {
       "output_type": "stream",
       "stream": "stdout",
       "text": [
        "\n",
        "doneait\n",
        "\tkey +\ub4dc\ub77c\uc774\ube0c start\n",
        "12"
       ]
      },
      {
       "output_type": "stream",
       "stream": "stdout",
       "text": [
        "\n",
        "doneait\n",
        "\tkey +\ud30c\uc77c start\n",
        "19"
       ]
      },
      {
       "output_type": "stream",
       "stream": "stdout",
       "text": [
        "\n",
        "doneait\n",
        "\tkey +\uac24\ub7ec\ub9ac start\n",
        "4"
       ]
      },
      {
       "output_type": "stream",
       "stream": "stdout",
       "text": [
        "\n",
        "doneait\n",
        "\tkey +\uadf8\ub8f9 start\n",
        "28"
       ]
      },
      {
       "output_type": "stream",
       "stream": "stdout",
       "text": [
        "\n",
        "doneait"
       ]
      },
      {
       "output_type": "stream",
       "stream": "stdout",
       "text": [
        "\n",
        "\tkey +\ubc14\ucf54\ub4dc start\n",
        "1"
       ]
      },
      {
       "output_type": "stream",
       "stream": "stdout",
       "text": [
        "\n",
        "doneait\n",
        "\tkey +\uc2a4\uce90\ub108 start\n",
        "5"
       ]
      },
      {
       "output_type": "stream",
       "stream": "stdout",
       "text": [
        "\n",
        "doneait\n",
        "\tkey +\uc18c\uc15c\ucee4\uba38\uc2a4 start\n",
        "except 0"
       ]
      },
      {
       "output_type": "stream",
       "stream": "stdout",
       "text": [
        "\n",
        "doneait\n",
        "\tkey +\uc18c\uc15c start\n",
        "4"
       ]
      },
      {
       "output_type": "stream",
       "stream": "stdout",
       "text": [
        "\n",
        "doneait\n",
        "real done.\n",
        "app Forest Life start\n",
        "\n",
        "\tkey  start\n",
        "21198"
       ]
      },
      {
       "output_type": "stream",
       "stream": "stdout",
       "text": [
        "\n",
        "doneait\n",
        "\tkey +\ufeff\ud37c\uc990 start\n",
        "76"
       ]
      },
      {
       "output_type": "stream",
       "stream": "stdout",
       "text": [
        "\n",
        "doneait\n",
        "\tkey +\uce90\uc8fc\uc5bc start\n",
        "27"
       ]
      },
      {
       "output_type": "stream",
       "stream": "stdout",
       "text": [
        "\n",
        "doneait\n",
        "\tkey +\uc544\ucf00\uc774\ub4dc start\n",
        "38"
       ]
      },
      {
       "output_type": "stream",
       "stream": "stdout",
       "text": [
        "\n",
        "doneait\n",
        "\tkey +\uacf5\ub7b5 start\n",
        "106"
       ]
      },
      {
       "output_type": "stream",
       "stream": "stdout",
       "text": [
        "\n",
        "doneait\n",
        "\tkey +\ub808\uc774\uc2f1 start\n",
        "29"
       ]
      },
      {
       "output_type": "stream",
       "stream": "stdout",
       "text": [
        "\n",
        "doneait\n",
        "\tkey +RPG start\n",
        "119"
       ]
      },
      {
       "output_type": "stream",
       "stream": "stdout",
       "text": [
        "\n",
        "doneait\n",
        "\tkey +\uce74\ub4dc start\n",
        "454"
       ]
      },
      {
       "output_type": "stream",
       "stream": "stdout",
       "text": [
        "\n",
        "doneait\n",
        "\tkey +\ub514\ud39c\uc2a4 start\n",
        "15"
       ]
      },
      {
       "output_type": "stream",
       "stream": "stdout",
       "text": [
        "\n",
        "doneait\n",
        "\tkey +\ub450\ub1cc start\n",
        "185"
       ]
      },
      {
       "output_type": "stream",
       "stream": "stdout",
       "text": [
        "\n",
        "doneait"
       ]
      },
      {
       "output_type": "stream",
       "stream": "stdout",
       "text": [
        "\n",
        "\tkey +\uc2dc\ubbac start\n",
        "except 0"
       ]
      },
      {
       "output_type": "stream",
       "stream": "stdout",
       "text": [
        "\n",
        "doneait\n",
        "\tkey +\ub2ec\ub9ac\uae30 start\n",
        "115"
       ]
      },
      {
       "output_type": "stream",
       "stream": "stdout",
       "text": [
        "\n",
        "doneait\n",
        "\tkey +\uc288\ud305 start\n",
        "42"
       ]
      },
      {
       "output_type": "stream",
       "stream": "stdout",
       "text": [
        "\n",
        "doneait\n",
        "\tkey +\ucd95\uad6c start\n",
        "241"
       ]
      },
      {
       "output_type": "stream",
       "stream": "stdout",
       "text": [
        "\n",
        "doneait\n",
        "\tkey +\uacbd\uc601 start\n",
        "320"
       ]
      },
      {
       "output_type": "stream",
       "stream": "stdout",
       "text": [
        "\n",
        "doneait\n",
        "\tkey +\ud0c0\uc774\ucfe4 start\n",
        "2"
       ]
      },
      {
       "output_type": "stream",
       "stream": "stdout",
       "text": [
        "\n",
        "doneait\n",
        "\tkey +\ud0c8\ucd9c start\n",
        "285"
       ]
      },
      {
       "output_type": "stream",
       "stream": "stdout",
       "text": [
        "\n",
        "doneait"
       ]
      },
      {
       "output_type": "stream",
       "stream": "stdout",
       "text": [
        "\n",
        "\tkey +\ucd94\ub9ac start\n",
        "86"
       ]
      },
      {
       "output_type": "stream",
       "stream": "stdout",
       "text": [
        "\n",
        "doneait\n",
        "\tkey +\uc7a5\uae30 start\n",
        "205"
       ]
      },
      {
       "output_type": "stream",
       "stream": "stdout",
       "text": [
        "\n",
        "doneait\n",
        "\tkey +\ube44\ud589\uae30 start\n",
        "514"
       ]
      },
      {
       "output_type": "stream",
       "stream": "stdout",
       "text": [
        "\n",
        "doneait\n",
        "\tkey +\uc0ac\ucc9c\uc131 start\n",
        "1"
       ]
      },
      {
       "output_type": "stream",
       "stream": "stdout",
       "text": [
        "\n",
        "doneait"
       ]
      },
      {
       "output_type": "stream",
       "stream": "stdout",
       "text": [
        "\n",
        "\tkey +\uc2a4\ud3ec\uce20 start\n",
        "345"
       ]
      },
      {
       "output_type": "stream",
       "stream": "stdout",
       "text": [
        "\n",
        "doneait"
       ]
      },
      {
       "output_type": "stream",
       "stream": "stdout",
       "text": [
        "\n",
        "\tkey +\ub18d\uad6c start\n",
        "107"
       ]
      },
      {
       "output_type": "stream",
       "stream": "stdout",
       "text": [
        "\n",
        "doneait\n",
        "\tkey +\ub09a\uc2dc start\n",
        "174"
       ]
      },
      {
       "output_type": "stream",
       "stream": "stdout",
       "text": [
        "\n",
        "doneait"
       ]
      },
      {
       "output_type": "stream",
       "stream": "stdout",
       "text": [
        "\n",
        "\tkey +\uc74c\uc545 start\n",
        "1781"
       ]
      },
      {
       "output_type": "stream",
       "stream": "stdout",
       "text": [
        "\n",
        "doneait"
       ]
      },
      {
       "output_type": "stream",
       "stream": "stdout",
       "text": [
        "\n",
        "\tkey +\uce74\ud1a1 start\n",
        "12"
       ]
      },
      {
       "output_type": "stream",
       "stream": "stdout",
       "text": [
        "\n",
        "doneait\n",
        "\tkey +\uace8\ud504 start\n",
        "175"
       ]
      },
      {
       "output_type": "stream",
       "stream": "stdout",
       "text": [
        "\n",
        "doneait\n",
        "\tkey +\ub2f9\uad6c start\n",
        "28"
       ]
      },
      {
       "output_type": "stream",
       "stream": "stdout",
       "text": [
        "\n",
        "doneait\n",
        "\tkey +\uc57c\uad6c start\n",
        "199"
       ]
      },
      {
       "output_type": "stream",
       "stream": "stdout",
       "text": [
        "\n",
        "doneait\n",
        "\tkey +\ubcfc\ub9c1 start\n",
        "38"
       ]
      },
      {
       "output_type": "stream",
       "stream": "stdout",
       "text": [
        "\n",
        "doneait\n",
        "\tkey +\ud14c\uc774\uc2a4 start\n",
        "except 0"
       ]
      },
      {
       "output_type": "stream",
       "stream": "stdout",
       "text": [
        "\n",
        "doneait\n",
        "\tkey +\uc0bc\uad6d\uc9c0 start\n",
        "40"
       ]
      },
      {
       "output_type": "stream",
       "stream": "stdout",
       "text": [
        "\n",
        "doneait\n",
        "\tkey +TCG start\n",
        "6"
       ]
      },
      {
       "output_type": "stream",
       "stream": "stdout",
       "text": [
        "\n",
        "doneait\n",
        "\tkey +\uc804\uc7c1 start\n",
        "982"
       ]
      },
      {
       "output_type": "stream",
       "stream": "stdout",
       "text": [
        "\n",
        "doneait\n",
        "\tkey +\uac74\uac15 start\n",
        "934"
       ]
      },
      {
       "output_type": "stream",
       "stream": "stdout",
       "text": [
        "\n",
        "doneait"
       ]
      },
      {
       "output_type": "stream",
       "stream": "stdout",
       "text": [
        "\n",
        "\tkey +\uc6b4\ub3d9 start\n",
        "836"
       ]
      },
      {
       "output_type": "stream",
       "stream": "stdout",
       "text": [
        "\n",
        "doneait\n",
        "\tkey +\uad50\uc721 start\n",
        "908"
       ]
      },
      {
       "output_type": "stream",
       "stream": "stdout",
       "text": [
        "\n",
        "doneait\n",
        "\tkey +\uad50\ud1b5 start\n",
        "524"
       ]
      },
      {
       "output_type": "stream",
       "stream": "stdout",
       "text": [
        "\n",
        "doneait\n",
        "\tkey +\uae08\uc735 start\n",
        "238"
       ]
      },
      {
       "output_type": "stream",
       "stream": "stdout",
       "text": [
        "\n",
        "doneait\n",
        "\tkey +\ub0a0\uc528 start\n",
        "612"
       ]
      },
      {
       "output_type": "stream",
       "stream": "stdout",
       "text": [
        "\n",
        "doneait\n",
        "\tkey +\ub274\uc2a4 start\n",
        "581"
       ]
      },
      {
       "output_type": "stream",
       "stream": "stdout",
       "text": [
        "\n",
        "doneait"
       ]
      },
      {
       "output_type": "stream",
       "stream": "stdout",
       "text": [
        "\n",
        "\tkey +\uc7a1\uc9c0 start\n",
        "453"
       ]
      },
      {
       "output_type": "stream",
       "stream": "stdout",
       "text": [
        "\n",
        "doneait\n",
        "\tkey +\ub370\ucf54\ub808\uc774\uc158 start\n",
        "11"
       ]
      },
      {
       "output_type": "stream",
       "stream": "stdout",
       "text": [
        "\n",
        "doneait\n",
        "\tkey +\ub3c4\uad6c start\n",
        "468"
       ]
      },
      {
       "output_type": "stream",
       "stream": "stdout",
       "text": [
        "\n",
        "doneait\n",
        "\tkey +\ub3c4\uc11c start\n",
        "200"
       ]
      },
      {
       "output_type": "stream",
       "stream": "stdout",
       "text": [
        "\n",
        "doneait\n",
        "\tkey +\ucc38\uace0\uc790\ub8cc start\n",
        "245"
       ]
      },
      {
       "output_type": "stream",
       "stream": "stdout",
       "text": [
        "\n",
        "doneait\n",
        "\tkey +\ub77c\uc774\ube0c start\n",
        "281"
       ]
      },
      {
       "output_type": "stream",
       "stream": "stdout",
       "text": [
        "\n",
        "doneait\n",
        "\tkey +\ubc30\uacbd\ud654\uba74 start\n",
        "167"
       ]
      },
      {
       "output_type": "stream",
       "stream": "stdout",
       "text": [
        "\n",
        "doneait\n",
        "\tkey +\ub77c\uc774\ube0c\ub7ec\ub9ac start\n",
        "24"
       ]
      },
      {
       "output_type": "stream",
       "stream": "stdout",
       "text": [
        "\n",
        "doneait\n",
        "\tkey +\ub370\ubaa8 start\n",
        "91"
       ]
      },
      {
       "output_type": "stream",
       "stream": "stdout",
       "text": [
        "\n",
        "doneait"
       ]
      },
      {
       "output_type": "stream",
       "stream": "stdout",
       "text": [
        "\n",
        "\tkey +\ub77c\uc774\ud504\uc2a4\ud0c0\uc77c start\n",
        "58"
       ]
      },
      {
       "output_type": "stream",
       "stream": "stdout",
       "text": [
        "\n",
        "doneait\n",
        "\tkey +\ub9cc\ud654 start\n",
        "249"
       ]
      },
      {
       "output_type": "stream",
       "stream": "stdout",
       "text": [
        "\n",
        "doneait\n",
        "\tkey +\ubbf8\ub514\uc5b4 start\n",
        "342"
       ]
      },
      {
       "output_type": "stream",
       "stream": "stdout",
       "text": [
        "\n",
        "doneait\n",
        "\tkey +\ub3d9\uc601\uc0c1 start\n",
        "348"
       ]
      },
      {
       "output_type": "stream",
       "stream": "stdout",
       "text": [
        "\n",
        "doneait\n",
        "\tkey +\ube44\uc988\ub2c8\uc2a4 start\n",
        "163"
       ]
      },
      {
       "output_type": "stream",
       "stream": "stdout",
       "text": [
        "\n",
        "doneait\n",
        "\tkey +\uc0ac\uc9c4 start\n",
        "1585"
       ]
      },
      {
       "output_type": "stream",
       "stream": "stdout",
       "text": [
        "\n",
        "doneait\n",
        "\tkey +\uc0dd\uc0b0\uc131 start\n",
        "121"
       ]
      },
      {
       "output_type": "stream",
       "stream": "stdout",
       "text": [
        "\n",
        "doneait\n",
        "\tkey +\uc18c\uc15c start\n",
        "79"
       ]
      },
      {
       "output_type": "stream",
       "stream": "stdout",
       "text": [
        "\n",
        "doneait\n",
        "\tkey +\ucf58\ud150\uce20 start\n",
        "59"
       ]
      },
      {
       "output_type": "stream",
       "stream": "stdout",
       "text": [
        "\n",
        "doneait\n",
        "\tkey +\uc1fc\ud551 start\n",
        "221"
       ]
      },
      {
       "output_type": "stream",
       "stream": "stdout",
       "text": [
        "\n",
        "doneait\n",
        "\tkey +\uc704\uc82f start\n",
        "4"
       ]
      },
      {
       "output_type": "stream",
       "stream": "stdout",
       "text": [
        "\n",
        "doneait\n",
        "\tkey +\uc790\ub3d9\ucc28 start\n",
        "546"
       ]
      },
      {
       "output_type": "stream",
       "stream": "stdout",
       "text": [
        "\n",
        "doneait\n",
        "\tkey +\uacbd\uc8fc start\n",
        "208"
       ]
      },
      {
       "output_type": "stream",
       "stream": "stdout",
       "text": [
        "\n",
        "doneait\n",
        "\tkey +\ub2e4\uc774\uc5b4\ud2b8 start\n",
        "95"
       ]
      },
      {
       "output_type": "stream",
       "stream": "stdout",
       "text": [
        "\n",
        "doneait\n",
        "\tkey +\ub2ec\ub825 start\n",
        "82"
       ]
      },
      {
       "output_type": "stream",
       "stream": "stdout",
       "text": [
        "\n",
        "doneait\n",
        "\tkey +\uc0dd\ub9ac start\n",
        "70"
       ]
      },
      {
       "output_type": "stream",
       "stream": "stdout",
       "text": [
        "\n",
        "doneait\n",
        "\tkey +\uce98\ub9b0\ub354 start\n",
        "21"
       ]
      },
      {
       "output_type": "stream",
       "stream": "stdout",
       "text": [
        "\n",
        "doneait\n",
        "\tkey +\uc0ac\uc8fc\ud314\uc790 start\n",
        "3"
       ]
      },
      {
       "output_type": "stream",
       "stream": "stdout",
       "text": [
        "\n",
        "doneait\n",
        "\tkey +\uad81\ud569 start\n",
        "32"
       ]
      },
      {
       "output_type": "stream",
       "stream": "stdout",
       "text": [
        "\n",
        "doneait\n",
        "\tkey +\uccb4\uc911 start\n",
        "111"
       ]
      },
      {
       "output_type": "stream",
       "stream": "stdout",
       "text": [
        "\n",
        "doneait\n",
        "\tkey +\uc0ac\uc804 start\n",
        "605"
       ]
      },
      {
       "output_type": "stream",
       "stream": "stdout",
       "text": [
        "\n",
        "doneait\n",
        "\tkey +\ucef4\ud4e8\ud130 start\n",
        "563"
       ]
      },
      {
       "output_type": "stream",
       "stream": "stdout",
       "text": [
        "\n",
        "doneait\n",
        "\tkey +\ubc31\uacfc\uc0ac\uc804 start\n",
        "104"
       ]
      },
      {
       "output_type": "stream",
       "stream": "stdout",
       "text": [
        "\n",
        "doneait\n",
        "\tkey +\uae09\uc2dd start\n",
        "29"
       ]
      },
      {
       "output_type": "stream",
       "stream": "stdout",
       "text": [
        "\n",
        "doneait\n",
        "\tkey +\ud559\uad50 start\n",
        "1209"
       ]
      },
      {
       "output_type": "stream",
       "stream": "stdout",
       "text": [
        "\n",
        "doneait\n",
        "\tkey +\ucd08\ub4f1\ud559\uad50 start\n",
        "172"
       ]
      },
      {
       "output_type": "stream",
       "stream": "stdout",
       "text": [
        "\n",
        "doneait"
       ]
      },
      {
       "output_type": "stream",
       "stream": "stdout",
       "text": [
        "\n",
        "\tkey +\uc911\ud559\uad50 start\n",
        "129"
       ]
      },
      {
       "output_type": "stream",
       "stream": "stdout",
       "text": [
        "\n",
        "doneait"
       ]
      },
      {
       "output_type": "stream",
       "stream": "stdout",
       "text": [
        "\n",
        "\tkey +\uace0\ub4f1\ud559\uad50 start\n",
        "328"
       ]
      },
      {
       "output_type": "stream",
       "stream": "stdout",
       "text": [
        "\n",
        "doneait"
       ]
      },
      {
       "output_type": "stream",
       "stream": "stdout",
       "text": [
        "\n",
        "\tkey +\ub300\ud559\uad50 start\n",
        "481"
       ]
      },
      {
       "output_type": "stream",
       "stream": "stdout",
       "text": [
        "\n",
        "doneait"
       ]
      },
      {
       "output_type": "stream",
       "stream": "stdout",
       "text": [
        "\n",
        "\tkey +Korea start\n",
        "1792"
       ]
      },
      {
       "output_type": "stream",
       "stream": "stdout",
       "text": [
        "\n",
        "doneait\n",
        "\tkey +\ub124\ube44\uac8c\uc774\uc158 start\n",
        "21"
       ]
      },
      {
       "output_type": "stream",
       "stream": "stdout",
       "text": [
        "\n",
        "doneait\n",
        "\tkey +\uc9c0\ud558\ucca0 start\n",
        "256"
       ]
      },
      {
       "output_type": "stream",
       "stream": "stdout",
       "text": [
        "\n",
        "doneait"
       ]
      },
      {
       "output_type": "stream",
       "stream": "stdout",
       "text": [
        "\n",
        "\tkey +\uc885\uacb0\uc790 start\n",
        "13"
       ]
      },
      {
       "output_type": "stream",
       "stream": "stdout",
       "text": [
        "\n",
        "doneait\n",
        "\tkey +\ub0b4\ube44 start\n",
        "3"
       ]
      },
      {
       "output_type": "stream",
       "stream": "stdout",
       "text": [
        "\n",
        "doneait\n",
        "\tkey +\uac00\uacc4\ubd80 start\n",
        "6"
       ]
      },
      {
       "output_type": "stream",
       "stream": "stdout",
       "text": [
        "\n",
        "doneait\n",
        "\tkey +Money start\n",
        "3989"
       ]
      },
      {
       "output_type": "stream",
       "stream": "stdout",
       "text": [
        "\n",
        "doneait"
       ]
      },
      {
       "output_type": "stream",
       "stream": "stdout",
       "text": [
        "\n",
        "\tkey +\uc2a4\ub9c8\ud2b8 start\n",
        "132"
       ]
      },
      {
       "output_type": "stream",
       "stream": "stdout",
       "text": [
        "\n",
        "doneait\n",
        "\tkey +\uacc4\uc0b0\uae30 start\n",
        "39"
       ]
      },
      {
       "output_type": "stream",
       "stream": "stdout",
       "text": [
        "\n",
        "doneait\n",
        "\tkey +\uc740\ud589 start\n",
        "389"
       ]
      },
      {
       "output_type": "stream",
       "stream": "stdout",
       "text": [
        "\n",
        "doneait\n",
        "\tkey +\uac80\uc0c9\uc5b4 start\n",
        "42"
       ]
      },
      {
       "output_type": "stream",
       "stream": "stdout",
       "text": [
        "\n",
        "doneait\n",
        "\tkey +\uc2e4\uc2dc\uac04 start\n",
        "119"
       ]
      },
      {
       "output_type": "stream",
       "stream": "stdout",
       "text": [
        "\n",
        "doneait\n",
        "\tkey +\uc2e0\ubb38 start\n",
        "519"
       ]
      },
      {
       "output_type": "stream",
       "stream": "stdout",
       "text": [
        "\n",
        "doneait\n",
        "\tkey +\ud074\ub798\uc2dd start\n",
        "258"
       ]
      },
      {
       "output_type": "stream",
       "stream": "stdout",
       "text": [
        "\n",
        "doneait\n",
        "\tkey +\ub7f0\ucc98 start\n",
        "4"
       ]
      },
      {
       "output_type": "stream",
       "stream": "stdout",
       "text": [
        "\n",
        "doneait\n",
        "\tkey +\uc8fc\uc18c\ub85d start\n",
        "20"
       ]
      },
      {
       "output_type": "stream",
       "stream": "stdout",
       "text": [
        "\n",
        "doneait\n",
        "\tkey +\ud3f0 start\n",
        "305"
       ]
      },
      {
       "output_type": "stream",
       "stream": "stdout",
       "text": [
        "\n",
        "doneait\n",
        "\tkey +\ubc14\uc774\ub7ec\uc2a4 start\n",
        "171"
       ]
      },
      {
       "output_type": "stream",
       "stream": "stdout",
       "text": [
        "\n",
        "doneait\n",
        "\tkey +\ubcf4\uc548 start\n",
        "160"
       ]
      },
      {
       "output_type": "stream",
       "stream": "stdout",
       "text": [
        "\n",
        "doneait\n",
        "\tkey +\uc131\uacbd start\n",
        "311"
       ]
      },
      {
       "output_type": "stream",
       "stream": "stdout",
       "text": [
        "\n",
        "doneait\n",
        "\tkey +\ucc2c\uc1a1 start\n",
        "79"
       ]
      },
      {
       "output_type": "stream",
       "stream": "stdout",
       "text": [
        "\n",
        "doneait\n",
        "\tkey +\ubc14\uc774\ube14 start\n",
        "40"
       ]
      },
      {
       "output_type": "stream",
       "stream": "stdout",
       "text": [
        "\n",
        "doneait\n",
        "\tkey +\ubc31\uc2e0 start\n",
        "45"
       ]
      },
      {
       "output_type": "stream",
       "stream": "stdout",
       "text": [
        "\n",
        "doneait\n",
        "\tkey +\uc6f9 start\n",
        "350"
       ]
      },
      {
       "output_type": "stream",
       "stream": "stdout",
       "text": [
        "\n",
        "doneait\n",
        "\tkey +\uc2a4\ud2f0\ucee4 start\n",
        "48"
       ]
      },
      {
       "output_type": "stream",
       "stream": "stdout",
       "text": [
        "\n",
        "doneait\n",
        "\tkey +\uc0ac\uc8fc start\n",
        "57"
       ]
      },
      {
       "output_type": "stream",
       "stream": "stdout",
       "text": [
        "\n",
        "doneait\n",
        "\tkey +\uc6b4\uc138 start\n",
        "24"
       ]
      },
      {
       "output_type": "stream",
       "stream": "stdout",
       "text": [
        "\n",
        "doneait\n",
        "\tkey +\ucf54\ubbf9 start\n",
        "85"
       ]
      },
      {
       "output_type": "stream",
       "stream": "stdout",
       "text": [
        "\n",
        "doneait\n",
        "\tkey +3D start\n",
        "603"
       ]
      },
      {
       "output_type": "stream",
       "stream": "stdout",
       "text": [
        "\n",
        "doneait\n",
        "\tkey +\ubcc4\uc790\ub9ac start\n",
        "54"
       ]
      },
      {
       "output_type": "stream",
       "stream": "stdout",
       "text": [
        "\n",
        "doneait\n",
        "\tkey +tool start\n",
        "1033"
       ]
      },
      {
       "output_type": "stream",
       "stream": "stdout",
       "text": [
        "\n",
        "doneait\n",
        "\tkey +\uc6f9\ud230 start\n",
        "10"
       ]
      },
      {
       "output_type": "stream",
       "stream": "stdout",
       "text": [
        "\n",
        "doneait\n",
        "\tkey +\ud50c\ub808\uc774\uc5b4 start\n",
        "182"
       ]
      },
      {
       "output_type": "stream",
       "stream": "stdout",
       "text": [
        "\n",
        "doneait\n",
        "\tkey +\uce74\uba54\ub77c start\n",
        "383"
       ]
      },
      {
       "output_type": "stream",
       "stream": "stdout",
       "text": [
        "\n",
        "doneait\n",
        "\tkey +\ubca8\uc18c\ub9ac start\n",
        "36"
       ]
      },
      {
       "output_type": "stream",
       "stream": "stdout",
       "text": [
        "\n",
        "doneait\n",
        "\tkey +\ud55c\uae00 start\n",
        "321"
       ]
      },
      {
       "output_type": "stream",
       "stream": "stdout",
       "text": [
        "\n",
        "doneait\n",
        "\tkey +\uc624\ud53c\uc2a4 start\n",
        "107"
       ]
      },
      {
       "output_type": "stream",
       "stream": "stdout",
       "text": [
        "\n",
        "doneait\n",
        "\tkey +offic start\n",
        "2"
       ]
      },
      {
       "output_type": "stream",
       "stream": "stdout",
       "text": [
        "\n",
        "doneait\n",
        "\tkey +\uc54c\ubc14 start\n",
        "52"
       ]
      },
      {
       "output_type": "stream",
       "stream": "stdout",
       "text": [
        "\n",
        "doneait\n",
        "\tkey +photo start\n",
        "1508"
       ]
      },
      {
       "output_type": "stream",
       "stream": "stdout",
       "text": [
        "\n",
        "doneait\n",
        "\tkey +\ub4dc\ub77c\uc774\ube0c start\n",
        "123"
       ]
      },
      {
       "output_type": "stream",
       "stream": "stdout",
       "text": [
        "\n",
        "doneait\n",
        "\tkey +\ud30c\uc77c start\n",
        "395"
       ]
      },
      {
       "output_type": "stream",
       "stream": "stdout",
       "text": [
        "\n",
        "doneait\n",
        "\tkey +\uac24\ub7ec\ub9ac start\n",
        "241"
       ]
      },
      {
       "output_type": "stream",
       "stream": "stdout",
       "text": [
        "\n",
        "doneait\n",
        "\tkey +\uadf8\ub8f9 start\n",
        "646"
       ]
      },
      {
       "output_type": "stream",
       "stream": "stdout",
       "text": [
        "\n",
        "doneait\n",
        "\tkey +\ubc14\ucf54\ub4dc start\n",
        "18"
       ]
      },
      {
       "output_type": "stream",
       "stream": "stdout",
       "text": [
        "\n",
        "doneait\n",
        "\tkey +\uc2a4\uce90\ub108 start\n",
        "26"
       ]
      },
      {
       "output_type": "stream",
       "stream": "stdout",
       "text": [
        "\n",
        "doneait\n",
        "\tkey +\uc18c\uc15c\ucee4\uba38\uc2a4 start\n",
        "3"
       ]
      },
      {
       "output_type": "stream",
       "stream": "stdout",
       "text": [
        "\n",
        "doneait"
       ]
      },
      {
       "output_type": "stream",
       "stream": "stdout",
       "text": [
        "\n",
        "\tkey +\uc18c\uc15c start\n",
        "79"
       ]
      },
      {
       "output_type": "stream",
       "stream": "stdout",
       "text": [
        "\n",
        "doneait\n",
        "real done.\n",
        "app \uc138\uacc4\uc5d0\uc11c \uc81c\uc77c \ube60\ub978 \ub808\ubca8\uc5c5 start\n",
        "\n",
        "\tkey  start\n",
        "651"
       ]
      },
      {
       "output_type": "stream",
       "stream": "stdout",
       "text": [
        "\n",
        "doneait\n",
        "\tkey +\ufeff\ud37c\uc990 start\n",
        "1971"
       ]
      },
      {
       "output_type": "stream",
       "stream": "stdout",
       "text": [
        "\n",
        "doneait\n",
        "\tkey +\uce90\uc8fc\uc5bc start\n",
        "1695"
       ]
      },
      {
       "output_type": "stream",
       "stream": "stdout",
       "text": [
        "\n",
        "doneait\n",
        "\tkey +\uc544\ucf00\uc774\ub4dc start\n",
        "1115"
       ]
      },
      {
       "output_type": "stream",
       "stream": "stdout",
       "text": [
        "\n",
        "doneait\n",
        "\tkey +\uacf5\ub7b5 start\n",
        "5990"
       ]
      },
      {
       "output_type": "stream",
       "stream": "stdout",
       "text": [
        "\n",
        "doneait\n",
        "\tkey +\ub808\uc774\uc2f1 start\n",
        "1642"
       ]
      },
      {
       "output_type": "stream",
       "stream": "stdout",
       "text": [
        "\n",
        "doneait\n",
        "\tkey +RPG start\n",
        "2087"
       ]
      },
      {
       "output_type": "stream",
       "stream": "stdout",
       "text": [
        "\n",
        "doneait\n",
        "\tkey +\uce74\ub4dc start\n",
        "12353"
       ]
      },
      {
       "output_type": "stream",
       "stream": "stdout",
       "text": [
        "\n",
        "doneait\n",
        "\tkey +\ub514\ud39c\uc2a4 start\n",
        "1010"
       ]
      },
      {
       "output_type": "stream",
       "stream": "stdout",
       "text": [
        "\n",
        "doneait\n",
        "\tkey +\ub450\ub1cc start\n",
        "4651"
       ]
      },
      {
       "output_type": "stream",
       "stream": "stdout",
       "text": [
        "\n",
        "doneait\n",
        "\tkey +\uc2dc\ubbac start\n",
        "725"
       ]
      },
      {
       "output_type": "stream",
       "stream": "stdout",
       "text": [
        "\n",
        "doneait"
       ]
      },
      {
       "output_type": "stream",
       "stream": "stdout",
       "text": [
        "\n",
        "\tkey +\ub2ec\ub9ac\uae30 start\n",
        "4854"
       ]
      },
      {
       "output_type": "stream",
       "stream": "stdout",
       "text": [
        "\n",
        "doneait\n",
        "\tkey +\uc288\ud305 start\n",
        "1539"
       ]
      },
      {
       "output_type": "stream",
       "stream": "stdout",
       "text": [
        "\n",
        "doneait\n",
        "\tkey +\ucd95\uad6c start\n",
        "5897"
       ]
      },
      {
       "output_type": "stream",
       "stream": "stdout",
       "text": [
        "\n",
        "doneait\n",
        "\tkey +\uacbd\uc601 start\n",
        "9977"
       ]
      },
      {
       "output_type": "stream",
       "stream": "stdout",
       "text": [
        "\n",
        "doneait\n",
        "\tkey +\ud0c0\uc774\ucfe4 start\n",
        "720"
       ]
      },
      {
       "output_type": "stream",
       "stream": "stdout",
       "text": [
        "\n",
        "doneait\n",
        "\tkey +\ud0c8\ucd9c start\n",
        "6390"
       ]
      },
      {
       "output_type": "stream",
       "stream": "stdout",
       "text": [
        "\n",
        "doneait\n",
        "\tkey +\ucd94\ub9ac start\n",
        "2475"
       ]
      },
      {
       "output_type": "stream",
       "stream": "stdout",
       "text": [
        "\n",
        "doneait\n",
        "\tkey +\uc7a5\uae30 start\n",
        "8071"
       ]
      },
      {
       "output_type": "stream",
       "stream": "stdout",
       "text": [
        "\n",
        "doneait\n",
        "\tkey +\ube44\ud589\uae30 start\n",
        "9438"
       ]
      },
      {
       "output_type": "stream",
       "stream": "stdout",
       "text": [
        "\n",
        "doneait\n",
        "\tkey +\uc0ac\ucc9c\uc131 start\n",
        "980"
       ]
      },
      {
       "output_type": "stream",
       "stream": "stdout",
       "text": [
        "\n",
        "doneait\n",
        "\tkey +\uc2a4\ud3ec\uce20 start\n",
        "8714"
       ]
      },
      {
       "output_type": "stream",
       "stream": "stdout",
       "text": [
        "\n",
        "doneait"
       ]
      },
      {
       "output_type": "stream",
       "stream": "stdout",
       "text": [
        "\n",
        "\tkey +\ub18d\uad6c start\n",
        "2466"
       ]
      },
      {
       "output_type": "stream",
       "stream": "stdout",
       "text": [
        "\n",
        "doneait\n",
        "\tkey +\ub09a\uc2dc start\n",
        "3595"
       ]
      },
      {
       "output_type": "stream",
       "stream": "stdout",
       "text": [
        "\n",
        "doneait\n",
        "\tkey +\uc74c\uc545 start\n",
        "15007"
       ]
      },
      {
       "output_type": "stream",
       "stream": "stdout",
       "text": [
        "\n",
        "doneait"
       ]
      },
      {
       "output_type": "stream",
       "stream": "stdout",
       "text": [
        "\n",
        "\tkey +\uce74\ud1a1 start\n",
        "1248"
       ]
      },
      {
       "output_type": "stream",
       "stream": "stdout",
       "text": [
        "\n",
        "doneait\n",
        "\tkey +\uace8\ud504 start\n",
        "3839"
       ]
      },
      {
       "output_type": "stream",
       "stream": "stdout",
       "text": [
        "\n",
        "doneait\n",
        "\tkey +\ub2f9\uad6c start\n",
        "1130"
       ]
      },
      {
       "output_type": "stream",
       "stream": "stdout",
       "text": [
        "\n",
        "doneait\n",
        "\tkey +\uc57c\uad6c start\n",
        "4399"
       ]
      },
      {
       "output_type": "stream",
       "stream": "stdout",
       "text": [
        "\n",
        "doneait\n",
        "\tkey +\ubcfc\ub9c1 start\n",
        "1033"
       ]
      },
      {
       "output_type": "stream",
       "stream": "stdout",
       "text": [
        "\n",
        "doneait\n",
        "\tkey +\ud14c\uc774\uc2a4 start\n",
        "666"
       ]
      },
      {
       "output_type": "stream",
       "stream": "stdout",
       "text": [
        "\n",
        "doneait\n",
        "\tkey +\uc0bc\uad6d\uc9c0 start\n",
        "1825"
       ]
      },
      {
       "output_type": "stream",
       "stream": "stdout",
       "text": [
        "\n",
        "doneait\n",
        "\tkey +TCG start\n",
        "737"
       ]
      },
      {
       "output_type": "stream",
       "stream": "stdout",
       "text": [
        "\n",
        "doneait\n",
        "\tkey +\uc804\uc7c1 start\n",
        "17544"
       ]
      },
      {
       "output_type": "stream",
       "stream": "stdout",
       "text": [
        "\n",
        "doneait\n",
        "\tkey +\uac74\uac15 start\n",
        "17506"
       ]
      },
      {
       "output_type": "stream",
       "stream": "stdout",
       "text": [
        "\n",
        "doneait"
       ]
      },
      {
       "output_type": "stream",
       "stream": "stdout",
       "text": [
        "\n",
        "\tkey +\uc6b4\ub3d9 start\n",
        "17416"
       ]
      },
      {
       "output_type": "stream",
       "stream": "stdout",
       "text": [
        "\n",
        "doneait\n",
        "\tkey +\uad50\uc721 start\n",
        "17864"
       ]
      },
      {
       "output_type": "stream",
       "stream": "stdout",
       "text": [
        "\n",
        "doneait\n",
        "\tkey +\uad50\ud1b5 start\n",
        "10549"
       ]
      },
      {
       "output_type": "stream",
       "stream": "stdout",
       "text": [
        "\n",
        "doneait\n",
        "\tkey +\uae08\uc735 start\n",
        "7872"
       ]
      },
      {
       "output_type": "stream",
       "stream": "stdout",
       "text": [
        "\n",
        "doneait\n",
        "\tkey +\ub0a0\uc528 start\n",
        "12080"
       ]
      },
      {
       "output_type": "stream",
       "stream": "stdout",
       "text": [
        "\n",
        "doneait\n",
        "\tkey +\ub274\uc2a4 start\n",
        "11451"
       ]
      },
      {
       "output_type": "stream",
       "stream": "stdout",
       "text": [
        "\n",
        "doneait\n",
        "\tkey +\uc7a1\uc9c0 start\n",
        "9939"
       ]
      },
      {
       "output_type": "stream",
       "stream": "stdout",
       "text": [
        "\n",
        "doneait\n",
        "\tkey +\ub370\ucf54\ub808\uc774\uc158 start\n",
        "790"
       ]
      },
      {
       "output_type": "stream",
       "stream": "stdout",
       "text": [
        "\n",
        "doneait\n",
        "\tkey +\ub3c4\uad6c start\n",
        "9512"
       ]
      },
      {
       "output_type": "stream",
       "stream": "stdout",
       "text": [
        "\n",
        "doneait\n",
        "\tkey +\ub3c4\uc11c start\n",
        "4001"
       ]
      },
      {
       "output_type": "stream",
       "stream": "stdout",
       "text": [
        "\n",
        "doneait\n",
        "\tkey +\ucc38\uace0\uc790\ub8cc start\n",
        "7347"
       ]
      },
      {
       "output_type": "stream",
       "stream": "stdout",
       "text": [
        "\n",
        "doneait\n",
        "\tkey +\ub77c\uc774\ube0c start\n",
        "2838"
       ]
      },
      {
       "output_type": "stream",
       "stream": "stdout",
       "text": [
        "\n",
        "doneait\n",
        "\tkey +\ubc30\uacbd\ud654\uba74 start\n",
        "3838"
       ]
      },
      {
       "output_type": "stream",
       "stream": "stdout",
       "text": [
        "\n",
        "doneait\n",
        "\tkey +\ub77c\uc774\ube0c\ub7ec\ub9ac start\n",
        "1007"
       ]
      },
      {
       "output_type": "stream",
       "stream": "stdout",
       "text": [
        "\n",
        "doneait\n",
        "\tkey +\ub370\ubaa8 start\n",
        "2238"
       ]
      },
      {
       "output_type": "stream",
       "stream": "stdout",
       "text": [
        "\n",
        "doneait\n",
        "\tkey +\ub77c\uc774\ud504\uc2a4\ud0c0\uc77c start\n",
        "1557"
       ]
      },
      {
       "output_type": "stream",
       "stream": "stdout",
       "text": [
        "\n",
        "doneait\n",
        "\tkey +\ub9cc\ud654 start\n",
        "6273"
       ]
      },
      {
       "output_type": "stream",
       "stream": "stdout",
       "text": [
        "\n",
        "doneait\n",
        "\tkey +\ubbf8\ub514\uc5b4 start\n",
        "6171"
       ]
      },
      {
       "output_type": "stream",
       "stream": "stdout",
       "text": [
        "\n",
        "doneait\n",
        "\tkey +\ub3d9\uc601\uc0c1 start\n",
        "6781"
       ]
      },
      {
       "output_type": "stream",
       "stream": "stdout",
       "text": [
        "\n",
        "doneait\n",
        "\tkey +\ube44\uc988\ub2c8\uc2a4 start\n",
        "5105"
       ]
      },
      {
       "output_type": "stream",
       "stream": "stdout",
       "text": [
        "\n",
        "doneait\n",
        "\tkey +\uc0ac\uc9c4 start\n",
        "27055"
       ]
      },
      {
       "output_type": "stream",
       "stream": "stdout",
       "text": [
        "\n",
        "doneait"
       ]
      },
      {
       "output_type": "stream",
       "stream": "stdout",
       "text": [
        "\n",
        "\tkey +\uc0dd\uc0b0\uc131 start\n",
        "3183"
       ]
      },
      {
       "output_type": "stream",
       "stream": "stdout",
       "text": [
        "\n",
        "doneait\n",
        "\tkey +\uc18c\uc15c start\n",
        "2271"
       ]
      },
      {
       "output_type": "stream",
       "stream": "stdout",
       "text": [
        "\n",
        "doneait"
       ]
      },
      {
       "output_type": "stream",
       "stream": "stdout",
       "text": [
        "\n",
        "\tkey +\ucf58\ud150\uce20 start\n",
        "2799"
       ]
      },
      {
       "output_type": "stream",
       "stream": "stdout",
       "text": [
        "\n",
        "doneait\n",
        "\tkey +\uc1fc\ud551 start\n",
        "6314"
       ]
      },
      {
       "output_type": "stream",
       "stream": "stdout",
       "text": [
        "\n",
        "doneait\n",
        "\tkey +\uc704\uc82f start\n",
        "858"
       ]
      },
      {
       "output_type": "stream",
       "stream": "stdout",
       "text": [
        "\n",
        "doneait\n",
        "\tkey +\uc790\ub3d9\ucc28 start\n",
        "14167"
       ]
      },
      {
       "output_type": "stream",
       "stream": "stdout",
       "text": [
        "\n",
        "doneait\n",
        "\tkey +\uacbd\uc8fc start\n",
        "4407"
       ]
      },
      {
       "output_type": "stream",
       "stream": "stdout",
       "text": [
        "\n",
        "doneait\n",
        "\tkey +\ub2e4\uc774\uc5b4\ud2b8 start\n",
        "3025"
       ]
      },
      {
       "output_type": "stream",
       "stream": "stdout",
       "text": [
        "\n",
        "doneait\n",
        "\tkey +\ub2ec\ub825 start\n",
        "2320"
       ]
      },
      {
       "output_type": "stream",
       "stream": "stdout",
       "text": [
        "\n",
        "doneait\n",
        "\tkey +\uc0dd\ub9ac start\n",
        "2719"
       ]
      },
      {
       "output_type": "stream",
       "stream": "stdout",
       "text": [
        "\n",
        "doneait\n",
        "\tkey +\uce98\ub9b0\ub354 start\n",
        "963"
       ]
      },
      {
       "output_type": "stream",
       "stream": "stdout",
       "text": [
        "\n",
        "doneait\n",
        "\tkey +\uc0ac\uc8fc\ud314\uc790 start\n",
        "851"
       ]
      },
      {
       "output_type": "stream",
       "stream": "stdout",
       "text": [
        "\n",
        "doneait\n",
        "\tkey +\uad81\ud569 start\n",
        "1995"
       ]
      },
      {
       "output_type": "stream",
       "stream": "stdout",
       "text": [
        "\n",
        "doneait\n",
        "\tkey +\uccb4\uc911 start\n",
        "3584"
       ]
      },
      {
       "output_type": "stream",
       "stream": "stdout",
       "text": [
        "\n",
        "doneait\n",
        "\tkey +\uc0ac\uc804 start\n",
        "11206"
       ]
      },
      {
       "output_type": "stream",
       "stream": "stdout",
       "text": [
        "\n",
        "doneait\n",
        "\tkey +\ucef4\ud4e8\ud130 start\n",
        "12664"
       ]
      },
      {
       "output_type": "stream",
       "stream": "stdout",
       "text": [
        "\n",
        "doneait\n",
        "\tkey +\ubc31\uacfc\uc0ac\uc804 start\n",
        "2155"
       ]
      },
      {
       "output_type": "stream",
       "stream": "stdout",
       "text": [
        "\n",
        "doneait\n",
        "\tkey +\uae09\uc2dd start\n",
        "1845"
       ]
      },
      {
       "output_type": "stream",
       "stream": "stdout",
       "text": [
        "\n",
        "doneait\n",
        "\tkey +\ud559\uad50 start\n",
        "23617"
       ]
      },
      {
       "output_type": "stream",
       "stream": "stdout",
       "text": [
        "\n",
        "doneait\n",
        "\tkey +\ucd08\ub4f1\ud559\uad50 start\n",
        "7080"
       ]
      },
      {
       "output_type": "stream",
       "stream": "stdout",
       "text": [
        "\n",
        "doneait\n",
        "\tkey +\uc911\ud559\uad50 start\n",
        "6068"
       ]
      },
      {
       "output_type": "stream",
       "stream": "stdout",
       "text": [
        "\n",
        "doneait\n",
        "\tkey +\uace0\ub4f1\ud559\uad50 start\n",
        "8666"
       ]
      },
      {
       "output_type": "stream",
       "stream": "stdout",
       "text": [
        "\n",
        "doneait\n",
        "\tkey +\ub300\ud559\uad50 start\n",
        "8995"
       ]
      },
      {
       "output_type": "stream",
       "stream": "stdout",
       "text": [
        "\n",
        "doneait\n",
        "\tkey +Korea start\n",
        "3272"
       ]
      },
      {
       "output_type": "stream",
       "stream": "stdout",
       "text": [
        "\n",
        "doneait\n",
        "\tkey +\ub124\ube44\uac8c\uc774\uc158 start\n",
        "1673"
       ]
      },
      {
       "output_type": "stream",
       "stream": "stdout",
       "text": [
        "\n",
        "doneait\n",
        "\tkey +\uc9c0\ud558\ucca0 start\n",
        "6166"
       ]
      },
      {
       "output_type": "stream",
       "stream": "stdout",
       "text": [
        "\n",
        "doneait\n",
        "\tkey +\uc885\uacb0\uc790 start\n",
        "971"
       ]
      },
      {
       "output_type": "stream",
       "stream": "stdout",
       "text": [
        "\n",
        "doneait"
       ]
      },
      {
       "output_type": "stream",
       "stream": "stdout",
       "text": [
        "\n",
        "\tkey +\ub0b4\ube44 start\n",
        "768"
       ]
      },
      {
       "output_type": "stream",
       "stream": "stdout",
       "text": [
        "\n",
        "doneait\n",
        "\tkey +\uac00\uacc4\ubd80 start\n",
        "1069"
       ]
      },
      {
       "output_type": "stream",
       "stream": "stdout",
       "text": [
        "\n",
        "doneait\n",
        "\tkey +Money start\n",
        "1597"
       ]
      },
      {
       "output_type": "stream",
       "stream": "stdout",
       "text": [
        "\n",
        "doneait\n",
        "\tkey +\uc2a4\ub9c8\ud2b8 start\n",
        "6214"
       ]
      },
      {
       "output_type": "stream",
       "stream": "stdout",
       "text": [
        "\n",
        "doneait\n",
        "\tkey +\uacc4\uc0b0\uae30 start\n",
        "1562"
       ]
      },
      {
       "output_type": "stream",
       "stream": "stdout",
       "text": [
        "\n",
        "doneait\n",
        "\tkey +\uc740\ud589 start\n",
        "10155"
       ]
      },
      {
       "output_type": "stream",
       "stream": "stdout",
       "text": [
        "\n",
        "doneait\n",
        "\tkey +\uac80\uc0c9\uc5b4 start\n",
        "1539"
       ]
      },
      {
       "output_type": "stream",
       "stream": "stdout",
       "text": [
        "\n",
        "doneait\n",
        "\tkey +\uc2e4\uc2dc\uac04 start\n",
        "4293"
       ]
      },
      {
       "output_type": "stream",
       "stream": "stdout",
       "text": [
        "\n",
        "doneait\n",
        "\tkey +\uc2e0\ubb38 start\n",
        "12318"
       ]
      },
      {
       "output_type": "stream",
       "stream": "stdout",
       "text": [
        "\n",
        "doneait\n",
        "\tkey +\ud074\ub798\uc2dd start\n",
        "3406"
       ]
      },
      {
       "output_type": "stream",
       "stream": "stdout",
       "text": [
        "\n",
        "doneait\n",
        "\tkey +\ub7f0\ucc98 start\n",
        "815"
       ]
      },
      {
       "output_type": "stream",
       "stream": "stdout",
       "text": [
        "\n",
        "doneait\n",
        "\tkey +\uc8fc\uc18c\ub85d start\n",
        "956"
       ]
      },
      {
       "output_type": "stream",
       "stream": "stdout",
       "text": [
        "\n",
        "doneait\n",
        "\tkey +\ud3f0 start\n",
        "8386"
       ]
      },
      {
       "output_type": "stream",
       "stream": "stdout",
       "text": [
        "\n",
        "doneait\n",
        "\tkey +\ubc14\uc774\ub7ec\uc2a4 start\n",
        "3360"
       ]
      },
      {
       "output_type": "stream",
       "stream": "stdout",
       "text": [
        "\n",
        "doneait\n",
        "\tkey +\ubcf4\uc548 start\n",
        "4166"
       ]
      },
      {
       "output_type": "stream",
       "stream": "stdout",
       "text": [
        "\n",
        "doneait\n",
        "\tkey +\uc131\uacbd start\n",
        "4699"
       ]
      },
      {
       "output_type": "stream",
       "stream": "stdout",
       "text": [
        "\n",
        "doneait\n",
        "\tkey +\ucc2c\uc1a1 start\n",
        "1613"
       ]
      },
      {
       "output_type": "stream",
       "stream": "stdout",
       "text": [
        "\n",
        "doneait\n",
        "\tkey +\ubc14\uc774\ube14 start\n",
        "1030"
       ]
      },
      {
       "output_type": "stream",
       "stream": "stdout",
       "text": [
        "\n",
        "doneait\n",
        "\tkey +\ubc31\uc2e0 start\n",
        "1813"
       ]
      },
      {
       "output_type": "stream",
       "stream": "stdout",
       "text": [
        "\n",
        "doneait"
       ]
      },
      {
       "output_type": "stream",
       "stream": "stdout",
       "text": [
        "\n",
        "\tkey +\uc6f9 start\n",
        "5476"
       ]
      },
      {
       "output_type": "stream",
       "stream": "stdout",
       "text": [
        "\n",
        "doneait\n",
        "\tkey +\uc2a4\ud2f0\ucee4 start\n",
        "2017"
       ]
      },
      {
       "output_type": "stream",
       "stream": "stdout",
       "text": [
        "\n",
        "doneait\n",
        "\tkey +\uc0ac\uc8fc start\n",
        "2595"
       ]
      },
      {
       "output_type": "stream",
       "stream": "stdout",
       "text": [
        "\n",
        "doneait\n",
        "\tkey +\uc6b4\uc138 start\n",
        "1331"
       ]
      },
      {
       "output_type": "stream",
       "stream": "stdout",
       "text": [
        "\n",
        "doneait\n",
        "\tkey +\ucf54\ubbf9 start\n",
        "1999"
       ]
      },
      {
       "output_type": "stream",
       "stream": "stdout",
       "text": [
        "\n",
        "doneait\n",
        "\tkey +3D start\n",
        "3661"
       ]
      },
      {
       "output_type": "stream",
       "stream": "stdout",
       "text": [
        "\n",
        "doneait\n",
        "\tkey +\ubcc4\uc790\ub9ac start\n",
        "1580"
       ]
      },
      {
       "output_type": "stream",
       "stream": "stdout",
       "text": [
        "\n",
        "doneait"
       ]
      },
      {
       "output_type": "stream",
       "stream": "stdout",
       "text": [
        "\n",
        "\tkey +tool start\n",
        "1052"
       ]
      },
      {
       "output_type": "stream",
       "stream": "stdout",
       "text": [
        "\n",
        "doneait\n",
        "\tkey +\uc6f9\ud230 start\n",
        "1040"
       ]
      },
      {
       "output_type": "stream",
       "stream": "stdout",
       "text": [
        "\n",
        "doneait\n",
        "\tkey +\ud50c\ub808\uc774\uc5b4 start\n",
        "4463"
       ]
      },
      {
       "output_type": "stream",
       "stream": "stdout",
       "text": [
        "\n",
        "doneait\n",
        "\tkey +\uce74\uba54\ub77c start\n",
        "10037"
       ]
      },
      {
       "output_type": "stream",
       "stream": "stdout",
       "text": [
        "\n",
        "doneait\n",
        "\tkey +\ubca8\uc18c\ub9ac start\n",
        "1951"
       ]
      },
      {
       "output_type": "stream",
       "stream": "stdout",
       "text": [
        "\n",
        "doneait\n",
        "\tkey +\ud55c\uae00 start\n",
        "5722"
       ]
      },
      {
       "output_type": "stream",
       "stream": "stdout",
       "text": [
        "\n",
        "doneait\n",
        "\tkey +\uc624\ud53c\uc2a4 start\n",
        "1773"
       ]
      },
      {
       "output_type": "stream",
       "stream": "stdout",
       "text": [
        "\n",
        "doneait\n",
        "\tkey +offic start\n",
        "654"
       ]
      },
      {
       "output_type": "stream",
       "stream": "stdout",
       "text": [
        "\n",
        "doneait\n",
        "\tkey +\uc54c\ubc14 start\n",
        "3027"
       ]
      },
      {
       "output_type": "stream",
       "stream": "stdout",
       "text": [
        "\n",
        "doneait\n",
        "\tkey +photo start\n",
        "1482"
       ]
      },
      {
       "output_type": "stream",
       "stream": "stdout",
       "text": [
        "\n",
        "doneait"
       ]
      },
      {
       "output_type": "stream",
       "stream": "stdout",
       "text": [
        "\n",
        "\tkey +\ub4dc\ub77c\uc774\ube0c start\n",
        "3180"
       ]
      },
      {
       "output_type": "stream",
       "stream": "stdout",
       "text": [
        "\n",
        "doneait"
       ]
      },
      {
       "output_type": "stream",
       "stream": "stdout",
       "text": [
        "\n",
        "\tkey +\ud30c\uc77c start\n",
        "5034"
       ]
      },
      {
       "output_type": "stream",
       "stream": "stdout",
       "text": [
        "\n",
        "doneait"
       ]
      },
      {
       "output_type": "stream",
       "stream": "stdout",
       "text": [
        "\n",
        "\tkey +\uac24\ub7ec\ub9ac start\n",
        "2213"
       ]
      },
      {
       "output_type": "stream",
       "stream": "stdout",
       "text": [
        "\n",
        "doneait\n",
        "\tkey +\uadf8\ub8f9 start\n",
        "11772"
       ]
      },
      {
       "output_type": "stream",
       "stream": "stdout",
       "text": [
        "\n",
        "doneait\n",
        "\tkey +\ubc14\ucf54\ub4dc start\n",
        "1115"
       ]
      },
      {
       "output_type": "stream",
       "stream": "stdout",
       "text": [
        "\n",
        "doneait\n",
        "\tkey +\uc2a4\uce90\ub108 start\n",
        "1030"
       ]
      },
      {
       "output_type": "stream",
       "stream": "stdout",
       "text": [
        "\n",
        "doneait\n",
        "\tkey +\uc18c\uc15c\ucee4\uba38\uc2a4 start\n",
        "820"
       ]
      },
      {
       "output_type": "stream",
       "stream": "stdout",
       "text": [
        "\n",
        "doneait\n",
        "\tkey +\uc18c\uc15c start\n",
        "2271"
       ]
      },
      {
       "output_type": "stream",
       "stream": "stdout",
       "text": [
        "\n",
        "doneait\n",
        "real done.\n",
        "app Devil Girls start\n",
        "\n",
        "\tkey  start\n",
        "6108"
       ]
      },
      {
       "output_type": "stream",
       "stream": "stdout",
       "text": [
        "\n",
        "doneait\n",
        "\tkey +\ufeff\ud37c\uc990 start\n",
        "55"
       ]
      },
      {
       "output_type": "stream",
       "stream": "stdout",
       "text": [
        "\n",
        "doneait\n",
        "\tkey +\uce90\uc8fc\uc5bc start\n",
        "11"
       ]
      },
      {
       "output_type": "stream",
       "stream": "stdout",
       "text": [
        "\n",
        "doneait\n",
        "\tkey +\uc544\ucf00\uc774\ub4dc start\n",
        "10"
       ]
      },
      {
       "output_type": "stream",
       "stream": "stdout",
       "text": [
        "\n",
        "doneait\n",
        "\tkey +\uacf5\ub7b5 start\n",
        "44"
       ]
      },
      {
       "output_type": "stream",
       "stream": "stdout",
       "text": [
        "\n",
        "doneait\n",
        "\tkey +\ub808\uc774\uc2f1 start\n",
        "19"
       ]
      },
      {
       "output_type": "stream",
       "stream": "stdout",
       "text": [
        "\n",
        "doneait\n",
        "\tkey +RPG start\n",
        "47"
       ]
      },
      {
       "output_type": "stream",
       "stream": "stdout",
       "text": [
        "\n",
        "doneait"
       ]
      },
      {
       "output_type": "stream",
       "stream": "stdout",
       "text": [
        "\n",
        "\tkey +\uce74\ub4dc start\n",
        "222"
       ]
      },
      {
       "output_type": "stream",
       "stream": "stdout",
       "text": [
        "\n",
        "doneait\n",
        "\tkey +\ub514\ud39c\uc2a4 start\n",
        "8"
       ]
      },
      {
       "output_type": "stream",
       "stream": "stdout",
       "text": [
        "\n",
        "doneait\n",
        "\tkey +\ub450\ub1cc start\n",
        "35"
       ]
      },
      {
       "output_type": "stream",
       "stream": "stdout",
       "text": [
        "\n",
        "doneait"
       ]
      },
      {
       "output_type": "stream",
       "stream": "stdout",
       "text": [
        "\n",
        "\tkey +\uc2dc\ubbac start\n",
        "1"
       ]
      },
      {
       "output_type": "stream",
       "stream": "stdout",
       "text": [
        "\n",
        "doneait\n",
        "\tkey +\ub2ec\ub9ac\uae30 start\n",
        "28"
       ]
      },
      {
       "output_type": "stream",
       "stream": "stdout",
       "text": [
        "\n",
        "doneait\n",
        "\tkey +\uc288\ud305 start\n",
        "26"
       ]
      },
      {
       "output_type": "stream",
       "stream": "stdout",
       "text": [
        "\n",
        "doneait\n",
        "\tkey +\ucd95\uad6c start\n",
        "102"
       ]
      },
      {
       "output_type": "stream",
       "stream": "stdout",
       "text": [
        "\n",
        "doneait\n",
        "\tkey +\uacbd\uc601 start\n",
        "40"
       ]
      },
      {
       "output_type": "stream",
       "stream": "stdout",
       "text": [
        "\n",
        "doneait\n",
        "\tkey +\ud0c0\uc774\ucfe4 start\n",
        "1"
       ]
      },
      {
       "output_type": "stream",
       "stream": "stdout",
       "text": [
        "\n",
        "doneait\n",
        "\tkey +\ud0c8\ucd9c start\n",
        "107"
       ]
      },
      {
       "output_type": "stream",
       "stream": "stdout",
       "text": [
        "\n",
        "doneait\n",
        "\tkey +\ucd94\ub9ac start\n",
        "32"
       ]
      },
      {
       "output_type": "stream",
       "stream": "stdout",
       "text": [
        "\n",
        "doneait\n",
        "\tkey +\uc7a5\uae30 start\n",
        "64"
       ]
      },
      {
       "output_type": "stream",
       "stream": "stdout",
       "text": [
        "\n",
        "doneait\n",
        "\tkey +\ube44\ud589\uae30 start\n",
        "122"
       ]
      },
      {
       "output_type": "stream",
       "stream": "stdout",
       "text": [
        "\n",
        "doneait\n",
        "\tkey +\uc0ac\ucc9c\uc131 start\n",
        "except 0"
       ]
      },
      {
       "output_type": "stream",
       "stream": "stdout",
       "text": [
        "\n",
        "doneait\n",
        "\tkey +\uc2a4\ud3ec\uce20 start\n",
        "115"
       ]
      },
      {
       "output_type": "stream",
       "stream": "stdout",
       "text": [
        "\n",
        "doneait"
       ]
      },
      {
       "output_type": "stream",
       "stream": "stdout",
       "text": [
        "\n",
        "\tkey +\ub18d\uad6c start\n",
        "34"
       ]
      },
      {
       "output_type": "stream",
       "stream": "stdout",
       "text": [
        "\n",
        "doneait\n",
        "\tkey +\ub09a\uc2dc start\n",
        "41"
       ]
      },
      {
       "output_type": "stream",
       "stream": "stdout",
       "text": [
        "\n",
        "doneait\n",
        "\tkey +\uc74c\uc545 start\n",
        "961"
       ]
      },
      {
       "output_type": "stream",
       "stream": "stdout",
       "text": [
        "\n",
        "doneait\n",
        "\tkey +\uce74\ud1a1 start\n",
        "15"
       ]
      },
      {
       "output_type": "stream",
       "stream": "stdout",
       "text": [
        "\n",
        "doneait\n",
        "\tkey +\uace8\ud504 start\n",
        "36"
       ]
      },
      {
       "output_type": "stream",
       "stream": "stdout",
       "text": [
        "\n",
        "doneait\n",
        "\tkey +\ub2f9\uad6c start\n",
        "17"
       ]
      },
      {
       "output_type": "stream",
       "stream": "stdout",
       "text": [
        "\n",
        "doneait"
       ]
      },
      {
       "output_type": "stream",
       "stream": "stdout",
       "text": [
        "\n",
        "\tkey +\uc57c\uad6c start\n",
        "63"
       ]
      },
      {
       "output_type": "stream",
       "stream": "stdout",
       "text": [
        "\n",
        "doneait\n",
        "\tkey +\ubcfc\ub9c1 start\n",
        "19"
       ]
      },
      {
       "output_type": "stream",
       "stream": "stdout",
       "text": [
        "\n",
        "doneait\n",
        "\tkey +\ud14c\uc774\uc2a4 start\n",
        "1"
       ]
      },
      {
       "output_type": "stream",
       "stream": "stdout",
       "text": [
        "\n",
        "doneait"
       ]
      },
      {
       "output_type": "stream",
       "stream": "stdout",
       "text": [
        "\n",
        "\tkey +\uc0bc\uad6d\uc9c0 start\n",
        "33"
       ]
      },
      {
       "output_type": "stream",
       "stream": "stdout",
       "text": [
        "\n",
        "doneait\n",
        "\tkey +TCG start\n",
        "10"
       ]
      },
      {
       "output_type": "stream",
       "stream": "stdout",
       "text": [
        "\n",
        "doneait\n",
        "\tkey +\uc804\uc7c1 start\n",
        "281"
       ]
      },
      {
       "output_type": "stream",
       "stream": "stdout",
       "text": [
        "\n",
        "doneait\n",
        "\tkey +\uac74\uac15 start\n",
        "176"
       ]
      },
      {
       "output_type": "stream",
       "stream": "stdout",
       "text": [
        "\n",
        "doneait\n",
        "\tkey +\uc6b4\ub3d9 start\n",
        "143"
       ]
      },
      {
       "output_type": "stream",
       "stream": "stdout",
       "text": [
        "\n",
        "doneait\n",
        "\tkey +\uad50\uc721 start\n",
        "152"
       ]
      },
      {
       "output_type": "stream",
       "stream": "stdout",
       "text": [
        "\n",
        "doneait"
       ]
      },
      {
       "output_type": "stream",
       "stream": "stdout",
       "text": [
        "\n",
        "\tkey +\uad50\ud1b5 start\n",
        "85"
       ]
      },
      {
       "output_type": "stream",
       "stream": "stdout",
       "text": [
        "\n",
        "doneait\n",
        "\tkey +\uae08\uc735 start\n",
        "33"
       ]
      },
      {
       "output_type": "stream",
       "stream": "stdout",
       "text": [
        "\n",
        "doneait\n",
        "\tkey +\ub0a0\uc528 start\n",
        "145"
       ]
      },
      {
       "output_type": "stream",
       "stream": "stdout",
       "text": [
        "\n",
        "doneait"
       ]
      },
      {
       "output_type": "stream",
       "stream": "stdout",
       "text": [
        "\n",
        "\tkey +\ub274\uc2a4 start\n",
        "197"
       ]
      },
      {
       "output_type": "stream",
       "stream": "stdout",
       "text": [
        "\n",
        "doneait\n",
        "\tkey +\uc7a1\uc9c0 start\n",
        "141"
       ]
      },
      {
       "output_type": "stream",
       "stream": "stdout",
       "text": [
        "\n",
        "doneait\n",
        "\tkey +\ub370\ucf54\ub808\uc774\uc158 start\n",
        "1"
       ]
      },
      {
       "output_type": "stream",
       "stream": "stdout",
       "text": [
        "\n",
        "doneait\n",
        "\tkey +\ub3c4\uad6c start\n",
        "65"
       ]
      },
      {
       "output_type": "stream",
       "stream": "stdout",
       "text": [
        "\n",
        "doneait\n",
        "\tkey +\ub3c4\uc11c start\n",
        "29"
       ]
      },
      {
       "output_type": "stream",
       "stream": "stdout",
       "text": [
        "\n",
        "doneait"
       ]
      },
      {
       "output_type": "stream",
       "stream": "stdout",
       "text": [
        "\n",
        "\tkey +\ucc38\uace0\uc790\ub8cc start\n",
        "50"
       ]
      },
      {
       "output_type": "stream",
       "stream": "stdout",
       "text": [
        "\n",
        "doneait\n",
        "\tkey +\ub77c\uc774\ube0c start\n",
        "282"
       ]
      },
      {
       "output_type": "stream",
       "stream": "stdout",
       "text": [
        "\n",
        "doneait\n",
        "\tkey +\ubc30\uacbd\ud654\uba74 start\n",
        "40"
       ]
      },
      {
       "output_type": "stream",
       "stream": "stdout",
       "text": [
        "\n",
        "doneait\n",
        "\tkey +\ub77c\uc774\ube0c\ub7ec\ub9ac start\n",
        "3"
       ]
      },
      {
       "output_type": "stream",
       "stream": "stdout",
       "text": [
        "\n",
        "doneait\n",
        "\tkey +\ub370\ubaa8 start\n",
        "26"
       ]
      },
      {
       "output_type": "stream",
       "stream": "stdout",
       "text": [
        "\n",
        "doneait\n",
        "\tkey +\ub77c\uc774\ud504\uc2a4\ud0c0\uc77c start\n",
        "8"
       ]
      },
      {
       "output_type": "stream",
       "stream": "stdout",
       "text": [
        "\n",
        "doneait\n",
        "\tkey +\ub9cc\ud654 start\n",
        "128"
       ]
      },
      {
       "output_type": "stream",
       "stream": "stdout",
       "text": [
        "\n",
        "doneait\n",
        "\tkey +\ubbf8\ub514\uc5b4 start\n",
        "111"
       ]
      },
      {
       "output_type": "stream",
       "stream": "stdout",
       "text": [
        "\n",
        "doneait\n",
        "\tkey +\ub3d9\uc601\uc0c1 start\n",
        "225"
       ]
      },
      {
       "output_type": "stream",
       "stream": "stdout",
       "text": [
        "\n",
        "doneait\n",
        "\tkey +\ube44\uc988\ub2c8\uc2a4 start\n",
        "29"
       ]
      },
      {
       "output_type": "stream",
       "stream": "stdout",
       "text": [
        "\n",
        "doneait"
       ]
      },
      {
       "output_type": "stream",
       "stream": "stdout",
       "text": [
        "\n",
        "\tkey +\uc0ac\uc9c4 start\n",
        "610"
       ]
      },
      {
       "output_type": "stream",
       "stream": "stdout",
       "text": [
        "\n",
        "doneait\n",
        "\tkey +\uc0dd\uc0b0\uc131 start\n",
        "6"
       ]
      },
      {
       "output_type": "stream",
       "stream": "stdout",
       "text": [
        "\n",
        "doneait\n",
        "\tkey +\uc18c\uc15c start\n",
        "92"
       ]
      },
      {
       "output_type": "stream",
       "stream": "stdout",
       "text": [
        "\n",
        "doneait\n",
        "\tkey +\ucf58\ud150\uce20 start\n",
        "27"
       ]
      },
      {
       "output_type": "stream",
       "stream": "stdout",
       "text": [
        "\n",
        "doneait\n",
        "\tkey +\uc1fc\ud551 start\n",
        "83"
       ]
      },
      {
       "output_type": "stream",
       "stream": "stdout",
       "text": [
        "\n",
        "doneait"
       ]
      },
      {
       "output_type": "stream",
       "stream": "stdout",
       "text": [
        "\n",
        "\tkey +\uc704\uc82f start\n",
        "7"
       ]
      },
      {
       "output_type": "stream",
       "stream": "stdout",
       "text": [
        "\n",
        "doneait\n",
        "\tkey +\uc790\ub3d9\ucc28 start\n",
        "147"
       ]
      },
      {
       "output_type": "stream",
       "stream": "stdout",
       "text": [
        "\n",
        "doneait"
       ]
      },
      {
       "output_type": "stream",
       "stream": "stdout",
       "text": [
        "\n",
        "\tkey +\uacbd\uc8fc start\n",
        "35"
       ]
      },
      {
       "output_type": "stream",
       "stream": "stdout",
       "text": [
        "\n",
        "doneait\n",
        "\tkey +\ub2e4\uc774\uc5b4\ud2b8 start\n",
        "50"
       ]
      },
      {
       "output_type": "stream",
       "stream": "stdout",
       "text": [
        "\n",
        "doneait\n",
        "\tkey +\ub2ec\ub825 start\n",
        "22"
       ]
      },
      {
       "output_type": "stream",
       "stream": "stdout",
       "text": [
        "\n",
        "doneait\n",
        "\tkey +\uc0dd\ub9ac start\n",
        "13"
       ]
      },
      {
       "output_type": "stream",
       "stream": "stdout",
       "text": [
        "\n",
        "doneait\n",
        "\tkey +\uce98\ub9b0\ub354 start\n",
        "20"
       ]
      },
      {
       "output_type": "stream",
       "stream": "stdout",
       "text": [
        "\n",
        "doneait\n",
        "\tkey +\uc0ac\uc8fc\ud314\uc790 start\n",
        "1"
       ]
      },
      {
       "output_type": "stream",
       "stream": "stdout",
       "text": [
        "\n",
        "doneait\n",
        "\tkey +\uad81\ud569 start\n",
        "5"
       ]
      },
      {
       "output_type": "stream",
       "stream": "stdout",
       "text": [
        "\n",
        "doneait\n",
        "\tkey +\uccb4\uc911 start\n",
        "41"
       ]
      },
      {
       "output_type": "stream",
       "stream": "stdout",
       "text": [
        "\n",
        "doneait\n",
        "\tkey +\uc0ac\uc804 start\n",
        "117"
       ]
      },
      {
       "output_type": "stream",
       "stream": "stdout",
       "text": [
        "\n",
        "doneait\n",
        "\tkey +\ucef4\ud4e8\ud130 start\n",
        "142"
       ]
      },
      {
       "output_type": "stream",
       "stream": "stdout",
       "text": [
        "\n",
        "doneait\n",
        "\tkey +\ubc31\uacfc\uc0ac\uc804 start\n",
        "12"
       ]
      },
      {
       "output_type": "stream",
       "stream": "stdout",
       "text": [
        "\n",
        "doneait\n",
        "\tkey +\uae09\uc2dd start\n",
        "6"
       ]
      },
      {
       "output_type": "stream",
       "stream": "stdout",
       "text": [
        "\n",
        "doneait\n",
        "\tkey +\ud559\uad50 start\n",
        "421"
       ]
      },
      {
       "output_type": "stream",
       "stream": "stdout",
       "text": [
        "\n",
        "doneait\n",
        "\tkey +\ucd08\ub4f1\ud559\uad50 start\n",
        "46"
       ]
      },
      {
       "output_type": "stream",
       "stream": "stdout",
       "text": [
        "\n",
        "doneait\n",
        "\tkey +\uc911\ud559\uad50 start\n",
        "41"
       ]
      },
      {
       "output_type": "stream",
       "stream": "stdout",
       "text": [
        "\n",
        "doneait\n",
        "\tkey +\uace0\ub4f1\ud559\uad50 start\n",
        "159"
       ]
      },
      {
       "output_type": "stream",
       "stream": "stdout",
       "text": [
        "\n",
        "doneait\n",
        "\tkey +\ub300\ud559\uad50 start\n",
        "79"
       ]
      },
      {
       "output_type": "stream",
       "stream": "stdout",
       "text": [
        "\n",
        "doneait"
       ]
      },
      {
       "output_type": "stream",
       "stream": "stdout",
       "text": [
        "\n",
        "\tkey +Korea start\n",
        "504"
       ]
      },
      {
       "output_type": "stream",
       "stream": "stdout",
       "text": [
        "\n",
        "doneait\n",
        "\tkey +\ub124\ube44\uac8c\uc774\uc158 start\n",
        "4"
       ]
      },
      {
       "output_type": "stream",
       "stream": "stdout",
       "text": [
        "\n",
        "doneait\n",
        "\tkey +\uc9c0\ud558\ucca0 start\n",
        "91"
       ]
      },
      {
       "output_type": "stream",
       "stream": "stdout",
       "text": [
        "\n",
        "doneait\n",
        "\tkey +\uc885\uacb0\uc790 start\n",
        "21"
       ]
      },
      {
       "output_type": "stream",
       "stream": "stdout",
       "text": [
        "\n",
        "doneait\n",
        "\tkey +\ub0b4\ube44 start\n",
        "except 0"
       ]
      },
      {
       "output_type": "stream",
       "stream": "stdout",
       "text": [
        "\n",
        "doneait\n",
        "\tkey +\uac00\uacc4\ubd80 start\n",
        "2"
       ]
      },
      {
       "output_type": "stream",
       "stream": "stdout",
       "text": [
        "\n",
        "doneait\n",
        "\tkey +Money start\n",
        "1493"
       ]
      },
      {
       "output_type": "stream",
       "stream": "stdout",
       "text": [
        "\n",
        "doneait\n",
        "\tkey +\uc2a4\ub9c8\ud2b8 start\n",
        "92"
       ]
      },
      {
       "output_type": "stream",
       "stream": "stdout",
       "text": [
        "\n",
        "doneait\n",
        "\tkey +\uacc4\uc0b0\uae30 start\n",
        "5"
       ]
      },
      {
       "output_type": "stream",
       "stream": "stdout",
       "text": [
        "\n",
        "doneait\n",
        "\tkey +\uc740\ud589 start\n",
        "103"
       ]
      },
      {
       "output_type": "stream",
       "stream": "stdout",
       "text": [
        "\n",
        "doneait\n",
        "\tkey +\uac80\uc0c9\uc5b4 start\n",
        "68"
       ]
      },
      {
       "output_type": "stream",
       "stream": "stdout",
       "text": [
        "\n",
        "doneait\n",
        "\tkey +\uc2e4\uc2dc\uac04 start\n",
        "83"
       ]
      },
      {
       "output_type": "stream",
       "stream": "stdout",
       "text": [
        "\n",
        "doneait\n",
        "\tkey +\uc2e0\ubb38 start\n",
        "125"
       ]
      },
      {
       "output_type": "stream",
       "stream": "stdout",
       "text": [
        "\n",
        "doneait\n",
        "\tkey +\ud074\ub798\uc2dd start\n",
        "101"
       ]
      },
      {
       "output_type": "stream",
       "stream": "stdout",
       "text": [
        "\n",
        "doneait\n",
        "\tkey +\ub7f0\ucc98 start\n",
        "1"
       ]
      },
      {
       "output_type": "stream",
       "stream": "stdout",
       "text": [
        "\n",
        "doneait\n",
        "\tkey +\uc8fc\uc18c\ub85d start\n",
        "1"
       ]
      },
      {
       "output_type": "stream",
       "stream": "stdout",
       "text": [
        "\n",
        "doneait\n",
        "\tkey +\ud3f0 start\n",
        "188"
       ]
      },
      {
       "output_type": "stream",
       "stream": "stdout",
       "text": [
        "\n",
        "doneait\n",
        "\tkey +\ubc14\uc774\ub7ec\uc2a4 start\n",
        "161"
       ]
      },
      {
       "output_type": "stream",
       "stream": "stdout",
       "text": [
        "\n",
        "doneait\n",
        "\tkey +\ubcf4\uc548 start\n",
        "25"
       ]
      },
      {
       "output_type": "stream",
       "stream": "stdout",
       "text": [
        "\n",
        "doneait\n",
        "\tkey +\uc131\uacbd start\n",
        "53"
       ]
      },
      {
       "output_type": "stream",
       "stream": "stdout",
       "text": [
        "\n",
        "doneait\n",
        "\tkey +\ucc2c\uc1a1 start\n",
        "10"
       ]
      },
      {
       "output_type": "stream",
       "stream": "stdout",
       "text": [
        "\n",
        "doneait\n",
        "\tkey +\ubc14\uc774\ube14 start\n",
        "10"
       ]
      },
      {
       "output_type": "stream",
       "stream": "stdout",
       "text": [
        "\n",
        "doneait\n",
        "\tkey +\ubc31\uc2e0 start\n",
        "18"
       ]
      },
      {
       "output_type": "stream",
       "stream": "stdout",
       "text": [
        "\n",
        "doneait\n",
        "\tkey +\uc6f9 start\n",
        "118"
       ]
      },
      {
       "output_type": "stream",
       "stream": "stdout",
       "text": [
        "\n",
        "doneait\n",
        "\tkey +\uc2a4\ud2f0\ucee4 start\n",
        "25"
       ]
      },
      {
       "output_type": "stream",
       "stream": "stdout",
       "text": [
        "\n",
        "doneait\n",
        "\tkey +\uc0ac\uc8fc start\n",
        "10"
       ]
      },
      {
       "output_type": "stream",
       "stream": "stdout",
       "text": [
        "\n",
        "doneait\n",
        "\tkey +\uc6b4\uc138 start\n",
        "6"
       ]
      },
      {
       "output_type": "stream",
       "stream": "stdout",
       "text": [
        "\n",
        "doneait\n",
        "\tkey +\ucf54\ubbf9 start\n",
        "50"
       ]
      },
      {
       "output_type": "stream",
       "stream": "stdout",
       "text": [
        "\n",
        "doneait"
       ]
      },
      {
       "output_type": "stream",
       "stream": "stdout",
       "text": [
        "\n",
        "\tkey +3D start\n",
        "259"
       ]
      },
      {
       "output_type": "stream",
       "stream": "stdout",
       "text": [
        "\n",
        "doneait\n",
        "\tkey +\ubcc4\uc790\ub9ac start\n",
        "23"
       ]
      },
      {
       "output_type": "stream",
       "stream": "stdout",
       "text": [
        "\n",
        "doneait\n",
        "\tkey +tool start\n",
        "182"
       ]
      },
      {
       "output_type": "stream",
       "stream": "stdout",
       "text": [
        "\n",
        "doneait\n",
        "\tkey +\uc6f9\ud230 start\n",
        "6"
       ]
      },
      {
       "output_type": "stream",
       "stream": "stdout",
       "text": [
        "\n",
        "doneait\n",
        "\tkey +\ud50c\ub808\uc774\uc5b4 start\n",
        "77"
       ]
      },
      {
       "output_type": "stream",
       "stream": "stdout",
       "text": [
        "\n",
        "doneait\n",
        "\tkey +\uce74\uba54\ub77c start\n",
        "139"
       ]
      },
      {
       "output_type": "stream",
       "stream": "stdout",
       "text": [
        "\n",
        "doneait\n",
        "\tkey +\ubca8\uc18c\ub9ac start\n",
        "20"
       ]
      },
      {
       "output_type": "stream",
       "stream": "stdout",
       "text": [
        "\n",
        "doneait\n",
        "\tkey +\ud55c\uae00 start\n",
        "71"
       ]
      },
      {
       "output_type": "stream",
       "stream": "stdout",
       "text": [
        "\n",
        "doneait\n",
        "\tkey +\uc624\ud53c\uc2a4 start\n",
        "19"
       ]
      },
      {
       "output_type": "stream",
       "stream": "stdout",
       "text": [
        "\n",
        "doneait\n",
        "\tkey +offic start\n",
        "3"
       ]
      },
      {
       "output_type": "stream",
       "stream": "stdout",
       "text": [
        "\n",
        "doneait\n",
        "\tkey +\uc54c\ubc14 start\n",
        "26"
       ]
      },
      {
       "output_type": "stream",
       "stream": "stdout",
       "text": [
        "\n",
        "doneait\n",
        "\tkey +photo start\n",
        "356"
       ]
      },
      {
       "output_type": "stream",
       "stream": "stdout",
       "text": [
        "\n",
        "doneait\n",
        "\tkey +\ub4dc\ub77c\uc774\ube0c start\n",
        "78"
       ]
      },
      {
       "output_type": "stream",
       "stream": "stdout",
       "text": [
        "\n",
        "doneait\n",
        "\tkey +\ud30c\uc77c start\n",
        "157"
       ]
      },
      {
       "output_type": "stream",
       "stream": "stdout",
       "text": [
        "\n",
        "doneait"
       ]
      },
      {
       "output_type": "stream",
       "stream": "stdout",
       "text": [
        "\n",
        "\tkey +\uac24\ub7ec\ub9ac start\n",
        "33"
       ]
      },
      {
       "output_type": "stream",
       "stream": "stdout",
       "text": [
        "\n",
        "doneait\n",
        "\tkey +\uadf8\ub8f9 start\n",
        "456"
       ]
      },
      {
       "output_type": "stream",
       "stream": "stdout",
       "text": [
        "\n",
        "doneait\n",
        "\tkey +\ubc14\ucf54\ub4dc start\n",
        "4"
       ]
      },
      {
       "output_type": "stream",
       "stream": "stdout",
       "text": [
        "\n",
        "doneait\n",
        "\tkey +\uc2a4\uce90\ub108 start\n",
        "3"
       ]
      },
      {
       "output_type": "stream",
       "stream": "stdout",
       "text": [
        "\n",
        "doneait\n",
        "\tkey +\uc18c\uc15c\ucee4\uba38\uc2a4 start\n",
        "3"
       ]
      },
      {
       "output_type": "stream",
       "stream": "stdout",
       "text": [
        "\n",
        "doneait\n",
        "\tkey +\uc18c\uc15c start\n",
        "92"
       ]
      },
      {
       "output_type": "stream",
       "stream": "stdout",
       "text": [
        "\n",
        "doneait\n",
        "real done.\n",
        "app \u2605 \uc131\uc778\uc6a9 \ub9de\uace0\uc758 \uc885\uacb0\uc790!! \u2605 \uc7a5\ubaa8\ub2d8\uc758 \ub098\ub77c \ub9de\uace0 start\n",
        "\n",
        "\tkey  start\n",
        "10"
       ]
      },
      {
       "output_type": "stream",
       "stream": "stdout",
       "text": [
        "\n",
        "doneait\n",
        "\tkey +\ufeff\ud37c\uc990 start\n",
        "except 0"
       ]
      },
      {
       "output_type": "stream",
       "stream": "stdout",
       "text": [
        "\n",
        "doneait\n",
        "\tkey +\uce90\uc8fc\uc5bc start\n",
        "1"
       ]
      },
      {
       "output_type": "stream",
       "stream": "stdout",
       "text": [
        "\n",
        "doneait\n",
        "\tkey +\uc544\ucf00\uc774\ub4dc start\n",
        "except 0"
       ]
      },
      {
       "output_type": "stream",
       "stream": "stdout",
       "text": [
        "\n",
        "doneait\n",
        "\tkey +\uacf5\ub7b5 start\n",
        "except 0"
       ]
      },
      {
       "output_type": "stream",
       "stream": "stdout",
       "text": [
        "\n",
        "doneait\n",
        "\tkey +\ub808\uc774\uc2f1 start\n",
        "except 0"
       ]
      },
      {
       "output_type": "stream",
       "stream": "stdout",
       "text": [
        "\n",
        "doneait\n",
        "\tkey +RPG start\n",
        "except 0"
       ]
      },
      {
       "output_type": "stream",
       "stream": "stdout",
       "text": [
        "\n",
        "doneait\n",
        "\tkey +\uce74\ub4dc start\n",
        "3"
       ]
      },
      {
       "output_type": "stream",
       "stream": "stdout",
       "text": [
        "\n",
        "doneait"
       ]
      },
      {
       "output_type": "stream",
       "stream": "stdout",
       "text": [
        "\n",
        "\tkey +\ub514\ud39c\uc2a4 start\n",
        "except 0"
       ]
      },
      {
       "output_type": "stream",
       "stream": "stdout",
       "text": [
        "\n",
        "doneait\n",
        "\tkey +\ub450\ub1cc start\n",
        "1"
       ]
      },
      {
       "output_type": "stream",
       "stream": "stdout",
       "text": [
        "\n",
        "doneait"
       ]
      },
      {
       "output_type": "stream",
       "stream": "stdout",
       "text": [
        "\n",
        "\tkey +\uc2dc\ubbac start\n",
        "except 0"
       ]
      },
      {
       "output_type": "stream",
       "stream": "stdout",
       "text": [
        "\n",
        "doneait\n",
        "\tkey +\ub2ec\ub9ac\uae30 start\n",
        "3"
       ]
      },
      {
       "output_type": "stream",
       "stream": "stdout",
       "text": [
        "\n",
        "doneait\n",
        "\tkey +\uc288\ud305 start\n",
        "except 0"
       ]
      },
      {
       "output_type": "stream",
       "stream": "stdout",
       "text": [
        "\n",
        "doneait"
       ]
      },
      {
       "output_type": "stream",
       "stream": "stdout",
       "text": [
        "\n",
        "\tkey +\ucd95\uad6c start\n",
        "3"
       ]
      },
      {
       "output_type": "stream",
       "stream": "stdout",
       "text": [
        "\n",
        "doneait\n",
        "\tkey +\uacbd\uc601 start\n",
        "1"
       ]
      },
      {
       "output_type": "stream",
       "stream": "stdout",
       "text": [
        "\n",
        "doneait\n",
        "\tkey +\ud0c0\uc774\ucfe4 start\n",
        "except 0"
       ]
      },
      {
       "output_type": "stream",
       "stream": "stdout",
       "text": [
        "\n",
        "doneait\n",
        "\tkey +\ud0c8\ucd9c start\n",
        "4"
       ]
      },
      {
       "output_type": "stream",
       "stream": "stdout",
       "text": [
        "\n",
        "doneait\n",
        "\tkey +\ucd94\ub9ac start\n",
        "1"
       ]
      },
      {
       "output_type": "stream",
       "stream": "stdout",
       "text": [
        "\n",
        "doneait\n",
        "\tkey +\uc7a5\uae30 start\n",
        "2"
       ]
      },
      {
       "output_type": "stream",
       "stream": "stdout",
       "text": [
        "\n",
        "doneait\n",
        "\tkey +\ube44\ud589\uae30 start\n",
        "3"
       ]
      },
      {
       "output_type": "stream",
       "stream": "stdout",
       "text": [
        "\n",
        "doneait\n",
        "\tkey +\uc0ac\ucc9c\uc131 start\n",
        "except 0"
       ]
      },
      {
       "output_type": "stream",
       "stream": "stdout",
       "text": [
        "\n",
        "doneait\n",
        "\tkey +\uc2a4\ud3ec\uce20 start\n",
        "4"
       ]
      },
      {
       "output_type": "stream",
       "stream": "stdout",
       "text": [
        "\n",
        "doneait\n",
        "\tkey +\ub18d\uad6c start\n",
        "except 0"
       ]
      },
      {
       "output_type": "stream",
       "stream": "stdout",
       "text": [
        "\n",
        "doneait\n",
        "\tkey +\ub09a\uc2dc start\n",
        "6"
       ]
      },
      {
       "output_type": "stream",
       "stream": "stdout",
       "text": [
        "\n",
        "doneait\n",
        "\tkey +\uc74c\uc545 start\n",
        "3"
       ]
      },
      {
       "output_type": "stream",
       "stream": "stdout",
       "text": [
        "\n",
        "doneait"
       ]
      },
      {
       "output_type": "stream",
       "stream": "stdout",
       "text": [
        "\n",
        "\tkey +\uce74\ud1a1 start\n",
        "1"
       ]
      },
      {
       "output_type": "stream",
       "stream": "stdout",
       "text": [
        "\n",
        "doneait\n",
        "\tkey +\uace8\ud504 start\n",
        "1"
       ]
      },
      {
       "output_type": "stream",
       "stream": "stdout",
       "text": [
        "\n",
        "doneait\n",
        "\tkey +\ub2f9\uad6c start\n",
        "1"
       ]
      },
      {
       "output_type": "stream",
       "stream": "stdout",
       "text": [
        "\n",
        "doneait\n",
        "\tkey +\uc57c\uad6c start\n",
        "3"
       ]
      },
      {
       "output_type": "stream",
       "stream": "stdout",
       "text": [
        "\n",
        "doneait\n",
        "\tkey +\ubcfc\ub9c1 start\n",
        "except 0"
       ]
      },
      {
       "output_type": "stream",
       "stream": "stdout",
       "text": [
        "\n",
        "doneait\n",
        "\tkey +\ud14c\uc774\uc2a4 start\n",
        "except 0"
       ]
      },
      {
       "output_type": "stream",
       "stream": "stdout",
       "text": [
        "\n",
        "doneait"
       ]
      },
      {
       "output_type": "stream",
       "stream": "stdout",
       "text": [
        "\n",
        "\tkey +\uc0bc\uad6d\uc9c0 start\n",
        "except 0"
       ]
      },
      {
       "output_type": "stream",
       "stream": "stdout",
       "text": [
        "\n",
        "doneait\n",
        "\tkey +TCG start\n",
        "except 0"
       ]
      },
      {
       "output_type": "stream",
       "stream": "stdout",
       "text": [
        "\n",
        "doneait\n",
        "\tkey +\uc804\uc7c1 start\n",
        "8"
       ]
      },
      {
       "output_type": "stream",
       "stream": "stdout",
       "text": [
        "\n",
        "doneait\n",
        "\tkey +\uac74\uac15 start\n",
        "7"
       ]
      },
      {
       "output_type": "stream",
       "stream": "stdout",
       "text": [
        "\n",
        "doneait\n",
        "\tkey +\uc6b4\ub3d9 start\n",
        "4"
       ]
      },
      {
       "output_type": "stream",
       "stream": "stdout",
       "text": [
        "\n",
        "doneait\n",
        "\tkey +\uad50\uc721 start\n",
        "4"
       ]
      },
      {
       "output_type": "stream",
       "stream": "stdout",
       "text": [
        "\n",
        "doneait\n",
        "\tkey +\uad50\ud1b5 start\n",
        "4"
       ]
      },
      {
       "output_type": "stream",
       "stream": "stdout",
       "text": [
        "\n",
        "doneait\n",
        "\tkey +\uae08\uc735 start\n",
        "1"
       ]
      },
      {
       "output_type": "stream",
       "stream": "stdout",
       "text": [
        "\n",
        "doneait\n",
        "\tkey +\ub0a0\uc528 start\n",
        "1"
       ]
      },
      {
       "output_type": "stream",
       "stream": "stdout",
       "text": [
        "\n",
        "doneait\n",
        "\tkey +\ub274\uc2a4 start\n",
        "6"
       ]
      },
      {
       "output_type": "stream",
       "stream": "stdout",
       "text": [
        "\n",
        "doneait\n",
        "\tkey +\uc7a1\uc9c0 start\n",
        "2"
       ]
      },
      {
       "output_type": "stream",
       "stream": "stdout",
       "text": [
        "\n",
        "doneait\n",
        "\tkey +\ub370\ucf54\ub808\uc774\uc158 start\n",
        "except 0"
       ]
      },
      {
       "output_type": "stream",
       "stream": "stdout",
       "text": [
        "\n",
        "doneait\n",
        "\tkey +\ub3c4\uad6c start\n",
        "1"
       ]
      },
      {
       "output_type": "stream",
       "stream": "stdout",
       "text": [
        "\n",
        "doneait\n",
        "\tkey +\ub3c4\uc11c start\n",
        "1"
       ]
      },
      {
       "output_type": "stream",
       "stream": "stdout",
       "text": [
        "\n",
        "doneait\n",
        "\tkey +\ucc38\uace0\uc790\ub8cc start\n",
        "264"
       ]
      },
      {
       "output_type": "stream",
       "stream": "stdout",
       "text": [
        "\n",
        "doneait"
       ]
      },
      {
       "output_type": "stream",
       "stream": "stdout",
       "text": [
        "\n",
        "\tkey +\ub77c\uc774\ube0c start\n",
        "except 0"
       ]
      },
      {
       "output_type": "stream",
       "stream": "stdout",
       "text": [
        "\n",
        "doneait"
       ]
      },
      {
       "output_type": "stream",
       "stream": "stdout",
       "text": [
        "\n",
        "\tkey +\ubc30\uacbd\ud654\uba74 start\n",
        "136"
       ]
      },
      {
       "output_type": "stream",
       "stream": "stdout",
       "text": [
        "\n",
        "doneait\n",
        "\tkey +\ub77c\uc774\ube0c\ub7ec\ub9ac start\n",
        "except 0"
       ]
      },
      {
       "output_type": "stream",
       "stream": "stdout",
       "text": [
        "\n",
        "doneait\n",
        "\tkey +\ub370\ubaa8 start\n",
        "except 0"
       ]
      },
      {
       "output_type": "stream",
       "stream": "stdout",
       "text": [
        "\n",
        "doneait\n",
        "\tkey +\ub77c\uc774\ud504\uc2a4\ud0c0\uc77c start\n",
        "90"
       ]
      },
      {
       "output_type": "stream",
       "stream": "stdout",
       "text": [
        "\n",
        "doneait"
       ]
      },
      {
       "output_type": "stream",
       "stream": "stdout",
       "text": [
        "\n",
        "\tkey +\ub9cc\ud654 start\n",
        "1"
       ]
      },
      {
       "output_type": "stream",
       "stream": "stdout",
       "text": [
        "\n",
        "doneait"
       ]
      },
      {
       "output_type": "stream",
       "stream": "stdout",
       "text": [
        "\n",
        "\tkey +\ubbf8\ub514\uc5b4 start\n",
        "6"
       ]
      },
      {
       "output_type": "stream",
       "stream": "stdout",
       "text": [
        "\n",
        "doneait"
       ]
      },
      {
       "output_type": "stream",
       "stream": "stdout",
       "text": [
        "\n",
        "\tkey +\ub3d9\uc601\uc0c1 start\n",
        "4"
       ]
      },
      {
       "output_type": "stream",
       "stream": "stdout",
       "text": [
        "\n",
        "doneait\n",
        "\tkey +\ube44\uc988\ub2c8\uc2a4 start\n",
        "1"
       ]
      },
      {
       "output_type": "stream",
       "stream": "stdout",
       "text": [
        "\n",
        "doneait\n",
        "\tkey +\uc0ac\uc9c4 start\n",
        "10"
       ]
      },
      {
       "output_type": "stream",
       "stream": "stdout",
       "text": [
        "\n",
        "doneait\n",
        "\tkey +\uc0dd\uc0b0\uc131 start\n",
        "except 0"
       ]
      },
      {
       "output_type": "stream",
       "stream": "stdout",
       "text": [
        "\n",
        "doneait\n",
        "\tkey +\uc18c\uc15c start\n",
        "except 0"
       ]
      },
      {
       "output_type": "stream",
       "stream": "stdout",
       "text": [
        "\n",
        "doneait\n",
        "\tkey +\ucf58\ud150\uce20 start\n",
        "except 0"
       ]
      },
      {
       "output_type": "stream",
       "stream": "stdout",
       "text": [
        "\n",
        "doneait"
       ]
      },
      {
       "output_type": "stream",
       "stream": "stdout",
       "text": [
        "\n",
        "\tkey +\uc1fc\ud551 start\n",
        "2"
       ]
      },
      {
       "output_type": "stream",
       "stream": "stdout",
       "text": [
        "\n",
        "doneait\n",
        "\tkey +\uc704\uc82f start\n",
        "except 0"
       ]
      },
      {
       "output_type": "stream",
       "stream": "stdout",
       "text": [
        "\n",
        "doneait\n",
        "\tkey +\uc790\ub3d9\ucc28 start\n",
        "2"
       ]
      },
      {
       "output_type": "stream",
       "stream": "stdout",
       "text": [
        "\n",
        "doneait\n",
        "\tkey +\uacbd\uc8fc start\n",
        "except 0"
       ]
      },
      {
       "output_type": "stream",
       "stream": "stdout",
       "text": [
        "\n",
        "doneait\n",
        "\tkey +\ub2e4\uc774\uc5b4\ud2b8 start\n",
        "3"
       ]
      },
      {
       "output_type": "stream",
       "stream": "stdout",
       "text": [
        "\n",
        "doneait"
       ]
      },
      {
       "output_type": "stream",
       "stream": "stdout",
       "text": [
        "\n",
        "\tkey +\ub2ec\ub825 start\n",
        "4"
       ]
      },
      {
       "output_type": "stream",
       "stream": "stdout",
       "text": [
        "\n",
        "doneait"
       ]
      },
      {
       "output_type": "stream",
       "stream": "stdout",
       "text": [
        "\n",
        "\tkey +\uc0dd\ub9ac start\n",
        "except 0"
       ]
      },
      {
       "output_type": "stream",
       "stream": "stdout",
       "text": [
        "\n",
        "doneait\n",
        "\tkey +\uce98\ub9b0\ub354 start\n",
        "except 0"
       ]
      },
      {
       "output_type": "stream",
       "stream": "stdout",
       "text": [
        "\n",
        "doneait\n",
        "\tkey +\uc0ac\uc8fc\ud314\uc790 start\n",
        "203"
       ]
      },
      {
       "output_type": "stream",
       "stream": "stdout",
       "text": [
        "\n",
        "doneait\n",
        "\tkey +\uad81\ud569 start\n",
        "except 0"
       ]
      },
      {
       "output_type": "stream",
       "stream": "stdout",
       "text": [
        "\n",
        "doneait\n",
        "\tkey +\uccb4\uc911 start\n",
        "except 0"
       ]
      },
      {
       "output_type": "stream",
       "stream": "stdout",
       "text": [
        "\n",
        "doneait\n",
        "\tkey +\uc0ac\uc804 start\n",
        "6"
       ]
      },
      {
       "output_type": "stream",
       "stream": "stdout",
       "text": [
        "\n",
        "doneait\n",
        "\tkey +\ucef4\ud4e8\ud130 start\n",
        "8"
       ]
      },
      {
       "output_type": "stream",
       "stream": "stdout",
       "text": [
        "\n",
        "doneait\n",
        "\tkey +\ubc31\uacfc\uc0ac\uc804 start\n",
        "121"
       ]
      },
      {
       "output_type": "stream",
       "stream": "stdout",
       "text": [
        "\n",
        "doneait"
       ]
      },
      {
       "output_type": "stream",
       "stream": "stdout",
       "text": [
        "\n",
        "\tkey +\uae09\uc2dd start\n",
        "3"
       ]
      },
      {
       "output_type": "stream",
       "stream": "stdout",
       "text": [
        "\n",
        "doneait\n",
        "\tkey +\ud559\uad50 start\n",
        "5"
       ]
      },
      {
       "output_type": "stream",
       "stream": "stdout",
       "text": [
        "\n",
        "doneait\n",
        "\tkey +\ucd08\ub4f1\ud559\uad50 start\n",
        "669"
       ]
      },
      {
       "output_type": "stream",
       "stream": "stdout",
       "text": [
        "\n",
        "doneait\n",
        "\tkey +\uc911\ud559\uad50 start\n",
        "1"
       ]
      }
     ],
     "prompt_number": "*"
    },
    {
     "cell_type": "code",
     "collapsed": false,
     "input": [],
     "language": "python",
     "metadata": {},
     "outputs": []
    },
    {
     "cell_type": "heading",
     "level": 3,
     "metadata": {},
     "source": [
      "Clustering"
     ]
    },
    {
     "cell_type": "code",
     "collapsed": false,
     "input": [
      "applist = app2_2000_name['name']\n",
      "applist"
     ],
     "language": "python",
     "metadata": {},
     "outputs": [
      {
       "metadata": {},
       "output_type": "pyout",
       "prompt_number": 95,
       "text": [
        "0    100 \ubbf8\uc158 : \ub77c\uc2a4 \ubca0\uc774\uac70\uc2a4 (Las Vegas)\n",
        "1                          \uc778\ubca0\uc774\ub354\ud5cc\ud130\n",
        "2           GTA Vice City Cheater\n",
        "3                    \uc5d8\uc18c\ub4dc \uc2a4\ud0ac\ud2b8\ub9ac(\uc544\ub77c)\n",
        "4                        \ubbf8\ub140\ubcc0\ud638\uc0ac\uc138\ub9ac\ud0b4\n",
        "Name: name, dtype: object"
       ]
      }
     ],
     "prompt_number": 95
    },
    {
     "cell_type": "code",
     "collapsed": false,
     "input": [
      "df = createPMIDataFrame(applist, keywords)\n"
     ],
     "language": "python",
     "metadata": {},
     "outputs": [],
     "prompt_number": 19
    },
    {
     "cell_type": "code",
     "collapsed": false,
     "input": [
      "print df.head(50)"
     ],
     "language": "python",
     "metadata": {},
     "outputs": [
      {
       "output_type": "stream",
       "stream": "stdout",
       "text": [
        "<class 'pandas.core.frame.DataFrame'>\n",
        "Index: 5 entries, 100 \ubbf8\uc158 : \ub77c\uc2a4 \ubca0\uc774\uac70\uc2a4 (Las Vegas) to \ubbf8\ub140\ubcc0\ud638\uc0ac\uc138\ub9ac\ud0b4\n",
        "Columns: 129 entries, \ud37c\uc990 to \uc18c\uc15c\n",
        "dtypes: float64(129)\n"
       ]
      }
     ],
     "prompt_number": 20
    },
    {
     "cell_type": "code",
     "collapsed": false,
     "input": [
      "for a in applist:\n",
      "    for k in keywords:\n",
      "        print a, k\n",
      "        setPMI(df, a, k, calcPMI(query_count(a), query_count(k), query_count(a+'+'+k), 10000000.0))\n",
      "        \n",
      "        "
     ],
     "language": "python",
     "metadata": {},
     "outputs": [
      {
       "output_type": "stream",
       "stream": "stdout",
       "text": [
        "100 \ubbf8\uc158 : \ub77c\uc2a4 \ubca0\uc774\uac70\uc2a4 (Las Vegas) \ud37c\uc990\n",
        "100 \ubbf8\uc158 : \ub77c\uc2a4 \ubca0\uc774\uac70\uc2a4 (Las Vegas)"
       ]
      },
      {
       "output_type": "stream",
       "stream": "stdout",
       "text": [
        " \uce90\uc8fc\uc5bc\n",
        "100 \ubbf8\uc158 : \ub77c\uc2a4 \ubca0\uc774\uac70\uc2a4 (Las Vegas)"
       ]
      },
      {
       "output_type": "stream",
       "stream": "stdout",
       "text": [
        " \uc544\ucf00\uc774\ub4dc\n",
        "100 \ubbf8\uc158 : \ub77c\uc2a4 \ubca0\uc774\uac70\uc2a4 (Las Vegas)"
       ]
      },
      {
       "output_type": "stream",
       "stream": "stdout",
       "text": [
        " \uacf5\ub7b5\uc9d1\n",
        "100 \ubbf8\uc158 : \ub77c\uc2a4 \ubca0\uc774\uac70\uc2a4 (Las Vegas)"
       ]
      },
      {
       "output_type": "stream",
       "stream": "stdout",
       "text": [
        " \ub808\uc774\uc2f1\n",
        "100 \ubbf8\uc158 : \ub77c\uc2a4 \ubca0\uc774\uac70\uc2a4 (Las Vegas)"
       ]
      },
      {
       "output_type": "stream",
       "stream": "stdout",
       "text": [
        " RPG\n",
        "100 \ubbf8\uc158 : \ub77c\uc2a4 \ubca0\uc774\uac70\uc2a4 (Las Vegas) \uce74\ub4dc\n",
        "100 \ubbf8\uc158 : \ub77c\uc2a4 \ubca0\uc774\uac70\uc2a4 (Las Vegas)"
       ]
      },
      {
       "output_type": "stream",
       "stream": "stdout",
       "text": [
        " \uc131\uc778\n",
        "100 \ubbf8\uc158 : \ub77c\uc2a4 \ubca0\uc774\uac70\uc2a4 (Las Vegas) \ub514\ud39c\uc2a4\n",
        "100 \ubbf8\uc158 : \ub77c\uc2a4 \ubca0\uc774\uac70\uc2a4 (Las Vegas)"
       ]
      },
      {
       "output_type": "stream",
       "stream": "stdout",
       "text": [
        " \ub450\ub1cc\n",
        "100 \ubbf8\uc158 : \ub77c\uc2a4 \ubca0\uc774\uac70\uc2a4 (Las Vegas)"
       ]
      },
      {
       "output_type": "stream",
       "stream": "stdout",
       "text": [
        " \uc2dc\ubbac\n",
        "100 \ubbf8\uc158 : \ub77c\uc2a4 \ubca0\uc774\uac70\uc2a4 (Las Vegas)"
       ]
      },
      {
       "output_type": "stream",
       "stream": "stdout",
       "text": [
        " \ub2ec\ub9ac\uae30\n",
        "100 \ubbf8\uc158 : \ub77c\uc2a4 \ubca0\uc774\uac70\uc2a4 (Las Vegas)"
       ]
      },
      {
       "output_type": "stream",
       "stream": "stdout",
       "text": [
        " \uc288\ud305\n",
        "100 \ubbf8\uc158 : \ub77c\uc2a4 \ubca0\uc774\uac70\uc2a4 (Las Vegas)"
       ]
      },
      {
       "output_type": "stream",
       "stream": "stdout",
       "text": [
        " \ucd95\uad6c\n",
        "100 \ubbf8\uc158 : \ub77c\uc2a4 \ubca0\uc774\uac70\uc2a4 (Las Vegas)"
       ]
      },
      {
       "output_type": "stream",
       "stream": "stdout",
       "text": [
        " \uacbd\uc601\n",
        "100 \ubbf8\uc158 : \ub77c\uc2a4 \ubca0\uc774\uac70\uc2a4 (Las Vegas)"
       ]
      },
      {
       "output_type": "stream",
       "stream": "stdout",
       "text": [
        " \ud0c0\uc774\ucfe4\n",
        "100 \ubbf8\uc158 : \ub77c\uc2a4 \ubca0\uc774\uac70\uc2a4 (Las Vegas) \ud0c8\ucd9c\n",
        "100 \ubbf8\uc158 : \ub77c\uc2a4 \ubca0\uc774\uac70\uc2a4 (Las Vegas)"
       ]
      },
      {
       "output_type": "stream",
       "stream": "stdout",
       "text": [
        " \ucd94\ub9ac\n",
        "100 \ubbf8\uc158 : \ub77c\uc2a4 \ubca0\uc774\uac70\uc2a4 (Las Vegas)"
       ]
      },
      {
       "output_type": "stream",
       "stream": "stdout",
       "text": [
        " \uc7a5\uae30\n",
        "100 \ubbf8\uc158 : \ub77c\uc2a4 \ubca0\uc774\uac70\uc2a4 (Las Vegas)"
       ]
      },
      {
       "output_type": "stream",
       "stream": "stdout",
       "text": [
        " \ube44\ud589\uae30\n",
        "100 \ubbf8\uc158 : \ub77c\uc2a4 \ubca0\uc774\uac70\uc2a4 (Las Vegas)"
       ]
      },
      {
       "output_type": "stream",
       "stream": "stdout",
       "text": [
        " \uc0ac\ucc9c\uc131\n",
        "100 \ubbf8\uc158 : \ub77c\uc2a4 \ubca0\uc774\uac70\uc2a4 (Las Vegas)"
       ]
      },
      {
       "output_type": "stream",
       "stream": "stdout",
       "text": [
        " \uc2a4\ud3ec\uce20\n",
        "100 \ubbf8\uc158 : \ub77c\uc2a4 \ubca0\uc774\uac70\uc2a4 (Las Vegas)"
       ]
      },
      {
       "output_type": "stream",
       "stream": "stdout",
       "text": [
        " \ub18d\uad6c\n",
        "100 \ubbf8\uc158 : \ub77c\uc2a4 \ubca0\uc774\uac70\uc2a4 (Las Vegas) \ub09a\uc2dc\n",
        "100 \ubbf8\uc158 : \ub77c\uc2a4 \ubca0\uc774\uac70\uc2a4 (Las Vegas)"
       ]
      },
      {
       "output_type": "stream",
       "stream": "stdout",
       "text": [
        " \uc74c\uc545\n",
        "100 \ubbf8\uc158 : \ub77c\uc2a4 \ubca0\uc774\uac70\uc2a4 (Las Vegas)"
       ]
      },
      {
       "output_type": "stream",
       "stream": "stdout",
       "text": [
        " \uce74\ud1a1\n",
        "100 \ubbf8\uc158 : \ub77c\uc2a4 \ubca0\uc774\uac70\uc2a4 (Las Vegas)"
       ]
      },
      {
       "output_type": "stream",
       "stream": "stdout",
       "text": [
        " \uace8\ud504\n",
        "100 \ubbf8\uc158 : \ub77c\uc2a4 \ubca0\uc774\uac70\uc2a4 (Las Vegas)"
       ]
      },
      {
       "output_type": "stream",
       "stream": "stdout",
       "text": [
        " \ub2f9\uad6c\n",
        "100 \ubbf8\uc158 : \ub77c\uc2a4 \ubca0\uc774\uac70\uc2a4 (Las Vegas)"
       ]
      },
      {
       "output_type": "stream",
       "stream": "stdout",
       "text": [
        " \uc57c\uad6c\n",
        "100 \ubbf8\uc158 : \ub77c\uc2a4 \ubca0\uc774\uac70\uc2a4 (Las Vegas)"
       ]
      },
      {
       "output_type": "stream",
       "stream": "stdout",
       "text": [
        " \ubcfc\ub9c1\n",
        "100 \ubbf8\uc158 : \ub77c\uc2a4 \ubca0\uc774\uac70\uc2a4 (Las Vegas) \ud14c\uc774\uc2a4\n",
        "100 \ubbf8\uc158 : \ub77c\uc2a4 \ubca0\uc774\uac70\uc2a4 (Las Vegas)"
       ]
      },
      {
       "output_type": "stream",
       "stream": "stdout",
       "text": [
        " \uc0bc\uad6d\uc9c0\n",
        "100 \ubbf8\uc158 : \ub77c\uc2a4 \ubca0\uc774\uac70\uc2a4 (Las Vegas) TCG\n",
        "100 \ubbf8\uc158 : \ub77c\uc2a4 \ubca0\uc774\uac70\uc2a4 (Las Vegas)"
       ]
      },
      {
       "output_type": "stream",
       "stream": "stdout",
       "text": [
        " \uc804\uc7c1\n",
        "100 \ubbf8\uc158 : \ub77c\uc2a4 \ubca0\uc774\uac70\uc2a4 (Las Vegas)"
       ]
      },
      {
       "output_type": "stream",
       "stream": "stdout",
       "text": [
        " \uac74\uac15\n",
        "100 \ubbf8\uc158 : \ub77c\uc2a4 \ubca0\uc774\uac70\uc2a4 (Las Vegas)"
       ]
      },
      {
       "output_type": "stream",
       "stream": "stdout",
       "text": [
        " \uc6b4\ub3d9\n",
        "100 \ubbf8\uc158 : \ub77c\uc2a4 \ubca0\uc774\uac70\uc2a4 (Las Vegas)"
       ]
      },
      {
       "output_type": "stream",
       "stream": "stdout",
       "text": [
        " \uad50\uc721\n",
        "100 \ubbf8\uc158 : \ub77c\uc2a4 \ubca0\uc774\uac70\uc2a4 (Las Vegas)"
       ]
      },
      {
       "output_type": "stream",
       "stream": "stdout",
       "text": [
        " \uad50\ud1b5\n",
        "100 \ubbf8\uc158 : \ub77c\uc2a4 \ubca0\uc774\uac70\uc2a4 (Las Vegas)"
       ]
      },
      {
       "output_type": "stream",
       "stream": "stdout",
       "text": [
        " \uae08\uc735\n",
        "100 \ubbf8\uc158 : \ub77c\uc2a4 \ubca0\uc774\uac70\uc2a4 (Las Vegas)"
       ]
      },
      {
       "output_type": "stream",
       "stream": "stdout",
       "text": [
        " \ub0a0\uc528\n",
        "100 \ubbf8\uc158 : \ub77c\uc2a4 \ubca0\uc774\uac70\uc2a4 (Las Vegas)"
       ]
      },
      {
       "output_type": "stream",
       "stream": "stdout",
       "text": [
        " \ub274\uc2a4\n",
        "100 \ubbf8\uc158 : \ub77c\uc2a4 \ubca0\uc774\uac70\uc2a4 (Las Vegas) \uc7a1\uc9c0\n",
        "100 \ubbf8\uc158 : \ub77c\uc2a4 \ubca0\uc774\uac70\uc2a4 (Las Vegas)"
       ]
      },
      {
       "output_type": "stream",
       "stream": "stdout",
       "text": [
        " \ub370\ucf54\ub808\uc774\uc158\n",
        "100 \ubbf8\uc158 : \ub77c\uc2a4 \ubca0\uc774\uac70\uc2a4 (Las Vegas)"
       ]
      },
      {
       "output_type": "stream",
       "stream": "stdout",
       "text": [
        " \ub3c4\uad6c\n",
        "100 \ubbf8\uc158 : \ub77c\uc2a4 \ubca0\uc774\uac70\uc2a4 (Las Vegas)"
       ]
      },
      {
       "output_type": "stream",
       "stream": "stdout",
       "text": [
        " \ub3c4\uc11c\n",
        "100 \ubbf8\uc158 : \ub77c\uc2a4 \ubca0\uc774\uac70\uc2a4 (Las Vegas)"
       ]
      },
      {
       "output_type": "stream",
       "stream": "stdout",
       "text": [
        " \ucc38\uace0\uc790\ub8cc\n",
        "100 \ubbf8\uc158 : \ub77c\uc2a4 \ubca0\uc774\uac70\uc2a4 (Las Vegas)"
       ]
      },
      {
       "output_type": "stream",
       "stream": "stdout",
       "text": [
        " \ub77c\uc774\ube0c\n",
        "100 \ubbf8\uc158 : \ub77c\uc2a4 \ubca0\uc774\uac70\uc2a4 (Las Vegas) \ubc30\uacbd\ud654\uba74\n",
        "100 \ubbf8\uc158 : \ub77c\uc2a4 \ubca0\uc774\uac70\uc2a4 (Las Vegas)"
       ]
      },
      {
       "output_type": "stream",
       "stream": "stdout",
       "text": [
        " \ub77c\uc774\ube0c\ub7ec\ub9ac\n",
        "100 \ubbf8\uc158 : \ub77c\uc2a4 \ubca0\uc774\uac70\uc2a4 (Las Vegas) \ub370\ubaa8\n",
        "100 \ubbf8\uc158 : \ub77c\uc2a4 \ubca0\uc774\uac70\uc2a4 (Las Vegas)"
       ]
      },
      {
       "output_type": "stream",
       "stream": "stdout",
       "text": [
        " \ub77c\uc774\ud504\uc2a4\ud0c0\uc77c\n",
        "100 \ubbf8\uc158 : \ub77c\uc2a4 \ubca0\uc774\uac70\uc2a4 (Las Vegas) \ub9cc\ud654\n",
        "100 \ubbf8\uc158 : \ub77c\uc2a4 \ubca0\uc774\uac70\uc2a4 (Las Vegas)"
       ]
      },
      {
       "output_type": "stream",
       "stream": "stdout",
       "text": [
        " \ubbf8\ub514\uc5b4\n",
        "100 \ubbf8\uc158 : \ub77c\uc2a4 \ubca0\uc774\uac70\uc2a4 (Las Vegas)"
       ]
      },
      {
       "output_type": "stream",
       "stream": "stdout",
       "text": [
        " \ub3d9\uc601\uc0c1\n",
        "100 \ubbf8\uc158 : \ub77c\uc2a4 \ubca0\uc774\uac70\uc2a4 (Las Vegas)"
       ]
      },
      {
       "output_type": "stream",
       "stream": "stdout",
       "text": [
        " \ube44\uc988\ub2c8\uc2a4\n",
        "100 \ubbf8\uc158 : \ub77c\uc2a4 \ubca0\uc774\uac70\uc2a4 (Las Vegas) \uc0ac\uc9c4\n",
        "100 \ubbf8\uc158 : \ub77c\uc2a4 \ubca0\uc774\uac70\uc2a4 (Las Vegas)"
       ]
      },
      {
       "output_type": "stream",
       "stream": "stdout",
       "text": [
        " \uc0dd\uc0b0\uc131\n",
        "100 \ubbf8\uc158 : \ub77c\uc2a4 \ubca0\uc774\uac70\uc2a4 (Las Vegas)"
       ]
      },
      {
       "output_type": "stream",
       "stream": "stdout",
       "text": [
        " \uc18c\uc15c\n",
        "100 \ubbf8\uc158 : \ub77c\uc2a4 \ubca0\uc774\uac70\uc2a4 (Las Vegas)"
       ]
      },
      {
       "output_type": "stream",
       "stream": "stdout",
       "text": [
        " \ucf58\ud150\uce20\n",
        "100 \ubbf8\uc158 : \ub77c\uc2a4 \ubca0\uc774\uac70\uc2a4 (Las Vegas)"
       ]
      },
      {
       "output_type": "stream",
       "stream": "stdout",
       "text": [
        " \uc1fc\ud551\n",
        "100 \ubbf8\uc158 : \ub77c\uc2a4 \ubca0\uc774\uac70\uc2a4 (Las Vegas)"
       ]
      },
      {
       "output_type": "stream",
       "stream": "stdout",
       "text": [
        " \uc704\uc82f\n",
        "100 \ubbf8\uc158 : \ub77c\uc2a4 \ubca0\uc774\uac70\uc2a4 (Las Vegas) \uc790\ub3d9\ucc28\n",
        "100 \ubbf8\uc158 : \ub77c\uc2a4 \ubca0\uc774\uac70\uc2a4 (Las Vegas)"
       ]
      },
      {
       "output_type": "stream",
       "stream": "stdout",
       "text": [
        " \uacbd\uc8fc\n",
        "100 \ubbf8\uc158 : \ub77c\uc2a4 \ubca0\uc774\uac70\uc2a4 (Las Vegas) \ub2e4\uc774\uc5b4\ud2b8\n",
        "100 \ubbf8\uc158 : \ub77c\uc2a4 \ubca0\uc774\uac70\uc2a4 (Las Vegas)"
       ]
      },
      {
       "output_type": "stream",
       "stream": "stdout",
       "text": [
        " \ub2ec\ub825\n",
        "100 \ubbf8\uc158 : \ub77c\uc2a4 \ubca0\uc774\uac70\uc2a4 (Las Vegas) \uc0dd\ub9ac\n",
        "100 \ubbf8\uc158 : \ub77c\uc2a4 \ubca0\uc774\uac70\uc2a4 (Las Vegas)"
       ]
      },
      {
       "output_type": "stream",
       "stream": "stdout",
       "text": [
        " \uce98\ub9b0\ub354\n",
        "100 \ubbf8\uc158 : \ub77c\uc2a4 \ubca0\uc774\uac70\uc2a4 (Las Vegas) \uc0ac\uc8fc\ud314\uc790\n",
        "100 \ubbf8\uc158 : \ub77c\uc2a4 \ubca0\uc774\uac70\uc2a4 (Las Vegas)"
       ]
      },
      {
       "output_type": "stream",
       "stream": "stdout",
       "text": [
        " \uad81\ud569\n",
        "100 \ubbf8\uc158 : \ub77c\uc2a4 \ubca0\uc774\uac70\uc2a4 (Las Vegas) \uccb4\uc911\n",
        "100 \ubbf8\uc158 : \ub77c\uc2a4 \ubca0\uc774\uac70\uc2a4 (Las Vegas)"
       ]
      },
      {
       "output_type": "stream",
       "stream": "stdout",
       "text": [
        " \uc0ac\uc804\n",
        "100 \ubbf8\uc158 : \ub77c\uc2a4 \ubca0\uc774\uac70\uc2a4 (Las Vegas) \ucef4\ud4e8\ud130\n",
        "100 \ubbf8\uc158 : \ub77c\uc2a4 \ubca0\uc774\uac70\uc2a4 (Las Vegas)"
       ]
      },
      {
       "output_type": "stream",
       "stream": "stdout",
       "text": [
        " \ubc31\uacfc\uc0ac\uc804\n",
        "100 \ubbf8\uc158 : \ub77c\uc2a4 \ubca0\uc774\uac70\uc2a4 (Las Vegas)"
       ]
      },
      {
       "output_type": "stream",
       "stream": "stdout",
       "text": [
        " \uae09\uc2dd\n",
        "100 \ubbf8\uc158 : \ub77c\uc2a4 \ubca0\uc774\uac70\uc2a4 (Las Vegas)"
       ]
      },
      {
       "output_type": "stream",
       "stream": "stdout",
       "text": [
        " \ud559\uad50\n",
        "100 \ubbf8\uc158 : \ub77c\uc2a4 \ubca0\uc774\uac70\uc2a4 (Las Vegas) \ucd08\ub4f1\ud559\uad50\n",
        "100 \ubbf8\uc158 : \ub77c\uc2a4 \ubca0\uc774\uac70\uc2a4 (Las Vegas)"
       ]
      },
      {
       "output_type": "stream",
       "stream": "stdout",
       "text": [
        " \uc911\ud559\uad50\n",
        "100 \ubbf8\uc158 : \ub77c\uc2a4 \ubca0\uc774\uac70\uc2a4 (Las Vegas)"
       ]
      },
      {
       "output_type": "stream",
       "stream": "stdout",
       "text": [
        " \uace0\ub4f1\ud559\uad50\n",
        "100 \ubbf8\uc158 : \ub77c\uc2a4 \ubca0\uc774\uac70\uc2a4 (Las Vegas)"
       ]
      },
      {
       "output_type": "stream",
       "stream": "stdout",
       "text": [
        " \ub300\ud559\uad50\n",
        "100 \ubbf8\uc158 : \ub77c\uc2a4 \ubca0\uc774\uac70\uc2a4 (Las Vegas) Korea\n",
        "100 \ubbf8\uc158 : \ub77c\uc2a4 \ubca0\uc774\uac70\uc2a4 (Las Vegas)"
       ]
      },
      {
       "output_type": "stream",
       "stream": "stdout",
       "text": [
        " \ub124\ube44\uac8c\uc774\uc158\n",
        "100 \ubbf8\uc158 : \ub77c\uc2a4 \ubca0\uc774\uac70\uc2a4 (Las Vegas)"
       ]
      },
      {
       "output_type": "stream",
       "stream": "stdout",
       "text": [
        " \uc9c0\ud558\ucca0\n",
        "100 \ubbf8\uc158 : \ub77c\uc2a4 \ubca0\uc774\uac70\uc2a4 (Las Vegas)"
       ]
      },
      {
       "output_type": "stream",
       "stream": "stdout",
       "text": [
        " \uc885\uacb0\uc790\n",
        "100 \ubbf8\uc158 : \ub77c\uc2a4 \ubca0\uc774\uac70\uc2a4 (Las Vegas) \ub0b4\ube44\n",
        "100 \ubbf8\uc158 : \ub77c\uc2a4 \ubca0\uc774\uac70\uc2a4 (Las Vegas)"
       ]
      },
      {
       "output_type": "stream",
       "stream": "stdout",
       "text": [
        " \uac00\uacc4\ubd80\n",
        "100 \ubbf8\uc158 : \ub77c\uc2a4 \ubca0\uc774\uac70\uc2a4 (Las Vegas)"
       ]
      },
      {
       "output_type": "stream",
       "stream": "stdout",
       "text": [
        " Money\n",
        "100 \ubbf8\uc158 : \ub77c\uc2a4 \ubca0\uc774\uac70\uc2a4 (Las Vegas)"
       ]
      },
      {
       "output_type": "stream",
       "stream": "stdout",
       "text": [
        " \uc2a4\ub9c8\ud2b8\n",
        "100 \ubbf8\uc158 : \ub77c\uc2a4 \ubca0\uc774\uac70\uc2a4 (Las Vegas)"
       ]
      },
      {
       "output_type": "stream",
       "stream": "stdout",
       "text": [
        " \uacc4\uc0b0\uae30\n",
        "100 \ubbf8\uc158 : \ub77c\uc2a4 \ubca0\uc774\uac70\uc2a4 (Las Vegas)"
       ]
      },
      {
       "output_type": "stream",
       "stream": "stdout",
       "text": [
        " \uc740\ud589\n",
        "100 \ubbf8\uc158 : \ub77c\uc2a4 \ubca0\uc774\uac70\uc2a4 (Las Vegas)"
       ]
      },
      {
       "output_type": "stream",
       "stream": "stdout",
       "text": [
        " \uac80\uc0c9\uc5b4\n",
        "100 \ubbf8\uc158 : \ub77c\uc2a4 \ubca0\uc774\uac70\uc2a4 (Las Vegas) \uc2e4\uc2dc\uac04\n",
        "100 \ubbf8\uc158 : \ub77c\uc2a4 \ubca0\uc774\uac70\uc2a4 (Las Vegas)"
       ]
      },
      {
       "output_type": "stream",
       "stream": "stdout",
       "text": [
        " \uc2e0\ubb38\n",
        "100 \ubbf8\uc158 : \ub77c\uc2a4 \ubca0\uc774\uac70\uc2a4 (Las Vegas)"
       ]
      },
      {
       "output_type": "stream",
       "stream": "stdout",
       "text": [
        " \ud074\ub798\uc2dd\n",
        "100 \ubbf8\uc158 : \ub77c\uc2a4 \ubca0\uc774\uac70\uc2a4 (Las Vegas) \ub7f0\ucc98\n",
        "100 \ubbf8\uc158 : \ub77c\uc2a4 \ubca0\uc774\uac70\uc2a4 (Las Vegas)"
       ]
      },
      {
       "output_type": "stream",
       "stream": "stdout",
       "text": [
        " \uc8fc\uc18c\ub85d\n",
        "100 \ubbf8\uc158 : \ub77c\uc2a4 \ubca0\uc774\uac70\uc2a4 (Las Vegas)"
       ]
      },
      {
       "output_type": "stream",
       "stream": "stdout",
       "text": [
        " \ud3f0\n",
        "100 \ubbf8\uc158 : \ub77c\uc2a4 \ubca0\uc774\uac70\uc2a4 (Las Vegas) \ubc14\uc774\ub7ec\uc2a4\n",
        "100 \ubbf8\uc158 : \ub77c\uc2a4 \ubca0\uc774\uac70\uc2a4 (Las Vegas)"
       ]
      },
      {
       "output_type": "stream",
       "stream": "stdout",
       "text": [
        " \ubcf4\uc548\n",
        "100 \ubbf8\uc158 : \ub77c\uc2a4 \ubca0\uc774\uac70\uc2a4 (Las Vegas)"
       ]
      },
      {
       "output_type": "stream",
       "stream": "stdout",
       "text": [
        " \uc131\uacbd\n",
        "100 \ubbf8\uc158 : \ub77c\uc2a4 \ubca0\uc774\uac70\uc2a4 (Las Vegas)"
       ]
      },
      {
       "output_type": "stream",
       "stream": "stdout",
       "text": [
        " \ucc2c\uc1a1\n",
        "100 \ubbf8\uc158 : \ub77c\uc2a4 \ubca0\uc774\uac70\uc2a4 (Las Vegas) \ubc14\uc774\ube14\n",
        "100 \ubbf8\uc158 : \ub77c\uc2a4 \ubca0\uc774\uac70\uc2a4 (Las Vegas)"
       ]
      },
      {
       "output_type": "stream",
       "stream": "stdout",
       "text": [
        " \ubc31\uc2e0\n",
        "100 \ubbf8\uc158 : \ub77c\uc2a4 \ubca0\uc774\uac70\uc2a4 (Las Vegas) \uc6f9\n",
        "100 \ubbf8\uc158 : \ub77c\uc2a4 \ubca0\uc774\uac70\uc2a4 (Las Vegas)"
       ]
      },
      {
       "output_type": "stream",
       "stream": "stdout",
       "text": [
        " \uc2a4\ud2f0\ucee4\n",
        "100 \ubbf8\uc158 : \ub77c\uc2a4 \ubca0\uc774\uac70\uc2a4 (Las Vegas)"
       ]
      },
      {
       "output_type": "stream",
       "stream": "stdout",
       "text": [
        " \uc0ac\uc8fc\n",
        "100 \ubbf8\uc158 : \ub77c\uc2a4 \ubca0\uc774\uac70\uc2a4 (Las Vegas)"
       ]
      },
      {
       "output_type": "stream",
       "stream": "stdout",
       "text": [
        " \uc6b4\uc138\n",
        "100 \ubbf8\uc158 : \ub77c\uc2a4 \ubca0\uc774\uac70\uc2a4 (Las Vegas)"
       ]
      },
      {
       "output_type": "stream",
       "stream": "stdout",
       "text": [
        " \ucf54\ubbf9\n",
        "100 \ubbf8\uc158 : \ub77c\uc2a4 \ubca0\uc774\uac70\uc2a4 (Las Vegas) 3D\n",
        "100 \ubbf8\uc158 : \ub77c\uc2a4 \ubca0\uc774\uac70\uc2a4 (Las Vegas)"
       ]
      },
      {
       "output_type": "stream",
       "stream": "stdout",
       "text": [
        " \ubcc4\uc790\ub9ac\n",
        "100 \ubbf8\uc158 : \ub77c\uc2a4 \ubca0\uc774\uac70\uc2a4 (Las Vegas)"
       ]
      },
      {
       "output_type": "stream",
       "stream": "stdout",
       "text": [
        " tool\n",
        "100 \ubbf8\uc158 : \ub77c\uc2a4 \ubca0\uc774\uac70\uc2a4 (Las Vegas)"
       ]
      },
      {
       "output_type": "stream",
       "stream": "stdout",
       "text": [
        " \uc6f9\ud230\n",
        "100 \ubbf8\uc158 : \ub77c\uc2a4 \ubca0\uc774\uac70\uc2a4 (Las Vegas)"
       ]
      },
      {
       "output_type": "stream",
       "stream": "stdout",
       "text": [
        " sex\n",
        "100 \ubbf8\uc158 : \ub77c\uc2a4 \ubca0\uc774\uac70\uc2a4 (Las Vegas)"
       ]
      },
      {
       "output_type": "stream",
       "stream": "stdout",
       "text": [
        " \ud50c\ub808\uc774\uc5b4\n",
        "100 \ubbf8\uc158 : \ub77c\uc2a4 \ubca0\uc774\uac70\uc2a4 (Las Vegas)"
       ]
      },
      {
       "output_type": "stream",
       "stream": "stdout",
       "text": [
        " \uce74\uba54\ub77c\n",
        "100 \ubbf8\uc158 : \ub77c\uc2a4 \ubca0\uc774\uac70\uc2a4 (Las Vegas)"
       ]
      },
      {
       "output_type": "stream",
       "stream": "stdout",
       "text": [
        " \ubca8\uc18c\ub9ac\n",
        "100 \ubbf8\uc158 : \ub77c\uc2a4 \ubca0\uc774\uac70\uc2a4 (Las Vegas)"
       ]
      },
      {
       "output_type": "stream",
       "stream": "stdout",
       "text": [
        " \uc57c\ub3d9\n",
        "100 \ubbf8\uc158 : \ub77c\uc2a4 \ubca0\uc774\uac70\uc2a4 (Las Vegas)"
       ]
      },
      {
       "output_type": "stream",
       "stream": "stdout",
       "text": [
        " \ud55c\uae00\n",
        "100 \ubbf8\uc158 : \ub77c\uc2a4 \ubca0\uc774\uac70\uc2a4 (Las Vegas)"
       ]
      },
      {
       "output_type": "stream",
       "stream": "stdout",
       "text": [
        " \uc624\ud53c\uc2a4\n",
        "100 \ubbf8\uc158 : \ub77c\uc2a4 \ubca0\uc774\uac70\uc2a4 (Las Vegas)"
       ]
      },
      {
       "output_type": "stream",
       "stream": "stdout",
       "text": [
        " offic\n",
        "100 \ubbf8\uc158 : \ub77c\uc2a4 \ubca0\uc774\uac70\uc2a4 (Las Vegas) \uc54c\ubc14\n",
        "100 \ubbf8\uc158 : \ub77c\uc2a4 \ubca0\uc774\uac70\uc2a4 (Las Vegas)"
       ]
      },
      {
       "output_type": "stream",
       "stream": "stdout",
       "text": [
        " photo\n",
        "100 \ubbf8\uc158 : \ub77c\uc2a4 \ubca0\uc774\uac70\uc2a4 (Las Vegas) \ub4dc\ub77c\uc774\ube0c\n",
        "100 \ubbf8\uc158 : \ub77c\uc2a4 \ubca0\uc774\uac70\uc2a4 (Las Vegas)"
       ]
      },
      {
       "output_type": "stream",
       "stream": "stdout",
       "text": [
        " \ud30c\uc77c\n",
        "100 \ubbf8\uc158 : \ub77c\uc2a4 \ubca0\uc774\uac70\uc2a4 (Las Vegas) \uac24\ub7ec\ub9ac\n",
        "100 \ubbf8\uc158 : \ub77c\uc2a4 \ubca0\uc774\uac70\uc2a4 (Las Vegas)"
       ]
      },
      {
       "output_type": "stream",
       "stream": "stdout",
       "text": [
        " \uadf8\ub8f9\n",
        "100 \ubbf8\uc158 : \ub77c\uc2a4 \ubca0\uc774\uac70\uc2a4 (Las Vegas)"
       ]
      },
      {
       "output_type": "stream",
       "stream": "stdout",
       "text": [
        " \ubc14\ucf54\ub4dc\n",
        "100 \ubbf8\uc158 : \ub77c\uc2a4 \ubca0\uc774\uac70\uc2a4 (Las Vegas) \uc2a4\uce90\ub108\n",
        "100 \ubbf8\uc158 : \ub77c\uc2a4 \ubca0\uc774\uac70\uc2a4 (Las Vegas)"
       ]
      },
      {
       "output_type": "stream",
       "stream": "stdout",
       "text": [
        " \uc18c\uc15c\ucee4\uba38\uc2a4\n",
        "100 \ubbf8\uc158 : \ub77c\uc2a4 \ubca0\uc774\uac70\uc2a4 (Las Vegas)"
       ]
      },
      {
       "output_type": "stream",
       "stream": "stdout",
       "text": [
        " \uc18c\uc15c\n",
        "\uc778\ubca0\uc774\ub354\ud5cc\ud130"
       ]
      },
      {
       "output_type": "stream",
       "stream": "stdout",
       "text": [
        " \ud37c\uc990\n",
        "\uc778\ubca0\uc774\ub354\ud5cc\ud130"
       ]
      },
      {
       "output_type": "stream",
       "stream": "stdout",
       "text": [
        " \uce90\uc8fc\uc5bc\n",
        "\uc778\ubca0\uc774\ub354\ud5cc\ud130"
       ]
      },
      {
       "output_type": "stream",
       "stream": "stdout",
       "text": [
        " \uc544\ucf00\uc774\ub4dc\n",
        "\uc778\ubca0\uc774\ub354\ud5cc\ud130"
       ]
      },
      {
       "output_type": "stream",
       "stream": "stdout",
       "text": [
        " \uacf5\ub7b5\uc9d1\n",
        "\uc778\ubca0\uc774\ub354\ud5cc\ud130"
       ]
      },
      {
       "output_type": "stream",
       "stream": "stdout",
       "text": [
        " \ub808\uc774\uc2f1\n",
        "\uc778\ubca0\uc774\ub354\ud5cc\ud130 RPG\n",
        "\uc778\ubca0\uc774\ub354\ud5cc\ud130"
       ]
      },
      {
       "output_type": "stream",
       "stream": "stdout",
       "text": [
        " \uce74\ub4dc\n",
        "\uc778\ubca0\uc774\ub354\ud5cc\ud130"
       ]
      },
      {
       "output_type": "stream",
       "stream": "stdout",
       "text": [
        " \uc131\uc778\n",
        "\uc778\ubca0\uc774\ub354\ud5cc\ud130"
       ]
      },
      {
       "output_type": "stream",
       "stream": "stdout",
       "text": [
        " \ub514\ud39c\uc2a4\n",
        "\uc778\ubca0\uc774\ub354\ud5cc\ud130"
       ]
      },
      {
       "output_type": "stream",
       "stream": "stdout",
       "text": [
        " \ub450\ub1cc\n",
        "\uc778\ubca0\uc774\ub354\ud5cc\ud130"
       ]
      },
      {
       "output_type": "stream",
       "stream": "stdout",
       "text": [
        " \uc2dc\ubbac\n",
        "\uc778\ubca0\uc774\ub354\ud5cc\ud130"
       ]
      },
      {
       "output_type": "stream",
       "stream": "stdout",
       "text": [
        " \ub2ec\ub9ac\uae30\n",
        "\uc778\ubca0\uc774\ub354\ud5cc\ud130"
       ]
      },
      {
       "output_type": "stream",
       "stream": "stdout",
       "text": [
        " \uc288\ud305\n",
        "\uc778\ubca0\uc774\ub354\ud5cc\ud130"
       ]
      },
      {
       "output_type": "stream",
       "stream": "stdout",
       "text": [
        " \ucd95\uad6c\n",
        "\uc778\ubca0\uc774\ub354\ud5cc\ud130"
       ]
      },
      {
       "output_type": "stream",
       "stream": "stdout",
       "text": [
        " \uacbd\uc601\n",
        "\uc778\ubca0\uc774\ub354\ud5cc\ud130"
       ]
      },
      {
       "output_type": "stream",
       "stream": "stdout",
       "text": [
        " \ud0c0\uc774\ucfe4\n",
        "\uc778\ubca0\uc774\ub354\ud5cc\ud130"
       ]
      },
      {
       "output_type": "stream",
       "stream": "stdout",
       "text": [
        " \ud0c8\ucd9c\n",
        "\uc778\ubca0\uc774\ub354\ud5cc\ud130"
       ]
      },
      {
       "output_type": "stream",
       "stream": "stdout",
       "text": [
        " \ucd94\ub9ac\n",
        "\uc778\ubca0\uc774\ub354\ud5cc\ud130"
       ]
      },
      {
       "output_type": "stream",
       "stream": "stdout",
       "text": [
        " \uc7a5\uae30\n",
        "\uc778\ubca0\uc774\ub354\ud5cc\ud130"
       ]
      },
      {
       "output_type": "stream",
       "stream": "stdout",
       "text": [
        " \ube44\ud589\uae30\n",
        "\uc778\ubca0\uc774\ub354\ud5cc\ud130"
       ]
      },
      {
       "output_type": "stream",
       "stream": "stdout",
       "text": [
        " \uc0ac\ucc9c\uc131\n",
        "\uc778\ubca0\uc774\ub354\ud5cc\ud130"
       ]
      },
      {
       "output_type": "stream",
       "stream": "stdout",
       "text": [
        " \uc2a4\ud3ec\uce20\n",
        "\uc778\ubca0\uc774\ub354\ud5cc\ud130"
       ]
      },
      {
       "output_type": "stream",
       "stream": "stdout",
       "text": [
        " \ub18d\uad6c\n",
        "\uc778\ubca0\uc774\ub354\ud5cc\ud130"
       ]
      },
      {
       "output_type": "stream",
       "stream": "stdout",
       "text": [
        " \ub09a\uc2dc\n",
        "\uc778\ubca0\uc774\ub354\ud5cc\ud130"
       ]
      },
      {
       "output_type": "stream",
       "stream": "stdout",
       "text": [
        " \uc74c\uc545\n",
        "\uc778\ubca0\uc774\ub354\ud5cc\ud130"
       ]
      },
      {
       "output_type": "stream",
       "stream": "stdout",
       "text": [
        " \uce74\ud1a1\n",
        "\uc778\ubca0\uc774\ub354\ud5cc\ud130"
       ]
      },
      {
       "output_type": "stream",
       "stream": "stdout",
       "text": [
        " \uace8\ud504\n",
        "\uc778\ubca0\uc774\ub354\ud5cc\ud130"
       ]
      },
      {
       "output_type": "stream",
       "stream": "stdout",
       "text": [
        " \ub2f9\uad6c\n",
        "\uc778\ubca0\uc774\ub354\ud5cc\ud130"
       ]
      },
      {
       "output_type": "stream",
       "stream": "stdout",
       "text": [
        " \uc57c\uad6c\n",
        "\uc778\ubca0\uc774\ub354\ud5cc\ud130"
       ]
      },
      {
       "output_type": "stream",
       "stream": "stdout",
       "text": [
        " \ubcfc\ub9c1\n",
        "\uc778\ubca0\uc774\ub354\ud5cc\ud130"
       ]
      },
      {
       "output_type": "stream",
       "stream": "stdout",
       "text": [
        " \ud14c\uc774\uc2a4\n",
        "\uc778\ubca0\uc774\ub354\ud5cc\ud130"
       ]
      },
      {
       "output_type": "stream",
       "stream": "stdout",
       "text": [
        " \uc0bc\uad6d\uc9c0\n",
        "\uc778\ubca0\uc774\ub354\ud5cc\ud130 TCG\n",
        "\uc778\ubca0\uc774\ub354\ud5cc\ud130"
       ]
      },
      {
       "output_type": "stream",
       "stream": "stdout",
       "text": [
        " \uc804\uc7c1\n",
        "\uc778\ubca0\uc774\ub354\ud5cc\ud130"
       ]
      },
      {
       "output_type": "stream",
       "stream": "stdout",
       "text": [
        " \uac74\uac15\n",
        "\uc778\ubca0\uc774\ub354\ud5cc\ud130"
       ]
      },
      {
       "output_type": "stream",
       "stream": "stdout",
       "text": [
        " \uc6b4\ub3d9\n",
        "\uc778\ubca0\uc774\ub354\ud5cc\ud130"
       ]
      },
      {
       "output_type": "stream",
       "stream": "stdout",
       "text": [
        " \uad50\uc721\n",
        "\uc778\ubca0\uc774\ub354\ud5cc\ud130"
       ]
      },
      {
       "output_type": "stream",
       "stream": "stdout",
       "text": [
        " \uad50\ud1b5\n",
        "\uc778\ubca0\uc774\ub354\ud5cc\ud130"
       ]
      },
      {
       "output_type": "stream",
       "stream": "stdout",
       "text": [
        " \uae08\uc735\n",
        "\uc778\ubca0\uc774\ub354\ud5cc\ud130"
       ]
      },
      {
       "output_type": "stream",
       "stream": "stdout",
       "text": [
        " \ub0a0\uc528\n",
        "\uc778\ubca0\uc774\ub354\ud5cc\ud130"
       ]
      },
      {
       "output_type": "stream",
       "stream": "stdout",
       "text": [
        " \ub274\uc2a4\n",
        "\uc778\ubca0\uc774\ub354\ud5cc\ud130 \uc7a1\uc9c0\n",
        "\uc778\ubca0\uc774\ub354\ud5cc\ud130"
       ]
      },
      {
       "output_type": "stream",
       "stream": "stdout",
       "text": [
        " \ub370\ucf54\ub808\uc774\uc158\n",
        "\uc778\ubca0\uc774\ub354\ud5cc\ud130"
       ]
      },
      {
       "output_type": "stream",
       "stream": "stdout",
       "text": [
        " \ub3c4\uad6c\n",
        "\uc778\ubca0\uc774\ub354\ud5cc\ud130"
       ]
      },
      {
       "output_type": "stream",
       "stream": "stdout",
       "text": [
        " \ub3c4\uc11c\n",
        "\uc778\ubca0\uc774\ub354\ud5cc\ud130"
       ]
      },
      {
       "output_type": "stream",
       "stream": "stdout",
       "text": [
        " \ucc38\uace0\uc790\ub8cc\n",
        "\uc778\ubca0\uc774\ub354\ud5cc\ud130"
       ]
      },
      {
       "output_type": "stream",
       "stream": "stdout",
       "text": [
        " \ub77c\uc774\ube0c\n",
        "\uc778\ubca0\uc774\ub354\ud5cc\ud130"
       ]
      },
      {
       "output_type": "stream",
       "stream": "stdout",
       "text": [
        " \ubc30\uacbd\ud654\uba74\n",
        "\uc778\ubca0\uc774\ub354\ud5cc\ud130"
       ]
      },
      {
       "output_type": "stream",
       "stream": "stdout",
       "text": [
        " \ub77c\uc774\ube0c\ub7ec\ub9ac\n",
        "\uc778\ubca0\uc774\ub354\ud5cc\ud130"
       ]
      },
      {
       "output_type": "stream",
       "stream": "stdout",
       "text": [
        " \ub370\ubaa8\n",
        "\uc778\ubca0\uc774\ub354\ud5cc\ud130"
       ]
      },
      {
       "output_type": "stream",
       "stream": "stdout",
       "text": [
        " \ub77c\uc774\ud504\uc2a4\ud0c0\uc77c\n",
        "\uc778\ubca0\uc774\ub354\ud5cc\ud130"
       ]
      },
      {
       "output_type": "stream",
       "stream": "stdout",
       "text": [
        " \ub9cc\ud654\n",
        "\uc778\ubca0\uc774\ub354\ud5cc\ud130"
       ]
      },
      {
       "output_type": "stream",
       "stream": "stdout",
       "text": [
        " \ubbf8\ub514\uc5b4\n",
        "\uc778\ubca0\uc774\ub354\ud5cc\ud130"
       ]
      },
      {
       "output_type": "stream",
       "stream": "stdout",
       "text": [
        " \ub3d9\uc601\uc0c1\n",
        "\uc778\ubca0\uc774\ub354\ud5cc\ud130"
       ]
      },
      {
       "output_type": "stream",
       "stream": "stdout",
       "text": [
        " \ube44\uc988\ub2c8\uc2a4\n",
        "\uc778\ubca0\uc774\ub354\ud5cc\ud130"
       ]
      },
      {
       "output_type": "stream",
       "stream": "stdout",
       "text": [
        " \uc0ac\uc9c4\n",
        "\uc778\ubca0\uc774\ub354\ud5cc\ud130"
       ]
      },
      {
       "output_type": "stream",
       "stream": "stdout",
       "text": [
        " \uc0dd\uc0b0\uc131\n",
        "\uc778\ubca0\uc774\ub354\ud5cc\ud130"
       ]
      },
      {
       "output_type": "stream",
       "stream": "stdout",
       "text": [
        " \uc18c\uc15c\n",
        "\uc778\ubca0\uc774\ub354\ud5cc\ud130"
       ]
      },
      {
       "output_type": "stream",
       "stream": "stdout",
       "text": [
        " \ucf58\ud150\uce20\n",
        "\uc778\ubca0\uc774\ub354\ud5cc\ud130 \uc1fc\ud551\n",
        "\uc778\ubca0\uc774\ub354\ud5cc\ud130"
       ]
      },
      {
       "output_type": "stream",
       "stream": "stdout",
       "text": [
        " \uc704\uc82f\n",
        "\uc778\ubca0\uc774\ub354\ud5cc\ud130 \uc790\ub3d9\ucc28\n",
        "\uc778\ubca0\uc774\ub354\ud5cc\ud130"
       ]
      },
      {
       "output_type": "stream",
       "stream": "stdout",
       "text": [
        " \uacbd\uc8fc\n",
        "\uc778\ubca0\uc774\ub354\ud5cc\ud130 \ub2e4\uc774\uc5b4\ud2b8\n",
        "\uc778\ubca0\uc774\ub354\ud5cc\ud130"
       ]
      },
      {
       "output_type": "stream",
       "stream": "stdout",
       "text": [
        " \ub2ec\ub825\n",
        "\uc778\ubca0\uc774\ub354\ud5cc\ud130 \uc0dd\ub9ac\n",
        "\uc778\ubca0\uc774\ub354\ud5cc\ud130"
       ]
      },
      {
       "output_type": "stream",
       "stream": "stdout",
       "text": [
        " \uce98\ub9b0\ub354\n",
        "\uc778\ubca0\uc774\ub354\ud5cc\ud130"
       ]
      },
      {
       "output_type": "stream",
       "stream": "stdout",
       "text": [
        " \uc0ac\uc8fc\ud314\uc790\n",
        "\uc778\ubca0\uc774\ub354\ud5cc\ud130"
       ]
      },
      {
       "output_type": "stream",
       "stream": "stdout",
       "text": [
        " \uad81\ud569\n",
        "\uc778\ubca0\uc774\ub354\ud5cc\ud130"
       ]
      },
      {
       "output_type": "stream",
       "stream": "stdout",
       "text": [
        " \uccb4\uc911\n",
        "\uc778\ubca0\uc774\ub354\ud5cc\ud130"
       ]
      },
      {
       "output_type": "stream",
       "stream": "stdout",
       "text": [
        " \uc0ac\uc804\n",
        "\uc778\ubca0\uc774\ub354\ud5cc\ud130"
       ]
      },
      {
       "output_type": "stream",
       "stream": "stdout",
       "text": [
        " \ucef4\ud4e8\ud130\n",
        "\uc778\ubca0\uc774\ub354\ud5cc\ud130 \ubc31\uacfc\uc0ac\uc804\n",
        "\uc778\ubca0\uc774\ub354\ud5cc\ud130"
       ]
      },
      {
       "output_type": "stream",
       "stream": "stdout",
       "text": [
        " \uae09\uc2dd\n",
        "\uc778\ubca0\uc774\ub354\ud5cc\ud130"
       ]
      },
      {
       "output_type": "stream",
       "stream": "stdout",
       "text": [
        " \ud559\uad50\n",
        "\uc778\ubca0\uc774\ub354\ud5cc\ud130"
       ]
      },
      {
       "output_type": "stream",
       "stream": "stdout",
       "text": [
        " \ucd08\ub4f1\ud559\uad50\n",
        "\uc778\ubca0\uc774\ub354\ud5cc\ud130 \uc911\ud559\uad50\n",
        "\uc778\ubca0\uc774\ub354\ud5cc\ud130"
       ]
      },
      {
       "output_type": "stream",
       "stream": "stdout",
       "text": [
        " \uace0\ub4f1\ud559\uad50\n",
        "\uc778\ubca0\uc774\ub354\ud5cc\ud130"
       ]
      },
      {
       "output_type": "stream",
       "stream": "stdout",
       "text": [
        " \ub300\ud559\uad50\n",
        "\uc778\ubca0\uc774\ub354\ud5cc\ud130"
       ]
      },
      {
       "output_type": "stream",
       "stream": "stdout",
       "text": [
        " Korea\n",
        "\uc778\ubca0\uc774\ub354\ud5cc\ud130"
       ]
      },
      {
       "output_type": "stream",
       "stream": "stdout",
       "text": [
        " \ub124\ube44\uac8c\uc774\uc158\n",
        "\uc778\ubca0\uc774\ub354\ud5cc\ud130"
       ]
      },
      {
       "output_type": "stream",
       "stream": "stdout",
       "text": [
        " \uc9c0\ud558\ucca0\n",
        "\uc778\ubca0\uc774\ub354\ud5cc\ud130 \uc885\uacb0\uc790\n",
        "\uc778\ubca0\uc774\ub354\ud5cc\ud130"
       ]
      },
      {
       "output_type": "stream",
       "stream": "stdout",
       "text": [
        " \ub0b4\ube44\n",
        "\uc778\ubca0\uc774\ub354\ud5cc\ud130"
       ]
      },
      {
       "output_type": "stream",
       "stream": "stdout",
       "text": [
        " \uac00\uacc4\ubd80\n",
        "\uc778\ubca0\uc774\ub354\ud5cc\ud130"
       ]
      },
      {
       "output_type": "stream",
       "stream": "stdout",
       "text": [
        " Money\n",
        "\uc778\ubca0\uc774\ub354\ud5cc\ud130"
       ]
      },
      {
       "output_type": "stream",
       "stream": "stdout",
       "text": [
        " \uc2a4\ub9c8\ud2b8\n",
        "\uc778\ubca0\uc774\ub354\ud5cc\ud130"
       ]
      },
      {
       "output_type": "stream",
       "stream": "stdout",
       "text": [
        " \uacc4\uc0b0\uae30\n",
        "\uc778\ubca0\uc774\ub354\ud5cc\ud130"
       ]
      },
      {
       "output_type": "stream",
       "stream": "stdout",
       "text": [
        " \uc740\ud589\n",
        "\uc778\ubca0\uc774\ub354\ud5cc\ud130 \uac80\uc0c9\uc5b4\n",
        "\uc778\ubca0\uc774\ub354\ud5cc\ud130"
       ]
      },
      {
       "output_type": "stream",
       "stream": "stdout",
       "text": [
        " \uc2e4\uc2dc\uac04\n",
        "\uc778\ubca0\uc774\ub354\ud5cc\ud130"
       ]
      },
      {
       "output_type": "stream",
       "stream": "stdout",
       "text": [
        " \uc2e0\ubb38\n",
        "\uc778\ubca0\uc774\ub354\ud5cc\ud130"
       ]
      },
      {
       "output_type": "stream",
       "stream": "stdout",
       "text": [
        " \ud074\ub798\uc2dd\n",
        "\uc778\ubca0\uc774\ub354\ud5cc\ud130"
       ]
      },
      {
       "output_type": "stream",
       "stream": "stdout",
       "text": [
        " \ub7f0\ucc98\n",
        "\uc778\ubca0\uc774\ub354\ud5cc\ud130"
       ]
      },
      {
       "output_type": "stream",
       "stream": "stdout",
       "text": [
        " \uc8fc\uc18c\ub85d\n",
        "\uc778\ubca0\uc774\ub354\ud5cc\ud130"
       ]
      },
      {
       "output_type": "stream",
       "stream": "stdout",
       "text": [
        " \ud3f0\n",
        "\uc778\ubca0\uc774\ub354\ud5cc\ud130"
       ]
      },
      {
       "output_type": "stream",
       "stream": "stdout",
       "text": [
        " \ubc14\uc774\ub7ec\uc2a4\n",
        "\uc778\ubca0\uc774\ub354\ud5cc\ud130"
       ]
      },
      {
       "output_type": "stream",
       "stream": "stdout",
       "text": [
        " \ubcf4\uc548\n",
        "\uc778\ubca0\uc774\ub354\ud5cc\ud130"
       ]
      },
      {
       "output_type": "stream",
       "stream": "stdout",
       "text": [
        " \uc131\uacbd\n",
        "\uc778\ubca0\uc774\ub354\ud5cc\ud130"
       ]
      },
      {
       "output_type": "stream",
       "stream": "stdout",
       "text": [
        " \ucc2c\uc1a1\n",
        "\uc778\ubca0\uc774\ub354\ud5cc\ud130"
       ]
      },
      {
       "output_type": "stream",
       "stream": "stdout",
       "text": [
        " \ubc14\uc774\ube14\n",
        "\uc778\ubca0\uc774\ub354\ud5cc\ud130"
       ]
      },
      {
       "output_type": "stream",
       "stream": "stdout",
       "text": [
        " \ubc31\uc2e0\n",
        "\uc778\ubca0\uc774\ub354\ud5cc\ud130"
       ]
      },
      {
       "output_type": "stream",
       "stream": "stdout",
       "text": [
        " \uc6f9\n",
        "\uc778\ubca0\uc774\ub354\ud5cc\ud130"
       ]
      },
      {
       "output_type": "stream",
       "stream": "stdout",
       "text": [
        " \uc2a4\ud2f0\ucee4\n",
        "\uc778\ubca0\uc774\ub354\ud5cc\ud130"
       ]
      },
      {
       "output_type": "stream",
       "stream": "stdout",
       "text": [
        " \uc0ac\uc8fc\n",
        "\uc778\ubca0\uc774\ub354\ud5cc\ud130"
       ]
      },
      {
       "output_type": "stream",
       "stream": "stdout",
       "text": [
        " \uc6b4\uc138\n",
        "\uc778\ubca0\uc774\ub354\ud5cc\ud130"
       ]
      },
      {
       "output_type": "stream",
       "stream": "stdout",
       "text": [
        " \ucf54\ubbf9\n",
        "\uc778\ubca0\uc774\ub354\ud5cc\ud130"
       ]
      },
      {
       "output_type": "stream",
       "stream": "stdout",
       "text": [
        " 3D\n",
        "\uc778\ubca0\uc774\ub354\ud5cc\ud130"
       ]
      },
      {
       "output_type": "stream",
       "stream": "stdout",
       "text": [
        " \ubcc4\uc790\ub9ac\n",
        "\uc778\ubca0\uc774\ub354\ud5cc\ud130"
       ]
      },
      {
       "output_type": "stream",
       "stream": "stdout",
       "text": [
        " tool\n",
        "\uc778\ubca0\uc774\ub354\ud5cc\ud130 \uc6f9\ud230\n",
        "\uc778\ubca0\uc774\ub354\ud5cc\ud130"
       ]
      },
      {
       "output_type": "stream",
       "stream": "stdout",
       "text": [
        " sex\n",
        "\uc778\ubca0\uc774\ub354\ud5cc\ud130 \ud50c\ub808\uc774\uc5b4\n",
        "\uc778\ubca0\uc774\ub354\ud5cc\ud130"
       ]
      },
      {
       "output_type": "stream",
       "stream": "stdout",
       "text": [
        " \uce74\uba54\ub77c\n",
        "\uc778\ubca0\uc774\ub354\ud5cc\ud130 \ubca8\uc18c\ub9ac\n",
        "\uc778\ubca0\uc774\ub354\ud5cc\ud130"
       ]
      },
      {
       "output_type": "stream",
       "stream": "stdout",
       "text": [
        " \uc57c\ub3d9\n",
        "\uc778\ubca0\uc774\ub354\ud5cc\ud130"
       ]
      },
      {
       "output_type": "stream",
       "stream": "stdout",
       "text": [
        " \ud55c\uae00\n",
        "\uc778\ubca0\uc774\ub354\ud5cc\ud130"
       ]
      },
      {
       "output_type": "stream",
       "stream": "stdout",
       "text": [
        " \uc624\ud53c\uc2a4\n",
        "\uc778\ubca0\uc774\ub354\ud5cc\ud130"
       ]
      },
      {
       "output_type": "stream",
       "stream": "stdout",
       "text": [
        " offic\n",
        "\uc778\ubca0\uc774\ub354\ud5cc\ud130"
       ]
      },
      {
       "output_type": "stream",
       "stream": "stdout",
       "text": [
        " \uc54c\ubc14\n",
        "\uc778\ubca0\uc774\ub354\ud5cc\ud130"
       ]
      },
      {
       "output_type": "stream",
       "stream": "stdout",
       "text": [
        " photo\n",
        "\uc778\ubca0\uc774\ub354\ud5cc\ud130"
       ]
      },
      {
       "output_type": "stream",
       "stream": "stdout",
       "text": [
        " \ub4dc\ub77c\uc774\ube0c\n",
        "\uc778\ubca0\uc774\ub354\ud5cc\ud130 \ud30c\uc77c\n",
        "\uc778\ubca0\uc774\ub354\ud5cc\ud130"
       ]
      },
      {
       "output_type": "stream",
       "stream": "stdout",
       "text": [
        " \uac24\ub7ec\ub9ac\n",
        "\uc778\ubca0\uc774\ub354\ud5cc\ud130 \uadf8\ub8f9\n",
        "\uc778\ubca0\uc774\ub354\ud5cc\ud130"
       ]
      },
      {
       "output_type": "stream",
       "stream": "stdout",
       "text": [
        " \ubc14\ucf54\ub4dc\n",
        "\uc778\ubca0\uc774\ub354\ud5cc\ud130 \uc2a4\uce90\ub108\n",
        "\uc778\ubca0\uc774\ub354\ud5cc\ud130"
       ]
      },
      {
       "output_type": "stream",
       "stream": "stdout",
       "text": [
        " \uc18c\uc15c\ucee4\uba38\uc2a4\n",
        "\uc778\ubca0\uc774\ub354\ud5cc\ud130"
       ]
      },
      {
       "output_type": "stream",
       "stream": "stdout",
       "text": [
        " \uc18c\uc15c\n",
        "GTA Vice City Cheater \ud37c\uc990\n",
        "GTA Vice City Cheater"
       ]
      },
      {
       "output_type": "stream",
       "stream": "stdout",
       "text": [
        " \uce90\uc8fc\uc5bc\n",
        "GTA Vice City Cheater \uc544\ucf00\uc774\ub4dc\n",
        "GTA Vice City Cheater"
       ]
      },
      {
       "output_type": "stream",
       "stream": "stdout",
       "text": [
        " \uacf5\ub7b5\uc9d1\n",
        "GTA Vice City Cheater \ub808\uc774\uc2f1\n",
        "GTA Vice City Cheater"
       ]
      },
      {
       "output_type": "stream",
       "stream": "stdout",
       "text": [
        " RPG\n",
        "GTA Vice City Cheater"
       ]
      },
      {
       "output_type": "stream",
       "stream": "stdout",
       "text": [
        " \uce74\ub4dc\n",
        "GTA Vice City Cheater \uc131\uc778\n",
        "GTA Vice City Cheater"
       ]
      },
      {
       "output_type": "stream",
       "stream": "stdout",
       "text": [
        " \ub514\ud39c\uc2a4\n",
        "GTA Vice City Cheater \ub450\ub1cc\n",
        "GTA Vice City Cheater"
       ]
      },
      {
       "output_type": "stream",
       "stream": "stdout",
       "text": [
        " \uc2dc\ubbac\n",
        "GTA Vice City Cheater"
       ]
      },
      {
       "output_type": "stream",
       "stream": "stdout",
       "text": [
        " \ub2ec\ub9ac\uae30\n",
        "GTA Vice City Cheater \uc288\ud305\n",
        "GTA Vice City Cheater"
       ]
      },
      {
       "output_type": "stream",
       "stream": "stdout",
       "text": [
        " \ucd95\uad6c\n",
        "GTA Vice City Cheater \uacbd\uc601\n",
        "GTA Vice City Cheater"
       ]
      },
      {
       "output_type": "stream",
       "stream": "stdout",
       "text": [
        " \ud0c0\uc774\ucfe4\n",
        "GTA Vice City Cheater"
       ]
      },
      {
       "output_type": "stream",
       "stream": "stdout",
       "text": [
        " \ud0c8\ucd9c\n",
        "GTA Vice City Cheater \ucd94\ub9ac\n",
        "GTA Vice City Cheater"
       ]
      },
      {
       "output_type": "stream",
       "stream": "stdout",
       "text": [
        " \uc7a5\uae30\n",
        "GTA Vice City Cheater"
       ]
      },
      {
       "output_type": "stream",
       "stream": "stdout",
       "text": [
        " \ube44\ud589\uae30\n",
        "GTA Vice City Cheater"
       ]
      },
      {
       "output_type": "stream",
       "stream": "stdout",
       "text": [
        " \uc0ac\ucc9c\uc131\n",
        "GTA Vice City Cheater \uc2a4\ud3ec\uce20\n",
        "GTA Vice City Cheater"
       ]
      },
      {
       "output_type": "stream",
       "stream": "stdout",
       "text": [
        " \ub18d\uad6c\n",
        "GTA Vice City Cheater \ub09a\uc2dc\n",
        "GTA Vice City Cheater"
       ]
      },
      {
       "output_type": "stream",
       "stream": "stdout",
       "text": [
        " \uc74c\uc545\n",
        "GTA Vice City Cheater"
       ]
      },
      {
       "output_type": "stream",
       "stream": "stdout",
       "text": [
        " \uce74\ud1a1\n",
        "GTA Vice City Cheater \uace8\ud504\n",
        "GTA Vice City Cheater"
       ]
      },
      {
       "output_type": "stream",
       "stream": "stdout",
       "text": [
        " \ub2f9\uad6c\n",
        "GTA Vice City Cheater"
       ]
      },
      {
       "output_type": "stream",
       "stream": "stdout",
       "text": [
        " \uc57c\uad6c\n",
        "GTA Vice City Cheater"
       ]
      },
      {
       "output_type": "stream",
       "stream": "stdout",
       "text": [
        " \ubcfc\ub9c1\n",
        "GTA Vice City Cheater \ud14c\uc774\uc2a4\n",
        "GTA Vice City Cheater"
       ]
      },
      {
       "output_type": "stream",
       "stream": "stdout",
       "text": [
        " \uc0bc\uad6d\uc9c0\n",
        "GTA Vice City Cheater TCG\n",
        "GTA Vice City Cheater"
       ]
      },
      {
       "output_type": "stream",
       "stream": "stdout",
       "text": [
        " \uc804\uc7c1\n",
        "GTA Vice City Cheater \uac74\uac15\n",
        "GTA Vice City Cheater"
       ]
      },
      {
       "output_type": "stream",
       "stream": "stdout",
       "text": [
        " \uc6b4\ub3d9\n",
        "GTA Vice City Cheater \uad50\uc721\n",
        "GTA Vice City Cheater"
       ]
      },
      {
       "output_type": "stream",
       "stream": "stdout",
       "text": [
        " \uad50\ud1b5\n",
        "GTA Vice City Cheater \uae08\uc735\n",
        "GTA Vice City Cheater"
       ]
      },
      {
       "output_type": "stream",
       "stream": "stdout",
       "text": [
        " \ub0a0\uc528\n",
        "GTA Vice City Cheater \ub274\uc2a4\n",
        "GTA Vice City Cheater"
       ]
      },
      {
       "output_type": "stream",
       "stream": "stdout",
       "text": [
        " \uc7a1\uc9c0\n",
        "GTA Vice City Cheater"
       ]
      },
      {
       "output_type": "stream",
       "stream": "stdout",
       "text": [
        " \ub370\ucf54\ub808\uc774\uc158\n",
        "GTA Vice City Cheater \ub3c4\uad6c\n",
        "GTA Vice City Cheater"
       ]
      },
      {
       "output_type": "stream",
       "stream": "stdout",
       "text": [
        " \ub3c4\uc11c\n",
        "GTA Vice City Cheater \ucc38\uace0\uc790\ub8cc\n",
        "GTA Vice City Cheater"
       ]
      },
      {
       "output_type": "stream",
       "stream": "stdout",
       "text": [
        " \ub77c\uc774\ube0c\n",
        "GTA Vice City Cheater"
       ]
      },
      {
       "output_type": "stream",
       "stream": "stdout",
       "text": [
        " \ubc30\uacbd\ud654\uba74\n",
        "GTA Vice City Cheater \ub77c\uc774\ube0c\ub7ec\ub9ac\n",
        "GTA Vice City Cheater"
       ]
      },
      {
       "output_type": "stream",
       "stream": "stdout",
       "text": [
        " \ub370\ubaa8\n",
        "GTA Vice City Cheater \ub77c\uc774\ud504\uc2a4\ud0c0\uc77c\n",
        "GTA Vice City Cheater"
       ]
      },
      {
       "output_type": "stream",
       "stream": "stdout",
       "text": [
        " \ub9cc\ud654\n",
        "GTA Vice City Cheater \ubbf8\ub514\uc5b4\n",
        "GTA Vice City Cheater"
       ]
      },
      {
       "output_type": "stream",
       "stream": "stdout",
       "text": [
        " \ub3d9\uc601\uc0c1\n",
        "GTA Vice City Cheater \ube44\uc988\ub2c8\uc2a4\n",
        "GTA Vice City Cheater"
       ]
      },
      {
       "output_type": "stream",
       "stream": "stdout",
       "text": [
        " \uc0ac\uc9c4\n",
        "GTA Vice City Cheater"
       ]
      },
      {
       "output_type": "stream",
       "stream": "stdout",
       "text": [
        " \uc0dd\uc0b0\uc131\n",
        "GTA Vice City Cheater"
       ]
      },
      {
       "output_type": "stream",
       "stream": "stdout",
       "text": [
        " \uc18c\uc15c\n",
        "GTA Vice City Cheater \ucf58\ud150\uce20\n",
        "GTA Vice City Cheater"
       ]
      },
      {
       "output_type": "stream",
       "stream": "stdout",
       "text": [
        " \uc1fc\ud551\n",
        "GTA Vice City Cheater"
       ]
      },
      {
       "output_type": "stream",
       "stream": "stdout",
       "text": [
        " \uc704\uc82f\n",
        "GTA Vice City Cheater"
       ]
      },
      {
       "output_type": "stream",
       "stream": "stdout",
       "text": [
        " \uc790\ub3d9\ucc28\n",
        "GTA Vice City Cheater \uacbd\uc8fc\n",
        "GTA Vice City Cheater"
       ]
      },
      {
       "output_type": "stream",
       "stream": "stdout",
       "text": [
        " \ub2e4\uc774\uc5b4\ud2b8\n",
        "GTA Vice City Cheater"
       ]
      },
      {
       "output_type": "stream",
       "stream": "stdout",
       "text": [
        " \ub2ec\ub825\n",
        "GTA Vice City Cheater \uc0dd\ub9ac\n",
        "GTA Vice City Cheater"
       ]
      },
      {
       "output_type": "stream",
       "stream": "stdout",
       "text": [
        " \uce98\ub9b0\ub354\n",
        "GTA Vice City Cheater \uc0ac\uc8fc\ud314\uc790\n",
        "GTA Vice City Cheater"
       ]
      },
      {
       "output_type": "stream",
       "stream": "stdout",
       "text": [
        " \uad81\ud569\n",
        "GTA Vice City Cheater \uccb4\uc911\n",
        "GTA Vice City Cheater"
       ]
      },
      {
       "output_type": "stream",
       "stream": "stdout",
       "text": [
        " \uc0ac\uc804\n",
        "GTA Vice City Cheater"
       ]
      },
      {
       "output_type": "stream",
       "stream": "stdout",
       "text": [
        " \ucef4\ud4e8\ud130\n",
        "GTA Vice City Cheater"
       ]
      },
      {
       "output_type": "stream",
       "stream": "stdout",
       "text": [
        " \ubc31\uacfc\uc0ac\uc804\n",
        "GTA Vice City Cheater"
       ]
      },
      {
       "output_type": "stream",
       "stream": "stdout",
       "text": [
        " \uae09\uc2dd\n",
        "GTA Vice City Cheater \ud559\uad50\n",
        "GTA Vice City Cheater"
       ]
      },
      {
       "output_type": "stream",
       "stream": "stdout",
       "text": [
        " \ucd08\ub4f1\ud559\uad50\n",
        "GTA Vice City Cheater"
       ]
      },
      {
       "output_type": "stream",
       "stream": "stdout",
       "text": [
        " \uc911\ud559\uad50\n",
        "GTA Vice City Cheater"
       ]
      },
      {
       "output_type": "stream",
       "stream": "stdout",
       "text": [
        " \uace0\ub4f1\ud559\uad50\n",
        "GTA Vice City Cheater \ub300\ud559\uad50\n",
        "GTA Vice City Cheater"
       ]
      },
      {
       "output_type": "stream",
       "stream": "stdout",
       "text": [
        " Korea\n",
        "GTA Vice City Cheater \ub124\ube44\uac8c\uc774\uc158\n",
        "GTA Vice City Cheater"
       ]
      },
      {
       "output_type": "stream",
       "stream": "stdout",
       "text": [
        " \uc9c0\ud558\ucca0\n",
        "GTA Vice City Cheater"
       ]
      },
      {
       "output_type": "stream",
       "stream": "stdout",
       "text": [
        " \uc885\uacb0\uc790\n",
        "GTA Vice City Cheater"
       ]
      },
      {
       "output_type": "stream",
       "stream": "stdout",
       "text": [
        " \ub0b4\ube44\n",
        "GTA Vice City Cheater \uac00\uacc4\ubd80\n",
        "GTA Vice City Cheater"
       ]
      },
      {
       "output_type": "stream",
       "stream": "stdout",
       "text": [
        " Money\n",
        "GTA Vice City Cheater \uc2a4\ub9c8\ud2b8\n",
        "GTA Vice City Cheater"
       ]
      },
      {
       "output_type": "stream",
       "stream": "stdout",
       "text": [
        " \uacc4\uc0b0\uae30\n",
        "GTA Vice City Cheater"
       ]
      },
      {
       "output_type": "stream",
       "stream": "stdout",
       "text": [
        " \uc740\ud589\n",
        "GTA Vice City Cheater \uac80\uc0c9\uc5b4\n",
        "GTA Vice City Cheater"
       ]
      },
      {
       "output_type": "stream",
       "stream": "stdout",
       "text": [
        " \uc2e4\uc2dc\uac04\n",
        "GTA Vice City Cheater \uc2e0\ubb38\n",
        "GTA Vice City Cheater"
       ]
      },
      {
       "output_type": "stream",
       "stream": "stdout",
       "text": [
        " \ud074\ub798\uc2dd\n",
        "GTA Vice City Cheater"
       ]
      },
      {
       "output_type": "stream",
       "stream": "stdout",
       "text": [
        " \ub7f0\ucc98\n",
        "GTA Vice City Cheater \uc8fc\uc18c\ub85d\n",
        "GTA Vice City Cheater"
       ]
      },
      {
       "output_type": "stream",
       "stream": "stdout",
       "text": [
        " \ud3f0\n",
        "GTA Vice City Cheater \ubc14\uc774\ub7ec\uc2a4\n",
        "GTA Vice City Cheater"
       ]
      },
      {
       "output_type": "stream",
       "stream": "stdout",
       "text": [
        " \ubcf4\uc548\n",
        "GTA Vice City Cheater"
       ]
      },
      {
       "output_type": "stream",
       "stream": "stdout",
       "text": [
        " \uc131\uacbd\n",
        "GTA Vice City Cheater"
       ]
      },
      {
       "output_type": "stream",
       "stream": "stdout",
       "text": [
        " \ucc2c\uc1a1\n",
        "GTA Vice City Cheater \ubc14\uc774\ube14\n",
        "GTA Vice City Cheater"
       ]
      },
      {
       "output_type": "stream",
       "stream": "stdout",
       "text": [
        " \ubc31\uc2e0\n",
        "GTA Vice City Cheater \uc6f9\n",
        "GTA Vice City Cheater"
       ]
      },
      {
       "output_type": "stream",
       "stream": "stdout",
       "text": [
        " \uc2a4\ud2f0\ucee4\n",
        "GTA Vice City Cheater \uc0ac\uc8fc\n",
        "GTA Vice City Cheater"
       ]
      },
      {
       "output_type": "stream",
       "stream": "stdout",
       "text": [
        " \uc6b4\uc138\n",
        "GTA Vice City Cheater \ucf54\ubbf9\n",
        "GTA Vice City Cheater"
       ]
      },
      {
       "output_type": "stream",
       "stream": "stdout",
       "text": [
        " 3D\n",
        "GTA Vice City Cheater \ubcc4\uc790\ub9ac\n",
        "GTA Vice City Cheater"
       ]
      },
      {
       "output_type": "stream",
       "stream": "stdout",
       "text": [
        " tool\n",
        "GTA Vice City Cheater \uc6f9\ud230\n",
        "GTA Vice City Cheater"
       ]
      },
      {
       "output_type": "stream",
       "stream": "stdout",
       "text": [
        " sex\n",
        "GTA Vice City Cheater \ud50c\ub808\uc774\uc5b4\n",
        "GTA Vice City Cheater"
       ]
      },
      {
       "output_type": "stream",
       "stream": "stdout",
       "text": [
        " \uce74\uba54\ub77c\n",
        "GTA Vice City Cheater"
       ]
      },
      {
       "output_type": "stream",
       "stream": "stdout",
       "text": [
        " \ubca8\uc18c\ub9ac\n",
        "GTA Vice City Cheater \uc57c\ub3d9\n",
        "GTA Vice City Cheater"
       ]
      },
      {
       "output_type": "stream",
       "stream": "stdout",
       "text": [
        " \ud55c\uae00\n",
        "GTA Vice City Cheater"
       ]
      },
      {
       "output_type": "stream",
       "stream": "stdout",
       "text": [
        " \uc624\ud53c\uc2a4\n",
        "GTA Vice City Cheater"
       ]
      },
      {
       "output_type": "stream",
       "stream": "stdout",
       "text": [
        " offic\n",
        "GTA Vice City Cheater \uc54c\ubc14\n",
        "GTA Vice City Cheater"
       ]
      },
      {
       "output_type": "stream",
       "stream": "stdout",
       "text": [
        " photo\n",
        "GTA Vice City Cheater"
       ]
      },
      {
       "output_type": "stream",
       "stream": "stdout",
       "text": [
        " \ub4dc\ub77c\uc774\ube0c\n",
        "GTA Vice City Cheater \ud30c\uc77c\n",
        "GTA Vice City Cheater"
       ]
      },
      {
       "output_type": "stream",
       "stream": "stdout",
       "text": [
        " \uac24\ub7ec\ub9ac\n",
        "GTA Vice City Cheater \uadf8\ub8f9\n",
        "GTA Vice City Cheater"
       ]
      },
      {
       "output_type": "stream",
       "stream": "stdout",
       "text": [
        " \ubc14\ucf54\ub4dc\n",
        "GTA Vice City Cheater"
       ]
      },
      {
       "output_type": "stream",
       "stream": "stdout",
       "text": [
        " \uc2a4\uce90\ub108\n",
        "GTA Vice City Cheater"
       ]
      },
      {
       "output_type": "stream",
       "stream": "stdout",
       "text": [
        " \uc18c\uc15c\ucee4\uba38\uc2a4\n",
        "GTA Vice City Cheater \uc18c\uc15c\n",
        "\uc5d8\uc18c\ub4dc \uc2a4\ud0ac\ud2b8\ub9ac(\uc544\ub77c)"
       ]
      },
      {
       "output_type": "stream",
       "stream": "stdout",
       "text": [
        " \ud37c\uc990\n",
        "\uc5d8\uc18c\ub4dc \uc2a4\ud0ac\ud2b8\ub9ac(\uc544\ub77c) \uce90\uc8fc\uc5bc\n",
        "\uc5d8\uc18c\ub4dc \uc2a4\ud0ac\ud2b8\ub9ac(\uc544\ub77c)"
       ]
      },
      {
       "output_type": "stream",
       "stream": "stdout",
       "text": [
        " \uc544\ucf00\uc774\ub4dc\n",
        "\uc5d8\uc18c\ub4dc \uc2a4\ud0ac\ud2b8\ub9ac(\uc544\ub77c)"
       ]
      },
      {
       "output_type": "stream",
       "stream": "stdout",
       "text": [
        " \uacf5\ub7b5\uc9d1\n",
        "\uc5d8\uc18c\ub4dc \uc2a4\ud0ac\ud2b8\ub9ac(\uc544\ub77c)"
       ]
      },
      {
       "output_type": "stream",
       "stream": "stdout",
       "text": [
        " \ub808\uc774\uc2f1\n",
        "\uc5d8\uc18c\ub4dc \uc2a4\ud0ac\ud2b8\ub9ac(\uc544\ub77c)"
       ]
      },
      {
       "output_type": "stream",
       "stream": "stdout",
       "text": [
        " RPG\n",
        "\uc5d8\uc18c\ub4dc \uc2a4\ud0ac\ud2b8\ub9ac(\uc544\ub77c) \uce74\ub4dc\n",
        "\uc5d8\uc18c\ub4dc \uc2a4\ud0ac\ud2b8\ub9ac(\uc544\ub77c)"
       ]
      },
      {
       "output_type": "stream",
       "stream": "stdout",
       "text": [
        " \uc131\uc778\n",
        "\uc5d8\uc18c\ub4dc \uc2a4\ud0ac\ud2b8\ub9ac(\uc544\ub77c) \ub514\ud39c\uc2a4\n",
        "\uc5d8\uc18c\ub4dc \uc2a4\ud0ac\ud2b8\ub9ac(\uc544\ub77c)"
       ]
      },
      {
       "output_type": "stream",
       "stream": "stdout",
       "text": [
        " \ub450\ub1cc\n",
        "\uc5d8\uc18c\ub4dc \uc2a4\ud0ac\ud2b8\ub9ac(\uc544\ub77c)"
       ]
      },
      {
       "output_type": "stream",
       "stream": "stdout",
       "text": [
        " \uc2dc\ubbac\n",
        "\uc5d8\uc18c\ub4dc \uc2a4\ud0ac\ud2b8\ub9ac(\uc544\ub77c) \ub2ec\ub9ac\uae30\n",
        "\uc5d8\uc18c\ub4dc \uc2a4\ud0ac\ud2b8\ub9ac(\uc544\ub77c)"
       ]
      },
      {
       "output_type": "stream",
       "stream": "stdout",
       "text": [
        " \uc288\ud305\n",
        "\uc5d8\uc18c\ub4dc \uc2a4\ud0ac\ud2b8\ub9ac(\uc544\ub77c) \ucd95\uad6c\n",
        "\uc5d8\uc18c\ub4dc \uc2a4\ud0ac\ud2b8\ub9ac(\uc544\ub77c)"
       ]
      },
      {
       "output_type": "stream",
       "stream": "stdout",
       "text": [
        " \uacbd\uc601\n",
        "\uc5d8\uc18c\ub4dc \uc2a4\ud0ac\ud2b8\ub9ac(\uc544\ub77c)"
       ]
      },
      {
       "output_type": "stream",
       "stream": "stdout",
       "text": [
        " \ud0c0\uc774\ucfe4\n",
        "\uc5d8\uc18c\ub4dc \uc2a4\ud0ac\ud2b8\ub9ac(\uc544\ub77c) \ud0c8\ucd9c\n",
        "\uc5d8\uc18c\ub4dc \uc2a4\ud0ac\ud2b8\ub9ac(\uc544\ub77c)"
       ]
      },
      {
       "output_type": "stream",
       "stream": "stdout",
       "text": [
        " \ucd94\ub9ac\n",
        "\uc5d8\uc18c\ub4dc \uc2a4\ud0ac\ud2b8\ub9ac(\uc544\ub77c)"
       ]
      },
      {
       "output_type": "stream",
       "stream": "stdout",
       "text": [
        " \uc7a5\uae30\n",
        "\uc5d8\uc18c\ub4dc \uc2a4\ud0ac\ud2b8\ub9ac(\uc544\ub77c) \ube44\ud589\uae30\n",
        "\uc5d8\uc18c\ub4dc \uc2a4\ud0ac\ud2b8\ub9ac(\uc544\ub77c)"
       ]
      },
      {
       "output_type": "stream",
       "stream": "stdout",
       "text": [
        " \uc0ac\ucc9c\uc131\n",
        "\uc5d8\uc18c\ub4dc \uc2a4\ud0ac\ud2b8\ub9ac(\uc544\ub77c) \uc2a4\ud3ec\uce20\n",
        "\uc5d8\uc18c\ub4dc \uc2a4\ud0ac\ud2b8\ub9ac(\uc544\ub77c)"
       ]
      },
      {
       "output_type": "stream",
       "stream": "stdout",
       "text": [
        " \ub18d\uad6c\n",
        "\uc5d8\uc18c\ub4dc \uc2a4\ud0ac\ud2b8\ub9ac(\uc544\ub77c) \ub09a\uc2dc\n",
        "\uc5d8\uc18c\ub4dc \uc2a4\ud0ac\ud2b8\ub9ac(\uc544\ub77c)"
       ]
      },
      {
       "output_type": "stream",
       "stream": "stdout",
       "text": [
        " \uc74c\uc545\n",
        "\uc5d8\uc18c\ub4dc \uc2a4\ud0ac\ud2b8\ub9ac(\uc544\ub77c)"
       ]
      },
      {
       "output_type": "stream",
       "stream": "stdout",
       "text": [
        " \uce74\ud1a1\n",
        "\uc5d8\uc18c\ub4dc \uc2a4\ud0ac\ud2b8\ub9ac(\uc544\ub77c) \uace8\ud504\n",
        "\uc5d8\uc18c\ub4dc \uc2a4\ud0ac\ud2b8\ub9ac(\uc544\ub77c)"
       ]
      },
      {
       "output_type": "stream",
       "stream": "stdout",
       "text": [
        " \ub2f9\uad6c\n",
        "\uc5d8\uc18c\ub4dc \uc2a4\ud0ac\ud2b8\ub9ac(\uc544\ub77c) \uc57c\uad6c\n",
        "\uc5d8\uc18c\ub4dc \uc2a4\ud0ac\ud2b8\ub9ac(\uc544\ub77c)"
       ]
      },
      {
       "output_type": "stream",
       "stream": "stdout",
       "text": [
        " \ubcfc\ub9c1\n",
        "\uc5d8\uc18c\ub4dc \uc2a4\ud0ac\ud2b8\ub9ac(\uc544\ub77c) \ud14c\uc774\uc2a4\n",
        "\uc5d8\uc18c\ub4dc \uc2a4\ud0ac\ud2b8\ub9ac(\uc544\ub77c)"
       ]
      },
      {
       "output_type": "stream",
       "stream": "stdout",
       "text": [
        " \uc0bc\uad6d\uc9c0\n",
        "\uc5d8\uc18c\ub4dc \uc2a4\ud0ac\ud2b8\ub9ac(\uc544\ub77c) TCG\n",
        "\uc5d8\uc18c\ub4dc \uc2a4\ud0ac\ud2b8\ub9ac(\uc544\ub77c)"
       ]
      },
      {
       "output_type": "stream",
       "stream": "stdout",
       "text": [
        " \uc804\uc7c1\n",
        "\uc5d8\uc18c\ub4dc \uc2a4\ud0ac\ud2b8\ub9ac(\uc544\ub77c) \uac74\uac15\n",
        "\uc5d8\uc18c\ub4dc \uc2a4\ud0ac\ud2b8\ub9ac(\uc544\ub77c)"
       ]
      },
      {
       "output_type": "stream",
       "stream": "stdout",
       "text": [
        " \uc6b4\ub3d9\n",
        "\uc5d8\uc18c\ub4dc \uc2a4\ud0ac\ud2b8\ub9ac(\uc544\ub77c)"
       ]
      },
      {
       "output_type": "stream",
       "stream": "stdout",
       "text": [
        " \uad50\uc721\n",
        "\uc5d8\uc18c\ub4dc \uc2a4\ud0ac\ud2b8\ub9ac(\uc544\ub77c) \uad50\ud1b5\n",
        "\uc5d8\uc18c\ub4dc \uc2a4\ud0ac\ud2b8\ub9ac(\uc544\ub77c)"
       ]
      },
      {
       "output_type": "stream",
       "stream": "stdout",
       "text": [
        " \uae08\uc735\n",
        "\uc5d8\uc18c\ub4dc \uc2a4\ud0ac\ud2b8\ub9ac(\uc544\ub77c)"
       ]
      },
      {
       "output_type": "stream",
       "stream": "stdout",
       "text": [
        " \ub0a0\uc528\n",
        "\uc5d8\uc18c\ub4dc \uc2a4\ud0ac\ud2b8\ub9ac(\uc544\ub77c)"
       ]
      },
      {
       "output_type": "stream",
       "stream": "stdout",
       "text": [
        " \ub274\uc2a4\n",
        "\uc5d8\uc18c\ub4dc \uc2a4\ud0ac\ud2b8\ub9ac(\uc544\ub77c)"
       ]
      },
      {
       "output_type": "stream",
       "stream": "stdout",
       "text": [
        " \uc7a1\uc9c0\n",
        "\uc5d8\uc18c\ub4dc \uc2a4\ud0ac\ud2b8\ub9ac(\uc544\ub77c) \ub370\ucf54\ub808\uc774\uc158\n",
        "\uc5d8\uc18c\ub4dc \uc2a4\ud0ac\ud2b8\ub9ac(\uc544\ub77c)"
       ]
      },
      {
       "output_type": "stream",
       "stream": "stdout",
       "text": [
        " \ub3c4\uad6c\n",
        "\uc5d8\uc18c\ub4dc \uc2a4\ud0ac\ud2b8\ub9ac(\uc544\ub77c) \ub3c4\uc11c\n",
        "\uc5d8\uc18c\ub4dc \uc2a4\ud0ac\ud2b8\ub9ac(\uc544\ub77c)"
       ]
      },
      {
       "output_type": "stream",
       "stream": "stdout",
       "text": [
        " \ucc38\uace0\uc790\ub8cc\n",
        "\uc5d8\uc18c\ub4dc \uc2a4\ud0ac\ud2b8\ub9ac(\uc544\ub77c)"
       ]
      },
      {
       "output_type": "stream",
       "stream": "stdout",
       "text": [
        " \ub77c\uc774\ube0c\n",
        "\uc5d8\uc18c\ub4dc \uc2a4\ud0ac\ud2b8\ub9ac(\uc544\ub77c)"
       ]
      },
      {
       "output_type": "stream",
       "stream": "stdout",
       "text": [
        " \ubc30\uacbd\ud654\uba74\n",
        "\uc5d8\uc18c\ub4dc \uc2a4\ud0ac\ud2b8\ub9ac(\uc544\ub77c)"
       ]
      },
      {
       "output_type": "stream",
       "stream": "stdout",
       "text": [
        " \ub77c\uc774\ube0c\ub7ec\ub9ac\n",
        "\uc5d8\uc18c\ub4dc \uc2a4\ud0ac\ud2b8\ub9ac(\uc544\ub77c)"
       ]
      },
      {
       "output_type": "stream",
       "stream": "stdout",
       "text": [
        " \ub370\ubaa8\n",
        "\uc5d8\uc18c\ub4dc \uc2a4\ud0ac\ud2b8\ub9ac(\uc544\ub77c)"
       ]
      },
      {
       "output_type": "stream",
       "stream": "stdout",
       "text": [
        " \ub77c\uc774\ud504\uc2a4\ud0c0\uc77c\n",
        "\uc5d8\uc18c\ub4dc \uc2a4\ud0ac\ud2b8\ub9ac(\uc544\ub77c)"
       ]
      },
      {
       "output_type": "stream",
       "stream": "stdout",
       "text": [
        " \ub9cc\ud654\n",
        "\uc5d8\uc18c\ub4dc \uc2a4\ud0ac\ud2b8\ub9ac(\uc544\ub77c)"
       ]
      },
      {
       "output_type": "stream",
       "stream": "stdout",
       "text": [
        " \ubbf8\ub514\uc5b4\n",
        "\uc5d8\uc18c\ub4dc \uc2a4\ud0ac\ud2b8\ub9ac(\uc544\ub77c) \ub3d9\uc601\uc0c1\n",
        "\uc5d8\uc18c\ub4dc \uc2a4\ud0ac\ud2b8\ub9ac(\uc544\ub77c)"
       ]
      },
      {
       "output_type": "stream",
       "stream": "stdout",
       "text": [
        " \ube44\uc988\ub2c8\uc2a4\n",
        "\uc5d8\uc18c\ub4dc \uc2a4\ud0ac\ud2b8\ub9ac(\uc544\ub77c) \uc0ac\uc9c4\n",
        "\uc5d8\uc18c\ub4dc \uc2a4\ud0ac\ud2b8\ub9ac(\uc544\ub77c)"
       ]
      },
      {
       "output_type": "stream",
       "stream": "stdout",
       "text": [
        " \uc0dd\uc0b0\uc131\n",
        "\uc5d8\uc18c\ub4dc \uc2a4\ud0ac\ud2b8\ub9ac(\uc544\ub77c)"
       ]
      },
      {
       "output_type": "stream",
       "stream": "stdout",
       "text": [
        " \uc18c\uc15c\n",
        "\uc5d8\uc18c\ub4dc \uc2a4\ud0ac\ud2b8\ub9ac(\uc544\ub77c) \ucf58\ud150\uce20\n",
        "\uc5d8\uc18c\ub4dc \uc2a4\ud0ac\ud2b8\ub9ac(\uc544\ub77c)"
       ]
      },
      {
       "output_type": "stream",
       "stream": "stdout",
       "text": [
        " \uc1fc\ud551\n",
        "\uc5d8\uc18c\ub4dc \uc2a4\ud0ac\ud2b8\ub9ac(\uc544\ub77c) \uc704\uc82f\n",
        "\uc5d8\uc18c\ub4dc \uc2a4\ud0ac\ud2b8\ub9ac(\uc544\ub77c)"
       ]
      },
      {
       "output_type": "stream",
       "stream": "stdout",
       "text": [
        " \uc790\ub3d9\ucc28\n",
        "\uc5d8\uc18c\ub4dc \uc2a4\ud0ac\ud2b8\ub9ac(\uc544\ub77c) \uacbd\uc8fc\n",
        "\uc5d8\uc18c\ub4dc \uc2a4\ud0ac\ud2b8\ub9ac(\uc544\ub77c)"
       ]
      },
      {
       "output_type": "stream",
       "stream": "stdout",
       "text": [
        " \ub2e4\uc774\uc5b4\ud2b8\n",
        "\uc5d8\uc18c\ub4dc \uc2a4\ud0ac\ud2b8\ub9ac(\uc544\ub77c) \ub2ec\ub825\n",
        "\uc5d8\uc18c\ub4dc \uc2a4\ud0ac\ud2b8\ub9ac(\uc544\ub77c)"
       ]
      },
      {
       "output_type": "stream",
       "stream": "stdout",
       "text": [
        " \uc0dd\ub9ac\n",
        "\uc5d8\uc18c\ub4dc \uc2a4\ud0ac\ud2b8\ub9ac(\uc544\ub77c) \uce98\ub9b0\ub354\n",
        "\uc5d8\uc18c\ub4dc \uc2a4\ud0ac\ud2b8\ub9ac(\uc544\ub77c)"
       ]
      },
      {
       "output_type": "stream",
       "stream": "stdout",
       "text": [
        " \uc0ac\uc8fc\ud314\uc790\n",
        "\uc5d8\uc18c\ub4dc \uc2a4\ud0ac\ud2b8\ub9ac(\uc544\ub77c)"
       ]
      },
      {
       "output_type": "stream",
       "stream": "stdout",
       "text": [
        " \uad81\ud569\n",
        "\uc5d8\uc18c\ub4dc \uc2a4\ud0ac\ud2b8\ub9ac(\uc544\ub77c) \uccb4\uc911\n",
        "\uc5d8\uc18c\ub4dc \uc2a4\ud0ac\ud2b8\ub9ac(\uc544\ub77c)"
       ]
      },
      {
       "output_type": "stream",
       "stream": "stdout",
       "text": [
        " \uc0ac\uc804\n",
        "\uc5d8\uc18c\ub4dc \uc2a4\ud0ac\ud2b8\ub9ac(\uc544\ub77c)"
       ]
      },
      {
       "output_type": "stream",
       "stream": "stdout",
       "text": [
        " \ucef4\ud4e8\ud130\n",
        "\uc5d8\uc18c\ub4dc \uc2a4\ud0ac\ud2b8\ub9ac(\uc544\ub77c)"
       ]
      },
      {
       "output_type": "stream",
       "stream": "stdout",
       "text": [
        " \ubc31\uacfc\uc0ac\uc804\n",
        "\uc5d8\uc18c\ub4dc \uc2a4\ud0ac\ud2b8\ub9ac(\uc544\ub77c)"
       ]
      },
      {
       "output_type": "stream",
       "stream": "stdout",
       "text": [
        " \uae09\uc2dd\n",
        "\uc5d8\uc18c\ub4dc \uc2a4\ud0ac\ud2b8\ub9ac(\uc544\ub77c)"
       ]
      },
      {
       "output_type": "stream",
       "stream": "stdout",
       "text": [
        " \ud559\uad50\n",
        "\uc5d8\uc18c\ub4dc \uc2a4\ud0ac\ud2b8\ub9ac(\uc544\ub77c)"
       ]
      },
      {
       "output_type": "stream",
       "stream": "stdout",
       "text": [
        " \ucd08\ub4f1\ud559\uad50\n",
        "\uc5d8\uc18c\ub4dc \uc2a4\ud0ac\ud2b8\ub9ac(\uc544\ub77c) \uc911\ud559\uad50\n",
        "\uc5d8\uc18c\ub4dc \uc2a4\ud0ac\ud2b8\ub9ac(\uc544\ub77c)"
       ]
      },
      {
       "output_type": "stream",
       "stream": "stdout",
       "text": [
        " \uace0\ub4f1\ud559\uad50\n",
        "\uc5d8\uc18c\ub4dc \uc2a4\ud0ac\ud2b8\ub9ac(\uc544\ub77c) \ub300\ud559\uad50\n",
        "\uc5d8\uc18c\ub4dc \uc2a4\ud0ac\ud2b8\ub9ac(\uc544\ub77c)"
       ]
      },
      {
       "output_type": "stream",
       "stream": "stdout",
       "text": [
        " Korea\n",
        "\uc5d8\uc18c\ub4dc \uc2a4\ud0ac\ud2b8\ub9ac(\uc544\ub77c)"
       ]
      },
      {
       "output_type": "stream",
       "stream": "stdout",
       "text": [
        " \ub124\ube44\uac8c\uc774\uc158\n",
        "\uc5d8\uc18c\ub4dc \uc2a4\ud0ac\ud2b8\ub9ac(\uc544\ub77c) \uc9c0\ud558\ucca0\n",
        "\uc5d8\uc18c\ub4dc \uc2a4\ud0ac\ud2b8\ub9ac(\uc544\ub77c)"
       ]
      },
      {
       "output_type": "stream",
       "stream": "stdout",
       "text": [
        " \uc885\uacb0\uc790\n",
        "\uc5d8\uc18c\ub4dc \uc2a4\ud0ac\ud2b8\ub9ac(\uc544\ub77c) \ub0b4\ube44\n",
        "\uc5d8\uc18c\ub4dc \uc2a4\ud0ac\ud2b8\ub9ac(\uc544\ub77c)"
       ]
      },
      {
       "output_type": "stream",
       "stream": "stdout",
       "text": [
        " \uac00\uacc4\ubd80\n",
        "\uc5d8\uc18c\ub4dc \uc2a4\ud0ac\ud2b8\ub9ac(\uc544\ub77c) Money\n",
        "\uc5d8\uc18c\ub4dc \uc2a4\ud0ac\ud2b8\ub9ac(\uc544\ub77c)"
       ]
      },
      {
       "output_type": "stream",
       "stream": "stdout",
       "text": [
        " \uc2a4\ub9c8\ud2b8\n",
        "\uc5d8\uc18c\ub4dc \uc2a4\ud0ac\ud2b8\ub9ac(\uc544\ub77c) \uacc4\uc0b0\uae30\n",
        "\uc5d8\uc18c\ub4dc \uc2a4\ud0ac\ud2b8\ub9ac(\uc544\ub77c)"
       ]
      },
      {
       "output_type": "stream",
       "stream": "stdout",
       "text": [
        " \uc740\ud589\n",
        "\uc5d8\uc18c\ub4dc \uc2a4\ud0ac\ud2b8\ub9ac(\uc544\ub77c)"
       ]
      },
      {
       "output_type": "stream",
       "stream": "stdout",
       "text": [
        " \uac80\uc0c9\uc5b4\n",
        "\uc5d8\uc18c\ub4dc \uc2a4\ud0ac\ud2b8\ub9ac(\uc544\ub77c)"
       ]
      },
      {
       "output_type": "stream",
       "stream": "stdout",
       "text": [
        " \uc2e4\uc2dc\uac04\n",
        "\uc5d8\uc18c\ub4dc \uc2a4\ud0ac\ud2b8\ub9ac(\uc544\ub77c) \uc2e0\ubb38\n",
        "\uc5d8\uc18c\ub4dc \uc2a4\ud0ac\ud2b8\ub9ac(\uc544\ub77c)"
       ]
      },
      {
       "output_type": "stream",
       "stream": "stdout",
       "text": [
        " \ud074\ub798\uc2dd\n",
        "\uc5d8\uc18c\ub4dc \uc2a4\ud0ac\ud2b8\ub9ac(\uc544\ub77c)"
       ]
      },
      {
       "output_type": "stream",
       "stream": "stdout",
       "text": [
        " \ub7f0\ucc98\n",
        "\uc5d8\uc18c\ub4dc \uc2a4\ud0ac\ud2b8\ub9ac(\uc544\ub77c) \uc8fc\uc18c\ub85d\n",
        "\uc5d8\uc18c\ub4dc \uc2a4\ud0ac\ud2b8\ub9ac(\uc544\ub77c)"
       ]
      },
      {
       "output_type": "stream",
       "stream": "stdout",
       "text": [
        " \ud3f0\n",
        "\uc5d8\uc18c\ub4dc \uc2a4\ud0ac\ud2b8\ub9ac(\uc544\ub77c)"
       ]
      },
      {
       "output_type": "stream",
       "stream": "stdout",
       "text": [
        " \ubc14\uc774\ub7ec\uc2a4\n",
        "\uc5d8\uc18c\ub4dc \uc2a4\ud0ac\ud2b8\ub9ac(\uc544\ub77c)"
       ]
      },
      {
       "output_type": "stream",
       "stream": "stdout",
       "text": [
        " \ubcf4\uc548\n",
        "\uc5d8\uc18c\ub4dc \uc2a4\ud0ac\ud2b8\ub9ac(\uc544\ub77c)"
       ]
      },
      {
       "output_type": "stream",
       "stream": "stdout",
       "text": [
        " \uc131\uacbd\n",
        "\uc5d8\uc18c\ub4dc \uc2a4\ud0ac\ud2b8\ub9ac(\uc544\ub77c)"
       ]
      },
      {
       "output_type": "stream",
       "stream": "stdout",
       "text": [
        " \ucc2c\uc1a1\n",
        "\uc5d8\uc18c\ub4dc \uc2a4\ud0ac\ud2b8\ub9ac(\uc544\ub77c)"
       ]
      },
      {
       "output_type": "stream",
       "stream": "stdout",
       "text": [
        " \ubc14\uc774\ube14\n",
        "\uc5d8\uc18c\ub4dc \uc2a4\ud0ac\ud2b8\ub9ac(\uc544\ub77c) \ubc31\uc2e0\n",
        "\uc5d8\uc18c\ub4dc \uc2a4\ud0ac\ud2b8\ub9ac(\uc544\ub77c)"
       ]
      },
      {
       "output_type": "stream",
       "stream": "stdout",
       "text": [
        " \uc6f9\n",
        "\uc5d8\uc18c\ub4dc \uc2a4\ud0ac\ud2b8\ub9ac(\uc544\ub77c)"
       ]
      },
      {
       "output_type": "stream",
       "stream": "stdout",
       "text": [
        " \uc2a4\ud2f0\ucee4\n",
        "\uc5d8\uc18c\ub4dc \uc2a4\ud0ac\ud2b8\ub9ac(\uc544\ub77c)"
       ]
      },
      {
       "output_type": "stream",
       "stream": "stdout",
       "text": [
        " \uc0ac\uc8fc\n",
        "\uc5d8\uc18c\ub4dc \uc2a4\ud0ac\ud2b8\ub9ac(\uc544\ub77c)"
       ]
      },
      {
       "output_type": "stream",
       "stream": "stdout",
       "text": [
        " \uc6b4\uc138\n",
        "\uc5d8\uc18c\ub4dc \uc2a4\ud0ac\ud2b8\ub9ac(\uc544\ub77c) \ucf54\ubbf9\n",
        "\uc5d8\uc18c\ub4dc \uc2a4\ud0ac\ud2b8\ub9ac(\uc544\ub77c)"
       ]
      },
      {
       "output_type": "stream",
       "stream": "stdout",
       "text": [
        " 3D\n",
        "\uc5d8\uc18c\ub4dc \uc2a4\ud0ac\ud2b8\ub9ac(\uc544\ub77c)"
       ]
      },
      {
       "output_type": "stream",
       "stream": "stdout",
       "text": [
        " \ubcc4\uc790\ub9ac\n",
        "\uc5d8\uc18c\ub4dc \uc2a4\ud0ac\ud2b8\ub9ac(\uc544\ub77c) tool\n",
        "\uc5d8\uc18c\ub4dc \uc2a4\ud0ac\ud2b8\ub9ac(\uc544\ub77c)"
       ]
      },
      {
       "output_type": "stream",
       "stream": "stdout",
       "text": [
        " \uc6f9\ud230\n",
        "\uc5d8\uc18c\ub4dc \uc2a4\ud0ac\ud2b8\ub9ac(\uc544\ub77c)"
       ]
      },
      {
       "output_type": "stream",
       "stream": "stdout",
       "text": [
        " sex\n",
        "\uc5d8\uc18c\ub4dc \uc2a4\ud0ac\ud2b8\ub9ac(\uc544\ub77c)"
       ]
      },
      {
       "output_type": "stream",
       "stream": "stdout",
       "text": [
        " \ud50c\ub808\uc774\uc5b4\n",
        "\uc5d8\uc18c\ub4dc \uc2a4\ud0ac\ud2b8\ub9ac(\uc544\ub77c)"
       ]
      },
      {
       "output_type": "stream",
       "stream": "stdout",
       "text": [
        " \uce74\uba54\ub77c\n",
        "\uc5d8\uc18c\ub4dc \uc2a4\ud0ac\ud2b8\ub9ac(\uc544\ub77c)"
       ]
      },
      {
       "output_type": "stream",
       "stream": "stdout",
       "text": [
        " \ubca8\uc18c\ub9ac\n",
        "\uc5d8\uc18c\ub4dc \uc2a4\ud0ac\ud2b8\ub9ac(\uc544\ub77c)"
       ]
      },
      {
       "output_type": "stream",
       "stream": "stdout",
       "text": [
        " \uc57c\ub3d9\n",
        "\uc5d8\uc18c\ub4dc \uc2a4\ud0ac\ud2b8\ub9ac(\uc544\ub77c)"
       ]
      },
      {
       "output_type": "stream",
       "stream": "stdout",
       "text": [
        " \ud55c\uae00\n",
        "\uc5d8\uc18c\ub4dc \uc2a4\ud0ac\ud2b8\ub9ac(\uc544\ub77c)"
       ]
      },
      {
       "output_type": "stream",
       "stream": "stdout",
       "text": [
        " \uc624\ud53c\uc2a4\n",
        "\uc5d8\uc18c\ub4dc \uc2a4\ud0ac\ud2b8\ub9ac(\uc544\ub77c) offic\n",
        "\uc5d8\uc18c\ub4dc \uc2a4\ud0ac\ud2b8\ub9ac(\uc544\ub77c)"
       ]
      },
      {
       "output_type": "stream",
       "stream": "stdout",
       "text": [
        " \uc54c\ubc14\n",
        "\uc5d8\uc18c\ub4dc \uc2a4\ud0ac\ud2b8\ub9ac(\uc544\ub77c) photo\n",
        "\uc5d8\uc18c\ub4dc \uc2a4\ud0ac\ud2b8\ub9ac(\uc544\ub77c)"
       ]
      },
      {
       "output_type": "stream",
       "stream": "stdout",
       "text": [
        " \ub4dc\ub77c\uc774\ube0c\n",
        "\uc5d8\uc18c\ub4dc \uc2a4\ud0ac\ud2b8\ub9ac(\uc544\ub77c)"
       ]
      },
      {
       "output_type": "stream",
       "stream": "stdout",
       "text": [
        " \ud30c\uc77c\n",
        "\uc5d8\uc18c\ub4dc \uc2a4\ud0ac\ud2b8\ub9ac(\uc544\ub77c)"
       ]
      },
      {
       "output_type": "stream",
       "stream": "stdout",
       "text": [
        " \uac24\ub7ec\ub9ac\n",
        "\uc5d8\uc18c\ub4dc \uc2a4\ud0ac\ud2b8\ub9ac(\uc544\ub77c)"
       ]
      },
      {
       "output_type": "stream",
       "stream": "stdout",
       "text": [
        " \uadf8\ub8f9\n",
        "\uc5d8\uc18c\ub4dc \uc2a4\ud0ac\ud2b8\ub9ac(\uc544\ub77c)"
       ]
      },
      {
       "output_type": "stream",
       "stream": "stdout",
       "text": [
        " \ubc14\ucf54\ub4dc\n",
        "\uc5d8\uc18c\ub4dc \uc2a4\ud0ac\ud2b8\ub9ac(\uc544\ub77c)"
       ]
      },
      {
       "output_type": "stream",
       "stream": "stdout",
       "text": [
        " \uc2a4\uce90\ub108\n",
        "\uc5d8\uc18c\ub4dc \uc2a4\ud0ac\ud2b8\ub9ac(\uc544\ub77c) \uc18c\uc15c\ucee4\uba38\uc2a4\n",
        "\uc5d8\uc18c\ub4dc \uc2a4\ud0ac\ud2b8\ub9ac(\uc544\ub77c)"
       ]
      },
      {
       "output_type": "stream",
       "stream": "stdout",
       "text": [
        " \uc18c\uc15c\n",
        "\ubbf8\ub140\ubcc0\ud638\uc0ac\uc138\ub9ac\ud0b4"
       ]
      },
      {
       "output_type": "stream",
       "stream": "stdout",
       "text": [
        " \ud37c\uc990\n",
        "\ubbf8\ub140\ubcc0\ud638\uc0ac\uc138\ub9ac\ud0b4 \uce90\uc8fc\uc5bc\n",
        "\ubbf8\ub140\ubcc0\ud638\uc0ac\uc138\ub9ac\ud0b4"
       ]
      },
      {
       "output_type": "stream",
       "stream": "stdout",
       "text": [
        " \uc544\ucf00\uc774\ub4dc\n",
        "\ubbf8\ub140\ubcc0\ud638\uc0ac\uc138\ub9ac\ud0b4 \uacf5\ub7b5\uc9d1\n",
        "\ubbf8\ub140\ubcc0\ud638\uc0ac\uc138\ub9ac\ud0b4"
       ]
      },
      {
       "output_type": "stream",
       "stream": "stdout",
       "text": [
        " \ub808\uc774\uc2f1\n",
        "\ubbf8\ub140\ubcc0\ud638\uc0ac\uc138\ub9ac\ud0b4"
       ]
      },
      {
       "output_type": "stream",
       "stream": "stdout",
       "text": [
        " RPG\n",
        "\ubbf8\ub140\ubcc0\ud638\uc0ac\uc138\ub9ac\ud0b4"
       ]
      },
      {
       "output_type": "stream",
       "stream": "stdout",
       "text": [
        " \uce74\ub4dc\n",
        "\ubbf8\ub140\ubcc0\ud638\uc0ac\uc138\ub9ac\ud0b4"
       ]
      },
      {
       "output_type": "stream",
       "stream": "stdout",
       "text": [
        " \uc131\uc778\n",
        "\ubbf8\ub140\ubcc0\ud638\uc0ac\uc138\ub9ac\ud0b4"
       ]
      },
      {
       "output_type": "stream",
       "stream": "stdout",
       "text": [
        " \ub514\ud39c\uc2a4\n",
        "\ubbf8\ub140\ubcc0\ud638\uc0ac\uc138\ub9ac\ud0b4"
       ]
      },
      {
       "output_type": "stream",
       "stream": "stdout",
       "text": [
        " \ub450\ub1cc\n",
        "\ubbf8\ub140\ubcc0\ud638\uc0ac\uc138\ub9ac\ud0b4"
       ]
      },
      {
       "output_type": "stream",
       "stream": "stdout",
       "text": [
        " \uc2dc\ubbac\n",
        "\ubbf8\ub140\ubcc0\ud638\uc0ac\uc138\ub9ac\ud0b4"
       ]
      },
      {
       "output_type": "stream",
       "stream": "stdout",
       "text": [
        " \ub2ec\ub9ac\uae30\n",
        "\ubbf8\ub140\ubcc0\ud638\uc0ac\uc138\ub9ac\ud0b4"
       ]
      },
      {
       "output_type": "stream",
       "stream": "stdout",
       "text": [
        " \uc288\ud305\n",
        "\ubbf8\ub140\ubcc0\ud638\uc0ac\uc138\ub9ac\ud0b4 \ucd95\uad6c\n",
        "\ubbf8\ub140\ubcc0\ud638\uc0ac\uc138\ub9ac\ud0b4"
       ]
      },
      {
       "output_type": "stream",
       "stream": "stdout",
       "text": [
        " \uacbd\uc601\n",
        "\ubbf8\ub140\ubcc0\ud638\uc0ac\uc138\ub9ac\ud0b4"
       ]
      },
      {
       "output_type": "stream",
       "stream": "stdout",
       "text": [
        " \ud0c0\uc774\ucfe4\n",
        "\ubbf8\ub140\ubcc0\ud638\uc0ac\uc138\ub9ac\ud0b4"
       ]
      },
      {
       "output_type": "stream",
       "stream": "stdout",
       "text": [
        " \ud0c8\ucd9c\n",
        "\ubbf8\ub140\ubcc0\ud638\uc0ac\uc138\ub9ac\ud0b4"
       ]
      },
      {
       "output_type": "stream",
       "stream": "stdout",
       "text": [
        " \ucd94\ub9ac\n",
        "\ubbf8\ub140\ubcc0\ud638\uc0ac\uc138\ub9ac\ud0b4"
       ]
      },
      {
       "output_type": "stream",
       "stream": "stdout",
       "text": [
        " \uc7a5\uae30\n",
        "\ubbf8\ub140\ubcc0\ud638\uc0ac\uc138\ub9ac\ud0b4"
       ]
      },
      {
       "output_type": "stream",
       "stream": "stdout",
       "text": [
        " \ube44\ud589\uae30\n",
        "\ubbf8\ub140\ubcc0\ud638\uc0ac\uc138\ub9ac\ud0b4"
       ]
      },
      {
       "output_type": "stream",
       "stream": "stdout",
       "text": [
        " \uc0ac\ucc9c\uc131\n",
        "\ubbf8\ub140\ubcc0\ud638\uc0ac\uc138\ub9ac\ud0b4"
       ]
      },
      {
       "output_type": "stream",
       "stream": "stdout",
       "text": [
        " \uc2a4\ud3ec\uce20\n",
        "\ubbf8\ub140\ubcc0\ud638\uc0ac\uc138\ub9ac\ud0b4"
       ]
      },
      {
       "output_type": "stream",
       "stream": "stdout",
       "text": [
        " \ub18d\uad6c\n",
        "\ubbf8\ub140\ubcc0\ud638\uc0ac\uc138\ub9ac\ud0b4"
       ]
      },
      {
       "output_type": "stream",
       "stream": "stdout",
       "text": [
        " \ub09a\uc2dc\n",
        "\ubbf8\ub140\ubcc0\ud638\uc0ac\uc138\ub9ac\ud0b4 \uc74c\uc545\n",
        "\ubbf8\ub140\ubcc0\ud638\uc0ac\uc138\ub9ac\ud0b4"
       ]
      },
      {
       "output_type": "stream",
       "stream": "stdout",
       "text": [
        " \uce74\ud1a1\n",
        "\ubbf8\ub140\ubcc0\ud638\uc0ac\uc138\ub9ac\ud0b4 \uace8\ud504\n",
        "\ubbf8\ub140\ubcc0\ud638\uc0ac\uc138\ub9ac\ud0b4"
       ]
      },
      {
       "output_type": "stream",
       "stream": "stdout",
       "text": [
        " \ub2f9\uad6c\n",
        "\ubbf8\ub140\ubcc0\ud638\uc0ac\uc138\ub9ac\ud0b4 \uc57c\uad6c\n",
        "\ubbf8\ub140\ubcc0\ud638\uc0ac\uc138\ub9ac\ud0b4"
       ]
      },
      {
       "output_type": "stream",
       "stream": "stdout",
       "text": [
        " \ubcfc\ub9c1\n",
        "\ubbf8\ub140\ubcc0\ud638\uc0ac\uc138\ub9ac\ud0b4"
       ]
      },
      {
       "output_type": "stream",
       "stream": "stdout",
       "text": [
        " \ud14c\uc774\uc2a4\n",
        "\ubbf8\ub140\ubcc0\ud638\uc0ac\uc138\ub9ac\ud0b4"
       ]
      },
      {
       "output_type": "stream",
       "stream": "stdout",
       "text": [
        " \uc0bc\uad6d\uc9c0\n",
        "\ubbf8\ub140\ubcc0\ud638\uc0ac\uc138\ub9ac\ud0b4"
       ]
      },
      {
       "output_type": "stream",
       "stream": "stdout",
       "text": [
        " TCG\n",
        "\ubbf8\ub140\ubcc0\ud638\uc0ac\uc138\ub9ac\ud0b4"
       ]
      },
      {
       "output_type": "stream",
       "stream": "stdout",
       "text": [
        " \uc804\uc7c1\n",
        "\ubbf8\ub140\ubcc0\ud638\uc0ac\uc138\ub9ac\ud0b4"
       ]
      },
      {
       "output_type": "stream",
       "stream": "stdout",
       "text": [
        " \uac74\uac15\n",
        "\ubbf8\ub140\ubcc0\ud638\uc0ac\uc138\ub9ac\ud0b4"
       ]
      },
      {
       "output_type": "stream",
       "stream": "stdout",
       "text": [
        " \uc6b4\ub3d9\n",
        "\ubbf8\ub140\ubcc0\ud638\uc0ac\uc138\ub9ac\ud0b4"
       ]
      },
      {
       "output_type": "stream",
       "stream": "stdout",
       "text": [
        " \uad50\uc721\n",
        "\ubbf8\ub140\ubcc0\ud638\uc0ac\uc138\ub9ac\ud0b4 \uad50\ud1b5\n",
        "\ubbf8\ub140\ubcc0\ud638\uc0ac\uc138\ub9ac\ud0b4"
       ]
      },
      {
       "output_type": "stream",
       "stream": "stdout",
       "text": [
        " \uae08\uc735\n",
        "\ubbf8\ub140\ubcc0\ud638\uc0ac\uc138\ub9ac\ud0b4"
       ]
      },
      {
       "output_type": "stream",
       "stream": "stdout",
       "text": [
        " \ub0a0\uc528\n",
        "\ubbf8\ub140\ubcc0\ud638\uc0ac\uc138\ub9ac\ud0b4"
       ]
      },
      {
       "output_type": "stream",
       "stream": "stdout",
       "text": [
        " \ub274\uc2a4\n",
        "\ubbf8\ub140\ubcc0\ud638\uc0ac\uc138\ub9ac\ud0b4"
       ]
      },
      {
       "output_type": "stream",
       "stream": "stdout",
       "text": [
        " \uc7a1\uc9c0\n",
        "\ubbf8\ub140\ubcc0\ud638\uc0ac\uc138\ub9ac\ud0b4"
       ]
      },
      {
       "output_type": "stream",
       "stream": "stdout",
       "text": [
        " \ub370\ucf54\ub808\uc774\uc158\n",
        "\ubbf8\ub140\ubcc0\ud638\uc0ac\uc138\ub9ac\ud0b4"
       ]
      },
      {
       "output_type": "stream",
       "stream": "stdout",
       "text": [
        " \ub3c4\uad6c\n",
        "\ubbf8\ub140\ubcc0\ud638\uc0ac\uc138\ub9ac\ud0b4 \ub3c4\uc11c\n",
        "\ubbf8\ub140\ubcc0\ud638\uc0ac\uc138\ub9ac\ud0b4"
       ]
      },
      {
       "output_type": "stream",
       "stream": "stdout",
       "text": [
        " \ucc38\uace0\uc790\ub8cc\n",
        "\ubbf8\ub140\ubcc0\ud638\uc0ac\uc138\ub9ac\ud0b4"
       ]
      },
      {
       "output_type": "stream",
       "stream": "stdout",
       "text": [
        " \ub77c\uc774\ube0c\n",
        "\ubbf8\ub140\ubcc0\ud638\uc0ac\uc138\ub9ac\ud0b4 \ubc30\uacbd\ud654\uba74\n",
        "\ubbf8\ub140\ubcc0\ud638\uc0ac\uc138\ub9ac\ud0b4"
       ]
      },
      {
       "output_type": "stream",
       "stream": "stdout",
       "text": [
        " \ub77c\uc774\ube0c\ub7ec\ub9ac\n",
        "\ubbf8\ub140\ubcc0\ud638\uc0ac\uc138\ub9ac\ud0b4 \ub370\ubaa8\n",
        "\ubbf8\ub140\ubcc0\ud638\uc0ac\uc138\ub9ac\ud0b4"
       ]
      },
      {
       "output_type": "stream",
       "stream": "stdout",
       "text": [
        " \ub77c\uc774\ud504\uc2a4\ud0c0\uc77c\n",
        "\ubbf8\ub140\ubcc0\ud638\uc0ac\uc138\ub9ac\ud0b4"
       ]
      },
      {
       "output_type": "stream",
       "stream": "stdout",
       "text": [
        " \ub9cc\ud654\n",
        "\ubbf8\ub140\ubcc0\ud638\uc0ac\uc138\ub9ac\ud0b4"
       ]
      },
      {
       "output_type": "stream",
       "stream": "stdout",
       "text": [
        " \ubbf8\ub514\uc5b4\n",
        "\ubbf8\ub140\ubcc0\ud638\uc0ac\uc138\ub9ac\ud0b4"
       ]
      },
      {
       "output_type": "stream",
       "stream": "stdout",
       "text": [
        " \ub3d9\uc601\uc0c1\n",
        "\ubbf8\ub140\ubcc0\ud638\uc0ac\uc138\ub9ac\ud0b4"
       ]
      },
      {
       "output_type": "stream",
       "stream": "stdout",
       "text": [
        " \ube44\uc988\ub2c8\uc2a4\n",
        "\ubbf8\ub140\ubcc0\ud638\uc0ac\uc138\ub9ac\ud0b4"
       ]
      },
      {
       "output_type": "stream",
       "stream": "stdout",
       "text": [
        " \uc0ac\uc9c4\n",
        "\ubbf8\ub140\ubcc0\ud638\uc0ac\uc138\ub9ac\ud0b4 \uc0dd\uc0b0\uc131\n",
        "\ubbf8\ub140\ubcc0\ud638\uc0ac\uc138\ub9ac\ud0b4"
       ]
      },
      {
       "output_type": "stream",
       "stream": "stdout",
       "text": [
        " \uc18c\uc15c\n",
        "\ubbf8\ub140\ubcc0\ud638\uc0ac\uc138\ub9ac\ud0b4 \ucf58\ud150\uce20\n",
        "\ubbf8\ub140\ubcc0\ud638\uc0ac\uc138\ub9ac\ud0b4"
       ]
      },
      {
       "output_type": "stream",
       "stream": "stdout",
       "text": [
        " \uc1fc\ud551\n",
        "\ubbf8\ub140\ubcc0\ud638\uc0ac\uc138\ub9ac\ud0b4 \uc704\uc82f\n",
        "\ubbf8\ub140\ubcc0\ud638\uc0ac\uc138\ub9ac\ud0b4"
       ]
      },
      {
       "output_type": "stream",
       "stream": "stdout",
       "text": [
        " \uc790\ub3d9\ucc28\n",
        "\ubbf8\ub140\ubcc0\ud638\uc0ac\uc138\ub9ac\ud0b4"
       ]
      },
      {
       "output_type": "stream",
       "stream": "stdout",
       "text": [
        " \uacbd\uc8fc\n",
        "\ubbf8\ub140\ubcc0\ud638\uc0ac\uc138\ub9ac\ud0b4"
       ]
      },
      {
       "output_type": "stream",
       "stream": "stdout",
       "text": [
        " \ub2e4\uc774\uc5b4\ud2b8\n",
        "\ubbf8\ub140\ubcc0\ud638\uc0ac\uc138\ub9ac\ud0b4 \ub2ec\ub825\n",
        "\ubbf8\ub140\ubcc0\ud638\uc0ac\uc138\ub9ac\ud0b4"
       ]
      },
      {
       "output_type": "stream",
       "stream": "stdout",
       "text": [
        " \uc0dd\ub9ac\n",
        "\ubbf8\ub140\ubcc0\ud638\uc0ac\uc138\ub9ac\ud0b4"
       ]
      },
      {
       "output_type": "stream",
       "stream": "stdout",
       "text": [
        " \uce98\ub9b0\ub354\n",
        "\ubbf8\ub140\ubcc0\ud638\uc0ac\uc138\ub9ac\ud0b4"
       ]
      },
      {
       "output_type": "stream",
       "stream": "stdout",
       "text": [
        " \uc0ac\uc8fc\ud314\uc790\n",
        "\ubbf8\ub140\ubcc0\ud638\uc0ac\uc138\ub9ac\ud0b4 \uad81\ud569\n",
        "\ubbf8\ub140\ubcc0\ud638\uc0ac\uc138\ub9ac\ud0b4"
       ]
      },
      {
       "output_type": "stream",
       "stream": "stdout",
       "text": [
        " \uccb4\uc911\n",
        "\ubbf8\ub140\ubcc0\ud638\uc0ac\uc138\ub9ac\ud0b4"
       ]
      },
      {
       "output_type": "stream",
       "stream": "stdout",
       "text": [
        " \uc0ac\uc804\n",
        "\ubbf8\ub140\ubcc0\ud638\uc0ac\uc138\ub9ac\ud0b4"
       ]
      },
      {
       "output_type": "stream",
       "stream": "stdout",
       "text": [
        " \ucef4\ud4e8\ud130\n",
        "\ubbf8\ub140\ubcc0\ud638\uc0ac\uc138\ub9ac\ud0b4"
       ]
      },
      {
       "output_type": "stream",
       "stream": "stdout",
       "text": [
        " \ubc31\uacfc\uc0ac\uc804\n",
        "\ubbf8\ub140\ubcc0\ud638\uc0ac\uc138\ub9ac\ud0b4"
       ]
      },
      {
       "output_type": "stream",
       "stream": "stdout",
       "text": [
        " \uae09\uc2dd\n",
        "\ubbf8\ub140\ubcc0\ud638\uc0ac\uc138\ub9ac\ud0b4"
       ]
      },
      {
       "output_type": "stream",
       "stream": "stdout",
       "text": [
        " \ud559\uad50\n",
        "\ubbf8\ub140\ubcc0\ud638\uc0ac\uc138\ub9ac\ud0b4"
       ]
      },
      {
       "output_type": "stream",
       "stream": "stdout",
       "text": [
        " \ucd08\ub4f1\ud559\uad50\n",
        "\ubbf8\ub140\ubcc0\ud638\uc0ac\uc138\ub9ac\ud0b4"
       ]
      },
      {
       "output_type": "stream",
       "stream": "stdout",
       "text": [
        " \uc911\ud559\uad50\n",
        "\ubbf8\ub140\ubcc0\ud638\uc0ac\uc138\ub9ac\ud0b4"
       ]
      },
      {
       "output_type": "stream",
       "stream": "stdout",
       "text": [
        " \uace0\ub4f1\ud559\uad50\n",
        "\ubbf8\ub140\ubcc0\ud638\uc0ac\uc138\ub9ac\ud0b4"
       ]
      },
      {
       "output_type": "stream",
       "stream": "stdout",
       "text": [
        " \ub300\ud559\uad50\n",
        "\ubbf8\ub140\ubcc0\ud638\uc0ac\uc138\ub9ac\ud0b4"
       ]
      },
      {
       "output_type": "stream",
       "stream": "stdout",
       "text": [
        " Korea\n",
        "\ubbf8\ub140\ubcc0\ud638\uc0ac\uc138\ub9ac\ud0b4 \ub124\ube44\uac8c\uc774\uc158\n",
        "\ubbf8\ub140\ubcc0\ud638\uc0ac\uc138\ub9ac\ud0b4"
       ]
      },
      {
       "output_type": "stream",
       "stream": "stdout",
       "text": [
        " \uc9c0\ud558\ucca0\n",
        "\ubbf8\ub140\ubcc0\ud638\uc0ac\uc138\ub9ac\ud0b4"
       ]
      },
      {
       "output_type": "stream",
       "stream": "stdout",
       "text": [
        " \uc885\uacb0\uc790\n",
        "\ubbf8\ub140\ubcc0\ud638\uc0ac\uc138\ub9ac\ud0b4"
       ]
      },
      {
       "output_type": "stream",
       "stream": "stdout",
       "text": [
        " \ub0b4\ube44\n",
        "\ubbf8\ub140\ubcc0\ud638\uc0ac\uc138\ub9ac\ud0b4 \uac00\uacc4\ubd80\n",
        "\ubbf8\ub140\ubcc0\ud638\uc0ac\uc138\ub9ac\ud0b4"
       ]
      },
      {
       "output_type": "stream",
       "stream": "stdout",
       "text": [
        " Money\n",
        "\ubbf8\ub140\ubcc0\ud638\uc0ac\uc138\ub9ac\ud0b4"
       ]
      },
      {
       "output_type": "stream",
       "stream": "stdout",
       "text": [
        " \uc2a4\ub9c8\ud2b8\n",
        "\ubbf8\ub140\ubcc0\ud638\uc0ac\uc138\ub9ac\ud0b4"
       ]
      },
      {
       "output_type": "stream",
       "stream": "stdout",
       "text": [
        " \uacc4\uc0b0\uae30\n",
        "\ubbf8\ub140\ubcc0\ud638\uc0ac\uc138\ub9ac\ud0b4 \uc740\ud589\n",
        "\ubbf8\ub140\ubcc0\ud638\uc0ac\uc138\ub9ac\ud0b4"
       ]
      },
      {
       "output_type": "stream",
       "stream": "stdout",
       "text": [
        " \uac80\uc0c9\uc5b4\n",
        "\ubbf8\ub140\ubcc0\ud638\uc0ac\uc138\ub9ac\ud0b4 \uc2e4\uc2dc\uac04\n",
        "\ubbf8\ub140\ubcc0\ud638\uc0ac\uc138\ub9ac\ud0b4"
       ]
      },
      {
       "output_type": "stream",
       "stream": "stdout",
       "text": [
        " \uc2e0\ubb38\n",
        "\ubbf8\ub140\ubcc0\ud638\uc0ac\uc138\ub9ac\ud0b4 \ud074\ub798\uc2dd\n",
        "\ubbf8\ub140\ubcc0\ud638\uc0ac\uc138\ub9ac\ud0b4"
       ]
      },
      {
       "output_type": "stream",
       "stream": "stdout",
       "text": [
        " \ub7f0\ucc98\n",
        "\ubbf8\ub140\ubcc0\ud638\uc0ac\uc138\ub9ac\ud0b4 \uc8fc\uc18c\ub85d\n",
        "\ubbf8\ub140\ubcc0\ud638\uc0ac\uc138\ub9ac\ud0b4"
       ]
      },
      {
       "output_type": "stream",
       "stream": "stdout",
       "text": [
        " \ud3f0\n",
        "\ubbf8\ub140\ubcc0\ud638\uc0ac\uc138\ub9ac\ud0b4 \ubc14\uc774\ub7ec\uc2a4\n",
        "\ubbf8\ub140\ubcc0\ud638\uc0ac\uc138\ub9ac\ud0b4"
       ]
      },
      {
       "output_type": "stream",
       "stream": "stdout",
       "text": [
        " \ubcf4\uc548\n",
        "\ubbf8\ub140\ubcc0\ud638\uc0ac\uc138\ub9ac\ud0b4 \uc131\uacbd\n",
        "\ubbf8\ub140\ubcc0\ud638\uc0ac\uc138\ub9ac\ud0b4"
       ]
      },
      {
       "output_type": "stream",
       "stream": "stdout",
       "text": [
        " \ucc2c\uc1a1\n",
        "\ubbf8\ub140\ubcc0\ud638\uc0ac\uc138\ub9ac\ud0b4"
       ]
      },
      {
       "output_type": "stream",
       "stream": "stdout",
       "text": [
        " \ubc14\uc774\ube14\n",
        "\ubbf8\ub140\ubcc0\ud638\uc0ac\uc138\ub9ac\ud0b4 \ubc31\uc2e0\n",
        "\ubbf8\ub140\ubcc0\ud638\uc0ac\uc138\ub9ac\ud0b4"
       ]
      },
      {
       "output_type": "stream",
       "stream": "stdout",
       "text": [
        " \uc6f9\n",
        "\ubbf8\ub140\ubcc0\ud638\uc0ac\uc138\ub9ac\ud0b4"
       ]
      },
      {
       "output_type": "stream",
       "stream": "stdout",
       "text": [
        " \uc2a4\ud2f0\ucee4\n",
        "\ubbf8\ub140\ubcc0\ud638\uc0ac\uc138\ub9ac\ud0b4 \uc0ac\uc8fc\n",
        "\ubbf8\ub140\ubcc0\ud638\uc0ac\uc138\ub9ac\ud0b4"
       ]
      },
      {
       "output_type": "stream",
       "stream": "stdout",
       "text": [
        " \uc6b4\uc138\n",
        "\ubbf8\ub140\ubcc0\ud638\uc0ac\uc138\ub9ac\ud0b4"
       ]
      },
      {
       "output_type": "stream",
       "stream": "stdout",
       "text": [
        " \ucf54\ubbf9\n",
        "\ubbf8\ub140\ubcc0\ud638\uc0ac\uc138\ub9ac\ud0b4"
       ]
      },
      {
       "output_type": "stream",
       "stream": "stdout",
       "text": [
        " 3D\n",
        "\ubbf8\ub140\ubcc0\ud638\uc0ac\uc138\ub9ac\ud0b4 \ubcc4\uc790\ub9ac\n",
        "\ubbf8\ub140\ubcc0\ud638\uc0ac\uc138\ub9ac\ud0b4"
       ]
      },
      {
       "output_type": "stream",
       "stream": "stdout",
       "text": [
        " tool\n",
        "\ubbf8\ub140\ubcc0\ud638\uc0ac\uc138\ub9ac\ud0b4"
       ]
      },
      {
       "output_type": "stream",
       "stream": "stdout",
       "text": [
        " \uc6f9\ud230\n",
        "\ubbf8\ub140\ubcc0\ud638\uc0ac\uc138\ub9ac\ud0b4"
       ]
      },
      {
       "output_type": "stream",
       "stream": "stdout",
       "text": [
        " sex\n",
        "\ubbf8\ub140\ubcc0\ud638\uc0ac\uc138\ub9ac\ud0b4 \ud50c\ub808\uc774\uc5b4\n",
        "\ubbf8\ub140\ubcc0\ud638\uc0ac\uc138\ub9ac\ud0b4"
       ]
      },
      {
       "output_type": "stream",
       "stream": "stdout",
       "text": [
        " \uce74\uba54\ub77c\n",
        "\ubbf8\ub140\ubcc0\ud638\uc0ac\uc138\ub9ac\ud0b4 \ubca8\uc18c\ub9ac\n",
        "\ubbf8\ub140\ubcc0\ud638\uc0ac\uc138\ub9ac\ud0b4"
       ]
      },
      {
       "output_type": "stream",
       "stream": "stdout",
       "text": [
        " \uc57c\ub3d9\n",
        "\ubbf8\ub140\ubcc0\ud638\uc0ac\uc138\ub9ac\ud0b4"
       ]
      },
      {
       "output_type": "stream",
       "stream": "stdout",
       "text": [
        " \ud55c\uae00\n",
        "\ubbf8\ub140\ubcc0\ud638\uc0ac\uc138\ub9ac\ud0b4 \uc624\ud53c\uc2a4\n",
        "\ubbf8\ub140\ubcc0\ud638\uc0ac\uc138\ub9ac\ud0b4"
       ]
      },
      {
       "output_type": "stream",
       "stream": "stdout",
       "text": [
        " offic\n",
        "\ubbf8\ub140\ubcc0\ud638\uc0ac\uc138\ub9ac\ud0b4 \uc54c\ubc14\n",
        "\ubbf8\ub140\ubcc0\ud638\uc0ac\uc138\ub9ac\ud0b4"
       ]
      },
      {
       "output_type": "stream",
       "stream": "stdout",
       "text": [
        " photo\n",
        "\ubbf8\ub140\ubcc0\ud638\uc0ac\uc138\ub9ac\ud0b4 \ub4dc\ub77c\uc774\ube0c\n",
        "\ubbf8\ub140\ubcc0\ud638\uc0ac\uc138\ub9ac\ud0b4"
       ]
      },
      {
       "output_type": "stream",
       "stream": "stdout",
       "text": [
        " \ud30c\uc77c\n",
        "\ubbf8\ub140\ubcc0\ud638\uc0ac\uc138\ub9ac\ud0b4 \uac24\ub7ec\ub9ac\n",
        "\ubbf8\ub140\ubcc0\ud638\uc0ac\uc138\ub9ac\ud0b4"
       ]
      },
      {
       "output_type": "stream",
       "stream": "stdout",
       "text": [
        " \uadf8\ub8f9\n",
        "\ubbf8\ub140\ubcc0\ud638\uc0ac\uc138\ub9ac\ud0b4 \ubc14\ucf54\ub4dc\n",
        "\ubbf8\ub140\ubcc0\ud638\uc0ac\uc138\ub9ac\ud0b4"
       ]
      },
      {
       "output_type": "stream",
       "stream": "stdout",
       "text": [
        " \uc2a4\uce90\ub108\n",
        "\ubbf8\ub140\ubcc0\ud638\uc0ac\uc138\ub9ac\ud0b4"
       ]
      },
      {
       "output_type": "stream",
       "stream": "stdout",
       "text": [
        " \uc18c\uc15c\ucee4\uba38\uc2a4\n",
        "\ubbf8\ub140\ubcc0\ud638\uc0ac\uc138\ub9ac\ud0b4"
       ]
      },
      {
       "output_type": "stream",
       "stream": "stdout",
       "text": [
        " \uc18c\uc15c\n"
       ]
      }
     ],
     "prompt_number": 21
    },
    {
     "cell_type": "code",
     "collapsed": false,
     "input": [
      "df.keys()"
     ],
     "language": "python",
     "metadata": {},
     "outputs": [
      {
       "metadata": {},
       "output_type": "pyout",
       "prompt_number": 24,
       "text": [
        "Index([\ud37c\uc990, \uce90\uc8fc\uc5bc, \uc544\ucf00\uc774\ub4dc, \uacf5\ub7b5\uc9d1, \ub808\uc774\uc2f1, RPG, \uce74\ub4dc, \uc131\uc778, \ub514\ud39c\uc2a4, \ub450\ub1cc, \uc2dc\ubbac, \ub2ec\ub9ac\uae30, \uc288\ud305, \ucd95\uad6c, \uacbd\uc601, \ud0c0\uc774\ucfe4, \ud0c8\ucd9c, \ucd94\ub9ac, \uc7a5\uae30, \ube44\ud589\uae30, \uc0ac\ucc9c\uc131, \uc2a4\ud3ec\uce20, \ub18d\uad6c, \ub09a\uc2dc, \uc74c\uc545, \uce74\ud1a1, \uace8\ud504, \ub2f9\uad6c, \uc57c\uad6c, \ubcfc\ub9c1, \ud14c\uc774\uc2a4, \uc0bc\uad6d\uc9c0, TCG, \uc804\uc7c1, \uac74\uac15, \uc6b4\ub3d9, \uad50\uc721, \uad50\ud1b5, \uae08\uc735, \ub0a0\uc528, \ub274\uc2a4, \uc7a1\uc9c0, \ub370\ucf54\ub808\uc774\uc158, \ub3c4\uad6c, \ub3c4\uc11c, \ucc38\uace0\uc790\ub8cc, \ub77c\uc774\ube0c, \ubc30\uacbd\ud654\uba74, \ub77c\uc774\ube0c\ub7ec\ub9ac, \ub370\ubaa8, \ub77c\uc774\ud504\uc2a4\ud0c0\uc77c, \ub9cc\ud654, \ubbf8\ub514\uc5b4, \ub3d9\uc601\uc0c1, \ube44\uc988\ub2c8\uc2a4, \uc0ac\uc9c4, \uc0dd\uc0b0\uc131, \uc18c\uc15c, \ucf58\ud150\uce20, \uc1fc\ud551, \uc704\uc82f, \uc790\ub3d9\ucc28, \uacbd\uc8fc, \ub2e4\uc774\uc5b4\ud2b8, \ub2ec\ub825, \uc0dd\ub9ac, \uce98\ub9b0\ub354, \uc0ac\uc8fc\ud314\uc790, \uad81\ud569, \uccb4\uc911, \uc0ac\uc804, \ucef4\ud4e8\ud130, \ubc31\uacfc\uc0ac\uc804, \uae09\uc2dd, \ud559\uad50, \ucd08\ub4f1\ud559\uad50, \uc911\ud559\uad50, \uace0\ub4f1\ud559\uad50, \ub300\ud559\uad50, Korea, \ub124\ube44\uac8c\uc774\uc158, \uc9c0\ud558\ucca0, \uc885\uacb0\uc790, \ub0b4\ube44, \uac00\uacc4\ubd80, Money, \uc2a4\ub9c8\ud2b8, \uacc4\uc0b0\uae30, \uc740\ud589, \uac80\uc0c9\uc5b4, \uc2e4\uc2dc\uac04, \uc2e0\ubb38, \ud074\ub798\uc2dd, \ub7f0\ucc98, \uc8fc\uc18c\ub85d, \ud3f0, \ubc14\uc774\ub7ec\uc2a4, \ubcf4\uc548, \uc131\uacbd, \ucc2c\uc1a1, \ubc14\uc774\ube14, \ubc31\uc2e0, \uc6f9, \uc2a4\ud2f0\ucee4, \uc0ac\uc8fc, \uc6b4\uc138, \ucf54\ubbf9, 3D, \ubcc4\uc790\ub9ac, tool, \uc6f9\ud230, sex, \ud50c\ub808\uc774\uc5b4, \uce74\uba54\ub77c, \ubca8\uc18c\ub9ac, \uc57c\ub3d9, \ud55c\uae00, \uc624\ud53c\uc2a4, offic, \uc54c\ubc14, photo, \ub4dc\ub77c\uc774\ube0c, \ud30c\uc77c, \uac24\ub7ec\ub9ac, \uadf8\ub8f9, \ubc14\ucf54\ub4dc, \uc2a4\uce90\ub108, \uc18c\uc15c\ucee4\uba38\uc2a4, \uc18c\uc15c], dtype=object)"
       ]
      }
     ],
     "prompt_number": 24
    },
    {
     "cell_type": "code",
     "collapsed": false,
     "input": [
      "a  = df.iterrows()"
     ],
     "language": "python",
     "metadata": {},
     "outputs": [],
     "prompt_number": 33
    },
    {
     "cell_type": "code",
     "collapsed": false,
     "input": [
      "df"
     ],
     "language": "python",
     "metadata": {},
     "outputs": [],
     "prompt_number": 74
    },
    {
     "cell_type": "code",
     "collapsed": false,
     "input": [],
     "language": "python",
     "metadata": {},
     "outputs": []
    },
    {
     "cell_type": "code",
     "collapsed": false,
     "input": [],
     "language": "python",
     "metadata": {},
     "outputs": [],
     "prompt_number": 119
    },
    {
     "cell_type": "code",
     "collapsed": false,
     "input": [],
     "language": "python",
     "metadata": {},
     "outputs": []
    },
    {
     "cell_type": "code",
     "collapsed": false,
     "input": [],
     "language": "python",
     "metadata": {},
     "outputs": []
    },
    {
     "cell_type": "code",
     "collapsed": false,
     "input": [],
     "language": "python",
     "metadata": {},
     "outputs": []
    },
    {
     "cell_type": "code",
     "collapsed": false,
     "input": [],
     "language": "python",
     "metadata": {},
     "outputs": []
    },
    {
     "cell_type": "code",
     "collapsed": false,
     "input": [],
     "language": "python",
     "metadata": {},
     "outputs": []
    },
    {
     "cell_type": "code",
     "collapsed": false,
     "input": [
      "from sklearn.decomposition import PCA\n",
      "for i, app in enumerate(df.index[4]):\n",
      "    X = np.array((i, app))\n",
      "    \n",
      "#Xa = X.toarray()  # PCA\ub294 (n_sample, n_feature) \ubaa8\uc591\uc744 \uc9c0\uc6d0\ud558\uc9c0 \uc54a\ub294 \ubaa8\uc591.\n",
      "\n",
      "pca = PCA(n_components=2, whiten=True)\n",
      "pca.fit(df)\n",
      "x2 = pca.transform(df)\n",
      "\n",
      "y2 = array([l-1 for l in y.astype(int)])\n",
      "\n",
      "print x2.shape, y2.shape"
     ],
     "language": "python",
     "metadata": {},
     "outputs": [
      {
       "ename": "NameError",
       "evalue": "name 'y' is not defined",
       "output_type": "pyerr",
       "traceback": [
        "\u001b[0;31m---------------------------------------------------------------------------\u001b[0m\n\u001b[0;31mNameError\u001b[0m                                 Traceback (most recent call last)",
        "\u001b[0;32m<ipython-input-40-41ae83ee0d4f>\u001b[0m in \u001b[0;36m<module>\u001b[0;34m()\u001b[0m\n\u001b[1;32m      9\u001b[0m \u001b[0mx2\u001b[0m \u001b[0;34m=\u001b[0m \u001b[0mpca\u001b[0m\u001b[0;34m.\u001b[0m\u001b[0mtransform\u001b[0m\u001b[0;34m(\u001b[0m\u001b[0mdf\u001b[0m\u001b[0;34m)\u001b[0m\u001b[0;34m\u001b[0m\u001b[0m\n\u001b[1;32m     10\u001b[0m \u001b[0;34m\u001b[0m\u001b[0m\n\u001b[0;32m---> 11\u001b[0;31m \u001b[0my2\u001b[0m \u001b[0;34m=\u001b[0m \u001b[0marray\u001b[0m\u001b[0;34m(\u001b[0m\u001b[0;34m[\u001b[0m\u001b[0ml\u001b[0m\u001b[0;34m-\u001b[0m\u001b[0;36m1\u001b[0m \u001b[0;32mfor\u001b[0m \u001b[0ml\u001b[0m \u001b[0;32min\u001b[0m \u001b[0my\u001b[0m\u001b[0;34m.\u001b[0m\u001b[0mastype\u001b[0m\u001b[0;34m(\u001b[0m\u001b[0mint\u001b[0m\u001b[0;34m)\u001b[0m\u001b[0;34m]\u001b[0m\u001b[0;34m)\u001b[0m\u001b[0;34m\u001b[0m\u001b[0m\n\u001b[0m\u001b[1;32m     12\u001b[0m \u001b[0;34m\u001b[0m\u001b[0m\n\u001b[1;32m     13\u001b[0m \u001b[0;32mprint\u001b[0m \u001b[0mx2\u001b[0m\u001b[0;34m.\u001b[0m\u001b[0mshape\u001b[0m\u001b[0;34m,\u001b[0m \u001b[0my2\u001b[0m\u001b[0;34m.\u001b[0m\u001b[0mshape\u001b[0m\u001b[0;34m\u001b[0m\u001b[0m\n",
        "\u001b[0;31mNameError\u001b[0m: name 'y' is not defined"
       ]
      }
     ],
     "prompt_number": 40
    },
    {
     "cell_type": "code",
     "collapsed": false,
     "input": [
      "from sklearn.cluster import KMeans, DBSCAN\n",
      "from numpy.random import RandomState\n",
      "from sklearn.decomposition import PCA\n",
      "import pylab as pl\n",
      "from itertools import cycle\n",
      "from sklearn.datasets import load_svmlight_file\n",
      "# from adme_rpc.src._db import _ADME_DB\n",
      "\n",
      "import pylab as pl\n",
      "def plot_2D(data, target, target_names):\n",
      "    colors = cycle('rgbcmykw')\n",
      "    target_ids = range(len(target_names))\n",
      "    pl.figure()\n",
      "    for i, c, label in zip(target_ids, colors, target_names):\n",
      "        pl.scatter(data[target == i, 0], data[target == i, 1],\n",
      "                   c=c, label=label)\n",
      "    pl.legend()"
     ],
     "language": "python",
     "metadata": {},
     "outputs": [
      {
       "output_type": "stream",
       "stream": "stdout",
       "text": [
        "\n"
       ]
      }
     ],
     "prompt_number": 41
    },
    {
     "cell_type": "code",
     "collapsed": false,
     "input": [
      "X2 = df\n",
      "pca = PCA(n_components=2, whiten=True).fit(X2)\n",
      "X_pca = pca.transform(X2)\n",
      "\n",
      "rng = RandomState(42)\n",
      "\n",
      "kmeans = KMeans(n_clusters=5, random_state=rng)\n",
      "kmeans.fit(X_pca)\n",
      "plot_2D(X_pca, kmeans.labels_, [\"c0\", \"c1\",\"c2\",\"c3\",\"c4\",\"c5\"])  \n",
      "kmeans.k\n",
      "\n",
      "#plot_2D(X_pca, kmeans.labels_, [\"c0\", \"c1\", \"c3\"])  "
     ],
     "language": "python",
     "metadata": {},
     "outputs": [
      {
       "ename": "ValueError",
       "evalue": "Array contains NaN or infinity.",
       "output_type": "pyerr",
       "traceback": [
        "\u001b[0;31m---------------------------------------------------------------------------\u001b[0m\n\u001b[0;31mValueError\u001b[0m                                Traceback (most recent call last)",
        "\u001b[0;32m<ipython-input-42-c63f189774fd>\u001b[0m in \u001b[0;36m<module>\u001b[0;34m()\u001b[0m\n\u001b[1;32m      6\u001b[0m \u001b[0;34m\u001b[0m\u001b[0m\n\u001b[1;32m      7\u001b[0m \u001b[0mkmeans\u001b[0m \u001b[0;34m=\u001b[0m \u001b[0mKMeans\u001b[0m\u001b[0;34m(\u001b[0m\u001b[0mn_clusters\u001b[0m\u001b[0;34m=\u001b[0m\u001b[0;36m5\u001b[0m\u001b[0;34m,\u001b[0m \u001b[0mrandom_state\u001b[0m\u001b[0;34m=\u001b[0m\u001b[0mrng\u001b[0m\u001b[0;34m)\u001b[0m\u001b[0;34m\u001b[0m\u001b[0m\n\u001b[0;32m----> 8\u001b[0;31m \u001b[0mkmeans\u001b[0m\u001b[0;34m.\u001b[0m\u001b[0mfit\u001b[0m\u001b[0;34m(\u001b[0m\u001b[0mX_pca\u001b[0m\u001b[0;34m)\u001b[0m\u001b[0;34m\u001b[0m\u001b[0m\n\u001b[0m\u001b[1;32m      9\u001b[0m \u001b[0mplot_2D\u001b[0m\u001b[0;34m(\u001b[0m\u001b[0mX_pca\u001b[0m\u001b[0;34m,\u001b[0m \u001b[0mkmeans\u001b[0m\u001b[0;34m.\u001b[0m\u001b[0mlabels_\u001b[0m\u001b[0;34m,\u001b[0m \u001b[0;34m[\u001b[0m\u001b[0;34m\"c0\"\u001b[0m\u001b[0;34m,\u001b[0m \u001b[0;34m\"c1\"\u001b[0m\u001b[0;34m,\u001b[0m\u001b[0;34m\"c2\"\u001b[0m\u001b[0;34m,\u001b[0m\u001b[0;34m\"c3\"\u001b[0m\u001b[0;34m,\u001b[0m\u001b[0;34m\"c4\"\u001b[0m\u001b[0;34m,\u001b[0m\u001b[0;34m\"c5\"\u001b[0m\u001b[0;34m]\u001b[0m\u001b[0;34m)\u001b[0m\u001b[0;34m\u001b[0m\u001b[0m\n\u001b[1;32m     10\u001b[0m \u001b[0mkmeans\u001b[0m\u001b[0;34m.\u001b[0m\u001b[0mk\u001b[0m\u001b[0;34m\u001b[0m\u001b[0m\n",
        "\u001b[0;32m/Users/jeongmingi/anaconda/lib/python2.7/site-packages/sklearn/cluster/k_means_.pyc\u001b[0m in \u001b[0;36mfit\u001b[0;34m(self, X, y)\u001b[0m\n\u001b[1;32m    717\u001b[0m \u001b[0;34m\u001b[0m\u001b[0m\n\u001b[1;32m    718\u001b[0m         \u001b[0mrandom_state\u001b[0m \u001b[0;34m=\u001b[0m \u001b[0mcheck_random_state\u001b[0m\u001b[0;34m(\u001b[0m\u001b[0mself\u001b[0m\u001b[0;34m.\u001b[0m\u001b[0mrandom_state\u001b[0m\u001b[0;34m)\u001b[0m\u001b[0;34m\u001b[0m\u001b[0m\n\u001b[0;32m--> 719\u001b[0;31m         \u001b[0mX\u001b[0m \u001b[0;34m=\u001b[0m \u001b[0mself\u001b[0m\u001b[0;34m.\u001b[0m\u001b[0m_check_fit_data\u001b[0m\u001b[0;34m(\u001b[0m\u001b[0mX\u001b[0m\u001b[0;34m)\u001b[0m\u001b[0;34m\u001b[0m\u001b[0m\n\u001b[0m\u001b[1;32m    720\u001b[0m \u001b[0;34m\u001b[0m\u001b[0m\n\u001b[1;32m    721\u001b[0m         self.cluster_centers_, self.labels_, self.inertia_ = k_means(\n",
        "\u001b[0;32m/Users/jeongmingi/anaconda/lib/python2.7/site-packages/sklearn/cluster/k_means_.pyc\u001b[0m in \u001b[0;36m_check_fit_data\u001b[0;34m(self, X)\u001b[0m\n\u001b[1;32m    673\u001b[0m     \u001b[0;32mdef\u001b[0m \u001b[0m_check_fit_data\u001b[0m\u001b[0;34m(\u001b[0m\u001b[0mself\u001b[0m\u001b[0;34m,\u001b[0m \u001b[0mX\u001b[0m\u001b[0;34m)\u001b[0m\u001b[0;34m:\u001b[0m\u001b[0;34m\u001b[0m\u001b[0m\n\u001b[1;32m    674\u001b[0m         \u001b[0;34m\"\"\"Verify that the number of samples given is larger than k\"\"\"\u001b[0m\u001b[0;34m\u001b[0m\u001b[0m\n\u001b[0;32m--> 675\u001b[0;31m         \u001b[0mX\u001b[0m \u001b[0;34m=\u001b[0m \u001b[0matleast2d_or_csr\u001b[0m\u001b[0;34m(\u001b[0m\u001b[0mX\u001b[0m\u001b[0;34m,\u001b[0m \u001b[0mdtype\u001b[0m\u001b[0;34m=\u001b[0m\u001b[0mnp\u001b[0m\u001b[0;34m.\u001b[0m\u001b[0mfloat64\u001b[0m\u001b[0;34m)\u001b[0m\u001b[0;34m\u001b[0m\u001b[0m\n\u001b[0m\u001b[1;32m    676\u001b[0m         \u001b[0;32mif\u001b[0m \u001b[0mX\u001b[0m\u001b[0;34m.\u001b[0m\u001b[0mshape\u001b[0m\u001b[0;34m[\u001b[0m\u001b[0;36m0\u001b[0m\u001b[0;34m]\u001b[0m \u001b[0;34m<\u001b[0m \u001b[0mself\u001b[0m\u001b[0;34m.\u001b[0m\u001b[0mn_clusters\u001b[0m\u001b[0;34m:\u001b[0m\u001b[0;34m\u001b[0m\u001b[0m\n\u001b[1;32m    677\u001b[0m             raise ValueError(\"n_samples=%d should be >= n_clusters=%d\" % (\n",
        "\u001b[0;32m/Users/jeongmingi/anaconda/lib/python2.7/site-packages/sklearn/utils/validation.pyc\u001b[0m in \u001b[0;36matleast2d_or_csr\u001b[0;34m(X, dtype, order, copy)\u001b[0m\n\u001b[1;32m    114\u001b[0m     \"\"\"\n\u001b[1;32m    115\u001b[0m     return _atleast2d_or_sparse(X, dtype, order, copy, sparse.csr_matrix,\n\u001b[0;32m--> 116\u001b[0;31m                                 \"tocsr\")\n\u001b[0m\u001b[1;32m    117\u001b[0m \u001b[0;34m\u001b[0m\u001b[0m\n\u001b[1;32m    118\u001b[0m \u001b[0;34m\u001b[0m\u001b[0m\n",
        "\u001b[0;32m/Users/jeongmingi/anaconda/lib/python2.7/site-packages/sklearn/utils/validation.pyc\u001b[0m in \u001b[0;36m_atleast2d_or_sparse\u001b[0;34m(X, dtype, order, copy, sparse_class, convmethod)\u001b[0m\n\u001b[1;32m     94\u001b[0m         \u001b[0m_assert_all_finite\u001b[0m\u001b[0;34m(\u001b[0m\u001b[0mX\u001b[0m\u001b[0;34m.\u001b[0m\u001b[0mdata\u001b[0m\u001b[0;34m)\u001b[0m\u001b[0;34m\u001b[0m\u001b[0m\n\u001b[1;32m     95\u001b[0m     \u001b[0;32melse\u001b[0m\u001b[0;34m:\u001b[0m\u001b[0;34m\u001b[0m\u001b[0m\n\u001b[0;32m---> 96\u001b[0;31m         \u001b[0mX\u001b[0m \u001b[0;34m=\u001b[0m \u001b[0marray2d\u001b[0m\u001b[0;34m(\u001b[0m\u001b[0mX\u001b[0m\u001b[0;34m,\u001b[0m \u001b[0mdtype\u001b[0m\u001b[0;34m=\u001b[0m\u001b[0mdtype\u001b[0m\u001b[0;34m,\u001b[0m \u001b[0morder\u001b[0m\u001b[0;34m=\u001b[0m\u001b[0morder\u001b[0m\u001b[0;34m,\u001b[0m \u001b[0mcopy\u001b[0m\u001b[0;34m=\u001b[0m\u001b[0mcopy\u001b[0m\u001b[0;34m)\u001b[0m\u001b[0;34m\u001b[0m\u001b[0m\n\u001b[0m\u001b[1;32m     97\u001b[0m         \u001b[0m_assert_all_finite\u001b[0m\u001b[0;34m(\u001b[0m\u001b[0mX\u001b[0m\u001b[0;34m)\u001b[0m\u001b[0;34m\u001b[0m\u001b[0m\n\u001b[1;32m     98\u001b[0m     \u001b[0;32mreturn\u001b[0m \u001b[0mX\u001b[0m\u001b[0;34m\u001b[0m\u001b[0m\n",
        "\u001b[0;32m/Users/jeongmingi/anaconda/lib/python2.7/site-packages/sklearn/utils/validation.pyc\u001b[0m in \u001b[0;36marray2d\u001b[0;34m(X, dtype, order, copy)\u001b[0m\n\u001b[1;32m     79\u001b[0m                         'is required. Use X.toarray() to convert to dense.')\n\u001b[1;32m     80\u001b[0m     \u001b[0mX_2d\u001b[0m \u001b[0;34m=\u001b[0m \u001b[0mnp\u001b[0m\u001b[0;34m.\u001b[0m\u001b[0masarray\u001b[0m\u001b[0;34m(\u001b[0m\u001b[0mnp\u001b[0m\u001b[0;34m.\u001b[0m\u001b[0matleast_2d\u001b[0m\u001b[0;34m(\u001b[0m\u001b[0mX\u001b[0m\u001b[0;34m)\u001b[0m\u001b[0;34m,\u001b[0m \u001b[0mdtype\u001b[0m\u001b[0;34m=\u001b[0m\u001b[0mdtype\u001b[0m\u001b[0;34m,\u001b[0m \u001b[0morder\u001b[0m\u001b[0;34m=\u001b[0m\u001b[0morder\u001b[0m\u001b[0;34m)\u001b[0m\u001b[0;34m\u001b[0m\u001b[0m\n\u001b[0;32m---> 81\u001b[0;31m     \u001b[0m_assert_all_finite\u001b[0m\u001b[0;34m(\u001b[0m\u001b[0mX_2d\u001b[0m\u001b[0;34m)\u001b[0m\u001b[0;34m\u001b[0m\u001b[0m\n\u001b[0m\u001b[1;32m     82\u001b[0m     \u001b[0;32mif\u001b[0m \u001b[0mX\u001b[0m \u001b[0;32mis\u001b[0m \u001b[0mX_2d\u001b[0m \u001b[0;32mand\u001b[0m \u001b[0mcopy\u001b[0m\u001b[0;34m:\u001b[0m\u001b[0;34m\u001b[0m\u001b[0m\n\u001b[1;32m     83\u001b[0m         \u001b[0mX_2d\u001b[0m \u001b[0;34m=\u001b[0m \u001b[0msafe_copy\u001b[0m\u001b[0;34m(\u001b[0m\u001b[0mX_2d\u001b[0m\u001b[0;34m)\u001b[0m\u001b[0;34m\u001b[0m\u001b[0m\n",
        "\u001b[0;32m/Users/jeongmingi/anaconda/lib/python2.7/site-packages/sklearn/utils/validation.pyc\u001b[0m in \u001b[0;36m_assert_all_finite\u001b[0;34m(X)\u001b[0m\n\u001b[1;32m     16\u001b[0m     if (X.dtype.char in np.typecodes['AllFloat'] and not np.isfinite(X.sum())\n\u001b[1;32m     17\u001b[0m             and not np.isfinite(X).all()):\n\u001b[0;32m---> 18\u001b[0;31m         \u001b[0;32mraise\u001b[0m \u001b[0mValueError\u001b[0m\u001b[0;34m(\u001b[0m\u001b[0;34m\"Array contains NaN or infinity.\"\u001b[0m\u001b[0;34m)\u001b[0m\u001b[0;34m\u001b[0m\u001b[0m\n\u001b[0m\u001b[1;32m     19\u001b[0m \u001b[0;34m\u001b[0m\u001b[0m\n\u001b[1;32m     20\u001b[0m \u001b[0;34m\u001b[0m\u001b[0m\n",
        "\u001b[0;31mValueError\u001b[0m: Array contains NaN or infinity."
       ]
      }
     ],
     "prompt_number": 42
    },
    {
     "cell_type": "code",
     "collapsed": false,
     "input": [
      "print (kmeans.cluster_centers_, kmeans.get_params())"
     ],
     "language": "python",
     "metadata": {},
     "outputs": [
      {
       "output_type": "stream",
       "stream": "stdout",
       "text": [
        "(array([[-0.44659852, -0.01731194],\n",
        "       [ 2.33210791, -2.21192245],\n",
        "       [ 2.0391355 ,  2.22439259]]), {'n_jobs': 1, 'verbose': 0, 'n_clusters': 3, 'k': None, 'max_iter': 300, 'init': 'k-means++', 'random_state': <mtrand.RandomState object at 0x1079e1f78>, 'n_init': 10, 'tol': 0.0001, 'precompute_distances': True, 'copy_x': True})\n"
       ]
      }
     ],
     "prompt_number": 97
    },
    {
     "cell_type": "code",
     "collapsed": false,
     "input": [
      "df.keys()"
     ],
     "language": "python",
     "metadata": {},
     "outputs": [
      {
       "output_type": "pyout",
       "prompt_number": 122,
       "text": [
        "Index([\ubbf8\uc6a9, \uc74c\uc545, \ub9ac\ubdf0, \uc5f0\uc608, \uc74c\uc2dd, \uc2a4\ud3ec\uce20, \uac8c\uc784, \uac74\uac15, \ud559\uc2b5, \ucee4\ubba4\ub2c8\ud2f0], dtype=object)"
       ]
      }
     ],
     "prompt_number": 122
    },
    {
     "cell_type": "code",
     "collapsed": false,
     "input": [
      "a = []\n"
     ],
     "language": "python",
     "metadata": {},
     "outputs": [],
     "prompt_number": 152
    },
    {
     "cell_type": "code",
     "collapsed": false,
     "input": [
      "for i, ddf in enumerate(kmeans.fit_predict(df)):\n",
      "    if kmeans.predict(df.ix[df.index[i]]) == 0:\n",
      "        a.append(i)\n",
      "        print df.ix[df.index[i]]\n",
      "    else:\n",
      "        pass\n",
      "    "
     ],
     "language": "python",
     "metadata": {},
     "outputs": [
      {
       "output_type": "stream",
       "stream": "stdout",
       "text": [
        "\ubbf8\uc6a9      5.097007\n",
        "\uc74c\uc545      0.725972\n",
        "\ub9ac\ubdf0      5.456478\n",
        "\uc5f0\uc608      8.854525\n",
        "\uc74c\uc2dd      8.891522\n",
        "\uc2a4\ud3ec\uce20     9.083575\n",
        "\uac8c\uc784     -1.752449\n",
        "\uac74\uac15      5.509682\n",
        "\ud559\uc2b5      7.726568\n",
        "\ucee4\ubba4\ub2c8\ud2f0    6.366225\n",
        "Name: \ubc30\ud2c0\uc544\ub808\ub098(BattleArena), dtype: float64\n",
        "\ubbf8\uc6a9       6.880165\n",
        "\uc74c\uc545      -1.443033\n",
        "\ub9ac\ubdf0       0.239636\n",
        "\uc5f0\uc608      10.637682\n",
        "\uc74c\uc2dd      10.674680\n",
        "\uc2a4\ud3ec\uce20     10.866732\n",
        "\uac8c\uc784       1.072102\n",
        "\uac74\uac15       7.292840\n",
        "\ud559\uc2b5       9.509726\n",
        "\ucee4\ubba4\ub2c8\ud2f0     8.149383\n",
        "Name: Scarface, dtype: float64\n",
        "\ubbf8\uc6a9      -0.802323\n",
        "\uc74c\uc545       1.525613\n",
        "\ub9ac\ubdf0      -1.698124\n",
        "\uc5f0\uc608       9.955195\n",
        "\uc74c\uc2dd       9.992193\n",
        "\uc2a4\ud3ec\uce20     10.184245\n",
        "\uac8c\uc784      -0.840835\n",
        "\uac74\uac15       6.610352\n",
        "\ud559\uc2b5       8.827239\n",
        "\ucee4\ubba4\ub2c8\ud2f0     7.466896\n",
        "Name: \u042f\u0439\u0446\u0435\u043b\u043e\u0432, dtype: float64\n",
        "\ubbf8\uc6a9       6.276859\n",
        "\uc74c\uc545       0.189820\n",
        "\ub9ac\ubdf0       6.636330\n",
        "\uc5f0\uc608      10.034376\n",
        "\uc74c\uc2dd      10.071374\n",
        "\uc2a4\ud3ec\uce20     10.263426\n",
        "\uac8c\uc784       7.468796\n",
        "\uac74\uac15       6.689534\n",
        "\ud559\uc2b5       8.906420\n",
        "\ucee4\ubba4\ub2c8\ud2f0     7.546077\n",
        "Name: Qello, dtype: float64\n",
        "\ubbf8\uc6a9      4.939399\n",
        "\uc74c\uc545      7.568365\n",
        "\ub9ac\ubdf0     -2.002159\n",
        "\uc5f0\uc608      8.696917\n",
        "\uc74c\uc2dd      8.733915\n",
        "\uc2a4\ud3ec\uce20     8.925967\n",
        "\uac8c\uc784     -1.470724\n",
        "\uac74\uac15      5.352074\n",
        "\ud559\uc2b5      7.568961\n",
        "\ucee4\ubba4\ub2c8\ud2f0    6.208618\n",
        "Name: \u4e0d\u601d\u8b70\u5fae\u751f\u7269\u30bf\u30de\u30bf\u30de\u7814\u7a76\u6240, dtype: float64\n",
        "\ubbf8\uc6a9      4.814461\n",
        "\uc74c\uc545      7.443426\n",
        "\ub9ac\ubdf0     -2.127098\n",
        "\uc5f0\uc608      8.571978\n",
        "\uc74c\uc2dd      8.608976\n",
        "\uc2a4\ud3ec\uce20     8.801028\n",
        "\uac8c\uc784     -1.294632\n",
        "\uac74\uac15      5.227136\n",
        "\ud559\uc2b5      7.444022\n",
        "\ucee4\ubba4\ub2c8\ud2f0    6.083679\n",
        "Name: \u30d1\u30c1\u30b9\u30ed\u300c\u7518\u3069\u308b!!\u300d, dtype: float64\n",
        "\ubbf8\uc6a9      3.735279\n",
        "\uc74c\uc545      6.364245\n",
        "\ub9ac\ubdf0      4.094751\n",
        "\uc5f0\uc608      7.492797\n",
        "\uc74c\uc2dd      7.529795\n",
        "\uc2a4\ud3ec\uce20     7.721847\n",
        "\uac8c\uc784      4.927216\n",
        "\uac74\uac15      4.147954\n",
        "\ud559\uc2b5      6.364841\n",
        "\ucee4\ubba4\ub2c8\ud2f0    5.004498\n",
        "Name: \u7f8e\u5973\u5341\u516b\u6478\u6478\u51fa\u9ad8\u6f6e, dtype: float64\n",
        "\ubbf8\uc6a9      5.337339\n",
        "\uc74c\uc545      7.966305\n",
        "\ub9ac\ubdf0     -1.905249\n",
        "\uc5f0\uc608      9.094857\n",
        "\uc74c\uc2dd      9.131855\n",
        "\uc2a4\ud3ec\uce20     9.323907\n",
        "\uac8c\uc784      6.529276\n",
        "\uac74\uac15      5.750014\n",
        "\ud559\uc2b5      7.966901\n",
        "\ucee4\ubba4\ub2c8\ud2f0    6.606558\n",
        "Name: \u7c21\u7e41:\u5bf5\u6587\u751c\u6587\u8a00\u60c5\u5c0f\u8aaa\u5408\u96c6[7], dtype: float64\n",
        "\ubbf8\uc6a9      5.388492\n",
        "\uc74c\uc545      1.017457\n",
        "\ub9ac\ubdf0      5.747963\n",
        "\uc5f0\uc608      9.146009\n",
        "\uc74c\uc2dd      9.183007\n",
        "\uc2a4\ud3ec\uce20     9.375060\n",
        "\uac8c\uc784      6.580429\n",
        "\uac74\uac15      5.801167\n",
        "\ud559\uc2b5      8.018053\n",
        "\ucee4\ubba4\ub2c8\ud2f0    6.657710\n",
        "Name: OctoCheck, dtype: float64\n",
        "\ubbf8\uc6a9       6.230824\n",
        "\uc74c\uc545       0.291587\n",
        "\ub9ac\ubdf0      -4.160599\n",
        "\uc5f0\uc608       9.988341\n",
        "\uc74c\uc2dd      10.025339\n",
        "\uc2a4\ud3ec\uce20     10.217391\n",
        "\uac8c\uc784       7.422761\n",
        "\uac74\uac15       6.643499\n",
        "\ud559\uc2b5       8.860385\n",
        "\ucee4\ubba4\ub2c8\ud2f0     7.500042\n",
        "Name: \u010cT24, dtype: float64\n",
        "\ubbf8\uc6a9      5.182437\n",
        "\uc74c\uc545      0.334281\n",
        "\ub9ac\ubdf0      5.541909\n",
        "\uc5f0\uc608      8.939955\n",
        "\uc74c\uc2dd      8.976953\n",
        "\uc2a4\ud3ec\uce20     9.169005\n",
        "\uac8c\uc784      6.374374\n",
        "\uac74\uac15      5.595112\n",
        "\ud559\uc2b5      7.811999\n",
        "\ucee4\ubba4\ub2c8\ud2f0    6.451656\n",
        "Name: ApeFlip, dtype: float64"
       ]
      },
      {
       "output_type": "stream",
       "stream": "stdout",
       "text": [
        "\n",
        "\ubbf8\uc6a9       6.735714\n",
        "\uc74c\uc545      -1.879574\n",
        "\ub9ac\ubdf0       0.095185\n",
        "\uc5f0\uc608      10.493231\n",
        "\uc74c\uc2dd      10.530229\n",
        "\uc2a4\ud3ec\uce20     10.722281\n",
        "\uac8c\uc784       7.927650\n",
        "\uac74\uac15      -0.152642\n",
        "\ud559\uc2b5       9.365275\n",
        "\ucee4\ubba4\ub2c8\ud2f0     8.004932\n",
        "Name: Equalizer, dtype: float64\n",
        "\ubbf8\uc6a9      5.036309\n",
        "\uc74c\uc545      0.188153\n",
        "\ub9ac\ubdf0     -1.905249\n",
        "\uc5f0\uc608      8.793827\n",
        "\uc74c\uc2dd      8.830825\n",
        "\uc2a4\ud3ec\uce20     9.022877\n",
        "\uac8c\uc784     -1.072784\n",
        "\uac74\uac15      5.448984\n",
        "\ud559\uc2b5      7.665871\n",
        "\ucee4\ubba4\ub2c8\ud2f0    6.305528\n",
        "Name: \u30aa\u30ea\u30b3\u30f3\u30df\u30e5\u30fc\u30b8\u30c3\u30af\u30b9\u30c8\u30a2, dtype: float64\n",
        "\ubbf8\uc6a9      4.939399\n",
        "\uc74c\uc545      7.568365\n",
        "\ub9ac\ubdf0     -2.178251\n",
        "\uc5f0\uc608      8.696917\n",
        "\uc74c\uc2dd      8.733915\n",
        "\uc2a4\ud3ec\uce20     8.925967\n",
        "\uac8c\uc784     -1.169694\n",
        "\uac74\uac15      5.352074\n",
        "\ud559\uc2b5      7.568961\n",
        "\ucee4\ubba4\ub2c8\ud2f0    6.208618\n",
        "Name: \u4e58\u6cd5\u5c0f\u5b78\u5802, dtype: float64\n",
        "\ubbf8\uc6a9      5.425476\n",
        "\uc74c\uc545      8.054441\n",
        "\ub9ac\ubdf0     -2.746532\n",
        "\uc5f0\uc608      9.182993\n",
        "\uc74c\uc2dd      9.219991\n",
        "\uc2a4\ud3ec\uce20     9.412043\n",
        "\uac8c\uc784     -1.780528\n",
        "\uac74\uac15      5.838151\n",
        "\ud559\uc2b5      8.055037\n",
        "\ucee4\ubba4\ub2c8\ud2f0    6.694694\n",
        "Name: EZ\u65c5\u904a\u65e5\u8a9e, dtype: float64\n",
        "\ubbf8\uc6a9      5.291582\n",
        "\uc74c\uc545      7.920547\n",
        "\ub9ac\ubdf0     -2.746887\n",
        "\uc5f0\uc608      9.049099\n",
        "\uc74c\uc2dd      9.086097\n",
        "\uc2a4\ud3ec\uce20     9.278150\n",
        "\uac8c\uc784     -1.795235\n",
        "\uac74\uac15      5.704257\n",
        "\ud559\uc2b5      7.921143\n",
        "\ucee4\ubba4\ub2c8\ud2f0    6.560800\n",
        "Name: EZ\u7f8e\u98df\u65e5\u8a9e, dtype: float64\n",
        "\ubbf8\uc6a9      5.527671\n",
        "\uc74c\uc545      8.156636\n",
        "\ub9ac\ubdf0     -1.112858\n",
        "\uc5f0\uc608      9.285189\n",
        "\uc74c\uc2dd      9.322186\n",
        "\uc2a4\ud3ec\uce20     9.514239\n",
        "\uac8c\uc784     -0.882452\n",
        "\uac74\uac15      5.940346\n",
        "\ud559\uc2b5      8.157232\n",
        "\ucee4\ubba4\ub2c8\ud2f0    6.796889\n",
        "Name: \u79d8\u5bf6\u63a2\u5075, dtype: float64\n",
        "\ubbf8\uc6a9       7.586782\n",
        "\uc74c\uc545       1.467559\n",
        "\ub9ac\ubdf0      -2.937010\n",
        "\uc5f0\uc608      11.344300\n",
        "\uc74c\uc2dd      11.381298\n",
        "\uc2a4\ud3ec\uce20     11.573350\n",
        "\uac8c\uc784       1.079749\n",
        "\uac74\uac15       0.698427\n",
        "\ud559\uc2b5      10.216344\n",
        "\ucee4\ubba4\ub2c8\ud2f0     8.856001\n",
        "Name: \u010cT4, dtype: float64\n",
        "\ubbf8\uc6a9       6.997731\n",
        "\uc74c\uc545       0.540336\n",
        "\ub9ac\ubdf0      -3.464312\n",
        "\uc5f0\uc608      10.755248\n",
        "\uc74c\uc2dd      10.792246\n",
        "\uc2a4\ud3ec\uce20     10.984298\n",
        "\uac8c\uc784       8.189667\n",
        "\uac74\uac15       7.410406\n",
        "\ud559\uc2b5       9.627292\n",
        "\ucee4\ubba4\ub2c8\ud2f0     8.266949\n",
        "Name: KK-Boxing, dtype: float64\n",
        "\ubbf8\uc6a9       6.419227\n",
        "\uc74c\uc545       1.006799\n",
        "\ub9ac\ubdf0      -2.208074\n",
        "\uc5f0\uc608      10.176744\n",
        "\uc74c\uc2dd      10.213742\n",
        "\uc2a4\ud3ec\uce20     10.405794\n",
        "\uac8c\uc784      -1.137025\n",
        "\uac74\uac15      -0.946250\n",
        "\ud559\uc2b5       9.048788\n",
        "\ucee4\ubba4\ub2c8\ud2f0     7.688445\n",
        "Name: \u5fc3\u9748\u6545\u4e8b, dtype: float64\n",
        "\ubbf8\uc6a9      5.925611\n",
        "\uc74c\uc545      0.651486\n",
        "\ub9ac\ubdf0      6.285082\n",
        "\uc5f0\uc608      9.683129\n",
        "\uc74c\uc2dd      9.720126\n",
        "\uc2a4\ud3ec\uce20     9.912179\n",
        "\uac8c\uc784      7.117548\n",
        "\uac74\uac15      6.338286\n",
        "\ud559\uc2b5      8.555172\n",
        "\ucee4\ubba4\ub2c8\ud2f0    7.194829\n",
        "Name: Dropwords, dtype: float64\n",
        "\ubbf8\uc6a9       7.447424\n",
        "\uc74c\uc545      -0.469536\n",
        "\ub9ac\ubdf0       7.806895\n",
        "\uc5f0\uc608      11.204941\n",
        "\uc74c\uc2dd      11.241939\n",
        "\uc2a4\ud3ec\uce20     11.433991\n",
        "\uac8c\uc784       8.639361\n",
        "\uac74\uac15       7.860099\n",
        "\ud559\uc2b5      10.076985\n",
        "\ucee4\ubba4\ub2c8\ud2f0     8.716642\n",
        "Name: Squibble, dtype: float64\n",
        "\ubbf8\uc6a9      4.434249\n",
        "\uc74c\uc545      7.063215\n",
        "\ub9ac\ubdf0      4.793721\n",
        "\uc5f0\uc608      8.191767\n",
        "\uc74c\uc2dd      8.228765\n",
        "\uc2a4\ud3ec\uce20     8.420817\n",
        "\uac8c\uc784     -1.674844\n",
        "\uac74\uac15      4.846924\n",
        "\ud559\uc2b5      7.063811\n",
        "\ucee4\ubba4\ub2c8\ud2f0    5.703468\n",
        "Name: \u62c6\u5f48\u9a5a\u9b42, dtype: float64\n",
        "\ubbf8\uc6a9      5.451283\n",
        "\uc74c\uc545      8.080248\n",
        "\ub9ac\ubdf0      5.810754\n",
        "\uc5f0\uc608      9.208800\n",
        "\uc74c\uc2dd      9.245798\n",
        "\uc2a4\ud3ec\uce20     9.437850\n",
        "\uac8c\uc784     -0.356780\n",
        "\uac74\uac15      5.863958\n",
        "\ud559\uc2b5      8.080844\n",
        "\ucee4\ubba4\ub2c8\ud2f0    6.720501\n",
        "Name: 3D\u5168\u666f\u62cd\u7167, dtype: float64\n",
        "\ubbf8\uc6a9      4.513431\n",
        "\uc74c\uc545      7.142396\n",
        "\ub9ac\ubdf0      4.872902\n",
        "\uc5f0\uc608      8.270948\n",
        "\uc74c\uc2dd      8.307946\n",
        "\uc2a4\ud3ec\uce20     8.499998\n",
        "\uac8c\uc784      5.705368\n",
        "\uac74\uac15      4.926106\n",
        "\ud559\uc2b5      7.142992\n",
        "\ucee4\ubba4\ub2c8\ud2f0    5.782649\n",
        "Name: \u7f8e\u56e2\u56e2\u8d2d\uff08\u56e2\u8d2d\u5fc5\u5907), dtype: float64"
       ]
      },
      {
       "output_type": "stream",
       "stream": "stdout",
       "text": [
        "\n",
        "\ubbf8\uc6a9       6.031945\n",
        "\uc74c\uc545       0.318487\n",
        "\ub9ac\ubdf0       6.391416\n",
        "\uc5f0\uc608       9.789462\n",
        "\uc74c\uc2dd       9.826460\n",
        "\uc2a4\ud3ec\uce20     10.018512\n",
        "\uac8c\uc784       7.223882\n",
        "\uac74\uac15       6.444620\n",
        "\ud559\uc2b5       8.661506\n",
        "\ucee4\ubba4\ub2c8\ud2f0     7.301163\n",
        "Name: Avoooid!Hero, dtype: float64\n",
        "\ubbf8\uc6a9       6.210951\n",
        "\uc74c\uc545      -1.880905\n",
        "\ub9ac\ubdf0       6.570422\n",
        "\uc5f0\uc608       9.968468\n",
        "\uc74c\uc2dd      10.005466\n",
        "\uc2a4\ud3ec\uce20     10.197518\n",
        "\uac8c\uc784       7.402888\n",
        "\uac74\uac15       6.623626\n",
        "\ud559\uc2b5       8.840512\n",
        "\ucee4\ubba4\ub2c8\ud2f0     7.480169\n",
        "Name: Hangman, dtype: float64\n",
        "\ubbf8\uc6a9       6.590799\n",
        "\uc74c\uc545       0.606980\n",
        "\ub9ac\ubdf0       6.950270\n",
        "\uc5f0\uc608      10.348316\n",
        "\uc74c\uc2dd      10.385314\n",
        "\uc2a4\ud3ec\uce20     10.577366\n",
        "\uac8c\uc784       7.782735\n",
        "\uac74\uac15       7.003474\n",
        "\ud559\uc2b5       9.220360\n",
        "\ucee4\ubba4\ub2c8\ud2f0     7.860017\n",
        "Name: Brainsss, dtype: float64\n",
        "\ubbf8\uc6a9      5.303481\n",
        "\uc74c\uc545      7.932446\n",
        "\ub9ac\ubdf0      5.662952\n",
        "\uc5f0\uc608      9.060999\n",
        "\uc74c\uc2dd      9.097996\n",
        "\uc2a4\ud3ec\uce20     9.290049\n",
        "\uac8c\uc784     -0.981703\n",
        "\uac74\uac15      5.716156\n",
        "\ud559\uc2b5      7.933042\n",
        "\ucee4\ubba4\ub2c8\ud2f0    6.572699\n",
        "Name: \u901a\u8a71\u7d00\u9304++, dtype: float64\n",
        "\ubbf8\uc6a9      3.735279\n",
        "\uc74c\uc545     -1.589998\n",
        "\ub9ac\ubdf0      4.094751\n",
        "\uc5f0\uc608      7.492797\n",
        "\uc74c\uc2dd      7.529795\n",
        "\uc2a4\ud3ec\uce20     7.721847\n",
        "\uac8c\uc784      4.927216\n",
        "\uac74\uac15      4.147954\n",
        "\ud559\uc2b5      6.364841\n",
        "\ucee4\ubba4\ub2c8\ud2f0    5.004498\n",
        "Name: \u9f8d\u65cf, dtype: float64\n",
        "\ubbf8\uc6a9      4.939399\n",
        "\uc74c\uc545      7.568365\n",
        "\ub9ac\ubdf0      5.298871\n",
        "\uc5f0\uc608      8.696917\n",
        "\uc74c\uc2dd      8.733915\n",
        "\uc2a4\ud3ec\uce20     8.925967\n",
        "\uac8c\uc784      6.131336\n",
        "\uac74\uac15      5.352074\n",
        "\ud559\uc2b5      7.568961\n",
        "\ucee4\ubba4\ub2c8\ud2f0    6.208618\n",
        "Name: CANALTOUCH, dtype: float64\n",
        "\ubbf8\uc6a9       6.933662\n",
        "\uc74c\uc545       0.545593\n",
        "\ub9ac\ubdf0       7.293133\n",
        "\uc5f0\uc608      10.691179\n",
        "\uc74c\uc2dd      10.728177\n",
        "\uc2a4\ud3ec\uce20     10.920229\n",
        "\uac8c\uc784       8.125598\n",
        "\uac74\uac15       7.346337\n",
        "\ud559\uc2b5       9.563223\n",
        "\ucee4\ubba4\ub2c8\ud2f0     8.202880\n",
        "Name: Zombocalypse, dtype: float64\n",
        "\ubbf8\uc6a9      4.580377\n",
        "\uc74c\uc545      7.209343\n",
        "\ub9ac\ubdf0      4.939849\n",
        "\uc5f0\uc608      8.337895\n",
        "\uc74c\uc2dd      8.374893\n",
        "\uc2a4\ud3ec\uce20     8.566945\n",
        "\uac8c\uc784     -1.227686\n",
        "\uac74\uac15      4.993052\n",
        "\ud559\uc2b5      7.209939\n",
        "\ucee4\ubba4\ub2c8\ud2f0    5.849596\n",
        "Name: \u6a02\u900f\u5c0d\u514c\u734e, dtype: float64\n",
        "\ubbf8\uc6a9       6.585313\n",
        "\uc74c\uc545      -0.013609\n",
        "\ub9ac\ubdf0       6.944784\n",
        "\uc5f0\uc608      10.342830\n",
        "\uc74c\uc2dd      10.379828\n",
        "\uc2a4\ud3ec\uce20     10.571880\n",
        "\uac8c\uc784       7.777250\n",
        "\uac74\uac15       6.997988\n",
        "\ud559\uc2b5       9.214874\n",
        "\ucee4\ubba4\ub2c8\ud2f0     7.854531\n",
        "Name: Skyriders, dtype: float64\n",
        "\ubbf8\uc6a9       7.184140\n",
        "\uc74c\uc545       0.350707\n",
        "\ub9ac\ubdf0       7.543611\n",
        "\uc5f0\uc608      10.941658\n",
        "\uc74c\uc2dd      10.978655\n",
        "\uc2a4\ud3ec\uce20     11.170708\n",
        "\uac8c\uc784       8.376077\n",
        "\uac74\uac15       7.596815\n",
        "\ud559\uc2b5       9.813701\n",
        "\ucee4\ubba4\ub2c8\ud2f0     8.453358\n",
        "Name: Wordfeud, dtype: float64\n",
        "\ubbf8\uc6a9      4.212401\n",
        "\uc74c\uc545      6.841366\n",
        "\ub9ac\ubdf0      4.571872\n",
        "\uc5f0\uc608      7.969918\n",
        "\uc74c\uc2dd      8.006916\n",
        "\uc2a4\ud3ec\uce20     8.198968\n",
        "\uac8c\uc784     -1.896692\n",
        "\uac74\uac15      4.625076\n",
        "\ud559\uc2b5      6.841962\n",
        "\ucee4\ubba4\ub2c8\ud2f0    5.481619\n",
        "Name: \u5929\u5929\u7f8e\u56fe--\u6700\u4f73\u5716\u7247\u7f8e\u5316\u8655\u7406\u5de5\u5177, dtype: float64\n",
        "\ubbf8\uc6a9       6.177759\n",
        "\uc74c\uc545       0.204664\n",
        "\ub9ac\ubdf0       6.537230\n",
        "\uc5f0\uc608       9.935277\n",
        "\uc74c\uc2dd       9.972274\n",
        "\uc2a4\ud3ec\uce20     10.164327\n",
        "\uac8c\uc784       7.369696\n",
        "\uac74\uac15       6.590434\n",
        "\ud559\uc2b5       8.807320\n",
        "\ucee4\ubba4\ub2c8\ud2f0     7.446977\n",
        "Name: TheEndApp, dtype: float64"
       ]
      },
      {
       "output_type": "stream",
       "stream": "stdout",
       "text": [
        "\n",
        "\ubbf8\uc6a9       6.502435\n",
        "\uc74c\uc545       0.367972\n",
        "\ub9ac\ubdf0       6.861906\n",
        "\uc5f0\uc608      10.259953\n",
        "\uc74c\uc2dd      10.296950\n",
        "\uc2a4\ud3ec\uce20     10.489003\n",
        "\uac8c\uc784       7.694372\n",
        "\uac74\uac15       6.915110\n",
        "\ud559\uc2b5       9.131996\n",
        "\ucee4\ubba4\ub2c8\ud2f0     7.771654\n",
        "Name: Jellyflop!, dtype: float64\n",
        "\ubbf8\uc6a9       6.907006\n",
        "\uc74c\uc545      -0.558849\n",
        "\ub9ac\ubdf0       7.266477\n",
        "\uc5f0\uc608      10.664523\n",
        "\uc74c\uc2dd      10.701521\n",
        "\uc2a4\ud3ec\uce20     10.893574\n",
        "\uac8c\uc784       8.098943\n",
        "\uac74\uac15       7.319681\n",
        "\ud559\uc2b5       9.536567\n",
        "\ucee4\ubba4\ub2c8\ud2f0     8.176224\n",
        "Name: ParkingBreak_Lite, dtype: float64\n",
        "\ubbf8\uc6a9      3.735279\n",
        "\uc74c\uc545      6.364245\n",
        "\ub9ac\ubdf0      4.094751\n",
        "\uc5f0\uc608      7.492797\n",
        "\uc74c\uc2dd      7.529795\n",
        "\uc2a4\ud3ec\uce20     7.721847\n",
        "\uac8c\uc784      4.927216\n",
        "\uac74\uac15      4.147954\n",
        "\ud559\uc2b5      6.364841\n",
        "\ucee4\ubba4\ub2c8\ud2f0    5.004498\n",
        "Name: \u017bulionerzy, dtype: float64\n",
        "\ubbf8\uc6a9      4.776672\n",
        "\uc74c\uc545      0.104607\n",
        "\ub9ac\ubdf0      5.136143\n",
        "\uc5f0\uc608      8.534190\n",
        "\uc74c\uc2dd      8.571187\n",
        "\uc2a4\ud3ec\uce20     8.763240\n",
        "\uac8c\uc784     -1.031391\n",
        "\uac74\uac15      5.189347\n",
        "\ud559\uc2b5      7.406233\n",
        "\ucee4\ubba4\ub2c8\ud2f0    6.045890\n",
        "Name: \u4e0d\u597d\u7b11\u514d\u9322, dtype: float64\n",
        "\ubbf8\uc6a9      4.580377\n",
        "\uc74c\uc545      0.209343\n",
        "\ub9ac\ubdf0      4.939849\n",
        "\uc5f0\uc608      8.337895\n",
        "\uc74c\uc2dd      8.374893\n",
        "\uc2a4\ud3ec\uce20     8.566945\n",
        "\uac8c\uc784     -1.227686\n",
        "\uac74\uac15      4.993052\n",
        "\ud559\uc2b5      7.209939\n",
        "\ucee4\ubba4\ub2c8\ud2f0    5.849596\n",
        "Name: \u61f7\u5ff5\u91d1\u66f2, dtype: float64\n",
        "\ubbf8\uc6a9      5.598602\n",
        "\uc74c\uc545      8.227567\n",
        "\ub9ac\ubdf0      5.958073\n",
        "\uc5f0\uc608      9.356120\n",
        "\uc74c\uc2dd      9.393117\n",
        "\uc2a4\ud3ec\uce20     9.585170\n",
        "\uac8c\uc784      6.790539\n",
        "\uac74\uac15      6.011277\n",
        "\ud559\uc2b5      8.228163\n",
        "\ucee4\ubba4\ub2c8\ud2f0    6.867820\n",
        "Name: Winulator-beta, dtype: float64\n",
        "\ubbf8\uc6a9       6.608018\n",
        "\uc74c\uc545       0.875256\n",
        "\ub9ac\ubdf0       6.967489\n",
        "\uc5f0\uc608      10.365536\n",
        "\uc74c\uc2dd      10.402533\n",
        "\uc2a4\ud3ec\uce20     10.594586\n",
        "\uac8c\uc784       7.799955\n",
        "\uac74\uac15       7.020693\n",
        "\ud559\uc2b5       9.237579\n",
        "\ucee4\ubba4\ub2c8\ud2f0     7.877236\n",
        "Name: VPET, dtype: float64\n",
        "\ubbf8\uc6a9      4.036309\n",
        "\uc74c\uc545      6.665275\n",
        "\ub9ac\ubdf0      4.395781\n",
        "\uc5f0\uc608      7.793827\n",
        "\uc74c\uc2dd      7.830825\n",
        "\uc2a4\ud3ec\uce20     8.022877\n",
        "\uac8c\uc784      5.228246\n",
        "\uac74\uac15      4.448984\n",
        "\ud559\uc2b5      6.665871\n",
        "\ucee4\ubba4\ub2c8\ud2f0    5.305528\n",
        "Name: MineGuides, dtype: float64\n"
       ]
      }
     ],
     "prompt_number": 165
    },
    {
     "cell_type": "code",
     "collapsed": false,
     "input": [],
     "language": "python",
     "metadata": {},
     "outputs": [],
     "prompt_number": 23
    },
    {
     "cell_type": "code",
     "collapsed": false,
     "input": [
      "for i in df.ix[df.index[4]]:\n",
      "    if 0 == i:\n",
      "        pass\n",
      "        #print 0\n",
      "    else:\n",
      "        print 1"
     ],
     "language": "python",
     "metadata": {},
     "outputs": [],
     "prompt_number": 59
    },
    {
     "cell_type": "code",
     "collapsed": false,
     "input": [],
     "language": "python",
     "metadata": {},
     "outputs": []
    },
    {
     "cell_type": "code",
     "collapsed": false,
     "input": [],
     "language": "python",
     "metadata": {},
     "outputs": []
    },
    {
     "cell_type": "code",
     "collapsed": false,
     "input": [],
     "language": "python",
     "metadata": {},
     "outputs": []
    },
    {
     "cell_type": "code",
     "collapsed": false,
     "input": [],
     "language": "python",
     "metadata": {},
     "outputs": []
    },
    {
     "cell_type": "code",
     "collapsed": false,
     "input": [],
     "language": "python",
     "metadata": {},
     "outputs": []
    },
    {
     "cell_type": "code",
     "collapsed": false,
     "input": [
      "X2 = df[]\n",
      "pca = PCA(n_components=2, whiten=True).fit(X2)\n",
      "X_pca = pca.transform(X2)\n",
      "kmeans.fit(X_pca)"
     ],
     "language": "python",
     "metadata": {},
     "outputs": [
      {
       "ename": "KeyError",
       "evalue": "u'no item named 0'",
       "output_type": "pyerr",
       "traceback": [
        "\u001b[0;31m---------------------------------------------------------------------------\u001b[0m\n\u001b[0;31mKeyError\u001b[0m                                  Traceback (most recent call last)",
        "\u001b[0;32m<ipython-input-130-4ffe5d8b9ce9>\u001b[0m in \u001b[0;36m<module>\u001b[0;34m()\u001b[0m\n\u001b[0;32m----> 1\u001b[0;31m \u001b[0mX2\u001b[0m \u001b[0;34m=\u001b[0m \u001b[0mdf\u001b[0m\u001b[0;34m[\u001b[0m\u001b[0;36m0\u001b[0m\u001b[0;34m]\u001b[0m\u001b[0;34m\u001b[0m\u001b[0m\n\u001b[0m\u001b[1;32m      2\u001b[0m \u001b[0mpca\u001b[0m \u001b[0;34m=\u001b[0m \u001b[0mPCA\u001b[0m\u001b[0;34m(\u001b[0m\u001b[0mn_components\u001b[0m\u001b[0;34m=\u001b[0m\u001b[0;36m2\u001b[0m\u001b[0;34m,\u001b[0m \u001b[0mwhiten\u001b[0m\u001b[0;34m=\u001b[0m\u001b[0mTrue\u001b[0m\u001b[0;34m)\u001b[0m\u001b[0;34m.\u001b[0m\u001b[0mfit\u001b[0m\u001b[0;34m(\u001b[0m\u001b[0mX2\u001b[0m\u001b[0;34m)\u001b[0m\u001b[0;34m\u001b[0m\u001b[0m\n\u001b[1;32m      3\u001b[0m \u001b[0mX_pca\u001b[0m \u001b[0;34m=\u001b[0m \u001b[0mpca\u001b[0m\u001b[0;34m.\u001b[0m\u001b[0mtransform\u001b[0m\u001b[0;34m(\u001b[0m\u001b[0mX2\u001b[0m\u001b[0;34m)\u001b[0m\u001b[0;34m\u001b[0m\u001b[0m\n\u001b[1;32m      4\u001b[0m \u001b[0mkmeans\u001b[0m\u001b[0;34m.\u001b[0m\u001b[0mfit\u001b[0m\u001b[0;34m(\u001b[0m\u001b[0mX_pca\u001b[0m\u001b[0;34m)\u001b[0m\u001b[0;34m\u001b[0m\u001b[0m\n",
        "\u001b[0;32m/Users/jeongmingi/anaconda/lib/python2.7/site-packages/pandas/core/frame.pyc\u001b[0m in \u001b[0;36m__getitem__\u001b[0;34m(self, key)\u001b[0m\n\u001b[1;32m   1926\u001b[0m         \u001b[0;32melse\u001b[0m\u001b[0;34m:\u001b[0m\u001b[0;34m\u001b[0m\u001b[0m\n\u001b[1;32m   1927\u001b[0m             \u001b[0;31m# get column\u001b[0m\u001b[0;34m\u001b[0m\u001b[0;34m\u001b[0m\u001b[0m\n\u001b[0;32m-> 1928\u001b[0;31m             \u001b[0;32mreturn\u001b[0m \u001b[0mself\u001b[0m\u001b[0;34m.\u001b[0m\u001b[0m_get_item_cache\u001b[0m\u001b[0;34m(\u001b[0m\u001b[0mkey\u001b[0m\u001b[0;34m)\u001b[0m\u001b[0;34m\u001b[0m\u001b[0m\n\u001b[0m\u001b[1;32m   1929\u001b[0m \u001b[0;34m\u001b[0m\u001b[0m\n\u001b[1;32m   1930\u001b[0m     \u001b[0;32mdef\u001b[0m \u001b[0m_getitem_slice\u001b[0m\u001b[0;34m(\u001b[0m\u001b[0mself\u001b[0m\u001b[0;34m,\u001b[0m \u001b[0mkey\u001b[0m\u001b[0;34m)\u001b[0m\u001b[0;34m:\u001b[0m\u001b[0;34m\u001b[0m\u001b[0m\n",
        "\u001b[0;32m/Users/jeongmingi/anaconda/lib/python2.7/site-packages/pandas/core/generic.pyc\u001b[0m in \u001b[0;36m_get_item_cache\u001b[0;34m(self, item)\u001b[0m\n\u001b[1;32m    568\u001b[0m             \u001b[0;32mreturn\u001b[0m \u001b[0mcache\u001b[0m\u001b[0;34m[\u001b[0m\u001b[0mitem\u001b[0m\u001b[0;34m]\u001b[0m\u001b[0;34m\u001b[0m\u001b[0m\n\u001b[1;32m    569\u001b[0m         \u001b[0;32mexcept\u001b[0m \u001b[0mException\u001b[0m\u001b[0;34m:\u001b[0m\u001b[0;34m\u001b[0m\u001b[0m\n\u001b[0;32m--> 570\u001b[0;31m             \u001b[0mvalues\u001b[0m \u001b[0;34m=\u001b[0m \u001b[0mself\u001b[0m\u001b[0;34m.\u001b[0m\u001b[0m_data\u001b[0m\u001b[0;34m.\u001b[0m\u001b[0mget\u001b[0m\u001b[0;34m(\u001b[0m\u001b[0mitem\u001b[0m\u001b[0;34m)\u001b[0m\u001b[0;34m\u001b[0m\u001b[0m\n\u001b[0m\u001b[1;32m    571\u001b[0m             \u001b[0mres\u001b[0m \u001b[0;34m=\u001b[0m \u001b[0mself\u001b[0m\u001b[0;34m.\u001b[0m\u001b[0m_box_item_values\u001b[0m\u001b[0;34m(\u001b[0m\u001b[0mitem\u001b[0m\u001b[0;34m,\u001b[0m \u001b[0mvalues\u001b[0m\u001b[0;34m)\u001b[0m\u001b[0;34m\u001b[0m\u001b[0m\n\u001b[1;32m    572\u001b[0m             \u001b[0mcache\u001b[0m\u001b[0;34m[\u001b[0m\u001b[0mitem\u001b[0m\u001b[0;34m]\u001b[0m \u001b[0;34m=\u001b[0m \u001b[0mres\u001b[0m\u001b[0;34m\u001b[0m\u001b[0m\n",
        "\u001b[0;32m/Users/jeongmingi/anaconda/lib/python2.7/site-packages/pandas/core/internals.pyc\u001b[0m in \u001b[0;36mget\u001b[0;34m(self, item)\u001b[0m\n\u001b[1;32m   1381\u001b[0m \u001b[0;34m\u001b[0m\u001b[0m\n\u001b[1;32m   1382\u001b[0m     \u001b[0;32mdef\u001b[0m \u001b[0mget\u001b[0m\u001b[0;34m(\u001b[0m\u001b[0mself\u001b[0m\u001b[0;34m,\u001b[0m \u001b[0mitem\u001b[0m\u001b[0;34m)\u001b[0m\u001b[0;34m:\u001b[0m\u001b[0;34m\u001b[0m\u001b[0m\n\u001b[0;32m-> 1383\u001b[0;31m         \u001b[0m_\u001b[0m\u001b[0;34m,\u001b[0m \u001b[0mblock\u001b[0m \u001b[0;34m=\u001b[0m \u001b[0mself\u001b[0m\u001b[0;34m.\u001b[0m\u001b[0m_find_block\u001b[0m\u001b[0;34m(\u001b[0m\u001b[0mitem\u001b[0m\u001b[0;34m)\u001b[0m\u001b[0;34m\u001b[0m\u001b[0m\n\u001b[0m\u001b[1;32m   1384\u001b[0m         \u001b[0;32mreturn\u001b[0m \u001b[0mblock\u001b[0m\u001b[0;34m.\u001b[0m\u001b[0mget\u001b[0m\u001b[0;34m(\u001b[0m\u001b[0mitem\u001b[0m\u001b[0;34m)\u001b[0m\u001b[0;34m\u001b[0m\u001b[0m\n\u001b[1;32m   1385\u001b[0m \u001b[0;34m\u001b[0m\u001b[0m\n",
        "\u001b[0;32m/Users/jeongmingi/anaconda/lib/python2.7/site-packages/pandas/core/internals.pyc\u001b[0m in \u001b[0;36m_find_block\u001b[0;34m(self, item)\u001b[0m\n\u001b[1;32m   1523\u001b[0m \u001b[0;34m\u001b[0m\u001b[0m\n\u001b[1;32m   1524\u001b[0m     \u001b[0;32mdef\u001b[0m \u001b[0m_find_block\u001b[0m\u001b[0;34m(\u001b[0m\u001b[0mself\u001b[0m\u001b[0;34m,\u001b[0m \u001b[0mitem\u001b[0m\u001b[0;34m)\u001b[0m\u001b[0;34m:\u001b[0m\u001b[0;34m\u001b[0m\u001b[0m\n\u001b[0;32m-> 1525\u001b[0;31m         \u001b[0mself\u001b[0m\u001b[0;34m.\u001b[0m\u001b[0m_check_have\u001b[0m\u001b[0;34m(\u001b[0m\u001b[0mitem\u001b[0m\u001b[0;34m)\u001b[0m\u001b[0;34m\u001b[0m\u001b[0m\n\u001b[0m\u001b[1;32m   1526\u001b[0m         \u001b[0;32mfor\u001b[0m \u001b[0mi\u001b[0m\u001b[0;34m,\u001b[0m \u001b[0mblock\u001b[0m \u001b[0;32min\u001b[0m \u001b[0menumerate\u001b[0m\u001b[0;34m(\u001b[0m\u001b[0mself\u001b[0m\u001b[0;34m.\u001b[0m\u001b[0mblocks\u001b[0m\u001b[0;34m)\u001b[0m\u001b[0;34m:\u001b[0m\u001b[0;34m\u001b[0m\u001b[0m\n\u001b[1;32m   1527\u001b[0m             \u001b[0;32mif\u001b[0m \u001b[0mitem\u001b[0m \u001b[0;32min\u001b[0m \u001b[0mblock\u001b[0m\u001b[0;34m:\u001b[0m\u001b[0;34m\u001b[0m\u001b[0m\n",
        "\u001b[0;32m/Users/jeongmingi/anaconda/lib/python2.7/site-packages/pandas/core/internals.pyc\u001b[0m in \u001b[0;36m_check_have\u001b[0;34m(self, item)\u001b[0m\n\u001b[1;32m   1530\u001b[0m     \u001b[0;32mdef\u001b[0m \u001b[0m_check_have\u001b[0m\u001b[0;34m(\u001b[0m\u001b[0mself\u001b[0m\u001b[0;34m,\u001b[0m \u001b[0mitem\u001b[0m\u001b[0;34m)\u001b[0m\u001b[0;34m:\u001b[0m\u001b[0;34m\u001b[0m\u001b[0m\n\u001b[1;32m   1531\u001b[0m         \u001b[0;32mif\u001b[0m \u001b[0mitem\u001b[0m \u001b[0;32mnot\u001b[0m \u001b[0;32min\u001b[0m \u001b[0mself\u001b[0m\u001b[0;34m.\u001b[0m\u001b[0mitems\u001b[0m\u001b[0;34m:\u001b[0m\u001b[0;34m\u001b[0m\u001b[0m\n\u001b[0;32m-> 1532\u001b[0;31m             \u001b[0;32mraise\u001b[0m \u001b[0mKeyError\u001b[0m\u001b[0;34m(\u001b[0m\u001b[0;34m'no item named %s'\u001b[0m \u001b[0;34m%\u001b[0m \u001b[0mcom\u001b[0m\u001b[0;34m.\u001b[0m\u001b[0mpprint_thing\u001b[0m\u001b[0;34m(\u001b[0m\u001b[0mitem\u001b[0m\u001b[0;34m)\u001b[0m\u001b[0;34m)\u001b[0m\u001b[0;34m\u001b[0m\u001b[0m\n\u001b[0m\u001b[1;32m   1533\u001b[0m \u001b[0;34m\u001b[0m\u001b[0m\n\u001b[1;32m   1534\u001b[0m     \u001b[0;32mdef\u001b[0m \u001b[0mreindex_axis\u001b[0m\u001b[0;34m(\u001b[0m\u001b[0mself\u001b[0m\u001b[0;34m,\u001b[0m \u001b[0mnew_axis\u001b[0m\u001b[0;34m,\u001b[0m \u001b[0mmethod\u001b[0m\u001b[0;34m=\u001b[0m\u001b[0mNone\u001b[0m\u001b[0;34m,\u001b[0m \u001b[0maxis\u001b[0m\u001b[0;34m=\u001b[0m\u001b[0;36m0\u001b[0m\u001b[0;34m,\u001b[0m \u001b[0mcopy\u001b[0m\u001b[0;34m=\u001b[0m\u001b[0mTrue\u001b[0m\u001b[0;34m)\u001b[0m\u001b[0;34m:\u001b[0m\u001b[0;34m\u001b[0m\u001b[0m\n",
        "\u001b[0;31mKeyError\u001b[0m: u'no item named 0'"
       ]
      }
     ],
     "prompt_number": 130
    },
    {
     "cell_type": "code",
     "collapsed": false,
     "input": [],
     "language": "python",
     "metadata": {},
     "outputs": []
    },
    {
     "cell_type": "code",
     "collapsed": false,
     "input": [],
     "language": "python",
     "metadata": {},
     "outputs": []
    },
    {
     "cell_type": "code",
     "collapsed": false,
     "input": [],
     "language": "python",
     "metadata": {},
     "outputs": []
    },
    {
     "cell_type": "code",
     "collapsed": false,
     "input": [],
     "language": "python",
     "metadata": {},
     "outputs": []
    },
    {
     "cell_type": "code",
     "collapsed": false,
     "input": [],
     "language": "python",
     "metadata": {},
     "outputs": []
    },
    {
     "cell_type": "code",
     "collapsed": false,
     "input": [
      "X2 = df\n",
      "dbs = DBSCAN(n_components=2).fit(X2)\n",
      "X_pca = dbs.transform(X2)\n"
     ],
     "language": "python",
     "metadata": {},
     "outputs": [
      {
       "ename": "TypeError",
       "evalue": "__init__() got an unexpected keyword argument 'n_components'",
       "output_type": "pyerr",
       "traceback": [
        "\u001b[0;31m---------------------------------------------------------------------------\u001b[0m\n\u001b[0;31mTypeError\u001b[0m                                 Traceback (most recent call last)",
        "\u001b[0;32m<ipython-input-93-3b0706cd684e>\u001b[0m in \u001b[0;36m<module>\u001b[0;34m()\u001b[0m\n\u001b[1;32m      1\u001b[0m \u001b[0mX2\u001b[0m \u001b[0;34m=\u001b[0m \u001b[0mdf\u001b[0m\u001b[0;34m\u001b[0m\u001b[0m\n\u001b[0;32m----> 2\u001b[0;31m \u001b[0mdbs\u001b[0m \u001b[0;34m=\u001b[0m \u001b[0mDBSCAN\u001b[0m\u001b[0;34m(\u001b[0m\u001b[0mn_components\u001b[0m\u001b[0;34m=\u001b[0m\u001b[0;36m2\u001b[0m\u001b[0;34m)\u001b[0m\u001b[0;34m.\u001b[0m\u001b[0mfit\u001b[0m\u001b[0;34m(\u001b[0m\u001b[0mX2\u001b[0m\u001b[0;34m)\u001b[0m\u001b[0;34m\u001b[0m\u001b[0m\n\u001b[0m\u001b[1;32m      3\u001b[0m \u001b[0mX_pca\u001b[0m \u001b[0;34m=\u001b[0m \u001b[0mdbs\u001b[0m\u001b[0;34m.\u001b[0m\u001b[0mtransform\u001b[0m\u001b[0;34m(\u001b[0m\u001b[0mX2\u001b[0m\u001b[0;34m)\u001b[0m\u001b[0;34m\u001b[0m\u001b[0m\n",
        "\u001b[0;31mTypeError\u001b[0m: __init__() got an unexpected keyword argument 'n_components'"
       ]
      }
     ],
     "prompt_number": 93
    },
    {
     "cell_type": "code",
     "collapsed": false,
     "input": [
      "from sklearn.cluster import MeanShift\n",
      "\n",
      "msft = MeanShift(df)\n",
      "\n",
      "msft.fit(df)\n",
      "\n",
      "plot_2D(df,msft.labels_,range(len(set(msft.labels_))))"
     ],
     "language": "python",
     "metadata": {},
     "outputs": [
      {
       "ename": "ValueError",
       "evalue": "could not convert string to float: \ubbf8\uc6a9",
       "output_type": "pyerr",
       "traceback": [
        "\u001b[0;31m---------------------------------------------------------------------------\u001b[0m\n\u001b[0;31mValueError\u001b[0m                                Traceback (most recent call last)",
        "\u001b[0;32m<ipython-input-124-2b3e22f4805f>\u001b[0m in \u001b[0;36m<module>\u001b[0;34m()\u001b[0m\n\u001b[1;32m      3\u001b[0m \u001b[0mmsft\u001b[0m \u001b[0;34m=\u001b[0m \u001b[0mMeanShift\u001b[0m\u001b[0;34m(\u001b[0m\u001b[0mdf\u001b[0m\u001b[0;34m)\u001b[0m\u001b[0;34m\u001b[0m\u001b[0m\n\u001b[1;32m      4\u001b[0m \u001b[0;34m\u001b[0m\u001b[0m\n\u001b[0;32m----> 5\u001b[0;31m \u001b[0mmsft\u001b[0m\u001b[0;34m.\u001b[0m\u001b[0mfit\u001b[0m\u001b[0;34m(\u001b[0m\u001b[0mdf\u001b[0m\u001b[0;34m)\u001b[0m\u001b[0;34m\u001b[0m\u001b[0m\n\u001b[0m\u001b[1;32m      6\u001b[0m \u001b[0;34m\u001b[0m\u001b[0m\n\u001b[1;32m      7\u001b[0m \u001b[0mplot_2D\u001b[0m\u001b[0;34m(\u001b[0m\u001b[0mdf\u001b[0m\u001b[0;34m,\u001b[0m\u001b[0mmsft\u001b[0m\u001b[0;34m.\u001b[0m\u001b[0mlabels_\u001b[0m\u001b[0;34m,\u001b[0m\u001b[0mrange\u001b[0m\u001b[0;34m(\u001b[0m\u001b[0mlen\u001b[0m\u001b[0;34m(\u001b[0m\u001b[0mset\u001b[0m\u001b[0;34m(\u001b[0m\u001b[0mmsft\u001b[0m\u001b[0;34m.\u001b[0m\u001b[0mlabels_\u001b[0m\u001b[0;34m)\u001b[0m\u001b[0;34m)\u001b[0m\u001b[0;34m)\u001b[0m\u001b[0;34m)\u001b[0m\u001b[0;34m\u001b[0m\u001b[0m\n",
        "\u001b[0;32m/Users/jeongmingi/anaconda/lib/python2.7/site-packages/sklearn/cluster/mean_shift_.pyc\u001b[0m in \u001b[0;36mfit\u001b[0;34m(self, X)\u001b[0m\n\u001b[1;32m    274\u001b[0m             mean_shift(X, bandwidth=self.bandwidth, seeds=self.seeds,\n\u001b[1;32m    275\u001b[0m                        \u001b[0mbin_seeding\u001b[0m\u001b[0;34m=\u001b[0m\u001b[0mself\u001b[0m\u001b[0;34m.\u001b[0m\u001b[0mbin_seeding\u001b[0m\u001b[0;34m,\u001b[0m\u001b[0;34m\u001b[0m\u001b[0m\n\u001b[0;32m--> 276\u001b[0;31m                        cluster_all=self.cluster_all)\n\u001b[0m\u001b[1;32m    277\u001b[0m         \u001b[0;32mreturn\u001b[0m \u001b[0mself\u001b[0m\u001b[0;34m\u001b[0m\u001b[0m\n",
        "\u001b[0;32m/Users/jeongmingi/anaconda/lib/python2.7/site-packages/sklearn/cluster/mean_shift_.pyc\u001b[0m in \u001b[0;36mmean_shift\u001b[0;34m(X, bandwidth, seeds, bin_seeding, cluster_all, max_iterations)\u001b[0m\n\u001b[1;32m    114\u001b[0m             \u001b[0;31m# Find mean of points within bandwidth\u001b[0m\u001b[0;34m\u001b[0m\u001b[0;34m\u001b[0m\u001b[0m\n\u001b[1;32m    115\u001b[0m             i_nbrs = nbrs.radius_neighbors([my_mean], bandwidth,\n\u001b[0;32m--> 116\u001b[0;31m                                            return_distance=False)[0]\n\u001b[0m\u001b[1;32m    117\u001b[0m             \u001b[0mpoints_within\u001b[0m \u001b[0;34m=\u001b[0m \u001b[0mX\u001b[0m\u001b[0;34m[\u001b[0m\u001b[0mi_nbrs\u001b[0m\u001b[0;34m]\u001b[0m\u001b[0;34m\u001b[0m\u001b[0m\n\u001b[1;32m    118\u001b[0m             \u001b[0;32mif\u001b[0m \u001b[0mlen\u001b[0m\u001b[0;34m(\u001b[0m\u001b[0mpoints_within\u001b[0m\u001b[0;34m)\u001b[0m \u001b[0;34m==\u001b[0m \u001b[0;36m0\u001b[0m\u001b[0;34m:\u001b[0m\u001b[0;34m\u001b[0m\u001b[0m\n",
        "\u001b[0;32m/Users/jeongmingi/anaconda/lib/python2.7/site-packages/sklearn/neighbors/base.pyc\u001b[0m in \u001b[0;36mradius_neighbors\u001b[0;34m(self, X, radius, return_distance)\u001b[0m\n\u001b[1;32m    445\u001b[0m             \u001b[0;32melse\u001b[0m\u001b[0;34m:\u001b[0m\u001b[0;34m\u001b[0m\u001b[0m\n\u001b[1;32m    446\u001b[0m                 ind = self._tree.query_radius(X, radius,\n\u001b[0;32m--> 447\u001b[0;31m                                               return_distance=False)\n\u001b[0m\u001b[1;32m    448\u001b[0m                 \u001b[0;32mreturn\u001b[0m \u001b[0mind\u001b[0m\u001b[0;34m\u001b[0m\u001b[0m\n\u001b[1;32m    449\u001b[0m         \u001b[0;32melif\u001b[0m \u001b[0mself\u001b[0m\u001b[0;34m.\u001b[0m\u001b[0m_fit_method\u001b[0m \u001b[0;34m==\u001b[0m \u001b[0;34m'kd_tree'\u001b[0m\u001b[0;34m:\u001b[0m\u001b[0;34m\u001b[0m\u001b[0m\n",
        "\u001b[0;32m/Users/jeongmingi/anaconda/lib/python2.7/site-packages/sklearn/neighbors/ball_tree.so\u001b[0m in \u001b[0;36msklearn.neighbors.ball_tree.BallTree.query_radius (sklearn/neighbors/ball_tree.c:4378)\u001b[0;34m()\u001b[0m\n",
        "\u001b[0;32m/Users/jeongmingi/anaconda/lib/python2.7/site-packages/sklearn/utils/validation.pyc\u001b[0m in \u001b[0;36marray2d\u001b[0;34m(X, dtype, order, copy)\u001b[0m\n\u001b[1;32m     78\u001b[0m         raise TypeError('A sparse matrix was passed, but dense data '\n\u001b[1;32m     79\u001b[0m                         'is required. Use X.toarray() to convert to dense.')\n\u001b[0;32m---> 80\u001b[0;31m     \u001b[0mX_2d\u001b[0m \u001b[0;34m=\u001b[0m \u001b[0mnp\u001b[0m\u001b[0;34m.\u001b[0m\u001b[0masarray\u001b[0m\u001b[0;34m(\u001b[0m\u001b[0mnp\u001b[0m\u001b[0;34m.\u001b[0m\u001b[0matleast_2d\u001b[0m\u001b[0;34m(\u001b[0m\u001b[0mX\u001b[0m\u001b[0;34m)\u001b[0m\u001b[0;34m,\u001b[0m \u001b[0mdtype\u001b[0m\u001b[0;34m=\u001b[0m\u001b[0mdtype\u001b[0m\u001b[0;34m,\u001b[0m \u001b[0morder\u001b[0m\u001b[0;34m=\u001b[0m\u001b[0morder\u001b[0m\u001b[0;34m)\u001b[0m\u001b[0;34m\u001b[0m\u001b[0m\n\u001b[0m\u001b[1;32m     81\u001b[0m     \u001b[0m_assert_all_finite\u001b[0m\u001b[0;34m(\u001b[0m\u001b[0mX_2d\u001b[0m\u001b[0;34m)\u001b[0m\u001b[0;34m\u001b[0m\u001b[0m\n\u001b[1;32m     82\u001b[0m     \u001b[0;32mif\u001b[0m \u001b[0mX\u001b[0m \u001b[0;32mis\u001b[0m \u001b[0mX_2d\u001b[0m \u001b[0;32mand\u001b[0m \u001b[0mcopy\u001b[0m\u001b[0;34m:\u001b[0m\u001b[0;34m\u001b[0m\u001b[0m\n",
        "\u001b[0;32m/Users/jeongmingi/anaconda/lib/python2.7/site-packages/numpy/core/numeric.pyc\u001b[0m in \u001b[0;36masarray\u001b[0;34m(a, dtype, order)\u001b[0m\n\u001b[1;32m    318\u001b[0m \u001b[0;34m\u001b[0m\u001b[0m\n\u001b[1;32m    319\u001b[0m     \"\"\"\n\u001b[0;32m--> 320\u001b[0;31m     \u001b[0;32mreturn\u001b[0m \u001b[0marray\u001b[0m\u001b[0;34m(\u001b[0m\u001b[0ma\u001b[0m\u001b[0;34m,\u001b[0m \u001b[0mdtype\u001b[0m\u001b[0;34m,\u001b[0m \u001b[0mcopy\u001b[0m\u001b[0;34m=\u001b[0m\u001b[0mFalse\u001b[0m\u001b[0;34m,\u001b[0m \u001b[0morder\u001b[0m\u001b[0;34m=\u001b[0m\u001b[0morder\u001b[0m\u001b[0;34m)\u001b[0m\u001b[0;34m\u001b[0m\u001b[0m\n\u001b[0m\u001b[1;32m    321\u001b[0m \u001b[0;34m\u001b[0m\u001b[0m\n\u001b[1;32m    322\u001b[0m \u001b[0;32mdef\u001b[0m \u001b[0masanyarray\u001b[0m\u001b[0;34m(\u001b[0m\u001b[0ma\u001b[0m\u001b[0;34m,\u001b[0m \u001b[0mdtype\u001b[0m\u001b[0;34m=\u001b[0m\u001b[0mNone\u001b[0m\u001b[0;34m,\u001b[0m \u001b[0morder\u001b[0m\u001b[0;34m=\u001b[0m\u001b[0mNone\u001b[0m\u001b[0;34m)\u001b[0m\u001b[0;34m:\u001b[0m\u001b[0;34m\u001b[0m\u001b[0m\n",
        "\u001b[0;31mValueError\u001b[0m: could not convert string to float: \ubbf8\uc6a9"
       ]
      }
     ],
     "prompt_number": 124
    },
    {
     "cell_type": "code",
     "collapsed": false,
     "input": [],
     "language": "python",
     "metadata": {},
     "outputs": []
    }
   ],
   "metadata": {}
  }
 ]
}