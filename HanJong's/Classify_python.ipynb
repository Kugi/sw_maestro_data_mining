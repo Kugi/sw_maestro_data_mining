{
 "metadata": {
  "name": "Classify_python"
 },
 "nbformat": 3,
 "nbformat_minor": 0,
 "worksheets": [
  {
   "cells": [
    {
     "cell_type": "markdown",
     "metadata": {},
     "source": [
      "\uc804\uc5ed\ubcc0\uc218 \uc120\uc5b8  "
     ]
    },
    {
     "cell_type": "code",
     "collapsed": false,
     "input": [
      "from sklearn.datasets import load_svmlight_file\n",
      "from time import time\n",
      "import math\n",
      "from numpy import *\n",
      "from scipy import sparse"
     ],
     "language": "python",
     "metadata": {},
     "outputs": [],
     "prompt_number": 27
    },
    {
     "cell_type": "code",
     "collapsed": false,
     "input": [
      "dictionaryOfMale = {}\n",
      "dictionaryOfFemale = {}\n",
      "numberOfMale = 0\n",
      "numberOfFemale = 0"
     ],
     "language": "python",
     "metadata": {},
     "outputs": [],
     "prompt_number": 4
    },
    {
     "cell_type": "code",
     "collapsed": false,
     "input": [
      "def initGrobalVariable():\n",
      "    global dictionaryOfMale\n",
      "    global dictionaryOfFemale\n",
      "    global numberOfMale\n",
      "    global numberOfFemale\n",
      "    dictionaryOfMale = {}\n",
      "    dictionaryOfFemale = {}\n",
      "    numberOfMale = 0\n",
      "    numberOfFemale = 0"
     ],
     "language": "python",
     "metadata": {},
     "outputs": [],
     "prompt_number": 5
    },
    {
     "cell_type": "markdown",
     "metadata": {},
     "source": [
      "\ud655\ub960\uc744 \uad6c\ud574\uc904 \ud568\uc218 \uc815\uc758  "
     ]
    },
    {
     "cell_type": "code",
     "collapsed": false,
     "input": [
      "def maleRatio(): # P(male)\n",
      "    return float(numberOfMale)/(numberOfFemale+numberOfMale)\n",
      "\n",
      "def femaleRatio(): # P(female)\n",
      "    return float(numberOfFemale)/(numberOfFemale+numberOfMale)\n",
      "\n",
      "def numberOfAppFromDict(app_x, dictionary):\n",
      "    ratio=0\n",
      "    try:\n",
      "        ratio = dictionary[app_x]\n",
      "    except KeyError: # dictionary\uc5d0 \ub4f1\ub85d\ub418\uc5b4 \uc788\uc9c0 \uc54a\uc74c. == 0\uac1c.\n",
      "        ratio = 0\n",
      "    return ratio\n",
      "\n",
      "def appGenderRatio(app_x, gender): # P(x|Gender)\n",
      "    if gender == 'male':\n",
      "        numerator = float(numberOfAppFromDict(app_x,dictionaryOfMale))\n",
      "        denominator = numberOfMale\n",
      "    elif gender == 'female':\n",
      "        numerator = float(numberOfAppFromDict(app_x,dictionaryOfFemale))\n",
      "        denominator = numberOfFemale\n",
      "    return numerator / denominator"
     ],
     "language": "python",
     "metadata": {},
     "outputs": [],
     "prompt_number": 6
    },
    {
     "cell_type": "markdown",
     "metadata": {},
     "source": [
      "\ud30c\uc77c\uc744 \uc77d\uc5b4\uc62c \ud568\uc218 \uc815\uc758  "
     ]
    },
    {
     "cell_type": "code",
     "collapsed": false,
     "input": [
      "def readFile(fileName):\n",
      "    tempList=[]\n",
      "    with open(fileName) as read:\n",
      "        while 1:\n",
      "            line = read.readline()\n",
      "            if not line :\n",
      "                break\n",
      "            tempList.append(line.split())\n",
      "    return tempList\n",
      "\n",
      "# readlines()\uc640 \uc2a4\ub9c8\ud2b8\uc5b4\ub808\uc774\ub97c \uc0ac\uc6a9\ud574\uc11c \uc904\uc218\ub97c \uc904\uc77c \uc218 \uc788\uc744 \uac83 \uac19\uc740\ub370...."
     ],
     "language": "python",
     "metadata": {},
     "outputs": [],
     "prompt_number": 7
    },
    {
     "cell_type": "markdown",
     "metadata": {},
     "source": [
      "\uc77d\uc5b4\uc628 \ub9ac\uc2a4\ud2b8 \ud55c\uc904\uc744 \ud574\uc11d\ud558\ub294 \ud568\uc218 \uc815\uc758  "
     ]
    },
    {
     "cell_type": "code",
     "collapsed": false,
     "input": [
      "def trimming(single_lineList):\n",
      "    genderCode = single_lineList.pop(0)\n",
      "    appList=[]\n",
      "    for rawApp in single_lineList:\n",
      "        appList.append(rawApp.split(':').pop(0))\n",
      "    return (genderCode,appList)"
     ],
     "language": "python",
     "metadata": {},
     "outputs": [],
     "prompt_number": 8
    },
    {
     "cell_type": "markdown",
     "metadata": {},
     "source": [
      "\ud559\uc2b5\uc6a9 \ud568\uc218 \uc815\uc758  "
     ]
    },
    {
     "cell_type": "code",
     "collapsed": false,
     "input": [
      "def increaseAppCount(key,dictionary):\n",
      "    try:\n",
      "        value = dictionary[key]\n",
      "        dictionary[key] = value+1\n",
      "    except KeyError:\n",
      "        dictionary[key] = 1"
     ],
     "language": "python",
     "metadata": {},
     "outputs": [],
     "prompt_number": 9
    },
    {
     "cell_type": "code",
     "collapsed": false,
     "input": [
      "def fit(readFileList):\n",
      "    for singleLine in readFileList:\n",
      "        global numberOfMale\n",
      "        global numberOfFemale\n",
      "        gender, applist = trimming(singleLine)\n",
      "        if gender == '1':\n",
      "            numberOfMale += 1\n",
      "            for app in applist:\n",
      "                increaseAppCount(app,dictionaryOfMale)\n",
      "        elif gender == '2':\n",
      "            numberOfFemale += 1\n",
      "            for app in applist:\n",
      "                increaseAppCount(app,dictionaryOfFemale)"
     ],
     "language": "python",
     "metadata": {},
     "outputs": [],
     "prompt_number": 10
    },
    {
     "cell_type": "code",
     "collapsed": false,
     "input": [
      "#sparse.csr_matrix??\n",
      "\n",
      "def fit_nd(X, y):\n",
      "    X.getrow(0)"
     ],
     "language": "python",
     "metadata": {},
     "outputs": [],
     "prompt_number": 32
    },
    {
     "cell_type": "markdown",
     "metadata": {},
     "source": [
      "\ud310\ub2e8\uc6a9 - \uc131\ubcc4\uc5b4\ud50c \uac2f\uc218\ub85c \ud310\ub2e8. "
     ]
    },
    {
     "cell_type": "code",
     "collapsed": false,
     "input": [
      "# \uc798\ubabb\ub41c \uc811\uadfc. \uc548\uc4f0\ub294 \ucf54\ub4dc.\n",
      "\n",
      "def predictByHowMany(appList):\n",
      "    maleAppCount = 0\n",
      "    femaleAppCount = 0\n",
      "    for app in appList:\n",
      "        maleAppRatio = appGenderRatio(app,'male')*maleRatio()\n",
      "        femaleAppRatio = appGenderRatio(app,'female')*femaleRatio()\n",
      "        if maleAppRatio > femaleAppRatio:\n",
      "            maleAppCount += 1\n",
      "        elif maleAppRatio < femaleAppRatio:    \n",
      "            femaleAppCount += 1\n",
      "    if maleAppCount > femaleAppCount:\n",
      "        return '1'\n",
      "    elif maleAppCount < femaleAppCount:\n",
      "        return '2'\n",
      "    return 'unknown'"
     ],
     "language": "python",
     "metadata": {},
     "outputs": [],
     "prompt_number": 49
    },
    {
     "cell_type": "markdown",
     "metadata": {},
     "source": [
      "\ud310\ub2e8\uc6a9 - \uc131\ubcc4 \ud655\ub960 \ud569\uc0b0\uc73c\ub85c \ud310\ub2e8."
     ]
    },
    {
     "cell_type": "code",
     "collapsed": false,
     "input": [
      "def predictByRatio(appList):\n",
      "    ratioMale = 0\n",
      "    ratioFemale = 0\n",
      "    for app in appList:\n",
      "        maleValue = 0.00000000001 if appGenderRatio(app,'male')*maleRatio() <= 0 else appGenderRatio(app,'male')*maleRatio()\n",
      "        femaleVaue = 0.00000000001 if appGenderRatio(app,'female')*femaleRatio()<= 0 else appGenderRatio(app,'female')*femaleRatio()\n",
      "        ratioMale +=  math.log10(maleValue)\n",
      "        ratioFemale += math.log10(femaleVaue)\n",
      "    if ratioMale == ratioFemale:\n",
      "        print 'unknown'\n",
      "        return 'unknown'\n",
      "    return '1' if ratioMale > ratioFemale else '2'"
     ],
     "language": "python",
     "metadata": {},
     "outputs": [],
     "prompt_number": 12
    },
    {
     "cell_type": "code",
     "collapsed": false,
     "input": [
      "def performanceTest(fitDataPath,predictDataPath):\n",
      "    start_time = time()\n",
      "    raw_list_fit = readFile(fitDataPath)\n",
      "    raw_list_predict = readFile(predictDataPath)\n",
      "    initGrobalVariable()\n",
      "    end_time = time()\n",
      "    print \"init : %d\"%(end_time-start_time)\n",
      "    \n",
      "    start_time = time()\n",
      "    fit(raw_list_fit)\n",
      "    end_time = time()\n",
      "    print \"fit : %d\"%(end_time-start_time)\n",
      "    \n",
      "    start_time = time()\n",
      "    correct = 0\n",
      "    fail = 0\n",
      "    for each in raw_list_predict:\n",
      "        gender , applist = trimming(each)\n",
      "        if gender == predictByRatio(applist):\n",
      "            correct +=1\n",
      "        else:\n",
      "            fail +=1\n",
      "    end_time = time()\n",
      "    print \"predict : %d\"%(end_time-start_time)\n",
      "    print \"\uc815\ud655\ub3c4\ub294 %d%%\uc785\ub2c8\ub2e4.(%d/%d)\"%(correct*100/(correct+fail), correct,(correct+fail))"
     ],
     "language": "python",
     "metadata": {},
     "outputs": [],
     "prompt_number": 47
    },
    {
     "cell_type": "code",
     "collapsed": false,
     "input": [
      "for i in xrange(10):\n",
      "    print \"================%d's test====================\"%(i)\n",
      "    performanceTest(\"dataSets/n_fold_fit%d.dat\"%i,\"dataSets/n_fold_predict_%d.dat\"%i)\n",
      "    print \"============================================\""
     ],
     "language": "python",
     "metadata": {},
     "outputs": [
      {
       "output_type": "stream",
       "stream": "stdout",
       "text": [
        "================0's test====================\n",
        "init : 0"
       ]
      },
      {
       "output_type": "stream",
       "stream": "stdout",
       "text": [
        "\n",
        "fit : 5"
       ]
      },
      {
       "output_type": "stream",
       "stream": "stdout",
       "text": [
        "\n",
        "predict : 2"
       ]
      },
      {
       "output_type": "stream",
       "stream": "stdout",
       "text": [
        "\n",
        "\uc815\ud655\ub3c4\ub294 83%\uc785\ub2c8\ub2e4.(3920/4698)\n",
        "============================================"
       ]
      },
      {
       "output_type": "stream",
       "stream": "stdout",
       "text": [
        "\n",
        "================1's test====================\n",
        "init : 0"
       ]
      },
      {
       "output_type": "stream",
       "stream": "stdout",
       "text": [
        "\n",
        "fit : 5"
       ]
      },
      {
       "output_type": "stream",
       "stream": "stdout",
       "text": [
        "\n",
        "predict : 3"
       ]
      },
      {
       "output_type": "stream",
       "stream": "stdout",
       "text": [
        "\n",
        "\uc815\ud655\ub3c4\ub294 83%\uc785\ub2c8\ub2e4.(3920/4698)\n",
        "============================================"
       ]
      },
      {
       "output_type": "stream",
       "stream": "stdout",
       "text": [
        "\n",
        "================2's test====================\n",
        "init : 1"
       ]
      },
      {
       "output_type": "stream",
       "stream": "stdout",
       "text": [
        "\n",
        "fit : 5"
       ]
      },
      {
       "output_type": "stream",
       "stream": "stdout",
       "text": [
        "\n",
        "predict : 2"
       ]
      },
      {
       "output_type": "stream",
       "stream": "stdout",
       "text": [
        "\n",
        "\uc815\ud655\ub3c4\ub294 83%\uc785\ub2c8\ub2e4.(3920/4698)\n",
        "============================================"
       ]
      },
      {
       "output_type": "stream",
       "stream": "stdout",
       "text": [
        "\n",
        "================3's test====================\n",
        "init : 0"
       ]
      },
      {
       "output_type": "stream",
       "stream": "stdout",
       "text": [
        "\n",
        "fit : 6"
       ]
      },
      {
       "output_type": "stream",
       "stream": "stdout",
       "text": [
        "\n",
        "predict : 3"
       ]
      },
      {
       "output_type": "stream",
       "stream": "stdout",
       "text": [
        "\n",
        "\uc815\ud655\ub3c4\ub294 83%\uc785\ub2c8\ub2e4.(3920/4698)\n",
        "============================================"
       ]
      },
      {
       "output_type": "stream",
       "stream": "stdout",
       "text": [
        "\n",
        "================4's test====================\n",
        "init : 0"
       ]
      },
      {
       "output_type": "stream",
       "stream": "stdout",
       "text": [
        "\n",
        "fit : 5"
       ]
      },
      {
       "output_type": "stream",
       "stream": "stdout",
       "text": [
        "\n",
        "predict : 3"
       ]
      },
      {
       "output_type": "stream",
       "stream": "stdout",
       "text": [
        "\n",
        "\uc815\ud655\ub3c4\ub294 83%\uc785\ub2c8\ub2e4.(3921/4698)\n",
        "============================================"
       ]
      },
      {
       "output_type": "stream",
       "stream": "stdout",
       "text": [
        "\n",
        "================5's test====================\n",
        "init : 0"
       ]
      },
      {
       "output_type": "stream",
       "stream": "stdout",
       "text": [
        "\n",
        "fit : 5"
       ]
      },
      {
       "output_type": "stream",
       "stream": "stdout",
       "text": [
        "\n",
        "predict : 2"
       ]
      },
      {
       "output_type": "stream",
       "stream": "stdout",
       "text": [
        "\n",
        "\uc815\ud655\ub3c4\ub294 83%\uc785\ub2c8\ub2e4.(3922/4698)\n",
        "============================================"
       ]
      },
      {
       "output_type": "stream",
       "stream": "stdout",
       "text": [
        "\n",
        "================6's test====================\n",
        "init : 0"
       ]
      },
      {
       "output_type": "stream",
       "stream": "stdout",
       "text": [
        "\n",
        "fit : 5"
       ]
      },
      {
       "output_type": "stream",
       "stream": "stdout",
       "text": [
        "\n",
        "predict : 3"
       ]
      },
      {
       "output_type": "stream",
       "stream": "stdout",
       "text": [
        "\n",
        "\uc815\ud655\ub3c4\ub294 83%\uc785\ub2c8\ub2e4.(3922/4698)\n",
        "============================================"
       ]
      },
      {
       "output_type": "stream",
       "stream": "stdout",
       "text": [
        "\n",
        "================7's test====================\n",
        "init : 0"
       ]
      },
      {
       "output_type": "stream",
       "stream": "stdout",
       "text": [
        "\n",
        "fit : 5"
       ]
      },
      {
       "output_type": "stream",
       "stream": "stdout",
       "text": [
        "\n",
        "predict : 3"
       ]
      },
      {
       "output_type": "stream",
       "stream": "stdout",
       "text": [
        "\n",
        "\uc815\ud655\ub3c4\ub294 83%\uc785\ub2c8\ub2e4.(3922/4698)\n",
        "============================================"
       ]
      },
      {
       "output_type": "stream",
       "stream": "stdout",
       "text": [
        "\n",
        "================8's test====================\n",
        "init : 0"
       ]
      },
      {
       "output_type": "stream",
       "stream": "stdout",
       "text": [
        "\n",
        "fit : 5"
       ]
      },
      {
       "output_type": "stream",
       "stream": "stdout",
       "text": [
        "\n",
        "predict : 2"
       ]
      },
      {
       "output_type": "stream",
       "stream": "stdout",
       "text": [
        "\n",
        "\uc815\ud655\ub3c4\ub294 83%\uc785\ub2c8\ub2e4.(3923/4698)\n",
        "============================================"
       ]
      },
      {
       "output_type": "stream",
       "stream": "stdout",
       "text": [
        "\n",
        "================9's test====================\n",
        "init : 0"
       ]
      },
      {
       "output_type": "stream",
       "stream": "stdout",
       "text": [
        "\n",
        "fit : 5"
       ]
      },
      {
       "output_type": "stream",
       "stream": "stdout",
       "text": [
        "\n",
        "predict : 2"
       ]
      },
      {
       "output_type": "stream",
       "stream": "stdout",
       "text": [
        "\n",
        "\uc815\ud655\ub3c4\ub294 83%\uc785\ub2c8\ub2e4.(3924/4698)\n",
        "============================================"
       ]
      },
      {
       "output_type": "stream",
       "stream": "stdout",
       "text": [
        "\n"
       ]
      }
     ],
     "prompt_number": 48
    },
    {
     "cell_type": "code",
     "collapsed": false,
     "input": [],
     "language": "python",
     "metadata": {},
     "outputs": []
    }
   ],
   "metadata": {}
  }
 ]
}