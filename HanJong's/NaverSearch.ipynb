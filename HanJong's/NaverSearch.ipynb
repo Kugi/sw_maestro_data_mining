{
 "metadata": {
  "name": ""
 },
 "nbformat": 3,
 "nbformat_minor": 0,
 "worksheets": [
  {
   "cells": [
    {
     "cell_type": "markdown",
     "metadata": {},
     "source": [
      "\ub124\uc774\ubc84\ub294 \ud1b5\ud569 \uac80\uc0c9 \uacb0\uacfc\uc5d0 \uac80\uc0c9 \uacb0\uacfc \uc218\ub97c \uc54c\ub824 \uc8fc\uc9c0 \uc54a\uc74c.  \n",
      "\n",
      "\ub54c\ubb38\uc5d0 where\ud30c\ub77c\ubbf8\ud130 (\ub274\uc2a4, \uc0ac\uc774\ud2b8, \uc6f9\ubb38\uc11c \ub4f1\ub4f1\uc758 \uce74\ud14c\uace0\ub9ac)\ub97c \ub530\ub85c \uac80\uc0c9\ud574\uc11c \uac80\uc0c9\uacb0\uacfc \uc218\uac00 \ub098\uc624\ub294 \ud398\uc774\uc9c0\ub97c \uad6c\ud568.\n",
      "\uac01\uac01\uc758 xpath\uac00 \ub610 \ub2e4\ub974\ubbc0\ub85c \uc218\ub3d9\uc73c\ub85c \uc785\ub825. \n",
      "\n",
      "\ubb3c\ub860 \uc774\uac74 \ub124\uc774\ubc84 \uac80\uc0c9 \ud398\uc774\uc9c0\uac00 \ubc14\ub00c\uba74 \ub9dd.  "
     ]
    },
    {
     "cell_type": "code",
     "collapsed": false,
     "input": [
      "import re\n",
      "import requests\n",
      "from scrapy.selector import HtmlXPathSelector\n",
      "\n",
      "def getNumberOfNaverSearchResult(q):\n",
      "    \"\"\"\n",
      "    parameter:\n",
      "        q : String for search.\n",
      "    \"\"\"\n",
      "    result = 0\n",
      "    q='+'.join(q.split())\n",
      "    searchQuery = \"http://search.naver.com/search.naver?query=\"+q+\"&where=\"\n",
      "    paramWhere = [\"post\",\"cafeblog\",\"image\",\"video\",\"news\",\"site\",\"webkr\"]\n",
      "    xpaths =[\"\"\"//*[@id=\"content\"]/div[2]/div/span/text()\"\"\",\n",
      "             \"\"\"//*[@id=\"content\"]/div[3]/div[1]/span/text()\"\"\",\n",
      "             \"\"\"//*[@id=\"elPageCountInfo\"]/text()\"\"\",\n",
      "             \"\"\"//*[@id=\"content\"]/div[2]/div[1]/span[1]/text()\"\"\",\n",
      "             \"\"\"//*[@id=\"content\"]/div[2]/div/div[1]/span/text()\"\"\",\n",
      "             \"\"\"//*[@id=\"content\"]/div[2]/div[1]/span/text()\"\"\",\n",
      "             \"\"\"//*[@id=\"content\"]/div[2]/div/span/text()\"\"\"]\n",
      "    for where, xpath in zip(paramWhere, xpaths):        \n",
      "        whereNum = 0\n",
      "        try:\n",
      "            html = requests.get(searchQuery+where).text\n",
      "            hx =HtmlXPathSelector(text=html)\n",
      "            items = hx.select(xpath)\n",
      "            whatWeWant = (items.extract()[0].split()[2]+\"\")\n",
      "            whereNum = int(''.join(re.findall(r'\\d+', whatWeWant)))\n",
      "        except:\n",
      "            whereNum = 0\n",
      "            \n",
      "        result +=  whereNum\n",
      "    return result"
     ],
     "language": "python",
     "metadata": {},
     "outputs": [],
     "prompt_number": 25
    },
    {
     "cell_type": "code",
     "collapsed": false,
     "input": [
      "print getNumberOfNaverSearchResult(\"\uacc4\ub780\ub9d0\uc774\")"
     ],
     "language": "python",
     "metadata": {},
     "outputs": [
      {
       "output_type": "stream",
       "stream": "stdout",
       "text": [
        "526287\n"
       ]
      }
     ],
     "prompt_number": 27
    },
    {
     "cell_type": "code",
     "collapsed": false,
     "input": [],
     "language": "python",
     "metadata": {},
     "outputs": []
    }
   ],
   "metadata": {}
  }
 ]
}