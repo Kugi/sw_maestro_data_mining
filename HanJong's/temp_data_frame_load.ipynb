{
 "metadata": {
  "name": "temp_data_frame_load"
 },
 "nbformat": 3,
 "nbformat_minor": 0,
 "worksheets": [
  {
   "cells": [
    {
     "cell_type": "code",
     "collapsed": false,
     "input": [
      "%pylab inline\n",
      "\n",
      "import numpy as np\n",
      "import pandas as pd\n",
      "from pandas import DataFrame, Series"
     ],
     "language": "python",
     "metadata": {},
     "outputs": [
      {
       "output_type": "stream",
       "stream": "stdout",
       "text": [
        "\n",
        "Welcome to pylab, a matplotlib-based Python environment [backend: module://IPython.zmq.pylab.backend_inline].\n",
        "For more information, type 'help(pylab)'.\n"
       ]
      }
     ],
     "prompt_number": 1
    },
    {
     "cell_type": "code",
     "collapsed": false,
     "input": [
      "app_info = pd.load('data/app_info.df')\n",
      "cmtary = pd.load('data/cmtary.df')\n",
      "user_app = pd.load('data/user_app.df')\n",
      "\n",
      "\n",
      "print \"load done\""
     ],
     "language": "python",
     "metadata": {},
     "outputs": [
      {
       "output_type": "stream",
       "stream": "stdout",
       "text": [
        "load done\n"
       ]
      }
     ],
     "prompt_number": 2
    },
    {
     "cell_type": "code",
     "collapsed": false,
     "input": [
      "print \";\".join(set(app_info.cate.dropna()))"
     ],
     "language": "python",
     "metadata": {},
     "outputs": [
      {
       "output_type": "stream",
       "stream": "stdout",
       "text": [
        ";\ucee4\ubba4\ub2c8\ucf00\uc774\uc158;\uad50\uc721;\uce74\ub4dc;\ub09a\uc2dc;\uc0dd\ud65c;\uc57c\uad6c;\uacbd\uc601/\ud0c0\uc774\ucfe4;\uc721\uc544/\uc544\ub3d9;\ubcfc\ub9c1;\ub3d9\uc601\uc0c1;\ub2f9\uad6c;\uba54\uc2e0\uc800;\uce74\ud1a1;\uc0ac\uc804;\uc7a5\uae30;\uc885\uad50;\ub808\uc774\uc2f1;\uc1fc\ud551;\uba64\ubc84\uc2ed/\ucfe0\ud3f0;\ud14c\ub2c8\uc2a4;hide;\ub9cc\ud654;\uacf5\ub7b5\uc9d1;\ubdf0\ud2f0/\ud328\uc158;\uc804\ud654\ubc88\ud638\uad00\ub9ac;\uc804\uc7c1;\uc0bc\uad6d\uc9c0;\ud0c8\ucd9c/\ucd94\ub9ac;\uce90\uc8fc\uc5bc;\uc544\ucf00\uc774\ub4dc;RPG;\ub450\ub1cc;\uc74c\uc545;\ucde8\uc5c5;\ud37c\uc990;SNS;\ud3f0\uad00\ub9ac;\uc5d4\ud130\ud14c\uc778\uba3c\ud2b8;\uc288\ud305;\ub2ec\ub825/\uc77c\uc815;\uac80\uc0c9;\uc758\ub8cc/\uac74\uac15;\uc2dc\ubbac;\ub18d\uad6c;\uad50\ud1b5\uc815\ubcf4;\ub3c8\ubc84\ub294\uc571;TCG;\uc2dc\ud5d8;\uc2a4\ud3ec\uce20;\uae08\uc735;\uc131\uc778;\uc601\ud654;\uc720\ud2f8;\uce74\ud1a1\uc5f0\ub3d9;\ube44\ud589\uae30;\ub3c4\uc11c;\uc0ac\ucc9c\uc131;\uc0ac\uc9c4;\ub2ec\ub9ac\uae30;\uc5ec\ud589;\ub514\ud39c\uc2a4;\ub274\uc2a4;\ucd95\uad6c;\uc5f0\uc560;\uc54c\ub78c;\ud3f0\uafb8\ubbf8\uae30;\uc74c\uc2dd;\uace8\ud504;\uc9c0\ub3c4\n"
       ]
      }
     ],
     "prompt_number": 11
    },
    {
     "cell_type": "code",
     "collapsed": false,
     "input": [
      "print \";\".join(set(app_info.genre))"
     ],
     "language": "python",
     "metadata": {},
     "outputs": [
      {
       "output_type": "stream",
       "stream": "stdout",
       "text": [
        "\ucee4\ubba4\ub2c8\ucf00\uc774\uc158;\uc571;\uad50\uc721;;\uac74\uac15 \ubc0f \uc6b4\ub3d9;\ubbf8\ub514\uc5b4 \ubc0f \ub3d9\uc601\uc0c1;Sports;\ub370\ucf54\ub808\uc774\uc158;\ub77c\uc774\ube0c\ub7ec\ub9ac \ubc0f \ub370\ubaa8;Productivity;\uad50\ud1b5;\uc18c\uc15c \ucf58\ud150\uce20;\ub3c4\uc11c \ubc0f \ucc38\uace0\uc790\ub8cc;\uc2a4\ud3ec\uce20 \uac8c\uc784;\uc544\ucf00\uc774\ub4dc \uac8c\uc784;\ub274\uc2a4 \ubc0f \uc7a1\uc9c0;\uc0dd\uc0b0\uc131;\ub0a0\uc528;\ube44\uc988\ub2c8\uc2a4;\uc758\ub8cc;Music & Audio;\uc5d4\ud130\ud14c\uc778\uba3c\ud2b8;Lifestyle;\uce74\ub4dc\uac8c\uc784;\ub9cc\ud654;\ub77c\uc774\ud504\uc2a4\ud0c0\uc77c;\uc5ec\ud589 \ubc0f \uc9c0\uc5ed\uc815\ubcf4;Personalization;\uce90\uc8fc\uc5bc \uac8c\uc784;\ub3c4\uad6c;\uc2a4\ud3ec\uce20;\uae08\uc735;\uc1fc\ud551;\uac8c\uc784;\uc0ac\uc9c4;\uc74c\uc545 \ubc0f \uc624\ub514\uc624;Weather;\uc790\ub3d9\ucc28 \uacbd\uc8fc;Books & Reference;\ub450\ub1cc\uac8c\uc784 \ubc0f \ud37c\uc990\n"
       ]
      }
     ],
     "prompt_number": 9
    },
    {
     "cell_type": "code",
     "collapsed": false,
     "input": [
      "print app_info.keys()\n",
      "print cmtary.keys()\n",
      "print user_app.keys()"
     ],
     "language": "python",
     "metadata": {},
     "outputs": [
      {
       "output_type": "stream",
       "stream": "stdout",
       "text": [
        "Index([id, date, create_date, update_date, img, genre, cate, score, developer, intro, size, ver, company, code, app_create_date, app_cate, company_id], dtype=object)\n",
        "Index([date, create_date, title, content, score, entity_id, author, author_id, opinion, author_id2], dtype=object)\n",
        "Index([create_date, update_date, user_id, entity_id, usage, is_deleted], dtype=object)\n"
       ]
      }
     ],
     "prompt_number": 3
    },
    {
     "cell_type": "code",
     "collapsed": false,
     "input": [
      "user_app.ix[0]"
     ],
     "language": "python",
     "metadata": {},
     "outputs": [
      {
       "output_type": "pyout",
       "prompt_number": 15,
       "text": [
        "create_date    20130222202059\n",
        "update_date    20130730090415\n",
        "user_id               2007318\n",
        "entity_id             1612462\n",
        "usage                       0\n",
        "is_deleted               True\n",
        "Name: 0, dtype: object"
       ]
      }
     ],
     "prompt_number": 15
    },
    {
     "cell_type": "code",
     "collapsed": false,
     "input": [
      "app_info_t = app_info.loc[:,['id','date','create_date', 'update_date','score', 'size']]\n",
      "cmtary_t = cmtary.loc[:,['date', 'create_date','entity_id', 'score']]\n",
      "user_app_t = user_app.loc[:,['create_date', 'usage', 'is_deleted']]"
     ],
     "language": "python",
     "metadata": {},
     "outputs": [],
     "prompt_number": 23
    },
    {
     "cell_type": "code",
     "collapsed": false,
     "input": [
      "app_info_t.head(2)"
     ],
     "language": "python",
     "metadata": {},
     "outputs": [
      {
       "html": [
        "<div style=\"max-height:1000px;max-width:1500px;overflow:auto;\">\n",
        "<table border=\"1\" class=\"dataframe\">\n",
        "  <thead>\n",
        "    <tr style=\"text-align: right;\">\n",
        "      <th></th>\n",
        "      <th>id</th>\n",
        "      <th>date</th>\n",
        "      <th>create_date</th>\n",
        "      <th>update_date</th>\n",
        "      <th>score</th>\n",
        "      <th>size</th>\n",
        "    </tr>\n",
        "  </thead>\n",
        "  <tbody>\n",
        "    <tr>\n",
        "      <th>0</th>\n",
        "      <td> 1600385</td>\n",
        "      <td> 20120917</td>\n",
        "      <td> 20120918150125</td>\n",
        "      <td> 2.013073e+13</td>\n",
        "      <td> 76</td>\n",
        "      <td> 16000</td>\n",
        "    </tr>\n",
        "    <tr>\n",
        "      <th>1</th>\n",
        "      <td> 1851131</td>\n",
        "      <td> 20130521</td>\n",
        "      <td> 20130526182812</td>\n",
        "      <td> 2.013053e+13</td>\n",
        "      <td>  0</td>\n",
        "      <td>    55</td>\n",
        "    </tr>\n",
        "  </tbody>\n",
        "</table>\n",
        "</div>"
       ],
       "output_type": "pyout",
       "prompt_number": 24,
       "text": [
        "        id      date     create_date   update_date  score   size\n",
        "0  1600385  20120917  20120918150125  2.013073e+13     76  16000\n",
        "1  1851131  20130521  20130526182812  2.013053e+13      0     55"
       ]
      }
     ],
     "prompt_number": 24
    },
    {
     "cell_type": "code",
     "collapsed": false,
     "input": [
      "cmtary_t.head(2)"
     ],
     "language": "python",
     "metadata": {},
     "outputs": [
      {
       "html": [
        "<div style=\"max-height:1000px;max-width:1500px;overflow:auto;\">\n",
        "<table border=\"1\" class=\"dataframe\">\n",
        "  <thead>\n",
        "    <tr style=\"text-align: right;\">\n",
        "      <th></th>\n",
        "      <th>date</th>\n",
        "      <th>create_date</th>\n",
        "      <th>score</th>\n",
        "    </tr>\n",
        "  </thead>\n",
        "  <tbody>\n",
        "    <tr>\n",
        "      <th>0</th>\n",
        "      <td> 20130531</td>\n",
        "      <td> 20130601034813</td>\n",
        "      <td> 5</td>\n",
        "    </tr>\n",
        "    <tr>\n",
        "      <th>1</th>\n",
        "      <td> 20120928</td>\n",
        "      <td> 20120929023139</td>\n",
        "      <td> 5</td>\n",
        "    </tr>\n",
        "  </tbody>\n",
        "</table>\n",
        "</div>"
       ],
       "output_type": "pyout",
       "prompt_number": 9,
       "text": [
        "       date     create_date  score\n",
        "0  20130531  20130601034813      5\n",
        "1  20120928  20120929023139      5"
       ]
      }
     ],
     "prompt_number": 9
    },
    {
     "cell_type": "code",
     "collapsed": false,
     "input": [
      "user_app_t.head(2)"
     ],
     "language": "python",
     "metadata": {},
     "outputs": [
      {
       "html": [
        "<div style=\"max-height:1000px;max-width:1500px;overflow:auto;\">\n",
        "<table border=\"1\" class=\"dataframe\">\n",
        "  <thead>\n",
        "    <tr style=\"text-align: right;\">\n",
        "      <th></th>\n",
        "      <th>create_date</th>\n",
        "      <th>usage</th>\n",
        "      <th>is_deleted</th>\n",
        "    </tr>\n",
        "  </thead>\n",
        "  <tbody>\n",
        "    <tr>\n",
        "      <th>0</th>\n",
        "      <td> 20130222202059</td>\n",
        "      <td> 0</td>\n",
        "      <td> True</td>\n",
        "    </tr>\n",
        "    <tr>\n",
        "      <th>1</th>\n",
        "      <td> 20130311075241</td>\n",
        "      <td> 0</td>\n",
        "      <td> True</td>\n",
        "    </tr>\n",
        "  </tbody>\n",
        "</table>\n",
        "</div>"
       ],
       "output_type": "pyout",
       "prompt_number": 22,
       "text": [
        "      create_date  usage is_deleted\n",
        "0  20130222202059      0       True\n",
        "1  20130311075241      0       True"
       ]
      }
     ],
     "prompt_number": 22
    },
    {
     "cell_type": "code",
     "collapsed": false,
     "input": [
      "def crit(i,df=user_app.head(20)):\n",
      "    return df.loc[i,'usage'] != 0\n",
      "aaa = user_app.head(20).select(crit)\n",
      "\n",
      "print aaa\n",
      "\n",
      "bbb = user_app.head(20)[user_app.head(20).usage !=0 ]\n",
      "\n",
      "print bbb"
     ],
     "language": "python",
     "metadata": {},
     "outputs": [
      {
       "output_type": "stream",
       "stream": "stdout",
       "text": [
        "       create_date     update_date  user_id  entity_id  usage is_deleted\n",
        "3   20130604154430  20130730144616  5188098    1526678      1      False\n",
        "7   20130531155145  20130729222155  5183947    1514437      4      False\n",
        "8   20130303071852  20130729230224  1758743    1784051      1       True\n",
        "16  20130307064612  20130730090415  2007318    1454014      2       True\n",
        "       create_date     update_date  user_id  entity_id  usage is_deleted\n",
        "3   20130604154430  20130730144616  5188098    1526678      1      False\n",
        "7   20130531155145  20130729222155  5183947    1514437      4      False\n",
        "8   20130303071852  20130729230224  1758743    1784051      1       True\n",
        "16  20130307064612  20130730090415  2007318    1454014      2       True\n"
       ]
      }
     ],
     "prompt_number": 166
    },
    {
     "cell_type": "code",
     "collapsed": false,
     "input": [
      "print app_info.loc[5]\n",
      "\n",
      "print \"===============\"\n",
      "\n",
      "print app_info.loc[5,'developer']"
     ],
     "language": "python",
     "metadata": {},
     "outputs": [
      {
       "output_type": "stream",
       "stream": "stdout",
       "text": [
        "id                                                           1785912\n",
        "date                                                        20120714\n",
        "create_date                                           20130305052646\n",
        "update_date                                             2.013031e+13\n",
        "img                https://lh4.ggpht.com/kvxi75pNsNrhC4LUn9yX7i5H...\n",
        "genre                                                             \uac8c\uc784\n",
        "cate                                                            \uc544\ucf00\uc774\ub4dc\n",
        "score                                                              0\n",
        "developer                                                    Olumide\n",
        "intro              This is an Update to my previous Phineas and f...\n",
        "size                                                            4200\n",
        "ver                                                              7.0\n",
        "company                                                         None\n",
        "code                  appinventor.ai_olumideawofeso.Phineas_and_ferb\n",
        "app_create_date                                                 None\n",
        "app_cate                                                      CASUAL\n",
        "company_id                                                       NaN\n",
        "Name: 5, dtype: object\n",
        "===============\n",
        "Olumide\n"
       ]
      }
     ],
     "prompt_number": 114
    },
    {
     "cell_type": "code",
     "collapsed": false,
     "input": [],
     "language": "python",
     "metadata": {},
     "outputs": [
      {
       "ename": "KeyError",
       "evalue": "u'no item named False'",
       "output_type": "pyerr",
       "traceback": [
        "\u001b[0;31m---------------------------------------------------------------------------\u001b[0m\n\u001b[0;31mKeyError\u001b[0m                                  Traceback (most recent call last)",
        "\u001b[0;32m<ipython-input-121-58f5ff1d11e3>\u001b[0m in \u001b[0;36m<module>\u001b[0;34m()\u001b[0m\n\u001b[0;32m----> 1\u001b[0;31m \u001b[0;32mprint\u001b[0m \u001b[0mapp_info\u001b[0m\u001b[0;34m.\u001b[0m\u001b[0mhead\u001b[0m\u001b[0;34m(\u001b[0m\u001b[0;34m)\u001b[0m\u001b[0;34m[\u001b[0m\u001b[0;34m'id'\u001b[0m\u001b[0;34m==\u001b[0m\u001b[0;36m1600385\u001b[0m\u001b[0;34m]\u001b[0m\u001b[0;34m\u001b[0m\u001b[0m\n\u001b[0m\u001b[1;32m      2\u001b[0m \u001b[0;32mprint\u001b[0m \u001b[0;34m'\\n\\n\\n\\n\\n'\u001b[0m\u001b[0;34m\u001b[0m\u001b[0m\n\u001b[1;32m      3\u001b[0m \u001b[0;32mprint\u001b[0m \u001b[0muser_app\u001b[0m\u001b[0;34m.\u001b[0m\u001b[0mhead\u001b[0m\u001b[0;34m(\u001b[0m\u001b[0;34m)\u001b[0m\u001b[0;34m\u001b[0m\u001b[0m\n",
        "\u001b[0;32m//anaconda/lib/python2.7/site-packages/pandas/core/frame.pyc\u001b[0m in \u001b[0;36m__getitem__\u001b[0;34m(self, key)\u001b[0m\n\u001b[1;32m   1926\u001b[0m         \u001b[0;32melse\u001b[0m\u001b[0;34m:\u001b[0m\u001b[0;34m\u001b[0m\u001b[0m\n\u001b[1;32m   1927\u001b[0m             \u001b[0;31m# get column\u001b[0m\u001b[0;34m\u001b[0m\u001b[0;34m\u001b[0m\u001b[0m\n\u001b[0;32m-> 1928\u001b[0;31m             \u001b[0;32mreturn\u001b[0m \u001b[0mself\u001b[0m\u001b[0;34m.\u001b[0m\u001b[0m_get_item_cache\u001b[0m\u001b[0;34m(\u001b[0m\u001b[0mkey\u001b[0m\u001b[0;34m)\u001b[0m\u001b[0;34m\u001b[0m\u001b[0m\n\u001b[0m\u001b[1;32m   1929\u001b[0m \u001b[0;34m\u001b[0m\u001b[0m\n\u001b[1;32m   1930\u001b[0m     \u001b[0;32mdef\u001b[0m \u001b[0m_getitem_slice\u001b[0m\u001b[0;34m(\u001b[0m\u001b[0mself\u001b[0m\u001b[0;34m,\u001b[0m \u001b[0mkey\u001b[0m\u001b[0;34m)\u001b[0m\u001b[0;34m:\u001b[0m\u001b[0;34m\u001b[0m\u001b[0m\n",
        "\u001b[0;32m//anaconda/lib/python2.7/site-packages/pandas/core/generic.pyc\u001b[0m in \u001b[0;36m_get_item_cache\u001b[0;34m(self, item)\u001b[0m\n\u001b[1;32m    568\u001b[0m             \u001b[0;32mreturn\u001b[0m \u001b[0mcache\u001b[0m\u001b[0;34m[\u001b[0m\u001b[0mitem\u001b[0m\u001b[0;34m]\u001b[0m\u001b[0;34m\u001b[0m\u001b[0m\n\u001b[1;32m    569\u001b[0m         \u001b[0;32mexcept\u001b[0m \u001b[0mException\u001b[0m\u001b[0;34m:\u001b[0m\u001b[0;34m\u001b[0m\u001b[0m\n\u001b[0;32m--> 570\u001b[0;31m             \u001b[0mvalues\u001b[0m \u001b[0;34m=\u001b[0m \u001b[0mself\u001b[0m\u001b[0;34m.\u001b[0m\u001b[0m_data\u001b[0m\u001b[0;34m.\u001b[0m\u001b[0mget\u001b[0m\u001b[0;34m(\u001b[0m\u001b[0mitem\u001b[0m\u001b[0;34m)\u001b[0m\u001b[0;34m\u001b[0m\u001b[0m\n\u001b[0m\u001b[1;32m    571\u001b[0m             \u001b[0mres\u001b[0m \u001b[0;34m=\u001b[0m \u001b[0mself\u001b[0m\u001b[0;34m.\u001b[0m\u001b[0m_box_item_values\u001b[0m\u001b[0;34m(\u001b[0m\u001b[0mitem\u001b[0m\u001b[0;34m,\u001b[0m \u001b[0mvalues\u001b[0m\u001b[0;34m)\u001b[0m\u001b[0;34m\u001b[0m\u001b[0m\n\u001b[1;32m    572\u001b[0m             \u001b[0mcache\u001b[0m\u001b[0;34m[\u001b[0m\u001b[0mitem\u001b[0m\u001b[0;34m]\u001b[0m \u001b[0;34m=\u001b[0m \u001b[0mres\u001b[0m\u001b[0;34m\u001b[0m\u001b[0m\n",
        "\u001b[0;32m//anaconda/lib/python2.7/site-packages/pandas/core/internals.pyc\u001b[0m in \u001b[0;36mget\u001b[0;34m(self, item)\u001b[0m\n\u001b[1;32m   1381\u001b[0m \u001b[0;34m\u001b[0m\u001b[0m\n\u001b[1;32m   1382\u001b[0m     \u001b[0;32mdef\u001b[0m \u001b[0mget\u001b[0m\u001b[0;34m(\u001b[0m\u001b[0mself\u001b[0m\u001b[0;34m,\u001b[0m \u001b[0mitem\u001b[0m\u001b[0;34m)\u001b[0m\u001b[0;34m:\u001b[0m\u001b[0;34m\u001b[0m\u001b[0m\n\u001b[0;32m-> 1383\u001b[0;31m         \u001b[0m_\u001b[0m\u001b[0;34m,\u001b[0m \u001b[0mblock\u001b[0m \u001b[0;34m=\u001b[0m \u001b[0mself\u001b[0m\u001b[0;34m.\u001b[0m\u001b[0m_find_block\u001b[0m\u001b[0;34m(\u001b[0m\u001b[0mitem\u001b[0m\u001b[0;34m)\u001b[0m\u001b[0;34m\u001b[0m\u001b[0m\n\u001b[0m\u001b[1;32m   1384\u001b[0m         \u001b[0;32mreturn\u001b[0m \u001b[0mblock\u001b[0m\u001b[0;34m.\u001b[0m\u001b[0mget\u001b[0m\u001b[0;34m(\u001b[0m\u001b[0mitem\u001b[0m\u001b[0;34m)\u001b[0m\u001b[0;34m\u001b[0m\u001b[0m\n\u001b[1;32m   1385\u001b[0m \u001b[0;34m\u001b[0m\u001b[0m\n",
        "\u001b[0;32m//anaconda/lib/python2.7/site-packages/pandas/core/internals.pyc\u001b[0m in \u001b[0;36m_find_block\u001b[0;34m(self, item)\u001b[0m\n\u001b[1;32m   1523\u001b[0m \u001b[0;34m\u001b[0m\u001b[0m\n\u001b[1;32m   1524\u001b[0m     \u001b[0;32mdef\u001b[0m \u001b[0m_find_block\u001b[0m\u001b[0;34m(\u001b[0m\u001b[0mself\u001b[0m\u001b[0;34m,\u001b[0m \u001b[0mitem\u001b[0m\u001b[0;34m)\u001b[0m\u001b[0;34m:\u001b[0m\u001b[0;34m\u001b[0m\u001b[0m\n\u001b[0;32m-> 1525\u001b[0;31m         \u001b[0mself\u001b[0m\u001b[0;34m.\u001b[0m\u001b[0m_check_have\u001b[0m\u001b[0;34m(\u001b[0m\u001b[0mitem\u001b[0m\u001b[0;34m)\u001b[0m\u001b[0;34m\u001b[0m\u001b[0m\n\u001b[0m\u001b[1;32m   1526\u001b[0m         \u001b[0;32mfor\u001b[0m \u001b[0mi\u001b[0m\u001b[0;34m,\u001b[0m \u001b[0mblock\u001b[0m \u001b[0;32min\u001b[0m \u001b[0menumerate\u001b[0m\u001b[0;34m(\u001b[0m\u001b[0mself\u001b[0m\u001b[0;34m.\u001b[0m\u001b[0mblocks\u001b[0m\u001b[0;34m)\u001b[0m\u001b[0;34m:\u001b[0m\u001b[0;34m\u001b[0m\u001b[0m\n\u001b[1;32m   1527\u001b[0m             \u001b[0;32mif\u001b[0m \u001b[0mitem\u001b[0m \u001b[0;32min\u001b[0m \u001b[0mblock\u001b[0m\u001b[0;34m:\u001b[0m\u001b[0;34m\u001b[0m\u001b[0m\n",
        "\u001b[0;32m//anaconda/lib/python2.7/site-packages/pandas/core/internals.pyc\u001b[0m in \u001b[0;36m_check_have\u001b[0;34m(self, item)\u001b[0m\n\u001b[1;32m   1530\u001b[0m     \u001b[0;32mdef\u001b[0m \u001b[0m_check_have\u001b[0m\u001b[0;34m(\u001b[0m\u001b[0mself\u001b[0m\u001b[0;34m,\u001b[0m \u001b[0mitem\u001b[0m\u001b[0;34m)\u001b[0m\u001b[0;34m:\u001b[0m\u001b[0;34m\u001b[0m\u001b[0m\n\u001b[1;32m   1531\u001b[0m         \u001b[0;32mif\u001b[0m \u001b[0mitem\u001b[0m \u001b[0;32mnot\u001b[0m \u001b[0;32min\u001b[0m \u001b[0mself\u001b[0m\u001b[0;34m.\u001b[0m\u001b[0mitems\u001b[0m\u001b[0;34m:\u001b[0m\u001b[0;34m\u001b[0m\u001b[0m\n\u001b[0;32m-> 1532\u001b[0;31m             \u001b[0;32mraise\u001b[0m \u001b[0mKeyError\u001b[0m\u001b[0;34m(\u001b[0m\u001b[0;34m'no item named %s'\u001b[0m \u001b[0;34m%\u001b[0m \u001b[0mcom\u001b[0m\u001b[0;34m.\u001b[0m\u001b[0mpprint_thing\u001b[0m\u001b[0;34m(\u001b[0m\u001b[0mitem\u001b[0m\u001b[0;34m)\u001b[0m\u001b[0;34m)\u001b[0m\u001b[0;34m\u001b[0m\u001b[0m\n\u001b[0m\u001b[1;32m   1533\u001b[0m \u001b[0;34m\u001b[0m\u001b[0m\n\u001b[1;32m   1534\u001b[0m     \u001b[0;32mdef\u001b[0m \u001b[0mreindex_axis\u001b[0m\u001b[0;34m(\u001b[0m\u001b[0mself\u001b[0m\u001b[0;34m,\u001b[0m \u001b[0mnew_axis\u001b[0m\u001b[0;34m,\u001b[0m \u001b[0mmethod\u001b[0m\u001b[0;34m=\u001b[0m\u001b[0mNone\u001b[0m\u001b[0;34m,\u001b[0m \u001b[0maxis\u001b[0m\u001b[0;34m=\u001b[0m\u001b[0;36m0\u001b[0m\u001b[0;34m,\u001b[0m \u001b[0mcopy\u001b[0m\u001b[0;34m=\u001b[0m\u001b[0mTrue\u001b[0m\u001b[0;34m)\u001b[0m\u001b[0;34m:\u001b[0m\u001b[0;34m\u001b[0m\u001b[0m\n",
        "\u001b[0;31mKeyError\u001b[0m: u'no item named False'"
       ]
      }
     ],
     "prompt_number": 121
    },
    {
     "cell_type": "code",
     "collapsed": false,
     "input": [
      "user_app.head(6)"
     ],
     "language": "python",
     "metadata": {},
     "outputs": [
      {
       "html": [
        "<div style=\"max-height:1000px;max-width:1500px;overflow:auto;\">\n",
        "<table border=\"1\" class=\"dataframe\">\n",
        "  <thead>\n",
        "    <tr style=\"text-align: right;\">\n",
        "      <th></th>\n",
        "      <th>create_date</th>\n",
        "      <th>update_date</th>\n",
        "      <th>user_id</th>\n",
        "      <th>entity_id</th>\n",
        "      <th>usage</th>\n",
        "      <th>is_deleted</th>\n",
        "    </tr>\n",
        "  </thead>\n",
        "  <tbody>\n",
        "    <tr>\n",
        "      <th>0</th>\n",
        "      <td> 20130222202059</td>\n",
        "      <td> 20130730090415</td>\n",
        "      <td> 2007318</td>\n",
        "      <td> 1612462</td>\n",
        "      <td> 0</td>\n",
        "      <td>  True</td>\n",
        "    </tr>\n",
        "    <tr>\n",
        "      <th>1</th>\n",
        "      <td> 20130311075241</td>\n",
        "      <td> 20130730090415</td>\n",
        "      <td> 2007318</td>\n",
        "      <td> 1651419</td>\n",
        "      <td> 0</td>\n",
        "      <td>  True</td>\n",
        "    </tr>\n",
        "    <tr>\n",
        "      <th>2</th>\n",
        "      <td> 20130401221208</td>\n",
        "      <td> 20130730090415</td>\n",
        "      <td> 2007318</td>\n",
        "      <td> 1522396</td>\n",
        "      <td> 0</td>\n",
        "      <td>  True</td>\n",
        "    </tr>\n",
        "    <tr>\n",
        "      <th>3</th>\n",
        "      <td> 20130604154430</td>\n",
        "      <td> 20130730144616</td>\n",
        "      <td> 5188098</td>\n",
        "      <td> 1526678</td>\n",
        "      <td> 1</td>\n",
        "      <td> False</td>\n",
        "    </tr>\n",
        "    <tr>\n",
        "      <th>4</th>\n",
        "      <td> 20130621155632</td>\n",
        "      <td> 20130730075157</td>\n",
        "      <td> 5207032</td>\n",
        "      <td> 1480116</td>\n",
        "      <td> 0</td>\n",
        "      <td>  True</td>\n",
        "    </tr>\n",
        "    <tr>\n",
        "      <th>5</th>\n",
        "      <td> 20130222202059</td>\n",
        "      <td> 20130730090415</td>\n",
        "      <td> 2007318</td>\n",
        "      <td> 1524647</td>\n",
        "      <td> 0</td>\n",
        "      <td>  True</td>\n",
        "    </tr>\n",
        "  </tbody>\n",
        "</table>\n",
        "</div>"
       ],
       "output_type": "pyout",
       "prompt_number": 98,
       "text": [
        "      create_date     update_date  user_id  entity_id  usage is_deleted\n",
        "0  20130222202059  20130730090415  2007318    1612462      0       True\n",
        "1  20130311075241  20130730090415  2007318    1651419      0       True\n",
        "2  20130401221208  20130730090415  2007318    1522396      0       True\n",
        "3  20130604154430  20130730144616  5188098    1526678      1      False\n",
        "4  20130621155632  20130730075157  5207032    1480116      0       True\n",
        "5  20130222202059  20130730090415  2007318    1524647      0       True"
       ]
      }
     ],
     "prompt_number": 98
    },
    {
     "cell_type": "code",
     "collapsed": false,
     "input": [
      "user_app.head(6)[user_app.head(6).is_deleted==False]"
     ],
     "language": "python",
     "metadata": {},
     "outputs": [
      {
       "html": [
        "<div style=\"max-height:1000px;max-width:1500px;overflow:auto;\">\n",
        "<table border=\"1\" class=\"dataframe\">\n",
        "  <thead>\n",
        "    <tr style=\"text-align: right;\">\n",
        "      <th></th>\n",
        "      <th>create_date</th>\n",
        "      <th>update_date</th>\n",
        "      <th>user_id</th>\n",
        "      <th>entity_id</th>\n",
        "      <th>usage</th>\n",
        "      <th>is_deleted</th>\n",
        "    </tr>\n",
        "  </thead>\n",
        "  <tbody>\n",
        "    <tr>\n",
        "      <th>3</th>\n",
        "      <td> 20130604154430</td>\n",
        "      <td> 20130730144616</td>\n",
        "      <td> 5188098</td>\n",
        "      <td> 1526678</td>\n",
        "      <td> 1</td>\n",
        "      <td> False</td>\n",
        "    </tr>\n",
        "  </tbody>\n",
        "</table>\n",
        "</div>"
       ],
       "output_type": "pyout",
       "prompt_number": 123,
       "text": [
        "      create_date     update_date  user_id  entity_id  usage is_deleted\n",
        "3  20130604154430  20130730144616  5188098    1526678      1      False"
       ]
      }
     ],
     "prompt_number": 123
    },
    {
     "cell_type": "code",
     "collapsed": false,
     "input": [
      "print len(user_app[user_app.update_date<20130727144616])\n",
      "print len(user_app[user_app.update_date>20130730144616])\n"
     ],
     "language": "python",
     "metadata": {},
     "outputs": [
      {
       "output_type": "stream",
       "stream": "stdout",
       "text": [
        "0\n",
        "4987533"
       ]
      },
      {
       "output_type": "stream",
       "stream": "stdout",
       "text": [
        "\n"
       ]
      }
     ],
     "prompt_number": 237
    },
    {
     "cell_type": "code",
     "collapsed": false,
     "input": [
      "sixteen = user_app.head(16)\n",
      "sixteen[sixteen.usage>0].loc[:,['user_id','usage']] # select user_id, usage from sixteen where usage > 0"
     ],
     "language": "python",
     "metadata": {},
     "outputs": [
      {
       "html": [
        "<div style=\"max-height:1000px;max-width:1500px;overflow:auto;\">\n",
        "<table border=\"1\" class=\"dataframe\">\n",
        "  <thead>\n",
        "    <tr style=\"text-align: right;\">\n",
        "      <th></th>\n",
        "      <th>user_id</th>\n",
        "      <th>usage</th>\n",
        "    </tr>\n",
        "  </thead>\n",
        "  <tbody>\n",
        "    <tr>\n",
        "      <th>3</th>\n",
        "      <td> 5188098</td>\n",
        "      <td> 1</td>\n",
        "    </tr>\n",
        "    <tr>\n",
        "      <th>7</th>\n",
        "      <td> 5183947</td>\n",
        "      <td> 4</td>\n",
        "    </tr>\n",
        "    <tr>\n",
        "      <th>8</th>\n",
        "      <td> 1758743</td>\n",
        "      <td> 1</td>\n",
        "    </tr>\n",
        "  </tbody>\n",
        "</table>\n",
        "</div>"
       ],
       "output_type": "pyout",
       "prompt_number": 216,
       "text": [
        "   user_id  usage\n",
        "3  5188098      1\n",
        "7  5183947      4\n",
        "8  1758743      1"
       ]
      }
     ],
     "prompt_number": 216
    },
    {
     "cell_type": "code",
     "collapsed": false,
     "input": [
      "sixteen.all?"
     ],
     "language": "python",
     "metadata": {},
     "outputs": [],
     "prompt_number": 212
    },
    {
     "cell_type": "code",
     "collapsed": false,
     "input": [
      "user_2007318_app = user_app[user_app.user_id<=25]\n",
      "user_2007318_app.head(10)"
     ],
     "language": "python",
     "metadata": {},
     "outputs": [
      {
       "html": [
        "<div style=\"max-height:1000px;max-width:1500px;overflow:auto;\">\n",
        "<table border=\"1\" class=\"dataframe\">\n",
        "  <thead>\n",
        "    <tr style=\"text-align: right;\">\n",
        "      <th></th>\n",
        "      <th>create_date</th>\n",
        "      <th>update_date</th>\n",
        "      <th>user_id</th>\n",
        "      <th>entity_id</th>\n",
        "      <th>usage</th>\n",
        "      <th>is_deleted</th>\n",
        "    </tr>\n",
        "  </thead>\n",
        "  <tbody>\n",
        "    <tr>\n",
        "      <th>194442</th>\n",
        "      <td> 20130222053554</td>\n",
        "      <td> 20130730093333</td>\n",
        "      <td> 25</td>\n",
        "      <td> 1689088</td>\n",
        "      <td> 0</td>\n",
        "      <td> True</td>\n",
        "    </tr>\n",
        "    <tr>\n",
        "      <th>194443</th>\n",
        "      <td> 20130222053554</td>\n",
        "      <td> 20130730093333</td>\n",
        "      <td> 25</td>\n",
        "      <td> 1526795</td>\n",
        "      <td> 0</td>\n",
        "      <td> True</td>\n",
        "    </tr>\n",
        "    <tr>\n",
        "      <th>194444</th>\n",
        "      <td> 20130222053554</td>\n",
        "      <td> 20130730093333</td>\n",
        "      <td> 25</td>\n",
        "      <td> 1475607</td>\n",
        "      <td> 0</td>\n",
        "      <td> True</td>\n",
        "    </tr>\n",
        "    <tr>\n",
        "      <th>194445</th>\n",
        "      <td> 20130222053554</td>\n",
        "      <td> 20130730093333</td>\n",
        "      <td> 25</td>\n",
        "      <td> 1603773</td>\n",
        "      <td> 0</td>\n",
        "      <td> True</td>\n",
        "    </tr>\n",
        "    <tr>\n",
        "      <th>194446</th>\n",
        "      <td> 20130222053554</td>\n",
        "      <td> 20130730093333</td>\n",
        "      <td> 25</td>\n",
        "      <td> 1682120</td>\n",
        "      <td> 1</td>\n",
        "      <td> True</td>\n",
        "    </tr>\n",
        "    <tr>\n",
        "      <th>194447</th>\n",
        "      <td> 20130222053554</td>\n",
        "      <td> 20130730093333</td>\n",
        "      <td> 25</td>\n",
        "      <td> 1521935</td>\n",
        "      <td> 0</td>\n",
        "      <td> True</td>\n",
        "    </tr>\n",
        "    <tr>\n",
        "      <th>194448</th>\n",
        "      <td> 20130222053554</td>\n",
        "      <td> 20130730093333</td>\n",
        "      <td> 25</td>\n",
        "      <td> 1695037</td>\n",
        "      <td> 0</td>\n",
        "      <td> True</td>\n",
        "    </tr>\n",
        "    <tr>\n",
        "      <th>194449</th>\n",
        "      <td> 20130222053554</td>\n",
        "      <td> 20130730093333</td>\n",
        "      <td> 25</td>\n",
        "      <td> 1513814</td>\n",
        "      <td> 0</td>\n",
        "      <td> True</td>\n",
        "    </tr>\n",
        "    <tr>\n",
        "      <th>194472</th>\n",
        "      <td> 20130222053554</td>\n",
        "      <td> 20130730093333</td>\n",
        "      <td> 25</td>\n",
        "      <td> 1456035</td>\n",
        "      <td> 0</td>\n",
        "      <td> True</td>\n",
        "    </tr>\n",
        "    <tr>\n",
        "      <th>194473</th>\n",
        "      <td> 20130607015801</td>\n",
        "      <td> 20130730093333</td>\n",
        "      <td> 25</td>\n",
        "      <td> 1603028</td>\n",
        "      <td> 0</td>\n",
        "      <td> True</td>\n",
        "    </tr>\n",
        "  </tbody>\n",
        "</table>\n",
        "</div>"
       ],
       "output_type": "pyout",
       "prompt_number": 164,
       "text": [
        "           create_date     update_date  user_id  entity_id  usage is_deleted\n",
        "194442  20130222053554  20130730093333       25    1689088      0       True\n",
        "194443  20130222053554  20130730093333       25    1526795      0       True\n",
        "194444  20130222053554  20130730093333       25    1475607      0       True\n",
        "194445  20130222053554  20130730093333       25    1603773      0       True\n",
        "194446  20130222053554  20130730093333       25    1682120      1       True\n",
        "194447  20130222053554  20130730093333       25    1521935      0       True\n",
        "194448  20130222053554  20130730093333       25    1695037      0       True\n",
        "194449  20130222053554  20130730093333       25    1513814      0       True\n",
        "194472  20130222053554  20130730093333       25    1456035      0       True\n",
        "194473  20130607015801  20130730093333       25    1603028      0       True"
       ]
      }
     ],
     "prompt_number": 164
    },
    {
     "cell_type": "code",
     "collapsed": false,
     "input": [
      "print user_app.shape\n",
      "print user_app.loc[1]\n",
      "print \"==============\"\n",
      "print app_info.shape\n",
      "print app_info.loc[2]"
     ],
     "language": "python",
     "metadata": {},
     "outputs": [
      {
       "output_type": "stream",
       "stream": "stdout",
       "text": [
        "(10616409, 6)\n",
        "create_date    20130311075241\n",
        "update_date    20130730090415\n",
        "user_id               2007318\n",
        "entity_id             1651419\n",
        "usage                       0\n",
        "is_deleted               True\n",
        "Name: 1, dtype: object\n",
        "==============\n",
        "(262957, 17)\n",
        "id                                                           1851153\n",
        "date                                                        20130515\n",
        "create_date                                           20130526183056\n",
        "update_date                                             2.013053e+13\n",
        "img                https://lh5.ggpht.com/mzvi1AiH5ZL04haXJ_fk64Ye...\n",
        "genre                                                              \uc571\n",
        "cate                                                                \n",
        "score                                                              0\n",
        "developer                                                     ZT.art\n",
        "intro              This is a premium GO Launcher theme, you may\\n...\n",
        "size                                                            4300\n",
        "ver                                                              1.0\n",
        "company                                                         None\n",
        "code               com.gau.go.launcherex.theme.Westernstyle.ling....\n",
        "app_create_date                                                 None\n",
        "app_cate                                             PERSONALIZATION\n",
        "company_id                                                       NaN\n",
        "Name: 2, dtype: object\n"
       ]
      }
     ],
     "prompt_number": 135
    },
    {
     "cell_type": "code",
     "collapsed": false,
     "input": [],
     "language": "python",
     "metadata": {},
     "outputs": []
    }
   ],
   "metadata": {}
  }
 ]
}