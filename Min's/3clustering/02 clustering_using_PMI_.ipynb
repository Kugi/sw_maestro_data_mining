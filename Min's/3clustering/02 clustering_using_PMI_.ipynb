{
 "metadata": {
  "name": ""
 },
 "nbformat": 3,
 "nbformat_minor": 0,
 "worksheets": [
  {
   "cells": [
    {
     "cell_type": "code",
     "collapsed": false,
     "input": [
      "%pylab inline\n",
      "from pandas import DataFrame, Series\n",
      "import pandas as pd\n",
      "import pandas.io.sql as sql\n",
      "import numpy as np\n",
      "import matplotlib.pyplot as plt\n",
      "from IPython.core.display import Image"
     ],
     "language": "python",
     "metadata": {},
     "outputs": [
      {
       "output_type": "stream",
       "stream": "stdout",
       "text": [
        "Populating the interactive namespace from numpy and matplotlib\n"
       ]
      }
     ],
     "prompt_number": 1
    },
    {
     "cell_type": "heading",
     "level": 3,
     "metadata": {},
     "source": [
      "db"
     ]
    },
    {
     "cell_type": "code",
     "collapsed": false,
     "input": [
      "from datetime import datetime\n",
      "def _get_date():\n",
      "    return datetime.datetime.now()\n",
      "from sqlalchemy import *\n",
      "db = create_engine('postgresql://soma:maestro@)!#@soma1.buzzni.com/application')\n",
      "from sqlalchemy.orm import sessionmaker\n",
      "from sqlalchemy.ext.declarative import declarative_base\n",
      "BaseObj = declarative_base()\n",
      "        \n",
      "db.echo = False  # Try changing this to True and see what happens\n",
      "metadata = MetaData(db)\n",
      "\n",
      "''' table create '''\n",
      "class Cache(BaseObj):\n",
      "    __tablename__ = 'query_freq'\n",
      "    query = Column('query', String(100), primary_key=True)\n",
      "    num = Column('num', Integer)\n",
      "    update_date = Column('update_date', Date(),default=datetime.now(), onupdate=datetime.now())\n",
      "    def __init__(self,query,num):\n",
      "        self.query=query\n",
      "        self.num=num\n",
      "\n",
      "        \n",
      "def create_table():\n",
      "    if db.dialect.has_table(db.connect(), \"query_freq\"):\n",
      "        db.execute(\"drop table query_freq;\")\n",
      "    # \ud14c\uc774\ube14 \uc0c8\ub85c \ub9cc\ub4e4\ub54c\ub9cc \uc4f0\uc138\uc694.\n",
      "    metadata = Cache.metadata\n",
      "    metadata.create_all(db)\n",
      "\n",
      "\n",
      "    \n",
      "Session = sessionmaker(bind=db)\n",
      "''' data insert '''\n",
      "s = Session()\n",
      "#s.add(Cache(**{'query': 'word0', 'num': 42}))\n",
      "#s.add(Cache(**{'query': 'word1', 'num': 43}))\n",
      "#s.add(Cache(**{'query': 'word2', 'num': 44}))\n",
      "#s.commit()\n",
      "\n",
      "\n",
      "def query_count(query):\n",
      "    s = Session()\n",
      "    result = s.query(Cache).filter(Cache.query==query)\n",
      "    #s.flush()\n",
      "    s.close_all()\n",
      "    if result.count()>0:\n",
      "        return result[0].num\n",
      "    return 0\n",
      "\n",
      "def set_query_count(query,count):\n",
      "    s = Session()\n",
      "    result = s.query(Cache).filter(Cache.query==query)\n",
      "    if result.count()>0:\n",
      "        result[0].num = count\n",
      "    else:\n",
      "        s.add(Cache(query,count))\n",
      "    s.commit()\n",
      "    s.close_all()\n",
      "    \n",
      "''' test '''\n",
      "set_query_count('word0',42)\n",
      "set_query_count('word1',43)\n",
      "set_query_count('word2',44)\n",
      "\n",
      "print query_count('word0')\n",
      "print query_count('word10')\n",
      "set_query_count('word10',100)\n",
      "print query_count('word10')"
     ],
     "language": "python",
     "metadata": {},
     "outputs": [
      {
       "output_type": "stream",
       "stream": "stdout",
       "text": [
        "42\n",
        "100\n",
        "100"
       ]
      },
      {
       "output_type": "stream",
       "stream": "stdout",
       "text": [
        "\n"
       ]
      }
     ],
     "prompt_number": 109
    },
    {
     "cell_type": "code",
     "collapsed": false,
     "input": [
      "#assign to Pack\n",
      "\n",
      "def createPMIDataFrame(appNameList, keywordList):\n",
      "    pmi_frame = pd.DataFrame(data=0.0, index=appNameList, columns=keywordList)\n",
      "    return pmi_frame\n",
      "\n",
      "def setPMI(dstFrame, appName, keyword, pmi):\n",
      "    dstFrame.loc[appName, keyword] = pmi\n",
      "    \n",
      "def getPMIFromDF(dstFrame, appName, keyword):\n",
      "    return dstFrame.loc[appName, keyword]\n",
      "\n",
      "def calcPMI(AppScore, KeywordScore, BothScore, nTotalDocs):\n",
      "    val = (AppScore*KeywordScore/(BothScore*nTotalDocs+1))\n",
      "    if val <= 0:\n",
      "        return 0.0\n",
      "    return math.log10(val)\n"
     ],
     "language": "python",
     "metadata": {},
     "outputs": [],
     "prompt_number": 110
    },
    {
     "cell_type": "code",
     "collapsed": false,
     "input": [
      "cd desktop"
     ],
     "language": "python",
     "metadata": {},
     "outputs": [
      {
       "output_type": "stream",
       "stream": "stdout",
       "text": [
        "[Errno 2] No such file or directory: 'desktop'\n",
        "/Users/jeongmingi/Desktop\n"
       ]
      }
     ],
     "prompt_number": 111
    },
    {
     "cell_type": "code",
     "collapsed": true,
     "input": [
      "import pandas as pd\n",
      "import pickle\n",
      "\n",
      "app2 =  pd.load('data/app_info2.df')\n",
      "app2_2000_name = app2.head(500).loc[:,['name']]"
     ],
     "language": "python",
     "metadata": {},
     "outputs": [],
     "prompt_number": 166
    },
    {
     "cell_type": "code",
     "collapsed": false,
     "input": [
      "app2['rate_num_all']"
     ],
     "language": "python",
     "metadata": {},
     "outputs": [
      {
       "output_type": "pyout",
       "prompt_number": 168,
       "text": [
        "0      2702\n",
        "1       241\n",
        "2       389\n",
        "3       170\n",
        "4        47\n",
        "5      3370\n",
        "6      4459\n",
        "7      1891\n",
        "8      1178\n",
        "9      4788\n",
        "10     3349\n",
        "11     1120\n",
        "12    19772\n",
        "13      382\n",
        "14     4007\n",
        "...\n",
        "265606    41792\n",
        "265607     2559\n",
        "265608     1181\n",
        "265609     4194\n",
        "265610      606\n",
        "265611      172\n",
        "265612     4277\n",
        "265613     3475\n",
        "265614      310\n",
        "265615     7713\n",
        "265616      651\n",
        "265617      236\n",
        "265618    13090\n",
        "265619     3278\n",
        "265620      382\n",
        "Name: rate_num_all, Length: 265621, dtype: int64"
       ]
      }
     ],
     "prompt_number": 168
    },
    {
     "cell_type": "code",
     "collapsed": false,
     "input": [
      "app2_2000_name"
     ],
     "language": "python",
     "metadata": {},
     "outputs": [
      {
       "html": [
        "<pre>\n",
        "&ltclass 'pandas.core.frame.DataFrame'&gt\n",
        "Int64Index: 500 entries, 0 to 499\n",
        "Data columns (total 1 columns):\n",
        "name    500  non-null values\n",
        "dtypes: object(1)\n",
        "</pre>"
       ],
       "output_type": "pyout",
       "prompt_number": 113,
       "text": [
        "<class 'pandas.core.frame.DataFrame'>\n",
        "Int64Index: 500 entries, 0 to 499\n",
        "Data columns (total 1 columns):\n",
        "name    500  non-null values\n",
        "dtypes: object(1)"
       ]
      }
     ],
     "prompt_number": 113
    },
    {
     "cell_type": "code",
     "collapsed": false,
     "input": [
      "for i, a in app2_2000_name.iterrows():\n",
      "    print a['name']"
     ],
     "language": "python",
     "metadata": {},
     "outputs": [
      {
       "output_type": "stream",
       "stream": "stdout",
       "text": [
        "100 \ubbf8\uc158 : \ub77c\uc2a4 \ubca0\uc774\uac70\uc2a4 (Las Vegas)\n",
        "\uc778\ubca0\uc774\ub354\ud5cc\ud130\n",
        "GTA Vice City Cheater\n",
        "\uc5d8\uc18c\ub4dc \uc2a4\ud0ac\ud2b8\ub9ac(\uc544\ub77c)\n",
        "\ubbf8\ub140\ubcc0\ud638\uc0ac\uc138\ub9ac\ud0b4\n",
        "Pet Fair Village\n",
        "Forest Life\n",
        "\uc138\uacc4\uc5d0\uc11c \uc81c\uc77c \ube60\ub978 \ub808\ubca8\uc5c5\n",
        "Devil Girls\n",
        "\u2605 \uc131\uc778\uc6a9 \ub9de\uace0\uc758 \uc885\uacb0\uc790!! \u2605 \uc7a5\ubaa8\ub2d8\uc758 \ub098\ub77c \ub9de\uace0\n",
        "\ud6c4\ub974\uce20\uc7bc for Kakao\n",
        "\uc139\uc2dc\ud55c \uc5ec\uc790 \ud06c\ub9ac\uc2a4\ub9c8\uc2a4 \ud37c\uc990\n",
        "\ucd08\ucf54\ucd08\ucf54 for Kakao\n",
        "Miners 4k\n",
        "Top Stylist\n",
        "\uc5d8\ub9ac\uba58\ud0c8\ub098\uc774\uce20 \uc628\ub77c\uc778 (EKO)\n",
        "FINAL FANTASY DIMENSIONS\n",
        "\ube14\ub8f8\ud31d (Bloom-PoP)\n",
        "METAL SLUG\n",
        "Pudding Monsters HD (\ud478\ub529 \ubaac\uc2a4\ud130)\n",
        "\uadf8\ub140\ub294\ud3ab2 \u2665D\ucef5 \uadf8\ub77c\ube44\uc544 Sexy \uc2a4\ud0c0  \uc5d0\ubc00\ub9ac\n",
        "\ud3ab \uce74\ud398 2\n",
        "\ud038\uc988\uc560\ub85c\uc6b0 ( \uc591\uad81 )\n",
        "\ud504\ub9ac\ud2f0 \ud3ab \ud1a0\uc774 \uc2a4\ud1a0\uc5b4\n",
        "\ud50c\ub77c\uc789 \ubc84\ub514 for Kakao\n",
        "\uce90\ub9ad\ud130\ud321 for Kakao\n",
        "\ub808\uc774\uc2f1 \uc790\ub3d9\ucc28 \uc9c0\uadf8 \uc18c \ud37c\uc990\n",
        "Berzerk Ball 2\n",
        "AE Coin Mania\n",
        "\ubbf8\ub2c8 \uace8\ud504 3D \uacf5\uac04 : \ud37c\ud2b8 \ud37c\ud2b8\n",
        "Contre Jour\n",
        "\ubc30\ud2c0\uc544\ub808\ub098(BattleArena)\n",
        "\ubc84\uac70 \ud328\uc2a4\ud2b8 \ud478\ub4dc \uc2a4\ud0e0\ub4dc \uba54\uc774\ucee4\n",
        "Scarface\n",
        "\uc824\ub9ac\ubf40 for Kakao\n",
        "\ubb34\ub364 \ubcf4\uc11d\n",
        "\ud504\ub9b0\uc138\uc2a4*\ud37c\uc990\n",
        "Raging Fire Racing\n",
        "\ub0b4 \uc0ac\ub791\uc2a4\ub7ec\uc6b4 \ub3fc\uc9c0\n",
        "\uce90\ucc60\ud504\ub9b0\uc2a4 for Kakao\n",
        "Angry Fatty\n",
        "\ub4dc\ub798\uace4 \uc2a4\ud1a0\ub9ac: \ubd80\ud65c\uc808 \uc5d0\ub514\uc158\n",
        "\ubd88\uad50\ubc29\uc1a1\n",
        "Save Toshi \u65e5\u672c\n",
        "\u042f\u0439\u0446\u0435\u043b\u043e\u0432\n",
        "\uc5b4\ub9b0\uc774\ub97c\uc704\ud55c \uc790\uc7a5\uac00\n",
        "\ud788\uc5b4\ub85c\uc2ac\ub808\uc774\uc5b4! [\uac04\ub2e8\ud788 \uc990\uae30\ub294  \ud37c\uc990&\ub514\ud39c\uc2a4 \uac8c\uc784]\n",
        "Christmas Hangman Deluxe\n",
        "Star Defender 4 (Free)\n",
        "Clash of the Olympians\n",
        "Great White SHARKS\n",
        "\uc911\uad6d\uc5b4 \ub2e4\ud06c \uad50\ud310\n",
        "\ub808\uc774\uc2a4 \uc2a4\ud0c0\ud2b8 - GO\ub77d\ucee4\ud14c\ub9c8 - \ud504\ub9ac\ubbf8\uc5c4\n",
        "Bowman Pro 4\n",
        "\uc608\uc2a4\ud30c\uc77c-\uc601\ud654\ubcf4\uae30,\uc74c\uc545,\ub4dc\ub77c\ub9c8,\uc560\ub2c8,\ub3d9\uc601\uc0c1 \uc790\ub8cc\ub2e4\uc6b4\ub85c\ub4dc\n",
        "Qello\n",
        "Three Kingdoms: Heroes\n",
        "BBC News\n",
        "\u4e0d\u601d\u8b70\u5fae\u751f\u7269\u30bf\u30de\u30bf\u30de\u7814\u7a76\u6240\n",
        "Galatasaray Fantasy Manager'13\n",
        "Puzzle Retreat\n",
        "\ucd95\uad6c \uacbd\uae30 \ud504\ub85c\n",
        "Wild Blocks Rush\n",
        "\u9a45\u52d5\u57ce\u5e02-\u5373\u6642\u8def\u6cc1,\u52a0\u6cb9,\u505c\u8eca,\u512a\u60e0,\u6551\u63f4\n",
        "FreeTelec T\u00e9l\u00e9c Freebox\n",
        "Wacky Duck\n",
        "[\uc138\uc774\ud1a1] \ub300\ud654\uac00 \ud544\uc694\ud560 \ub54c - Saytalk \ucc44\ud305\n",
        "Iron Reactor Widget\n",
        "MySafeApp \uc228\uae30\uae30 \uc0ac\uc9c4 \ubc0f \ub3d9\uc601\uc0c1\n",
        "Stamp sticker TextCutie\n",
        "I Smell Brains\n",
        "\ud06c\ub808\uc774\uc9c0 \uacbd\uc801\n",
        "\uc804\ub798\ub3d9\uc694 \ubc8c\uc544\ubc8c\uc544\n",
        "\ub85c\ub610 \ub300\ubc15\ub098\uae30\n",
        "KIDS SONG MACHINE 2 FREE\n",
        "\ub4dc\ub9bc \ud648\n",
        "\uc5d0\uc774\uc9c0 \uc624\ube0c \uac13: \uc544\uae30\uc790\uae30\ud55c \uce74\ub4dc\ubc30\ud2c0\n",
        "Shadow Galaxy\n",
        "\uc0ac\uc9c4 \uc7ac\ubbf8 - \uc7ac\ubbf8 \uac24\ub7ec\ub9ac \uc791\uc131\uae30\n",
        "MMDA for Android\u2122\n",
        "\ud380\uce90\uc2a4\ud2b8 - \ucd5c\uace0\uc758 \ud31f\uce90\uc2a4\ud2b8\n",
        "\ub450\ub1cc\uac74\uac15 \ud328\ud134\uc554\uae302\n",
        "Thai Livescore\n",
        "\u6dfa\u7da0\u5c0f\u8aaa\u96c6\uff08\u7e41\u9ad4\u7248\uff09\n",
        "Elements Battle\n",
        "Tales from the Dragon Mountain\n",
        "MojiTime Clock Widget\n",
        "AmbientTime Live Wallpaper\n",
        "Practice English Grammar - 1\n",
        "Cupcake Stand\n",
        "Pixel Dungeon\n",
        "Candy Island HD - \uce94\ub514 \uc12c HD\n",
        "[\uc644\uc804\ubb34\ub8cc]\ub77c\uc2a4\ud2b8\uccb4\uc774\uc11c Plus+\n",
        "\ucf54\uc778 \uac8c\uc784 ~ \ud398\ub2c8 \ud478\uc154\n",
        "\ucd94\uc5b5\uc758 \ub2ec\uace0\ub098 \ubf51\uae30\n",
        "\uacfc\uc77c \ubc84\ube14 \uc288\ud130\n",
        "\u30d1\u30c1\u30b9\u30ed\u300c\u7518\u3069\u308b!!\u300d\n",
        "\ubf40\ubf40\uac8c\uc784\n",
        "\u7f8e\u5973\u5341\u516b\u6478\u6478\u51fa\u9ad8\u6f6e\n",
        "Hip Mania[Hot Girl] Free Game\n",
        "\ubc1d\uc740 \uba4b\uc9c4\n",
        "TarzaN Ever Ending Adventure\n",
        "Gourmet Creature Hungry Mogumo\n",
        "\ubcf4\uc218\uacc4\n",
        "\u60c5\u8272\u6478\u4e73\uff1a\u706b\u8fa3\u6bd4\u57fa\u5c3c\n",
        "\ubb3c\uc740 \uc18c\ub9ac\n",
        "\u4eba\u4eba\u90fd\u7231\u72d0\u72f8\u7cbe\n",
        "EZ Pill Reminder\n",
        "Smart Baby Mat (Monitor)\n",
        "\u9690\u5f62\u80f8\u7f69\uff08\u5b89\u5353\u7248\uff09\n",
        "Height & Weight Log\n",
        "\uccb4\uc911\uc744 \uc783\uac8c\ud558\ub294 \ube60\ub978 \ubc29\ubc95\n",
        "Sword Art Online Theme FREE\n",
        "\u70ed\u95e8\u7384\u5e7b\u4fee\u771f\u5c0f\u8bf4\u5408\u96c6\n",
        "\u6210\u4eba\u6fc0\u60c5\u8868\u59b9\u7684\u8bf1\u60d1\u5c0f\u8bf4\n",
        "\u5bab\u6597\u6fc0\u60c5\u6587\u5b66\n",
        "Be My Princess\n",
        "TouchPal Swedish Pack\n",
        "IDM Internet Download Magician\n",
        "\u7c21\u7e41:\u5bf5\u6587\u751c\u6587\u8a00\u60c5\u5c0f\u8aaa\u5408\u96c6[7]\n",
        "Android 2.2 API Demos\n",
        "\ubfcc\uae4c \uc0ac\ucc9c\uc131\n",
        "Dreamhouse Next Launcher Theme\n",
        "\ub9c8\uc774 \uce74 \uc0b4\ub871 2\n",
        "\ud0c0\uc774\ub2c8\uc6cc\n",
        "\ub85c\ubcf4\n",
        "\ud50c\ub808\uc774\uc5b4 \ucd95\uad6c \uc0ac\uc9c4 \ud034\uc988\n",
        "\u2605 3D RPG Heaven Sword \u2605\n",
        "If Serie A 2012 - 2013 Lite\n",
        "Opzi Bingo\n",
        "Tap Play\n",
        "Sweet Ring Shop\n",
        "Love Quote Pics for Facebook\n",
        "\uce74\uc624\uc2a4\uc601\uc6c5\uc804\n",
        "\uc880\ube44 \uc3f4\n",
        "\ubaac\uc2a4\ud130 \ucf54\uc778\n",
        "OctoCheck\n",
        "\u7ec8\u6781\u5854\u9632\n",
        "\uc5ec\uc790\ub97c\uc704\ud55c \uba4b\uc9c4 \uac8c\uc784\n",
        "Top Shooter\n",
        "Line Super Runner\n",
        "\u010cT24\n",
        "\ub2e4\ud568\uaed8 \ud401\ud401\ud401 \uac00\uc9dc \ubc1c\ub3c4\uc7a5 100\uac1c (\ud401\ud401\ud401 \ucee4\ubba4\ub2c8\ud2f0)\n",
        "\uc885\uc774\uc811\uae30\n",
        "Assault Force\n",
        "\ud0a4\uc704\ub7f0!\n",
        "\u738b\u54c1\u9910\u98f2\u975e\u5b98\u65b9APP(\u53f0\u5851\u725b\u6392,\u590f\u6155\u5c3c,\u539f\u71d2,\u897f\u5824,\u7b49\u9910\u5ef3)\n",
        "[FREE]\ub7ec\ube0c\ub7ec\ube0c\ud3ab\ud0c0\uc774\ucfe4\n",
        "\ucfe0\ud0a4\ub7f0 \ub300\ud45c \ucee4\ubba4\ub2c8\ud2f0 (\uac8c\uc784\ucfe1)\n",
        "Go Locker Minecraft\n",
        "Gem Cleaner\n",
        "\ub0b4 \ubb3c \ub09a\uc2dc \uac8c\uc784 \ud37c\uc990\n",
        "KTB netbank\n",
        "Pumped: BMX Free\n",
        "Joy Drums\n",
        "Jungle Jewels Free\n",
        "\ub2e4 \ubc97\uae30\ub294 \uc139\uc2dc \ub8f0\ub81b\uac78\n",
        "JTBC \ub274\uc2a4\n",
        "\uadc0\uc5ec\uc6b4 \uc0c8\ub07c \uace0\uc591\uc774\ub97c \ucc3e\uace0 \uc788\ub294\ub370 \ud654\uba74\n",
        "\u5168\u58d8\u62532 OL\n",
        "Las Vegas Slot Machine HD\n",
        "\ud5ec\uc2a4 \uc2a4\ucf00\uc974\ub7ec\n",
        "\u0422\u0430\u0440\u043e \u0413\u0430\u0434\u0430\u043d\u0438\u0435\n",
        "TV\u96a8\u8eab\u770bHD-\u9078\u53f0\u5668\n",
        "SPY mouse\n",
        "Funny iMadeFace Videos&Photos+\n",
        "Screen On\n",
        "3\u570b\u5c0f\u8c6c \u6349\u932f\u8655\n",
        "Video Download\n",
        "Jet Car Stunts\n",
        "\uc880\ube44 \uc774\ube14\n",
        "olleh \ucf55!\ucf55!\n",
        "iMadeFace Funny Pics & Videos\n",
        "[PNN] PTT \u9109\u6c11\u665a\u5831\n",
        "\uce58\ud0a8\ub7f0(\ub18d\uc7a5\ud0c8\ucd9c)\n",
        "ApeFlip\n",
        "Equalizer\n",
        "Splat Bugs III Unlock KEY\n",
        "TOP 20 SMS \uc0ac\uc6b4\ub4dc \ud6a8\uacfc\n",
        "\u30aa\u30ea\u30b3\u30f3\u30df\u30e5\u30fc\u30b8\u30c3\u30af\u30b9\u30c8\u30a2\n",
        "Shut Up! App\n",
        "\ub9e4\ub2c8\ud050\uc5b4 \ub514\uc790\uc774\ub108 \ub77c\uc774\ud2b8\n",
        "\u4e58\u6cd5\u5c0f\u5b78\u5802\n",
        "T map for KT,LGU+\n",
        "\u53f0\u7063\u5496\u5561/\u98f2\u6599\u5927\u5168\uff01 (online\u7248, \u53ef\u4e0b\u8f09\u96e2\u7dda\u4f7f\u7528)\n",
        "Mickey Mouse Clubhouse\n",
        "\u59dc\u997c\u4eba\u5927\u9003\u4ea1 (Ovenbreak)\n",
        "\uc9c0\ubb38 \uc608\uc0c1\n",
        "\uc2a4\ud241\uc2a4(stoongs) Email\uc601\uc5b4\n",
        "EZ\u65c5\u904a\u65e5\u8a9e\n",
        "EZ\u7f8e\u98df\u65e5\u8a9e\n",
        "Net Big 2 Free\n",
        "Jewellust Xmas\n",
        "\uce74\ud1a1 \uc774\ubaa8\ud2f0\ucf58\n",
        "The Island: Castaway\n",
        "\u5eb7\u7199\u4f86\u4e86 TV\n",
        "Kids Jigsaw Puzzles Ocean Free\n",
        "\u79d8\u5bf6\u63a2\u5075\n",
        "Airport Mania XP FREE\n",
        "Korean Vocabulary\n",
        "\u010cT4\n",
        "Bluetooth OnOff\n",
        "\u516d\u6cd5\u5168\u66f8\n",
        "7\uae09\uacf5\ubb34\uc6d0 \ubb34\ub8cc\ub2e4\uc2dc\ubcf4\uae30-\uac00\uc785\uc5c6\uc74c/\uc2e4\uc2dc\uac04\uac10\uc0c1/TV\ub4dc\ub77c\ub9c8\n",
        "Puzzle for Minecraft\n",
        "\uc5b4\ub514\uc5d0?\n",
        "KK-Boxing\n",
        "Crazy Moto Construction Yard\n",
        "\ud574\uc11d \uccad\ucd98\ub0a8\ub140(2013\ub144 \uc6b4\uc138)\n",
        "Stick Swing\n",
        "\u5fc3\u9748\u6545\u4e8b\n",
        "\ub3d9\ubb3c \uac80\uc0c9\n",
        "Dropwords\n",
        "Archos File Manager\n",
        "M1 BestPicks\n",
        "Squibble\n",
        "Grand Theft Auto 4 Guide GTA4\n",
        "During_GO\ub7f0\ucc98EX\ud14c\ub9c8\n",
        "\uac13\ud53c\ud50c\ubab0\n",
        "Cupcake Maker!\n",
        "Movie Booth FX \ube45\ubc45 - \uc601\ud654 \ubd80\uc2a4\n",
        "7x7\n",
        "Explorer\n",
        "Pendu Classique: France\n",
        "PicsArt Kaleidoscope\n",
        "\ud3ec\ud1a0 \uc6cc\ud130 \ubc18\uc601\n",
        "\uad6d\ub0b4\uc720\uc77c \ubb34\ub8cc\uc18c\uac1c\ud305, \ud558\ub8e8 \ub450\uba85\uc529 \ub04c\ub9bc\n",
        "Scydo \ubb34\ub8cc \uc548\ub4dc\ub85c\uc774\ub4dc\ub294 \uc804\ud654\n",
        "\ubb34\ud55c\ube61\uce68 \ub191\n",
        "\u041a\u0430\u043c\u0435\u0434\u0438 \u041a\u043b\u0430\u0431 - \u041b\u0443\u0447\u0448\u0438\u0435 \u0412\u0438\u0434\u0435\u043e\n",
        "Qik Video\n",
        "Country House_GO\ub7f0\ucc98EX\ud14c\ub9c8_\ud504\ub9ac\ubbf8\uc5b8\n",
        "\ud3ed\ud589 \uc880\ube44 HD\n",
        "Colombo Racer Beta- Sri Lankan\n",
        "Call Confirm\n",
        "Zombie Fields HD\n",
        "Beat the Beast\n",
        "\u62c6\u5f48\u9a5a\u9b42\n",
        "\ubaa8\ub450\uc758\uac8c\uc784 \ud587\uc0b4\uc774\ubca4\ud2b8\n",
        "Asphalt 6: Adrenaline Free\n",
        "Pet Rescue Saga Help\n",
        "\ub9de\uace0\ub3c4\uc0ac\uc804 2013\n",
        "RO\u4ed9\u5883\u50b3\u8aaa-\u74e6\u723e\u57fa\u91cc\u4e4b\u4e82-\u6b7b\u4ea1\u4e4b\u90fd\u5df4\u9732\u6234\u723e\n",
        "Bike to the Future Free\n",
        "FrameMe-Instagram pic\n",
        "Monorail Lite\n",
        "chumby for Sony Tablet S\n",
        "[GDGT]MCPE App\n",
        "PEP the dragon\n",
        "3D\u5168\u666f\u62cd\u7167\n",
        "Color Touch FX\n",
        "\uc544\uae30 \uc790\uc7a5\uac00 \uc218\uba74 \ud2b8\ub808\uc774\ub2dd + \ucd08\uc810\ucc45\n",
        "Moto Race\n",
        "eco\u30e2\u30fc\u30c9\n",
        "pink butterflies glitter lwp\n",
        "Zs\u00edroz\u00e1s\n",
        "Halifax Mobile Banking app\n",
        "The Snowman and The Snowdog\n",
        "Strategy & Tactics: WW II Free\n",
        "Pocket Clothier Lite\n",
        "e\ud558\ub298 \uc7a5\uc0ac\uc815\ubcf4\n",
        "\uc2a4\ud504\ub808\ub4dc\uce98 - \uce98\ub9b0\ub354\n",
        "Pocket Dragons RPG\n",
        "\ud130\uce58 \ud130\uce58 \uc0ac\ub2e4\ub9ac ( Touch Touch \uc0ac\ub2e4\ub9ac )\n",
        "\uadf9\uc9c0\uace0:\ud559\uc6d0\ubb34\ub9bc\ub300\uc804\n",
        "Fruit Slice\n",
        "Messi vs Ronaldo Quiz\n",
        "Kids Connect the Dots Xmas\n",
        "\ubc30\ud2b8\ub9e8 \uc774\uc57c\uae30\n",
        "Camera widget GO Weather EX\n",
        "\uc815\ubcf4\uc9c0\ud0b4\uc774 (SOM)\n",
        "Beautylish: Makeup Beauty Tips\n",
        "\ubcf4\uc11d \uac8c\uc784\n",
        "Daily Perks\n",
        "Dai Cazzo\n",
        "World War II raid\n",
        "Make Your Cake\n",
        "\uadc0\uc5ec\uc6b4 \uc5d4\uc824 - \ucc28\uc774 \ucc3e\uae30\n",
        "\u82f1\u6f22\u5b57\u5178 EC Dictionary\n",
        "Sniper Battle\n",
        "\ud48d\uc120 \ud0c0\uc6cc \ubc29\uc5b4 \uc804\ud22c\n",
        "Angela Dress Up\n",
        "\u7f8e\u56e2\u56e2\u8d2d\uff08\u56e2\u8d2d\u5fc5\u5907)\n",
        "\uc6b0\ub9ac\uc740\ud589 \uc6d0\ud130\uce58 \uc6d4\ub4dc\n",
        "Ant Raid\n",
        "Meteor - Meteoradar\n",
        "Little Crane\n",
        "\uc324\uc324\ub9c8\ud2b8\n",
        "\uc139\uc2dc\ud55c \ubbf8\ub4dc \ub098\uc774\ud2b8 \ud480\uc774\n",
        "\ud074\ub798\uc2dd \ubc84\ube14 \ucd2c\uc601\n",
        "Old School Dialer\n",
        "\ub0b4\ubd80 \uc815\uc6d0 (Inner Garden)\n",
        "\u96fb\u8996\u79c0 YouTube Taiwan\n",
        "HotWheel Highway Drive\n",
        "Nyan Cat: Lost Space Race\n",
        "NEW\u2665\ud640\ub531\ub9de\uace0\u266519\uae08\n",
        "\ucd5c\uace0 \uc18d\ub3c4 \ub9d0 : \ubb34\ub8cc\n",
        "Gurk II, the 8-bit RPG\n",
        "Zombie Age\n",
        "\ucd9c\uc870 \ub09a\uc2dc\uad11\n",
        "\u2605\ub514\ud39c\uc9c0 2\u2605\n",
        "Kids Animal Preschool Puzzle L\n",
        "\ud0f1\ud06c \uc804\uc7c1 \uc601\uc6c5 \uc0ac\ub0e5\uafbc\n",
        "ANGRY BOTS 9MB\n",
        "\ub85c\uc2a4\ud2b8 \uc544\uc77c\ub79c\ub4dc\n",
        "\uc2e4\ud06c\ub85c\ub4dc for Kakao\n",
        "\uc810 - \uc790\ub3d9\ucc28\n",
        "Office Lady \uc2a4\ud2b8\ub9bd\ub9de\uace0\n",
        "\u0422\u0430\u043d\u0447\u0438\u043a\u0438 2013\n",
        "\u30ef\u30fc\u30eb\u30c9\u30e1\u30fc\u30ab\u30fc [\u5f3e\u5e55\u30b7\u30e5\u30fc\u30c6\u30a3\u30f3\u30b0\u00d7\u30d5\u30a1\u30f3\u30bf\u30b8\u30fcRPG]\n",
        "Sky Fighters Academy Free\n",
        "Cut'n'Roll\n",
        "\uc5f0\uc608\uc778 \uc774\ub984 \ub3c4\uc804 Quiz\n",
        "\ud558\ub140\ub9de\uace03\u2605\uc9c0\uae08\uc740 \ub300\ud558\ub140\uc2dc\ub300\u2605\n",
        "What's Up\n",
        "R-Tech Commander Colony\n",
        "\u0420\u0435\u0446\u0435\u043f\u0442\u044b \u2013\u0432\u043a\u0443\u0441\u043d\u043e \u0438 \u043f\u043e\u043b\u0435\u0437\u043d\u043e\n",
        "Dragon Hunter II\n",
        "\ubc84\uac70 \ud328\ub2c9 \uc694\ub9ac \uac8c\uc784\n",
        "Prison Tycoon\n",
        "CoD: Black Ops 2 Customizer\n",
        "Sexy Slot SUPER REAL 8LINES P2\n",
        "Global War Tanks\n",
        "Level Up! RPG\n",
        "Avoooid!Hero\n",
        "\ub2e4\ube48\uce58\ud30c\uc774\uc5b4 for kakao\n",
        "Ajax Fantasy Manager'13\n",
        "PUZZLE PRISM LITE\n",
        "\uc288\ud37c \ubc84\uac70 \uc7bc\n",
        "\uc139\uc2dc\u2665\uac78\uc744 \ucc3e\uc544\ub77c\n",
        "[\ub3c8\ubc84\ub294\uc5b4\ud50c]\uc571\ud14c\ud06c \ud544\uc218\uc5b4\ud50c - \uc571\ud5cc\ud130 2\n",
        "Around the World in 80 Days\n",
        "\uadc0\uc5ec\uc6b4\ub77c\uc774\ube0c \ubc30\uacbd\ud654\uba74\n",
        "GTA 5 is Coming!!!\n",
        "Real Racing 2 Free\n",
        "\uc815\ud1b5\uc12f\ub2e4 2013\n",
        "Hangman\n",
        "Brainsss\n",
        "Tickling cat\n",
        "\uc880\ube44 \uce74\ud398\n",
        "\u9748\u5360\u5929\u4e0b-\u516b\u5b57 \u5360\u535c \u7b97\u547d \u661f\u5ea7 \u904b\u52e2\n",
        "FC\ub9e4\ub2c8\uc800 \ubaa8\ubc14\uc77c\n",
        "Treasures of Montezuma Blitz\n",
        "\u901a\u8a71\u7d00\u9304++\n",
        "Kula Jump\n",
        "\ub4dc\ub798\uace4\ud50c\ub77c\uc774\ud2b8 \uacf5\ub7b5\ucee4\ubba4\ub2c8\ud2f0 \ud578\ub514\uac8c\uc784\n",
        "\uac1c\uad6c\ub9ac \ubb34\ub8cc \ub3c4\uc57d\n",
        "Deluxe Apartment Escape\n",
        "\u9f8d\u65cf\n",
        "\uac10\uc625 \ube0c\ub808\uc774\ud06c\n",
        "Hamlet (\ud584\ub9bf)\n",
        "Objetos Escondidos - Free Game\n",
        "Clear Vision (17+)\n",
        "\uc57c\ud55c\ub3d9\uc601\uc0c1 \ub204\ub4dc\ub9de\uace0\n",
        "Fling a Thing\n",
        "\ub864\ub7ec \ucf54\uc2a4\ud130 \ud06c\ub9ac\uc5d0\uc774\ud130\n",
        "Wireless Charger\n",
        "\uc560\ub2c8\ud321 \uce5c\uad6c\ucd94\uac00,\ud558\ud2b8\uc120\ubb3c \ucee4\ubba4\ub2c8\ud2f0\n",
        "Xeno Wars\n",
        "CANALTOUCH\n",
        "\ucd08\ucf5c\ub9bf \ucfe0\ud0a4 \uc694\ub9ac \uac8c\uc784\n",
        "Block Builder\n",
        "Kingfisher Formula Race\n",
        "Zombocalypse\n",
        "The Saga of Conquest(Best MMO)\n",
        "Hard Wound\n",
        "sexy \uc637\ubc97\uae30\uae30 \uac00\uc704\ubc14\uc704\ubcf4\n",
        "\u6a02\u900f\u5c0d\u514c\u734e\n",
        "Blow Up Balloon\n",
        "\ubb34\ub8cc \ub85c\ub610,\ub3c8\ubc84\ub294\uc5b4\ud50c,\uc778\uc0dd\ud55c\ubc29\uc5ed\uc804,\ub85c\ub610\ub85c,TOLOTTO\n",
        "\u667a\u80fd\u98a8\u6c34\u7f85\u76e4 (\u57fa\u672c\u7248)\n",
        "AC Milan Fantasy Manager'13\n",
        "\uae30\uc5b4\uc2a4 & \uc6a9\uac10\ud55c \uc790\n",
        "100 \ubb38 : \uc2dc\uac04 \u200b\u200b\uae30\uacc4\n",
        "C-games \ud074\ub77c\uc6b0\ub4dc \uac8c\uc784 \uc2a4\ud1a0\uc5b4\n",
        "\ub2cc\uc790 \uac8c\uc784\n",
        "Galinha Pintadinha 2\n",
        "Zombie Warrior Man 18+\n",
        "Arsenal Fantasy Manager'13\n",
        "Jewel Stacker\n",
        "Bubble Witch Saga Fan Guide\n",
        "\uc5b4\uba54\uc774\uc9d5 \ube0c\ub808\uc774\ucee4_FREE\n",
        "\ud30c\uc774\ube0c\uc18c\uc988\n",
        "Zombie Ace\n",
        "\uc2a4\uc2dc \ud0c0\uc774\ucfe4\n",
        "\uc0bc\uad6d TD : \ubc29\uc5b4\uc790\n",
        "Ultimate SMS Template Library\n",
        "\u3010\uc778\uae30\u3011\u3010\uc561\uc158RPG\u3011\ub4dc\ub798\uace4 \ud5cc\ud130LITE\n",
        "Zombie Swipeout Free\n",
        "Prayer Time\n",
        "\ubd04\ube0c\uc258\n",
        "\u30d5\u30a1\u30eb\u30ad\u30e5\u30fc\u30ec\u306e\u7d0b\u7ae0 [40\u4e07\u4eba\u304c\u5927\u71b1\u72c2\uff01\u7121\u6599\u30ab\u30fc\u30c9\u30b2\u30fc\u30e0]\n",
        "Circuit Flow Free\n",
        "\ub358\uc804 \ubaa8\ud5d8 - \ubb34\ub8cc\n",
        "MMORPG Project\n",
        "\u0627\u0641\u062d\u0635 \u0642\u0648\u0629 \u0628\u0635\u0631\u0643 \u0627\u0644\u0645\u0637\u0648\u0631\n",
        "Liverpool FC Fantasy Manager\n",
        "Skyriders\n",
        "Truck Delivery Free\n",
        "\uc804\uc7c1 \uc804\ub7b5\n",
        "Furious Wheel\n",
        "Wordfeud\n",
        "Bouncy Bill Halloween\n",
        "LIL' KINGDOM\n",
        "\uc624\ud508\ub77c\uc774\ub354\n",
        "ENCHANT U\n",
        "\u5929\u5929\u7f8e\u56fe--\u6700\u4f73\u5716\u7247\u7f8e\u5316\u8655\u7406\u5de5\u5177\n",
        "Darkbase \uc880\ube44\ub294 \uc8fd\uc5ec!\n",
        "FinalMagicES \u7121\u6599[\u7269\u8a9e\u91cd\u8996\u30aa\u30f3\u30e9\u30a4\u30f3\u30d0\u30c8\u30eb]\n",
        "\uc2a4\ub204\ud53c \uc2a4\ud2b8\ub9ac\ud2b8\n",
        "\ube5b\uc758 \uc131 \u2014 City of Splendors\n",
        "\ucfe0\ud0a4\ub7f0 \uc5c5\uadf8\ub808\uc774\ub4dc+\ub808\ubca8\uc5c5\n",
        "100 Escapers\n",
        "CHAOS RINGS\n",
        "\uc606\uc9d1 \uc18c\ub140\n",
        "Lego Christmas examples\n",
        "Pirate Explorer: The Bay Town\n",
        "Thunder Gun Pit Crew Titans\n",
        "TheEndApp\n",
        "All\u82f1\u8bed\u8bcd\u5178, English \u21d4 Chinese\n",
        "Jellyflop!\n",
        "\ucee4\ub125\ud2b8\ub380 (Connect'Em)\n",
        "Lara Croft: Guardian of Light\n",
        "ParkingBreak_Lite\n",
        "LOL \uac00\uc774\ub4dc (\uc804\uc124\uc758 \ub9ac\uadf8)\n",
        "\uc18c\ud658\uc804\uc7c1\n",
        "zettai ryouiki new FREE\n",
        "EDGE Demo\n",
        "\ub808\uc2a4\ud1a0\ub791\uc2a4\ud0c0\n",
        "Animal Collections\n",
        "\u795e\u9f8d\u90e8\u843d - Dragon Village\n",
        "Nations At War\n",
        "\ub291\ub300 \ub358\uc9c0\uae30\n",
        "Renault Trucks Racing\n",
        "\uc544\uccd0\ucea3\n",
        "Tank War: Extreme\n",
        "\ubb34\ub8cc \ud0c8\ucd9c \uac8c\uc784 - \uac1c\uad6c\ub9ac \uc655\uc790\n",
        "ATC4Real San Diego\n",
        "Dragon Board\n",
        "Beastie Bay\n",
        "Alg\u00e9rie M\u00e9t\u00e9o\n",
        "\ub124\uc774\ud0a4\ub4dc\ud0b92\n",
        "\ube14\ub808\uc774\ub4dcz(Blade z)\n",
        "2012 \ub300\ud1b5\ub839 \ub2ec\ub9ac\uae30\n",
        "Voxel Invaders (Free)\n",
        "\ub7ec\ube0c \uba54\ubaa8\ub9ac\uc988 LITE\n",
        "Zion Tower Defense Free\n",
        "Medieval Battlefields FREE\n",
        "CJ \ubdf0\ud2f0 \uc18c\ub140 \ud37c\uc990\n",
        "Guns'n'Glory GOLD\n",
        "\uacf5\uc8fc \uba54\uc774\ud06c\uc5c5 \ub77c\uc774\ud2b8\n",
        "\ud310\ud0c0\uc9c0\uc6cc\n",
        "\u017bulionerzy\n",
        "MAME4droid (0.37b5)\n",
        "Bungie Mobile\n",
        "\u4e0d\u597d\u7b11\u514d\u9322\n",
        "\u61f7\u5ff5\u91d1\u66f2\n",
        "\uc194\uc800 \uc624\ube0c \uae00\ub85c\ub9ac: \uc6d4\ub4dc \uc6cc 2 \uc880\ube44\n",
        "Mojo \u5168\u53f0\u7063\u63a8\u85a6\u65c5\u904a\u666f\u9ede\n",
        "Winulator-beta\n",
        "\u0423\u0445\u043e\u0434 \u0437\u0430 \u043b\u0438\u0446\u043e\u043c\n",
        "Galaxy Note 2 Live Clock\n",
        "\ud06c\ub9bc\uc2a8\ubca0\uc778\n",
        "Injustice Gods Among Us Guide\n",
        "\uc81c\ud2b8 \ud50c\ub77c\uc774 (II)\n",
        "\ub9d0\ub791\ub9d0\ub791\uc0ac\ucc9c\uc1312\n",
        "VPET\n",
        "\ud48d\uc120\ud0c0\uc6cc\ub514\ud39c\uc2a4 4\n",
        "\ud48d\uc120\ud0c0\uc6cc\ub514\ud39c\uc2a4 4E\n",
        "\uc288\ud37c \ud2b8\ub7ed \ud504\ub85c\n",
        "\ud5c8\uc218\uc544\ube44\uc758 \ub1cc\n",
        "Girl Fart\n",
        "MineGuides\n",
        "GnarBike \ud3c9\uac00\ud310 \ud504\ub85c\n",
        "\ubaac\uc2a4\ud130\uc6d4\ub4dc\n",
        "\uc545\ub9c8\uc758\uacc4\ud68d\n",
        "\ubc30\ud2c0\uce90\ub17cSE(Battle Cannon Online)\n",
        "\ub864\ub7ec\ucf54\uc2a4\ud130\ub77c\uc774\ub4dc\n",
        "\u0110ua xe Need for Speed HD\n",
        "Animal Park Tycoon\n",
        "\ubd88\ub968 \uc774\ud004\ub77c\uc774\uc800\n",
        "\ubb3c\ub54c\uc640\ub0a0\uc528- \ub09a\uc2dc\uc778\uc744 \uc704\ud55c \uc870\uc11d, \ub0a0\uc528 \uc608\ubcf4\n",
        "\uacbd\uae30 \ud559\uad50\ud589\ubcf5\uc9c0\uc218\n",
        "\uafc8\uc758 \uac70\ub9ac\n",
        "\uc601\uc6c5 \ud0c8\ucd9c\n",
        "Bride and Groom Maker\n",
        "Virtual Piano\n",
        "Color Touch\n",
        "B1A4 \ud50c\ub808\uc774\uc5b4[\ucd5c\uc2e0\uc568\ubc94\uc74c\uc545\ubb34\ub8cc/\uc2a4\ud0c0\uc0ac\uc9c4/\uc601\ud654OST]\n",
        "Music Player for Android\n",
        "\u0633\u0648\u0631\u0629 \u062a\u0628\u0627\u0631\u0643 \u0642\u0631\u0627\u0621\u0629 \u0648\u0625\u0633\u062a\u0645\u0627\u0639\n",
        "Foosball 3D\n",
        "Cupcake Maker\n",
        "Hobbit life\n",
        "\ud55c\uad6d\uacbd\uc81cTV\n",
        "SMS \ubca8\uc18c\ub9ac \ud504\ub85c\n",
        "MIX Images...\"Photo and me\"\n",
        "\u0637\u0631\u0642 \u062d\u0641\u0638 \u0627\u0644\u0642\u0631\u0622\u0646 \u0627\u0644\u0643\u0631\u064a\u0645\n",
        "\ube44\ub514\uc624 \ucc44\ud305\n",
        "\uad11\uac1c\ud1a0\ud0dc\uc655\n"
       ]
      }
     ],
     "prompt_number": 114
    },
    {
     "cell_type": "heading",
     "level": 3,
     "metadata": {},
     "source": [
      "Clustering"
     ]
    },
    {
     "cell_type": "code",
     "collapsed": false,
     "input": [
      "cd"
     ],
     "language": "python",
     "metadata": {},
     "outputs": [
      {
       "output_type": "stream",
       "stream": "stdout",
       "text": [
        "/Users/jeongmingi\n"
       ]
      }
     ],
     "prompt_number": 24
    },
    {
     "cell_type": "code",
     "collapsed": false,
     "input": [
      "def load(fname):\n",
      "    ''' load the file using std open'''\n",
      "    f = open(fname,'r')\n",
      "\n",
      "    data = []\n",
      "    for line in f.readlines():\n",
      "        data.append(line.replace('\\n','').split(','))\n",
      "        \n",
      "    f.close()\n",
      "\n",
      "    return data"
     ],
     "language": "python",
     "metadata": {},
     "outputs": [],
     "prompt_number": 114
    },
    {
     "cell_type": "code",
     "collapsed": false,
     "input": [
      "key = load('desktop/Keyword.txt')\n",
      "keywords = []\n",
      "for c in key[0]:\n",
      "    keywords.append(c.replace(\" \", \"\"))\n",
      "    \n",
      "print ' '.join(keywords)"
     ],
     "language": "python",
     "metadata": {},
     "outputs": [
      {
       "output_type": "stream",
       "stream": "stdout",
       "text": [
        "\ud37c\uc990 \uce90\uc8fc\uc5bc \uc544\ucf00\uc774\ub4dc \uacf5\ub7b5\uc9d1 \ub808\uc774\uc2f1 RPG \uce74\ub4dc \uc131\uc778 \ub514\ud39c\uc2a4 \ub450\ub1cc \uc2dc\ubbac \ub2ec\ub9ac\uae30 \uc288\ud305 \ucd95\uad6c \uacbd\uc601 \ud0c0\uc774\ucfe4 \ud0c8\ucd9c \ucd94\ub9ac \uc7a5\uae30 \ube44\ud589\uae30 \uc0ac\ucc9c\uc131 \uc2a4\ud3ec\uce20 \ub18d\uad6c \ub09a\uc2dc \uc74c\uc545 \uce74\ud1a1 \uace8\ud504 \ub2f9\uad6c \uc57c\uad6c \ubcfc\ub9c1 \ud14c\uc774\uc2a4 \uc0bc\uad6d\uc9c0 TCG \uc804\uc7c1 \uac74\uac15 \uc6b4\ub3d9 \uad50\uc721 \uad50\ud1b5 \uae08\uc735 \ub0a0\uc528 \ub274\uc2a4 \uc7a1\uc9c0 \ub370\ucf54\ub808\uc774\uc158 \ub3c4\uad6c \ub3c4\uc11c \ucc38\uace0\uc790\ub8cc \ub77c\uc774\ube0c \ubc30\uacbd\ud654\uba74 \ub77c\uc774\ube0c\ub7ec\ub9ac \ub370\ubaa8 \ub77c\uc774\ud504\uc2a4\ud0c0\uc77c \ub9cc\ud654 \ubbf8\ub514\uc5b4 \ub3d9\uc601\uc0c1 \ube44\uc988\ub2c8\uc2a4 \uc0ac\uc9c4 \uc0dd\uc0b0\uc131 \uc18c\uc15c \ucf58\ud150\uce20 \uc1fc\ud551 \uc704\uc82f \uc790\ub3d9\ucc28 \uacbd\uc8fc \ub2e4\uc774\uc5b4\ud2b8 \ub2ec\ub825 \uc0dd\ub9ac \uce98\ub9b0\ub354 \uc0ac\uc8fc\ud314\uc790 \uad81\ud569 \uccb4\uc911 \uc0ac\uc804 \ucef4\ud4e8\ud130 \ubc31\uacfc\uc0ac\uc804 \uae09\uc2dd \ud559\uad50 \ucd08\ub4f1\ud559\uad50 \uc911\ud559\uad50 \uace0\ub4f1\ud559\uad50 \ub300\ud559\uad50 Korea \ub124\ube44\uac8c\uc774\uc158 \uc9c0\ud558\ucca0 \uc885\uacb0\uc790 \ub0b4\ube44 \uac00\uacc4\ubd80 Money \uc2a4\ub9c8\ud2b8 \uacc4\uc0b0\uae30 \uc740\ud589 \uac80\uc0c9\uc5b4 \uc2e4\uc2dc\uac04 \uc2e0\ubb38 \ud074\ub798\uc2dd \ub7f0\ucc98 \uc8fc\uc18c\ub85d \ud3f0 \ubc14\uc774\ub7ec\uc2a4 \ubcf4\uc548 \uc131\uacbd \ucc2c\uc1a1 \ubc14\uc774\ube14 \ubc31\uc2e0 \uc6f9 \uc2a4\ud2f0\ucee4 \uc0ac\uc8fc \uc6b4\uc138 \ucf54\ubbf9 3D \ubcc4\uc790\ub9ac tool \uc6f9\ud230 sex \ud50c\ub808\uc774\uc5b4 \uce74\uba54\ub77c \ubca8\uc18c\ub9ac \uc57c\ub3d9 \ud55c\uae00 \uc624\ud53c\uc2a4 offic \uc54c\ubc14 photo \ub4dc\ub77c\uc774\ube0c \ud30c\uc77c \uac24\ub7ec\ub9ac \uadf8\ub8f9 \ubc14\ucf54\ub4dc \uc2a4\uce90\ub108 \uc18c\uc15c\ucee4\uba38\uc2a4 \uc18c\uc15c\n"
       ]
      }
     ],
     "prompt_number": 118
    },
    {
     "cell_type": "code",
     "collapsed": false,
     "input": [
      "applist = app2_2000_name['name']\n",
      "applist"
     ],
     "language": "python",
     "metadata": {},
     "outputs": []
    },
    {
     "cell_type": "code",
     "collapsed": false,
     "input": [
      "df = createPMIDataFrame(applist, keywords)\n"
     ],
     "language": "python",
     "metadata": {},
     "outputs": [],
     "prompt_number": 117
    },
    {
     "cell_type": "code",
     "collapsed": false,
     "input": [
      "print df.head(50)"
     ],
     "language": "python",
     "metadata": {},
     "outputs": [
      {
       "output_type": "stream",
       "stream": "stdout",
       "text": [
        "                               \ubbf8\uc6a9  \uc74c\uc545  \ub9ac\ubdf0  \uc5f0\uc608  \uc74c\uc2dd  \uc2a4\ud3ec\uce20  \uac8c\uc784  \uac74\uac15  \ud559\uc2b5  \ucee4\ubba4\ub2c8\ud2f0\n",
        "name                                                                    \n",
        "100 \ubbf8\uc158 : \ub77c\uc2a4 \ubca0\uc774\uac70\uc2a4 (Las Vegas)    0   0   0   0   0    0   0   0   0     0\n",
        "\uc778\ubca0\uc774\ub354\ud5cc\ud130                          0   0   0   0   0    0   0   0   0     0\n",
        "GTA Vice City Cheater           0   0   0   0   0    0   0   0   0     0\n",
        "\uc5d8\uc18c\ub4dc \uc2a4\ud0ac\ud2b8\ub9ac(\uc544\ub77c)                    0   0   0   0   0    0   0   0   0     0\n",
        "\ubbf8\ub140\ubcc0\ud638\uc0ac\uc138\ub9ac\ud0b4                        0   0   0   0   0    0   0   0   0     0\n",
        "Pet Fair Village                0   0   0   0   0    0   0   0   0     0\n",
        "Forest Life                     0   0   0   0   0    0   0   0   0     0\n",
        "\uc138\uacc4\uc5d0\uc11c \uc81c\uc77c \ube60\ub978 \ub808\ubca8\uc5c5                  0   0   0   0   0    0   0   0   0     0\n",
        "Devil Girls                     0   0   0   0   0    0   0   0   0     0\n",
        "\u2605 \uc131\uc778\uc6a9 \ub9de\uace0\uc758 \uc885\uacb0\uc790!! \u2605 \uc7a5\ubaa8\ub2d8\uc758 \ub098\ub77c \ub9de\uace0    0   0   0   0   0    0   0   0   0     0\n",
        "\ud6c4\ub974\uce20\uc7bc for Kakao                  0   0   0   0   0    0   0   0   0     0\n",
        "\uc139\uc2dc\ud55c \uc5ec\uc790 \ud06c\ub9ac\uc2a4\ub9c8\uc2a4 \ud37c\uc990                 0   0   0   0   0    0   0   0   0     0\n",
        "\ucd08\ucf54\ucd08\ucf54 for Kakao                  0   0   0   0   0    0   0   0   0     0\n",
        "Miners 4k                       0   0   0   0   0    0   0   0   0     0\n",
        "Top Stylist                     0   0   0   0   0    0   0   0   0     0\n",
        "\uc5d8\ub9ac\uba58\ud0c8\ub098\uc774\uce20 \uc628\ub77c\uc778 (EKO)               0   0   0   0   0    0   0   0   0     0\n",
        "FINAL FANTASY DIMENSIONS        0   0   0   0   0    0   0   0   0     0\n",
        "\ube14\ub8f8\ud31d (Bloom-PoP)                 0   0   0   0   0    0   0   0   0     0\n",
        "METAL SLUG                      0   0   0   0   0    0   0   0   0     0\n",
        "Pudding Monsters HD (\ud478\ub529 \ubaac\uc2a4\ud130)    0   0   0   0   0    0   0   0   0     0\n",
        "\uadf8\ub140\ub294\ud3ab2 \u2665D\ucef5 \uadf8\ub77c\ube44\uc544 Sexy \uc2a4\ud0c0  \uc5d0\ubc00\ub9ac     0   0   0   0   0    0   0   0   0     0\n",
        "\ud3ab \uce74\ud398 2                          0   0   0   0   0    0   0   0   0     0\n",
        "\ud038\uc988\uc560\ub85c\uc6b0 ( \uc591\uad81 )                    0   0   0   0   0    0   0   0   0     0\n",
        "\ud504\ub9ac\ud2f0 \ud3ab \ud1a0\uc774 \uc2a4\ud1a0\uc5b4                    0   0   0   0   0    0   0   0   0     0\n",
        "\ud50c\ub77c\uc789 \ubc84\ub514 for Kakao                0   0   0   0   0    0   0   0   0     0\n",
        "\uce90\ub9ad\ud130\ud321 for Kakao                  0   0   0   0   0    0   0   0   0     0\n",
        "\ub808\uc774\uc2f1 \uc790\ub3d9\ucc28 \uc9c0\uadf8 \uc18c \ud37c\uc990                 0   0   0   0   0    0   0   0   0     0\n",
        "Berzerk Ball 2                  0   0   0   0   0    0   0   0   0     0\n",
        "AE Coin Mania                   0   0   0   0   0    0   0   0   0     0\n",
        "\ubbf8\ub2c8 \uace8\ud504 3D \uacf5\uac04 : \ud37c\ud2b8 \ud37c\ud2b8             0   0   0   0   0    0   0   0   0     0\n",
        "Contre Jour                     0   0   0   0   0    0   0   0   0     0\n",
        "\ubc30\ud2c0\uc544\ub808\ub098(BattleArena)              0   0   0   0   0    0   0   0   0     0\n",
        "\ubc84\uac70 \ud328\uc2a4\ud2b8 \ud478\ub4dc \uc2a4\ud0e0\ub4dc \uba54\uc774\ucee4               0   0   0   0   0    0   0   0   0     0\n",
        "Scarface                        0   0   0   0   0    0   0   0   0     0\n",
        "\uc824\ub9ac\ubf40 for Kakao                   0   0   0   0   0    0   0   0   0     0\n",
        "\ubb34\ub364 \ubcf4\uc11d                           0   0   0   0   0    0   0   0   0     0\n",
        "\ud504\ub9b0\uc138\uc2a4*\ud37c\uc990                         0   0   0   0   0    0   0   0   0     0\n",
        "Raging Fire Racing              0   0   0   0   0    0   0   0   0     0\n",
        "\ub0b4 \uc0ac\ub791\uc2a4\ub7ec\uc6b4 \ub3fc\uc9c0                      0   0   0   0   0    0   0   0   0     0\n",
        "\uce90\ucc60\ud504\ub9b0\uc2a4 for Kakao                 0   0   0   0   0    0   0   0   0     0\n",
        "Angry Fatty                     0   0   0   0   0    0   0   0   0     0\n",
        "\ub4dc\ub798\uace4 \uc2a4\ud1a0\ub9ac: \ubd80\ud65c\uc808 \uc5d0\ub514\uc158                0   0   0   0   0    0   0   0   0     0\n",
        "\ubd88\uad50\ubc29\uc1a1                            0   0   0   0   0    0   0   0   0     0\n",
        "Save Toshi \u65e5\u672c                   0   0   0   0   0    0   0   0   0     0\n",
        "\u042f\u0439\u0446\u0435\u043b\u043e\u0432                         0   0   0   0   0    0   0   0   0     0\n",
        "\uc5b4\ub9b0\uc774\ub97c\uc704\ud55c \uc790\uc7a5\uac00                      0   0   0   0   0    0   0   0   0     0\n",
        "\ud788\uc5b4\ub85c\uc2ac\ub808\uc774\uc5b4! [\uac04\ub2e8\ud788 \uc990\uae30\ub294  \ud37c\uc990&\ub514\ud39c\uc2a4 \uac8c\uc784]   0   0   0   0   0    0   0   0   0     0\n",
        "Christmas Hangman Deluxe        0   0   0   0   0    0   0   0   0     0\n",
        "Star Defender 4 (Free)          0   0   0   0   0    0   0   0   0     0\n",
        "Clash of the Olympians          0   0   0   0   0    0   0   0   0     0\n"
       ]
      }
     ],
     "prompt_number": 118
    },
    {
     "cell_type": "code",
     "collapsed": false,
     "input": [
      "for a in applist:\n",
      "    for b in keywords:\n",
      "        print a, b\n",
      "        setPMI(df, a, b, calcPMI(query_count(a), query_count(b), query_count(a+'+'+b), 10000000.0))"
     ],
     "language": "python",
     "metadata": {},
     "outputs": [
      {
       "output_type": "stream",
       "stream": "stdout",
       "text": [
        "100 \ubbf8\uc158 : \ub77c\uc2a4 \ubca0\uc774\uac70\uc2a4 (Las Vegas) \ubbf8\uc6a9\n",
        "100 \ubbf8\uc158 : \ub77c\uc2a4 \ubca0\uc774\uac70\uc2a4 (Las Vegas)"
       ]
      },
      {
       "output_type": "stream",
       "stream": "stdout",
       "text": [
        " \uc74c\uc545\n",
        "100 \ubbf8\uc158 : \ub77c\uc2a4 \ubca0\uc774\uac70\uc2a4 (Las Vegas)"
       ]
      },
      {
       "output_type": "stream",
       "stream": "stdout",
       "text": [
        " \ub9ac\ubdf0\n",
        "100 \ubbf8\uc158 : \ub77c\uc2a4 \ubca0\uc774\uac70\uc2a4 (Las Vegas)"
       ]
      },
      {
       "output_type": "stream",
       "stream": "stdout",
       "text": [
        " \uc5f0\uc608\n",
        "100 \ubbf8\uc158 : \ub77c\uc2a4 \ubca0\uc774\uac70\uc2a4 (Las Vegas)"
       ]
      },
      {
       "output_type": "stream",
       "stream": "stdout",
       "text": [
        " \uc74c\uc2dd\n",
        "100 \ubbf8\uc158 : \ub77c\uc2a4 \ubca0\uc774\uac70\uc2a4 (Las Vegas)"
       ]
      },
      {
       "output_type": "stream",
       "stream": "stdout",
       "text": [
        " \uc2a4\ud3ec\uce20\n",
        "100 \ubbf8\uc158 : \ub77c\uc2a4 \ubca0\uc774\uac70\uc2a4 (Las Vegas)"
       ]
      },
      {
       "output_type": "stream",
       "stream": "stdout",
       "text": [
        " \uac8c\uc784\n",
        "100 \ubbf8\uc158 : \ub77c\uc2a4 \ubca0\uc774\uac70\uc2a4 (Las Vegas)"
       ]
      },
      {
       "output_type": "stream",
       "stream": "stdout",
       "text": [
        " \uac74\uac15\n",
        "100 \ubbf8\uc158 : \ub77c\uc2a4 \ubca0\uc774\uac70\uc2a4 (Las Vegas)"
       ]
      },
      {
       "output_type": "stream",
       "stream": "stdout",
       "text": [
        " \ud559\uc2b5\n",
        "100 \ubbf8\uc158 : \ub77c\uc2a4 \ubca0\uc774\uac70\uc2a4 (Las Vegas)"
       ]
      },
      {
       "output_type": "stream",
       "stream": "stdout",
       "text": [
        " \ucee4\ubba4\ub2c8\ud2f0\n",
        "\uc778\ubca0\uc774\ub354\ud5cc\ud130"
       ]
      },
      {
       "output_type": "stream",
       "stream": "stdout",
       "text": [
        " \ubbf8\uc6a9\n",
        "\uc778\ubca0\uc774\ub354\ud5cc\ud130"
       ]
      },
      {
       "output_type": "stream",
       "stream": "stdout",
       "text": [
        " \uc74c\uc545\n",
        "\uc778\ubca0\uc774\ub354\ud5cc\ud130"
       ]
      },
      {
       "output_type": "stream",
       "stream": "stdout",
       "text": [
        " \ub9ac\ubdf0\n",
        "\uc778\ubca0\uc774\ub354\ud5cc\ud130"
       ]
      },
      {
       "output_type": "stream",
       "stream": "stdout",
       "text": [
        " \uc5f0\uc608\n",
        "\uc778\ubca0\uc774\ub354\ud5cc\ud130"
       ]
      },
      {
       "output_type": "stream",
       "stream": "stdout",
       "text": [
        " \uc74c\uc2dd\n",
        "\uc778\ubca0\uc774\ub354\ud5cc\ud130"
       ]
      },
      {
       "output_type": "stream",
       "stream": "stdout",
       "text": [
        " \uc2a4\ud3ec\uce20\n",
        "\uc778\ubca0\uc774\ub354\ud5cc\ud130"
       ]
      },
      {
       "output_type": "stream",
       "stream": "stdout",
       "text": [
        " \uac8c\uc784\n",
        "\uc778\ubca0\uc774\ub354\ud5cc\ud130"
       ]
      },
      {
       "output_type": "stream",
       "stream": "stdout",
       "text": [
        " \uac74\uac15\n",
        "\uc778\ubca0\uc774\ub354\ud5cc\ud130"
       ]
      },
      {
       "output_type": "stream",
       "stream": "stdout",
       "text": [
        " \ud559\uc2b5\n",
        "\uc778\ubca0\uc774\ub354\ud5cc\ud130"
       ]
      },
      {
       "output_type": "stream",
       "stream": "stdout",
       "text": [
        " \ucee4\ubba4\ub2c8\ud2f0\n",
        "GTA Vice City Cheater"
       ]
      },
      {
       "output_type": "stream",
       "stream": "stdout",
       "text": [
        " \ubbf8\uc6a9\n",
        "GTA Vice City Cheater"
       ]
      },
      {
       "output_type": "stream",
       "stream": "stdout",
       "text": [
        " \uc74c\uc545\n",
        "GTA Vice City Cheater"
       ]
      },
      {
       "output_type": "stream",
       "stream": "stdout",
       "text": [
        " \ub9ac\ubdf0\n",
        "GTA Vice City Cheater"
       ]
      },
      {
       "output_type": "stream",
       "stream": "stdout",
       "text": [
        " \uc5f0\uc608\n",
        "GTA Vice City Cheater"
       ]
      },
      {
       "output_type": "stream",
       "stream": "stdout",
       "text": [
        " \uc74c\uc2dd\n",
        "GTA Vice City Cheater"
       ]
      },
      {
       "output_type": "stream",
       "stream": "stdout",
       "text": [
        " \uc2a4\ud3ec\uce20\n",
        "GTA Vice City Cheater"
       ]
      },
      {
       "output_type": "stream",
       "stream": "stdout",
       "text": [
        " \uac8c\uc784\n",
        "GTA Vice City Cheater"
       ]
      },
      {
       "output_type": "stream",
       "stream": "stdout",
       "text": [
        " \uac74\uac15\n",
        "GTA Vice City Cheater"
       ]
      },
      {
       "output_type": "stream",
       "stream": "stdout",
       "text": [
        " \ud559\uc2b5\n",
        "GTA Vice City Cheater"
       ]
      },
      {
       "output_type": "stream",
       "stream": "stdout",
       "text": [
        " \ucee4\ubba4\ub2c8\ud2f0\n",
        "\uc5d8\uc18c\ub4dc \uc2a4\ud0ac\ud2b8\ub9ac(\uc544\ub77c)"
       ]
      },
      {
       "output_type": "stream",
       "stream": "stdout",
       "text": [
        " \ubbf8\uc6a9\n",
        "\uc5d8\uc18c\ub4dc \uc2a4\ud0ac\ud2b8\ub9ac(\uc544\ub77c)"
       ]
      },
      {
       "output_type": "stream",
       "stream": "stdout",
       "text": [
        " \uc74c\uc545\n",
        "\uc5d8\uc18c\ub4dc \uc2a4\ud0ac\ud2b8\ub9ac(\uc544\ub77c)"
       ]
      },
      {
       "output_type": "stream",
       "stream": "stdout",
       "text": [
        " \ub9ac\ubdf0\n",
        "\uc5d8\uc18c\ub4dc \uc2a4\ud0ac\ud2b8\ub9ac(\uc544\ub77c)"
       ]
      },
      {
       "output_type": "stream",
       "stream": "stdout",
       "text": [
        " \uc5f0\uc608\n",
        "\uc5d8\uc18c\ub4dc \uc2a4\ud0ac\ud2b8\ub9ac(\uc544\ub77c)"
       ]
      },
      {
       "output_type": "stream",
       "stream": "stdout",
       "text": [
        " \uc74c\uc2dd\n",
        "\uc5d8\uc18c\ub4dc \uc2a4\ud0ac\ud2b8\ub9ac(\uc544\ub77c)"
       ]
      },
      {
       "output_type": "stream",
       "stream": "stdout",
       "text": [
        " \uc2a4\ud3ec\uce20\n",
        "\uc5d8\uc18c\ub4dc \uc2a4\ud0ac\ud2b8\ub9ac(\uc544\ub77c)"
       ]
      },
      {
       "output_type": "stream",
       "stream": "stdout",
       "text": [
        " \uac8c\uc784\n",
        "\uc5d8\uc18c\ub4dc \uc2a4\ud0ac\ud2b8\ub9ac(\uc544\ub77c)"
       ]
      },
      {
       "output_type": "stream",
       "stream": "stdout",
       "text": [
        " \uac74\uac15\n",
        "\uc5d8\uc18c\ub4dc \uc2a4\ud0ac\ud2b8\ub9ac(\uc544\ub77c)"
       ]
      },
      {
       "output_type": "stream",
       "stream": "stdout",
       "text": [
        " \ud559\uc2b5\n",
        "\uc5d8\uc18c\ub4dc \uc2a4\ud0ac\ud2b8\ub9ac(\uc544\ub77c)"
       ]
      },
      {
       "output_type": "stream",
       "stream": "stdout",
       "text": [
        " \ucee4\ubba4\ub2c8\ud2f0\n",
        "\ubbf8\ub140\ubcc0\ud638\uc0ac\uc138\ub9ac\ud0b4"
       ]
      },
      {
       "output_type": "stream",
       "stream": "stdout",
       "text": [
        " \ubbf8\uc6a9\n",
        "\ubbf8\ub140\ubcc0\ud638\uc0ac\uc138\ub9ac\ud0b4"
       ]
      },
      {
       "output_type": "stream",
       "stream": "stdout",
       "text": [
        " \uc74c\uc545\n",
        "\ubbf8\ub140\ubcc0\ud638\uc0ac\uc138\ub9ac\ud0b4"
       ]
      },
      {
       "output_type": "stream",
       "stream": "stdout",
       "text": [
        " \ub9ac\ubdf0\n",
        "\ubbf8\ub140\ubcc0\ud638\uc0ac\uc138\ub9ac\ud0b4"
       ]
      },
      {
       "output_type": "stream",
       "stream": "stdout",
       "text": [
        " \uc5f0\uc608\n",
        "\ubbf8\ub140\ubcc0\ud638\uc0ac\uc138\ub9ac\ud0b4"
       ]
      },
      {
       "output_type": "stream",
       "stream": "stdout",
       "text": [
        " \uc74c\uc2dd\n",
        "\ubbf8\ub140\ubcc0\ud638\uc0ac\uc138\ub9ac\ud0b4"
       ]
      },
      {
       "output_type": "stream",
       "stream": "stdout",
       "text": [
        " \uc2a4\ud3ec\uce20\n",
        "\ubbf8\ub140\ubcc0\ud638\uc0ac\uc138\ub9ac\ud0b4"
       ]
      },
      {
       "output_type": "stream",
       "stream": "stdout",
       "text": [
        " \uac8c\uc784\n",
        "\ubbf8\ub140\ubcc0\ud638\uc0ac\uc138\ub9ac\ud0b4"
       ]
      },
      {
       "output_type": "stream",
       "stream": "stdout",
       "text": [
        " \uac74\uac15\n",
        "\ubbf8\ub140\ubcc0\ud638\uc0ac\uc138\ub9ac\ud0b4"
       ]
      },
      {
       "output_type": "stream",
       "stream": "stdout",
       "text": [
        " \ud559\uc2b5\n",
        "\ubbf8\ub140\ubcc0\ud638\uc0ac\uc138\ub9ac\ud0b4"
       ]
      },
      {
       "output_type": "stream",
       "stream": "stdout",
       "text": [
        " \ucee4\ubba4\ub2c8\ud2f0\n",
        "Pet Fair Village"
       ]
      },
      {
       "output_type": "stream",
       "stream": "stdout",
       "text": [
        " \ubbf8\uc6a9\n",
        "Pet Fair Village"
       ]
      },
      {
       "output_type": "stream",
       "stream": "stdout",
       "text": [
        " \uc74c\uc545\n",
        "Pet Fair Village"
       ]
      },
      {
       "output_type": "stream",
       "stream": "stdout",
       "text": [
        " \ub9ac\ubdf0\n",
        "Pet Fair Village"
       ]
      },
      {
       "output_type": "stream",
       "stream": "stdout",
       "text": [
        " \uc5f0\uc608\n",
        "Pet Fair Village"
       ]
      },
      {
       "output_type": "stream",
       "stream": "stdout",
       "text": [
        " \uc74c\uc2dd\n",
        "Pet Fair Village"
       ]
      },
      {
       "output_type": "stream",
       "stream": "stdout",
       "text": [
        " \uc2a4\ud3ec\uce20\n",
        "Pet Fair Village"
       ]
      },
      {
       "output_type": "stream",
       "stream": "stdout",
       "text": [
        " \uac8c\uc784\n",
        "Pet Fair Village"
       ]
      },
      {
       "output_type": "stream",
       "stream": "stdout",
       "text": [
        " \uac74\uac15\n",
        "Pet Fair Village"
       ]
      },
      {
       "output_type": "stream",
       "stream": "stdout",
       "text": [
        " \ud559\uc2b5\n",
        "Pet Fair Village"
       ]
      },
      {
       "output_type": "stream",
       "stream": "stdout",
       "text": [
        " \ucee4\ubba4\ub2c8\ud2f0\n",
        "Forest Life"
       ]
      },
      {
       "output_type": "stream",
       "stream": "stdout",
       "text": [
        " \ubbf8\uc6a9\n",
        "Forest Life"
       ]
      },
      {
       "output_type": "stream",
       "stream": "stdout",
       "text": [
        " \uc74c\uc545\n",
        "Forest Life"
       ]
      },
      {
       "output_type": "stream",
       "stream": "stdout",
       "text": [
        " \ub9ac\ubdf0\n",
        "Forest Life"
       ]
      },
      {
       "output_type": "stream",
       "stream": "stdout",
       "text": [
        " \uc5f0\uc608\n",
        "Forest Life"
       ]
      },
      {
       "output_type": "stream",
       "stream": "stdout",
       "text": [
        " \uc74c\uc2dd\n",
        "Forest Life"
       ]
      },
      {
       "output_type": "stream",
       "stream": "stdout",
       "text": [
        " \uc2a4\ud3ec\uce20\n",
        "Forest Life"
       ]
      },
      {
       "output_type": "stream",
       "stream": "stdout",
       "text": [
        " \uac8c\uc784\n",
        "Forest Life"
       ]
      },
      {
       "output_type": "stream",
       "stream": "stdout",
       "text": [
        " \uac74\uac15\n",
        "Forest Life"
       ]
      },
      {
       "output_type": "stream",
       "stream": "stdout",
       "text": [
        " \ud559\uc2b5\n",
        "Forest Life"
       ]
      },
      {
       "output_type": "stream",
       "stream": "stdout",
       "text": [
        " \ucee4\ubba4\ub2c8\ud2f0\n",
        "\uc138\uacc4\uc5d0\uc11c \uc81c\uc77c \ube60\ub978 \ub808\ubca8\uc5c5"
       ]
      },
      {
       "output_type": "stream",
       "stream": "stdout",
       "text": [
        " \ubbf8\uc6a9\n",
        "\uc138\uacc4\uc5d0\uc11c \uc81c\uc77c \ube60\ub978 \ub808\ubca8\uc5c5"
       ]
      },
      {
       "output_type": "stream",
       "stream": "stdout",
       "text": [
        " \uc74c\uc545\n",
        "\uc138\uacc4\uc5d0\uc11c \uc81c\uc77c \ube60\ub978 \ub808\ubca8\uc5c5"
       ]
      },
      {
       "output_type": "stream",
       "stream": "stdout",
       "text": [
        " \ub9ac\ubdf0\n",
        "\uc138\uacc4\uc5d0\uc11c \uc81c\uc77c \ube60\ub978 \ub808\ubca8\uc5c5"
       ]
      },
      {
       "output_type": "stream",
       "stream": "stdout",
       "text": [
        " \uc5f0\uc608\n",
        "\uc138\uacc4\uc5d0\uc11c \uc81c\uc77c \ube60\ub978 \ub808\ubca8\uc5c5"
       ]
      },
      {
       "output_type": "stream",
       "stream": "stdout",
       "text": [
        " \uc74c\uc2dd\n",
        "\uc138\uacc4\uc5d0\uc11c \uc81c\uc77c \ube60\ub978 \ub808\ubca8\uc5c5"
       ]
      },
      {
       "output_type": "stream",
       "stream": "stdout",
       "text": [
        " \uc2a4\ud3ec\uce20\n",
        "\uc138\uacc4\uc5d0\uc11c \uc81c\uc77c \ube60\ub978 \ub808\ubca8\uc5c5"
       ]
      },
      {
       "output_type": "stream",
       "stream": "stdout",
       "text": [
        " \uac8c\uc784\n",
        "\uc138\uacc4\uc5d0\uc11c \uc81c\uc77c \ube60\ub978 \ub808\ubca8\uc5c5"
       ]
      },
      {
       "output_type": "stream",
       "stream": "stdout",
       "text": [
        " \uac74\uac15\n",
        "\uc138\uacc4\uc5d0\uc11c \uc81c\uc77c \ube60\ub978 \ub808\ubca8\uc5c5"
       ]
      },
      {
       "output_type": "stream",
       "stream": "stdout",
       "text": [
        " \ud559\uc2b5\n",
        "\uc138\uacc4\uc5d0\uc11c \uc81c\uc77c \ube60\ub978 \ub808\ubca8\uc5c5"
       ]
      },
      {
       "output_type": "stream",
       "stream": "stdout",
       "text": [
        " \ucee4\ubba4\ub2c8\ud2f0\n",
        "Devil Girls"
       ]
      },
      {
       "output_type": "stream",
       "stream": "stdout",
       "text": [
        " \ubbf8\uc6a9\n",
        "Devil Girls"
       ]
      },
      {
       "output_type": "stream",
       "stream": "stdout",
       "text": [
        " \uc74c\uc545\n",
        "Devil Girls"
       ]
      },
      {
       "output_type": "stream",
       "stream": "stdout",
       "text": [
        " \ub9ac\ubdf0\n",
        "Devil Girls"
       ]
      },
      {
       "output_type": "stream",
       "stream": "stdout",
       "text": [
        " \uc5f0\uc608\n",
        "Devil Girls"
       ]
      },
      {
       "output_type": "stream",
       "stream": "stdout",
       "text": [
        " \uc74c\uc2dd\n",
        "Devil Girls"
       ]
      },
      {
       "output_type": "stream",
       "stream": "stdout",
       "text": [
        " \uc2a4\ud3ec\uce20\n",
        "Devil Girls"
       ]
      },
      {
       "output_type": "stream",
       "stream": "stdout",
       "text": [
        " \uac8c\uc784\n",
        "Devil Girls"
       ]
      },
      {
       "output_type": "stream",
       "stream": "stdout",
       "text": [
        " \uac74\uac15\n",
        "Devil Girls"
       ]
      },
      {
       "output_type": "stream",
       "stream": "stdout",
       "text": [
        " \ud559\uc2b5\n",
        "Devil Girls"
       ]
      },
      {
       "output_type": "stream",
       "stream": "stdout",
       "text": [
        " \ucee4\ubba4\ub2c8\ud2f0\n",
        "\u2605 \uc131\uc778\uc6a9 \ub9de\uace0\uc758 \uc885\uacb0\uc790!! \u2605 \uc7a5\ubaa8\ub2d8\uc758 \ub098\ub77c \ub9de\uace0"
       ]
      },
      {
       "output_type": "stream",
       "stream": "stdout",
       "text": [
        " \ubbf8\uc6a9\n",
        "\u2605 \uc131\uc778\uc6a9 \ub9de\uace0\uc758 \uc885\uacb0\uc790!! \u2605 \uc7a5\ubaa8\ub2d8\uc758 \ub098\ub77c \ub9de\uace0"
       ]
      },
      {
       "output_type": "stream",
       "stream": "stdout",
       "text": [
        " \uc74c\uc545\n",
        "\u2605 \uc131\uc778\uc6a9 \ub9de\uace0\uc758 \uc885\uacb0\uc790!! \u2605 \uc7a5\ubaa8\ub2d8\uc758 \ub098\ub77c \ub9de\uace0"
       ]
      },
      {
       "output_type": "stream",
       "stream": "stdout",
       "text": [
        " \ub9ac\ubdf0\n",
        "\u2605 \uc131\uc778\uc6a9 \ub9de\uace0\uc758 \uc885\uacb0\uc790!! \u2605 \uc7a5\ubaa8\ub2d8\uc758 \ub098\ub77c \ub9de\uace0"
       ]
      },
      {
       "output_type": "stream",
       "stream": "stdout",
       "text": [
        " \uc5f0\uc608\n",
        "\u2605 \uc131\uc778\uc6a9 \ub9de\uace0\uc758 \uc885\uacb0\uc790!! \u2605 \uc7a5\ubaa8\ub2d8\uc758 \ub098\ub77c \ub9de\uace0"
       ]
      },
      {
       "output_type": "stream",
       "stream": "stdout",
       "text": [
        " \uc74c\uc2dd\n",
        "\u2605 \uc131\uc778\uc6a9 \ub9de\uace0\uc758 \uc885\uacb0\uc790!! \u2605 \uc7a5\ubaa8\ub2d8\uc758 \ub098\ub77c \ub9de\uace0"
       ]
      },
      {
       "output_type": "stream",
       "stream": "stdout",
       "text": [
        " \uc2a4\ud3ec\uce20\n",
        "\u2605 \uc131\uc778\uc6a9 \ub9de\uace0\uc758 \uc885\uacb0\uc790!! \u2605 \uc7a5\ubaa8\ub2d8\uc758 \ub098\ub77c \ub9de\uace0"
       ]
      },
      {
       "output_type": "stream",
       "stream": "stdout",
       "text": [
        " \uac8c\uc784\n",
        "\u2605 \uc131\uc778\uc6a9 \ub9de\uace0\uc758 \uc885\uacb0\uc790!! \u2605 \uc7a5\ubaa8\ub2d8\uc758 \ub098\ub77c \ub9de\uace0"
       ]
      },
      {
       "output_type": "stream",
       "stream": "stdout",
       "text": [
        " \uac74\uac15\n",
        "\u2605 \uc131\uc778\uc6a9 \ub9de\uace0\uc758 \uc885\uacb0\uc790!! \u2605 \uc7a5\ubaa8\ub2d8\uc758 \ub098\ub77c \ub9de\uace0"
       ]
      },
      {
       "output_type": "stream",
       "stream": "stdout",
       "text": [
        " \ud559\uc2b5\n",
        "\u2605 \uc131\uc778\uc6a9 \ub9de\uace0\uc758 \uc885\uacb0\uc790!! \u2605 \uc7a5\ubaa8\ub2d8\uc758 \ub098\ub77c \ub9de\uace0"
       ]
      },
      {
       "output_type": "stream",
       "stream": "stdout",
       "text": [
        " \ucee4\ubba4\ub2c8\ud2f0\n",
        "\ud6c4\ub974\uce20\uc7bc for Kakao"
       ]
      },
      {
       "output_type": "stream",
       "stream": "stdout",
       "text": [
        " \ubbf8\uc6a9\n",
        "\ud6c4\ub974\uce20\uc7bc for Kakao"
       ]
      },
      {
       "output_type": "stream",
       "stream": "stdout",
       "text": [
        " \uc74c\uc545\n",
        "\ud6c4\ub974\uce20\uc7bc for Kakao"
       ]
      },
      {
       "output_type": "stream",
       "stream": "stdout",
       "text": [
        " \ub9ac\ubdf0\n",
        "\ud6c4\ub974\uce20\uc7bc for Kakao"
       ]
      },
      {
       "output_type": "stream",
       "stream": "stdout",
       "text": [
        " \uc5f0\uc608\n",
        "\ud6c4\ub974\uce20\uc7bc for Kakao"
       ]
      },
      {
       "output_type": "stream",
       "stream": "stdout",
       "text": [
        " \uc74c\uc2dd\n",
        "\ud6c4\ub974\uce20\uc7bc for Kakao"
       ]
      },
      {
       "output_type": "stream",
       "stream": "stdout",
       "text": [
        " \uc2a4\ud3ec\uce20\n",
        "\ud6c4\ub974\uce20\uc7bc for Kakao"
       ]
      },
      {
       "output_type": "stream",
       "stream": "stdout",
       "text": [
        " \uac8c\uc784\n",
        "\ud6c4\ub974\uce20\uc7bc for Kakao"
       ]
      },
      {
       "output_type": "stream",
       "stream": "stdout",
       "text": [
        " \uac74\uac15\n",
        "\ud6c4\ub974\uce20\uc7bc for Kakao"
       ]
      },
      {
       "output_type": "stream",
       "stream": "stdout",
       "text": [
        " \ud559\uc2b5\n",
        "\ud6c4\ub974\uce20\uc7bc for Kakao"
       ]
      },
      {
       "output_type": "stream",
       "stream": "stdout",
       "text": [
        " \ucee4\ubba4\ub2c8\ud2f0\n",
        "\uc139\uc2dc\ud55c \uc5ec\uc790 \ud06c\ub9ac\uc2a4\ub9c8\uc2a4 \ud37c\uc990"
       ]
      },
      {
       "output_type": "stream",
       "stream": "stdout",
       "text": [
        " \ubbf8\uc6a9\n",
        "\uc139\uc2dc\ud55c \uc5ec\uc790 \ud06c\ub9ac\uc2a4\ub9c8\uc2a4 \ud37c\uc990"
       ]
      },
      {
       "output_type": "stream",
       "stream": "stdout",
       "text": [
        " \uc74c\uc545\n",
        "\uc139\uc2dc\ud55c \uc5ec\uc790 \ud06c\ub9ac\uc2a4\ub9c8\uc2a4 \ud37c\uc990"
       ]
      },
      {
       "output_type": "stream",
       "stream": "stdout",
       "text": [
        " \ub9ac\ubdf0\n",
        "\uc139\uc2dc\ud55c \uc5ec\uc790 \ud06c\ub9ac\uc2a4\ub9c8\uc2a4 \ud37c\uc990"
       ]
      },
      {
       "output_type": "stream",
       "stream": "stdout",
       "text": [
        " \uc5f0\uc608\n",
        "\uc139\uc2dc\ud55c \uc5ec\uc790 \ud06c\ub9ac\uc2a4\ub9c8\uc2a4 \ud37c\uc990"
       ]
      },
      {
       "output_type": "stream",
       "stream": "stdout",
       "text": [
        " \uc74c\uc2dd\n",
        "\uc139\uc2dc\ud55c \uc5ec\uc790 \ud06c\ub9ac\uc2a4\ub9c8\uc2a4 \ud37c\uc990"
       ]
      },
      {
       "output_type": "stream",
       "stream": "stdout",
       "text": [
        " \uc2a4\ud3ec\uce20\n",
        "\uc139\uc2dc\ud55c \uc5ec\uc790 \ud06c\ub9ac\uc2a4\ub9c8\uc2a4 \ud37c\uc990"
       ]
      },
      {
       "output_type": "stream",
       "stream": "stdout",
       "text": [
        " \uac8c\uc784\n",
        "\uc139\uc2dc\ud55c \uc5ec\uc790 \ud06c\ub9ac\uc2a4\ub9c8\uc2a4 \ud37c\uc990"
       ]
      },
      {
       "output_type": "stream",
       "stream": "stdout",
       "text": [
        " \uac74\uac15\n",
        "\uc139\uc2dc\ud55c \uc5ec\uc790 \ud06c\ub9ac\uc2a4\ub9c8\uc2a4 \ud37c\uc990"
       ]
      },
      {
       "output_type": "stream",
       "stream": "stdout",
       "text": [
        " \ud559\uc2b5\n",
        "\uc139\uc2dc\ud55c \uc5ec\uc790 \ud06c\ub9ac\uc2a4\ub9c8\uc2a4 \ud37c\uc990"
       ]
      },
      {
       "output_type": "stream",
       "stream": "stdout",
       "text": [
        " \ucee4\ubba4\ub2c8\ud2f0\n",
        "\ucd08\ucf54\ucd08\ucf54 for Kakao"
       ]
      },
      {
       "output_type": "stream",
       "stream": "stdout",
       "text": [
        " \ubbf8\uc6a9\n",
        "\ucd08\ucf54\ucd08\ucf54 for Kakao"
       ]
      },
      {
       "output_type": "stream",
       "stream": "stdout",
       "text": [
        " \uc74c\uc545\n",
        "\ucd08\ucf54\ucd08\ucf54 for Kakao"
       ]
      },
      {
       "output_type": "stream",
       "stream": "stdout",
       "text": [
        " \ub9ac\ubdf0\n",
        "\ucd08\ucf54\ucd08\ucf54 for Kakao"
       ]
      },
      {
       "output_type": "stream",
       "stream": "stdout",
       "text": [
        " \uc5f0\uc608\n",
        "\ucd08\ucf54\ucd08\ucf54 for Kakao"
       ]
      },
      {
       "output_type": "stream",
       "stream": "stdout",
       "text": [
        " \uc74c\uc2dd\n",
        "\ucd08\ucf54\ucd08\ucf54 for Kakao"
       ]
      },
      {
       "output_type": "stream",
       "stream": "stdout",
       "text": [
        " \uc2a4\ud3ec\uce20\n",
        "\ucd08\ucf54\ucd08\ucf54 for Kakao"
       ]
      },
      {
       "output_type": "stream",
       "stream": "stdout",
       "text": [
        " \uac8c\uc784\n",
        "\ucd08\ucf54\ucd08\ucf54 for Kakao"
       ]
      },
      {
       "output_type": "stream",
       "stream": "stdout",
       "text": [
        " \uac74\uac15\n",
        "\ucd08\ucf54\ucd08\ucf54 for Kakao"
       ]
      },
      {
       "output_type": "stream",
       "stream": "stdout",
       "text": [
        " \ud559\uc2b5\n",
        "\ucd08\ucf54\ucd08\ucf54 for Kakao"
       ]
      },
      {
       "output_type": "stream",
       "stream": "stdout",
       "text": [
        " \ucee4\ubba4\ub2c8\ud2f0\n",
        "Miners 4k"
       ]
      },
      {
       "output_type": "stream",
       "stream": "stdout",
       "text": [
        " \ubbf8\uc6a9\n",
        "Miners 4k"
       ]
      },
      {
       "output_type": "stream",
       "stream": "stdout",
       "text": [
        " \uc74c\uc545\n",
        "Miners 4k"
       ]
      },
      {
       "output_type": "stream",
       "stream": "stdout",
       "text": [
        " \ub9ac\ubdf0\n",
        "Miners 4k"
       ]
      },
      {
       "output_type": "stream",
       "stream": "stdout",
       "text": [
        " \uc5f0\uc608\n",
        "Miners 4k"
       ]
      },
      {
       "output_type": "stream",
       "stream": "stdout",
       "text": [
        " \uc74c\uc2dd\n",
        "Miners 4k"
       ]
      },
      {
       "output_type": "stream",
       "stream": "stdout",
       "text": [
        " \uc2a4\ud3ec\uce20\n",
        "Miners 4k"
       ]
      },
      {
       "output_type": "stream",
       "stream": "stdout",
       "text": [
        " \uac8c\uc784\n",
        "Miners 4k"
       ]
      },
      {
       "output_type": "stream",
       "stream": "stdout",
       "text": [
        " \uac74\uac15\n",
        "Miners 4k"
       ]
      },
      {
       "output_type": "stream",
       "stream": "stdout",
       "text": [
        " \ud559\uc2b5\n",
        "Miners 4k"
       ]
      },
      {
       "output_type": "stream",
       "stream": "stdout",
       "text": [
        " \ucee4\ubba4\ub2c8\ud2f0\n",
        "Top Stylist"
       ]
      },
      {
       "output_type": "stream",
       "stream": "stdout",
       "text": [
        " \ubbf8\uc6a9\n",
        "Top Stylist"
       ]
      },
      {
       "output_type": "stream",
       "stream": "stdout",
       "text": [
        " \uc74c\uc545\n",
        "Top Stylist"
       ]
      },
      {
       "output_type": "stream",
       "stream": "stdout",
       "text": [
        " \ub9ac\ubdf0\n",
        "Top Stylist"
       ]
      },
      {
       "output_type": "stream",
       "stream": "stdout",
       "text": [
        " \uc5f0\uc608\n",
        "Top Stylist"
       ]
      },
      {
       "output_type": "stream",
       "stream": "stdout",
       "text": [
        " \uc74c\uc2dd\n",
        "Top Stylist"
       ]
      },
      {
       "output_type": "stream",
       "stream": "stdout",
       "text": [
        " \uc2a4\ud3ec\uce20\n",
        "Top Stylist"
       ]
      },
      {
       "output_type": "stream",
       "stream": "stdout",
       "text": [
        " \uac8c\uc784\n",
        "Top Stylist"
       ]
      },
      {
       "output_type": "stream",
       "stream": "stdout",
       "text": [
        " \uac74\uac15\n",
        "Top Stylist"
       ]
      },
      {
       "output_type": "stream",
       "stream": "stdout",
       "text": [
        " \ud559\uc2b5\n",
        "Top Stylist"
       ]
      },
      {
       "output_type": "stream",
       "stream": "stdout",
       "text": [
        " \ucee4\ubba4\ub2c8\ud2f0\n",
        "\uc5d8\ub9ac\uba58\ud0c8\ub098\uc774\uce20 \uc628\ub77c\uc778 (EKO)"
       ]
      },
      {
       "output_type": "stream",
       "stream": "stdout",
       "text": [
        " \ubbf8\uc6a9\n",
        "\uc5d8\ub9ac\uba58\ud0c8\ub098\uc774\uce20 \uc628\ub77c\uc778 (EKO)"
       ]
      },
      {
       "output_type": "stream",
       "stream": "stdout",
       "text": [
        " \uc74c\uc545\n",
        "\uc5d8\ub9ac\uba58\ud0c8\ub098\uc774\uce20 \uc628\ub77c\uc778 (EKO)"
       ]
      },
      {
       "output_type": "stream",
       "stream": "stdout",
       "text": [
        " \ub9ac\ubdf0\n",
        "\uc5d8\ub9ac\uba58\ud0c8\ub098\uc774\uce20 \uc628\ub77c\uc778 (EKO)"
       ]
      },
      {
       "output_type": "stream",
       "stream": "stdout",
       "text": [
        " \uc5f0\uc608\n",
        "\uc5d8\ub9ac\uba58\ud0c8\ub098\uc774\uce20 \uc628\ub77c\uc778 (EKO)"
       ]
      },
      {
       "output_type": "stream",
       "stream": "stdout",
       "text": [
        " \uc74c\uc2dd\n",
        "\uc5d8\ub9ac\uba58\ud0c8\ub098\uc774\uce20 \uc628\ub77c\uc778 (EKO)"
       ]
      },
      {
       "output_type": "stream",
       "stream": "stdout",
       "text": [
        " \uc2a4\ud3ec\uce20\n",
        "\uc5d8\ub9ac\uba58\ud0c8\ub098\uc774\uce20 \uc628\ub77c\uc778 (EKO)"
       ]
      },
      {
       "output_type": "stream",
       "stream": "stdout",
       "text": [
        " \uac8c\uc784\n",
        "\uc5d8\ub9ac\uba58\ud0c8\ub098\uc774\uce20 \uc628\ub77c\uc778 (EKO)"
       ]
      },
      {
       "output_type": "stream",
       "stream": "stdout",
       "text": [
        " \uac74\uac15\n",
        "\uc5d8\ub9ac\uba58\ud0c8\ub098\uc774\uce20 \uc628\ub77c\uc778 (EKO)"
       ]
      },
      {
       "output_type": "stream",
       "stream": "stdout",
       "text": [
        " \ud559\uc2b5\n",
        "\uc5d8\ub9ac\uba58\ud0c8\ub098\uc774\uce20 \uc628\ub77c\uc778 (EKO)"
       ]
      },
      {
       "output_type": "stream",
       "stream": "stdout",
       "text": [
        " \ucee4\ubba4\ub2c8\ud2f0\n",
        "FINAL FANTASY DIMENSIONS"
       ]
      },
      {
       "output_type": "stream",
       "stream": "stdout",
       "text": [
        " \ubbf8\uc6a9\n",
        "FINAL FANTASY DIMENSIONS"
       ]
      },
      {
       "output_type": "stream",
       "stream": "stdout",
       "text": [
        " \uc74c\uc545\n",
        "FINAL FANTASY DIMENSIONS"
       ]
      },
      {
       "output_type": "stream",
       "stream": "stdout",
       "text": [
        " \ub9ac\ubdf0\n",
        "FINAL FANTASY DIMENSIONS"
       ]
      },
      {
       "output_type": "stream",
       "stream": "stdout",
       "text": [
        " \uc5f0\uc608\n",
        "FINAL FANTASY DIMENSIONS"
       ]
      },
      {
       "output_type": "stream",
       "stream": "stdout",
       "text": [
        " \uc74c\uc2dd\n",
        "FINAL FANTASY DIMENSIONS"
       ]
      },
      {
       "output_type": "stream",
       "stream": "stdout",
       "text": [
        " \uc2a4\ud3ec\uce20\n",
        "FINAL FANTASY DIMENSIONS"
       ]
      },
      {
       "output_type": "stream",
       "stream": "stdout",
       "text": [
        " \uac8c\uc784\n",
        "FINAL FANTASY DIMENSIONS"
       ]
      },
      {
       "output_type": "stream",
       "stream": "stdout",
       "text": [
        " \uac74\uac15\n",
        "FINAL FANTASY DIMENSIONS"
       ]
      },
      {
       "output_type": "stream",
       "stream": "stdout",
       "text": [
        " \ud559\uc2b5\n",
        "FINAL FANTASY DIMENSIONS"
       ]
      },
      {
       "output_type": "stream",
       "stream": "stdout",
       "text": [
        " \ucee4\ubba4\ub2c8\ud2f0\n",
        "\ube14\ub8f8\ud31d (Bloom-PoP)"
       ]
      },
      {
       "output_type": "stream",
       "stream": "stdout",
       "text": [
        " \ubbf8\uc6a9\n",
        "\ube14\ub8f8\ud31d (Bloom-PoP)"
       ]
      },
      {
       "output_type": "stream",
       "stream": "stdout",
       "text": [
        " \uc74c\uc545\n",
        "\ube14\ub8f8\ud31d (Bloom-PoP)"
       ]
      },
      {
       "output_type": "stream",
       "stream": "stdout",
       "text": [
        " \ub9ac\ubdf0\n",
        "\ube14\ub8f8\ud31d (Bloom-PoP)"
       ]
      },
      {
       "output_type": "stream",
       "stream": "stdout",
       "text": [
        " \uc5f0\uc608\n",
        "\ube14\ub8f8\ud31d (Bloom-PoP)"
       ]
      },
      {
       "output_type": "stream",
       "stream": "stdout",
       "text": [
        " \uc74c\uc2dd\n",
        "\ube14\ub8f8\ud31d (Bloom-PoP)"
       ]
      },
      {
       "output_type": "stream",
       "stream": "stdout",
       "text": [
        " \uc2a4\ud3ec\uce20\n",
        "\ube14\ub8f8\ud31d (Bloom-PoP)"
       ]
      },
      {
       "output_type": "stream",
       "stream": "stdout",
       "text": [
        " \uac8c\uc784\n",
        "\ube14\ub8f8\ud31d (Bloom-PoP)"
       ]
      },
      {
       "output_type": "stream",
       "stream": "stdout",
       "text": [
        " \uac74\uac15\n",
        "\ube14\ub8f8\ud31d (Bloom-PoP)"
       ]
      },
      {
       "output_type": "stream",
       "stream": "stdout",
       "text": [
        " \ud559\uc2b5\n",
        "\ube14\ub8f8\ud31d (Bloom-PoP)"
       ]
      },
      {
       "output_type": "stream",
       "stream": "stdout",
       "text": [
        " \ucee4\ubba4\ub2c8\ud2f0\n",
        "METAL SLUG"
       ]
      },
      {
       "output_type": "stream",
       "stream": "stdout",
       "text": [
        " \ubbf8\uc6a9\n",
        "METAL SLUG"
       ]
      },
      {
       "output_type": "stream",
       "stream": "stdout",
       "text": [
        " \uc74c\uc545\n",
        "METAL SLUG \ub9ac\ubdf0\n",
        "METAL SLUG"
       ]
      },
      {
       "output_type": "stream",
       "stream": "stdout",
       "text": [
        " \uc5f0\uc608\n",
        "METAL SLUG"
       ]
      },
      {
       "output_type": "stream",
       "stream": "stdout",
       "text": [
        " \uc74c\uc2dd\n",
        "METAL SLUG \uc2a4\ud3ec\uce20\n",
        "METAL SLUG"
       ]
      },
      {
       "output_type": "stream",
       "stream": "stdout",
       "text": [
        " \uac8c\uc784\n",
        "METAL SLUG \uac74\uac15\n",
        "METAL SLUG"
       ]
      },
      {
       "output_type": "stream",
       "stream": "stdout",
       "text": [
        " \ud559\uc2b5\n",
        "METAL SLUG"
       ]
      },
      {
       "output_type": "stream",
       "stream": "stdout",
       "text": [
        " \ucee4\ubba4\ub2c8\ud2f0\n",
        "Pudding Monsters HD (\ud478\ub529 \ubaac\uc2a4\ud130)"
       ]
      },
      {
       "output_type": "stream",
       "stream": "stdout",
       "text": [
        " \ubbf8\uc6a9\n",
        "Pudding Monsters HD (\ud478\ub529 \ubaac\uc2a4\ud130) \uc74c\uc545\n",
        "Pudding Monsters HD (\ud478\ub529 \ubaac\uc2a4\ud130)"
       ]
      },
      {
       "output_type": "stream",
       "stream": "stdout",
       "text": [
        " \ub9ac\ubdf0\n",
        "Pudding Monsters HD (\ud478\ub529 \ubaac\uc2a4\ud130)"
       ]
      },
      {
       "output_type": "stream",
       "stream": "stdout",
       "text": [
        " \uc5f0\uc608\n",
        "Pudding Monsters HD (\ud478\ub529 \ubaac\uc2a4\ud130)"
       ]
      },
      {
       "output_type": "stream",
       "stream": "stdout",
       "text": [
        " \uc74c\uc2dd\n",
        "Pudding Monsters HD (\ud478\ub529 \ubaac\uc2a4\ud130)"
       ]
      },
      {
       "output_type": "stream",
       "stream": "stdout",
       "text": [
        " \uc2a4\ud3ec\uce20\n",
        "Pudding Monsters HD (\ud478\ub529 \ubaac\uc2a4\ud130)"
       ]
      },
      {
       "output_type": "stream",
       "stream": "stdout",
       "text": [
        " \uac8c\uc784\n",
        "Pudding Monsters HD (\ud478\ub529 \ubaac\uc2a4\ud130)"
       ]
      },
      {
       "output_type": "stream",
       "stream": "stdout",
       "text": [
        " \uac74\uac15\n",
        "Pudding Monsters HD (\ud478\ub529 \ubaac\uc2a4\ud130) \ud559\uc2b5\n",
        "Pudding Monsters HD (\ud478\ub529 \ubaac\uc2a4\ud130)"
       ]
      },
      {
       "output_type": "stream",
       "stream": "stdout",
       "text": [
        " \ucee4\ubba4\ub2c8\ud2f0\n",
        "\uadf8\ub140\ub294\ud3ab2 \u2665D\ucef5 \uadf8\ub77c\ube44\uc544 Sexy \uc2a4\ud0c0  \uc5d0\ubc00\ub9ac \ubbf8\uc6a9\n",
        "\uadf8\ub140\ub294\ud3ab2 \u2665D\ucef5 \uadf8\ub77c\ube44\uc544 Sexy \uc2a4\ud0c0  \uc5d0\ubc00\ub9ac"
       ]
      },
      {
       "output_type": "stream",
       "stream": "stdout",
       "text": [
        " \uc74c\uc545\n",
        "\uadf8\ub140\ub294\ud3ab2 \u2665D\ucef5 \uadf8\ub77c\ube44\uc544 Sexy \uc2a4\ud0c0  \uc5d0\ubc00\ub9ac \ub9ac\ubdf0\n",
        "\uadf8\ub140\ub294\ud3ab2 \u2665D\ucef5 \uadf8\ub77c\ube44\uc544 Sexy \uc2a4\ud0c0  \uc5d0\ubc00\ub9ac"
       ]
      },
      {
       "output_type": "stream",
       "stream": "stdout",
       "text": [
        " \uc5f0\uc608\n",
        "\uadf8\ub140\ub294\ud3ab2 \u2665D\ucef5 \uadf8\ub77c\ube44\uc544 Sexy \uc2a4\ud0c0  \uc5d0\ubc00\ub9ac"
       ]
      },
      {
       "output_type": "stream",
       "stream": "stdout",
       "text": [
        " \uc74c\uc2dd\n",
        "\uadf8\ub140\ub294\ud3ab2 \u2665D\ucef5 \uadf8\ub77c\ube44\uc544 Sexy \uc2a4\ud0c0  \uc5d0\ubc00\ub9ac \uc2a4\ud3ec\uce20\n",
        "\uadf8\ub140\ub294\ud3ab2 \u2665D\ucef5 \uadf8\ub77c\ube44\uc544 Sexy \uc2a4\ud0c0  \uc5d0\ubc00\ub9ac"
       ]
      },
      {
       "output_type": "stream",
       "stream": "stdout",
       "text": [
        " \uac8c\uc784\n",
        "\uadf8\ub140\ub294\ud3ab2 \u2665D\ucef5 \uadf8\ub77c\ube44\uc544 Sexy \uc2a4\ud0c0  \uc5d0\ubc00\ub9ac"
       ]
      },
      {
       "output_type": "stream",
       "stream": "stdout",
       "text": [
        " \uac74\uac15\n",
        "\uadf8\ub140\ub294\ud3ab2 \u2665D\ucef5 \uadf8\ub77c\ube44\uc544 Sexy \uc2a4\ud0c0  \uc5d0\ubc00\ub9ac"
       ]
      },
      {
       "output_type": "stream",
       "stream": "stdout",
       "text": [
        " \ud559\uc2b5\n",
        "\uadf8\ub140\ub294\ud3ab2 \u2665D\ucef5 \uadf8\ub77c\ube44\uc544 Sexy \uc2a4\ud0c0  \uc5d0\ubc00\ub9ac"
       ]
      },
      {
       "output_type": "stream",
       "stream": "stdout",
       "text": [
        " \ucee4\ubba4\ub2c8\ud2f0\n",
        "\ud3ab \uce74\ud398 2"
       ]
      },
      {
       "output_type": "stream",
       "stream": "stdout",
       "text": [
        " \ubbf8\uc6a9\n",
        "\ud3ab \uce74\ud398 2"
       ]
      },
      {
       "output_type": "stream",
       "stream": "stdout",
       "text": [
        " \uc74c\uc545\n",
        "\ud3ab \uce74\ud398 2"
       ]
      },
      {
       "output_type": "stream",
       "stream": "stdout",
       "text": [
        " \ub9ac\ubdf0\n",
        "\ud3ab \uce74\ud398 2"
       ]
      },
      {
       "output_type": "stream",
       "stream": "stdout",
       "text": [
        " \uc5f0\uc608\n",
        "\ud3ab \uce74\ud398 2"
       ]
      },
      {
       "output_type": "stream",
       "stream": "stdout",
       "text": [
        " \uc74c\uc2dd\n",
        "\ud3ab \uce74\ud398 2"
       ]
      },
      {
       "output_type": "stream",
       "stream": "stdout",
       "text": [
        " \uc2a4\ud3ec\uce20\n",
        "\ud3ab \uce74\ud398 2 \uac8c\uc784\n",
        "\ud3ab \uce74\ud398 2"
       ]
      },
      {
       "output_type": "stream",
       "stream": "stdout",
       "text": [
        " \uac74\uac15\n",
        "\ud3ab \uce74\ud398 2"
       ]
      },
      {
       "output_type": "stream",
       "stream": "stdout",
       "text": [
        " \ud559\uc2b5\n",
        "\ud3ab \uce74\ud398 2"
       ]
      },
      {
       "output_type": "stream",
       "stream": "stdout",
       "text": [
        " \ucee4\ubba4\ub2c8\ud2f0\n",
        "\ud038\uc988\uc560\ub85c\uc6b0 ( \uc591\uad81 ) \ubbf8\uc6a9\n",
        "\ud038\uc988\uc560\ub85c\uc6b0 ( \uc591\uad81 )"
       ]
      },
      {
       "output_type": "stream",
       "stream": "stdout",
       "text": [
        " \uc74c\uc545\n",
        "\ud038\uc988\uc560\ub85c\uc6b0 ( \uc591\uad81 )"
       ]
      },
      {
       "output_type": "stream",
       "stream": "stdout",
       "text": [
        " \ub9ac\ubdf0\n",
        "\ud038\uc988\uc560\ub85c\uc6b0 ( \uc591\uad81 )"
       ]
      },
      {
       "output_type": "stream",
       "stream": "stdout",
       "text": [
        " \uc5f0\uc608\n",
        "\ud038\uc988\uc560\ub85c\uc6b0 ( \uc591\uad81 )"
       ]
      },
      {
       "output_type": "stream",
       "stream": "stdout",
       "text": [
        " \uc74c\uc2dd\n",
        "\ud038\uc988\uc560\ub85c\uc6b0 ( \uc591\uad81 )"
       ]
      },
      {
       "output_type": "stream",
       "stream": "stdout",
       "text": [
        " \uc2a4\ud3ec\uce20\n",
        "\ud038\uc988\uc560\ub85c\uc6b0 ( \uc591\uad81 )"
       ]
      },
      {
       "output_type": "stream",
       "stream": "stdout",
       "text": [
        " \uac8c\uc784\n",
        "\ud038\uc988\uc560\ub85c\uc6b0 ( \uc591\uad81 )"
       ]
      },
      {
       "output_type": "stream",
       "stream": "stdout",
       "text": [
        " \uac74\uac15\n",
        "\ud038\uc988\uc560\ub85c\uc6b0 ( \uc591\uad81 )"
       ]
      },
      {
       "output_type": "stream",
       "stream": "stdout",
       "text": [
        " \ud559\uc2b5\n",
        "\ud038\uc988\uc560\ub85c\uc6b0 ( \uc591\uad81 )"
       ]
      },
      {
       "output_type": "stream",
       "stream": "stdout",
       "text": [
        " \ucee4\ubba4\ub2c8\ud2f0\n",
        "\ud504\ub9ac\ud2f0 \ud3ab \ud1a0\uc774 \uc2a4\ud1a0\uc5b4"
       ]
      },
      {
       "output_type": "stream",
       "stream": "stdout",
       "text": [
        " \ubbf8\uc6a9\n",
        "\ud504\ub9ac\ud2f0 \ud3ab \ud1a0\uc774 \uc2a4\ud1a0\uc5b4"
       ]
      },
      {
       "output_type": "stream",
       "stream": "stdout",
       "text": [
        " \uc74c\uc545\n",
        "\ud504\ub9ac\ud2f0 \ud3ab \ud1a0\uc774 \uc2a4\ud1a0\uc5b4"
       ]
      },
      {
       "output_type": "stream",
       "stream": "stdout",
       "text": [
        " \ub9ac\ubdf0\n",
        "\ud504\ub9ac\ud2f0 \ud3ab \ud1a0\uc774 \uc2a4\ud1a0\uc5b4"
       ]
      },
      {
       "output_type": "stream",
       "stream": "stdout",
       "text": [
        " \uc5f0\uc608\n",
        "\ud504\ub9ac\ud2f0 \ud3ab \ud1a0\uc774 \uc2a4\ud1a0\uc5b4"
       ]
      },
      {
       "output_type": "stream",
       "stream": "stdout",
       "text": [
        " \uc74c\uc2dd\n",
        "\ud504\ub9ac\ud2f0 \ud3ab \ud1a0\uc774 \uc2a4\ud1a0\uc5b4"
       ]
      },
      {
       "output_type": "stream",
       "stream": "stdout",
       "text": [
        " \uc2a4\ud3ec\uce20\n",
        "\ud504\ub9ac\ud2f0 \ud3ab \ud1a0\uc774 \uc2a4\ud1a0\uc5b4"
       ]
      },
      {
       "output_type": "stream",
       "stream": "stdout",
       "text": [
        " \uac8c\uc784\n",
        "\ud504\ub9ac\ud2f0 \ud3ab \ud1a0\uc774 \uc2a4\ud1a0\uc5b4"
       ]
      },
      {
       "output_type": "stream",
       "stream": "stdout",
       "text": [
        " \uac74\uac15\n",
        "\ud504\ub9ac\ud2f0 \ud3ab \ud1a0\uc774 \uc2a4\ud1a0\uc5b4"
       ]
      },
      {
       "output_type": "stream",
       "stream": "stdout",
       "text": [
        " \ud559\uc2b5\n",
        "\ud504\ub9ac\ud2f0 \ud3ab \ud1a0\uc774 \uc2a4\ud1a0\uc5b4"
       ]
      },
      {
       "output_type": "stream",
       "stream": "stdout",
       "text": [
        " \ucee4\ubba4\ub2c8\ud2f0\n",
        "\ud50c\ub77c\uc789 \ubc84\ub514 for Kakao"
       ]
      },
      {
       "output_type": "stream",
       "stream": "stdout",
       "text": [
        " \ubbf8\uc6a9\n",
        "\ud50c\ub77c\uc789 \ubc84\ub514 for Kakao"
       ]
      },
      {
       "output_type": "stream",
       "stream": "stdout",
       "text": [
        " \uc74c\uc545\n",
        "\ud50c\ub77c\uc789 \ubc84\ub514 for Kakao \ub9ac\ubdf0\n",
        "\ud50c\ub77c\uc789 \ubc84\ub514 for Kakao"
       ]
      },
      {
       "output_type": "stream",
       "stream": "stdout",
       "text": [
        " \uc5f0\uc608\n",
        "\ud50c\ub77c\uc789 \ubc84\ub514 for Kakao"
       ]
      },
      {
       "output_type": "stream",
       "stream": "stdout",
       "text": [
        " \uc74c\uc2dd\n",
        "\ud50c\ub77c\uc789 \ubc84\ub514 for Kakao"
       ]
      },
      {
       "output_type": "stream",
       "stream": "stdout",
       "text": [
        " \uc2a4\ud3ec\uce20\n",
        "\ud50c\ub77c\uc789 \ubc84\ub514 for Kakao"
       ]
      },
      {
       "output_type": "stream",
       "stream": "stdout",
       "text": [
        " \uac8c\uc784\n",
        "\ud50c\ub77c\uc789 \ubc84\ub514 for Kakao \uac74\uac15\n",
        "\ud50c\ub77c\uc789 \ubc84\ub514 for Kakao"
       ]
      },
      {
       "output_type": "stream",
       "stream": "stdout",
       "text": [
        " \ud559\uc2b5\n",
        "\ud50c\ub77c\uc789 \ubc84\ub514 for Kakao"
       ]
      },
      {
       "output_type": "stream",
       "stream": "stdout",
       "text": [
        " \ucee4\ubba4\ub2c8\ud2f0\n",
        "\uce90\ub9ad\ud130\ud321 for Kakao"
       ]
      },
      {
       "output_type": "stream",
       "stream": "stdout",
       "text": [
        " \ubbf8\uc6a9\n",
        "\uce90\ub9ad\ud130\ud321 for Kakao \uc74c\uc545\n",
        "\uce90\ub9ad\ud130\ud321 for Kakao"
       ]
      },
      {
       "output_type": "stream",
       "stream": "stdout",
       "text": [
        " \ub9ac\ubdf0\n",
        "\uce90\ub9ad\ud130\ud321 for Kakao \uc5f0\uc608\n",
        "\uce90\ub9ad\ud130\ud321 for Kakao"
       ]
      },
      {
       "output_type": "stream",
       "stream": "stdout",
       "text": [
        " \uc74c\uc2dd\n",
        "\uce90\ub9ad\ud130\ud321 for Kakao"
       ]
      },
      {
       "output_type": "stream",
       "stream": "stdout",
       "text": [
        " \uc2a4\ud3ec\uce20\n",
        "\uce90\ub9ad\ud130\ud321 for Kakao \uac8c\uc784\n",
        "\uce90\ub9ad\ud130\ud321 for Kakao"
       ]
      },
      {
       "output_type": "stream",
       "stream": "stdout",
       "text": [
        " \uac74\uac15\n",
        "\uce90\ub9ad\ud130\ud321 for Kakao"
       ]
      },
      {
       "output_type": "stream",
       "stream": "stdout",
       "text": [
        " \ud559\uc2b5\n",
        "\uce90\ub9ad\ud130\ud321 for Kakao"
       ]
      },
      {
       "output_type": "stream",
       "stream": "stdout",
       "text": [
        " \ucee4\ubba4\ub2c8\ud2f0\n",
        "\ub808\uc774\uc2f1 \uc790\ub3d9\ucc28 \uc9c0\uadf8 \uc18c \ud37c\uc990"
       ]
      },
      {
       "output_type": "stream",
       "stream": "stdout",
       "text": [
        " \ubbf8\uc6a9\n",
        "\ub808\uc774\uc2f1 \uc790\ub3d9\ucc28 \uc9c0\uadf8 \uc18c \ud37c\uc990"
       ]
      },
      {
       "output_type": "stream",
       "stream": "stdout",
       "text": [
        " \uc74c\uc545\n",
        "\ub808\uc774\uc2f1 \uc790\ub3d9\ucc28 \uc9c0\uadf8 \uc18c \ud37c\uc990"
       ]
      },
      {
       "output_type": "stream",
       "stream": "stdout",
       "text": [
        " \ub9ac\ubdf0\n",
        "\ub808\uc774\uc2f1 \uc790\ub3d9\ucc28 \uc9c0\uadf8 \uc18c \ud37c\uc990"
       ]
      },
      {
       "output_type": "stream",
       "stream": "stdout",
       "text": [
        " \uc5f0\uc608\n",
        "\ub808\uc774\uc2f1 \uc790\ub3d9\ucc28 \uc9c0\uadf8 \uc18c \ud37c\uc990 \uc74c\uc2dd\n",
        "\ub808\uc774\uc2f1 \uc790\ub3d9\ucc28 \uc9c0\uadf8 \uc18c \ud37c\uc990"
       ]
      },
      {
       "output_type": "stream",
       "stream": "stdout",
       "text": [
        " \uc2a4\ud3ec\uce20\n",
        "\ub808\uc774\uc2f1 \uc790\ub3d9\ucc28 \uc9c0\uadf8 \uc18c \ud37c\uc990"
       ]
      },
      {
       "output_type": "stream",
       "stream": "stdout",
       "text": [
        " \uac8c\uc784\n",
        "\ub808\uc774\uc2f1 \uc790\ub3d9\ucc28 \uc9c0\uadf8 \uc18c \ud37c\uc990"
       ]
      },
      {
       "output_type": "stream",
       "stream": "stdout",
       "text": [
        " \uac74\uac15\n",
        "\ub808\uc774\uc2f1 \uc790\ub3d9\ucc28 \uc9c0\uadf8 \uc18c \ud37c\uc990"
       ]
      },
      {
       "output_type": "stream",
       "stream": "stdout",
       "text": [
        " \ud559\uc2b5\n",
        "\ub808\uc774\uc2f1 \uc790\ub3d9\ucc28 \uc9c0\uadf8 \uc18c \ud37c\uc990"
       ]
      },
      {
       "output_type": "stream",
       "stream": "stdout",
       "text": [
        " \ucee4\ubba4\ub2c8\ud2f0\n",
        "Berzerk Ball 2"
       ]
      },
      {
       "output_type": "stream",
       "stream": "stdout",
       "text": [
        " \ubbf8\uc6a9\n",
        "Berzerk Ball 2"
       ]
      },
      {
       "output_type": "stream",
       "stream": "stdout",
       "text": [
        " \uc74c\uc545\n",
        "Berzerk Ball 2"
       ]
      },
      {
       "output_type": "stream",
       "stream": "stdout",
       "text": [
        " \ub9ac\ubdf0\n",
        "Berzerk Ball 2 \uc5f0\uc608\n",
        "Berzerk Ball 2"
       ]
      },
      {
       "output_type": "stream",
       "stream": "stdout",
       "text": [
        " \uc74c\uc2dd\n",
        "Berzerk Ball 2 \uc2a4\ud3ec\uce20\n",
        "Berzerk Ball 2"
       ]
      },
      {
       "output_type": "stream",
       "stream": "stdout",
       "text": [
        " \uac8c\uc784\n",
        "Berzerk Ball 2"
       ]
      },
      {
       "output_type": "stream",
       "stream": "stdout",
       "text": [
        " \uac74\uac15\n",
        "Berzerk Ball 2"
       ]
      },
      {
       "output_type": "stream",
       "stream": "stdout",
       "text": [
        " \ud559\uc2b5\n",
        "Berzerk Ball 2"
       ]
      },
      {
       "output_type": "stream",
       "stream": "stdout",
       "text": [
        " \ucee4\ubba4\ub2c8\ud2f0\n",
        "AE Coin Mania \ubbf8\uc6a9\n",
        "AE Coin Mania"
       ]
      },
      {
       "output_type": "stream",
       "stream": "stdout",
       "text": [
        " \uc74c\uc545\n",
        "AE Coin Mania"
       ]
      },
      {
       "output_type": "stream",
       "stream": "stdout",
       "text": [
        " \ub9ac\ubdf0\n",
        "AE Coin Mania \uc5f0\uc608\n",
        "AE Coin Mania"
       ]
      },
      {
       "output_type": "stream",
       "stream": "stdout",
       "text": [
        " \uc74c\uc2dd\n",
        "AE Coin Mania"
       ]
      },
      {
       "output_type": "stream",
       "stream": "stdout",
       "text": [
        " \uc2a4\ud3ec\uce20\n",
        "AE Coin Mania \uac8c\uc784\n",
        "AE Coin Mania"
       ]
      },
      {
       "output_type": "stream",
       "stream": "stdout",
       "text": [
        " \uac74\uac15\n",
        "AE Coin Mania \ud559\uc2b5\n",
        "AE Coin Mania"
       ]
      },
      {
       "output_type": "stream",
       "stream": "stdout",
       "text": [
        " \ucee4\ubba4\ub2c8\ud2f0\n",
        "\ubbf8\ub2c8 \uace8\ud504 3D \uacf5\uac04 : \ud37c\ud2b8 \ud37c\ud2b8 \ubbf8\uc6a9\n",
        "\ubbf8\ub2c8 \uace8\ud504 3D \uacf5\uac04 : \ud37c\ud2b8 \ud37c\ud2b8"
       ]
      },
      {
       "output_type": "stream",
       "stream": "stdout",
       "text": [
        " \uc74c\uc545\n",
        "\ubbf8\ub2c8 \uace8\ud504 3D \uacf5\uac04 : \ud37c\ud2b8 \ud37c\ud2b8"
       ]
      },
      {
       "output_type": "stream",
       "stream": "stdout",
       "text": [
        " \ub9ac\ubdf0\n",
        "\ubbf8\ub2c8 \uace8\ud504 3D \uacf5\uac04 : \ud37c\ud2b8 \ud37c\ud2b8"
       ]
      },
      {
       "output_type": "stream",
       "stream": "stdout",
       "text": [
        " \uc5f0\uc608\n",
        "\ubbf8\ub2c8 \uace8\ud504 3D \uacf5\uac04 : \ud37c\ud2b8 \ud37c\ud2b8 \uc74c\uc2dd\n",
        "\ubbf8\ub2c8 \uace8\ud504 3D \uacf5\uac04 : \ud37c\ud2b8 \ud37c\ud2b8"
       ]
      },
      {
       "output_type": "stream",
       "stream": "stdout",
       "text": [
        " \uc2a4\ud3ec\uce20\n",
        "\ubbf8\ub2c8 \uace8\ud504 3D \uacf5\uac04 : \ud37c\ud2b8 \ud37c\ud2b8 \uac8c\uc784\n",
        "\ubbf8\ub2c8 \uace8\ud504 3D \uacf5\uac04 : \ud37c\ud2b8 \ud37c\ud2b8"
       ]
      },
      {
       "output_type": "stream",
       "stream": "stdout",
       "text": [
        " \uac74\uac15\n",
        "\ubbf8\ub2c8 \uace8\ud504 3D \uacf5\uac04 : \ud37c\ud2b8 \ud37c\ud2b8"
       ]
      },
      {
       "output_type": "stream",
       "stream": "stdout",
       "text": [
        " \ud559\uc2b5\n",
        "\ubbf8\ub2c8 \uace8\ud504 3D \uacf5\uac04 : \ud37c\ud2b8 \ud37c\ud2b8"
       ]
      },
      {
       "output_type": "stream",
       "stream": "stdout",
       "text": [
        " \ucee4\ubba4\ub2c8\ud2f0\n",
        "Contre Jour"
       ]
      },
      {
       "output_type": "stream",
       "stream": "stdout",
       "text": [
        " \ubbf8\uc6a9\n",
        "Contre Jour"
       ]
      },
      {
       "output_type": "stream",
       "stream": "stdout",
       "text": [
        " \uc74c\uc545\n",
        "Contre Jour"
       ]
      },
      {
       "output_type": "stream",
       "stream": "stdout",
       "text": [
        " \ub9ac\ubdf0\n",
        "Contre Jour"
       ]
      },
      {
       "output_type": "stream",
       "stream": "stdout",
       "text": [
        " \uc5f0\uc608\n",
        "Contre Jour"
       ]
      },
      {
       "output_type": "stream",
       "stream": "stdout",
       "text": [
        " \uc74c\uc2dd\n",
        "Contre Jour"
       ]
      },
      {
       "output_type": "stream",
       "stream": "stdout",
       "text": [
        " \uc2a4\ud3ec\uce20\n",
        "Contre Jour"
       ]
      },
      {
       "output_type": "stream",
       "stream": "stdout",
       "text": [
        " \uac8c\uc784\n",
        "Contre Jour"
       ]
      },
      {
       "output_type": "stream",
       "stream": "stdout",
       "text": [
        " \uac74\uac15\n",
        "Contre Jour"
       ]
      },
      {
       "output_type": "stream",
       "stream": "stdout",
       "text": [
        " \ud559\uc2b5\n",
        "Contre Jour"
       ]
      },
      {
       "output_type": "stream",
       "stream": "stdout",
       "text": [
        " \ucee4\ubba4\ub2c8\ud2f0\n",
        "\ubc30\ud2c0\uc544\ub808\ub098(BattleArena)"
       ]
      },
      {
       "output_type": "stream",
       "stream": "stdout",
       "text": [
        " \ubbf8\uc6a9\n",
        "\ubc30\ud2c0\uc544\ub808\ub098(BattleArena)"
       ]
      },
      {
       "output_type": "stream",
       "stream": "stdout",
       "text": [
        " \uc74c\uc545\n",
        "\ubc30\ud2c0\uc544\ub808\ub098(BattleArena)"
       ]
      },
      {
       "output_type": "stream",
       "stream": "stdout",
       "text": [
        " \ub9ac\ubdf0\n",
        "\ubc30\ud2c0\uc544\ub808\ub098(BattleArena)"
       ]
      },
      {
       "output_type": "stream",
       "stream": "stdout",
       "text": [
        " \uc5f0\uc608\n",
        "\ubc30\ud2c0\uc544\ub808\ub098(BattleArena)"
       ]
      },
      {
       "output_type": "stream",
       "stream": "stdout",
       "text": [
        " \uc74c\uc2dd\n",
        "\ubc30\ud2c0\uc544\ub808\ub098(BattleArena)"
       ]
      },
      {
       "output_type": "stream",
       "stream": "stdout",
       "text": [
        " \uc2a4\ud3ec\uce20\n",
        "\ubc30\ud2c0\uc544\ub808\ub098(BattleArena)"
       ]
      },
      {
       "output_type": "stream",
       "stream": "stdout",
       "text": [
        " \uac8c\uc784\n",
        "\ubc30\ud2c0\uc544\ub808\ub098(BattleArena)"
       ]
      },
      {
       "output_type": "stream",
       "stream": "stdout",
       "text": [
        " \uac74\uac15\n",
        "\ubc30\ud2c0\uc544\ub808\ub098(BattleArena)"
       ]
      },
      {
       "output_type": "stream",
       "stream": "stdout",
       "text": [
        " \ud559\uc2b5\n",
        "\ubc30\ud2c0\uc544\ub808\ub098(BattleArena)"
       ]
      },
      {
       "output_type": "stream",
       "stream": "stdout",
       "text": [
        " \ucee4\ubba4\ub2c8\ud2f0\n",
        "\ubc84\uac70 \ud328\uc2a4\ud2b8 \ud478\ub4dc \uc2a4\ud0e0\ub4dc \uba54\uc774\ucee4"
       ]
      },
      {
       "output_type": "stream",
       "stream": "stdout",
       "text": [
        " \ubbf8\uc6a9\n",
        "\ubc84\uac70 \ud328\uc2a4\ud2b8 \ud478\ub4dc \uc2a4\ud0e0\ub4dc \uba54\uc774\ucee4"
       ]
      },
      {
       "output_type": "stream",
       "stream": "stdout",
       "text": [
        " \uc74c\uc545\n",
        "\ubc84\uac70 \ud328\uc2a4\ud2b8 \ud478\ub4dc \uc2a4\ud0e0\ub4dc \uba54\uc774\ucee4"
       ]
      },
      {
       "output_type": "stream",
       "stream": "stdout",
       "text": [
        " \ub9ac\ubdf0\n",
        "\ubc84\uac70 \ud328\uc2a4\ud2b8 \ud478\ub4dc \uc2a4\ud0e0\ub4dc \uba54\uc774\ucee4"
       ]
      },
      {
       "output_type": "stream",
       "stream": "stdout",
       "text": [
        " \uc5f0\uc608\n",
        "\ubc84\uac70 \ud328\uc2a4\ud2b8 \ud478\ub4dc \uc2a4\ud0e0\ub4dc \uba54\uc774\ucee4"
       ]
      },
      {
       "output_type": "stream",
       "stream": "stdout",
       "text": [
        " \uc74c\uc2dd\n",
        "\ubc84\uac70 \ud328\uc2a4\ud2b8 \ud478\ub4dc \uc2a4\ud0e0\ub4dc \uba54\uc774\ucee4"
       ]
      },
      {
       "output_type": "stream",
       "stream": "stdout",
       "text": [
        " \uc2a4\ud3ec\uce20\n",
        "\ubc84\uac70 \ud328\uc2a4\ud2b8 \ud478\ub4dc \uc2a4\ud0e0\ub4dc \uba54\uc774\ucee4"
       ]
      },
      {
       "output_type": "stream",
       "stream": "stdout",
       "text": [
        " \uac8c\uc784\n",
        "\ubc84\uac70 \ud328\uc2a4\ud2b8 \ud478\ub4dc \uc2a4\ud0e0\ub4dc \uba54\uc774\ucee4"
       ]
      },
      {
       "output_type": "stream",
       "stream": "stdout",
       "text": [
        " \uac74\uac15\n",
        "\ubc84\uac70 \ud328\uc2a4\ud2b8 \ud478\ub4dc \uc2a4\ud0e0\ub4dc \uba54\uc774\ucee4"
       ]
      },
      {
       "output_type": "stream",
       "stream": "stdout",
       "text": [
        " \ud559\uc2b5\n",
        "\ubc84\uac70 \ud328\uc2a4\ud2b8 \ud478\ub4dc \uc2a4\ud0e0\ub4dc \uba54\uc774\ucee4"
       ]
      },
      {
       "output_type": "stream",
       "stream": "stdout",
       "text": [
        " \ucee4\ubba4\ub2c8\ud2f0\n",
        "Scarface"
       ]
      },
      {
       "output_type": "stream",
       "stream": "stdout",
       "text": [
        " \ubbf8\uc6a9\n",
        "Scarface"
       ]
      },
      {
       "output_type": "stream",
       "stream": "stdout",
       "text": [
        " \uc74c\uc545\n",
        "Scarface"
       ]
      },
      {
       "output_type": "stream",
       "stream": "stdout",
       "text": [
        " \ub9ac\ubdf0\n",
        "Scarface"
       ]
      },
      {
       "output_type": "stream",
       "stream": "stdout",
       "text": [
        " \uc5f0\uc608\n",
        "Scarface"
       ]
      },
      {
       "output_type": "stream",
       "stream": "stdout",
       "text": [
        " \uc74c\uc2dd\n",
        "Scarface"
       ]
      },
      {
       "output_type": "stream",
       "stream": "stdout",
       "text": [
        " \uc2a4\ud3ec\uce20\n",
        "Scarface"
       ]
      },
      {
       "output_type": "stream",
       "stream": "stdout",
       "text": [
        " \uac8c\uc784\n",
        "Scarface"
       ]
      },
      {
       "output_type": "stream",
       "stream": "stdout",
       "text": [
        " \uac74\uac15\n",
        "Scarface"
       ]
      },
      {
       "output_type": "stream",
       "stream": "stdout",
       "text": [
        " \ud559\uc2b5\n",
        "Scarface"
       ]
      },
      {
       "output_type": "stream",
       "stream": "stdout",
       "text": [
        " \ucee4\ubba4\ub2c8\ud2f0\n",
        "\uc824\ub9ac\ubf40 for Kakao"
       ]
      },
      {
       "output_type": "stream",
       "stream": "stdout",
       "text": [
        " \ubbf8\uc6a9\n",
        "\uc824\ub9ac\ubf40 for Kakao"
       ]
      },
      {
       "output_type": "stream",
       "stream": "stdout",
       "text": [
        " \uc74c\uc545\n",
        "\uc824\ub9ac\ubf40 for Kakao"
       ]
      },
      {
       "output_type": "stream",
       "stream": "stdout",
       "text": [
        " \ub9ac\ubdf0\n",
        "\uc824\ub9ac\ubf40 for Kakao"
       ]
      },
      {
       "output_type": "stream",
       "stream": "stdout",
       "text": [
        " \uc5f0\uc608\n",
        "\uc824\ub9ac\ubf40 for Kakao"
       ]
      },
      {
       "output_type": "stream",
       "stream": "stdout",
       "text": [
        " \uc74c\uc2dd\n",
        "\uc824\ub9ac\ubf40 for Kakao"
       ]
      },
      {
       "output_type": "stream",
       "stream": "stdout",
       "text": [
        " \uc2a4\ud3ec\uce20\n",
        "\uc824\ub9ac\ubf40 for Kakao"
       ]
      },
      {
       "output_type": "stream",
       "stream": "stdout",
       "text": [
        " \uac8c\uc784\n",
        "\uc824\ub9ac\ubf40 for Kakao"
       ]
      },
      {
       "output_type": "stream",
       "stream": "stdout",
       "text": [
        " \uac74\uac15\n",
        "\uc824\ub9ac\ubf40 for Kakao"
       ]
      },
      {
       "output_type": "stream",
       "stream": "stdout",
       "text": [
        " \ud559\uc2b5\n",
        "\uc824\ub9ac\ubf40 for Kakao"
       ]
      },
      {
       "output_type": "stream",
       "stream": "stdout",
       "text": [
        " \ucee4\ubba4\ub2c8\ud2f0\n",
        "\ubb34\ub364 \ubcf4\uc11d"
       ]
      },
      {
       "output_type": "stream",
       "stream": "stdout",
       "text": [
        " \ubbf8\uc6a9\n",
        "\ubb34\ub364 \ubcf4\uc11d"
       ]
      },
      {
       "output_type": "stream",
       "stream": "stdout",
       "text": [
        " \uc74c\uc545\n",
        "\ubb34\ub364 \ubcf4\uc11d"
       ]
      },
      {
       "output_type": "stream",
       "stream": "stdout",
       "text": [
        " \ub9ac\ubdf0\n",
        "\ubb34\ub364 \ubcf4\uc11d"
       ]
      },
      {
       "output_type": "stream",
       "stream": "stdout",
       "text": [
        " \uc5f0\uc608\n",
        "\ubb34\ub364 \ubcf4\uc11d"
       ]
      },
      {
       "output_type": "stream",
       "stream": "stdout",
       "text": [
        " \uc74c\uc2dd\n",
        "\ubb34\ub364 \ubcf4\uc11d"
       ]
      },
      {
       "output_type": "stream",
       "stream": "stdout",
       "text": [
        " \uc2a4\ud3ec\uce20\n",
        "\ubb34\ub364 \ubcf4\uc11d"
       ]
      },
      {
       "output_type": "stream",
       "stream": "stdout",
       "text": [
        " \uac8c\uc784\n",
        "\ubb34\ub364 \ubcf4\uc11d"
       ]
      },
      {
       "output_type": "stream",
       "stream": "stdout",
       "text": [
        " \uac74\uac15\n",
        "\ubb34\ub364 \ubcf4\uc11d"
       ]
      },
      {
       "output_type": "stream",
       "stream": "stdout",
       "text": [
        " \ud559\uc2b5\n",
        "\ubb34\ub364 \ubcf4\uc11d"
       ]
      },
      {
       "output_type": "stream",
       "stream": "stdout",
       "text": [
        " \ucee4\ubba4\ub2c8\ud2f0\n",
        "\ud504\ub9b0\uc138\uc2a4*\ud37c\uc990"
       ]
      },
      {
       "output_type": "stream",
       "stream": "stdout",
       "text": [
        " \ubbf8\uc6a9\n",
        "\ud504\ub9b0\uc138\uc2a4*\ud37c\uc990"
       ]
      },
      {
       "output_type": "stream",
       "stream": "stdout",
       "text": [
        " \uc74c\uc545\n",
        "\ud504\ub9b0\uc138\uc2a4*\ud37c\uc990"
       ]
      },
      {
       "output_type": "stream",
       "stream": "stdout",
       "text": [
        " \ub9ac\ubdf0\n",
        "\ud504\ub9b0\uc138\uc2a4*\ud37c\uc990"
       ]
      },
      {
       "output_type": "stream",
       "stream": "stdout",
       "text": [
        " \uc5f0\uc608\n",
        "\ud504\ub9b0\uc138\uc2a4*\ud37c\uc990"
       ]
      },
      {
       "output_type": "stream",
       "stream": "stdout",
       "text": [
        " \uc74c\uc2dd\n",
        "\ud504\ub9b0\uc138\uc2a4*\ud37c\uc990"
       ]
      },
      {
       "output_type": "stream",
       "stream": "stdout",
       "text": [
        " \uc2a4\ud3ec\uce20\n",
        "\ud504\ub9b0\uc138\uc2a4*\ud37c\uc990"
       ]
      },
      {
       "output_type": "stream",
       "stream": "stdout",
       "text": [
        " \uac8c\uc784\n",
        "\ud504\ub9b0\uc138\uc2a4*\ud37c\uc990"
       ]
      },
      {
       "output_type": "stream",
       "stream": "stdout",
       "text": [
        " \uac74\uac15\n",
        "\ud504\ub9b0\uc138\uc2a4*\ud37c\uc990"
       ]
      },
      {
       "output_type": "stream",
       "stream": "stdout",
       "text": [
        " \ud559\uc2b5\n",
        "\ud504\ub9b0\uc138\uc2a4*\ud37c\uc990"
       ]
      },
      {
       "output_type": "stream",
       "stream": "stdout",
       "text": [
        " \ucee4\ubba4\ub2c8\ud2f0\n",
        "Raging Fire Racing"
       ]
      },
      {
       "output_type": "stream",
       "stream": "stdout",
       "text": [
        " \ubbf8\uc6a9\n",
        "Raging Fire Racing"
       ]
      },
      {
       "output_type": "stream",
       "stream": "stdout",
       "text": [
        " \uc74c\uc545\n",
        "Raging Fire Racing"
       ]
      },
      {
       "output_type": "stream",
       "stream": "stdout",
       "text": [
        " \ub9ac\ubdf0\n",
        "Raging Fire Racing"
       ]
      },
      {
       "output_type": "stream",
       "stream": "stdout",
       "text": [
        " \uc5f0\uc608\n",
        "Raging Fire Racing"
       ]
      },
      {
       "output_type": "stream",
       "stream": "stdout",
       "text": [
        " \uc74c\uc2dd\n",
        "Raging Fire Racing"
       ]
      },
      {
       "output_type": "stream",
       "stream": "stdout",
       "text": [
        " \uc2a4\ud3ec\uce20\n",
        "Raging Fire Racing"
       ]
      },
      {
       "output_type": "stream",
       "stream": "stdout",
       "text": [
        " \uac8c\uc784\n",
        "Raging Fire Racing \uac74\uac15\n",
        "Raging Fire Racing"
       ]
      },
      {
       "output_type": "stream",
       "stream": "stdout",
       "text": [
        " \ud559\uc2b5\n",
        "Raging Fire Racing"
       ]
      },
      {
       "output_type": "stream",
       "stream": "stdout",
       "text": [
        " \ucee4\ubba4\ub2c8\ud2f0\n",
        "\ub0b4 \uc0ac\ub791\uc2a4\ub7ec\uc6b4 \ub3fc\uc9c0"
       ]
      },
      {
       "output_type": "stream",
       "stream": "stdout",
       "text": [
        " \ubbf8\uc6a9\n",
        "\ub0b4 \uc0ac\ub791\uc2a4\ub7ec\uc6b4 \ub3fc\uc9c0"
       ]
      },
      {
       "output_type": "stream",
       "stream": "stdout",
       "text": [
        " \uc74c\uc545\n",
        "\ub0b4 \uc0ac\ub791\uc2a4\ub7ec\uc6b4 \ub3fc\uc9c0"
       ]
      },
      {
       "output_type": "stream",
       "stream": "stdout",
       "text": [
        " \ub9ac\ubdf0\n",
        "\ub0b4 \uc0ac\ub791\uc2a4\ub7ec\uc6b4 \ub3fc\uc9c0"
       ]
      },
      {
       "output_type": "stream",
       "stream": "stdout",
       "text": [
        " \uc5f0\uc608\n",
        "\ub0b4 \uc0ac\ub791\uc2a4\ub7ec\uc6b4 \ub3fc\uc9c0 \uc74c\uc2dd\n",
        "\ub0b4 \uc0ac\ub791\uc2a4\ub7ec\uc6b4 \ub3fc\uc9c0"
       ]
      },
      {
       "output_type": "stream",
       "stream": "stdout",
       "text": [
        " \uc2a4\ud3ec\uce20\n",
        "\ub0b4 \uc0ac\ub791\uc2a4\ub7ec\uc6b4 \ub3fc\uc9c0"
       ]
      },
      {
       "output_type": "stream",
       "stream": "stdout",
       "text": [
        " \uac8c\uc784\n",
        "\ub0b4 \uc0ac\ub791\uc2a4\ub7ec\uc6b4 \ub3fc\uc9c0"
       ]
      },
      {
       "output_type": "stream",
       "stream": "stdout",
       "text": [
        " \uac74\uac15\n",
        "\ub0b4 \uc0ac\ub791\uc2a4\ub7ec\uc6b4 \ub3fc\uc9c0"
       ]
      },
      {
       "output_type": "stream",
       "stream": "stdout",
       "text": [
        " \ud559\uc2b5\n",
        "\ub0b4 \uc0ac\ub791\uc2a4\ub7ec\uc6b4 \ub3fc\uc9c0"
       ]
      },
      {
       "output_type": "stream",
       "stream": "stdout",
       "text": [
        " \ucee4\ubba4\ub2c8\ud2f0\n",
        "\uce90\ucc60\ud504\ub9b0\uc2a4 for Kakao"
       ]
      },
      {
       "output_type": "stream",
       "stream": "stdout",
       "text": [
        " \ubbf8\uc6a9\n",
        "\uce90\ucc60\ud504\ub9b0\uc2a4 for Kakao"
       ]
      },
      {
       "output_type": "stream",
       "stream": "stdout",
       "text": [
        " \uc74c\uc545\n",
        "\uce90\ucc60\ud504\ub9b0\uc2a4 for Kakao"
       ]
      },
      {
       "output_type": "stream",
       "stream": "stdout",
       "text": [
        " \ub9ac\ubdf0\n",
        "\uce90\ucc60\ud504\ub9b0\uc2a4 for Kakao"
       ]
      },
      {
       "output_type": "stream",
       "stream": "stdout",
       "text": [
        " \uc5f0\uc608\n",
        "\uce90\ucc60\ud504\ub9b0\uc2a4 for Kakao"
       ]
      },
      {
       "output_type": "stream",
       "stream": "stdout",
       "text": [
        " \uc74c\uc2dd\n",
        "\uce90\ucc60\ud504\ub9b0\uc2a4 for Kakao"
       ]
      },
      {
       "output_type": "stream",
       "stream": "stdout",
       "text": [
        " \uc2a4\ud3ec\uce20\n",
        "\uce90\ucc60\ud504\ub9b0\uc2a4 for Kakao"
       ]
      },
      {
       "output_type": "stream",
       "stream": "stdout",
       "text": [
        " \uac8c\uc784\n",
        "\uce90\ucc60\ud504\ub9b0\uc2a4 for Kakao"
       ]
      },
      {
       "output_type": "stream",
       "stream": "stdout",
       "text": [
        " \uac74\uac15\n",
        "\uce90\ucc60\ud504\ub9b0\uc2a4 for Kakao"
       ]
      },
      {
       "output_type": "stream",
       "stream": "stdout",
       "text": [
        " \ud559\uc2b5\n",
        "\uce90\ucc60\ud504\ub9b0\uc2a4 for Kakao"
       ]
      },
      {
       "output_type": "stream",
       "stream": "stdout",
       "text": [
        " \ucee4\ubba4\ub2c8\ud2f0\n",
        "Angry Fatty"
       ]
      },
      {
       "output_type": "stream",
       "stream": "stdout",
       "text": [
        " \ubbf8\uc6a9\n",
        "Angry Fatty"
       ]
      },
      {
       "output_type": "stream",
       "stream": "stdout",
       "text": [
        " \uc74c\uc545\n",
        "Angry Fatty"
       ]
      },
      {
       "output_type": "stream",
       "stream": "stdout",
       "text": [
        " \ub9ac\ubdf0\n",
        "Angry Fatty"
       ]
      },
      {
       "output_type": "stream",
       "stream": "stdout",
       "text": [
        " \uc5f0\uc608\n",
        "Angry Fatty"
       ]
      },
      {
       "output_type": "stream",
       "stream": "stdout",
       "text": [
        " \uc74c\uc2dd\n",
        "Angry Fatty"
       ]
      },
      {
       "output_type": "stream",
       "stream": "stdout",
       "text": [
        " \uc2a4\ud3ec\uce20\n",
        "Angry Fatty"
       ]
      },
      {
       "output_type": "stream",
       "stream": "stdout",
       "text": [
        " \uac8c\uc784\n",
        "Angry Fatty"
       ]
      },
      {
       "output_type": "stream",
       "stream": "stdout",
       "text": [
        " \uac74\uac15\n",
        "Angry Fatty"
       ]
      },
      {
       "output_type": "stream",
       "stream": "stdout",
       "text": [
        " \ud559\uc2b5\n",
        "Angry Fatty"
       ]
      },
      {
       "output_type": "stream",
       "stream": "stdout",
       "text": [
        " \ucee4\ubba4\ub2c8\ud2f0\n",
        "\ub4dc\ub798\uace4 \uc2a4\ud1a0\ub9ac: \ubd80\ud65c\uc808 \uc5d0\ub514\uc158"
       ]
      },
      {
       "output_type": "stream",
       "stream": "stdout",
       "text": [
        " \ubbf8\uc6a9\n",
        "\ub4dc\ub798\uace4 \uc2a4\ud1a0\ub9ac: \ubd80\ud65c\uc808 \uc5d0\ub514\uc158"
       ]
      },
      {
       "output_type": "stream",
       "stream": "stdout",
       "text": [
        " \uc74c\uc545\n",
        "\ub4dc\ub798\uace4 \uc2a4\ud1a0\ub9ac: \ubd80\ud65c\uc808 \uc5d0\ub514\uc158"
       ]
      },
      {
       "output_type": "stream",
       "stream": "stdout",
       "text": [
        " \ub9ac\ubdf0\n",
        "\ub4dc\ub798\uace4 \uc2a4\ud1a0\ub9ac: \ubd80\ud65c\uc808 \uc5d0\ub514\uc158"
       ]
      },
      {
       "output_type": "stream",
       "stream": "stdout",
       "text": [
        " \uc5f0\uc608\n",
        "\ub4dc\ub798\uace4 \uc2a4\ud1a0\ub9ac: \ubd80\ud65c\uc808 \uc5d0\ub514\uc158"
       ]
      },
      {
       "output_type": "stream",
       "stream": "stdout",
       "text": [
        " \uc74c\uc2dd\n",
        "\ub4dc\ub798\uace4 \uc2a4\ud1a0\ub9ac: \ubd80\ud65c\uc808 \uc5d0\ub514\uc158"
       ]
      },
      {
       "output_type": "stream",
       "stream": "stdout",
       "text": [
        " \uc2a4\ud3ec\uce20\n",
        "\ub4dc\ub798\uace4 \uc2a4\ud1a0\ub9ac: \ubd80\ud65c\uc808 \uc5d0\ub514\uc158"
       ]
      },
      {
       "output_type": "stream",
       "stream": "stdout",
       "text": [
        " \uac8c\uc784\n",
        "\ub4dc\ub798\uace4 \uc2a4\ud1a0\ub9ac: \ubd80\ud65c\uc808 \uc5d0\ub514\uc158"
       ]
      },
      {
       "output_type": "stream",
       "stream": "stdout",
       "text": [
        " \uac74\uac15\n",
        "\ub4dc\ub798\uace4 \uc2a4\ud1a0\ub9ac: \ubd80\ud65c\uc808 \uc5d0\ub514\uc158"
       ]
      },
      {
       "output_type": "stream",
       "stream": "stdout",
       "text": [
        " \ud559\uc2b5\n",
        "\ub4dc\ub798\uace4 \uc2a4\ud1a0\ub9ac: \ubd80\ud65c\uc808 \uc5d0\ub514\uc158"
       ]
      },
      {
       "output_type": "stream",
       "stream": "stdout",
       "text": [
        " \ucee4\ubba4\ub2c8\ud2f0\n",
        "\ubd88\uad50\ubc29\uc1a1"
       ]
      },
      {
       "output_type": "stream",
       "stream": "stdout",
       "text": [
        " \ubbf8\uc6a9\n",
        "\ubd88\uad50\ubc29\uc1a1"
       ]
      },
      {
       "output_type": "stream",
       "stream": "stdout",
       "text": [
        " \uc74c\uc545\n",
        "\ubd88\uad50\ubc29\uc1a1"
       ]
      },
      {
       "output_type": "stream",
       "stream": "stdout",
       "text": [
        " \ub9ac\ubdf0\n",
        "\ubd88\uad50\ubc29\uc1a1"
       ]
      },
      {
       "output_type": "stream",
       "stream": "stdout",
       "text": [
        " \uc5f0\uc608\n",
        "\ubd88\uad50\ubc29\uc1a1"
       ]
      },
      {
       "output_type": "stream",
       "stream": "stdout",
       "text": [
        " \uc74c\uc2dd\n",
        "\ubd88\uad50\ubc29\uc1a1"
       ]
      },
      {
       "output_type": "stream",
       "stream": "stdout",
       "text": [
        " \uc2a4\ud3ec\uce20\n",
        "\ubd88\uad50\ubc29\uc1a1"
       ]
      },
      {
       "output_type": "stream",
       "stream": "stdout",
       "text": [
        " \uac8c\uc784\n",
        "\ubd88\uad50\ubc29\uc1a1"
       ]
      },
      {
       "output_type": "stream",
       "stream": "stdout",
       "text": [
        " \uac74\uac15\n",
        "\ubd88\uad50\ubc29\uc1a1"
       ]
      },
      {
       "output_type": "stream",
       "stream": "stdout",
       "text": [
        " \ud559\uc2b5\n",
        "\ubd88\uad50\ubc29\uc1a1"
       ]
      },
      {
       "output_type": "stream",
       "stream": "stdout",
       "text": [
        " \ucee4\ubba4\ub2c8\ud2f0\n",
        "Save Toshi \u65e5\u672c"
       ]
      },
      {
       "output_type": "stream",
       "stream": "stdout",
       "text": [
        " \ubbf8\uc6a9\n",
        "Save Toshi \u65e5\u672c"
       ]
      },
      {
       "output_type": "stream",
       "stream": "stdout",
       "text": [
        " \uc74c\uc545\n",
        "Save Toshi \u65e5\u672c"
       ]
      },
      {
       "output_type": "stream",
       "stream": "stdout",
       "text": [
        " \ub9ac\ubdf0\n",
        "Save Toshi \u65e5\u672c"
       ]
      },
      {
       "output_type": "stream",
       "stream": "stdout",
       "text": [
        " \uc5f0\uc608\n",
        "Save Toshi \u65e5\u672c"
       ]
      },
      {
       "output_type": "stream",
       "stream": "stdout",
       "text": [
        " \uc74c\uc2dd\n",
        "Save Toshi \u65e5\u672c"
       ]
      },
      {
       "output_type": "stream",
       "stream": "stdout",
       "text": [
        " \uc2a4\ud3ec\uce20\n",
        "Save Toshi \u65e5\u672c"
       ]
      },
      {
       "output_type": "stream",
       "stream": "stdout",
       "text": [
        " \uac8c\uc784\n",
        "Save Toshi \u65e5\u672c"
       ]
      },
      {
       "output_type": "stream",
       "stream": "stdout",
       "text": [
        " \uac74\uac15\n",
        "Save Toshi \u65e5\u672c"
       ]
      },
      {
       "output_type": "stream",
       "stream": "stdout",
       "text": [
        " \ud559\uc2b5\n",
        "Save Toshi \u65e5\u672c"
       ]
      },
      {
       "output_type": "stream",
       "stream": "stdout",
       "text": [
        " \ucee4\ubba4\ub2c8\ud2f0\n",
        "\u042f\u0439\u0446\u0435\u043b\u043e\u0432"
       ]
      },
      {
       "output_type": "stream",
       "stream": "stdout",
       "text": [
        " \ubbf8\uc6a9\n",
        "\u042f\u0439\u0446\u0435\u043b\u043e\u0432"
       ]
      },
      {
       "output_type": "stream",
       "stream": "stdout",
       "text": [
        " \uc74c\uc545\n",
        "\u042f\u0439\u0446\u0435\u043b\u043e\u0432"
       ]
      },
      {
       "output_type": "stream",
       "stream": "stdout",
       "text": [
        " \ub9ac\ubdf0\n",
        "\u042f\u0439\u0446\u0435\u043b\u043e\u0432"
       ]
      },
      {
       "output_type": "stream",
       "stream": "stdout",
       "text": [
        " \uc5f0\uc608\n",
        "\u042f\u0439\u0446\u0435\u043b\u043e\u0432"
       ]
      },
      {
       "output_type": "stream",
       "stream": "stdout",
       "text": [
        " \uc74c\uc2dd\n",
        "\u042f\u0439\u0446\u0435\u043b\u043e\u0432"
       ]
      },
      {
       "output_type": "stream",
       "stream": "stdout",
       "text": [
        " \uc2a4\ud3ec\uce20\n",
        "\u042f\u0439\u0446\u0435\u043b\u043e\u0432"
       ]
      },
      {
       "output_type": "stream",
       "stream": "stdout",
       "text": [
        " \uac8c\uc784\n",
        "\u042f\u0439\u0446\u0435\u043b\u043e\u0432"
       ]
      },
      {
       "output_type": "stream",
       "stream": "stdout",
       "text": [
        " \uac74\uac15\n",
        "\u042f\u0439\u0446\u0435\u043b\u043e\u0432"
       ]
      },
      {
       "output_type": "stream",
       "stream": "stdout",
       "text": [
        " \ud559\uc2b5\n",
        "\u042f\u0439\u0446\u0435\u043b\u043e\u0432"
       ]
      },
      {
       "output_type": "stream",
       "stream": "stdout",
       "text": [
        " \ucee4\ubba4\ub2c8\ud2f0\n",
        "\uc5b4\ub9b0\uc774\ub97c\uc704\ud55c \uc790\uc7a5\uac00"
       ]
      },
      {
       "output_type": "stream",
       "stream": "stdout",
       "text": [
        " \ubbf8\uc6a9\n",
        "\uc5b4\ub9b0\uc774\ub97c\uc704\ud55c \uc790\uc7a5\uac00"
       ]
      },
      {
       "output_type": "stream",
       "stream": "stdout",
       "text": [
        " \uc74c\uc545\n",
        "\uc5b4\ub9b0\uc774\ub97c\uc704\ud55c \uc790\uc7a5\uac00"
       ]
      },
      {
       "output_type": "stream",
       "stream": "stdout",
       "text": [
        " \ub9ac\ubdf0\n",
        "\uc5b4\ub9b0\uc774\ub97c\uc704\ud55c \uc790\uc7a5\uac00"
       ]
      },
      {
       "output_type": "stream",
       "stream": "stdout",
       "text": [
        " \uc5f0\uc608\n",
        "\uc5b4\ub9b0\uc774\ub97c\uc704\ud55c \uc790\uc7a5\uac00"
       ]
      },
      {
       "output_type": "stream",
       "stream": "stdout",
       "text": [
        " \uc74c\uc2dd\n",
        "\uc5b4\ub9b0\uc774\ub97c\uc704\ud55c \uc790\uc7a5\uac00 \uc2a4\ud3ec\uce20\n",
        "\uc5b4\ub9b0\uc774\ub97c\uc704\ud55c \uc790\uc7a5\uac00"
       ]
      },
      {
       "output_type": "stream",
       "stream": "stdout",
       "text": [
        " \uac8c\uc784\n",
        "\uc5b4\ub9b0\uc774\ub97c\uc704\ud55c \uc790\uc7a5\uac00"
       ]
      },
      {
       "output_type": "stream",
       "stream": "stdout",
       "text": [
        " \uac74\uac15\n",
        "\uc5b4\ub9b0\uc774\ub97c\uc704\ud55c \uc790\uc7a5\uac00"
       ]
      },
      {
       "output_type": "stream",
       "stream": "stdout",
       "text": [
        " \ud559\uc2b5\n",
        "\uc5b4\ub9b0\uc774\ub97c\uc704\ud55c \uc790\uc7a5\uac00 \ucee4\ubba4\ub2c8\ud2f0\n",
        "\ud788\uc5b4\ub85c\uc2ac\ub808\uc774\uc5b4! [\uac04\ub2e8\ud788 \uc990\uae30\ub294  \ud37c\uc990&\ub514\ud39c\uc2a4 \uac8c\uc784]"
       ]
      },
      {
       "output_type": "stream",
       "stream": "stdout",
       "text": [
        " \ubbf8\uc6a9\n",
        "\ud788\uc5b4\ub85c\uc2ac\ub808\uc774\uc5b4! [\uac04\ub2e8\ud788 \uc990\uae30\ub294  \ud37c\uc990&\ub514\ud39c\uc2a4 \uac8c\uc784]"
       ]
      },
      {
       "output_type": "stream",
       "stream": "stdout",
       "text": [
        " \uc74c\uc545\n",
        "\ud788\uc5b4\ub85c\uc2ac\ub808\uc774\uc5b4! [\uac04\ub2e8\ud788 \uc990\uae30\ub294  \ud37c\uc990&\ub514\ud39c\uc2a4 \uac8c\uc784]"
       ]
      },
      {
       "output_type": "stream",
       "stream": "stdout",
       "text": [
        " \ub9ac\ubdf0\n",
        "\ud788\uc5b4\ub85c\uc2ac\ub808\uc774\uc5b4! [\uac04\ub2e8\ud788 \uc990\uae30\ub294  \ud37c\uc990&\ub514\ud39c\uc2a4 \uac8c\uc784] \uc5f0\uc608\n",
        "\ud788\uc5b4\ub85c\uc2ac\ub808\uc774\uc5b4! [\uac04\ub2e8\ud788 \uc990\uae30\ub294  \ud37c\uc990&\ub514\ud39c\uc2a4 \uac8c\uc784]"
       ]
      },
      {
       "output_type": "stream",
       "stream": "stdout",
       "text": [
        " \uc74c\uc2dd\n",
        "\ud788\uc5b4\ub85c\uc2ac\ub808\uc774\uc5b4! [\uac04\ub2e8\ud788 \uc990\uae30\ub294  \ud37c\uc990&\ub514\ud39c\uc2a4 \uac8c\uc784]"
       ]
      },
      {
       "output_type": "stream",
       "stream": "stdout",
       "text": [
        " \uc2a4\ud3ec\uce20\n",
        "\ud788\uc5b4\ub85c\uc2ac\ub808\uc774\uc5b4! [\uac04\ub2e8\ud788 \uc990\uae30\ub294  \ud37c\uc990&\ub514\ud39c\uc2a4 \uac8c\uc784]"
       ]
      },
      {
       "output_type": "stream",
       "stream": "stdout",
       "text": [
        " \uac8c\uc784\n",
        "\ud788\uc5b4\ub85c\uc2ac\ub808\uc774\uc5b4! [\uac04\ub2e8\ud788 \uc990\uae30\ub294  \ud37c\uc990&\ub514\ud39c\uc2a4 \uac8c\uc784]"
       ]
      },
      {
       "output_type": "stream",
       "stream": "stdout",
       "text": [
        " \uac74\uac15\n",
        "\ud788\uc5b4\ub85c\uc2ac\ub808\uc774\uc5b4! [\uac04\ub2e8\ud788 \uc990\uae30\ub294  \ud37c\uc990&\ub514\ud39c\uc2a4 \uac8c\uc784]"
       ]
      },
      {
       "output_type": "stream",
       "stream": "stdout",
       "text": [
        " \ud559\uc2b5\n",
        "\ud788\uc5b4\ub85c\uc2ac\ub808\uc774\uc5b4! [\uac04\ub2e8\ud788 \uc990\uae30\ub294  \ud37c\uc990&\ub514\ud39c\uc2a4 \uac8c\uc784]"
       ]
      },
      {
       "output_type": "stream",
       "stream": "stdout",
       "text": [
        " \ucee4\ubba4\ub2c8\ud2f0\n",
        "Christmas Hangman Deluxe"
       ]
      },
      {
       "output_type": "stream",
       "stream": "stdout",
       "text": [
        " \ubbf8\uc6a9\n",
        "Christmas Hangman Deluxe"
       ]
      },
      {
       "output_type": "stream",
       "stream": "stdout",
       "text": [
        " \uc74c\uc545\n",
        "Christmas Hangman Deluxe"
       ]
      },
      {
       "output_type": "stream",
       "stream": "stdout",
       "text": [
        " \ub9ac\ubdf0\n",
        "Christmas Hangman Deluxe"
       ]
      },
      {
       "output_type": "stream",
       "stream": "stdout",
       "text": [
        " \uc5f0\uc608\n",
        "Christmas Hangman Deluxe"
       ]
      },
      {
       "output_type": "stream",
       "stream": "stdout",
       "text": [
        " \uc74c\uc2dd\n",
        "Christmas Hangman Deluxe"
       ]
      },
      {
       "output_type": "stream",
       "stream": "stdout",
       "text": [
        " \uc2a4\ud3ec\uce20\n",
        "Christmas Hangman Deluxe"
       ]
      },
      {
       "output_type": "stream",
       "stream": "stdout",
       "text": [
        " \uac8c\uc784\n",
        "Christmas Hangman Deluxe"
       ]
      },
      {
       "output_type": "stream",
       "stream": "stdout",
       "text": [
        " \uac74\uac15\n",
        "Christmas Hangman Deluxe"
       ]
      },
      {
       "output_type": "stream",
       "stream": "stdout",
       "text": [
        " \ud559\uc2b5\n",
        "Christmas Hangman Deluxe"
       ]
      },
      {
       "output_type": "stream",
       "stream": "stdout",
       "text": [
        " \ucee4\ubba4\ub2c8\ud2f0\n",
        "Star Defender 4 (Free)"
       ]
      },
      {
       "output_type": "stream",
       "stream": "stdout",
       "text": [
        " \ubbf8\uc6a9\n",
        "Star Defender 4 (Free) \uc74c\uc545\n",
        "Star Defender 4 (Free)"
       ]
      },
      {
       "output_type": "stream",
       "stream": "stdout",
       "text": [
        " \ub9ac\ubdf0\n",
        "Star Defender 4 (Free) \uc5f0\uc608\n",
        "Star Defender 4 (Free)"
       ]
      },
      {
       "output_type": "stream",
       "stream": "stdout",
       "text": [
        " \uc74c\uc2dd\n",
        "Star Defender 4 (Free)"
       ]
      },
      {
       "output_type": "stream",
       "stream": "stdout",
       "text": [
        " \uc2a4\ud3ec\uce20\n",
        "Star Defender 4 (Free)"
       ]
      },
      {
       "output_type": "stream",
       "stream": "stdout",
       "text": [
        " \uac8c\uc784\n",
        "Star Defender 4 (Free)"
       ]
      },
      {
       "output_type": "stream",
       "stream": "stdout",
       "text": [
        " \uac74\uac15\n",
        "Star Defender 4 (Free)"
       ]
      },
      {
       "output_type": "stream",
       "stream": "stdout",
       "text": [
        " \ud559\uc2b5\n",
        "Star Defender 4 (Free)"
       ]
      },
      {
       "output_type": "stream",
       "stream": "stdout",
       "text": [
        " \ucee4\ubba4\ub2c8\ud2f0\n",
        "Clash of the Olympians"
       ]
      },
      {
       "output_type": "stream",
       "stream": "stdout",
       "text": [
        " \ubbf8\uc6a9\n",
        "Clash of the Olympians"
       ]
      },
      {
       "output_type": "stream",
       "stream": "stdout",
       "text": [
        " \uc74c\uc545\n",
        "Clash of the Olympians"
       ]
      },
      {
       "output_type": "stream",
       "stream": "stdout",
       "text": [
        " \ub9ac\ubdf0\n",
        "Clash of the Olympians"
       ]
      },
      {
       "output_type": "stream",
       "stream": "stdout",
       "text": [
        " \uc5f0\uc608\n",
        "Clash of the Olympians"
       ]
      },
      {
       "output_type": "stream",
       "stream": "stdout",
       "text": [
        " \uc74c\uc2dd\n",
        "Clash of the Olympians"
       ]
      },
      {
       "output_type": "stream",
       "stream": "stdout",
       "text": [
        " \uc2a4\ud3ec\uce20\n",
        "Clash of the Olympians"
       ]
      },
      {
       "output_type": "stream",
       "stream": "stdout",
       "text": [
        " \uac8c\uc784\n",
        "Clash of the Olympians"
       ]
      },
      {
       "output_type": "stream",
       "stream": "stdout",
       "text": [
        " \uac74\uac15\n",
        "Clash of the Olympians"
       ]
      },
      {
       "output_type": "stream",
       "stream": "stdout",
       "text": [
        " \ud559\uc2b5\n",
        "Clash of the Olympians"
       ]
      },
      {
       "output_type": "stream",
       "stream": "stdout",
       "text": [
        " \ucee4\ubba4\ub2c8\ud2f0\n",
        "Great White SHARKS"
       ]
      },
      {
       "output_type": "stream",
       "stream": "stdout",
       "text": [
        " \ubbf8\uc6a9\n",
        "Great White SHARKS"
       ]
      },
      {
       "output_type": "stream",
       "stream": "stdout",
       "text": [
        " \uc74c\uc545\n",
        "Great White SHARKS"
       ]
      },
      {
       "output_type": "stream",
       "stream": "stdout",
       "text": [
        " \ub9ac\ubdf0\n",
        "Great White SHARKS"
       ]
      },
      {
       "output_type": "stream",
       "stream": "stdout",
       "text": [
        " \uc5f0\uc608\n",
        "Great White SHARKS"
       ]
      },
      {
       "output_type": "stream",
       "stream": "stdout",
       "text": [
        " \uc74c\uc2dd\n",
        "Great White SHARKS"
       ]
      },
      {
       "output_type": "stream",
       "stream": "stdout",
       "text": [
        " \uc2a4\ud3ec\uce20\n",
        "Great White SHARKS"
       ]
      },
      {
       "output_type": "stream",
       "stream": "stdout",
       "text": [
        " \uac8c\uc784\n",
        "Great White SHARKS"
       ]
      },
      {
       "output_type": "stream",
       "stream": "stdout",
       "text": [
        " \uac74\uac15\n",
        "Great White SHARKS \ud559\uc2b5\n",
        "Great White SHARKS"
       ]
      },
      {
       "output_type": "stream",
       "stream": "stdout",
       "text": [
        " \ucee4\ubba4\ub2c8\ud2f0\n",
        "\uc911\uad6d\uc5b4 \ub2e4\ud06c \uad50\ud310"
       ]
      },
      {
       "output_type": "stream",
       "stream": "stdout",
       "text": [
        " \ubbf8\uc6a9\n",
        "\uc911\uad6d\uc5b4 \ub2e4\ud06c \uad50\ud310"
       ]
      },
      {
       "output_type": "stream",
       "stream": "stdout",
       "text": [
        " \uc74c\uc545\n",
        "\uc911\uad6d\uc5b4 \ub2e4\ud06c \uad50\ud310"
       ]
      },
      {
       "output_type": "stream",
       "stream": "stdout",
       "text": [
        " \ub9ac\ubdf0\n",
        "\uc911\uad6d\uc5b4 \ub2e4\ud06c \uad50\ud310"
       ]
      },
      {
       "output_type": "stream",
       "stream": "stdout",
       "text": [
        " \uc5f0\uc608\n",
        "\uc911\uad6d\uc5b4 \ub2e4\ud06c \uad50\ud310"
       ]
      },
      {
       "output_type": "stream",
       "stream": "stdout",
       "text": [
        " \uc74c\uc2dd\n",
        "\uc911\uad6d\uc5b4 \ub2e4\ud06c \uad50\ud310 \uc2a4\ud3ec\uce20\n",
        "\uc911\uad6d\uc5b4 \ub2e4\ud06c \uad50\ud310"
       ]
      },
      {
       "output_type": "stream",
       "stream": "stdout",
       "text": [
        " \uac8c\uc784\n",
        "\uc911\uad6d\uc5b4 \ub2e4\ud06c \uad50\ud310"
       ]
      },
      {
       "output_type": "stream",
       "stream": "stdout",
       "text": [
        " \uac74\uac15\n",
        "\uc911\uad6d\uc5b4 \ub2e4\ud06c \uad50\ud310"
       ]
      },
      {
       "output_type": "stream",
       "stream": "stdout",
       "text": [
        " \ud559\uc2b5\n",
        "\uc911\uad6d\uc5b4 \ub2e4\ud06c \uad50\ud310 \ucee4\ubba4\ub2c8\ud2f0\n",
        "\ub808\uc774\uc2a4 \uc2a4\ud0c0\ud2b8 - GO\ub77d\ucee4\ud14c\ub9c8 - \ud504\ub9ac\ubbf8\uc5c4"
       ]
      },
      {
       "output_type": "stream",
       "stream": "stdout",
       "text": [
        " \ubbf8\uc6a9\n",
        "\ub808\uc774\uc2a4 \uc2a4\ud0c0\ud2b8 - GO\ub77d\ucee4\ud14c\ub9c8 - \ud504\ub9ac\ubbf8\uc5c4"
       ]
      },
      {
       "output_type": "stream",
       "stream": "stdout",
       "text": [
        " \uc74c\uc545\n",
        "\ub808\uc774\uc2a4 \uc2a4\ud0c0\ud2b8 - GO\ub77d\ucee4\ud14c\ub9c8 - \ud504\ub9ac\ubbf8\uc5c4 \ub9ac\ubdf0\n",
        "\ub808\uc774\uc2a4 \uc2a4\ud0c0\ud2b8 - GO\ub77d\ucee4\ud14c\ub9c8 - \ud504\ub9ac\ubbf8\uc5c4"
       ]
      },
      {
       "output_type": "stream",
       "stream": "stdout",
       "text": [
        " \uc5f0\uc608\n",
        "\ub808\uc774\uc2a4 \uc2a4\ud0c0\ud2b8 - GO\ub77d\ucee4\ud14c\ub9c8 - \ud504\ub9ac\ubbf8\uc5c4 \uc74c\uc2dd\n",
        "\ub808\uc774\uc2a4 \uc2a4\ud0c0\ud2b8 - GO\ub77d\ucee4\ud14c\ub9c8 - \ud504\ub9ac\ubbf8\uc5c4"
       ]
      },
      {
       "output_type": "stream",
       "stream": "stdout",
       "text": [
        " \uc2a4\ud3ec\uce20\n",
        "\ub808\uc774\uc2a4 \uc2a4\ud0c0\ud2b8 - GO\ub77d\ucee4\ud14c\ub9c8 - \ud504\ub9ac\ubbf8\uc5c4 \uac8c\uc784\n",
        "\ub808\uc774\uc2a4 \uc2a4\ud0c0\ud2b8 - GO\ub77d\ucee4\ud14c\ub9c8 - \ud504\ub9ac\ubbf8\uc5c4"
       ]
      },
      {
       "output_type": "stream",
       "stream": "stdout",
       "text": [
        " \uac74\uac15\n",
        "\ub808\uc774\uc2a4 \uc2a4\ud0c0\ud2b8 - GO\ub77d\ucee4\ud14c\ub9c8 - \ud504\ub9ac\ubbf8\uc5c4 \ud559\uc2b5\n",
        "\ub808\uc774\uc2a4 \uc2a4\ud0c0\ud2b8 - GO\ub77d\ucee4\ud14c\ub9c8 - \ud504\ub9ac\ubbf8\uc5c4"
       ]
      },
      {
       "output_type": "stream",
       "stream": "stdout",
       "text": [
        " \ucee4\ubba4\ub2c8\ud2f0\n",
        "Bowman Pro 4"
       ]
      },
      {
       "output_type": "stream",
       "stream": "stdout",
       "text": [
        " \ubbf8\uc6a9\n",
        "Bowman Pro 4"
       ]
      },
      {
       "output_type": "stream",
       "stream": "stdout",
       "text": [
        " \uc74c\uc545\n",
        "Bowman Pro 4"
       ]
      },
      {
       "output_type": "stream",
       "stream": "stdout",
       "text": [
        " \ub9ac\ubdf0\n",
        "Bowman Pro 4"
       ]
      },
      {
       "output_type": "stream",
       "stream": "stdout",
       "text": [
        " \uc5f0\uc608\n",
        "Bowman Pro 4"
       ]
      },
      {
       "output_type": "stream",
       "stream": "stdout",
       "text": [
        " \uc74c\uc2dd\n",
        "Bowman Pro 4 \uc2a4\ud3ec\uce20\n",
        "Bowman Pro 4"
       ]
      },
      {
       "output_type": "stream",
       "stream": "stdout",
       "text": [
        " \uac8c\uc784\n",
        "Bowman Pro 4"
       ]
      },
      {
       "output_type": "stream",
       "stream": "stdout",
       "text": [
        " \uac74\uac15\n",
        "Bowman Pro 4"
       ]
      },
      {
       "output_type": "stream",
       "stream": "stdout",
       "text": [
        " \ud559\uc2b5\n",
        "Bowman Pro 4"
       ]
      },
      {
       "output_type": "stream",
       "stream": "stdout",
       "text": [
        " \ucee4\ubba4\ub2c8\ud2f0\n",
        "\uc608\uc2a4\ud30c\uc77c-\uc601\ud654\ubcf4\uae30,\uc74c\uc545,\ub4dc\ub77c\ub9c8,\uc560\ub2c8,\ub3d9\uc601\uc0c1 \uc790\ub8cc\ub2e4\uc6b4\ub85c\ub4dc"
       ]
      },
      {
       "output_type": "stream",
       "stream": "stdout",
       "text": [
        " \ubbf8\uc6a9\n",
        "\uc608\uc2a4\ud30c\uc77c-\uc601\ud654\ubcf4\uae30,\uc74c\uc545,\ub4dc\ub77c\ub9c8,\uc560\ub2c8,\ub3d9\uc601\uc0c1 \uc790\ub8cc\ub2e4\uc6b4\ub85c\ub4dc"
       ]
      },
      {
       "output_type": "stream",
       "stream": "stdout",
       "text": [
        " \uc74c\uc545\n",
        "\uc608\uc2a4\ud30c\uc77c-\uc601\ud654\ubcf4\uae30,\uc74c\uc545,\ub4dc\ub77c\ub9c8,\uc560\ub2c8,\ub3d9\uc601\uc0c1 \uc790\ub8cc\ub2e4\uc6b4\ub85c\ub4dc \ub9ac\ubdf0\n",
        "\uc608\uc2a4\ud30c\uc77c-\uc601\ud654\ubcf4\uae30,\uc74c\uc545,\ub4dc\ub77c\ub9c8,\uc560\ub2c8,\ub3d9\uc601\uc0c1 \uc790\ub8cc\ub2e4\uc6b4\ub85c\ub4dc"
       ]
      },
      {
       "output_type": "stream",
       "stream": "stdout",
       "text": [
        " \uc5f0\uc608\n",
        "\uc608\uc2a4\ud30c\uc77c-\uc601\ud654\ubcf4\uae30,\uc74c\uc545,\ub4dc\ub77c\ub9c8,\uc560\ub2c8,\ub3d9\uc601\uc0c1 \uc790\ub8cc\ub2e4\uc6b4\ub85c\ub4dc"
       ]
      },
      {
       "output_type": "stream",
       "stream": "stdout",
       "text": [
        " \uc74c\uc2dd\n",
        "\uc608\uc2a4\ud30c\uc77c-\uc601\ud654\ubcf4\uae30,\uc74c\uc545,\ub4dc\ub77c\ub9c8,\uc560\ub2c8,\ub3d9\uc601\uc0c1 \uc790\ub8cc\ub2e4\uc6b4\ub85c\ub4dc"
       ]
      },
      {
       "output_type": "stream",
       "stream": "stdout",
       "text": [
        " \uc2a4\ud3ec\uce20\n",
        "\uc608\uc2a4\ud30c\uc77c-\uc601\ud654\ubcf4\uae30,\uc74c\uc545,\ub4dc\ub77c\ub9c8,\uc560\ub2c8,\ub3d9\uc601\uc0c1 \uc790\ub8cc\ub2e4\uc6b4\ub85c\ub4dc"
       ]
      },
      {
       "output_type": "stream",
       "stream": "stdout",
       "text": [
        " \uac8c\uc784\n",
        "\uc608\uc2a4\ud30c\uc77c-\uc601\ud654\ubcf4\uae30,\uc74c\uc545,\ub4dc\ub77c\ub9c8,\uc560\ub2c8,\ub3d9\uc601\uc0c1 \uc790\ub8cc\ub2e4\uc6b4\ub85c\ub4dc"
       ]
      },
      {
       "output_type": "stream",
       "stream": "stdout",
       "text": [
        " \uac74\uac15\n",
        "\uc608\uc2a4\ud30c\uc77c-\uc601\ud654\ubcf4\uae30,\uc74c\uc545,\ub4dc\ub77c\ub9c8,\uc560\ub2c8,\ub3d9\uc601\uc0c1 \uc790\ub8cc\ub2e4\uc6b4\ub85c\ub4dc"
       ]
      },
      {
       "output_type": "stream",
       "stream": "stdout",
       "text": [
        " \ud559\uc2b5\n",
        "\uc608\uc2a4\ud30c\uc77c-\uc601\ud654\ubcf4\uae30,\uc74c\uc545,\ub4dc\ub77c\ub9c8,\uc560\ub2c8,\ub3d9\uc601\uc0c1 \uc790\ub8cc\ub2e4\uc6b4\ub85c\ub4dc"
       ]
      },
      {
       "output_type": "stream",
       "stream": "stdout",
       "text": [
        " \ucee4\ubba4\ub2c8\ud2f0\n",
        "Qello"
       ]
      },
      {
       "output_type": "stream",
       "stream": "stdout",
       "text": [
        " \ubbf8\uc6a9\n",
        "Qello"
       ]
      },
      {
       "output_type": "stream",
       "stream": "stdout",
       "text": [
        " \uc74c\uc545\n",
        "Qello"
       ]
      },
      {
       "output_type": "stream",
       "stream": "stdout",
       "text": [
        " \ub9ac\ubdf0\n",
        "Qello"
       ]
      },
      {
       "output_type": "stream",
       "stream": "stdout",
       "text": [
        " \uc5f0\uc608\n",
        "Qello"
       ]
      },
      {
       "output_type": "stream",
       "stream": "stdout",
       "text": [
        " \uc74c\uc2dd\n",
        "Qello"
       ]
      },
      {
       "output_type": "stream",
       "stream": "stdout",
       "text": [
        " \uc2a4\ud3ec\uce20\n",
        "Qello"
       ]
      },
      {
       "output_type": "stream",
       "stream": "stdout",
       "text": [
        " \uac8c\uc784\n",
        "Qello"
       ]
      },
      {
       "output_type": "stream",
       "stream": "stdout",
       "text": [
        " \uac74\uac15\n",
        "Qello"
       ]
      },
      {
       "output_type": "stream",
       "stream": "stdout",
       "text": [
        " \ud559\uc2b5\n",
        "Qello"
       ]
      },
      {
       "output_type": "stream",
       "stream": "stdout",
       "text": [
        " \ucee4\ubba4\ub2c8\ud2f0\n",
        "Three Kingdoms: Heroes"
       ]
      },
      {
       "output_type": "stream",
       "stream": "stdout",
       "text": [
        " \ubbf8\uc6a9\n",
        "Three Kingdoms: Heroes \uc74c\uc545\n",
        "Three Kingdoms: Heroes"
       ]
      },
      {
       "output_type": "stream",
       "stream": "stdout",
       "text": [
        " \ub9ac\ubdf0\n",
        "Three Kingdoms: Heroes \uc5f0\uc608\n",
        "Three Kingdoms: Heroes"
       ]
      },
      {
       "output_type": "stream",
       "stream": "stdout",
       "text": [
        " \uc74c\uc2dd\n",
        "Three Kingdoms: Heroes"
       ]
      },
      {
       "output_type": "stream",
       "stream": "stdout",
       "text": [
        " \uc2a4\ud3ec\uce20\n",
        "Three Kingdoms: Heroes \uac8c\uc784\n",
        "Three Kingdoms: Heroes"
       ]
      },
      {
       "output_type": "stream",
       "stream": "stdout",
       "text": [
        " \uac74\uac15\n",
        "Three Kingdoms: Heroes"
       ]
      },
      {
       "output_type": "stream",
       "stream": "stdout",
       "text": [
        " \ud559\uc2b5\n",
        "Three Kingdoms: Heroes"
       ]
      },
      {
       "output_type": "stream",
       "stream": "stdout",
       "text": [
        " \ucee4\ubba4\ub2c8\ud2f0\n",
        "BBC News"
       ]
      },
      {
       "output_type": "stream",
       "stream": "stdout",
       "text": [
        " \ubbf8\uc6a9\n",
        "BBC News \uc74c\uc545\n",
        "BBC News"
       ]
      },
      {
       "output_type": "stream",
       "stream": "stdout",
       "text": [
        " \ub9ac\ubdf0\n",
        "BBC News \uc5f0\uc608\n",
        "BBC News"
       ]
      },
      {
       "output_type": "stream",
       "stream": "stdout",
       "text": [
        " \uc74c\uc2dd\n",
        "BBC News \uc2a4\ud3ec\uce20\n",
        "BBC News"
       ]
      },
      {
       "output_type": "stream",
       "stream": "stdout",
       "text": [
        " \uac8c\uc784\n",
        "BBC News \uac74\uac15\n",
        "BBC News"
       ]
      },
      {
       "output_type": "stream",
       "stream": "stdout",
       "text": [
        " \ud559\uc2b5\n",
        "BBC News \ucee4\ubba4\ub2c8\ud2f0\n",
        "\u4e0d\u601d\u8b70\u5fae\u751f\u7269\u30bf\u30de\u30bf\u30de\u7814\u7a76\u6240"
       ]
      },
      {
       "output_type": "stream",
       "stream": "stdout",
       "text": [
        " \ubbf8\uc6a9\n",
        "\u4e0d\u601d\u8b70\u5fae\u751f\u7269\u30bf\u30de\u30bf\u30de\u7814\u7a76\u6240"
       ]
      },
      {
       "output_type": "stream",
       "stream": "stdout",
       "text": [
        " \uc74c\uc545\n",
        "\u4e0d\u601d\u8b70\u5fae\u751f\u7269\u30bf\u30de\u30bf\u30de\u7814\u7a76\u6240"
       ]
      },
      {
       "output_type": "stream",
       "stream": "stdout",
       "text": [
        " \ub9ac\ubdf0\n",
        "\u4e0d\u601d\u8b70\u5fae\u751f\u7269\u30bf\u30de\u30bf\u30de\u7814\u7a76\u6240"
       ]
      },
      {
       "output_type": "stream",
       "stream": "stdout",
       "text": [
        " \uc5f0\uc608\n",
        "\u4e0d\u601d\u8b70\u5fae\u751f\u7269\u30bf\u30de\u30bf\u30de\u7814\u7a76\u6240"
       ]
      },
      {
       "output_type": "stream",
       "stream": "stdout",
       "text": [
        " \uc74c\uc2dd\n",
        "\u4e0d\u601d\u8b70\u5fae\u751f\u7269\u30bf\u30de\u30bf\u30de\u7814\u7a76\u6240"
       ]
      },
      {
       "output_type": "stream",
       "stream": "stdout",
       "text": [
        " \uc2a4\ud3ec\uce20\n",
        "\u4e0d\u601d\u8b70\u5fae\u751f\u7269\u30bf\u30de\u30bf\u30de\u7814\u7a76\u6240"
       ]
      },
      {
       "output_type": "stream",
       "stream": "stdout",
       "text": [
        " \uac8c\uc784\n",
        "\u4e0d\u601d\u8b70\u5fae\u751f\u7269\u30bf\u30de\u30bf\u30de\u7814\u7a76\u6240"
       ]
      },
      {
       "output_type": "stream",
       "stream": "stdout",
       "text": [
        " \uac74\uac15\n",
        "\u4e0d\u601d\u8b70\u5fae\u751f\u7269\u30bf\u30de\u30bf\u30de\u7814\u7a76\u6240"
       ]
      },
      {
       "output_type": "stream",
       "stream": "stdout",
       "text": [
        " \ud559\uc2b5\n",
        "\u4e0d\u601d\u8b70\u5fae\u751f\u7269\u30bf\u30de\u30bf\u30de\u7814\u7a76\u6240"
       ]
      },
      {
       "output_type": "stream",
       "stream": "stdout",
       "text": [
        " \ucee4\ubba4\ub2c8\ud2f0\n",
        "Galatasaray Fantasy Manager'13"
       ]
      },
      {
       "output_type": "stream",
       "stream": "stdout",
       "text": [
        " \ubbf8\uc6a9\n",
        "Galatasaray Fantasy Manager'13 \uc74c\uc545\n",
        "Galatasaray Fantasy Manager'13"
       ]
      },
      {
       "output_type": "stream",
       "stream": "stdout",
       "text": [
        " \ub9ac\ubdf0\n",
        "Galatasaray Fantasy Manager'13"
       ]
      },
      {
       "output_type": "stream",
       "stream": "stdout",
       "text": [
        " \uc5f0\uc608\n",
        "Galatasaray Fantasy Manager'13 \uc74c\uc2dd\n",
        "Galatasaray Fantasy Manager'13"
       ]
      },
      {
       "output_type": "stream",
       "stream": "stdout",
       "text": [
        " \uc2a4\ud3ec\uce20\n",
        "Galatasaray Fantasy Manager'13"
       ]
      },
      {
       "output_type": "stream",
       "stream": "stdout",
       "text": [
        " \uac8c\uc784\n",
        "Galatasaray Fantasy Manager'13"
       ]
      },
      {
       "output_type": "stream",
       "stream": "stdout",
       "text": [
        " \uac74\uac15\n",
        "Galatasaray Fantasy Manager'13"
       ]
      },
      {
       "output_type": "stream",
       "stream": "stdout",
       "text": [
        " \ud559\uc2b5\n",
        "Galatasaray Fantasy Manager'13"
       ]
      },
      {
       "output_type": "stream",
       "stream": "stdout",
       "text": [
        " \ucee4\ubba4\ub2c8\ud2f0\n",
        "Puzzle Retreat"
       ]
      },
      {
       "output_type": "stream",
       "stream": "stdout",
       "text": [
        " \ubbf8\uc6a9\n",
        "Puzzle Retreat \uc74c\uc545\n",
        "Puzzle Retreat"
       ]
      },
      {
       "output_type": "stream",
       "stream": "stdout",
       "text": [
        " \ub9ac\ubdf0\n",
        "Puzzle Retreat"
       ]
      },
      {
       "output_type": "stream",
       "stream": "stdout",
       "text": [
        " \uc5f0\uc608\n",
        "Puzzle Retreat \uc74c\uc2dd\n",
        "Puzzle Retreat"
       ]
      },
      {
       "output_type": "stream",
       "stream": "stdout",
       "text": [
        " \uc2a4\ud3ec\uce20\n",
        "Puzzle Retreat"
       ]
      },
      {
       "output_type": "stream",
       "stream": "stdout",
       "text": [
        " \uac8c\uc784\n",
        "Puzzle Retreat \uac74\uac15\n",
        "Puzzle Retreat"
       ]
      },
      {
       "output_type": "stream",
       "stream": "stdout",
       "text": [
        " \ud559\uc2b5\n",
        "Puzzle Retreat \ucee4\ubba4\ub2c8\ud2f0\n",
        "\ucd95\uad6c \uacbd\uae30 \ud504\ub85c"
       ]
      },
      {
       "output_type": "stream",
       "stream": "stdout",
       "text": [
        " \ubbf8\uc6a9\n",
        "\ucd95\uad6c \uacbd\uae30 \ud504\ub85c"
       ]
      },
      {
       "output_type": "stream",
       "stream": "stdout",
       "text": [
        " \uc74c\uc545\n",
        "\ucd95\uad6c \uacbd\uae30 \ud504\ub85c \ub9ac\ubdf0\n",
        "\ucd95\uad6c \uacbd\uae30 \ud504\ub85c"
       ]
      },
      {
       "output_type": "stream",
       "stream": "stdout",
       "text": [
        " \uc5f0\uc608\n",
        "\ucd95\uad6c \uacbd\uae30 \ud504\ub85c"
       ]
      },
      {
       "output_type": "stream",
       "stream": "stdout",
       "text": [
        " \uc74c\uc2dd\n",
        "\ucd95\uad6c \uacbd\uae30 \ud504\ub85c"
       ]
      },
      {
       "output_type": "stream",
       "stream": "stdout",
       "text": [
        " \uc2a4\ud3ec\uce20\n",
        "\ucd95\uad6c \uacbd\uae30 \ud504\ub85c \uac8c\uc784\n",
        "\ucd95\uad6c \uacbd\uae30 \ud504\ub85c"
       ]
      },
      {
       "output_type": "stream",
       "stream": "stdout",
       "text": [
        " \uac74\uac15\n",
        "\ucd95\uad6c \uacbd\uae30 \ud504\ub85c"
       ]
      },
      {
       "output_type": "stream",
       "stream": "stdout",
       "text": [
        " \ud559\uc2b5\n",
        "\ucd95\uad6c \uacbd\uae30 \ud504\ub85c \ucee4\ubba4\ub2c8\ud2f0\n",
        "Wild Blocks Rush"
       ]
      },
      {
       "output_type": "stream",
       "stream": "stdout",
       "text": [
        " \ubbf8\uc6a9\n",
        "Wild Blocks Rush"
       ]
      },
      {
       "output_type": "stream",
       "stream": "stdout",
       "text": [
        " \uc74c\uc545\n",
        "Wild Blocks Rush"
       ]
      },
      {
       "output_type": "stream",
       "stream": "stdout",
       "text": [
        " \ub9ac\ubdf0\n",
        "Wild Blocks Rush \uc5f0\uc608\n",
        "Wild Blocks Rush"
       ]
      },
      {
       "output_type": "stream",
       "stream": "stdout",
       "text": [
        " \uc74c\uc2dd\n",
        "Wild Blocks Rush"
       ]
      },
      {
       "output_type": "stream",
       "stream": "stdout",
       "text": [
        " \uc2a4\ud3ec\uce20\n",
        "Wild Blocks Rush"
       ]
      },
      {
       "output_type": "stream",
       "stream": "stdout",
       "text": [
        " \uac8c\uc784\n",
        "Wild Blocks Rush"
       ]
      },
      {
       "output_type": "stream",
       "stream": "stdout",
       "text": [
        " \uac74\uac15\n",
        "Wild Blocks Rush \ud559\uc2b5\n",
        "Wild Blocks Rush"
       ]
      },
      {
       "output_type": "stream",
       "stream": "stdout",
       "text": [
        " \ucee4\ubba4\ub2c8\ud2f0\n",
        "\u9a45\u52d5\u57ce\u5e02-\u5373\u6642\u8def\u6cc1,\u52a0\u6cb9,\u505c\u8eca,\u512a\u60e0,\u6551\u63f4"
       ]
      },
      {
       "output_type": "stream",
       "stream": "stdout",
       "text": [
        " \ubbf8\uc6a9\n",
        "\u9a45\u52d5\u57ce\u5e02-\u5373\u6642\u8def\u6cc1,\u52a0\u6cb9,\u505c\u8eca,\u512a\u60e0,\u6551\u63f4"
       ]
      },
      {
       "output_type": "stream",
       "stream": "stdout",
       "text": [
        " \uc74c\uc545\n",
        "\u9a45\u52d5\u57ce\u5e02-\u5373\u6642\u8def\u6cc1,\u52a0\u6cb9,\u505c\u8eca,\u512a\u60e0,\u6551\u63f4"
       ]
      },
      {
       "output_type": "stream",
       "stream": "stdout",
       "text": [
        " \ub9ac\ubdf0\n",
        "\u9a45\u52d5\u57ce\u5e02-\u5373\u6642\u8def\u6cc1,\u52a0\u6cb9,\u505c\u8eca,\u512a\u60e0,\u6551\u63f4"
       ]
      },
      {
       "output_type": "stream",
       "stream": "stdout",
       "text": [
        " \uc5f0\uc608\n",
        "\u9a45\u52d5\u57ce\u5e02-\u5373\u6642\u8def\u6cc1,\u52a0\u6cb9,\u505c\u8eca,\u512a\u60e0,\u6551\u63f4"
       ]
      },
      {
       "output_type": "stream",
       "stream": "stdout",
       "text": [
        " \uc74c\uc2dd\n",
        "\u9a45\u52d5\u57ce\u5e02-\u5373\u6642\u8def\u6cc1,\u52a0\u6cb9,\u505c\u8eca,\u512a\u60e0,\u6551\u63f4 \uc2a4\ud3ec\uce20\n",
        "\u9a45\u52d5\u57ce\u5e02-\u5373\u6642\u8def\u6cc1,\u52a0\u6cb9,\u505c\u8eca,\u512a\u60e0,\u6551\u63f4"
       ]
      },
      {
       "output_type": "stream",
       "stream": "stdout",
       "text": [
        " \uac8c\uc784\n",
        "\u9a45\u52d5\u57ce\u5e02-\u5373\u6642\u8def\u6cc1,\u52a0\u6cb9,\u505c\u8eca,\u512a\u60e0,\u6551\u63f4"
       ]
      },
      {
       "output_type": "stream",
       "stream": "stdout",
       "text": [
        " \uac74\uac15\n",
        "\u9a45\u52d5\u57ce\u5e02-\u5373\u6642\u8def\u6cc1,\u52a0\u6cb9,\u505c\u8eca,\u512a\u60e0,\u6551\u63f4"
       ]
      },
      {
       "output_type": "stream",
       "stream": "stdout",
       "text": [
        " \ud559\uc2b5\n",
        "\u9a45\u52d5\u57ce\u5e02-\u5373\u6642\u8def\u6cc1,\u52a0\u6cb9,\u505c\u8eca,\u512a\u60e0,\u6551\u63f4"
       ]
      },
      {
       "output_type": "stream",
       "stream": "stdout",
       "text": [
        " \ucee4\ubba4\ub2c8\ud2f0\n",
        "FreeTelec T\u00e9l\u00e9c Freebox"
       ]
      },
      {
       "output_type": "stream",
       "stream": "stdout",
       "text": [
        " \ubbf8\uc6a9\n",
        "FreeTelec T\u00e9l\u00e9c Freebox"
       ]
      },
      {
       "output_type": "stream",
       "stream": "stdout",
       "text": [
        " \uc74c\uc545\n",
        "FreeTelec T\u00e9l\u00e9c Freebox"
       ]
      },
      {
       "output_type": "stream",
       "stream": "stdout",
       "text": [
        " \ub9ac\ubdf0\n",
        "FreeTelec T\u00e9l\u00e9c Freebox"
       ]
      },
      {
       "output_type": "stream",
       "stream": "stdout",
       "text": [
        " \uc5f0\uc608\n",
        "FreeTelec T\u00e9l\u00e9c Freebox"
       ]
      },
      {
       "output_type": "stream",
       "stream": "stdout",
       "text": [
        " \uc74c\uc2dd\n",
        "FreeTelec T\u00e9l\u00e9c Freebox \uc2a4\ud3ec\uce20\n",
        "FreeTelec T\u00e9l\u00e9c Freebox"
       ]
      },
      {
       "output_type": "stream",
       "stream": "stdout",
       "text": [
        " \uac8c\uc784\n",
        "FreeTelec T\u00e9l\u00e9c Freebox"
       ]
      },
      {
       "output_type": "stream",
       "stream": "stdout",
       "text": [
        " \uac74\uac15\n",
        "FreeTelec T\u00e9l\u00e9c Freebox"
       ]
      },
      {
       "output_type": "stream",
       "stream": "stdout",
       "text": [
        " \ud559\uc2b5\n",
        "FreeTelec T\u00e9l\u00e9c Freebox \ucee4\ubba4\ub2c8\ud2f0\n",
        "Wacky Duck"
       ]
      },
      {
       "output_type": "stream",
       "stream": "stdout",
       "text": [
        " \ubbf8\uc6a9\n",
        "Wacky Duck"
       ]
      },
      {
       "output_type": "stream",
       "stream": "stdout",
       "text": [
        " \uc74c\uc545\n",
        "Wacky Duck"
       ]
      },
      {
       "output_type": "stream",
       "stream": "stdout",
       "text": [
        " \ub9ac\ubdf0\n",
        "Wacky Duck \uc5f0\uc608\n",
        "Wacky Duck"
       ]
      },
      {
       "output_type": "stream",
       "stream": "stdout",
       "text": [
        " \uc74c\uc2dd\n",
        "Wacky Duck \uc2a4\ud3ec\uce20\n",
        "Wacky Duck"
       ]
      },
      {
       "output_type": "stream",
       "stream": "stdout",
       "text": [
        " \uac8c\uc784\n",
        "Wacky Duck \uac74\uac15\n",
        "Wacky Duck"
       ]
      },
      {
       "output_type": "stream",
       "stream": "stdout",
       "text": [
        " \ud559\uc2b5\n",
        "Wacky Duck"
       ]
      },
      {
       "output_type": "stream",
       "stream": "stdout",
       "text": [
        " \ucee4\ubba4\ub2c8\ud2f0\n",
        "[\uc138\uc774\ud1a1] \ub300\ud654\uac00 \ud544\uc694\ud560 \ub54c - Saytalk \ucc44\ud305"
       ]
      },
      {
       "output_type": "stream",
       "stream": "stdout",
       "text": [
        " \ubbf8\uc6a9\n",
        "[\uc138\uc774\ud1a1] \ub300\ud654\uac00 \ud544\uc694\ud560 \ub54c - Saytalk \ucc44\ud305"
       ]
      },
      {
       "output_type": "stream",
       "stream": "stdout",
       "text": [
        " \uc74c\uc545\n",
        "[\uc138\uc774\ud1a1] \ub300\ud654\uac00 \ud544\uc694\ud560 \ub54c - Saytalk \ucc44\ud305 \ub9ac\ubdf0\n",
        "[\uc138\uc774\ud1a1] \ub300\ud654\uac00 \ud544\uc694\ud560 \ub54c - Saytalk \ucc44\ud305"
       ]
      },
      {
       "output_type": "stream",
       "stream": "stdout",
       "text": [
        " \uc5f0\uc608\n",
        "[\uc138\uc774\ud1a1] \ub300\ud654\uac00 \ud544\uc694\ud560 \ub54c - Saytalk \ucc44\ud305"
       ]
      },
      {
       "output_type": "stream",
       "stream": "stdout",
       "text": [
        " \uc74c\uc2dd\n",
        "[\uc138\uc774\ud1a1] \ub300\ud654\uac00 \ud544\uc694\ud560 \ub54c - Saytalk \ucc44\ud305 \uc2a4\ud3ec\uce20\n",
        "[\uc138\uc774\ud1a1] \ub300\ud654\uac00 \ud544\uc694\ud560 \ub54c - Saytalk \ucc44\ud305"
       ]
      },
      {
       "output_type": "stream",
       "stream": "stdout",
       "text": [
        " \uac8c\uc784\n",
        "[\uc138\uc774\ud1a1] \ub300\ud654\uac00 \ud544\uc694\ud560 \ub54c - Saytalk \ucc44\ud305 \uac74\uac15\n",
        "[\uc138\uc774\ud1a1] \ub300\ud654\uac00 \ud544\uc694\ud560 \ub54c - Saytalk \ucc44\ud305"
       ]
      },
      {
       "output_type": "stream",
       "stream": "stdout",
       "text": [
        " \ud559\uc2b5\n",
        "[\uc138\uc774\ud1a1] \ub300\ud654\uac00 \ud544\uc694\ud560 \ub54c - Saytalk \ucc44\ud305 \ucee4\ubba4\ub2c8\ud2f0\n",
        "Iron Reactor Widget"
       ]
      },
      {
       "output_type": "stream",
       "stream": "stdout",
       "text": [
        " \ubbf8\uc6a9\n",
        "Iron Reactor Widget"
       ]
      },
      {
       "output_type": "stream",
       "stream": "stdout",
       "text": [
        " \uc74c\uc545\n",
        "Iron Reactor Widget"
       ]
      },
      {
       "output_type": "stream",
       "stream": "stdout",
       "text": [
        " \ub9ac\ubdf0\n",
        "Iron Reactor Widget"
       ]
      },
      {
       "output_type": "stream",
       "stream": "stdout",
       "text": [
        " \uc5f0\uc608\n",
        "Iron Reactor Widget"
       ]
      },
      {
       "output_type": "stream",
       "stream": "stdout",
       "text": [
        " \uc74c\uc2dd\n",
        "Iron Reactor Widget"
       ]
      },
      {
       "output_type": "stream",
       "stream": "stdout",
       "text": [
        " \uc2a4\ud3ec\uce20\n",
        "Iron Reactor Widget"
       ]
      },
      {
       "output_type": "stream",
       "stream": "stdout",
       "text": [
        " \uac8c\uc784\n",
        "Iron Reactor Widget"
       ]
      },
      {
       "output_type": "stream",
       "stream": "stdout",
       "text": [
        " \uac74\uac15\n",
        "Iron Reactor Widget"
       ]
      },
      {
       "output_type": "stream",
       "stream": "stdout",
       "text": [
        " \ud559\uc2b5\n",
        "Iron Reactor Widget"
       ]
      },
      {
       "output_type": "stream",
       "stream": "stdout",
       "text": [
        " \ucee4\ubba4\ub2c8\ud2f0\n",
        "MySafeApp \uc228\uae30\uae30 \uc0ac\uc9c4 \ubc0f \ub3d9\uc601\uc0c1"
       ]
      },
      {
       "output_type": "stream",
       "stream": "stdout",
       "text": [
        " \ubbf8\uc6a9\n",
        "MySafeApp \uc228\uae30\uae30 \uc0ac\uc9c4 \ubc0f \ub3d9\uc601\uc0c1"
       ]
      },
      {
       "output_type": "stream",
       "stream": "stdout",
       "text": [
        " \uc74c\uc545\n",
        "MySafeApp \uc228\uae30\uae30 \uc0ac\uc9c4 \ubc0f \ub3d9\uc601\uc0c1"
       ]
      },
      {
       "output_type": "stream",
       "stream": "stdout",
       "text": [
        " \ub9ac\ubdf0\n",
        "MySafeApp \uc228\uae30\uae30 \uc0ac\uc9c4 \ubc0f \ub3d9\uc601\uc0c1"
       ]
      },
      {
       "output_type": "stream",
       "stream": "stdout",
       "text": [
        " \uc5f0\uc608\n",
        "MySafeApp \uc228\uae30\uae30 \uc0ac\uc9c4 \ubc0f \ub3d9\uc601\uc0c1"
       ]
      },
      {
       "output_type": "stream",
       "stream": "stdout",
       "text": [
        " \uc74c\uc2dd\n",
        "MySafeApp \uc228\uae30\uae30 \uc0ac\uc9c4 \ubc0f \ub3d9\uc601\uc0c1 \uc2a4\ud3ec\uce20\n",
        "MySafeApp \uc228\uae30\uae30 \uc0ac\uc9c4 \ubc0f \ub3d9\uc601\uc0c1"
       ]
      },
      {
       "output_type": "stream",
       "stream": "stdout",
       "text": [
        " \uac8c\uc784\n",
        "MySafeApp \uc228\uae30\uae30 \uc0ac\uc9c4 \ubc0f \ub3d9\uc601\uc0c1 \uac74\uac15\n",
        "MySafeApp \uc228\uae30\uae30 \uc0ac\uc9c4 \ubc0f \ub3d9\uc601\uc0c1"
       ]
      },
      {
       "output_type": "stream",
       "stream": "stdout",
       "text": [
        " \ud559\uc2b5\n",
        "MySafeApp \uc228\uae30\uae30 \uc0ac\uc9c4 \ubc0f \ub3d9\uc601\uc0c1"
       ]
      },
      {
       "output_type": "stream",
       "stream": "stdout",
       "text": [
        " \ucee4\ubba4\ub2c8\ud2f0\n",
        "Stamp sticker TextCutie"
       ]
      },
      {
       "output_type": "stream",
       "stream": "stdout",
       "text": [
        " \ubbf8\uc6a9\n",
        "Stamp sticker TextCutie \uc74c\uc545\n",
        "Stamp sticker TextCutie"
       ]
      },
      {
       "output_type": "stream",
       "stream": "stdout",
       "text": [
        " \ub9ac\ubdf0\n",
        "Stamp sticker TextCutie"
       ]
      },
      {
       "output_type": "stream",
       "stream": "stdout",
       "text": [
        " \uc5f0\uc608\n",
        "Stamp sticker TextCutie"
       ]
      },
      {
       "output_type": "stream",
       "stream": "stdout",
       "text": [
        " \uc74c\uc2dd\n",
        "Stamp sticker TextCutie"
       ]
      },
      {
       "output_type": "stream",
       "stream": "stdout",
       "text": [
        " \uc2a4\ud3ec\uce20\n",
        "Stamp sticker TextCutie"
       ]
      },
      {
       "output_type": "stream",
       "stream": "stdout",
       "text": [
        " \uac8c\uc784\n",
        "Stamp sticker TextCutie"
       ]
      },
      {
       "output_type": "stream",
       "stream": "stdout",
       "text": [
        " \uac74\uac15\n",
        "Stamp sticker TextCutie"
       ]
      },
      {
       "output_type": "stream",
       "stream": "stdout",
       "text": [
        " \ud559\uc2b5\n",
        "Stamp sticker TextCutie"
       ]
      },
      {
       "output_type": "stream",
       "stream": "stdout",
       "text": [
        " \ucee4\ubba4\ub2c8\ud2f0\n",
        "I Smell Brains"
       ]
      },
      {
       "output_type": "stream",
       "stream": "stdout",
       "text": [
        " \ubbf8\uc6a9\n",
        "I Smell Brains"
       ]
      },
      {
       "output_type": "stream",
       "stream": "stdout",
       "text": [
        " \uc74c\uc545\n",
        "I Smell Brains"
       ]
      },
      {
       "output_type": "stream",
       "stream": "stdout",
       "text": [
        " \ub9ac\ubdf0\n",
        "I Smell Brains"
       ]
      },
      {
       "output_type": "stream",
       "stream": "stdout",
       "text": [
        " \uc5f0\uc608\n",
        "I Smell Brains"
       ]
      },
      {
       "output_type": "stream",
       "stream": "stdout",
       "text": [
        " \uc74c\uc2dd\n",
        "I Smell Brains"
       ]
      },
      {
       "output_type": "stream",
       "stream": "stdout",
       "text": [
        " \uc2a4\ud3ec\uce20\n",
        "I Smell Brains"
       ]
      },
      {
       "output_type": "stream",
       "stream": "stdout",
       "text": [
        " \uac8c\uc784\n",
        "I Smell Brains"
       ]
      },
      {
       "output_type": "stream",
       "stream": "stdout",
       "text": [
        " \uac74\uac15\n",
        "I Smell Brains"
       ]
      },
      {
       "output_type": "stream",
       "stream": "stdout",
       "text": [
        " \ud559\uc2b5\n",
        "I Smell Brains"
       ]
      },
      {
       "output_type": "stream",
       "stream": "stdout",
       "text": [
        " \ucee4\ubba4\ub2c8\ud2f0\n",
        "\ud06c\ub808\uc774\uc9c0 \uacbd\uc801"
       ]
      },
      {
       "output_type": "stream",
       "stream": "stdout",
       "text": [
        " \ubbf8\uc6a9\n",
        "\ud06c\ub808\uc774\uc9c0 \uacbd\uc801"
       ]
      },
      {
       "output_type": "stream",
       "stream": "stdout",
       "text": [
        " \uc74c\uc545\n",
        "\ud06c\ub808\uc774\uc9c0 \uacbd\uc801"
       ]
      },
      {
       "output_type": "stream",
       "stream": "stdout",
       "text": [
        " \ub9ac\ubdf0\n",
        "\ud06c\ub808\uc774\uc9c0 \uacbd\uc801"
       ]
      },
      {
       "output_type": "stream",
       "stream": "stdout",
       "text": [
        " \uc5f0\uc608\n",
        "\ud06c\ub808\uc774\uc9c0 \uacbd\uc801"
       ]
      },
      {
       "output_type": "stream",
       "stream": "stdout",
       "text": [
        " \uc74c\uc2dd\n",
        "\ud06c\ub808\uc774\uc9c0 \uacbd\uc801"
       ]
      },
      {
       "output_type": "stream",
       "stream": "stdout",
       "text": [
        " \uc2a4\ud3ec\uce20\n",
        "\ud06c\ub808\uc774\uc9c0 \uacbd\uc801"
       ]
      },
      {
       "output_type": "stream",
       "stream": "stdout",
       "text": [
        " \uac8c\uc784\n",
        "\ud06c\ub808\uc774\uc9c0 \uacbd\uc801 \uac74\uac15\n",
        "\ud06c\ub808\uc774\uc9c0 \uacbd\uc801"
       ]
      },
      {
       "output_type": "stream",
       "stream": "stdout",
       "text": [
        " \ud559\uc2b5\n",
        "\ud06c\ub808\uc774\uc9c0 \uacbd\uc801"
       ]
      },
      {
       "output_type": "stream",
       "stream": "stdout",
       "text": [
        " \ucee4\ubba4\ub2c8\ud2f0\n",
        "\uc804\ub798\ub3d9\uc694 \ubc8c\uc544\ubc8c\uc544"
       ]
      },
      {
       "output_type": "stream",
       "stream": "stdout",
       "text": [
        " \ubbf8\uc6a9\n",
        "\uc804\ub798\ub3d9\uc694 \ubc8c\uc544\ubc8c\uc544"
       ]
      },
      {
       "output_type": "stream",
       "stream": "stdout",
       "text": [
        " \uc74c\uc545\n",
        "\uc804\ub798\ub3d9\uc694 \ubc8c\uc544\ubc8c\uc544"
       ]
      },
      {
       "output_type": "stream",
       "stream": "stdout",
       "text": [
        " \ub9ac\ubdf0\n",
        "\uc804\ub798\ub3d9\uc694 \ubc8c\uc544\ubc8c\uc544 \uc5f0\uc608\n",
        "\uc804\ub798\ub3d9\uc694 \ubc8c\uc544\ubc8c\uc544"
       ]
      },
      {
       "output_type": "stream",
       "stream": "stdout",
       "text": [
        " \uc74c\uc2dd\n",
        "\uc804\ub798\ub3d9\uc694 \ubc8c\uc544\ubc8c\uc544"
       ]
      },
      {
       "output_type": "stream",
       "stream": "stdout",
       "text": [
        " \uc2a4\ud3ec\uce20\n",
        "\uc804\ub798\ub3d9\uc694 \ubc8c\uc544\ubc8c\uc544"
       ]
      },
      {
       "output_type": "stream",
       "stream": "stdout",
       "text": [
        " \uac8c\uc784\n",
        "\uc804\ub798\ub3d9\uc694 \ubc8c\uc544\ubc8c\uc544"
       ]
      },
      {
       "output_type": "stream",
       "stream": "stdout",
       "text": [
        " \uac74\uac15\n",
        "\uc804\ub798\ub3d9\uc694 \ubc8c\uc544\ubc8c\uc544"
       ]
      },
      {
       "output_type": "stream",
       "stream": "stdout",
       "text": [
        " \ud559\uc2b5\n",
        "\uc804\ub798\ub3d9\uc694 \ubc8c\uc544\ubc8c\uc544"
       ]
      },
      {
       "output_type": "stream",
       "stream": "stdout",
       "text": [
        " \ucee4\ubba4\ub2c8\ud2f0\n",
        "\ub85c\ub610 \ub300\ubc15\ub098\uae30"
       ]
      },
      {
       "output_type": "stream",
       "stream": "stdout",
       "text": [
        " \ubbf8\uc6a9\n",
        "\ub85c\ub610 \ub300\ubc15\ub098\uae30"
       ]
      },
      {
       "output_type": "stream",
       "stream": "stdout",
       "text": [
        " \uc74c\uc545\n",
        "\ub85c\ub610 \ub300\ubc15\ub098\uae30"
       ]
      },
      {
       "output_type": "stream",
       "stream": "stdout",
       "text": [
        " \ub9ac\ubdf0\n",
        "\ub85c\ub610 \ub300\ubc15\ub098\uae30 \uc5f0\uc608\n",
        "\ub85c\ub610 \ub300\ubc15\ub098\uae30"
       ]
      },
      {
       "output_type": "stream",
       "stream": "stdout",
       "text": [
        " \uc74c\uc2dd\n",
        "\ub85c\ub610 \ub300\ubc15\ub098\uae30"
       ]
      },
      {
       "output_type": "stream",
       "stream": "stdout",
       "text": [
        " \uc2a4\ud3ec\uce20\n",
        "\ub85c\ub610 \ub300\ubc15\ub098\uae30"
       ]
      },
      {
       "output_type": "stream",
       "stream": "stdout",
       "text": [
        " \uac8c\uc784\n",
        "\ub85c\ub610 \ub300\ubc15\ub098\uae30"
       ]
      },
      {
       "output_type": "stream",
       "stream": "stdout",
       "text": [
        " \uac74\uac15\n",
        "\ub85c\ub610 \ub300\ubc15\ub098\uae30"
       ]
      },
      {
       "output_type": "stream",
       "stream": "stdout",
       "text": [
        " \ud559\uc2b5\n",
        "\ub85c\ub610 \ub300\ubc15\ub098\uae30"
       ]
      },
      {
       "output_type": "stream",
       "stream": "stdout",
       "text": [
        " \ucee4\ubba4\ub2c8\ud2f0\n",
        "KIDS SONG MACHINE 2 FREE"
       ]
      },
      {
       "output_type": "stream",
       "stream": "stdout",
       "text": [
        " \ubbf8\uc6a9\n",
        "KIDS SONG MACHINE 2 FREE \uc74c\uc545\n",
        "KIDS SONG MACHINE 2 FREE"
       ]
      },
      {
       "output_type": "stream",
       "stream": "stdout",
       "text": [
        " \ub9ac\ubdf0\n",
        "KIDS SONG MACHINE 2 FREE"
       ]
      },
      {
       "output_type": "stream",
       "stream": "stdout",
       "text": [
        " \uc5f0\uc608\n",
        "KIDS SONG MACHINE 2 FREE \uc74c\uc2dd\n",
        "KIDS SONG MACHINE 2 FREE"
       ]
      },
      {
       "output_type": "stream",
       "stream": "stdout",
       "text": [
        " \uc2a4\ud3ec\uce20\n",
        "KIDS SONG MACHINE 2 FREE"
       ]
      },
      {
       "output_type": "stream",
       "stream": "stdout",
       "text": [
        " \uac8c\uc784\n",
        "KIDS SONG MACHINE 2 FREE"
       ]
      },
      {
       "output_type": "stream",
       "stream": "stdout",
       "text": [
        " \uac74\uac15\n",
        "KIDS SONG MACHINE 2 FREE"
       ]
      },
      {
       "output_type": "stream",
       "stream": "stdout",
       "text": [
        " \ud559\uc2b5\n",
        "KIDS SONG MACHINE 2 FREE"
       ]
      },
      {
       "output_type": "stream",
       "stream": "stdout",
       "text": [
        " \ucee4\ubba4\ub2c8\ud2f0\n",
        "\ub4dc\ub9bc \ud648"
       ]
      },
      {
       "output_type": "stream",
       "stream": "stdout",
       "text": [
        " \ubbf8\uc6a9\n",
        "\ub4dc\ub9bc \ud648"
       ]
      },
      {
       "output_type": "stream",
       "stream": "stdout",
       "text": [
        " \uc74c\uc545\n",
        "\ub4dc\ub9bc \ud648"
       ]
      },
      {
       "output_type": "stream",
       "stream": "stdout",
       "text": [
        " \ub9ac\ubdf0\n",
        "\ub4dc\ub9bc \ud648"
       ]
      },
      {
       "output_type": "stream",
       "stream": "stdout",
       "text": [
        " \uc5f0\uc608\n",
        "\ub4dc\ub9bc \ud648 \uc74c\uc2dd\n",
        "\ub4dc\ub9bc \ud648"
       ]
      },
      {
       "output_type": "stream",
       "stream": "stdout",
       "text": [
        " \uc2a4\ud3ec\uce20\n",
        "\ub4dc\ub9bc \ud648"
       ]
      },
      {
       "output_type": "stream",
       "stream": "stdout",
       "text": [
        " \uac8c\uc784\n",
        "\ub4dc\ub9bc \ud648"
       ]
      },
      {
       "output_type": "stream",
       "stream": "stdout",
       "text": [
        " \uac74\uac15\n",
        "\ub4dc\ub9bc \ud648"
       ]
      },
      {
       "output_type": "stream",
       "stream": "stdout",
       "text": [
        " \ud559\uc2b5\n",
        "\ub4dc\ub9bc \ud648"
       ]
      },
      {
       "output_type": "stream",
       "stream": "stdout",
       "text": [
        " \ucee4\ubba4\ub2c8\ud2f0\n",
        "\uc5d0\uc774\uc9c0 \uc624\ube0c \uac13: \uc544\uae30\uc790\uae30\ud55c \uce74\ub4dc\ubc30\ud2c0"
       ]
      },
      {
       "output_type": "stream",
       "stream": "stdout",
       "text": [
        " \ubbf8\uc6a9\n",
        "\uc5d0\uc774\uc9c0 \uc624\ube0c \uac13: \uc544\uae30\uc790\uae30\ud55c \uce74\ub4dc\ubc30\ud2c0"
       ]
      },
      {
       "output_type": "stream",
       "stream": "stdout",
       "text": [
        " \uc74c\uc545\n",
        "\uc5d0\uc774\uc9c0 \uc624\ube0c \uac13: \uc544\uae30\uc790\uae30\ud55c \uce74\ub4dc\ubc30\ud2c0"
       ]
      },
      {
       "output_type": "stream",
       "stream": "stdout",
       "text": [
        " \ub9ac\ubdf0\n",
        "\uc5d0\uc774\uc9c0 \uc624\ube0c \uac13: \uc544\uae30\uc790\uae30\ud55c \uce74\ub4dc\ubc30\ud2c0"
       ]
      },
      {
       "output_type": "stream",
       "stream": "stdout",
       "text": [
        " \uc5f0\uc608\n",
        "\uc5d0\uc774\uc9c0 \uc624\ube0c \uac13: \uc544\uae30\uc790\uae30\ud55c \uce74\ub4dc\ubc30\ud2c0 \uc74c\uc2dd\n",
        "\uc5d0\uc774\uc9c0 \uc624\ube0c \uac13: \uc544\uae30\uc790\uae30\ud55c \uce74\ub4dc\ubc30\ud2c0"
       ]
      },
      {
       "output_type": "stream",
       "stream": "stdout",
       "text": [
        " \uc2a4\ud3ec\uce20\n",
        "\uc5d0\uc774\uc9c0 \uc624\ube0c \uac13: \uc544\uae30\uc790\uae30\ud55c \uce74\ub4dc\ubc30\ud2c0 \uac8c\uc784\n",
        "\uc5d0\uc774\uc9c0 \uc624\ube0c \uac13: \uc544\uae30\uc790\uae30\ud55c \uce74\ub4dc\ubc30\ud2c0"
       ]
      },
      {
       "output_type": "stream",
       "stream": "stdout",
       "text": [
        " \uac74\uac15\n",
        "\uc5d0\uc774\uc9c0 \uc624\ube0c \uac13: \uc544\uae30\uc790\uae30\ud55c \uce74\ub4dc\ubc30\ud2c0"
       ]
      },
      {
       "output_type": "stream",
       "stream": "stdout",
       "text": [
        " \ud559\uc2b5\n",
        "\uc5d0\uc774\uc9c0 \uc624\ube0c \uac13: \uc544\uae30\uc790\uae30\ud55c \uce74\ub4dc\ubc30\ud2c0"
       ]
      },
      {
       "output_type": "stream",
       "stream": "stdout",
       "text": [
        " \ucee4\ubba4\ub2c8\ud2f0\n",
        "Shadow Galaxy"
       ]
      },
      {
       "output_type": "stream",
       "stream": "stdout",
       "text": [
        " \ubbf8\uc6a9\n",
        "Shadow Galaxy"
       ]
      },
      {
       "output_type": "stream",
       "stream": "stdout",
       "text": [
        " \uc74c\uc545\n",
        "Shadow Galaxy"
       ]
      },
      {
       "output_type": "stream",
       "stream": "stdout",
       "text": [
        " \ub9ac\ubdf0\n",
        "Shadow Galaxy"
       ]
      },
      {
       "output_type": "stream",
       "stream": "stdout",
       "text": [
        " \uc5f0\uc608\n",
        "Shadow Galaxy"
       ]
      },
      {
       "output_type": "stream",
       "stream": "stdout",
       "text": [
        " \uc74c\uc2dd\n",
        "Shadow Galaxy"
       ]
      },
      {
       "output_type": "stream",
       "stream": "stdout",
       "text": [
        " \uc2a4\ud3ec\uce20\n",
        "Shadow Galaxy \uac8c\uc784\n",
        "Shadow Galaxy"
       ]
      },
      {
       "output_type": "stream",
       "stream": "stdout",
       "text": [
        " \uac74\uac15\n",
        "Shadow Galaxy"
       ]
      },
      {
       "output_type": "stream",
       "stream": "stdout",
       "text": [
        " \ud559\uc2b5\n",
        "Shadow Galaxy"
       ]
      },
      {
       "output_type": "stream",
       "stream": "stdout",
       "text": [
        " \ucee4\ubba4\ub2c8\ud2f0\n",
        "\uc0ac\uc9c4 \uc7ac\ubbf8 - \uc7ac\ubbf8 \uac24\ub7ec\ub9ac \uc791\uc131\uae30"
       ]
      },
      {
       "output_type": "stream",
       "stream": "stdout",
       "text": [
        " \ubbf8\uc6a9\n",
        "\uc0ac\uc9c4 \uc7ac\ubbf8 - \uc7ac\ubbf8 \uac24\ub7ec\ub9ac \uc791\uc131\uae30"
       ]
      },
      {
       "output_type": "stream",
       "stream": "stdout",
       "text": [
        " \uc74c\uc545\n",
        "\uc0ac\uc9c4 \uc7ac\ubbf8 - \uc7ac\ubbf8 \uac24\ub7ec\ub9ac \uc791\uc131\uae30 \ub9ac\ubdf0\n",
        "\uc0ac\uc9c4 \uc7ac\ubbf8 - \uc7ac\ubbf8 \uac24\ub7ec\ub9ac \uc791\uc131\uae30"
       ]
      },
      {
       "output_type": "stream",
       "stream": "stdout",
       "text": [
        " \uc5f0\uc608\n",
        "\uc0ac\uc9c4 \uc7ac\ubbf8 - \uc7ac\ubbf8 \uac24\ub7ec\ub9ac \uc791\uc131\uae30"
       ]
      },
      {
       "output_type": "stream",
       "stream": "stdout",
       "text": [
        " \uc74c\uc2dd\n",
        "\uc0ac\uc9c4 \uc7ac\ubbf8 - \uc7ac\ubbf8 \uac24\ub7ec\ub9ac \uc791\uc131\uae30"
       ]
      },
      {
       "output_type": "stream",
       "stream": "stdout",
       "text": [
        " \uc2a4\ud3ec\uce20\n",
        "\uc0ac\uc9c4 \uc7ac\ubbf8 - \uc7ac\ubbf8 \uac24\ub7ec\ub9ac \uc791\uc131\uae30"
       ]
      },
      {
       "output_type": "stream",
       "stream": "stdout",
       "text": [
        " \uac8c\uc784\n",
        "\uc0ac\uc9c4 \uc7ac\ubbf8 - \uc7ac\ubbf8 \uac24\ub7ec\ub9ac \uc791\uc131\uae30"
       ]
      },
      {
       "output_type": "stream",
       "stream": "stdout",
       "text": [
        " \uac74\uac15\n",
        "\uc0ac\uc9c4 \uc7ac\ubbf8 - \uc7ac\ubbf8 \uac24\ub7ec\ub9ac \uc791\uc131\uae30"
       ]
      },
      {
       "output_type": "stream",
       "stream": "stdout",
       "text": [
        " \ud559\uc2b5\n",
        "\uc0ac\uc9c4 \uc7ac\ubbf8 - \uc7ac\ubbf8 \uac24\ub7ec\ub9ac \uc791\uc131\uae30 \ucee4\ubba4\ub2c8\ud2f0\n",
        "MMDA for Android\u2122"
       ]
      },
      {
       "output_type": "stream",
       "stream": "stdout",
       "text": [
        " \ubbf8\uc6a9\n",
        "MMDA for Android\u2122"
       ]
      },
      {
       "output_type": "stream",
       "stream": "stdout",
       "text": [
        " \uc74c\uc545\n",
        "MMDA for Android\u2122"
       ]
      },
      {
       "output_type": "stream",
       "stream": "stdout",
       "text": [
        " \ub9ac\ubdf0\n",
        "MMDA for Android\u2122"
       ]
      },
      {
       "output_type": "stream",
       "stream": "stdout",
       "text": [
        " \uc5f0\uc608\n",
        "MMDA for Android\u2122"
       ]
      },
      {
       "output_type": "stream",
       "stream": "stdout",
       "text": [
        " \uc74c\uc2dd\n",
        "MMDA for Android\u2122"
       ]
      },
      {
       "output_type": "stream",
       "stream": "stdout",
       "text": [
        " \uc2a4\ud3ec\uce20\n",
        "MMDA for Android\u2122"
       ]
      },
      {
       "output_type": "stream",
       "stream": "stdout",
       "text": [
        " \uac8c\uc784\n",
        "MMDA for Android\u2122"
       ]
      },
      {
       "output_type": "stream",
       "stream": "stdout",
       "text": [
        " \uac74\uac15\n",
        "MMDA for Android\u2122"
       ]
      },
      {
       "output_type": "stream",
       "stream": "stdout",
       "text": [
        " \ud559\uc2b5\n",
        "MMDA for Android\u2122"
       ]
      },
      {
       "output_type": "stream",
       "stream": "stdout",
       "text": [
        " \ucee4\ubba4\ub2c8\ud2f0\n",
        "\ud380\uce90\uc2a4\ud2b8 - \ucd5c\uace0\uc758 \ud31f\uce90\uc2a4\ud2b8"
       ]
      },
      {
       "output_type": "stream",
       "stream": "stdout",
       "text": [
        " \ubbf8\uc6a9\n",
        "\ud380\uce90\uc2a4\ud2b8 - \ucd5c\uace0\uc758 \ud31f\uce90\uc2a4\ud2b8"
       ]
      },
      {
       "output_type": "stream",
       "stream": "stdout",
       "text": [
        " \uc74c\uc545\n",
        "\ud380\uce90\uc2a4\ud2b8 - \ucd5c\uace0\uc758 \ud31f\uce90\uc2a4\ud2b8"
       ]
      },
      {
       "output_type": "stream",
       "stream": "stdout",
       "text": [
        " \ub9ac\ubdf0\n",
        "\ud380\uce90\uc2a4\ud2b8 - \ucd5c\uace0\uc758 \ud31f\uce90\uc2a4\ud2b8"
       ]
      },
      {
       "output_type": "stream",
       "stream": "stdout",
       "text": [
        " \uc5f0\uc608\n",
        "\ud380\uce90\uc2a4\ud2b8 - \ucd5c\uace0\uc758 \ud31f\uce90\uc2a4\ud2b8"
       ]
      },
      {
       "output_type": "stream",
       "stream": "stdout",
       "text": [
        " \uc74c\uc2dd\n",
        "\ud380\uce90\uc2a4\ud2b8 - \ucd5c\uace0\uc758 \ud31f\uce90\uc2a4\ud2b8"
       ]
      },
      {
       "output_type": "stream",
       "stream": "stdout",
       "text": [
        " \uc2a4\ud3ec\uce20\n",
        "\ud380\uce90\uc2a4\ud2b8 - \ucd5c\uace0\uc758 \ud31f\uce90\uc2a4\ud2b8"
       ]
      },
      {
       "output_type": "stream",
       "stream": "stdout",
       "text": [
        " \uac8c\uc784\n",
        "\ud380\uce90\uc2a4\ud2b8 - \ucd5c\uace0\uc758 \ud31f\uce90\uc2a4\ud2b8 \uac74\uac15\n",
        "\ud380\uce90\uc2a4\ud2b8 - \ucd5c\uace0\uc758 \ud31f\uce90\uc2a4\ud2b8"
       ]
      },
      {
       "output_type": "stream",
       "stream": "stdout",
       "text": [
        " \ud559\uc2b5\n",
        "\ud380\uce90\uc2a4\ud2b8 - \ucd5c\uace0\uc758 \ud31f\uce90\uc2a4\ud2b8"
       ]
      },
      {
       "output_type": "stream",
       "stream": "stdout",
       "text": [
        " \ucee4\ubba4\ub2c8\ud2f0\n",
        "\ub450\ub1cc\uac74\uac15 \ud328\ud134\uc554\uae302"
       ]
      },
      {
       "output_type": "stream",
       "stream": "stdout",
       "text": [
        " \ubbf8\uc6a9\n",
        "\ub450\ub1cc\uac74\uac15 \ud328\ud134\uc554\uae302"
       ]
      },
      {
       "output_type": "stream",
       "stream": "stdout",
       "text": [
        " \uc74c\uc545\n",
        "\ub450\ub1cc\uac74\uac15 \ud328\ud134\uc554\uae302"
       ]
      },
      {
       "output_type": "stream",
       "stream": "stdout",
       "text": [
        " \ub9ac\ubdf0\n",
        "\ub450\ub1cc\uac74\uac15 \ud328\ud134\uc554\uae302"
       ]
      },
      {
       "output_type": "stream",
       "stream": "stdout",
       "text": [
        " \uc5f0\uc608\n",
        "\ub450\ub1cc\uac74\uac15 \ud328\ud134\uc554\uae302"
       ]
      },
      {
       "output_type": "stream",
       "stream": "stdout",
       "text": [
        " \uc74c\uc2dd\n",
        "\ub450\ub1cc\uac74\uac15 \ud328\ud134\uc554\uae302 \uc2a4\ud3ec\uce20\n",
        "\ub450\ub1cc\uac74\uac15 \ud328\ud134\uc554\uae302"
       ]
      },
      {
       "output_type": "stream",
       "stream": "stdout",
       "text": [
        " \uac8c\uc784\n",
        "\ub450\ub1cc\uac74\uac15 \ud328\ud134\uc554\uae302"
       ]
      },
      {
       "output_type": "stream",
       "stream": "stdout",
       "text": [
        " \uac74\uac15\n",
        "\ub450\ub1cc\uac74\uac15 \ud328\ud134\uc554\uae302"
       ]
      },
      {
       "output_type": "stream",
       "stream": "stdout",
       "text": [
        " \ud559\uc2b5\n",
        "\ub450\ub1cc\uac74\uac15 \ud328\ud134\uc554\uae302"
       ]
      },
      {
       "output_type": "stream",
       "stream": "stdout",
       "text": [
        " \ucee4\ubba4\ub2c8\ud2f0\n",
        "Thai Livescore"
       ]
      },
      {
       "output_type": "stream",
       "stream": "stdout",
       "text": [
        " \ubbf8\uc6a9\n",
        "Thai Livescore"
       ]
      },
      {
       "output_type": "stream",
       "stream": "stdout",
       "text": [
        " \uc74c\uc545\n",
        "Thai Livescore \ub9ac\ubdf0\n",
        "Thai Livescore"
       ]
      },
      {
       "output_type": "stream",
       "stream": "stdout",
       "text": [
        " \uc5f0\uc608\n",
        "Thai Livescore"
       ]
      },
      {
       "output_type": "stream",
       "stream": "stdout",
       "text": [
        " \uc74c\uc2dd\n",
        "Thai Livescore"
       ]
      },
      {
       "output_type": "stream",
       "stream": "stdout",
       "text": [
        " \uc2a4\ud3ec\uce20\n",
        "Thai Livescore"
       ]
      },
      {
       "output_type": "stream",
       "stream": "stdout",
       "text": [
        " \uac8c\uc784\n",
        "Thai Livescore"
       ]
      },
      {
       "output_type": "stream",
       "stream": "stdout",
       "text": [
        " \uac74\uac15\n",
        "Thai Livescore"
       ]
      },
      {
       "output_type": "stream",
       "stream": "stdout",
       "text": [
        " \ud559\uc2b5\n",
        "Thai Livescore \ucee4\ubba4\ub2c8\ud2f0\n",
        "\u6dfa\u7da0\u5c0f\u8aaa\u96c6\uff08\u7e41\u9ad4\u7248\uff09"
       ]
      },
      {
       "output_type": "stream",
       "stream": "stdout",
       "text": [
        " \ubbf8\uc6a9\n",
        "\u6dfa\u7da0\u5c0f\u8aaa\u96c6\uff08\u7e41\u9ad4\u7248\uff09"
       ]
      },
      {
       "output_type": "stream",
       "stream": "stdout",
       "text": [
        " \uc74c\uc545\n",
        "\u6dfa\u7da0\u5c0f\u8aaa\u96c6\uff08\u7e41\u9ad4\u7248\uff09"
       ]
      },
      {
       "output_type": "stream",
       "stream": "stdout",
       "text": [
        " \ub9ac\ubdf0\n",
        "\u6dfa\u7da0\u5c0f\u8aaa\u96c6\uff08\u7e41\u9ad4\u7248\uff09"
       ]
      },
      {
       "output_type": "stream",
       "stream": "stdout",
       "text": [
        " \uc5f0\uc608\n",
        "\u6dfa\u7da0\u5c0f\u8aaa\u96c6\uff08\u7e41\u9ad4\u7248\uff09"
       ]
      },
      {
       "output_type": "stream",
       "stream": "stdout",
       "text": [
        " \uc74c\uc2dd\n",
        "\u6dfa\u7da0\u5c0f\u8aaa\u96c6\uff08\u7e41\u9ad4\u7248\uff09"
       ]
      },
      {
       "output_type": "stream",
       "stream": "stdout",
       "text": [
        " \uc2a4\ud3ec\uce20\n",
        "\u6dfa\u7da0\u5c0f\u8aaa\u96c6\uff08\u7e41\u9ad4\u7248\uff09"
       ]
      },
      {
       "output_type": "stream",
       "stream": "stdout",
       "text": [
        " \uac8c\uc784\n",
        "\u6dfa\u7da0\u5c0f\u8aaa\u96c6\uff08\u7e41\u9ad4\u7248\uff09"
       ]
      },
      {
       "output_type": "stream",
       "stream": "stdout",
       "text": [
        " \uac74\uac15\n",
        "\u6dfa\u7da0\u5c0f\u8aaa\u96c6\uff08\u7e41\u9ad4\u7248\uff09"
       ]
      },
      {
       "output_type": "stream",
       "stream": "stdout",
       "text": [
        " \ud559\uc2b5\n",
        "\u6dfa\u7da0\u5c0f\u8aaa\u96c6\uff08\u7e41\u9ad4\u7248\uff09"
       ]
      },
      {
       "output_type": "stream",
       "stream": "stdout",
       "text": [
        " \ucee4\ubba4\ub2c8\ud2f0\n",
        "Elements Battle"
       ]
      },
      {
       "output_type": "stream",
       "stream": "stdout",
       "text": [
        " \ubbf8\uc6a9\n",
        "Elements Battle \uc74c\uc545\n",
        "Elements Battle"
       ]
      },
      {
       "output_type": "stream",
       "stream": "stdout",
       "text": [
        " \ub9ac\ubdf0\n",
        "Elements Battle"
       ]
      },
      {
       "output_type": "stream",
       "stream": "stdout",
       "text": [
        " \uc5f0\uc608\n",
        "Elements Battle \uc74c\uc2dd\n",
        "Elements Battle"
       ]
      },
      {
       "output_type": "stream",
       "stream": "stdout",
       "text": [
        " \uc2a4\ud3ec\uce20\n",
        "Elements Battle"
       ]
      },
      {
       "output_type": "stream",
       "stream": "stdout",
       "text": [
        " \uac8c\uc784\n",
        "Elements Battle"
       ]
      },
      {
       "output_type": "stream",
       "stream": "stdout",
       "text": [
        " \uac74\uac15\n",
        "Elements Battle"
       ]
      },
      {
       "output_type": "stream",
       "stream": "stdout",
       "text": [
        " \ud559\uc2b5\n",
        "Elements Battle"
       ]
      },
      {
       "output_type": "stream",
       "stream": "stdout",
       "text": [
        " \ucee4\ubba4\ub2c8\ud2f0\n",
        "Tales from the Dragon Mountain \ubbf8\uc6a9\n",
        "Tales from the Dragon Mountain"
       ]
      },
      {
       "output_type": "stream",
       "stream": "stdout",
       "text": [
        " \uc74c\uc545\n",
        "Tales from the Dragon Mountain"
       ]
      },
      {
       "output_type": "stream",
       "stream": "stdout",
       "text": [
        " \ub9ac\ubdf0\n",
        "Tales from the Dragon Mountain \uc5f0\uc608\n",
        "Tales from the Dragon Mountain"
       ]
      },
      {
       "output_type": "stream",
       "stream": "stdout",
       "text": [
        " \uc74c\uc2dd\n",
        "Tales from the Dragon Mountain"
       ]
      },
      {
       "output_type": "stream",
       "stream": "stdout",
       "text": [
        " \uc2a4\ud3ec\uce20\n",
        "Tales from the Dragon Mountain"
       ]
      },
      {
       "output_type": "stream",
       "stream": "stdout",
       "text": [
        " \uac8c\uc784\n",
        "Tales from the Dragon Mountain \uac74\uac15\n",
        "Tales from the Dragon Mountain"
       ]
      },
      {
       "output_type": "stream",
       "stream": "stdout",
       "text": [
        " \ud559\uc2b5\n",
        "Tales from the Dragon Mountain \ucee4\ubba4\ub2c8\ud2f0\n",
        "MojiTime Clock Widget"
       ]
      },
      {
       "output_type": "stream",
       "stream": "stdout",
       "text": [
        " \ubbf8\uc6a9\n",
        "MojiTime Clock Widget"
       ]
      },
      {
       "output_type": "stream",
       "stream": "stdout",
       "text": [
        " \uc74c\uc545\n",
        "MojiTime Clock Widget"
       ]
      },
      {
       "output_type": "stream",
       "stream": "stdout",
       "text": [
        " \ub9ac\ubdf0\n",
        "MojiTime Clock Widget"
       ]
      },
      {
       "output_type": "stream",
       "stream": "stdout",
       "text": [
        " \uc5f0\uc608\n",
        "MojiTime Clock Widget"
       ]
      },
      {
       "output_type": "stream",
       "stream": "stdout",
       "text": [
        " \uc74c\uc2dd\n",
        "MojiTime Clock Widget"
       ]
      },
      {
       "output_type": "stream",
       "stream": "stdout",
       "text": [
        " \uc2a4\ud3ec\uce20\n",
        "MojiTime Clock Widget \uac8c\uc784\n",
        "MojiTime Clock Widget"
       ]
      },
      {
       "output_type": "stream",
       "stream": "stdout",
       "text": [
        " \uac74\uac15\n",
        "MojiTime Clock Widget"
       ]
      },
      {
       "output_type": "stream",
       "stream": "stdout",
       "text": [
        " \ud559\uc2b5\n",
        "MojiTime Clock Widget"
       ]
      },
      {
       "output_type": "stream",
       "stream": "stdout",
       "text": [
        " \ucee4\ubba4\ub2c8\ud2f0\n",
        "AmbientTime Live Wallpaper \ubbf8\uc6a9\n",
        "AmbientTime Live Wallpaper"
       ]
      },
      {
       "output_type": "stream",
       "stream": "stdout",
       "text": [
        " \uc74c\uc545\n",
        "AmbientTime Live Wallpaper"
       ]
      },
      {
       "output_type": "stream",
       "stream": "stdout",
       "text": [
        " \ub9ac\ubdf0\n",
        "AmbientTime Live Wallpaper"
       ]
      },
      {
       "output_type": "stream",
       "stream": "stdout",
       "text": [
        " \uc5f0\uc608\n",
        "AmbientTime Live Wallpaper \uc74c\uc2dd\n",
        "AmbientTime Live Wallpaper"
       ]
      },
      {
       "output_type": "stream",
       "stream": "stdout",
       "text": [
        " \uc2a4\ud3ec\uce20\n",
        "AmbientTime Live Wallpaper"
       ]
      },
      {
       "output_type": "stream",
       "stream": "stdout",
       "text": [
        " \uac8c\uc784\n",
        "AmbientTime Live Wallpaper"
       ]
      },
      {
       "output_type": "stream",
       "stream": "stdout",
       "text": [
        " \uac74\uac15\n",
        "AmbientTime Live Wallpaper \ud559\uc2b5\n",
        "AmbientTime Live Wallpaper"
       ]
      },
      {
       "output_type": "stream",
       "stream": "stdout",
       "text": [
        " \ucee4\ubba4\ub2c8\ud2f0\n",
        "Practice English Grammar - 1"
       ]
      },
      {
       "output_type": "stream",
       "stream": "stdout",
       "text": [
        " \ubbf8\uc6a9\n",
        "Practice English Grammar - 1 \uc74c\uc545\n",
        "Practice English Grammar - 1"
       ]
      },
      {
       "output_type": "stream",
       "stream": "stdout",
       "text": [
        " \ub9ac\ubdf0\n",
        "Practice English Grammar - 1 \uc5f0\uc608\n",
        "Practice English Grammar - 1"
       ]
      },
      {
       "output_type": "stream",
       "stream": "stdout",
       "text": [
        " \uc74c\uc2dd\n",
        "Practice English Grammar - 1"
       ]
      },
      {
       "output_type": "stream",
       "stream": "stdout",
       "text": [
        " \uc2a4\ud3ec\uce20\n",
        "Practice English Grammar - 1"
       ]
      },
      {
       "output_type": "stream",
       "stream": "stdout",
       "text": [
        " \uac8c\uc784\n",
        "Practice English Grammar - 1 \uac74\uac15\n",
        "Practice English Grammar - 1"
       ]
      },
      {
       "output_type": "stream",
       "stream": "stdout",
       "text": [
        " \ud559\uc2b5\n",
        "Practice English Grammar - 1"
       ]
      },
      {
       "output_type": "stream",
       "stream": "stdout",
       "text": [
        " \ucee4\ubba4\ub2c8\ud2f0\n",
        "Cupcake Stand \ubbf8\uc6a9\n",
        "Cupcake Stand"
       ]
      },
      {
       "output_type": "stream",
       "stream": "stdout",
       "text": [
        " \uc74c\uc545\n",
        "Cupcake Stand"
       ]
      },
      {
       "output_type": "stream",
       "stream": "stdout",
       "text": [
        " \ub9ac\ubdf0\n",
        "Cupcake Stand"
       ]
      },
      {
       "output_type": "stream",
       "stream": "stdout",
       "text": [
        " \uc5f0\uc608\n",
        "Cupcake Stand"
       ]
      },
      {
       "output_type": "stream",
       "stream": "stdout",
       "text": [
        " \uc74c\uc2dd\n",
        "Cupcake Stand"
       ]
      },
      {
       "output_type": "stream",
       "stream": "stdout",
       "text": [
        " \uc2a4\ud3ec\uce20\n",
        "Cupcake Stand"
       ]
      },
      {
       "output_type": "stream",
       "stream": "stdout",
       "text": [
        " \uac8c\uc784\n",
        "Cupcake Stand"
       ]
      },
      {
       "output_type": "stream",
       "stream": "stdout",
       "text": [
        " \uac74\uac15\n",
        "Cupcake Stand"
       ]
      },
      {
       "output_type": "stream",
       "stream": "stdout",
       "text": [
        " \ud559\uc2b5\n",
        "Cupcake Stand"
       ]
      },
      {
       "output_type": "stream",
       "stream": "stdout",
       "text": [
        " \ucee4\ubba4\ub2c8\ud2f0\n",
        "Pixel Dungeon"
       ]
      },
      {
       "output_type": "stream",
       "stream": "stdout",
       "text": [
        " \ubbf8\uc6a9\n",
        "Pixel Dungeon"
       ]
      },
      {
       "output_type": "stream",
       "stream": "stdout",
       "text": [
        " \uc74c\uc545\n",
        "Pixel Dungeon"
       ]
      },
      {
       "output_type": "stream",
       "stream": "stdout",
       "text": [
        " \ub9ac\ubdf0\n",
        "Pixel Dungeon \uc5f0\uc608\n",
        "Pixel Dungeon"
       ]
      },
      {
       "output_type": "stream",
       "stream": "stdout",
       "text": [
        " \uc74c\uc2dd\n",
        "Pixel Dungeon \uc2a4\ud3ec\uce20\n",
        "Pixel Dungeon"
       ]
      },
      {
       "output_type": "stream",
       "stream": "stdout",
       "text": [
        " \uac8c\uc784\n",
        "Pixel Dungeon \uac74\uac15\n",
        "Pixel Dungeon"
       ]
      },
      {
       "output_type": "stream",
       "stream": "stdout",
       "text": [
        " \ud559\uc2b5\n",
        "Pixel Dungeon"
       ]
      },
      {
       "output_type": "stream",
       "stream": "stdout",
       "text": [
        " \ucee4\ubba4\ub2c8\ud2f0\n",
        "Candy Island HD - \uce94\ub514 \uc12c HD"
       ]
      },
      {
       "output_type": "stream",
       "stream": "stdout",
       "text": [
        " \ubbf8\uc6a9\n",
        "Candy Island HD - \uce94\ub514 \uc12c HD"
       ]
      },
      {
       "output_type": "stream",
       "stream": "stdout",
       "text": [
        " \uc74c\uc545\n",
        "Candy Island HD - \uce94\ub514 \uc12c HD"
       ]
      },
      {
       "output_type": "stream",
       "stream": "stdout",
       "text": [
        " \ub9ac\ubdf0\n",
        "Candy Island HD - \uce94\ub514 \uc12c HD \uc5f0\uc608\n",
        "Candy Island HD - \uce94\ub514 \uc12c HD"
       ]
      },
      {
       "output_type": "stream",
       "stream": "stdout",
       "text": [
        " \uc74c\uc2dd\n",
        "Candy Island HD - \uce94\ub514 \uc12c HD \uc2a4\ud3ec\uce20\n",
        "Candy Island HD - \uce94\ub514 \uc12c HD"
       ]
      },
      {
       "output_type": "stream",
       "stream": "stdout",
       "text": [
        " \uac8c\uc784\n",
        "Candy Island HD - \uce94\ub514 \uc12c HD"
       ]
      },
      {
       "output_type": "stream",
       "stream": "stdout",
       "text": [
        " \uac74\uac15\n",
        "Candy Island HD - \uce94\ub514 \uc12c HD"
       ]
      },
      {
       "output_type": "stream",
       "stream": "stdout",
       "text": [
        " \ud559\uc2b5\n",
        "Candy Island HD - \uce94\ub514 \uc12c HD"
       ]
      },
      {
       "output_type": "stream",
       "stream": "stdout",
       "text": [
        " \ucee4\ubba4\ub2c8\ud2f0\n",
        "[\uc644\uc804\ubb34\ub8cc]\ub77c\uc2a4\ud2b8\uccb4\uc774\uc11c Plus+"
       ]
      },
      {
       "output_type": "stream",
       "stream": "stdout",
       "text": [
        " \ubbf8\uc6a9\n",
        "[\uc644\uc804\ubb34\ub8cc]\ub77c\uc2a4\ud2b8\uccb4\uc774\uc11c Plus+"
       ]
      },
      {
       "output_type": "stream",
       "stream": "stdout",
       "text": [
        " \uc74c\uc545\n",
        "[\uc644\uc804\ubb34\ub8cc]\ub77c\uc2a4\ud2b8\uccb4\uc774\uc11c Plus+ \ub9ac\ubdf0\n",
        "[\uc644\uc804\ubb34\ub8cc]\ub77c\uc2a4\ud2b8\uccb4\uc774\uc11c Plus+"
       ]
      },
      {
       "output_type": "stream",
       "stream": "stdout",
       "text": [
        " \uc5f0\uc608\n",
        "[\uc644\uc804\ubb34\ub8cc]\ub77c\uc2a4\ud2b8\uccb4\uc774\uc11c Plus+"
       ]
      },
      {
       "output_type": "stream",
       "stream": "stdout",
       "text": [
        " \uc74c\uc2dd\n",
        "[\uc644\uc804\ubb34\ub8cc]\ub77c\uc2a4\ud2b8\uccb4\uc774\uc11c Plus+"
       ]
      },
      {
       "output_type": "stream",
       "stream": "stdout",
       "text": [
        " \uc2a4\ud3ec\uce20\n",
        "[\uc644\uc804\ubb34\ub8cc]\ub77c\uc2a4\ud2b8\uccb4\uc774\uc11c Plus+"
       ]
      },
      {
       "output_type": "stream",
       "stream": "stdout",
       "text": [
        " \uac8c\uc784\n",
        "[\uc644\uc804\ubb34\ub8cc]\ub77c\uc2a4\ud2b8\uccb4\uc774\uc11c Plus+ \uac74\uac15\n",
        "[\uc644\uc804\ubb34\ub8cc]\ub77c\uc2a4\ud2b8\uccb4\uc774\uc11c Plus+"
       ]
      },
      {
       "output_type": "stream",
       "stream": "stdout",
       "text": [
        " \ud559\uc2b5\n",
        "[\uc644\uc804\ubb34\ub8cc]\ub77c\uc2a4\ud2b8\uccb4\uc774\uc11c Plus+"
       ]
      },
      {
       "output_type": "stream",
       "stream": "stdout",
       "text": [
        " \ucee4\ubba4\ub2c8\ud2f0\n",
        "\ucf54\uc778 \uac8c\uc784 ~ \ud398\ub2c8 \ud478\uc154"
       ]
      },
      {
       "output_type": "stream",
       "stream": "stdout",
       "text": [
        " \ubbf8\uc6a9\n",
        "\ucf54\uc778 \uac8c\uc784 ~ \ud398\ub2c8 \ud478\uc154"
       ]
      },
      {
       "output_type": "stream",
       "stream": "stdout",
       "text": [
        " \uc74c\uc545\n",
        "\ucf54\uc778 \uac8c\uc784 ~ \ud398\ub2c8 \ud478\uc154"
       ]
      },
      {
       "output_type": "stream",
       "stream": "stdout",
       "text": [
        " \ub9ac\ubdf0\n",
        "\ucf54\uc778 \uac8c\uc784 ~ \ud398\ub2c8 \ud478\uc154"
       ]
      },
      {
       "output_type": "stream",
       "stream": "stdout",
       "text": [
        " \uc5f0\uc608\n",
        "\ucf54\uc778 \uac8c\uc784 ~ \ud398\ub2c8 \ud478\uc154 \uc74c\uc2dd\n",
        "\ucf54\uc778 \uac8c\uc784 ~ \ud398\ub2c8 \ud478\uc154"
       ]
      },
      {
       "output_type": "stream",
       "stream": "stdout",
       "text": [
        " \uc2a4\ud3ec\uce20\n",
        "\ucf54\uc778 \uac8c\uc784 ~ \ud398\ub2c8 \ud478\uc154"
       ]
      },
      {
       "output_type": "stream",
       "stream": "stdout",
       "text": [
        " \uac8c\uc784\n",
        "\ucf54\uc778 \uac8c\uc784 ~ \ud398\ub2c8 \ud478\uc154"
       ]
      },
      {
       "output_type": "stream",
       "stream": "stdout",
       "text": [
        " \uac74\uac15\n",
        "\ucf54\uc778 \uac8c\uc784 ~ \ud398\ub2c8 \ud478\uc154"
       ]
      },
      {
       "output_type": "stream",
       "stream": "stdout",
       "text": [
        " \ud559\uc2b5\n",
        "\ucf54\uc778 \uac8c\uc784 ~ \ud398\ub2c8 \ud478\uc154"
       ]
      },
      {
       "output_type": "stream",
       "stream": "stdout",
       "text": [
        " \ucee4\ubba4\ub2c8\ud2f0\n",
        "\ucd94\uc5b5\uc758 \ub2ec\uace0\ub098 \ubf51\uae30"
       ]
      },
      {
       "output_type": "stream",
       "stream": "stdout",
       "text": [
        " \ubbf8\uc6a9\n",
        "\ucd94\uc5b5\uc758 \ub2ec\uace0\ub098 \ubf51\uae30"
       ]
      },
      {
       "output_type": "stream",
       "stream": "stdout",
       "text": [
        " \uc74c\uc545\n",
        "\ucd94\uc5b5\uc758 \ub2ec\uace0\ub098 \ubf51\uae30"
       ]
      },
      {
       "output_type": "stream",
       "stream": "stdout",
       "text": [
        " \ub9ac\ubdf0\n",
        "\ucd94\uc5b5\uc758 \ub2ec\uace0\ub098 \ubf51\uae30 \uc5f0\uc608\n",
        "\ucd94\uc5b5\uc758 \ub2ec\uace0\ub098 \ubf51\uae30"
       ]
      },
      {
       "output_type": "stream",
       "stream": "stdout",
       "text": [
        " \uc74c\uc2dd\n",
        "\ucd94\uc5b5\uc758 \ub2ec\uace0\ub098 \ubf51\uae30"
       ]
      },
      {
       "output_type": "stream",
       "stream": "stdout",
       "text": [
        " \uc2a4\ud3ec\uce20\n",
        "\ucd94\uc5b5\uc758 \ub2ec\uace0\ub098 \ubf51\uae30"
       ]
      },
      {
       "output_type": "stream",
       "stream": "stdout",
       "text": [
        " \uac8c\uc784\n",
        "\ucd94\uc5b5\uc758 \ub2ec\uace0\ub098 \ubf51\uae30"
       ]
      },
      {
       "output_type": "stream",
       "stream": "stdout",
       "text": [
        " \uac74\uac15\n",
        "\ucd94\uc5b5\uc758 \ub2ec\uace0\ub098 \ubf51\uae30 \ud559\uc2b5\n",
        "\ucd94\uc5b5\uc758 \ub2ec\uace0\ub098 \ubf51\uae30"
       ]
      },
      {
       "output_type": "stream",
       "stream": "stdout",
       "text": [
        " \ucee4\ubba4\ub2c8\ud2f0\n",
        "\uacfc\uc77c \ubc84\ube14 \uc288\ud130"
       ]
      },
      {
       "output_type": "stream",
       "stream": "stdout",
       "text": [
        " \ubbf8\uc6a9\n",
        "\uacfc\uc77c \ubc84\ube14 \uc288\ud130"
       ]
      },
      {
       "output_type": "stream",
       "stream": "stdout",
       "text": [
        " \uc74c\uc545\n",
        "\uacfc\uc77c \ubc84\ube14 \uc288\ud130 \ub9ac\ubdf0\n",
        "\uacfc\uc77c \ubc84\ube14 \uc288\ud130"
       ]
      },
      {
       "output_type": "stream",
       "stream": "stdout",
       "text": [
        " \uc5f0\uc608\n",
        "\uacfc\uc77c \ubc84\ube14 \uc288\ud130"
       ]
      },
      {
       "output_type": "stream",
       "stream": "stdout",
       "text": [
        " \uc74c\uc2dd\n",
        "\uacfc\uc77c \ubc84\ube14 \uc288\ud130"
       ]
      },
      {
       "output_type": "stream",
       "stream": "stdout",
       "text": [
        " \uc2a4\ud3ec\uce20\n",
        "\uacfc\uc77c \ubc84\ube14 \uc288\ud130 \uac8c\uc784\n",
        "\uacfc\uc77c \ubc84\ube14 \uc288\ud130"
       ]
      },
      {
       "output_type": "stream",
       "stream": "stdout",
       "text": [
        " \uac74\uac15\n",
        "\uacfc\uc77c \ubc84\ube14 \uc288\ud130"
       ]
      },
      {
       "output_type": "stream",
       "stream": "stdout",
       "text": [
        " \ud559\uc2b5\n",
        "\uacfc\uc77c \ubc84\ube14 \uc288\ud130"
       ]
      },
      {
       "output_type": "stream",
       "stream": "stdout",
       "text": [
        " \ucee4\ubba4\ub2c8\ud2f0\n",
        "\u30d1\u30c1\u30b9\u30ed\u300c\u7518\u3069\u308b!!\u300d"
       ]
      },
      {
       "output_type": "stream",
       "stream": "stdout",
       "text": [
        " \ubbf8\uc6a9\n",
        "\u30d1\u30c1\u30b9\u30ed\u300c\u7518\u3069\u308b!!\u300d"
       ]
      },
      {
       "output_type": "stream",
       "stream": "stdout",
       "text": [
        " \uc74c\uc545\n",
        "\u30d1\u30c1\u30b9\u30ed\u300c\u7518\u3069\u308b!!\u300d"
       ]
      },
      {
       "output_type": "stream",
       "stream": "stdout",
       "text": [
        " \ub9ac\ubdf0\n",
        "\u30d1\u30c1\u30b9\u30ed\u300c\u7518\u3069\u308b!!\u300d"
       ]
      },
      {
       "output_type": "stream",
       "stream": "stdout",
       "text": [
        " \uc5f0\uc608\n",
        "\u30d1\u30c1\u30b9\u30ed\u300c\u7518\u3069\u308b!!\u300d"
       ]
      },
      {
       "output_type": "stream",
       "stream": "stdout",
       "text": [
        " \uc74c\uc2dd\n",
        "\u30d1\u30c1\u30b9\u30ed\u300c\u7518\u3069\u308b!!\u300d"
       ]
      },
      {
       "output_type": "stream",
       "stream": "stdout",
       "text": [
        " \uc2a4\ud3ec\uce20\n",
        "\u30d1\u30c1\u30b9\u30ed\u300c\u7518\u3069\u308b!!\u300d"
       ]
      },
      {
       "output_type": "stream",
       "stream": "stdout",
       "text": [
        " \uac8c\uc784\n",
        "\u30d1\u30c1\u30b9\u30ed\u300c\u7518\u3069\u308b!!\u300d"
       ]
      },
      {
       "output_type": "stream",
       "stream": "stdout",
       "text": [
        " \uac74\uac15\n",
        "\u30d1\u30c1\u30b9\u30ed\u300c\u7518\u3069\u308b!!\u300d"
       ]
      },
      {
       "output_type": "stream",
       "stream": "stdout",
       "text": [
        " \ud559\uc2b5\n",
        "\u30d1\u30c1\u30b9\u30ed\u300c\u7518\u3069\u308b!!\u300d"
       ]
      },
      {
       "output_type": "stream",
       "stream": "stdout",
       "text": [
        " \ucee4\ubba4\ub2c8\ud2f0\n",
        "\ubf40\ubf40\uac8c\uc784"
       ]
      },
      {
       "output_type": "stream",
       "stream": "stdout",
       "text": [
        " \ubbf8\uc6a9\n",
        "\ubf40\ubf40\uac8c\uc784"
       ]
      },
      {
       "output_type": "stream",
       "stream": "stdout",
       "text": [
        " \uc74c\uc545\n",
        "\ubf40\ubf40\uac8c\uc784"
       ]
      },
      {
       "output_type": "stream",
       "stream": "stdout",
       "text": [
        " \ub9ac\ubdf0\n",
        "\ubf40\ubf40\uac8c\uc784"
       ]
      },
      {
       "output_type": "stream",
       "stream": "stdout",
       "text": [
        " \uc5f0\uc608\n",
        "\ubf40\ubf40\uac8c\uc784"
       ]
      },
      {
       "output_type": "stream",
       "stream": "stdout",
       "text": [
        " \uc74c\uc2dd\n",
        "\ubf40\ubf40\uac8c\uc784"
       ]
      },
      {
       "output_type": "stream",
       "stream": "stdout",
       "text": [
        " \uc2a4\ud3ec\uce20\n",
        "\ubf40\ubf40\uac8c\uc784"
       ]
      },
      {
       "output_type": "stream",
       "stream": "stdout",
       "text": [
        " \uac8c\uc784\n",
        "\ubf40\ubf40\uac8c\uc784"
       ]
      },
      {
       "output_type": "stream",
       "stream": "stdout",
       "text": [
        " \uac74\uac15\n",
        "\ubf40\ubf40\uac8c\uc784"
       ]
      },
      {
       "output_type": "stream",
       "stream": "stdout",
       "text": [
        " \ud559\uc2b5\n",
        "\ubf40\ubf40\uac8c\uc784"
       ]
      },
      {
       "output_type": "stream",
       "stream": "stdout",
       "text": [
        " \ucee4\ubba4\ub2c8\ud2f0\n",
        "\u7f8e\u5973\u5341\u516b\u6478\u6478\u51fa\u9ad8\u6f6e"
       ]
      },
      {
       "output_type": "stream",
       "stream": "stdout",
       "text": [
        " \ubbf8\uc6a9\n",
        "\u7f8e\u5973\u5341\u516b\u6478\u6478\u51fa\u9ad8\u6f6e"
       ]
      },
      {
       "output_type": "stream",
       "stream": "stdout",
       "text": [
        " \uc74c\uc545\n",
        "\u7f8e\u5973\u5341\u516b\u6478\u6478\u51fa\u9ad8\u6f6e"
       ]
      },
      {
       "output_type": "stream",
       "stream": "stdout",
       "text": [
        " \ub9ac\ubdf0\n",
        "\u7f8e\u5973\u5341\u516b\u6478\u6478\u51fa\u9ad8\u6f6e"
       ]
      },
      {
       "output_type": "stream",
       "stream": "stdout",
       "text": [
        " \uc5f0\uc608\n",
        "\u7f8e\u5973\u5341\u516b\u6478\u6478\u51fa\u9ad8\u6f6e"
       ]
      },
      {
       "output_type": "stream",
       "stream": "stdout",
       "text": [
        " \uc74c\uc2dd\n",
        "\u7f8e\u5973\u5341\u516b\u6478\u6478\u51fa\u9ad8\u6f6e"
       ]
      },
      {
       "output_type": "stream",
       "stream": "stdout",
       "text": [
        " \uc2a4\ud3ec\uce20\n",
        "\u7f8e\u5973\u5341\u516b\u6478\u6478\u51fa\u9ad8\u6f6e"
       ]
      },
      {
       "output_type": "stream",
       "stream": "stdout",
       "text": [
        " \uac8c\uc784\n",
        "\u7f8e\u5973\u5341\u516b\u6478\u6478\u51fa\u9ad8\u6f6e"
       ]
      },
      {
       "output_type": "stream",
       "stream": "stdout",
       "text": [
        " \uac74\uac15\n",
        "\u7f8e\u5973\u5341\u516b\u6478\u6478\u51fa\u9ad8\u6f6e"
       ]
      },
      {
       "output_type": "stream",
       "stream": "stdout",
       "text": [
        " \ud559\uc2b5\n",
        "\u7f8e\u5973\u5341\u516b\u6478\u6478\u51fa\u9ad8\u6f6e"
       ]
      },
      {
       "output_type": "stream",
       "stream": "stdout",
       "text": [
        " \ucee4\ubba4\ub2c8\ud2f0\n",
        "Hip Mania[Hot Girl] Free Game"
       ]
      },
      {
       "output_type": "stream",
       "stream": "stdout",
       "text": [
        " \ubbf8\uc6a9\n",
        "Hip Mania[Hot Girl] Free Game"
       ]
      },
      {
       "output_type": "stream",
       "stream": "stdout",
       "text": [
        " \uc74c\uc545\n",
        "Hip Mania[Hot Girl] Free Game"
       ]
      },
      {
       "output_type": "stream",
       "stream": "stdout",
       "text": [
        " \ub9ac\ubdf0\n",
        "Hip Mania[Hot Girl] Free Game"
       ]
      },
      {
       "output_type": "stream",
       "stream": "stdout",
       "text": [
        " \uc5f0\uc608\n",
        "Hip Mania[Hot Girl] Free Game"
       ]
      },
      {
       "output_type": "stream",
       "stream": "stdout",
       "text": [
        " \uc74c\uc2dd\n",
        "Hip Mania[Hot Girl] Free Game"
       ]
      },
      {
       "output_type": "stream",
       "stream": "stdout",
       "text": [
        " \uc2a4\ud3ec\uce20\n",
        "Hip Mania[Hot Girl] Free Game"
       ]
      },
      {
       "output_type": "stream",
       "stream": "stdout",
       "text": [
        " \uac8c\uc784\n",
        "Hip Mania[Hot Girl] Free Game \uac74\uac15\n",
        "Hip Mania[Hot Girl] Free Game"
       ]
      },
      {
       "output_type": "stream",
       "stream": "stdout",
       "text": [
        " \ud559\uc2b5\n",
        "Hip Mania[Hot Girl] Free Game \ucee4\ubba4\ub2c8\ud2f0\n",
        "\ubc1d\uc740 \uba4b\uc9c4"
       ]
      },
      {
       "output_type": "stream",
       "stream": "stdout",
       "text": [
        " \ubbf8\uc6a9\n",
        "\ubc1d\uc740 \uba4b\uc9c4"
       ]
      },
      {
       "output_type": "stream",
       "stream": "stdout",
       "text": [
        " \uc74c\uc545\n",
        "\ubc1d\uc740 \uba4b\uc9c4"
       ]
      },
      {
       "output_type": "stream",
       "stream": "stdout",
       "text": [
        " \ub9ac\ubdf0\n",
        "\ubc1d\uc740 \uba4b\uc9c4"
       ]
      },
      {
       "output_type": "stream",
       "stream": "stdout",
       "text": [
        " \uc5f0\uc608\n",
        "\ubc1d\uc740 \uba4b\uc9c4 \uc74c\uc2dd\n",
        "\ubc1d\uc740 \uba4b\uc9c4"
       ]
      },
      {
       "output_type": "stream",
       "stream": "stdout",
       "text": [
        " \uc2a4\ud3ec\uce20\n",
        "\ubc1d\uc740 \uba4b\uc9c4"
       ]
      },
      {
       "output_type": "stream",
       "stream": "stdout",
       "text": [
        " \uac8c\uc784\n",
        "\ubc1d\uc740 \uba4b\uc9c4"
       ]
      },
      {
       "output_type": "stream",
       "stream": "stdout",
       "text": [
        " \uac74\uac15\n",
        "\ubc1d\uc740 \uba4b\uc9c4"
       ]
      },
      {
       "output_type": "stream",
       "stream": "stdout",
       "text": [
        " \ud559\uc2b5\n",
        "\ubc1d\uc740 \uba4b\uc9c4"
       ]
      },
      {
       "output_type": "stream",
       "stream": "stdout",
       "text": [
        " \ucee4\ubba4\ub2c8\ud2f0\n",
        "TarzaN Ever Ending Adventure"
       ]
      },
      {
       "output_type": "stream",
       "stream": "stdout",
       "text": [
        " \ubbf8\uc6a9\n",
        "TarzaN Ever Ending Adventure"
       ]
      },
      {
       "output_type": "stream",
       "stream": "stdout",
       "text": [
        " \uc74c\uc545\n",
        "TarzaN Ever Ending Adventure \ub9ac\ubdf0\n",
        "TarzaN Ever Ending Adventure"
       ]
      },
      {
       "output_type": "stream",
       "stream": "stdout",
       "text": [
        " \uc5f0\uc608\n",
        "TarzaN Ever Ending Adventure"
       ]
      },
      {
       "output_type": "stream",
       "stream": "stdout",
       "text": [
        " \uc74c\uc2dd\n",
        "TarzaN Ever Ending Adventure \uc2a4\ud3ec\uce20\n",
        "TarzaN Ever Ending Adventure"
       ]
      },
      {
       "output_type": "stream",
       "stream": "stdout",
       "text": [
        " \uac8c\uc784\n",
        "TarzaN Ever Ending Adventure"
       ]
      },
      {
       "output_type": "stream",
       "stream": "stdout",
       "text": [
        " \uac74\uac15\n",
        "TarzaN Ever Ending Adventure \ud559\uc2b5\n",
        "TarzaN Ever Ending Adventure"
       ]
      },
      {
       "output_type": "stream",
       "stream": "stdout",
       "text": [
        " \ucee4\ubba4\ub2c8\ud2f0\n",
        "Gourmet Creature Hungry Mogumo"
       ]
      },
      {
       "output_type": "stream",
       "stream": "stdout",
       "text": [
        " \ubbf8\uc6a9\n",
        "Gourmet Creature Hungry Mogumo"
       ]
      },
      {
       "output_type": "stream",
       "stream": "stdout",
       "text": [
        " \uc74c\uc545\n",
        "Gourmet Creature Hungry Mogumo"
       ]
      },
      {
       "output_type": "stream",
       "stream": "stdout",
       "text": [
        " \ub9ac\ubdf0\n",
        "Gourmet Creature Hungry Mogumo \uc5f0\uc608\n",
        "Gourmet Creature Hungry Mogumo"
       ]
      },
      {
       "output_type": "stream",
       "stream": "stdout",
       "text": [
        " \uc74c\uc2dd\n",
        "Gourmet Creature Hungry Mogumo"
       ]
      },
      {
       "output_type": "stream",
       "stream": "stdout",
       "text": [
        " \uc2a4\ud3ec\uce20\n",
        "Gourmet Creature Hungry Mogumo"
       ]
      },
      {
       "output_type": "stream",
       "stream": "stdout",
       "text": [
        " \uac8c\uc784\n",
        "Gourmet Creature Hungry Mogumo"
       ]
      },
      {
       "output_type": "stream",
       "stream": "stdout",
       "text": [
        " \uac74\uac15\n",
        "Gourmet Creature Hungry Mogumo \ud559\uc2b5\n",
        "Gourmet Creature Hungry Mogumo"
       ]
      },
      {
       "output_type": "stream",
       "stream": "stdout",
       "text": [
        " \ucee4\ubba4\ub2c8\ud2f0\n",
        "\ubcf4\uc218\uacc4 \ubbf8\uc6a9\n",
        "\ubcf4\uc218\uacc4"
       ]
      },
      {
       "output_type": "stream",
       "stream": "stdout",
       "text": [
        " \uc74c\uc545\n",
        "\ubcf4\uc218\uacc4"
       ]
      },
      {
       "output_type": "stream",
       "stream": "stdout",
       "text": [
        " \ub9ac\ubdf0\n",
        "\ubcf4\uc218\uacc4"
       ]
      },
      {
       "output_type": "stream",
       "stream": "stdout",
       "text": [
        " \uc5f0\uc608\n",
        "\ubcf4\uc218\uacc4"
       ]
      },
      {
       "output_type": "stream",
       "stream": "stdout",
       "text": [
        " \uc74c\uc2dd\n",
        "\ubcf4\uc218\uacc4"
       ]
      },
      {
       "output_type": "stream",
       "stream": "stdout",
       "text": [
        " \uc2a4\ud3ec\uce20\n",
        "\ubcf4\uc218\uacc4"
       ]
      },
      {
       "output_type": "stream",
       "stream": "stdout",
       "text": [
        " \uac8c\uc784\n",
        "\ubcf4\uc218\uacc4"
       ]
      },
      {
       "output_type": "stream",
       "stream": "stdout",
       "text": [
        " \uac74\uac15\n",
        "\ubcf4\uc218\uacc4"
       ]
      },
      {
       "output_type": "stream",
       "stream": "stdout",
       "text": [
        " \ud559\uc2b5\n",
        "\ubcf4\uc218\uacc4"
       ]
      },
      {
       "output_type": "stream",
       "stream": "stdout",
       "text": [
        " \ucee4\ubba4\ub2c8\ud2f0\n",
        "\u60c5\u8272\u6478\u4e73\uff1a\u706b\u8fa3\u6bd4\u57fa\u5c3c"
       ]
      },
      {
       "output_type": "stream",
       "stream": "stdout",
       "text": [
        " \ubbf8\uc6a9\n",
        "\u60c5\u8272\u6478\u4e73\uff1a\u706b\u8fa3\u6bd4\u57fa\u5c3c \uc74c\uc545\n",
        "\u60c5\u8272\u6478\u4e73\uff1a\u706b\u8fa3\u6bd4\u57fa\u5c3c"
       ]
      },
      {
       "output_type": "stream",
       "stream": "stdout",
       "text": [
        " \ub9ac\ubdf0\n",
        "\u60c5\u8272\u6478\u4e73\uff1a\u706b\u8fa3\u6bd4\u57fa\u5c3c"
       ]
      },
      {
       "output_type": "stream",
       "stream": "stdout",
       "text": [
        " \uc5f0\uc608\n",
        "\u60c5\u8272\u6478\u4e73\uff1a\u706b\u8fa3\u6bd4\u57fa\u5c3c"
       ]
      },
      {
       "output_type": "stream",
       "stream": "stdout",
       "text": [
        " \uc74c\uc2dd\n",
        "\u60c5\u8272\u6478\u4e73\uff1a\u706b\u8fa3\u6bd4\u57fa\u5c3c"
       ]
      },
      {
       "output_type": "stream",
       "stream": "stdout",
       "text": [
        " \uc2a4\ud3ec\uce20\n",
        "\u60c5\u8272\u6478\u4e73\uff1a\u706b\u8fa3\u6bd4\u57fa\u5c3c"
       ]
      },
      {
       "output_type": "stream",
       "stream": "stdout",
       "text": [
        " \uac8c\uc784\n",
        "\u60c5\u8272\u6478\u4e73\uff1a\u706b\u8fa3\u6bd4\u57fa\u5c3c"
       ]
      },
      {
       "output_type": "stream",
       "stream": "stdout",
       "text": [
        " \uac74\uac15\n",
        "\u60c5\u8272\u6478\u4e73\uff1a\u706b\u8fa3\u6bd4\u57fa\u5c3c"
       ]
      },
      {
       "output_type": "stream",
       "stream": "stdout",
       "text": [
        " \ud559\uc2b5\n",
        "\u60c5\u8272\u6478\u4e73\uff1a\u706b\u8fa3\u6bd4\u57fa\u5c3c"
       ]
      },
      {
       "output_type": "stream",
       "stream": "stdout",
       "text": [
        " \ucee4\ubba4\ub2c8\ud2f0\n",
        "\ubb3c\uc740 \uc18c\ub9ac"
       ]
      },
      {
       "output_type": "stream",
       "stream": "stdout",
       "text": [
        " \ubbf8\uc6a9\n",
        "\ubb3c\uc740 \uc18c\ub9ac"
       ]
      },
      {
       "output_type": "stream",
       "stream": "stdout",
       "text": [
        " \uc74c\uc545\n",
        "\ubb3c\uc740 \uc18c\ub9ac \ub9ac\ubdf0\n",
        "\ubb3c\uc740 \uc18c\ub9ac"
       ]
      },
      {
       "output_type": "stream",
       "stream": "stdout",
       "text": [
        " \uc5f0\uc608\n",
        "\ubb3c\uc740 \uc18c\ub9ac"
       ]
      },
      {
       "output_type": "stream",
       "stream": "stdout",
       "text": [
        " \uc74c\uc2dd\n",
        "\ubb3c\uc740 \uc18c\ub9ac"
       ]
      },
      {
       "output_type": "stream",
       "stream": "stdout",
       "text": [
        " \uc2a4\ud3ec\uce20\n",
        "\ubb3c\uc740 \uc18c\ub9ac"
       ]
      },
      {
       "output_type": "stream",
       "stream": "stdout",
       "text": [
        " \uac8c\uc784\n",
        "\ubb3c\uc740 \uc18c\ub9ac"
       ]
      },
      {
       "output_type": "stream",
       "stream": "stdout",
       "text": [
        " \uac74\uac15\n",
        "\ubb3c\uc740 \uc18c\ub9ac"
       ]
      },
      {
       "output_type": "stream",
       "stream": "stdout",
       "text": [
        " \ud559\uc2b5\n",
        "\ubb3c\uc740 \uc18c\ub9ac \ucee4\ubba4\ub2c8\ud2f0\n",
        "\u4eba\u4eba\u90fd\u7231\u72d0\u72f8\u7cbe"
       ]
      },
      {
       "output_type": "stream",
       "stream": "stdout",
       "text": [
        " \ubbf8\uc6a9\n",
        "\u4eba\u4eba\u90fd\u7231\u72d0\u72f8\u7cbe"
       ]
      },
      {
       "output_type": "stream",
       "stream": "stdout",
       "text": [
        " \uc74c\uc545\n",
        "\u4eba\u4eba\u90fd\u7231\u72d0\u72f8\u7cbe"
       ]
      },
      {
       "output_type": "stream",
       "stream": "stdout",
       "text": [
        " \ub9ac\ubdf0\n",
        "\u4eba\u4eba\u90fd\u7231\u72d0\u72f8\u7cbe"
       ]
      },
      {
       "output_type": "stream",
       "stream": "stdout",
       "text": [
        " \uc5f0\uc608\n",
        "\u4eba\u4eba\u90fd\u7231\u72d0\u72f8\u7cbe \uc74c\uc2dd\n",
        "\u4eba\u4eba\u90fd\u7231\u72d0\u72f8\u7cbe"
       ]
      },
      {
       "output_type": "stream",
       "stream": "stdout",
       "text": [
        " \uc2a4\ud3ec\uce20\n",
        "\u4eba\u4eba\u90fd\u7231\u72d0\u72f8\u7cbe"
       ]
      },
      {
       "output_type": "stream",
       "stream": "stdout",
       "text": [
        " \uac8c\uc784\n",
        "\u4eba\u4eba\u90fd\u7231\u72d0\u72f8\u7cbe"
       ]
      },
      {
       "output_type": "stream",
       "stream": "stdout",
       "text": [
        " \uac74\uac15\n",
        "\u4eba\u4eba\u90fd\u7231\u72d0\u72f8\u7cbe"
       ]
      },
      {
       "output_type": "stream",
       "stream": "stdout",
       "text": [
        " \ud559\uc2b5\n",
        "\u4eba\u4eba\u90fd\u7231\u72d0\u72f8\u7cbe"
       ]
      },
      {
       "output_type": "stream",
       "stream": "stdout",
       "text": [
        " \ucee4\ubba4\ub2c8\ud2f0\n",
        "EZ Pill Reminder"
       ]
      },
      {
       "output_type": "stream",
       "stream": "stdout",
       "text": [
        " \ubbf8\uc6a9\n",
        "EZ Pill Reminder \uc74c\uc545\n",
        "EZ Pill Reminder"
       ]
      },
      {
       "output_type": "stream",
       "stream": "stdout",
       "text": [
        " \ub9ac\ubdf0\n",
        "EZ Pill Reminder \uc5f0\uc608\n",
        "EZ Pill Reminder"
       ]
      },
      {
       "output_type": "stream",
       "stream": "stdout",
       "text": [
        " \uc74c\uc2dd\n",
        "EZ Pill Reminder \uc2a4\ud3ec\uce20\n",
        "EZ Pill Reminder"
       ]
      },
      {
       "output_type": "stream",
       "stream": "stdout",
       "text": [
        " \uac8c\uc784\n",
        "EZ Pill Reminder"
       ]
      },
      {
       "output_type": "stream",
       "stream": "stdout",
       "text": [
        " \uac74\uac15\n",
        "EZ Pill Reminder"
       ]
      },
      {
       "output_type": "stream",
       "stream": "stdout",
       "text": [
        " \ud559\uc2b5\n",
        "EZ Pill Reminder"
       ]
      },
      {
       "output_type": "stream",
       "stream": "stdout",
       "text": [
        " \ucee4\ubba4\ub2c8\ud2f0\n",
        "Smart Baby Mat (Monitor)"
       ]
      },
      {
       "output_type": "stream",
       "stream": "stdout",
       "text": [
        " \ubbf8\uc6a9\n",
        "Smart Baby Mat (Monitor)"
       ]
      },
      {
       "output_type": "stream",
       "stream": "stdout",
       "text": [
        " \uc74c\uc545\n",
        "Smart Baby Mat (Monitor)"
       ]
      },
      {
       "output_type": "stream",
       "stream": "stdout",
       "text": [
        " \ub9ac\ubdf0\n",
        "Smart Baby Mat (Monitor) \uc5f0\uc608\n",
        "Smart Baby Mat (Monitor)"
       ]
      },
      {
       "output_type": "stream",
       "stream": "stdout",
       "text": [
        " \uc74c\uc2dd\n",
        "Smart Baby Mat (Monitor) \uc2a4\ud3ec\uce20\n",
        "Smart Baby Mat (Monitor)"
       ]
      },
      {
       "output_type": "stream",
       "stream": "stdout",
       "text": [
        " \uac8c\uc784\n",
        "Smart Baby Mat (Monitor)"
       ]
      },
      {
       "output_type": "stream",
       "stream": "stdout",
       "text": [
        " \uac74\uac15\n",
        "Smart Baby Mat (Monitor)"
       ]
      },
      {
       "output_type": "stream",
       "stream": "stdout",
       "text": [
        " \ud559\uc2b5\n",
        "Smart Baby Mat (Monitor)"
       ]
      },
      {
       "output_type": "stream",
       "stream": "stdout",
       "text": [
        " \ucee4\ubba4\ub2c8\ud2f0\n",
        "\u9690\u5f62\u80f8\u7f69\uff08\u5b89\u5353\u7248\uff09"
       ]
      },
      {
       "output_type": "stream",
       "stream": "stdout",
       "text": [
        " \ubbf8\uc6a9\n",
        "\u9690\u5f62\u80f8\u7f69\uff08\u5b89\u5353\u7248\uff09"
       ]
      },
      {
       "output_type": "stream",
       "stream": "stdout",
       "text": [
        " \uc74c\uc545\n",
        "\u9690\u5f62\u80f8\u7f69\uff08\u5b89\u5353\u7248\uff09"
       ]
      },
      {
       "output_type": "stream",
       "stream": "stdout",
       "text": [
        " \ub9ac\ubdf0\n",
        "\u9690\u5f62\u80f8\u7f69\uff08\u5b89\u5353\u7248\uff09"
       ]
      },
      {
       "output_type": "stream",
       "stream": "stdout",
       "text": [
        " \uc5f0\uc608\n",
        "\u9690\u5f62\u80f8\u7f69\uff08\u5b89\u5353\u7248\uff09"
       ]
      },
      {
       "output_type": "stream",
       "stream": "stdout",
       "text": [
        " \uc74c\uc2dd\n",
        "\u9690\u5f62\u80f8\u7f69\uff08\u5b89\u5353\u7248\uff09"
       ]
      },
      {
       "output_type": "stream",
       "stream": "stdout",
       "text": [
        " \uc2a4\ud3ec\uce20\n",
        "\u9690\u5f62\u80f8\u7f69\uff08\u5b89\u5353\u7248\uff09"
       ]
      },
      {
       "output_type": "stream",
       "stream": "stdout",
       "text": [
        " \uac8c\uc784\n",
        "\u9690\u5f62\u80f8\u7f69\uff08\u5b89\u5353\u7248\uff09"
       ]
      },
      {
       "output_type": "stream",
       "stream": "stdout",
       "text": [
        " \uac74\uac15\n",
        "\u9690\u5f62\u80f8\u7f69\uff08\u5b89\u5353\u7248\uff09"
       ]
      },
      {
       "output_type": "stream",
       "stream": "stdout",
       "text": [
        " \ud559\uc2b5\n",
        "\u9690\u5f62\u80f8\u7f69\uff08\u5b89\u5353\u7248\uff09"
       ]
      },
      {
       "output_type": "stream",
       "stream": "stdout",
       "text": [
        " \ucee4\ubba4\ub2c8\ud2f0\n",
        "Height & Weight Log"
       ]
      },
      {
       "output_type": "stream",
       "stream": "stdout",
       "text": [
        " \ubbf8\uc6a9\n",
        "Height & Weight Log"
       ]
      },
      {
       "output_type": "stream",
       "stream": "stdout",
       "text": [
        " \uc74c\uc545\n",
        "Height & Weight Log"
       ]
      },
      {
       "output_type": "stream",
       "stream": "stdout",
       "text": [
        " \ub9ac\ubdf0\n",
        "Height & Weight Log \uc5f0\uc608\n",
        "Height & Weight Log"
       ]
      },
      {
       "output_type": "stream",
       "stream": "stdout",
       "text": [
        " \uc74c\uc2dd\n",
        "Height & Weight Log"
       ]
      },
      {
       "output_type": "stream",
       "stream": "stdout",
       "text": [
        " \uc2a4\ud3ec\uce20\n",
        "Height & Weight Log"
       ]
      },
      {
       "output_type": "stream",
       "stream": "stdout",
       "text": [
        " \uac8c\uc784\n",
        "Height & Weight Log \uac74\uac15\n",
        "Height & Weight Log"
       ]
      },
      {
       "output_type": "stream",
       "stream": "stdout",
       "text": [
        " \ud559\uc2b5\n",
        "Height & Weight Log \ucee4\ubba4\ub2c8\ud2f0\n",
        "\uccb4\uc911\uc744 \uc783\uac8c\ud558\ub294 \ube60\ub978 \ubc29\ubc95"
       ]
      },
      {
       "output_type": "stream",
       "stream": "stdout",
       "text": [
        " \ubbf8\uc6a9\n",
        "\uccb4\uc911\uc744 \uc783\uac8c\ud558\ub294 \ube60\ub978 \ubc29\ubc95"
       ]
      },
      {
       "output_type": "stream",
       "stream": "stdout",
       "text": [
        " \uc74c\uc545\n",
        "\uccb4\uc911\uc744 \uc783\uac8c\ud558\ub294 \ube60\ub978 \ubc29\ubc95"
       ]
      },
      {
       "output_type": "stream",
       "stream": "stdout",
       "text": [
        " \ub9ac\ubdf0\n",
        "\uccb4\uc911\uc744 \uc783\uac8c\ud558\ub294 \ube60\ub978 \ubc29\ubc95"
       ]
      },
      {
       "output_type": "stream",
       "stream": "stdout",
       "text": [
        " \uc5f0\uc608\n",
        "\uccb4\uc911\uc744 \uc783\uac8c\ud558\ub294 \ube60\ub978 \ubc29\ubc95"
       ]
      },
      {
       "output_type": "stream",
       "stream": "stdout",
       "text": [
        " \uc74c\uc2dd\n",
        "\uccb4\uc911\uc744 \uc783\uac8c\ud558\ub294 \ube60\ub978 \ubc29\ubc95 \uc2a4\ud3ec\uce20\n",
        "\uccb4\uc911\uc744 \uc783\uac8c\ud558\ub294 \ube60\ub978 \ubc29\ubc95"
       ]
      },
      {
       "output_type": "stream",
       "stream": "stdout",
       "text": [
        " \uac8c\uc784\n",
        "\uccb4\uc911\uc744 \uc783\uac8c\ud558\ub294 \ube60\ub978 \ubc29\ubc95"
       ]
      },
      {
       "output_type": "stream",
       "stream": "stdout",
       "text": [
        " \uac74\uac15\n",
        "\uccb4\uc911\uc744 \uc783\uac8c\ud558\ub294 \ube60\ub978 \ubc29\ubc95 \ud559\uc2b5\n",
        "\uccb4\uc911\uc744 \uc783\uac8c\ud558\ub294 \ube60\ub978 \ubc29\ubc95"
       ]
      },
      {
       "output_type": "stream",
       "stream": "stdout",
       "text": [
        " \ucee4\ubba4\ub2c8\ud2f0\n",
        "Sword Art Online Theme FREE"
       ]
      },
      {
       "output_type": "stream",
       "stream": "stdout",
       "text": [
        " \ubbf8\uc6a9\n",
        "Sword Art Online Theme FREE"
       ]
      },
      {
       "output_type": "stream",
       "stream": "stdout",
       "text": [
        " \uc74c\uc545\n",
        "Sword Art Online Theme FREE"
       ]
      },
      {
       "output_type": "stream",
       "stream": "stdout",
       "text": [
        " \ub9ac\ubdf0\n",
        "Sword Art Online Theme FREE"
       ]
      },
      {
       "output_type": "stream",
       "stream": "stdout",
       "text": [
        " \uc5f0\uc608\n",
        "Sword Art Online Theme FREE \uc74c\uc2dd\n",
        "Sword Art Online Theme FREE"
       ]
      },
      {
       "output_type": "stream",
       "stream": "stdout",
       "text": [
        " \uc2a4\ud3ec\uce20\n",
        "Sword Art Online Theme FREE"
       ]
      },
      {
       "output_type": "stream",
       "stream": "stdout",
       "text": [
        " \uac8c\uc784\n",
        "Sword Art Online Theme FREE \uac74\uac15\n",
        "Sword Art Online Theme FREE"
       ]
      },
      {
       "output_type": "stream",
       "stream": "stdout",
       "text": [
        " \ud559\uc2b5\n",
        "Sword Art Online Theme FREE \ucee4\ubba4\ub2c8\ud2f0\n",
        "\u70ed\u95e8\u7384\u5e7b\u4fee\u771f\u5c0f\u8bf4\u5408\u96c6"
       ]
      },
      {
       "output_type": "stream",
       "stream": "stdout",
       "text": [
        " \ubbf8\uc6a9\n",
        "\u70ed\u95e8\u7384\u5e7b\u4fee\u771f\u5c0f\u8bf4\u5408\u96c6"
       ]
      },
      {
       "output_type": "stream",
       "stream": "stdout",
       "text": [
        " \uc74c\uc545\n",
        "\u70ed\u95e8\u7384\u5e7b\u4fee\u771f\u5c0f\u8bf4\u5408\u96c6"
       ]
      },
      {
       "output_type": "stream",
       "stream": "stdout",
       "text": [
        " \ub9ac\ubdf0\n",
        "\u70ed\u95e8\u7384\u5e7b\u4fee\u771f\u5c0f\u8bf4\u5408\u96c6"
       ]
      },
      {
       "output_type": "stream",
       "stream": "stdout",
       "text": [
        " \uc5f0\uc608\n",
        "\u70ed\u95e8\u7384\u5e7b\u4fee\u771f\u5c0f\u8bf4\u5408\u96c6"
       ]
      },
      {
       "output_type": "stream",
       "stream": "stdout",
       "text": [
        " \uc74c\uc2dd\n",
        "\u70ed\u95e8\u7384\u5e7b\u4fee\u771f\u5c0f\u8bf4\u5408\u96c6"
       ]
      },
      {
       "output_type": "stream",
       "stream": "stdout",
       "text": [
        " \uc2a4\ud3ec\uce20\n",
        "\u70ed\u95e8\u7384\u5e7b\u4fee\u771f\u5c0f\u8bf4\u5408\u96c6"
       ]
      },
      {
       "output_type": "stream",
       "stream": "stdout",
       "text": [
        " \uac8c\uc784\n",
        "\u70ed\u95e8\u7384\u5e7b\u4fee\u771f\u5c0f\u8bf4\u5408\u96c6"
       ]
      },
      {
       "output_type": "stream",
       "stream": "stdout",
       "text": [
        " \uac74\uac15\n",
        "\u70ed\u95e8\u7384\u5e7b\u4fee\u771f\u5c0f\u8bf4\u5408\u96c6"
       ]
      },
      {
       "output_type": "stream",
       "stream": "stdout",
       "text": [
        " \ud559\uc2b5\n",
        "\u70ed\u95e8\u7384\u5e7b\u4fee\u771f\u5c0f\u8bf4\u5408\u96c6"
       ]
      },
      {
       "output_type": "stream",
       "stream": "stdout",
       "text": [
        " \ucee4\ubba4\ub2c8\ud2f0\n",
        "\u6210\u4eba\u6fc0\u60c5\u8868\u59b9\u7684\u8bf1\u60d1\u5c0f\u8bf4"
       ]
      },
      {
       "output_type": "stream",
       "stream": "stdout",
       "text": [
        " \ubbf8\uc6a9\n",
        "\u6210\u4eba\u6fc0\u60c5\u8868\u59b9\u7684\u8bf1\u60d1\u5c0f\u8bf4"
       ]
      },
      {
       "output_type": "stream",
       "stream": "stdout",
       "text": [
        " \uc74c\uc545\n",
        "\u6210\u4eba\u6fc0\u60c5\u8868\u59b9\u7684\u8bf1\u60d1\u5c0f\u8bf4"
       ]
      },
      {
       "output_type": "stream",
       "stream": "stdout",
       "text": [
        " \ub9ac\ubdf0\n",
        "\u6210\u4eba\u6fc0\u60c5\u8868\u59b9\u7684\u8bf1\u60d1\u5c0f\u8bf4 \uc5f0\uc608\n",
        "\u6210\u4eba\u6fc0\u60c5\u8868\u59b9\u7684\u8bf1\u60d1\u5c0f\u8bf4"
       ]
      },
      {
       "output_type": "stream",
       "stream": "stdout",
       "text": [
        " \uc74c\uc2dd\n",
        "\u6210\u4eba\u6fc0\u60c5\u8868\u59b9\u7684\u8bf1\u60d1\u5c0f\u8bf4"
       ]
      },
      {
       "output_type": "stream",
       "stream": "stdout",
       "text": [
        " \uc2a4\ud3ec\uce20\n",
        "\u6210\u4eba\u6fc0\u60c5\u8868\u59b9\u7684\u8bf1\u60d1\u5c0f\u8bf4"
       ]
      },
      {
       "output_type": "stream",
       "stream": "stdout",
       "text": [
        " \uac8c\uc784\n",
        "\u6210\u4eba\u6fc0\u60c5\u8868\u59b9\u7684\u8bf1\u60d1\u5c0f\u8bf4"
       ]
      },
      {
       "output_type": "stream",
       "stream": "stdout",
       "text": [
        " \uac74\uac15\n",
        "\u6210\u4eba\u6fc0\u60c5\u8868\u59b9\u7684\u8bf1\u60d1\u5c0f\u8bf4"
       ]
      },
      {
       "output_type": "stream",
       "stream": "stdout",
       "text": [
        " \ud559\uc2b5\n",
        "\u6210\u4eba\u6fc0\u60c5\u8868\u59b9\u7684\u8bf1\u60d1\u5c0f\u8bf4"
       ]
      },
      {
       "output_type": "stream",
       "stream": "stdout",
       "text": [
        " \ucee4\ubba4\ub2c8\ud2f0\n",
        "\u5bab\u6597\u6fc0\u60c5\u6587\u5b66"
       ]
      },
      {
       "output_type": "stream",
       "stream": "stdout",
       "text": [
        " \ubbf8\uc6a9\n",
        "\u5bab\u6597\u6fc0\u60c5\u6587\u5b66"
       ]
      },
      {
       "output_type": "stream",
       "stream": "stdout",
       "text": [
        " \uc74c\uc545\n",
        "\u5bab\u6597\u6fc0\u60c5\u6587\u5b66"
       ]
      },
      {
       "output_type": "stream",
       "stream": "stdout",
       "text": [
        " \ub9ac\ubdf0\n",
        "\u5bab\u6597\u6fc0\u60c5\u6587\u5b66"
       ]
      },
      {
       "output_type": "stream",
       "stream": "stdout",
       "text": [
        " \uc5f0\uc608\n",
        "\u5bab\u6597\u6fc0\u60c5\u6587\u5b66"
       ]
      },
      {
       "output_type": "stream",
       "stream": "stdout",
       "text": [
        " \uc74c\uc2dd\n",
        "\u5bab\u6597\u6fc0\u60c5\u6587\u5b66"
       ]
      },
      {
       "output_type": "stream",
       "stream": "stdout",
       "text": [
        " \uc2a4\ud3ec\uce20\n",
        "\u5bab\u6597\u6fc0\u60c5\u6587\u5b66"
       ]
      },
      {
       "output_type": "stream",
       "stream": "stdout",
       "text": [
        " \uac8c\uc784\n",
        "\u5bab\u6597\u6fc0\u60c5\u6587\u5b66"
       ]
      },
      {
       "output_type": "stream",
       "stream": "stdout",
       "text": [
        " \uac74\uac15\n",
        "\u5bab\u6597\u6fc0\u60c5\u6587\u5b66"
       ]
      },
      {
       "output_type": "stream",
       "stream": "stdout",
       "text": [
        " \ud559\uc2b5\n",
        "\u5bab\u6597\u6fc0\u60c5\u6587\u5b66"
       ]
      },
      {
       "output_type": "stream",
       "stream": "stdout",
       "text": [
        " \ucee4\ubba4\ub2c8\ud2f0\n",
        "Be My Princess"
       ]
      },
      {
       "output_type": "stream",
       "stream": "stdout",
       "text": [
        " \ubbf8\uc6a9\n",
        "Be My Princess \uc74c\uc545\n",
        "Be My Princess"
       ]
      },
      {
       "output_type": "stream",
       "stream": "stdout",
       "text": [
        " \ub9ac\ubdf0\n",
        "Be My Princess"
       ]
      },
      {
       "output_type": "stream",
       "stream": "stdout",
       "text": [
        " \uc5f0\uc608\n",
        "Be My Princess"
       ]
      },
      {
       "output_type": "stream",
       "stream": "stdout",
       "text": [
        " \uc74c\uc2dd\n",
        "Be My Princess \uc2a4\ud3ec\uce20\n",
        "Be My Princess"
       ]
      },
      {
       "output_type": "stream",
       "stream": "stdout",
       "text": [
        " \uac8c\uc784\n",
        "Be My Princess"
       ]
      },
      {
       "output_type": "stream",
       "stream": "stdout",
       "text": [
        " \uac74\uac15\n",
        "Be My Princess"
       ]
      },
      {
       "output_type": "stream",
       "stream": "stdout",
       "text": [
        " \ud559\uc2b5\n",
        "Be My Princess \ucee4\ubba4\ub2c8\ud2f0\n",
        "TouchPal Swedish Pack"
       ]
      },
      {
       "output_type": "stream",
       "stream": "stdout",
       "text": [
        " \ubbf8\uc6a9\n",
        "TouchPal Swedish Pack"
       ]
      },
      {
       "output_type": "stream",
       "stream": "stdout",
       "text": [
        " \uc74c\uc545\n",
        "TouchPal Swedish Pack"
       ]
      },
      {
       "output_type": "stream",
       "stream": "stdout",
       "text": [
        " \ub9ac\ubdf0\n",
        "TouchPal Swedish Pack"
       ]
      },
      {
       "output_type": "stream",
       "stream": "stdout",
       "text": [
        " \uc5f0\uc608\n",
        "TouchPal Swedish Pack"
       ]
      },
      {
       "output_type": "stream",
       "stream": "stdout",
       "text": [
        " \uc74c\uc2dd\n",
        "TouchPal Swedish Pack"
       ]
      },
      {
       "output_type": "stream",
       "stream": "stdout",
       "text": [
        " \uc2a4\ud3ec\uce20\n",
        "TouchPal Swedish Pack"
       ]
      },
      {
       "output_type": "stream",
       "stream": "stdout",
       "text": [
        " \uac8c\uc784\n",
        "TouchPal Swedish Pack"
       ]
      },
      {
       "output_type": "stream",
       "stream": "stdout",
       "text": [
        " \uac74\uac15\n",
        "TouchPal Swedish Pack"
       ]
      },
      {
       "output_type": "stream",
       "stream": "stdout",
       "text": [
        " \ud559\uc2b5\n",
        "TouchPal Swedish Pack"
       ]
      },
      {
       "output_type": "stream",
       "stream": "stdout",
       "text": [
        " \ucee4\ubba4\ub2c8\ud2f0\n",
        "IDM Internet Download Magician"
       ]
      },
      {
       "output_type": "stream",
       "stream": "stdout",
       "text": [
        " \ubbf8\uc6a9\n",
        "IDM Internet Download Magician"
       ]
      },
      {
       "output_type": "stream",
       "stream": "stdout",
       "text": [
        " \uc74c\uc545\n",
        "IDM Internet Download Magician"
       ]
      },
      {
       "output_type": "stream",
       "stream": "stdout",
       "text": [
        " \ub9ac\ubdf0\n",
        "IDM Internet Download Magician"
       ]
      },
      {
       "output_type": "stream",
       "stream": "stdout",
       "text": [
        " \uc5f0\uc608\n",
        "IDM Internet Download Magician"
       ]
      },
      {
       "output_type": "stream",
       "stream": "stdout",
       "text": [
        " \uc74c\uc2dd\n",
        "IDM Internet Download Magician"
       ]
      },
      {
       "output_type": "stream",
       "stream": "stdout",
       "text": [
        " \uc2a4\ud3ec\uce20\n",
        "IDM Internet Download Magician \uac8c\uc784\n",
        "IDM Internet Download Magician"
       ]
      },
      {
       "output_type": "stream",
       "stream": "stdout",
       "text": [
        " \uac74\uac15\n",
        "IDM Internet Download Magician"
       ]
      },
      {
       "output_type": "stream",
       "stream": "stdout",
       "text": [
        " \ud559\uc2b5\n",
        "IDM Internet Download Magician"
       ]
      },
      {
       "output_type": "stream",
       "stream": "stdout",
       "text": [
        " \ucee4\ubba4\ub2c8\ud2f0\n",
        "\u7c21\u7e41:\u5bf5\u6587\u751c\u6587\u8a00\u60c5\u5c0f\u8aaa\u5408\u96c6[7] \ubbf8\uc6a9\n",
        "\u7c21\u7e41:\u5bf5\u6587\u751c\u6587\u8a00\u60c5\u5c0f\u8aaa\u5408\u96c6[7]"
       ]
      },
      {
       "output_type": "stream",
       "stream": "stdout",
       "text": [
        " \uc74c\uc545\n",
        "\u7c21\u7e41:\u5bf5\u6587\u751c\u6587\u8a00\u60c5\u5c0f\u8aaa\u5408\u96c6[7]"
       ]
      },
      {
       "output_type": "stream",
       "stream": "stdout",
       "text": [
        " \ub9ac\ubdf0\n",
        "\u7c21\u7e41:\u5bf5\u6587\u751c\u6587\u8a00\u60c5\u5c0f\u8aaa\u5408\u96c6[7]"
       ]
      },
      {
       "output_type": "stream",
       "stream": "stdout",
       "text": [
        " \uc5f0\uc608\n",
        "\u7c21\u7e41:\u5bf5\u6587\u751c\u6587\u8a00\u60c5\u5c0f\u8aaa\u5408\u96c6[7]"
       ]
      },
      {
       "output_type": "stream",
       "stream": "stdout",
       "text": [
        " \uc74c\uc2dd\n",
        "\u7c21\u7e41:\u5bf5\u6587\u751c\u6587\u8a00\u60c5\u5c0f\u8aaa\u5408\u96c6[7]"
       ]
      },
      {
       "output_type": "stream",
       "stream": "stdout",
       "text": [
        " \uc2a4\ud3ec\uce20\n",
        "\u7c21\u7e41:\u5bf5\u6587\u751c\u6587\u8a00\u60c5\u5c0f\u8aaa\u5408\u96c6[7]"
       ]
      },
      {
       "output_type": "stream",
       "stream": "stdout",
       "text": [
        " \uac8c\uc784\n",
        "\u7c21\u7e41:\u5bf5\u6587\u751c\u6587\u8a00\u60c5\u5c0f\u8aaa\u5408\u96c6[7]"
       ]
      },
      {
       "output_type": "stream",
       "stream": "stdout",
       "text": [
        " \uac74\uac15\n",
        "\u7c21\u7e41:\u5bf5\u6587\u751c\u6587\u8a00\u60c5\u5c0f\u8aaa\u5408\u96c6[7]"
       ]
      },
      {
       "output_type": "stream",
       "stream": "stdout",
       "text": [
        " \ud559\uc2b5\n",
        "\u7c21\u7e41:\u5bf5\u6587\u751c\u6587\u8a00\u60c5\u5c0f\u8aaa\u5408\u96c6[7]"
       ]
      },
      {
       "output_type": "stream",
       "stream": "stdout",
       "text": [
        " \ucee4\ubba4\ub2c8\ud2f0\n",
        "Android 2.2 API Demos"
       ]
      },
      {
       "output_type": "stream",
       "stream": "stdout",
       "text": [
        " \ubbf8\uc6a9\n",
        "Android 2.2 API Demos"
       ]
      },
      {
       "output_type": "stream",
       "stream": "stdout",
       "text": [
        " \uc74c\uc545\n",
        "Android 2.2 API Demos"
       ]
      },
      {
       "output_type": "stream",
       "stream": "stdout",
       "text": [
        " \ub9ac\ubdf0\n",
        "Android 2.2 API Demos \uc5f0\uc608\n",
        "Android 2.2 API Demos"
       ]
      },
      {
       "output_type": "stream",
       "stream": "stdout",
       "text": [
        " \uc74c\uc2dd\n",
        "Android 2.2 API Demos \uc2a4\ud3ec\uce20\n",
        "Android 2.2 API Demos"
       ]
      },
      {
       "output_type": "stream",
       "stream": "stdout",
       "text": [
        " \uac8c\uc784\n",
        "Android 2.2 API Demos \uac74\uac15\n",
        "Android 2.2 API Demos"
       ]
      },
      {
       "output_type": "stream",
       "stream": "stdout",
       "text": [
        " \ud559\uc2b5\n",
        "Android 2.2 API Demos \ucee4\ubba4\ub2c8\ud2f0\n",
        "\ubfcc\uae4c \uc0ac\ucc9c\uc131"
       ]
      },
      {
       "output_type": "stream",
       "stream": "stdout",
       "text": [
        " \ubbf8\uc6a9\n",
        "\ubfcc\uae4c \uc0ac\ucc9c\uc131"
       ]
      },
      {
       "output_type": "stream",
       "stream": "stdout",
       "text": [
        " \uc74c\uc545\n",
        "\ubfcc\uae4c \uc0ac\ucc9c\uc131"
       ]
      },
      {
       "output_type": "stream",
       "stream": "stdout",
       "text": [
        " \ub9ac\ubdf0\n",
        "\ubfcc\uae4c \uc0ac\ucc9c\uc131 \uc5f0\uc608\n",
        "\ubfcc\uae4c \uc0ac\ucc9c\uc131"
       ]
      },
      {
       "output_type": "stream",
       "stream": "stdout",
       "text": [
        " \uc74c\uc2dd\n",
        "\ubfcc\uae4c \uc0ac\ucc9c\uc131"
       ]
      },
      {
       "output_type": "stream",
       "stream": "stdout",
       "text": [
        " \uc2a4\ud3ec\uce20\n",
        "\ubfcc\uae4c \uc0ac\ucc9c\uc131"
       ]
      },
      {
       "output_type": "stream",
       "stream": "stdout",
       "text": [
        " \uac8c\uc784\n",
        "\ubfcc\uae4c \uc0ac\ucc9c\uc131"
       ]
      },
      {
       "output_type": "stream",
       "stream": "stdout",
       "text": [
        " \uac74\uac15\n",
        "\ubfcc\uae4c \uc0ac\ucc9c\uc131 \ud559\uc2b5\n",
        "\ubfcc\uae4c \uc0ac\ucc9c\uc131"
       ]
      },
      {
       "output_type": "stream",
       "stream": "stdout",
       "text": [
        " \ucee4\ubba4\ub2c8\ud2f0\n",
        "Dreamhouse Next Launcher Theme"
       ]
      },
      {
       "output_type": "stream",
       "stream": "stdout",
       "text": [
        " \ubbf8\uc6a9\n",
        "Dreamhouse Next Launcher Theme \uc74c\uc545\n",
        "Dreamhouse Next Launcher Theme"
       ]
      },
      {
       "output_type": "stream",
       "stream": "stdout",
       "text": [
        " \ub9ac\ubdf0\n",
        "Dreamhouse Next Launcher Theme"
       ]
      },
      {
       "output_type": "stream",
       "stream": "stdout",
       "text": [
        " \uc5f0\uc608\n",
        "Dreamhouse Next Launcher Theme \uc74c\uc2dd\n",
        "Dreamhouse Next Launcher Theme"
       ]
      },
      {
       "output_type": "stream",
       "stream": "stdout",
       "text": [
        " \uc2a4\ud3ec\uce20\n",
        "Dreamhouse Next Launcher Theme \uac8c\uc784\n",
        "Dreamhouse Next Launcher Theme"
       ]
      },
      {
       "output_type": "stream",
       "stream": "stdout",
       "text": [
        " \uac74\uac15\n",
        "Dreamhouse Next Launcher Theme \ud559\uc2b5\n",
        "Dreamhouse Next Launcher Theme"
       ]
      },
      {
       "output_type": "stream",
       "stream": "stdout",
       "text": [
        " \ucee4\ubba4\ub2c8\ud2f0\n",
        "\ub9c8\uc774 \uce74 \uc0b4\ub871 2"
       ]
      },
      {
       "output_type": "stream",
       "stream": "stdout",
       "text": [
        " \ubbf8\uc6a9\n",
        "\ub9c8\uc774 \uce74 \uc0b4\ub871 2"
       ]
      },
      {
       "output_type": "stream",
       "stream": "stdout",
       "text": [
        " \uc74c\uc545\n",
        "\ub9c8\uc774 \uce74 \uc0b4\ub871 2"
       ]
      },
      {
       "output_type": "stream",
       "stream": "stdout",
       "text": [
        " \ub9ac\ubdf0\n",
        "\ub9c8\uc774 \uce74 \uc0b4\ub871 2"
       ]
      },
      {
       "output_type": "stream",
       "stream": "stdout",
       "text": [
        " \uc5f0\uc608\n",
        "\ub9c8\uc774 \uce74 \uc0b4\ub871 2"
       ]
      },
      {
       "output_type": "stream",
       "stream": "stdout",
       "text": [
        " \uc74c\uc2dd\n",
        "\ub9c8\uc774 \uce74 \uc0b4\ub871 2"
       ]
      },
      {
       "output_type": "stream",
       "stream": "stdout",
       "text": [
        " \uc2a4\ud3ec\uce20\n",
        "\ub9c8\uc774 \uce74 \uc0b4\ub871 2"
       ]
      },
      {
       "output_type": "stream",
       "stream": "stdout",
       "text": [
        " \uac8c\uc784\n",
        "\ub9c8\uc774 \uce74 \uc0b4\ub871 2"
       ]
      },
      {
       "output_type": "stream",
       "stream": "stdout",
       "text": [
        " \uac74\uac15\n",
        "\ub9c8\uc774 \uce74 \uc0b4\ub871 2 \ud559\uc2b5\n",
        "\ub9c8\uc774 \uce74 \uc0b4\ub871 2"
       ]
      },
      {
       "output_type": "stream",
       "stream": "stdout",
       "text": [
        " \ucee4\ubba4\ub2c8\ud2f0\n",
        "\ud0c0\uc774\ub2c8\uc6cc"
       ]
      },
      {
       "output_type": "stream",
       "stream": "stdout",
       "text": [
        " \ubbf8\uc6a9\n",
        "\ud0c0\uc774\ub2c8\uc6cc"
       ]
      },
      {
       "output_type": "stream",
       "stream": "stdout",
       "text": [
        " \uc74c\uc545\n",
        "\ud0c0\uc774\ub2c8\uc6cc"
       ]
      },
      {
       "output_type": "stream",
       "stream": "stdout",
       "text": [
        " \ub9ac\ubdf0\n",
        "\ud0c0\uc774\ub2c8\uc6cc"
       ]
      },
      {
       "output_type": "stream",
       "stream": "stdout",
       "text": [
        " \uc5f0\uc608\n",
        "\ud0c0\uc774\ub2c8\uc6cc"
       ]
      },
      {
       "output_type": "stream",
       "stream": "stdout",
       "text": [
        " \uc74c\uc2dd\n",
        "\ud0c0\uc774\ub2c8\uc6cc"
       ]
      },
      {
       "output_type": "stream",
       "stream": "stdout",
       "text": [
        " \uc2a4\ud3ec\uce20\n",
        "\ud0c0\uc774\ub2c8\uc6cc"
       ]
      },
      {
       "output_type": "stream",
       "stream": "stdout",
       "text": [
        " \uac8c\uc784\n",
        "\ud0c0\uc774\ub2c8\uc6cc"
       ]
      },
      {
       "output_type": "stream",
       "stream": "stdout",
       "text": [
        " \uac74\uac15\n",
        "\ud0c0\uc774\ub2c8\uc6cc"
       ]
      },
      {
       "output_type": "stream",
       "stream": "stdout",
       "text": [
        " \ud559\uc2b5\n",
        "\ud0c0\uc774\ub2c8\uc6cc"
       ]
      },
      {
       "output_type": "stream",
       "stream": "stdout",
       "text": [
        " \ucee4\ubba4\ub2c8\ud2f0\n",
        "\ub85c\ubcf4"
       ]
      },
      {
       "output_type": "stream",
       "stream": "stdout",
       "text": [
        " \ubbf8\uc6a9\n",
        "\ub85c\ubcf4"
       ]
      },
      {
       "output_type": "stream",
       "stream": "stdout",
       "text": [
        " \uc74c\uc545\n",
        "\ub85c\ubcf4"
       ]
      },
      {
       "output_type": "stream",
       "stream": "stdout",
       "text": [
        " \ub9ac\ubdf0\n",
        "\ub85c\ubcf4"
       ]
      },
      {
       "output_type": "stream",
       "stream": "stdout",
       "text": [
        " \uc5f0\uc608\n",
        "\ub85c\ubcf4"
       ]
      },
      {
       "output_type": "stream",
       "stream": "stdout",
       "text": [
        " \uc74c\uc2dd\n",
        "\ub85c\ubcf4"
       ]
      },
      {
       "output_type": "stream",
       "stream": "stdout",
       "text": [
        " \uc2a4\ud3ec\uce20\n",
        "\ub85c\ubcf4"
       ]
      },
      {
       "output_type": "stream",
       "stream": "stdout",
       "text": [
        " \uac8c\uc784\n",
        "\ub85c\ubcf4"
       ]
      },
      {
       "output_type": "stream",
       "stream": "stdout",
       "text": [
        " \uac74\uac15\n",
        "\ub85c\ubcf4"
       ]
      },
      {
       "output_type": "stream",
       "stream": "stdout",
       "text": [
        " \ud559\uc2b5\n",
        "\ub85c\ubcf4"
       ]
      },
      {
       "output_type": "stream",
       "stream": "stdout",
       "text": [
        " \ucee4\ubba4\ub2c8\ud2f0\n",
        "\ud50c\ub808\uc774\uc5b4 \ucd95\uad6c \uc0ac\uc9c4 \ud034\uc988"
       ]
      },
      {
       "output_type": "stream",
       "stream": "stdout",
       "text": [
        " \ubbf8\uc6a9\n",
        "\ud50c\ub808\uc774\uc5b4 \ucd95\uad6c \uc0ac\uc9c4 \ud034\uc988"
       ]
      },
      {
       "output_type": "stream",
       "stream": "stdout",
       "text": [
        " \uc74c\uc545\n",
        "\ud50c\ub808\uc774\uc5b4 \ucd95\uad6c \uc0ac\uc9c4 \ud034\uc988 \ub9ac\ubdf0\n",
        "\ud50c\ub808\uc774\uc5b4 \ucd95\uad6c \uc0ac\uc9c4 \ud034\uc988"
       ]
      },
      {
       "output_type": "stream",
       "stream": "stdout",
       "text": [
        " \uc5f0\uc608\n",
        "\ud50c\ub808\uc774\uc5b4 \ucd95\uad6c \uc0ac\uc9c4 \ud034\uc988"
       ]
      },
      {
       "output_type": "stream",
       "stream": "stdout",
       "text": [
        " \uc74c\uc2dd\n",
        "\ud50c\ub808\uc774\uc5b4 \ucd95\uad6c \uc0ac\uc9c4 \ud034\uc988"
       ]
      },
      {
       "output_type": "stream",
       "stream": "stdout",
       "text": [
        " \uc2a4\ud3ec\uce20\n",
        "\ud50c\ub808\uc774\uc5b4 \ucd95\uad6c \uc0ac\uc9c4 \ud034\uc988"
       ]
      },
      {
       "output_type": "stream",
       "stream": "stdout",
       "text": [
        " \uac8c\uc784\n",
        "\ud50c\ub808\uc774\uc5b4 \ucd95\uad6c \uc0ac\uc9c4 \ud034\uc988"
       ]
      },
      {
       "output_type": "stream",
       "stream": "stdout",
       "text": [
        " \uac74\uac15\n",
        "\ud50c\ub808\uc774\uc5b4 \ucd95\uad6c \uc0ac\uc9c4 \ud034\uc988"
       ]
      },
      {
       "output_type": "stream",
       "stream": "stdout",
       "text": [
        " \ud559\uc2b5\n",
        "\ud50c\ub808\uc774\uc5b4 \ucd95\uad6c \uc0ac\uc9c4 \ud034\uc988"
       ]
      },
      {
       "output_type": "stream",
       "stream": "stdout",
       "text": [
        " \ucee4\ubba4\ub2c8\ud2f0\n",
        "\u2605 3D RPG Heaven Sword \u2605"
       ]
      },
      {
       "output_type": "stream",
       "stream": "stdout",
       "text": [
        " \ubbf8\uc6a9\n",
        "\u2605 3D RPG Heaven Sword \u2605"
       ]
      },
      {
       "output_type": "stream",
       "stream": "stdout",
       "text": [
        " \uc74c\uc545\n",
        "\u2605 3D RPG Heaven Sword \u2605 \ub9ac\ubdf0\n",
        "\u2605 3D RPG Heaven Sword \u2605"
       ]
      },
      {
       "output_type": "stream",
       "stream": "stdout",
       "text": [
        " \uc5f0\uc608\n",
        "\u2605 3D RPG Heaven Sword \u2605"
       ]
      },
      {
       "output_type": "stream",
       "stream": "stdout",
       "text": [
        " \uc74c\uc2dd\n",
        "\u2605 3D RPG Heaven Sword \u2605 \uc2a4\ud3ec\uce20\n",
        "\u2605 3D RPG Heaven Sword \u2605"
       ]
      },
      {
       "output_type": "stream",
       "stream": "stdout",
       "text": [
        " \uac8c\uc784\n",
        "\u2605 3D RPG Heaven Sword \u2605"
       ]
      },
      {
       "output_type": "stream",
       "stream": "stdout",
       "text": [
        " \uac74\uac15\n",
        "\u2605 3D RPG Heaven Sword \u2605 \ud559\uc2b5\n",
        "\u2605 3D RPG Heaven Sword \u2605"
       ]
      },
      {
       "output_type": "stream",
       "stream": "stdout",
       "text": [
        " \ucee4\ubba4\ub2c8\ud2f0\n",
        "If Serie A 2012 - 2013 Lite"
       ]
      },
      {
       "output_type": "stream",
       "stream": "stdout",
       "text": [
        " \ubbf8\uc6a9\n",
        "If Serie A 2012 - 2013 Lite"
       ]
      },
      {
       "output_type": "stream",
       "stream": "stdout",
       "text": [
        " \uc74c\uc545\n",
        "If Serie A 2012 - 2013 Lite"
       ]
      },
      {
       "output_type": "stream",
       "stream": "stdout",
       "text": [
        " \ub9ac\ubdf0\n",
        "If Serie A 2012 - 2013 Lite"
       ]
      },
      {
       "output_type": "stream",
       "stream": "stdout",
       "text": [
        " \uc5f0\uc608\n",
        "If Serie A 2012 - 2013 Lite \uc74c\uc2dd\n",
        "If Serie A 2012 - 2013 Lite"
       ]
      },
      {
       "output_type": "stream",
       "stream": "stdout",
       "text": [
        " \uc2a4\ud3ec\uce20\n",
        "If Serie A 2012 - 2013 Lite \uac8c\uc784\n",
        "If Serie A 2012 - 2013 Lite"
       ]
      },
      {
       "output_type": "stream",
       "stream": "stdout",
       "text": [
        " \uac74\uac15\n",
        "If Serie A 2012 - 2013 Lite"
       ]
      },
      {
       "output_type": "stream",
       "stream": "stdout",
       "text": [
        " \ud559\uc2b5\n",
        "If Serie A 2012 - 2013 Lite"
       ]
      },
      {
       "output_type": "stream",
       "stream": "stdout",
       "text": [
        " \ucee4\ubba4\ub2c8\ud2f0\n",
        "Opzi Bingo"
       ]
      },
      {
       "output_type": "stream",
       "stream": "stdout",
       "text": [
        " \ubbf8\uc6a9\n",
        "Opzi Bingo \uc74c\uc545\n",
        "Opzi Bingo"
       ]
      },
      {
       "output_type": "stream",
       "stream": "stdout",
       "text": [
        " \ub9ac\ubdf0\n",
        "Opzi Bingo"
       ]
      },
      {
       "output_type": "stream",
       "stream": "stdout",
       "text": [
        " \uc5f0\uc608\n",
        "Opzi Bingo"
       ]
      },
      {
       "output_type": "stream",
       "stream": "stdout",
       "text": [
        " \uc74c\uc2dd\n",
        "Opzi Bingo \uc2a4\ud3ec\uce20\n",
        "Opzi Bingo"
       ]
      },
      {
       "output_type": "stream",
       "stream": "stdout",
       "text": [
        " \uac8c\uc784\n",
        "Opzi Bingo"
       ]
      },
      {
       "output_type": "stream",
       "stream": "stdout",
       "text": [
        " \uac74\uac15\n",
        "Opzi Bingo"
       ]
      },
      {
       "output_type": "stream",
       "stream": "stdout",
       "text": [
        " \ud559\uc2b5\n",
        "Opzi Bingo \ucee4\ubba4\ub2c8\ud2f0\n",
        "Tap Play"
       ]
      },
      {
       "output_type": "stream",
       "stream": "stdout",
       "text": [
        " \ubbf8\uc6a9\n",
        "Tap Play \uc74c\uc545\n",
        "Tap Play"
       ]
      },
      {
       "output_type": "stream",
       "stream": "stdout",
       "text": [
        " \ub9ac\ubdf0\n",
        "Tap Play"
       ]
      },
      {
       "output_type": "stream",
       "stream": "stdout",
       "text": [
        " \uc5f0\uc608\n",
        "Tap Play"
       ]
      },
      {
       "output_type": "stream",
       "stream": "stdout",
       "text": [
        " \uc74c\uc2dd\n",
        "Tap Play \uc2a4\ud3ec\uce20\n",
        "Tap Play"
       ]
      },
      {
       "output_type": "stream",
       "stream": "stdout",
       "text": [
        " \uac8c\uc784\n",
        "Tap Play \uac74\uac15\n",
        "Tap Play"
       ]
      },
      {
       "output_type": "stream",
       "stream": "stdout",
       "text": [
        " \ud559\uc2b5\n",
        "Tap Play \ucee4\ubba4\ub2c8\ud2f0\n",
        "Sweet Ring Shop"
       ]
      },
      {
       "output_type": "stream",
       "stream": "stdout",
       "text": [
        " \ubbf8\uc6a9\n",
        "Sweet Ring Shop \uc74c\uc545\n",
        "Sweet Ring Shop"
       ]
      },
      {
       "output_type": "stream",
       "stream": "stdout",
       "text": [
        " \ub9ac\ubdf0\n",
        "Sweet Ring Shop \uc5f0\uc608\n",
        "Sweet Ring Shop"
       ]
      },
      {
       "output_type": "stream",
       "stream": "stdout",
       "text": [
        " \uc74c\uc2dd\n",
        "Sweet Ring Shop \uc2a4\ud3ec\uce20\n",
        "Sweet Ring Shop"
       ]
      },
      {
       "output_type": "stream",
       "stream": "stdout",
       "text": [
        " \uac8c\uc784\n",
        "Sweet Ring Shop \uac74\uac15\n",
        "Sweet Ring Shop"
       ]
      },
      {
       "output_type": "stream",
       "stream": "stdout",
       "text": [
        " \ud559\uc2b5\n",
        "Sweet Ring Shop"
       ]
      },
      {
       "output_type": "stream",
       "stream": "stdout",
       "text": [
        " \ucee4\ubba4\ub2c8\ud2f0\n",
        "Love Quote Pics for Facebook \ubbf8\uc6a9\n",
        "Love Quote Pics for Facebook"
       ]
      },
      {
       "output_type": "stream",
       "stream": "stdout",
       "text": [
        " \uc74c\uc545\n",
        "Love Quote Pics for Facebook \ub9ac\ubdf0\n",
        "Love Quote Pics for Facebook"
       ]
      },
      {
       "output_type": "stream",
       "stream": "stdout",
       "text": [
        " \uc5f0\uc608\n",
        "Love Quote Pics for Facebook \uc74c\uc2dd\n",
        "Love Quote Pics for Facebook"
       ]
      },
      {
       "output_type": "stream",
       "stream": "stdout",
       "text": [
        " \uc2a4\ud3ec\uce20\n",
        "Love Quote Pics for Facebook \uac8c\uc784\n",
        "Love Quote Pics for Facebook"
       ]
      },
      {
       "output_type": "stream",
       "stream": "stdout",
       "text": [
        " \uac74\uac15\n",
        "Love Quote Pics for Facebook"
       ]
      },
      {
       "output_type": "stream",
       "stream": "stdout",
       "text": [
        " \ud559\uc2b5\n",
        "Love Quote Pics for Facebook"
       ]
      },
      {
       "output_type": "stream",
       "stream": "stdout",
       "text": [
        " \ucee4\ubba4\ub2c8\ud2f0\n",
        "\uce74\uc624\uc2a4\uc601\uc6c5\uc804 \ubbf8\uc6a9\n",
        "\uce74\uc624\uc2a4\uc601\uc6c5\uc804"
       ]
      },
      {
       "output_type": "stream",
       "stream": "stdout",
       "text": [
        " \uc74c\uc545\n",
        "\uce74\uc624\uc2a4\uc601\uc6c5\uc804"
       ]
      },
      {
       "output_type": "stream",
       "stream": "stdout",
       "text": [
        " \ub9ac\ubdf0\n",
        "\uce74\uc624\uc2a4\uc601\uc6c5\uc804"
       ]
      },
      {
       "output_type": "stream",
       "stream": "stdout",
       "text": [
        " \uc5f0\uc608\n",
        "\uce74\uc624\uc2a4\uc601\uc6c5\uc804"
       ]
      },
      {
       "output_type": "stream",
       "stream": "stdout",
       "text": [
        " \uc74c\uc2dd\n",
        "\uce74\uc624\uc2a4\uc601\uc6c5\uc804"
       ]
      },
      {
       "output_type": "stream",
       "stream": "stdout",
       "text": [
        " \uc2a4\ud3ec\uce20\n",
        "\uce74\uc624\uc2a4\uc601\uc6c5\uc804"
       ]
      },
      {
       "output_type": "stream",
       "stream": "stdout",
       "text": [
        " \uac8c\uc784\n",
        "\uce74\uc624\uc2a4\uc601\uc6c5\uc804"
       ]
      },
      {
       "output_type": "stream",
       "stream": "stdout",
       "text": [
        " \uac74\uac15\n",
        "\uce74\uc624\uc2a4\uc601\uc6c5\uc804"
       ]
      },
      {
       "output_type": "stream",
       "stream": "stdout",
       "text": [
        " \ud559\uc2b5\n",
        "\uce74\uc624\uc2a4\uc601\uc6c5\uc804"
       ]
      },
      {
       "output_type": "stream",
       "stream": "stdout",
       "text": [
        " \ucee4\ubba4\ub2c8\ud2f0\n",
        "\uc880\ube44 \uc3f4"
       ]
      },
      {
       "output_type": "stream",
       "stream": "stdout",
       "text": [
        " \ubbf8\uc6a9\n",
        "\uc880\ube44 \uc3f4 \uc74c\uc545\n",
        "\uc880\ube44 \uc3f4"
       ]
      },
      {
       "output_type": "stream",
       "stream": "stdout",
       "text": [
        " \ub9ac\ubdf0\n",
        "\uc880\ube44 \uc3f4 \uc5f0\uc608\n",
        "\uc880\ube44 \uc3f4"
       ]
      },
      {
       "output_type": "stream",
       "stream": "stdout",
       "text": [
        " \uc74c\uc2dd\n",
        "\uc880\ube44 \uc3f4"
       ]
      },
      {
       "output_type": "stream",
       "stream": "stdout",
       "text": [
        " \uc2a4\ud3ec\uce20\n",
        "\uc880\ube44 \uc3f4"
       ]
      },
      {
       "output_type": "stream",
       "stream": "stdout",
       "text": [
        " \uac8c\uc784\n",
        "\uc880\ube44 \uc3f4"
       ]
      },
      {
       "output_type": "stream",
       "stream": "stdout",
       "text": [
        " \uac74\uac15\n",
        "\uc880\ube44 \uc3f4 \ud559\uc2b5\n",
        "\uc880\ube44 \uc3f4"
       ]
      },
      {
       "output_type": "stream",
       "stream": "stdout",
       "text": [
        " \ucee4\ubba4\ub2c8\ud2f0\n",
        "\ubaac\uc2a4\ud130 \ucf54\uc778"
       ]
      },
      {
       "output_type": "stream",
       "stream": "stdout",
       "text": [
        " \ubbf8\uc6a9\n",
        "\ubaac\uc2a4\ud130 \ucf54\uc778 \uc74c\uc545\n",
        "\ubaac\uc2a4\ud130 \ucf54\uc778"
       ]
      },
      {
       "output_type": "stream",
       "stream": "stdout",
       "text": [
        " \ub9ac\ubdf0\n",
        "\ubaac\uc2a4\ud130 \ucf54\uc778"
       ]
      },
      {
       "output_type": "stream",
       "stream": "stdout",
       "text": [
        " \uc5f0\uc608\n",
        "\ubaac\uc2a4\ud130 \ucf54\uc778"
       ]
      },
      {
       "output_type": "stream",
       "stream": "stdout",
       "text": [
        " \uc74c\uc2dd\n",
        "\ubaac\uc2a4\ud130 \ucf54\uc778 \uc2a4\ud3ec\uce20\n",
        "\ubaac\uc2a4\ud130 \ucf54\uc778"
       ]
      },
      {
       "output_type": "stream",
       "stream": "stdout",
       "text": [
        " \uac8c\uc784\n",
        "\ubaac\uc2a4\ud130 \ucf54\uc778"
       ]
      },
      {
       "output_type": "stream",
       "stream": "stdout",
       "text": [
        " \uac74\uac15\n",
        "\ubaac\uc2a4\ud130 \ucf54\uc778"
       ]
      },
      {
       "output_type": "stream",
       "stream": "stdout",
       "text": [
        " \ud559\uc2b5\n",
        "\ubaac\uc2a4\ud130 \ucf54\uc778"
       ]
      },
      {
       "output_type": "stream",
       "stream": "stdout",
       "text": [
        " \ucee4\ubba4\ub2c8\ud2f0\n",
        "OctoCheck"
       ]
      },
      {
       "output_type": "stream",
       "stream": "stdout",
       "text": [
        " \ubbf8\uc6a9\n",
        "OctoCheck"
       ]
      },
      {
       "output_type": "stream",
       "stream": "stdout",
       "text": [
        " \uc74c\uc545\n",
        "OctoCheck"
       ]
      },
      {
       "output_type": "stream",
       "stream": "stdout",
       "text": [
        " \ub9ac\ubdf0\n",
        "OctoCheck"
       ]
      },
      {
       "output_type": "stream",
       "stream": "stdout",
       "text": [
        " \uc5f0\uc608\n",
        "OctoCheck"
       ]
      },
      {
       "output_type": "stream",
       "stream": "stdout",
       "text": [
        " \uc74c\uc2dd\n",
        "OctoCheck"
       ]
      },
      {
       "output_type": "stream",
       "stream": "stdout",
       "text": [
        " \uc2a4\ud3ec\uce20\n",
        "OctoCheck"
       ]
      },
      {
       "output_type": "stream",
       "stream": "stdout",
       "text": [
        " \uac8c\uc784\n",
        "OctoCheck"
       ]
      },
      {
       "output_type": "stream",
       "stream": "stdout",
       "text": [
        " \uac74\uac15\n",
        "OctoCheck"
       ]
      },
      {
       "output_type": "stream",
       "stream": "stdout",
       "text": [
        " \ud559\uc2b5\n",
        "OctoCheck"
       ]
      },
      {
       "output_type": "stream",
       "stream": "stdout",
       "text": [
        " \ucee4\ubba4\ub2c8\ud2f0\n",
        "\u7ec8\u6781\u5854\u9632"
       ]
      },
      {
       "output_type": "stream",
       "stream": "stdout",
       "text": [
        " \ubbf8\uc6a9\n",
        "\u7ec8\u6781\u5854\u9632"
       ]
      },
      {
       "output_type": "stream",
       "stream": "stdout",
       "text": [
        " \uc74c\uc545\n",
        "\u7ec8\u6781\u5854\u9632"
       ]
      },
      {
       "output_type": "stream",
       "stream": "stdout",
       "text": [
        " \ub9ac\ubdf0\n",
        "\u7ec8\u6781\u5854\u9632"
       ]
      },
      {
       "output_type": "stream",
       "stream": "stdout",
       "text": [
        " \uc5f0\uc608\n",
        "\u7ec8\u6781\u5854\u9632"
       ]
      },
      {
       "output_type": "stream",
       "stream": "stdout",
       "text": [
        " \uc74c\uc2dd\n",
        "\u7ec8\u6781\u5854\u9632"
       ]
      },
      {
       "output_type": "stream",
       "stream": "stdout",
       "text": [
        " \uc2a4\ud3ec\uce20\n",
        "\u7ec8\u6781\u5854\u9632"
       ]
      },
      {
       "output_type": "stream",
       "stream": "stdout",
       "text": [
        " \uac8c\uc784\n",
        "\u7ec8\u6781\u5854\u9632"
       ]
      },
      {
       "output_type": "stream",
       "stream": "stdout",
       "text": [
        " \uac74\uac15\n",
        "\u7ec8\u6781\u5854\u9632"
       ]
      },
      {
       "output_type": "stream",
       "stream": "stdout",
       "text": [
        " \ud559\uc2b5\n",
        "\u7ec8\u6781\u5854\u9632"
       ]
      },
      {
       "output_type": "stream",
       "stream": "stdout",
       "text": [
        " \ucee4\ubba4\ub2c8\ud2f0\n",
        "\uc5ec\uc790\ub97c\uc704\ud55c \uba4b\uc9c4 \uac8c\uc784"
       ]
      },
      {
       "output_type": "stream",
       "stream": "stdout",
       "text": [
        " \ubbf8\uc6a9\n",
        "\uc5ec\uc790\ub97c\uc704\ud55c \uba4b\uc9c4 \uac8c\uc784 \uc74c\uc545\n",
        "\uc5ec\uc790\ub97c\uc704\ud55c \uba4b\uc9c4 \uac8c\uc784"
       ]
      },
      {
       "output_type": "stream",
       "stream": "stdout",
       "text": [
        " \ub9ac\ubdf0\n",
        "\uc5ec\uc790\ub97c\uc704\ud55c \uba4b\uc9c4 \uac8c\uc784 \uc5f0\uc608\n",
        "\uc5ec\uc790\ub97c\uc704\ud55c \uba4b\uc9c4 \uac8c\uc784"
       ]
      },
      {
       "output_type": "stream",
       "stream": "stdout",
       "text": [
        " \uc74c\uc2dd\n",
        "\uc5ec\uc790\ub97c\uc704\ud55c \uba4b\uc9c4 \uac8c\uc784 \uc2a4\ud3ec\uce20\n",
        "\uc5ec\uc790\ub97c\uc704\ud55c \uba4b\uc9c4 \uac8c\uc784"
       ]
      },
      {
       "output_type": "stream",
       "stream": "stdout",
       "text": [
        " \uac8c\uc784\n",
        "\uc5ec\uc790\ub97c\uc704\ud55c \uba4b\uc9c4 \uac8c\uc784"
       ]
      },
      {
       "output_type": "stream",
       "stream": "stdout",
       "text": [
        " \uac74\uac15\n",
        "\uc5ec\uc790\ub97c\uc704\ud55c \uba4b\uc9c4 \uac8c\uc784"
       ]
      },
      {
       "output_type": "stream",
       "stream": "stdout",
       "text": [
        " \ud559\uc2b5\n",
        "\uc5ec\uc790\ub97c\uc704\ud55c \uba4b\uc9c4 \uac8c\uc784 \ucee4\ubba4\ub2c8\ud2f0\n",
        "Top Shooter"
       ]
      },
      {
       "output_type": "stream",
       "stream": "stdout",
       "text": [
        " \ubbf8\uc6a9\n",
        "Top Shooter \uc74c\uc545\n",
        "Top Shooter"
       ]
      },
      {
       "output_type": "stream",
       "stream": "stdout",
       "text": [
        " \ub9ac\ubdf0\n",
        "Top Shooter \uc5f0\uc608\n",
        "Top Shooter"
       ]
      },
      {
       "output_type": "stream",
       "stream": "stdout",
       "text": [
        " \uc74c\uc2dd\n",
        "Top Shooter \uc2a4\ud3ec\uce20\n",
        "Top Shooter"
       ]
      },
      {
       "output_type": "stream",
       "stream": "stdout",
       "text": [
        " \uac8c\uc784\n",
        "Top Shooter"
       ]
      },
      {
       "output_type": "stream",
       "stream": "stdout",
       "text": [
        " \uac74\uac15\n",
        "Top Shooter"
       ]
      },
      {
       "output_type": "stream",
       "stream": "stdout",
       "text": [
        " \ud559\uc2b5\n",
        "Top Shooter"
       ]
      },
      {
       "output_type": "stream",
       "stream": "stdout",
       "text": [
        " \ucee4\ubba4\ub2c8\ud2f0\n",
        "Line Super Runner"
       ]
      },
      {
       "output_type": "stream",
       "stream": "stdout",
       "text": [
        " \ubbf8\uc6a9\n",
        "Line Super Runner"
       ]
      },
      {
       "output_type": "stream",
       "stream": "stdout",
       "text": [
        " \uc74c\uc545\n",
        "Line Super Runner"
       ]
      },
      {
       "output_type": "stream",
       "stream": "stdout",
       "text": [
        " \ub9ac\ubdf0\n",
        "Line Super Runner"
       ]
      },
      {
       "output_type": "stream",
       "stream": "stdout",
       "text": [
        " \uc5f0\uc608\n",
        "Line Super Runner"
       ]
      },
      {
       "output_type": "stream",
       "stream": "stdout",
       "text": [
        " \uc74c\uc2dd\n",
        "Line Super Runner \uc2a4\ud3ec\uce20\n",
        "Line Super Runner"
       ]
      },
      {
       "output_type": "stream",
       "stream": "stdout",
       "text": [
        " \uac8c\uc784\n",
        "Line Super Runner \uac74\uac15\n",
        "Line Super Runner"
       ]
      },
      {
       "output_type": "stream",
       "stream": "stdout",
       "text": [
        " \ud559\uc2b5\n",
        "Line Super Runner"
       ]
      },
      {
       "output_type": "stream",
       "stream": "stdout",
       "text": [
        " \ucee4\ubba4\ub2c8\ud2f0\n",
        "\u010cT24 \ubbf8\uc6a9\n",
        "\u010cT24"
       ]
      },
      {
       "output_type": "stream",
       "stream": "stdout",
       "text": [
        " \uc74c\uc545\n",
        "\u010cT24"
       ]
      },
      {
       "output_type": "stream",
       "stream": "stdout",
       "text": [
        " \ub9ac\ubdf0\n",
        "\u010cT24 \uc5f0\uc608\n",
        "\u010cT24"
       ]
      },
      {
       "output_type": "stream",
       "stream": "stdout",
       "text": [
        " \uc74c\uc2dd\n",
        "\u010cT24"
       ]
      },
      {
       "output_type": "stream",
       "stream": "stdout",
       "text": [
        " \uc2a4\ud3ec\uce20\n",
        "\u010cT24"
       ]
      },
      {
       "output_type": "stream",
       "stream": "stdout",
       "text": [
        " \uac8c\uc784\n",
        "\u010cT24"
       ]
      },
      {
       "output_type": "stream",
       "stream": "stdout",
       "text": [
        " \uac74\uac15\n",
        "\u010cT24"
       ]
      },
      {
       "output_type": "stream",
       "stream": "stdout",
       "text": [
        " \ud559\uc2b5\n",
        "\u010cT24"
       ]
      },
      {
       "output_type": "stream",
       "stream": "stdout",
       "text": [
        " \ucee4\ubba4\ub2c8\ud2f0\n",
        "\ub2e4\ud568\uaed8 \ud401\ud401\ud401 \uac00\uc9dc \ubc1c\ub3c4\uc7a5 100\uac1c (\ud401\ud401\ud401 \ucee4\ubba4\ub2c8\ud2f0)"
       ]
      },
      {
       "output_type": "stream",
       "stream": "stdout",
       "text": [
        " \ubbf8\uc6a9\n",
        "\ub2e4\ud568\uaed8 \ud401\ud401\ud401 \uac00\uc9dc \ubc1c\ub3c4\uc7a5 100\uac1c (\ud401\ud401\ud401 \ucee4\ubba4\ub2c8\ud2f0)"
       ]
      },
      {
       "output_type": "stream",
       "stream": "stdout",
       "text": [
        " \uc74c\uc545\n",
        "\ub2e4\ud568\uaed8 \ud401\ud401\ud401 \uac00\uc9dc \ubc1c\ub3c4\uc7a5 100\uac1c (\ud401\ud401\ud401 \ucee4\ubba4\ub2c8\ud2f0) \ub9ac\ubdf0\n",
        "\ub2e4\ud568\uaed8 \ud401\ud401\ud401 \uac00\uc9dc \ubc1c\ub3c4\uc7a5 100\uac1c (\ud401\ud401\ud401 \ucee4\ubba4\ub2c8\ud2f0)"
       ]
      },
      {
       "output_type": "stream",
       "stream": "stdout",
       "text": [
        " \uc5f0\uc608\n",
        "\ub2e4\ud568\uaed8 \ud401\ud401\ud401 \uac00\uc9dc \ubc1c\ub3c4\uc7a5 100\uac1c (\ud401\ud401\ud401 \ucee4\ubba4\ub2c8\ud2f0)"
       ]
      },
      {
       "output_type": "stream",
       "stream": "stdout",
       "text": [
        " \uc74c\uc2dd\n",
        "\ub2e4\ud568\uaed8 \ud401\ud401\ud401 \uac00\uc9dc \ubc1c\ub3c4\uc7a5 100\uac1c (\ud401\ud401\ud401 \ucee4\ubba4\ub2c8\ud2f0)"
       ]
      },
      {
       "output_type": "stream",
       "stream": "stdout",
       "text": [
        " \uc2a4\ud3ec\uce20\n",
        "\ub2e4\ud568\uaed8 \ud401\ud401\ud401 \uac00\uc9dc \ubc1c\ub3c4\uc7a5 100\uac1c (\ud401\ud401\ud401 \ucee4\ubba4\ub2c8\ud2f0)"
       ]
      },
      {
       "output_type": "stream",
       "stream": "stdout",
       "text": [
        " \uac8c\uc784\n",
        "\ub2e4\ud568\uaed8 \ud401\ud401\ud401 \uac00\uc9dc \ubc1c\ub3c4\uc7a5 100\uac1c (\ud401\ud401\ud401 \ucee4\ubba4\ub2c8\ud2f0)"
       ]
      },
      {
       "output_type": "stream",
       "stream": "stdout",
       "text": [
        " \uac74\uac15\n",
        "\ub2e4\ud568\uaed8 \ud401\ud401\ud401 \uac00\uc9dc \ubc1c\ub3c4\uc7a5 100\uac1c (\ud401\ud401\ud401 \ucee4\ubba4\ub2c8\ud2f0)"
       ]
      },
      {
       "output_type": "stream",
       "stream": "stdout",
       "text": [
        " \ud559\uc2b5\n",
        "\ub2e4\ud568\uaed8 \ud401\ud401\ud401 \uac00\uc9dc \ubc1c\ub3c4\uc7a5 100\uac1c (\ud401\ud401\ud401 \ucee4\ubba4\ub2c8\ud2f0) \ucee4\ubba4\ub2c8\ud2f0\n",
        "\uc885\uc774\uc811\uae30"
       ]
      },
      {
       "output_type": "stream",
       "stream": "stdout",
       "text": [
        " \ubbf8\uc6a9\n",
        "\uc885\uc774\uc811\uae30"
       ]
      },
      {
       "output_type": "stream",
       "stream": "stdout",
       "text": [
        " \uc74c\uc545\n",
        "\uc885\uc774\uc811\uae30"
       ]
      },
      {
       "output_type": "stream",
       "stream": "stdout",
       "text": [
        " \ub9ac\ubdf0\n",
        "\uc885\uc774\uc811\uae30"
       ]
      },
      {
       "output_type": "stream",
       "stream": "stdout",
       "text": [
        " \uc5f0\uc608\n",
        "\uc885\uc774\uc811\uae30"
       ]
      },
      {
       "output_type": "stream",
       "stream": "stdout",
       "text": [
        " \uc74c\uc2dd\n",
        "\uc885\uc774\uc811\uae30"
       ]
      },
      {
       "output_type": "stream",
       "stream": "stdout",
       "text": [
        " \uc2a4\ud3ec\uce20\n",
        "\uc885\uc774\uc811\uae30 \uac8c\uc784\n",
        "\uc885\uc774\uc811\uae30"
       ]
      },
      {
       "output_type": "stream",
       "stream": "stdout",
       "text": [
        " \uac74\uac15\n",
        "\uc885\uc774\uc811\uae30"
       ]
      },
      {
       "output_type": "stream",
       "stream": "stdout",
       "text": [
        " \ud559\uc2b5\n",
        "\uc885\uc774\uc811\uae30"
       ]
      },
      {
       "output_type": "stream",
       "stream": "stdout",
       "text": [
        " \ucee4\ubba4\ub2c8\ud2f0\n",
        "Assault Force"
       ]
      },
      {
       "output_type": "stream",
       "stream": "stdout",
       "text": [
        " \ubbf8\uc6a9\n",
        "Assault Force \uc74c\uc545\n",
        "Assault Force"
       ]
      },
      {
       "output_type": "stream",
       "stream": "stdout",
       "text": [
        " \ub9ac\ubdf0\n",
        "Assault Force \uc5f0\uc608\n",
        "Assault Force"
       ]
      },
      {
       "output_type": "stream",
       "stream": "stdout",
       "text": [
        " \uc74c\uc2dd\n",
        "Assault Force"
       ]
      },
      {
       "output_type": "stream",
       "stream": "stdout",
       "text": [
        " \uc2a4\ud3ec\uce20\n",
        "Assault Force"
       ]
      },
      {
       "output_type": "stream",
       "stream": "stdout",
       "text": [
        " \uac8c\uc784\n",
        "Assault Force"
       ]
      },
      {
       "output_type": "stream",
       "stream": "stdout",
       "text": [
        " \uac74\uac15\n",
        "Assault Force \ud559\uc2b5\n",
        "Assault Force"
       ]
      },
      {
       "output_type": "stream",
       "stream": "stdout",
       "text": [
        " \ucee4\ubba4\ub2c8\ud2f0\n",
        "\ud0a4\uc704\ub7f0! \ubbf8\uc6a9\n",
        "\ud0a4\uc704\ub7f0!"
       ]
      },
      {
       "output_type": "stream",
       "stream": "stdout",
       "text": [
        " \uc74c\uc545\n",
        "\ud0a4\uc704\ub7f0!"
       ]
      },
      {
       "output_type": "stream",
       "stream": "stdout",
       "text": [
        " \ub9ac\ubdf0\n",
        "\ud0a4\uc704\ub7f0!"
       ]
      },
      {
       "output_type": "stream",
       "stream": "stdout",
       "text": [
        " \uc5f0\uc608\n",
        "\ud0a4\uc704\ub7f0!"
       ]
      },
      {
       "output_type": "stream",
       "stream": "stdout",
       "text": [
        " \uc74c\uc2dd\n",
        "\ud0a4\uc704\ub7f0!"
       ]
      },
      {
       "output_type": "stream",
       "stream": "stdout",
       "text": [
        " \uc2a4\ud3ec\uce20\n",
        "\ud0a4\uc704\ub7f0!"
       ]
      },
      {
       "output_type": "stream",
       "stream": "stdout",
       "text": [
        " \uac8c\uc784\n",
        "\ud0a4\uc704\ub7f0! \uac74\uac15\n",
        "\ud0a4\uc704\ub7f0!"
       ]
      },
      {
       "output_type": "stream",
       "stream": "stdout",
       "text": [
        " \ud559\uc2b5\n",
        "\ud0a4\uc704\ub7f0!"
       ]
      },
      {
       "output_type": "stream",
       "stream": "stdout",
       "text": [
        " \ucee4\ubba4\ub2c8\ud2f0\n",
        "\u738b\u54c1\u9910\u98f2\u975e\u5b98\u65b9APP(\u53f0\u5851\u725b\u6392,\u590f\u6155\u5c3c,\u539f\u71d2,\u897f\u5824,\u7b49\u9910\u5ef3)"
       ]
      },
      {
       "output_type": "stream",
       "stream": "stdout",
       "text": [
        " \ubbf8\uc6a9\n",
        "\u738b\u54c1\u9910\u98f2\u975e\u5b98\u65b9APP(\u53f0\u5851\u725b\u6392,\u590f\u6155\u5c3c,\u539f\u71d2,\u897f\u5824,\u7b49\u9910\u5ef3)"
       ]
      },
      {
       "output_type": "stream",
       "stream": "stdout",
       "text": [
        " \uc74c\uc545\n",
        "\u738b\u54c1\u9910\u98f2\u975e\u5b98\u65b9APP(\u53f0\u5851\u725b\u6392,\u590f\u6155\u5c3c,\u539f\u71d2,\u897f\u5824,\u7b49\u9910\u5ef3)"
       ]
      },
      {
       "output_type": "stream",
       "stream": "stdout",
       "text": [
        " \ub9ac\ubdf0\n",
        "\u738b\u54c1\u9910\u98f2\u975e\u5b98\u65b9APP(\u53f0\u5851\u725b\u6392,\u590f\u6155\u5c3c,\u539f\u71d2,\u897f\u5824,\u7b49\u9910\u5ef3)"
       ]
      },
      {
       "output_type": "stream",
       "stream": "stdout",
       "text": [
        " \uc5f0\uc608\n",
        "\u738b\u54c1\u9910\u98f2\u975e\u5b98\u65b9APP(\u53f0\u5851\u725b\u6392,\u590f\u6155\u5c3c,\u539f\u71d2,\u897f\u5824,\u7b49\u9910\u5ef3)"
       ]
      },
      {
       "output_type": "stream",
       "stream": "stdout",
       "text": [
        " \uc74c\uc2dd\n",
        "\u738b\u54c1\u9910\u98f2\u975e\u5b98\u65b9APP(\u53f0\u5851\u725b\u6392,\u590f\u6155\u5c3c,\u539f\u71d2,\u897f\u5824,\u7b49\u9910\u5ef3)"
       ]
      },
      {
       "output_type": "stream",
       "stream": "stdout",
       "text": [
        " \uc2a4\ud3ec\uce20\n",
        "\u738b\u54c1\u9910\u98f2\u975e\u5b98\u65b9APP(\u53f0\u5851\u725b\u6392,\u590f\u6155\u5c3c,\u539f\u71d2,\u897f\u5824,\u7b49\u9910\u5ef3)"
       ]
      },
      {
       "output_type": "stream",
       "stream": "stdout",
       "text": [
        " \uac8c\uc784\n",
        "\u738b\u54c1\u9910\u98f2\u975e\u5b98\u65b9APP(\u53f0\u5851\u725b\u6392,\u590f\u6155\u5c3c,\u539f\u71d2,\u897f\u5824,\u7b49\u9910\u5ef3)"
       ]
      },
      {
       "output_type": "stream",
       "stream": "stdout",
       "text": [
        " \uac74\uac15\n",
        "\u738b\u54c1\u9910\u98f2\u975e\u5b98\u65b9APP(\u53f0\u5851\u725b\u6392,\u590f\u6155\u5c3c,\u539f\u71d2,\u897f\u5824,\u7b49\u9910\u5ef3)"
       ]
      },
      {
       "output_type": "stream",
       "stream": "stdout",
       "text": [
        " \ud559\uc2b5\n",
        "\u738b\u54c1\u9910\u98f2\u975e\u5b98\u65b9APP(\u53f0\u5851\u725b\u6392,\u590f\u6155\u5c3c,\u539f\u71d2,\u897f\u5824,\u7b49\u9910\u5ef3)"
       ]
      },
      {
       "output_type": "stream",
       "stream": "stdout",
       "text": [
        " \ucee4\ubba4\ub2c8\ud2f0\n",
        "[FREE]\ub7ec\ube0c\ub7ec\ube0c\ud3ab\ud0c0\uc774\ucfe4"
       ]
      },
      {
       "output_type": "stream",
       "stream": "stdout",
       "text": [
        " \ubbf8\uc6a9\n",
        "[FREE]\ub7ec\ube0c\ub7ec\ube0c\ud3ab\ud0c0\uc774\ucfe4"
       ]
      },
      {
       "output_type": "stream",
       "stream": "stdout",
       "text": [
        " \uc74c\uc545\n",
        "[FREE]\ub7ec\ube0c\ub7ec\ube0c\ud3ab\ud0c0\uc774\ucfe4"
       ]
      },
      {
       "output_type": "stream",
       "stream": "stdout",
       "text": [
        " \ub9ac\ubdf0\n",
        "[FREE]\ub7ec\ube0c\ub7ec\ube0c\ud3ab\ud0c0\uc774\ucfe4"
       ]
      },
      {
       "output_type": "stream",
       "stream": "stdout",
       "text": [
        " \uc5f0\uc608\n",
        "[FREE]\ub7ec\ube0c\ub7ec\ube0c\ud3ab\ud0c0\uc774\ucfe4"
       ]
      },
      {
       "output_type": "stream",
       "stream": "stdout",
       "text": [
        " \uc74c\uc2dd\n",
        "[FREE]\ub7ec\ube0c\ub7ec\ube0c\ud3ab\ud0c0\uc774\ucfe4 \uc2a4\ud3ec\uce20\n",
        "[FREE]\ub7ec\ube0c\ub7ec\ube0c\ud3ab\ud0c0\uc774\ucfe4"
       ]
      },
      {
       "output_type": "stream",
       "stream": "stdout",
       "text": [
        " \uac8c\uc784\n",
        "[FREE]\ub7ec\ube0c\ub7ec\ube0c\ud3ab\ud0c0\uc774\ucfe4"
       ]
      },
      {
       "output_type": "stream",
       "stream": "stdout",
       "text": [
        " \uac74\uac15\n",
        "[FREE]\ub7ec\ube0c\ub7ec\ube0c\ud3ab\ud0c0\uc774\ucfe4"
       ]
      },
      {
       "output_type": "stream",
       "stream": "stdout",
       "text": [
        " \ud559\uc2b5\n",
        "[FREE]\ub7ec\ube0c\ub7ec\ube0c\ud3ab\ud0c0\uc774\ucfe4"
       ]
      },
      {
       "output_type": "stream",
       "stream": "stdout",
       "text": [
        " \ucee4\ubba4\ub2c8\ud2f0\n",
        "\ucfe0\ud0a4\ub7f0 \ub300\ud45c \ucee4\ubba4\ub2c8\ud2f0 (\uac8c\uc784\ucfe1)"
       ]
      },
      {
       "output_type": "stream",
       "stream": "stdout",
       "text": [
        " \ubbf8\uc6a9\n",
        "\ucfe0\ud0a4\ub7f0 \ub300\ud45c \ucee4\ubba4\ub2c8\ud2f0 (\uac8c\uc784\ucfe1) \uc74c\uc545\n",
        "\ucfe0\ud0a4\ub7f0 \ub300\ud45c \ucee4\ubba4\ub2c8\ud2f0 (\uac8c\uc784\ucfe1)"
       ]
      },
      {
       "output_type": "stream",
       "stream": "stdout",
       "text": [
        " \ub9ac\ubdf0\n",
        "\ucfe0\ud0a4\ub7f0 \ub300\ud45c \ucee4\ubba4\ub2c8\ud2f0 (\uac8c\uc784\ucfe1) \uc5f0\uc608\n",
        "\ucfe0\ud0a4\ub7f0 \ub300\ud45c \ucee4\ubba4\ub2c8\ud2f0 (\uac8c\uc784\ucfe1)"
       ]
      },
      {
       "output_type": "stream",
       "stream": "stdout",
       "text": [
        " \uc74c\uc2dd\n",
        "\ucfe0\ud0a4\ub7f0 \ub300\ud45c \ucee4\ubba4\ub2c8\ud2f0 (\uac8c\uc784\ucfe1) \uc2a4\ud3ec\uce20\n",
        "\ucfe0\ud0a4\ub7f0 \ub300\ud45c \ucee4\ubba4\ub2c8\ud2f0 (\uac8c\uc784\ucfe1)"
       ]
      },
      {
       "output_type": "stream",
       "stream": "stdout",
       "text": [
        " \uac8c\uc784\n",
        "\ucfe0\ud0a4\ub7f0 \ub300\ud45c \ucee4\ubba4\ub2c8\ud2f0 (\uac8c\uc784\ucfe1) \uac74\uac15\n",
        "\ucfe0\ud0a4\ub7f0 \ub300\ud45c \ucee4\ubba4\ub2c8\ud2f0 (\uac8c\uc784\ucfe1)"
       ]
      },
      {
       "output_type": "stream",
       "stream": "stdout",
       "text": [
        " \ud559\uc2b5\n",
        "\ucfe0\ud0a4\ub7f0 \ub300\ud45c \ucee4\ubba4\ub2c8\ud2f0 (\uac8c\uc784\ucfe1)"
       ]
      },
      {
       "output_type": "stream",
       "stream": "stdout",
       "text": [
        " \ucee4\ubba4\ub2c8\ud2f0\n",
        "Go Locker Minecraft \ubbf8\uc6a9\n",
        "Go Locker Minecraft"
       ]
      },
      {
       "output_type": "stream",
       "stream": "stdout",
       "text": [
        " \uc74c\uc545\n",
        "Go Locker Minecraft"
       ]
      },
      {
       "output_type": "stream",
       "stream": "stdout",
       "text": [
        " \ub9ac\ubdf0\n",
        "Go Locker Minecraft \uc5f0\uc608\n",
        "Go Locker Minecraft"
       ]
      },
      {
       "output_type": "stream",
       "stream": "stdout",
       "text": [
        " \uc74c\uc2dd\n",
        "Go Locker Minecraft"
       ]
      },
      {
       "output_type": "stream",
       "stream": "stdout",
       "text": [
        " \uc2a4\ud3ec\uce20\n",
        "Go Locker Minecraft"
       ]
      },
      {
       "output_type": "stream",
       "stream": "stdout",
       "text": [
        " \uac8c\uc784\n",
        "Go Locker Minecraft \uac74\uac15\n",
        "Go Locker Minecraft"
       ]
      },
      {
       "output_type": "stream",
       "stream": "stdout",
       "text": [
        " \ud559\uc2b5\n",
        "Go Locker Minecraft"
       ]
      },
      {
       "output_type": "stream",
       "stream": "stdout",
       "text": [
        " \ucee4\ubba4\ub2c8\ud2f0\n",
        "Gem Cleaner"
       ]
      },
      {
       "output_type": "stream",
       "stream": "stdout",
       "text": [
        " \ubbf8\uc6a9\n",
        "Gem Cleaner"
       ]
      },
      {
       "output_type": "stream",
       "stream": "stdout",
       "text": [
        " \uc74c\uc545\n",
        "Gem Cleaner"
       ]
      },
      {
       "output_type": "stream",
       "stream": "stdout",
       "text": [
        " \ub9ac\ubdf0\n",
        "Gem Cleaner"
       ]
      },
      {
       "output_type": "stream",
       "stream": "stdout",
       "text": [
        " \uc5f0\uc608\n",
        "Gem Cleaner"
       ]
      },
      {
       "output_type": "stream",
       "stream": "stdout",
       "text": [
        " \uc74c\uc2dd\n",
        "Gem Cleaner"
       ]
      },
      {
       "output_type": "stream",
       "stream": "stdout",
       "text": [
        " \uc2a4\ud3ec\uce20\n",
        "Gem Cleaner \uac8c\uc784\n",
        "Gem Cleaner"
       ]
      },
      {
       "output_type": "stream",
       "stream": "stdout",
       "text": [
        " \uac74\uac15\n",
        "Gem Cleaner"
       ]
      },
      {
       "output_type": "stream",
       "stream": "stdout",
       "text": [
        " \ud559\uc2b5\n",
        "Gem Cleaner \ucee4\ubba4\ub2c8\ud2f0\n",
        "\ub0b4 \ubb3c \ub09a\uc2dc \uac8c\uc784 \ud37c\uc990"
       ]
      },
      {
       "output_type": "stream",
       "stream": "stdout",
       "text": [
        " \ubbf8\uc6a9\n",
        "\ub0b4 \ubb3c \ub09a\uc2dc \uac8c\uc784 \ud37c\uc990 \uc74c\uc545\n",
        "\ub0b4 \ubb3c \ub09a\uc2dc \uac8c\uc784 \ud37c\uc990"
       ]
      },
      {
       "output_type": "stream",
       "stream": "stdout",
       "text": [
        " \ub9ac\ubdf0\n",
        "\ub0b4 \ubb3c \ub09a\uc2dc \uac8c\uc784 \ud37c\uc990"
       ]
      },
      {
       "output_type": "stream",
       "stream": "stdout",
       "text": [
        " \uc5f0\uc608\n",
        "\ub0b4 \ubb3c \ub09a\uc2dc \uac8c\uc784 \ud37c\uc990"
       ]
      },
      {
       "output_type": "stream",
       "stream": "stdout",
       "text": [
        " \uc74c\uc2dd\n",
        "\ub0b4 \ubb3c \ub09a\uc2dc \uac8c\uc784 \ud37c\uc990"
       ]
      },
      {
       "output_type": "stream",
       "stream": "stdout",
       "text": [
        " \uc2a4\ud3ec\uce20\n",
        "\ub0b4 \ubb3c \ub09a\uc2dc \uac8c\uc784 \ud37c\uc990 \uac8c\uc784\n",
        "\ub0b4 \ubb3c \ub09a\uc2dc \uac8c\uc784 \ud37c\uc990"
       ]
      },
      {
       "output_type": "stream",
       "stream": "stdout",
       "text": [
        " \uac74\uac15\n",
        "\ub0b4 \ubb3c \ub09a\uc2dc \uac8c\uc784 \ud37c\uc990"
       ]
      },
      {
       "output_type": "stream",
       "stream": "stdout",
       "text": [
        " \ud559\uc2b5\n",
        "\ub0b4 \ubb3c \ub09a\uc2dc \uac8c\uc784 \ud37c\uc990"
       ]
      },
      {
       "output_type": "stream",
       "stream": "stdout",
       "text": [
        " \ucee4\ubba4\ub2c8\ud2f0\n",
        "KTB netbank"
       ]
      },
      {
       "output_type": "stream",
       "stream": "stdout",
       "text": [
        " \ubbf8\uc6a9\n",
        "KTB netbank"
       ]
      },
      {
       "output_type": "stream",
       "stream": "stdout",
       "text": [
        " \uc74c\uc545\n",
        "KTB netbank"
       ]
      },
      {
       "output_type": "stream",
       "stream": "stdout",
       "text": [
        " \ub9ac\ubdf0\n",
        "KTB netbank"
       ]
      },
      {
       "output_type": "stream",
       "stream": "stdout",
       "text": [
        " \uc5f0\uc608\n",
        "KTB netbank"
       ]
      },
      {
       "output_type": "stream",
       "stream": "stdout",
       "text": [
        " \uc74c\uc2dd\n",
        "KTB netbank"
       ]
      },
      {
       "output_type": "stream",
       "stream": "stdout",
       "text": [
        " \uc2a4\ud3ec\uce20\n",
        "KTB netbank"
       ]
      },
      {
       "output_type": "stream",
       "stream": "stdout",
       "text": [
        " \uac8c\uc784\n",
        "KTB netbank"
       ]
      },
      {
       "output_type": "stream",
       "stream": "stdout",
       "text": [
        " \uac74\uac15\n",
        "KTB netbank \ud559\uc2b5\n",
        "KTB netbank"
       ]
      },
      {
       "output_type": "stream",
       "stream": "stdout",
       "text": [
        " \ucee4\ubba4\ub2c8\ud2f0\n",
        "Pumped: BMX Free"
       ]
      },
      {
       "output_type": "stream",
       "stream": "stdout",
       "text": [
        " \ubbf8\uc6a9\n",
        "Pumped: BMX Free"
       ]
      },
      {
       "output_type": "stream",
       "stream": "stdout",
       "text": [
        " \uc74c\uc545\n",
        "Pumped: BMX Free \ub9ac\ubdf0\n",
        "Pumped: BMX Free"
       ]
      },
      {
       "output_type": "stream",
       "stream": "stdout",
       "text": [
        " \uc5f0\uc608\n",
        "Pumped: BMX Free \uc74c\uc2dd\n",
        "Pumped: BMX Free"
       ]
      },
      {
       "output_type": "stream",
       "stream": "stdout",
       "text": [
        " \uc2a4\ud3ec\uce20\n",
        "Pumped: BMX Free \uac8c\uc784\n",
        "Pumped: BMX Free"
       ]
      },
      {
       "output_type": "stream",
       "stream": "stdout",
       "text": [
        " \uac74\uac15\n",
        "Pumped: BMX Free"
       ]
      },
      {
       "output_type": "stream",
       "stream": "stdout",
       "text": [
        " \ud559\uc2b5\n",
        "Pumped: BMX Free \ucee4\ubba4\ub2c8\ud2f0\n",
        "Joy Drums"
       ]
      },
      {
       "output_type": "stream",
       "stream": "stdout",
       "text": [
        " \ubbf8\uc6a9\n",
        "Joy Drums"
       ]
      },
      {
       "output_type": "stream",
       "stream": "stdout",
       "text": [
        " \uc74c\uc545\n",
        "Joy Drums \ub9ac\ubdf0\n",
        "Joy Drums"
       ]
      },
      {
       "output_type": "stream",
       "stream": "stdout",
       "text": [
        " \uc5f0\uc608\n",
        "Joy Drums"
       ]
      },
      {
       "output_type": "stream",
       "stream": "stdout",
       "text": [
        " \uc74c\uc2dd\n",
        "Joy Drums"
       ]
      },
      {
       "output_type": "stream",
       "stream": "stdout",
       "text": [
        " \uc2a4\ud3ec\uce20\n",
        "Joy Drums"
       ]
      },
      {
       "output_type": "stream",
       "stream": "stdout",
       "text": [
        " \uac8c\uc784\n",
        "Joy Drums"
       ]
      },
      {
       "output_type": "stream",
       "stream": "stdout",
       "text": [
        " \uac74\uac15\n",
        "Joy Drums"
       ]
      },
      {
       "output_type": "stream",
       "stream": "stdout",
       "text": [
        " \ud559\uc2b5\n",
        "Joy Drums \ucee4\ubba4\ub2c8\ud2f0\n",
        "Jungle Jewels Free"
       ]
      },
      {
       "output_type": "stream",
       "stream": "stdout",
       "text": [
        " \ubbf8\uc6a9\n",
        "Jungle Jewels Free"
       ]
      },
      {
       "output_type": "stream",
       "stream": "stdout",
       "text": [
        " \uc74c\uc545\n",
        "Jungle Jewels Free \ub9ac\ubdf0\n",
        "Jungle Jewels Free"
       ]
      },
      {
       "output_type": "stream",
       "stream": "stdout",
       "text": [
        " \uc5f0\uc608\n",
        "Jungle Jewels Free \uc74c\uc2dd\n",
        "Jungle Jewels Free"
       ]
      },
      {
       "output_type": "stream",
       "stream": "stdout",
       "text": [
        " \uc2a4\ud3ec\uce20\n",
        "Jungle Jewels Free"
       ]
      },
      {
       "output_type": "stream",
       "stream": "stdout",
       "text": [
        " \uac8c\uc784\n",
        "Jungle Jewels Free \uac74\uac15\n",
        "Jungle Jewels Free"
       ]
      },
      {
       "output_type": "stream",
       "stream": "stdout",
       "text": [
        " \ud559\uc2b5\n",
        "Jungle Jewels Free \ucee4\ubba4\ub2c8\ud2f0\n",
        "\ub2e4 \ubc97\uae30\ub294 \uc139\uc2dc \ub8f0\ub81b\uac78"
       ]
      },
      {
       "output_type": "stream",
       "stream": "stdout",
       "text": [
        " \ubbf8\uc6a9\n",
        "\ub2e4 \ubc97\uae30\ub294 \uc139\uc2dc \ub8f0\ub81b\uac78 \uc74c\uc545\n",
        "\ub2e4 \ubc97\uae30\ub294 \uc139\uc2dc \ub8f0\ub81b\uac78"
       ]
      },
      {
       "output_type": "stream",
       "stream": "stdout",
       "text": [
        " \ub9ac\ubdf0\n",
        "\ub2e4 \ubc97\uae30\ub294 \uc139\uc2dc \ub8f0\ub81b\uac78"
       ]
      },
      {
       "output_type": "stream",
       "stream": "stdout",
       "text": [
        " \uc5f0\uc608\n",
        "\ub2e4 \ubc97\uae30\ub294 \uc139\uc2dc \ub8f0\ub81b\uac78 \uc74c\uc2dd\n",
        "\ub2e4 \ubc97\uae30\ub294 \uc139\uc2dc \ub8f0\ub81b\uac78"
       ]
      },
      {
       "output_type": "stream",
       "stream": "stdout",
       "text": [
        " \uc2a4\ud3ec\uce20\n",
        "\ub2e4 \ubc97\uae30\ub294 \uc139\uc2dc \ub8f0\ub81b\uac78 \uac8c\uc784\n",
        "\ub2e4 \ubc97\uae30\ub294 \uc139\uc2dc \ub8f0\ub81b\uac78"
       ]
      },
      {
       "output_type": "stream",
       "stream": "stdout",
       "text": [
        " \uac74\uac15\n",
        "\ub2e4 \ubc97\uae30\ub294 \uc139\uc2dc \ub8f0\ub81b\uac78 \ud559\uc2b5\n",
        "\ub2e4 \ubc97\uae30\ub294 \uc139\uc2dc \ub8f0\ub81b\uac78"
       ]
      },
      {
       "output_type": "stream",
       "stream": "stdout",
       "text": [
        " \ucee4\ubba4\ub2c8\ud2f0\n",
        "JTBC \ub274\uc2a4 \ubbf8\uc6a9\n",
        "JTBC \ub274\uc2a4"
       ]
      },
      {
       "output_type": "stream",
       "stream": "stdout",
       "text": [
        " \uc74c\uc545\n",
        "JTBC \ub274\uc2a4"
       ]
      },
      {
       "output_type": "stream",
       "stream": "stdout",
       "text": [
        " \ub9ac\ubdf0\n",
        "JTBC \ub274\uc2a4"
       ]
      },
      {
       "output_type": "stream",
       "stream": "stdout",
       "text": [
        " \uc5f0\uc608\n",
        "JTBC \ub274\uc2a4 \uc74c\uc2dd\n",
        "JTBC \ub274\uc2a4"
       ]
      },
      {
       "output_type": "stream",
       "stream": "stdout",
       "text": [
        " \uc2a4\ud3ec\uce20\n",
        "JTBC \ub274\uc2a4 \uac8c\uc784\n",
        "JTBC \ub274\uc2a4"
       ]
      },
      {
       "output_type": "stream",
       "stream": "stdout",
       "text": [
        " \uac74\uac15\n",
        "JTBC \ub274\uc2a4 \ud559\uc2b5\n",
        "JTBC \ub274\uc2a4"
       ]
      },
      {
       "output_type": "stream",
       "stream": "stdout",
       "text": [
        " \ucee4\ubba4\ub2c8\ud2f0\n",
        "\uadc0\uc5ec\uc6b4 \uc0c8\ub07c \uace0\uc591\uc774\ub97c \ucc3e\uace0 \uc788\ub294\ub370 \ud654\uba74 \ubbf8\uc6a9\n",
        "\uadc0\uc5ec\uc6b4 \uc0c8\ub07c \uace0\uc591\uc774\ub97c \ucc3e\uace0 \uc788\ub294\ub370 \ud654\uba74"
       ]
      },
      {
       "output_type": "stream",
       "stream": "stdout",
       "text": [
        " \uc74c\uc545\n",
        "\uadc0\uc5ec\uc6b4 \uc0c8\ub07c \uace0\uc591\uc774\ub97c \ucc3e\uace0 \uc788\ub294\ub370 \ud654\uba74"
       ]
      },
      {
       "output_type": "stream",
       "stream": "stdout",
       "text": [
        " \ub9ac\ubdf0\n",
        "\uadc0\uc5ec\uc6b4 \uc0c8\ub07c \uace0\uc591\uc774\ub97c \ucc3e\uace0 \uc788\ub294\ub370 \ud654\uba74 \uc5f0\uc608\n",
        "\uadc0\uc5ec\uc6b4 \uc0c8\ub07c \uace0\uc591\uc774\ub97c \ucc3e\uace0 \uc788\ub294\ub370 \ud654\uba74"
       ]
      },
      {
       "output_type": "stream",
       "stream": "stdout",
       "text": [
        " \uc74c\uc2dd\n",
        "\uadc0\uc5ec\uc6b4 \uc0c8\ub07c \uace0\uc591\uc774\ub97c \ucc3e\uace0 \uc788\ub294\ub370 \ud654\uba74 \uc2a4\ud3ec\uce20\n",
        "\uadc0\uc5ec\uc6b4 \uc0c8\ub07c \uace0\uc591\uc774\ub97c \ucc3e\uace0 \uc788\ub294\ub370 \ud654\uba74"
       ]
      },
      {
       "output_type": "stream",
       "stream": "stdout",
       "text": [
        " \uac8c\uc784\n",
        "\uadc0\uc5ec\uc6b4 \uc0c8\ub07c \uace0\uc591\uc774\ub97c \ucc3e\uace0 \uc788\ub294\ub370 \ud654\uba74 \uac74\uac15\n",
        "\uadc0\uc5ec\uc6b4 \uc0c8\ub07c \uace0\uc591\uc774\ub97c \ucc3e\uace0 \uc788\ub294\ub370 \ud654\uba74"
       ]
      },
      {
       "output_type": "stream",
       "stream": "stdout",
       "text": [
        " \ud559\uc2b5\n",
        "\uadc0\uc5ec\uc6b4 \uc0c8\ub07c \uace0\uc591\uc774\ub97c \ucc3e\uace0 \uc788\ub294\ub370 \ud654\uba74"
       ]
      },
      {
       "output_type": "stream",
       "stream": "stdout",
       "text": [
        " \ucee4\ubba4\ub2c8\ud2f0\n",
        "\u5168\u58d8\u62532 OL \ubbf8\uc6a9\n",
        "\u5168\u58d8\u62532 OL"
       ]
      },
      {
       "output_type": "stream",
       "stream": "stdout",
       "text": [
        " \uc74c\uc545\n",
        "\u5168\u58d8\u62532 OL \ub9ac\ubdf0\n",
        "\u5168\u58d8\u62532 OL"
       ]
      },
      {
       "output_type": "stream",
       "stream": "stdout",
       "text": [
        " \uc5f0\uc608\n",
        "\u5168\u58d8\u62532 OL \uc74c\uc2dd\n",
        "\u5168\u58d8\u62532 OL"
       ]
      },
      {
       "output_type": "stream",
       "stream": "stdout",
       "text": [
        " \uc2a4\ud3ec\uce20\n",
        "\u5168\u58d8\u62532 OL"
       ]
      },
      {
       "output_type": "stream",
       "stream": "stdout",
       "text": [
        " \uac8c\uc784\n",
        "\u5168\u58d8\u62532 OL"
       ]
      },
      {
       "output_type": "stream",
       "stream": "stdout",
       "text": [
        " \uac74\uac15\n",
        "\u5168\u58d8\u62532 OL"
       ]
      },
      {
       "output_type": "stream",
       "stream": "stdout",
       "text": [
        " \ud559\uc2b5\n",
        "\u5168\u58d8\u62532 OL"
       ]
      },
      {
       "output_type": "stream",
       "stream": "stdout",
       "text": [
        " \ucee4\ubba4\ub2c8\ud2f0\n",
        "Las Vegas Slot Machine HD \ubbf8\uc6a9\n",
        "Las Vegas Slot Machine HD"
       ]
      },
      {
       "output_type": "stream",
       "stream": "stdout",
       "text": [
        " \uc74c\uc545\n",
        "Las Vegas Slot Machine HD"
       ]
      },
      {
       "output_type": "stream",
       "stream": "stdout",
       "text": [
        " \ub9ac\ubdf0\n",
        "Las Vegas Slot Machine HD"
       ]
      },
      {
       "output_type": "stream",
       "stream": "stdout",
       "text": [
        " \uc5f0\uc608\n",
        "Las Vegas Slot Machine HD \uc74c\uc2dd\n",
        "Las Vegas Slot Machine HD"
       ]
      },
      {
       "output_type": "stream",
       "stream": "stdout",
       "text": [
        " \uc2a4\ud3ec\uce20\n",
        "Las Vegas Slot Machine HD"
       ]
      },
      {
       "output_type": "stream",
       "stream": "stdout",
       "text": [
        " \uac8c\uc784\n",
        "Las Vegas Slot Machine HD"
       ]
      },
      {
       "output_type": "stream",
       "stream": "stdout",
       "text": [
        " \uac74\uac15\n",
        "Las Vegas Slot Machine HD \ud559\uc2b5\n",
        "Las Vegas Slot Machine HD"
       ]
      },
      {
       "output_type": "stream",
       "stream": "stdout",
       "text": [
        " \ucee4\ubba4\ub2c8\ud2f0\n",
        "\ud5ec\uc2a4 \uc2a4\ucf00\uc974\ub7ec \ubbf8\uc6a9\n",
        "\ud5ec\uc2a4 \uc2a4\ucf00\uc974\ub7ec"
       ]
      },
      {
       "output_type": "stream",
       "stream": "stdout",
       "text": [
        " \uc74c\uc545\n",
        "\ud5ec\uc2a4 \uc2a4\ucf00\uc974\ub7ec"
       ]
      },
      {
       "output_type": "stream",
       "stream": "stdout",
       "text": [
        " \ub9ac\ubdf0\n",
        "\ud5ec\uc2a4 \uc2a4\ucf00\uc974\ub7ec"
       ]
      },
      {
       "output_type": "stream",
       "stream": "stdout",
       "text": [
        " \uc5f0\uc608\n",
        "\ud5ec\uc2a4 \uc2a4\ucf00\uc974\ub7ec \uc74c\uc2dd\n",
        "\ud5ec\uc2a4 \uc2a4\ucf00\uc974\ub7ec"
       ]
      },
      {
       "output_type": "stream",
       "stream": "stdout",
       "text": [
        " \uc2a4\ud3ec\uce20\n",
        "\ud5ec\uc2a4 \uc2a4\ucf00\uc974\ub7ec"
       ]
      },
      {
       "output_type": "stream",
       "stream": "stdout",
       "text": [
        " \uac8c\uc784\n",
        "\ud5ec\uc2a4 \uc2a4\ucf00\uc974\ub7ec"
       ]
      },
      {
       "output_type": "stream",
       "stream": "stdout",
       "text": [
        " \uac74\uac15\n",
        "\ud5ec\uc2a4 \uc2a4\ucf00\uc974\ub7ec"
       ]
      },
      {
       "output_type": "stream",
       "stream": "stdout",
       "text": [
        " \ud559\uc2b5\n",
        "\ud5ec\uc2a4 \uc2a4\ucf00\uc974\ub7ec"
       ]
      },
      {
       "output_type": "stream",
       "stream": "stdout",
       "text": [
        " \ucee4\ubba4\ub2c8\ud2f0\n",
        "\u0422\u0430\u0440\u043e \u0413\u0430\u0434\u0430\u043d\u0438\u0435"
       ]
      },
      {
       "output_type": "stream",
       "stream": "stdout",
       "text": [
        " \ubbf8\uc6a9\n",
        "\u0422\u0430\u0440\u043e \u0413\u0430\u0434\u0430\u043d\u0438\u0435"
       ]
      },
      {
       "output_type": "stream",
       "stream": "stdout",
       "text": [
        " \uc74c\uc545\n",
        "\u0422\u0430\u0440\u043e \u0413\u0430\u0434\u0430\u043d\u0438\u0435 \ub9ac\ubdf0\n",
        "\u0422\u0430\u0440\u043e \u0413\u0430\u0434\u0430\u043d\u0438\u0435"
       ]
      },
      {
       "output_type": "stream",
       "stream": "stdout",
       "text": [
        " \uc5f0\uc608\n",
        "\u0422\u0430\u0440\u043e \u0413\u0430\u0434\u0430\u043d\u0438\u0435 \uc74c\uc2dd\n",
        "\u0422\u0430\u0440\u043e \u0413\u0430\u0434\u0430\u043d\u0438\u0435"
       ]
      },
      {
       "output_type": "stream",
       "stream": "stdout",
       "text": [
        " \uc2a4\ud3ec\uce20\n",
        "\u0422\u0430\u0440\u043e \u0413\u0430\u0434\u0430\u043d\u0438\u0435 \uac8c\uc784\n",
        "\u0422\u0430\u0440\u043e \u0413\u0430\u0434\u0430\u043d\u0438\u0435"
       ]
      },
      {
       "output_type": "stream",
       "stream": "stdout",
       "text": [
        " \uac74\uac15\n",
        "\u0422\u0430\u0440\u043e \u0413\u0430\u0434\u0430\u043d\u0438\u0435 \ud559\uc2b5\n",
        "\u0422\u0430\u0440\u043e \u0413\u0430\u0434\u0430\u043d\u0438\u0435"
       ]
      },
      {
       "output_type": "stream",
       "stream": "stdout",
       "text": [
        " \ucee4\ubba4\ub2c8\ud2f0\n",
        "TV\u96a8\u8eab\u770bHD-\u9078\u53f0\u5668"
       ]
      },
      {
       "output_type": "stream",
       "stream": "stdout",
       "text": [
        " \ubbf8\uc6a9\n",
        "TV\u96a8\u8eab\u770bHD-\u9078\u53f0\u5668"
       ]
      },
      {
       "output_type": "stream",
       "stream": "stdout",
       "text": [
        " \uc74c\uc545\n",
        "TV\u96a8\u8eab\u770bHD-\u9078\u53f0\u5668"
       ]
      },
      {
       "output_type": "stream",
       "stream": "stdout",
       "text": [
        " \ub9ac\ubdf0\n",
        "TV\u96a8\u8eab\u770bHD-\u9078\u53f0\u5668"
       ]
      },
      {
       "output_type": "stream",
       "stream": "stdout",
       "text": [
        " \uc5f0\uc608\n",
        "TV\u96a8\u8eab\u770bHD-\u9078\u53f0\u5668"
       ]
      },
      {
       "output_type": "stream",
       "stream": "stdout",
       "text": [
        " \uc74c\uc2dd\n",
        "TV\u96a8\u8eab\u770bHD-\u9078\u53f0\u5668"
       ]
      },
      {
       "output_type": "stream",
       "stream": "stdout",
       "text": [
        " \uc2a4\ud3ec\uce20\n",
        "TV\u96a8\u8eab\u770bHD-\u9078\u53f0\u5668"
       ]
      },
      {
       "output_type": "stream",
       "stream": "stdout",
       "text": [
        " \uac8c\uc784\n",
        "TV\u96a8\u8eab\u770bHD-\u9078\u53f0\u5668"
       ]
      },
      {
       "output_type": "stream",
       "stream": "stdout",
       "text": [
        " \uac74\uac15\n",
        "TV\u96a8\u8eab\u770bHD-\u9078\u53f0\u5668 \ud559\uc2b5\n",
        "TV\u96a8\u8eab\u770bHD-\u9078\u53f0\u5668"
       ]
      },
      {
       "output_type": "stream",
       "stream": "stdout",
       "text": [
        " \ucee4\ubba4\ub2c8\ud2f0\n",
        "SPY mouse"
       ]
      },
      {
       "output_type": "stream",
       "stream": "stdout",
       "text": [
        " \ubbf8\uc6a9\n",
        "SPY mouse \uc74c\uc545\n",
        "SPY mouse"
       ]
      },
      {
       "output_type": "stream",
       "stream": "stdout",
       "text": [
        " \ub9ac\ubdf0\n",
        "SPY mouse"
       ]
      },
      {
       "output_type": "stream",
       "stream": "stdout",
       "text": [
        " \uc5f0\uc608\n",
        "SPY mouse \uc74c\uc2dd\n",
        "SPY mouse"
       ]
      },
      {
       "output_type": "stream",
       "stream": "stdout",
       "text": [
        " \uc2a4\ud3ec\uce20\n",
        "SPY mouse \uac8c\uc784\n",
        "SPY mouse"
       ]
      },
      {
       "output_type": "stream",
       "stream": "stdout",
       "text": [
        " \uac74\uac15\n",
        "SPY mouse \ud559\uc2b5\n",
        "SPY mouse"
       ]
      },
      {
       "output_type": "stream",
       "stream": "stdout",
       "text": [
        " \ucee4\ubba4\ub2c8\ud2f0\n",
        "Funny iMadeFace Videos&Photos+ \ubbf8\uc6a9\n",
        "Funny iMadeFace Videos&Photos+"
       ]
      },
      {
       "output_type": "stream",
       "stream": "stdout",
       "text": [
        " \uc74c\uc545\n",
        "Funny iMadeFace Videos&Photos+ \ub9ac\ubdf0\n",
        "Funny iMadeFace Videos&Photos+"
       ]
      },
      {
       "output_type": "stream",
       "stream": "stdout",
       "text": [
        " \uc5f0\uc608\n",
        "Funny iMadeFace Videos&Photos+"
       ]
      },
      {
       "output_type": "stream",
       "stream": "stdout",
       "text": [
        " \uc74c\uc2dd\n",
        "Funny iMadeFace Videos&Photos+"
       ]
      },
      {
       "output_type": "stream",
       "stream": "stdout",
       "text": [
        " \uc2a4\ud3ec\uce20\n",
        "Funny iMadeFace Videos&Photos+ \uac8c\uc784\n",
        "Funny iMadeFace Videos&Photos+"
       ]
      },
      {
       "output_type": "stream",
       "stream": "stdout",
       "text": [
        " \uac74\uac15\n",
        "Funny iMadeFace Videos&Photos+ \ud559\uc2b5\n",
        "Funny iMadeFace Videos&Photos+"
       ]
      },
      {
       "output_type": "stream",
       "stream": "stdout",
       "text": [
        " \ucee4\ubba4\ub2c8\ud2f0\n",
        "Screen On \ubbf8\uc6a9\n",
        "Screen On"
       ]
      },
      {
       "output_type": "stream",
       "stream": "stdout",
       "text": [
        " \uc74c\uc545\n",
        "Screen On"
       ]
      },
      {
       "output_type": "stream",
       "stream": "stdout",
       "text": [
        " \ub9ac\ubdf0\n",
        "Screen On \uc5f0\uc608\n",
        "Screen On"
       ]
      },
      {
       "output_type": "stream",
       "stream": "stdout",
       "text": [
        " \uc74c\uc2dd\n",
        "Screen On"
       ]
      },
      {
       "output_type": "stream",
       "stream": "stdout",
       "text": [
        " \uc2a4\ud3ec\uce20\n",
        "Screen On"
       ]
      },
      {
       "output_type": "stream",
       "stream": "stdout",
       "text": [
        " \uac8c\uc784\n",
        "Screen On"
       ]
      },
      {
       "output_type": "stream",
       "stream": "stdout",
       "text": [
        " \uac74\uac15\n",
        "Screen On"
       ]
      },
      {
       "output_type": "stream",
       "stream": "stdout",
       "text": [
        " \ud559\uc2b5\n",
        "Screen On \ucee4\ubba4\ub2c8\ud2f0\n",
        "3\u570b\u5c0f\u8c6c \u6349\u932f\u8655"
       ]
      },
      {
       "output_type": "stream",
       "stream": "stdout",
       "text": [
        " \ubbf8\uc6a9\n",
        "3\u570b\u5c0f\u8c6c \u6349\u932f\u8655"
       ]
      },
      {
       "output_type": "stream",
       "stream": "stdout",
       "text": [
        " \uc74c\uc545\n",
        "3\u570b\u5c0f\u8c6c \u6349\u932f\u8655"
       ]
      },
      {
       "output_type": "stream",
       "stream": "stdout",
       "text": [
        " \ub9ac\ubdf0\n",
        "3\u570b\u5c0f\u8c6c \u6349\u932f\u8655"
       ]
      },
      {
       "output_type": "stream",
       "stream": "stdout",
       "text": [
        " \uc5f0\uc608\n",
        "3\u570b\u5c0f\u8c6c \u6349\u932f\u8655"
       ]
      },
      {
       "output_type": "stream",
       "stream": "stdout",
       "text": [
        " \uc74c\uc2dd\n",
        "3\u570b\u5c0f\u8c6c \u6349\u932f\u8655"
       ]
      },
      {
       "output_type": "stream",
       "stream": "stdout",
       "text": [
        " \uc2a4\ud3ec\uce20\n",
        "3\u570b\u5c0f\u8c6c \u6349\u932f\u8655"
       ]
      },
      {
       "output_type": "stream",
       "stream": "stdout",
       "text": [
        " \uac8c\uc784\n",
        "3\u570b\u5c0f\u8c6c \u6349\u932f\u8655"
       ]
      },
      {
       "output_type": "stream",
       "stream": "stdout",
       "text": [
        " \uac74\uac15\n",
        "3\u570b\u5c0f\u8c6c \u6349\u932f\u8655 \ud559\uc2b5\n",
        "3\u570b\u5c0f\u8c6c \u6349\u932f\u8655"
       ]
      },
      {
       "output_type": "stream",
       "stream": "stdout",
       "text": [
        " \ucee4\ubba4\ub2c8\ud2f0\n",
        "Video Download"
       ]
      },
      {
       "output_type": "stream",
       "stream": "stdout",
       "text": [
        " \ubbf8\uc6a9\n",
        "Video Download \uc74c\uc545\n",
        "Video Download"
       ]
      },
      {
       "output_type": "stream",
       "stream": "stdout",
       "text": [
        " \ub9ac\ubdf0\n",
        "Video Download \uc5f0\uc608\n",
        "Video Download"
       ]
      },
      {
       "output_type": "stream",
       "stream": "stdout",
       "text": [
        " \uc74c\uc2dd\n",
        "Video Download"
       ]
      },
      {
       "output_type": "stream",
       "stream": "stdout",
       "text": [
        " \uc2a4\ud3ec\uce20\n",
        "Video Download"
       ]
      },
      {
       "output_type": "stream",
       "stream": "stdout",
       "text": [
        " \uac8c\uc784\n",
        "Video Download"
       ]
      },
      {
       "output_type": "stream",
       "stream": "stdout",
       "text": [
        " \uac74\uac15\n",
        "Video Download"
       ]
      },
      {
       "output_type": "stream",
       "stream": "stdout",
       "text": [
        " \ud559\uc2b5\n",
        "Video Download"
       ]
      },
      {
       "output_type": "stream",
       "stream": "stdout",
       "text": [
        " \ucee4\ubba4\ub2c8\ud2f0\n",
        "Jet Car Stunts"
       ]
      },
      {
       "output_type": "stream",
       "stream": "stdout",
       "text": [
        " \ubbf8\uc6a9\n",
        "Jet Car Stunts"
       ]
      },
      {
       "output_type": "stream",
       "stream": "stdout",
       "text": [
        " \uc74c\uc545\n",
        "Jet Car Stunts \ub9ac\ubdf0\n",
        "Jet Car Stunts"
       ]
      },
      {
       "output_type": "stream",
       "stream": "stdout",
       "text": [
        " \uc5f0\uc608\n",
        "Jet Car Stunts"
       ]
      },
      {
       "output_type": "stream",
       "stream": "stdout",
       "text": [
        " \uc74c\uc2dd\n",
        "Jet Car Stunts"
       ]
      },
      {
       "output_type": "stream",
       "stream": "stdout",
       "text": [
        " \uc2a4\ud3ec\uce20\n",
        "Jet Car Stunts"
       ]
      },
      {
       "output_type": "stream",
       "stream": "stdout",
       "text": [
        " \uac8c\uc784\n",
        "Jet Car Stunts"
       ]
      },
      {
       "output_type": "stream",
       "stream": "stdout",
       "text": [
        " \uac74\uac15\n",
        "Jet Car Stunts"
       ]
      },
      {
       "output_type": "stream",
       "stream": "stdout",
       "text": [
        " \ud559\uc2b5\n",
        "Jet Car Stunts \ucee4\ubba4\ub2c8\ud2f0\n",
        "\uc880\ube44 \uc774\ube14"
       ]
      },
      {
       "output_type": "stream",
       "stream": "stdout",
       "text": [
        " \ubbf8\uc6a9\n",
        "\uc880\ube44 \uc774\ube14 \uc74c\uc545\n",
        "\uc880\ube44 \uc774\ube14"
       ]
      },
      {
       "output_type": "stream",
       "stream": "stdout",
       "text": [
        " \ub9ac\ubdf0\n",
        "\uc880\ube44 \uc774\ube14 \uc5f0\uc608\n",
        "\uc880\ube44 \uc774\ube14"
       ]
      },
      {
       "output_type": "stream",
       "stream": "stdout",
       "text": [
        " \uc74c\uc2dd\n",
        "\uc880\ube44 \uc774\ube14 \uc2a4\ud3ec\uce20\n",
        "\uc880\ube44 \uc774\ube14"
       ]
      },
      {
       "output_type": "stream",
       "stream": "stdout",
       "text": [
        " \uac8c\uc784\n",
        "\uc880\ube44 \uc774\ube14 \uac74\uac15\n",
        "\uc880\ube44 \uc774\ube14"
       ]
      },
      {
       "output_type": "stream",
       "stream": "stdout",
       "text": [
        " \ud559\uc2b5\n",
        "\uc880\ube44 \uc774\ube14 \ucee4\ubba4\ub2c8\ud2f0\n",
        "olleh \ucf55!\ucf55!"
       ]
      },
      {
       "output_type": "stream",
       "stream": "stdout",
       "text": [
        " \ubbf8\uc6a9\n",
        "olleh \ucf55!\ucf55! \uc74c\uc545\n",
        "olleh \ucf55!\ucf55!"
       ]
      },
      {
       "output_type": "stream",
       "stream": "stdout",
       "text": [
        " \ub9ac\ubdf0\n",
        "olleh \ucf55!\ucf55!"
       ]
      },
      {
       "output_type": "stream",
       "stream": "stdout",
       "text": [
        " \uc5f0\uc608\n",
        "olleh \ucf55!\ucf55! \uc74c\uc2dd\n",
        "olleh \ucf55!\ucf55!"
       ]
      },
      {
       "output_type": "stream",
       "stream": "stdout",
       "text": [
        " \uc2a4\ud3ec\uce20\n",
        "olleh \ucf55!\ucf55! \uac8c\uc784\n",
        "olleh \ucf55!\ucf55!"
       ]
      },
      {
       "output_type": "stream",
       "stream": "stdout",
       "text": [
        " \uac74\uac15\n",
        "olleh \ucf55!\ucf55!"
       ]
      },
      {
       "output_type": "stream",
       "stream": "stdout",
       "text": [
        " \ud559\uc2b5\n",
        "olleh \ucf55!\ucf55!"
       ]
      },
      {
       "output_type": "stream",
       "stream": "stdout",
       "text": [
        " \ucee4\ubba4\ub2c8\ud2f0\n",
        "iMadeFace Funny Pics & Videos \ubbf8\uc6a9\n",
        "iMadeFace Funny Pics & Videos"
       ]
      },
      {
       "output_type": "stream",
       "stream": "stdout",
       "text": [
        " \uc74c\uc545\n",
        "iMadeFace Funny Pics & Videos"
       ]
      },
      {
       "output_type": "stream",
       "stream": "stdout",
       "text": [
        " \ub9ac\ubdf0\n",
        "iMadeFace Funny Pics & Videos \uc5f0\uc608\n",
        "iMadeFace Funny Pics & Videos"
       ]
      },
      {
       "output_type": "stream",
       "stream": "stdout",
       "text": [
        " \uc74c\uc2dd\n",
        "iMadeFace Funny Pics & Videos \uc2a4\ud3ec\uce20\n",
        "iMadeFace Funny Pics & Videos"
       ]
      },
      {
       "output_type": "stream",
       "stream": "stdout",
       "text": [
        " \uac8c\uc784\n",
        "iMadeFace Funny Pics & Videos \uac74\uac15\n",
        "iMadeFace Funny Pics & Videos"
       ]
      },
      {
       "output_type": "stream",
       "stream": "stdout",
       "text": [
        " \ud559\uc2b5\n",
        "iMadeFace Funny Pics & Videos \ucee4\ubba4\ub2c8\ud2f0\n",
        "[PNN] PTT \u9109\u6c11\u665a\u5831"
       ]
      },
      {
       "output_type": "stream",
       "stream": "stdout",
       "text": [
        " \ubbf8\uc6a9\n",
        "[PNN] PTT \u9109\u6c11\u665a\u5831 \uc74c\uc545\n",
        "[PNN] PTT \u9109\u6c11\u665a\u5831"
       ]
      },
      {
       "output_type": "stream",
       "stream": "stdout",
       "text": [
        " \ub9ac\ubdf0\n",
        "[PNN] PTT \u9109\u6c11\u665a\u5831"
       ]
      },
      {
       "output_type": "stream",
       "stream": "stdout",
       "text": [
        " \uc5f0\uc608\n",
        "[PNN] PTT \u9109\u6c11\u665a\u5831"
       ]
      },
      {
       "output_type": "stream",
       "stream": "stdout",
       "text": [
        " \uc74c\uc2dd\n",
        "[PNN] PTT \u9109\u6c11\u665a\u5831 \uc2a4\ud3ec\uce20\n",
        "[PNN] PTT \u9109\u6c11\u665a\u5831"
       ]
      },
      {
       "output_type": "stream",
       "stream": "stdout",
       "text": [
        " \uac8c\uc784\n",
        "[PNN] PTT \u9109\u6c11\u665a\u5831 \uac74\uac15\n",
        "[PNN] PTT \u9109\u6c11\u665a\u5831"
       ]
      },
      {
       "output_type": "stream",
       "stream": "stdout",
       "text": [
        " \ud559\uc2b5\n",
        "[PNN] PTT \u9109\u6c11\u665a\u5831 \ucee4\ubba4\ub2c8\ud2f0\n",
        "\uce58\ud0a8\ub7f0(\ub18d\uc7a5\ud0c8\ucd9c)"
       ]
      },
      {
       "output_type": "stream",
       "stream": "stdout",
       "text": [
        " \ubbf8\uc6a9\n",
        "\uce58\ud0a8\ub7f0(\ub18d\uc7a5\ud0c8\ucd9c)"
       ]
      },
      {
       "output_type": "stream",
       "stream": "stdout",
       "text": [
        " \uc74c\uc545\n",
        "\uce58\ud0a8\ub7f0(\ub18d\uc7a5\ud0c8\ucd9c)"
       ]
      },
      {
       "output_type": "stream",
       "stream": "stdout",
       "text": [
        " \ub9ac\ubdf0\n",
        "\uce58\ud0a8\ub7f0(\ub18d\uc7a5\ud0c8\ucd9c) \uc5f0\uc608\n",
        "\uce58\ud0a8\ub7f0(\ub18d\uc7a5\ud0c8\ucd9c)"
       ]
      },
      {
       "output_type": "stream",
       "stream": "stdout",
       "text": [
        " \uc74c\uc2dd\n",
        "\uce58\ud0a8\ub7f0(\ub18d\uc7a5\ud0c8\ucd9c) \uc2a4\ud3ec\uce20\n",
        "\uce58\ud0a8\ub7f0(\ub18d\uc7a5\ud0c8\ucd9c)"
       ]
      },
      {
       "output_type": "stream",
       "stream": "stdout",
       "text": [
        " \uac8c\uc784\n",
        "\uce58\ud0a8\ub7f0(\ub18d\uc7a5\ud0c8\ucd9c) \uac74\uac15\n",
        "\uce58\ud0a8\ub7f0(\ub18d\uc7a5\ud0c8\ucd9c)"
       ]
      },
      {
       "output_type": "stream",
       "stream": "stdout",
       "text": [
        " \ud559\uc2b5\n",
        "\uce58\ud0a8\ub7f0(\ub18d\uc7a5\ud0c8\ucd9c)"
       ]
      },
      {
       "output_type": "stream",
       "stream": "stdout",
       "text": [
        " \ucee4\ubba4\ub2c8\ud2f0\n",
        "ApeFlip"
       ]
      },
      {
       "output_type": "stream",
       "stream": "stdout",
       "text": [
        " \ubbf8\uc6a9\n",
        "ApeFlip"
       ]
      },
      {
       "output_type": "stream",
       "stream": "stdout",
       "text": [
        " \uc74c\uc545\n",
        "ApeFlip"
       ]
      },
      {
       "output_type": "stream",
       "stream": "stdout",
       "text": [
        " \ub9ac\ubdf0\n",
        "ApeFlip"
       ]
      },
      {
       "output_type": "stream",
       "stream": "stdout",
       "text": [
        " \uc5f0\uc608\n",
        "ApeFlip \uc74c\uc2dd\n",
        "ApeFlip"
       ]
      },
      {
       "output_type": "stream",
       "stream": "stdout",
       "text": [
        " \uc2a4\ud3ec\uce20\n",
        "ApeFlip \uac8c\uc784\n",
        "ApeFlip"
       ]
      },
      {
       "output_type": "stream",
       "stream": "stdout",
       "text": [
        " \uac74\uac15\n",
        "ApeFlip"
       ]
      },
      {
       "output_type": "stream",
       "stream": "stdout",
       "text": [
        " \ud559\uc2b5\n",
        "ApeFlip \ucee4\ubba4\ub2c8\ud2f0\n",
        "Equalizer"
       ]
      },
      {
       "output_type": "stream",
       "stream": "stdout",
       "text": [
        " \ubbf8\uc6a9\n",
        "Equalizer"
       ]
      },
      {
       "output_type": "stream",
       "stream": "stdout",
       "text": [
        " \uc74c\uc545\n",
        "Equalizer"
       ]
      },
      {
       "output_type": "stream",
       "stream": "stdout",
       "text": [
        " \ub9ac\ubdf0\n",
        "Equalizer \uc5f0\uc608\n",
        "Equalizer"
       ]
      },
      {
       "output_type": "stream",
       "stream": "stdout",
       "text": [
        " \uc74c\uc2dd\n",
        "Equalizer \uc2a4\ud3ec\uce20\n",
        "Equalizer"
       ]
      },
      {
       "output_type": "stream",
       "stream": "stdout",
       "text": [
        " \uac8c\uc784\n",
        "Equalizer \uac74\uac15\n",
        "Equalizer"
       ]
      },
      {
       "output_type": "stream",
       "stream": "stdout",
       "text": [
        " \ud559\uc2b5\n",
        "Equalizer"
       ]
      },
      {
       "output_type": "stream",
       "stream": "stdout",
       "text": [
        " \ucee4\ubba4\ub2c8\ud2f0\n",
        "Splat Bugs III Unlock KEY"
       ]
      },
      {
       "output_type": "stream",
       "stream": "stdout",
       "text": [
        " \ubbf8\uc6a9\n",
        "Splat Bugs III Unlock KEY \uc74c\uc545\n",
        "Splat Bugs III Unlock KEY"
       ]
      },
      {
       "output_type": "stream",
       "stream": "stdout",
       "text": [
        " \ub9ac\ubdf0\n",
        "Splat Bugs III Unlock KEY \uc5f0\uc608\n",
        "Splat Bugs III Unlock KEY"
       ]
      },
      {
       "output_type": "stream",
       "stream": "stdout",
       "text": [
        " \uc74c\uc2dd\n",
        "Splat Bugs III Unlock KEY \uc2a4\ud3ec\uce20\n",
        "Splat Bugs III Unlock KEY"
       ]
      },
      {
       "output_type": "stream",
       "stream": "stdout",
       "text": [
        " \uac8c\uc784\n",
        "Splat Bugs III Unlock KEY \uac74\uac15\n",
        "Splat Bugs III Unlock KEY"
       ]
      },
      {
       "output_type": "stream",
       "stream": "stdout",
       "text": [
        " \ud559\uc2b5\n",
        "Splat Bugs III Unlock KEY \ucee4\ubba4\ub2c8\ud2f0\n",
        "TOP 20 SMS \uc0ac\uc6b4\ub4dc \ud6a8\uacfc"
       ]
      },
      {
       "output_type": "stream",
       "stream": "stdout",
       "text": [
        " \ubbf8\uc6a9\n",
        "TOP 20 SMS \uc0ac\uc6b4\ub4dc \ud6a8\uacfc \uc74c\uc545\n",
        "TOP 20 SMS \uc0ac\uc6b4\ub4dc \ud6a8\uacfc"
       ]
      },
      {
       "output_type": "stream",
       "stream": "stdout",
       "text": [
        " \ub9ac\ubdf0\n",
        "TOP 20 SMS \uc0ac\uc6b4\ub4dc \ud6a8\uacfc \uc5f0\uc608\n",
        "TOP 20 SMS \uc0ac\uc6b4\ub4dc \ud6a8\uacfc"
       ]
      },
      {
       "output_type": "stream",
       "stream": "stdout",
       "text": [
        " \uc74c\uc2dd\n",
        "TOP 20 SMS \uc0ac\uc6b4\ub4dc \ud6a8\uacfc \uc2a4\ud3ec\uce20\n",
        "TOP 20 SMS \uc0ac\uc6b4\ub4dc \ud6a8\uacfc"
       ]
      },
      {
       "output_type": "stream",
       "stream": "stdout",
       "text": [
        " \uac8c\uc784\n",
        "TOP 20 SMS \uc0ac\uc6b4\ub4dc \ud6a8\uacfc \uac74\uac15\n",
        "TOP 20 SMS \uc0ac\uc6b4\ub4dc \ud6a8\uacfc"
       ]
      },
      {
       "output_type": "stream",
       "stream": "stdout",
       "text": [
        " \ud559\uc2b5\n",
        "TOP 20 SMS \uc0ac\uc6b4\ub4dc \ud6a8\uacfc \ucee4\ubba4\ub2c8\ud2f0\n",
        "\u30aa\u30ea\u30b3\u30f3\u30df\u30e5\u30fc\u30b8\u30c3\u30af\u30b9\u30c8\u30a2"
       ]
      },
      {
       "output_type": "stream",
       "stream": "stdout",
       "text": [
        " \ubbf8\uc6a9\n",
        "\u30aa\u30ea\u30b3\u30f3\u30df\u30e5\u30fc\u30b8\u30c3\u30af\u30b9\u30c8\u30a2 \uc74c\uc545\n",
        "\u30aa\u30ea\u30b3\u30f3\u30df\u30e5\u30fc\u30b8\u30c3\u30af\u30b9\u30c8\u30a2"
       ]
      },
      {
       "output_type": "stream",
       "stream": "stdout",
       "text": [
        " \ub9ac\ubdf0\n",
        "\u30aa\u30ea\u30b3\u30f3\u30df\u30e5\u30fc\u30b8\u30c3\u30af\u30b9\u30c8\u30a2 \uc5f0\uc608\n",
        "\u30aa\u30ea\u30b3\u30f3\u30df\u30e5\u30fc\u30b8\u30c3\u30af\u30b9\u30c8\u30a2"
       ]
      },
      {
       "output_type": "stream",
       "stream": "stdout",
       "text": [
        " \uc74c\uc2dd\n",
        "\u30aa\u30ea\u30b3\u30f3\u30df\u30e5\u30fc\u30b8\u30c3\u30af\u30b9\u30c8\u30a2"
       ]
      },
      {
       "output_type": "stream",
       "stream": "stdout",
       "text": [
        " \uc2a4\ud3ec\uce20\n",
        "\u30aa\u30ea\u30b3\u30f3\u30df\u30e5\u30fc\u30b8\u30c3\u30af\u30b9\u30c8\u30a2"
       ]
      },
      {
       "output_type": "stream",
       "stream": "stdout",
       "text": [
        " \uac8c\uc784\n",
        "\u30aa\u30ea\u30b3\u30f3\u30df\u30e5\u30fc\u30b8\u30c3\u30af\u30b9\u30c8\u30a2 \uac74\uac15\n",
        "\u30aa\u30ea\u30b3\u30f3\u30df\u30e5\u30fc\u30b8\u30c3\u30af\u30b9\u30c8\u30a2"
       ]
      },
      {
       "output_type": "stream",
       "stream": "stdout",
       "text": [
        " \ud559\uc2b5\n",
        "\u30aa\u30ea\u30b3\u30f3\u30df\u30e5\u30fc\u30b8\u30c3\u30af\u30b9\u30c8\u30a2 \ucee4\ubba4\ub2c8\ud2f0\n",
        "Shut Up! App"
       ]
      },
      {
       "output_type": "stream",
       "stream": "stdout",
       "text": [
        " \ubbf8\uc6a9\n",
        "Shut Up! App \uc74c\uc545\n",
        "Shut Up! App"
       ]
      },
      {
       "output_type": "stream",
       "stream": "stdout",
       "text": [
        " \ub9ac\ubdf0\n",
        "Shut Up! App"
       ]
      },
      {
       "output_type": "stream",
       "stream": "stdout",
       "text": [
        " \uc5f0\uc608\n",
        "Shut Up! App \uc74c\uc2dd\n",
        "Shut Up! App"
       ]
      },
      {
       "output_type": "stream",
       "stream": "stdout",
       "text": [
        " \uc2a4\ud3ec\uce20\n",
        "Shut Up! App"
       ]
      },
      {
       "output_type": "stream",
       "stream": "stdout",
       "text": [
        " \uac8c\uc784\n",
        "Shut Up! App \uac74\uac15\n",
        "Shut Up! App"
       ]
      },
      {
       "output_type": "stream",
       "stream": "stdout",
       "text": [
        " \ud559\uc2b5\n",
        "Shut Up! App \ucee4\ubba4\ub2c8\ud2f0\n",
        "\ub9e4\ub2c8\ud050\uc5b4 \ub514\uc790\uc774\ub108 \ub77c\uc774\ud2b8"
       ]
      },
      {
       "output_type": "stream",
       "stream": "stdout",
       "text": [
        " \ubbf8\uc6a9\n",
        "\ub9e4\ub2c8\ud050\uc5b4 \ub514\uc790\uc774\ub108 \ub77c\uc774\ud2b8 \uc74c\uc545\n",
        "\ub9e4\ub2c8\ud050\uc5b4 \ub514\uc790\uc774\ub108 \ub77c\uc774\ud2b8"
       ]
      },
      {
       "output_type": "stream",
       "stream": "stdout",
       "text": [
        " \ub9ac\ubdf0\n",
        "\ub9e4\ub2c8\ud050\uc5b4 \ub514\uc790\uc774\ub108 \ub77c\uc774\ud2b8 \uc5f0\uc608\n",
        "\ub9e4\ub2c8\ud050\uc5b4 \ub514\uc790\uc774\ub108 \ub77c\uc774\ud2b8"
       ]
      },
      {
       "output_type": "stream",
       "stream": "stdout",
       "text": [
        " \uc74c\uc2dd\n",
        "\ub9e4\ub2c8\ud050\uc5b4 \ub514\uc790\uc774\ub108 \ub77c\uc774\ud2b8 \uc2a4\ud3ec\uce20\n",
        "\ub9e4\ub2c8\ud050\uc5b4 \ub514\uc790\uc774\ub108 \ub77c\uc774\ud2b8"
       ]
      },
      {
       "output_type": "stream",
       "stream": "stdout",
       "text": [
        " \uac8c\uc784\n",
        "\ub9e4\ub2c8\ud050\uc5b4 \ub514\uc790\uc774\ub108 \ub77c\uc774\ud2b8"
       ]
      },
      {
       "output_type": "stream",
       "stream": "stdout",
       "text": [
        " \uac74\uac15\n",
        "\ub9e4\ub2c8\ud050\uc5b4 \ub514\uc790\uc774\ub108 \ub77c\uc774\ud2b8 \ud559\uc2b5\n",
        "\ub9e4\ub2c8\ud050\uc5b4 \ub514\uc790\uc774\ub108 \ub77c\uc774\ud2b8"
       ]
      },
      {
       "output_type": "stream",
       "stream": "stdout",
       "text": [
        " \ucee4\ubba4\ub2c8\ud2f0\n",
        "\u4e58\u6cd5\u5c0f\u5b78\u5802 \ubbf8\uc6a9\n",
        "\u4e58\u6cd5\u5c0f\u5b78\u5802"
       ]
      },
      {
       "output_type": "stream",
       "stream": "stdout",
       "text": [
        " \uc74c\uc545\n",
        "\u4e58\u6cd5\u5c0f\u5b78\u5802"
       ]
      },
      {
       "output_type": "stream",
       "stream": "stdout",
       "text": [
        " \ub9ac\ubdf0\n",
        "\u4e58\u6cd5\u5c0f\u5b78\u5802 \uc5f0\uc608\n",
        "\u4e58\u6cd5\u5c0f\u5b78\u5802"
       ]
      },
      {
       "output_type": "stream",
       "stream": "stdout",
       "text": [
        " \uc74c\uc2dd\n",
        "\u4e58\u6cd5\u5c0f\u5b78\u5802"
       ]
      },
      {
       "output_type": "stream",
       "stream": "stdout",
       "text": [
        " \uc2a4\ud3ec\uce20\n",
        "\u4e58\u6cd5\u5c0f\u5b78\u5802"
       ]
      },
      {
       "output_type": "stream",
       "stream": "stdout",
       "text": [
        " \uac8c\uc784\n",
        "\u4e58\u6cd5\u5c0f\u5b78\u5802"
       ]
      },
      {
       "output_type": "stream",
       "stream": "stdout",
       "text": [
        " \uac74\uac15\n",
        "\u4e58\u6cd5\u5c0f\u5b78\u5802"
       ]
      },
      {
       "output_type": "stream",
       "stream": "stdout",
       "text": [
        " \ud559\uc2b5\n",
        "\u4e58\u6cd5\u5c0f\u5b78\u5802"
       ]
      },
      {
       "output_type": "stream",
       "stream": "stdout",
       "text": [
        " \ucee4\ubba4\ub2c8\ud2f0\n",
        "T map for KT,LGU+"
       ]
      },
      {
       "output_type": "stream",
       "stream": "stdout",
       "text": [
        " \ubbf8\uc6a9\n",
        "T map for KT,LGU+ \uc74c\uc545\n",
        "T map for KT,LGU+"
       ]
      },
      {
       "output_type": "stream",
       "stream": "stdout",
       "text": [
        " \ub9ac\ubdf0\n",
        "T map for KT,LGU+ \uc5f0\uc608\n",
        "T map for KT,LGU+"
       ]
      },
      {
       "output_type": "stream",
       "stream": "stdout",
       "text": [
        " \uc74c\uc2dd\n",
        "T map for KT,LGU+ \uc2a4\ud3ec\uce20\n",
        "T map for KT,LGU+"
       ]
      },
      {
       "output_type": "stream",
       "stream": "stdout",
       "text": [
        " \uac8c\uc784\n",
        "T map for KT,LGU+"
       ]
      },
      {
       "output_type": "stream",
       "stream": "stdout",
       "text": [
        " \uac74\uac15\n",
        "T map for KT,LGU+ \ud559\uc2b5\n",
        "T map for KT,LGU+"
       ]
      },
      {
       "output_type": "stream",
       "stream": "stdout",
       "text": [
        " \ucee4\ubba4\ub2c8\ud2f0\n",
        "\u53f0\u7063\u5496\u5561/\u98f2\u6599\u5927\u5168\uff01 (online\u7248, \u53ef\u4e0b\u8f09\u96e2\u7dda\u4f7f\u7528)"
       ]
      },
      {
       "output_type": "stream",
       "stream": "stdout",
       "text": [
        " \ubbf8\uc6a9\n",
        "\u53f0\u7063\u5496\u5561/\u98f2\u6599\u5927\u5168\uff01 (online\u7248, \u53ef\u4e0b\u8f09\u96e2\u7dda\u4f7f\u7528)"
       ]
      },
      {
       "output_type": "stream",
       "stream": "stdout",
       "text": [
        " \uc74c\uc545\n",
        "\u53f0\u7063\u5496\u5561/\u98f2\u6599\u5927\u5168\uff01 (online\u7248, \u53ef\u4e0b\u8f09\u96e2\u7dda\u4f7f\u7528)"
       ]
      },
      {
       "output_type": "stream",
       "stream": "stdout",
       "text": [
        " \ub9ac\ubdf0\n",
        "\u53f0\u7063\u5496\u5561/\u98f2\u6599\u5927\u5168\uff01 (online\u7248, \u53ef\u4e0b\u8f09\u96e2\u7dda\u4f7f\u7528) \uc5f0\uc608\n",
        "\u53f0\u7063\u5496\u5561/\u98f2\u6599\u5927\u5168\uff01 (online\u7248, \u53ef\u4e0b\u8f09\u96e2\u7dda\u4f7f\u7528)"
       ]
      },
      {
       "output_type": "stream",
       "stream": "stdout",
       "text": [
        " \uc74c\uc2dd\n",
        "\u53f0\u7063\u5496\u5561/\u98f2\u6599\u5927\u5168\uff01 (online\u7248, \u53ef\u4e0b\u8f09\u96e2\u7dda\u4f7f\u7528) \uc2a4\ud3ec\uce20\n",
        "\u53f0\u7063\u5496\u5561/\u98f2\u6599\u5927\u5168\uff01 (online\u7248, \u53ef\u4e0b\u8f09\u96e2\u7dda\u4f7f\u7528)"
       ]
      },
      {
       "output_type": "stream",
       "stream": "stdout",
       "text": [
        " \uac8c\uc784\n",
        "\u53f0\u7063\u5496\u5561/\u98f2\u6599\u5927\u5168\uff01 (online\u7248, \u53ef\u4e0b\u8f09\u96e2\u7dda\u4f7f\u7528)"
       ]
      },
      {
       "output_type": "stream",
       "stream": "stdout",
       "text": [
        " \uac74\uac15\n",
        "\u53f0\u7063\u5496\u5561/\u98f2\u6599\u5927\u5168\uff01 (online\u7248, \u53ef\u4e0b\u8f09\u96e2\u7dda\u4f7f\u7528) \ud559\uc2b5\n",
        "\u53f0\u7063\u5496\u5561/\u98f2\u6599\u5927\u5168\uff01 (online\u7248, \u53ef\u4e0b\u8f09\u96e2\u7dda\u4f7f\u7528)"
       ]
      },
      {
       "output_type": "stream",
       "stream": "stdout",
       "text": [
        " \ucee4\ubba4\ub2c8\ud2f0\n",
        "Mickey Mouse Clubhouse \ubbf8\uc6a9\n",
        "Mickey Mouse Clubhouse"
       ]
      },
      {
       "output_type": "stream",
       "stream": "stdout",
       "text": [
        " \uc74c\uc545\n",
        "Mickey Mouse Clubhouse \ub9ac\ubdf0\n",
        "Mickey Mouse Clubhouse"
       ]
      },
      {
       "output_type": "stream",
       "stream": "stdout",
       "text": [
        " \uc5f0\uc608\n",
        "Mickey Mouse Clubhouse \uc74c\uc2dd\n",
        "Mickey Mouse Clubhouse"
       ]
      },
      {
       "output_type": "stream",
       "stream": "stdout",
       "text": [
        " \uc2a4\ud3ec\uce20\n",
        "Mickey Mouse Clubhouse \uac8c\uc784\n",
        "Mickey Mouse Clubhouse"
       ]
      },
      {
       "output_type": "stream",
       "stream": "stdout",
       "text": [
        " \uac74\uac15\n",
        "Mickey Mouse Clubhouse \ud559\uc2b5\n",
        "Mickey Mouse Clubhouse"
       ]
      },
      {
       "output_type": "stream",
       "stream": "stdout",
       "text": [
        " \ucee4\ubba4\ub2c8\ud2f0\n",
        "\u59dc\u997c\u4eba\u5927\u9003\u4ea1 (Ovenbreak)"
       ]
      },
      {
       "output_type": "stream",
       "stream": "stdout",
       "text": [
        " \ubbf8\uc6a9\n",
        "\u59dc\u997c\u4eba\u5927\u9003\u4ea1 (Ovenbreak)"
       ]
      },
      {
       "output_type": "stream",
       "stream": "stdout",
       "text": [
        " \uc74c\uc545\n",
        "\u59dc\u997c\u4eba\u5927\u9003\u4ea1 (Ovenbreak)"
       ]
      },
      {
       "output_type": "stream",
       "stream": "stdout",
       "text": [
        " \ub9ac\ubdf0\n",
        "\u59dc\u997c\u4eba\u5927\u9003\u4ea1 (Ovenbreak)"
       ]
      },
      {
       "output_type": "stream",
       "stream": "stdout",
       "text": [
        " \uc5f0\uc608\n",
        "\u59dc\u997c\u4eba\u5927\u9003\u4ea1 (Ovenbreak) \uc74c\uc2dd\n",
        "\u59dc\u997c\u4eba\u5927\u9003\u4ea1 (Ovenbreak)"
       ]
      },
      {
       "output_type": "stream",
       "stream": "stdout",
       "text": [
        " \uc2a4\ud3ec\uce20\n",
        "\u59dc\u997c\u4eba\u5927\u9003\u4ea1 (Ovenbreak) \uac8c\uc784\n",
        "\u59dc\u997c\u4eba\u5927\u9003\u4ea1 (Ovenbreak)"
       ]
      },
      {
       "output_type": "stream",
       "stream": "stdout",
       "text": [
        " \uac74\uac15\n",
        "\u59dc\u997c\u4eba\u5927\u9003\u4ea1 (Ovenbreak) \ud559\uc2b5\n",
        "\u59dc\u997c\u4eba\u5927\u9003\u4ea1 (Ovenbreak)"
       ]
      },
      {
       "output_type": "stream",
       "stream": "stdout",
       "text": [
        " \ucee4\ubba4\ub2c8\ud2f0\n",
        "\uc9c0\ubb38 \uc608\uc0c1"
       ]
      },
      {
       "output_type": "stream",
       "stream": "stdout",
       "text": [
        " \ubbf8\uc6a9\n",
        "\uc9c0\ubb38 \uc608\uc0c1 \uc74c\uc545\n",
        "\uc9c0\ubb38 \uc608\uc0c1"
       ]
      },
      {
       "output_type": "stream",
       "stream": "stdout",
       "text": [
        " \ub9ac\ubdf0\n",
        "\uc9c0\ubb38 \uc608\uc0c1"
       ]
      },
      {
       "output_type": "stream",
       "stream": "stdout",
       "text": [
        " \uc5f0\uc608\n",
        "\uc9c0\ubb38 \uc608\uc0c1 \uc74c\uc2dd\n",
        "\uc9c0\ubb38 \uc608\uc0c1"
       ]
      },
      {
       "output_type": "stream",
       "stream": "stdout",
       "text": [
        " \uc2a4\ud3ec\uce20\n",
        "\uc9c0\ubb38 \uc608\uc0c1 \uac8c\uc784\n",
        "\uc9c0\ubb38 \uc608\uc0c1"
       ]
      },
      {
       "output_type": "stream",
       "stream": "stdout",
       "text": [
        " \uac74\uac15\n",
        "\uc9c0\ubb38 \uc608\uc0c1 \ud559\uc2b5\n",
        "\uc9c0\ubb38 \uc608\uc0c1"
       ]
      },
      {
       "output_type": "stream",
       "stream": "stdout",
       "text": [
        " \ucee4\ubba4\ub2c8\ud2f0\n",
        "\uc2a4\ud241\uc2a4(stoongs) Email\uc601\uc5b4 \ubbf8\uc6a9\n",
        "\uc2a4\ud241\uc2a4(stoongs) Email\uc601\uc5b4"
       ]
      },
      {
       "output_type": "stream",
       "stream": "stdout",
       "text": [
        " \uc74c\uc545\n",
        "\uc2a4\ud241\uc2a4(stoongs) Email\uc601\uc5b4 \ub9ac\ubdf0\n",
        "\uc2a4\ud241\uc2a4(stoongs) Email\uc601\uc5b4"
       ]
      },
      {
       "output_type": "stream",
       "stream": "stdout",
       "text": [
        " \uc5f0\uc608\n",
        "\uc2a4\ud241\uc2a4(stoongs) Email\uc601\uc5b4"
       ]
      },
      {
       "output_type": "stream",
       "stream": "stdout",
       "text": [
        " \uc74c\uc2dd\n",
        "\uc2a4\ud241\uc2a4(stoongs) Email\uc601\uc5b4 \uc2a4\ud3ec\uce20\n",
        "\uc2a4\ud241\uc2a4(stoongs) Email\uc601\uc5b4"
       ]
      },
      {
       "output_type": "stream",
       "stream": "stdout",
       "text": [
        " \uac8c\uc784\n",
        "\uc2a4\ud241\uc2a4(stoongs) Email\uc601\uc5b4 \uac74\uac15\n",
        "\uc2a4\ud241\uc2a4(stoongs) Email\uc601\uc5b4"
       ]
      },
      {
       "output_type": "stream",
       "stream": "stdout",
       "text": [
        " \ud559\uc2b5\n",
        "\uc2a4\ud241\uc2a4(stoongs) Email\uc601\uc5b4 \ucee4\ubba4\ub2c8\ud2f0\n",
        "EZ\u65c5\u904a\u65e5\u8a9e"
       ]
      },
      {
       "output_type": "stream",
       "stream": "stdout",
       "text": [
        " \ubbf8\uc6a9\n",
        "EZ\u65c5\u904a\u65e5\u8a9e"
       ]
      },
      {
       "output_type": "stream",
       "stream": "stdout",
       "text": [
        " \uc74c\uc545\n",
        "EZ\u65c5\u904a\u65e5\u8a9e"
       ]
      },
      {
       "output_type": "stream",
       "stream": "stdout",
       "text": [
        " \ub9ac\ubdf0\n",
        "EZ\u65c5\u904a\u65e5\u8a9e \uc5f0\uc608\n",
        "EZ\u65c5\u904a\u65e5\u8a9e"
       ]
      },
      {
       "output_type": "stream",
       "stream": "stdout",
       "text": [
        " \uc74c\uc2dd\n",
        "EZ\u65c5\u904a\u65e5\u8a9e \uc2a4\ud3ec\uce20\n",
        "EZ\u65c5\u904a\u65e5\u8a9e"
       ]
      },
      {
       "output_type": "stream",
       "stream": "stdout",
       "text": [
        " \uac8c\uc784\n",
        "EZ\u65c5\u904a\u65e5\u8a9e \uac74\uac15\n",
        "EZ\u65c5\u904a\u65e5\u8a9e"
       ]
      },
      {
       "output_type": "stream",
       "stream": "stdout",
       "text": [
        " \ud559\uc2b5\n",
        "EZ\u65c5\u904a\u65e5\u8a9e"
       ]
      },
      {
       "output_type": "stream",
       "stream": "stdout",
       "text": [
        " \ucee4\ubba4\ub2c8\ud2f0\n",
        "EZ\u7f8e\u98df\u65e5\u8a9e \ubbf8\uc6a9\n",
        "EZ\u7f8e\u98df\u65e5\u8a9e"
       ]
      },
      {
       "output_type": "stream",
       "stream": "stdout",
       "text": [
        " \uc74c\uc545\n",
        "EZ\u7f8e\u98df\u65e5\u8a9e"
       ]
      },
      {
       "output_type": "stream",
       "stream": "stdout",
       "text": [
        " \ub9ac\ubdf0\n",
        "EZ\u7f8e\u98df\u65e5\u8a9e \uc5f0\uc608\n",
        "EZ\u7f8e\u98df\u65e5\u8a9e"
       ]
      },
      {
       "output_type": "stream",
       "stream": "stdout",
       "text": [
        " \uc74c\uc2dd\n",
        "EZ\u7f8e\u98df\u65e5\u8a9e"
       ]
      },
      {
       "output_type": "stream",
       "stream": "stdout",
       "text": [
        " \uc2a4\ud3ec\uce20\n",
        "EZ\u7f8e\u98df\u65e5\u8a9e"
       ]
      },
      {
       "output_type": "stream",
       "stream": "stdout",
       "text": [
        " \uac8c\uc784\n",
        "EZ\u7f8e\u98df\u65e5\u8a9e"
       ]
      },
      {
       "output_type": "stream",
       "stream": "stdout",
       "text": [
        " \uac74\uac15\n",
        "EZ\u7f8e\u98df\u65e5\u8a9e"
       ]
      },
      {
       "output_type": "stream",
       "stream": "stdout",
       "text": [
        " \ud559\uc2b5\n",
        "EZ\u7f8e\u98df\u65e5\u8a9e"
       ]
      },
      {
       "output_type": "stream",
       "stream": "stdout",
       "text": [
        " \ucee4\ubba4\ub2c8\ud2f0\n",
        "Net Big 2 Free"
       ]
      },
      {
       "output_type": "stream",
       "stream": "stdout",
       "text": [
        " \ubbf8\uc6a9\n",
        "Net Big 2 Free"
       ]
      },
      {
       "output_type": "stream",
       "stream": "stdout",
       "text": [
        " \uc74c\uc545\n",
        "Net Big 2 Free"
       ]
      },
      {
       "output_type": "stream",
       "stream": "stdout",
       "text": [
        " \ub9ac\ubdf0\n",
        "Net Big 2 Free \uc5f0\uc608\n",
        "Net Big 2 Free"
       ]
      },
      {
       "output_type": "stream",
       "stream": "stdout",
       "text": [
        " \uc74c\uc2dd\n",
        "Net Big 2 Free \uc2a4\ud3ec\uce20\n",
        "Net Big 2 Free"
       ]
      },
      {
       "output_type": "stream",
       "stream": "stdout",
       "text": [
        " \uac8c\uc784\n",
        "Net Big 2 Free"
       ]
      },
      {
       "output_type": "stream",
       "stream": "stdout",
       "text": [
        " \uac74\uac15\n",
        "Net Big 2 Free \ud559\uc2b5\n",
        "Net Big 2 Free"
       ]
      },
      {
       "output_type": "stream",
       "stream": "stdout",
       "text": [
        " \ucee4\ubba4\ub2c8\ud2f0\n",
        "Jewellust Xmas \ubbf8\uc6a9\n",
        "Jewellust Xmas"
       ]
      },
      {
       "output_type": "stream",
       "stream": "stdout",
       "text": [
        " \uc74c\uc545\n",
        "Jewellust Xmas \ub9ac\ubdf0\n",
        "Jewellust Xmas"
       ]
      },
      {
       "output_type": "stream",
       "stream": "stdout",
       "text": [
        " \uc5f0\uc608\n",
        "Jewellust Xmas \uc74c\uc2dd\n",
        "Jewellust Xmas"
       ]
      },
      {
       "output_type": "stream",
       "stream": "stdout",
       "text": [
        " \uc2a4\ud3ec\uce20\n",
        "Jewellust Xmas"
       ]
      },
      {
       "output_type": "stream",
       "stream": "stdout",
       "text": [
        " \uac8c\uc784\n",
        "Jewellust Xmas"
       ]
      },
      {
       "output_type": "stream",
       "stream": "stdout",
       "text": [
        " \uac74\uac15\n",
        "Jewellust Xmas \ud559\uc2b5\n",
        "Jewellust Xmas"
       ]
      },
      {
       "output_type": "stream",
       "stream": "stdout",
       "text": [
        " \ucee4\ubba4\ub2c8\ud2f0\n",
        "\uce74\ud1a1 \uc774\ubaa8\ud2f0\ucf58 \ubbf8\uc6a9\n",
        "\uce74\ud1a1 \uc774\ubaa8\ud2f0\ucf58"
       ]
      },
      {
       "output_type": "stream",
       "stream": "stdout",
       "text": [
        " \uc74c\uc545\n",
        "\uce74\ud1a1 \uc774\ubaa8\ud2f0\ucf58"
       ]
      },
      {
       "output_type": "stream",
       "stream": "stdout",
       "text": [
        " \ub9ac\ubdf0\n",
        "\uce74\ud1a1 \uc774\ubaa8\ud2f0\ucf58 \uc5f0\uc608\n",
        "\uce74\ud1a1 \uc774\ubaa8\ud2f0\ucf58"
       ]
      },
      {
       "output_type": "stream",
       "stream": "stdout",
       "text": [
        " \uc74c\uc2dd\n",
        "\uce74\ud1a1 \uc774\ubaa8\ud2f0\ucf58"
       ]
      },
      {
       "output_type": "stream",
       "stream": "stdout",
       "text": [
        " \uc2a4\ud3ec\uce20\n",
        "\uce74\ud1a1 \uc774\ubaa8\ud2f0\ucf58"
       ]
      },
      {
       "output_type": "stream",
       "stream": "stdout",
       "text": [
        " \uac8c\uc784\n",
        "\uce74\ud1a1 \uc774\ubaa8\ud2f0\ucf58 \uac74\uac15\n",
        "\uce74\ud1a1 \uc774\ubaa8\ud2f0\ucf58"
       ]
      },
      {
       "output_type": "stream",
       "stream": "stdout",
       "text": [
        " \ud559\uc2b5\n",
        "\uce74\ud1a1 \uc774\ubaa8\ud2f0\ucf58"
       ]
      },
      {
       "output_type": "stream",
       "stream": "stdout",
       "text": [
        " \ucee4\ubba4\ub2c8\ud2f0\n",
        "The Island: Castaway \ubbf8\uc6a9\n",
        "The Island: Castaway"
       ]
      },
      {
       "output_type": "stream",
       "stream": "stdout",
       "text": [
        " \uc74c\uc545\n",
        "The Island: Castaway \ub9ac\ubdf0\n",
        "The Island: Castaway"
       ]
      },
      {
       "output_type": "stream",
       "stream": "stdout",
       "text": [
        " \uc5f0\uc608\n",
        "The Island: Castaway"
       ]
      },
      {
       "output_type": "stream",
       "stream": "stdout",
       "text": [
        " \uc74c\uc2dd\n",
        "The Island: Castaway"
       ]
      },
      {
       "output_type": "stream",
       "stream": "stdout",
       "text": [
        " \uc2a4\ud3ec\uce20\n",
        "The Island: Castaway \uac8c\uc784\n",
        "The Island: Castaway"
       ]
      },
      {
       "output_type": "stream",
       "stream": "stdout",
       "text": [
        " \uac74\uac15\n",
        "The Island: Castaway \ud559\uc2b5\n",
        "The Island: Castaway"
       ]
      },
      {
       "output_type": "stream",
       "stream": "stdout",
       "text": [
        " \ucee4\ubba4\ub2c8\ud2f0\n",
        "\u5eb7\u7199\u4f86\u4e86 TV \ubbf8\uc6a9\n",
        "\u5eb7\u7199\u4f86\u4e86 TV"
       ]
      },
      {
       "output_type": "stream",
       "stream": "stdout",
       "text": [
        " \uc74c\uc545\n",
        "\u5eb7\u7199\u4f86\u4e86 TV \ub9ac\ubdf0\n",
        "\u5eb7\u7199\u4f86\u4e86 TV"
       ]
      },
      {
       "output_type": "stream",
       "stream": "stdout",
       "text": [
        " \uc5f0\uc608\n",
        "\u5eb7\u7199\u4f86\u4e86 TV \uc74c\uc2dd\n",
        "\u5eb7\u7199\u4f86\u4e86 TV"
       ]
      },
      {
       "output_type": "stream",
       "stream": "stdout",
       "text": [
        " \uc2a4\ud3ec\uce20\n",
        "\u5eb7\u7199\u4f86\u4e86 TV \uac8c\uc784\n",
        "\u5eb7\u7199\u4f86\u4e86 TV"
       ]
      },
      {
       "output_type": "stream",
       "stream": "stdout",
       "text": [
        " \uac74\uac15\n",
        "\u5eb7\u7199\u4f86\u4e86 TV \ud559\uc2b5\n",
        "\u5eb7\u7199\u4f86\u4e86 TV"
       ]
      },
      {
       "output_type": "stream",
       "stream": "stdout",
       "text": [
        " \ucee4\ubba4\ub2c8\ud2f0\n",
        "Kids Jigsaw Puzzles Ocean Free \ubbf8\uc6a9\n",
        "Kids Jigsaw Puzzles Ocean Free"
       ]
      },
      {
       "output_type": "stream",
       "stream": "stdout",
       "text": [
        " \uc74c\uc545\n",
        "Kids Jigsaw Puzzles Ocean Free"
       ]
      },
      {
       "output_type": "stream",
       "stream": "stdout",
       "text": [
        " \ub9ac\ubdf0\n",
        "Kids Jigsaw Puzzles Ocean Free \uc5f0\uc608\n",
        "Kids Jigsaw Puzzles Ocean Free"
       ]
      },
      {
       "output_type": "stream",
       "stream": "stdout",
       "text": [
        " \uc74c\uc2dd\n",
        "Kids Jigsaw Puzzles Ocean Free"
       ]
      },
      {
       "output_type": "stream",
       "stream": "stdout",
       "text": [
        " \uc2a4\ud3ec\uce20\n",
        "Kids Jigsaw Puzzles Ocean Free"
       ]
      },
      {
       "output_type": "stream",
       "stream": "stdout",
       "text": [
        " \uac8c\uc784\n",
        "Kids Jigsaw Puzzles Ocean Free"
       ]
      },
      {
       "output_type": "stream",
       "stream": "stdout",
       "text": [
        " \uac74\uac15\n",
        "Kids Jigsaw Puzzles Ocean Free"
       ]
      },
      {
       "output_type": "stream",
       "stream": "stdout",
       "text": [
        " \ud559\uc2b5\n",
        "Kids Jigsaw Puzzles Ocean Free"
       ]
      },
      {
       "output_type": "stream",
       "stream": "stdout",
       "text": [
        " \ucee4\ubba4\ub2c8\ud2f0\n",
        "\u79d8\u5bf6\u63a2\u5075 \ubbf8\uc6a9\n",
        "\u79d8\u5bf6\u63a2\u5075"
       ]
      },
      {
       "output_type": "stream",
       "stream": "stdout",
       "text": [
        " \uc74c\uc545\n",
        "\u79d8\u5bf6\u63a2\u5075"
       ]
      },
      {
       "output_type": "stream",
       "stream": "stdout",
       "text": [
        " \ub9ac\ubdf0\n",
        "\u79d8\u5bf6\u63a2\u5075"
       ]
      },
      {
       "output_type": "stream",
       "stream": "stdout",
       "text": [
        " \uc5f0\uc608\n",
        "\u79d8\u5bf6\u63a2\u5075"
       ]
      },
      {
       "output_type": "stream",
       "stream": "stdout",
       "text": [
        " \uc74c\uc2dd\n",
        "\u79d8\u5bf6\u63a2\u5075"
       ]
      },
      {
       "output_type": "stream",
       "stream": "stdout",
       "text": [
        " \uc2a4\ud3ec\uce20\n",
        "\u79d8\u5bf6\u63a2\u5075"
       ]
      },
      {
       "output_type": "stream",
       "stream": "stdout",
       "text": [
        " \uac8c\uc784\n",
        "\u79d8\u5bf6\u63a2\u5075"
       ]
      },
      {
       "output_type": "stream",
       "stream": "stdout",
       "text": [
        " \uac74\uac15\n",
        "\u79d8\u5bf6\u63a2\u5075"
       ]
      },
      {
       "output_type": "stream",
       "stream": "stdout",
       "text": [
        " \ud559\uc2b5\n",
        "\u79d8\u5bf6\u63a2\u5075"
       ]
      },
      {
       "output_type": "stream",
       "stream": "stdout",
       "text": [
        " \ucee4\ubba4\ub2c8\ud2f0\n",
        "Airport Mania XP FREE"
       ]
      },
      {
       "output_type": "stream",
       "stream": "stdout",
       "text": [
        " \ubbf8\uc6a9\n",
        "Airport Mania XP FREE \uc74c\uc545\n",
        "Airport Mania XP FREE"
       ]
      },
      {
       "output_type": "stream",
       "stream": "stdout",
       "text": [
        " \ub9ac\ubdf0\n",
        "Airport Mania XP FREE \uc5f0\uc608\n",
        "Airport Mania XP FREE"
       ]
      },
      {
       "output_type": "stream",
       "stream": "stdout",
       "text": [
        " \uc74c\uc2dd\n",
        "Airport Mania XP FREE \uc2a4\ud3ec\uce20\n",
        "Airport Mania XP FREE"
       ]
      },
      {
       "output_type": "stream",
       "stream": "stdout",
       "text": [
        " \uac8c\uc784\n",
        "Airport Mania XP FREE"
       ]
      },
      {
       "output_type": "stream",
       "stream": "stdout",
       "text": [
        " \uac74\uac15\n",
        "Airport Mania XP FREE"
       ]
      },
      {
       "output_type": "stream",
       "stream": "stdout",
       "text": [
        " \ud559\uc2b5\n",
        "Airport Mania XP FREE \ucee4\ubba4\ub2c8\ud2f0\n",
        "Korean Vocabulary"
       ]
      },
      {
       "output_type": "stream",
       "stream": "stdout",
       "text": [
        " \ubbf8\uc6a9\n",
        "Korean Vocabulary \uc74c\uc545\n",
        "Korean Vocabulary"
       ]
      },
      {
       "output_type": "stream",
       "stream": "stdout",
       "text": [
        " \ub9ac\ubdf0\n",
        "Korean Vocabulary"
       ]
      },
      {
       "output_type": "stream",
       "stream": "stdout",
       "text": [
        " \uc5f0\uc608\n",
        "Korean Vocabulary"
       ]
      },
      {
       "output_type": "stream",
       "stream": "stdout",
       "text": [
        " \uc74c\uc2dd\n",
        "Korean Vocabulary"
       ]
      },
      {
       "output_type": "stream",
       "stream": "stdout",
       "text": [
        " \uc2a4\ud3ec\uce20\n",
        "Korean Vocabulary"
       ]
      },
      {
       "output_type": "stream",
       "stream": "stdout",
       "text": [
        " \uac8c\uc784\n",
        "Korean Vocabulary \uac74\uac15\n",
        "Korean Vocabulary"
       ]
      },
      {
       "output_type": "stream",
       "stream": "stdout",
       "text": [
        " \ud559\uc2b5\n",
        "Korean Vocabulary"
       ]
      },
      {
       "output_type": "stream",
       "stream": "stdout",
       "text": [
        " \ucee4\ubba4\ub2c8\ud2f0\n",
        "\u010cT4"
       ]
      },
      {
       "output_type": "stream",
       "stream": "stdout",
       "text": [
        " \ubbf8\uc6a9\n",
        "\u010cT4"
       ]
      },
      {
       "output_type": "stream",
       "stream": "stdout",
       "text": [
        " \uc74c\uc545\n",
        "\u010cT4"
       ]
      },
      {
       "output_type": "stream",
       "stream": "stdout",
       "text": [
        " \ub9ac\ubdf0\n",
        "\u010cT4"
       ]
      },
      {
       "output_type": "stream",
       "stream": "stdout",
       "text": [
        " \uc5f0\uc608\n",
        "\u010cT4"
       ]
      },
      {
       "output_type": "stream",
       "stream": "stdout",
       "text": [
        " \uc74c\uc2dd\n",
        "\u010cT4"
       ]
      },
      {
       "output_type": "stream",
       "stream": "stdout",
       "text": [
        " \uc2a4\ud3ec\uce20\n",
        "\u010cT4"
       ]
      },
      {
       "output_type": "stream",
       "stream": "stdout",
       "text": [
        " \uac8c\uc784\n",
        "\u010cT4"
       ]
      },
      {
       "output_type": "stream",
       "stream": "stdout",
       "text": [
        " \uac74\uac15\n",
        "\u010cT4"
       ]
      },
      {
       "output_type": "stream",
       "stream": "stdout",
       "text": [
        " \ud559\uc2b5\n",
        "\u010cT4"
       ]
      },
      {
       "output_type": "stream",
       "stream": "stdout",
       "text": [
        " \ucee4\ubba4\ub2c8\ud2f0\n",
        "Bluetooth OnOff"
       ]
      },
      {
       "output_type": "stream",
       "stream": "stdout",
       "text": [
        " \ubbf8\uc6a9\n",
        "Bluetooth OnOff"
       ]
      },
      {
       "output_type": "stream",
       "stream": "stdout",
       "text": [
        " \uc74c\uc545\n",
        "Bluetooth OnOff \ub9ac\ubdf0\n",
        "Bluetooth OnOff"
       ]
      },
      {
       "output_type": "stream",
       "stream": "stdout",
       "text": [
        " \uc5f0\uc608\n",
        "Bluetooth OnOff"
       ]
      },
      {
       "output_type": "stream",
       "stream": "stdout",
       "text": [
        " \uc74c\uc2dd\n",
        "Bluetooth OnOff"
       ]
      },
      {
       "output_type": "stream",
       "stream": "stdout",
       "text": [
        " \uc2a4\ud3ec\uce20\n",
        "Bluetooth OnOff"
       ]
      },
      {
       "output_type": "stream",
       "stream": "stdout",
       "text": [
        " \uac8c\uc784\n",
        "Bluetooth OnOff"
       ]
      },
      {
       "output_type": "stream",
       "stream": "stdout",
       "text": [
        " \uac74\uac15\n",
        "Bluetooth OnOff \ud559\uc2b5\n",
        "Bluetooth OnOff"
       ]
      },
      {
       "output_type": "stream",
       "stream": "stdout",
       "text": [
        " \ucee4\ubba4\ub2c8\ud2f0\n",
        "\u516d\u6cd5\u5168\u66f8 \ubbf8\uc6a9\n",
        "\u516d\u6cd5\u5168\u66f8"
       ]
      },
      {
       "output_type": "stream",
       "stream": "stdout",
       "text": [
        " \uc74c\uc545\n",
        "\u516d\u6cd5\u5168\u66f8"
       ]
      },
      {
       "output_type": "stream",
       "stream": "stdout",
       "text": [
        " \ub9ac\ubdf0\n",
        "\u516d\u6cd5\u5168\u66f8"
       ]
      },
      {
       "output_type": "stream",
       "stream": "stdout",
       "text": [
        " \uc5f0\uc608\n",
        "\u516d\u6cd5\u5168\u66f8"
       ]
      },
      {
       "output_type": "stream",
       "stream": "stdout",
       "text": [
        " \uc74c\uc2dd\n",
        "\u516d\u6cd5\u5168\u66f8"
       ]
      },
      {
       "output_type": "stream",
       "stream": "stdout",
       "text": [
        " \uc2a4\ud3ec\uce20\n",
        "\u516d\u6cd5\u5168\u66f8"
       ]
      },
      {
       "output_type": "stream",
       "stream": "stdout",
       "text": [
        " \uac8c\uc784\n",
        "\u516d\u6cd5\u5168\u66f8"
       ]
      },
      {
       "output_type": "stream",
       "stream": "stdout",
       "text": [
        " \uac74\uac15\n",
        "\u516d\u6cd5\u5168\u66f8"
       ]
      },
      {
       "output_type": "stream",
       "stream": "stdout",
       "text": [
        " \ud559\uc2b5\n",
        "\u516d\u6cd5\u5168\u66f8"
       ]
      },
      {
       "output_type": "stream",
       "stream": "stdout",
       "text": [
        " \ucee4\ubba4\ub2c8\ud2f0\n",
        "7\uae09\uacf5\ubb34\uc6d0 \ubb34\ub8cc\ub2e4\uc2dc\ubcf4\uae30-\uac00\uc785\uc5c6\uc74c/\uc2e4\uc2dc\uac04\uac10\uc0c1/TV\ub4dc\ub77c\ub9c8"
       ]
      },
      {
       "output_type": "stream",
       "stream": "stdout",
       "text": [
        " \ubbf8\uc6a9\n",
        "7\uae09\uacf5\ubb34\uc6d0 \ubb34\ub8cc\ub2e4\uc2dc\ubcf4\uae30-\uac00\uc785\uc5c6\uc74c/\uc2e4\uc2dc\uac04\uac10\uc0c1/TV\ub4dc\ub77c\ub9c8 \uc74c\uc545\n",
        "7\uae09\uacf5\ubb34\uc6d0 \ubb34\ub8cc\ub2e4\uc2dc\ubcf4\uae30-\uac00\uc785\uc5c6\uc74c/\uc2e4\uc2dc\uac04\uac10\uc0c1/TV\ub4dc\ub77c\ub9c8"
       ]
      },
      {
       "output_type": "stream",
       "stream": "stdout",
       "text": [
        " \ub9ac\ubdf0\n",
        "7\uae09\uacf5\ubb34\uc6d0 \ubb34\ub8cc\ub2e4\uc2dc\ubcf4\uae30-\uac00\uc785\uc5c6\uc74c/\uc2e4\uc2dc\uac04\uac10\uc0c1/TV\ub4dc\ub77c\ub9c8 \uc5f0\uc608\n",
        "7\uae09\uacf5\ubb34\uc6d0 \ubb34\ub8cc\ub2e4\uc2dc\ubcf4\uae30-\uac00\uc785\uc5c6\uc74c/\uc2e4\uc2dc\uac04\uac10\uc0c1/TV\ub4dc\ub77c\ub9c8"
       ]
      },
      {
       "output_type": "stream",
       "stream": "stdout",
       "text": [
        " \uc74c\uc2dd\n",
        "7\uae09\uacf5\ubb34\uc6d0 \ubb34\ub8cc\ub2e4\uc2dc\ubcf4\uae30-\uac00\uc785\uc5c6\uc74c/\uc2e4\uc2dc\uac04\uac10\uc0c1/TV\ub4dc\ub77c\ub9c8"
       ]
      },
      {
       "output_type": "stream",
       "stream": "stdout",
       "text": [
        " \uc2a4\ud3ec\uce20\n",
        "7\uae09\uacf5\ubb34\uc6d0 \ubb34\ub8cc\ub2e4\uc2dc\ubcf4\uae30-\uac00\uc785\uc5c6\uc74c/\uc2e4\uc2dc\uac04\uac10\uc0c1/TV\ub4dc\ub77c\ub9c8"
       ]
      },
      {
       "output_type": "stream",
       "stream": "stdout",
       "text": [
        " \uac8c\uc784\n",
        "7\uae09\uacf5\ubb34\uc6d0 \ubb34\ub8cc\ub2e4\uc2dc\ubcf4\uae30-\uac00\uc785\uc5c6\uc74c/\uc2e4\uc2dc\uac04\uac10\uc0c1/TV\ub4dc\ub77c\ub9c8"
       ]
      },
      {
       "output_type": "stream",
       "stream": "stdout",
       "text": [
        " \uac74\uac15\n",
        "7\uae09\uacf5\ubb34\uc6d0 \ubb34\ub8cc\ub2e4\uc2dc\ubcf4\uae30-\uac00\uc785\uc5c6\uc74c/\uc2e4\uc2dc\uac04\uac10\uc0c1/TV\ub4dc\ub77c\ub9c8 \ud559\uc2b5\n",
        "7\uae09\uacf5\ubb34\uc6d0 \ubb34\ub8cc\ub2e4\uc2dc\ubcf4\uae30-\uac00\uc785\uc5c6\uc74c/\uc2e4\uc2dc\uac04\uac10\uc0c1/TV\ub4dc\ub77c\ub9c8"
       ]
      },
      {
       "output_type": "stream",
       "stream": "stdout",
       "text": [
        " \ucee4\ubba4\ub2c8\ud2f0\n",
        "Puzzle for Minecraft \ubbf8\uc6a9\n",
        "Puzzle for Minecraft"
       ]
      },
      {
       "output_type": "stream",
       "stream": "stdout",
       "text": [
        " \uc74c\uc545\n",
        "Puzzle for Minecraft \ub9ac\ubdf0\n",
        "Puzzle for Minecraft"
       ]
      },
      {
       "output_type": "stream",
       "stream": "stdout",
       "text": [
        " \uc5f0\uc608\n",
        "Puzzle for Minecraft \uc74c\uc2dd\n",
        "Puzzle for Minecraft"
       ]
      },
      {
       "output_type": "stream",
       "stream": "stdout",
       "text": [
        " \uc2a4\ud3ec\uce20\n",
        "Puzzle for Minecraft \uac8c\uc784\n",
        "Puzzle for Minecraft"
       ]
      },
      {
       "output_type": "stream",
       "stream": "stdout",
       "text": [
        " \uac74\uac15\n",
        "Puzzle for Minecraft \ud559\uc2b5\n",
        "Puzzle for Minecraft"
       ]
      },
      {
       "output_type": "stream",
       "stream": "stdout",
       "text": [
        " \ucee4\ubba4\ub2c8\ud2f0\n",
        "\uc5b4\ub514\uc5d0?"
       ]
      },
      {
       "output_type": "stream",
       "stream": "stdout",
       "text": [
        " \ubbf8\uc6a9\n",
        "\uc5b4\ub514\uc5d0?"
       ]
      },
      {
       "output_type": "stream",
       "stream": "stdout",
       "text": [
        " \uc74c\uc545\n",
        "\uc5b4\ub514\uc5d0?"
       ]
      },
      {
       "output_type": "stream",
       "stream": "stdout",
       "text": [
        " \ub9ac\ubdf0\n",
        "\uc5b4\ub514\uc5d0?"
       ]
      },
      {
       "output_type": "stream",
       "stream": "stdout",
       "text": [
        " \uc5f0\uc608\n",
        "\uc5b4\ub514\uc5d0?"
       ]
      },
      {
       "output_type": "stream",
       "stream": "stdout",
       "text": [
        " \uc74c\uc2dd\n",
        "\uc5b4\ub514\uc5d0?"
       ]
      },
      {
       "output_type": "stream",
       "stream": "stdout",
       "text": [
        " \uc2a4\ud3ec\uce20\n",
        "\uc5b4\ub514\uc5d0?"
       ]
      },
      {
       "output_type": "stream",
       "stream": "stdout",
       "text": [
        " \uac8c\uc784\n",
        "\uc5b4\ub514\uc5d0?"
       ]
      },
      {
       "output_type": "stream",
       "stream": "stdout",
       "text": [
        " \uac74\uac15\n",
        "\uc5b4\ub514\uc5d0?"
       ]
      },
      {
       "output_type": "stream",
       "stream": "stdout",
       "text": [
        " \ud559\uc2b5\n",
        "\uc5b4\ub514\uc5d0? \ucee4\ubba4\ub2c8\ud2f0\n",
        "KK-Boxing"
       ]
      },
      {
       "output_type": "stream",
       "stream": "stdout",
       "text": [
        " \ubbf8\uc6a9\n",
        "KK-Boxing"
       ]
      },
      {
       "output_type": "stream",
       "stream": "stdout",
       "text": [
        " \uc74c\uc545\n",
        "KK-Boxing"
       ]
      },
      {
       "output_type": "stream",
       "stream": "stdout",
       "text": [
        " \ub9ac\ubdf0\n",
        "KK-Boxing"
       ]
      },
      {
       "output_type": "stream",
       "stream": "stdout",
       "text": [
        " \uc5f0\uc608\n",
        "KK-Boxing"
       ]
      },
      {
       "output_type": "stream",
       "stream": "stdout",
       "text": [
        " \uc74c\uc2dd\n",
        "KK-Boxing \uc2a4\ud3ec\uce20\n",
        "KK-Boxing"
       ]
      },
      {
       "output_type": "stream",
       "stream": "stdout",
       "text": [
        " \uac8c\uc784\n",
        "KK-Boxing"
       ]
      },
      {
       "output_type": "stream",
       "stream": "stdout",
       "text": [
        " \uac74\uac15\n",
        "KK-Boxing"
       ]
      },
      {
       "output_type": "stream",
       "stream": "stdout",
       "text": [
        " \ud559\uc2b5\n",
        "KK-Boxing"
       ]
      },
      {
       "output_type": "stream",
       "stream": "stdout",
       "text": [
        " \ucee4\ubba4\ub2c8\ud2f0\n",
        "Crazy Moto Construction Yard"
       ]
      },
      {
       "output_type": "stream",
       "stream": "stdout",
       "text": [
        " \ubbf8\uc6a9\n",
        "Crazy Moto Construction Yard"
       ]
      },
      {
       "output_type": "stream",
       "stream": "stdout",
       "text": [
        " \uc74c\uc545\n",
        "Crazy Moto Construction Yard"
       ]
      },
      {
       "output_type": "stream",
       "stream": "stdout",
       "text": [
        " \ub9ac\ubdf0\n",
        "Crazy Moto Construction Yard \uc5f0\uc608\n",
        "Crazy Moto Construction Yard"
       ]
      },
      {
       "output_type": "stream",
       "stream": "stdout",
       "text": [
        " \uc74c\uc2dd\n",
        "Crazy Moto Construction Yard \uc2a4\ud3ec\uce20\n",
        "Crazy Moto Construction Yard"
       ]
      },
      {
       "output_type": "stream",
       "stream": "stdout",
       "text": [
        " \uac8c\uc784\n",
        "Crazy Moto Construction Yard \uac74\uac15\n",
        "Crazy Moto Construction Yard"
       ]
      },
      {
       "output_type": "stream",
       "stream": "stdout",
       "text": [
        " \ud559\uc2b5\n",
        "Crazy Moto Construction Yard \ucee4\ubba4\ub2c8\ud2f0\n",
        "\ud574\uc11d \uccad\ucd98\ub0a8\ub140(2013\ub144 \uc6b4\uc138)"
       ]
      },
      {
       "output_type": "stream",
       "stream": "stdout",
       "text": [
        " \ubbf8\uc6a9\n",
        "\ud574\uc11d \uccad\ucd98\ub0a8\ub140(2013\ub144 \uc6b4\uc138)"
       ]
      },
      {
       "output_type": "stream",
       "stream": "stdout",
       "text": [
        " \uc74c\uc545\n",
        "\ud574\uc11d \uccad\ucd98\ub0a8\ub140(2013\ub144 \uc6b4\uc138) \ub9ac\ubdf0\n",
        "\ud574\uc11d \uccad\ucd98\ub0a8\ub140(2013\ub144 \uc6b4\uc138)"
       ]
      },
      {
       "output_type": "stream",
       "stream": "stdout",
       "text": [
        " \uc5f0\uc608\n",
        "\ud574\uc11d \uccad\ucd98\ub0a8\ub140(2013\ub144 \uc6b4\uc138)"
       ]
      },
      {
       "output_type": "stream",
       "stream": "stdout",
       "text": [
        " \uc74c\uc2dd\n",
        "\ud574\uc11d \uccad\ucd98\ub0a8\ub140(2013\ub144 \uc6b4\uc138)"
       ]
      },
      {
       "output_type": "stream",
       "stream": "stdout",
       "text": [
        " \uc2a4\ud3ec\uce20\n",
        "\ud574\uc11d \uccad\ucd98\ub0a8\ub140(2013\ub144 \uc6b4\uc138)"
       ]
      },
      {
       "output_type": "stream",
       "stream": "stdout",
       "text": [
        " \uac8c\uc784\n",
        "\ud574\uc11d \uccad\ucd98\ub0a8\ub140(2013\ub144 \uc6b4\uc138)"
       ]
      },
      {
       "output_type": "stream",
       "stream": "stdout",
       "text": [
        " \uac74\uac15\n",
        "\ud574\uc11d \uccad\ucd98\ub0a8\ub140(2013\ub144 \uc6b4\uc138)"
       ]
      },
      {
       "output_type": "stream",
       "stream": "stdout",
       "text": [
        " \ud559\uc2b5\n",
        "\ud574\uc11d \uccad\ucd98\ub0a8\ub140(2013\ub144 \uc6b4\uc138) \ucee4\ubba4\ub2c8\ud2f0\n",
        "Stick Swing"
       ]
      },
      {
       "output_type": "stream",
       "stream": "stdout",
       "text": [
        " \ubbf8\uc6a9\n",
        "Stick Swing"
       ]
      },
      {
       "output_type": "stream",
       "stream": "stdout",
       "text": [
        " \uc74c\uc545\n",
        "Stick Swing"
       ]
      },
      {
       "output_type": "stream",
       "stream": "stdout",
       "text": [
        " \ub9ac\ubdf0\n",
        "Stick Swing \uc5f0\uc608\n",
        "Stick Swing"
       ]
      },
      {
       "output_type": "stream",
       "stream": "stdout",
       "text": [
        " \uc74c\uc2dd\n",
        "Stick Swing \uc2a4\ud3ec\uce20\n",
        "Stick Swing"
       ]
      },
      {
       "output_type": "stream",
       "stream": "stdout",
       "text": [
        " \uac8c\uc784\n",
        "Stick Swing \uac74\uac15\n",
        "Stick Swing"
       ]
      },
      {
       "output_type": "stream",
       "stream": "stdout",
       "text": [
        " \ud559\uc2b5\n",
        "Stick Swing"
       ]
      },
      {
       "output_type": "stream",
       "stream": "stdout",
       "text": [
        " \ucee4\ubba4\ub2c8\ud2f0\n",
        "\u5fc3\u9748\u6545\u4e8b \ubbf8\uc6a9\n",
        "\u5fc3\u9748\u6545\u4e8b"
       ]
      },
      {
       "output_type": "stream",
       "stream": "stdout",
       "text": [
        " \uc74c\uc545\n",
        "\u5fc3\u9748\u6545\u4e8b"
       ]
      },
      {
       "output_type": "stream",
       "stream": "stdout",
       "text": [
        " \ub9ac\ubdf0\n",
        "\u5fc3\u9748\u6545\u4e8b"
       ]
      },
      {
       "output_type": "stream",
       "stream": "stdout",
       "text": [
        " \uc5f0\uc608\n",
        "\u5fc3\u9748\u6545\u4e8b"
       ]
      },
      {
       "output_type": "stream",
       "stream": "stdout",
       "text": [
        " \uc74c\uc2dd\n",
        "\u5fc3\u9748\u6545\u4e8b"
       ]
      },
      {
       "output_type": "stream",
       "stream": "stdout",
       "text": [
        " \uc2a4\ud3ec\uce20\n",
        "\u5fc3\u9748\u6545\u4e8b"
       ]
      },
      {
       "output_type": "stream",
       "stream": "stdout",
       "text": [
        " \uac8c\uc784\n",
        "\u5fc3\u9748\u6545\u4e8b"
       ]
      },
      {
       "output_type": "stream",
       "stream": "stdout",
       "text": [
        " \uac74\uac15\n",
        "\u5fc3\u9748\u6545\u4e8b"
       ]
      },
      {
       "output_type": "stream",
       "stream": "stdout",
       "text": [
        " \ud559\uc2b5\n",
        "\u5fc3\u9748\u6545\u4e8b"
       ]
      },
      {
       "output_type": "stream",
       "stream": "stdout",
       "text": [
        " \ucee4\ubba4\ub2c8\ud2f0\n",
        "\ub3d9\ubb3c \uac80\uc0c9 \ubbf8\uc6a9\n",
        "\ub3d9\ubb3c \uac80\uc0c9"
       ]
      },
      {
       "output_type": "stream",
       "stream": "stdout",
       "text": [
        " \uc74c\uc545\n",
        "\ub3d9\ubb3c \uac80\uc0c9 \ub9ac\ubdf0\n",
        "\ub3d9\ubb3c \uac80\uc0c9"
       ]
      },
      {
       "output_type": "stream",
       "stream": "stdout",
       "text": [
        " \uc5f0\uc608\n",
        "\ub3d9\ubb3c \uac80\uc0c9"
       ]
      },
      {
       "output_type": "stream",
       "stream": "stdout",
       "text": [
        " \uc74c\uc2dd\n",
        "\ub3d9\ubb3c \uac80\uc0c9"
       ]
      },
      {
       "output_type": "stream",
       "stream": "stdout",
       "text": [
        " \uc2a4\ud3ec\uce20\n",
        "\ub3d9\ubb3c \uac80\uc0c9 \uac8c\uc784\n",
        "\ub3d9\ubb3c \uac80\uc0c9"
       ]
      },
      {
       "output_type": "stream",
       "stream": "stdout",
       "text": [
        " \uac74\uac15\n",
        "\ub3d9\ubb3c \uac80\uc0c9"
       ]
      },
      {
       "output_type": "stream",
       "stream": "stdout",
       "text": [
        " \ud559\uc2b5\n",
        "\ub3d9\ubb3c \uac80\uc0c9 \ucee4\ubba4\ub2c8\ud2f0\n",
        "Dropwords"
       ]
      },
      {
       "output_type": "stream",
       "stream": "stdout",
       "text": [
        " \ubbf8\uc6a9\n",
        "Dropwords"
       ]
      },
      {
       "output_type": "stream",
       "stream": "stdout",
       "text": [
        " \uc74c\uc545\n",
        "Dropwords"
       ]
      },
      {
       "output_type": "stream",
       "stream": "stdout",
       "text": [
        " \ub9ac\ubdf0\n",
        "Dropwords"
       ]
      },
      {
       "output_type": "stream",
       "stream": "stdout",
       "text": [
        " \uc5f0\uc608\n",
        "Dropwords \uc74c\uc2dd\n",
        "Dropwords"
       ]
      },
      {
       "output_type": "stream",
       "stream": "stdout",
       "text": [
        " \uc2a4\ud3ec\uce20\n",
        "Dropwords"
       ]
      },
      {
       "output_type": "stream",
       "stream": "stdout",
       "text": [
        " \uac8c\uc784\n",
        "Dropwords"
       ]
      },
      {
       "output_type": "stream",
       "stream": "stdout",
       "text": [
        " \uac74\uac15\n",
        "Dropwords"
       ]
      },
      {
       "output_type": "stream",
       "stream": "stdout",
       "text": [
        " \ud559\uc2b5\n",
        "Dropwords"
       ]
      },
      {
       "output_type": "stream",
       "stream": "stdout",
       "text": [
        " \ucee4\ubba4\ub2c8\ud2f0\n",
        "Archos File Manager"
       ]
      },
      {
       "output_type": "stream",
       "stream": "stdout",
       "text": [
        " \ubbf8\uc6a9\n",
        "Archos File Manager"
       ]
      },
      {
       "output_type": "stream",
       "stream": "stdout",
       "text": [
        " \uc74c\uc545\n",
        "Archos File Manager"
       ]
      },
      {
       "output_type": "stream",
       "stream": "stdout",
       "text": [
        " \ub9ac\ubdf0\n",
        "Archos File Manager"
       ]
      },
      {
       "output_type": "stream",
       "stream": "stdout",
       "text": [
        " \uc5f0\uc608\n",
        "Archos File Manager"
       ]
      },
      {
       "output_type": "stream",
       "stream": "stdout",
       "text": [
        " \uc74c\uc2dd\n",
        "Archos File Manager \uc2a4\ud3ec\uce20\n",
        "Archos File Manager"
       ]
      },
      {
       "output_type": "stream",
       "stream": "stdout",
       "text": [
        " \uac8c\uc784\n",
        "Archos File Manager"
       ]
      },
      {
       "output_type": "stream",
       "stream": "stdout",
       "text": [
        " \uac74\uac15\n",
        "Archos File Manager"
       ]
      },
      {
       "output_type": "stream",
       "stream": "stdout",
       "text": [
        " \ud559\uc2b5\n",
        "Archos File Manager \ucee4\ubba4\ub2c8\ud2f0\n",
        "M1 BestPicks"
       ]
      },
      {
       "output_type": "stream",
       "stream": "stdout",
       "text": [
        " \ubbf8\uc6a9\n",
        "M1 BestPicks"
       ]
      },
      {
       "output_type": "stream",
       "stream": "stdout",
       "text": [
        " \uc74c\uc545\n",
        "M1 BestPicks"
       ]
      },
      {
       "output_type": "stream",
       "stream": "stdout",
       "text": [
        " \ub9ac\ubdf0\n",
        "M1 BestPicks \uc5f0\uc608\n",
        "M1 BestPicks"
       ]
      },
      {
       "output_type": "stream",
       "stream": "stdout",
       "text": [
        " \uc74c\uc2dd\n",
        "M1 BestPicks \uc2a4\ud3ec\uce20\n",
        "M1 BestPicks"
       ]
      },
      {
       "output_type": "stream",
       "stream": "stdout",
       "text": [
        " \uac8c\uc784\n",
        "M1 BestPicks"
       ]
      },
      {
       "output_type": "stream",
       "stream": "stdout",
       "text": [
        " \uac74\uac15\n",
        "M1 BestPicks \ud559\uc2b5\n",
        "M1 BestPicks"
       ]
      },
      {
       "output_type": "stream",
       "stream": "stdout",
       "text": [
        " \ucee4\ubba4\ub2c8\ud2f0\n",
        "Squibble"
       ]
      },
      {
       "output_type": "stream",
       "stream": "stdout",
       "text": [
        " \ubbf8\uc6a9\n",
        "Squibble"
       ]
      },
      {
       "output_type": "stream",
       "stream": "stdout",
       "text": [
        " \uc74c\uc545\n",
        "Squibble"
       ]
      },
      {
       "output_type": "stream",
       "stream": "stdout",
       "text": [
        " \ub9ac\ubdf0\n",
        "Squibble"
       ]
      },
      {
       "output_type": "stream",
       "stream": "stdout",
       "text": [
        " \uc5f0\uc608\n",
        "Squibble"
       ]
      },
      {
       "output_type": "stream",
       "stream": "stdout",
       "text": [
        " \uc74c\uc2dd\n",
        "Squibble"
       ]
      },
      {
       "output_type": "stream",
       "stream": "stdout",
       "text": [
        " \uc2a4\ud3ec\uce20\n",
        "Squibble"
       ]
      },
      {
       "output_type": "stream",
       "stream": "stdout",
       "text": [
        " \uac8c\uc784\n",
        "Squibble"
       ]
      },
      {
       "output_type": "stream",
       "stream": "stdout",
       "text": [
        " \uac74\uac15\n",
        "Squibble"
       ]
      },
      {
       "output_type": "stream",
       "stream": "stdout",
       "text": [
        " \ud559\uc2b5\n",
        "Squibble"
       ]
      },
      {
       "output_type": "stream",
       "stream": "stdout",
       "text": [
        " \ucee4\ubba4\ub2c8\ud2f0\n",
        "Grand Theft Auto 4 Guide GTA4"
       ]
      },
      {
       "output_type": "stream",
       "stream": "stdout",
       "text": [
        " \ubbf8\uc6a9\n",
        "Grand Theft Auto 4 Guide GTA4"
       ]
      },
      {
       "output_type": "stream",
       "stream": "stdout",
       "text": [
        " \uc74c\uc545\n",
        "Grand Theft Auto 4 Guide GTA4"
       ]
      },
      {
       "output_type": "stream",
       "stream": "stdout",
       "text": [
        " \ub9ac\ubdf0\n",
        "Grand Theft Auto 4 Guide GTA4"
       ]
      },
      {
       "output_type": "stream",
       "stream": "stdout",
       "text": [
        " \uc5f0\uc608\n",
        "Grand Theft Auto 4 Guide GTA4"
       ]
      },
      {
       "output_type": "stream",
       "stream": "stdout",
       "text": [
        " \uc74c\uc2dd\n",
        "Grand Theft Auto 4 Guide GTA4 \uc2a4\ud3ec\uce20\n",
        "Grand Theft Auto 4 Guide GTA4"
       ]
      },
      {
       "output_type": "stream",
       "stream": "stdout",
       "text": [
        " \uac8c\uc784\n",
        "Grand Theft Auto 4 Guide GTA4"
       ]
      },
      {
       "output_type": "stream",
       "stream": "stdout",
       "text": [
        " \uac74\uac15\n",
        "Grand Theft Auto 4 Guide GTA4 \ud559\uc2b5\n",
        "Grand Theft Auto 4 Guide GTA4"
       ]
      },
      {
       "output_type": "stream",
       "stream": "stdout",
       "text": [
        " \ucee4\ubba4\ub2c8\ud2f0\n",
        "During_GO\ub7f0\ucc98EX\ud14c\ub9c8"
       ]
      },
      {
       "output_type": "stream",
       "stream": "stdout",
       "text": [
        " \ubbf8\uc6a9\n",
        "During_GO\ub7f0\ucc98EX\ud14c\ub9c8"
       ]
      },
      {
       "output_type": "stream",
       "stream": "stdout",
       "text": [
        " \uc74c\uc545\n",
        "During_GO\ub7f0\ucc98EX\ud14c\ub9c8"
       ]
      },
      {
       "output_type": "stream",
       "stream": "stdout",
       "text": [
        " \ub9ac\ubdf0\n",
        "During_GO\ub7f0\ucc98EX\ud14c\ub9c8"
       ]
      },
      {
       "output_type": "stream",
       "stream": "stdout",
       "text": [
        " \uc5f0\uc608\n",
        "During_GO\ub7f0\ucc98EX\ud14c\ub9c8"
       ]
      },
      {
       "output_type": "stream",
       "stream": "stdout",
       "text": [
        " \uc74c\uc2dd\n",
        "During_GO\ub7f0\ucc98EX\ud14c\ub9c8"
       ]
      },
      {
       "output_type": "stream",
       "stream": "stdout",
       "text": [
        " \uc2a4\ud3ec\uce20\n",
        "During_GO\ub7f0\ucc98EX\ud14c\ub9c8"
       ]
      },
      {
       "output_type": "stream",
       "stream": "stdout",
       "text": [
        " \uac8c\uc784\n",
        "During_GO\ub7f0\ucc98EX\ud14c\ub9c8"
       ]
      },
      {
       "output_type": "stream",
       "stream": "stdout",
       "text": [
        " \uac74\uac15\n",
        "During_GO\ub7f0\ucc98EX\ud14c\ub9c8"
       ]
      },
      {
       "output_type": "stream",
       "stream": "stdout",
       "text": [
        " \ud559\uc2b5\n",
        "During_GO\ub7f0\ucc98EX\ud14c\ub9c8"
       ]
      },
      {
       "output_type": "stream",
       "stream": "stdout",
       "text": [
        " \ucee4\ubba4\ub2c8\ud2f0\n",
        "\uac13\ud53c\ud50c\ubab0"
       ]
      },
      {
       "output_type": "stream",
       "stream": "stdout",
       "text": [
        " \ubbf8\uc6a9\n",
        "\uac13\ud53c\ud50c\ubab0"
       ]
      },
      {
       "output_type": "stream",
       "stream": "stdout",
       "text": [
        " \uc74c\uc545\n",
        "\uac13\ud53c\ud50c\ubab0 \ub9ac\ubdf0\n",
        "\uac13\ud53c\ud50c\ubab0"
       ]
      },
      {
       "output_type": "stream",
       "stream": "stdout",
       "text": [
        " \uc5f0\uc608\n",
        "\uac13\ud53c\ud50c\ubab0"
       ]
      },
      {
       "output_type": "stream",
       "stream": "stdout",
       "text": [
        " \uc74c\uc2dd\n",
        "\uac13\ud53c\ud50c\ubab0"
       ]
      },
      {
       "output_type": "stream",
       "stream": "stdout",
       "text": [
        " \uc2a4\ud3ec\uce20\n",
        "\uac13\ud53c\ud50c\ubab0"
       ]
      },
      {
       "output_type": "stream",
       "stream": "stdout",
       "text": [
        " \uac8c\uc784\n",
        "\uac13\ud53c\ud50c\ubab0"
       ]
      },
      {
       "output_type": "stream",
       "stream": "stdout",
       "text": [
        " \uac74\uac15\n",
        "\uac13\ud53c\ud50c\ubab0"
       ]
      },
      {
       "output_type": "stream",
       "stream": "stdout",
       "text": [
        " \ud559\uc2b5\n",
        "\uac13\ud53c\ud50c\ubab0"
       ]
      },
      {
       "output_type": "stream",
       "stream": "stdout",
       "text": [
        " \ucee4\ubba4\ub2c8\ud2f0\n",
        "Cupcake Maker!"
       ]
      },
      {
       "output_type": "stream",
       "stream": "stdout",
       "text": [
        " \ubbf8\uc6a9\n",
        "Cupcake Maker!"
       ]
      },
      {
       "output_type": "stream",
       "stream": "stdout",
       "text": [
        " \uc74c\uc545\n",
        "Cupcake Maker!"
       ]
      },
      {
       "output_type": "stream",
       "stream": "stdout",
       "text": [
        " \ub9ac\ubdf0\n",
        "Cupcake Maker!"
       ]
      },
      {
       "output_type": "stream",
       "stream": "stdout",
       "text": [
        " \uc5f0\uc608\n",
        "Cupcake Maker!"
       ]
      },
      {
       "output_type": "stream",
       "stream": "stdout",
       "text": [
        " \uc74c\uc2dd\n",
        "Cupcake Maker!"
       ]
      },
      {
       "output_type": "stream",
       "stream": "stdout",
       "text": [
        " \uc2a4\ud3ec\uce20\n",
        "Cupcake Maker!"
       ]
      },
      {
       "output_type": "stream",
       "stream": "stdout",
       "text": [
        " \uac8c\uc784\n",
        "Cupcake Maker! \uac74\uac15\n",
        "Cupcake Maker!"
       ]
      },
      {
       "output_type": "stream",
       "stream": "stdout",
       "text": [
        " \ud559\uc2b5\n",
        "Cupcake Maker!"
       ]
      },
      {
       "output_type": "stream",
       "stream": "stdout",
       "text": [
        " \ucee4\ubba4\ub2c8\ud2f0\n",
        "Movie Booth FX \ube45\ubc45 - \uc601\ud654 \ubd80\uc2a4 \ubbf8\uc6a9\n",
        "Movie Booth FX \ube45\ubc45 - \uc601\ud654 \ubd80\uc2a4"
       ]
      },
      {
       "output_type": "stream",
       "stream": "stdout",
       "text": [
        " \uc74c\uc545\n",
        "Movie Booth FX \ube45\ubc45 - \uc601\ud654 \ubd80\uc2a4 \ub9ac\ubdf0\n",
        "Movie Booth FX \ube45\ubc45 - \uc601\ud654 \ubd80\uc2a4"
       ]
      },
      {
       "output_type": "stream",
       "stream": "stdout",
       "text": [
        " \uc5f0\uc608\n",
        "Movie Booth FX \ube45\ubc45 - \uc601\ud654 \ubd80\uc2a4"
       ]
      },
      {
       "output_type": "stream",
       "stream": "stdout",
       "text": [
        " \uc74c\uc2dd\n",
        "Movie Booth FX \ube45\ubc45 - \uc601\ud654 \ubd80\uc2a4"
       ]
      },
      {
       "output_type": "stream",
       "stream": "stdout",
       "text": [
        " \uc2a4\ud3ec\uce20\n",
        "Movie Booth FX \ube45\ubc45 - \uc601\ud654 \ubd80\uc2a4 \uac8c\uc784\n",
        "Movie Booth FX \ube45\ubc45 - \uc601\ud654 \ubd80\uc2a4"
       ]
      },
      {
       "output_type": "stream",
       "stream": "stdout",
       "text": [
        " \uac74\uac15\n",
        "Movie Booth FX \ube45\ubc45 - \uc601\ud654 \ubd80\uc2a4"
       ]
      },
      {
       "output_type": "stream",
       "stream": "stdout",
       "text": [
        " \ud559\uc2b5\n",
        "Movie Booth FX \ube45\ubc45 - \uc601\ud654 \ubd80\uc2a4"
       ]
      },
      {
       "output_type": "stream",
       "stream": "stdout",
       "text": [
        " \ucee4\ubba4\ub2c8\ud2f0\n",
        "7x7"
       ]
      },
      {
       "output_type": "stream",
       "stream": "stdout",
       "text": [
        " \ubbf8\uc6a9\n",
        "7x7"
       ]
      },
      {
       "output_type": "stream",
       "stream": "stdout",
       "text": [
        " \uc74c\uc545\n",
        "7x7"
       ]
      },
      {
       "output_type": "stream",
       "stream": "stdout",
       "text": [
        " \ub9ac\ubdf0\n",
        "7x7"
       ]
      },
      {
       "output_type": "stream",
       "stream": "stdout",
       "text": [
        " \uc5f0\uc608\n",
        "7x7"
       ]
      },
      {
       "output_type": "stream",
       "stream": "stdout",
       "text": [
        " \uc74c\uc2dd\n",
        "7x7"
       ]
      },
      {
       "output_type": "stream",
       "stream": "stdout",
       "text": [
        " \uc2a4\ud3ec\uce20\n",
        "7x7"
       ]
      },
      {
       "output_type": "stream",
       "stream": "stdout",
       "text": [
        " \uac8c\uc784\n",
        "7x7"
       ]
      },
      {
       "output_type": "stream",
       "stream": "stdout",
       "text": [
        " \uac74\uac15\n",
        "7x7"
       ]
      },
      {
       "output_type": "stream",
       "stream": "stdout",
       "text": [
        " \ud559\uc2b5\n",
        "7x7"
       ]
      },
      {
       "output_type": "stream",
       "stream": "stdout",
       "text": [
        " \ucee4\ubba4\ub2c8\ud2f0\n",
        "Explorer"
       ]
      },
      {
       "output_type": "stream",
       "stream": "stdout",
       "text": [
        " \ubbf8\uc6a9\n",
        "Explorer"
       ]
      },
      {
       "output_type": "stream",
       "stream": "stdout",
       "text": [
        " \uc74c\uc545\n",
        "Explorer"
       ]
      },
      {
       "output_type": "stream",
       "stream": "stdout",
       "text": [
        " \ub9ac\ubdf0\n",
        "Explorer"
       ]
      },
      {
       "output_type": "stream",
       "stream": "stdout",
       "text": [
        " \uc5f0\uc608\n",
        "Explorer"
       ]
      },
      {
       "output_type": "stream",
       "stream": "stdout",
       "text": [
        " \uc74c\uc2dd\n",
        "Explorer"
       ]
      },
      {
       "output_type": "stream",
       "stream": "stdout",
       "text": [
        " \uc2a4\ud3ec\uce20\n",
        "Explorer \uac8c\uc784\n",
        "Explorer"
       ]
      },
      {
       "output_type": "stream",
       "stream": "stdout",
       "text": [
        " \uac74\uac15\n",
        "Explorer"
       ]
      },
      {
       "output_type": "stream",
       "stream": "stdout",
       "text": [
        " \ud559\uc2b5\n",
        "Explorer"
       ]
      },
      {
       "output_type": "stream",
       "stream": "stdout",
       "text": [
        " \ucee4\ubba4\ub2c8\ud2f0\n",
        "Pendu Classique: France"
       ]
      },
      {
       "output_type": "stream",
       "stream": "stdout",
       "text": [
        " \ubbf8\uc6a9\n",
        "Pendu Classique: France"
       ]
      },
      {
       "output_type": "stream",
       "stream": "stdout",
       "text": [
        " \uc74c\uc545\n",
        "Pendu Classique: France"
       ]
      },
      {
       "output_type": "stream",
       "stream": "stdout",
       "text": [
        " \ub9ac\ubdf0\n",
        "Pendu Classique: France"
       ]
      },
      {
       "output_type": "stream",
       "stream": "stdout",
       "text": [
        " \uc5f0\uc608\n",
        "Pendu Classique: France \uc74c\uc2dd\n",
        "Pendu Classique: France"
       ]
      },
      {
       "output_type": "stream",
       "stream": "stdout",
       "text": [
        " \uc2a4\ud3ec\uce20\n",
        "Pendu Classique: France"
       ]
      },
      {
       "output_type": "stream",
       "stream": "stdout",
       "text": [
        " \uac8c\uc784\n",
        "Pendu Classique: France"
       ]
      },
      {
       "output_type": "stream",
       "stream": "stdout",
       "text": [
        " \uac74\uac15\n",
        "Pendu Classique: France"
       ]
      },
      {
       "output_type": "stream",
       "stream": "stdout",
       "text": [
        " \ud559\uc2b5\n",
        "Pendu Classique: France \ucee4\ubba4\ub2c8\ud2f0\n",
        "PicsArt Kaleidoscope"
       ]
      },
      {
       "output_type": "stream",
       "stream": "stdout",
       "text": [
        " \ubbf8\uc6a9\n",
        "PicsArt Kaleidoscope"
       ]
      },
      {
       "output_type": "stream",
       "stream": "stdout",
       "text": [
        " \uc74c\uc545\n",
        "PicsArt Kaleidoscope"
       ]
      },
      {
       "output_type": "stream",
       "stream": "stdout",
       "text": [
        " \ub9ac\ubdf0\n",
        "PicsArt Kaleidoscope \uc5f0\uc608\n",
        "PicsArt Kaleidoscope"
       ]
      },
      {
       "output_type": "stream",
       "stream": "stdout",
       "text": [
        " \uc74c\uc2dd\n",
        "PicsArt Kaleidoscope \uc2a4\ud3ec\uce20\n",
        "PicsArt Kaleidoscope"
       ]
      },
      {
       "output_type": "stream",
       "stream": "stdout",
       "text": [
        " \uac8c\uc784\n",
        "PicsArt Kaleidoscope"
       ]
      },
      {
       "output_type": "stream",
       "stream": "stdout",
       "text": [
        " \uac74\uac15\n",
        "PicsArt Kaleidoscope \ud559\uc2b5\n",
        "PicsArt Kaleidoscope"
       ]
      },
      {
       "output_type": "stream",
       "stream": "stdout",
       "text": [
        " \ucee4\ubba4\ub2c8\ud2f0\n",
        "\ud3ec\ud1a0 \uc6cc\ud130 \ubc18\uc601"
       ]
      },
      {
       "output_type": "stream",
       "stream": "stdout",
       "text": [
        " \ubbf8\uc6a9\n",
        "\ud3ec\ud1a0 \uc6cc\ud130 \ubc18\uc601 \uc74c\uc545\n",
        "\ud3ec\ud1a0 \uc6cc\ud130 \ubc18\uc601"
       ]
      },
      {
       "output_type": "stream",
       "stream": "stdout",
       "text": [
        " \ub9ac\ubdf0\n",
        "\ud3ec\ud1a0 \uc6cc\ud130 \ubc18\uc601 \uc5f0\uc608\n",
        "\ud3ec\ud1a0 \uc6cc\ud130 \ubc18\uc601"
       ]
      },
      {
       "output_type": "stream",
       "stream": "stdout",
       "text": [
        " \uc74c\uc2dd\n",
        "\ud3ec\ud1a0 \uc6cc\ud130 \ubc18\uc601"
       ]
      },
      {
       "output_type": "stream",
       "stream": "stdout",
       "text": [
        " \uc2a4\ud3ec\uce20\n",
        "\ud3ec\ud1a0 \uc6cc\ud130 \ubc18\uc601 \uac8c\uc784\n",
        "\ud3ec\ud1a0 \uc6cc\ud130 \ubc18\uc601"
       ]
      },
      {
       "output_type": "stream",
       "stream": "stdout",
       "text": [
        " \uac74\uac15\n",
        "\ud3ec\ud1a0 \uc6cc\ud130 \ubc18\uc601 \ud559\uc2b5\n",
        "\ud3ec\ud1a0 \uc6cc\ud130 \ubc18\uc601"
       ]
      },
      {
       "output_type": "stream",
       "stream": "stdout",
       "text": [
        " \ucee4\ubba4\ub2c8\ud2f0\n",
        "\uad6d\ub0b4\uc720\uc77c \ubb34\ub8cc\uc18c\uac1c\ud305, \ud558\ub8e8 \ub450\uba85\uc529 \ub04c\ub9bc \ubbf8\uc6a9\n",
        "\uad6d\ub0b4\uc720\uc77c \ubb34\ub8cc\uc18c\uac1c\ud305, \ud558\ub8e8 \ub450\uba85\uc529 \ub04c\ub9bc"
       ]
      },
      {
       "output_type": "stream",
       "stream": "stdout",
       "text": [
        " \uc74c\uc545\n",
        "\uad6d\ub0b4\uc720\uc77c \ubb34\ub8cc\uc18c\uac1c\ud305, \ud558\ub8e8 \ub450\uba85\uc529 \ub04c\ub9bc"
       ]
      },
      {
       "output_type": "stream",
       "stream": "stdout",
       "text": [
        " \ub9ac\ubdf0\n",
        "\uad6d\ub0b4\uc720\uc77c \ubb34\ub8cc\uc18c\uac1c\ud305, \ud558\ub8e8 \ub450\uba85\uc529 \ub04c\ub9bc \uc5f0\uc608\n",
        "\uad6d\ub0b4\uc720\uc77c \ubb34\ub8cc\uc18c\uac1c\ud305, \ud558\ub8e8 \ub450\uba85\uc529 \ub04c\ub9bc"
       ]
      },
      {
       "output_type": "stream",
       "stream": "stdout",
       "text": [
        " \uc74c\uc2dd\n",
        "\uad6d\ub0b4\uc720\uc77c \ubb34\ub8cc\uc18c\uac1c\ud305, \ud558\ub8e8 \ub450\uba85\uc529 \ub04c\ub9bc"
       ]
      },
      {
       "output_type": "stream",
       "stream": "stdout",
       "text": [
        " \uc2a4\ud3ec\uce20\n",
        "\uad6d\ub0b4\uc720\uc77c \ubb34\ub8cc\uc18c\uac1c\ud305, \ud558\ub8e8 \ub450\uba85\uc529 \ub04c\ub9bc \uac8c\uc784\n",
        "\uad6d\ub0b4\uc720\uc77c \ubb34\ub8cc\uc18c\uac1c\ud305, \ud558\ub8e8 \ub450\uba85\uc529 \ub04c\ub9bc"
       ]
      },
      {
       "output_type": "stream",
       "stream": "stdout",
       "text": [
        " \uac74\uac15\n",
        "\uad6d\ub0b4\uc720\uc77c \ubb34\ub8cc\uc18c\uac1c\ud305, \ud558\ub8e8 \ub450\uba85\uc529 \ub04c\ub9bc"
       ]
      },
      {
       "output_type": "stream",
       "stream": "stdout",
       "text": [
        " \ud559\uc2b5\n",
        "\uad6d\ub0b4\uc720\uc77c \ubb34\ub8cc\uc18c\uac1c\ud305, \ud558\ub8e8 \ub450\uba85\uc529 \ub04c\ub9bc \ucee4\ubba4\ub2c8\ud2f0\n",
        "Scydo \ubb34\ub8cc \uc548\ub4dc\ub85c\uc774\ub4dc\ub294 \uc804\ud654"
       ]
      },
      {
       "output_type": "stream",
       "stream": "stdout",
       "text": [
        " \ubbf8\uc6a9\n",
        "Scydo \ubb34\ub8cc \uc548\ub4dc\ub85c\uc774\ub4dc\ub294 \uc804\ud654"
       ]
      },
      {
       "output_type": "stream",
       "stream": "stdout",
       "text": [
        " \uc74c\uc545\n",
        "Scydo \ubb34\ub8cc \uc548\ub4dc\ub85c\uc774\ub4dc\ub294 \uc804\ud654 \ub9ac\ubdf0\n",
        "Scydo \ubb34\ub8cc \uc548\ub4dc\ub85c\uc774\ub4dc\ub294 \uc804\ud654"
       ]
      },
      {
       "output_type": "stream",
       "stream": "stdout",
       "text": [
        " \uc5f0\uc608\n",
        "Scydo \ubb34\ub8cc \uc548\ub4dc\ub85c\uc774\ub4dc\ub294 \uc804\ud654"
       ]
      },
      {
       "output_type": "stream",
       "stream": "stdout",
       "text": [
        " \uc74c\uc2dd\n",
        "Scydo \ubb34\ub8cc \uc548\ub4dc\ub85c\uc774\ub4dc\ub294 \uc804\ud654"
       ]
      },
      {
       "output_type": "stream",
       "stream": "stdout",
       "text": [
        " \uc2a4\ud3ec\uce20\n",
        "Scydo \ubb34\ub8cc \uc548\ub4dc\ub85c\uc774\ub4dc\ub294 \uc804\ud654 \uac8c\uc784\n",
        "Scydo \ubb34\ub8cc \uc548\ub4dc\ub85c\uc774\ub4dc\ub294 \uc804\ud654"
       ]
      },
      {
       "output_type": "stream",
       "stream": "stdout",
       "text": [
        " \uac74\uac15\n",
        "Scydo \ubb34\ub8cc \uc548\ub4dc\ub85c\uc774\ub4dc\ub294 \uc804\ud654 \ud559\uc2b5\n",
        "Scydo \ubb34\ub8cc \uc548\ub4dc\ub85c\uc774\ub4dc\ub294 \uc804\ud654"
       ]
      },
      {
       "output_type": "stream",
       "stream": "stdout",
       "text": [
        " \ucee4\ubba4\ub2c8\ud2f0\n",
        "\ubb34\ud55c\ube61\uce68 \ub191"
       ]
      },
      {
       "output_type": "stream",
       "stream": "stdout",
       "text": [
        " \ubbf8\uc6a9\n",
        "\ubb34\ud55c\ube61\uce68 \ub191 \uc74c\uc545\n",
        "\ubb34\ud55c\ube61\uce68 \ub191"
       ]
      },
      {
       "output_type": "stream",
       "stream": "stdout",
       "text": [
        " \ub9ac\ubdf0\n",
        "\ubb34\ud55c\ube61\uce68 \ub191"
       ]
      },
      {
       "output_type": "stream",
       "stream": "stdout",
       "text": [
        " \uc5f0\uc608\n",
        "\ubb34\ud55c\ube61\uce68 \ub191"
       ]
      },
      {
       "output_type": "stream",
       "stream": "stdout",
       "text": [
        " \uc74c\uc2dd\n",
        "\ubb34\ud55c\ube61\uce68 \ub191"
       ]
      },
      {
       "output_type": "stream",
       "stream": "stdout",
       "text": [
        " \uc2a4\ud3ec\uce20\n",
        "\ubb34\ud55c\ube61\uce68 \ub191"
       ]
      },
      {
       "output_type": "stream",
       "stream": "stdout",
       "text": [
        " \uac8c\uc784\n",
        "\ubb34\ud55c\ube61\uce68 \ub191 \uac74\uac15\n",
        "\ubb34\ud55c\ube61\uce68 \ub191"
       ]
      },
      {
       "output_type": "stream",
       "stream": "stdout",
       "text": [
        " \ud559\uc2b5\n",
        "\ubb34\ud55c\ube61\uce68 \ub191"
       ]
      },
      {
       "output_type": "stream",
       "stream": "stdout",
       "text": [
        " \ucee4\ubba4\ub2c8\ud2f0\n",
        "\u041a\u0430\u043c\u0435\u0434\u0438 \u041a\u043b\u0430\u0431 - \u041b\u0443\u0447\u0448\u0438\u0435 \u0412\u0438\u0434\u0435\u043e"
       ]
      },
      {
       "output_type": "stream",
       "stream": "stdout",
       "text": [
        " \ubbf8\uc6a9\n",
        "\u041a\u0430\u043c\u0435\u0434\u0438 \u041a\u043b\u0430\u0431 - \u041b\u0443\u0447\u0448\u0438\u0435 \u0412\u0438\u0434\u0435\u043e \uc74c\uc545\n",
        "\u041a\u0430\u043c\u0435\u0434\u0438 \u041a\u043b\u0430\u0431 - \u041b\u0443\u0447\u0448\u0438\u0435 \u0412\u0438\u0434\u0435\u043e"
       ]
      },
      {
       "output_type": "stream",
       "stream": "stdout",
       "text": [
        " \ub9ac\ubdf0\n",
        "\u041a\u0430\u043c\u0435\u0434\u0438 \u041a\u043b\u0430\u0431 - \u041b\u0443\u0447\u0448\u0438\u0435 \u0412\u0438\u0434\u0435\u043e \uc5f0\uc608\n",
        "\u041a\u0430\u043c\u0435\u0434\u0438 \u041a\u043b\u0430\u0431 - \u041b\u0443\u0447\u0448\u0438\u0435 \u0412\u0438\u0434\u0435\u043e"
       ]
      },
      {
       "output_type": "stream",
       "stream": "stdout",
       "text": [
        " \uc74c\uc2dd\n",
        "\u041a\u0430\u043c\u0435\u0434\u0438 \u041a\u043b\u0430\u0431 - \u041b\u0443\u0447\u0448\u0438\u0435 \u0412\u0438\u0434\u0435\u043e \uc2a4\ud3ec\uce20\n",
        "\u041a\u0430\u043c\u0435\u0434\u0438 \u041a\u043b\u0430\u0431 - \u041b\u0443\u0447\u0448\u0438\u0435 \u0412\u0438\u0434\u0435\u043e"
       ]
      },
      {
       "output_type": "stream",
       "stream": "stdout",
       "text": [
        " \uac8c\uc784\n",
        "\u041a\u0430\u043c\u0435\u0434\u0438 \u041a\u043b\u0430\u0431 - \u041b\u0443\u0447\u0448\u0438\u0435 \u0412\u0438\u0434\u0435\u043e"
       ]
      },
      {
       "output_type": "stream",
       "stream": "stdout",
       "text": [
        " \uac74\uac15\n",
        "\u041a\u0430\u043c\u0435\u0434\u0438 \u041a\u043b\u0430\u0431 - \u041b\u0443\u0447\u0448\u0438\u0435 \u0412\u0438\u0434\u0435\u043e"
       ]
      },
      {
       "output_type": "stream",
       "stream": "stdout",
       "text": [
        " \ud559\uc2b5\n",
        "\u041a\u0430\u043c\u0435\u0434\u0438 \u041a\u043b\u0430\u0431 - \u041b\u0443\u0447\u0448\u0438\u0435 \u0412\u0438\u0434\u0435\u043e"
       ]
      },
      {
       "output_type": "stream",
       "stream": "stdout",
       "text": [
        " \ucee4\ubba4\ub2c8\ud2f0\n",
        "Qik Video"
       ]
      },
      {
       "output_type": "stream",
       "stream": "stdout",
       "text": [
        " \ubbf8\uc6a9\n",
        "Qik Video"
       ]
      },
      {
       "output_type": "stream",
       "stream": "stdout",
       "text": [
        " \uc74c\uc545\n",
        "Qik Video \ub9ac\ubdf0\n",
        "Qik Video"
       ]
      },
      {
       "output_type": "stream",
       "stream": "stdout",
       "text": [
        " \uc5f0\uc608\n",
        "Qik Video \uc74c\uc2dd\n",
        "Qik Video"
       ]
      },
      {
       "output_type": "stream",
       "stream": "stdout",
       "text": [
        " \uc2a4\ud3ec\uce20\n",
        "Qik Video \uac8c\uc784\n",
        "Qik Video"
       ]
      },
      {
       "output_type": "stream",
       "stream": "stdout",
       "text": [
        " \uac74\uac15\n",
        "Qik Video \ud559\uc2b5\n",
        "Qik Video"
       ]
      },
      {
       "output_type": "stream",
       "stream": "stdout",
       "text": [
        " \ucee4\ubba4\ub2c8\ud2f0\n",
        "Country House_GO\ub7f0\ucc98EX\ud14c\ub9c8_\ud504\ub9ac\ubbf8\uc5b8 \ubbf8\uc6a9\n",
        "Country House_GO\ub7f0\ucc98EX\ud14c\ub9c8_\ud504\ub9ac\ubbf8\uc5b8"
       ]
      },
      {
       "output_type": "stream",
       "stream": "stdout",
       "text": [
        " \uc74c\uc545\n",
        "Country House_GO\ub7f0\ucc98EX\ud14c\ub9c8_\ud504\ub9ac\ubbf8\uc5b8 \ub9ac\ubdf0\n",
        "Country House_GO\ub7f0\ucc98EX\ud14c\ub9c8_\ud504\ub9ac\ubbf8\uc5b8"
       ]
      },
      {
       "output_type": "stream",
       "stream": "stdout",
       "text": [
        " \uc5f0\uc608\n",
        "Country House_GO\ub7f0\ucc98EX\ud14c\ub9c8_\ud504\ub9ac\ubbf8\uc5b8"
       ]
      },
      {
       "output_type": "stream",
       "stream": "stdout",
       "text": [
        " \uc74c\uc2dd\n",
        "Country House_GO\ub7f0\ucc98EX\ud14c\ub9c8_\ud504\ub9ac\ubbf8\uc5b8 \uc2a4\ud3ec\uce20\n",
        "Country House_GO\ub7f0\ucc98EX\ud14c\ub9c8_\ud504\ub9ac\ubbf8\uc5b8"
       ]
      },
      {
       "output_type": "stream",
       "stream": "stdout",
       "text": [
        " \uac8c\uc784\n",
        "Country House_GO\ub7f0\ucc98EX\ud14c\ub9c8_\ud504\ub9ac\ubbf8\uc5b8"
       ]
      },
      {
       "output_type": "stream",
       "stream": "stdout",
       "text": [
        " \uac74\uac15\n",
        "Country House_GO\ub7f0\ucc98EX\ud14c\ub9c8_\ud504\ub9ac\ubbf8\uc5b8"
       ]
      },
      {
       "output_type": "stream",
       "stream": "stdout",
       "text": [
        " \ud559\uc2b5\n",
        "Country House_GO\ub7f0\ucc98EX\ud14c\ub9c8_\ud504\ub9ac\ubbf8\uc5b8"
       ]
      },
      {
       "output_type": "stream",
       "stream": "stdout",
       "text": [
        " \ucee4\ubba4\ub2c8\ud2f0\n",
        "\ud3ed\ud589 \uc880\ube44 HD"
       ]
      },
      {
       "output_type": "stream",
       "stream": "stdout",
       "text": [
        " \ubbf8\uc6a9\n",
        "\ud3ed\ud589 \uc880\ube44 HD \uc74c\uc545\n",
        "\ud3ed\ud589 \uc880\ube44 HD"
       ]
      },
      {
       "output_type": "stream",
       "stream": "stdout",
       "text": [
        " \ub9ac\ubdf0\n",
        "\ud3ed\ud589 \uc880\ube44 HD"
       ]
      },
      {
       "output_type": "stream",
       "stream": "stdout",
       "text": [
        " \uc5f0\uc608\n",
        "\ud3ed\ud589 \uc880\ube44 HD"
       ]
      },
      {
       "output_type": "stream",
       "stream": "stdout",
       "text": [
        " \uc74c\uc2dd\n",
        "\ud3ed\ud589 \uc880\ube44 HD \uc2a4\ud3ec\uce20\n",
        "\ud3ed\ud589 \uc880\ube44 HD"
       ]
      },
      {
       "output_type": "stream",
       "stream": "stdout",
       "text": [
        " \uac8c\uc784\n",
        "\ud3ed\ud589 \uc880\ube44 HD \uac74\uac15\n",
        "\ud3ed\ud589 \uc880\ube44 HD"
       ]
      },
      {
       "output_type": "stream",
       "stream": "stdout",
       "text": [
        " \ud559\uc2b5\n",
        "\ud3ed\ud589 \uc880\ube44 HD \ucee4\ubba4\ub2c8\ud2f0\n",
        "Colombo Racer Beta- Sri Lankan"
       ]
      },
      {
       "output_type": "stream",
       "stream": "stdout",
       "text": [
        " \ubbf8\uc6a9\n",
        "Colombo Racer Beta- Sri Lankan"
       ]
      },
      {
       "output_type": "stream",
       "stream": "stdout",
       "text": [
        " \uc74c\uc545\n",
        "Colombo Racer Beta- Sri Lankan \ub9ac\ubdf0\n",
        "Colombo Racer Beta- Sri Lankan"
       ]
      },
      {
       "output_type": "stream",
       "stream": "stdout",
       "text": [
        " \uc5f0\uc608\n",
        "Colombo Racer Beta- Sri Lankan \uc74c\uc2dd\n",
        "Colombo Racer Beta- Sri Lankan"
       ]
      },
      {
       "output_type": "stream",
       "stream": "stdout",
       "text": [
        " \uc2a4\ud3ec\uce20\n",
        "Colombo Racer Beta- Sri Lankan"
       ]
      },
      {
       "output_type": "stream",
       "stream": "stdout",
       "text": [
        " \uac8c\uc784\n",
        "Colombo Racer Beta- Sri Lankan"
       ]
      },
      {
       "output_type": "stream",
       "stream": "stdout",
       "text": [
        " \uac74\uac15\n",
        "Colombo Racer Beta- Sri Lankan"
       ]
      },
      {
       "output_type": "stream",
       "stream": "stdout",
       "text": [
        " \ud559\uc2b5\n",
        "Colombo Racer Beta- Sri Lankan"
       ]
      },
      {
       "output_type": "stream",
       "stream": "stdout",
       "text": [
        " \ucee4\ubba4\ub2c8\ud2f0\n",
        "Call Confirm"
       ]
      },
      {
       "output_type": "stream",
       "stream": "stdout",
       "text": [
        " \ubbf8\uc6a9\n",
        "Call Confirm"
       ]
      },
      {
       "output_type": "stream",
       "stream": "stdout",
       "text": [
        " \uc74c\uc545\n",
        "Call Confirm"
       ]
      },
      {
       "output_type": "stream",
       "stream": "stdout",
       "text": [
        " \ub9ac\ubdf0\n",
        "Call Confirm"
       ]
      },
      {
       "output_type": "stream",
       "stream": "stdout",
       "text": [
        " \uc5f0\uc608\n",
        "Call Confirm \uc74c\uc2dd\n",
        "Call Confirm"
       ]
      },
      {
       "output_type": "stream",
       "stream": "stdout",
       "text": [
        " \uc2a4\ud3ec\uce20\n",
        "Call Confirm"
       ]
      },
      {
       "output_type": "stream",
       "stream": "stdout",
       "text": [
        " \uac8c\uc784\n",
        "Call Confirm"
       ]
      },
      {
       "output_type": "stream",
       "stream": "stdout",
       "text": [
        " \uac74\uac15\n",
        "Call Confirm"
       ]
      },
      {
       "output_type": "stream",
       "stream": "stdout",
       "text": [
        " \ud559\uc2b5\n",
        "Call Confirm \ucee4\ubba4\ub2c8\ud2f0\n",
        "Zombie Fields HD"
       ]
      },
      {
       "output_type": "stream",
       "stream": "stdout",
       "text": [
        " \ubbf8\uc6a9\n",
        "Zombie Fields HD"
       ]
      },
      {
       "output_type": "stream",
       "stream": "stdout",
       "text": [
        " \uc74c\uc545\n",
        "Zombie Fields HD"
       ]
      },
      {
       "output_type": "stream",
       "stream": "stdout",
       "text": [
        " \ub9ac\ubdf0\n",
        "Zombie Fields HD"
       ]
      },
      {
       "output_type": "stream",
       "stream": "stdout",
       "text": [
        " \uc5f0\uc608\n",
        "Zombie Fields HD"
       ]
      },
      {
       "output_type": "stream",
       "stream": "stdout",
       "text": [
        " \uc74c\uc2dd\n",
        "Zombie Fields HD"
       ]
      },
      {
       "output_type": "stream",
       "stream": "stdout",
       "text": [
        " \uc2a4\ud3ec\uce20\n",
        "Zombie Fields HD \uac8c\uc784\n",
        "Zombie Fields HD"
       ]
      },
      {
       "output_type": "stream",
       "stream": "stdout",
       "text": [
        " \uac74\uac15\n",
        "Zombie Fields HD"
       ]
      },
      {
       "output_type": "stream",
       "stream": "stdout",
       "text": [
        " \ud559\uc2b5\n",
        "Zombie Fields HD \ucee4\ubba4\ub2c8\ud2f0\n",
        "Beat the Beast"
       ]
      },
      {
       "output_type": "stream",
       "stream": "stdout",
       "text": [
        " \ubbf8\uc6a9\n",
        "Beat the Beast"
       ]
      },
      {
       "output_type": "stream",
       "stream": "stdout",
       "text": [
        " \uc74c\uc545\n",
        "Beat the Beast"
       ]
      },
      {
       "output_type": "stream",
       "stream": "stdout",
       "text": [
        " \ub9ac\ubdf0\n",
        "Beat the Beast"
       ]
      },
      {
       "output_type": "stream",
       "stream": "stdout",
       "text": [
        " \uc5f0\uc608\n",
        "Beat the Beast \uc74c\uc2dd\n",
        "Beat the Beast"
       ]
      },
      {
       "output_type": "stream",
       "stream": "stdout",
       "text": [
        " \uc2a4\ud3ec\uce20\n",
        "Beat the Beast \uac8c\uc784\n",
        "Beat the Beast"
       ]
      },
      {
       "output_type": "stream",
       "stream": "stdout",
       "text": [
        " \uac74\uac15\n",
        "Beat the Beast \ud559\uc2b5\n",
        "Beat the Beast"
       ]
      },
      {
       "output_type": "stream",
       "stream": "stdout",
       "text": [
        " \ucee4\ubba4\ub2c8\ud2f0\n",
        "\u62c6\u5f48\u9a5a\u9b42"
       ]
      },
      {
       "output_type": "stream",
       "stream": "stdout",
       "text": [
        " \ubbf8\uc6a9\n",
        "\u62c6\u5f48\u9a5a\u9b42"
       ]
      },
      {
       "output_type": "stream",
       "stream": "stdout",
       "text": [
        " \uc74c\uc545\n",
        "\u62c6\u5f48\u9a5a\u9b42"
       ]
      },
      {
       "output_type": "stream",
       "stream": "stdout",
       "text": [
        " \ub9ac\ubdf0\n",
        "\u62c6\u5f48\u9a5a\u9b42"
       ]
      },
      {
       "output_type": "stream",
       "stream": "stdout",
       "text": [
        " \uc5f0\uc608\n",
        "\u62c6\u5f48\u9a5a\u9b42"
       ]
      },
      {
       "output_type": "stream",
       "stream": "stdout",
       "text": [
        " \uc74c\uc2dd\n",
        "\u62c6\u5f48\u9a5a\u9b42"
       ]
      },
      {
       "output_type": "stream",
       "stream": "stdout",
       "text": [
        " \uc2a4\ud3ec\uce20\n",
        "\u62c6\u5f48\u9a5a\u9b42"
       ]
      },
      {
       "output_type": "stream",
       "stream": "stdout",
       "text": [
        " \uac8c\uc784\n",
        "\u62c6\u5f48\u9a5a\u9b42"
       ]
      },
      {
       "output_type": "stream",
       "stream": "stdout",
       "text": [
        " \uac74\uac15\n",
        "\u62c6\u5f48\u9a5a\u9b42"
       ]
      },
      {
       "output_type": "stream",
       "stream": "stdout",
       "text": [
        " \ud559\uc2b5\n",
        "\u62c6\u5f48\u9a5a\u9b42"
       ]
      },
      {
       "output_type": "stream",
       "stream": "stdout",
       "text": [
        " \ucee4\ubba4\ub2c8\ud2f0\n",
        "\ubaa8\ub450\uc758\uac8c\uc784 \ud587\uc0b4\uc774\ubca4\ud2b8"
       ]
      },
      {
       "output_type": "stream",
       "stream": "stdout",
       "text": [
        " \ubbf8\uc6a9\n",
        "\ubaa8\ub450\uc758\uac8c\uc784 \ud587\uc0b4\uc774\ubca4\ud2b8 \uc74c\uc545\n",
        "\ubaa8\ub450\uc758\uac8c\uc784 \ud587\uc0b4\uc774\ubca4\ud2b8"
       ]
      },
      {
       "output_type": "stream",
       "stream": "stdout",
       "text": [
        " \ub9ac\ubdf0\n",
        "\ubaa8\ub450\uc758\uac8c\uc784 \ud587\uc0b4\uc774\ubca4\ud2b8 \uc5f0\uc608\n",
        "\ubaa8\ub450\uc758\uac8c\uc784 \ud587\uc0b4\uc774\ubca4\ud2b8"
       ]
      },
      {
       "output_type": "stream",
       "stream": "stdout",
       "text": [
        " \uc74c\uc2dd\n",
        "\ubaa8\ub450\uc758\uac8c\uc784 \ud587\uc0b4\uc774\ubca4\ud2b8"
       ]
      },
      {
       "output_type": "stream",
       "stream": "stdout",
       "text": [
        " \uc2a4\ud3ec\uce20\n",
        "\ubaa8\ub450\uc758\uac8c\uc784 \ud587\uc0b4\uc774\ubca4\ud2b8 \uac8c\uc784\n",
        "\ubaa8\ub450\uc758\uac8c\uc784 \ud587\uc0b4\uc774\ubca4\ud2b8"
       ]
      },
      {
       "output_type": "stream",
       "stream": "stdout",
       "text": [
        " \uac74\uac15\n",
        "\ubaa8\ub450\uc758\uac8c\uc784 \ud587\uc0b4\uc774\ubca4\ud2b8 \ud559\uc2b5\n",
        "\ubaa8\ub450\uc758\uac8c\uc784 \ud587\uc0b4\uc774\ubca4\ud2b8"
       ]
      },
      {
       "output_type": "stream",
       "stream": "stdout",
       "text": [
        " \ucee4\ubba4\ub2c8\ud2f0\n",
        "Asphalt 6: Adrenaline Free \ubbf8\uc6a9\n",
        "Asphalt 6: Adrenaline Free"
       ]
      },
      {
       "output_type": "stream",
       "stream": "stdout",
       "text": [
        " \uc74c\uc545\n",
        "Asphalt 6: Adrenaline Free \ub9ac\ubdf0\n",
        "Asphalt 6: Adrenaline Free"
       ]
      },
      {
       "output_type": "stream",
       "stream": "stdout",
       "text": [
        " \uc5f0\uc608\n",
        "Asphalt 6: Adrenaline Free"
       ]
      },
      {
       "output_type": "stream",
       "stream": "stdout",
       "text": [
        " \uc74c\uc2dd\n",
        "Asphalt 6: Adrenaline Free \uc2a4\ud3ec\uce20\n",
        "Asphalt 6: Adrenaline Free"
       ]
      },
      {
       "output_type": "stream",
       "stream": "stdout",
       "text": [
        " \uac8c\uc784\n",
        "Asphalt 6: Adrenaline Free \uac74\uac15\n",
        "Asphalt 6: Adrenaline Free"
       ]
      },
      {
       "output_type": "stream",
       "stream": "stdout",
       "text": [
        " \ud559\uc2b5\n",
        "Asphalt 6: Adrenaline Free \ucee4\ubba4\ub2c8\ud2f0\n",
        "Pet Rescue Saga Help"
       ]
      },
      {
       "output_type": "stream",
       "stream": "stdout",
       "text": [
        " \ubbf8\uc6a9\n",
        "Pet Rescue Saga Help"
       ]
      },
      {
       "output_type": "stream",
       "stream": "stdout",
       "text": [
        " \uc74c\uc545\n",
        "Pet Rescue Saga Help"
       ]
      },
      {
       "output_type": "stream",
       "stream": "stdout",
       "text": [
        " \ub9ac\ubdf0\n",
        "Pet Rescue Saga Help \uc5f0\uc608\n",
        "Pet Rescue Saga Help"
       ]
      },
      {
       "output_type": "stream",
       "stream": "stdout",
       "text": [
        " \uc74c\uc2dd\n",
        "Pet Rescue Saga Help \uc2a4\ud3ec\uce20\n",
        "Pet Rescue Saga Help"
       ]
      },
      {
       "output_type": "stream",
       "stream": "stdout",
       "text": [
        " \uac8c\uc784\n",
        "Pet Rescue Saga Help \uac74\uac15\n",
        "Pet Rescue Saga Help"
       ]
      },
      {
       "output_type": "stream",
       "stream": "stdout",
       "text": [
        " \ud559\uc2b5\n",
        "Pet Rescue Saga Help \ucee4\ubba4\ub2c8\ud2f0\n",
        "\ub9de\uace0\ub3c4\uc0ac\uc804 2013"
       ]
      },
      {
       "output_type": "stream",
       "stream": "stdout",
       "text": [
        " \ubbf8\uc6a9\n",
        "\ub9de\uace0\ub3c4\uc0ac\uc804 2013 \uc74c\uc545\n",
        "\ub9de\uace0\ub3c4\uc0ac\uc804 2013"
       ]
      },
      {
       "output_type": "stream",
       "stream": "stdout",
       "text": [
        " \ub9ac\ubdf0\n",
        "\ub9de\uace0\ub3c4\uc0ac\uc804 2013 \uc5f0\uc608\n",
        "\ub9de\uace0\ub3c4\uc0ac\uc804 2013"
       ]
      },
      {
       "output_type": "stream",
       "stream": "stdout",
       "text": [
        " \uc74c\uc2dd\n",
        "\ub9de\uace0\ub3c4\uc0ac\uc804 2013"
       ]
      },
      {
       "output_type": "stream",
       "stream": "stdout",
       "text": [
        " \uc2a4\ud3ec\uce20\n",
        "\ub9de\uace0\ub3c4\uc0ac\uc804 2013 \uac8c\uc784\n",
        "\ub9de\uace0\ub3c4\uc0ac\uc804 2013"
       ]
      },
      {
       "output_type": "stream",
       "stream": "stdout",
       "text": [
        " \uac74\uac15\n",
        "\ub9de\uace0\ub3c4\uc0ac\uc804 2013 \ud559\uc2b5\n",
        "\ub9de\uace0\ub3c4\uc0ac\uc804 2013"
       ]
      },
      {
       "output_type": "stream",
       "stream": "stdout",
       "text": [
        " \ucee4\ubba4\ub2c8\ud2f0\n",
        "RO\u4ed9\u5883\u50b3\u8aaa-\u74e6\u723e\u57fa\u91cc\u4e4b\u4e82-\u6b7b\u4ea1\u4e4b\u90fd\u5df4\u9732\u6234\u723e"
       ]
      },
      {
       "output_type": "stream",
       "stream": "stdout",
       "text": [
        " \ubbf8\uc6a9\n",
        "RO\u4ed9\u5883\u50b3\u8aaa-\u74e6\u723e\u57fa\u91cc\u4e4b\u4e82-\u6b7b\u4ea1\u4e4b\u90fd\u5df4\u9732\u6234\u723e"
       ]
      },
      {
       "output_type": "stream",
       "stream": "stdout",
       "text": [
        " \uc74c\uc545\n",
        "RO\u4ed9\u5883\u50b3\u8aaa-\u74e6\u723e\u57fa\u91cc\u4e4b\u4e82-\u6b7b\u4ea1\u4e4b\u90fd\u5df4\u9732\u6234\u723e"
       ]
      },
      {
       "output_type": "stream",
       "stream": "stdout",
       "text": [
        " \ub9ac\ubdf0\n",
        "RO\u4ed9\u5883\u50b3\u8aaa-\u74e6\u723e\u57fa\u91cc\u4e4b\u4e82-\u6b7b\u4ea1\u4e4b\u90fd\u5df4\u9732\u6234\u723e"
       ]
      },
      {
       "output_type": "stream",
       "stream": "stdout",
       "text": [
        " \uc5f0\uc608\n",
        "RO\u4ed9\u5883\u50b3\u8aaa-\u74e6\u723e\u57fa\u91cc\u4e4b\u4e82-\u6b7b\u4ea1\u4e4b\u90fd\u5df4\u9732\u6234\u723e"
       ]
      },
      {
       "output_type": "stream",
       "stream": "stdout",
       "text": [
        " \uc74c\uc2dd\n",
        "RO\u4ed9\u5883\u50b3\u8aaa-\u74e6\u723e\u57fa\u91cc\u4e4b\u4e82-\u6b7b\u4ea1\u4e4b\u90fd\u5df4\u9732\u6234\u723e"
       ]
      },
      {
       "output_type": "stream",
       "stream": "stdout",
       "text": [
        " \uc2a4\ud3ec\uce20\n",
        "RO\u4ed9\u5883\u50b3\u8aaa-\u74e6\u723e\u57fa\u91cc\u4e4b\u4e82-\u6b7b\u4ea1\u4e4b\u90fd\u5df4\u9732\u6234\u723e"
       ]
      },
      {
       "output_type": "stream",
       "stream": "stdout",
       "text": [
        " \uac8c\uc784\n",
        "RO\u4ed9\u5883\u50b3\u8aaa-\u74e6\u723e\u57fa\u91cc\u4e4b\u4e82-\u6b7b\u4ea1\u4e4b\u90fd\u5df4\u9732\u6234\u723e"
       ]
      },
      {
       "output_type": "stream",
       "stream": "stdout",
       "text": [
        " \uac74\uac15\n",
        "RO\u4ed9\u5883\u50b3\u8aaa-\u74e6\u723e\u57fa\u91cc\u4e4b\u4e82-\u6b7b\u4ea1\u4e4b\u90fd\u5df4\u9732\u6234\u723e"
       ]
      },
      {
       "output_type": "stream",
       "stream": "stdout",
       "text": [
        " \ud559\uc2b5\n",
        "RO\u4ed9\u5883\u50b3\u8aaa-\u74e6\u723e\u57fa\u91cc\u4e4b\u4e82-\u6b7b\u4ea1\u4e4b\u90fd\u5df4\u9732\u6234\u723e"
       ]
      },
      {
       "output_type": "stream",
       "stream": "stdout",
       "text": [
        " \ucee4\ubba4\ub2c8\ud2f0\n",
        "Bike to the Future Free"
       ]
      },
      {
       "output_type": "stream",
       "stream": "stdout",
       "text": [
        " \ubbf8\uc6a9\n",
        "Bike to the Future Free \uc74c\uc545\n",
        "Bike to the Future Free"
       ]
      },
      {
       "output_type": "stream",
       "stream": "stdout",
       "text": [
        " \ub9ac\ubdf0\n",
        "Bike to the Future Free"
       ]
      },
      {
       "output_type": "stream",
       "stream": "stdout",
       "text": [
        " \uc5f0\uc608\n",
        "Bike to the Future Free \uc74c\uc2dd\n",
        "Bike to the Future Free"
       ]
      },
      {
       "output_type": "stream",
       "stream": "stdout",
       "text": [
        " \uc2a4\ud3ec\uce20\n",
        "Bike to the Future Free \uac8c\uc784\n",
        "Bike to the Future Free"
       ]
      },
      {
       "output_type": "stream",
       "stream": "stdout",
       "text": [
        " \uac74\uac15\n",
        "Bike to the Future Free"
       ]
      },
      {
       "output_type": "stream",
       "stream": "stdout",
       "text": [
        " \ud559\uc2b5\n",
        "Bike to the Future Free"
       ]
      },
      {
       "output_type": "stream",
       "stream": "stdout",
       "text": [
        " \ucee4\ubba4\ub2c8\ud2f0\n",
        "FrameMe-Instagram pic"
       ]
      },
      {
       "output_type": "stream",
       "stream": "stdout",
       "text": [
        " \ubbf8\uc6a9\n",
        "FrameMe-Instagram pic \uc74c\uc545\n",
        "FrameMe-Instagram pic"
       ]
      },
      {
       "output_type": "stream",
       "stream": "stdout",
       "text": [
        " \ub9ac\ubdf0\n",
        "FrameMe-Instagram pic"
       ]
      },
      {
       "output_type": "stream",
       "stream": "stdout",
       "text": [
        " \uc5f0\uc608\n",
        "FrameMe-Instagram pic \uc74c\uc2dd\n",
        "FrameMe-Instagram pic"
       ]
      },
      {
       "output_type": "stream",
       "stream": "stdout",
       "text": [
        " \uc2a4\ud3ec\uce20\n",
        "FrameMe-Instagram pic \uac8c\uc784\n",
        "FrameMe-Instagram pic"
       ]
      },
      {
       "output_type": "stream",
       "stream": "stdout",
       "text": [
        " \uac74\uac15\n",
        "FrameMe-Instagram pic"
       ]
      },
      {
       "output_type": "stream",
       "stream": "stdout",
       "text": [
        " \ud559\uc2b5\n",
        "FrameMe-Instagram pic"
       ]
      },
      {
       "output_type": "stream",
       "stream": "stdout",
       "text": [
        " \ucee4\ubba4\ub2c8\ud2f0\n",
        "Monorail Lite"
       ]
      },
      {
       "output_type": "stream",
       "stream": "stdout",
       "text": [
        " \ubbf8\uc6a9\n",
        "Monorail Lite \uc74c\uc545\n",
        "Monorail Lite"
       ]
      },
      {
       "output_type": "stream",
       "stream": "stdout",
       "text": [
        " \ub9ac\ubdf0\n",
        "Monorail Lite"
       ]
      },
      {
       "output_type": "stream",
       "stream": "stdout",
       "text": [
        " \uc5f0\uc608\n",
        "Monorail Lite"
       ]
      },
      {
       "output_type": "stream",
       "stream": "stdout",
       "text": [
        " \uc74c\uc2dd\n",
        "Monorail Lite"
       ]
      },
      {
       "output_type": "stream",
       "stream": "stdout",
       "text": [
        " \uc2a4\ud3ec\uce20\n",
        "Monorail Lite"
       ]
      },
      {
       "output_type": "stream",
       "stream": "stdout",
       "text": [
        " \uac8c\uc784\n",
        "Monorail Lite \uac74\uac15\n",
        "Monorail Lite"
       ]
      },
      {
       "output_type": "stream",
       "stream": "stdout",
       "text": [
        " \ud559\uc2b5\n",
        "Monorail Lite"
       ]
      },
      {
       "output_type": "stream",
       "stream": "stdout",
       "text": [
        " \ucee4\ubba4\ub2c8\ud2f0\n",
        "chumby for Sony Tablet S \ubbf8\uc6a9\n",
        "chumby for Sony Tablet S"
       ]
      },
      {
       "output_type": "stream",
       "stream": "stdout",
       "text": [
        " \uc74c\uc545\n",
        "chumby for Sony Tablet S"
       ]
      },
      {
       "output_type": "stream",
       "stream": "stdout",
       "text": [
        " \ub9ac\ubdf0\n",
        "chumby for Sony Tablet S \uc5f0\uc608\n",
        "chumby for Sony Tablet S"
       ]
      },
      {
       "output_type": "stream",
       "stream": "stdout",
       "text": [
        " \uc74c\uc2dd\n",
        "chumby for Sony Tablet S \uc2a4\ud3ec\uce20\n",
        "chumby for Sony Tablet S"
       ]
      },
      {
       "output_type": "stream",
       "stream": "stdout",
       "text": [
        " \uac8c\uc784\n",
        "chumby for Sony Tablet S"
       ]
      },
      {
       "output_type": "stream",
       "stream": "stdout",
       "text": [
        " \uac74\uac15\n",
        "chumby for Sony Tablet S"
       ]
      },
      {
       "output_type": "stream",
       "stream": "stdout",
       "text": [
        " \ud559\uc2b5\n",
        "chumby for Sony Tablet S \ucee4\ubba4\ub2c8\ud2f0\n",
        "[GDGT]MCPE App"
       ]
      },
      {
       "output_type": "stream",
       "stream": "stdout",
       "text": [
        " \ubbf8\uc6a9\n",
        "[GDGT]MCPE App \uc74c\uc545\n",
        "[GDGT]MCPE App"
       ]
      },
      {
       "output_type": "stream",
       "stream": "stdout",
       "text": [
        " \ub9ac\ubdf0\n",
        "[GDGT]MCPE App"
       ]
      },
      {
       "output_type": "stream",
       "stream": "stdout",
       "text": [
        " \uc5f0\uc608\n",
        "[GDGT]MCPE App \uc74c\uc2dd\n",
        "[GDGT]MCPE App"
       ]
      },
      {
       "output_type": "stream",
       "stream": "stdout",
       "text": [
        " \uc2a4\ud3ec\uce20\n",
        "[GDGT]MCPE App \uac8c\uc784\n",
        "[GDGT]MCPE App"
       ]
      },
      {
       "output_type": "stream",
       "stream": "stdout",
       "text": [
        " \uac74\uac15\n",
        "[GDGT]MCPE App \ud559\uc2b5\n",
        "[GDGT]MCPE App"
       ]
      },
      {
       "output_type": "stream",
       "stream": "stdout",
       "text": [
        " \ucee4\ubba4\ub2c8\ud2f0\n",
        "PEP the dragon"
       ]
      },
      {
       "output_type": "stream",
       "stream": "stdout",
       "text": [
        " \ubbf8\uc6a9\n",
        "PEP the dragon"
       ]
      },
      {
       "output_type": "stream",
       "stream": "stdout",
       "text": [
        " \uc74c\uc545\n",
        "PEP the dragon \ub9ac\ubdf0\n",
        "PEP the dragon"
       ]
      },
      {
       "output_type": "stream",
       "stream": "stdout",
       "text": [
        " \uc5f0\uc608\n",
        "PEP the dragon \uc74c\uc2dd\n",
        "PEP the dragon"
       ]
      },
      {
       "output_type": "stream",
       "stream": "stdout",
       "text": [
        " \uc2a4\ud3ec\uce20\n",
        "PEP the dragon"
       ]
      },
      {
       "output_type": "stream",
       "stream": "stdout",
       "text": [
        " \uac8c\uc784\n",
        "PEP the dragon"
       ]
      },
      {
       "output_type": "stream",
       "stream": "stdout",
       "text": [
        " \uac74\uac15\n",
        "PEP the dragon"
       ]
      },
      {
       "output_type": "stream",
       "stream": "stdout",
       "text": [
        " \ud559\uc2b5\n",
        "PEP the dragon \ucee4\ubba4\ub2c8\ud2f0\n",
        "3D\u5168\u666f\u62cd\u7167"
       ]
      },
      {
       "output_type": "stream",
       "stream": "stdout",
       "text": [
        " \ubbf8\uc6a9\n",
        "3D\u5168\u666f\u62cd\u7167"
       ]
      },
      {
       "output_type": "stream",
       "stream": "stdout",
       "text": [
        " \uc74c\uc545\n",
        "3D\u5168\u666f\u62cd\u7167"
       ]
      },
      {
       "output_type": "stream",
       "stream": "stdout",
       "text": [
        " \ub9ac\ubdf0\n",
        "3D\u5168\u666f\u62cd\u7167"
       ]
      },
      {
       "output_type": "stream",
       "stream": "stdout",
       "text": [
        " \uc5f0\uc608\n",
        "3D\u5168\u666f\u62cd\u7167"
       ]
      },
      {
       "output_type": "stream",
       "stream": "stdout",
       "text": [
        " \uc74c\uc2dd\n",
        "3D\u5168\u666f\u62cd\u7167"
       ]
      },
      {
       "output_type": "stream",
       "stream": "stdout",
       "text": [
        " \uc2a4\ud3ec\uce20\n",
        "3D\u5168\u666f\u62cd\u7167"
       ]
      },
      {
       "output_type": "stream",
       "stream": "stdout",
       "text": [
        " \uac8c\uc784\n",
        "3D\u5168\u666f\u62cd\u7167"
       ]
      },
      {
       "output_type": "stream",
       "stream": "stdout",
       "text": [
        " \uac74\uac15\n",
        "3D\u5168\u666f\u62cd\u7167"
       ]
      },
      {
       "output_type": "stream",
       "stream": "stdout",
       "text": [
        " \ud559\uc2b5\n",
        "3D\u5168\u666f\u62cd\u7167"
       ]
      },
      {
       "output_type": "stream",
       "stream": "stdout",
       "text": [
        " \ucee4\ubba4\ub2c8\ud2f0\n",
        "Color Touch FX"
       ]
      },
      {
       "output_type": "stream",
       "stream": "stdout",
       "text": [
        " \ubbf8\uc6a9\n",
        "Color Touch FX \uc74c\uc545\n",
        "Color Touch FX"
       ]
      },
      {
       "output_type": "stream",
       "stream": "stdout",
       "text": [
        " \ub9ac\ubdf0\n",
        "Color Touch FX \uc5f0\uc608\n",
        "Color Touch FX"
       ]
      },
      {
       "output_type": "stream",
       "stream": "stdout",
       "text": [
        " \uc74c\uc2dd\n",
        "Color Touch FX"
       ]
      },
      {
       "output_type": "stream",
       "stream": "stdout",
       "text": [
        " \uc2a4\ud3ec\uce20\n",
        "Color Touch FX"
       ]
      },
      {
       "output_type": "stream",
       "stream": "stdout",
       "text": [
        " \uac8c\uc784\n",
        "Color Touch FX"
       ]
      },
      {
       "output_type": "stream",
       "stream": "stdout",
       "text": [
        " \uac74\uac15\n",
        "Color Touch FX \ud559\uc2b5\n",
        "Color Touch FX"
       ]
      },
      {
       "output_type": "stream",
       "stream": "stdout",
       "text": [
        " \ucee4\ubba4\ub2c8\ud2f0\n",
        "\uc544\uae30 \uc790\uc7a5\uac00 \uc218\uba74 \ud2b8\ub808\uc774\ub2dd + \ucd08\uc810\ucc45 \ubbf8\uc6a9\n",
        "\uc544\uae30 \uc790\uc7a5\uac00 \uc218\uba74 \ud2b8\ub808\uc774\ub2dd + \ucd08\uc810\ucc45"
       ]
      },
      {
       "output_type": "stream",
       "stream": "stdout",
       "text": [
        " \uc74c\uc545\n",
        "\uc544\uae30 \uc790\uc7a5\uac00 \uc218\uba74 \ud2b8\ub808\uc774\ub2dd + \ucd08\uc810\ucc45 \ub9ac\ubdf0\n",
        "\uc544\uae30 \uc790\uc7a5\uac00 \uc218\uba74 \ud2b8\ub808\uc774\ub2dd + \ucd08\uc810\ucc45"
       ]
      },
      {
       "output_type": "stream",
       "stream": "stdout",
       "text": [
        " \uc5f0\uc608\n",
        "\uc544\uae30 \uc790\uc7a5\uac00 \uc218\uba74 \ud2b8\ub808\uc774\ub2dd + \ucd08\uc810\ucc45 \uc74c\uc2dd\n",
        "\uc544\uae30 \uc790\uc7a5\uac00 \uc218\uba74 \ud2b8\ub808\uc774\ub2dd + \ucd08\uc810\ucc45"
       ]
      },
      {
       "output_type": "stream",
       "stream": "stdout",
       "text": [
        " \uc2a4\ud3ec\uce20\n",
        "\uc544\uae30 \uc790\uc7a5\uac00 \uc218\uba74 \ud2b8\ub808\uc774\ub2dd + \ucd08\uc810\ucc45"
       ]
      },
      {
       "output_type": "stream",
       "stream": "stdout",
       "text": [
        " \uac8c\uc784\n",
        "\uc544\uae30 \uc790\uc7a5\uac00 \uc218\uba74 \ud2b8\ub808\uc774\ub2dd + \ucd08\uc810\ucc45 \uac74\uac15\n",
        "\uc544\uae30 \uc790\uc7a5\uac00 \uc218\uba74 \ud2b8\ub808\uc774\ub2dd + \ucd08\uc810\ucc45"
       ]
      },
      {
       "output_type": "stream",
       "stream": "stdout",
       "text": [
        " \ud559\uc2b5\n",
        "\uc544\uae30 \uc790\uc7a5\uac00 \uc218\uba74 \ud2b8\ub808\uc774\ub2dd + \ucd08\uc810\ucc45 \ucee4\ubba4\ub2c8\ud2f0\n",
        "Moto Race"
       ]
      },
      {
       "output_type": "stream",
       "stream": "stdout",
       "text": [
        " \ubbf8\uc6a9\n",
        "Moto Race \uc74c\uc545\n",
        "Moto Race"
       ]
      },
      {
       "output_type": "stream",
       "stream": "stdout",
       "text": [
        " \ub9ac\ubdf0\n",
        "Moto Race"
       ]
      },
      {
       "output_type": "stream",
       "stream": "stdout",
       "text": [
        " \uc5f0\uc608\n",
        "Moto Race \uc74c\uc2dd\n",
        "Moto Race"
       ]
      },
      {
       "output_type": "stream",
       "stream": "stdout",
       "text": [
        " \uc2a4\ud3ec\uce20\n",
        "Moto Race \uac8c\uc784\n",
        "Moto Race"
       ]
      },
      {
       "output_type": "stream",
       "stream": "stdout",
       "text": [
        " \uac74\uac15\n",
        "Moto Race \ud559\uc2b5\n",
        "Moto Race"
       ]
      },
      {
       "output_type": "stream",
       "stream": "stdout",
       "text": [
        " \ucee4\ubba4\ub2c8\ud2f0\n",
        "eco\u30e2\u30fc\u30c9 \ubbf8\uc6a9\n",
        "eco\u30e2\u30fc\u30c9"
       ]
      },
      {
       "output_type": "stream",
       "stream": "stdout",
       "text": [
        " \uc74c\uc545\n",
        "eco\u30e2\u30fc\u30c9 \ub9ac\ubdf0\n",
        "eco\u30e2\u30fc\u30c9"
       ]
      },
      {
       "output_type": "stream",
       "stream": "stdout",
       "text": [
        " \uc5f0\uc608\n",
        "eco\u30e2\u30fc\u30c9"
       ]
      },
      {
       "output_type": "stream",
       "stream": "stdout",
       "text": [
        " \uc74c\uc2dd\n",
        "eco\u30e2\u30fc\u30c9 \uc2a4\ud3ec\uce20\n",
        "eco\u30e2\u30fc\u30c9"
       ]
      },
      {
       "output_type": "stream",
       "stream": "stdout",
       "text": [
        " \uac8c\uc784\n",
        "eco\u30e2\u30fc\u30c9"
       ]
      },
      {
       "output_type": "stream",
       "stream": "stdout",
       "text": [
        " \uac74\uac15\n",
        "eco\u30e2\u30fc\u30c9"
       ]
      },
      {
       "output_type": "stream",
       "stream": "stdout",
       "text": [
        " \ud559\uc2b5\n",
        "eco\u30e2\u30fc\u30c9"
       ]
      },
      {
       "output_type": "stream",
       "stream": "stdout",
       "text": [
        " \ucee4\ubba4\ub2c8\ud2f0\n",
        "pink butterflies glitter lwp"
       ]
      },
      {
       "output_type": "stream",
       "stream": "stdout",
       "text": [
        " \ubbf8\uc6a9\n",
        "pink butterflies glitter lwp"
       ]
      },
      {
       "output_type": "stream",
       "stream": "stdout",
       "text": [
        " \uc74c\uc545\n",
        "pink butterflies glitter lwp"
       ]
      },
      {
       "output_type": "stream",
       "stream": "stdout",
       "text": [
        " \ub9ac\ubdf0\n",
        "pink butterflies glitter lwp \uc5f0\uc608\n",
        "pink butterflies glitter lwp"
       ]
      },
      {
       "output_type": "stream",
       "stream": "stdout",
       "text": [
        " \uc74c\uc2dd\n",
        "pink butterflies glitter lwp"
       ]
      },
      {
       "output_type": "stream",
       "stream": "stdout",
       "text": [
        " \uc2a4\ud3ec\uce20\n",
        "pink butterflies glitter lwp \uac8c\uc784\n",
        "pink butterflies glitter lwp"
       ]
      },
      {
       "output_type": "stream",
       "stream": "stdout",
       "text": [
        " \uac74\uac15\n",
        "pink butterflies glitter lwp \ud559\uc2b5\n",
        "pink butterflies glitter lwp"
       ]
      },
      {
       "output_type": "stream",
       "stream": "stdout",
       "text": [
        " \ucee4\ubba4\ub2c8\ud2f0\n",
        "Zs\u00edroz\u00e1s \ubbf8\uc6a9\n",
        "Zs\u00edroz\u00e1s"
       ]
      },
      {
       "output_type": "stream",
       "stream": "stdout",
       "text": [
        " \uc74c\uc545\n",
        "Zs\u00edroz\u00e1s"
       ]
      },
      {
       "output_type": "stream",
       "stream": "stdout",
       "text": [
        " \ub9ac\ubdf0\n",
        "Zs\u00edroz\u00e1s"
       ]
      },
      {
       "output_type": "stream",
       "stream": "stdout",
       "text": [
        " \uc5f0\uc608\n",
        "Zs\u00edroz\u00e1s \uc74c\uc2dd\n",
        "Zs\u00edroz\u00e1s"
       ]
      },
      {
       "output_type": "stream",
       "stream": "stdout",
       "text": [
        " \uc2a4\ud3ec\uce20\n",
        "Zs\u00edroz\u00e1s \uac8c\uc784\n",
        "Zs\u00edroz\u00e1s"
       ]
      },
      {
       "output_type": "stream",
       "stream": "stdout",
       "text": [
        " \uac74\uac15\n",
        "Zs\u00edroz\u00e1s"
       ]
      },
      {
       "output_type": "stream",
       "stream": "stdout",
       "text": [
        " \ud559\uc2b5\n",
        "Zs\u00edroz\u00e1s \ucee4\ubba4\ub2c8\ud2f0\n",
        "Halifax Mobile Banking app"
       ]
      },
      {
       "output_type": "stream",
       "stream": "stdout",
       "text": [
        " \ubbf8\uc6a9\n",
        "Halifax Mobile Banking app \uc74c\uc545\n",
        "Halifax Mobile Banking app"
       ]
      },
      {
       "output_type": "stream",
       "stream": "stdout",
       "text": [
        " \ub9ac\ubdf0\n",
        "Halifax Mobile Banking app \uc5f0\uc608\n",
        "Halifax Mobile Banking app"
       ]
      },
      {
       "output_type": "stream",
       "stream": "stdout",
       "text": [
        " \uc74c\uc2dd\n",
        "Halifax Mobile Banking app"
       ]
      },
      {
       "output_type": "stream",
       "stream": "stdout",
       "text": [
        " \uc2a4\ud3ec\uce20\n",
        "Halifax Mobile Banking app \uac8c\uc784\n",
        "Halifax Mobile Banking app"
       ]
      },
      {
       "output_type": "stream",
       "stream": "stdout",
       "text": [
        " \uac74\uac15\n",
        "Halifax Mobile Banking app"
       ]
      },
      {
       "output_type": "stream",
       "stream": "stdout",
       "text": [
        " \ud559\uc2b5\n",
        "Halifax Mobile Banking app \ucee4\ubba4\ub2c8\ud2f0\n",
        "The Snowman and The Snowdog"
       ]
      },
      {
       "output_type": "stream",
       "stream": "stdout",
       "text": [
        " \ubbf8\uc6a9\n",
        "The Snowman and The Snowdog \uc74c\uc545\n",
        "The Snowman and The Snowdog"
       ]
      },
      {
       "output_type": "stream",
       "stream": "stdout",
       "text": [
        " \ub9ac\ubdf0\n",
        "The Snowman and The Snowdog"
       ]
      },
      {
       "output_type": "stream",
       "stream": "stdout",
       "text": [
        " \uc5f0\uc608\n",
        "The Snowman and The Snowdog \uc74c\uc2dd\n",
        "The Snowman and The Snowdog"
       ]
      },
      {
       "output_type": "stream",
       "stream": "stdout",
       "text": [
        " \uc2a4\ud3ec\uce20\n",
        "The Snowman and The Snowdog \uac8c\uc784\n",
        "The Snowman and The Snowdog"
       ]
      },
      {
       "output_type": "stream",
       "stream": "stdout",
       "text": [
        " \uac74\uac15\n",
        "The Snowman and The Snowdog"
       ]
      },
      {
       "output_type": "stream",
       "stream": "stdout",
       "text": [
        " \ud559\uc2b5\n",
        "The Snowman and The Snowdog"
       ]
      },
      {
       "output_type": "stream",
       "stream": "stdout",
       "text": [
        " \ucee4\ubba4\ub2c8\ud2f0\n",
        "Strategy & Tactics: WW II Free"
       ]
      },
      {
       "output_type": "stream",
       "stream": "stdout",
       "text": [
        " \ubbf8\uc6a9\n",
        "Strategy & Tactics: WW II Free"
       ]
      },
      {
       "output_type": "stream",
       "stream": "stdout",
       "text": [
        " \uc74c\uc545\n",
        "Strategy & Tactics: WW II Free"
       ]
      },
      {
       "output_type": "stream",
       "stream": "stdout",
       "text": [
        " \ub9ac\ubdf0\n",
        "Strategy & Tactics: WW II Free \uc5f0\uc608\n",
        "Strategy & Tactics: WW II Free"
       ]
      },
      {
       "output_type": "stream",
       "stream": "stdout",
       "text": [
        " \uc74c\uc2dd\n",
        "Strategy & Tactics: WW II Free \uc2a4\ud3ec\uce20\n",
        "Strategy & Tactics: WW II Free"
       ]
      },
      {
       "output_type": "stream",
       "stream": "stdout",
       "text": [
        " \uac8c\uc784\n",
        "Strategy & Tactics: WW II Free \uac74\uac15\n",
        "Strategy & Tactics: WW II Free"
       ]
      },
      {
       "output_type": "stream",
       "stream": "stdout",
       "text": [
        " \ud559\uc2b5\n",
        "Strategy & Tactics: WW II Free"
       ]
      },
      {
       "output_type": "stream",
       "stream": "stdout",
       "text": [
        " \ucee4\ubba4\ub2c8\ud2f0\n",
        "Pocket Clothier Lite"
       ]
      },
      {
       "output_type": "stream",
       "stream": "stdout",
       "text": [
        " \ubbf8\uc6a9\n",
        "Pocket Clothier Lite \uc74c\uc545\n",
        "Pocket Clothier Lite"
       ]
      },
      {
       "output_type": "stream",
       "stream": "stdout",
       "text": [
        " \ub9ac\ubdf0\n",
        "Pocket Clothier Lite"
       ]
      },
      {
       "output_type": "stream",
       "stream": "stdout",
       "text": [
        " \uc5f0\uc608\n",
        "Pocket Clothier Lite"
       ]
      },
      {
       "output_type": "stream",
       "stream": "stdout",
       "text": [
        " \uc74c\uc2dd\n",
        "Pocket Clothier Lite"
       ]
      },
      {
       "output_type": "stream",
       "stream": "stdout",
       "text": [
        " \uc2a4\ud3ec\uce20\n",
        "Pocket Clothier Lite \uac8c\uc784\n",
        "Pocket Clothier Lite"
       ]
      },
      {
       "output_type": "stream",
       "stream": "stdout",
       "text": [
        " \uac74\uac15\n",
        "Pocket Clothier Lite \ud559\uc2b5\n",
        "Pocket Clothier Lite"
       ]
      },
      {
       "output_type": "stream",
       "stream": "stdout",
       "text": [
        " \ucee4\ubba4\ub2c8\ud2f0\n",
        "e\ud558\ub298 \uc7a5\uc0ac\uc815\ubcf4"
       ]
      },
      {
       "output_type": "stream",
       "stream": "stdout",
       "text": [
        " \ubbf8\uc6a9\n",
        "e\ud558\ub298 \uc7a5\uc0ac\uc815\ubcf4 \uc74c\uc545\n",
        "e\ud558\ub298 \uc7a5\uc0ac\uc815\ubcf4"
       ]
      },
      {
       "output_type": "stream",
       "stream": "stdout",
       "text": [
        " \ub9ac\ubdf0\n",
        "e\ud558\ub298 \uc7a5\uc0ac\uc815\ubcf4"
       ]
      },
      {
       "output_type": "stream",
       "stream": "stdout",
       "text": [
        " \uc5f0\uc608\n",
        "e\ud558\ub298 \uc7a5\uc0ac\uc815\ubcf4 \uc74c\uc2dd\n",
        "e\ud558\ub298 \uc7a5\uc0ac\uc815\ubcf4"
       ]
      },
      {
       "output_type": "stream",
       "stream": "stdout",
       "text": [
        " \uc2a4\ud3ec\uce20\n",
        "e\ud558\ub298 \uc7a5\uc0ac\uc815\ubcf4 \uac8c\uc784\n",
        "e\ud558\ub298 \uc7a5\uc0ac\uc815\ubcf4"
       ]
      },
      {
       "output_type": "stream",
       "stream": "stdout",
       "text": [
        " \uac74\uac15\n",
        "e\ud558\ub298 \uc7a5\uc0ac\uc815\ubcf4 \ud559\uc2b5\n",
        "e\ud558\ub298 \uc7a5\uc0ac\uc815\ubcf4"
       ]
      },
      {
       "output_type": "stream",
       "stream": "stdout",
       "text": [
        " \ucee4\ubba4\ub2c8\ud2f0\n",
        "\uc2a4\ud504\ub808\ub4dc\uce98 - \uce98\ub9b0\ub354 \ubbf8\uc6a9\n",
        "\uc2a4\ud504\ub808\ub4dc\uce98 - \uce98\ub9b0\ub354"
       ]
      },
      {
       "output_type": "stream",
       "stream": "stdout",
       "text": [
        " \uc74c\uc545\n",
        "\uc2a4\ud504\ub808\ub4dc\uce98 - \uce98\ub9b0\ub354 \ub9ac\ubdf0\n",
        "\uc2a4\ud504\ub808\ub4dc\uce98 - \uce98\ub9b0\ub354"
       ]
      },
      {
       "output_type": "stream",
       "stream": "stdout",
       "text": [
        " \uc5f0\uc608\n",
        "\uc2a4\ud504\ub808\ub4dc\uce98 - \uce98\ub9b0\ub354"
       ]
      },
      {
       "output_type": "stream",
       "stream": "stdout",
       "text": [
        " \uc74c\uc2dd\n",
        "\uc2a4\ud504\ub808\ub4dc\uce98 - \uce98\ub9b0\ub354"
       ]
      },
      {
       "output_type": "stream",
       "stream": "stdout",
       "text": [
        " \uc2a4\ud3ec\uce20\n",
        "\uc2a4\ud504\ub808\ub4dc\uce98 - \uce98\ub9b0\ub354 \uac8c\uc784\n",
        "\uc2a4\ud504\ub808\ub4dc\uce98 - \uce98\ub9b0\ub354"
       ]
      },
      {
       "output_type": "stream",
       "stream": "stdout",
       "text": [
        " \uac74\uac15\n",
        "\uc2a4\ud504\ub808\ub4dc\uce98 - \uce98\ub9b0\ub354 \ud559\uc2b5\n",
        "\uc2a4\ud504\ub808\ub4dc\uce98 - \uce98\ub9b0\ub354"
       ]
      },
      {
       "output_type": "stream",
       "stream": "stdout",
       "text": [
        " \ucee4\ubba4\ub2c8\ud2f0\n",
        "Pocket Dragons RPG \ubbf8\uc6a9\n",
        "Pocket Dragons RPG"
       ]
      },
      {
       "output_type": "stream",
       "stream": "stdout",
       "text": [
        " \uc74c\uc545\n",
        "Pocket Dragons RPG \ub9ac\ubdf0\n",
        "Pocket Dragons RPG"
       ]
      },
      {
       "output_type": "stream",
       "stream": "stdout",
       "text": [
        " \uc5f0\uc608\n",
        "Pocket Dragons RPG \uc74c\uc2dd\n",
        "Pocket Dragons RPG"
       ]
      },
      {
       "output_type": "stream",
       "stream": "stdout",
       "text": [
        " \uc2a4\ud3ec\uce20\n",
        "Pocket Dragons RPG \uac8c\uc784\n",
        "Pocket Dragons RPG"
       ]
      },
      {
       "output_type": "stream",
       "stream": "stdout",
       "text": [
        " \uac74\uac15\n",
        "Pocket Dragons RPG"
       ]
      },
      {
       "output_type": "stream",
       "stream": "stdout",
       "text": [
        " \ud559\uc2b5\n",
        "Pocket Dragons RPG \ucee4\ubba4\ub2c8\ud2f0\n",
        "\ud130\uce58 \ud130\uce58 \uc0ac\ub2e4\ub9ac ( Touch Touch \uc0ac\ub2e4\ub9ac )"
       ]
      },
      {
       "output_type": "stream",
       "stream": "stdout",
       "text": [
        " \ubbf8\uc6a9\n",
        "\ud130\uce58 \ud130\uce58 \uc0ac\ub2e4\ub9ac ( Touch Touch \uc0ac\ub2e4\ub9ac ) \uc74c\uc545\n",
        "\ud130\uce58 \ud130\uce58 \uc0ac\ub2e4\ub9ac ( Touch Touch \uc0ac\ub2e4\ub9ac )"
       ]
      },
      {
       "output_type": "stream",
       "stream": "stdout",
       "text": [
        " \ub9ac\ubdf0\n",
        "\ud130\uce58 \ud130\uce58 \uc0ac\ub2e4\ub9ac ( Touch Touch \uc0ac\ub2e4\ub9ac ) \uc5f0\uc608\n",
        "\ud130\uce58 \ud130\uce58 \uc0ac\ub2e4\ub9ac ( Touch Touch \uc0ac\ub2e4\ub9ac )"
       ]
      },
      {
       "output_type": "stream",
       "stream": "stdout",
       "text": [
        " \uc74c\uc2dd\n",
        "\ud130\uce58 \ud130\uce58 \uc0ac\ub2e4\ub9ac ( Touch Touch \uc0ac\ub2e4\ub9ac ) \uc2a4\ud3ec\uce20\n",
        "\ud130\uce58 \ud130\uce58 \uc0ac\ub2e4\ub9ac ( Touch Touch \uc0ac\ub2e4\ub9ac )"
       ]
      },
      {
       "output_type": "stream",
       "stream": "stdout",
       "text": [
        " \uac8c\uc784\n",
        "\ud130\uce58 \ud130\uce58 \uc0ac\ub2e4\ub9ac ( Touch Touch \uc0ac\ub2e4\ub9ac )"
       ]
      },
      {
       "output_type": "stream",
       "stream": "stdout",
       "text": [
        " \uac74\uac15\n",
        "\ud130\uce58 \ud130\uce58 \uc0ac\ub2e4\ub9ac ( Touch Touch \uc0ac\ub2e4\ub9ac ) \ud559\uc2b5\n",
        "\ud130\uce58 \ud130\uce58 \uc0ac\ub2e4\ub9ac ( Touch Touch \uc0ac\ub2e4\ub9ac )"
       ]
      },
      {
       "output_type": "stream",
       "stream": "stdout",
       "text": [
        " \ucee4\ubba4\ub2c8\ud2f0\n",
        "\uadf9\uc9c0\uace0:\ud559\uc6d0\ubb34\ub9bc\ub300\uc804 \ubbf8\uc6a9\n",
        "\uadf9\uc9c0\uace0:\ud559\uc6d0\ubb34\ub9bc\ub300\uc804"
       ]
      },
      {
       "output_type": "stream",
       "stream": "stdout",
       "text": [
        " \uc74c\uc545\n",
        "\uadf9\uc9c0\uace0:\ud559\uc6d0\ubb34\ub9bc\ub300\uc804"
       ]
      },
      {
       "output_type": "stream",
       "stream": "stdout",
       "text": [
        " \ub9ac\ubdf0\n",
        "\uadf9\uc9c0\uace0:\ud559\uc6d0\ubb34\ub9bc\ub300\uc804"
       ]
      },
      {
       "output_type": "stream",
       "stream": "stdout",
       "text": [
        " \uc5f0\uc608\n",
        "\uadf9\uc9c0\uace0:\ud559\uc6d0\ubb34\ub9bc\ub300\uc804"
       ]
      },
      {
       "output_type": "stream",
       "stream": "stdout",
       "text": [
        " \uc74c\uc2dd\n",
        "\uadf9\uc9c0\uace0:\ud559\uc6d0\ubb34\ub9bc\ub300\uc804"
       ]
      },
      {
       "output_type": "stream",
       "stream": "stdout",
       "text": [
        " \uc2a4\ud3ec\uce20\n",
        "\uadf9\uc9c0\uace0:\ud559\uc6d0\ubb34\ub9bc\ub300\uc804"
       ]
      },
      {
       "output_type": "stream",
       "stream": "stdout",
       "text": [
        " \uac8c\uc784\n",
        "\uadf9\uc9c0\uace0:\ud559\uc6d0\ubb34\ub9bc\ub300\uc804"
       ]
      },
      {
       "output_type": "stream",
       "stream": "stdout",
       "text": [
        " \uac74\uac15\n",
        "\uadf9\uc9c0\uace0:\ud559\uc6d0\ubb34\ub9bc\ub300\uc804 \ud559\uc2b5\n",
        "\uadf9\uc9c0\uace0:\ud559\uc6d0\ubb34\ub9bc\ub300\uc804"
       ]
      },
      {
       "output_type": "stream",
       "stream": "stdout",
       "text": [
        " \ucee4\ubba4\ub2c8\ud2f0\n",
        "Fruit Slice \ubbf8\uc6a9\n",
        "Fruit Slice"
       ]
      },
      {
       "output_type": "stream",
       "stream": "stdout",
       "text": [
        " \uc74c\uc545\n",
        "Fruit Slice \ub9ac\ubdf0\n",
        "Fruit Slice"
       ]
      },
      {
       "output_type": "stream",
       "stream": "stdout",
       "text": [
        " \uc5f0\uc608\n",
        "Fruit Slice \uc74c\uc2dd\n",
        "Fruit Slice"
       ]
      },
      {
       "output_type": "stream",
       "stream": "stdout",
       "text": [
        " \uc2a4\ud3ec\uce20\n",
        "Fruit Slice \uac8c\uc784\n",
        "Fruit Slice"
       ]
      },
      {
       "output_type": "stream",
       "stream": "stdout",
       "text": [
        " \uac74\uac15\n",
        "Fruit Slice"
       ]
      },
      {
       "output_type": "stream",
       "stream": "stdout",
       "text": [
        " \ud559\uc2b5\n",
        "Fruit Slice"
       ]
      },
      {
       "output_type": "stream",
       "stream": "stdout",
       "text": [
        " \ucee4\ubba4\ub2c8\ud2f0\n",
        "Messi vs Ronaldo Quiz \ubbf8\uc6a9\n",
        "Messi vs Ronaldo Quiz"
       ]
      },
      {
       "output_type": "stream",
       "stream": "stdout",
       "text": [
        " \uc74c\uc545\n",
        "Messi vs Ronaldo Quiz"
       ]
      },
      {
       "output_type": "stream",
       "stream": "stdout",
       "text": [
        " \ub9ac\ubdf0\n",
        "Messi vs Ronaldo Quiz \uc5f0\uc608\n",
        "Messi vs Ronaldo Quiz"
       ]
      },
      {
       "output_type": "stream",
       "stream": "stdout",
       "text": [
        " \uc74c\uc2dd\n",
        "Messi vs Ronaldo Quiz \uc2a4\ud3ec\uce20\n",
        "Messi vs Ronaldo Quiz"
       ]
      },
      {
       "output_type": "stream",
       "stream": "stdout",
       "text": [
        " \uac8c\uc784\n",
        "Messi vs Ronaldo Quiz \uac74\uac15\n",
        "Messi vs Ronaldo Quiz"
       ]
      },
      {
       "output_type": "stream",
       "stream": "stdout",
       "text": [
        " \ud559\uc2b5\n",
        "Messi vs Ronaldo Quiz"
       ]
      },
      {
       "output_type": "stream",
       "stream": "stdout",
       "text": [
        " \ucee4\ubba4\ub2c8\ud2f0\n",
        "Kids Connect the Dots Xmas"
       ]
      },
      {
       "output_type": "stream",
       "stream": "stdout",
       "text": [
        " \ubbf8\uc6a9\n",
        "Kids Connect the Dots Xmas"
       ]
      },
      {
       "output_type": "stream",
       "stream": "stdout",
       "text": [
        " \uc74c\uc545\n",
        "Kids Connect the Dots Xmas \ub9ac\ubdf0\n",
        "Kids Connect the Dots Xmas"
       ]
      },
      {
       "output_type": "stream",
       "stream": "stdout",
       "text": [
        " \uc5f0\uc608\n",
        "Kids Connect the Dots Xmas"
       ]
      },
      {
       "output_type": "stream",
       "stream": "stdout",
       "text": [
        " \uc74c\uc2dd\n",
        "Kids Connect the Dots Xmas"
       ]
      },
      {
       "output_type": "stream",
       "stream": "stdout",
       "text": [
        " \uc2a4\ud3ec\uce20\n",
        "Kids Connect the Dots Xmas \uac8c\uc784\n",
        "Kids Connect the Dots Xmas"
       ]
      },
      {
       "output_type": "stream",
       "stream": "stdout",
       "text": [
        " \uac74\uac15\n",
        "Kids Connect the Dots Xmas"
       ]
      },
      {
       "output_type": "stream",
       "stream": "stdout",
       "text": [
        " \ud559\uc2b5\n",
        "Kids Connect the Dots Xmas"
       ]
      },
      {
       "output_type": "stream",
       "stream": "stdout",
       "text": [
        " \ucee4\ubba4\ub2c8\ud2f0\n",
        "\ubc30\ud2b8\ub9e8 \uc774\uc57c\uae30 \ubbf8\uc6a9\n",
        "\ubc30\ud2b8\ub9e8 \uc774\uc57c\uae30"
       ]
      },
      {
       "output_type": "stream",
       "stream": "stdout",
       "text": [
        " \uc74c\uc545\n",
        "\ubc30\ud2b8\ub9e8 \uc774\uc57c\uae30 \ub9ac\ubdf0\n",
        "\ubc30\ud2b8\ub9e8 \uc774\uc57c\uae30"
       ]
      },
      {
       "output_type": "stream",
       "stream": "stdout",
       "text": [
        " \uc5f0\uc608\n",
        "\ubc30\ud2b8\ub9e8 \uc774\uc57c\uae30 \uc74c\uc2dd\n",
        "\ubc30\ud2b8\ub9e8 \uc774\uc57c\uae30"
       ]
      },
      {
       "output_type": "stream",
       "stream": "stdout",
       "text": [
        " \uc2a4\ud3ec\uce20\n",
        "\ubc30\ud2b8\ub9e8 \uc774\uc57c\uae30"
       ]
      },
      {
       "output_type": "stream",
       "stream": "stdout",
       "text": [
        " \uac8c\uc784\n",
        "\ubc30\ud2b8\ub9e8 \uc774\uc57c\uae30 \uac74\uac15\n",
        "\ubc30\ud2b8\ub9e8 \uc774\uc57c\uae30"
       ]
      },
      {
       "output_type": "stream",
       "stream": "stdout",
       "text": [
        " \ud559\uc2b5\n",
        "\ubc30\ud2b8\ub9e8 \uc774\uc57c\uae30 \ucee4\ubba4\ub2c8\ud2f0\n",
        "Camera widget GO Weather EX"
       ]
      },
      {
       "output_type": "stream",
       "stream": "stdout",
       "text": [
        " \ubbf8\uc6a9\n",
        "Camera widget GO Weather EX"
       ]
      },
      {
       "output_type": "stream",
       "stream": "stdout",
       "text": [
        " \uc74c\uc545\n",
        "Camera widget GO Weather EX"
       ]
      },
      {
       "output_type": "stream",
       "stream": "stdout",
       "text": [
        " \ub9ac\ubdf0\n",
        "Camera widget GO Weather EX"
       ]
      },
      {
       "output_type": "stream",
       "stream": "stdout",
       "text": [
        " \uc5f0\uc608\n",
        "Camera widget GO Weather EX"
       ]
      },
      {
       "output_type": "stream",
       "stream": "stdout",
       "text": [
        " \uc74c\uc2dd\n",
        "Camera widget GO Weather EX"
       ]
      },
      {
       "output_type": "stream",
       "stream": "stdout",
       "text": [
        " \uc2a4\ud3ec\uce20\n",
        "Camera widget GO Weather EX"
       ]
      },
      {
       "output_type": "stream",
       "stream": "stdout",
       "text": [
        " \uac8c\uc784\n",
        "Camera widget GO Weather EX \uac74\uac15\n",
        "Camera widget GO Weather EX"
       ]
      },
      {
       "output_type": "stream",
       "stream": "stdout",
       "text": [
        " \ud559\uc2b5\n",
        "Camera widget GO Weather EX \ucee4\ubba4\ub2c8\ud2f0\n",
        "\uc815\ubcf4\uc9c0\ud0b4\uc774 (SOM)"
       ]
      },
      {
       "output_type": "stream",
       "stream": "stdout",
       "text": [
        " \ubbf8\uc6a9\n",
        "\uc815\ubcf4\uc9c0\ud0b4\uc774 (SOM) \uc74c\uc545\n",
        "\uc815\ubcf4\uc9c0\ud0b4\uc774 (SOM)"
       ]
      },
      {
       "output_type": "stream",
       "stream": "stdout",
       "text": [
        " \ub9ac\ubdf0\n",
        "\uc815\ubcf4\uc9c0\ud0b4\uc774 (SOM)"
       ]
      },
      {
       "output_type": "stream",
       "stream": "stdout",
       "text": [
        " \uc5f0\uc608\n",
        "\uc815\ubcf4\uc9c0\ud0b4\uc774 (SOM) \uc74c\uc2dd\n",
        "\uc815\ubcf4\uc9c0\ud0b4\uc774 (SOM)"
       ]
      },
      {
       "output_type": "stream",
       "stream": "stdout",
       "text": [
        " \uc2a4\ud3ec\uce20\n",
        "\uc815\ubcf4\uc9c0\ud0b4\uc774 (SOM) \uac8c\uc784\n",
        "\uc815\ubcf4\uc9c0\ud0b4\uc774 (SOM)"
       ]
      },
      {
       "output_type": "stream",
       "stream": "stdout",
       "text": [
        " \uac74\uac15\n",
        "\uc815\ubcf4\uc9c0\ud0b4\uc774 (SOM)"
       ]
      },
      {
       "output_type": "stream",
       "stream": "stdout",
       "text": [
        " \ud559\uc2b5\n",
        "\uc815\ubcf4\uc9c0\ud0b4\uc774 (SOM) \ucee4\ubba4\ub2c8\ud2f0\n",
        "Beautylish: Makeup Beauty Tips"
       ]
      },
      {
       "output_type": "stream",
       "stream": "stdout",
       "text": [
        " \ubbf8\uc6a9\n",
        "Beautylish: Makeup Beauty Tips \uc74c\uc545\n",
        "Beautylish: Makeup Beauty Tips"
       ]
      },
      {
       "output_type": "stream",
       "stream": "stdout",
       "text": [
        " \ub9ac\ubdf0\n",
        "Beautylish: Makeup Beauty Tips \uc5f0\uc608\n",
        "Beautylish: Makeup Beauty Tips"
       ]
      },
      {
       "output_type": "stream",
       "stream": "stdout",
       "text": [
        " \uc74c\uc2dd\n",
        "Beautylish: Makeup Beauty Tips \uc2a4\ud3ec\uce20\n",
        "Beautylish: Makeup Beauty Tips"
       ]
      },
      {
       "output_type": "stream",
       "stream": "stdout",
       "text": [
        " \uac8c\uc784\n",
        "Beautylish: Makeup Beauty Tips \uac74\uac15\n",
        "Beautylish: Makeup Beauty Tips"
       ]
      },
      {
       "output_type": "stream",
       "stream": "stdout",
       "text": [
        " \ud559\uc2b5\n",
        "Beautylish: Makeup Beauty Tips \ucee4\ubba4\ub2c8\ud2f0\n",
        "\ubcf4\uc11d \uac8c\uc784"
       ]
      },
      {
       "output_type": "stream",
       "stream": "stdout",
       "text": [
        " \ubbf8\uc6a9\n",
        "\ubcf4\uc11d \uac8c\uc784"
       ]
      },
      {
       "output_type": "stream",
       "stream": "stdout",
       "text": [
        " \uc74c\uc545\n",
        "\ubcf4\uc11d \uac8c\uc784 \ub9ac\ubdf0\n",
        "\ubcf4\uc11d \uac8c\uc784"
       ]
      },
      {
       "output_type": "stream",
       "stream": "stdout",
       "text": [
        " \uc5f0\uc608\n",
        "\ubcf4\uc11d \uac8c\uc784"
       ]
      },
      {
       "output_type": "stream",
       "stream": "stdout",
       "text": [
        " \uc74c\uc2dd\n",
        "\ubcf4\uc11d \uac8c\uc784 \uc2a4\ud3ec\uce20\n",
        "\ubcf4\uc11d \uac8c\uc784"
       ]
      },
      {
       "output_type": "stream",
       "stream": "stdout",
       "text": [
        " \uac8c\uc784\n",
        "\ubcf4\uc11d \uac8c\uc784"
       ]
      },
      {
       "output_type": "stream",
       "stream": "stdout",
       "text": [
        " \uac74\uac15\n",
        "\ubcf4\uc11d \uac8c\uc784"
       ]
      },
      {
       "output_type": "stream",
       "stream": "stdout",
       "text": [
        " \ud559\uc2b5\n",
        "\ubcf4\uc11d \uac8c\uc784 \ucee4\ubba4\ub2c8\ud2f0\n",
        "Daily Perks"
       ]
      },
      {
       "output_type": "stream",
       "stream": "stdout",
       "text": [
        " \ubbf8\uc6a9\n",
        "Daily Perks \uc74c\uc545\n",
        "Daily Perks"
       ]
      },
      {
       "output_type": "stream",
       "stream": "stdout",
       "text": [
        " \ub9ac\ubdf0\n",
        "Daily Perks \uc5f0\uc608\n",
        "Daily Perks"
       ]
      },
      {
       "output_type": "stream",
       "stream": "stdout",
       "text": [
        " \uc74c\uc2dd\n",
        "Daily Perks"
       ]
      },
      {
       "output_type": "stream",
       "stream": "stdout",
       "text": [
        " \uc2a4\ud3ec\uce20\n",
        "Daily Perks \uac8c\uc784\n",
        "Daily Perks"
       ]
      },
      {
       "output_type": "stream",
       "stream": "stdout",
       "text": [
        " \uac74\uac15\n",
        "Daily Perks"
       ]
      },
      {
       "output_type": "stream",
       "stream": "stdout",
       "text": [
        " \ud559\uc2b5\n",
        "Daily Perks \ucee4\ubba4\ub2c8\ud2f0\n",
        "Dai Cazzo"
       ]
      },
      {
       "output_type": "stream",
       "stream": "stdout",
       "text": [
        " \ubbf8\uc6a9\n",
        "Dai Cazzo \uc74c\uc545\n",
        "Dai Cazzo"
       ]
      },
      {
       "output_type": "stream",
       "stream": "stdout",
       "text": [
        " \ub9ac\ubdf0\n",
        "Dai Cazzo \uc5f0\uc608\n",
        "Dai Cazzo"
       ]
      },
      {
       "output_type": "stream",
       "stream": "stdout",
       "text": [
        " \uc74c\uc2dd\n",
        "Dai Cazzo \uc2a4\ud3ec\uce20\n",
        "Dai Cazzo"
       ]
      },
      {
       "output_type": "stream",
       "stream": "stdout",
       "text": [
        " \uac8c\uc784\n",
        "Dai Cazzo"
       ]
      },
      {
       "output_type": "stream",
       "stream": "stdout",
       "text": [
        " \uac74\uac15\n",
        "Dai Cazzo \ud559\uc2b5\n",
        "Dai Cazzo"
       ]
      },
      {
       "output_type": "stream",
       "stream": "stdout",
       "text": [
        " \ucee4\ubba4\ub2c8\ud2f0\n",
        "World War II raid \ubbf8\uc6a9\n",
        "World War II raid"
       ]
      },
      {
       "output_type": "stream",
       "stream": "stdout",
       "text": [
        " \uc74c\uc545\n",
        "World War II raid"
       ]
      },
      {
       "output_type": "stream",
       "stream": "stdout",
       "text": [
        " \ub9ac\ubdf0\n",
        "World War II raid \uc5f0\uc608\n",
        "World War II raid"
       ]
      },
      {
       "output_type": "stream",
       "stream": "stdout",
       "text": [
        " \uc74c\uc2dd\n",
        "World War II raid \uc2a4\ud3ec\uce20\n",
        "World War II raid"
       ]
      },
      {
       "output_type": "stream",
       "stream": "stdout",
       "text": [
        " \uac8c\uc784\n",
        "World War II raid \uac74\uac15\n",
        "World War II raid"
       ]
      },
      {
       "output_type": "stream",
       "stream": "stdout",
       "text": [
        " \ud559\uc2b5\n",
        "World War II raid"
       ]
      },
      {
       "output_type": "stream",
       "stream": "stdout",
       "text": [
        " \ucee4\ubba4\ub2c8\ud2f0\n",
        "Make Your Cake"
       ]
      },
      {
       "output_type": "stream",
       "stream": "stdout",
       "text": [
        " \ubbf8\uc6a9\n",
        "Make Your Cake \uc74c\uc545\n",
        "Make Your Cake"
       ]
      },
      {
       "output_type": "stream",
       "stream": "stdout",
       "text": [
        " \ub9ac\ubdf0\n",
        "Make Your Cake \uc5f0\uc608\n",
        "Make Your Cake"
       ]
      },
      {
       "output_type": "stream",
       "stream": "stdout",
       "text": [
        " \uc74c\uc2dd\n",
        "Make Your Cake \uc2a4\ud3ec\uce20\n",
        "Make Your Cake"
       ]
      },
      {
       "output_type": "stream",
       "stream": "stdout",
       "text": [
        " \uac8c\uc784\n",
        "Make Your Cake"
       ]
      },
      {
       "output_type": "stream",
       "stream": "stdout",
       "text": [
        " \uac74\uac15\n",
        "Make Your Cake \ud559\uc2b5\n",
        "Make Your Cake"
       ]
      },
      {
       "output_type": "stream",
       "stream": "stdout",
       "text": [
        " \ucee4\ubba4\ub2c8\ud2f0\n",
        "\uadc0\uc5ec\uc6b4 \uc5d4\uc824 - \ucc28\uc774 \ucc3e\uae30 \ubbf8\uc6a9\n",
        "\uadc0\uc5ec\uc6b4 \uc5d4\uc824 - \ucc28\uc774 \ucc3e\uae30"
       ]
      },
      {
       "output_type": "stream",
       "stream": "stdout",
       "text": [
        " \uc74c\uc545\n",
        "\uadc0\uc5ec\uc6b4 \uc5d4\uc824 - \ucc28\uc774 \ucc3e\uae30 \ub9ac\ubdf0\n",
        "\uadc0\uc5ec\uc6b4 \uc5d4\uc824 - \ucc28\uc774 \ucc3e\uae30"
       ]
      },
      {
       "output_type": "stream",
       "stream": "stdout",
       "text": [
        " \uc5f0\uc608\n",
        "\uadc0\uc5ec\uc6b4 \uc5d4\uc824 - \ucc28\uc774 \ucc3e\uae30 \uc74c\uc2dd\n",
        "\uadc0\uc5ec\uc6b4 \uc5d4\uc824 - \ucc28\uc774 \ucc3e\uae30"
       ]
      },
      {
       "output_type": "stream",
       "stream": "stdout",
       "text": [
        " \uc2a4\ud3ec\uce20\n",
        "\uadc0\uc5ec\uc6b4 \uc5d4\uc824 - \ucc28\uc774 \ucc3e\uae30 \uac8c\uc784\n",
        "\uadc0\uc5ec\uc6b4 \uc5d4\uc824 - \ucc28\uc774 \ucc3e\uae30"
       ]
      },
      {
       "output_type": "stream",
       "stream": "stdout",
       "text": [
        " \uac74\uac15\n",
        "\uadc0\uc5ec\uc6b4 \uc5d4\uc824 - \ucc28\uc774 \ucc3e\uae30 \ud559\uc2b5\n",
        "\uadc0\uc5ec\uc6b4 \uc5d4\uc824 - \ucc28\uc774 \ucc3e\uae30"
       ]
      },
      {
       "output_type": "stream",
       "stream": "stdout",
       "text": [
        " \ucee4\ubba4\ub2c8\ud2f0\n",
        "\u82f1\u6f22\u5b57\u5178 EC Dictionary"
       ]
      },
      {
       "output_type": "stream",
       "stream": "stdout",
       "text": [
        " \ubbf8\uc6a9\n",
        "\u82f1\u6f22\u5b57\u5178 EC Dictionary \uc74c\uc545\n",
        "\u82f1\u6f22\u5b57\u5178 EC Dictionary"
       ]
      },
      {
       "output_type": "stream",
       "stream": "stdout",
       "text": [
        " \ub9ac\ubdf0\n",
        "\u82f1\u6f22\u5b57\u5178 EC Dictionary \uc5f0\uc608\n",
        "\u82f1\u6f22\u5b57\u5178 EC Dictionary"
       ]
      },
      {
       "output_type": "stream",
       "stream": "stdout",
       "text": [
        " \uc74c\uc2dd\n",
        "\u82f1\u6f22\u5b57\u5178 EC Dictionary \uc2a4\ud3ec\uce20\n",
        "\u82f1\u6f22\u5b57\u5178 EC Dictionary"
       ]
      },
      {
       "output_type": "stream",
       "stream": "stdout",
       "text": [
        " \uac8c\uc784\n",
        "\u82f1\u6f22\u5b57\u5178 EC Dictionary \uac74\uac15\n",
        "\u82f1\u6f22\u5b57\u5178 EC Dictionary"
       ]
      },
      {
       "output_type": "stream",
       "stream": "stdout",
       "text": [
        " \ud559\uc2b5\n",
        "\u82f1\u6f22\u5b57\u5178 EC Dictionary \ucee4\ubba4\ub2c8\ud2f0\n",
        "Sniper Battle"
       ]
      },
      {
       "output_type": "stream",
       "stream": "stdout",
       "text": [
        " \ubbf8\uc6a9\n",
        "Sniper Battle"
       ]
      },
      {
       "output_type": "stream",
       "stream": "stdout",
       "text": [
        " \uc74c\uc545\n",
        "Sniper Battle \ub9ac\ubdf0\n",
        "Sniper Battle"
       ]
      },
      {
       "output_type": "stream",
       "stream": "stdout",
       "text": [
        " \uc5f0\uc608\n",
        "Sniper Battle \uc74c\uc2dd\n",
        "Sniper Battle"
       ]
      },
      {
       "output_type": "stream",
       "stream": "stdout",
       "text": [
        " \uc2a4\ud3ec\uce20\n",
        "Sniper Battle \uac8c\uc784\n",
        "Sniper Battle"
       ]
      },
      {
       "output_type": "stream",
       "stream": "stdout",
       "text": [
        " \uac74\uac15\n",
        "Sniper Battle \ud559\uc2b5\n",
        "Sniper Battle"
       ]
      },
      {
       "output_type": "stream",
       "stream": "stdout",
       "text": [
        " \ucee4\ubba4\ub2c8\ud2f0\n",
        "\ud48d\uc120 \ud0c0\uc6cc \ubc29\uc5b4 \uc804\ud22c \ubbf8\uc6a9\n",
        "\ud48d\uc120 \ud0c0\uc6cc \ubc29\uc5b4 \uc804\ud22c"
       ]
      },
      {
       "output_type": "stream",
       "stream": "stdout",
       "text": [
        " \uc74c\uc545\n",
        "\ud48d\uc120 \ud0c0\uc6cc \ubc29\uc5b4 \uc804\ud22c \ub9ac\ubdf0\n",
        "\ud48d\uc120 \ud0c0\uc6cc \ubc29\uc5b4 \uc804\ud22c"
       ]
      },
      {
       "output_type": "stream",
       "stream": "stdout",
       "text": [
        " \uc5f0\uc608\n",
        "\ud48d\uc120 \ud0c0\uc6cc \ubc29\uc5b4 \uc804\ud22c \uc74c\uc2dd\n",
        "\ud48d\uc120 \ud0c0\uc6cc \ubc29\uc5b4 \uc804\ud22c"
       ]
      },
      {
       "output_type": "stream",
       "stream": "stdout",
       "text": [
        " \uc2a4\ud3ec\uce20\n",
        "\ud48d\uc120 \ud0c0\uc6cc \ubc29\uc5b4 \uc804\ud22c \uac8c\uc784\n",
        "\ud48d\uc120 \ud0c0\uc6cc \ubc29\uc5b4 \uc804\ud22c"
       ]
      },
      {
       "output_type": "stream",
       "stream": "stdout",
       "text": [
        " \uac74\uac15\n",
        "\ud48d\uc120 \ud0c0\uc6cc \ubc29\uc5b4 \uc804\ud22c \ud559\uc2b5\n",
        "\ud48d\uc120 \ud0c0\uc6cc \ubc29\uc5b4 \uc804\ud22c"
       ]
      },
      {
       "output_type": "stream",
       "stream": "stdout",
       "text": [
        " \ucee4\ubba4\ub2c8\ud2f0\n",
        "Angela Dress Up \ubbf8\uc6a9\n",
        "Angela Dress Up"
       ]
      },
      {
       "output_type": "stream",
       "stream": "stdout",
       "text": [
        " \uc74c\uc545\n",
        "Angela Dress Up \ub9ac\ubdf0\n",
        "Angela Dress Up"
       ]
      },
      {
       "output_type": "stream",
       "stream": "stdout",
       "text": [
        " \uc5f0\uc608\n",
        "Angela Dress Up"
       ]
      },
      {
       "output_type": "stream",
       "stream": "stdout",
       "text": [
        " \uc74c\uc2dd\n",
        "Angela Dress Up \uc2a4\ud3ec\uce20\n",
        "Angela Dress Up"
       ]
      },
      {
       "output_type": "stream",
       "stream": "stdout",
       "text": [
        " \uac8c\uc784\n",
        "Angela Dress Up \uac74\uac15\n",
        "Angela Dress Up"
       ]
      },
      {
       "output_type": "stream",
       "stream": "stdout",
       "text": [
        " \ud559\uc2b5\n",
        "Angela Dress Up \ucee4\ubba4\ub2c8\ud2f0\n",
        "\u7f8e\u56e2\u56e2\u8d2d\uff08\u56e2\u8d2d\u5fc5\u5907)"
       ]
      },
      {
       "output_type": "stream",
       "stream": "stdout",
       "text": [
        " \ubbf8\uc6a9\n",
        "\u7f8e\u56e2\u56e2\u8d2d\uff08\u56e2\u8d2d\u5fc5\u5907)"
       ]
      },
      {
       "output_type": "stream",
       "stream": "stdout",
       "text": [
        " \uc74c\uc545\n",
        "\u7f8e\u56e2\u56e2\u8d2d\uff08\u56e2\u8d2d\u5fc5\u5907)"
       ]
      },
      {
       "output_type": "stream",
       "stream": "stdout",
       "text": [
        " \ub9ac\ubdf0\n",
        "\u7f8e\u56e2\u56e2\u8d2d\uff08\u56e2\u8d2d\u5fc5\u5907)"
       ]
      },
      {
       "output_type": "stream",
       "stream": "stdout",
       "text": [
        " \uc5f0\uc608\n",
        "\u7f8e\u56e2\u56e2\u8d2d\uff08\u56e2\u8d2d\u5fc5\u5907) \uc74c\uc2dd\n",
        "\u7f8e\u56e2\u56e2\u8d2d\uff08\u56e2\u8d2d\u5fc5\u5907)"
       ]
      },
      {
       "output_type": "stream",
       "stream": "stdout",
       "text": [
        " \uc2a4\ud3ec\uce20\n",
        "\u7f8e\u56e2\u56e2\u8d2d\uff08\u56e2\u8d2d\u5fc5\u5907) \uac8c\uc784\n",
        "\u7f8e\u56e2\u56e2\u8d2d\uff08\u56e2\u8d2d\u5fc5\u5907)"
       ]
      },
      {
       "output_type": "stream",
       "stream": "stdout",
       "text": [
        " \uac74\uac15\n",
        "\u7f8e\u56e2\u56e2\u8d2d\uff08\u56e2\u8d2d\u5fc5\u5907)"
       ]
      },
      {
       "output_type": "stream",
       "stream": "stdout",
       "text": [
        " \ud559\uc2b5\n",
        "\u7f8e\u56e2\u56e2\u8d2d\uff08\u56e2\u8d2d\u5fc5\u5907) \ucee4\ubba4\ub2c8\ud2f0\n",
        "\uc6b0\ub9ac\uc740\ud589 \uc6d0\ud130\uce58 \uc6d4\ub4dc"
       ]
      },
      {
       "output_type": "stream",
       "stream": "stdout",
       "text": [
        " \ubbf8\uc6a9\n",
        "\uc6b0\ub9ac\uc740\ud589 \uc6d0\ud130\uce58 \uc6d4\ub4dc \uc74c\uc545\n",
        "\uc6b0\ub9ac\uc740\ud589 \uc6d0\ud130\uce58 \uc6d4\ub4dc"
       ]
      },
      {
       "output_type": "stream",
       "stream": "stdout",
       "text": [
        " \ub9ac\ubdf0\n",
        "\uc6b0\ub9ac\uc740\ud589 \uc6d0\ud130\uce58 \uc6d4\ub4dc"
       ]
      },
      {
       "output_type": "stream",
       "stream": "stdout",
       "text": [
        " \uc5f0\uc608\n",
        "\uc6b0\ub9ac\uc740\ud589 \uc6d0\ud130\uce58 \uc6d4\ub4dc"
       ]
      },
      {
       "output_type": "stream",
       "stream": "stdout",
       "text": [
        " \uc74c\uc2dd\n",
        "\uc6b0\ub9ac\uc740\ud589 \uc6d0\ud130\uce58 \uc6d4\ub4dc"
       ]
      },
      {
       "output_type": "stream",
       "stream": "stdout",
       "text": [
        " \uc2a4\ud3ec\uce20\n",
        "\uc6b0\ub9ac\uc740\ud589 \uc6d0\ud130\uce58 \uc6d4\ub4dc \uac8c\uc784\n",
        "\uc6b0\ub9ac\uc740\ud589 \uc6d0\ud130\uce58 \uc6d4\ub4dc"
       ]
      },
      {
       "output_type": "stream",
       "stream": "stdout",
       "text": [
        " \uac74\uac15\n",
        "\uc6b0\ub9ac\uc740\ud589 \uc6d0\ud130\uce58 \uc6d4\ub4dc"
       ]
      },
      {
       "output_type": "stream",
       "stream": "stdout",
       "text": [
        " \ud559\uc2b5\n",
        "\uc6b0\ub9ac\uc740\ud589 \uc6d0\ud130\uce58 \uc6d4\ub4dc"
       ]
      },
      {
       "output_type": "stream",
       "stream": "stdout",
       "text": [
        " \ucee4\ubba4\ub2c8\ud2f0\n",
        "Ant Raid"
       ]
      },
      {
       "output_type": "stream",
       "stream": "stdout",
       "text": [
        " \ubbf8\uc6a9\n",
        "Ant Raid \uc74c\uc545\n",
        "Ant Raid"
       ]
      },
      {
       "output_type": "stream",
       "stream": "stdout",
       "text": [
        " \ub9ac\ubdf0\n",
        "Ant Raid \uc5f0\uc608\n",
        "Ant Raid"
       ]
      },
      {
       "output_type": "stream",
       "stream": "stdout",
       "text": [
        " \uc74c\uc2dd\n",
        "Ant Raid \uc2a4\ud3ec\uce20\n",
        "Ant Raid"
       ]
      },
      {
       "output_type": "stream",
       "stream": "stdout",
       "text": [
        " \uac8c\uc784\n",
        "Ant Raid"
       ]
      },
      {
       "output_type": "stream",
       "stream": "stdout",
       "text": [
        " \uac74\uac15\n",
        "Ant Raid"
       ]
      },
      {
       "output_type": "stream",
       "stream": "stdout",
       "text": [
        " \ud559\uc2b5\n",
        "Ant Raid"
       ]
      },
      {
       "output_type": "stream",
       "stream": "stdout",
       "text": [
        " \ucee4\ubba4\ub2c8\ud2f0\n",
        "Meteor - Meteoradar"
       ]
      },
      {
       "output_type": "stream",
       "stream": "stdout",
       "text": [
        " \ubbf8\uc6a9\n",
        "Meteor - Meteoradar \uc74c\uc545\n",
        "Meteor - Meteoradar"
       ]
      },
      {
       "output_type": "stream",
       "stream": "stdout",
       "text": [
        " \ub9ac\ubdf0\n",
        "Meteor - Meteoradar"
       ]
      },
      {
       "output_type": "stream",
       "stream": "stdout",
       "text": [
        " \uc5f0\uc608\n",
        "Meteor - Meteoradar"
       ]
      },
      {
       "output_type": "stream",
       "stream": "stdout",
       "text": [
        " \uc74c\uc2dd\n",
        "Meteor - Meteoradar"
       ]
      },
      {
       "output_type": "stream",
       "stream": "stdout",
       "text": [
        " \uc2a4\ud3ec\uce20\n",
        "Meteor - Meteoradar"
       ]
      },
      {
       "output_type": "stream",
       "stream": "stdout",
       "text": [
        " \uac8c\uc784\n",
        "Meteor - Meteoradar"
       ]
      },
      {
       "output_type": "stream",
       "stream": "stdout",
       "text": [
        " \uac74\uac15\n",
        "Meteor - Meteoradar"
       ]
      },
      {
       "output_type": "stream",
       "stream": "stdout",
       "text": [
        " \ud559\uc2b5\n",
        "Meteor - Meteoradar \ucee4\ubba4\ub2c8\ud2f0\n",
        "Little Crane"
       ]
      },
      {
       "output_type": "stream",
       "stream": "stdout",
       "text": [
        " \ubbf8\uc6a9\n",
        "Little Crane \uc74c\uc545\n",
        "Little Crane"
       ]
      },
      {
       "output_type": "stream",
       "stream": "stdout",
       "text": [
        " \ub9ac\ubdf0\n",
        "Little Crane \uc5f0\uc608\n",
        "Little Crane"
       ]
      },
      {
       "output_type": "stream",
       "stream": "stdout",
       "text": [
        " \uc74c\uc2dd\n",
        "Little Crane \uc2a4\ud3ec\uce20\n",
        "Little Crane"
       ]
      },
      {
       "output_type": "stream",
       "stream": "stdout",
       "text": [
        " \uac8c\uc784\n",
        "Little Crane \uac74\uac15\n",
        "Little Crane"
       ]
      },
      {
       "output_type": "stream",
       "stream": "stdout",
       "text": [
        " \ud559\uc2b5\n",
        "Little Crane"
       ]
      },
      {
       "output_type": "stream",
       "stream": "stdout",
       "text": [
        " \ucee4\ubba4\ub2c8\ud2f0\n",
        "\uc324\uc324\ub9c8\ud2b8 \ubbf8\uc6a9\n",
        "\uc324\uc324\ub9c8\ud2b8"
       ]
      },
      {
       "output_type": "stream",
       "stream": "stdout",
       "text": [
        " \uc74c\uc545\n",
        "\uc324\uc324\ub9c8\ud2b8"
       ]
      },
      {
       "output_type": "stream",
       "stream": "stdout",
       "text": [
        " \ub9ac\ubdf0\n",
        "\uc324\uc324\ub9c8\ud2b8 \uc5f0\uc608\n",
        "\uc324\uc324\ub9c8\ud2b8"
       ]
      },
      {
       "output_type": "stream",
       "stream": "stdout",
       "text": [
        " \uc74c\uc2dd\n",
        "\uc324\uc324\ub9c8\ud2b8 \uc2a4\ud3ec\uce20\n",
        "\uc324\uc324\ub9c8\ud2b8"
       ]
      },
      {
       "output_type": "stream",
       "stream": "stdout",
       "text": [
        " \uac8c\uc784\n",
        "\uc324\uc324\ub9c8\ud2b8 \uac74\uac15\n",
        "\uc324\uc324\ub9c8\ud2b8"
       ]
      },
      {
       "output_type": "stream",
       "stream": "stdout",
       "text": [
        " \ud559\uc2b5\n",
        "\uc324\uc324\ub9c8\ud2b8 \ucee4\ubba4\ub2c8\ud2f0\n",
        "\uc139\uc2dc\ud55c \ubbf8\ub4dc \ub098\uc774\ud2b8 \ud480\uc774"
       ]
      },
      {
       "output_type": "stream",
       "stream": "stdout",
       "text": [
        " \ubbf8\uc6a9\n",
        "\uc139\uc2dc\ud55c \ubbf8\ub4dc \ub098\uc774\ud2b8 \ud480\uc774"
       ]
      },
      {
       "output_type": "stream",
       "stream": "stdout",
       "text": [
        " \uc74c\uc545\n",
        "\uc139\uc2dc\ud55c \ubbf8\ub4dc \ub098\uc774\ud2b8 \ud480\uc774 \ub9ac\ubdf0\n",
        "\uc139\uc2dc\ud55c \ubbf8\ub4dc \ub098\uc774\ud2b8 \ud480\uc774"
       ]
      },
      {
       "output_type": "stream",
       "stream": "stdout",
       "text": [
        " \uc5f0\uc608\n",
        "\uc139\uc2dc\ud55c \ubbf8\ub4dc \ub098\uc774\ud2b8 \ud480\uc774 \uc74c\uc2dd\n",
        "\uc139\uc2dc\ud55c \ubbf8\ub4dc \ub098\uc774\ud2b8 \ud480\uc774"
       ]
      },
      {
       "output_type": "stream",
       "stream": "stdout",
       "text": [
        " \uc2a4\ud3ec\uce20\n",
        "\uc139\uc2dc\ud55c \ubbf8\ub4dc \ub098\uc774\ud2b8 \ud480\uc774"
       ]
      },
      {
       "output_type": "stream",
       "stream": "stdout",
       "text": [
        " \uac8c\uc784\n",
        "\uc139\uc2dc\ud55c \ubbf8\ub4dc \ub098\uc774\ud2b8 \ud480\uc774 \uac74\uac15\n",
        "\uc139\uc2dc\ud55c \ubbf8\ub4dc \ub098\uc774\ud2b8 \ud480\uc774"
       ]
      },
      {
       "output_type": "stream",
       "stream": "stdout",
       "text": [
        " \ud559\uc2b5\n",
        "\uc139\uc2dc\ud55c \ubbf8\ub4dc \ub098\uc774\ud2b8 \ud480\uc774 \ucee4\ubba4\ub2c8\ud2f0\n",
        "\ud074\ub798\uc2dd \ubc84\ube14 \ucd2c\uc601"
       ]
      },
      {
       "output_type": "stream",
       "stream": "stdout",
       "text": [
        " \ubbf8\uc6a9\n",
        "\ud074\ub798\uc2dd \ubc84\ube14 \ucd2c\uc601"
       ]
      },
      {
       "output_type": "stream",
       "stream": "stdout",
       "text": [
        " \uc74c\uc545\n",
        "\ud074\ub798\uc2dd \ubc84\ube14 \ucd2c\uc601 \ub9ac\ubdf0\n",
        "\ud074\ub798\uc2dd \ubc84\ube14 \ucd2c\uc601"
       ]
      },
      {
       "output_type": "stream",
       "stream": "stdout",
       "text": [
        " \uc5f0\uc608\n",
        "\ud074\ub798\uc2dd \ubc84\ube14 \ucd2c\uc601 \uc74c\uc2dd\n",
        "\ud074\ub798\uc2dd \ubc84\ube14 \ucd2c\uc601"
       ]
      },
      {
       "output_type": "stream",
       "stream": "stdout",
       "text": [
        " \uc2a4\ud3ec\uce20\n",
        "\ud074\ub798\uc2dd \ubc84\ube14 \ucd2c\uc601"
       ]
      },
      {
       "output_type": "stream",
       "stream": "stdout",
       "text": [
        " \uac8c\uc784\n",
        "\ud074\ub798\uc2dd \ubc84\ube14 \ucd2c\uc601 \uac74\uac15\n",
        "\ud074\ub798\uc2dd \ubc84\ube14 \ucd2c\uc601"
       ]
      },
      {
       "output_type": "stream",
       "stream": "stdout",
       "text": [
        " \ud559\uc2b5\n",
        "\ud074\ub798\uc2dd \ubc84\ube14 \ucd2c\uc601 \ucee4\ubba4\ub2c8\ud2f0\n",
        "Old School Dialer"
       ]
      },
      {
       "output_type": "stream",
       "stream": "stdout",
       "text": [
        " \ubbf8\uc6a9\n",
        "Old School Dialer \uc74c\uc545\n",
        "Old School Dialer"
       ]
      },
      {
       "output_type": "stream",
       "stream": "stdout",
       "text": [
        " \ub9ac\ubdf0\n",
        "Old School Dialer \uc5f0\uc608\n",
        "Old School Dialer"
       ]
      },
      {
       "output_type": "stream",
       "stream": "stdout",
       "text": [
        " \uc74c\uc2dd\n",
        "Old School Dialer \uc2a4\ud3ec\uce20\n",
        "Old School Dialer"
       ]
      },
      {
       "output_type": "stream",
       "stream": "stdout",
       "text": [
        " \uac8c\uc784\n",
        "Old School Dialer"
       ]
      },
      {
       "output_type": "stream",
       "stream": "stdout",
       "text": [
        " \uac74\uac15\n",
        "Old School Dialer"
       ]
      },
      {
       "output_type": "stream",
       "stream": "stdout",
       "text": [
        " \ud559\uc2b5\n",
        "Old School Dialer"
       ]
      },
      {
       "output_type": "stream",
       "stream": "stdout",
       "text": [
        " \ucee4\ubba4\ub2c8\ud2f0\n",
        "\ub0b4\ubd80 \uc815\uc6d0 (Inner Garden) \ubbf8\uc6a9\n",
        "\ub0b4\ubd80 \uc815\uc6d0 (Inner Garden)"
       ]
      },
      {
       "output_type": "stream",
       "stream": "stdout",
       "text": [
        " \uc74c\uc545\n",
        "\ub0b4\ubd80 \uc815\uc6d0 (Inner Garden)"
       ]
      },
      {
       "output_type": "stream",
       "stream": "stdout",
       "text": [
        " \ub9ac\ubdf0\n",
        "\ub0b4\ubd80 \uc815\uc6d0 (Inner Garden)"
       ]
      },
      {
       "output_type": "stream",
       "stream": "stdout",
       "text": [
        " \uc5f0\uc608\n",
        "\ub0b4\ubd80 \uc815\uc6d0 (Inner Garden) \uc74c\uc2dd\n",
        "\ub0b4\ubd80 \uc815\uc6d0 (Inner Garden)"
       ]
      },
      {
       "output_type": "stream",
       "stream": "stdout",
       "text": [
        " \uc2a4\ud3ec\uce20\n",
        "\ub0b4\ubd80 \uc815\uc6d0 (Inner Garden)"
       ]
      },
      {
       "output_type": "stream",
       "stream": "stdout",
       "text": [
        " \uac8c\uc784\n",
        "\ub0b4\ubd80 \uc815\uc6d0 (Inner Garden)"
       ]
      },
      {
       "output_type": "stream",
       "stream": "stdout",
       "text": [
        " \uac74\uac15\n",
        "\ub0b4\ubd80 \uc815\uc6d0 (Inner Garden) \ud559\uc2b5\n",
        "\ub0b4\ubd80 \uc815\uc6d0 (Inner Garden)"
       ]
      },
      {
       "output_type": "stream",
       "stream": "stdout",
       "text": [
        " \ucee4\ubba4\ub2c8\ud2f0\n",
        "\u96fb\u8996\u79c0 YouTube Taiwan \ubbf8\uc6a9\n",
        "\u96fb\u8996\u79c0 YouTube Taiwan"
       ]
      },
      {
       "output_type": "stream",
       "stream": "stdout",
       "text": [
        " \uc74c\uc545\n",
        "\u96fb\u8996\u79c0 YouTube Taiwan \ub9ac\ubdf0\n",
        "\u96fb\u8996\u79c0 YouTube Taiwan"
       ]
      },
      {
       "output_type": "stream",
       "stream": "stdout",
       "text": [
        " \uc5f0\uc608\n",
        "\u96fb\u8996\u79c0 YouTube Taiwan"
       ]
      },
      {
       "output_type": "stream",
       "stream": "stdout",
       "text": [
        " \uc74c\uc2dd\n",
        "\u96fb\u8996\u79c0 YouTube Taiwan"
       ]
      },
      {
       "output_type": "stream",
       "stream": "stdout",
       "text": [
        " \uc2a4\ud3ec\uce20\n",
        "\u96fb\u8996\u79c0 YouTube Taiwan \uac8c\uc784\n",
        "\u96fb\u8996\u79c0 YouTube Taiwan"
       ]
      },
      {
       "output_type": "stream",
       "stream": "stdout",
       "text": [
        " \uac74\uac15\n",
        "\u96fb\u8996\u79c0 YouTube Taiwan \ud559\uc2b5\n",
        "\u96fb\u8996\u79c0 YouTube Taiwan"
       ]
      },
      {
       "output_type": "stream",
       "stream": "stdout",
       "text": [
        " \ucee4\ubba4\ub2c8\ud2f0\n",
        "HotWheel Highway Drive"
       ]
      },
      {
       "output_type": "stream",
       "stream": "stdout",
       "text": [
        " \ubbf8\uc6a9\n",
        "HotWheel Highway Drive \uc74c\uc545\n",
        "HotWheel Highway Drive"
       ]
      },
      {
       "output_type": "stream",
       "stream": "stdout",
       "text": [
        " \ub9ac\ubdf0\n",
        "HotWheel Highway Drive \uc5f0\uc608\n",
        "HotWheel Highway Drive"
       ]
      },
      {
       "output_type": "stream",
       "stream": "stdout",
       "text": [
        " \uc74c\uc2dd\n",
        "HotWheel Highway Drive \uc2a4\ud3ec\uce20\n",
        "HotWheel Highway Drive"
       ]
      },
      {
       "output_type": "stream",
       "stream": "stdout",
       "text": [
        " \uac8c\uc784\n",
        "HotWheel Highway Drive \uac74\uac15\n",
        "HotWheel Highway Drive"
       ]
      },
      {
       "output_type": "stream",
       "stream": "stdout",
       "text": [
        " \ud559\uc2b5\n",
        "HotWheel Highway Drive \ucee4\ubba4\ub2c8\ud2f0\n",
        "Nyan Cat: Lost Space Race"
       ]
      },
      {
       "output_type": "stream",
       "stream": "stdout",
       "text": [
        " \ubbf8\uc6a9\n",
        "Nyan Cat: Lost Space Race \uc74c\uc545\n",
        "Nyan Cat: Lost Space Race"
       ]
      },
      {
       "output_type": "stream",
       "stream": "stdout",
       "text": [
        " \ub9ac\ubdf0\n",
        "Nyan Cat: Lost Space Race"
       ]
      },
      {
       "output_type": "stream",
       "stream": "stdout",
       "text": [
        " \uc5f0\uc608\n",
        "Nyan Cat: Lost Space Race \uc74c\uc2dd\n",
        "Nyan Cat: Lost Space Race"
       ]
      },
      {
       "output_type": "stream",
       "stream": "stdout",
       "text": [
        " \uc2a4\ud3ec\uce20\n",
        "Nyan Cat: Lost Space Race \uac8c\uc784\n",
        "Nyan Cat: Lost Space Race"
       ]
      },
      {
       "output_type": "stream",
       "stream": "stdout",
       "text": [
        " \uac74\uac15\n",
        "Nyan Cat: Lost Space Race \ud559\uc2b5\n",
        "Nyan Cat: Lost Space Race"
       ]
      },
      {
       "output_type": "stream",
       "stream": "stdout",
       "text": [
        " \ucee4\ubba4\ub2c8\ud2f0\n",
        "NEW\u2665\ud640\ub531\ub9de\uace0\u266519\uae08 \ubbf8\uc6a9\n",
        "NEW\u2665\ud640\ub531\ub9de\uace0\u266519\uae08"
       ]
      },
      {
       "output_type": "stream",
       "stream": "stdout",
       "text": [
        " \uc74c\uc545\n",
        "NEW\u2665\ud640\ub531\ub9de\uace0\u266519\uae08"
       ]
      },
      {
       "output_type": "stream",
       "stream": "stdout",
       "text": [
        " \ub9ac\ubdf0\n",
        "NEW\u2665\ud640\ub531\ub9de\uace0\u266519\uae08"
       ]
      },
      {
       "output_type": "stream",
       "stream": "stdout",
       "text": [
        " \uc5f0\uc608\n",
        "NEW\u2665\ud640\ub531\ub9de\uace0\u266519\uae08"
       ]
      },
      {
       "output_type": "stream",
       "stream": "stdout",
       "text": [
        " \uc74c\uc2dd\n",
        "NEW\u2665\ud640\ub531\ub9de\uace0\u266519\uae08"
       ]
      },
      {
       "output_type": "stream",
       "stream": "stdout",
       "text": [
        " \uc2a4\ud3ec\uce20\n",
        "NEW\u2665\ud640\ub531\ub9de\uace0\u266519\uae08"
       ]
      },
      {
       "output_type": "stream",
       "stream": "stdout",
       "text": [
        " \uac8c\uc784\n",
        "NEW\u2665\ud640\ub531\ub9de\uace0\u266519\uae08"
       ]
      },
      {
       "output_type": "stream",
       "stream": "stdout",
       "text": [
        " \uac74\uac15\n",
        "NEW\u2665\ud640\ub531\ub9de\uace0\u266519\uae08"
       ]
      },
      {
       "output_type": "stream",
       "stream": "stdout",
       "text": [
        " \ud559\uc2b5\n",
        "NEW\u2665\ud640\ub531\ub9de\uace0\u266519\uae08 \ucee4\ubba4\ub2c8\ud2f0\n",
        "\ucd5c\uace0 \uc18d\ub3c4 \ub9d0 : \ubb34\ub8cc"
       ]
      },
      {
       "output_type": "stream",
       "stream": "stdout",
       "text": [
        " \ubbf8\uc6a9\n",
        "\ucd5c\uace0 \uc18d\ub3c4 \ub9d0 : \ubb34\ub8cc \uc74c\uc545\n",
        "\ucd5c\uace0 \uc18d\ub3c4 \ub9d0 : \ubb34\ub8cc"
       ]
      },
      {
       "output_type": "stream",
       "stream": "stdout",
       "text": [
        " \ub9ac\ubdf0\n",
        "\ucd5c\uace0 \uc18d\ub3c4 \ub9d0 : \ubb34\ub8cc \uc5f0\uc608\n",
        "\ucd5c\uace0 \uc18d\ub3c4 \ub9d0 : \ubb34\ub8cc"
       ]
      },
      {
       "output_type": "stream",
       "stream": "stdout",
       "text": [
        " \uc74c\uc2dd\n",
        "\ucd5c\uace0 \uc18d\ub3c4 \ub9d0 : \ubb34\ub8cc"
       ]
      },
      {
       "output_type": "stream",
       "stream": "stdout",
       "text": [
        " \uc2a4\ud3ec\uce20\n",
        "\ucd5c\uace0 \uc18d\ub3c4 \ub9d0 : \ubb34\ub8cc"
       ]
      },
      {
       "output_type": "stream",
       "stream": "stdout",
       "text": [
        " \uac8c\uc784\n",
        "\ucd5c\uace0 \uc18d\ub3c4 \ub9d0 : \ubb34\ub8cc"
       ]
      },
      {
       "output_type": "stream",
       "stream": "stdout",
       "text": [
        " \uac74\uac15\n",
        "\ucd5c\uace0 \uc18d\ub3c4 \ub9d0 : \ubb34\ub8cc"
       ]
      },
      {
       "output_type": "stream",
       "stream": "stdout",
       "text": [
        " \ud559\uc2b5\n",
        "\ucd5c\uace0 \uc18d\ub3c4 \ub9d0 : \ubb34\ub8cc"
       ]
      },
      {
       "output_type": "stream",
       "stream": "stdout",
       "text": [
        " \ucee4\ubba4\ub2c8\ud2f0\n",
        "Gurk II, the 8-bit RPG"
       ]
      },
      {
       "output_type": "stream",
       "stream": "stdout",
       "text": [
        " \ubbf8\uc6a9\n",
        "Gurk II, the 8-bit RPG"
       ]
      },
      {
       "output_type": "stream",
       "stream": "stdout",
       "text": [
        " \uc74c\uc545\n",
        "Gurk II, the 8-bit RPG \ub9ac\ubdf0\n",
        "Gurk II, the 8-bit RPG"
       ]
      },
      {
       "output_type": "stream",
       "stream": "stdout",
       "text": [
        " \uc5f0\uc608\n",
        "Gurk II, the 8-bit RPG \uc74c\uc2dd\n",
        "Gurk II, the 8-bit RPG"
       ]
      },
      {
       "output_type": "stream",
       "stream": "stdout",
       "text": [
        " \uc2a4\ud3ec\uce20\n",
        "Gurk II, the 8-bit RPG"
       ]
      },
      {
       "output_type": "stream",
       "stream": "stdout",
       "text": [
        " \uac8c\uc784\n",
        "Gurk II, the 8-bit RPG \uac74\uac15\n",
        "Gurk II, the 8-bit RPG"
       ]
      },
      {
       "output_type": "stream",
       "stream": "stdout",
       "text": [
        " \ud559\uc2b5\n",
        "Gurk II, the 8-bit RPG \ucee4\ubba4\ub2c8\ud2f0\n",
        "Zombie Age"
       ]
      },
      {
       "output_type": "stream",
       "stream": "stdout",
       "text": [
        " \ubbf8\uc6a9\n",
        "Zombie Age \uc74c\uc545\n",
        "Zombie Age"
       ]
      },
      {
       "output_type": "stream",
       "stream": "stdout",
       "text": [
        " \ub9ac\ubdf0\n",
        "Zombie Age"
       ]
      },
      {
       "output_type": "stream",
       "stream": "stdout",
       "text": [
        " \uc5f0\uc608\n",
        "Zombie Age \uc74c\uc2dd\n",
        "Zombie Age"
       ]
      },
      {
       "output_type": "stream",
       "stream": "stdout",
       "text": [
        " \uc2a4\ud3ec\uce20\n",
        "Zombie Age \uac8c\uc784\n",
        "Zombie Age"
       ]
      },
      {
       "output_type": "stream",
       "stream": "stdout",
       "text": [
        " \uac74\uac15\n",
        "Zombie Age"
       ]
      },
      {
       "output_type": "stream",
       "stream": "stdout",
       "text": [
        " \ud559\uc2b5\n",
        "Zombie Age \ucee4\ubba4\ub2c8\ud2f0\n",
        "\ucd9c\uc870 \ub09a\uc2dc\uad11"
       ]
      },
      {
       "output_type": "stream",
       "stream": "stdout",
       "text": [
        " \ubbf8\uc6a9\n",
        "\ucd9c\uc870 \ub09a\uc2dc\uad11 \uc74c\uc545\n",
        "\ucd9c\uc870 \ub09a\uc2dc\uad11"
       ]
      },
      {
       "output_type": "stream",
       "stream": "stdout",
       "text": [
        " \ub9ac\ubdf0\n",
        "\ucd9c\uc870 \ub09a\uc2dc\uad11 \uc5f0\uc608\n",
        "\ucd9c\uc870 \ub09a\uc2dc\uad11"
       ]
      },
      {
       "output_type": "stream",
       "stream": "stdout",
       "text": [
        " \uc74c\uc2dd\n",
        "\ucd9c\uc870 \ub09a\uc2dc\uad11"
       ]
      },
      {
       "output_type": "stream",
       "stream": "stdout",
       "text": [
        " \uc2a4\ud3ec\uce20\n",
        "\ucd9c\uc870 \ub09a\uc2dc\uad11"
       ]
      },
      {
       "output_type": "stream",
       "stream": "stdout",
       "text": [
        " \uac8c\uc784\n",
        "\ucd9c\uc870 \ub09a\uc2dc\uad11"
       ]
      },
      {
       "output_type": "stream",
       "stream": "stdout",
       "text": [
        " \uac74\uac15\n",
        "\ucd9c\uc870 \ub09a\uc2dc\uad11 \ud559\uc2b5\n",
        "\ucd9c\uc870 \ub09a\uc2dc\uad11"
       ]
      },
      {
       "output_type": "stream",
       "stream": "stdout",
       "text": [
        " \ucee4\ubba4\ub2c8\ud2f0\n",
        "\u2605\ub514\ud39c\uc9c0 2\u2605 \ubbf8\uc6a9\n",
        "\u2605\ub514\ud39c\uc9c0 2\u2605"
       ]
      },
      {
       "output_type": "stream",
       "stream": "stdout",
       "text": [
        " \uc74c\uc545\n",
        "\u2605\ub514\ud39c\uc9c0 2\u2605 \ub9ac\ubdf0\n",
        "\u2605\ub514\ud39c\uc9c0 2\u2605"
       ]
      },
      {
       "output_type": "stream",
       "stream": "stdout",
       "text": [
        " \uc5f0\uc608\n",
        "\u2605\ub514\ud39c\uc9c0 2\u2605 \uc74c\uc2dd\n",
        "\u2605\ub514\ud39c\uc9c0 2\u2605"
       ]
      },
      {
       "output_type": "stream",
       "stream": "stdout",
       "text": [
        " \uc2a4\ud3ec\uce20\n",
        "\u2605\ub514\ud39c\uc9c0 2\u2605"
       ]
      },
      {
       "output_type": "stream",
       "stream": "stdout",
       "text": [
        " \uac8c\uc784\n",
        "\u2605\ub514\ud39c\uc9c0 2\u2605 \uac74\uac15\n",
        "\u2605\ub514\ud39c\uc9c0 2\u2605"
       ]
      },
      {
       "output_type": "stream",
       "stream": "stdout",
       "text": [
        " \ud559\uc2b5\n",
        "\u2605\ub514\ud39c\uc9c0 2\u2605"
       ]
      },
      {
       "output_type": "stream",
       "stream": "stdout",
       "text": [
        " \ucee4\ubba4\ub2c8\ud2f0\n",
        "Kids Animal Preschool Puzzle L"
       ]
      },
      {
       "output_type": "stream",
       "stream": "stdout",
       "text": [
        " \ubbf8\uc6a9\n",
        "Kids Animal Preschool Puzzle L \uc74c\uc545\n",
        "Kids Animal Preschool Puzzle L"
       ]
      },
      {
       "output_type": "stream",
       "stream": "stdout",
       "text": [
        " \ub9ac\ubdf0\n",
        "Kids Animal Preschool Puzzle L"
       ]
      },
      {
       "output_type": "stream",
       "stream": "stdout",
       "text": [
        " \uc5f0\uc608\n",
        "Kids Animal Preschool Puzzle L \uc74c\uc2dd\n",
        "Kids Animal Preschool Puzzle L"
       ]
      },
      {
       "output_type": "stream",
       "stream": "stdout",
       "text": [
        " \uc2a4\ud3ec\uce20\n",
        "Kids Animal Preschool Puzzle L \uac8c\uc784\n",
        "Kids Animal Preschool Puzzle L"
       ]
      },
      {
       "output_type": "stream",
       "stream": "stdout",
       "text": [
        " \uac74\uac15\n",
        "Kids Animal Preschool Puzzle L \ud559\uc2b5\n",
        "Kids Animal Preschool Puzzle L"
       ]
      },
      {
       "output_type": "stream",
       "stream": "stdout",
       "text": [
        " \ucee4\ubba4\ub2c8\ud2f0\n",
        "\ud0f1\ud06c \uc804\uc7c1 \uc601\uc6c5 \uc0ac\ub0e5\uafbc \ubbf8\uc6a9\n",
        "\ud0f1\ud06c \uc804\uc7c1 \uc601\uc6c5 \uc0ac\ub0e5\uafbc"
       ]
      },
      {
       "output_type": "stream",
       "stream": "stdout",
       "text": [
        " \uc74c\uc545\n",
        "\ud0f1\ud06c \uc804\uc7c1 \uc601\uc6c5 \uc0ac\ub0e5\uafbc \ub9ac\ubdf0\n",
        "\ud0f1\ud06c \uc804\uc7c1 \uc601\uc6c5 \uc0ac\ub0e5\uafbc"
       ]
      },
      {
       "output_type": "stream",
       "stream": "stdout",
       "text": [
        " \uc5f0\uc608\n",
        "\ud0f1\ud06c \uc804\uc7c1 \uc601\uc6c5 \uc0ac\ub0e5\uafbc \uc74c\uc2dd\n",
        "\ud0f1\ud06c \uc804\uc7c1 \uc601\uc6c5 \uc0ac\ub0e5\uafbc"
       ]
      },
      {
       "output_type": "stream",
       "stream": "stdout",
       "text": [
        " \uc2a4\ud3ec\uce20\n",
        "\ud0f1\ud06c \uc804\uc7c1 \uc601\uc6c5 \uc0ac\ub0e5\uafbc \uac8c\uc784\n",
        "\ud0f1\ud06c \uc804\uc7c1 \uc601\uc6c5 \uc0ac\ub0e5\uafbc"
       ]
      },
      {
       "output_type": "stream",
       "stream": "stdout",
       "text": [
        " \uac74\uac15\n",
        "\ud0f1\ud06c \uc804\uc7c1 \uc601\uc6c5 \uc0ac\ub0e5\uafbc \ud559\uc2b5\n",
        "\ud0f1\ud06c \uc804\uc7c1 \uc601\uc6c5 \uc0ac\ub0e5\uafbc"
       ]
      },
      {
       "output_type": "stream",
       "stream": "stdout",
       "text": [
        " \ucee4\ubba4\ub2c8\ud2f0\n",
        "ANGRY BOTS 9MB"
       ]
      },
      {
       "output_type": "stream",
       "stream": "stdout",
       "text": [
        " \ubbf8\uc6a9\n",
        "ANGRY BOTS 9MB"
       ]
      },
      {
       "output_type": "stream",
       "stream": "stdout",
       "text": [
        " \uc74c\uc545\n",
        "ANGRY BOTS 9MB"
       ]
      },
      {
       "output_type": "stream",
       "stream": "stdout",
       "text": [
        " \ub9ac\ubdf0\n",
        "ANGRY BOTS 9MB"
       ]
      },
      {
       "output_type": "stream",
       "stream": "stdout",
       "text": [
        " \uc5f0\uc608\n",
        "ANGRY BOTS 9MB \uc74c\uc2dd\n",
        "ANGRY BOTS 9MB"
       ]
      },
      {
       "output_type": "stream",
       "stream": "stdout",
       "text": [
        " \uc2a4\ud3ec\uce20\n",
        "ANGRY BOTS 9MB"
       ]
      },
      {
       "output_type": "stream",
       "stream": "stdout",
       "text": [
        " \uac8c\uc784\n",
        "ANGRY BOTS 9MB"
       ]
      },
      {
       "output_type": "stream",
       "stream": "stdout",
       "text": [
        " \uac74\uac15\n",
        "ANGRY BOTS 9MB"
       ]
      },
      {
       "output_type": "stream",
       "stream": "stdout",
       "text": [
        " \ud559\uc2b5\n",
        "ANGRY BOTS 9MB"
       ]
      },
      {
       "output_type": "stream",
       "stream": "stdout",
       "text": [
        " \ucee4\ubba4\ub2c8\ud2f0\n",
        "\ub85c\uc2a4\ud2b8 \uc544\uc77c\ub79c\ub4dc \ubbf8\uc6a9\n",
        "\ub85c\uc2a4\ud2b8 \uc544\uc77c\ub79c\ub4dc"
       ]
      },
      {
       "output_type": "stream",
       "stream": "stdout",
       "text": [
        " \uc74c\uc545\n",
        "\ub85c\uc2a4\ud2b8 \uc544\uc77c\ub79c\ub4dc"
       ]
      },
      {
       "output_type": "stream",
       "stream": "stdout",
       "text": [
        " \ub9ac\ubdf0\n",
        "\ub85c\uc2a4\ud2b8 \uc544\uc77c\ub79c\ub4dc \uc5f0\uc608\n",
        "\ub85c\uc2a4\ud2b8 \uc544\uc77c\ub79c\ub4dc"
       ]
      },
      {
       "output_type": "stream",
       "stream": "stdout",
       "text": [
        " \uc74c\uc2dd\n",
        "\ub85c\uc2a4\ud2b8 \uc544\uc77c\ub79c\ub4dc \uc2a4\ud3ec\uce20\n",
        "\ub85c\uc2a4\ud2b8 \uc544\uc77c\ub79c\ub4dc"
       ]
      },
      {
       "output_type": "stream",
       "stream": "stdout",
       "text": [
        " \uac8c\uc784\n",
        "\ub85c\uc2a4\ud2b8 \uc544\uc77c\ub79c\ub4dc"
       ]
      },
      {
       "output_type": "stream",
       "stream": "stdout",
       "text": [
        " \uac74\uac15\n",
        "\ub85c\uc2a4\ud2b8 \uc544\uc77c\ub79c\ub4dc"
       ]
      },
      {
       "output_type": "stream",
       "stream": "stdout",
       "text": [
        " \ud559\uc2b5\n",
        "\ub85c\uc2a4\ud2b8 \uc544\uc77c\ub79c\ub4dc \ucee4\ubba4\ub2c8\ud2f0\n",
        "\uc2e4\ud06c\ub85c\ub4dc for Kakao"
       ]
      },
      {
       "output_type": "stream",
       "stream": "stdout",
       "text": [
        " \ubbf8\uc6a9\n",
        "\uc2e4\ud06c\ub85c\ub4dc for Kakao"
       ]
      },
      {
       "output_type": "stream",
       "stream": "stdout",
       "text": [
        " \uc74c\uc545\n",
        "\uc2e4\ud06c\ub85c\ub4dc for Kakao"
       ]
      },
      {
       "output_type": "stream",
       "stream": "stdout",
       "text": [
        " \ub9ac\ubdf0\n",
        "\uc2e4\ud06c\ub85c\ub4dc for Kakao"
       ]
      },
      {
       "output_type": "stream",
       "stream": "stdout",
       "text": [
        " \uc5f0\uc608\n",
        "\uc2e4\ud06c\ub85c\ub4dc for Kakao \uc74c\uc2dd\n",
        "\uc2e4\ud06c\ub85c\ub4dc for Kakao"
       ]
      },
      {
       "output_type": "stream",
       "stream": "stdout",
       "text": [
        " \uc2a4\ud3ec\uce20\n",
        "\uc2e4\ud06c\ub85c\ub4dc for Kakao \uac8c\uc784\n",
        "\uc2e4\ud06c\ub85c\ub4dc for Kakao"
       ]
      },
      {
       "output_type": "stream",
       "stream": "stdout",
       "text": [
        " \uac74\uac15\n",
        "\uc2e4\ud06c\ub85c\ub4dc for Kakao \ud559\uc2b5\n",
        "\uc2e4\ud06c\ub85c\ub4dc for Kakao"
       ]
      },
      {
       "output_type": "stream",
       "stream": "stdout",
       "text": [
        " \ucee4\ubba4\ub2c8\ud2f0\n",
        "\uc810 - \uc790\ub3d9\ucc28"
       ]
      },
      {
       "output_type": "stream",
       "stream": "stdout",
       "text": [
        " \ubbf8\uc6a9\n",
        "\uc810 - \uc790\ub3d9\ucc28"
       ]
      },
      {
       "output_type": "stream",
       "stream": "stdout",
       "text": [
        " \uc74c\uc545\n",
        "\uc810 - \uc790\ub3d9\ucc28 \ub9ac\ubdf0\n",
        "\uc810 - \uc790\ub3d9\ucc28"
       ]
      },
      {
       "output_type": "stream",
       "stream": "stdout",
       "text": [
        " \uc5f0\uc608\n",
        "\uc810 - \uc790\ub3d9\ucc28"
       ]
      },
      {
       "output_type": "stream",
       "stream": "stdout",
       "text": [
        " \uc74c\uc2dd\n",
        "\uc810 - \uc790\ub3d9\ucc28"
       ]
      },
      {
       "output_type": "stream",
       "stream": "stdout",
       "text": [
        " \uc2a4\ud3ec\uce20\n",
        "\uc810 - \uc790\ub3d9\ucc28"
       ]
      },
      {
       "output_type": "stream",
       "stream": "stdout",
       "text": [
        " \uac8c\uc784\n",
        "\uc810 - \uc790\ub3d9\ucc28"
       ]
      },
      {
       "output_type": "stream",
       "stream": "stdout",
       "text": [
        " \uac74\uac15\n",
        "\uc810 - \uc790\ub3d9\ucc28"
       ]
      },
      {
       "output_type": "stream",
       "stream": "stdout",
       "text": [
        " \ud559\uc2b5\n",
        "\uc810 - \uc790\ub3d9\ucc28"
       ]
      },
      {
       "output_type": "stream",
       "stream": "stdout",
       "text": [
        " \ucee4\ubba4\ub2c8\ud2f0\n",
        "Office Lady \uc2a4\ud2b8\ub9bd\ub9de\uace0 \ubbf8\uc6a9\n",
        "Office Lady \uc2a4\ud2b8\ub9bd\ub9de\uace0"
       ]
      },
      {
       "output_type": "stream",
       "stream": "stdout",
       "text": [
        " \uc74c\uc545\n",
        "Office Lady \uc2a4\ud2b8\ub9bd\ub9de\uace0"
       ]
      },
      {
       "output_type": "stream",
       "stream": "stdout",
       "text": [
        " \ub9ac\ubdf0\n",
        "Office Lady \uc2a4\ud2b8\ub9bd\ub9de\uace0"
       ]
      },
      {
       "output_type": "stream",
       "stream": "stdout",
       "text": [
        " \uc5f0\uc608\n",
        "Office Lady \uc2a4\ud2b8\ub9bd\ub9de\uace0"
       ]
      },
      {
       "output_type": "stream",
       "stream": "stdout",
       "text": [
        " \uc74c\uc2dd\n",
        "Office Lady \uc2a4\ud2b8\ub9bd\ub9de\uace0"
       ]
      },
      {
       "output_type": "stream",
       "stream": "stdout",
       "text": [
        " \uc2a4\ud3ec\uce20\n",
        "Office Lady \uc2a4\ud2b8\ub9bd\ub9de\uace0"
       ]
      },
      {
       "output_type": "stream",
       "stream": "stdout",
       "text": [
        " \uac8c\uc784\n",
        "Office Lady \uc2a4\ud2b8\ub9bd\ub9de\uace0"
       ]
      },
      {
       "output_type": "stream",
       "stream": "stdout",
       "text": [
        " \uac74\uac15\n",
        "Office Lady \uc2a4\ud2b8\ub9bd\ub9de\uace0"
       ]
      },
      {
       "output_type": "stream",
       "stream": "stdout",
       "text": [
        " \ud559\uc2b5\n",
        "Office Lady \uc2a4\ud2b8\ub9bd\ub9de\uace0"
       ]
      },
      {
       "output_type": "stream",
       "stream": "stdout",
       "text": [
        " \ucee4\ubba4\ub2c8\ud2f0\n",
        "\u0422\u0430\u043d\u0447\u0438\u043a\u0438 2013 \ubbf8\uc6a9\n",
        "\u0422\u0430\u043d\u0447\u0438\u043a\u0438 2013"
       ]
      },
      {
       "output_type": "stream",
       "stream": "stdout",
       "text": [
        " \uc74c\uc545\n",
        "\u0422\u0430\u043d\u0447\u0438\u043a\u0438 2013 \ub9ac\ubdf0\n",
        "\u0422\u0430\u043d\u0447\u0438\u043a\u0438 2013"
       ]
      },
      {
       "output_type": "stream",
       "stream": "stdout",
       "text": [
        " \uc5f0\uc608\n",
        "\u0422\u0430\u043d\u0447\u0438\u043a\u0438 2013"
       ]
      },
      {
       "output_type": "stream",
       "stream": "stdout",
       "text": [
        " \uc74c\uc2dd\n",
        "\u0422\u0430\u043d\u0447\u0438\u043a\u0438 2013"
       ]
      },
      {
       "output_type": "stream",
       "stream": "stdout",
       "text": [
        " \uc2a4\ud3ec\uce20\n",
        "\u0422\u0430\u043d\u0447\u0438\u043a\u0438 2013"
       ]
      },
      {
       "output_type": "stream",
       "stream": "stdout",
       "text": [
        " \uac8c\uc784\n",
        "\u0422\u0430\u043d\u0447\u0438\u043a\u0438 2013"
       ]
      },
      {
       "output_type": "stream",
       "stream": "stdout",
       "text": [
        " \uac74\uac15\n",
        "\u0422\u0430\u043d\u0447\u0438\u043a\u0438 2013"
       ]
      },
      {
       "output_type": "stream",
       "stream": "stdout",
       "text": [
        " \ud559\uc2b5\n",
        "\u0422\u0430\u043d\u0447\u0438\u043a\u0438 2013"
       ]
      },
      {
       "output_type": "stream",
       "stream": "stdout",
       "text": [
        " \ucee4\ubba4\ub2c8\ud2f0\n",
        "\u30ef\u30fc\u30eb\u30c9\u30e1\u30fc\u30ab\u30fc [\u5f3e\u5e55\u30b7\u30e5\u30fc\u30c6\u30a3\u30f3\u30b0\u00d7\u30d5\u30a1\u30f3\u30bf\u30b8\u30fcRPG]"
       ]
      },
      {
       "output_type": "stream",
       "stream": "stdout",
       "text": [
        " \ubbf8\uc6a9\n",
        "\u30ef\u30fc\u30eb\u30c9\u30e1\u30fc\u30ab\u30fc [\u5f3e\u5e55\u30b7\u30e5\u30fc\u30c6\u30a3\u30f3\u30b0\u00d7\u30d5\u30a1\u30f3\u30bf\u30b8\u30fcRPG]"
       ]
      },
      {
       "output_type": "stream",
       "stream": "stdout",
       "text": [
        " \uc74c\uc545\n",
        "\u30ef\u30fc\u30eb\u30c9\u30e1\u30fc\u30ab\u30fc [\u5f3e\u5e55\u30b7\u30e5\u30fc\u30c6\u30a3\u30f3\u30b0\u00d7\u30d5\u30a1\u30f3\u30bf\u30b8\u30fcRPG]"
       ]
      },
      {
       "output_type": "stream",
       "stream": "stdout",
       "text": [
        " \ub9ac\ubdf0\n",
        "\u30ef\u30fc\u30eb\u30c9\u30e1\u30fc\u30ab\u30fc [\u5f3e\u5e55\u30b7\u30e5\u30fc\u30c6\u30a3\u30f3\u30b0\u00d7\u30d5\u30a1\u30f3\u30bf\u30b8\u30fcRPG]"
       ]
      },
      {
       "output_type": "stream",
       "stream": "stdout",
       "text": [
        " \uc5f0\uc608\n",
        "\u30ef\u30fc\u30eb\u30c9\u30e1\u30fc\u30ab\u30fc [\u5f3e\u5e55\u30b7\u30e5\u30fc\u30c6\u30a3\u30f3\u30b0\u00d7\u30d5\u30a1\u30f3\u30bf\u30b8\u30fcRPG]"
       ]
      },
      {
       "output_type": "stream",
       "stream": "stdout",
       "text": [
        " \uc74c\uc2dd\n",
        "\u30ef\u30fc\u30eb\u30c9\u30e1\u30fc\u30ab\u30fc [\u5f3e\u5e55\u30b7\u30e5\u30fc\u30c6\u30a3\u30f3\u30b0\u00d7\u30d5\u30a1\u30f3\u30bf\u30b8\u30fcRPG]"
       ]
      },
      {
       "output_type": "stream",
       "stream": "stdout",
       "text": [
        " \uc2a4\ud3ec\uce20\n",
        "\u30ef\u30fc\u30eb\u30c9\u30e1\u30fc\u30ab\u30fc [\u5f3e\u5e55\u30b7\u30e5\u30fc\u30c6\u30a3\u30f3\u30b0\u00d7\u30d5\u30a1\u30f3\u30bf\u30b8\u30fcRPG]"
       ]
      },
      {
       "output_type": "stream",
       "stream": "stdout",
       "text": [
        " \uac8c\uc784\n",
        "\u30ef\u30fc\u30eb\u30c9\u30e1\u30fc\u30ab\u30fc [\u5f3e\u5e55\u30b7\u30e5\u30fc\u30c6\u30a3\u30f3\u30b0\u00d7\u30d5\u30a1\u30f3\u30bf\u30b8\u30fcRPG]"
       ]
      },
      {
       "output_type": "stream",
       "stream": "stdout",
       "text": [
        " \uac74\uac15\n",
        "\u30ef\u30fc\u30eb\u30c9\u30e1\u30fc\u30ab\u30fc [\u5f3e\u5e55\u30b7\u30e5\u30fc\u30c6\u30a3\u30f3\u30b0\u00d7\u30d5\u30a1\u30f3\u30bf\u30b8\u30fcRPG]"
       ]
      },
      {
       "output_type": "stream",
       "stream": "stdout",
       "text": [
        " \ud559\uc2b5\n",
        "\u30ef\u30fc\u30eb\u30c9\u30e1\u30fc\u30ab\u30fc [\u5f3e\u5e55\u30b7\u30e5\u30fc\u30c6\u30a3\u30f3\u30b0\u00d7\u30d5\u30a1\u30f3\u30bf\u30b8\u30fcRPG]"
       ]
      },
      {
       "output_type": "stream",
       "stream": "stdout",
       "text": [
        " \ucee4\ubba4\ub2c8\ud2f0\n",
        "Sky Fighters Academy Free"
       ]
      },
      {
       "output_type": "stream",
       "stream": "stdout",
       "text": [
        " \ubbf8\uc6a9\n",
        "Sky Fighters Academy Free"
       ]
      },
      {
       "output_type": "stream",
       "stream": "stdout",
       "text": [
        " \uc74c\uc545\n",
        "Sky Fighters Academy Free"
       ]
      },
      {
       "output_type": "stream",
       "stream": "stdout",
       "text": [
        " \ub9ac\ubdf0\n",
        "Sky Fighters Academy Free"
       ]
      },
      {
       "output_type": "stream",
       "stream": "stdout",
       "text": [
        " \uc5f0\uc608\n",
        "Sky Fighters Academy Free"
       ]
      },
      {
       "output_type": "stream",
       "stream": "stdout",
       "text": [
        " \uc74c\uc2dd\n",
        "Sky Fighters Academy Free"
       ]
      },
      {
       "output_type": "stream",
       "stream": "stdout",
       "text": [
        " \uc2a4\ud3ec\uce20\n",
        "Sky Fighters Academy Free"
       ]
      },
      {
       "output_type": "stream",
       "stream": "stdout",
       "text": [
        " \uac8c\uc784\n",
        "Sky Fighters Academy Free"
       ]
      },
      {
       "output_type": "stream",
       "stream": "stdout",
       "text": [
        " \uac74\uac15\n",
        "Sky Fighters Academy Free"
       ]
      },
      {
       "output_type": "stream",
       "stream": "stdout",
       "text": [
        " \ud559\uc2b5\n",
        "Sky Fighters Academy Free"
       ]
      },
      {
       "output_type": "stream",
       "stream": "stdout",
       "text": [
        " \ucee4\ubba4\ub2c8\ud2f0\n",
        "Cut'n'Roll"
       ]
      },
      {
       "output_type": "stream",
       "stream": "stdout",
       "text": [
        " \ubbf8\uc6a9\n",
        "Cut'n'Roll"
       ]
      },
      {
       "output_type": "stream",
       "stream": "stdout",
       "text": [
        " \uc74c\uc545\n",
        "Cut'n'Roll"
       ]
      },
      {
       "output_type": "stream",
       "stream": "stdout",
       "text": [
        " \ub9ac\ubdf0\n",
        "Cut'n'Roll"
       ]
      },
      {
       "output_type": "stream",
       "stream": "stdout",
       "text": [
        " \uc5f0\uc608\n",
        "Cut'n'Roll"
       ]
      },
      {
       "output_type": "stream",
       "stream": "stdout",
       "text": [
        " \uc74c\uc2dd\n",
        "Cut'n'Roll"
       ]
      },
      {
       "output_type": "stream",
       "stream": "stdout",
       "text": [
        " \uc2a4\ud3ec\uce20\n",
        "Cut'n'Roll"
       ]
      },
      {
       "output_type": "stream",
       "stream": "stdout",
       "text": [
        " \uac8c\uc784\n",
        "Cut'n'Roll"
       ]
      },
      {
       "output_type": "stream",
       "stream": "stdout",
       "text": [
        " \uac74\uac15\n",
        "Cut'n'Roll"
       ]
      },
      {
       "output_type": "stream",
       "stream": "stdout",
       "text": [
        " \ud559\uc2b5\n",
        "Cut'n'Roll"
       ]
      },
      {
       "output_type": "stream",
       "stream": "stdout",
       "text": [
        " \ucee4\ubba4\ub2c8\ud2f0\n",
        "\uc5f0\uc608\uc778 \uc774\ub984 \ub3c4\uc804 Quiz"
       ]
      },
      {
       "output_type": "stream",
       "stream": "stdout",
       "text": [
        " \ubbf8\uc6a9\n",
        "\uc5f0\uc608\uc778 \uc774\ub984 \ub3c4\uc804 Quiz"
       ]
      },
      {
       "output_type": "stream",
       "stream": "stdout",
       "text": [
        " \uc74c\uc545\n",
        "\uc5f0\uc608\uc778 \uc774\ub984 \ub3c4\uc804 Quiz"
       ]
      },
      {
       "output_type": "stream",
       "stream": "stdout",
       "text": [
        " \ub9ac\ubdf0\n",
        "\uc5f0\uc608\uc778 \uc774\ub984 \ub3c4\uc804 Quiz"
       ]
      },
      {
       "output_type": "stream",
       "stream": "stdout",
       "text": [
        " \uc5f0\uc608\n",
        "\uc5f0\uc608\uc778 \uc774\ub984 \ub3c4\uc804 Quiz"
       ]
      },
      {
       "output_type": "stream",
       "stream": "stdout",
       "text": [
        " \uc74c\uc2dd\n",
        "\uc5f0\uc608\uc778 \uc774\ub984 \ub3c4\uc804 Quiz"
       ]
      },
      {
       "output_type": "stream",
       "stream": "stdout",
       "text": [
        " \uc2a4\ud3ec\uce20\n",
        "\uc5f0\uc608\uc778 \uc774\ub984 \ub3c4\uc804 Quiz"
       ]
      },
      {
       "output_type": "stream",
       "stream": "stdout",
       "text": [
        " \uac8c\uc784\n",
        "\uc5f0\uc608\uc778 \uc774\ub984 \ub3c4\uc804 Quiz"
       ]
      },
      {
       "output_type": "stream",
       "stream": "stdout",
       "text": [
        " \uac74\uac15\n",
        "\uc5f0\uc608\uc778 \uc774\ub984 \ub3c4\uc804 Quiz"
       ]
      },
      {
       "output_type": "stream",
       "stream": "stdout",
       "text": [
        " \ud559\uc2b5\n",
        "\uc5f0\uc608\uc778 \uc774\ub984 \ub3c4\uc804 Quiz"
       ]
      },
      {
       "output_type": "stream",
       "stream": "stdout",
       "text": [
        " \ucee4\ubba4\ub2c8\ud2f0\n",
        "\ud558\ub140\ub9de\uace03\u2605\uc9c0\uae08\uc740 \ub300\ud558\ub140\uc2dc\ub300\u2605"
       ]
      },
      {
       "output_type": "stream",
       "stream": "stdout",
       "text": [
        " \ubbf8\uc6a9\n",
        "\ud558\ub140\ub9de\uace03\u2605\uc9c0\uae08\uc740 \ub300\ud558\ub140\uc2dc\ub300\u2605"
       ]
      },
      {
       "output_type": "stream",
       "stream": "stdout",
       "text": [
        " \uc74c\uc545\n",
        "\ud558\ub140\ub9de\uace03\u2605\uc9c0\uae08\uc740 \ub300\ud558\ub140\uc2dc\ub300\u2605"
       ]
      },
      {
       "output_type": "stream",
       "stream": "stdout",
       "text": [
        " \ub9ac\ubdf0\n",
        "\ud558\ub140\ub9de\uace03\u2605\uc9c0\uae08\uc740 \ub300\ud558\ub140\uc2dc\ub300\u2605"
       ]
      },
      {
       "output_type": "stream",
       "stream": "stdout",
       "text": [
        " \uc5f0\uc608\n",
        "\ud558\ub140\ub9de\uace03\u2605\uc9c0\uae08\uc740 \ub300\ud558\ub140\uc2dc\ub300\u2605"
       ]
      },
      {
       "output_type": "stream",
       "stream": "stdout",
       "text": [
        " \uc74c\uc2dd\n",
        "\ud558\ub140\ub9de\uace03\u2605\uc9c0\uae08\uc740 \ub300\ud558\ub140\uc2dc\ub300\u2605"
       ]
      },
      {
       "output_type": "stream",
       "stream": "stdout",
       "text": [
        " \uc2a4\ud3ec\uce20\n",
        "\ud558\ub140\ub9de\uace03\u2605\uc9c0\uae08\uc740 \ub300\ud558\ub140\uc2dc\ub300\u2605"
       ]
      },
      {
       "output_type": "stream",
       "stream": "stdout",
       "text": [
        " \uac8c\uc784\n",
        "\ud558\ub140\ub9de\uace03\u2605\uc9c0\uae08\uc740 \ub300\ud558\ub140\uc2dc\ub300\u2605"
       ]
      },
      {
       "output_type": "stream",
       "stream": "stdout",
       "text": [
        " \uac74\uac15\n",
        "\ud558\ub140\ub9de\uace03\u2605\uc9c0\uae08\uc740 \ub300\ud558\ub140\uc2dc\ub300\u2605"
       ]
      },
      {
       "output_type": "stream",
       "stream": "stdout",
       "text": [
        " \ud559\uc2b5\n",
        "\ud558\ub140\ub9de\uace03\u2605\uc9c0\uae08\uc740 \ub300\ud558\ub140\uc2dc\ub300\u2605"
       ]
      },
      {
       "output_type": "stream",
       "stream": "stdout",
       "text": [
        " \ucee4\ubba4\ub2c8\ud2f0\n",
        "What's Up \ubbf8\uc6a9\n",
        "What's Up"
       ]
      },
      {
       "output_type": "stream",
       "stream": "stdout",
       "text": [
        " \uc74c\uc545\n",
        "What's Up"
       ]
      },
      {
       "output_type": "stream",
       "stream": "stdout",
       "text": [
        " \ub9ac\ubdf0\n",
        "What's Up"
       ]
      },
      {
       "output_type": "stream",
       "stream": "stdout",
       "text": [
        " \uc5f0\uc608\n",
        "What's Up"
       ]
      },
      {
       "output_type": "stream",
       "stream": "stdout",
       "text": [
        " \uc74c\uc2dd\n",
        "What's Up"
       ]
      },
      {
       "output_type": "stream",
       "stream": "stdout",
       "text": [
        " \uc2a4\ud3ec\uce20\n",
        "What's Up"
       ]
      },
      {
       "output_type": "stream",
       "stream": "stdout",
       "text": [
        " \uac8c\uc784\n",
        "What's Up"
       ]
      },
      {
       "output_type": "stream",
       "stream": "stdout",
       "text": [
        " \uac74\uac15\n",
        "What's Up"
       ]
      },
      {
       "output_type": "stream",
       "stream": "stdout",
       "text": [
        " \ud559\uc2b5\n",
        "What's Up"
       ]
      },
      {
       "output_type": "stream",
       "stream": "stdout",
       "text": [
        " \ucee4\ubba4\ub2c8\ud2f0\n",
        "R-Tech Commander Colony"
       ]
      },
      {
       "output_type": "stream",
       "stream": "stdout",
       "text": [
        " \ubbf8\uc6a9\n",
        "R-Tech Commander Colony"
       ]
      },
      {
       "output_type": "stream",
       "stream": "stdout",
       "text": [
        " \uc74c\uc545\n",
        "R-Tech Commander Colony"
       ]
      },
      {
       "output_type": "stream",
       "stream": "stdout",
       "text": [
        " \ub9ac\ubdf0\n",
        "R-Tech Commander Colony"
       ]
      },
      {
       "output_type": "stream",
       "stream": "stdout",
       "text": [
        " \uc5f0\uc608\n",
        "R-Tech Commander Colony"
       ]
      },
      {
       "output_type": "stream",
       "stream": "stdout",
       "text": [
        " \uc74c\uc2dd\n",
        "R-Tech Commander Colony"
       ]
      },
      {
       "output_type": "stream",
       "stream": "stdout",
       "text": [
        " \uc2a4\ud3ec\uce20\n",
        "R-Tech Commander Colony"
       ]
      },
      {
       "output_type": "stream",
       "stream": "stdout",
       "text": [
        " \uac8c\uc784\n",
        "R-Tech Commander Colony"
       ]
      },
      {
       "output_type": "stream",
       "stream": "stdout",
       "text": [
        " \uac74\uac15\n",
        "R-Tech Commander Colony \ud559\uc2b5\n",
        "R-Tech Commander Colony"
       ]
      },
      {
       "output_type": "stream",
       "stream": "stdout",
       "text": [
        " \ucee4\ubba4\ub2c8\ud2f0\n",
        "\u0420\u0435\u0446\u0435\u043f\u0442\u044b \u2013\u0432\u043a\u0443\u0441\u043d\u043e \u0438 \u043f\u043e\u043b\u0435\u0437\u043d\u043e"
       ]
      },
      {
       "output_type": "stream",
       "stream": "stdout",
       "text": [
        " \ubbf8\uc6a9\n",
        "\u0420\u0435\u0446\u0435\u043f\u0442\u044b \u2013\u0432\u043a\u0443\u0441\u043d\u043e \u0438 \u043f\u043e\u043b\u0435\u0437\u043d\u043e"
       ]
      },
      {
       "output_type": "stream",
       "stream": "stdout",
       "text": [
        " \uc74c\uc545\n",
        "\u0420\u0435\u0446\u0435\u043f\u0442\u044b \u2013\u0432\u043a\u0443\u0441\u043d\u043e \u0438 \u043f\u043e\u043b\u0435\u0437\u043d\u043e"
       ]
      },
      {
       "output_type": "stream",
       "stream": "stdout",
       "text": [
        " \ub9ac\ubdf0\n",
        "\u0420\u0435\u0446\u0435\u043f\u0442\u044b \u2013\u0432\u043a\u0443\u0441\u043d\u043e \u0438 \u043f\u043e\u043b\u0435\u0437\u043d\u043e"
       ]
      },
      {
       "output_type": "stream",
       "stream": "stdout",
       "text": [
        " \uc5f0\uc608\n",
        "\u0420\u0435\u0446\u0435\u043f\u0442\u044b \u2013\u0432\u043a\u0443\u0441\u043d\u043e \u0438 \u043f\u043e\u043b\u0435\u0437\u043d\u043e"
       ]
      },
      {
       "output_type": "stream",
       "stream": "stdout",
       "text": [
        " \uc74c\uc2dd\n",
        "\u0420\u0435\u0446\u0435\u043f\u0442\u044b \u2013\u0432\u043a\u0443\u0441\u043d\u043e \u0438 \u043f\u043e\u043b\u0435\u0437\u043d\u043e"
       ]
      },
      {
       "output_type": "stream",
       "stream": "stdout",
       "text": [
        " \uc2a4\ud3ec\uce20\n",
        "\u0420\u0435\u0446\u0435\u043f\u0442\u044b \u2013\u0432\u043a\u0443\u0441\u043d\u043e \u0438 \u043f\u043e\u043b\u0435\u0437\u043d\u043e"
       ]
      },
      {
       "output_type": "stream",
       "stream": "stdout",
       "text": [
        " \uac8c\uc784\n",
        "\u0420\u0435\u0446\u0435\u043f\u0442\u044b \u2013\u0432\u043a\u0443\u0441\u043d\u043e \u0438 \u043f\u043e\u043b\u0435\u0437\u043d\u043e"
       ]
      },
      {
       "output_type": "stream",
       "stream": "stdout",
       "text": [
        " \uac74\uac15\n",
        "\u0420\u0435\u0446\u0435\u043f\u0442\u044b \u2013\u0432\u043a\u0443\u0441\u043d\u043e \u0438 \u043f\u043e\u043b\u0435\u0437\u043d\u043e"
       ]
      },
      {
       "output_type": "stream",
       "stream": "stdout",
       "text": [
        " \ud559\uc2b5\n",
        "\u0420\u0435\u0446\u0435\u043f\u0442\u044b \u2013\u0432\u043a\u0443\u0441\u043d\u043e \u0438 \u043f\u043e\u043b\u0435\u0437\u043d\u043e"
       ]
      },
      {
       "output_type": "stream",
       "stream": "stdout",
       "text": [
        " \ucee4\ubba4\ub2c8\ud2f0\n",
        "Dragon Hunter II"
       ]
      },
      {
       "output_type": "stream",
       "stream": "stdout",
       "text": [
        " \ubbf8\uc6a9\n",
        "Dragon Hunter II"
       ]
      },
      {
       "output_type": "stream",
       "stream": "stdout",
       "text": [
        " \uc74c\uc545\n",
        "Dragon Hunter II"
       ]
      },
      {
       "output_type": "stream",
       "stream": "stdout",
       "text": [
        " \ub9ac\ubdf0\n",
        "Dragon Hunter II"
       ]
      },
      {
       "output_type": "stream",
       "stream": "stdout",
       "text": [
        " \uc5f0\uc608\n",
        "Dragon Hunter II"
       ]
      },
      {
       "output_type": "stream",
       "stream": "stdout",
       "text": [
        " \uc74c\uc2dd\n",
        "Dragon Hunter II"
       ]
      },
      {
       "output_type": "stream",
       "stream": "stdout",
       "text": [
        " \uc2a4\ud3ec\uce20\n",
        "Dragon Hunter II"
       ]
      },
      {
       "output_type": "stream",
       "stream": "stdout",
       "text": [
        " \uac8c\uc784\n",
        "Dragon Hunter II"
       ]
      },
      {
       "output_type": "stream",
       "stream": "stdout",
       "text": [
        " \uac74\uac15\n",
        "Dragon Hunter II"
       ]
      },
      {
       "output_type": "stream",
       "stream": "stdout",
       "text": [
        " \ud559\uc2b5\n",
        "Dragon Hunter II"
       ]
      },
      {
       "output_type": "stream",
       "stream": "stdout",
       "text": [
        " \ucee4\ubba4\ub2c8\ud2f0\n",
        "\ubc84\uac70 \ud328\ub2c9 \uc694\ub9ac \uac8c\uc784"
       ]
      },
      {
       "output_type": "stream",
       "stream": "stdout",
       "text": [
        " \ubbf8\uc6a9\n",
        "\ubc84\uac70 \ud328\ub2c9 \uc694\ub9ac \uac8c\uc784"
       ]
      },
      {
       "output_type": "stream",
       "stream": "stdout",
       "text": [
        " \uc74c\uc545\n",
        "\ubc84\uac70 \ud328\ub2c9 \uc694\ub9ac \uac8c\uc784"
       ]
      },
      {
       "output_type": "stream",
       "stream": "stdout",
       "text": [
        " \ub9ac\ubdf0\n",
        "\ubc84\uac70 \ud328\ub2c9 \uc694\ub9ac \uac8c\uc784"
       ]
      },
      {
       "output_type": "stream",
       "stream": "stdout",
       "text": [
        " \uc5f0\uc608\n",
        "\ubc84\uac70 \ud328\ub2c9 \uc694\ub9ac \uac8c\uc784"
       ]
      },
      {
       "output_type": "stream",
       "stream": "stdout",
       "text": [
        " \uc74c\uc2dd\n",
        "\ubc84\uac70 \ud328\ub2c9 \uc694\ub9ac \uac8c\uc784"
       ]
      },
      {
       "output_type": "stream",
       "stream": "stdout",
       "text": [
        " \uc2a4\ud3ec\uce20\n",
        "\ubc84\uac70 \ud328\ub2c9 \uc694\ub9ac \uac8c\uc784"
       ]
      },
      {
       "output_type": "stream",
       "stream": "stdout",
       "text": [
        " \uac8c\uc784\n",
        "\ubc84\uac70 \ud328\ub2c9 \uc694\ub9ac \uac8c\uc784"
       ]
      },
      {
       "output_type": "stream",
       "stream": "stdout",
       "text": [
        " \uac74\uac15\n",
        "\ubc84\uac70 \ud328\ub2c9 \uc694\ub9ac \uac8c\uc784"
       ]
      },
      {
       "output_type": "stream",
       "stream": "stdout",
       "text": [
        " \ud559\uc2b5\n",
        "\ubc84\uac70 \ud328\ub2c9 \uc694\ub9ac \uac8c\uc784"
       ]
      },
      {
       "output_type": "stream",
       "stream": "stdout",
       "text": [
        " \ucee4\ubba4\ub2c8\ud2f0\n",
        "Prison Tycoon"
       ]
      },
      {
       "output_type": "stream",
       "stream": "stdout",
       "text": [
        " \ubbf8\uc6a9\n",
        "Prison Tycoon"
       ]
      },
      {
       "output_type": "stream",
       "stream": "stdout",
       "text": [
        " \uc74c\uc545\n",
        "Prison Tycoon"
       ]
      },
      {
       "output_type": "stream",
       "stream": "stdout",
       "text": [
        " \ub9ac\ubdf0\n",
        "Prison Tycoon"
       ]
      },
      {
       "output_type": "stream",
       "stream": "stdout",
       "text": [
        " \uc5f0\uc608\n",
        "Prison Tycoon"
       ]
      },
      {
       "output_type": "stream",
       "stream": "stdout",
       "text": [
        " \uc74c\uc2dd\n",
        "Prison Tycoon"
       ]
      },
      {
       "output_type": "stream",
       "stream": "stdout",
       "text": [
        " \uc2a4\ud3ec\uce20\n",
        "Prison Tycoon"
       ]
      },
      {
       "output_type": "stream",
       "stream": "stdout",
       "text": [
        " \uac8c\uc784\n",
        "Prison Tycoon"
       ]
      },
      {
       "output_type": "stream",
       "stream": "stdout",
       "text": [
        " \uac74\uac15\n",
        "Prison Tycoon"
       ]
      },
      {
       "output_type": "stream",
       "stream": "stdout",
       "text": [
        " \ud559\uc2b5\n",
        "Prison Tycoon"
       ]
      },
      {
       "output_type": "stream",
       "stream": "stdout",
       "text": [
        " \ucee4\ubba4\ub2c8\ud2f0\n",
        "CoD: Black Ops 2 Customizer"
       ]
      },
      {
       "output_type": "stream",
       "stream": "stdout",
       "text": [
        " \ubbf8\uc6a9\n",
        "CoD: Black Ops 2 Customizer"
       ]
      },
      {
       "output_type": "stream",
       "stream": "stdout",
       "text": [
        " \uc74c\uc545\n",
        "CoD: Black Ops 2 Customizer"
       ]
      },
      {
       "output_type": "stream",
       "stream": "stdout",
       "text": [
        " \ub9ac\ubdf0\n",
        "CoD: Black Ops 2 Customizer"
       ]
      },
      {
       "output_type": "stream",
       "stream": "stdout",
       "text": [
        " \uc5f0\uc608\n",
        "CoD: Black Ops 2 Customizer \uc74c\uc2dd\n",
        "CoD: Black Ops 2 Customizer"
       ]
      },
      {
       "output_type": "stream",
       "stream": "stdout",
       "text": [
        " \uc2a4\ud3ec\uce20\n",
        "CoD: Black Ops 2 Customizer \uac8c\uc784\n",
        "CoD: Black Ops 2 Customizer"
       ]
      },
      {
       "output_type": "stream",
       "stream": "stdout",
       "text": [
        " \uac74\uac15\n",
        "CoD: Black Ops 2 Customizer"
       ]
      },
      {
       "output_type": "stream",
       "stream": "stdout",
       "text": [
        " \ud559\uc2b5\n",
        "CoD: Black Ops 2 Customizer"
       ]
      },
      {
       "output_type": "stream",
       "stream": "stdout",
       "text": [
        " \ucee4\ubba4\ub2c8\ud2f0\n",
        "Sexy Slot SUPER REAL 8LINES P2 \ubbf8\uc6a9\n",
        "Sexy Slot SUPER REAL 8LINES P2"
       ]
      },
      {
       "output_type": "stream",
       "stream": "stdout",
       "text": [
        " \uc74c\uc545\n",
        "Sexy Slot SUPER REAL 8LINES P2"
       ]
      },
      {
       "output_type": "stream",
       "stream": "stdout",
       "text": [
        " \ub9ac\ubdf0\n",
        "Sexy Slot SUPER REAL 8LINES P2"
       ]
      },
      {
       "output_type": "stream",
       "stream": "stdout",
       "text": [
        " \uc5f0\uc608\n",
        "Sexy Slot SUPER REAL 8LINES P2"
       ]
      },
      {
       "output_type": "stream",
       "stream": "stdout",
       "text": [
        " \uc74c\uc2dd\n",
        "Sexy Slot SUPER REAL 8LINES P2"
       ]
      },
      {
       "output_type": "stream",
       "stream": "stdout",
       "text": [
        " \uc2a4\ud3ec\uce20\n",
        "Sexy Slot SUPER REAL 8LINES P2 \uac8c\uc784\n",
        "Sexy Slot SUPER REAL 8LINES P2"
       ]
      },
      {
       "output_type": "stream",
       "stream": "stdout",
       "text": [
        " \uac74\uac15\n",
        "Sexy Slot SUPER REAL 8LINES P2"
       ]
      },
      {
       "output_type": "stream",
       "stream": "stdout",
       "text": [
        " \ud559\uc2b5\n",
        "Sexy Slot SUPER REAL 8LINES P2"
       ]
      },
      {
       "output_type": "stream",
       "stream": "stdout",
       "text": [
        " \ucee4\ubba4\ub2c8\ud2f0\n",
        "Global War Tanks"
       ]
      },
      {
       "output_type": "stream",
       "stream": "stdout",
       "text": [
        " \ubbf8\uc6a9\n",
        "Global War Tanks \uc74c\uc545\n",
        "Global War Tanks"
       ]
      },
      {
       "output_type": "stream",
       "stream": "stdout",
       "text": [
        " \ub9ac\ubdf0\n",
        "Global War Tanks"
       ]
      },
      {
       "output_type": "stream",
       "stream": "stdout",
       "text": [
        " \uc5f0\uc608\n",
        "Global War Tanks"
       ]
      },
      {
       "output_type": "stream",
       "stream": "stdout",
       "text": [
        " \uc74c\uc2dd\n",
        "Global War Tanks"
       ]
      },
      {
       "output_type": "stream",
       "stream": "stdout",
       "text": [
        " \uc2a4\ud3ec\uce20\n",
        "Global War Tanks"
       ]
      },
      {
       "output_type": "stream",
       "stream": "stdout",
       "text": [
        " \uac8c\uc784\n",
        "Global War Tanks"
       ]
      },
      {
       "output_type": "stream",
       "stream": "stdout",
       "text": [
        " \uac74\uac15\n",
        "Global War Tanks"
       ]
      },
      {
       "output_type": "stream",
       "stream": "stdout",
       "text": [
        " \ud559\uc2b5\n",
        "Global War Tanks"
       ]
      },
      {
       "output_type": "stream",
       "stream": "stdout",
       "text": [
        " \ucee4\ubba4\ub2c8\ud2f0\n",
        "Level Up! RPG \ubbf8\uc6a9\n",
        "Level Up! RPG"
       ]
      },
      {
       "output_type": "stream",
       "stream": "stdout",
       "text": [
        " \uc74c\uc545\n",
        "Level Up! RPG \ub9ac\ubdf0\n",
        "Level Up! RPG"
       ]
      },
      {
       "output_type": "stream",
       "stream": "stdout",
       "text": [
        " \uc5f0\uc608\n",
        "Level Up! RPG"
       ]
      },
      {
       "output_type": "stream",
       "stream": "stdout",
       "text": [
        " \uc74c\uc2dd\n",
        "Level Up! RPG"
       ]
      },
      {
       "output_type": "stream",
       "stream": "stdout",
       "text": [
        " \uc2a4\ud3ec\uce20\n",
        "Level Up! RPG"
       ]
      },
      {
       "output_type": "stream",
       "stream": "stdout",
       "text": [
        " \uac8c\uc784\n",
        "Level Up! RPG"
       ]
      },
      {
       "output_type": "stream",
       "stream": "stdout",
       "text": [
        " \uac74\uac15\n",
        "Level Up! RPG"
       ]
      },
      {
       "output_type": "stream",
       "stream": "stdout",
       "text": [
        " \ud559\uc2b5\n",
        "Level Up! RPG"
       ]
      },
      {
       "output_type": "stream",
       "stream": "stdout",
       "text": [
        " \ucee4\ubba4\ub2c8\ud2f0\n",
        "Avoooid!Hero"
       ]
      },
      {
       "output_type": "stream",
       "stream": "stdout",
       "text": [
        " \ubbf8\uc6a9\n",
        "Avoooid!Hero"
       ]
      },
      {
       "output_type": "stream",
       "stream": "stdout",
       "text": [
        " \uc74c\uc545\n",
        "Avoooid!Hero"
       ]
      },
      {
       "output_type": "stream",
       "stream": "stdout",
       "text": [
        " \ub9ac\ubdf0\n",
        "Avoooid!Hero"
       ]
      },
      {
       "output_type": "stream",
       "stream": "stdout",
       "text": [
        " \uc5f0\uc608\n",
        "Avoooid!Hero"
       ]
      },
      {
       "output_type": "stream",
       "stream": "stdout",
       "text": [
        " \uc74c\uc2dd\n",
        "Avoooid!Hero"
       ]
      },
      {
       "output_type": "stream",
       "stream": "stdout",
       "text": [
        " \uc2a4\ud3ec\uce20\n",
        "Avoooid!Hero"
       ]
      },
      {
       "output_type": "stream",
       "stream": "stdout",
       "text": [
        " \uac8c\uc784\n",
        "Avoooid!Hero"
       ]
      },
      {
       "output_type": "stream",
       "stream": "stdout",
       "text": [
        " \uac74\uac15\n",
        "Avoooid!Hero"
       ]
      },
      {
       "output_type": "stream",
       "stream": "stdout",
       "text": [
        " \ud559\uc2b5\n",
        "Avoooid!Hero"
       ]
      },
      {
       "output_type": "stream",
       "stream": "stdout",
       "text": [
        " \ucee4\ubba4\ub2c8\ud2f0\n",
        "\ub2e4\ube48\uce58\ud30c\uc774\uc5b4 for kakao"
       ]
      },
      {
       "output_type": "stream",
       "stream": "stdout",
       "text": [
        " \ubbf8\uc6a9\n",
        "\ub2e4\ube48\uce58\ud30c\uc774\uc5b4 for kakao"
       ]
      },
      {
       "output_type": "stream",
       "stream": "stdout",
       "text": [
        " \uc74c\uc545\n",
        "\ub2e4\ube48\uce58\ud30c\uc774\uc5b4 for kakao"
       ]
      },
      {
       "output_type": "stream",
       "stream": "stdout",
       "text": [
        " \ub9ac\ubdf0\n",
        "\ub2e4\ube48\uce58\ud30c\uc774\uc5b4 for kakao"
       ]
      },
      {
       "output_type": "stream",
       "stream": "stdout",
       "text": [
        " \uc5f0\uc608\n",
        "\ub2e4\ube48\uce58\ud30c\uc774\uc5b4 for kakao"
       ]
      },
      {
       "output_type": "stream",
       "stream": "stdout",
       "text": [
        " \uc74c\uc2dd\n",
        "\ub2e4\ube48\uce58\ud30c\uc774\uc5b4 for kakao"
       ]
      },
      {
       "output_type": "stream",
       "stream": "stdout",
       "text": [
        " \uc2a4\ud3ec\uce20\n",
        "\ub2e4\ube48\uce58\ud30c\uc774\uc5b4 for kakao"
       ]
      },
      {
       "output_type": "stream",
       "stream": "stdout",
       "text": [
        " \uac8c\uc784\n",
        "\ub2e4\ube48\uce58\ud30c\uc774\uc5b4 for kakao"
       ]
      },
      {
       "output_type": "stream",
       "stream": "stdout",
       "text": [
        " \uac74\uac15\n",
        "\ub2e4\ube48\uce58\ud30c\uc774\uc5b4 for kakao"
       ]
      },
      {
       "output_type": "stream",
       "stream": "stdout",
       "text": [
        " \ud559\uc2b5\n",
        "\ub2e4\ube48\uce58\ud30c\uc774\uc5b4 for kakao"
       ]
      },
      {
       "output_type": "stream",
       "stream": "stdout",
       "text": [
        " \ucee4\ubba4\ub2c8\ud2f0\n",
        "Ajax Fantasy Manager'13"
       ]
      },
      {
       "output_type": "stream",
       "stream": "stdout",
       "text": [
        " \ubbf8\uc6a9\n",
        "Ajax Fantasy Manager'13"
       ]
      },
      {
       "output_type": "stream",
       "stream": "stdout",
       "text": [
        " \uc74c\uc545\n",
        "Ajax Fantasy Manager'13"
       ]
      },
      {
       "output_type": "stream",
       "stream": "stdout",
       "text": [
        " \ub9ac\ubdf0\n",
        "Ajax Fantasy Manager'13"
       ]
      },
      {
       "output_type": "stream",
       "stream": "stdout",
       "text": [
        " \uc5f0\uc608\n",
        "Ajax Fantasy Manager'13 \uc74c\uc2dd\n",
        "Ajax Fantasy Manager'13"
       ]
      },
      {
       "output_type": "stream",
       "stream": "stdout",
       "text": [
        " \uc2a4\ud3ec\uce20\n",
        "Ajax Fantasy Manager'13"
       ]
      },
      {
       "output_type": "stream",
       "stream": "stdout",
       "text": [
        " \uac8c\uc784\n",
        "Ajax Fantasy Manager'13"
       ]
      },
      {
       "output_type": "stream",
       "stream": "stdout",
       "text": [
        " \uac74\uac15\n",
        "Ajax Fantasy Manager'13"
       ]
      },
      {
       "output_type": "stream",
       "stream": "stdout",
       "text": [
        " \ud559\uc2b5\n",
        "Ajax Fantasy Manager'13"
       ]
      },
      {
       "output_type": "stream",
       "stream": "stdout",
       "text": [
        " \ucee4\ubba4\ub2c8\ud2f0\n",
        "PUZZLE PRISM LITE"
       ]
      },
      {
       "output_type": "stream",
       "stream": "stdout",
       "text": [
        " \ubbf8\uc6a9\n",
        "PUZZLE PRISM LITE"
       ]
      },
      {
       "output_type": "stream",
       "stream": "stdout",
       "text": [
        " \uc74c\uc545\n",
        "PUZZLE PRISM LITE"
       ]
      },
      {
       "output_type": "stream",
       "stream": "stdout",
       "text": [
        " \ub9ac\ubdf0\n",
        "PUZZLE PRISM LITE"
       ]
      },
      {
       "output_type": "stream",
       "stream": "stdout",
       "text": [
        " \uc5f0\uc608\n",
        "PUZZLE PRISM LITE"
       ]
      },
      {
       "output_type": "stream",
       "stream": "stdout",
       "text": [
        " \uc74c\uc2dd\n",
        "PUZZLE PRISM LITE"
       ]
      },
      {
       "output_type": "stream",
       "stream": "stdout",
       "text": [
        " \uc2a4\ud3ec\uce20\n",
        "PUZZLE PRISM LITE"
       ]
      },
      {
       "output_type": "stream",
       "stream": "stdout",
       "text": [
        " \uac8c\uc784\n",
        "PUZZLE PRISM LITE"
       ]
      },
      {
       "output_type": "stream",
       "stream": "stdout",
       "text": [
        " \uac74\uac15\n",
        "PUZZLE PRISM LITE"
       ]
      },
      {
       "output_type": "stream",
       "stream": "stdout",
       "text": [
        " \ud559\uc2b5\n",
        "PUZZLE PRISM LITE"
       ]
      },
      {
       "output_type": "stream",
       "stream": "stdout",
       "text": [
        " \ucee4\ubba4\ub2c8\ud2f0\n",
        "\uc288\ud37c \ubc84\uac70 \uc7bc \ubbf8\uc6a9\n",
        "\uc288\ud37c \ubc84\uac70 \uc7bc"
       ]
      },
      {
       "output_type": "stream",
       "stream": "stdout",
       "text": [
        " \uc74c\uc545\n",
        "\uc288\ud37c \ubc84\uac70 \uc7bc"
       ]
      },
      {
       "output_type": "stream",
       "stream": "stdout",
       "text": [
        " \ub9ac\ubdf0\n",
        "\uc288\ud37c \ubc84\uac70 \uc7bc"
       ]
      },
      {
       "output_type": "stream",
       "stream": "stdout",
       "text": [
        " \uc5f0\uc608\n",
        "\uc288\ud37c \ubc84\uac70 \uc7bc"
       ]
      },
      {
       "output_type": "stream",
       "stream": "stdout",
       "text": [
        " \uc74c\uc2dd\n",
        "\uc288\ud37c \ubc84\uac70 \uc7bc"
       ]
      },
      {
       "output_type": "stream",
       "stream": "stdout",
       "text": [
        " \uc2a4\ud3ec\uce20\n",
        "\uc288\ud37c \ubc84\uac70 \uc7bc"
       ]
      },
      {
       "output_type": "stream",
       "stream": "stdout",
       "text": [
        " \uac8c\uc784\n",
        "\uc288\ud37c \ubc84\uac70 \uc7bc"
       ]
      },
      {
       "output_type": "stream",
       "stream": "stdout",
       "text": [
        " \uac74\uac15\n",
        "\uc288\ud37c \ubc84\uac70 \uc7bc"
       ]
      },
      {
       "output_type": "stream",
       "stream": "stdout",
       "text": [
        " \ud559\uc2b5\n",
        "\uc288\ud37c \ubc84\uac70 \uc7bc"
       ]
      },
      {
       "output_type": "stream",
       "stream": "stdout",
       "text": [
        " \ucee4\ubba4\ub2c8\ud2f0\n",
        "\uc139\uc2dc\u2665\uac78\uc744 \ucc3e\uc544\ub77c"
       ]
      },
      {
       "output_type": "stream",
       "stream": "stdout",
       "text": [
        " \ubbf8\uc6a9\n",
        "\uc139\uc2dc\u2665\uac78\uc744 \ucc3e\uc544\ub77c"
       ]
      },
      {
       "output_type": "stream",
       "stream": "stdout",
       "text": [
        " \uc74c\uc545\n",
        "\uc139\uc2dc\u2665\uac78\uc744 \ucc3e\uc544\ub77c"
       ]
      },
      {
       "output_type": "stream",
       "stream": "stdout",
       "text": [
        " \ub9ac\ubdf0\n",
        "\uc139\uc2dc\u2665\uac78\uc744 \ucc3e\uc544\ub77c"
       ]
      },
      {
       "output_type": "stream",
       "stream": "stdout",
       "text": [
        " \uc5f0\uc608\n",
        "\uc139\uc2dc\u2665\uac78\uc744 \ucc3e\uc544\ub77c"
       ]
      },
      {
       "output_type": "stream",
       "stream": "stdout",
       "text": [
        " \uc74c\uc2dd\n",
        "\uc139\uc2dc\u2665\uac78\uc744 \ucc3e\uc544\ub77c \uc2a4\ud3ec\uce20\n",
        "\uc139\uc2dc\u2665\uac78\uc744 \ucc3e\uc544\ub77c"
       ]
      },
      {
       "output_type": "stream",
       "stream": "stdout",
       "text": [
        " \uac8c\uc784\n",
        "\uc139\uc2dc\u2665\uac78\uc744 \ucc3e\uc544\ub77c"
       ]
      },
      {
       "output_type": "stream",
       "stream": "stdout",
       "text": [
        " \uac74\uac15\n",
        "\uc139\uc2dc\u2665\uac78\uc744 \ucc3e\uc544\ub77c"
       ]
      },
      {
       "output_type": "stream",
       "stream": "stdout",
       "text": [
        " \ud559\uc2b5\n",
        "\uc139\uc2dc\u2665\uac78\uc744 \ucc3e\uc544\ub77c"
       ]
      },
      {
       "output_type": "stream",
       "stream": "stdout",
       "text": [
        " \ucee4\ubba4\ub2c8\ud2f0\n",
        "[\ub3c8\ubc84\ub294\uc5b4\ud50c]\uc571\ud14c\ud06c \ud544\uc218\uc5b4\ud50c - \uc571\ud5cc\ud130 2"
       ]
      },
      {
       "output_type": "stream",
       "stream": "stdout",
       "text": [
        " \ubbf8\uc6a9\n",
        "[\ub3c8\ubc84\ub294\uc5b4\ud50c]\uc571\ud14c\ud06c \ud544\uc218\uc5b4\ud50c - \uc571\ud5cc\ud130 2"
       ]
      },
      {
       "output_type": "stream",
       "stream": "stdout",
       "text": [
        " \uc74c\uc545\n",
        "[\ub3c8\ubc84\ub294\uc5b4\ud50c]\uc571\ud14c\ud06c \ud544\uc218\uc5b4\ud50c - \uc571\ud5cc\ud130 2 \ub9ac\ubdf0\n",
        "[\ub3c8\ubc84\ub294\uc5b4\ud50c]\uc571\ud14c\ud06c \ud544\uc218\uc5b4\ud50c - \uc571\ud5cc\ud130 2"
       ]
      },
      {
       "output_type": "stream",
       "stream": "stdout",
       "text": [
        " \uc5f0\uc608\n",
        "[\ub3c8\ubc84\ub294\uc5b4\ud50c]\uc571\ud14c\ud06c \ud544\uc218\uc5b4\ud50c - \uc571\ud5cc\ud130 2 \uc74c\uc2dd\n",
        "[\ub3c8\ubc84\ub294\uc5b4\ud50c]\uc571\ud14c\ud06c \ud544\uc218\uc5b4\ud50c - \uc571\ud5cc\ud130 2"
       ]
      },
      {
       "output_type": "stream",
       "stream": "stdout",
       "text": [
        " \uc2a4\ud3ec\uce20\n",
        "[\ub3c8\ubc84\ub294\uc5b4\ud50c]\uc571\ud14c\ud06c \ud544\uc218\uc5b4\ud50c - \uc571\ud5cc\ud130 2 \uac8c\uc784\n",
        "[\ub3c8\ubc84\ub294\uc5b4\ud50c]\uc571\ud14c\ud06c \ud544\uc218\uc5b4\ud50c - \uc571\ud5cc\ud130 2"
       ]
      },
      {
       "output_type": "stream",
       "stream": "stdout",
       "text": [
        " \uac74\uac15\n",
        "[\ub3c8\ubc84\ub294\uc5b4\ud50c]\uc571\ud14c\ud06c \ud544\uc218\uc5b4\ud50c - \uc571\ud5cc\ud130 2"
       ]
      },
      {
       "output_type": "stream",
       "stream": "stdout",
       "text": [
        " \ud559\uc2b5\n",
        "[\ub3c8\ubc84\ub294\uc5b4\ud50c]\uc571\ud14c\ud06c \ud544\uc218\uc5b4\ud50c - \uc571\ud5cc\ud130 2 \ucee4\ubba4\ub2c8\ud2f0\n",
        "Around the World in 80 Days"
       ]
      },
      {
       "output_type": "stream",
       "stream": "stdout",
       "text": [
        " \ubbf8\uc6a9\n",
        "Around the World in 80 Days"
       ]
      },
      {
       "output_type": "stream",
       "stream": "stdout",
       "text": [
        " \uc74c\uc545\n",
        "Around the World in 80 Days"
       ]
      },
      {
       "output_type": "stream",
       "stream": "stdout",
       "text": [
        " \ub9ac\ubdf0\n",
        "Around the World in 80 Days"
       ]
      },
      {
       "output_type": "stream",
       "stream": "stdout",
       "text": [
        " \uc5f0\uc608\n",
        "Around the World in 80 Days"
       ]
      },
      {
       "output_type": "stream",
       "stream": "stdout",
       "text": [
        " \uc74c\uc2dd\n",
        "Around the World in 80 Days"
       ]
      },
      {
       "output_type": "stream",
       "stream": "stdout",
       "text": [
        " \uc2a4\ud3ec\uce20\n",
        "Around the World in 80 Days"
       ]
      },
      {
       "output_type": "stream",
       "stream": "stdout",
       "text": [
        " \uac8c\uc784\n",
        "Around the World in 80 Days"
       ]
      },
      {
       "output_type": "stream",
       "stream": "stdout",
       "text": [
        " \uac74\uac15\n",
        "Around the World in 80 Days"
       ]
      },
      {
       "output_type": "stream",
       "stream": "stdout",
       "text": [
        " \ud559\uc2b5\n",
        "Around the World in 80 Days"
       ]
      },
      {
       "output_type": "stream",
       "stream": "stdout",
       "text": [
        " \ucee4\ubba4\ub2c8\ud2f0\n",
        "\uadc0\uc5ec\uc6b4\ub77c\uc774\ube0c \ubc30\uacbd\ud654\uba74"
       ]
      },
      {
       "output_type": "stream",
       "stream": "stdout",
       "text": [
        " \ubbf8\uc6a9\n",
        "\uadc0\uc5ec\uc6b4\ub77c\uc774\ube0c \ubc30\uacbd\ud654\uba74"
       ]
      },
      {
       "output_type": "stream",
       "stream": "stdout",
       "text": [
        " \uc74c\uc545\n",
        "\uadc0\uc5ec\uc6b4\ub77c\uc774\ube0c \ubc30\uacbd\ud654\uba74 \ub9ac\ubdf0\n",
        "\uadc0\uc5ec\uc6b4\ub77c\uc774\ube0c \ubc30\uacbd\ud654\uba74"
       ]
      },
      {
       "output_type": "stream",
       "stream": "stdout",
       "text": [
        " \uc5f0\uc608\n",
        "\uadc0\uc5ec\uc6b4\ub77c\uc774\ube0c \ubc30\uacbd\ud654\uba74"
       ]
      },
      {
       "output_type": "stream",
       "stream": "stdout",
       "text": [
        " \uc74c\uc2dd\n",
        "\uadc0\uc5ec\uc6b4\ub77c\uc774\ube0c \ubc30\uacbd\ud654\uba74"
       ]
      },
      {
       "output_type": "stream",
       "stream": "stdout",
       "text": [
        " \uc2a4\ud3ec\uce20\n",
        "\uadc0\uc5ec\uc6b4\ub77c\uc774\ube0c \ubc30\uacbd\ud654\uba74"
       ]
      },
      {
       "output_type": "stream",
       "stream": "stdout",
       "text": [
        " \uac8c\uc784\n",
        "\uadc0\uc5ec\uc6b4\ub77c\uc774\ube0c \ubc30\uacbd\ud654\uba74"
       ]
      },
      {
       "output_type": "stream",
       "stream": "stdout",
       "text": [
        " \uac74\uac15\n",
        "\uadc0\uc5ec\uc6b4\ub77c\uc774\ube0c \ubc30\uacbd\ud654\uba74"
       ]
      },
      {
       "output_type": "stream",
       "stream": "stdout",
       "text": [
        " \ud559\uc2b5\n",
        "\uadc0\uc5ec\uc6b4\ub77c\uc774\ube0c \ubc30\uacbd\ud654\uba74"
       ]
      },
      {
       "output_type": "stream",
       "stream": "stdout",
       "text": [
        " \ucee4\ubba4\ub2c8\ud2f0\n",
        "GTA 5 is Coming!!!"
       ]
      },
      {
       "output_type": "stream",
       "stream": "stdout",
       "text": [
        " \ubbf8\uc6a9\n",
        "GTA 5 is Coming!!! \uc74c\uc545\n",
        "GTA 5 is Coming!!!"
       ]
      },
      {
       "output_type": "stream",
       "stream": "stdout",
       "text": [
        " \ub9ac\ubdf0\n",
        "GTA 5 is Coming!!!"
       ]
      },
      {
       "output_type": "stream",
       "stream": "stdout",
       "text": [
        " \uc5f0\uc608\n",
        "GTA 5 is Coming!!!"
       ]
      },
      {
       "output_type": "stream",
       "stream": "stdout",
       "text": [
        " \uc74c\uc2dd\n",
        "GTA 5 is Coming!!!"
       ]
      },
      {
       "output_type": "stream",
       "stream": "stdout",
       "text": [
        " \uc2a4\ud3ec\uce20\n",
        "GTA 5 is Coming!!!"
       ]
      },
      {
       "output_type": "stream",
       "stream": "stdout",
       "text": [
        " \uac8c\uc784\n",
        "GTA 5 is Coming!!!"
       ]
      },
      {
       "output_type": "stream",
       "stream": "stdout",
       "text": [
        " \uac74\uac15\n",
        "GTA 5 is Coming!!!"
       ]
      },
      {
       "output_type": "stream",
       "stream": "stdout",
       "text": [
        " \ud559\uc2b5\n",
        "GTA 5 is Coming!!!"
       ]
      },
      {
       "output_type": "stream",
       "stream": "stdout",
       "text": [
        " \ucee4\ubba4\ub2c8\ud2f0\n",
        "Real Racing 2 Free"
       ]
      },
      {
       "output_type": "stream",
       "stream": "stdout",
       "text": [
        " \ubbf8\uc6a9\n",
        "Real Racing 2 Free"
       ]
      },
      {
       "output_type": "stream",
       "stream": "stdout",
       "text": [
        " \uc74c\uc545\n",
        "Real Racing 2 Free"
       ]
      },
      {
       "output_type": "stream",
       "stream": "stdout",
       "text": [
        " \ub9ac\ubdf0\n",
        "Real Racing 2 Free"
       ]
      },
      {
       "output_type": "stream",
       "stream": "stdout",
       "text": [
        " \uc5f0\uc608\n",
        "Real Racing 2 Free"
       ]
      },
      {
       "output_type": "stream",
       "stream": "stdout",
       "text": [
        " \uc74c\uc2dd\n",
        "Real Racing 2 Free"
       ]
      },
      {
       "output_type": "stream",
       "stream": "stdout",
       "text": [
        " \uc2a4\ud3ec\uce20\n",
        "Real Racing 2 Free"
       ]
      },
      {
       "output_type": "stream",
       "stream": "stdout",
       "text": [
        " \uac8c\uc784\n",
        "Real Racing 2 Free"
       ]
      },
      {
       "output_type": "stream",
       "stream": "stdout",
       "text": [
        " \uac74\uac15\n",
        "Real Racing 2 Free"
       ]
      },
      {
       "output_type": "stream",
       "stream": "stdout",
       "text": [
        " \ud559\uc2b5\n",
        "Real Racing 2 Free \ucee4\ubba4\ub2c8\ud2f0\n",
        "\uc815\ud1b5\uc12f\ub2e4 2013"
       ]
      },
      {
       "output_type": "stream",
       "stream": "stdout",
       "text": [
        " \ubbf8\uc6a9\n",
        "\uc815\ud1b5\uc12f\ub2e4 2013"
       ]
      },
      {
       "output_type": "stream",
       "stream": "stdout",
       "text": [
        " \uc74c\uc545\n",
        "\uc815\ud1b5\uc12f\ub2e4 2013 \ub9ac\ubdf0\n",
        "\uc815\ud1b5\uc12f\ub2e4 2013"
       ]
      },
      {
       "output_type": "stream",
       "stream": "stdout",
       "text": [
        " \uc5f0\uc608\n",
        "\uc815\ud1b5\uc12f\ub2e4 2013"
       ]
      },
      {
       "output_type": "stream",
       "stream": "stdout",
       "text": [
        " \uc74c\uc2dd\n",
        "\uc815\ud1b5\uc12f\ub2e4 2013"
       ]
      },
      {
       "output_type": "stream",
       "stream": "stdout",
       "text": [
        " \uc2a4\ud3ec\uce20\n",
        "\uc815\ud1b5\uc12f\ub2e4 2013 \uac8c\uc784\n",
        "\uc815\ud1b5\uc12f\ub2e4 2013"
       ]
      },
      {
       "output_type": "stream",
       "stream": "stdout",
       "text": [
        " \uac74\uac15\n",
        "\uc815\ud1b5\uc12f\ub2e4 2013"
       ]
      },
      {
       "output_type": "stream",
       "stream": "stdout",
       "text": [
        " \ud559\uc2b5\n",
        "\uc815\ud1b5\uc12f\ub2e4 2013"
       ]
      },
      {
       "output_type": "stream",
       "stream": "stdout",
       "text": [
        " \ucee4\ubba4\ub2c8\ud2f0\n",
        "Hangman"
       ]
      },
      {
       "output_type": "stream",
       "stream": "stdout",
       "text": [
        " \ubbf8\uc6a9\n",
        "Hangman"
       ]
      },
      {
       "output_type": "stream",
       "stream": "stdout",
       "text": [
        " \uc74c\uc545\n",
        "Hangman"
       ]
      },
      {
       "output_type": "stream",
       "stream": "stdout",
       "text": [
        " \ub9ac\ubdf0\n",
        "Hangman"
       ]
      },
      {
       "output_type": "stream",
       "stream": "stdout",
       "text": [
        " \uc5f0\uc608\n",
        "Hangman"
       ]
      },
      {
       "output_type": "stream",
       "stream": "stdout",
       "text": [
        " \uc74c\uc2dd\n",
        "Hangman"
       ]
      },
      {
       "output_type": "stream",
       "stream": "stdout",
       "text": [
        " \uc2a4\ud3ec\uce20\n",
        "Hangman"
       ]
      },
      {
       "output_type": "stream",
       "stream": "stdout",
       "text": [
        " \uac8c\uc784\n",
        "Hangman"
       ]
      },
      {
       "output_type": "stream",
       "stream": "stdout",
       "text": [
        " \uac74\uac15\n",
        "Hangman"
       ]
      },
      {
       "output_type": "stream",
       "stream": "stdout",
       "text": [
        " \ud559\uc2b5\n",
        "Hangman"
       ]
      },
      {
       "output_type": "stream",
       "stream": "stdout",
       "text": [
        " \ucee4\ubba4\ub2c8\ud2f0\n",
        "Brainsss"
       ]
      },
      {
       "output_type": "stream",
       "stream": "stdout",
       "text": [
        " \ubbf8\uc6a9\n",
        "Brainsss"
       ]
      },
      {
       "output_type": "stream",
       "stream": "stdout",
       "text": [
        " \uc74c\uc545\n",
        "Brainsss"
       ]
      },
      {
       "output_type": "stream",
       "stream": "stdout",
       "text": [
        " \ub9ac\ubdf0\n",
        "Brainsss"
       ]
      },
      {
       "output_type": "stream",
       "stream": "stdout",
       "text": [
        " \uc5f0\uc608\n",
        "Brainsss"
       ]
      },
      {
       "output_type": "stream",
       "stream": "stdout",
       "text": [
        " \uc74c\uc2dd\n",
        "Brainsss"
       ]
      },
      {
       "output_type": "stream",
       "stream": "stdout",
       "text": [
        " \uc2a4\ud3ec\uce20\n",
        "Brainsss"
       ]
      },
      {
       "output_type": "stream",
       "stream": "stdout",
       "text": [
        " \uac8c\uc784\n",
        "Brainsss"
       ]
      },
      {
       "output_type": "stream",
       "stream": "stdout",
       "text": [
        " \uac74\uac15\n",
        "Brainsss"
       ]
      },
      {
       "output_type": "stream",
       "stream": "stdout",
       "text": [
        " \ud559\uc2b5\n",
        "Brainsss"
       ]
      },
      {
       "output_type": "stream",
       "stream": "stdout",
       "text": [
        " \ucee4\ubba4\ub2c8\ud2f0\n",
        "Tickling cat"
       ]
      },
      {
       "output_type": "stream",
       "stream": "stdout",
       "text": [
        " \ubbf8\uc6a9\n",
        "Tickling cat \uc74c\uc545\n",
        "Tickling cat"
       ]
      },
      {
       "output_type": "stream",
       "stream": "stdout",
       "text": [
        " \ub9ac\ubdf0\n",
        "Tickling cat"
       ]
      },
      {
       "output_type": "stream",
       "stream": "stdout",
       "text": [
        " \uc5f0\uc608\n",
        "Tickling cat"
       ]
      },
      {
       "output_type": "stream",
       "stream": "stdout",
       "text": [
        " \uc74c\uc2dd\n",
        "Tickling cat"
       ]
      },
      {
       "output_type": "stream",
       "stream": "stdout",
       "text": [
        " \uc2a4\ud3ec\uce20\n",
        "Tickling cat \uac8c\uc784\n",
        "Tickling cat"
       ]
      },
      {
       "output_type": "stream",
       "stream": "stdout",
       "text": [
        " \uac74\uac15\n",
        "Tickling cat \ud559\uc2b5\n",
        "Tickling cat"
       ]
      },
      {
       "output_type": "stream",
       "stream": "stdout",
       "text": [
        " \ucee4\ubba4\ub2c8\ud2f0\n",
        "\uc880\ube44 \uce74\ud398 \ubbf8\uc6a9\n",
        "\uc880\ube44 \uce74\ud398"
       ]
      },
      {
       "output_type": "stream",
       "stream": "stdout",
       "text": [
        " \uc74c\uc545\n",
        "\uc880\ube44 \uce74\ud398 \ub9ac\ubdf0\n",
        "\uc880\ube44 \uce74\ud398"
       ]
      },
      {
       "output_type": "stream",
       "stream": "stdout",
       "text": [
        " \uc5f0\uc608\n",
        "\uc880\ube44 \uce74\ud398"
       ]
      },
      {
       "output_type": "stream",
       "stream": "stdout",
       "text": [
        " \uc74c\uc2dd\n",
        "\uc880\ube44 \uce74\ud398"
       ]
      },
      {
       "output_type": "stream",
       "stream": "stdout",
       "text": [
        " \uc2a4\ud3ec\uce20\n",
        "\uc880\ube44 \uce74\ud398"
       ]
      },
      {
       "output_type": "stream",
       "stream": "stdout",
       "text": [
        " \uac8c\uc784\n",
        "\uc880\ube44 \uce74\ud398"
       ]
      },
      {
       "output_type": "stream",
       "stream": "stdout",
       "text": [
        " \uac74\uac15\n",
        "\uc880\ube44 \uce74\ud398"
       ]
      },
      {
       "output_type": "stream",
       "stream": "stdout",
       "text": [
        " \ud559\uc2b5\n",
        "\uc880\ube44 \uce74\ud398"
       ]
      },
      {
       "output_type": "stream",
       "stream": "stdout",
       "text": [
        " \ucee4\ubba4\ub2c8\ud2f0\n",
        "\u9748\u5360\u5929\u4e0b-\u516b\u5b57 \u5360\u535c \u7b97\u547d \u661f\u5ea7 \u904b\u52e2"
       ]
      },
      {
       "output_type": "stream",
       "stream": "stdout",
       "text": [
        " \ubbf8\uc6a9\n",
        "\u9748\u5360\u5929\u4e0b-\u516b\u5b57 \u5360\u535c \u7b97\u547d \u661f\u5ea7 \u904b\u52e2"
       ]
      },
      {
       "output_type": "stream",
       "stream": "stdout",
       "text": [
        " \uc74c\uc545\n",
        "\u9748\u5360\u5929\u4e0b-\u516b\u5b57 \u5360\u535c \u7b97\u547d \u661f\u5ea7 \u904b\u52e2"
       ]
      },
      {
       "output_type": "stream",
       "stream": "stdout",
       "text": [
        " \ub9ac\ubdf0\n",
        "\u9748\u5360\u5929\u4e0b-\u516b\u5b57 \u5360\u535c \u7b97\u547d \u661f\u5ea7 \u904b\u52e2"
       ]
      },
      {
       "output_type": "stream",
       "stream": "stdout",
       "text": [
        " \uc5f0\uc608\n",
        "\u9748\u5360\u5929\u4e0b-\u516b\u5b57 \u5360\u535c \u7b97\u547d \u661f\u5ea7 \u904b\u52e2"
       ]
      },
      {
       "output_type": "stream",
       "stream": "stdout",
       "text": [
        " \uc74c\uc2dd\n",
        "\u9748\u5360\u5929\u4e0b-\u516b\u5b57 \u5360\u535c \u7b97\u547d \u661f\u5ea7 \u904b\u52e2"
       ]
      },
      {
       "output_type": "stream",
       "stream": "stdout",
       "text": [
        " \uc2a4\ud3ec\uce20\n",
        "\u9748\u5360\u5929\u4e0b-\u516b\u5b57 \u5360\u535c \u7b97\u547d \u661f\u5ea7 \u904b\u52e2"
       ]
      },
      {
       "output_type": "stream",
       "stream": "stdout",
       "text": [
        " \uac8c\uc784\n",
        "\u9748\u5360\u5929\u4e0b-\u516b\u5b57 \u5360\u535c \u7b97\u547d \u661f\u5ea7 \u904b\u52e2"
       ]
      },
      {
       "output_type": "stream",
       "stream": "stdout",
       "text": [
        " \uac74\uac15\n",
        "\u9748\u5360\u5929\u4e0b-\u516b\u5b57 \u5360\u535c \u7b97\u547d \u661f\u5ea7 \u904b\u52e2"
       ]
      },
      {
       "output_type": "stream",
       "stream": "stdout",
       "text": [
        " \ud559\uc2b5\n",
        "\u9748\u5360\u5929\u4e0b-\u516b\u5b57 \u5360\u535c \u7b97\u547d \u661f\u5ea7 \u904b\u52e2"
       ]
      },
      {
       "output_type": "stream",
       "stream": "stdout",
       "text": [
        " \ucee4\ubba4\ub2c8\ud2f0\n",
        "FC\ub9e4\ub2c8\uc800 \ubaa8\ubc14\uc77c"
       ]
      },
      {
       "output_type": "stream",
       "stream": "stdout",
       "text": [
        " \ubbf8\uc6a9\n",
        "FC\ub9e4\ub2c8\uc800 \ubaa8\ubc14\uc77c"
       ]
      },
      {
       "output_type": "stream",
       "stream": "stdout",
       "text": [
        " \uc74c\uc545\n",
        "FC\ub9e4\ub2c8\uc800 \ubaa8\ubc14\uc77c"
       ]
      },
      {
       "output_type": "stream",
       "stream": "stdout",
       "text": [
        " \ub9ac\ubdf0\n",
        "FC\ub9e4\ub2c8\uc800 \ubaa8\ubc14\uc77c"
       ]
      },
      {
       "output_type": "stream",
       "stream": "stdout",
       "text": [
        " \uc5f0\uc608\n",
        "FC\ub9e4\ub2c8\uc800 \ubaa8\ubc14\uc77c"
       ]
      },
      {
       "output_type": "stream",
       "stream": "stdout",
       "text": [
        " \uc74c\uc2dd\n",
        "FC\ub9e4\ub2c8\uc800 \ubaa8\ubc14\uc77c"
       ]
      },
      {
       "output_type": "stream",
       "stream": "stdout",
       "text": [
        " \uc2a4\ud3ec\uce20\n",
        "FC\ub9e4\ub2c8\uc800 \ubaa8\ubc14\uc77c"
       ]
      },
      {
       "output_type": "stream",
       "stream": "stdout",
       "text": [
        " \uac8c\uc784\n",
        "FC\ub9e4\ub2c8\uc800 \ubaa8\ubc14\uc77c"
       ]
      },
      {
       "output_type": "stream",
       "stream": "stdout",
       "text": [
        " \uac74\uac15\n",
        "FC\ub9e4\ub2c8\uc800 \ubaa8\ubc14\uc77c"
       ]
      },
      {
       "output_type": "stream",
       "stream": "stdout",
       "text": [
        " \ud559\uc2b5\n",
        "FC\ub9e4\ub2c8\uc800 \ubaa8\ubc14\uc77c"
       ]
      },
      {
       "output_type": "stream",
       "stream": "stdout",
       "text": [
        " \ucee4\ubba4\ub2c8\ud2f0\n",
        "Treasures of Montezuma Blitz"
       ]
      },
      {
       "output_type": "stream",
       "stream": "stdout",
       "text": [
        " \ubbf8\uc6a9\n",
        "Treasures of Montezuma Blitz"
       ]
      },
      {
       "output_type": "stream",
       "stream": "stdout",
       "text": [
        " \uc74c\uc545\n",
        "Treasures of Montezuma Blitz"
       ]
      },
      {
       "output_type": "stream",
       "stream": "stdout",
       "text": [
        " \ub9ac\ubdf0\n",
        "Treasures of Montezuma Blitz"
       ]
      },
      {
       "output_type": "stream",
       "stream": "stdout",
       "text": [
        " \uc5f0\uc608\n",
        "Treasures of Montezuma Blitz"
       ]
      },
      {
       "output_type": "stream",
       "stream": "stdout",
       "text": [
        " \uc74c\uc2dd\n",
        "Treasures of Montezuma Blitz"
       ]
      },
      {
       "output_type": "stream",
       "stream": "stdout",
       "text": [
        " \uc2a4\ud3ec\uce20\n",
        "Treasures of Montezuma Blitz"
       ]
      },
      {
       "output_type": "stream",
       "stream": "stdout",
       "text": [
        " \uac8c\uc784\n",
        "Treasures of Montezuma Blitz"
       ]
      },
      {
       "output_type": "stream",
       "stream": "stdout",
       "text": [
        " \uac74\uac15\n",
        "Treasures of Montezuma Blitz"
       ]
      },
      {
       "output_type": "stream",
       "stream": "stdout",
       "text": [
        " \ud559\uc2b5\n",
        "Treasures of Montezuma Blitz"
       ]
      },
      {
       "output_type": "stream",
       "stream": "stdout",
       "text": [
        " \ucee4\ubba4\ub2c8\ud2f0\n",
        "\u901a\u8a71\u7d00\u9304++"
       ]
      },
      {
       "output_type": "stream",
       "stream": "stdout",
       "text": [
        " \ubbf8\uc6a9\n",
        "\u901a\u8a71\u7d00\u9304++"
       ]
      },
      {
       "output_type": "stream",
       "stream": "stdout",
       "text": [
        " \uc74c\uc545\n",
        "\u901a\u8a71\u7d00\u9304++"
       ]
      },
      {
       "output_type": "stream",
       "stream": "stdout",
       "text": [
        " \ub9ac\ubdf0\n",
        "\u901a\u8a71\u7d00\u9304++"
       ]
      },
      {
       "output_type": "stream",
       "stream": "stdout",
       "text": [
        " \uc5f0\uc608\n",
        "\u901a\u8a71\u7d00\u9304++"
       ]
      },
      {
       "output_type": "stream",
       "stream": "stdout",
       "text": [
        " \uc74c\uc2dd\n",
        "\u901a\u8a71\u7d00\u9304++"
       ]
      },
      {
       "output_type": "stream",
       "stream": "stdout",
       "text": [
        " \uc2a4\ud3ec\uce20\n",
        "\u901a\u8a71\u7d00\u9304++"
       ]
      },
      {
       "output_type": "stream",
       "stream": "stdout",
       "text": [
        " \uac8c\uc784\n",
        "\u901a\u8a71\u7d00\u9304++"
       ]
      },
      {
       "output_type": "stream",
       "stream": "stdout",
       "text": [
        " \uac74\uac15\n",
        "\u901a\u8a71\u7d00\u9304++"
       ]
      },
      {
       "output_type": "stream",
       "stream": "stdout",
       "text": [
        " \ud559\uc2b5\n",
        "\u901a\u8a71\u7d00\u9304++"
       ]
      },
      {
       "output_type": "stream",
       "stream": "stdout",
       "text": [
        " \ucee4\ubba4\ub2c8\ud2f0\n",
        "Kula Jump"
       ]
      },
      {
       "output_type": "stream",
       "stream": "stdout",
       "text": [
        " \ubbf8\uc6a9\n",
        "Kula Jump"
       ]
      },
      {
       "output_type": "stream",
       "stream": "stdout",
       "text": [
        " \uc74c\uc545\n",
        "Kula Jump"
       ]
      },
      {
       "output_type": "stream",
       "stream": "stdout",
       "text": [
        " \ub9ac\ubdf0\n",
        "Kula Jump"
       ]
      },
      {
       "output_type": "stream",
       "stream": "stdout",
       "text": [
        " \uc5f0\uc608\n",
        "Kula Jump"
       ]
      },
      {
       "output_type": "stream",
       "stream": "stdout",
       "text": [
        " \uc74c\uc2dd\n",
        "Kula Jump \uc2a4\ud3ec\uce20\n",
        "Kula Jump"
       ]
      },
      {
       "output_type": "stream",
       "stream": "stdout",
       "text": [
        " \uac8c\uc784\n",
        "Kula Jump"
       ]
      },
      {
       "output_type": "stream",
       "stream": "stdout",
       "text": [
        " \uac74\uac15\n",
        "Kula Jump"
       ]
      },
      {
       "output_type": "stream",
       "stream": "stdout",
       "text": [
        " \ud559\uc2b5\n",
        "Kula Jump"
       ]
      },
      {
       "output_type": "stream",
       "stream": "stdout",
       "text": [
        " \ucee4\ubba4\ub2c8\ud2f0\n",
        "\ub4dc\ub798\uace4\ud50c\ub77c\uc774\ud2b8 \uacf5\ub7b5\ucee4\ubba4\ub2c8\ud2f0 \ud578\ub514\uac8c\uc784"
       ]
      },
      {
       "output_type": "stream",
       "stream": "stdout",
       "text": [
        " \ubbf8\uc6a9\n",
        "\ub4dc\ub798\uace4\ud50c\ub77c\uc774\ud2b8 \uacf5\ub7b5\ucee4\ubba4\ub2c8\ud2f0 \ud578\ub514\uac8c\uc784"
       ]
      },
      {
       "output_type": "stream",
       "stream": "stdout",
       "text": [
        " \uc74c\uc545\n",
        "\ub4dc\ub798\uace4\ud50c\ub77c\uc774\ud2b8 \uacf5\ub7b5\ucee4\ubba4\ub2c8\ud2f0 \ud578\ub514\uac8c\uc784 \ub9ac\ubdf0\n",
        "\ub4dc\ub798\uace4\ud50c\ub77c\uc774\ud2b8 \uacf5\ub7b5\ucee4\ubba4\ub2c8\ud2f0 \ud578\ub514\uac8c\uc784"
       ]
      },
      {
       "output_type": "stream",
       "stream": "stdout",
       "text": [
        " \uc5f0\uc608\n",
        "\ub4dc\ub798\uace4\ud50c\ub77c\uc774\ud2b8 \uacf5\ub7b5\ucee4\ubba4\ub2c8\ud2f0 \ud578\ub514\uac8c\uc784"
       ]
      },
      {
       "output_type": "stream",
       "stream": "stdout",
       "text": [
        " \uc74c\uc2dd\n",
        "\ub4dc\ub798\uace4\ud50c\ub77c\uc774\ud2b8 \uacf5\ub7b5\ucee4\ubba4\ub2c8\ud2f0 \ud578\ub514\uac8c\uc784 \uc2a4\ud3ec\uce20\n",
        "\ub4dc\ub798\uace4\ud50c\ub77c\uc774\ud2b8 \uacf5\ub7b5\ucee4\ubba4\ub2c8\ud2f0 \ud578\ub514\uac8c\uc784"
       ]
      },
      {
       "output_type": "stream",
       "stream": "stdout",
       "text": [
        " \uac8c\uc784\n",
        "\ub4dc\ub798\uace4\ud50c\ub77c\uc774\ud2b8 \uacf5\ub7b5\ucee4\ubba4\ub2c8\ud2f0 \ud578\ub514\uac8c\uc784"
       ]
      },
      {
       "output_type": "stream",
       "stream": "stdout",
       "text": [
        " \uac74\uac15\n",
        "\ub4dc\ub798\uace4\ud50c\ub77c\uc774\ud2b8 \uacf5\ub7b5\ucee4\ubba4\ub2c8\ud2f0 \ud578\ub514\uac8c\uc784"
       ]
      },
      {
       "output_type": "stream",
       "stream": "stdout",
       "text": [
        " \ud559\uc2b5\n",
        "\ub4dc\ub798\uace4\ud50c\ub77c\uc774\ud2b8 \uacf5\ub7b5\ucee4\ubba4\ub2c8\ud2f0 \ud578\ub514\uac8c\uc784"
       ]
      },
      {
       "output_type": "stream",
       "stream": "stdout",
       "text": [
        " \ucee4\ubba4\ub2c8\ud2f0\n",
        "\uac1c\uad6c\ub9ac \ubb34\ub8cc \ub3c4\uc57d"
       ]
      },
      {
       "output_type": "stream",
       "stream": "stdout",
       "text": [
        " \ubbf8\uc6a9\n",
        "\uac1c\uad6c\ub9ac \ubb34\ub8cc \ub3c4\uc57d"
       ]
      },
      {
       "output_type": "stream",
       "stream": "stdout",
       "text": [
        " \uc74c\uc545\n",
        "\uac1c\uad6c\ub9ac \ubb34\ub8cc \ub3c4\uc57d"
       ]
      },
      {
       "output_type": "stream",
       "stream": "stdout",
       "text": [
        " \ub9ac\ubdf0\n",
        "\uac1c\uad6c\ub9ac \ubb34\ub8cc \ub3c4\uc57d"
       ]
      },
      {
       "output_type": "stream",
       "stream": "stdout",
       "text": [
        " \uc5f0\uc608\n",
        "\uac1c\uad6c\ub9ac \ubb34\ub8cc \ub3c4\uc57d"
       ]
      },
      {
       "output_type": "stream",
       "stream": "stdout",
       "text": [
        " \uc74c\uc2dd\n",
        "\uac1c\uad6c\ub9ac \ubb34\ub8cc \ub3c4\uc57d"
       ]
      },
      {
       "output_type": "stream",
       "stream": "stdout",
       "text": [
        " \uc2a4\ud3ec\uce20\n",
        "\uac1c\uad6c\ub9ac \ubb34\ub8cc \ub3c4\uc57d"
       ]
      },
      {
       "output_type": "stream",
       "stream": "stdout",
       "text": [
        " \uac8c\uc784\n",
        "\uac1c\uad6c\ub9ac \ubb34\ub8cc \ub3c4\uc57d"
       ]
      },
      {
       "output_type": "stream",
       "stream": "stdout",
       "text": [
        " \uac74\uac15\n",
        "\uac1c\uad6c\ub9ac \ubb34\ub8cc \ub3c4\uc57d"
       ]
      },
      {
       "output_type": "stream",
       "stream": "stdout",
       "text": [
        " \ud559\uc2b5\n",
        "\uac1c\uad6c\ub9ac \ubb34\ub8cc \ub3c4\uc57d"
       ]
      },
      {
       "output_type": "stream",
       "stream": "stdout",
       "text": [
        " \ucee4\ubba4\ub2c8\ud2f0\n",
        "Deluxe Apartment Escape"
       ]
      },
      {
       "output_type": "stream",
       "stream": "stdout",
       "text": [
        " \ubbf8\uc6a9\n",
        "Deluxe Apartment Escape"
       ]
      },
      {
       "output_type": "stream",
       "stream": "stdout",
       "text": [
        " \uc74c\uc545\n",
        "Deluxe Apartment Escape"
       ]
      },
      {
       "output_type": "stream",
       "stream": "stdout",
       "text": [
        " \ub9ac\ubdf0\n",
        "Deluxe Apartment Escape"
       ]
      },
      {
       "output_type": "stream",
       "stream": "stdout",
       "text": [
        " \uc5f0\uc608\n",
        "Deluxe Apartment Escape"
       ]
      },
      {
       "output_type": "stream",
       "stream": "stdout",
       "text": [
        " \uc74c\uc2dd\n",
        "Deluxe Apartment Escape"
       ]
      },
      {
       "output_type": "stream",
       "stream": "stdout",
       "text": [
        " \uc2a4\ud3ec\uce20\n",
        "Deluxe Apartment Escape"
       ]
      },
      {
       "output_type": "stream",
       "stream": "stdout",
       "text": [
        " \uac8c\uc784\n",
        "Deluxe Apartment Escape"
       ]
      },
      {
       "output_type": "stream",
       "stream": "stdout",
       "text": [
        " \uac74\uac15\n",
        "Deluxe Apartment Escape"
       ]
      },
      {
       "output_type": "stream",
       "stream": "stdout",
       "text": [
        " \ud559\uc2b5\n",
        "Deluxe Apartment Escape"
       ]
      },
      {
       "output_type": "stream",
       "stream": "stdout",
       "text": [
        " \ucee4\ubba4\ub2c8\ud2f0\n",
        "\u9f8d\u65cf \ubbf8\uc6a9\n",
        "\u9f8d\u65cf"
       ]
      },
      {
       "output_type": "stream",
       "stream": "stdout",
       "text": [
        " \uc74c\uc545\n",
        "\u9f8d\u65cf"
       ]
      },
      {
       "output_type": "stream",
       "stream": "stdout",
       "text": [
        " \ub9ac\ubdf0\n",
        "\u9f8d\u65cf"
       ]
      },
      {
       "output_type": "stream",
       "stream": "stdout",
       "text": [
        " \uc5f0\uc608\n",
        "\u9f8d\u65cf"
       ]
      },
      {
       "output_type": "stream",
       "stream": "stdout",
       "text": [
        " \uc74c\uc2dd\n",
        "\u9f8d\u65cf"
       ]
      },
      {
       "output_type": "stream",
       "stream": "stdout",
       "text": [
        " \uc2a4\ud3ec\uce20\n",
        "\u9f8d\u65cf \uac8c\uc784\n",
        "\u9f8d\u65cf"
       ]
      },
      {
       "output_type": "stream",
       "stream": "stdout",
       "text": [
        " \uac74\uac15\n",
        "\u9f8d\u65cf"
       ]
      },
      {
       "output_type": "stream",
       "stream": "stdout",
       "text": [
        " \ud559\uc2b5\n",
        "\u9f8d\u65cf"
       ]
      },
      {
       "output_type": "stream",
       "stream": "stdout",
       "text": [
        " \ucee4\ubba4\ub2c8\ud2f0\n",
        "\uac10\uc625 \ube0c\ub808\uc774\ud06c"
       ]
      },
      {
       "output_type": "stream",
       "stream": "stdout",
       "text": [
        " \ubbf8\uc6a9\n",
        "\uac10\uc625 \ube0c\ub808\uc774\ud06c"
       ]
      },
      {
       "output_type": "stream",
       "stream": "stdout",
       "text": [
        " \uc74c\uc545\n",
        "\uac10\uc625 \ube0c\ub808\uc774\ud06c"
       ]
      },
      {
       "output_type": "stream",
       "stream": "stdout",
       "text": [
        " \ub9ac\ubdf0\n",
        "\uac10\uc625 \ube0c\ub808\uc774\ud06c"
       ]
      },
      {
       "output_type": "stream",
       "stream": "stdout",
       "text": [
        " \uc5f0\uc608\n",
        "\uac10\uc625 \ube0c\ub808\uc774\ud06c"
       ]
      },
      {
       "output_type": "stream",
       "stream": "stdout",
       "text": [
        " \uc74c\uc2dd\n",
        "\uac10\uc625 \ube0c\ub808\uc774\ud06c"
       ]
      },
      {
       "output_type": "stream",
       "stream": "stdout",
       "text": [
        " \uc2a4\ud3ec\uce20\n",
        "\uac10\uc625 \ube0c\ub808\uc774\ud06c \uac8c\uc784\n",
        "\uac10\uc625 \ube0c\ub808\uc774\ud06c"
       ]
      },
      {
       "output_type": "stream",
       "stream": "stdout",
       "text": [
        " \uac74\uac15\n",
        "\uac10\uc625 \ube0c\ub808\uc774\ud06c"
       ]
      },
      {
       "output_type": "stream",
       "stream": "stdout",
       "text": [
        " \ud559\uc2b5\n",
        "\uac10\uc625 \ube0c\ub808\uc774\ud06c"
       ]
      },
      {
       "output_type": "stream",
       "stream": "stdout",
       "text": [
        " \ucee4\ubba4\ub2c8\ud2f0\n",
        "Hamlet (\ud584\ub9bf)"
       ]
      },
      {
       "output_type": "stream",
       "stream": "stdout",
       "text": [
        " \ubbf8\uc6a9\n",
        "Hamlet (\ud584\ub9bf)"
       ]
      },
      {
       "output_type": "stream",
       "stream": "stdout",
       "text": [
        " \uc74c\uc545\n",
        "Hamlet (\ud584\ub9bf)"
       ]
      },
      {
       "output_type": "stream",
       "stream": "stdout",
       "text": [
        " \ub9ac\ubdf0\n",
        "Hamlet (\ud584\ub9bf)"
       ]
      },
      {
       "output_type": "stream",
       "stream": "stdout",
       "text": [
        " \uc5f0\uc608\n",
        "Hamlet (\ud584\ub9bf) \uc74c\uc2dd\n",
        "Hamlet (\ud584\ub9bf)"
       ]
      },
      {
       "output_type": "stream",
       "stream": "stdout",
       "text": [
        " \uc2a4\ud3ec\uce20\n",
        "Hamlet (\ud584\ub9bf)"
       ]
      },
      {
       "output_type": "stream",
       "stream": "stdout",
       "text": [
        " \uac8c\uc784\n",
        "Hamlet (\ud584\ub9bf)"
       ]
      },
      {
       "output_type": "stream",
       "stream": "stdout",
       "text": [
        " \uac74\uac15\n",
        "Hamlet (\ud584\ub9bf)"
       ]
      },
      {
       "output_type": "stream",
       "stream": "stdout",
       "text": [
        " \ud559\uc2b5\n",
        "Hamlet (\ud584\ub9bf) \ucee4\ubba4\ub2c8\ud2f0\n",
        "Objetos Escondidos - Free Game"
       ]
      },
      {
       "output_type": "stream",
       "stream": "stdout",
       "text": [
        " \ubbf8\uc6a9\n",
        "Objetos Escondidos - Free Game"
       ]
      },
      {
       "output_type": "stream",
       "stream": "stdout",
       "text": [
        " \uc74c\uc545\n",
        "Objetos Escondidos - Free Game"
       ]
      },
      {
       "output_type": "stream",
       "stream": "stdout",
       "text": [
        " \ub9ac\ubdf0\n",
        "Objetos Escondidos - Free Game"
       ]
      },
      {
       "output_type": "stream",
       "stream": "stdout",
       "text": [
        " \uc5f0\uc608\n",
        "Objetos Escondidos - Free Game"
       ]
      },
      {
       "output_type": "stream",
       "stream": "stdout",
       "text": [
        " \uc74c\uc2dd\n",
        "Objetos Escondidos - Free Game"
       ]
      },
      {
       "output_type": "stream",
       "stream": "stdout",
       "text": [
        " \uc2a4\ud3ec\uce20\n",
        "Objetos Escondidos - Free Game"
       ]
      },
      {
       "output_type": "stream",
       "stream": "stdout",
       "text": [
        " \uac8c\uc784\n",
        "Objetos Escondidos - Free Game"
       ]
      },
      {
       "output_type": "stream",
       "stream": "stdout",
       "text": [
        " \uac74\uac15\n",
        "Objetos Escondidos - Free Game"
       ]
      },
      {
       "output_type": "stream",
       "stream": "stdout",
       "text": [
        " \ud559\uc2b5\n",
        "Objetos Escondidos - Free Game \ucee4\ubba4\ub2c8\ud2f0\n",
        "Clear Vision (17+)"
       ]
      },
      {
       "output_type": "stream",
       "stream": "stdout",
       "text": [
        " \ubbf8\uc6a9\n",
        "Clear Vision (17+) \uc74c\uc545\n",
        "Clear Vision (17+)"
       ]
      },
      {
       "output_type": "stream",
       "stream": "stdout",
       "text": [
        " \ub9ac\ubdf0\n",
        "Clear Vision (17+)"
       ]
      },
      {
       "output_type": "stream",
       "stream": "stdout",
       "text": [
        " \uc5f0\uc608\n",
        "Clear Vision (17+) \uc74c\uc2dd\n",
        "Clear Vision (17+)"
       ]
      },
      {
       "output_type": "stream",
       "stream": "stdout",
       "text": [
        " \uc2a4\ud3ec\uce20\n",
        "Clear Vision (17+) \uac8c\uc784\n",
        "Clear Vision (17+)"
       ]
      },
      {
       "output_type": "stream",
       "stream": "stdout",
       "text": [
        " \uac74\uac15\n",
        "Clear Vision (17+)"
       ]
      },
      {
       "output_type": "stream",
       "stream": "stdout",
       "text": [
        " \ud559\uc2b5\n",
        "Clear Vision (17+)"
       ]
      },
      {
       "output_type": "stream",
       "stream": "stdout",
       "text": [
        " \ucee4\ubba4\ub2c8\ud2f0\n",
        "\uc57c\ud55c\ub3d9\uc601\uc0c1 \ub204\ub4dc\ub9de\uace0 \ubbf8\uc6a9\n",
        "\uc57c\ud55c\ub3d9\uc601\uc0c1 \ub204\ub4dc\ub9de\uace0"
       ]
      },
      {
       "output_type": "stream",
       "stream": "stdout",
       "text": [
        " \uc74c\uc545\n",
        "\uc57c\ud55c\ub3d9\uc601\uc0c1 \ub204\ub4dc\ub9de\uace0"
       ]
      },
      {
       "output_type": "stream",
       "stream": "stdout",
       "text": [
        " \ub9ac\ubdf0\n",
        "\uc57c\ud55c\ub3d9\uc601\uc0c1 \ub204\ub4dc\ub9de\uace0 \uc5f0\uc608\n",
        "\uc57c\ud55c\ub3d9\uc601\uc0c1 \ub204\ub4dc\ub9de\uace0"
       ]
      },
      {
       "output_type": "stream",
       "stream": "stdout",
       "text": [
        " \uc74c\uc2dd\n",
        "\uc57c\ud55c\ub3d9\uc601\uc0c1 \ub204\ub4dc\ub9de\uace0 \uc2a4\ud3ec\uce20\n",
        "\uc57c\ud55c\ub3d9\uc601\uc0c1 \ub204\ub4dc\ub9de\uace0"
       ]
      },
      {
       "output_type": "stream",
       "stream": "stdout",
       "text": [
        " \uac8c\uc784\n",
        "\uc57c\ud55c\ub3d9\uc601\uc0c1 \ub204\ub4dc\ub9de\uace0"
       ]
      },
      {
       "output_type": "stream",
       "stream": "stdout",
       "text": [
        " \uac74\uac15\n",
        "\uc57c\ud55c\ub3d9\uc601\uc0c1 \ub204\ub4dc\ub9de\uace0"
       ]
      },
      {
       "output_type": "stream",
       "stream": "stdout",
       "text": [
        " \ud559\uc2b5\n",
        "\uc57c\ud55c\ub3d9\uc601\uc0c1 \ub204\ub4dc\ub9de\uace0"
       ]
      },
      {
       "output_type": "stream",
       "stream": "stdout",
       "text": [
        " \ucee4\ubba4\ub2c8\ud2f0\n",
        "Fling a Thing \ubbf8\uc6a9\n",
        "Fling a Thing"
       ]
      },
      {
       "output_type": "stream",
       "stream": "stdout",
       "text": [
        " \uc74c\uc545\n",
        "Fling a Thing"
       ]
      },
      {
       "output_type": "stream",
       "stream": "stdout",
       "text": [
        " \ub9ac\ubdf0\n",
        "Fling a Thing"
       ]
      },
      {
       "output_type": "stream",
       "stream": "stdout",
       "text": [
        " \uc5f0\uc608\n",
        "Fling a Thing \uc74c\uc2dd\n",
        "Fling a Thing"
       ]
      },
      {
       "output_type": "stream",
       "stream": "stdout",
       "text": [
        " \uc2a4\ud3ec\uce20\n",
        "Fling a Thing"
       ]
      },
      {
       "output_type": "stream",
       "stream": "stdout",
       "text": [
        " \uac8c\uc784\n",
        "Fling a Thing \uac74\uac15\n",
        "Fling a Thing"
       ]
      },
      {
       "output_type": "stream",
       "stream": "stdout",
       "text": [
        " \ud559\uc2b5\n",
        "Fling a Thing \ucee4\ubba4\ub2c8\ud2f0\n",
        "\ub864\ub7ec \ucf54\uc2a4\ud130 \ud06c\ub9ac\uc5d0\uc774\ud130"
       ]
      },
      {
       "output_type": "stream",
       "stream": "stdout",
       "text": [
        " \ubbf8\uc6a9\n",
        "\ub864\ub7ec \ucf54\uc2a4\ud130 \ud06c\ub9ac\uc5d0\uc774\ud130 \uc74c\uc545\n",
        "\ub864\ub7ec \ucf54\uc2a4\ud130 \ud06c\ub9ac\uc5d0\uc774\ud130"
       ]
      },
      {
       "output_type": "stream",
       "stream": "stdout",
       "text": [
        " \ub9ac\ubdf0\n",
        "\ub864\ub7ec \ucf54\uc2a4\ud130 \ud06c\ub9ac\uc5d0\uc774\ud130 \uc5f0\uc608\n",
        "\ub864\ub7ec \ucf54\uc2a4\ud130 \ud06c\ub9ac\uc5d0\uc774\ud130"
       ]
      },
      {
       "output_type": "stream",
       "stream": "stdout",
       "text": [
        " \uc74c\uc2dd\n",
        "\ub864\ub7ec \ucf54\uc2a4\ud130 \ud06c\ub9ac\uc5d0\uc774\ud130 \uc2a4\ud3ec\uce20\n",
        "\ub864\ub7ec \ucf54\uc2a4\ud130 \ud06c\ub9ac\uc5d0\uc774\ud130"
       ]
      },
      {
       "output_type": "stream",
       "stream": "stdout",
       "text": [
        " \uac8c\uc784\n",
        "\ub864\ub7ec \ucf54\uc2a4\ud130 \ud06c\ub9ac\uc5d0\uc774\ud130"
       ]
      },
      {
       "output_type": "stream",
       "stream": "stdout",
       "text": [
        " \uac74\uac15\n",
        "\ub864\ub7ec \ucf54\uc2a4\ud130 \ud06c\ub9ac\uc5d0\uc774\ud130"
       ]
      },
      {
       "output_type": "stream",
       "stream": "stdout",
       "text": [
        " \ud559\uc2b5\n",
        "\ub864\ub7ec \ucf54\uc2a4\ud130 \ud06c\ub9ac\uc5d0\uc774\ud130 \ucee4\ubba4\ub2c8\ud2f0\n",
        "Wireless Charger"
       ]
      },
      {
       "output_type": "stream",
       "stream": "stdout",
       "text": [
        " \ubbf8\uc6a9\n",
        "Wireless Charger \uc74c\uc545\n",
        "Wireless Charger"
       ]
      },
      {
       "output_type": "stream",
       "stream": "stdout",
       "text": [
        " \ub9ac\ubdf0\n",
        "Wireless Charger"
       ]
      },
      {
       "output_type": "stream",
       "stream": "stdout",
       "text": [
        " \uc5f0\uc608\n",
        "Wireless Charger"
       ]
      },
      {
       "output_type": "stream",
       "stream": "stdout",
       "text": [
        " \uc74c\uc2dd\n",
        "Wireless Charger"
       ]
      },
      {
       "output_type": "stream",
       "stream": "stdout",
       "text": [
        " \uc2a4\ud3ec\uce20\n",
        "Wireless Charger"
       ]
      },
      {
       "output_type": "stream",
       "stream": "stdout",
       "text": [
        " \uac8c\uc784\n",
        "Wireless Charger"
       ]
      },
      {
       "output_type": "stream",
       "stream": "stdout",
       "text": [
        " \uac74\uac15\n",
        "Wireless Charger \ud559\uc2b5\n",
        "Wireless Charger"
       ]
      },
      {
       "output_type": "stream",
       "stream": "stdout",
       "text": [
        " \ucee4\ubba4\ub2c8\ud2f0\n",
        "\uc560\ub2c8\ud321 \uce5c\uad6c\ucd94\uac00,\ud558\ud2b8\uc120\ubb3c \ucee4\ubba4\ub2c8\ud2f0"
       ]
      },
      {
       "output_type": "stream",
       "stream": "stdout",
       "text": [
        " \ubbf8\uc6a9\n",
        "\uc560\ub2c8\ud321 \uce5c\uad6c\ucd94\uac00,\ud558\ud2b8\uc120\ubb3c \ucee4\ubba4\ub2c8\ud2f0"
       ]
      },
      {
       "output_type": "stream",
       "stream": "stdout",
       "text": [
        " \uc74c\uc545\n",
        "\uc560\ub2c8\ud321 \uce5c\uad6c\ucd94\uac00,\ud558\ud2b8\uc120\ubb3c \ucee4\ubba4\ub2c8\ud2f0 \ub9ac\ubdf0\n",
        "\uc560\ub2c8\ud321 \uce5c\uad6c\ucd94\uac00,\ud558\ud2b8\uc120\ubb3c \ucee4\ubba4\ub2c8\ud2f0"
       ]
      },
      {
       "output_type": "stream",
       "stream": "stdout",
       "text": [
        " \uc5f0\uc608\n",
        "\uc560\ub2c8\ud321 \uce5c\uad6c\ucd94\uac00,\ud558\ud2b8\uc120\ubb3c \ucee4\ubba4\ub2c8\ud2f0 \uc74c\uc2dd\n",
        "\uc560\ub2c8\ud321 \uce5c\uad6c\ucd94\uac00,\ud558\ud2b8\uc120\ubb3c \ucee4\ubba4\ub2c8\ud2f0"
       ]
      },
      {
       "output_type": "stream",
       "stream": "stdout",
       "text": [
        " \uc2a4\ud3ec\uce20\n",
        "\uc560\ub2c8\ud321 \uce5c\uad6c\ucd94\uac00,\ud558\ud2b8\uc120\ubb3c \ucee4\ubba4\ub2c8\ud2f0"
       ]
      },
      {
       "output_type": "stream",
       "stream": "stdout",
       "text": [
        " \uac8c\uc784\n",
        "\uc560\ub2c8\ud321 \uce5c\uad6c\ucd94\uac00,\ud558\ud2b8\uc120\ubb3c \ucee4\ubba4\ub2c8\ud2f0"
       ]
      },
      {
       "output_type": "stream",
       "stream": "stdout",
       "text": [
        " \uac74\uac15\n",
        "\uc560\ub2c8\ud321 \uce5c\uad6c\ucd94\uac00,\ud558\ud2b8\uc120\ubb3c \ucee4\ubba4\ub2c8\ud2f0"
       ]
      },
      {
       "output_type": "stream",
       "stream": "stdout",
       "text": [
        " \ud559\uc2b5\n",
        "\uc560\ub2c8\ud321 \uce5c\uad6c\ucd94\uac00,\ud558\ud2b8\uc120\ubb3c \ucee4\ubba4\ub2c8\ud2f0"
       ]
      },
      {
       "output_type": "stream",
       "stream": "stdout",
       "text": [
        " \ucee4\ubba4\ub2c8\ud2f0\n",
        "Xeno Wars \ubbf8\uc6a9\n",
        "Xeno Wars"
       ]
      },
      {
       "output_type": "stream",
       "stream": "stdout",
       "text": [
        " \uc74c\uc545\n",
        "Xeno Wars"
       ]
      },
      {
       "output_type": "stream",
       "stream": "stdout",
       "text": [
        " \ub9ac\ubdf0\n",
        "Xeno Wars \uc5f0\uc608\n",
        "Xeno Wars"
       ]
      },
      {
       "output_type": "stream",
       "stream": "stdout",
       "text": [
        " \uc74c\uc2dd\n",
        "Xeno Wars"
       ]
      },
      {
       "output_type": "stream",
       "stream": "stdout",
       "text": [
        " \uc2a4\ud3ec\uce20\n",
        "Xeno Wars \uac8c\uc784\n",
        "Xeno Wars"
       ]
      },
      {
       "output_type": "stream",
       "stream": "stdout",
       "text": [
        " \uac74\uac15\n",
        "Xeno Wars"
       ]
      },
      {
       "output_type": "stream",
       "stream": "stdout",
       "text": [
        " \ud559\uc2b5\n",
        "Xeno Wars"
       ]
      },
      {
       "output_type": "stream",
       "stream": "stdout",
       "text": [
        " \ucee4\ubba4\ub2c8\ud2f0\n",
        "CANALTOUCH"
       ]
      },
      {
       "output_type": "stream",
       "stream": "stdout",
       "text": [
        " \ubbf8\uc6a9\n",
        "CANALTOUCH"
       ]
      },
      {
       "output_type": "stream",
       "stream": "stdout",
       "text": [
        " \uc74c\uc545\n",
        "CANALTOUCH"
       ]
      },
      {
       "output_type": "stream",
       "stream": "stdout",
       "text": [
        " \ub9ac\ubdf0\n",
        "CANALTOUCH"
       ]
      },
      {
       "output_type": "stream",
       "stream": "stdout",
       "text": [
        " \uc5f0\uc608\n",
        "CANALTOUCH"
       ]
      },
      {
       "output_type": "stream",
       "stream": "stdout",
       "text": [
        " \uc74c\uc2dd\n",
        "CANALTOUCH"
       ]
      },
      {
       "output_type": "stream",
       "stream": "stdout",
       "text": [
        " \uc2a4\ud3ec\uce20\n",
        "CANALTOUCH"
       ]
      },
      {
       "output_type": "stream",
       "stream": "stdout",
       "text": [
        " \uac8c\uc784\n",
        "CANALTOUCH"
       ]
      },
      {
       "output_type": "stream",
       "stream": "stdout",
       "text": [
        " \uac74\uac15\n",
        "CANALTOUCH"
       ]
      },
      {
       "output_type": "stream",
       "stream": "stdout",
       "text": [
        " \ud559\uc2b5\n",
        "CANALTOUCH"
       ]
      },
      {
       "output_type": "stream",
       "stream": "stdout",
       "text": [
        " \ucee4\ubba4\ub2c8\ud2f0\n",
        "\ucd08\ucf5c\ub9bf \ucfe0\ud0a4 \uc694\ub9ac \uac8c\uc784"
       ]
      },
      {
       "output_type": "stream",
       "stream": "stdout",
       "text": [
        " \ubbf8\uc6a9\n",
        "\ucd08\ucf5c\ub9bf \ucfe0\ud0a4 \uc694\ub9ac \uac8c\uc784"
       ]
      },
      {
       "output_type": "stream",
       "stream": "stdout",
       "text": [
        " \uc74c\uc545\n",
        "\ucd08\ucf5c\ub9bf \ucfe0\ud0a4 \uc694\ub9ac \uac8c\uc784"
       ]
      },
      {
       "output_type": "stream",
       "stream": "stdout",
       "text": [
        " \ub9ac\ubdf0\n",
        "\ucd08\ucf5c\ub9bf \ucfe0\ud0a4 \uc694\ub9ac \uac8c\uc784"
       ]
      },
      {
       "output_type": "stream",
       "stream": "stdout",
       "text": [
        " \uc5f0\uc608\n",
        "\ucd08\ucf5c\ub9bf \ucfe0\ud0a4 \uc694\ub9ac \uac8c\uc784"
       ]
      },
      {
       "output_type": "stream",
       "stream": "stdout",
       "text": [
        " \uc74c\uc2dd\n",
        "\ucd08\ucf5c\ub9bf \ucfe0\ud0a4 \uc694\ub9ac \uac8c\uc784"
       ]
      },
      {
       "output_type": "stream",
       "stream": "stdout",
       "text": [
        " \uc2a4\ud3ec\uce20\n",
        "\ucd08\ucf5c\ub9bf \ucfe0\ud0a4 \uc694\ub9ac \uac8c\uc784"
       ]
      },
      {
       "output_type": "stream",
       "stream": "stdout",
       "text": [
        " \uac8c\uc784\n",
        "\ucd08\ucf5c\ub9bf \ucfe0\ud0a4 \uc694\ub9ac \uac8c\uc784"
       ]
      },
      {
       "output_type": "stream",
       "stream": "stdout",
       "text": [
        " \uac74\uac15\n",
        "\ucd08\ucf5c\ub9bf \ucfe0\ud0a4 \uc694\ub9ac \uac8c\uc784"
       ]
      },
      {
       "output_type": "stream",
       "stream": "stdout",
       "text": [
        " \ud559\uc2b5\n",
        "\ucd08\ucf5c\ub9bf \ucfe0\ud0a4 \uc694\ub9ac \uac8c\uc784"
       ]
      },
      {
       "output_type": "stream",
       "stream": "stdout",
       "text": [
        " \ucee4\ubba4\ub2c8\ud2f0\n",
        "Block Builder"
       ]
      },
      {
       "output_type": "stream",
       "stream": "stdout",
       "text": [
        " \ubbf8\uc6a9\n",
        "Block Builder \uc74c\uc545\n",
        "Block Builder"
       ]
      },
      {
       "output_type": "stream",
       "stream": "stdout",
       "text": [
        " \ub9ac\ubdf0\n",
        "Block Builder \uc5f0\uc608\n",
        "Block Builder"
       ]
      },
      {
       "output_type": "stream",
       "stream": "stdout",
       "text": [
        " \uc74c\uc2dd\n",
        "Block Builder \uc2a4\ud3ec\uce20\n",
        "Block Builder"
       ]
      },
      {
       "output_type": "stream",
       "stream": "stdout",
       "text": [
        " \uac8c\uc784\n",
        "Block Builder"
       ]
      },
      {
       "output_type": "stream",
       "stream": "stdout",
       "text": [
        " \uac74\uac15\n",
        "Block Builder \ud559\uc2b5\n",
        "Block Builder"
       ]
      },
      {
       "output_type": "stream",
       "stream": "stdout",
       "text": [
        " \ucee4\ubba4\ub2c8\ud2f0\n",
        "Kingfisher Formula Race"
       ]
      },
      {
       "output_type": "stream",
       "stream": "stdout",
       "text": [
        " \ubbf8\uc6a9\n",
        "Kingfisher Formula Race"
       ]
      },
      {
       "output_type": "stream",
       "stream": "stdout",
       "text": [
        " \uc74c\uc545\n",
        "Kingfisher Formula Race"
       ]
      },
      {
       "output_type": "stream",
       "stream": "stdout",
       "text": [
        " \ub9ac\ubdf0\n",
        "Kingfisher Formula Race \uc5f0\uc608\n",
        "Kingfisher Formula Race"
       ]
      },
      {
       "output_type": "stream",
       "stream": "stdout",
       "text": [
        " \uc74c\uc2dd\n",
        "Kingfisher Formula Race"
       ]
      },
      {
       "output_type": "stream",
       "stream": "stdout",
       "text": [
        " \uc2a4\ud3ec\uce20\n",
        "Kingfisher Formula Race"
       ]
      },
      {
       "output_type": "stream",
       "stream": "stdout",
       "text": [
        " \uac8c\uc784\n",
        "Kingfisher Formula Race \uac74\uac15\n",
        "Kingfisher Formula Race"
       ]
      },
      {
       "output_type": "stream",
       "stream": "stdout",
       "text": [
        " \ud559\uc2b5\n",
        "Kingfisher Formula Race"
       ]
      },
      {
       "output_type": "stream",
       "stream": "stdout",
       "text": [
        " \ucee4\ubba4\ub2c8\ud2f0\n",
        "Zombocalypse"
       ]
      },
      {
       "output_type": "stream",
       "stream": "stdout",
       "text": [
        " \ubbf8\uc6a9\n",
        "Zombocalypse"
       ]
      },
      {
       "output_type": "stream",
       "stream": "stdout",
       "text": [
        " \uc74c\uc545\n",
        "Zombocalypse"
       ]
      },
      {
       "output_type": "stream",
       "stream": "stdout",
       "text": [
        " \ub9ac\ubdf0\n",
        "Zombocalypse"
       ]
      },
      {
       "output_type": "stream",
       "stream": "stdout",
       "text": [
        " \uc5f0\uc608\n",
        "Zombocalypse"
       ]
      },
      {
       "output_type": "stream",
       "stream": "stdout",
       "text": [
        " \uc74c\uc2dd\n",
        "Zombocalypse"
       ]
      },
      {
       "output_type": "stream",
       "stream": "stdout",
       "text": [
        " \uc2a4\ud3ec\uce20\n",
        "Zombocalypse"
       ]
      },
      {
       "output_type": "stream",
       "stream": "stdout",
       "text": [
        " \uac8c\uc784\n",
        "Zombocalypse"
       ]
      },
      {
       "output_type": "stream",
       "stream": "stdout",
       "text": [
        " \uac74\uac15\n",
        "Zombocalypse"
       ]
      },
      {
       "output_type": "stream",
       "stream": "stdout",
       "text": [
        " \ud559\uc2b5\n",
        "Zombocalypse"
       ]
      },
      {
       "output_type": "stream",
       "stream": "stdout",
       "text": [
        " \ucee4\ubba4\ub2c8\ud2f0\n",
        "The Saga of Conquest(Best MMO)"
       ]
      },
      {
       "output_type": "stream",
       "stream": "stdout",
       "text": [
        " \ubbf8\uc6a9\n",
        "The Saga of Conquest(Best MMO)"
       ]
      },
      {
       "output_type": "stream",
       "stream": "stdout",
       "text": [
        " \uc74c\uc545\n",
        "The Saga of Conquest(Best MMO)"
       ]
      },
      {
       "output_type": "stream",
       "stream": "stdout",
       "text": [
        " \ub9ac\ubdf0\n",
        "The Saga of Conquest(Best MMO)"
       ]
      },
      {
       "output_type": "stream",
       "stream": "stdout",
       "text": [
        " \uc5f0\uc608\n",
        "The Saga of Conquest(Best MMO)"
       ]
      },
      {
       "output_type": "stream",
       "stream": "stdout",
       "text": [
        " \uc74c\uc2dd\n",
        "The Saga of Conquest(Best MMO)"
       ]
      },
      {
       "output_type": "stream",
       "stream": "stdout",
       "text": [
        " \uc2a4\ud3ec\uce20\n",
        "The Saga of Conquest(Best MMO) \uac8c\uc784\n",
        "The Saga of Conquest(Best MMO)"
       ]
      },
      {
       "output_type": "stream",
       "stream": "stdout",
       "text": [
        " \uac74\uac15\n",
        "The Saga of Conquest(Best MMO)"
       ]
      },
      {
       "output_type": "stream",
       "stream": "stdout",
       "text": [
        " \ud559\uc2b5\n",
        "The Saga of Conquest(Best MMO)"
       ]
      },
      {
       "output_type": "stream",
       "stream": "stdout",
       "text": [
        " \ucee4\ubba4\ub2c8\ud2f0\n",
        "Hard Wound"
       ]
      },
      {
       "output_type": "stream",
       "stream": "stdout",
       "text": [
        " \ubbf8\uc6a9\n",
        "Hard Wound"
       ]
      },
      {
       "output_type": "stream",
       "stream": "stdout",
       "text": [
        " \uc74c\uc545\n",
        "Hard Wound \ub9ac\ubdf0\n",
        "Hard Wound"
       ]
      },
      {
       "output_type": "stream",
       "stream": "stdout",
       "text": [
        " \uc5f0\uc608\n",
        "Hard Wound \uc74c\uc2dd\n",
        "Hard Wound"
       ]
      },
      {
       "output_type": "stream",
       "stream": "stdout",
       "text": [
        " \uc2a4\ud3ec\uce20\n",
        "Hard Wound"
       ]
      },
      {
       "output_type": "stream",
       "stream": "stdout",
       "text": [
        " \uac8c\uc784\n",
        "Hard Wound"
       ]
      },
      {
       "output_type": "stream",
       "stream": "stdout",
       "text": [
        " \uac74\uac15\n",
        "Hard Wound"
       ]
      },
      {
       "output_type": "stream",
       "stream": "stdout",
       "text": [
        " \ud559\uc2b5\n",
        "Hard Wound \ucee4\ubba4\ub2c8\ud2f0\n",
        "sexy \uc637\ubc97\uae30\uae30 \uac00\uc704\ubc14\uc704\ubcf4"
       ]
      },
      {
       "output_type": "stream",
       "stream": "stdout",
       "text": [
        " \ubbf8\uc6a9\n",
        "sexy \uc637\ubc97\uae30\uae30 \uac00\uc704\ubc14\uc704\ubcf4"
       ]
      },
      {
       "output_type": "stream",
       "stream": "stdout",
       "text": [
        " \uc74c\uc545\n",
        "sexy \uc637\ubc97\uae30\uae30 \uac00\uc704\ubc14\uc704\ubcf4"
       ]
      },
      {
       "output_type": "stream",
       "stream": "stdout",
       "text": [
        " \ub9ac\ubdf0\n",
        "sexy \uc637\ubc97\uae30\uae30 \uac00\uc704\ubc14\uc704\ubcf4"
       ]
      },
      {
       "output_type": "stream",
       "stream": "stdout",
       "text": [
        " \uc5f0\uc608\n",
        "sexy \uc637\ubc97\uae30\uae30 \uac00\uc704\ubc14\uc704\ubcf4 \uc74c\uc2dd\n",
        "sexy \uc637\ubc97\uae30\uae30 \uac00\uc704\ubc14\uc704\ubcf4"
       ]
      },
      {
       "output_type": "stream",
       "stream": "stdout",
       "text": [
        " \uc2a4\ud3ec\uce20\n",
        "sexy \uc637\ubc97\uae30\uae30 \uac00\uc704\ubc14\uc704\ubcf4"
       ]
      },
      {
       "output_type": "stream",
       "stream": "stdout",
       "text": [
        " \uac8c\uc784\n",
        "sexy \uc637\ubc97\uae30\uae30 \uac00\uc704\ubc14\uc704\ubcf4"
       ]
      },
      {
       "output_type": "stream",
       "stream": "stdout",
       "text": [
        " \uac74\uac15\n",
        "sexy \uc637\ubc97\uae30\uae30 \uac00\uc704\ubc14\uc704\ubcf4 \ud559\uc2b5\n",
        "sexy \uc637\ubc97\uae30\uae30 \uac00\uc704\ubc14\uc704\ubcf4"
       ]
      },
      {
       "output_type": "stream",
       "stream": "stdout",
       "text": [
        " \ucee4\ubba4\ub2c8\ud2f0\n",
        "\u6a02\u900f\u5c0d\u514c\u734e"
       ]
      },
      {
       "output_type": "stream",
       "stream": "stdout",
       "text": [
        " \ubbf8\uc6a9\n",
        "\u6a02\u900f\u5c0d\u514c\u734e"
       ]
      },
      {
       "output_type": "stream",
       "stream": "stdout",
       "text": [
        " \uc74c\uc545\n",
        "\u6a02\u900f\u5c0d\u514c\u734e"
       ]
      },
      {
       "output_type": "stream",
       "stream": "stdout",
       "text": [
        " \ub9ac\ubdf0\n",
        "\u6a02\u900f\u5c0d\u514c\u734e"
       ]
      },
      {
       "output_type": "stream",
       "stream": "stdout",
       "text": [
        " \uc5f0\uc608\n",
        "\u6a02\u900f\u5c0d\u514c\u734e"
       ]
      },
      {
       "output_type": "stream",
       "stream": "stdout",
       "text": [
        " \uc74c\uc2dd\n",
        "\u6a02\u900f\u5c0d\u514c\u734e \uc2a4\ud3ec\uce20\n",
        "\u6a02\u900f\u5c0d\u514c\u734e"
       ]
      },
      {
       "output_type": "stream",
       "stream": "stdout",
       "text": [
        " \uac8c\uc784\n",
        "\u6a02\u900f\u5c0d\u514c\u734e"
       ]
      },
      {
       "output_type": "stream",
       "stream": "stdout",
       "text": [
        " \uac74\uac15\n",
        "\u6a02\u900f\u5c0d\u514c\u734e \ud559\uc2b5\n",
        "\u6a02\u900f\u5c0d\u514c\u734e"
       ]
      },
      {
       "output_type": "stream",
       "stream": "stdout",
       "text": [
        " \ucee4\ubba4\ub2c8\ud2f0\n",
        "Blow Up Balloon"
       ]
      },
      {
       "output_type": "stream",
       "stream": "stdout",
       "text": [
        " \ubbf8\uc6a9\n",
        "Blow Up Balloon"
       ]
      },
      {
       "output_type": "stream",
       "stream": "stdout",
       "text": [
        " \uc74c\uc545\n",
        "Blow Up Balloon"
       ]
      },
      {
       "output_type": "stream",
       "stream": "stdout",
       "text": [
        " \ub9ac\ubdf0\n",
        "Blow Up Balloon"
       ]
      },
      {
       "output_type": "stream",
       "stream": "stdout",
       "text": [
        " \uc5f0\uc608\n",
        "Blow Up Balloon"
       ]
      },
      {
       "output_type": "stream",
       "stream": "stdout",
       "text": [
        " \uc74c\uc2dd\n",
        "Blow Up Balloon"
       ]
      },
      {
       "output_type": "stream",
       "stream": "stdout",
       "text": [
        " \uc2a4\ud3ec\uce20\n",
        "Blow Up Balloon"
       ]
      },
      {
       "output_type": "stream",
       "stream": "stdout",
       "text": [
        " \uac8c\uc784\n",
        "Blow Up Balloon \uac74\uac15\n",
        "Blow Up Balloon"
       ]
      },
      {
       "output_type": "stream",
       "stream": "stdout",
       "text": [
        " \ud559\uc2b5\n",
        "Blow Up Balloon \ucee4\ubba4\ub2c8\ud2f0\n",
        "\ubb34\ub8cc \ub85c\ub610,\ub3c8\ubc84\ub294\uc5b4\ud50c,\uc778\uc0dd\ud55c\ubc29\uc5ed\uc804,\ub85c\ub610\ub85c,TOLOTTO"
       ]
      },
      {
       "output_type": "stream",
       "stream": "stdout",
       "text": [
        " \ubbf8\uc6a9\n",
        "\ubb34\ub8cc \ub85c\ub610,\ub3c8\ubc84\ub294\uc5b4\ud50c,\uc778\uc0dd\ud55c\ubc29\uc5ed\uc804,\ub85c\ub610\ub85c,TOLOTTO"
       ]
      },
      {
       "output_type": "stream",
       "stream": "stdout",
       "text": [
        " \uc74c\uc545\n",
        "\ubb34\ub8cc \ub85c\ub610,\ub3c8\ubc84\ub294\uc5b4\ud50c,\uc778\uc0dd\ud55c\ubc29\uc5ed\uc804,\ub85c\ub610\ub85c,TOLOTTO"
       ]
      },
      {
       "output_type": "stream",
       "stream": "stdout",
       "text": [
        " \ub9ac\ubdf0\n",
        "\ubb34\ub8cc \ub85c\ub610,\ub3c8\ubc84\ub294\uc5b4\ud50c,\uc778\uc0dd\ud55c\ubc29\uc5ed\uc804,\ub85c\ub610\ub85c,TOLOTTO \uc5f0\uc608\n",
        "\ubb34\ub8cc \ub85c\ub610,\ub3c8\ubc84\ub294\uc5b4\ud50c,\uc778\uc0dd\ud55c\ubc29\uc5ed\uc804,\ub85c\ub610\ub85c,TOLOTTO"
       ]
      },
      {
       "output_type": "stream",
       "stream": "stdout",
       "text": [
        " \uc74c\uc2dd\n",
        "\ubb34\ub8cc \ub85c\ub610,\ub3c8\ubc84\ub294\uc5b4\ud50c,\uc778\uc0dd\ud55c\ubc29\uc5ed\uc804,\ub85c\ub610\ub85c,TOLOTTO"
       ]
      },
      {
       "output_type": "stream",
       "stream": "stdout",
       "text": [
        " \uc2a4\ud3ec\uce20\n",
        "\ubb34\ub8cc \ub85c\ub610,\ub3c8\ubc84\ub294\uc5b4\ud50c,\uc778\uc0dd\ud55c\ubc29\uc5ed\uc804,\ub85c\ub610\ub85c,TOLOTTO"
       ]
      },
      {
       "output_type": "stream",
       "stream": "stdout",
       "text": [
        " \uac8c\uc784\n",
        "\ubb34\ub8cc \ub85c\ub610,\ub3c8\ubc84\ub294\uc5b4\ud50c,\uc778\uc0dd\ud55c\ubc29\uc5ed\uc804,\ub85c\ub610\ub85c,TOLOTTO"
       ]
      },
      {
       "output_type": "stream",
       "stream": "stdout",
       "text": [
        " \uac74\uac15\n",
        "\ubb34\ub8cc \ub85c\ub610,\ub3c8\ubc84\ub294\uc5b4\ud50c,\uc778\uc0dd\ud55c\ubc29\uc5ed\uc804,\ub85c\ub610\ub85c,TOLOTTO"
       ]
      },
      {
       "output_type": "stream",
       "stream": "stdout",
       "text": [
        " \ud559\uc2b5\n",
        "\ubb34\ub8cc \ub85c\ub610,\ub3c8\ubc84\ub294\uc5b4\ud50c,\uc778\uc0dd\ud55c\ubc29\uc5ed\uc804,\ub85c\ub610\ub85c,TOLOTTO"
       ]
      },
      {
       "output_type": "stream",
       "stream": "stdout",
       "text": [
        " \ucee4\ubba4\ub2c8\ud2f0\n",
        "\u667a\u80fd\u98a8\u6c34\u7f85\u76e4 (\u57fa\u672c\u7248)"
       ]
      },
      {
       "output_type": "stream",
       "stream": "stdout",
       "text": [
        " \ubbf8\uc6a9\n",
        "\u667a\u80fd\u98a8\u6c34\u7f85\u76e4 (\u57fa\u672c\u7248)"
       ]
      },
      {
       "output_type": "stream",
       "stream": "stdout",
       "text": [
        " \uc74c\uc545\n",
        "\u667a\u80fd\u98a8\u6c34\u7f85\u76e4 (\u57fa\u672c\u7248) \ub9ac\ubdf0\n",
        "\u667a\u80fd\u98a8\u6c34\u7f85\u76e4 (\u57fa\u672c\u7248)"
       ]
      },
      {
       "output_type": "stream",
       "stream": "stdout",
       "text": [
        " \uc5f0\uc608\n",
        "\u667a\u80fd\u98a8\u6c34\u7f85\u76e4 (\u57fa\u672c\u7248) \uc74c\uc2dd\n",
        "\u667a\u80fd\u98a8\u6c34\u7f85\u76e4 (\u57fa\u672c\u7248)"
       ]
      },
      {
       "output_type": "stream",
       "stream": "stdout",
       "text": [
        " \uc2a4\ud3ec\uce20\n",
        "\u667a\u80fd\u98a8\u6c34\u7f85\u76e4 (\u57fa\u672c\u7248)"
       ]
      },
      {
       "output_type": "stream",
       "stream": "stdout",
       "text": [
        " \uac8c\uc784\n",
        "\u667a\u80fd\u98a8\u6c34\u7f85\u76e4 (\u57fa\u672c\u7248)"
       ]
      },
      {
       "output_type": "stream",
       "stream": "stdout",
       "text": [
        " \uac74\uac15\n",
        "\u667a\u80fd\u98a8\u6c34\u7f85\u76e4 (\u57fa\u672c\u7248) \ud559\uc2b5\n",
        "\u667a\u80fd\u98a8\u6c34\u7f85\u76e4 (\u57fa\u672c\u7248)"
       ]
      },
      {
       "output_type": "stream",
       "stream": "stdout",
       "text": [
        " \ucee4\ubba4\ub2c8\ud2f0\n",
        "AC Milan Fantasy Manager'13 \ubbf8\uc6a9\n",
        "AC Milan Fantasy Manager'13"
       ]
      },
      {
       "output_type": "stream",
       "stream": "stdout",
       "text": [
        " \uc74c\uc545\n",
        "AC Milan Fantasy Manager'13 \ub9ac\ubdf0\n",
        "AC Milan Fantasy Manager'13"
       ]
      },
      {
       "output_type": "stream",
       "stream": "stdout",
       "text": [
        " \uc5f0\uc608\n",
        "AC Milan Fantasy Manager'13"
       ]
      },
      {
       "output_type": "stream",
       "stream": "stdout",
       "text": [
        " \uc74c\uc2dd\n",
        "AC Milan Fantasy Manager'13 \uc2a4\ud3ec\uce20\n",
        "AC Milan Fantasy Manager'13"
       ]
      },
      {
       "output_type": "stream",
       "stream": "stdout",
       "text": [
        " \uac8c\uc784\n",
        "AC Milan Fantasy Manager'13 \uac74\uac15\n",
        "AC Milan Fantasy Manager'13"
       ]
      },
      {
       "output_type": "stream",
       "stream": "stdout",
       "text": [
        " \ud559\uc2b5\n",
        "AC Milan Fantasy Manager'13 \ucee4\ubba4\ub2c8\ud2f0\n",
        "\uae30\uc5b4\uc2a4 & \uc6a9\uac10\ud55c \uc790"
       ]
      },
      {
       "output_type": "stream",
       "stream": "stdout",
       "text": [
        " \ubbf8\uc6a9\n",
        "\uae30\uc5b4\uc2a4 & \uc6a9\uac10\ud55c \uc790 \uc74c\uc545\n",
        "\uae30\uc5b4\uc2a4 & \uc6a9\uac10\ud55c \uc790"
       ]
      },
      {
       "output_type": "stream",
       "stream": "stdout",
       "text": [
        " \ub9ac\ubdf0\n",
        "\uae30\uc5b4\uc2a4 & \uc6a9\uac10\ud55c \uc790 \uc5f0\uc608\n",
        "\uae30\uc5b4\uc2a4 & \uc6a9\uac10\ud55c \uc790"
       ]
      },
      {
       "output_type": "stream",
       "stream": "stdout",
       "text": [
        " \uc74c\uc2dd\n",
        "\uae30\uc5b4\uc2a4 & \uc6a9\uac10\ud55c \uc790"
       ]
      },
      {
       "output_type": "stream",
       "stream": "stdout",
       "text": [
        " \uc2a4\ud3ec\uce20\n",
        "\uae30\uc5b4\uc2a4 & \uc6a9\uac10\ud55c \uc790"
       ]
      },
      {
       "output_type": "stream",
       "stream": "stdout",
       "text": [
        " \uac8c\uc784\n",
        "\uae30\uc5b4\uc2a4 & \uc6a9\uac10\ud55c \uc790 \uac74\uac15\n",
        "\uae30\uc5b4\uc2a4 & \uc6a9\uac10\ud55c \uc790"
       ]
      },
      {
       "output_type": "stream",
       "stream": "stdout",
       "text": [
        " \ud559\uc2b5\n",
        "\uae30\uc5b4\uc2a4 & \uc6a9\uac10\ud55c \uc790 \ucee4\ubba4\ub2c8\ud2f0\n",
        "100 \ubb38 : \uc2dc\uac04 \u200b\u200b\uae30\uacc4"
       ]
      },
      {
       "output_type": "stream",
       "stream": "stdout",
       "text": [
        " \ubbf8\uc6a9\n",
        "100 \ubb38 : \uc2dc\uac04 \u200b\u200b\uae30\uacc4 \uc74c\uc545\n",
        "100 \ubb38 : \uc2dc\uac04 \u200b\u200b\uae30\uacc4"
       ]
      },
      {
       "output_type": "stream",
       "stream": "stdout",
       "text": [
        " \ub9ac\ubdf0\n",
        "100 \ubb38 : \uc2dc\uac04 \u200b\u200b\uae30\uacc4 \uc5f0\uc608\n",
        "100 \ubb38 : \uc2dc\uac04 \u200b\u200b\uae30\uacc4"
       ]
      },
      {
       "output_type": "stream",
       "stream": "stdout",
       "text": [
        " \uc74c\uc2dd\n",
        "100 \ubb38 : \uc2dc\uac04 \u200b\u200b\uae30\uacc4"
       ]
      },
      {
       "output_type": "stream",
       "stream": "stdout",
       "text": [
        " \uc2a4\ud3ec\uce20\n",
        "100 \ubb38 : \uc2dc\uac04 \u200b\u200b\uae30\uacc4"
       ]
      },
      {
       "output_type": "stream",
       "stream": "stdout",
       "text": [
        " \uac8c\uc784\n",
        "100 \ubb38 : \uc2dc\uac04 \u200b\u200b\uae30\uacc4"
       ]
      },
      {
       "output_type": "stream",
       "stream": "stdout",
       "text": [
        " \uac74\uac15\n",
        "100 \ubb38 : \uc2dc\uac04 \u200b\u200b\uae30\uacc4 \ud559\uc2b5\n",
        "100 \ubb38 : \uc2dc\uac04 \u200b\u200b\uae30\uacc4"
       ]
      },
      {
       "output_type": "stream",
       "stream": "stdout",
       "text": [
        " \ucee4\ubba4\ub2c8\ud2f0\n",
        "C-games \ud074\ub77c\uc6b0\ub4dc \uac8c\uc784 \uc2a4\ud1a0\uc5b4 \ubbf8\uc6a9\n",
        "C-games \ud074\ub77c\uc6b0\ub4dc \uac8c\uc784 \uc2a4\ud1a0\uc5b4"
       ]
      },
      {
       "output_type": "stream",
       "stream": "stdout",
       "text": [
        " \uc74c\uc545\n",
        "C-games \ud074\ub77c\uc6b0\ub4dc \uac8c\uc784 \uc2a4\ud1a0\uc5b4 \ub9ac\ubdf0\n",
        "C-games \ud074\ub77c\uc6b0\ub4dc \uac8c\uc784 \uc2a4\ud1a0\uc5b4"
       ]
      },
      {
       "output_type": "stream",
       "stream": "stdout",
       "text": [
        " \uc5f0\uc608\n",
        "C-games \ud074\ub77c\uc6b0\ub4dc \uac8c\uc784 \uc2a4\ud1a0\uc5b4"
       ]
      },
      {
       "output_type": "stream",
       "stream": "stdout",
       "text": [
        " \uc74c\uc2dd\n",
        "C-games \ud074\ub77c\uc6b0\ub4dc \uac8c\uc784 \uc2a4\ud1a0\uc5b4"
       ]
      },
      {
       "output_type": "stream",
       "stream": "stdout",
       "text": [
        " \uc2a4\ud3ec\uce20\n",
        "C-games \ud074\ub77c\uc6b0\ub4dc \uac8c\uc784 \uc2a4\ud1a0\uc5b4"
       ]
      },
      {
       "output_type": "stream",
       "stream": "stdout",
       "text": [
        " \uac8c\uc784\n",
        "C-games \ud074\ub77c\uc6b0\ub4dc \uac8c\uc784 \uc2a4\ud1a0\uc5b4 \uac74\uac15\n",
        "C-games \ud074\ub77c\uc6b0\ub4dc \uac8c\uc784 \uc2a4\ud1a0\uc5b4"
       ]
      },
      {
       "output_type": "stream",
       "stream": "stdout",
       "text": [
        " \ud559\uc2b5\n",
        "C-games \ud074\ub77c\uc6b0\ub4dc \uac8c\uc784 \uc2a4\ud1a0\uc5b4"
       ]
      },
      {
       "output_type": "stream",
       "stream": "stdout",
       "text": [
        " \ucee4\ubba4\ub2c8\ud2f0\n",
        "\ub2cc\uc790 \uac8c\uc784"
       ]
      },
      {
       "output_type": "stream",
       "stream": "stdout",
       "text": [
        " \ubbf8\uc6a9\n",
        "\ub2cc\uc790 \uac8c\uc784 \uc74c\uc545\n",
        "\ub2cc\uc790 \uac8c\uc784"
       ]
      },
      {
       "output_type": "stream",
       "stream": "stdout",
       "text": [
        " \ub9ac\ubdf0\n",
        "\ub2cc\uc790 \uac8c\uc784"
       ]
      },
      {
       "output_type": "stream",
       "stream": "stdout",
       "text": [
        " \uc5f0\uc608\n",
        "\ub2cc\uc790 \uac8c\uc784 \uc74c\uc2dd\n",
        "\ub2cc\uc790 \uac8c\uc784"
       ]
      },
      {
       "output_type": "stream",
       "stream": "stdout",
       "text": [
        " \uc2a4\ud3ec\uce20\n",
        "\ub2cc\uc790 \uac8c\uc784"
       ]
      },
      {
       "output_type": "stream",
       "stream": "stdout",
       "text": [
        " \uac8c\uc784\n",
        "\ub2cc\uc790 \uac8c\uc784"
       ]
      },
      {
       "output_type": "stream",
       "stream": "stdout",
       "text": [
        " \uac74\uac15\n",
        "\ub2cc\uc790 \uac8c\uc784 \ud559\uc2b5\n",
        "\ub2cc\uc790 \uac8c\uc784"
       ]
      },
      {
       "output_type": "stream",
       "stream": "stdout",
       "text": [
        " \ucee4\ubba4\ub2c8\ud2f0\n",
        "Galinha Pintadinha 2"
       ]
      },
      {
       "output_type": "stream",
       "stream": "stdout",
       "text": [
        " \ubbf8\uc6a9\n",
        "Galinha Pintadinha 2"
       ]
      },
      {
       "output_type": "stream",
       "stream": "stdout",
       "text": [
        " \uc74c\uc545\n",
        "Galinha Pintadinha 2"
       ]
      },
      {
       "output_type": "stream",
       "stream": "stdout",
       "text": [
        " \ub9ac\ubdf0\n",
        "Galinha Pintadinha 2"
       ]
      },
      {
       "output_type": "stream",
       "stream": "stdout",
       "text": [
        " \uc5f0\uc608\n",
        "Galinha Pintadinha 2 \uc74c\uc2dd\n",
        "Galinha Pintadinha 2"
       ]
      },
      {
       "output_type": "stream",
       "stream": "stdout",
       "text": [
        " \uc2a4\ud3ec\uce20\n",
        "Galinha Pintadinha 2 \uac8c\uc784\n",
        "Galinha Pintadinha 2"
       ]
      },
      {
       "output_type": "stream",
       "stream": "stdout",
       "text": [
        " \uac74\uac15\n",
        "Galinha Pintadinha 2"
       ]
      },
      {
       "output_type": "stream",
       "stream": "stdout",
       "text": [
        " \ud559\uc2b5\n",
        "Galinha Pintadinha 2 \ucee4\ubba4\ub2c8\ud2f0\n",
        "Zombie Warrior Man 18+"
       ]
      },
      {
       "output_type": "stream",
       "stream": "stdout",
       "text": [
        " \ubbf8\uc6a9\n",
        "Zombie Warrior Man 18+"
       ]
      },
      {
       "output_type": "stream",
       "stream": "stdout",
       "text": [
        " \uc74c\uc545\n",
        "Zombie Warrior Man 18+"
       ]
      },
      {
       "output_type": "stream",
       "stream": "stdout",
       "text": [
        " \ub9ac\ubdf0\n",
        "Zombie Warrior Man 18+"
       ]
      },
      {
       "output_type": "stream",
       "stream": "stdout",
       "text": [
        " \uc5f0\uc608\n",
        "Zombie Warrior Man 18+"
       ]
      },
      {
       "output_type": "stream",
       "stream": "stdout",
       "text": [
        " \uc74c\uc2dd\n",
        "Zombie Warrior Man 18+ \uc2a4\ud3ec\uce20\n",
        "Zombie Warrior Man 18+"
       ]
      },
      {
       "output_type": "stream",
       "stream": "stdout",
       "text": [
        " \uac8c\uc784\n",
        "Zombie Warrior Man 18+ \uac74\uac15\n",
        "Zombie Warrior Man 18+"
       ]
      },
      {
       "output_type": "stream",
       "stream": "stdout",
       "text": [
        " \ud559\uc2b5\n",
        "Zombie Warrior Man 18+ \ucee4\ubba4\ub2c8\ud2f0\n",
        "Arsenal Fantasy Manager'13"
       ]
      },
      {
       "output_type": "stream",
       "stream": "stdout",
       "text": [
        " \ubbf8\uc6a9\n",
        "Arsenal Fantasy Manager'13"
       ]
      },
      {
       "output_type": "stream",
       "stream": "stdout",
       "text": [
        " \uc74c\uc545\n",
        "Arsenal Fantasy Manager'13"
       ]
      },
      {
       "output_type": "stream",
       "stream": "stdout",
       "text": [
        " \ub9ac\ubdf0\n",
        "Arsenal Fantasy Manager'13"
       ]
      },
      {
       "output_type": "stream",
       "stream": "stdout",
       "text": [
        " \uc5f0\uc608\n",
        "Arsenal Fantasy Manager'13"
       ]
      },
      {
       "output_type": "stream",
       "stream": "stdout",
       "text": [
        " \uc74c\uc2dd\n",
        "Arsenal Fantasy Manager'13"
       ]
      },
      {
       "output_type": "stream",
       "stream": "stdout",
       "text": [
        " \uc2a4\ud3ec\uce20\n",
        "Arsenal Fantasy Manager'13"
       ]
      },
      {
       "output_type": "stream",
       "stream": "stdout",
       "text": [
        " \uac8c\uc784\n",
        "Arsenal Fantasy Manager'13"
       ]
      },
      {
       "output_type": "stream",
       "stream": "stdout",
       "text": [
        " \uac74\uac15\n",
        "Arsenal Fantasy Manager'13"
       ]
      },
      {
       "output_type": "stream",
       "stream": "stdout",
       "text": [
        " \ud559\uc2b5\n",
        "Arsenal Fantasy Manager'13"
       ]
      },
      {
       "output_type": "stream",
       "stream": "stdout",
       "text": [
        " \ucee4\ubba4\ub2c8\ud2f0\n",
        "Jewel Stacker"
       ]
      },
      {
       "output_type": "stream",
       "stream": "stdout",
       "text": [
        " \ubbf8\uc6a9\n",
        "Jewel Stacker"
       ]
      },
      {
       "output_type": "stream",
       "stream": "stdout",
       "text": [
        " \uc74c\uc545\n",
        "Jewel Stacker"
       ]
      },
      {
       "output_type": "stream",
       "stream": "stdout",
       "text": [
        " \ub9ac\ubdf0\n",
        "Jewel Stacker"
       ]
      },
      {
       "output_type": "stream",
       "stream": "stdout",
       "text": [
        " \uc5f0\uc608\n",
        "Jewel Stacker"
       ]
      },
      {
       "output_type": "stream",
       "stream": "stdout",
       "text": [
        " \uc74c\uc2dd\n",
        "Jewel Stacker"
       ]
      },
      {
       "output_type": "stream",
       "stream": "stdout",
       "text": [
        " \uc2a4\ud3ec\uce20\n",
        "Jewel Stacker"
       ]
      },
      {
       "output_type": "stream",
       "stream": "stdout",
       "text": [
        " \uac8c\uc784\n",
        "Jewel Stacker"
       ]
      },
      {
       "output_type": "stream",
       "stream": "stdout",
       "text": [
        " \uac74\uac15\n",
        "Jewel Stacker"
       ]
      },
      {
       "output_type": "stream",
       "stream": "stdout",
       "text": [
        " \ud559\uc2b5\n",
        "Jewel Stacker"
       ]
      },
      {
       "output_type": "stream",
       "stream": "stdout",
       "text": [
        " \ucee4\ubba4\ub2c8\ud2f0\n",
        "Bubble Witch Saga Fan Guide"
       ]
      },
      {
       "output_type": "stream",
       "stream": "stdout",
       "text": [
        " \ubbf8\uc6a9\n",
        "Bubble Witch Saga Fan Guide"
       ]
      },
      {
       "output_type": "stream",
       "stream": "stdout",
       "text": [
        " \uc74c\uc545\n",
        "Bubble Witch Saga Fan Guide"
       ]
      },
      {
       "output_type": "stream",
       "stream": "stdout",
       "text": [
        " \ub9ac\ubdf0\n",
        "Bubble Witch Saga Fan Guide"
       ]
      },
      {
       "output_type": "stream",
       "stream": "stdout",
       "text": [
        " \uc5f0\uc608\n",
        "Bubble Witch Saga Fan Guide"
       ]
      },
      {
       "output_type": "stream",
       "stream": "stdout",
       "text": [
        " \uc74c\uc2dd\n",
        "Bubble Witch Saga Fan Guide"
       ]
      },
      {
       "output_type": "stream",
       "stream": "stdout",
       "text": [
        " \uc2a4\ud3ec\uce20\n",
        "Bubble Witch Saga Fan Guide \uac8c\uc784\n",
        "Bubble Witch Saga Fan Guide"
       ]
      },
      {
       "output_type": "stream",
       "stream": "stdout",
       "text": [
        " \uac74\uac15\n",
        "Bubble Witch Saga Fan Guide \ud559\uc2b5\n",
        "Bubble Witch Saga Fan Guide"
       ]
      },
      {
       "output_type": "stream",
       "stream": "stdout",
       "text": [
        " \ucee4\ubba4\ub2c8\ud2f0\n",
        "\uc5b4\uba54\uc774\uc9d5 \ube0c\ub808\uc774\ucee4_FREE"
       ]
      },
      {
       "output_type": "stream",
       "stream": "stdout",
       "text": [
        " \ubbf8\uc6a9\n",
        "\uc5b4\uba54\uc774\uc9d5 \ube0c\ub808\uc774\ucee4_FREE"
       ]
      },
      {
       "output_type": "stream",
       "stream": "stdout",
       "text": [
        " \uc74c\uc545\n",
        "\uc5b4\uba54\uc774\uc9d5 \ube0c\ub808\uc774\ucee4_FREE \ub9ac\ubdf0\n",
        "\uc5b4\uba54\uc774\uc9d5 \ube0c\ub808\uc774\ucee4_FREE"
       ]
      },
      {
       "output_type": "stream",
       "stream": "stdout",
       "text": [
        " \uc5f0\uc608\n",
        "\uc5b4\uba54\uc774\uc9d5 \ube0c\ub808\uc774\ucee4_FREE"
       ]
      },
      {
       "output_type": "stream",
       "stream": "stdout",
       "text": [
        " \uc74c\uc2dd\n",
        "\uc5b4\uba54\uc774\uc9d5 \ube0c\ub808\uc774\ucee4_FREE"
       ]
      },
      {
       "output_type": "stream",
       "stream": "stdout",
       "text": [
        " \uc2a4\ud3ec\uce20\n",
        "\uc5b4\uba54\uc774\uc9d5 \ube0c\ub808\uc774\ucee4_FREE \uac8c\uc784\n",
        "\uc5b4\uba54\uc774\uc9d5 \ube0c\ub808\uc774\ucee4_FREE"
       ]
      },
      {
       "output_type": "stream",
       "stream": "stdout",
       "text": [
        " \uac74\uac15\n",
        "\uc5b4\uba54\uc774\uc9d5 \ube0c\ub808\uc774\ucee4_FREE"
       ]
      },
      {
       "output_type": "stream",
       "stream": "stdout",
       "text": [
        " \ud559\uc2b5\n",
        "\uc5b4\uba54\uc774\uc9d5 \ube0c\ub808\uc774\ucee4_FREE"
       ]
      },
      {
       "output_type": "stream",
       "stream": "stdout",
       "text": [
        " \ucee4\ubba4\ub2c8\ud2f0\n",
        "\ud30c\uc774\ube0c\uc18c\uc988"
       ]
      },
      {
       "output_type": "stream",
       "stream": "stdout",
       "text": [
        " \ubbf8\uc6a9\n",
        "\ud30c\uc774\ube0c\uc18c\uc988"
       ]
      },
      {
       "output_type": "stream",
       "stream": "stdout",
       "text": [
        " \uc74c\uc545\n",
        "\ud30c\uc774\ube0c\uc18c\uc988"
       ]
      },
      {
       "output_type": "stream",
       "stream": "stdout",
       "text": [
        " \ub9ac\ubdf0\n",
        "\ud30c\uc774\ube0c\uc18c\uc988"
       ]
      },
      {
       "output_type": "stream",
       "stream": "stdout",
       "text": [
        " \uc5f0\uc608\n",
        "\ud30c\uc774\ube0c\uc18c\uc988"
       ]
      },
      {
       "output_type": "stream",
       "stream": "stdout",
       "text": [
        " \uc74c\uc2dd\n",
        "\ud30c\uc774\ube0c\uc18c\uc988"
       ]
      },
      {
       "output_type": "stream",
       "stream": "stdout",
       "text": [
        " \uc2a4\ud3ec\uce20\n",
        "\ud30c\uc774\ube0c\uc18c\uc988"
       ]
      },
      {
       "output_type": "stream",
       "stream": "stdout",
       "text": [
        " \uac8c\uc784\n",
        "\ud30c\uc774\ube0c\uc18c\uc988"
       ]
      },
      {
       "output_type": "stream",
       "stream": "stdout",
       "text": [
        " \uac74\uac15\n",
        "\ud30c\uc774\ube0c\uc18c\uc988"
       ]
      },
      {
       "output_type": "stream",
       "stream": "stdout",
       "text": [
        " \ud559\uc2b5\n",
        "\ud30c\uc774\ube0c\uc18c\uc988"
       ]
      },
      {
       "output_type": "stream",
       "stream": "stdout",
       "text": [
        " \ucee4\ubba4\ub2c8\ud2f0\n",
        "Zombie Ace"
       ]
      },
      {
       "output_type": "stream",
       "stream": "stdout",
       "text": [
        " \ubbf8\uc6a9\n",
        "Zombie Ace \uc74c\uc545\n",
        "Zombie Ace"
       ]
      },
      {
       "output_type": "stream",
       "stream": "stdout",
       "text": [
        " \ub9ac\ubdf0\n",
        "Zombie Ace"
       ]
      },
      {
       "output_type": "stream",
       "stream": "stdout",
       "text": [
        " \uc5f0\uc608\n",
        "Zombie Ace"
       ]
      },
      {
       "output_type": "stream",
       "stream": "stdout",
       "text": [
        " \uc74c\uc2dd\n",
        "Zombie Ace"
       ]
      },
      {
       "output_type": "stream",
       "stream": "stdout",
       "text": [
        " \uc2a4\ud3ec\uce20\n",
        "Zombie Ace"
       ]
      },
      {
       "output_type": "stream",
       "stream": "stdout",
       "text": [
        " \uac8c\uc784\n",
        "Zombie Ace \uac74\uac15\n",
        "Zombie Ace"
       ]
      },
      {
       "output_type": "stream",
       "stream": "stdout",
       "text": [
        " \ud559\uc2b5\n",
        "Zombie Ace"
       ]
      },
      {
       "output_type": "stream",
       "stream": "stdout",
       "text": [
        " \ucee4\ubba4\ub2c8\ud2f0\n",
        "\uc2a4\uc2dc \ud0c0\uc774\ucfe4"
       ]
      },
      {
       "output_type": "stream",
       "stream": "stdout",
       "text": [
        " \ubbf8\uc6a9\n",
        "\uc2a4\uc2dc \ud0c0\uc774\ucfe4"
       ]
      },
      {
       "output_type": "stream",
       "stream": "stdout",
       "text": [
        " \uc74c\uc545\n",
        "\uc2a4\uc2dc \ud0c0\uc774\ucfe4"
       ]
      },
      {
       "output_type": "stream",
       "stream": "stdout",
       "text": [
        " \ub9ac\ubdf0\n",
        "\uc2a4\uc2dc \ud0c0\uc774\ucfe4"
       ]
      },
      {
       "output_type": "stream",
       "stream": "stdout",
       "text": [
        " \uc5f0\uc608\n",
        "\uc2a4\uc2dc \ud0c0\uc774\ucfe4 \uc74c\uc2dd\n",
        "\uc2a4\uc2dc \ud0c0\uc774\ucfe4"
       ]
      },
      {
       "output_type": "stream",
       "stream": "stdout",
       "text": [
        " \uc2a4\ud3ec\uce20\n",
        "\uc2a4\uc2dc \ud0c0\uc774\ucfe4"
       ]
      },
      {
       "output_type": "stream",
       "stream": "stdout",
       "text": [
        " \uac8c\uc784\n",
        "\uc2a4\uc2dc \ud0c0\uc774\ucfe4"
       ]
      },
      {
       "output_type": "stream",
       "stream": "stdout",
       "text": [
        " \uac74\uac15\n",
        "\uc2a4\uc2dc \ud0c0\uc774\ucfe4"
       ]
      },
      {
       "output_type": "stream",
       "stream": "stdout",
       "text": [
        " \ud559\uc2b5\n",
        "\uc2a4\uc2dc \ud0c0\uc774\ucfe4"
       ]
      },
      {
       "output_type": "stream",
       "stream": "stdout",
       "text": [
        " \ucee4\ubba4\ub2c8\ud2f0\n",
        "\uc0bc\uad6d TD : \ubc29\uc5b4\uc790 \ubbf8\uc6a9\n",
        "\uc0bc\uad6d TD : \ubc29\uc5b4\uc790"
       ]
      },
      {
       "output_type": "stream",
       "stream": "stdout",
       "text": [
        " \uc74c\uc545\n",
        "\uc0bc\uad6d TD : \ubc29\uc5b4\uc790"
       ]
      },
      {
       "output_type": "stream",
       "stream": "stdout",
       "text": [
        " \ub9ac\ubdf0\n",
        "\uc0bc\uad6d TD : \ubc29\uc5b4\uc790"
       ]
      },
      {
       "output_type": "stream",
       "stream": "stdout",
       "text": [
        " \uc5f0\uc608\n",
        "\uc0bc\uad6d TD : \ubc29\uc5b4\uc790 \uc74c\uc2dd\n",
        "\uc0bc\uad6d TD : \ubc29\uc5b4\uc790"
       ]
      },
      {
       "output_type": "stream",
       "stream": "stdout",
       "text": [
        " \uc2a4\ud3ec\uce20\n",
        "\uc0bc\uad6d TD : \ubc29\uc5b4\uc790"
       ]
      },
      {
       "output_type": "stream",
       "stream": "stdout",
       "text": [
        " \uac8c\uc784\n",
        "\uc0bc\uad6d TD : \ubc29\uc5b4\uc790 \uac74\uac15\n",
        "\uc0bc\uad6d TD : \ubc29\uc5b4\uc790"
       ]
      },
      {
       "output_type": "stream",
       "stream": "stdout",
       "text": [
        " \ud559\uc2b5\n",
        "\uc0bc\uad6d TD : \ubc29\uc5b4\uc790"
       ]
      },
      {
       "output_type": "stream",
       "stream": "stdout",
       "text": [
        " \ucee4\ubba4\ub2c8\ud2f0\n",
        "Ultimate SMS Template Library \ubbf8\uc6a9\n",
        "Ultimate SMS Template Library"
       ]
      },
      {
       "output_type": "stream",
       "stream": "stdout",
       "text": [
        " \uc74c\uc545\n",
        "Ultimate SMS Template Library \ub9ac\ubdf0\n",
        "Ultimate SMS Template Library"
       ]
      },
      {
       "output_type": "stream",
       "stream": "stdout",
       "text": [
        " \uc5f0\uc608\n",
        "Ultimate SMS Template Library \uc74c\uc2dd\n",
        "Ultimate SMS Template Library"
       ]
      },
      {
       "output_type": "stream",
       "stream": "stdout",
       "text": [
        " \uc2a4\ud3ec\uce20\n",
        "Ultimate SMS Template Library"
       ]
      },
      {
       "output_type": "stream",
       "stream": "stdout",
       "text": [
        " \uac8c\uc784\n",
        "Ultimate SMS Template Library \uac74\uac15\n",
        "Ultimate SMS Template Library"
       ]
      },
      {
       "output_type": "stream",
       "stream": "stdout",
       "text": [
        " \ud559\uc2b5\n",
        "Ultimate SMS Template Library"
       ]
      },
      {
       "output_type": "stream",
       "stream": "stdout",
       "text": [
        " \ucee4\ubba4\ub2c8\ud2f0\n",
        "\u3010\uc778\uae30\u3011\u3010\uc561\uc158RPG\u3011\ub4dc\ub798\uace4 \ud5cc\ud130LITE"
       ]
      },
      {
       "output_type": "stream",
       "stream": "stdout",
       "text": [
        " \ubbf8\uc6a9\n",
        "\u3010\uc778\uae30\u3011\u3010\uc561\uc158RPG\u3011\ub4dc\ub798\uace4 \ud5cc\ud130LITE \uc74c\uc545\n",
        "\u3010\uc778\uae30\u3011\u3010\uc561\uc158RPG\u3011\ub4dc\ub798\uace4 \ud5cc\ud130LITE"
       ]
      },
      {
       "output_type": "stream",
       "stream": "stdout",
       "text": [
        " \ub9ac\ubdf0\n",
        "\u3010\uc778\uae30\u3011\u3010\uc561\uc158RPG\u3011\ub4dc\ub798\uace4 \ud5cc\ud130LITE"
       ]
      },
      {
       "output_type": "stream",
       "stream": "stdout",
       "text": [
        " \uc5f0\uc608\n",
        "\u3010\uc778\uae30\u3011\u3010\uc561\uc158RPG\u3011\ub4dc\ub798\uace4 \ud5cc\ud130LITE \uc74c\uc2dd\n",
        "\u3010\uc778\uae30\u3011\u3010\uc561\uc158RPG\u3011\ub4dc\ub798\uace4 \ud5cc\ud130LITE"
       ]
      },
      {
       "output_type": "stream",
       "stream": "stdout",
       "text": [
        " \uc2a4\ud3ec\uce20\n",
        "\u3010\uc778\uae30\u3011\u3010\uc561\uc158RPG\u3011\ub4dc\ub798\uace4 \ud5cc\ud130LITE \uac8c\uc784\n",
        "\u3010\uc778\uae30\u3011\u3010\uc561\uc158RPG\u3011\ub4dc\ub798\uace4 \ud5cc\ud130LITE"
       ]
      },
      {
       "output_type": "stream",
       "stream": "stdout",
       "text": [
        " \uac74\uac15\n",
        "\u3010\uc778\uae30\u3011\u3010\uc561\uc158RPG\u3011\ub4dc\ub798\uace4 \ud5cc\ud130LITE"
       ]
      },
      {
       "output_type": "stream",
       "stream": "stdout",
       "text": [
        " \ud559\uc2b5\n",
        "\u3010\uc778\uae30\u3011\u3010\uc561\uc158RPG\u3011\ub4dc\ub798\uace4 \ud5cc\ud130LITE"
       ]
      },
      {
       "output_type": "stream",
       "stream": "stdout",
       "text": [
        " \ucee4\ubba4\ub2c8\ud2f0\n",
        "Zombie Swipeout Free \ubbf8\uc6a9\n",
        "Zombie Swipeout Free"
       ]
      },
      {
       "output_type": "stream",
       "stream": "stdout",
       "text": [
        " \uc74c\uc545\n",
        "Zombie Swipeout Free"
       ]
      },
      {
       "output_type": "stream",
       "stream": "stdout",
       "text": [
        " \ub9ac\ubdf0\n",
        "Zombie Swipeout Free"
       ]
      },
      {
       "output_type": "stream",
       "stream": "stdout",
       "text": [
        " \uc5f0\uc608\n",
        "Zombie Swipeout Free \uc74c\uc2dd\n",
        "Zombie Swipeout Free"
       ]
      },
      {
       "output_type": "stream",
       "stream": "stdout",
       "text": [
        " \uc2a4\ud3ec\uce20\n",
        "Zombie Swipeout Free"
       ]
      },
      {
       "output_type": "stream",
       "stream": "stdout",
       "text": [
        " \uac8c\uc784\n",
        "Zombie Swipeout Free"
       ]
      },
      {
       "output_type": "stream",
       "stream": "stdout",
       "text": [
        " \uac74\uac15\n",
        "Zombie Swipeout Free"
       ]
      },
      {
       "output_type": "stream",
       "stream": "stdout",
       "text": [
        " \ud559\uc2b5\n",
        "Zombie Swipeout Free"
       ]
      },
      {
       "output_type": "stream",
       "stream": "stdout",
       "text": [
        " \ucee4\ubba4\ub2c8\ud2f0\n",
        "Prayer Time"
       ]
      },
      {
       "output_type": "stream",
       "stream": "stdout",
       "text": [
        " \ubbf8\uc6a9\n",
        "Prayer Time"
       ]
      },
      {
       "output_type": "stream",
       "stream": "stdout",
       "text": [
        " \uc74c\uc545\n",
        "Prayer Time"
       ]
      },
      {
       "output_type": "stream",
       "stream": "stdout",
       "text": [
        " \ub9ac\ubdf0\n",
        "Prayer Time"
       ]
      },
      {
       "output_type": "stream",
       "stream": "stdout",
       "text": [
        " \uc5f0\uc608\n",
        "Prayer Time \uc74c\uc2dd\n",
        "Prayer Time"
       ]
      },
      {
       "output_type": "stream",
       "stream": "stdout",
       "text": [
        " \uc2a4\ud3ec\uce20\n",
        "Prayer Time \uac8c\uc784\n",
        "Prayer Time"
       ]
      },
      {
       "output_type": "stream",
       "stream": "stdout",
       "text": [
        " \uac74\uac15\n",
        "Prayer Time \ud559\uc2b5\n",
        "Prayer Time"
       ]
      },
      {
       "output_type": "stream",
       "stream": "stdout",
       "text": [
        " \ucee4\ubba4\ub2c8\ud2f0\n",
        "\ubd04\ube0c\uc258"
       ]
      },
      {
       "output_type": "stream",
       "stream": "stdout",
       "text": [
        " \ubbf8\uc6a9\n",
        "\ubd04\ube0c\uc258"
       ]
      },
      {
       "output_type": "stream",
       "stream": "stdout",
       "text": [
        " \uc74c\uc545\n",
        "\ubd04\ube0c\uc258"
       ]
      },
      {
       "output_type": "stream",
       "stream": "stdout",
       "text": [
        " \ub9ac\ubdf0\n",
        "\ubd04\ube0c\uc258"
       ]
      },
      {
       "output_type": "stream",
       "stream": "stdout",
       "text": [
        " \uc5f0\uc608\n",
        "\ubd04\ube0c\uc258"
       ]
      },
      {
       "output_type": "stream",
       "stream": "stdout",
       "text": [
        " \uc74c\uc2dd\n",
        "\ubd04\ube0c\uc258"
       ]
      },
      {
       "output_type": "stream",
       "stream": "stdout",
       "text": [
        " \uc2a4\ud3ec\uce20\n",
        "\ubd04\ube0c\uc258"
       ]
      },
      {
       "output_type": "stream",
       "stream": "stdout",
       "text": [
        " \uac8c\uc784\n",
        "\ubd04\ube0c\uc258"
       ]
      },
      {
       "output_type": "stream",
       "stream": "stdout",
       "text": [
        " \uac74\uac15\n",
        "\ubd04\ube0c\uc258"
       ]
      },
      {
       "output_type": "stream",
       "stream": "stdout",
       "text": [
        " \ud559\uc2b5\n",
        "\ubd04\ube0c\uc258"
       ]
      },
      {
       "output_type": "stream",
       "stream": "stdout",
       "text": [
        " \ucee4\ubba4\ub2c8\ud2f0\n",
        "\u30d5\u30a1\u30eb\u30ad\u30e5\u30fc\u30ec\u306e\u7d0b\u7ae0 [40\u4e07\u4eba\u304c\u5927\u71b1\u72c2\uff01\u7121\u6599\u30ab\u30fc\u30c9\u30b2\u30fc\u30e0]"
       ]
      },
      {
       "output_type": "stream",
       "stream": "stdout",
       "text": [
        " \ubbf8\uc6a9\n",
        "\u30d5\u30a1\u30eb\u30ad\u30e5\u30fc\u30ec\u306e\u7d0b\u7ae0 [40\u4e07\u4eba\u304c\u5927\u71b1\u72c2\uff01\u7121\u6599\u30ab\u30fc\u30c9\u30b2\u30fc\u30e0]"
       ]
      },
      {
       "output_type": "stream",
       "stream": "stdout",
       "text": [
        " \uc74c\uc545\n",
        "\u30d5\u30a1\u30eb\u30ad\u30e5\u30fc\u30ec\u306e\u7d0b\u7ae0 [40\u4e07\u4eba\u304c\u5927\u71b1\u72c2\uff01\u7121\u6599\u30ab\u30fc\u30c9\u30b2\u30fc\u30e0]"
       ]
      },
      {
       "output_type": "stream",
       "stream": "stdout",
       "text": [
        " \ub9ac\ubdf0\n",
        "\u30d5\u30a1\u30eb\u30ad\u30e5\u30fc\u30ec\u306e\u7d0b\u7ae0 [40\u4e07\u4eba\u304c\u5927\u71b1\u72c2\uff01\u7121\u6599\u30ab\u30fc\u30c9\u30b2\u30fc\u30e0]"
       ]
      },
      {
       "output_type": "stream",
       "stream": "stdout",
       "text": [
        " \uc5f0\uc608\n",
        "\u30d5\u30a1\u30eb\u30ad\u30e5\u30fc\u30ec\u306e\u7d0b\u7ae0 [40\u4e07\u4eba\u304c\u5927\u71b1\u72c2\uff01\u7121\u6599\u30ab\u30fc\u30c9\u30b2\u30fc\u30e0] \uc74c\uc2dd\n",
        "\u30d5\u30a1\u30eb\u30ad\u30e5\u30fc\u30ec\u306e\u7d0b\u7ae0 [40\u4e07\u4eba\u304c\u5927\u71b1\u72c2\uff01\u7121\u6599\u30ab\u30fc\u30c9\u30b2\u30fc\u30e0]"
       ]
      },
      {
       "output_type": "stream",
       "stream": "stdout",
       "text": [
        " \uc2a4\ud3ec\uce20\n",
        "\u30d5\u30a1\u30eb\u30ad\u30e5\u30fc\u30ec\u306e\u7d0b\u7ae0 [40\u4e07\u4eba\u304c\u5927\u71b1\u72c2\uff01\u7121\u6599\u30ab\u30fc\u30c9\u30b2\u30fc\u30e0]"
       ]
      },
      {
       "output_type": "stream",
       "stream": "stdout",
       "text": [
        " \uac8c\uc784\n",
        "\u30d5\u30a1\u30eb\u30ad\u30e5\u30fc\u30ec\u306e\u7d0b\u7ae0 [40\u4e07\u4eba\u304c\u5927\u71b1\u72c2\uff01\u7121\u6599\u30ab\u30fc\u30c9\u30b2\u30fc\u30e0]"
       ]
      },
      {
       "output_type": "stream",
       "stream": "stdout",
       "text": [
        " \uac74\uac15\n",
        "\u30d5\u30a1\u30eb\u30ad\u30e5\u30fc\u30ec\u306e\u7d0b\u7ae0 [40\u4e07\u4eba\u304c\u5927\u71b1\u72c2\uff01\u7121\u6599\u30ab\u30fc\u30c9\u30b2\u30fc\u30e0] \ud559\uc2b5\n",
        "\u30d5\u30a1\u30eb\u30ad\u30e5\u30fc\u30ec\u306e\u7d0b\u7ae0 [40\u4e07\u4eba\u304c\u5927\u71b1\u72c2\uff01\u7121\u6599\u30ab\u30fc\u30c9\u30b2\u30fc\u30e0]"
       ]
      },
      {
       "output_type": "stream",
       "stream": "stdout",
       "text": [
        " \ucee4\ubba4\ub2c8\ud2f0\n",
        "Circuit Flow Free"
       ]
      },
      {
       "output_type": "stream",
       "stream": "stdout",
       "text": [
        " \ubbf8\uc6a9\n",
        "Circuit Flow Free \uc74c\uc545\n",
        "Circuit Flow Free"
       ]
      },
      {
       "output_type": "stream",
       "stream": "stdout",
       "text": [
        " \ub9ac\ubdf0\n",
        "Circuit Flow Free"
       ]
      },
      {
       "output_type": "stream",
       "stream": "stdout",
       "text": [
        " \uc5f0\uc608\n",
        "Circuit Flow Free"
       ]
      },
      {
       "output_type": "stream",
       "stream": "stdout",
       "text": [
        " \uc74c\uc2dd\n",
        "Circuit Flow Free \uc2a4\ud3ec\uce20\n",
        "Circuit Flow Free"
       ]
      },
      {
       "output_type": "stream",
       "stream": "stdout",
       "text": [
        " \uac8c\uc784\n",
        "Circuit Flow Free"
       ]
      },
      {
       "output_type": "stream",
       "stream": "stdout",
       "text": [
        " \uac74\uac15\n",
        "Circuit Flow Free"
       ]
      },
      {
       "output_type": "stream",
       "stream": "stdout",
       "text": [
        " \ud559\uc2b5\n",
        "Circuit Flow Free \ucee4\ubba4\ub2c8\ud2f0\n",
        "\ub358\uc804 \ubaa8\ud5d8 - \ubb34\ub8cc"
       ]
      },
      {
       "output_type": "stream",
       "stream": "stdout",
       "text": [
        " \ubbf8\uc6a9\n",
        "\ub358\uc804 \ubaa8\ud5d8 - \ubb34\ub8cc"
       ]
      },
      {
       "output_type": "stream",
       "stream": "stdout",
       "text": [
        " \uc74c\uc545\n",
        "\ub358\uc804 \ubaa8\ud5d8 - \ubb34\ub8cc"
       ]
      },
      {
       "output_type": "stream",
       "stream": "stdout",
       "text": [
        " \ub9ac\ubdf0\n",
        "\ub358\uc804 \ubaa8\ud5d8 - \ubb34\ub8cc \uc5f0\uc608\n",
        "\ub358\uc804 \ubaa8\ud5d8 - \ubb34\ub8cc"
       ]
      },
      {
       "output_type": "stream",
       "stream": "stdout",
       "text": [
        " \uc74c\uc2dd\n",
        "\ub358\uc804 \ubaa8\ud5d8 - \ubb34\ub8cc"
       ]
      },
      {
       "output_type": "stream",
       "stream": "stdout",
       "text": [
        " \uc2a4\ud3ec\uce20\n",
        "\ub358\uc804 \ubaa8\ud5d8 - \ubb34\ub8cc \uac8c\uc784\n",
        "\ub358\uc804 \ubaa8\ud5d8 - \ubb34\ub8cc"
       ]
      },
      {
       "output_type": "stream",
       "stream": "stdout",
       "text": [
        " \uac74\uac15\n",
        "\ub358\uc804 \ubaa8\ud5d8 - \ubb34\ub8cc"
       ]
      },
      {
       "output_type": "stream",
       "stream": "stdout",
       "text": [
        " \ud559\uc2b5\n",
        "\ub358\uc804 \ubaa8\ud5d8 - \ubb34\ub8cc"
       ]
      },
      {
       "output_type": "stream",
       "stream": "stdout",
       "text": [
        " \ucee4\ubba4\ub2c8\ud2f0\n",
        "MMORPG Project \ubbf8\uc6a9\n",
        "MMORPG Project"
       ]
      },
      {
       "output_type": "stream",
       "stream": "stdout",
       "text": [
        " \uc74c\uc545\n",
        "MMORPG Project \ub9ac\ubdf0\n",
        "MMORPG Project"
       ]
      },
      {
       "output_type": "stream",
       "stream": "stdout",
       "text": [
        " \uc5f0\uc608\n",
        "MMORPG Project"
       ]
      },
      {
       "output_type": "stream",
       "stream": "stdout",
       "text": [
        " \uc74c\uc2dd\n",
        "MMORPG Project \uc2a4\ud3ec\uce20\n",
        "MMORPG Project"
       ]
      },
      {
       "output_type": "stream",
       "stream": "stdout",
       "text": [
        " \uac8c\uc784\n",
        "MMORPG Project \uac74\uac15\n",
        "MMORPG Project"
       ]
      },
      {
       "output_type": "stream",
       "stream": "stdout",
       "text": [
        " \ud559\uc2b5\n",
        "MMORPG Project \ucee4\ubba4\ub2c8\ud2f0\n",
        "\u0627\u0641\u062d\u0635 \u0642\u0648\u0629 \u0628\u0635\u0631\u0643 \u0627\u0644\u0645\u0637\u0648\u0631"
       ]
      },
      {
       "output_type": "stream",
       "stream": "stdout",
       "text": [
        " \ubbf8\uc6a9\n",
        "\u0627\u0641\u062d\u0635 \u0642\u0648\u0629 \u0628\u0635\u0631\u0643 \u0627\u0644\u0645\u0637\u0648\u0631 \uc74c\uc545\n",
        "\u0627\u0641\u062d\u0635 \u0642\u0648\u0629 \u0628\u0635\u0631\u0643 \u0627\u0644\u0645\u0637\u0648\u0631"
       ]
      },
      {
       "output_type": "stream",
       "stream": "stdout",
       "text": [
        " \ub9ac\ubdf0\n",
        "\u0627\u0641\u062d\u0635 \u0642\u0648\u0629 \u0628\u0635\u0631\u0643 \u0627\u0644\u0645\u0637\u0648\u0631"
       ]
      },
      {
       "output_type": "stream",
       "stream": "stdout",
       "text": [
        " \uc5f0\uc608\n",
        "\u0627\u0641\u062d\u0635 \u0642\u0648\u0629 \u0628\u0635\u0631\u0643 \u0627\u0644\u0645\u0637\u0648\u0631"
       ]
      },
      {
       "output_type": "stream",
       "stream": "stdout",
       "text": [
        " \uc74c\uc2dd\n",
        "\u0627\u0641\u062d\u0635 \u0642\u0648\u0629 \u0628\u0635\u0631\u0643 \u0627\u0644\u0645\u0637\u0648\u0631"
       ]
      },
      {
       "output_type": "stream",
       "stream": "stdout",
       "text": [
        " \uc2a4\ud3ec\uce20\n",
        "\u0627\u0641\u062d\u0635 \u0642\u0648\u0629 \u0628\u0635\u0631\u0643 \u0627\u0644\u0645\u0637\u0648\u0631 \uac8c\uc784\n",
        "\u0627\u0641\u062d\u0635 \u0642\u0648\u0629 \u0628\u0635\u0631\u0643 \u0627\u0644\u0645\u0637\u0648\u0631"
       ]
      },
      {
       "output_type": "stream",
       "stream": "stdout",
       "text": [
        " \uac74\uac15\n",
        "\u0627\u0641\u062d\u0635 \u0642\u0648\u0629 \u0628\u0635\u0631\u0643 \u0627\u0644\u0645\u0637\u0648\u0631 \ud559\uc2b5\n",
        "\u0627\u0641\u062d\u0635 \u0642\u0648\u0629 \u0628\u0635\u0631\u0643 \u0627\u0644\u0645\u0637\u0648\u0631"
       ]
      },
      {
       "output_type": "stream",
       "stream": "stdout",
       "text": [
        " \ucee4\ubba4\ub2c8\ud2f0\n",
        "Liverpool FC Fantasy Manager \ubbf8\uc6a9\n",
        "Liverpool FC Fantasy Manager"
       ]
      },
      {
       "output_type": "stream",
       "stream": "stdout",
       "text": [
        " \uc74c\uc545\n",
        "Liverpool FC Fantasy Manager \ub9ac\ubdf0\n",
        "Liverpool FC Fantasy Manager"
       ]
      },
      {
       "output_type": "stream",
       "stream": "stdout",
       "text": [
        " \uc5f0\uc608\n",
        "Liverpool FC Fantasy Manager \uc74c\uc2dd\n",
        "Liverpool FC Fantasy Manager"
       ]
      },
      {
       "output_type": "stream",
       "stream": "stdout",
       "text": [
        " \uc2a4\ud3ec\uce20\n",
        "Liverpool FC Fantasy Manager \uac8c\uc784\n",
        "Liverpool FC Fantasy Manager"
       ]
      },
      {
       "output_type": "stream",
       "stream": "stdout",
       "text": [
        " \uac74\uac15\n",
        "Liverpool FC Fantasy Manager"
       ]
      },
      {
       "output_type": "stream",
       "stream": "stdout",
       "text": [
        " \ud559\uc2b5\n",
        "Liverpool FC Fantasy Manager \ucee4\ubba4\ub2c8\ud2f0\n",
        "Skyriders"
       ]
      },
      {
       "output_type": "stream",
       "stream": "stdout",
       "text": [
        " \ubbf8\uc6a9\n",
        "Skyriders \uc74c\uc545\n",
        "Skyriders"
       ]
      },
      {
       "output_type": "stream",
       "stream": "stdout",
       "text": [
        " \ub9ac\ubdf0\n",
        "Skyriders"
       ]
      },
      {
       "output_type": "stream",
       "stream": "stdout",
       "text": [
        " \uc5f0\uc608\n",
        "Skyriders"
       ]
      },
      {
       "output_type": "stream",
       "stream": "stdout",
       "text": [
        " \uc74c\uc2dd\n",
        "Skyriders"
       ]
      },
      {
       "output_type": "stream",
       "stream": "stdout",
       "text": [
        " \uc2a4\ud3ec\uce20\n",
        "Skyriders"
       ]
      },
      {
       "output_type": "stream",
       "stream": "stdout",
       "text": [
        " \uac8c\uc784\n",
        "Skyriders"
       ]
      },
      {
       "output_type": "stream",
       "stream": "stdout",
       "text": [
        " \uac74\uac15\n",
        "Skyriders"
       ]
      },
      {
       "output_type": "stream",
       "stream": "stdout",
       "text": [
        " \ud559\uc2b5\n",
        "Skyriders \ucee4\ubba4\ub2c8\ud2f0\n",
        "Truck Delivery Free"
       ]
      },
      {
       "output_type": "stream",
       "stream": "stdout",
       "text": [
        " \ubbf8\uc6a9\n",
        "Truck Delivery Free \uc74c\uc545\n",
        "Truck Delivery Free"
       ]
      },
      {
       "output_type": "stream",
       "stream": "stdout",
       "text": [
        " \ub9ac\ubdf0\n",
        "Truck Delivery Free"
       ]
      },
      {
       "output_type": "stream",
       "stream": "stdout",
       "text": [
        " \uc5f0\uc608\n",
        "Truck Delivery Free \uc74c\uc2dd\n",
        "Truck Delivery Free"
       ]
      },
      {
       "output_type": "stream",
       "stream": "stdout",
       "text": [
        " \uc2a4\ud3ec\uce20\n",
        "Truck Delivery Free \uac8c\uc784\n",
        "Truck Delivery Free"
       ]
      },
      {
       "output_type": "stream",
       "stream": "stdout",
       "text": [
        " \uac74\uac15\n",
        "Truck Delivery Free \ud559\uc2b5\n",
        "Truck Delivery Free"
       ]
      },
      {
       "output_type": "stream",
       "stream": "stdout",
       "text": [
        " \ucee4\ubba4\ub2c8\ud2f0\n",
        "\uc804\uc7c1 \uc804\ub7b5"
       ]
      },
      {
       "output_type": "stream",
       "stream": "stdout",
       "text": [
        " \ubbf8\uc6a9\n",
        "\uc804\uc7c1 \uc804\ub7b5 \uc74c\uc545\n",
        "\uc804\uc7c1 \uc804\ub7b5"
       ]
      },
      {
       "output_type": "stream",
       "stream": "stdout",
       "text": [
        " \ub9ac\ubdf0\n",
        "\uc804\uc7c1 \uc804\ub7b5"
       ]
      },
      {
       "output_type": "stream",
       "stream": "stdout",
       "text": [
        " \uc5f0\uc608\n",
        "\uc804\uc7c1 \uc804\ub7b5"
       ]
      },
      {
       "output_type": "stream",
       "stream": "stdout",
       "text": [
        " \uc74c\uc2dd\n",
        "\uc804\uc7c1 \uc804\ub7b5 \uc2a4\ud3ec\uce20\n",
        "\uc804\uc7c1 \uc804\ub7b5"
       ]
      },
      {
       "output_type": "stream",
       "stream": "stdout",
       "text": [
        " \uac8c\uc784\n",
        "\uc804\uc7c1 \uc804\ub7b5 \uac74\uac15\n",
        "\uc804\uc7c1 \uc804\ub7b5"
       ]
      },
      {
       "output_type": "stream",
       "stream": "stdout",
       "text": [
        " \ud559\uc2b5\n",
        "\uc804\uc7c1 \uc804\ub7b5 \ucee4\ubba4\ub2c8\ud2f0\n",
        "Furious Wheel"
       ]
      },
      {
       "output_type": "stream",
       "stream": "stdout",
       "text": [
        " \ubbf8\uc6a9\n",
        "Furious Wheel \uc74c\uc545\n",
        "Furious Wheel"
       ]
      },
      {
       "output_type": "stream",
       "stream": "stdout",
       "text": [
        " \ub9ac\ubdf0\n",
        "Furious Wheel"
       ]
      },
      {
       "output_type": "stream",
       "stream": "stdout",
       "text": [
        " \uc5f0\uc608\n",
        "Furious Wheel"
       ]
      },
      {
       "output_type": "stream",
       "stream": "stdout",
       "text": [
        " \uc74c\uc2dd\n",
        "Furious Wheel \uc2a4\ud3ec\uce20\n",
        "Furious Wheel"
       ]
      },
      {
       "output_type": "stream",
       "stream": "stdout",
       "text": [
        " \uac8c\uc784\n",
        "Furious Wheel \uac74\uac15\n",
        "Furious Wheel"
       ]
      },
      {
       "output_type": "stream",
       "stream": "stdout",
       "text": [
        " \ud559\uc2b5\n",
        "Furious Wheel"
       ]
      },
      {
       "output_type": "stream",
       "stream": "stdout",
       "text": [
        " \ucee4\ubba4\ub2c8\ud2f0\n",
        "Wordfeud"
       ]
      },
      {
       "output_type": "stream",
       "stream": "stdout",
       "text": [
        " \ubbf8\uc6a9\n",
        "Wordfeud"
       ]
      },
      {
       "output_type": "stream",
       "stream": "stdout",
       "text": [
        " \uc74c\uc545\n",
        "Wordfeud"
       ]
      },
      {
       "output_type": "stream",
       "stream": "stdout",
       "text": [
        " \ub9ac\ubdf0\n",
        "Wordfeud"
       ]
      },
      {
       "output_type": "stream",
       "stream": "stdout",
       "text": [
        " \uc5f0\uc608\n",
        "Wordfeud"
       ]
      },
      {
       "output_type": "stream",
       "stream": "stdout",
       "text": [
        " \uc74c\uc2dd\n",
        "Wordfeud"
       ]
      },
      {
       "output_type": "stream",
       "stream": "stdout",
       "text": [
        " \uc2a4\ud3ec\uce20\n",
        "Wordfeud"
       ]
      },
      {
       "output_type": "stream",
       "stream": "stdout",
       "text": [
        " \uac8c\uc784\n",
        "Wordfeud"
       ]
      },
      {
       "output_type": "stream",
       "stream": "stdout",
       "text": [
        " \uac74\uac15\n",
        "Wordfeud \ud559\uc2b5\n",
        "Wordfeud"
       ]
      },
      {
       "output_type": "stream",
       "stream": "stdout",
       "text": [
        " \ucee4\ubba4\ub2c8\ud2f0\n",
        "Bouncy Bill Halloween"
       ]
      },
      {
       "output_type": "stream",
       "stream": "stdout",
       "text": [
        " \ubbf8\uc6a9\n",
        "Bouncy Bill Halloween"
       ]
      },
      {
       "output_type": "stream",
       "stream": "stdout",
       "text": [
        " \uc74c\uc545\n",
        "Bouncy Bill Halloween \ub9ac\ubdf0\n",
        "Bouncy Bill Halloween"
       ]
      },
      {
       "output_type": "stream",
       "stream": "stdout",
       "text": [
        " \uc5f0\uc608\n",
        "Bouncy Bill Halloween"
       ]
      },
      {
       "output_type": "stream",
       "stream": "stdout",
       "text": [
        " \uc74c\uc2dd\n",
        "Bouncy Bill Halloween \uc2a4\ud3ec\uce20\n",
        "Bouncy Bill Halloween"
       ]
      },
      {
       "output_type": "stream",
       "stream": "stdout",
       "text": [
        " \uac8c\uc784\n",
        "Bouncy Bill Halloween \uac74\uac15\n",
        "Bouncy Bill Halloween"
       ]
      },
      {
       "output_type": "stream",
       "stream": "stdout",
       "text": [
        " \ud559\uc2b5\n",
        "Bouncy Bill Halloween \ucee4\ubba4\ub2c8\ud2f0\n",
        "LIL' KINGDOM"
       ]
      },
      {
       "output_type": "stream",
       "stream": "stdout",
       "text": [
        " \ubbf8\uc6a9\n",
        "LIL' KINGDOM \uc74c\uc545\n",
        "LIL' KINGDOM"
       ]
      },
      {
       "output_type": "stream",
       "stream": "stdout",
       "text": [
        " \ub9ac\ubdf0\n",
        "LIL' KINGDOM \uc5f0\uc608\n",
        "LIL' KINGDOM"
       ]
      },
      {
       "output_type": "stream",
       "stream": "stdout",
       "text": [
        " \uc74c\uc2dd\n",
        "LIL' KINGDOM \uc2a4\ud3ec\uce20\n",
        "LIL' KINGDOM"
       ]
      },
      {
       "output_type": "stream",
       "stream": "stdout",
       "text": [
        " \uac8c\uc784\n",
        "LIL' KINGDOM"
       ]
      },
      {
       "output_type": "stream",
       "stream": "stdout",
       "text": [
        " \uac74\uac15\n",
        "LIL' KINGDOM"
       ]
      },
      {
       "output_type": "stream",
       "stream": "stdout",
       "text": [
        " \ud559\uc2b5\n",
        "LIL' KINGDOM"
       ]
      },
      {
       "output_type": "stream",
       "stream": "stdout",
       "text": [
        " \ucee4\ubba4\ub2c8\ud2f0\n",
        "\uc624\ud508\ub77c\uc774\ub354 \ubbf8\uc6a9\n",
        "\uc624\ud508\ub77c\uc774\ub354"
       ]
      },
      {
       "output_type": "stream",
       "stream": "stdout",
       "text": [
        " \uc74c\uc545\n",
        "\uc624\ud508\ub77c\uc774\ub354"
       ]
      },
      {
       "output_type": "stream",
       "stream": "stdout",
       "text": [
        " \ub9ac\ubdf0\n",
        "\uc624\ud508\ub77c\uc774\ub354 \uc5f0\uc608\n",
        "\uc624\ud508\ub77c\uc774\ub354"
       ]
      },
      {
       "output_type": "stream",
       "stream": "stdout",
       "text": [
        " \uc74c\uc2dd\n",
        "\uc624\ud508\ub77c\uc774\ub354"
       ]
      },
      {
       "output_type": "stream",
       "stream": "stdout",
       "text": [
        " \uc2a4\ud3ec\uce20\n",
        "\uc624\ud508\ub77c\uc774\ub354"
       ]
      },
      {
       "output_type": "stream",
       "stream": "stdout",
       "text": [
        " \uac8c\uc784\n",
        "\uc624\ud508\ub77c\uc774\ub354"
       ]
      },
      {
       "output_type": "stream",
       "stream": "stdout",
       "text": [
        " \uac74\uac15\n",
        "\uc624\ud508\ub77c\uc774\ub354"
       ]
      },
      {
       "output_type": "stream",
       "stream": "stdout",
       "text": [
        " \ud559\uc2b5\n",
        "\uc624\ud508\ub77c\uc774\ub354"
       ]
      },
      {
       "output_type": "stream",
       "stream": "stdout",
       "text": [
        " \ucee4\ubba4\ub2c8\ud2f0\n",
        "ENCHANT U"
       ]
      },
      {
       "output_type": "stream",
       "stream": "stdout",
       "text": [
        " \ubbf8\uc6a9\n",
        "ENCHANT U"
       ]
      },
      {
       "output_type": "stream",
       "stream": "stdout",
       "text": [
        " \uc74c\uc545\n",
        "ENCHANT U"
       ]
      },
      {
       "output_type": "stream",
       "stream": "stdout",
       "text": [
        " \ub9ac\ubdf0\n",
        "ENCHANT U"
       ]
      },
      {
       "output_type": "stream",
       "stream": "stdout",
       "text": [
        " \uc5f0\uc608\n",
        "ENCHANT U"
       ]
      },
      {
       "output_type": "stream",
       "stream": "stdout",
       "text": [
        " \uc74c\uc2dd\n",
        "ENCHANT U"
       ]
      },
      {
       "output_type": "stream",
       "stream": "stdout",
       "text": [
        " \uc2a4\ud3ec\uce20\n",
        "ENCHANT U"
       ]
      },
      {
       "output_type": "stream",
       "stream": "stdout",
       "text": [
        " \uac8c\uc784\n",
        "ENCHANT U"
       ]
      },
      {
       "output_type": "stream",
       "stream": "stdout",
       "text": [
        " \uac74\uac15\n",
        "ENCHANT U"
       ]
      },
      {
       "output_type": "stream",
       "stream": "stdout",
       "text": [
        " \ud559\uc2b5\n",
        "ENCHANT U"
       ]
      },
      {
       "output_type": "stream",
       "stream": "stdout",
       "text": [
        " \ucee4\ubba4\ub2c8\ud2f0\n",
        "\u5929\u5929\u7f8e\u56fe--\u6700\u4f73\u5716\u7247\u7f8e\u5316\u8655\u7406\u5de5\u5177"
       ]
      },
      {
       "output_type": "stream",
       "stream": "stdout",
       "text": [
        " \ubbf8\uc6a9\n",
        "\u5929\u5929\u7f8e\u56fe--\u6700\u4f73\u5716\u7247\u7f8e\u5316\u8655\u7406\u5de5\u5177"
       ]
      },
      {
       "output_type": "stream",
       "stream": "stdout",
       "text": [
        " \uc74c\uc545\n",
        "\u5929\u5929\u7f8e\u56fe--\u6700\u4f73\u5716\u7247\u7f8e\u5316\u8655\u7406\u5de5\u5177"
       ]
      },
      {
       "output_type": "stream",
       "stream": "stdout",
       "text": [
        " \ub9ac\ubdf0\n",
        "\u5929\u5929\u7f8e\u56fe--\u6700\u4f73\u5716\u7247\u7f8e\u5316\u8655\u7406\u5de5\u5177"
       ]
      },
      {
       "output_type": "stream",
       "stream": "stdout",
       "text": [
        " \uc5f0\uc608\n",
        "\u5929\u5929\u7f8e\u56fe--\u6700\u4f73\u5716\u7247\u7f8e\u5316\u8655\u7406\u5de5\u5177"
       ]
      },
      {
       "output_type": "stream",
       "stream": "stdout",
       "text": [
        " \uc74c\uc2dd\n",
        "\u5929\u5929\u7f8e\u56fe--\u6700\u4f73\u5716\u7247\u7f8e\u5316\u8655\u7406\u5de5\u5177"
       ]
      },
      {
       "output_type": "stream",
       "stream": "stdout",
       "text": [
        " \uc2a4\ud3ec\uce20\n",
        "\u5929\u5929\u7f8e\u56fe--\u6700\u4f73\u5716\u7247\u7f8e\u5316\u8655\u7406\u5de5\u5177 \uac8c\uc784\n",
        "\u5929\u5929\u7f8e\u56fe--\u6700\u4f73\u5716\u7247\u7f8e\u5316\u8655\u7406\u5de5\u5177"
       ]
      },
      {
       "output_type": "stream",
       "stream": "stdout",
       "text": [
        " \uac74\uac15\n",
        "\u5929\u5929\u7f8e\u56fe--\u6700\u4f73\u5716\u7247\u7f8e\u5316\u8655\u7406\u5de5\u5177"
       ]
      },
      {
       "output_type": "stream",
       "stream": "stdout",
       "text": [
        " \ud559\uc2b5\n",
        "\u5929\u5929\u7f8e\u56fe--\u6700\u4f73\u5716\u7247\u7f8e\u5316\u8655\u7406\u5de5\u5177"
       ]
      },
      {
       "output_type": "stream",
       "stream": "stdout",
       "text": [
        " \ucee4\ubba4\ub2c8\ud2f0\n",
        "Darkbase \uc880\ube44\ub294 \uc8fd\uc5ec!"
       ]
      },
      {
       "output_type": "stream",
       "stream": "stdout",
       "text": [
        " \ubbf8\uc6a9\n",
        "Darkbase \uc880\ube44\ub294 \uc8fd\uc5ec! \uc74c\uc545\n",
        "Darkbase \uc880\ube44\ub294 \uc8fd\uc5ec!"
       ]
      },
      {
       "output_type": "stream",
       "stream": "stdout",
       "text": [
        " \ub9ac\ubdf0\n",
        "Darkbase \uc880\ube44\ub294 \uc8fd\uc5ec! \uc5f0\uc608\n",
        "Darkbase \uc880\ube44\ub294 \uc8fd\uc5ec!"
       ]
      },
      {
       "output_type": "stream",
       "stream": "stdout",
       "text": [
        " \uc74c\uc2dd\n",
        "Darkbase \uc880\ube44\ub294 \uc8fd\uc5ec!"
       ]
      },
      {
       "output_type": "stream",
       "stream": "stdout",
       "text": [
        " \uc2a4\ud3ec\uce20\n",
        "Darkbase \uc880\ube44\ub294 \uc8fd\uc5ec! \uac8c\uc784\n",
        "Darkbase \uc880\ube44\ub294 \uc8fd\uc5ec!"
       ]
      },
      {
       "output_type": "stream",
       "stream": "stdout",
       "text": [
        " \uac74\uac15\n",
        "Darkbase \uc880\ube44\ub294 \uc8fd\uc5ec! \ud559\uc2b5\n",
        "Darkbase \uc880\ube44\ub294 \uc8fd\uc5ec!"
       ]
      },
      {
       "output_type": "stream",
       "stream": "stdout",
       "text": [
        " \ucee4\ubba4\ub2c8\ud2f0\n",
        "FinalMagicES \u7121\u6599[\u7269\u8a9e\u91cd\u8996\u30aa\u30f3\u30e9\u30a4\u30f3\u30d0\u30c8\u30eb]"
       ]
      },
      {
       "output_type": "stream",
       "stream": "stdout",
       "text": [
        " \ubbf8\uc6a9\n",
        "FinalMagicES \u7121\u6599[\u7269\u8a9e\u91cd\u8996\u30aa\u30f3\u30e9\u30a4\u30f3\u30d0\u30c8\u30eb]"
       ]
      },
      {
       "output_type": "stream",
       "stream": "stdout",
       "text": [
        " \uc74c\uc545\n",
        "FinalMagicES \u7121\u6599[\u7269\u8a9e\u91cd\u8996\u30aa\u30f3\u30e9\u30a4\u30f3\u30d0\u30c8\u30eb]"
       ]
      },
      {
       "output_type": "stream",
       "stream": "stdout",
       "text": [
        " \ub9ac\ubdf0\n",
        "FinalMagicES \u7121\u6599[\u7269\u8a9e\u91cd\u8996\u30aa\u30f3\u30e9\u30a4\u30f3\u30d0\u30c8\u30eb] \uc5f0\uc608\n",
        "FinalMagicES \u7121\u6599[\u7269\u8a9e\u91cd\u8996\u30aa\u30f3\u30e9\u30a4\u30f3\u30d0\u30c8\u30eb]"
       ]
      },
      {
       "output_type": "stream",
       "stream": "stdout",
       "text": [
        " \uc74c\uc2dd\n",
        "FinalMagicES \u7121\u6599[\u7269\u8a9e\u91cd\u8996\u30aa\u30f3\u30e9\u30a4\u30f3\u30d0\u30c8\u30eb]"
       ]
      },
      {
       "output_type": "stream",
       "stream": "stdout",
       "text": [
        " \uc2a4\ud3ec\uce20\n",
        "FinalMagicES \u7121\u6599[\u7269\u8a9e\u91cd\u8996\u30aa\u30f3\u30e9\u30a4\u30f3\u30d0\u30c8\u30eb] \uac8c\uc784\n",
        "FinalMagicES \u7121\u6599[\u7269\u8a9e\u91cd\u8996\u30aa\u30f3\u30e9\u30a4\u30f3\u30d0\u30c8\u30eb]"
       ]
      },
      {
       "output_type": "stream",
       "stream": "stdout",
       "text": [
        " \uac74\uac15\n",
        "FinalMagicES \u7121\u6599[\u7269\u8a9e\u91cd\u8996\u30aa\u30f3\u30e9\u30a4\u30f3\u30d0\u30c8\u30eb]"
       ]
      },
      {
       "output_type": "stream",
       "stream": "stdout",
       "text": [
        " \ud559\uc2b5\n",
        "FinalMagicES \u7121\u6599[\u7269\u8a9e\u91cd\u8996\u30aa\u30f3\u30e9\u30a4\u30f3\u30d0\u30c8\u30eb]"
       ]
      },
      {
       "output_type": "stream",
       "stream": "stdout",
       "text": [
        " \ucee4\ubba4\ub2c8\ud2f0\n",
        "\uc2a4\ub204\ud53c \uc2a4\ud2b8\ub9ac\ud2b8"
       ]
      },
      {
       "output_type": "stream",
       "stream": "stdout",
       "text": [
        " \ubbf8\uc6a9\n",
        "\uc2a4\ub204\ud53c \uc2a4\ud2b8\ub9ac\ud2b8"
       ]
      },
      {
       "output_type": "stream",
       "stream": "stdout",
       "text": [
        " \uc74c\uc545\n",
        "\uc2a4\ub204\ud53c \uc2a4\ud2b8\ub9ac\ud2b8 \ub9ac\ubdf0\n",
        "\uc2a4\ub204\ud53c \uc2a4\ud2b8\ub9ac\ud2b8"
       ]
      },
      {
       "output_type": "stream",
       "stream": "stdout",
       "text": [
        " \uc5f0\uc608\n",
        "\uc2a4\ub204\ud53c \uc2a4\ud2b8\ub9ac\ud2b8 \uc74c\uc2dd\n",
        "\uc2a4\ub204\ud53c \uc2a4\ud2b8\ub9ac\ud2b8"
       ]
      },
      {
       "output_type": "stream",
       "stream": "stdout",
       "text": [
        " \uc2a4\ud3ec\uce20\n",
        "\uc2a4\ub204\ud53c \uc2a4\ud2b8\ub9ac\ud2b8 \uac8c\uc784\n",
        "\uc2a4\ub204\ud53c \uc2a4\ud2b8\ub9ac\ud2b8"
       ]
      },
      {
       "output_type": "stream",
       "stream": "stdout",
       "text": [
        " \uac74\uac15\n",
        "\uc2a4\ub204\ud53c \uc2a4\ud2b8\ub9ac\ud2b8"
       ]
      },
      {
       "output_type": "stream",
       "stream": "stdout",
       "text": [
        " \ud559\uc2b5\n",
        "\uc2a4\ub204\ud53c \uc2a4\ud2b8\ub9ac\ud2b8"
       ]
      },
      {
       "output_type": "stream",
       "stream": "stdout",
       "text": [
        " \ucee4\ubba4\ub2c8\ud2f0\n",
        "\ube5b\uc758 \uc131 \u2014 City of Splendors"
       ]
      },
      {
       "output_type": "stream",
       "stream": "stdout",
       "text": [
        " \ubbf8\uc6a9\n",
        "\ube5b\uc758 \uc131 \u2014 City of Splendors"
       ]
      },
      {
       "output_type": "stream",
       "stream": "stdout",
       "text": [
        " \uc74c\uc545\n",
        "\ube5b\uc758 \uc131 \u2014 City of Splendors"
       ]
      },
      {
       "output_type": "stream",
       "stream": "stdout",
       "text": [
        " \ub9ac\ubdf0\n",
        "\ube5b\uc758 \uc131 \u2014 City of Splendors"
       ]
      },
      {
       "output_type": "stream",
       "stream": "stdout",
       "text": [
        " \uc5f0\uc608\n",
        "\ube5b\uc758 \uc131 \u2014 City of Splendors"
       ]
      },
      {
       "output_type": "stream",
       "stream": "stdout",
       "text": [
        " \uc74c\uc2dd\n",
        "\ube5b\uc758 \uc131 \u2014 City of Splendors \uc2a4\ud3ec\uce20\n",
        "\ube5b\uc758 \uc131 \u2014 City of Splendors"
       ]
      },
      {
       "output_type": "stream",
       "stream": "stdout",
       "text": [
        " \uac8c\uc784\n",
        "\ube5b\uc758 \uc131 \u2014 City of Splendors \uac74\uac15\n",
        "\ube5b\uc758 \uc131 \u2014 City of Splendors"
       ]
      },
      {
       "output_type": "stream",
       "stream": "stdout",
       "text": [
        " \ud559\uc2b5\n",
        "\ube5b\uc758 \uc131 \u2014 City of Splendors"
       ]
      },
      {
       "output_type": "stream",
       "stream": "stdout",
       "text": [
        " \ucee4\ubba4\ub2c8\ud2f0\n",
        "\ucfe0\ud0a4\ub7f0 \uc5c5\uadf8\ub808\uc774\ub4dc+\ub808\ubca8\uc5c5 \ubbf8\uc6a9\n",
        "\ucfe0\ud0a4\ub7f0 \uc5c5\uadf8\ub808\uc774\ub4dc+\ub808\ubca8\uc5c5"
       ]
      },
      {
       "output_type": "stream",
       "stream": "stdout",
       "text": [
        " \uc74c\uc545\n",
        "\ucfe0\ud0a4\ub7f0 \uc5c5\uadf8\ub808\uc774\ub4dc+\ub808\ubca8\uc5c5"
       ]
      },
      {
       "output_type": "stream",
       "stream": "stdout",
       "text": [
        " \ub9ac\ubdf0\n",
        "\ucfe0\ud0a4\ub7f0 \uc5c5\uadf8\ub808\uc774\ub4dc+\ub808\ubca8\uc5c5"
       ]
      },
      {
       "output_type": "stream",
       "stream": "stdout",
       "text": [
        " \uc5f0\uc608\n",
        "\ucfe0\ud0a4\ub7f0 \uc5c5\uadf8\ub808\uc774\ub4dc+\ub808\ubca8\uc5c5"
       ]
      },
      {
       "output_type": "stream",
       "stream": "stdout",
       "text": [
        " \uc74c\uc2dd\n",
        "\ucfe0\ud0a4\ub7f0 \uc5c5\uadf8\ub808\uc774\ub4dc+\ub808\ubca8\uc5c5"
       ]
      },
      {
       "output_type": "stream",
       "stream": "stdout",
       "text": [
        " \uc2a4\ud3ec\uce20\n",
        "\ucfe0\ud0a4\ub7f0 \uc5c5\uadf8\ub808\uc774\ub4dc+\ub808\ubca8\uc5c5 \uac8c\uc784\n",
        "\ucfe0\ud0a4\ub7f0 \uc5c5\uadf8\ub808\uc774\ub4dc+\ub808\ubca8\uc5c5"
       ]
      },
      {
       "output_type": "stream",
       "stream": "stdout",
       "text": [
        " \uac74\uac15\n",
        "\ucfe0\ud0a4\ub7f0 \uc5c5\uadf8\ub808\uc774\ub4dc+\ub808\ubca8\uc5c5"
       ]
      },
      {
       "output_type": "stream",
       "stream": "stdout",
       "text": [
        " \ud559\uc2b5\n",
        "\ucfe0\ud0a4\ub7f0 \uc5c5\uadf8\ub808\uc774\ub4dc+\ub808\ubca8\uc5c5"
       ]
      },
      {
       "output_type": "stream",
       "stream": "stdout",
       "text": [
        " \ucee4\ubba4\ub2c8\ud2f0\n",
        "100 Escapers"
       ]
      },
      {
       "output_type": "stream",
       "stream": "stdout",
       "text": [
        " \ubbf8\uc6a9\n",
        "100 Escapers \uc74c\uc545\n",
        "100 Escapers"
       ]
      },
      {
       "output_type": "stream",
       "stream": "stdout",
       "text": [
        " \ub9ac\ubdf0\n",
        "100 Escapers"
       ]
      },
      {
       "output_type": "stream",
       "stream": "stdout",
       "text": [
        " \uc5f0\uc608\n",
        "100 Escapers"
       ]
      },
      {
       "output_type": "stream",
       "stream": "stdout",
       "text": [
        " \uc74c\uc2dd\n",
        "100 Escapers"
       ]
      },
      {
       "output_type": "stream",
       "stream": "stdout",
       "text": [
        " \uc2a4\ud3ec\uce20\n",
        "100 Escapers"
       ]
      },
      {
       "output_type": "stream",
       "stream": "stdout",
       "text": [
        " \uac8c\uc784\n",
        "100 Escapers"
       ]
      },
      {
       "output_type": "stream",
       "stream": "stdout",
       "text": [
        " \uac74\uac15\n",
        "100 Escapers"
       ]
      },
      {
       "output_type": "stream",
       "stream": "stdout",
       "text": [
        " \ud559\uc2b5\n",
        "100 Escapers \ucee4\ubba4\ub2c8\ud2f0\n",
        "CHAOS RINGS"
       ]
      },
      {
       "output_type": "stream",
       "stream": "stdout",
       "text": [
        " \ubbf8\uc6a9\n",
        "CHAOS RINGS \uc74c\uc545\n",
        "CHAOS RINGS"
       ]
      },
      {
       "output_type": "stream",
       "stream": "stdout",
       "text": [
        " \ub9ac\ubdf0\n",
        "CHAOS RINGS"
       ]
      },
      {
       "output_type": "stream",
       "stream": "stdout",
       "text": [
        " \uc5f0\uc608\n",
        "CHAOS RINGS \uc74c\uc2dd\n",
        "CHAOS RINGS"
       ]
      },
      {
       "output_type": "stream",
       "stream": "stdout",
       "text": [
        " \uc2a4\ud3ec\uce20\n",
        "CHAOS RINGS \uac8c\uc784\n",
        "CHAOS RINGS"
       ]
      },
      {
       "output_type": "stream",
       "stream": "stdout",
       "text": [
        " \uac74\uac15\n",
        "CHAOS RINGS \ud559\uc2b5\n",
        "CHAOS RINGS"
       ]
      },
      {
       "output_type": "stream",
       "stream": "stdout",
       "text": [
        " \ucee4\ubba4\ub2c8\ud2f0\n",
        "\uc606\uc9d1 \uc18c\ub140 \ubbf8\uc6a9\n",
        "\uc606\uc9d1 \uc18c\ub140"
       ]
      },
      {
       "output_type": "stream",
       "stream": "stdout",
       "text": [
        " \uc74c\uc545\n",
        "\uc606\uc9d1 \uc18c\ub140"
       ]
      },
      {
       "output_type": "stream",
       "stream": "stdout",
       "text": [
        " \ub9ac\ubdf0\n",
        "\uc606\uc9d1 \uc18c\ub140"
       ]
      },
      {
       "output_type": "stream",
       "stream": "stdout",
       "text": [
        " \uc5f0\uc608\n",
        "\uc606\uc9d1 \uc18c\ub140"
       ]
      },
      {
       "output_type": "stream",
       "stream": "stdout",
       "text": [
        " \uc74c\uc2dd\n",
        "\uc606\uc9d1 \uc18c\ub140"
       ]
      },
      {
       "output_type": "stream",
       "stream": "stdout",
       "text": [
        " \uc2a4\ud3ec\uce20\n",
        "\uc606\uc9d1 \uc18c\ub140"
       ]
      },
      {
       "output_type": "stream",
       "stream": "stdout",
       "text": [
        " \uac8c\uc784\n",
        "\uc606\uc9d1 \uc18c\ub140"
       ]
      },
      {
       "output_type": "stream",
       "stream": "stdout",
       "text": [
        " \uac74\uac15\n",
        "\uc606\uc9d1 \uc18c\ub140 \ud559\uc2b5\n",
        "\uc606\uc9d1 \uc18c\ub140"
       ]
      },
      {
       "output_type": "stream",
       "stream": "stdout",
       "text": [
        " \ucee4\ubba4\ub2c8\ud2f0\n",
        "Lego Christmas examples \ubbf8\uc6a9\n",
        "Lego Christmas examples"
       ]
      },
      {
       "output_type": "stream",
       "stream": "stdout",
       "text": [
        " \uc74c\uc545\n",
        "Lego Christmas examples \ub9ac\ubdf0\n",
        "Lego Christmas examples"
       ]
      },
      {
       "output_type": "stream",
       "stream": "stdout",
       "text": [
        " \uc5f0\uc608\n",
        "Lego Christmas examples \uc74c\uc2dd\n",
        "Lego Christmas examples"
       ]
      },
      {
       "output_type": "stream",
       "stream": "stdout",
       "text": [
        " \uc2a4\ud3ec\uce20\n",
        "Lego Christmas examples"
       ]
      },
      {
       "output_type": "stream",
       "stream": "stdout",
       "text": [
        " \uac8c\uc784\n",
        "Lego Christmas examples"
       ]
      },
      {
       "output_type": "stream",
       "stream": "stdout",
       "text": [
        " \uac74\uac15\n",
        "Lego Christmas examples"
       ]
      },
      {
       "output_type": "stream",
       "stream": "stdout",
       "text": [
        " \ud559\uc2b5\n",
        "Lego Christmas examples"
       ]
      },
      {
       "output_type": "stream",
       "stream": "stdout",
       "text": [
        " \ucee4\ubba4\ub2c8\ud2f0\n",
        "Pirate Explorer: The Bay Town"
       ]
      },
      {
       "output_type": "stream",
       "stream": "stdout",
       "text": [
        " \ubbf8\uc6a9\n",
        "Pirate Explorer: The Bay Town"
       ]
      },
      {
       "output_type": "stream",
       "stream": "stdout",
       "text": [
        " \uc74c\uc545\n",
        "Pirate Explorer: The Bay Town"
       ]
      },
      {
       "output_type": "stream",
       "stream": "stdout",
       "text": [
        " \ub9ac\ubdf0\n",
        "Pirate Explorer: The Bay Town"
       ]
      },
      {
       "output_type": "stream",
       "stream": "stdout",
       "text": [
        " \uc5f0\uc608\n",
        "Pirate Explorer: The Bay Town"
       ]
      },
      {
       "output_type": "stream",
       "stream": "stdout",
       "text": [
        " \uc74c\uc2dd\n",
        "Pirate Explorer: The Bay Town"
       ]
      },
      {
       "output_type": "stream",
       "stream": "stdout",
       "text": [
        " \uc2a4\ud3ec\uce20\n",
        "Pirate Explorer: The Bay Town"
       ]
      },
      {
       "output_type": "stream",
       "stream": "stdout",
       "text": [
        " \uac8c\uc784\n",
        "Pirate Explorer: The Bay Town"
       ]
      },
      {
       "output_type": "stream",
       "stream": "stdout",
       "text": [
        " \uac74\uac15\n",
        "Pirate Explorer: The Bay Town"
       ]
      },
      {
       "output_type": "stream",
       "stream": "stdout",
       "text": [
        " \ud559\uc2b5\n",
        "Pirate Explorer: The Bay Town"
       ]
      },
      {
       "output_type": "stream",
       "stream": "stdout",
       "text": [
        " \ucee4\ubba4\ub2c8\ud2f0\n",
        "Thunder Gun Pit Crew Titans \ubbf8\uc6a9\n",
        "Thunder Gun Pit Crew Titans"
       ]
      },
      {
       "output_type": "stream",
       "stream": "stdout",
       "text": [
        " \uc74c\uc545\n",
        "Thunder Gun Pit Crew Titans"
       ]
      },
      {
       "output_type": "stream",
       "stream": "stdout",
       "text": [
        " \ub9ac\ubdf0\n",
        "Thunder Gun Pit Crew Titans"
       ]
      },
      {
       "output_type": "stream",
       "stream": "stdout",
       "text": [
        " \uc5f0\uc608\n",
        "Thunder Gun Pit Crew Titans \uc74c\uc2dd\n",
        "Thunder Gun Pit Crew Titans"
       ]
      },
      {
       "output_type": "stream",
       "stream": "stdout",
       "text": [
        " \uc2a4\ud3ec\uce20\n",
        "Thunder Gun Pit Crew Titans \uac8c\uc784\n",
        "Thunder Gun Pit Crew Titans"
       ]
      },
      {
       "output_type": "stream",
       "stream": "stdout",
       "text": [
        " \uac74\uac15\n",
        "Thunder Gun Pit Crew Titans"
       ]
      },
      {
       "output_type": "stream",
       "stream": "stdout",
       "text": [
        " \ud559\uc2b5\n",
        "Thunder Gun Pit Crew Titans"
       ]
      },
      {
       "output_type": "stream",
       "stream": "stdout",
       "text": [
        " \ucee4\ubba4\ub2c8\ud2f0\n",
        "TheEndApp"
       ]
      },
      {
       "output_type": "stream",
       "stream": "stdout",
       "text": [
        " \ubbf8\uc6a9\n",
        "TheEndApp"
       ]
      },
      {
       "output_type": "stream",
       "stream": "stdout",
       "text": [
        " \uc74c\uc545\n",
        "TheEndApp"
       ]
      },
      {
       "output_type": "stream",
       "stream": "stdout",
       "text": [
        " \ub9ac\ubdf0\n",
        "TheEndApp"
       ]
      },
      {
       "output_type": "stream",
       "stream": "stdout",
       "text": [
        " \uc5f0\uc608\n",
        "TheEndApp"
       ]
      },
      {
       "output_type": "stream",
       "stream": "stdout",
       "text": [
        " \uc74c\uc2dd\n",
        "TheEndApp"
       ]
      },
      {
       "output_type": "stream",
       "stream": "stdout",
       "text": [
        " \uc2a4\ud3ec\uce20\n",
        "TheEndApp"
       ]
      },
      {
       "output_type": "stream",
       "stream": "stdout",
       "text": [
        " \uac8c\uc784\n",
        "TheEndApp"
       ]
      },
      {
       "output_type": "stream",
       "stream": "stdout",
       "text": [
        " \uac74\uac15\n",
        "TheEndApp"
       ]
      },
      {
       "output_type": "stream",
       "stream": "stdout",
       "text": [
        " \ud559\uc2b5\n",
        "TheEndApp"
       ]
      },
      {
       "output_type": "stream",
       "stream": "stdout",
       "text": [
        " \ucee4\ubba4\ub2c8\ud2f0\n",
        "All\u82f1\u8bed\u8bcd\u5178, English \u21d4 Chinese"
       ]
      },
      {
       "output_type": "stream",
       "stream": "stdout",
       "text": [
        " \ubbf8\uc6a9\n",
        "All\u82f1\u8bed\u8bcd\u5178, English \u21d4 Chinese"
       ]
      },
      {
       "output_type": "stream",
       "stream": "stdout",
       "text": [
        " \uc74c\uc545\n",
        "All\u82f1\u8bed\u8bcd\u5178, English \u21d4 Chinese"
       ]
      },
      {
       "output_type": "stream",
       "stream": "stdout",
       "text": [
        " \ub9ac\ubdf0\n",
        "All\u82f1\u8bed\u8bcd\u5178, English \u21d4 Chinese \uc5f0\uc608\n",
        "All\u82f1\u8bed\u8bcd\u5178, English \u21d4 Chinese"
       ]
      },
      {
       "output_type": "stream",
       "stream": "stdout",
       "text": [
        " \uc74c\uc2dd\n",
        "All\u82f1\u8bed\u8bcd\u5178, English \u21d4 Chinese"
       ]
      },
      {
       "output_type": "stream",
       "stream": "stdout",
       "text": [
        " \uc2a4\ud3ec\uce20\n",
        "All\u82f1\u8bed\u8bcd\u5178, English \u21d4 Chinese \uac8c\uc784\n",
        "All\u82f1\u8bed\u8bcd\u5178, English \u21d4 Chinese"
       ]
      },
      {
       "output_type": "stream",
       "stream": "stdout",
       "text": [
        " \uac74\uac15\n",
        "All\u82f1\u8bed\u8bcd\u5178, English \u21d4 Chinese"
       ]
      },
      {
       "output_type": "stream",
       "stream": "stdout",
       "text": [
        " \ud559\uc2b5\n",
        "All\u82f1\u8bed\u8bcd\u5178, English \u21d4 Chinese"
       ]
      },
      {
       "output_type": "stream",
       "stream": "stdout",
       "text": [
        " \ucee4\ubba4\ub2c8\ud2f0\n",
        "Jellyflop!"
       ]
      },
      {
       "output_type": "stream",
       "stream": "stdout",
       "text": [
        " \ubbf8\uc6a9\n",
        "Jellyflop!"
       ]
      },
      {
       "output_type": "stream",
       "stream": "stdout",
       "text": [
        " \uc74c\uc545\n",
        "Jellyflop!"
       ]
      },
      {
       "output_type": "stream",
       "stream": "stdout",
       "text": [
        " \ub9ac\ubdf0\n",
        "Jellyflop!"
       ]
      },
      {
       "output_type": "stream",
       "stream": "stdout",
       "text": [
        " \uc5f0\uc608\n",
        "Jellyflop!"
       ]
      },
      {
       "output_type": "stream",
       "stream": "stdout",
       "text": [
        " \uc74c\uc2dd\n",
        "Jellyflop!"
       ]
      },
      {
       "output_type": "stream",
       "stream": "stdout",
       "text": [
        " \uc2a4\ud3ec\uce20\n",
        "Jellyflop!"
       ]
      },
      {
       "output_type": "stream",
       "stream": "stdout",
       "text": [
        " \uac8c\uc784\n",
        "Jellyflop!"
       ]
      },
      {
       "output_type": "stream",
       "stream": "stdout",
       "text": [
        " \uac74\uac15\n",
        "Jellyflop!"
       ]
      },
      {
       "output_type": "stream",
       "stream": "stdout",
       "text": [
        " \ud559\uc2b5\n",
        "Jellyflop!"
       ]
      },
      {
       "output_type": "stream",
       "stream": "stdout",
       "text": [
        " \ucee4\ubba4\ub2c8\ud2f0\n",
        "\ucee4\ub125\ud2b8\ub380 (Connect'Em)"
       ]
      },
      {
       "output_type": "stream",
       "stream": "stdout",
       "text": [
        " \ubbf8\uc6a9\n",
        "\ucee4\ub125\ud2b8\ub380 (Connect'Em)"
       ]
      },
      {
       "output_type": "stream",
       "stream": "stdout",
       "text": [
        " \uc74c\uc545\n",
        "\ucee4\ub125\ud2b8\ub380 (Connect'Em) \ub9ac\ubdf0\n",
        "\ucee4\ub125\ud2b8\ub380 (Connect'Em)"
       ]
      },
      {
       "output_type": "stream",
       "stream": "stdout",
       "text": [
        " \uc5f0\uc608\n",
        "\ucee4\ub125\ud2b8\ub380 (Connect'Em) \uc74c\uc2dd\n",
        "\ucee4\ub125\ud2b8\ub380 (Connect'Em)"
       ]
      },
      {
       "output_type": "stream",
       "stream": "stdout",
       "text": [
        " \uc2a4\ud3ec\uce20\n",
        "\ucee4\ub125\ud2b8\ub380 (Connect'Em)"
       ]
      },
      {
       "output_type": "stream",
       "stream": "stdout",
       "text": [
        " \uac8c\uc784\n",
        "\ucee4\ub125\ud2b8\ub380 (Connect'Em)"
       ]
      },
      {
       "output_type": "stream",
       "stream": "stdout",
       "text": [
        " \uac74\uac15\n",
        "\ucee4\ub125\ud2b8\ub380 (Connect'Em)"
       ]
      },
      {
       "output_type": "stream",
       "stream": "stdout",
       "text": [
        " \ud559\uc2b5\n",
        "\ucee4\ub125\ud2b8\ub380 (Connect'Em) \ucee4\ubba4\ub2c8\ud2f0\n",
        "Lara Croft: Guardian of Light"
       ]
      },
      {
       "output_type": "stream",
       "stream": "stdout",
       "text": [
        " \ubbf8\uc6a9\n",
        "Lara Croft: Guardian of Light"
       ]
      },
      {
       "output_type": "stream",
       "stream": "stdout",
       "text": [
        " \uc74c\uc545\n",
        "Lara Croft: Guardian of Light"
       ]
      },
      {
       "output_type": "stream",
       "stream": "stdout",
       "text": [
        " \ub9ac\ubdf0\n",
        "Lara Croft: Guardian of Light"
       ]
      },
      {
       "output_type": "stream",
       "stream": "stdout",
       "text": [
        " \uc5f0\uc608\n",
        "Lara Croft: Guardian of Light"
       ]
      },
      {
       "output_type": "stream",
       "stream": "stdout",
       "text": [
        " \uc74c\uc2dd\n",
        "Lara Croft: Guardian of Light \uc2a4\ud3ec\uce20\n",
        "Lara Croft: Guardian of Light"
       ]
      },
      {
       "output_type": "stream",
       "stream": "stdout",
       "text": [
        " \uac8c\uc784\n",
        "Lara Croft: Guardian of Light \uac74\uac15\n",
        "Lara Croft: Guardian of Light"
       ]
      },
      {
       "output_type": "stream",
       "stream": "stdout",
       "text": [
        " \ud559\uc2b5\n",
        "Lara Croft: Guardian of Light"
       ]
      },
      {
       "output_type": "stream",
       "stream": "stdout",
       "text": [
        " \ucee4\ubba4\ub2c8\ud2f0\n",
        "ParkingBreak_Lite \ubbf8\uc6a9\n",
        "ParkingBreak_Lite"
       ]
      },
      {
       "output_type": "stream",
       "stream": "stdout",
       "text": [
        " \uc74c\uc545\n",
        "ParkingBreak_Lite"
       ]
      },
      {
       "output_type": "stream",
       "stream": "stdout",
       "text": [
        " \ub9ac\ubdf0\n",
        "ParkingBreak_Lite"
       ]
      },
      {
       "output_type": "stream",
       "stream": "stdout",
       "text": [
        " \uc5f0\uc608\n",
        "ParkingBreak_Lite"
       ]
      },
      {
       "output_type": "stream",
       "stream": "stdout",
       "text": [
        " \uc74c\uc2dd\n",
        "ParkingBreak_Lite"
       ]
      },
      {
       "output_type": "stream",
       "stream": "stdout",
       "text": [
        " \uc2a4\ud3ec\uce20\n",
        "ParkingBreak_Lite"
       ]
      },
      {
       "output_type": "stream",
       "stream": "stdout",
       "text": [
        " \uac8c\uc784\n",
        "ParkingBreak_Lite"
       ]
      },
      {
       "output_type": "stream",
       "stream": "stdout",
       "text": [
        " \uac74\uac15\n",
        "ParkingBreak_Lite"
       ]
      },
      {
       "output_type": "stream",
       "stream": "stdout",
       "text": [
        " \ud559\uc2b5\n",
        "ParkingBreak_Lite"
       ]
      },
      {
       "output_type": "stream",
       "stream": "stdout",
       "text": [
        " \ucee4\ubba4\ub2c8\ud2f0\n",
        "LOL \uac00\uc774\ub4dc (\uc804\uc124\uc758 \ub9ac\uadf8)"
       ]
      },
      {
       "output_type": "stream",
       "stream": "stdout",
       "text": [
        " \ubbf8\uc6a9\n",
        "LOL \uac00\uc774\ub4dc (\uc804\uc124\uc758 \ub9ac\uadf8)"
       ]
      },
      {
       "output_type": "stream",
       "stream": "stdout",
       "text": [
        " \uc74c\uc545\n",
        "LOL \uac00\uc774\ub4dc (\uc804\uc124\uc758 \ub9ac\uadf8) \ub9ac\ubdf0\n",
        "LOL \uac00\uc774\ub4dc (\uc804\uc124\uc758 \ub9ac\uadf8)"
       ]
      },
      {
       "output_type": "stream",
       "stream": "stdout",
       "text": [
        " \uc5f0\uc608\n",
        "LOL \uac00\uc774\ub4dc (\uc804\uc124\uc758 \ub9ac\uadf8) \uc74c\uc2dd\n",
        "LOL \uac00\uc774\ub4dc (\uc804\uc124\uc758 \ub9ac\uadf8)"
       ]
      },
      {
       "output_type": "stream",
       "stream": "stdout",
       "text": [
        " \uc2a4\ud3ec\uce20\n",
        "LOL \uac00\uc774\ub4dc (\uc804\uc124\uc758 \ub9ac\uadf8) \uac8c\uc784\n",
        "LOL \uac00\uc774\ub4dc (\uc804\uc124\uc758 \ub9ac\uadf8)"
       ]
      },
      {
       "output_type": "stream",
       "stream": "stdout",
       "text": [
        " \uac74\uac15\n",
        "LOL \uac00\uc774\ub4dc (\uc804\uc124\uc758 \ub9ac\uadf8) \ud559\uc2b5\n",
        "LOL \uac00\uc774\ub4dc (\uc804\uc124\uc758 \ub9ac\uadf8)"
       ]
      },
      {
       "output_type": "stream",
       "stream": "stdout",
       "text": [
        " \ucee4\ubba4\ub2c8\ud2f0\n",
        "\uc18c\ud658\uc804\uc7c1 \ubbf8\uc6a9\n",
        "\uc18c\ud658\uc804\uc7c1"
       ]
      },
      {
       "output_type": "stream",
       "stream": "stdout",
       "text": [
        " \uc74c\uc545\n",
        "\uc18c\ud658\uc804\uc7c1"
       ]
      },
      {
       "output_type": "stream",
       "stream": "stdout",
       "text": [
        " \ub9ac\ubdf0\n",
        "\uc18c\ud658\uc804\uc7c1"
       ]
      },
      {
       "output_type": "stream",
       "stream": "stdout",
       "text": [
        " \uc5f0\uc608\n",
        "\uc18c\ud658\uc804\uc7c1"
       ]
      },
      {
       "output_type": "stream",
       "stream": "stdout",
       "text": [
        " \uc74c\uc2dd\n",
        "\uc18c\ud658\uc804\uc7c1"
       ]
      },
      {
       "output_type": "stream",
       "stream": "stdout",
       "text": [
        " \uc2a4\ud3ec\uce20\n",
        "\uc18c\ud658\uc804\uc7c1"
       ]
      },
      {
       "output_type": "stream",
       "stream": "stdout",
       "text": [
        " \uac8c\uc784\n",
        "\uc18c\ud658\uc804\uc7c1"
       ]
      },
      {
       "output_type": "stream",
       "stream": "stdout",
       "text": [
        " \uac74\uac15\n",
        "\uc18c\ud658\uc804\uc7c1"
       ]
      },
      {
       "output_type": "stream",
       "stream": "stdout",
       "text": [
        " \ud559\uc2b5\n",
        "\uc18c\ud658\uc804\uc7c1"
       ]
      },
      {
       "output_type": "stream",
       "stream": "stdout",
       "text": [
        " \ucee4\ubba4\ub2c8\ud2f0\n",
        "zettai ryouiki new FREE"
       ]
      },
      {
       "output_type": "stream",
       "stream": "stdout",
       "text": [
        " \ubbf8\uc6a9\n",
        "zettai ryouiki new FREE"
       ]
      },
      {
       "output_type": "stream",
       "stream": "stdout",
       "text": [
        " \uc74c\uc545\n",
        "zettai ryouiki new FREE"
       ]
      },
      {
       "output_type": "stream",
       "stream": "stdout",
       "text": [
        " \ub9ac\ubdf0\n",
        "zettai ryouiki new FREE"
       ]
      },
      {
       "output_type": "stream",
       "stream": "stdout",
       "text": [
        " \uc5f0\uc608\n",
        "zettai ryouiki new FREE \uc74c\uc2dd\n",
        "zettai ryouiki new FREE"
       ]
      },
      {
       "output_type": "stream",
       "stream": "stdout",
       "text": [
        " \uc2a4\ud3ec\uce20\n",
        "zettai ryouiki new FREE \uac8c\uc784\n",
        "zettai ryouiki new FREE"
       ]
      },
      {
       "output_type": "stream",
       "stream": "stdout",
       "text": [
        " \uac74\uac15\n",
        "zettai ryouiki new FREE"
       ]
      },
      {
       "output_type": "stream",
       "stream": "stdout",
       "text": [
        " \ud559\uc2b5\n",
        "zettai ryouiki new FREE"
       ]
      },
      {
       "output_type": "stream",
       "stream": "stdout",
       "text": [
        " \ucee4\ubba4\ub2c8\ud2f0\n",
        "EDGE Demo \ubbf8\uc6a9\n",
        "EDGE Demo"
       ]
      },
      {
       "output_type": "stream",
       "stream": "stdout",
       "text": [
        " \uc74c\uc545\n",
        "EDGE Demo"
       ]
      },
      {
       "output_type": "stream",
       "stream": "stdout",
       "text": [
        " \ub9ac\ubdf0\n",
        "EDGE Demo"
       ]
      },
      {
       "output_type": "stream",
       "stream": "stdout",
       "text": [
        " \uc5f0\uc608\n",
        "EDGE Demo"
       ]
      },
      {
       "output_type": "stream",
       "stream": "stdout",
       "text": [
        " \uc74c\uc2dd\n",
        "EDGE Demo \uc2a4\ud3ec\uce20\n",
        "EDGE Demo"
       ]
      },
      {
       "output_type": "stream",
       "stream": "stdout",
       "text": [
        " \uac8c\uc784\n",
        "EDGE Demo"
       ]
      },
      {
       "output_type": "stream",
       "stream": "stdout",
       "text": [
        " \uac74\uac15\n",
        "EDGE Demo"
       ]
      },
      {
       "output_type": "stream",
       "stream": "stdout",
       "text": [
        " \ud559\uc2b5\n",
        "EDGE Demo \ucee4\ubba4\ub2c8\ud2f0\n",
        "\ub808\uc2a4\ud1a0\ub791\uc2a4\ud0c0"
       ]
      },
      {
       "output_type": "stream",
       "stream": "stdout",
       "text": [
        " \ubbf8\uc6a9\n",
        "\ub808\uc2a4\ud1a0\ub791\uc2a4\ud0c0"
       ]
      },
      {
       "output_type": "stream",
       "stream": "stdout",
       "text": [
        " \uc74c\uc545\n",
        "\ub808\uc2a4\ud1a0\ub791\uc2a4\ud0c0"
       ]
      },
      {
       "output_type": "stream",
       "stream": "stdout",
       "text": [
        " \ub9ac\ubdf0\n",
        "\ub808\uc2a4\ud1a0\ub791\uc2a4\ud0c0"
       ]
      },
      {
       "output_type": "stream",
       "stream": "stdout",
       "text": [
        " \uc5f0\uc608\n",
        "\ub808\uc2a4\ud1a0\ub791\uc2a4\ud0c0"
       ]
      },
      {
       "output_type": "stream",
       "stream": "stdout",
       "text": [
        " \uc74c\uc2dd\n",
        "\ub808\uc2a4\ud1a0\ub791\uc2a4\ud0c0"
       ]
      },
      {
       "output_type": "stream",
       "stream": "stdout",
       "text": [
        " \uc2a4\ud3ec\uce20\n",
        "\ub808\uc2a4\ud1a0\ub791\uc2a4\ud0c0"
       ]
      },
      {
       "output_type": "stream",
       "stream": "stdout",
       "text": [
        " \uac8c\uc784\n",
        "\ub808\uc2a4\ud1a0\ub791\uc2a4\ud0c0"
       ]
      },
      {
       "output_type": "stream",
       "stream": "stdout",
       "text": [
        " \uac74\uac15\n",
        "\ub808\uc2a4\ud1a0\ub791\uc2a4\ud0c0"
       ]
      },
      {
       "output_type": "stream",
       "stream": "stdout",
       "text": [
        " \ud559\uc2b5\n",
        "\ub808\uc2a4\ud1a0\ub791\uc2a4\ud0c0"
       ]
      },
      {
       "output_type": "stream",
       "stream": "stdout",
       "text": [
        " \ucee4\ubba4\ub2c8\ud2f0\n",
        "Animal Collections"
       ]
      },
      {
       "output_type": "stream",
       "stream": "stdout",
       "text": [
        " \ubbf8\uc6a9\n",
        "Animal Collections"
       ]
      },
      {
       "output_type": "stream",
       "stream": "stdout",
       "text": [
        " \uc74c\uc545\n",
        "Animal Collections"
       ]
      },
      {
       "output_type": "stream",
       "stream": "stdout",
       "text": [
        " \ub9ac\ubdf0\n",
        "Animal Collections"
       ]
      },
      {
       "output_type": "stream",
       "stream": "stdout",
       "text": [
        " \uc5f0\uc608\n",
        "Animal Collections"
       ]
      },
      {
       "output_type": "stream",
       "stream": "stdout",
       "text": [
        " \uc74c\uc2dd\n",
        "Animal Collections"
       ]
      },
      {
       "output_type": "stream",
       "stream": "stdout",
       "text": [
        " \uc2a4\ud3ec\uce20\n",
        "Animal Collections"
       ]
      },
      {
       "output_type": "stream",
       "stream": "stdout",
       "text": [
        " \uac8c\uc784\n",
        "Animal Collections"
       ]
      },
      {
       "output_type": "stream",
       "stream": "stdout",
       "text": [
        " \uac74\uac15\n",
        "Animal Collections"
       ]
      },
      {
       "output_type": "stream",
       "stream": "stdout",
       "text": [
        " \ud559\uc2b5\n",
        "Animal Collections"
       ]
      },
      {
       "output_type": "stream",
       "stream": "stdout",
       "text": [
        " \ucee4\ubba4\ub2c8\ud2f0\n",
        "\u795e\u9f8d\u90e8\u843d - Dragon Village \ubbf8\uc6a9\n",
        "\u795e\u9f8d\u90e8\u843d - Dragon Village"
       ]
      },
      {
       "output_type": "stream",
       "stream": "stdout",
       "text": [
        " \uc74c\uc545\n",
        "\u795e\u9f8d\u90e8\u843d - Dragon Village"
       ]
      },
      {
       "output_type": "stream",
       "stream": "stdout",
       "text": [
        " \ub9ac\ubdf0\n",
        "\u795e\u9f8d\u90e8\u843d - Dragon Village"
       ]
      },
      {
       "output_type": "stream",
       "stream": "stdout",
       "text": [
        " \uc5f0\uc608\n",
        "\u795e\u9f8d\u90e8\u843d - Dragon Village"
       ]
      },
      {
       "output_type": "stream",
       "stream": "stdout",
       "text": [
        " \uc74c\uc2dd\n",
        "\u795e\u9f8d\u90e8\u843d - Dragon Village"
       ]
      },
      {
       "output_type": "stream",
       "stream": "stdout",
       "text": [
        " \uc2a4\ud3ec\uce20\n",
        "\u795e\u9f8d\u90e8\u843d - Dragon Village \uac8c\uc784\n",
        "\u795e\u9f8d\u90e8\u843d - Dragon Village"
       ]
      },
      {
       "output_type": "stream",
       "stream": "stdout",
       "text": [
        " \uac74\uac15\n",
        "\u795e\u9f8d\u90e8\u843d - Dragon Village"
       ]
      },
      {
       "output_type": "stream",
       "stream": "stdout",
       "text": [
        " \ud559\uc2b5\n",
        "\u795e\u9f8d\u90e8\u843d - Dragon Village \ucee4\ubba4\ub2c8\ud2f0\n",
        "Nations At War"
       ]
      },
      {
       "output_type": "stream",
       "stream": "stdout",
       "text": [
        " \ubbf8\uc6a9\n",
        "Nations At War \uc74c\uc545\n",
        "Nations At War"
       ]
      },
      {
       "output_type": "stream",
       "stream": "stdout",
       "text": [
        " \ub9ac\ubdf0\n",
        "Nations At War"
       ]
      },
      {
       "output_type": "stream",
       "stream": "stdout",
       "text": [
        " \uc5f0\uc608\n",
        "Nations At War"
       ]
      },
      {
       "output_type": "stream",
       "stream": "stdout",
       "text": [
        " \uc74c\uc2dd\n",
        "Nations At War"
       ]
      },
      {
       "output_type": "stream",
       "stream": "stdout",
       "text": [
        " \uc2a4\ud3ec\uce20\n",
        "Nations At War"
       ]
      },
      {
       "output_type": "stream",
       "stream": "stdout",
       "text": [
        " \uac8c\uc784\n",
        "Nations At War"
       ]
      },
      {
       "output_type": "stream",
       "stream": "stdout",
       "text": [
        " \uac74\uac15\n",
        "Nations At War"
       ]
      },
      {
       "output_type": "stream",
       "stream": "stdout",
       "text": [
        " \ud559\uc2b5\n",
        "Nations At War \ucee4\ubba4\ub2c8\ud2f0\n",
        "\ub291\ub300 \ub358\uc9c0\uae30"
       ]
      },
      {
       "output_type": "stream",
       "stream": "stdout",
       "text": [
        " \ubbf8\uc6a9\n",
        "\ub291\ub300 \ub358\uc9c0\uae30"
       ]
      },
      {
       "output_type": "stream",
       "stream": "stdout",
       "text": [
        " \uc74c\uc545\n",
        "\ub291\ub300 \ub358\uc9c0\uae30"
       ]
      },
      {
       "output_type": "stream",
       "stream": "stdout",
       "text": [
        " \ub9ac\ubdf0\n",
        "\ub291\ub300 \ub358\uc9c0\uae30 \uc5f0\uc608\n",
        "\ub291\ub300 \ub358\uc9c0\uae30"
       ]
      },
      {
       "output_type": "stream",
       "stream": "stdout",
       "text": [
        " \uc74c\uc2dd\n",
        "\ub291\ub300 \ub358\uc9c0\uae30 \uc2a4\ud3ec\uce20\n",
        "\ub291\ub300 \ub358\uc9c0\uae30"
       ]
      },
      {
       "output_type": "stream",
       "stream": "stdout",
       "text": [
        " \uac8c\uc784\n",
        "\ub291\ub300 \ub358\uc9c0\uae30 \uac74\uac15\n",
        "\ub291\ub300 \ub358\uc9c0\uae30"
       ]
      },
      {
       "output_type": "stream",
       "stream": "stdout",
       "text": [
        " \ud559\uc2b5\n",
        "\ub291\ub300 \ub358\uc9c0\uae30 \ucee4\ubba4\ub2c8\ud2f0\n",
        "Renault Trucks Racing"
       ]
      },
      {
       "output_type": "stream",
       "stream": "stdout",
       "text": [
        " \ubbf8\uc6a9\n",
        "Renault Trucks Racing"
       ]
      },
      {
       "output_type": "stream",
       "stream": "stdout",
       "text": [
        " \uc74c\uc545\n",
        "Renault Trucks Racing"
       ]
      },
      {
       "output_type": "stream",
       "stream": "stdout",
       "text": [
        " \ub9ac\ubdf0\n",
        "Renault Trucks Racing"
       ]
      },
      {
       "output_type": "stream",
       "stream": "stdout",
       "text": [
        " \uc5f0\uc608\n",
        "Renault Trucks Racing"
       ]
      },
      {
       "output_type": "stream",
       "stream": "stdout",
       "text": [
        " \uc74c\uc2dd\n",
        "Renault Trucks Racing"
       ]
      },
      {
       "output_type": "stream",
       "stream": "stdout",
       "text": [
        " \uc2a4\ud3ec\uce20\n",
        "Renault Trucks Racing"
       ]
      },
      {
       "output_type": "stream",
       "stream": "stdout",
       "text": [
        " \uac8c\uc784\n",
        "Renault Trucks Racing \uac74\uac15\n",
        "Renault Trucks Racing"
       ]
      },
      {
       "output_type": "stream",
       "stream": "stdout",
       "text": [
        " \ud559\uc2b5\n",
        "Renault Trucks Racing \ucee4\ubba4\ub2c8\ud2f0\n",
        "\uc544\uccd0\ucea3"
       ]
      },
      {
       "output_type": "stream",
       "stream": "stdout",
       "text": [
        " \ubbf8\uc6a9\n",
        "\uc544\uccd0\ucea3"
       ]
      },
      {
       "output_type": "stream",
       "stream": "stdout",
       "text": [
        " \uc74c\uc545\n",
        "\uc544\uccd0\ucea3"
       ]
      },
      {
       "output_type": "stream",
       "stream": "stdout",
       "text": [
        " \ub9ac\ubdf0\n",
        "\uc544\uccd0\ucea3"
       ]
      },
      {
       "output_type": "stream",
       "stream": "stdout",
       "text": [
        " \uc5f0\uc608\n",
        "\uc544\uccd0\ucea3"
       ]
      },
      {
       "output_type": "stream",
       "stream": "stdout",
       "text": [
        " \uc74c\uc2dd\n",
        "\uc544\uccd0\ucea3"
       ]
      },
      {
       "output_type": "stream",
       "stream": "stdout",
       "text": [
        " \uc2a4\ud3ec\uce20\n",
        "\uc544\uccd0\ucea3"
       ]
      },
      {
       "output_type": "stream",
       "stream": "stdout",
       "text": [
        " \uac8c\uc784\n",
        "\uc544\uccd0\ucea3 \uac74\uac15\n",
        "\uc544\uccd0\ucea3"
       ]
      },
      {
       "output_type": "stream",
       "stream": "stdout",
       "text": [
        " \ud559\uc2b5\n",
        "\uc544\uccd0\ucea3"
       ]
      },
      {
       "output_type": "stream",
       "stream": "stdout",
       "text": [
        " \ucee4\ubba4\ub2c8\ud2f0\n",
        "Tank War: Extreme"
       ]
      },
      {
       "output_type": "stream",
       "stream": "stdout",
       "text": [
        " \ubbf8\uc6a9\n",
        "Tank War: Extreme \uc74c\uc545\n",
        "Tank War: Extreme"
       ]
      },
      {
       "output_type": "stream",
       "stream": "stdout",
       "text": [
        " \ub9ac\ubdf0\n",
        "Tank War: Extreme \uc5f0\uc608\n",
        "Tank War: Extreme"
       ]
      },
      {
       "output_type": "stream",
       "stream": "stdout",
       "text": [
        " \uc74c\uc2dd\n",
        "Tank War: Extreme \uc2a4\ud3ec\uce20\n",
        "Tank War: Extreme"
       ]
      },
      {
       "output_type": "stream",
       "stream": "stdout",
       "text": [
        " \uac8c\uc784\n",
        "Tank War: Extreme"
       ]
      },
      {
       "output_type": "stream",
       "stream": "stdout",
       "text": [
        " \uac74\uac15\n",
        "Tank War: Extreme \ud559\uc2b5\n",
        "Tank War: Extreme"
       ]
      },
      {
       "output_type": "stream",
       "stream": "stdout",
       "text": [
        " \ucee4\ubba4\ub2c8\ud2f0\n",
        "\ubb34\ub8cc \ud0c8\ucd9c \uac8c\uc784 - \uac1c\uad6c\ub9ac \uc655\uc790"
       ]
      },
      {
       "output_type": "stream",
       "stream": "stdout",
       "text": [
        " \ubbf8\uc6a9\n",
        "\ubb34\ub8cc \ud0c8\ucd9c \uac8c\uc784 - \uac1c\uad6c\ub9ac \uc655\uc790"
       ]
      },
      {
       "output_type": "stream",
       "stream": "stdout",
       "text": [
        " \uc74c\uc545\n",
        "\ubb34\ub8cc \ud0c8\ucd9c \uac8c\uc784 - \uac1c\uad6c\ub9ac \uc655\uc790"
       ]
      },
      {
       "output_type": "stream",
       "stream": "stdout",
       "text": [
        " \ub9ac\ubdf0\n",
        "\ubb34\ub8cc \ud0c8\ucd9c \uac8c\uc784 - \uac1c\uad6c\ub9ac \uc655\uc790"
       ]
      },
      {
       "output_type": "stream",
       "stream": "stdout",
       "text": [
        " \uc5f0\uc608\n",
        "\ubb34\ub8cc \ud0c8\ucd9c \uac8c\uc784 - \uac1c\uad6c\ub9ac \uc655\uc790"
       ]
      },
      {
       "output_type": "stream",
       "stream": "stdout",
       "text": [
        " \uc74c\uc2dd\n",
        "\ubb34\ub8cc \ud0c8\ucd9c \uac8c\uc784 - \uac1c\uad6c\ub9ac \uc655\uc790"
       ]
      },
      {
       "output_type": "stream",
       "stream": "stdout",
       "text": [
        " \uc2a4\ud3ec\uce20\n",
        "\ubb34\ub8cc \ud0c8\ucd9c \uac8c\uc784 - \uac1c\uad6c\ub9ac \uc655\uc790"
       ]
      },
      {
       "output_type": "stream",
       "stream": "stdout",
       "text": [
        " \uac8c\uc784\n",
        "\ubb34\ub8cc \ud0c8\ucd9c \uac8c\uc784 - \uac1c\uad6c\ub9ac \uc655\uc790 \uac74\uac15\n",
        "\ubb34\ub8cc \ud0c8\ucd9c \uac8c\uc784 - \uac1c\uad6c\ub9ac \uc655\uc790"
       ]
      },
      {
       "output_type": "stream",
       "stream": "stdout",
       "text": [
        " \ud559\uc2b5\n",
        "\ubb34\ub8cc \ud0c8\ucd9c \uac8c\uc784 - \uac1c\uad6c\ub9ac \uc655\uc790"
       ]
      },
      {
       "output_type": "stream",
       "stream": "stdout",
       "text": [
        " \ucee4\ubba4\ub2c8\ud2f0\n",
        "ATC4Real San Diego"
       ]
      },
      {
       "output_type": "stream",
       "stream": "stdout",
       "text": [
        " \ubbf8\uc6a9\n",
        "ATC4Real San Diego"
       ]
      },
      {
       "output_type": "stream",
       "stream": "stdout",
       "text": [
        " \uc74c\uc545\n",
        "ATC4Real San Diego"
       ]
      },
      {
       "output_type": "stream",
       "stream": "stdout",
       "text": [
        " \ub9ac\ubdf0\n",
        "ATC4Real San Diego"
       ]
      },
      {
       "output_type": "stream",
       "stream": "stdout",
       "text": [
        " \uc5f0\uc608\n",
        "ATC4Real San Diego"
       ]
      },
      {
       "output_type": "stream",
       "stream": "stdout",
       "text": [
        " \uc74c\uc2dd\n",
        "ATC4Real San Diego"
       ]
      },
      {
       "output_type": "stream",
       "stream": "stdout",
       "text": [
        " \uc2a4\ud3ec\uce20\n",
        "ATC4Real San Diego"
       ]
      },
      {
       "output_type": "stream",
       "stream": "stdout",
       "text": [
        " \uac8c\uc784\n",
        "ATC4Real San Diego"
       ]
      },
      {
       "output_type": "stream",
       "stream": "stdout",
       "text": [
        " \uac74\uac15\n",
        "ATC4Real San Diego"
       ]
      },
      {
       "output_type": "stream",
       "stream": "stdout",
       "text": [
        " \ud559\uc2b5\n",
        "ATC4Real San Diego \ucee4\ubba4\ub2c8\ud2f0\n",
        "Dragon Board"
       ]
      },
      {
       "output_type": "stream",
       "stream": "stdout",
       "text": [
        " \ubbf8\uc6a9\n",
        "Dragon Board \uc74c\uc545\n",
        "Dragon Board"
       ]
      },
      {
       "output_type": "stream",
       "stream": "stdout",
       "text": [
        " \ub9ac\ubdf0\n",
        "Dragon Board"
       ]
      },
      {
       "output_type": "stream",
       "stream": "stdout",
       "text": [
        " \uc5f0\uc608\n",
        "Dragon Board"
       ]
      },
      {
       "output_type": "stream",
       "stream": "stdout",
       "text": [
        " \uc74c\uc2dd\n",
        "Dragon Board"
       ]
      },
      {
       "output_type": "stream",
       "stream": "stdout",
       "text": [
        " \uc2a4\ud3ec\uce20\n",
        "Dragon Board"
       ]
      },
      {
       "output_type": "stream",
       "stream": "stdout",
       "text": [
        " \uac8c\uc784\n",
        "Dragon Board"
       ]
      },
      {
       "output_type": "stream",
       "stream": "stdout",
       "text": [
        " \uac74\uac15\n",
        "Dragon Board \ud559\uc2b5\n",
        "Dragon Board"
       ]
      },
      {
       "output_type": "stream",
       "stream": "stdout",
       "text": [
        " \ucee4\ubba4\ub2c8\ud2f0\n",
        "Beastie Bay"
       ]
      },
      {
       "output_type": "stream",
       "stream": "stdout",
       "text": [
        " \ubbf8\uc6a9\n",
        "Beastie Bay"
       ]
      },
      {
       "output_type": "stream",
       "stream": "stdout",
       "text": [
        " \uc74c\uc545\n",
        "Beastie Bay"
       ]
      },
      {
       "output_type": "stream",
       "stream": "stdout",
       "text": [
        " \ub9ac\ubdf0\n",
        "Beastie Bay \uc5f0\uc608\n",
        "Beastie Bay"
       ]
      },
      {
       "output_type": "stream",
       "stream": "stdout",
       "text": [
        " \uc74c\uc2dd\n",
        "Beastie Bay \uc2a4\ud3ec\uce20\n",
        "Beastie Bay"
       ]
      },
      {
       "output_type": "stream",
       "stream": "stdout",
       "text": [
        " \uac8c\uc784\n",
        "Beastie Bay \uac74\uac15\n",
        "Beastie Bay"
       ]
      },
      {
       "output_type": "stream",
       "stream": "stdout",
       "text": [
        " \ud559\uc2b5\n",
        "Beastie Bay \ucee4\ubba4\ub2c8\ud2f0\n",
        "Alg\u00e9rie M\u00e9t\u00e9o"
       ]
      },
      {
       "output_type": "stream",
       "stream": "stdout",
       "text": [
        " \ubbf8\uc6a9\n",
        "Alg\u00e9rie M\u00e9t\u00e9o \uc74c\uc545\n",
        "Alg\u00e9rie M\u00e9t\u00e9o"
       ]
      },
      {
       "output_type": "stream",
       "stream": "stdout",
       "text": [
        " \ub9ac\ubdf0\n",
        "Alg\u00e9rie M\u00e9t\u00e9o"
       ]
      },
      {
       "output_type": "stream",
       "stream": "stdout",
       "text": [
        " \uc5f0\uc608\n",
        "Alg\u00e9rie M\u00e9t\u00e9o"
       ]
      },
      {
       "output_type": "stream",
       "stream": "stdout",
       "text": [
        " \uc74c\uc2dd\n",
        "Alg\u00e9rie M\u00e9t\u00e9o \uc2a4\ud3ec\uce20\n",
        "Alg\u00e9rie M\u00e9t\u00e9o"
       ]
      },
      {
       "output_type": "stream",
       "stream": "stdout",
       "text": [
        " \uac8c\uc784\n",
        "Alg\u00e9rie M\u00e9t\u00e9o"
       ]
      },
      {
       "output_type": "stream",
       "stream": "stdout",
       "text": [
        " \uac74\uac15\n",
        "Alg\u00e9rie M\u00e9t\u00e9o"
       ]
      },
      {
       "output_type": "stream",
       "stream": "stdout",
       "text": [
        " \ud559\uc2b5\n",
        "Alg\u00e9rie M\u00e9t\u00e9o"
       ]
      },
      {
       "output_type": "stream",
       "stream": "stdout",
       "text": [
        " \ucee4\ubba4\ub2c8\ud2f0\n",
        "\ub124\uc774\ud0a4\ub4dc\ud0b92"
       ]
      },
      {
       "output_type": "stream",
       "stream": "stdout",
       "text": [
        " \ubbf8\uc6a9\n",
        "\ub124\uc774\ud0a4\ub4dc\ud0b92"
       ]
      },
      {
       "output_type": "stream",
       "stream": "stdout",
       "text": [
        " \uc74c\uc545\n",
        "\ub124\uc774\ud0a4\ub4dc\ud0b92"
       ]
      },
      {
       "output_type": "stream",
       "stream": "stdout",
       "text": [
        " \ub9ac\ubdf0\n",
        "\ub124\uc774\ud0a4\ub4dc\ud0b92"
       ]
      },
      {
       "output_type": "stream",
       "stream": "stdout",
       "text": [
        " \uc5f0\uc608\n",
        "\ub124\uc774\ud0a4\ub4dc\ud0b92"
       ]
      },
      {
       "output_type": "stream",
       "stream": "stdout",
       "text": [
        " \uc74c\uc2dd\n",
        "\ub124\uc774\ud0a4\ub4dc\ud0b92"
       ]
      },
      {
       "output_type": "stream",
       "stream": "stdout",
       "text": [
        " \uc2a4\ud3ec\uce20\n",
        "\ub124\uc774\ud0a4\ub4dc\ud0b92 \uac8c\uc784\n",
        "\ub124\uc774\ud0a4\ub4dc\ud0b92"
       ]
      },
      {
       "output_type": "stream",
       "stream": "stdout",
       "text": [
        " \uac74\uac15\n",
        "\ub124\uc774\ud0a4\ub4dc\ud0b92"
       ]
      },
      {
       "output_type": "stream",
       "stream": "stdout",
       "text": [
        " \ud559\uc2b5\n",
        "\ub124\uc774\ud0a4\ub4dc\ud0b92"
       ]
      },
      {
       "output_type": "stream",
       "stream": "stdout",
       "text": [
        " \ucee4\ubba4\ub2c8\ud2f0\n",
        "\ube14\ub808\uc774\ub4dcz(Blade z)"
       ]
      },
      {
       "output_type": "stream",
       "stream": "stdout",
       "text": [
        " \ubbf8\uc6a9\n",
        "\ube14\ub808\uc774\ub4dcz(Blade z)"
       ]
      },
      {
       "output_type": "stream",
       "stream": "stdout",
       "text": [
        " \uc74c\uc545\n",
        "\ube14\ub808\uc774\ub4dcz(Blade z)"
       ]
      },
      {
       "output_type": "stream",
       "stream": "stdout",
       "text": [
        " \ub9ac\ubdf0\n",
        "\ube14\ub808\uc774\ub4dcz(Blade z)"
       ]
      },
      {
       "output_type": "stream",
       "stream": "stdout",
       "text": [
        " \uc5f0\uc608\n",
        "\ube14\ub808\uc774\ub4dcz(Blade z) \uc74c\uc2dd\n",
        "\ube14\ub808\uc774\ub4dcz(Blade z)"
       ]
      },
      {
       "output_type": "stream",
       "stream": "stdout",
       "text": [
        " \uc2a4\ud3ec\uce20\n",
        "\ube14\ub808\uc774\ub4dcz(Blade z)"
       ]
      },
      {
       "output_type": "stream",
       "stream": "stdout",
       "text": [
        " \uac8c\uc784\n",
        "\ube14\ub808\uc774\ub4dcz(Blade z)"
       ]
      },
      {
       "output_type": "stream",
       "stream": "stdout",
       "text": [
        " \uac74\uac15\n",
        "\ube14\ub808\uc774\ub4dcz(Blade z) \ud559\uc2b5\n",
        "\ube14\ub808\uc774\ub4dcz(Blade z)"
       ]
      },
      {
       "output_type": "stream",
       "stream": "stdout",
       "text": [
        " \ucee4\ubba4\ub2c8\ud2f0\n",
        "2012 \ub300\ud1b5\ub839 \ub2ec\ub9ac\uae30 \ubbf8\uc6a9\n",
        "2012 \ub300\ud1b5\ub839 \ub2ec\ub9ac\uae30"
       ]
      },
      {
       "output_type": "stream",
       "stream": "stdout",
       "text": [
        " \uc74c\uc545\n",
        "2012 \ub300\ud1b5\ub839 \ub2ec\ub9ac\uae30"
       ]
      },
      {
       "output_type": "stream",
       "stream": "stdout",
       "text": [
        " \ub9ac\ubdf0\n",
        "2012 \ub300\ud1b5\ub839 \ub2ec\ub9ac\uae30"
       ]
      },
      {
       "output_type": "stream",
       "stream": "stdout",
       "text": [
        " \uc5f0\uc608\n",
        "2012 \ub300\ud1b5\ub839 \ub2ec\ub9ac\uae30"
       ]
      },
      {
       "output_type": "stream",
       "stream": "stdout",
       "text": [
        " \uc74c\uc2dd\n",
        "2012 \ub300\ud1b5\ub839 \ub2ec\ub9ac\uae30 \uc2a4\ud3ec\uce20\n",
        "2012 \ub300\ud1b5\ub839 \ub2ec\ub9ac\uae30"
       ]
      },
      {
       "output_type": "stream",
       "stream": "stdout",
       "text": [
        " \uac8c\uc784\n",
        "2012 \ub300\ud1b5\ub839 \ub2ec\ub9ac\uae30 \uac74\uac15\n",
        "2012 \ub300\ud1b5\ub839 \ub2ec\ub9ac\uae30"
       ]
      },
      {
       "output_type": "stream",
       "stream": "stdout",
       "text": [
        " \ud559\uc2b5\n",
        "2012 \ub300\ud1b5\ub839 \ub2ec\ub9ac\uae30 \ucee4\ubba4\ub2c8\ud2f0\n",
        "Voxel Invaders (Free)"
       ]
      },
      {
       "output_type": "stream",
       "stream": "stdout",
       "text": [
        " \ubbf8\uc6a9\n",
        "Voxel Invaders (Free) \uc74c\uc545\n",
        "Voxel Invaders (Free)"
       ]
      },
      {
       "output_type": "stream",
       "stream": "stdout",
       "text": [
        " \ub9ac\ubdf0\n",
        "Voxel Invaders (Free)"
       ]
      },
      {
       "output_type": "stream",
       "stream": "stdout",
       "text": [
        " \uc5f0\uc608\n",
        "Voxel Invaders (Free)"
       ]
      },
      {
       "output_type": "stream",
       "stream": "stdout",
       "text": [
        " \uc74c\uc2dd\n",
        "Voxel Invaders (Free)"
       ]
      },
      {
       "output_type": "stream",
       "stream": "stdout",
       "text": [
        " \uc2a4\ud3ec\uce20\n",
        "Voxel Invaders (Free)"
       ]
      },
      {
       "output_type": "stream",
       "stream": "stdout",
       "text": [
        " \uac8c\uc784\n",
        "Voxel Invaders (Free)"
       ]
      },
      {
       "output_type": "stream",
       "stream": "stdout",
       "text": [
        " \uac74\uac15\n",
        "Voxel Invaders (Free)"
       ]
      },
      {
       "output_type": "stream",
       "stream": "stdout",
       "text": [
        " \ud559\uc2b5\n",
        "Voxel Invaders (Free)"
       ]
      },
      {
       "output_type": "stream",
       "stream": "stdout",
       "text": [
        " \ucee4\ubba4\ub2c8\ud2f0\n",
        "\ub7ec\ube0c \uba54\ubaa8\ub9ac\uc988 LITE"
       ]
      },
      {
       "output_type": "stream",
       "stream": "stdout",
       "text": [
        " \ubbf8\uc6a9\n",
        "\ub7ec\ube0c \uba54\ubaa8\ub9ac\uc988 LITE"
       ]
      },
      {
       "output_type": "stream",
       "stream": "stdout",
       "text": [
        " \uc74c\uc545\n",
        "\ub7ec\ube0c \uba54\ubaa8\ub9ac\uc988 LITE"
       ]
      },
      {
       "output_type": "stream",
       "stream": "stdout",
       "text": [
        " \ub9ac\ubdf0\n",
        "\ub7ec\ube0c \uba54\ubaa8\ub9ac\uc988 LITE"
       ]
      },
      {
       "output_type": "stream",
       "stream": "stdout",
       "text": [
        " \uc5f0\uc608\n",
        "\ub7ec\ube0c \uba54\ubaa8\ub9ac\uc988 LITE \uc74c\uc2dd\n",
        "\ub7ec\ube0c \uba54\ubaa8\ub9ac\uc988 LITE"
       ]
      },
      {
       "output_type": "stream",
       "stream": "stdout",
       "text": [
        " \uc2a4\ud3ec\uce20\n",
        "\ub7ec\ube0c \uba54\ubaa8\ub9ac\uc988 LITE \uac8c\uc784\n",
        "\ub7ec\ube0c \uba54\ubaa8\ub9ac\uc988 LITE"
       ]
      },
      {
       "output_type": "stream",
       "stream": "stdout",
       "text": [
        " \uac74\uac15\n",
        "\ub7ec\ube0c \uba54\ubaa8\ub9ac\uc988 LITE \ud559\uc2b5\n",
        "\ub7ec\ube0c \uba54\ubaa8\ub9ac\uc988 LITE"
       ]
      },
      {
       "output_type": "stream",
       "stream": "stdout",
       "text": [
        " \ucee4\ubba4\ub2c8\ud2f0\n",
        "Zion Tower Defense Free \ubbf8\uc6a9\n",
        "Zion Tower Defense Free"
       ]
      },
      {
       "output_type": "stream",
       "stream": "stdout",
       "text": [
        " \uc74c\uc545\n",
        "Zion Tower Defense Free \ub9ac\ubdf0\n",
        "Zion Tower Defense Free"
       ]
      },
      {
       "output_type": "stream",
       "stream": "stdout",
       "text": [
        " \uc5f0\uc608\n",
        "Zion Tower Defense Free \uc74c\uc2dd\n",
        "Zion Tower Defense Free"
       ]
      },
      {
       "output_type": "stream",
       "stream": "stdout",
       "text": [
        " \uc2a4\ud3ec\uce20\n",
        "Zion Tower Defense Free"
       ]
      },
      {
       "output_type": "stream",
       "stream": "stdout",
       "text": [
        " \uac8c\uc784\n",
        "Zion Tower Defense Free"
       ]
      },
      {
       "output_type": "stream",
       "stream": "stdout",
       "text": [
        " \uac74\uac15\n",
        "Zion Tower Defense Free"
       ]
      },
      {
       "output_type": "stream",
       "stream": "stdout",
       "text": [
        " \ud559\uc2b5\n",
        "Zion Tower Defense Free"
       ]
      },
      {
       "output_type": "stream",
       "stream": "stdout",
       "text": [
        " \ucee4\ubba4\ub2c8\ud2f0\n",
        "Medieval Battlefields FREE"
       ]
      },
      {
       "output_type": "stream",
       "stream": "stdout",
       "text": [
        " \ubbf8\uc6a9\n",
        "Medieval Battlefields FREE"
       ]
      },
      {
       "output_type": "stream",
       "stream": "stdout",
       "text": [
        " \uc74c\uc545\n",
        "Medieval Battlefields FREE"
       ]
      },
      {
       "output_type": "stream",
       "stream": "stdout",
       "text": [
        " \ub9ac\ubdf0\n",
        "Medieval Battlefields FREE"
       ]
      },
      {
       "output_type": "stream",
       "stream": "stdout",
       "text": [
        " \uc5f0\uc608\n",
        "Medieval Battlefields FREE"
       ]
      },
      {
       "output_type": "stream",
       "stream": "stdout",
       "text": [
        " \uc74c\uc2dd\n",
        "Medieval Battlefields FREE"
       ]
      },
      {
       "output_type": "stream",
       "stream": "stdout",
       "text": [
        " \uc2a4\ud3ec\uce20\n",
        "Medieval Battlefields FREE"
       ]
      },
      {
       "output_type": "stream",
       "stream": "stdout",
       "text": [
        " \uac8c\uc784\n",
        "Medieval Battlefields FREE"
       ]
      },
      {
       "output_type": "stream",
       "stream": "stdout",
       "text": [
        " \uac74\uac15\n",
        "Medieval Battlefields FREE \ud559\uc2b5\n",
        "Medieval Battlefields FREE"
       ]
      },
      {
       "output_type": "stream",
       "stream": "stdout",
       "text": [
        " \ucee4\ubba4\ub2c8\ud2f0\n",
        "CJ \ubdf0\ud2f0 \uc18c\ub140 \ud37c\uc990 \ubbf8\uc6a9\n",
        "CJ \ubdf0\ud2f0 \uc18c\ub140 \ud37c\uc990"
       ]
      },
      {
       "output_type": "stream",
       "stream": "stdout",
       "text": [
        " \uc74c\uc545\n",
        "CJ \ubdf0\ud2f0 \uc18c\ub140 \ud37c\uc990"
       ]
      },
      {
       "output_type": "stream",
       "stream": "stdout",
       "text": [
        " \ub9ac\ubdf0\n",
        "CJ \ubdf0\ud2f0 \uc18c\ub140 \ud37c\uc990"
       ]
      },
      {
       "output_type": "stream",
       "stream": "stdout",
       "text": [
        " \uc5f0\uc608\n",
        "CJ \ubdf0\ud2f0 \uc18c\ub140 \ud37c\uc990"
       ]
      },
      {
       "output_type": "stream",
       "stream": "stdout",
       "text": [
        " \uc74c\uc2dd\n",
        "CJ \ubdf0\ud2f0 \uc18c\ub140 \ud37c\uc990 \uc2a4\ud3ec\uce20\n",
        "CJ \ubdf0\ud2f0 \uc18c\ub140 \ud37c\uc990"
       ]
      },
      {
       "output_type": "stream",
       "stream": "stdout",
       "text": [
        " \uac8c\uc784\n",
        "CJ \ubdf0\ud2f0 \uc18c\ub140 \ud37c\uc990"
       ]
      },
      {
       "output_type": "stream",
       "stream": "stdout",
       "text": [
        " \uac74\uac15\n",
        "CJ \ubdf0\ud2f0 \uc18c\ub140 \ud37c\uc990"
       ]
      },
      {
       "output_type": "stream",
       "stream": "stdout",
       "text": [
        " \ud559\uc2b5\n",
        "CJ \ubdf0\ud2f0 \uc18c\ub140 \ud37c\uc990"
       ]
      },
      {
       "output_type": "stream",
       "stream": "stdout",
       "text": [
        " \ucee4\ubba4\ub2c8\ud2f0\n",
        "Guns'n'Glory GOLD"
       ]
      },
      {
       "output_type": "stream",
       "stream": "stdout",
       "text": [
        " \ubbf8\uc6a9\n",
        "Guns'n'Glory GOLD"
       ]
      },
      {
       "output_type": "stream",
       "stream": "stdout",
       "text": [
        " \uc74c\uc545\n",
        "Guns'n'Glory GOLD"
       ]
      },
      {
       "output_type": "stream",
       "stream": "stdout",
       "text": [
        " \ub9ac\ubdf0\n",
        "Guns'n'Glory GOLD \uc5f0\uc608\n",
        "Guns'n'Glory GOLD"
       ]
      },
      {
       "output_type": "stream",
       "stream": "stdout",
       "text": [
        " \uc74c\uc2dd\n",
        "Guns'n'Glory GOLD"
       ]
      },
      {
       "output_type": "stream",
       "stream": "stdout",
       "text": [
        " \uc2a4\ud3ec\uce20\n",
        "Guns'n'Glory GOLD"
       ]
      },
      {
       "output_type": "stream",
       "stream": "stdout",
       "text": [
        " \uac8c\uc784\n",
        "Guns'n'Glory GOLD \uac74\uac15\n",
        "Guns'n'Glory GOLD"
       ]
      },
      {
       "output_type": "stream",
       "stream": "stdout",
       "text": [
        " \ud559\uc2b5\n",
        "Guns'n'Glory GOLD"
       ]
      },
      {
       "output_type": "stream",
       "stream": "stdout",
       "text": [
        " \ucee4\ubba4\ub2c8\ud2f0\n",
        "\uacf5\uc8fc \uba54\uc774\ud06c\uc5c5 \ub77c\uc774\ud2b8"
       ]
      },
      {
       "output_type": "stream",
       "stream": "stdout",
       "text": [
        " \ubbf8\uc6a9\n",
        "\uacf5\uc8fc \uba54\uc774\ud06c\uc5c5 \ub77c\uc774\ud2b8"
       ]
      },
      {
       "output_type": "stream",
       "stream": "stdout",
       "text": [
        " \uc74c\uc545\n",
        "\uacf5\uc8fc \uba54\uc774\ud06c\uc5c5 \ub77c\uc774\ud2b8"
       ]
      },
      {
       "output_type": "stream",
       "stream": "stdout",
       "text": [
        " \ub9ac\ubdf0\n",
        "\uacf5\uc8fc \uba54\uc774\ud06c\uc5c5 \ub77c\uc774\ud2b8 \uc5f0\uc608\n",
        "\uacf5\uc8fc \uba54\uc774\ud06c\uc5c5 \ub77c\uc774\ud2b8"
       ]
      },
      {
       "output_type": "stream",
       "stream": "stdout",
       "text": [
        " \uc74c\uc2dd\n",
        "\uacf5\uc8fc \uba54\uc774\ud06c\uc5c5 \ub77c\uc774\ud2b8 \uc2a4\ud3ec\uce20\n",
        "\uacf5\uc8fc \uba54\uc774\ud06c\uc5c5 \ub77c\uc774\ud2b8"
       ]
      },
      {
       "output_type": "stream",
       "stream": "stdout",
       "text": [
        " \uac8c\uc784\n",
        "\uacf5\uc8fc \uba54\uc774\ud06c\uc5c5 \ub77c\uc774\ud2b8"
       ]
      },
      {
       "output_type": "stream",
       "stream": "stdout",
       "text": [
        " \uac74\uac15\n",
        "\uacf5\uc8fc \uba54\uc774\ud06c\uc5c5 \ub77c\uc774\ud2b8"
       ]
      },
      {
       "output_type": "stream",
       "stream": "stdout",
       "text": [
        " \ud559\uc2b5\n",
        "\uacf5\uc8fc \uba54\uc774\ud06c\uc5c5 \ub77c\uc774\ud2b8 \ucee4\ubba4\ub2c8\ud2f0\n",
        "\ud310\ud0c0\uc9c0\uc6cc"
       ]
      },
      {
       "output_type": "stream",
       "stream": "stdout",
       "text": [
        " \ubbf8\uc6a9\n",
        "\ud310\ud0c0\uc9c0\uc6cc"
       ]
      },
      {
       "output_type": "stream",
       "stream": "stdout",
       "text": [
        " \uc74c\uc545\n",
        "\ud310\ud0c0\uc9c0\uc6cc"
       ]
      },
      {
       "output_type": "stream",
       "stream": "stdout",
       "text": [
        " \ub9ac\ubdf0\n",
        "\ud310\ud0c0\uc9c0\uc6cc"
       ]
      },
      {
       "output_type": "stream",
       "stream": "stdout",
       "text": [
        " \uc5f0\uc608\n",
        "\ud310\ud0c0\uc9c0\uc6cc \uc74c\uc2dd\n",
        "\ud310\ud0c0\uc9c0\uc6cc"
       ]
      },
      {
       "output_type": "stream",
       "stream": "stdout",
       "text": [
        " \uc2a4\ud3ec\uce20\n",
        "\ud310\ud0c0\uc9c0\uc6cc \uac8c\uc784\n",
        "\ud310\ud0c0\uc9c0\uc6cc"
       ]
      },
      {
       "output_type": "stream",
       "stream": "stdout",
       "text": [
        " \uac74\uac15\n",
        "\ud310\ud0c0\uc9c0\uc6cc"
       ]
      },
      {
       "output_type": "stream",
       "stream": "stdout",
       "text": [
        " \ud559\uc2b5\n",
        "\ud310\ud0c0\uc9c0\uc6cc"
       ]
      },
      {
       "output_type": "stream",
       "stream": "stdout",
       "text": [
        " \ucee4\ubba4\ub2c8\ud2f0\n",
        "\u017bulionerzy"
       ]
      },
      {
       "output_type": "stream",
       "stream": "stdout",
       "text": [
        " \ubbf8\uc6a9\n",
        "\u017bulionerzy"
       ]
      },
      {
       "output_type": "stream",
       "stream": "stdout",
       "text": [
        " \uc74c\uc545\n",
        "\u017bulionerzy"
       ]
      },
      {
       "output_type": "stream",
       "stream": "stdout",
       "text": [
        " \ub9ac\ubdf0\n",
        "\u017bulionerzy"
       ]
      },
      {
       "output_type": "stream",
       "stream": "stdout",
       "text": [
        " \uc5f0\uc608\n",
        "\u017bulionerzy"
       ]
      },
      {
       "output_type": "stream",
       "stream": "stdout",
       "text": [
        " \uc74c\uc2dd\n",
        "\u017bulionerzy \uc2a4\ud3ec\uce20\n",
        "\u017bulionerzy"
       ]
      },
      {
       "output_type": "stream",
       "stream": "stdout",
       "text": [
        " \uac8c\uc784\n",
        "\u017bulionerzy \uac74\uac15\n",
        "\u017bulionerzy"
       ]
      },
      {
       "output_type": "stream",
       "stream": "stdout",
       "text": [
        " \ud559\uc2b5\n",
        "\u017bulionerzy"
       ]
      },
      {
       "output_type": "stream",
       "stream": "stdout",
       "text": [
        " \ucee4\ubba4\ub2c8\ud2f0\n",
        "MAME4droid (0.37b5) \ubbf8\uc6a9\n",
        "MAME4droid (0.37b5)"
       ]
      },
      {
       "output_type": "stream",
       "stream": "stdout",
       "text": [
        " \uc74c\uc545\n",
        "MAME4droid (0.37b5) \ub9ac\ubdf0\n",
        "MAME4droid (0.37b5)"
       ]
      },
      {
       "output_type": "stream",
       "stream": "stdout",
       "text": [
        " \uc5f0\uc608\n",
        "MAME4droid (0.37b5) \uc74c\uc2dd\n",
        "MAME4droid (0.37b5)"
       ]
      },
      {
       "output_type": "stream",
       "stream": "stdout",
       "text": [
        " \uc2a4\ud3ec\uce20\n",
        "MAME4droid (0.37b5) \uac8c\uc784\n",
        "MAME4droid (0.37b5)"
       ]
      },
      {
       "output_type": "stream",
       "stream": "stdout",
       "text": [
        " \uac74\uac15\n",
        "MAME4droid (0.37b5)"
       ]
      },
      {
       "output_type": "stream",
       "stream": "stdout",
       "text": [
        " \ud559\uc2b5\n",
        "MAME4droid (0.37b5) \ucee4\ubba4\ub2c8\ud2f0\n",
        "Bungie Mobile"
       ]
      },
      {
       "output_type": "stream",
       "stream": "stdout",
       "text": [
        " \ubbf8\uc6a9\n",
        "Bungie Mobile"
       ]
      },
      {
       "output_type": "stream",
       "stream": "stdout",
       "text": [
        " \uc74c\uc545\n",
        "Bungie Mobile"
       ]
      },
      {
       "output_type": "stream",
       "stream": "stdout",
       "text": [
        " \ub9ac\ubdf0\n",
        "Bungie Mobile \uc5f0\uc608\n",
        "Bungie Mobile"
       ]
      },
      {
       "output_type": "stream",
       "stream": "stdout",
       "text": [
        " \uc74c\uc2dd\n",
        "Bungie Mobile \uc2a4\ud3ec\uce20\n",
        "Bungie Mobile"
       ]
      },
      {
       "output_type": "stream",
       "stream": "stdout",
       "text": [
        " \uac8c\uc784\n",
        "Bungie Mobile \uac74\uac15\n",
        "Bungie Mobile"
       ]
      },
      {
       "output_type": "stream",
       "stream": "stdout",
       "text": [
        " \ud559\uc2b5\n",
        "Bungie Mobile \ucee4\ubba4\ub2c8\ud2f0\n",
        "\u4e0d\u597d\u7b11\u514d\u9322"
       ]
      },
      {
       "output_type": "stream",
       "stream": "stdout",
       "text": [
        " \ubbf8\uc6a9\n",
        "\u4e0d\u597d\u7b11\u514d\u9322"
       ]
      },
      {
       "output_type": "stream",
       "stream": "stdout",
       "text": [
        " \uc74c\uc545\n",
        "\u4e0d\u597d\u7b11\u514d\u9322"
       ]
      },
      {
       "output_type": "stream",
       "stream": "stdout",
       "text": [
        " \ub9ac\ubdf0\n",
        "\u4e0d\u597d\u7b11\u514d\u9322"
       ]
      },
      {
       "output_type": "stream",
       "stream": "stdout",
       "text": [
        " \uc5f0\uc608\n",
        "\u4e0d\u597d\u7b11\u514d\u9322"
       ]
      },
      {
       "output_type": "stream",
       "stream": "stdout",
       "text": [
        " \uc74c\uc2dd\n",
        "\u4e0d\u597d\u7b11\u514d\u9322"
       ]
      },
      {
       "output_type": "stream",
       "stream": "stdout",
       "text": [
        " \uc2a4\ud3ec\uce20\n",
        "\u4e0d\u597d\u7b11\u514d\u9322"
       ]
      },
      {
       "output_type": "stream",
       "stream": "stdout",
       "text": [
        " \uac8c\uc784\n",
        "\u4e0d\u597d\u7b11\u514d\u9322"
       ]
      },
      {
       "output_type": "stream",
       "stream": "stdout",
       "text": [
        " \uac74\uac15\n",
        "\u4e0d\u597d\u7b11\u514d\u9322 \ud559\uc2b5\n",
        "\u4e0d\u597d\u7b11\u514d\u9322"
       ]
      },
      {
       "output_type": "stream",
       "stream": "stdout",
       "text": [
        " \ucee4\ubba4\ub2c8\ud2f0\n",
        "\u61f7\u5ff5\u91d1\u66f2"
       ]
      },
      {
       "output_type": "stream",
       "stream": "stdout",
       "text": [
        " \ubbf8\uc6a9\n",
        "\u61f7\u5ff5\u91d1\u66f2"
       ]
      },
      {
       "output_type": "stream",
       "stream": "stdout",
       "text": [
        " \uc74c\uc545\n",
        "\u61f7\u5ff5\u91d1\u66f2"
       ]
      },
      {
       "output_type": "stream",
       "stream": "stdout",
       "text": [
        " \ub9ac\ubdf0\n",
        "\u61f7\u5ff5\u91d1\u66f2"
       ]
      },
      {
       "output_type": "stream",
       "stream": "stdout",
       "text": [
        " \uc5f0\uc608\n",
        "\u61f7\u5ff5\u91d1\u66f2"
       ]
      },
      {
       "output_type": "stream",
       "stream": "stdout",
       "text": [
        " \uc74c\uc2dd\n",
        "\u61f7\u5ff5\u91d1\u66f2"
       ]
      },
      {
       "output_type": "stream",
       "stream": "stdout",
       "text": [
        " \uc2a4\ud3ec\uce20\n",
        "\u61f7\u5ff5\u91d1\u66f2"
       ]
      },
      {
       "output_type": "stream",
       "stream": "stdout",
       "text": [
        " \uac8c\uc784\n",
        "\u61f7\u5ff5\u91d1\u66f2"
       ]
      },
      {
       "output_type": "stream",
       "stream": "stdout",
       "text": [
        " \uac74\uac15\n",
        "\u61f7\u5ff5\u91d1\u66f2"
       ]
      },
      {
       "output_type": "stream",
       "stream": "stdout",
       "text": [
        " \ud559\uc2b5\n",
        "\u61f7\u5ff5\u91d1\u66f2 \ucee4\ubba4\ub2c8\ud2f0\n",
        "\uc194\uc800 \uc624\ube0c \uae00\ub85c\ub9ac: \uc6d4\ub4dc \uc6cc 2 \uc880\ube44"
       ]
      },
      {
       "output_type": "stream",
       "stream": "stdout",
       "text": [
        " \ubbf8\uc6a9\n",
        "\uc194\uc800 \uc624\ube0c \uae00\ub85c\ub9ac: \uc6d4\ub4dc \uc6cc 2 \uc880\ube44"
       ]
      },
      {
       "output_type": "stream",
       "stream": "stdout",
       "text": [
        " \uc74c\uc545\n",
        "\uc194\uc800 \uc624\ube0c \uae00\ub85c\ub9ac: \uc6d4\ub4dc \uc6cc 2 \uc880\ube44 \ub9ac\ubdf0\n",
        "\uc194\uc800 \uc624\ube0c \uae00\ub85c\ub9ac: \uc6d4\ub4dc \uc6cc 2 \uc880\ube44"
       ]
      },
      {
       "output_type": "stream",
       "stream": "stdout",
       "text": [
        " \uc5f0\uc608\n",
        "\uc194\uc800 \uc624\ube0c \uae00\ub85c\ub9ac: \uc6d4\ub4dc \uc6cc 2 \uc880\ube44"
       ]
      },
      {
       "output_type": "stream",
       "stream": "stdout",
       "text": [
        " \uc74c\uc2dd\n",
        "\uc194\uc800 \uc624\ube0c \uae00\ub85c\ub9ac: \uc6d4\ub4dc \uc6cc 2 \uc880\ube44"
       ]
      },
      {
       "output_type": "stream",
       "stream": "stdout",
       "text": [
        " \uc2a4\ud3ec\uce20\n",
        "\uc194\uc800 \uc624\ube0c \uae00\ub85c\ub9ac: \uc6d4\ub4dc \uc6cc 2 \uc880\ube44"
       ]
      },
      {
       "output_type": "stream",
       "stream": "stdout",
       "text": [
        " \uac8c\uc784\n",
        "\uc194\uc800 \uc624\ube0c \uae00\ub85c\ub9ac: \uc6d4\ub4dc \uc6cc 2 \uc880\ube44"
       ]
      },
      {
       "output_type": "stream",
       "stream": "stdout",
       "text": [
        " \uac74\uac15\n",
        "\uc194\uc800 \uc624\ube0c \uae00\ub85c\ub9ac: \uc6d4\ub4dc \uc6cc 2 \uc880\ube44"
       ]
      },
      {
       "output_type": "stream",
       "stream": "stdout",
       "text": [
        " \ud559\uc2b5\n",
        "\uc194\uc800 \uc624\ube0c \uae00\ub85c\ub9ac: \uc6d4\ub4dc \uc6cc 2 \uc880\ube44"
       ]
      },
      {
       "output_type": "stream",
       "stream": "stdout",
       "text": [
        " \ucee4\ubba4\ub2c8\ud2f0\n",
        "Mojo \u5168\u53f0\u7063\u63a8\u85a6\u65c5\u904a\u666f\u9ede"
       ]
      },
      {
       "output_type": "stream",
       "stream": "stdout",
       "text": [
        " \ubbf8\uc6a9\n",
        "Mojo \u5168\u53f0\u7063\u63a8\u85a6\u65c5\u904a\u666f\u9ede"
       ]
      },
      {
       "output_type": "stream",
       "stream": "stdout",
       "text": [
        " \uc74c\uc545\n",
        "Mojo \u5168\u53f0\u7063\u63a8\u85a6\u65c5\u904a\u666f\u9ede"
       ]
      },
      {
       "output_type": "stream",
       "stream": "stdout",
       "text": [
        " \ub9ac\ubdf0\n",
        "Mojo \u5168\u53f0\u7063\u63a8\u85a6\u65c5\u904a\u666f\u9ede"
       ]
      },
      {
       "output_type": "stream",
       "stream": "stdout",
       "text": [
        " \uc5f0\uc608\n",
        "Mojo \u5168\u53f0\u7063\u63a8\u85a6\u65c5\u904a\u666f\u9ede"
       ]
      },
      {
       "output_type": "stream",
       "stream": "stdout",
       "text": [
        " \uc74c\uc2dd\n",
        "Mojo \u5168\u53f0\u7063\u63a8\u85a6\u65c5\u904a\u666f\u9ede"
       ]
      },
      {
       "output_type": "stream",
       "stream": "stdout",
       "text": [
        " \uc2a4\ud3ec\uce20\n",
        "Mojo \u5168\u53f0\u7063\u63a8\u85a6\u65c5\u904a\u666f\u9ede"
       ]
      },
      {
       "output_type": "stream",
       "stream": "stdout",
       "text": [
        " \uac8c\uc784\n",
        "Mojo \u5168\u53f0\u7063\u63a8\u85a6\u65c5\u904a\u666f\u9ede \uac74\uac15\n",
        "Mojo \u5168\u53f0\u7063\u63a8\u85a6\u65c5\u904a\u666f\u9ede"
       ]
      },
      {
       "output_type": "stream",
       "stream": "stdout",
       "text": [
        " \ud559\uc2b5\n",
        "Mojo \u5168\u53f0\u7063\u63a8\u85a6\u65c5\u904a\u666f\u9ede"
       ]
      },
      {
       "output_type": "stream",
       "stream": "stdout",
       "text": [
        " \ucee4\ubba4\ub2c8\ud2f0\n",
        "Winulator-beta"
       ]
      },
      {
       "output_type": "stream",
       "stream": "stdout",
       "text": [
        " \ubbf8\uc6a9\n",
        "Winulator-beta"
       ]
      },
      {
       "output_type": "stream",
       "stream": "stdout",
       "text": [
        " \uc74c\uc545\n",
        "Winulator-beta"
       ]
      },
      {
       "output_type": "stream",
       "stream": "stdout",
       "text": [
        " \ub9ac\ubdf0\n",
        "Winulator-beta"
       ]
      },
      {
       "output_type": "stream",
       "stream": "stdout",
       "text": [
        " \uc5f0\uc608\n",
        "Winulator-beta"
       ]
      },
      {
       "output_type": "stream",
       "stream": "stdout",
       "text": [
        " \uc74c\uc2dd\n",
        "Winulator-beta \uc2a4\ud3ec\uce20\n",
        "Winulator-beta"
       ]
      },
      {
       "output_type": "stream",
       "stream": "stdout",
       "text": [
        " \uac8c\uc784\n",
        "Winulator-beta"
       ]
      },
      {
       "output_type": "stream",
       "stream": "stdout",
       "text": [
        " \uac74\uac15\n",
        "Winulator-beta"
       ]
      },
      {
       "output_type": "stream",
       "stream": "stdout",
       "text": [
        " \ud559\uc2b5\n",
        "Winulator-beta"
       ]
      },
      {
       "output_type": "stream",
       "stream": "stdout",
       "text": [
        " \ucee4\ubba4\ub2c8\ud2f0\n",
        "\u0423\u0445\u043e\u0434 \u0437\u0430 \u043b\u0438\u0446\u043e\u043c"
       ]
      },
      {
       "output_type": "stream",
       "stream": "stdout",
       "text": [
        " \ubbf8\uc6a9\n",
        "\u0423\u0445\u043e\u0434 \u0437\u0430 \u043b\u0438\u0446\u043e\u043c"
       ]
      },
      {
       "output_type": "stream",
       "stream": "stdout",
       "text": [
        " \uc74c\uc545\n",
        "\u0423\u0445\u043e\u0434 \u0437\u0430 \u043b\u0438\u0446\u043e\u043c \ub9ac\ubdf0\n",
        "\u0423\u0445\u043e\u0434 \u0437\u0430 \u043b\u0438\u0446\u043e\u043c"
       ]
      },
      {
       "output_type": "stream",
       "stream": "stdout",
       "text": [
        " \uc5f0\uc608\n",
        "\u0423\u0445\u043e\u0434 \u0437\u0430 \u043b\u0438\u0446\u043e\u043c \uc74c\uc2dd\n",
        "\u0423\u0445\u043e\u0434 \u0437\u0430 \u043b\u0438\u0446\u043e\u043c"
       ]
      },
      {
       "output_type": "stream",
       "stream": "stdout",
       "text": [
        " \uc2a4\ud3ec\uce20\n",
        "\u0423\u0445\u043e\u0434 \u0437\u0430 \u043b\u0438\u0446\u043e\u043c \uac8c\uc784\n",
        "\u0423\u0445\u043e\u0434 \u0437\u0430 \u043b\u0438\u0446\u043e\u043c"
       ]
      },
      {
       "output_type": "stream",
       "stream": "stdout",
       "text": [
        " \uac74\uac15\n",
        "\u0423\u0445\u043e\u0434 \u0437\u0430 \u043b\u0438\u0446\u043e\u043c"
       ]
      },
      {
       "output_type": "stream",
       "stream": "stdout",
       "text": [
        " \ud559\uc2b5\n",
        "\u0423\u0445\u043e\u0434 \u0437\u0430 \u043b\u0438\u0446\u043e\u043c \ucee4\ubba4\ub2c8\ud2f0\n",
        "Galaxy Note 2 Live Clock"
       ]
      },
      {
       "output_type": "stream",
       "stream": "stdout",
       "text": [
        " \ubbf8\uc6a9\n",
        "Galaxy Note 2 Live Clock \uc74c\uc545\n",
        "Galaxy Note 2 Live Clock"
       ]
      },
      {
       "output_type": "stream",
       "stream": "stdout",
       "text": [
        " \ub9ac\ubdf0\n",
        "Galaxy Note 2 Live Clock \uc5f0\uc608\n",
        "Galaxy Note 2 Live Clock"
       ]
      },
      {
       "output_type": "stream",
       "stream": "stdout",
       "text": [
        " \uc74c\uc2dd\n",
        "Galaxy Note 2 Live Clock \uc2a4\ud3ec\uce20\n",
        "Galaxy Note 2 Live Clock"
       ]
      },
      {
       "output_type": "stream",
       "stream": "stdout",
       "text": [
        " \uac8c\uc784\n",
        "Galaxy Note 2 Live Clock \uac74\uac15\n",
        "Galaxy Note 2 Live Clock"
       ]
      },
      {
       "output_type": "stream",
       "stream": "stdout",
       "text": [
        " \ud559\uc2b5\n",
        "Galaxy Note 2 Live Clock"
       ]
      },
      {
       "output_type": "stream",
       "stream": "stdout",
       "text": [
        " \ucee4\ubba4\ub2c8\ud2f0\n",
        "\ud06c\ub9bc\uc2a8\ubca0\uc778"
       ]
      },
      {
       "output_type": "stream",
       "stream": "stdout",
       "text": [
        " \ubbf8\uc6a9\n",
        "\ud06c\ub9bc\uc2a8\ubca0\uc778"
       ]
      },
      {
       "output_type": "stream",
       "stream": "stdout",
       "text": [
        " \uc74c\uc545\n",
        "\ud06c\ub9bc\uc2a8\ubca0\uc778"
       ]
      },
      {
       "output_type": "stream",
       "stream": "stdout",
       "text": [
        " \ub9ac\ubdf0\n",
        "\ud06c\ub9bc\uc2a8\ubca0\uc778"
       ]
      },
      {
       "output_type": "stream",
       "stream": "stdout",
       "text": [
        " \uc5f0\uc608\n",
        "\ud06c\ub9bc\uc2a8\ubca0\uc778"
       ]
      },
      {
       "output_type": "stream",
       "stream": "stdout",
       "text": [
        " \uc74c\uc2dd\n",
        "\ud06c\ub9bc\uc2a8\ubca0\uc778"
       ]
      },
      {
       "output_type": "stream",
       "stream": "stdout",
       "text": [
        " \uc2a4\ud3ec\uce20\n",
        "\ud06c\ub9bc\uc2a8\ubca0\uc778"
       ]
      },
      {
       "output_type": "stream",
       "stream": "stdout",
       "text": [
        " \uac8c\uc784\n",
        "\ud06c\ub9bc\uc2a8\ubca0\uc778"
       ]
      },
      {
       "output_type": "stream",
       "stream": "stdout",
       "text": [
        " \uac74\uac15\n",
        "\ud06c\ub9bc\uc2a8\ubca0\uc778"
       ]
      },
      {
       "output_type": "stream",
       "stream": "stdout",
       "text": [
        " \ud559\uc2b5\n",
        "\ud06c\ub9bc\uc2a8\ubca0\uc778"
       ]
      },
      {
       "output_type": "stream",
       "stream": "stdout",
       "text": [
        " \ucee4\ubba4\ub2c8\ud2f0\n",
        "Injustice Gods Among Us Guide"
       ]
      },
      {
       "output_type": "stream",
       "stream": "stdout",
       "text": [
        " \ubbf8\uc6a9\n",
        "Injustice Gods Among Us Guide"
       ]
      },
      {
       "output_type": "stream",
       "stream": "stdout",
       "text": [
        " \uc74c\uc545\n",
        "Injustice Gods Among Us Guide"
       ]
      },
      {
       "output_type": "stream",
       "stream": "stdout",
       "text": [
        " \ub9ac\ubdf0\n",
        "Injustice Gods Among Us Guide"
       ]
      },
      {
       "output_type": "stream",
       "stream": "stdout",
       "text": [
        " \uc5f0\uc608\n",
        "Injustice Gods Among Us Guide"
       ]
      },
      {
       "output_type": "stream",
       "stream": "stdout",
       "text": [
        " \uc74c\uc2dd\n",
        "Injustice Gods Among Us Guide"
       ]
      },
      {
       "output_type": "stream",
       "stream": "stdout",
       "text": [
        " \uc2a4\ud3ec\uce20\n",
        "Injustice Gods Among Us Guide"
       ]
      },
      {
       "output_type": "stream",
       "stream": "stdout",
       "text": [
        " \uac8c\uc784\n",
        "Injustice Gods Among Us Guide \uac74\uac15\n",
        "Injustice Gods Among Us Guide"
       ]
      },
      {
       "output_type": "stream",
       "stream": "stdout",
       "text": [
        " \ud559\uc2b5\n",
        "Injustice Gods Among Us Guide"
       ]
      },
      {
       "output_type": "stream",
       "stream": "stdout",
       "text": [
        " \ucee4\ubba4\ub2c8\ud2f0\n",
        "\uc81c\ud2b8 \ud50c\ub77c\uc774 (II)"
       ]
      },
      {
       "output_type": "stream",
       "stream": "stdout",
       "text": [
        " \ubbf8\uc6a9\n",
        "\uc81c\ud2b8 \ud50c\ub77c\uc774 (II) \uc74c\uc545\n",
        "\uc81c\ud2b8 \ud50c\ub77c\uc774 (II)"
       ]
      },
      {
       "output_type": "stream",
       "stream": "stdout",
       "text": [
        " \ub9ac\ubdf0\n",
        "\uc81c\ud2b8 \ud50c\ub77c\uc774 (II)"
       ]
      },
      {
       "output_type": "stream",
       "stream": "stdout",
       "text": [
        " \uc5f0\uc608\n",
        "\uc81c\ud2b8 \ud50c\ub77c\uc774 (II) \uc74c\uc2dd\n",
        "\uc81c\ud2b8 \ud50c\ub77c\uc774 (II)"
       ]
      },
      {
       "output_type": "stream",
       "stream": "stdout",
       "text": [
        " \uc2a4\ud3ec\uce20\n",
        "\uc81c\ud2b8 \ud50c\ub77c\uc774 (II)"
       ]
      },
      {
       "output_type": "stream",
       "stream": "stdout",
       "text": [
        " \uac8c\uc784\n",
        "\uc81c\ud2b8 \ud50c\ub77c\uc774 (II) \uac74\uac15\n",
        "\uc81c\ud2b8 \ud50c\ub77c\uc774 (II)"
       ]
      },
      {
       "output_type": "stream",
       "stream": "stdout",
       "text": [
        " \ud559\uc2b5\n",
        "\uc81c\ud2b8 \ud50c\ub77c\uc774 (II)"
       ]
      },
      {
       "output_type": "stream",
       "stream": "stdout",
       "text": [
        " \ucee4\ubba4\ub2c8\ud2f0\n",
        "\ub9d0\ub791\ub9d0\ub791\uc0ac\ucc9c\uc1312"
       ]
      },
      {
       "output_type": "stream",
       "stream": "stdout",
       "text": [
        " \ubbf8\uc6a9\n",
        "\ub9d0\ub791\ub9d0\ub791\uc0ac\ucc9c\uc1312"
       ]
      },
      {
       "output_type": "stream",
       "stream": "stdout",
       "text": [
        " \uc74c\uc545\n",
        "\ub9d0\ub791\ub9d0\ub791\uc0ac\ucc9c\uc1312"
       ]
      },
      {
       "output_type": "stream",
       "stream": "stdout",
       "text": [
        " \ub9ac\ubdf0\n",
        "\ub9d0\ub791\ub9d0\ub791\uc0ac\ucc9c\uc1312"
       ]
      },
      {
       "output_type": "stream",
       "stream": "stdout",
       "text": [
        " \uc5f0\uc608\n",
        "\ub9d0\ub791\ub9d0\ub791\uc0ac\ucc9c\uc1312"
       ]
      },
      {
       "output_type": "stream",
       "stream": "stdout",
       "text": [
        " \uc74c\uc2dd\n",
        "\ub9d0\ub791\ub9d0\ub791\uc0ac\ucc9c\uc1312"
       ]
      },
      {
       "output_type": "stream",
       "stream": "stdout",
       "text": [
        " \uc2a4\ud3ec\uce20\n",
        "\ub9d0\ub791\ub9d0\ub791\uc0ac\ucc9c\uc1312"
       ]
      },
      {
       "output_type": "stream",
       "stream": "stdout",
       "text": [
        " \uac8c\uc784\n",
        "\ub9d0\ub791\ub9d0\ub791\uc0ac\ucc9c\uc1312"
       ]
      },
      {
       "output_type": "stream",
       "stream": "stdout",
       "text": [
        " \uac74\uac15\n",
        "\ub9d0\ub791\ub9d0\ub791\uc0ac\ucc9c\uc1312"
       ]
      },
      {
       "output_type": "stream",
       "stream": "stdout",
       "text": [
        " \ud559\uc2b5\n",
        "\ub9d0\ub791\ub9d0\ub791\uc0ac\ucc9c\uc1312"
       ]
      },
      {
       "output_type": "stream",
       "stream": "stdout",
       "text": [
        " \ucee4\ubba4\ub2c8\ud2f0\n",
        "VPET"
       ]
      },
      {
       "output_type": "stream",
       "stream": "stdout",
       "text": [
        " \ubbf8\uc6a9\n",
        "VPET"
       ]
      },
      {
       "output_type": "stream",
       "stream": "stdout",
       "text": [
        " \uc74c\uc545\n",
        "VPET"
       ]
      },
      {
       "output_type": "stream",
       "stream": "stdout",
       "text": [
        " \ub9ac\ubdf0\n",
        "VPET"
       ]
      },
      {
       "output_type": "stream",
       "stream": "stdout",
       "text": [
        " \uc5f0\uc608\n",
        "VPET"
       ]
      },
      {
       "output_type": "stream",
       "stream": "stdout",
       "text": [
        " \uc74c\uc2dd\n",
        "VPET"
       ]
      },
      {
       "output_type": "stream",
       "stream": "stdout",
       "text": [
        " \uc2a4\ud3ec\uce20\n",
        "VPET"
       ]
      },
      {
       "output_type": "stream",
       "stream": "stdout",
       "text": [
        " \uac8c\uc784\n",
        "VPET"
       ]
      },
      {
       "output_type": "stream",
       "stream": "stdout",
       "text": [
        " \uac74\uac15\n",
        "VPET"
       ]
      },
      {
       "output_type": "stream",
       "stream": "stdout",
       "text": [
        " \ud559\uc2b5\n",
        "VPET"
       ]
      },
      {
       "output_type": "stream",
       "stream": "stdout",
       "text": [
        " \ucee4\ubba4\ub2c8\ud2f0\n",
        "\ud48d\uc120\ud0c0\uc6cc\ub514\ud39c\uc2a4 4"
       ]
      },
      {
       "output_type": "stream",
       "stream": "stdout",
       "text": [
        " \ubbf8\uc6a9\n",
        "\ud48d\uc120\ud0c0\uc6cc\ub514\ud39c\uc2a4 4"
       ]
      },
      {
       "output_type": "stream",
       "stream": "stdout",
       "text": [
        " \uc74c\uc545\n",
        "\ud48d\uc120\ud0c0\uc6cc\ub514\ud39c\uc2a4 4"
       ]
      },
      {
       "output_type": "stream",
       "stream": "stdout",
       "text": [
        " \ub9ac\ubdf0\n",
        "\ud48d\uc120\ud0c0\uc6cc\ub514\ud39c\uc2a4 4"
       ]
      },
      {
       "output_type": "stream",
       "stream": "stdout",
       "text": [
        " \uc5f0\uc608\n",
        "\ud48d\uc120\ud0c0\uc6cc\ub514\ud39c\uc2a4 4"
       ]
      },
      {
       "output_type": "stream",
       "stream": "stdout",
       "text": [
        " \uc74c\uc2dd\n",
        "\ud48d\uc120\ud0c0\uc6cc\ub514\ud39c\uc2a4 4"
       ]
      },
      {
       "output_type": "stream",
       "stream": "stdout",
       "text": [
        " \uc2a4\ud3ec\uce20\n",
        "\ud48d\uc120\ud0c0\uc6cc\ub514\ud39c\uc2a4 4"
       ]
      },
      {
       "output_type": "stream",
       "stream": "stdout",
       "text": [
        " \uac8c\uc784\n",
        "\ud48d\uc120\ud0c0\uc6cc\ub514\ud39c\uc2a4 4"
       ]
      },
      {
       "output_type": "stream",
       "stream": "stdout",
       "text": [
        " \uac74\uac15\n",
        "\ud48d\uc120\ud0c0\uc6cc\ub514\ud39c\uc2a4 4"
       ]
      },
      {
       "output_type": "stream",
       "stream": "stdout",
       "text": [
        " \ud559\uc2b5\n",
        "\ud48d\uc120\ud0c0\uc6cc\ub514\ud39c\uc2a4 4"
       ]
      },
      {
       "output_type": "stream",
       "stream": "stdout",
       "text": [
        " \ucee4\ubba4\ub2c8\ud2f0\n",
        "\ud48d\uc120\ud0c0\uc6cc\ub514\ud39c\uc2a4 4E"
       ]
      },
      {
       "output_type": "stream",
       "stream": "stdout",
       "text": [
        " \ubbf8\uc6a9\n",
        "\ud48d\uc120\ud0c0\uc6cc\ub514\ud39c\uc2a4 4E"
       ]
      },
      {
       "output_type": "stream",
       "stream": "stdout",
       "text": [
        " \uc74c\uc545\n",
        "\ud48d\uc120\ud0c0\uc6cc\ub514\ud39c\uc2a4 4E"
       ]
      },
      {
       "output_type": "stream",
       "stream": "stdout",
       "text": [
        " \ub9ac\ubdf0\n",
        "\ud48d\uc120\ud0c0\uc6cc\ub514\ud39c\uc2a4 4E"
       ]
      },
      {
       "output_type": "stream",
       "stream": "stdout",
       "text": [
        " \uc5f0\uc608\n",
        "\ud48d\uc120\ud0c0\uc6cc\ub514\ud39c\uc2a4 4E"
       ]
      },
      {
       "output_type": "stream",
       "stream": "stdout",
       "text": [
        " \uc74c\uc2dd\n",
        "\ud48d\uc120\ud0c0\uc6cc\ub514\ud39c\uc2a4 4E"
       ]
      },
      {
       "output_type": "stream",
       "stream": "stdout",
       "text": [
        " \uc2a4\ud3ec\uce20\n",
        "\ud48d\uc120\ud0c0\uc6cc\ub514\ud39c\uc2a4 4E"
       ]
      },
      {
       "output_type": "stream",
       "stream": "stdout",
       "text": [
        " \uac8c\uc784\n",
        "\ud48d\uc120\ud0c0\uc6cc\ub514\ud39c\uc2a4 4E"
       ]
      },
      {
       "output_type": "stream",
       "stream": "stdout",
       "text": [
        " \uac74\uac15\n",
        "\ud48d\uc120\ud0c0\uc6cc\ub514\ud39c\uc2a4 4E"
       ]
      },
      {
       "output_type": "stream",
       "stream": "stdout",
       "text": [
        " \ud559\uc2b5\n",
        "\ud48d\uc120\ud0c0\uc6cc\ub514\ud39c\uc2a4 4E"
       ]
      },
      {
       "output_type": "stream",
       "stream": "stdout",
       "text": [
        " \ucee4\ubba4\ub2c8\ud2f0\n",
        "\uc288\ud37c \ud2b8\ub7ed \ud504\ub85c"
       ]
      },
      {
       "output_type": "stream",
       "stream": "stdout",
       "text": [
        " \ubbf8\uc6a9\n",
        "\uc288\ud37c \ud2b8\ub7ed \ud504\ub85c"
       ]
      },
      {
       "output_type": "stream",
       "stream": "stdout",
       "text": [
        " \uc74c\uc545\n",
        "\uc288\ud37c \ud2b8\ub7ed \ud504\ub85c"
       ]
      },
      {
       "output_type": "stream",
       "stream": "stdout",
       "text": [
        " \ub9ac\ubdf0\n",
        "\uc288\ud37c \ud2b8\ub7ed \ud504\ub85c"
       ]
      },
      {
       "output_type": "stream",
       "stream": "stdout",
       "text": [
        " \uc5f0\uc608\n",
        "\uc288\ud37c \ud2b8\ub7ed \ud504\ub85c"
       ]
      },
      {
       "output_type": "stream",
       "stream": "stdout",
       "text": [
        " \uc74c\uc2dd\n",
        "\uc288\ud37c \ud2b8\ub7ed \ud504\ub85c"
       ]
      },
      {
       "output_type": "stream",
       "stream": "stdout",
       "text": [
        " \uc2a4\ud3ec\uce20\n",
        "\uc288\ud37c \ud2b8\ub7ed \ud504\ub85c"
       ]
      },
      {
       "output_type": "stream",
       "stream": "stdout",
       "text": [
        " \uac8c\uc784\n",
        "\uc288\ud37c \ud2b8\ub7ed \ud504\ub85c"
       ]
      },
      {
       "output_type": "stream",
       "stream": "stdout",
       "text": [
        " \uac74\uac15\n",
        "\uc288\ud37c \ud2b8\ub7ed \ud504\ub85c"
       ]
      },
      {
       "output_type": "stream",
       "stream": "stdout",
       "text": [
        " \ud559\uc2b5\n",
        "\uc288\ud37c \ud2b8\ub7ed \ud504\ub85c"
       ]
      },
      {
       "output_type": "stream",
       "stream": "stdout",
       "text": [
        " \ucee4\ubba4\ub2c8\ud2f0\n",
        "\ud5c8\uc218\uc544\ube44\uc758 \ub1cc"
       ]
      },
      {
       "output_type": "stream",
       "stream": "stdout",
       "text": [
        " \ubbf8\uc6a9\n",
        "\ud5c8\uc218\uc544\ube44\uc758 \ub1cc"
       ]
      },
      {
       "output_type": "stream",
       "stream": "stdout",
       "text": [
        " \uc74c\uc545\n",
        "\ud5c8\uc218\uc544\ube44\uc758 \ub1cc"
       ]
      },
      {
       "output_type": "stream",
       "stream": "stdout",
       "text": [
        " \ub9ac\ubdf0\n",
        "\ud5c8\uc218\uc544\ube44\uc758 \ub1cc"
       ]
      },
      {
       "output_type": "stream",
       "stream": "stdout",
       "text": [
        " \uc5f0\uc608\n",
        "\ud5c8\uc218\uc544\ube44\uc758 \ub1cc"
       ]
      },
      {
       "output_type": "stream",
       "stream": "stdout",
       "text": [
        " \uc74c\uc2dd\n",
        "\ud5c8\uc218\uc544\ube44\uc758 \ub1cc"
       ]
      },
      {
       "output_type": "stream",
       "stream": "stdout",
       "text": [
        " \uc2a4\ud3ec\uce20\n",
        "\ud5c8\uc218\uc544\ube44\uc758 \ub1cc"
       ]
      },
      {
       "output_type": "stream",
       "stream": "stdout",
       "text": [
        " \uac8c\uc784\n",
        "\ud5c8\uc218\uc544\ube44\uc758 \ub1cc"
       ]
      },
      {
       "output_type": "stream",
       "stream": "stdout",
       "text": [
        " \uac74\uac15\n",
        "\ud5c8\uc218\uc544\ube44\uc758 \ub1cc"
       ]
      },
      {
       "output_type": "stream",
       "stream": "stdout",
       "text": [
        " \ud559\uc2b5\n",
        "\ud5c8\uc218\uc544\ube44\uc758 \ub1cc"
       ]
      },
      {
       "output_type": "stream",
       "stream": "stdout",
       "text": [
        " \ucee4\ubba4\ub2c8\ud2f0\n",
        "Girl Fart"
       ]
      },
      {
       "output_type": "stream",
       "stream": "stdout",
       "text": [
        " \ubbf8\uc6a9\n",
        "Girl Fart"
       ]
      },
      {
       "output_type": "stream",
       "stream": "stdout",
       "text": [
        " \uc74c\uc545\n",
        "Girl Fart"
       ]
      },
      {
       "output_type": "stream",
       "stream": "stdout",
       "text": [
        " \ub9ac\ubdf0\n",
        "Girl Fart"
       ]
      },
      {
       "output_type": "stream",
       "stream": "stdout",
       "text": [
        " \uc5f0\uc608\n",
        "Girl Fart"
       ]
      },
      {
       "output_type": "stream",
       "stream": "stdout",
       "text": [
        " \uc74c\uc2dd\n",
        "Girl Fart"
       ]
      },
      {
       "output_type": "stream",
       "stream": "stdout",
       "text": [
        " \uc2a4\ud3ec\uce20\n",
        "Girl Fart"
       ]
      },
      {
       "output_type": "stream",
       "stream": "stdout",
       "text": [
        " \uac8c\uc784\n",
        "Girl Fart"
       ]
      },
      {
       "output_type": "stream",
       "stream": "stdout",
       "text": [
        " \uac74\uac15\n",
        "Girl Fart"
       ]
      },
      {
       "output_type": "stream",
       "stream": "stdout",
       "text": [
        " \ud559\uc2b5\n",
        "Girl Fart"
       ]
      },
      {
       "output_type": "stream",
       "stream": "stdout",
       "text": [
        " \ucee4\ubba4\ub2c8\ud2f0\n",
        "MineGuides"
       ]
      },
      {
       "output_type": "stream",
       "stream": "stdout",
       "text": [
        " \ubbf8\uc6a9\n",
        "MineGuides"
       ]
      },
      {
       "output_type": "stream",
       "stream": "stdout",
       "text": [
        " \uc74c\uc545\n",
        "MineGuides \ub9ac\ubdf0\n",
        "MineGuides"
       ]
      },
      {
       "output_type": "stream",
       "stream": "stdout",
       "text": [
        " \uc5f0\uc608\n",
        "MineGuides"
       ]
      },
      {
       "output_type": "stream",
       "stream": "stdout",
       "text": [
        " \uc74c\uc2dd\n",
        "MineGuides"
       ]
      },
      {
       "output_type": "stream",
       "stream": "stdout",
       "text": [
        " \uc2a4\ud3ec\uce20\n",
        "MineGuides"
       ]
      },
      {
       "output_type": "stream",
       "stream": "stdout",
       "text": [
        " \uac8c\uc784\n",
        "MineGuides"
       ]
      },
      {
       "output_type": "stream",
       "stream": "stdout",
       "text": [
        " \uac74\uac15\n",
        "MineGuides"
       ]
      },
      {
       "output_type": "stream",
       "stream": "stdout",
       "text": [
        " \ud559\uc2b5\n",
        "MineGuides"
       ]
      },
      {
       "output_type": "stream",
       "stream": "stdout",
       "text": [
        " \ucee4\ubba4\ub2c8\ud2f0\n",
        "GnarBike \ud3c9\uac00\ud310 \ud504\ub85c"
       ]
      },
      {
       "output_type": "stream",
       "stream": "stdout",
       "text": [
        " \ubbf8\uc6a9\n",
        "GnarBike \ud3c9\uac00\ud310 \ud504\ub85c"
       ]
      },
      {
       "output_type": "stream",
       "stream": "stdout",
       "text": [
        " \uc74c\uc545\n",
        "GnarBike \ud3c9\uac00\ud310 \ud504\ub85c"
       ]
      },
      {
       "output_type": "stream",
       "stream": "stdout",
       "text": [
        " \ub9ac\ubdf0\n",
        "GnarBike \ud3c9\uac00\ud310 \ud504\ub85c \uc5f0\uc608\n",
        "GnarBike \ud3c9\uac00\ud310 \ud504\ub85c"
       ]
      },
      {
       "output_type": "stream",
       "stream": "stdout",
       "text": [
        " \uc74c\uc2dd\n",
        "GnarBike \ud3c9\uac00\ud310 \ud504\ub85c \uc2a4\ud3ec\uce20\n",
        "GnarBike \ud3c9\uac00\ud310 \ud504\ub85c"
       ]
      },
      {
       "output_type": "stream",
       "stream": "stdout",
       "text": [
        " \uac8c\uc784\n",
        "GnarBike \ud3c9\uac00\ud310 \ud504\ub85c \uac74\uac15\n",
        "GnarBike \ud3c9\uac00\ud310 \ud504\ub85c"
       ]
      },
      {
       "output_type": "stream",
       "stream": "stdout",
       "text": [
        " \ud559\uc2b5\n",
        "GnarBike \ud3c9\uac00\ud310 \ud504\ub85c \ucee4\ubba4\ub2c8\ud2f0\n",
        "\ubaac\uc2a4\ud130\uc6d4\ub4dc"
       ]
      },
      {
       "output_type": "stream",
       "stream": "stdout",
       "text": [
        " \ubbf8\uc6a9\n",
        "\ubaac\uc2a4\ud130\uc6d4\ub4dc"
       ]
      },
      {
       "output_type": "stream",
       "stream": "stdout",
       "text": [
        " \uc74c\uc545\n",
        "\ubaac\uc2a4\ud130\uc6d4\ub4dc"
       ]
      },
      {
       "output_type": "stream",
       "stream": "stdout",
       "text": [
        " \ub9ac\ubdf0\n",
        "\ubaac\uc2a4\ud130\uc6d4\ub4dc"
       ]
      },
      {
       "output_type": "stream",
       "stream": "stdout",
       "text": [
        " \uc5f0\uc608\n",
        "\ubaac\uc2a4\ud130\uc6d4\ub4dc"
       ]
      },
      {
       "output_type": "stream",
       "stream": "stdout",
       "text": [
        " \uc74c\uc2dd\n",
        "\ubaac\uc2a4\ud130\uc6d4\ub4dc"
       ]
      },
      {
       "output_type": "stream",
       "stream": "stdout",
       "text": [
        " \uc2a4\ud3ec\uce20\n",
        "\ubaac\uc2a4\ud130\uc6d4\ub4dc"
       ]
      },
      {
       "output_type": "stream",
       "stream": "stdout",
       "text": [
        " \uac8c\uc784\n",
        "\ubaac\uc2a4\ud130\uc6d4\ub4dc"
       ]
      },
      {
       "output_type": "stream",
       "stream": "stdout",
       "text": [
        " \uac74\uac15\n",
        "\ubaac\uc2a4\ud130\uc6d4\ub4dc"
       ]
      },
      {
       "output_type": "stream",
       "stream": "stdout",
       "text": [
        " \ud559\uc2b5\n",
        "\ubaac\uc2a4\ud130\uc6d4\ub4dc"
       ]
      },
      {
       "output_type": "stream",
       "stream": "stdout",
       "text": [
        " \ucee4\ubba4\ub2c8\ud2f0\n",
        "\uc545\ub9c8\uc758\uacc4\ud68d"
       ]
      },
      {
       "output_type": "stream",
       "stream": "stdout",
       "text": [
        " \ubbf8\uc6a9\n",
        "\uc545\ub9c8\uc758\uacc4\ud68d"
       ]
      },
      {
       "output_type": "stream",
       "stream": "stdout",
       "text": [
        " \uc74c\uc545\n",
        "\uc545\ub9c8\uc758\uacc4\ud68d"
       ]
      },
      {
       "output_type": "stream",
       "stream": "stdout",
       "text": [
        " \ub9ac\ubdf0\n",
        "\uc545\ub9c8\uc758\uacc4\ud68d"
       ]
      },
      {
       "output_type": "stream",
       "stream": "stdout",
       "text": [
        " \uc5f0\uc608\n",
        "\uc545\ub9c8\uc758\uacc4\ud68d"
       ]
      },
      {
       "output_type": "stream",
       "stream": "stdout",
       "text": [
        " \uc74c\uc2dd\n",
        "\uc545\ub9c8\uc758\uacc4\ud68d"
       ]
      },
      {
       "output_type": "stream",
       "stream": "stdout",
       "text": [
        " \uc2a4\ud3ec\uce20\n",
        "\uc545\ub9c8\uc758\uacc4\ud68d"
       ]
      },
      {
       "output_type": "stream",
       "stream": "stdout",
       "text": [
        " \uac8c\uc784\n",
        "\uc545\ub9c8\uc758\uacc4\ud68d"
       ]
      },
      {
       "output_type": "stream",
       "stream": "stdout",
       "text": [
        " \uac74\uac15\n",
        "\uc545\ub9c8\uc758\uacc4\ud68d"
       ]
      },
      {
       "output_type": "stream",
       "stream": "stdout",
       "text": [
        " \ud559\uc2b5\n",
        "\uc545\ub9c8\uc758\uacc4\ud68d"
       ]
      },
      {
       "output_type": "stream",
       "stream": "stdout",
       "text": [
        " \ucee4\ubba4\ub2c8\ud2f0\n",
        "\ubc30\ud2c0\uce90\ub17cSE(Battle Cannon Online)"
       ]
      },
      {
       "output_type": "stream",
       "stream": "stdout",
       "text": [
        " \ubbf8\uc6a9\n",
        "\ubc30\ud2c0\uce90\ub17cSE(Battle Cannon Online)"
       ]
      },
      {
       "output_type": "stream",
       "stream": "stdout",
       "text": [
        " \uc74c\uc545\n",
        "\ubc30\ud2c0\uce90\ub17cSE(Battle Cannon Online)"
       ]
      },
      {
       "output_type": "stream",
       "stream": "stdout",
       "text": [
        " \ub9ac\ubdf0\n",
        "\ubc30\ud2c0\uce90\ub17cSE(Battle Cannon Online)"
       ]
      },
      {
       "output_type": "stream",
       "stream": "stdout",
       "text": [
        " \uc5f0\uc608\n",
        "\ubc30\ud2c0\uce90\ub17cSE(Battle Cannon Online)"
       ]
      },
      {
       "output_type": "stream",
       "stream": "stdout",
       "text": [
        " \uc74c\uc2dd\n",
        "\ubc30\ud2c0\uce90\ub17cSE(Battle Cannon Online)"
       ]
      },
      {
       "output_type": "stream",
       "stream": "stdout",
       "text": [
        " \uc2a4\ud3ec\uce20\n",
        "\ubc30\ud2c0\uce90\ub17cSE(Battle Cannon Online)"
       ]
      },
      {
       "output_type": "stream",
       "stream": "stdout",
       "text": [
        " \uac8c\uc784\n",
        "\ubc30\ud2c0\uce90\ub17cSE(Battle Cannon Online)"
       ]
      },
      {
       "output_type": "stream",
       "stream": "stdout",
       "text": [
        " \uac74\uac15\n",
        "\ubc30\ud2c0\uce90\ub17cSE(Battle Cannon Online)"
       ]
      },
      {
       "output_type": "stream",
       "stream": "stdout",
       "text": [
        " \ud559\uc2b5\n",
        "\ubc30\ud2c0\uce90\ub17cSE(Battle Cannon Online)"
       ]
      },
      {
       "output_type": "stream",
       "stream": "stdout",
       "text": [
        " \ucee4\ubba4\ub2c8\ud2f0\n",
        "\ub864\ub7ec\ucf54\uc2a4\ud130\ub77c\uc774\ub4dc"
       ]
      },
      {
       "output_type": "stream",
       "stream": "stdout",
       "text": [
        " \ubbf8\uc6a9\n",
        "\ub864\ub7ec\ucf54\uc2a4\ud130\ub77c\uc774\ub4dc"
       ]
      },
      {
       "output_type": "stream",
       "stream": "stdout",
       "text": [
        " \uc74c\uc545\n",
        "\ub864\ub7ec\ucf54\uc2a4\ud130\ub77c\uc774\ub4dc"
       ]
      },
      {
       "output_type": "stream",
       "stream": "stdout",
       "text": [
        " \ub9ac\ubdf0\n",
        "\ub864\ub7ec\ucf54\uc2a4\ud130\ub77c\uc774\ub4dc"
       ]
      },
      {
       "output_type": "stream",
       "stream": "stdout",
       "text": [
        " \uc5f0\uc608\n",
        "\ub864\ub7ec\ucf54\uc2a4\ud130\ub77c\uc774\ub4dc"
       ]
      },
      {
       "output_type": "stream",
       "stream": "stdout",
       "text": [
        " \uc74c\uc2dd\n",
        "\ub864\ub7ec\ucf54\uc2a4\ud130\ub77c\uc774\ub4dc"
       ]
      },
      {
       "output_type": "stream",
       "stream": "stdout",
       "text": [
        " \uc2a4\ud3ec\uce20\n",
        "\ub864\ub7ec\ucf54\uc2a4\ud130\ub77c\uc774\ub4dc"
       ]
      },
      {
       "output_type": "stream",
       "stream": "stdout",
       "text": [
        " \uac8c\uc784\n",
        "\ub864\ub7ec\ucf54\uc2a4\ud130\ub77c\uc774\ub4dc"
       ]
      },
      {
       "output_type": "stream",
       "stream": "stdout",
       "text": [
        " \uac74\uac15\n",
        "\ub864\ub7ec\ucf54\uc2a4\ud130\ub77c\uc774\ub4dc"
       ]
      },
      {
       "output_type": "stream",
       "stream": "stdout",
       "text": [
        " \ud559\uc2b5\n",
        "\ub864\ub7ec\ucf54\uc2a4\ud130\ub77c\uc774\ub4dc"
       ]
      },
      {
       "output_type": "stream",
       "stream": "stdout",
       "text": [
        " \ucee4\ubba4\ub2c8\ud2f0\n",
        "\u0110ua xe Need for Speed HD"
       ]
      },
      {
       "output_type": "stream",
       "stream": "stdout",
       "text": [
        " \ubbf8\uc6a9\n",
        "\u0110ua xe Need for Speed HD"
       ]
      },
      {
       "output_type": "stream",
       "stream": "stdout",
       "text": [
        " \uc74c\uc545\n",
        "\u0110ua xe Need for Speed HD"
       ]
      },
      {
       "output_type": "stream",
       "stream": "stdout",
       "text": [
        " \ub9ac\ubdf0\n",
        "\u0110ua xe Need for Speed HD"
       ]
      },
      {
       "output_type": "stream",
       "stream": "stdout",
       "text": [
        " \uc5f0\uc608\n",
        "\u0110ua xe Need for Speed HD"
       ]
      },
      {
       "output_type": "stream",
       "stream": "stdout",
       "text": [
        " \uc74c\uc2dd\n",
        "\u0110ua xe Need for Speed HD"
       ]
      },
      {
       "output_type": "stream",
       "stream": "stdout",
       "text": [
        " \uc2a4\ud3ec\uce20\n",
        "\u0110ua xe Need for Speed HD"
       ]
      },
      {
       "output_type": "stream",
       "stream": "stdout",
       "text": [
        " \uac8c\uc784\n",
        "\u0110ua xe Need for Speed HD"
       ]
      },
      {
       "output_type": "stream",
       "stream": "stdout",
       "text": [
        " \uac74\uac15\n",
        "\u0110ua xe Need for Speed HD"
       ]
      },
      {
       "output_type": "stream",
       "stream": "stdout",
       "text": [
        " \ud559\uc2b5\n",
        "\u0110ua xe Need for Speed HD"
       ]
      },
      {
       "output_type": "stream",
       "stream": "stdout",
       "text": [
        " \ucee4\ubba4\ub2c8\ud2f0\n",
        "Animal Park Tycoon"
       ]
      },
      {
       "output_type": "stream",
       "stream": "stdout",
       "text": [
        " \ubbf8\uc6a9\n",
        "Animal Park Tycoon"
       ]
      },
      {
       "output_type": "stream",
       "stream": "stdout",
       "text": [
        " \uc74c\uc545\n",
        "Animal Park Tycoon"
       ]
      },
      {
       "output_type": "stream",
       "stream": "stdout",
       "text": [
        " \ub9ac\ubdf0\n",
        "Animal Park Tycoon"
       ]
      },
      {
       "output_type": "stream",
       "stream": "stdout",
       "text": [
        " \uc5f0\uc608\n",
        "Animal Park Tycoon"
       ]
      },
      {
       "output_type": "stream",
       "stream": "stdout",
       "text": [
        " \uc74c\uc2dd\n",
        "Animal Park Tycoon"
       ]
      },
      {
       "output_type": "stream",
       "stream": "stdout",
       "text": [
        " \uc2a4\ud3ec\uce20\n",
        "Animal Park Tycoon"
       ]
      },
      {
       "output_type": "stream",
       "stream": "stdout",
       "text": [
        " \uac8c\uc784\n",
        "Animal Park Tycoon"
       ]
      },
      {
       "output_type": "stream",
       "stream": "stdout",
       "text": [
        " \uac74\uac15\n",
        "Animal Park Tycoon"
       ]
      },
      {
       "output_type": "stream",
       "stream": "stdout",
       "text": [
        " \ud559\uc2b5\n",
        "Animal Park Tycoon"
       ]
      },
      {
       "output_type": "stream",
       "stream": "stdout",
       "text": [
        " \ucee4\ubba4\ub2c8\ud2f0\n",
        "\ubd88\ub968 \uc774\ud004\ub77c\uc774\uc800"
       ]
      },
      {
       "output_type": "stream",
       "stream": "stdout",
       "text": [
        " \ubbf8\uc6a9\n",
        "\ubd88\ub968 \uc774\ud004\ub77c\uc774\uc800"
       ]
      },
      {
       "output_type": "stream",
       "stream": "stdout",
       "text": [
        " \uc74c\uc545\n",
        "\ubd88\ub968 \uc774\ud004\ub77c\uc774\uc800"
       ]
      },
      {
       "output_type": "stream",
       "stream": "stdout",
       "text": [
        " \ub9ac\ubdf0\n",
        "\ubd88\ub968 \uc774\ud004\ub77c\uc774\uc800"
       ]
      },
      {
       "output_type": "stream",
       "stream": "stdout",
       "text": [
        " \uc5f0\uc608\n",
        "\ubd88\ub968 \uc774\ud004\ub77c\uc774\uc800"
       ]
      },
      {
       "output_type": "stream",
       "stream": "stdout",
       "text": [
        " \uc74c\uc2dd\n",
        "\ubd88\ub968 \uc774\ud004\ub77c\uc774\uc800"
       ]
      },
      {
       "output_type": "stream",
       "stream": "stdout",
       "text": [
        " \uc2a4\ud3ec\uce20\n",
        "\ubd88\ub968 \uc774\ud004\ub77c\uc774\uc800"
       ]
      },
      {
       "output_type": "stream",
       "stream": "stdout",
       "text": [
        " \uac8c\uc784\n",
        "\ubd88\ub968 \uc774\ud004\ub77c\uc774\uc800 \uac74\uac15\n",
        "\ubd88\ub968 \uc774\ud004\ub77c\uc774\uc800"
       ]
      },
      {
       "output_type": "stream",
       "stream": "stdout",
       "text": [
        " \ud559\uc2b5\n",
        "\ubd88\ub968 \uc774\ud004\ub77c\uc774\uc800 \ucee4\ubba4\ub2c8\ud2f0\n",
        "\ubb3c\ub54c\uc640\ub0a0\uc528- \ub09a\uc2dc\uc778\uc744 \uc704\ud55c \uc870\uc11d, \ub0a0\uc528 \uc608\ubcf4"
       ]
      },
      {
       "output_type": "stream",
       "stream": "stdout",
       "text": [
        " \ubbf8\uc6a9\n",
        "\ubb3c\ub54c\uc640\ub0a0\uc528- \ub09a\uc2dc\uc778\uc744 \uc704\ud55c \uc870\uc11d, \ub0a0\uc528 \uc608\ubcf4"
       ]
      },
      {
       "output_type": "stream",
       "stream": "stdout",
       "text": [
        " \uc74c\uc545\n",
        "\ubb3c\ub54c\uc640\ub0a0\uc528- \ub09a\uc2dc\uc778\uc744 \uc704\ud55c \uc870\uc11d, \ub0a0\uc528 \uc608\ubcf4"
       ]
      },
      {
       "output_type": "stream",
       "stream": "stdout",
       "text": [
        " \ub9ac\ubdf0\n",
        "\ubb3c\ub54c\uc640\ub0a0\uc528- \ub09a\uc2dc\uc778\uc744 \uc704\ud55c \uc870\uc11d, \ub0a0\uc528 \uc608\ubcf4"
       ]
      },
      {
       "output_type": "stream",
       "stream": "stdout",
       "text": [
        " \uc5f0\uc608\n",
        "\ubb3c\ub54c\uc640\ub0a0\uc528- \ub09a\uc2dc\uc778\uc744 \uc704\ud55c \uc870\uc11d, \ub0a0\uc528 \uc608\ubcf4"
       ]
      },
      {
       "output_type": "stream",
       "stream": "stdout",
       "text": [
        " \uc74c\uc2dd\n",
        "\ubb3c\ub54c\uc640\ub0a0\uc528- \ub09a\uc2dc\uc778\uc744 \uc704\ud55c \uc870\uc11d, \ub0a0\uc528 \uc608\ubcf4"
       ]
      },
      {
       "output_type": "stream",
       "stream": "stdout",
       "text": [
        " \uc2a4\ud3ec\uce20\n",
        "\ubb3c\ub54c\uc640\ub0a0\uc528- \ub09a\uc2dc\uc778\uc744 \uc704\ud55c \uc870\uc11d, \ub0a0\uc528 \uc608\ubcf4"
       ]
      },
      {
       "output_type": "stream",
       "stream": "stdout",
       "text": [
        " \uac8c\uc784\n",
        "\ubb3c\ub54c\uc640\ub0a0\uc528- \ub09a\uc2dc\uc778\uc744 \uc704\ud55c \uc870\uc11d, \ub0a0\uc528 \uc608\ubcf4"
       ]
      },
      {
       "output_type": "stream",
       "stream": "stdout",
       "text": [
        " \uac74\uac15\n",
        "\ubb3c\ub54c\uc640\ub0a0\uc528- \ub09a\uc2dc\uc778\uc744 \uc704\ud55c \uc870\uc11d, \ub0a0\uc528 \uc608\ubcf4"
       ]
      },
      {
       "output_type": "stream",
       "stream": "stdout",
       "text": [
        " \ud559\uc2b5\n",
        "\ubb3c\ub54c\uc640\ub0a0\uc528- \ub09a\uc2dc\uc778\uc744 \uc704\ud55c \uc870\uc11d, \ub0a0\uc528 \uc608\ubcf4"
       ]
      },
      {
       "output_type": "stream",
       "stream": "stdout",
       "text": [
        " \ucee4\ubba4\ub2c8\ud2f0\n",
        "\uacbd\uae30 \ud559\uad50\ud589\ubcf5\uc9c0\uc218"
       ]
      },
      {
       "output_type": "stream",
       "stream": "stdout",
       "text": [
        " \ubbf8\uc6a9\n",
        "\uacbd\uae30 \ud559\uad50\ud589\ubcf5\uc9c0\uc218 \uc74c\uc545\n",
        "\uacbd\uae30 \ud559\uad50\ud589\ubcf5\uc9c0\uc218"
       ]
      },
      {
       "output_type": "stream",
       "stream": "stdout",
       "text": [
        " \ub9ac\ubdf0\n",
        "\uacbd\uae30 \ud559\uad50\ud589\ubcf5\uc9c0\uc218"
       ]
      },
      {
       "output_type": "stream",
       "stream": "stdout",
       "text": [
        " \uc5f0\uc608\n",
        "\uacbd\uae30 \ud559\uad50\ud589\ubcf5\uc9c0\uc218"
       ]
      },
      {
       "output_type": "stream",
       "stream": "stdout",
       "text": [
        " \uc74c\uc2dd\n",
        "\uacbd\uae30 \ud559\uad50\ud589\ubcf5\uc9c0\uc218"
       ]
      },
      {
       "output_type": "stream",
       "stream": "stdout",
       "text": [
        " \uc2a4\ud3ec\uce20\n",
        "\uacbd\uae30 \ud559\uad50\ud589\ubcf5\uc9c0\uc218"
       ]
      },
      {
       "output_type": "stream",
       "stream": "stdout",
       "text": [
        " \uac8c\uc784\n",
        "\uacbd\uae30 \ud559\uad50\ud589\ubcf5\uc9c0\uc218"
       ]
      },
      {
       "output_type": "stream",
       "stream": "stdout",
       "text": [
        " \uac74\uac15\n",
        "\uacbd\uae30 \ud559\uad50\ud589\ubcf5\uc9c0\uc218"
       ]
      },
      {
       "output_type": "stream",
       "stream": "stdout",
       "text": [
        " \ud559\uc2b5\n",
        "\uacbd\uae30 \ud559\uad50\ud589\ubcf5\uc9c0\uc218"
       ]
      },
      {
       "output_type": "stream",
       "stream": "stdout",
       "text": [
        " \ucee4\ubba4\ub2c8\ud2f0\n",
        "\uafc8\uc758 \uac70\ub9ac \ubbf8\uc6a9\n",
        "\uafc8\uc758 \uac70\ub9ac"
       ]
      },
      {
       "output_type": "stream",
       "stream": "stdout",
       "text": [
        " \uc74c\uc545\n",
        "\uafc8\uc758 \uac70\ub9ac"
       ]
      },
      {
       "output_type": "stream",
       "stream": "stdout",
       "text": [
        " \ub9ac\ubdf0\n",
        "\uafc8\uc758 \uac70\ub9ac"
       ]
      },
      {
       "output_type": "stream",
       "stream": "stdout",
       "text": [
        " \uc5f0\uc608\n",
        "\uafc8\uc758 \uac70\ub9ac"
       ]
      },
      {
       "output_type": "stream",
       "stream": "stdout",
       "text": [
        " \uc74c\uc2dd\n",
        "\uafc8\uc758 \uac70\ub9ac"
       ]
      },
      {
       "output_type": "stream",
       "stream": "stdout",
       "text": [
        " \uc2a4\ud3ec\uce20\n",
        "\uafc8\uc758 \uac70\ub9ac"
       ]
      },
      {
       "output_type": "stream",
       "stream": "stdout",
       "text": [
        " \uac8c\uc784\n",
        "\uafc8\uc758 \uac70\ub9ac"
       ]
      },
      {
       "output_type": "stream",
       "stream": "stdout",
       "text": [
        " \uac74\uac15\n",
        "\uafc8\uc758 \uac70\ub9ac"
       ]
      },
      {
       "output_type": "stream",
       "stream": "stdout",
       "text": [
        " \ud559\uc2b5\n",
        "\uafc8\uc758 \uac70\ub9ac"
       ]
      },
      {
       "output_type": "stream",
       "stream": "stdout",
       "text": [
        " \ucee4\ubba4\ub2c8\ud2f0\n",
        "\uc601\uc6c5 \ud0c8\ucd9c"
       ]
      },
      {
       "output_type": "stream",
       "stream": "stdout",
       "text": [
        " \ubbf8\uc6a9\n",
        "\uc601\uc6c5 \ud0c8\ucd9c"
       ]
      },
      {
       "output_type": "stream",
       "stream": "stdout",
       "text": [
        " \uc74c\uc545\n",
        "\uc601\uc6c5 \ud0c8\ucd9c"
       ]
      },
      {
       "output_type": "stream",
       "stream": "stdout",
       "text": [
        " \ub9ac\ubdf0\n",
        "\uc601\uc6c5 \ud0c8\ucd9c"
       ]
      },
      {
       "output_type": "stream",
       "stream": "stdout",
       "text": [
        " \uc5f0\uc608\n",
        "\uc601\uc6c5 \ud0c8\ucd9c"
       ]
      },
      {
       "output_type": "stream",
       "stream": "stdout",
       "text": [
        " \uc74c\uc2dd\n",
        "\uc601\uc6c5 \ud0c8\ucd9c"
       ]
      },
      {
       "output_type": "stream",
       "stream": "stdout",
       "text": [
        " \uc2a4\ud3ec\uce20\n",
        "\uc601\uc6c5 \ud0c8\ucd9c"
       ]
      },
      {
       "output_type": "stream",
       "stream": "stdout",
       "text": [
        " \uac8c\uc784\n",
        "\uc601\uc6c5 \ud0c8\ucd9c"
       ]
      },
      {
       "output_type": "stream",
       "stream": "stdout",
       "text": [
        " \uac74\uac15\n",
        "\uc601\uc6c5 \ud0c8\ucd9c"
       ]
      },
      {
       "output_type": "stream",
       "stream": "stdout",
       "text": [
        " \ud559\uc2b5\n",
        "\uc601\uc6c5 \ud0c8\ucd9c"
       ]
      },
      {
       "output_type": "stream",
       "stream": "stdout",
       "text": [
        " \ucee4\ubba4\ub2c8\ud2f0\n",
        "Bride and Groom Maker"
       ]
      },
      {
       "output_type": "stream",
       "stream": "stdout",
       "text": [
        " \ubbf8\uc6a9\n",
        "Bride and Groom Maker"
       ]
      },
      {
       "output_type": "stream",
       "stream": "stdout",
       "text": [
        " \uc74c\uc545\n",
        "Bride and Groom Maker"
       ]
      },
      {
       "output_type": "stream",
       "stream": "stdout",
       "text": [
        " \ub9ac\ubdf0\n",
        "Bride and Groom Maker"
       ]
      },
      {
       "output_type": "stream",
       "stream": "stdout",
       "text": [
        " \uc5f0\uc608\n",
        "Bride and Groom Maker"
       ]
      },
      {
       "output_type": "stream",
       "stream": "stdout",
       "text": [
        " \uc74c\uc2dd\n",
        "Bride and Groom Maker"
       ]
      },
      {
       "output_type": "stream",
       "stream": "stdout",
       "text": [
        " \uc2a4\ud3ec\uce20\n",
        "Bride and Groom Maker"
       ]
      },
      {
       "output_type": "stream",
       "stream": "stdout",
       "text": [
        " \uac8c\uc784\n",
        "Bride and Groom Maker"
       ]
      },
      {
       "output_type": "stream",
       "stream": "stdout",
       "text": [
        " \uac74\uac15\n",
        "Bride and Groom Maker"
       ]
      },
      {
       "output_type": "stream",
       "stream": "stdout",
       "text": [
        " \ud559\uc2b5\n",
        "Bride and Groom Maker"
       ]
      },
      {
       "output_type": "stream",
       "stream": "stdout",
       "text": [
        " \ucee4\ubba4\ub2c8\ud2f0\n",
        "Virtual Piano"
       ]
      },
      {
       "output_type": "stream",
       "stream": "stdout",
       "text": [
        " \ubbf8\uc6a9\n",
        "Virtual Piano"
       ]
      },
      {
       "output_type": "stream",
       "stream": "stdout",
       "text": [
        " \uc74c\uc545\n",
        "Virtual Piano"
       ]
      },
      {
       "output_type": "stream",
       "stream": "stdout",
       "text": [
        " \ub9ac\ubdf0\n",
        "Virtual Piano"
       ]
      },
      {
       "output_type": "stream",
       "stream": "stdout",
       "text": [
        " \uc5f0\uc608\n",
        "Virtual Piano"
       ]
      },
      {
       "output_type": "stream",
       "stream": "stdout",
       "text": [
        " \uc74c\uc2dd\n",
        "Virtual Piano"
       ]
      },
      {
       "output_type": "stream",
       "stream": "stdout",
       "text": [
        " \uc2a4\ud3ec\uce20\n",
        "Virtual Piano"
       ]
      },
      {
       "output_type": "stream",
       "stream": "stdout",
       "text": [
        " \uac8c\uc784\n",
        "Virtual Piano"
       ]
      },
      {
       "output_type": "stream",
       "stream": "stdout",
       "text": [
        " \uac74\uac15\n",
        "Virtual Piano"
       ]
      },
      {
       "output_type": "stream",
       "stream": "stdout",
       "text": [
        " \ud559\uc2b5\n",
        "Virtual Piano"
       ]
      },
      {
       "output_type": "stream",
       "stream": "stdout",
       "text": [
        " \ucee4\ubba4\ub2c8\ud2f0\n",
        "Color Touch"
       ]
      },
      {
       "output_type": "stream",
       "stream": "stdout",
       "text": [
        " \ubbf8\uc6a9\n",
        "Color Touch"
       ]
      },
      {
       "output_type": "stream",
       "stream": "stdout",
       "text": [
        " \uc74c\uc545\n",
        "Color Touch"
       ]
      },
      {
       "output_type": "stream",
       "stream": "stdout",
       "text": [
        " \ub9ac\ubdf0\n",
        "Color Touch"
       ]
      },
      {
       "output_type": "stream",
       "stream": "stdout",
       "text": [
        " \uc5f0\uc608\n",
        "Color Touch"
       ]
      },
      {
       "output_type": "stream",
       "stream": "stdout",
       "text": [
        " \uc74c\uc2dd\n",
        "Color Touch"
       ]
      },
      {
       "output_type": "stream",
       "stream": "stdout",
       "text": [
        " \uc2a4\ud3ec\uce20\n",
        "Color Touch"
       ]
      },
      {
       "output_type": "stream",
       "stream": "stdout",
       "text": [
        " \uac8c\uc784\n",
        "Color Touch"
       ]
      },
      {
       "output_type": "stream",
       "stream": "stdout",
       "text": [
        " \uac74\uac15\n",
        "Color Touch"
       ]
      },
      {
       "output_type": "stream",
       "stream": "stdout",
       "text": [
        " \ud559\uc2b5\n",
        "Color Touch"
       ]
      },
      {
       "output_type": "stream",
       "stream": "stdout",
       "text": [
        " \ucee4\ubba4\ub2c8\ud2f0\n",
        "B1A4 \ud50c\ub808\uc774\uc5b4[\ucd5c\uc2e0\uc568\ubc94\uc74c\uc545\ubb34\ub8cc/\uc2a4\ud0c0\uc0ac\uc9c4/\uc601\ud654OST]"
       ]
      },
      {
       "output_type": "stream",
       "stream": "stdout",
       "text": [
        " \ubbf8\uc6a9\n",
        "B1A4 \ud50c\ub808\uc774\uc5b4[\ucd5c\uc2e0\uc568\ubc94\uc74c\uc545\ubb34\ub8cc/\uc2a4\ud0c0\uc0ac\uc9c4/\uc601\ud654OST] \uc74c\uc545\n",
        "B1A4 \ud50c\ub808\uc774\uc5b4[\ucd5c\uc2e0\uc568\ubc94\uc74c\uc545\ubb34\ub8cc/\uc2a4\ud0c0\uc0ac\uc9c4/\uc601\ud654OST]"
       ]
      },
      {
       "output_type": "stream",
       "stream": "stdout",
       "text": [
        " \ub9ac\ubdf0\n",
        "B1A4 \ud50c\ub808\uc774\uc5b4[\ucd5c\uc2e0\uc568\ubc94\uc74c\uc545\ubb34\ub8cc/\uc2a4\ud0c0\uc0ac\uc9c4/\uc601\ud654OST]"
       ]
      },
      {
       "output_type": "stream",
       "stream": "stdout",
       "text": [
        " \uc5f0\uc608\n",
        "B1A4 \ud50c\ub808\uc774\uc5b4[\ucd5c\uc2e0\uc568\ubc94\uc74c\uc545\ubb34\ub8cc/\uc2a4\ud0c0\uc0ac\uc9c4/\uc601\ud654OST]"
       ]
      },
      {
       "output_type": "stream",
       "stream": "stdout",
       "text": [
        " \uc74c\uc2dd\n",
        "B1A4 \ud50c\ub808\uc774\uc5b4[\ucd5c\uc2e0\uc568\ubc94\uc74c\uc545\ubb34\ub8cc/\uc2a4\ud0c0\uc0ac\uc9c4/\uc601\ud654OST]"
       ]
      },
      {
       "output_type": "stream",
       "stream": "stdout",
       "text": [
        " \uc2a4\ud3ec\uce20\n",
        "B1A4 \ud50c\ub808\uc774\uc5b4[\ucd5c\uc2e0\uc568\ubc94\uc74c\uc545\ubb34\ub8cc/\uc2a4\ud0c0\uc0ac\uc9c4/\uc601\ud654OST]"
       ]
      },
      {
       "output_type": "stream",
       "stream": "stdout",
       "text": [
        " \uac8c\uc784\n",
        "B1A4 \ud50c\ub808\uc774\uc5b4[\ucd5c\uc2e0\uc568\ubc94\uc74c\uc545\ubb34\ub8cc/\uc2a4\ud0c0\uc0ac\uc9c4/\uc601\ud654OST] \uac74\uac15\n",
        "B1A4 \ud50c\ub808\uc774\uc5b4[\ucd5c\uc2e0\uc568\ubc94\uc74c\uc545\ubb34\ub8cc/\uc2a4\ud0c0\uc0ac\uc9c4/\uc601\ud654OST]"
       ]
      },
      {
       "output_type": "stream",
       "stream": "stdout",
       "text": [
        " \ud559\uc2b5\n",
        "B1A4 \ud50c\ub808\uc774\uc5b4[\ucd5c\uc2e0\uc568\ubc94\uc74c\uc545\ubb34\ub8cc/\uc2a4\ud0c0\uc0ac\uc9c4/\uc601\ud654OST]"
       ]
      },
      {
       "output_type": "stream",
       "stream": "stdout",
       "text": [
        " \ucee4\ubba4\ub2c8\ud2f0\n",
        "Music Player for Android \ubbf8\uc6a9\n",
        "Music Player for Android"
       ]
      },
      {
       "output_type": "stream",
       "stream": "stdout",
       "text": [
        " \uc74c\uc545\n",
        "Music Player for Android"
       ]
      },
      {
       "output_type": "stream",
       "stream": "stdout",
       "text": [
        " \ub9ac\ubdf0\n",
        "Music Player for Android"
       ]
      },
      {
       "output_type": "stream",
       "stream": "stdout",
       "text": [
        " \uc5f0\uc608\n",
        "Music Player for Android"
       ]
      },
      {
       "output_type": "stream",
       "stream": "stdout",
       "text": [
        " \uc74c\uc2dd\n",
        "Music Player for Android \uc2a4\ud3ec\uce20\n",
        "Music Player for Android"
       ]
      },
      {
       "output_type": "stream",
       "stream": "stdout",
       "text": [
        " \uac8c\uc784\n",
        "Music Player for Android"
       ]
      },
      {
       "output_type": "stream",
       "stream": "stdout",
       "text": [
        " \uac74\uac15\n",
        "Music Player for Android"
       ]
      },
      {
       "output_type": "stream",
       "stream": "stdout",
       "text": [
        " \ud559\uc2b5\n",
        "Music Player for Android \ucee4\ubba4\ub2c8\ud2f0\n",
        "\u0633\u0648\u0631\u0629 \u062a\u0628\u0627\u0631\u0643 \u0642\u0631\u0627\u0621\u0629 \u0648\u0625\u0633\u062a\u0645\u0627\u0639"
       ]
      },
      {
       "output_type": "stream",
       "stream": "stdout",
       "text": [
        " \ubbf8\uc6a9\n",
        "\u0633\u0648\u0631\u0629 \u062a\u0628\u0627\u0631\u0643 \u0642\u0631\u0627\u0621\u0629 \u0648\u0625\u0633\u062a\u0645\u0627\u0639"
       ]
      },
      {
       "output_type": "stream",
       "stream": "stdout",
       "text": [
        " \uc74c\uc545\n",
        "\u0633\u0648\u0631\u0629 \u062a\u0628\u0627\u0631\u0643 \u0642\u0631\u0627\u0621\u0629 \u0648\u0625\u0633\u062a\u0645\u0627\u0639"
       ]
      },
      {
       "output_type": "stream",
       "stream": "stdout",
       "text": [
        " \ub9ac\ubdf0\n",
        "\u0633\u0648\u0631\u0629 \u062a\u0628\u0627\u0631\u0643 \u0642\u0631\u0627\u0621\u0629 \u0648\u0625\u0633\u062a\u0645\u0627\u0639"
       ]
      },
      {
       "output_type": "stream",
       "stream": "stdout",
       "text": [
        " \uc5f0\uc608\n",
        "\u0633\u0648\u0631\u0629 \u062a\u0628\u0627\u0631\u0643 \u0642\u0631\u0627\u0621\u0629 \u0648\u0625\u0633\u062a\u0645\u0627\u0639 \uc74c\uc2dd\n",
        "\u0633\u0648\u0631\u0629 \u062a\u0628\u0627\u0631\u0643 \u0642\u0631\u0627\u0621\u0629 \u0648\u0625\u0633\u062a\u0645\u0627\u0639"
       ]
      },
      {
       "output_type": "stream",
       "stream": "stdout",
       "text": [
        " \uc2a4\ud3ec\uce20\n",
        "\u0633\u0648\u0631\u0629 \u062a\u0628\u0627\u0631\u0643 \u0642\u0631\u0627\u0621\u0629 \u0648\u0625\u0633\u062a\u0645\u0627\u0639 \uac8c\uc784\n",
        "\u0633\u0648\u0631\u0629 \u062a\u0628\u0627\u0631\u0643 \u0642\u0631\u0627\u0621\u0629 \u0648\u0625\u0633\u062a\u0645\u0627\u0639"
       ]
      },
      {
       "output_type": "stream",
       "stream": "stdout",
       "text": [
        " \uac74\uac15\n",
        "\u0633\u0648\u0631\u0629 \u062a\u0628\u0627\u0631\u0643 \u0642\u0631\u0627\u0621\u0629 \u0648\u0625\u0633\u062a\u0645\u0627\u0639"
       ]
      },
      {
       "output_type": "stream",
       "stream": "stdout",
       "text": [
        " \ud559\uc2b5\n",
        "\u0633\u0648\u0631\u0629 \u062a\u0628\u0627\u0631\u0643 \u0642\u0631\u0627\u0621\u0629 \u0648\u0625\u0633\u062a\u0645\u0627\u0639"
       ]
      },
      {
       "output_type": "stream",
       "stream": "stdout",
       "text": [
        " \ucee4\ubba4\ub2c8\ud2f0\n",
        "Foosball 3D"
       ]
      },
      {
       "output_type": "stream",
       "stream": "stdout",
       "text": [
        " \ubbf8\uc6a9\n",
        "Foosball 3D \uc74c\uc545\n",
        "Foosball 3D"
       ]
      },
      {
       "output_type": "stream",
       "stream": "stdout",
       "text": [
        " \ub9ac\ubdf0\n",
        "Foosball 3D"
       ]
      },
      {
       "output_type": "stream",
       "stream": "stdout",
       "text": [
        " \uc5f0\uc608\n",
        "Foosball 3D"
       ]
      },
      {
       "output_type": "stream",
       "stream": "stdout",
       "text": [
        " \uc74c\uc2dd\n",
        "Foosball 3D"
       ]
      },
      {
       "output_type": "stream",
       "stream": "stdout",
       "text": [
        " \uc2a4\ud3ec\uce20\n",
        "Foosball 3D"
       ]
      },
      {
       "output_type": "stream",
       "stream": "stdout",
       "text": [
        " \uac8c\uc784\n",
        "Foosball 3D"
       ]
      },
      {
       "output_type": "stream",
       "stream": "stdout",
       "text": [
        " \uac74\uac15\n",
        "Foosball 3D"
       ]
      },
      {
       "output_type": "stream",
       "stream": "stdout",
       "text": [
        " \ud559\uc2b5\n",
        "Foosball 3D"
       ]
      },
      {
       "output_type": "stream",
       "stream": "stdout",
       "text": [
        " \ucee4\ubba4\ub2c8\ud2f0\n",
        "Cupcake Maker"
       ]
      },
      {
       "output_type": "stream",
       "stream": "stdout",
       "text": [
        " \ubbf8\uc6a9\n",
        "Cupcake Maker"
       ]
      },
      {
       "output_type": "stream",
       "stream": "stdout",
       "text": [
        " \uc74c\uc545\n",
        "Cupcake Maker"
       ]
      },
      {
       "output_type": "stream",
       "stream": "stdout",
       "text": [
        " \ub9ac\ubdf0\n",
        "Cupcake Maker \uc5f0\uc608\n",
        "Cupcake Maker"
       ]
      },
      {
       "output_type": "stream",
       "stream": "stdout",
       "text": [
        " \uc74c\uc2dd\n",
        "Cupcake Maker \uc2a4\ud3ec\uce20\n",
        "Cupcake Maker"
       ]
      },
      {
       "output_type": "stream",
       "stream": "stdout",
       "text": [
        " \uac8c\uc784\n",
        "Cupcake Maker \uac74\uac15\n",
        "Cupcake Maker"
       ]
      },
      {
       "output_type": "stream",
       "stream": "stdout",
       "text": [
        " \ud559\uc2b5\n",
        "Cupcake Maker \ucee4\ubba4\ub2c8\ud2f0\n",
        "Hobbit life"
       ]
      },
      {
       "output_type": "stream",
       "stream": "stdout",
       "text": [
        " \ubbf8\uc6a9\n",
        "Hobbit life"
       ]
      },
      {
       "output_type": "stream",
       "stream": "stdout",
       "text": [
        " \uc74c\uc545\n",
        "Hobbit life"
       ]
      },
      {
       "output_type": "stream",
       "stream": "stdout",
       "text": [
        " \ub9ac\ubdf0\n",
        "Hobbit life"
       ]
      },
      {
       "output_type": "stream",
       "stream": "stdout",
       "text": [
        " \uc5f0\uc608\n",
        "Hobbit life"
       ]
      },
      {
       "output_type": "stream",
       "stream": "stdout",
       "text": [
        " \uc74c\uc2dd\n",
        "Hobbit life"
       ]
      },
      {
       "output_type": "stream",
       "stream": "stdout",
       "text": [
        " \uc2a4\ud3ec\uce20\n",
        "Hobbit life"
       ]
      },
      {
       "output_type": "stream",
       "stream": "stdout",
       "text": [
        " \uac8c\uc784\n",
        "Hobbit life"
       ]
      },
      {
       "output_type": "stream",
       "stream": "stdout",
       "text": [
        " \uac74\uac15\n",
        "Hobbit life"
       ]
      },
      {
       "output_type": "stream",
       "stream": "stdout",
       "text": [
        " \ud559\uc2b5\n",
        "Hobbit life \ucee4\ubba4\ub2c8\ud2f0\n",
        "\ud55c\uad6d\uacbd\uc81cTV"
       ]
      },
      {
       "output_type": "stream",
       "stream": "stdout",
       "text": [
        " \ubbf8\uc6a9\n",
        "\ud55c\uad6d\uacbd\uc81cTV"
       ]
      },
      {
       "output_type": "stream",
       "stream": "stdout",
       "text": [
        " \uc74c\uc545\n",
        "\ud55c\uad6d\uacbd\uc81cTV"
       ]
      },
      {
       "output_type": "stream",
       "stream": "stdout",
       "text": [
        " \ub9ac\ubdf0\n",
        "\ud55c\uad6d\uacbd\uc81cTV"
       ]
      },
      {
       "output_type": "stream",
       "stream": "stdout",
       "text": [
        " \uc5f0\uc608\n",
        "\ud55c\uad6d\uacbd\uc81cTV"
       ]
      },
      {
       "output_type": "stream",
       "stream": "stdout",
       "text": [
        " \uc74c\uc2dd\n",
        "\ud55c\uad6d\uacbd\uc81cTV"
       ]
      },
      {
       "output_type": "stream",
       "stream": "stdout",
       "text": [
        " \uc2a4\ud3ec\uce20\n",
        "\ud55c\uad6d\uacbd\uc81cTV"
       ]
      },
      {
       "output_type": "stream",
       "stream": "stdout",
       "text": [
        " \uac8c\uc784\n",
        "\ud55c\uad6d\uacbd\uc81cTV"
       ]
      },
      {
       "output_type": "stream",
       "stream": "stdout",
       "text": [
        " \uac74\uac15\n",
        "\ud55c\uad6d\uacbd\uc81cTV"
       ]
      },
      {
       "output_type": "stream",
       "stream": "stdout",
       "text": [
        " \ud559\uc2b5\n",
        "\ud55c\uad6d\uacbd\uc81cTV"
       ]
      },
      {
       "output_type": "stream",
       "stream": "stdout",
       "text": [
        " \ucee4\ubba4\ub2c8\ud2f0\n",
        "SMS \ubca8\uc18c\ub9ac \ud504\ub85c"
       ]
      },
      {
       "output_type": "stream",
       "stream": "stdout",
       "text": [
        " \ubbf8\uc6a9\n",
        "SMS \ubca8\uc18c\ub9ac \ud504\ub85c \uc74c\uc545\n",
        "SMS \ubca8\uc18c\ub9ac \ud504\ub85c"
       ]
      },
      {
       "output_type": "stream",
       "stream": "stdout",
       "text": [
        " \ub9ac\ubdf0\n",
        "SMS \ubca8\uc18c\ub9ac \ud504\ub85c"
       ]
      },
      {
       "output_type": "stream",
       "stream": "stdout",
       "text": [
        " \uc5f0\uc608\n",
        "SMS \ubca8\uc18c\ub9ac \ud504\ub85c \uc74c\uc2dd\n",
        "SMS \ubca8\uc18c\ub9ac \ud504\ub85c"
       ]
      },
      {
       "output_type": "stream",
       "stream": "stdout",
       "text": [
        " \uc2a4\ud3ec\uce20\n",
        "SMS \ubca8\uc18c\ub9ac \ud504\ub85c"
       ]
      },
      {
       "output_type": "stream",
       "stream": "stdout",
       "text": [
        " \uac8c\uc784\n",
        "SMS \ubca8\uc18c\ub9ac \ud504\ub85c"
       ]
      },
      {
       "output_type": "stream",
       "stream": "stdout",
       "text": [
        " \uac74\uac15\n",
        "SMS \ubca8\uc18c\ub9ac \ud504\ub85c"
       ]
      },
      {
       "output_type": "stream",
       "stream": "stdout",
       "text": [
        " \ud559\uc2b5\n",
        "SMS \ubca8\uc18c\ub9ac \ud504\ub85c"
       ]
      },
      {
       "output_type": "stream",
       "stream": "stdout",
       "text": [
        " \ucee4\ubba4\ub2c8\ud2f0\n",
        "MIX Images...\"Photo and me\""
       ]
      },
      {
       "output_type": "stream",
       "stream": "stdout",
       "text": [
        " \ubbf8\uc6a9\n",
        "MIX Images...\"Photo and me\""
       ]
      },
      {
       "output_type": "stream",
       "stream": "stdout",
       "text": [
        " \uc74c\uc545\n",
        "MIX Images...\"Photo and me\""
       ]
      },
      {
       "output_type": "stream",
       "stream": "stdout",
       "text": [
        " \ub9ac\ubdf0\n",
        "MIX Images...\"Photo and me\""
       ]
      },
      {
       "output_type": "stream",
       "stream": "stdout",
       "text": [
        " \uc5f0\uc608\n",
        "MIX Images...\"Photo and me\""
       ]
      },
      {
       "output_type": "stream",
       "stream": "stdout",
       "text": [
        " \uc74c\uc2dd\n",
        "MIX Images...\"Photo and me\""
       ]
      },
      {
       "output_type": "stream",
       "stream": "stdout",
       "text": [
        " \uc2a4\ud3ec\uce20\n",
        "MIX Images...\"Photo and me\""
       ]
      },
      {
       "output_type": "stream",
       "stream": "stdout",
       "text": [
        " \uac8c\uc784\n",
        "MIX Images...\"Photo and me\""
       ]
      },
      {
       "output_type": "stream",
       "stream": "stdout",
       "text": [
        " \uac74\uac15\n",
        "MIX Images...\"Photo and me\""
       ]
      },
      {
       "output_type": "stream",
       "stream": "stdout",
       "text": [
        " \ud559\uc2b5\n",
        "MIX Images...\"Photo and me\""
       ]
      },
      {
       "output_type": "stream",
       "stream": "stdout",
       "text": [
        " \ucee4\ubba4\ub2c8\ud2f0\n",
        "\u0637\u0631\u0642 \u062d\u0641\u0638 \u0627\u0644\u0642\u0631\u0622\u0646 \u0627\u0644\u0643\u0631\u064a\u0645"
       ]
      },
      {
       "output_type": "stream",
       "stream": "stdout",
       "text": [
        " \ubbf8\uc6a9\n",
        "\u0637\u0631\u0642 \u062d\u0641\u0638 \u0627\u0644\u0642\u0631\u0622\u0646 \u0627\u0644\u0643\u0631\u064a\u0645"
       ]
      },
      {
       "output_type": "stream",
       "stream": "stdout",
       "text": [
        " \uc74c\uc545\n",
        "\u0637\u0631\u0642 \u062d\u0641\u0638 \u0627\u0644\u0642\u0631\u0622\u0646 \u0627\u0644\u0643\u0631\u064a\u0645"
       ]
      },
      {
       "output_type": "stream",
       "stream": "stdout",
       "text": [
        " \ub9ac\ubdf0\n",
        "\u0637\u0631\u0642 \u062d\u0641\u0638 \u0627\u0644\u0642\u0631\u0622\u0646 \u0627\u0644\u0643\u0631\u064a\u0645"
       ]
      },
      {
       "output_type": "stream",
       "stream": "stdout",
       "text": [
        " \uc5f0\uc608\n",
        "\u0637\u0631\u0642 \u062d\u0641\u0638 \u0627\u0644\u0642\u0631\u0622\u0646 \u0627\u0644\u0643\u0631\u064a\u0645"
       ]
      },
      {
       "output_type": "stream",
       "stream": "stdout",
       "text": [
        " \uc74c\uc2dd\n",
        "\u0637\u0631\u0642 \u062d\u0641\u0638 \u0627\u0644\u0642\u0631\u0622\u0646 \u0627\u0644\u0643\u0631\u064a\u0645"
       ]
      },
      {
       "output_type": "stream",
       "stream": "stdout",
       "text": [
        " \uc2a4\ud3ec\uce20\n",
        "\u0637\u0631\u0642 \u062d\u0641\u0638 \u0627\u0644\u0642\u0631\u0622\u0646 \u0627\u0644\u0643\u0631\u064a\u0645"
       ]
      },
      {
       "output_type": "stream",
       "stream": "stdout",
       "text": [
        " \uac8c\uc784\n",
        "\u0637\u0631\u0642 \u062d\u0641\u0638 \u0627\u0644\u0642\u0631\u0622\u0646 \u0627\u0644\u0643\u0631\u064a\u0645"
       ]
      },
      {
       "output_type": "stream",
       "stream": "stdout",
       "text": [
        " \uac74\uac15\n",
        "\u0637\u0631\u0642 \u062d\u0641\u0638 \u0627\u0644\u0642\u0631\u0622\u0646 \u0627\u0644\u0643\u0631\u064a\u0645"
       ]
      },
      {
       "output_type": "stream",
       "stream": "stdout",
       "text": [
        " \ud559\uc2b5\n",
        "\u0637\u0631\u0642 \u062d\u0641\u0638 \u0627\u0644\u0642\u0631\u0622\u0646 \u0627\u0644\u0643\u0631\u064a\u0645"
       ]
      },
      {
       "output_type": "stream",
       "stream": "stdout",
       "text": [
        " \ucee4\ubba4\ub2c8\ud2f0\n",
        "\ube44\ub514\uc624 \ucc44\ud305"
       ]
      },
      {
       "output_type": "stream",
       "stream": "stdout",
       "text": [
        " \ubbf8\uc6a9\n",
        "\ube44\ub514\uc624 \ucc44\ud305"
       ]
      },
      {
       "output_type": "stream",
       "stream": "stdout",
       "text": [
        " \uc74c\uc545\n",
        "\ube44\ub514\uc624 \ucc44\ud305"
       ]
      },
      {
       "output_type": "stream",
       "stream": "stdout",
       "text": [
        " \ub9ac\ubdf0\n",
        "\ube44\ub514\uc624 \ucc44\ud305"
       ]
      },
      {
       "output_type": "stream",
       "stream": "stdout",
       "text": [
        " \uc5f0\uc608\n",
        "\ube44\ub514\uc624 \ucc44\ud305"
       ]
      },
      {
       "output_type": "stream",
       "stream": "stdout",
       "text": [
        " \uc74c\uc2dd\n",
        "\ube44\ub514\uc624 \ucc44\ud305"
       ]
      },
      {
       "output_type": "stream",
       "stream": "stdout",
       "text": [
        " \uc2a4\ud3ec\uce20\n",
        "\ube44\ub514\uc624 \ucc44\ud305"
       ]
      },
      {
       "output_type": "stream",
       "stream": "stdout",
       "text": [
        " \uac8c\uc784\n",
        "\ube44\ub514\uc624 \ucc44\ud305"
       ]
      },
      {
       "output_type": "stream",
       "stream": "stdout",
       "text": [
        " \uac74\uac15\n",
        "\ube44\ub514\uc624 \ucc44\ud305"
       ]
      },
      {
       "output_type": "stream",
       "stream": "stdout",
       "text": [
        " \ud559\uc2b5\n",
        "\ube44\ub514\uc624 \ucc44\ud305"
       ]
      },
      {
       "output_type": "stream",
       "stream": "stdout",
       "text": [
        " \ucee4\ubba4\ub2c8\ud2f0\n",
        "\uad11\uac1c\ud1a0\ud0dc\uc655"
       ]
      },
      {
       "output_type": "stream",
       "stream": "stdout",
       "text": [
        " \ubbf8\uc6a9\n",
        "\uad11\uac1c\ud1a0\ud0dc\uc655"
       ]
      },
      {
       "output_type": "stream",
       "stream": "stdout",
       "text": [
        " \uc74c\uc545\n",
        "\uad11\uac1c\ud1a0\ud0dc\uc655"
       ]
      },
      {
       "output_type": "stream",
       "stream": "stdout",
       "text": [
        " \ub9ac\ubdf0\n",
        "\uad11\uac1c\ud1a0\ud0dc\uc655"
       ]
      },
      {
       "output_type": "stream",
       "stream": "stdout",
       "text": [
        " \uc5f0\uc608\n",
        "\uad11\uac1c\ud1a0\ud0dc\uc655"
       ]
      },
      {
       "output_type": "stream",
       "stream": "stdout",
       "text": [
        " \uc74c\uc2dd\n",
        "\uad11\uac1c\ud1a0\ud0dc\uc655"
       ]
      },
      {
       "output_type": "stream",
       "stream": "stdout",
       "text": [
        " \uc2a4\ud3ec\uce20\n",
        "\uad11\uac1c\ud1a0\ud0dc\uc655"
       ]
      },
      {
       "output_type": "stream",
       "stream": "stdout",
       "text": [
        " \uac8c\uc784\n",
        "\uad11\uac1c\ud1a0\ud0dc\uc655"
       ]
      },
      {
       "output_type": "stream",
       "stream": "stdout",
       "text": [
        " \uac74\uac15\n",
        "\uad11\uac1c\ud1a0\ud0dc\uc655"
       ]
      },
      {
       "output_type": "stream",
       "stream": "stdout",
       "text": [
        " \ud559\uc2b5\n",
        "\uad11\uac1c\ud1a0\ud0dc\uc655"
       ]
      },
      {
       "output_type": "stream",
       "stream": "stdout",
       "text": [
        " \ucee4\ubba4\ub2c8\ud2f0\n"
       ]
      }
     ],
     "prompt_number": 119
    },
    {
     "cell_type": "code",
     "collapsed": false,
     "input": [
      "df.keys()"
     ],
     "language": "python",
     "metadata": {},
     "outputs": [
      {
       "output_type": "pyout",
       "prompt_number": 20,
       "text": [
        "Index([\ubbf8\uc6a9, \uc74c\uc545, \ub9ac\ubdf0, \uc5f0\uc608, \uc74c\uc2dd, \uc2a4\ud3ec\uce20, \uac8c\uc784, \uac74\uac15, \ud559\uc2b5, \ucee4\ubba4\ub2c8\ud2f0], dtype=object)"
       ]
      }
     ],
     "prompt_number": 20
    },
    {
     "cell_type": "code",
     "collapsed": false,
     "input": [
      "a  = df.iterrows()"
     ],
     "language": "python",
     "metadata": {},
     "outputs": [],
     "prompt_number": 33
    },
    {
     "cell_type": "code",
     "collapsed": false,
     "input": [],
     "language": "python",
     "metadata": {},
     "outputs": [],
     "prompt_number": 74
    },
    {
     "cell_type": "code",
     "collapsed": false,
     "input": [],
     "language": "python",
     "metadata": {},
     "outputs": []
    },
    {
     "cell_type": "code",
     "collapsed": false,
     "input": [],
     "language": "python",
     "metadata": {},
     "outputs": [],
     "prompt_number": 119
    },
    {
     "cell_type": "code",
     "collapsed": false,
     "input": [
      "from sklearn.decomposition import PCA\n",
      "for i, app in enumerate(df.index[10]):\n",
      "    print X = np.array((i, app))\n",
      "    \n",
      "#Xa = X.toarray()  # PCA\ub294 (n_sample, n_feature) \ubaa8\uc591\uc744 \uc9c0\uc6d0\ud558\uc9c0 \uc54a\ub294 \ubaa8\uc591.\n",
      "\n",
      "pca = PCA(n_components=2, whiten=True)\n",
      "pca.fit(df)\n",
      "x2 = pca.transform(df)\n",
      "\n",
      "#y2 = array([l-1 for l in y.astype(int)])\n",
      "\n",
      "print x2.shape, y2.shape"
     ],
     "language": "python",
     "metadata": {},
     "outputs": [
      {
       "ename": "SyntaxError",
       "evalue": "invalid syntax (<ipython-input-169-b2e191f36bcb>, line 3)",
       "output_type": "pyerr",
       "traceback": [
        "\u001b[0;36m  File \u001b[0;32m\"<ipython-input-169-b2e191f36bcb>\"\u001b[0;36m, line \u001b[0;32m3\u001b[0m\n\u001b[0;31m    print X = np.array((i, app))\u001b[0m\n\u001b[0m            ^\u001b[0m\n\u001b[0;31mSyntaxError\u001b[0m\u001b[0;31m:\u001b[0m invalid syntax\n"
       ]
      }
     ],
     "prompt_number": 169
    },
    {
     "cell_type": "code",
     "collapsed": false,
     "input": [
      "from sklearn.cluster import KMeans, DBSCAN\n",
      "from numpy.random import RandomState\n",
      "from sklearn.decomposition import PCA\n",
      "import pylab as pl\n",
      "from itertools import cycle\n",
      "from sklearn.datasets import load_svmlight_file\n",
      "# from adme_rpc.src._db import _ADME_DB\n",
      "\n",
      "import pylab as pl\n",
      "def plot_2D(data, target, target_names):\n",
      "    colors = cycle('rgbcmykw')\n",
      "    target_ids = range(len(target_names))\n",
      "    pl.figure()\n",
      "    for i, c, label in zip(target_ids, colors, target_names):\n",
      "        pl.scatter(data[target == i, 0], data[target == i, 1],\n",
      "                   c=c, label=label)\n",
      "    pl.legend()"
     ],
     "language": "python",
     "metadata": {},
     "outputs": [],
     "prompt_number": 76
    },
    {
     "cell_type": "code",
     "collapsed": false,
     "input": [
      "X2 = df\n",
      "pca = PCA(n_components=2, whiten=True).fit(X2)\n",
      "X_pca = pca.transform(X2)\n",
      "\n",
      "rng = RandomState(42)\n",
      "\n",
      "kmeans = KMeans(n_clusters=5, random_state=rng)\n",
      "kmeans.fit(X_pca)\n",
      "plot_2D(X_pca, kmeans.labels_, [\"c0\", \"c1\",\"c2\",\"c3\",\"c4\",\"c5\"])  \n",
      "kmeans.k\n",
      "\n",
      "#plot_2D(X_pca, kmeans.labels_, [\"c0\", \"c1\", \"c3\"])  "
     ],
     "language": "python",
     "metadata": {},
     "outputs": [],
     "prompt_number": 171
    },
    {
     "cell_type": "code",
     "collapsed": false,
     "input": [
      "print (kmeans.cluster_centers_, kmeans.get_params())"
     ],
     "language": "python",
     "metadata": {},
     "outputs": [
      {
       "output_type": "stream",
       "stream": "stdout",
       "text": [
        "(array([[-0.44659852, -0.01731194],\n",
        "       [ 2.33210791, -2.21192245],\n",
        "       [ 2.0391355 ,  2.22439259]]), {'n_jobs': 1, 'verbose': 0, 'n_clusters': 3, 'k': None, 'max_iter': 300, 'init': 'k-means++', 'random_state': <mtrand.RandomState object at 0x1079e1f78>, 'n_init': 10, 'tol': 0.0001, 'precompute_distances': True, 'copy_x': True})\n"
       ]
      }
     ],
     "prompt_number": 97
    },
    {
     "cell_type": "code",
     "collapsed": false,
     "input": [
      "df.keys()"
     ],
     "language": "python",
     "metadata": {},
     "outputs": [
      {
       "output_type": "pyout",
       "prompt_number": 122,
       "text": [
        "Index([\ubbf8\uc6a9, \uc74c\uc545, \ub9ac\ubdf0, \uc5f0\uc608, \uc74c\uc2dd, \uc2a4\ud3ec\uce20, \uac8c\uc784, \uac74\uac15, \ud559\uc2b5, \ucee4\ubba4\ub2c8\ud2f0], dtype=object)"
       ]
      }
     ],
     "prompt_number": 122
    },
    {
     "cell_type": "code",
     "collapsed": false,
     "input": [
      "a = []\n"
     ],
     "language": "python",
     "metadata": {},
     "outputs": [],
     "prompt_number": 152
    },
    {
     "cell_type": "code",
     "collapsed": false,
     "input": [
      "for i, ddf in enumerate(kmeans.fit_predict(df)):\n",
      "    if kmeans.predict(df.ix[df.index[i]]) == 0:\n",
      "        a.append(i)\n",
      "        print df.ix[df.index[i]]\n",
      "    else:\n",
      "        pass\n",
      "    "
     ],
     "language": "python",
     "metadata": {},
     "outputs": [
      {
       "output_type": "stream",
       "stream": "stdout",
       "text": [
        "\ubbf8\uc6a9      5.097007\n",
        "\uc74c\uc545      0.725972\n",
        "\ub9ac\ubdf0      5.456478\n",
        "\uc5f0\uc608      8.854525\n",
        "\uc74c\uc2dd      8.891522\n",
        "\uc2a4\ud3ec\uce20     9.083575\n",
        "\uac8c\uc784     -1.752449\n",
        "\uac74\uac15      5.509682\n",
        "\ud559\uc2b5      7.726568\n",
        "\ucee4\ubba4\ub2c8\ud2f0    6.366225\n",
        "Name: \ubc30\ud2c0\uc544\ub808\ub098(BattleArena), dtype: float64\n",
        "\ubbf8\uc6a9       6.880165\n",
        "\uc74c\uc545      -1.443033\n",
        "\ub9ac\ubdf0       0.239636\n",
        "\uc5f0\uc608      10.637682\n",
        "\uc74c\uc2dd      10.674680\n",
        "\uc2a4\ud3ec\uce20     10.866732\n",
        "\uac8c\uc784       1.072102\n",
        "\uac74\uac15       7.292840\n",
        "\ud559\uc2b5       9.509726\n",
        "\ucee4\ubba4\ub2c8\ud2f0     8.149383\n",
        "Name: Scarface, dtype: float64\n",
        "\ubbf8\uc6a9      -0.802323\n",
        "\uc74c\uc545       1.525613\n",
        "\ub9ac\ubdf0      -1.698124\n",
        "\uc5f0\uc608       9.955195\n",
        "\uc74c\uc2dd       9.992193\n",
        "\uc2a4\ud3ec\uce20     10.184245\n",
        "\uac8c\uc784      -0.840835\n",
        "\uac74\uac15       6.610352\n",
        "\ud559\uc2b5       8.827239\n",
        "\ucee4\ubba4\ub2c8\ud2f0     7.466896\n",
        "Name: \u042f\u0439\u0446\u0435\u043b\u043e\u0432, dtype: float64\n",
        "\ubbf8\uc6a9       6.276859\n",
        "\uc74c\uc545       0.189820\n",
        "\ub9ac\ubdf0       6.636330\n",
        "\uc5f0\uc608      10.034376\n",
        "\uc74c\uc2dd      10.071374\n",
        "\uc2a4\ud3ec\uce20     10.263426\n",
        "\uac8c\uc784       7.468796\n",
        "\uac74\uac15       6.689534\n",
        "\ud559\uc2b5       8.906420\n",
        "\ucee4\ubba4\ub2c8\ud2f0     7.546077\n",
        "Name: Qello, dtype: float64\n",
        "\ubbf8\uc6a9      4.939399\n",
        "\uc74c\uc545      7.568365\n",
        "\ub9ac\ubdf0     -2.002159\n",
        "\uc5f0\uc608      8.696917\n",
        "\uc74c\uc2dd      8.733915\n",
        "\uc2a4\ud3ec\uce20     8.925967\n",
        "\uac8c\uc784     -1.470724\n",
        "\uac74\uac15      5.352074\n",
        "\ud559\uc2b5      7.568961\n",
        "\ucee4\ubba4\ub2c8\ud2f0    6.208618\n",
        "Name: \u4e0d\u601d\u8b70\u5fae\u751f\u7269\u30bf\u30de\u30bf\u30de\u7814\u7a76\u6240, dtype: float64\n",
        "\ubbf8\uc6a9      4.814461\n",
        "\uc74c\uc545      7.443426\n",
        "\ub9ac\ubdf0     -2.127098\n",
        "\uc5f0\uc608      8.571978\n",
        "\uc74c\uc2dd      8.608976\n",
        "\uc2a4\ud3ec\uce20     8.801028\n",
        "\uac8c\uc784     -1.294632\n",
        "\uac74\uac15      5.227136\n",
        "\ud559\uc2b5      7.444022\n",
        "\ucee4\ubba4\ub2c8\ud2f0    6.083679\n",
        "Name: \u30d1\u30c1\u30b9\u30ed\u300c\u7518\u3069\u308b!!\u300d, dtype: float64\n",
        "\ubbf8\uc6a9      3.735279\n",
        "\uc74c\uc545      6.364245\n",
        "\ub9ac\ubdf0      4.094751\n",
        "\uc5f0\uc608      7.492797\n",
        "\uc74c\uc2dd      7.529795\n",
        "\uc2a4\ud3ec\uce20     7.721847\n",
        "\uac8c\uc784      4.927216\n",
        "\uac74\uac15      4.147954\n",
        "\ud559\uc2b5      6.364841\n",
        "\ucee4\ubba4\ub2c8\ud2f0    5.004498\n",
        "Name: \u7f8e\u5973\u5341\u516b\u6478\u6478\u51fa\u9ad8\u6f6e, dtype: float64\n",
        "\ubbf8\uc6a9      5.337339\n",
        "\uc74c\uc545      7.966305\n",
        "\ub9ac\ubdf0     -1.905249\n",
        "\uc5f0\uc608      9.094857\n",
        "\uc74c\uc2dd      9.131855\n",
        "\uc2a4\ud3ec\uce20     9.323907\n",
        "\uac8c\uc784      6.529276\n",
        "\uac74\uac15      5.750014\n",
        "\ud559\uc2b5      7.966901\n",
        "\ucee4\ubba4\ub2c8\ud2f0    6.606558\n",
        "Name: \u7c21\u7e41:\u5bf5\u6587\u751c\u6587\u8a00\u60c5\u5c0f\u8aaa\u5408\u96c6[7], dtype: float64\n",
        "\ubbf8\uc6a9      5.388492\n",
        "\uc74c\uc545      1.017457\n",
        "\ub9ac\ubdf0      5.747963\n",
        "\uc5f0\uc608      9.146009\n",
        "\uc74c\uc2dd      9.183007\n",
        "\uc2a4\ud3ec\uce20     9.375060\n",
        "\uac8c\uc784      6.580429\n",
        "\uac74\uac15      5.801167\n",
        "\ud559\uc2b5      8.018053\n",
        "\ucee4\ubba4\ub2c8\ud2f0    6.657710\n",
        "Name: OctoCheck, dtype: float64\n",
        "\ubbf8\uc6a9       6.230824\n",
        "\uc74c\uc545       0.291587\n",
        "\ub9ac\ubdf0      -4.160599\n",
        "\uc5f0\uc608       9.988341\n",
        "\uc74c\uc2dd      10.025339\n",
        "\uc2a4\ud3ec\uce20     10.217391\n",
        "\uac8c\uc784       7.422761\n",
        "\uac74\uac15       6.643499\n",
        "\ud559\uc2b5       8.860385\n",
        "\ucee4\ubba4\ub2c8\ud2f0     7.500042\n",
        "Name: \u010cT24, dtype: float64\n",
        "\ubbf8\uc6a9      5.182437\n",
        "\uc74c\uc545      0.334281\n",
        "\ub9ac\ubdf0      5.541909\n",
        "\uc5f0\uc608      8.939955\n",
        "\uc74c\uc2dd      8.976953\n",
        "\uc2a4\ud3ec\uce20     9.169005\n",
        "\uac8c\uc784      6.374374\n",
        "\uac74\uac15      5.595112\n",
        "\ud559\uc2b5      7.811999\n",
        "\ucee4\ubba4\ub2c8\ud2f0    6.451656\n",
        "Name: ApeFlip, dtype: float64"
       ]
      },
      {
       "output_type": "stream",
       "stream": "stdout",
       "text": [
        "\n",
        "\ubbf8\uc6a9       6.735714\n",
        "\uc74c\uc545      -1.879574\n",
        "\ub9ac\ubdf0       0.095185\n",
        "\uc5f0\uc608      10.493231\n",
        "\uc74c\uc2dd      10.530229\n",
        "\uc2a4\ud3ec\uce20     10.722281\n",
        "\uac8c\uc784       7.927650\n",
        "\uac74\uac15      -0.152642\n",
        "\ud559\uc2b5       9.365275\n",
        "\ucee4\ubba4\ub2c8\ud2f0     8.004932\n",
        "Name: Equalizer, dtype: float64\n",
        "\ubbf8\uc6a9      5.036309\n",
        "\uc74c\uc545      0.188153\n",
        "\ub9ac\ubdf0     -1.905249\n",
        "\uc5f0\uc608      8.793827\n",
        "\uc74c\uc2dd      8.830825\n",
        "\uc2a4\ud3ec\uce20     9.022877\n",
        "\uac8c\uc784     -1.072784\n",
        "\uac74\uac15      5.448984\n",
        "\ud559\uc2b5      7.665871\n",
        "\ucee4\ubba4\ub2c8\ud2f0    6.305528\n",
        "Name: \u30aa\u30ea\u30b3\u30f3\u30df\u30e5\u30fc\u30b8\u30c3\u30af\u30b9\u30c8\u30a2, dtype: float64\n",
        "\ubbf8\uc6a9      4.939399\n",
        "\uc74c\uc545      7.568365\n",
        "\ub9ac\ubdf0     -2.178251\n",
        "\uc5f0\uc608      8.696917\n",
        "\uc74c\uc2dd      8.733915\n",
        "\uc2a4\ud3ec\uce20     8.925967\n",
        "\uac8c\uc784     -1.169694\n",
        "\uac74\uac15      5.352074\n",
        "\ud559\uc2b5      7.568961\n",
        "\ucee4\ubba4\ub2c8\ud2f0    6.208618\n",
        "Name: \u4e58\u6cd5\u5c0f\u5b78\u5802, dtype: float64\n",
        "\ubbf8\uc6a9      5.425476\n",
        "\uc74c\uc545      8.054441\n",
        "\ub9ac\ubdf0     -2.746532\n",
        "\uc5f0\uc608      9.182993\n",
        "\uc74c\uc2dd      9.219991\n",
        "\uc2a4\ud3ec\uce20     9.412043\n",
        "\uac8c\uc784     -1.780528\n",
        "\uac74\uac15      5.838151\n",
        "\ud559\uc2b5      8.055037\n",
        "\ucee4\ubba4\ub2c8\ud2f0    6.694694\n",
        "Name: EZ\u65c5\u904a\u65e5\u8a9e, dtype: float64\n",
        "\ubbf8\uc6a9      5.291582\n",
        "\uc74c\uc545      7.920547\n",
        "\ub9ac\ubdf0     -2.746887\n",
        "\uc5f0\uc608      9.049099\n",
        "\uc74c\uc2dd      9.086097\n",
        "\uc2a4\ud3ec\uce20     9.278150\n",
        "\uac8c\uc784     -1.795235\n",
        "\uac74\uac15      5.704257\n",
        "\ud559\uc2b5      7.921143\n",
        "\ucee4\ubba4\ub2c8\ud2f0    6.560800\n",
        "Name: EZ\u7f8e\u98df\u65e5\u8a9e, dtype: float64\n",
        "\ubbf8\uc6a9      5.527671\n",
        "\uc74c\uc545      8.156636\n",
        "\ub9ac\ubdf0     -1.112858\n",
        "\uc5f0\uc608      9.285189\n",
        "\uc74c\uc2dd      9.322186\n",
        "\uc2a4\ud3ec\uce20     9.514239\n",
        "\uac8c\uc784     -0.882452\n",
        "\uac74\uac15      5.940346\n",
        "\ud559\uc2b5      8.157232\n",
        "\ucee4\ubba4\ub2c8\ud2f0    6.796889\n",
        "Name: \u79d8\u5bf6\u63a2\u5075, dtype: float64\n",
        "\ubbf8\uc6a9       7.586782\n",
        "\uc74c\uc545       1.467559\n",
        "\ub9ac\ubdf0      -2.937010\n",
        "\uc5f0\uc608      11.344300\n",
        "\uc74c\uc2dd      11.381298\n",
        "\uc2a4\ud3ec\uce20     11.573350\n",
        "\uac8c\uc784       1.079749\n",
        "\uac74\uac15       0.698427\n",
        "\ud559\uc2b5      10.216344\n",
        "\ucee4\ubba4\ub2c8\ud2f0     8.856001\n",
        "Name: \u010cT4, dtype: float64\n",
        "\ubbf8\uc6a9       6.997731\n",
        "\uc74c\uc545       0.540336\n",
        "\ub9ac\ubdf0      -3.464312\n",
        "\uc5f0\uc608      10.755248\n",
        "\uc74c\uc2dd      10.792246\n",
        "\uc2a4\ud3ec\uce20     10.984298\n",
        "\uac8c\uc784       8.189667\n",
        "\uac74\uac15       7.410406\n",
        "\ud559\uc2b5       9.627292\n",
        "\ucee4\ubba4\ub2c8\ud2f0     8.266949\n",
        "Name: KK-Boxing, dtype: float64\n",
        "\ubbf8\uc6a9       6.419227\n",
        "\uc74c\uc545       1.006799\n",
        "\ub9ac\ubdf0      -2.208074\n",
        "\uc5f0\uc608      10.176744\n",
        "\uc74c\uc2dd      10.213742\n",
        "\uc2a4\ud3ec\uce20     10.405794\n",
        "\uac8c\uc784      -1.137025\n",
        "\uac74\uac15      -0.946250\n",
        "\ud559\uc2b5       9.048788\n",
        "\ucee4\ubba4\ub2c8\ud2f0     7.688445\n",
        "Name: \u5fc3\u9748\u6545\u4e8b, dtype: float64\n",
        "\ubbf8\uc6a9      5.925611\n",
        "\uc74c\uc545      0.651486\n",
        "\ub9ac\ubdf0      6.285082\n",
        "\uc5f0\uc608      9.683129\n",
        "\uc74c\uc2dd      9.720126\n",
        "\uc2a4\ud3ec\uce20     9.912179\n",
        "\uac8c\uc784      7.117548\n",
        "\uac74\uac15      6.338286\n",
        "\ud559\uc2b5      8.555172\n",
        "\ucee4\ubba4\ub2c8\ud2f0    7.194829\n",
        "Name: Dropwords, dtype: float64\n",
        "\ubbf8\uc6a9       7.447424\n",
        "\uc74c\uc545      -0.469536\n",
        "\ub9ac\ubdf0       7.806895\n",
        "\uc5f0\uc608      11.204941\n",
        "\uc74c\uc2dd      11.241939\n",
        "\uc2a4\ud3ec\uce20     11.433991\n",
        "\uac8c\uc784       8.639361\n",
        "\uac74\uac15       7.860099\n",
        "\ud559\uc2b5      10.076985\n",
        "\ucee4\ubba4\ub2c8\ud2f0     8.716642\n",
        "Name: Squibble, dtype: float64\n",
        "\ubbf8\uc6a9      4.434249\n",
        "\uc74c\uc545      7.063215\n",
        "\ub9ac\ubdf0      4.793721\n",
        "\uc5f0\uc608      8.191767\n",
        "\uc74c\uc2dd      8.228765\n",
        "\uc2a4\ud3ec\uce20     8.420817\n",
        "\uac8c\uc784     -1.674844\n",
        "\uac74\uac15      4.846924\n",
        "\ud559\uc2b5      7.063811\n",
        "\ucee4\ubba4\ub2c8\ud2f0    5.703468\n",
        "Name: \u62c6\u5f48\u9a5a\u9b42, dtype: float64\n",
        "\ubbf8\uc6a9      5.451283\n",
        "\uc74c\uc545      8.080248\n",
        "\ub9ac\ubdf0      5.810754\n",
        "\uc5f0\uc608      9.208800\n",
        "\uc74c\uc2dd      9.245798\n",
        "\uc2a4\ud3ec\uce20     9.437850\n",
        "\uac8c\uc784     -0.356780\n",
        "\uac74\uac15      5.863958\n",
        "\ud559\uc2b5      8.080844\n",
        "\ucee4\ubba4\ub2c8\ud2f0    6.720501\n",
        "Name: 3D\u5168\u666f\u62cd\u7167, dtype: float64\n",
        "\ubbf8\uc6a9      4.513431\n",
        "\uc74c\uc545      7.142396\n",
        "\ub9ac\ubdf0      4.872902\n",
        "\uc5f0\uc608      8.270948\n",
        "\uc74c\uc2dd      8.307946\n",
        "\uc2a4\ud3ec\uce20     8.499998\n",
        "\uac8c\uc784      5.705368\n",
        "\uac74\uac15      4.926106\n",
        "\ud559\uc2b5      7.142992\n",
        "\ucee4\ubba4\ub2c8\ud2f0    5.782649\n",
        "Name: \u7f8e\u56e2\u56e2\u8d2d\uff08\u56e2\u8d2d\u5fc5\u5907), dtype: float64"
       ]
      },
      {
       "output_type": "stream",
       "stream": "stdout",
       "text": [
        "\n",
        "\ubbf8\uc6a9       6.031945\n",
        "\uc74c\uc545       0.318487\n",
        "\ub9ac\ubdf0       6.391416\n",
        "\uc5f0\uc608       9.789462\n",
        "\uc74c\uc2dd       9.826460\n",
        "\uc2a4\ud3ec\uce20     10.018512\n",
        "\uac8c\uc784       7.223882\n",
        "\uac74\uac15       6.444620\n",
        "\ud559\uc2b5       8.661506\n",
        "\ucee4\ubba4\ub2c8\ud2f0     7.301163\n",
        "Name: Avoooid!Hero, dtype: float64\n",
        "\ubbf8\uc6a9       6.210951\n",
        "\uc74c\uc545      -1.880905\n",
        "\ub9ac\ubdf0       6.570422\n",
        "\uc5f0\uc608       9.968468\n",
        "\uc74c\uc2dd      10.005466\n",
        "\uc2a4\ud3ec\uce20     10.197518\n",
        "\uac8c\uc784       7.402888\n",
        "\uac74\uac15       6.623626\n",
        "\ud559\uc2b5       8.840512\n",
        "\ucee4\ubba4\ub2c8\ud2f0     7.480169\n",
        "Name: Hangman, dtype: float64\n",
        "\ubbf8\uc6a9       6.590799\n",
        "\uc74c\uc545       0.606980\n",
        "\ub9ac\ubdf0       6.950270\n",
        "\uc5f0\uc608      10.348316\n",
        "\uc74c\uc2dd      10.385314\n",
        "\uc2a4\ud3ec\uce20     10.577366\n",
        "\uac8c\uc784       7.782735\n",
        "\uac74\uac15       7.003474\n",
        "\ud559\uc2b5       9.220360\n",
        "\ucee4\ubba4\ub2c8\ud2f0     7.860017\n",
        "Name: Brainsss, dtype: float64\n",
        "\ubbf8\uc6a9      5.303481\n",
        "\uc74c\uc545      7.932446\n",
        "\ub9ac\ubdf0      5.662952\n",
        "\uc5f0\uc608      9.060999\n",
        "\uc74c\uc2dd      9.097996\n",
        "\uc2a4\ud3ec\uce20     9.290049\n",
        "\uac8c\uc784     -0.981703\n",
        "\uac74\uac15      5.716156\n",
        "\ud559\uc2b5      7.933042\n",
        "\ucee4\ubba4\ub2c8\ud2f0    6.572699\n",
        "Name: \u901a\u8a71\u7d00\u9304++, dtype: float64\n",
        "\ubbf8\uc6a9      3.735279\n",
        "\uc74c\uc545     -1.589998\n",
        "\ub9ac\ubdf0      4.094751\n",
        "\uc5f0\uc608      7.492797\n",
        "\uc74c\uc2dd      7.529795\n",
        "\uc2a4\ud3ec\uce20     7.721847\n",
        "\uac8c\uc784      4.927216\n",
        "\uac74\uac15      4.147954\n",
        "\ud559\uc2b5      6.364841\n",
        "\ucee4\ubba4\ub2c8\ud2f0    5.004498\n",
        "Name: \u9f8d\u65cf, dtype: float64\n",
        "\ubbf8\uc6a9      4.939399\n",
        "\uc74c\uc545      7.568365\n",
        "\ub9ac\ubdf0      5.298871\n",
        "\uc5f0\uc608      8.696917\n",
        "\uc74c\uc2dd      8.733915\n",
        "\uc2a4\ud3ec\uce20     8.925967\n",
        "\uac8c\uc784      6.131336\n",
        "\uac74\uac15      5.352074\n",
        "\ud559\uc2b5      7.568961\n",
        "\ucee4\ubba4\ub2c8\ud2f0    6.208618\n",
        "Name: CANALTOUCH, dtype: float64\n",
        "\ubbf8\uc6a9       6.933662\n",
        "\uc74c\uc545       0.545593\n",
        "\ub9ac\ubdf0       7.293133\n",
        "\uc5f0\uc608      10.691179\n",
        "\uc74c\uc2dd      10.728177\n",
        "\uc2a4\ud3ec\uce20     10.920229\n",
        "\uac8c\uc784       8.125598\n",
        "\uac74\uac15       7.346337\n",
        "\ud559\uc2b5       9.563223\n",
        "\ucee4\ubba4\ub2c8\ud2f0     8.202880\n",
        "Name: Zombocalypse, dtype: float64\n",
        "\ubbf8\uc6a9      4.580377\n",
        "\uc74c\uc545      7.209343\n",
        "\ub9ac\ubdf0      4.939849\n",
        "\uc5f0\uc608      8.337895\n",
        "\uc74c\uc2dd      8.374893\n",
        "\uc2a4\ud3ec\uce20     8.566945\n",
        "\uac8c\uc784     -1.227686\n",
        "\uac74\uac15      4.993052\n",
        "\ud559\uc2b5      7.209939\n",
        "\ucee4\ubba4\ub2c8\ud2f0    5.849596\n",
        "Name: \u6a02\u900f\u5c0d\u514c\u734e, dtype: float64\n",
        "\ubbf8\uc6a9       6.585313\n",
        "\uc74c\uc545      -0.013609\n",
        "\ub9ac\ubdf0       6.944784\n",
        "\uc5f0\uc608      10.342830\n",
        "\uc74c\uc2dd      10.379828\n",
        "\uc2a4\ud3ec\uce20     10.571880\n",
        "\uac8c\uc784       7.777250\n",
        "\uac74\uac15       6.997988\n",
        "\ud559\uc2b5       9.214874\n",
        "\ucee4\ubba4\ub2c8\ud2f0     7.854531\n",
        "Name: Skyriders, dtype: float64\n",
        "\ubbf8\uc6a9       7.184140\n",
        "\uc74c\uc545       0.350707\n",
        "\ub9ac\ubdf0       7.543611\n",
        "\uc5f0\uc608      10.941658\n",
        "\uc74c\uc2dd      10.978655\n",
        "\uc2a4\ud3ec\uce20     11.170708\n",
        "\uac8c\uc784       8.376077\n",
        "\uac74\uac15       7.596815\n",
        "\ud559\uc2b5       9.813701\n",
        "\ucee4\ubba4\ub2c8\ud2f0     8.453358\n",
        "Name: Wordfeud, dtype: float64\n",
        "\ubbf8\uc6a9      4.212401\n",
        "\uc74c\uc545      6.841366\n",
        "\ub9ac\ubdf0      4.571872\n",
        "\uc5f0\uc608      7.969918\n",
        "\uc74c\uc2dd      8.006916\n",
        "\uc2a4\ud3ec\uce20     8.198968\n",
        "\uac8c\uc784     -1.896692\n",
        "\uac74\uac15      4.625076\n",
        "\ud559\uc2b5      6.841962\n",
        "\ucee4\ubba4\ub2c8\ud2f0    5.481619\n",
        "Name: \u5929\u5929\u7f8e\u56fe--\u6700\u4f73\u5716\u7247\u7f8e\u5316\u8655\u7406\u5de5\u5177, dtype: float64\n",
        "\ubbf8\uc6a9       6.177759\n",
        "\uc74c\uc545       0.204664\n",
        "\ub9ac\ubdf0       6.537230\n",
        "\uc5f0\uc608       9.935277\n",
        "\uc74c\uc2dd       9.972274\n",
        "\uc2a4\ud3ec\uce20     10.164327\n",
        "\uac8c\uc784       7.369696\n",
        "\uac74\uac15       6.590434\n",
        "\ud559\uc2b5       8.807320\n",
        "\ucee4\ubba4\ub2c8\ud2f0     7.446977\n",
        "Name: TheEndApp, dtype: float64"
       ]
      },
      {
       "output_type": "stream",
       "stream": "stdout",
       "text": [
        "\n",
        "\ubbf8\uc6a9       6.502435\n",
        "\uc74c\uc545       0.367972\n",
        "\ub9ac\ubdf0       6.861906\n",
        "\uc5f0\uc608      10.259953\n",
        "\uc74c\uc2dd      10.296950\n",
        "\uc2a4\ud3ec\uce20     10.489003\n",
        "\uac8c\uc784       7.694372\n",
        "\uac74\uac15       6.915110\n",
        "\ud559\uc2b5       9.131996\n",
        "\ucee4\ubba4\ub2c8\ud2f0     7.771654\n",
        "Name: Jellyflop!, dtype: float64\n",
        "\ubbf8\uc6a9       6.907006\n",
        "\uc74c\uc545      -0.558849\n",
        "\ub9ac\ubdf0       7.266477\n",
        "\uc5f0\uc608      10.664523\n",
        "\uc74c\uc2dd      10.701521\n",
        "\uc2a4\ud3ec\uce20     10.893574\n",
        "\uac8c\uc784       8.098943\n",
        "\uac74\uac15       7.319681\n",
        "\ud559\uc2b5       9.536567\n",
        "\ucee4\ubba4\ub2c8\ud2f0     8.176224\n",
        "Name: ParkingBreak_Lite, dtype: float64\n",
        "\ubbf8\uc6a9      3.735279\n",
        "\uc74c\uc545      6.364245\n",
        "\ub9ac\ubdf0      4.094751\n",
        "\uc5f0\uc608      7.492797\n",
        "\uc74c\uc2dd      7.529795\n",
        "\uc2a4\ud3ec\uce20     7.721847\n",
        "\uac8c\uc784      4.927216\n",
        "\uac74\uac15      4.147954\n",
        "\ud559\uc2b5      6.364841\n",
        "\ucee4\ubba4\ub2c8\ud2f0    5.004498\n",
        "Name: \u017bulionerzy, dtype: float64\n",
        "\ubbf8\uc6a9      4.776672\n",
        "\uc74c\uc545      0.104607\n",
        "\ub9ac\ubdf0      5.136143\n",
        "\uc5f0\uc608      8.534190\n",
        "\uc74c\uc2dd      8.571187\n",
        "\uc2a4\ud3ec\uce20     8.763240\n",
        "\uac8c\uc784     -1.031391\n",
        "\uac74\uac15      5.189347\n",
        "\ud559\uc2b5      7.406233\n",
        "\ucee4\ubba4\ub2c8\ud2f0    6.045890\n",
        "Name: \u4e0d\u597d\u7b11\u514d\u9322, dtype: float64\n",
        "\ubbf8\uc6a9      4.580377\n",
        "\uc74c\uc545      0.209343\n",
        "\ub9ac\ubdf0      4.939849\n",
        "\uc5f0\uc608      8.337895\n",
        "\uc74c\uc2dd      8.374893\n",
        "\uc2a4\ud3ec\uce20     8.566945\n",
        "\uac8c\uc784     -1.227686\n",
        "\uac74\uac15      4.993052\n",
        "\ud559\uc2b5      7.209939\n",
        "\ucee4\ubba4\ub2c8\ud2f0    5.849596\n",
        "Name: \u61f7\u5ff5\u91d1\u66f2, dtype: float64\n",
        "\ubbf8\uc6a9      5.598602\n",
        "\uc74c\uc545      8.227567\n",
        "\ub9ac\ubdf0      5.958073\n",
        "\uc5f0\uc608      9.356120\n",
        "\uc74c\uc2dd      9.393117\n",
        "\uc2a4\ud3ec\uce20     9.585170\n",
        "\uac8c\uc784      6.790539\n",
        "\uac74\uac15      6.011277\n",
        "\ud559\uc2b5      8.228163\n",
        "\ucee4\ubba4\ub2c8\ud2f0    6.867820\n",
        "Name: Winulator-beta, dtype: float64\n",
        "\ubbf8\uc6a9       6.608018\n",
        "\uc74c\uc545       0.875256\n",
        "\ub9ac\ubdf0       6.967489\n",
        "\uc5f0\uc608      10.365536\n",
        "\uc74c\uc2dd      10.402533\n",
        "\uc2a4\ud3ec\uce20     10.594586\n",
        "\uac8c\uc784       7.799955\n",
        "\uac74\uac15       7.020693\n",
        "\ud559\uc2b5       9.237579\n",
        "\ucee4\ubba4\ub2c8\ud2f0     7.877236\n",
        "Name: VPET, dtype: float64\n",
        "\ubbf8\uc6a9      4.036309\n",
        "\uc74c\uc545      6.665275\n",
        "\ub9ac\ubdf0      4.395781\n",
        "\uc5f0\uc608      7.793827\n",
        "\uc74c\uc2dd      7.830825\n",
        "\uc2a4\ud3ec\uce20     8.022877\n",
        "\uac8c\uc784      5.228246\n",
        "\uac74\uac15      4.448984\n",
        "\ud559\uc2b5      6.665871\n",
        "\ucee4\ubba4\ub2c8\ud2f0    5.305528\n",
        "Name: MineGuides, dtype: float64\n"
       ]
      }
     ],
     "prompt_number": 165
    },
    {
     "cell_type": "code",
     "collapsed": false,
     "input": [],
     "language": "python",
     "metadata": {},
     "outputs": [
      {
       "output_type": "pyout",
       "prompt_number": 158,
       "text": [
        "[1,\n",
        " 4,\n",
        " 36,\n",
        " 42,\n",
        " 63,\n",
        " 97,\n",
        " 103,\n",
        " 124,\n",
        " 125,\n",
        " 133,\n",
        " 143,\n",
        " 145,\n",
        " 147,\n",
        " 202,\n",
        " 205,\n",
        " 217,\n",
        " 218,\n",
        " 221,\n",
        " 222,\n",
        " 242,\n",
        " 253,\n",
        " 255,\n",
        " 264,\n",
        " 287,\n",
        " 311,\n",
        " 382,\n",
        " 390,\n",
        " 404,\n",
        " 425,\n",
        " 428,\n",
        " 434,\n",
        " 441,\n",
        " 451,\n",
        " 462,\n",
        " 465,\n",
        " 474,\n",
        " 475,\n",
        " 477,\n",
        " 494,\n",
        " 499,\n",
        " 0,\n",
        " 2,\n",
        " 3,\n",
        " 5,\n",
        " 6,\n",
        " 7,\n",
        " 8,\n",
        " 9,\n",
        " 10,\n",
        " 11,\n",
        " 12,\n",
        " 13,\n",
        " 14,\n",
        " 15,\n",
        " 16,\n",
        " 17,\n",
        " 18,\n",
        " 19,\n",
        " 20,\n",
        " 21,\n",
        " 22,\n",
        " 23,\n",
        " 24,\n",
        " 25,\n",
        " 26,\n",
        " 27,\n",
        " 28,\n",
        " 29,\n",
        " 30,\n",
        " 32,\n",
        " 34,\n",
        " 35,\n",
        " 37,\n",
        " 38,\n",
        " 39,\n",
        " 40,\n",
        " 41,\n",
        " 43,\n",
        " 45,\n",
        " 46,\n",
        " 47,\n",
        " 48,\n",
        " 49,\n",
        " 50,\n",
        " 51,\n",
        " 52,\n",
        " 53,\n",
        " 54,\n",
        " 56,\n",
        " 57,\n",
        " 59,\n",
        " 60,\n",
        " 61,\n",
        " 62,\n",
        " 64,\n",
        " 65,\n",
        " 66,\n",
        " 67,\n",
        " 68,\n",
        " 69,\n",
        " 70,\n",
        " 71,\n",
        " 72,\n",
        " 73,\n",
        " 74,\n",
        " 75,\n",
        " 76,\n",
        " 77,\n",
        " 78,\n",
        " 79,\n",
        " 80,\n",
        " 81,\n",
        " 82,\n",
        " 83,\n",
        " 84,\n",
        " 85,\n",
        " 86,\n",
        " 87,\n",
        " 88,\n",
        " 89,\n",
        " 90,\n",
        " 91,\n",
        " 92,\n",
        " 93,\n",
        " 94,\n",
        " 95,\n",
        " 99,\n",
        " 100,\n",
        " 101,\n",
        " 102,\n",
        " 104,\n",
        " 105,\n",
        " 106,\n",
        " 107,\n",
        " 108,\n",
        " 109,\n",
        " 110,\n",
        " 111,\n",
        " 112,\n",
        " 113,\n",
        " 114,\n",
        " 115,\n",
        " 116,\n",
        " 117,\n",
        " 118,\n",
        " 120,\n",
        " 121,\n",
        " 122,\n",
        " 123,\n",
        " 126,\n",
        " 127,\n",
        " 128,\n",
        " 129,\n",
        " 130,\n",
        " 131,\n",
        " 132,\n",
        " 134,\n",
        " 135,\n",
        " 137,\n",
        " 138,\n",
        " 139,\n",
        " 140,\n",
        " 142,\n",
        " 144,\n",
        " 146,\n",
        " 148,\n",
        " 149,\n",
        " 150,\n",
        " 151,\n",
        " 152,\n",
        " 153,\n",
        " 154,\n",
        " 155,\n",
        " 156,\n",
        " 157,\n",
        " 158,\n",
        " 159,\n",
        " 160,\n",
        " 161,\n",
        " 162,\n",
        " 163,\n",
        " 164,\n",
        " 165,\n",
        " 166,\n",
        " 167,\n",
        " 168,\n",
        " 169,\n",
        " 170,\n",
        " 171,\n",
        " 172,\n",
        " 173,\n",
        " 174,\n",
        " 177,\n",
        " 178,\n",
        " 180,\n",
        " 181,\n",
        " 183,\n",
        " 184,\n",
        " 185,\n",
        " 186,\n",
        " 187,\n",
        " 188,\n",
        " 191,\n",
        " 192,\n",
        " 193,\n",
        " 194,\n",
        " 195,\n",
        " 196,\n",
        " 198,\n",
        " 199,\n",
        " 201,\n",
        " 203,\n",
        " 204,\n",
        " 207,\n",
        " 208,\n",
        " 209,\n",
        " 211,\n",
        " 213,\n",
        " 214,\n",
        " 216,\n",
        " 219,\n",
        " 220,\n",
        " 223,\n",
        " 224,\n",
        " 225,\n",
        " 226,\n",
        " 227,\n",
        " 228,\n",
        " 229,\n",
        " 230,\n",
        " 231,\n",
        " 232,\n",
        " 233,\n",
        " 234,\n",
        " 235,\n",
        " 236,\n",
        " 238,\n",
        " 239,\n",
        " 240,\n",
        " 241,\n",
        " 243,\n",
        " 244,\n",
        " 245,\n",
        " 246,\n",
        " 247,\n",
        " 248,\n",
        " 250,\n",
        " 251,\n",
        " 252,\n",
        " 254,\n",
        " 256,\n",
        " 257,\n",
        " 258,\n",
        " 259,\n",
        " 260,\n",
        " 261,\n",
        " 262,\n",
        " 263,\n",
        " 265,\n",
        " 266,\n",
        " 267,\n",
        " 268,\n",
        " 269,\n",
        " 270,\n",
        " 271,\n",
        " 272,\n",
        " 273,\n",
        " 274,\n",
        " 275,\n",
        " 276,\n",
        " 277,\n",
        " 278,\n",
        " 279,\n",
        " 280,\n",
        " 281,\n",
        " 283,\n",
        " 284,\n",
        " 285,\n",
        " 286,\n",
        " 288,\n",
        " 289,\n",
        " 290,\n",
        " 291,\n",
        " 292,\n",
        " 293,\n",
        " 294,\n",
        " 295,\n",
        " 296,\n",
        " 297,\n",
        " 298,\n",
        " 299,\n",
        " 300,\n",
        " 301,\n",
        " 302,\n",
        " 303,\n",
        " 304,\n",
        " 305,\n",
        " 306,\n",
        " 307,\n",
        " 308,\n",
        " 309,\n",
        " 310,\n",
        " 312,\n",
        " 313,\n",
        " 314,\n",
        " 315,\n",
        " 316,\n",
        " 317,\n",
        " 318,\n",
        " 319,\n",
        " 320,\n",
        " 321,\n",
        " 322,\n",
        " 323,\n",
        " 325,\n",
        " 326,\n",
        " 327,\n",
        " 328,\n",
        " 329,\n",
        " 330,\n",
        " 331,\n",
        " 332,\n",
        " 333,\n",
        " 334,\n",
        " 335,\n",
        " 338,\n",
        " 339,\n",
        " 340,\n",
        " 341,\n",
        " 342,\n",
        " 344,\n",
        " 345,\n",
        " 346,\n",
        " 347,\n",
        " 349,\n",
        " 350,\n",
        " 351,\n",
        " 352,\n",
        " 353,\n",
        " 354,\n",
        " 355,\n",
        " 356,\n",
        " 357,\n",
        " 358,\n",
        " 360,\n",
        " 361,\n",
        " 362,\n",
        " 364,\n",
        " 365,\n",
        " 366,\n",
        " 368,\n",
        " 369,\n",
        " 370,\n",
        " 371,\n",
        " 372,\n",
        " 373,\n",
        " 374,\n",
        " 375,\n",
        " 376,\n",
        " 377,\n",
        " 378,\n",
        " 379,\n",
        " 380,\n",
        " 381,\n",
        " 383,\n",
        " 384,\n",
        " 385,\n",
        " 386,\n",
        " 387,\n",
        " 388,\n",
        " 389,\n",
        " 391,\n",
        " 392,\n",
        " 393,\n",
        " 394,\n",
        " 395,\n",
        " 396,\n",
        " 398,\n",
        " 399,\n",
        " 400,\n",
        " 402,\n",
        " 403,\n",
        " 405,\n",
        " 407,\n",
        " 408,\n",
        " 409,\n",
        " 410,\n",
        " 411,\n",
        " 412,\n",
        " 413,\n",
        " 414,\n",
        " 415,\n",
        " 416,\n",
        " 417,\n",
        " 419,\n",
        " 421,\n",
        " 422,\n",
        " 424,\n",
        " 426,\n",
        " 427,\n",
        " 429,\n",
        " 430,\n",
        " 431,\n",
        " 432,\n",
        " 433,\n",
        " 435,\n",
        " 436,\n",
        " 437,\n",
        " 438,\n",
        " 439,\n",
        " 440,\n",
        " 442,\n",
        " 443,\n",
        " 444,\n",
        " 445,\n",
        " 446,\n",
        " 447,\n",
        " 448,\n",
        " 449,\n",
        " 450,\n",
        " 453,\n",
        " 454,\n",
        " 457,\n",
        " 458,\n",
        " 460,\n",
        " 461,\n",
        " 463,\n",
        " 464,\n",
        " 467,\n",
        " 468,\n",
        " 469,\n",
        " 470,\n",
        " 471,\n",
        " 473,\n",
        " 476,\n",
        " 478,\n",
        " 479,\n",
        " 480,\n",
        " 481,\n",
        " 482,\n",
        " 483,\n",
        " 484,\n",
        " 485,\n",
        " 486,\n",
        " 487,\n",
        " 488,\n",
        " 489,\n",
        " 490,\n",
        " 491,\n",
        " 492,\n",
        " 493,\n",
        " 495,\n",
        " 496,\n",
        " 497,\n",
        " 498]"
       ]
      }
     ],
     "prompt_number": 158
    },
    {
     "cell_type": "code",
     "collapsed": false,
     "input": [
      "df.ix[df.index[3]]"
     ],
     "language": "python",
     "metadata": {},
     "outputs": [
      {
       "output_type": "pyout",
       "prompt_number": 144,
       "text": [
        "\ubbf8\uc6a9      0\n",
        "\uc74c\uc545      0\n",
        "\ub9ac\ubdf0      0\n",
        "\uc5f0\uc608      0\n",
        "\uc74c\uc2dd      0\n",
        "\uc2a4\ud3ec\uce20     0\n",
        "\uac8c\uc784      0\n",
        "\uac74\uac15      0\n",
        "\ud559\uc2b5      0\n",
        "\ucee4\ubba4\ub2c8\ud2f0    0\n",
        "Name: \uc5d8\uc18c\ub4dc \uc2a4\ud0ac\ud2b8\ub9ac(\uc544\ub77c), dtype: float64"
       ]
      }
     ],
     "prompt_number": 144
    },
    {
     "cell_type": "code",
     "collapsed": false,
     "input": [],
     "language": "python",
     "metadata": {},
     "outputs": []
    },
    {
     "cell_type": "code",
     "collapsed": false,
     "input": [],
     "language": "python",
     "metadata": {},
     "outputs": []
    },
    {
     "cell_type": "code",
     "collapsed": false,
     "input": [],
     "language": "python",
     "metadata": {},
     "outputs": []
    },
    {
     "cell_type": "code",
     "collapsed": false,
     "input": [],
     "language": "python",
     "metadata": {},
     "outputs": []
    },
    {
     "cell_type": "code",
     "collapsed": false,
     "input": [],
     "language": "python",
     "metadata": {},
     "outputs": []
    },
    {
     "cell_type": "code",
     "collapsed": false,
     "input": [
      "X2 = df[]\n",
      "pca = PCA(n_components=2, whiten=True).fit(X2)\n",
      "X_pca = pca.transform(X2)\n",
      "kmeans.fit(X_pca)"
     ],
     "language": "python",
     "metadata": {},
     "outputs": [
      {
       "ename": "KeyError",
       "evalue": "u'no item named 0'",
       "output_type": "pyerr",
       "traceback": [
        "\u001b[0;31m---------------------------------------------------------------------------\u001b[0m\n\u001b[0;31mKeyError\u001b[0m                                  Traceback (most recent call last)",
        "\u001b[0;32m<ipython-input-130-4ffe5d8b9ce9>\u001b[0m in \u001b[0;36m<module>\u001b[0;34m()\u001b[0m\n\u001b[0;32m----> 1\u001b[0;31m \u001b[0mX2\u001b[0m \u001b[0;34m=\u001b[0m \u001b[0mdf\u001b[0m\u001b[0;34m[\u001b[0m\u001b[0;36m0\u001b[0m\u001b[0;34m]\u001b[0m\u001b[0;34m\u001b[0m\u001b[0m\n\u001b[0m\u001b[1;32m      2\u001b[0m \u001b[0mpca\u001b[0m \u001b[0;34m=\u001b[0m \u001b[0mPCA\u001b[0m\u001b[0;34m(\u001b[0m\u001b[0mn_components\u001b[0m\u001b[0;34m=\u001b[0m\u001b[0;36m2\u001b[0m\u001b[0;34m,\u001b[0m \u001b[0mwhiten\u001b[0m\u001b[0;34m=\u001b[0m\u001b[0mTrue\u001b[0m\u001b[0;34m)\u001b[0m\u001b[0;34m.\u001b[0m\u001b[0mfit\u001b[0m\u001b[0;34m(\u001b[0m\u001b[0mX2\u001b[0m\u001b[0;34m)\u001b[0m\u001b[0;34m\u001b[0m\u001b[0m\n\u001b[1;32m      3\u001b[0m \u001b[0mX_pca\u001b[0m \u001b[0;34m=\u001b[0m \u001b[0mpca\u001b[0m\u001b[0;34m.\u001b[0m\u001b[0mtransform\u001b[0m\u001b[0;34m(\u001b[0m\u001b[0mX2\u001b[0m\u001b[0;34m)\u001b[0m\u001b[0;34m\u001b[0m\u001b[0m\n\u001b[1;32m      4\u001b[0m \u001b[0mkmeans\u001b[0m\u001b[0;34m.\u001b[0m\u001b[0mfit\u001b[0m\u001b[0;34m(\u001b[0m\u001b[0mX_pca\u001b[0m\u001b[0;34m)\u001b[0m\u001b[0;34m\u001b[0m\u001b[0m\n",
        "\u001b[0;32m/Users/jeongmingi/anaconda/lib/python2.7/site-packages/pandas/core/frame.pyc\u001b[0m in \u001b[0;36m__getitem__\u001b[0;34m(self, key)\u001b[0m\n\u001b[1;32m   1926\u001b[0m         \u001b[0;32melse\u001b[0m\u001b[0;34m:\u001b[0m\u001b[0;34m\u001b[0m\u001b[0m\n\u001b[1;32m   1927\u001b[0m             \u001b[0;31m# get column\u001b[0m\u001b[0;34m\u001b[0m\u001b[0;34m\u001b[0m\u001b[0m\n\u001b[0;32m-> 1928\u001b[0;31m             \u001b[0;32mreturn\u001b[0m \u001b[0mself\u001b[0m\u001b[0;34m.\u001b[0m\u001b[0m_get_item_cache\u001b[0m\u001b[0;34m(\u001b[0m\u001b[0mkey\u001b[0m\u001b[0;34m)\u001b[0m\u001b[0;34m\u001b[0m\u001b[0m\n\u001b[0m\u001b[1;32m   1929\u001b[0m \u001b[0;34m\u001b[0m\u001b[0m\n\u001b[1;32m   1930\u001b[0m     \u001b[0;32mdef\u001b[0m \u001b[0m_getitem_slice\u001b[0m\u001b[0;34m(\u001b[0m\u001b[0mself\u001b[0m\u001b[0;34m,\u001b[0m \u001b[0mkey\u001b[0m\u001b[0;34m)\u001b[0m\u001b[0;34m:\u001b[0m\u001b[0;34m\u001b[0m\u001b[0m\n",
        "\u001b[0;32m/Users/jeongmingi/anaconda/lib/python2.7/site-packages/pandas/core/generic.pyc\u001b[0m in \u001b[0;36m_get_item_cache\u001b[0;34m(self, item)\u001b[0m\n\u001b[1;32m    568\u001b[0m             \u001b[0;32mreturn\u001b[0m \u001b[0mcache\u001b[0m\u001b[0;34m[\u001b[0m\u001b[0mitem\u001b[0m\u001b[0;34m]\u001b[0m\u001b[0;34m\u001b[0m\u001b[0m\n\u001b[1;32m    569\u001b[0m         \u001b[0;32mexcept\u001b[0m \u001b[0mException\u001b[0m\u001b[0;34m:\u001b[0m\u001b[0;34m\u001b[0m\u001b[0m\n\u001b[0;32m--> 570\u001b[0;31m             \u001b[0mvalues\u001b[0m \u001b[0;34m=\u001b[0m \u001b[0mself\u001b[0m\u001b[0;34m.\u001b[0m\u001b[0m_data\u001b[0m\u001b[0;34m.\u001b[0m\u001b[0mget\u001b[0m\u001b[0;34m(\u001b[0m\u001b[0mitem\u001b[0m\u001b[0;34m)\u001b[0m\u001b[0;34m\u001b[0m\u001b[0m\n\u001b[0m\u001b[1;32m    571\u001b[0m             \u001b[0mres\u001b[0m \u001b[0;34m=\u001b[0m \u001b[0mself\u001b[0m\u001b[0;34m.\u001b[0m\u001b[0m_box_item_values\u001b[0m\u001b[0;34m(\u001b[0m\u001b[0mitem\u001b[0m\u001b[0;34m,\u001b[0m \u001b[0mvalues\u001b[0m\u001b[0;34m)\u001b[0m\u001b[0;34m\u001b[0m\u001b[0m\n\u001b[1;32m    572\u001b[0m             \u001b[0mcache\u001b[0m\u001b[0;34m[\u001b[0m\u001b[0mitem\u001b[0m\u001b[0;34m]\u001b[0m \u001b[0;34m=\u001b[0m \u001b[0mres\u001b[0m\u001b[0;34m\u001b[0m\u001b[0m\n",
        "\u001b[0;32m/Users/jeongmingi/anaconda/lib/python2.7/site-packages/pandas/core/internals.pyc\u001b[0m in \u001b[0;36mget\u001b[0;34m(self, item)\u001b[0m\n\u001b[1;32m   1381\u001b[0m \u001b[0;34m\u001b[0m\u001b[0m\n\u001b[1;32m   1382\u001b[0m     \u001b[0;32mdef\u001b[0m \u001b[0mget\u001b[0m\u001b[0;34m(\u001b[0m\u001b[0mself\u001b[0m\u001b[0;34m,\u001b[0m \u001b[0mitem\u001b[0m\u001b[0;34m)\u001b[0m\u001b[0;34m:\u001b[0m\u001b[0;34m\u001b[0m\u001b[0m\n\u001b[0;32m-> 1383\u001b[0;31m         \u001b[0m_\u001b[0m\u001b[0;34m,\u001b[0m \u001b[0mblock\u001b[0m \u001b[0;34m=\u001b[0m \u001b[0mself\u001b[0m\u001b[0;34m.\u001b[0m\u001b[0m_find_block\u001b[0m\u001b[0;34m(\u001b[0m\u001b[0mitem\u001b[0m\u001b[0;34m)\u001b[0m\u001b[0;34m\u001b[0m\u001b[0m\n\u001b[0m\u001b[1;32m   1384\u001b[0m         \u001b[0;32mreturn\u001b[0m \u001b[0mblock\u001b[0m\u001b[0;34m.\u001b[0m\u001b[0mget\u001b[0m\u001b[0;34m(\u001b[0m\u001b[0mitem\u001b[0m\u001b[0;34m)\u001b[0m\u001b[0;34m\u001b[0m\u001b[0m\n\u001b[1;32m   1385\u001b[0m \u001b[0;34m\u001b[0m\u001b[0m\n",
        "\u001b[0;32m/Users/jeongmingi/anaconda/lib/python2.7/site-packages/pandas/core/internals.pyc\u001b[0m in \u001b[0;36m_find_block\u001b[0;34m(self, item)\u001b[0m\n\u001b[1;32m   1523\u001b[0m \u001b[0;34m\u001b[0m\u001b[0m\n\u001b[1;32m   1524\u001b[0m     \u001b[0;32mdef\u001b[0m \u001b[0m_find_block\u001b[0m\u001b[0;34m(\u001b[0m\u001b[0mself\u001b[0m\u001b[0;34m,\u001b[0m \u001b[0mitem\u001b[0m\u001b[0;34m)\u001b[0m\u001b[0;34m:\u001b[0m\u001b[0;34m\u001b[0m\u001b[0m\n\u001b[0;32m-> 1525\u001b[0;31m         \u001b[0mself\u001b[0m\u001b[0;34m.\u001b[0m\u001b[0m_check_have\u001b[0m\u001b[0;34m(\u001b[0m\u001b[0mitem\u001b[0m\u001b[0;34m)\u001b[0m\u001b[0;34m\u001b[0m\u001b[0m\n\u001b[0m\u001b[1;32m   1526\u001b[0m         \u001b[0;32mfor\u001b[0m \u001b[0mi\u001b[0m\u001b[0;34m,\u001b[0m \u001b[0mblock\u001b[0m \u001b[0;32min\u001b[0m \u001b[0menumerate\u001b[0m\u001b[0;34m(\u001b[0m\u001b[0mself\u001b[0m\u001b[0;34m.\u001b[0m\u001b[0mblocks\u001b[0m\u001b[0;34m)\u001b[0m\u001b[0;34m:\u001b[0m\u001b[0;34m\u001b[0m\u001b[0m\n\u001b[1;32m   1527\u001b[0m             \u001b[0;32mif\u001b[0m \u001b[0mitem\u001b[0m \u001b[0;32min\u001b[0m \u001b[0mblock\u001b[0m\u001b[0;34m:\u001b[0m\u001b[0;34m\u001b[0m\u001b[0m\n",
        "\u001b[0;32m/Users/jeongmingi/anaconda/lib/python2.7/site-packages/pandas/core/internals.pyc\u001b[0m in \u001b[0;36m_check_have\u001b[0;34m(self, item)\u001b[0m\n\u001b[1;32m   1530\u001b[0m     \u001b[0;32mdef\u001b[0m \u001b[0m_check_have\u001b[0m\u001b[0;34m(\u001b[0m\u001b[0mself\u001b[0m\u001b[0;34m,\u001b[0m \u001b[0mitem\u001b[0m\u001b[0;34m)\u001b[0m\u001b[0;34m:\u001b[0m\u001b[0;34m\u001b[0m\u001b[0m\n\u001b[1;32m   1531\u001b[0m         \u001b[0;32mif\u001b[0m \u001b[0mitem\u001b[0m \u001b[0;32mnot\u001b[0m \u001b[0;32min\u001b[0m \u001b[0mself\u001b[0m\u001b[0;34m.\u001b[0m\u001b[0mitems\u001b[0m\u001b[0;34m:\u001b[0m\u001b[0;34m\u001b[0m\u001b[0m\n\u001b[0;32m-> 1532\u001b[0;31m             \u001b[0;32mraise\u001b[0m \u001b[0mKeyError\u001b[0m\u001b[0;34m(\u001b[0m\u001b[0;34m'no item named %s'\u001b[0m \u001b[0;34m%\u001b[0m \u001b[0mcom\u001b[0m\u001b[0;34m.\u001b[0m\u001b[0mpprint_thing\u001b[0m\u001b[0;34m(\u001b[0m\u001b[0mitem\u001b[0m\u001b[0;34m)\u001b[0m\u001b[0;34m)\u001b[0m\u001b[0;34m\u001b[0m\u001b[0m\n\u001b[0m\u001b[1;32m   1533\u001b[0m \u001b[0;34m\u001b[0m\u001b[0m\n\u001b[1;32m   1534\u001b[0m     \u001b[0;32mdef\u001b[0m \u001b[0mreindex_axis\u001b[0m\u001b[0;34m(\u001b[0m\u001b[0mself\u001b[0m\u001b[0;34m,\u001b[0m \u001b[0mnew_axis\u001b[0m\u001b[0;34m,\u001b[0m \u001b[0mmethod\u001b[0m\u001b[0;34m=\u001b[0m\u001b[0mNone\u001b[0m\u001b[0;34m,\u001b[0m \u001b[0maxis\u001b[0m\u001b[0;34m=\u001b[0m\u001b[0;36m0\u001b[0m\u001b[0;34m,\u001b[0m \u001b[0mcopy\u001b[0m\u001b[0;34m=\u001b[0m\u001b[0mTrue\u001b[0m\u001b[0;34m)\u001b[0m\u001b[0;34m:\u001b[0m\u001b[0;34m\u001b[0m\u001b[0m\n",
        "\u001b[0;31mKeyError\u001b[0m: u'no item named 0'"
       ]
      }
     ],
     "prompt_number": 130
    },
    {
     "cell_type": "code",
     "collapsed": false,
     "input": [],
     "language": "python",
     "metadata": {},
     "outputs": []
    },
    {
     "cell_type": "code",
     "collapsed": false,
     "input": [],
     "language": "python",
     "metadata": {},
     "outputs": []
    },
    {
     "cell_type": "code",
     "collapsed": false,
     "input": [],
     "language": "python",
     "metadata": {},
     "outputs": []
    },
    {
     "cell_type": "code",
     "collapsed": false,
     "input": [],
     "language": "python",
     "metadata": {},
     "outputs": []
    },
    {
     "cell_type": "code",
     "collapsed": false,
     "input": [],
     "language": "python",
     "metadata": {},
     "outputs": []
    },
    {
     "cell_type": "code",
     "collapsed": false,
     "input": [
      "X2 = df\n",
      "dbs = DBSCAN(n_components=2).fit(X2)\n",
      "X_pca = dbs.transform(X2)\n"
     ],
     "language": "python",
     "metadata": {},
     "outputs": [
      {
       "ename": "TypeError",
       "evalue": "__init__() got an unexpected keyword argument 'n_components'",
       "output_type": "pyerr",
       "traceback": [
        "\u001b[0;31m---------------------------------------------------------------------------\u001b[0m\n\u001b[0;31mTypeError\u001b[0m                                 Traceback (most recent call last)",
        "\u001b[0;32m<ipython-input-93-3b0706cd684e>\u001b[0m in \u001b[0;36m<module>\u001b[0;34m()\u001b[0m\n\u001b[1;32m      1\u001b[0m \u001b[0mX2\u001b[0m \u001b[0;34m=\u001b[0m \u001b[0mdf\u001b[0m\u001b[0;34m\u001b[0m\u001b[0m\n\u001b[0;32m----> 2\u001b[0;31m \u001b[0mdbs\u001b[0m \u001b[0;34m=\u001b[0m \u001b[0mDBSCAN\u001b[0m\u001b[0;34m(\u001b[0m\u001b[0mn_components\u001b[0m\u001b[0;34m=\u001b[0m\u001b[0;36m2\u001b[0m\u001b[0;34m)\u001b[0m\u001b[0;34m.\u001b[0m\u001b[0mfit\u001b[0m\u001b[0;34m(\u001b[0m\u001b[0mX2\u001b[0m\u001b[0;34m)\u001b[0m\u001b[0;34m\u001b[0m\u001b[0m\n\u001b[0m\u001b[1;32m      3\u001b[0m \u001b[0mX_pca\u001b[0m \u001b[0;34m=\u001b[0m \u001b[0mdbs\u001b[0m\u001b[0;34m.\u001b[0m\u001b[0mtransform\u001b[0m\u001b[0;34m(\u001b[0m\u001b[0mX2\u001b[0m\u001b[0;34m)\u001b[0m\u001b[0;34m\u001b[0m\u001b[0m\n",
        "\u001b[0;31mTypeError\u001b[0m: __init__() got an unexpected keyword argument 'n_components'"
       ]
      }
     ],
     "prompt_number": 93
    },
    {
     "cell_type": "code",
     "collapsed": false,
     "input": [
      "from sklearn.cluster import MeanShift\n",
      "\n",
      "msft = MeanShift(df)\n",
      "\n",
      "msft.fit(df)\n",
      "\n",
      "plot_2D(df,msft.labels_,range(len(set(msft.labels_))))"
     ],
     "language": "python",
     "metadata": {},
     "outputs": [
      {
       "ename": "ValueError",
       "evalue": "could not convert string to float: \ubbf8\uc6a9",
       "output_type": "pyerr",
       "traceback": [
        "\u001b[0;31m---------------------------------------------------------------------------\u001b[0m\n\u001b[0;31mValueError\u001b[0m                                Traceback (most recent call last)",
        "\u001b[0;32m<ipython-input-124-2b3e22f4805f>\u001b[0m in \u001b[0;36m<module>\u001b[0;34m()\u001b[0m\n\u001b[1;32m      3\u001b[0m \u001b[0mmsft\u001b[0m \u001b[0;34m=\u001b[0m \u001b[0mMeanShift\u001b[0m\u001b[0;34m(\u001b[0m\u001b[0mdf\u001b[0m\u001b[0;34m)\u001b[0m\u001b[0;34m\u001b[0m\u001b[0m\n\u001b[1;32m      4\u001b[0m \u001b[0;34m\u001b[0m\u001b[0m\n\u001b[0;32m----> 5\u001b[0;31m \u001b[0mmsft\u001b[0m\u001b[0;34m.\u001b[0m\u001b[0mfit\u001b[0m\u001b[0;34m(\u001b[0m\u001b[0mdf\u001b[0m\u001b[0;34m)\u001b[0m\u001b[0;34m\u001b[0m\u001b[0m\n\u001b[0m\u001b[1;32m      6\u001b[0m \u001b[0;34m\u001b[0m\u001b[0m\n\u001b[1;32m      7\u001b[0m \u001b[0mplot_2D\u001b[0m\u001b[0;34m(\u001b[0m\u001b[0mdf\u001b[0m\u001b[0;34m,\u001b[0m\u001b[0mmsft\u001b[0m\u001b[0;34m.\u001b[0m\u001b[0mlabels_\u001b[0m\u001b[0;34m,\u001b[0m\u001b[0mrange\u001b[0m\u001b[0;34m(\u001b[0m\u001b[0mlen\u001b[0m\u001b[0;34m(\u001b[0m\u001b[0mset\u001b[0m\u001b[0;34m(\u001b[0m\u001b[0mmsft\u001b[0m\u001b[0;34m.\u001b[0m\u001b[0mlabels_\u001b[0m\u001b[0;34m)\u001b[0m\u001b[0;34m)\u001b[0m\u001b[0;34m)\u001b[0m\u001b[0;34m)\u001b[0m\u001b[0;34m\u001b[0m\u001b[0m\n",
        "\u001b[0;32m/Users/jeongmingi/anaconda/lib/python2.7/site-packages/sklearn/cluster/mean_shift_.pyc\u001b[0m in \u001b[0;36mfit\u001b[0;34m(self, X)\u001b[0m\n\u001b[1;32m    274\u001b[0m             mean_shift(X, bandwidth=self.bandwidth, seeds=self.seeds,\n\u001b[1;32m    275\u001b[0m                        \u001b[0mbin_seeding\u001b[0m\u001b[0;34m=\u001b[0m\u001b[0mself\u001b[0m\u001b[0;34m.\u001b[0m\u001b[0mbin_seeding\u001b[0m\u001b[0;34m,\u001b[0m\u001b[0;34m\u001b[0m\u001b[0m\n\u001b[0;32m--> 276\u001b[0;31m                        cluster_all=self.cluster_all)\n\u001b[0m\u001b[1;32m    277\u001b[0m         \u001b[0;32mreturn\u001b[0m \u001b[0mself\u001b[0m\u001b[0;34m\u001b[0m\u001b[0m\n",
        "\u001b[0;32m/Users/jeongmingi/anaconda/lib/python2.7/site-packages/sklearn/cluster/mean_shift_.pyc\u001b[0m in \u001b[0;36mmean_shift\u001b[0;34m(X, bandwidth, seeds, bin_seeding, cluster_all, max_iterations)\u001b[0m\n\u001b[1;32m    114\u001b[0m             \u001b[0;31m# Find mean of points within bandwidth\u001b[0m\u001b[0;34m\u001b[0m\u001b[0;34m\u001b[0m\u001b[0m\n\u001b[1;32m    115\u001b[0m             i_nbrs = nbrs.radius_neighbors([my_mean], bandwidth,\n\u001b[0;32m--> 116\u001b[0;31m                                            return_distance=False)[0]\n\u001b[0m\u001b[1;32m    117\u001b[0m             \u001b[0mpoints_within\u001b[0m \u001b[0;34m=\u001b[0m \u001b[0mX\u001b[0m\u001b[0;34m[\u001b[0m\u001b[0mi_nbrs\u001b[0m\u001b[0;34m]\u001b[0m\u001b[0;34m\u001b[0m\u001b[0m\n\u001b[1;32m    118\u001b[0m             \u001b[0;32mif\u001b[0m \u001b[0mlen\u001b[0m\u001b[0;34m(\u001b[0m\u001b[0mpoints_within\u001b[0m\u001b[0;34m)\u001b[0m \u001b[0;34m==\u001b[0m \u001b[0;36m0\u001b[0m\u001b[0;34m:\u001b[0m\u001b[0;34m\u001b[0m\u001b[0m\n",
        "\u001b[0;32m/Users/jeongmingi/anaconda/lib/python2.7/site-packages/sklearn/neighbors/base.pyc\u001b[0m in \u001b[0;36mradius_neighbors\u001b[0;34m(self, X, radius, return_distance)\u001b[0m\n\u001b[1;32m    445\u001b[0m             \u001b[0;32melse\u001b[0m\u001b[0;34m:\u001b[0m\u001b[0;34m\u001b[0m\u001b[0m\n\u001b[1;32m    446\u001b[0m                 ind = self._tree.query_radius(X, radius,\n\u001b[0;32m--> 447\u001b[0;31m                                               return_distance=False)\n\u001b[0m\u001b[1;32m    448\u001b[0m                 \u001b[0;32mreturn\u001b[0m \u001b[0mind\u001b[0m\u001b[0;34m\u001b[0m\u001b[0m\n\u001b[1;32m    449\u001b[0m         \u001b[0;32melif\u001b[0m \u001b[0mself\u001b[0m\u001b[0;34m.\u001b[0m\u001b[0m_fit_method\u001b[0m \u001b[0;34m==\u001b[0m \u001b[0;34m'kd_tree'\u001b[0m\u001b[0;34m:\u001b[0m\u001b[0;34m\u001b[0m\u001b[0m\n",
        "\u001b[0;32m/Users/jeongmingi/anaconda/lib/python2.7/site-packages/sklearn/neighbors/ball_tree.so\u001b[0m in \u001b[0;36msklearn.neighbors.ball_tree.BallTree.query_radius (sklearn/neighbors/ball_tree.c:4378)\u001b[0;34m()\u001b[0m\n",
        "\u001b[0;32m/Users/jeongmingi/anaconda/lib/python2.7/site-packages/sklearn/utils/validation.pyc\u001b[0m in \u001b[0;36marray2d\u001b[0;34m(X, dtype, order, copy)\u001b[0m\n\u001b[1;32m     78\u001b[0m         raise TypeError('A sparse matrix was passed, but dense data '\n\u001b[1;32m     79\u001b[0m                         'is required. Use X.toarray() to convert to dense.')\n\u001b[0;32m---> 80\u001b[0;31m     \u001b[0mX_2d\u001b[0m \u001b[0;34m=\u001b[0m \u001b[0mnp\u001b[0m\u001b[0;34m.\u001b[0m\u001b[0masarray\u001b[0m\u001b[0;34m(\u001b[0m\u001b[0mnp\u001b[0m\u001b[0;34m.\u001b[0m\u001b[0matleast_2d\u001b[0m\u001b[0;34m(\u001b[0m\u001b[0mX\u001b[0m\u001b[0;34m)\u001b[0m\u001b[0;34m,\u001b[0m \u001b[0mdtype\u001b[0m\u001b[0;34m=\u001b[0m\u001b[0mdtype\u001b[0m\u001b[0;34m,\u001b[0m \u001b[0morder\u001b[0m\u001b[0;34m=\u001b[0m\u001b[0morder\u001b[0m\u001b[0;34m)\u001b[0m\u001b[0;34m\u001b[0m\u001b[0m\n\u001b[0m\u001b[1;32m     81\u001b[0m     \u001b[0m_assert_all_finite\u001b[0m\u001b[0;34m(\u001b[0m\u001b[0mX_2d\u001b[0m\u001b[0;34m)\u001b[0m\u001b[0;34m\u001b[0m\u001b[0m\n\u001b[1;32m     82\u001b[0m     \u001b[0;32mif\u001b[0m \u001b[0mX\u001b[0m \u001b[0;32mis\u001b[0m \u001b[0mX_2d\u001b[0m \u001b[0;32mand\u001b[0m \u001b[0mcopy\u001b[0m\u001b[0;34m:\u001b[0m\u001b[0;34m\u001b[0m\u001b[0m\n",
        "\u001b[0;32m/Users/jeongmingi/anaconda/lib/python2.7/site-packages/numpy/core/numeric.pyc\u001b[0m in \u001b[0;36masarray\u001b[0;34m(a, dtype, order)\u001b[0m\n\u001b[1;32m    318\u001b[0m \u001b[0;34m\u001b[0m\u001b[0m\n\u001b[1;32m    319\u001b[0m     \"\"\"\n\u001b[0;32m--> 320\u001b[0;31m     \u001b[0;32mreturn\u001b[0m \u001b[0marray\u001b[0m\u001b[0;34m(\u001b[0m\u001b[0ma\u001b[0m\u001b[0;34m,\u001b[0m \u001b[0mdtype\u001b[0m\u001b[0;34m,\u001b[0m \u001b[0mcopy\u001b[0m\u001b[0;34m=\u001b[0m\u001b[0mFalse\u001b[0m\u001b[0;34m,\u001b[0m \u001b[0morder\u001b[0m\u001b[0;34m=\u001b[0m\u001b[0morder\u001b[0m\u001b[0;34m)\u001b[0m\u001b[0;34m\u001b[0m\u001b[0m\n\u001b[0m\u001b[1;32m    321\u001b[0m \u001b[0;34m\u001b[0m\u001b[0m\n\u001b[1;32m    322\u001b[0m \u001b[0;32mdef\u001b[0m \u001b[0masanyarray\u001b[0m\u001b[0;34m(\u001b[0m\u001b[0ma\u001b[0m\u001b[0;34m,\u001b[0m \u001b[0mdtype\u001b[0m\u001b[0;34m=\u001b[0m\u001b[0mNone\u001b[0m\u001b[0;34m,\u001b[0m \u001b[0morder\u001b[0m\u001b[0;34m=\u001b[0m\u001b[0mNone\u001b[0m\u001b[0;34m)\u001b[0m\u001b[0;34m:\u001b[0m\u001b[0;34m\u001b[0m\u001b[0m\n",
        "\u001b[0;31mValueError\u001b[0m: could not convert string to float: \ubbf8\uc6a9"
       ]
      }
     ],
     "prompt_number": 124
    },
    {
     "cell_type": "code",
     "collapsed": false,
     "input": [],
     "language": "python",
     "metadata": {},
     "outputs": []
    }
   ],
   "metadata": {}
  }
 ]
}