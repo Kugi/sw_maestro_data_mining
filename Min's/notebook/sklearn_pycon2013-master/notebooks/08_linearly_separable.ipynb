{
 "metadata": {
  "name": "08_linearly_separable"
 },
 "nbformat": 3,
 "nbformat_minor": 0,
 "worksheets": [
  {
   "cells": [
    {
     "cell_type": "heading",
     "level": 1,
     "metadata": {},
     "source": [
      "Quick Example: Linearly Separable Data"
     ]
    },
    {
     "cell_type": "markdown",
     "metadata": {},
     "source": [
      "*Much of the code here is from the scikit-learn documentation:* http://scikit-learn.org/stable/auto_examples/applications/svm_gui.html"
     ]
    },
    {
     "cell_type": "markdown",
     "metadata": {},
     "source": [
      "Some supervised learning problems can be solved by very simple models\n",
      "(called generalized linear models) depending on the data. Others simply don\u2019t.\n",
      "\n",
      "To grasp the difference between the two cases, we'll run the interactive\n",
      "graphical example found in the figures directory.  To do this, you can\n",
      "open a terminal and run the file ``svm_gui.py``"
     ]
    },
    {
     "cell_type": "markdown",
     "metadata": {},
     "source": [
      "    >$ cd scripts\n",
      "    >$ python svm_gui.py"
     ]
    },
    {
     "cell_type": "markdown",
     "metadata": {},
     "source": [
      "Put some data points belonging to one of the two target\n",
      "classes (\u2018white\u2019 or \u2018black\u2019) using left click and right click.\n",
      "Choose some parameters of a Support Vector Machine to be trained\n",
      "on this toy dataset (`n_samples` is the number of clicks, `n_features` is 2).\n",
      "Click the Fit but to train the model and see the decision boundary.\n",
      "The accurracy of the model is displayed on stdout."
     ]
    },
    {
     "cell_type": "markdown",
     "metadata": {},
     "source": [
      "The following figures demonstrate one case where a linear model can perfectly separate the two classes while the other is not linearly separable (a model with a gaussian kernel is required in that case)."
     ]
    },
    {
     "cell_type": "code",
     "collapsed": false,
     "input": [
      "%pylab inline"
     ],
     "language": "python",
     "metadata": {},
     "outputs": []
    },
    {
     "cell_type": "code",
     "collapsed": false,
     "input": [
      "from figures.svm_gui_frames import plot_linear_model, plot_rbf_model\n",
      "plot_linear_model()"
     ],
     "language": "python",
     "metadata": {},
     "outputs": []
    },
    {
     "cell_type": "markdown",
     "metadata": {},
     "source": [
      "This figure shows a linear Support Vector Machine trained to perfectly separate two sets of data points labeled as white and black in a 2D space."
     ]
    },
    {
     "cell_type": "code",
     "collapsed": false,
     "input": [
      "plot_rbf_model()"
     ],
     "language": "python",
     "metadata": {},
     "outputs": []
    },
    {
     "cell_type": "markdown",
     "metadata": {},
     "source": [
      "This shows a Support Vector Machine with gaussian kernel trained to separate\n",
      "2 sets of data points labeled as white and black in a 2D space. This dataset\n",
      "would not have been seperated by a simple linear model."
     ]
    },
    {
     "cell_type": "heading",
     "level": 3,
     "metadata": {},
     "source": [
      "Exercise 1:"
     ]
    },
    {
     "cell_type": "markdown",
     "metadata": {},
     "source": [
      "Use the GUI to fit a model that is able to solve the *XOR problem*\n",
      "using the GUI: the XOR problem is composed of 4 samples:\n",
      "\n",
      "- 2 white samples in the top-left and bottom-right corners\n",
      "- 2 black samples in the bottom-left and top-right corners\n",
      "\n",
      "Question: is the XOR problem linearly separable?"
     ]
    },
    {
     "cell_type": "heading",
     "level": 3,
     "metadata": {},
     "source": [
      "Exercise 2:"
     ]
    },
    {
     "cell_type": "markdown",
     "metadata": {},
     "source": [
      "Use the GUI to construct a problem with less than 10 points\n",
      "where the predictive accuracy of the best linear model is 50%."
     ]
    },
    {
     "cell_type": "heading",
     "level": 2,
     "metadata": {},
     "source": [
      "Notes:"
     ]
    },
    {
     "cell_type": "markdown",
     "metadata": {},
     "source": [
      "- The higher the dimension of the feature space, the more likely the data is\n",
      "  linearly separable."
     ]
    }
   ],
   "metadata": {}
  }
 ]
}