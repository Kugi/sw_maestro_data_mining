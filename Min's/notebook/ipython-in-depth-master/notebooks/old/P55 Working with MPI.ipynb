{
 "metadata": {
  "name": "P55 Working with MPI"
 },
 "nbformat": 3,
 "nbformat_minor": 0,
 "worksheets": [
  {
   "cells": [
    {
     "cell_type": "heading",
     "level": 1,
     "metadata": {},
     "source": [
      "Interactive monitoring of a parallel MPI simulation with the IPython Notebook"
     ]
    },
    {
     "cell_type": "markdown",
     "metadata": {},
     "source": [
      "In High Performance Computing (HPC), the [Message Passing Interface](http://www.mcs.anl.gov/research/projects/mpi) (MPI) is the standard tool used for parallel computing, and despite being a capable and powerful system, it is notorious for being unpleasant for lightweight, interactive monitoring and control.  Most MPI codes resort to saving files to the local filesystem where they log data that must then be collected and visualized with separate utilities.  This requires all monitoring calls to be put into the main code and makes it difficult to modify what variables are studied, or the rate at which data is collected, during the code execution.  In summary, traditional approaches make monitoring of MPI parallel codes a fairly rigid and cumbersome affair.\n",
      "\n",
      "In this example, we will illustrate how the IPython parallel computing capabilities can be combined with the interactive IPython notebook, to introspect and monitor the evolution of an existing HPC code that uses MPI for its core communication needs.  IPython's parallel capabilities coexist with MPI without any problems, so it is possible to start an IPython cluster as a single MPI world and use the IPython facilities for interactive monitoring and control, while the main simulation runs using MPI for communications.\n",
      "\n",
      "Here, we will construct a toy 'simulation' that can be run in any traditional HPC environment and will monitor its evolution interactively from the web notebook, using the notebook's facilities for data visualization.  The interactive monitoring will be performed without stopping or slowing down the MPI code.\n",
      "\n",
      "Furthermore, this will be accomplished without requiring any changes to the architecture of the MPI code and only a trivial, minimal change to how the code would have been executed in batch mode.  Importantly, this change does not introduce an IPython dependency into the simulation and has no discernible performance impact. This allows for the same code to be used in production runs absent interactive monitoring.\n",
      "\n",
      "While the 'simulation' we will use here will be trivial to keep the example self-contained, the basic idea can be equally applied to just about any typical MPI code that has main execution entry point.  We have used these features to monitor fluid dynamics codes running on hundreds of processors."
     ]
    },
    {
     "cell_type": "heading",
     "level": 2,
     "metadata": {},
     "source": [
      "Preliminaries: configuration and installation of MPI support"
     ]
    },
    {
     "cell_type": "markdown",
     "metadata": {},
     "source": [
      "The rest of this notebook assumes that you have already configured a profile called `mpi` for your  IPython cluster.  If you do not have a cluster configuration for MPI use, see the IPython documentation for [detailed instructions](http://ipython.org/ipython-doc/rel-0.12.1/parallel/parallel_process.html#using-ipcluster-in-mpiexec-mpirun-mode) on how to create one.  But very briefly, if you are already used to the IPython system, the following may suffice for you.  SSH into your linux instance and create the mpi profile by typing at the system prompt:\n",
      "\n",
      "    ipython profile create --parallel --profile=mpi\n",
      "\t\n",
      "Then, edit the file `$HOME/config/.ipython/profile_mpi/ipcluster_config.py` and instruct IPython to use the MPI cluster launchers by adding (you can find a similar line commented out, uncomment it and adjust the value):\n",
      "\n",
      "    c.IPClusterEngines.engine_launcher_class = 'MPI'\n",
      "\n",
      "That's the gist of it.\n",
      "\n",
      "Furthermore, this tutorial is mostly aimed at those who already have a  working MPI application and therefore have MPI configured on their system.  If that is not your case, you can (assuming you created an Ubuntu-based VM) grab all the necessary dependencies by typing at the system prompt:\n",
      "\n",
      "    sudo apt-get install python-mpi4py\n",
      "\n",
      "On OSX, you can get openmpi from homebrew and mpi4py with pip (or just use EPD):\n",
      "\n",
      "    brew install open-mpi\n",
      "    pip install mpi4py\n"
     ]
    },
    {
     "cell_type": "heading",
     "level": 2,
     "metadata": {},
     "source": [
      "Load IPython support for working with MPI tasks"
     ]
    },
    {
     "cell_type": "markdown",
     "metadata": {},
     "source": [
      "If you have not done so yet, use [the cluster tab in the Dashboard](/#tab2) to start your `mpi` cluster, it should be OK to leave the number of engines field empty (IPython will try to detect the number of cores on your machine), unless you want to limit the run to use less cores than available in total.  Once your MPI cluster is running, you can proceed with the rest of the code.\n",
      "\n",
      "We begin by creating a cluster client that gives us a local handle on the engines running in the (possibly remote) MPI cluster.  From the client we make a `view` object, which we set to use blocking mode by default as it is more convenient for interactive control.  Since the real computation will be done over MPI without IPython intervention, setting the default behavior to be blocking will have no significant performance impact.\n",
      "\n",
      "**Note:** if on first try the following cell gives you an error message, wait a few seconds and run it again. It's possible that the system is simply initializing all your MPI engines, which may take a bit of time to be completely ready if you hadn't used any MPI libraries recently and the disk cache is cold."
     ]
    },
    {
     "cell_type": "code",
     "collapsed": false,
     "input": [
      "%pylab inline"
     ],
     "language": "python",
     "metadata": {},
     "outputs": [
      {
       "output_type": "stream",
       "stream": "stdout",
       "text": [
        "\n",
        "Welcome to pylab, a matplotlib-based Python environment [backend: module://IPython.zmq.pylab.backend_inline].\n",
        "For more information, type 'help(pylab)'.\n"
       ]
      }
     ],
     "prompt_number": 11
    },
    {
     "cell_type": "code",
     "collapsed": false,
     "input": [
      "from IPython import parallel\n",
      "client = parallel.Client(profile=\"mpi\")\n",
      "view = client[:]\n",
      "view.block = True\n",
      "view"
     ],
     "language": "python",
     "metadata": {},
     "outputs": [
      {
       "output_type": "pyout",
       "prompt_number": 13,
       "text": [
        "<DirectView [0, 1, 2, 3]>"
       ]
      }
     ],
     "prompt_number": 13
    },
    {
     "cell_type": "markdown",
     "metadata": {},
     "source": [
      "Let's also load the plotting and numerical libraries so we have them ready for visualization later on."
     ]
    },
    {
     "cell_type": "markdown",
     "metadata": {},
     "source": [
      "Now, we load the MPI libraries into the engine namespaces, and do a simple printing of their MPI rank information to verify that all nodes are operational and they match our cluster's real capacity.  \n",
      "\n",
      "Here, we are making use of IPython's special `%%px` cell magic, which marks the entire cell for parallel execution.  This means that the code below will not run in this notebook's kernel, but instead will be sent to *all* engines for execution there.  In this way, IPython makes it very natural to control your entire cluster from within the notebook environment:"
     ]
    },
    {
     "cell_type": "code",
     "collapsed": false,
     "input": [
      "%%px\n",
      "# MPI initialization, library imports and sanity checks on all engines\n",
      "from mpi4py import MPI\n",
      "import numpy as np\n",
      "import time\n",
      "\n",
      "mpi = MPI.COMM_WORLD\n",
      "bcast = mpi.bcast\n",
      "barrier = mpi.barrier\n",
      "rank = mpi.rank\n",
      "print \"MPI rank: %i/%i\" % (mpi.rank,mpi.size)"
     ],
     "language": "python",
     "metadata": {},
     "outputs": [
      {
       "output_type": "stream",
       "stream": "stdout",
       "text": [
        "[stdout:0] MPI rank: 1/4\n",
        "[stdout:1] MPI rank: 0/4\n",
        "[stdout:2] MPI rank: 3/4\n",
        "[stdout:3] MPI rank: 2/4\n"
       ]
      }
     ],
     "prompt_number": 14
    },
    {
     "cell_type": "markdown",
     "metadata": {},
     "source": [
      "We write a utility that reorders a list according to the mpi ranks of the engines, since all gather operations will return data in engine id order, not in MPI rank order.  We'll need this later on when we want to reassemble in IPython data structures coming from all the engines: IPython will collect the data ordered by engine ID, but our code creates data structures based on MPI rank, so we need to map from one indexing scheme to the other.  This simple function does the job:"
     ]
    },
    {
     "cell_type": "code",
     "collapsed": false,
     "input": [
      "ranks = view['rank']\n",
      "rank_indices = np.argsort(ranks)\n",
      "\n",
      "def mpi_order(seq):\n",
      "    \"\"\"Return elements of a sequence ordered by MPI rank.\n",
      "\n",
      "    The input sequence is assumed to be the same order as returned by `view`\n",
      "    \"\"\"\n",
      "    return [seq[x] for x in rank_indices]"
     ],
     "language": "python",
     "metadata": {},
     "outputs": [],
     "prompt_number": 16
    },
    {
     "cell_type": "heading",
     "level": 2,
     "metadata": {},
     "source": [
      "MPI simulation example"
     ]
    },
    {
     "cell_type": "markdown",
     "metadata": {},
     "source": [
      "This is our 'simulation', a toy example that computes $\\sin(f(x^2+y^2))$ for a slowly increasing frequency $f$ over a gradually refined mesh.  In a real-world example, there typically is a 'simulate' method that, afer setting up initial parameters, runs the entire computation.  But having this simple example will be sufficient to see something that changes visually as the computation evolves and that is quick enough for us to test.\n",
      "\n",
      "And while simple, this example has a realistic decomposition of the spatial domain in one array per MPI node that requires care in reordering the data for visualization, as would be needed in a real-world application (unless your code accumulates data in the rank 0 node that you can grab directly)."
     ]
    },
    {
     "cell_type": "code",
     "collapsed": false,
     "input": [
      "%%px\n",
      "\n",
      "stop = False\n",
      "nsteps = 100\n",
      "delay = 0.4\n",
      "\n",
      "xmin, xmax = 0, np.pi\n",
      "ymin, ymax = 0, 2*np.pi\n",
      "dy = (ymax-ymin)/mpi.size\n",
      "\n",
      "def step(j, f):\n",
      "    global Z, nx, nyt\n",
      "    nx, ny = 2+j/4, 2+j/2/mpi.size\n",
      "    nyt = mpi.size*ny\n",
      "    Xax = np.linspace(xmin, xmax, nx)\n",
      "    Yax = np.linspace(ymin+rank*dy, ymin+(rank+1)*dy, ny, endpoint=rank==mpi.size)\n",
      "    X, Y = np.meshgrid(Xax, Yax)\n",
      "    Z = np.cos(f*(X**2 + Y**2))\n",
      "    # We add a small delay to simulate that a real-world computation\n",
      "    # would take much longer, and we ensure all nodes are synchronized\n",
      "    time.sleep(delay)\n",
      "    return Z\n",
      "\n",
      "def simulation():\n",
      "    \"\"\"Toy simulation code, computes sin(f*(x**2+y**2)) for a slowly increasing f\n",
      "    over an increasingly fine mesh.\n",
      "\n",
      "    The purpose of this code is simply to illustrate the basic features of a typical\n",
      "    MPI code: spatial domain decomposition, a solution which is evolving in some \n",
      "    sense, and local per-node computation.  In this case the nodes don't really\n",
      "    communicate at all.\n",
      "    \"\"\"\n",
      "    # By making these few variables global, we allow the IPython client to access them\n",
      "    # remotely for interactive introspection\n",
      "    global j\n",
      "    freqs = np.linspace(0.6, 1, nsteps)\n",
      "    for j,f in enumerate(freqs):\n",
      "        step(j,f)\n",
      "        # The stop flag can be set remotely via IPython, allowing the simulation to be\n",
      "        # cleanly stopped from the outside\n",
      "        if stop:\n",
      "            break"
     ],
     "language": "python",
     "metadata": {},
     "outputs": [],
     "prompt_number": 68
    },
    {
     "cell_type": "heading",
     "level": 2,
     "metadata": {},
     "source": [
      "IPython tools to interactively monitor and plot the MPI results"
     ]
    },
    {
     "cell_type": "markdown",
     "metadata": {},
     "source": [
      "We now define a local (to this notebook) plotting function that fetches data from the engines' global namespace.  Once it has retrieved the current state of the relevant variables, it produces and returns a figure:"
     ]
    },
    {
     "cell_type": "code",
     "collapsed": false,
     "input": [
      "from IPython.display import clear_output\n",
      "\n",
      "def plot_z(Z, nx, nyt, j, nsteps, in_place=False):\n",
      "    fig, ax = plt.subplots()\n",
      "    ax.contourf(Z)\n",
      "    ax.set_title('Mesh: %i x %i, step %i/%i' % (nx, nyt, j+1, nsteps))\n",
      "    axis('off')\n",
      "    # We clear the notebook output before plotting this if in-place plot updating is requested\n",
      "    if in_place:\n",
      "        clear_output()\n",
      "    display(fig)\n",
      "    return fig\n"
     ],
     "language": "python",
     "metadata": {},
     "outputs": [],
     "prompt_number": 75
    },
    {
     "cell_type": "code",
     "collapsed": false,
     "input": [
      "def plot_current_results(in_place=True, previous=None):\n",
      "    \"\"\"Makes a blocking call to retrieve remote data and displays the solution mesh\n",
      "    as a contour plot.\n",
      "    \n",
      "    Parameters\n",
      "    ----------\n",
      "    in_place : bool\n",
      "        By default it calls clear_output so that new plots replace old ones.  Set\n",
      "        to False to allow keeping of all previous outputs.\n",
      "    \"\"\"\n",
      "    \n",
      "    # We make a blocking call to load the remote data from the simulation into simple named \n",
      "    # variables we can read from the engine namespaces\n",
      "    #view.apply_sync(load_simulation_globals)\n",
      "    # And now we can use the view to read these variables from all the engines.  Then we\n",
      "    # concatenate all of them into single arrays for local plotting\n",
      "    try:\n",
      "        Z = np.concatenate(mpi_order(view['Z']))\n",
      "    except ValueError:\n",
      "        print \"dimension mismatch in Z, not plotting\"\n",
      "        return 0, plt.gcf()\n",
      "        \n",
      "    nx, nyt, j, nsteps = view.pull(['nx', 'nyt', 'j', 'nsteps'], targets=0)\n",
      "    if in_place and j == previous:\n",
      "        # nothing to do\n",
      "        return j, plt.gcf()\n",
      "    fig = plot_z(Z, nx, nyt, j, nsteps, in_place)\n",
      "    return j, fig"
     ],
     "language": "python",
     "metadata": {},
     "outputs": [],
     "prompt_number": 81
    },
    {
     "cell_type": "markdown",
     "metadata": {},
     "source": [
      "It will also be useful to be able to check whether the simulation is still alive or not.  Below we will wrap the main simulation function into a thread to allow IPython to pull data from the engines, and we will call this object `simulation_thread`.  So to check whether the code is still running, all we have to do is call the `is_alive` method on all of our engines and see whether any of them returns True:"
     ]
    },
    {
     "cell_type": "code",
     "collapsed": false,
     "input": [
      "def simulation_alive():\n",
      "    \"\"\"Return True if the simulation thread is still running on any engine.\n",
      "    \"\"\"\n",
      "    return any(view.apply_sync(lambda : simulation_thread.is_alive()))"
     ],
     "language": "python",
     "metadata": {},
     "outputs": [],
     "prompt_number": 82
    },
    {
     "cell_type": "markdown",
     "metadata": {},
     "source": [
      "Finally, this is a convenience wrapper around the plotting code so that we can interrupt monitoring at any point, and that will provide basic timing information:"
     ]
    },
    {
     "cell_type": "code",
     "collapsed": false,
     "input": [
      "def monitor_simulation(refresh=5.0, plots_in_place=True):\n",
      "    \"\"\"Monitor the simulation progress and call plotting routine.\n",
      "\n",
      "    Supress KeyboardInterrupt exception if interrupted, ensure that the last \n",
      "    figure is always displayed and provide basic timing and simulation status.\n",
      "\n",
      "    Parameters\n",
      "    ----------\n",
      "    refresh : float\n",
      "      Refresh interval between calls to retrieve and plot data.  The default\n",
      "      is 5s, adjust depending on the desired refresh rate, but be aware that \n",
      "      very short intervals will start having a significant impact.\n",
      "\n",
      "    plots_in_place : bool\n",
      "       If true, every new figure replaces the last one, producing a (slow)\n",
      "       animation effect in the notebook.  If false, all frames are plotted\n",
      "       in sequence and appended in the output area.\n",
      "    \"\"\"\n",
      "    import datetime as dt, time\n",
      "    \n",
      "    if not simulation_alive():\n",
      "        plot_current_results(in_place=plots_in_place)\n",
      "        plt.close('all')\n",
      "        print 'Simulation has already finished, no monitoring to do.'\n",
      "        return\n",
      "    \n",
      "    t0 = dt.datetime.now()\n",
      "    fig = None\n",
      "    prev = None\n",
      "    try:\n",
      "        while simulation_alive():\n",
      "            prev, fig = plot_current_results(in_place=plots_in_place, previous=prev)\n",
      "            plt.close('all') # prevent re-plot of old figures\n",
      "            time.sleep(refresh) # so we don't hammer the server too fast\n",
      "    except (KeyboardInterrupt, parallel.TimeoutError):\n",
      "        msg = 'Monitoring interrupted, simulation is ongoing!'\n",
      "    else:\n",
      "        msg = 'Simulation completed!'\n",
      "    tmon = dt.datetime.now() - t0\n",
      "    if plots_in_place and fig is not None:\n",
      "        prev, fig = plot_current_results(in_place=plots_in_place, previous=prev)\n",
      "        plt.close('all') # prevent re-plot of old figures\n",
      "    print msg\n",
      "    print 'Monitored for: %s.' % tmon"
     ],
     "language": "python",
     "metadata": {},
     "outputs": [],
     "prompt_number": 83
    },
    {
     "cell_type": "heading",
     "level": 2,
     "metadata": {},
     "source": [
      "Making a simulation object that can be monitored interactively"
     ]
    },
    {
     "cell_type": "markdown",
     "metadata": {},
     "source": [
      "Now we come to grips with the key question: how can we monitor and control our MPI simulation interactively, without adding extra code to the `simulation` function we defined above, and without significant performance impact?  As it turns out, the combination of IPython and a simple use of Python threads lets us achieve this goal with minimal effort.\n",
      "\n",
      "The key idea is to call the main solution method (in this case `simulation`) in a *secondary worker thread*, leaving the main thread available to answer for IPython requests.  This separation allows all computation and MPI communications to happen in one thread, while the other is available for communication with an interactive control client (typically, but not necessarily, a human inspecting the results).  While we have chosen to put the IPython code in the main thread and the MPI code in the secondary one, these roles can be reveresed without ill effects.\n",
      "\n",
      "In cases where the numerical code has manual control of the time-stepping, one can very easily write a small helper class that advances the simulation step by step from the thread.  Such a configuration will then permit not only monitorig and inspection, but also pausing and restarting of the simulation (even with adjustment of parameters).  But for now, the following simple code suffices that uses the default `Thread` class without modifications.\n",
      "\n",
      "Here we set a few parameters for the simulation, create the thread object and start it on all the engines (note the `%%px` marker at the top).\n",
      "\n",
      "In the next cell, which runs *in this notebook*, we can then proceed to monitor things.  That cell can be interrupted (using the Kernel menu) and re-executed as many times as desired, and it will pick up data from the MPI engines in whatever state they are at that time:"
     ]
    },
    {
     "cell_type": "code",
     "collapsed": false,
     "input": [
      "%%px\n",
      "from threading import Thread\n",
      "stop = False\n",
      "nsteps = 42\n",
      "delay=0.5\n",
      "# Create a thread wrapper for the simulation. The target must be an argument-less\n",
      "# function so we wrap the call to 'simulation' in a simple lambda:\n",
      "simulation_thread = Thread(target = lambda : simulation())\n",
      "# Now we actually start the simulation\n",
      "simulation_thread.start()"
     ],
     "language": "python",
     "metadata": {},
     "outputs": [],
     "prompt_number": 84
    },
    {
     "cell_type": "code",
     "collapsed": false,
     "input": [
      "monitor_simulation(refresh=0.1);"
     ],
     "language": "python",
     "metadata": {},
     "outputs": [
      {
       "output_type": "display_data",
       "png": "[encoded data removed]",
       "text": [
        "<matplotlib.figure.Figure at 0x10cb36750>"
       ]
      },
      {
       "output_type": "stream",
       "stream": "stdout",
       "text": [
        "Simulation completed!"
       ]
      },
      {
       "output_type": "stream",
       "stream": "stdout",
       "text": [
        "\n",
        "Monitored for: 0:00:20.760917.\n"
       ]
      }
     ],
     "prompt_number": 85
    },
    {
     "cell_type": "markdown",
     "metadata": {},
     "source": [
      "<!-- dumb spacer because I don't like the flicker -->\n",
      "<div style='height:400px'></div>"
     ]
    },
    {
     "cell_type": "markdown",
     "metadata": {},
     "source": [
      "If you execute the following cell before the MPI code is finished running, it will stop the simulation at that point, which you can verify by calling the monitoring again:"
     ]
    },
    {
     "cell_type": "code",
     "collapsed": false,
     "input": [
      "view['stop'] = True"
     ],
     "language": "python",
     "metadata": {},
     "outputs": [],
     "prompt_number": 21
    },
    {
     "cell_type": "heading",
     "level": 2,
     "metadata": {},
     "source": [
      "Steps as Tasks"
     ]
    },
    {
     "cell_type": "markdown",
     "metadata": {},
     "source": [
      "Another method to integrate with an existing simulation is to formulate each step or block of steps as a single task.  \n",
      "This is the easiest way to fetch intermediate results at a particular interval."
     ]
    },
    {
     "cell_type": "code",
     "collapsed": false,
     "input": [
      "rstep = parallel.Reference('step')\n",
      "nsteps = 42\n",
      "freqs = np.linspace(0.6, 1, nsteps)\n",
      "# submit all of the steps immediately:\n",
      "ars = [view.apply_async(rstep, j, f) for j,f in enumerate(freqs)]\n",
      "# iterate over the results and plot them as they come:\n",
      "for j, ar in enumerate(ars):\n",
      "    Z = np.concatenate(mpi_order(ar.get()))\n",
      "    nx, ny = 2+j/4, 2+j/2/len(view)\n",
      "    nyt = len(view)*ny\n",
      "    fig = plot_z(Z, nx, nyt, j, nsteps, in_place=True)\n",
      "    plt.close('all')"
     ],
     "language": "python",
     "metadata": {},
     "outputs": [
      {
       "output_type": "display_data",
       "png": "[encoded data removed]",
       "text": [
        "<matplotlib.figure.Figure at 0x10e065f90>"
       ]
      }
     ],
     "prompt_number": 91
    },
    {
     "cell_type": "code",
     "collapsed": false,
     "input": [],
     "language": "python",
     "metadata": {},
     "outputs": []
    }
   ],
   "metadata": {}
  }
 ]
}