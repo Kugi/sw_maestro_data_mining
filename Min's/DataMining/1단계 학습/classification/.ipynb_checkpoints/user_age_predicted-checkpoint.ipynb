{
 "metadata": {
  "name": ""
 },
 "nbformat": 3,
 "nbformat_minor": 0,
 "worksheets": [
  {
   "cells": [
    {
     "cell_type": "code",
     "collapsed": false,
     "input": [
      "cd"
     ],
     "language": "python",
     "metadata": {},
     "outputs": [
      {
       "output_type": "stream",
       "stream": "stdout",
       "text": [
        "/Users/jeongmingi\n"
       ]
      }
     ],
     "prompt_number": 2
    },
    {
     "cell_type": "markdown",
     "metadata": {},
     "source": [
      "#### - \uc720\uc800 \ub098\uc774\ub97c \uad6c\ubd84\ud558\ub294\ub370 \uc788\uc5b4\uc11c \uc77c\ub82c\uc758 \ub098\uc774\ub97c \uad6c\ubd84\ud558\uae30\uc5d0\ub294 \uac01 class\uac04\uc758 data\uac00 \uc801\uae30 \ub54c\ubb38\uc5d0 classification(c=1.0, train_n = 6000\uac1c, 8% \uc815\ud655\ub3c4)\ubcf4\ub2e4\ub294 regression\uc774 \ud544\uc694\ud558\ub2e4.  \n",
      "#### - \ub530\ub77c\uc11c classification\uc740 10\ub300, 20\ub300, 30\ub300... \uc744 \uad6c\ubd84\ud558\ub294\ub370 \uc0ac\uc6a9\ud55c\ub2e4."
     ]
    },
    {
     "cell_type": "code",
     "collapsed": false,
     "input": [
      "from sklearn.datasets import load_svmlight_file\n",
      "X, y = load_svmlight_file(\"desktop/data/user_age.dat\")\n"
     ],
     "language": "python",
     "metadata": {},
     "outputs": [],
     "prompt_number": 3
    },
    {
     "cell_type": "code",
     "collapsed": false,
     "input": [
      "print X.shape, y.shape\n",
      "n_samples, n_features = X.shape"
     ],
     "language": "python",
     "metadata": {},
     "outputs": [
      {
       "output_type": "stream",
       "stream": "stdout",
       "text": [
        "(42934, 49683) (42934,)\n"
       ]
      }
     ],
     "prompt_number": 14
    },
    {
     "cell_type": "markdown",
     "metadata": {},
     "source": [
      "#Create SVC Model for _\"ages\"_ (LinearSVC)"
     ]
    },
    {
     "cell_type": "code",
     "collapsed": false,
     "input": [
      "from sklearn.svm import LinearSVC"
     ],
     "language": "python",
     "metadata": {},
     "outputs": [],
     "prompt_number": 29
    },
    {
     "cell_type": "code",
     "collapsed": false,
     "input": [
      "import numpy as np"
     ],
     "language": "python",
     "metadata": {},
     "outputs": [],
     "prompt_number": 30
    },
    {
     "cell_type": "code",
     "collapsed": false,
     "input": [
      "from sklearn.grid_search import GridSearchCV\n",
      "from sklearn.cross_validation import train_test_split\n",
      "\n",
      "X_train, X_test, y_train, y_test = train_test_split(X, y, test_size=0.5,\n",
      "                                                    random_state=0)\n",
      "\n",
      "Lparam = {\n",
      "         'C': np.logspace(-5, 5, 4),\n",
      "}\n",
      "print(Lparam)\n",
      "\n",
      "gcv = GridSearchCV(LinearSVC(), Lparam, cv=3, n_jobs=-1)\n",
      "\n",
      "%time _ = gcv.fit(X_train, y_train)"
     ],
     "language": "python",
     "metadata": {},
     "outputs": [
      {
       "output_type": "stream",
       "stream": "stdout",
       "text": [
        "CPU times: user 45.8 s, sys: 686 ms, total: 46.4 s\n",
        "Wall time: 3min 33s\n"
       ]
      },
      {
       "output_type": "stream",
       "stream": "stdout",
       "text": [
        "{'C': array([  1.00000000e-05,   2.15443469e-02,   4.64158883e+01,\n",
        "         1.00000000e+05])}\n"
       ]
      },
      {
       "output_type": "stream",
       "stream": "stdout",
       "text": [
        "{'C': array([  1.00000000e-05,   2.15443469e-02,   4.64158883e+01,\n",
        "         1.00000000e+05])}\n"
       ]
      },
      {
       "output_type": "stream",
       "stream": "stdout",
       "text": [
        "CPU times: user 46.1 s, sys: 572 ms, total: 46.7 s\n",
        "Wall time: 3min 35s\n"
       ]
      },
      {
       "output_type": "stream",
       "stream": "stdout",
       "text": [
        "{'C': array([  1.00000000e-05,   2.15443469e-02,   4.64158883e+01,\n",
        "         1.00000000e+05])}\n"
       ]
      }
     ],
     "prompt_number": 18
    },
    {
     "cell_type": "code",
     "collapsed": false,
     "input": [
      "gcv.best_params_, gcv.best_score_"
     ],
     "language": "python",
     "metadata": {},
     "outputs": [
      {
       "output_type": "pyout",
       "prompt_number": 42,
       "text": [
        "({'C': 0.021544346900318846}, 0.69874703408528216)"
       ]
      }
     ],
     "prompt_number": 42
    },
    {
     "cell_type": "code",
     "collapsed": false,
     "input": [
      "L_svc = LinearSVC(C=0.021544).fit(X_train,y_train)\n",
      "L_svc.score(X_train,y_train), L_svc.score(X_test,y_test)"
     ],
     "language": "python",
     "metadata": {},
     "outputs": [
      {
       "output_type": "pyout",
       "prompt_number": 43,
       "text": [
        "(0.90632133041412399, 0.70219406530954487)"
       ]
      }
     ],
     "prompt_number": 43
    },
    {
     "cell_type": "code",
     "collapsed": false,
     "input": [
      "from sklearn.externals import joblib\n",
      "\n",
      "filename = \"age_my_model_70.pkl\"\n",
      "joblib.dump(L_svc, filename, compress=9)\n"
     ],
     "language": "python",
     "metadata": {},
     "outputs": [
      {
       "output_type": "pyout",
       "prompt_number": 47,
       "text": [
        "['age_my_model_70.pkl']"
       ]
      }
     ],
     "prompt_number": 47
    },
    {
     "cell_type": "code",
     "collapsed": false,
     "input": [
      "pwd"
     ],
     "language": "python",
     "metadata": {},
     "outputs": [
      {
       "output_type": "pyout",
       "prompt_number": 46,
       "text": [
        "u'/Users/jeongmingi/Desktop/DataMining2'"
       ]
      }
     ],
     "prompt_number": 46
    },
    {
     "cell_type": "markdown",
     "metadata": {},
     "source": [
      "#Create SVC Model for _\"ages\"_ (default : rbf)"
     ]
    },
    {
     "cell_type": "code",
     "collapsed": false,
     "input": [
      "n_subsamples = 1000\n",
      "X_small_train, y_small_train = X[:n_subsamples], y[:n_subsamples]\n"
     ],
     "language": "python",
     "metadata": {},
     "outputs": [],
     "prompt_number": 4
    },
    {
     "cell_type": "markdown",
     "metadata": {},
     "source": [
      " \n",
      "* **introspect the details of the GridSearch outcome**"
     ]
    },
    {
     "cell_type": "code",
     "collapsed": false,
     "input": [
      "from sklearn.svm import SVC\n",
      "from scipy.stats import sem\n",
      "\n",
      "def display_scores(params, scores, append_star=False):\n",
      "    \"\"\"Format the mean score +/- std error for params\"\"\"\n",
      "    params = \", \".join(\"{0}={1}\".format(k, v)\n",
      "                      for k, v in params.items())\n",
      "    line = \"{0}:\\t{1:.3f} (+/-{2:.3f})\".format(\n",
      "        params, np.mean(scores), sem(scores))\n",
      "    if append_star:\n",
      "        line += \" *\"\n",
      "    return line\n",
      "\n",
      "def display_grid_scores(grid_scores, top=None):\n",
      "    \"\"\"Helper function to format a report on a grid of scores\"\"\"\n",
      "    \n",
      "    grid_scores = sorted(grid_scores, key=lambda x: x[1], reverse=True)\n",
      "    if top is not None:\n",
      "        grid_scores = grid_scores[:top]\n",
      "        \n",
      "    # Compute a threshold for staring models with overlapping\n",
      "    # stderr:\n",
      "    _, best_mean, best_scores = grid_scores[0]\n",
      "    threshold = best_mean - 2 * sem(best_scores)\n",
      "    \n",
      "    for params, mean_score, scores in grid_scores:\n",
      "        append_star = mean_score + 2 * sem(scores) > threshold\n",
      "        print(display_scores(params, scores, append_star=append_star))"
     ],
     "language": "python",
     "metadata": {},
     "outputs": [],
     "prompt_number": 13
    },
    {
     "cell_type": "code",
     "collapsed": false,
     "input": [
      "from pprint import pprint\n",
      "from sklearn.grid_search import GridSearchCV\n",
      "import numpy as np\n",
      "\n",
      "svc_params = {\n",
      "    'C': np.logspace(-1, 2, 4),\n",
      "    'gamma': np.logspace(-4, 0, 5),\n",
      "}\n",
      "pprint(svc_params)\n",
      "\n",
      "gs_svc = GridSearchCV(SVC(), svc_params, cv=3, n_jobs=-1)\n",
      "gs_svc.fit(X_small_train, y_small_train)\n"
     ],
     "language": "python",
     "metadata": {},
     "outputs": [
      {
       "output_type": "stream",
       "stream": "stdout",
       "text": [
        "{'C': array([   0.1,    1. ,   10. ,  100. ]),\n",
        " 'gamma': array([  1.00000000e-04,   1.00000000e-03,   1.00000000e-02,\n",
        "         1.00000000e-01,   1.00000000e+00])}\n"
       ]
      }
     ],
     "prompt_number": "*"
    },
    {
     "cell_type": "code",
     "collapsed": false,
     "input": [
      "gs_svc.best_params_, gs_svc.best_score_"
     ],
     "language": "python",
     "metadata": {},
     "outputs": [
      {
       "metadata": {},
       "output_type": "pyout",
       "prompt_number": 10,
       "text": [
        "({'C': 10.0, 'gamma': 0.001}, 0.60997224769679859)"
       ]
      }
     ],
     "prompt_number": 10
    },
    {
     "cell_type": "code",
     "collapsed": false,
     "input": [
      "display_grid_scores(gs_svc.grid_scores_, top=20)"
     ],
     "language": "python",
     "metadata": {},
     "outputs": [
      {
       "ename": "NameError",
       "evalue": "global name 'sem' is not defined",
       "output_type": "pyerr",
       "traceback": [
        "\u001b[0;31m---------------------------------------------------------------------------\u001b[0m\n\u001b[0;31mNameError\u001b[0m                                 Traceback (most recent call last)",
        "\u001b[0;32m<ipython-input-12-a26c9bdcf556>\u001b[0m in \u001b[0;36m<module>\u001b[0;34m()\u001b[0m\n\u001b[0;32m----> 1\u001b[0;31m \u001b[0mdisplay_grid_scores\u001b[0m\u001b[0;34m(\u001b[0m\u001b[0mgs_svc\u001b[0m\u001b[0;34m.\u001b[0m\u001b[0mgrid_scores_\u001b[0m\u001b[0;34m,\u001b[0m \u001b[0mtop\u001b[0m\u001b[0;34m=\u001b[0m\u001b[0;36m20\u001b[0m\u001b[0;34m)\u001b[0m\u001b[0;34m\u001b[0m\u001b[0m\n\u001b[0m",
        "\u001b[0;32m<ipython-input-5-af396eeb8414>\u001b[0m in \u001b[0;36mdisplay_grid_scores\u001b[0;34m(grid_scores, top)\u001b[0m\n\u001b[1;32m     21\u001b[0m     \u001b[0;31m# stderr:\u001b[0m\u001b[0;34m\u001b[0m\u001b[0;34m\u001b[0m\u001b[0m\n\u001b[1;32m     22\u001b[0m     \u001b[0m_\u001b[0m\u001b[0;34m,\u001b[0m \u001b[0mbest_mean\u001b[0m\u001b[0;34m,\u001b[0m \u001b[0mbest_scores\u001b[0m \u001b[0;34m=\u001b[0m \u001b[0mgrid_scores\u001b[0m\u001b[0;34m[\u001b[0m\u001b[0;36m0\u001b[0m\u001b[0;34m]\u001b[0m\u001b[0;34m\u001b[0m\u001b[0m\n\u001b[0;32m---> 23\u001b[0;31m     \u001b[0mthreshold\u001b[0m \u001b[0;34m=\u001b[0m \u001b[0mbest_mean\u001b[0m \u001b[0;34m-\u001b[0m \u001b[0;36m2\u001b[0m \u001b[0;34m*\u001b[0m \u001b[0msem\u001b[0m\u001b[0;34m(\u001b[0m\u001b[0mbest_scores\u001b[0m\u001b[0;34m)\u001b[0m\u001b[0;34m\u001b[0m\u001b[0m\n\u001b[0m\u001b[1;32m     24\u001b[0m \u001b[0;34m\u001b[0m\u001b[0m\n\u001b[1;32m     25\u001b[0m     \u001b[0;32mfor\u001b[0m \u001b[0mparams\u001b[0m\u001b[0;34m,\u001b[0m \u001b[0mmean_score\u001b[0m\u001b[0;34m,\u001b[0m \u001b[0mscores\u001b[0m \u001b[0;32min\u001b[0m \u001b[0mgrid_scores\u001b[0m\u001b[0;34m:\u001b[0m\u001b[0;34m\u001b[0m\u001b[0m\n",
        "\u001b[0;31mNameError\u001b[0m: global name 'sem' is not defined"
       ]
      }
     ],
     "prompt_number": 12
    },
    {
     "cell_type": "code",
     "collapsed": false,
     "input": [],
     "language": "python",
     "metadata": {},
     "outputs": []
    }
   ],
   "metadata": {}
  }
 ]
}