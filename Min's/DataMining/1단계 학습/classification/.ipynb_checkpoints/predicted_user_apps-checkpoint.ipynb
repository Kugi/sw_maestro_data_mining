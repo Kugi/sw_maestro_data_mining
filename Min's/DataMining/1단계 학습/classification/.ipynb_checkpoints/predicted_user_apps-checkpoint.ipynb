{
 "metadata": {
  "name": ""
 },
 "nbformat": 3,
 "nbformat_minor": 0,
 "worksheets": [
  {
   "cells": [
    {
     "cell_type": "code",
     "collapsed": false,
     "input": [
      "%pylab"
     ],
     "language": "python",
     "metadata": {},
     "outputs": [
      {
       "output_type": "stream",
       "stream": "stdout",
       "text": [
        "Using matplotlib backend: MacOSX\n",
        "Populating the interactive namespace from numpy and matplotlib\n"
       ]
      }
     ],
     "prompt_number": 111
    },
    {
     "cell_type": "code",
     "collapsed": false,
     "input": [
      "\n",
      "from sklearn.datasets import load_svmlight_file\n",
      "X, y = load_svmlight_file(\"desktop/data/user_gender.txt\")"
     ],
     "language": "python",
     "metadata": {},
     "outputs": [],
     "prompt_number": 87
    },
    {
     "cell_type": "code",
     "collapsed": false,
     "input": [
      "X.shape, y.shape"
     ],
     "language": "python",
     "metadata": {},
     "outputs": [
      {
       "metadata": {},
       "output_type": "pyout",
       "prompt_number": 92,
       "text": [
        "((46984, 52600), (46984,))"
       ]
      }
     ],
     "prompt_number": 92
    },
    {
     "cell_type": "markdown",
     "metadata": {},
     "source": [
      "#Create SVC Model for _\"gender\"_ (default : rbf)"
     ]
    },
    {
     "cell_type": "markdown",
     "metadata": {},
     "source": [
      "- 15000\uac1c \ub3cc\ub9ac\ub2c8\uae50 \uba48\ucd94\ub124\uc694.. 10000\uac1c \uae4c\uc9c0\ub9cc \ub3cc\ub824\uc11c 'my_model.pkl 10000' \ud30c\uc77c\uba85\uc73c\ub85c \uc800\uc7a5."
     ]
    },
    {
     "cell_type": "code",
     "collapsed": false,
     "input": [
      "n_subsamples = 15000\n",
      "X_small_train, y_small_train = X[:n_subsamples], y[:n_subsamples]\n"
     ],
     "language": "python",
     "metadata": {},
     "outputs": [],
     "prompt_number": 151
    },
    {
     "cell_type": "markdown",
     "metadata": {},
     "source": [
      "### - BY GRAPH, \ucd5c\uc801\uc758 parameters\ucc3e\uae30... (file : 'SVC_params_gender_graph.txt')"
     ]
    },
    {
     "cell_type": "code",
     "collapsed": false,
     "input": [
      "from sklearn.cross_validation import ShuffleSplit\n",
      "from sklearn.svm import SVC\n",
      "import numpy as np\n",
      "import pylab as pl\n",
      "\n",
      "\n",
      "n_Cs = 10\n",
      "n_iter = 5\n",
      "cv = ShuffleSplit(n_subsamples, n_iter=n_iter, train_size=500, test_size=500,\n",
      "    random_state=0)\n",
      "\n",
      "train_scores = np.zeros((n_Cs, n_iter))\n",
      "test_scores = np.zeros((n_Cs, n_iter))\n",
      "Cs = np.logspace(-5, 5, n_Cs)\n",
      "\n",
      "for i, C in enumerate(Cs):\n",
      "    for j, (train, test) in enumerate(cv):\n",
      "        clf = SVC(C=C, gamma=1e-4).fit(X[train], y[train])\n",
      "        train_scores[i, j] = clf.score(X[train], y[train])\n",
      "        test_scores[i, j] = clf.score(X[test], y[test])"
     ],
     "language": "python",
     "metadata": {},
     "outputs": [],
     "prompt_number": 122
    },
    {
     "cell_type": "code",
     "collapsed": false,
     "input": [
      "for i in range(n_iter):\n",
      "    pl.semilogx(Cs, train_scores[:, i], alpha=0.4, lw=2, c='b')\n",
      "    pl.semilogx(Cs, test_scores[:, i], alpha=0.4, lw=2, c='g')\n",
      "pl.ylabel(\"score for SVC(C=C, gamma=1e-4)\")\n",
      "pl.xlabel(\"C\")\n",
      "pl.text(1e-3, 0.5, \"Underfitting\", fontsize=16, ha='center', va='bottom')\n",
      "pl.text(1e3, 0.5, \"Few Overfitting\", fontsize=16, ha='center', va='bottom')\n",
      "pl.show()"
     ],
     "language": "python",
     "metadata": {},
     "outputs": [],
     "prompt_number": 123
    },
    {
     "cell_type": "code",
     "collapsed": false,
     "input": [
      "\n",
      "n_Cs2 = 10\n",
      "n_iter2 = 5\n",
      "cv2 = ShuffleSplit(n_subsamples, n_iter=n_iter2, train_size=500, test_size=500,\n",
      "    random_state=0)\n",
      "\n",
      "train_scores2 = np.zeros((n_Cs2, n_iter2))\n",
      "test_scores2 = np.zeros((n_Cs2, n_iter2))\n",
      "Cs2 = np.logspace(-5, 5, n_Cs2)\n",
      "\n",
      "for i, g in enumerate(Cs2):\n",
      "    for j, (train, test) in enumerate(cv2):\n",
      "        clf = SVC(C=100, gamma=g).fit(X[train], y[train])\n",
      "        train_scores2[i, j] = clf.score(X[train], y[train])\n",
      "        test_scores2[i, j] = clf.score(X[test], y[test])\n",
      "        \n",
      "        \n",
      "    "
     ],
     "language": "python",
     "metadata": {},
     "outputs": [],
     "prompt_number": 127
    },
    {
     "cell_type": "code",
     "collapsed": false,
     "input": [
      "for i in range(n_iter2):\n",
      "    pl.semilogx(Cs2, train_scores2[:, i], alpha=0.4, lw=2, c='b')\n",
      "    pl.semilogx(Cs2, test_scores2[:, i], alpha=0.4, lw=2, c='g')\n",
      "pl.ylabel(\"score for SVC(C=100, gamma=gamma)\")\n",
      "pl.xlabel(\"gamma\")\n",
      "pl.text(1e-3, 0.5, \"Usnderfitting\", fontsize=16, ha='center', va='bottom')\n",
      "pl.text(1e3, 0.5, \"Few Overfitting\", fontsize=16, ha='center', va='bottom')\n",
      "pl.show()"
     ],
     "language": "python",
     "metadata": {},
     "outputs": [],
     "prompt_number": 132
    },
    {
     "cell_type": "markdown",
     "metadata": {},
     "source": [
      "### - BY SCORE, \ucd5c\uc801\uc758 parameters\ucc3e\uae30... (file : 'SVC_params_gender_score.txt')"
     ]
    },
    {
     "cell_type": "code",
     "collapsed": false,
     "input": [
      "from pprint import pprint\n",
      "svc_params = {\n",
      "    'C': np.logspace(-2, 2, 4),\n",
      "    'gamma': np.logspace(-4, 0, 5),\n",
      "}\n",
      "pprint(svc_params)"
     ],
     "language": "python",
     "metadata": {},
     "outputs": [
      {
       "output_type": "stream",
       "stream": "stdout",
       "text": [
        "{'C': array([  1.00000000e-02,   2.15443469e-01,   4.64158883e+00,\n",
        "         1.00000000e+02]),\n",
        " 'gamma': array([  1.00000000e-04,   1.00000000e-03,   1.00000000e-02,\n",
        "         1.00000000e-01,   1.00000000e+00])}\n"
       ]
      }
     ],
     "prompt_number": 133
    },
    {
     "cell_type": "code",
     "collapsed": false,
     "input": [
      "from sklearn.grid_search import GridSearchCV\n",
      "\n",
      "gs_svc = GridSearchCV(SVC(), svc_params, cv=3, n_jobs=-1)\n",
      "\n",
      "%time _ = gs_svc.fit(X_small_train, y_small_train)\n",
      "\n",
      "gs_svc.best_params_, gs_svc.best_score_"
     ],
     "language": "python",
     "metadata": {},
     "outputs": [],
     "prompt_number": "*"
    },
    {
     "cell_type": "code",
     "collapsed": false,
     "input": [],
     "language": "python",
     "metadata": {},
     "outputs": []
    },
    {
     "cell_type": "markdown",
     "metadata": {},
     "source": [
      "### - SVC Model \uc0dd\uc131, SAVE clf. files"
     ]
    },
    {
     "cell_type": "code",
     "collapsed": false,
     "input": [
      "clf = SVC(C=100, gamma= 0.0001, max_iter= -1, cache_size=2000, degree=5)\n",
      "\n",
      "\n"
     ],
     "language": "python",
     "metadata": {},
     "outputs": [],
     "prompt_number": 148
    },
    {
     "cell_type": "code",
     "collapsed": false,
     "input": [
      "rbf_svc = clf.fit(X_small_train, y_small_train)\n",
      "rbf_svc.score(X_small_train,y_small_train), rbf_svc.score(X[20000:30000],y[20000:30000])\n",
      "\n",
      "\n"
     ],
     "language": "python",
     "metadata": {},
     "outputs": [],
     "prompt_number": "*"
    },
    {
     "cell_type": "code",
     "collapsed": false,
     "input": [],
     "language": "python",
     "metadata": {},
     "outputs": [
      {
       "ename": "NameError",
       "evalue": "name 'X_train' is not defined",
       "output_type": "pyerr",
       "traceback": [
        "\u001b[0;31m---------------------------------------------------------------------------\u001b[0m\n\u001b[0;31mNameError\u001b[0m                                 Traceback (most recent call last)",
        "\u001b[0;32m<ipython-input-140-3a0c8cad88d6>\u001b[0m in \u001b[0;36m<module>\u001b[0;34m()\u001b[0m\n\u001b[0;32m----> 1\u001b[0;31m \u001b[0mrbf_svc\u001b[0m\u001b[0;34m.\u001b[0m\u001b[0mscore\u001b[0m\u001b[0;34m(\u001b[0m\u001b[0mX_train\u001b[0m\u001b[0;34m,\u001b[0m\u001b[0my_train\u001b[0m\u001b[0;34m)\u001b[0m\u001b[0;34m,\u001b[0m \u001b[0mL_svc\u001b[0m\u001b[0;34m.\u001b[0m\u001b[0mscore\u001b[0m\u001b[0;34m(\u001b[0m\u001b[0mX\u001b[0m\u001b[0;34m[\u001b[0m\u001b[0;36m20000\u001b[0m\u001b[0;34m:\u001b[0m\u001b[0;36m30000\u001b[0m\u001b[0;34m]\u001b[0m\u001b[0;34m,\u001b[0m\u001b[0my\u001b[0m\u001b[0;34m[\u001b[0m\u001b[0;36m20000\u001b[0m\u001b[0;34m:\u001b[0m\u001b[0;36m30000\u001b[0m\u001b[0;34m]\u001b[0m\u001b[0;34m)\u001b[0m\u001b[0;34m\u001b[0m\u001b[0m\n\u001b[0m",
        "\u001b[0;31mNameError\u001b[0m: name 'X_train' is not defined"
       ]
      }
     ],
     "prompt_number": 140
    },
    {
     "cell_type": "code",
     "collapsed": false,
     "input": [
      "from sklearn.externals import joblib\n",
      "\n",
      "filename = \"my_model.pkl\"\n",
      "joblib.dump(clf, filename, compress=9)"
     ],
     "language": "python",
     "metadata": {},
     "outputs": []
    },
    {
     "cell_type": "code",
     "collapsed": false,
     "input": [],
     "language": "python",
     "metadata": {},
     "outputs": []
    },
    {
     "cell_type": "code",
     "collapsed": false,
     "input": [],
     "language": "python",
     "metadata": {},
     "outputs": []
    },
    {
     "cell_type": "code",
     "collapsed": false,
     "input": [],
     "language": "python",
     "metadata": {},
     "outputs": []
    },
    {
     "cell_type": "code",
     "collapsed": false,
     "input": [],
     "language": "python",
     "metadata": {},
     "outputs": []
    },
    {
     "cell_type": "code",
     "collapsed": false,
     "input": [
      "cd"
     ],
     "language": "python",
     "metadata": {},
     "outputs": [
      {
       "output_type": "stream",
       "stream": "stdout",
       "text": [
        "/Users/jeongmingi\n"
       ]
      }
     ],
     "prompt_number": 53
    },
    {
     "cell_type": "code",
     "collapsed": false,
     "input": [
      "import pickle\n",
      "EF_table = pickle.load(file('desktop/datamining/pickles/entityid_featureid.pkl'))"
     ],
     "language": "python",
     "metadata": {},
     "outputs": [],
     "prompt_number": 54
    },
    {
     "cell_type": "markdown",
     "metadata": {},
     "source": []
    },
    {
     "cell_type": "markdown",
     "metadata": {},
     "source": [
      "- how to use pickle files of 'entityid_featureid.pkl' file.  \n",
      "\n",
      ">import numpy as np \n",
      "\n",
      ">c = '1658496' \n",
      "\n",
      ">i_c = int(c)  #c == str(i_c)\n"
     ]
    },
    {
     "cell_type": "code",
     "collapsed": false,
     "input": [
      "i_c = 1658496\n",
      "EF_table[str(i_c)]"
     ],
     "language": "python",
     "metadata": {},
     "outputs": [
      {
       "metadata": {},
       "output_type": "pyout",
       "prompt_number": 55,
       "text": [
        "1"
       ]
      }
     ],
     "prompt_number": 55
    },
    {
     "cell_type": "code",
     "collapsed": false,
     "input": [
      "from sklearn.externals import joblib\n",
      "filename = \"desktop/datamining/studied/my_model10000.pkl\"\n",
      "clf = joblib.load(filename)"
     ],
     "language": "python",
     "metadata": {},
     "outputs": [],
     "prompt_number": 56
    },
    {
     "cell_type": "code",
     "collapsed": false,
     "input": [
      "uapp = pickle.load(file('desktop/data/user_app.df'))"
     ],
     "language": "python",
     "metadata": {},
     "outputs": [],
     "prompt_number": 57
    },
    {
     "cell_type": "code",
     "collapsed": false,
     "input": [
      "######### !user_app\uc744 1000\uac1c\ub85c \ud55c\uc815...\n",
      "#####\n",
      "\n",
      "#uapp = uapp[:1000]"
     ],
     "language": "python",
     "metadata": {},
     "outputs": [],
     "prompt_number": 58
    },
    {
     "cell_type": "code",
     "collapsed": false,
     "input": [
      "user_id = uapp['user_id']"
     ],
     "language": "python",
     "metadata": {},
     "outputs": [],
     "prompt_number": 59
    },
    {
     "cell_type": "code",
     "collapsed": false,
     "input": [
      "#uapp[uapp.apply(lambda x: x['user_id'] == 2007318, axis=1)]"
     ],
     "language": "python",
     "metadata": {},
     "outputs": [],
     "prompt_number": 60
    },
    {
     "cell_type": "code",
     "collapsed": false,
     "input": [
      "user_id = user_id.unique()"
     ],
     "language": "python",
     "metadata": {},
     "outputs": [],
     "prompt_number": 61
    },
    {
     "cell_type": "code",
     "collapsed": false,
     "input": [
      "user_id = user_id[:2]\n",
      "\n",
      "\n",
      "user_id"
     ],
     "language": "python",
     "metadata": {},
     "outputs": [
      {
       "metadata": {},
       "output_type": "pyout",
       "prompt_number": 62,
       "text": [
        "array([2007318, 5188098])"
       ]
      }
     ],
     "prompt_number": 62
    },
    {
     "cell_type": "markdown",
     "metadata": {},
     "source": [
      "- Too slow... run... \n",
      "\n",
      ">user = uapp[uapp.apply(lambda x: x['user_id'] == 2007318, axis=1)]  \n",
      "\n",
      ">user.shape\n",
      "\n",
      "@########## user\ub97c n(3)\uba85\uc73c\ub85c \ud55c\uc815... ###########  \n",
      "@#take runtime long...  \n",
      ">user_id = user_id[:2]  \n",
      ">for i in user_id:  \n",
      ">>user = uapp[uapp.apply(lambda x: x['user_id'] == i, axis=1)]\n",
      "    "
     ]
    },
    {
     "cell_type": "code",
     "collapsed": false,
     "input": [
      "a = []"
     ],
     "language": "python",
     "metadata": {},
     "outputs": [],
     "prompt_number": 63
    },
    {
     "cell_type": "code",
     "collapsed": false,
     "input": [
      "#for i in user_id:\n",
      "#    a.append(uapp[uapp.apply(lambda x: x['user_id'] == i, axis=1)])\n",
      "    "
     ],
     "language": "python",
     "metadata": {},
     "outputs": [],
     "prompt_number": 64
    },
    {
     "cell_type": "code",
     "collapsed": false,
     "input": [
      "for i in user_id:\n",
      "    user = uapp.ix[(uapp['user_id']==i)]"
     ],
     "language": "python",
     "metadata": {},
     "outputs": [],
     "prompt_number": 65
    },
    {
     "cell_type": "code",
     "collapsed": false,
     "input": [
      "X_test = (0 , list(user.entity_id.unique()))"
     ],
     "language": "python",
     "metadata": {},
     "outputs": [],
     "prompt_number": 66
    },
    {
     "cell_type": "code",
     "collapsed": false,
     "input": [
      "user"
     ],
     "language": "python",
     "metadata": {},
     "outputs": [
      {
       "html": [
        "<div style=\"max-height:1000px;max-width:1500px;overflow:auto;\">\n",
        "<table border=\"1\" class=\"dataframe\">\n",
        "  <thead>\n",
        "    <tr style=\"text-align: right;\">\n",
        "      <th></th>\n",
        "      <th>create_date</th>\n",
        "      <th>update_date</th>\n",
        "      <th>user_id</th>\n",
        "      <th>entity_id</th>\n",
        "      <th>usage</th>\n",
        "      <th>is_deleted</th>\n",
        "    </tr>\n",
        "  </thead>\n",
        "  <tbody>\n",
        "    <tr>\n",
        "      <th>3      </th>\n",
        "      <td> 20130604154430</td>\n",
        "      <td> 20130730144616</td>\n",
        "      <td> 5188098</td>\n",
        "      <td> 1526678</td>\n",
        "      <td> 1</td>\n",
        "      <td> False</td>\n",
        "    </tr>\n",
        "    <tr>\n",
        "      <th>410458 </th>\n",
        "      <td> 20130621205451</td>\n",
        "      <td> 20130730105313</td>\n",
        "      <td> 5188098</td>\n",
        "      <td> 1525735</td>\n",
        "      <td> 1</td>\n",
        "      <td>  True</td>\n",
        "    </tr>\n",
        "    <tr>\n",
        "      <th>681695 </th>\n",
        "      <td> 20130625165131</td>\n",
        "      <td> 20130730105313</td>\n",
        "      <td> 5188098</td>\n",
        "      <td> 1615192</td>\n",
        "      <td> 0</td>\n",
        "      <td>  True</td>\n",
        "    </tr>\n",
        "    <tr>\n",
        "      <th>799732 </th>\n",
        "      <td> 20130604154430</td>\n",
        "      <td> 20130730144616</td>\n",
        "      <td> 5188098</td>\n",
        "      <td> 1527791</td>\n",
        "      <td> 5</td>\n",
        "      <td> False</td>\n",
        "    </tr>\n",
        "    <tr>\n",
        "      <th>909801 </th>\n",
        "      <td> 20130604154430</td>\n",
        "      <td> 20130730105313</td>\n",
        "      <td> 5188098</td>\n",
        "      <td> 1602603</td>\n",
        "      <td> 0</td>\n",
        "      <td>  True</td>\n",
        "    </tr>\n",
        "    <tr>\n",
        "      <th>909802 </th>\n",
        "      <td> 20130604154430</td>\n",
        "      <td> 20130730105313</td>\n",
        "      <td> 5188098</td>\n",
        "      <td> 1605183</td>\n",
        "      <td> 0</td>\n",
        "      <td>  True</td>\n",
        "    </tr>\n",
        "    <tr>\n",
        "      <th>909803 </th>\n",
        "      <td> 20130604154430</td>\n",
        "      <td> 20130730105313</td>\n",
        "      <td> 5188098</td>\n",
        "      <td> 1465744</td>\n",
        "      <td> 0</td>\n",
        "      <td>  True</td>\n",
        "    </tr>\n",
        "    <tr>\n",
        "      <th>909804 </th>\n",
        "      <td> 20130702000351</td>\n",
        "      <td> 20130730105313</td>\n",
        "      <td> 5188098</td>\n",
        "      <td> 1425901</td>\n",
        "      <td> 0</td>\n",
        "      <td>  True</td>\n",
        "    </tr>\n",
        "    <tr>\n",
        "      <th>968353 </th>\n",
        "      <td> 20130604154430</td>\n",
        "      <td> 20130730105313</td>\n",
        "      <td> 5188098</td>\n",
        "      <td> 1601789</td>\n",
        "      <td> 0</td>\n",
        "      <td>  True</td>\n",
        "    </tr>\n",
        "    <tr>\n",
        "      <th>1263677</th>\n",
        "      <td> 20130604154430</td>\n",
        "      <td> 20130730105313</td>\n",
        "      <td> 5188098</td>\n",
        "      <td> 1682202</td>\n",
        "      <td> 0</td>\n",
        "      <td>  True</td>\n",
        "    </tr>\n",
        "    <tr>\n",
        "      <th>1263678</th>\n",
        "      <td> 20130604154430</td>\n",
        "      <td> 20130730105313</td>\n",
        "      <td> 5188098</td>\n",
        "      <td> 1601823</td>\n",
        "      <td> 0</td>\n",
        "      <td>  True</td>\n",
        "    </tr>\n",
        "    <tr>\n",
        "      <th>1263679</th>\n",
        "      <td> 20130604154430</td>\n",
        "      <td> 20130730105313</td>\n",
        "      <td> 5188098</td>\n",
        "      <td> 1524534</td>\n",
        "      <td> 0</td>\n",
        "      <td>  True</td>\n",
        "    </tr>\n",
        "    <tr>\n",
        "      <th>3067405</th>\n",
        "      <td> 20130604154430</td>\n",
        "      <td> 20130730144616</td>\n",
        "      <td> 5188098</td>\n",
        "      <td> 1615182</td>\n",
        "      <td> 5</td>\n",
        "      <td> False</td>\n",
        "    </tr>\n",
        "    <tr>\n",
        "      <th>4582463</th>\n",
        "      <td> 20130608001019</td>\n",
        "      <td> 20130730105313</td>\n",
        "      <td> 5188098</td>\n",
        "      <td> 1774700</td>\n",
        "      <td> 0</td>\n",
        "      <td>  True</td>\n",
        "    </tr>\n",
        "    <tr>\n",
        "      <th>4582464</th>\n",
        "      <td> 20130604154430</td>\n",
        "      <td> 20130730105313</td>\n",
        "      <td> 5188098</td>\n",
        "      <td> 1501291</td>\n",
        "      <td> 0</td>\n",
        "      <td>  True</td>\n",
        "    </tr>\n",
        "    <tr>\n",
        "      <th>4582465</th>\n",
        "      <td> 20130604154430</td>\n",
        "      <td> 20130730105313</td>\n",
        "      <td> 5188098</td>\n",
        "      <td> 1814676</td>\n",
        "      <td> 0</td>\n",
        "      <td>  True</td>\n",
        "    </tr>\n",
        "    <tr>\n",
        "      <th>4582466</th>\n",
        "      <td> 20130604154430</td>\n",
        "      <td> 20130730105313</td>\n",
        "      <td> 5188098</td>\n",
        "      <td> 1525684</td>\n",
        "      <td> 0</td>\n",
        "      <td>  True</td>\n",
        "    </tr>\n",
        "    <tr>\n",
        "      <th>4582467</th>\n",
        "      <td> 20130604154430</td>\n",
        "      <td> 20130730105313</td>\n",
        "      <td> 5188098</td>\n",
        "      <td> 1671610</td>\n",
        "      <td> 0</td>\n",
        "      <td>  True</td>\n",
        "    </tr>\n",
        "    <tr>\n",
        "      <th>4935691</th>\n",
        "      <td> 20130726130434</td>\n",
        "      <td> 20130730105313</td>\n",
        "      <td> 5188098</td>\n",
        "      <td> 1522474</td>\n",
        "      <td> 0</td>\n",
        "      <td>  True</td>\n",
        "    </tr>\n",
        "    <tr>\n",
        "      <th>4935692</th>\n",
        "      <td> 20130726130434</td>\n",
        "      <td> 20130730105313</td>\n",
        "      <td> 5188098</td>\n",
        "      <td> 1525584</td>\n",
        "      <td> 0</td>\n",
        "      <td>  True</td>\n",
        "    </tr>\n",
        "    <tr>\n",
        "      <th>4935693</th>\n",
        "      <td> 20130608001019</td>\n",
        "      <td> 20130730105313</td>\n",
        "      <td> 5188098</td>\n",
        "      <td> 1845721</td>\n",
        "      <td> 0</td>\n",
        "      <td>  True</td>\n",
        "    </tr>\n",
        "    <tr>\n",
        "      <th>4935694</th>\n",
        "      <td> 20130616061222</td>\n",
        "      <td> 20130730105313</td>\n",
        "      <td> 5188098</td>\n",
        "      <td> 1864692</td>\n",
        "      <td> 0</td>\n",
        "      <td>  True</td>\n",
        "    </tr>\n",
        "    <tr>\n",
        "      <th>4935695</th>\n",
        "      <td> 20130604154430</td>\n",
        "      <td> 20130730105313</td>\n",
        "      <td> 5188098</td>\n",
        "      <td> 1607679</td>\n",
        "      <td> 0</td>\n",
        "      <td>  True</td>\n",
        "    </tr>\n",
        "    <tr>\n",
        "      <th>5050419</th>\n",
        "      <td> 20130604154430</td>\n",
        "      <td> 20130728200940</td>\n",
        "      <td> 5188098</td>\n",
        "      <td> 1522603</td>\n",
        "      <td> 4</td>\n",
        "      <td> False</td>\n",
        "    </tr>\n",
        "    <tr>\n",
        "      <th>5050420</th>\n",
        "      <td> 20130604154430</td>\n",
        "      <td> 20130728200940</td>\n",
        "      <td> 5188098</td>\n",
        "      <td> 1522479</td>\n",
        "      <td> 4</td>\n",
        "      <td> False</td>\n",
        "    </tr>\n",
        "    <tr>\n",
        "      <th>5050421</th>\n",
        "      <td> 20130604154430</td>\n",
        "      <td> 20130728200940</td>\n",
        "      <td> 5188098</td>\n",
        "      <td> 1602388</td>\n",
        "      <td> 1</td>\n",
        "      <td> False</td>\n",
        "    </tr>\n",
        "    <tr>\n",
        "      <th>5050422</th>\n",
        "      <td> 20130604154430</td>\n",
        "      <td> 20130728200940</td>\n",
        "      <td> 5188098</td>\n",
        "      <td> 1522331</td>\n",
        "      <td> 3</td>\n",
        "      <td> False</td>\n",
        "    </tr>\n",
        "    <tr>\n",
        "      <th>5050452</th>\n",
        "      <td> 20130604154430</td>\n",
        "      <td> 20130730144616</td>\n",
        "      <td> 5188098</td>\n",
        "      <td> 1522470</td>\n",
        "      <td> 5</td>\n",
        "      <td> False</td>\n",
        "    </tr>\n",
        "    <tr>\n",
        "      <th>6674191</th>\n",
        "      <td> 20130604154430</td>\n",
        "      <td> 20130730105313</td>\n",
        "      <td> 5188098</td>\n",
        "      <td> 1525518</td>\n",
        "      <td> 0</td>\n",
        "      <td>  True</td>\n",
        "    </tr>\n",
        "    <tr>\n",
        "      <th>8194434</th>\n",
        "      <td> 20130604154430</td>\n",
        "      <td> 20130730105313</td>\n",
        "      <td> 5188098</td>\n",
        "      <td> 1491138</td>\n",
        "      <td> 0</td>\n",
        "      <td>  True</td>\n",
        "    </tr>\n",
        "    <tr>\n",
        "      <th>8194458</th>\n",
        "      <td> 20130604154430</td>\n",
        "      <td> 20130730105313</td>\n",
        "      <td> 5188098</td>\n",
        "      <td> 1601741</td>\n",
        "      <td> 0</td>\n",
        "      <td>  True</td>\n",
        "    </tr>\n",
        "    <tr>\n",
        "      <th>8194482</th>\n",
        "      <td> 20130604154430</td>\n",
        "      <td> 20130730105313</td>\n",
        "      <td> 5188098</td>\n",
        "      <td> 1682132</td>\n",
        "      <td> 0</td>\n",
        "      <td>  True</td>\n",
        "    </tr>\n",
        "    <tr>\n",
        "      <th>8194483</th>\n",
        "      <td> 20130604154430</td>\n",
        "      <td> 20130730105313</td>\n",
        "      <td> 5188098</td>\n",
        "      <td> 1601873</td>\n",
        "      <td> 0</td>\n",
        "      <td>  True</td>\n",
        "    </tr>\n",
        "    <tr>\n",
        "      <th>8194509</th>\n",
        "      <td> 20130604154430</td>\n",
        "      <td> 20130730105313</td>\n",
        "      <td> 5188098</td>\n",
        "      <td> 1601913</td>\n",
        "      <td> 0</td>\n",
        "      <td>  True</td>\n",
        "    </tr>\n",
        "    <tr>\n",
        "      <th>8194526</th>\n",
        "      <td> 20130604154430</td>\n",
        "      <td> 20130730105313</td>\n",
        "      <td> 5188098</td>\n",
        "      <td> 1529340</td>\n",
        "      <td> 0</td>\n",
        "      <td>  True</td>\n",
        "    </tr>\n",
        "    <tr>\n",
        "      <th>9210871</th>\n",
        "      <td> 20130604154430</td>\n",
        "      <td> 20130730105313</td>\n",
        "      <td> 5188098</td>\n",
        "      <td> 1529339</td>\n",
        "      <td> 0</td>\n",
        "      <td>  True</td>\n",
        "    </tr>\n",
        "  </tbody>\n",
        "</table>\n",
        "</div>"
       ],
       "metadata": {},
       "output_type": "pyout",
       "prompt_number": 67,
       "text": [
        "            create_date     update_date  user_id  entity_id  usage is_deleted\n",
        "3        20130604154430  20130730144616  5188098    1526678      1      False\n",
        "410458   20130621205451  20130730105313  5188098    1525735      1       True\n",
        "681695   20130625165131  20130730105313  5188098    1615192      0       True\n",
        "799732   20130604154430  20130730144616  5188098    1527791      5      False\n",
        "909801   20130604154430  20130730105313  5188098    1602603      0       True\n",
        "909802   20130604154430  20130730105313  5188098    1605183      0       True\n",
        "909803   20130604154430  20130730105313  5188098    1465744      0       True\n",
        "909804   20130702000351  20130730105313  5188098    1425901      0       True\n",
        "968353   20130604154430  20130730105313  5188098    1601789      0       True\n",
        "1263677  20130604154430  20130730105313  5188098    1682202      0       True\n",
        "1263678  20130604154430  20130730105313  5188098    1601823      0       True\n",
        "1263679  20130604154430  20130730105313  5188098    1524534      0       True\n",
        "3067405  20130604154430  20130730144616  5188098    1615182      5      False\n",
        "4582463  20130608001019  20130730105313  5188098    1774700      0       True\n",
        "4582464  20130604154430  20130730105313  5188098    1501291      0       True\n",
        "4582465  20130604154430  20130730105313  5188098    1814676      0       True\n",
        "4582466  20130604154430  20130730105313  5188098    1525684      0       True\n",
        "4582467  20130604154430  20130730105313  5188098    1671610      0       True\n",
        "4935691  20130726130434  20130730105313  5188098    1522474      0       True\n",
        "4935692  20130726130434  20130730105313  5188098    1525584      0       True\n",
        "4935693  20130608001019  20130730105313  5188098    1845721      0       True\n",
        "4935694  20130616061222  20130730105313  5188098    1864692      0       True\n",
        "4935695  20130604154430  20130730105313  5188098    1607679      0       True\n",
        "5050419  20130604154430  20130728200940  5188098    1522603      4      False\n",
        "5050420  20130604154430  20130728200940  5188098    1522479      4      False\n",
        "5050421  20130604154430  20130728200940  5188098    1602388      1      False\n",
        "5050422  20130604154430  20130728200940  5188098    1522331      3      False\n",
        "5050452  20130604154430  20130730144616  5188098    1522470      5      False\n",
        "6674191  20130604154430  20130730105313  5188098    1525518      0       True\n",
        "8194434  20130604154430  20130730105313  5188098    1491138      0       True\n",
        "8194458  20130604154430  20130730105313  5188098    1601741      0       True\n",
        "8194482  20130604154430  20130730105313  5188098    1682132      0       True\n",
        "8194483  20130604154430  20130730105313  5188098    1601873      0       True\n",
        "8194509  20130604154430  20130730105313  5188098    1601913      0       True\n",
        "8194526  20130604154430  20130730105313  5188098    1529340      0       True\n",
        "9210871  20130604154430  20130730105313  5188098    1529339      0       True"
       ]
      }
     ],
     "prompt_number": 67
    },
    {
     "cell_type": "code",
     "collapsed": false,
     "input": [
      "########## pickle 'entityid_featureid' uesed for translating...#######\n",
      "\n",
      "temp = []\n",
      "for i in X_test[1]:\n",
      "   c_i = str(i)\n",
      "   if(EF_table.has_key(c_i) == True):\n",
      "       temp.append(EF_table[c_i])\n",
      "   else:\n",
      "       print(i ,False)\n",
      "      \n",
      "#X_test = np.array([0, temp])\n"
     ],
     "language": "python",
     "metadata": {},
     "outputs": [
      {
       "output_type": "stream",
       "stream": "stdout",
       "text": [
        "(1814676, False)\n",
        "(1845721, False)\n",
        "(1864692, False)\n"
       ]
      }
     ],
     "prompt_number": 68
    },
    {
     "cell_type": "code",
     "collapsed": false,
     "input": [
      "temp[:10]"
     ],
     "language": "python",
     "metadata": {},
     "outputs": [
      {
       "metadata": {},
       "output_type": "pyout",
       "prompt_number": 69,
       "text": [
        "[33796, 24375, 48494, 9115, 5957, 11798, 24432, 27075, 13041, 25457]"
       ]
      }
     ],
     "prompt_number": 69
    },
    {
     "cell_type": "code",
     "collapsed": false,
     "input": [
      "import numpy as np\n",
      "n_features = 52600\n",
      "temp2 = np.zeros(n_features, dtype = np.float64)\n",
      "for i in range(n_features):\n",
      "    if((i+1) in temp):\n",
      "        temp2[i] = temp2[i] + 1\n",
      "    else:\n",
      "        temp2[i] = 0\n",
      "        "
     ],
     "language": "python",
     "metadata": {},
     "outputs": [],
     "prompt_number": 70
    },
    {
     "cell_type": "markdown",
     "metadata": {},
     "source": [
      "X_test = np.array([[0, 2],\n",
      "                   [1, 3]])\n",
      "\n",
      "X_test.shape"
     ]
    },
    {
     "cell_type": "code",
     "collapsed": false,
     "input": [
      "X_test = np.array([temp2])\n",
      "X_test.shape"
     ],
     "language": "python",
     "metadata": {},
     "outputs": [
      {
       "metadata": {},
       "output_type": "pyout",
       "prompt_number": 71,
       "text": [
        "(1, 52600)"
       ]
      }
     ],
     "prompt_number": 71
    },
    {
     "cell_type": "code",
     "collapsed": false,
     "input": [
      "clf.predict(X_test)"
     ],
     "language": "python",
     "metadata": {},
     "outputs": [
      {
       "metadata": {},
       "output_type": "pyout",
       "prompt_number": 72,
       "text": [
        "array([ 2.])"
       ]
      }
     ],
     "prompt_number": 72
    },
    {
     "cell_type": "markdown",
     "metadata": {},
     "source": [
      "X_test[0]"
     ]
    },
    {
     "cell_type": "code",
     "collapsed": false,
     "input": [
      "#X_test?"
     ],
     "language": "python",
     "metadata": {},
     "outputs": [],
     "prompt_number": 73
    },
    {
     "cell_type": "markdown",
     "metadata": {},
     "source": [
      "EF_table.keys()\n",
      "\n",
      "if(EF_table.has_key('1522331') == True):\n",
      "    \n",
      "    print('a')\n",
      "\n",
      "else:\n",
      "    \n",
      "    print('b')\n",
      "    "
     ]
    },
    {
     "cell_type": "markdown",
     "metadata": {},
     "source": [
      "# TEST clf FILES... "
     ]
    },
    {
     "cell_type": "code",
     "collapsed": false,
     "input": [
      "cd"
     ],
     "language": "python",
     "metadata": {},
     "outputs": [
      {
       "output_type": "stream",
       "stream": "stdout",
       "text": [
        "/Users/jeongmingi\n"
       ]
      }
     ],
     "prompt_number": 77
    },
    {
     "cell_type": "code",
     "collapsed": false,
     "input": [
      "from sklearn.datasets import load_svmlight_file\t\n",
      "\n",
      "X_test, y_test = load_svmlight_file(\"Desktop/data/user_gender.txt\", n_features=52600) \n",
      "#X_small_train.shape\uc758 [0]\ubc88\uc9f8\ub294 Sample\uc218, \n",
      "                    # [1]\ubc88\uc9f8\ub294 features\uc218"
     ],
     "language": "python",
     "metadata": {},
     "outputs": [],
     "prompt_number": 80
    },
    {
     "cell_type": "code",
     "collapsed": false,
     "input": [
      "X_test.shape"
     ],
     "language": "python",
     "metadata": {},
     "outputs": [
      {
       "metadata": {},
       "output_type": "pyout",
       "prompt_number": 83,
       "text": [
        "(46984, 52600)"
       ]
      }
     ],
     "prompt_number": 83
    },
    {
     "cell_type": "code",
     "collapsed": false,
     "input": [
      "X_test[:10000].shape"
     ],
     "language": "python",
     "metadata": {},
     "outputs": []
    },
    {
     "cell_type": "code",
     "collapsed": false,
     "input": [
      "\n",
      "#print(X_train[:5])\n",
      "print(clf.predict(X_test[:10]))\n",
      "print(y_test[:10])\n"
     ],
     "language": "python",
     "metadata": {},
     "outputs": []
    },
    {
     "cell_type": "code",
     "collapsed": false,
     "input": [
      "clf.score(X_test[40000:], y_test[40000:])"
     ],
     "language": "python",
     "metadata": {},
     "outputs": [
      {
       "metadata": {},
       "output_type": "pyout",
       "prompt_number": 86,
       "text": [
        "0.80398052691867128"
       ]
      }
     ],
     "prompt_number": 86
    },
    {
     "cell_type": "code",
     "collapsed": false,
     "input": [
      "from sklearn.datasets import dump_svmlight_file\n",
      "\n",
      "f_name = \"result.dat\"\n",
      "\n",
      "dump_svmlight_file(X_test, clf.predict(X_test), f_name);\n"
     ],
     "language": "python",
     "metadata": {},
     "outputs": []
    }
   ],
   "metadata": {}
  }
 ]
}