{
 "metadata": {
  "name": "user_age_predicted"
 },
 "nbformat": 3,
 "nbformat_minor": 0,
 "worksheets": [
  {
   "cells": [
    {
     "cell_type": "code",
     "collapsed": false,
     "input": [
      "cd"
     ],
     "language": "python",
     "metadata": {},
     "outputs": [
      {
       "output_type": "stream",
       "stream": "stdout",
       "text": [
        "/Users/jeongmingi\n"
       ]
      }
     ],
     "prompt_number": 19
    },
    {
     "cell_type": "code",
     "collapsed": false,
     "input": [
      "cd Desktop/DataMining2"
     ],
     "language": "python",
     "metadata": {},
     "outputs": [
      {
       "output_type": "stream",
       "stream": "stdout",
       "text": [
        "/Users/jeongmingi/Desktop/DataMining2\n"
       ]
      }
     ],
     "prompt_number": 20
    },
    {
     "cell_type": "code",
     "collapsed": false,
     "input": [
      "import pickle"
     ],
     "language": "python",
     "metadata": {},
     "outputs": [],
     "prompt_number": 21
    },
    {
     "cell_type": "raw",
     "metadata": {},
     "source": [
      "\uc720\uc800 \ub098\uc774\ub97c \uad6c\ubd84\ud558\ub294\ub370 \uc788\uc5b4\uc11c \uc77c\ub82c\uc758 \ub098\uc774\ub97c \uad6c\ubd84\ud558\uae30\uc5d0\ub294 \uac01 class\uac04\uc758 data\uac00 \uc801\uae30 \ub54c\ubb38\uc5d0 classification(c=1.0, train_n = 6000\uac1c, 8% \uc815\ud655\ub3c4)\ubcf4\ub2e4\ub294 regression\uc774 \ud544\uc694\ud558\ub2e4.\n",
      "\ub530\ub77c\uc11c classification\uc740 10\ub300, 20\ub300, 30\ub300... \uc744 \uad6c\ubd84\ud558\ub294\ub370 \uc0ac\uc6a9\ud55c\ub2e4."
     ]
    },
    {
     "cell_type": "code",
     "collapsed": false,
     "input": [
      "from sklearn.datasets import load_svmlight_file\n",
      "X, y = load_svmlight_file(\"data/user_age.dat\")\n"
     ],
     "language": "python",
     "metadata": {},
     "outputs": [],
     "prompt_number": 22
    },
    {
     "cell_type": "code",
     "collapsed": false,
     "input": [
      "print X.shape, y.shape\n",
      "n_samples, n_features = X.shape"
     ],
     "language": "python",
     "metadata": {},
     "outputs": [
      {
       "output_type": "stream",
       "stream": "stdout",
       "text": [
        "(42934, 49683) (42934,)\n"
       ]
      }
     ],
     "prompt_number": 23
    },
    {
     "cell_type": "code",
     "collapsed": false,
     "input": [
      "ls"
     ],
     "language": "python",
     "metadata": {},
     "outputs": [
      {
       "output_type": "stream",
       "stream": "stdout",
       "text": [
        "558691_589646044379538_942129678_n-1.jpg\r\n",
        "\u001b[34mDataMining\u001b[m\u001b[m/\r\n",
        "\u001b[30m\u001b[43mDataMining2\u001b[m\u001b[m/\r\n",
        "\u001b[30m\u001b[43mNPKI\u001b[m\u001b[m/\r\n",
        "Untitled0.ipynb\r\n",
        "Untitled1.ipynb\r\n",
        "Untitled2.ipynb\r\n",
        "Untitled3.ipynb\r\n",
        "adme_analysis_temp.ipynb\r\n",
        "age_my_model_70.pkl\r\n",
        "document_classification.ipynb\r\n",
        "entityid_featureid.pkl\r\n",
        "my_model.pkl\r\n",
        "my_model10000.pkl\r\n",
        "new_clustering.ipynb\r\n",
        "predicted_user_apps.ipynb\r\n",
        "user_app_predicted.df\r\n",
        "user_gender 2.txt\r\n",
        "user_gender 3.txt\r\n",
        "user_gender 4.txt\r\n",
        "user_gender 5.txt\r\n",
        "user_gender.txt\r\n",
        "user_gender7_pred\r\n"
       ]
      }
     ],
     "prompt_number": 57
    },
    {
     "cell_type": "code",
     "collapsed": false,
     "input": [
      "X_, y_ = load_svmlight_file(\"user_gender 2.txt\")"
     ],
     "language": "python",
     "metadata": {},
     "outputs": [],
     "prompt_number": 59
    },
    {
     "cell_type": "code",
     "collapsed": false,
     "input": [
      "print X_[1]"
     ],
     "language": "python",
     "metadata": {},
     "outputs": [
      {
       "output_type": "stream",
       "stream": "stdout",
       "text": [
        "  (0, 113)\t1.0\n",
        "  (0, 2216)\t1.0\n",
        "  (0, 2850)\t1.0\n",
        "  (0, 2853)\t1.0\n",
        "  (0, 3544)\t1.0\n",
        "  (0, 4605)\t1.0\n",
        "  (0, 4609)\t1.0\n",
        "  (0, 5656)\t1.0\n",
        "  (0, 6189)\t3.0\n",
        "  (0, 6491)\t1.0\n",
        "  (0, 7383)\t2.0\n",
        "  (0, 7402)\t1.0\n",
        "  (0, 7834)\t1.0\n",
        "  (0, 7903)\t1.0\n",
        "  (0, 8007)\t1.0\n",
        "  (0, 8026)\t1.0\n",
        "  (0, 8165)\t2.0\n",
        "  (0, 8679)\t5.0\n",
        "  (0, 8680)\t1.0\n",
        "  (0, 8749)\t1.0\n",
        "  (0, 8973)\t1.0\n",
        "  (0, 9114)\t11.0\n",
        "  (0, 9178)\t2.0\n",
        "  (0, 9756)\t1.0\n",
        "  (0, 9769)\t1.0\n",
        "  :\t:\n",
        "  (0, 39808)\t1.0\n",
        "  (0, 40805)\t1.0\n",
        "  (0, 40921)\t1.0\n",
        "  (0, 41145)\t9.0\n",
        "  (0, 42202)\t1.0\n",
        "  (0, 42477)\t1.0\n",
        "  (0, 42835)\t1.0\n",
        "  (0, 43465)\t1.0\n",
        "  (0, 43480)\t1.0\n",
        "  (0, 45218)\t1.0\n",
        "  (0, 46588)\t1.0\n",
        "  (0, 46994)\t1.0\n",
        "  (0, 47045)\t1.0\n",
        "  (0, 47079)\t1.0\n",
        "  (0, 47923)\t1.0\n",
        "  (0, 48218)\t1.0\n",
        "  (0, 48417)\t1.0\n",
        "  (0, 48480)\t1.0\n",
        "  (0, 48753)\t1.0\n",
        "  (0, 48754)\t1.0\n",
        "  (0, 48943)\t1.0\n",
        "  (0, 49318)\t1.0\n",
        "  (0, 49964)\t1.0\n",
        "  (0, 50338)\t1.0\n",
        "  (0, 51300)\t1.0\n"
       ]
      }
     ],
     "prompt_number": 75
    },
    {
     "cell_type": "code",
     "collapsed": false,
     "input": [
      "from sklearn.svm import LinearSVC"
     ],
     "language": "python",
     "metadata": {},
     "outputs": [],
     "prompt_number": 24
    },
    {
     "cell_type": "code",
     "collapsed": false,
     "input": [
      "import numpy as np"
     ],
     "language": "python",
     "metadata": {},
     "outputs": [],
     "prompt_number": 25
    },
    {
     "cell_type": "code",
     "collapsed": false,
     "input": [
      "from sklearn.grid_search import GridSearchCV\n",
      "from sklearn.cross_validation import train_test_split\n",
      "\n",
      "X_train, X_test, y_train, y_test = train_test_split(X,y,test_size=0.5, random_state=0)\n",
      "\n",
      "Lparam = {\n",
      "         'C': np.logspace(-5, 5, 4),\n",
      "}\n",
      "print(Lparam)\n",
      "\n",
      "gcv = GridSearchCV(LinearSVC(), Lparam, cv=3, n_jobs=-1)\n",
      "\n",
      "%time _ = gcv.fit(X_train, y_train)"
     ],
     "language": "python",
     "metadata": {},
     "outputs": [
      {
       "output_type": "stream",
       "stream": "stdout",
       "text": [
        "{'C': array([  1.00000000e-05,   2.15443469e-02,   4.64158883e+01,\n",
        "         1.00000000e+05])}\n"
       ]
      },
      {
       "output_type": "stream",
       "stream": "stdout",
       "text": [
        "CPU times: user 32.09 s, sys: 0.71 s, total: 32.80 s\n",
        "Wall time: 127.75 s\n"
       ]
      }
     ],
     "prompt_number": 41
    },
    {
     "cell_type": "code",
     "collapsed": false,
     "input": [
      "gcv.best_params_, gcv.best_score_"
     ],
     "language": "python",
     "metadata": {},
     "outputs": [
      {
       "output_type": "pyout",
       "prompt_number": 42,
       "text": [
        "({'C': 0.021544346900318846}, 0.69874703408528216)"
       ]
      }
     ],
     "prompt_number": 42
    },
    {
     "cell_type": "code",
     "collapsed": false,
     "input": [
      "L_svc = LinearSVC(C=0.021544).fit(X_train,y_train)\n",
      "L_svc.score(X_train,y_train), L_svc.score(X_test,y_test)"
     ],
     "language": "python",
     "metadata": {},
     "outputs": [
      {
       "output_type": "pyout",
       "prompt_number": 43,
       "text": [
        "(0.90632133041412399, 0.70219406530954487)"
       ]
      }
     ],
     "prompt_number": 43
    },
    {
     "cell_type": "code",
     "collapsed": false,
     "input": [
      "from sklearn.externals import joblib\n",
      "\n",
      "filename = \"age_my_model_70.pkl\"\n",
      "joblib.dump(L_svc, filename, compress=9)\n"
     ],
     "language": "python",
     "metadata": {},
     "outputs": [
      {
       "output_type": "pyout",
       "prompt_number": 47,
       "text": [
        "['age_my_model_70.pkl']"
       ]
      }
     ],
     "prompt_number": 47
    },
    {
     "cell_type": "code",
     "collapsed": false,
     "input": [
      "pwd"
     ],
     "language": "python",
     "metadata": {},
     "outputs": [
      {
       "output_type": "pyout",
       "prompt_number": 46,
       "text": [
        "u'/Users/jeongmingi/Desktop/DataMining2'"
       ]
      }
     ],
     "prompt_number": 46
    },
    {
     "cell_type": "code",
     "collapsed": false,
     "input": [],
     "language": "python",
     "metadata": {},
     "outputs": []
    }
   ],
   "metadata": {}
  }
 ]
}