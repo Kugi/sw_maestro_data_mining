{
 "metadata": {
  "name": "05_iris_classification"
 },
 "nbformat": 3,
 "nbformat_minor": 0,
 "worksheets": [
  {
   "cells": [
    {
     "cell_type": "heading",
     "level": 1,
     "metadata": {},
     "source": [
      "Supervised Learning: Classification of Iris Data"
     ]
    },
    {
     "cell_type": "markdown",
     "metadata": {},
     "source": [
      "By the end of this section you will\n",
      "\n",
      "- Know how to instantiate a scikit-learn classifier\n",
      "- Know how to train a classifier by calling the `fit(...)` method\n",
      "- Know how to predict new labels by calling the `predict(...)` method\n",
      "\n",
      "In this example we will perform classification of the iris data with several different classifiers."
     ]
    },
    {
     "cell_type": "heading",
     "level": 2,
     "metadata": {},
     "source": [
      "Linear Support Vector Classifier (SVC)"
     ]
    },
    {
     "cell_type": "markdown",
     "metadata": {},
     "source": [
      "First we'll load the iris data as we did before:"
     ]
    },
    {
     "cell_type": "code",
     "collapsed": false,
     "input": [
      "from sklearn.datasets import load_iris\n",
      "iris = load_iris()"
     ],
     "language": "python",
     "metadata": {},
     "outputs": []
    },
    {
     "cell_type": "markdown",
     "metadata": {},
     "source": [
      "In the iris dataset example, suppose we are assigned the task to guess\n",
      "the class of an individual flower given the measurements of petals and\n",
      "sepals. This is a *classification* task, hence we have:"
     ]
    },
    {
     "cell_type": "code",
     "collapsed": false,
     "input": [
      "X = iris.data\n",
      "y = iris.target\n",
      "\n",
      "print X.shape\n",
      "print y.shape"
     ],
     "language": "python",
     "metadata": {},
     "outputs": []
    },
    {
     "cell_type": "markdown",
     "metadata": {},
     "source": [
      "Once the data has this format it is trivial to train a classifier, for instance a support vector machine with a linear kernel:"
     ]
    },
    {
     "cell_type": "code",
     "collapsed": false,
     "input": [
      "from sklearn.svm import LinearSVC"
     ],
     "language": "python",
     "metadata": {},
     "outputs": []
    },
    {
     "cell_type": "markdown",
     "metadata": {},
     "source": [
      "``LinearSVC`` is an example of a scikit-learn classifier.  If you're curious about how it is used, you can use ``ipython``'s ``\"?\"`` magic function to see the documentation:"
     ]
    },
    {
     "cell_type": "code",
     "collapsed": false,
     "input": [],
     "language": "python",
     "metadata": {},
     "outputs": []
    },
    {
     "cell_type": "markdown",
     "metadata": {},
     "source": [
      "The first thing to do is to create an instance of the classifier.  This can be done simply by calling the class name, with any arguments that the object accepts:"
     ]
    },
    {
     "cell_type": "code",
     "collapsed": false,
     "input": [
      "clf = LinearSVC(loss = 'l2')"
     ],
     "language": "python",
     "metadata": {},
     "outputs": []
    },
    {
     "cell_type": "markdown",
     "metadata": {},
     "source": [
      "``clf`` is a statistical model that has parameters that control the learning algorithm (those parameters are sometimes called the *hyperparameters*). Those hyperparameters can be supplied by the user in the constructor of the model. We will explain later how to choose a good combination using either simple empirical rules or data driven selection:"
     ]
    },
    {
     "cell_type": "code",
     "collapsed": false,
     "input": [
      "print clf"
     ],
     "language": "python",
     "metadata": {},
     "outputs": []
    },
    {
     "cell_type": "markdown",
     "metadata": {},
     "source": [
      "By default the model parameters are not initialized. They will be tuned automatically from the data by calling the ``fit`` method with the data ``X`` and labels ``y``:"
     ]
    },
    {
     "cell_type": "code",
     "collapsed": false,
     "input": [
      "clf = clf.fit(X, y)"
     ],
     "language": "python",
     "metadata": {},
     "outputs": []
    },
    {
     "cell_type": "markdown",
     "metadata": {},
     "source": [
      "We can now see some of the fit parameters within the classifier object.\n",
      "\n",
      "**In scikit-learn, parameters defined by training have a trailing underscore.**"
     ]
    },
    {
     "cell_type": "code",
     "collapsed": false,
     "input": [
      "clf.coef_"
     ],
     "language": "python",
     "metadata": {},
     "outputs": []
    },
    {
     "cell_type": "code",
     "collapsed": false,
     "input": [
      "clf.intercept_"
     ],
     "language": "python",
     "metadata": {},
     "outputs": []
    },
    {
     "cell_type": "markdown",
     "metadata": {},
     "source": [
      "Once the model is trained, it can be used to predict the most likely outcome on unseen data. For instance let us define a list of simple sample that looks like the first sample of the iris dataset:"
     ]
    },
    {
     "cell_type": "code",
     "collapsed": false,
     "input": [
      "X_new = [[ 5.0,  3.6,  1.3,  0.25]]\n",
      "\n",
      "clf.predict(X_new)"
     ],
     "language": "python",
     "metadata": {},
     "outputs": []
    },
    {
     "cell_type": "markdown",
     "metadata": {},
     "source": [
      "All classification tasks involve predicting an unknown category based on observed features.\n",
      "\n",
      "Some examples of interested classification tasks:\n",
      "\n",
      "- **E-mail classification:** label email as spam, normal, priority mail\n",
      "- **Language identification:** label documents as English, Spanish, German, etc.\n",
      "- **News articles categorization:** label articles as business, technology, sports...\n",
      "- **Sentiment analysis in customer feedback:** label feedback as negative, neutral, positive\n",
      "- **Face verification in pictures:** label images as same / different person\n",
      "- **Speaker verification in voice recordings:** label recording as same / different person\n",
      "- **Astronomical Sources:** label object as star / quasar / galaxy"
     ]
    },
    {
     "cell_type": "heading",
     "level": 2,
     "metadata": {},
     "source": [
      "Exercise: Using a Different Classifier"
     ]
    },
    {
     "cell_type": "markdown",
     "metadata": {},
     "source": [
      "Now we'll take a few minutes and try out another learning model.  Because of ``scikit-learn``'s uniform interface, the syntax is identical to that of ``LinearSVC`` above.\n",
      "\n",
      "There are many possibilities of classifiers; you could try any of the methods discussed at <http://scikit-learn.org/stable/supervised_learning.html>.  Alternatively, you can explore what's available in ``scikit-learn`` using just the tab-completion feature.  For example, import the ``linear_model`` submodule:"
     ]
    },
    {
     "cell_type": "code",
     "collapsed": false,
     "input": [
      "from sklearn import linear_model"
     ],
     "language": "python",
     "metadata": {},
     "outputs": []
    },
    {
     "cell_type": "markdown",
     "metadata": {},
     "source": [
      "And use the tab completion to find what's available.  Type ``linear_model.`` and then the tab key to see an interactive list of the functions within this submodule.  The ones which begin with capital letters are the models which are available."
     ]
    },
    {
     "cell_type": "code",
     "collapsed": false,
     "input": [],
     "language": "python",
     "metadata": {},
     "outputs": []
    },
    {
     "cell_type": "markdown",
     "metadata": {},
     "source": [
      "Now select a new classifier and try out a classification of the iris data.\n",
      "\n",
      "Some good choices are\n",
      "\n",
      "- ``sklearn.naive_bayes.GaussianNB`` :\n",
      "    Gaussian Naive Bayes model. This is an unsophisticated model which can be trained very quickly.\n",
      "    It is often used to obtain baseline results before moving to a more sophisticated classifier.\n",
      "\n",
      "- ``sklearn.svm.LinearSVC`` :\n",
      "    Support Vector Machines without kernels based on liblinear\n",
      "\n",
      "- ``sklearn.svm.SVC`` :\n",
      "    Support Vector Machines with kernels based on libsvm\n",
      "\n",
      "- ``sklearn.linear_model.LogisticRegression`` :\n",
      "    Regularized Logistic Regression based on liblinear\n",
      "\n",
      "- ``sklearn.linear_model.SGDClassifier`` :\n",
      "    Regularized linear models (SVM or logistic regression) using a Stochastic Gradient Descent algorithm written in Cython\n",
      "\n",
      "- ``sklearn.neighbors.NeighborsClassifier`` :\n",
      "    k-Nearest Neighbors classifier based on the ball tree datastructure for low dimensional data and brute force search for high dimensional data\n",
      "\n",
      "- ``sklearn.tree.DecisionTreeClassifier`` :\n",
      "    A classifier based on a series of binary decisions.  This is another very fast classifier, which can be very powerful.\n",
      "\n",
      "Choose one of the above, import it, and use the ``?`` feature to learn about it."
     ]
    },
    {
     "cell_type": "code",
     "collapsed": false,
     "input": [],
     "language": "python",
     "metadata": {},
     "outputs": []
    },
    {
     "cell_type": "markdown",
     "metadata": {},
     "source": [
      "Now instantiate this model as we did with ``LinearSVC`` above."
     ]
    },
    {
     "cell_type": "code",
     "collapsed": false,
     "input": [],
     "language": "python",
     "metadata": {},
     "outputs": []
    },
    {
     "cell_type": "markdown",
     "metadata": {},
     "source": [
      "Now use our data ``X`` and ``y`` to train the model, using the ``fit(...)`` method"
     ]
    },
    {
     "cell_type": "code",
     "collapsed": false,
     "input": [],
     "language": "python",
     "metadata": {},
     "outputs": []
    },
    {
     "cell_type": "markdown",
     "metadata": {},
     "source": [
      "Now call the ``predict`` method, and find the classification of ``X_new``."
     ]
    },
    {
     "cell_type": "code",
     "collapsed": false,
     "input": [],
     "language": "python",
     "metadata": {},
     "outputs": []
    },
    {
     "cell_type": "heading",
     "level": 2,
     "metadata": {},
     "source": [
      "Probabilistic Prediction"
     ]
    },
    {
     "cell_type": "markdown",
     "metadata": {},
     "source": [
      "Some models have additional prediction modes.  For example, if ``clf`` is a ``LogisticRegression`` classifier, then it is possible to do a probibilistic prediction for any point.  This can be done through the ``predict_proba`` function:"
     ]
    },
    {
     "cell_type": "code",
     "collapsed": false,
     "input": [
      "from sklearn.linear_model import LogisticRegression\n",
      "clf2 = LogisticRegression()\n",
      "clf2.fit(X, y)\n",
      "print clf2.predict_proba(X_new)"
     ],
     "language": "python",
     "metadata": {},
     "outputs": []
    },
    {
     "cell_type": "markdown",
     "metadata": {},
     "source": [
      "The result gives the probability (between zero and one) that the test point comes from any of the three classes.\n",
      "\n",
      "This means that the model estimates that the sample in X_new has:\n",
      "\n",
      "- 90% likelyhood to belong to the \u2018setosa\u2019 class (``target = 0``)\n",
      "- 9% likelyhood to belong to the \u2018versicolor\u2019 class (``target = 1``)\n",
      "- < 1% likelyhood to belong to the \u2018virginica\u2019 class (``target = 2``)\n",
      "\n",
      "Of course, the predict method that outputs the label id of the most likely outcome is also available:"
     ]
    },
    {
     "cell_type": "code",
     "collapsed": false,
     "input": [
      "clf2.predict(X_new)"
     ],
     "language": "python",
     "metadata": {},
     "outputs": []
    },
    {
     "cell_type": "heading",
     "level": 2,
     "metadata": {},
     "source": [
      "Evaluating the Model"
     ]
    },
    {
     "cell_type": "markdown",
     "metadata": {},
     "source": [
      "Predicting a new value is nice, but how do we guage how well we've done?\n",
      "We'll explore this in more depth later, but here's a quick taste now.\n",
      "\n",
      "Let's get a rough evaluation our model by using\n",
      "it to predict the values of the training data:"
     ]
    },
    {
     "cell_type": "code",
     "collapsed": false,
     "input": [
      "y_model = clf2.predict(X)"
     ],
     "language": "python",
     "metadata": {},
     "outputs": []
    },
    {
     "cell_type": "code",
     "collapsed": false,
     "input": [
      "print y_model == y"
     ],
     "language": "python",
     "metadata": {},
     "outputs": []
    },
    {
     "cell_type": "markdown",
     "metadata": {},
     "source": [
      "We see that most of the predictions are correct!\n",
      "\n",
      "Be careful, though: what we've done here is not a very good model evaluation\n",
      "scheme.  In a later section we'll introduce a set of techniques called\n",
      "*Cross-validation*, which treats model evaluation a little bit more carefully."
     ]
    }
   ],
   "metadata": {}
  }
 ]
}