{
 "metadata": {
  "name": ""
 },
 "nbformat": 3,
 "nbformat_minor": 0,
 "worksheets": [
  {
   "cells": [
    {
     "cell_type": "code",
     "collapsed": false,
     "input": [],
     "language": "python",
     "metadata": {},
     "outputs": [],
     "prompt_number": 26
    },
    {
     "cell_type": "code",
     "collapsed": false,
     "input": [],
     "language": "python",
     "metadata": {},
     "outputs": [],
     "prompt_number": 21
    },
    {
     "cell_type": "code",
     "collapsed": false,
     "input": [],
     "language": "python",
     "metadata": {},
     "outputs": [],
     "prompt_number": 40
    },
    {
     "cell_type": "code",
     "collapsed": false,
     "input": [
      "__author__ = 'jeongmingi'\n",
      "\n",
      "import pandas as pd\n",
      "import xmlrpclib\n",
      "import pickle\n",
      "import numpy as np\n",
      "\n",
      "names = []\n",
      "males = []\n",
      "females = []\n",
      "    \n",
      "\n",
      "def graph_for_gender(frame):\n",
      "    %pylab inline\n",
      "    import pylab as pl\n",
      "    import matplotlib\n",
      "    import matplotlib.pyplot as plt\n",
      "    import pandas.tools.plotting\n",
      "    from IPython.core.display import Image\n",
      "    \n",
      "    frame.plot(kind='barh', alpha=0.5,title=''.join(u'gender for app'))\n",
      "    plt.savefig('appGender.png', dpi=100)\n",
      "    plt.show()\n",
      "    \n",
      "def graph_for_genderRate(frame):\n",
      "    frame.plot(kind='barh', stacked=True, title=''.join(u'gender rate for app'))\n",
      "    plt.savefig('appGenderRate.png', dpi=100)\n",
      "    plt.show()\n",
      "\n",
      "\n",
      "def graph_gender_rate(names, males, females):\n",
      "        #print apps          #if server witch import *.py print that commits print-command\n",
      "        temp = []\n",
      "        index_ = []\n",
      "        for i, t in enumerate(names): # can be update....\n",
      "            #male, female = self.get_count_gender(i['id'])\n",
      "            male = males[i]\n",
      "            female = females[i]\n",
      "            temp.append([male, female])\n",
      "            #t = apps['name']\n",
      "            #t = t.values\n",
      "            print t\n",
      "            t = ''.join(t)\n",
      "            index_.append(t)\n",
      "        frame = pd.DataFrame(temp, columns = ['male', 'female'],\n",
      "                             index = index_)\n",
      "        normed_ = frame.div(frame.sum(axis=1), axis=0)\n",
      "        \n",
      "        return frame, normed_\n",
      "\n",
      "\n",
      "def main():\n",
      "    \"\"\"\n",
      "        get_count_gender(app), if you input app id as app, it will return counted male, female #\n",
      "        graph_gender_rate(apps), if you input apps as list of dataframe(id, app name),\n",
      "            it will return frame that has name in index, n_male & n_female in colums\n",
      "            it will return norm_frame that has name in indext, rate of male & female in colums\n",
      "\n",
      "    \"\"\"\n",
      "    apps = pickle.load(file('data/app_info2.df'))\n",
      "    server = xmlrpclib.Server(\"http://localhost:2013/output0\")\n",
      "    \n",
      "\n",
      "    for i in apps['id'][:5]:\n",
      "        name, male, female = server.get_count_gender(int(i))\n",
      "        names.append(name)\n",
      "        males.append(male)\n",
      "        females.append(female)\n",
      "        \n",
      "    frame, n_frame = graph_gender_rate(names, males, females)\n",
      "    graph_for_gender(frame)\n",
      "    graph_for_genderRate(n_frame)\n",
      "    '''\n",
      "    dic_ = apps[:5].to_dict()       #can be update\n",
      "    #apps_ = apps[:5]\n",
      "    converted_ = []\n",
      "    for i in dic_['id']:\n",
      "        #converted_.append(int(i))\n",
      "        temp = {}\n",
      "        temp = {'id' : int(dic_['id'][i]), 'name' : str(dic_['name'][i])}\n",
      "        converted_.append(temp)\n",
      "\n",
      "    print converted_\n",
      "    frame, norm_frame = server .graph_gender_rate(converted_)\n",
      "\n",
      "\n",
      "    print frame[:], '\\n', norm_frame[:]\n",
      "    '''\n",
      "    \n",
      "    print server.system.listMethods()  #print list methods.... kk\n",
      "    \n",
      "if __name__ == \"__main__\" :\n",
      "    main()\n",
      "\n",
      "\n",
      "\n",
      "'''\n",
      "# Create an object to represent our server.\n",
      "server_url = 'http://localhost:8800';\n",
      "server = xmlrpclib.Server(server_url);\n",
      "\n",
      "# Call the server and get our result.\n",
      "result = server.sample.sumAndDifference(5, 3)\n",
      "print \"Sum:\", result['sum']\n",
      "print \"Difference:\", result['difference']\n",
      "'''"
     ],
     "language": "python",
     "metadata": {},
     "outputs": [
      {
       "output_type": "stream",
       "stream": "stdout",
       "text": [
        "100 \ubbf8\uc158 : \ub77c\uc2a4 \ubca0\uc774\uac70\uc2a4 (Las Vegas)\n",
        "\uc778\ubca0\uc774\ub354\ud5cc\ud130\n",
        "GTA Vice City Cheater\n",
        "\uc5d8\uc18c\ub4dc \uc2a4\ud0ac\ud2b8\ub9ac(\uc544\ub77c)\n",
        "\ubbf8\ub140\ubcc0\ud638\uc0ac\uc138\ub9ac\ud0b4\n",
        "Populating the interactive namespace from numpy and matplotlib\n"
       ]
      },
      {
       "metadata": {},
       "output_type": "display_data",
       "png": "[encoded data removed]",
       "text": [
        "<matplotlib.figure.Figure at 0x10acad910>"
       ]
      },
      {
       "metadata": {},
       "output_type": "display_data",
       "png": "[encoded data removed]",
       "text": [
        "<matplotlib.figure.Figure at 0x10b4a9490>"
       ]
      },
      {
       "output_type": "stream",
       "stream": "stdout",
       "text": [
        "['get_count_gender', 'graph_gender_rate', 'mul', 'system.listMethods', 'system.methodHelp', 'system.methodSignature']\n"
       ]
      },
      {
       "metadata": {},
       "output_type": "pyout",
       "prompt_number": 46,
       "text": [
        "'\\n# Create an object to represent our server.\\nserver_url = \\'http://localhost:8800\\';\\nserver = xmlrpclib.Server(server_url);\\n\\n# Call the server and get our result.\\nresult = server.sample.sumAndDifference(5, 3)\\nprint \"Sum:\", result[\\'sum\\']\\nprint \"Difference:\", result[\\'difference\\']\\n'"
       ]
      }
     ],
     "prompt_number": 46
    },
    {
     "cell_type": "code",
     "collapsed": false,
     "input": [],
     "language": "python",
     "metadata": {},
     "outputs": [],
     "prompt_number": 27
    }
   ],
   "metadata": {}
  }
 ]
}